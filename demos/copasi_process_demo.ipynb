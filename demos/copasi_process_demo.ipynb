{
 "cells": [
  {
   "cell_type": "code",
   "execution_count": 1,
   "id": "40898635d17c0f08",
   "metadata": {
    "collapsed": false,
    "ExecuteTime": {
     "end_time": "2024-05-02T17:46:15.246340Z",
     "start_time": "2024-05-02T17:46:15.195226Z"
    }
   },
   "outputs": [],
   "source": [
    "import sys\n",
    "sys.path.insert(0, '..')\n",
    "\n",
    "import os\n",
    "import requests\n",
    "import json"
   ]
  },
  {
   "cell_type": "code",
   "execution_count": 2,
   "id": "initial_id",
   "metadata": {
    "collapsed": true,
    "ExecuteTime": {
     "end_time": "2024-05-02T17:46:18.648654Z",
     "start_time": "2024-05-02T17:46:15.382959Z"
    }
   },
   "outputs": [
    {
     "name": "stdout",
     "output_type": "stream",
     "text": [
      "CobraProcess registered successfully.\n",
      "CopasiProcess registered successfully.\n",
      "SmoldynProcess not available. Error: \n",
      "PLEASE NOTE: Smoldyn is not correctly installed on your system which prevents you from using the SmoldynProcess. Please refer to the README for further information on installing Smoldyn.\n",
      "TelluriumProcess registered successfully.\n"
     ]
    }
   ],
   "source": [
    "from biosimulator_processes.utils import prepare_single_copasi_process_schema\n",
    "from biosimulator_processes import CORE\n",
    "from process_bigraph import Composite, pp"
   ]
  },
  {
   "cell_type": "markdown",
   "id": "c7dca241b02a7265",
   "metadata": {},
   "source": [
    "#### Step 1: Define the document to be read by the Composite, which is implemented by the Process."
   ]
  },
  {
   "cell_type": "code",
   "execution_count": 3,
   "id": "2633feac24b596a6",
   "metadata": {
    "ExecuteTime": {
     "end_time": "2024-05-02T17:46:18.651630Z",
     "start_time": "2024-05-02T17:46:18.643502Z"
    }
   },
   "outputs": [
    {
     "data": {
      "text/plain": "{'copasi_A': {'_type': 'process',\n  'address': 'local:copasi',\n  'config': {'model': {'model_source': '../biosimulator_processes/model_files/sbml/BIOMD0000000630_url.xml'},\n   'method': 'lsoda',\n   'species_context': 'concentrations'},\n  'inputs': {'floating_species_concentrations': ['floating_species_concentrations_store'],\n   'model_parameters': ['model_parameters_store'],\n   'time': ['time_store'],\n   'reactions': ['reactions_store']},\n  'outputs': {'floating_species_concentrations': ['floating_species_concentrations_store'],\n   'time': ['time_store']}},\n 'emitter': {'emitter': {'_type': 'step',\n   'address': 'local:ram-emitter',\n   'config': {'emit': {'floating_species_concentrations': 'tree[float]',\n     'time': 'float'}},\n   'inputs': {'floating_species_concentrations': ['floating_species_concentrations_store'],\n    'time': ['time_store']}}}}"
     },
     "execution_count": 3,
     "metadata": {},
     "output_type": "execute_result"
    }
   ],
   "source": [
    "biomodel_id = 'BIOMD0000000630'\n",
    "model_fp = f'../biosimulator_processes/model_files/sbml/{biomodel_id}_url.xml'\n",
    "species_context = 'concentrations'\n",
    "species_port_name = f'floating_species_{species_context}'\n",
    "species_store = [f'floating_species_{species_context}_store']\n",
    "duration = 30\n",
    "\n",
    "document = prepare_single_copasi_process_schema(\n",
    "    process_name='copasi_A',\n",
    "    sbml_model_fp=model_fp)\n",
    "\n",
    "document"
   ]
  },
  {
   "cell_type": "markdown",
   "id": "e502cb54666345af",
   "metadata": {},
   "source": [
    "\n",
    "\n",
    "#### Step 2: Define the instance composition along with the process registry"
   ]
  },
  {
   "cell_type": "code",
   "execution_count": 4,
   "id": "bd91dca0be22cd27",
   "metadata": {
    "ExecuteTime": {
     "end_time": "2024-05-02T17:40:47.750756Z",
     "start_time": "2024-05-02T17:40:47.687910Z"
    }
   },
   "outputs": [
    {
     "name": "stdout",
     "output_type": "stream",
     "text": [
      "found a filepath\n"
     ]
    }
   ],
   "source": [
    "workflow = Composite(\n",
    "    config={'state': document},\n",
    "    core=CORE\n",
    ")"
   ]
  },
  {
   "cell_type": "markdown",
   "id": "857667277d39c647",
   "metadata": {},
   "source": [
    "#### Step 3: Run the workflow for a duration and get the results"
   ]
  },
  {
   "cell_type": "code",
   "execution_count": 5,
   "id": "7c6f72142af0616b",
   "metadata": {
    "ExecuteTime": {
     "end_time": "2024-05-02T17:40:48.035636Z",
     "start_time": "2024-05-02T17:40:47.887576Z"
    }
   },
   "outputs": [
    {
     "name": "stderr",
     "output_type": "stream",
     "text": [
      "/Users/alex/Desktop/uchc_work/repos/biosimulator-processes/demos/../biosimulator_processes/processes/copasi_process.py:249: FutureWarning:\n",
      "\n",
      "Series.__getitem__ treating keys as positions is deprecated. In a future version, integer keys will always be treated as labels (consistent with DataFrame behavior). To access a value by position, use `ser.iloc[pos]`\n",
      "\n"
     ]
    }
   ],
   "source": [
    "workflow.run(duration)\n",
    "\n",
    "results = workflow.gather_results()"
   ]
  },
  {
   "cell_type": "code",
   "execution_count": 6,
   "id": "c7a254aee3009b8c",
   "metadata": {
    "ExecuteTime": {
     "end_time": "2024-05-02T02:22:57.402016Z",
     "start_time": "2024-05-02T02:22:57.387107Z"
    }
   },
   "outputs": [
    {
     "name": "stdout",
     "output_type": "stream",
     "text": [
      "{}\n"
     ]
    }
   ],
   "source": [
    "pp(results)"
   ]
  },
  {
   "cell_type": "code",
   "execution_count": 7,
   "id": "76259bde7fd711f5",
   "metadata": {
    "ExecuteTime": {
     "end_time": "2024-05-02T02:22:59.583591Z",
     "start_time": "2024-05-02T02:22:59.423936Z"
    }
   },
   "outputs": [
    {
     "ename": "KeyError",
     "evalue": "'instance'",
     "output_type": "error",
     "traceback": [
      "\u001B[0;31m---------------------------------------------------------------------------\u001B[0m",
      "\u001B[0;31mKeyError\u001B[0m                                  Traceback (most recent call last)",
      "Cell \u001B[0;32mIn[7], line 1\u001B[0m\n\u001B[0;32m----> 1\u001B[0m emitter \u001B[38;5;241m=\u001B[39m \u001B[43mworkflow\u001B[49m\u001B[38;5;241;43m.\u001B[39;49m\u001B[43mstate\u001B[49m\u001B[43m[\u001B[49m\u001B[38;5;124;43m'\u001B[39;49m\u001B[38;5;124;43memitter\u001B[39;49m\u001B[38;5;124;43m'\u001B[39;49m\u001B[43m]\u001B[49m\u001B[43m[\u001B[49m\u001B[38;5;124;43m'\u001B[39;49m\u001B[38;5;124;43minstance\u001B[39;49m\u001B[38;5;124;43m'\u001B[39;49m\u001B[43m]\u001B[49m\n",
      "\u001B[0;31mKeyError\u001B[0m: 'instance'"
     ]
    }
   ],
   "source": [
    "emitter = workflow.state['emitter']['instance']"
   ]
  },
  {
   "cell_type": "code",
   "execution_count": 15,
   "id": "7924d2e8b42e432d",
   "metadata": {
    "ExecuteTime": {
     "end_time": "2024-05-02T02:28:40.448604Z",
     "start_time": "2024-05-02T02:28:40.443409Z"
    }
   },
   "outputs": [
    {
     "data": {
      "text/plain": "{'floating_species_concentrations_store': {'plasminogen': 0.0,\n  'plasmin': 0.0,\n  'single intact chain urokinase-type plasminogen activator': 0.0,\n  'two-chain urokinase-type plasminogen activator': 0.0,\n  'x': 0.0,\n  'x-plasmin': 0.0},\n 'model_parameters_store': {'degradation constant 1': 0.0,\n  'degradation constant 2': 0.0,\n  'hill cooperativity': 0.0},\n 'time_store': 30.0,\n 'copasi_A': {'_type': 'process',\n  'address': 'local:copasi',\n  'config': {'model': {'model_source': '../biosimulator_processes/model_files/sbml/BIOMD0000000630_url.xml',\n    'model_id': '',\n    'model_language': 'sbml',\n    'model_name': 'composite_process_model',\n    'model_changes': {'species_changes': {},\n     'global_parameter_changes': {},\n     'reaction_changes': {}},\n    'model_units': {}},\n   'method': 'lsoda',\n   'species_context': 'concentrations'},\n  'inputs': {'floating_species_concentrations': ['floating_species_concentrations_store'],\n   'model_parameters': ['model_parameters_store'],\n   'time': ['time_store'],\n   'reactions': ['reactions_store']},\n  'outputs': {'floating_species_concentrations': ['floating_species_concentrations_store'],\n   'time': ['time_store']},\n  'instance': <biosimulator_processes.processes.copasi_process.CopasiProcess at 0x107887e50>,\n  'interval': 1.0,\n  '_inputs': {'time': 'float',\n   'floating_species_concentrations': {'plasminogen': {'_type': 'float',\n     '_apply': 'set'},\n    'plasmin': {'_type': 'float', '_apply': 'set'},\n    'single intact chain urokinase-type plasminogen activator': {'_type': 'float',\n     '_apply': 'set'},\n    'two-chain urokinase-type plasminogen activator': {'_type': 'float',\n     '_apply': 'set'},\n    'x': {'_type': 'float', '_apply': 'set'},\n    'x-plasmin': {'_type': 'float', '_apply': 'set'}},\n   'model_parameters': {'degradation constant 1': {'_type': 'float',\n     '_apply': 'set'},\n    'degradation constant 2': {'_type': 'float', '_apply': 'set'},\n    'hill cooperativity': {'_type': 'float', '_apply': 'set'}},\n   'reactions': {'cleavage of plasminogen': 'float',\n    'activation of urokinase-type plasminogen activator': 'float',\n    'activation of plasmin': 'float',\n    'degradation of single intact chain urokinase-type plasminogen activator': 'float',\n    'degradation of plasminogen': 'float',\n    'degradation of plasmin': 'float',\n    'degradation of two-chain urokinase type plasminogen activator': 'float',\n    'reversible plasmin bonding x': 'float',\n    'catalytic reaction of x-plasmin': 'float',\n    'degradation of x': 'float',\n    'degradation of x-plasmin': 'float',\n    'synthesis of single intact chain urokinase-type plasminogen activator': 'float',\n    'synthesis of plasminogen': 'float',\n    'synthesis of x': 'float'}},\n  '_outputs': {'time': 'float',\n   'floating_species_concentrations': {'plasminogen': {'_type': 'float',\n     '_apply': 'set'},\n    'plasmin': {'_type': 'float', '_apply': 'set'},\n    'single intact chain urokinase-type plasminogen activator': {'_type': 'float',\n     '_apply': 'set'},\n    'two-chain urokinase-type plasminogen activator': {'_type': 'float',\n     '_apply': 'set'},\n    'x': {'_type': 'float', '_apply': 'set'},\n    'x-plasmin': {'_type': 'float', '_apply': 'set'}}}},\n 'emitter': {'emitter': {'_type': 'step',\n   'address': 'local:ram-emitter',\n   'config': {'emit': {'floating_species_concentrations': 'tree[float]',\n     'time': 'float'}},\n   'inputs': {'floating_species_concentrations': ['floating_species_concentrations_store'],\n    'time': ['time_store']},\n   'instance': <process_bigraph.composite.RAMEmitter at 0x107887640>,\n   '_inputs': {'floating_species_concentrations': 'tree[float]',\n    'time': 'float'},\n   '_outputs': {},\n   'outputs': {}}},\n 'global_time': 30.0,\n 'reactions_store': {'cleavage of plasminogen': 0.0,\n  'activation of urokinase-type plasminogen activator': 0.0,\n  'activation of plasmin': 0.0,\n  'degradation of single intact chain urokinase-type plasminogen activator': 0.0,\n  'degradation of plasminogen': 0.0,\n  'degradation of plasmin': 0.0,\n  'degradation of two-chain urokinase type plasminogen activator': 0.0,\n  'reversible plasmin bonding x': 0.0,\n  'catalytic reaction of x-plasmin': 0.0,\n  'degradation of x': 0.0,\n  'degradation of x-plasmin': 0.0,\n  'synthesis of single intact chain urokinase-type plasminogen activator': 0.0,\n  'synthesis of plasminogen': 0.0,\n  'synthesis of x': 0.0}}"
     },
     "execution_count": 15,
     "metadata": {},
     "output_type": "execute_result"
    }
   ],
   "source": [
    "workflow.state"
   ]
  },
  {
   "cell_type": "code",
   "execution_count": null,
   "id": "27ae371af7ff2fa6",
   "metadata": {},
   "outputs": [],
   "source": [
    "\n",
    "\n",
    "x"
   ]
  },
  {
   "cell_type": "code",
   "execution_count": null,
   "id": "136275c9f8743a57",
   "metadata": {},
   "outputs": [],
   "source": [
    "from biosimulator_processes.steps.viz import parse_composition_results\n",
    "\n",
    "\n",
    "results = parse_composition_results(workflow)\n",
    "\n",
    "pp(results)"
   ]
  },
  {
   "cell_type": "code",
   "execution_count": null,
   "id": "f6bbb65c9a862f12",
   "metadata": {},
   "outputs": [],
   "source": [
    "y_data = []\n",
    "times = list(results.keys())\n",
    "index = 'floating_species_concentrations'\n",
    "\n",
    "\n",
    "    \n",
    "\n",
    "for timestamp, result in results.items():\n",
    "    \n",
    "    root_data = result[index]\n",
    "    names = list(root_data.keys())\n",
    "    for name in names:\n",
    "        y_data.append(results[timestamp][index][name])\n",
    "        print(f'Got data for name {name}: {y_data}')\n",
    "        y_data.clear()\n",
    "        \n",
    "        \n",
    "        "
   ]
  },
  {
   "cell_type": "code",
   "execution_count": null,
   "id": "150dc15755417a42",
   "metadata": {},
   "outputs": [],
   "source": [
    "workflow.state['global_time']"
   ]
  },
  {
   "cell_type": "code",
   "execution_count": null,
   "id": "b1614b8359c0651f",
   "metadata": {},
   "outputs": [],
   "source": [
    "from biosimulator_processes.steps.viz import ResultsAnimation, Plotter2d"
   ]
  },
  {
   "cell_type": "code",
   "execution_count": null,
   "id": "601a2e10c945b363",
   "metadata": {},
   "outputs": [],
   "source": [
    "output = results.copy()"
   ]
  },
  {
   "cell_type": "code",
   "execution_count": null,
   "id": "538db282c51069d6",
   "metadata": {},
   "outputs": [],
   "source": [
    "output_vals = output[('emitter',)]"
   ]
  },
  {
   "cell_type": "code",
   "execution_count": null,
   "id": "a44c1cc0f9850758",
   "metadata": {},
   "outputs": [],
   "source": [
    "timescale = list(set([val.get('time', 0.0) for val in output_vals]))"
   ]
  },
  {
   "cell_type": "code",
   "execution_count": null,
   "id": "5c510ec6dac592eb",
   "metadata": {},
   "outputs": [],
   "source": [
    "timescale"
   ]
  },
  {
   "cell_type": "code",
   "execution_count": null,
   "id": "f27e97fdebb17b07",
   "metadata": {},
   "outputs": [],
   "source": [
    "data = []\n",
    "counts_data = []"
   ]
  },
  {
   "cell_type": "code",
   "execution_count": null,
   "id": "c476add07372b47c",
   "metadata": {},
   "outputs": [],
   "source": [
    "for i, val in enumerate(output_vals):\n",
    "    species_data = val.get('floating_species_concentrations')\n",
    "    data.append(species_data.get('plasminogen'))\n",
    "    counts = val.get('floating_species_counts')\n",
    "    counts_data.append(counts.get('plasminogen'))"
   ]
  },
  {
   "cell_type": "code",
   "execution_count": null,
   "id": "f84f85bf43a82b40",
   "metadata": {},
   "outputs": [],
   "source": [
    "len(timescale), len(data)"
   ]
  },
  {
   "cell_type": "code",
   "execution_count": null,
   "id": "4311ca8a4fce3a7c",
   "metadata": {},
   "outputs": [],
   "source": [
    "Plotter2d.plot_single_output(timescale=timescale, data=data, species_name='plasminogen concentration')"
   ]
  },
  {
   "cell_type": "code",
   "execution_count": null,
   "id": "a385d75479e50b1c",
   "metadata": {},
   "outputs": [],
   "source": [
    "Plotter2d.plot_single_output(timescale=timescale, data=counts_data, species_name='plasminogen counts', plot_concentration=False)"
   ]
  },
  {
   "cell_type": "code",
   "execution_count": null,
   "id": "4b07263ce48d2094",
   "metadata": {},
   "outputs": [],
   "source": [
    "Plotter2d.plot_output(x_data=data, y_data=counts_data, title='Plasminogen concentration over counts', x_label='concentration', y_label='counts', species='plasminogen')"
   ]
  },
  {
   "cell_type": "code",
   "execution_count": null,
   "id": "1e5efa38b0de7505",
   "metadata": {},
   "outputs": [],
   "source": []
  },
  {
   "cell_type": "code",
   "execution_count": null,
   "id": "65cf4a00f212edaa",
   "metadata": {},
   "outputs": [],
   "source": [
    "class_name = 'TelluriumProcess'\n",
    "module_name = 'tellurium_process'\n",
    "module__ = module_name.split('_')\n",
    "for i, v in enumerate(module__):\n",
    "    val = v.replace(v[0], v[0].upper())\n",
    "    module__.pop(i)\n",
    "    module__.insert(i, val)\n",
    "print(module__.join())\n",
    "import_statement = f'biosimulator_processes.processes.{module_name}'\n",
    "\n",
    "module = __import__(\n",
    "    import_statement, fromlist=[class_name])"
   ]
  },
  {
   "cell_type": "code",
   "execution_count": null,
   "id": "2b43d4e3d39be4ff",
   "metadata": {
    "collapsed": false
   },
   "outputs": [],
   "source": [
    "module"
   ]
  },
  {
   "cell_type": "code",
   "execution_count": null,
   "id": "db19fb9af030507",
   "metadata": {
    "collapsed": false
   },
   "outputs": [],
   "source": [
    "class_name\n"
   ]
  },
  {
   "cell_type": "code",
   "execution_count": null,
   "id": "9aa632d6ba1240d1",
   "metadata": {
    "collapsed": false
   },
   "outputs": [],
   "source": [
    "x = list(range(10))\n",
    "y = list(range(10))\n",
    "z = [x, y]\n",
    "\n",
    "def func(z):\n",
    "    for i, v in enumerate(z):\n",
    "        if z[i + 1] != z[i]:\n",
    "            return"
   ]
  },
  {
   "cell_type": "code",
   "execution_count": 4,
   "id": "5e19d61cb651a822",
   "metadata": {
    "collapsed": false,
    "ExecuteTime": {
     "end_time": "2024-05-02T17:46:29.460012Z",
     "start_time": "2024-05-02T17:46:29.441447Z"
    }
   },
   "outputs": [],
   "source": [
    "from biosimulator_processes.processes.copasi_process import CopasiProcess \n",
    "\n",
    "\n",
    "process_name = 'copasi'\n",
    "module_name = f'{process_name}_process'\n",
    "import_statement = f'biosimulator_processes.processes.{module_name}'\n",
    "module_paths = module_name.split('_')\n",
    "module_id = module_paths[0]\n",
    "module_type = module_paths[1]\n",
    "class_name = module_id.replace(module_id[0], module_id[0].upper())\n",
    "class_name += module_type.replace(module_type[0], module_type[0].upper())\n",
    "module = __import__(\n",
    "    import_statement, fromlist=[class_name])\n",
    "# Get the class from the module\n",
    "bigraph_class = getattr(module, class_name)"
   ]
  },
  {
   "cell_type": "code",
   "execution_count": 5,
   "outputs": [
    {
     "data": {
      "text/plain": "{'model': {'model_source': '../biosimulator_processes/model_files/sbml/BIOMD0000000630_url.xml'},\n 'method': 'lsoda',\n 'species_context': 'concentrations'}"
     },
     "execution_count": 5,
     "metadata": {},
     "output_type": "execute_result"
    }
   ],
   "source": [
    "document['copasi_A']['config']"
   ],
   "metadata": {
    "collapsed": false,
    "ExecuteTime": {
     "end_time": "2024-05-02T17:46:31.253580Z",
     "start_time": "2024-05-02T17:46:31.241197Z"
    }
   },
   "id": "d560d9964c489785"
  },
  {
   "cell_type": "code",
   "execution_count": 6,
   "outputs": [
    {
     "name": "stdout",
     "output_type": "stream",
     "text": [
      "found a filepath\n"
     ]
    }
   ],
   "source": [
    "copasi_process: CopasiProcess = bigraph_class(config=document['copasi_A']['config'])\n",
    "\n",
    "process_attributes = vars(copasi_process)"
   ],
   "metadata": {
    "collapsed": false,
    "ExecuteTime": {
     "end_time": "2024-05-02T17:46:32.631847Z",
     "start_time": "2024-05-02T17:46:32.573561Z"
    }
   },
   "id": "c1aff67afe1cd8e8"
  },
  {
   "cell_type": "code",
   "execution_count": 7,
   "outputs": [
    {
     "data": {
      "text/plain": "{'time': 0.0,\n 'model_parameters': {'degradation constant 1': 0.5,\n  'degradation constant 2': 0.032,\n  'hill cooperativity': 2.0},\n 'floating_species_concentrations': {'plasminogen': 6022140760000000.0,\n  'plasmin': 0.0,\n  'single intact chain urokinase-type plasminogen activator': 1204428152000000.0,\n  'two-chain urokinase-type plasminogen activator': 0.0,\n  'x': 0.0,\n  'x-plasmin': 0.0}}"
     },
     "execution_count": 7,
     "metadata": {},
     "output_type": "execute_result"
    }
   ],
   "source": [
    "new_initial_state = copasi_process.initial_state().copy()\n",
    "\n",
    "new_initial_state['model_parameters']['degradation constant 1'] = 0.50\n",
    "\n",
    "new_initial_state"
   ],
   "metadata": {
    "collapsed": false,
    "ExecuteTime": {
     "end_time": "2024-05-02T17:46:33.853711Z",
     "start_time": "2024-05-02T17:46:33.843267Z"
    }
   },
   "id": "8b3a24a6e47f6eab"
  },
  {
   "cell_type": "code",
   "execution_count": 12,
   "outputs": [],
   "source": [],
   "metadata": {
    "collapsed": false,
    "ExecuteTime": {
     "end_time": "2024-05-02T18:01:29.107236Z",
     "start_time": "2024-05-02T18:01:29.092702Z"
    }
   },
   "id": "6a2e21d03e963604"
  },
  {
   "cell_type": "code",
   "execution_count": 13,
   "outputs": [],
   "source": [
    "\n",
    "\n",
    "\n",
    "def parse_state_params(state) -> list[str]:\n",
    "    state_parameters = []\n",
    "    _nested_vals = {}\n",
    "    \n",
    "    def parse_state(state): \n",
    "        for param_name, val in state.items():\n",
    "            if not isinstance(val, dict):\n",
    "                state_parameters.append(param_name)\n",
    "            else:\n",
    "                _nested_vals[param_name] = val\n",
    "    \n",
    "    parse_state(state)\n",
    "    nested = _nested_vals is not None\n",
    "    \n",
    "    def parse_nested(state, is_nested):\n",
    "        if not _nested_vals:\n",
    "            nested = False\n",
    "            print('nesting complete')\n",
    "            return\n",
    "        else:\n",
    "            print('is nested')\n",
    "            parse_state(state)\n",
    "            _nested_vals.clear()\n",
    "    \n",
    "    while nested:\n",
    "        parse_state(_nested_vals)\n",
    "        \n",
    "    return state_parameters\n",
    "\n",
    "\n",
    "\n",
    "        \n",
    "        \n",
    "    \n",
    "\n",
    "            \n",
    "        "
   ],
   "metadata": {
    "collapsed": false,
    "ExecuteTime": {
     "end_time": "2024-05-02T18:09:55.905065Z",
     "start_time": "2024-05-02T18:09:55.895769Z"
    }
   },
   "id": "4206e75e0d01fbb8"
  },
  {
   "cell_type": "code",
   "execution_count": 15,
   "outputs": [
    {
     "ename": "KeyboardInterrupt",
     "evalue": "",
     "output_type": "error",
     "traceback": [
      "\u001B[0;31m---------------------------------------------------------------------------\u001B[0m",
      "\u001B[0;31mKeyboardInterrupt\u001B[0m                         Traceback (most recent call last)",
      "Cell \u001B[0;32mIn[15], line 1\u001B[0m\n\u001B[0;32m----> 1\u001B[0m params \u001B[38;5;241m=\u001B[39m \u001B[43mparse_state_params\u001B[49m\u001B[43m(\u001B[49m\u001B[43mnew_initial_state\u001B[49m\u001B[43m)\u001B[49m\n",
      "Cell \u001B[0;32mIn[13], line 26\u001B[0m, in \u001B[0;36mparse_state_params\u001B[0;34m(state)\u001B[0m\n\u001B[1;32m     23\u001B[0m         _nested_vals\u001B[38;5;241m.\u001B[39mclear()\n\u001B[1;32m     25\u001B[0m \u001B[38;5;28;01mwhile\u001B[39;00m nested:\n\u001B[0;32m---> 26\u001B[0m     \u001B[43mparse_state\u001B[49m\u001B[43m(\u001B[49m\u001B[43m_nested_vals\u001B[49m\u001B[43m)\u001B[49m\n\u001B[1;32m     28\u001B[0m \u001B[38;5;28;01mreturn\u001B[39;00m state_parameters\n",
      "Cell \u001B[0;32mIn[13], line 7\u001B[0m, in \u001B[0;36mparse_state_params.<locals>.parse_state\u001B[0;34m(state)\u001B[0m\n\u001B[1;32m      5\u001B[0m \u001B[38;5;28;01mdef\u001B[39;00m \u001B[38;5;21mparse_state\u001B[39m(state): \n\u001B[1;32m      6\u001B[0m     \u001B[38;5;28;01mfor\u001B[39;00m param_name, val \u001B[38;5;129;01min\u001B[39;00m state\u001B[38;5;241m.\u001B[39mitems():\n\u001B[0;32m----> 7\u001B[0m         \u001B[38;5;28;01mif\u001B[39;00m \u001B[38;5;129;01mnot\u001B[39;00m \u001B[38;5;28;43misinstance\u001B[39;49m\u001B[43m(\u001B[49m\u001B[43mval\u001B[49m\u001B[43m,\u001B[49m\u001B[43m \u001B[49m\u001B[38;5;28;43mdict\u001B[39;49m\u001B[43m)\u001B[49m:\n\u001B[1;32m      8\u001B[0m             state_parameters\u001B[38;5;241m.\u001B[39mappend(param_name)\n\u001B[1;32m      9\u001B[0m         \u001B[38;5;28;01melse\u001B[39;00m:\n",
      "\u001B[0;31mKeyboardInterrupt\u001B[0m: "
     ]
    }
   ],
   "source": [
    "params = parse_state_params(new_initial_state)"
   ],
   "metadata": {
    "collapsed": false,
    "ExecuteTime": {
     "end_time": "2024-05-03T15:03:11.977888Z",
     "start_time": "2024-05-02T18:10:16.601120Z"
    }
   },
   "id": "6258b8ec1891a27d"
  },
  {
   "cell_type": "code",
   "execution_count": 9,
   "outputs": [],
   "source": [
    "\n",
    "copasi_process.initial_state = new_initial_state"
   ],
   "metadata": {
    "collapsed": false,
    "ExecuteTime": {
     "end_time": "2024-05-02T17:48:28.917017Z",
     "start_time": "2024-05-02T17:48:28.904501Z"
    }
   },
   "id": "75aadcdd3dc1c8db"
  },
  {
   "cell_type": "code",
   "execution_count": 8,
   "outputs": [
    {
     "name": "stderr",
     "output_type": "stream",
     "text": [
      "/Users/alex/Desktop/uchc_work/repos/biosimulator-processes/demos/../biosimulator_processes/processes/copasi_process.py:249: FutureWarning:\n",
      "\n",
      "Series.__getitem__ treating keys as positions is deprecated. In a future version, integer keys will always be treated as labels (consistent with DataFrame behavior). To access a value by position, use `ser.iloc[pos]`\n",
      "\n"
     ]
    },
    {
     "data": {
      "text/plain": "{'time': 100.0, 'floating_species_concentrations': {'x-plasmin': 0.0}}"
     },
     "execution_count": 8,
     "metadata": {},
     "output_type": "execute_result"
    }
   ],
   "source": [
    "one_step = copasi_process.update(new_initial_state, 100.0)\n",
    "\n",
    "one_step"
   ],
   "metadata": {
    "collapsed": false,
    "ExecuteTime": {
     "end_time": "2024-05-02T17:47:21.105371Z",
     "start_time": "2024-05-02T17:47:21.091725Z"
    }
   },
   "id": "f7c8f328902103c"
  },
  {
   "cell_type": "code",
   "execution_count": 11,
   "outputs": [
    {
     "ename": "TypeError",
     "evalue": "'dict' object is not callable",
     "output_type": "error",
     "traceback": [
      "\u001B[0;31m---------------------------------------------------------------------------\u001B[0m",
      "\u001B[0;31mTypeError\u001B[0m                                 Traceback (most recent call last)",
      "Cell \u001B[0;32mIn[11], line 1\u001B[0m\n\u001B[0;32m----> 1\u001B[0m \u001B[43mcopasi_process\u001B[49m\u001B[38;5;241;43m.\u001B[39;49m\u001B[43minitial_state\u001B[49m\u001B[43m(\u001B[49m\u001B[43m)\u001B[49m\n",
      "\u001B[0;31mTypeError\u001B[0m: 'dict' object is not callable"
     ]
    }
   ],
   "source": [
    "copasi_process.initial_state()"
   ],
   "metadata": {
    "collapsed": false,
    "ExecuteTime": {
     "end_time": "2024-05-02T17:48:44.839724Z",
     "start_time": "2024-05-02T17:48:44.666280Z"
    }
   },
   "id": "d64f8f8de7463a00"
  },
  {
   "cell_type": "code",
   "execution_count": 7,
   "outputs": [
    {
     "data": {
      "text/plain": "{'floating_species_concentrations_store': {'plasminogen': 0.0,\n  'plasmin': 0.0,\n  'single intact chain urokinase-type plasminogen activator': 0.0,\n  'two-chain urokinase-type plasminogen activator': 0.0,\n  'x': 0.0,\n  'x-plasmin': 0.0},\n 'model_parameters_store': {'degradation constant 1': 0.0,\n  'degradation constant 2': 0.0,\n  'hill cooperativity': 0.0},\n 'time_store': 30.0,\n 'copasi_A': {'_type': 'process',\n  'address': 'local:copasi',\n  'config': {'model': {'model_source': '../biosimulator_processes/model_files/sbml/BIOMD0000000630_url.xml',\n    'model_id': '',\n    'model_language': 'sbml',\n    'model_name': 'composite_process_model',\n    'model_changes': {'species_changes': {},\n     'global_parameter_changes': {},\n     'reaction_changes': {}},\n    'model_units': {}},\n   'method': 'lsoda',\n   'species_context': 'concentrations'},\n  'inputs': {'floating_species_concentrations': ['floating_species_concentrations_store'],\n   'model_parameters': ['model_parameters_store'],\n   'time': ['time_store'],\n   'reactions': ['reactions_store']},\n  'outputs': {'floating_species_concentrations': ['floating_species_concentrations_store'],\n   'time': ['time_store']},\n  'instance': <biosimulator_processes.processes.copasi_process.CopasiProcess at 0x107baf9a0>,\n  'interval': 1.0,\n  '_inputs': {'time': 'float',\n   'floating_species_concentrations': {'plasminogen': {'_type': 'float',\n     '_apply': 'set'},\n    'plasmin': {'_type': 'float', '_apply': 'set'},\n    'single intact chain urokinase-type plasminogen activator': {'_type': 'float',\n     '_apply': 'set'},\n    'two-chain urokinase-type plasminogen activator': {'_type': 'float',\n     '_apply': 'set'},\n    'x': {'_type': 'float', '_apply': 'set'},\n    'x-plasmin': {'_type': 'float', '_apply': 'set'}},\n   'model_parameters': {'degradation constant 1': {'_type': 'float',\n     '_apply': 'set'},\n    'degradation constant 2': {'_type': 'float', '_apply': 'set'},\n    'hill cooperativity': {'_type': 'float', '_apply': 'set'}},\n   'reactions': {'cleavage of plasminogen': 'float',\n    'activation of urokinase-type plasminogen activator': 'float',\n    'activation of plasmin': 'float',\n    'degradation of single intact chain urokinase-type plasminogen activator': 'float',\n    'degradation of plasminogen': 'float',\n    'degradation of plasmin': 'float',\n    'degradation of two-chain urokinase type plasminogen activator': 'float',\n    'reversible plasmin bonding x': 'float',\n    'catalytic reaction of x-plasmin': 'float',\n    'degradation of x': 'float',\n    'degradation of x-plasmin': 'float',\n    'synthesis of single intact chain urokinase-type plasminogen activator': 'float',\n    'synthesis of plasminogen': 'float',\n    'synthesis of x': 'float'}},\n  '_outputs': {'time': 'float',\n   'floating_species_concentrations': {'plasminogen': {'_type': 'float',\n     '_apply': 'set'},\n    'plasmin': {'_type': 'float', '_apply': 'set'},\n    'single intact chain urokinase-type plasminogen activator': {'_type': 'float',\n     '_apply': 'set'},\n    'two-chain urokinase-type plasminogen activator': {'_type': 'float',\n     '_apply': 'set'},\n    'x': {'_type': 'float', '_apply': 'set'},\n    'x-plasmin': {'_type': 'float', '_apply': 'set'}}}},\n 'emitter': {'emitter': {'_type': 'step',\n   'address': 'local:ram-emitter',\n   'config': {'emit': {'floating_species_concentrations': 'tree[float]',\n     'time': 'float'}},\n   'inputs': {'floating_species_concentrations': ['floating_species_concentrations_store'],\n    'time': ['time_store']},\n   'instance': <process_bigraph.composite.RAMEmitter at 0x107980c70>,\n   '_inputs': {'floating_species_concentrations': 'tree[float]',\n    'time': 'float'},\n   '_outputs': {},\n   'outputs': {}}},\n 'global_time': 30.0,\n 'reactions_store': {'cleavage of plasminogen': 0.0,\n  'activation of urokinase-type plasminogen activator': 0.0,\n  'activation of plasmin': 0.0,\n  'degradation of single intact chain urokinase-type plasminogen activator': 0.0,\n  'degradation of plasminogen': 0.0,\n  'degradation of plasmin': 0.0,\n  'degradation of two-chain urokinase type plasminogen activator': 0.0,\n  'reversible plasmin bonding x': 0.0,\n  'catalytic reaction of x-plasmin': 0.0,\n  'degradation of x': 0.0,\n  'degradation of x-plasmin': 0.0,\n  'synthesis of single intact chain urokinase-type plasminogen activator': 0.0,\n  'synthesis of plasminogen': 0.0,\n  'synthesis of x': 0.0}}"
     },
     "execution_count": 7,
     "metadata": {},
     "output_type": "execute_result"
    }
   ],
   "source": [
    "workflow.state"
   ],
   "metadata": {
    "collapsed": false,
    "ExecuteTime": {
     "end_time": "2024-05-02T17:41:00.790459Z",
     "start_time": "2024-05-02T17:41:00.773632Z"
    }
   },
   "id": "2fd1d1169b59660b"
  },
  {
   "cell_type": "code",
   "execution_count": 6,
   "outputs": [
    {
     "data": {
      "text/plain": "<process_bigraph.composite.Composite at 0x288a3d600>"
     },
     "execution_count": 6,
     "metadata": {},
     "output_type": "execute_result"
    }
   ],
   "source": [
    "workflow"
   ],
   "metadata": {
    "collapsed": false,
    "ExecuteTime": {
     "end_time": "2024-05-02T17:40:58.396766Z",
     "start_time": "2024-05-02T17:40:58.305142Z"
    }
   },
   "id": "c74e508f13eaceeb"
  },
  {
   "cell_type": "code",
   "execution_count": null,
   "outputs": [],
   "source": [],
   "metadata": {
    "collapsed": false
   },
   "id": "50919eb9594a555"
  }
 ],
 "metadata": {
  "kernelspec": {
   "display_name": "Python 3",
   "language": "python",
   "name": "python3"
  },
  "language_info": {
   "codemirror_mode": {
    "name": "ipython",
    "version": 2
   },
   "file_extension": ".py",
   "mimetype": "text/x-python",
   "name": "python",
   "nbconvert_exporter": "python",
   "pygments_lexer": "ipython2",
   "version": "2.7.6"
  }
 },
 "nbformat": 4,
 "nbformat_minor": 5
}
