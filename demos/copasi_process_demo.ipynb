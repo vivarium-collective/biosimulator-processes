{
 "cells": [
  {
   "cell_type": "code",
   "execution_count": 1,
   "id": "40898635d17c0f08",
   "metadata": {
    "collapsed": false,
    "ExecuteTime": {
     "end_time": "2024-05-02T02:22:33.007437Z",
     "start_time": "2024-05-02T02:22:32.958299Z"
    }
   },
   "outputs": [],
   "source": [
    "import sys\n",
    "sys.path.insert(0, '..')\n",
    "\n",
    "import os\n",
    "import requests\n",
    "import json"
   ]
  },
  {
   "cell_type": "code",
   "execution_count": 2,
   "id": "initial_id",
   "metadata": {
    "collapsed": true,
    "ExecuteTime": {
     "end_time": "2024-05-02T02:22:36.279803Z",
     "start_time": "2024-05-02T02:22:33.460468Z"
    }
   },
   "outputs": [
    {
     "name": "stdout",
     "output_type": "stream",
     "text": [
      "CobraProcess registered successfully.\n",
      "CopasiProcess registered successfully.\n",
      "SmoldynProcess not available. Error: \n",
      "PLEASE NOTE: Smoldyn is not correctly installed on your system which prevents you from using the SmoldynProcess. Please refer to the README for further information on installing Smoldyn.\n",
      "TelluriumProcess registered successfully.\n"
     ]
    }
   ],
   "source": [
    "from biosimulator_processes.utils import prepare_single_copasi_process_schema\n",
    "from biosimulator_processes import CORE\n",
    "from process_bigraph import Composite, pp"
   ]
  },
  {
   "cell_type": "markdown",
   "id": "c7dca241b02a7265",
   "metadata": {},
   "source": [
    "#### Step 1: Define the document to be read by the Composite, which is implemented by the Process."
   ]
  },
  {
   "cell_type": "code",
   "execution_count": 3,
   "id": "2633feac24b596a6",
   "metadata": {
    "ExecuteTime": {
     "end_time": "2024-05-02T02:22:36.282864Z",
     "start_time": "2024-05-02T02:22:36.280418Z"
    }
   },
   "outputs": [
    {
     "data": {
      "text/plain": "{'copasi_A': {'_type': 'process',\n  'address': 'local:copasi',\n  'config': {'model': {'model_source': '../biosimulator_processes/model_files/sbml/BIOMD0000000630_url.xml'},\n   'method': 'lsoda',\n   'species_context': 'concentrations'},\n  'inputs': {'floating_species_concentrations': ['floating_species_concentrations_store'],\n   'model_parameters': ['model_parameters_store'],\n   'time': ['time_store'],\n   'reactions': ['reactions_store']},\n  'outputs': {'floating_species_concentrations': ['floating_species_concentrations_store'],\n   'time': ['time_store']}},\n 'emitter': {'emitter': {'_type': 'step',\n   'address': 'local:ram-emitter',\n   'config': {'emit': {'floating_species_concentrations': 'tree[float]',\n     'time': 'float'}},\n   'inputs': {'floating_species_concentrations': ['floating_species_concentrations_store'],\n    'time': ['time_store']}}}}"
     },
     "execution_count": 3,
     "metadata": {},
     "output_type": "execute_result"
    }
   ],
   "source": [
    "biomodel_id = 'BIOMD0000000630'\n",
    "model_fp = f'../biosimulator_processes/model_files/sbml/{biomodel_id}_url.xml'\n",
    "species_context = 'concentrations'\n",
    "species_port_name = f'floating_species_{species_context}'\n",
    "species_store = [f'floating_species_{species_context}_store']\n",
    "duration = 30\n",
    "\n",
    "document = prepare_single_copasi_process_schema(\n",
    "    process_name='copasi_A',\n",
    "    sbml_model_fp=model_fp)\n",
    "\n",
    "document"
   ]
  },
  {
   "cell_type": "markdown",
   "id": "e502cb54666345af",
   "metadata": {},
   "source": [
    "\n",
    "\n",
    "#### Step 2: Define the instance composition along with the process registry"
   ]
  },
  {
   "cell_type": "code",
   "execution_count": 4,
   "id": "bd91dca0be22cd27",
   "metadata": {
    "ExecuteTime": {
     "end_time": "2024-05-02T02:22:43.250874Z",
     "start_time": "2024-05-02T02:22:43.199930Z"
    }
   },
   "outputs": [
    {
     "name": "stdout",
     "output_type": "stream",
     "text": [
      "found a filepath\n"
     ]
    }
   ],
   "source": [
    "workflow = Composite(\n",
    "    config={'state': document},\n",
    "    core=CORE\n",
    ")"
   ]
  },
  {
   "cell_type": "markdown",
   "id": "857667277d39c647",
   "metadata": {},
   "source": [
    "#### Step 3: Run the workflow for a duration and get the results"
   ]
  },
  {
   "cell_type": "code",
   "execution_count": 5,
   "id": "7c6f72142af0616b",
   "metadata": {
    "ExecuteTime": {
     "end_time": "2024-05-02T02:22:55.846781Z",
     "start_time": "2024-05-02T02:22:55.697129Z"
    }
   },
   "outputs": [
    {
     "name": "stderr",
     "output_type": "stream",
     "text": [
      "/Users/alex/Desktop/uchc_work/repos/biosimulator-processes/demos/../biosimulator_processes/processes/copasi_process.py:249: FutureWarning:\n",
      "\n",
      "Series.__getitem__ treating keys as positions is deprecated. In a future version, integer keys will always be treated as labels (consistent with DataFrame behavior). To access a value by position, use `ser.iloc[pos]`\n",
      "\n"
     ]
    }
   ],
   "source": [
    "workflow.run(duration)\n",
    "\n",
    "results = workflow.gather_results()"
   ]
  },
  {
   "cell_type": "code",
   "execution_count": 6,
   "id": "c7a254aee3009b8c",
   "metadata": {
    "ExecuteTime": {
     "end_time": "2024-05-02T02:22:57.402016Z",
     "start_time": "2024-05-02T02:22:57.387107Z"
    }
   },
   "outputs": [
    {
     "name": "stdout",
     "output_type": "stream",
     "text": [
      "{}\n"
     ]
    }
   ],
   "source": [
    "pp(results)"
   ]
  },
  {
   "cell_type": "code",
   "execution_count": 7,
   "id": "76259bde7fd711f5",
   "metadata": {
    "ExecuteTime": {
     "end_time": "2024-05-02T02:22:59.583591Z",
     "start_time": "2024-05-02T02:22:59.423936Z"
    }
   },
   "outputs": [
    {
     "ename": "KeyError",
     "evalue": "'instance'",
     "output_type": "error",
     "traceback": [
      "\u001B[0;31m---------------------------------------------------------------------------\u001B[0m",
      "\u001B[0;31mKeyError\u001B[0m                                  Traceback (most recent call last)",
      "Cell \u001B[0;32mIn[7], line 1\u001B[0m\n\u001B[0;32m----> 1\u001B[0m emitter \u001B[38;5;241m=\u001B[39m \u001B[43mworkflow\u001B[49m\u001B[38;5;241;43m.\u001B[39;49m\u001B[43mstate\u001B[49m\u001B[43m[\u001B[49m\u001B[38;5;124;43m'\u001B[39;49m\u001B[38;5;124;43memitter\u001B[39;49m\u001B[38;5;124;43m'\u001B[39;49m\u001B[43m]\u001B[49m\u001B[43m[\u001B[49m\u001B[38;5;124;43m'\u001B[39;49m\u001B[38;5;124;43minstance\u001B[39;49m\u001B[38;5;124;43m'\u001B[39;49m\u001B[43m]\u001B[49m\n",
      "\u001B[0;31mKeyError\u001B[0m: 'instance'"
     ]
    }
   ],
   "source": [
    "emitter = workflow.state['emitter']['instance']"
   ]
  },
  {
   "cell_type": "code",
   "execution_count": 15,
   "id": "7924d2e8b42e432d",
   "metadata": {
    "ExecuteTime": {
     "end_time": "2024-05-02T02:28:40.448604Z",
     "start_time": "2024-05-02T02:28:40.443409Z"
    }
   },
   "outputs": [
    {
     "data": {
      "text/plain": "{'floating_species_concentrations_store': {'plasminogen': 0.0,\n  'plasmin': 0.0,\n  'single intact chain urokinase-type plasminogen activator': 0.0,\n  'two-chain urokinase-type plasminogen activator': 0.0,\n  'x': 0.0,\n  'x-plasmin': 0.0},\n 'model_parameters_store': {'degradation constant 1': 0.0,\n  'degradation constant 2': 0.0,\n  'hill cooperativity': 0.0},\n 'time_store': 30.0,\n 'copasi_A': {'_type': 'process',\n  'address': 'local:copasi',\n  'config': {'model': {'model_source': '../biosimulator_processes/model_files/sbml/BIOMD0000000630_url.xml',\n    'model_id': '',\n    'model_language': 'sbml',\n    'model_name': 'composite_process_model',\n    'model_changes': {'species_changes': {},\n     'global_parameter_changes': {},\n     'reaction_changes': {}},\n    'model_units': {}},\n   'method': 'lsoda',\n   'species_context': 'concentrations'},\n  'inputs': {'floating_species_concentrations': ['floating_species_concentrations_store'],\n   'model_parameters': ['model_parameters_store'],\n   'time': ['time_store'],\n   'reactions': ['reactions_store']},\n  'outputs': {'floating_species_concentrations': ['floating_species_concentrations_store'],\n   'time': ['time_store']},\n  'instance': <biosimulator_processes.processes.copasi_process.CopasiProcess at 0x107887e50>,\n  'interval': 1.0,\n  '_inputs': {'time': 'float',\n   'floating_species_concentrations': {'plasminogen': {'_type': 'float',\n     '_apply': 'set'},\n    'plasmin': {'_type': 'float', '_apply': 'set'},\n    'single intact chain urokinase-type plasminogen activator': {'_type': 'float',\n     '_apply': 'set'},\n    'two-chain urokinase-type plasminogen activator': {'_type': 'float',\n     '_apply': 'set'},\n    'x': {'_type': 'float', '_apply': 'set'},\n    'x-plasmin': {'_type': 'float', '_apply': 'set'}},\n   'model_parameters': {'degradation constant 1': {'_type': 'float',\n     '_apply': 'set'},\n    'degradation constant 2': {'_type': 'float', '_apply': 'set'},\n    'hill cooperativity': {'_type': 'float', '_apply': 'set'}},\n   'reactions': {'cleavage of plasminogen': 'float',\n    'activation of urokinase-type plasminogen activator': 'float',\n    'activation of plasmin': 'float',\n    'degradation of single intact chain urokinase-type plasminogen activator': 'float',\n    'degradation of plasminogen': 'float',\n    'degradation of plasmin': 'float',\n    'degradation of two-chain urokinase type plasminogen activator': 'float',\n    'reversible plasmin bonding x': 'float',\n    'catalytic reaction of x-plasmin': 'float',\n    'degradation of x': 'float',\n    'degradation of x-plasmin': 'float',\n    'synthesis of single intact chain urokinase-type plasminogen activator': 'float',\n    'synthesis of plasminogen': 'float',\n    'synthesis of x': 'float'}},\n  '_outputs': {'time': 'float',\n   'floating_species_concentrations': {'plasminogen': {'_type': 'float',\n     '_apply': 'set'},\n    'plasmin': {'_type': 'float', '_apply': 'set'},\n    'single intact chain urokinase-type plasminogen activator': {'_type': 'float',\n     '_apply': 'set'},\n    'two-chain urokinase-type plasminogen activator': {'_type': 'float',\n     '_apply': 'set'},\n    'x': {'_type': 'float', '_apply': 'set'},\n    'x-plasmin': {'_type': 'float', '_apply': 'set'}}}},\n 'emitter': {'emitter': {'_type': 'step',\n   'address': 'local:ram-emitter',\n   'config': {'emit': {'floating_species_concentrations': 'tree[float]',\n     'time': 'float'}},\n   'inputs': {'floating_species_concentrations': ['floating_species_concentrations_store'],\n    'time': ['time_store']},\n   'instance': <process_bigraph.composite.RAMEmitter at 0x107887640>,\n   '_inputs': {'floating_species_concentrations': 'tree[float]',\n    'time': 'float'},\n   '_outputs': {},\n   'outputs': {}}},\n 'global_time': 30.0,\n 'reactions_store': {'cleavage of plasminogen': 0.0,\n  'activation of urokinase-type plasminogen activator': 0.0,\n  'activation of plasmin': 0.0,\n  'degradation of single intact chain urokinase-type plasminogen activator': 0.0,\n  'degradation of plasminogen': 0.0,\n  'degradation of plasmin': 0.0,\n  'degradation of two-chain urokinase type plasminogen activator': 0.0,\n  'reversible plasmin bonding x': 0.0,\n  'catalytic reaction of x-plasmin': 0.0,\n  'degradation of x': 0.0,\n  'degradation of x-plasmin': 0.0,\n  'synthesis of single intact chain urokinase-type plasminogen activator': 0.0,\n  'synthesis of plasminogen': 0.0,\n  'synthesis of x': 0.0}}"
     },
     "execution_count": 15,
     "metadata": {},
     "output_type": "execute_result"
    }
   ],
   "source": [
    "workflow.state"
   ]
  },
  {
   "cell_type": "code",
   "execution_count": null,
   "id": "27ae371af7ff2fa6",
   "metadata": {},
   "outputs": [],
   "source": [
    "\n",
    "\n",
    "x"
   ]
  },
  {
   "cell_type": "code",
   "execution_count": null,
   "id": "136275c9f8743a57",
   "metadata": {},
   "outputs": [],
   "source": [
    "from biosimulator_processes.steps.viz import parse_composition_results\n",
    "\n",
    "\n",
    "results = parse_composition_results(workflow)\n",
    "\n",
    "pp(results)"
   ]
  },
  {
   "cell_type": "code",
   "execution_count": null,
   "id": "f6bbb65c9a862f12",
   "metadata": {},
   "outputs": [],
   "source": [
    "y_data = []\n",
    "times = list(results.keys())\n",
    "index = 'floating_species_concentrations'\n",
    "\n",
    "\n",
    "    \n",
    "\n",
    "for timestamp, result in results.items():\n",
    "    \n",
    "    root_data = result[index]\n",
    "    names = list(root_data.keys())\n",
    "    for name in names:\n",
    "        y_data.append(results[timestamp][index][name])\n",
    "        print(f'Got data for name {name}: {y_data}')\n",
    "        y_data.clear()\n",
    "        \n",
    "        \n",
    "        "
   ]
  },
  {
   "cell_type": "code",
   "execution_count": null,
   "id": "150dc15755417a42",
   "metadata": {},
   "outputs": [],
   "source": [
    "workflow.state['global_time']"
   ]
  },
  {
   "cell_type": "code",
   "execution_count": null,
   "id": "b1614b8359c0651f",
   "metadata": {},
   "outputs": [],
   "source": [
    "from biosimulator_processes.steps.viz import ResultsAnimation, Plotter2d"
   ]
  },
  {
   "cell_type": "code",
   "execution_count": null,
   "id": "601a2e10c945b363",
   "metadata": {},
   "outputs": [],
   "source": [
    "output = results.copy()"
   ]
  },
  {
   "cell_type": "code",
   "execution_count": null,
   "id": "538db282c51069d6",
   "metadata": {},
   "outputs": [],
   "source": [
    "output_vals = output[('emitter',)]"
   ]
  },
  {
   "cell_type": "code",
   "execution_count": null,
   "id": "a44c1cc0f9850758",
   "metadata": {},
   "outputs": [],
   "source": [
    "timescale = list(set([val.get('time', 0.0) for val in output_vals]))"
   ]
  },
  {
   "cell_type": "code",
   "execution_count": null,
   "id": "5c510ec6dac592eb",
   "metadata": {},
   "outputs": [],
   "source": [
    "timescale"
   ]
  },
  {
   "cell_type": "code",
   "execution_count": null,
   "id": "f27e97fdebb17b07",
   "metadata": {},
   "outputs": [],
   "source": [
    "data = []\n",
    "counts_data = []"
   ]
  },
  {
   "cell_type": "code",
   "execution_count": null,
   "id": "c476add07372b47c",
   "metadata": {},
   "outputs": [],
   "source": [
    "for i, val in enumerate(output_vals):\n",
    "    species_data = val.get('floating_species_concentrations')\n",
    "    data.append(species_data.get('plasminogen'))\n",
    "    counts = val.get('floating_species_counts')\n",
    "    counts_data.append(counts.get('plasminogen'))"
   ]
  },
  {
   "cell_type": "code",
   "execution_count": null,
   "id": "f84f85bf43a82b40",
   "metadata": {},
   "outputs": [],
   "source": [
    "len(timescale), len(data)"
   ]
  },
  {
   "cell_type": "code",
   "execution_count": null,
   "id": "4311ca8a4fce3a7c",
   "metadata": {},
   "outputs": [],
   "source": [
    "Plotter2d.plot_single_output(timescale=timescale, data=data, species_name='plasminogen concentration')"
   ]
  },
  {
   "cell_type": "code",
   "execution_count": null,
   "id": "a385d75479e50b1c",
   "metadata": {},
   "outputs": [],
   "source": [
    "Plotter2d.plot_single_output(timescale=timescale, data=counts_data, species_name='plasminogen counts', plot_concentration=False)"
   ]
  },
  {
   "cell_type": "code",
   "execution_count": null,
   "id": "4b07263ce48d2094",
   "metadata": {},
   "outputs": [],
   "source": [
    "Plotter2d.plot_output(x_data=data, y_data=counts_data, title='Plasminogen concentration over counts', x_label='concentration', y_label='counts', species='plasminogen')"
   ]
  },
  {
   "cell_type": "code",
   "execution_count": null,
   "id": "1e5efa38b0de7505",
   "metadata": {},
   "outputs": [],
   "source": []
  },
  {
   "cell_type": "code",
   "execution_count": null,
   "id": "65cf4a00f212edaa",
   "metadata": {},
   "outputs": [],
   "source": [
    "class_name = 'TelluriumProcess'\n",
    "module_name = 'tellurium_process'\n",
    "module__ = module_name.split('_')\n",
    "for i, v in enumerate(module__):\n",
    "    val = v.replace(v[0], v[0].upper())\n",
    "    module__.pop(i)\n",
    "    module__.insert(i, val)\n",
    "print(module__.join())\n",
    "import_statement = f'biosimulator_processes.processes.{module_name}'\n",
    "\n",
    "module = __import__(\n",
    "    import_statement, fromlist=[class_name])"
   ]
  },
  {
   "cell_type": "code",
   "execution_count": null,
   "id": "2b43d4e3d39be4ff",
   "metadata": {
    "collapsed": false
   },
   "outputs": [],
   "source": [
    "module"
   ]
  },
  {
   "cell_type": "code",
   "execution_count": null,
   "id": "db19fb9af030507",
   "metadata": {
    "collapsed": false
   },
   "outputs": [],
   "source": [
    "class_name\n"
   ]
  },
  {
   "cell_type": "code",
   "execution_count": null,
   "id": "9aa632d6ba1240d1",
   "metadata": {
    "collapsed": false
   },
   "outputs": [],
   "source": [
    "x = list(range(10))\n",
    "y = list(range(10))\n",
    "z = [x, y]\n",
    "\n",
    "def func(z):\n",
    "    for i, v in enumerate(z):\n",
    "        if z[i + 1] != z[i]:\n",
    "            return"
   ]
  },
  {
   "cell_type": "code",
   "execution_count": null,
   "id": "5e19d61cb651a822",
   "metadata": {
    "collapsed": false
   },
   "outputs": [],
   "source": []
  }
 ],
 "metadata": {
  "kernelspec": {
   "display_name": "Python 3",
   "language": "python",
   "name": "python3"
  },
  "language_info": {
   "codemirror_mode": {
    "name": "ipython",
    "version": 2
   },
   "file_extension": ".py",
   "mimetype": "text/x-python",
   "name": "python",
   "nbconvert_exporter": "python",
   "pygments_lexer": "ipython2",
   "version": "2.7.6"
  }
 },
 "nbformat": 4,
 "nbformat_minor": 5
}
