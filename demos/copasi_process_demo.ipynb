{
 "cells": [
  {
   "cell_type": "code",
   "execution_count": 1,
   "id": "40898635d17c0f08",
   "metadata": {
    "collapsed": false,
    "ExecuteTime": {
     "end_time": "2024-05-02T17:46:15.246340Z",
     "start_time": "2024-05-02T17:46:15.195226Z"
    }
   },
   "source": [
    "import sys\n",
    "sys.path.insert(0, '..')\n",
    "\n",
    "import os\n",
    "import requests\n",
    "import json"
   ],
   "outputs": []
  },
  {
   "cell_type": "code",
   "execution_count": 2,
   "id": "initial_id",
   "metadata": {
    "collapsed": true,
    "ExecuteTime": {
     "end_time": "2024-05-02T17:46:18.648654Z",
     "start_time": "2024-05-02T17:46:15.382959Z"
    }
   },
   "source": [
    "from biosimulator_processes.utils import prepare_single_copasi_process_schema\n",
    "from biosimulator_processes import CORE\n",
    "from process_bigraph import Composite, pp"
   ],
   "outputs": []
  },
  {
   "cell_type": "markdown",
   "id": "c7dca241b02a7265",
   "metadata": {},
   "source": [
    "#### Step 1: Define the document to be read by the Composite, which is implemented by the Process."
   ]
  },
  {
   "cell_type": "code",
   "execution_count": 3,
   "id": "2633feac24b596a6",
   "metadata": {
    "ExecuteTime": {
     "end_time": "2024-05-02T17:46:18.651630Z",
     "start_time": "2024-05-02T17:46:18.643502Z"
    }
   },
   "source": [
    "biomodel_id = 'BIOMD0000000630'\n",
    "model_fp = f'../biosimulator_processes/model_files/sbml/{biomodel_id}_url.xml'\n",
    "species_context = 'concentrations'\n",
    "species_port_name = f'floating_species_{species_context}'\n",
    "species_store = [f'floating_species_{species_context}_store']\n",
    "duration = 30\n",
    "\n",
    "document = prepare_single_copasi_process_schema(\n",
    "    process_name='copasi_A',\n",
    "    sbml_model_fp=model_fp)\n",
    "\n",
    "document"
   ],
   "outputs": []
  },
  {
   "cell_type": "markdown",
   "id": "e502cb54666345af",
   "metadata": {},
   "source": [
    "\n",
    "\n",
    "#### Step 2: Define the instance composition along with the process registry"
   ]
  },
  {
   "cell_type": "code",
   "execution_count": 4,
   "id": "bd91dca0be22cd27",
   "metadata": {
    "ExecuteTime": {
     "end_time": "2024-05-02T17:40:47.750756Z",
     "start_time": "2024-05-02T17:40:47.687910Z"
    }
   },
   "source": [
    "workflow = Composite(\n",
    "    config={'state': document},\n",
    "    core=CORE\n",
    ")"
   ],
   "outputs": []
  },
  {
   "cell_type": "markdown",
   "id": "857667277d39c647",
   "metadata": {},
   "source": [
    "#### Step 3: Run the workflow for a duration and get the results"
   ]
  },
  {
   "cell_type": "code",
   "execution_count": 5,
   "id": "7c6f72142af0616b",
   "metadata": {
    "ExecuteTime": {
     "end_time": "2024-05-02T17:40:48.035636Z",
     "start_time": "2024-05-02T17:40:47.887576Z"
    }
   },
   "source": [
    "workflow.run(duration)\n",
    "\n",
    "results = workflow.gather_results()"
   ],
   "outputs": []
  },
  {
   "cell_type": "code",
   "execution_count": 6,
   "id": "c7a254aee3009b8c",
   "metadata": {
    "ExecuteTime": {
     "end_time": "2024-05-02T02:22:57.402016Z",
     "start_time": "2024-05-02T02:22:57.387107Z"
    }
   },
   "source": [
    "pp(results)"
   ],
   "outputs": []
  },
  {
   "cell_type": "code",
   "execution_count": 7,
   "id": "76259bde7fd711f5",
   "metadata": {
    "ExecuteTime": {
     "end_time": "2024-05-02T02:22:59.583591Z",
     "start_time": "2024-05-02T02:22:59.423936Z"
    }
   },
   "source": [
    "emitter = workflow.state['emitter']['instance']"
   ],
   "outputs": []
  },
  {
   "cell_type": "code",
   "execution_count": 15,
   "id": "7924d2e8b42e432d",
   "metadata": {
    "ExecuteTime": {
     "end_time": "2024-05-02T02:28:40.448604Z",
     "start_time": "2024-05-02T02:28:40.443409Z"
    }
   },
   "source": [
    "workflow.state"
   ],
   "outputs": []
  },
  {
   "cell_type": "code",
   "execution_count": null,
   "id": "27ae371af7ff2fa6",
   "metadata": {},
   "source": [
    "\n",
    "\n",
    "x"
   ],
   "outputs": []
  },
  {
   "cell_type": "code",
   "execution_count": null,
   "id": "136275c9f8743a57",
   "metadata": {},
   "source": [
    "from biosimulator_processes.steps.viz import parse_composition_results\n",
    "\n",
    "\n",
    "results = parse_composition_results(workflow)\n",
    "\n",
    "pp(results)"
   ],
   "outputs": []
  },
  {
   "cell_type": "code",
   "execution_count": null,
   "id": "f6bbb65c9a862f12",
   "metadata": {},
   "source": [
    "y_data = []\n",
    "times = list(results.keys())\n",
    "index = 'floating_species_concentrations'\n",
    "\n",
    "\n",
    "    \n",
    "\n",
    "for timestamp, result in results.items():\n",
    "    \n",
    "    root_data = result[index]\n",
    "    names = list(root_data.keys())\n",
    "    for name in names:\n",
    "        y_data.append(results[timestamp][index][name])\n",
    "        print(f'Got data for name {name}: {y_data}')\n",
    "        y_data.clear()\n",
    "        \n",
    "        \n",
    "        "
   ],
   "outputs": []
  },
  {
   "cell_type": "code",
   "execution_count": null,
   "id": "150dc15755417a42",
   "metadata": {},
   "source": [
    "workflow.state['global_time']"
   ],
   "outputs": []
  },
  {
   "cell_type": "code",
   "execution_count": null,
   "id": "b1614b8359c0651f",
   "metadata": {},
   "source": [
    "from biosimulator_processes.steps.viz import ResultsAnimation, Plotter2d"
   ],
   "outputs": []
  },
  {
   "cell_type": "code",
   "execution_count": null,
   "id": "601a2e10c945b363",
   "metadata": {},
   "source": [
    "output = results.copy()"
   ],
   "outputs": []
  },
  {
   "cell_type": "code",
   "execution_count": null,
   "id": "538db282c51069d6",
   "metadata": {},
   "source": [
    "output_vals = output[('emitter',)]"
   ],
   "outputs": []
  },
  {
   "cell_type": "code",
   "execution_count": null,
   "id": "a44c1cc0f9850758",
   "metadata": {},
   "source": [
    "timescale = list(set([val.get('time', 0.0) for val in output_vals]))"
   ],
   "outputs": []
  },
  {
   "cell_type": "code",
   "execution_count": null,
   "id": "5c510ec6dac592eb",
   "metadata": {},
   "source": [
    "timescale"
   ],
   "outputs": []
  },
  {
   "cell_type": "code",
   "execution_count": null,
   "id": "f27e97fdebb17b07",
   "metadata": {},
   "source": [
    "data = []\n",
    "counts_data = []"
   ],
   "outputs": []
  },
  {
   "cell_type": "code",
   "execution_count": null,
   "id": "c476add07372b47c",
   "metadata": {},
   "source": [
    "for i, val in enumerate(output_vals):\n",
    "    species_data = val.get('floating_species_concentrations')\n",
    "    data.append(species_data.get('plasminogen'))\n",
    "    counts = val.get('floating_species_counts')\n",
    "    counts_data.append(counts.get('plasminogen'))"
   ],
   "outputs": []
  },
  {
   "cell_type": "code",
   "execution_count": null,
   "id": "f84f85bf43a82b40",
   "metadata": {},
   "source": [
    "len(timescale), len(data)"
   ],
   "outputs": []
  },
  {
   "cell_type": "code",
   "execution_count": null,
   "id": "4311ca8a4fce3a7c",
   "metadata": {},
   "source": [
    "Plotter2d.plot_single_output(timescale=timescale, data=data, species_name='plasminogen concentration')"
   ],
   "outputs": []
  },
  {
   "cell_type": "code",
   "execution_count": null,
   "id": "a385d75479e50b1c",
   "metadata": {},
   "source": [
    "Plotter2d.plot_single_output(timescale=timescale, data=counts_data, species_name='plasminogen counts', plot_concentration=False)"
   ],
   "outputs": []
  },
  {
   "cell_type": "code",
   "execution_count": null,
   "id": "4b07263ce48d2094",
   "metadata": {},
   "source": [
    "Plotter2d.plot_output(x_data=data, y_data=counts_data, title='Plasminogen concentration over counts', x_label='concentration', y_label='counts', species='plasminogen')"
   ],
   "outputs": []
  },
  {
   "cell_type": "code",
   "execution_count": null,
   "id": "1e5efa38b0de7505",
   "metadata": {},
   "source": [],
   "outputs": []
  },
  {
   "cell_type": "code",
   "execution_count": null,
   "id": "65cf4a00f212edaa",
   "metadata": {},
   "source": [
    "class_name = 'TelluriumProcess'\n",
    "module_name = 'tellurium_process'\n",
    "module__ = module_name.split('_')\n",
    "for i, v in enumerate(module__):\n",
    "    val = v.replace(v[0], v[0].upper())\n",
    "    module__.pop(i)\n",
    "    module__.insert(i, val)\n",
    "print(module__.join())\n",
    "import_statement = f'biosimulator_processes.processes.{module_name}'\n",
    "\n",
    "module = __import__(\n",
    "    import_statement, fromlist=[class_name])"
   ],
   "outputs": []
  },
  {
   "cell_type": "code",
   "execution_count": null,
   "id": "2b43d4e3d39be4ff",
   "metadata": {
    "collapsed": false
   },
   "source": [
    "module"
   ],
   "outputs": []
  },
  {
   "cell_type": "code",
   "execution_count": null,
   "id": "db19fb9af030507",
   "metadata": {
    "collapsed": false
   },
   "source": [
    "class_name\n"
   ],
   "outputs": []
  },
  {
   "cell_type": "code",
   "execution_count": null,
   "id": "9aa632d6ba1240d1",
   "metadata": {
    "collapsed": false
   },
   "source": [
    "x = list(range(10))\n",
    "y = list(range(10))\n",
    "z = [x, y]\n",
    "\n",
    "def func(z):\n",
    "    for i, v in enumerate(z):\n",
    "        if z[i + 1] != z[i]:\n",
    "            return"
   ],
   "outputs": []
  },
  {
   "cell_type": "code",
   "execution_count": 4,
   "id": "5e19d61cb651a822",
   "metadata": {
    "collapsed": false,
    "ExecuteTime": {
     "end_time": "2024-05-02T17:46:29.460012Z",
     "start_time": "2024-05-02T17:46:29.441447Z"
    }
   },
   "source": [
    "from biosimulator_processes.processes.copasi_process import CopasiProcess \n",
    "\n",
    "\n",
    "process_name = 'copasi'\n",
    "module_name = f'{process_name}_process'\n",
    "import_statement = f'biosimulator_processes.processes.{module_name}'\n",
    "module_paths = module_name.split('_')\n",
    "module_id = module_paths[0]\n",
    "module_type = module_paths[1]\n",
    "class_name = module_id.replace(module_id[0], module_id[0].upper())\n",
    "class_name += module_type.replace(module_type[0], module_type[0].upper())\n",
    "module = __import__(\n",
    "    import_statement, fromlist=[class_name])\n",
    "# Get the class from the module\n",
    "bigraph_class = getattr(module, class_name)"
   ],
   "outputs": []
  },
  {
   "cell_type": "code",
   "execution_count": 5,
   "source": [
    "document['copasi_A']['config']"
   ],
   "metadata": {
    "collapsed": false,
    "ExecuteTime": {
     "end_time": "2024-05-02T17:46:31.253580Z",
     "start_time": "2024-05-02T17:46:31.241197Z"
    }
   },
   "id": "d560d9964c489785",
   "outputs": []
  },
  {
   "cell_type": "code",
   "execution_count": 6,
   "source": [
    "copasi_process: CopasiProcess = bigraph_class(config=document['copasi_A']['config'])\n",
    "\n",
    "process_attributes = vars(copasi_process)"
   ],
   "metadata": {
    "collapsed": false,
    "ExecuteTime": {
     "end_time": "2024-05-02T17:46:32.631847Z",
     "start_time": "2024-05-02T17:46:32.573561Z"
    }
   },
   "id": "c1aff67afe1cd8e8",
   "outputs": []
  },
  {
   "cell_type": "code",
   "execution_count": 7,
   "source": [
    "new_initial_state = copasi_process.initial_state().copy()\n",
    "\n",
    "new_initial_state['model_parameters']['degradation constant 1'] = 0.50\n",
    "\n",
    "new_initial_state"
   ],
   "metadata": {
    "collapsed": false,
    "ExecuteTime": {
     "end_time": "2024-05-02T17:46:33.853711Z",
     "start_time": "2024-05-02T17:46:33.843267Z"
    }
   },
   "id": "8b3a24a6e47f6eab",
   "outputs": []
  },
  {
   "cell_type": "code",
   "execution_count": 12,
   "source": [],
   "metadata": {
    "collapsed": false,
    "ExecuteTime": {
     "end_time": "2024-05-02T18:01:29.107236Z",
     "start_time": "2024-05-02T18:01:29.092702Z"
    }
   },
   "id": "6a2e21d03e963604",
   "outputs": []
  },
  {
   "cell_type": "code",
   "execution_count": 13,
   "source": [
    "\n",
    "\n",
    "\n",
    "def parse_state_params(state) -> list[str]:\n",
    "    state_parameters = []\n",
    "    _nested_vals = {}\n",
    "    \n",
    "    def parse_state(state): \n",
    "        for param_name, val in state.items():\n",
    "            if not isinstance(val, dict):\n",
    "                state_parameters.append(param_name)\n",
    "            else:\n",
    "                _nested_vals[param_name] = val\n",
    "    \n",
    "    parse_state(state)\n",
    "    nested = _nested_vals is not None\n",
    "    \n",
    "    def parse_nested(state, is_nested):\n",
    "        if not _nested_vals:\n",
    "            nested = False\n",
    "            print('nesting complete')\n",
    "            return\n",
    "        else:\n",
    "            print('is nested')\n",
    "            parse_state(state)\n",
    "            _nested_vals.clear()\n",
    "    \n",
    "    while nested:\n",
    "        parse_state(_nested_vals)\n",
    "        \n",
    "    return state_parameters\n",
    "\n",
    "\n",
    "\n",
    "        \n",
    "        \n",
    "    \n",
    "\n",
    "            \n",
    "        "
   ],
   "metadata": {
    "collapsed": false,
    "ExecuteTime": {
     "end_time": "2024-05-02T18:09:55.905065Z",
     "start_time": "2024-05-02T18:09:55.895769Z"
    }
   },
   "id": "4206e75e0d01fbb8",
   "outputs": []
  },
  {
   "cell_type": "code",
   "execution_count": 15,
   "source": [
    "params = parse_state_params(new_initial_state)"
   ],
   "metadata": {
    "collapsed": false,
    "ExecuteTime": {
     "end_time": "2024-05-03T15:03:11.977888Z",
     "start_time": "2024-05-02T18:10:16.601120Z"
    }
   },
   "id": "6258b8ec1891a27d",
   "outputs": []
  },
  {
   "cell_type": "code",
   "execution_count": 9,
   "source": [
    "\n",
    "copasi_process.initial_state = new_initial_state"
   ],
   "metadata": {
    "collapsed": false,
    "ExecuteTime": {
     "end_time": "2024-05-02T17:48:28.917017Z",
     "start_time": "2024-05-02T17:48:28.904501Z"
    }
   },
   "id": "75aadcdd3dc1c8db",
   "outputs": []
  },
  {
   "cell_type": "code",
   "execution_count": 8,
   "source": [
    "one_step = copasi_process.update(new_initial_state, 100.0)\n",
    "\n",
    "one_step"
   ],
   "metadata": {
    "collapsed": false,
    "ExecuteTime": {
     "end_time": "2024-05-02T17:47:21.105371Z",
     "start_time": "2024-05-02T17:47:21.091725Z"
    }
   },
   "id": "f7c8f328902103c",
   "outputs": []
  },
  {
   "cell_type": "code",
   "execution_count": 11,
   "source": [
    "copasi_process.initial_state()"
   ],
   "metadata": {
    "collapsed": false,
    "ExecuteTime": {
     "end_time": "2024-05-02T17:48:44.839724Z",
     "start_time": "2024-05-02T17:48:44.666280Z"
    }
   },
   "id": "d64f8f8de7463a00",
   "outputs": []
  },
  {
   "cell_type": "code",
   "execution_count": 7,
   "source": [
    "workflow.state"
   ],
   "metadata": {
    "collapsed": false,
    "ExecuteTime": {
     "end_time": "2024-05-02T17:41:00.790459Z",
     "start_time": "2024-05-02T17:41:00.773632Z"
    }
   },
   "id": "2fd1d1169b59660b",
   "outputs": []
  },
  {
   "cell_type": "code",
   "execution_count": 6,
   "source": [
    "workflow"
   ],
   "metadata": {
    "collapsed": false,
    "ExecuteTime": {
     "end_time": "2024-05-02T17:40:58.396766Z",
     "start_time": "2024-05-02T17:40:58.305142Z"
    }
   },
   "id": "c74e508f13eaceeb",
   "outputs": []
  },
  {
   "cell_type": "code",
   "execution_count": null,
   "source": [],
   "metadata": {
    "collapsed": false
   },
   "id": "50919eb9594a555",
   "outputs": []
  }
 ],
 "metadata": {
  "kernelspec": {
   "display_name": "Python 3",
   "language": "python",
   "name": "python3"
  },
  "language_info": {
   "codemirror_mode": {
    "name": "ipython",
    "version": 2
   },
   "file_extension": ".py",
   "mimetype": "text/x-python",
   "name": "python",
   "nbconvert_exporter": "python",
   "pygments_lexer": "ipython2",
   "version": "2.7.6"
  }
 },
 "nbformat": 4,
 "nbformat_minor": 5
}
