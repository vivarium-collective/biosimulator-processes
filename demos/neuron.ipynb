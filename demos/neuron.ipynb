{
 "cells": [
  {
   "metadata": {
    "ExecuteTime": {
     "end_time": "2024-06-17T18:34:31.119841Z",
     "start_time": "2024-06-17T18:34:28.770134Z"
    }
   },
   "cell_type": "code",
   "source": [
    "from biosimulator_processes.steps.neuron_network import SimpleNeuronNetwork, SimpleNeuron\n",
    "from biosimulator_processes import CORE\n",
    "import os"
   ],
   "id": "586db2c206c96d2f",
   "outputs": [
    {
     "name": "stdout",
     "output_type": "stream",
     "text": [
      "Smoldyn is not properly installed in this environment and thus its process implementation cannot be registered. Please consult smoldyn documentation.\n",
      "Available processes:\n",
      "[ 'console-emitter',\n",
      "  'ram-emitter',\n",
      "  'composite',\n",
      "  'cobra-process',\n",
      "  'copasi-process',\n",
      "  'tellurium-process',\n",
      "  'utc-amici',\n",
      "  'utc-copasi',\n",
      "  'utc-tellurium',\n",
      "  'copasi-step',\n",
      "  'tellurium-step',\n",
      "  'amici-step',\n",
      "  'plotter',\n",
      "  'plotter2d',\n",
      "  'utc-comparator',\n",
      "  'simple-neuron',\n",
      "  'simple-neuron-network']\n"
     ]
    }
   ],
   "execution_count": 1
  },
  {
   "metadata": {
    "ExecuteTime": {
     "end_time": "2024-06-17T15:41:33.174194Z",
     "start_time": "2024-06-17T15:41:33.167761Z"
    }
   },
   "cell_type": "code",
   "source": [
    "\"\"\"\n",
    "config_schema = {\n",
    "        'doc_config': {\n",
    "            'doc_name': 'string',\n",
    "            'doc_id': 'string',\n",
    "            'model_name': 'string',\n",
    "            'model_id': 'string',\n",
    "            'param_config': 'tree[string]',  # these should be model-specific params as per neuroml\n",
    "            'network_id': 'string'\n",
    "        },\n",
    "        'simulation_config': 'tree',  # defining simulation_id[str], duration[int], dt[float], simulation_seed[int], max_memory[str]\n",
    "        'pulse_gen_config': {  # optional\n",
    "            'amplitude': {\n",
    "                '_type': 'string',\n",
    "                '_default': \"0.07 nA\"\n",
    "            },\n",
    "            'delay': {\n",
    "                '_type': 'string',\n",
    "                '_default': \"0ms\"\n",
    "            },\n",
    "            'duration': {\n",
    "                '_type': 'string',\n",
    "                '_default': \"1000ms\"\n",
    "            }\n",
    "        },\n",
    "        'save_dir': {  # optional\n",
    "            '_type': 'string',\n",
    "            '_default': mkdtemp()\n",
    "        },\n",
    "        'nml_filename': 'string'  # optional\n",
    "    }\n",
    "\"\"\""
   ],
   "id": "3088e768db4c7572",
   "outputs": [
    {
     "data": {
      "text/plain": [
       "\"\\nconfig_schema = {\\n        'num_neurons': 'integer',\\n        'doc_config': {\\n            'doc_name': 'string',\\n            'doc_id': 'string',\\n            'model_name': 'string',\\n            'model_id': 'string',\\n            'param_config': 'tree[string]'\\n        },\\n        'synapse_config': 'tree[string]',  # {'synapse_name': {synapse_id: '', synapse_params: {}}}\\n        'network_config': {\\n            'network_id': 'string',\\n            'validate': {\\n                '_type': 'boolean',\\n                '_default': False\\n            },\\n            'population_config': 'tree'  # {population_id: {size: 5, property_config: {tag: str, value: str} <-- optional}}\\n        }\\n    }\\n\""
      ]
     },
     "execution_count": 2,
     "metadata": {},
     "output_type": "execute_result"
    }
   ],
   "execution_count": 2
  },
  {
   "metadata": {
    "ExecuteTime": {
     "end_time": "2024-06-17T15:41:33.652892Z",
     "start_time": "2024-06-17T15:41:33.515636Z"
    }
   },
   "cell_type": "code",
   "source": [
    "network = SimpleNeuronNetwork(\n",
    "    config={\n",
    "        'num_neurons': 2,\n",
    "        'doc_config': {\n",
    "            'doc_name': \"NeuroMLDocument\",\n",
    "            'doc_id': \"IzNet\",\n",
    "            'model_name': \"Izhikevich2007Cell\",\n",
    "            'model_id': \"iz2007RS0\",\n",
    "            'param_config': {\n",
    "                'v0': \"-60mV\",\n",
    "                'C': \"100pF\",\n",
    "                'k': \"0.7nS_per_mV\",\n",
    "                'vr': \"-60mV\",\n",
    "                'vt': \"-40mV\",\n",
    "                'vpeak': \"35mV\",\n",
    "                'a': \"0.03per_ms\",\n",
    "                'b': \"-2nS\",\n",
    "                'c': \"-50.0mV\",\n",
    "                'd': \"100pA\"  \n",
    "            },\n",
    "        },\n",
    "        'synapse_config': {\n",
    "            \"ExpOneSynapse\": {\n",
    "                'synapse_id': \"syn0\",\n",
    "                'synapse_params': {\n",
    "                    'erev': \"0mV\",\n",
    "                    'gbase': \"65nS\",\n",
    "                    'tau_decay': \"3ms\"\n",
    "                }\n",
    "            }\n",
    "        },\n",
    "        'network_config': {\n",
    "            'network_id': \"IzNet\",\n",
    "            'population_config': {\n",
    "                \"IzPop0\": {\n",
    "                    'size': 5,\n",
    "                    'property_config': {\n",
    "                        'tag': \"color\",\n",
    "                        'value': \"0 0 .8\"\n",
    "                    }\n",
    "                },\n",
    "                \"IzPop1\": {\n",
    "                    'size': 5,\n",
    "                    'property_config': {\n",
    "                        'tag': \"color\",\n",
    "                        'value': \"0 0 .8\"\n",
    "                    }\n",
    "                }\n",
    "            }\n",
    "        },\n",
    "        'save_dir': os.getcwd()\n",
    "    }, \n",
    "    core=CORE\n",
    ")"
   ],
   "id": "1f1bf4d574d1b3a9",
   "outputs": [
    {
     "name": "stderr",
     "output_type": "stream",
     "text": [
      "libNeuroML >>> WARNING - Build time validation is disabled.\n",
      "libNeuroML >>> WARNING - Build time validation is disabled.\n"
     ]
    },
    {
     "name": "stdout",
     "output_type": "stream",
     "text": [
      "Izhikevich2007Cell -- Cell based on the modified Izhikevich model in Izhikevich 2007, Dynamical systems in neuroscience, MIT Press\n",
      "\n",
      "NeuroMLv2 schema documentation: https://docs.neuroml.org/Userdocs/Schemas/Index.html?highlight=izhikevich2007Cell#izhikevich2007cell for more information.\n",
      "\n",
      "Valid members for Izhikevich2007Cell are:\n",
      "* v0 (class: Nml2Quantity_voltage, Required)\n",
      "\t* Contents ('ids'/<objects>): -60mV\n",
      "\n",
      "* neuro_lex_id (class: NeuroLexId, Optional)\n",
      "* d (class: Nml2Quantity_current, Required)\n",
      "\t* Contents ('ids'/<objects>): 100pA\n",
      "\n",
      "* notes (class: xs:string, Optional)\n",
      "* k (class: Nml2Quantity_conductancePerVoltage, Required)\n",
      "\t* Contents ('ids'/<objects>): 0.7nS_per_mV\n",
      "\n",
      "* a (class: Nml2Quantity_pertime, Required)\n",
      "\t* Contents ('ids'/<objects>): 0.03per_ms\n",
      "\n",
      "* id (class: NmlId, Required)\n",
      "\t* Contents ('ids'/<objects>): iz2007RS0\n",
      "\n",
      "* properties (class: Property, Optional)\n",
      "* vr (class: Nml2Quantity_voltage, Required)\n",
      "\t* Contents ('ids'/<objects>): -60mV\n",
      "\n",
      "* b (class: Nml2Quantity_conductance, Required)\n",
      "\t* Contents ('ids'/<objects>): -2nS\n",
      "\n",
      "* C (class: Nml2Quantity_capacitance, Required)\n",
      "\t* Contents ('ids'/<objects>): 100pF\n",
      "\n",
      "* annotation (class: Annotation, Optional)\n",
      "* vt (class: Nml2Quantity_voltage, Required)\n",
      "\t* Contents ('ids'/<objects>): -40mV\n",
      "\n",
      "* c (class: Nml2Quantity_voltage, Required)\n",
      "\t* Contents ('ids'/<objects>): -50.0mV\n",
      "\n",
      "* metaid (class: MetaId, Optional)\n",
      "* vpeak (class: Nml2Quantity_voltage, Required)\n",
      "\t* Contents ('ids'/<objects>): 35mV\n",
      "\n",
      "\n"
     ]
    },
    {
     "ename": "ValueError",
     "evalue": "Validation failed:\n- Projection (proj_0): Value \"<ExpOneSynapse id=\"syn0\" gbase=\"65nS\" erev=\"0mV\" tauDecay=\"3ms\"/>\n\" is not of the correct base simple type (str)\n- Projection (proj_0): Value \"Population: IzPop0 with 5 components of type iz2007RS0\" is not of the correct base simple type (str)\n- Projection (proj_0): Value \"Population: IzPop1 with 5 components of type iz2007RS0\" is not of the correct base simple type (str)\n",
     "output_type": "error",
     "traceback": [
      "\u001B[0;31m---------------------------------------------------------------------------\u001B[0m",
      "\u001B[0;31mValueError\u001B[0m                                Traceback (most recent call last)",
      "Cell \u001B[0;32mIn[3], line 1\u001B[0m\n\u001B[0;32m----> 1\u001B[0m network \u001B[38;5;241m=\u001B[39m \u001B[43mSimpleNeuronNetwork\u001B[49m\u001B[43m(\u001B[49m\n\u001B[1;32m      2\u001B[0m \u001B[43m    \u001B[49m\u001B[43mconfig\u001B[49m\u001B[38;5;241;43m=\u001B[39;49m\u001B[43m{\u001B[49m\n\u001B[1;32m      3\u001B[0m \u001B[43m        \u001B[49m\u001B[38;5;124;43m'\u001B[39;49m\u001B[38;5;124;43mnum_neurons\u001B[39;49m\u001B[38;5;124;43m'\u001B[39;49m\u001B[43m:\u001B[49m\u001B[43m \u001B[49m\u001B[38;5;241;43m2\u001B[39;49m\u001B[43m,\u001B[49m\n\u001B[1;32m      4\u001B[0m \u001B[43m        \u001B[49m\u001B[38;5;124;43m'\u001B[39;49m\u001B[38;5;124;43mdoc_config\u001B[39;49m\u001B[38;5;124;43m'\u001B[39;49m\u001B[43m:\u001B[49m\u001B[43m \u001B[49m\u001B[43m{\u001B[49m\n\u001B[1;32m      5\u001B[0m \u001B[43m            \u001B[49m\u001B[38;5;124;43m'\u001B[39;49m\u001B[38;5;124;43mdoc_name\u001B[39;49m\u001B[38;5;124;43m'\u001B[39;49m\u001B[43m:\u001B[49m\u001B[43m \u001B[49m\u001B[38;5;124;43m\"\u001B[39;49m\u001B[38;5;124;43mNeuroMLDocument\u001B[39;49m\u001B[38;5;124;43m\"\u001B[39;49m\u001B[43m,\u001B[49m\n\u001B[1;32m      6\u001B[0m \u001B[43m            \u001B[49m\u001B[38;5;124;43m'\u001B[39;49m\u001B[38;5;124;43mdoc_id\u001B[39;49m\u001B[38;5;124;43m'\u001B[39;49m\u001B[43m:\u001B[49m\u001B[43m \u001B[49m\u001B[38;5;124;43m\"\u001B[39;49m\u001B[38;5;124;43mIzNet\u001B[39;49m\u001B[38;5;124;43m\"\u001B[39;49m\u001B[43m,\u001B[49m\n\u001B[1;32m      7\u001B[0m \u001B[43m            \u001B[49m\u001B[38;5;124;43m'\u001B[39;49m\u001B[38;5;124;43mmodel_name\u001B[39;49m\u001B[38;5;124;43m'\u001B[39;49m\u001B[43m:\u001B[49m\u001B[43m \u001B[49m\u001B[38;5;124;43m\"\u001B[39;49m\u001B[38;5;124;43mIzhikevich2007Cell\u001B[39;49m\u001B[38;5;124;43m\"\u001B[39;49m\u001B[43m,\u001B[49m\n\u001B[1;32m      8\u001B[0m \u001B[43m            \u001B[49m\u001B[38;5;124;43m'\u001B[39;49m\u001B[38;5;124;43mmodel_id\u001B[39;49m\u001B[38;5;124;43m'\u001B[39;49m\u001B[43m:\u001B[49m\u001B[43m \u001B[49m\u001B[38;5;124;43m\"\u001B[39;49m\u001B[38;5;124;43miz2007RS0\u001B[39;49m\u001B[38;5;124;43m\"\u001B[39;49m\u001B[43m,\u001B[49m\n\u001B[1;32m      9\u001B[0m \u001B[43m            \u001B[49m\u001B[38;5;124;43m'\u001B[39;49m\u001B[38;5;124;43mparam_config\u001B[39;49m\u001B[38;5;124;43m'\u001B[39;49m\u001B[43m:\u001B[49m\u001B[43m \u001B[49m\u001B[43m{\u001B[49m\n\u001B[1;32m     10\u001B[0m \u001B[43m                \u001B[49m\u001B[38;5;124;43m'\u001B[39;49m\u001B[38;5;124;43mv0\u001B[39;49m\u001B[38;5;124;43m'\u001B[39;49m\u001B[43m:\u001B[49m\u001B[43m \u001B[49m\u001B[38;5;124;43m\"\u001B[39;49m\u001B[38;5;124;43m-60mV\u001B[39;49m\u001B[38;5;124;43m\"\u001B[39;49m\u001B[43m,\u001B[49m\n\u001B[1;32m     11\u001B[0m \u001B[43m                \u001B[49m\u001B[38;5;124;43m'\u001B[39;49m\u001B[38;5;124;43mC\u001B[39;49m\u001B[38;5;124;43m'\u001B[39;49m\u001B[43m:\u001B[49m\u001B[43m \u001B[49m\u001B[38;5;124;43m\"\u001B[39;49m\u001B[38;5;124;43m100pF\u001B[39;49m\u001B[38;5;124;43m\"\u001B[39;49m\u001B[43m,\u001B[49m\n\u001B[1;32m     12\u001B[0m \u001B[43m                \u001B[49m\u001B[38;5;124;43m'\u001B[39;49m\u001B[38;5;124;43mk\u001B[39;49m\u001B[38;5;124;43m'\u001B[39;49m\u001B[43m:\u001B[49m\u001B[43m \u001B[49m\u001B[38;5;124;43m\"\u001B[39;49m\u001B[38;5;124;43m0.7nS_per_mV\u001B[39;49m\u001B[38;5;124;43m\"\u001B[39;49m\u001B[43m,\u001B[49m\n\u001B[1;32m     13\u001B[0m \u001B[43m                \u001B[49m\u001B[38;5;124;43m'\u001B[39;49m\u001B[38;5;124;43mvr\u001B[39;49m\u001B[38;5;124;43m'\u001B[39;49m\u001B[43m:\u001B[49m\u001B[43m \u001B[49m\u001B[38;5;124;43m\"\u001B[39;49m\u001B[38;5;124;43m-60mV\u001B[39;49m\u001B[38;5;124;43m\"\u001B[39;49m\u001B[43m,\u001B[49m\n\u001B[1;32m     14\u001B[0m \u001B[43m                \u001B[49m\u001B[38;5;124;43m'\u001B[39;49m\u001B[38;5;124;43mvt\u001B[39;49m\u001B[38;5;124;43m'\u001B[39;49m\u001B[43m:\u001B[49m\u001B[43m \u001B[49m\u001B[38;5;124;43m\"\u001B[39;49m\u001B[38;5;124;43m-40mV\u001B[39;49m\u001B[38;5;124;43m\"\u001B[39;49m\u001B[43m,\u001B[49m\n\u001B[1;32m     15\u001B[0m \u001B[43m                \u001B[49m\u001B[38;5;124;43m'\u001B[39;49m\u001B[38;5;124;43mvpeak\u001B[39;49m\u001B[38;5;124;43m'\u001B[39;49m\u001B[43m:\u001B[49m\u001B[43m \u001B[49m\u001B[38;5;124;43m\"\u001B[39;49m\u001B[38;5;124;43m35mV\u001B[39;49m\u001B[38;5;124;43m\"\u001B[39;49m\u001B[43m,\u001B[49m\n\u001B[1;32m     16\u001B[0m \u001B[43m                \u001B[49m\u001B[38;5;124;43m'\u001B[39;49m\u001B[38;5;124;43ma\u001B[39;49m\u001B[38;5;124;43m'\u001B[39;49m\u001B[43m:\u001B[49m\u001B[43m \u001B[49m\u001B[38;5;124;43m\"\u001B[39;49m\u001B[38;5;124;43m0.03per_ms\u001B[39;49m\u001B[38;5;124;43m\"\u001B[39;49m\u001B[43m,\u001B[49m\n\u001B[1;32m     17\u001B[0m \u001B[43m                \u001B[49m\u001B[38;5;124;43m'\u001B[39;49m\u001B[38;5;124;43mb\u001B[39;49m\u001B[38;5;124;43m'\u001B[39;49m\u001B[43m:\u001B[49m\u001B[43m \u001B[49m\u001B[38;5;124;43m\"\u001B[39;49m\u001B[38;5;124;43m-2nS\u001B[39;49m\u001B[38;5;124;43m\"\u001B[39;49m\u001B[43m,\u001B[49m\n\u001B[1;32m     18\u001B[0m \u001B[43m                \u001B[49m\u001B[38;5;124;43m'\u001B[39;49m\u001B[38;5;124;43mc\u001B[39;49m\u001B[38;5;124;43m'\u001B[39;49m\u001B[43m:\u001B[49m\u001B[43m \u001B[49m\u001B[38;5;124;43m\"\u001B[39;49m\u001B[38;5;124;43m-50.0mV\u001B[39;49m\u001B[38;5;124;43m\"\u001B[39;49m\u001B[43m,\u001B[49m\n\u001B[1;32m     19\u001B[0m \u001B[43m                \u001B[49m\u001B[38;5;124;43m'\u001B[39;49m\u001B[38;5;124;43md\u001B[39;49m\u001B[38;5;124;43m'\u001B[39;49m\u001B[43m:\u001B[49m\u001B[43m \u001B[49m\u001B[38;5;124;43m\"\u001B[39;49m\u001B[38;5;124;43m100pA\u001B[39;49m\u001B[38;5;124;43m\"\u001B[39;49m\u001B[43m  \u001B[49m\n\u001B[1;32m     20\u001B[0m \u001B[43m            \u001B[49m\u001B[43m}\u001B[49m\u001B[43m,\u001B[49m\n\u001B[1;32m     21\u001B[0m \u001B[43m        \u001B[49m\u001B[43m}\u001B[49m\u001B[43m,\u001B[49m\n\u001B[1;32m     22\u001B[0m \u001B[43m        \u001B[49m\u001B[38;5;124;43m'\u001B[39;49m\u001B[38;5;124;43msynapse_config\u001B[39;49m\u001B[38;5;124;43m'\u001B[39;49m\u001B[43m:\u001B[49m\u001B[43m \u001B[49m\u001B[43m{\u001B[49m\n\u001B[1;32m     23\u001B[0m \u001B[43m            \u001B[49m\u001B[38;5;124;43m\"\u001B[39;49m\u001B[38;5;124;43mExpOneSynapse\u001B[39;49m\u001B[38;5;124;43m\"\u001B[39;49m\u001B[43m:\u001B[49m\u001B[43m \u001B[49m\u001B[43m{\u001B[49m\n\u001B[1;32m     24\u001B[0m \u001B[43m                \u001B[49m\u001B[38;5;124;43m'\u001B[39;49m\u001B[38;5;124;43msynapse_id\u001B[39;49m\u001B[38;5;124;43m'\u001B[39;49m\u001B[43m:\u001B[49m\u001B[43m \u001B[49m\u001B[38;5;124;43m\"\u001B[39;49m\u001B[38;5;124;43msyn0\u001B[39;49m\u001B[38;5;124;43m\"\u001B[39;49m\u001B[43m,\u001B[49m\n\u001B[1;32m     25\u001B[0m \u001B[43m                \u001B[49m\u001B[38;5;124;43m'\u001B[39;49m\u001B[38;5;124;43msynapse_params\u001B[39;49m\u001B[38;5;124;43m'\u001B[39;49m\u001B[43m:\u001B[49m\u001B[43m \u001B[49m\u001B[43m{\u001B[49m\n\u001B[1;32m     26\u001B[0m \u001B[43m                    \u001B[49m\u001B[38;5;124;43m'\u001B[39;49m\u001B[38;5;124;43merev\u001B[39;49m\u001B[38;5;124;43m'\u001B[39;49m\u001B[43m:\u001B[49m\u001B[43m \u001B[49m\u001B[38;5;124;43m\"\u001B[39;49m\u001B[38;5;124;43m0mV\u001B[39;49m\u001B[38;5;124;43m\"\u001B[39;49m\u001B[43m,\u001B[49m\n\u001B[1;32m     27\u001B[0m \u001B[43m                    \u001B[49m\u001B[38;5;124;43m'\u001B[39;49m\u001B[38;5;124;43mgbase\u001B[39;49m\u001B[38;5;124;43m'\u001B[39;49m\u001B[43m:\u001B[49m\u001B[43m \u001B[49m\u001B[38;5;124;43m\"\u001B[39;49m\u001B[38;5;124;43m65nS\u001B[39;49m\u001B[38;5;124;43m\"\u001B[39;49m\u001B[43m,\u001B[49m\n\u001B[1;32m     28\u001B[0m \u001B[43m                    \u001B[49m\u001B[38;5;124;43m'\u001B[39;49m\u001B[38;5;124;43mtau_decay\u001B[39;49m\u001B[38;5;124;43m'\u001B[39;49m\u001B[43m:\u001B[49m\u001B[43m \u001B[49m\u001B[38;5;124;43m\"\u001B[39;49m\u001B[38;5;124;43m3ms\u001B[39;49m\u001B[38;5;124;43m\"\u001B[39;49m\n\u001B[1;32m     29\u001B[0m \u001B[43m                \u001B[49m\u001B[43m}\u001B[49m\n\u001B[1;32m     30\u001B[0m \u001B[43m            \u001B[49m\u001B[43m}\u001B[49m\n\u001B[1;32m     31\u001B[0m \u001B[43m        \u001B[49m\u001B[43m}\u001B[49m\u001B[43m,\u001B[49m\n\u001B[1;32m     32\u001B[0m \u001B[43m        \u001B[49m\u001B[38;5;124;43m'\u001B[39;49m\u001B[38;5;124;43mnetwork_config\u001B[39;49m\u001B[38;5;124;43m'\u001B[39;49m\u001B[43m:\u001B[49m\u001B[43m \u001B[49m\u001B[43m{\u001B[49m\n\u001B[1;32m     33\u001B[0m \u001B[43m            \u001B[49m\u001B[38;5;124;43m'\u001B[39;49m\u001B[38;5;124;43mnetwork_id\u001B[39;49m\u001B[38;5;124;43m'\u001B[39;49m\u001B[43m:\u001B[49m\u001B[43m \u001B[49m\u001B[38;5;124;43m\"\u001B[39;49m\u001B[38;5;124;43mIzNet\u001B[39;49m\u001B[38;5;124;43m\"\u001B[39;49m\u001B[43m,\u001B[49m\n\u001B[1;32m     34\u001B[0m \u001B[43m            \u001B[49m\u001B[38;5;124;43m'\u001B[39;49m\u001B[38;5;124;43mpopulation_config\u001B[39;49m\u001B[38;5;124;43m'\u001B[39;49m\u001B[43m:\u001B[49m\u001B[43m \u001B[49m\u001B[43m{\u001B[49m\n\u001B[1;32m     35\u001B[0m \u001B[43m                \u001B[49m\u001B[38;5;124;43m\"\u001B[39;49m\u001B[38;5;124;43mIzPop0\u001B[39;49m\u001B[38;5;124;43m\"\u001B[39;49m\u001B[43m:\u001B[49m\u001B[43m \u001B[49m\u001B[43m{\u001B[49m\n\u001B[1;32m     36\u001B[0m \u001B[43m                    \u001B[49m\u001B[38;5;124;43m'\u001B[39;49m\u001B[38;5;124;43msize\u001B[39;49m\u001B[38;5;124;43m'\u001B[39;49m\u001B[43m:\u001B[49m\u001B[43m \u001B[49m\u001B[38;5;241;43m5\u001B[39;49m\u001B[43m,\u001B[49m\n\u001B[1;32m     37\u001B[0m \u001B[43m                    \u001B[49m\u001B[38;5;124;43m'\u001B[39;49m\u001B[38;5;124;43mproperty_config\u001B[39;49m\u001B[38;5;124;43m'\u001B[39;49m\u001B[43m:\u001B[49m\u001B[43m \u001B[49m\u001B[43m{\u001B[49m\n\u001B[1;32m     38\u001B[0m \u001B[43m                        \u001B[49m\u001B[38;5;124;43m'\u001B[39;49m\u001B[38;5;124;43mtag\u001B[39;49m\u001B[38;5;124;43m'\u001B[39;49m\u001B[43m:\u001B[49m\u001B[43m \u001B[49m\u001B[38;5;124;43m\"\u001B[39;49m\u001B[38;5;124;43mcolor\u001B[39;49m\u001B[38;5;124;43m\"\u001B[39;49m\u001B[43m,\u001B[49m\n\u001B[1;32m     39\u001B[0m \u001B[43m                        \u001B[49m\u001B[38;5;124;43m'\u001B[39;49m\u001B[38;5;124;43mvalue\u001B[39;49m\u001B[38;5;124;43m'\u001B[39;49m\u001B[43m:\u001B[49m\u001B[43m \u001B[49m\u001B[38;5;124;43m\"\u001B[39;49m\u001B[38;5;124;43m0 0 .8\u001B[39;49m\u001B[38;5;124;43m\"\u001B[39;49m\n\u001B[1;32m     40\u001B[0m \u001B[43m                    \u001B[49m\u001B[43m}\u001B[49m\n\u001B[1;32m     41\u001B[0m \u001B[43m                \u001B[49m\u001B[43m}\u001B[49m\u001B[43m,\u001B[49m\n\u001B[1;32m     42\u001B[0m \u001B[43m                \u001B[49m\u001B[38;5;124;43m\"\u001B[39;49m\u001B[38;5;124;43mIzPop1\u001B[39;49m\u001B[38;5;124;43m\"\u001B[39;49m\u001B[43m:\u001B[49m\u001B[43m \u001B[49m\u001B[43m{\u001B[49m\n\u001B[1;32m     43\u001B[0m \u001B[43m                    \u001B[49m\u001B[38;5;124;43m'\u001B[39;49m\u001B[38;5;124;43msize\u001B[39;49m\u001B[38;5;124;43m'\u001B[39;49m\u001B[43m:\u001B[49m\u001B[43m \u001B[49m\u001B[38;5;241;43m5\u001B[39;49m\u001B[43m,\u001B[49m\n\u001B[1;32m     44\u001B[0m \u001B[43m                    \u001B[49m\u001B[38;5;124;43m'\u001B[39;49m\u001B[38;5;124;43mproperty_config\u001B[39;49m\u001B[38;5;124;43m'\u001B[39;49m\u001B[43m:\u001B[49m\u001B[43m \u001B[49m\u001B[43m{\u001B[49m\n\u001B[1;32m     45\u001B[0m \u001B[43m                        \u001B[49m\u001B[38;5;124;43m'\u001B[39;49m\u001B[38;5;124;43mtag\u001B[39;49m\u001B[38;5;124;43m'\u001B[39;49m\u001B[43m:\u001B[49m\u001B[43m \u001B[49m\u001B[38;5;124;43m\"\u001B[39;49m\u001B[38;5;124;43mcolor\u001B[39;49m\u001B[38;5;124;43m\"\u001B[39;49m\u001B[43m,\u001B[49m\n\u001B[1;32m     46\u001B[0m \u001B[43m                        \u001B[49m\u001B[38;5;124;43m'\u001B[39;49m\u001B[38;5;124;43mvalue\u001B[39;49m\u001B[38;5;124;43m'\u001B[39;49m\u001B[43m:\u001B[49m\u001B[43m \u001B[49m\u001B[38;5;124;43m\"\u001B[39;49m\u001B[38;5;124;43m0 0 .8\u001B[39;49m\u001B[38;5;124;43m\"\u001B[39;49m\n\u001B[1;32m     47\u001B[0m \u001B[43m                    \u001B[49m\u001B[43m}\u001B[49m\n\u001B[1;32m     48\u001B[0m \u001B[43m                \u001B[49m\u001B[43m}\u001B[49m\n\u001B[1;32m     49\u001B[0m \u001B[43m            \u001B[49m\u001B[43m}\u001B[49m\n\u001B[1;32m     50\u001B[0m \u001B[43m        \u001B[49m\u001B[43m}\u001B[49m\u001B[43m,\u001B[49m\n\u001B[1;32m     51\u001B[0m \u001B[43m        \u001B[49m\u001B[38;5;124;43m'\u001B[39;49m\u001B[38;5;124;43msave_dir\u001B[39;49m\u001B[38;5;124;43m'\u001B[39;49m\u001B[43m:\u001B[49m\u001B[43m \u001B[49m\u001B[43mos\u001B[49m\u001B[38;5;241;43m.\u001B[39;49m\u001B[43mgetcwd\u001B[49m\u001B[43m(\u001B[49m\u001B[43m)\u001B[49m\n\u001B[1;32m     52\u001B[0m \u001B[43m    \u001B[49m\u001B[43m}\u001B[49m\u001B[43m,\u001B[49m\u001B[43m \u001B[49m\n\u001B[1;32m     53\u001B[0m \u001B[43m    \u001B[49m\u001B[43mcore\u001B[49m\u001B[38;5;241;43m=\u001B[39;49m\u001B[43mCORE\u001B[49m\n\u001B[1;32m     54\u001B[0m \u001B[43m)\u001B[49m\n",
      "File \u001B[0;32m~/Desktop/uchc_work/biosimulators-2.0/biosimulator-processes/biosimulator_processes/steps/neuron_network.py:92\u001B[0m, in \u001B[0;36mSimpleNeuronNetwork.__init__\u001B[0;34m(self, config, core)\u001B[0m\n\u001B[1;32m     89\u001B[0m     pre_pop_id \u001B[38;5;241m=\u001B[39m populations[i]\n\u001B[1;32m     90\u001B[0m     post_pop_id \u001B[38;5;241m=\u001B[39m populations[i \u001B[38;5;241m+\u001B[39m \u001B[38;5;241m1\u001B[39m]\n\u001B[0;32m---> 92\u001B[0m     proj \u001B[38;5;241m=\u001B[39m \u001B[38;5;28;43mself\u001B[39;49m\u001B[38;5;241;43m.\u001B[39;49m\u001B[43mnetwork\u001B[49m\u001B[38;5;241;43m.\u001B[39;49m\u001B[43madd\u001B[49m\u001B[43m(\u001B[49m\n\u001B[1;32m     93\u001B[0m \u001B[43m        \u001B[49m\u001B[38;5;124;43m\"\u001B[39;49m\u001B[38;5;124;43mProjection\u001B[39;49m\u001B[38;5;124;43m\"\u001B[39;49m\u001B[43m,\u001B[49m\n\u001B[1;32m     94\u001B[0m \u001B[43m        \u001B[49m\u001B[38;5;28;43mid\u001B[39;49m\u001B[38;5;241;43m=\u001B[39;49m\u001B[38;5;124;43mf\u001B[39;49m\u001B[38;5;124;43m\"\u001B[39;49m\u001B[38;5;124;43mproj_\u001B[39;49m\u001B[38;5;132;43;01m{\u001B[39;49;00m\u001B[43mi\u001B[49m\u001B[38;5;132;43;01m}\u001B[39;49;00m\u001B[38;5;124;43m\"\u001B[39;49m\u001B[43m,\u001B[49m\n\u001B[1;32m     95\u001B[0m \u001B[43m        \u001B[49m\u001B[43mpresynaptic_population\u001B[49m\u001B[38;5;241;43m=\u001B[39;49m\u001B[43mpre_pop_id\u001B[49m\u001B[43m,\u001B[49m\n\u001B[1;32m     96\u001B[0m \u001B[43m        \u001B[49m\u001B[43mpostsynaptic_population\u001B[49m\u001B[38;5;241;43m=\u001B[39;49m\u001B[43mpost_pop_id\u001B[49m\u001B[43m,\u001B[49m\n\u001B[1;32m     97\u001B[0m \u001B[43m        \u001B[49m\u001B[43msynapse\u001B[49m\u001B[38;5;241;43m=\u001B[39;49m\u001B[43msynapses\u001B[49m\u001B[43m[\u001B[49m\u001B[43mi\u001B[49m\u001B[43m \u001B[49m\u001B[38;5;241;43m-\u001B[39;49m\u001B[43m \u001B[49m\u001B[38;5;241;43m1\u001B[39;49m\u001B[43m]\u001B[49m\n\u001B[1;32m     98\u001B[0m \u001B[43m    \u001B[49m\u001B[43m)\u001B[49m\n\u001B[1;32m     99\u001B[0m     \u001B[38;5;28mself\u001B[39m\u001B[38;5;241m.\u001B[39mprojections\u001B[38;5;241m.\u001B[39mappend(proj)\n\u001B[1;32m    100\u001B[0m \u001B[38;5;28;01melse\u001B[39;00m:\n",
      "File \u001B[0;32m~/Library/Caches/pypoetry/virtualenvs/biosimulator-processes-9grspSIZ-py3.11/lib/python3.11/site-packages/neuroml/nml/generatedssupersuper.py:60\u001B[0m, in \u001B[0;36mGeneratedsSuperSuper.add\u001B[0;34m(self, obj, hint, force, validate, **kwargs)\u001B[0m\n\u001B[1;32m     58\u001B[0m \u001B[38;5;66;03m# a component type has been passed, create and add a new one\u001B[39;00m\n\u001B[1;32m     59\u001B[0m \u001B[38;5;28;01mif\u001B[39;00m \u001B[38;5;28mtype\u001B[39m(obj) \u001B[38;5;129;01mis\u001B[39;00m \u001B[38;5;28mtype\u001B[39m \u001B[38;5;129;01mor\u001B[39;00m \u001B[38;5;28misinstance\u001B[39m(obj, \u001B[38;5;28mstr\u001B[39m):\n\u001B[0;32m---> 60\u001B[0m     obj \u001B[38;5;241m=\u001B[39m \u001B[38;5;28;43mself\u001B[39;49m\u001B[38;5;241;43m.\u001B[39;49m\u001B[43mcomponent_factory\u001B[49m\u001B[43m(\u001B[49m\u001B[43mobj\u001B[49m\u001B[43m,\u001B[49m\u001B[43m \u001B[49m\u001B[43mvalidate\u001B[49m\u001B[38;5;241;43m=\u001B[39;49m\u001B[43mvalidate\u001B[49m\u001B[43m,\u001B[49m\u001B[43m \u001B[49m\u001B[38;5;241;43m*\u001B[39;49m\u001B[38;5;241;43m*\u001B[39;49m\u001B[43mkwargs\u001B[49m\u001B[43m)\u001B[49m\n\u001B[1;32m     62\u001B[0m \u001B[38;5;66;03m# getattr only returns the value of the provided member but one cannot\u001B[39;00m\n\u001B[1;32m     63\u001B[0m \u001B[38;5;66;03m# then use this to modify the member. Using `vars` also allows us to\u001B[39;00m\n\u001B[1;32m     64\u001B[0m \u001B[38;5;66;03m# modify the value\u001B[39;00m\n\u001B[1;32m     65\u001B[0m targets \u001B[38;5;241m=\u001B[39m []\n",
      "File \u001B[0;32m~/Library/Caches/pypoetry/virtualenvs/biosimulator-processes-9grspSIZ-py3.11/lib/python3.11/site-packages/neuroml/nml/generatedssupersuper.py:158\u001B[0m, in \u001B[0;36mGeneratedsSuperSuper.component_factory\u001B[0;34m(cls, component_type, validate, **kwargs)\u001B[0m\n\u001B[1;32m    155\u001B[0m comp\u001B[38;5;241m.\u001B[39m_check_arg_list(\u001B[38;5;241m*\u001B[39m\u001B[38;5;241m*\u001B[39mkwargs)\n\u001B[1;32m    157\u001B[0m \u001B[38;5;28;01mif\u001B[39;00m neuroml\u001B[38;5;241m.\u001B[39mbuild_time_validation\u001B[38;5;241m.\u001B[39mENABLED \u001B[38;5;129;01mand\u001B[39;00m validate:\n\u001B[0;32m--> 158\u001B[0m     \u001B[43mcomp\u001B[49m\u001B[38;5;241;43m.\u001B[39;49m\u001B[43mvalidate\u001B[49m\u001B[43m(\u001B[49m\u001B[43m)\u001B[49m\n\u001B[1;32m    159\u001B[0m \u001B[38;5;28;01melse\u001B[39;00m:\n\u001B[1;32m    160\u001B[0m     logger\u001B[38;5;241m.\u001B[39mwarn(\u001B[38;5;124m\"\u001B[39m\u001B[38;5;124mBuild time validation is disabled.\u001B[39m\u001B[38;5;124m\"\u001B[39m)\n",
      "File \u001B[0;32m~/Library/Caches/pypoetry/virtualenvs/biosimulator-processes-9grspSIZ-py3.11/lib/python3.11/site-packages/neuroml/nml/generatedssupersuper.py:408\u001B[0m, in \u001B[0;36mGeneratedsSuperSuper.validate\u001B[0;34m(self, recursive)\u001B[0m\n\u001B[1;32m    406\u001B[0m \u001B[38;5;28;01mfor\u001B[39;00m msg \u001B[38;5;129;01min\u001B[39;00m collector\u001B[38;5;241m.\u001B[39mget_messages():\n\u001B[1;32m    407\u001B[0m     err \u001B[38;5;241m+\u001B[39m\u001B[38;5;241m=\u001B[39m \u001B[38;5;124mf\u001B[39m\u001B[38;5;124m\"\u001B[39m\u001B[38;5;124m- \u001B[39m\u001B[38;5;132;01m{\u001B[39;00mmsg\u001B[38;5;132;01m}\u001B[39;00m\u001B[38;5;130;01m\\n\u001B[39;00m\u001B[38;5;124m\"\u001B[39m\n\u001B[0;32m--> 408\u001B[0m \u001B[38;5;28;01mraise\u001B[39;00m \u001B[38;5;167;01mValueError\u001B[39;00m(err)\n",
      "\u001B[0;31mValueError\u001B[0m: Validation failed:\n- Projection (proj_0): Value \"<ExpOneSynapse id=\"syn0\" gbase=\"65nS\" erev=\"0mV\" tauDecay=\"3ms\"/>\n\" is not of the correct base simple type (str)\n- Projection (proj_0): Value \"Population: IzPop0 with 5 components of type iz2007RS0\" is not of the correct base simple type (str)\n- Projection (proj_0): Value \"Population: IzPop1 with 5 components of type iz2007RS0\" is not of the correct base simple type (str)\n"
     ]
    }
   ],
   "execution_count": 3
  },
  {
   "metadata": {
    "ExecuteTime": {
     "end_time": "2024-06-17T14:39:16.568252Z",
     "start_time": "2024-06-17T14:39:16.445138Z"
    }
   },
   "cell_type": "code",
   "source": "!cat iz2007RS0.nml",
   "id": "e52600ad194c8936",
   "outputs": [
    {
     "name": "stdout",
     "output_type": "stream",
     "text": [
      "<neuroml xmlns=\"http://www.neuroml.org/schema/neuroml2\"  xmlns:xs=\"http://www.w3.org/2001/XMLSchema\" xmlns:xsi=\"http://www.w3.org/2001/XMLSchema-instance\" xsi:schemaLocation=\"http://www.neuroml.org/schema/neuroml2 https://raw.github.com/NeuroML/NeuroML2/development/Schemas/NeuroML2/NeuroML_v2.3.1.xsd\" id=\"IzNet\">\r\n",
      "    <expOneSynapse id=\"syn0\" gbase=\"65nS\" erev=\"0mV\" tauDecay=\"3ms\"/>\r\n",
      "    <izhikevich2007Cell id=\"iz2007RS0\" C=\"100pF\" v0=\"-60mV\" k=\"0.7nS_per_mV\" vr=\"-60mV\" vt=\"-40mV\" vpeak=\"35mV\" a=\"0.03per_ms\" b=\"-2nS\" c=\"-50.0mV\" d=\"100pA\"/>\r\n",
      "    <network id=\"IzNet\">\r\n",
      "        <population id=\"IzPop0\" component=\"iz2007RS0\" size=\"5\">\r\n",
      "            <property tag=\"color\" value=\"0 0 .8\"/>\r\n",
      "        </population>\r\n",
      "        <population id=\"IzPop1\" component=\"iz2007RS0\" size=\"5\">\r\n",
      "            <property tag=\"color\" value=\"0 0 .8\"/>\r\n",
      "        </population>\r\n",
      "    </network>\r\n",
      "</neuroml>\r\n"
     ]
    }
   ],
   "execution_count": 5
  },
  {
   "metadata": {
    "ExecuteTime": {
     "end_time": "2024-06-17T14:30:19.370041Z",
     "start_time": "2024-06-17T14:30:19.365567Z"
    }
   },
   "cell_type": "code",
   "source": "network.outputs()",
   "id": "5aaecb801fb854fa",
   "outputs": [
    {
     "data": {
      "text/plain": [
       "{'synapses': 'tree', 'network': 'tree'}"
      ]
     },
     "execution_count": 4,
     "metadata": {},
     "output_type": "execute_result"
    }
   ],
   "execution_count": 4
  },
  {
   "metadata": {
    "ExecuteTime": {
     "end_time": "2024-06-17T14:30:20.879266Z",
     "start_time": "2024-06-17T14:30:20.875589Z"
    }
   },
   "cell_type": "code",
   "source": "network.update({})",
   "id": "b947e35fe3e95388",
   "outputs": [
    {
     "data": {
      "text/plain": [
       "{'synapses': {'synapse_0': <neuroml.nml.nml.ExpOneSynapse at 0x32f90ab90>},\n",
       " 'network': <neuroml.nml.nml.Network at 0x32fa7b850>}"
      ]
     },
     "execution_count": 5,
     "metadata": {},
     "output_type": "execute_result"
    }
   ],
   "execution_count": 5
  },
  {
   "metadata": {
    "ExecuteTime": {
     "end_time": "2024-06-17T15:32:24.271191Z",
     "start_time": "2024-06-17T15:32:24.256274Z"
    }
   },
   "cell_type": "code",
   "source": [
    "x = {'a': [1, 2], 'b': [3, 4]}\n",
    "\n",
    "x[1]"
   ],
   "id": "fcda95bca5b7e981",
   "outputs": [
    {
     "ename": "KeyError",
     "evalue": "1",
     "output_type": "error",
     "traceback": [
      "\u001B[0;31m---------------------------------------------------------------------------\u001B[0m",
      "\u001B[0;31mKeyError\u001B[0m                                  Traceback (most recent call last)",
      "Cell \u001B[0;32mIn[10], line 3\u001B[0m\n\u001B[1;32m      1\u001B[0m x \u001B[38;5;241m=\u001B[39m {\u001B[38;5;124m'\u001B[39m\u001B[38;5;124ma\u001B[39m\u001B[38;5;124m'\u001B[39m: [\u001B[38;5;241m1\u001B[39m, \u001B[38;5;241m2\u001B[39m], \u001B[38;5;124m'\u001B[39m\u001B[38;5;124mb\u001B[39m\u001B[38;5;124m'\u001B[39m: [\u001B[38;5;241m3\u001B[39m, \u001B[38;5;241m4\u001B[39m]}\n\u001B[0;32m----> 3\u001B[0m \u001B[43mx\u001B[49m\u001B[43m[\u001B[49m\u001B[38;5;241;43m1\u001B[39;49m\u001B[43m]\u001B[49m\n",
      "\u001B[0;31mKeyError\u001B[0m: 1"
     ]
    }
   ],
   "execution_count": 10
  },
  {
   "metadata": {},
   "cell_type": "code",
   "outputs": [],
   "execution_count": null,
   "source": "",
   "id": "fb0c29df53bdde4"
  }
 ],
 "metadata": {
  "kernelspec": {
   "display_name": "Python 3",
   "language": "python",
   "name": "python3"
  },
  "language_info": {
   "codemirror_mode": {
    "name": "ipython",
    "version": 2
   },
   "file_extension": ".py",
   "mimetype": "text/x-python",
   "name": "python",
   "nbconvert_exporter": "python",
   "pygments_lexer": "ipython2",
   "version": "2.7.6"
  }
 },
 "nbformat": 4,
 "nbformat_minor": 5
}
