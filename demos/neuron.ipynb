{
 "cells": [
  {
   "metadata": {
    "ExecuteTime": {
     "end_time": "2024-06-17T19:09:48.655187Z",
     "start_time": "2024-06-17T19:09:48.650219Z"
    }
   },
   "cell_type": "code",
   "source": [
    "import sys \n",
    "sys.path.insert(0, '..')"
   ],
   "id": "61362b30121dbe25",
   "outputs": [],
   "execution_count": 1
  },
  {
   "metadata": {
    "ExecuteTime": {
     "end_time": "2024-06-17T19:09:51.176765Z",
     "start_time": "2024-06-17T19:09:49.034293Z"
    }
   },
   "cell_type": "code",
   "source": [
    "from biosimulator_processes.steps.neuron_network import SimpleNeuronNetwork, SimpleNeuron\n",
    "from biosimulator_processes import CORE\n",
    "import os"
   ],
   "id": "586db2c206c96d2f",
   "outputs": [
    {
     "name": "stdout",
     "output_type": "stream",
     "text": [
      "Smoldyn is not properly installed in this environment and thus its process implementation cannot be registered. Please consult smoldyn documentation.\n",
      "Available processes:\n",
      "[ 'console-emitter',\n",
      "  'ram-emitter',\n",
      "  'composite',\n",
      "  'cobra-process',\n",
      "  'copasi-process',\n",
      "  'tellurium-process',\n",
      "  'utc-amici',\n",
      "  'utc-copasi',\n",
      "  'utc-tellurium',\n",
      "  'copasi-step',\n",
      "  'tellurium-step',\n",
      "  'amici-step',\n",
      "  'plotter',\n",
      "  'plotter2d',\n",
      "  'utc-comparator',\n",
      "  'simple-neuron',\n",
      "  'simple-neuron-network']\n"
     ]
    }
   ],
   "execution_count": 2
  },
  {
   "metadata": {
    "ExecuteTime": {
     "end_time": "2024-06-17T19:09:51.755507Z",
     "start_time": "2024-06-17T19:09:51.748977Z"
    }
   },
   "cell_type": "code",
   "source": [
    "\"\"\"\n",
    "config_schema = {\n",
    "        'doc_config': {\n",
    "            'doc_id': 'string',\n",
    "            'model_name': 'string',\n",
    "            'model_id': 'string',\n",
    "            'param_config': 'tree[string]',  # these should be model-specific params as per neuroml\n",
    "            'network_id': 'string'\n",
    "        },\n",
    "        'simulation_config': 'tree',  # defining simulation_id[str], duration[int], dt[float], simulation_seed[int], max_memory[str]\n",
    "        'pulse_gen_config': {  # optional\n",
    "            'amplitude': {\n",
    "                '_type': 'string',\n",
    "                '_default': \"0.07 nA\"\n",
    "            },\n",
    "            'delay': {\n",
    "                '_type': 'string',\n",
    "                '_default': \"0ms\"\n",
    "            },\n",
    "            'duration': {\n",
    "                '_type': 'string',\n",
    "                '_default': \"1000ms\"\n",
    "            }\n",
    "        },\n",
    "        'save_dir': {  # optional\n",
    "            '_type': 'string',\n",
    "            '_default': mkdtemp()\n",
    "        },\n",
    "        'nml_filename': 'string'  # optional\n",
    "    }\n",
    "\"\"\""
   ],
   "id": "3088e768db4c7572",
   "outputs": [
    {
     "data": {
      "text/plain": [
       "'\\nconfig_schema = {\\n        \\'doc_config\\': {\\n            \\'doc_id\\': \\'string\\',\\n            \\'model_name\\': \\'string\\',\\n            \\'model_id\\': \\'string\\',\\n            \\'param_config\\': \\'tree[string]\\',  # these should be model-specific params as per neuroml\\n            \\'network_id\\': \\'string\\'\\n        },\\n        \\'simulation_config\\': \\'tree\\',  # defining simulation_id[str], duration[int], dt[float], simulation_seed[int], max_memory[str]\\n        \\'pulse_gen_config\\': {  # optional\\n            \\'amplitude\\': {\\n                \\'_type\\': \\'string\\',\\n                \\'_default\\': \"0.07 nA\"\\n            },\\n            \\'delay\\': {\\n                \\'_type\\': \\'string\\',\\n                \\'_default\\': \"0ms\"\\n            },\\n            \\'duration\\': {\\n                \\'_type\\': \\'string\\',\\n                \\'_default\\': \"1000ms\"\\n            }\\n        },\\n        \\'save_dir\\': {  # optional\\n            \\'_type\\': \\'string\\',\\n            \\'_default\\': mkdtemp()\\n        },\\n        \\'nml_filename\\': \\'string\\'  # optional\\n    }\\n'"
      ]
     },
     "execution_count": 3,
     "metadata": {},
     "output_type": "execute_result"
    }
   ],
   "execution_count": 3
  },
  {
   "metadata": {},
   "cell_type": "markdown",
   "source": "### Simple Single Neuron",
   "id": "312196ca49494303"
  },
  {
   "metadata": {
    "ExecuteTime": {
     "end_time": "2024-06-17T19:09:52.761883Z",
     "start_time": "2024-06-17T19:09:52.755912Z"
    }
   },
   "cell_type": "code",
   "source": [
    "neuron_config = {\n",
    "    'doc_config': {\n",
    "        'doc_id': \"IzSingleNeuron\",\n",
    "        'model_name': \"Izhikevich2007Cell\",\n",
    "        'model_id': \"izh2007RS0\",\n",
    "        'param_config': {\n",
    "            'v0': \"-60mV\",\n",
    "            'C': \"100pF\",\n",
    "            'k': \"0.7nS_per_mV\",\n",
    "            'vr': \"-60mV\",\n",
    "            'vt': \"-40mV\",\n",
    "            'vpeak': \"35mV\",\n",
    "            'a': \"0.03per_ms\",\n",
    "            'b': \"-2nS\",\n",
    "            'c': \"-50.0mV\",\n",
    "            'd': \"100pA\"  \n",
    "        },\n",
    "        'network_id': \"IzNet\"\n",
    "    },\n",
    "    'simulation_config': {\n",
    "        'simulation_id': \"example-single-izhikevich2007cell-sim\",\n",
    "        'duration': 2000,\n",
    "        'dt': 0.2,\n",
    "        'simulation_seed': 42,\n",
    "        'max_memory': \"2G\"\n",
    "    },\n",
    "    'save_dir': os.getcwd()\n",
    "}\n",
    "\n",
    "\n",
    "neuron = SimpleNeuron(config=neuron_config, core=CORE)"
   ],
   "id": "218f2ae15c4360a1",
   "outputs": [
    {
     "name": "stderr",
     "output_type": "stream",
     "text": [
      "libNeuroML >>> WARNING - Build time validation is disabled.\n",
      "libNeuroML >>> WARNING - Build time validation is disabled.\n"
     ]
    },
    {
     "name": "stdout",
     "output_type": "stream",
     "text": [
      "Written network file to: /Users/alex/Desktop/uchc_work/biosimulators-2.0/biosimulator-processes/demos/single_cell_neuron.nml\n"
     ]
    }
   ],
   "execution_count": 4
  },
  {
   "metadata": {},
   "cell_type": "markdown",
   "source": "### Simple Network of Neurons",
   "id": "9727f06a7f3fc317"
  },
  {
   "metadata": {
    "ExecuteTime": {
     "end_time": "2024-06-17T19:09:54.410074Z",
     "start_time": "2024-06-17T19:09:54.406363Z"
    }
   },
   "cell_type": "code",
   "source": [
    "from neuroml.utils import validate_neuroml2\n",
    "\n",
    "validate_neuroml2(neuron.nml_file)"
   ],
   "id": "4f2fdde301743153",
   "outputs": [
    {
     "name": "stdout",
     "output_type": "stream",
     "text": [
      "It's valid!\n"
     ]
    }
   ],
   "execution_count": 5
  },
  {
   "metadata": {
    "ExecuteTime": {
     "end_time": "2024-06-17T19:09:54.898389Z",
     "start_time": "2024-06-17T19:09:54.894470Z"
    }
   },
   "cell_type": "code",
   "source": "os.path.exists(neuron.nml_file)",
   "id": "46dd25d5628a98d2",
   "outputs": [
    {
     "data": {
      "text/plain": [
       "True"
      ]
     },
     "execution_count": 6,
     "metadata": {},
     "output_type": "execute_result"
    }
   ],
   "execution_count": 6
  },
  {
   "metadata": {
    "ExecuteTime": {
     "end_time": "2024-06-17T19:09:55.294212Z",
     "start_time": "2024-06-17T19:09:55.291479Z"
    }
   },
   "cell_type": "code",
   "source": [
    "results = neuron.update({})\n",
    "\n",
    "results"
   ],
   "id": "cd9523ab8cc05cbf",
   "outputs": [
    {
     "name": "stderr",
     "output_type": "stream",
     "text": [
      "libNeuroML >>> INFO - Loading NeuroML2 file: /Users/alex/Desktop/uchc_work/biosimulators-2.0/biosimulator-processes/demos/Users/alex/Desktop/uchc_work/biosimulators-2.0/biosimulator-processes/demos/single_cell_neuron.nml\n",
      "libNeuroML >>> CRITICAL - Unable to find file: /Users/alex/Desktop/uchc_work/biosimulators-2.0/biosimulator-processes/demos/Users/alex/Desktop/uchc_work/biosimulators-2.0/biosimulator-processes/demos/single_cell_neuron.nml!\n"
     ]
    },
    {
     "ename": "SystemExit",
     "evalue": "13",
     "output_type": "error",
     "traceback": [
      "An exception has occurred, use %tb to see the full traceback.\n",
      "\u001B[0;31mSystemExit\u001B[0m\u001B[0;31m:\u001B[0m 13\n"
     ]
    },
    {
     "name": "stderr",
     "output_type": "stream",
     "text": [
      "/Users/alex/Library/Caches/pypoetry/virtualenvs/biosimulator-processes-9grspSIZ-py3.11/lib/python3.11/site-packages/IPython/core/interactiveshell.py:3585: UserWarning:\n",
      "\n",
      "To exit: use 'exit', 'quit', or Ctrl-D.\n",
      "\n"
     ]
    }
   ],
   "execution_count": 7
  },
  {
   "metadata": {
    "ExecuteTime": {
     "end_time": "2024-06-17T19:07:38.241665Z",
     "start_time": "2024-06-17T19:07:38.153704Z"
    }
   },
   "cell_type": "code",
   "source": [
    "network = SimpleNeuronNetwork(\n",
    "    config={\n",
    "        'num_neurons': 2,\n",
    "        'doc_config': {\n",
    "            'doc_name': \"NeuroMLDocument\",\n",
    "            'doc_id': \"IzNet\",\n",
    "            'model_name': \"Izhikevich2007Cell\",\n",
    "            'model_id': \"iz2007RS0\",\n",
    "            'param_config': {\n",
    "                'v0': \"-60mV\",\n",
    "                'C': \"100pF\",\n",
    "                'k': \"0.7nS_per_mV\",\n",
    "                'vr': \"-60mV\",\n",
    "                'vt': \"-40mV\",\n",
    "                'vpeak': \"35mV\",\n",
    "                'a': \"0.03per_ms\",\n",
    "                'b': \"-2nS\",\n",
    "                'c': \"-50.0mV\",\n",
    "                'd': \"100pA\"  \n",
    "            },\n",
    "        },\n",
    "        'synapse_config': {\n",
    "            \"ExpOneSynapse\": {\n",
    "                'synapse_id': \"syn0\",\n",
    "                'synapse_params': {\n",
    "                    'erev': \"0mV\",\n",
    "                    'gbase': \"65nS\",\n",
    "                    'tau_decay': \"3ms\"\n",
    "                }\n",
    "            }\n",
    "        },\n",
    "        'network_config': {\n",
    "            'network_id': \"IzNet\",\n",
    "            'population_config': {\n",
    "                \"IzPop0\": {\n",
    "                    'size': 5,\n",
    "                    'property_config': {\n",
    "                        'tag': \"color\",\n",
    "                        'value': \"0 0 .8\"\n",
    "                    }\n",
    "                },\n",
    "                \"IzPop1\": {\n",
    "                    'size': 5,\n",
    "                    'property_config': {\n",
    "                        'tag': \"color\",\n",
    "                        'value': \"0 0 .8\"\n",
    "                    }\n",
    "                }\n",
    "            }\n",
    "        },\n",
    "        'save_dir': os.getcwd()\n",
    "    }, \n",
    "    core=CORE\n",
    ")"
   ],
   "id": "1f1bf4d574d1b3a9",
   "outputs": [
    {
     "ename": "NameError",
     "evalue": "name 'component_factory' is not defined",
     "output_type": "error",
     "traceback": [
      "\u001B[0;31m---------------------------------------------------------------------------\u001B[0m",
      "\u001B[0;31mNameError\u001B[0m                                 Traceback (most recent call last)",
      "Cell \u001B[0;32mIn[8], line 1\u001B[0m\n\u001B[0;32m----> 1\u001B[0m network \u001B[38;5;241m=\u001B[39m \u001B[43mSimpleNeuronNetwork\u001B[49m\u001B[43m(\u001B[49m\n\u001B[1;32m      2\u001B[0m \u001B[43m    \u001B[49m\u001B[43mconfig\u001B[49m\u001B[38;5;241;43m=\u001B[39;49m\u001B[43m{\u001B[49m\n\u001B[1;32m      3\u001B[0m \u001B[43m        \u001B[49m\u001B[38;5;124;43m'\u001B[39;49m\u001B[38;5;124;43mnum_neurons\u001B[39;49m\u001B[38;5;124;43m'\u001B[39;49m\u001B[43m:\u001B[49m\u001B[43m \u001B[49m\u001B[38;5;241;43m2\u001B[39;49m\u001B[43m,\u001B[49m\n\u001B[1;32m      4\u001B[0m \u001B[43m        \u001B[49m\u001B[38;5;124;43m'\u001B[39;49m\u001B[38;5;124;43mdoc_config\u001B[39;49m\u001B[38;5;124;43m'\u001B[39;49m\u001B[43m:\u001B[49m\u001B[43m \u001B[49m\u001B[43m{\u001B[49m\n\u001B[1;32m      5\u001B[0m \u001B[43m            \u001B[49m\u001B[38;5;124;43m'\u001B[39;49m\u001B[38;5;124;43mdoc_name\u001B[39;49m\u001B[38;5;124;43m'\u001B[39;49m\u001B[43m:\u001B[49m\u001B[43m \u001B[49m\u001B[38;5;124;43m\"\u001B[39;49m\u001B[38;5;124;43mNeuroMLDocument\u001B[39;49m\u001B[38;5;124;43m\"\u001B[39;49m\u001B[43m,\u001B[49m\n\u001B[1;32m      6\u001B[0m \u001B[43m            \u001B[49m\u001B[38;5;124;43m'\u001B[39;49m\u001B[38;5;124;43mdoc_id\u001B[39;49m\u001B[38;5;124;43m'\u001B[39;49m\u001B[43m:\u001B[49m\u001B[43m \u001B[49m\u001B[38;5;124;43m\"\u001B[39;49m\u001B[38;5;124;43mIzNet\u001B[39;49m\u001B[38;5;124;43m\"\u001B[39;49m\u001B[43m,\u001B[49m\n\u001B[1;32m      7\u001B[0m \u001B[43m            \u001B[49m\u001B[38;5;124;43m'\u001B[39;49m\u001B[38;5;124;43mmodel_name\u001B[39;49m\u001B[38;5;124;43m'\u001B[39;49m\u001B[43m:\u001B[49m\u001B[43m \u001B[49m\u001B[38;5;124;43m\"\u001B[39;49m\u001B[38;5;124;43mIzhikevich2007Cell\u001B[39;49m\u001B[38;5;124;43m\"\u001B[39;49m\u001B[43m,\u001B[49m\n\u001B[1;32m      8\u001B[0m \u001B[43m            \u001B[49m\u001B[38;5;124;43m'\u001B[39;49m\u001B[38;5;124;43mmodel_id\u001B[39;49m\u001B[38;5;124;43m'\u001B[39;49m\u001B[43m:\u001B[49m\u001B[43m \u001B[49m\u001B[38;5;124;43m\"\u001B[39;49m\u001B[38;5;124;43miz2007RS0\u001B[39;49m\u001B[38;5;124;43m\"\u001B[39;49m\u001B[43m,\u001B[49m\n\u001B[1;32m      9\u001B[0m \u001B[43m            \u001B[49m\u001B[38;5;124;43m'\u001B[39;49m\u001B[38;5;124;43mparam_config\u001B[39;49m\u001B[38;5;124;43m'\u001B[39;49m\u001B[43m:\u001B[49m\u001B[43m \u001B[49m\u001B[43m{\u001B[49m\n\u001B[1;32m     10\u001B[0m \u001B[43m                \u001B[49m\u001B[38;5;124;43m'\u001B[39;49m\u001B[38;5;124;43mv0\u001B[39;49m\u001B[38;5;124;43m'\u001B[39;49m\u001B[43m:\u001B[49m\u001B[43m \u001B[49m\u001B[38;5;124;43m\"\u001B[39;49m\u001B[38;5;124;43m-60mV\u001B[39;49m\u001B[38;5;124;43m\"\u001B[39;49m\u001B[43m,\u001B[49m\n\u001B[1;32m     11\u001B[0m \u001B[43m                \u001B[49m\u001B[38;5;124;43m'\u001B[39;49m\u001B[38;5;124;43mC\u001B[39;49m\u001B[38;5;124;43m'\u001B[39;49m\u001B[43m:\u001B[49m\u001B[43m \u001B[49m\u001B[38;5;124;43m\"\u001B[39;49m\u001B[38;5;124;43m100pF\u001B[39;49m\u001B[38;5;124;43m\"\u001B[39;49m\u001B[43m,\u001B[49m\n\u001B[1;32m     12\u001B[0m \u001B[43m                \u001B[49m\u001B[38;5;124;43m'\u001B[39;49m\u001B[38;5;124;43mk\u001B[39;49m\u001B[38;5;124;43m'\u001B[39;49m\u001B[43m:\u001B[49m\u001B[43m \u001B[49m\u001B[38;5;124;43m\"\u001B[39;49m\u001B[38;5;124;43m0.7nS_per_mV\u001B[39;49m\u001B[38;5;124;43m\"\u001B[39;49m\u001B[43m,\u001B[49m\n\u001B[1;32m     13\u001B[0m \u001B[43m                \u001B[49m\u001B[38;5;124;43m'\u001B[39;49m\u001B[38;5;124;43mvr\u001B[39;49m\u001B[38;5;124;43m'\u001B[39;49m\u001B[43m:\u001B[49m\u001B[43m \u001B[49m\u001B[38;5;124;43m\"\u001B[39;49m\u001B[38;5;124;43m-60mV\u001B[39;49m\u001B[38;5;124;43m\"\u001B[39;49m\u001B[43m,\u001B[49m\n\u001B[1;32m     14\u001B[0m \u001B[43m                \u001B[49m\u001B[38;5;124;43m'\u001B[39;49m\u001B[38;5;124;43mvt\u001B[39;49m\u001B[38;5;124;43m'\u001B[39;49m\u001B[43m:\u001B[49m\u001B[43m \u001B[49m\u001B[38;5;124;43m\"\u001B[39;49m\u001B[38;5;124;43m-40mV\u001B[39;49m\u001B[38;5;124;43m\"\u001B[39;49m\u001B[43m,\u001B[49m\n\u001B[1;32m     15\u001B[0m \u001B[43m                \u001B[49m\u001B[38;5;124;43m'\u001B[39;49m\u001B[38;5;124;43mvpeak\u001B[39;49m\u001B[38;5;124;43m'\u001B[39;49m\u001B[43m:\u001B[49m\u001B[43m \u001B[49m\u001B[38;5;124;43m\"\u001B[39;49m\u001B[38;5;124;43m35mV\u001B[39;49m\u001B[38;5;124;43m\"\u001B[39;49m\u001B[43m,\u001B[49m\n\u001B[1;32m     16\u001B[0m \u001B[43m                \u001B[49m\u001B[38;5;124;43m'\u001B[39;49m\u001B[38;5;124;43ma\u001B[39;49m\u001B[38;5;124;43m'\u001B[39;49m\u001B[43m:\u001B[49m\u001B[43m \u001B[49m\u001B[38;5;124;43m\"\u001B[39;49m\u001B[38;5;124;43m0.03per_ms\u001B[39;49m\u001B[38;5;124;43m\"\u001B[39;49m\u001B[43m,\u001B[49m\n\u001B[1;32m     17\u001B[0m \u001B[43m                \u001B[49m\u001B[38;5;124;43m'\u001B[39;49m\u001B[38;5;124;43mb\u001B[39;49m\u001B[38;5;124;43m'\u001B[39;49m\u001B[43m:\u001B[49m\u001B[43m \u001B[49m\u001B[38;5;124;43m\"\u001B[39;49m\u001B[38;5;124;43m-2nS\u001B[39;49m\u001B[38;5;124;43m\"\u001B[39;49m\u001B[43m,\u001B[49m\n\u001B[1;32m     18\u001B[0m \u001B[43m                \u001B[49m\u001B[38;5;124;43m'\u001B[39;49m\u001B[38;5;124;43mc\u001B[39;49m\u001B[38;5;124;43m'\u001B[39;49m\u001B[43m:\u001B[49m\u001B[43m \u001B[49m\u001B[38;5;124;43m\"\u001B[39;49m\u001B[38;5;124;43m-50.0mV\u001B[39;49m\u001B[38;5;124;43m\"\u001B[39;49m\u001B[43m,\u001B[49m\n\u001B[1;32m     19\u001B[0m \u001B[43m                \u001B[49m\u001B[38;5;124;43m'\u001B[39;49m\u001B[38;5;124;43md\u001B[39;49m\u001B[38;5;124;43m'\u001B[39;49m\u001B[43m:\u001B[49m\u001B[43m \u001B[49m\u001B[38;5;124;43m\"\u001B[39;49m\u001B[38;5;124;43m100pA\u001B[39;49m\u001B[38;5;124;43m\"\u001B[39;49m\u001B[43m  \u001B[49m\n\u001B[1;32m     20\u001B[0m \u001B[43m            \u001B[49m\u001B[43m}\u001B[49m\u001B[43m,\u001B[49m\n\u001B[1;32m     21\u001B[0m \u001B[43m        \u001B[49m\u001B[43m}\u001B[49m\u001B[43m,\u001B[49m\n\u001B[1;32m     22\u001B[0m \u001B[43m        \u001B[49m\u001B[38;5;124;43m'\u001B[39;49m\u001B[38;5;124;43msynapse_config\u001B[39;49m\u001B[38;5;124;43m'\u001B[39;49m\u001B[43m:\u001B[49m\u001B[43m \u001B[49m\u001B[43m{\u001B[49m\n\u001B[1;32m     23\u001B[0m \u001B[43m            \u001B[49m\u001B[38;5;124;43m\"\u001B[39;49m\u001B[38;5;124;43mExpOneSynapse\u001B[39;49m\u001B[38;5;124;43m\"\u001B[39;49m\u001B[43m:\u001B[49m\u001B[43m \u001B[49m\u001B[43m{\u001B[49m\n\u001B[1;32m     24\u001B[0m \u001B[43m                \u001B[49m\u001B[38;5;124;43m'\u001B[39;49m\u001B[38;5;124;43msynapse_id\u001B[39;49m\u001B[38;5;124;43m'\u001B[39;49m\u001B[43m:\u001B[49m\u001B[43m \u001B[49m\u001B[38;5;124;43m\"\u001B[39;49m\u001B[38;5;124;43msyn0\u001B[39;49m\u001B[38;5;124;43m\"\u001B[39;49m\u001B[43m,\u001B[49m\n\u001B[1;32m     25\u001B[0m \u001B[43m                \u001B[49m\u001B[38;5;124;43m'\u001B[39;49m\u001B[38;5;124;43msynapse_params\u001B[39;49m\u001B[38;5;124;43m'\u001B[39;49m\u001B[43m:\u001B[49m\u001B[43m \u001B[49m\u001B[43m{\u001B[49m\n\u001B[1;32m     26\u001B[0m \u001B[43m                    \u001B[49m\u001B[38;5;124;43m'\u001B[39;49m\u001B[38;5;124;43merev\u001B[39;49m\u001B[38;5;124;43m'\u001B[39;49m\u001B[43m:\u001B[49m\u001B[43m \u001B[49m\u001B[38;5;124;43m\"\u001B[39;49m\u001B[38;5;124;43m0mV\u001B[39;49m\u001B[38;5;124;43m\"\u001B[39;49m\u001B[43m,\u001B[49m\n\u001B[1;32m     27\u001B[0m \u001B[43m                    \u001B[49m\u001B[38;5;124;43m'\u001B[39;49m\u001B[38;5;124;43mgbase\u001B[39;49m\u001B[38;5;124;43m'\u001B[39;49m\u001B[43m:\u001B[49m\u001B[43m \u001B[49m\u001B[38;5;124;43m\"\u001B[39;49m\u001B[38;5;124;43m65nS\u001B[39;49m\u001B[38;5;124;43m\"\u001B[39;49m\u001B[43m,\u001B[49m\n\u001B[1;32m     28\u001B[0m \u001B[43m                    \u001B[49m\u001B[38;5;124;43m'\u001B[39;49m\u001B[38;5;124;43mtau_decay\u001B[39;49m\u001B[38;5;124;43m'\u001B[39;49m\u001B[43m:\u001B[49m\u001B[43m \u001B[49m\u001B[38;5;124;43m\"\u001B[39;49m\u001B[38;5;124;43m3ms\u001B[39;49m\u001B[38;5;124;43m\"\u001B[39;49m\n\u001B[1;32m     29\u001B[0m \u001B[43m                \u001B[49m\u001B[43m}\u001B[49m\n\u001B[1;32m     30\u001B[0m \u001B[43m            \u001B[49m\u001B[43m}\u001B[49m\n\u001B[1;32m     31\u001B[0m \u001B[43m        \u001B[49m\u001B[43m}\u001B[49m\u001B[43m,\u001B[49m\n\u001B[1;32m     32\u001B[0m \u001B[43m        \u001B[49m\u001B[38;5;124;43m'\u001B[39;49m\u001B[38;5;124;43mnetwork_config\u001B[39;49m\u001B[38;5;124;43m'\u001B[39;49m\u001B[43m:\u001B[49m\u001B[43m \u001B[49m\u001B[43m{\u001B[49m\n\u001B[1;32m     33\u001B[0m \u001B[43m            \u001B[49m\u001B[38;5;124;43m'\u001B[39;49m\u001B[38;5;124;43mnetwork_id\u001B[39;49m\u001B[38;5;124;43m'\u001B[39;49m\u001B[43m:\u001B[49m\u001B[43m \u001B[49m\u001B[38;5;124;43m\"\u001B[39;49m\u001B[38;5;124;43mIzNet\u001B[39;49m\u001B[38;5;124;43m\"\u001B[39;49m\u001B[43m,\u001B[49m\n\u001B[1;32m     34\u001B[0m \u001B[43m            \u001B[49m\u001B[38;5;124;43m'\u001B[39;49m\u001B[38;5;124;43mpopulation_config\u001B[39;49m\u001B[38;5;124;43m'\u001B[39;49m\u001B[43m:\u001B[49m\u001B[43m \u001B[49m\u001B[43m{\u001B[49m\n\u001B[1;32m     35\u001B[0m \u001B[43m                \u001B[49m\u001B[38;5;124;43m\"\u001B[39;49m\u001B[38;5;124;43mIzPop0\u001B[39;49m\u001B[38;5;124;43m\"\u001B[39;49m\u001B[43m:\u001B[49m\u001B[43m \u001B[49m\u001B[43m{\u001B[49m\n\u001B[1;32m     36\u001B[0m \u001B[43m                    \u001B[49m\u001B[38;5;124;43m'\u001B[39;49m\u001B[38;5;124;43msize\u001B[39;49m\u001B[38;5;124;43m'\u001B[39;49m\u001B[43m:\u001B[49m\u001B[43m \u001B[49m\u001B[38;5;241;43m5\u001B[39;49m\u001B[43m,\u001B[49m\n\u001B[1;32m     37\u001B[0m \u001B[43m                    \u001B[49m\u001B[38;5;124;43m'\u001B[39;49m\u001B[38;5;124;43mproperty_config\u001B[39;49m\u001B[38;5;124;43m'\u001B[39;49m\u001B[43m:\u001B[49m\u001B[43m \u001B[49m\u001B[43m{\u001B[49m\n\u001B[1;32m     38\u001B[0m \u001B[43m                        \u001B[49m\u001B[38;5;124;43m'\u001B[39;49m\u001B[38;5;124;43mtag\u001B[39;49m\u001B[38;5;124;43m'\u001B[39;49m\u001B[43m:\u001B[49m\u001B[43m \u001B[49m\u001B[38;5;124;43m\"\u001B[39;49m\u001B[38;5;124;43mcolor\u001B[39;49m\u001B[38;5;124;43m\"\u001B[39;49m\u001B[43m,\u001B[49m\n\u001B[1;32m     39\u001B[0m \u001B[43m                        \u001B[49m\u001B[38;5;124;43m'\u001B[39;49m\u001B[38;5;124;43mvalue\u001B[39;49m\u001B[38;5;124;43m'\u001B[39;49m\u001B[43m:\u001B[49m\u001B[43m \u001B[49m\u001B[38;5;124;43m\"\u001B[39;49m\u001B[38;5;124;43m0 0 .8\u001B[39;49m\u001B[38;5;124;43m\"\u001B[39;49m\n\u001B[1;32m     40\u001B[0m \u001B[43m                    \u001B[49m\u001B[43m}\u001B[49m\n\u001B[1;32m     41\u001B[0m \u001B[43m                \u001B[49m\u001B[43m}\u001B[49m\u001B[43m,\u001B[49m\n\u001B[1;32m     42\u001B[0m \u001B[43m                \u001B[49m\u001B[38;5;124;43m\"\u001B[39;49m\u001B[38;5;124;43mIzPop1\u001B[39;49m\u001B[38;5;124;43m\"\u001B[39;49m\u001B[43m:\u001B[49m\u001B[43m \u001B[49m\u001B[43m{\u001B[49m\n\u001B[1;32m     43\u001B[0m \u001B[43m                    \u001B[49m\u001B[38;5;124;43m'\u001B[39;49m\u001B[38;5;124;43msize\u001B[39;49m\u001B[38;5;124;43m'\u001B[39;49m\u001B[43m:\u001B[49m\u001B[43m \u001B[49m\u001B[38;5;241;43m5\u001B[39;49m\u001B[43m,\u001B[49m\n\u001B[1;32m     44\u001B[0m \u001B[43m                    \u001B[49m\u001B[38;5;124;43m'\u001B[39;49m\u001B[38;5;124;43mproperty_config\u001B[39;49m\u001B[38;5;124;43m'\u001B[39;49m\u001B[43m:\u001B[49m\u001B[43m \u001B[49m\u001B[43m{\u001B[49m\n\u001B[1;32m     45\u001B[0m \u001B[43m                        \u001B[49m\u001B[38;5;124;43m'\u001B[39;49m\u001B[38;5;124;43mtag\u001B[39;49m\u001B[38;5;124;43m'\u001B[39;49m\u001B[43m:\u001B[49m\u001B[43m \u001B[49m\u001B[38;5;124;43m\"\u001B[39;49m\u001B[38;5;124;43mcolor\u001B[39;49m\u001B[38;5;124;43m\"\u001B[39;49m\u001B[43m,\u001B[49m\n\u001B[1;32m     46\u001B[0m \u001B[43m                        \u001B[49m\u001B[38;5;124;43m'\u001B[39;49m\u001B[38;5;124;43mvalue\u001B[39;49m\u001B[38;5;124;43m'\u001B[39;49m\u001B[43m:\u001B[49m\u001B[43m \u001B[49m\u001B[38;5;124;43m\"\u001B[39;49m\u001B[38;5;124;43m0 0 .8\u001B[39;49m\u001B[38;5;124;43m\"\u001B[39;49m\n\u001B[1;32m     47\u001B[0m \u001B[43m                    \u001B[49m\u001B[43m}\u001B[49m\n\u001B[1;32m     48\u001B[0m \u001B[43m                \u001B[49m\u001B[43m}\u001B[49m\n\u001B[1;32m     49\u001B[0m \u001B[43m            \u001B[49m\u001B[43m}\u001B[49m\n\u001B[1;32m     50\u001B[0m \u001B[43m        \u001B[49m\u001B[43m}\u001B[49m\u001B[43m,\u001B[49m\n\u001B[1;32m     51\u001B[0m \u001B[43m        \u001B[49m\u001B[38;5;124;43m'\u001B[39;49m\u001B[38;5;124;43msave_dir\u001B[39;49m\u001B[38;5;124;43m'\u001B[39;49m\u001B[43m:\u001B[49m\u001B[43m \u001B[49m\u001B[43mos\u001B[49m\u001B[38;5;241;43m.\u001B[39;49m\u001B[43mgetcwd\u001B[49m\u001B[43m(\u001B[49m\u001B[43m)\u001B[49m\n\u001B[1;32m     52\u001B[0m \u001B[43m    \u001B[49m\u001B[43m}\u001B[49m\u001B[43m,\u001B[49m\u001B[43m \u001B[49m\n\u001B[1;32m     53\u001B[0m \u001B[43m    \u001B[49m\u001B[43mcore\u001B[49m\u001B[38;5;241;43m=\u001B[39;49m\u001B[43mCORE\u001B[49m\n\u001B[1;32m     54\u001B[0m \u001B[43m)\u001B[49m\n",
      "File \u001B[0;32m~/Desktop/uchc_work/biosimulators-2.0/biosimulator-processes/demos/../biosimulator_processes/steps/neuron_network.py:174\u001B[0m, in \u001B[0;36mSimpleNeuronNetwork.__init__\u001B[0;34m(self, config, core)\u001B[0m\n\u001B[1;32m    171\u001B[0m model_params_config \u001B[38;5;241m=\u001B[39m model_config[\u001B[38;5;124m'\u001B[39m\u001B[38;5;124mparam_config\u001B[39m\u001B[38;5;124m'\u001B[39m]\n\u001B[1;32m    173\u001B[0m \u001B[38;5;66;03m# create the doc container\u001B[39;00m\n\u001B[0;32m--> 174\u001B[0m nml_doc \u001B[38;5;241m=\u001B[39m \u001B[43mcomponent_factory\u001B[49m(doc_name, \u001B[38;5;28mid\u001B[39m\u001B[38;5;241m=\u001B[39mdoc_id)\n\u001B[1;32m    176\u001B[0m \u001B[38;5;66;03m# add model-specific param state to doc\u001B[39;00m\n\u001B[1;32m    177\u001B[0m \u001B[38;5;28mself\u001B[39m\u001B[38;5;241m.\u001B[39mmodel \u001B[38;5;241m=\u001B[39m nml_doc\u001B[38;5;241m.\u001B[39madd(model_name, \u001B[38;5;28mid\u001B[39m\u001B[38;5;241m=\u001B[39mmodel_id, \u001B[38;5;241m*\u001B[39m\u001B[38;5;241m*\u001B[39mmodel_params_config)\n",
      "\u001B[0;31mNameError\u001B[0m: name 'component_factory' is not defined"
     ]
    }
   ],
   "execution_count": 8
  },
  {
   "metadata": {},
   "cell_type": "code",
   "source": "!cat iz2007RS0.nml",
   "id": "e52600ad194c8936",
   "outputs": [],
   "execution_count": null
  },
  {
   "metadata": {},
   "cell_type": "code",
   "source": "network.outputs()",
   "id": "5aaecb801fb854fa",
   "outputs": [],
   "execution_count": null
  },
  {
   "metadata": {},
   "cell_type": "code",
   "source": "network.update({})",
   "id": "b947e35fe3e95388",
   "outputs": [],
   "execution_count": null
  },
  {
   "metadata": {},
   "cell_type": "code",
   "source": [
    "x = {'a': [1, 2], 'b': [3, 4]}\n",
    "\n",
    "x[1]"
   ],
   "id": "fcda95bca5b7e981",
   "outputs": [],
   "execution_count": null
  },
  {
   "metadata": {},
   "cell_type": "code",
   "source": "",
   "id": "fb0c29df53bdde4",
   "outputs": [],
   "execution_count": null
  }
 ],
 "metadata": {
  "kernelspec": {
   "display_name": "Python 3",
   "language": "python",
   "name": "python3"
  },
  "language_info": {
   "codemirror_mode": {
    "name": "ipython",
    "version": 2
   },
   "file_extension": ".py",
   "mimetype": "text/x-python",
   "name": "python",
   "nbconvert_exporter": "python",
   "pygments_lexer": "ipython2",
   "version": "2.7.6"
  }
 },
 "nbformat": 4,
 "nbformat_minor": 5
}
