{
 "cells": [
  {
   "cell_type": "code",
   "id": "initial_id",
   "metadata": {
    "collapsed": true,
    "ExecuteTime": {
     "end_time": "2024-06-17T12:49:59.183852Z",
     "start_time": "2024-06-17T12:49:59.180689Z"
    }
   },
   "source": [
    "from neuroml import NeuroMLDocument\n",
    "import neuroml.writers as writers\n",
    "from neuroml.utils import component_factory\n",
    "from neuroml.utils import validate_neuroml2\n",
    "from pyneuroml import pynml\n",
    "from pyneuroml.lems import LEMSSimulation\n",
    "import numpy as np"
   ],
   "outputs": [],
   "execution_count": 20
  },
  {
   "metadata": {
    "ExecuteTime": {
     "end_time": "2024-06-17T12:49:59.937325Z",
     "start_time": "2024-06-17T12:49:59.185982Z"
    }
   },
   "cell_type": "code",
   "source": [
    "nml_doc = component_factory(NeuroMLDocument, id=\"IzhSingleNeuron\")\n",
    "\n",
    "izh0 = nml_doc.add(\n",
    "    \"Izhikevich2007Cell\",\n",
    "    id=\"izh2007RS0\", v0=\"-60mV\", C=\"100pF\", k=\"0.7nS_per_mV\", vr=\"-60mV\",\n",
    "    vt=\"-40mV\", vpeak=\"35mV\", a=\"0.03per_ms\", b=\"-2nS\", c=\"-50.0mV\", d=\"100pA\")\n",
    "\n",
    "net = nml_doc.add(\"Network\", id=\"IzNet\", validate=False)\n",
    "\n",
    "size0 = 1\n",
    "pop0 = net.add(\"Population\", id=\"IzhPop0\", component=izh0.id, size=size0)\n",
    "\n",
    "pg = nml_doc.add(\n",
    "    \"PulseGenerator\",\n",
    "    id=\"pulseGen_%i\" % 0, delay=\"0ms\", duration=\"1000ms\",\n",
    "    amplitude=\"0.07 nA\"\n",
    ")\n",
    "exp_input = net.add(\"ExplicitInput\", target=\"%s[%i]\" % (pop0.id, 0), input=pg.id)\n",
    "\n",
    "\n",
    "nml_file = 'izhikevich2007_single_cell_network.nml'\n",
    "writers.NeuroMLWriter.write(nml_doc, nml_file)\n",
    "print(\"Written network file to: \" + nml_file)\n",
    "\n",
    "\n",
    "simulation_id = \"example-single-izhikevich2007cell-sim\"\n",
    "simulation = LEMSSimulation(sim_id=simulation_id,\n",
    "                            duration=1000, dt=0.1, simulation_seed=123)\n",
    "simulation.assign_simulation_target(net.id)\n",
    "simulation.include_neuroml2_file(nml_file)\n",
    "\n",
    "simulation.create_output_file(\n",
    "    \"output0\", \"%s.v.dat\" % simulation_id\n",
    ")\n",
    "simulation.add_column_to_output_file(\"output0\", 'IzhPop0[0]', 'IzhPop0[0]/v')\n",
    "\n",
    "\n",
    "lems_simulation_file = simulation.save_to_file()\n",
    "with open(lems_simulation_file) as f: \n",
    "   print(f.read())\n",
    "   \n",
    "   \n",
    "\n",
    "pynml.run_lems_with_jneuroml(\n",
    "    lems_simulation_file, max_memory=\"2G\", nogui=True, plot=False\n",
    ")"
   ],
   "id": "f5f53a1ee5ff849b",
   "outputs": [
    {
     "name": "stderr",
     "output_type": "stream",
     "text": [
      "/Users/alex/Library/Caches/pypoetry/virtualenvs/biosimulator-processes-9grspSIZ-py3.11/lib/python3.11/site-packages/neuroml/nml/generatedssupersuper.py:160: DeprecationWarning: The 'warn' method is deprecated, use 'warning' instead\n",
      "  logger.warn(\"Build time validation is disabled.\")\n",
      "libNeuroML >>> WARNING - Build time validation is disabled.\n",
      "/Users/alex/Library/Caches/pypoetry/virtualenvs/biosimulator-processes-9grspSIZ-py3.11/lib/python3.11/site-packages/neuroml/nml/generatedssupersuper.py:101: DeprecationWarning: The 'warn' method is deprecated, use 'warning' instead\n",
      "  logger.warn(\"Build time validation is disabled.\")\n",
      "libNeuroML >>> WARNING - Build time validation is disabled.\n",
      "libNeuroML >>> INFO - Loading NeuroML2 file: /Users/alex/Desktop/uchc_work/biosimulators-2.0/biosimulator-processes/demos/izhikevich2007_single_cell_network.nml\n",
      "libNeuroML >>> INFO - Writing LEMS Simulation example-single-izhikevich2007cell-sim to file: LEMS_example-single-izhikevich2007cell-sim.xml...\n",
      "libNeuroML >>> INFO - Written LEMS Simulation example-single-izhikevich2007cell-sim to file: LEMS_example-single-izhikevich2007cell-sim.xml\n",
      "libNeuroML >>> INFO - Loading LEMS file: LEMS_example-single-izhikevich2007cell-sim.xml and running with jNeuroML\n",
      "libNeuroML >>> INFO - Executing: (java -Xmx2G  -Djava.awt.headless=true -jar  \"/Users/alex/Library/Caches/pypoetry/virtualenvs/biosimulator-processes-9grspSIZ-py3.11/lib/python3.11/site-packages/pyneuroml/utils/./../lib/jNeuroML-0.13.1-jar-with-dependencies.jar\"  LEMS_example-single-izhikevich2007cell-sim.xml  -nogui -I '') in directory: .\n"
     ]
    },
    {
     "name": "stdout",
     "output_type": "stream",
     "text": [
      "Written network file to: izhikevich2007_single_cell_network.nml\n",
      "<Lems>\n",
      "\n",
      "    <!-- \n",
      "\n",
      "        This LEMS file has been automatically generated using PyNeuroML v1.3.0 (libNeuroML v0.6.1)\n",
      "\n",
      "     -->\n",
      "\n",
      "    <!-- Specify which component to run -->\n",
      "    <Target component=\"example-single-izhikevich2007cell-sim\"/>\n",
      "\n",
      "    <!-- Include core NeuroML2 ComponentType definitions -->\n",
      "    <Include file=\"Cells.xml\"/>\n",
      "    <Include file=\"Networks.xml\"/>\n",
      "    <Include file=\"Simulation.xml\"/>\n",
      "\n",
      "    <Include file=\"izhikevich2007_single_cell_network.nml\"/>\n",
      "\n",
      "    <Simulation id=\"example-single-izhikevich2007cell-sim\" length=\"1000.0ms\" step=\"0.1ms\" target=\"IzNet\" seed=\"123\">  <!-- Note seed: ensures same random numbers used every run -->\n",
      "        <OutputFile id=\"output0\" fileName=\"example-single-izhikevich2007cell-sim.v.dat\">\n",
      "            <OutputColumn id=\"IzhPop0[0]\" quantity=\"IzhPop0[0]/v\"/>\n",
      "        </OutputFile>\n",
      "\n",
      "    </Simulation>\n",
      "\n",
      "</Lems>\n",
      "\n"
     ]
    },
    {
     "name": "stderr",
     "output_type": "stream",
     "text": [
      "libNeuroML >>> INFO - Command completed successfully!\n"
     ]
    },
    {
     "data": {
      "text/plain": [
       "True"
      ]
     },
     "execution_count": 21,
     "metadata": {},
     "output_type": "execute_result"
    }
   ],
   "execution_count": 21
  },
  {
   "metadata": {
    "ExecuteTime": {
     "end_time": "2024-06-17T12:50:00.105358Z",
     "start_time": "2024-06-17T12:49:59.938746Z"
    }
   },
   "cell_type": "code",
   "source": [
    "# Load the data from the file and plot the graph for the membrane potential\n",
    "# using the pynml generate_plot utility function.\n",
    "data_array = np.loadtxt(\"%s.v.dat\" % simulation_id)\n",
    "pynml.generate_plot(\n",
    "    [data_array[:, 0]], [data_array[:, 1]],\n",
    "    \"Membrane potential\", show_plot_already=True,\n",
    "    xaxis=\"time (s)\", yaxis=\"membrane potential (V)\",\n",
    "    save_figure_to=\"SingleNeuron.png\"\n",
    "    \n",
    ")"
   ],
   "id": "73ca6bef6191dd09",
   "outputs": [
    {
     "name": "stderr",
     "output_type": "stream",
     "text": [
      "libNeuroML >>> INFO - Generating plot: Membrane potential\n",
      "libNeuroML >>> INFO - Saving image to /Users/alex/Desktop/uchc_work/biosimulators-2.0/biosimulator-processes/demos/SingleNeuron.png of plot: Membrane potential\n",
      "libNeuroML >>> INFO - Saved image to SingleNeuron.png of plot: Membrane potential\n"
     ]
    },
    {
     "data": {
      "text/plain": [
       "<Figure size 640x480 with 1 Axes>"
      ],
      "image/png": "[encoded data removed]"
     },
     "metadata": {},
     "output_type": "display_data"
    },
    {
     "data": {
      "text/plain": [
       "<Axes: xlabel='time (s)', ylabel='membrane potential (V)'>"
      ]
     },
     "execution_count": 22,
     "metadata": {},
     "output_type": "execute_result"
    }
   ],
   "execution_count": 22
  },
  {
   "metadata": {
    "ExecuteTime": {
     "end_time": "2024-06-17T14:38:57.067259Z",
     "start_time": "2024-06-17T14:38:54.695547Z"
    }
   },
   "cell_type": "code",
   "source": [
    "from biosimulator_processes.steps.neuron_network import SimpleNeuronNetwork\n",
    "from biosimulator_processes import CORE\n",
    "import os"
   ],
   "id": "586db2c206c96d2f",
   "outputs": [
    {
     "name": "stdout",
     "output_type": "stream",
     "text": [
      "Smoldyn is not properly installed in this environment and thus its process implementation cannot be registered. Please consult smoldyn documentation.\n",
      "Available processes:\n",
      "[ 'console-emitter',\n",
      "  'ram-emitter',\n",
      "  'composite',\n",
      "  'cobra-process',\n",
      "  'copasi-process',\n",
      "  'tellurium-process',\n",
      "  'utc-amici',\n",
      "  'utc-copasi',\n",
      "  'utc-tellurium',\n",
      "  'copasi-step',\n",
      "  'tellurium-step',\n",
      "  'amici-step',\n",
      "  'plotter',\n",
      "  'plotter2d',\n",
      "  'utc-comparator',\n",
      "  'simple-neuron-network']\n"
     ]
    }
   ],
   "execution_count": 1
  },
  {
   "metadata": {
    "ExecuteTime": {
     "end_time": "2024-06-17T14:38:57.544143Z",
     "start_time": "2024-06-17T14:38:57.538163Z"
    }
   },
   "cell_type": "code",
   "source": [
    "\"\"\"\n",
    "config_schema = {\n",
    "        'num_neurons': 'integer',\n",
    "        'doc_config': {\n",
    "            'doc_name': 'string',\n",
    "            'doc_id': 'string',\n",
    "            'model_name': 'string',\n",
    "            'model_id': 'string',\n",
    "            'param_config': 'tree[string]'\n",
    "        },\n",
    "        'synapse_config': 'tree[string]',  # {'synapse_name': {synapse_id: '', synapse_params: {}}}\n",
    "        'network_config': {\n",
    "            'network_id': 'string',\n",
    "            'validate': {\n",
    "                '_type': 'boolean',\n",
    "                '_default': False\n",
    "            },\n",
    "            'population_config': 'tree'  # {population_id: {size: 5, property_config: {tag: str, value: str} <-- optional}}\n",
    "        }\n",
    "    }\n",
    "\"\"\""
   ],
   "id": "3088e768db4c7572",
   "outputs": [
    {
     "data": {
      "text/plain": [
       "\"\\nconfig_schema = {\\n        'num_neurons': 'integer',\\n        'doc_config': {\\n            'doc_name': 'string',\\n            'doc_id': 'string',\\n            'model_name': 'string',\\n            'model_id': 'string',\\n            'param_config': 'tree[string]'\\n        },\\n        'synapse_config': 'tree[string]',  # {'synapse_name': {synapse_id: '', synapse_params: {}}}\\n        'network_config': {\\n            'network_id': 'string',\\n            'validate': {\\n                '_type': 'boolean',\\n                '_default': False\\n            },\\n            'population_config': 'tree'  # {population_id: {size: 5, property_config: {tag: str, value: str} <-- optional}}\\n        }\\n    }\\n\""
      ]
     },
     "execution_count": 2,
     "metadata": {},
     "output_type": "execute_result"
    }
   ],
   "execution_count": 2
  },
  {
   "metadata": {
    "ExecuteTime": {
     "end_time": "2024-06-17T14:38:58.303115Z",
     "start_time": "2024-06-17T14:38:57.879117Z"
    }
   },
   "cell_type": "code",
   "source": [
    "network = SimpleNeuronNetwork(\n",
    "    config={\n",
    "        'num_neurons': 2,\n",
    "        'doc_config': {\n",
    "            'doc_name': \"NeuroMLDocument\",\n",
    "            'doc_id': \"IzNet\",\n",
    "            'model_name': \"Izhikevich2007Cell\",\n",
    "            'model_id': \"iz2007RS0\",\n",
    "            'param_config': {\n",
    "                'v0': \"-60mV\",\n",
    "                'C': \"100pF\",\n",
    "                'k': \"0.7nS_per_mV\",\n",
    "                'vr': \"-60mV\",\n",
    "                'vt': \"-40mV\",\n",
    "                'vpeak': \"35mV\",\n",
    "                'a': \"0.03per_ms\",\n",
    "                'b': \"-2nS\",\n",
    "                'c': \"-50.0mV\",\n",
    "                'd': \"100pA\"  \n",
    "            },\n",
    "        },\n",
    "        'synapse_config': {\n",
    "            \"ExpOneSynapse\": {\n",
    "                'synapse_id': \"syn0\",\n",
    "                'synapse_params': {\n",
    "                    'erev': \"0mV\",\n",
    "                    'gbase': \"65nS\",\n",
    "                    'tau_decay': \"3ms\"\n",
    "                }\n",
    "            }\n",
    "        },\n",
    "        'network_config': {\n",
    "            'network_id': \"IzNet\",\n",
    "            'population_config': {\n",
    "                \"IzPop0\": {\n",
    "                    'size': 5,\n",
    "                    'property_config': {\n",
    "                        'tag': \"color\",\n",
    "                        'value': \"0 0 .8\"\n",
    "                    }\n",
    "                },\n",
    "                \"IzPop1\": {\n",
    "                    'size': 5,\n",
    "                    'property_config': {\n",
    "                        'tag': \"color\",\n",
    "                        'value': \"0 0 .8\"\n",
    "                    }\n",
    "                }\n",
    "            }\n",
    "        },\n",
    "        'save_dir': os.getcwd()\n",
    "    }, \n",
    "    core=CORE\n",
    ")"
   ],
   "id": "1f1bf4d574d1b3a9",
   "outputs": [
    {
     "name": "stderr",
     "output_type": "stream",
     "text": [
      "libNeuroML >>> WARNING - Build time validation is disabled.\n",
      "libNeuroML >>> WARNING - Build time validation is disabled.\n",
      "libNeuroML >>> INFO - Executing: (java -Xmx400M  -jar  \"/Users/alex/Library/Caches/pypoetry/virtualenvs/biosimulator-processes-9grspSIZ-py3.11/lib/python3.11/site-packages/pyneuroml/utils/./../lib/jNeuroML-0.13.1-jar-with-dependencies.jar\" -validate /Users/alex/Desktop/uchc_work/biosimulators-2.0/biosimulator-processes/demos/iz2007RS0.nml ) in directory: .\n"
     ]
    },
    {
     "name": "stdout",
     "output_type": "stream",
     "text": [
      "Izhikevich2007Cell -- Cell based on the modified Izhikevich model in Izhikevich 2007, Dynamical systems in neuroscience, MIT Press\n",
      "\n",
      "NeuroMLv2 schema documentation: https://docs.neuroml.org/Userdocs/Schemas/Index.html?highlight=izhikevich2007Cell#izhikevich2007cell for more information.\n",
      "\n",
      "Valid members for Izhikevich2007Cell are:\n",
      "* properties (class: Property, Optional)\n",
      "* vr (class: Nml2Quantity_voltage, Required)\n",
      "\t* Contents ('ids'/<objects>): -60mV\n",
      "\n",
      "* b (class: Nml2Quantity_conductance, Required)\n",
      "\t* Contents ('ids'/<objects>): -2nS\n",
      "\n",
      "* C (class: Nml2Quantity_capacitance, Required)\n",
      "\t* Contents ('ids'/<objects>): 100pF\n",
      "\n",
      "* a (class: Nml2Quantity_pertime, Required)\n",
      "\t* Contents ('ids'/<objects>): 0.03per_ms\n",
      "\n",
      "* notes (class: xs:string, Optional)\n",
      "* annotation (class: Annotation, Optional)\n",
      "* id (class: NmlId, Required)\n",
      "\t* Contents ('ids'/<objects>): iz2007RS0\n",
      "\n",
      "* vt (class: Nml2Quantity_voltage, Required)\n",
      "\t* Contents ('ids'/<objects>): -40mV\n",
      "\n",
      "* c (class: Nml2Quantity_voltage, Required)\n",
      "\t* Contents ('ids'/<objects>): -50.0mV\n",
      "\n",
      "* metaid (class: MetaId, Optional)\n",
      "* v0 (class: Nml2Quantity_voltage, Required)\n",
      "\t* Contents ('ids'/<objects>): -60mV\n",
      "\n",
      "* vpeak (class: Nml2Quantity_voltage, Required)\n",
      "\t* Contents ('ids'/<objects>): 35mV\n",
      "\n",
      "* d (class: Nml2Quantity_current, Required)\n",
      "\t* Contents ('ids'/<objects>): 100pA\n",
      "\n",
      "* neuro_lex_id (class: NeuroLexId, Optional)\n",
      "* k (class: Nml2Quantity_conductancePerVoltage, Required)\n",
      "\t* Contents ('ids'/<objects>): 0.7nS_per_mV\n",
      "\n",
      "\n"
     ]
    },
    {
     "name": "stderr",
     "output_type": "stream",
     "text": [
      "libNeuroML >>> INFO - Command completed successfully!\n",
      "libNeuroML >>> INFO - Output: \n",
      "  jNeuroML >>   jNeuroML v0.13.1\n",
      "  jNeuroML >>  Validating: /Users/alex/Desktop/uchc_work/biosimulators-2.0/biosimulator-processes/demos/iz2007RS0.nml\n",
      "  jNeuroML >>  Valid against schema and all tests\n",
      "  jNeuroML >>  No warnings\n",
      "  jNeuroML >>  \n",
      "  jNeuroML >>  Validated 1 files: All valid and no warnings\n",
      "  jNeuroML >>  \n",
      "  jNeuroML >>  \n"
     ]
    }
   ],
   "execution_count": 3
  },
  {
   "metadata": {
    "ExecuteTime": {
     "end_time": "2024-06-17T14:39:16.568252Z",
     "start_time": "2024-06-17T14:39:16.445138Z"
    }
   },
   "cell_type": "code",
   "source": "!cat iz2007RS0.nml",
   "id": "e52600ad194c8936",
   "outputs": [
    {
     "name": "stdout",
     "output_type": "stream",
     "text": [
      "<neuroml xmlns=\"http://www.neuroml.org/schema/neuroml2\"  xmlns:xs=\"http://www.w3.org/2001/XMLSchema\" xmlns:xsi=\"http://www.w3.org/2001/XMLSchema-instance\" xsi:schemaLocation=\"http://www.neuroml.org/schema/neuroml2 https://raw.github.com/NeuroML/NeuroML2/development/Schemas/NeuroML2/NeuroML_v2.3.1.xsd\" id=\"IzNet\">\r\n",
      "    <expOneSynapse id=\"syn0\" gbase=\"65nS\" erev=\"0mV\" tauDecay=\"3ms\"/>\r\n",
      "    <izhikevich2007Cell id=\"iz2007RS0\" C=\"100pF\" v0=\"-60mV\" k=\"0.7nS_per_mV\" vr=\"-60mV\" vt=\"-40mV\" vpeak=\"35mV\" a=\"0.03per_ms\" b=\"-2nS\" c=\"-50.0mV\" d=\"100pA\"/>\r\n",
      "    <network id=\"IzNet\">\r\n",
      "        <population id=\"IzPop0\" component=\"iz2007RS0\" size=\"5\">\r\n",
      "            <property tag=\"color\" value=\"0 0 .8\"/>\r\n",
      "        </population>\r\n",
      "        <population id=\"IzPop1\" component=\"iz2007RS0\" size=\"5\">\r\n",
      "            <property tag=\"color\" value=\"0 0 .8\"/>\r\n",
      "        </population>\r\n",
      "    </network>\r\n",
      "</neuroml>\r\n"
     ]
    }
   ],
   "execution_count": 5
  },
  {
   "metadata": {
    "ExecuteTime": {
     "end_time": "2024-06-17T14:30:19.370041Z",
     "start_time": "2024-06-17T14:30:19.365567Z"
    }
   },
   "cell_type": "code",
   "source": "network.outputs()",
   "id": "5aaecb801fb854fa",
   "outputs": [
    {
     "data": {
      "text/plain": [
       "{'synapses': 'tree', 'network': 'tree'}"
      ]
     },
     "execution_count": 4,
     "metadata": {},
     "output_type": "execute_result"
    }
   ],
   "execution_count": 4
  },
  {
   "metadata": {
    "ExecuteTime": {
     "end_time": "2024-06-17T14:30:20.879266Z",
     "start_time": "2024-06-17T14:30:20.875589Z"
    }
   },
   "cell_type": "code",
   "source": "network.update({})",
   "id": "b947e35fe3e95388",
   "outputs": [
    {
     "data": {
      "text/plain": [
       "{'synapses': {'synapse_0': <neuroml.nml.nml.ExpOneSynapse at 0x32f90ab90>},\n",
       " 'network': <neuroml.nml.nml.Network at 0x32fa7b850>}"
      ]
     },
     "execution_count": 5,
     "metadata": {},
     "output_type": "execute_result"
    }
   ],
   "execution_count": 5
  },
  {
   "metadata": {
    "ExecuteTime": {
     "end_time": "2024-06-17T15:32:24.271191Z",
     "start_time": "2024-06-17T15:32:24.256274Z"
    }
   },
   "cell_type": "code",
   "source": [
    "x = {'a': [1, 2], 'b': [3, 4]}\n",
    "\n",
    "x[1]"
   ],
   "id": "fcda95bca5b7e981",
   "outputs": [
    {
     "ename": "KeyError",
     "evalue": "1",
     "output_type": "error",
     "traceback": [
      "\u001B[0;31m---------------------------------------------------------------------------\u001B[0m",
      "\u001B[0;31mKeyError\u001B[0m                                  Traceback (most recent call last)",
      "Cell \u001B[0;32mIn[10], line 3\u001B[0m\n\u001B[1;32m      1\u001B[0m x \u001B[38;5;241m=\u001B[39m {\u001B[38;5;124m'\u001B[39m\u001B[38;5;124ma\u001B[39m\u001B[38;5;124m'\u001B[39m: [\u001B[38;5;241m1\u001B[39m, \u001B[38;5;241m2\u001B[39m], \u001B[38;5;124m'\u001B[39m\u001B[38;5;124mb\u001B[39m\u001B[38;5;124m'\u001B[39m: [\u001B[38;5;241m3\u001B[39m, \u001B[38;5;241m4\u001B[39m]}\n\u001B[0;32m----> 3\u001B[0m \u001B[43mx\u001B[49m\u001B[43m[\u001B[49m\u001B[38;5;241;43m1\u001B[39;49m\u001B[43m]\u001B[49m\n",
      "\u001B[0;31mKeyError\u001B[0m: 1"
     ]
    }
   ],
   "execution_count": 10
  },
  {
   "metadata": {},
   "cell_type": "code",
   "outputs": [],
   "execution_count": null,
   "source": "",
   "id": "fb0c29df53bdde4"
  }
 ],
 "metadata": {
  "kernelspec": {
   "display_name": "Python 3",
   "language": "python",
   "name": "python3"
  },
  "language_info": {
   "codemirror_mode": {
    "name": "ipython",
    "version": 2
   },
   "file_extension": ".py",
   "mimetype": "text/x-python",
   "name": "python",
   "nbconvert_exporter": "python",
   "pygments_lexer": "ipython2",
   "version": "2.7.6"
  }
 },
 "nbformat": 4,
 "nbformat_minor": 5
}
