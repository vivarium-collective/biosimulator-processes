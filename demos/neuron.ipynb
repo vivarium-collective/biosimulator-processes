{
 "cells": [
  {
   "metadata": {
    "ExecuteTime": {
     "end_time": "2024-06-18T16:54:22.642198Z",
     "start_time": "2024-06-18T16:54:22.639479Z"
    }
   },
   "cell_type": "code",
   "source": [
    "import sys \n",
    "sys.path.insert(0, '..')"
   ],
   "id": "61362b30121dbe25",
   "outputs": [],
   "execution_count": 1
  },
  {
   "metadata": {
    "ExecuteTime": {
     "end_time": "2024-06-18T16:54:23.881835Z",
     "start_time": "2024-06-18T16:54:22.750103Z"
    }
   },
   "cell_type": "code",
   "source": [
    "from process_bigraph import Composite\n",
    "\n",
    "from biosimulator_processes.neuroml_functions import *\n",
    "from biosimulator_processes.steps.neuron_network import SimpleNeuronNetwork, SimpleNeuron\n",
    "from biosimulator_processes import CORE\n",
    "import os"
   ],
   "id": "586db2c206c96d2f",
   "outputs": [
    {
     "name": "stdout",
     "output_type": "stream",
     "text": [
      "Smoldyn is not properly installed in this environment and thus its process implementation cannot be registered. Please consult smoldyn documentation.\n",
      "Available processes:\n",
      "[ 'console-emitter',\n",
      "  'ram-emitter',\n",
      "  'composite',\n",
      "  'cobra-process',\n",
      "  'copasi-process',\n",
      "  'tellurium-process',\n",
      "  'utc-amici',\n",
      "  'utc-copasi',\n",
      "  'utc-tellurium',\n",
      "  'copasi-step',\n",
      "  'tellurium-step',\n",
      "  'amici-step',\n",
      "  'plotter',\n",
      "  'plotter2d',\n",
      "  'utc-comparator',\n",
      "  'simple-neuron',\n",
      "  'simple-neuron-network']\n"
     ]
    }
   ],
   "execution_count": 2
  },
  {
   "metadata": {},
   "cell_type": "markdown",
   "source": "### Simple Single Neuron",
   "id": "312196ca49494303"
  },
  {
   "metadata": {
    "ExecuteTime": {
     "end_time": "2024-06-18T16:54:23.899624Z",
     "start_time": "2024-06-18T16:54:23.882939Z"
    }
   },
   "cell_type": "code",
   "source": [
    "neuron_config0 = {\n",
    "    'doc_config': {\n",
    "        'doc_id': \"IzSingleNeuron\",\n",
    "        'model_name': \"Izhikevich2007Cell\",\n",
    "        'model_id': \"izh2007RS0\",\n",
    "        'param_config': {\n",
    "            'v0': \"-60mV\",\n",
    "            'C': \"100pF\",\n",
    "            'k': \"0.7nS_per_mV\",\n",
    "            'vr': \"-60mV\",\n",
    "            'vt': \"-40mV\",\n",
    "            'vpeak': \"35mV\",\n",
    "            'a': \"0.03per_ms\",\n",
    "            'b': \"-2nS\",\n",
    "            'c': \"-50.0mV\",\n",
    "            'd': \"100pA\"  \n",
    "        },\n",
    "        'network_id': \"IzNet\"\n",
    "    },\n",
    "    'simulation_config': {\n",
    "        'simulation_id': \"example-single-izhikevich2007cell-sim\",\n",
    "        'duration': 2000,\n",
    "        'dt': 0.2,\n",
    "        'simulation_seed': 42,\n",
    "        'max_memory': \"2G\"\n",
    "    },\n",
    "    # 'save_dir': os.getcwd()\n",
    "}\n",
    "\n",
    "\n",
    "neuron = SimpleNeuron(config=neuron_config0, core=CORE)"
   ],
   "id": "218f2ae15c4360a1",
   "outputs": [
    {
     "name": "stderr",
     "output_type": "stream",
     "text": [
      "pyNeuroML >>> WARNING - Build time validation is disabled.\n",
      "pyNeuroML >>> WARNING - Build time validation is disabled.\n"
     ]
    },
    {
     "name": "stdout",
     "output_type": "stream",
     "text": [
      "It's valid!\n"
     ]
    }
   ],
   "execution_count": 3
  },
  {
   "metadata": {
    "ExecuteTime": {
     "end_time": "2024-06-18T16:54:23.901982Z",
     "start_time": "2024-06-18T16:54:23.900185Z"
    }
   },
   "cell_type": "code",
   "source": [
    "neuron_config1 = neuron_config0.copy()\n",
    "\n",
    "param_config1 = neuron_config1['doc_config']['param_config']\n",
    "\n",
    "factor = 2\n",
    "for param, val in param_config1.items():\n",
    "    param_config1[param] = modify_param(val, factor, method='factor')\n",
    "\n",
    "neuron_config1['doc_config']['param_config'] = param_config1"
   ],
   "id": "ceefcf9c4af30e17",
   "outputs": [],
   "execution_count": 4
  },
  {
   "metadata": {
    "ExecuteTime": {
     "end_time": "2024-06-18T16:54:23.905637Z",
     "start_time": "2024-06-18T16:54:23.902926Z"
    }
   },
   "cell_type": "code",
   "source": "neuron_config1",
   "id": "e8470053fa7faae6",
   "outputs": [
    {
     "data": {
      "text/plain": [
       "{'doc_config': {'doc_id': 'IzSingleNeuron',\n",
       "  'model_name': 'Izhikevich2007Cell',\n",
       "  'model_id': 'izh2007RS0',\n",
       "  'param_config': {'v0': '120mV',\n",
       "   'C': '200pF',\n",
       "   'k': '1.4nS_per_mV',\n",
       "   'vr': '120mV',\n",
       "   'vt': '80mV',\n",
       "   'vpeak': '70mV',\n",
       "   'a': '0.06per_ms',\n",
       "   'b': '4nS',\n",
       "   'c': '100mV',\n",
       "   'd': '200pA'},\n",
       "  'network_id': 'IzNet'},\n",
       " 'simulation_config': {'simulation_id': 'example-single-izhikevich2007cell-sim',\n",
       "  'duration': 2000,\n",
       "  'dt': 0.2,\n",
       "  'simulation_seed': 42,\n",
       "  'max_memory': '2G'},\n",
       " 'pulse_gen_config': {'amplitude': '0.07 nA',\n",
       "  'delay': '0ms',\n",
       "  'duration': '1000ms'},\n",
       " 'save_dir': '/var/folders/yy/8crj8x7x5_3b86f0js6_0bn00000gr/T/tmpki8ay6tf',\n",
       " 'nml_filename': ''}"
      ]
     },
     "execution_count": 5,
     "metadata": {},
     "output_type": "execute_result"
    }
   ],
   "execution_count": 5
  },
  {
   "metadata": {
    "ExecuteTime": {
     "end_time": "2024-06-18T16:54:25.503639Z",
     "start_time": "2024-06-18T16:54:24.832760Z"
    }
   },
   "cell_type": "code",
   "source": "results = neuron.update({})",
   "id": "cd9523ab8cc05cbf",
   "outputs": [
    {
     "name": "stderr",
     "output_type": "stream",
     "text": [
      "pyNeuroML >>> INFO - Loading NeuroML2 file: /Users/alexanderpatrie/Desktop/repos/biosimulator-processes/demos/izhikevich2007_single_cell_network.nml\n",
      "pyNeuroML >>> INFO - Writing LEMS Simulation example-single-izhikevich2007cell-sim to file: LEMS_example-single-izhikevich2007cell-sim.xml...\n",
      "pyNeuroML >>> INFO - Written LEMS Simulation example-single-izhikevich2007cell-sim to file: LEMS_example-single-izhikevich2007cell-sim.xml\n",
      "pyNeuroML >>> INFO - Loading LEMS file: LEMS_example-single-izhikevich2007cell-sim.xml and running with jNeuroML\n",
      "pyNeuroML >>> INFO - Executing: (java -Xmx2G  -Djava.awt.headless=true -jar  \"/Users/alexanderpatrie/Library/Caches/pypoetry/virtualenvs/biosimulator-processes-JaN5cQMh-py3.11/lib/python3.11/site-packages/pyneuroml/utils/./../lib/jNeuroML-0.13.1-jar-with-dependencies.jar\"  LEMS_example-single-izhikevich2007cell-sim.xml  -nogui -I '') in directory: .\n",
      "pyNeuroML >>> INFO - Command completed successfully!\n"
     ]
    }
   ],
   "execution_count": 6
  },
  {
   "metadata": {
    "ExecuteTime": {
     "end_time": "2024-06-18T16:54:25.624505Z",
     "start_time": "2024-06-18T16:54:25.621311Z"
    }
   },
   "cell_type": "code",
   "source": [
    "from process_bigraph import pp\n",
    "\n",
    "\n",
    "pp(results)"
   ],
   "id": "c033495b1e0ec1e3",
   "outputs": [
    {
     "name": "stdout",
     "output_type": "stream",
     "text": [
      "{ 'data': array([[ 0.0000000e+00, -6.0000000e-02],\n",
      "       [ 1.0000000e-04, -5.9930000e-02],\n",
      "       [ 2.0000000e-04, -5.9860980e-02],\n",
      "       ...,\n",
      "       [ 9.9980000e-01, -5.5153333e-02],\n",
      "       [ 9.9990000e-01, -5.5174080e-02],\n",
      "       [ 1.0000000e+00, -5.5194527e-02]]),\n",
      "  'duration': 2000}\n"
     ]
    }
   ],
   "execution_count": 7
  },
  {
   "metadata": {
    "ExecuteTime": {
     "end_time": "2024-06-18T16:54:26.424453Z",
     "start_time": "2024-06-18T16:54:26.245502Z"
    }
   },
   "cell_type": "code",
   "source": "neuron.plot()",
   "id": "a86265901c05a43e",
   "outputs": [
    {
     "name": "stderr",
     "output_type": "stream",
     "text": [
      "pyNeuroML >>> INFO - Generating plot: Membrane potential\n",
      "pyNeuroML >>> INFO - Saving image to /Users/alexanderpatrie/Desktop/repos/biosimulator-processes/demos/SingleNeuron.png of plot: Membrane potential\n",
      "pyNeuroML >>> INFO - Saved image to SingleNeuron.png of plot: Membrane potential\n"
     ]
    },
    {
     "data": {
      "text/plain": [
       "<Figure size 640x480 with 1 Axes>"
      ],
      "image/png": "[encoded data removed]"
     },
     "metadata": {},
     "output_type": "display_data"
    },
    {
     "data": {
      "text/plain": [
       "<Axes: xlabel='time (s)', ylabel='membrane potential (V)'>"
      ]
     },
     "execution_count": 8,
     "metadata": {},
     "output_type": "execute_result"
    }
   ],
   "execution_count": 8
  },
  {
   "metadata": {},
   "cell_type": "markdown",
   "source": "### Create a network of neurons using the composite object",
   "id": "82a5237d85a9522a"
  },
  {
   "metadata": {
    "ExecuteTime": {
     "end_time": "2024-06-18T16:54:28.211586Z",
     "start_time": "2024-06-18T16:54:28.208368Z"
    }
   },
   "cell_type": "code",
   "source": [
    "neuron0_doc = {\n",
    "    '_type': 'step',\n",
    "    'address': 'local:simple-neuron',\n",
    "    'config': neuron_config0,\n",
    "    'inputs': {},\n",
    "    'outputs': {'duration': ['duration_store0'], 'data': ['data_store0']}\n",
    "}\n",
    "\n",
    "\n",
    "neuron1_doc = {\n",
    "    '_type': 'step',\n",
    "    'address': 'local:simple-neuron',\n",
    "    'config': neuron_config1,\n",
    "    'inputs': {},\n",
    "    'outputs': {'duration': ['duration_store1'], 'data': ['data_store1']}\n",
    "}"
   ],
   "id": "c8524c277373e470",
   "outputs": [],
   "execution_count": 9
  },
  {
   "metadata": {
    "ExecuteTime": {
     "end_time": "2024-06-18T16:55:21.422006Z",
     "start_time": "2024-06-18T16:55:20.077837Z"
    }
   },
   "cell_type": "code",
   "source": [
    "neuron_network_doc = {\n",
    "    'neuron0': neuron0_doc,\n",
    "    'neuron1': neuron1_doc,\n",
    "    'emitter': {\n",
    "        '_type': 'step',\n",
    "        'address': 'local:ram-emitter',\n",
    "        'config': {\n",
    "            'emit': {\n",
    "                'duration0': 'integer',\n",
    "                'data0': 'list',\n",
    "                'duration1': 'integer',\n",
    "                'data1': 'list'}\n",
    "        },\n",
    "        'inputs': {\n",
    "            'duration0': ['duration_store0'], \n",
    "            'data0': ['data_store0'],\n",
    "            'duration1': ['duration_store1'], \n",
    "            'data1': ['data_store1']}\n",
    "    }\n",
    "}\n",
    "\n",
    "\n",
    "wf = Composite(config={'state': neuron_network_doc}, core=CORE)\n",
    "\n",
    "wf.run(1)\n",
    "wf_results = wf.gather_results()"
   ],
   "id": "eab896ff4f3b5efc",
   "outputs": [
    {
     "name": "stderr",
     "output_type": "stream",
     "text": [
      "/Users/alexanderpatrie/Library/Caches/pypoetry/virtualenvs/biosimulator-processes-JaN5cQMh-py3.11/lib/python3.11/site-packages/neuroml/nml/generatedssupersuper.py:160: DeprecationWarning:\n",
      "\n",
      "The 'warn' method is deprecated, use 'warning' instead\n",
      "\n",
      "pyNeuroML >>> WARNING - Build time validation is disabled.\n",
      "/Users/alexanderpatrie/Library/Caches/pypoetry/virtualenvs/biosimulator-processes-JaN5cQMh-py3.11/lib/python3.11/site-packages/neuroml/nml/generatedssupersuper.py:101: DeprecationWarning:\n",
      "\n",
      "The 'warn' method is deprecated, use 'warning' instead\n",
      "\n",
      "pyNeuroML >>> WARNING - Build time validation is disabled.\n",
      "/Users/alexanderpatrie/Library/Caches/pypoetry/virtualenvs/biosimulator-processes-JaN5cQMh-py3.11/lib/python3.11/site-packages/neuroml/nml/generatedssupersuper.py:160: DeprecationWarning:\n",
      "\n",
      "The 'warn' method is deprecated, use 'warning' instead\n",
      "\n",
      "pyNeuroML >>> WARNING - Build time validation is disabled.\n",
      "/Users/alexanderpatrie/Library/Caches/pypoetry/virtualenvs/biosimulator-processes-JaN5cQMh-py3.11/lib/python3.11/site-packages/neuroml/nml/generatedssupersuper.py:101: DeprecationWarning:\n",
      "\n",
      "The 'warn' method is deprecated, use 'warning' instead\n",
      "\n",
      "pyNeuroML >>> WARNING - Build time validation is disabled.\n",
      "pyNeuroML >>> INFO - Loading NeuroML2 file: /Users/alexanderpatrie/Desktop/repos/biosimulator-processes/demos/izhikevich2007_single_cell_network.nml\n",
      "pyNeuroML >>> INFO - Writing LEMS Simulation example-single-izhikevich2007cell-sim to file: LEMS_example-single-izhikevich2007cell-sim.xml...\n",
      "pyNeuroML >>> INFO - Written LEMS Simulation example-single-izhikevich2007cell-sim to file: LEMS_example-single-izhikevich2007cell-sim.xml\n",
      "pyNeuroML >>> INFO - Loading LEMS file: LEMS_example-single-izhikevich2007cell-sim.xml and running with jNeuroML\n",
      "pyNeuroML >>> INFO - Executing: (java -Xmx2G  -Djava.awt.headless=true -jar  \"/Users/alexanderpatrie/Library/Caches/pypoetry/virtualenvs/biosimulator-processes-JaN5cQMh-py3.11/lib/python3.11/site-packages/pyneuroml/utils/./../lib/jNeuroML-0.13.1-jar-with-dependencies.jar\"  LEMS_example-single-izhikevich2007cell-sim.xml  -nogui -I '') in directory: .\n"
     ]
    },
    {
     "name": "stdout",
     "output_type": "stream",
     "text": [
      "It's valid!\n",
      "It's valid!\n"
     ]
    },
    {
     "name": "stderr",
     "output_type": "stream",
     "text": [
      "pyNeuroML >>> INFO - Command completed successfully!\n",
      "pyNeuroML >>> INFO - Loading NeuroML2 file: /Users/alexanderpatrie/Desktop/repos/biosimulator-processes/demos/izhikevich2007_single_cell_network.nml\n",
      "pyNeuroML >>> INFO - Writing LEMS Simulation example-single-izhikevich2007cell-sim to file: LEMS_example-single-izhikevich2007cell-sim.xml...\n",
      "pyNeuroML >>> INFO - Written LEMS Simulation example-single-izhikevich2007cell-sim to file: LEMS_example-single-izhikevich2007cell-sim.xml\n",
      "pyNeuroML >>> INFO - Loading LEMS file: LEMS_example-single-izhikevich2007cell-sim.xml and running with jNeuroML\n",
      "pyNeuroML >>> INFO - Executing: (java -Xmx2G  -Djava.awt.headless=true -jar  \"/Users/alexanderpatrie/Library/Caches/pypoetry/virtualenvs/biosimulator-processes-JaN5cQMh-py3.11/lib/python3.11/site-packages/pyneuroml/utils/./../lib/jNeuroML-0.13.1-jar-with-dependencies.jar\"  LEMS_example-single-izhikevich2007cell-sim.xml  -nogui -I '') in directory: .\n",
      "pyNeuroML >>> INFO - Command completed successfully!\n"
     ]
    }
   ],
   "execution_count": 11
  },
  {
   "metadata": {
    "ExecuteTime": {
     "end_time": "2024-06-18T16:55:34.834270Z",
     "start_time": "2024-06-18T16:55:34.830172Z"
    }
   },
   "cell_type": "code",
   "source": "wf_results",
   "id": "858b128a79e32471",
   "outputs": [
    {
     "data": {
      "text/plain": [
       "{('emitter',): [{'duration0': 0,\n",
       "   'data0': [],\n",
       "   'duration1': 2000,\n",
       "   'data1': [array([[0.000e+00, 1.200e-01],\n",
       "           [1.000e-04, 1.000e-01],\n",
       "           [2.000e-04, 1.000e-01],\n",
       "           ...,\n",
       "           [9.998e-01, 1.000e-01],\n",
       "           [9.999e-01, 1.000e-01],\n",
       "           [1.000e+00, 1.000e-01]])]}]}"
      ]
     },
     "execution_count": 12,
     "metadata": {},
     "output_type": "execute_result"
    }
   ],
   "execution_count": 12
  },
  {
   "metadata": {
    "ExecuteTime": {
     "end_time": "2024-06-18T16:52:19.836196Z",
     "start_time": "2024-06-18T16:52:19.831460Z"
    }
   },
   "cell_type": "code",
   "source": [
    "data = wf_results[('emitter',)][0]['data'][0]\n",
    "\n",
    "x = [arr[0] for arr in data]\n",
    "y = [arr[1] for arr in data]"
   ],
   "id": "f84379a0a9b4c683",
   "outputs": [],
   "execution_count": 21
  },
  {
   "metadata": {
    "ExecuteTime": {
     "end_time": "2024-06-18T16:52:36.326120Z",
     "start_time": "2024-06-18T16:52:36.245715Z"
    }
   },
   "cell_type": "code",
   "source": [
    "import seaborn as sns \n",
    "\n",
    "\n",
    "sns.lineplot(y)"
   ],
   "id": "b61eb0d99948c1ff",
   "outputs": [
    {
     "data": {
      "text/plain": [
       "<Axes: >"
      ]
     },
     "execution_count": 23,
     "metadata": {},
     "output_type": "execute_result"
    },
    {
     "data": {
      "text/plain": [
       "<Figure size 640x480 with 1 Axes>"
      ],
      "image/png": "[encoded data removed]"
     },
     "metadata": {},
     "output_type": "display_data"
    }
   ],
   "execution_count": 23
  },
  {
   "metadata": {},
   "cell_type": "markdown",
   "source": "### Create a network of neuron using pyneuroml",
   "id": "7d81df5852563067"
  },
  {
   "metadata": {
    "ExecuteTime": {
     "end_time": "2024-06-18T16:20:49.774045Z",
     "start_time": "2024-06-18T16:20:49.689916Z"
    }
   },
   "cell_type": "code",
   "source": [
    "network = SimpleNeuronNetwork(\n",
    "    config={\n",
    "        'num_neurons': 2,\n",
    "        'doc_config': {\n",
    "            'doc_name': \"NeuroMLDocument\",\n",
    "            'doc_id': \"IzNet\",\n",
    "            'model_name': \"Izhikevich2007Cell\",\n",
    "            'model_id': \"iz2007RS0\",\n",
    "            'param_config': {\n",
    "                'v0': \"-60mV\",\n",
    "                'C': \"100pF\",\n",
    "                'k': \"0.7nS_per_mV\",\n",
    "                'vr': \"-60mV\",\n",
    "                'vt': \"-40mV\",\n",
    "                'vpeak': \"35mV\",\n",
    "                'a': \"0.03per_ms\",\n",
    "                'b': \"-2nS\",\n",
    "                'c': \"-50.0mV\",\n",
    "                'd': \"100pA\"  \n",
    "            },\n",
    "        },\n",
    "        'synapse_config': {\n",
    "            \"ExpOneSynapse\": {\n",
    "                'synapse_id': \"syn0\",\n",
    "                'synapse_params': {\n",
    "                    'erev': \"0mV\",\n",
    "                    'gbase': \"65nS\",\n",
    "                    'tau_decay': \"3ms\"\n",
    "                }\n",
    "            }\n",
    "        },\n",
    "        'network_config': {\n",
    "            'network_id': \"IzNet\",\n",
    "            'population_config': {\n",
    "                \"IzPop0\": {\n",
    "                    'size': 5,\n",
    "                    'property_config': {\n",
    "                        'tag': \"color\",\n",
    "                        'value': \"0 0 .8\"\n",
    "                    }\n",
    "                },\n",
    "                \"IzPop1\": {\n",
    "                    'size': 5,\n",
    "                    'property_config': {\n",
    "                        'tag': \"color\",\n",
    "                        'value': \"0 0 .8\"\n",
    "                    }\n",
    "                }\n",
    "            }\n",
    "        },\n",
    "        'save_dir': os.getcwd()\n",
    "    }, \n",
    "    core=CORE\n",
    ")"
   ],
   "id": "1f1bf4d574d1b3a9",
   "outputs": [
    {
     "ename": "NameError",
     "evalue": "name 'component_factory' is not defined",
     "output_type": "error",
     "traceback": [
      "\u001B[0;31m---------------------------------------------------------------------------\u001B[0m",
      "\u001B[0;31mNameError\u001B[0m                                 Traceback (most recent call last)",
      "Cell \u001B[0;32mIn[8], line 1\u001B[0m\n\u001B[0;32m----> 1\u001B[0m network \u001B[38;5;241m=\u001B[39m \u001B[43mSimpleNeuronNetwork\u001B[49m\u001B[43m(\u001B[49m\n\u001B[1;32m      2\u001B[0m \u001B[43m    \u001B[49m\u001B[43mconfig\u001B[49m\u001B[38;5;241;43m=\u001B[39;49m\u001B[43m{\u001B[49m\n\u001B[1;32m      3\u001B[0m \u001B[43m        \u001B[49m\u001B[38;5;124;43m'\u001B[39;49m\u001B[38;5;124;43mnum_neurons\u001B[39;49m\u001B[38;5;124;43m'\u001B[39;49m\u001B[43m:\u001B[49m\u001B[43m \u001B[49m\u001B[38;5;241;43m2\u001B[39;49m\u001B[43m,\u001B[49m\n\u001B[1;32m      4\u001B[0m \u001B[43m        \u001B[49m\u001B[38;5;124;43m'\u001B[39;49m\u001B[38;5;124;43mdoc_config\u001B[39;49m\u001B[38;5;124;43m'\u001B[39;49m\u001B[43m:\u001B[49m\u001B[43m \u001B[49m\u001B[43m{\u001B[49m\n\u001B[1;32m      5\u001B[0m \u001B[43m            \u001B[49m\u001B[38;5;124;43m'\u001B[39;49m\u001B[38;5;124;43mdoc_name\u001B[39;49m\u001B[38;5;124;43m'\u001B[39;49m\u001B[43m:\u001B[49m\u001B[43m \u001B[49m\u001B[38;5;124;43m\"\u001B[39;49m\u001B[38;5;124;43mNeuroMLDocument\u001B[39;49m\u001B[38;5;124;43m\"\u001B[39;49m\u001B[43m,\u001B[49m\n\u001B[1;32m      6\u001B[0m \u001B[43m            \u001B[49m\u001B[38;5;124;43m'\u001B[39;49m\u001B[38;5;124;43mdoc_id\u001B[39;49m\u001B[38;5;124;43m'\u001B[39;49m\u001B[43m:\u001B[49m\u001B[43m \u001B[49m\u001B[38;5;124;43m\"\u001B[39;49m\u001B[38;5;124;43mIzNet\u001B[39;49m\u001B[38;5;124;43m\"\u001B[39;49m\u001B[43m,\u001B[49m\n\u001B[1;32m      7\u001B[0m \u001B[43m            \u001B[49m\u001B[38;5;124;43m'\u001B[39;49m\u001B[38;5;124;43mmodel_name\u001B[39;49m\u001B[38;5;124;43m'\u001B[39;49m\u001B[43m:\u001B[49m\u001B[43m \u001B[49m\u001B[38;5;124;43m\"\u001B[39;49m\u001B[38;5;124;43mIzhikevich2007Cell\u001B[39;49m\u001B[38;5;124;43m\"\u001B[39;49m\u001B[43m,\u001B[49m\n\u001B[1;32m      8\u001B[0m \u001B[43m            \u001B[49m\u001B[38;5;124;43m'\u001B[39;49m\u001B[38;5;124;43mmodel_id\u001B[39;49m\u001B[38;5;124;43m'\u001B[39;49m\u001B[43m:\u001B[49m\u001B[43m \u001B[49m\u001B[38;5;124;43m\"\u001B[39;49m\u001B[38;5;124;43miz2007RS0\u001B[39;49m\u001B[38;5;124;43m\"\u001B[39;49m\u001B[43m,\u001B[49m\n\u001B[1;32m      9\u001B[0m \u001B[43m            \u001B[49m\u001B[38;5;124;43m'\u001B[39;49m\u001B[38;5;124;43mparam_config\u001B[39;49m\u001B[38;5;124;43m'\u001B[39;49m\u001B[43m:\u001B[49m\u001B[43m \u001B[49m\u001B[43m{\u001B[49m\n\u001B[1;32m     10\u001B[0m \u001B[43m                \u001B[49m\u001B[38;5;124;43m'\u001B[39;49m\u001B[38;5;124;43mv0\u001B[39;49m\u001B[38;5;124;43m'\u001B[39;49m\u001B[43m:\u001B[49m\u001B[43m \u001B[49m\u001B[38;5;124;43m\"\u001B[39;49m\u001B[38;5;124;43m-60mV\u001B[39;49m\u001B[38;5;124;43m\"\u001B[39;49m\u001B[43m,\u001B[49m\n\u001B[1;32m     11\u001B[0m \u001B[43m                \u001B[49m\u001B[38;5;124;43m'\u001B[39;49m\u001B[38;5;124;43mC\u001B[39;49m\u001B[38;5;124;43m'\u001B[39;49m\u001B[43m:\u001B[49m\u001B[43m \u001B[49m\u001B[38;5;124;43m\"\u001B[39;49m\u001B[38;5;124;43m100pF\u001B[39;49m\u001B[38;5;124;43m\"\u001B[39;49m\u001B[43m,\u001B[49m\n\u001B[1;32m     12\u001B[0m \u001B[43m                \u001B[49m\u001B[38;5;124;43m'\u001B[39;49m\u001B[38;5;124;43mk\u001B[39;49m\u001B[38;5;124;43m'\u001B[39;49m\u001B[43m:\u001B[49m\u001B[43m \u001B[49m\u001B[38;5;124;43m\"\u001B[39;49m\u001B[38;5;124;43m0.7nS_per_mV\u001B[39;49m\u001B[38;5;124;43m\"\u001B[39;49m\u001B[43m,\u001B[49m\n\u001B[1;32m     13\u001B[0m \u001B[43m                \u001B[49m\u001B[38;5;124;43m'\u001B[39;49m\u001B[38;5;124;43mvr\u001B[39;49m\u001B[38;5;124;43m'\u001B[39;49m\u001B[43m:\u001B[49m\u001B[43m \u001B[49m\u001B[38;5;124;43m\"\u001B[39;49m\u001B[38;5;124;43m-60mV\u001B[39;49m\u001B[38;5;124;43m\"\u001B[39;49m\u001B[43m,\u001B[49m\n\u001B[1;32m     14\u001B[0m \u001B[43m                \u001B[49m\u001B[38;5;124;43m'\u001B[39;49m\u001B[38;5;124;43mvt\u001B[39;49m\u001B[38;5;124;43m'\u001B[39;49m\u001B[43m:\u001B[49m\u001B[43m \u001B[49m\u001B[38;5;124;43m\"\u001B[39;49m\u001B[38;5;124;43m-40mV\u001B[39;49m\u001B[38;5;124;43m\"\u001B[39;49m\u001B[43m,\u001B[49m\n\u001B[1;32m     15\u001B[0m \u001B[43m                \u001B[49m\u001B[38;5;124;43m'\u001B[39;49m\u001B[38;5;124;43mvpeak\u001B[39;49m\u001B[38;5;124;43m'\u001B[39;49m\u001B[43m:\u001B[49m\u001B[43m \u001B[49m\u001B[38;5;124;43m\"\u001B[39;49m\u001B[38;5;124;43m35mV\u001B[39;49m\u001B[38;5;124;43m\"\u001B[39;49m\u001B[43m,\u001B[49m\n\u001B[1;32m     16\u001B[0m \u001B[43m                \u001B[49m\u001B[38;5;124;43m'\u001B[39;49m\u001B[38;5;124;43ma\u001B[39;49m\u001B[38;5;124;43m'\u001B[39;49m\u001B[43m:\u001B[49m\u001B[43m \u001B[49m\u001B[38;5;124;43m\"\u001B[39;49m\u001B[38;5;124;43m0.03per_ms\u001B[39;49m\u001B[38;5;124;43m\"\u001B[39;49m\u001B[43m,\u001B[49m\n\u001B[1;32m     17\u001B[0m \u001B[43m                \u001B[49m\u001B[38;5;124;43m'\u001B[39;49m\u001B[38;5;124;43mb\u001B[39;49m\u001B[38;5;124;43m'\u001B[39;49m\u001B[43m:\u001B[49m\u001B[43m \u001B[49m\u001B[38;5;124;43m\"\u001B[39;49m\u001B[38;5;124;43m-2nS\u001B[39;49m\u001B[38;5;124;43m\"\u001B[39;49m\u001B[43m,\u001B[49m\n\u001B[1;32m     18\u001B[0m \u001B[43m                \u001B[49m\u001B[38;5;124;43m'\u001B[39;49m\u001B[38;5;124;43mc\u001B[39;49m\u001B[38;5;124;43m'\u001B[39;49m\u001B[43m:\u001B[49m\u001B[43m \u001B[49m\u001B[38;5;124;43m\"\u001B[39;49m\u001B[38;5;124;43m-50.0mV\u001B[39;49m\u001B[38;5;124;43m\"\u001B[39;49m\u001B[43m,\u001B[49m\n\u001B[1;32m     19\u001B[0m \u001B[43m                \u001B[49m\u001B[38;5;124;43m'\u001B[39;49m\u001B[38;5;124;43md\u001B[39;49m\u001B[38;5;124;43m'\u001B[39;49m\u001B[43m:\u001B[49m\u001B[43m \u001B[49m\u001B[38;5;124;43m\"\u001B[39;49m\u001B[38;5;124;43m100pA\u001B[39;49m\u001B[38;5;124;43m\"\u001B[39;49m\u001B[43m  \u001B[49m\n\u001B[1;32m     20\u001B[0m \u001B[43m            \u001B[49m\u001B[43m}\u001B[49m\u001B[43m,\u001B[49m\n\u001B[1;32m     21\u001B[0m \u001B[43m        \u001B[49m\u001B[43m}\u001B[49m\u001B[43m,\u001B[49m\n\u001B[1;32m     22\u001B[0m \u001B[43m        \u001B[49m\u001B[38;5;124;43m'\u001B[39;49m\u001B[38;5;124;43msynapse_config\u001B[39;49m\u001B[38;5;124;43m'\u001B[39;49m\u001B[43m:\u001B[49m\u001B[43m \u001B[49m\u001B[43m{\u001B[49m\n\u001B[1;32m     23\u001B[0m \u001B[43m            \u001B[49m\u001B[38;5;124;43m\"\u001B[39;49m\u001B[38;5;124;43mExpOneSynapse\u001B[39;49m\u001B[38;5;124;43m\"\u001B[39;49m\u001B[43m:\u001B[49m\u001B[43m \u001B[49m\u001B[43m{\u001B[49m\n\u001B[1;32m     24\u001B[0m \u001B[43m                \u001B[49m\u001B[38;5;124;43m'\u001B[39;49m\u001B[38;5;124;43msynapse_id\u001B[39;49m\u001B[38;5;124;43m'\u001B[39;49m\u001B[43m:\u001B[49m\u001B[43m \u001B[49m\u001B[38;5;124;43m\"\u001B[39;49m\u001B[38;5;124;43msyn0\u001B[39;49m\u001B[38;5;124;43m\"\u001B[39;49m\u001B[43m,\u001B[49m\n\u001B[1;32m     25\u001B[0m \u001B[43m                \u001B[49m\u001B[38;5;124;43m'\u001B[39;49m\u001B[38;5;124;43msynapse_params\u001B[39;49m\u001B[38;5;124;43m'\u001B[39;49m\u001B[43m:\u001B[49m\u001B[43m \u001B[49m\u001B[43m{\u001B[49m\n\u001B[1;32m     26\u001B[0m \u001B[43m                    \u001B[49m\u001B[38;5;124;43m'\u001B[39;49m\u001B[38;5;124;43merev\u001B[39;49m\u001B[38;5;124;43m'\u001B[39;49m\u001B[43m:\u001B[49m\u001B[43m \u001B[49m\u001B[38;5;124;43m\"\u001B[39;49m\u001B[38;5;124;43m0mV\u001B[39;49m\u001B[38;5;124;43m\"\u001B[39;49m\u001B[43m,\u001B[49m\n\u001B[1;32m     27\u001B[0m \u001B[43m                    \u001B[49m\u001B[38;5;124;43m'\u001B[39;49m\u001B[38;5;124;43mgbase\u001B[39;49m\u001B[38;5;124;43m'\u001B[39;49m\u001B[43m:\u001B[49m\u001B[43m \u001B[49m\u001B[38;5;124;43m\"\u001B[39;49m\u001B[38;5;124;43m65nS\u001B[39;49m\u001B[38;5;124;43m\"\u001B[39;49m\u001B[43m,\u001B[49m\n\u001B[1;32m     28\u001B[0m \u001B[43m                    \u001B[49m\u001B[38;5;124;43m'\u001B[39;49m\u001B[38;5;124;43mtau_decay\u001B[39;49m\u001B[38;5;124;43m'\u001B[39;49m\u001B[43m:\u001B[49m\u001B[43m \u001B[49m\u001B[38;5;124;43m\"\u001B[39;49m\u001B[38;5;124;43m3ms\u001B[39;49m\u001B[38;5;124;43m\"\u001B[39;49m\n\u001B[1;32m     29\u001B[0m \u001B[43m                \u001B[49m\u001B[43m}\u001B[49m\n\u001B[1;32m     30\u001B[0m \u001B[43m            \u001B[49m\u001B[43m}\u001B[49m\n\u001B[1;32m     31\u001B[0m \u001B[43m        \u001B[49m\u001B[43m}\u001B[49m\u001B[43m,\u001B[49m\n\u001B[1;32m     32\u001B[0m \u001B[43m        \u001B[49m\u001B[38;5;124;43m'\u001B[39;49m\u001B[38;5;124;43mnetwork_config\u001B[39;49m\u001B[38;5;124;43m'\u001B[39;49m\u001B[43m:\u001B[49m\u001B[43m \u001B[49m\u001B[43m{\u001B[49m\n\u001B[1;32m     33\u001B[0m \u001B[43m            \u001B[49m\u001B[38;5;124;43m'\u001B[39;49m\u001B[38;5;124;43mnetwork_id\u001B[39;49m\u001B[38;5;124;43m'\u001B[39;49m\u001B[43m:\u001B[49m\u001B[43m \u001B[49m\u001B[38;5;124;43m\"\u001B[39;49m\u001B[38;5;124;43mIzNet\u001B[39;49m\u001B[38;5;124;43m\"\u001B[39;49m\u001B[43m,\u001B[49m\n\u001B[1;32m     34\u001B[0m \u001B[43m            \u001B[49m\u001B[38;5;124;43m'\u001B[39;49m\u001B[38;5;124;43mpopulation_config\u001B[39;49m\u001B[38;5;124;43m'\u001B[39;49m\u001B[43m:\u001B[49m\u001B[43m \u001B[49m\u001B[43m{\u001B[49m\n\u001B[1;32m     35\u001B[0m \u001B[43m                \u001B[49m\u001B[38;5;124;43m\"\u001B[39;49m\u001B[38;5;124;43mIzPop0\u001B[39;49m\u001B[38;5;124;43m\"\u001B[39;49m\u001B[43m:\u001B[49m\u001B[43m \u001B[49m\u001B[43m{\u001B[49m\n\u001B[1;32m     36\u001B[0m \u001B[43m                    \u001B[49m\u001B[38;5;124;43m'\u001B[39;49m\u001B[38;5;124;43msize\u001B[39;49m\u001B[38;5;124;43m'\u001B[39;49m\u001B[43m:\u001B[49m\u001B[43m \u001B[49m\u001B[38;5;241;43m5\u001B[39;49m\u001B[43m,\u001B[49m\n\u001B[1;32m     37\u001B[0m \u001B[43m                    \u001B[49m\u001B[38;5;124;43m'\u001B[39;49m\u001B[38;5;124;43mproperty_config\u001B[39;49m\u001B[38;5;124;43m'\u001B[39;49m\u001B[43m:\u001B[49m\u001B[43m \u001B[49m\u001B[43m{\u001B[49m\n\u001B[1;32m     38\u001B[0m \u001B[43m                        \u001B[49m\u001B[38;5;124;43m'\u001B[39;49m\u001B[38;5;124;43mtag\u001B[39;49m\u001B[38;5;124;43m'\u001B[39;49m\u001B[43m:\u001B[49m\u001B[43m \u001B[49m\u001B[38;5;124;43m\"\u001B[39;49m\u001B[38;5;124;43mcolor\u001B[39;49m\u001B[38;5;124;43m\"\u001B[39;49m\u001B[43m,\u001B[49m\n\u001B[1;32m     39\u001B[0m \u001B[43m                        \u001B[49m\u001B[38;5;124;43m'\u001B[39;49m\u001B[38;5;124;43mvalue\u001B[39;49m\u001B[38;5;124;43m'\u001B[39;49m\u001B[43m:\u001B[49m\u001B[43m \u001B[49m\u001B[38;5;124;43m\"\u001B[39;49m\u001B[38;5;124;43m0 0 .8\u001B[39;49m\u001B[38;5;124;43m\"\u001B[39;49m\n\u001B[1;32m     40\u001B[0m \u001B[43m                    \u001B[49m\u001B[43m}\u001B[49m\n\u001B[1;32m     41\u001B[0m \u001B[43m                \u001B[49m\u001B[43m}\u001B[49m\u001B[43m,\u001B[49m\n\u001B[1;32m     42\u001B[0m \u001B[43m                \u001B[49m\u001B[38;5;124;43m\"\u001B[39;49m\u001B[38;5;124;43mIzPop1\u001B[39;49m\u001B[38;5;124;43m\"\u001B[39;49m\u001B[43m:\u001B[49m\u001B[43m \u001B[49m\u001B[43m{\u001B[49m\n\u001B[1;32m     43\u001B[0m \u001B[43m                    \u001B[49m\u001B[38;5;124;43m'\u001B[39;49m\u001B[38;5;124;43msize\u001B[39;49m\u001B[38;5;124;43m'\u001B[39;49m\u001B[43m:\u001B[49m\u001B[43m \u001B[49m\u001B[38;5;241;43m5\u001B[39;49m\u001B[43m,\u001B[49m\n\u001B[1;32m     44\u001B[0m \u001B[43m                    \u001B[49m\u001B[38;5;124;43m'\u001B[39;49m\u001B[38;5;124;43mproperty_config\u001B[39;49m\u001B[38;5;124;43m'\u001B[39;49m\u001B[43m:\u001B[49m\u001B[43m \u001B[49m\u001B[43m{\u001B[49m\n\u001B[1;32m     45\u001B[0m \u001B[43m                        \u001B[49m\u001B[38;5;124;43m'\u001B[39;49m\u001B[38;5;124;43mtag\u001B[39;49m\u001B[38;5;124;43m'\u001B[39;49m\u001B[43m:\u001B[49m\u001B[43m \u001B[49m\u001B[38;5;124;43m\"\u001B[39;49m\u001B[38;5;124;43mcolor\u001B[39;49m\u001B[38;5;124;43m\"\u001B[39;49m\u001B[43m,\u001B[49m\n\u001B[1;32m     46\u001B[0m \u001B[43m                        \u001B[49m\u001B[38;5;124;43m'\u001B[39;49m\u001B[38;5;124;43mvalue\u001B[39;49m\u001B[38;5;124;43m'\u001B[39;49m\u001B[43m:\u001B[49m\u001B[43m \u001B[49m\u001B[38;5;124;43m\"\u001B[39;49m\u001B[38;5;124;43m0 0 .8\u001B[39;49m\u001B[38;5;124;43m\"\u001B[39;49m\n\u001B[1;32m     47\u001B[0m \u001B[43m                    \u001B[49m\u001B[43m}\u001B[49m\n\u001B[1;32m     48\u001B[0m \u001B[43m                \u001B[49m\u001B[43m}\u001B[49m\n\u001B[1;32m     49\u001B[0m \u001B[43m            \u001B[49m\u001B[43m}\u001B[49m\n\u001B[1;32m     50\u001B[0m \u001B[43m        \u001B[49m\u001B[43m}\u001B[49m\u001B[43m,\u001B[49m\n\u001B[1;32m     51\u001B[0m \u001B[43m        \u001B[49m\u001B[38;5;124;43m'\u001B[39;49m\u001B[38;5;124;43msave_dir\u001B[39;49m\u001B[38;5;124;43m'\u001B[39;49m\u001B[43m:\u001B[49m\u001B[43m \u001B[49m\u001B[43mos\u001B[49m\u001B[38;5;241;43m.\u001B[39;49m\u001B[43mgetcwd\u001B[49m\u001B[43m(\u001B[49m\u001B[43m)\u001B[49m\n\u001B[1;32m     52\u001B[0m \u001B[43m    \u001B[49m\u001B[43m}\u001B[49m\u001B[43m,\u001B[49m\u001B[43m \u001B[49m\n\u001B[1;32m     53\u001B[0m \u001B[43m    \u001B[49m\u001B[43mcore\u001B[49m\u001B[38;5;241;43m=\u001B[39;49m\u001B[43mCORE\u001B[49m\n\u001B[1;32m     54\u001B[0m \u001B[43m)\u001B[49m\n",
      "File \u001B[0;32m~/Desktop/repos/biosimulator-processes/demos/../biosimulator_processes/steps/neuron_network.py:198\u001B[0m, in \u001B[0;36mSimpleNeuronNetwork.__init__\u001B[0;34m(self, config, core)\u001B[0m\n\u001B[1;32m    195\u001B[0m model_params_config \u001B[38;5;241m=\u001B[39m model_config[\u001B[38;5;124m'\u001B[39m\u001B[38;5;124mparam_config\u001B[39m\u001B[38;5;124m'\u001B[39m]\n\u001B[1;32m    197\u001B[0m \u001B[38;5;66;03m# create the doc container\u001B[39;00m\n\u001B[0;32m--> 198\u001B[0m nml_doc \u001B[38;5;241m=\u001B[39m \u001B[43mcomponent_factory\u001B[49m(doc_name, \u001B[38;5;28mid\u001B[39m\u001B[38;5;241m=\u001B[39mdoc_id)\n\u001B[1;32m    200\u001B[0m \u001B[38;5;66;03m# add model-specific param state to doc\u001B[39;00m\n\u001B[1;32m    201\u001B[0m \u001B[38;5;28mself\u001B[39m\u001B[38;5;241m.\u001B[39mmodel \u001B[38;5;241m=\u001B[39m nml_doc\u001B[38;5;241m.\u001B[39madd(model_name, \u001B[38;5;28mid\u001B[39m\u001B[38;5;241m=\u001B[39mmodel_id, \u001B[38;5;241m*\u001B[39m\u001B[38;5;241m*\u001B[39mmodel_params_config)\n",
      "\u001B[0;31mNameError\u001B[0m: name 'component_factory' is not defined"
     ]
    }
   ],
   "execution_count": 8
  },
  {
   "metadata": {
    "ExecuteTime": {
     "end_time": "2024-06-18T16:20:49.774983Z",
     "start_time": "2024-06-18T16:20:49.774939Z"
    }
   },
   "cell_type": "code",
   "source": "!cat iz2007RS0.nml",
   "id": "e52600ad194c8936",
   "outputs": [],
   "execution_count": null
  },
  {
   "metadata": {
    "ExecuteTime": {
     "end_time": "2024-06-18T16:20:49.775666Z",
     "start_time": "2024-06-18T16:20:49.775630Z"
    }
   },
   "cell_type": "code",
   "source": "network.outputs()",
   "id": "5aaecb801fb854fa",
   "outputs": [],
   "execution_count": null
  },
  {
   "metadata": {},
   "cell_type": "code",
   "source": "network.update({})",
   "id": "b947e35fe3e95388",
   "outputs": [],
   "execution_count": null
  },
  {
   "metadata": {},
   "cell_type": "code",
   "source": [
    "x = {'a': [1, 2], 'b': [3, 4]}\n",
    "\n",
    "x[1]"
   ],
   "id": "fcda95bca5b7e981",
   "outputs": [],
   "execution_count": null
  },
  {
   "metadata": {},
   "cell_type": "code",
   "source": "neuron",
   "id": "fb0c29df53bdde4",
   "outputs": [],
   "execution_count": null
  },
  {
   "metadata": {},
   "cell_type": "code",
   "source": "",
   "id": "2780d3d41846ae90",
   "outputs": [],
   "execution_count": null
  }
 ],
 "metadata": {
  "kernelspec": {
   "display_name": "Python 3",
   "language": "python",
   "name": "python3"
  },
  "language_info": {
   "codemirror_mode": {
    "name": "ipython",
    "version": 2
   },
   "file_extension": ".py",
   "mimetype": "text/x-python",
   "name": "python",
   "nbconvert_exporter": "python",
   "pygments_lexer": "ipython2",
   "version": "2.7.6"
  }
 },
 "nbformat": 4,
 "nbformat_minor": 5
}
