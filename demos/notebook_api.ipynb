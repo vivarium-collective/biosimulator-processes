{
 "cells": [
  {
   "metadata": {},
   "cell_type": "markdown",
   "source": "#### High-level \"Notebook API\"",
   "id": "9ad7c90947cbb308"
  },
  {
   "cell_type": "code",
   "id": "initial_id",
   "metadata": {
    "collapsed": true,
    "ExecuteTime": {
     "end_time": "2024-06-10T16:14:13.081309Z",
     "start_time": "2024-06-10T16:14:13.079456Z"
    }
   },
   "source": [
    "import sys \n",
    "import os \n",
    "sys.path.insert(0, '..')\n",
    "\n",
    "\n",
    "# from biosimulator_processes.api.instance import "
   ],
   "execution_count": 1,
   "outputs": []
  },
  {
   "metadata": {
    "ExecuteTime": {
     "end_time": "2024-06-10T16:14:14.001143Z",
     "start_time": "2024-06-10T16:14:13.097517Z"
    }
   },
   "cell_type": "code",
   "source": [
    "from biosimulator_processes.io import read_report_outputs\n",
    "from biosimulator_processes import CORE\n",
    "from biosimulator_processes.helpers import plot_utc_outputs, plot_ode_output_data"
   ],
   "id": "a44980ecb4b4d83b",
   "execution_count": 2,
   "outputs": []
  },
  {
   "metadata": {
    "ExecuteTime": {
     "end_time": "2024-06-10T16:14:14.003786Z",
     "start_time": "2024-06-10T16:14:14.002101Z"
    }
   },
   "cell_type": "code",
   "source": [
    "from biosimulator_processes.processes.amici_process import UtcAmici\n",
    "from biosimulator_processes.processes.copasi_process import UtcCopasi\n",
    "from biosimulator_processes.processes.tellurium_process import UtcTellurium"
   ],
   "id": "c628fa1d2c870bd7",
   "execution_count": 3,
   "outputs": []
  },
  {
   "metadata": {
    "ExecuteTime": {
     "end_time": "2024-06-10T16:14:14.005855Z",
     "start_time": "2024-06-10T16:14:14.004302Z"
    }
   },
   "cell_type": "code",
   "source": [
    "omex_dir = '../test_suite/examples/sbml-core/Elowitz-Nature-2000-Repressilator'\n",
    "omex_fp = omex_dir + '.omex'\n",
    "sbml_fp = os.path.join(omex_dir, 'BIOMD0000000012_url.xml')\n",
    "sedml_fp = os.path.join(omex_dir, 'simulation.sedml')\n",
    "reports_path = os.path.join(omex_dir, 'reports.h5')\n",
    "selected_species = 'cI mRNA'"
   ],
   "id": "8b04fc8f6538ff55",
   "execution_count": 4,
   "outputs": []
  },
  {
   "metadata": {
    "ExecuteTime": {
     "end_time": "2024-06-10T16:14:14.036965Z",
     "start_time": "2024-06-10T16:14:14.006972Z"
    }
   },
   "cell_type": "code",
   "source": [
    "utc_tellurium = UtcTellurium(config={'model': {'model_source': omex_dir + '.omex'}})\n",
    "tellurium_results = utc_tellurium.update()"
   ],
   "id": "f8aa23e93794735a",
   "execution_count": 5,
   "outputs": []
  },
  {
   "metadata": {
    "ExecuteTime": {
     "end_time": "2024-06-10T16:14:14.068628Z",
     "start_time": "2024-06-10T16:14:14.037687Z"
    }
   },
   "cell_type": "code",
   "source": [
    "utc_copasi = UtcCopasi(config={'model': {'model_source': omex_dir + '.omex'}})\n",
    "copasi_results = utc_copasi.update()"
   ],
   "id": "4582b8d2e0470b87",
   "execution_count": 6,
   "outputs": []
  },
  {
   "metadata": {
    "ExecuteTime": {
     "end_time": "2024-06-10T16:14:14.072194Z",
     "start_time": "2024-06-10T16:14:14.069255Z"
    }
   },
   "cell_type": "code",
   "source": "copasi_results['floating_species'][selected_species][:3], copasi_results['floating_species'][selected_species][-1]",
   "id": "c3c65ed3843d5261",
   "execution_count": 7,
   "outputs": []
  },
  {
   "metadata": {
    "ExecuteTime": {
     "end_time": "2024-06-10T16:14:14.238676Z",
     "start_time": "2024-06-10T16:14:14.072733Z"
    }
   },
   "cell_type": "code",
   "source": "utc_copasi.plot_results()",
   "id": "6c66cf243144c789",
   "execution_count": 8,
   "outputs": []
  },
  {
   "metadata": {
    "ExecuteTime": {
     "end_time": "2024-06-10T16:14:23.828851Z",
     "start_time": "2024-06-10T16:14:14.239221Z"
    }
   },
   "cell_type": "code",
   "source": [
    "utc_amici = UtcAmici(config={'model': {'model_source': omex_dir + '.omex'}})\n",
    "amici_results = utc_amici.update()"
   ],
   "id": "1813156c1436f480",
   "execution_count": 9,
   "outputs": []
  },
  {
   "metadata": {
    "ExecuteTime": {
     "end_time": "2024-06-10T16:14:23.832605Z",
     "start_time": "2024-06-10T16:14:23.829863Z"
    }
   },
   "cell_type": "code",
   "source": "tellurium_results['floating_species'][selected_species][:600][-1], tellurium_results['floating_species'][selected_species].shape",
   "id": "b0e6822a72c3f9bd",
   "execution_count": 10,
   "outputs": []
  },
  {
   "metadata": {
    "ExecuteTime": {
     "end_time": "2024-06-10T16:14:23.837365Z",
     "start_time": "2024-06-10T16:14:23.834932Z"
    }
   },
   "cell_type": "code",
   "source": "amici_results['floating_species'][selected_species][:600][-1], amici_results['floating_species'][selected_species].shape",
   "id": "ba0162ef11157a63",
   "execution_count": 11,
   "outputs": []
  },
  {
   "metadata": {
    "ExecuteTime": {
     "end_time": "2024-06-10T16:14:23.839961Z",
     "start_time": "2024-06-10T16:14:23.837998Z"
    }
   },
   "cell_type": "code",
   "source": "copasi_results['floating_species'][selected_species].shape",
   "id": "9a043fc84b7915ae",
   "execution_count": 12,
   "outputs": []
  },
  {
   "metadata": {
    "ExecuteTime": {
     "end_time": "2024-06-10T16:14:23.843898Z",
     "start_time": "2024-06-10T16:14:23.840669Z"
    }
   },
   "cell_type": "code",
   "source": [
    "from biosimulator_processes.api.compare import generate_comparison\n",
    "import numpy as np \n",
    "import seaborn as sns\n",
    "\n",
    "outputs = [\n",
    "    amici_results['floating_species'][selected_species][:600], \n",
    "    copasi_results['floating_species'][selected_species],\n",
    "    tellurium_results['floating_species'][selected_species][:600],\n",
    "]\n",
    "comparison = generate_comparison(\n",
    "    outputs=outputs,\n",
    "    simulators=['amici', 'copasi', 'tellurium'],\n",
    "    method='prox'\n",
    ")"
   ],
   "id": "3c23833e0fcbaab8",
   "execution_count": 13,
   "outputs": []
  },
  {
   "metadata": {
    "ExecuteTime": {
     "end_time": "2024-06-10T16:14:23.849133Z",
     "start_time": "2024-06-10T16:14:23.844424Z"
    }
   },
   "cell_type": "code",
   "source": "comparison.data",
   "id": "c728fdeca5d11d88",
   "execution_count": 14,
   "outputs": []
  },
  {
   "metadata": {
    "ExecuteTime": {
     "end_time": "2024-06-10T16:14:24.077154Z",
     "start_time": "2024-06-10T16:14:23.849716Z"
    }
   },
   "cell_type": "code",
   "source": [
    "d = dict(zip(\n",
    "    ['amici', 'copasi', 'tellurium'],\n",
    "    outputs\n",
    "))\n",
    "\n",
    "import matplotlib.pyplot as plt \n",
    "\n",
    "plt.figure(figsize=(20, 8))\n",
    "for sim, output in d.items():\n",
    "    sns.lineplot(x=amici_results['time'][:600], y=output, label=sim)\n",
    "plt.title(selected_species)"
   ],
   "id": "b1e5fcf6e49d5a7b",
   "execution_count": 15,
   "outputs": []
  },
  {
   "metadata": {
    "ExecuteTime": {
     "end_time": "2024-06-10T16:14:24.085456Z",
     "start_time": "2024-06-10T16:14:24.079522Z"
    }
   },
   "cell_type": "code",
   "source": "comparison.data",
   "id": "4ea9030e6c20e766",
   "execution_count": 16,
   "outputs": []
  },
  {
   "metadata": {
    "ExecuteTime": {
     "end_time": "2024-06-10T16:14:24.089175Z",
     "start_time": "2024-06-10T16:14:24.086769Z"
    }
   },
   "cell_type": "code",
   "source": "# TODO: run composite here",
   "id": "2d811981a8ff57a",
   "execution_count": 17,
   "outputs": []
  },
  {
   "metadata": {
    "ExecuteTime": {
     "end_time": "2024-06-10T16:14:24.094053Z",
     "start_time": "2024-06-10T16:14:24.090704Z"
    }
   },
   "cell_type": "code",
   "source": [
    "from process_bigraph import Composite\n",
    "\n",
    "\n",
    "utc_comparison_doc = {\n",
    "    'utc_tellurium': {\n",
    "        '_type': 'step',\n",
    "        'address': 'local:utc-tellurium',\n",
    "        'config': {\n",
    "            'model': {\n",
    "                'model_source': omex_dir + '.omex'\n",
    "            }\n",
    "        },\n",
    "        'inputs': {\n",
    "            'time': ['time_store'],\n",
    "            'floating_species': ['floating_species_store'],\n",
    "            'model_parameters': ['model_parameters_store'],\n",
    "            'reactions': ['reactions_store']\n",
    "        },\n",
    "        'outputs': {\n",
    "            'time': ['time_store'],\n",
    "            'floating_species': ['floating_species_store'],\n",
    "        }\n",
    "    }\n",
    "}"
   ],
   "id": "d29a56765334f8b9",
   "execution_count": 18,
   "outputs": []
  },
  {
   "metadata": {
    "ExecuteTime": {
     "end_time": "2024-06-10T16:14:24.119658Z",
     "start_time": "2024-06-10T16:14:24.095664Z"
    }
   },
   "cell_type": "code",
   "source": [
    "wf = Composite(\n",
    "    config={\n",
    "        'state': utc_comparison_doc,\n",
    "        'bridge': {\n",
    "            'time': ['time_store'],\n",
    "            'floating_species': ['floating_species_store']\n",
    "        }\n",
    "    },\n",
    "    core=CORE\n",
    ")"
   ],
   "id": "f0dfdce29379ce35",
   "execution_count": 19,
   "outputs": []
  },
  {
   "metadata": {
    "ExecuteTime": {
     "end_time": "2024-06-10T16:14:24.348067Z",
     "start_time": "2024-06-10T16:14:24.121362Z"
    }
   },
   "cell_type": "code",
   "source": "wf.run(1)",
   "id": "d697d03ac4a0bc44",
   "execution_count": 20,
   "outputs": []
  },
  {
   "metadata": {},
   "cell_type": "code",
   "source": "utc_tellurium.inputs()",
   "id": "d4ce0911e56215bb",
   "execution_count": null,
   "outputs": []
  },
  {
   "metadata": {
    "ExecuteTime": {
     "end_time": "2024-06-10T16:14:30.889444Z",
     "start_time": "2024-06-10T16:14:30.885252Z"
    }
   },
   "cell_type": "code",
   "source": "from biosimulator_processes.execute import exec_utc_comparison",
   "id": "f36959a5dcf83baa",
   "execution_count": 21,
   "outputs": []
  },
  {
   "metadata": {
    "ExecuteTime": {
     "end_time": "2024-06-10T16:14:39.487829Z",
     "start_time": "2024-06-10T16:14:31.306852Z"
    }
   },
   "cell_type": "code",
   "source": "comparison = exec_utc_comparison(omex_fp=omex_fp, simulators=['amici', 'copasi', 'tellurium'], comparison_id='repressilator-comparison')",
   "id": "ffb993c02fcdfe30",
   "execution_count": 22,
   "outputs": []
  },
  {
   "metadata": {
    "ExecuteTime": {
     "end_time": "2024-06-10T16:14:39.610989Z",
     "start_time": "2024-06-10T16:14:39.488825Z"
    }
   },
   "cell_type": "code",
   "source": "comparison",
   "id": "7f58e35cc450960a",
   "execution_count": 23,
   "outputs": []
  },
  {
   "metadata": {},
   "cell_type": "code",
   "source": "",
   "id": "efe0cbe726ba68bd",
   "execution_count": null,
   "outputs": []
  }
 ],
 "metadata": {
  "kernelspec": {
   "display_name": "Python 3",
   "language": "python",
   "name": "python3"
  },
  "language_info": {
   "codemirror_mode": {
    "name": "ipython",
    "version": 2
   },
   "file_extension": ".py",
   "mimetype": "text/x-python",
   "name": "python",
   "nbconvert_exporter": "python",
   "pygments_lexer": "ipython2",
   "version": "2.7.6"
  }
 },
 "nbformat": 4,
 "nbformat_minor": 5
}
