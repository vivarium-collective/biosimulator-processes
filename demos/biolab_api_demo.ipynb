{
 "cells": [
  {
   "cell_type": "markdown",
   "id": "8087f67dcdaefdee",
   "metadata": {
    "collapsed": false
   },
   "source": [
    "# BioLab API Demo (BioLab container)"
   ]
  },
  {
   "cell_type": "code",
   "execution_count": 1,
   "id": "c253d92e47737dd9",
   "metadata": {
    "collapsed": false,
    "ExecuteTime": {
     "end_time": "2024-05-01T18:23:49.375459Z",
     "start_time": "2024-05-01T18:23:49.229821Z"
    }
   },
   "source": [
    "# TODO: create sep repo and pypi for data model so that you can install it and import like `import sed_data as sed`"
   ],
   "outputs": []
  },
  {
   "cell_type": "code",
   "execution_count": 2,
   "id": "initial_id",
   "metadata": {
    "collapsed": true,
    "ExecuteTime": {
     "end_time": "2024-05-01T18:23:49.375680Z",
     "start_time": "2024-05-01T18:23:49.234219Z"
    }
   },
   "source": [
    "import sys\n",
    "import os\n",
    "\n",
    "sys.path.insert(0, '..')"
   ],
   "outputs": []
  },
  {
   "cell_type": "markdown",
   "id": "572ce5fd9c49efcb",
   "metadata": {
    "collapsed": false
   },
   "source": [
    "#### **_Experiment 1_**:  Here we cross a boundary in the stack that is a biological simulation. We go from model configuration, to experiment. Thus, this tooling sits at that level: both experiment specification AND experiment execution. It's not just a way to specify an experiment, but it is also a way to run it, given the many knobs and buttons that you can use predefine and customize the way the actual model is being solved. Our users are seeking to be involved in an experiment as a \"stack\". We should make a bigger distinction between terms like \"model\"."
   ]
  },
  {
   "cell_type": "code",
   "execution_count": 3,
   "id": "e3218a2629726818",
   "metadata": {
    "collapsed": false,
    "ExecuteTime": {
     "end_time": "2024-05-01T18:23:51.747571Z",
     "start_time": "2024-05-01T18:23:49.237895Z"
    }
   },
   "source": [
    "from process_bigraph import pp\n",
    "from biosimulator_processes.biosimulator_builder import BuildPrompter\n",
    "from biosimulator_processes.data_model.sed_data_model import SedDataModel as sed "
   ],
   "outputs": []
  },
  {
   "cell_type": "code",
   "execution_count": 4,
   "id": "871b58285775fb24",
   "metadata": {
    "collapsed": false,
    "ExecuteTime": {
     "end_time": "2024-05-01T18:23:52.256123Z",
     "start_time": "2024-05-01T18:23:51.745806Z"
    }
   },
   "source": [
    "# 1a. define a model for the process composition. In this case, just one model to be re-used as configuration for the processes we create:\n",
    "tumor_control_biomodel_id = 'BIOMD0000000749'\n",
    "simple_tc_model = sed.TimeCourseModel(model_source=tumor_control_biomodel_id)\n",
    "\n",
    "pp(simple_tc_model)"
   ],
   "outputs": []
  },
  {
   "cell_type": "code",
   "execution_count": 5,
   "id": "1519914d8b9a85ce",
   "metadata": {
    "collapsed": false,
    "ExecuteTime": {
     "end_time": "2024-05-01T18:23:52.257772Z",
     "start_time": "2024-05-01T18:23:52.254603Z"
    }
   },
   "source": [
    "# 1b. view model info for model source:\n",
    "\n",
    "pp(simple_tc_model.source_info)"
   ],
   "outputs": []
  },
  {
   "cell_type": "code",
   "execution_count": 6,
   "id": "a30f5e94167513c9",
   "metadata": {
    "collapsed": false,
    "ExecuteTime": {
     "end_time": "2024-05-01T18:23:52.266338Z",
     "start_time": "2024-05-01T18:23:52.258070Z"
    }
   },
   "source": [
    "# 1c. define a TimeCourse process instance using the above object as a parameter. The other parameter is method. See BasiCO documentation for more details on solvers\n",
    "\n",
    "simple_tc_process = sed.TimeCourseProcess(model=simple_tc_model, method='lsoda')"
   ],
   "outputs": []
  },
  {
   "cell_type": "code",
   "execution_count": 7,
   "id": "a9c15126dda87970",
   "metadata": {
    "collapsed": false,
    "ExecuteTime": {
     "end_time": "2024-05-01T18:23:52.266655Z",
     "start_time": "2024-05-01T18:23:52.261921Z"
    }
   },
   "source": [
    "# >> The process model instance is viewable as a dataclass...\n",
    "\n",
    "pp(simple_tc_process)"
   ],
   "outputs": []
  },
  {
   "cell_type": "code",
   "execution_count": 8,
   "id": "ba3d6e8bae50f216",
   "metadata": {
    "collapsed": false,
    "ExecuteTime": {
     "end_time": "2024-05-01T18:23:52.268987Z",
     "start_time": "2024-05-01T18:23:52.265517Z"
    }
   },
   "source": [
    "# >> ...or a dict:\n",
    "\n",
    "pp(simple_tc_process.to_dict())"
   ],
   "outputs": []
  },
  {
   "cell_type": "code",
   "execution_count": 9,
   "id": "f6d099ae829fb063",
   "metadata": {
    "collapsed": false,
    "ExecuteTime": {
     "end_time": "2024-05-01T18:23:52.319339Z",
     "start_time": "2024-05-01T18:23:52.269208Z"
    }
   },
   "source": [
    "# 2. instantiate the prompter:\n",
    "\n",
    "prompter = BuildPrompter()"
   ],
   "outputs": []
  },
  {
   "cell_type": "code",
   "execution_count": 10,
   "id": "6ff0228586348da1",
   "metadata": {
    "collapsed": false,
    "ExecuteTime": {
     "end_time": "2024-05-01T18:23:59.152054Z",
     "start_time": "2024-05-01T18:23:52.273445Z"
    }
   },
   "source": [
    "# 3. add process(es) to the bigraph with the Time Course model instance we created above. For now, just one process will be added.\n",
    "\n",
    "prompter.add_single_process(config=simple_tc_process)"
   ],
   "outputs": []
  },
  {
   "cell_type": "code",
   "execution_count": null,
   "id": "b833c7217603645c",
   "metadata": {
    "collapsed": false,
    "ExecuteTime": {
     "end_time": "2024-05-01T18:23:59.157229Z",
     "start_time": "2024-05-01T18:23:59.153391Z"
    }
   },
   "source": [
    "# 4. Inspect the builder instance within prompter:\n",
    "\n",
    "pp(prompter.builder_instance)"
   ],
   "outputs": []
  },
  {
   "cell_type": "code",
   "execution_count": null,
   "id": "8400f44e3a2e8433",
   "metadata": {
    "collapsed": false,
    "ExecuteTime": {
     "start_time": "2024-05-01T18:23:59.155333Z"
    }
   },
   "source": [
    "# 5. Visualize the fully-connected composition:\n",
    "\n",
    "prompter.visualize_bigraph()"
   ],
   "outputs": []
  },
  {
   "cell_type": "code",
   "execution_count": null,
   "id": "38052757b3b95baa",
   "metadata": {
    "collapsed": false,
    "ExecuteTime": {
     "start_time": "2024-05-01T18:23:59.156753Z"
    }
   },
   "source": [
    "# 6. Generate a composite engine and use to execute the bigraph that we just created:\n",
    "\n",
    "prompter.run()"
   ],
   "outputs": []
  },
  {
   "cell_type": "code",
   "execution_count": null,
   "id": "45ae5b121110cdce",
   "metadata": {
    "collapsed": false,
    "ExecuteTime": {
     "start_time": "2024-05-01T18:23:59.158776Z"
    }
   },
   "source": [
    "# 7. Clear the builder and start from scratch, writing it out first:\n",
    "\n",
    "prompter.flush(fp='simple_single_demo')"
   ],
   "outputs": []
  },
  {
   "cell_type": "code",
   "execution_count": null,
   "id": "79fbea4fa6708088",
   "metadata": {
    "collapsed": false,
    "ExecuteTime": {
     "start_time": "2024-05-01T18:23:59.160556Z"
    }
   },
   "source": [
    "prompter.builder_instance"
   ],
   "outputs": []
  },
  {
   "cell_type": "markdown",
   "id": "b65a6fab79ad097c",
   "metadata": {
    "collapsed": false
   },
   "source": [
    "#### **_Experiment 2_**: Load an SBML model from a specified model filepath and add Model changes to the composite before adding it to the bigraph. Here, we expect the user to be familiar enough with the model file they are passing to make individual species/parameter/reaction changes for specific species types. In the Caravagna model, for example, the species involved are T, E, I. Let's change the initial concentration for some of these as an example of model changes:"
   ]
  },
  {
   "cell_type": "code",
   "execution_count": null,
   "id": "89739e0302d6b89a",
   "metadata": {
    "collapsed": false,
    "ExecuteTime": {
     "start_time": "2024-05-01T18:23:59.162011Z"
    }
   },
   "source": [
    "caravagna_model_filepath = '../biosimulator_processes/model_files/Caravagna2010.xml'\n",
    "print(os.path.exists(caravagna_model_filepath))"
   ],
   "outputs": []
  },
  {
   "cell_type": "code",
   "execution_count": null,
   "id": "55e063c857e51f3",
   "metadata": {
    "collapsed": false,
    "ExecuteTime": {
     "start_time": "2024-05-01T18:23:59.163295Z"
    }
   },
   "source": [
    "# first make the timecourse model which is easily configured with objects related to model changes\n",
    "adjusted_tc_model_from_file = sed.TimeCourseModel(\n",
    "    model_source=caravagna_model_filepath, \n",
    "    model_changes=sed.TimeCourseModelChanges(\n",
    "        species_changes=sed.SpeciesChange(species_name='T', initial_concentration=0.234)\n",
    "    )\n",
    ")\n",
    "\n",
    "\n",
    "pp(adjusted_tc_model_from_file)"
   ],
   "outputs": []
  },
  {
   "cell_type": "code",
   "execution_count": null,
   "id": "c1ddec005282e13f",
   "metadata": {
    "collapsed": false,
    "ExecuteTime": {
     "start_time": "2024-05-01T18:23:59.164702Z"
    }
   },
   "source": [
    "adjusted_tc_process = sed.TimeCourseProcess(model=adjusted_tc_model_from_file, method='stochastic')\n",
    "\n",
    "pp(adjusted_tc_process)"
   ],
   "outputs": []
  },
  {
   "cell_type": "code",
   "execution_count": null,
   "id": "32b4be407a09f96",
   "metadata": {
    "collapsed": false,
    "ExecuteTime": {
     "start_time": "2024-05-01T18:23:59.165980Z"
    }
   },
   "source": [
    "# add the process we just created with the prompter. The prompter will create a new instance of builder for us, if not passed:\n",
    "\n",
    "prompter.add_single_process(config=adjusted_tc_process)"
   ],
   "outputs": []
  },
  {
   "cell_type": "code",
   "execution_count": null,
   "id": "d0121977a95c320c",
   "metadata": {
    "collapsed": false,
    "ExecuteTime": {
     "start_time": "2024-05-01T18:23:59.167039Z"
    }
   },
   "source": [
    "# visualize the adjusted creation\n",
    "\n",
    "prompter.visualize_bigraph()"
   ],
   "outputs": []
  },
  {
   "cell_type": "code",
   "execution_count": null,
   "id": "a6e83469c5b8b93d",
   "metadata": {
    "collapsed": false,
    "ExecuteTime": {
     "start_time": "2024-05-01T18:23:59.167933Z"
    }
   },
   "source": [
    "# view the builder document\n",
    "\n",
    "prompter.builder_instance.document()"
   ],
   "outputs": []
  },
  {
   "cell_type": "code",
   "execution_count": null,
   "id": "121064387d7729b0",
   "metadata": {
    "collapsed": false,
    "ExecuteTime": {
     "start_time": "2024-05-01T18:23:59.168771Z"
    }
   },
   "source": [
    "# run the composite\n",
    "\n",
    "prompter.run()"
   ],
   "outputs": []
  },
  {
   "cell_type": "code",
   "execution_count": null,
   "id": "6918be74a9a99f7d",
   "metadata": {
    "collapsed": false,
    "ExecuteTime": {
     "start_time": "2024-05-01T18:23:59.169791Z"
    }
   },
   "source": [
    "# stochastic works with Caravagna!!"
   ],
   "outputs": []
  },
  {
   "cell_type": "code",
   "execution_count": null,
   "id": "f160008fa3538b5",
   "metadata": {
    "collapsed": false,
    "ExecuteTime": {
     "start_time": "2024-05-01T18:23:59.170806Z"
    }
   },
   "source": [],
   "outputs": []
  }
 ],
 "metadata": {
  "kernelspec": {
   "display_name": "Python 3",
   "language": "python",
   "name": "python3"
  },
  "language_info": {
   "codemirror_mode": {
    "name": "ipython",
    "version": 2
   },
   "file_extension": ".py",
   "mimetype": "text/x-python",
   "name": "python",
   "nbconvert_exporter": "python",
   "pygments_lexer": "ipython2",
   "version": "2.7.6"
  }
 },
 "nbformat": 4,
 "nbformat_minor": 5
}
