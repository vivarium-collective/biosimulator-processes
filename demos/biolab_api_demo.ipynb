{
 "cells": [
  {
   "cell_type": "markdown",
   "id": "8087f67dcdaefdee",
   "metadata": {
    "collapsed": false
   },
   "source": [
    "# BioLab API Demo (BioLab container)"
   ]
  },
  {
   "cell_type": "code",
   "execution_count": 1,
   "id": "c253d92e47737dd9",
   "metadata": {
    "collapsed": false,
    "ExecuteTime": {
     "end_time": "2024-05-01T18:23:49.375459Z",
     "start_time": "2024-05-01T18:23:49.229821Z"
    }
   },
   "outputs": [],
   "source": [
    "# TODO: create sep repo and pypi for data model so that you can install it and import like `import sed_data as sed`"
   ]
  },
  {
   "cell_type": "code",
   "execution_count": 2,
   "id": "initial_id",
   "metadata": {
    "collapsed": true,
    "ExecuteTime": {
     "end_time": "2024-05-01T18:23:49.375680Z",
     "start_time": "2024-05-01T18:23:49.234219Z"
    }
   },
   "outputs": [],
   "source": [
    "import sys\n",
    "import os\n",
    "\n",
    "sys.path.insert(0, '..')"
   ]
  },
  {
   "cell_type": "markdown",
   "id": "572ce5fd9c49efcb",
   "metadata": {
    "collapsed": false
   },
   "source": [
    "#### **_Experiment 1_**:  Here we cross a boundary in the stack that is a biological simulation. We go from model configuration, to experiment. Thus, this tooling sits at that level: both experiment specification AND experiment execution. It's not just a way to specify an experiment, but it is also a way to run it, given the many knobs and buttons that you can use predefine and customize the way the actual model is being solved. Our users are seeking to be involved in an experiment as a \"stack\". We should make a bigger distinction between terms like \"model\"."
   ]
  },
  {
   "cell_type": "code",
   "execution_count": 3,
   "id": "e3218a2629726818",
   "metadata": {
    "collapsed": false,
    "ExecuteTime": {
     "end_time": "2024-05-01T18:23:51.747571Z",
     "start_time": "2024-05-01T18:23:49.237895Z"
    }
   },
   "outputs": [
    {
     "name": "stdout",
     "output_type": "stream",
     "text": [
      "CobraProcess registered successfully.\n",
      "CopasiProcess registered successfully.\n",
      "SmoldynProcess not available. Error: \n",
      "PLEASE NOTE: Smoldyn is not correctly installed on your system which prevents you from using the SmoldynProcess. Please refer to the README for further information on installing Smoldyn.\n",
      "TelluriumProcess registered successfully.\n"
     ]
    }
   ],
   "source": [
    "from process_bigraph import pp\n",
    "from biosimulator_processes.biosimulator_builder import BuildPrompter\n",
    "from biosimulator_processes.data_model.sed_data_model import SedDataModel as sed "
   ]
  },
  {
   "cell_type": "code",
   "execution_count": 4,
   "id": "871b58285775fb24",
   "metadata": {
    "collapsed": false,
    "ExecuteTime": {
     "end_time": "2024-05-01T18:23:52.256123Z",
     "start_time": "2024-05-01T18:23:51.745806Z"
    }
   },
   "outputs": [
    {
     "name": "stdout",
     "output_type": "stream",
     "text": [
      "TimeCourseModel(model_source='BIOMD0000000749',\n",
      "                model_id='model_from_BIOMD0000000749',\n",
      "                model_name='model_from_BIOMD0000000749',\n",
      "                model_language=(None,),\n",
      "                model_changes=None,\n",
      "                model_units=None)\n"
     ]
    }
   ],
   "source": [
    "# 1a. define a model for the process composition. In this case, just one model to be re-used as configuration for the processes we create:\n",
    "tumor_control_biomodel_id = 'BIOMD0000000749'\n",
    "simple_tc_model = sed.TimeCourseModel(model_source=tumor_control_biomodel_id)\n",
    "\n",
    "pp(simple_tc_model)"
   ]
  },
  {
   "cell_type": "code",
   "execution_count": 5,
   "id": "1519914d8b9a85ce",
   "metadata": {
    "collapsed": false,
    "ExecuteTime": {
     "end_time": "2024-05-01T18:23:52.257772Z",
     "start_time": "2024-05-01T18:23:52.254603Z"
    }
   },
   "outputs": [
    {
     "name": "stdout",
     "output_type": "stream",
     "text": [
      "{ 'description': 'The paper describes a model of tumor control via alternating '\n",
      "                 'immunostimulating and immunosuppressive phases. \\r\\n'\n",
      "                 'Created by COPASI 4.25 (Build 207) \\r\\n'\n",
      "                 '\\r\\n'\n",
      "                 'This model is described in the article: \\r\\n'\n",
      "                 'In silico tumor control induced via alternating '\n",
      "                 'immunostimulating and immunosuppressive phases\\r\\n'\n",
      "                 'AI Reppas, JCL Alfonso, and H Hatzikirou\\r\\n'\n",
      "                 'Virulence 7:2, 174--186\\r\\n'\n",
      "                 '\\r\\n'\n",
      "                 'Abstract: \\r\\n'\n",
      "                 'Despite recent advances in the field of Oncoimmunology, the '\n",
      "                 'success potential of immunomodulatory therapies against '\n",
      "                 'cancer remains to be elucidated. One of the reasons is the '\n",
      "                 'lack of understanding on the complex interplay between tumor '\n",
      "                 'growth dynamics and the associated immune system responses. '\n",
      "                 'Toward this goal, we consider a mathematical model of '\n",
      "                 'vascularized tumor growth and the corresponding effector '\n",
      "                 'cell recruitment dynamics. Bifurcation analysis allows for '\n",
      "                 'the exploration of model’s dynamic behavior and the '\n",
      "                 'determination of these parameter regimes that result in '\n",
      "                 'immune-mediated tumor control. In this work, we focus on a '\n",
      "                 'particular tumor evasion regime that involves tumor and '\n",
      "                 'effector cell concentration oscillations of slowly '\n",
      "                 'increasing and decreasing amplitude, respectively. '\n",
      "                 'Considering a temporal multiscale analysis, we derive an '\n",
      "                 'analytically tractable mapping of model solutions onto a '\n",
      "                 'weakly negatively damped harmonic oscillator. Based on our '\n",
      "                 'analysis, we propose a theory-driven intervention strategy '\n",
      "                 'involving immunostimulating and immunosuppressive phases to '\n",
      "                 'induce long-term tumor control.\\r\\n'\n",
      "                 '\\r\\n'\n",
      "                 'To cite BioModels Database, please use: BioModels Database: '\n",
      "                 'An enhanced, curated and annotated resource for published '\n",
      "                 'quantitative kinetic models . \\r\\n'\n",
      "                 'To the extent possible under law, all copyright and related '\n",
      "                 'or neighbouring rights to this encoded model have been '\n",
      "                 'dedicated to the public domain worldwide. \\r\\n'\n",
      "                 'Please refer to CC0 Public Domain Dedication for more '\n",
      "                 'information.',\n",
      "  'files': { 'additional': [ { 'description': 'Auto-generated SEDML file',\n",
      "                               'fileSize': '2191',\n",
      "                               'name': 'Reppas2015.sedml'},\n",
      "                             { 'description': 'CPS file of the model in COPASI',\n",
      "                               'fileSize': '81326',\n",
      "                               'name': 'Reppas2015.cps'}],\n",
      "             'main': [{'fileSize': '62675', 'name': 'Reppas2015.xml'}]},\n",
      "  'firstPublished': 1562858819000,\n",
      "  'format': {'name': 'SBML', 'version': 'L3V1'},\n",
      "  'history': { 'revisions': [ { 'comment': 'Edited model metadata online.',\n",
      "                                'submitted': 1562858737000,\n",
      "                                'submitter': 'Jinghao Men',\n",
      "                                'version': 2},\n",
      "                              { 'comment': 'Automatically added model '\n",
      "                                           'identifier BIOMD0000000749',\n",
      "                                'submitted': 1562858822000,\n",
      "                                'submitter': 'Jinghao Men',\n",
      "                                'version': 3}]},\n",
      "  'name': 'Reppas2015 - tumor control via alternating immunostimulating and '\n",
      "          'immunosuppressive phases',\n",
      "  'publication': { 'affiliation': 'a Center for Advancing Electronics; '\n",
      "                                  'Technische Universität Dresden ; Dresden , '\n",
      "                                  'Germany.',\n",
      "                   'authors': [ {'name': 'Reppas AI'},\n",
      "                                {'name': 'Alfonso JC'},\n",
      "                                { 'name': 'Hatzikirou H',\n",
      "                                  'orcid': '0000-0002-1270-7885'}],\n",
      "                   'issue': '2',\n",
      "                   'journal': 'Virulence',\n",
      "                   'link': 'http://identifiers.org/pubmed/26305801',\n",
      "                   'month': '1',\n",
      "                   'pages': '174-186',\n",
      "                   'synopsis': 'Despite recent advances in the field of '\n",
      "                               'Oncoimmunology, the success potential of '\n",
      "                               'immunomodulatory therapies against cancer '\n",
      "                               'remains to be elucidated. One of the reasons '\n",
      "                               'is the lack of understanding on the complex '\n",
      "                               'interplay between tumor growth dynamics and '\n",
      "                               'the associated immune system responses. Toward '\n",
      "                               'this goal, we consider a mathematical model of '\n",
      "                               'vascularized tumor growth and the '\n",
      "                               'corresponding effector cell recruitment '\n",
      "                               'dynamics. Bifurcation analysis allows for the '\n",
      "                               \"exploration of model's dynamic behavior and \"\n",
      "                               'the determination of these parameter regimes '\n",
      "                               'that result in immune-mediated tumor control. '\n",
      "                               'In this work, we focus on a particular tumor '\n",
      "                               'evasion regime that involves tumor and '\n",
      "                               'effector cell concentration oscillations of '\n",
      "                               'slowly increasing and decreasing amplitude, '\n",
      "                               'respectively. Considering a temporal '\n",
      "                               'multiscale analysis, we derive an analytically '\n",
      "                               'tractable mapping of model solutions onto a '\n",
      "                               'weakly negatively damped harmonic oscillator. '\n",
      "                               'Based on our analysis, we propose a '\n",
      "                               'theory-driven intervention strategy involving '\n",
      "                               'immunostimulating and immunosuppressive phases '\n",
      "                               'to induce long-term tumor control.',\n",
      "                   'title': 'In silico tumor control induced via alternating '\n",
      "                            'immunostimulating and immunosuppressive phases.',\n",
      "                   'volume': '7',\n",
      "                   'year': 2016},\n",
      "  'publicationId': 'BIOMD0000000749',\n",
      "  'submissionId': 'MODEL1907110002'}\n"
     ]
    }
   ],
   "source": [
    "# 1b. view model info for model source:\n",
    "\n",
    "pp(simple_tc_model.source_info)"
   ]
  },
  {
   "cell_type": "code",
   "execution_count": 6,
   "id": "a30f5e94167513c9",
   "metadata": {
    "collapsed": false,
    "ExecuteTime": {
     "end_time": "2024-05-01T18:23:52.266338Z",
     "start_time": "2024-05-01T18:23:52.258070Z"
    }
   },
   "outputs": [],
   "source": [
    "# 1c. define a TimeCourse process instance using the above object as a parameter. The other parameter is method. See BasiCO documentation for more details on solvers\n",
    "\n",
    "simple_tc_process = sed.TimeCourseProcess(model=simple_tc_model, method='lsoda')"
   ]
  },
  {
   "cell_type": "code",
   "execution_count": 7,
   "id": "a9c15126dda87970",
   "metadata": {
    "collapsed": false,
    "ExecuteTime": {
     "end_time": "2024-05-01T18:23:52.266655Z",
     "start_time": "2024-05-01T18:23:52.261921Z"
    }
   },
   "outputs": [
    {
     "name": "stdout",
     "output_type": "stream",
     "text": [
      "TimeCourseProcess(model=TimeCourseModel(model_source='BIOMD0000000749',\n",
      "                                        model_id='model_from_BIOMD0000000749',\n",
      "                                        model_name='model_from_BIOMD0000000749',\n",
      "                                        model_language=(None,),\n",
      "                                        model_changes=None,\n",
      "                                        model_units=None),\n",
      "                  method='lsoda',\n",
      "                  model_language='sbml')\n"
     ]
    }
   ],
   "source": [
    "# >> The process model instance is viewable as a dataclass...\n",
    "\n",
    "pp(simple_tc_process)"
   ]
  },
  {
   "cell_type": "code",
   "execution_count": 8,
   "id": "ba3d6e8bae50f216",
   "metadata": {
    "collapsed": false,
    "ExecuteTime": {
     "end_time": "2024-05-01T18:23:52.268987Z",
     "start_time": "2024-05-01T18:23:52.265517Z"
    }
   },
   "outputs": [
    {
     "name": "stdout",
     "output_type": "stream",
     "text": [
      "{ 'method': 'lsoda',\n",
      "  'model': { 'model_changes': None,\n",
      "             'model_id': 'model_from_BIOMD0000000749',\n",
      "             'model_language': (None,),\n",
      "             'model_name': 'model_from_BIOMD0000000749',\n",
      "             'model_source': 'BIOMD0000000749',\n",
      "             'model_units': None},\n",
      "  'model_language': 'sbml'}\n"
     ]
    }
   ],
   "source": [
    "# >> ...or a dict:\n",
    "\n",
    "pp(simple_tc_process.to_dict())"
   ]
  },
  {
   "cell_type": "code",
   "execution_count": 9,
   "id": "f6d099ae829fb063",
   "metadata": {
    "collapsed": false,
    "ExecuteTime": {
     "end_time": "2024-05-01T18:23:52.319339Z",
     "start_time": "2024-05-01T18:23:52.269208Z"
    }
   },
   "outputs": [],
   "source": [
    "# 2. instantiate the prompter:\n",
    "\n",
    "prompter = BuildPrompter()"
   ]
  },
  {
   "cell_type": "code",
   "execution_count": 10,
   "id": "6ff0228586348da1",
   "metadata": {
    "collapsed": false,
    "ExecuteTime": {
     "end_time": "2024-05-01T18:23:59.152054Z",
     "start_time": "2024-05-01T18:23:52.273445Z"
    }
   },
   "outputs": [
    {
     "ename": "AttributeError",
     "evalue": "'BiosimulatorBuilder' object has no attribute 'get_pydantic_model'",
     "output_type": "error",
     "traceback": [
      "\u001B[0;31m---------------------------------------------------------------------------\u001B[0m",
      "\u001B[0;31mAttributeError\u001B[0m                            Traceback (most recent call last)",
      "Cell \u001B[0;32mIn[10], line 3\u001B[0m\n\u001B[1;32m      1\u001B[0m \u001B[38;5;66;03m# 3. add process(es) to the bigraph with the Time Course model instance we created above. For now, just one process will be added.\u001B[39;00m\n\u001B[0;32m----> 3\u001B[0m \u001B[43mprompter\u001B[49m\u001B[38;5;241;43m.\u001B[39;49m\u001B[43madd_single_process\u001B[49m\u001B[43m(\u001B[49m\u001B[43mconfig\u001B[49m\u001B[38;5;241;43m=\u001B[39;49m\u001B[43msimple_tc_process\u001B[49m\u001B[43m)\u001B[49m\n",
      "File \u001B[0;32m~/Desktop/uchc_work/repos/biosimulator-processes/notebooks/../biosimulator_processes/biosimulator_builder.py:78\u001B[0m, in \u001B[0;36mBuildPrompter.add_single_process\u001B[0;34m(self, builder, process_type, config, builder_node_name)\u001B[0m\n\u001B[1;32m     75\u001B[0m     builder_node_name \u001B[38;5;241m=\u001B[39m \u001B[38;5;28minput\u001B[39m(\u001B[38;5;124m'\u001B[39m\u001B[38;5;124mPlease enter the name that you wish to assign to this process: \u001B[39m\u001B[38;5;124m'\u001B[39m)\n\u001B[1;32m     77\u001B[0m \u001B[38;5;66;03m# generate input data from user prompt results and add processes to the bigraph  through pydantic model\u001B[39;00m\n\u001B[0;32m---> 78\u001B[0m DynamicProcessConfig \u001B[38;5;241m=\u001B[39m \u001B[38;5;28;43mself\u001B[39;49m\u001B[38;5;241;43m.\u001B[39;49m\u001B[43mbuilder_instance\u001B[49m\u001B[38;5;241;43m.\u001B[39;49m\u001B[43mget_pydantic_model\u001B[49m(process_type)\n\u001B[1;32m     80\u001B[0m input_kwargs \u001B[38;5;241m=\u001B[39m \u001B[38;5;28mself\u001B[39m\u001B[38;5;241m.\u001B[39mgenerate_input_kwargs() \u001B[38;5;28;01mif\u001B[39;00m config \u001B[38;5;129;01mis\u001B[39;00m \u001B[38;5;28;01mNone\u001B[39;00m \u001B[38;5;28;01melse\u001B[39;00m config\u001B[38;5;241m.\u001B[39mto_dict()\n\u001B[1;32m     81\u001B[0m dynamic_config \u001B[38;5;241m=\u001B[39m DynamicProcessConfig(\u001B[38;5;241m*\u001B[39m\u001B[38;5;241m*\u001B[39minput_kwargs)\n",
      "\u001B[0;31mAttributeError\u001B[0m: 'BiosimulatorBuilder' object has no attribute 'get_pydantic_model'"
     ]
    }
   ],
   "source": [
    "# 3. add process(es) to the bigraph with the Time Course model instance we created above. For now, just one process will be added.\n",
    "\n",
    "prompter.add_single_process(config=simple_tc_process)"
   ]
  },
  {
   "cell_type": "code",
   "execution_count": null,
   "id": "b833c7217603645c",
   "metadata": {
    "collapsed": false,
    "ExecuteTime": {
     "end_time": "2024-05-01T18:23:59.157229Z",
     "start_time": "2024-05-01T18:23:59.153391Z"
    }
   },
   "outputs": [],
   "source": [
    "# 4. Inspect the builder instance within prompter:\n",
    "\n",
    "pp(prompter.builder_instance)"
   ]
  },
  {
   "cell_type": "code",
   "execution_count": null,
   "id": "8400f44e3a2e8433",
   "metadata": {
    "collapsed": false,
    "ExecuteTime": {
     "start_time": "2024-05-01T18:23:59.155333Z"
    }
   },
   "outputs": [],
   "source": [
    "# 5. Visualize the fully-connected composition:\n",
    "\n",
    "prompter.visualize_bigraph()"
   ]
  },
  {
   "cell_type": "code",
   "execution_count": null,
   "id": "38052757b3b95baa",
   "metadata": {
    "collapsed": false,
    "ExecuteTime": {
     "start_time": "2024-05-01T18:23:59.156753Z"
    }
   },
   "outputs": [],
   "source": [
    "# 6. Generate a composite engine and use to execute the bigraph that we just created:\n",
    "\n",
    "prompter.run()"
   ]
  },
  {
   "cell_type": "code",
   "execution_count": null,
   "id": "45ae5b121110cdce",
   "metadata": {
    "collapsed": false,
    "ExecuteTime": {
     "start_time": "2024-05-01T18:23:59.158776Z"
    }
   },
   "outputs": [],
   "source": [
    "# 7. Clear the builder and start from scratch, writing it out first:\n",
    "\n",
    "prompter.flush(fp='simple_single_demo')"
   ]
  },
  {
   "cell_type": "code",
   "execution_count": null,
   "id": "79fbea4fa6708088",
   "metadata": {
    "collapsed": false,
    "ExecuteTime": {
     "start_time": "2024-05-01T18:23:59.160556Z"
    }
   },
   "outputs": [],
   "source": [
    "prompter.builder_instance"
   ]
  },
  {
   "cell_type": "markdown",
   "id": "b65a6fab79ad097c",
   "metadata": {
    "collapsed": false
   },
   "source": [
    "#### **_Experiment 2_**: Load an SBML model from a specified model filepath and add Model changes to the composite before adding it to the bigraph. Here, we expect the user to be familiar enough with the model file they are passing to make individual species/parameter/reaction changes for specific species types. In the Caravagna model, for example, the species involved are T, E, I. Let's change the initial concentration for some of these as an example of model changes:"
   ]
  },
  {
   "cell_type": "code",
   "execution_count": null,
   "id": "89739e0302d6b89a",
   "metadata": {
    "collapsed": false,
    "ExecuteTime": {
     "start_time": "2024-05-01T18:23:59.162011Z"
    }
   },
   "outputs": [],
   "source": [
    "caravagna_model_filepath = '../biosimulator_processes/model_files/Caravagna2010.xml'\n",
    "print(os.path.exists(caravagna_model_filepath))"
   ]
  },
  {
   "cell_type": "code",
   "execution_count": null,
   "id": "55e063c857e51f3",
   "metadata": {
    "collapsed": false,
    "ExecuteTime": {
     "start_time": "2024-05-01T18:23:59.163295Z"
    }
   },
   "outputs": [],
   "source": [
    "# first make the timecourse model which is easily configured with objects related to model changes\n",
    "adjusted_tc_model_from_file = sed.TimeCourseModel(\n",
    "    model_source=caravagna_model_filepath, \n",
    "    model_changes=sed.TimeCourseModelChanges(\n",
    "        species_changes=sed.SpeciesChange(species_name='T', initial_concentration=0.234)\n",
    "    )\n",
    ")\n",
    "\n",
    "\n",
    "pp(adjusted_tc_model_from_file)"
   ]
  },
  {
   "cell_type": "code",
   "execution_count": null,
   "id": "c1ddec005282e13f",
   "metadata": {
    "collapsed": false,
    "ExecuteTime": {
     "start_time": "2024-05-01T18:23:59.164702Z"
    }
   },
   "outputs": [],
   "source": [
    "adjusted_tc_process = sed.TimeCourseProcess(model=adjusted_tc_model_from_file, method='stochastic')\n",
    "\n",
    "pp(adjusted_tc_process)"
   ]
  },
  {
   "cell_type": "code",
   "execution_count": null,
   "id": "32b4be407a09f96",
   "metadata": {
    "collapsed": false,
    "ExecuteTime": {
     "start_time": "2024-05-01T18:23:59.165980Z"
    }
   },
   "outputs": [],
   "source": [
    "# add the process we just created with the prompter. The prompter will create a new instance of builder for us, if not passed:\n",
    "\n",
    "prompter.add_single_process(config=adjusted_tc_process)"
   ]
  },
  {
   "cell_type": "code",
   "execution_count": null,
   "id": "d0121977a95c320c",
   "metadata": {
    "collapsed": false,
    "ExecuteTime": {
     "start_time": "2024-05-01T18:23:59.167039Z"
    }
   },
   "outputs": [],
   "source": [
    "# visualize the adjusted creation\n",
    "\n",
    "prompter.visualize_bigraph()"
   ]
  },
  {
   "cell_type": "code",
   "execution_count": null,
   "id": "a6e83469c5b8b93d",
   "metadata": {
    "collapsed": false,
    "ExecuteTime": {
     "start_time": "2024-05-01T18:23:59.167933Z"
    }
   },
   "outputs": [],
   "source": [
    "# view the builder document\n",
    "\n",
    "prompter.builder_instance.document()"
   ]
  },
  {
   "cell_type": "code",
   "execution_count": null,
   "id": "121064387d7729b0",
   "metadata": {
    "collapsed": false,
    "ExecuteTime": {
     "start_time": "2024-05-01T18:23:59.168771Z"
    }
   },
   "outputs": [],
   "source": [
    "# run the composite\n",
    "\n",
    "prompter.run()"
   ]
  },
  {
   "cell_type": "code",
   "execution_count": null,
   "id": "6918be74a9a99f7d",
   "metadata": {
    "collapsed": false,
    "ExecuteTime": {
     "start_time": "2024-05-01T18:23:59.169791Z"
    }
   },
   "outputs": [],
   "source": [
    "# stochastic works with Caravagna!!"
   ]
  },
  {
   "cell_type": "code",
   "execution_count": null,
   "id": "f160008fa3538b5",
   "metadata": {
    "collapsed": false,
    "ExecuteTime": {
     "start_time": "2024-05-01T18:23:59.170806Z"
    }
   },
   "outputs": [],
   "source": []
  }
 ],
 "metadata": {
  "kernelspec": {
   "display_name": "Python 3",
   "language": "python",
   "name": "python3"
  },
  "language_info": {
   "codemirror_mode": {
    "name": "ipython",
    "version": 2
   },
   "file_extension": ".py",
   "mimetype": "text/x-python",
   "name": "python",
   "nbconvert_exporter": "python",
   "pygments_lexer": "ipython2",
   "version": "2.7.6"
  }
 },
 "nbformat": 4,
 "nbformat_minor": 5
}
