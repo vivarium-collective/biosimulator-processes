{
 "cells": [
  {
   "cell_type": "code",
   "id": "initial_id",
   "metadata": {
    "collapsed": true,
    "ExecuteTime": {
     "end_time": "2024-06-16T16:57:30.792537Z",
     "start_time": "2024-06-16T16:57:27.120526Z"
    }
   },
   "source": [
    "\n",
    "import sys\n",
    "import os\n",
    "\n",
    "sys.path.insert(0, '..')\n",
    "\n",
    "from process_bigraph import Composite\n",
    "from biosimulator_processes import CORE\n",
    "from biosimulator_processes.helpers import prepare_single_ode_process_document\n",
    "\n",
    "\n",
    "omex_dir = '../test_suite/examples/sbml-core/Elowitz-Nature-2000-Repressilator'\n",
    "omex_fp = omex_dir + '.omex'\n",
    "sbml_fp = os.path.join(omex_dir, 'BIOMD0000000012_url.xml')\n",
    "sedml_fp = os.path.join(omex_dir, 'simulation.sedml')\n",
    "reports_path = os.path.join(omex_dir, 'reports.h5')\n",
    "simulators = ['amici', 'copasi', 'tellurium']"
   ],
   "execution_count": 1,
   "outputs": []
  },
  {
   "metadata": {
    "ExecuteTime": {
     "end_time": "2024-06-16T16:57:30.795011Z",
     "start_time": "2024-06-16T16:57:30.793414Z"
    }
   },
   "cell_type": "code",
   "source": [
    "tellurium_instance = prepare_single_ode_process_document(\n",
    "    process_id='tellurium_0', \n",
    "    simulator_address_name='tellurium-process', \n",
    "    sbml_model_fp=sbml_fp)"
   ],
   "id": "eeef4a23d6b5004e",
   "execution_count": 2,
   "outputs": []
  },
  {
   "metadata": {
    "ExecuteTime": {
     "end_time": "2024-06-16T16:57:30.796782Z",
     "start_time": "2024-06-16T16:57:30.795511Z"
    }
   },
   "cell_type": "code",
   "source": [
    "copasi_instance = prepare_single_ode_process_document(\n",
    "    process_id='copasi_1', \n",
    "    simulator_address_name='copasi-process', \n",
    "    sbml_model_fp=sbml_fp)"
   ],
   "id": "1ab59edf3e6402ea",
   "execution_count": 3,
   "outputs": []
  },
  {
   "metadata": {
    "ExecuteTime": {
     "end_time": "2024-06-16T16:57:30.800489Z",
     "start_time": "2024-06-16T16:57:30.797788Z"
    }
   },
   "cell_type": "code",
   "source": "copasi_instance",
   "id": "36c4b8cf9fd49cc9",
   "execution_count": 4,
   "outputs": []
  },
  {
   "metadata": {
    "ExecuteTime": {
     "end_time": "2024-06-16T16:57:30.803105Z",
     "start_time": "2024-06-16T16:57:30.801110Z"
    }
   },
   "cell_type": "code",
   "source": "tellurium_instance",
   "id": "565339a47852b6a1",
   "execution_count": 5,
   "outputs": []
  },
  {
   "metadata": {
    "ExecuteTime": {
     "end_time": "2024-06-16T16:57:30.804754Z",
     "start_time": "2024-06-16T16:57:30.803576Z"
    }
   },
   "cell_type": "code",
   "source": "",
   "id": "b71ca4502112a31a",
   "execution_count": 5,
   "outputs": []
  },
  {
   "metadata": {
    "ExecuteTime": {
     "end_time": "2024-06-16T16:57:30.806577Z",
     "start_time": "2024-06-16T16:57:30.805168Z"
    }
   },
   "cell_type": "code",
   "source": "doc = {**copasi_instance, **tellurium_instance}",
   "id": "82c519ca7d167552",
   "execution_count": 6,
   "outputs": []
  },
  {
   "metadata": {
    "ExecuteTime": {
     "end_time": "2024-06-16T16:57:30.808362Z",
     "start_time": "2024-06-16T16:57:30.806998Z"
    }
   },
   "cell_type": "code",
   "source": [
    "doc['emitter']['inputs']['copasi_floating_species_concentrations'] = ['copasi_1_floating_species_concentrations_store']\n",
    "doc['emitter']['config']['emit']['copasi_floating_species_concentrations'] = 'tree[float]'"
   ],
   "id": "3164e34a887a3926",
   "execution_count": 7,
   "outputs": []
  },
  {
   "metadata": {
    "ExecuteTime": {
     "end_time": "2024-06-16T16:57:30.810837Z",
     "start_time": "2024-06-16T16:57:30.808846Z"
    }
   },
   "cell_type": "code",
   "source": "doc",
   "id": "d202859b272b87bd",
   "execution_count": 8,
   "outputs": []
  },
  {
   "metadata": {
    "ExecuteTime": {
     "end_time": "2024-06-16T16:57:30.909419Z",
     "start_time": "2024-06-16T16:57:30.812865Z"
    }
   },
   "cell_type": "code",
   "source": "composite = Composite(config={'state': doc}, core=CORE)",
   "id": "2cd3b5d93b1126c0",
   "execution_count": 9,
   "outputs": []
  },
  {
   "metadata": {
    "ExecuteTime": {
     "end_time": "2024-06-16T16:57:31.014291Z",
     "start_time": "2024-06-16T16:57:30.909957Z"
    }
   },
   "cell_type": "code",
   "source": [
    "for n in range(10):\n",
    "    composite.run(n)"
   ],
   "id": "7d971e33bd7330ec",
   "execution_count": 10,
   "outputs": []
  },
  {
   "metadata": {
    "ExecuteTime": {
     "end_time": "2024-06-16T16:57:31.073120Z",
     "start_time": "2024-06-16T16:57:31.014913Z"
    }
   },
   "cell_type": "code",
   "source": [
    "composite1 = Composite(config={'state': doc}, core=CORE)\n",
    "composite1.run(10)\n"
   ],
   "id": "7176378768216fa",
   "execution_count": 11,
   "outputs": []
  },
  {
   "metadata": {
    "ExecuteTime": {
     "end_time": "2024-06-16T16:57:31.075967Z",
     "start_time": "2024-06-16T16:57:31.073895Z"
    }
   },
   "cell_type": "code",
   "source": "len(composite1.gather_results().values())",
   "id": "b20ef48e0514ee58",
   "execution_count": 12,
   "outputs": []
  },
  {
   "metadata": {
    "ExecuteTime": {
     "end_time": "2024-06-16T16:57:31.077879Z",
     "start_time": "2024-06-16T16:57:31.076483Z"
    }
   },
   "cell_type": "code",
   "source": "results = composite.gather_results()",
   "id": "afba42adc54fd904",
   "execution_count": 13,
   "outputs": []
  },
  {
   "metadata": {
    "ExecuteTime": {
     "end_time": "2024-06-16T16:57:31.083656Z",
     "start_time": "2024-06-16T16:57:31.078467Z"
    }
   },
   "cell_type": "code",
   "source": "results",
   "id": "191b7b53676c6c2a",
   "execution_count": 14,
   "outputs": []
  },
  {
   "metadata": {
    "ExecuteTime": {
     "end_time": "2024-06-16T16:57:31.085691Z",
     "start_time": "2024-06-16T16:57:31.084242Z"
    }
   },
   "cell_type": "code",
   "source": "from process_bigraph.experiments.parameter_scan import RunProcess",
   "id": "4bd375d09d6501ab",
   "execution_count": 15,
   "outputs": []
  },
  {
   "metadata": {
    "ExecuteTime": {
     "end_time": "2024-06-16T16:57:31.087251Z",
     "start_time": "2024-06-16T16:57:31.086117Z"
    }
   },
   "cell_type": "code",
   "source": "",
   "id": "48a9473d1d15e4de",
   "execution_count": 15,
   "outputs": []
  },
  {
   "metadata": {
    "ExecuteTime": {
     "end_time": "2024-06-16T16:57:31.212759Z",
     "start_time": "2024-06-16T16:57:31.087741Z"
    }
   },
   "cell_type": "code",
   "source": "tellurium_step.update({})",
   "id": "620ad213d2d8b454",
   "execution_count": 16,
   "outputs": []
  },
  {
   "metadata": {
    "ExecuteTime": {
     "end_time": "2024-06-16T16:57:31.214170Z",
     "start_time": "2024-06-16T16:57:31.214101Z"
    }
   },
   "cell_type": "code",
   "source": [
    "import tellurium as te \n",
    "\n",
    "model = \"\"\"\n",
    "model FitzHugh_Nagumo_ReactionNetwork\n",
    "  // Compartments and Species\n",
    "  compartment cell = 1;\n",
    "  species V in cell, W in cell;\n",
    "\n",
    "  // Parameters\n",
    "  const I = 0.5;  // External input current\n",
    "  const a = 0.7;  // Parameter a\n",
    "  const b = 0.8;  // Parameter b\n",
    "  const tau = 12.5;  // Time scale parameter\n",
    "\n",
    "  // Initial Conditions\n",
    "  V = -1.0;  // Initial membrane potential\n",
    "  W = 1.0;   // Initial recovery variable\n",
    "\n",
    "  // Reactions\n",
    "  J1: -> V; (V - (V^3 / 3) - W + I)\n",
    "  J2: -> W; (V + a - b * W) / tau\n",
    "\n",
    "end\n",
    "\"\"\"\n",
    "\n",
    "model = te.loada(model)"
   ],
   "id": "5ec906d3f7ad1aa7",
   "execution_count": null,
   "outputs": []
  },
  {
   "metadata": {},
   "cell_type": "code",
   "source": [
    "import tellurium as te \n",
    "\n",
    "\n",
    "izhikevich_model = \"\"\"\n",
    "model izhikevich_simple_model \n",
    "    compartment cell = 1;\n",
    "    species V in cell, W in cell;\n",
    "    \n",
    "    const a\n",
    "\n",
    "\"\"\""
   ],
   "id": "678530d69f235115",
   "execution_count": null,
   "outputs": []
  },
  {
   "metadata": {},
   "cell_type": "code",
   "source": [
    "m = \"\"\"\n",
    "model FitzHugh_Nagumo_Bifurcation\n",
    "  // Compartments and Species\n",
    "  compartment cell = 1;\n",
    "  species V in cell, W in cell;\n",
    "\n",
    "  // Parameters\n",
    "  const a = 0.7;  // Parameter a\n",
    "  const b = 0.8;  // Parameter b\n",
    "  const tau = 12.5;  // Time scale parameter\n",
    "  I = 0.5;  // External input current\n",
    "\n",
    "  // Initial Conditions\n",
    "  V = -1.0;  // Initial membrane potential\n",
    "  W = 1.0;   // Initial recovery variable\n",
    "\n",
    "  // Reactions\n",
    "  J1: -> V; (V - (V^3 / 3) - W + I)\n",
    "  J2: -> W; (V + a - b * W) / tau\n",
    "\n",
    "end\n",
    "\"\"\"\n",
    "\n",
    "\n",
    "m = te.loada(m)"
   ],
   "id": "1d086d725daeeae6",
   "execution_count": null,
   "outputs": []
  },
  {
   "metadata": {},
   "cell_type": "code",
   "source": "p = '/Users/alex/Desktop/uchc_work/biosimulators-2.0/biosimulator-processes/test_suite/examples/sbml-core/BIOMD0000000020_url.xml'",
   "id": "d1a52ac1773d0257",
   "execution_count": null,
   "outputs": []
  },
  {
   "metadata": {},
   "cell_type": "code",
   "source": "model",
   "id": "765cc6fe5aed3d00",
   "execution_count": null,
   "outputs": []
  },
  {
   "metadata": {},
   "cell_type": "code",
   "source": [
    "m.simulate(0, 100, 1000)\n",
    "m.plot()"
   ],
   "id": "37ef64d89dbf65e",
   "execution_count": null,
   "outputs": []
  },
  {
   "metadata": {},
   "cell_type": "code",
   "source": "results = model.simulate(0, 10, 100)",
   "id": "68180f4f4177137",
   "execution_count": null,
   "outputs": []
  },
  {
   "metadata": {},
   "cell_type": "code",
   "source": "model.plot()",
   "id": "9d13fc6f20a456ef",
   "execution_count": null,
   "outputs": []
  },
  {
   "metadata": {
    "ExecuteTime": {
     "end_time": "2024-06-17T12:07:04.276902Z",
     "start_time": "2024-06-17T12:07:03.710286Z"
    }
   },
   "cell_type": "code",
   "source": "",
   "id": "771fba798fc0452",
   "execution_count": 1,
   "outputs": []
  },
  {
   "metadata": {
    "ExecuteTime": {
     "end_time": "2024-06-17T12:07:04.907636Z",
     "start_time": "2024-06-17T12:07:04.904543Z"
    }
   },
   "cell_type": "code",
   "source": "",
   "id": "ce80b23a80a5c8f",
   "execution_count": 2,
   "outputs": []
  },
  {
   "metadata": {
    "ExecuteTime": {
     "end_time": "2024-06-17T12:07:05.624975Z",
     "start_time": "2024-06-17T12:07:05.418331Z"
    }
   },
   "cell_type": "code",
   "source": "",
   "id": "da7162c996ef4b70",
   "execution_count": 3,
   "outputs": []
  }
 ],
 "metadata": {
  "kernelspec": {
   "display_name": "Python 3",
   "language": "python",
   "name": "python3"
  },
  "language_info": {
   "codemirror_mode": {
    "name": "ipython",
    "version": 2
   },
   "file_extension": ".py",
   "mimetype": "text/x-python",
   "name": "python",
   "nbconvert_exporter": "python",
   "pygments_lexer": "ipython2",
   "version": "2.7.6"
  }
 },
 "nbformat": 4,
 "nbformat_minor": 5
}
