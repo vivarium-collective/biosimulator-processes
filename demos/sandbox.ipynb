{
 "cells": [
  {
   "cell_type": "code",
   "id": "initial_id",
   "metadata": {
    "collapsed": true,
    "ExecuteTime": {
     "end_time": "2024-06-12T19:01:23.684247Z",
     "start_time": "2024-06-12T19:01:21.474518Z"
    }
   },
   "source": [
    "\n",
    "import sys\n",
    "import os\n",
    "\n",
    "sys.path.insert(0, '..')\n",
    "\n",
    "from process_bigraph import Composite\n",
    "from biosimulator_processes import CORE\n",
    "from biosimulator_processes.helpers import prepare_single_ode_process_document\n",
    "\n",
    "\n",
    "omex_dir = '../test_suite/examples/sbml-core/Elowitz-Nature-2000-Repressilator'\n",
    "omex_fp = omex_dir + '.omex'\n",
    "sbml_fp = os.path.join(omex_dir, 'BIOMD0000000012_url.xml')\n",
    "sedml_fp = os.path.join(omex_dir, 'simulation.sedml')\n",
    "reports_path = os.path.join(omex_dir, 'reports.h5')\n",
    "simulators = ['amici', 'copasi', 'tellurium']"
   ],
   "outputs": [
    {
     "name": "stdout",
     "output_type": "stream",
     "text": [
      "Smoldyn is not properly installed in this environment and thus its process implementation cannot be registered. Please consult smoldyn documentation.\n",
      "Available processes:\n",
      "[ 'console-emitter',\n",
      "  'ram-emitter',\n",
      "  'composite',\n",
      "  'cobra-process',\n",
      "  'copasi-process',\n",
      "  'tellurium-process',\n",
      "  'utc-amici',\n",
      "  'utc-copasi',\n",
      "  'utc-tellurium',\n",
      "  'copasi-step',\n",
      "  'tellurium-step',\n",
      "  'amici-step',\n",
      "  'plotter',\n",
      "  'plotter2d',\n",
      "  'utc-comparator']\n"
     ]
    }
   ],
   "execution_count": 1
  },
  {
   "metadata": {
    "ExecuteTime": {
     "end_time": "2024-06-12T19:01:23.686863Z",
     "start_time": "2024-06-12T19:01:23.685124Z"
    }
   },
   "cell_type": "code",
   "source": [
    "tellurium_instance = prepare_single_ode_process_document(\n",
    "    process_id='tellurium_0', \n",
    "    simulator_address_name='tellurium-process', \n",
    "    sbml_model_fp=sbml_fp)"
   ],
   "id": "eeef4a23d6b5004e",
   "outputs": [],
   "execution_count": 2
  },
  {
   "metadata": {
    "ExecuteTime": {
     "end_time": "2024-06-12T19:01:23.688911Z",
     "start_time": "2024-06-12T19:01:23.687408Z"
    }
   },
   "cell_type": "code",
   "source": [
    "copasi_instance = prepare_single_ode_process_document(\n",
    "    process_id='copasi_1', \n",
    "    simulator_address_name='copasi-process', \n",
    "    sbml_model_fp=sbml_fp)"
   ],
   "id": "1ab59edf3e6402ea",
   "outputs": [],
   "execution_count": 3
  },
  {
   "metadata": {
    "ExecuteTime": {
     "end_time": "2024-06-12T19:01:23.692746Z",
     "start_time": "2024-06-12T19:01:23.689951Z"
    }
   },
   "cell_type": "code",
   "source": "copasi_instance",
   "id": "36c4b8cf9fd49cc9",
   "outputs": [
    {
     "data": {
      "text/plain": [
       "{'copasi_1': {'_type': 'process',\n",
       "  'address': 'local:copasi-process',\n",
       "  'config': {'model': {'model_source': '../test_suite/examples/sbml-core/Elowitz-Nature-2000-Repressilator/BIOMD0000000012_url.xml'}},\n",
       "  'inputs': {'floating_species_concentrations': ['copasi_1_floating_species_concentrations_store'],\n",
       "   'model_parameters': ['model_parameters_store'],\n",
       "   'time': ['time_store'],\n",
       "   'reactions': ['reactions_store']},\n",
       "  'outputs': {'floating_species_concentrations': ['copasi_1_floating_species_concentrations_store'],\n",
       "   'time': ['time_store']}},\n",
       " 'emitter': {'_type': 'step',\n",
       "  'address': 'local:ram-emitter',\n",
       "  'config': {'emit': {'floating_species_concentrations': 'tree[float]',\n",
       "    'time': 'float'}},\n",
       "  'inputs': {'floating_species_concentrations': ['copasi_1_floating_species_concentrations_store'],\n",
       "   'time': ['time_store']}}}"
      ]
     },
     "execution_count": 4,
     "metadata": {},
     "output_type": "execute_result"
    }
   ],
   "execution_count": 4
  },
  {
   "metadata": {
    "ExecuteTime": {
     "end_time": "2024-06-12T19:01:23.695507Z",
     "start_time": "2024-06-12T19:01:23.693289Z"
    }
   },
   "cell_type": "code",
   "source": "tellurium_instance",
   "id": "565339a47852b6a1",
   "outputs": [
    {
     "data": {
      "text/plain": [
       "{'tellurium_0': {'_type': 'process',\n",
       "  'address': 'local:tellurium-process',\n",
       "  'config': {'model': {'model_source': '../test_suite/examples/sbml-core/Elowitz-Nature-2000-Repressilator/BIOMD0000000012_url.xml'}},\n",
       "  'inputs': {'floating_species_concentrations': ['tellurium_0_floating_species_concentrations_store'],\n",
       "   'model_parameters': ['model_parameters_store'],\n",
       "   'time': ['time_store'],\n",
       "   'reactions': ['reactions_store']},\n",
       "  'outputs': {'floating_species_concentrations': ['tellurium_0_floating_species_concentrations_store'],\n",
       "   'time': ['time_store']}},\n",
       " 'emitter': {'_type': 'step',\n",
       "  'address': 'local:ram-emitter',\n",
       "  'config': {'emit': {'floating_species_concentrations': 'tree[float]',\n",
       "    'time': 'float'}},\n",
       "  'inputs': {'floating_species_concentrations': ['tellurium_0_floating_species_concentrations_store'],\n",
       "   'time': ['time_store']}}}"
      ]
     },
     "execution_count": 5,
     "metadata": {},
     "output_type": "execute_result"
    }
   ],
   "execution_count": 5
  },
  {
   "metadata": {
    "ExecuteTime": {
     "end_time": "2024-06-12T19:01:23.697263Z",
     "start_time": "2024-06-12T19:01:23.695914Z"
    }
   },
   "cell_type": "code",
   "source": "",
   "id": "b71ca4502112a31a",
   "outputs": [],
   "execution_count": 5
  },
  {
   "metadata": {
    "ExecuteTime": {
     "end_time": "2024-06-12T19:01:23.699070Z",
     "start_time": "2024-06-12T19:01:23.697735Z"
    }
   },
   "cell_type": "code",
   "source": "doc = {**copasi_instance, **tellurium_instance}",
   "id": "82c519ca7d167552",
   "outputs": [],
   "execution_count": 6
  },
  {
   "metadata": {
    "ExecuteTime": {
     "end_time": "2024-06-12T19:01:23.700956Z",
     "start_time": "2024-06-12T19:01:23.699477Z"
    }
   },
   "cell_type": "code",
   "source": [
    "doc['emitter']['inputs']['copasi_floating_species_concentrations'] = ['copasi_1_floating_species_concentrations_store']\n",
    "doc['emitter']['config']['emit']['copasi_floating_species_concentrations'] = 'tree[float]'"
   ],
   "id": "3164e34a887a3926",
   "outputs": [],
   "execution_count": 7
  },
  {
   "metadata": {
    "ExecuteTime": {
     "end_time": "2024-06-12T19:01:23.703818Z",
     "start_time": "2024-06-12T19:01:23.701559Z"
    }
   },
   "cell_type": "code",
   "source": "doc",
   "id": "d202859b272b87bd",
   "outputs": [
    {
     "data": {
      "text/plain": [
       "{'copasi_1': {'_type': 'process',\n",
       "  'address': 'local:copasi-process',\n",
       "  'config': {'model': {'model_source': '../test_suite/examples/sbml-core/Elowitz-Nature-2000-Repressilator/BIOMD0000000012_url.xml'}},\n",
       "  'inputs': {'floating_species_concentrations': ['copasi_1_floating_species_concentrations_store'],\n",
       "   'model_parameters': ['model_parameters_store'],\n",
       "   'time': ['time_store'],\n",
       "   'reactions': ['reactions_store']},\n",
       "  'outputs': {'floating_species_concentrations': ['copasi_1_floating_species_concentrations_store'],\n",
       "   'time': ['time_store']}},\n",
       " 'emitter': {'_type': 'step',\n",
       "  'address': 'local:ram-emitter',\n",
       "  'config': {'emit': {'floating_species_concentrations': 'tree[float]',\n",
       "    'time': 'float',\n",
       "    'copasi_floating_species_concentrations': 'tree[float]'}},\n",
       "  'inputs': {'floating_species_concentrations': ['tellurium_0_floating_species_concentrations_store'],\n",
       "   'time': ['time_store'],\n",
       "   'copasi_floating_species_concentrations': ['copasi_1_floating_species_concentrations_store']}},\n",
       " 'tellurium_0': {'_type': 'process',\n",
       "  'address': 'local:tellurium-process',\n",
       "  'config': {'model': {'model_source': '../test_suite/examples/sbml-core/Elowitz-Nature-2000-Repressilator/BIOMD0000000012_url.xml'}},\n",
       "  'inputs': {'floating_species_concentrations': ['tellurium_0_floating_species_concentrations_store'],\n",
       "   'model_parameters': ['model_parameters_store'],\n",
       "   'time': ['time_store'],\n",
       "   'reactions': ['reactions_store']},\n",
       "  'outputs': {'floating_species_concentrations': ['tellurium_0_floating_species_concentrations_store'],\n",
       "   'time': ['time_store']}}}"
      ]
     },
     "execution_count": 8,
     "metadata": {},
     "output_type": "execute_result"
    }
   ],
   "execution_count": 8
  },
  {
   "metadata": {
    "ExecuteTime": {
     "end_time": "2024-06-12T19:01:23.763125Z",
     "start_time": "2024-06-12T19:01:23.705636Z"
    }
   },
   "cell_type": "code",
   "source": "composite = Composite(config={'state': doc}, core=CORE)",
   "id": "2cd3b5d93b1126c0",
   "outputs": [
    {
     "name": "stdout",
     "output_type": "stream",
     "text": [
      "found a filepath\n"
     ]
    }
   ],
   "execution_count": 9
  },
  {
   "metadata": {
    "ExecuteTime": {
     "end_time": "2024-06-12T19:01:23.870282Z",
     "start_time": "2024-06-12T19:01:23.763884Z"
    }
   },
   "cell_type": "code",
   "source": [
    "for n in range(10):\n",
    "    composite.run(n)"
   ],
   "id": "7d971e33bd7330ec",
   "outputs": [
    {
     "name": "stderr",
     "output_type": "stream",
     "text": [
      "/Users/alex/Desktop/uchc_work/biosimulators-2.0/biosimulator-processes/demos/../biosimulator_processes/processes/copasi_process.py:328: FutureWarning:\n",
      "\n",
      "Series.__getitem__ treating keys as positions is deprecated. In a future version, integer keys will always be treated as labels (consistent with DataFrame behavior). To access a value by position, use `ser.iloc[pos]`\n",
      "\n"
     ]
    }
   ],
   "execution_count": 10
  },
  {
   "metadata": {
    "ExecuteTime": {
     "end_time": "2024-06-12T19:01:54.767820Z",
     "start_time": "2024-06-12T19:01:54.689272Z"
    }
   },
   "cell_type": "code",
   "source": [
    "composite1 = Composite(config={'state': doc}, core=CORE)\n",
    "composite1.run(10)\n"
   ],
   "id": "7176378768216fa",
   "outputs": [
    {
     "name": "stdout",
     "output_type": "stream",
     "text": [
      "found a filepath\n"
     ]
    },
    {
     "data": {
      "text/plain": [
       "{('emitter',): [{'floating_species_concentrations': {'PX': 0.0,\n",
       "    'PY': 0.0,\n",
       "    'PZ': 0.0,\n",
       "    'X': 0.0,\n",
       "    'Y': 20.0,\n",
       "    'Z': 0.0},\n",
       "   'time': 0.0,\n",
       "   'copasi_floating_species_concentrations': {'LacI protein': 0.0,\n",
       "    'TetR protein': 0.0,\n",
       "    'cI protein': 0.0,\n",
       "    'LacI mRNA': 0.0,\n",
       "    'TetR mRNA': 20.0,\n",
       "    'cI mRNA': 0.0}},\n",
       "  {'floating_species_concentrations': {'PX': 81.44042642566572,\n",
       "    'PY': 188.38202008535558,\n",
       "    'PZ': 42.64136438835863,\n",
       "    'X': 19.903425597345827,\n",
       "    'Y': 50.61552585075981,\n",
       "    'Z': 7.491014471958641},\n",
       "   'time': 2.0,\n",
       "   'copasi_floating_species_concentrations': {'LacI protein': 81.44046884923394,\n",
       "    'TetR protein': 188.3821831030562,\n",
       "    'cI protein': 42.64131125320374,\n",
       "    'LacI mRNA': 19.90344166947679,\n",
       "    'TetR mRNA': 50.61558010446934,\n",
       "    'cI mRNA': 7.491001903157758}},\n",
       "  {'floating_species_concentrations': {'PX': 300.01724369105887,\n",
       "    'PY': 659.3718975212375,\n",
       "    'PZ': 126.74353321448297,\n",
       "    'X': 41.15678771794405,\n",
       "    'Y': 88.3666566254914,\n",
       "    'Z': 13.214491750231403},\n",
       "   'time': 4.0,\n",
       "   'copasi_floating_species_concentrations': {'LacI protein': 299.9792524293013,\n",
       "    'TetR protein': 546.4092678039393,\n",
       "    'cI protein': 127.23014070279017,\n",
       "    'LacI mRNA': 41.13697667160224,\n",
       "    'TetR mRNA': 74.22450737953378,\n",
       "    'cI mRNA': 13.357268321541767}},\n",
       "  {'floating_species_concentrations': {'PX': 818.5199648551331,\n",
       "    'PY': 1774.8222004782829,\n",
       "    'PZ': 319.9469104270523,\n",
       "    'X': 71.7525000353336,\n",
       "    'Y': 151.11759163114905,\n",
       "    'Z': 22.635181085491325},\n",
       "   'time': 6.0,\n",
       "   'copasi_floating_species_concentrations': {'LacI protein': 637.6017815600158,\n",
       "    'TetR protein': 1016.0358710461701,\n",
       "    'cI protein': 240.28466799097248,\n",
       "    'LacI mRNA': 59.681116320621555,\n",
       "    'TetR mRNA': 91.45946005789611,\n",
       "    'cI mRNA': 17.760912860286577}},\n",
       "  {'floating_species_concentrations': {'PX': 1988.7049410545217,\n",
       "    'PY': 4284.586007059519,\n",
       "    'PZ': 746.4417365405054,\n",
       "    'X': 122.79644533849603,\n",
       "    'Y': 258.039189605088,\n",
       "    'Z': 38.67465663618168},\n",
       "   'time': 8.0,\n",
       "   'copasi_floating_species_concentrations': {'LacI protein': 1066.5403589624582,\n",
       "    'TetR protein': 1552.6999346532566,\n",
       "    'cI protein': 371.31950229688175,\n",
       "    'LacI mRNA': 75.24093729696735,\n",
       "    'TetR mRNA': 103.94156864361192,\n",
       "    'cI mRNA': 21.05672989033079}},\n",
       "  {'floating_species_concentrations': {'PX': 4538.118878745458,\n",
       "    'PY': 9739.81519452396,\n",
       "    'PZ': 1661.4346796603163,\n",
       "    'X': 209.70941218096817,\n",
       "    'Y': 440.5334132668296,\n",
       "    'Z': 66.04878128169265},\n",
       "   'time': 10.0,\n",
       "   'copasi_floating_species_concentrations': {'LacI protein': 1562.0376381280157,\n",
       "    'TetR protein': 2124.718618118441,\n",
       "    'cI protein': 512.7609317518436,\n",
       "    'LacI mRNA': 88.25892363605358,\n",
       "    'TetR mRNA': 112.97930148315362,\n",
       "    'cI mRNA': 23.542404067722885}},\n",
       "  {'floating_species_concentrations': {'PX': 9956.944151407466,\n",
       "    'PY': 21315.685884189974,\n",
       "    'PZ': 3584.7544893782815,\n",
       "    'X': 358.03404447906854,\n",
       "    'Y': 752.064405036348,\n",
       "    'Z': 112.77800649448125},\n",
       "   'time': 12.0,\n",
       "   'copasi_floating_species_concentrations': {'LacI protein': 2104.5039590948963,\n",
       "    'TetR protein': 2710.1166576237792,\n",
       "    'cI protein': 659.2926650543036,\n",
       "    'LacI mRNA': 99.29259115364991,\n",
       "    'TetR mRNA': 119.54358900782884,\n",
       "    'cI mRNA': 25.445063023529666}},\n",
       "  {'floating_species_concentrations': {'PX': 21269.43778125742,\n",
       "    'PY': 45451.79946443773,\n",
       "    'PZ': 7566.528469094651,\n",
       "    'X': 611.2303822221236,\n",
       "    'Y': 1283.8797278939555,\n",
       "    'Z': 192.54949668754358},\n",
       "   'time': 14.0,\n",
       "   'copasi_floating_species_concentrations': {'LacI protein': 2679.282194597243,\n",
       "    'TetR protein': 3293.9486176653086,\n",
       "    'cI protein': 807.2695519909344,\n",
       "    'LacI mRNA': 108.85411149428109,\n",
       "    'TetR mRNA': 124.33900026944765,\n",
       "    'cI mRNA': 26.93343379758768}},\n",
       "  {'floating_species_concentrations': {'PX': 44566.94781200869,\n",
       "    'PY': 95111.48282584918,\n",
       "    'PZ': 15713.991243417186,\n",
       "    'X': 1043.4613564640217,\n",
       "    'Y': 2191.7448541647436,\n",
       "    'Z': 328.72786714761236},\n",
       "   'time': 16.0,\n",
       "   'copasi_floating_species_concentrations': {'LacI protein': 3275.8527411381347,\n",
       "    'TetR protein': 3866.2839726620823,\n",
       "    'cI protein': 954.262625183127,\n",
       "    'LacI mRNA': 117.37300218950406,\n",
       "    'TetR mRNA': 127.87231683808349,\n",
       "    'cI mRNA': 28.131788959895005}},\n",
       "  {'floating_species_concentrations': {'PX': 92043.11282831039,\n",
       "    'PY': 196233.05982406362,\n",
       "    'PZ': 32232.463302534594,\n",
       "    'X': 1781.3251950662866,\n",
       "    'Y': 3741.5673076235967,\n",
       "    'Z': 561.1988435287053},\n",
       "   'time': 18.0,\n",
       "   'copasi_floating_species_concentrations': {'LacI protein': 3886.9927450256782,\n",
       "    'TetR protein': 4420.737701541376,\n",
       "    'cI protein': 1098.7210123838508,\n",
       "    'LacI mRNA': 125.19624394687389,\n",
       "    'TetR mRNA': 130.50643979995667,\n",
       "    'cI mRNA': 29.13161679321667}},\n",
       "  {'floating_species_concentrations': {'PX': 187983.68205439165,\n",
       "    'PY': 400458.05653848976,\n",
       "    'PZ': 65476.249136860264,\n",
       "    'X': 3040.9372706319537,\n",
       "    'Y': 6387.279356309008,\n",
       "    'Z': 958.0515670442562},\n",
       "   'time': 20.0,\n",
       "   'copasi_floating_species_concentrations': {'LacI protein': 4508.036837223343,\n",
       "    'TetR protein': 4953.412163246545,\n",
       "    'cI protein': 1239.7254754121607,\n",
       "    'LacI mRNA': 132.59911818916152,\n",
       "    'TetR mRNA': 132.5005229205225,\n",
       "    'cI mRNA': 30.000620895204452}}]}"
      ]
     },
     "execution_count": 15,
     "metadata": {},
     "output_type": "execute_result"
    }
   ],
   "execution_count": 15
  },
  {
   "metadata": {
    "ExecuteTime": {
     "end_time": "2024-06-12T19:02:28.463301Z",
     "start_time": "2024-06-12T19:02:28.460416Z"
    }
   },
   "cell_type": "code",
   "source": "len(composite1.gather_results().values())",
   "id": "b20ef48e0514ee58",
   "outputs": [
    {
     "data": {
      "text/plain": [
       "1"
      ]
     },
     "execution_count": 16,
     "metadata": {},
     "output_type": "execute_result"
    }
   ],
   "execution_count": 16
  },
  {
   "metadata": {
    "ExecuteTime": {
     "end_time": "2024-06-12T19:01:23.872577Z",
     "start_time": "2024-06-12T19:01:23.871005Z"
    }
   },
   "cell_type": "code",
   "source": "results = composite.gather_results()",
   "id": "afba42adc54fd904",
   "outputs": [],
   "execution_count": 11
  },
  {
   "metadata": {
    "ExecuteTime": {
     "end_time": "2024-06-12T19:01:23.878996Z",
     "start_time": "2024-06-12T19:01:23.873178Z"
    }
   },
   "cell_type": "code",
   "source": "results",
   "id": "191b7b53676c6c2a",
   "outputs": [
    {
     "data": {
      "text/plain": [
       "{('emitter',): [{'floating_species_concentrations': {'PX': 0.0,\n",
       "    'PY': 0.0,\n",
       "    'PZ': 0.0,\n",
       "    'X': 0.0,\n",
       "    'Y': 20.0,\n",
       "    'Z': 0.0},\n",
       "   'time': 0.0,\n",
       "   'copasi_floating_species_concentrations': {'LacI protein': 0.0,\n",
       "    'TetR protein': 0.0,\n",
       "    'cI protein': 0.0,\n",
       "    'LacI mRNA': 0.0,\n",
       "    'TetR mRNA': 20.0,\n",
       "    'cI mRNA': 0.0}},\n",
       "  {'floating_species_concentrations': {'PX': 81.44042642566572,\n",
       "    'PY': 188.38202008535558,\n",
       "    'PZ': 42.64136438835863,\n",
       "    'X': 19.903425597345827,\n",
       "    'Y': 50.61552585075981,\n",
       "    'Z': 7.491014471958641},\n",
       "   'time': 2.0,\n",
       "   'copasi_floating_species_concentrations': {'LacI protein': 81.44046884923394,\n",
       "    'TetR protein': 188.3821831030562,\n",
       "    'cI protein': 42.64131125320374,\n",
       "    'LacI mRNA': 19.90344166947679,\n",
       "    'TetR mRNA': 50.61558010446934,\n",
       "    'cI mRNA': 7.491001903157758}},\n",
       "  {'floating_species_concentrations': {'PX': 300.01724369105887,\n",
       "    'PY': 659.3718975212375,\n",
       "    'PZ': 126.74353321448297,\n",
       "    'X': 41.15678771794405,\n",
       "    'Y': 88.3666566254914,\n",
       "    'Z': 13.214491750231403},\n",
       "   'time': 4.0,\n",
       "   'copasi_floating_species_concentrations': {'LacI protein': 299.9792524293013,\n",
       "    'TetR protein': 546.4092678039393,\n",
       "    'cI protein': 127.23014070279017,\n",
       "    'LacI mRNA': 41.13697667160224,\n",
       "    'TetR mRNA': 74.22450737953378,\n",
       "    'cI mRNA': 13.357268321541767}},\n",
       "  {'floating_species_concentrations': {'PX': 818.5199648551331,\n",
       "    'PY': 1774.8222004782829,\n",
       "    'PZ': 319.9469104270523,\n",
       "    'X': 71.7525000353336,\n",
       "    'Y': 151.11759163114905,\n",
       "    'Z': 22.635181085491325},\n",
       "   'time': 6.0,\n",
       "   'copasi_floating_species_concentrations': {'LacI protein': 637.6017815600158,\n",
       "    'TetR protein': 1016.0358710461701,\n",
       "    'cI protein': 240.28466799097248,\n",
       "    'LacI mRNA': 59.681116320621555,\n",
       "    'TetR mRNA': 91.45946005789611,\n",
       "    'cI mRNA': 17.760912860286577}},\n",
       "  {'floating_species_concentrations': {'PX': 1988.7049410545217,\n",
       "    'PY': 4284.586007059519,\n",
       "    'PZ': 746.4417365405054,\n",
       "    'X': 122.79644533849603,\n",
       "    'Y': 258.039189605088,\n",
       "    'Z': 38.67465663618168},\n",
       "   'time': 8.0,\n",
       "   'copasi_floating_species_concentrations': {'LacI protein': 1066.5403589624582,\n",
       "    'TetR protein': 1552.6999346532566,\n",
       "    'cI protein': 371.31950229688175,\n",
       "    'LacI mRNA': 75.24093729696735,\n",
       "    'TetR mRNA': 103.94156864361192,\n",
       "    'cI mRNA': 21.05672989033079}},\n",
       "  {'floating_species_concentrations': {'PX': 4538.118878745458,\n",
       "    'PY': 9739.81519452396,\n",
       "    'PZ': 1661.4346796603163,\n",
       "    'X': 209.70941218096817,\n",
       "    'Y': 440.5334132668296,\n",
       "    'Z': 66.04878128169265},\n",
       "   'time': 10.0,\n",
       "   'copasi_floating_species_concentrations': {'LacI protein': 1562.0376381280157,\n",
       "    'TetR protein': 2124.718618118441,\n",
       "    'cI protein': 512.7609317518436,\n",
       "    'LacI mRNA': 88.25892363605358,\n",
       "    'TetR mRNA': 112.97930148315362,\n",
       "    'cI mRNA': 23.542404067722885}},\n",
       "  {'floating_species_concentrations': {'PX': 9956.944151407466,\n",
       "    'PY': 21315.685884189974,\n",
       "    'PZ': 3584.7544893782815,\n",
       "    'X': 358.03404447906854,\n",
       "    'Y': 752.064405036348,\n",
       "    'Z': 112.77800649448125},\n",
       "   'time': 12.0,\n",
       "   'copasi_floating_species_concentrations': {'LacI protein': 2104.5039590948963,\n",
       "    'TetR protein': 2710.1166576237792,\n",
       "    'cI protein': 659.2926650543036,\n",
       "    'LacI mRNA': 99.29259115364991,\n",
       "    'TetR mRNA': 119.54358900782884,\n",
       "    'cI mRNA': 25.445063023529666}},\n",
       "  {'floating_species_concentrations': {'PX': 21269.43778125742,\n",
       "    'PY': 45451.79946443773,\n",
       "    'PZ': 7566.528469094651,\n",
       "    'X': 611.2303822221236,\n",
       "    'Y': 1283.8797278939555,\n",
       "    'Z': 192.54949668754358},\n",
       "   'time': 14.0,\n",
       "   'copasi_floating_species_concentrations': {'LacI protein': 2679.282194597243,\n",
       "    'TetR protein': 3293.9486176653086,\n",
       "    'cI protein': 807.2695519909344,\n",
       "    'LacI mRNA': 108.85411149428109,\n",
       "    'TetR mRNA': 124.33900026944765,\n",
       "    'cI mRNA': 26.93343379758768}},\n",
       "  {'floating_species_concentrations': {'PX': 44566.94781200869,\n",
       "    'PY': 95111.48282584918,\n",
       "    'PZ': 15713.991243417186,\n",
       "    'X': 1043.4613564640217,\n",
       "    'Y': 2191.7448541647436,\n",
       "    'Z': 328.72786714761236},\n",
       "   'time': 16.0,\n",
       "   'copasi_floating_species_concentrations': {'LacI protein': 3275.8527411381347,\n",
       "    'TetR protein': 3866.2839726620823,\n",
       "    'cI protein': 954.262625183127,\n",
       "    'LacI mRNA': 117.37300218950406,\n",
       "    'TetR mRNA': 127.87231683808349,\n",
       "    'cI mRNA': 28.131788959895005}},\n",
       "  {'floating_species_concentrations': {'PX': 92043.11282831039,\n",
       "    'PY': 196233.05982406362,\n",
       "    'PZ': 32232.463302534594,\n",
       "    'X': 1781.3251950662866,\n",
       "    'Y': 3741.5673076235967,\n",
       "    'Z': 561.1988435287053},\n",
       "   'time': 18.0,\n",
       "   'copasi_floating_species_concentrations': {'LacI protein': 3886.9927450256782,\n",
       "    'TetR protein': 4420.737701541376,\n",
       "    'cI protein': 1098.7210123838508,\n",
       "    'LacI mRNA': 125.19624394687389,\n",
       "    'TetR mRNA': 130.50643979995667,\n",
       "    'cI mRNA': 29.13161679321667}},\n",
       "  {'floating_species_concentrations': {'PX': 187983.68205439165,\n",
       "    'PY': 400458.05653848976,\n",
       "    'PZ': 65476.249136860264,\n",
       "    'X': 3040.9372706319537,\n",
       "    'Y': 6387.279356309008,\n",
       "    'Z': 958.0515670442562},\n",
       "   'time': 20.0,\n",
       "   'copasi_floating_species_concentrations': {'LacI protein': 4508.036837223343,\n",
       "    'TetR protein': 4953.412163246545,\n",
       "    'cI protein': 1239.7254754121607,\n",
       "    'LacI mRNA': 132.59911818916152,\n",
       "    'TetR mRNA': 132.5005229205225,\n",
       "    'cI mRNA': 30.000620895204452}},\n",
       "  {'floating_species_concentrations': {'PX': 380554.4646116048,\n",
       "    'PY': 810175.1317615174,\n",
       "    'PZ': 131979.073787298,\n",
       "    'X': 5191.229259786823,\n",
       "    'Y': 10903.791705409569,\n",
       "    'Z': 1635.5214477074255},\n",
       "   'time': 22.0,\n",
       "   'copasi_floating_species_concentrations': {'LacI protein': 5136.2680510516375,\n",
       "    'TetR protein': 5462.14010567546,\n",
       "    'cI protein': 1376.810728884016,\n",
       "    'LacI mRNA': 139.79760407253494,\n",
       "    'TetR mRNA': 134.0392286662234,\n",
       "    'cI mRNA': 30.789442129668423}},\n",
       "  {'floating_species_concentrations': {'PX': 764945.346348783,\n",
       "    'PY': 1627681.7665769923,\n",
       "    'PZ': 264357.69037478615,\n",
       "    'X': 8862.006771463815,\n",
       "    'Y': 18613.959475863143,\n",
       "    'Z': 2792.0347117784104},\n",
       "   'time': 24.0,\n",
       "   'copasi_floating_species_concentrations': {'LacI protein': 5770.4282008286455,\n",
       "    'TetR protein': 5945.94534983125,\n",
       "    'cI protein': 1509.838390777017,\n",
       "    'LacI mRNA': 146.9592314816684,\n",
       "    'TetR mRNA': 135.25385141019785,\n",
       "    'cI mRNA': 31.536606318712497}},\n",
       "  {'floating_species_concentrations': {'PX': 1528718.76528159,\n",
       "    'PY': 3251497.3748777593,\n",
       "    'PZ': 526782.1036464693,\n",
       "    'X': 15128.415060752852,\n",
       "    'Y': 31776.03728838206,\n",
       "    'Z': 4766.326066518227},\n",
       "   'time': 26.0,\n",
       "   'copasi_floating_species_concentrations': {'LacI protein': 6410.325817772514,\n",
       "    'TetR protein': 6404.6598626996,\n",
       "    'cI protein': 1638.906846023346,\n",
       "    'LacI mRNA': 154.211557789334,\n",
       "    'TetR mRNA': 136.23749981698458,\n",
       "    'cI mRNA': 32.27214144935305}},\n",
       "  {'floating_species_concentrations': {'PX': 3040511.7047544485,\n",
       "    'PY': 6464728.136676712,\n",
       "    'PZ': 1045208.2811153162,\n",
       "    'X': 25825.84161578644,\n",
       "    'Y': 54245.106365338885,\n",
       "    'Z': 8136.651744539024},\n",
       "   'time': 28.0,\n",
       "   'copasi_floating_species_concentrations': {'LacI protein': 7056.519055862771,\n",
       "    'TetR protein': 6838.652833659769,\n",
       "    'cI protein': 1764.287885208955,\n",
       "    'LacI mRNA': 161.64831158853198,\n",
       "    'TetR mRNA': 137.05599120472448,\n",
       "    'cI mRNA': 33.02021675923363}},\n",
       "  {'floating_species_concentrations': {'PX': 6023278.197182422,\n",
       "    'PY': 12802918.29072924,\n",
       "    'PZ': 2066379.3537390376,\n",
       "    'X': 44087.48841329425,\n",
       "    'Y': 92602.20105943157,\n",
       "    'Z': 13890.156740183707},\n",
       "   'time': 30.0,\n",
       "   'copasi_floating_species_concentrations': {'LacI protein': 7710.054090636079,\n",
       "    'TetR protein': 7248.639861333748,\n",
       "    'cI protein': 1886.3827248057821,\n",
       "    'LacI mRNA': 169.33357912786002,\n",
       "    'TetR mRNA': 137.75567064124832,\n",
       "    'cI mRNA': 33.80107136663388}},\n",
       "  {'floating_species_concentrations': {'PX': 11892209.101792451,\n",
       "    'PY': 25271496.324185897,\n",
       "    'PZ': 4072833.4994401652,\n",
       "    'X': 75262.06502855165,\n",
       "    'Y': 158081.84813287517,\n",
       "    'Z': 23712.002726035236},\n",
       "   'time': 32.0,\n",
       "   'copasi_floating_species_concentrations': {'LacI protein': 8372.24382524763,\n",
       "    'TetR protein': 7635.549425192286,\n",
       "    'cI protein': 2005.6920617301703,\n",
       "    'LacI mRNA': 177.304525822945,\n",
       "    'TetR mRNA': 138.36903067344647,\n",
       "    'cI mRNA': 34.63243127088628}},\n",
       "  {'floating_species_concentrations': {'PX': 23413125.47700468,\n",
       "    'PY': 49743509.21102109,\n",
       "    'PZ': 8006851.022361288,\n",
       "    'X': 128480.38854323688,\n",
       "    'Y': 269862.5816642137,\n",
       "    'Z': 40478.940209661116},\n",
       "   'time': 34.0,\n",
       "   'copasi_floating_species_concentrations': {'LacI protein': 9044.476148075404,\n",
       "    'TetR protein': 8000.430298604359,\n",
       "    'cI protein': 2122.7963112354323,\n",
       "    'LacI mRNA': 185.57317609758593,\n",
       "    'TetR mRNA': 138.9187584664045,\n",
       "    'cI mRNA': 35.530560753978726}},\n",
       "  {'floating_species_concentrations': {'PX': 45984023.12822118,\n",
       "    'PY': 97680074.22793853,\n",
       "    'PZ': 15706139.230263691,\n",
       "    'X': 219329.7364919599,\n",
       "    'Y': 460684.202562324,\n",
       "    'Z': 69101.88878984525},\n",
       "   'time': 36.0,\n",
       "   'copasi_floating_species_concentrations': {'LacI protein': 9728.045232673367,\n",
       "    'TetR protein': 8344.388247599889,\n",
       "    'cI protein': 2238.3432831830796,\n",
       "    'LacI mRNA': 194.1277653224208,\n",
       "    'TetR mRNA': 139.42065311185212,\n",
       "    'cI mRNA': 36.51105393405833}},\n",
       "  {'floating_species_concentrations': {'PX': 90127445.73086785,\n",
       "    'PY': 191420829.37137628,\n",
       "    'PZ': 30750784.724355023,\n",
       "    'X': 374419.2522658057,\n",
       "    'Y': 786437.0390160542,\n",
       "    'Z': 117964.31142193697},\n",
       "   'time': 38.0,\n",
       "   'copasi_floating_species_concentrations': {'LacI protein': 10424.003105067559,\n",
       "    'TetR protein': 8668.543592245687,\n",
       "    'cI protein': 2353.0413265755406,\n",
       "    'LacI mRNA': 202.9341427622474,\n",
       "    'TetR mRNA': 139.8857278577349,\n",
       "    'cI mRNA': 37.58944313548543}},\n",
       "  {'floating_species_concentrations': {'PX': 176334110.5572574,\n",
       "    'PY': 374464710.46978426,\n",
       "    'PZ': 60108564.323782235,\n",
       "    'X': 639173.5785330677,\n",
       "    'Y': 1342531.8357186257,\n",
       "    'Z': 201377.6725327546},\n",
       "   'time': 40.0,\n",
       "   'copasi_floating_species_concentrations': {'LacI protein': 11133.031908904264,\n",
       "    'TetR protein': 8974.003575317396,\n",
       "    'cI protein': 2467.6565460176007,\n",
       "    'LacI mRNA': 211.93763741534747,\n",
       "    'TetR mRNA': 140.3217192483385,\n",
       "    'cI mRNA': 38.781678587937705}},\n",
       "  {'floating_species_concentrations': {'PX': 344469816.7100569,\n",
       "    'PY': 731435492.7324016,\n",
       "    'PZ': 117329254.25732967,\n",
       "    'X': 1091137.4198221224,\n",
       "    'Y': 2291844.8988216426,\n",
       "    'Z': 343773.16662722797},\n",
       "   'time': 42.0,\n",
       "   'copasi_floating_species_concentrations': {'LacI protein': 11855.339696916286,\n",
       "    'TetR protein': 9261.845142357033,\n",
       "    'cI protein': 2583.013093423345,\n",
       "    'LacI mRNA': 221.0656956288722,\n",
       "    'TetR mRNA': 140.73416214193466,\n",
       "    'cI mRNA': 40.10451781069333}},\n",
       "  {'floating_species_concentrations': {'PX': 672034455.7996718,\n",
       "    'PY': 1426833680.7881336,\n",
       "    'PZ': 228743010.91033936,\n",
       "    'X': 1862687.8483222327,\n",
       "    'Y': 3912423.435655188,\n",
       "    'Z': 586857.4456078804},\n",
       "   'time': 44.0,\n",
       "   'copasi_floating_species_concentrations': {'LacI protein': 12590.583997264757,\n",
       "    'TetR protein': 9533.10493992653,\n",
       "    'cI protein': 2699.995818972491,\n",
       "    'LacI mRNA': 230.2314577833474,\n",
       "    'TetR mRNA': 141.1271461427617,\n",
       "    'cI mRNA': 41.57585093977777}},\n",
       "  {'floating_species_concentrations': {'PX': 1309585565.5126467,\n",
       "    'PY': 2780214639.701443,\n",
       "    'PZ': 445482462.26541543,\n",
       "    'X': 3179806.6296664835,\n",
       "    'Y': 6678923.652181919,\n",
       "    'Z': 1001828.2076841232},\n",
       "   'time': 46.0,\n",
       "   'copasi_floating_species_concentrations': {'LacI protein': 13337.827667673324,\n",
       "    'TetR protein': 9788.77421889084,\n",
       "    'cI protein': 2819.5547567672243,\n",
       "    'LacI mRNA': 239.3382687139363,\n",
       "    'TetR mRNA': 141.50383901641925,\n",
       "    'cI mRNA': 43.21497911531293}},\n",
       "  {'floating_species_concentrations': {'PX': 2549432221.1739674,\n",
       "    'PY': 5411970381.133738,\n",
       "    'PZ': 866790803.4048737,\n",
       "    'X': 5428268.713875881,\n",
       "    'Y': 11401634.26182711,\n",
       "    'Z': 1710227.509098416},\n",
       "   'time': 48.0,\n",
       "   'copasi_floating_species_concentrations': {'LacI protein': 14095.530585062977,\n",
       "    'TetR protein': 10029.796981851265,\n",
       "    'cI protein': 2942.7110455380976,\n",
       "    'LacI mRNA': 248.28493172021527,\n",
       "    'TetR mRNA': 141.86684146992312,\n",
       "    'cI mRNA': 45.04285599628112}},\n",
       "  {'floating_species_concentrations': {'PX': 4958796440.6010685,\n",
       "    'PY': 10525915798.858559,\n",
       "    'PZ': 1685194897.9287028,\n",
       "    'X': 9266633.041185573,\n",
       "    'Y': 19463804.426748116,\n",
       "    'Z': 2919540.5889744377},\n",
       "   'time': 50.0,\n",
       "   'copasi_floating_species_concentrations': {'LacI protein': 14861.578622260502,\n",
       "    'TetR protein': 10257.070201056813,\n",
       "    'cI protein': 3070.5639593208953,\n",
       "    'LacI mRNA': 256.9713478471479,\n",
       "    'TetR mRNA': 142.21842209389172,\n",
       "    'cI mRNA': 47.08229685070092}},\n",
       "  {'floating_species_concentrations': {'PX': 9637856768.737148,\n",
       "    'PY': 20456877663.244686,\n",
       "    'PZ': 3274027443.1119227,\n",
       "    'X': 15819129.885758441,\n",
       "    'Y': 33226787.83876861,\n",
       "    'Z': 4983966.856071986},\n",
       "   'time': 52.0,\n",
       "   'copasi_floating_species_concentrations': {'LacI protein': 15633.348426752438,\n",
       "    'TetR protein': 10471.445296334736,\n",
       "    'cI protein': 3204.298758236862,\n",
       "    'LacI mRNA': 265.3040638477106,\n",
       "    'TetR mRNA': 142.56066934800788,\n",
       "    'cI mRNA': 49.358154987815226}},\n",
       "  {'floating_species_concentrations': {'PX': 18719644509.56717,\n",
       "    'PY': 39731490555.29054,\n",
       "    'PZ': 6356953450.6166725,\n",
       "    'X': 27004940.101869896,\n",
       "    'Y': 56721666.83010471,\n",
       "    'Z': 8508162.437796658},\n",
       "   'time': 54.0,\n",
       "   'copasi_floating_species_concentrations': {'LacI protein': 16407.80323906416,\n",
       "    'TetR protein': 10673.73033089212,\n",
       "    'cI protein': 3345.195073158773,\n",
       "    'LacI mRNA': 273.20121298508775,\n",
       "    'TetR mRNA': 142.8955880881127,\n",
       "    'cI mRNA': 51.89746117761754}},\n",
       "  {'floating_species_concentrations': {'PX': 36338219477.80077,\n",
       "    'PY': 77122656852.96057,\n",
       "    'PZ': 12336256488.32708,\n",
       "    'X': 46100309.87902686,\n",
       "    'Y': 96829928.41699603,\n",
       "    'Z': 14524339.764238872},\n",
       "   'time': 56.0,\n",
       "   'copasi_floating_species_concentrations': {'LacI protein': 17181.61198491656,\n",
       "    'TetR protein': 10864.692577186439,\n",
       "    'cI protein': 3494.635515003794,\n",
       "    'LacI mRNA': 280.596386092111,\n",
       "    'TetR mRNA': 143.22516069525392,\n",
       "    'cI mRNA': 54.7295178587473}},\n",
       "  {'floating_species_concentrations': {'PX': 70503360623.39223,\n",
       "    'PY': 149627554398.39365,\n",
       "    'PZ': 23928427117.08606,\n",
       "    'X': 78698140.51753725,\n",
       "    'Y': 165299004.09724793,\n",
       "    'Z': 24794595.426593915},\n",
       "   'time': 58.0,\n",
       "   'copasi_floating_species_concentrations': {'LacI protein': 17951.281725002453,\n",
       "    'TetR protein': 11045.061242107466,\n",
       "    'cI protein': 3654.114152480175,\n",
       "    'LacI mRNA': 287.44110782976406,\n",
       "    'TetR mRNA': 143.55138704335917,\n",
       "    'cI mRNA': 57.88593618241161}},\n",
       "  {'floating_species_concentrations': {'PX': 136729824853.01501,\n",
       "    'PY': 290168640817.55707,\n",
       "    'PZ': 46394483930.71605,\n",
       "    'X': 134346110.41170186,\n",
       "    'Y': 282183011.0236072,\n",
       "    'Z': 42327016.04199912},\n",
       "   'time': 60.0,\n",
       "   'copasi_floating_species_concentrations': {'LacI protein': 18713.292965607594,\n",
       "    'TetR protein': 11215.53024135916,\n",
       "    'cI protein': 3825.2444490627295,\n",
       "    'LacI mRNA': 293.70578499599594,\n",
       "    'TetR mRNA': 143.8763131320027,\n",
       "    'cI mRNA': 61.40059987397441}},\n",
       "  {'floating_species_concentrations': {'PX': 265062076593.82343,\n",
       "    'PY': 562499383117.1486,\n",
       "    'PZ': 89921139816.48975,\n",
       "    'X': 229343123.80353838,\n",
       "    'Y': 481716463.76936877,\n",
       "    'Z': 72256725.95164327},\n",
       "   'time': 62.0,\n",
       "   'copasi_floating_species_concentrations': {'LacI protein': 19464.226015806864,\n",
       "    'TetR protein': 11376.76093216088,\n",
       "    'cI protein': 4009.7660629335296,\n",
       "    'LacI mRNA': 299.37920736663574,\n",
       "    'TetR mRNA': 144.2020546473645,\n",
       "    'cI mRNA': 65.30953829712196}},\n",
       "  {'floating_species_concentrations': {'PX': 513669116880.0798,\n",
       "    'PY': 1090050701044.3091,\n",
       "    'PZ': 174228651292.57532,\n",
       "    'X': 391513146.7442336,\n",
       "    'Y': 822341326.1084301,\n",
       "    'Z': 123349929.50989792},\n",
       "   'time': 64.0,\n",
       "   'copasi_floating_species_concentrations': {'LacI protein': 20200.8730907246,\n",
       "    'TetR protein': 11529.38485921313,\n",
       "    'cI protein': 4209.550058553596,\n",
       "    'LacI mRNA': 304.4668229496426,\n",
       "    'TetR mRNA': 144.5308201827,\n",
       "    'cI mRNA': 69.6506820498003}},\n",
       "  {'floating_species_concentrations': {'PX': 995150700447.2625,\n",
       "    'PY': 2111748729383.0378,\n",
       "    'PZ': 337486438560.43805,\n",
       "    'X': 668354653.694073,\n",
       "    'Y': 1403824256.7053635,\n",
       "    'Z': 210571471.51544347},\n",
       "   'time': 66.0,\n",
       "   'copasi_floating_species_concentrations': {'LacI protein': 20920.327008501,\n",
       "    'TetR protein': 11674.006448477678,\n",
       "    'cI protein': 4426.60160553615,\n",
       "    'LacI mRNA': 308.988163274014,\n",
       "    'TetR mRNA': 144.86493591549095,\n",
       "    'cI mRNA': 74.46347868783627}},\n",
       "  {'floating_species_concentrations': {'PX': 1927434151728.5437,\n",
       "    'PY': 4090009077247.545,\n",
       "    'PZ': 653561775568.1694,\n",
       "    'X': 1140952601.1269178,\n",
       "    'Y': 2396477571.2140803,\n",
       "    'Z': 359467936.4202426},\n",
       "   'time': 68.0,\n",
       "   'copasi_floating_species_concentrations': {'LacI protein': 21620.045230298147,\n",
       "    'TetR protein': 11811.205703739857,\n",
       "    'cI protein': 4663.0593866783065,\n",
       "    'LacI mRNA': 312.9737940140116,\n",
       "    'TetR mRNA': 145.2068737235193,\n",
       "    'cI mRNA': 79.78833850558121}},\n",
       "  {'floating_species_concentrations': {'PX': 3732238168502.795,\n",
       "    'PY': 7919658343338.133,\n",
       "    'PZ': 1265386834123.5767,\n",
       "    'X': 1947727648.6834383,\n",
       "    'Y': 4091042537.8418827,\n",
       "    'Z': 613650065.6636976},\n",
       "   'time': 70.0,\n",
       "   'copasi_floating_species_concentrations': {'LacI protein': 22297.888590169245,\n",
       "    'TetR protein': 11941.540924693787,\n",
       "    'cI protein': 4921.190672539064,\n",
       "    'LacI mRNA': 316.46215298385306,\n",
       "    'TetR mRNA': 145.55928350415948,\n",
       "    'cI mRNA': 85.6658809161501}},\n",
       "  {'floating_species_concentrations': {'PX': 7225540746293.506,\n",
       "    'PY': 15332068055050.844,\n",
       "    'PZ': 2449500544264.5054,\n",
       "    'X': 3324978609.9722376,\n",
       "    'Y': 6983845477.549761,\n",
       "    'Z': 1047566041.2547219},\n",
       "   'time': 72.0,\n",
       "   'copasi_floating_species_concentrations': {'LacI protein': 22952.136709739687,\n",
       "    'TetR protein': 12065.551475305336,\n",
       "    'cI protein': 5203.380920815299,\n",
       "    'LacI mRNA': 319.49656450613594,\n",
       "    'TetR mRNA': 145.92503023408904,\n",
       "    'cI mRNA': 92.13595354808761}},\n",
       "  {'floating_species_concentrations': {'PX': 13985988958178.766,\n",
       "    'PY': 29676839897748.22,\n",
       "    'PZ': 4740882287903.337,\n",
       "    'X': 5676092735.568047,\n",
       "    'Y': 11922168299.809961,\n",
       "    'Z': 1788306841.7396812},\n",
       "   'time': 74.0,\n",
       "   'copasi_floating_species_concentrations': {'LacI protein': 23581.483563336224,\n",
       "    'TetR protein': 12183.760632204277,\n",
       "    'cI protein': 5512.116658979639,\n",
       "    'LacI mRNA': 322.12262605800674,\n",
       "    'TetR mRNA': 146.30723614194235,\n",
       "    'cI mRNA': 99.23640052698308}},\n",
       "  {'floating_species_concentrations': {'PX': 27067438139518.36,\n",
       "    'PY': 57433650160224.56,\n",
       "    'PZ': 9174382712382.484,\n",
       "    'X': 9689695039.906515,\n",
       "    'Y': 20352411495.243095,\n",
       "    'Z': 3052830308.0305986},\n",
       "   'time': 76.0,\n",
       "   'copasi_floating_species_concentrations': {'LacI protein': 24185.01745067927,\n",
       "    'TetR protein': 12296.67854278229,\n",
       "    'cI protein': 5849.96038546381,\n",
       "    'LacI mRNA': 324.3860712944317,\n",
       "    'TetR mRNA': 146.70932830762047,\n",
       "    'cI mRNA': 107.0015657973404}},\n",
       "  {'floating_species_concentrations': {'PX': 52376980995453.22,\n",
       "    'PY': 111136096652433.62,\n",
       "    'PZ': 17751627715671.12,\n",
       "    'X': 16541341790.188992,\n",
       "    'Y': 34743734803.89379,\n",
       "    'Z': 5211506589.709717},\n",
       "   'time': 78.0,\n",
       "   'copasi_floating_species_concentrations': {'LacI protein': 24762.189702498832,\n",
       "    'TetR protein': 12404.805323379092,\n",
       "    'cI protein': 6219.516217324124,\n",
       "    'LacI mRNA': 326.3311406623616,\n",
       "    'TetR mRNA': 147.13509205336587,\n",
       "    'cI mRNA': 115.46052968868547}},\n",
       "  {'floating_species_concentrations': {'PX': 101339862582808.94,\n",
       "    'PY': 215025984170257.75,\n",
       "    'PZ': 34343918187683.18,\n",
       "    'X': 28237832780.828705,\n",
       "    'Y': 59311256971.62323,\n",
       "    'Z': 8896596992.14859},\n",
       "   'time': 80.0,\n",
       "   'copasi_floating_species_concentrations': {'LacI protein': 25312.77622726089,\n",
       "    'TetR protein': 12508.634328375001,\n",
       "    'cI protein': 6623.385169827596,\n",
       "    'LacI mRNA': 327.9994338477907,\n",
       "    'TetR mRNA': 147.58873054818957,\n",
       "    'cI mRNA': 124.63509775447989}},\n",
       "  {'floating_species_concentrations': {'PX': 196052793730139.5,\n",
       "    'PY': 415987329822867.6,\n",
       "    'PZ': 66438177741284.25,\n",
       "    'X': 48204989069.75827,\n",
       "    'Y': 101250634785.64969,\n",
       "    'Z': 15187438926.128227},\n",
       "   'time': 82.0,\n",
       "   'copasi_floating_species_concentrations': {'LacI protein': 25836.835418514136,\n",
       "    'TetR protein': 12608.655621975031,\n",
       "    'cI protein': 7064.109241745933,\n",
       "    'LacI mRNA': 329.4291842020976,\n",
       "    'TetR mRNA': 148.07493112193288,\n",
       "    'cI mRNA': 134.53758693787515}},\n",
       "  {'floating_species_concentrations': {'PX': 379248795968792.5,\n",
       "    'PY': 804689129609201.9,\n",
       "    'PZ': 128512973303742.12,\n",
       "    'X': 82291052197.52133,\n",
       "    'Y': 172845621023.15405,\n",
       "    'Z': 25926576346.87831},\n",
       "   'time': 84.0,\n",
       "   'copasi_floating_species_concentrations': {'LacI protein': 26334.6652380037,\n",
       "    'TetR protein': 12705.35968581335,\n",
       "    'cI protein': 7544.103945359869,\n",
       "    'LacI mRNA': 330.65487914718426,\n",
       "    'TetR mRNA': 148.59893886177503,\n",
       "    'cI mRNA': 145.1684859181623}},\n",
       "  {'floating_species_concentrations': {'PX': 733565243308581.0,\n",
       "    'PY': 1556466928434995.5,\n",
       "    'PZ': 248566259993935.25,\n",
       "    'X': 140479593558.79016,\n",
       "    'Y': 295065890413.7627,\n",
       "    'Z': 44259428094.80252},\n",
       "   'time': 86.0,\n",
       "   'copasi_floating_species_concentrations': {'LacI protein': 26806.761578891976,\n",
       "    'TetR protein': 12799.241397663662,\n",
       "    'cI protein': 8065.579567847947,\n",
       "    'LacI mRNA': 331.70714783734684,\n",
       "    'TetR mRNA': 149.16663814404941,\n",
       "    'cI mRNA': 156.5141028439719}},\n",
       "  {'floating_species_concentrations': {'PX': 1418799298249045.8,\n",
       "    'PY': 3010368566475105.0,\n",
       "    'PZ': 480736775731147.44,\n",
       "    'X': 239813633197.0069,\n",
       "    'Y': 503708911878.48737,\n",
       "    'Z': 75555559250.65219},\n",
       "   'time': 88.0,\n",
       "   'copasi_floating_species_concentrations': {'LacI protein': 27253.779360116387,\n",
       "    'TetR protein': 12890.804318556791,\n",
       "    'cI protein': 8630.45232840698,\n",
       "    'LacI mRNA': 332.61284267013656,\n",
       "    'TetR mRNA': 149.78464280021288,\n",
       "    'cI mRNA': 168.54435200480327}},\n",
       "  {'floating_species_concentrations': {'PX': 2743940416121441.0,\n",
       "    'PY': 5821986908250039.0,\n",
       "    'PZ': 929706817418357.8,\n",
       "    'X': 409387422129.4613,\n",
       "    'Y': 859884778811.3868,\n",
       "    'Z': 128981389493.26634},\n",
       "   'time': 90.0,\n",
       "   'copasi_floating_species_concentrations': {'LacI protein': 27676.497251452027,\n",
       "    'TetR protein': 12980.565328395493,\n",
       "    'cI protein': 9240.247656198379,\n",
       "    'LacI mRNA': 333.3952516315126,\n",
       "    'TetR mRNA': 150.46039565492075,\n",
       "    'cI mRNA': 181.21086776493786}}]}"
      ]
     },
     "execution_count": 12,
     "metadata": {},
     "output_type": "execute_result"
    }
   ],
   "execution_count": 12
  },
  {
   "metadata": {
    "ExecuteTime": {
     "end_time": "2024-06-12T19:01:23.881276Z",
     "start_time": "2024-06-12T19:01:23.879703Z"
    }
   },
   "cell_type": "code",
   "source": "from process_bigraph.experiments.parameter_scan import RunProcess",
   "id": "4bd375d09d6501ab",
   "outputs": [],
   "execution_count": 13
  },
  {
   "metadata": {
    "ExecuteTime": {
     "end_time": "2024-06-12T19:01:23.882898Z",
     "start_time": "2024-06-12T19:01:23.881830Z"
    }
   },
   "cell_type": "code",
   "source": "",
   "id": "48a9473d1d15e4de",
   "outputs": [],
   "execution_count": 13
  },
  {
   "metadata": {
    "ExecuteTime": {
     "end_time": "2024-06-12T19:01:24.009565Z",
     "start_time": "2024-06-12T19:01:23.883442Z"
    }
   },
   "cell_type": "code",
   "source": "tellurium_step.update({})",
   "id": "620ad213d2d8b454",
   "outputs": [
    {
     "ename": "NameError",
     "evalue": "name 'tellurium_step' is not defined",
     "output_type": "error",
     "traceback": [
      "\u001B[0;31m---------------------------------------------------------------------------\u001B[0m",
      "\u001B[0;31mNameError\u001B[0m                                 Traceback (most recent call last)",
      "Cell \u001B[0;32mIn[14], line 1\u001B[0m\n\u001B[0;32m----> 1\u001B[0m \u001B[43mtellurium_step\u001B[49m\u001B[38;5;241m.\u001B[39mupdate({})\n",
      "\u001B[0;31mNameError\u001B[0m: name 'tellurium_step' is not defined"
     ]
    }
   ],
   "execution_count": 14
  },
  {
   "metadata": {
    "ExecuteTime": {
     "end_time": "2024-06-12T20:54:04.582976Z",
     "start_time": "2024-06-12T20:54:03.586333Z"
    }
   },
   "cell_type": "code",
   "source": [
    "import tellurium as te \n",
    "\n",
    "model = \"\"\"\n",
    "model FitzHugh_Nagumo_ReactionNetwork\n",
    "  // Compartments and Species\n",
    "  compartment cell = 1;\n",
    "  species V in cell, W in cell;\n",
    "\n",
    "  // Parameters\n",
    "  const I = 0.5;  // External input current\n",
    "  const a = 0.7;  // Parameter a\n",
    "  const b = 0.8;  // Parameter b\n",
    "  const tau = 12.5;  // Time scale parameter\n",
    "\n",
    "  // Initial Conditions\n",
    "  V = -1.0;  // Initial membrane potential\n",
    "  W = 1.0;   // Initial recovery variable\n",
    "\n",
    "  // Reactions\n",
    "  J1: -> V; (V - (V^3 / 3) - W + I)\n",
    "  J2: -> W; (V + a - b * W) / tau\n",
    "\n",
    "end\n",
    "\"\"\"\n",
    "\n",
    "model = te.loada(model)"
   ],
   "id": "5ec906d3f7ad1aa7",
   "outputs": [],
   "execution_count": 2
  },
  {
   "metadata": {},
   "cell_type": "code",
   "outputs": [],
   "execution_count": null,
   "source": [
    "import tellurium as te \n",
    "\n",
    "\n",
    "izhikevich_model = \"\"\"\n",
    "model izhikevich_simple_model \n",
    "    compartment cell = 1;\n",
    "    species V in cell, W in cell;\n",
    "    \n",
    "    const a\n",
    "\n",
    "\"\"\""
   ],
   "id": "678530d69f235115"
  },
  {
   "metadata": {
    "ExecuteTime": {
     "end_time": "2024-06-12T20:55:54.055532Z",
     "start_time": "2024-06-12T20:55:54.024510Z"
    }
   },
   "cell_type": "code",
   "source": [
    "m = \"\"\"\n",
    "model FitzHugh_Nagumo_Bifurcation\n",
    "  // Compartments and Species\n",
    "  compartment cell = 1;\n",
    "  species V in cell, W in cell;\n",
    "\n",
    "  // Parameters\n",
    "  const a = 0.7;  // Parameter a\n",
    "  const b = 0.8;  // Parameter b\n",
    "  const tau = 12.5;  // Time scale parameter\n",
    "  I = 0.5;  // External input current\n",
    "\n",
    "  // Initial Conditions\n",
    "  V = -1.0;  // Initial membrane potential\n",
    "  W = 1.0;   // Initial recovery variable\n",
    "\n",
    "  // Reactions\n",
    "  J1: -> V; (V - (V^3 / 3) - W + I)\n",
    "  J2: -> W; (V + a - b * W) / tau\n",
    "\n",
    "end\n",
    "\"\"\"\n",
    "\n",
    "\n",
    "m = te.loada(m)"
   ],
   "id": "1d086d725daeeae6",
   "outputs": [],
   "execution_count": 5
  },
  {
   "metadata": {
    "ExecuteTime": {
     "end_time": "2024-06-12T20:46:26.067679Z",
     "start_time": "2024-06-12T20:46:26.063187Z"
    }
   },
   "cell_type": "code",
   "source": "p = '/Users/alex/Desktop/uchc_work/biosimulators-2.0/biosimulator-processes/test_suite/examples/sbml-core/BIOMD0000000020_url.xml'",
   "id": "d1a52ac1773d0257",
   "outputs": [],
   "execution_count": 22
  },
  {
   "metadata": {
    "ExecuteTime": {
     "end_time": "2024-06-12T20:52:08.031684Z",
     "start_time": "2024-06-12T20:52:08.025740Z"
    }
   },
   "cell_type": "code",
   "source": "model",
   "id": "765cc6fe5aed3d00",
   "outputs": [
    {
     "data": {
      "text/plain": [
       "<roadrunner.RoadRunner() { this = 0x600000958960 }>"
      ]
     },
     "execution_count": 2,
     "metadata": {},
     "output_type": "execute_result"
    }
   ],
   "execution_count": 2
  },
  {
   "metadata": {
    "ExecuteTime": {
     "end_time": "2024-06-12T20:56:08.669217Z",
     "start_time": "2024-06-12T20:56:08.610232Z"
    }
   },
   "cell_type": "code",
   "source": [
    "m.simulate(0, 100, 1000)\n",
    "m.plot()"
   ],
   "id": "37ef64d89dbf65e",
   "outputs": [
    {
     "data": {
      "text/plain": [
       "<Figure size 600x400 with 1 Axes>"
      ],
      "image/png": "[encoded data removed]"
     },
     "metadata": {},
     "output_type": "display_data"
    }
   ],
   "execution_count": 6
  },
  {
   "metadata": {
    "ExecuteTime": {
     "end_time": "2024-06-12T20:54:06.799991Z",
     "start_time": "2024-06-12T20:54:06.797361Z"
    }
   },
   "cell_type": "code",
   "source": "results = model.simulate(0, 10, 100)",
   "id": "68180f4f4177137",
   "outputs": [],
   "execution_count": 3
  },
  {
   "metadata": {
    "ExecuteTime": {
     "end_time": "2024-06-12T20:54:07.573474Z",
     "start_time": "2024-06-12T20:54:07.516321Z"
    }
   },
   "cell_type": "code",
   "source": "model.plot()",
   "id": "9d13fc6f20a456ef",
   "outputs": [
    {
     "data": {
      "text/plain": [
       "<Figure size 600x400 with 1 Axes>"
      ],
      "image/png": "[encoded data removed]"
     },
     "metadata": {},
     "output_type": "display_data"
    }
   ],
   "execution_count": 4
  },
  {
   "metadata": {},
   "cell_type": "code",
   "outputs": [],
   "execution_count": null,
   "source": "",
   "id": "c2e81282082c7edf"
  }
 ],
 "metadata": {
  "kernelspec": {
   "display_name": "Python 3",
   "language": "python",
   "name": "python3"
  },
  "language_info": {
   "codemirror_mode": {
    "name": "ipython",
    "version": 2
   },
   "file_extension": ".py",
   "mimetype": "text/x-python",
   "name": "python",
   "nbconvert_exporter": "python",
   "pygments_lexer": "ipython2",
   "version": "2.7.6"
  }
 },
 "nbformat": 4,
 "nbformat_minor": 5
}
