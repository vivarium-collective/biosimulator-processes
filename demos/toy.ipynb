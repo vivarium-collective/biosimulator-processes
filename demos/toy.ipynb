{
 "cells": [
  {
   "cell_type": "code",
   "id": "initial_id",
   "metadata": {
    "collapsed": true,
    "ExecuteTime": {
     "end_time": "2025-02-10T15:36:13.918998Z",
     "start_time": "2025-02-10T15:36:13.914403Z"
    }
   },
   "source": [
    "from typing import Any\n",
    "import numpy as np\n",
    "from process_bigraph import Process, Composite, ProcessTypes, pp\n",
    "\n",
    "\n",
    "class Toy(Process):\n",
    "    config_schema = {\n",
    "        'k': 'float'\n",
    "    }\n",
    "    def __init__(self, config: dict[str, Any] = None, core: ProcessTypes = None) -> None:\n",
    "        super().__init__(config, core)\n",
    "        self.k = self.config['k']\n",
    "\n",
    "    def initial_state(self):\n",
    "        return {\n",
    "            'x': self.k,\n",
    "            'y': self.k**self.k\n",
    "        }\n",
    "\n",
    "    def inputs(self):\n",
    "        return {\n",
    "            'x': 'float'\n",
    "        }\n",
    "\n",
    "    def outputs(self):\n",
    "        return {\n",
    "            'x': 'float',\n",
    "            'y': 'float'\n",
    "        }\n",
    "\n",
    "    def update(self, state, interval):\n",
    "        x = state['x'] * self.k\n",
    "        return {\n",
    "            'x': x,\n",
    "            'y': x**x\n",
    "        }"
   ],
   "outputs": [],
   "execution_count": 27
  },
  {
   "metadata": {
    "ExecuteTime": {
     "end_time": "2025-02-10T15:36:14.375557Z",
     "start_time": "2025-02-10T15:36:14.373153Z"
    }
   },
   "cell_type": "code",
   "source": [
    "from bsp import app_registrar\n",
    "\n",
    "app_registrar.core.register_process('toy', Toy)"
   ],
   "id": "c8fec44ecd8731d3",
   "outputs": [],
   "execution_count": 28
  },
  {
   "metadata": {
    "ExecuteTime": {
     "end_time": "2025-02-10T15:36:14.628594Z",
     "start_time": "2025-02-10T15:36:14.626066Z"
    }
   },
   "cell_type": "code",
   "source": [
    "config = {\n",
    "    'k': 0.35\n",
    "}\n",
    "\n",
    "state = {\n",
    "    'toy': {\n",
    "        '_type': 'process',\n",
    "        'address': 'local:toy',\n",
    "        'config': config,\n",
    "        'inputs': {\n",
    "            'x': ['x_store'],\n",
    "        },\n",
    "        'outputs': {\n",
    "            'x': ['x_store'],\n",
    "            'y': ['y_store'],\n",
    "        }\n",
    "    },\n",
    "    'emitter': {\n",
    "        '_type': 'step',\n",
    "        'address': 'local:ram-emitter',\n",
    "        'config': {\n",
    "            'emit': {\n",
    "                'x': 'float',\n",
    "                'y': 'float',\n",
    "            }\n",
    "        },\n",
    "        'inputs': {\n",
    "            'x': ['x_store'],\n",
    "            'y': ['y_store'],\n",
    "        }\n",
    "    }\n",
    "}"
   ],
   "id": "b03cc61d9db6e159",
   "outputs": [],
   "execution_count": 29
  },
  {
   "metadata": {
    "ExecuteTime": {
     "end_time": "2025-02-10T15:36:15.319385Z",
     "start_time": "2025-02-10T15:36:15.315245Z"
    }
   },
   "cell_type": "code",
   "source": "sim = Composite(config={'state': state}, core=app_registrar.core)",
   "id": "69e2f1936ae9b032",
   "outputs": [],
   "execution_count": 30
  },
  {
   "metadata": {
    "ExecuteTime": {
     "end_time": "2025-02-10T15:36:16.005926Z",
     "start_time": "2025-02-10T15:36:16.001465Z"
    }
   },
   "cell_type": "code",
   "source": "sim.run(10)",
   "id": "76985eb4e8f3b64e",
   "outputs": [],
   "execution_count": 31
  },
  {
   "metadata": {
    "ExecuteTime": {
     "end_time": "2025-02-10T15:36:23.498128Z",
     "start_time": "2025-02-10T15:36:23.495721Z"
    }
   },
   "cell_type": "code",
   "source": "results = sim.gather_results()",
   "id": "152fe8e49ee470cd",
   "outputs": [],
   "execution_count": 32
  },
  {
   "metadata": {
    "ExecuteTime": {
     "end_time": "2025-02-10T15:36:26.300319Z",
     "start_time": "2025-02-10T15:36:26.297427Z"
    }
   },
   "cell_type": "code",
   "source": "pp(results)",
   "id": "2acf392d0e43aea3",
   "outputs": [
    {
     "name": "stdout",
     "output_type": "stream",
     "text": [
      "{ ('emitter',): [ {'x': 0.35, 'y': 0.6925064384421088},\n",
      "                  {'x': 0.4725, 'y': 1.4657150296277588},\n",
      "                  {'x': 0.637875, 'y': 2.208314187919128},\n",
      "                  {'x': 0.8611312499999999, 'y': 2.9238252284962183},\n",
      "                  {'x': 1.1625271874999998, 'y': 3.62047440265183},\n",
      "                  {'x': 1.5694117031249997, 'y': 4.31405967575313},\n",
      "                  {'x': 2.1187057992187492, 'y': 5.033635203474405},\n",
      "                  {'x': 2.8602528289453115, 'y': 5.834762885376529},\n",
      "                  {'x': 3.8613413190761703, 'y': 6.835852560963448},\n",
      "                  {'x': 5.21281078075283, 'y': 8.338235469258873},\n",
      "                  {'x': 7.03729455401632, 'y': 11.333572543663768}]}\n"
     ]
    }
   ],
   "execution_count": 33
  },
  {
   "metadata": {},
   "cell_type": "code",
   "outputs": [],
   "execution_count": null,
   "source": "",
   "id": "911447c4c61b95ef"
  }
 ],
 "metadata": {
  "kernelspec": {
   "display_name": "bsp(conda)",
   "language": "python",
   "name": "bsp"
  },
  "language_info": {
   "codemirror_mode": {
    "name": "ipython",
    "version": 2
   },
   "file_extension": ".py",
   "mimetype": "text/x-python",
   "name": "python",
   "nbconvert_exporter": "python",
   "pygments_lexer": "ipython2",
   "version": "2.7.6"
  }
 },
 "nbformat": 4,
 "nbformat_minor": 5
}
