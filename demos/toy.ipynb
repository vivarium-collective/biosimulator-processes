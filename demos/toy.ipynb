{
 "cells": [
  {
   "metadata": {},
   "cell_type": "markdown",
   "source": [
    "### First, implement the `process_bigraph.Process` interface.\n",
    "This interface requires the following methods:\n",
    "\n",
    "- `inputs() -> Dict(InputPortSchema)`: define the input port type schemas using the Bigraph Schema type system. You may also create and register custom types, which is not shown for the sake of simplicity.\n",
    "- `outputs() -> Dict(OutputPortSchema)`: define the output port type schemas using the Bigraph Schema type system. You may also create and register custom types, which is not shown for the sake of simplicity.\n",
    "- `update(state: Dict(InputDict), interval: float) -> Dict(OutputDict)`: define the callback to be used to generate the data specified by the `outputs()` method.\n",
    "- `initial_state() -> OutputDict`: **for processes only**: define the data to be used at iteration 0, which will be used in the update method.\n",
    "\n",
    "We can think of the dictionaries returned by these methods as Input and Output port schemas, whose structures are specified in `inputs()` and `outputs()`. The `update()` method returns the actual data specified by the aforementioned methods."
   ],
   "id": "bb581312ebd76845"
  },
  {
   "metadata": {
    "ExecuteTime": {
     "end_time": "2025-02-11T14:18:32.186693Z",
     "start_time": "2025-02-11T14:18:32.183483Z"
    }
   },
   "cell_type": "code",
   "source": [
    "class StateData(dict):\n",
    "    def __new__(cls, *args, **kwargs):\n",
    "        return super(StateData, cls).__new__(cls, *args, **kwargs)\n",
    "\n",
    "class PortSchema(dict):\n",
    "    def __new__(cls, *args, **kwargs):\n",
    "        return super(PortSchema, cls).__new__(cls, *args, **kwargs)\n",
    "\n",
    "\n",
    "class InputPortSchema(PortSchema):\n",
    "    pass\n",
    "\n",
    "\n",
    "class OutputPortSchema(PortSchema):\n",
    "    pass\n"
   ],
   "id": "63d10d40b0390350",
   "outputs": [],
   "execution_count": 12
  },
  {
   "cell_type": "code",
   "id": "initial_id",
   "metadata": {
    "collapsed": true,
    "ExecuteTime": {
     "end_time": "2025-02-11T14:20:26.397368Z",
     "start_time": "2025-02-11T14:20:26.392532Z"
    }
   },
   "source": [
    "from typing import Any\n",
    "import numpy as np\n",
    "from process_bigraph import Process, Composite, ProcessTypes, pp\n",
    "\n",
    "\n",
    "class Toy(Process):\n",
    "    config_schema = {\n",
    "        'k': 'float'\n",
    "    }\n",
    "    def __init__(self, config: dict[str, Any] = None, core: ProcessTypes = None) -> None:\n",
    "        super().__init__(config, core)\n",
    "        self.k = self.config['k']\n",
    "\n",
    "    def initial_state(self) -> StateData:\n",
    "        return StateData(\n",
    "            x=self.k,\n",
    "            y=self.k**self.k\n",
    "        )\n",
    "\n",
    "    def inputs(self) -> InputPortSchema:\n",
    "        return InputPortSchema(\n",
    "            x='float'\n",
    "        )\n",
    "\n",
    "    def outputs(self) -> OutputPortSchema:\n",
    "        return OutputPortSchema(\n",
    "            x='float',\n",
    "            y='float'\n",
    "        )\n",
    "\n",
    "    def update(self, state, interval) -> StateData:\n",
    "        x = state['x'] * self.k\n",
    "        return StateData({\n",
    "            'x': x,\n",
    "            'y': x**x\n",
    "        })"
   ],
   "outputs": [],
   "execution_count": 13
  },
  {
   "metadata": {},
   "cell_type": "markdown",
   "source": "### Register the newly created process with the app-specific `ProcessTypes()` singleton; in this case which is stored in `app_registrar`. **This is the only way that the `Composite` instance (which runs the simulation) will know how to appropriately reference the pointers required.",
   "id": "dc8c3cb1399896a8"
  },
  {
   "metadata": {
    "ExecuteTime": {
     "end_time": "2025-02-11T14:22:42.709946Z",
     "start_time": "2025-02-11T14:22:41.336792Z"
    }
   },
   "cell_type": "code",
   "source": [
    "from bsp import app_registrar\n",
    "\n",
    "app_registrar.core.register_process('toy', Toy)"
   ],
   "id": "c8fec44ecd8731d3",
   "outputs": [
    {
     "name": "stdout",
     "output_type": "stream",
     "text": [
      "Registered module DatabaseConfig\n",
      "Registered module GeometryConfig\n",
      "Registered module MeshFileConfig\n",
      "Registered module ParametersConfig\n",
      "Registered module OsmoticModelConfig\n",
      "Registered module SBMLFileCobraConfig\n",
      "Registered module SBMLModelChangesConfig\n",
      "Registered module SBMLModelConfig\n",
      "Registered module TimeCourseConfig\n",
      "Registered module TensionModelConfig\n",
      "Registered module SedModelConfig\n",
      "Registered module BoundsType\n",
      "Registered module PositiveFloatType\n",
      "Registered module MechanicalForcesType\n",
      "Registered module ProteinDensityType\n",
      "Registered module GeometryType\n",
      "Registered module VelocitiesType\n",
      "Registered module OsmoticParametersType\n",
      "Registered module SurfaceTensionParametersType\n",
      "Registered module ParticleType\n",
      "Successfully registered <class 'bsp.processes.cobra_process.CobraProcess'> to cobra-process\n",
      "Successfully registered <class 'bsp.processes.cobra_process.SedCobraProcess'> to sed-cobra-process\n",
      "Successfully registered <class 'bsp.processes.cobra_process.DynamicFBA'> to dynamic-fba\n",
      "Successfully registered <class 'bsp.processes.copasi_process.CopasiProcess'> to copasi-process\n",
      "Successfully registered <class 'bsp.processes.copasi_process.SedCopasiProcess'> to sed-copasi-process\n",
      "Successfully registered <class 'bsp.processes.simple_membrane_process.SimpleMembraneProcess'> to simple-membrane-process\n",
      "Successfully registered <class 'bsp.processes.smoldyn_process.SmoldynProcess'> to smoldyn-process\n",
      "Cannot register TelluriumProcess. Error:\n",
      "**\n",
      "No module named 'tellurium'\n",
      "**\n"
     ]
    }
   ],
   "execution_count": 14
  },
  {
   "metadata": {
    "ExecuteTime": {
     "end_time": "2025-02-11T14:22:50.337859Z",
     "start_time": "2025-02-11T14:22:50.333609Z"
    }
   },
   "cell_type": "code",
   "source": [
    "config = {\n",
    "    'k': 0.35\n",
    "}\n",
    "\n",
    "state = {\n",
    "    'toy': {\n",
    "        '_type': 'process',\n",
    "        'address': 'local:toy',\n",
    "        'config': config,\n",
    "        'inputs': {\n",
    "            'x': ['x_store'],\n",
    "        },\n",
    "        'outputs': {\n",
    "            'x': ['x_store'],\n",
    "            'y': ['y_store'],\n",
    "        }\n",
    "    },\n",
    "    'emitter': {\n",
    "        '_type': 'step',\n",
    "        'address': 'local:ram-emitter',\n",
    "        'config': {\n",
    "            'emit': {\n",
    "                'x': 'float',\n",
    "                'y': 'float',\n",
    "            }\n",
    "        },\n",
    "        'inputs': {\n",
    "            'x': ['x_store'],\n",
    "            'y': ['y_store'],\n",
    "        }\n",
    "    }\n",
    "}"
   ],
   "id": "b03cc61d9db6e159",
   "outputs": [],
   "execution_count": 15
  },
  {
   "metadata": {},
   "cell_type": "markdown",
   "source": "### Instantiate a `Composite` using the spec you just defined, and then run it. In this case the duration you specified will be parsed iteratively as a monotonically increasing range.",
   "id": "a6c070926cef2fcf"
  },
  {
   "metadata": {
    "ExecuteTime": {
     "end_time": "2025-02-11T14:24:10.576064Z",
     "start_time": "2025-02-11T14:24:10.570539Z"
    }
   },
   "cell_type": "code",
   "source": "sim = Composite(config={'state': state}, core=app_registrar.core)",
   "id": "69e2f1936ae9b032",
   "outputs": [],
   "execution_count": 16
  },
  {
   "metadata": {
    "ExecuteTime": {
     "end_time": "2025-02-11T14:24:11.882471Z",
     "start_time": "2025-02-11T14:24:11.877930Z"
    }
   },
   "cell_type": "code",
   "source": "sim.run(10)",
   "id": "76985eb4e8f3b64e",
   "outputs": [],
   "execution_count": 17
  },
  {
   "metadata": {},
   "cell_type": "markdown",
   "source": "### Gather the results",
   "id": "71f36de875af2057"
  },
  {
   "metadata": {
    "ExecuteTime": {
     "end_time": "2025-02-11T14:24:24.250648Z",
     "start_time": "2025-02-11T14:24:24.247901Z"
    }
   },
   "cell_type": "code",
   "source": "results = sim.gather_results()",
   "id": "152fe8e49ee470cd",
   "outputs": [],
   "execution_count": 18
  },
  {
   "metadata": {
    "ExecuteTime": {
     "end_time": "2025-02-11T14:24:25.062841Z",
     "start_time": "2025-02-11T14:24:25.059756Z"
    }
   },
   "cell_type": "code",
   "source": "pp(results)",
   "id": "2acf392d0e43aea3",
   "outputs": [
    {
     "name": "stdout",
     "output_type": "stream",
     "text": [
      "{ ('emitter',): [ {'x': 0.35, 'y': 0.6925064384421088},\n",
      "                  {'x': 0.4725, 'y': 1.4657150296277588},\n",
      "                  {'x': 0.637875, 'y': 2.208314187919128},\n",
      "                  {'x': 0.8611312499999999, 'y': 2.9238252284962183},\n",
      "                  {'x': 1.1625271874999998, 'y': 3.62047440265183},\n",
      "                  {'x': 1.5694117031249997, 'y': 4.31405967575313},\n",
      "                  {'x': 2.1187057992187492, 'y': 5.033635203474405},\n",
      "                  {'x': 2.8602528289453115, 'y': 5.834762885376529},\n",
      "                  {'x': 3.8613413190761703, 'y': 6.835852560963448},\n",
      "                  {'x': 5.21281078075283, 'y': 8.338235469258873},\n",
      "                  {'x': 7.03729455401632, 'y': 11.333572543663768}]}\n"
     ]
    }
   ],
   "execution_count": 19
  },
  {
   "metadata": {},
   "cell_type": "code",
   "outputs": [],
   "execution_count": null,
   "source": "",
   "id": "911447c4c61b95ef"
  }
 ],
 "metadata": {
  "kernelspec": {
   "display_name": "bsp(conda)",
   "language": "python",
   "name": "bsp"
  },
  "language_info": {
   "codemirror_mode": {
    "name": "ipython",
    "version": 2
   },
   "file_extension": ".py",
   "mimetype": "text/x-python",
   "name": "python",
   "nbconvert_exporter": "python",
   "pygments_lexer": "ipython2",
   "version": "2.7.6"
  }
 },
 "nbformat": 4,
 "nbformat_minor": 5
}
