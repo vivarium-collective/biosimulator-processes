{
 "cells": [
  {
   "cell_type": "code",
   "id": "initial_id",
   "metadata": {
    "collapsed": true,
    "ExecuteTime": {
     "end_time": "2024-05-20T22:38:06.883218Z",
     "start_time": "2024-05-20T22:38:05.406193Z"
    }
   },
   "source": [
    "import sys\n",
    "\n",
    "import numpy as np\n",
    "from process_bigraph import pp\n",
    "\n",
    "\n",
    "sys.path.insert(0, '..')\n",
    "\n",
    "\n",
    "from biosimulator_processes.services.rest_service import BiosimulationsRestService"
   ],
   "outputs": [
    {
     "name": "stderr",
     "output_type": "stream",
     "text": [
      "/Users/alexanderpatrie/Library/Caches/pypoetry/virtualenvs/biosimulator-processes-JaN5cQMh-py3.10/lib/python3.10/site-packages/tqdm/auto.py:21: TqdmWarning: IProgress not found. Please update jupyter and ipywidgets. See https://ipywidgets.readthedocs.io/en/stable/user_install.html\n",
      "  from .autonotebook import tqdm as notebook_tqdm\n"
     ]
    },
    {
     "name": "stdout",
     "output_type": "stream",
     "text": [
      "CobraProcess registered successfully.\n",
      "CopasiProcess registered successfully.\n",
      "_CopasiProcess registered successfully.\n",
      "SmoldynProcess registered successfully.\n",
      "TelluriumProcess registered successfully.\n",
      "AmiciProcess registered successfully.\n",
      "ODEComparatorProcess not available. Error: cannot import name 'fetch_sbml_file' from 'biosimulator_processes.io' (/Users/alexanderpatrie/Desktop/repos/biosimulator-processes/demos/../biosimulator_processes/io.py)\n",
      "GetSbmlStep not available. Error: cannot import name 'fetch_sbml_file' from 'biosimulator_processes.io' (/Users/alexanderpatrie/Desktop/repos/biosimulator-processes/demos/../biosimulator_processes/io.py)\n",
      "CompositionPlotter registered successfully.\n",
      "Plotter2d registered successfully.\n",
      "ODEComparatorStep registered successfully.\n"
     ]
    }
   ],
   "execution_count": 1
  },
  {
   "metadata": {
    "ExecuteTime": {
     "end_time": "2024-05-20T22:38:08.575779Z",
     "start_time": "2024-05-20T22:38:06.884336Z"
    }
   },
   "cell_type": "code",
   "source": [
    "repressilator_run_id = \"61fea4a08c1e3dc95a79802e\"\n",
    "\n",
    "query = \"tumor\"\n",
    "\n",
    "result = await BiosimulationsRestService().extract_data(query)"
   ],
   "id": "792b41d7a7b6007",
   "outputs": [
    {
     "ename": "ValueError",
     "evalue": "invalid literal for int() with base 10: ''",
     "output_type": "error",
     "traceback": [
      "\u001B[0;31m---------------------------------------------------------------------------\u001B[0m",
      "\u001B[0;31mValueError\u001B[0m                                Traceback (most recent call last)",
      "Cell \u001B[0;32mIn[2], line 5\u001B[0m\n\u001B[1;32m      1\u001B[0m repressilator_run_id \u001B[38;5;241m=\u001B[39m \u001B[38;5;124m\"\u001B[39m\u001B[38;5;124m61fea4a08c1e3dc95a79802e\u001B[39m\u001B[38;5;124m\"\u001B[39m\n\u001B[1;32m      3\u001B[0m query \u001B[38;5;241m=\u001B[39m \u001B[38;5;124m\"\u001B[39m\u001B[38;5;124mtumor\u001B[39m\u001B[38;5;124m\"\u001B[39m\n\u001B[0;32m----> 5\u001B[0m result \u001B[38;5;241m=\u001B[39m \u001B[38;5;28;01mawait\u001B[39;00m BiosimulationsRestService()\u001B[38;5;241m.\u001B[39mextract_data(query)\n",
      "File \u001B[0;32m~/Desktop/repos/biosimulator-processes/demos/../biosimulator_processes/services/rest_service.py:69\u001B[0m, in \u001B[0;36mBiosimulationsRestService.extract_data\u001B[0;34m(cls, query, save_dir)\u001B[0m\n\u001B[1;32m     66\u001B[0m \u001B[38;5;129m@classmethod\u001B[39m\n\u001B[1;32m     67\u001B[0m \u001B[38;5;28;01masync\u001B[39;00m \u001B[38;5;28;01mdef\u001B[39;00m \u001B[38;5;21mextract_data\u001B[39m(\u001B[38;5;28mcls\u001B[39m, query: \u001B[38;5;28mstr\u001B[39m, save_dir\u001B[38;5;241m=\u001B[39m\u001B[38;5;28;01mNone\u001B[39;00m) \u001B[38;5;241m-\u001B[39m\u001B[38;5;241m>\u001B[39m \u001B[38;5;28mstr\u001B[39m:\n\u001B[1;32m     68\u001B[0m \u001B[38;5;250m    \u001B[39m\u001B[38;5;124;03m\"\"\"Return a string representation sbml model from the given query\"\"\"\u001B[39;00m\n\u001B[0;32m---> 69\u001B[0m     archive_files \u001B[38;5;241m=\u001B[39m \u001B[38;5;28;01mawait\u001B[39;00m \u001B[38;5;28mcls\u001B[39m\u001B[38;5;241m.\u001B[39mfetch_files(query)\n\u001B[1;32m     70\u001B[0m     get_file_url \u001B[38;5;241m=\u001B[39m \u001B[38;5;124mf\u001B[39m\u001B[38;5;124m'\u001B[39m\u001B[38;5;124mhttps://api.biosimulations.dev/files/\u001B[39m\u001B[38;5;132;01m{\u001B[39;00marchive_files\u001B[38;5;241m.\u001B[39mrun_id\u001B[38;5;132;01m}\u001B[39;00m\u001B[38;5;124m'\u001B[39m\n\u001B[1;32m     72\u001B[0m     model_file_location \u001B[38;5;241m=\u001B[39m [file[\u001B[38;5;124m'\u001B[39m\u001B[38;5;124mlocation\u001B[39m\u001B[38;5;124m'\u001B[39m] \u001B[38;5;28;01mfor\u001B[39;00m file \u001B[38;5;129;01min\u001B[39;00m archive_files\u001B[38;5;241m.\u001B[39mfiles \u001B[38;5;28;01mif\u001B[39;00m file[\u001B[38;5;124m'\u001B[39m\u001B[38;5;124mlocation\u001B[39m\u001B[38;5;124m'\u001B[39m]\u001B[38;5;241m.\u001B[39mendswith(\u001B[38;5;124m'\u001B[39m\u001B[38;5;124m.xml\u001B[39m\u001B[38;5;124m'\u001B[39m)]\u001B[38;5;241m.\u001B[39mpop()\n",
      "File \u001B[0;32m~/Desktop/repos/biosimulator-processes/demos/../biosimulator_processes/services/rest_service.py:59\u001B[0m, in \u001B[0;36mBiosimulationsRestService.fetch_files\u001B[0;34m(cls, query)\u001B[0m\n\u001B[1;32m     56\u001B[0m query_results \u001B[38;5;241m=\u001B[39m archive_query\u001B[38;5;241m.\u001B[39mproject_ids\n\u001B[1;32m     58\u001B[0m options_menu \u001B[38;5;241m=\u001B[39m \u001B[38;5;28mdict\u001B[39m(\u001B[38;5;28mzip\u001B[39m(\u001B[38;5;28mlist\u001B[39m(\u001B[38;5;28mrange\u001B[39m(\u001B[38;5;28mlen\u001B[39m(query_results))), query_results))\n\u001B[0;32m---> 59\u001B[0m user_selection \u001B[38;5;241m=\u001B[39m \u001B[38;5;28;43mint\u001B[39;49m\u001B[43m(\u001B[49m\u001B[38;5;28;43minput\u001B[39;49m\u001B[43m(\u001B[49m\u001B[38;5;124;43mf\u001B[39;49m\u001B[38;5;124;43m'\u001B[39;49m\u001B[38;5;124;43mPlease enter your archive selection:\u001B[39;49m\u001B[38;5;130;43;01m\\n\u001B[39;49;00m\u001B[38;5;132;43;01m{\u001B[39;49;00m\u001B[43mpf\u001B[49m\u001B[43m(\u001B[49m\u001B[43moptions_menu\u001B[49m\u001B[43m)\u001B[49m\u001B[38;5;132;43;01m}\u001B[39;49;00m\u001B[38;5;124;43m'\u001B[39;49m\u001B[43m)\u001B[49m\u001B[43m)\u001B[49m\n\u001B[1;32m     61\u001B[0m selected_project_id \u001B[38;5;241m=\u001B[39m options_menu[user_selection]\n\u001B[1;32m     62\u001B[0m simulation_run_id \u001B[38;5;241m=\u001B[39m archive_query\u001B[38;5;241m.\u001B[39mproject_data[selected_project_id][\u001B[38;5;124m'\u001B[39m\u001B[38;5;124msimulationRun\u001B[39m\u001B[38;5;124m'\u001B[39m]\n",
      "\u001B[0;31mValueError\u001B[0m: invalid literal for int() with base 10: ''"
     ]
    }
   ],
   "execution_count": 2
  },
  {
   "metadata": {
    "ExecuteTime": {
     "end_time": "2024-05-20T22:38:10.831404Z",
     "start_time": "2024-05-20T22:38:10.300795Z"
    }
   },
   "cell_type": "code",
   "source": [
    "import requests\n",
    "get_files_url = f'https://api.biosimulations.dev/results/{repressilator_run_id}/download'\n",
    "headers = {'accept': 'application/json'}\n",
    "files_resp = requests.get(get_files_url, headers=headers)"
   ],
   "id": "43e85b4f535dd796",
   "outputs": [],
   "execution_count": 3
  },
  {
   "metadata": {
    "ExecuteTime": {
     "end_time": "2024-05-20T22:38:11.144068Z",
     "start_time": "2024-05-20T22:38:10.832749Z"
    }
   },
   "cell_type": "code",
   "source": "files_resp.json()",
   "id": "a5c17e52eafdec21",
   "outputs": [
    {
     "ename": "JSONDecodeError",
     "evalue": "Expecting value: line 1 column 1 (char 0)",
     "output_type": "error",
     "traceback": [
      "\u001B[0;31m---------------------------------------------------------------------------\u001B[0m",
      "\u001B[0;31mJSONDecodeError\u001B[0m                           Traceback (most recent call last)",
      "File \u001B[0;32m~/Library/Caches/pypoetry/virtualenvs/biosimulator-processes-JaN5cQMh-py3.10/lib/python3.10/site-packages/requests/models.py:971\u001B[0m, in \u001B[0;36mResponse.json\u001B[0;34m(self, **kwargs)\u001B[0m\n\u001B[1;32m    970\u001B[0m \u001B[38;5;28;01mtry\u001B[39;00m:\n\u001B[0;32m--> 971\u001B[0m     \u001B[38;5;28;01mreturn\u001B[39;00m \u001B[43mcomplexjson\u001B[49m\u001B[38;5;241;43m.\u001B[39;49m\u001B[43mloads\u001B[49m\u001B[43m(\u001B[49m\u001B[38;5;28;43mself\u001B[39;49m\u001B[38;5;241;43m.\u001B[39;49m\u001B[43mtext\u001B[49m\u001B[43m,\u001B[49m\u001B[43m \u001B[49m\u001B[38;5;241;43m*\u001B[39;49m\u001B[38;5;241;43m*\u001B[39;49m\u001B[43mkwargs\u001B[49m\u001B[43m)\u001B[49m\n\u001B[1;32m    972\u001B[0m \u001B[38;5;28;01mexcept\u001B[39;00m JSONDecodeError \u001B[38;5;28;01mas\u001B[39;00m e:\n\u001B[1;32m    973\u001B[0m     \u001B[38;5;66;03m# Catch JSON-related errors and raise as requests.JSONDecodeError\u001B[39;00m\n\u001B[1;32m    974\u001B[0m     \u001B[38;5;66;03m# This aliases json.JSONDecodeError and simplejson.JSONDecodeError\u001B[39;00m\n",
      "File \u001B[0;32m~/Library/Caches/pypoetry/virtualenvs/biosimulator-processes-JaN5cQMh-py3.10/lib/python3.10/site-packages/simplejson/__init__.py:514\u001B[0m, in \u001B[0;36mloads\u001B[0;34m(s, encoding, cls, object_hook, parse_float, parse_int, parse_constant, object_pairs_hook, use_decimal, allow_nan, **kw)\u001B[0m\n\u001B[1;32m    510\u001B[0m \u001B[38;5;28;01mif\u001B[39;00m (\u001B[38;5;28mcls\u001B[39m \u001B[38;5;129;01mis\u001B[39;00m \u001B[38;5;28;01mNone\u001B[39;00m \u001B[38;5;129;01mand\u001B[39;00m encoding \u001B[38;5;129;01mis\u001B[39;00m \u001B[38;5;28;01mNone\u001B[39;00m \u001B[38;5;129;01mand\u001B[39;00m object_hook \u001B[38;5;129;01mis\u001B[39;00m \u001B[38;5;28;01mNone\u001B[39;00m \u001B[38;5;129;01mand\u001B[39;00m\n\u001B[1;32m    511\u001B[0m         parse_int \u001B[38;5;129;01mis\u001B[39;00m \u001B[38;5;28;01mNone\u001B[39;00m \u001B[38;5;129;01mand\u001B[39;00m parse_float \u001B[38;5;129;01mis\u001B[39;00m \u001B[38;5;28;01mNone\u001B[39;00m \u001B[38;5;129;01mand\u001B[39;00m\n\u001B[1;32m    512\u001B[0m         parse_constant \u001B[38;5;129;01mis\u001B[39;00m \u001B[38;5;28;01mNone\u001B[39;00m \u001B[38;5;129;01mand\u001B[39;00m object_pairs_hook \u001B[38;5;129;01mis\u001B[39;00m \u001B[38;5;28;01mNone\u001B[39;00m\n\u001B[1;32m    513\u001B[0m         \u001B[38;5;129;01mand\u001B[39;00m \u001B[38;5;129;01mnot\u001B[39;00m use_decimal \u001B[38;5;129;01mand\u001B[39;00m \u001B[38;5;129;01mnot\u001B[39;00m allow_nan \u001B[38;5;129;01mand\u001B[39;00m \u001B[38;5;129;01mnot\u001B[39;00m kw):\n\u001B[0;32m--> 514\u001B[0m     \u001B[38;5;28;01mreturn\u001B[39;00m \u001B[43m_default_decoder\u001B[49m\u001B[38;5;241;43m.\u001B[39;49m\u001B[43mdecode\u001B[49m\u001B[43m(\u001B[49m\u001B[43ms\u001B[49m\u001B[43m)\u001B[49m\n\u001B[1;32m    515\u001B[0m \u001B[38;5;28;01mif\u001B[39;00m \u001B[38;5;28mcls\u001B[39m \u001B[38;5;129;01mis\u001B[39;00m \u001B[38;5;28;01mNone\u001B[39;00m:\n",
      "File \u001B[0;32m~/Library/Caches/pypoetry/virtualenvs/biosimulator-processes-JaN5cQMh-py3.10/lib/python3.10/site-packages/simplejson/decoder.py:386\u001B[0m, in \u001B[0;36mJSONDecoder.decode\u001B[0;34m(self, s, _w, _PY3)\u001B[0m\n\u001B[1;32m    385\u001B[0m     s \u001B[38;5;241m=\u001B[39m \u001B[38;5;28mstr\u001B[39m(s, \u001B[38;5;28mself\u001B[39m\u001B[38;5;241m.\u001B[39mencoding)\n\u001B[0;32m--> 386\u001B[0m obj, end \u001B[38;5;241m=\u001B[39m \u001B[38;5;28;43mself\u001B[39;49m\u001B[38;5;241;43m.\u001B[39;49m\u001B[43mraw_decode\u001B[49m\u001B[43m(\u001B[49m\u001B[43ms\u001B[49m\u001B[43m)\u001B[49m\n\u001B[1;32m    387\u001B[0m end \u001B[38;5;241m=\u001B[39m _w(s, end)\u001B[38;5;241m.\u001B[39mend()\n",
      "File \u001B[0;32m~/Library/Caches/pypoetry/virtualenvs/biosimulator-processes-JaN5cQMh-py3.10/lib/python3.10/site-packages/simplejson/decoder.py:416\u001B[0m, in \u001B[0;36mJSONDecoder.raw_decode\u001B[0;34m(self, s, idx, _w, _PY3)\u001B[0m\n\u001B[1;32m    415\u001B[0m         idx \u001B[38;5;241m+\u001B[39m\u001B[38;5;241m=\u001B[39m \u001B[38;5;241m3\u001B[39m\n\u001B[0;32m--> 416\u001B[0m \u001B[38;5;28;01mreturn\u001B[39;00m \u001B[38;5;28;43mself\u001B[39;49m\u001B[38;5;241;43m.\u001B[39;49m\u001B[43mscan_once\u001B[49m\u001B[43m(\u001B[49m\u001B[43ms\u001B[49m\u001B[43m,\u001B[49m\u001B[43m \u001B[49m\u001B[43midx\u001B[49m\u001B[38;5;241;43m=\u001B[39;49m\u001B[43m_w\u001B[49m\u001B[43m(\u001B[49m\u001B[43ms\u001B[49m\u001B[43m,\u001B[49m\u001B[43m \u001B[49m\u001B[43midx\u001B[49m\u001B[43m)\u001B[49m\u001B[38;5;241;43m.\u001B[39;49m\u001B[43mend\u001B[49m\u001B[43m(\u001B[49m\u001B[43m)\u001B[49m\u001B[43m)\u001B[49m\n",
      "\u001B[0;31mJSONDecodeError\u001B[0m: Expecting value: line 1 column 1 (char 0)",
      "\nDuring handling of the above exception, another exception occurred:\n",
      "\u001B[0;31mJSONDecodeError\u001B[0m                           Traceback (most recent call last)",
      "Cell \u001B[0;32mIn[4], line 1\u001B[0m\n\u001B[0;32m----> 1\u001B[0m \u001B[43mfiles_resp\u001B[49m\u001B[38;5;241;43m.\u001B[39;49m\u001B[43mjson\u001B[49m\u001B[43m(\u001B[49m\u001B[43m)\u001B[49m\n",
      "File \u001B[0;32m~/Library/Caches/pypoetry/virtualenvs/biosimulator-processes-JaN5cQMh-py3.10/lib/python3.10/site-packages/requests/models.py:975\u001B[0m, in \u001B[0;36mResponse.json\u001B[0;34m(self, **kwargs)\u001B[0m\n\u001B[1;32m    971\u001B[0m     \u001B[38;5;28;01mreturn\u001B[39;00m complexjson\u001B[38;5;241m.\u001B[39mloads(\u001B[38;5;28mself\u001B[39m\u001B[38;5;241m.\u001B[39mtext, \u001B[38;5;241m*\u001B[39m\u001B[38;5;241m*\u001B[39mkwargs)\n\u001B[1;32m    972\u001B[0m \u001B[38;5;28;01mexcept\u001B[39;00m JSONDecodeError \u001B[38;5;28;01mas\u001B[39;00m e:\n\u001B[1;32m    973\u001B[0m     \u001B[38;5;66;03m# Catch JSON-related errors and raise as requests.JSONDecodeError\u001B[39;00m\n\u001B[1;32m    974\u001B[0m     \u001B[38;5;66;03m# This aliases json.JSONDecodeError and simplejson.JSONDecodeError\u001B[39;00m\n\u001B[0;32m--> 975\u001B[0m     \u001B[38;5;28;01mraise\u001B[39;00m RequestsJSONDecodeError(e\u001B[38;5;241m.\u001B[39mmsg, e\u001B[38;5;241m.\u001B[39mdoc, e\u001B[38;5;241m.\u001B[39mpos)\n",
      "\u001B[0;31mJSONDecodeError\u001B[0m: Expecting value: line 1 column 1 (char 0)"
     ]
    }
   ],
   "execution_count": 4
  },
  {
   "metadata": {
    "ExecuteTime": {
     "end_time": "2024-05-20T22:38:14.626050Z",
     "start_time": "2024-05-20T22:38:14.618739Z"
    }
   },
   "cell_type": "code",
   "source": [
    "import h5py\n",
    "\n",
    "def explore_hdf5(file_path):\n",
    "    with h5py.File(file_path, 'r') as f:\n",
    "        def print_attrs(name, obj):\n",
    "            print(f\"Name: {name}\")\n",
    "            print(\"Attributes:\")\n",
    "            for key, val in obj.attrs.items():\n",
    "                print(f\"    {key}: {val}\")\n",
    "            if isinstance(obj, h5py.Dataset):\n",
    "                print(f\"Dataset shape: {obj.shape}\")\n",
    "                print(f\"Dataset dtype: {obj.dtype}\")\n",
    "            elif isinstance(obj, h5py.Group):\n",
    "                print(\"Group\")\n",
    "            print()\n",
    "        \n",
    "        f.visititems(print_attrs)\n",
    "\n",
    "# Usage example\n",
    "file_path = '/Users/alexanderpatrie/Desktop/repos/biosimulator-processes/test_suite/examples/sbml-core/Elowitz-Nature-2000-Repressilator/reports.h5'\n",
    "explore_hdf5(file_path)"
   ],
   "id": "a32cf79c43b3a52d",
   "outputs": [
    {
     "name": "stdout",
     "output_type": "stream",
     "text": [
      "Name: simulation.sedml\n",
      "Attributes:\n",
      "    combineArchiveLocation: simulation.sedml\n",
      "    uri: simulation.sedml\n",
      "Group\n",
      "\n",
      "Name: simulation.sedml/Figure_1c\n",
      "Attributes:\n",
      "    _type: SedPlot2D\n",
      "    sedmlDataSetDataTypes: ['float64' 'float64' 'float64' 'float64']\n",
      "    sedmlDataSetIds: ['data_gen_px' 'data_gen_py' 'data_gen_pz' 'data_gen_time']\n",
      "    sedmlDataSetLabels: ['data_gen_px' 'data_gen_py' 'data_gen_pz' 'data_gen_time']\n",
      "    sedmlDataSetNames: ['LacI protein' 'TetR protein' 'cI protein' 'time']\n",
      "    sedmlDataSetShapes: ['601' '601' '601' '601']\n",
      "    sedmlId: Figure_1c\n",
      "    sedmlName: Figure 1c\n",
      "    uri: simulation.sedml/Figure_1c\n",
      "Dataset shape: (4, 601)\n",
      "Dataset dtype: float64\n",
      "\n",
      "Name: simulation.sedml/report\n",
      "Attributes:\n",
      "    _type: SedReport\n",
      "    sedmlDataSetDataTypes: ['float64' 'float64' 'float64' 'float64' 'float64' 'float64' 'float64']\n",
      "    sedmlDataSetIds: ['data_set_time' 'data_set_laci_protein' 'data_set_tetr_protein'\n",
      " 'data_set_ci_protein' 'data_set_laci_mrna' 'data_set_tetr_mrna'\n",
      " 'data_set_ci_mrna']\n",
      "    sedmlDataSetLabels: ['Time' 'LacI protein' 'TetR protein' 'cI protein' 'LacI mRNA' 'TetR mRNA'\n",
      " 'cI mRNA']\n",
      "    sedmlDataSetNames: ['' '' '' '' '' '' '']\n",
      "    sedmlDataSetShapes: ['601' '601' '601' '601' '601' '601' '601']\n",
      "    sedmlId: report\n",
      "    sedmlName: Report\n",
      "    uri: simulation.sedml/report\n",
      "Dataset shape: (7, 601)\n",
      "Dataset dtype: float64\n",
      "\n"
     ]
    }
   ],
   "execution_count": 5
  },
  {
   "metadata": {
    "ExecuteTime": {
     "end_time": "2024-05-20T22:38:16.137557Z",
     "start_time": "2024-05-20T22:38:16.133136Z"
    }
   },
   "cell_type": "code",
   "source": [
    "def read_dataset(file_path, dataset_id):\n",
    "    with h5py.File(file_path, 'r') as f:\n",
    "        if dataset_id in f:\n",
    "            data = f[dataset_id][:]\n",
    "            print(f\"Data from dataset '{dataset_id}':\\n{data}\")\n",
    "        else:\n",
    "            print(f\"Dataset '{dataset_id}' not found in the file.\")\n",
    "            \n",
    "            \n",
    "read_dataset(file_path, 'data_set_time')"
   ],
   "id": "50e94bdbad1de41f",
   "outputs": [
    {
     "name": "stdout",
     "output_type": "stream",
     "text": [
      "Dataset 'data_set_time' not found in the file.\n"
     ]
    }
   ],
   "execution_count": 6
  },
  {
   "metadata": {
    "ExecuteTime": {
     "end_time": "2024-05-20T22:38:17.058796Z",
     "start_time": "2024-05-20T22:38:17.056233Z"
    }
   },
   "cell_type": "code",
   "source": "from biosimulator_processes.services.rest_service import BiosimulationsRestService",
   "id": "e4079a96d9ec5db3",
   "outputs": [],
   "execution_count": 7
  },
  {
   "metadata": {
    "ExecuteTime": {
     "end_time": "2024-05-20T22:38:19.043966Z",
     "start_time": "2024-05-20T22:38:19.041818Z"
    }
   },
   "cell_type": "code",
   "source": "",
   "id": "5a18bfb627415dae",
   "outputs": [],
   "execution_count": 7
  },
  {
   "metadata": {
    "ExecuteTime": {
     "end_time": "2024-05-20T22:38:19.588183Z",
     "start_time": "2024-05-20T22:38:19.567435Z"
    }
   },
   "cell_type": "code",
   "source": [
    "from basico import * \n",
    "\n",
    "\n",
    "fp = '/Users/alexanderpatrie/Desktop/repos/biosimulator-processes/demos/BIOMD0000000012_url.xml'\n",
    "\n",
    "model = load_model(fp)"
   ],
   "id": "cb63a39f24a3794f",
   "outputs": [],
   "execution_count": 8
  },
  {
   "metadata": {
    "ExecuteTime": {
     "end_time": "2024-05-20T22:38:20.051093Z",
     "start_time": "2024-05-20T22:38:20.040410Z"
    }
   },
   "cell_type": "code",
   "source": "get_species(model=model)",
   "id": "c4ce852efe9e1ca1",
   "outputs": [
    {
     "data": {
      "text/plain": [
       "             compartment       type  unit  initial_concentration  \\\n",
       "name                                                               \n",
       "LacI protein        cell  reactions  #/fl                    0.0   \n",
       "TetR protein        cell  reactions  #/fl                    0.0   \n",
       "cI protein          cell  reactions  #/fl                    0.0   \n",
       "LacI mRNA           cell  reactions  #/fl                    0.0   \n",
       "TetR mRNA           cell  reactions  #/fl                   20.0   \n",
       "cI mRNA             cell  reactions  #/fl                    0.0   \n",
       "\n",
       "              initial_particle_number initial_expression expression  \\\n",
       "name                                                                  \n",
       "LacI protein                      0.0                                 \n",
       "TetR protein                      0.0                                 \n",
       "cI protein                        0.0                                 \n",
       "LacI mRNA                         0.0                                 \n",
       "TetR mRNA                        20.0                                 \n",
       "cI mRNA                           0.0                                 \n",
       "\n",
       "              concentration  particle_number        rate  \\\n",
       "name                                                       \n",
       "LacI protein            0.0              0.0    0.000000   \n",
       "TetR protein            0.0              0.0  138.629436   \n",
       "cI protein              0.0              0.0    0.000000   \n",
       "LacI mRNA               0.0              0.0   30.000000   \n",
       "TetR mRNA              20.0             20.0   23.068528   \n",
       "cI mRNA                 0.0              0.0   30.000000   \n",
       "\n",
       "              particle_number_rate           key sbml_id  transition_time  \\\n",
       "name                                                                        \n",
       "LacI protein              0.000000  Metabolite_0      PX              NaN   \n",
       "TetR protein            138.629436  Metabolite_1      PY         0.000000   \n",
       "cI protein                0.000000  Metabolite_2      PZ              NaN   \n",
       "LacI mRNA                30.000000  Metabolite_3       X         0.000000   \n",
       "TetR mRNA                23.068528  Metabolite_4       Y         0.666667   \n",
       "cI mRNA                  30.000000  Metabolite_5       Z         0.000000   \n",
       "\n",
       "              display_name  \n",
       "name                        \n",
       "LacI protein  LacI protein  \n",
       "TetR protein  TetR protein  \n",
       "cI protein      cI protein  \n",
       "LacI mRNA        LacI mRNA  \n",
       "TetR mRNA        TetR mRNA  \n",
       "cI mRNA            cI mRNA  "
      ],
      "text/html": [
       "<div>\n",
       "<style scoped>\n",
       "    .dataframe tbody tr th:only-of-type {\n",
       "        vertical-align: middle;\n",
       "    }\n",
       "\n",
       "    .dataframe tbody tr th {\n",
       "        vertical-align: top;\n",
       "    }\n",
       "\n",
       "    .dataframe thead th {\n",
       "        text-align: right;\n",
       "    }\n",
       "</style>\n",
       "<table border=\"1\" class=\"dataframe\">\n",
       "  <thead>\n",
       "    <tr style=\"text-align: right;\">\n",
       "      <th></th>\n",
       "      <th>compartment</th>\n",
       "      <th>type</th>\n",
       "      <th>unit</th>\n",
       "      <th>initial_concentration</th>\n",
       "      <th>initial_particle_number</th>\n",
       "      <th>initial_expression</th>\n",
       "      <th>expression</th>\n",
       "      <th>concentration</th>\n",
       "      <th>particle_number</th>\n",
       "      <th>rate</th>\n",
       "      <th>particle_number_rate</th>\n",
       "      <th>key</th>\n",
       "      <th>sbml_id</th>\n",
       "      <th>transition_time</th>\n",
       "      <th>display_name</th>\n",
       "    </tr>\n",
       "    <tr>\n",
       "      <th>name</th>\n",
       "      <th></th>\n",
       "      <th></th>\n",
       "      <th></th>\n",
       "      <th></th>\n",
       "      <th></th>\n",
       "      <th></th>\n",
       "      <th></th>\n",
       "      <th></th>\n",
       "      <th></th>\n",
       "      <th></th>\n",
       "      <th></th>\n",
       "      <th></th>\n",
       "      <th></th>\n",
       "      <th></th>\n",
       "      <th></th>\n",
       "    </tr>\n",
       "  </thead>\n",
       "  <tbody>\n",
       "    <tr>\n",
       "      <th>LacI protein</th>\n",
       "      <td>cell</td>\n",
       "      <td>reactions</td>\n",
       "      <td>#/fl</td>\n",
       "      <td>0.0</td>\n",
       "      <td>0.0</td>\n",
       "      <td></td>\n",
       "      <td></td>\n",
       "      <td>0.0</td>\n",
       "      <td>0.0</td>\n",
       "      <td>0.000000</td>\n",
       "      <td>0.000000</td>\n",
       "      <td>Metabolite_0</td>\n",
       "      <td>PX</td>\n",
       "      <td>NaN</td>\n",
       "      <td>LacI protein</td>\n",
       "    </tr>\n",
       "    <tr>\n",
       "      <th>TetR protein</th>\n",
       "      <td>cell</td>\n",
       "      <td>reactions</td>\n",
       "      <td>#/fl</td>\n",
       "      <td>0.0</td>\n",
       "      <td>0.0</td>\n",
       "      <td></td>\n",
       "      <td></td>\n",
       "      <td>0.0</td>\n",
       "      <td>0.0</td>\n",
       "      <td>138.629436</td>\n",
       "      <td>138.629436</td>\n",
       "      <td>Metabolite_1</td>\n",
       "      <td>PY</td>\n",
       "      <td>0.000000</td>\n",
       "      <td>TetR protein</td>\n",
       "    </tr>\n",
       "    <tr>\n",
       "      <th>cI protein</th>\n",
       "      <td>cell</td>\n",
       "      <td>reactions</td>\n",
       "      <td>#/fl</td>\n",
       "      <td>0.0</td>\n",
       "      <td>0.0</td>\n",
       "      <td></td>\n",
       "      <td></td>\n",
       "      <td>0.0</td>\n",
       "      <td>0.0</td>\n",
       "      <td>0.000000</td>\n",
       "      <td>0.000000</td>\n",
       "      <td>Metabolite_2</td>\n",
       "      <td>PZ</td>\n",
       "      <td>NaN</td>\n",
       "      <td>cI protein</td>\n",
       "    </tr>\n",
       "    <tr>\n",
       "      <th>LacI mRNA</th>\n",
       "      <td>cell</td>\n",
       "      <td>reactions</td>\n",
       "      <td>#/fl</td>\n",
       "      <td>0.0</td>\n",
       "      <td>0.0</td>\n",
       "      <td></td>\n",
       "      <td></td>\n",
       "      <td>0.0</td>\n",
       "      <td>0.0</td>\n",
       "      <td>30.000000</td>\n",
       "      <td>30.000000</td>\n",
       "      <td>Metabolite_3</td>\n",
       "      <td>X</td>\n",
       "      <td>0.000000</td>\n",
       "      <td>LacI mRNA</td>\n",
       "    </tr>\n",
       "    <tr>\n",
       "      <th>TetR mRNA</th>\n",
       "      <td>cell</td>\n",
       "      <td>reactions</td>\n",
       "      <td>#/fl</td>\n",
       "      <td>20.0</td>\n",
       "      <td>20.0</td>\n",
       "      <td></td>\n",
       "      <td></td>\n",
       "      <td>20.0</td>\n",
       "      <td>20.0</td>\n",
       "      <td>23.068528</td>\n",
       "      <td>23.068528</td>\n",
       "      <td>Metabolite_4</td>\n",
       "      <td>Y</td>\n",
       "      <td>0.666667</td>\n",
       "      <td>TetR mRNA</td>\n",
       "    </tr>\n",
       "    <tr>\n",
       "      <th>cI mRNA</th>\n",
       "      <td>cell</td>\n",
       "      <td>reactions</td>\n",
       "      <td>#/fl</td>\n",
       "      <td>0.0</td>\n",
       "      <td>0.0</td>\n",
       "      <td></td>\n",
       "      <td></td>\n",
       "      <td>0.0</td>\n",
       "      <td>0.0</td>\n",
       "      <td>30.000000</td>\n",
       "      <td>30.000000</td>\n",
       "      <td>Metabolite_5</td>\n",
       "      <td>Z</td>\n",
       "      <td>0.000000</td>\n",
       "      <td>cI mRNA</td>\n",
       "    </tr>\n",
       "  </tbody>\n",
       "</table>\n",
       "</div>"
      ]
     },
     "execution_count": 9,
     "metadata": {},
     "output_type": "execute_result"
    }
   ],
   "execution_count": 9
  },
  {
   "metadata": {
    "ExecuteTime": {
     "end_time": "2024-05-20T22:38:20.721204Z",
     "start_time": "2024-05-20T22:38:20.690887Z"
    }
   },
   "cell_type": "code",
   "source": [
    "from biosimulator_processes.processes.copasi_process import CopasiProcess\n",
    "group_path = 'simulation.sedml/report'\n",
    "dataset_label = 'cI protein'\n",
    "outputs = BiosimulationsRestService().read_report_outputs(file_path, dataset_label)\n",
    "\n",
    "\n",
    "\n",
    "\n",
    "process = CopasiProcess(config={'model': {'model_source': fp}})"
   ],
   "id": "426f89565958f483",
   "outputs": [
    {
     "name": "stdout",
     "output_type": "stream",
     "text": [
      "Group 'cI protein' not found in the file.\n",
      "found a filepath\n"
     ]
    }
   ],
   "execution_count": 10
  },
  {
   "metadata": {
    "ExecuteTime": {
     "end_time": "2024-05-20T22:38:22.020333Z",
     "start_time": "2024-05-20T22:38:22.016674Z"
    }
   },
   "cell_type": "code",
   "source": "process.inputs()[f'floating_species_concentrations']",
   "id": "4e34292653057f9a",
   "outputs": [
    {
     "data": {
      "text/plain": [
       "{'LacI protein': {'_type': 'float', '_apply': 'set'},\n",
       " 'TetR protein': {'_type': 'float', '_apply': 'set'},\n",
       " 'cI protein': {'_type': 'float', '_apply': 'set'},\n",
       " 'LacI mRNA': {'_type': 'float', '_apply': 'set'},\n",
       " 'TetR mRNA': {'_type': 'float', '_apply': 'set'},\n",
       " 'cI mRNA': {'_type': 'float', '_apply': 'set'}}"
      ]
     },
     "execution_count": 11,
     "metadata": {},
     "output_type": "execute_result"
    }
   ],
   "execution_count": 11
  },
  {
   "metadata": {
    "ExecuteTime": {
     "end_time": "2024-05-20T22:38:23.394508Z",
     "start_time": "2024-05-20T22:38:23.210420Z"
    }
   },
   "cell_type": "code",
   "source": [
    "from biosimulator_processes.verify.core import verify_ode_process_outputs\n",
    "\n",
    "\n",
    "verification = verify_ode_process_outputs('copasi', file_path, fp)"
   ],
   "id": "7cb779ab9700e3b9",
   "outputs": [
    {
     "name": "stdout",
     "output_type": "stream",
     "text": [
      "found a filepath\n",
      "found a filepath\n",
      "Species: Time, Num points: 601\n",
      "Species: LacI protein, Num points: 601\n",
      "Species: TetR protein, Num points: 601\n",
      "Species: cI protein, Num points: 601\n",
      "Species: LacI mRNA, Num points: 601\n",
      "Species: TetR mRNA, Num points: 601\n",
      "Species: cI mRNA, Num points: 601\n"
     ]
    }
   ],
   "execution_count": 12
  },
  {
   "metadata": {},
   "cell_type": "code",
   "source": "process.initial_state()['floating_species_concentrations'].keys()",
   "id": "fe264b58abab6899",
   "outputs": [],
   "execution_count": null
  },
  {
   "metadata": {},
   "cell_type": "code",
   "source": [
    "def is_equal(a, b):\n",
    "    return a == b or b == a  \n",
    "\n",
    "\n",
    "from dataclasses import dataclass\n",
    "\n",
    "from process_bigraph import Process\n",
    "\n",
    "\n",
    "@dataclass \n",
    "class OutputAspectVerification:\n",
    "    aspect_type: str  # one of: 'names', 'values'. TODO: Add more\n",
    "    is_verified: bool\n",
    "    \n",
    "\n",
    "def create_ode_process_instance(process_name: str, biomodel_id=None, sbml_model_file=None) -> Process:\n",
    "    module_name = f'{process_name}_process'\n",
    "    import_statement = f'biosimulator_processes.processes.{module_name}'\n",
    "    module_paths = module_name.split('_')\n",
    "    class_name = module_paths[0].replace(module_name[0], module_name[0].upper())\n",
    "    class_name += module_paths[1].replace(module_paths[1][0], module_paths[1][0].upper())\n",
    "    module = __import__(\n",
    "        import_statement, fromlist=[class_name])\n",
    "    model_source = biomodel_id or sbml_model_file\n",
    "    bigraph_class = getattr(module, class_name)\n",
    "    return bigraph_class(config={'model': {'model_source':model_source}})\n",
    "\n",
    "\n",
    "def verify_ode_process_output_names(process_name: str, source_report_fp: str, biomodel_id: str = None, sbml_model_file: str = None) -> OutputAspectVerification:\n",
    "    # Get the class from the module\n",
    "    # TODO: Automatically generate this from the biosimulations rest api\n",
    "    process = create_ode_process_instance(process_name, biomodel_id, sbml_model_file)\n",
    "    process_keys = list(process.inputs()['floating_species_concentrations'].keys())\n",
    "    \n",
    "    report_outputs = BiosimulationsRestService().read_report_outputs(report_file_path=source_report_fp)\n",
    "    report_keys = [datum.dataset_label for datum in report_outputs.data]\n",
    "    for i, val in enumerate(report_keys):\n",
    "        if report_keys[i].lower() == 'time':\n",
    "            report_keys.pop(i)\n",
    "    \n",
    "    return OutputAspectVerification(aspect_type='names', is_verified=is_equal(report_keys, process_keys))"
   ],
   "id": "3802dbae678cdaaa",
   "outputs": [],
   "execution_count": null
  },
  {
   "metadata": {},
   "cell_type": "code",
   "source": [
    "from biosimulator_processes.verify.core import verify_ode_process_output_names\n",
    "\n",
    "\n",
    "verify_ode_process_output_names(process_name='copasi', source_report_fp=file_path, sbml_model_file=fp)"
   ],
   "id": "301900dd238ff637",
   "outputs": [],
   "execution_count": null
  },
  {
   "metadata": {},
   "cell_type": "code",
   "source": [
    "x = np.array([1, 2, 3])\n",
    "y = np.array([1, 2, 3.0000001])"
   ],
   "id": "b5735ea91ffa5ada",
   "outputs": [],
   "execution_count": null
  },
  {
   "metadata": {},
   "cell_type": "code",
   "source": "np.allclose(x, y)",
   "id": "a18a4b13fc1307d9",
   "outputs": [],
   "execution_count": null
  },
  {
   "metadata": {},
   "cell_type": "code",
   "source": [
    "class TokenizedWord:\n",
    "    def __init__(self, word: str, alphabet=None, language='english'):\n",
    "        super().__init__()\n",
    "        self.word = word\n",
    "        self.alphabet = alphabet or [chr(i) for i in range(ord('a'), ord('z') + 1)]\n",
    "        self.language = language\n",
    "        self.data = self.tokenize()\n",
    "        self.encoded = list(self.data.values())\n",
    "    \n",
    "    def __repr__(self):\n",
    "        return repr(self.tokenize())\n",
    "    \n",
    "    def tokenized_word(self):\n",
    "        return list(self.tokenize().values())\n",
    "    \n",
    "    def _create_mapping(self, data):\n",
    "        return {float(i): letter for i, letter in enumerate(data)}\n",
    "    \n",
    "    def transform_data(self, data, r: tuple) -> np.ndarray:\n",
    "        \"\"\"Transform the `data` to fit range `r`, where `r=(rangeStart, rangeStop)`\"\"\"\n",
    "        min_orig = min(data)\n",
    "        max_orig = max(data)\n",
    "        normalized_data = [a + ((x - min_orig) * (r[1] - r[0]) / (max_orig - min_orig)) for x in data]\n",
    "        return np.array(normalized_data, dtype='float64')\n",
    "    \n",
    "    def normalize(self, data, a, z):\n",
    "        min_orig = min(data)\n",
    "        max_orig = max(data)\n",
    "        \n",
    "        # Apply min-max normalization\n",
    "        normalized_data = [a + ((x - min_orig) * (z - a) / (max_orig - min_orig)) for x in data]\n",
    "        return normalized_data\n",
    "    \n",
    "    def tokenize(self):\n",
    "        # 1. create alphabet mapping (implement this for any given spoken language/music. For example, 12 tones mapped to the harmonic series\n",
    "        alphabet_data = self.alphabet\n",
    "        alphabet_mapping = self._create_mapping(alphabet_data)\n",
    "        \n",
    "        # 2. transform letter mapping range to fit 0-9, as double digits cannot be verified/read, which in python is 0, 9+1\n",
    "        alphabet_index = [int(n) for n in list(alphabet_mapping.keys())]\n",
    "        \n",
    "        input_range = [int(min(list(alphabet_mapping.keys()))), int(max(list(alphabet_mapping.keys())))]\n",
    "        start = input_range[0]\n",
    "        end = input_range[1]\n",
    "        transformed_letter_map_index = np.linspace(0, 9, end, dtype='float64')\n",
    "    \n",
    "        transformed_alphabet_mapping = dict(zip(alphabet_data, transformed_letter_map_index))\n",
    "        word_letters = [letter for letter in self.word]\n",
    "            \n",
    "        return {\n",
    "            letter: transformed_alphabet_mapping[letter]\n",
    "            for letter in word_letters}\n",
    "        "
   ],
   "id": "7ae1b5c1df0d3bb7",
   "outputs": [],
   "execution_count": null
  },
  {
   "metadata": {},
   "cell_type": "code",
   "source": "[letter for letter in 'hello']",
   "id": "703de44f17ea10a9",
   "outputs": [],
   "execution_count": null
  },
  {
   "metadata": {},
   "cell_type": "code",
   "source": [
    "tokenized = TokenizedWord(word='what')\n",
    "\n",
    "tokenized.tokenized_word()"
   ],
   "id": "8b05c8ab2f3aaf32",
   "outputs": [],
   "execution_count": null
  },
  {
   "metadata": {},
   "cell_type": "code",
   "source": "tokenize_word('hello')",
   "id": "ef062eee373b198d",
   "outputs": [],
   "execution_count": null
  },
  {
   "metadata": {},
   "cell_type": "code",
   "source": [
    "def transform_data(data, r: tuple) -> np.ndarray:\n",
    "    \"\"\"Transform the `data` to fit range `r`, where `r=(rangeStart, rangeStop)`\"\"\"\n",
    "    min_orig = min(data)\n",
    "    max_orig = max(data)\n",
    "    normalized_data = [a + ((x - min_orig) * (r[1] - r[0]) / (max_orig - min_orig)) for x in data]\n",
    "    return np.array(normalized_data, dtype='float64')\n",
    "\n",
    "\n",
    "# Original data\n",
    "data = list(range(26))  # This generates a list [0, 1, 2, ..., 25]\n",
    "\n",
    "# Define the target range\n",
    "a = 0\n",
    "z = 1\n",
    "\n",
    "# Normalize the data\n",
    "normalized_data = transform_data(data, (a, z))\n",
    "print(normalized_data)"
   ],
   "id": "c9c049229c12835a",
   "outputs": [],
   "execution_count": null
  },
  {
   "metadata": {},
   "cell_type": "code",
   "source": "",
   "id": "badac6786b231c34",
   "outputs": [],
   "execution_count": null
  }
 ],
 "metadata": {
  "kernelspec": {
   "display_name": "Python 3",
   "language": "python",
   "name": "python3"
  },
  "language_info": {
   "codemirror_mode": {
    "name": "ipython",
    "version": 2
   },
   "file_extension": ".py",
   "mimetype": "text/x-python",
   "name": "python",
   "nbconvert_exporter": "python",
   "pygments_lexer": "ipython2",
   "version": "2.7.6"
  }
 },
 "nbformat": 4,
 "nbformat_minor": 5
}
