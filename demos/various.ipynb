{
 "cells": [
  {
   "cell_type": "code",
   "id": "initial_id",
   "metadata": {
    "collapsed": true,
    "ExecuteTime": {
     "end_time": "2024-05-20T20:34:28.996782Z",
     "start_time": "2024-05-20T20:34:27.509714Z"
    }
   },
   "source": [
    "import sys\n",
    "\n",
    "import numpy as np\n",
    "from process_bigraph import pp\n",
    "\n",
    "\n",
    "sys.path.insert(0, '..')\n",
    "\n",
    "\n",
    "from biosimulator_processes.services.rest_service import BiosimulationsRestService"
   ],
   "outputs": [
    {
     "name": "stderr",
     "output_type": "stream",
     "text": [
      "/Users/alexanderpatrie/Library/Caches/pypoetry/virtualenvs/biosimulator-processes-JaN5cQMh-py3.10/lib/python3.10/site-packages/tqdm/auto.py:21: TqdmWarning: IProgress not found. Please update jupyter and ipywidgets. See https://ipywidgets.readthedocs.io/en/stable/user_install.html\n",
      "  from .autonotebook import tqdm as notebook_tqdm\n"
     ]
    },
    {
     "name": "stdout",
     "output_type": "stream",
     "text": [
      "CobraProcess registered successfully.\n",
      "CopasiProcess registered successfully.\n",
      "_CopasiProcess registered successfully.\n",
      "SmoldynProcess registered successfully.\n",
      "TelluriumProcess registered successfully.\n",
      "AmiciProcess registered successfully.\n",
      "ODEComparatorProcess not available. Error: cannot import name 'fetch_sbml_file' from 'biosimulator_processes.io' (/Users/alexanderpatrie/Desktop/repos/biosimulator-processes/demos/../biosimulator_processes/io.py)\n",
      "GetSbmlStep not available. Error: cannot import name 'fetch_sbml_file' from 'biosimulator_processes.io' (/Users/alexanderpatrie/Desktop/repos/biosimulator-processes/demos/../biosimulator_processes/io.py)\n",
      "CompositionPlotter registered successfully.\n",
      "Plotter2d registered successfully.\n",
      "ODEComparatorStep registered successfully.\n"
     ]
    }
   ],
   "execution_count": 1
  },
  {
   "metadata": {
    "ExecuteTime": {
     "end_time": "2024-05-20T20:33:00.528723Z",
     "start_time": "2024-05-20T20:32:57.091204Z"
    }
   },
   "cell_type": "code",
   "source": [
    "repressilator_run_id = \"61fea4a08c1e3dc95a79802e\"\n",
    "\n",
    "query = \"tumor\"\n",
    "\n",
    "result = await BiosimulationsRestService().extract_data(query)"
   ],
   "id": "792b41d7a7b6007",
   "outputs": [
    {
     "name": "stdout",
     "output_type": "stream",
     "text": [
      "Failed to fetch simulation run files:\n",
      "Expecting value: line 1 column 1 (char 0)\n"
     ]
    },
    {
     "ename": "AttributeError",
     "evalue": "'NoneType' object has no attribute 'run_id'",
     "output_type": "error",
     "traceback": [
      "\u001B[0;31m---------------------------------------------------------------------------\u001B[0m",
      "\u001B[0;31mAttributeError\u001B[0m                            Traceback (most recent call last)",
      "Cell \u001B[0;32mIn[2], line 5\u001B[0m\n\u001B[1;32m      1\u001B[0m repressilator_run_id \u001B[38;5;241m=\u001B[39m \u001B[38;5;124m\"\u001B[39m\u001B[38;5;124m61fea4a08c1e3dc95a79802e\u001B[39m\u001B[38;5;124m\"\u001B[39m\n\u001B[1;32m      3\u001B[0m query \u001B[38;5;241m=\u001B[39m \u001B[38;5;124m\"\u001B[39m\u001B[38;5;124mtumor\u001B[39m\u001B[38;5;124m\"\u001B[39m\n\u001B[0;32m----> 5\u001B[0m result \u001B[38;5;241m=\u001B[39m \u001B[38;5;28;01mawait\u001B[39;00m BiosimulationsRestService()\u001B[38;5;241m.\u001B[39mextract_data(query)\n",
      "File \u001B[0;32m~/Desktop/repos/biosimulator-processes/demos/../biosimulator_processes/services/rest_service.py:70\u001B[0m, in \u001B[0;36mBiosimulationsRestService.extract_data\u001B[0;34m(cls, query, save_dir)\u001B[0m\n\u001B[1;32m     68\u001B[0m \u001B[38;5;250m\u001B[39m\u001B[38;5;124;03m\"\"\"Return a string representation sbml model from the given query\"\"\"\u001B[39;00m\n\u001B[1;32m     69\u001B[0m archive_files \u001B[38;5;241m=\u001B[39m \u001B[38;5;28;01mawait\u001B[39;00m \u001B[38;5;28mcls\u001B[39m\u001B[38;5;241m.\u001B[39mfetch_files(query)\n\u001B[0;32m---> 70\u001B[0m get_file_url \u001B[38;5;241m=\u001B[39m \u001B[38;5;124mf\u001B[39m\u001B[38;5;124m'\u001B[39m\u001B[38;5;124mhttps://api.biosimulations.dev/files/\u001B[39m\u001B[38;5;132;01m{\u001B[39;00m\u001B[43marchive_files\u001B[49m\u001B[38;5;241;43m.\u001B[39;49m\u001B[43mrun_id\u001B[49m\u001B[38;5;132;01m}\u001B[39;00m\u001B[38;5;124m'\u001B[39m\n\u001B[1;32m     72\u001B[0m model_file_location \u001B[38;5;241m=\u001B[39m [file[\u001B[38;5;124m'\u001B[39m\u001B[38;5;124mlocation\u001B[39m\u001B[38;5;124m'\u001B[39m] \u001B[38;5;28;01mfor\u001B[39;00m file \u001B[38;5;129;01min\u001B[39;00m archive_files\u001B[38;5;241m.\u001B[39mfiles \u001B[38;5;28;01mif\u001B[39;00m file[\u001B[38;5;124m'\u001B[39m\u001B[38;5;124mlocation\u001B[39m\u001B[38;5;124m'\u001B[39m]\u001B[38;5;241m.\u001B[39mendswith(\u001B[38;5;124m'\u001B[39m\u001B[38;5;124m.xml\u001B[39m\u001B[38;5;124m'\u001B[39m)]\u001B[38;5;241m.\u001B[39mpop()\n\u001B[1;32m     73\u001B[0m model_file_resp \u001B[38;5;241m=\u001B[39m requests\u001B[38;5;241m.\u001B[39mget(get_file_url \u001B[38;5;241m+\u001B[39m \u001B[38;5;124mf\u001B[39m\u001B[38;5;124m'\u001B[39m\u001B[38;5;124m/\u001B[39m\u001B[38;5;132;01m{\u001B[39;00mmodel_file_location\u001B[38;5;132;01m}\u001B[39;00m\u001B[38;5;124m/download\u001B[39m\u001B[38;5;124m'\u001B[39m, headers\u001B[38;5;241m=\u001B[39m{\u001B[38;5;124m'\u001B[39m\u001B[38;5;124maccept\u001B[39m\u001B[38;5;124m'\u001B[39m: \u001B[38;5;124m'\u001B[39m\u001B[38;5;124mapplication/xml\u001B[39m\u001B[38;5;124m'\u001B[39m})\n",
      "\u001B[0;31mAttributeError\u001B[0m: 'NoneType' object has no attribute 'run_id'"
     ]
    }
   ],
   "execution_count": 2
  },
  {
   "metadata": {},
   "cell_type": "code",
   "source": [
    "import requests\n",
    "get_files_url = f'https://api.biosimulations.dev/results/{repressilator_run_id}/download'\n",
    "headers = {'accept': 'application/json'}\n",
    "files_resp = requests.get(get_files_url, headers=headers)"
   ],
   "id": "43e85b4f535dd796",
   "outputs": [],
   "execution_count": null
  },
  {
   "metadata": {},
   "cell_type": "code",
   "source": "files_resp.json()",
   "id": "a5c17e52eafdec21",
   "outputs": [],
   "execution_count": null
  },
  {
   "metadata": {
    "ExecuteTime": {
     "end_time": "2024-05-20T20:34:32.022098Z",
     "start_time": "2024-05-20T20:34:32.013921Z"
    }
   },
   "cell_type": "code",
   "source": [
    "import h5py\n",
    "\n",
    "def explore_hdf5(file_path):\n",
    "    with h5py.File(file_path, 'r') as f:\n",
    "        def print_attrs(name, obj):\n",
    "            print(f\"Name: {name}\")\n",
    "            print(\"Attributes:\")\n",
    "            for key, val in obj.attrs.items():\n",
    "                print(f\"    {key}: {val}\")\n",
    "            if isinstance(obj, h5py.Dataset):\n",
    "                print(f\"Dataset shape: {obj.shape}\")\n",
    "                print(f\"Dataset dtype: {obj.dtype}\")\n",
    "            elif isinstance(obj, h5py.Group):\n",
    "                print(\"Group\")\n",
    "            print()\n",
    "        \n",
    "        f.visititems(print_attrs)\n",
    "\n",
    "# Usage example\n",
    "file_path = '/Users/alexanderpatrie/Desktop/repos/biosimulator-processes/test_suite/examples/sbml-core/Elowitz-Nature-2000-Repressilator/reports.h5'\n",
    "explore_hdf5(file_path)"
   ],
   "id": "a32cf79c43b3a52d",
   "outputs": [
    {
     "name": "stdout",
     "output_type": "stream",
     "text": [
      "Name: simulation.sedml\n",
      "Attributes:\n",
      "    combineArchiveLocation: simulation.sedml\n",
      "    uri: simulation.sedml\n",
      "Group\n",
      "\n",
      "Name: simulation.sedml/Figure_1c\n",
      "Attributes:\n",
      "    _type: SedPlot2D\n",
      "    sedmlDataSetDataTypes: ['float64' 'float64' 'float64' 'float64']\n",
      "    sedmlDataSetIds: ['data_gen_px' 'data_gen_py' 'data_gen_pz' 'data_gen_time']\n",
      "    sedmlDataSetLabels: ['data_gen_px' 'data_gen_py' 'data_gen_pz' 'data_gen_time']\n",
      "    sedmlDataSetNames: ['LacI protein' 'TetR protein' 'cI protein' 'time']\n",
      "    sedmlDataSetShapes: ['601' '601' '601' '601']\n",
      "    sedmlId: Figure_1c\n",
      "    sedmlName: Figure 1c\n",
      "    uri: simulation.sedml/Figure_1c\n",
      "Dataset shape: (4, 601)\n",
      "Dataset dtype: float64\n",
      "\n",
      "Name: simulation.sedml/report\n",
      "Attributes:\n",
      "    _type: SedReport\n",
      "    sedmlDataSetDataTypes: ['float64' 'float64' 'float64' 'float64' 'float64' 'float64' 'float64']\n",
      "    sedmlDataSetIds: ['data_set_time' 'data_set_laci_protein' 'data_set_tetr_protein'\n",
      " 'data_set_ci_protein' 'data_set_laci_mrna' 'data_set_tetr_mrna'\n",
      " 'data_set_ci_mrna']\n",
      "    sedmlDataSetLabels: ['Time' 'LacI protein' 'TetR protein' 'cI protein' 'LacI mRNA' 'TetR mRNA'\n",
      " 'cI mRNA']\n",
      "    sedmlDataSetNames: ['' '' '' '' '' '' '']\n",
      "    sedmlDataSetShapes: ['601' '601' '601' '601' '601' '601' '601']\n",
      "    sedmlId: report\n",
      "    sedmlName: Report\n",
      "    uri: simulation.sedml/report\n",
      "Dataset shape: (7, 601)\n",
      "Dataset dtype: float64\n",
      "\n"
     ]
    }
   ],
   "execution_count": 2
  },
  {
   "metadata": {
    "ExecuteTime": {
     "end_time": "2024-05-20T20:34:32.449605Z",
     "start_time": "2024-05-20T20:34:32.446724Z"
    }
   },
   "cell_type": "code",
   "source": [
    "def read_dataset(file_path, dataset_id):\n",
    "    with h5py.File(file_path, 'r') as f:\n",
    "        if dataset_id in f:\n",
    "            data = f[dataset_id][:]\n",
    "            print(f\"Data from dataset '{dataset_id}':\\n{data}\")\n",
    "        else:\n",
    "            print(f\"Dataset '{dataset_id}' not found in the file.\")\n",
    "            \n",
    "            \n",
    "read_dataset(file_path, 'data_set_time')"
   ],
   "id": "50e94bdbad1de41f",
   "outputs": [
    {
     "name": "stdout",
     "output_type": "stream",
     "text": [
      "Dataset 'data_set_time' not found in the file.\n"
     ]
    }
   ],
   "execution_count": 3
  },
  {
   "metadata": {
    "ExecuteTime": {
     "end_time": "2024-05-20T20:34:32.798903Z",
     "start_time": "2024-05-20T20:34:32.797142Z"
    }
   },
   "cell_type": "code",
   "source": "from biosimulator_processes.services.rest_service import BiosimulationsRestService",
   "id": "e4079a96d9ec5db3",
   "outputs": [],
   "execution_count": 4
  },
  {
   "metadata": {
    "ExecuteTime": {
     "end_time": "2024-05-20T20:34:33.018462Z",
     "start_time": "2024-05-20T20:34:33.016478Z"
    }
   },
   "cell_type": "code",
   "source": "",
   "id": "5a18bfb627415dae",
   "outputs": [],
   "execution_count": 4
  },
  {
   "metadata": {
    "ExecuteTime": {
     "end_time": "2024-05-20T20:34:34.958424Z",
     "start_time": "2024-05-20T20:34:34.928762Z"
    }
   },
   "cell_type": "code",
   "source": [
    "from basico import * \n",
    "\n",
    "\n",
    "fp = '/Users/alexanderpatrie/Desktop/repos/biosimulator-processes/demos/BIOMD0000000012_url.xml'\n",
    "\n",
    "model = load_model(fp)"
   ],
   "id": "cb63a39f24a3794f",
   "outputs": [],
   "execution_count": 5
  },
  {
   "metadata": {},
   "cell_type": "code",
   "source": "get_species(model=model)",
   "id": "c4ce852efe9e1ca1",
   "outputs": [],
   "execution_count": null
  },
  {
   "metadata": {},
   "cell_type": "code",
   "source": [
    "from biosimulator_processes.processes.copasi_process import CopasiProcess\n",
    "group_path = 'simulation.sedml/report'\n",
    "dataset_label = 'cI protein'\n",
    "outputs = BiosimulationsRestService().read_report_outputs(file_path, dataset_label)\n",
    "\n",
    "\n",
    "for datum in outputs.data:\n",
    "    print(datum.dataset_label)\n",
    "\n",
    "process = CopasiProcess(config={'model': {'model_source': fp}})"
   ],
   "id": "426f89565958f483",
   "outputs": [],
   "execution_count": null
  },
  {
   "metadata": {},
   "cell_type": "code",
   "source": "process.initial_state()['floating_species_concentrations'].keys()",
   "id": "fe264b58abab6899",
   "outputs": [],
   "execution_count": null
  },
  {
   "metadata": {},
   "cell_type": "code",
   "source": [
    "def is_equal(a, b):\n",
    "    return a == b or b == a  \n",
    "\n",
    "\n",
    "from dataclasses import dataclass\n",
    "\n",
    "from process_bigraph import Process\n",
    "\n",
    "\n",
    "@dataclass \n",
    "class OutputAspectVerification:\n",
    "    aspect_type: str  # one of: 'names', 'values'. TODO: Add more\n",
    "    is_verified: bool\n",
    "    \n",
    "\n",
    "def create_ode_process_instance(process_name: str, biomodel_id=None, sbml_model_file=None) -> Process:\n",
    "    module_name = f'{process_name}_process'\n",
    "    import_statement = f'biosimulator_processes.processes.{module_name}'\n",
    "    module_paths = module_name.split('_')\n",
    "    class_name = module_paths[0].replace(module_name[0], module_name[0].upper())\n",
    "    class_name += module_paths[1].replace(module_paths[1][0], module_paths[1][0].upper())\n",
    "    module = __import__(\n",
    "        import_statement, fromlist=[class_name])\n",
    "    model_source = biomodel_id or sbml_model_file\n",
    "    bigraph_class = getattr(module, class_name)\n",
    "    return bigraph_class(config={'model': {'model_source':model_source}})\n",
    "\n",
    "\n",
    "def verify_ode_process_output_names(process_name: str, source_report_fp: str, biomodel_id: str = None, sbml_model_file: str = None) -> OutputAspectVerification:\n",
    "    # Get the class from the module\n",
    "    # TODO: Automatically generate this from the biosimulations rest api\n",
    "    process = create_ode_process_instance(process_name, biomodel_id, sbml_model_file)\n",
    "    process_keys = list(process.inputs()['floating_species_concentrations'].keys())\n",
    "    \n",
    "    report_outputs = BiosimulationsRestService().read_report_outputs(report_file_path=source_report_fp)\n",
    "    report_keys = [datum.dataset_label for datum in report_outputs.data]\n",
    "    for i, val in enumerate(report_keys):\n",
    "        if report_keys[i].lower() == 'time':\n",
    "            report_keys.pop(i)\n",
    "    \n",
    "    return OutputAspectVerification(aspect_type='names', is_verified=is_equal(report_keys, process_keys))"
   ],
   "id": "3802dbae678cdaaa",
   "outputs": [],
   "execution_count": null
  },
  {
   "metadata": {
    "ExecuteTime": {
     "end_time": "2024-05-20T20:34:38.912714Z",
     "start_time": "2024-05-20T20:34:38.732453Z"
    }
   },
   "cell_type": "code",
   "source": [
    "from biosimulator_processes.verify.exec import verify_ode_process_output_names\n",
    "\n",
    "\n",
    "verify_ode_process_output_names(process_name='copasi', source_report_fp=file_path, sbml_model_file=fp)"
   ],
   "id": "301900dd238ff637",
   "outputs": [
    {
     "name": "stdout",
     "output_type": "stream",
     "text": [
      "found a filepath\n"
     ]
    },
    {
     "data": {
      "text/plain": [
       "OutputAspectVerification(aspect_type='names', is_verified=True, expected_data=['LacI protein', 'TetR protein', 'cI protein', 'LacI mRNA', 'TetR mRNA', 'cI mRNA'], process_data=['LacI protein', 'TetR protein', 'cI protein', 'LacI mRNA', 'TetR mRNA', 'cI mRNA'])"
      ]
     },
     "execution_count": 6,
     "metadata": {},
     "output_type": "execute_result"
    }
   ],
   "execution_count": 6
  },
  {
   "metadata": {},
   "cell_type": "code",
   "source": [
    "x = np.array([1, 2, 3])\n",
    "y = np.array([1, 2, 3.0000001])"
   ],
   "id": "b5735ea91ffa5ada",
   "outputs": [],
   "execution_count": null
  },
  {
   "metadata": {},
   "cell_type": "code",
   "source": "np.allclose(x, y)",
   "id": "a18a4b13fc1307d9",
   "outputs": [],
   "execution_count": null
  },
  {
   "metadata": {},
   "cell_type": "code",
   "source": "",
   "id": "8b05c8ab2f3aaf32",
   "outputs": [],
   "execution_count": null
  }
 ],
 "metadata": {
  "kernelspec": {
   "display_name": "Python 3",
   "language": "python",
   "name": "python3"
  },
  "language_info": {
   "codemirror_mode": {
    "name": "ipython",
    "version": 2
   },
   "file_extension": ".py",
   "mimetype": "text/x-python",
   "name": "python",
   "nbconvert_exporter": "python",
   "pygments_lexer": "ipython2",
   "version": "2.7.6"
  }
 },
 "nbformat": 4,
 "nbformat_minor": 5
}
