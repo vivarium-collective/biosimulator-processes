{
 "cells": [
  {
   "cell_type": "code",
   "source": [
    "import sys\n",
    "\n",
    "sys.path.insert(0, '..')\n",
    "\n",
    "import os\n",
    "import requests\n",
    "import json\n",
    "from tempfile import mkdtemp\n",
    "from urllib.request import urlretrieve\n",
    "import libsbml\n",
    "import amici\n",
    "import os\n",
    "from biosimulator_processes.utils import prepare_single_ode_process_document\n",
    "from biosimulator_processes.data_model.compare_data_model import ODEComparisonDocument, DocumentFactory\n",
    "from biosimulator_processes import CORE\n",
    "from process_bigraph import Composite, pp"
   ],
   "metadata": {
    "collapsed": false,
    "ExecuteTime": {
     "end_time": "2024-05-10T17:13:44.693026Z",
     "start_time": "2024-05-10T17:13:43.268893Z"
    }
   },
   "id": "159305ff5f3dc676",
   "outputs": [
    {
     "name": "stdout",
     "output_type": "stream",
     "text": [
      "CobraProcess registered successfully.\n",
      "CopasiProcess registered successfully.\n",
      "_CopasiProcess registered successfully.\n",
      "SmoldynProcess registered successfully.\n",
      "TelluriumProcess registered successfully.\n",
      "AmiciProcess registered successfully.\n",
      "ODEComparatorProcess registered successfully.\n",
      "GetSbml registered successfully.\n",
      "CompositionPlotter registered successfully.\n",
      "Plotter2d registered successfully.\n",
      "ODEComparatorStep registered successfully.\n"
     ]
    }
   ],
   "execution_count": 1
  },
  {
   "metadata": {
    "ExecuteTime": {
     "end_time": "2024-05-10T17:13:44.697760Z",
     "start_time": "2024-05-10T17:13:44.694171Z"
    }
   },
   "cell_type": "code",
   "source": [
    "import numpy as np \n",
    "\n",
    "y = np.array([0.5, 1.0, 0.75, 0.60, 0.66])\n",
    "\n",
    "average_y = np.mean(y)\n",
    "\n",
    "# Calculate the MSE for each value in y with respect to the average\n",
    "mse_scores = (y - average_y) ** 2\n",
    "\n",
    "mse_scores, average_y"
   ],
   "id": "521b15f5cec33415",
   "outputs": [
    {
     "data": {
      "text/plain": [
       "(array([0.040804, 0.088804, 0.002304, 0.010404, 0.001764]), 0.7020000000000001)"
      ]
     },
     "execution_count": 2,
     "metadata": {},
     "output_type": "execute_result"
    }
   ],
   "execution_count": 2
  },
  {
   "cell_type": "code",
   "source": [
    "\"\"\"TODO: Update the input/output schema of the ODEComparatorProcess to mimic the following:\n",
    "\n",
    "{('emitter',): [{\n",
    "    'copasi': [\n",
    "        {\n",
    "            'floating_species_concentrations': {\n",
    "                'plasminogen': 0.0,\n",
    "                'plasmin': 0.0,\n",
    "                'single intact chain urokinase-type plasminogen activator': 0.0,\n",
    "                'two-chain urokinase-type plasminogen activator': 0.0,\n",
    "                'x': 0.0,\n",
    "                'x-plasmin': 0.0},\n",
    "           'time': 0.0\n",
    "        },\n",
    "        ...\n",
    "    ],\n",
    "    'amici': [\n",
    "        {\n",
    "            'floating_species_concentrations': {\n",
    "                'plasminogen': 1.1758171177387002e+16,\n",
    "                'plasmin': 1096150505274.1506,\n",
    "                'single intact chain urokinase-type plasminogen activator': 2955755808974603.0,\n",
    "                'two-chain urokinase-type plasminogen activator': 80249.33829510311,\n",
    "                'x': 0.0,\n",
    "                'x-plasmin': 0.0},\n",
    "           'time': 0.0},\n",
    "        },\n",
    "       ...\n",
    "    ]\n",
    "\n",
    "\n",
    "\"\"\""
   ],
   "metadata": {
    "collapsed": false,
    "ExecuteTime": {
     "end_time": "2024-05-10T17:13:44.700711Z",
     "start_time": "2024-05-10T17:13:44.698355Z"
    }
   },
   "id": "4738a65e22cf7264",
   "outputs": [
    {
     "data": {
      "text/plain": [
       "\"TODO: Update the input/output schema of the ODEComparatorProcess to mimic the following:\\n\\n{('emitter',): [{\\n    'copasi': [\\n        {\\n            'floating_species_concentrations': {\\n                'plasminogen': 0.0,\\n                'plasmin': 0.0,\\n                'single intact chain urokinase-type plasminogen activator': 0.0,\\n                'two-chain urokinase-type plasminogen activator': 0.0,\\n                'x': 0.0,\\n                'x-plasmin': 0.0},\\n           'time': 0.0\\n        },\\n        ...\\n    ],\\n    'amici': [\\n        {\\n            'floating_species_concentrations': {\\n                'plasminogen': 1.1758171177387002e+16,\\n                'plasmin': 1096150505274.1506,\\n                'single intact chain urokinase-type plasminogen activator': 2955755808974603.0,\\n                'two-chain urokinase-type plasminogen activator': 80249.33829510311,\\n                'x': 0.0,\\n                'x-plasmin': 0.0},\\n           'time': 0.0},\\n        },\\n       ...\\n    ]\\n\\n\\n\""
      ]
     },
     "execution_count": 3,
     "metadata": {},
     "output_type": "execute_result"
    }
   ],
   "execution_count": 3
  },
  {
   "cell_type": "code",
   "id": "initial_id",
   "metadata": {
    "collapsed": true,
    "ExecuteTime": {
     "end_time": "2024-05-10T17:13:44.703651Z",
     "start_time": "2024-05-10T17:13:44.701897Z"
    }
   },
   "source": [
    "# Step 1: Define the input parameters of the api method\n",
    "\n",
    "biomodel_id = 'BIOMD0000000630'\n",
    "sbml_dirpath = '../biosimulator_processes/model_files/sbml'\n",
    "model_fp = os.path.join(sbml_dirpath, f'{biomodel_id}_url.xml')\n",
    "species_context = 'concentrations'\n",
    "species_port_name = f'floating_species_{species_context}'\n",
    "species_store = [f'floating_species_{species_context}_store']\n",
    "duration = 30\n",
    "n_steps = 42\n",
    "simulators = ['copasi', 'amici']"
   ],
   "outputs": [],
   "execution_count": 4
  },
  {
   "metadata": {
    "ExecuteTime": {
     "end_time": "2024-05-10T17:13:44.707395Z",
     "start_time": "2024-05-10T17:13:44.704093Z"
    }
   },
   "cell_type": "code",
   "source": [
    "biomodel_id = 'BIOMD0000000744'\n",
    "document = {\n",
    "    'sbml': {\n",
    "        '_type': 'step',\n",
    "        'address': 'local:get_sbml',\n",
    "        'config': {\n",
    "            'biomodel_id': biomodel_id\n",
    "        },\n",
    "        'inputs': {\n",
    "                'biomodel_id': ['biomodel_id_store']\n",
    "        },\n",
    "        'outputs': {\n",
    "                'sbml_model_fp': ['sbml_model_fp_store'],                             \n",
    "        }\n",
    "    },\n",
    "    'ode_compare': {\n",
    "        '_type': 'step',\n",
    "        'address': 'local:compare_ode_step',\n",
    "        'inputs': {\n",
    "            'data': ['sbml_model_fp_store']\n",
    "        },\n",
    "        'outputs': {\n",
    "            'comparison': ['comparison_store']\n",
    "        }\n",
    "    },\n",
    "    'simulation': {\n",
    "        'copasi': {\n",
    "            '_type': 'process',\n",
    "            'address': 'local:copasi',\n",
    "            'config': {\n",
    "                'model': {\n",
    "                    'model_source': 'comparison_store'\n",
    "                },\n",
    "                'method': 'lsoda',\n",
    "                'species_context': 'concentrations'\n",
    "            },\n",
    "            'inputs': {\n",
    "                'floating_species_concentrations': ['floating_species_concentrations_store'],\n",
    "                'model_parameters': ['model_parameters_store'],\n",
    "                'time': ['time_store'],\n",
    "                'reactions': ['reactions_store']\n",
    "            },\n",
    "            'outputs': {\n",
    "                'floating_species_concentrations': ['floating_species_concentrations_store'],\n",
    "                'time': ['time_store']\n",
    "            }\n",
    "        },\n",
    "        'emitter': {\n",
    "            '_type': 'step',\n",
    "            'address': 'local:ram-emitter',\n",
    "            'config': {\n",
    "                'emit': {\n",
    "                    'comparison': 'string',\n",
    "                    'names': 'list[string]'\n",
    "                },\n",
    "            },\n",
    "            'inputs': {\n",
    "                'comparison': 'comparison_store',\n",
    "                'names': ['names_store']\n",
    "            }\n",
    "        }\n",
    "    } \n",
    "}\n",
    "    \n"
   ],
   "id": "128062fc0f7dd085",
   "outputs": [],
   "execution_count": 5
  },
  {
   "metadata": {
    "ExecuteTime": {
     "end_time": "2024-05-10T17:13:44.710996Z",
     "start_time": "2024-05-10T17:13:44.708059Z"
    }
   },
   "cell_type": "code",
   "source": [
    "def generate_composite(doc: dict) -> Composite:\n",
    "    return Composite(config={'state': doc}, core=CORE)\n",
    "\n",
    "def get_output(doc: dict, dur: int = 1) -> dict:\n",
    "    comp = generate_composite(doc)\n",
    "    comp.run(dur)\n",
    "    return comp.gather_results()\n",
    "    \n",
    "\n",
    "def run_workflow(biomodel_id: str, dur: int):\n",
    "    document_a = {\n",
    "        'sbml': {\n",
    "            '_type': 'step',\n",
    "            'address': 'local:get_sbml',\n",
    "            'config': {\n",
    "                'biomodel_id': biomodel_id\n",
    "            },\n",
    "            'inputs': {\n",
    "                    'biomodel_id': ['biomodel_id_store']\n",
    "            },\n",
    "            'outputs': {\n",
    "                    'sbml_model_fp': ['sbml_model_fp_store'],                             \n",
    "            }\n",
    "        },\n",
    "        'ode_compare': {\n",
    "            '_type': 'step',\n",
    "            'address': 'local:compare_ode_step',\n",
    "            'inputs': {\n",
    "                'data': ['sbml_model_fp_store']\n",
    "            },\n",
    "            'outputs': {\n",
    "                'comparison': ['comparison_store']\n",
    "            }\n",
    "        },\n",
    "        'emitter_a': {\n",
    "            '_type': 'step',\n",
    "            'address': 'local:ram-emitter',\n",
    "            'config': {\n",
    "                'emit': {\n",
    "                    'comparison': 'string',\n",
    "                },\n",
    "            },\n",
    "            'inputs': {\n",
    "                'comparison': ['comparison_store'],\n",
    "            }\n",
    "        }\n",
    "        \n",
    "    }\n",
    "    print(get_output(document_a, 1))\n",
    "    \"\"\"sbml_fp = get_output(document_a, 1)[('emitter_a',)][0]['comparison']\n",
    "    print(sbml_fp)\n",
    "    \n",
    "    document_b = {'copasi': {\n",
    "            '_type': 'process',\n",
    "            'address': 'local:copasi',\n",
    "            'config': {\n",
    "                'model': {\n",
    "                    'model_source': sbml_fp\n",
    "                },\n",
    "                'method': 'lsoda',\n",
    "                'species_context': 'concentrations'\n",
    "            },\n",
    "            'inputs': {\n",
    "                'floating_species_concentrations': ['floating_species_concentrations_store'],\n",
    "                'model_parameters': ['model_parameters_store'],\n",
    "                'time': ['time_store'],\n",
    "                'reactions': ['reactions_store']\n",
    "            },\n",
    "            'outputs': {\n",
    "                'floating_species_concentrations': ['floating_species_concentrations_store'],\n",
    "                'time': ['time_store']\n",
    "            }\n",
    "        },\n",
    "        'emitter_b': {\n",
    "            '_type': 'step',\n",
    "            'address': 'local:ram-emitter',\n",
    "            'config': {\n",
    "                'emit': {\n",
    "                    'comparison': 'string',\n",
    "                    'floating_species_concentrations': 'tree[float]'\n",
    "                },\n",
    "            },\n",
    "            'inputs': {\n",
    "                'comparison': 'comparison_store',\n",
    "                'floating_species_concentrations': ['floating_species_concentrations_store'],\n",
    "            }\n",
    "        }\n",
    "    }\"\"\"\n",
    "    # return get_output(document_b, dur)"
   ],
   "id": "94bf6f0af91561ba",
   "outputs": [],
   "execution_count": 6
  },
  {
   "metadata": {
    "ExecuteTime": {
     "end_time": "2024-05-10T17:13:45.903453Z",
     "start_time": "2024-05-10T17:13:44.711561Z"
    }
   },
   "cell_type": "code",
   "source": [
    "results = run_workflow(biomodel_id, duration)\n",
    "\n",
    "results"
   ],
   "id": "aa2dab126aef83d4",
   "outputs": [
    {
     "name": "stdout",
     "output_type": "stream",
     "text": [
      "/Users/alexanderpatrie/Desktop/repos/biosimulator-processes/demos/BIOMD0000000744_url.xml\n",
      "Error reading SBML file\n"
     ]
    },
    {
     "ename": "AttributeError",
     "evalue": "'NoneType' object has no attribute 'get'",
     "output_type": "error",
     "traceback": [
      "\u001B[0;31m---------------------------------------------------------------------------\u001B[0m",
      "\u001B[0;31mAttributeError\u001B[0m                            Traceback (most recent call last)",
      "Cell \u001B[0;32mIn[7], line 1\u001B[0m\n\u001B[0;32m----> 1\u001B[0m results \u001B[38;5;241m=\u001B[39m \u001B[43mrun_workflow\u001B[49m\u001B[43m(\u001B[49m\u001B[43mbiomodel_id\u001B[49m\u001B[43m,\u001B[49m\u001B[43m \u001B[49m\u001B[43mduration\u001B[49m\u001B[43m)\u001B[49m\n\u001B[1;32m      3\u001B[0m results\n",
      "Cell \u001B[0;32mIn[6], line 49\u001B[0m, in \u001B[0;36mrun_workflow\u001B[0;34m(biomodel_id, dur)\u001B[0m\n\u001B[1;32m     10\u001B[0m \u001B[38;5;28;01mdef\u001B[39;00m \u001B[38;5;21mrun_workflow\u001B[39m(biomodel_id: \u001B[38;5;28mstr\u001B[39m, dur: \u001B[38;5;28mint\u001B[39m):\n\u001B[1;32m     11\u001B[0m     document_a \u001B[38;5;241m=\u001B[39m {\n\u001B[1;32m     12\u001B[0m         \u001B[38;5;124m'\u001B[39m\u001B[38;5;124msbml\u001B[39m\u001B[38;5;124m'\u001B[39m: {\n\u001B[1;32m     13\u001B[0m             \u001B[38;5;124m'\u001B[39m\u001B[38;5;124m_type\u001B[39m\u001B[38;5;124m'\u001B[39m: \u001B[38;5;124m'\u001B[39m\u001B[38;5;124mstep\u001B[39m\u001B[38;5;124m'\u001B[39m,\n\u001B[0;32m   (...)\u001B[0m\n\u001B[1;32m     47\u001B[0m         \n\u001B[1;32m     48\u001B[0m     }\n\u001B[0;32m---> 49\u001B[0m     \u001B[38;5;28mprint\u001B[39m(\u001B[43mget_output\u001B[49m\u001B[43m(\u001B[49m\u001B[43mdocument_a\u001B[49m\u001B[43m,\u001B[49m\u001B[43m \u001B[49m\u001B[38;5;241;43m1\u001B[39;49m\u001B[43m)\u001B[49m)\n\u001B[1;32m     50\u001B[0m \u001B[38;5;250m    \u001B[39m\u001B[38;5;124;03m\"\"\"sbml_fp = get_output(document_a, 1)[('emitter_a',)][0]['comparison']\u001B[39;00m\n\u001B[1;32m     51\u001B[0m \u001B[38;5;124;03m    print(sbml_fp)\u001B[39;00m\n\u001B[1;32m     52\u001B[0m \u001B[38;5;124;03m    \u001B[39;00m\n\u001B[0;32m   (...)\u001B[0m\n\u001B[1;32m     87\u001B[0m \u001B[38;5;124;03m        }\u001B[39;00m\n\u001B[1;32m     88\u001B[0m \u001B[38;5;124;03m    }\"\"\"\u001B[39;00m\n",
      "Cell \u001B[0;32mIn[6], line 6\u001B[0m, in \u001B[0;36mget_output\u001B[0;34m(doc, dur)\u001B[0m\n\u001B[1;32m      4\u001B[0m \u001B[38;5;28;01mdef\u001B[39;00m \u001B[38;5;21mget_output\u001B[39m(doc: \u001B[38;5;28mdict\u001B[39m, dur: \u001B[38;5;28mint\u001B[39m \u001B[38;5;241m=\u001B[39m \u001B[38;5;241m1\u001B[39m) \u001B[38;5;241m-\u001B[39m\u001B[38;5;241m>\u001B[39m \u001B[38;5;28mdict\u001B[39m:\n\u001B[1;32m      5\u001B[0m     comp \u001B[38;5;241m=\u001B[39m generate_composite(doc)\n\u001B[0;32m----> 6\u001B[0m     \u001B[43mcomp\u001B[49m\u001B[38;5;241;43m.\u001B[39;49m\u001B[43mrun\u001B[49m\u001B[43m(\u001B[49m\u001B[43mdur\u001B[49m\u001B[43m)\u001B[49m\n\u001B[1;32m      7\u001B[0m     \u001B[38;5;28;01mreturn\u001B[39;00m comp\u001B[38;5;241m.\u001B[39mgather_results()\n",
      "File \u001B[0;32m~/Library/Caches/pypoetry/virtualenvs/biosimulator-processes-JaN5cQMh-py3.10/lib/python3.10/site-packages/process_bigraph/composite.py:1035\u001B[0m, in \u001B[0;36mComposite.run\u001B[0;34m(self, interval, force_complete)\u001B[0m\n\u001B[1;32m   1033\u001B[0m \u001B[38;5;28;01mdef\u001B[39;00m \u001B[38;5;21mrun\u001B[39m(\u001B[38;5;28mself\u001B[39m, interval, force_complete\u001B[38;5;241m=\u001B[39m\u001B[38;5;28;01mFalse\u001B[39;00m):\n\u001B[1;32m   1034\u001B[0m     \u001B[38;5;28;01mif\u001B[39;00m \u001B[38;5;28mself\u001B[39m\u001B[38;5;241m.\u001B[39mto_run:\n\u001B[0;32m-> 1035\u001B[0m         \u001B[38;5;28;43mself\u001B[39;49m\u001B[38;5;241;43m.\u001B[39;49m\u001B[43mrun_steps\u001B[49m\u001B[43m(\u001B[49m\u001B[38;5;28;43mself\u001B[39;49m\u001B[38;5;241;43m.\u001B[39;49m\u001B[43mto_run\u001B[49m\u001B[43m)\u001B[49m\n\u001B[1;32m   1036\u001B[0m         \u001B[38;5;28mself\u001B[39m\u001B[38;5;241m.\u001B[39mto_run \u001B[38;5;241m=\u001B[39m \u001B[38;5;28;01mNone\u001B[39;00m\n\u001B[1;32m   1038\u001B[0m     end_time \u001B[38;5;241m=\u001B[39m \u001B[38;5;28mself\u001B[39m\u001B[38;5;241m.\u001B[39mstate[\u001B[38;5;124m'\u001B[39m\u001B[38;5;124mglobal_time\u001B[39m\u001B[38;5;124m'\u001B[39m] \u001B[38;5;241m+\u001B[39m interval\n",
      "File \u001B[0;32m~/Library/Caches/pypoetry/virtualenvs/biosimulator-processes-JaN5cQMh-py3.10/lib/python3.10/site-packages/process_bigraph/composite.py:1141\u001B[0m, in \u001B[0;36mComposite.run_steps\u001B[0;34m(self, step_paths)\u001B[0m\n\u001B[1;32m   1132\u001B[0m     step_update \u001B[38;5;241m=\u001B[39m \u001B[38;5;28mself\u001B[39m\u001B[38;5;241m.\u001B[39mprocess_update(\n\u001B[1;32m   1133\u001B[0m         step_path,\n\u001B[1;32m   1134\u001B[0m         step,\n\u001B[1;32m   1135\u001B[0m         state,\n\u001B[1;32m   1136\u001B[0m         \u001B[38;5;241m-\u001B[39m\u001B[38;5;241m1.0\u001B[39m,\n\u001B[1;32m   1137\u001B[0m         \u001B[38;5;124m'\u001B[39m\u001B[38;5;124moutputs\u001B[39m\u001B[38;5;124m'\u001B[39m)\n\u001B[1;32m   1139\u001B[0m     updates\u001B[38;5;241m.\u001B[39mappend(step_update)\n\u001B[0;32m-> 1141\u001B[0m update_paths \u001B[38;5;241m=\u001B[39m \u001B[38;5;28;43mself\u001B[39;49m\u001B[38;5;241;43m.\u001B[39;49m\u001B[43mapply_updates\u001B[49m\u001B[43m(\u001B[49m\u001B[43mupdates\u001B[49m\u001B[43m)\u001B[49m\n\u001B[1;32m   1142\u001B[0m to_run \u001B[38;5;241m=\u001B[39m \u001B[38;5;28mself\u001B[39m\u001B[38;5;241m.\u001B[39mcycle_step_state()\n\u001B[1;32m   1143\u001B[0m \u001B[38;5;28;01mif\u001B[39;00m \u001B[38;5;28mlen\u001B[39m(to_run) \u001B[38;5;241m>\u001B[39m \u001B[38;5;241m0\u001B[39m:\n",
      "File \u001B[0;32m~/Library/Caches/pypoetry/virtualenvs/biosimulator-processes-JaN5cQMh-py3.10/lib/python3.10/site-packages/process_bigraph/composite.py:999\u001B[0m, in \u001B[0;36mComposite.apply_updates\u001B[0;34m(self, updates)\u001B[0m\n\u001B[1;32m    996\u001B[0m update_paths \u001B[38;5;241m=\u001B[39m []\n\u001B[1;32m    998\u001B[0m \u001B[38;5;28;01mfor\u001B[39;00m defer \u001B[38;5;129;01min\u001B[39;00m updates:\n\u001B[0;32m--> 999\u001B[0m     series \u001B[38;5;241m=\u001B[39m \u001B[43mdefer\u001B[49m\u001B[38;5;241;43m.\u001B[39;49m\u001B[43mget\u001B[49m\u001B[43m(\u001B[49m\u001B[43m)\u001B[49m\n\u001B[1;32m   1000\u001B[0m     \u001B[38;5;28;01mif\u001B[39;00m series \u001B[38;5;129;01mis\u001B[39;00m \u001B[38;5;28;01mNone\u001B[39;00m:\n\u001B[1;32m   1001\u001B[0m         \u001B[38;5;28;01mcontinue\u001B[39;00m\n",
      "File \u001B[0;32m~/Library/Caches/pypoetry/virtualenvs/biosimulator-processes-JaN5cQMh-py3.10/lib/python3.10/site-packages/process_bigraph/composite.py:517\u001B[0m, in \u001B[0;36mDefer.get\u001B[0;34m(self)\u001B[0m\n\u001B[1;32m    511\u001B[0m \u001B[38;5;28;01mdef\u001B[39;00m \u001B[38;5;21mget\u001B[39m(\u001B[38;5;28mself\u001B[39m):\n\u001B[1;32m    512\u001B[0m \u001B[38;5;250m    \u001B[39m\u001B[38;5;124;03m\"\"\"Perform the deferred computation.\u001B[39;00m\n\u001B[1;32m    513\u001B[0m \n\u001B[1;32m    514\u001B[0m \u001B[38;5;124;03m    Returns:\u001B[39;00m\n\u001B[1;32m    515\u001B[0m \u001B[38;5;124;03m        The result of calling the function.\u001B[39;00m\n\u001B[1;32m    516\u001B[0m \u001B[38;5;124;03m    \"\"\"\u001B[39;00m\n\u001B[0;32m--> 517\u001B[0m     \u001B[38;5;28;01mreturn\u001B[39;00m \u001B[38;5;28;43mself\u001B[39;49m\u001B[38;5;241;43m.\u001B[39;49m\u001B[43mf\u001B[49m\u001B[43m(\u001B[49m\n\u001B[1;32m    518\u001B[0m \u001B[43m        \u001B[49m\u001B[38;5;28;43mself\u001B[39;49m\u001B[38;5;241;43m.\u001B[39;49m\u001B[43mdefer\u001B[49m\u001B[38;5;241;43m.\u001B[39;49m\u001B[43mget\u001B[49m\u001B[43m(\u001B[49m\u001B[43m)\u001B[49m\u001B[43m,\u001B[49m\n\u001B[1;32m    519\u001B[0m \u001B[43m        \u001B[49m\u001B[38;5;28;43mself\u001B[39;49m\u001B[38;5;241;43m.\u001B[39;49m\u001B[43margs\u001B[49m\u001B[43m)\u001B[49m\n",
      "File \u001B[0;32m~/Library/Caches/pypoetry/virtualenvs/biosimulator-processes-JaN5cQMh-py3.10/lib/python3.10/site-packages/process_bigraph/composite.py:920\u001B[0m, in \u001B[0;36mComposite.process_update.<locals>.defer_project\u001B[0;34m(update, args)\u001B[0m\n\u001B[1;32m    918\u001B[0m \u001B[38;5;28;01mdef\u001B[39;00m \u001B[38;5;21mdefer_project\u001B[39m(update, args):\n\u001B[1;32m    919\u001B[0m     schema, state, path \u001B[38;5;241m=\u001B[39m args\n\u001B[0;32m--> 920\u001B[0m     \u001B[38;5;28;01mreturn\u001B[39;00m \u001B[38;5;28;43mself\u001B[39;49m\u001B[38;5;241;43m.\u001B[39;49m\u001B[43mcore\u001B[49m\u001B[38;5;241;43m.\u001B[39;49m\u001B[43mproject_edge\u001B[49m\u001B[43m(\u001B[49m\n\u001B[1;32m    921\u001B[0m \u001B[43m        \u001B[49m\u001B[43mschema\u001B[49m\u001B[43m,\u001B[49m\n\u001B[1;32m    922\u001B[0m \u001B[43m        \u001B[49m\u001B[43mstate\u001B[49m\u001B[43m,\u001B[49m\n\u001B[1;32m    923\u001B[0m \u001B[43m        \u001B[49m\u001B[43mpath\u001B[49m\u001B[43m,\u001B[49m\n\u001B[1;32m    924\u001B[0m \u001B[43m        \u001B[49m\u001B[43mupdate\u001B[49m\u001B[43m,\u001B[49m\n\u001B[1;32m    925\u001B[0m \u001B[43m        \u001B[49m\u001B[43mports_key\u001B[49m\u001B[43m)\u001B[49m\n",
      "File \u001B[0;32m~/Library/Caches/pypoetry/virtualenvs/biosimulator-processes-JaN5cQMh-py3.10/lib/python3.10/site-packages/bigraph_schema/type_system.py:948\u001B[0m, in \u001B[0;36mTypeSystem.project_edge\u001B[0;34m(self, schema, instance, edge_path, states, ports_key)\u001B[0m\n\u001B[1;32m    945\u001B[0m \u001B[38;5;28;01mif\u001B[39;00m ports \u001B[38;5;129;01mis\u001B[39;00m \u001B[38;5;28;01mNone\u001B[39;00m:\n\u001B[1;32m    946\u001B[0m     \u001B[38;5;28;01mreturn\u001B[39;00m \u001B[38;5;28;01mNone\u001B[39;00m\n\u001B[0;32m--> 948\u001B[0m \u001B[38;5;28;01mreturn\u001B[39;00m \u001B[38;5;28;43mself\u001B[39;49m\u001B[38;5;241;43m.\u001B[39;49m\u001B[43mproject\u001B[49m\u001B[43m(\u001B[49m\n\u001B[1;32m    949\u001B[0m \u001B[43m    \u001B[49m\u001B[43mports_schema\u001B[49m\u001B[43m,\u001B[49m\n\u001B[1;32m    950\u001B[0m \u001B[43m    \u001B[49m\u001B[43mports\u001B[49m\u001B[43m,\u001B[49m\n\u001B[1;32m    951\u001B[0m \u001B[43m    \u001B[49m\u001B[43medge_path\u001B[49m\u001B[43m[\u001B[49m\u001B[43m:\u001B[49m\u001B[38;5;241;43m-\u001B[39;49m\u001B[38;5;241;43m1\u001B[39;49m\u001B[43m]\u001B[49m\u001B[43m,\u001B[49m\n\u001B[1;32m    952\u001B[0m \u001B[43m    \u001B[49m\u001B[43mstates\u001B[49m\u001B[43m)\u001B[49m\n",
      "File \u001B[0;32m~/Library/Caches/pypoetry/virtualenvs/biosimulator-processes-JaN5cQMh-py3.10/lib/python3.10/site-packages/bigraph_schema/type_system.py:902\u001B[0m, in \u001B[0;36mTypeSystem.project\u001B[0;34m(self, ports, wires, path, states)\u001B[0m\n\u001B[1;32m    896\u001B[0m     result \u001B[38;5;241m=\u001B[39m set_path(\n\u001B[1;32m    897\u001B[0m         result,\n\u001B[1;32m    898\u001B[0m         destination,\n\u001B[1;32m    899\u001B[0m         states)\n\u001B[1;32m    901\u001B[0m \u001B[38;5;28;01melif\u001B[39;00m \u001B[38;5;28misinstance\u001B[39m(wires, \u001B[38;5;28mdict\u001B[39m):\n\u001B[0;32m--> 902\u001B[0m     branches \u001B[38;5;241m=\u001B[39m [\n\u001B[1;32m    903\u001B[0m         \u001B[38;5;28mself\u001B[39m\u001B[38;5;241m.\u001B[39mproject(\n\u001B[1;32m    904\u001B[0m             ports\u001B[38;5;241m.\u001B[39mget(key),\n\u001B[1;32m    905\u001B[0m             wires[key],\n\u001B[1;32m    906\u001B[0m             path,\n\u001B[1;32m    907\u001B[0m             states\u001B[38;5;241m.\u001B[39mget(key))\n\u001B[1;32m    908\u001B[0m         \u001B[38;5;28;01mfor\u001B[39;00m key \u001B[38;5;129;01min\u001B[39;00m wires\u001B[38;5;241m.\u001B[39mkeys()]\n\u001B[1;32m    910\u001B[0m     branches \u001B[38;5;241m=\u001B[39m [\n\u001B[1;32m    911\u001B[0m         branch\n\u001B[1;32m    912\u001B[0m         \u001B[38;5;28;01mfor\u001B[39;00m branch \u001B[38;5;129;01min\u001B[39;00m branches\n\u001B[1;32m    913\u001B[0m         \u001B[38;5;28;01mif\u001B[39;00m branch \u001B[38;5;129;01mis\u001B[39;00m \u001B[38;5;129;01mnot\u001B[39;00m \u001B[38;5;28;01mNone\u001B[39;00m] \u001B[38;5;66;03m# and list(branch)[0][1] is not None]\u001B[39;00m\n\u001B[1;32m    915\u001B[0m     result \u001B[38;5;241m=\u001B[39m {}\n",
      "File \u001B[0;32m~/Library/Caches/pypoetry/virtualenvs/biosimulator-processes-JaN5cQMh-py3.10/lib/python3.10/site-packages/bigraph_schema/type_system.py:907\u001B[0m, in \u001B[0;36m<listcomp>\u001B[0;34m(.0)\u001B[0m\n\u001B[1;32m    896\u001B[0m     result \u001B[38;5;241m=\u001B[39m set_path(\n\u001B[1;32m    897\u001B[0m         result,\n\u001B[1;32m    898\u001B[0m         destination,\n\u001B[1;32m    899\u001B[0m         states)\n\u001B[1;32m    901\u001B[0m \u001B[38;5;28;01melif\u001B[39;00m \u001B[38;5;28misinstance\u001B[39m(wires, \u001B[38;5;28mdict\u001B[39m):\n\u001B[1;32m    902\u001B[0m     branches \u001B[38;5;241m=\u001B[39m [\n\u001B[1;32m    903\u001B[0m         \u001B[38;5;28mself\u001B[39m\u001B[38;5;241m.\u001B[39mproject(\n\u001B[1;32m    904\u001B[0m             ports\u001B[38;5;241m.\u001B[39mget(key),\n\u001B[1;32m    905\u001B[0m             wires[key],\n\u001B[1;32m    906\u001B[0m             path,\n\u001B[0;32m--> 907\u001B[0m             \u001B[43mstates\u001B[49m\u001B[38;5;241;43m.\u001B[39;49m\u001B[43mget\u001B[49m(key))\n\u001B[1;32m    908\u001B[0m         \u001B[38;5;28;01mfor\u001B[39;00m key \u001B[38;5;129;01min\u001B[39;00m wires\u001B[38;5;241m.\u001B[39mkeys()]\n\u001B[1;32m    910\u001B[0m     branches \u001B[38;5;241m=\u001B[39m [\n\u001B[1;32m    911\u001B[0m         branch\n\u001B[1;32m    912\u001B[0m         \u001B[38;5;28;01mfor\u001B[39;00m branch \u001B[38;5;129;01min\u001B[39;00m branches\n\u001B[1;32m    913\u001B[0m         \u001B[38;5;28;01mif\u001B[39;00m branch \u001B[38;5;129;01mis\u001B[39;00m \u001B[38;5;129;01mnot\u001B[39;00m \u001B[38;5;28;01mNone\u001B[39;00m] \u001B[38;5;66;03m# and list(branch)[0][1] is not None]\u001B[39;00m\n\u001B[1;32m    915\u001B[0m     result \u001B[38;5;241m=\u001B[39m {}\n",
      "\u001B[0;31mAttributeError\u001B[0m: 'NoneType' object has no attribute 'get'"
     ]
    }
   ],
   "execution_count": 7
  },
  {
   "metadata": {},
   "cell_type": "code",
   "source": "wf = Composite(config={'state': document}, core=CORE)",
   "id": "6816ecdbd5e1c987",
   "outputs": [],
   "execution_count": null
  },
  {
   "metadata": {},
   "cell_type": "code",
   "source": [
    "wf.run(10)\n",
    "state = wf.gather_results()"
   ],
   "id": "26a1f5d65f746f1c",
   "outputs": [],
   "execution_count": null
  },
  {
   "metadata": {},
   "cell_type": "code",
   "source": "state",
   "id": "d0218dcf39a281f1",
   "outputs": [],
   "execution_count": null
  },
  {
   "metadata": {},
   "cell_type": "code",
   "source": "state",
   "id": "d9dc9fcaee30d2b1",
   "outputs": [],
   "execution_count": null
  },
  {
   "metadata": {},
   "cell_type": "code",
   "source": "",
   "id": "d1d9d9361c1a84cb",
   "outputs": [],
   "execution_count": null
  },
  {
   "metadata": {},
   "cell_type": "code",
   "source": [
    "\n",
    "        \n",
    "    \n",
    "    "
   ],
   "id": "48f95be2ef3801a6",
   "outputs": [],
   "execution_count": null
  },
  {
   "metadata": {
    "ExecuteTime": {
     "end_time": "2024-05-10T17:13:49.302942Z",
     "start_time": "2024-05-10T17:13:48.614598Z"
    }
   },
   "cell_type": "code",
   "source": [
    "from biosimulator_processes.io import fetch_sbml_file\n",
    "sbml_file = fetch_sbml_file(biomodel_id)"
   ],
   "id": "8abfcc48800bbc38",
   "outputs": [],
   "execution_count": 8
  },
  {
   "metadata": {
    "ExecuteTime": {
     "end_time": "2024-05-10T17:13:49.816980Z",
     "start_time": "2024-05-10T17:13:49.813287Z"
    }
   },
   "cell_type": "code",
   "source": "sbml_file",
   "id": "9dcde1a28ea9a390",
   "outputs": [
    {
     "data": {
      "text/plain": [
       "'/Users/alexanderpatrie/Desktop/repos/biosimulator-processes/demos/BIOMD0000000744.xml'"
      ]
     },
     "execution_count": 9,
     "metadata": {},
     "output_type": "execute_result"
    }
   ],
   "execution_count": 9
  },
  {
   "metadata": {},
   "cell_type": "code",
   "source": [
    "from basico import load_model, get_species\n",
    "\n",
    "model = load_model(sbml_file)\n",
    "\n",
    "\n",
    "model"
   ],
   "id": "921141cb72fc2af0",
   "outputs": [],
   "execution_count": null
  },
  {
   "metadata": {},
   "cell_type": "code",
   "source": "",
   "id": "f222e7361b06f420",
   "outputs": [],
   "execution_count": null
  },
  {
   "metadata": {},
   "cell_type": "code",
   "source": "get_species(model=model)",
   "id": "92c3b73263e55a0c",
   "outputs": [],
   "execution_count": null
  },
  {
   "metadata": {},
   "cell_type": "code",
   "source": "",
   "id": "2b8beaf137e9704d",
   "outputs": [],
   "execution_count": null
  }
 ],
 "metadata": {
  "kernelspec": {
   "display_name": "Python 3",
   "language": "python",
   "name": "python3"
  },
  "language_info": {
   "codemirror_mode": {
    "name": "ipython",
    "version": 2
   },
   "file_extension": ".py",
   "mimetype": "text/x-python",
   "name": "python",
   "nbconvert_exporter": "python",
   "pygments_lexer": "ipython2",
   "version": "2.7.6"
  }
 },
 "nbformat": 4,
 "nbformat_minor": 5
}
