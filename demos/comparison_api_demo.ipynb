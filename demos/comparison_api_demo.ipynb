{
 "cells": [
  {
   "cell_type": "code",
   "source": [
    "import sys\n",
    "\n",
    "sys.path.insert(0, '..')\n",
    "\n",
    "import os\n",
    "import requests\n",
    "import json\n",
    "from tempfile import mkdtemp\n",
    "import libsbml\n",
    "import amici\n",
    "import os\n",
    "from biosimulator_processes.utils import prepare_single_ode_process_document\n",
    "from biosimulator_processes.data_model.compare_data_model import ODEComparisonDocument, DocumentFactory\n",
    "from biosimulator_processes import CORE\n",
    "from process_bigraph import Composite, pp"
   ],
   "metadata": {
    "collapsed": false,
    "ExecuteTime": {
     "end_time": "2024-05-09T20:22:09.827371Z",
     "start_time": "2024-05-09T20:22:08.406714Z"
    }
   },
   "id": "159305ff5f3dc676",
   "outputs": [
    {
     "name": "stdout",
     "output_type": "stream",
     "text": [
      "CobraProcess registered successfully.\n",
      "CopasiProcess registered successfully.\n",
      "SmoldynProcess registered successfully.\n",
      "TelluriumProcess registered successfully.\n",
      "AmiciProcess registered successfully.\n",
      "ODEComparatorProcess registered successfully.\n",
      "GetSbml registered successfully.\n",
      "CompositionPlotter registered successfully.\n",
      "Plotter2d registered successfully.\n",
      "ODEComparatorStep registered successfully.\n"
     ]
    }
   ],
   "execution_count": 1
  },
  {
   "metadata": {
    "ExecuteTime": {
     "end_time": "2024-05-09T20:22:09.831925Z",
     "start_time": "2024-05-09T20:22:09.828478Z"
    }
   },
   "cell_type": "code",
   "source": [
    "import numpy as np \n",
    "\n",
    "y = np.array([0.5, 1.0, 0.75, 0.60, 0.66])\n",
    "\n",
    "average_y = np.mean(y)\n",
    "\n",
    "# Calculate the MSE for each value in y with respect to the average\n",
    "mse_scores = (y - average_y) ** 2\n",
    "\n",
    "mse_scores, average_y"
   ],
   "id": "521b15f5cec33415",
   "outputs": [
    {
     "data": {
      "text/plain": [
       "(array([0.040804, 0.088804, 0.002304, 0.010404, 0.001764]), 0.7020000000000001)"
      ]
     },
     "execution_count": 2,
     "metadata": {},
     "output_type": "execute_result"
    }
   ],
   "execution_count": 2
  },
  {
   "cell_type": "code",
   "source": [
    "\"\"\"TODO: Update the input/output schema of the ODEComparatorProcess to mimic the following:\n",
    "\n",
    "{('emitter',): [{\n",
    "    'copasi': [\n",
    "        {\n",
    "            'floating_species_concentrations': {\n",
    "                'plasminogen': 0.0,\n",
    "                'plasmin': 0.0,\n",
    "                'single intact chain urokinase-type plasminogen activator': 0.0,\n",
    "                'two-chain urokinase-type plasminogen activator': 0.0,\n",
    "                'x': 0.0,\n",
    "                'x-plasmin': 0.0},\n",
    "           'time': 0.0\n",
    "        },\n",
    "        ...\n",
    "    ],\n",
    "    'amici': [\n",
    "        {\n",
    "            'floating_species_concentrations': {\n",
    "                'plasminogen': 1.1758171177387002e+16,\n",
    "                'plasmin': 1096150505274.1506,\n",
    "                'single intact chain urokinase-type plasminogen activator': 2955755808974603.0,\n",
    "                'two-chain urokinase-type plasminogen activator': 80249.33829510311,\n",
    "                'x': 0.0,\n",
    "                'x-plasmin': 0.0},\n",
    "           'time': 0.0},\n",
    "        },\n",
    "       ...\n",
    "    ]\n",
    "\n",
    "\n",
    "\"\"\""
   ],
   "metadata": {
    "collapsed": false,
    "ExecuteTime": {
     "end_time": "2024-05-09T20:22:09.834831Z",
     "start_time": "2024-05-09T20:22:09.832601Z"
    }
   },
   "id": "4738a65e22cf7264",
   "outputs": [
    {
     "data": {
      "text/plain": [
       "\"TODO: Update the input/output schema of the ODEComparatorProcess to mimic the following:\\n\\n{('emitter',): [{\\n    'copasi': [\\n        {\\n            'floating_species_concentrations': {\\n                'plasminogen': 0.0,\\n                'plasmin': 0.0,\\n                'single intact chain urokinase-type plasminogen activator': 0.0,\\n                'two-chain urokinase-type plasminogen activator': 0.0,\\n                'x': 0.0,\\n                'x-plasmin': 0.0},\\n           'time': 0.0\\n        },\\n        ...\\n    ],\\n    'amici': [\\n        {\\n            'floating_species_concentrations': {\\n                'plasminogen': 1.1758171177387002e+16,\\n                'plasmin': 1096150505274.1506,\\n                'single intact chain urokinase-type plasminogen activator': 2955755808974603.0,\\n                'two-chain urokinase-type plasminogen activator': 80249.33829510311,\\n                'x': 0.0,\\n                'x-plasmin': 0.0},\\n           'time': 0.0},\\n        },\\n       ...\\n    ]\\n\\n\\n\""
      ]
     },
     "execution_count": 3,
     "metadata": {},
     "output_type": "execute_result"
    }
   ],
   "execution_count": 3
  },
  {
   "cell_type": "code",
   "id": "initial_id",
   "metadata": {
    "collapsed": true,
    "ExecuteTime": {
     "end_time": "2024-05-09T20:22:09.837158Z",
     "start_time": "2024-05-09T20:22:09.835470Z"
    }
   },
   "source": [
    "# Step 1: Define the input parameters of the api method\n",
    "\n",
    "biomodel_id = 'BIOMD0000000630'\n",
    "model_fp = f'../biosimulator_processes/model_files/sbml/{biomodel_id}_url.xml'\n",
    "species_context = 'concentrations'\n",
    "species_port_name = f'floating_species_{species_context}'\n",
    "species_store = [f'floating_species_{species_context}_store']\n",
    "duration = 30\n",
    "n_steps = 42\n",
    "simulators = ['copasi', 'amici']"
   ],
   "outputs": [],
   "execution_count": 4
  },
  {
   "metadata": {
    "ExecuteTime": {
     "end_time": "2024-05-09T20:22:09.841275Z",
     "start_time": "2024-05-09T20:22:09.838374Z"
    }
   },
   "cell_type": "code",
   "source": [
    "biomodel_id = 'BIOMD0000000744'\n",
    "document = {\n",
    "    'sbml': {\n",
    "        '_type': 'step',\n",
    "        'address': 'local:get_sbml',\n",
    "        'config': {\n",
    "            'biomodel_id': biomodel_id\n",
    "        },\n",
    "        'inputs': {\n",
    "                'biomodel_id': ['biomodel_id_store']\n",
    "        },\n",
    "        'outputs': {\n",
    "                'sbml_model_fp': ['sbml_model_fp_store'],\n",
    "        }\n",
    "    },\n",
    "    'ode_compare': {\n",
    "        '_type': 'step',\n",
    "        'address': 'local:compare_ode_step',\n",
    "        'inputs': {\n",
    "            'data': ['sbml_model_fp_store']\n",
    "        },\n",
    "        'outputs': {\n",
    "            'comparison': ['comparison_store']\n",
    "        }\n",
    "    },\n",
    "    'copasi': {\n",
    "        '_type': 'process',\n",
    "        'address': 'local:_process',\n",
    "        'inputs': {\n",
    "            'source': ['comparison_store']\n",
    "        },\n",
    "        'outputs': {\n",
    "            'names': ['names_store']\n",
    "        }\n",
    "    },\n",
    "    'emitter': {\n",
    "        '_type': 'step',\n",
    "        'address': 'local:ram-emitter',\n",
    "        'config': {\n",
    "            'emit': {\n",
    "                'comparison': 'string',\n",
    "                'names': 'list[string]'\n",
    "            },\n",
    "        },\n",
    "        'inputs': {\n",
    "            'comparison': ['comparison_store'],\n",
    "            'names': ['names_store']\n",
    "        }\n",
    "    }\n",
    "}"
   ],
   "id": "128062fc0f7dd085",
   "outputs": [],
   "execution_count": 5
  },
  {
   "metadata": {
    "ExecuteTime": {
     "end_time": "2024-05-09T20:22:09.844564Z",
     "start_time": "2024-05-09T20:22:09.841768Z"
    }
   },
   "cell_type": "code",
   "source": "wf = Composite(config={'state': document}, core=CORE)",
   "id": "6816ecdbd5e1c987",
   "outputs": [],
   "execution_count": 6
  },
  {
   "metadata": {
    "ExecuteTime": {
     "end_time": "2024-05-09T20:22:10.573462Z",
     "start_time": "2024-05-09T20:22:09.845179Z"
    }
   },
   "cell_type": "code",
   "source": [
    "wf.run(10)\n",
    "state = wf.gather_results()"
   ],
   "id": "26a1f5d65f746f1c",
   "outputs": [
    {
     "name": "stderr",
     "output_type": "stream",
     "text": [
      "There is no model, creating a new one\n"
     ]
    },
    {
     "name": "stdout",
     "output_type": "stream",
     "text": [
      "BIOMD0000000744\n",
      "the source: /var/folders/yy/8crj8x7x5_3b86f0js6_0bn00000gr/T/tmpmcmt5lcr/BIOMD0000000744_url.xml\n",
      "True\n",
      "the source: /var/folders/yy/8crj8x7x5_3b86f0js6_0bn00000gr/T/tmpmcmt5lcr/BIOMD0000000744_url.xml\n",
      "True\n",
      "the source: /var/folders/yy/8crj8x7x5_3b86f0js6_0bn00000gr/T/tmpmcmt5lcr/BIOMD0000000744_url.xml\n",
      "True\n",
      "the source: /var/folders/yy/8crj8x7x5_3b86f0js6_0bn00000gr/T/tmpmcmt5lcr/BIOMD0000000744_url.xml\n",
      "True\n",
      "the source: /var/folders/yy/8crj8x7x5_3b86f0js6_0bn00000gr/T/tmpmcmt5lcr/BIOMD0000000744_url.xml\n",
      "True\n",
      "the source: /var/folders/yy/8crj8x7x5_3b86f0js6_0bn00000gr/T/tmpmcmt5lcr/BIOMD0000000744_url.xml\n",
      "True\n",
      "the source: /var/folders/yy/8crj8x7x5_3b86f0js6_0bn00000gr/T/tmpmcmt5lcr/BIOMD0000000744_url.xml\n",
      "True\n",
      "the source: /var/folders/yy/8crj8x7x5_3b86f0js6_0bn00000gr/T/tmpmcmt5lcr/BIOMD0000000744_url.xml\n",
      "True\n",
      "the source: /var/folders/yy/8crj8x7x5_3b86f0js6_0bn00000gr/T/tmpmcmt5lcr/BIOMD0000000744_url.xml\n",
      "True\n",
      "the source: /var/folders/yy/8crj8x7x5_3b86f0js6_0bn00000gr/T/tmpmcmt5lcr/BIOMD0000000744_url.xml\n",
      "True\n"
     ]
    }
   ],
   "execution_count": 7
  },
  {
   "metadata": {
    "ExecuteTime": {
     "end_time": "2024-05-09T20:22:10.577036Z",
     "start_time": "2024-05-09T20:22:10.574435Z"
    }
   },
   "cell_type": "code",
   "source": "state",
   "id": "d0218dcf39a281f1",
   "outputs": [
    {
     "data": {
      "text/plain": [
       "{('emitter',): [{'comparison': '/var/folders/yy/8crj8x7x5_3b86f0js6_0bn00000gr/T/tmpmcmt5lcr/BIOMD0000000744_url.xml',\n",
       "   'names': []}]}"
      ]
     },
     "execution_count": 8,
     "metadata": {},
     "output_type": "execute_result"
    }
   ],
   "execution_count": 8
  },
  {
   "metadata": {
    "ExecuteTime": {
     "end_time": "2024-05-09T20:22:10.579986Z",
     "start_time": "2024-05-09T20:22:10.577798Z"
    }
   },
   "cell_type": "code",
   "source": "state",
   "id": "d9dc9fcaee30d2b1",
   "outputs": [
    {
     "data": {
      "text/plain": [
       "{('emitter',): [{'comparison': '/var/folders/yy/8crj8x7x5_3b86f0js6_0bn00000gr/T/tmpmcmt5lcr/BIOMD0000000744_url.xml',\n",
       "   'names': []}]}"
      ]
     },
     "execution_count": 9,
     "metadata": {},
     "output_type": "execute_result"
    }
   ],
   "execution_count": 9
  },
  {
   "metadata": {
    "ExecuteTime": {
     "end_time": "2024-05-09T20:22:10.581894Z",
     "start_time": "2024-05-09T20:22:10.580698Z"
    }
   },
   "cell_type": "code",
   "source": "",
   "id": "d1d9d9361c1a84cb",
   "outputs": [],
   "execution_count": 9
  },
  {
   "metadata": {
    "ExecuteTime": {
     "end_time": "2024-05-09T20:22:10.583719Z",
     "start_time": "2024-05-09T20:22:10.582472Z"
    }
   },
   "cell_type": "code",
   "source": "",
   "id": "6ea7adfed61ad12",
   "outputs": [],
   "execution_count": 9
  }
 ],
 "metadata": {
  "kernelspec": {
   "display_name": "Python 3",
   "language": "python",
   "name": "python3"
  },
  "language_info": {
   "codemirror_mode": {
    "name": "ipython",
    "version": 2
   },
   "file_extension": ".py",
   "mimetype": "text/x-python",
   "name": "python",
   "nbconvert_exporter": "python",
   "pygments_lexer": "ipython2",
   "version": "2.7.6"
  }
 },
 "nbformat": 4,
 "nbformat_minor": 5
}
