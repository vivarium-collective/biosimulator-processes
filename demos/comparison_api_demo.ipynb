{
 "cells": [
  {
   "cell_type": "code",
   "source": [
    "import sys\n",
    "\n",
    "sys.path.insert(0, '..')\n",
    "\n",
    "import os\n",
    "import requests\n",
    "import json\n",
    "from tempfile import mkdtemp\n",
    "from urllib.request import urlretrieve\n",
    "import libsbml\n",
    "import amici\n",
    "import os\n",
    "from biosimulator_processes.utils import prepare_single_ode_process_document\n",
    "from biosimulator_processes.data_model.compare_data_model import ODEComparisonDocument, DocumentFactory\n",
    "from biosimulator_processes import CORE\n",
    "from process_bigraph import Composite, pp"
   ],
   "metadata": {
    "collapsed": false,
    "ExecuteTime": {
     "end_time": "2024-05-10T19:39:14.515195Z",
     "start_time": "2024-05-10T19:39:13.057323Z"
    }
   },
   "id": "159305ff5f3dc676",
   "outputs": [
    {
     "name": "stdout",
     "output_type": "stream",
     "text": [
      "CobraProcess registered successfully.\n",
      "CopasiProcess registered successfully.\n",
      "_CopasiProcess registered successfully.\n",
      "SmoldynProcess registered successfully.\n",
      "TelluriumProcess registered successfully.\n",
      "AmiciProcess registered successfully.\n",
      "ODEComparatorProcess registered successfully.\n",
      "GetSbmlStep registered successfully.\n",
      "CompositionPlotter registered successfully.\n",
      "Plotter2d registered successfully.\n",
      "ODEComparatorStep registered successfully.\n"
     ]
    }
   ],
   "execution_count": 1
  },
  {
   "metadata": {
    "ExecuteTime": {
     "end_time": "2024-05-10T19:39:14.519804Z",
     "start_time": "2024-05-10T19:39:14.516253Z"
    }
   },
   "cell_type": "code",
   "source": [
    "import numpy as np \n",
    "\n",
    "y = np.array([0.5, 1.0, 0.75, 0.60, 0.66])\n",
    "\n",
    "average_y = np.mean(y)\n",
    "\n",
    "# Calculate the MSE for each value in y with respect to the average\n",
    "mse_scores = (y - average_y) ** 2\n",
    "\n",
    "mse_scores, average_y"
   ],
   "id": "521b15f5cec33415",
   "outputs": [
    {
     "data": {
      "text/plain": [
       "(array([0.040804, 0.088804, 0.002304, 0.010404, 0.001764]), 0.7020000000000001)"
      ]
     },
     "execution_count": 2,
     "metadata": {},
     "output_type": "execute_result"
    }
   ],
   "execution_count": 2
  },
  {
   "cell_type": "code",
   "source": [
    "\"\"\"TODO: Update the input/output schema of the ODEComparatorProcess to mimic the following:\n",
    "\n",
    "{('emitter',): [{\n",
    "    'copasi': [\n",
    "        {\n",
    "            'floating_species_concentrations': {\n",
    "                'plasminogen': 0.0,\n",
    "                'plasmin': 0.0,\n",
    "                'single intact chain urokinase-type plasminogen activator': 0.0,\n",
    "                'two-chain urokinase-type plasminogen activator': 0.0,\n",
    "                'x': 0.0,\n",
    "                'x-plasmin': 0.0},\n",
    "           'time': 0.0\n",
    "        },\n",
    "        ...\n",
    "    ],\n",
    "    'amici': [\n",
    "        {\n",
    "            'floating_species_concentrations': {\n",
    "                'plasminogen': 1.1758171177387002e+16,\n",
    "                'plasmin': 1096150505274.1506,\n",
    "                'single intact chain urokinase-type plasminogen activator': 2955755808974603.0,\n",
    "                'two-chain urokinase-type plasminogen activator': 80249.33829510311,\n",
    "                'x': 0.0,\n",
    "                'x-plasmin': 0.0},\n",
    "           'time': 0.0},\n",
    "        },\n",
    "       ...\n",
    "    ]\n",
    "\n",
    "\n",
    "\"\"\""
   ],
   "metadata": {
    "collapsed": false,
    "ExecuteTime": {
     "end_time": "2024-05-10T19:39:14.522644Z",
     "start_time": "2024-05-10T19:39:14.520498Z"
    }
   },
   "id": "4738a65e22cf7264",
   "outputs": [
    {
     "data": {
      "text/plain": [
       "\"TODO: Update the input/output schema of the ODEComparatorProcess to mimic the following:\\n\\n{('emitter',): [{\\n    'copasi': [\\n        {\\n            'floating_species_concentrations': {\\n                'plasminogen': 0.0,\\n                'plasmin': 0.0,\\n                'single intact chain urokinase-type plasminogen activator': 0.0,\\n                'two-chain urokinase-type plasminogen activator': 0.0,\\n                'x': 0.0,\\n                'x-plasmin': 0.0},\\n           'time': 0.0\\n        },\\n        ...\\n    ],\\n    'amici': [\\n        {\\n            'floating_species_concentrations': {\\n                'plasminogen': 1.1758171177387002e+16,\\n                'plasmin': 1096150505274.1506,\\n                'single intact chain urokinase-type plasminogen activator': 2955755808974603.0,\\n                'two-chain urokinase-type plasminogen activator': 80249.33829510311,\\n                'x': 0.0,\\n                'x-plasmin': 0.0},\\n           'time': 0.0},\\n        },\\n       ...\\n    ]\\n\\n\\n\""
      ]
     },
     "execution_count": 3,
     "metadata": {},
     "output_type": "execute_result"
    }
   ],
   "execution_count": 3
  },
  {
   "cell_type": "code",
   "id": "initial_id",
   "metadata": {
    "collapsed": true,
    "ExecuteTime": {
     "end_time": "2024-05-10T19:39:14.525418Z",
     "start_time": "2024-05-10T19:39:14.523737Z"
    }
   },
   "source": [
    "# Step 1: Define the input parameters of the api method\n",
    "\n",
    "biomodel_id = 'BIOMD0000000630'\n",
    "sbml_dirpath = '../biosimulator_processes/model_files/sbml'\n",
    "model_fp = os.path.join(sbml_dirpath, f'{biomodel_id}_url.xml')\n",
    "species_context = 'concentrations'\n",
    "species_port_name = f'floating_species_{species_context}'\n",
    "species_store = [f'floating_species_{species_context}_store']\n",
    "duration = 30\n",
    "n_steps = 42\n",
    "simulators = ['copasi', 'tellurium']"
   ],
   "outputs": [],
   "execution_count": 4
  },
  {
   "metadata": {
    "ExecuteTime": {
     "end_time": "2024-05-10T19:39:14.527077Z",
     "start_time": "2024-05-10T19:39:14.525987Z"
    }
   },
   "cell_type": "code",
   "source": "",
   "id": "ebb8ce1c333855e1",
   "outputs": [],
   "execution_count": 4
  },
  {
   "metadata": {
    "ExecuteTime": {
     "end_time": "2024-05-10T19:39:14.531541Z",
     "start_time": "2024-05-10T19:39:14.527781Z"
    }
   },
   "cell_type": "code",
   "source": [
    "def run_workflow(bio_id):\n",
    "    from tempfile import mkdtemp\n",
    "    from biosimulator_processes.io import fetch_sbml_file\n",
    "    directory = mkdtemp()\n",
    "    model_fp = fetch_sbml_file(bio_id, save_dir=directory)\n",
    "    COMPOSITE_DOC = {\n",
    "        'copasi_simple': {\n",
    "            '_type': 'process',\n",
    "              'address': 'local:copasi',\n",
    "              'config': {'model': {'model_source': model_fp}},\n",
    "              'inputs': {'floating_species_concentrations': ['copasi_simple_floating_species_concentrations_store'],\n",
    "               'model_parameters': ['model_parameters_store'],\n",
    "               'time': ['time_store'],\n",
    "               'reactions': ['reactions_store']},\n",
    "              'outputs': {'floating_species_concentrations': ['copasi_simple_floating_species_concentrations_store'],\n",
    "               'time': ['time_store']}},\n",
    "        'emitter': {\n",
    "             '_type': 'step',\n",
    "              'address': 'local:ram-emitter',\n",
    "              'config': {\n",
    "                  'emit': {\n",
    "                      'copasi_simple_floating_species_concentrations': 'tree[float]',\n",
    "                      'tellurium_simple_floating_species_concentrations': 'tree[float]',\n",
    "                      'time': 'float'\n",
    "                  }\n",
    "              },\n",
    "              'inputs': {\n",
    "                  'copasi_simple_floating_species_concentrations': ['copasi_simple_floating_species_concentrations_store'],\n",
    "                  'tellurium_simple_floating_species_concentrations': ['tellurium_simple_floating_species_concentrations_store'],\n",
    "                  'time': ['time_store']\n",
    "              }\n",
    "        },\n",
    "        'tellurium_simple': {\n",
    "            '_type': 'process',\n",
    "              'address': 'local:tellurium',\n",
    "              'config': {'model': {'model_source': model_fp}},\n",
    "              'inputs': {'floating_species_concentrations': ['tellurium_simple_floating_species_concentrations_store'],\n",
    "               'model_parameters': ['model_parameters_store'],\n",
    "               'time': ['time_store'],\n",
    "               'reactions': ['reactions_store']},\n",
    "              'outputs': {'floating_species_concentrations': ['tellurium_simple_floating_species_concentrations_store'],\n",
    "               'time': ['time_store']}}}\n",
    "\n",
    "    comp = Composite(config={'state': COMPOSITE_DOC}, core=CORE)\n",
    "    comp.run(duration)\n",
    "    print(model_fp)\n",
    "    return comp.gather_results()"
   ],
   "id": "eca388f7f6b9819f",
   "outputs": [],
   "execution_count": 5
  },
  {
   "metadata": {
    "ExecuteTime": {
     "end_time": "2024-05-10T19:39:15.808368Z",
     "start_time": "2024-05-10T19:39:14.532151Z"
    }
   },
   "cell_type": "code",
   "source": "data = run_workflow('BIOMD0000000744')",
   "id": "8ae30abc95730d7b",
   "outputs": [
    {
     "name": "stdout",
     "output_type": "stream",
     "text": [
      "found a filepath\n",
      "/var/folders/yy/8crj8x7x5_3b86f0js6_0bn00000gr/T/tmpfrj3gueq/BIOMD0000000744.xml\n"
     ]
    },
    {
     "name": "stderr",
     "output_type": "stream",
     "text": [
      "/Users/alexanderpatrie/Desktop/repos/biosimulator-processes/demos/../biosimulator_processes/processes/copasi_process.py:205: FutureWarning:\n",
      "\n",
      "Series.__getitem__ treating keys as positions is deprecated. In a future version, integer keys will always be treated as labels (consistent with DataFrame behavior). To access a value by position, use `ser.iloc[pos]`\n",
      "\n"
     ]
    }
   ],
   "execution_count": 6
  },
  {
   "metadata": {
    "ExecuteTime": {
     "end_time": "2024-05-10T19:39:15.811135Z",
     "start_time": "2024-05-10T19:39:15.809100Z"
    }
   },
   "cell_type": "code",
   "source": [
    "for values in data.values():\n",
    "    for v in values:\n",
    "        for name, val in v.items():\n",
    "            print(f'{name}: {val}')"
   ],
   "id": "5be76231fc4ce9df",
   "outputs": [
    {
     "name": "stdout",
     "output_type": "stream",
     "text": [
      "copasi_simple_floating_species_concentrations: {'x': 0.0, 'y': 0.0, 'z': 0.0, 'w': 0.0, 'v': 0.0}\n",
      "tellurium_simple_floating_species_concentrations: {'x': 0.0, 'y': 0.0, 'z': 0.0, 'w': 0.0, 'v': 0.0}\n",
      "time: 0.0\n",
      "copasi_simple_floating_species_concentrations: {'x': 4.561206356842886e+29, 'y': 3.334905159717989e+27, 'z': 1.121570997999801e+29, 'w': 1.026951232159065e+30, 'v': 8.120385674906024e+29}\n",
      "tellurium_simple_floating_species_concentrations: {'x': 0.0, 'y': 0.0, 'z': 3465.232864640857, 'w': 0.0, 'v': 0.0}\n",
      "time: 2.0\n",
      "copasi_simple_floating_species_concentrations: {'x': 8.894682689109246e+29, 'y': 6.643874349137882e+27, 'z': 2.220954275352491e+29, 'w': 2.9872793747975713e+30, 'v': 2.3928001516460923e+30}\n",
      "tellurium_simple_floating_species_concentrations: {'x': 0.0, 'y': 0.0, 'z': 6861.854417330959, 'w': 0.0, 'v': 0.0}\n",
      "time: 4.0\n",
      "copasi_simple_floating_species_concentrations: {'x': 1.3127260459622526e+30, 'y': 9.936839371983873e+27, 'z': 3.2985891780714354e+29, 'w': 5.819505827654794e+30, 'v': 4.700805600537076e+30}\n",
      "tellurium_simple_floating_species_concentrations: {'x': 0.0, 'y': 0.0, 'z': 10191.205893182809, 'w': 0.0, 'v': 0.0}\n",
      "time: 6.0\n",
      "copasi_simple_floating_species_concentrations: {'x': 1.7310313081635477e+30, 'y': 1.322255310119778e+28, 'z': 4.354906352550734e+29, 'w': 9.471915062367439e+30, 'v': 7.696294047688612e+30}\n",
      "tellurium_simple_floating_species_concentrations: {'x': 0.0, 'y': 0.0, 'z': 13454.628185454452, 'w': 0.0, 'v': 0.0}\n",
      "time: 8.0\n",
      "copasi_simple_floating_species_concentrations: {'x': 2.1471807723463683e+30, 'y': 1.6508854312492592e+28, 'z': 5.390327917837746e+29, 'w': 1.389868573757861e+31, 'v': 1.1341149310090978e+31}\n",
      "tellurium_simple_floating_species_concentrations: {'x': 0.0, 'y': 0.0, 'z': 16653.42914891256, 'w': 0.0, 'v': 0.0}\n",
      "time: 10.0\n",
      "copasi_simple_floating_species_concentrations: {'x': 2.5629451471886804e+30, 'y': 1.9802856689121694e+28, 'z': 6.405267634484562e+29, 'w': 1.905833182749871e+31, 'v': 1.5598834789903424e+31}\n",
      "tellurium_simple_floating_species_concentrations: {'x': 0.0, 'y': 0.0, 'z': 19788.888059235825, 'w': 0.0, 'v': 0.0}\n",
      "time: 12.0\n",
      "copasi_simple_floating_species_concentrations: {'x': 2.979557398977302e+30, 'y': 2.3111092114634062e+28, 'z': 7.40013107005669e+29, 'w': 2.4912874604790977e+31, 'v': 2.0434332634816532e+31}\n",
      "tellurium_simple_floating_species_concentrations: {'x': 0.0, 'y': 0.0, 'z': 22862.232061669296, 'w': 0.0, 'v': 0.0}\n",
      "time: 14.0\n",
      "copasi_simple_floating_species_concentrations: {'x': 3.3979351664537616e+30, 'y': 2.6439622892796677e+28, 'z': 8.375315761362248e+29, 'w': 3.142733034113974e+31, 'v': 2.581408591590707e+31}\n",
      "tellurium_simple_floating_species_concentrations: {'x': 0.0, 'y': 0.0, 'z': 25874.711021840918, 'w': 0.0, 'v': 0.0}\n",
      "time: 16.0\n",
      "copasi_simple_floating_species_concentrations: {'x': 3.8187964800177443e+30, 'y': 2.9794131674369316e+28, 'z': 9.331211373469316e+29, 'w': 3.8569360326248064e+31, 'v': 3.1705943298135e+31}\n",
      "tellurium_simple_floating_species_concentrations: {'x': 0.0, 'y': 0.0, 'z': 28827.529647758944, 'w': 0.0, 'v': 0.0}\n",
      "time: 18.0\n",
      "copasi_simple_floating_species_concentrations: {'x': 4.2427257695745647e+30, 'y': 3.3179994826316743e+28, 'z': 1.0268199855574797e+30, 'w': 4.630901531473267e+31, 'v': 3.8079105928612234e+31}\n",
      "tellurium_simple_floating_species_concentrations: {'x': 0.0, 'y': 0.0, 'z': 31721.908982639015, 'w': 0.0, 'v': 0.0}\n",
      "time: 20.0\n",
      "copasi_simple_floating_species_concentrations: {'x': 4.6702142039896887e+30, 'y': 3.660234323876805e+28, 'z': 1.1186655593787122e+30, 'w': 5.461853986730291e+31, 'v': 4.490407636883558e+31}\n",
      "tellurium_simple_floating_species_concentrations: {'x': 0.0, 'y': 0.0, 'z': 34558.95198196306, 'w': 0.0, 'v': 0.0}\n",
      "time: 22.0\n",
      "copasi_simple_floating_species_concentrations: {'x': 5.101685703727205e+30, 'y': 4.006611345932687e+28, 'z': 1.208694556088482e+30, 'w': 6.3472217314692375e+31, 'v': 5.215260944527617e+31}\n",
      "tellurium_simple_floating_species_concentrations: {'x': 0.0, 'y': 0.0, 'z': 37339.79972673419, 'w': 0.0, 'v': 0.0}\n",
      "time: 24.0\n",
      "copasi_simple_floating_species_concentrations: {'x': 5.537514450355576e+30, 'y': 4.357609129722965e+28, 'z': 1.296942946310955e+30, 'w': 7.284624380993127e+31, 'v': 5.979766492018206e+31}\n",
      "tellurium_simple_floating_species_concentrations: {'x': 0.0, 'y': 0.0, 'z': 40065.56739051294, 'w': 0.0, 'v': 0.0}\n",
      "time: 26.0\n",
      "copasi_simple_floating_species_concentrations: {'x': 5.978037097879482e+30, 'y': 4.713694952709906e+28, 'z': 1.3834459884050795e+30, 'w': 8.27186241462144e+31, 'v': 6.781336189984784e+31}\n",
      "tellurium_simple_floating_species_concentrations: {'x': 0.0, 'y': 0.0, 'z': 42737.34693483868, 'w': 0.0, 'v': 0.0}\n",
      "time: 28.0\n",
      "copasi_simple_floating_species_concentrations: {'x': 6.42356154966943e+30, 'y': 5.075328095953231e+28, 'z': 1.468238242568285e+30, 'w': 9.306908446729068e+31, 'v': 7.617493490480768e+31}\n",
      "tellurium_simple_floating_species_concentrations: {'x': 0.0, 'y': 0.0, 'z': 45356.20822188698, 'w': 0.0, 'v': 0.0}\n",
      "time: 30.0\n",
      "copasi_simple_floating_species_concentrations: {'x': 6.874373428391096e+30, 'y': 5.44296278683884e+28, 'z': 1.5513535846609238e+30, 'w': 1.0387899854955705e+32, 'v': 8.485869153587556e+31}\n",
      "tellurium_simple_floating_species_concentrations: {'x': 0.0, 'y': 0.0, 'z': 47923.1997035489, 'w': 0.0, 'v': 0.0}\n",
      "time: 32.0\n",
      "copasi_simple_floating_species_concentrations: {'x': 7.330740952388355e+30, 'y': 5.817050856854753e+28, 'z': 1.6328252197569806e+30, 'w': 1.1513132530136085e+32, 'v': 9.384197167418412e+31}\n",
      "tellurium_simple_floating_species_concentrations: {'x': 0.0, 'y': 0.0, 'z': 50439.348957852795, 'w': 0.0, 'v': 0.0}\n",
      "time: 34.0\n",
      "copasi_simple_floating_species_concentrations: {'x': 7.792918683688951e+30, 'y': 6.198044178863701e+28, 'z': 1.7126856954264696e+30, 'w': 1.2681055578140124e+32, 'v': 1.0310310815729692e+32}\n",
      "tellurium_simple_floating_species_concentrations: {'x': 0.0, 'y': 0.0, 'z': 52905.66387863245, 'w': 0.0, 'v': 0.0}\n",
      "time: 36.0\n",
      "copasi_simple_floating_species_concentrations: {'x': 8.261150459589408e+30, 'y': 6.5863969370390505e+28, 'z': 1.7909669147548305e+30, 'w': 1.3890266849328261e+32, 'v': 1.1262138887667927e+32}\n",
      "tellurium_simple_floating_species_concentrations: {'x': 0.0, 'y': 0.0, 'z': 55323.135562640775, 'w': 0.0, 'v': 0.0}\n",
      "time: 38.0\n",
      "copasi_simple_floating_species_concentrations: {'x': 8.73567172223909e+30, 'y': 6.9825677740592595e+28, 'z': 1.8677001491045306e+30, 'w': 1.5139509203909247e+32, 'v': 1.2237702024454168e+32}\n",
      "tellurium_simple_floating_species_concentrations: {'x': 0.0, 'y': 0.0, 'z': 57692.731103417864, 'w': 0.0, 'v': 0.0}\n",
      "time: 40.0\n",
      "copasi_simple_floating_species_concentrations: {'x': 9.216711396831748e+30, 'y': 7.387021853634864e+28, 'z': 1.942916050623975e+30, 'w': 1.6427667445522034e+32, 'v': 1.3235109198045998e+32}\n",
      "tellurium_simple_floating_species_concentrations: {'x': 0.0, 'y': 0.0, 'z': 60015.398466173196, 'w': 0.0, 'v': 0.0}\n",
      "time: 42.0\n",
      "copasi_simple_floating_species_concentrations: {'x': 9.704493426245133e+30, 'y': 7.800232871496048e+28, 'z': 2.01664466450873e+30, 'w': 1.7753765873620525e+32, 'v': 1.4252554317031795e+32}\n",
      "tellurium_simple_floating_species_concentrations: {'x': 0.0, 'y': 0.0, 'z': 62292.066863535554, 'w': 0.0, 'v': 0.0}\n",
      "time: 44.0\n",
      "copasi_simple_floating_species_concentrations: {'x': 1.0199238041056433e+31, 'y': 8.222685044187693e+28, 'z': 2.0889154410204912e+30, 'w': 1.9116966418295926e+32, 'v': 1.5288312954948361e+32}\n",
      "tellurium_simple_floating_species_concentrations: {'x': 0.0, 'y': 0.0, 'z': 64523.6471243438, 'w': 0.0, 'v': 0.0}\n",
      "time: 46.0\n",
      "copasi_simple_floating_species_concentrations: {'x': 1.0701162821471047e+31, 'y': 8.654875102541664e+28, 'z': 2.1597572472664644e+30, 'w': 2.051656733891118e+32, 'v': 1.6340739197706053e+32}\n",
      "tellurium_simple_floating_species_concentrations: {'x': 0.0, 'y': 0.0, 'z': 66711.03205552025, 'w': 0.0, 'v': 0.0}\n",
      "time: 48.0\n",
      "copasi_simple_floating_species_concentrations: {'x': 1.1210483597226604e+31, 'y': 9.097314314352325e+28, 'z': 2.229198378747113e+30, 'w': 2.1952002464884636e+32, 'v': 1.7408262604311613e+32}\n",
      "tellurium_simple_floating_species_concentrations: {'x': 0.0, 'y': 0.0, 'z': 68855.09679708933, 'w': 0.0, 'v': 0.0}\n",
      "time: 50.0\n",
      "copasi_simple_floating_species_concentrations: {'x': 1.1727415216816821e+31, 'y': 9.550530559747117e+28, 'z': 2.297266570674706e+30, 'w': 2.3422840978057603e+32, 'v': 1.848938527793842e+32}\n",
      "tellurium_simple_floating_species_concentrations: {'x': 0.0, 'y': 0.0, 'z': 70956.69917042041, 'w': 0.0, 'v': 0.0}\n",
      "time: 52.0\n",
      "copasi_simple_floating_species_concentrations: {'x': 1.2252172211925903e+31, 'y': 1.0015070481933137e+29, 'z': 2.3639890090677492e+30, 'w': 2.4928787736862846e+32, 'v': 1.9582679043173445e+32}\n",
      "tellurium_simple_floating_species_concentrations: {'x': 0.0, 'y': 0.0, 'z': 73016.68001978264, 'w': 0.0, 'v': 0.0}\n",
      "time: 54.0\n",
      "copasi_simple_floating_species_concentrations: {'x': 1.2784969376797993e+31, 'y': 1.0491501735728883e+29, 'z': 2.42939234162573e+30, 'w': 2.6469684150600995e+32, 'v': 2.0686782725690854e+32}\n",
      "tellurium_simple_floating_species_concentrations: {'x': 0.0, 'y': 0.0, 'z': 75035.86354730956, 'w': 0.0, 'v': 0.0}\n",
      "time: 56.0\n",
      "copasi_simple_floating_species_concentrations: {'x': 1.33260222779879e+31, 'y': 1.0980415356443229e+29, 'z': 2.493502688388534e+30, 'w': 2.804550961854052e+32, 'v': 2.1800399530737944e+32}\n",
      "tellurium_simple_floating_species_concentrations: {'x': 0.0, 'y': 0.0, 'z': 77015.05816788659, 'w': 0.0, 'v': 0.0}\n",
      "time: 58.0\n",
      "copasi_simple_floating_species_concentrations: {'x': 1.3875547706689386e+31, 'y': 1.1482428272204224e+29, 'z': 2.5563456521847897e+30, 'w': 2.9656383554828203e+32, 'v': 2.292229451694882e+32}\n",
      "tellurium_simple_floating_species_concentrations: {'x': 0.0, 'y': 0.0, 'z': 78955.05610300739, 'w': 0.0, 'v': 0.0}\n",
      "time: 60.0\n"
     ]
    }
   ],
   "execution_count": 7
  },
  {
   "metadata": {
    "ExecuteTime": {
     "end_time": "2024-05-10T19:39:15.920977Z",
     "start_time": "2024-05-10T19:39:15.811690Z"
    }
   },
   "cell_type": "code",
   "source": [
    "sim = comp.state['tellurium_simple']['instance']\n",
    "\n",
    "\n",
    "dir(sim.simulator)\n",
    "\n",
    "import tellurium as te\n",
    "\n",
    "results = sim.simulator.simulate(0, duration, 1000)\n",
    "\n",
    "sim.simulator.plot(results)\n"
   ],
   "id": "f72f372293483f31",
   "outputs": [
    {
     "ename": "NameError",
     "evalue": "name 'comp' is not defined",
     "output_type": "error",
     "traceback": [
      "\u001B[0;31m---------------------------------------------------------------------------\u001B[0m",
      "\u001B[0;31mNameError\u001B[0m                                 Traceback (most recent call last)",
      "Cell \u001B[0;32mIn[8], line 1\u001B[0m\n\u001B[0;32m----> 1\u001B[0m sim \u001B[38;5;241m=\u001B[39m \u001B[43mcomp\u001B[49m\u001B[38;5;241m.\u001B[39mstate[\u001B[38;5;124m'\u001B[39m\u001B[38;5;124mtellurium_simple\u001B[39m\u001B[38;5;124m'\u001B[39m][\u001B[38;5;124m'\u001B[39m\u001B[38;5;124minstance\u001B[39m\u001B[38;5;124m'\u001B[39m]\n\u001B[1;32m      4\u001B[0m \u001B[38;5;28mdir\u001B[39m(sim\u001B[38;5;241m.\u001B[39msimulator)\n\u001B[1;32m      6\u001B[0m \u001B[38;5;28;01mimport\u001B[39;00m \u001B[38;5;21;01mtellurium\u001B[39;00m \u001B[38;5;28;01mas\u001B[39;00m \u001B[38;5;21;01mte\u001B[39;00m\n",
      "\u001B[0;31mNameError\u001B[0m: name 'comp' is not defined"
     ]
    }
   ],
   "execution_count": 8
  },
  {
   "metadata": {
    "ExecuteTime": {
     "end_time": "2024-05-10T19:39:15.922622Z",
     "start_time": "2024-05-10T19:39:15.922575Z"
    }
   },
   "cell_type": "code",
   "source": [
    "comp = Composite(config={'state': composite_doc}, core=CORE)\n",
    "comp.run(duration)\n",
    "data = comp.gather_results()"
   ],
   "id": "48ea456677bcd98b",
   "outputs": [],
   "execution_count": null
  },
  {
   "metadata": {},
   "cell_type": "code",
   "source": "data",
   "id": "e79fe0e81782219e",
   "outputs": [],
   "execution_count": null
  },
  {
   "metadata": {},
   "cell_type": "code",
   "source": [
    "def generate_comparison(duration: int, n_steps: int, simulators: list[str]):\n",
    "    biomodel_id = 'BIOMD0000000744'\n",
    "    comparison_doc = {\n",
    "        'copasi': {\n",
    "                '_type': 'process',\n",
    "                'address': 'local:compare_ode_process',\n",
    "                'config': {\n",
    "                    'biomodel_id': biomodel_id,\n",
    "                    'duration': duration,\n",
    "                    'num_steps': n_steps,\n",
    "                    'simulators': simulators,\n",
    "                },\n",
    "                'inputs': {\n",
    "                    'floating_species_concentrations': ['floating_species_concentrations_store'],\n",
    "                    'model_parameters': ['model_parameters_store'],\n",
    "                    'time': ['time_store'],\n",
    "                    'reactions': ['reactions_store']\n",
    "                },\n",
    "                'outputs': {\n",
    "                    'floating_species_concentrations': ['floating_species_concentrations_store'],\n",
    "                    'time': ['time_store']\n",
    "                }\n",
    "            },\n",
    "            'emitter': {\n",
    "                '_type': 'step',\n",
    "                'address': 'local:ram-emitter',\n",
    "                'config': {\n",
    "                    'emit': {\n",
    "                        'time': 'float',\n",
    "                        'floating_species_concentrations': 'tree[float]'\n",
    "                    },\n",
    "                },\n",
    "                'inputs': {\n",
    "                    'floating_species_concentrations': ['floating_species_concentrations_store'],\n",
    "                    'time': ['time_store']\n",
    "                }\n",
    "            }\n",
    "    }\n",
    "    \n",
    "    wf = Composite(config={'state': comparison_doc}, core=CORE)\n",
    "    wf.run(duration)\n",
    "    results = wf.gather_results()\n",
    "    pp(results)\n",
    "    return results"
   ],
   "id": "9b80bed5d45275a6",
   "outputs": [],
   "execution_count": null
  },
  {
   "metadata": {},
   "cell_type": "code",
   "source": [
    "results = generate_comparison(duration, n_steps, simulators)\n",
    "\n",
    "results"
   ],
   "id": "5019970c058beff5",
   "outputs": [],
   "execution_count": null
  },
  {
   "metadata": {},
   "cell_type": "code",
   "source": "",
   "id": "c7458afc08258175",
   "outputs": [],
   "execution_count": null
  },
  {
   "metadata": {},
   "cell_type": "code",
   "source": "",
   "id": "29955975831fdf81",
   "outputs": [],
   "execution_count": null
  },
  {
   "metadata": {},
   "cell_type": "code",
   "source": "",
   "id": "cadf7f7c73ace5a6",
   "outputs": [],
   "execution_count": null
  },
  {
   "metadata": {},
   "cell_type": "code",
   "source": [
    "\n",
    "document = {\n",
    "    'sbml': {\n",
    "        '_type': 'step',\n",
    "        'address': 'local:get_sbml',\n",
    "        'config': {\n",
    "            'biomodel_id': biomodel_id\n",
    "        },\n",
    "        'inputs': {\n",
    "                'biomodel_id': ['biomodel_id_store']\n",
    "        },\n",
    "        'outputs': {\n",
    "                'sbml_model_fp': ['sbml_model_fp_store'],                             \n",
    "        }\n",
    "    },\n",
    "    'ode_compare': {\n",
    "        '_type': 'step',\n",
    "        'address': 'local:compare_ode_step',\n",
    "        'inputs': {\n",
    "            'data': ['sbml_model_fp_store']\n",
    "        },\n",
    "        'outputs': {\n",
    "            'comparison': ['comparison_store']\n",
    "        }\n",
    "    },\n",
    "    'simulation': {\n",
    "        'copasi': {\n",
    "            '_type': 'process',\n",
    "            'address': 'local:copasi',\n",
    "            'config': {\n",
    "                'model': {\n",
    "                    'model_source': 'comparison_store'\n",
    "                },\n",
    "                'method': 'lsoda',\n",
    "                'species_context': 'concentrations'\n",
    "            },\n",
    "            'inputs': {\n",
    "                'floating_species_concentrations': ['floating_species_concentrations_store'],\n",
    "                'model_parameters': ['model_parameters_store'],\n",
    "                'time': ['time_store'],\n",
    "                'reactions': ['reactions_store']\n",
    "            },\n",
    "            'outputs': {\n",
    "                'floating_species_concentrations': ['floating_species_concentrations_store'],\n",
    "                'time': ['time_store']\n",
    "            }\n",
    "        },\n",
    "        'emitter': {\n",
    "            '_type': 'step',\n",
    "            'address': 'local:ram-emitter',\n",
    "            'config': {\n",
    "                'emit': {\n",
    "                    'comparison': 'string',\n",
    "                    'names': 'list[string]'\n",
    "                },\n",
    "            },\n",
    "            'inputs': {\n",
    "                'comparison': 'comparison_store',\n",
    "                'names': ['names_store']\n",
    "            }\n",
    "        }\n",
    "    } \n",
    "}\n",
    "    \n"
   ],
   "id": "128062fc0f7dd085",
   "outputs": [],
   "execution_count": null
  },
  {
   "metadata": {},
   "cell_type": "code",
   "source": [
    "class ODEComparator:\n",
    "    def __init__(self, biomodel_id, dirpath, dur):\n",
    "        document_a = {\n",
    "            'sbml': {\n",
    "                '_type': 'step',\n",
    "                'address': 'local:get_sbml_step',\n",
    "                'config': {\n",
    "                    'biomodel_id': biomodel_id,\n",
    "                    'save_dir': dirpath\n",
    "                },\n",
    "                'inputs': {\n",
    "                        'biomodel_id': ['biomodel_id_store']\n",
    "                },\n",
    "                'outputs': {\n",
    "                        'sbml_model_fp': ['sbml_model_fp_store'],                             \n",
    "                }\n",
    "            },\n",
    "            'emitter_a': {\n",
    "                '_type': 'step',\n",
    "                'address': 'local:ram-emitter',\n",
    "                'config': {\n",
    "                    'emit': {\n",
    "                        'comparison': 'string'}},\n",
    "                'inputs': {\n",
    "                    'model_fp': ['sbml_model_fp_store']}\n",
    "            },\n",
    "            'copasi': {\n",
    "                '_type': 'process',\n",
    "                'address': 'local:copasi',\n",
    "                'config': {\n",
    "                    'model': {\n",
    "                        'model_source': ['sbml_model_fp_store']\n",
    "                    },\n",
    "                    'method': 'lsoda',\n",
    "                    'species_context': 'concentrations',\n",
    "                },\n",
    "                'inputs': {\n",
    "                    'floating_species_concentrations': ['floating_species_concentrations_store'],\n",
    "                    'model_parameters': ['model_parameters_store'],\n",
    "                    'time': ['time_store'],\n",
    "                    'reactions': ['reactions_store']\n",
    "                },\n",
    "                'outputs': {\n",
    "                    'floating_species_concentrations': ['floating_species_concentrations_store'],\n",
    "                    'time': ['time_store']\n",
    "                }\n",
    "            },\n",
    "            'emitter_b': {\n",
    "                '_type': 'step',\n",
    "                'address': 'local:ram-emitter',\n",
    "                'config': {\n",
    "                    'emit': {\n",
    "                        'floating_species_concentrations': 'tree[float]'\n",
    "                    },\n",
    "                },\n",
    "                'inputs': {\n",
    "                    'floating_species_concentrations': ['floating_species_concentrations_store'],\n",
    "                }\n",
    "            }\n",
    "        }\n",
    "        \n",
    "        wf = Composite(config={'state': document_a}, core=CORE)\n",
    "        wf.run(dur)\n",
    "        self.results = wf.gather_results()\n",
    "        "
   ],
   "id": "650ac2376511b980",
   "outputs": [],
   "execution_count": null
  },
  {
   "metadata": {},
   "cell_type": "code",
   "source": [
    "compare = ODEComparator(biomodel_id, mkdtemp(), 10)\n",
    "\n",
    "compare.results"
   ],
   "id": "aa7a26011e0c676a",
   "outputs": [],
   "execution_count": null
  },
  {
   "metadata": {},
   "cell_type": "code",
   "source": [
    "def generate_composite(doc: dict) -> Composite:\n",
    "    return Composite(config={'state': doc}, core=CORE)\n",
    "\n",
    "def get_output(doc: dict, dur: int = 1) -> dict:\n",
    "    comp = generate_composite(doc)\n",
    "    comp.run(dur)\n",
    "    return comp.gather_results()\n",
    "\n",
    "def generate_outputs(docs: list[dict], dur: int = 1) -> list[dict]:\n",
    "    outputs = []\n",
    "    for doc in docs:\n",
    "        result = get_output(doc, dur)\n",
    "        outputs.append(result)\n",
    "    return outputs \n",
    "    \n",
    "def run_workflow(biomodel_id: str, dur: int = 10):\n",
    "    import tempfile\n",
    "    dirpath = tempfile.mkdtemp()\n",
    "    document_a = {\n",
    "        'sbml': {\n",
    "            '_type': 'step',\n",
    "            'address': 'local:get_sbml_step',\n",
    "            'config': {\n",
    "                'biomodel_id': biomodel_id,\n",
    "                'save_dir': dirpath\n",
    "            },\n",
    "            'inputs': {\n",
    "                    'biomodel_id': ['biomodel_id_store']\n",
    "            },\n",
    "            'outputs': {\n",
    "                    'sbml_model_fp': ['sbml_model_fp_store'],                             \n",
    "            }\n",
    "        },\n",
    "        'ode_compare': {\n",
    "            '_type': 'step',\n",
    "            'address': 'local:compare_ode_step',\n",
    "            'inputs': {\n",
    "                'data': ['sbml_model_fp_store']\n",
    "            },\n",
    "            'outputs': {\n",
    "                'comparison': ['comparison_store']\n",
    "            }\n",
    "        },\n",
    "        'emitter_a': {\n",
    "            '_type': 'step',\n",
    "            'address': 'local:ram-emitter',\n",
    "            'config': {\n",
    "                'emit': {\n",
    "                    'comparison': 'string',\n",
    "                },\n",
    "            },\n",
    "            'inputs': {\n",
    "                'comparison': ['comparison_store'],\n",
    "            }\n",
    "        }\n",
    "        \n",
    "    }\n",
    "    # sbml_fp = get_output(document_a, 1)[('emitter_a',)][0]['comparison']\n",
    "    # print(sbml_fp)\n",
    "    wf1 = Composite(config={'state': document_a}, core=CORE)\n",
    "    wf1.run(1)\n",
    "    sbml_fp = wf1.gather_results()[('emitter_a',)][0]['comparison']\n",
    "    \n",
    "    document_b = {\n",
    "        'copasi': {\n",
    "            '_type': 'process',\n",
    "            'address': 'local:copasi',\n",
    "            'config': {\n",
    "                'model': {\n",
    "                    'model_source': sbml_fp\n",
    "                },\n",
    "                'method': 'lsoda',\n",
    "                'species_context': 'concentrations',\n",
    "                'state': wf1.state\n",
    "            },\n",
    "            'inputs': {\n",
    "                'floating_species_concentrations': ['floating_species_concentrations_store'],\n",
    "                'model_parameters': ['model_parameters_store'],\n",
    "                'time': ['time_store'],\n",
    "                'reactions': ['reactions_store']\n",
    "            },\n",
    "            'outputs': {\n",
    "                'floating_species_concentrations': ['floating_species_concentrations_store'],\n",
    "                'time': ['time_store']\n",
    "            }\n",
    "        },\n",
    "        'emitter_b': {\n",
    "            '_type': 'step',\n",
    "            'address': 'local:ram-emitter',\n",
    "            'config': {\n",
    "                'emit': {\n",
    "                    'floating_species_concentrations': 'tree[float]'\n",
    "                },\n",
    "            },\n",
    "            'inputs': {\n",
    "                'floating_species_concentrations': ['floating_species_concentrations_store'],\n",
    "            }\n",
    "        }\n",
    "    }\n",
    "    \n",
    "    print(sbml_fp)\n",
    "    wf = Composite(config={'state': document_b}, core=CORE)\n",
    "    wf.run(dur)\n",
    "    results = wf.gather_results()\n",
    "    pp(results)\n",
    "    return results \n",
    "    "
   ],
   "id": "94bf6f0af91561ba",
   "outputs": [],
   "execution_count": null
  },
  {
   "metadata": {},
   "cell_type": "code",
   "source": [
    "results = run_workflow(biomodel_id, duration)\n",
    "\n",
    "results"
   ],
   "id": "aa2dab126aef83d4",
   "outputs": [],
   "execution_count": null
  },
  {
   "metadata": {},
   "cell_type": "code",
   "source": "wf = Composite(config={'state': document}, core=CORE)",
   "id": "6816ecdbd5e1c987",
   "outputs": [],
   "execution_count": null
  },
  {
   "metadata": {},
   "cell_type": "code",
   "source": [
    "wf.run(10)\n",
    "state = wf.gather_results()"
   ],
   "id": "26a1f5d65f746f1c",
   "outputs": [],
   "execution_count": null
  },
  {
   "metadata": {},
   "cell_type": "code",
   "source": "state",
   "id": "d0218dcf39a281f1",
   "outputs": [],
   "execution_count": null
  },
  {
   "metadata": {},
   "cell_type": "code",
   "source": "state",
   "id": "d9dc9fcaee30d2b1",
   "outputs": [],
   "execution_count": null
  },
  {
   "metadata": {},
   "cell_type": "code",
   "source": "",
   "id": "d1d9d9361c1a84cb",
   "outputs": [],
   "execution_count": null
  },
  {
   "metadata": {},
   "cell_type": "code",
   "source": [
    "\n",
    "        \n",
    "    \n",
    "    "
   ],
   "id": "48f95be2ef3801a6",
   "outputs": [],
   "execution_count": null
  },
  {
   "metadata": {},
   "cell_type": "code",
   "source": [
    "from biosimulator_processes.io import fetch_sbml_file\n",
    "sbml_file = fetch_sbml_file(biomodel_id)"
   ],
   "id": "8abfcc48800bbc38",
   "outputs": [],
   "execution_count": null
  },
  {
   "metadata": {},
   "cell_type": "code",
   "source": "sbml_file",
   "id": "9dcde1a28ea9a390",
   "outputs": [],
   "execution_count": null
  },
  {
   "metadata": {},
   "cell_type": "code",
   "source": [
    "from basico import load_model, get_species\n",
    "\n",
    "model = load_model(sbml_file)\n",
    "\n",
    "\n",
    "model"
   ],
   "id": "921141cb72fc2af0",
   "outputs": [],
   "execution_count": null
  },
  {
   "metadata": {},
   "cell_type": "code",
   "source": "",
   "id": "f222e7361b06f420",
   "outputs": [],
   "execution_count": null
  },
  {
   "metadata": {},
   "cell_type": "code",
   "source": "get_species(model=model)",
   "id": "92c3b73263e55a0c",
   "outputs": [],
   "execution_count": null
  },
  {
   "metadata": {},
   "cell_type": "code",
   "source": "",
   "id": "2b8beaf137e9704d",
   "outputs": [],
   "execution_count": null
  }
 ],
 "metadata": {
  "kernelspec": {
   "display_name": "Python 3",
   "language": "python",
   "name": "python3"
  },
  "language_info": {
   "codemirror_mode": {
    "name": "ipython",
    "version": 2
   },
   "file_extension": ".py",
   "mimetype": "text/x-python",
   "name": "python",
   "nbconvert_exporter": "python",
   "pygments_lexer": "ipython2",
   "version": "2.7.6"
  }
 },
 "nbformat": 4,
 "nbformat_minor": 5
}
