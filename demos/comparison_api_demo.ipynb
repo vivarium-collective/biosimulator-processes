{
 "cells": [
  {
   "cell_type": "code",
   "execution_count": 1,
   "outputs": [
    {
     "name": "stdout",
     "output_type": "stream",
     "text": [
      "CobraProcess registered successfully.\n",
      "CopasiProcess registered successfully.\n",
      "SmoldynProcess not available. Error: \n",
      "PLEASE NOTE: Smoldyn is not correctly installed on your system which prevents you from using the SmoldynProcess. Please refer to the README for further information on installing Smoldyn.\n",
      "TelluriumProcess registered successfully.\n",
      "AmiciProcess registered successfully.\n"
     ]
    }
   ],
   "source": [
    "import sys\n",
    "\n",
    "sys.path.insert(0, '..')\n",
    "\n",
    "import os\n",
    "import requests\n",
    "import json\n",
    "from tempfile import mkdtemp\n",
    "import libsbml\n",
    "import amici\n",
    "import os\n",
    "from biosimulator_processes.utils import prepare_single_ode_process_document\n",
    "from biosimulator_processes.data_model.compare_data_model import ODEComparisonDocument, DocumentFactory\n",
    "from biosimulator_processes import CORE\n",
    "from process_bigraph import Composite, pp"
   ],
   "metadata": {
    "collapsed": false,
    "ExecuteTime": {
     "end_time": "2024-05-04T16:31:16.239887Z",
     "start_time": "2024-05-04T16:31:13.297610Z"
    }
   },
   "id": "159305ff5f3dc676"
  },
  {
   "cell_type": "code",
   "execution_count": 10,
   "outputs": [
    {
     "data": {
      "text/plain": "\"TODO: Update the input/output schema of the ODEComparatorProcess to mimic the following:\\n\\n{('emitter',): [{\\n    'copasi': [\\n        {\\n            'floating_species_concentrations': {\\n                'plasminogen': 0.0,\\n                'plasmin': 0.0,\\n                'single intact chain urokinase-type plasminogen activator': 0.0,\\n                'two-chain urokinase-type plasminogen activator': 0.0,\\n                'x': 0.0,\\n                'x-plasmin': 0.0},\\n           'time': 0.0\\n        },\\n        ...\\n    ],\\n    'amici': [\\n        {\\n            'floating_species_concentrations': {\\n                'plasminogen': 1.1758171177387002e+16,\\n                'plasmin': 1096150505274.1506,\\n                'single intact chain urokinase-type plasminogen activator': 2955755808974603.0,\\n                'two-chain urokinase-type plasminogen activator': 80249.33829510311,\\n                'x': 0.0,\\n                'x-plasmin': 0.0},\\n           'time': 0.0},\\n        },\\n       ...\\n    ]\\n\\n\\n\""
     },
     "execution_count": 10,
     "metadata": {},
     "output_type": "execute_result"
    }
   ],
   "source": [
    "\"\"\"TODO: Update the input/output schema of the ODEComparatorProcess to mimic the following:\n",
    "\n",
    "{('emitter',): [{\n",
    "    'copasi': [\n",
    "        {\n",
    "            'floating_species_concentrations': {\n",
    "                'plasminogen': 0.0,\n",
    "                'plasmin': 0.0,\n",
    "                'single intact chain urokinase-type plasminogen activator': 0.0,\n",
    "                'two-chain urokinase-type plasminogen activator': 0.0,\n",
    "                'x': 0.0,\n",
    "                'x-plasmin': 0.0},\n",
    "           'time': 0.0\n",
    "        },\n",
    "        ...\n",
    "    ],\n",
    "    'amici': [\n",
    "        {\n",
    "            'floating_species_concentrations': {\n",
    "                'plasminogen': 1.1758171177387002e+16,\n",
    "                'plasmin': 1096150505274.1506,\n",
    "                'single intact chain urokinase-type plasminogen activator': 2955755808974603.0,\n",
    "                'two-chain urokinase-type plasminogen activator': 80249.33829510311,\n",
    "                'x': 0.0,\n",
    "                'x-plasmin': 0.0},\n",
    "           'time': 0.0},\n",
    "        },\n",
    "       ...\n",
    "    ]\n",
    "\n",
    "\n",
    "\"\"\""
   ],
   "metadata": {
    "collapsed": false,
    "ExecuteTime": {
     "end_time": "2024-05-04T00:40:15.962861Z",
     "start_time": "2024-05-04T00:40:15.958017Z"
    }
   },
   "id": "4738a65e22cf7264"
  },
  {
   "cell_type": "code",
   "execution_count": 2,
   "id": "initial_id",
   "metadata": {
    "collapsed": true,
    "ExecuteTime": {
     "end_time": "2024-05-04T00:15:03.320029Z",
     "start_time": "2024-05-04T00:15:03.314889Z"
    }
   },
   "outputs": [],
   "source": [
    "# Step 1: Define the input parameters of the api method\n",
    "\n",
    "biomodel_id = 'BIOMD0000000630'\n",
    "model_fp = f'../biosimulator_processes/model_files/sbml/{biomodel_id}_url.xml'\n",
    "species_context = 'concentrations'\n",
    "species_port_name = f'floating_species_{species_context}'\n",
    "species_store = [f'floating_species_{species_context}_store']\n",
    "duration = 30\n",
    "n_steps = 42\n",
    "simulators = ['copasi', 'amici']"
   ]
  },
  {
   "cell_type": "code",
   "execution_count": 3,
   "outputs": [
    {
     "data": {
      "text/plain": "{'copasi_0': {'_type': 'process',\n  'address': 'local:copasi',\n  'config': {'model': {'model_source': '../biosimulator_processes/model_files/sbml/BIOMD0000000630_url.xml'}},\n  'inputs': {'floating_species_concentrations': ['floating_species_concentrations_store'],\n   'model_parameters': ['model_parameters_store'],\n   'time': ['time_store'],\n   'reactions': ['reactions_store']},\n  'outputs': {'floating_species_concentrations': ['floating_species_concentrations_store'],\n   'time': ['time_store']}},\n 'amici_1': {'_type': 'process',\n  'address': 'local:amici',\n  'config': {'model': {'model_source': '../biosimulator_processes/model_files/sbml/BIOMD0000000630_url.xml'}},\n  'inputs': {'floating_species_concentrations': ['floating_species_concentrations_store'],\n   'model_parameters': ['model_parameters_store'],\n   'time': ['time_store'],\n   'reactions': ['reactions_store']},\n  'outputs': {'floating_species_concentrations': ['floating_species_concentrations_store'],\n   'time': ['time_store']}},\n 'emitter': {'_type': 'step',\n  'address': 'local:ram-emitter',\n  'config': {'emit': {'floating_species_concentrations': 'tree[float]',\n    'time': 'float'}},\n  'inputs': {'floating_species_concentrations': ['floating_species_concentrations_store'],\n   'time': ['time_store']}}}"
     },
     "execution_count": 3,
     "metadata": {},
     "output_type": "execute_result"
    }
   ],
   "source": [
    "# Step 2: Define a helper composite maker\n",
    "\n",
    "comparison_document = ODEComparisonDocument(\n",
    "    simulators=simulators,\n",
    "    duration=duration,\n",
    "    num_steps=n_steps,\n",
    "    model_filepath=model_fp)\n",
    "\n",
    "comparison_document.composite"
   ],
   "metadata": {
    "collapsed": false,
    "ExecuteTime": {
     "end_time": "2024-05-04T00:15:03.329246Z",
     "start_time": "2024-05-04T00:15:03.321625Z"
    }
   },
   "id": "5dcc12fc75947cc6"
  },
  {
   "cell_type": "code",
   "execution_count": 4,
   "outputs": [
    {
     "data": {
      "text/plain": "{'copasi_0': {'_type': 'process',\n  'address': 'local:copasi',\n  'config': {'model': {'model_source': '../biosimulator_processes/model_files/sbml/BIOMD0000000630_url.xml'}},\n  'inputs': {'floating_species_concentrations': ['floating_species_concentrations_store'],\n   'model_parameters': ['model_parameters_store'],\n   'time': ['time_store'],\n   'reactions': ['reactions_store']},\n  'outputs': {'floating_species_concentrations': ['floating_species_concentrations_store'],\n   'time': ['time_store']}},\n 'amici_1': {'_type': 'process',\n  'address': 'local:amici',\n  'config': {'model': {'model_source': '../biosimulator_processes/model_files/sbml/BIOMD0000000630_url.xml'}},\n  'inputs': {'floating_species_concentrations': ['floating_species_concentrations_store'],\n   'model_parameters': ['model_parameters_store'],\n   'time': ['time_store'],\n   'reactions': ['reactions_store']},\n  'outputs': {'floating_species_concentrations': ['floating_species_concentrations_store'],\n   'time': ['time_store']}},\n 'emitter': {'_type': 'step',\n  'address': 'local:ram-emitter',\n  'config': {'emit': {'floating_species_concentrations': 'tree[float]',\n    'time': 'float'}},\n  'inputs': {'floating_species_concentrations': ['floating_species_concentrations_store'],\n   'time': ['time_store']}},\n 'amici_2': {'_type': 'process',\n  'address': 'local:copasi',\n  'config': {'model': {'model_source': '../biosimulator_processes/model_files/sbml/BIOMD0000000630_url.xml'}},\n  'inputs': {'floating_species_concentrations': ['floating_species_concentrations_store'],\n   'model_parameters': ['model_parameters_store'],\n   'time': ['time_store'],\n   'reactions': ['reactions_store']},\n  'outputs': {'floating_species_concentrations': ['floating_species_concentrations_store'],\n   'time': ['time_store']}}}"
     },
     "execution_count": 4,
     "metadata": {},
     "output_type": "execute_result"
    }
   ],
   "source": [
    "# Step 2a: Define one more amici process for demo purposes\n",
    "\n",
    "comparison_document.add_single_process_to_composite(process_id='amici_2', simulator='amici')\n",
    "\n",
    "comparison_document.composite"
   ],
   "metadata": {
    "collapsed": false,
    "ExecuteTime": {
     "end_time": "2024-05-04T00:15:03.354183Z",
     "start_time": "2024-05-04T00:15:03.328309Z"
    }
   },
   "id": "eaa9a29b871cccab"
  },
  {
   "cell_type": "code",
   "execution_count": 5,
   "outputs": [
    {
     "name": "stderr",
     "output_type": "stream",
     "text": [
      "2024-05-03 20:15:03.440 - amici.sbml_import - INFO - Finished importing SBML                         (3.66E-02s)\n"
     ]
    },
    {
     "name": "stdout",
     "output_type": "stream",
     "text": [
      "found a filepath\n"
     ]
    },
    {
     "name": "stderr",
     "output_type": "stream",
     "text": [
      "2024-05-03 20:15:03.487 - amici.sbml_import - INFO - Finished processing SBML observables            (4.34E-02s)\n",
      "2024-05-03 20:15:03.491 - amici.sbml_import - INFO - Finished processing SBML event observables      (9.58E-07s)\n",
      "2024-05-03 20:15:03.530 - amici.de_model - INFO - Finished computing xdot                            (4.90E-03s)\n",
      "2024-05-03 20:15:03.537 - amici.de_model - INFO - Finished computing x0                              (3.07E-03s)\n",
      "2024-05-03 20:15:03.550 - amici.de_model - INFO - Finished computing w                               (9.39E-03s)\n",
      "2024-05-03 20:15:04.070 - amici.de_export - INFO - Finished generating cpp code                      (5.14E-01s)\n",
      "2024-05-03 20:15:21.859 - amici.de_export - INFO - Finished compiling cpp code                       (1.78E+01s)\n"
     ]
    },
    {
     "name": "stdout",
     "output_type": "stream",
     "text": [
      "found a filepath\n"
     ]
    }
   ],
   "source": [
    "# Step 3: Add document to composition\n",
    "\n",
    "ode_comparison_workflow = Composite(\n",
    "    config={'state': comparison_document.composite},\n",
    "    core=CORE)"
   ],
   "metadata": {
    "collapsed": false,
    "ExecuteTime": {
     "end_time": "2024-05-04T00:15:22.031425Z",
     "start_time": "2024-05-04T00:15:03.334465Z"
    }
   },
   "id": "65b98f2e25b77fcf"
  },
  {
   "cell_type": "code",
   "execution_count": 6,
   "outputs": [
    {
     "name": "stderr",
     "output_type": "stream",
     "text": [
      "/Users/alex/Desktop/uchc_work/repos/biosimulator-processes/demos/../biosimulator_processes/processes/copasi_process.py:245: FutureWarning:\n",
      "\n",
      "Series.__getitem__ treating keys as positions is deprecated. In a future version, integer keys will always be treated as labels (consistent with DataFrame behavior). To access a value by position, use `ser.iloc[pos]`\n",
      "\n"
     ]
    },
    {
     "name": "stdout",
     "output_type": "stream",
     "text": [
      "Values for plasminogen in AmiciProcess: 0.0\n",
      "Values for plasmin in AmiciProcess: 0.0\n",
      "Values for single intact chain urokinase-type plasminogen activator in AmiciProcess: 0.0\n",
      "Values for two-chain urokinase-type plasminogen activator in AmiciProcess: 0.0\n",
      "Values for x in AmiciProcess: 0.0\n",
      "Values for x-plasmin in AmiciProcess: 0.0\n",
      "Values for plasminogen in AmiciProcess: 1.1758171177387002e+16\n",
      "Values for plasmin in AmiciProcess: 1096150505274.1506\n",
      "Values for single intact chain urokinase-type plasminogen activator in AmiciProcess: 2955755808974603.0\n",
      "Values for two-chain urokinase-type plasminogen activator in AmiciProcess: 80249.33829510311\n",
      "Values for x in AmiciProcess: 0.0\n",
      "Values for x-plasmin in AmiciProcess: 0.0\n",
      "Values for plasminogen in AmiciProcess: 1.7311483609242468e+16\n",
      "Values for plasmin in AmiciProcess: 4126180180911.928\n",
      "Values for single intact chain urokinase-type plasminogen activator in AmiciProcess: 4565981193830563.0\n",
      "Values for two-chain urokinase-type plasminogen activator in AmiciProcess: 2976560.37325531\n",
      "Values for x in AmiciProcess: 0.0\n",
      "Values for x-plasmin in AmiciProcess: 0.0\n",
      "Values for plasminogen in AmiciProcess: 2.26869588734145e+16\n",
      "Values for plasmin in AmiciProcess: 9784956821643.105\n",
      "Values for single intact chain urokinase-type plasminogen activator in AmiciProcess: 6046472716713519.0\n",
      "Values for two-chain urokinase-type plasminogen activator in AmiciProcess: 30951110.75217968\n",
      "Values for x in AmiciProcess: 0.0\n",
      "Values for x-plasmin in AmiciProcess: 0.0\n",
      "Values for plasminogen in AmiciProcess: 2.7889481084018964e+16\n",
      "Values for plasmin in AmiciProcess: 18558439541149.89\n",
      "Values for single intact chain urokinase-type plasminogen activator in AmiciProcess: 7407682778865739.0\n",
      "Values for two-chain urokinase-type plasminogen activator in AmiciProcess: 175042198.95559487\n",
      "Values for x in AmiciProcess: 0.0\n",
      "Values for x-plasmin in AmiciProcess: 0.0\n",
      "Values for plasminogen in AmiciProcess: 3.2923916509059264e+16\n",
      "Values for plasmin in AmiciProcess: 30761002685509.9\n",
      "Values for single intact chain urokinase-type plasminogen activator in AmiciProcess: 8659221476339174.0\n",
      "Values for two-chain urokinase-type plasminogen activator in AmiciProcess: 687289532.508261\n",
      "Values for x in AmiciProcess: 0.0\n",
      "Values for x-plasmin in AmiciProcess: 0.0\n",
      "Values for plasminogen in AmiciProcess: 3.7795095609180904e+16\n",
      "Values for plasmin in AmiciProcess: 46567302681540.46\n",
      "Values for single intact chain urokinase-type plasminogen activator in AmiciProcess: 9809924318429976.0\n",
      "Values for two-chain urokinase-type plasminogen activator in AmiciProcess: 2113013380.9636695\n",
      "Values for x in AmiciProcess: 0.0\n",
      "Values for x-plasmin in AmiciProcess: 0.0\n",
      "Values for plasminogen in AmiciProcess: 4.2507797871322344e+16\n",
      "Values for plasmin in AmiciProcess: 66039405775206.95\n",
      "Values for single intact chain urokinase-type plasminogen activator in AmiciProcess: 1.0867914452361614e+16\n",
      "Values for two-chain urokinase-type plasminogen activator in AmiciProcess: 5449219859.160596\n",
      "Values for x in AmiciProcess: 0.0\n",
      "Values for x-plasmin in AmiciProcess: 0.0\n",
      "Values for plasminogen in AmiciProcess: 4.706673909036679e+16\n",
      "Values for plasmin in AmiciProcess: 89149811273205.81\n",
      "Values for single intact chain urokinase-type plasminogen activator in AmiciProcess: 1.1840659857224688e+16\n",
      "Values for two-chain urokinase-type plasminogen activator in AmiciProcess: 12309508198.907099\n",
      "Values for x in AmiciProcess: 0.0\n",
      "Values for x-plasmin in AmiciProcess: 0.0\n",
      "Values for plasminogen in AmiciProcess: 5.147656079175656e+16\n",
      "Values for plasmin in AmiciProcess: 115800924190099.58\n",
      "Values for single intact chain urokinase-type plasminogen activator in AmiciProcess: 1.2735025928520176e+16\n",
      "Values for two-chain urokinase-type plasminogen activator in AmiciProcess: 25075171286.06717\n",
      "Values for x in AmiciProcess: 0.0\n",
      "Values for x-plasmin in AmiciProcess: 0.0\n",
      "Values for plasminogen in AmiciProcess: 5.574182152051895e+16\n",
      "Values for plasmin in AmiciProcess: 145841467074379.56\n",
      "Values for single intact chain urokinase-type plasminogen activator in AmiciProcess: 1.355732385538408e+16\n",
      "Values for two-chain urokinase-type plasminogen activator in AmiciProcess: 47015162093.09385\n",
      "Values for x in AmiciProcess: 0.0\n",
      "Values for x-plasmin in AmiciProcess: 0.0\n",
      "Values for plasminogen in AmiciProcess: 5.986698976513339e+16\n",
      "Values for plasmin in AmiciProcess: 179080237855683.53\n",
      "Values for single intact chain urokinase-type plasminogen activator in AmiciProcess: 1.4313355089545092e+16\n",
      "Values for two-chain urokinase-type plasminogen activator in AmiciProcess: 82362503755.67668\n",
      "Values for x in AmiciProcess: 0.0\n",
      "Values for x-plasmin in AmiciProcess: 0.0\n",
      "Values for plasminogen in AmiciProcess: 6.3856438287800984e+16\n",
      "Values for plasmin in AmiciProcess: 215297618745438.78\n",
      "Values for single intact chain urokinase-type plasminogen activator in AmiciProcess: 1.5008452360485492e+16\n",
      "Values for two-chain urokinase-type plasminogen activator in AmiciProcess: 136340540392.75003\n",
      "Values for x in AmiciProcess: 0.0\n",
      "Values for x-plasmin in AmiciProcess: 0.0\n",
      "Values for plasminogen in AmiciProcess: 6.7714439701787944e+16\n",
      "Values for plasmin in AmiciProcess: 254255104876365.1\n",
      "Values for single intact chain urokinase-type plasminogen activator in AmiciProcess: 1.5647517350855912e+16\n",
      "Values for two-chain urokinase-type plasminogen activator in AmiciProcess: 215137576688.10364\n",
      "Values for x in AmiciProcess: 0.0\n",
      "Values for x-plasmin in AmiciProcess: 0.0\n",
      "Values for plasminogen in AmiciProcess: 7.144516311870991e+16\n",
      "Values for plasmin in AmiciProcess: 295703164163521.06\n",
      "Values for single intact chain urokinase-type plasminogen activator in AmiciProcess: 1.6235055424118262e+16\n",
      "Values for two-chain urokinase-type plasminogen activator in AmiciProcess: 325833159641.05225\n",
      "Values for x in AmiciProcess: 0.0\n",
      "Values for x-plasmin in AmiciProcess: 0.0\n",
      "Values for plasminogen in AmiciProcess: 7.505267173181958e+16\n",
      "Values for plasmin in AmiciProcess: 339387657046354.44\n",
      "Values for single intact chain urokinase-type plasminogen activator in AmiciProcess: 1.677520762025202e+16\n",
      "Values for two-chain urokinase-type plasminogen activator in AmiciProcess: 476282328652.6262\n",
      "Values for x in AmiciProcess: 0.0\n",
      "Values for x-plasmin in AmiciProcess: 0.0\n",
      "Values for plasminogen in AmiciProcess: 7.85409212160007e+16\n",
      "Values for plasmin in AmiciProcess: 385055012586171.4\n",
      "Values for single intact chain urokinase-type plasminogen activator in AmiciProcess: 1.7271780075250048e+16\n",
      "Values for two-chain urokinase-type plasminogen activator in AmiciProcess: 674966891944.4807\n",
      "Values for x in AmiciProcess: 0.0\n",
      "Values for x-plasmin in AmiciProcess: 0.0\n",
      "Values for plasminogen in AmiciProcess: 8.191375883381933e+16\n",
      "Values for plasmin in AmiciProcess: 432456352612456.25\n",
      "Values for single intact chain urokinase-type plasminogen activator in AmiciProcess: 1.7728271136626422e+16\n",
      "Values for two-chain urokinase-type plasminogen activator in AmiciProcess: 930823100721.2874\n",
      "Values for x in AmiciProcess: 0.0\n",
      "Values for x-plasmin in AmiciProcess: 0.0\n",
      "Values for plasminogen in AmiciProcess: 8.517492203875176e+16\n",
      "Values for plasmin in AmiciProcess: 481350825362251.9\n",
      "Values for single intact chain urokinase-type plasminogen activator in AmiciProcess: 1.8147893772513976e+16\n",
      "Values for two-chain urokinase-type plasminogen activator in AmiciProcess: 1253055607165.2722\n",
      "Values for x in AmiciProcess: 0.0\n",
      "Values for x-plasmin in AmiciProcess: 0.0\n",
      "Values for plasminogen in AmiciProcess: 8.83280428838129e+16\n",
      "Values for plasmin in AmiciProcess: 531507614449189.06\n",
      "Values for single intact chain urokinase-type plasminogen activator in AmiciProcess: 1.8533608080431036e+16\n",
      "Values for two-chain urokinase-type plasminogen activator in AmiciProcess: 1650948411200.6243\n",
      "Values for x in AmiciProcess: 0.0\n",
      "Values for x-plasmin in AmiciProcess: 0.0\n",
      "Values for plasminogen in AmiciProcess: 9.137664333591266e+16\n",
      "Values for plasmin in AmiciProcess: 582708331204134.5\n",
      "Values for single intact chain urokinase-type plasminogen activator in AmiciProcess: 1.8888129744225932e+16\n",
      "Values for two-chain urokinase-type plasminogen activator in AmiciProcess: 2133678942161.1296\n",
      "Values for x in AmiciProcess: 0.0\n",
      "Values for x-plasmin in AmiciProcess: 0.0\n",
      "Values for plasminogen in AmiciProcess: 9.432413878039368e+16\n",
      "Values for plasmin in AmiciProcess: 634748006249735.1\n",
      "Values for single intact chain urokinase-type plasminogen activator in AmiciProcess: 1.92139554173191e+16\n",
      "Values for two-chain urokinase-type plasminogen activator in AmiciProcess: 2710141260730.3037\n",
      "Values for x in AmiciProcess: 0.0\n",
      "Values for x-plasmin in AmiciProcess: 0.0\n",
      "Values for plasminogen in AmiciProcess: 9.717383977782714e+16\n",
      "Values for plasmin in AmiciProcess: 687435834659681.5\n",
      "Values for single intact chain urokinase-type plasminogen activator in AmiciProcess: 1.9513381093606176e+16\n",
      "Values for two-chain urokinase-type plasminogen activator in AmiciProcess: 3388789835133.086\n",
      "Values for x in AmiciProcess: 0.0\n",
      "Values for x-plasmin in AmiciProcess: 0.0\n",
      "Values for plasminogen in AmiciProcess: 9.99289533969418e+16\n",
      "Values for plasmin in AmiciProcess: 740595641063850.4\n",
      "Values for single intact chain urokinase-type plasminogen activator in AmiciProcess: 1.9788517678702548e+16\n",
      "Values for two-chain urokinase-type plasminogen activator in AmiciProcess: 4177500772077.9346\n",
      "Values for x in AmiciProcess: 0.0\n",
      "Values for x-plasmin in AmiciProcess: 0.0\n",
      "Values for plasminogen in AmiciProcess: 1.0259258516194536e+17\n",
      "Values for plasmin in AmiciProcess: 794065982050477.0\n",
      "Values for single intact chain urokinase-type plasminogen activator in AmiciProcess: 2.0041306088335676e+16\n",
      "Values for two-chain urokinase-type plasminogen activator in AmiciProcess: 5083456370053.415\n",
      "Values for x in AmiciProcess: 0.0\n",
      "Values for x-plasmin in AmiciProcess: 0.0\n",
      "Values for plasminogen in AmiciProcess: 1.0516774117317611e+17\n",
      "Values for plasmin in AmiciProcess: 847699997988712.0\n",
      "Values for single intact chain urokinase-type plasminogen activator in AmiciProcess: 2.0273531020992504e+16\n",
      "Values for two-chain urokinase-type plasminogen activator in AmiciProcess: 6113054159621.316\n",
      "Values for x in AmiciProcess: 0.0\n",
      "Values for x-plasmin in AmiciProcess: 0.0\n",
      "Values for plasminogen in AmiciProcess: 1.0765733040204266e+17\n",
      "Values for plasmin in AmiciProcess: 901365061160812.9\n",
      "Values for single intact chain urokinase-type plasminogen activator in AmiciProcess: 2.0486833739199336e+16\n",
      "Values for two-chain urokinase-type plasminogen activator in AmiciProcess: 7271839025813.728\n",
      "Values for x in AmiciProcess: 0.0\n",
      "Values for x-plasmin in AmiciProcess: 0.0\n",
      "Values for plasminogen in AmiciProcess: 1.100641670918206e+17\n",
      "Values for plasmin in AmiciProcess: 954942268115595.2\n",
      "Values for single intact chain urokinase-type plasminogen activator in AmiciProcess: 2.06827237256962e+16\n",
      "Values for two-chain urokinase-type plasminogen activator in AmiciProcess: 8564459067459.251\n",
      "Values for x in AmiciProcess: 0.0\n",
      "Values for x-plasmin in AmiciProcess: 0.0\n",
      "Values for plasminogen in AmiciProcess: 1.1239097324684171e+17\n",
      "Values for plasmin in AmiciProcess: 1008325814137492.5\n",
      "Values for single intact chain urokinase-type plasminogen activator in AmiciProcess: 2.086258939100529e+16\n",
      "Values for two-chain urokinase-type plasminogen activator in AmiciProcess: 9994642962989.371\n",
      "Values for x in AmiciProcess: 0.0\n",
      "Values for x-plasmin in AmiciProcess: 0.0\n",
      "Values for plasminogen in AmiciProcess: 1.1464038118369742e+17\n",
      "Values for plasmin in AmiciProcess: 1061422282081494.2\n",
      "Values for single intact chain urokinase-type plasminogen activator in AmiciProcess: 2.1027707905216044e+16\n",
      "Values for two-chain urokinase-type plasminogen activator in AmiciProcess: 11565196899893.963\n",
      "Values for x in AmiciProcess: 0.0\n",
      "Values for x-plasmin in AmiciProcess: 0.0\n"
     ]
    }
   ],
   "source": [
    "# Step 4: Run the comparison\n",
    "\n",
    "ode_comparison_workflow.run(duration)"
   ],
   "metadata": {
    "collapsed": false,
    "ExecuteTime": {
     "end_time": "2024-05-04T00:15:22.304387Z",
     "start_time": "2024-05-04T00:15:22.032739Z"
    }
   },
   "id": "30c3a822a7d9af72"
  },
  {
   "cell_type": "code",
   "execution_count": 7,
   "outputs": [],
   "source": [
    "# Step 5: Gather the comparison results from the Process Bigraph Engine (workflow)\n",
    "\n",
    "ode_comparison_results = ode_comparison_workflow.gather_results()"
   ],
   "metadata": {
    "collapsed": false,
    "ExecuteTime": {
     "end_time": "2024-05-04T00:15:22.304625Z",
     "start_time": "2024-05-04T00:15:22.301188Z"
    }
   },
   "id": "7c8e52c219d4ef58"
  },
  {
   "cell_type": "code",
   "execution_count": 8,
   "outputs": [
    {
     "data": {
      "text/plain": "{('emitter',): [{'floating_species_concentrations': {'plasminogen': 0.0,\n    'plasmin': 0.0,\n    'single intact chain urokinase-type plasminogen activator': 0.0,\n    'two-chain urokinase-type plasminogen activator': 0.0,\n    'x': 0.0,\n    'x-plasmin': 0.0},\n   'time': 0.0},\n  {'floating_species_concentrations': {'plasminogen': 1.1758171177387002e+16,\n    'plasmin': 1096150505274.1506,\n    'single intact chain urokinase-type plasminogen activator': 2955755808974603.0,\n    'two-chain urokinase-type plasminogen activator': 80249.33829510311,\n    'x': 0.0,\n    'x-plasmin': 0.0},\n   'time': 2.0},\n  {'floating_species_concentrations': {'plasminogen': 1.7311483609242468e+16,\n    'plasmin': 4126180180911.928,\n    'single intact chain urokinase-type plasminogen activator': 4565981193830563.0,\n    'two-chain urokinase-type plasminogen activator': 2976560.37325531,\n    'x': 0.0,\n    'x-plasmin': 0.0},\n   'time': 4.0},\n  {'floating_species_concentrations': {'plasminogen': 2.26869588734145e+16,\n    'plasmin': 9784956821643.105,\n    'single intact chain urokinase-type plasminogen activator': 6046472716713519.0,\n    'two-chain urokinase-type plasminogen activator': 30951110.75217968,\n    'x': 0.0,\n    'x-plasmin': 0.0},\n   'time': 6.0},\n  {'floating_species_concentrations': {'plasminogen': 2.7889481084018964e+16,\n    'plasmin': 18558439541149.89,\n    'single intact chain urokinase-type plasminogen activator': 7407682778865739.0,\n    'two-chain urokinase-type plasminogen activator': 175042198.95559487,\n    'x': 0.0,\n    'x-plasmin': 0.0},\n   'time': 8.0},\n  {'floating_species_concentrations': {'plasminogen': 3.2923916509059264e+16,\n    'plasmin': 30761002685509.9,\n    'single intact chain urokinase-type plasminogen activator': 8659221476339174.0,\n    'two-chain urokinase-type plasminogen activator': 687289532.508261,\n    'x': 0.0,\n    'x-plasmin': 0.0},\n   'time': 10.0},\n  {'floating_species_concentrations': {'plasminogen': 3.7795095609180904e+16,\n    'plasmin': 46567302681540.46,\n    'single intact chain urokinase-type plasminogen activator': 9809924318429976.0,\n    'two-chain urokinase-type plasminogen activator': 2113013380.9636695,\n    'x': 0.0,\n    'x-plasmin': 0.0},\n   'time': 12.0},\n  {'floating_species_concentrations': {'plasminogen': 4.2507797871322344e+16,\n    'plasmin': 66039405775206.95,\n    'single intact chain urokinase-type plasminogen activator': 1.0867914452361614e+16,\n    'two-chain urokinase-type plasminogen activator': 5449219859.160596,\n    'x': 0.0,\n    'x-plasmin': 0.0},\n   'time': 14.0},\n  {'floating_species_concentrations': {'plasminogen': 4.706673909036679e+16,\n    'plasmin': 89149811273205.81,\n    'single intact chain urokinase-type plasminogen activator': 1.1840659857224688e+16,\n    'two-chain urokinase-type plasminogen activator': 12309508198.907099,\n    'x': 0.0,\n    'x-plasmin': 0.0},\n   'time': 16.0},\n  {'floating_species_concentrations': {'plasminogen': 5.147656079175656e+16,\n    'plasmin': 115800924190099.58,\n    'single intact chain urokinase-type plasminogen activator': 1.2735025928520176e+16,\n    'two-chain urokinase-type plasminogen activator': 25075171286.06717,\n    'x': 0.0,\n    'x-plasmin': 0.0},\n   'time': 18.0},\n  {'floating_species_concentrations': {'plasminogen': 5.574182152051895e+16,\n    'plasmin': 145841467074379.56,\n    'single intact chain urokinase-type plasminogen activator': 1.355732385538408e+16,\n    'two-chain urokinase-type plasminogen activator': 47015162093.09385,\n    'x': 0.0,\n    'x-plasmin': 0.0},\n   'time': 20.0},\n  {'floating_species_concentrations': {'plasminogen': 5.986698976513339e+16,\n    'plasmin': 179080237855683.53,\n    'single intact chain urokinase-type plasminogen activator': 1.4313355089545092e+16,\n    'two-chain urokinase-type plasminogen activator': 82362503755.67668,\n    'x': 0.0,\n    'x-plasmin': 0.0},\n   'time': 22.0},\n  {'floating_species_concentrations': {'plasminogen': 6.3856438287800984e+16,\n    'plasmin': 215297618745438.78,\n    'single intact chain urokinase-type plasminogen activator': 1.5008452360485492e+16,\n    'two-chain urokinase-type plasminogen activator': 136340540392.75003,\n    'x': 0.0,\n    'x-plasmin': 0.0},\n   'time': 24.0},\n  {'floating_species_concentrations': {'plasminogen': 6.7714439701787944e+16,\n    'plasmin': 254255104876365.1,\n    'single intact chain urokinase-type plasminogen activator': 1.5647517350855912e+16,\n    'two-chain urokinase-type plasminogen activator': 215137576688.10364,\n    'x': 0.0,\n    'x-plasmin': 0.0},\n   'time': 26.0},\n  {'floating_species_concentrations': {'plasminogen': 7.144516311870991e+16,\n    'plasmin': 295703164163521.06,\n    'single intact chain urokinase-type plasminogen activator': 1.6235055424118262e+16,\n    'two-chain urokinase-type plasminogen activator': 325833159641.05225,\n    'x': 0.0,\n    'x-plasmin': 0.0},\n   'time': 28.0},\n  {'floating_species_concentrations': {'plasminogen': 7.505267173181958e+16,\n    'plasmin': 339387657046354.44,\n    'single intact chain urokinase-type plasminogen activator': 1.677520762025202e+16,\n    'two-chain urokinase-type plasminogen activator': 476282328652.6262,\n    'x': 0.0,\n    'x-plasmin': 0.0},\n   'time': 30.0},\n  {'floating_species_concentrations': {'plasminogen': 7.85409212160007e+16,\n    'plasmin': 385055012586171.4,\n    'single intact chain urokinase-type plasminogen activator': 1.7271780075250048e+16,\n    'two-chain urokinase-type plasminogen activator': 674966891944.4807,\n    'x': 0.0,\n    'x-plasmin': 0.0},\n   'time': 32.0},\n  {'floating_species_concentrations': {'plasminogen': 8.191375883381933e+16,\n    'plasmin': 432456352612456.25,\n    'single intact chain urokinase-type plasminogen activator': 1.7728271136626422e+16,\n    'two-chain urokinase-type plasminogen activator': 930823100721.2874,\n    'x': 0.0,\n    'x-plasmin': 0.0},\n   'time': 34.0},\n  {'floating_species_concentrations': {'plasminogen': 8.517492203875176e+16,\n    'plasmin': 481350825362251.9,\n    'single intact chain urokinase-type plasminogen activator': 1.8147893772513976e+16,\n    'two-chain urokinase-type plasminogen activator': 1253055607165.2722,\n    'x': 0.0,\n    'x-plasmin': 0.0},\n   'time': 36.0},\n  {'floating_species_concentrations': {'plasminogen': 8.83280428838129e+16,\n    'plasmin': 531507614449189.06,\n    'single intact chain urokinase-type plasminogen activator': 1.8533608080431036e+16,\n    'two-chain urokinase-type plasminogen activator': 1650948411200.6243,\n    'x': 0.0,\n    'x-plasmin': 0.0},\n   'time': 38.0},\n  {'floating_species_concentrations': {'plasminogen': 9.137664333591266e+16,\n    'plasmin': 582708331204134.5,\n    'single intact chain urokinase-type plasminogen activator': 1.8888129744225932e+16,\n    'two-chain urokinase-type plasminogen activator': 2133678942161.1296,\n    'x': 0.0,\n    'x-plasmin': 0.0},\n   'time': 40.0},\n  {'floating_species_concentrations': {'plasminogen': 9.432413878039368e+16,\n    'plasmin': 634748006249735.1,\n    'single intact chain urokinase-type plasminogen activator': 1.92139554173191e+16,\n    'two-chain urokinase-type plasminogen activator': 2710141260730.3037,\n    'x': 0.0,\n    'x-plasmin': 0.0},\n   'time': 42.0},\n  {'floating_species_concentrations': {'plasminogen': 9.717383977782714e+16,\n    'plasmin': 687435834659681.5,\n    'single intact chain urokinase-type plasminogen activator': 1.9513381093606176e+16,\n    'two-chain urokinase-type plasminogen activator': 3388789835133.086,\n    'x': 0.0,\n    'x-plasmin': 0.0},\n   'time': 44.0},\n  {'floating_species_concentrations': {'plasminogen': 9.99289533969418e+16,\n    'plasmin': 740595641063850.4,\n    'single intact chain urokinase-type plasminogen activator': 1.9788517678702548e+16,\n    'two-chain urokinase-type plasminogen activator': 4177500772077.9346,\n    'x': 0.0,\n    'x-plasmin': 0.0},\n   'time': 46.0},\n  {'floating_species_concentrations': {'plasminogen': 1.0259258516194536e+17,\n    'plasmin': 794065982050477.0,\n    'single intact chain urokinase-type plasminogen activator': 2.0041306088335676e+16,\n    'two-chain urokinase-type plasminogen activator': 5083456370053.415,\n    'x': 0.0,\n    'x-plasmin': 0.0},\n   'time': 48.0},\n  {'floating_species_concentrations': {'plasminogen': 1.0516774117317611e+17,\n    'plasmin': 847699997988712.0,\n    'single intact chain urokinase-type plasminogen activator': 2.0273531020992504e+16,\n    'two-chain urokinase-type plasminogen activator': 6113054159621.316,\n    'x': 0.0,\n    'x-plasmin': 0.0},\n   'time': 50.0},\n  {'floating_species_concentrations': {'plasminogen': 1.0765733040204266e+17,\n    'plasmin': 901365061160812.9,\n    'single intact chain urokinase-type plasminogen activator': 2.0486833739199336e+16,\n    'two-chain urokinase-type plasminogen activator': 7271839025813.728,\n    'x': 0.0,\n    'x-plasmin': 0.0},\n   'time': 52.0},\n  {'floating_species_concentrations': {'plasminogen': 1.100641670918206e+17,\n    'plasmin': 954942268115595.2,\n    'single intact chain urokinase-type plasminogen activator': 2.06827237256962e+16,\n    'two-chain urokinase-type plasminogen activator': 8564459067459.251,\n    'x': 0.0,\n    'x-plasmin': 0.0},\n   'time': 54.0},\n  {'floating_species_concentrations': {'plasminogen': 1.1239097324684171e+17,\n    'plasmin': 1008325814137492.5,\n    'single intact chain urokinase-type plasminogen activator': 2.086258939100529e+16,\n    'two-chain urokinase-type plasminogen activator': 9994642962989.371,\n    'x': 0.0,\n    'x-plasmin': 0.0},\n   'time': 56.0},\n  {'floating_species_concentrations': {'plasminogen': 1.1464038118369742e+17,\n    'plasmin': 1061422282081494.2,\n    'single intact chain urokinase-type plasminogen activator': 2.1027707905216044e+16,\n    'two-chain urokinase-type plasminogen activator': 11565196899893.963,\n    'x': 0.0,\n    'x-plasmin': 0.0},\n   'time': 58.0},\n  {'floating_species_concentrations': {'plasminogen': 1.168149361201406e+17,\n    'plasmin': 1114149873547627.1,\n    'single intact chain urokinase-type plasminogen activator': 2.1179254220640844e+16,\n    'two-chain urokinase-type plasminogen activator': 13278018746156.03,\n    'x': 0.0,\n    'x-plasmin': 0.0},\n   'time': 60.0}]}"
     },
     "execution_count": 8,
     "metadata": {},
     "output_type": "execute_result"
    }
   ],
   "source": [
    "ode_comparison_results"
   ],
   "metadata": {
    "collapsed": false,
    "ExecuteTime": {
     "end_time": "2024-05-04T00:15:22.315509Z",
     "start_time": "2024-05-04T00:15:22.308743Z"
    }
   },
   "id": "62fed9cb77db27f9"
  },
  {
   "cell_type": "code",
   "execution_count": 9,
   "outputs": [],
   "source": [
    "# Step 6: Perform mean-squared-error on each simulator's output\n",
    "# TODO: implement this."
   ],
   "metadata": {
    "collapsed": false,
    "ExecuteTime": {
     "end_time": "2024-05-04T00:17:19.493741Z",
     "start_time": "2024-05-04T00:17:19.483421Z"
    }
   },
   "id": "d73b15ec831933b8"
  },
  {
   "cell_type": "code",
   "execution_count": null,
   "outputs": [],
   "source": [
    "# Step 7: Return a pydantic-friendly ComparisonResult object for the REST api"
   ],
   "metadata": {
    "collapsed": false
   },
   "id": "eea2991f04445bd3"
  }
 ],
 "metadata": {
  "kernelspec": {
   "display_name": "Python 3",
   "language": "python",
   "name": "python3"
  },
  "language_info": {
   "codemirror_mode": {
    "name": "ipython",
    "version": 2
   },
   "file_extension": ".py",
   "mimetype": "text/x-python",
   "name": "python",
   "nbconvert_exporter": "python",
   "pygments_lexer": "ipython2",
   "version": "2.7.6"
  }
 },
 "nbformat": 4,
 "nbformat_minor": 5
}
