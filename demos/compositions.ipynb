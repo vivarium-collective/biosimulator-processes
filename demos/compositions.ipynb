{
 "cells": [
  {
   "cell_type": "code",
   "execution_count": 1,
   "outputs": [
    {
     "name": "stdout",
     "output_type": "stream",
     "text": [
      "CobraProcess registered successfully.\n",
      "CopasiProcess registered successfully.\n",
      "SmoldynProcess not available. Error: \n",
      "PLEASE NOTE: Smoldyn is not correctly installed on your system which prevents you from using the SmoldynProcess. Please refer to the README for further information on installing Smoldyn.\n",
      "TelluriumProcess registered successfully.\n"
     ]
    }
   ],
   "source": [
    "from biosimulator_processes.compare import ComparisonDocument   \n",
    "from process_bigraph import pp"
   ],
   "metadata": {
    "collapsed": false,
    "ExecuteTime": {
     "end_time": "2024-05-01T05:56:47.608359Z",
     "start_time": "2024-05-01T05:56:44.939995Z"
    }
   },
   "id": "1dc1ba69e5acc44"
  },
  {
   "cell_type": "code",
   "execution_count": 2,
   "outputs": [],
   "source": [
    "simulators = ['copasi', 'tellurium']  # , 'amici']\n",
    "duration = 30\n",
    "n_steps = 200\n",
    "model_filepath = '../biosimulator_processes/model_files/sbml/Caravagna2010.xml'\n",
    "\n",
    "\n",
    "comparison = ComparisonDocument(simulators, duration, n_steps, model_filepath)"
   ],
   "metadata": {
    "collapsed": false,
    "ExecuteTime": {
     "end_time": "2024-05-01T05:56:47.614661Z",
     "start_time": "2024-05-01T05:56:47.605958Z"
    }
   },
   "id": "d9fce82a600bb9af"
  },
  {
   "cell_type": "code",
   "execution_count": 3,
   "outputs": [
    {
     "name": "stdout",
     "output_type": "stream",
     "text": [
      "{ 'emitter': { '_type': 'step',\n",
      "               'address': 'local:ram-emitter',\n",
      "               'config': { 'emit': { 'floating_species_concentrations': 'tree[float]',\n",
      "                                     'time': 'float'}},\n",
      "               'inputs': { 'floating_species_concentrations': [ 'floating_species_concentrations_store'],\n",
      "                           'time': ['time_store']}},\n",
      "  'processes': { 'copasi_0': { '_type': 'process',\n",
      "                               'address': 'local:copasi',\n",
      "                               'config': { 'model': { 'model_source': '../biosimulator_processes/model_files/sbml/Caravagna2010.xml'}},\n",
      "                               'inputs': { 'floating_species_concentrations': [ 'floating_species_concentrations_store'],\n",
      "                                           'model_parameters': [ 'model_parameters_store'],\n",
      "                                           'reactions': ['reactions_store'],\n",
      "                                           'time': ['time_store']},\n",
      "                               'outputs': { 'floating_species_concentrations': [ 'floating_species_concentrations_store'],\n",
      "                                            'time': ['time_store']}},\n",
      "                 'duration': 30,\n",
      "                 'num_steps': 200,\n",
      "                 'tellurium_1': { '_type': 'process',\n",
      "                                  'address': 'local:tellurium',\n",
      "                                  'config': { 'model': { 'model_source': '../biosimulator_processes/model_files/sbml/Caravagna2010.xml'}},\n",
      "                                  'inputs': { 'floating_species_concentrations': [ 'floating_species_concentrations_store'],\n",
      "                                              'model_parameters': [ 'model_parameters_store'],\n",
      "                                              'reactions': ['reactions_store'],\n",
      "                                              'time': ['time_store']},\n",
      "                                  'outputs': { 'floating_species_concentrations': [ 'floating_species_concentrations_store'],\n",
      "                                               'time': ['time_store']}}}}\n"
     ]
    }
   ],
   "source": [
    "pp(comparison.composite)"
   ],
   "metadata": {
    "collapsed": false,
    "ExecuteTime": {
     "end_time": "2024-05-01T05:56:47.615604Z",
     "start_time": "2024-05-01T05:56:47.614436Z"
    }
   },
   "id": "57a94e90c5c2ba41"
  },
  {
   "cell_type": "markdown",
   "source": [
    "### ODE Simulator Comparison"
   ],
   "metadata": {
    "collapsed": false
   },
   "id": "659245544fd8d1b3"
  },
  {
   "cell_type": "code",
   "execution_count": 4,
   "outputs": [],
   "source": [
    "from biosimulator_processes.compare import ComparisonDocument\n",
    "\n",
    "sbml_model_path = '../biosimulator_processes/model_files/sbml/BIOMD0000000630_url.xml'\n",
    "simulators = ['copasi', 'copasi']\n",
    "duration = 30 \n",
    "n_steps = 50 \n",
    "target_parameter = {\n",
    "    'name': 'plasmin',\n",
    "    'value': 2.01\n",
    "}\n",
    "\n",
    "ode_comparison_document = ComparisonDocument(\n",
    "    simulators=simulators, \n",
    "    duration=duration, \n",
    "    num_steps=n_steps,\n",
    "    model_filepath=sbml_model_path\n",
    ")"
   ],
   "metadata": {
    "collapsed": false,
    "ExecuteTime": {
     "end_time": "2024-05-01T05:56:47.621129Z",
     "start_time": "2024-05-01T05:56:47.616429Z"
    }
   },
   "id": "3cc9032bbca74784"
  },
  {
   "cell_type": "code",
   "execution_count": 5,
   "outputs": [
    {
     "name": "stdout",
     "output_type": "stream",
     "text": [
      "{ 'emitter': { '_type': 'step',\n",
      "               'address': 'local:ram-emitter',\n",
      "               'config': { 'emit': { 'floating_species_concentrations': 'tree[float]',\n",
      "                                     'time': 'float'}},\n",
      "               'inputs': { 'floating_species_concentrations': [ 'floating_species_concentrations_store'],\n",
      "                           'time': ['time_store']}},\n",
      "  'processes': { 'copasi_0': { '_type': 'process',\n",
      "                               'address': 'local:copasi',\n",
      "                               'config': { 'model': { 'model_source': '../biosimulator_processes/model_files/sbml/BIOMD0000000630_url.xml'}},\n",
      "                               'inputs': { 'floating_species_concentrations': [ 'floating_species_concentrations_store'],\n",
      "                                           'model_parameters': [ 'model_parameters_store'],\n",
      "                                           'reactions': ['reactions_store'],\n",
      "                                           'time': ['time_store']},\n",
      "                               'outputs': { 'floating_species_concentrations': [ 'floating_species_concentrations_store'],\n",
      "                                            'time': ['time_store']}},\n",
      "                 'copasi_1': { '_type': 'process',\n",
      "                               'address': 'local:copasi',\n",
      "                               'config': { 'model': { 'model_source': '../biosimulator_processes/model_files/sbml/BIOMD0000000630_url.xml'}},\n",
      "                               'inputs': { 'floating_species_concentrations': [ 'floating_species_concentrations_store'],\n",
      "                                           'model_parameters': [ 'model_parameters_store'],\n",
      "                                           'reactions': ['reactions_store'],\n",
      "                                           'time': ['time_store']},\n",
      "                               'outputs': { 'floating_species_concentrations': [ 'floating_species_concentrations_store'],\n",
      "                                            'time': ['time_store']}},\n",
      "                 'duration': 30,\n",
      "                 'num_steps': 50}}\n"
     ]
    }
   ],
   "source": [
    "pp(ode_comparison_document.composite)"
   ],
   "metadata": {
    "collapsed": false,
    "ExecuteTime": {
     "end_time": "2024-05-01T05:56:47.654276Z",
     "start_time": "2024-05-01T05:56:47.623033Z"
    }
   },
   "id": "5f99df92f1acbf52"
  },
  {
   "cell_type": "code",
   "execution_count": 5,
   "outputs": [],
   "source": [],
   "metadata": {
    "collapsed": false,
    "ExecuteTime": {
     "end_time": "2024-05-01T05:56:47.654854Z",
     "start_time": "2024-05-01T05:56:47.627361Z"
    }
   },
   "id": "5f07a08ac835b2b5"
  }
 ],
 "metadata": {
  "kernelspec": {
   "display_name": "Python 3",
   "language": "python",
   "name": "python3"
  },
  "language_info": {
   "codemirror_mode": {
    "name": "ipython",
    "version": 2
   },
   "file_extension": ".py",
   "mimetype": "text/x-python",
   "name": "python",
   "nbconvert_exporter": "python",
   "pygments_lexer": "ipython2",
   "version": "2.7.6"
  }
 },
 "nbformat": 4,
 "nbformat_minor": 5
}
