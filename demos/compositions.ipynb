{
 "cells": [
  {
   "cell_type": "code",
   "execution_count": 1,
   "outputs": [],
   "source": [
    "from process_bigraph import Process, pp, Step\n",
    "from typing import *\n",
    "\n",
    "\n",
    "class ComparisonDocument:\n",
    "    \"\"\"To be called 'behind-the-scenes' by the Comparison REST API\"\"\"\n",
    "    def __init__(self, \n",
    "                 simulators: List[str], \n",
    "                 duration: int, \n",
    "                 num_steps: int,\n",
    "                 model_filepath: str,\n",
    "                 framework_type='deterministic'):\n",
    "        self.simulators = simulators\n",
    "        self.composite = {\n",
    "            'processes': {\n",
    "                'duration': duration, \n",
    "                'num_steps': num_steps,\n",
    "            }\n",
    "        }\n",
    "        self.framework_type = framework_type\n",
    "        context = 'concentrations' if 'deterministic' in self.framework_type else 'counts'\n",
    "        self.species_port_name = f'floating_species_{context}'\n",
    "        self.species_store = [f'floating_species_{context}_store']\n",
    "        self._populate_composition(model_filepath)\n",
    "        self._add_emitter()\n",
    "    \n",
    "    def _add_emitter(self):\n",
    "        self.composite['emitter'] = {\n",
    "            '_type': 'step',\n",
    "            'address': 'local:ram-emitter',\n",
    "            'config': {\n",
    "                'emit': {\n",
    "                    self.species_port_name: 'tree[float]',\n",
    "                    'time': 'float'\n",
    "                }\n",
    "            },\n",
    "            'inputs': {\n",
    "                self.species_port_name: self.species_store,\n",
    "                'time': ['time_store']\n",
    "            }\n",
    "        }\n",
    "        \n",
    "    def _populate_composition(self, model_filepath: str):\n",
    "        context = 'concentrations' if 'deterministic' in self.framework_type else 'counts'\n",
    "        for process in self.simulators:\n",
    "            self._add_ode_process_schema(process, context, model={'model_source': model_filepath})\n",
    "    \n",
    "    def _add_ode_process_schema(\n",
    "            self,\n",
    "            process_name: str, \n",
    "            species_context: str,\n",
    "            **config\n",
    "            ) -> None:\n",
    "        species_port_name = f'floating_species_{species_context}'\n",
    "        species_store = [f'floating_species_{species_context}_store']\n",
    "        self.composite['processes'][process_name] = {\n",
    "                '_type': 'process',\n",
    "                'address': f'local:{process_name}',\n",
    "                'config': config, \n",
    "                'inputs': {\n",
    "                    species_port_name: species_store,\n",
    "                    'model_parameters': ['model_parameters_store'],\n",
    "                    'time': ['time_store'],\n",
    "                    'reactions': ['reactions_store']\n",
    "                },\n",
    "                'outputs': {\n",
    "                        species_port_name: species_store,\n",
    "                        'time': ['time_store']\n",
    "                }\n",
    "        } \n",
    "        \n",
    "    \n",
    "    "
   ],
   "metadata": {
    "collapsed": false,
    "ExecuteTime": {
     "end_time": "2024-05-01T02:57:25.720127Z",
     "start_time": "2024-05-01T02:57:25.268354Z"
    }
   },
   "id": "1dc1ba69e5acc44"
  },
  {
   "cell_type": "code",
   "execution_count": 4,
   "outputs": [],
   "source": [
    "simulators = ['copasi', 'tellurium']  # , 'amici']\n",
    "duration = 30\n",
    "n_steps = 200\n",
    "model_filepath = '../biosimulator_processes/model_files/sbml/Caravagna2010.xml'\n",
    "\n",
    "\n",
    "comparison = ComparisonDocument(simulators, duration, n_steps, model_filepath)"
   ],
   "metadata": {
    "collapsed": false,
    "ExecuteTime": {
     "end_time": "2024-05-01T02:58:17.987125Z",
     "start_time": "2024-05-01T02:58:17.979639Z"
    }
   },
   "id": "d9fce82a600bb9af"
  },
  {
   "cell_type": "code",
   "execution_count": 5,
   "outputs": [
    {
     "name": "stdout",
     "output_type": "stream",
     "text": [
      "{ 'emitter': { '_type': 'step',\n",
      "               'address': 'local:ram-emitter',\n",
      "               'config': { 'emit': { 'floating_species_concentrations': 'tree[float]',\n",
      "                                     'time': 'float'}},\n",
      "               'inputs': { 'floating_species_concentrations': [ 'floating_species_concentrations_store'],\n",
      "                           'time': ['time_store']}},\n",
      "  'processes': { 'copasi': { '_type': 'process',\n",
      "                             'address': 'local:copasi',\n",
      "                             'config': { 'model': { 'model_source': '../biosimulator_processes/model_files/sbml/Caravagna2010.xml'}},\n",
      "                             'inputs': { 'floating_species_concentrations': [ 'floating_species_concentrations_store'],\n",
      "                                         'model_parameters': [ 'model_parameters_store'],\n",
      "                                         'reactions': ['reactions_store'],\n",
      "                                         'time': ['time_store']},\n",
      "                             'outputs': { 'floating_species_concentrations': [ 'floating_species_concentrations_store'],\n",
      "                                          'time': ['time_store']}},\n",
      "                 'duration': 30,\n",
      "                 'num_steps': 200,\n",
      "                 'tellurium': { '_type': 'process',\n",
      "                                'address': 'local:tellurium',\n",
      "                                'config': { 'model': { 'model_source': '../biosimulator_processes/model_files/sbml/Caravagna2010.xml'}},\n",
      "                                'inputs': { 'floating_species_concentrations': [ 'floating_species_concentrations_store'],\n",
      "                                            'model_parameters': [ 'model_parameters_store'],\n",
      "                                            'reactions': ['reactions_store'],\n",
      "                                            'time': ['time_store']},\n",
      "                                'outputs': { 'floating_species_concentrations': [ 'floating_species_concentrations_store'],\n",
      "                                             'time': ['time_store']}}}}\n"
     ]
    }
   ],
   "source": [
    "pp(comparison.composite)"
   ],
   "metadata": {
    "collapsed": false,
    "ExecuteTime": {
     "end_time": "2024-05-01T02:58:22.841672Z",
     "start_time": "2024-05-01T02:58:22.833805Z"
    }
   },
   "id": "57a94e90c5c2ba41"
  },
  {
   "cell_type": "code",
   "execution_count": null,
   "outputs": [],
   "source": [],
   "metadata": {
    "collapsed": false
   },
   "id": "7cc92217b1d89296"
  },
  {
   "cell_type": "code",
   "execution_count": null,
   "id": "initial_id",
   "metadata": {
    "collapsed": true
   },
   "outputs": [],
   "source": [
    "from process_bigraph import Process, Step, pp\n",
    "\n",
    "\n",
    "\n",
    "\n",
    "class SimulatorComparison(Process):\n",
    "    config_schema = {\n",
    "        'duration': 'number',  \n",
    "        'simulators': 'list[string]',\n",
    "        'framework_type': 'maybe[string]'  # ie: 'ode', 'stochastic', \"method\" types\n",
    "    }\n",
    "    \n",
    "    def __init__(self, config=None, core=None):\n",
    "        \"\"\"\n",
    "        1. create references to simulator processes\n",
    "        \n",
    "        \"\"\"\n",
    "        super().__init__(config, core)\n",
    "        \n",
    "        \n",
    " \n",
    " \n",
    " \n",
    " class GeneticParameterOptimizer(Process):\n",
    "     config_schema = {\n",
    "         'target_parameter': {  # experimental data\n",
    "             'name': 'string',\n",
    "             'target_value': 'float'\n",
    "         },\n",
    "         'comparison_results': 'tree[float]'  # sim1Name: values over time, sim2Name: etc\n",
    "     }\n",
    "     \n",
    "     def __init__(self, config=None, core=None):\n",
    "         super().__init__(config, core)\n",
    "         \n",
    "     def calculate_fitness(self, member: float) -> float:\n",
    "         return self.config['target_parameter']['target_value'] - member"
   ]
  }
 ],
 "metadata": {
  "kernelspec": {
   "display_name": "Python 3",
   "language": "python",
   "name": "python3"
  },
  "language_info": {
   "codemirror_mode": {
    "name": "ipython",
    "version": 2
   },
   "file_extension": ".py",
   "mimetype": "text/x-python",
   "name": "python",
   "nbconvert_exporter": "python",
   "pygments_lexer": "ipython2",
   "version": "2.7.6"
  }
 },
 "nbformat": 4,
 "nbformat_minor": 5
}
