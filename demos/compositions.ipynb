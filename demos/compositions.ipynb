{
 "cells": [
  {
   "cell_type": "code",
   "execution_count": 1,
   "outputs": [],
   "source": [
    "import sys\n",
    "\n",
    "sys.path.insert(0, '..')\n",
    "\n",
    "import os\n",
    "import requests\n",
    "import json"
   ],
   "metadata": {
    "collapsed": false,
    "ExecuteTime": {
     "end_time": "2024-05-01T08:45:09.699631Z",
     "start_time": "2024-05-01T08:45:09.646937Z"
    }
   },
   "id": "24fc5d62890368dd"
  },
  {
   "cell_type": "code",
   "execution_count": 2,
   "outputs": [
    {
     "name": "stdout",
     "output_type": "stream",
     "text": [
      "CobraProcess registered successfully.\n",
      "CopasiProcess registered successfully.\n",
      "SmoldynProcess not available. Error: \n",
      "PLEASE NOTE: Smoldyn is not correctly installed on your system which prevents you from using the SmoldynProcess. Please refer to the README for further information on installing Smoldyn.\n",
      "TelluriumProcess registered successfully.\n"
     ]
    }
   ],
   "source": [
    "from biosimulator_processes.compare import ComparisonDocument\n",
    "from biosimulator_processes import CORE\n",
    "from process_bigraph import pp, Composite"
   ],
   "metadata": {
    "collapsed": false,
    "ExecuteTime": {
     "end_time": "2024-05-01T08:45:13.511424Z",
     "start_time": "2024-05-01T08:45:10.281028Z"
    }
   },
   "id": "1dc1ba69e5acc44"
  },
  {
   "cell_type": "markdown",
   "source": [
    "### Example Composite process using copasi and tellurium"
   ],
   "metadata": {
    "collapsed": false
   },
   "id": "8491845ac8f593cd"
  },
  {
   "cell_type": "code",
   "execution_count": 3,
   "outputs": [],
   "source": [
    "simulators = ['copasi', 'tellurium']  # , 'amici']\n",
    "duration = 30\n",
    "n_steps = 200\n",
    "model_filepath = '../biosimulator_processes/model_files/sbml/Caravagna2010.xml'\n",
    "\n",
    "\n",
    "comparison = ComparisonDocument(simulators, duration, n_steps, model_filepath)"
   ],
   "metadata": {
    "collapsed": false,
    "ExecuteTime": {
     "end_time": "2024-05-01T06:59:32.979028Z",
     "start_time": "2024-05-01T06:59:32.976561Z"
    }
   },
   "id": "d9fce82a600bb9af"
  },
  {
   "cell_type": "code",
   "execution_count": 4,
   "outputs": [
    {
     "name": "stdout",
     "output_type": "stream",
     "text": [
      "{ 'processes': { 'copasi_0': { '_type': 'process',\n",
      "                               'address': 'local:copasi',\n",
      "                               'config': { 'model': { 'model_source': '../biosimulator_processes/model_files/sbml/Caravagna2010.xml'}},\n",
      "                               'inputs': { 'floating_species_concentrations': [ 'floating_species_concentrations_store'],\n",
      "                                           'model_parameters': [ 'model_parameters_store'],\n",
      "                                           'reactions': ['reactions_store'],\n",
      "                                           'time': ['time_store']},\n",
      "                               'outputs': { 'floating_species_concentrations': [ 'floating_species_concentrations_store'],\n",
      "                                            'time': ['time_store']}},\n",
      "                 'duration': 30,\n",
      "                 'emitter': { '_type': 'step',\n",
      "                              'address': 'local:ram-emitter',\n",
      "                              'config': { 'emit': { 'floating_species_concentrations': 'tree[float]',\n",
      "                                                    'time': 'float'}},\n",
      "                              'inputs': { 'floating_species_concentrations': [ 'floating_species_concentrations_store'],\n",
      "                                          'time': ['time_store']}},\n",
      "                 'num_steps': 200,\n",
      "                 'tellurium_1': { '_type': 'process',\n",
      "                                  'address': 'local:tellurium',\n",
      "                                  'config': { 'model': { 'model_source': '../biosimulator_processes/model_files/sbml/Caravagna2010.xml'}},\n",
      "                                  'inputs': { 'floating_species_concentrations': [ 'floating_species_concentrations_store'],\n",
      "                                              'model_parameters': [ 'model_parameters_store'],\n",
      "                                              'reactions': ['reactions_store'],\n",
      "                                              'time': ['time_store']},\n",
      "                                  'outputs': { 'floating_species_concentrations': [ 'floating_species_concentrations_store'],\n",
      "                                               'time': ['time_store']}}}}\n"
     ]
    }
   ],
   "source": [
    "pp(comparison.composite)"
   ],
   "metadata": {
    "collapsed": false,
    "ExecuteTime": {
     "end_time": "2024-05-01T06:59:32.985217Z",
     "start_time": "2024-05-01T06:59:32.981251Z"
    }
   },
   "id": "57a94e90c5c2ba41"
  },
  {
   "cell_type": "markdown",
   "source": [
    "### ODE Simulator Comparison"
   ],
   "metadata": {
    "collapsed": false
   },
   "id": "659245544fd8d1b3"
  },
  {
   "cell_type": "code",
   "execution_count": 5,
   "outputs": [],
   "source": [
    "from biosimulator_processes.compare import ComparisonDocument\n",
    "\n",
    "sbml_model_path = '../biosimulator_processes/model_files/sbml/BIOMD0000000630_url.xml'\n",
    "simulators = ['copasi', 'copasi']  # , 'tellurium']\n",
    "duration = 30 \n",
    "n_steps = 50 \n",
    "target_parameter = {\n",
    "    'name': 'plasmin',\n",
    "    'value': 2.01\n",
    "}\n",
    "\n",
    "\n",
    "def create_comparison_document(\n",
    "        sbml_model_path: str, \n",
    "        simulators: list[str], \n",
    "        duration: int, \n",
    "        n_steps: int, \n",
    "        target_param: dict = None\n",
    "        ) -> ComparisonDocument:\n",
    "    return ComparisonDocument(\n",
    "    simulators=simulators, \n",
    "    duration=duration, \n",
    "    num_steps=n_steps,\n",
    "    model_filepath=sbml_model_path,\n",
    "    target_parameter=target_param)\n",
    "\n",
    "\n",
    "def generate_workflow(document: ComparisonDocument):\n",
    "    return Composite(\n",
    "        config={'state': document.composite},\n",
    "        core=CORE)\n",
    "\n",
    "\n",
    "ode_comparison_document = create_comparison_document(sbml_model_path, simulators, duration, n_steps, target_parameter)"
   ],
   "metadata": {
    "collapsed": false,
    "ExecuteTime": {
     "end_time": "2024-05-01T06:59:32.991192Z",
     "start_time": "2024-05-01T06:59:32.986334Z"
    }
   },
   "id": "3cc9032bbca74784"
  },
  {
   "cell_type": "code",
   "execution_count": 6,
   "outputs": [
    {
     "name": "stdout",
     "output_type": "stream",
     "text": [
      "{ 'processes': { 'copasi_0': { '_type': 'process',\n",
      "                               'address': 'local:copasi',\n",
      "                               'config': { 'model': { 'model_source': '../biosimulator_processes/model_files/sbml/BIOMD0000000630_url.xml'}},\n",
      "                               'inputs': { 'floating_species_concentrations': [ 'floating_species_concentrations_store'],\n",
      "                                           'model_parameters': [ 'model_parameters_store'],\n",
      "                                           'reactions': ['reactions_store'],\n",
      "                                           'time': ['time_store']},\n",
      "                               'outputs': { 'floating_species_concentrations': [ 'floating_species_concentrations_store'],\n",
      "                                            'time': ['time_store']}},\n",
      "                 'copasi_1': { '_type': 'process',\n",
      "                               'address': 'local:copasi',\n",
      "                               'config': { 'model': { 'model_source': '../biosimulator_processes/model_files/sbml/BIOMD0000000630_url.xml'}},\n",
      "                               'inputs': { 'floating_species_concentrations': [ 'floating_species_concentrations_store'],\n",
      "                                           'model_parameters': [ 'model_parameters_store'],\n",
      "                                           'reactions': ['reactions_store'],\n",
      "                                           'time': ['time_store']},\n",
      "                               'outputs': { 'floating_species_concentrations': [ 'floating_species_concentrations_store'],\n",
      "                                            'time': ['time_store']}},\n",
      "                 'duration': 30,\n",
      "                 'emitter': { '_type': 'step',\n",
      "                              'address': 'local:ram-emitter',\n",
      "                              'config': { 'emit': { 'floating_species_concentrations': 'tree[float]',\n",
      "                                                    'time': 'float'}},\n",
      "                              'inputs': { 'floating_species_concentrations': [ 'floating_species_concentrations_store'],\n",
      "                                          'time': ['time_store']}},\n",
      "                 'num_steps': 50}}\n"
     ]
    }
   ],
   "source": [
    "pp(ode_comparison_document.composite)"
   ],
   "metadata": {
    "collapsed": false,
    "ExecuteTime": {
     "end_time": "2024-05-01T06:59:33.502935Z",
     "start_time": "2024-05-01T06:59:33.496658Z"
    }
   },
   "id": "5f99df92f1acbf52"
  },
  {
   "cell_type": "code",
   "execution_count": 7,
   "outputs": [
    {
     "name": "stdout",
     "output_type": "stream",
     "text": [
      "found a filepath\n",
      "found a filepath\n"
     ]
    }
   ],
   "source": [
    "ode_comparison_workflow = Composite(config={'state': ode_comparison_document.composite}, core=CORE)"
   ],
   "metadata": {
    "collapsed": false,
    "ExecuteTime": {
     "end_time": "2024-05-01T06:59:34.342968Z",
     "start_time": "2024-05-01T06:59:34.257050Z"
    }
   },
   "id": "9c44bd491ad5ddb0"
  },
  {
   "cell_type": "code",
   "execution_count": 8,
   "outputs": [],
   "source": [
    "ode_comparison_workflow.run(duration)\n",
    "ode_comparison_results = ode_comparison_workflow.gather_results()"
   ],
   "metadata": {
    "collapsed": false,
    "ExecuteTime": {
     "end_time": "2024-05-01T06:59:34.956538Z",
     "start_time": "2024-05-01T06:59:34.946595Z"
    }
   },
   "id": "a52b1903520045a0"
  },
  {
   "cell_type": "code",
   "execution_count": 9,
   "outputs": [
    {
     "data": {
      "text/plain": "{}"
     },
     "execution_count": 9,
     "metadata": {},
     "output_type": "execute_result"
    }
   ],
   "source": [
    "ode_comparison_results"
   ],
   "metadata": {
    "collapsed": false,
    "ExecuteTime": {
     "end_time": "2024-05-01T06:59:35.546107Z",
     "start_time": "2024-05-01T06:59:35.539397Z"
    }
   },
   "id": "806d60012d71a2eb"
  },
  {
   "cell_type": "code",
   "execution_count": 9,
   "outputs": [],
   "source": [],
   "metadata": {
    "collapsed": false,
    "ExecuteTime": {
     "end_time": "2024-05-01T06:56:28.165350Z",
     "start_time": "2024-05-01T06:56:28.160529Z"
    }
   },
   "id": "da55f1556e28363f"
  },
  {
   "cell_type": "code",
   "execution_count": 9,
   "outputs": [],
   "source": [],
   "metadata": {
    "collapsed": false,
    "ExecuteTime": {
     "end_time": "2024-05-01T06:56:28.166914Z",
     "start_time": "2024-05-01T06:56:28.163347Z"
    }
   },
   "id": "3330d11b7b80252b"
  },
  {
   "cell_type": "code",
   "execution_count": 10,
   "outputs": [],
   "source": [
    "import tellurium as te\n",
    "\n",
    "simulator = te.loadSBMLModel('../biosimulator_processes/model_files/sbml/BIOMD0000000630_url.xml')\n"
   ],
   "metadata": {
    "collapsed": false,
    "ExecuteTime": {
     "end_time": "2024-05-01T06:56:28.959849Z",
     "start_time": "2024-05-01T06:56:28.167336Z"
    }
   },
   "id": "5f07a08ac835b2b5"
  },
  {
   "cell_type": "code",
   "execution_count": 11,
   "outputs": [
    {
     "data": {
      "text/plain": "['_ExtendedRoadRunner__getSBML',\n '_RoadRunner__simulateOld',\n '_RoadRunner__simulateOptions',\n '__class__',\n '__delattr__',\n '__dict__',\n '__dir__',\n '__doc__',\n '__eq__',\n '__format__',\n '__ge__',\n '__getattr__',\n '__getattribute__',\n '__getitem__',\n '__getstate__',\n '__gt__',\n '__hash__',\n '__init__',\n '__init_subclass__',\n '__le__',\n '__len__',\n '__lt__',\n '__module__',\n '__ne__',\n '__new__',\n '__reduce__',\n '__reduce_ex__',\n '__repr__',\n '__setattr__',\n '__setitem__',\n '__setstate__',\n '__sizeof__',\n '__str__',\n '__subclasshook__',\n '__swig_destroy__',\n '__weakref__',\n '_addCompartment',\n '_addParameter',\n '_addReaction',\n '_addSpeciesAmount',\n '_addSpeciesConcentration',\n '_diffstep_getter',\n '_diffstep_stter',\n '_getConservedMoietyAnalysis',\n '_getDependentFloatingSpeciesIds',\n '_getIds',\n '_getIndependentFloatingSpeciesIds',\n '_getModel',\n '_getSelections',\n '_getSteadyStateSelections',\n '_getValue',\n '_load',\n '_makeProperties',\n '_model_functions',\n '_new_init',\n '_properties',\n '_setConservedMoietyAnalysis',\n '_setConservedMoietyAnalysisProxy',\n '_setSelections',\n '_setSimulateOptionsTimes',\n '_setSteadyStateSelections',\n '_simulate',\n '_steadyStateThresh_getter',\n '_steadyStateThresh_setter',\n '_swig_init',\n 'addAssignmentRule',\n 'addCompartment',\n 'addDelay',\n 'addEvent',\n 'addEventAssignment',\n 'addInitialAssignment',\n 'addParameter',\n 'addPriority',\n 'addRateRule',\n 'addReaction',\n 'addSpecies',\n 'addSpeciesAmount',\n 'addSpeciesConcentration',\n 'addTrigger',\n 'bs',\n 'clearModel',\n 'compartment_1',\n 'conservedMoietyAnalysis',\n 'createSelection',\n 'diffstep',\n 'draw',\n 'dv',\n 'exportToAntimony',\n 'exportToCellML',\n 'exportToMatlab',\n 'exportToSBML',\n 'fjac',\n 'fs',\n 'getAntimony',\n 'getAssignmentRuleIds',\n 'getAvailableIntegrators',\n 'getBoundarySpeciesAmounts',\n 'getBoundarySpeciesAmountsNamedArray',\n 'getBoundarySpeciesConcentrationIds',\n 'getBoundarySpeciesConcentrations',\n 'getBoundarySpeciesConcentrationsNamedArray',\n 'getBoundarySpeciesIds',\n 'getCC',\n 'getCellML',\n 'getCompartmentIds',\n 'getCompartmentVolumes',\n 'getCompiler',\n 'getConservationMatrix',\n 'getConservedMoietyIds',\n 'getConservedMoietyValues',\n 'getCurrentAntimony',\n 'getCurrentCellML',\n 'getCurrentMatlab',\n 'getCurrentSBML',\n 'getCurrentTime',\n 'getDependentFloatingSpeciesAmountsNamedArray',\n 'getDependentFloatingSpeciesAmountsV',\n 'getDependentFloatingSpeciesConcentrationsNamedArray',\n 'getDependentFloatingSpeciesConcentrationsV',\n 'getDependentFloatingSpeciesIds',\n 'getDependentRatesOfChange',\n 'getDependentRatesOfChangeNamedArray',\n 'getDiffStepSize',\n 'getEE',\n 'getEigenValueIds',\n 'getExistingIntegratorNames',\n 'getExistingSensitivitySolverNames',\n 'getExistingSteadyStateSolverNames',\n 'getExtendedStoichiometryMatrix',\n 'getExtendedVersionInfo',\n 'getFloatingSpeciesAmounts',\n 'getFloatingSpeciesAmountsNamedArray',\n 'getFloatingSpeciesConcentrationIds',\n 'getFloatingSpeciesConcentrations',\n 'getFloatingSpeciesConcentrationsNamedArray',\n 'getFloatingSpeciesIds',\n 'getFloatingSpeciesInitialConcentrationIds',\n 'getFluxThreshold',\n 'getFrequencyResponse',\n 'getFullEigenValues',\n 'getFullEigenValuesNamedArray',\n 'getFullJacobian',\n 'getFullStoichiometryMatrix',\n 'getGlobalParameterByName',\n 'getGlobalParameterIds',\n 'getGlobalParameterValues',\n 'getHasOnlySubstanceUnits',\n 'getIds',\n 'getIndependentFloatingSpeciesAmountsNamedArray',\n 'getIndependentFloatingSpeciesAmountsV',\n 'getIndependentFloatingSpeciesConcentrationsNamedArray',\n 'getIndependentFloatingSpeciesConcentrationsV',\n 'getIndependentFloatingSpeciesIds',\n 'getIndependentRatesOfChange',\n 'getIndependentRatesOfChangeNamedArray',\n 'getInfo',\n 'getInitialAssignmentIds',\n 'getInstanceCount',\n 'getInstanceID',\n 'getIntegrator',\n 'getIntegratorByName',\n 'getKMatrix',\n 'getKineticLaw',\n 'getL0Matrix',\n 'getLinkMatrix',\n 'getMatlab',\n 'getModel',\n 'getModelId',\n 'getModelName',\n 'getNrMatrix',\n 'getNumBoundarySpecies',\n 'getNumCompartments',\n 'getNumConservedMoieties',\n 'getNumDepFloatingSpecies',\n 'getNumEvents',\n 'getNumFloatingSpecies',\n 'getNumGlobalParameters',\n 'getNumIndFloatingSpecies',\n 'getNumRateRules',\n 'getNumReactions',\n 'getNumberOfDependentSpecies',\n 'getNumberOfIndependentSpecies',\n 'getParamPromotedSBML',\n 'getRateRuleIds',\n 'getRatesOfChange',\n 'getRatesOfChangeNamedArray',\n 'getReactionIds',\n 'getReactionRates',\n 'getReducedEigenValues',\n 'getReducedEigenValuesNamedArray',\n 'getReducedJacobian',\n 'getReducedStoichiometryMatrix',\n 'getRegisteredIntegratorNames',\n 'getRegisteredSensitivitySolverNames',\n 'getRegisteredSteadyStateSolverNames',\n 'getSBML',\n 'getScaledConcentrationControlCoefficientMatrix',\n 'getScaledElasticityMatrix',\n 'getScaledFloatingSpeciesElasticity',\n 'getScaledFluxControlCoefficientMatrix',\n 'getSeed',\n 'getSelectedValues',\n 'getSensitivitySolver',\n 'getSensitivitySolverByName',\n 'getSimulationData',\n 'getSteadyStateSelectionStrings',\n 'getSteadyStateSolver',\n 'getSteadyStateSolverByName',\n 'getSteadyStateThreshold',\n 'getSteadyStateValues',\n 'getSteadyStateValuesNamedArray',\n 'getSupportedIdTypes',\n 'getUnscaledConcentrationControlCoefficientMatrix',\n 'getUnscaledElasticityMatrix',\n 'getUnscaledFluxControlCoefficientMatrix',\n 'getUnscaledParameterElasticity',\n 'getUnscaledSpeciesElasticity',\n 'getValue',\n 'getuCC',\n 'getuEE',\n 'gillespie',\n 'integrator',\n 'integratorExists',\n 'internalOneStep',\n 'isModelLoaded',\n 'items',\n 'iteritems',\n 'iterkeys',\n 'itervalues',\n 'keys',\n 'load',\n 'loadState',\n 'loadStateS',\n 'makeIntegrator',\n 'makeSensitivitySolver',\n 'makeSteadyStateSolver',\n 'mcaSteadyState',\n 'model',\n 'oneStep',\n 'options',\n 'parameter_1',\n 'parameter_13',\n 'parameter_2',\n 'plot',\n 'plotLegend',\n 'ps',\n 'reaction_1',\n 'reaction_10',\n 'reaction_11',\n 'reaction_12',\n 'reaction_13',\n 'reaction_14',\n 'reaction_2',\n 'reaction_3',\n 'reaction_4',\n 'reaction_5',\n 'reaction_6',\n 'reaction_7',\n 'reaction_8',\n 'reaction_9',\n 'regenerateModel',\n 'registerSolvers',\n 'removeCompartment',\n 'removeEvent',\n 'removeEventAssignments',\n 'removeInitialAssignment',\n 'removeParameter',\n 'removeReaction',\n 'removeRules',\n 'removeSpecies',\n 'reset',\n 'resetAll',\n 'resetParameter',\n 'resetSelectionLists',\n 'resetToOrigin',\n 'rs',\n 'rv',\n 'saveState',\n 'saveStateS',\n 'seed',\n 'selections',\n 'sensitivitySolverExists',\n 'setBoundary',\n 'setConstant',\n 'setDiffStepSize',\n 'setFluxThreshold',\n 'setGlobalParameterByName',\n 'setHasOnlySubstanceUnits',\n 'setInitAmount',\n 'setInitConcentration',\n 'setIntegrator',\n 'setIntegratorSetting',\n 'setKineticLaw',\n 'setModelId',\n 'setModelName',\n 'setOptions',\n 'setPersistent',\n 'setReversible',\n 'setSeed',\n 'setSensitivitySolver',\n 'setSteadyStateSolver',\n 'setSteadyStateThreshold',\n 'setTriggerInitialValue',\n 'setValue',\n 'setValues',\n 'show',\n 'showPlot',\n 'simulate',\n 'sm',\n 'species_1',\n 'species_1_amt',\n 'species_1_conc',\n 'species_2',\n 'species_2_amt',\n 'species_2_conc',\n 'species_3',\n 'species_3_amt',\n 'species_3_conc',\n 'species_4',\n 'species_4_amt',\n 'species_4_conc',\n 'species_5',\n 'species_5_amt',\n 'species_5_conc',\n 'species_6',\n 'species_6_amt',\n 'species_6_conc',\n 'steadyState',\n 'steadyStateNamedArray',\n 'steadyStateSelections',\n 'steadyStateSolver',\n 'steadyStateSolverExists',\n 'steadyStateThresh',\n 'sv',\n 'this',\n 'thisown',\n 'timeCourseSelections',\n 'timeSeriesSensitivities',\n 'validateCurrentSBML',\n 'values',\n 'vs']"
     },
     "execution_count": 11,
     "metadata": {},
     "output_type": "execute_result"
    }
   ],
   "source": [
    "dir(simulator)"
   ],
   "metadata": {
    "collapsed": false,
    "ExecuteTime": {
     "end_time": "2024-05-01T06:56:28.967633Z",
     "start_time": "2024-05-01T06:56:28.963005Z"
    }
   },
   "id": "f4fd7072004772cb"
  },
  {
   "cell_type": "code",
   "execution_count": 12,
   "outputs": [
    {
     "data": {
      "text/plain": "array([7.00e-07, 0.00e+00, 0.00e+00, 1.68e-04, 3.20e-04, 0.00e+00,\n       0.00e+00, 0.00e+00, 0.00e+00, 0.00e+00, 0.00e+00, 3.20e-03,\n       1.00e-02, 1.00e-02])"
     },
     "execution_count": 12,
     "metadata": {},
     "output_type": "execute_result"
    }
   ],
   "source": [
    "simulator.getReactionRates()"
   ],
   "metadata": {
    "collapsed": false,
    "ExecuteTime": {
     "end_time": "2024-05-01T06:56:28.973429Z",
     "start_time": "2024-05-01T06:56:28.967766Z"
    }
   },
   "id": "e92d5b185840048f"
  },
  {
   "cell_type": "code",
   "execution_count": 13,
   "outputs": [
    {
     "data": {
      "text/plain": "['reaction_1',\n 'reaction_2',\n 'reaction_3',\n 'reaction_4',\n 'reaction_5',\n 'reaction_6',\n 'reaction_7',\n 'reaction_8',\n 'reaction_9',\n 'reaction_10',\n 'reaction_11',\n 'reaction_12',\n 'reaction_13',\n 'reaction_14']"
     },
     "execution_count": 13,
     "metadata": {},
     "output_type": "execute_result"
    }
   ],
   "source": [
    "simulator.getReactionIds()"
   ],
   "metadata": {
    "collapsed": false,
    "ExecuteTime": {
     "end_time": "2024-05-01T06:56:28.976229Z",
     "start_time": "2024-05-01T06:56:28.971951Z"
    }
   },
   "id": "278ae59c7dedfc33"
  },
  {
   "cell_type": "markdown",
   "source": [],
   "metadata": {
    "collapsed": false
   },
   "id": "264bd8c515dda5aa"
  },
  {
   "cell_type": "code",
   "execution_count": 14,
   "outputs": [
    {
     "ename": "RuntimeError",
     "evalue": "No such solver called \"stochastic\". Available options are \"cvode\", \"gillespie\", \"rk4\", \"rk45\", \"euler\"",
     "output_type": "error",
     "traceback": [
      "\u001B[0;31m---------------------------------------------------------------------------\u001B[0m",
      "\u001B[0;31mRuntimeError\u001B[0m                              Traceback (most recent call last)",
      "Cell \u001B[0;32mIn[14], line 1\u001B[0m\n\u001B[0;32m----> 1\u001B[0m \u001B[43msimulator\u001B[49m\u001B[38;5;241;43m.\u001B[39;49m\u001B[43mintegrator\u001B[49m \u001B[38;5;241m=\u001B[39m \u001B[38;5;124m'\u001B[39m\u001B[38;5;124mstochastic\u001B[39m\u001B[38;5;124m'\u001B[39m\n",
      "File \u001B[0;32m~/Library/Caches/pypoetry/virtualenvs/biosimulator-processes-ECOqdsTs-py3.10/lib/python3.10/site-packages/roadrunner/roadrunner.py:2867\u001B[0m, in \u001B[0;36mRoadRunner.setIntegrator\u001B[0;34m(self, name)\u001B[0m\n\u001B[1;32m   2865\u001B[0m \u001B[38;5;28;01mdef\u001B[39;00m \u001B[38;5;21msetIntegrator\u001B[39m(\u001B[38;5;28mself\u001B[39m, name: \u001B[38;5;124m\"\u001B[39m\u001B[38;5;124mstd::string const &\u001B[39m\u001B[38;5;124m\"\u001B[39m) \u001B[38;5;241m-\u001B[39m\u001B[38;5;241m>\u001B[39m \u001B[38;5;124m\"\u001B[39m\u001B[38;5;124mvoid\u001B[39m\u001B[38;5;124m\"\u001B[39m:\n\u001B[1;32m   2866\u001B[0m \u001B[38;5;250m    \u001B[39m\u001B[38;5;124mr\u001B[39m\u001B[38;5;124;03m\"\"\"set the current Integrator to :param name;:\"\"\"\u001B[39;00m\n\u001B[0;32m-> 2867\u001B[0m     \u001B[38;5;28;01mreturn\u001B[39;00m \u001B[43m_roadrunner\u001B[49m\u001B[38;5;241;43m.\u001B[39;49m\u001B[43mRoadRunner_setIntegrator\u001B[49m\u001B[43m(\u001B[49m\u001B[38;5;28;43mself\u001B[39;49m\u001B[43m,\u001B[49m\u001B[43m \u001B[49m\u001B[43mname\u001B[49m\u001B[43m)\u001B[49m\n",
      "\u001B[0;31mRuntimeError\u001B[0m: No such solver called \"stochastic\". Available options are \"cvode\", \"gillespie\", \"rk4\", \"rk45\", \"euler\""
     ]
    }
   ],
   "source": [
    "simulator.integrator = 'stochastic'"
   ],
   "metadata": {
    "collapsed": false,
    "ExecuteTime": {
     "end_time": "2024-05-01T06:56:29.393537Z",
     "start_time": "2024-05-01T06:56:28.975565Z"
    }
   },
   "id": "3692858d8548cbee"
  },
  {
   "cell_type": "code",
   "execution_count": null,
   "outputs": [],
   "source": [
    "simulator.integrator"
   ],
   "metadata": {
    "collapsed": false,
    "ExecuteTime": {
     "end_time": "2024-05-01T06:56:29.398884Z",
     "start_time": "2024-05-01T06:56:29.394793Z"
    }
   },
   "id": "f688e9553786d36e"
  },
  {
   "cell_type": "code",
   "execution_count": null,
   "outputs": [],
   "source": [
    "simulator.getIds()"
   ],
   "metadata": {
    "collapsed": false,
    "ExecuteTime": {
     "start_time": "2024-05-01T06:56:29.397421Z"
    }
   },
   "id": "850c62b4ab027800"
  },
  {
   "cell_type": "code",
   "execution_count": 11,
   "outputs": [
    {
     "data": {
      "text/plain": "type"
     },
     "execution_count": 11,
     "metadata": {},
     "output_type": "execute_result"
    }
   ],
   "source": [],
   "metadata": {
    "collapsed": false,
    "ExecuteTime": {
     "end_time": "2024-05-01T08:34:23.555250Z",
     "start_time": "2024-05-01T08:34:23.547556Z"
    }
   },
   "id": "66b8d04c5b4d6d38"
  },
  {
   "cell_type": "code",
   "execution_count": 6,
   "outputs": [
    {
     "data": {
      "text/plain": "numpy.ndarray"
     },
     "execution_count": 6,
     "metadata": {},
     "output_type": "execute_result"
    }
   ],
   "source": [
    "import numpy as np \n",
    "type(np.random.rand(3, 4))"
   ],
   "metadata": {
    "collapsed": false,
    "ExecuteTime": {
     "end_time": "2024-05-01T16:16:16.860293Z",
     "start_time": "2024-05-01T16:16:16.843628Z"
    }
   },
   "id": "665d11516a211ac8"
  },
  {
   "cell_type": "code",
   "execution_count": 8,
   "outputs": [
    {
     "name": "stdout",
     "output_type": "stream",
     "text": [
      "Generation 0\n",
      "Best fitness: 0.10494941930458934\n",
      "[0.8763044938522557, 0.8913478464617075, 0.46302575626182785, 0.4157616489036231, 1.3813741192221118, 0.1328689096534097, 0.09077605590309012, 1.4904768704241667, 1.9206148051600191, 1.9659227226712583, 2.0705302049271457, 2.151564744218004, 2.203687011091826, 2.2154585048045683, 2.5288047805272473, 2.7816677559132286, 2.872852564659949, 3.3351762746020897, 3.4657162473524172, 3.5534511779966294, 3.7932078998130847, 4.303488228781354, 4.598411080469649, 4.838314744275816, 4.906983419076609, 5.457953514026331, 5.519222774835406, 5.552075331685645, 5.829193545526077, 6.343094003642815, 6.603063800554027, 7.348067841404804, 7.549884698046774, 8.149398479564141, 8.208960687095638, 8.235485427351811, 8.32425370407266, 8.484973890623223, 8.661700643889391, 8.814366110555197, 8.893706516005672, 8.91730896171493, 8.96118804040343, 9.040359102134968, 9.144940697762618, 9.279606280706112, 9.535970475494214, 9.814005641920389, 9.997559942883395, 10.417900235432507]\n",
      "Generation 1\n",
      "Best fitness: 0.10494941930458934\n",
      "[0.8763044938522557, 0.8913478464617075, 0.46302575626182785, 1.1016995572902777, 0.4157616489036231, 1.147231533497458, 1.3813741192221118, 0.1328689096534097, 0.09077605590309012, 1.4904768704241667, 1.644307106781786, 1.8221136169498597, 1.9206148051600191, 1.9659227226712583, 2.0705302049271457, 2.137108608009486, 2.151564744218004, 2.1785320469070624, 2.203687011091826, 2.2154585048045683, 2.419387643665604, 2.5288047805272473, 2.6418423851186255, 2.769431642846958, 2.7743647849647104, 2.7816677559132286, 2.872852564659949, 2.972386322015544, 3.2535876199365896, 3.3351762746020897, 3.4657162473524172, 3.4712371981007104, 3.5534511779966294, 3.764241859476738, 3.7932078998130847, 4.086745509438953, 4.303488228781354, 4.492241285954381, 4.50404250880901, 4.513287712829541, 4.550154266778673, 4.570901486528585, 4.598411080469649, 4.776524245175549, 4.780515890414991, 4.838314744275816, 4.906983419076609, 5.149341540468521, 5.197391954499903, 5.21086661067854]\n",
      "Generation 2\n",
      "Best fitness: 0.10494941930458934\n",
      "[0.8763044938522557, 0.8913478464617075, 0.46302575626182785, 1.1016995572902777, 0.4157616489036231, 1.1346540514050762, 1.147231533497458, 0.2532688524033566, 1.3000671821356569, 1.3813741192221118, 0.1328689096534097, 0.09077605590309012, 1.4904768704241667, 1.527418270379659, 1.644307106781786, 1.6493981388577312, 1.6509944621910655, 1.80205305387706, 1.8221136169498597, 1.9206148051600191, 1.9659227226712583, 2.0705302049271457, 2.137108608009486, 2.151564744218004, 2.177625877654915, 2.1785320469070624, 2.203687011091826, 2.2154585048045683, 2.2989598452863333, 2.3115373273787148, 2.3204651613408815, 2.3445935681863697, 2.4101872160128437, 2.419387643665604, 2.426305658661411, 2.4800999014101457, 2.5288047805272473, 2.561975533116774, 2.594409643256281, 2.5988791423892077, 2.6418423851186255, 2.6439149321511386, 2.769431642846958, 2.7743647849647104, 2.7816677559132286, 2.8284101921336235, 2.8433478514526396, 2.872852564659949, 2.8785690945442277, 2.9427083140155608]\n",
      "Generation 3\n",
      "Best fitness: 0.02304598540459979\n",
      "[0.7483090891430666, 0.6774842048468172, 0.8763044938522557, 0.8913478464617075, 0.6172842334718437, 0.46302575626182785, 1.1016995572902777, 1.1095957875373075, 0.4157616489036231, 1.1346540514050762, 1.147231533497458, 1.1682779603726179, 1.2715280628331267, 0.2532688524033566, 1.2989312102948631, 1.3000671821356569, 1.3097243299977246, 0.19306888102838315, 1.3673454940271144, 1.3813741192221118, 1.4059813258108633, 0.1328689096534097, 0.09077605590309012, 1.4818143102815196, 1.4904768704241667, 1.5073203956464154, 1.527418270379659, 1.5876321695692945, 1.619404082649882, 1.6220859205186233, 1.6223467560875282, 1.6329949524034575, 1.644307106781786, 1.6468526228197586, 1.6493981388577312, 1.6509944621910655, 1.6561399645299955, 1.7168069483457047, 1.7332103618658228, 1.80205305387706, 1.8073769764076109, 1.8221136169498597, 1.8574186558544659, 1.8900835417729014, 1.913512008256323, 1.9144359813314522, 1.9206148051600191, 1.9362916294021029, 1.9545094181848932, 1.9659227226712583]\n",
      "Generation 4\n",
      "Best fitness: 0.02304598540459979\n",
      "[0.7483090891430666, 0.798839903833452, 0.8573464295992431, 0.6774842048468172, 0.8763044938522557, 0.8809784832783455, 0.8913478464617075, 0.6460330713779394, 0.633761480529243, 0.6172842334718437, 0.9324480232271695, 0.9414815702740714, 0.5962378065966839, 0.9477703113202623, 0.9490765161553505, 0.9715899596416411, 0.9745061338399719, 0.5401549948668358, 0.46302575626182785, 1.1016995572902777, 1.1095957875373075, 1.1196850769952336, 0.4157616489036231, 1.1346540514050762, 1.147231533497458, 1.1486645861362854, 1.1529225953382622, 1.1682779603726179, 1.1971455765962609, 1.199651775667066, 0.3280473186451055, 1.2325580187443856, 1.242430590627214, 1.2715280628331267, 0.2532688524033566, 1.2989312102948631, 1.3000671821356569, 1.3097243299977246, 1.3125654609146213, 1.3188542019608125, 0.19306888102838315, 1.3673454940271144, 1.3813741192221118, 1.3820785456400475, 1.4059813258108633, 0.1328689096534097, 1.4402209476816403, 1.4454660727415043, 0.09077605590309012, 1.4645642063238031]\n",
      "Generation 5\n",
      "Best fitness: 0.003511053801840247\n",
      "[0.7748661283495066, 0.7677233629494283, 0.7752078501543497, 0.7543160399667757, 0.7483090891430666, 0.798839903833452, 0.7997876907391162, 0.7376394260712817, 0.7212966198255671, 0.8290961197654185, 0.8299200359310347, 0.8573464295992431, 0.6811520593681084, 0.6774842048468172, 0.8668254617257494, 0.8763044938522557, 0.8809784832783455, 0.8913478464617075, 0.8927810969222307, 0.6460330713779394, 0.633761480529243, 0.9151856251444711, 0.9154535285627519, 0.6172842334718437, 0.9324480232271695, 0.9414815702740714, 0.5962378065966839, 0.9477703113202623, 0.9490765161553505, 0.5869582376980393, 0.9715899596416411, 0.9745061338399719, 0.9979927402148565, 0.5401549948668358, 1.0066892827025269, 1.0117680136748568, 1.020851939669094, 1.0380678108395738, 1.077145207476965, 0.46302575626182785, 1.100536088229716, 1.1016995572902777, 1.1070102751344275, 1.108468362233593, 1.1095957875373075, 1.1196850769952336, 1.124465545393868, 0.4157616489036231, 1.1284136605173827, 1.1346540514050762]\n",
      "Generation 6\n",
      "Best fitness: 0.003511053801840247\n",
      "[0.7748661283495066, 0.7677233629494283, 0.7752078501543497, 0.7673642745091509, 0.7662349293081574, 0.7787282766101821, 0.7792313440625813, 0.7610197014581019, 0.7551240895667635, 0.7543160399667757, 0.7940610407756583, 0.7483090891430666, 0.7964688667047846, 0.798839903833452, 0.7997876907391162, 0.741938847965461, 0.7386359477929667, 0.7376394260712817, 0.7348575194821774, 0.8123067914976612, 0.7212966198255671, 0.8290961197654185, 0.8299200359310347, 0.8331069874056071, 0.8347508325556234, 0.840378556185118, 0.8414544940469497, 0.7001745556723575, 0.8432212746823309, 0.8446261092608369, 0.6977368897444987, 0.6951338913717975, 0.8516240408655558, 0.8529167970669957, 0.8573464295992431, 0.8583447102142105, 0.8613182198348845, 0.6811520593681084, 0.8644110869033738, 0.6774842048468172, 0.8668254617257494, 0.8721408724549449, 0.8763044938522557, 0.8809784832783455, 0.8845805144060803, 0.8913478464617075, 0.8927810969222307, 0.8935399961920623, 0.6460330713779394, 0.9022130848855032]\n",
      "Generation 7\n",
      "Best fitness: 0.0010785186189286033\n",
      "[0.7702765559287378, 0.7741230781317213, 0.7748661283495066, 0.7677233629494283, 0.7752078501543497, 0.7673642745091509, 0.7663484942843125, 0.7662349293081574, 0.776739300793004, 0.7641919879836264, 0.7787282766101821, 0.7792313440625813, 0.762526963651416, 0.7621866670252196, 0.7615876087462866, 0.7610197014581019, 0.781976819623798, 0.7844160256542623, 0.7564236381128158, 0.7870206917983772, 0.7551240895667635, 0.7546643953005843, 0.7543160399667757, 0.7893215247124051, 0.7940610407756583, 0.7483090891430666, 0.7964688667047846, 0.7967814444155084, 0.7968572759322099, 0.7984097413574234, 0.798839903833452, 0.7437437827124446, 0.7996709583568822, 0.7997876907391162, 0.741938847965461, 0.8008414906039634, 0.8012370977525258, 0.8021204880702164, 0.8033268996786386, 0.7386359477929667, 0.8041637319139999, 0.7376394260712817, 0.8058312347830094, 0.8059176320078946, 0.806734399890487, 0.7348575194821774, 0.8098049501238497, 0.731428627160613, 0.7305971285652297, 0.8123067914976612]\n",
      "Generation 8\n",
      "Best fitness: 0.00010505774923785793\n",
      "[0.7714601322969042, 0.7708425435494808, 0.7707959596863322, 0.7722313318712162, 0.7702765559287378, 0.7701790037199394, 0.7701063247086146, 0.7728725814126105, 0.7693601461904847, 0.773359415250245, 0.7734714946528392, 0.7691534530749244, 0.7740201966282396, 0.7741230781317213, 0.774575289873515, 0.7679999443705596, 0.7748661283495066, 0.7677233629494283, 0.7752078501543497, 0.7673804302396148, 0.7673642745091509, 0.7673226051106468, 0.7672642389195298, 0.7671777168146724, 0.7663484942843125, 0.7662349293081574, 0.776739300793004, 0.7778350094983588, 0.7779853224277926, 0.7645034349613266, 0.7641919879836264, 0.7787282766101821, 0.7792313440625813, 0.762526963651416, 0.7805132854293358, 0.7621866670252196, 0.7620572861988513, 0.7806876497427013, 0.7809292447286252, 0.7615876087462866, 0.7811274364479126, 0.781214549675125, 0.7612360296613133, 0.7815461026201836, 0.7610197014581019, 0.781976819623798, 0.7605064447924483, 0.7605064447924483, 0.7599593266388174, 0.7828870079332871]\n",
      "Generation 9\n",
      "Best fitness: 1.7393423109912654e-05\n",
      "[0.7713724679707763, 0.7714601322969042, 0.7715923613233819, 0.7716901714093621, 0.7718179855894913, 0.7708765033440936, 0.7708425435494808, 0.7707959596863322, 0.7707781722193311, 0.7720349694032581, 0.7704874817031357, 0.7722313318712162, 0.7703699227449299, 0.7702765559287378, 0.770184345456276, 0.7701790037199394, 0.7725788073045028, 0.7701063247086146, 0.7699979983122026, 0.7728154357046195, 0.7728725814126105, 0.7694202812682596, 0.7693601461904847, 0.773359415250245, 0.7734714946528392, 0.7691534530749244, 0.7736388695064689, 0.7689868382505023, 0.7689868382505023, 0.7739759443311156, 0.7687144649096307, 0.7740201966282396, 0.768678360267306, 0.77404021578348, 0.7741230781317213, 0.7685511267624655, 0.7682735801398278, 0.768263749002126, 0.7681655849447984, 0.774575289873515, 0.7680814493099009, 0.7679999443705596, 0.7747730234953716, 0.7748661283495066, 0.7677233629494283, 0.7752078501543497, 0.7673804302396148, 0.7673723523743828, 0.7673642745091509, 0.7673226051106468]\n",
      "Generation 10\n",
      "Best fitness: 1.7393423109912654e-05\n",
      "[0.7713724679707763, 0.7714195194378205, 0.771261225553197, 0.7714601322969042, 0.7714608802066171, 0.771465606551889, 0.7714998905804478, 0.7715923613233819, 0.7710706470559363, 0.7710686490022612, 0.7716901714093621, 0.7716981127996876, 0.7710011655228837, 0.770973821123949, 0.7709552710063552, 0.7717810640620086, 0.7718136653633201, 0.7718179855894913, 0.7708765033440936, 0.7708425435494808, 0.7707959596863322, 0.7707870659528316, 0.7707781722193311, 0.7707103230115474, 0.7720349694032581, 0.7706650126263083, 0.7720632606684271, 0.7705974288011337, 0.7721262501299266, 0.7721331506372371, 0.7704874817031357, 0.7722313318712162, 0.7704261937221653, 0.7703699227449299, 0.7702895997869421, 0.7724259229011263, 0.7702765559287378, 0.770266225249561, 0.7702475404366711, 0.7724726063092224, 0.770184345456276, 0.770184265838334, 0.7701790037199394, 0.7725788073045028, 0.7701063247086146, 0.7699979983122026, 0.7728154357046195, 0.772844008558615, 0.7728725814126105, 0.7698181084864512]\n",
      "Generation 11\n",
      "Best fitness: 9.99019395953038e-06\n",
      "[0.7713450843537069, 0.7713724679707763, 0.7713794102058117, 0.7713258050145809, 0.7714195194378205, 0.7712619941874337, 0.771261225553197, 0.7714597050091341, 0.7714601322969042, 0.7714608802066171, 0.771465606551889, 0.7714878470933589, 0.7714998905804478, 0.7714998905804478, 0.7715047520452736, 0.7711852667713566, 0.7715313196900693, 0.7711659363045666, 0.7715539176076549, 0.7711554005525492, 0.7715923613233819, 0.7710856016090822, 0.771629836131027, 0.7710706470559363, 0.7710686490022612, 0.7710518845513389, 0.7716901714093621, 0.7716981127996876, 0.7710011655228837, 0.7709811420341559, 0.7709741809548765, 0.770973821123949, 0.7709552710063552, 0.7717616964826657, 0.7709435369643911, 0.7709293271771653, 0.7717810640620086, 0.7718136653633201, 0.7718179855894913, 0.770888313580858, 0.7708804435383902, 0.7708804435383902, 0.7708765033440936, 0.7718435742271617, 0.7708595234467872, 0.7708425435494808, 0.7708155741490634, 0.7718991954359513, 0.7708103578844059, 0.7707959596863322]\n",
      "Generation 12\n",
      "Best fitness: 9.99019395953038e-06\n",
      "[0.7713450843537069, 0.7713430588883212, 0.7713403724955088, 0.7713724679707763, 0.7713794102058117, 0.7713794102058117, 0.7713258050145809, 0.7713216238229541, 0.7713203178795043, 0.7714195194378205, 0.7712853074738761, 0.7714267566761184, 0.7714377190903594, 0.7714396503931298, 0.7712681268039127, 0.7712679491438865, 0.7714443163227138, 0.7712640492812657, 0.7712619941874337, 0.771261225553197, 0.7714597050091341, 0.7714601322969042, 0.7714608802066171, 0.7712450832468785, 0.771465606551889, 0.7712310140241176, 0.7714878470933589, 0.7712211155942564, 0.7712173506652831, 0.7714998905804478, 0.7714998905804478, 0.7712080756064861, 0.7715047520452736, 0.7715118453350497, 0.7711972270084211, 0.7711972270084211, 0.7711852667713566, 0.7715266207649996, 0.7715313196900693, 0.7715378297753769, 0.7711686917753553, 0.7711659363045666, 0.7715539176076549, 0.7711554005525492, 0.771558841612193, 0.7711508975739708, 0.7715767660163925, 0.7711311955380403, 0.7715802104945741, 0.771129926872101]\n",
      "Generation 13\n",
      "Best fitness: 2.4669374700803104e-06\n",
      "[0.7713526076101963, 0.7713599269561108, 0.7713473529100024, 0.7713450843537069, 0.7713450185751167, 0.7713668666779008, 0.7713430588883212, 0.7713403724955088, 0.7713724679707763, 0.7713336229437995, 0.7713790184849318, 0.7713794102058117, 0.7713794102058117, 0.7713261959646, 0.7713258050145809, 0.7713216238229541, 0.7713203178795043, 0.7713184387007754, 0.771318258626021, 0.7713950297595749, 0.7713128399846925, 0.771311492930858, 0.7713987805799286, 0.7713065040490346, 0.7712998584376315, 0.7712984010449646, 0.7712983804355473, 0.7712967917825164, 0.7712927278711936, 0.7714195194378205, 0.7712853074738761, 0.7714267566761184, 0.7714336286495853, 0.7712740509905835, 0.7712734603044187, 0.7714377190903594, 0.7714396503931298, 0.7712681268039127, 0.7712679491438865, 0.7712674053791804, 0.7714443163227138, 0.7712641628298389, 0.7712640492812657, 0.7712619941874337, 0.7712615160115011, 0.771261225553197, 0.7714519629829499, 0.7714549614373014, 0.7712546685389563, 0.7714597050091341]\n",
      "Generation 14\n",
      "Best fitness: 9.009681374294587e-07\n",
      "[0.7713559755158038, 0.7713526076101963, 0.7713591836566487, 0.7713596841810652, 0.7713599269561108, 0.7713493319676881, 0.7713612345470664, 0.7713488389654255, 0.7713485908124467, 0.7713618771451999, 0.7713473529100024, 0.7713638270765103, 0.771364811898295, 0.7713450843537069, 0.7713450185751167, 0.7713661797112565, 0.7713668666779008, 0.7713430588883212, 0.7713672554364379, 0.7713672554364379, 0.7713426955353128, 0.7713694727205214, 0.7713696685809612, 0.7713403724955088, 0.7713723454270718, 0.7713724679707763, 0.7713358731780627, 0.7713355231554859, 0.7713336229437995, 0.771332358839844, 0.7713790184849318, 0.7713794102058117, 0.7713794102058117, 0.7713303873836812, 0.7713293155607649, 0.7713261959646, 0.7713258050145809, 0.7713254940228718, 0.7713226172149934, 0.7713220318203009, 0.7713217323946271, 0.7713216238229541, 0.7713203178795043, 0.7713184387007754, 0.771318258626021, 0.7713168467619866, 0.7713167406907155, 0.7713950297595749, 0.7713144304326672, 0.7713136661676456]\n",
      "Generation 15\n",
      "Best fitness: 2.9344105956230493e-07\n",
      "[0.7713547811066068, 0.7713543628832883, 0.7713542915630001, 0.7713558852251452, 0.7713559755158038, 0.7713539955631311, 0.7713537537168038, 0.771357376467334, 0.771357509338341, 0.7713526076101963, 0.7713578298484345, 0.7713522863402563, 0.7713579512359573, 0.7713516642129031, 0.7713591836566487, 0.7713508178499626, 0.7713505170143828, 0.7713596841810652, 0.7713599269561108, 0.7713604173870778, 0.7713605293916115, 0.7713496127588724, 0.7713493319676881, 0.7713489197249718, 0.7713612345470664, 0.7713488389654255, 0.7713485908124467, 0.7713618771451999, 0.7713477250557983, 0.7713473529100024, 0.7713470637295299, 0.7713466535624323, 0.7713635911962744, 0.7713638270765103, 0.7713643710867499, 0.771364811898295, 0.7713450843537069, 0.7713450185751167, 0.7713448160455456, 0.7713653468772055, 0.7713661797112565, 0.7713668666779008, 0.7713670610571693, 0.7713430588883212, 0.7713672554364379, 0.7713672554364379, 0.7713426955353128, 0.771368267629431, 0.7713408902651924, 0.7713694727205214]\n",
      "Generation 16\n",
      "Best fitness: 8.261471318160574e-08\n",
      "[0.7713551571623796, 0.7713552156154562, 0.7713547811066068, 0.7713543628832883, 0.7713542915630001, 0.7713558757807246, 0.7713558852251452, 0.7713542028827634, 0.7713559755158038, 0.7713560261985145, 0.7713540728508151, 0.7713539955631311, 0.771356351863667, 0.7713537537168038, 0.7713566759915689, 0.7713534478601582, 0.7713567013553708, 0.7713533246117723, 0.7713569026821192, 0.7713571415542076, 0.7713571720454466, 0.771357376467334, 0.771357509338341, 0.7713526076101963, 0.7713524399488356, 0.771352384267386, 0.7713578298484345, 0.7713522863402563, 0.7713579512359573, 0.7713579963426147, 0.7713582800619914, 0.7713518100360162, 0.7713584340976551, 0.7713516642129031, 0.7713587181472259, 0.7713514242117756, 0.7713512693937887, 0.7713589401941516, 0.7713511101845343, 0.7713591836566487, 0.7713508178499626, 0.7713593669850192, 0.7713507173345195, 0.7713595427396969, 0.7713595765090786, 0.7713505533134031, 0.7713505170143828, 0.7713596841810652, 0.7713503957806747, 0.7713598548802469]\n",
      "Generation 17\n",
      "Best fitness: 3.521592240041116e-08\n",
      "[0.771355039331744, 0.7713550241833095, 0.7713549937705073, 0.7713551571623796, 0.7713549721374473, 0.7713551859473149, 0.7713549504955841, 0.7713552156154562, 0.7713548790220571, 0.7713548790220571, 0.7713552832011239, 0.7713547811066068, 0.7713547291928515, 0.7713554491226251, 0.7713554767874269, 0.7713555541964203, 0.7713545932516751, 0.7713545706521032, 0.7713544811659125, 0.7713543985381871, 0.7713557545130233, 0.7713543628832883, 0.771355841894363, 0.7713542915630001, 0.7713558757807246, 0.7713558852251452, 0.7713559004506705, 0.7713542028827634, 0.7713541798915948, 0.7713559755158038, 0.7713541347462656, 0.7713560261985145, 0.7713540728508151, 0.7713539955631311, 0.7713561570596228, 0.7713562148303932, 0.7713539116128263, 0.7713562414723774, 0.7713538602660409, 0.7713563184902092, 0.771356351863667, 0.7713537537168038, 0.771353721751318, 0.7713566272728931, 0.7713566759915689, 0.7713534478601582, 0.7713567013553708, 0.7713534220242386, 0.7713534014160619, 0.7713533246117723]\n",
      "Generation 18\n",
      "Best fitness: 3.521592240041116e-08\n",
      "[0.771355039331744, 0.7713550241833095, 0.7713551416946359, 0.7713549937705073, 0.7713551571623796, 0.7713549721374473, 0.7713551859473149, 0.7713551945409014, 0.7713549504955841, 0.7713552115533444, 0.7713552156154562, 0.7713552201817517, 0.7713552201817517, 0.7713549147588206, 0.7713552658776309, 0.7713548790220571, 0.7713548790220571, 0.7713552832011239, 0.7713548506651494, 0.7713553479981529, 0.7713553556794, 0.7713547919344453, 0.7713547919344453, 0.7713547811066068, 0.7713547600228339, 0.7713547535892281, 0.7713547381321706, 0.7713547374682099, 0.7713554186987721, 0.7713547291928515, 0.7713554491226251, 0.771355462955026, 0.7713554698912073, 0.7713554767874269, 0.7713546578731547, 0.771354650063788, 0.771355499167981, 0.7713546216552125, 0.7713555504203007, 0.7713545983266353, 0.7713555541964203, 0.7713545932516751, 0.7713545706521032, 0.7713545343876029, 0.7713545224941312, 0.7713556404020607, 0.771354502476221, 0.7713544838502893, 0.7713544838502893, 0.7713544811659125]\n",
      "Generation 19\n",
      "Best fitness: 3.867804965196342e-09\n",
      "[0.7713550784154714, 0.7713550651871384, 0.771355060536202, 0.7713550604115967, 0.7713550936273978, 0.77135504609511, 0.7713551041467277, 0.771355039331744, 0.7713551126395295, 0.771355113510105, 0.7713550331403027, 0.7713550241833095, 0.7713550237246303, 0.7713551416946359, 0.7713550006441793, 0.7713549937705073, 0.7713551571623796, 0.7713549827156234, 0.771355171177373, 0.7713551766239901, 0.7713549721374473, 0.7713551859473149, 0.7713551860907312, 0.7713551945409014, 0.7713549504955841, 0.7713549449984467, 0.7713552115533444, 0.7713549351227699, 0.7713552156154562, 0.7713552158675481, 0.7713552201817517, 0.7713552201817517, 0.7713549255797523, 0.7713549147588206, 0.7713549145820326, 0.771354884176926, 0.7713552658776309, 0.7713548816749243, 0.7713548790220571, 0.7713548790220571, 0.7713548712150147, 0.771354865951339, 0.7713552832011239, 0.7713552954086305, 0.7713548506738321, 0.7713548506651494, 0.7713548463596285, 0.77135531753497, 0.771354825821831, 0.7713553479981529]\n",
      "Generation 20\n",
      "Best fitness: 3.867804965196342e-09\n",
      "[0.7713550784154714, 0.771355065914485, 0.7713550651871384, 0.7713550608364785, 0.771355060536202, 0.7713550604115967, 0.7713550936273978, 0.7713550938764517, 0.771355054561467, 0.7713550989799722, 0.77135504609511, 0.7713551041467277, 0.7713551046929817, 0.7713551069761295, 0.771355039331744, 0.7713551126395295, 0.771355113510105, 0.7713550349098701, 0.7713550338111196, 0.7713550331403027, 0.7713550315675568, 0.771355118580096, 0.7713550264261486, 0.7713550241833095, 0.7713550237246303, 0.7713550165511256, 0.7713551331384308, 0.7713550121844048, 0.7713551416946359, 0.7713550027050218, 0.7713551464982997, 0.7713550006441793, 0.7713550001549541, 0.7713551493438146, 0.7713551493651303, 0.7713551498004181, 0.7713549937705073, 0.7713551571623796, 0.7713551595666304, 0.7713549890693747, 0.7713549876808712, 0.771354984590878, 0.7713551655323847, 0.7713549827156234, 0.771355171177373, 0.7713551718686629, 0.7713551766239901, 0.7713551766239901, 0.7713549721374473, 0.7713549666056038]\n",
      "Generation 21\n",
      "Best fitness: 4.463305280921759e-10\n",
      "[0.7713550749939969, 0.771355076744983, 0.7713550713817028, 0.7713550784154714, 0.7713550786608702, 0.7713550823414648, 0.7713550828466824, 0.771355065914485, 0.7713550836004983, 0.7713550653822504, 0.7713550651871384, 0.7713550650306153, 0.771355063454469, 0.7713550862350874, 0.771355062847255, 0.7713550878849815, 0.7713550611039028, 0.7713550608364785, 0.771355060536202, 0.7713550604115967, 0.7713550893486216, 0.7713550570771421, 0.7713550570771421, 0.7713550936273978, 0.7713550938764517, 0.7713550550892617, 0.7713550943484371, 0.771355054561467, 0.7713550965875579, 0.7713550524239678, 0.7713550967750138, 0.7713550989799722, 0.77135504609511, 0.7713551041467277, 0.7713551046929817, 0.7713551062450386, 0.7713551069761295, 0.7713551076398076, 0.7713551087800341, 0.771355039331744, 0.7713551126395295, 0.7713551127405577, 0.771355113510105, 0.771355113879643, 0.7713550349098701, 0.7713550338111196, 0.7713551155927285, 0.7713550331403027, 0.7713550329156589, 0.7713551163525707]\n",
      "Generation 22\n",
      "Best fitness: 1.8115076105829075e-10\n",
      "[0.7713550743665156, 0.7713550749939969, 0.7713550750925501, 0.7713550735099728, 0.7713550759321377, 0.7713550760361508, 0.7713550764577984, 0.771355076744983, 0.7713550713817028, 0.7713550784154714, 0.7713550786608702, 0.7713550786677308, 0.7713550695362335, 0.7713550822791622, 0.7713550823414648, 0.7713550828466824, 0.7713550659171224, 0.771355065914485, 0.7713550836004983, 0.7713550653822504, 0.7713550651871384, 0.7713550650306153, 0.771355084540885, 0.7713550845958155, 0.7713550637443699, 0.7713550637089823, 0.771355063454469, 0.7713550858450432, 0.77135508617919, 0.7713550862350874, 0.771355062847255, 0.7713550619755789, 0.7713550614661211, 0.7713550878849815, 0.7713550611321403, 0.7713550611039028, 0.7713550608364785, 0.771355060536202, 0.7713550885975597, 0.7713550604115967, 0.7713550888204213, 0.7713550893486216, 0.7713550592551842, 0.7713550586256674, 0.7713550907698545, 0.7713550579392184, 0.7713550577504292, 0.7713550914113226, 0.7713550570771421, 0.7713550570771421]\n",
      "Generation 23\n",
      "Best fitness: 1.8115076105829075e-10\n",
      "[0.7713550743665156, 0.7713550747857502, 0.7713550749440862, 0.7713550741426274, 0.7713550749939969, 0.7713550750925501, 0.7713550737215352, 0.771355075512344, 0.7713550735099728, 0.7713550733798198, 0.7713550731878498, 0.7713550759321377, 0.7713550760361508, 0.7713550729487817, 0.7713550729120999, 0.771355076390567, 0.7713550764577984, 0.7713550724111307, 0.771355076744983, 0.7713550721585218, 0.7713550720871529, 0.7713550770385592, 0.7713550718980346, 0.7713550773687718, 0.7713550713817028, 0.7713550709349701, 0.7713550784154714, 0.7713550786608702, 0.7713550786677308, 0.7713550702446765, 0.7713550702446765, 0.7713550700833904, 0.7713550699407963, 0.7713550695362335, 0.7713550692735096, 0.7713550804734465, 0.7713550677427758, 0.7713550814620865, 0.7713550819564856, 0.7713550822791622, 0.7713550823414648, 0.7713550828466824, 0.7713550829398302, 0.7713550659171224, 0.771355065914485, 0.7713550657218289, 0.7713550836004983, 0.7713550653822504, 0.7713550651871384, 0.7713550839345605]\n",
      "Generation 24\n",
      "Best fitness: 5.520017776206032e-11\n",
      "[0.7713550744924662, 0.7713550746120004, 0.7713550743819024, 0.7713550743665156, 0.7713550747636468, 0.7713550743300739, 0.7713550747857502, 0.7713550743081601, 0.7713550749440862, 0.7713550741426274, 0.7713550749939969, 0.7713550740316468, 0.7713550750925501, 0.7713550740004955, 0.7713550752091896, 0.7713550738618575, 0.7713550752513121, 0.7713550752783108, 0.7713550737331503, 0.7713550737215352, 0.771355075512344, 0.771355073551304, 0.771355073540575, 0.7713550735099728, 0.7713550733798198, 0.7713550757556996, 0.7713550732838348, 0.7713550732371264, 0.7713550731878498, 0.7713550759321377, 0.7713550760361508, 0.7713550761099792, 0.7713550729644836, 0.7713550729487817, 0.7713550729120999, 0.7713550728097849, 0.771355076390567, 0.7713550726799562, 0.7713550764577984, 0.7713550724111307, 0.771355076744983, 0.7713550768419444, 0.771355072224953, 0.7713550721585218, 0.7713550720871529, 0.7713550770385592, 0.7713550770900374, 0.7713550718980346, 0.7713550717344279, 0.7713550773687718]\n",
      "Generation 25\n",
      "Best fitness: 5.071498776487715e-11\n",
      "[0.7713550744969514, 0.7713550744924662, 0.7713550746120004, 0.7713550746204182, 0.7713550743941417, 0.7713550743819024, 0.7713550743665156, 0.7713550747636468, 0.7713550743300739, 0.7713550747797361, 0.7713550747857502, 0.7713550743081601, 0.77135507430776, 0.7713550742672859, 0.7713550748285415, 0.7713550742519848, 0.7713550748474625, 0.7713550749440862, 0.7713550749491636, 0.7713550741426274, 0.7713550749939969, 0.771355074065968, 0.7713550740316468, 0.7713550740237408, 0.7713550740114383, 0.7713550750925501, 0.7713550740004955, 0.7713550751379954, 0.771355073928093, 0.7713550751721554, 0.7713550752091896, 0.7713550738668229, 0.7713550738618575, 0.7713550752513121, 0.7713550752742659, 0.7713550752783108, 0.7713550753000051, 0.7713550737914754, 0.7713550753607668, 0.7713550753609898, 0.7713550737331503, 0.7713550737215352, 0.7713550737184163, 0.7713550737170713, 0.771355075512344, 0.771355075512344, 0.7713550755195273, 0.7713550735746734, 0.7713550735728462, 0.771355073551304]\n",
      "Generation 26\n",
      "Best fitness: 5.661027202563673e-13\n",
      "[0.7713550745471003, 0.7713550745468604, 0.7713550745357034, 0.7713550745776112, 0.7713550745103215, 0.771355074505027, 0.7713550744969514, 0.7713550744924662, 0.7713550746103139, 0.7713550746120004, 0.7713550746204182, 0.7713550744598802, 0.7713550746383437, 0.7713550746549789, 0.7713550744128501, 0.7713550746861025, 0.7713550746920326, 0.7713550744025557, 0.7713550746940694, 0.7713550743941417, 0.7713550743819024, 0.7713550743665156, 0.7713550747372262, 0.7713550743337899, 0.7713550747636468, 0.7713550743300739, 0.771355074771634, 0.7713550743232795, 0.7713550743230633, 0.7713550747780433, 0.7713550747797361, 0.7713550743127522, 0.7713550743117193, 0.7713550747857502, 0.7713550743081601, 0.77135507430776, 0.771355074306248, 0.7713550742672859, 0.7713550748285415, 0.7713550748301066, 0.7713550748342634, 0.7713550748344634, 0.7713550742519848, 0.7713550748455318, 0.7713550748474625, 0.7713550742411379, 0.7713550748775657, 0.7713550742067746, 0.7713550748898149, 0.7713550748934066]\n",
      "Generation 27\n",
      "Best fitness: 5.661027202563673e-13\n",
      "[0.7713550745471003, 0.7713550745468604, 0.7713550745416766, 0.7713550745359403, 0.7713550745357034, 0.771355074535508, 0.7713550745350387, 0.7713550745302925, 0.7713550745683508, 0.7713550745706468, 0.7713550745731259, 0.7713550745776112, 0.7713550745785871, 0.7713550745831013, 0.7713550745103215, 0.771355074505027, 0.7713550744969514, 0.7713550744924662, 0.7713550746082349, 0.7713550746103139, 0.7713550746120004, 0.7713550744813694, 0.7713550746204182, 0.7713550744732519, 0.7713550744722959, 0.7713550744691295, 0.7713550744598802, 0.7713550746383437, 0.7713550744549007, 0.7713550746437742, 0.7713550746461852, 0.7713550746549789, 0.7713550744396431, 0.7713550744396431, 0.7713550744394269, 0.7713550744384186, 0.7713550744350818, 0.7713550746625718, 0.7713550744274301, 0.7713550744194084, 0.7713550746779266, 0.7713550744166924, 0.7713550744128501, 0.7713550744115368, 0.7713550746861025, 0.7713550744090407, 0.7713550744078729, 0.7713550744070732, 0.7713550744048518, 0.7713550746920326]\n",
      "Generation 28\n",
      "Best fitness: 5.661027202563673e-13\n",
      "[0.7713550745471003, 0.7713550745468604, 0.7713550745488268, 0.7713550745524413, 0.7713550745426261, 0.7713550745417086, 0.7713550745416766, 0.7713550745540823, 0.7713550745386963, 0.7713550745571452, 0.7713550745368076, 0.7713550745359403, 0.7713550745595208, 0.7713550745357034, 0.7713550745356057, 0.7713550745597313, 0.771355074535508, 0.7713550745350387, 0.7713550745331164, 0.7713550745635571, 0.7713550745302925, 0.7713550745294904, 0.7713550745683508, 0.7713550745254415, 0.7713550745706468, 0.7713550745731259, 0.771355074518872, 0.7713550745776112, 0.7713550745785871, 0.771355074579648, 0.7713550745142348, 0.7713550745141455, 0.7713550745831013, 0.7713550745103215, 0.7713550745052657, 0.771355074505027, 0.771355074594124, 0.7713550745966428, 0.7713550744974594, 0.7713550744969514, 0.7713550744924662, 0.7713550744906005, 0.7713550746082349, 0.7713550744866013, 0.7713550746103139, 0.7713550746120004, 0.7713550746137703, 0.771355074481469, 0.7713550744813694, 0.7713550744774866]\n",
      "Generation 29\n",
      "Best fitness: 5.661027202563673e-13\n",
      "[0.7713550745471003, 0.771355074547075, 0.7713550745468604, 0.7713550745486234, 0.7713550745488268, 0.7713550745489206, 0.7713550745489206, 0.7713550745457918, 0.7713550745436114, 0.7713550745524413, 0.7713550745426261, 0.7713550745531182, 0.7713550745417086, 0.7713550745416766, 0.7713550745540823, 0.7713550745412482, 0.771355074541233, 0.7713550745541348, 0.7713550745541737, 0.771355074554279, 0.771355074539067, 0.7713550745563249, 0.7713550745566364, 0.7713550745386963, 0.7713550745385538, 0.7713550745571452, 0.7713550745377837, 0.7713550745371999, 0.7713550745585137, 0.7713550745368076, 0.771355074536689, 0.7713550745359403, 0.7713550745595208, 0.7713550745357034, 0.7713550745356901, 0.7713550745356057, 0.7713550745597313, 0.771355074535508, 0.7713550745354896, 0.7713550745350387, 0.7713550745612165, 0.7713550745612165, 0.7713550745331164, 0.7713550745318631, 0.7713550745635571, 0.771355074564593, 0.7713550745306237, 0.7713550745302925, 0.7713550745294904, 0.7713550745272975]\n",
      "Generation 30\n",
      "Best fitness: 3.3140157285060923e-13\n",
      "[0.7713550745479978, 0.7713550745473092, 0.7713550745471726, 0.7713550745471018, 0.7713550745471003, 0.771355074547075, 0.7713550745483531, 0.7713550745468604, 0.7713550745486234, 0.7713550745488268, 0.771355074546435, 0.7713550745489206, 0.7713550745489206, 0.7713550745462884, 0.7713550745494269, 0.7713550745457972, 0.7713550745457918, 0.7713550745457394, 0.7713550745454976, 0.7713550745454976, 0.7713550745454907, 0.7713550745500952, 0.7713550745501112, 0.7713550745447015, 0.771355074550681, 0.7713550745507003, 0.7713550745513986, 0.7713550745514686, 0.7713550745515276, 0.7713550745436114, 0.7713550745521527, 0.7713550745524027, 0.7713550745524413, 0.7713550745428144, 0.7713550745426261, 0.771355074552913, 0.7713550745531182, 0.771355074541834, 0.7713550745417086, 0.7713550745416766, 0.7713550745413892, 0.7713550745413825, 0.7713550745412915, 0.7713550745540823, 0.7713550745412482, 0.771355074541233, 0.7713550745541085, 0.7713550745541348, 0.7713550745541737, 0.771355074554279]\n",
      "Generation 31\n",
      "Best fitness: 5.706546346573305e-14\n",
      "[0.7713550745476093, 0.771355074547756, 0.771355074547359, 0.7713550745479978, 0.7713550745473092, 0.7713550745480858, 0.7713550745472408, 0.7713550745472091, 0.7713550745471726, 0.7713550745471018, 0.7713550745471003, 0.771355074547075, 0.7713550745470724, 0.7713550745483531, 0.7713550745484614, 0.7713550745468604, 0.7713550745486234, 0.7713550745487022, 0.7713550745487022, 0.7713550745488268, 0.7713550745488738, 0.771355074548878, 0.7713550745464488, 0.771355074546435, 0.7713550745489011, 0.7713550745489206, 0.7713550745489206, 0.771355074546394, 0.7713550745463686, 0.7713550745462884, 0.7713550745462191, 0.7713550745491166, 0.7713550745491295, 0.7713550745492502, 0.7713550745494269, 0.7713550745457972, 0.7713550745457918, 0.7713550745457394, 0.7713550745457389, 0.7713550745456641, 0.771355074549761, 0.771355074549769, 0.7713550745454976, 0.7713550745454976, 0.7713550745454941, 0.7713550745454907, 0.771355074549937, 0.7713550745500539, 0.7713550745500952, 0.7713550745501101]\n",
      "Generation 32\n",
      "Best fitness: 5.706546346573305e-14\n",
      "[0.7713550745476093, 0.7713550745476045, 0.7713550745477419, 0.771355074547756, 0.7713550745477618, 0.7713550745477946, 0.7713550745478004, 0.7713550745475211, 0.771355074547859, 0.7713550745478619, 0.7713550745479247, 0.771355074547359, 0.7713550745479978, 0.7713550745480112, 0.7713550745473202, 0.7713550745473092, 0.7713550745473063, 0.7713550745480369, 0.7713550745480807, 0.7713550745480858, 0.7713550745472408, 0.7713550745472273, 0.7713550745472091, 0.7713550745472091, 0.7713550745471822, 0.7713550745471726, 0.7713550745481625, 0.7713550745471587, 0.7713550745471579, 0.7713550745481752, 0.7713550745481896, 0.7713550745481896, 0.771355074548193, 0.7713550745471018, 0.7713550745471003, 0.771355074547075, 0.7713550745470724, 0.7713550745483531, 0.7713550745468976, 0.7713550745484614, 0.7713550745484667, 0.7713550745468604, 0.7713550745485351, 0.7713550745467606, 0.77135507454671, 0.7713550745486234, 0.7713550745486816, 0.7713550745486892, 0.771355074548691, 0.7713550745487022]\n",
      "Generation 33\n",
      "Best fitness: 5.773159728050814e-15\n",
      "[0.7713550745476606, 0.771355074547659, 0.7713550745476785, 0.7713550745476521, 0.7713550745476949, 0.7713550745476994, 0.7713550745476225, 0.7713550745476193, 0.7713550745476155, 0.7713550745476093, 0.7713550745476045, 0.7713550745477419, 0.7713550745477511, 0.771355074547756, 0.7713550745477618, 0.7713550745475669, 0.7713550745477671, 0.7713550745477816, 0.7713550745477816, 0.7713550745477946, 0.7713550745478004, 0.7713550745478037, 0.7713550745475211, 0.7713550745478118, 0.7713550745478207, 0.7713550745474913, 0.7713550745478444, 0.771355074547845, 0.7713550745478587, 0.771355074547859, 0.7713550745478619, 0.7713550745474691, 0.7713550745474671, 0.7713550745478817, 0.771355074547898, 0.7713550745478991, 0.7713550745474183, 0.7713550745479247, 0.7713550745479685, 0.771355074547359, 0.7713550745479811, 0.7713550745479939, 0.7713550745479978, 0.7713550745480009, 0.7713550745480058, 0.7713550745480112, 0.7713550745473202, 0.7713550745480171, 0.7713550745473092, 0.7713550745480258]\n",
      "Generation 34\n",
      "Best fitness: 5.773159728050814e-15\n",
      "[0.7713550745476606, 0.771355074547659, 0.771355074547659, 0.7713550745476743, 0.7713550745476563, 0.7713550745476785, 0.7713550745476521, 0.7713550745476514, 0.7713550745476497, 0.771355074547649, 0.7713550745476868, 0.7713550745476949, 0.7713550745476969, 0.7713550745476994, 0.7713550745476332, 0.7713550745477016, 0.7713550745476283, 0.7713550745476225, 0.7713550745477129, 0.7713550745476193, 0.7713550745476155, 0.7713550745476093, 0.771355074547608, 0.7713550745476045, 0.7713550745477302, 0.7713550745475999, 0.771355074547734, 0.7713550745477387, 0.7713550745477398, 0.7713550745477419, 0.7713550745477464, 0.7713550745477482, 0.7713550745477511, 0.771355074547756, 0.7713550745475768, 0.7713550745477618, 0.7713550745477618, 0.7713550745475669, 0.7713550745477671, 0.7713550745475604, 0.7713550745477755, 0.7713550745477793, 0.7713550745477804, 0.7713550745477806, 0.7713550745477816, 0.7713550745477816, 0.7713550745477882, 0.7713550745477891, 0.7713550745477926, 0.7713550745477946]\n",
      "Generation 35\n",
      "Best fitness: 2.220446049250313e-16\n",
      "[0.7713550745476666, 0.7713550745476606, 0.7713550745476597, 0.7713550745476732, 0.7713550745476735, 0.771355074547659, 0.771355074547659, 0.771355074547674, 0.7713550745476742, 0.7713550745476743, 0.7713550745476567, 0.7713550745476563, 0.7713550745476766, 0.7713550745476557, 0.7713550745476785, 0.7713550745476538, 0.77135507454768, 0.7713550745476521, 0.7713550745476514, 0.7713550745476505, 0.7713550745476497, 0.771355074547649, 0.7713550745476859, 0.7713550745476859, 0.7713550745476868, 0.7713550745476905, 0.7713550745476419, 0.7713550745476925, 0.771355074547693, 0.7713550745476394, 0.7713550745476943, 0.7713550745476943, 0.7713550745476946, 0.7713550745476949, 0.7713550745476956, 0.7713550745476969, 0.771355074547698, 0.771355074547698, 0.7713550745476985, 0.7713550745476341, 0.7713550745476994, 0.7713550745476996, 0.7713550745476332, 0.7713550745476332, 0.7713550745477016, 0.7713550745476283, 0.7713550745476225, 0.7713550745477104, 0.7713550745477129, 0.7713550745476193]\n",
      "Generation 36\n",
      "Best fitness: 1.1102230246251565e-16\n",
      "[0.7713550745476663, 0.7713550745476666, 0.7713550745476662, 0.771355074547666, 0.7713550745476682, 0.7713550745476645, 0.7713550745476645, 0.7713550745476643, 0.7713550745476687, 0.7713550745476638, 0.7713550745476636, 0.7713550745476699, 0.7713550745476623, 0.7713550745476706, 0.7713550745476708, 0.7713550745476712, 0.7713550745476611, 0.7713550745476606, 0.7713550745476723, 0.7713550745476723, 0.7713550745476728, 0.7713550745476597, 0.7713550745476597, 0.7713550745476732, 0.7713550745476735, 0.7713550745476736, 0.771355074547659, 0.771355074547659, 0.771355074547659, 0.771355074547674, 0.7713550745476742, 0.7713550745476743, 0.7713550745476743, 0.7713550745476744, 0.7713550745476747, 0.7713550745476567, 0.7713550745476563, 0.7713550745476766, 0.7713550745476766, 0.7713550745476766, 0.7713550745476769, 0.7713550745476557, 0.7713550745476552, 0.7713550745476785, 0.7713550745476538, 0.7713550745476793, 0.7713550745476531, 0.77135507454768, 0.77135507454768, 0.7713550745476521]\n",
      "Generation 37\n",
      "Best fitness: 1.1102230246251565e-16\n",
      "[0.7713550745476663, 0.7713550745476665, 0.7713550745476666, 0.7713550745476662, 0.771355074547666, 0.771355074547666, 0.7713550745476658, 0.7713550745476653, 0.7713550745476653, 0.7713550745476653, 0.7713550745476675, 0.7713550745476649, 0.7713550745476682, 0.7713550745476682, 0.7713550745476645, 0.7713550745476645, 0.7713550745476645, 0.7713550745476684, 0.7713550745476685, 0.7713550745476643, 0.7713550745476687, 0.7713550745476687, 0.7713550745476688, 0.7713550745476639, 0.7713550745476638, 0.7713550745476689, 0.771355074547669, 0.7713550745476637, 0.7713550745476636, 0.7713550745476698, 0.7713550745476699, 0.7713550745476703, 0.7713550745476625, 0.7713550745476623, 0.7713550745476705, 0.7713550745476705, 0.7713550745476706, 0.7713550745476707, 0.7713550745476621, 0.7713550745476708, 0.7713550745476617, 0.7713550745476712, 0.7713550745476712, 0.7713550745476612, 0.7713550745476611, 0.7713550745476606, 0.7713550745476723, 0.7713550745476723, 0.7713550745476724, 0.7713550745476604]\n",
      "Generation 38\n",
      "Best fitness: 1.1102230246251565e-16\n",
      "[0.7713550745476663, 0.7713550745476665, 0.7713550745476663, 0.7713550745476666, 0.7713550745476662, 0.771355074547666, 0.771355074547666, 0.771355074547666, 0.7713550745476667, 0.7713550745476668, 0.7713550745476669, 0.7713550745476669, 0.7713550745476658, 0.7713550745476672, 0.7713550745476656, 0.7713550745476672, 0.7713550745476655, 0.7713550745476674, 0.7713550745476653, 0.7713550745476653, 0.7713550745476653, 0.7713550745476675, 0.7713550745476676, 0.7713550745476649, 0.7713550745476649, 0.7713550745476678, 0.7713550745476678, 0.771355074547668, 0.7713550745476647, 0.771355074547668, 0.7713550745476646, 0.7713550745476682, 0.7713550745476682, 0.7713550745476646, 0.7713550745476682, 0.7713550745476646, 0.7713550745476646, 0.7713550745476645, 0.7713550745476645, 0.7713550745476645, 0.7713550745476644, 0.7713550745476684, 0.7713550745476643, 0.7713550745476685, 0.7713550745476643, 0.7713550745476685, 0.7713550745476642, 0.7713550745476687, 0.771355074547664, 0.7713550745476687]\n",
      "Generation 39\n",
      "Best fitness: 0.0\n",
      "[0.7713550745476664, 0.7713550745476663, 0.7713550745476663, 0.7713550745476663, 0.7713550745476663, 0.7713550745476663, 0.7713550745476663, 0.7713550745476663, 0.7713550745476663, 0.7713550745476665, 0.7713550745476663, 0.7713550745476662, 0.7713550745476662, 0.7713550745476662, 0.7713550745476666, 0.7713550745476667, 0.7713550745476667, 0.7713550745476667, 0.7713550745476667, 0.7713550745476667, 0.771355074547666, 0.771355074547666, 0.7713550745476667, 0.7713550745476667, 0.771355074547666, 0.7713550745476667, 0.771355074547666, 0.7713550745476668, 0.7713550745476659, 0.7713550745476669, 0.7713550745476669, 0.7713550745476658, 0.7713550745476669, 0.7713550745476658, 0.7713550745476669, 0.7713550745476669, 0.7713550745476669, 0.7713550745476658, 0.7713550745476657, 0.7713550745476657, 0.7713550745476657, 0.7713550745476672, 0.7713550745476672, 0.7713550745476656, 0.7713550745476672, 0.7713550745476672, 0.7713550745476672, 0.7713550745476673, 0.7713550745476673, 0.7713550745476655]\n",
      "Generation 40\n",
      "Best fitness: 0.0\n",
      "[0.7713550745476664, 0.7713550745476664, 0.7713550745476664, 0.7713550745476664, 0.7713550745476664, 0.7713550745476663, 0.7713550745476663, 0.7713550745476663, 0.7713550745476663, 0.7713550745476663, 0.7713550745476665, 0.7713550745476665, 0.7713550745476663, 0.7713550745476665, 0.7713550745476663, 0.7713550745476665, 0.7713550745476663, 0.7713550745476663, 0.7713550745476663, 0.7713550745476663, 0.7713550745476665, 0.7713550745476663, 0.7713550745476663, 0.7713550745476663, 0.7713550745476663, 0.7713550745476663, 0.7713550745476663, 0.7713550745476663, 0.7713550745476663, 0.7713550745476663, 0.7713550745476665, 0.7713550745476666, 0.7713550745476662, 0.7713550745476666, 0.7713550745476662, 0.7713550745476662, 0.7713550745476662, 0.7713550745476666, 0.7713550745476662, 0.7713550745476666, 0.7713550745476666, 0.7713550745476666, 0.7713550745476662, 0.771355074547666, 0.7713550745476667, 0.7713550745476667, 0.771355074547666, 0.7713550745476667, 0.771355074547666, 0.771355074547666]\n",
      "Generation 41\n",
      "Best fitness: 0.0\n",
      "[0.7713550745476664, 0.7713550745476664, 0.7713550745476664, 0.7713550745476664, 0.7713550745476664, 0.7713550745476664, 0.7713550745476664, 0.7713550745476664, 0.7713550745476664, 0.7713550745476664, 0.7713550745476664, 0.7713550745476663, 0.7713550745476665, 0.7713550745476663, 0.7713550745476663, 0.7713550745476665, 0.7713550745476663, 0.7713550745476663, 0.7713550745476663, 0.7713550745476665, 0.7713550745476663, 0.7713550745476665, 0.7713550745476665, 0.7713550745476663, 0.7713550745476663, 0.7713550745476663, 0.7713550745476663, 0.7713550745476665, 0.7713550745476665, 0.7713550745476665, 0.7713550745476663, 0.7713550745476663, 0.7713550745476663, 0.7713550745476665, 0.7713550745476663, 0.7713550745476663, 0.7713550745476665, 0.7713550745476665, 0.7713550745476663, 0.7713550745476663, 0.7713550745476663, 0.7713550745476665, 0.7713550745476665, 0.7713550745476663, 0.7713550745476665, 0.7713550745476663, 0.7713550745476663, 0.7713550745476665, 0.7713550745476663, 0.7713550745476665]\n",
      "Generation 42\n",
      "Best fitness: 0.0\n",
      "[0.7713550745476664, 0.7713550745476664, 0.7713550745476664, 0.7713550745476664, 0.7713550745476664, 0.7713550745476664, 0.7713550745476664, 0.7713550745476664, 0.7713550745476664, 0.7713550745476664, 0.7713550745476664, 0.7713550745476664, 0.7713550745476664, 0.7713550745476664, 0.7713550745476664, 0.7713550745476664, 0.7713550745476664, 0.7713550745476664, 0.7713550745476664, 0.7713550745476664, 0.7713550745476664, 0.7713550745476664, 0.7713550745476664, 0.7713550745476664, 0.7713550745476664, 0.7713550745476664, 0.7713550745476664, 0.7713550745476664, 0.7713550745476663, 0.7713550745476663, 0.7713550745476663, 0.7713550745476665, 0.7713550745476663, 0.7713550745476665, 0.7713550745476665, 0.7713550745476663, 0.7713550745476665, 0.7713550745476665, 0.7713550745476663, 0.7713550745476663, 0.7713550745476663, 0.7713550745476665, 0.7713550745476665, 0.7713550745476663, 0.7713550745476663, 0.7713550745476665, 0.7713550745476663, 0.7713550745476665, 0.7713550745476665, 0.7713550745476665]\n",
      "Generation 43\n",
      "Best fitness: 0.0\n",
      "[0.7713550745476664, 0.7713550745476664, 0.7713550745476664, 0.7713550745476664, 0.7713550745476664, 0.7713550745476664, 0.7713550745476664, 0.7713550745476664, 0.7713550745476664, 0.7713550745476664, 0.7713550745476664, 0.7713550745476664, 0.7713550745476664, 0.7713550745476664, 0.7713550745476664, 0.7713550745476664, 0.7713550745476664, 0.7713550745476664, 0.7713550745476664, 0.7713550745476664, 0.7713550745476664, 0.7713550745476664, 0.7713550745476664, 0.7713550745476664, 0.7713550745476664, 0.7713550745476664, 0.7713550745476664, 0.7713550745476664, 0.7713550745476664, 0.7713550745476664, 0.7713550745476664, 0.7713550745476664, 0.7713550745476664, 0.7713550745476664, 0.7713550745476664, 0.7713550745476664, 0.7713550745476664, 0.7713550745476664, 0.7713550745476664, 0.7713550745476664, 0.7713550745476664, 0.7713550745476664, 0.7713550745476664, 0.7713550745476664, 0.7713550745476664, 0.7713550745476663, 0.7713550745476665, 0.7713550745476663, 0.7713550745476665, 0.7713550745476663]\n",
      "Generation 44\n",
      "Best fitness: 0.0\n",
      "[0.7713550745476664, 0.7713550745476664, 0.7713550745476664, 0.7713550745476664, 0.7713550745476664, 0.7713550745476664, 0.7713550745476664, 0.7713550745476664, 0.7713550745476664, 0.7713550745476664, 0.7713550745476664, 0.7713550745476664, 0.7713550745476664, 0.7713550745476664, 0.7713550745476664, 0.7713550745476664, 0.7713550745476664, 0.7713550745476664, 0.7713550745476664, 0.7713550745476664, 0.7713550745476664, 0.7713550745476664, 0.7713550745476664, 0.7713550745476664, 0.7713550745476664, 0.7713550745476664, 0.7713550745476664, 0.7713550745476664, 0.7713550745476664, 0.7713550745476664, 0.7713550745476664, 0.7713550745476664, 0.7713550745476664, 0.7713550745476664, 0.7713550745476664, 0.7713550745476664, 0.7713550745476664, 0.7713550745476664, 0.7713550745476664, 0.7713550745476664, 0.7713550745476664, 0.7713550745476664, 0.7713550745476664, 0.7713550745476664, 0.7713550745476664, 0.7713550745476664, 0.7713550745476664, 0.7713550745476664, 0.7713550745476664, 0.7713550745476664]\n",
      "Generation 45\n",
      "Best fitness: 0.0\n",
      "[0.7713550745476664, 0.7713550745476664, 0.7713550745476664, 0.7713550745476664, 0.7713550745476664, 0.7713550745476664, 0.7713550745476664, 0.7713550745476664, 0.7713550745476664, 0.7713550745476664, 0.7713550745476664, 0.7713550745476664, 0.7713550745476664, 0.7713550745476664, 0.7713550745476664, 0.7713550745476664, 0.7713550745476664, 0.7713550745476664, 0.7713550745476664, 0.7713550745476664, 0.7713550745476664, 0.7713550745476664, 0.7713550745476664, 0.7713550745476664, 0.7713550745476664, 0.7713550745476664, 0.7713550745476664, 0.7713550745476664, 0.7713550745476664, 0.7713550745476664, 0.7713550745476664, 0.7713550745476664, 0.7713550745476664, 0.7713550745476664, 0.7713550745476664, 0.7713550745476664, 0.7713550745476664, 0.7713550745476664, 0.7713550745476664, 0.7713550745476664, 0.7713550745476664, 0.7713550745476664, 0.7713550745476664, 0.7713550745476664, 0.7713550745476664, 0.7713550745476664, 0.7713550745476664, 0.7713550745476664, 0.7713550745476664, 0.7713550745476664]\n",
      "Generation 46\n",
      "Best fitness: 0.0\n",
      "[0.7713550745476664, 0.7713550745476664, 0.7713550745476664, 0.7713550745476664, 0.7713550745476664, 0.7713550745476664, 0.7713550745476664, 0.7713550745476664, 0.7713550745476664, 0.7713550745476664, 0.7713550745476664, 0.7713550745476664, 0.7713550745476664, 0.7713550745476664, 0.7713550745476664, 0.7713550745476664, 0.7713550745476664, 0.7713550745476664, 0.7713550745476664, 0.7713550745476664, 0.7713550745476664, 0.7713550745476664, 0.7713550745476664, 0.7713550745476664, 0.7713550745476664, 0.7713550745476664, 0.7713550745476664, 0.7713550745476664, 0.7713550745476664, 0.7713550745476664, 0.7713550745476664, 0.7713550745476664, 0.7713550745476664, 0.7713550745476664, 0.7713550745476664, 0.7713550745476664, 0.7713550745476664, 0.7713550745476664, 0.7713550745476664, 0.7713550745476664, 0.7713550745476664, 0.7713550745476664, 0.7713550745476664, 0.7713550745476664, 0.7713550745476664, 0.7713550745476664, 0.7713550745476664, 0.7713550745476664, 0.7713550745476664, 0.7713550745476664]\n",
      "Generation 47\n",
      "Best fitness: 0.0\n",
      "[0.7713550745476664, 0.7713550745476664, 0.7713550745476664, 0.7713550745476664, 0.7713550745476664, 0.7713550745476664, 0.7713550745476664, 0.7713550745476664, 0.7713550745476664, 0.7713550745476664, 0.7713550745476664, 0.7713550745476664, 0.7713550745476664, 0.7713550745476664, 0.7713550745476664, 0.7713550745476664, 0.7713550745476664, 0.7713550745476664, 0.7713550745476664, 0.7713550745476664, 0.7713550745476664, 0.7713550745476664, 0.7713550745476664, 0.7713550745476664, 0.7713550745476664, 0.7713550745476664, 0.7713550745476664, 0.7713550745476664, 0.7713550745476664, 0.7713550745476664, 0.7713550745476664, 0.7713550745476664, 0.7713550745476664, 0.7713550745476664, 0.7713550745476664, 0.7713550745476664, 0.7713550745476664, 0.7713550745476664, 0.7713550745476664, 0.7713550745476664, 0.7713550745476664, 0.7713550745476664, 0.7713550745476664, 0.7713550745476664, 0.7713550745476664, 0.7713550745476664, 0.7713550745476664, 0.7713550745476664, 0.7713550745476664, 0.7713550745476664]\n",
      "Generation 48\n",
      "Best fitness: 0.0\n",
      "[0.7713550745476664, 0.7713550745476664, 0.7713550745476664, 0.7713550745476664, 0.7713550745476664, 0.7713550745476664, 0.7713550745476664, 0.7713550745476664, 0.7713550745476664, 0.7713550745476664, 0.7713550745476664, 0.7713550745476664, 0.7713550745476664, 0.7713550745476664, 0.7713550745476664, 0.7713550745476664, 0.7713550745476664, 0.7713550745476664, 0.7713550745476664, 0.7713550745476664, 0.7713550745476664, 0.7713550745476664, 0.7713550745476664, 0.7713550745476664, 0.7713550745476664, 0.7713550745476664, 0.7713550745476664, 0.7713550745476664, 0.7713550745476664, 0.7713550745476664, 0.7713550745476664, 0.7713550745476664, 0.7713550745476664, 0.7713550745476664, 0.7713550745476664, 0.7713550745476664, 0.7713550745476664, 0.7713550745476664, 0.7713550745476664, 0.7713550745476664, 0.7713550745476664, 0.7713550745476664, 0.7713550745476664, 0.7713550745476664, 0.7713550745476664, 0.7713550745476664, 0.7713550745476664, 0.7713550745476664, 0.7713550745476664, 0.7713550745476664]\n",
      "Generation 49\n",
      "Best fitness: 0.0\n",
      "[0.7713550745476664, 0.7713550745476664, 0.7713550745476664, 0.7713550745476664, 0.7713550745476664, 0.7713550745476664, 0.7713550745476664, 0.7713550745476664, 0.7713550745476664, 0.7713550745476664, 0.7713550745476664, 0.7713550745476664, 0.7713550745476664, 0.7713550745476664, 0.7713550745476664, 0.7713550745476664, 0.7713550745476664, 0.7713550745476664, 0.7713550745476664, 0.7713550745476664, 0.7713550745476664, 0.7713550745476664, 0.7713550745476664, 0.7713550745476664, 0.7713550745476664, 0.7713550745476664, 0.7713550745476664, 0.7713550745476664, 0.7713550745476664, 0.7713550745476664, 0.7713550745476664, 0.7713550745476664, 0.7713550745476664, 0.7713550745476664, 0.7713550745476664, 0.7713550745476664, 0.7713550745476664, 0.7713550745476664, 0.7713550745476664, 0.7713550745476664, 0.7713550745476664, 0.7713550745476664, 0.7713550745476664, 0.7713550745476664, 0.7713550745476664, 0.7713550745476664, 0.7713550745476664, 0.7713550745476664, 0.7713550745476664, 0.7713550745476664]\n",
      "Generation 50\n",
      "Best fitness: 0.0\n",
      "[0.7713550745476664, 0.7713550745476664, 0.7713550745476664, 0.7713550745476664, 0.7713550745476664, 0.7713550745476664, 0.7713550745476664, 0.7713550745476664, 0.7713550745476664, 0.7713550745476664, 0.7713550745476664, 0.7713550745476664, 0.7713550745476664, 0.7713550745476664, 0.7713550745476664, 0.7713550745476664, 0.7713550745476664, 0.7713550745476664, 0.7713550745476664, 0.7713550745476664, 0.7713550745476664, 0.7713550745476664, 0.7713550745476664, 0.7713550745476664, 0.7713550745476664, 0.7713550745476664, 0.7713550745476664, 0.7713550745476664, 0.7713550745476664, 0.7713550745476664, 0.7713550745476664, 0.7713550745476664, 0.7713550745476664, 0.7713550745476664, 0.7713550745476664, 0.7713550745476664, 0.7713550745476664, 0.7713550745476664, 0.7713550745476664, 0.7713550745476664, 0.7713550745476664, 0.7713550745476664, 0.7713550745476664, 0.7713550745476664, 0.7713550745476664, 0.7713550745476664, 0.7713550745476664, 0.7713550745476664, 0.7713550745476664, 0.7713550745476664]\n",
      "Generation 51\n",
      "Best fitness: 0.0\n",
      "[0.7713550745476664, 0.7713550745476664, 0.7713550745476664, 0.7713550745476664, 0.7713550745476664, 0.7713550745476664, 0.7713550745476664, 0.7713550745476664, 0.7713550745476664, 0.7713550745476664, 0.7713550745476664, 0.7713550745476664, 0.7713550745476664, 0.7713550745476664, 0.7713550745476664, 0.7713550745476664, 0.7713550745476664, 0.7713550745476664, 0.7713550745476664, 0.7713550745476664, 0.7713550745476664, 0.7713550745476664, 0.7713550745476664, 0.7713550745476664, 0.7713550745476664, 0.7713550745476664, 0.7713550745476664, 0.7713550745476664, 0.7713550745476664, 0.7713550745476664, 0.7713550745476664, 0.7713550745476664, 0.7713550745476664, 0.7713550745476664, 0.7713550745476664, 0.7713550745476664, 0.7713550745476664, 0.7713550745476664, 0.7713550745476664, 0.7713550745476664, 0.7713550745476664, 0.7713550745476664, 0.7713550745476664, 0.7713550745476664, 0.7713550745476664, 0.7713550745476664, 0.7713550745476664, 0.7713550745476664, 0.7713550745476664, 0.7713550745476664]\n",
      "Generation 52\n",
      "Best fitness: 0.0\n",
      "[0.7713550745476664, 0.7713550745476664, 0.7713550745476664, 0.7713550745476664, 0.7713550745476664, 0.7713550745476664, 0.7713550745476664, 0.7713550745476664, 0.7713550745476664, 0.7713550745476664, 0.7713550745476664, 0.7713550745476664, 0.7713550745476664, 0.7713550745476664, 0.7713550745476664, 0.7713550745476664, 0.7713550745476664, 0.7713550745476664, 0.7713550745476664, 0.7713550745476664, 0.7713550745476664, 0.7713550745476664, 0.7713550745476664, 0.7713550745476664, 0.7713550745476664, 0.7713550745476664, 0.7713550745476664, 0.7713550745476664, 0.7713550745476664, 0.7713550745476664, 0.7713550745476664, 0.7713550745476664, 0.7713550745476664, 0.7713550745476664, 0.7713550745476664, 0.7713550745476664, 0.7713550745476664, 0.7713550745476664, 0.7713550745476664, 0.7713550745476664, 0.7713550745476664, 0.7713550745476664, 0.7713550745476664, 0.7713550745476664, 0.7713550745476664, 0.7713550745476664, 0.7713550745476664, 0.7713550745476664, 0.7713550745476664, 0.7713550745476664]\n",
      "Generation 53\n",
      "Best fitness: 0.0\n",
      "[0.7713550745476664, 0.7713550745476664, 0.7713550745476664, 0.7713550745476664, 0.7713550745476664, 0.7713550745476664, 0.7713550745476664, 0.7713550745476664, 0.7713550745476664, 0.7713550745476664, 0.7713550745476664, 0.7713550745476664, 0.7713550745476664, 0.7713550745476664, 0.7713550745476664, 0.7713550745476664, 0.7713550745476664, 0.7713550745476664, 0.7713550745476664, 0.7713550745476664, 0.7713550745476664, 0.7713550745476664, 0.7713550745476664, 0.7713550745476664, 0.7713550745476664, 0.7713550745476664, 0.7713550745476664, 0.7713550745476664, 0.7713550745476664, 0.7713550745476664, 0.7713550745476664, 0.7713550745476664, 0.7713550745476664, 0.7713550745476664, 0.7713550745476664, 0.7713550745476664, 0.7713550745476664, 0.7713550745476664, 0.7713550745476664, 0.7713550745476664, 0.7713550745476664, 0.7713550745476664, 0.7713550745476664, 0.7713550745476664, 0.7713550745476664, 0.7713550745476664, 0.7713550745476664, 0.7713550745476664, 0.7713550745476664, 0.7713550745476664]\n",
      "Generation 54\n",
      "Best fitness: 0.0\n",
      "Stopping: No improvement in 40 generations.\n",
      "The winning value: 0.7713550745476664\n",
      "Best output closest to winning value with dynamic stopping: BestOutput(value=0.7713550745476664, generation=54, index=0, winning_value=0.7713550745476664)\n"
     ]
    }
   ],
   "source": [
    "import numpy as np\n",
    "from dataclasses import dataclass\n",
    "from random import randint\n",
    "\n",
    "\n",
    "@dataclass\n",
    "class BestOutput:\n",
    "    value: float \n",
    "    generation: int \n",
    "    index: int \n",
    "    winning_value: float \n",
    "    \n",
    "\n",
    "# Fetch experimental data\n",
    "def get_experimental_data(param_name: str = None) -> float:\n",
    "    # TODO: enable this\n",
    "    return np.random.rand()\n",
    "\n",
    "# Initialize parameters\n",
    "winning_value = get_experimental_data()  # TODO: Fetch this data from experimental online\n",
    "population_size = 100  # Number of simulators being compared\n",
    "mutation_rate = 0.1  # Initial mutation rate\n",
    "range_low = 0  \n",
    "range_high = 20  # TODO: make low and high derived automatically from population size and winning value\n",
    "\n",
    "\n",
    "# Fitness function\n",
    "def calculate_fitness(population):\n",
    "    return [abs(individual - winning_value) for individual in population]\n",
    "\n",
    "# Selection function\n",
    "def select_individuals(fitness, num_parents):\n",
    "    fitness = np.array(fitness)\n",
    "    sorted_indices = np.argsort(fitness)\n",
    "    return sorted_indices[:num_parents]\n",
    "\n",
    "# Crossover function\n",
    "def crossover(parents, num_offspring):\n",
    "    offspring = []\n",
    "    for _ in range(num_offspring):\n",
    "        parent1, parent2 = np.random.choice(parents, 2, replace=False)\n",
    "        child = (parent1 + parent2) / 2\n",
    "        offspring.append(child)\n",
    "    return offspring\n",
    "\n",
    "# Mutation function\n",
    "def mutate(offspring, mutation_rate):\n",
    "    for i in range(len(offspring)):\n",
    "        if np.random.rand() < mutation_rate:\n",
    "            offspring[i] += np.random.normal(0, 0.1)\n",
    "    return offspring\n",
    "\n",
    "# Feedback function to adjust algorithm parameters based on real-world testing\n",
    "def feedback_adjustment(best_output, current_range):\n",
    "    error = abs(best_output - winning_value)\n",
    "    new_mutation_rate = max(0.01, mutation_rate - 0.02 * (1 - error / (range_high - range_low)))\n",
    "    new_range_low, new_range_high = current_range\n",
    "    if error < 1:\n",
    "        new_range_low, new_range_high = best_output - 5, best_output + 5\n",
    "    return new_mutation_rate, new_range_low, new_range_high\n",
    "\n",
    "# Main genetic algorithm function with dynamic stopping\n",
    "def genetic_algorithm(improvement_threshold=0.000001, max_stagnation=40):\n",
    "    global range_low, range_high, mutation_rate\n",
    "    population = np.random.uniform(low=range_low, high=range_high, size=population_size)\n",
    "    best_output = None\n",
    "    best_index = None\n",
    "    last_best_fitness = float('inf')\n",
    "    stagnation_counter = 0\n",
    "\n",
    "    generation = 0\n",
    "    while True:\n",
    "        fitness = calculate_fitness(population)\n",
    "        current_best_fitness = min(fitness)\n",
    "        print(f\"Generation {generation}\")\n",
    "        print(\"Best fitness:\", current_best_fitness)\n",
    "\n",
    "        if current_best_fitness < last_best_fitness:\n",
    "            if last_best_fitness - current_best_fitness < improvement_threshold:\n",
    "                stagnation_counter += 1\n",
    "            else:\n",
    "                stagnation_counter = 0\n",
    "            last_best_fitness = current_best_fitness\n",
    "        else:\n",
    "            stagnation_counter += 1\n",
    "\n",
    "        if stagnation_counter >= max_stagnation:\n",
    "            print(f\"Stopping: No improvement in {max_stagnation} generations.\")\n",
    "            break\n",
    "\n",
    "        selected_indices = select_individuals(fitness, population_size // 2)\n",
    "        selected = [population[i] for i in selected_indices]\n",
    "\n",
    "        offspring = crossover(selected, population_size - len(selected))\n",
    "        offspring = mutate(offspring, mutation_rate)\n",
    "\n",
    "        population = np.array(selected + offspring)\n",
    "\n",
    "        best_index = np.argmin(calculate_fitness(population))\n",
    "        best_output = population[best_index]\n",
    "        mutation_rate, range_low, range_high = feedback_adjustment(best_output, (range_low, range_high))\n",
    "\n",
    "        generation += 1\n",
    "\n",
    "    return BestOutput(value=best_output, generation=generation, index=best_index, winning_value=winning_value)\n",
    "\n",
    "\n",
    "# Running the enhanced genetic algorithm\n",
    "best_output = genetic_algorithm()\n",
    "print(f\"The winning value: {winning_value}\")\n",
    "print(\"Best output closest to winning value with dynamic stopping:\", best_output)"
   ],
   "metadata": {
    "collapsed": false,
    "ExecuteTime": {
     "end_time": "2024-05-01T16:57:12.290493Z",
     "start_time": "2024-05-01T16:57:12.262782Z"
    }
   },
   "id": "e6938f543d913ac"
  },
  {
   "cell_type": "code",
   "execution_count": null,
   "outputs": [],
   "source": [],
   "metadata": {
    "collapsed": false
   },
   "id": "4ed96b6a7d0dba6e"
  }
 ],
 "metadata": {
  "kernelspec": {
   "display_name": "Python 3",
   "language": "python",
   "name": "python3"
  },
  "language_info": {
   "codemirror_mode": {
    "name": "ipython",
    "version": 2
   },
   "file_extension": ".py",
   "mimetype": "text/x-python",
   "name": "python",
   "nbconvert_exporter": "python",
   "pygments_lexer": "ipython2",
   "version": "2.7.6"
  }
 },
 "nbformat": 4,
 "nbformat_minor": 5
}
