{
 "cells": [
  {
   "cell_type": "code",
   "execution_count": 1,
   "source": [
    "import sys\n",
    "\n",
    "sys.path.insert(0, '..')\n",
    "\n",
    "import os\n",
    "import requests\n",
    "import json"
   ],
   "metadata": {
    "collapsed": false,
    "ExecuteTime": {
     "end_time": "2024-05-01T08:45:09.699631Z",
     "start_time": "2024-05-01T08:45:09.646937Z"
    }
   },
   "id": "24fc5d62890368dd",
   "outputs": []
  },
  {
   "cell_type": "code",
   "execution_count": 2,
   "source": [
    "from biosimulator_processes.compare import ComparisonDocument\n",
    "from biosimulator_processes import CORE\n",
    "from process_bigraph import pp, Composite"
   ],
   "metadata": {
    "collapsed": false,
    "ExecuteTime": {
     "end_time": "2024-05-01T08:45:13.511424Z",
     "start_time": "2024-05-01T08:45:10.281028Z"
    }
   },
   "id": "1dc1ba69e5acc44",
   "outputs": []
  },
  {
   "cell_type": "markdown",
   "source": [
    "### Example Composite process using copasi and tellurium"
   ],
   "metadata": {
    "collapsed": false
   },
   "id": "8491845ac8f593cd"
  },
  {
   "cell_type": "code",
   "execution_count": 3,
   "source": [
    "simulators = ['copasi', 'tellurium']  # , 'amici']\n",
    "duration = 30\n",
    "n_steps = 200\n",
    "model_filepath = '../biosimulator_processes/model_files/sbml/Caravagna2010.xml'\n",
    "\n",
    "\n",
    "comparison = ComparisonDocument(simulators, duration, n_steps, model_filepath)"
   ],
   "metadata": {
    "collapsed": false,
    "ExecuteTime": {
     "end_time": "2024-05-01T06:59:32.979028Z",
     "start_time": "2024-05-01T06:59:32.976561Z"
    }
   },
   "id": "d9fce82a600bb9af",
   "outputs": []
  },
  {
   "cell_type": "code",
   "execution_count": 4,
   "source": [
    "pp(comparison.composite)"
   ],
   "metadata": {
    "collapsed": false,
    "ExecuteTime": {
     "end_time": "2024-05-01T06:59:32.985217Z",
     "start_time": "2024-05-01T06:59:32.981251Z"
    }
   },
   "id": "57a94e90c5c2ba41",
   "outputs": []
  },
  {
   "cell_type": "markdown",
   "source": [
    "### ODE Simulator Comparison"
   ],
   "metadata": {
    "collapsed": false
   },
   "id": "659245544fd8d1b3"
  },
  {
   "cell_type": "code",
   "execution_count": 5,
   "source": [
    "from biosimulator_processes.compare import ComparisonDocument\n",
    "\n",
    "sbml_model_path = '../biosimulator_processes/model_files/sbml/BIOMD0000000630_url.xml'\n",
    "simulators = ['copasi', 'copasi']  # , 'tellurium']\n",
    "duration = 30 \n",
    "n_steps = 50 \n",
    "target_parameter = {\n",
    "    'name': 'plasmin',\n",
    "    'value': 2.01\n",
    "}\n",
    "\n",
    "\n",
    "def create_comparison_document(\n",
    "        sbml_model_path: str, \n",
    "        simulators: list[str], \n",
    "        duration: int, \n",
    "        n_steps: int, \n",
    "        target_param: dict = None\n",
    "        ) -> ComparisonDocument:\n",
    "    return ComparisonDocument(\n",
    "    simulators=simulators, \n",
    "    duration=duration, \n",
    "    num_steps=n_steps,\n",
    "    model_filepath=sbml_model_path,\n",
    "    target_parameter=target_param)\n",
    "\n",
    "\n",
    "def generate_workflow(document: ComparisonDocument):\n",
    "    return Composite(\n",
    "        config={'state': document.composite},\n",
    "        core=CORE)\n",
    "\n",
    "\n",
    "ode_comparison_document = create_comparison_document(sbml_model_path, simulators, duration, n_steps, target_parameter)"
   ],
   "metadata": {
    "collapsed": false,
    "ExecuteTime": {
     "end_time": "2024-05-01T06:59:32.991192Z",
     "start_time": "2024-05-01T06:59:32.986334Z"
    }
   },
   "id": "3cc9032bbca74784",
   "outputs": []
  },
  {
   "cell_type": "code",
   "execution_count": 6,
   "source": [
    "pp(ode_comparison_document.composite)"
   ],
   "metadata": {
    "collapsed": false,
    "ExecuteTime": {
     "end_time": "2024-05-01T06:59:33.502935Z",
     "start_time": "2024-05-01T06:59:33.496658Z"
    }
   },
   "id": "5f99df92f1acbf52",
   "outputs": []
  },
  {
   "cell_type": "code",
   "execution_count": 7,
   "source": [
    "ode_comparison_workflow = Composite(config={'state': ode_comparison_document.composite}, core=CORE)"
   ],
   "metadata": {
    "collapsed": false,
    "ExecuteTime": {
     "end_time": "2024-05-01T06:59:34.342968Z",
     "start_time": "2024-05-01T06:59:34.257050Z"
    }
   },
   "id": "9c44bd491ad5ddb0",
   "outputs": []
  },
  {
   "cell_type": "code",
   "execution_count": 8,
   "source": [
    "ode_comparison_workflow.run(duration)\n",
    "ode_comparison_results = ode_comparison_workflow.gather_results()"
   ],
   "metadata": {
    "collapsed": false,
    "ExecuteTime": {
     "end_time": "2024-05-01T06:59:34.956538Z",
     "start_time": "2024-05-01T06:59:34.946595Z"
    }
   },
   "id": "a52b1903520045a0",
   "outputs": []
  },
  {
   "cell_type": "code",
   "execution_count": 9,
   "source": [
    "ode_comparison_results"
   ],
   "metadata": {
    "collapsed": false,
    "ExecuteTime": {
     "end_time": "2024-05-01T06:59:35.546107Z",
     "start_time": "2024-05-01T06:59:35.539397Z"
    }
   },
   "id": "806d60012d71a2eb",
   "outputs": []
  },
  {
   "cell_type": "code",
   "execution_count": 9,
   "source": [],
   "metadata": {
    "collapsed": false,
    "ExecuteTime": {
     "end_time": "2024-05-01T06:56:28.165350Z",
     "start_time": "2024-05-01T06:56:28.160529Z"
    }
   },
   "id": "da55f1556e28363f",
   "outputs": []
  },
  {
   "cell_type": "code",
   "execution_count": 9,
   "source": [],
   "metadata": {
    "collapsed": false,
    "ExecuteTime": {
     "end_time": "2024-05-01T06:56:28.166914Z",
     "start_time": "2024-05-01T06:56:28.163347Z"
    }
   },
   "id": "3330d11b7b80252b",
   "outputs": []
  },
  {
   "cell_type": "code",
   "execution_count": 10,
   "source": [
    "import tellurium as te\n",
    "\n",
    "simulator = te.loadSBMLModel('../biosimulator_processes/model_files/sbml/BIOMD0000000630_url.xml')\n"
   ],
   "metadata": {
    "collapsed": false,
    "ExecuteTime": {
     "end_time": "2024-05-01T06:56:28.959849Z",
     "start_time": "2024-05-01T06:56:28.167336Z"
    }
   },
   "id": "5f07a08ac835b2b5",
   "outputs": []
  },
  {
   "cell_type": "code",
   "execution_count": 11,
   "source": [
    "dir(simulator)"
   ],
   "metadata": {
    "collapsed": false,
    "ExecuteTime": {
     "end_time": "2024-05-01T06:56:28.967633Z",
     "start_time": "2024-05-01T06:56:28.963005Z"
    }
   },
   "id": "f4fd7072004772cb",
   "outputs": []
  },
  {
   "cell_type": "code",
   "execution_count": 12,
   "source": [
    "simulator.getReactionRates()"
   ],
   "metadata": {
    "collapsed": false,
    "ExecuteTime": {
     "end_time": "2024-05-01T06:56:28.973429Z",
     "start_time": "2024-05-01T06:56:28.967766Z"
    }
   },
   "id": "e92d5b185840048f",
   "outputs": []
  },
  {
   "cell_type": "code",
   "execution_count": 13,
   "source": [
    "simulator.getReactionIds()"
   ],
   "metadata": {
    "collapsed": false,
    "ExecuteTime": {
     "end_time": "2024-05-01T06:56:28.976229Z",
     "start_time": "2024-05-01T06:56:28.971951Z"
    }
   },
   "id": "278ae59c7dedfc33",
   "outputs": []
  },
  {
   "cell_type": "markdown",
   "source": [],
   "metadata": {
    "collapsed": false
   },
   "id": "264bd8c515dda5aa"
  },
  {
   "cell_type": "code",
   "execution_count": 14,
   "source": [
    "simulator.integrator = 'stochastic'"
   ],
   "metadata": {
    "collapsed": false,
    "ExecuteTime": {
     "end_time": "2024-05-01T06:56:29.393537Z",
     "start_time": "2024-05-01T06:56:28.975565Z"
    }
   },
   "id": "3692858d8548cbee",
   "outputs": []
  },
  {
   "cell_type": "code",
   "execution_count": null,
   "source": [
    "simulator.integrator"
   ],
   "metadata": {
    "collapsed": false,
    "ExecuteTime": {
     "end_time": "2024-05-01T06:56:29.398884Z",
     "start_time": "2024-05-01T06:56:29.394793Z"
    }
   },
   "id": "f688e9553786d36e",
   "outputs": []
  },
  {
   "cell_type": "code",
   "execution_count": null,
   "source": [
    "simulator.getIds()"
   ],
   "metadata": {
    "collapsed": false,
    "ExecuteTime": {
     "start_time": "2024-05-01T06:56:29.397421Z"
    }
   },
   "id": "850c62b4ab027800",
   "outputs": []
  },
  {
   "cell_type": "code",
   "execution_count": 11,
   "source": [],
   "metadata": {
    "collapsed": false,
    "ExecuteTime": {
     "end_time": "2024-05-01T08:34:23.555250Z",
     "start_time": "2024-05-01T08:34:23.547556Z"
    }
   },
   "id": "66b8d04c5b4d6d38",
   "outputs": []
  },
  {
   "cell_type": "code",
   "execution_count": 6,
   "source": [
    "import numpy as np \n",
    "type(np.random.rand(3, 4))"
   ],
   "metadata": {
    "collapsed": false,
    "ExecuteTime": {
     "end_time": "2024-05-01T16:16:16.860293Z",
     "start_time": "2024-05-01T16:16:16.843628Z"
    }
   },
   "id": "665d11516a211ac8",
   "outputs": []
  },
  {
   "cell_type": "code",
   "execution_count": 2,
   "source": [
    "import numpy as np\n",
    "from dataclasses import dataclass\n",
    "from random import randint\n",
    "\n",
    "\n",
    "@dataclass\n",
    "class BestOutput:\n",
    "    value: float \n",
    "    generation: int \n",
    "    index: int \n",
    "    winning_value: float \n",
    "    \n",
    "\n",
    "# Fetch experimental data\n",
    "def get_experimental_data(param_name: str = None) -> float:\n",
    "    # TODO: enable this\n",
    "    return np.random.rand()\n",
    "\n",
    "# Initialize parameters\n",
    "winning_value = get_experimental_data()  # TODO: Fetch this data from experimental online\n",
    "population_size = 100  # Number of simulators being compared\n",
    "mutation_rate = 0.1  # Initial mutation rate\n",
    "range_low = 0  \n",
    "range_high = 20  # TODO: make low and high derived automatically from population size and winning value\n",
    "\n",
    "\n",
    "# Fitness function\n",
    "def calculate_fitness(population):\n",
    "    return [abs(individual - winning_value) for individual in population]\n",
    "\n",
    "# Selection function\n",
    "def select_individuals(fitness, num_parents):\n",
    "    fitness = np.array(fitness)\n",
    "    sorted_indices = np.argsort(fitness)\n",
    "    return sorted_indices[:num_parents]\n",
    "\n",
    "# Crossover function\n",
    "def crossover(parents, num_offspring):\n",
    "    offspring = []\n",
    "    for _ in range(num_offspring):\n",
    "        parent1, parent2 = np.random.choice(parents, 2, replace=False)\n",
    "        child = (parent1 + parent2) / 2\n",
    "        offspring.append(child)\n",
    "    return offspring\n",
    "\n",
    "# Mutation function\n",
    "def mutate(offspring, mutation_rate):\n",
    "    for i in range(len(offspring)):\n",
    "        if np.random.rand() < mutation_rate:\n",
    "            offspring[i] += np.random.normal(0, 0.1)\n",
    "    return offspring\n",
    "\n",
    "# Feedback function to adjust algorithm parameters based on real-world testing\n",
    "def feedback_adjustment(best_output, current_range):\n",
    "    error = abs(best_output - winning_value)\n",
    "    new_mutation_rate = max(0.01, mutation_rate - 0.02 * (1 - error / (range_high - range_low)))\n",
    "    new_range_low, new_range_high = current_range\n",
    "    if error < 1:\n",
    "        new_range_low, new_range_high = best_output - 5, best_output + 5\n",
    "    return new_mutation_rate, new_range_low, new_range_high\n",
    "\n",
    "# Main genetic algorithm function with dynamic stopping\n",
    "def genetic_algorithm(improvement_threshold=0.000001, max_stagnation=40):\n",
    "    global range_low, range_high, mutation_rate\n",
    "    population = np.random.uniform(low=range_low, high=range_high, size=population_size)\n",
    "    best_output = None\n",
    "    best_index = None\n",
    "    last_best_fitness = float('inf')\n",
    "    stagnation_counter = 0\n",
    "\n",
    "    generation = 0\n",
    "    while True:\n",
    "        fitness = calculate_fitness(population)\n",
    "        current_best_fitness = min(fitness)\n",
    "        print(f\"Generation {generation}\")\n",
    "        print(\"Best fitness:\", current_best_fitness)\n",
    "\n",
    "        if current_best_fitness < last_best_fitness:\n",
    "            if last_best_fitness - current_best_fitness < improvement_threshold:\n",
    "                stagnation_counter += 1\n",
    "            else:\n",
    "                stagnation_counter = 0\n",
    "            last_best_fitness = current_best_fitness\n",
    "        else:\n",
    "            stagnation_counter += 1\n",
    "\n",
    "        if stagnation_counter >= max_stagnation:\n",
    "            print(f\"Stopping: No improvement in {max_stagnation} generations.\")\n",
    "            break\n",
    "\n",
    "        selected_indices = select_individuals(fitness, population_size // 2)\n",
    "        selected = [population[i] for i in selected_indices]\n",
    "\n",
    "        offspring = crossover(selected, population_size - len(selected))\n",
    "        offspring = mutate(offspring, mutation_rate)\n",
    "\n",
    "        population = np.array(selected + offspring)\n",
    "\n",
    "        best_index = np.argmin(calculate_fitness(population))\n",
    "        best_output = population[best_index]\n",
    "        mutation_rate, range_low, range_high = feedback_adjustment(best_output, (range_low, range_high))\n",
    "\n",
    "        generation += 1\n",
    "\n",
    "    return BestOutput(value=best_output, generation=generation, index=best_index, winning_value=winning_value)\n",
    "\n",
    "\n",
    "# Running the enhanced genetic algorithm\n",
    "best_output = genetic_algorithm()\n",
    "print(f\"The winning value: {winning_value}\")\n",
    "print(\"Best output closest to winning value with dynamic stopping:\", best_output)"
   ],
   "metadata": {
    "collapsed": false,
    "ExecuteTime": {
     "end_time": "2024-05-01T17:26:10.121893Z",
     "start_time": "2024-05-01T17:26:10.084506Z"
    }
   },
   "id": "e6938f543d913ac",
   "outputs": []
  },
  {
   "cell_type": "code",
   "execution_count": null,
   "source": [],
   "metadata": {
    "collapsed": false
   },
   "id": "21fcf6952f0ba30",
   "outputs": []
  }
 ],
 "metadata": {
  "kernelspec": {
   "display_name": "Python 3",
   "language": "python",
   "name": "python3"
  },
  "language_info": {
   "codemirror_mode": {
    "name": "ipython",
    "version": 2
   },
   "file_extension": ".py",
   "mimetype": "text/x-python",
   "name": "python",
   "nbconvert_exporter": "python",
   "pygments_lexer": "ipython2",
   "version": "2.7.6"
  }
 },
 "nbformat": 4,
 "nbformat_minor": 5
}
