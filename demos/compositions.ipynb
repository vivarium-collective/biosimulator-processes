{
 "cells": [
  {
   "cell_type": "code",
   "id": "initial_id",
   "metadata": {
    "ExecuteTime": {
     "end_time": "2024-06-11T16:33:24.207916Z",
     "start_time": "2024-06-11T16:33:22.494952Z"
    }
   },
   "source": [
    "import sys\n",
    "import os\n",
    "from tempfile import mkdtemp\n",
    "sys.path.insert(0, '..')\n",
    "\n",
    "import numpy as np\n",
    "from process_bigraph import Composite, pp\n",
    "from process_bigraph.experiments.parameter_scan import RunProcess\n",
    "\n",
    "from biosimulator_processes import CORE \n"
   ],
   "outputs": [
    {
     "name": "stdout",
     "output_type": "stream",
     "text": [
      "Smoldyn is not properly installed in this environment and thus its process implementation cannot be registered. Please consult smoldyn documentation.\n",
      "Available processes:\n",
      "[ 'console-emitter',\n",
      "  'ram-emitter',\n",
      "  'composite',\n",
      "  'cobra-process',\n",
      "  'copasi-process',\n",
      "  'tellurium-process',\n",
      "  'utc-amici',\n",
      "  'utc-copasi',\n",
      "  'utc-tellurium',\n",
      "  'copasi-step',\n",
      "  'tellurium-step',\n",
      "  'amici-step',\n",
      "  'plotter',\n",
      "  'plotter2d',\n",
      "  'utc-comparator']\n"
     ]
    }
   ],
   "execution_count": 1
  },
  {
   "cell_type": "markdown",
   "id": "9165e664873363fe",
   "metadata": {},
   "source": [
    "1. Define inputs"
   ]
  },
  {
   "cell_type": "code",
   "id": "e32e81f109f2fe22",
   "metadata": {
    "ExecuteTime": {
     "end_time": "2024-06-11T16:33:24.210747Z",
     "start_time": "2024-06-11T16:33:24.208803Z"
    }
   },
   "source": [
    "omex_dir = '../test_suite/examples/sbml-core/Elowitz-Nature-2000-Repressilator'\n",
    "omex_fp = omex_dir + '.omex'\n",
    "sbml_fp = os.path.join(omex_dir, 'BIOMD0000000012_url.xml')\n",
    "sedml_fp = os.path.join(omex_dir, 'simulation.sedml')\n",
    "reports_path = os.path.join(omex_dir, 'reports.h5')\n",
    "simulators = ['amici', 'copasi', 'tellurium']"
   ],
   "outputs": [],
   "execution_count": 2
  },
  {
   "cell_type": "markdown",
   "id": "4ef608a09737ab2f",
   "metadata": {},
   "source": [
    "2. Define composition document (manuscript?)"
   ]
  },
  {
   "cell_type": "code",
   "id": "5e17dc6634a6a7e5",
   "metadata": {
    "ExecuteTime": {
     "end_time": "2024-06-11T16:32:32.748774Z",
     "start_time": "2024-06-11T16:32:32.745646Z"
    }
   },
   "source": [
    "manuscript = {\n",
    "    'amici': {\n",
    "        '_type': 'step',\n",
    "        'address': 'local:utc-amici',\n",
    "        'config': {\n",
    "            'model': {\n",
    "                'model_source': omex_fp\n",
    "            }\n",
    "        },\n",
    "        'inputs': {\n",
    "            'time': ['time_store'],\n",
    "            'floating_species': ['amici_floating_species_store'],\n",
    "            'model_parameters': ['amici_model_parameters_store'],\n",
    "            'reactions': ['amici_reactions_store']\n",
    "        },\n",
    "        'outputs': {\n",
    "            'time': ['time_store'],\n",
    "            'floating_species': ['amici_floating_species_store']\n",
    "        }\n",
    "    },\n",
    "    'copasi': {\n",
    "        '_type': 'step',\n",
    "        'address': 'local:utc-copasi',\n",
    "        'config': {\n",
    "            'model': {\n",
    "                'model_source': omex_fp\n",
    "            }\n",
    "        },\n",
    "        'inputs': {\n",
    "            'time': ['time_store'],\n",
    "            'floating_species': ['copasi_floating_species_store'],\n",
    "            'model_parameters': ['copasi_model_parameters_store'],\n",
    "            'reactions': ['copasi_reactions_store']\n",
    "        },\n",
    "        'outputs': {\n",
    "            'time': ['time_store'],\n",
    "            'floating_species': ['copasi_floating_species_store']\n",
    "        }\n",
    "    },\n",
    "    'tellurium': {\n",
    "        '_type': 'step',\n",
    "        'address': 'local:utc-tellurium',\n",
    "        'config': {\n",
    "            'model': {\n",
    "                'model_source': omex_fp\n",
    "            }\n",
    "        },\n",
    "        'inputs': {\n",
    "            'time': ['time_store'],\n",
    "            'floating_species': ['tellurium_floating_species_store'],\n",
    "            'model_parameters': ['tellurium_model_parameters_store'],\n",
    "            'reactions': ['tellurium_reactions_store']\n",
    "        },\n",
    "        'outputs': {\n",
    "            'time': ['time_store'],\n",
    "            'floating_species': ['tellurium_floating_species_store']\n",
    "        }\n",
    "    },\n",
    "    'comparison': {\n",
    "        '_type': 'step',\n",
    "        'address': 'local:utc-comparator',\n",
    "        'config': {\n",
    "            'simulators': ['amici', 'copasi', 'tellurium'],\n",
    "        },\n",
    "        'inputs': {\n",
    "            'time': ['time_store'],\n",
    "            'amici_floating_species': ['amici_floating_species_store'],\n",
    "            'copasi_floating_species': ['copasi_floating_species_store'],\n",
    "            'tellurium_floating_species': ['tellurium_floating_species_store'],\n",
    "        },\n",
    "        'outputs': {\n",
    "            'results': ['results_store'],\n",
    "            'id': ['id_store']\n",
    "        }\n",
    "    },\n",
    "    'emitter': {\n",
    "        '_type': 'step',\n",
    "        'address': 'local:ram-emitter',\n",
    "        'config': {\n",
    "            'emit': {\n",
    "                'results': 'tree[float]',\n",
    "                'id': 'string'\n",
    "            }\n",
    "        },\n",
    "        'inputs': {\n",
    "            'results': ['results_store'],\n",
    "            'id': ['id_store']\n",
    "        },\n",
    "        # 'outputs': {\n",
    "        #     'results': ['results_store'],\n",
    "        #     'id': ['id_store']\n",
    "        # }\n",
    "    }\n",
    "}\n",
    "\n",
    "\n",
    "output_bridge = {\n",
    "    'inputs': {\n",
    "        'results': ['results_store'],\n",
    "        'id': ['id_store']\n",
    "    },\n",
    "    'outputs': {\n",
    "        'results': ['results_store'],\n",
    "        'id': ['id_store']\n",
    "    }\n",
    "}"
   ],
   "outputs": [],
   "execution_count": 3
  },
  {
   "cell_type": "markdown",
   "id": "7cf0d15cc1729495",
   "metadata": {},
   "source": [
    "3. Create composition with doc specifications"
   ]
  },
  {
   "cell_type": "code",
   "id": "1aeec4f4174184b1",
   "metadata": {
    "ExecuteTime": {
     "end_time": "2024-06-11T16:32:42.767499Z",
     "start_time": "2024-06-11T16:32:32.749785Z"
    }
   },
   "source": [
    "composition_config = {'state': manuscript}  #, 'bridge': output_bridge}\n",
    "composition = Composite(\n",
    "    config=composition_config,\n",
    "    core=CORE\n",
    ")"
   ],
   "outputs": [
    {
     "name": "stderr",
     "output_type": "stream",
     "text": [
      "2024-06-11 12:32:32.815 - amici.sbml_import - INFO - Finished importing SBML                         (3.93E-02s)\n",
      "2024-06-11 12:32:32.863 - amici.sbml_import - INFO - Finished processing SBML observables            (4.44E-02s)\n",
      "2024-06-11 12:32:32.867 - amici.sbml_import - INFO - Finished processing SBML event observables      (7.50E-07s)\n",
      "2024-06-11 12:32:32.889 - amici.de_model - INFO - Finished computing xdot                            (3.33E-03s)\n",
      "2024-06-11 12:32:32.895 - amici.de_model - INFO - Finished computing x0                              (2.84E-03s)\n",
      "2024-06-11 12:32:32.914 - amici.de_model - INFO - Finished computing w                               (1.53E-02s)\n",
      "2024-06-11 12:32:33.644 - amici.de_export - INFO - Finished generating cpp code                      (7.25E-01s)\n",
      "2024-06-11 12:32:42.514 - amici.de_export - INFO - Finished compiling cpp code                       (8.87E+00s)\n"
     ]
    }
   ],
   "execution_count": 4
  },
  {
   "cell_type": "code",
   "id": "c6764567679acd30",
   "metadata": {
    "ExecuteTime": {
     "end_time": "2024-06-11T16:32:42.772984Z",
     "start_time": "2024-06-11T16:32:42.768357Z"
    }
   },
   "source": [
    "pp(composition.state)"
   ],
   "outputs": [
    {
     "name": "stdout",
     "output_type": "stream",
     "text": [
      "{ 'amici': { '_inputs': { 'floating_species': 'tree[float]',\n",
      "                          'model_parameters': 'tree[float]',\n",
      "                          'reactions': 'list[string]',\n",
      "                          'time': 'list[float]'},\n",
      "             '_outputs': { 'floating_species': 'tree[float]',\n",
      "                           'time': 'list[float]'},\n",
      "             '_type': 'step',\n",
      "             'address': 'local:utc-amici',\n",
      "             'config': { 'constant_parameters': None,\n",
      "                         'method': 'deterministic',\n",
      "                         'model': { 'model_changes': {},\n",
      "                                    'model_id': '',\n",
      "                                    'model_language': 'sbml',\n",
      "                                    'model_name': 'composite_process_model',\n",
      "                                    'model_source': '/var/folders/yy/8crj8x7x5_3b86f0js6_0bn00000gr/T/tmpwgga5tzu/BIOMD0000000012_url.xml',\n",
      "                                    'model_units': {}},\n",
      "                         'model_output_dir': '/var/folders/yy/8crj8x7x5_3b86f0js6_0bn00000gr/T/tmpna8qna3l',\n",
      "                         'observables': None,\n",
      "                         'sigmas': None,\n",
      "                         'species_context': 'concentrations',\n",
      "                         'time_config': { 'duration': None,\n",
      "                                          'initial_time': None,\n",
      "                                          'num_steps': None,\n",
      "                                          'output_start_time': None,\n",
      "                                          'step_size': None},\n",
      "                         'working_dir': ''},\n",
      "             'inputs': { 'floating_species': ['amici_floating_species_store'],\n",
      "                         'model_parameters': ['amici_model_parameters_store'],\n",
      "                         'reactions': ['amici_reactions_store'],\n",
      "                         'time': ['time_store']},\n",
      "             'instance': <biosimulator_processes.processes.amici_process.UtcAmici object at 0x1056b81d0>,\n",
      "             'outputs': { 'floating_species': ['amici_floating_species_store'],\n",
      "                          'time': ['time_store']}},\n",
      "  'amici_floating_species_store': { 'PX': 0.0,\n",
      "                                    'PY': 0.0,\n",
      "                                    'PZ': 0.0,\n",
      "                                    'X': 0.0,\n",
      "                                    'Y': 20.0,\n",
      "                                    'Z': 0.0},\n",
      "  'amici_model_parameters_store': { 'KM': 40.0,\n",
      "                                    'a0_tr': 0.0,\n",
      "                                    'a_tr': 0.0,\n",
      "                                    'alpha': 216.404,\n",
      "                                    'alpha0': 0.2164,\n",
      "                                    'average mRNA life time': 0.0,\n",
      "                                    'beta': 0.2,\n",
      "                                    'k_tl': 0.0,\n",
      "                                    'kd_mRNA': 0.0,\n",
      "                                    'kd_prot': 0.0,\n",
      "                                    'mRNA half life': 2.0,\n",
      "                                    'n': 2.0,\n",
      "                                    'protein half life': 10.0,\n",
      "                                    'tps_active': 0.5,\n",
      "                                    'tps_repr': 0.0005,\n",
      "                                    'translation efficiency': 20.0},\n",
      "  'amici_reactions_store': [],\n",
      "  'comparison': { '_inputs': { 'amici_floating_species': 'tree[float]',\n",
      "                               'copasi_floating_species': 'tree[float]',\n",
      "                               'tellurium_floating_species': 'tree[float]',\n",
      "                               'time': 'list[float]'},\n",
      "                  '_outputs': {'id': 'string', 'results': 'tree[float]'},\n",
      "                  '_type': 'step',\n",
      "                  'address': 'local:utc-comparator',\n",
      "                  'config': { 'comparison_id': '',\n",
      "                              'comparison_method': '',\n",
      "                              'include_output_data': True,\n",
      "                              'simulators': ['amici', 'copasi', 'tellurium']},\n",
      "                  'inputs': { 'amici_floating_species': [ 'amici_floating_species_store'],\n",
      "                              'copasi_floating_species': [ 'copasi_floating_species_store'],\n",
      "                              'tellurium_floating_species': [ 'tellurium_floating_species_store'],\n",
      "                              'time': ['time_store']},\n",
      "                  'instance': <biosimulator_processes.steps.comparator_step.UtcComparator object at 0x36c26e750>,\n",
      "                  'outputs': { 'id': ['id_store'],\n",
      "                               'results': ['results_store']}},\n",
      "  'copasi': { '_inputs': { 'floating_species': 'tree[float]',\n",
      "                           'model_parameters': { 'KM': { '_apply': 'set',\n",
      "                                                         '_type': 'float'},\n",
      "                                                 'a0_tr': { '_apply': 'set',\n",
      "                                                            '_type': 'float'},\n",
      "                                                 'a_tr': { '_apply': 'set',\n",
      "                                                           '_type': 'float'},\n",
      "                                                 'alpha': { '_apply': 'set',\n",
      "                                                            '_type': 'float'},\n",
      "                                                 'alpha0': { '_apply': 'set',\n",
      "                                                             '_type': 'float'},\n",
      "                                                 'average mRNA life time': { '_apply': 'set',\n",
      "                                                                             '_type': 'float'},\n",
      "                                                 'beta': { '_apply': 'set',\n",
      "                                                           '_type': 'float'},\n",
      "                                                 'k_tl': { '_apply': 'set',\n",
      "                                                           '_type': 'float'},\n",
      "                                                 'kd_mRNA': { '_apply': 'set',\n",
      "                                                              '_type': 'float'},\n",
      "                                                 'kd_prot': { '_apply': 'set',\n",
      "                                                              '_type': 'float'},\n",
      "                                                 'mRNA half life': { '_apply': 'set',\n",
      "                                                                     '_type': 'float'},\n",
      "                                                 'n': { '_apply': 'set',\n",
      "                                                        '_type': 'float'},\n",
      "                                                 'protein half life': { '_apply': 'set',\n",
      "                                                                        '_type': 'float'},\n",
      "                                                 'tps_active': { '_apply': 'set',\n",
      "                                                                 '_type': 'float'},\n",
      "                                                 'tps_repr': { '_apply': 'set',\n",
      "                                                               '_type': 'float'},\n",
      "                                                 'translation efficiency': { '_apply': 'set',\n",
      "                                                                             '_type': 'float'}},\n",
      "                           'reactions': 'list[string]',\n",
      "                           'time': 'list[float]'},\n",
      "              '_outputs': { 'floating_species': 'tree[float]',\n",
      "                            'time': 'list[float]'},\n",
      "              '_type': 'step',\n",
      "              'address': 'local:utc-copasi',\n",
      "              'config': { 'constant_parameters': None,\n",
      "                          'method': 'deterministic',\n",
      "                          'model': { 'model_changes': {},\n",
      "                                     'model_id': '',\n",
      "                                     'model_language': 'sbml',\n",
      "                                     'model_name': 'composite_process_model',\n",
      "                                     'model_source': '/var/folders/yy/8crj8x7x5_3b86f0js6_0bn00000gr/T/tmpu1mlf8hu/BIOMD0000000012_url.xml',\n",
      "                                     'model_units': {}},\n",
      "                          'model_output_dir': '/var/folders/yy/8crj8x7x5_3b86f0js6_0bn00000gr/T/tmpna8qna3l',\n",
      "                          'observables': None,\n",
      "                          'sigmas': None,\n",
      "                          'species_context': 'concentrations',\n",
      "                          'time_config': { 'duration': None,\n",
      "                                           'initial_time': None,\n",
      "                                           'num_steps': None,\n",
      "                                           'output_start_time': None,\n",
      "                                           'step_size': None},\n",
      "                          'working_dir': ''},\n",
      "              'inputs': { 'floating_species': ['copasi_floating_species_store'],\n",
      "                          'model_parameters': ['copasi_model_parameters_store'],\n",
      "                          'reactions': ['copasi_reactions_store'],\n",
      "                          'time': ['time_store']},\n",
      "              'instance': <biosimulator_processes.processes.copasi_process.UtcCopasi object at 0x36b867650>,\n",
      "              'outputs': { 'floating_species': [ 'copasi_floating_species_store'],\n",
      "                           'time': ['time_store']}},\n",
      "  'copasi_floating_species_store': { 'PX': 0.0,\n",
      "                                     'PY': 0.0,\n",
      "                                     'PZ': 0.0,\n",
      "                                     'X': 0.0,\n",
      "                                     'Y': 20.0,\n",
      "                                     'Z': 0.0},\n",
      "  'copasi_model_parameters_store': { 'KM': 0.0,\n",
      "                                     'a0_tr': 0.0,\n",
      "                                     'a_tr': 0.0,\n",
      "                                     'alpha': 0.0,\n",
      "                                     'alpha0': 0.0,\n",
      "                                     'average mRNA life time': 0.0,\n",
      "                                     'beta': 0.0,\n",
      "                                     'k_tl': 0.0,\n",
      "                                     'kd_mRNA': 0.0,\n",
      "                                     'kd_prot': 0.0,\n",
      "                                     'mRNA half life': 0.0,\n",
      "                                     'n': 0.0,\n",
      "                                     'protein half life': 0.0,\n",
      "                                     'tps_active': 0.0,\n",
      "                                     'tps_repr': 0.0,\n",
      "                                     'translation efficiency': 0.0},\n",
      "  'copasi_reactions_store': [],\n",
      "  'emitter': { '_inputs': {'id': 'string', 'results': 'tree[float]'},\n",
      "               '_outputs': {},\n",
      "               '_type': 'step',\n",
      "               'address': 'local:ram-emitter',\n",
      "               'config': {'emit': {'id': 'string', 'results': 'tree[float]'}},\n",
      "               'inputs': {'id': ['id_store'], 'results': ['results_store']},\n",
      "               'instance': <process_bigraph.composite.RAMEmitter object at 0x36c26ea50>,\n",
      "               'outputs': {}},\n",
      "  'global_time': 0.0,\n",
      "  'id_store': '',\n",
      "  'results_store': {},\n",
      "  'tellurium': { '_inputs': { 'floating_species': 'tree[float]',\n",
      "                              'model_parameters': { 'KM': { '_apply': 'set',\n",
      "                                                            '_type': 'float'},\n",
      "                                                    'a0_tr': { '_apply': 'set',\n",
      "                                                               '_type': 'float'},\n",
      "                                                    'a_tr': { '_apply': 'set',\n",
      "                                                              '_type': 'float'},\n",
      "                                                    'alpha': { '_apply': 'set',\n",
      "                                                               '_type': 'float'},\n",
      "                                                    'alpha0': { '_apply': 'set',\n",
      "                                                                '_type': 'float'},\n",
      "                                                    'beta': { '_apply': 'set',\n",
      "                                                              '_type': 'float'},\n",
      "                                                    'eff': { '_apply': 'set',\n",
      "                                                             '_type': 'float'},\n",
      "                                                    'k_tl': { '_apply': 'set',\n",
      "                                                              '_type': 'float'},\n",
      "                                                    'kd_mRNA': { '_apply': 'set',\n",
      "                                                                 '_type': 'float'},\n",
      "                                                    'kd_prot': { '_apply': 'set',\n",
      "                                                                 '_type': 'float'},\n",
      "                                                    'n': { '_apply': 'set',\n",
      "                                                           '_type': 'float'},\n",
      "                                                    'ps_0': { '_apply': 'set',\n",
      "                                                              '_type': 'float'},\n",
      "                                                    'ps_a': { '_apply': 'set',\n",
      "                                                              '_type': 'float'},\n",
      "                                                    't_ave': { '_apply': 'set',\n",
      "                                                               '_type': 'float'},\n",
      "                                                    'tau_mRNA': { '_apply': 'set',\n",
      "                                                                  '_type': 'float'},\n",
      "                                                    'tau_prot': { '_apply': 'set',\n",
      "                                                                  '_type': 'float'}},\n",
      "                              'reactions': 'list[string]',\n",
      "                              'time': 'list[float]'},\n",
      "                 '_outputs': { 'floating_species': 'tree[float]',\n",
      "                               'time': 'list[float]'},\n",
      "                 '_type': 'step',\n",
      "                 'address': 'local:utc-tellurium',\n",
      "                 'config': { 'constant_parameters': None,\n",
      "                             'method': 'deterministic',\n",
      "                             'model': { 'model_changes': {},\n",
      "                                        'model_id': '',\n",
      "                                        'model_language': 'sbml',\n",
      "                                        'model_name': 'composite_process_model',\n",
      "                                        'model_source': '/var/folders/yy/8crj8x7x5_3b86f0js6_0bn00000gr/T/tmpdlatk94s/BIOMD0000000012_url.xml',\n",
      "                                        'model_units': {}},\n",
      "                             'model_output_dir': '/var/folders/yy/8crj8x7x5_3b86f0js6_0bn00000gr/T/tmpna8qna3l',\n",
      "                             'observables': None,\n",
      "                             'sigmas': None,\n",
      "                             'species_context': 'concentrations',\n",
      "                             'time_config': { 'duration': None,\n",
      "                                              'initial_time': None,\n",
      "                                              'num_steps': None,\n",
      "                                              'output_start_time': None,\n",
      "                                              'step_size': None},\n",
      "                             'working_dir': ''},\n",
      "                 'inputs': { 'floating_species': [ 'tellurium_floating_species_store'],\n",
      "                             'model_parameters': [ 'tellurium_model_parameters_store'],\n",
      "                             'reactions': ['tellurium_reactions_store'],\n",
      "                             'time': ['time_store']},\n",
      "                 'instance': <biosimulator_processes.processes.tellurium_process.UtcTellurium object at 0x36b505e90>,\n",
      "                 'outputs': { 'floating_species': [ 'tellurium_floating_species_store'],\n",
      "                              'time': ['time_store']}},\n",
      "  'tellurium_floating_species_store': { 'PX': 0.0,\n",
      "                                        'PY': 0.0,\n",
      "                                        'PZ': 0.0,\n",
      "                                        'X': 0.0,\n",
      "                                        'Y': 20.0,\n",
      "                                        'Z': 0.0},\n",
      "  'tellurium_model_parameters_store': { 'KM': 0.0,\n",
      "                                        'a0_tr': 0.0,\n",
      "                                        'a_tr': 0.0,\n",
      "                                        'alpha': 0.0,\n",
      "                                        'alpha0': 0.0,\n",
      "                                        'beta': 0.0,\n",
      "                                        'eff': 0.0,\n",
      "                                        'k_tl': 0.0,\n",
      "                                        'kd_mRNA': 0.0,\n",
      "                                        'kd_prot': 0.0,\n",
      "                                        'n': 0.0,\n",
      "                                        'ps_0': 0.0,\n",
      "                                        'ps_a': 0.0,\n",
      "                                        't_ave': 0.0,\n",
      "                                        'tau_mRNA': 0.0,\n",
      "                                        'tau_prot': 0.0},\n",
      "  'tellurium_reactions_store': [],\n",
      "  'time_store': []}\n"
     ]
    }
   ],
   "execution_count": 5
  },
  {
   "metadata": {
    "ExecuteTime": {
     "end_time": "2024-06-11T16:32:42.775371Z",
     "start_time": "2024-06-11T16:32:42.773616Z"
    }
   },
   "cell_type": "code",
   "source": "pp(composition.state['comparison'])",
   "id": "7e7403395d5ac424",
   "outputs": [
    {
     "name": "stdout",
     "output_type": "stream",
     "text": [
      "{ '_inputs': { 'amici_floating_species': 'tree[float]',\n",
      "               'copasi_floating_species': 'tree[float]',\n",
      "               'tellurium_floating_species': 'tree[float]',\n",
      "               'time': 'list[float]'},\n",
      "  '_outputs': {'id': 'string', 'results': 'tree[float]'},\n",
      "  '_type': 'step',\n",
      "  'address': 'local:utc-comparator',\n",
      "  'config': { 'comparison_id': '',\n",
      "              'comparison_method': '',\n",
      "              'include_output_data': True,\n",
      "              'simulators': ['amici', 'copasi', 'tellurium']},\n",
      "  'inputs': { 'amici_floating_species': ['amici_floating_species_store'],\n",
      "              'copasi_floating_species': ['copasi_floating_species_store'],\n",
      "              'tellurium_floating_species': [ 'tellurium_floating_species_store'],\n",
      "              'time': ['time_store']},\n",
      "  'instance': <biosimulator_processes.steps.comparator_step.UtcComparator object at 0x36c26e750>,\n",
      "  'outputs': {'id': ['id_store'], 'results': ['results_store']}}\n"
     ]
    }
   ],
   "execution_count": 6
  },
  {
   "cell_type": "code",
   "id": "10ad33ce06ea1a60",
   "metadata": {
    "ExecuteTime": {
     "end_time": "2024-06-11T16:32:42.778139Z",
     "start_time": "2024-06-11T16:32:42.775951Z"
    }
   },
   "source": [
    "for simulator in simulators:\n",
    "    print(f'{simulator}:')\n",
    "    pp(composition.state[simulator]['instance'].initial_state())\n",
    "    print('\\n')\n"
   ],
   "outputs": [
    {
     "name": "stdout",
     "output_type": "stream",
     "text": [
      "amici:\n",
      "{ 'floating_species': { 'PX': 0.0,\n",
      "                        'PY': 0.0,\n",
      "                        'PZ': 0.0,\n",
      "                        'X': 0.0,\n",
      "                        'Y': 20.0,\n",
      "                        'Z': 0.0},\n",
      "  'model_parameters': { 'KM': 40.0,\n",
      "                        'a0_tr': 0.0,\n",
      "                        'a_tr': 0.0,\n",
      "                        'alpha': 216.404,\n",
      "                        'alpha0': 0.2164,\n",
      "                        'average mRNA life time': 0.0,\n",
      "                        'beta': 0.2,\n",
      "                        'k_tl': 0.0,\n",
      "                        'kd_mRNA': 0.0,\n",
      "                        'kd_prot': 0.0,\n",
      "                        'mRNA half life': 2.0,\n",
      "                        'n': 2.0,\n",
      "                        'protein half life': 10.0,\n",
      "                        'tps_active': 0.5,\n",
      "                        'tps_repr': 0.0005,\n",
      "                        'translation efficiency': 20.0},\n",
      "  'reactions': [ 'degradation of LacI transcripts',\n",
      "                 'degradation of TetR transcripts',\n",
      "                 'degradation of CI transcripts',\n",
      "                 'translation of LacI',\n",
      "                 'translation of TetR',\n",
      "                 'translation of CI',\n",
      "                 'degradation of LacI',\n",
      "                 'degradation of TetR',\n",
      "                 'degradation of CI',\n",
      "                 'transcription of LacI',\n",
      "                 'transcription of TetR',\n",
      "                 'transcription of CI'],\n",
      "  'time': [0.0]}\n",
      "\n",
      "\n",
      "copasi:\n",
      "{ 'floating_species': { 'PX': 0.0,\n",
      "                        'PY': 0.0,\n",
      "                        'PZ': 0.0,\n",
      "                        'X': 0.0,\n",
      "                        'Y': 20.0,\n",
      "                        'Z': 0.0},\n",
      "  'model_parameters': { 'KM': 40.0,\n",
      "                        'a0_tr': 0.03,\n",
      "                        'a_tr': 29.97,\n",
      "                        'alpha': 216.18785187721116,\n",
      "                        'alpha0': 0.21640425613334452,\n",
      "                        'average mRNA life time': 2.8853900817779268,\n",
      "                        'beta': 0.2,\n",
      "                        'k_tl': 6.931471805599453,\n",
      "                        'kd_mRNA': 0.34657359027997264,\n",
      "                        'kd_prot': 0.06931471805599453,\n",
      "                        'mRNA half life': 2.0,\n",
      "                        'n': 2.0,\n",
      "                        'protein half life': 10.0,\n",
      "                        'tps_active': 0.5,\n",
      "                        'tps_repr': 0.0005,\n",
      "                        'translation efficiency': 20.0},\n",
      "  'reactions': [ 'degradation of LacI transcripts',\n",
      "                 'degradation of TetR transcripts',\n",
      "                 'degradation of CI transcripts',\n",
      "                 'translation of LacI',\n",
      "                 'translation of TetR',\n",
      "                 'translation of CI',\n",
      "                 'degradation of LacI',\n",
      "                 'degradation of TetR',\n",
      "                 'degradation of CI',\n",
      "                 'transcription of LacI',\n",
      "                 'transcription of TetR',\n",
      "                 'transcription of CI'],\n",
      "  'time': [0.0]}\n",
      "\n",
      "\n",
      "tellurium:\n",
      "{ 'floating_species': { 'PX': 0.0,\n",
      "                        'PY': 0.0,\n",
      "                        'PZ': 0.0,\n",
      "                        'X': 0.0,\n",
      "                        'Y': 20.0,\n",
      "                        'Z': 0.0},\n",
      "  'model_parameters': { 'KM': 40.0,\n",
      "                        'a0_tr': 0.03,\n",
      "                        'a_tr': 29.97,\n",
      "                        'alpha': 216.18785187721116,\n",
      "                        'alpha0': 0.21640425613334452,\n",
      "                        'beta': 0.2,\n",
      "                        'eff': 20.0,\n",
      "                        'k_tl': 6.931471805599453,\n",
      "                        'kd_mRNA': 0.34657359027997264,\n",
      "                        'kd_prot': 0.06931471805599453,\n",
      "                        'n': 2.0,\n",
      "                        'ps_0': 0.0005,\n",
      "                        'ps_a': 0.5,\n",
      "                        't_ave': 2.8853900817779268,\n",
      "                        'tau_mRNA': 2.0,\n",
      "                        'tau_prot': 10.0},\n",
      "  'reactions': [ 'Reaction1',\n",
      "                 'Reaction2',\n",
      "                 'Reaction3',\n",
      "                 'Reaction4',\n",
      "                 'Reaction5',\n",
      "                 'Reaction6',\n",
      "                 'Reaction7',\n",
      "                 'Reaction8',\n",
      "                 'Reaction9',\n",
      "                 'Reaction10',\n",
      "                 'Reaction11',\n",
      "                 'Reaction12'],\n",
      "  'time': [0.0]}\n",
      "\n",
      "\n"
     ]
    }
   ],
   "execution_count": 7
  },
  {
   "cell_type": "markdown",
   "id": "21d92131e9538a40",
   "metadata": {},
   "source": [
    "4. Run composition"
   ]
  },
  {
   "cell_type": "code",
   "id": "ebd103ffd50d4e79",
   "metadata": {
    "ExecuteTime": {
     "end_time": "2024-06-11T16:32:42.781165Z",
     "start_time": "2024-06-11T16:32:42.778745Z"
    }
   },
   "source": [
    "composition.bridge"
   ],
   "outputs": [
    {
     "data": {
      "text/plain": [
       "{'inputs': {}, 'outputs': {}}"
      ]
     },
     "execution_count": 8,
     "metadata": {},
     "output_type": "execute_result"
    }
   ],
   "execution_count": 8
  },
  {
   "cell_type": "code",
   "id": "69119aa1ee569aa",
   "metadata": {
    "ExecuteTime": {
     "end_time": "2024-06-11T16:32:42.782925Z",
     "start_time": "2024-06-11T16:32:42.781705Z"
    }
   },
   "source": [
    "composition.run(1)"
   ],
   "outputs": [],
   "execution_count": 9
  },
  {
   "cell_type": "code",
   "id": "4ab7bd7b644ed0a0",
   "metadata": {
    "ExecuteTime": {
     "end_time": "2024-06-11T16:32:42.785775Z",
     "start_time": "2024-06-11T16:32:42.784557Z"
    }
   },
   "source": [
    "composition_results = composition.gather_results()"
   ],
   "outputs": [],
   "execution_count": 10
  },
  {
   "cell_type": "code",
   "id": "113b924a12cf7797",
   "metadata": {
    "ExecuteTime": {
     "end_time": "2024-06-11T16:32:42.787898Z",
     "start_time": "2024-06-11T16:32:42.786205Z"
    }
   },
   "source": [
    "composition_results"
   ],
   "outputs": [
    {
     "data": {
      "text/plain": [
       "{('emitter',): []}"
      ]
     },
     "execution_count": 11,
     "metadata": {},
     "output_type": "execute_result"
    }
   ],
   "execution_count": 11
  },
  {
   "cell_type": "code",
   "id": "ca4d5b1997e48cdb",
   "metadata": {
    "ExecuteTime": {
     "end_time": "2024-06-11T16:32:42.791899Z",
     "start_time": "2024-06-11T16:32:42.788377Z"
    }
   },
   "source": [
    "composition.state"
   ],
   "outputs": [
    {
     "data": {
      "text/plain": [
       "{'time_store': [],\n",
       " 'amici_floating_species_store': {'PX': 0.0,\n",
       "  'PY': 0.0,\n",
       "  'PZ': 0.0,\n",
       "  'X': 0.0,\n",
       "  'Y': 20.0,\n",
       "  'Z': 0.0},\n",
       " 'amici_model_parameters_store': {'beta': 0.2,\n",
       "  'alpha0': 0.2164,\n",
       "  'alpha': 216.404,\n",
       "  'translation efficiency': 20.0,\n",
       "  'n': 2.0,\n",
       "  'KM': 40.0,\n",
       "  'mRNA half life': 2.0,\n",
       "  'protein half life': 10.0,\n",
       "  'average mRNA life time': 0.0,\n",
       "  'kd_mRNA': 0.0,\n",
       "  'kd_prot': 0.0,\n",
       "  'k_tl': 0.0,\n",
       "  'a_tr': 0.0,\n",
       "  'tps_active': 0.5,\n",
       "  'tps_repr': 0.0005,\n",
       "  'a0_tr': 0.0},\n",
       " 'amici_reactions_store': [],\n",
       " 'copasi_floating_species_store': {'PX': 0.0,\n",
       "  'PY': 0.0,\n",
       "  'PZ': 0.0,\n",
       "  'X': 0.0,\n",
       "  'Y': 20.0,\n",
       "  'Z': 0.0},\n",
       " 'copasi_model_parameters_store': {'beta': 0.0,\n",
       "  'alpha0': 0.0,\n",
       "  'alpha': 0.0,\n",
       "  'translation efficiency': 0.0,\n",
       "  'n': 0.0,\n",
       "  'KM': 0.0,\n",
       "  'mRNA half life': 0.0,\n",
       "  'protein half life': 0.0,\n",
       "  'average mRNA life time': 0.0,\n",
       "  'kd_mRNA': 0.0,\n",
       "  'kd_prot': 0.0,\n",
       "  'k_tl': 0.0,\n",
       "  'a_tr': 0.0,\n",
       "  'tps_active': 0.0,\n",
       "  'tps_repr': 0.0,\n",
       "  'a0_tr': 0.0},\n",
       " 'copasi_reactions_store': [],\n",
       " 'tellurium_floating_species_store': {'PX': 0.0,\n",
       "  'PY': 0.0,\n",
       "  'PZ': 0.0,\n",
       "  'X': 0.0,\n",
       "  'Y': 20.0,\n",
       "  'Z': 0.0},\n",
       " 'tellurium_model_parameters_store': {'eff': 0.0,\n",
       "  'n': 0.0,\n",
       "  'KM': 0.0,\n",
       "  'tau_mRNA': 0.0,\n",
       "  'tau_prot': 0.0,\n",
       "  'ps_a': 0.0,\n",
       "  'ps_0': 0.0,\n",
       "  'beta': 0.0,\n",
       "  'alpha0': 0.0,\n",
       "  'alpha': 0.0,\n",
       "  't_ave': 0.0,\n",
       "  'kd_mRNA': 0.0,\n",
       "  'kd_prot': 0.0,\n",
       "  'k_tl': 0.0,\n",
       "  'a_tr': 0.0,\n",
       "  'a0_tr': 0.0},\n",
       " 'tellurium_reactions_store': [],\n",
       " 'amici': {'_type': 'step',\n",
       "  'address': 'local:utc-amici',\n",
       "  'config': {'model': {'model_source': '/var/folders/yy/8crj8x7x5_3b86f0js6_0bn00000gr/T/tmpwgga5tzu/BIOMD0000000012_url.xml',\n",
       "    'model_id': '',\n",
       "    'model_language': 'sbml',\n",
       "    'model_name': 'composite_process_model',\n",
       "    'model_changes': {},\n",
       "    'model_units': {}},\n",
       "   'time_config': {'duration': None,\n",
       "    'num_steps': None,\n",
       "    'step_size': None,\n",
       "    'output_start_time': None,\n",
       "    'initial_time': None},\n",
       "   'species_context': 'concentrations',\n",
       "   'working_dir': '',\n",
       "   'method': 'deterministic',\n",
       "   'model_output_dir': '/var/folders/yy/8crj8x7x5_3b86f0js6_0bn00000gr/T/tmpna8qna3l',\n",
       "   'observables': None,\n",
       "   'constant_parameters': None,\n",
       "   'sigmas': None},\n",
       "  'inputs': {'time': ['time_store'],\n",
       "   'floating_species': ['amici_floating_species_store'],\n",
       "   'model_parameters': ['amici_model_parameters_store'],\n",
       "   'reactions': ['amici_reactions_store']},\n",
       "  'outputs': {'time': ['time_store'],\n",
       "   'floating_species': ['amici_floating_species_store']},\n",
       "  'instance': <biosimulator_processes.processes.amici_process.UtcAmici at 0x1056b81d0>,\n",
       "  '_inputs': {'time': 'list[float]',\n",
       "   'floating_species': 'tree[float]',\n",
       "   'model_parameters': 'tree[float]',\n",
       "   'reactions': 'list[string]'},\n",
       "  '_outputs': {'time': 'list[float]', 'floating_species': 'tree[float]'}},\n",
       " 'copasi': {'_type': 'step',\n",
       "  'address': 'local:utc-copasi',\n",
       "  'config': {'model': {'model_source': '/var/folders/yy/8crj8x7x5_3b86f0js6_0bn00000gr/T/tmpu1mlf8hu/BIOMD0000000012_url.xml',\n",
       "    'model_id': '',\n",
       "    'model_language': 'sbml',\n",
       "    'model_name': 'composite_process_model',\n",
       "    'model_changes': {},\n",
       "    'model_units': {}},\n",
       "   'time_config': {'duration': None,\n",
       "    'num_steps': None,\n",
       "    'step_size': None,\n",
       "    'output_start_time': None,\n",
       "    'initial_time': None},\n",
       "   'species_context': 'concentrations',\n",
       "   'working_dir': '',\n",
       "   'method': 'deterministic',\n",
       "   'model_output_dir': '/var/folders/yy/8crj8x7x5_3b86f0js6_0bn00000gr/T/tmpna8qna3l',\n",
       "   'observables': None,\n",
       "   'constant_parameters': None,\n",
       "   'sigmas': None},\n",
       "  'inputs': {'time': ['time_store'],\n",
       "   'floating_species': ['copasi_floating_species_store'],\n",
       "   'model_parameters': ['copasi_model_parameters_store'],\n",
       "   'reactions': ['copasi_reactions_store']},\n",
       "  'outputs': {'time': ['time_store'],\n",
       "   'floating_species': ['copasi_floating_species_store']},\n",
       "  'instance': <biosimulator_processes.processes.copasi_process.UtcCopasi at 0x36b867650>,\n",
       "  '_inputs': {'time': 'list[float]',\n",
       "   'floating_species': 'tree[float]',\n",
       "   'model_parameters': {'beta': {'_type': 'float', '_apply': 'set'},\n",
       "    'alpha0': {'_type': 'float', '_apply': 'set'},\n",
       "    'alpha': {'_type': 'float', '_apply': 'set'},\n",
       "    'translation efficiency': {'_type': 'float', '_apply': 'set'},\n",
       "    'n': {'_type': 'float', '_apply': 'set'},\n",
       "    'KM': {'_type': 'float', '_apply': 'set'},\n",
       "    'mRNA half life': {'_type': 'float', '_apply': 'set'},\n",
       "    'protein half life': {'_type': 'float', '_apply': 'set'},\n",
       "    'average mRNA life time': {'_type': 'float', '_apply': 'set'},\n",
       "    'kd_mRNA': {'_type': 'float', '_apply': 'set'},\n",
       "    'kd_prot': {'_type': 'float', '_apply': 'set'},\n",
       "    'k_tl': {'_type': 'float', '_apply': 'set'},\n",
       "    'a_tr': {'_type': 'float', '_apply': 'set'},\n",
       "    'tps_active': {'_type': 'float', '_apply': 'set'},\n",
       "    'tps_repr': {'_type': 'float', '_apply': 'set'},\n",
       "    'a0_tr': {'_type': 'float', '_apply': 'set'}},\n",
       "   'reactions': 'list[string]'},\n",
       "  '_outputs': {'time': 'list[float]', 'floating_species': 'tree[float]'}},\n",
       " 'tellurium': {'_type': 'step',\n",
       "  'address': 'local:utc-tellurium',\n",
       "  'config': {'model': {'model_source': '/var/folders/yy/8crj8x7x5_3b86f0js6_0bn00000gr/T/tmpdlatk94s/BIOMD0000000012_url.xml',\n",
       "    'model_id': '',\n",
       "    'model_language': 'sbml',\n",
       "    'model_name': 'composite_process_model',\n",
       "    'model_changes': {},\n",
       "    'model_units': {}},\n",
       "   'time_config': {'duration': None,\n",
       "    'num_steps': None,\n",
       "    'step_size': None,\n",
       "    'output_start_time': None,\n",
       "    'initial_time': None},\n",
       "   'species_context': 'concentrations',\n",
       "   'working_dir': '',\n",
       "   'method': 'deterministic',\n",
       "   'model_output_dir': '/var/folders/yy/8crj8x7x5_3b86f0js6_0bn00000gr/T/tmpna8qna3l',\n",
       "   'observables': None,\n",
       "   'constant_parameters': None,\n",
       "   'sigmas': None},\n",
       "  'inputs': {'time': ['time_store'],\n",
       "   'floating_species': ['tellurium_floating_species_store'],\n",
       "   'model_parameters': ['tellurium_model_parameters_store'],\n",
       "   'reactions': ['tellurium_reactions_store']},\n",
       "  'outputs': {'time': ['time_store'],\n",
       "   'floating_species': ['tellurium_floating_species_store']},\n",
       "  'instance': <biosimulator_processes.processes.tellurium_process.UtcTellurium at 0x36b505e90>,\n",
       "  '_inputs': {'time': 'list[float]',\n",
       "   'floating_species': 'tree[float]',\n",
       "   'model_parameters': {'eff': {'_type': 'float', '_apply': 'set'},\n",
       "    'n': {'_type': 'float', '_apply': 'set'},\n",
       "    'KM': {'_type': 'float', '_apply': 'set'},\n",
       "    'tau_mRNA': {'_type': 'float', '_apply': 'set'},\n",
       "    'tau_prot': {'_type': 'float', '_apply': 'set'},\n",
       "    'ps_a': {'_type': 'float', '_apply': 'set'},\n",
       "    'ps_0': {'_type': 'float', '_apply': 'set'},\n",
       "    'beta': {'_type': 'float', '_apply': 'set'},\n",
       "    'alpha0': {'_type': 'float', '_apply': 'set'},\n",
       "    'alpha': {'_type': 'float', '_apply': 'set'},\n",
       "    't_ave': {'_type': 'float', '_apply': 'set'},\n",
       "    'kd_mRNA': {'_type': 'float', '_apply': 'set'},\n",
       "    'kd_prot': {'_type': 'float', '_apply': 'set'},\n",
       "    'k_tl': {'_type': 'float', '_apply': 'set'},\n",
       "    'a_tr': {'_type': 'float', '_apply': 'set'},\n",
       "    'a0_tr': {'_type': 'float', '_apply': 'set'}},\n",
       "   'reactions': 'list[string]'},\n",
       "  '_outputs': {'time': 'list[float]', 'floating_species': 'tree[float]'}},\n",
       " 'comparison': {'_type': 'step',\n",
       "  'address': 'local:utc-comparator',\n",
       "  'config': {'simulators': ['amici', 'copasi', 'tellurium'],\n",
       "   'comparison_id': '',\n",
       "   'comparison_method': '',\n",
       "   'include_output_data': True},\n",
       "  'inputs': {'time': ['time_store'],\n",
       "   'amici_floating_species': ['amici_floating_species_store'],\n",
       "   'copasi_floating_species': ['copasi_floating_species_store'],\n",
       "   'tellurium_floating_species': ['tellurium_floating_species_store']},\n",
       "  'outputs': {'results': ['results_store'], 'id': ['id_store']},\n",
       "  'instance': <biosimulator_processes.steps.comparator_step.UtcComparator at 0x36c26e750>,\n",
       "  '_inputs': {'amici_floating_species': 'tree[float]',\n",
       "   'copasi_floating_species': 'tree[float]',\n",
       "   'tellurium_floating_species': 'tree[float]',\n",
       "   'time': 'list[float]'},\n",
       "  '_outputs': {'results': 'tree[float]', 'id': 'string'}},\n",
       " 'emitter': {'_type': 'step',\n",
       "  'address': 'local:ram-emitter',\n",
       "  'config': {'emit': {'results': 'tree[float]', 'id': 'string'}},\n",
       "  'inputs': {'results': ['results_store'], 'id': ['id_store']},\n",
       "  'instance': <process_bigraph.composite.RAMEmitter at 0x36c26ea50>,\n",
       "  '_inputs': {'results': 'tree[float]', 'id': 'string'},\n",
       "  '_outputs': {},\n",
       "  'outputs': {}},\n",
       " 'global_time': 1.0,\n",
       " 'results_store': {},\n",
       " 'id_store': ''}"
      ]
     },
     "execution_count": 12,
     "metadata": {},
     "output_type": "execute_result"
    }
   ],
   "execution_count": 12
  },
  {
   "cell_type": "code",
   "id": "6155c30e2a9996fb",
   "metadata": {
    "ExecuteTime": {
     "end_time": "2024-06-11T16:32:42.794449Z",
     "start_time": "2024-06-11T16:32:42.792421Z"
    }
   },
   "source": [
    "from biosimulator_processes.execute import exec_utc_comparison"
   ],
   "outputs": [],
   "execution_count": 13
  },
  {
   "cell_type": "code",
   "id": "efd732ed2186c094",
   "metadata": {
    "ExecuteTime": {
     "end_time": "2024-06-11T16:32:51.113387Z",
     "start_time": "2024-06-11T16:32:42.794871Z"
    }
   },
   "source": [
    "utc_comparison_result = exec_utc_comparison(omex_fp, simulators)\n",
    "_c = utc_comparison_result.copy()\n",
    "for spec_name, result in utc_comparison_result['results'].items():\n",
    "    _c['results'][spec_name].pop('output_data')\n",
    "pp(_c)"
   ],
   "outputs": [
    {
     "name": "stderr",
     "output_type": "stream",
     "text": [
      "2024-06-11 12:32:42.854 - amici.sbml_import - INFO - Finished loading SBML                           (6.62E-03s)\n",
      "2024-06-11 12:32:42.897 - amici.sbml_import - INFO - Finished importing SBML                         (3.85E-02s)\n",
      "2024-06-11 12:32:42.913 - amici.sbml_import - INFO - Finished processing SBML observables            (1.28E-02s)\n",
      "2024-06-11 12:32:42.917 - amici.sbml_import - INFO - Finished processing SBML event observables      (7.08E-07s)\n",
      "2024-06-11 12:32:42.938 - amici.de_model - INFO - Finished computing xdot                            (3.34E-03s)\n",
      "2024-06-11 12:32:42.944 - amici.de_model - INFO - Finished computing x0                              (2.71E-03s)\n",
      "2024-06-11 12:32:42.954 - amici.de_model - INFO - Finished computing w                               (7.23E-03s)\n",
      "2024-06-11 12:32:43.529 - amici.de_export - INFO - Finished generating cpp code                      (5.71E-01s)\n",
      "2024-06-11 12:32:51.087 - amici.de_export - INFO - Finished compiling cpp code                       (7.55E+00s)\n"
     ]
    },
    {
     "name": "stdout",
     "output_type": "stream",
     "text": [
      "{ 'id': 'utc-comparison',\n",
      "  'results': { 'LacI mRNA': { 'mse': { 'amici': { 'amici': 0.0,\n",
      "                                                  'copasi': 1.0884950422811668,\n",
      "                                                  'tellurium': 305.76232201739214},\n",
      "                                       'copasi': { 'amici': 1.0884950422811668,\n",
      "                                                   'copasi': 0.0,\n",
      "                                                   'tellurium': 307.2027588807725},\n",
      "                                       'tellurium': { 'amici': 305.76232201739214,\n",
      "                                                      'copasi': 307.2027588807725,\n",
      "                                                      'tellurium': 0.0}},\n",
      "                              'prox': { 'amici': { 'amici': True,\n",
      "                                                   'copasi': False,\n",
      "                                                   'tellurium': False},\n",
      "                                        'copasi': { 'amici': False,\n",
      "                                                    'copasi': True,\n",
      "                                                    'tellurium': False},\n",
      "                                        'tellurium': { 'amici': False,\n",
      "                                                       'copasi': False,\n",
      "                                                       'tellurium': True}}},\n",
      "               'LacI protein': { 'mse': { 'amici': { 'amici': 0.0,\n",
      "                                                     'copasi': 3421.101751414077,\n",
      "                                                     'tellurium': 1112642.3515076651},\n",
      "                                          'copasi': { 'amici': 3421.101751414077,\n",
      "                                                      'copasi': 0.0,\n",
      "                                                      'tellurium': 1122517.493697266},\n",
      "                                          'tellurium': { 'amici': 1112642.3515076651,\n",
      "                                                         'copasi': 1122517.493697266,\n",
      "                                                         'tellurium': 0.0}},\n",
      "                                 'prox': { 'amici': { 'amici': True,\n",
      "                                                      'copasi': False,\n",
      "                                                      'tellurium': False},\n",
      "                                           'copasi': { 'amici': False,\n",
      "                                                       'copasi': True,\n",
      "                                                       'tellurium': False},\n",
      "                                           'tellurium': { 'amici': False,\n",
      "                                                          'copasi': False,\n",
      "                                                          'tellurium': True}}},\n",
      "               'TetR mRNA': { 'mse': { 'amici': { 'amici': 0.0,\n",
      "                                                  'copasi': 0.9251411538449499,\n",
      "                                                  'tellurium': 305.03780258269074},\n",
      "                                       'copasi': { 'amici': 0.9251411538449499,\n",
      "                                                   'copasi': 0.0,\n",
      "                                                   'tellurium': 302.54756286112666},\n",
      "                                       'tellurium': { 'amici': 305.03780258269074,\n",
      "                                                      'copasi': 302.54756286112666,\n",
      "                                                      'tellurium': 0.0}},\n",
      "                              'prox': { 'amici': { 'amici': True,\n",
      "                                                   'copasi': False,\n",
      "                                                   'tellurium': False},\n",
      "                                        'copasi': { 'amici': False,\n",
      "                                                    'copasi': True,\n",
      "                                                    'tellurium': False},\n",
      "                                        'tellurium': { 'amici': False,\n",
      "                                                       'copasi': False,\n",
      "                                                       'tellurium': True}}},\n",
      "               'TetR protein': { 'mse': { 'amici': { 'amici': 0.0,\n",
      "                                                     'copasi': 3432.245484968864,\n",
      "                                                     'tellurium': 1182387.32612705},\n",
      "                                          'copasi': { 'amici': 3432.245484968864,\n",
      "                                                      'copasi': 0.0,\n",
      "                                                      'tellurium': 1178485.6823350259},\n",
      "                                          'tellurium': { 'amici': 1182387.32612705,\n",
      "                                                         'copasi': 1178485.6823350259,\n",
      "                                                         'tellurium': 0.0}},\n",
      "                                 'prox': { 'amici': { 'amici': True,\n",
      "                                                      'copasi': False,\n",
      "                                                      'tellurium': False},\n",
      "                                           'copasi': { 'amici': False,\n",
      "                                                       'copasi': True,\n",
      "                                                       'tellurium': False},\n",
      "                                           'tellurium': { 'amici': False,\n",
      "                                                          'copasi': False,\n",
      "                                                          'tellurium': True}}},\n",
      "               'cI mRNA': { 'mse': { 'amici': { 'amici': 0.0,\n",
      "                                                'copasi': 0.7549451761493683,\n",
      "                                                'tellurium': 1.555328576292277e-07},\n",
      "                                     'copasi': { 'amici': 0.7549451761493683,\n",
      "                                                 'copasi': 0.0,\n",
      "                                                 'tellurium': 0.7554635238249408},\n",
      "                                     'tellurium': { 'amici': 1.555328576292277e-07,\n",
      "                                                    'copasi': 0.7554635238249408,\n",
      "                                                    'tellurium': 0.0}},\n",
      "                            'prox': { 'amici': { 'amici': True,\n",
      "                                                 'copasi': False,\n",
      "                                                 'tellurium': True},\n",
      "                                      'copasi': { 'amici': False,\n",
      "                                                  'copasi': True,\n",
      "                                                  'tellurium': False},\n",
      "                                      'tellurium': { 'amici': True,\n",
      "                                                     'copasi': False,\n",
      "                                                     'tellurium': True}}},\n",
      "               'cI protein': { 'mse': { 'amici': { 'amici': 0.0,\n",
      "                                                   'copasi': 2786.9824083842086,\n",
      "                                                   'tellurium': 1117982.7592305837},\n",
      "                                        'copasi': { 'amici': 2786.9824083842086,\n",
      "                                                    'copasi': 0.0,\n",
      "                                                    'tellurium': 1113717.5149278461},\n",
      "                                        'tellurium': { 'amici': 1117982.7592305837,\n",
      "                                                       'copasi': 1113717.5149278461,\n",
      "                                                       'tellurium': 0.0}},\n",
      "                               'prox': { 'amici': { 'amici': True,\n",
      "                                                    'copasi': False,\n",
      "                                                    'tellurium': False},\n",
      "                                         'copasi': { 'amici': False,\n",
      "                                                     'copasi': True,\n",
      "                                                     'tellurium': False},\n",
      "                                         'tellurium': { 'amici': False,\n",
      "                                                        'copasi': False,\n",
      "                                                        'tellurium': True}}}}}\n"
     ]
    }
   ],
   "execution_count": 14
  },
  {
   "cell_type": "code",
   "id": "3ac5ebceb0f6a512",
   "metadata": {
    "ExecuteTime": {
     "end_time": "2024-06-11T16:32:51.116422Z",
     "start_time": "2024-06-11T16:32:51.114127Z"
    }
   },
   "source": [
    "utc_comparison_result['id']"
   ],
   "outputs": [
    {
     "data": {
      "text/plain": [
       "'utc-comparison'"
      ]
     },
     "execution_count": 15,
     "metadata": {},
     "output_type": "execute_result"
    }
   ],
   "execution_count": 15
  },
  {
   "cell_type": "code",
   "id": "b82ae305344c5297",
   "metadata": {
    "ExecuteTime": {
     "end_time": "2024-06-11T16:32:51.119433Z",
     "start_time": "2024-06-11T16:32:51.116966Z"
    }
   },
   "source": [
    "from biosimulator_processes.api.instance import UtcComparisonDocument\n",
    "doc = UtcComparisonDocument(model_source=omex_fp)"
   ],
   "outputs": [],
   "execution_count": 16
  },
  {
   "cell_type": "code",
   "id": "ba8f82b6498611fc",
   "metadata": {
    "ExecuteTime": {
     "end_time": "2024-06-11T16:32:51.122027Z",
     "start_time": "2024-06-11T16:32:51.119959Z"
    }
   },
   "source": [
    "doc"
   ],
   "outputs": [
    {
     "data": {
      "text/plain": [
       "{'state': {'amici': {'_type': 'step',\n",
       "   'address': 'local:utc-amici',\n",
       "   'config': {'model': {'model_source': '../test_suite/examples/sbml-core/Elowitz-Nature-2000-Repressilator.omex'}},\n",
       "   'inputs': {'time': ['time_store'],\n",
       "    'floating_species': ['amici_floating_species_store'],\n",
       "    'model_parameters': ['amici_model_parameters_store'],\n",
       "    'reactions': ['amici_reactions_store']},\n",
       "   'outputs': {'time': ['time_store'],\n",
       "    'floating_species': ['amici_floating_species_store']}},\n",
       "  'copasi': {'_type': 'step',\n",
       "   'address': 'local:utc-copasi',\n",
       "   'config': {'model': {'model_source': '../test_suite/examples/sbml-core/Elowitz-Nature-2000-Repressilator.omex'}},\n",
       "   'inputs': {'time': ['time_store'],\n",
       "    'floating_species': ['copasi_floating_species_store'],\n",
       "    'model_parameters': ['copasi_model_parameters_store'],\n",
       "    'reactions': ['copasi_reactions_store']},\n",
       "   'outputs': {'time': ['time_store'],\n",
       "    'floating_species': ['copasi_floating_species_store']}},\n",
       "  'tellurium': {'_type': 'step',\n",
       "   'address': 'local:utc-tellurium',\n",
       "   'config': {'model': {'model_source': '../test_suite/examples/sbml-core/Elowitz-Nature-2000-Repressilator.omex'}},\n",
       "   'inputs': {'time': ['time_store'],\n",
       "    'floating_species': ['tellurium_floating_species_store'],\n",
       "    'model_parameters': ['tellurium_model_parameters_store'],\n",
       "    'reactions': ['tellurium_reactions_store']},\n",
       "   'outputs': {'time': ['time_store'],\n",
       "    'floating_species': ['tellurium_floating_species_store']}},\n",
       "  'comparison': {'_type': 'step',\n",
       "   'address': 'local:utc-comparator',\n",
       "   'config': {'simulators': ['amici', 'copasi', 'tellurium']},\n",
       "   'inputs': {'time': ['time_store'],\n",
       "    'amici_floating_species': ['amici_floating_species_store'],\n",
       "    'copasi_floating_species': ['copasi_floating_species_store'],\n",
       "    'tellurium_floating_species': ['tellurium_floating_species_store']},\n",
       "   'outputs': {'results': ['results_store']}},\n",
       "  'emitter': {'_type': 'step',\n",
       "   'address': 'local:ram-emitter',\n",
       "   'config': {'emit': {'results': 'tree[string]'}},\n",
       "   'inputs': {'results': ['results_store']}}},\n",
       " 'bridge': {'inputs': {'results': ['results_store']},\n",
       "  'outputs': {'results': ['results_store']}}}"
      ]
     },
     "execution_count": 17,
     "metadata": {},
     "output_type": "execute_result"
    }
   ],
   "execution_count": 17
  },
  {
   "cell_type": "markdown",
   "id": "8b5cf5ec141aba0a",
   "metadata": {},
   "source": [
    "Perform an entire sbml source directory scan with the comparison:"
   ]
  },
  {
   "cell_type": "code",
   "id": "a964083cb61f895f",
   "metadata": {
    "jupyter": {
     "is_executing": true
    },
    "ExecuteTime": {
     "start_time": "2024-06-11T16:32:51.122461Z"
    }
   },
   "source": [
    "from biosimulator_processes.execute import sbml_utc_comparison_scan\n",
    "\n",
    "source_dir = '../test_suite/examples/sbml-core'\n",
    "scan_results = sbml_utc_comparison_scan(source_dir, simulators)\n",
    "\n",
    "# successfully run\n",
    "scan_results.keys()"
   ],
   "outputs": [
    {
     "name": "stderr",
     "output_type": "stream",
     "text": [
      "2024-06-11 12:32:51.319 - amici.sbml_import - INFO - Finished loading SBML                           (1.19E-02s)\n",
      "2024-06-11 12:32:51.607 - amici.sbml_import - INFO - Finished loading SBML                           (9.30E-03s)\n",
      "2024-06-11 12:32:51.666 - amici.sbml_import - INFO - Finished importing SBML                         (5.63E-02s)\n",
      "2024-06-11 12:32:51.667 - amici.sbml_import - WARNING - Conservation laws are currently not supported for models with events, piecewise or Heaviside functions, and will be turned off.\n",
      "2024-06-11 12:32:51.706 - amici.sbml_import - INFO - Finished processing SBML observables            (3.63E-02s)\n",
      "2024-06-11 12:32:51.710 - amici.sbml_import - INFO - Finished processing SBML event observables      (2.92E-07s)\n",
      "2024-06-11 12:32:51.739 - amici.de_model - INFO - Finished computing xdot                            (4.41E-03s)\n",
      "2024-06-11 12:32:51.745 - amici.de_model - INFO - Finished computing x0                              (2.69E-03s)\n",
      "2024-06-11 12:32:51.760 - amici.de_model - INFO - Finished computing w                               (1.20E-02s)\n",
      "2024-06-11 12:32:52.482 - amici.de_export - INFO - Finished generating cpp code                      (7.17E-01s)\n",
      "2024-06-11 12:33:00.325 - amici.sbml_import - INFO - Finished loading SBML                           (8.59E-03s)\n",
      "2024-06-11 12:33:00.379 - amici.sbml_import - INFO - Finished importing SBML                         (5.12E-02s)\n",
      "2024-06-11 12:33:00.379 - amici.sbml_import - WARNING - Conservation laws are currently not supported for models with events, piecewise or Heaviside functions, and will be turned off.\n",
      "2024-06-11 12:33:00.392 - amici.sbml_import - INFO - Finished processing SBML observables            (9.89E-03s)\n",
      "2024-06-11 12:33:00.396 - amici.sbml_import - INFO - Finished processing SBML event observables      (5.00E-07s)\n",
      "2024-06-11 12:33:00.423 - amici.de_model - INFO - Finished computing xdot                            (3.91E-03s)\n",
      "2024-06-11 12:33:00.429 - amici.de_model - INFO - Finished computing x0                              (2.73E-03s)\n",
      "2024-06-11 12:33:00.439 - amici.de_model - INFO - Finished computing w                               (7.11E-03s)\n",
      "2024-06-11 12:33:01.088 - amici.de_export - INFO - Finished generating cpp code                      (6.45E-01s)\n",
      "2024-06-11 12:33:03.527 - amici.sbml_import - INFO - Finished loading SBML                           (8.68E-03s)\n",
      "2024-06-11 12:33:03.712 - amici.sbml_import - INFO - Finished loading SBML                           (8.18E-03s)\n",
      "2024-06-11 12:33:03.804 - amici.sbml_import - INFO - Finished loading SBML                           (9.42E-03s)\n",
      "2024-06-11 12:33:03.843 - amici.sbml_import - INFO - Finished importing SBML                         (3.59E-02s)\n",
      "2024-06-11 12:33:03.856 - amici.sbml_import - INFO - Finished processing SBML observables            (9.81E-03s)\n",
      "2024-06-11 12:33:03.860 - amici.sbml_import - INFO - Finished processing SBML event observables      (6.25E-07s)\n",
      "2024-06-11 12:33:03.879 - amici.de_model - INFO - Finished computing xdot                            (3.54E-03s)\n",
      "2024-06-11 12:33:03.884 - amici.de_model - INFO - Finished computing x0                              (2.63E-03s)\n",
      "2024-06-11 12:33:03.899 - amici.de_model - INFO - Finished computing w                               (1.09E-02s)\n",
      "2024-06-11 12:33:04.230 - amici.sbml_import - INFO - Finished loading SBML                           (6.18E-03s)\n",
      "2024-06-11 12:33:04.273 - amici.sbml_import - INFO - Finished importing SBML                         (4.03E-02s)\n",
      "2024-06-11 12:33:04.317 - amici.sbml_import - INFO - Finished processing SBML observables            (4.03E-02s)\n",
      "2024-06-11 12:33:04.321 - amici.sbml_import - INFO - Finished processing SBML event observables      (7.91E-07s)\n",
      "2024-06-11 12:33:04.343 - amici.de_model - INFO - Finished computing xdot                            (3.22E-03s)\n",
      "2024-06-11 12:33:04.350 - amici.de_model - INFO - Finished computing x0                              (2.88E-03s)\n",
      "2024-06-11 12:33:04.421 - amici.sbml_import - INFO - Finished loading SBML                           (6.69E-03s)\n",
      "2024-06-11 12:33:04.459 - amici.sbml_import - INFO - Finished importing SBML                         (3.58E-02s)\n",
      "2024-06-11 12:33:04.469 - amici.sbml_import - INFO - Finished processing SBML observables            (6.65E-03s)\n",
      "2024-06-11 12:33:04.473 - amici.sbml_import - INFO - Finished processing SBML event observables      (7.09E-07s)\n",
      "2024-06-11 12:33:04.491 - amici.de_model - INFO - Finished computing xdot                            (2.80E-03s)\n",
      "2024-06-11 12:33:04.498 - amici.de_model - INFO - Finished computing x0                              (3.23E-03s)\n",
      "2024-06-11 12:33:04.510 - amici.de_model - INFO - Finished computing w                               (9.37E-03s)\n",
      "2024-06-11 12:33:04.671 - amici.sbml_import - INFO - Finished loading SBML                           (1.12E-02s)\n",
      "2024-06-11 12:33:04.720 - amici.sbml_import - INFO - Finished importing SBML                         (4.62E-02s)\n",
      "2024-06-11 12:33:05.135 - amici.sbml_import - INFO - Finished loading SBML                           (1.23E-02s)\n",
      "2024-06-11 12:33:05.342 - amici.sbml_import - INFO - Finished loading SBML                           (8.64E-03s)\n",
      "2024-06-11 12:33:05.376 - amici.sbml_import - INFO - Finished importing SBML                         (3.13E-02s)\n",
      "2024-06-11 12:33:05.384 - amici.sbml_import - INFO - Finished processing SBML observables            (3.99E-03s)\n",
      "2024-06-11 12:33:05.388 - amici.sbml_import - INFO - Finished processing SBML event observables      (1.79E-06s)\n",
      "2024-06-11 12:33:05.404 - amici.de_model - INFO - Finished computing xdot                            (2.87E-03s)\n",
      "2024-06-11 12:33:05.411 - amici.de_model - INFO - Finished computing x0                              (3.10E-03s)\n",
      "2024-06-11 12:33:05.422 - amici.de_model - INFO - Finished computing w                               (7.68E-03s)\n",
      "2024-06-11 12:33:05.883 - amici.de_export - INFO - Finished generating cpp code                      (4.57E-01s)\n"
     ]
    }
   ],
   "execution_count": null
  },
  {
   "cell_type": "code",
   "id": "20e81d0cf6c529a3",
   "metadata": {
    "jupyter": {
     "is_executing": true
    }
   },
   "source": [
    "scan_results['Parmar-BMC-Syst-Biol-2017-iron-distribution.omex']"
   ],
   "outputs": [],
   "execution_count": null
  },
  {
   "cell_type": "code",
   "id": "48ede02f00a605a8",
   "metadata": {
    "jupyter": {
     "is_executing": true
    }
   },
   "source": [
    "scan_results['Szymanska-J-Theor-Biol-2009-HSP-synthesis.omex']"
   ],
   "outputs": [],
   "execution_count": null
  },
  {
   "cell_type": "code",
   "id": "293213b89fe528dc",
   "metadata": {
    "jupyter": {
     "is_executing": true
    }
   },
   "source": [
    "for f in scan_results.keys():\n",
    "    if not 'error' in scan_results[f].keys():\n",
    "        print(f)"
   ],
   "outputs": [],
   "execution_count": null
  },
  {
   "cell_type": "code",
   "id": "bb256260194b1fa8",
   "metadata": {
    "jupyter": {
     "is_executing": true
    }
   },
   "source": [
    "from biosimulator_processes.execute import exec_utc_comparison\n",
    "\n",
    "varusai_archive = os.path.join(source_dir, 'Varusai-Sci-Rep-2018-mTOR-signaling-LSODA-LSODAR-SBML.omex')\n",
    "caravagna_utc_comparison = exec_utc_comparison(varusai_archive, simulators)"
   ],
   "outputs": [],
   "execution_count": null
  },
  {
   "cell_type": "code",
   "id": "fcbf491226b59cdd",
   "metadata": {
    "jupyter": {
     "is_executing": true
    }
   },
   "source": "scan_results['Varusai-Sci-Rep-2018-mTOR-signaling-LSODA-LSODAR-SBML.omex']",
   "outputs": [],
   "execution_count": null
  },
  {
   "metadata": {
    "jupyter": {
     "is_executing": true
    }
   },
   "cell_type": "code",
   "source": [
    "amici_instance = composition.state['amici']['instance']\n",
    "\n",
    "amici_result = amici_instance.update(amici_instance.initial_state())"
   ],
   "id": "ed55dc6e0ae0ea20",
   "outputs": [],
   "execution_count": null
  },
  {
   "metadata": {
    "jupyter": {
     "is_executing": true
    }
   },
   "cell_type": "code",
   "source": "amici_instance.plot_results()",
   "id": "d82cdaf323e4b664",
   "outputs": [],
   "execution_count": null
  },
  {
   "metadata": {
    "jupyter": {
     "is_executing": true
    }
   },
   "cell_type": "code",
   "source": "emitter = composition.state['emitter']['instance']",
   "id": "dca04656576e9d68",
   "outputs": [],
   "execution_count": null
  },
  {
   "metadata": {
    "jupyter": {
     "is_executing": true
    }
   },
   "cell_type": "code",
   "source": "dir(emitter)",
   "id": "8b86ce39b586572d",
   "outputs": [],
   "execution_count": null
  },
  {
   "metadata": {
    "jupyter": {
     "is_executing": true
    }
   },
   "cell_type": "code",
   "source": "emitter.inputs()",
   "id": "82b08fe415d96a79",
   "outputs": [],
   "execution_count": null
  },
  {
   "metadata": {
    "jupyter": {
     "is_executing": true
    }
   },
   "cell_type": "code",
   "source": "update = emitter.invoke(composition.state['amici']['instance'].initial_state())",
   "id": "c15a3300b367ce93",
   "outputs": [],
   "execution_count": null
  },
  {
   "metadata": {
    "jupyter": {
     "is_executing": true
    }
   },
   "cell_type": "code",
   "source": "update.__dict__",
   "id": "7444e4e583c34c8e",
   "outputs": [],
   "execution_count": null
  },
  {
   "metadata": {
    "jupyter": {
     "is_executing": true
    }
   },
   "cell_type": "code",
   "source": [
    "shared_store_composition_doc = {\n",
    "    'amici': {\n",
    "        '_type': 'step',\n",
    "        'address': 'local:utc-amici',\n",
    "        'config': {\n",
    "            'model': {\n",
    "                'model_source': omex_fp\n",
    "            }\n",
    "        },\n",
    "        'inputs': {\n",
    "            'time': ['time_store'],\n",
    "            'floating_species': ['floating_species_store'],\n",
    "            'model_parameters': ['model_parameters_store'],\n",
    "            'reactions': ['reactions_store']\n",
    "        },\n",
    "        'outputs': {\n",
    "            'time': ['time_store'],\n",
    "            'floating_species': ['floating_species_store']\n",
    "        }\n",
    "    },\n",
    "    'copasi': {\n",
    "        '_type': 'step',\n",
    "        'address': 'local:utc-copasi',\n",
    "        'config': {\n",
    "            'model': {\n",
    "                'model_source': omex_fp\n",
    "            }\n",
    "        },\n",
    "        'inputs': {\n",
    "            'time': ['time_store'],\n",
    "            'floating_species': ['floating_species_store'],\n",
    "            'model_parameters': ['model_parameters_store'],\n",
    "            'reactions': ['reactions_store']\n",
    "        },\n",
    "        'outputs': {\n",
    "            'time': ['time_store'],\n",
    "            'floating_species': ['floating_species_store']\n",
    "        }\n",
    "    },\n",
    "    'tellurium': {\n",
    "        '_type': 'step',\n",
    "        'address': 'local:utc-tellurium',\n",
    "        'config': {\n",
    "            'model': {\n",
    "                'model_source': omex_fp\n",
    "            }\n",
    "        },\n",
    "        'inputs': {\n",
    "            'time': ['time_store'],\n",
    "            'floating_species': ['floating_species_store'],\n",
    "            'model_parameters': ['model_parameters_store'],\n",
    "            'reactions': ['reactions_store']\n",
    "        },\n",
    "        'outputs': {\n",
    "            'time': ['time_store'],\n",
    "            'floating_species': ['floating_species_store']\n",
    "        }\n",
    "    },\n",
    "    'emitter': {\n",
    "        '_type': 'step',\n",
    "        'address': 'local:ram-emitter',\n",
    "        'config': {\n",
    "            'emit': {\n",
    "                'time': 'list[float]',\n",
    "                'floating_species': 'tree[float]',\n",
    "            }\n",
    "        },\n",
    "        'inputs': {\n",
    "            'time': ['time_store'],\n",
    "            'floating_species': ['floating_species_store']\n",
    "        }\n",
    "    }\n",
    "}\n",
    "\n",
    "\n",
    "shared_store_composition = Composite(config={'state': shared_store_composition_doc}, core=CORE)"
   ],
   "id": "466f5f946b5fc48c",
   "outputs": [],
   "execution_count": null
  },
  {
   "metadata": {
    "jupyter": {
     "is_executing": true
    }
   },
   "cell_type": "code",
   "source": "shared_store_composition.run(10)",
   "id": "47c746147243dc1c",
   "outputs": [],
   "execution_count": null
  },
  {
   "metadata": {
    "jupyter": {
     "is_executing": true
    }
   },
   "cell_type": "code",
   "source": "shared_res = shared_store_composition.gather_results()",
   "id": "774caa27804452a1",
   "outputs": [],
   "execution_count": null
  },
  {
   "metadata": {
    "jupyter": {
     "is_executing": true
    }
   },
   "cell_type": "code",
   "source": "shared_res",
   "id": "a0d0fe493b8d1790",
   "outputs": [],
   "execution_count": null
  },
  {
   "metadata": {
    "jupyter": {
     "is_executing": true
    }
   },
   "cell_type": "code",
   "source": [
    "from process_bigraph.experiments.growth_division import grow_divide_agent, Grow, Divide\n",
    "\n",
    "\n",
    "CORE.process_registry.register('grow', Grow)\n",
    "CORE.process_registry.register('divide', Divide)\n",
    "\n",
    "def test_grow_divide(core):\n",
    "    initial_mass = 1.0\n",
    "\n",
    "    grow_divide = grow_divide_agent(\n",
    "        {'grow': {'rate': 0.03}},\n",
    "        {'mass': initial_mass},\n",
    "        ['environment', '0'])\n",
    "\n",
    "    environment = {\n",
    "        'environment': {\n",
    "            '0': {\n",
    "                'mass': initial_mass,\n",
    "                'grow_divide': grow_divide}}}\n",
    "\n",
    "    composite = Composite({\n",
    "        'state': environment},\n",
    "        core=core)\n",
    "\n",
    "    updates = composite.update({}, 100.0)\n",
    "    assert '0_0_0_0_0' in composite.state['environment']\n",
    "    return updates "
   ],
   "id": "b2db83871b85cdc7",
   "outputs": [],
   "execution_count": null
  },
  {
   "metadata": {
    "jupyter": {
     "is_executing": true
    }
   },
   "cell_type": "code",
   "source": "grow_results = test_grow_divide(CORE)",
   "id": "83d572ec8b750c60",
   "outputs": [],
   "execution_count": null
  },
  {
   "metadata": {
    "jupyter": {
     "is_executing": true
    }
   },
   "cell_type": "code",
   "source": "grow_results",
   "id": "fd10fd366698429b",
   "outputs": [],
   "execution_count": null
  },
  {
   "metadata": {
    "jupyter": {
     "is_executing": true
    }
   },
   "cell_type": "code",
   "source": [
    "from process_bigraph.experiments.parameter_scan import test_parameter_scan\n",
    "\n",
    "\n",
    "def test_parameter_scan():\n",
    "    # TODO: make a parameter scan with a biosimulator process,\n",
    "    #   ie - Copasi\n",
    "\n",
    "    state = {\n",
    "        'scan': {\n",
    "            '_type': 'step',\n",
    "            'address': 'local:!process_bigraph.experiments.parameter_scan.ParameterScan',\n",
    "            'config': {\n",
    "                'parameter_ranges': [(\n",
    "                    ['rates', 'A', 'kdeg'], [0.0, 0.1, 1.0, 10.0])],\n",
    "                'process_address': 'local:!process_bigraph.experiments.parameter_scan.ToySystem',\n",
    "                'process_config': {\n",
    "                    'rates': {\n",
    "                        'A': {\n",
    "                            'ksynth': 1.0}}},\n",
    "                'observables': [\n",
    "                    ['species', 'A']],\n",
    "                'initial_state': {\n",
    "                    'species': {\n",
    "                        'A': 13.3333}},\n",
    "                'timestep': 1.0,\n",
    "                'runtime': 10},\n",
    "            'outputs': {\n",
    "                'results': ['results']}}}\n",
    "\n",
    "    # TODO: make a Workflow class that is a Step-composite\n",
    "    # scan = Workflow({\n",
    "    scan = Composite({\n",
    "        'bridge': {\n",
    "            'outputs': {\n",
    "                'results': ['results']}},\n",
    "        'state': state})\n",
    "            \n",
    "    # TODO: make a method so we can run it directly, provide some way to get the result out\n",
    "    # result = scan.update({})\n",
    "    result = scan.update({}, 0.0)\n",
    "    return result\n"
   ],
   "id": "238312de8109fcee",
   "outputs": [],
   "execution_count": null
  },
  {
   "metadata": {
    "jupyter": {
     "is_executing": true
    }
   },
   "cell_type": "code",
   "source": [
    "shared_store_composition = Composite({\n",
    "    'state': shared_store_composition_doc,\n",
    "    'bridge': {\n",
    "        'outputs': {\n",
    "            'floating_species': ['floating_species_store']\n",
    "        }\n",
    "    }\n",
    "}, CORE)"
   ],
   "id": "bd2365a255f7881e",
   "outputs": [],
   "execution_count": null
  },
  {
   "metadata": {
    "jupyter": {
     "is_executing": true
    }
   },
   "cell_type": "code",
   "source": [
    "result = shared_store_composition.update(shared_store_composition.state, 1.0)\n",
    "\n",
    "result"
   ],
   "id": "1a2d5ed76376ce66",
   "outputs": [],
   "execution_count": null
  },
  {
   "metadata": {
    "jupyter": {
     "is_executing": true
    }
   },
   "cell_type": "code",
   "source": "test_parameter_scan()",
   "id": "6dfc7ef0bb46bd7c",
   "outputs": [],
   "execution_count": null
  },
  {
   "metadata": {
    "jupyter": {
     "is_executing": true
    }
   },
   "cell_type": "code",
   "source": "composition.update({}, 0.0)",
   "id": "7c4443086ac79480",
   "outputs": [],
   "execution_count": null
  },
  {
   "metadata": {
    "jupyter": {
     "is_executing": true
    }
   },
   "cell_type": "code",
   "source": "composition.config",
   "id": "e021c0e66ed10fce",
   "outputs": [],
   "execution_count": null
  },
  {
   "metadata": {
    "jupyter": {
     "is_executing": true
    }
   },
   "cell_type": "code",
   "source": "composition.run(10)",
   "id": "c005d342fc361a06",
   "outputs": [],
   "execution_count": null
  },
  {
   "metadata": {
    "jupyter": {
     "is_executing": true
    }
   },
   "cell_type": "code",
   "source": "composition.steps_run",
   "id": "9ad83a7d89ec6a0c",
   "outputs": [],
   "execution_count": null
  },
  {
   "metadata": {
    "jupyter": {
     "is_executing": true
    }
   },
   "cell_type": "code",
   "source": "c = Composite(config={'state': manuscript, 'bridge': output_bridge}, core=CORE)",
   "id": "10f3eaa5462dc7e2",
   "outputs": [],
   "execution_count": null
  },
  {
   "metadata": {
    "jupyter": {
     "is_executing": true
    }
   },
   "cell_type": "code",
   "source": "c.bridge",
   "id": "74f1e8cba09d12c8",
   "outputs": [],
   "execution_count": null
  },
  {
   "metadata": {
    "jupyter": {
     "is_executing": true
    }
   },
   "cell_type": "code",
   "source": "c.run(1)",
   "id": "26966c3c3e1cc106",
   "outputs": [],
   "execution_count": null
  },
  {
   "metadata": {
    "jupyter": {
     "is_executing": true
    }
   },
   "cell_type": "code",
   "source": "c.gather_results()",
   "id": "b79226f788d215bb",
   "outputs": [],
   "execution_count": null
  },
  {
   "metadata": {
    "jupyter": {
     "is_executing": true
    }
   },
   "cell_type": "code",
   "source": [
    "x = {'outputEndTime': '100.0'}\n",
    "\n",
    "end = int(float(x['outputEndTime']))"
   ],
   "id": "1eb49e9329157643",
   "outputs": [],
   "execution_count": null
  },
  {
   "metadata": {
    "ExecuteTime": {
     "end_time": "2024-06-11T16:33:46.795743Z",
     "start_time": "2024-06-11T16:33:46.793326Z"
    }
   },
   "cell_type": "code",
   "source": "from biosimulator_processes.execute import exec_utc_comparison",
   "id": "cb4c4137347b7374",
   "outputs": [],
   "execution_count": 4
  },
  {
   "metadata": {
    "ExecuteTime": {
     "end_time": "2024-06-11T16:33:56.953325Z",
     "start_time": "2024-06-11T16:33:47.222456Z"
    }
   },
   "cell_type": "code",
   "source": "c = exec_utc_comparison(omex_fp, simulators, 'comparison', False)",
   "id": "43db458e74006ce",
   "outputs": [
    {
     "name": "stderr",
     "output_type": "stream",
     "text": [
      "2024-06-11 12:33:47.337 - amici.sbml_import - INFO - Finished importing SBML                         (3.70E-02s)\n",
      "2024-06-11 12:33:47.385 - amici.sbml_import - INFO - Finished processing SBML observables            (4.46E-02s)\n",
      "2024-06-11 12:33:47.389 - amici.sbml_import - INFO - Finished processing SBML event observables      (5.00E-07s)\n",
      "2024-06-11 12:33:47.412 - amici.de_model - INFO - Finished computing xdot                            (3.10E-03s)\n",
      "2024-06-11 12:33:47.418 - amici.de_model - INFO - Finished computing x0                              (2.91E-03s)\n",
      "2024-06-11 12:33:47.438 - amici.de_model - INFO - Finished computing w                               (1.61E-02s)\n",
      "2024-06-11 12:33:48.108 - amici.de_export - INFO - Finished generating cpp code                      (6.65E-01s)\n",
      "2024-06-11 12:33:56.815 - amici.de_export - INFO - Finished compiling cpp code                       (8.70E+00s)\n"
     ]
    }
   ],
   "execution_count": 5
  },
  {
   "metadata": {},
   "cell_type": "markdown",
   "source": "",
   "id": "70563bce9ae82894"
  },
  {
   "metadata": {
    "ExecuteTime": {
     "end_time": "2024-06-11T16:34:01.907396Z",
     "start_time": "2024-06-11T16:34:01.902605Z"
    }
   },
   "cell_type": "code",
   "source": "c['results']",
   "id": "8010150586bc21d3",
   "outputs": [
    {
     "data": {
      "text/plain": [
       "{'LacI protein': {'mse': {'amici': {'amici': 0.0,\n",
       "    'copasi': 3421.101751414077,\n",
       "    'tellurium': 1112642.3515076651},\n",
       "   'copasi': {'amici': 3421.101751414077,\n",
       "    'copasi': 0.0,\n",
       "    'tellurium': 1122517.493697266},\n",
       "   'tellurium': {'amici': 1112642.3515076651,\n",
       "    'copasi': 1122517.493697266,\n",
       "    'tellurium': 0.0}},\n",
       "  'prox': {'amici': {'amici': True, 'copasi': False, 'tellurium': False},\n",
       "   'copasi': {'amici': False, 'copasi': True, 'tellurium': False},\n",
       "   'tellurium': {'amici': False, 'copasi': False, 'tellurium': True}}},\n",
       " 'TetR protein': {'mse': {'amici': {'amici': 0.0,\n",
       "    'copasi': 3432.245484968864,\n",
       "    'tellurium': 1182387.32612705},\n",
       "   'copasi': {'amici': 3432.245484968864,\n",
       "    'copasi': 0.0,\n",
       "    'tellurium': 1178485.6823350259},\n",
       "   'tellurium': {'amici': 1182387.32612705,\n",
       "    'copasi': 1178485.6823350259,\n",
       "    'tellurium': 0.0}},\n",
       "  'prox': {'amici': {'amici': True, 'copasi': False, 'tellurium': False},\n",
       "   'copasi': {'amici': False, 'copasi': True, 'tellurium': False},\n",
       "   'tellurium': {'amici': False, 'copasi': False, 'tellurium': True}}},\n",
       " 'cI protein': {'mse': {'amici': {'amici': 0.0,\n",
       "    'copasi': 2786.9824083842086,\n",
       "    'tellurium': 1117982.7592305837},\n",
       "   'copasi': {'amici': 2786.9824083842086,\n",
       "    'copasi': 0.0,\n",
       "    'tellurium': 1113717.5149278461},\n",
       "   'tellurium': {'amici': 1117982.7592305837,\n",
       "    'copasi': 1113717.5149278461,\n",
       "    'tellurium': 0.0}},\n",
       "  'prox': {'amici': {'amici': True, 'copasi': False, 'tellurium': False},\n",
       "   'copasi': {'amici': False, 'copasi': True, 'tellurium': False},\n",
       "   'tellurium': {'amici': False, 'copasi': False, 'tellurium': True}}},\n",
       " 'LacI mRNA': {'mse': {'amici': {'amici': 0.0,\n",
       "    'copasi': 1.0884950422811668,\n",
       "    'tellurium': 305.76232201739214},\n",
       "   'copasi': {'amici': 1.0884950422811668,\n",
       "    'copasi': 0.0,\n",
       "    'tellurium': 307.2027588807725},\n",
       "   'tellurium': {'amici': 305.76232201739214,\n",
       "    'copasi': 307.2027588807725,\n",
       "    'tellurium': 0.0}},\n",
       "  'prox': {'amici': {'amici': True, 'copasi': False, 'tellurium': False},\n",
       "   'copasi': {'amici': False, 'copasi': True, 'tellurium': False},\n",
       "   'tellurium': {'amici': False, 'copasi': False, 'tellurium': True}}},\n",
       " 'TetR mRNA': {'mse': {'amici': {'amici': 0.0,\n",
       "    'copasi': 0.9251411538449499,\n",
       "    'tellurium': 305.03780258269074},\n",
       "   'copasi': {'amici': 0.9251411538449499,\n",
       "    'copasi': 0.0,\n",
       "    'tellurium': 302.54756286112666},\n",
       "   'tellurium': {'amici': 305.03780258269074,\n",
       "    'copasi': 302.54756286112666,\n",
       "    'tellurium': 0.0}},\n",
       "  'prox': {'amici': {'amici': True, 'copasi': False, 'tellurium': False},\n",
       "   'copasi': {'amici': False, 'copasi': True, 'tellurium': False},\n",
       "   'tellurium': {'amici': False, 'copasi': False, 'tellurium': True}}},\n",
       " 'cI mRNA': {'mse': {'amici': {'amici': 0.0,\n",
       "    'copasi': 0.7549451761493683,\n",
       "    'tellurium': 1.555328576292277e-07},\n",
       "   'copasi': {'amici': 0.7549451761493683,\n",
       "    'copasi': 0.0,\n",
       "    'tellurium': 0.7554635238249408},\n",
       "   'tellurium': {'amici': 1.555328576292277e-07,\n",
       "    'copasi': 0.7554635238249408,\n",
       "    'tellurium': 0.0}},\n",
       "  'prox': {'amici': {'amici': True, 'copasi': False, 'tellurium': True},\n",
       "   'copasi': {'amici': False, 'copasi': True, 'tellurium': False},\n",
       "   'tellurium': {'amici': True, 'copasi': False, 'tellurium': True}}}}"
      ]
     },
     "execution_count": 6,
     "metadata": {},
     "output_type": "execute_result"
    }
   ],
   "execution_count": 6
  },
  {
   "metadata": {},
   "cell_type": "code",
   "outputs": [],
   "execution_count": null,
   "source": "",
   "id": "4c1c8926c6654d7d"
  }
 ],
 "metadata": {
  "kernelspec": {
   "display_name": "Python 3 (ipykernel)",
   "language": "python",
   "name": "python3"
  },
  "language_info": {
   "codemirror_mode": {
    "name": "ipython",
    "version": 3
   },
   "file_extension": ".py",
   "mimetype": "text/x-python",
   "name": "python",
   "nbconvert_exporter": "python",
   "pygments_lexer": "ipython3",
   "version": "3.10.8"
  }
 },
 "nbformat": 4,
 "nbformat_minor": 5
}
