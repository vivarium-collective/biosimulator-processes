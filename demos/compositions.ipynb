{
 "cells": [
  {
   "cell_type": "code",
   "id": "initial_id",
   "metadata": {
    "collapsed": true,
    "ExecuteTime": {
     "end_time": "2024-06-05T17:03:18.015130Z",
     "start_time": "2024-06-05T17:03:16.280235Z"
    }
   },
   "source": [
    "import sys\n",
    "import os\n",
    "from tempfile import mkdtemp\n",
    "sys.path.insert(0, '..')\n",
    "\n",
    "import numpy as np\n",
    "from process_bigraph import Composite\n",
    "from process_bigraph.experiments.parameter_scan import RunProcess\n",
    "\n",
    "from biosimulator_processes import CORE \n"
   ],
   "outputs": [
    {
     "name": "stdout",
     "output_type": "stream",
     "text": [
      "Smoldyn is not properly installed in this environment and thus its process implementation cannot be registered. Please consult smoldyn documentation.\n",
      "Available processes:\n",
      "[ 'console-emitter',\n",
      "  'ram-emitter',\n",
      "  'composite',\n",
      "  'cobra-process',\n",
      "  'copasi-process',\n",
      "  'tellurium-process',\n",
      "  'utc-amici',\n",
      "  'utc-copasi',\n",
      "  'utc-tellurium',\n",
      "  'copasi-step',\n",
      "  'tellurium-step',\n",
      "  'amici-step',\n",
      "  'plotter',\n",
      "  'plotter2d',\n",
      "  'utc-comparator']\n"
     ]
    }
   ],
   "execution_count": 1
  },
  {
   "metadata": {},
   "cell_type": "markdown",
   "source": "1. Define inputs",
   "id": "9165e664873363fe"
  },
  {
   "metadata": {
    "ExecuteTime": {
     "end_time": "2024-06-05T17:03:33.297125Z",
     "start_time": "2024-06-05T17:03:33.293782Z"
    }
   },
   "cell_type": "code",
   "source": [
    "omex_dir = '../test_suite/examples/sbml-core/Elowitz-Nature-2000-Repressilator'\n",
    "omex_fp = omex_dir + '.omex'\n",
    "sbml_fp = os.path.join(omex_dir, 'BIOMD0000000012_url.xml')\n",
    "sedml_fp = os.path.join(omex_dir, 'simulation.sedml')\n",
    "reports_path = os.path.join(omex_dir, 'reports.h5')"
   ],
   "id": "e32e81f109f2fe22",
   "outputs": [],
   "execution_count": 3
  },
  {
   "metadata": {},
   "cell_type": "markdown",
   "source": "2. Define composition document (manuscript?)",
   "id": "4ef608a09737ab2f"
  },
  {
   "metadata": {
    "ExecuteTime": {
     "end_time": "2024-06-05T17:03:34.091916Z",
     "start_time": "2024-06-05T17:03:34.087915Z"
    }
   },
   "cell_type": "code",
   "source": [
    "manuscript = {\n",
    "    'amici': {\n",
    "        '_type': 'step',\n",
    "        'address': 'local:utc-amici',\n",
    "        'config': {\n",
    "            'model': {\n",
    "                'model_source': omex_fp\n",
    "            }\n",
    "        },\n",
    "        'inputs': {\n",
    "            'time': ['time_store'],\n",
    "            'floating_species': ['amici_floating_species_store'],\n",
    "            'model_parameters': ['amici_model_parameters_store'],\n",
    "            'reactions': ['amici_reactions_store']\n",
    "        },\n",
    "        'outputs': {\n",
    "            'time': ['time_store'],\n",
    "            'floating_species': ['amici_floating_species_store']\n",
    "        }\n",
    "    },\n",
    "    'copasi': {\n",
    "        '_type': 'step',\n",
    "        'address': 'local:utc-copasi',\n",
    "        'config': {\n",
    "            'model': {\n",
    "                'model_source': omex_fp\n",
    "            }\n",
    "        },\n",
    "        'inputs': {\n",
    "            'time': ['time_store'],\n",
    "            'floating_species': ['copasi_floating_species_store'],\n",
    "            'model_parameters': ['copasi_model_parameters_store'],\n",
    "            'reactions': ['copasi_reactions_store']\n",
    "        },\n",
    "        'outputs': {\n",
    "            'time': ['time_store'],\n",
    "            'floating_species': ['copasi_floating_species_store']\n",
    "        }\n",
    "    },\n",
    "    'tellurium': {\n",
    "        '_type': 'step',\n",
    "        'address': 'local:utc-tellurium',\n",
    "        'config': {\n",
    "            'model': {\n",
    "                'model_source': omex_fp\n",
    "            }\n",
    "        },\n",
    "        'inputs': {\n",
    "            'time': ['time_store'],\n",
    "            'floating_species': ['tellurium_floating_species_store'],\n",
    "            'model_parameters': ['tellurium_model_parameters_store'],\n",
    "            'reactions': ['tellurium_reactions_store']\n",
    "        },\n",
    "        'outputs': {\n",
    "            'time': ['time_store'],\n",
    "            'floating_species': ['tellurium_floating_species_store']\n",
    "        }\n",
    "    },\n",
    "    'comparison': {\n",
    "        '_type': 'step',\n",
    "        'address': 'local:utc-comparator',\n",
    "        'config': {\n",
    "            'simulators': ['amici', 'copasi', 'tellurium'],\n",
    "        },\n",
    "        'inputs': {\n",
    "            'time': ['time_store'],\n",
    "            'amici_floating_species': ['amici_floating_species_store'],\n",
    "            'copasi_floating_species': ['copasi_floating_species_store'],\n",
    "            'tellurium_floating_species': ['tellurium_floating_species_store'],\n",
    "        },\n",
    "        'outputs': {\n",
    "            'mean_squared_error': ['mean_squared_error_store'],\n",
    "            'proximity': ['proximity_store'],\n",
    "            'output_data': ['output_data_store']\n",
    "        }\n",
    "    },\n",
    "    'emitter': {\n",
    "        '_type': 'step',\n",
    "        'address': 'local:ram-emitter',\n",
    "        'config': {\n",
    "            'emit': {\n",
    "                'mean_squared_error': 'tree[string]',\n",
    "                'proximity': 'tree[string]',\n",
    "                'output_data': 'tree[string]'\n",
    "            }\n",
    "        },\n",
    "        'inputs': {\n",
    "            'mean_squared_error': ['mean_squared_error_store'],\n",
    "            'proximity': ['proximity_store'],\n",
    "            'output_data': ['output_data_store']\n",
    "        }\n",
    "    }\n",
    "}"
   ],
   "id": "5e17dc6634a6a7e5",
   "outputs": [],
   "execution_count": 4
  },
  {
   "metadata": {},
   "cell_type": "markdown",
   "source": "3. Create workflow",
   "id": "7cf0d15cc1729495"
  },
  {
   "metadata": {
    "ExecuteTime": {
     "end_time": "2024-06-05T17:03:50.245353Z",
     "start_time": "2024-06-05T17:03:39.545077Z"
    }
   },
   "cell_type": "code",
   "source": [
    "wf = Composite(\n",
    "    config={\n",
    "        'state': manuscript,\n",
    "        # 'bridge': {\n",
    "        #     'mean_squared_error': ['mean_squared_error_store'],\n",
    "        #     'proximity': ['proximity_store'],\n",
    "        #     'output_data': ['output_data_store']\n",
    "        # }\n",
    "    },\n",
    "    core=CORE\n",
    ")"
   ],
   "id": "1aeec4f4174184b1",
   "outputs": [
    {
     "name": "stderr",
     "output_type": "stream",
     "text": [
      "2024-06-05 13:03:39.635 - amici.sbml_import - INFO - Finished importing SBML                         (4.65E-02s)\n",
      "2024-06-05 13:03:39.688 - amici.sbml_import - INFO - Finished processing SBML observables            (4.90E-02s)\n",
      "2024-06-05 13:03:39.692 - amici.sbml_import - INFO - Finished processing SBML event observables      (4.58E-07s)\n",
      "2024-06-05 13:03:39.716 - amici.de_model - INFO - Finished computing xdot                            (3.42E-03s)\n",
      "2024-06-05 13:03:39.723 - amici.de_model - INFO - Finished computing x0                              (3.00E-03s)\n",
      "2024-06-05 13:03:39.745 - amici.de_model - INFO - Finished computing w                               (1.73E-02s)\n",
      "2024-06-05 13:03:40.498 - amici.de_export - INFO - Finished generating cpp code                      (7.46E-01s)\n",
      "2024-06-05 13:03:49.863 - amici.de_export - INFO - Finished compiling cpp code                       (9.36E+00s)\n"
     ]
    }
   ],
   "execution_count": 6
  },
  {
   "metadata": {
    "ExecuteTime": {
     "end_time": "2024-06-05T17:03:53.973863Z",
     "start_time": "2024-06-05T17:03:53.968721Z"
    }
   },
   "cell_type": "code",
   "source": "dir(wf)",
   "id": "34c6fc7f70d86fd1",
   "outputs": [
    {
     "data": {
      "text/plain": [
       "['__class__',\n",
       " '__delattr__',\n",
       " '__dict__',\n",
       " '__dir__',\n",
       " '__doc__',\n",
       " '__eq__',\n",
       " '__format__',\n",
       " '__ge__',\n",
       " '__getattribute__',\n",
       " '__getstate__',\n",
       " '__gt__',\n",
       " '__hash__',\n",
       " '__init__',\n",
       " '__init_subclass__',\n",
       " '__le__',\n",
       " '__lt__',\n",
       " '__module__',\n",
       " '__ne__',\n",
       " '__new__',\n",
       " '__reduce__',\n",
       " '__reduce_ex__',\n",
       " '__repr__',\n",
       " '__setattr__',\n",
       " '__sizeof__',\n",
       " '__str__',\n",
       " '__subclasshook__',\n",
       " '__weakref__',\n",
       " 'apply_updates',\n",
       " 'bridge',\n",
       " 'bridge_updates',\n",
       " 'composition',\n",
       " 'config',\n",
       " 'config_schema',\n",
       " 'core',\n",
       " 'cycle_step_state',\n",
       " 'determine_steps',\n",
       " 'edge_paths',\n",
       " 'emit_port',\n",
       " 'emitter_paths',\n",
       " 'expire_process_paths',\n",
       " 'find_instance_paths',\n",
       " 'front',\n",
       " 'gather_results',\n",
       " 'global_time_precision',\n",
       " 'initial_state',\n",
       " 'inputs',\n",
       " 'interface',\n",
       " 'invoke',\n",
       " 'merge',\n",
       " 'node_dependencies',\n",
       " 'outputs',\n",
       " 'process_paths',\n",
       " 'process_schema',\n",
       " 'process_update',\n",
       " 'reset_step_state',\n",
       " 'run',\n",
       " 'run_process',\n",
       " 'run_steps',\n",
       " 'state',\n",
       " 'step_dependencies',\n",
       " 'step_paths',\n",
       " 'step_triggers',\n",
       " 'steps_remaining',\n",
       " 'steps_run',\n",
       " 'to_run',\n",
       " 'trigger_state',\n",
       " 'trigger_steps',\n",
       " 'update']"
      ]
     },
     "execution_count": 7,
     "metadata": {},
     "output_type": "execute_result"
    }
   ],
   "execution_count": 7
  },
  {
   "metadata": {
    "ExecuteTime": {
     "end_time": "2024-06-05T18:19:29.541728Z",
     "start_time": "2024-06-05T18:19:29.534846Z"
    }
   },
   "cell_type": "code",
   "source": "wf.outputs()",
   "id": "276d84869f338c02",
   "outputs": [
    {
     "data": {
      "text/plain": [
       "{}"
      ]
     },
     "execution_count": 8,
     "metadata": {},
     "output_type": "execute_result"
    }
   ],
   "execution_count": 8
  },
  {
   "metadata": {
    "ExecuteTime": {
     "end_time": "2024-06-05T18:20:20.289429Z",
     "start_time": "2024-06-05T18:20:20.285019Z"
    }
   },
   "cell_type": "code",
   "source": "wf.inputs()",
   "id": "e04b13b1e3fe0c6c",
   "outputs": [
    {
     "data": {
      "text/plain": [
       "{}"
      ]
     },
     "execution_count": 10,
     "metadata": {},
     "output_type": "execute_result"
    }
   ],
   "execution_count": 10
  },
  {
   "metadata": {
    "ExecuteTime": {
     "end_time": "2024-06-05T19:37:25.887581Z",
     "start_time": "2024-06-05T19:37:25.880424Z"
    }
   },
   "cell_type": "code",
   "source": [
    "x = {'a': [1, 2, 3], 'b': [3, 4, 5]}\n",
    "\n",
    "list(x.values())"
   ],
   "id": "59110d5d8222b511",
   "outputs": [
    {
     "data": {
      "text/plain": [
       "[[1, 2, 3], [3, 4, 5]]"
      ]
     },
     "execution_count": 11,
     "metadata": {},
     "output_type": "execute_result"
    }
   ],
   "execution_count": 11
  },
  {
   "metadata": {},
   "cell_type": "code",
   "outputs": [],
   "execution_count": null,
   "source": "",
   "id": "5d60233bca6646da"
  }
 ],
 "metadata": {
  "kernelspec": {
   "display_name": "Python 3",
   "language": "python",
   "name": "python3"
  },
  "language_info": {
   "codemirror_mode": {
    "name": "ipython",
    "version": 2
   },
   "file_extension": ".py",
   "mimetype": "text/x-python",
   "name": "python",
   "nbconvert_exporter": "python",
   "pygments_lexer": "ipython2",
   "version": "2.7.6"
  }
 },
 "nbformat": 4,
 "nbformat_minor": 5
}
