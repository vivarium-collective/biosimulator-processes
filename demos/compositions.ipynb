{
 "cells": [
  {
   "cell_type": "code",
   "id": "initial_id",
   "metadata": {
    "jupyter": {
     "is_executing": true
    }
   },
   "source": [
    "import sys\n",
    "import os\n",
    "from tempfile import mkdtemp\n",
    "sys.path.insert(0, '..')\n",
    "\n",
    "import numpy as np\n",
    "from process_bigraph import Composite, pp\n",
    "from process_bigraph.experiments.parameter_scan import RunProcess\n",
    "\n",
    "from biosimulator_processes import CORE \n"
   ],
   "execution_count": null,
   "outputs": []
  },
  {
   "cell_type": "markdown",
   "id": "9165e664873363fe",
   "metadata": {},
   "source": [
    "1. Define inputs"
   ]
  },
  {
   "cell_type": "code",
   "id": "e32e81f109f2fe22",
   "metadata": {
    "ExecuteTime": {
     "end_time": "2024-06-20T18:26:24.337145Z",
     "start_time": "2024-06-20T18:26:24.334791Z"
    }
   },
   "source": [
    "omex_dir = '../test_suite/examples/sbml-core/Vilar-PNAS-2002-minimal-circardian-clock-discrete-SSA'  #  Elowitz-Nature-2000-Repressilator'\n",
    "omex_fp = omex_dir + '.omex'\n",
    "sbml_fp = os.path.join(omex_dir, 'BIOMD0000000012_url.xml')\n",
    "sedml_fp = os.path.join(omex_dir, 'simulation.sedml')\n",
    "reports_path = os.path.join(omex_dir, 'reports.h5')\n",
    "simulators = ['amici', 'copasi', 'tellurium']"
   ],
   "execution_count": 2,
   "outputs": []
  },
  {
   "metadata": {
    "ExecuteTime": {
     "end_time": "2024-06-20T18:22:24.660608Z",
     "start_time": "2024-06-20T18:22:24.655601Z"
    }
   },
   "cell_type": "code",
   "source": [
    "from biosimulator_processes.helpers import check_ode_kisao_term, calc_step_size\n",
    "from biosimulator_processes.io import get_sedml_time_config\n",
    "def _get_sedml_time_params(omex_path: str):\n",
    "    sedml_fp = None\n",
    "    for f in os.listdir(omex_path):\n",
    "        if f.endswith('.sedml'):\n",
    "            sedml_fp = os.path.join(omex_path, f)\n",
    "    assert sedml_fp is not None, 'Your OMEX archive must contain a valid SEDML file.'\n",
    "    # sedml_fp = os.path.join(omex_path, 'simulation.sedml')\n",
    "    sedml_utc_config = get_sedml_time_config(sedml_fp)\n",
    "    output_end = int(sedml_utc_config['outputEndTime'])\n",
    "    output_start = int(sedml_utc_config['outputStartTime'])\n",
    "    duration = output_end - output_start\n",
    "    n_steps = int(sedml_utc_config['numberOfPoints'])\n",
    "    # check kisao id for supported algorithm/kisao ID\n",
    "    specified_alg = sedml_utc_config['algorithm'].split(':')[1]\n",
    "    supported_alg = check_ode_kisao_term(specified_alg)\n",
    "    if not supported_alg:\n",
    "        raise ValueError('Algorithm specified in OMEX archive is non-deterministic and thus not supported by a Uniform Time Course implementation.')\n",
    "    return {\n",
    "        'duration': output_end,  # duration,\n",
    "        'num_steps': n_steps + 1,  # to account for self comparison\n",
    "        'step_size': calc_step_size(duration, n_steps),\n",
    "        'output_start_time': output_start,\n",
    "        'initial_time': int(sedml_utc_config['initialTime']),\n",
    "    }\n",
    "\n",
    "\n",
    "time = _get_sedml_time_params(omex_dir)\n",
    "\n",
    "time"
   ],
   "id": "dfd4758616352f80",
   "execution_count": 11,
   "outputs": []
  },
  {
   "metadata": {
    "ExecuteTime": {
     "end_time": "2024-06-20T18:21:21.946998Z",
     "start_time": "2024-06-20T18:21:21.944479Z"
    }
   },
   "cell_type": "code",
   "source": "time['alg'].split(':')[1]",
   "id": "3d32bbfcaedf8036",
   "execution_count": 8,
   "outputs": []
  },
  {
   "cell_type": "markdown",
   "id": "4ef608a09737ab2f",
   "metadata": {},
   "source": [
    "2. Define composition document (manuscript?)"
   ]
  },
  {
   "cell_type": "code",
   "id": "5e17dc6634a6a7e5",
   "metadata": {
    "ExecuteTime": {
     "end_time": "2024-06-20T11:12:54.675862Z",
     "start_time": "2024-06-20T11:12:54.671635Z"
    }
   },
   "source": [
    "manuscript = {\n",
    "    'amici': {\n",
    "        '_type': 'step',\n",
    "        'address': 'local:utc-amici',\n",
    "        'config': {\n",
    "            'model': {\n",
    "                'model_source': omex_fp\n",
    "            }\n",
    "        },\n",
    "        'inputs': {\n",
    "            'time': ['time_store'],\n",
    "            'floating_species': ['amici_floating_species_store'],\n",
    "            'model_parameters': ['amici_model_parameters_store'],\n",
    "            'reactions': ['amici_reactions_store']\n",
    "        },\n",
    "        'outputs': {\n",
    "            'time': ['time_store'],\n",
    "            'floating_species': ['amici_floating_species_store']\n",
    "        }\n",
    "    },\n",
    "    'copasi': {\n",
    "        '_type': 'step',\n",
    "        'address': 'local:utc-copasi',\n",
    "        'config': {\n",
    "            'model': {\n",
    "                'model_source': omex_fp\n",
    "            }\n",
    "        },\n",
    "        'inputs': {\n",
    "            'time': ['time_store'],\n",
    "            'floating_species': ['copasi_floating_species_store'],\n",
    "            'model_parameters': ['copasi_model_parameters_store'],\n",
    "            'reactions': ['copasi_reactions_store']\n",
    "        },\n",
    "        'outputs': {\n",
    "            'time': ['time_store'],\n",
    "            'floating_species': ['copasi_floating_species_store']\n",
    "        }\n",
    "    },\n",
    "    'tellurium': {\n",
    "        '_type': 'step',\n",
    "        'address': 'local:utc-tellurium',\n",
    "        'config': {\n",
    "            'model': {\n",
    "                'model_source': omex_fp\n",
    "            }\n",
    "        },\n",
    "        'inputs': {\n",
    "            'time': ['time_store'],\n",
    "            'floating_species': ['tellurium_floating_species_store'],\n",
    "            'model_parameters': ['tellurium_model_parameters_store'],\n",
    "            'reactions': ['tellurium_reactions_store']\n",
    "        },\n",
    "        'outputs': {\n",
    "            'time': ['time_store'],\n",
    "            'floating_species': ['tellurium_floating_species_store']\n",
    "        }\n",
    "    },\n",
    "    'comparison': {\n",
    "        '_type': 'step',\n",
    "        'address': 'local:utc-comparator',\n",
    "        'config': {\n",
    "            'simulators': ['amici', 'copasi', 'tellurium'],\n",
    "        },\n",
    "        'inputs': {\n",
    "            'time': ['time_store'],\n",
    "            'amici_floating_species': ['amici_floating_species_store'],\n",
    "            'copasi_floating_species': ['copasi_floating_species_store'],\n",
    "            'tellurium_floating_species': ['tellurium_floating_species_store'],\n",
    "        },\n",
    "        'outputs': {\n",
    "            'results': ['results_store'],\n",
    "            'id': ['id_store']\n",
    "        }\n",
    "    },\n",
    "    'emitter': {\n",
    "        '_type': 'step',\n",
    "        'address': 'local:ram-emitter',\n",
    "        'config': {\n",
    "            'emit': {\n",
    "                'results': 'tree[float]',\n",
    "                'id': 'string'\n",
    "            }\n",
    "        },\n",
    "        'inputs': {\n",
    "            'results': ['results_store'],\n",
    "            'id': ['id_store']\n",
    "        },\n",
    "        # 'outputs': {\n",
    "        #     'results': ['results_store'],\n",
    "        #     'id': ['id_store']\n",
    "        # }\n",
    "    }\n",
    "}\n",
    "\n",
    "\n",
    "output_bridge = {\n",
    "    'inputs': {\n",
    "        'results': ['results_store'],\n",
    "        'id': ['id_store']\n",
    "    },\n",
    "    'outputs': {\n",
    "        'results': ['results_store'],\n",
    "        'id': ['id_store']\n",
    "    }\n",
    "}"
   ],
   "execution_count": 3,
   "outputs": []
  },
  {
   "cell_type": "markdown",
   "id": "7cf0d15cc1729495",
   "metadata": {},
   "source": [
    "3. Create composition with doc specifications"
   ]
  },
  {
   "cell_type": "code",
   "id": "1aeec4f4174184b1",
   "metadata": {
    "ExecuteTime": {
     "end_time": "2024-06-20T11:13:06.252718Z",
     "start_time": "2024-06-20T11:12:56.509764Z"
    }
   },
   "source": [
    "composition_config = {'state': manuscript}  #, 'bridge': output_bridge}\n",
    "composition = Composite(\n",
    "    config=composition_config,\n",
    "    core=CORE\n",
    ")"
   ],
   "execution_count": 4,
   "outputs": []
  },
  {
   "cell_type": "code",
   "id": "69119aa1ee569aa",
   "metadata": {
    "ExecuteTime": {
     "end_time": "2024-06-20T11:13:23.881303Z",
     "start_time": "2024-06-20T11:13:23.879119Z"
    }
   },
   "source": [
    "composition.run(1)"
   ],
   "execution_count": 5,
   "outputs": []
  },
  {
   "cell_type": "code",
   "id": "4ab7bd7b644ed0a0",
   "metadata": {
    "ExecuteTime": {
     "end_time": "2024-06-20T11:13:24.370300Z",
     "start_time": "2024-06-20T11:13:24.368697Z"
    }
   },
   "source": [
    "composition_results = composition.gather_results()"
   ],
   "execution_count": 6,
   "outputs": []
  },
  {
   "cell_type": "code",
   "id": "113b924a12cf7797",
   "metadata": {
    "ExecuteTime": {
     "end_time": "2024-06-20T11:13:24.961620Z",
     "start_time": "2024-06-20T11:13:24.958095Z"
    }
   },
   "source": [
    "composition_results"
   ],
   "execution_count": 7,
   "outputs": []
  },
  {
   "cell_type": "code",
   "id": "ca4d5b1997e48cdb",
   "metadata": {
    "ExecuteTime": {
     "end_time": "2024-06-20T11:13:26.581344Z",
     "start_time": "2024-06-20T11:13:26.576029Z"
    }
   },
   "source": [
    "composition.state"
   ],
   "execution_count": 8,
   "outputs": []
  },
  {
   "cell_type": "code",
   "id": "6155c30e2a9996fb",
   "metadata": {
    "ExecuteTime": {
     "end_time": "2024-06-20T18:26:34.226756Z",
     "start_time": "2024-06-20T18:26:34.079380Z"
    }
   },
   "source": [
    "from biosimulator_processes.execute import exec_utc_comparison\n",
    "utc_comparison_result = exec_utc_comparison(omex_fp, simulators)\n",
    "\n",
    "\n",
    "utc_comparison_result"
   ],
   "execution_count": 3,
   "outputs": []
  },
  {
   "cell_type": "code",
   "id": "efd732ed2186c094",
   "metadata": {
    "ExecuteTime": {
     "end_time": "2024-06-11T16:32:51.113387Z",
     "start_time": "2024-06-11T16:32:42.794871Z"
    }
   },
   "source": [
    "\n",
    "_c = utc_comparison_result.copy()\n",
    "for spec_name, result in utc_comparison_result['results'].items():\n",
    "    _c['results'][spec_name].pop('output_data')\n",
    "pp(_c)"
   ],
   "execution_count": 14,
   "outputs": []
  },
  {
   "cell_type": "code",
   "id": "3ac5ebceb0f6a512",
   "metadata": {
    "ExecuteTime": {
     "end_time": "2024-06-11T16:32:51.116422Z",
     "start_time": "2024-06-11T16:32:51.114127Z"
    }
   },
   "source": [
    "utc_comparison_result['id']"
   ],
   "execution_count": 15,
   "outputs": []
  },
  {
   "cell_type": "code",
   "id": "b82ae305344c5297",
   "metadata": {
    "ExecuteTime": {
     "end_time": "2024-06-11T16:32:51.119433Z",
     "start_time": "2024-06-11T16:32:51.116966Z"
    }
   },
   "source": [
    "from biosimulator_processes.api.instance import UtcComparisonDocument\n",
    "doc = UtcComparisonDocument(model_source=omex_fp)"
   ],
   "execution_count": 16,
   "outputs": []
  },
  {
   "cell_type": "code",
   "id": "ba8f82b6498611fc",
   "metadata": {
    "ExecuteTime": {
     "end_time": "2024-06-11T16:32:51.122027Z",
     "start_time": "2024-06-11T16:32:51.119959Z"
    }
   },
   "source": [
    "doc"
   ],
   "execution_count": 17,
   "outputs": []
  },
  {
   "cell_type": "markdown",
   "id": "8b5cf5ec141aba0a",
   "metadata": {},
   "source": [
    "Perform an entire sbml source directory scan with the comparison:"
   ]
  },
  {
   "cell_type": "code",
   "id": "a964083cb61f895f",
   "metadata": {
    "ExecuteTime": {
     "start_time": "2024-06-11T16:32:51.122461Z"
    }
   },
   "source": [
    "from biosimulator_processes.execute import sbml_utc_comparison_scan\n",
    "\n",
    "source_dir = '../test_suite/examples/sbml-core'\n",
    "scan_results = sbml_utc_comparison_scan(source_dir, simulators)\n",
    "\n",
    "# successfully run\n",
    "scan_results.keys()"
   ],
   "execution_count": null,
   "outputs": []
  },
  {
   "cell_type": "code",
   "id": "20e81d0cf6c529a3",
   "metadata": {},
   "source": [
    "scan_results['Parmar-BMC-Syst-Biol-2017-iron-distribution.omex']"
   ],
   "execution_count": null,
   "outputs": []
  },
  {
   "cell_type": "code",
   "id": "48ede02f00a605a8",
   "metadata": {},
   "source": [
    "scan_results['Szymanska-J-Theor-Biol-2009-HSP-synthesis.omex']"
   ],
   "execution_count": null,
   "outputs": []
  },
  {
   "cell_type": "code",
   "id": "293213b89fe528dc",
   "metadata": {},
   "source": [
    "for f in scan_results.keys():\n",
    "    if not 'error' in scan_results[f].keys():\n",
    "        print(f)"
   ],
   "execution_count": null,
   "outputs": []
  },
  {
   "cell_type": "code",
   "id": "bb256260194b1fa8",
   "metadata": {},
   "source": [
    "from biosimulator_processes.execute import exec_utc_comparison\n",
    "\n",
    "varusai_archive = os.path.join(source_dir, 'Varusai-Sci-Rep-2018-mTOR-signaling-LSODA-LSODAR-SBML.omex')\n",
    "caravagna_utc_comparison = exec_utc_comparison(varusai_archive, simulators)"
   ],
   "execution_count": null,
   "outputs": []
  },
  {
   "cell_type": "code",
   "id": "fcbf491226b59cdd",
   "metadata": {},
   "source": "scan_results['Varusai-Sci-Rep-2018-mTOR-signaling-LSODA-LSODAR-SBML.omex']",
   "execution_count": null,
   "outputs": []
  },
  {
   "metadata": {},
   "cell_type": "code",
   "source": [
    "amici_instance = composition.state['amici']['instance']\n",
    "\n",
    "amici_result = amici_instance.update(amici_instance.initial_state())"
   ],
   "id": "ed55dc6e0ae0ea20",
   "execution_count": null,
   "outputs": []
  },
  {
   "metadata": {},
   "cell_type": "code",
   "source": "amici_instance.plot_results()",
   "id": "d82cdaf323e4b664",
   "execution_count": null,
   "outputs": []
  },
  {
   "metadata": {},
   "cell_type": "code",
   "source": "emitter = composition.state['emitter']['instance']",
   "id": "dca04656576e9d68",
   "execution_count": null,
   "outputs": []
  },
  {
   "metadata": {},
   "cell_type": "code",
   "source": "dir(emitter)",
   "id": "8b86ce39b586572d",
   "execution_count": null,
   "outputs": []
  },
  {
   "metadata": {},
   "cell_type": "code",
   "source": "emitter.inputs()",
   "id": "82b08fe415d96a79",
   "execution_count": null,
   "outputs": []
  },
  {
   "metadata": {},
   "cell_type": "code",
   "source": "update = emitter.invoke(composition.state['amici']['instance'].initial_state())",
   "id": "c15a3300b367ce93",
   "execution_count": null,
   "outputs": []
  },
  {
   "metadata": {},
   "cell_type": "code",
   "source": "update.__dict__",
   "id": "7444e4e583c34c8e",
   "execution_count": null,
   "outputs": []
  },
  {
   "metadata": {},
   "cell_type": "code",
   "source": [
    "shared_store_composition_doc = {\n",
    "    'amici': {\n",
    "        '_type': 'step',\n",
    "        'address': 'local:utc-amici',\n",
    "        'config': {\n",
    "            'model': {\n",
    "                'model_source': omex_fp\n",
    "            }\n",
    "        },\n",
    "        'inputs': {\n",
    "            'time': ['time_store'],\n",
    "            'floating_species': ['floating_species_store'],\n",
    "            'model_parameters': ['model_parameters_store'],\n",
    "            'reactions': ['reactions_store']\n",
    "        },\n",
    "        'outputs': {\n",
    "            'time': ['time_store'],\n",
    "            'floating_species': ['floating_species_store']\n",
    "        }\n",
    "    },\n",
    "    'copasi': {\n",
    "        '_type': 'step',\n",
    "        'address': 'local:utc-copasi',\n",
    "        'config': {\n",
    "            'model': {\n",
    "                'model_source': omex_fp\n",
    "            }\n",
    "        },\n",
    "        'inputs': {\n",
    "            'time': ['time_store'],\n",
    "            'floating_species': ['floating_species_store'],\n",
    "            'model_parameters': ['model_parameters_store'],\n",
    "            'reactions': ['reactions_store']\n",
    "        },\n",
    "        'outputs': {\n",
    "            'time': ['time_store'],\n",
    "            'floating_species': ['floating_species_store']\n",
    "        }\n",
    "    },\n",
    "    'tellurium': {\n",
    "        '_type': 'step',\n",
    "        'address': 'local:utc-tellurium',\n",
    "        'config': {\n",
    "            'model': {\n",
    "                'model_source': omex_fp\n",
    "            }\n",
    "        },\n",
    "        'inputs': {\n",
    "            'time': ['time_store'],\n",
    "            'floating_species': ['floating_species_store'],\n",
    "            'model_parameters': ['model_parameters_store'],\n",
    "            'reactions': ['reactions_store']\n",
    "        },\n",
    "        'outputs': {\n",
    "            'time': ['time_store'],\n",
    "            'floating_species': ['floating_species_store']\n",
    "        }\n",
    "    },\n",
    "    'emitter': {\n",
    "        '_type': 'step',\n",
    "        'address': 'local:ram-emitter',\n",
    "        'config': {\n",
    "            'emit': {\n",
    "                'time': 'list[float]',\n",
    "                'floating_species': 'tree[float]',\n",
    "            }\n",
    "        },\n",
    "        'inputs': {\n",
    "            'time': ['time_store'],\n",
    "            'floating_species': ['floating_species_store']\n",
    "        }\n",
    "    }\n",
    "}\n",
    "\n",
    "\n",
    "shared_store_composition = Composite(config={'state': shared_store_composition_doc}, core=CORE)"
   ],
   "id": "466f5f946b5fc48c",
   "execution_count": null,
   "outputs": []
  },
  {
   "metadata": {},
   "cell_type": "code",
   "source": "shared_store_composition.run(10)",
   "id": "47c746147243dc1c",
   "execution_count": null,
   "outputs": []
  },
  {
   "metadata": {},
   "cell_type": "code",
   "source": "shared_res = shared_store_composition.gather_results()",
   "id": "774caa27804452a1",
   "execution_count": null,
   "outputs": []
  },
  {
   "metadata": {},
   "cell_type": "code",
   "source": "shared_res",
   "id": "a0d0fe493b8d1790",
   "execution_count": null,
   "outputs": []
  },
  {
   "metadata": {},
   "cell_type": "code",
   "source": [
    "from process_bigraph.experiments.growth_division import grow_divide_agent, Grow, Divide\n",
    "\n",
    "\n",
    "CORE.process_registry.register('grow', Grow)\n",
    "CORE.process_registry.register('divide', Divide)\n",
    "\n",
    "def test_grow_divide(core):\n",
    "    initial_mass = 1.0\n",
    "\n",
    "    grow_divide = grow_divide_agent(\n",
    "        {'grow': {'rate': 0.03}},\n",
    "        {'mass': initial_mass},\n",
    "        ['environment', '0'])\n",
    "\n",
    "    environment = {\n",
    "        'environment': {\n",
    "            '0': {\n",
    "                'mass': initial_mass,\n",
    "                'grow_divide': grow_divide}}}\n",
    "\n",
    "    composite = Composite({\n",
    "        'state': environment},\n",
    "        core=core)\n",
    "\n",
    "    updates = composite.update({}, 100.0)\n",
    "    assert '0_0_0_0_0' in composite.state['environment']\n",
    "    return updates "
   ],
   "id": "b2db83871b85cdc7",
   "execution_count": null,
   "outputs": []
  },
  {
   "metadata": {},
   "cell_type": "code",
   "source": "grow_results = test_grow_divide(CORE)",
   "id": "83d572ec8b750c60",
   "execution_count": null,
   "outputs": []
  },
  {
   "metadata": {},
   "cell_type": "code",
   "source": "grow_results",
   "id": "fd10fd366698429b",
   "execution_count": null,
   "outputs": []
  },
  {
   "metadata": {},
   "cell_type": "code",
   "source": [
    "from process_bigraph.experiments.parameter_scan import test_parameter_scan\n",
    "\n",
    "\n",
    "def test_parameter_scan():\n",
    "    # TODO: make a parameter scan with a biosimulator process,\n",
    "    #   ie - Copasi\n",
    "\n",
    "    state = {\n",
    "        'scan': {\n",
    "            '_type': 'step',\n",
    "            'address': 'local:!process_bigraph.experiments.parameter_scan.ParameterScan',\n",
    "            'config': {\n",
    "                'parameter_ranges': [(\n",
    "                    ['rates', 'A', 'kdeg'], [0.0, 0.1, 1.0, 10.0])],\n",
    "                'process_address': 'local:!process_bigraph.experiments.parameter_scan.ToySystem',\n",
    "                'process_config': {\n",
    "                    'rates': {\n",
    "                        'A': {\n",
    "                            'ksynth': 1.0}}},\n",
    "                'observables': [\n",
    "                    ['species', 'A']],\n",
    "                'initial_state': {\n",
    "                    'species': {\n",
    "                        'A': 13.3333}},\n",
    "                'timestep': 1.0,\n",
    "                'runtime': 10},\n",
    "            'outputs': {\n",
    "                'results': ['results']}}}\n",
    "\n",
    "    # TODO: make a Workflow class that is a Step-composite\n",
    "    # scan = Workflow({\n",
    "    scan = Composite({\n",
    "        'bridge': {\n",
    "            'outputs': {\n",
    "                'results': ['results']}},\n",
    "        'state': state})\n",
    "            \n",
    "    # TODO: make a method so we can run it directly, provide some way to get the result out\n",
    "    # result = scan.update({})\n",
    "    result = scan.update({}, 0.0)\n",
    "    return result\n"
   ],
   "id": "238312de8109fcee",
   "execution_count": null,
   "outputs": []
  },
  {
   "metadata": {},
   "cell_type": "code",
   "source": [
    "shared_store_composition = Composite({\n",
    "    'state': shared_store_composition_doc,\n",
    "    'bridge': {\n",
    "        'outputs': {\n",
    "            'floating_species': ['floating_species_store']\n",
    "        }\n",
    "    }\n",
    "}, CORE)"
   ],
   "id": "bd2365a255f7881e",
   "execution_count": null,
   "outputs": []
  },
  {
   "metadata": {},
   "cell_type": "code",
   "source": [
    "result = shared_store_composition.update(shared_store_composition.state, 1.0)\n",
    "\n",
    "result"
   ],
   "id": "1a2d5ed76376ce66",
   "execution_count": null,
   "outputs": []
  },
  {
   "metadata": {},
   "cell_type": "code",
   "source": "test_parameter_scan()",
   "id": "6dfc7ef0bb46bd7c",
   "execution_count": null,
   "outputs": []
  },
  {
   "metadata": {},
   "cell_type": "code",
   "source": "composition.update({}, 0.0)",
   "id": "7c4443086ac79480",
   "execution_count": null,
   "outputs": []
  },
  {
   "metadata": {},
   "cell_type": "code",
   "source": "composition.config",
   "id": "e021c0e66ed10fce",
   "execution_count": null,
   "outputs": []
  },
  {
   "metadata": {},
   "cell_type": "code",
   "source": "composition.run(10)",
   "id": "c005d342fc361a06",
   "execution_count": null,
   "outputs": []
  },
  {
   "metadata": {},
   "cell_type": "code",
   "source": "composition.steps_run",
   "id": "9ad83a7d89ec6a0c",
   "execution_count": null,
   "outputs": []
  },
  {
   "metadata": {},
   "cell_type": "code",
   "source": "c = Composite(config={'state': manuscript, 'bridge': output_bridge}, core=CORE)",
   "id": "10f3eaa5462dc7e2",
   "execution_count": null,
   "outputs": []
  },
  {
   "metadata": {},
   "cell_type": "code",
   "source": "c.bridge",
   "id": "74f1e8cba09d12c8",
   "execution_count": null,
   "outputs": []
  },
  {
   "metadata": {},
   "cell_type": "code",
   "source": "c.run(1)",
   "id": "26966c3c3e1cc106",
   "execution_count": null,
   "outputs": []
  },
  {
   "metadata": {},
   "cell_type": "code",
   "source": "c.gather_results()",
   "id": "b79226f788d215bb",
   "execution_count": null,
   "outputs": []
  },
  {
   "metadata": {},
   "cell_type": "code",
   "source": [
    "x = {'outputEndTime': '100.0'}\n",
    "\n",
    "end = int(float(x['outputEndTime']))"
   ],
   "id": "1eb49e9329157643",
   "execution_count": null,
   "outputs": []
  },
  {
   "metadata": {
    "ExecuteTime": {
     "end_time": "2024-06-11T16:33:46.795743Z",
     "start_time": "2024-06-11T16:33:46.793326Z"
    }
   },
   "cell_type": "code",
   "source": "from biosimulator_processes.execute import exec_utc_comparison",
   "id": "cb4c4137347b7374",
   "execution_count": 4,
   "outputs": []
  },
  {
   "metadata": {
    "ExecuteTime": {
     "end_time": "2024-06-11T16:33:56.953325Z",
     "start_time": "2024-06-11T16:33:47.222456Z"
    }
   },
   "cell_type": "code",
   "source": "c = exec_utc_comparison(omex_fp, simulators, 'comparison', False)",
   "id": "43db458e74006ce",
   "execution_count": 5,
   "outputs": []
  },
  {
   "metadata": {},
   "cell_type": "markdown",
   "source": "",
   "id": "70563bce9ae82894"
  },
  {
   "metadata": {
    "ExecuteTime": {
     "end_time": "2024-06-11T16:34:01.907396Z",
     "start_time": "2024-06-11T16:34:01.902605Z"
    }
   },
   "cell_type": "code",
   "source": "c['results']",
   "id": "8010150586bc21d3",
   "execution_count": 6,
   "outputs": []
  },
  {
   "metadata": {},
   "cell_type": "code",
   "execution_count": null,
   "source": "",
   "id": "4c1c8926c6654d7d",
   "outputs": []
  }
 ],
 "metadata": {
  "kernelspec": {
   "display_name": "Python 3 (ipykernel)",
   "language": "python",
   "name": "python3"
  },
  "language_info": {
   "codemirror_mode": {
    "name": "ipython",
    "version": 3
   },
   "file_extension": ".py",
   "mimetype": "text/x-python",
   "name": "python",
   "nbconvert_exporter": "python",
   "pygments_lexer": "ipython3",
   "version": "3.10.8"
  }
 },
 "nbformat": 4,
 "nbformat_minor": 5
}
