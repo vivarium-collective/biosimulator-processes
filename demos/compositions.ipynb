{
 "cells": [
  {
   "cell_type": "code",
   "execution_count": 1,
   "outputs": [
    {
     "name": "stdout",
     "output_type": "stream",
     "text": [
      "CobraProcess registered successfully.\n",
      "CopasiProcess registered successfully.\n",
      "SmoldynProcess not available. Error: \n",
      "PLEASE NOTE: Smoldyn is not correctly installed on your system which prevents you from using the SmoldynProcess. Please refer to the README for further information on installing Smoldyn.\n",
      "TelluriumProcess registered successfully.\n"
     ]
    }
   ],
   "source": [
    "from biosimulator_processes.compare import ComparisonDocument   \n",
    "from process_bigraph import pp"
   ],
   "metadata": {
    "collapsed": false,
    "ExecuteTime": {
     "end_time": "2024-05-01T03:03:34.539917Z",
     "start_time": "2024-05-01T03:03:31.956073Z"
    }
   },
   "id": "1dc1ba69e5acc44"
  },
  {
   "cell_type": "code",
   "execution_count": 2,
   "outputs": [],
   "source": [
    "simulators = ['copasi', 'tellurium']  # , 'amici']\n",
    "duration = 30\n",
    "n_steps = 200\n",
    "model_filepath = '../biosimulator_processes/model_files/sbml/Caravagna2010.xml'\n",
    "\n",
    "\n",
    "comparison = ComparisonDocument(simulators, duration, n_steps, model_filepath)"
   ],
   "metadata": {
    "collapsed": false,
    "ExecuteTime": {
     "end_time": "2024-05-01T03:03:38.966950Z",
     "start_time": "2024-05-01T03:03:38.959698Z"
    }
   },
   "id": "d9fce82a600bb9af"
  },
  {
   "cell_type": "code",
   "execution_count": 3,
   "outputs": [
    {
     "name": "stdout",
     "output_type": "stream",
     "text": [
      "{ 'emitter': { '_type': 'step',\n",
      "               'address': 'local:ram-emitter',\n",
      "               'config': { 'emit': { 'floating_species_concentrations': 'tree[float]',\n",
      "                                     'time': 'float'}},\n",
      "               'inputs': { 'floating_species_concentrations': [ 'floating_species_concentrations_store'],\n",
      "                           'time': ['time_store']}},\n",
      "  'processes': { 'copasi': { '_type': 'process',\n",
      "                             'address': 'local:copasi',\n",
      "                             'config': { 'model': { 'model_source': '../biosimulator_processes/model_files/sbml/Caravagna2010.xml'}},\n",
      "                             'inputs': { 'floating_species_concentrations': [ 'floating_species_concentrations_store'],\n",
      "                                         'model_parameters': [ 'model_parameters_store'],\n",
      "                                         'reactions': ['reactions_store'],\n",
      "                                         'time': ['time_store']},\n",
      "                             'outputs': { 'floating_species_concentrations': [ 'floating_species_concentrations_store'],\n",
      "                                          'time': ['time_store']}},\n",
      "                 'duration': 30,\n",
      "                 'num_steps': 200,\n",
      "                 'tellurium': { '_type': 'process',\n",
      "                                'address': 'local:tellurium',\n",
      "                                'config': { 'model': { 'model_source': '../biosimulator_processes/model_files/sbml/Caravagna2010.xml'}},\n",
      "                                'inputs': { 'floating_species_concentrations': [ 'floating_species_concentrations_store'],\n",
      "                                            'model_parameters': [ 'model_parameters_store'],\n",
      "                                            'reactions': ['reactions_store'],\n",
      "                                            'time': ['time_store']},\n",
      "                                'outputs': { 'floating_species_concentrations': [ 'floating_species_concentrations_store'],\n",
      "                                             'time': ['time_store']}}}}\n"
     ]
    }
   ],
   "source": [
    "pp(comparison.composite)"
   ],
   "metadata": {
    "collapsed": false,
    "ExecuteTime": {
     "end_time": "2024-05-01T03:03:39.633617Z",
     "start_time": "2024-05-01T03:03:39.628549Z"
    }
   },
   "id": "57a94e90c5c2ba41"
  },
  {
   "cell_type": "code",
   "execution_count": null,
   "outputs": [],
   "source": [],
   "metadata": {
    "collapsed": false
   },
   "id": "7cc92217b1d89296"
  },
  {
   "cell_type": "code",
   "execution_count": null,
   "id": "initial_id",
   "metadata": {
    "collapsed": true
   },
   "outputs": [],
   "source": [
    "from process_bigraph import Process, Step, pp\n",
    "\n",
    "\n",
    "\n",
    "\n",
    "class SimulatorComparison(Process):\n",
    "    config_schema = {\n",
    "        'duration': 'number',  \n",
    "        'simulators': 'list[string]',\n",
    "        'framework_type': 'maybe[string]'  # ie: 'ode', 'stochastic', \"method\" types\n",
    "    }\n",
    "    \n",
    "    def __init__(self, config=None, core=None):\n",
    "        \"\"\"\n",
    "        1. create references to simulator processes\n",
    "        \n",
    "        \"\"\"\n",
    "        super().__init__(config, core)\n",
    "        \n",
    "        \n",
    " \n",
    " \n",
    " \n",
    " class GeneticParameterOptimizer(Process):\n",
    "     config_schema = {\n",
    "         'target_parameter': {  # experimental data\n",
    "             'name': 'string',\n",
    "             'target_value': 'float'\n",
    "         },\n",
    "         'comparison_results': 'tree[float]'  # sim1Name: values over time, sim2Name: etc\n",
    "     }\n",
    "     \n",
    "     def __init__(self, config=None, core=None):\n",
    "         super().__init__(config, core)\n",
    "         \n",
    "     def calculate_fitness(self, member: float) -> float:\n",
    "         return self.config['target_parameter']['target_value'] - member"
   ]
  }
 ],
 "metadata": {
  "kernelspec": {
   "display_name": "Python 3",
   "language": "python",
   "name": "python3"
  },
  "language_info": {
   "codemirror_mode": {
    "name": "ipython",
    "version": 2
   },
   "file_extension": ".py",
   "mimetype": "text/x-python",
   "name": "python",
   "nbconvert_exporter": "python",
   "pygments_lexer": "ipython2",
   "version": "2.7.6"
  }
 },
 "nbformat": 4,
 "nbformat_minor": 5
}
