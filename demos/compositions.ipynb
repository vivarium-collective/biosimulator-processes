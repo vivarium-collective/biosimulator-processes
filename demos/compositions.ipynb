{
 "cells": [
  {
   "cell_type": "code",
   "execution_count": 1,
   "outputs": [],
   "source": [
    "import sys\n",
    "\n",
    "sys.path.insert(0, '..')\n",
    "\n",
    "import os\n",
    "import requests\n",
    "import json"
   ],
   "metadata": {
    "collapsed": false,
    "ExecuteTime": {
     "end_time": "2024-05-01T06:59:29.944468Z",
     "start_time": "2024-05-01T06:59:29.895659Z"
    }
   },
   "id": "24fc5d62890368dd"
  },
  {
   "cell_type": "code",
   "execution_count": 2,
   "outputs": [
    {
     "name": "stdout",
     "output_type": "stream",
     "text": [
      "CobraProcess registered successfully.\n",
      "CopasiProcess registered successfully.\n",
      "SmoldynProcess not available. Error: \n",
      "PLEASE NOTE: Smoldyn is not correctly installed on your system which prevents you from using the SmoldynProcess. Please refer to the README for further information on installing Smoldyn.\n",
      "TelluriumProcess registered successfully.\n"
     ]
    }
   ],
   "source": [
    "from biosimulator_processes.compare import ComparisonDocument\n",
    "from biosimulator_processes import CORE\n",
    "from process_bigraph import pp, Composite"
   ],
   "metadata": {
    "collapsed": false,
    "ExecuteTime": {
     "end_time": "2024-05-01T06:59:32.978783Z",
     "start_time": "2024-05-01T06:59:30.225308Z"
    }
   },
   "id": "1dc1ba69e5acc44"
  },
  {
   "cell_type": "markdown",
   "source": [
    "### Example Composite process using copasi and tellurium"
   ],
   "metadata": {
    "collapsed": false
   },
   "id": "8491845ac8f593cd"
  },
  {
   "cell_type": "code",
   "execution_count": 3,
   "outputs": [],
   "source": [
    "simulators = ['copasi', 'tellurium']  # , 'amici']\n",
    "duration = 30\n",
    "n_steps = 200\n",
    "model_filepath = '../biosimulator_processes/model_files/sbml/Caravagna2010.xml'\n",
    "\n",
    "\n",
    "comparison = ComparisonDocument(simulators, duration, n_steps, model_filepath)"
   ],
   "metadata": {
    "collapsed": false,
    "ExecuteTime": {
     "end_time": "2024-05-01T06:59:32.979028Z",
     "start_time": "2024-05-01T06:59:32.976561Z"
    }
   },
   "id": "d9fce82a600bb9af"
  },
  {
   "cell_type": "code",
   "execution_count": 4,
   "outputs": [
    {
     "name": "stdout",
     "output_type": "stream",
     "text": [
      "{ 'processes': { 'copasi_0': { '_type': 'process',\n",
      "                               'address': 'local:copasi',\n",
      "                               'config': { 'model': { 'model_source': '../biosimulator_processes/model_files/sbml/Caravagna2010.xml'}},\n",
      "                               'inputs': { 'floating_species_concentrations': [ 'floating_species_concentrations_store'],\n",
      "                                           'model_parameters': [ 'model_parameters_store'],\n",
      "                                           'reactions': ['reactions_store'],\n",
      "                                           'time': ['time_store']},\n",
      "                               'outputs': { 'floating_species_concentrations': [ 'floating_species_concentrations_store'],\n",
      "                                            'time': ['time_store']}},\n",
      "                 'duration': 30,\n",
      "                 'emitter': { '_type': 'step',\n",
      "                              'address': 'local:ram-emitter',\n",
      "                              'config': { 'emit': { 'floating_species_concentrations': 'tree[float]',\n",
      "                                                    'time': 'float'}},\n",
      "                              'inputs': { 'floating_species_concentrations': [ 'floating_species_concentrations_store'],\n",
      "                                          'time': ['time_store']}},\n",
      "                 'num_steps': 200,\n",
      "                 'tellurium_1': { '_type': 'process',\n",
      "                                  'address': 'local:tellurium',\n",
      "                                  'config': { 'model': { 'model_source': '../biosimulator_processes/model_files/sbml/Caravagna2010.xml'}},\n",
      "                                  'inputs': { 'floating_species_concentrations': [ 'floating_species_concentrations_store'],\n",
      "                                              'model_parameters': [ 'model_parameters_store'],\n",
      "                                              'reactions': ['reactions_store'],\n",
      "                                              'time': ['time_store']},\n",
      "                                  'outputs': { 'floating_species_concentrations': [ 'floating_species_concentrations_store'],\n",
      "                                               'time': ['time_store']}}}}\n"
     ]
    }
   ],
   "source": [
    "pp(comparison.composite)"
   ],
   "metadata": {
    "collapsed": false,
    "ExecuteTime": {
     "end_time": "2024-05-01T06:59:32.985217Z",
     "start_time": "2024-05-01T06:59:32.981251Z"
    }
   },
   "id": "57a94e90c5c2ba41"
  },
  {
   "cell_type": "markdown",
   "source": [
    "### ODE Simulator Comparison"
   ],
   "metadata": {
    "collapsed": false
   },
   "id": "659245544fd8d1b3"
  },
  {
   "cell_type": "code",
   "execution_count": 5,
   "outputs": [],
   "source": [
    "from biosimulator_processes.compare import ComparisonDocument\n",
    "\n",
    "sbml_model_path = '../biosimulator_processes/model_files/sbml/BIOMD0000000630_url.xml'\n",
    "simulators = ['copasi', 'copasi']  # , 'tellurium']\n",
    "duration = 30 \n",
    "n_steps = 50 \n",
    "target_parameter = {\n",
    "    'name': 'plasmin',\n",
    "    'value': 2.01\n",
    "}\n",
    "\n",
    "\n",
    "def create_comparison_document(\n",
    "        sbml_model_path: str, \n",
    "        simulators: list[str], \n",
    "        duration: int, \n",
    "        n_steps: int, \n",
    "        target_param: dict = None\n",
    "        ) -> ComparisonDocument:\n",
    "    return ComparisonDocument(\n",
    "    simulators=simulators, \n",
    "    duration=duration, \n",
    "    num_steps=n_steps,\n",
    "    model_filepath=sbml_model_path,\n",
    "    target_parameter=target_param)\n",
    "\n",
    "\n",
    "def generate_workflow(document: ComparisonDocument):\n",
    "    return Composite(\n",
    "        config={'state': document.composite},\n",
    "        core=CORE)\n",
    "\n",
    "\n",
    "ode_comparison_document = create_comparison_document(sbml_model_path, simulators, duration, n_steps, target_parameter)"
   ],
   "metadata": {
    "collapsed": false,
    "ExecuteTime": {
     "end_time": "2024-05-01T06:59:32.991192Z",
     "start_time": "2024-05-01T06:59:32.986334Z"
    }
   },
   "id": "3cc9032bbca74784"
  },
  {
   "cell_type": "code",
   "execution_count": 6,
   "outputs": [
    {
     "name": "stdout",
     "output_type": "stream",
     "text": [
      "{ 'processes': { 'copasi_0': { '_type': 'process',\n",
      "                               'address': 'local:copasi',\n",
      "                               'config': { 'model': { 'model_source': '../biosimulator_processes/model_files/sbml/BIOMD0000000630_url.xml'}},\n",
      "                               'inputs': { 'floating_species_concentrations': [ 'floating_species_concentrations_store'],\n",
      "                                           'model_parameters': [ 'model_parameters_store'],\n",
      "                                           'reactions': ['reactions_store'],\n",
      "                                           'time': ['time_store']},\n",
      "                               'outputs': { 'floating_species_concentrations': [ 'floating_species_concentrations_store'],\n",
      "                                            'time': ['time_store']}},\n",
      "                 'copasi_1': { '_type': 'process',\n",
      "                               'address': 'local:copasi',\n",
      "                               'config': { 'model': { 'model_source': '../biosimulator_processes/model_files/sbml/BIOMD0000000630_url.xml'}},\n",
      "                               'inputs': { 'floating_species_concentrations': [ 'floating_species_concentrations_store'],\n",
      "                                           'model_parameters': [ 'model_parameters_store'],\n",
      "                                           'reactions': ['reactions_store'],\n",
      "                                           'time': ['time_store']},\n",
      "                               'outputs': { 'floating_species_concentrations': [ 'floating_species_concentrations_store'],\n",
      "                                            'time': ['time_store']}},\n",
      "                 'duration': 30,\n",
      "                 'emitter': { '_type': 'step',\n",
      "                              'address': 'local:ram-emitter',\n",
      "                              'config': { 'emit': { 'floating_species_concentrations': 'tree[float]',\n",
      "                                                    'time': 'float'}},\n",
      "                              'inputs': { 'floating_species_concentrations': [ 'floating_species_concentrations_store'],\n",
      "                                          'time': ['time_store']}},\n",
      "                 'num_steps': 50}}\n"
     ]
    }
   ],
   "source": [
    "pp(ode_comparison_document.composite)"
   ],
   "metadata": {
    "collapsed": false,
    "ExecuteTime": {
     "end_time": "2024-05-01T06:59:33.502935Z",
     "start_time": "2024-05-01T06:59:33.496658Z"
    }
   },
   "id": "5f99df92f1acbf52"
  },
  {
   "cell_type": "code",
   "execution_count": 7,
   "outputs": [
    {
     "name": "stdout",
     "output_type": "stream",
     "text": [
      "found a filepath\n",
      "found a filepath\n"
     ]
    }
   ],
   "source": [
    "ode_comparison_workflow = Composite(config={'state': ode_comparison_document.composite}, core=CORE)"
   ],
   "metadata": {
    "collapsed": false,
    "ExecuteTime": {
     "end_time": "2024-05-01T06:59:34.342968Z",
     "start_time": "2024-05-01T06:59:34.257050Z"
    }
   },
   "id": "9c44bd491ad5ddb0"
  },
  {
   "cell_type": "code",
   "execution_count": 8,
   "outputs": [],
   "source": [
    "ode_comparison_workflow.run(duration)\n",
    "ode_comparison_results = ode_comparison_workflow.gather_results()"
   ],
   "metadata": {
    "collapsed": false,
    "ExecuteTime": {
     "end_time": "2024-05-01T06:59:34.956538Z",
     "start_time": "2024-05-01T06:59:34.946595Z"
    }
   },
   "id": "a52b1903520045a0"
  },
  {
   "cell_type": "code",
   "execution_count": 9,
   "outputs": [
    {
     "data": {
      "text/plain": "{}"
     },
     "execution_count": 9,
     "metadata": {},
     "output_type": "execute_result"
    }
   ],
   "source": [
    "ode_comparison_results"
   ],
   "metadata": {
    "collapsed": false,
    "ExecuteTime": {
     "end_time": "2024-05-01T06:59:35.546107Z",
     "start_time": "2024-05-01T06:59:35.539397Z"
    }
   },
   "id": "806d60012d71a2eb"
  },
  {
   "cell_type": "code",
   "execution_count": 9,
   "outputs": [],
   "source": [],
   "metadata": {
    "collapsed": false,
    "ExecuteTime": {
     "end_time": "2024-05-01T06:56:28.165350Z",
     "start_time": "2024-05-01T06:56:28.160529Z"
    }
   },
   "id": "da55f1556e28363f"
  },
  {
   "cell_type": "code",
   "execution_count": 9,
   "outputs": [],
   "source": [],
   "metadata": {
    "collapsed": false,
    "ExecuteTime": {
     "end_time": "2024-05-01T06:56:28.166914Z",
     "start_time": "2024-05-01T06:56:28.163347Z"
    }
   },
   "id": "3330d11b7b80252b"
  },
  {
   "cell_type": "code",
   "execution_count": 10,
   "outputs": [],
   "source": [
    "import tellurium as te\n",
    "\n",
    "simulator = te.loadSBMLModel('../biosimulator_processes/model_files/sbml/BIOMD0000000630_url.xml')\n"
   ],
   "metadata": {
    "collapsed": false,
    "ExecuteTime": {
     "end_time": "2024-05-01T06:56:28.959849Z",
     "start_time": "2024-05-01T06:56:28.167336Z"
    }
   },
   "id": "5f07a08ac835b2b5"
  },
  {
   "cell_type": "code",
   "execution_count": 11,
   "outputs": [
    {
     "data": {
      "text/plain": "['_ExtendedRoadRunner__getSBML',\n '_RoadRunner__simulateOld',\n '_RoadRunner__simulateOptions',\n '__class__',\n '__delattr__',\n '__dict__',\n '__dir__',\n '__doc__',\n '__eq__',\n '__format__',\n '__ge__',\n '__getattr__',\n '__getattribute__',\n '__getitem__',\n '__getstate__',\n '__gt__',\n '__hash__',\n '__init__',\n '__init_subclass__',\n '__le__',\n '__len__',\n '__lt__',\n '__module__',\n '__ne__',\n '__new__',\n '__reduce__',\n '__reduce_ex__',\n '__repr__',\n '__setattr__',\n '__setitem__',\n '__setstate__',\n '__sizeof__',\n '__str__',\n '__subclasshook__',\n '__swig_destroy__',\n '__weakref__',\n '_addCompartment',\n '_addParameter',\n '_addReaction',\n '_addSpeciesAmount',\n '_addSpeciesConcentration',\n '_diffstep_getter',\n '_diffstep_stter',\n '_getConservedMoietyAnalysis',\n '_getDependentFloatingSpeciesIds',\n '_getIds',\n '_getIndependentFloatingSpeciesIds',\n '_getModel',\n '_getSelections',\n '_getSteadyStateSelections',\n '_getValue',\n '_load',\n '_makeProperties',\n '_model_functions',\n '_new_init',\n '_properties',\n '_setConservedMoietyAnalysis',\n '_setConservedMoietyAnalysisProxy',\n '_setSelections',\n '_setSimulateOptionsTimes',\n '_setSteadyStateSelections',\n '_simulate',\n '_steadyStateThresh_getter',\n '_steadyStateThresh_setter',\n '_swig_init',\n 'addAssignmentRule',\n 'addCompartment',\n 'addDelay',\n 'addEvent',\n 'addEventAssignment',\n 'addInitialAssignment',\n 'addParameter',\n 'addPriority',\n 'addRateRule',\n 'addReaction',\n 'addSpecies',\n 'addSpeciesAmount',\n 'addSpeciesConcentration',\n 'addTrigger',\n 'bs',\n 'clearModel',\n 'compartment_1',\n 'conservedMoietyAnalysis',\n 'createSelection',\n 'diffstep',\n 'draw',\n 'dv',\n 'exportToAntimony',\n 'exportToCellML',\n 'exportToMatlab',\n 'exportToSBML',\n 'fjac',\n 'fs',\n 'getAntimony',\n 'getAssignmentRuleIds',\n 'getAvailableIntegrators',\n 'getBoundarySpeciesAmounts',\n 'getBoundarySpeciesAmountsNamedArray',\n 'getBoundarySpeciesConcentrationIds',\n 'getBoundarySpeciesConcentrations',\n 'getBoundarySpeciesConcentrationsNamedArray',\n 'getBoundarySpeciesIds',\n 'getCC',\n 'getCellML',\n 'getCompartmentIds',\n 'getCompartmentVolumes',\n 'getCompiler',\n 'getConservationMatrix',\n 'getConservedMoietyIds',\n 'getConservedMoietyValues',\n 'getCurrentAntimony',\n 'getCurrentCellML',\n 'getCurrentMatlab',\n 'getCurrentSBML',\n 'getCurrentTime',\n 'getDependentFloatingSpeciesAmountsNamedArray',\n 'getDependentFloatingSpeciesAmountsV',\n 'getDependentFloatingSpeciesConcentrationsNamedArray',\n 'getDependentFloatingSpeciesConcentrationsV',\n 'getDependentFloatingSpeciesIds',\n 'getDependentRatesOfChange',\n 'getDependentRatesOfChangeNamedArray',\n 'getDiffStepSize',\n 'getEE',\n 'getEigenValueIds',\n 'getExistingIntegratorNames',\n 'getExistingSensitivitySolverNames',\n 'getExistingSteadyStateSolverNames',\n 'getExtendedStoichiometryMatrix',\n 'getExtendedVersionInfo',\n 'getFloatingSpeciesAmounts',\n 'getFloatingSpeciesAmountsNamedArray',\n 'getFloatingSpeciesConcentrationIds',\n 'getFloatingSpeciesConcentrations',\n 'getFloatingSpeciesConcentrationsNamedArray',\n 'getFloatingSpeciesIds',\n 'getFloatingSpeciesInitialConcentrationIds',\n 'getFluxThreshold',\n 'getFrequencyResponse',\n 'getFullEigenValues',\n 'getFullEigenValuesNamedArray',\n 'getFullJacobian',\n 'getFullStoichiometryMatrix',\n 'getGlobalParameterByName',\n 'getGlobalParameterIds',\n 'getGlobalParameterValues',\n 'getHasOnlySubstanceUnits',\n 'getIds',\n 'getIndependentFloatingSpeciesAmountsNamedArray',\n 'getIndependentFloatingSpeciesAmountsV',\n 'getIndependentFloatingSpeciesConcentrationsNamedArray',\n 'getIndependentFloatingSpeciesConcentrationsV',\n 'getIndependentFloatingSpeciesIds',\n 'getIndependentRatesOfChange',\n 'getIndependentRatesOfChangeNamedArray',\n 'getInfo',\n 'getInitialAssignmentIds',\n 'getInstanceCount',\n 'getInstanceID',\n 'getIntegrator',\n 'getIntegratorByName',\n 'getKMatrix',\n 'getKineticLaw',\n 'getL0Matrix',\n 'getLinkMatrix',\n 'getMatlab',\n 'getModel',\n 'getModelId',\n 'getModelName',\n 'getNrMatrix',\n 'getNumBoundarySpecies',\n 'getNumCompartments',\n 'getNumConservedMoieties',\n 'getNumDepFloatingSpecies',\n 'getNumEvents',\n 'getNumFloatingSpecies',\n 'getNumGlobalParameters',\n 'getNumIndFloatingSpecies',\n 'getNumRateRules',\n 'getNumReactions',\n 'getNumberOfDependentSpecies',\n 'getNumberOfIndependentSpecies',\n 'getParamPromotedSBML',\n 'getRateRuleIds',\n 'getRatesOfChange',\n 'getRatesOfChangeNamedArray',\n 'getReactionIds',\n 'getReactionRates',\n 'getReducedEigenValues',\n 'getReducedEigenValuesNamedArray',\n 'getReducedJacobian',\n 'getReducedStoichiometryMatrix',\n 'getRegisteredIntegratorNames',\n 'getRegisteredSensitivitySolverNames',\n 'getRegisteredSteadyStateSolverNames',\n 'getSBML',\n 'getScaledConcentrationControlCoefficientMatrix',\n 'getScaledElasticityMatrix',\n 'getScaledFloatingSpeciesElasticity',\n 'getScaledFluxControlCoefficientMatrix',\n 'getSeed',\n 'getSelectedValues',\n 'getSensitivitySolver',\n 'getSensitivitySolverByName',\n 'getSimulationData',\n 'getSteadyStateSelectionStrings',\n 'getSteadyStateSolver',\n 'getSteadyStateSolverByName',\n 'getSteadyStateThreshold',\n 'getSteadyStateValues',\n 'getSteadyStateValuesNamedArray',\n 'getSupportedIdTypes',\n 'getUnscaledConcentrationControlCoefficientMatrix',\n 'getUnscaledElasticityMatrix',\n 'getUnscaledFluxControlCoefficientMatrix',\n 'getUnscaledParameterElasticity',\n 'getUnscaledSpeciesElasticity',\n 'getValue',\n 'getuCC',\n 'getuEE',\n 'gillespie',\n 'integrator',\n 'integratorExists',\n 'internalOneStep',\n 'isModelLoaded',\n 'items',\n 'iteritems',\n 'iterkeys',\n 'itervalues',\n 'keys',\n 'load',\n 'loadState',\n 'loadStateS',\n 'makeIntegrator',\n 'makeSensitivitySolver',\n 'makeSteadyStateSolver',\n 'mcaSteadyState',\n 'model',\n 'oneStep',\n 'options',\n 'parameter_1',\n 'parameter_13',\n 'parameter_2',\n 'plot',\n 'plotLegend',\n 'ps',\n 'reaction_1',\n 'reaction_10',\n 'reaction_11',\n 'reaction_12',\n 'reaction_13',\n 'reaction_14',\n 'reaction_2',\n 'reaction_3',\n 'reaction_4',\n 'reaction_5',\n 'reaction_6',\n 'reaction_7',\n 'reaction_8',\n 'reaction_9',\n 'regenerateModel',\n 'registerSolvers',\n 'removeCompartment',\n 'removeEvent',\n 'removeEventAssignments',\n 'removeInitialAssignment',\n 'removeParameter',\n 'removeReaction',\n 'removeRules',\n 'removeSpecies',\n 'reset',\n 'resetAll',\n 'resetParameter',\n 'resetSelectionLists',\n 'resetToOrigin',\n 'rs',\n 'rv',\n 'saveState',\n 'saveStateS',\n 'seed',\n 'selections',\n 'sensitivitySolverExists',\n 'setBoundary',\n 'setConstant',\n 'setDiffStepSize',\n 'setFluxThreshold',\n 'setGlobalParameterByName',\n 'setHasOnlySubstanceUnits',\n 'setInitAmount',\n 'setInitConcentration',\n 'setIntegrator',\n 'setIntegratorSetting',\n 'setKineticLaw',\n 'setModelId',\n 'setModelName',\n 'setOptions',\n 'setPersistent',\n 'setReversible',\n 'setSeed',\n 'setSensitivitySolver',\n 'setSteadyStateSolver',\n 'setSteadyStateThreshold',\n 'setTriggerInitialValue',\n 'setValue',\n 'setValues',\n 'show',\n 'showPlot',\n 'simulate',\n 'sm',\n 'species_1',\n 'species_1_amt',\n 'species_1_conc',\n 'species_2',\n 'species_2_amt',\n 'species_2_conc',\n 'species_3',\n 'species_3_amt',\n 'species_3_conc',\n 'species_4',\n 'species_4_amt',\n 'species_4_conc',\n 'species_5',\n 'species_5_amt',\n 'species_5_conc',\n 'species_6',\n 'species_6_amt',\n 'species_6_conc',\n 'steadyState',\n 'steadyStateNamedArray',\n 'steadyStateSelections',\n 'steadyStateSolver',\n 'steadyStateSolverExists',\n 'steadyStateThresh',\n 'sv',\n 'this',\n 'thisown',\n 'timeCourseSelections',\n 'timeSeriesSensitivities',\n 'validateCurrentSBML',\n 'values',\n 'vs']"
     },
     "execution_count": 11,
     "metadata": {},
     "output_type": "execute_result"
    }
   ],
   "source": [
    "dir(simulator)"
   ],
   "metadata": {
    "collapsed": false,
    "ExecuteTime": {
     "end_time": "2024-05-01T06:56:28.967633Z",
     "start_time": "2024-05-01T06:56:28.963005Z"
    }
   },
   "id": "f4fd7072004772cb"
  },
  {
   "cell_type": "code",
   "execution_count": 12,
   "outputs": [
    {
     "data": {
      "text/plain": "array([7.00e-07, 0.00e+00, 0.00e+00, 1.68e-04, 3.20e-04, 0.00e+00,\n       0.00e+00, 0.00e+00, 0.00e+00, 0.00e+00, 0.00e+00, 3.20e-03,\n       1.00e-02, 1.00e-02])"
     },
     "execution_count": 12,
     "metadata": {},
     "output_type": "execute_result"
    }
   ],
   "source": [
    "simulator.getReactionRates()"
   ],
   "metadata": {
    "collapsed": false,
    "ExecuteTime": {
     "end_time": "2024-05-01T06:56:28.973429Z",
     "start_time": "2024-05-01T06:56:28.967766Z"
    }
   },
   "id": "e92d5b185840048f"
  },
  {
   "cell_type": "code",
   "execution_count": 13,
   "outputs": [
    {
     "data": {
      "text/plain": "['reaction_1',\n 'reaction_2',\n 'reaction_3',\n 'reaction_4',\n 'reaction_5',\n 'reaction_6',\n 'reaction_7',\n 'reaction_8',\n 'reaction_9',\n 'reaction_10',\n 'reaction_11',\n 'reaction_12',\n 'reaction_13',\n 'reaction_14']"
     },
     "execution_count": 13,
     "metadata": {},
     "output_type": "execute_result"
    }
   ],
   "source": [
    "simulator.getReactionIds()"
   ],
   "metadata": {
    "collapsed": false,
    "ExecuteTime": {
     "end_time": "2024-05-01T06:56:28.976229Z",
     "start_time": "2024-05-01T06:56:28.971951Z"
    }
   },
   "id": "278ae59c7dedfc33"
  },
  {
   "cell_type": "markdown",
   "source": [],
   "metadata": {
    "collapsed": false
   },
   "id": "264bd8c515dda5aa"
  },
  {
   "cell_type": "code",
   "execution_count": 14,
   "outputs": [
    {
     "ename": "RuntimeError",
     "evalue": "No such solver called \"stochastic\". Available options are \"cvode\", \"gillespie\", \"rk4\", \"rk45\", \"euler\"",
     "output_type": "error",
     "traceback": [
      "\u001B[0;31m---------------------------------------------------------------------------\u001B[0m",
      "\u001B[0;31mRuntimeError\u001B[0m                              Traceback (most recent call last)",
      "Cell \u001B[0;32mIn[14], line 1\u001B[0m\n\u001B[0;32m----> 1\u001B[0m \u001B[43msimulator\u001B[49m\u001B[38;5;241;43m.\u001B[39;49m\u001B[43mintegrator\u001B[49m \u001B[38;5;241m=\u001B[39m \u001B[38;5;124m'\u001B[39m\u001B[38;5;124mstochastic\u001B[39m\u001B[38;5;124m'\u001B[39m\n",
      "File \u001B[0;32m~/Library/Caches/pypoetry/virtualenvs/biosimulator-processes-ECOqdsTs-py3.10/lib/python3.10/site-packages/roadrunner/roadrunner.py:2867\u001B[0m, in \u001B[0;36mRoadRunner.setIntegrator\u001B[0;34m(self, name)\u001B[0m\n\u001B[1;32m   2865\u001B[0m \u001B[38;5;28;01mdef\u001B[39;00m \u001B[38;5;21msetIntegrator\u001B[39m(\u001B[38;5;28mself\u001B[39m, name: \u001B[38;5;124m\"\u001B[39m\u001B[38;5;124mstd::string const &\u001B[39m\u001B[38;5;124m\"\u001B[39m) \u001B[38;5;241m-\u001B[39m\u001B[38;5;241m>\u001B[39m \u001B[38;5;124m\"\u001B[39m\u001B[38;5;124mvoid\u001B[39m\u001B[38;5;124m\"\u001B[39m:\n\u001B[1;32m   2866\u001B[0m \u001B[38;5;250m    \u001B[39m\u001B[38;5;124mr\u001B[39m\u001B[38;5;124;03m\"\"\"set the current Integrator to :param name;:\"\"\"\u001B[39;00m\n\u001B[0;32m-> 2867\u001B[0m     \u001B[38;5;28;01mreturn\u001B[39;00m \u001B[43m_roadrunner\u001B[49m\u001B[38;5;241;43m.\u001B[39;49m\u001B[43mRoadRunner_setIntegrator\u001B[49m\u001B[43m(\u001B[49m\u001B[38;5;28;43mself\u001B[39;49m\u001B[43m,\u001B[49m\u001B[43m \u001B[49m\u001B[43mname\u001B[49m\u001B[43m)\u001B[49m\n",
      "\u001B[0;31mRuntimeError\u001B[0m: No such solver called \"stochastic\". Available options are \"cvode\", \"gillespie\", \"rk4\", \"rk45\", \"euler\""
     ]
    }
   ],
   "source": [
    "simulator.integrator = 'stochastic'"
   ],
   "metadata": {
    "collapsed": false,
    "ExecuteTime": {
     "end_time": "2024-05-01T06:56:29.393537Z",
     "start_time": "2024-05-01T06:56:28.975565Z"
    }
   },
   "id": "3692858d8548cbee"
  },
  {
   "cell_type": "code",
   "execution_count": null,
   "outputs": [],
   "source": [
    "simulator.integrator"
   ],
   "metadata": {
    "collapsed": false,
    "ExecuteTime": {
     "end_time": "2024-05-01T06:56:29.398884Z",
     "start_time": "2024-05-01T06:56:29.394793Z"
    }
   },
   "id": "f688e9553786d36e"
  },
  {
   "cell_type": "code",
   "execution_count": null,
   "outputs": [],
   "source": [
    "simulator.getIds()"
   ],
   "metadata": {
    "collapsed": false,
    "ExecuteTime": {
     "start_time": "2024-05-01T06:56:29.397421Z"
    }
   },
   "id": "850c62b4ab027800"
  },
  {
   "cell_type": "code",
   "execution_count": 11,
   "outputs": [
    {
     "data": {
      "text/plain": "type"
     },
     "execution_count": 11,
     "metadata": {},
     "output_type": "execute_result"
    }
   ],
   "source": [],
   "metadata": {
    "collapsed": false,
    "ExecuteTime": {
     "end_time": "2024-05-01T08:34:23.555250Z",
     "start_time": "2024-05-01T08:34:23.547556Z"
    }
   },
   "id": "66b8d04c5b4d6d38"
  },
  {
   "cell_type": "code",
   "execution_count": null,
   "outputs": [],
   "source": [],
   "metadata": {
    "collapsed": false
   },
   "id": "4a2c37d5596be64a"
  }
 ],
 "metadata": {
  "kernelspec": {
   "display_name": "Python 3",
   "language": "python",
   "name": "python3"
  },
  "language_info": {
   "codemirror_mode": {
    "name": "ipython",
    "version": 2
   },
   "file_extension": ".py",
   "mimetype": "text/x-python",
   "name": "python",
   "nbconvert_exporter": "python",
   "pygments_lexer": "ipython2",
   "version": "2.7.6"
  }
 },
 "nbformat": 4,
 "nbformat_minor": 5
}
