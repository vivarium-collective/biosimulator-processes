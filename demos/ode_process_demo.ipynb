{
 "cells": [
  {
   "cell_type": "code",
   "id": "initial_id",
   "metadata": {
    "collapsed": true,
    "ExecuteTime": {
     "end_time": "2024-05-27T14:59:58.424391Z",
     "start_time": "2024-05-27T14:59:56.858290Z"
    }
   },
   "source": [
    "import sys\n",
    "import os\n",
    "import tempfile\n",
    "import json \n",
    "\n",
    "import numpy as np\n",
    "from process_bigraph import pp\n",
    "from process_bigraph.experiments.parameter_scan import RunProcess\n",
    "\n",
    "\n",
    "sys.path.insert(0, '..')\n",
    "\n",
    "\n",
    "from biosimulator_processes import CORE\n",
    "from biosimulator_processes.services.rest_service import BiosimulationsRestService\n",
    "from biosimulator_processes.instance import generate_ode_instance, plot_ode_output_data\n",
    "from biosimulator_processes.steps.ode_simulation import CopasiStep, TelluriumStep, AmiciStep\n",
    "from biosimulator_processes.io import parse_expected_timecourse_config"
   ],
   "outputs": [
    {
     "name": "stdout",
     "output_type": "stream",
     "text": [
      "CobraProcess registered successfully as cobra.\n",
      "\n",
      "CopasiProcess registered successfully as copasi.\n",
      "\n",
      "TelluriumProcess registered successfully as tellurium.\n",
      "\n",
      "AmiciProcess registered successfully as amici.\n",
      "\n",
      "Available processes:\n",
      "[ 'console-emitter',\n",
      "  'ram-emitter',\n",
      "  'composite',\n",
      "  'cobra',\n",
      "  'copasi',\n",
      "  'tellurium',\n",
      "  'amici']\n",
      "CopasiStep registered successfully as copasi-step.\n",
      "\n",
      "TelluriumStep registered successfully as tellurium-step.\n",
      "\n",
      "AmiciStep registered successfully as amici-step.\n",
      "\n",
      "CompositionPlotter registered successfully as plotter.\n",
      "\n",
      "Plotter2d registered successfully as plotter2d.\n",
      "\n",
      "Available processes:\n",
      "[ 'console-emitter',\n",
      "  'ram-emitter',\n",
      "  'composite',\n",
      "  'cobra',\n",
      "  'copasi',\n",
      "  'tellurium',\n",
      "  'amici',\n",
      "  'copasi-step',\n",
      "  'tellurium-step',\n",
      "  'amici-step',\n",
      "  'plotter',\n",
      "  'plotter2d']\n"
     ]
    }
   ],
   "execution_count": 1
  },
  {
   "metadata": {
    "ExecuteTime": {
     "end_time": "2024-05-27T14:59:58.435165Z",
     "start_time": "2024-05-27T14:59:58.432825Z"
    }
   },
   "cell_type": "code",
   "source": [
    "omex_dir = '../test_suite/examples/sbml-core/Caravagna-J-Theor-Biol-2010-tumor-suppressive-oscillations'\n",
    "model_fp = os.path.join(omex_dir, 'Caravagna2010.xml')\n",
    "ode_process_config = {'model': {'model_source': model_fp}}\n",
    "step_size = 0.25\n",
    "duration = 100.0\n",
    "num_steps = 200.0"
   ],
   "id": "d4cdc5e03d9ccfa6",
   "outputs": [],
   "execution_count": 4
  },
  {
   "metadata": {
    "ExecuteTime": {
     "end_time": "2024-05-27T14:59:58.440948Z",
     "start_time": "2024-05-27T14:59:58.438935Z"
    }
   },
   "cell_type": "code",
   "source": [
    "# parse expected results\n",
    "expected_results = parse_expected_timecourse_config(archive_root=omex_dir)\n",
    "\n",
    "expected_results\n"
   ],
   "id": "a76ed95d885d4ef1",
   "outputs": [
    {
     "data": {
      "text/plain": [
       "{'duration': 1000.0, 'step_size': 0.2, 'num_steps': 5001.0}"
      ]
     },
     "execution_count": 6,
     "metadata": {},
     "output_type": "execute_result"
    }
   ],
   "execution_count": 6
  },
  {
   "metadata": {},
   "cell_type": "markdown",
   "source": "### Run single `copasi-step`",
   "id": "7e8532377bc68373"
  },
  {
   "metadata": {
    "ExecuteTime": {
     "end_time": "2024-05-27T14:59:58.457868Z",
     "start_time": "2024-05-27T14:59:58.441337Z"
    }
   },
   "cell_type": "code",
   "source": [
    "fp = model_fp\n",
    "time_config = {\n",
    "    'duration': 100.0,\n",
    "    'num_steps': 500.0\n",
    "}\n",
    "\n",
    "\n",
    "copasi_step = CopasiStep(sbml_filepath=fp, time_config=time_config)"
   ],
   "id": "41d39fd666ca1acd",
   "outputs": [],
   "execution_count": 7
  },
  {
   "metadata": {
    "ExecuteTime": {
     "end_time": "2024-05-27T14:59:58.460453Z",
     "start_time": "2024-05-27T14:59:58.458410Z"
    }
   },
   "cell_type": "code",
   "source": "copasi_step.outputs()",
   "id": "e3b78edb640a352b",
   "outputs": [
    {
     "data": {
      "text/plain": [
       "{'time': 'list[float]',\n",
       " 'floating_species': {'T': 'list[float]',\n",
       "  'E': 'list[float]',\n",
       "  'I': 'list[float]'}}"
      ]
     },
     "execution_count": 8,
     "metadata": {},
     "output_type": "execute_result"
    }
   ],
   "execution_count": 8
  },
  {
   "metadata": {
    "ExecuteTime": {
     "end_time": "2024-05-27T14:59:58.523635Z",
     "start_time": "2024-05-27T14:59:58.460896Z"
    }
   },
   "cell_type": "code",
   "source": "copasi_result = copasi_step.update({})",
   "id": "9c92f8da9f2ab7cc",
   "outputs": [
    {
     "ename": "NameError",
     "evalue": "name 't' is not defined",
     "output_type": "error",
     "traceback": [
      "\u001B[0;31m---------------------------------------------------------------------------\u001B[0m",
      "\u001B[0;31mNameError\u001B[0m                                 Traceback (most recent call last)",
      "Cell \u001B[0;32mIn[9], line 1\u001B[0m\n\u001B[0;32m----> 1\u001B[0m copasi_result \u001B[38;5;241m=\u001B[39m \u001B[43mcopasi_step\u001B[49m\u001B[38;5;241;43m.\u001B[39;49m\u001B[43mupdate\u001B[49m\u001B[43m(\u001B[49m\u001B[43m{\u001B[49m\u001B[43m}\u001B[49m\u001B[43m)\u001B[49m\n",
      "File \u001B[0;32m~/Desktop/uchc_work/biosimulators-2.0/biosimulator-processes/demos/../biosimulator_processes/steps/ode_simulation.py:134\u001B[0m, in \u001B[0;36mOdeSimulation.update\u001B[0;34m(self, inputs, **simulator_kwargs)\u001B[0m\n\u001B[1;32m    132\u001B[0m \u001B[38;5;28;01mfor\u001B[39;00m i, ti \u001B[38;5;129;01min\u001B[39;00m \u001B[38;5;28menumerate\u001B[39m(\u001B[38;5;28mself\u001B[39m\u001B[38;5;241m.\u001B[39mt):\n\u001B[1;32m    133\u001B[0m     start \u001B[38;5;241m=\u001B[39m t[i \u001B[38;5;241m-\u001B[39m \u001B[38;5;241m1\u001B[39m] \u001B[38;5;28;01mif\u001B[39;00m ti \u001B[38;5;241m>\u001B[39m \u001B[38;5;241m0\u001B[39m \u001B[38;5;28;01melse\u001B[39;00m ti\n\u001B[0;32m--> 134\u001B[0m     end \u001B[38;5;241m=\u001B[39m \u001B[43mt\u001B[49m[i]\n\u001B[1;32m    135\u001B[0m     timecourse \u001B[38;5;241m=\u001B[39m \u001B[38;5;28mself\u001B[39m\u001B[38;5;241m.\u001B[39m_run_simulation(\n\u001B[1;32m    136\u001B[0m         start_time\u001B[38;5;241m=\u001B[39mstart,\n\u001B[1;32m    137\u001B[0m         duration\u001B[38;5;241m=\u001B[39mend,\n\u001B[1;32m    138\u001B[0m         \u001B[38;5;241m*\u001B[39m\u001B[38;5;241m*\u001B[39msimulator_kwargs)\n\u001B[1;32m    140\u001B[0m     \u001B[38;5;66;03m# TODO: just return the run time course return\u001B[39;00m\n",
      "\u001B[0;31mNameError\u001B[0m: name 't' is not defined"
     ]
    }
   ],
   "execution_count": 9
  },
  {
   "metadata": {
    "ExecuteTime": {
     "end_time": "2024-05-27T14:59:58.524705Z",
     "start_time": "2024-05-27T14:59:58.524638Z"
    }
   },
   "cell_type": "code",
   "source": "len(copasi_result['floating_species']['T'])",
   "id": "fadeaf8ba793163",
   "outputs": [],
   "execution_count": null
  },
  {
   "metadata": {},
   "cell_type": "code",
   "source": "copasi_result['floating_species']['T']",
   "id": "47c429ff643eae46",
   "outputs": [],
   "execution_count": null
  },
  {
   "metadata": {},
   "cell_type": "code",
   "source": "plot_ode_output_data(copasi_result)",
   "id": "ff5675f85e107df4",
   "outputs": [],
   "execution_count": null
  },
  {
   "metadata": {},
   "cell_type": "code",
   "source": [
    "from basico import *\n",
    "\n",
    "m = load_model(model_fp)\n",
    "\n",
    "get_species(model=m)"
   ],
   "id": "df19cc76fa56e29e",
   "outputs": [],
   "execution_count": null
  },
  {
   "metadata": {},
   "cell_type": "code",
   "source": "",
   "id": "cd617a9941fda6dc",
   "outputs": [],
   "execution_count": null
  }
 ],
 "metadata": {
  "kernelspec": {
   "display_name": "Python 3",
   "language": "python",
   "name": "python3"
  },
  "language_info": {
   "codemirror_mode": {
    "name": "ipython",
    "version": 2
   },
   "file_extension": ".py",
   "mimetype": "text/x-python",
   "name": "python",
   "nbconvert_exporter": "python",
   "pygments_lexer": "ipython2",
   "version": "2.7.6"
  }
 },
 "nbformat": 4,
 "nbformat_minor": 5
}
