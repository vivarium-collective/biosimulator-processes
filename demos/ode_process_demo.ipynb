{
 "cells": [
  {
   "cell_type": "code",
   "id": "initial_id",
   "metadata": {
    "collapsed": true,
    "ExecuteTime": {
     "end_time": "2024-05-27T13:31:40.843310Z",
     "start_time": "2024-05-27T13:31:39.019876Z"
    }
   },
   "source": [
    "import sys\n",
    "import os\n",
    "import tempfile\n",
    "import json \n",
    "\n",
    "import numpy as np\n",
    "from process_bigraph import pp\n",
    "from process_bigraph.experiments.parameter_scan import RunProcess\n",
    "\n",
    "\n",
    "sys.path.insert(0, '..')\n",
    "\n",
    "\n",
    "from biosimulator_processes import CORE\n",
    "from biosimulator_processes.services.rest_service import BiosimulationsRestService\n",
    "from biosimulator_processes.instance import generate_ode_instance, plot_ode_output_data\n",
    "from biosimulator_processes.steps.ode_simulation import CopasiStep, TelluriumStep, AmiciStep"
   ],
   "outputs": [
    {
     "name": "stdout",
     "output_type": "stream",
     "text": [
      "CobraProcess registered successfully as cobra.\n",
      "\n",
      "CopasiProcess registered successfully as copasi.\n",
      "\n",
      "TelluriumProcess registered successfully as tellurium.\n",
      "\n",
      "AmiciProcess registered successfully as amici.\n",
      "\n",
      "Available processes:\n",
      "[ 'console-emitter',\n",
      "  'ram-emitter',\n",
      "  'composite',\n",
      "  'cobra',\n",
      "  'copasi',\n",
      "  'tellurium',\n",
      "  'amici']\n",
      "CopasiStep registered successfully as copasi-step.\n",
      "\n",
      "TelluriumStep registered successfully as tellurium-step.\n",
      "\n",
      "AmiciStep registered successfully as amici-step.\n",
      "\n",
      "CompositionPlotter registered successfully as plotter.\n",
      "\n",
      "Plotter2d registered successfully as plotter2d.\n",
      "\n",
      "Available processes:\n",
      "[ 'console-emitter',\n",
      "  'ram-emitter',\n",
      "  'composite',\n",
      "  'cobra',\n",
      "  'copasi',\n",
      "  'tellurium',\n",
      "  'amici',\n",
      "  'copasi-step',\n",
      "  'tellurium-step',\n",
      "  'amici-step',\n",
      "  'plotter',\n",
      "  'plotter2d']\n"
     ]
    }
   ],
   "execution_count": 1
  },
  {
   "metadata": {
    "ExecuteTime": {
     "end_time": "2024-05-27T14:40:08.049Z",
     "start_time": "2024-05-27T14:40:08.044446Z"
    }
   },
   "cell_type": "code",
   "source": [
    "import numpy as np \n",
    "\n",
    "\n",
    "\n",
    "t2 = np.arange(0, 50, 0.3)\n",
    "\n",
    "\n",
    "dur = 50\n",
    "size = 0.3\n",
    "steps = 167\n",
    "t = np.linspace(0, dur, steps)\n",
    "\n",
    "\n",
    "for i, ti in enumerate(t):\n",
    "    start = t[i - 1] if ti > 0 else ti \n",
    "    end = t[i]  \n",
    "    print(f'{i}: {(start, end)}')"
   ],
   "id": "3b9e0b84781d2c6a",
   "outputs": [
    {
     "name": "stdout",
     "output_type": "stream",
     "text": [
      "0: (0.0, 0.0)\n",
      "1: (0.0, 0.30120481927710846)\n",
      "2: (0.30120481927710846, 0.6024096385542169)\n",
      "3: (0.6024096385542169, 0.9036144578313254)\n",
      "4: (0.9036144578313254, 1.2048192771084338)\n",
      "5: (1.2048192771084338, 1.5060240963855422)\n",
      "6: (1.5060240963855422, 1.8072289156626509)\n",
      "7: (1.8072289156626509, 2.108433734939759)\n",
      "8: (2.108433734939759, 2.4096385542168677)\n",
      "9: (2.4096385542168677, 2.7108433734939763)\n",
      "10: (2.7108433734939763, 3.0120481927710845)\n",
      "11: (3.0120481927710845, 3.313253012048193)\n",
      "12: (3.313253012048193, 3.6144578313253017)\n",
      "13: (3.6144578313253017, 3.91566265060241)\n",
      "14: (3.91566265060241, 4.216867469879518)\n",
      "15: (4.216867469879518, 4.518072289156627)\n",
      "16: (4.518072289156627, 4.819277108433735)\n",
      "17: (4.819277108433735, 5.120481927710844)\n",
      "18: (5.120481927710844, 5.421686746987953)\n",
      "19: (5.421686746987953, 5.72289156626506)\n",
      "20: (5.72289156626506, 6.024096385542169)\n",
      "21: (6.024096385542169, 6.325301204819278)\n",
      "22: (6.325301204819278, 6.626506024096386)\n",
      "23: (6.626506024096386, 6.927710843373495)\n",
      "24: (6.927710843373495, 7.2289156626506035)\n",
      "25: (7.2289156626506035, 7.530120481927711)\n",
      "26: (7.530120481927711, 7.83132530120482)\n",
      "27: (7.83132530120482, 8.132530120481928)\n",
      "28: (8.132530120481928, 8.433734939759036)\n",
      "29: (8.433734939759036, 8.734939759036145)\n",
      "30: (8.734939759036145, 9.036144578313253)\n",
      "31: (9.036144578313253, 9.337349397590362)\n",
      "32: (9.337349397590362, 9.63855421686747)\n",
      "33: (9.63855421686747, 9.93975903614458)\n",
      "34: (9.93975903614458, 10.240963855421688)\n",
      "35: (10.240963855421688, 10.542168674698797)\n",
      "36: (10.542168674698797, 10.843373493975905)\n",
      "37: (10.843373493975905, 11.144578313253014)\n",
      "38: (11.144578313253014, 11.44578313253012)\n",
      "39: (11.44578313253012, 11.74698795180723)\n",
      "40: (11.74698795180723, 12.048192771084338)\n",
      "41: (12.048192771084338, 12.349397590361447)\n",
      "42: (12.349397590361447, 12.650602409638555)\n",
      "43: (12.650602409638555, 12.951807228915664)\n",
      "44: (12.951807228915664, 13.253012048192772)\n",
      "45: (13.253012048192772, 13.554216867469881)\n",
      "46: (13.554216867469881, 13.85542168674699)\n",
      "47: (13.85542168674699, 14.156626506024098)\n",
      "48: (14.156626506024098, 14.457831325301207)\n",
      "49: (14.457831325301207, 14.759036144578314)\n",
      "50: (14.759036144578314, 15.060240963855422)\n",
      "51: (15.060240963855422, 15.361445783132531)\n",
      "52: (15.361445783132531, 15.66265060240964)\n",
      "53: (15.66265060240964, 15.963855421686748)\n",
      "54: (15.963855421686748, 16.265060240963855)\n",
      "55: (16.265060240963855, 16.566265060240966)\n",
      "56: (16.566265060240966, 16.867469879518072)\n",
      "57: (16.867469879518072, 17.168674698795183)\n",
      "58: (17.168674698795183, 17.46987951807229)\n",
      "59: (17.46987951807229, 17.7710843373494)\n",
      "60: (17.7710843373494, 18.072289156626507)\n",
      "61: (18.072289156626507, 18.373493975903617)\n",
      "62: (18.373493975903617, 18.674698795180724)\n",
      "63: (18.674698795180724, 18.975903614457835)\n",
      "64: (18.975903614457835, 19.27710843373494)\n",
      "65: (19.27710843373494, 19.57831325301205)\n",
      "66: (19.57831325301205, 19.87951807228916)\n",
      "67: (19.87951807228916, 20.180722891566266)\n",
      "68: (20.180722891566266, 20.481927710843376)\n",
      "69: (20.481927710843376, 20.783132530120483)\n",
      "70: (20.783132530120483, 21.084337349397593)\n",
      "71: (21.084337349397593, 21.3855421686747)\n",
      "72: (21.3855421686747, 21.68674698795181)\n",
      "73: (21.68674698795181, 21.987951807228917)\n",
      "74: (21.987951807228917, 22.289156626506028)\n",
      "75: (22.289156626506028, 22.590361445783135)\n",
      "76: (22.590361445783135, 22.89156626506024)\n",
      "77: (22.89156626506024, 23.192771084337352)\n",
      "78: (23.192771084337352, 23.49397590361446)\n",
      "79: (23.49397590361446, 23.79518072289157)\n",
      "80: (23.79518072289157, 24.096385542168676)\n",
      "81: (24.096385542168676, 24.397590361445786)\n",
      "82: (24.397590361445786, 24.698795180722893)\n",
      "83: (24.698795180722893, 25.000000000000004)\n",
      "84: (25.000000000000004, 25.30120481927711)\n",
      "85: (25.30120481927711, 25.60240963855422)\n",
      "86: (25.60240963855422, 25.903614457831328)\n",
      "87: (25.903614457831328, 26.204819277108435)\n",
      "88: (26.204819277108435, 26.506024096385545)\n",
      "89: (26.506024096385545, 26.80722891566265)\n",
      "90: (26.80722891566265, 27.108433734939762)\n",
      "91: (27.108433734939762, 27.40963855421687)\n",
      "92: (27.40963855421687, 27.71084337349398)\n",
      "93: (27.71084337349398, 28.012048192771086)\n",
      "94: (28.012048192771086, 28.313253012048197)\n",
      "95: (28.313253012048197, 28.614457831325304)\n",
      "96: (28.614457831325304, 28.915662650602414)\n",
      "97: (28.915662650602414, 29.21686746987952)\n",
      "98: (29.21686746987952, 29.518072289156628)\n",
      "99: (29.518072289156628, 29.819277108433738)\n",
      "100: (29.819277108433738, 30.120481927710845)\n",
      "101: (30.120481927710845, 30.421686746987955)\n",
      "102: (30.421686746987955, 30.722891566265062)\n",
      "103: (30.722891566265062, 31.024096385542173)\n",
      "104: (31.024096385542173, 31.32530120481928)\n",
      "105: (31.32530120481928, 31.62650602409639)\n",
      "106: (31.62650602409639, 31.927710843373497)\n",
      "107: (31.927710843373497, 32.22891566265061)\n",
      "108: (32.22891566265061, 32.53012048192771)\n",
      "109: (32.53012048192771, 32.83132530120482)\n",
      "110: (32.83132530120482, 33.13253012048193)\n",
      "111: (33.13253012048193, 33.43373493975904)\n",
      "112: (33.43373493975904, 33.734939759036145)\n",
      "113: (33.734939759036145, 34.036144578313255)\n",
      "114: (34.036144578313255, 34.337349397590366)\n",
      "115: (34.337349397590366, 34.638554216867476)\n",
      "116: (34.638554216867476, 34.93975903614458)\n",
      "117: (34.93975903614458, 35.24096385542169)\n",
      "118: (35.24096385542169, 35.5421686746988)\n",
      "119: (35.5421686746988, 35.8433734939759)\n",
      "120: (35.8433734939759, 36.144578313253014)\n",
      "121: (36.144578313253014, 36.445783132530124)\n",
      "122: (36.445783132530124, 36.746987951807235)\n",
      "123: (36.746987951807235, 37.04819277108434)\n",
      "124: (37.04819277108434, 37.34939759036145)\n",
      "125: (37.34939759036145, 37.65060240963856)\n",
      "126: (37.65060240963856, 37.95180722891567)\n",
      "127: (37.95180722891567, 38.25301204819277)\n",
      "128: (38.25301204819277, 38.55421686746988)\n",
      "129: (38.55421686746988, 38.85542168674699)\n",
      "130: (38.85542168674699, 39.1566265060241)\n",
      "131: (39.1566265060241, 39.45783132530121)\n",
      "132: (39.45783132530121, 39.75903614457832)\n",
      "133: (39.75903614457832, 40.06024096385543)\n",
      "134: (40.06024096385543, 40.36144578313253)\n",
      "135: (40.36144578313253, 40.66265060240964)\n",
      "136: (40.66265060240964, 40.96385542168675)\n",
      "137: (40.96385542168675, 41.26506024096386)\n",
      "138: (41.26506024096386, 41.566265060240966)\n",
      "139: (41.566265060240966, 41.867469879518076)\n",
      "140: (41.867469879518076, 42.168674698795186)\n",
      "141: (42.168674698795186, 42.46987951807229)\n",
      "142: (42.46987951807229, 42.7710843373494)\n",
      "143: (42.7710843373494, 43.07228915662651)\n",
      "144: (43.07228915662651, 43.37349397590362)\n",
      "145: (43.37349397590362, 43.674698795180724)\n",
      "146: (43.674698795180724, 43.975903614457835)\n",
      "147: (43.975903614457835, 44.277108433734945)\n",
      "148: (44.277108433734945, 44.578313253012055)\n",
      "149: (44.578313253012055, 44.87951807228916)\n",
      "150: (44.87951807228916, 45.18072289156627)\n",
      "151: (45.18072289156627, 45.48192771084338)\n",
      "152: (45.48192771084338, 45.78313253012048)\n",
      "153: (45.78313253012048, 46.08433734939759)\n",
      "154: (46.08433734939759, 46.385542168674704)\n",
      "155: (46.385542168674704, 46.686746987951814)\n",
      "156: (46.686746987951814, 46.98795180722892)\n",
      "157: (46.98795180722892, 47.28915662650603)\n",
      "158: (47.28915662650603, 47.59036144578314)\n",
      "159: (47.59036144578314, 47.89156626506025)\n",
      "160: (47.89156626506025, 48.19277108433735)\n",
      "161: (48.19277108433735, 48.49397590361446)\n",
      "162: (48.49397590361446, 48.79518072289157)\n",
      "163: (48.79518072289157, 49.096385542168676)\n",
      "164: (49.096385542168676, 49.397590361445786)\n",
      "165: (49.397590361445786, 49.6987951807229)\n",
      "166: (49.6987951807229, 50.0)\n"
     ]
    }
   ],
   "execution_count": 46
  },
  {
   "metadata": {
    "ExecuteTime": {
     "end_time": "2024-05-27T13:41:56.553290Z",
     "start_time": "2024-05-27T13:41:56.547334Z"
    }
   },
   "cell_type": "code",
   "source": [
    "\n",
    "        \n",
    "\n",
    "    \n",
    "\n",
    "omex_dir = '../test_suite/examples/sbml-core/Caravagna-J-Theor-Biol-2010-tumor-suppressive-oscillations'\n",
    "model_fp = os.path.join(omex_dir, 'Caravagna2010.xml')\n",
    "ode_process_config = {'model': {'model_source': model_fp}}\n",
    "step_size = 0.25\n",
    "duration = 100.0\n",
    "num_steps = 200.0"
   ],
   "id": "d4cdc5e03d9ccfa6",
   "outputs": [],
   "execution_count": 23
  },
  {
   "metadata": {
    "ExecuteTime": {
     "end_time": "2024-05-27T13:41:57.057617Z",
     "start_time": "2024-05-27T13:41:57.053928Z"
    }
   },
   "cell_type": "code",
   "source": "200/1000",
   "id": "1425a43de4805a60",
   "outputs": [
    {
     "data": {
      "text/plain": [
       "0.2"
      ]
     },
     "execution_count": 24,
     "metadata": {},
     "output_type": "execute_result"
    }
   ],
   "execution_count": 24
  },
  {
   "metadata": {
    "ExecuteTime": {
     "end_time": "2024-05-27T13:42:06.557046Z",
     "start_time": "2024-05-27T13:42:06.552862Z"
    }
   },
   "cell_type": "code",
   "source": [
    "# parse expected results\n",
    "\n",
    "\n",
    "expected_results = parse_expected_results(archive_root=omex_dir)\n",
    "\n",
    "expected_results\n"
   ],
   "id": "a76ed95d885d4ef1",
   "outputs": [
    {
     "data": {
      "text/plain": [
       "{'duration': 1000.0, 'step_size': 0.2, 'num_steps': 5001}"
      ]
     },
     "execution_count": 26,
     "metadata": {},
     "output_type": "execute_result"
    }
   ],
   "execution_count": 26
  },
  {
   "metadata": {},
   "cell_type": "markdown",
   "source": "### Run single `copasi-step`",
   "id": "7e8532377bc68373"
  },
  {
   "metadata": {
    "ExecuteTime": {
     "end_time": "2024-05-27T13:10:33.066218Z",
     "start_time": "2024-05-27T13:10:33.050161Z"
    }
   },
   "cell_type": "code",
   "source": [
    "fp = model_fp\n",
    "time_config = {\n",
    "    'duration': 100.0,\n",
    "    'num_steps': 500.0\n",
    "}\n",
    "\n",
    "\n",
    "copasi_step = CopasiStep(sbml_filepath=fp, time_config=time_config)"
   ],
   "id": "41d39fd666ca1acd",
   "outputs": [],
   "execution_count": 10
  },
  {
   "metadata": {
    "ExecuteTime": {
     "end_time": "2024-05-27T13:10:33.068669Z",
     "start_time": "2024-05-27T13:10:33.066716Z"
    }
   },
   "cell_type": "code",
   "source": "copasi_step.outputs()",
   "id": "e3b78edb640a352b",
   "outputs": [
    {
     "data": {
      "text/plain": [
       "{'time': 'list[float]',\n",
       " 'floating_species': {'T': 'list[float]',\n",
       "  'E': 'list[float]',\n",
       "  'I': 'list[float]'},\n",
       " 'species_data': {'T': 'list[float]', 'E': 'list[float]', 'I': 'list[float]'}}"
      ]
     },
     "execution_count": 11,
     "metadata": {},
     "output_type": "execute_result"
    }
   ],
   "execution_count": 11
  },
  {
   "metadata": {
    "ExecuteTime": {
     "end_time": "2024-05-27T13:10:33.196091Z",
     "start_time": "2024-05-27T13:10:33.069307Z"
    }
   },
   "cell_type": "code",
   "source": "copasi_result = copasi_step.update({})",
   "id": "9c92f8da9f2ab7cc",
   "outputs": [
    {
     "name": "stderr",
     "output_type": "stream",
     "text": [
      "/Users/alex/Desktop/uchc_work/biosimulators-2.0/biosimulator-processes/demos/../biosimulator_processes/steps/ode_simulation.py:178: FutureWarning:\n",
      "\n",
      "Series.__getitem__ treating keys as positions is deprecated. In a future version, integer keys will always be treated as labels (consistent with DataFrame behavior). To access a value by position, use `ser.iloc[pos]`\n",
      "\n"
     ]
    }
   ],
   "execution_count": 12
  },
  {
   "metadata": {
    "ExecuteTime": {
     "end_time": "2024-05-27T13:10:33.198838Z",
     "start_time": "2024-05-27T13:10:33.196745Z"
    }
   },
   "cell_type": "code",
   "source": "len(copasi_result['floating_species']['T'])",
   "id": "fadeaf8ba793163",
   "outputs": [
    {
     "data": {
      "text/plain": [
       "100"
      ]
     },
     "execution_count": 13,
     "metadata": {},
     "output_type": "execute_result"
    }
   ],
   "execution_count": 13
  },
  {
   "metadata": {
    "ExecuteTime": {
     "end_time": "2024-05-27T13:10:33.201545Z",
     "start_time": "2024-05-27T13:10:33.199422Z"
    }
   },
   "cell_type": "code",
   "source": "copasi_result['floating_species']['T']",
   "id": "47c429ff643eae46",
   "outputs": [
    {
     "data": {
      "text/plain": [
       "[1.0,\n",
       " 1.1972136379510068,\n",
       " 1.7159909970300808,\n",
       " 2.944630010669373,\n",
       " 6.049470720734404,\n",
       " 14.878935878767257,\n",
       " 43.81117100503571,\n",
       " 154.423137865475,\n",
       " 651.2323728576832,\n",
       " 3276.4758307501056,\n",
       " 19306.816653639857,\n",
       " 119305.85318100298,\n",
       " 545355.66760679,\n",
       " 1211798.7844858547,\n",
       " 197263.62502311106,\n",
       " 5.981708880299588,\n",
       " 0.009408245948322172,\n",
       " 0.00047151470103069234,\n",
       " 0.0002702692582761044,\n",
       " 0.0008252531963687127,\n",
       " 0.0078069492131168546,\n",
       " 0.1585146614908428,\n",
       " 5.444822843052037,\n",
       " 272.7300223661204,\n",
       " 17731.67357036417,\n",
       " 608055.8002978502,\n",
       " 169039.60460773003,\n",
       " 0.04120496856510999,\n",
       " 0.0004940238724884897,\n",
       " 0.0014014693568917239,\n",
       " 0.05194399479432223,\n",
       " 6.560399132831795,\n",
       " 1541.3283420529522,\n",
       " 318764.0140924834,\n",
       " 49215.705167431806,\n",
       " 0.0035327376948450684,\n",
       " 0.0006602882512809304,\n",
       " 0.030960832783936278,\n",
       " 11.299589908043224,\n",
       " 9179.85932455424,\n",
       " 1172021.7979048486,\n",
       " 0.0562861215750729,\n",
       " 0.0005368042528201173,\n",
       " 0.03708556368952035,\n",
       " 38.47212346438929,\n",
       " 84909.48229367411,\n",
       " 6906.110760949406,\n",
       " 0.000617676684038077,\n",
       " 0.007893482194131829,\n",
       " 12.449752796311763,\n",
       " 64770.40153998632,\n",
       " 591.8225631377566,\n",
       " 0.0004735349802187663,\n",
       " 0.046360137098833056,\n",
       " 278.66669049692376,\n",
       " 951503.5107735894,\n",
       " 0.0042134681272290786,\n",
       " 0.0037159793178835688,\n",
       " 19.18817302897936,\n",
       " 334923.6546091585,\n",
       " 0.02848196161898695,\n",
       " 0.00249684027256237,\n",
       " 20.153285982489468,\n",
       " 532804.7750736944,\n",
       " 0.003754456127374559,\n",
       " 0.010349330272469977,\n",
       " 324.06916759186345,\n",
       " 991507.553437957,\n",
       " 0.0004716544981159928,\n",
       " 0.6112761633435218,\n",
       " 81642.15309863485,\n",
       " 0.02203970330144773,\n",
       " 0.009818336228419173,\n",
       " 1013.2987124866885,\n",
       " 1461.417297003335,\n",
       " 0.00120168160980357,\n",
       " 57.14614371051616,\n",
       " 1001824.5134310293,\n",
       " 0.0005972255937454775,\n",
       " 15.556161255685252,\n",
       " 1201973.2142858615,\n",
       " 0.0005554882155603948,\n",
       " 19.31828468495496,\n",
       " 1034091.3639842396,\n",
       " 0.0008187917209641446,\n",
       " 110.67590510681478,\n",
       " 2728.3700556016474,\n",
       " 0.0035636587502927463,\n",
       " 3116.0940104545366,\n",
       " 0.03191375248803846,\n",
       " 0.0984935786331493,\n",
       " 293697.85132743337,\n",
       " 0.00047556198537858287,\n",
       " 23.500122518783886,\n",
       " 6486.752322051297,\n",
       " 0.007971992651328806,\n",
       " 40192.062325209576,\n",
       " 0.000642125361291663,\n",
       " 13.245699925877654,\n",
       " 1935.915393431512]"
      ]
     },
     "execution_count": 14,
     "metadata": {},
     "output_type": "execute_result"
    }
   ],
   "execution_count": 14
  },
  {
   "metadata": {
    "ExecuteTime": {
     "end_time": "2024-05-27T13:10:33.282559Z",
     "start_time": "2024-05-27T13:10:33.202009Z"
    }
   },
   "cell_type": "code",
   "source": "plot_ode_output_data(copasi_result)",
   "id": "ff5675f85e107df4",
   "outputs": [
    {
     "data": {
      "text/plain": [
       "<Figure size 800x600 with 1 Axes>"
      ],
      "image/png": "[encoded data removed]"
     },
     "metadata": {},
     "output_type": "display_data"
    }
   ],
   "execution_count": 15
  },
  {
   "metadata": {
    "ExecuteTime": {
     "end_time": "2024-05-27T13:10:33.302954Z",
     "start_time": "2024-05-27T13:10:33.283295Z"
    }
   },
   "cell_type": "code",
   "source": [
    "from basico import *\n",
    "\n",
    "m = load_model(model_fp)\n",
    "\n",
    "get_species(model=m)"
   ],
   "id": "df19cc76fa56e29e",
   "outputs": [
    {
     "data": {
      "text/plain": [
       "      compartment       type     unit  initial_concentration  \\\n",
       "name                                                           \n",
       "T     compartment  reactions  mmol/ml                    1.0   \n",
       "E     compartment  reactions  mmol/ml                    1.0   \n",
       "I     compartment  reactions  mmol/ml                    1.0   \n",
       "\n",
       "      initial_particle_number initial_expression expression  concentration  \\\n",
       "name                                                                         \n",
       "T                6.022141e+20                                          1.0   \n",
       "E                6.022141e+20                                          1.0   \n",
       "I                6.022141e+20                                          1.0   \n",
       "\n",
       "      particle_number      rate  particle_number_rate            key sbml_id  \\\n",
       "name                                                                           \n",
       "T        6.022141e+20  0.179997          1.083967e+20   Metabolite_9       T   \n",
       "E        6.022141e+20 -0.010000         -6.022137e+18  Metabolite_10       E   \n",
       "I        6.022141e+20 -9.999512         -6.021847e+21  Metabolite_11       I   \n",
       "\n",
       "      transition_time display_name  \n",
       "name                                \n",
       "T            5.555556            T  \n",
       "E           33.333333            E  \n",
       "I            0.100000            I  "
      ],
      "text/html": [
       "<div>\n",
       "<style scoped>\n",
       "    .dataframe tbody tr th:only-of-type {\n",
       "        vertical-align: middle;\n",
       "    }\n",
       "\n",
       "    .dataframe tbody tr th {\n",
       "        vertical-align: top;\n",
       "    }\n",
       "\n",
       "    .dataframe thead th {\n",
       "        text-align: right;\n",
       "    }\n",
       "</style>\n",
       "<table border=\"1\" class=\"dataframe\">\n",
       "  <thead>\n",
       "    <tr style=\"text-align: right;\">\n",
       "      <th></th>\n",
       "      <th>compartment</th>\n",
       "      <th>type</th>\n",
       "      <th>unit</th>\n",
       "      <th>initial_concentration</th>\n",
       "      <th>initial_particle_number</th>\n",
       "      <th>initial_expression</th>\n",
       "      <th>expression</th>\n",
       "      <th>concentration</th>\n",
       "      <th>particle_number</th>\n",
       "      <th>rate</th>\n",
       "      <th>particle_number_rate</th>\n",
       "      <th>key</th>\n",
       "      <th>sbml_id</th>\n",
       "      <th>transition_time</th>\n",
       "      <th>display_name</th>\n",
       "    </tr>\n",
       "    <tr>\n",
       "      <th>name</th>\n",
       "      <th></th>\n",
       "      <th></th>\n",
       "      <th></th>\n",
       "      <th></th>\n",
       "      <th></th>\n",
       "      <th></th>\n",
       "      <th></th>\n",
       "      <th></th>\n",
       "      <th></th>\n",
       "      <th></th>\n",
       "      <th></th>\n",
       "      <th></th>\n",
       "      <th></th>\n",
       "      <th></th>\n",
       "      <th></th>\n",
       "    </tr>\n",
       "  </thead>\n",
       "  <tbody>\n",
       "    <tr>\n",
       "      <th>T</th>\n",
       "      <td>compartment</td>\n",
       "      <td>reactions</td>\n",
       "      <td>mmol/ml</td>\n",
       "      <td>1.0</td>\n",
       "      <td>6.022141e+20</td>\n",
       "      <td></td>\n",
       "      <td></td>\n",
       "      <td>1.0</td>\n",
       "      <td>6.022141e+20</td>\n",
       "      <td>0.179997</td>\n",
       "      <td>1.083967e+20</td>\n",
       "      <td>Metabolite_9</td>\n",
       "      <td>T</td>\n",
       "      <td>5.555556</td>\n",
       "      <td>T</td>\n",
       "    </tr>\n",
       "    <tr>\n",
       "      <th>E</th>\n",
       "      <td>compartment</td>\n",
       "      <td>reactions</td>\n",
       "      <td>mmol/ml</td>\n",
       "      <td>1.0</td>\n",
       "      <td>6.022141e+20</td>\n",
       "      <td></td>\n",
       "      <td></td>\n",
       "      <td>1.0</td>\n",
       "      <td>6.022141e+20</td>\n",
       "      <td>-0.010000</td>\n",
       "      <td>-6.022137e+18</td>\n",
       "      <td>Metabolite_10</td>\n",
       "      <td>E</td>\n",
       "      <td>33.333333</td>\n",
       "      <td>E</td>\n",
       "    </tr>\n",
       "    <tr>\n",
       "      <th>I</th>\n",
       "      <td>compartment</td>\n",
       "      <td>reactions</td>\n",
       "      <td>mmol/ml</td>\n",
       "      <td>1.0</td>\n",
       "      <td>6.022141e+20</td>\n",
       "      <td></td>\n",
       "      <td></td>\n",
       "      <td>1.0</td>\n",
       "      <td>6.022141e+20</td>\n",
       "      <td>-9.999512</td>\n",
       "      <td>-6.021847e+21</td>\n",
       "      <td>Metabolite_11</td>\n",
       "      <td>I</td>\n",
       "      <td>0.100000</td>\n",
       "      <td>I</td>\n",
       "    </tr>\n",
       "  </tbody>\n",
       "</table>\n",
       "</div>"
      ]
     },
     "execution_count": 16,
     "metadata": {},
     "output_type": "execute_result"
    }
   ],
   "execution_count": 16
  },
  {
   "metadata": {
    "ExecuteTime": {
     "end_time": "2024-05-27T13:10:33.317180Z",
     "start_time": "2024-05-27T13:10:33.316045Z"
    }
   },
   "cell_type": "code",
   "source": "",
   "id": "cd617a9941fda6dc",
   "outputs": [],
   "execution_count": 20
  }
 ],
 "metadata": {
  "kernelspec": {
   "display_name": "Python 3",
   "language": "python",
   "name": "python3"
  },
  "language_info": {
   "codemirror_mode": {
    "name": "ipython",
    "version": 2
   },
   "file_extension": ".py",
   "mimetype": "text/x-python",
   "name": "python",
   "nbconvert_exporter": "python",
   "pygments_lexer": "ipython2",
   "version": "2.7.6"
  }
 },
 "nbformat": 4,
 "nbformat_minor": 5
}
