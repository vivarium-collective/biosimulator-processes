{
 "cells": [
  {
   "cell_type": "code",
   "id": "initial_id",
   "metadata": {
    "collapsed": true,
    "ExecuteTime": {
     "end_time": "2024-05-16T12:48:13.943461Z",
     "start_time": "2024-05-16T12:48:13.754592Z"
    }
   },
   "source": [
    "import sys\n",
    "\n",
    "import numpy as np\n",
    "from process_bigraph import pp\n",
    "\n",
    "sys.path.insert(0, '..')"
   ],
   "outputs": [],
   "execution_count": 1
  },
  {
   "metadata": {
    "ExecuteTime": {
     "end_time": "2024-05-16T12:48:13.947630Z",
     "start_time": "2024-05-16T12:48:13.944393Z"
    }
   },
   "cell_type": "code",
   "source": [
    "\"\"\"\n",
    "Interpretation of Metrics\n",
    "Low Inner Product & High MSE/RMSE:\n",
    "\n",
    "Description: Simulators produce outputs that are different both in magnitude and direction.\n",
    "Example: If inner_product_matrix[0, 2] is low and mse_matrix[0, 2] is high, copasi and amici are very different.\n",
    "High Inner Product & Low MSE/RMSE:\n",
    "\n",
    "Description: Simulators produce very similar and aligned outputs.\n",
    "Example: If inner_product_matrix[0, 1] is high and mse_matrix[0, 1] is low, copasi and tellurium are very similar.\n",
    "High Inner Product & High MSE/RMSE:\n",
    "\n",
    "Description: Simulators produce outputs that are aligned in direction but have significant differences in magnitude.\n",
    "Example: This scenario might indicate systematic biases in the simulators' outputs.\n",
    "Low Inner Product & Low MSE/RMSE:\n",
    "\n",
    "Description: Simulators produce similar outputs, but the alignment is not perfect.\n",
    "Example: This might indicate outputs that are close but vary slightly in their direction.\n",
    "\"\"\""
   ],
   "id": "c4afe383081a61e8",
   "outputs": [
    {
     "data": {
      "text/plain": [
       "\"\\nInterpretation of Metrics\\nLow Inner Product & High MSE/RMSE:\\n\\nDescription: Simulators produce outputs that are different both in magnitude and direction.\\nExample: If inner_product_matrix[0, 2] is low and mse_matrix[0, 2] is high, copasi and amici are very different.\\nHigh Inner Product & Low MSE/RMSE:\\n\\nDescription: Simulators produce very similar and aligned outputs.\\nExample: If inner_product_matrix[0, 1] is high and mse_matrix[0, 1] is low, copasi and tellurium are very similar.\\nHigh Inner Product & High MSE/RMSE:\\n\\nDescription: Simulators produce outputs that are aligned in direction but have significant differences in magnitude.\\nExample: This scenario might indicate systematic biases in the simulators' outputs.\\nLow Inner Product & Low MSE/RMSE:\\n\\nDescription: Simulators produce similar outputs, but the alignment is not perfect.\\nExample: This might indicate outputs that are close but vary slightly in their direction.\\n\""
      ]
     },
     "execution_count": 2,
     "metadata": {},
     "output_type": "execute_result"
    }
   ],
   "execution_count": 2
  },
  {
   "metadata": {
    "ExecuteTime": {
     "end_time": "2024-05-16T12:48:13.950506Z",
     "start_time": "2024-05-16T12:48:13.948307Z"
    }
   },
   "cell_type": "code",
   "source": [
    "biomodel_id = 'BIOMD0000000630'\n",
    "duration = 100\n",
    "\n",
    "# sample time series outputs from three simulators\n",
    "output_copasi = np.array([1.3, 2.4, 4.3, 5.6, 6.7])\n",
    "output_tellurium = np.array([1.3, 2.4, 4.5, 5.7, 6.8])\n",
    "output_amici = np.array([1.3, 2.4, 4.6, 5.8, 7.0])\n",
    "interval_outputs = [output_copasi, output_tellurium, output_amici]\n",
    "feature_names = ['param_a', 'param_b', 'param_c', 'param_d', 'param_e']\n",
    "\n",
    "# sample time id for a random interval in the range of duration\n",
    "time_id = np.random.randint(0, duration)"
   ],
   "id": "e545642fe90b038",
   "outputs": [],
   "execution_count": 3
  },
  {
   "metadata": {
    "ExecuteTime": {
     "end_time": "2024-05-16T12:48:14.768857Z",
     "start_time": "2024-05-16T12:48:13.951603Z"
    }
   },
   "cell_type": "code",
   "source": [
    "from biosimulator_processes.data_model.compare_data_model import ODEProcessIntervalComparison\n",
    "from biosimulator_processes.verify.exec import generate_ode_process_interval_comparison_data, plot_ode_process_comparison"
   ],
   "id": "4ef2db06b9b15dfa",
   "outputs": [
    {
     "name": "stdout",
     "output_type": "stream",
     "text": [
      "CobraProcess registered successfully.\n",
      "CopasiProcess registered successfully.\n",
      "_CopasiProcess registered successfully.\n",
      "SmoldynProcess registered successfully.\n",
      "TelluriumProcess registered successfully.\n",
      "AmiciProcess registered successfully.\n",
      "ODEComparatorProcess registered successfully.\n",
      "GetSbmlStep registered successfully.\n",
      "CompositionPlotter registered successfully.\n",
      "Plotter2d registered successfully.\n",
      "ODEComparatorStep registered successfully.\n"
     ]
    }
   ],
   "execution_count": 4
  },
  {
   "metadata": {
    "ExecuteTime": {
     "end_time": "2024-05-16T12:48:14.772157Z",
     "start_time": "2024-05-16T12:48:14.769585Z"
    }
   },
   "cell_type": "code",
   "source": [
    "# generate object with comparison dataframes for sample data\n",
    "interval_comparison_data: ODEProcessIntervalComparison = generate_ode_process_interval_comparison_data(interval_outputs, time_id)\n",
    "\n",
    "# show time id for sample interval\n",
    "interval_comparison_data.time_id"
   ],
   "id": "b958d96e7fb44ea8",
   "outputs": [
    {
     "data": {
      "text/plain": [
       "28"
      ]
     },
     "execution_count": 5,
     "metadata": {},
     "output_type": "execute_result"
    }
   ],
   "execution_count": 5
  },
  {
   "metadata": {
    "ExecuteTime": {
     "end_time": "2024-05-16T12:48:14.776595Z",
     "start_time": "2024-05-16T12:48:14.772756Z"
    }
   },
   "cell_type": "code",
   "source": [
    "# show mse data\n",
    "interval_comparison_data.mse_data"
   ],
   "id": "e715f63503a2c63c",
   "outputs": [
    {
     "data": {
      "text/plain": [
       "           copasi  tellurium  amici\n",
       "copasi      0.000      0.012  0.044\n",
       "tellurium   0.012      0.000  0.012\n",
       "amici       0.044      0.012  0.000"
      ],
      "text/html": [
       "<div>\n",
       "<style scoped>\n",
       "    .dataframe tbody tr th:only-of-type {\n",
       "        vertical-align: middle;\n",
       "    }\n",
       "\n",
       "    .dataframe tbody tr th {\n",
       "        vertical-align: top;\n",
       "    }\n",
       "\n",
       "    .dataframe thead th {\n",
       "        text-align: right;\n",
       "    }\n",
       "</style>\n",
       "<table border=\"1\" class=\"dataframe\">\n",
       "  <thead>\n",
       "    <tr style=\"text-align: right;\">\n",
       "      <th></th>\n",
       "      <th>copasi</th>\n",
       "      <th>tellurium</th>\n",
       "      <th>amici</th>\n",
       "    </tr>\n",
       "  </thead>\n",
       "  <tbody>\n",
       "    <tr>\n",
       "      <th>copasi</th>\n",
       "      <td>0.000</td>\n",
       "      <td>0.012</td>\n",
       "      <td>0.044</td>\n",
       "    </tr>\n",
       "    <tr>\n",
       "      <th>tellurium</th>\n",
       "      <td>0.012</td>\n",
       "      <td>0.000</td>\n",
       "      <td>0.012</td>\n",
       "    </tr>\n",
       "    <tr>\n",
       "      <th>amici</th>\n",
       "      <td>0.044</td>\n",
       "      <td>0.012</td>\n",
       "      <td>0.000</td>\n",
       "    </tr>\n",
       "  </tbody>\n",
       "</table>\n",
       "</div>"
      ]
     },
     "execution_count": 6,
     "metadata": {},
     "output_type": "execute_result"
    }
   ],
   "execution_count": 6
  },
  {
   "metadata": {
    "ExecuteTime": {
     "end_time": "2024-05-16T12:48:14.780092Z",
     "start_time": "2024-05-16T12:48:14.777178Z"
    }
   },
   "cell_type": "code",
   "source": [
    "# show inner product data \n",
    "interval_comparison_data.inner_prod_data"
   ],
   "id": "386143081014569d",
   "outputs": [
    {
     "data": {
      "text/plain": [
       "           copasi  tellurium   amici\n",
       "copasi     102.19     104.28  106.61\n",
       "tellurium  104.28     106.43  108.81\n",
       "amici      106.61     108.81  111.25"
      ],
      "text/html": [
       "<div>\n",
       "<style scoped>\n",
       "    .dataframe tbody tr th:only-of-type {\n",
       "        vertical-align: middle;\n",
       "    }\n",
       "\n",
       "    .dataframe tbody tr th {\n",
       "        vertical-align: top;\n",
       "    }\n",
       "\n",
       "    .dataframe thead th {\n",
       "        text-align: right;\n",
       "    }\n",
       "</style>\n",
       "<table border=\"1\" class=\"dataframe\">\n",
       "  <thead>\n",
       "    <tr style=\"text-align: right;\">\n",
       "      <th></th>\n",
       "      <th>copasi</th>\n",
       "      <th>tellurium</th>\n",
       "      <th>amici</th>\n",
       "    </tr>\n",
       "  </thead>\n",
       "  <tbody>\n",
       "    <tr>\n",
       "      <th>copasi</th>\n",
       "      <td>102.19</td>\n",
       "      <td>104.28</td>\n",
       "      <td>106.61</td>\n",
       "    </tr>\n",
       "    <tr>\n",
       "      <th>tellurium</th>\n",
       "      <td>104.28</td>\n",
       "      <td>106.43</td>\n",
       "      <td>108.81</td>\n",
       "    </tr>\n",
       "    <tr>\n",
       "      <th>amici</th>\n",
       "      <td>106.61</td>\n",
       "      <td>108.81</td>\n",
       "      <td>111.25</td>\n",
       "    </tr>\n",
       "  </tbody>\n",
       "</table>\n",
       "</div>"
      ]
     },
     "execution_count": 7,
     "metadata": {},
     "output_type": "execute_result"
    }
   ],
   "execution_count": 7
  },
  {
   "metadata": {
    "ExecuteTime": {
     "end_time": "2024-05-16T12:48:14.783479Z",
     "start_time": "2024-05-16T12:48:14.780699Z"
    }
   },
   "cell_type": "code",
   "source": [
    "# show rmse data \n",
    "interval_comparison_data.rmse_data"
   ],
   "id": "262aa8a0779f9286",
   "outputs": [
    {
     "data": {
      "text/plain": [
       "             copasi  tellurium     amici\n",
       "copasi     0.000000   0.109545  0.209762\n",
       "tellurium  0.109545   0.000000  0.109545\n",
       "amici      0.209762   0.109545  0.000000"
      ],
      "text/html": [
       "<div>\n",
       "<style scoped>\n",
       "    .dataframe tbody tr th:only-of-type {\n",
       "        vertical-align: middle;\n",
       "    }\n",
       "\n",
       "    .dataframe tbody tr th {\n",
       "        vertical-align: top;\n",
       "    }\n",
       "\n",
       "    .dataframe thead th {\n",
       "        text-align: right;\n",
       "    }\n",
       "</style>\n",
       "<table border=\"1\" class=\"dataframe\">\n",
       "  <thead>\n",
       "    <tr style=\"text-align: right;\">\n",
       "      <th></th>\n",
       "      <th>copasi</th>\n",
       "      <th>tellurium</th>\n",
       "      <th>amici</th>\n",
       "    </tr>\n",
       "  </thead>\n",
       "  <tbody>\n",
       "    <tr>\n",
       "      <th>copasi</th>\n",
       "      <td>0.000000</td>\n",
       "      <td>0.109545</td>\n",
       "      <td>0.209762</td>\n",
       "    </tr>\n",
       "    <tr>\n",
       "      <th>tellurium</th>\n",
       "      <td>0.109545</td>\n",
       "      <td>0.000000</td>\n",
       "      <td>0.109545</td>\n",
       "    </tr>\n",
       "    <tr>\n",
       "      <th>amici</th>\n",
       "      <td>0.209762</td>\n",
       "      <td>0.109545</td>\n",
       "      <td>0.000000</td>\n",
       "    </tr>\n",
       "  </tbody>\n",
       "</table>\n",
       "</div>"
      ]
     },
     "execution_count": 8,
     "metadata": {},
     "output_type": "execute_result"
    }
   ],
   "execution_count": 8
  },
  {
   "metadata": {
    "ExecuteTime": {
     "end_time": "2024-05-16T12:48:14.786607Z",
     "start_time": "2024-05-16T12:48:14.784059Z"
    }
   },
   "cell_type": "code",
   "source": [
    "# show outer product data\n",
    "pp(interval_comparison_data.outer_prod_data)"
   ],
   "id": "cdb2131db5296468",
   "outputs": [
    {
     "name": "stdout",
     "output_type": "stream",
     "text": [
      "{ ('amici', 'amici'): array([[ 1.69,  3.12,  5.98,  7.54,  9.1 ],\n",
      "       [ 3.12,  5.76, 11.04, 13.92, 16.8 ],\n",
      "       [ 5.98, 11.04, 21.16, 26.68, 32.2 ],\n",
      "       [ 7.54, 13.92, 26.68, 33.64, 40.6 ],\n",
      "       [ 9.1 , 16.8 , 32.2 , 40.6 , 49.  ]]),\n",
      "  ('copasi', 'amici'): array([[ 1.69,  3.12,  5.98,  7.54,  9.1 ],\n",
      "       [ 3.12,  5.76, 11.04, 13.92, 16.8 ],\n",
      "       [ 5.59, 10.32, 19.78, 24.94, 30.1 ],\n",
      "       [ 7.28, 13.44, 25.76, 32.48, 39.2 ],\n",
      "       [ 8.71, 16.08, 30.82, 38.86, 46.9 ]]),\n",
      "  ('copasi', 'copasi'): array([[ 1.69,  3.12,  5.59,  7.28,  8.71],\n",
      "       [ 3.12,  5.76, 10.32, 13.44, 16.08],\n",
      "       [ 5.59, 10.32, 18.49, 24.08, 28.81],\n",
      "       [ 7.28, 13.44, 24.08, 31.36, 37.52],\n",
      "       [ 8.71, 16.08, 28.81, 37.52, 44.89]]),\n",
      "  ('copasi', 'tellurium'): array([[ 1.69,  3.12,  5.85,  7.41,  8.84],\n",
      "       [ 3.12,  5.76, 10.8 , 13.68, 16.32],\n",
      "       [ 5.59, 10.32, 19.35, 24.51, 29.24],\n",
      "       [ 7.28, 13.44, 25.2 , 31.92, 38.08],\n",
      "       [ 8.71, 16.08, 30.15, 38.19, 45.56]]),\n",
      "  ('tellurium', 'amici'): array([[ 1.69,  3.12,  5.98,  7.54,  9.1 ],\n",
      "       [ 3.12,  5.76, 11.04, 13.92, 16.8 ],\n",
      "       [ 5.85, 10.8 , 20.7 , 26.1 , 31.5 ],\n",
      "       [ 7.41, 13.68, 26.22, 33.06, 39.9 ],\n",
      "       [ 8.84, 16.32, 31.28, 39.44, 47.6 ]]),\n",
      "  ('tellurium', 'tellurium'): array([[ 1.69,  3.12,  5.85,  7.41,  8.84],\n",
      "       [ 3.12,  5.76, 10.8 , 13.68, 16.32],\n",
      "       [ 5.85, 10.8 , 20.25, 25.65, 30.6 ],\n",
      "       [ 7.41, 13.68, 25.65, 32.49, 38.76],\n",
      "       [ 8.84, 16.32, 30.6 , 38.76, 46.24]])}\n"
     ]
    }
   ],
   "execution_count": 9
  },
  {
   "metadata": {
    "ExecuteTime": {
     "end_time": "2024-05-16T12:48:14.789187Z",
     "start_time": "2024-05-16T12:48:14.787990Z"
    }
   },
   "cell_type": "code",
   "source": "",
   "id": "d09fc6aec4acac8c",
   "outputs": [],
   "execution_count": 9
  }
 ],
 "metadata": {
  "kernelspec": {
   "display_name": "Python 3",
   "language": "python",
   "name": "python3"
  },
  "language_info": {
   "codemirror_mode": {
    "name": "ipython",
    "version": 2
   },
   "file_extension": ".py",
   "mimetype": "text/x-python",
   "name": "python",
   "nbconvert_exporter": "python",
   "pygments_lexer": "ipython2",
   "version": "2.7.6"
  }
 },
 "nbformat": 4,
 "nbformat_minor": 5
}
