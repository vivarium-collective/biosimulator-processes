{
 "cells": [
  {
   "cell_type": "code",
   "id": "initial_id",
   "metadata": {
    "collapsed": true,
    "ExecuteTime": {
     "end_time": "2024-05-16T12:17:07.265896Z",
     "start_time": "2024-05-16T12:17:07.263556Z"
    }
   },
   "source": [
    "import sys\n",
    "\n",
    "import numpy as np\n",
    "\n",
    "sys.path.insert(0, '..')"
   ],
   "outputs": [],
   "execution_count": 2
  },
  {
   "metadata": {
    "ExecuteTime": {
     "end_time": "2024-05-16T12:17:50.373208Z",
     "start_time": "2024-05-16T12:17:50.368154Z"
    }
   },
   "cell_type": "code",
   "source": [
    "biomodel_id = 'BIOMD0000000630'\n",
    "duration = 100\n",
    "\n",
    "# sample time series outputs from three simulators\n",
    "output_copasi = np.array([1.3, 2.4, 4.3, 5.6, 6.7])\n",
    "output_tellurium = np.array([1.3, 2.4, 4.5, 5.7, 6.8])\n",
    "output_amici = np.array([1.3, 2.4, 4.6, 5.8, 7.0])\n",
    "interval_outputs = [output_copasi, output_tellurium, output_amici]\n",
    "\n",
    "# sample time id for a random interval in the range of duration\n",
    "time_id = np.random.randint(0, duration)"
   ],
   "id": "e545642fe90b038",
   "outputs": [],
   "execution_count": 3
  },
  {
   "metadata": {},
   "cell_type": "code",
   "outputs": [],
   "execution_count": null,
   "source": "",
   "id": "4ef2db06b9b15dfa"
  }
 ],
 "metadata": {
  "kernelspec": {
   "display_name": "Python 3",
   "language": "python",
   "name": "python3"
  },
  "language_info": {
   "codemirror_mode": {
    "name": "ipython",
    "version": 2
   },
   "file_extension": ".py",
   "mimetype": "text/x-python",
   "name": "python",
   "nbconvert_exporter": "python",
   "pygments_lexer": "ipython2",
   "version": "2.7.6"
  }
 },
 "nbformat": 4,
 "nbformat_minor": 5
}
