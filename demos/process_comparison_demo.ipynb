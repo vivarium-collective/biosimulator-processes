{
 "cells": [
  {
   "cell_type": "code",
   "id": "initial_id",
   "metadata": {
    "collapsed": true,
    "ExecuteTime": {
     "end_time": "2024-05-25T01:45:34.475186Z",
     "start_time": "2024-05-25T01:45:33.943192Z"
    }
   },
   "source": [
    "import sys\n",
    "\n",
    "import numpy as np\n",
    "from process_bigraph import pp\n",
    "\n",
    "sys.path.insert(0, '..')"
   ],
   "execution_count": 1,
   "outputs": []
  },
  {
   "metadata": {
    "ExecuteTime": {
     "end_time": "2024-05-16T13:31:17.323041Z",
     "start_time": "2024-05-16T13:31:17.319478Z"
    }
   },
   "cell_type": "code",
   "source": [
    "\"\"\"\n",
    "Interpretation of Metrics\n",
    "Low Inner Product & High MSE/RMSE:\n",
    "\n",
    "Description: Simulators produce outputs that are different both in magnitude and direction.\n",
    "Example: If inner_product_matrix[0, 2] is low and mse_matrix[0, 2] is high, copasi and amici are very different.\n",
    "High Inner Product & Low MSE/RMSE:\n",
    "\n",
    "Description: Simulators produce very similar and aligned outputs.\n",
    "Example: If inner_product_matrix[0, 1] is high and mse_matrix[0, 1] is low, copasi and tellurium are very similar.\n",
    "High Inner Product & High MSE/RMSE:\n",
    "\n",
    "Description: Simulators produce outputs that are aligned in direction but have significant differences in magnitude.\n",
    "Example: This scenario might indicate systematic biases in the simulators' outputs.\n",
    "Low Inner Product & Low MSE/RMSE:\n",
    "\n",
    "Description: Simulators produce similar outputs, but the alignment is not perfect.\n",
    "Example: This might indicate outputs that are close but vary slightly in their direction.\n",
    "\"\"\""
   ],
   "id": "c4afe383081a61e8",
   "execution_count": 2,
   "outputs": []
  },
  {
   "metadata": {},
   "cell_type": "markdown",
   "source": [
    "### Demonstrate a simple example with sample output data for a sample timestep manually"
   ],
   "id": "a4e8dec81b3796f1"
  },
  {
   "metadata": {
    "ExecuteTime": {
     "end_time": "2024-05-16T13:31:17.325889Z",
     "start_time": "2024-05-16T13:31:17.323738Z"
    }
   },
   "cell_type": "code",
   "source": [
    "biomodel_id = 'BIOMD0000000744'\n",
    "duration = 400\n",
    "\n",
    "# sample time series outputs from three simulators\n",
    "output_copasi = np.array([1.3, 2.4, 4.3, 5.6, 6.7])\n",
    "output_tellurium = np.array([1.3, 2.4, 4.5, 5.7, 6.8])\n",
    "output_amici = np.array([1.3, 2.4, 4.6, 5.8, 7.0])\n",
    "interval_outputs = [output_copasi, output_tellurium, output_amici]\n",
    "feature_names = ['param_a', 'param_b', 'param_c', 'param_d', 'param_e']\n",
    "\n",
    "# sample time id for a random interval in the range of duration\n",
    "time_id = np.random.randint(0, duration)"
   ],
   "id": "e545642fe90b038",
   "execution_count": 3,
   "outputs": []
  },
  {
   "metadata": {
    "ExecuteTime": {
     "end_time": "2024-05-16T13:31:18.192406Z",
     "start_time": "2024-05-16T13:31:17.326977Z"
    }
   },
   "cell_type": "code",
   "source": [
    "from biosimulator_processes.data_model.compare_data_model import ODEProcessIntervalComparison, ODEComparisonResult\n",
    "from biosimulator_processes.verify.core import generate_ode_process_interval_comparison_data, plot_ode_process_comparison"
   ],
   "id": "4ef2db06b9b15dfa",
   "execution_count": 4,
   "outputs": []
  },
  {
   "metadata": {
    "ExecuteTime": {
     "end_time": "2024-05-16T13:31:18.195701Z",
     "start_time": "2024-05-16T13:31:18.193031Z"
    }
   },
   "cell_type": "code",
   "source": [
    "# generate object with comparison dataframes for sample data\n",
    "interval_comparison_data: ODEProcessIntervalComparison = generate_ode_process_interval_comparison_data(interval_outputs, time_id)\n",
    "\n",
    "# show time id for sample interval\n",
    "interval_comparison_data.time_id"
   ],
   "id": "b958d96e7fb44ea8",
   "execution_count": 5,
   "outputs": []
  },
  {
   "metadata": {
    "ExecuteTime": {
     "end_time": "2024-05-16T13:31:18.200301Z",
     "start_time": "2024-05-16T13:31:18.196351Z"
    }
   },
   "cell_type": "code",
   "source": [
    "# show mse data\n",
    "interval_comparison_data.mse_data"
   ],
   "id": "e715f63503a2c63c",
   "execution_count": 6,
   "outputs": []
  },
  {
   "metadata": {
    "ExecuteTime": {
     "end_time": "2024-05-16T13:31:18.203905Z",
     "start_time": "2024-05-16T13:31:18.200959Z"
    }
   },
   "cell_type": "code",
   "source": [
    "# show inner product data \n",
    "interval_comparison_data.inner_prod_data"
   ],
   "id": "386143081014569d",
   "execution_count": 7,
   "outputs": []
  },
  {
   "metadata": {
    "ExecuteTime": {
     "end_time": "2024-05-16T13:31:18.207186Z",
     "start_time": "2024-05-16T13:31:18.204395Z"
    }
   },
   "cell_type": "code",
   "source": [
    "# show rmse data \n",
    "interval_comparison_data.rmse_data"
   ],
   "id": "262aa8a0779f9286",
   "execution_count": 8,
   "outputs": []
  },
  {
   "metadata": {
    "ExecuteTime": {
     "end_time": "2024-05-16T13:31:18.210107Z",
     "start_time": "2024-05-16T13:31:18.207660Z"
    }
   },
   "cell_type": "code",
   "source": [
    "# show outer product data\n",
    "pp(interval_comparison_data.outer_prod_data)"
   ],
   "id": "cdb2131db5296468",
   "execution_count": 9,
   "outputs": []
  },
  {
   "metadata": {},
   "cell_type": "markdown",
   "source": [
    "### Now, perform this analysis over an interation of real ode simulator composite data"
   ],
   "id": "76a710e75081e93d"
  },
  {
   "metadata": {
    "ExecuteTime": {
     "end_time": "2024-05-16T13:31:29.595837Z",
     "start_time": "2024-05-16T13:31:18.211750Z"
    }
   },
   "cell_type": "code",
   "source": [
    "# 1. generate a comparison output which initializes data on construction\n",
    "ode_process_comparison_output = ODEComparisonResult(duration=duration, num_steps=400, biomodel_id=biomodel_id)"
   ],
   "id": "d09fc6aec4acac8c",
   "execution_count": 10,
   "outputs": []
  },
  {
   "metadata": {
    "ExecuteTime": {
     "end_time": "2024-05-16T13:31:29.598776Z",
     "start_time": "2024-05-16T13:31:29.596648Z"
    }
   },
   "cell_type": "code",
   "source": [
    "# 1a. show a small sample of the output data\n",
    "pp(ode_process_comparison_output.outputs[:2])"
   ],
   "id": "c6beccc1dbac44c",
   "execution_count": 11,
   "outputs": []
  },
  {
   "metadata": {
    "ExecuteTime": {
     "end_time": "2024-05-16T13:31:29.719157Z",
     "start_time": "2024-05-16T13:31:29.599394Z"
    }
   },
   "cell_type": "code",
   "source": [
    "from biosimulator_processes.verify.core import generate_interval_comparisons\n",
    "\n",
    "# 2. generate comparison data for all intervals\n",
    "all_interval_comparisons = generate_interval_comparisons(ode_process_comparison_output)\n",
    "\n",
    "# 2a. pick a random index from the length of comparisons\n",
    "interval_index = np.random.randint(0, len(all_interval_comparisons))    "
   ],
   "id": "701416bdd281d7e2",
   "execution_count": 12,
   "outputs": []
  },
  {
   "metadata": {
    "ExecuteTime": {
     "end_time": "2024-05-16T13:31:29.723864Z",
     "start_time": "2024-05-16T13:31:29.719925Z"
    }
   },
   "cell_type": "code",
   "source": [
    "# 3. show mse data from random index\n",
    "interval_mse = all_interval_comparisons[interval_index].mse_data\n",
    "\n",
    "interval_mse"
   ],
   "id": "4e6c96f14eca96e",
   "execution_count": 13,
   "outputs": []
  },
  {
   "metadata": {
    "ExecuteTime": {
     "end_time": "2024-05-16T13:31:29.727588Z",
     "start_time": "2024-05-16T13:31:29.724523Z"
    }
   },
   "cell_type": "code",
   "source": [
    "# 3a. show rmse data\n",
    "interval_rmse = all_interval_comparisons[interval_index].rmse_data\n",
    "\n",
    "interval_rmse"
   ],
   "id": "9487c64da58b2c5d",
   "execution_count": 14,
   "outputs": []
  },
  {
   "metadata": {
    "ExecuteTime": {
     "end_time": "2024-05-16T13:31:29.731354Z",
     "start_time": "2024-05-16T13:31:29.728212Z"
    }
   },
   "cell_type": "code",
   "source": [
    "# 3b. show inner product data \n",
    "interval_inner_prod = all_interval_comparisons[interval_index].inner_prod_data\n",
    "\n",
    "interval_inner_prod"
   ],
   "id": "4a97bfc438450674",
   "execution_count": 15,
   "outputs": []
  },
  {
   "metadata": {
    "ExecuteTime": {
     "end_time": "2024-05-16T13:31:29.734633Z",
     "start_time": "2024-05-16T13:31:29.731926Z"
    }
   },
   "cell_type": "code",
   "source": [
    "# 3c. show outer prod data for indices within interval\n",
    "pp(all_interval_comparisons[interval_index].outer_prod_data)"
   ],
   "id": "d6feb45e3c85a362",
   "execution_count": 16,
   "outputs": []
  },
  {
   "metadata": {
    "ExecuteTime": {
     "end_time": "2024-05-16T13:31:30.064999Z",
     "start_time": "2024-05-16T13:31:29.735284Z"
    }
   },
   "cell_type": "code",
   "source": [
    "# 4. plot these outputs\n",
    "plot_ode_process_comparison(interval_mse, interval_rmse, interval_inner_prod, outer_product_matrices=all_interval_comparisons[interval_index].outer_prod_data)"
   ],
   "id": "c26cc20396bd028a",
   "execution_count": 17,
   "outputs": []
  },
  {
   "metadata": {
    "ExecuteTime": {
     "end_time": "2024-05-16T13:31:30.067120Z",
     "start_time": "2024-05-16T13:31:30.065780Z"
    }
   },
   "cell_type": "code",
   "source": [
    "from biosimulator_processes.processes.instance import generate_ode_process_instance\n",
    "\n",
    "\n",
    "\n"
   ],
   "id": "84f8b41e67dba682",
   "execution_count": 17,
   "outputs": []
  }
 ],
 "metadata": {
  "kernelspec": {
   "display_name": "Python 3",
   "language": "python",
   "name": "python3"
  },
  "language_info": {
   "codemirror_mode": {
    "name": "ipython",
    "version": 2
   },
   "file_extension": ".py",
   "mimetype": "text/x-python",
   "name": "python",
   "nbconvert_exporter": "python",
   "pygments_lexer": "ipython2",
   "version": "2.7.6"
  }
 },
 "nbformat": 4,
 "nbformat_minor": 5
}
