{
 "cells": [
  {
   "cell_type": "code",
   "id": "initial_id",
   "metadata": {
    "collapsed": true,
    "ExecuteTime": {
     "end_time": "2024-05-16T13:31:17.318214Z",
     "start_time": "2024-05-16T13:31:17.134520Z"
    }
   },
   "source": [
    "import sys\n",
    "\n",
    "import numpy as np\n",
    "from process_bigraph import pp\n",
    "\n",
    "sys.path.insert(0, '..')"
   ],
   "outputs": [],
   "execution_count": 1
  },
  {
   "metadata": {
    "ExecuteTime": {
     "end_time": "2024-05-16T13:31:17.323041Z",
     "start_time": "2024-05-16T13:31:17.319478Z"
    }
   },
   "cell_type": "code",
   "source": [
    "\"\"\"\n",
    "Interpretation of Metrics\n",
    "Low Inner Product & High MSE/RMSE:\n",
    "\n",
    "Description: Simulators produce outputs that are different both in magnitude and direction.\n",
    "Example: If inner_product_matrix[0, 2] is low and mse_matrix[0, 2] is high, copasi and amici are very different.\n",
    "High Inner Product & Low MSE/RMSE:\n",
    "\n",
    "Description: Simulators produce very similar and aligned outputs.\n",
    "Example: If inner_product_matrix[0, 1] is high and mse_matrix[0, 1] is low, copasi and tellurium are very similar.\n",
    "High Inner Product & High MSE/RMSE:\n",
    "\n",
    "Description: Simulators produce outputs that are aligned in direction but have significant differences in magnitude.\n",
    "Example: This scenario might indicate systematic biases in the simulators' outputs.\n",
    "Low Inner Product & Low MSE/RMSE:\n",
    "\n",
    "Description: Simulators produce similar outputs, but the alignment is not perfect.\n",
    "Example: This might indicate outputs that are close but vary slightly in their direction.\n",
    "\"\"\""
   ],
   "id": "c4afe383081a61e8",
   "outputs": [
    {
     "data": {
      "text/plain": [
       "\"\\nInterpretation of Metrics\\nLow Inner Product & High MSE/RMSE:\\n\\nDescription: Simulators produce outputs that are different both in magnitude and direction.\\nExample: If inner_product_matrix[0, 2] is low and mse_matrix[0, 2] is high, copasi and amici are very different.\\nHigh Inner Product & Low MSE/RMSE:\\n\\nDescription: Simulators produce very similar and aligned outputs.\\nExample: If inner_product_matrix[0, 1] is high and mse_matrix[0, 1] is low, copasi and tellurium are very similar.\\nHigh Inner Product & High MSE/RMSE:\\n\\nDescription: Simulators produce outputs that are aligned in direction but have significant differences in magnitude.\\nExample: This scenario might indicate systematic biases in the simulators' outputs.\\nLow Inner Product & Low MSE/RMSE:\\n\\nDescription: Simulators produce similar outputs, but the alignment is not perfect.\\nExample: This might indicate outputs that are close but vary slightly in their direction.\\n\""
      ]
     },
     "execution_count": 2,
     "metadata": {},
     "output_type": "execute_result"
    }
   ],
   "execution_count": 2
  },
  {
   "metadata": {},
   "cell_type": "markdown",
   "source": "### Demonstrate a simple example with sample output data for a sample timestep manually",
   "id": "a4e8dec81b3796f1"
  },
  {
   "metadata": {
    "ExecuteTime": {
     "end_time": "2024-05-16T13:31:17.325889Z",
     "start_time": "2024-05-16T13:31:17.323738Z"
    }
   },
   "cell_type": "code",
   "source": [
    "biomodel_id = 'BIOMD0000000744'\n",
    "duration = 400\n",
    "\n",
    "# sample time series outputs from three simulators\n",
    "output_copasi = np.array([1.3, 2.4, 4.3, 5.6, 6.7])\n",
    "output_tellurium = np.array([1.3, 2.4, 4.5, 5.7, 6.8])\n",
    "output_amici = np.array([1.3, 2.4, 4.6, 5.8, 7.0])\n",
    "interval_outputs = [output_copasi, output_tellurium, output_amici]\n",
    "feature_names = ['param_a', 'param_b', 'param_c', 'param_d', 'param_e']\n",
    "\n",
    "# sample time id for a random interval in the range of duration\n",
    "time_id = np.random.randint(0, duration)"
   ],
   "id": "e545642fe90b038",
   "outputs": [],
   "execution_count": 3
  },
  {
   "metadata": {
    "ExecuteTime": {
     "end_time": "2024-05-16T13:31:18.192406Z",
     "start_time": "2024-05-16T13:31:17.326977Z"
    }
   },
   "cell_type": "code",
   "source": [
    "from biosimulator_processes.data_model.compare_data_model import ODEProcessIntervalComparison, ODEComparisonResult\n",
    "from biosimulator_processes.verify.exec import generate_ode_process_interval_comparison_data, plot_ode_process_comparison"
   ],
   "id": "4ef2db06b9b15dfa",
   "outputs": [
    {
     "name": "stdout",
     "output_type": "stream",
     "text": [
      "CobraProcess registered successfully.\n",
      "CopasiProcess registered successfully.\n",
      "_CopasiProcess registered successfully.\n",
      "SmoldynProcess registered successfully.\n",
      "TelluriumProcess registered successfully.\n",
      "AmiciProcess registered successfully.\n",
      "ODEComparatorProcess registered successfully.\n",
      "GetSbmlStep registered successfully.\n",
      "CompositionPlotter registered successfully.\n",
      "Plotter2d registered successfully.\n",
      "ODEComparatorStep registered successfully.\n"
     ]
    }
   ],
   "execution_count": 4
  },
  {
   "metadata": {
    "ExecuteTime": {
     "end_time": "2024-05-16T13:31:18.195701Z",
     "start_time": "2024-05-16T13:31:18.193031Z"
    }
   },
   "cell_type": "code",
   "source": [
    "# generate object with comparison dataframes for sample data\n",
    "interval_comparison_data: ODEProcessIntervalComparison = generate_ode_process_interval_comparison_data(interval_outputs, time_id)\n",
    "\n",
    "# show time id for sample interval\n",
    "interval_comparison_data.time_id"
   ],
   "id": "b958d96e7fb44ea8",
   "outputs": [
    {
     "data": {
      "text/plain": [
       "92"
      ]
     },
     "execution_count": 5,
     "metadata": {},
     "output_type": "execute_result"
    }
   ],
   "execution_count": 5
  },
  {
   "metadata": {
    "ExecuteTime": {
     "end_time": "2024-05-16T13:31:18.200301Z",
     "start_time": "2024-05-16T13:31:18.196351Z"
    }
   },
   "cell_type": "code",
   "source": [
    "# show mse data\n",
    "interval_comparison_data.mse_data"
   ],
   "id": "e715f63503a2c63c",
   "outputs": [
    {
     "data": {
      "text/plain": [
       "           copasi  tellurium  amici\n",
       "copasi      0.000      0.012  0.044\n",
       "tellurium   0.012      0.000  0.012\n",
       "amici       0.044      0.012  0.000"
      ],
      "text/html": [
       "<div>\n",
       "<style scoped>\n",
       "    .dataframe tbody tr th:only-of-type {\n",
       "        vertical-align: middle;\n",
       "    }\n",
       "\n",
       "    .dataframe tbody tr th {\n",
       "        vertical-align: top;\n",
       "    }\n",
       "\n",
       "    .dataframe thead th {\n",
       "        text-align: right;\n",
       "    }\n",
       "</style>\n",
       "<table border=\"1\" class=\"dataframe\">\n",
       "  <thead>\n",
       "    <tr style=\"text-align: right;\">\n",
       "      <th></th>\n",
       "      <th>copasi</th>\n",
       "      <th>tellurium</th>\n",
       "      <th>amici</th>\n",
       "    </tr>\n",
       "  </thead>\n",
       "  <tbody>\n",
       "    <tr>\n",
       "      <th>copasi</th>\n",
       "      <td>0.000</td>\n",
       "      <td>0.012</td>\n",
       "      <td>0.044</td>\n",
       "    </tr>\n",
       "    <tr>\n",
       "      <th>tellurium</th>\n",
       "      <td>0.012</td>\n",
       "      <td>0.000</td>\n",
       "      <td>0.012</td>\n",
       "    </tr>\n",
       "    <tr>\n",
       "      <th>amici</th>\n",
       "      <td>0.044</td>\n",
       "      <td>0.012</td>\n",
       "      <td>0.000</td>\n",
       "    </tr>\n",
       "  </tbody>\n",
       "</table>\n",
       "</div>"
      ]
     },
     "execution_count": 6,
     "metadata": {},
     "output_type": "execute_result"
    }
   ],
   "execution_count": 6
  },
  {
   "metadata": {
    "ExecuteTime": {
     "end_time": "2024-05-16T13:31:18.203905Z",
     "start_time": "2024-05-16T13:31:18.200959Z"
    }
   },
   "cell_type": "code",
   "source": [
    "# show inner product data \n",
    "interval_comparison_data.inner_prod_data"
   ],
   "id": "386143081014569d",
   "outputs": [
    {
     "data": {
      "text/plain": [
       "           copasi  tellurium   amici\n",
       "copasi     102.19     104.28  106.61\n",
       "tellurium  104.28     106.43  108.81\n",
       "amici      106.61     108.81  111.25"
      ],
      "text/html": [
       "<div>\n",
       "<style scoped>\n",
       "    .dataframe tbody tr th:only-of-type {\n",
       "        vertical-align: middle;\n",
       "    }\n",
       "\n",
       "    .dataframe tbody tr th {\n",
       "        vertical-align: top;\n",
       "    }\n",
       "\n",
       "    .dataframe thead th {\n",
       "        text-align: right;\n",
       "    }\n",
       "</style>\n",
       "<table border=\"1\" class=\"dataframe\">\n",
       "  <thead>\n",
       "    <tr style=\"text-align: right;\">\n",
       "      <th></th>\n",
       "      <th>copasi</th>\n",
       "      <th>tellurium</th>\n",
       "      <th>amici</th>\n",
       "    </tr>\n",
       "  </thead>\n",
       "  <tbody>\n",
       "    <tr>\n",
       "      <th>copasi</th>\n",
       "      <td>102.19</td>\n",
       "      <td>104.28</td>\n",
       "      <td>106.61</td>\n",
       "    </tr>\n",
       "    <tr>\n",
       "      <th>tellurium</th>\n",
       "      <td>104.28</td>\n",
       "      <td>106.43</td>\n",
       "      <td>108.81</td>\n",
       "    </tr>\n",
       "    <tr>\n",
       "      <th>amici</th>\n",
       "      <td>106.61</td>\n",
       "      <td>108.81</td>\n",
       "      <td>111.25</td>\n",
       "    </tr>\n",
       "  </tbody>\n",
       "</table>\n",
       "</div>"
      ]
     },
     "execution_count": 7,
     "metadata": {},
     "output_type": "execute_result"
    }
   ],
   "execution_count": 7
  },
  {
   "metadata": {
    "ExecuteTime": {
     "end_time": "2024-05-16T13:31:18.207186Z",
     "start_time": "2024-05-16T13:31:18.204395Z"
    }
   },
   "cell_type": "code",
   "source": [
    "# show rmse data \n",
    "interval_comparison_data.rmse_data"
   ],
   "id": "262aa8a0779f9286",
   "outputs": [
    {
     "data": {
      "text/plain": [
       "             copasi  tellurium     amici\n",
       "copasi     0.000000   0.109545  0.209762\n",
       "tellurium  0.109545   0.000000  0.109545\n",
       "amici      0.209762   0.109545  0.000000"
      ],
      "text/html": [
       "<div>\n",
       "<style scoped>\n",
       "    .dataframe tbody tr th:only-of-type {\n",
       "        vertical-align: middle;\n",
       "    }\n",
       "\n",
       "    .dataframe tbody tr th {\n",
       "        vertical-align: top;\n",
       "    }\n",
       "\n",
       "    .dataframe thead th {\n",
       "        text-align: right;\n",
       "    }\n",
       "</style>\n",
       "<table border=\"1\" class=\"dataframe\">\n",
       "  <thead>\n",
       "    <tr style=\"text-align: right;\">\n",
       "      <th></th>\n",
       "      <th>copasi</th>\n",
       "      <th>tellurium</th>\n",
       "      <th>amici</th>\n",
       "    </tr>\n",
       "  </thead>\n",
       "  <tbody>\n",
       "    <tr>\n",
       "      <th>copasi</th>\n",
       "      <td>0.000000</td>\n",
       "      <td>0.109545</td>\n",
       "      <td>0.209762</td>\n",
       "    </tr>\n",
       "    <tr>\n",
       "      <th>tellurium</th>\n",
       "      <td>0.109545</td>\n",
       "      <td>0.000000</td>\n",
       "      <td>0.109545</td>\n",
       "    </tr>\n",
       "    <tr>\n",
       "      <th>amici</th>\n",
       "      <td>0.209762</td>\n",
       "      <td>0.109545</td>\n",
       "      <td>0.000000</td>\n",
       "    </tr>\n",
       "  </tbody>\n",
       "</table>\n",
       "</div>"
      ]
     },
     "execution_count": 8,
     "metadata": {},
     "output_type": "execute_result"
    }
   ],
   "execution_count": 8
  },
  {
   "metadata": {
    "ExecuteTime": {
     "end_time": "2024-05-16T13:31:18.210107Z",
     "start_time": "2024-05-16T13:31:18.207660Z"
    }
   },
   "cell_type": "code",
   "source": [
    "# show outer product data\n",
    "pp(interval_comparison_data.outer_prod_data)"
   ],
   "id": "cdb2131db5296468",
   "outputs": [
    {
     "name": "stdout",
     "output_type": "stream",
     "text": [
      "{ ('amici', 'amici'): array([[ 1.69,  3.12,  5.98,  7.54,  9.1 ],\n",
      "       [ 3.12,  5.76, 11.04, 13.92, 16.8 ],\n",
      "       [ 5.98, 11.04, 21.16, 26.68, 32.2 ],\n",
      "       [ 7.54, 13.92, 26.68, 33.64, 40.6 ],\n",
      "       [ 9.1 , 16.8 , 32.2 , 40.6 , 49.  ]]),\n",
      "  ('copasi', 'amici'): array([[ 1.69,  3.12,  5.98,  7.54,  9.1 ],\n",
      "       [ 3.12,  5.76, 11.04, 13.92, 16.8 ],\n",
      "       [ 5.59, 10.32, 19.78, 24.94, 30.1 ],\n",
      "       [ 7.28, 13.44, 25.76, 32.48, 39.2 ],\n",
      "       [ 8.71, 16.08, 30.82, 38.86, 46.9 ]]),\n",
      "  ('copasi', 'copasi'): array([[ 1.69,  3.12,  5.59,  7.28,  8.71],\n",
      "       [ 3.12,  5.76, 10.32, 13.44, 16.08],\n",
      "       [ 5.59, 10.32, 18.49, 24.08, 28.81],\n",
      "       [ 7.28, 13.44, 24.08, 31.36, 37.52],\n",
      "       [ 8.71, 16.08, 28.81, 37.52, 44.89]]),\n",
      "  ('copasi', 'tellurium'): array([[ 1.69,  3.12,  5.85,  7.41,  8.84],\n",
      "       [ 3.12,  5.76, 10.8 , 13.68, 16.32],\n",
      "       [ 5.59, 10.32, 19.35, 24.51, 29.24],\n",
      "       [ 7.28, 13.44, 25.2 , 31.92, 38.08],\n",
      "       [ 8.71, 16.08, 30.15, 38.19, 45.56]]),\n",
      "  ('tellurium', 'amici'): array([[ 1.69,  3.12,  5.98,  7.54,  9.1 ],\n",
      "       [ 3.12,  5.76, 11.04, 13.92, 16.8 ],\n",
      "       [ 5.85, 10.8 , 20.7 , 26.1 , 31.5 ],\n",
      "       [ 7.41, 13.68, 26.22, 33.06, 39.9 ],\n",
      "       [ 8.84, 16.32, 31.28, 39.44, 47.6 ]]),\n",
      "  ('tellurium', 'tellurium'): array([[ 1.69,  3.12,  5.85,  7.41,  8.84],\n",
      "       [ 3.12,  5.76, 10.8 , 13.68, 16.32],\n",
      "       [ 5.85, 10.8 , 20.25, 25.65, 30.6 ],\n",
      "       [ 7.41, 13.68, 25.65, 32.49, 38.76],\n",
      "       [ 8.84, 16.32, 30.6 , 38.76, 46.24]])}\n"
     ]
    }
   ],
   "execution_count": 9
  },
  {
   "metadata": {},
   "cell_type": "markdown",
   "source": "### Now, perform this analysis over an interation of real ode simulator composite data",
   "id": "76a710e75081e93d"
  },
  {
   "metadata": {
    "ExecuteTime": {
     "end_time": "2024-05-16T13:31:29.595837Z",
     "start_time": "2024-05-16T13:31:18.211750Z"
    }
   },
   "cell_type": "code",
   "source": [
    "# 1. generate a comparison output which initializes data on construction\n",
    "ode_process_comparison_output = ODEComparisonResult(duration=duration, num_steps=400, biomodel_id=biomodel_id)"
   ],
   "id": "d09fc6aec4acac8c",
   "outputs": [
    {
     "name": "stderr",
     "output_type": "stream",
     "text": [
      "2024-05-16 09:31:19.126 - amici.sbml_import - INFO - Finished importing SBML                         (2.69E-02s)\n",
      "2024-05-16 09:31:19.147 - amici.sbml_import - INFO - Finished processing SBML observables            (1.90E-02s)\n",
      "2024-05-16 09:31:19.149 - amici.sbml_import - INFO - Finished processing SBML event observables      (7.91E-07s)\n",
      "2024-05-16 09:31:19.173 - amici.de_model - INFO - Finished computing xdot                            (1.59E-03s)\n",
      "2024-05-16 09:31:19.177 - amici.de_model - INFO - Finished computing x0                              (1.64E-03s)\n",
      "2024-05-16 09:31:19.208 - amici.de_model - INFO - Finished computing w                               (1.79E-02s)\n"
     ]
    },
    {
     "name": "stdout",
     "output_type": "stream",
     "text": [
      "found a filepath\n"
     ]
    },
    {
     "name": "stderr",
     "output_type": "stream",
     "text": [
      "2024-05-16 09:31:19.529 - amici.de_export - INFO - Finished generating cpp code                      (3.17E-01s)\n",
      "2024-05-16 09:31:27.868 - amici.de_export - INFO - Finished compiling cpp code                       (8.34E+00s)\n",
      "/Users/alexanderpatrie/Desktop/repos/biosimulator-processes/demos/../biosimulator_processes/processes/copasi_process.py:205: FutureWarning:\n",
      "\n",
      "Series.__getitem__ treating keys as positions is deprecated. In a future version, integer keys will always be treated as labels (consistent with DataFrame behavior). To access a value by position, use `ser.iloc[pos]`\n",
      "\n"
     ]
    }
   ],
   "execution_count": 10
  },
  {
   "metadata": {
    "ExecuteTime": {
     "end_time": "2024-05-16T13:31:29.598776Z",
     "start_time": "2024-05-16T13:31:29.596648Z"
    }
   },
   "cell_type": "code",
   "source": [
    "# 1a. show a small sample of the output data\n",
    "pp(ode_process_comparison_output.outputs[:2])"
   ],
   "id": "c6beccc1dbac44c",
   "outputs": [
    {
     "name": "stdout",
     "output_type": "stream",
     "text": [
      "[ ODEIntervalResult(interval_id=0.0,\n",
      "                    copasi_floating_species_concentrations={ 'v': 0.0,\n",
      "                                                             'w': 0.0,\n",
      "                                                             'x': 0.0,\n",
      "                                                             'y': 0.0,\n",
      "                                                             'z': 0.0},\n",
      "                    tellurium_floating_species_concentrations={ 'v': 0.0,\n",
      "                                                                'w': 0.0,\n",
      "                                                                'x': 0.0,\n",
      "                                                                'y': 0.0,\n",
      "                                                                'z': 0.0},\n",
      "                    amici_floating_species_concentrations={ 'v': 0.0,\n",
      "                                                            'w': 0.0,\n",
      "                                                            'x': 0.0,\n",
      "                                                            'y': 0.0,\n",
      "                                                            'z': 0.0},\n",
      "                    time=0.0),\n",
      "  ODEIntervalResult(interval_id=1.0,\n",
      "                    copasi_floating_species_concentrations={ 'v': 8.120385674906026e+29,\n",
      "                                                             'w': 1.0269512321591818e+30,\n",
      "                                                             'x': 4.561206356844313e+29,\n",
      "                                                             'y': 3.3349051597179906e+27,\n",
      "                                                             'z': 1.1215709979998012e+29},\n",
      "                    tellurium_floating_species_concentrations={ 'v': 0.0,\n",
      "                                                                'w': 0.0,\n",
      "                                                                'x': 0.0,\n",
      "                                                                'y': 0.0,\n",
      "                                                                'z': 3465.232864640857},\n",
      "                    amici_floating_species_concentrations={ 'v': 9.4,\n",
      "                                                            'w': 50000.0,\n",
      "                                                            'x': 1000000000.0,\n",
      "                                                            'y': 5600000.0,\n",
      "                                                            'z': 190000000.0},\n",
      "                    time=3.0)]\n"
     ]
    }
   ],
   "execution_count": 11
  },
  {
   "metadata": {
    "ExecuteTime": {
     "end_time": "2024-05-16T13:31:29.719157Z",
     "start_time": "2024-05-16T13:31:29.599394Z"
    }
   },
   "cell_type": "code",
   "source": [
    "from biosimulator_processes.verify.exec import generate_interval_comparisons\n",
    "\n",
    "# 2. generate comparison data for all intervals\n",
    "all_interval_comparisons = generate_interval_comparisons(ode_process_comparison_output)\n",
    "\n",
    "# 2a. pick a random index from the length of comparisons\n",
    "interval_index = np.random.randint(0, len(all_interval_comparisons))    "
   ],
   "id": "701416bdd281d7e2",
   "outputs": [],
   "execution_count": 12
  },
  {
   "metadata": {
    "ExecuteTime": {
     "end_time": "2024-05-16T13:31:29.723864Z",
     "start_time": "2024-05-16T13:31:29.719925Z"
    }
   },
   "cell_type": "code",
   "source": [
    "# 3. show mse data from random index\n",
    "interval_mse = all_interval_comparisons[interval_index].mse_data\n",
    "\n",
    "interval_mse"
   ],
   "id": "4e6c96f14eca96e",
   "outputs": [
    {
     "data": {
      "text/plain": [
       "                 copasi     tellurium         amici\n",
       "copasi     0.000000e+00  1.423025e+65  1.423025e+65\n",
       "tellurium  1.423025e+65  0.000000e+00  5.180653e+20\n",
       "amici      1.423025e+65  5.180653e+20  0.000000e+00"
      ],
      "text/html": [
       "<div>\n",
       "<style scoped>\n",
       "    .dataframe tbody tr th:only-of-type {\n",
       "        vertical-align: middle;\n",
       "    }\n",
       "\n",
       "    .dataframe tbody tr th {\n",
       "        vertical-align: top;\n",
       "    }\n",
       "\n",
       "    .dataframe thead th {\n",
       "        text-align: right;\n",
       "    }\n",
       "</style>\n",
       "<table border=\"1\" class=\"dataframe\">\n",
       "  <thead>\n",
       "    <tr style=\"text-align: right;\">\n",
       "      <th></th>\n",
       "      <th>copasi</th>\n",
       "      <th>tellurium</th>\n",
       "      <th>amici</th>\n",
       "    </tr>\n",
       "  </thead>\n",
       "  <tbody>\n",
       "    <tr>\n",
       "      <th>copasi</th>\n",
       "      <td>0.000000e+00</td>\n",
       "      <td>1.423025e+65</td>\n",
       "      <td>1.423025e+65</td>\n",
       "    </tr>\n",
       "    <tr>\n",
       "      <th>tellurium</th>\n",
       "      <td>1.423025e+65</td>\n",
       "      <td>0.000000e+00</td>\n",
       "      <td>5.180653e+20</td>\n",
       "    </tr>\n",
       "    <tr>\n",
       "      <th>amici</th>\n",
       "      <td>1.423025e+65</td>\n",
       "      <td>5.180653e+20</td>\n",
       "      <td>0.000000e+00</td>\n",
       "    </tr>\n",
       "  </tbody>\n",
       "</table>\n",
       "</div>"
      ]
     },
     "execution_count": 13,
     "metadata": {},
     "output_type": "execute_result"
    }
   ],
   "execution_count": 13
  },
  {
   "metadata": {
    "ExecuteTime": {
     "end_time": "2024-05-16T13:31:29.727588Z",
     "start_time": "2024-05-16T13:31:29.724523Z"
    }
   },
   "cell_type": "code",
   "source": [
    "# 3a. show rmse data\n",
    "interval_rmse = all_interval_comparisons[interval_index].rmse_data\n",
    "\n",
    "interval_rmse"
   ],
   "id": "9487c64da58b2c5d",
   "outputs": [
    {
     "data": {
      "text/plain": [
       "                 copasi     tellurium         amici\n",
       "copasi     0.000000e+00  3.772301e+32  3.772301e+32\n",
       "tellurium  3.772301e+32  0.000000e+00  2.276105e+10\n",
       "amici      3.772301e+32  2.276105e+10  0.000000e+00"
      ],
      "text/html": [
       "<div>\n",
       "<style scoped>\n",
       "    .dataframe tbody tr th:only-of-type {\n",
       "        vertical-align: middle;\n",
       "    }\n",
       "\n",
       "    .dataframe tbody tr th {\n",
       "        vertical-align: top;\n",
       "    }\n",
       "\n",
       "    .dataframe thead th {\n",
       "        text-align: right;\n",
       "    }\n",
       "</style>\n",
       "<table border=\"1\" class=\"dataframe\">\n",
       "  <thead>\n",
       "    <tr style=\"text-align: right;\">\n",
       "      <th></th>\n",
       "      <th>copasi</th>\n",
       "      <th>tellurium</th>\n",
       "      <th>amici</th>\n",
       "    </tr>\n",
       "  </thead>\n",
       "  <tbody>\n",
       "    <tr>\n",
       "      <th>copasi</th>\n",
       "      <td>0.000000e+00</td>\n",
       "      <td>3.772301e+32</td>\n",
       "      <td>3.772301e+32</td>\n",
       "    </tr>\n",
       "    <tr>\n",
       "      <th>tellurium</th>\n",
       "      <td>3.772301e+32</td>\n",
       "      <td>0.000000e+00</td>\n",
       "      <td>2.276105e+10</td>\n",
       "    </tr>\n",
       "    <tr>\n",
       "      <th>amici</th>\n",
       "      <td>3.772301e+32</td>\n",
       "      <td>2.276105e+10</td>\n",
       "      <td>0.000000e+00</td>\n",
       "    </tr>\n",
       "  </tbody>\n",
       "</table>\n",
       "</div>"
      ]
     },
     "execution_count": 14,
     "metadata": {},
     "output_type": "execute_result"
    }
   ],
   "execution_count": 14
  },
  {
   "metadata": {
    "ExecuteTime": {
     "end_time": "2024-05-16T13:31:29.731354Z",
     "start_time": "2024-05-16T13:31:29.728212Z"
    }
   },
   "cell_type": "code",
   "source": [
    "# 3b. show inner product data \n",
    "interval_inner_prod = all_interval_comparisons[interval_index].inner_prod_data\n",
    "\n",
    "interval_inner_prod"
   ],
   "id": "4a97bfc438450674",
   "outputs": [
    {
     "data": {
      "text/plain": [
       "                 copasi     tellurium         amici\n",
       "copasi     7.115126e+65  3.962599e+35  1.386043e+42\n",
       "tellurium  3.962599e+35  1.223583e+10  1.050849e+15\n",
       "amici      1.386043e+42  1.050849e+15  2.590328e+21"
      ],
      "text/html": [
       "<div>\n",
       "<style scoped>\n",
       "    .dataframe tbody tr th:only-of-type {\n",
       "        vertical-align: middle;\n",
       "    }\n",
       "\n",
       "    .dataframe tbody tr th {\n",
       "        vertical-align: top;\n",
       "    }\n",
       "\n",
       "    .dataframe thead th {\n",
       "        text-align: right;\n",
       "    }\n",
       "</style>\n",
       "<table border=\"1\" class=\"dataframe\">\n",
       "  <thead>\n",
       "    <tr style=\"text-align: right;\">\n",
       "      <th></th>\n",
       "      <th>copasi</th>\n",
       "      <th>tellurium</th>\n",
       "      <th>amici</th>\n",
       "    </tr>\n",
       "  </thead>\n",
       "  <tbody>\n",
       "    <tr>\n",
       "      <th>copasi</th>\n",
       "      <td>7.115126e+65</td>\n",
       "      <td>3.962599e+35</td>\n",
       "      <td>1.386043e+42</td>\n",
       "    </tr>\n",
       "    <tr>\n",
       "      <th>tellurium</th>\n",
       "      <td>3.962599e+35</td>\n",
       "      <td>1.223583e+10</td>\n",
       "      <td>1.050849e+15</td>\n",
       "    </tr>\n",
       "    <tr>\n",
       "      <th>amici</th>\n",
       "      <td>1.386043e+42</td>\n",
       "      <td>1.050849e+15</td>\n",
       "      <td>2.590328e+21</td>\n",
       "    </tr>\n",
       "  </tbody>\n",
       "</table>\n",
       "</div>"
      ]
     },
     "execution_count": 15,
     "metadata": {},
     "output_type": "execute_result"
    }
   ],
   "execution_count": 15
  },
  {
   "metadata": {
    "ExecuteTime": {
     "end_time": "2024-05-16T13:31:29.734633Z",
     "start_time": "2024-05-16T13:31:29.731926Z"
    }
   },
   "cell_type": "code",
   "source": [
    "# 3c. show outer prod data for indices within interval\n",
    "pp(all_interval_comparisons[interval_index].outer_prod_data)"
   ],
   "id": "d6feb45e3c85a362",
   "outputs": [
    {
     "name": "stdout",
     "output_type": "stream",
     "text": [
      "{ ('amici', 'amici'): array([[2.500e+21, 1.400e+19, 4.750e+20, 1.250e+17, 2.350e+13],\n",
      "       [1.400e+19, 7.840e+16, 2.660e+18, 7.000e+14, 1.316e+11],\n",
      "       [4.750e+20, 2.660e+18, 9.025e+19, 2.375e+16, 4.465e+12],\n",
      "       [1.250e+17, 7.000e+14, 2.375e+16, 6.250e+12, 1.175e+09],\n",
      "       [2.350e+13, 1.316e+11, 4.465e+12, 1.175e+09, 2.209e+05]]),\n",
      "  ('copasi', 'amici'): array([[1.35016695e+42, 7.56093494e+39, 2.56531721e+41, 6.75083477e+37,\n",
      "        1.26915694e+34],\n",
      "       [1.28020019e+40, 7.16912104e+37, 2.43238035e+39, 6.40100093e+35,\n",
      "        1.20338817e+32],\n",
      "       [1.79115615e+41, 1.00304744e+39, 3.40319668e+40, 8.95578074e+36,\n",
      "        1.68368678e+33],\n",
      "       [3.54386837e+43, 1.98456629e+41, 6.73334990e+42, 1.77193418e+39,\n",
      "        3.33123626e+35],\n",
      "       [2.28259931e+43, 1.27825561e+41, 4.33693869e+42, 1.14129965e+39,\n",
      "        2.14564335e+35]]),\n",
      "  ('copasi', 'copasi'): array([[7.29180322e+62, 6.91393594e+60, 9.67343936e+61, 1.91392558e+64,\n",
      "        1.23275606e+64],\n",
      "       [6.91393594e+60, 6.55565006e+58, 9.17215374e+59, 1.81474438e+62,\n",
      "        1.16887362e+62],\n",
      "       [9.67343936e+61, 9.17215374e+59, 1.28329614e+61, 2.53904865e+63,\n",
      "        1.63539671e+63],\n",
      "       [1.91392558e+64, 1.81474438e+62, 2.53904865e+63, 5.02360120e+65,\n",
      "        3.23569259e+65],\n",
      "       [1.23275606e+64, 1.16887362e+62, 1.63539671e+63, 3.23569259e+65,\n",
      "        2.08410384e+65]]),\n",
      "  ('copasi', 'tellurium'): array([[0.00000000e+00, 0.00000000e+00, 2.98699260e+36, 0.00000000e+00,\n",
      "        0.00000000e+00],\n",
      "       [0.00000000e+00, 0.00000000e+00, 2.83220418e+34, 0.00000000e+00,\n",
      "        0.00000000e+00],\n",
      "       [0.00000000e+00, 0.00000000e+00, 3.96259896e+35, 0.00000000e+00,\n",
      "        0.00000000e+00],\n",
      "       [0.00000000e+00, 0.00000000e+00, 7.84014789e+37, 0.00000000e+00,\n",
      "        0.00000000e+00],\n",
      "       [0.00000000e+00, 0.00000000e+00, 5.04982530e+37, 0.00000000e+00,\n",
      "        0.00000000e+00]]),\n",
      "  ('tellurium', 'amici'): array([[0.00000000e+00, 0.00000000e+00, 0.00000000e+00, 0.00000000e+00,\n",
      "        0.00000000e+00],\n",
      "       [0.00000000e+00, 0.00000000e+00, 0.00000000e+00, 0.00000000e+00,\n",
      "        0.00000000e+00],\n",
      "       [5.53078379e+15, 3.09723892e+13, 1.05084892e+15, 2.76539190e+11,\n",
      "        5.19893677e+07],\n",
      "       [0.00000000e+00, 0.00000000e+00, 0.00000000e+00, 0.00000000e+00,\n",
      "        0.00000000e+00],\n",
      "       [0.00000000e+00, 0.00000000e+00, 0.00000000e+00, 0.00000000e+00,\n",
      "        0.00000000e+00]]),\n",
      "  ('tellurium', 'tellurium'): array([[0.00000000e+00, 0.00000000e+00, 0.00000000e+00, 0.00000000e+00,\n",
      "        0.00000000e+00],\n",
      "       [0.00000000e+00, 0.00000000e+00, 0.00000000e+00, 0.00000000e+00,\n",
      "        0.00000000e+00],\n",
      "       [0.00000000e+00, 0.00000000e+00, 1.22358277e+10, 0.00000000e+00,\n",
      "        0.00000000e+00],\n",
      "       [0.00000000e+00, 0.00000000e+00, 0.00000000e+00, 0.00000000e+00,\n",
      "        0.00000000e+00],\n",
      "       [0.00000000e+00, 0.00000000e+00, 0.00000000e+00, 0.00000000e+00,\n",
      "        0.00000000e+00]])}\n"
     ]
    }
   ],
   "execution_count": 16
  },
  {
   "metadata": {
    "ExecuteTime": {
     "end_time": "2024-05-16T13:31:30.064999Z",
     "start_time": "2024-05-16T13:31:29.735284Z"
    }
   },
   "cell_type": "code",
   "source": [
    "# 4. plot these outputs\n",
    "plot_ode_process_comparison(interval_mse, interval_rmse, interval_inner_prod, outer_product_matrices=all_interval_comparisons[interval_index].outer_prod_data)"
   ],
   "id": "c26cc20396bd028a",
   "outputs": [
    {
     "data": {
      "text/plain": [
       "<Figure size 1500x500 with 6 Axes>"
      ],
      "image/png": "[encoded data removed]"
     },
     "metadata": {},
     "output_type": "display_data"
    }
   ],
   "execution_count": 17
  },
  {
   "metadata": {
    "ExecuteTime": {
     "end_time": "2024-05-16T13:31:30.067120Z",
     "start_time": "2024-05-16T13:31:30.065780Z"
    }
   },
   "cell_type": "code",
   "source": "",
   "id": "84f8b41e67dba682",
   "outputs": [],
   "execution_count": 17
  }
 ],
 "metadata": {
  "kernelspec": {
   "display_name": "Python 3",
   "language": "python",
   "name": "python3"
  },
  "language_info": {
   "codemirror_mode": {
    "name": "ipython",
    "version": 2
   },
   "file_extension": ".py",
   "mimetype": "text/x-python",
   "name": "python",
   "nbconvert_exporter": "python",
   "pygments_lexer": "ipython2",
   "version": "2.7.6"
  }
 },
 "nbformat": 4,
 "nbformat_minor": 5
}
