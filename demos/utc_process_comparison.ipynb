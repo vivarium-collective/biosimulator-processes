{
 "cells": [
  {
   "cell_type": "markdown",
   "id": "802051b78f1fff3d",
   "metadata": {},
   "source": [
    "## Uniform Time Course process output comparisons"
   ]
  },
  {
   "cell_type": "code",
   "id": "656edea605cccbd1",
   "metadata": {
    "ExecuteTime": {
     "end_time": "2024-06-28T19:01:10.118522Z",
     "start_time": "2024-06-28T19:01:09.781368Z"
    }
   },
   "source": [
    "import sys\n",
    "import os\n",
    "from tempfile import mkdtemp\n",
    "\n",
    "import numpy as np\n",
    "from process_bigraph import Composite\n",
    "from process_bigraph.experiments.parameter_scan import RunProcess\n",
    "\n",
    "\n",
    "sys.path.insert(0, '..')"
   ],
   "execution_count": 1,
   "outputs": []
  },
  {
   "cell_type": "code",
   "id": "initial_id",
   "metadata": {
    "collapsed": true,
    "ExecuteTime": {
     "end_time": "2024-06-28T19:01:22.354949Z",
     "start_time": "2024-06-28T19:01:21.999310Z"
    }
   },
   "source": [
    "from biosimulator_processes.io import read_report_outputs\n",
    "from biosimulator_processes.helpers import plot_utc_outputs, plot_ode_output_data"
   ],
   "execution_count": 2,
   "outputs": []
  },
  {
   "cell_type": "code",
   "execution_count": 3,
   "id": "1c7a326c2872c984",
   "metadata": {
    "ExecuteTime": {
     "end_time": "2024-06-04T21:06:26.859479Z",
     "start_time": "2024-06-04T21:06:26.729998Z"
    }
   },
   "source": [
    "from biosimulator_processes.processes.amici_process import UtcAmici\n",
    "from biosimulator_processes.processes.copasi_process import UtcCopasi"
   ],
   "outputs": []
  },
  {
   "cell_type": "code",
   "execution_count": 4,
   "id": "8ea18375e81986ed",
   "metadata": {
    "ExecuteTime": {
     "end_time": "2024-06-04T21:06:27.340525Z",
     "start_time": "2024-06-04T21:06:27.338654Z"
    }
   },
   "source": [
    "omex_dir = '../test_suite/examples/sbml-core/Elowitz-Nature-2000-Repressilator'\n",
    "omex_fp = omex_dir + '.omex'\n",
    "sbml_fp = os.path.join(omex_dir, 'BIOMD0000000012_url.xml')\n",
    "sedml_fp = os.path.join(omex_dir, 'simulation.sedml')\n",
    "reports_path = os.path.join(omex_dir, 'reports.h5')"
   ],
   "outputs": []
  },
  {
   "cell_type": "markdown",
   "id": "117769eca04e54f3",
   "metadata": {},
   "source": [
    "Configure and create an Amici UTC instance using just the archive filepath."
   ]
  },
  {
   "cell_type": "code",
   "execution_count": 5,
   "id": "46bcae7c258c69cd",
   "metadata": {
    "ExecuteTime": {
     "end_time": "2024-06-04T21:06:28.894527Z",
     "start_time": "2024-06-04T21:06:28.881528Z"
    }
   },
   "source": [
    "utc_amici = UtcAmici(config={'model': {'model_source': omex_dir + '.omex'}})"
   ],
   "outputs": []
  },
  {
   "cell_type": "code",
   "execution_count": 6,
   "id": "80cfb67a20f5f372",
   "metadata": {
    "ExecuteTime": {
     "end_time": "2024-05-31T23:28:52.630152Z",
     "start_time": "2024-05-31T23:28:52.623516Z"
    }
   },
   "source": [
    "# t range parameters set via sedml introspection within archive contents:\n",
    "utc_amici.t[0], utc_amici.t[-1], utc_amici.duration, utc_amici.step_size, utc_amici.num_steps"
   ],
   "outputs": []
  },
  {
   "cell_type": "code",
   "execution_count": 7,
   "id": "e4337829ef9688b8",
   "metadata": {
    "ExecuteTime": {
     "end_time": "2024-05-31T23:28:52.765244Z",
     "start_time": "2024-05-31T23:28:52.631182Z"
    }
   },
   "source": [
    "# you can verify this time config against the SEDML file\n",
    "!cat ./examples/sbml-core/Elowitz-Nature-2000-Repressilator/simulation.sedml"
   ],
   "outputs": []
  },
  {
   "cell_type": "code",
   "execution_count": 8,
   "id": "6d0738437281e667",
   "metadata": {
    "ExecuteTime": {
     "end_time": "2024-05-31T23:28:52.778841Z",
     "start_time": "2024-05-31T23:28:52.766542Z"
    }
   },
   "source": [
    "# run the amici utc simulation with the interface's update method:\n",
    "amici_results = utc_amici.update()"
   ],
   "outputs": []
  },
  {
   "cell_type": "code",
   "execution_count": 9,
   "id": "d7b029fa88268f5c",
   "metadata": {
    "ExecuteTime": {
     "end_time": "2024-05-31T23:28:53.143231Z",
     "start_time": "2024-05-31T23:28:52.779681Z"
    }
   },
   "source": [
    "# use built-in plot to plot results\n",
    "utc_amici.plot_results()"
   ],
   "outputs": []
  },
  {
   "cell_type": "markdown",
   "id": "976a8311c8a638eb",
   "metadata": {},
   "source": [
    "Create a `UtcTellurium` instance as above"
   ]
  },
  {
   "cell_type": "code",
   "execution_count": 10,
   "id": "3fa517beee150d89",
   "metadata": {
    "ExecuteTime": {
     "end_time": "2024-05-31T23:28:53.193877Z",
     "start_time": "2024-05-31T23:28:53.159392Z"
    }
   },
   "source": [
    "from biosimulator_processes.processes.tellurium_process import UtcTellurium\n",
    "\n",
    "\n",
    "utc_tellurium = UtcTellurium(config={'model': {'model_source': omex_dir + '.omex'}})"
   ],
   "outputs": []
  },
  {
   "cell_type": "code",
   "execution_count": 11,
   "id": "eb15c68be7f3a896",
   "metadata": {
    "ExecuteTime": {
     "end_time": "2024-05-31T23:28:53.198142Z",
     "start_time": "2024-05-31T23:28:53.194482Z"
    }
   },
   "source": [
    "tellurium_results = utc_tellurium.update()"
   ],
   "outputs": []
  },
  {
   "cell_type": "code",
   "execution_count": 12,
   "id": "24fe1b017cb1972e",
   "metadata": {
    "ExecuteTime": {
     "end_time": "2024-05-31T23:28:53.200796Z",
     "start_time": "2024-05-31T23:28:53.198613Z"
    }
   },
   "source": [
    "utc_tellurium._results['floating_species'].keys()"
   ],
   "outputs": []
  },
  {
   "cell_type": "code",
   "execution_count": 13,
   "id": "57e32fd62cd1e3da",
   "metadata": {
    "ExecuteTime": {
     "end_time": "2024-05-31T23:28:53.366246Z",
     "start_time": "2024-05-31T23:28:53.201264Z"
    }
   },
   "source": [
    "utc_tellurium.plot_results()"
   ],
   "outputs": []
  },
  {
   "cell_type": "markdown",
   "id": "ca6ba4faf0125b4f",
   "metadata": {},
   "source": [
    "Create a `UtcCopasi` instance and run the same"
   ]
  },
  {
   "cell_type": "code",
   "execution_count": 14,
   "id": "4eb0908c3b978bd6",
   "metadata": {
    "ExecuteTime": {
     "end_time": "2024-05-31T23:28:53.401399Z",
     "start_time": "2024-05-31T23:28:53.367925Z"
    }
   },
   "source": [
    "utc_copasi = UtcCopasi(config={'model': {'model_source': omex_dir + '.omex'}})"
   ],
   "outputs": []
  },
  {
   "cell_type": "code",
   "execution_count": 15,
   "id": "8f08d1192681d11e",
   "metadata": {
    "ExecuteTime": {
     "end_time": "2024-05-31T23:28:53.409853Z",
     "start_time": "2024-05-31T23:28:53.402765Z"
    }
   },
   "source": [
    "copasi_results = utc_copasi.update()"
   ],
   "outputs": []
  },
  {
   "cell_type": "code",
   "execution_count": 16,
   "id": "671ff8f34c4ecb73",
   "metadata": {
    "ExecuteTime": {
     "end_time": "2024-05-31T23:28:53.413723Z",
     "start_time": "2024-05-31T23:28:53.410906Z"
    }
   },
   "source": [
    "copasi_results['time'][-1]"
   ],
   "outputs": []
  },
  {
   "cell_type": "code",
   "execution_count": 17,
   "id": "c8ee0e9bea7c5075",
   "metadata": {
    "ExecuteTime": {
     "end_time": "2024-05-31T23:28:53.598510Z",
     "start_time": "2024-05-31T23:28:53.414778Z"
    }
   },
   "source": [
    "utc_copasi.plot_results()"
   ],
   "outputs": []
  },
  {
   "cell_type": "code",
   "execution_count": 18,
   "id": "10f5a74516381d4c",
   "metadata": {
    "ExecuteTime": {
     "end_time": "2024-05-31T23:28:53.605564Z",
     "start_time": "2024-05-31T23:28:53.599153Z"
    }
   },
   "source": [
    "utc_copasi._tc"
   ],
   "outputs": []
  },
  {
   "cell_type": "markdown",
   "id": "4bf237d3a5e6eff1",
   "metadata": {},
   "source": [
    "Finally, optionally generate a \"ground truth\" which we include in the comparison. The default source for ground-truth data is via uploading an omex archive as model source. The report outputs must be included in the archive."
   ]
  },
  {
   "cell_type": "code",
   "execution_count": 19,
   "id": "8ce5adceb8cbb38d",
   "metadata": {
    "ExecuteTime": {
     "end_time": "2024-05-31T23:28:53.618912Z",
     "start_time": "2024-05-31T23:28:53.606332Z"
    }
   },
   "source": [
    "# Generate comparison matrix from ground truth\n",
    "from biosimulator_processes.api.compare import write_utc_comparison_reports\n",
    "from biosimulator_processes.io import standardize_report_outputs"
   ],
   "outputs": []
  },
  {
   "cell_type": "code",
   "execution_count": 20,
   "id": "ff2fdfbd15c3fe20",
   "metadata": {
    "ExecuteTime": {
     "end_time": "2024-05-31T23:28:53.623391Z",
     "start_time": "2024-05-31T23:28:53.619495Z"
    }
   },
   "source": [
    "report_results = standardize_report_outputs(reports_path)"
   ],
   "outputs": []
  },
  {
   "cell_type": "code",
   "execution_count": 21,
   "id": "8b0a23297a727341",
   "metadata": {
    "ExecuteTime": {
     "end_time": "2024-05-31T23:28:53.626981Z",
     "start_time": "2024-05-31T23:28:53.624191Z"
    }
   },
   "source": [
    "print(f\"copasi result keys: {copasi_results['floating_species'].keys()}\\nTellurium result keys: {tellurium_results['floating_species'].keys()}\\nAmici Result keys: {amici_results['floating_species'].keys()}\\nGround truth report keys: {report_results['floating_species'].keys()}\")"
   ],
   "outputs": []
  },
  {
   "cell_type": "code",
   "execution_count": 22,
   "id": "eb5ef5c55a3af9fc",
   "metadata": {
    "ExecuteTime": {
     "end_time": "2024-05-31T23:28:53.771006Z",
     "start_time": "2024-05-31T23:28:53.627655Z"
    }
   },
   "source": [
    "plot_ode_output_data(report_results, simulator_name='Ground Truth')"
   ],
   "outputs": []
  },
  {
   "cell_type": "markdown",
   "id": "194c1c83bb229de3",
   "metadata": {},
   "source": [
    "Generate a series of comparisons for each species and save to a given dir"
   ]
  },
  {
   "cell_type": "code",
   "execution_count": 23,
   "id": "8e5cf647fc7a080b",
   "metadata": {
    "ExecuteTime": {
     "end_time": "2024-05-31T23:28:53.775760Z",
     "start_time": "2024-05-31T23:28:53.772395Z"
    }
   },
   "source": [
    "utc_copasi.t[-1]"
   ],
   "outputs": []
  },
  {
   "cell_type": "code",
   "execution_count": 24,
   "id": "bb56a6521873baec",
   "metadata": {
    "ExecuteTime": {
     "end_time": "2024-05-31T23:28:53.779484Z",
     "start_time": "2024-05-31T23:28:53.776754Z"
    }
   },
   "source": [
    "utc_copasi.step_size, utc_amici.step_size, utc_tellurium.step_size"
   ],
   "outputs": []
  },
  {
   "cell_type": "code",
   "execution_count": 24,
   "id": "59347488b54a38fa",
   "metadata": {
    "ExecuteTime": {
     "end_time": "2024-05-31T23:28:53.782255Z",
     "start_time": "2024-05-31T23:28:53.780538Z"
    }
   },
   "source": [],
   "outputs": []
  },
  {
   "cell_type": "code",
   "execution_count": 25,
   "id": "54fd85d06020ca21",
   "metadata": {
    "ExecuteTime": {
     "end_time": "2024-05-31T23:28:53.792884Z",
     "start_time": "2024-05-31T23:28:53.783339Z"
    }
   },
   "source": [
    "save_dir = '../test_outputs/repressilator-utc-comparison'\n",
    "if os.path.exists(save_dir):\n",
    "    import shutil \n",
    "    shutil.rmtree(save_dir)\n",
    "    \n",
    "    \n",
    "write_utc_comparison_reports(\n",
    "    save_dir=save_dir,\n",
    "    copasi_results=copasi_results,\n",
    "    tellurium_results=tellurium_results,\n",
    "    amici_results=amici_results,\n",
    "    ground_truth_results=report_results,\n",
    "    sbml_species_mapping=utc_copasi.sbml_species_mapping,\n",
    "    method='prox')"
   ],
   "outputs": []
  },
  {
   "cell_type": "code",
   "execution_count": 26,
   "id": "160a0e6e44bff2a",
   "metadata": {
    "ExecuteTime": {
     "end_time": "2024-05-31T23:28:53.797040Z",
     "start_time": "2024-05-31T23:28:53.793924Z"
    }
   },
   "source": [
    "utc_amici.floating_species_list, amici_results.get('floating_species').keys()"
   ],
   "outputs": []
  },
  {
   "cell_type": "code",
   "execution_count": 27,
   "id": "3271da8fab69affc",
   "metadata": {
    "ExecuteTime": {
     "end_time": "2024-05-31T23:28:53.804148Z",
     "start_time": "2024-05-31T23:28:53.801009Z"
    }
   },
   "source": [
    "[spec.name for spec in utc_copasi.sbml_model.getListOfSpecies()]"
   ],
   "outputs": []
  },
  {
   "cell_type": "code",
   "execution_count": 28,
   "id": "f7ad2057cc3a72dd",
   "metadata": {
    "ExecuteTime": {
     "end_time": "2024-05-31T23:28:53.807085Z",
     "start_time": "2024-05-31T23:28:53.804656Z"
    }
   },
   "source": [
    "utc_copasi.floating_species_list"
   ],
   "outputs": []
  },
  {
   "cell_type": "code",
   "execution_count": 29,
   "id": "c1ca0276a444217",
   "metadata": {
    "ExecuteTime": {
     "end_time": "2024-05-31T23:28:53.810762Z",
     "start_time": "2024-05-31T23:28:53.808125Z"
    }
   },
   "source": [
    "utc_tellurium.floating_species_list"
   ],
   "outputs": []
  },
  {
   "cell_type": "code",
   "execution_count": 30,
   "id": "211fc28e4fe28928",
   "metadata": {
    "ExecuteTime": {
     "end_time": "2024-05-31T23:28:53.874315Z",
     "start_time": "2024-05-31T23:28:53.811416Z"
    }
   },
   "source": [
    "utc_tellurium.simulator.plot()"
   ],
   "outputs": []
  },
  {
   "cell_type": "code",
   "execution_count": 31,
   "id": "ca800357e8f30c98",
   "metadata": {
    "ExecuteTime": {
     "end_time": "2024-05-31T23:28:53.969256Z",
     "start_time": "2024-05-31T23:28:53.875044Z"
    }
   },
   "source": [
    "utc_copasi._tc.plot()"
   ],
   "outputs": []
  },
  {
   "cell_type": "markdown",
   "id": "d393642d6d2bb307",
   "metadata": {},
   "source": []
  },
  {
   "cell_type": "code",
   "execution_count": 32,
   "id": "e9900947d0f35880",
   "metadata": {
    "ExecuteTime": {
     "end_time": "2024-05-31T23:28:53.972464Z",
     "start_time": "2024-05-31T23:28:53.970069Z"
    }
   },
   "source": [
    "from notebook_api.utc import generate_utc_step_outputs"
   ],
   "outputs": []
  },
  {
   "cell_type": "code",
   "execution_count": 33,
   "id": "6741091a52f07ddc",
   "metadata": {
    "ExecuteTime": {
     "end_time": "2024-05-31T23:29:02.407296Z",
     "start_time": "2024-05-31T23:28:53.973069Z"
    }
   },
   "source": [
    "results = generate_utc_step_outputs(omex_fp)\n",
    "\n",
    "from process_bigraph import pp\n",
    "\n",
    "\n",
    "pp(results)"
   ],
   "outputs": []
  },
  {
   "cell_type": "code",
   "execution_count": 34,
   "id": "341beca49f331f78",
   "metadata": {
    "ExecuteTime": {
     "end_time": "2024-05-31T23:29:02.410522Z",
     "start_time": "2024-05-31T23:29:02.408019Z"
    }
   },
   "source": [
    "results['results']['amici']['floating_species'].keys()"
   ],
   "outputs": []
  },
  {
   "cell_type": "code",
   "execution_count": 40,
   "id": "18ed7264956218a6",
   "metadata": {
    "ExecuteTime": {
     "end_time": "2024-05-31T23:29:32.313071Z",
     "start_time": "2024-05-31T23:29:32.151363Z"
    }
   },
   "source": [
    "results['instances'][0].plot_results()"
   ],
   "outputs": []
  },
  {
   "cell_type": "code",
   "execution_count": 35,
   "id": "190aea3a03e1c8e1",
   "metadata": {
    "ExecuteTime": {
     "end_time": "2024-05-31T23:29:02.710722Z",
     "start_time": "2024-05-31T23:29:02.411045Z"
    }
   },
   "source": [
    "results['instances'][1].plot_results()"
   ],
   "outputs": []
  },
  {
   "cell_type": "markdown",
   "id": "744a8c08974fdc4a",
   "metadata": {},
   "source": [
    "We can read the data from any of the saved files:"
   ]
  },
  {
   "cell_type": "code",
   "execution_count": 36,
   "id": "66c3090114d3ff70",
   "metadata": {
    "ExecuteTime": {
     "end_time": "2024-05-31T23:29:02.714166Z",
     "start_time": "2024-05-31T23:29:02.711422Z"
    }
   },
   "source": [
    "csv_result_dir = list(map(lambda d: os.path.join(save_dir, d), os.listdir(save_dir)))\n",
    "\n",
    "csv_result_dir"
   ],
   "outputs": []
  },
  {
   "cell_type": "code",
   "execution_count": 37,
   "id": "8225adf82305d8c0",
   "metadata": {
    "ExecuteTime": {
     "end_time": "2024-05-31T23:29:02.719087Z",
     "start_time": "2024-05-31T23:29:02.714669Z"
    }
   },
   "source": [
    "import pandas as pd \n",
    "\n",
    "dfs = list(map(pd.read_csv, csv_result_dir))"
   ],
   "outputs": []
  },
  {
   "cell_type": "code",
   "execution_count": 38,
   "id": "45ddbb27de677b84",
   "metadata": {
    "ExecuteTime": {
     "end_time": "2024-05-31T23:29:02.722074Z",
     "start_time": "2024-05-31T23:29:02.719845Z"
    }
   },
   "source": [
    "lac_ci_df = pd.read_csv(csv_result_dir[0])"
   ],
   "outputs": []
  },
  {
   "cell_type": "code",
   "execution_count": 39,
   "id": "750bb4f52039caa",
   "metadata": {
    "ExecuteTime": {
     "end_time": "2024-05-31T23:29:02.725751Z",
     "start_time": "2024-05-31T23:29:02.722566Z"
    }
   },
   "source": [
    "lac_ci_df"
   ],
   "outputs": []
  },
  {
   "cell_type": "code",
   "execution_count": 5,
   "id": "35383af7da225995",
   "metadata": {
    "ExecuteTime": {
     "end_time": "2024-05-31T23:29:02.727578Z",
     "start_time": "2024-05-31T23:29:02.726320Z"
    }
   },
   "source": [
    "from process_bigraph import Composite\n",
    "\n",
    "\n",
    "doc = {\n",
    "    'amici': {\n",
    "        '_type': 'step',\n",
    "        'address': 'local:utc-amici',\n",
    "        'config': {\n",
    "            'model': {\n",
    "                'model_source': omex_fp\n",
    "            }\n",
    "        },\n",
    "        'inputs': {\n",
    "            'time': ['time_store'],\n",
    "            'floating_species': ['amici_floating_species_store'],\n",
    "            'model_parameters': ['amici_model_parameters_store'],\n",
    "            'reactions': ['amici_reactions_store']\n",
    "        },\n",
    "        'outputs': {\n",
    "            'time': ['time_store'],\n",
    "            'floating_species': ['amici_floating_species_store']\n",
    "        }\n",
    "    },\n",
    "    'copasi': {\n",
    "        '_type': 'step',\n",
    "        'address': 'local:utc-copasi',\n",
    "        'config': {\n",
    "            'model': {\n",
    "                'model_source': omex_fp\n",
    "            }\n",
    "        },\n",
    "        'inputs': {\n",
    "            'time': ['time_store'],\n",
    "            'floating_species': ['copasi_floating_species_store'],\n",
    "            'model_parameters': ['copasi_model_parameters_store'],\n",
    "            'reactions': ['copasi_reactions_store']\n",
    "        },\n",
    "        'outputs': {\n",
    "            'time': ['time_store'],\n",
    "            'floating_species': ['copasi_floating_species_store']\n",
    "        }\n",
    "    },\n",
    "    'tellurium': {\n",
    "        '_type': 'step',\n",
    "        'address': 'local:utc-tellurium',\n",
    "        'config': {\n",
    "            'model': {\n",
    "                'model_source': omex_fp\n",
    "            }\n",
    "        },\n",
    "        'inputs': {\n",
    "            'time': ['time_store'],\n",
    "            'floating_species': ['tellurium_floating_species_store'],\n",
    "            'model_parameters': ['tellurium_model_parameters_store'],\n",
    "            'reactions': ['tellurium_reactions_store']\n",
    "        },\n",
    "        'outputs': {\n",
    "            'time': ['time_store'],\n",
    "            'floating_species': ['tellurium_floating_species_store']\n",
    "        }\n",
    "    },\n",
    "    'comparison': {\n",
    "        '_type': 'step',\n",
    "        'address': 'local:utc-comparator',\n",
    "        'config': {\n",
    "            'simulators': ['amici', 'copasi', 'tellurium'],\n",
    "        },\n",
    "        'inputs': {\n",
    "            'time': ['time_store'],\n",
    "            'amici_floating_species': ['amici_floating_species_store'],\n",
    "            'copasi_floating_species': ['copasi_floating_species_store'],\n",
    "            'tellurium_floating_species': ['tellurium_floating_species_store'],\n",
    "        },\n",
    "        'outputs': {\n",
    "            'mean_squared_error': ['mean_squared_error_store'],\n",
    "            'proximity': ['proximity_store'],\n",
    "            'output_data': ['output_data_store']\n",
    "        }\n",
    "    },\n",
    "    'emitter': {\n",
    "        '_type': 'step',\n",
    "        'address': 'local:ram-emitter',\n",
    "        'config': {\n",
    "            'emit': {\n",
    "                'mean_squared_error': 'tree[string]',\n",
    "                'proximity': 'tree[string]',\n",
    "                'output_data': 'tree[string]'\n",
    "            }\n",
    "        },\n",
    "        'inputs': {\n",
    "            'mean_squared_error': ['mean_squared_error_store'],\n",
    "            'proximity': ['proximity_store'],\n",
    "            'output_data': ['output_data_store']\n",
    "        }\n",
    "    }\n",
    "}"
   ],
   "outputs": []
  },
  {
   "cell_type": "code",
   "execution_count": 6,
   "id": "efefa633",
   "metadata": {},
   "source": "",
   "outputs": []
  },
  {
   "cell_type": "code",
   "execution_count": 7,
   "id": "00fdd974",
   "metadata": {},
   "source": [
    "result = wf.run(1)"
   ],
   "outputs": []
  },
  {
   "cell_type": "code",
   "execution_count": 8,
   "id": "c6d926a7",
   "metadata": {},
   "source": [
    "result = wf.gather_results()"
   ],
   "outputs": []
  },
  {
   "cell_type": "code",
   "execution_count": 9,
   "id": "adb70c07",
   "metadata": {},
   "source": [
    "result"
   ],
   "outputs": []
  },
  {
   "cell_type": "code",
   "execution_count": null,
   "id": "af5c3750",
   "metadata": {},
   "source": [],
   "outputs": []
  }
 ],
 "metadata": {
  "kernelspec": {
   "display_name": "Python 3",
   "language": "python",
   "name": "python3"
  },
  "language_info": {
   "codemirror_mode": {
    "name": "ipython",
    "version": 2
   },
   "file_extension": ".py",
   "mimetype": "text/x-python",
   "name": "python",
   "nbconvert_exporter": "python",
   "pygments_lexer": "ipython2",
   "version": "2.7.6"
  }
 },
 "nbformat": 4,
 "nbformat_minor": 5
}
