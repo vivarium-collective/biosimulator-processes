{
 "cells": [
  {
   "cell_type": "code",
   "id": "initial_id",
   "metadata": {
    "collapsed": true,
    "ExecuteTime": {
     "end_time": "2024-05-18T13:51:38.934129Z",
     "start_time": "2024-05-18T13:51:38.583270Z"
    }
   },
   "source": [
    "import enum\n",
    "import sys\n",
    "\n",
    "sys.path.insert(0, '..')\n",
    "\n",
    "import os\n",
    "import requests\n",
    "import json\n",
    "from tempfile import mkdtemp\n",
    "from urllib.request import urlretrieve\n",
    "\n",
    "import libsbml\n",
    "from process_bigraph import pp \n",
    "\n",
    "from test_suite.test_data_model import TestCompositionResults"
   ],
   "outputs": [],
   "execution_count": 1
  },
  {
   "metadata": {
    "ExecuteTime": {
     "end_time": "2024-05-18T13:51:38.949468Z",
     "start_time": "2024-05-18T13:51:38.939726Z"
    }
   },
   "cell_type": "code",
   "source": [
    "test_archive_fp = '../test_suite/examples/sbml-core/Varusai-Sci-Rep-2018-mTOR-signaling-LSODA-LSODAR-SBML.omex'\n",
    "os.path.exists(test_archive_fp)"
   ],
   "id": "f7329fc0b6d2f5a0",
   "outputs": [
    {
     "data": {
      "text/plain": [
       "True"
      ]
     },
     "execution_count": 2,
     "metadata": {},
     "output_type": "execute_result"
    }
   ],
   "execution_count": 2
  },
  {
   "metadata": {
    "ExecuteTime": {
     "end_time": "2024-05-18T13:51:40.140751Z",
     "start_time": "2024-05-18T13:51:38.951205Z"
    }
   },
   "cell_type": "code",
   "source": "",
   "id": "d93326b459ea424f",
   "outputs": [
    {
     "name": "stdout",
     "output_type": "stream",
     "text": [
      "CobraProcess registered successfully.\n",
      "CopasiProcess registered successfully.\n",
      "_CopasiProcess registered successfully.\n",
      "SmoldynProcess registered successfully.\n",
      "TelluriumProcess registered successfully.\n",
      "AmiciProcess registered successfully.\n",
      "ODEComparatorProcess registered successfully.\n",
      "GetSbmlStep registered successfully.\n",
      "CompositionPlotter registered successfully.\n",
      "Plotter2d registered successfully.\n",
      "ODEComparatorStep registered successfully.\n"
     ]
    }
   ],
   "execution_count": 3
  },
  {
   "metadata": {
    "ExecuteTime": {
     "end_time": "2024-05-18T13:54:47.747137Z",
     "start_time": "2024-05-18T13:54:44.228011Z"
    }
   },
   "cell_type": "code",
   "source": [
    "from basico import *\n",
    "\n",
    "\n",
    "temp_dir = mkdtemp()\n",
    "model_fp = os.path.join(temp_dir, 'model.xml')\n",
    "sbml_str_model = await BiosimulationsRestService.extract_data(query='Yeast', save_dir=temp_dir)\n",
    "os.path.isfile(model_fp)\n",
    "\n",
    "model = load_model(sbml_str_model)\n",
    "\n",
    "pp(model.getUnits())\n",
    "\n",
    "\n",
    "get_reactions(model=model)"
   ],
   "id": "2865600de81f92e3",
   "outputs": [
    {
     "name": "stdout",
     "output_type": "stream",
     "text": [
      "'?'\n"
     ]
    },
    {
     "ename": "TypeError",
     "evalue": "Wrong number or type of arguments for overloaded function 'StringStdVector___getitem__'.\n  Possible C/C++ prototypes are:\n    std::vector< std::string >::__getitem__(SWIGPY_SLICEOBJECT *)\n    std::vector< std::string >::__getitem__(std::vector< std::string >::difference_type) const\n",
     "output_type": "error",
     "traceback": [
      "\u001B[0;31m---------------------------------------------------------------------------\u001B[0m",
      "\u001B[0;31mTypeError\u001B[0m                                 Traceback (most recent call last)",
      "\u001B[0;32m/var/folders/yy/8crj8x7x5_3b86f0js6_0bn00000gr/T/ipykernel_83282/1559810317.py\u001B[0m in \u001B[0;36m?\u001B[0;34m()\u001B[0m\n\u001B[1;32m     10\u001B[0m \u001B[0;34m\u001B[0m\u001B[0m\n\u001B[1;32m     11\u001B[0m \u001B[0mpp\u001B[0m\u001B[0;34m(\u001B[0m\u001B[0mmodel\u001B[0m\u001B[0;34m.\u001B[0m\u001B[0mgetUnits\u001B[0m\u001B[0;34m(\u001B[0m\u001B[0;34m)\u001B[0m\u001B[0;34m)\u001B[0m\u001B[0;34m\u001B[0m\u001B[0;34m\u001B[0m\u001B[0m\n\u001B[1;32m     12\u001B[0m \u001B[0;34m\u001B[0m\u001B[0m\n\u001B[1;32m     13\u001B[0m \u001B[0;34m\u001B[0m\u001B[0m\n\u001B[0;32m---> 14\u001B[0;31m \u001B[0mget_reactions\u001B[0m\u001B[0;34m(\u001B[0m\u001B[0mmodel\u001B[0m\u001B[0;34m=\u001B[0m\u001B[0mmodel\u001B[0m\u001B[0;34m)\u001B[0m\u001B[0;34m\u001B[0m\u001B[0;34m\u001B[0m\u001B[0m\n\u001B[0m",
      "\u001B[0;32m~/Library/Caches/pypoetry/virtualenvs/biosimulator-processes-JaN5cQMh-py3.10/lib/python3.10/site-packages/basico/model_info.py\u001B[0m in \u001B[0;36m?\u001B[0;34m(name, exact, **kwargs)\u001B[0m\n\u001B[1;32m   2792\u001B[0m         \u001B[0;32mif\u001B[0m \u001B[0;34m'sbml_id'\u001B[0m \u001B[0;32min\u001B[0m \u001B[0mkwargs\u001B[0m \u001B[0;32mand\u001B[0m \u001B[0mkwargs\u001B[0m\u001B[0;34m[\u001B[0m\u001B[0;34m'sbml_id'\u001B[0m\u001B[0;34m]\u001B[0m \u001B[0;34m!=\u001B[0m \u001B[0mreaction_data\u001B[0m\u001B[0;34m[\u001B[0m\u001B[0;34m'sbml_id'\u001B[0m\u001B[0;34m]\u001B[0m\u001B[0;34m:\u001B[0m\u001B[0;34m\u001B[0m\u001B[0;34m\u001B[0m\u001B[0m\n\u001B[1;32m   2793\u001B[0m             \u001B[0;32mcontinue\u001B[0m\u001B[0;34m\u001B[0m\u001B[0;34m\u001B[0m\u001B[0m\n\u001B[1;32m   2794\u001B[0m \u001B[0;34m\u001B[0m\u001B[0m\n\u001B[1;32m   2795\u001B[0m         \u001B[0;31m# add reaction mapping\u001B[0m\u001B[0;34m\u001B[0m\u001B[0;34m\u001B[0m\u001B[0m\n\u001B[0;32m-> 2796\u001B[0;31m         \u001B[0mreaction_data\u001B[0m\u001B[0;34m[\u001B[0m\u001B[0;34m'mapping'\u001B[0m\u001B[0;34m]\u001B[0m \u001B[0;34m=\u001B[0m \u001B[0mget_reaction_mapping\u001B[0m\u001B[0;34m(\u001B[0m\u001B[0mreaction\u001B[0m\u001B[0;34m,\u001B[0m \u001B[0mmodel\u001B[0m\u001B[0;34m=\u001B[0m\u001B[0mdm\u001B[0m\u001B[0;34m)\u001B[0m\u001B[0;34m\u001B[0m\u001B[0;34m\u001B[0m\u001B[0m\n\u001B[0m\u001B[1;32m   2797\u001B[0m \u001B[0;34m\u001B[0m\u001B[0m\n\u001B[1;32m   2798\u001B[0m         \u001B[0mdata\u001B[0m\u001B[0;34m.\u001B[0m\u001B[0mappend\u001B[0m\u001B[0;34m(\u001B[0m\u001B[0mreaction_data\u001B[0m\u001B[0;34m)\u001B[0m\u001B[0;34m\u001B[0m\u001B[0;34m\u001B[0m\u001B[0m\n\u001B[1;32m   2799\u001B[0m \u001B[0;34m\u001B[0m\u001B[0m\n",
      "\u001B[0;32m~/Library/Caches/pypoetry/virtualenvs/biosimulator-processes-JaN5cQMh-py3.10/lib/python3.10/site-packages/basico/model_info.py\u001B[0m in \u001B[0;36m?\u001B[0;34m(reaction, **kwargs)\u001B[0m\n\u001B[1;32m   3436\u001B[0m \u001B[0;34m\u001B[0m\u001B[0m\n\u001B[1;32m   3437\u001B[0m         \u001B[0mobjs\u001B[0m \u001B[0;34m=\u001B[0m \u001B[0minfo\u001B[0m\u001B[0;34m.\u001B[0m\u001B[0mgetMappings\u001B[0m\u001B[0;34m(\u001B[0m\u001B[0mj\u001B[0m\u001B[0;34m)\u001B[0m\u001B[0;34m\u001B[0m\u001B[0;34m\u001B[0m\u001B[0m\n\u001B[1;32m   3438\u001B[0m         \u001B[0mobj_size\u001B[0m \u001B[0;34m=\u001B[0m \u001B[0mobjs\u001B[0m\u001B[0;34m.\u001B[0m\u001B[0msize\u001B[0m\u001B[0;34m(\u001B[0m\u001B[0;34m)\u001B[0m\u001B[0;34m\u001B[0m\u001B[0;34m\u001B[0m\u001B[0m\n\u001B[1;32m   3439\u001B[0m         \u001B[0;32mif\u001B[0m \u001B[0mobj_size\u001B[0m \u001B[0;34m==\u001B[0m \u001B[0;36m1\u001B[0m\u001B[0;34m:\u001B[0m\u001B[0;34m\u001B[0m\u001B[0;34m\u001B[0m\u001B[0m\n\u001B[0;32m-> 3440\u001B[0;31m             \u001B[0mresult\u001B[0m\u001B[0;34m[\u001B[0m\u001B[0mp_name\u001B[0m\u001B[0;34m]\u001B[0m \u001B[0;34m=\u001B[0m \u001B[0mobjs\u001B[0m\u001B[0;34m[\u001B[0m\u001B[0;36m0\u001B[0m\u001B[0;34m]\u001B[0m\u001B[0;34m\u001B[0m\u001B[0;34m\u001B[0m\u001B[0m\n\u001B[0m\u001B[1;32m   3441\u001B[0m             \u001B[0;32mcontinue\u001B[0m\u001B[0;34m\u001B[0m\u001B[0;34m\u001B[0m\u001B[0m\n\u001B[1;32m   3442\u001B[0m \u001B[0;34m\u001B[0m\u001B[0m\n\u001B[1;32m   3443\u001B[0m         \u001B[0mobj_list\u001B[0m \u001B[0;34m=\u001B[0m \u001B[0;34m[\u001B[0m\u001B[0;34m]\u001B[0m\u001B[0;34m\u001B[0m\u001B[0;34m\u001B[0m\u001B[0m\n",
      "\u001B[0;32m~/Library/Caches/pypoetry/virtualenvs/biosimulator-processes-JaN5cQMh-py3.10/lib/python3.10/site-packages/COPASI/__init__.py\u001B[0m in \u001B[0;36m?\u001B[0;34m(self, *args)\u001B[0m\n\u001B[1;32m  15349\u001B[0m         r\"\"\"\n\u001B[1;32m  15350\u001B[0m         \u001B[0m__getitem__\u001B[0m\u001B[0;34m(\u001B[0m\u001B[0mStringStdVector\u001B[0m \u001B[0mself\u001B[0m\u001B[0;34m,\u001B[0m \u001B[0mSWIGPY_SLICEOBJECT\u001B[0m \u001B[0;34m*\u001B[0m \u001B[0mslice\u001B[0m\u001B[0;34m)\u001B[0m \u001B[0;34m->\u001B[0m \u001B[0mStringStdVector\u001B[0m\u001B[0;34m\u001B[0m\u001B[0;34m\u001B[0m\u001B[0m\n\u001B[1;32m  15351\u001B[0m         \u001B[0m__getitem__\u001B[0m\u001B[0;34m(\u001B[0m\u001B[0mStringStdVector\u001B[0m \u001B[0mself\u001B[0m\u001B[0;34m,\u001B[0m \u001B[0mstd\u001B[0m\u001B[0;34m:\u001B[0m\u001B[0;34m:\u001B[0m\u001B[0mvector\u001B[0m\u001B[0;34m<\u001B[0m \u001B[0mstd\u001B[0m\u001B[0;34m:\u001B[0m\u001B[0;34m:\u001B[0m\u001B[0mstring\u001B[0m \u001B[0;34m>\u001B[0m\u001B[0;34m:\u001B[0m\u001B[0;34m:\u001B[0m\u001B[0mdifference_type\u001B[0m \u001B[0mi\u001B[0m\u001B[0;34m)\u001B[0m \u001B[0;34m->\u001B[0m \u001B[0mstd\u001B[0m\u001B[0;34m:\u001B[0m\u001B[0;34m:\u001B[0m\u001B[0mvector\u001B[0m\u001B[0;34m<\u001B[0m \u001B[0mstd\u001B[0m\u001B[0;34m:\u001B[0m\u001B[0;34m:\u001B[0m\u001B[0mstring\u001B[0m \u001B[0;34m>\u001B[0m\u001B[0;34m:\u001B[0m\u001B[0;34m:\u001B[0m\u001B[0mvalue_type\u001B[0m \u001B[0mconst\u001B[0m \u001B[0;34m&\u001B[0m\u001B[0;34m\u001B[0m\u001B[0;34m\u001B[0m\u001B[0m\n\u001B[1;32m  15352\u001B[0m         \"\"\"\n\u001B[0;32m> 15353\u001B[0;31m         \u001B[0;32mreturn\u001B[0m \u001B[0m_COPASI\u001B[0m\u001B[0;34m.\u001B[0m\u001B[0mStringStdVector___getitem__\u001B[0m\u001B[0;34m(\u001B[0m\u001B[0mself\u001B[0m\u001B[0;34m,\u001B[0m \u001B[0;34m*\u001B[0m\u001B[0margs\u001B[0m\u001B[0;34m)\u001B[0m\u001B[0;34m\u001B[0m\u001B[0;34m\u001B[0m\u001B[0m\n\u001B[0m",
      "\u001B[0;31mTypeError\u001B[0m: Wrong number or type of arguments for overloaded function 'StringStdVector___getitem__'.\n  Possible C/C++ prototypes are:\n    std::vector< std::string >::__getitem__(SWIGPY_SLICEOBJECT *)\n    std::vector< std::string >::__getitem__(std::vector< std::string >::difference_type) const\n"
     ]
    }
   ],
   "execution_count": 9
  },
  {
   "metadata": {
    "ExecuteTime": {
     "end_time": "2024-05-18T13:53:20.076145Z",
     "start_time": "2024-05-18T13:53:20.072522Z"
    }
   },
   "cell_type": "code",
   "source": "model.getModel()",
   "id": "b66473288931417b",
   "outputs": [
    {
     "data": {
      "text/plain": [
       "<CModel \"NoName\">"
      ]
     },
     "execution_count": 7,
     "metadata": {},
     "output_type": "execute_result"
    }
   ],
   "execution_count": 7
  },
  {
   "metadata": {
    "ExecuteTime": {
     "end_time": "2024-05-18T13:51:44.000701Z",
     "start_time": "2024-05-18T13:51:43.999401Z"
    }
   },
   "cell_type": "code",
   "source": "",
   "id": "ff66b66600294335",
   "outputs": [],
   "execution_count": 4
  }
 ],
 "metadata": {
  "kernelspec": {
   "display_name": "Python 3",
   "language": "python",
   "name": "python3"
  },
  "language_info": {
   "codemirror_mode": {
    "name": "ipython",
    "version": 2
   },
   "file_extension": ".py",
   "mimetype": "text/x-python",
   "name": "python",
   "nbconvert_exporter": "python",
   "pygments_lexer": "ipython2",
   "version": "2.7.6"
  }
 },
 "nbformat": 4,
 "nbformat_minor": 5
}
