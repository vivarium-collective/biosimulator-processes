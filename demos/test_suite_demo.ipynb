{
 "cells": [
  {
   "cell_type": "code",
   "id": "initial_id",
   "metadata": {
    "collapsed": true,
    "ExecuteTime": {
     "end_time": "2024-05-18T15:17:32.545659Z",
     "start_time": "2024-05-18T15:17:31.090958Z"
    }
   },
   "source": [
    "import enum\n",
    "import sys\n",
    "\n",
    "sys.path.insert(0, '..')\n",
    "\n",
    "import os\n",
    "import requests\n",
    "import json\n",
    "from tempfile import mkdtemp\n",
    "from urllib.request import urlretrieve\n",
    "\n",
    "import libsbml\n",
    "from process_bigraph import pp \n",
    "\n",
    "from test_suite.test_data_model import TestCompositionResults"
   ],
   "execution_count": 1,
   "outputs": []
  },
  {
   "metadata": {
    "ExecuteTime": {
     "end_time": "2024-05-18T15:17:32.549856Z",
     "start_time": "2024-05-18T15:17:32.546749Z"
    }
   },
   "cell_type": "code",
   "source": [
    "test_archive_fp = '../test_suite/examples/sbml-core/Varusai-Sci-Rep-2018-mTOR-signaling-LSODA-LSODAR-SBML.omex'\n",
    "os.path.exists(test_archive_fp)"
   ],
   "id": "f7329fc0b6d2f5a0",
   "execution_count": 2,
   "outputs": []
  },
  {
   "metadata": {
    "ExecuteTime": {
     "end_time": "2024-05-18T15:17:32.553067Z",
     "start_time": "2024-05-18T15:17:32.550550Z"
    }
   },
   "cell_type": "code",
   "source": [
    "from dataclasses import dataclass\n",
    "\n",
    "\n",
    "@dataclass(frozen=True)\n",
    "class A:\n",
    "    x: float\n",
    "    y: float \n",
    "    \n",
    "\n",
    "a1 = A(x=0.5, y=0.5 / 2)\n",
    "\n",
    "a1.x"
   ],
   "id": "8736db2d5dbe199e",
   "execution_count": 3,
   "outputs": []
  },
  {
   "metadata": {
    "ExecuteTime": {
     "end_time": "2024-05-18T15:17:32.614584Z",
     "start_time": "2024-05-18T15:17:32.553715Z"
    }
   },
   "cell_type": "code",
   "source": "a1.x = 0.3\n",
   "id": "76617db4b0cf1622",
   "execution_count": 4,
   "outputs": []
  },
  {
   "metadata": {
    "ExecuteTime": {
     "end_time": "2024-05-18T15:17:32.615520Z",
     "start_time": "2024-05-18T15:17:32.615470Z"
    }
   },
   "cell_type": "code",
   "source": [
    "@dataclass\n",
    "class B:\n",
    "    x: float\n",
    "    y: float"
   ],
   "id": "2a4eb4d6b3d74946",
   "execution_count": null,
   "outputs": []
  },
  {
   "metadata": {},
   "cell_type": "code",
   "source": [
    "b1 = B(x=0.5, y=0.5)\n",
    "\n",
    "b1.x"
   ],
   "id": "9104001913e636b",
   "execution_count": null,
   "outputs": []
  },
  {
   "metadata": {},
   "cell_type": "code",
   "source": [
    "b1.x = 0.3\n",
    "\n",
    "b1.x"
   ],
   "id": "41ddc0673a6b0187",
   "execution_count": null,
   "outputs": []
  },
  {
   "metadata": {},
   "cell_type": "code",
   "source": "",
   "id": "ad828894daaf69e",
   "execution_count": null,
   "outputs": []
  }
 ],
 "metadata": {
  "kernelspec": {
   "display_name": "Python 3",
   "language": "python",
   "name": "python3"
  },
  "language_info": {
   "codemirror_mode": {
    "name": "ipython",
    "version": 2
   },
   "file_extension": ".py",
   "mimetype": "text/x-python",
   "name": "python",
   "nbconvert_exporter": "python",
   "pygments_lexer": "ipython2",
   "version": "2.7.6"
  }
 },
 "nbformat": 4,
 "nbformat_minor": 5
}
