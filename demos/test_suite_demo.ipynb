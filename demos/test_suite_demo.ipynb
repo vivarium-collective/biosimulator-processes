{
 "cells": [
  {
   "cell_type": "code",
   "id": "initial_id",
   "metadata": {
    "collapsed": true,
    "ExecuteTime": {
     "end_time": "2024-05-18T11:52:27.246118Z",
     "start_time": "2024-05-18T11:52:26.799272Z"
    }
   },
   "source": [
    "import sys\n",
    "\n",
    "sys.path.insert(0, '..')\n",
    "\n",
    "import os\n",
    "import requests\n",
    "import json\n",
    "from tempfile import mkdtemp\n",
    "from urllib.request import urlretrieve\n",
    "\n",
    "import libsbml\n",
    "from process_bigraph import pp \n",
    "\n",
    "from test_suite.test_data_model import TestCompositionResults"
   ],
   "outputs": [],
   "execution_count": 1
  },
  {
   "metadata": {
    "ExecuteTime": {
     "end_time": "2024-05-18T11:52:27.250640Z",
     "start_time": "2024-05-18T11:52:27.247251Z"
    }
   },
   "cell_type": "code",
   "source": [
    "test_archive_fp = '../test_suite/examples/sbml-core/Varusai-Sci-Rep-2018-mTOR-signaling-LSODA-LSODAR-SBML.omex'\n",
    "os.path.exists(test_archive_fp)"
   ],
   "id": "f7329fc0b6d2f5a0",
   "outputs": [
    {
     "data": {
      "text/plain": [
       "True"
      ]
     },
     "execution_count": 2,
     "metadata": {},
     "output_type": "execute_result"
    }
   ],
   "execution_count": 2
  },
  {
   "metadata": {
    "ExecuteTime": {
     "end_time": "2024-05-18T11:56:27.171671Z",
     "start_time": "2024-05-18T11:56:27.163796Z"
    }
   },
   "cell_type": "code",
   "source": [
    "from dataclasses import dataclass\n",
    "from typing import *\n",
    "from tempfile import mkdtemp\n",
    "\n",
    "import requests\n",
    "from process_bigraph import pp, pf \n",
    "from biosimulators_utils.combine.io import CombineArchiveReader\n",
    "from biosimulators_utils.combine.data_model import CombineArchive\n",
    "\n",
    "from biosimulator_processes.data_model import _BaseClass\n",
    "\n",
    "\n",
    "@dataclass \n",
    "class ProjectsQuery(_BaseClass):\n",
    "    project_ids: List[str]\n",
    "    project_data: Dict\n",
    "\n",
    "\n",
    "@dataclass\n",
    "class ArchiveFiles(_BaseClass):\n",
    "    run_id: str \n",
    "    project_name: str \n",
    "    files: List[Dict]\n",
    "\n",
    "    \n",
    "async def search_projects_archives(query: str) -> ProjectsQuery:\n",
    "    get_all_projects_url = 'https://api.biosimulations.dev/projects'\n",
    "    headers = {'accept': 'application/json'}\n",
    "    try:\n",
    "        all_projects_resp = requests.get(get_all_projects_url, headers=headers)\n",
    "        all_projects_resp.raise_for_status()\n",
    "        all_projects = all_projects_resp.json()\n",
    "        project_ids = [p['id'].lower() for p in all_projects]\n",
    "        \n",
    "        query_result_ids = [project_id for project_id in project_ids if query.lower() in project_id]\n",
    "        query_result_data = {}\n",
    "        for project in all_projects:\n",
    "            project_id = project['id'].lower()\n",
    "            if project_id in query_result_ids:\n",
    "                query_result_data[project_id] = project\n",
    "        \n",
    "        return ProjectsQuery(\n",
    "            project_ids=query_result_ids,\n",
    "            project_data=query_result_data)\n",
    "    except Exception as e:\n",
    "        print(f'Failed to fetch OMEX archive:\\n{e}')\n",
    "        \n",
    "\n",
    "async def get_run_id_files(run_id: str, project_name: str) -> ArchiveFiles:\n",
    "    get_files_url = f'https://api.biosimulations.dev/files/{run_id}'\n",
    "    headers = {'accept': 'application/json'}\n",
    "    try:\n",
    "        files_resp = requests.get(get_files_url, headers=headers)\n",
    "        run_files = files_resp.json()\n",
    "        return ArchiveFiles(run_id=run_id, project_name=project_name, files=run_files)\n",
    "    except Exception as e:\n",
    "        print(f'Failed to fetch simulation run files:\\n{e}')\n",
    "\n",
    "\n",
    "async def fetch_archive_files(query: str) -> ArchiveFiles:\n",
    "    archive_query = await search_projects_archives(query)\n",
    "    query_results = archive_query.project_ids\n",
    "    \n",
    "    options_menu = dict(zip(list(range(len(query_results))), query_results))\n",
    "\n",
    "    user_selection = int(input(f'Please enter your archive selection:\\n{pf(options_menu)}'))\n",
    "    \n",
    "    selected_project_id = options_menu[user_selection]\n",
    "    simulation_run_id = archive_query.project_data[selected_project_id]['simulationRun']\n",
    "    simulation_run_files = await get_run_id_files(simulation_run_id, selected_project_id)\n",
    "    return simulation_run_files\n",
    "\n",
    "    \n",
    "\n",
    "async def extract_model_from_query(query: str):\n",
    "    archive_files = await fetch_archive_files(query)\n",
    "    print(archive_files.project_name)\n",
    "    "
   ],
   "id": "d93326b459ea424f",
   "outputs": [],
   "execution_count": 12
  },
  {
   "metadata": {
    "ExecuteTime": {
     "end_time": "2024-05-18T11:56:32.858523Z",
     "start_time": "2024-05-18T11:56:27.766204Z"
    }
   },
   "cell_type": "code",
   "source": "await extract_model_from_query(query='Yeast')",
   "id": "c85a0b123ea278a8",
   "outputs": [
    {
     "name": "stdout",
     "output_type": "stream",
     "text": [
      "biomd0000000605_amici_can_yeast_glycolysis_be_unders\n"
     ]
    }
   ],
   "execution_count": 13
  },
  {
   "metadata": {
    "ExecuteTime": {
     "end_time": "2024-05-18T11:52:30.650795Z",
     "start_time": "2024-05-18T11:52:30.646859Z"
    }
   },
   "cell_type": "code",
   "source": "",
   "id": "c1a89982d8891bfb",
   "outputs": [],
   "execution_count": 4
  }
 ],
 "metadata": {
  "kernelspec": {
   "display_name": "Python 3",
   "language": "python",
   "name": "python3"
  },
  "language_info": {
   "codemirror_mode": {
    "name": "ipython",
    "version": 2
   },
   "file_extension": ".py",
   "mimetype": "text/x-python",
   "name": "python",
   "nbconvert_exporter": "python",
   "pygments_lexer": "ipython2",
   "version": "2.7.6"
  }
 },
 "nbformat": 4,
 "nbformat_minor": 5
}
