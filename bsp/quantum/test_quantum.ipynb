{
 "cells": [
  {
   "cell_type": "code",
   "execution_count": 4,
   "id": "dc7b4b80-dea1-4142-8673-16ef75a9ed38",
   "metadata": {},
   "outputs": [
    {
     "name": "stdout",
     "output_type": "stream",
     "text": [
      "Collecting networkx\n",
      "  Downloading networkx-3.4.2-py3-none-any.whl.metadata (6.3 kB)\n",
      "Downloading networkx-3.4.2-py3-none-any.whl (1.7 MB)\n",
      "\u001B[2K   \u001B[90m━━━━━━━━━━━━━━━━━━━━━━━━━━━━━━━━━━━━━━━━\u001B[0m \u001B[32m1.7/1.7 MB\u001B[0m \u001B[31m10.3 MB/s\u001B[0m eta \u001B[36m0:00:00\u001B[0m \u001B[36m0:00:01\u001B[0m\n",
      "\u001B[?25hInstalling collected packages: networkx\n",
      "Successfully installed networkx-3.4.2\n"
     ]
    }
   ],
   "source": [
    "# !pip install qiskit-nature\n",
    "!poetry run pip install networkx"
   ]
  },
  {
   "cell_type": "code",
   "id": "290ba3cf-1578-4132-9498-af81ff4e3c0b",
   "metadata": {
    "ExecuteTime": {
     "end_time": "2025-01-03T05:16:50.084977Z",
     "start_time": "2025-01-03T05:16:49.890491Z"
    }
   },
   "source": [
    "from math import pi\n",
    "import json\n",
    "from pathlib import Path\n",
    "from math import sqrt\n",
    "from typing import *\n",
    "\n",
    "import numpy as np\n",
    "from dotenv import load_dotenv\n",
    "import rustworkx as rx\n",
    "import networkx as nx\n",
    "from qiskit_nature.second_q.hamiltonians.lattices import (\n",
    "    BoundaryCondition,\n",
    "    HyperCubicLattice,\n",
    "    Lattice,\n",
    "    LatticeDrawStyle,\n",
    "    LineLattice,\n",
    "    SquareLattice,\n",
    "    TriangularLattice,\n",
    ")\n",
    "from qiskit_nature.second_q.hamiltonians import FermiHubbardModel\n",
    "from qiskit_nature.second_q.problems import LatticeModelProblem\n",
    "from qiskit_algorithms import NumPyMinimumEigensolver\n",
    "from qiskit_nature.second_q.algorithms import GroundStateEigensolver\n",
    "from qiskit_nature.second_q.mappers import JordanWignerMapper\n",
    "from qiskit.quantum_info import SparsePauliOp\n",
    "from qiskit.circuit.library import QAOAAnsatz\n",
    "from qiskit.circuit.library import QAOAAnsatz\n",
    "from qiskit.quantum_info import Pauli, SparsePauliOp\n",
    "from qiskit.primitives import Sampler\n",
    "from qiskit.quantum_info import Pauli\n",
    "from qiskit.result import QuasiDistribution\n",
    "from qiskit_algorithms import QAOA as QAOASolver\n",
    "from qiskit_algorithms.optimizers import COBYLA\n",
    "from qiskit_algorithms.utils import algorithm_globals\n",
    "from process_bigraph import Process, Step\n",
    "from process_bigraph import pp\n",
    "\n",
    "from bsp import registrar\n",
    "\n",
    "\n",
    "load_dotenv(\"../config.env\")"
   ],
   "outputs": [
    {
     "data": {
      "text/plain": [
       "True"
      ]
     },
     "execution_count": 18,
     "metadata": {},
     "output_type": "execute_result"
    }
   ],
   "execution_count": 18
  },
  {
   "cell_type": "code",
   "execution_count": 6,
   "id": "b6909ff4-cb34-4f87-8b66-1748d8f6acac",
   "metadata": {},
   "outputs": [],
   "source": [
    "from process_bigraph import Process, Step\n",
    "\n",
    "\n",
    "class RQAOA(Process):\n",
    "    pass\n",
    "\n",
    "\n",
    "class VariableReduction(Process):\n",
    "    \"\"\"Run reduce_variables() workflow here\"\"\"\n",
    "    pass\n",
    "\n",
    "\n",
    "class VariableChecker(Step):\n",
    "    \"\"\"takes N as input state and checks if N == Ncrit\"\"\"\n",
    "    pass\n",
    "\n",
    "\n",
    "from qiskit.quantum_info import SparsePauliOp\n",
    "def build_max_cut_paulis(graph: rx.PyGraph) -> list[tuple[str, float]]:\n",
    "    \"\"\"Convert the graph to Pauli list.\n",
    "\n",
    "    This function does the inverse of `build_max_cut_graph`\n",
    "    \"\"\"\n",
    "    pauli_list = []\n",
    "    for edge in list(graph.edge_list()):\n",
    "        paulis = [\"I\"] * len(graph)\n",
    "        paulis[edge[0]], paulis[edge[1]] = \"Z\", \"Z\"\n",
    "\n",
    "        weight = graph.get_edge_data(edge[0], edge[1])\n",
    "\n",
    "        pauli_list.append((\"\".join(paulis)[::-1], weight))\n",
    "\n",
    "    return pauli_list\n",
    "\n",
    "\n",
    "class MolecularQAOA(Process):\n",
    "    config_schema = {\n",
    "        'nuclei': 'list[list[float]]'\n",
    "    }\n",
    "\n",
    "    def __init__(self, config, core):\n",
    "        super().__init__(config, core)\n",
    "\n",
    "        # position vectors of all nuclei involved in solving\n",
    "        self.R = self.config['nuclei']"
   ]
  },
  {
   "cell_type": "code",
   "execution_count": 7,
   "id": "3036a9f2-6c32-43cd-bad3-07e98f3eacc6",
   "metadata": {},
   "outputs": [
    {
     "data": {
      "text/plain": [
       "'R is an array of arrays of shape: (n, 3)\\n    where n is the number of nuclei involved in the hamiltonian, and \\n    3 represent position vector dimesions (x, y, z) for each n\\n'"
      ]
     },
     "execution_count": 7,
     "metadata": {},
     "output_type": "execute_result"
    }
   ],
   "source": [
    "# from bsp import registrar\n",
    "# CORE = registrar.core\n",
    "# \n",
    "# rqaoa = RQAOA(\n",
    "#     config={\n",
    "#         'n_nodes': 5,\n",
    "#         'edge_list': [(0, 1, 1.0), (0, 2, 1.0), (0, 4, 1.0), (1, 2, 1.0), (2, 3, 1.0), (3, 4, 1.0)] \n",
    "#     },\n",
    "#     core=CORE\n",
    "# )\n",
    "\n",
    "\"\"\"R is an array of arrays of shape: (n, 3)\n",
    "    where n is the number of nuclei involved in the hamiltonian, and \n",
    "    3 represent position vector dimesions (x, y, z) for each n\n",
    "\"\"\""
   ]
  },
  {
   "cell_type": "code",
   "execution_count": null,
   "id": "133565fa-35be-468e-b8f0-bbb2c5fddefe",
   "metadata": {},
   "outputs": [],
   "source": []
  },
  {
   "cell_type": "code",
   "execution_count": null,
   "id": "da7534c4-bd1f-4e55-9d77-16e88ad9e2f7",
   "metadata": {},
   "outputs": [],
   "source": []
  },
  {
   "cell_type": "code",
   "execution_count": null,
   "id": "16a541ef-3ebe-4feb-87ee-76f8cfbcee34",
   "metadata": {},
   "outputs": [],
   "source": []
  },
  {
   "cell_type": "code",
   "execution_count": 37,
   "id": "6439817e-af03-40dd-a0cc-82d5eadd483c",
   "metadata": {},
   "outputs": [],
   "source": [
    "class GroverProcess(Process):\n",
    "    config_schema = {\n",
    "        \"target\": \"string\"\n",
    "    }\n",
    "\n",
    "    def __init__(self, config, core):\n",
    "        super().__init__(config, core)\n",
    "\n",
    "\n",
    "\n"
   ]
  },
  {
   "cell_type": "code",
   "execution_count": 38,
   "id": "b89b0d8d-c2d5-4fe6-a751-7b2cd24e864a",
   "metadata": {},
   "outputs": [
    {
     "name": "stdout",
     "output_type": "stream",
     "text": [
      "Successfully registered <class '__main__.QAOA'> to address: qaoa\n"
     ]
    }
   ],
   "source": [
    "CORE = registrar.core\n",
    "\n",
    "registrar.register_process(\"qaoa\", QAOA, verbose=True)"
   ]
  },
  {
   "cell_type": "code",
   "execution_count": 12,
   "id": "f574ed4b-d631-47ea-8522-d0094baf7bc8",
   "metadata": {},
   "outputs": [],
   "source": [
    "from bsp.io import read_xyz\n",
    "\n",
    "atom_xyz = read_xyz('../../assets/experiments/ferroxidase_center.xyz')"
   ]
  },
  {
   "cell_type": "code",
   "execution_count": 13,
   "id": "38557378-a7ee-4486-b6cb-0856cc3f3827",
   "metadata": {},
   "outputs": [
    {
     "data": {
      "text/plain": [
       "'Fe 0.0 0.0 0.0; Fe 2.5 0.0 0.0; O 1.25 0.5 0.0; O 1.25 -0.5 0.0; N 0.5 1.5 0.0; C -0.5 -1.5 0.0; C 3.0 1.0 0.0; O 3.5 1.5 0.0'"
      ]
     },
     "execution_count": 13,
     "metadata": {},
     "output_type": "execute_result"
    }
   ],
   "source": [
    "atom_xyz"
   ]
  },
  {
   "metadata": {
    "ExecuteTime": {
     "end_time": "2025-01-03T05:33:51.154972Z",
     "start_time": "2025-01-03T05:33:51.146477Z"
    }
   },
   "cell_type": "code",
   "source": [
    "import os\n",
    "from bsp.data_model import BaseClass\n",
    "import numpy as np\n",
    "from dataclasses import dataclass\n",
    "\n",
    "\n",
    "class DiracNotation(np.ndarray):\n",
    "    def __new__(cls, values: list[complex]):\n",
    "        return np.asarray(values).view(cls)\n",
    "\n",
    "\n",
    "class Bra(DiracNotation):\n",
    "    pass\n",
    "\n",
    "\n",
    "class Ket(DiracNotation):\n",
    "    def bra(self) -> Bra:\n",
    "        ket_value = self.view()\n",
    "        return Bra(np.conj(ket_value).T)\n",
    "\n",
    "\n",
    "class XYZElements(list):\n",
    "    pass\n",
    "\n",
    "\n",
    "class XYZAtom(str):\n",
    "    def __new__(cls, *args, **kwargs):\n",
    "        return str.__new__(cls, *args, **kwargs)\n",
    "\n",
    "    @property\n",
    "    def elements(self, unique: bool = False) -> XYZElements:\n",
    "        items = self.split()\n",
    "        elements = XYZElements([line[0] for line in [ln.strip() for ln in self.split(\";\")]])\n",
    "        return list(set(elements)) if unique else elements\n",
    "\n",
    "\n",
    "@dataclass\n",
    "class Atom(BaseClass):\n",
    "    name: str\n",
    "    x: float\n",
    "    y: float\n",
    "    z: float\n",
    "\n",
    "\n",
    "@dataclass\n",
    "class Molecule(BaseClass):\n",
    "    xyz_filepath: Optional[os.PathLike[str]] = None\n",
    "    atoms: Optional[List[Atom]] = None\n",
    "\n",
    "    def __post_init__(self):\n",
    "        if self.atoms is None and self.xyz_filepath is not None:\n",
    "            self.atoms = self.read_xyz(self.xyz_filepath)\n",
    "\n",
    "    @property\n",
    "    def xyz(self) -> str:\n",
    "        xyz_mol = []\n",
    "        for atom in self.atoms:\n",
    "            xyz_atom = f\"{atom.name} {atom.x} {atom.y} {atom.z}\"\n",
    "            xyz_mol.append(xyz_atom)\n",
    "        return \"; \".join(xyz_mol)\n",
    "\n",
    "    def read_xyz(self, xyz_filepath: Optional[os.PathLike[str]] = None) -> List[Atom]:\n",
    "        atoms = []\n",
    "        fp = xyz_filepath or self.xyz_filepath\n",
    "        with open(fp) as f:\n",
    "            file_contents = f.read().splitlines()\n",
    "            for i, line in enumerate(file_contents):\n",
    "                atom = Atom(*line.split())\n",
    "                atoms.append(atom)\n",
    "        return atoms\n",
    "\n",
    "\n",
    "\n",
    "\n",
    "\n"
   ],
   "id": "8b291556dd528728",
   "outputs": [],
   "execution_count": 46
  },
  {
   "metadata": {
    "ExecuteTime": {
     "end_time": "2025-01-03T05:37:14.890888Z",
     "start_time": "2025-01-03T05:37:14.887187Z"
    }
   },
   "cell_type": "code",
   "source": [
    "# atom_xyz = 'Fe 0.0 0.0 0.0; Fe 2.5 0.0 0.0; O 1.25 0.5 0.0; O 1.25 -0.5 0.0; N 0.5 1.5 0.0; C -0.5 -1.5 0.0; C 3.0 1.0 0.0; O 3.5 1.5 0.0'\n",
    "mol = Molecule(\n",
    "    xyz_filepath='/Users/alexanderpatrie/Desktop/repos/biosimulator-processes/assets/experiments/ferroxidase_center.xyz'\n",
    "    # atoms=[\n",
    "    #     Atom(name='Fe', x=0.0, y=0.0, z=0.0),\n",
    "    #     Atom(name='Fe', x=2.5, y=0.0, z=0.0),\n",
    "    #     Atom(name='O', x=1.25, y=-0.5, z=0.0)\n",
    "    # ]\n",
    ")"
   ],
   "id": "a6eaa85c685f0aa0",
   "outputs": [],
   "execution_count": 51
  },
  {
   "metadata": {
    "ExecuteTime": {
     "end_time": "2025-01-03T05:37:15.361202Z",
     "start_time": "2025-01-03T05:37:15.358395Z"
    }
   },
   "cell_type": "code",
   "source": "mol.xyz",
   "id": "d667a2326fe45276",
   "outputs": [
    {
     "data": {
      "text/plain": [
       "'Fe 0.0 0.0 0.0; Fe 2.5 0.0 0.0; O 1.25 0.5 0.0; O 1.25 -0.5 0.0; N 0.5 1.5 0.0; C -0.5 -1.5 0.0; C 3.0 1.0 0.0; O 3.5 1.5 0.0'"
      ]
     },
     "execution_count": 52,
     "metadata": {},
     "output_type": "execute_result"
    }
   ],
   "execution_count": 52
  },
  {
   "metadata": {
    "ExecuteTime": {
     "end_time": "2025-01-03T05:37:16.916724Z",
     "start_time": "2025-01-03T05:37:16.913756Z"
    }
   },
   "cell_type": "code",
   "source": "mol.atoms",
   "id": "84cfa7e37755da72",
   "outputs": [
    {
     "data": {
      "text/plain": [
       "[Atom(name='Fe', x='0.0', y='0.0', z='0.0'),\n",
       " Atom(name='Fe', x='2.5', y='0.0', z='0.0'),\n",
       " Atom(name='O', x='1.25', y='0.5', z='0.0'),\n",
       " Atom(name='O', x='1.25', y='-0.5', z='0.0'),\n",
       " Atom(name='N', x='0.5', y='1.5', z='0.0'),\n",
       " Atom(name='C', x='-0.5', y='-1.5', z='0.0'),\n",
       " Atom(name='C', x='3.0', y='1.0', z='0.0'),\n",
       " Atom(name='O', x='3.5', y='1.5', z='0.0')]"
      ]
     },
     "execution_count": 53,
     "metadata": {},
     "output_type": "execute_result"
    }
   ],
   "execution_count": 53
  },
  {
   "metadata": {
    "ExecuteTime": {
     "end_time": "2025-01-03T05:37:31.086300Z",
     "start_time": "2025-01-03T05:37:31.023565Z"
    }
   },
   "cell_type": "code",
   "source": [
    "from qiskit_nature.second_q.drivers import PySCFDriver\n",
    "from qiskit_nature.units import DistanceUnit"
   ],
   "id": "f0e23f4468452945",
   "outputs": [],
   "execution_count": 54
  },
  {
   "metadata": {
    "ExecuteTime": {
     "end_time": "2025-01-03T05:38:27.406593Z",
     "start_time": "2025-01-03T05:38:27.377624Z"
    }
   },
   "cell_type": "code",
   "source": [
    "driver = PySCFDriver(\n",
    "    atom=mol.xyz,\n",
    "    basis=\"LANL2DZ\", # \"sto3g\",\n",
    "    charge=0,\n",
    "    spin=10,\n",
    "    unit=DistanceUnit.ANGSTROM,\n",
    ")"
   ],
   "id": "8a17dd8ff900e32b",
   "outputs": [],
   "execution_count": 55
  },
  {
   "metadata": {
    "ExecuteTime": {
     "end_time": "2025-01-03T05:38:39.060366Z",
     "start_time": "2025-01-03T05:38:38.832517Z"
    }
   },
   "cell_type": "code",
   "source": "es_problem = driver.run()",
   "id": "385851b9543a4542",
   "outputs": [
    {
     "ename": "QiskitNatureError",
     "evalue": "'Failed to build the PySCF Molecule object.'",
     "output_type": "error",
     "traceback": [
      "\u001B[0;31m---------------------------------------------------------------------------\u001B[0m",
      "\u001B[0;31mRuntimeError\u001B[0m                              Traceback (most recent call last)",
      "File \u001B[0;32m~/Desktop/repos/biosimulator-processes/.venv/lib/python3.10/site-packages/qiskit_nature/second_q/drivers/pyscfd/pyscfdriver.py:411\u001B[0m, in \u001B[0;36mPySCFDriver._build_molecule\u001B[0;34m(self)\u001B[0m\n\u001B[1;32m    410\u001B[0m \u001B[38;5;28mself\u001B[39m\u001B[38;5;241m.\u001B[39m_mol\u001B[38;5;241m.\u001B[39mspin \u001B[38;5;241m=\u001B[39m \u001B[38;5;28mself\u001B[39m\u001B[38;5;241m.\u001B[39m_spin\n\u001B[0;32m--> 411\u001B[0m \u001B[38;5;28;43mself\u001B[39;49m\u001B[38;5;241;43m.\u001B[39;49m\u001B[43m_mol\u001B[49m\u001B[38;5;241;43m.\u001B[39;49m\u001B[43mbuild\u001B[49m\u001B[43m(\u001B[49m\u001B[43mparse_arg\u001B[49m\u001B[38;5;241;43m=\u001B[39;49m\u001B[38;5;28;43;01mFalse\u001B[39;49;00m\u001B[43m)\u001B[49m\n\u001B[1;32m    413\u001B[0m \u001B[38;5;28;01mif\u001B[39;00m output \u001B[38;5;129;01mis\u001B[39;00m \u001B[38;5;129;01mnot\u001B[39;00m \u001B[38;5;28;01mNone\u001B[39;00m:\n",
      "File \u001B[0;32m~/Desktop/repos/biosimulator-processes/.venv/lib/python3.10/site-packages/pyscf/gto/mole.py:2596\u001B[0m, in \u001B[0;36mMoleBase.build\u001B[0;34m(self, dump_input, parse_arg, verbose, output, max_memory, atom, basis, unit, nucmod, ecp, pseudo, charge, spin, symmetry, symmetry_subgroup, cart, magmom)\u001B[0m\n\u001B[1;32m   2593\u001B[0m \u001B[38;5;28;01melse\u001B[39;00m:\n\u001B[1;32m   2594\u001B[0m     \u001B[38;5;66;03m# Access self.nelec in which the code checks whether the spin and\u001B[39;00m\n\u001B[1;32m   2595\u001B[0m     \u001B[38;5;66;03m# number of electrons are consistent.\u001B[39;00m\n\u001B[0;32m-> 2596\u001B[0m     \u001B[38;5;28;43mself\u001B[39;49m\u001B[38;5;241;43m.\u001B[39;49m\u001B[43mnelec\u001B[49m\n\u001B[1;32m   2598\u001B[0m \u001B[38;5;66;03m# reset nuclear energy\u001B[39;00m\n",
      "File \u001B[0;32m~/Desktop/repos/biosimulator-processes/.venv/lib/python3.10/site-packages/pyscf/gto/mole.py:2381\u001B[0m, in \u001B[0;36mMoleBase.nelec\u001B[0;34m(self)\u001B[0m\n\u001B[1;32m   2380\u001B[0m \u001B[38;5;28;01mif\u001B[39;00m nalpha \u001B[38;5;241m+\u001B[39m nbeta \u001B[38;5;241m!=\u001B[39m ne:\n\u001B[0;32m-> 2381\u001B[0m     \u001B[38;5;28;01mraise\u001B[39;00m \u001B[38;5;167;01mRuntimeError\u001B[39;00m(\u001B[38;5;124m'\u001B[39m\u001B[38;5;124mElectron number \u001B[39m\u001B[38;5;132;01m%d\u001B[39;00m\u001B[38;5;124m and spin \u001B[39m\u001B[38;5;132;01m%d\u001B[39;00m\u001B[38;5;124m are not consistent\u001B[39m\u001B[38;5;130;01m\\n\u001B[39;00m\u001B[38;5;124m'\u001B[39m\n\u001B[1;32m   2382\u001B[0m                        \u001B[38;5;124m'\u001B[39m\u001B[38;5;124mNote mol.spin = 2S = Nalpha - Nbeta, not 2S+1\u001B[39m\u001B[38;5;124m'\u001B[39m \u001B[38;5;241m%\u001B[39m\n\u001B[1;32m   2383\u001B[0m                        (ne, \u001B[38;5;28mself\u001B[39m\u001B[38;5;241m.\u001B[39mspin))\n\u001B[1;32m   2384\u001B[0m \u001B[38;5;28;01mreturn\u001B[39;00m nalpha, nbeta\n",
      "\u001B[0;31mRuntimeError\u001B[0m: Electron number 95 and spin 10 are not consistent\nNote mol.spin = 2S = Nalpha - Nbeta, not 2S+1",
      "\nThe above exception was the direct cause of the following exception:\n",
      "\u001B[0;31mQiskitNatureError\u001B[0m                         Traceback (most recent call last)",
      "Cell \u001B[0;32mIn[56], line 1\u001B[0m\n\u001B[0;32m----> 1\u001B[0m es_problem \u001B[38;5;241m=\u001B[39m \u001B[43mdriver\u001B[49m\u001B[38;5;241;43m.\u001B[39;49m\u001B[43mrun\u001B[49m\u001B[43m(\u001B[49m\u001B[43m)\u001B[49m\n",
      "File \u001B[0;32m~/Desktop/repos/biosimulator-processes/.venv/lib/python3.10/site-packages/qiskit_nature/second_q/drivers/pyscfd/pyscfdriver.py:370\u001B[0m, in \u001B[0;36mPySCFDriver.run\u001B[0;34m(self)\u001B[0m\n\u001B[1;32m    361\u001B[0m \u001B[38;5;28;01mdef\u001B[39;00m \u001B[38;5;21mrun\u001B[39m(\u001B[38;5;28mself\u001B[39m) \u001B[38;5;241m-\u001B[39m\u001B[38;5;241m>\u001B[39m ElectronicStructureProblem:\n\u001B[1;32m    362\u001B[0m \u001B[38;5;250m    \u001B[39m\u001B[38;5;124;03m\"\"\"Runs the driver to produce a result.\u001B[39;00m\n\u001B[1;32m    363\u001B[0m \n\u001B[1;32m    364\u001B[0m \u001B[38;5;124;03m    Returns:\u001B[39;00m\n\u001B[0;32m   (...)\u001B[0m\n\u001B[1;32m    368\u001B[0m \u001B[38;5;124;03m        QiskitNatureError: if an error during the PySCF setup or calculation occurred.\u001B[39;00m\n\u001B[1;32m    369\u001B[0m \u001B[38;5;124;03m    \"\"\"\u001B[39;00m\n\u001B[0;32m--> 370\u001B[0m     \u001B[38;5;28;43mself\u001B[39;49m\u001B[38;5;241;43m.\u001B[39;49m\u001B[43mrun_pyscf\u001B[49m\u001B[43m(\u001B[49m\u001B[43m)\u001B[49m\n\u001B[1;32m    371\u001B[0m     \u001B[38;5;28;01mreturn\u001B[39;00m \u001B[38;5;28mself\u001B[39m\u001B[38;5;241m.\u001B[39mto_problem()\n",
      "File \u001B[0;32m~/Desktop/repos/biosimulator-processes/.venv/lib/python3.10/site-packages/qiskit_nature/second_q/drivers/pyscfd/pyscfdriver.py:469\u001B[0m, in \u001B[0;36mPySCFDriver.run_pyscf\u001B[0;34m(self)\u001B[0m\n\u001B[1;32m    460\u001B[0m \u001B[38;5;28;01mdef\u001B[39;00m \u001B[38;5;21mrun_pyscf\u001B[39m(\u001B[38;5;28mself\u001B[39m) \u001B[38;5;241m-\u001B[39m\u001B[38;5;241m>\u001B[39m \u001B[38;5;28;01mNone\u001B[39;00m:\n\u001B[1;32m    461\u001B[0m \u001B[38;5;250m    \u001B[39m\u001B[38;5;124;03m\"\"\"Runs the PySCF calculation.\u001B[39;00m\n\u001B[1;32m    462\u001B[0m \n\u001B[1;32m    463\u001B[0m \u001B[38;5;124;03m    This method is part of the public interface to allow the user to easily overwrite it in a\u001B[39;00m\n\u001B[0;32m   (...)\u001B[0m\n\u001B[1;32m    467\u001B[0m \u001B[38;5;124;03m        QiskitNatureError: If an invalid HF method type was supplied.\u001B[39;00m\n\u001B[1;32m    468\u001B[0m \u001B[38;5;124;03m    \"\"\"\u001B[39;00m\n\u001B[0;32m--> 469\u001B[0m     \u001B[38;5;28;43mself\u001B[39;49m\u001B[38;5;241;43m.\u001B[39;49m\u001B[43m_build_molecule\u001B[49m\u001B[43m(\u001B[49m\u001B[43m)\u001B[49m\n\u001B[1;32m    471\u001B[0m     \u001B[38;5;66;03m# pylint: disable=import-error\u001B[39;00m\n\u001B[1;32m    472\u001B[0m     \u001B[38;5;28;01mfrom\u001B[39;00m \u001B[38;5;21;01mpyscf\u001B[39;00m \u001B[38;5;28;01mimport\u001B[39;00m dft, scf\n",
      "File \u001B[0;32m~/Desktop/repos/biosimulator-processes/.venv/lib/python3.10/site-packages/qiskit_nature/second_q/drivers/pyscfd/pyscfdriver.py:421\u001B[0m, in \u001B[0;36mPySCFDriver._build_molecule\u001B[0;34m(self)\u001B[0m\n\u001B[1;32m    418\u001B[0m             \u001B[38;5;28;01mpass\u001B[39;00m\n\u001B[1;32m    420\u001B[0m \u001B[38;5;28;01mexcept\u001B[39;00m \u001B[38;5;167;01mException\u001B[39;00m \u001B[38;5;28;01mas\u001B[39;00m exc:\n\u001B[0;32m--> 421\u001B[0m     \u001B[38;5;28;01mraise\u001B[39;00m QiskitNatureError(\u001B[38;5;124m\"\u001B[39m\u001B[38;5;124mFailed to build the PySCF Molecule object.\u001B[39m\u001B[38;5;124m\"\u001B[39m) \u001B[38;5;28;01mfrom\u001B[39;00m \u001B[38;5;21;01mexc\u001B[39;00m\n",
      "\u001B[0;31mQiskitNatureError\u001B[0m: 'Failed to build the PySCF Molecule object.'"
     ]
    }
   ],
   "execution_count": 56
  },
  {
   "metadata": {},
   "cell_type": "code",
   "outputs": [],
   "execution_count": null,
   "source": "",
   "id": "68ecb19d6caf2e3a"
  }
 ],
 "metadata": {
  "kernelspec": {
   "display_name": "Biosimulator Processes(biosimulator-processes-py3.10): Python 3.10.15",
   "language": "python",
   "name": "biosimulator-processes-py3.10"
  },
  "language_info": {
   "codemirror_mode": {
    "name": "ipython",
    "version": 3
   },
   "file_extension": ".py",
   "mimetype": "text/x-python",
   "name": "python",
   "nbconvert_exporter": "python",
   "pygments_lexer": "ipython3",
   "version": "3.10.15"
  }
 },
 "nbformat": 4,
 "nbformat_minor": 5
}
