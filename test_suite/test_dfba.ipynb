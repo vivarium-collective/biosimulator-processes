{
 "cells": [
  {
   "cell_type": "code",
   "execution_count": 1,
   "id": "573bc0a1-7999-43a7-99f6-81f746acff4e",
   "metadata": {
    "ExecuteTime": {
     "end_time": "2024-09-18T19:57:38.855040Z",
     "start_time": "2024-09-18T19:57:34.429337Z"
    }
   },
   "outputs": [
    {
     "name": "stdout",
     "output_type": "stream",
     "text": [
      "Cannot register SimulariumSmoldynStep. Error:\n",
      "**\n",
      "No module named 'simulariumio'\n",
      "**\n",
      "Cannot register MongoDatabaseEmitter. Error:\n",
      "**\n",
      "No module named 'simulariumio'\n",
      "**\n"
     ]
    }
   ],
   "source": [
    "from process_bigraph import Composite \n",
    "\n",
    "from biosimulators_processes import CORE "
   ]
  },
  {
   "cell_type": "code",
   "execution_count": 2,
   "id": "e6018680-d10d-4724-95c3-2e984b9ba4fb",
   "metadata": {
    "ExecuteTime": {
     "end_time": "2024-09-18T19:57:02.492009Z",
     "start_time": "2024-09-18T19:57:02.489831Z"
    }
   },
   "outputs": [],
   "source": [
    "model_fp = '/Users/alexanderpatrie/Desktop/repos/biosimulator-processes/test_suite/examples/sbml-core/Elowitz-Nature-2000-Repressilator/BIOMD0000000012_url.xml'\n",
    "\n",
    "doc = {\n",
    "    'dFBA': {\n",
    "        '_type': 'process',\n",
    "        'address': 'local:dfba-process',\n",
    "        'config': {\n",
    "            'model': {\n",
    "                'model_source': model_fp\n",
    "            },\n",
    "            'simulator': 'copasi',\n",
    "            'start': 0,\n",
    "            'stop': 10,\n",
    "            'steps': 100\n",
    "        },\n",
    "        'inputs': {},\n",
    "        'outputs': {\n",
    "            'solution': ['solution_store']\n",
    "        }\n",
    "    },\n",
    "    'emitter': {\n",
    "        '_type': 'step',\n",
    "        'address': 'local:ram-emitter',\n",
    "        'config': {\n",
    "            'emit': {\n",
    "                'solution': 'tree[float]'\n",
    "            }\n",
    "        },\n",
    "        'inputs': {\n",
    "            'solution': ['solution_store']\n",
    "        }\n",
    "    }\n",
    "}\n",
    "\n",
    "\n",
    "spec = doc.copy()"
   ]
  },
  {
   "cell_type": "code",
   "execution_count": null,
   "id": "eb74f3da-9172-4ecc-aab1-237d6c721743",
   "metadata": {
    "ExecuteTime": {
     "end_time": "2024-09-18T19:57:10.763725Z",
     "start_time": "2024-09-18T19:57:10.710214Z"
    }
   },
   "outputs": [],
   "source": [
    "comp = Composite(\n",
    "    config={'state': spec},\n",
    "    core=CORE\n",
    ")"
   ]
  },
  {
   "cell_type": "code",
   "execution_count": null,
   "id": "6be217a9-4ea0-4e7f-8563-297266e3e688",
   "metadata": {
    "ExecuteTime": {
     "end_time": "2024-09-18T19:57:28.585883Z",
     "start_time": "2024-09-18T19:57:28.582517Z"
    }
   },
   "outputs": [],
   "source": [
    "comp.run(3)"
   ]
  },
  {
   "cell_type": "code",
   "execution_count": 7,
   "id": "7ad241c9-277b-4473-b2c2-65def8935674",
   "metadata": {},
   "outputs": [
    {
     "name": "stderr",
     "output_type": "stream",
     "text": [
      "Model does not contain SBML fbc package information.\n",
      "SBML package 'layout' not supported by cobrapy, information is not parsed\n",
      "SBML package 'render' not supported by cobrapy, information is not parsed\n",
      "Missing lower flux bound set to '-1000.0' for reaction: '<Reaction Reaction1 \"degradation of LacI transcripts\">'\n",
      "Missing upper flux bound set to '1000.0' for reaction: '<Reaction Reaction1 \"degradation of LacI transcripts\">'\n",
      "Missing lower flux bound set to '-1000.0' for reaction: '<Reaction Reaction2 \"degradation of TetR transcripts\">'\n",
      "Missing upper flux bound set to '1000.0' for reaction: '<Reaction Reaction2 \"degradation of TetR transcripts\">'\n",
      "Missing lower flux bound set to '-1000.0' for reaction: '<Reaction Reaction3 \"degradation of CI transcripts\">'\n",
      "Missing upper flux bound set to '1000.0' for reaction: '<Reaction Reaction3 \"degradation of CI transcripts\">'\n",
      "Missing lower flux bound set to '-1000.0' for reaction: '<Reaction Reaction4 \"translation of LacI\">'\n",
      "Missing upper flux bound set to '1000.0' for reaction: '<Reaction Reaction4 \"translation of LacI\">'\n",
      "Missing lower flux bound set to '-1000.0' for reaction: '<Reaction Reaction5 \"translation of TetR\">'\n",
      "Missing upper flux bound set to '1000.0' for reaction: '<Reaction Reaction5 \"translation of TetR\">'\n",
      "Missing lower flux bound set to '-1000.0' for reaction: '<Reaction Reaction6 \"translation of CI\">'\n",
      "Missing upper flux bound set to '1000.0' for reaction: '<Reaction Reaction6 \"translation of CI\">'\n",
      "Missing lower flux bound set to '-1000.0' for reaction: '<Reaction Reaction7 \"degradation of LacI\">'\n",
      "Missing upper flux bound set to '1000.0' for reaction: '<Reaction Reaction7 \"degradation of LacI\">'\n",
      "Missing lower flux bound set to '-1000.0' for reaction: '<Reaction Reaction8 \"degradation of TetR\">'\n",
      "Missing upper flux bound set to '1000.0' for reaction: '<Reaction Reaction8 \"degradation of TetR\">'\n",
      "Missing lower flux bound set to '-1000.0' for reaction: '<Reaction Reaction9 \"degradation of CI\">'\n",
      "Missing upper flux bound set to '1000.0' for reaction: '<Reaction Reaction9 \"degradation of CI\">'\n",
      "Missing lower flux bound set to '-1000.0' for reaction: '<Reaction Reaction10 \"transcription of LacI\">'\n",
      "Missing upper flux bound set to '1000.0' for reaction: '<Reaction Reaction10 \"transcription of LacI\">'\n",
      "Missing lower flux bound set to '-1000.0' for reaction: '<Reaction Reaction11 \"transcription of TetR\">'\n",
      "Missing upper flux bound set to '1000.0' for reaction: '<Reaction Reaction11 \"transcription of TetR\">'\n",
      "Missing lower flux bound set to '-1000.0' for reaction: '<Reaction Reaction12 \"transcription of CI\">'\n",
      "Missing upper flux bound set to '1000.0' for reaction: '<Reaction Reaction12 \"transcription of CI\">'\n",
      "No objective coefficients in model. Unclear what should be optimized\n",
      "Missing flux bounds on reactions set to default bounds.As best practise and to avoid confusion flux bounds should be set explicitly on all reactions.\n"
     ]
    }
   ],
   "source": [
    "import numpy as np\n",
    "import os \n",
    "from pathlib import Path\n",
    "from tqdm import tqdm\n",
    "\n",
    "from scipy.integrate import solve_ivp\n",
    "import matplotlib.pyplot as plt\n",
    "import cobra\n",
    "from cobra.io import load_model as load_cobra, read_sbml_model\n",
    "from basico import * \n",
    "\n",
    "from biosimulators_processes.helpers import generate_reaction_mappings\n",
    "\n",
    "\n",
    "# set up models\n",
    "model_file = '/Users/alexanderpatrie/Desktop/repos/biosimulator-processes/test_suite/examples/sbml-core/Elowitz-Nature-2000-Repressilator/BIOMD0000000012_url.xml'\n",
    "\n",
    "# set up cobra model\n",
    "data_dir = Path(os.path.dirname(model_file))\n",
    "path = data_dir / model_file.split('/')[-1]\n",
    "cobrapy = read_sbml_model(str(path.resolve()))  # load_cobra('textbook')\n",
    "\n",
    "# set up copasi model\n",
    "copasi = load_model(model_fp)\n"
   ]
  },
  {
   "cell_type": "code",
   "execution_count": null,
   "id": "0b746894-7f09-451d-90cf-240c88df0659",
   "metadata": {},
   "outputs": [],
   "source": [
    "def add_dynamic_bounds(fba_model, utc_model, y):\n",
    "    # 1. get reaction mappings \n",
    "    # 2. y = get_species(model=copasi).initial_concentration.values\n",
    "    # 3. for each species in y, calculate max export (TODO: make this specific)\n",
    "    biomass, glucose = y \n",
    "    glucose_max_import = -10 * glucose / (5 + glucose)\n",
    "    fba_model.reactions.EX_glc__D_e.lower_bound = glucose_max_import\n",
    "\n",
    "\n",
    "def dynamic_system(t, y):\n",
    "    \"\"\"Calculate the time derivative of external species.\"\"\"\n",
    "\n",
    "    biomass, glucose = y  # expand the boundary species\n",
    "\n",
    "    # Calculate the specific exchanges fluxes at the given external concentrations.\n",
    "    with cobrapy:\n",
    "        add_dynamic_bounds(cobrapy, copasi, y)\n",
    "\n",
    "        cobra.util.add_lp_feasibility(cobrapy)\n",
    "        feasibility = cobra.util.fix_objective_as_constraint(cobrapy)\n",
    "        lex_constraints = cobra.util.add_lexicographic_constraints(\n",
    "            cobrapy, ['Biomass_Ecoli_core', 'EX_glc__D_e'], ['max', 'max'])\n",
    "\n",
    "    # Since the calculated fluxes are specific rates, we multiply them by the\n",
    "    # biomass concentration to get the bulk exchange rates.\n",
    "    fluxes = lex_constraints.values\n",
    "    fluxes *= biomass\n",
    "\n",
    "    # This implementation is **not** efficient, so I display the current\n",
    "    # simulation time using a progress bar.\n",
    "    if dynamic_system.pbar is not None:\n",
    "        dynamic_system.pbar.update(1)\n",
    "        dynamic_system.pbar.set_description('t = {:.3f}'.format(t))\n",
    "\n",
    "    return fluxes\n",
    "\n",
    "dynamic_system.pbar = None\n",
    "\n",
    "\n",
    "def infeasible_event(t, y):\n",
    "    \"\"\"\n",
    "    Determine solution feasibility.\n",
    "\n",
    "    Avoiding infeasible solutions is handled by solve_ivp's built-in event detection.\n",
    "    This function re-solves the LP to determine whether or not the solution is feasible\n",
    "    (and if not, how far it is from feasibility). When the sign of this function changes\n",
    "    from -epsilon to positive, we know the solution is no longer feasible.\n",
    "\n",
    "    \"\"\"\n",
    "\n",
    "    with cobrapy:\n",
    "\n",
    "        add_dynamic_bounds(cobrapy, y)\n",
    "\n",
    "        cobra.util.add_lp_feasibility(cobrapy)\n",
    "        feasibility = cobra.util.fix_objective_as_constraint(cobrapy)\n",
    "\n",
    "    return feasibility - infeasible_event.epsilon\n",
    "\n",
    "infeasible_event.epsilon = 1E-6\n",
    "infeasible_event.direction = 1\n",
    "infeasible_event.terminal = True"
   ]
  },
  {
   "cell_type": "code",
   "execution_count": null,
   "id": "6df51ef7-2594-43f8-a7d4-554bc496bc1e",
   "metadata": {},
   "outputs": [],
   "source": [
    "def generate_reaction_mappings(output_names: list[str], reactions) -> list[dict]:\n",
    "    mappings = []\n",
    "    for reaction in reactions:\n",
    "        for name in output_names:\n",
    "            rxn = reaction.name.lower().split(\" \")  # [r.lower() for r in list(reaction.values()).split(\" \")]\n",
    "            obs_name = name.split(\" \")[0].lower()\n",
    "            obs_type = name.split(\" \")[-1]\n",
    "            if obs_name in rxn:\n",
    "                mapping = {}\n",
    "                if \"transcription\" in rxn and obs_type == \"mRNA\":\n",
    "                    mapping = {name: reaction.name}\n",
    "                elif \"translation\" in rxn and obs_type == \"protein\":\n",
    "                    mapping = {name: reaction.name}\n",
    "                elif \"degradation\" in rxn:\n",
    "                    if \"transcripts\" in rxn and obs_type == \"mRNA\":\n",
    "                        mapping = {name: reaction.name}\n",
    "                    elif \"transcripts\" not in rxn and obs_type == \"protein\":\n",
    "                        mapping = {name: reaction.name}\n",
    "                if mapping:\n",
    "                    mappings.append(mapping)\n",
    "    return mappings"
   ]
  },
  {
   "cell_type": "code",
   "execution_count": null,
   "id": "9e7de8d3-25ef-4cfe-8aa8-ccee624cd12b",
   "metadata": {},
   "outputs": [],
   "source": [
    "ts = np.linspace(0, 15, 100)  # Desired integration resolution and interval\n",
    "y0 = [0.1, 10]\n",
    "\n",
    "with tqdm() as pbar:\n",
    "    dynamic_system.pbar = pbar\n",
    "\n",
    "    sol = solve_ivp(\n",
    "        fun=dynamic_system,\n",
    "        events=[infeasible_event],\n",
    "        t_span=(ts.min(), ts.max()),\n",
    "        y0=y0,\n",
    "        t_eval=ts,\n",
    "        rtol=1e-6,\n",
    "        atol=1e-8,\n",
    "        method='BDF'\n",
    "    )"
   ]
  },
  {
   "cell_type": "code",
   "execution_count": null,
   "id": "be01d8f5-e94d-4431-8d02-f14cd20ae9a4",
   "metadata": {},
   "outputs": [],
   "source": [
    "dir(sol)\n"
   ]
  },
  {
   "cell_type": "code",
   "execution_count": null,
   "id": "381d8788-874b-4ae7-a68a-ecbb35aca385",
   "metadata": {},
   "outputs": [],
   "source": [
    "sol"
   ]
  },
  {
   "cell_type": "code",
   "execution_count": null,
   "id": "e13f1058-3be5-41a9-92e6-f04cb4395e9b",
   "metadata": {},
   "outputs": [],
   "source": [
    "vars(sol)"
   ]
  },
  {
   "cell_type": "code",
   "execution_count": null,
   "id": "80d8b81e-e961-46ed-80a4-b1394fcd618d",
   "metadata": {},
   "outputs": [],
   "source": [
    "sol.sol"
   ]
  },
  {
   "cell_type": "code",
   "execution_count": null,
   "id": "0526d343-3481-4408-b5ec-d4a8fd859e02",
   "metadata": {},
   "outputs": [],
   "source": [
    "sol.t"
   ]
  },
  {
   "cell_type": "code",
   "execution_count": null,
   "id": "eabe6d7e-9bd2-4b16-a55f-e2720b0061ec",
   "metadata": {},
   "outputs": [],
   "source": [
    "type(sol)"
   ]
  },
  {
   "cell_type": "code",
   "execution_count": null,
   "id": "439f9e41-ca9d-4ae1-905a-72cbe86d456c",
   "metadata": {},
   "outputs": [],
   "source": [
    "sol.status == 'optimal'\n"
   ]
  },
  {
   "cell_type": "code",
   "execution_count": null,
   "id": "3d93dcd5-d32c-4a93-9c40-64db2214e0c5",
   "metadata": {},
   "outputs": [],
   "source": []
  }
 ],
 "metadata": {
  "kernelspec": {
   "display_name": "Python 3 (ipykernel)",
   "language": "python",
   "name": "python3"
  },
  "language_info": {
   "codemirror_mode": {
    "name": "ipython",
    "version": 3
   },
   "file_extension": ".py",
   "mimetype": "text/x-python",
   "name": "python",
   "nbconvert_exporter": "python",
   "pygments_lexer": "ipython3",
   "version": "3.10.14"
  }
 },
 "nbformat": 4,
 "nbformat_minor": 5
}
