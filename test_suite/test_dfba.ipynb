{
 "cells": [
  {
   "cell_type": "code",
   "execution_count": 1,
   "id": "573bc0a1-7999-43a7-99f6-81f746acff4e",
   "metadata": {},
   "outputs": [
    {
     "name": "stdout",
     "output_type": "stream",
     "text": [
      "Cannot register SimulariumSmoldynStep. Error:\n",
      "**\n",
      "No module named 'simulariumio'\n",
      "**\n",
      "Cannot register MongoDatabaseEmitter. Error:\n",
      "**\n",
      "No module named 'simulariumio'\n",
      "**\n"
     ]
    }
   ],
   "source": [
    "from process_bigraph import Composite \n",
    "\n",
    "from biosimulators_processes import CORE "
   ]
  },
  {
   "cell_type": "code",
   "execution_count": 2,
   "id": "e6018680-d10d-4724-95c3-2e984b9ba4fb",
   "metadata": {},
   "outputs": [],
   "source": [
    "model_fp = '/Users/alexanderpatrie/Desktop/repos/biosimulator-processes/test_suite/examples/sbml-core/Elowitz-Nature-2000-Repressilator/BIOMD0000000012_url.xml'\n",
    "\n",
    "doc = {\n",
    "    'dFBA': {\n",
    "        '_type': 'process',\n",
    "        'address': 'local:dfba-process',\n",
    "        'config': {\n",
    "            'model': {\n",
    "                'model_source': model_fp\n",
    "            },\n",
    "            'simulator': 'copasi',\n",
    "            'start': 0,\n",
    "            'stop': 10,\n",
    "            'steps': 100\n",
    "        },\n",
    "        'inputs': {},\n",
    "        'outputs': {\n",
    "            'solution': ['solution_store']\n",
    "        }\n",
    "    },\n",
    "    'emitter': {\n",
    "        '_type': 'step',\n",
    "        'address': 'local:ram-emitter',\n",
    "        'config': {\n",
    "            'emit': {\n",
    "                'solution': 'tree[float]'\n",
    "            }\n",
    "        },\n",
    "        'inputs': {\n",
    "            'solution': ['solution_store']\n",
    "        }\n",
    "    }\n",
    "}\n",
    "\n",
    "\n",
    "spec = doc.copy()"
   ]
  },
  {
   "cell_type": "code",
   "execution_count": 3,
   "id": "eb74f3da-9172-4ecc-aab1-237d6c721743",
   "metadata": {},
   "outputs": [
    {
     "name": "stderr",
     "output_type": "stream",
     "text": [
      "Model does not contain SBML fbc package information.\n",
      "SBML package 'layout' not supported by cobrapy, information is not parsed\n",
      "SBML package 'render' not supported by cobrapy, information is not parsed\n",
      "Missing lower flux bound set to '-1000.0' for reaction: '<Reaction Reaction1 \"degradation of LacI transcripts\">'\n",
      "Missing upper flux bound set to '1000.0' for reaction: '<Reaction Reaction1 \"degradation of LacI transcripts\">'\n",
      "Missing lower flux bound set to '-1000.0' for reaction: '<Reaction Reaction2 \"degradation of TetR transcripts\">'\n",
      "Missing upper flux bound set to '1000.0' for reaction: '<Reaction Reaction2 \"degradation of TetR transcripts\">'\n",
      "Missing lower flux bound set to '-1000.0' for reaction: '<Reaction Reaction3 \"degradation of CI transcripts\">'\n",
      "Missing upper flux bound set to '1000.0' for reaction: '<Reaction Reaction3 \"degradation of CI transcripts\">'\n",
      "Missing lower flux bound set to '-1000.0' for reaction: '<Reaction Reaction4 \"translation of LacI\">'\n",
      "Missing upper flux bound set to '1000.0' for reaction: '<Reaction Reaction4 \"translation of LacI\">'\n",
      "Missing lower flux bound set to '-1000.0' for reaction: '<Reaction Reaction5 \"translation of TetR\">'\n",
      "Missing upper flux bound set to '1000.0' for reaction: '<Reaction Reaction5 \"translation of TetR\">'\n",
      "Missing lower flux bound set to '-1000.0' for reaction: '<Reaction Reaction6 \"translation of CI\">'\n",
      "Missing upper flux bound set to '1000.0' for reaction: '<Reaction Reaction6 \"translation of CI\">'\n",
      "Missing lower flux bound set to '-1000.0' for reaction: '<Reaction Reaction7 \"degradation of LacI\">'\n",
      "Missing upper flux bound set to '1000.0' for reaction: '<Reaction Reaction7 \"degradation of LacI\">'\n",
      "Missing lower flux bound set to '-1000.0' for reaction: '<Reaction Reaction8 \"degradation of TetR\">'\n",
      "Missing upper flux bound set to '1000.0' for reaction: '<Reaction Reaction8 \"degradation of TetR\">'\n",
      "Missing lower flux bound set to '-1000.0' for reaction: '<Reaction Reaction9 \"degradation of CI\">'\n",
      "Missing upper flux bound set to '1000.0' for reaction: '<Reaction Reaction9 \"degradation of CI\">'\n",
      "Missing lower flux bound set to '-1000.0' for reaction: '<Reaction Reaction10 \"transcription of LacI\">'\n",
      "Missing upper flux bound set to '1000.0' for reaction: '<Reaction Reaction10 \"transcription of LacI\">'\n",
      "Missing lower flux bound set to '-1000.0' for reaction: '<Reaction Reaction11 \"transcription of TetR\">'\n",
      "Missing upper flux bound set to '1000.0' for reaction: '<Reaction Reaction11 \"transcription of TetR\">'\n",
      "Missing lower flux bound set to '-1000.0' for reaction: '<Reaction Reaction12 \"transcription of CI\">'\n",
      "Missing upper flux bound set to '1000.0' for reaction: '<Reaction Reaction12 \"transcription of CI\">'\n",
      "No objective coefficients in model. Unclear what should be optimized\n",
      "Missing flux bounds on reactions set to default bounds.As best practise and to avoid confusion flux bounds should be set explicitly on all reactions.\n"
     ]
    }
   ],
   "source": [
    "comp = Composite(\n",
    "    config={'state': spec},\n",
    "    core=CORE\n",
    ")"
   ]
  },
  {
   "cell_type": "code",
   "execution_count": 4,
   "id": "6be217a9-4ea0-4e7f-8563-297266e3e688",
   "metadata": {},
   "outputs": [
    {
     "ename": "AttributeError",
     "evalue": "'Reaction' object has no attribute 'values'",
     "output_type": "error",
     "traceback": [
      "\u001b[0;31m---------------------------------------------------------------------------\u001b[0m",
      "\u001b[0;31mAttributeError\u001b[0m                            Traceback (most recent call last)",
      "Cell \u001b[0;32mIn[4], line 1\u001b[0m\n\u001b[0;32m----> 1\u001b[0m \u001b[43mcomp\u001b[49m\u001b[38;5;241;43m.\u001b[39;49m\u001b[43mrun\u001b[49m\u001b[43m(\u001b[49m\u001b[38;5;241;43m10\u001b[39;49m\u001b[43m)\u001b[49m\n",
      "File \u001b[0;32m~/Library/Caches/pypoetry/virtualenvs/biosimulators-processes-JaN5cQMh-py3.10/lib/python3.10/site-packages/process_bigraph/composite.py:1053\u001b[0m, in \u001b[0;36mComposite.run\u001b[0;34m(self, interval, force_complete)\u001b[0m\n\u001b[1;32m   1051\u001b[0m \u001b[38;5;28;01mfor\u001b[39;00m path \u001b[38;5;129;01min\u001b[39;00m \u001b[38;5;28mself\u001b[39m\u001b[38;5;241m.\u001b[39mprocess_paths:\n\u001b[1;32m   1052\u001b[0m     process \u001b[38;5;241m=\u001b[39m get_path(\u001b[38;5;28mself\u001b[39m\u001b[38;5;241m.\u001b[39mstate, path)\n\u001b[0;32m-> 1053\u001b[0m     full_step \u001b[38;5;241m=\u001b[39m \u001b[38;5;28;43mself\u001b[39;49m\u001b[38;5;241;43m.\u001b[39;49m\u001b[43mrun_process\u001b[49m\u001b[43m(\u001b[49m\n\u001b[1;32m   1054\u001b[0m \u001b[43m        \u001b[49m\u001b[43mpath\u001b[49m\u001b[43m,\u001b[49m\n\u001b[1;32m   1055\u001b[0m \u001b[43m        \u001b[49m\u001b[43mprocess\u001b[49m\u001b[43m,\u001b[49m\n\u001b[1;32m   1056\u001b[0m \u001b[43m        \u001b[49m\u001b[43mend_time\u001b[49m\u001b[43m,\u001b[49m\n\u001b[1;32m   1057\u001b[0m \u001b[43m        \u001b[49m\u001b[43mfull_step\u001b[49m\u001b[43m,\u001b[49m\n\u001b[1;32m   1058\u001b[0m \u001b[43m        \u001b[49m\u001b[43mforce_complete\u001b[49m\u001b[43m)\u001b[49m\n\u001b[1;32m   1060\u001b[0m \u001b[38;5;66;03m# apply updates based on process times in self.front\u001b[39;00m\n\u001b[1;32m   1061\u001b[0m \u001b[38;5;28;01mif\u001b[39;00m full_step \u001b[38;5;241m==\u001b[39m math\u001b[38;5;241m.\u001b[39minf:\n\u001b[1;32m   1062\u001b[0m     \u001b[38;5;66;03m# no processes ran, jump to next process\u001b[39;00m\n",
      "File \u001b[0;32m~/Library/Caches/pypoetry/virtualenvs/biosimulators-processes-JaN5cQMh-py3.10/lib/python3.10/site-packages/process_bigraph/composite.py:950\u001b[0m, in \u001b[0;36mComposite.run_process\u001b[0;34m(self, path, process, end_time, full_step, force_complete)\u001b[0m\n\u001b[1;32m    947\u001b[0m     full_step \u001b[38;5;241m=\u001b[39m interval\n\u001b[1;32m    949\u001b[0m \u001b[38;5;28;01mif\u001b[39;00m future \u001b[38;5;241m<\u001b[39m\u001b[38;5;241m=\u001b[39m end_time:\n\u001b[0;32m--> 950\u001b[0m     update \u001b[38;5;241m=\u001b[39m \u001b[38;5;28;43mself\u001b[39;49m\u001b[38;5;241;43m.\u001b[39;49m\u001b[43mprocess_update\u001b[49m\u001b[43m(\u001b[49m\n\u001b[1;32m    951\u001b[0m \u001b[43m        \u001b[49m\u001b[43mpath\u001b[49m\u001b[43m,\u001b[49m\n\u001b[1;32m    952\u001b[0m \u001b[43m        \u001b[49m\u001b[43mprocess\u001b[49m\u001b[43m,\u001b[49m\n\u001b[1;32m    953\u001b[0m \u001b[43m        \u001b[49m\u001b[43mstate\u001b[49m\u001b[43m,\u001b[49m\n\u001b[1;32m    954\u001b[0m \u001b[43m        \u001b[49m\u001b[43mprocess_interval\u001b[49m\n\u001b[1;32m    955\u001b[0m \u001b[43m    \u001b[49m\u001b[43m)\u001b[49m\n\u001b[1;32m    957\u001b[0m     \u001b[38;5;66;03m# update front, to be applied at its projected time\u001b[39;00m\n\u001b[1;32m    958\u001b[0m     \u001b[38;5;28mself\u001b[39m\u001b[38;5;241m.\u001b[39mfront[path][\u001b[38;5;124m'\u001b[39m\u001b[38;5;124mtime\u001b[39m\u001b[38;5;124m'\u001b[39m] \u001b[38;5;241m=\u001b[39m future\n",
      "File \u001b[0;32m~/Library/Caches/pypoetry/virtualenvs/biosimulators-processes-JaN5cQMh-py3.10/lib/python3.10/site-packages/process_bigraph/composite.py:892\u001b[0m, in \u001b[0;36mComposite.process_update\u001b[0;34m(self, path, process, states, interval, ports_key)\u001b[0m\n\u001b[1;32m    870\u001b[0m \u001b[38;5;250m\u001b[39m\u001b[38;5;124;03m\"\"\"Start generating a process's update.\u001b[39;00m\n\u001b[1;32m    871\u001b[0m \n\u001b[1;32m    872\u001b[0m \u001b[38;5;124;03mThis function is similar to :py:meth:`_invoke_process` except in\u001b[39;00m\n\u001b[0;32m   (...)\u001b[0m\n\u001b[1;32m    887\u001b[0m \u001b[38;5;124;03m    ``store``.\u001b[39;00m\n\u001b[1;32m    888\u001b[0m \u001b[38;5;124;03m\"\"\"\u001b[39;00m\n\u001b[1;32m    890\u001b[0m states \u001b[38;5;241m=\u001b[39m strip_schema_keys(states)\n\u001b[0;32m--> 892\u001b[0m update \u001b[38;5;241m=\u001b[39m \u001b[43mprocess\u001b[49m\u001b[43m[\u001b[49m\u001b[38;5;124;43m'\u001b[39;49m\u001b[38;5;124;43minstance\u001b[39;49m\u001b[38;5;124;43m'\u001b[39;49m\u001b[43m]\u001b[49m\u001b[38;5;241;43m.\u001b[39;49m\u001b[43minvoke\u001b[49m\u001b[43m(\u001b[49m\u001b[43mstates\u001b[49m\u001b[43m,\u001b[49m\u001b[43m \u001b[49m\u001b[43minterval\u001b[49m\u001b[43m)\u001b[49m\n\u001b[1;32m    894\u001b[0m \u001b[38;5;28;01mdef\u001b[39;00m \u001b[38;5;21mdefer_project\u001b[39m(update, args):\n\u001b[1;32m    895\u001b[0m     schema, state, path \u001b[38;5;241m=\u001b[39m args\n",
      "File \u001b[0;32m~/Library/Caches/pypoetry/virtualenvs/biosimulators-processes-JaN5cQMh-py3.10/lib/python3.10/site-packages/process_bigraph/composite.py:326\u001b[0m, in \u001b[0;36mProcess.invoke\u001b[0;34m(self, state, interval)\u001b[0m\n\u001b[1;32m    325\u001b[0m \u001b[38;5;28;01mdef\u001b[39;00m \u001b[38;5;21minvoke\u001b[39m(\u001b[38;5;28mself\u001b[39m, state, interval):\n\u001b[0;32m--> 326\u001b[0m     update \u001b[38;5;241m=\u001b[39m \u001b[38;5;28;43mself\u001b[39;49m\u001b[38;5;241;43m.\u001b[39;49m\u001b[43mupdate\u001b[49m\u001b[43m(\u001b[49m\u001b[43mstate\u001b[49m\u001b[43m,\u001b[49m\u001b[43m \u001b[49m\u001b[43minterval\u001b[49m\u001b[43m)\u001b[49m\n\u001b[1;32m    327\u001b[0m     sync \u001b[38;5;241m=\u001b[39m SyncUpdate(update)\n\u001b[1;32m    328\u001b[0m     \u001b[38;5;28;01mreturn\u001b[39;00m sync\n",
      "File \u001b[0;32m~/Desktop/repos/biosimulator-processes/biosimulators_processes/processes/dfba_process.py:68\u001b[0m, in \u001b[0;36mDynamicFBA.update\u001b[0;34m(self, state, interval)\u001b[0m\n\u001b[1;32m     66\u001b[0m species_output_names \u001b[38;5;241m=\u001b[39m spec_data\u001b[38;5;241m.\u001b[39mindex\u001b[38;5;241m.\u001b[39mtolist()\n\u001b[1;32m     67\u001b[0m reactions \u001b[38;5;241m=\u001b[39m \u001b[38;5;28mself\u001b[39m\u001b[38;5;241m.\u001b[39mfba_model\u001b[38;5;241m.\u001b[39mreactions\n\u001b[0;32m---> 68\u001b[0m reaction_mappings \u001b[38;5;241m=\u001b[39m \u001b[38;5;28;43mself\u001b[39;49m\u001b[38;5;241;43m.\u001b[39;49m\u001b[43m_generate_reaction_mappings\u001b[49m\u001b[43m(\u001b[49m\u001b[43mspecies_output_names\u001b[49m\u001b[43m,\u001b[49m\u001b[43m \u001b[49m\u001b[43mreactions\u001b[49m\u001b[43m)\u001b[49m\n\u001b[1;32m     69\u001b[0m initial_concentrations \u001b[38;5;241m=\u001b[39m \u001b[38;5;28mlist\u001b[39m(spec_data\u001b[38;5;241m.\u001b[39minitial_concentration\u001b[38;5;241m.\u001b[39mto_dict()\u001b[38;5;241m.\u001b[39mvalues())\n\u001b[1;32m     71\u001b[0m \u001b[38;5;66;03m# run dfba and get solution\u001b[39;00m\n",
      "File \u001b[0;32m~/Desktop/repos/biosimulator-processes/biosimulators_processes/processes/dfba_process.py:158\u001b[0m, in \u001b[0;36mDynamicFBA._generate_reaction_mappings\u001b[0;34m(self, output_names, reactions)\u001b[0m\n\u001b[1;32m    156\u001b[0m \u001b[38;5;28;01mfor\u001b[39;00m reaction \u001b[38;5;129;01min\u001b[39;00m reactions:\n\u001b[1;32m    157\u001b[0m     \u001b[38;5;28;01mfor\u001b[39;00m name \u001b[38;5;129;01min\u001b[39;00m output_names:\n\u001b[0;32m--> 158\u001b[0m         rxn \u001b[38;5;241m=\u001b[39m [r\u001b[38;5;241m.\u001b[39mlower() \u001b[38;5;28;01mfor\u001b[39;00m r \u001b[38;5;129;01min\u001b[39;00m \u001b[38;5;28mlist\u001b[39m(\u001b[43mreaction\u001b[49m\u001b[38;5;241;43m.\u001b[39;49m\u001b[43mvalues\u001b[49m())\u001b[38;5;241m.\u001b[39msplit(\u001b[38;5;124m\"\u001b[39m\u001b[38;5;124m \u001b[39m\u001b[38;5;124m\"\u001b[39m)]\n\u001b[1;32m    159\u001b[0m         obs_name \u001b[38;5;241m=\u001b[39m name\u001b[38;5;241m.\u001b[39msplit(\u001b[38;5;124m\"\u001b[39m\u001b[38;5;124m \u001b[39m\u001b[38;5;124m\"\u001b[39m)[\u001b[38;5;241m0\u001b[39m]\u001b[38;5;241m.\u001b[39mlower()\n\u001b[1;32m    160\u001b[0m         obs_type \u001b[38;5;241m=\u001b[39m name\u001b[38;5;241m.\u001b[39msplit(\u001b[38;5;124m\"\u001b[39m\u001b[38;5;124m \u001b[39m\u001b[38;5;124m\"\u001b[39m)[\u001b[38;5;241m-\u001b[39m\u001b[38;5;241m1\u001b[39m]\n",
      "\u001b[0;31mAttributeError\u001b[0m: 'Reaction' object has no attribute 'values'"
     ]
    }
   ],
   "source": [
    "comp.run(10)"
   ]
  },
  {
   "cell_type": "code",
   "execution_count": 6,
   "id": "7ad241c9-277b-4473-b2c2-65def8935674",
   "metadata": {},
   "outputs": [],
   "source": [
    "import numpy as np\n",
    "from tqdm import tqdm\n",
    "\n",
    "from scipy.integrate import solve_ivp\n",
    "\n",
    "import matplotlib.pyplot as plt\n",
    "import cobra\n",
    "from cobra.io import load_model as load_cobra\n",
    "\n",
    "model = load_cobra('textbook')"
   ]
  },
  {
   "cell_type": "code",
   "execution_count": 7,
   "id": "0b746894-7f09-451d-90cf-240c88df0659",
   "metadata": {},
   "outputs": [],
   "source": [
    "def add_dynamic_bounds(model, y):\n",
    "    \"\"\"Use external concentrations to bound the uptake flux of glucose.\"\"\"\n",
    "    biomass, glucose = y  # expand the boundary species\n",
    "    glucose_max_import = -10 * glucose / (5 + glucose)\n",
    "    model.reactions.EX_glc__D_e.lower_bound = glucose_max_import\n",
    "\n",
    "\n",
    "def dynamic_system(t, y):\n",
    "    \"\"\"Calculate the time derivative of external species.\"\"\"\n",
    "\n",
    "    biomass, glucose = y  # expand the boundary species\n",
    "\n",
    "    # Calculate the specific exchanges fluxes at the given external concentrations.\n",
    "    with model:\n",
    "        add_dynamic_bounds(model, y)\n",
    "\n",
    "        cobra.util.add_lp_feasibility(model)\n",
    "        feasibility = cobra.util.fix_objective_as_constraint(model)\n",
    "        lex_constraints = cobra.util.add_lexicographic_constraints(\n",
    "            model, ['Biomass_Ecoli_core', 'EX_glc__D_e'], ['max', 'max'])\n",
    "\n",
    "    # Since the calculated fluxes are specific rates, we multiply them by the\n",
    "    # biomass concentration to get the bulk exchange rates.\n",
    "    fluxes = lex_constraints.values\n",
    "    fluxes *= biomass\n",
    "\n",
    "    # This implementation is **not** efficient, so I display the current\n",
    "    # simulation time using a progress bar.\n",
    "    if dynamic_system.pbar is not None:\n",
    "        dynamic_system.pbar.update(1)\n",
    "        dynamic_system.pbar.set_description('t = {:.3f}'.format(t))\n",
    "\n",
    "    return fluxes\n",
    "\n",
    "dynamic_system.pbar = None\n",
    "\n",
    "\n",
    "def infeasible_event(t, y):\n",
    "    \"\"\"\n",
    "    Determine solution feasibility.\n",
    "\n",
    "    Avoiding infeasible solutions is handled by solve_ivp's built-in event detection.\n",
    "    This function re-solves the LP to determine whether or not the solution is feasible\n",
    "    (and if not, how far it is from feasibility). When the sign of this function changes\n",
    "    from -epsilon to positive, we know the solution is no longer feasible.\n",
    "\n",
    "    \"\"\"\n",
    "\n",
    "    with model:\n",
    "\n",
    "        add_dynamic_bounds(model, y)\n",
    "\n",
    "        cobra.util.add_lp_feasibility(model)\n",
    "        feasibility = cobra.util.fix_objective_as_constraint(model)\n",
    "\n",
    "    return feasibility - infeasible_event.epsilon\n",
    "\n",
    "infeasible_event.epsilon = 1E-6\n",
    "infeasible_event.direction = 1\n",
    "infeasible_event.terminal = True"
   ]
  },
  {
   "cell_type": "code",
   "execution_count": 8,
   "id": "6df51ef7-2594-43f8-a7d4-554bc496bc1e",
   "metadata": {},
   "outputs": [],
   "source": [
    "def generate_reaction_mappings(output_names: list[str], reactions) -> list[dict]:\n",
    "    mappings = []\n",
    "    for reaction in reactions:\n",
    "        for name in output_names:\n",
    "            rxn = reaction.name.lower().split(\" \")  # [r.lower() for r in list(reaction.values()).split(\" \")]\n",
    "            obs_name = name.split(\" \")[0].lower()\n",
    "            obs_type = name.split(\" \")[-1]\n",
    "            if obs_name in rxn:\n",
    "                mapping = {}\n",
    "                if \"transcription\" in rxn and obs_type == \"mRNA\":\n",
    "                    mapping = {name: reaction.name}\n",
    "                elif \"translation\" in rxn and obs_type == \"protein\":\n",
    "                    mapping = {name: reaction.name}\n",
    "                elif \"degradation\" in rxn:\n",
    "                    if \"transcripts\" in rxn and obs_type == \"mRNA\":\n",
    "                        mapping = {name: reaction.name}\n",
    "                    elif \"transcripts\" not in rxn and obs_type == \"protein\":\n",
    "                        mapping = {name: reaction.name}\n",
    "                if mapping:\n",
    "                    mappings.append(mapping)\n",
    "    return mappings"
   ]
  },
  {
   "cell_type": "code",
   "execution_count": 9,
   "id": "9e7de8d3-25ef-4cfe-8aa8-ccee624cd12b",
   "metadata": {},
   "outputs": [
    {
     "name": "stderr",
     "output_type": "stream",
     "text": [
      "t = 5.804: : 185it [00:08, 21.05it/s]\n"
     ]
    }
   ],
   "source": [
    "ts = np.linspace(0, 15, 100)  # Desired integration resolution and interval\n",
    "y0 = [0.1, 10]\n",
    "\n",
    "with tqdm() as pbar:\n",
    "    dynamic_system.pbar = pbar\n",
    "\n",
    "    sol = solve_ivp(\n",
    "        fun=dynamic_system,\n",
    "        events=[infeasible_event],\n",
    "        t_span=(ts.min(), ts.max()),\n",
    "        y0=y0,\n",
    "        t_eval=ts,\n",
    "        rtol=1e-6,\n",
    "        atol=1e-8,\n",
    "        method='BDF'\n",
    "    )"
   ]
  },
  {
   "cell_type": "code",
   "execution_count": 10,
   "id": "be01d8f5-e94d-4431-8d02-f14cd20ae9a4",
   "metadata": {},
   "outputs": [
    {
     "data": {
      "text/plain": [
       "['message',\n",
       " 'nfev',\n",
       " 'njev',\n",
       " 'nlu',\n",
       " 'sol',\n",
       " 'status',\n",
       " 'success',\n",
       " 't',\n",
       " 't_events',\n",
       " 'y',\n",
       " 'y_events']"
      ]
     },
     "execution_count": 10,
     "metadata": {},
     "output_type": "execute_result"
    }
   ],
   "source": [
    "dir(sol)\n"
   ]
  },
  {
   "cell_type": "code",
   "execution_count": 11,
   "id": "381d8788-874b-4ae7-a68a-ecbb35aca385",
   "metadata": {},
   "outputs": [
    {
     "data": {
      "text/plain": [
       "  message: A termination event occurred.\n",
       "  success: True\n",
       "   status: 1\n",
       "        t: [ 0.000e+00  1.515e-01 ...  5.606e+00  5.758e+00]\n",
       "        y: [[ 1.000e-01  1.090e-01 ...  8.715e-01  8.727e-01]\n",
       "            [ 1.000e+01  9.895e+00 ...  3.476e-01  2.710e-01]]\n",
       "      sol: None\n",
       " t_events: [array([ 5.802e+00])]\n",
       " y_events: [array([[ 8.728e-01,  2.518e-01]])]\n",
       "     nfev: 179\n",
       "     njev: 2\n",
       "      nlu: 14"
      ]
     },
     "execution_count": 11,
     "metadata": {},
     "output_type": "execute_result"
    }
   ],
   "source": [
    "sol"
   ]
  },
  {
   "cell_type": "code",
   "execution_count": 12,
   "id": "e13f1058-3be5-41a9-92e6-f04cb4395e9b",
   "metadata": {},
   "outputs": [
    {
     "data": {
      "text/plain": [
       "{}"
      ]
     },
     "execution_count": 12,
     "metadata": {},
     "output_type": "execute_result"
    }
   ],
   "source": [
    "vars(sol)"
   ]
  },
  {
   "cell_type": "code",
   "execution_count": 13,
   "id": "80d8b81e-e961-46ed-80a4-b1394fcd618d",
   "metadata": {},
   "outputs": [],
   "source": [
    "sol.sol"
   ]
  },
  {
   "cell_type": "code",
   "execution_count": 14,
   "id": "0526d343-3481-4408-b5ec-d4a8fd859e02",
   "metadata": {},
   "outputs": [
    {
     "data": {
      "text/plain": [
       "array([0.        , 0.15151515, 0.3030303 , 0.45454545, 0.60606061,\n",
       "       0.75757576, 0.90909091, 1.06060606, 1.21212121, 1.36363636,\n",
       "       1.51515152, 1.66666667, 1.81818182, 1.96969697, 2.12121212,\n",
       "       2.27272727, 2.42424242, 2.57575758, 2.72727273, 2.87878788,\n",
       "       3.03030303, 3.18181818, 3.33333333, 3.48484848, 3.63636364,\n",
       "       3.78787879, 3.93939394, 4.09090909, 4.24242424, 4.39393939,\n",
       "       4.54545455, 4.6969697 , 4.84848485, 5.        , 5.15151515,\n",
       "       5.3030303 , 5.45454545, 5.60606061, 5.75757576])"
      ]
     },
     "execution_count": 14,
     "metadata": {},
     "output_type": "execute_result"
    }
   ],
   "source": [
    "sol.t"
   ]
  },
  {
   "cell_type": "code",
   "execution_count": 16,
   "id": "eabe6d7e-9bd2-4b16-a55f-e2720b0061ec",
   "metadata": {},
   "outputs": [
    {
     "data": {
      "text/plain": [
       "scipy.integrate._ivp.ivp.OdeResult"
      ]
     },
     "execution_count": 16,
     "metadata": {},
     "output_type": "execute_result"
    }
   ],
   "source": [
    "type(sol)"
   ]
  },
  {
   "cell_type": "code",
   "execution_count": 18,
   "id": "439f9e41-ca9d-4ae1-905a-72cbe86d456c",
   "metadata": {},
   "outputs": [
    {
     "data": {
      "text/plain": [
       "False"
      ]
     },
     "execution_count": 18,
     "metadata": {},
     "output_type": "execute_result"
    }
   ],
   "source": [
    "sol.status == 'optimal'\n"
   ]
  },
  {
   "cell_type": "code",
   "execution_count": null,
   "id": "3d93dcd5-d32c-4a93-9c40-64db2214e0c5",
   "metadata": {},
   "outputs": [],
   "source": []
  }
 ],
 "metadata": {
  "kernelspec": {
   "display_name": "Python 3 (ipykernel)",
   "language": "python",
   "name": "python3"
  },
  "language_info": {
   "codemirror_mode": {
    "name": "ipython",
    "version": 3
   },
   "file_extension": ".py",
   "mimetype": "text/x-python",
   "name": "python",
   "nbconvert_exporter": "python",
   "pygments_lexer": "ipython3",
   "version": "3.10.14"
  }
 },
 "nbformat": 4,
 "nbformat_minor": 5
}
