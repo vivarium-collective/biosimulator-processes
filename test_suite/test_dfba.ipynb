{
 "cells": [
  {
   "cell_type": "code",
   "execution_count": 2,
   "id": "573bc0a1-7999-43a7-99f6-81f746acff4e",
   "metadata": {
    "ExecuteTime": {
     "end_time": "2024-09-18T19:57:38.855040Z",
     "start_time": "2024-09-18T19:57:34.429337Z"
    }
   },
   "outputs": [],
   "source": [
    "from process_bigraph import Composite \n",
    "\n",
    "from biosimulators_processes import CORE "
   ]
  },
  {
   "cell_type": "code",
   "execution_count": 3,
   "id": "e6018680-d10d-4724-95c3-2e984b9ba4fb",
   "metadata": {
    "ExecuteTime": {
     "end_time": "2024-09-18T19:57:02.492009Z",
     "start_time": "2024-09-18T19:57:02.489831Z"
    }
   },
   "outputs": [],
   "source": [
    "model_fp = '/Users/alexanderpatrie/Desktop/repos/biosimulator-processes/test_suite/examples/sbml-core/Elowitz-Nature-2000-Repressilator/BIOMD0000000012_url.xml'\n",
    "\n",
    "doc = {\n",
    "    'dFBA': {\n",
    "        '_type': 'process',\n",
    "        'address': 'local:dfba-process',\n",
    "        'config': {\n",
    "            'model': {\n",
    "                'model_source': model_fp\n",
    "            },\n",
    "            'simulator': 'copasi',\n",
    "            'start': 0,\n",
    "            'stop': 10,\n",
    "            'steps': 100\n",
    "        },\n",
    "        'inputs': {},\n",
    "        'outputs': {\n",
    "            'solution': ['solution_store']\n",
    "        }\n",
    "    },\n",
    "    'emitter': {\n",
    "        '_type': 'step',\n",
    "        'address': 'local:ram-emitter',\n",
    "        'config': {\n",
    "            'emit': {\n",
    "                'solution': 'tree[float]'\n",
    "            }\n",
    "        },\n",
    "        'inputs': {\n",
    "            'solution': ['solution_store']\n",
    "        }\n",
    "    }\n",
    "}\n",
    "\n",
    "\n",
    "spec = doc.copy()"
   ]
  },
  {
   "cell_type": "code",
   "execution_count": 4,
   "id": "eb74f3da-9172-4ecc-aab1-237d6c721743",
   "metadata": {
    "ExecuteTime": {
     "end_time": "2024-09-18T19:57:10.763725Z",
     "start_time": "2024-09-18T19:57:10.710214Z"
    }
   },
   "outputs": [
    {
     "name": "stderr",
     "output_type": "stream",
     "text": [
      "Model does not contain SBML fbc package information.\n",
      "SBML package 'layout' not supported by cobrapy, information is not parsed\n",
      "SBML package 'render' not supported by cobrapy, information is not parsed\n",
      "Missing lower flux bound set to '-1000.0' for reaction: '<Reaction Reaction1 \"degradation of LacI transcripts\">'\n",
      "Missing upper flux bound set to '1000.0' for reaction: '<Reaction Reaction1 \"degradation of LacI transcripts\">'\n",
      "Missing lower flux bound set to '-1000.0' for reaction: '<Reaction Reaction2 \"degradation of TetR transcripts\">'\n",
      "Missing upper flux bound set to '1000.0' for reaction: '<Reaction Reaction2 \"degradation of TetR transcripts\">'\n",
      "Missing lower flux bound set to '-1000.0' for reaction: '<Reaction Reaction3 \"degradation of CI transcripts\">'\n",
      "Missing upper flux bound set to '1000.0' for reaction: '<Reaction Reaction3 \"degradation of CI transcripts\">'\n",
      "Missing lower flux bound set to '-1000.0' for reaction: '<Reaction Reaction4 \"translation of LacI\">'\n",
      "Missing upper flux bound set to '1000.0' for reaction: '<Reaction Reaction4 \"translation of LacI\">'\n",
      "Missing lower flux bound set to '-1000.0' for reaction: '<Reaction Reaction5 \"translation of TetR\">'\n",
      "Missing upper flux bound set to '1000.0' for reaction: '<Reaction Reaction5 \"translation of TetR\">'\n",
      "Missing lower flux bound set to '-1000.0' for reaction: '<Reaction Reaction6 \"translation of CI\">'\n",
      "Missing upper flux bound set to '1000.0' for reaction: '<Reaction Reaction6 \"translation of CI\">'\n",
      "Missing lower flux bound set to '-1000.0' for reaction: '<Reaction Reaction7 \"degradation of LacI\">'\n",
      "Missing upper flux bound set to '1000.0' for reaction: '<Reaction Reaction7 \"degradation of LacI\">'\n",
      "Missing lower flux bound set to '-1000.0' for reaction: '<Reaction Reaction8 \"degradation of TetR\">'\n",
      "Missing upper flux bound set to '1000.0' for reaction: '<Reaction Reaction8 \"degradation of TetR\">'\n",
      "Missing lower flux bound set to '-1000.0' for reaction: '<Reaction Reaction9 \"degradation of CI\">'\n",
      "Missing upper flux bound set to '1000.0' for reaction: '<Reaction Reaction9 \"degradation of CI\">'\n",
      "Missing lower flux bound set to '-1000.0' for reaction: '<Reaction Reaction10 \"transcription of LacI\">'\n",
      "Missing upper flux bound set to '1000.0' for reaction: '<Reaction Reaction10 \"transcription of LacI\">'\n",
      "Missing lower flux bound set to '-1000.0' for reaction: '<Reaction Reaction11 \"transcription of TetR\">'\n",
      "Missing upper flux bound set to '1000.0' for reaction: '<Reaction Reaction11 \"transcription of TetR\">'\n",
      "Missing lower flux bound set to '-1000.0' for reaction: '<Reaction Reaction12 \"transcription of CI\">'\n",
      "Missing upper flux bound set to '1000.0' for reaction: '<Reaction Reaction12 \"transcription of CI\">'\n",
      "No objective coefficients in model. Unclear what should be optimized\n",
      "Missing flux bounds on reactions set to default bounds.As best practise and to avoid confusion flux bounds should be set explicitly on all reactions.\n"
     ]
    }
   ],
   "source": [
    "comp = Composite(\n",
    "    config={'state': spec},\n",
    "    core=CORE\n",
    ")"
   ]
  },
  {
   "cell_type": "code",
   "execution_count": 5,
   "id": "6be217a9-4ea0-4e7f-8563-297266e3e688",
   "metadata": {
    "ExecuteTime": {
     "end_time": "2024-09-18T19:57:28.585883Z",
     "start_time": "2024-09-18T19:57:28.582517Z"
    }
   },
   "outputs": [
    {
     "ename": "KeyboardInterrupt",
     "evalue": "",
     "output_type": "error",
     "traceback": [
      "\u001b[0;31m---------------------------------------------------------------------------\u001b[0m",
      "\u001b[0;31mKeyboardInterrupt\u001b[0m                         Traceback (most recent call last)",
      "\u001b[0;32m/var/folders/yy/8crj8x7x5_3b86f0js6_0bn00000gr/T/ipykernel_8034/2652917141.py\u001b[0m in \u001b[0;36m?\u001b[0;34m()\u001b[0m\n\u001b[0;32m----> 1\u001b[0;31m \u001b[0mcomp\u001b[0m\u001b[0;34m.\u001b[0m\u001b[0mrun\u001b[0m\u001b[0;34m(\u001b[0m\u001b[0;36m3\u001b[0m\u001b[0;34m)\u001b[0m\u001b[0;34m\u001b[0m\u001b[0;34m\u001b[0m\u001b[0m\n\u001b[0m",
      "\u001b[0;32m~/Library/Caches/pypoetry/virtualenvs/biosimulators-processes-JaN5cQMh-py3.10/lib/python3.10/site-packages/process_bigraph/composite.py\u001b[0m in \u001b[0;36m?\u001b[0;34m(self, interval, force_complete)\u001b[0m\n\u001b[1;32m   1049\u001b[0m             \u001b[0mfull_step\u001b[0m \u001b[0;34m=\u001b[0m \u001b[0mmath\u001b[0m\u001b[0;34m.\u001b[0m\u001b[0minf\u001b[0m\u001b[0;34m\u001b[0m\u001b[0;34m\u001b[0m\u001b[0m\n\u001b[1;32m   1050\u001b[0m \u001b[0;34m\u001b[0m\u001b[0m\n\u001b[1;32m   1051\u001b[0m             \u001b[0;32mfor\u001b[0m \u001b[0mpath\u001b[0m \u001b[0;32min\u001b[0m \u001b[0mself\u001b[0m\u001b[0;34m.\u001b[0m\u001b[0mprocess_paths\u001b[0m\u001b[0;34m:\u001b[0m\u001b[0;34m\u001b[0m\u001b[0;34m\u001b[0m\u001b[0m\n\u001b[1;32m   1052\u001b[0m                 \u001b[0mprocess\u001b[0m \u001b[0;34m=\u001b[0m \u001b[0mget_path\u001b[0m\u001b[0;34m(\u001b[0m\u001b[0mself\u001b[0m\u001b[0;34m.\u001b[0m\u001b[0mstate\u001b[0m\u001b[0;34m,\u001b[0m \u001b[0mpath\u001b[0m\u001b[0;34m)\u001b[0m\u001b[0;34m\u001b[0m\u001b[0;34m\u001b[0m\u001b[0m\n\u001b[0;32m-> 1053\u001b[0;31m                 full_step = self.run_process(\n\u001b[0m\u001b[1;32m   1054\u001b[0m                     \u001b[0mpath\u001b[0m\u001b[0;34m,\u001b[0m\u001b[0;34m\u001b[0m\u001b[0;34m\u001b[0m\u001b[0m\n\u001b[1;32m   1055\u001b[0m                     \u001b[0mprocess\u001b[0m\u001b[0;34m,\u001b[0m\u001b[0;34m\u001b[0m\u001b[0;34m\u001b[0m\u001b[0m\n\u001b[1;32m   1056\u001b[0m                     \u001b[0mend_time\u001b[0m\u001b[0;34m,\u001b[0m\u001b[0;34m\u001b[0m\u001b[0;34m\u001b[0m\u001b[0m\n",
      "\u001b[0;32m~/Library/Caches/pypoetry/virtualenvs/biosimulators-processes-JaN5cQMh-py3.10/lib/python3.10/site-packages/process_bigraph/composite.py\u001b[0m in \u001b[0;36m?\u001b[0;34m(self, path, process, end_time, full_step, force_complete)\u001b[0m\n\u001b[1;32m    946\u001b[0m             \u001b[0;32mif\u001b[0m \u001b[0minterval\u001b[0m \u001b[0;34m<\u001b[0m \u001b[0mfull_step\u001b[0m\u001b[0;34m:\u001b[0m\u001b[0;34m\u001b[0m\u001b[0;34m\u001b[0m\u001b[0m\n\u001b[1;32m    947\u001b[0m                 \u001b[0mfull_step\u001b[0m \u001b[0;34m=\u001b[0m \u001b[0minterval\u001b[0m\u001b[0;34m\u001b[0m\u001b[0;34m\u001b[0m\u001b[0m\n\u001b[1;32m    948\u001b[0m \u001b[0;34m\u001b[0m\u001b[0m\n\u001b[1;32m    949\u001b[0m             \u001b[0;32mif\u001b[0m \u001b[0mfuture\u001b[0m \u001b[0;34m<=\u001b[0m \u001b[0mend_time\u001b[0m\u001b[0;34m:\u001b[0m\u001b[0;34m\u001b[0m\u001b[0;34m\u001b[0m\u001b[0m\n\u001b[0;32m--> 950\u001b[0;31m                 update = self.process_update(\n\u001b[0m\u001b[1;32m    951\u001b[0m                     \u001b[0mpath\u001b[0m\u001b[0;34m,\u001b[0m\u001b[0;34m\u001b[0m\u001b[0;34m\u001b[0m\u001b[0m\n\u001b[1;32m    952\u001b[0m                     \u001b[0mprocess\u001b[0m\u001b[0;34m,\u001b[0m\u001b[0;34m\u001b[0m\u001b[0;34m\u001b[0m\u001b[0m\n\u001b[1;32m    953\u001b[0m                     \u001b[0mstate\u001b[0m\u001b[0;34m,\u001b[0m\u001b[0;34m\u001b[0m\u001b[0;34m\u001b[0m\u001b[0m\n",
      "\u001b[0;32m~/Library/Caches/pypoetry/virtualenvs/biosimulators-processes-JaN5cQMh-py3.10/lib/python3.10/site-packages/process_bigraph/composite.py\u001b[0m in \u001b[0;36m?\u001b[0;34m(self, path, process, states, interval, ports_key)\u001b[0m\n\u001b[1;32m    888\u001b[0m         \"\"\"\n\u001b[1;32m    889\u001b[0m \u001b[0;34m\u001b[0m\u001b[0m\n\u001b[1;32m    890\u001b[0m         \u001b[0mstates\u001b[0m \u001b[0;34m=\u001b[0m \u001b[0mstrip_schema_keys\u001b[0m\u001b[0;34m(\u001b[0m\u001b[0mstates\u001b[0m\u001b[0;34m)\u001b[0m\u001b[0;34m\u001b[0m\u001b[0;34m\u001b[0m\u001b[0m\n\u001b[1;32m    891\u001b[0m \u001b[0;34m\u001b[0m\u001b[0m\n\u001b[0;32m--> 892\u001b[0;31m         \u001b[0mupdate\u001b[0m \u001b[0;34m=\u001b[0m \u001b[0mprocess\u001b[0m\u001b[0;34m[\u001b[0m\u001b[0;34m'instance'\u001b[0m\u001b[0;34m]\u001b[0m\u001b[0;34m.\u001b[0m\u001b[0minvoke\u001b[0m\u001b[0;34m(\u001b[0m\u001b[0mstates\u001b[0m\u001b[0;34m,\u001b[0m \u001b[0minterval\u001b[0m\u001b[0;34m)\u001b[0m\u001b[0;34m\u001b[0m\u001b[0;34m\u001b[0m\u001b[0m\n\u001b[0m\u001b[1;32m    893\u001b[0m \u001b[0;34m\u001b[0m\u001b[0m\n\u001b[1;32m    894\u001b[0m         \u001b[0;32mdef\u001b[0m \u001b[0mdefer_project\u001b[0m\u001b[0;34m(\u001b[0m\u001b[0mupdate\u001b[0m\u001b[0;34m,\u001b[0m \u001b[0margs\u001b[0m\u001b[0;34m)\u001b[0m\u001b[0;34m:\u001b[0m\u001b[0;34m\u001b[0m\u001b[0;34m\u001b[0m\u001b[0m\n\u001b[1;32m    895\u001b[0m             \u001b[0mschema\u001b[0m\u001b[0;34m,\u001b[0m \u001b[0mstate\u001b[0m\u001b[0;34m,\u001b[0m \u001b[0mpath\u001b[0m \u001b[0;34m=\u001b[0m \u001b[0margs\u001b[0m\u001b[0;34m\u001b[0m\u001b[0;34m\u001b[0m\u001b[0m\n",
      "\u001b[0;32m~/Library/Caches/pypoetry/virtualenvs/biosimulators-processes-JaN5cQMh-py3.10/lib/python3.10/site-packages/process_bigraph/composite.py\u001b[0m in \u001b[0;36m?\u001b[0;34m(self, state, interval)\u001b[0m\n\u001b[1;32m    325\u001b[0m     \u001b[0;32mdef\u001b[0m \u001b[0minvoke\u001b[0m\u001b[0;34m(\u001b[0m\u001b[0mself\u001b[0m\u001b[0;34m,\u001b[0m \u001b[0mstate\u001b[0m\u001b[0;34m,\u001b[0m \u001b[0minterval\u001b[0m\u001b[0;34m)\u001b[0m\u001b[0;34m:\u001b[0m\u001b[0;34m\u001b[0m\u001b[0;34m\u001b[0m\u001b[0m\n\u001b[0;32m--> 326\u001b[0;31m         \u001b[0mupdate\u001b[0m \u001b[0;34m=\u001b[0m \u001b[0mself\u001b[0m\u001b[0;34m.\u001b[0m\u001b[0mupdate\u001b[0m\u001b[0;34m(\u001b[0m\u001b[0mstate\u001b[0m\u001b[0;34m,\u001b[0m \u001b[0minterval\u001b[0m\u001b[0;34m)\u001b[0m\u001b[0;34m\u001b[0m\u001b[0;34m\u001b[0m\u001b[0m\n\u001b[0m\u001b[1;32m    327\u001b[0m         \u001b[0msync\u001b[0m \u001b[0;34m=\u001b[0m \u001b[0mSyncUpdate\u001b[0m\u001b[0;34m(\u001b[0m\u001b[0mupdate\u001b[0m\u001b[0;34m)\u001b[0m\u001b[0;34m\u001b[0m\u001b[0;34m\u001b[0m\u001b[0m\n\u001b[1;32m    328\u001b[0m         \u001b[0;32mreturn\u001b[0m \u001b[0msync\u001b[0m\u001b[0;34m\u001b[0m\u001b[0;34m\u001b[0m\u001b[0m\n",
      "\u001b[0;32m~/Desktop/repos/biosimulator-processes/biosimulators_processes/processes/dfba_process.py\u001b[0m in \u001b[0;36m?\u001b[0;34m(self, state, interval)\u001b[0m\n\u001b[1;32m     69\u001b[0m         \u001b[0mreaction_mappings\u001b[0m \u001b[0;34m=\u001b[0m \u001b[0mself\u001b[0m\u001b[0;34m.\u001b[0m\u001b[0m_generate_reaction_mappings\u001b[0m\u001b[0;34m(\u001b[0m\u001b[0mspecies_output_names\u001b[0m\u001b[0;34m,\u001b[0m \u001b[0mreactions\u001b[0m\u001b[0;34m)\u001b[0m\u001b[0;34m\u001b[0m\u001b[0;34m\u001b[0m\u001b[0m\n\u001b[1;32m     70\u001b[0m         \u001b[0minitial_concentrations\u001b[0m \u001b[0;34m=\u001b[0m \u001b[0mlist\u001b[0m\u001b[0;34m(\u001b[0m\u001b[0mspec_data\u001b[0m\u001b[0;34m.\u001b[0m\u001b[0minitial_concentration\u001b[0m\u001b[0;34m.\u001b[0m\u001b[0mto_dict\u001b[0m\u001b[0;34m(\u001b[0m\u001b[0;34m)\u001b[0m\u001b[0;34m.\u001b[0m\u001b[0mvalues\u001b[0m\u001b[0;34m(\u001b[0m\u001b[0;34m)\u001b[0m\u001b[0;34m)\u001b[0m\u001b[0;34m\u001b[0m\u001b[0;34m\u001b[0m\u001b[0m\n\u001b[1;32m     71\u001b[0m \u001b[0;34m\u001b[0m\u001b[0m\n\u001b[1;32m     72\u001b[0m         \u001b[0;31m# run dfba and get solution\u001b[0m\u001b[0;34m\u001b[0m\u001b[0;34m\u001b[0m\u001b[0m\n\u001b[0;32m---> 73\u001b[0;31m         \u001b[0msolution\u001b[0m \u001b[0;34m=\u001b[0m \u001b[0mself\u001b[0m\u001b[0;34m.\u001b[0m\u001b[0m_run_dfba_simulation\u001b[0m\u001b[0;34m(\u001b[0m\u001b[0mspecies_output_names\u001b[0m\u001b[0;34m,\u001b[0m \u001b[0minitial_concentrations\u001b[0m\u001b[0;34m,\u001b[0m \u001b[0mreaction_mappings\u001b[0m\u001b[0;34m)\u001b[0m\u001b[0;34m\u001b[0m\u001b[0;34m\u001b[0m\u001b[0m\n\u001b[0m\u001b[1;32m     74\u001b[0m         \u001b[0moutput\u001b[0m \u001b[0;34m=\u001b[0m \u001b[0;34m{\u001b[0m\u001b[0;34m'solution'\u001b[0m\u001b[0;34m:\u001b[0m \u001b[0;34m{\u001b[0m\u001b[0;34m}\u001b[0m\u001b[0;34m}\u001b[0m\u001b[0;34m\u001b[0m\u001b[0;34m\u001b[0m\u001b[0m\n\u001b[1;32m     75\u001b[0m         \u001b[0;32mif\u001b[0m \u001b[0misinstance\u001b[0m\u001b[0;34m(\u001b[0m\u001b[0msolution\u001b[0m\u001b[0;34m,\u001b[0m \u001b[0mOdeResult\u001b[0m\u001b[0;34m)\u001b[0m\u001b[0;34m:\u001b[0m\u001b[0;34m\u001b[0m\u001b[0;34m\u001b[0m\u001b[0m\n\u001b[1;32m     76\u001b[0m             output['solution'] = {\n",
      "\u001b[0;32m~/Desktop/repos/biosimulator-processes/biosimulators_processes/processes/dfba_process.py\u001b[0m in \u001b[0;36m?\u001b[0;34m(self, species_names, initial_concentrations, mappings)\u001b[0m\n\u001b[1;32m    150\u001b[0m             \u001b[0minitial_concentrations\u001b[0m\u001b[0;34m:\u001b[0m \u001b[0mInitial\u001b[0m \u001b[0mconcentrations\u001b[0m \u001b[0;32mfor\u001b[0m \u001b[0mthe\u001b[0m \u001b[0mspecies\u001b[0m\u001b[0;34m\u001b[0m\u001b[0;34m\u001b[0m\u001b[0m\n\u001b[1;32m    151\u001b[0m             \u001b[0mmappings\u001b[0m\u001b[0;34m:\u001b[0m \u001b[0mList\u001b[0m \u001b[0mof\u001b[0m \u001b[0mmappings\u001b[0m \u001b[0;34m(\u001b[0m\u001b[0mspecies\u001b[0m \u001b[0mto\u001b[0m \u001b[0mreactions\u001b[0m\u001b[0;34m)\u001b[0m\u001b[0;34m\u001b[0m\u001b[0;34m\u001b[0m\u001b[0m\n\u001b[1;32m    152\u001b[0m         \"\"\"\n\u001b[1;32m    153\u001b[0m         \u001b[0mtime_points\u001b[0m \u001b[0;34m=\u001b[0m \u001b[0mnp\u001b[0m\u001b[0;34m.\u001b[0m\u001b[0mlinspace\u001b[0m\u001b[0;34m(\u001b[0m\u001b[0mself\u001b[0m\u001b[0;34m.\u001b[0m\u001b[0mstart\u001b[0m\u001b[0;34m,\u001b[0m \u001b[0mself\u001b[0m\u001b[0;34m.\u001b[0m\u001b[0mstop\u001b[0m\u001b[0;34m,\u001b[0m \u001b[0mself\u001b[0m\u001b[0;34m.\u001b[0m\u001b[0msteps\u001b[0m\u001b[0;34m)\u001b[0m  \u001b[0;31m# From 0 to 15, with 100 time points\u001b[0m\u001b[0;34m\u001b[0m\u001b[0;34m\u001b[0m\u001b[0m\n\u001b[0;32m--> 154\u001b[0;31m         sol = solve_ivp(\n\u001b[0m\u001b[1;32m    155\u001b[0m             \u001b[0mfun\u001b[0m\u001b[0;34m=\u001b[0m\u001b[0;32mlambda\u001b[0m \u001b[0mt\u001b[0m\u001b[0;34m,\u001b[0m \u001b[0my\u001b[0m\u001b[0;34m:\u001b[0m \u001b[0mself\u001b[0m\u001b[0;34m.\u001b[0m\u001b[0m_dynamic_system\u001b[0m\u001b[0;34m(\u001b[0m\u001b[0mt\u001b[0m\u001b[0;34m,\u001b[0m \u001b[0my\u001b[0m\u001b[0;34m,\u001b[0m \u001b[0mspecies_names\u001b[0m\u001b[0;34m,\u001b[0m \u001b[0mmappings\u001b[0m\u001b[0;34m)\u001b[0m\u001b[0;34m,\u001b[0m\u001b[0;34m\u001b[0m\u001b[0;34m\u001b[0m\u001b[0m\n\u001b[1;32m    156\u001b[0m             \u001b[0mt_span\u001b[0m\u001b[0;34m=\u001b[0m\u001b[0;34m(\u001b[0m\u001b[0mself\u001b[0m\u001b[0;34m.\u001b[0m\u001b[0mstart\u001b[0m\u001b[0;34m,\u001b[0m \u001b[0mself\u001b[0m\u001b[0;34m.\u001b[0m\u001b[0mstop\u001b[0m\u001b[0;34m)\u001b[0m\u001b[0;34m,\u001b[0m\u001b[0;34m\u001b[0m\u001b[0;34m\u001b[0m\u001b[0m\n\u001b[1;32m    157\u001b[0m             \u001b[0my0\u001b[0m\u001b[0;34m=\u001b[0m\u001b[0minitial_concentrations\u001b[0m\u001b[0;34m,\u001b[0m\u001b[0;34m\u001b[0m\u001b[0;34m\u001b[0m\u001b[0m\n",
      "\u001b[0;32m~/Library/Caches/pypoetry/virtualenvs/biosimulators-processes-JaN5cQMh-py3.10/lib/python3.10/site-packages/scipy/integrate/_ivp/ivp.py\u001b[0m in \u001b[0;36m?\u001b[0;34m(fun, t_span, y0, method, t_eval, dense_output, events, vectorized, args, **options)\u001b[0m\n\u001b[1;32m    651\u001b[0m         \u001b[0my_events\u001b[0m \u001b[0;34m=\u001b[0m \u001b[0;32mNone\u001b[0m\u001b[0;34m\u001b[0m\u001b[0;34m\u001b[0m\u001b[0m\n\u001b[1;32m    652\u001b[0m \u001b[0;34m\u001b[0m\u001b[0m\n\u001b[1;32m    653\u001b[0m     \u001b[0mstatus\u001b[0m \u001b[0;34m=\u001b[0m \u001b[0;32mNone\u001b[0m\u001b[0;34m\u001b[0m\u001b[0;34m\u001b[0m\u001b[0m\n\u001b[1;32m    654\u001b[0m     \u001b[0;32mwhile\u001b[0m \u001b[0mstatus\u001b[0m \u001b[0;32mis\u001b[0m \u001b[0;32mNone\u001b[0m\u001b[0;34m:\u001b[0m\u001b[0;34m\u001b[0m\u001b[0;34m\u001b[0m\u001b[0m\n\u001b[0;32m--> 655\u001b[0;31m         \u001b[0mmessage\u001b[0m \u001b[0;34m=\u001b[0m \u001b[0msolver\u001b[0m\u001b[0;34m.\u001b[0m\u001b[0mstep\u001b[0m\u001b[0;34m(\u001b[0m\u001b[0;34m)\u001b[0m\u001b[0;34m\u001b[0m\u001b[0;34m\u001b[0m\u001b[0m\n\u001b[0m\u001b[1;32m    656\u001b[0m \u001b[0;34m\u001b[0m\u001b[0m\n\u001b[1;32m    657\u001b[0m         \u001b[0;32mif\u001b[0m \u001b[0msolver\u001b[0m\u001b[0;34m.\u001b[0m\u001b[0mstatus\u001b[0m \u001b[0;34m==\u001b[0m \u001b[0;34m'finished'\u001b[0m\u001b[0;34m:\u001b[0m\u001b[0;34m\u001b[0m\u001b[0;34m\u001b[0m\u001b[0m\n\u001b[1;32m    658\u001b[0m             \u001b[0mstatus\u001b[0m \u001b[0;34m=\u001b[0m \u001b[0;36m0\u001b[0m\u001b[0;34m\u001b[0m\u001b[0;34m\u001b[0m\u001b[0m\n",
      "\u001b[0;32m~/Library/Caches/pypoetry/virtualenvs/biosimulators-processes-JaN5cQMh-py3.10/lib/python3.10/site-packages/scipy/integrate/_ivp/base.py\u001b[0m in \u001b[0;36m?\u001b[0;34m(self)\u001b[0m\n\u001b[1;32m    193\u001b[0m             \u001b[0mmessage\u001b[0m \u001b[0;34m=\u001b[0m \u001b[0;32mNone\u001b[0m\u001b[0;34m\u001b[0m\u001b[0;34m\u001b[0m\u001b[0m\n\u001b[1;32m    194\u001b[0m             \u001b[0mself\u001b[0m\u001b[0;34m.\u001b[0m\u001b[0mstatus\u001b[0m \u001b[0;34m=\u001b[0m \u001b[0;34m'finished'\u001b[0m\u001b[0;34m\u001b[0m\u001b[0;34m\u001b[0m\u001b[0m\n\u001b[1;32m    195\u001b[0m         \u001b[0;32melse\u001b[0m\u001b[0;34m:\u001b[0m\u001b[0;34m\u001b[0m\u001b[0;34m\u001b[0m\u001b[0m\n\u001b[1;32m    196\u001b[0m             \u001b[0mt\u001b[0m \u001b[0;34m=\u001b[0m \u001b[0mself\u001b[0m\u001b[0;34m.\u001b[0m\u001b[0mt\u001b[0m\u001b[0;34m\u001b[0m\u001b[0;34m\u001b[0m\u001b[0m\n\u001b[0;32m--> 197\u001b[0;31m             \u001b[0msuccess\u001b[0m\u001b[0;34m,\u001b[0m \u001b[0mmessage\u001b[0m \u001b[0;34m=\u001b[0m \u001b[0mself\u001b[0m\u001b[0;34m.\u001b[0m\u001b[0m_step_impl\u001b[0m\u001b[0;34m(\u001b[0m\u001b[0;34m)\u001b[0m\u001b[0;34m\u001b[0m\u001b[0;34m\u001b[0m\u001b[0m\n\u001b[0m\u001b[1;32m    198\u001b[0m \u001b[0;34m\u001b[0m\u001b[0m\n\u001b[1;32m    199\u001b[0m             \u001b[0;32mif\u001b[0m \u001b[0;32mnot\u001b[0m \u001b[0msuccess\u001b[0m\u001b[0;34m:\u001b[0m\u001b[0;34m\u001b[0m\u001b[0;34m\u001b[0m\u001b[0m\n\u001b[1;32m    200\u001b[0m                 \u001b[0mself\u001b[0m\u001b[0;34m.\u001b[0m\u001b[0mstatus\u001b[0m \u001b[0;34m=\u001b[0m \u001b[0;34m'failed'\u001b[0m\u001b[0;34m\u001b[0m\u001b[0;34m\u001b[0m\u001b[0m\n",
      "\u001b[0;32m~/Library/Caches/pypoetry/virtualenvs/biosimulators-processes-JaN5cQMh-py3.10/lib/python3.10/site-packages/scipy/integrate/_ivp/bdf.py\u001b[0m in \u001b[0;36m?\u001b[0;34m(self)\u001b[0m\n\u001b[1;32m    370\u001b[0m \u001b[0;34m\u001b[0m\u001b[0m\n\u001b[1;32m    371\u001b[0m                 \u001b[0;32mif\u001b[0m \u001b[0;32mnot\u001b[0m \u001b[0mconverged\u001b[0m\u001b[0;34m:\u001b[0m\u001b[0;34m\u001b[0m\u001b[0;34m\u001b[0m\u001b[0m\n\u001b[1;32m    372\u001b[0m                     \u001b[0;32mif\u001b[0m \u001b[0mcurrent_jac\u001b[0m\u001b[0;34m:\u001b[0m\u001b[0;34m\u001b[0m\u001b[0;34m\u001b[0m\u001b[0m\n\u001b[1;32m    373\u001b[0m                         \u001b[0;32mbreak\u001b[0m\u001b[0;34m\u001b[0m\u001b[0;34m\u001b[0m\u001b[0m\n\u001b[0;32m--> 374\u001b[0;31m                     \u001b[0mJ\u001b[0m \u001b[0;34m=\u001b[0m \u001b[0mself\u001b[0m\u001b[0;34m.\u001b[0m\u001b[0mjac\u001b[0m\u001b[0;34m(\u001b[0m\u001b[0mt_new\u001b[0m\u001b[0;34m,\u001b[0m \u001b[0my_predict\u001b[0m\u001b[0;34m)\u001b[0m\u001b[0;34m\u001b[0m\u001b[0;34m\u001b[0m\u001b[0m\n\u001b[0m\u001b[1;32m    375\u001b[0m                     \u001b[0mLU\u001b[0m \u001b[0;34m=\u001b[0m \u001b[0;32mNone\u001b[0m\u001b[0;34m\u001b[0m\u001b[0;34m\u001b[0m\u001b[0m\n\u001b[1;32m    376\u001b[0m                     \u001b[0mcurrent_jac\u001b[0m \u001b[0;34m=\u001b[0m \u001b[0;32mTrue\u001b[0m\u001b[0;34m\u001b[0m\u001b[0;34m\u001b[0m\u001b[0m\n\u001b[1;32m    377\u001b[0m \u001b[0;34m\u001b[0m\u001b[0m\n",
      "\u001b[0;32m~/Library/Caches/pypoetry/virtualenvs/biosimulators-processes-JaN5cQMh-py3.10/lib/python3.10/site-packages/scipy/integrate/_ivp/bdf.py\u001b[0m in \u001b[0;36m?\u001b[0;34m(t, y)\u001b[0m\n\u001b[1;32m    268\u001b[0m             \u001b[0;32mdef\u001b[0m \u001b[0mjac_wrapped\u001b[0m\u001b[0;34m(\u001b[0m\u001b[0mt\u001b[0m\u001b[0;34m,\u001b[0m \u001b[0my\u001b[0m\u001b[0;34m)\u001b[0m\u001b[0;34m:\u001b[0m\u001b[0;34m\u001b[0m\u001b[0;34m\u001b[0m\u001b[0m\n\u001b[1;32m    269\u001b[0m                 \u001b[0mself\u001b[0m\u001b[0;34m.\u001b[0m\u001b[0mnjev\u001b[0m \u001b[0;34m+=\u001b[0m \u001b[0;36m1\u001b[0m\u001b[0;34m\u001b[0m\u001b[0;34m\u001b[0m\u001b[0m\n\u001b[1;32m    270\u001b[0m                 \u001b[0mf\u001b[0m \u001b[0;34m=\u001b[0m \u001b[0mself\u001b[0m\u001b[0;34m.\u001b[0m\u001b[0mfun_single\u001b[0m\u001b[0;34m(\u001b[0m\u001b[0mt\u001b[0m\u001b[0;34m,\u001b[0m \u001b[0my\u001b[0m\u001b[0;34m)\u001b[0m\u001b[0;34m\u001b[0m\u001b[0;34m\u001b[0m\u001b[0m\n\u001b[0;32m--> 271\u001b[0;31m                 J, self.jac_factor = num_jac(self.fun_vectorized, t, y, f,\n\u001b[0m\u001b[1;32m    272\u001b[0m                                              \u001b[0mself\u001b[0m\u001b[0;34m.\u001b[0m\u001b[0matol\u001b[0m\u001b[0;34m,\u001b[0m \u001b[0mself\u001b[0m\u001b[0;34m.\u001b[0m\u001b[0mjac_factor\u001b[0m\u001b[0;34m,\u001b[0m\u001b[0;34m\u001b[0m\u001b[0;34m\u001b[0m\u001b[0m\n\u001b[1;32m    273\u001b[0m                                              sparsity)\n\u001b[1;32m    274\u001b[0m                 \u001b[0;32mreturn\u001b[0m \u001b[0mJ\u001b[0m\u001b[0;34m\u001b[0m\u001b[0;34m\u001b[0m\u001b[0m\n",
      "\u001b[0;32m~/Library/Caches/pypoetry/virtualenvs/biosimulators-processes-JaN5cQMh-py3.10/lib/python3.10/site-packages/scipy/integrate/_ivp/common.py\u001b[0m in \u001b[0;36m?\u001b[0;34m(fun, t, y, f, threshold, factor, sparsity)\u001b[0m\n\u001b[1;32m    332\u001b[0m             \u001b[0mfactor\u001b[0m\u001b[0;34m[\u001b[0m\u001b[0mi\u001b[0m\u001b[0;34m]\u001b[0m \u001b[0;34m*=\u001b[0m \u001b[0;36m10\u001b[0m\u001b[0;34m\u001b[0m\u001b[0;34m\u001b[0m\u001b[0m\n\u001b[1;32m    333\u001b[0m             \u001b[0mh\u001b[0m\u001b[0;34m[\u001b[0m\u001b[0mi\u001b[0m\u001b[0;34m]\u001b[0m \u001b[0;34m=\u001b[0m \u001b[0;34m(\u001b[0m\u001b[0my\u001b[0m\u001b[0;34m[\u001b[0m\u001b[0mi\u001b[0m\u001b[0;34m]\u001b[0m \u001b[0;34m+\u001b[0m \u001b[0mfactor\u001b[0m\u001b[0;34m[\u001b[0m\u001b[0mi\u001b[0m\u001b[0;34m]\u001b[0m \u001b[0;34m*\u001b[0m \u001b[0my_scale\u001b[0m\u001b[0;34m[\u001b[0m\u001b[0mi\u001b[0m\u001b[0;34m]\u001b[0m\u001b[0;34m)\u001b[0m \u001b[0;34m-\u001b[0m \u001b[0my\u001b[0m\u001b[0;34m[\u001b[0m\u001b[0mi\u001b[0m\u001b[0;34m]\u001b[0m\u001b[0;34m\u001b[0m\u001b[0;34m\u001b[0m\u001b[0m\n\u001b[1;32m    334\u001b[0m \u001b[0;34m\u001b[0m\u001b[0m\n\u001b[1;32m    335\u001b[0m     \u001b[0;32mif\u001b[0m \u001b[0msparsity\u001b[0m \u001b[0;32mis\u001b[0m \u001b[0;32mNone\u001b[0m\u001b[0;34m:\u001b[0m\u001b[0;34m\u001b[0m\u001b[0;34m\u001b[0m\u001b[0m\n\u001b[0;32m--> 336\u001b[0;31m         \u001b[0;32mreturn\u001b[0m \u001b[0m_dense_num_jac\u001b[0m\u001b[0;34m(\u001b[0m\u001b[0mfun\u001b[0m\u001b[0;34m,\u001b[0m \u001b[0mt\u001b[0m\u001b[0;34m,\u001b[0m \u001b[0my\u001b[0m\u001b[0;34m,\u001b[0m \u001b[0mf\u001b[0m\u001b[0;34m,\u001b[0m \u001b[0mh\u001b[0m\u001b[0;34m,\u001b[0m \u001b[0mfactor\u001b[0m\u001b[0;34m,\u001b[0m \u001b[0my_scale\u001b[0m\u001b[0;34m)\u001b[0m\u001b[0;34m\u001b[0m\u001b[0;34m\u001b[0m\u001b[0m\n\u001b[0m\u001b[1;32m    337\u001b[0m     \u001b[0;32melse\u001b[0m\u001b[0;34m:\u001b[0m\u001b[0;34m\u001b[0m\u001b[0;34m\u001b[0m\u001b[0m\n\u001b[1;32m    338\u001b[0m         \u001b[0mstructure\u001b[0m\u001b[0;34m,\u001b[0m \u001b[0mgroups\u001b[0m \u001b[0;34m=\u001b[0m \u001b[0msparsity\u001b[0m\u001b[0;34m\u001b[0m\u001b[0;34m\u001b[0m\u001b[0m\n\u001b[1;32m    339\u001b[0m         return _sparse_num_jac(fun, t, y, f, h, factor, y_scale,\n",
      "\u001b[0;32m~/Library/Caches/pypoetry/virtualenvs/biosimulators-processes-JaN5cQMh-py3.10/lib/python3.10/site-packages/scipy/integrate/_ivp/common.py\u001b[0m in \u001b[0;36m?\u001b[0;34m(fun, t, y, f, h, factor, y_scale)\u001b[0m\n\u001b[1;32m    343\u001b[0m \u001b[0;32mdef\u001b[0m \u001b[0m_dense_num_jac\u001b[0m\u001b[0;34m(\u001b[0m\u001b[0mfun\u001b[0m\u001b[0;34m,\u001b[0m \u001b[0mt\u001b[0m\u001b[0;34m,\u001b[0m \u001b[0my\u001b[0m\u001b[0;34m,\u001b[0m \u001b[0mf\u001b[0m\u001b[0;34m,\u001b[0m \u001b[0mh\u001b[0m\u001b[0;34m,\u001b[0m \u001b[0mfactor\u001b[0m\u001b[0;34m,\u001b[0m \u001b[0my_scale\u001b[0m\u001b[0;34m)\u001b[0m\u001b[0;34m:\u001b[0m\u001b[0;34m\u001b[0m\u001b[0;34m\u001b[0m\u001b[0m\n\u001b[1;32m    344\u001b[0m     \u001b[0mn\u001b[0m \u001b[0;34m=\u001b[0m \u001b[0my\u001b[0m\u001b[0;34m.\u001b[0m\u001b[0mshape\u001b[0m\u001b[0;34m[\u001b[0m\u001b[0;36m0\u001b[0m\u001b[0;34m]\u001b[0m\u001b[0;34m\u001b[0m\u001b[0;34m\u001b[0m\u001b[0m\n\u001b[1;32m    345\u001b[0m     \u001b[0mh_vecs\u001b[0m \u001b[0;34m=\u001b[0m \u001b[0mnp\u001b[0m\u001b[0;34m.\u001b[0m\u001b[0mdiag\u001b[0m\u001b[0;34m(\u001b[0m\u001b[0mh\u001b[0m\u001b[0;34m)\u001b[0m\u001b[0;34m\u001b[0m\u001b[0;34m\u001b[0m\u001b[0m\n\u001b[0;32m--> 346\u001b[0;31m     \u001b[0mf_new\u001b[0m \u001b[0;34m=\u001b[0m \u001b[0mfun\u001b[0m\u001b[0;34m(\u001b[0m\u001b[0mt\u001b[0m\u001b[0;34m,\u001b[0m \u001b[0my\u001b[0m\u001b[0;34m[\u001b[0m\u001b[0;34m:\u001b[0m\u001b[0;34m,\u001b[0m \u001b[0;32mNone\u001b[0m\u001b[0;34m]\u001b[0m \u001b[0;34m+\u001b[0m \u001b[0mh_vecs\u001b[0m\u001b[0;34m)\u001b[0m\u001b[0;34m\u001b[0m\u001b[0;34m\u001b[0m\u001b[0m\n\u001b[0m\u001b[1;32m    347\u001b[0m     \u001b[0mdiff\u001b[0m \u001b[0;34m=\u001b[0m \u001b[0mf_new\u001b[0m \u001b[0;34m-\u001b[0m \u001b[0mf\u001b[0m\u001b[0;34m[\u001b[0m\u001b[0;34m:\u001b[0m\u001b[0;34m,\u001b[0m \u001b[0;32mNone\u001b[0m\u001b[0;34m]\u001b[0m\u001b[0;34m\u001b[0m\u001b[0;34m\u001b[0m\u001b[0m\n\u001b[1;32m    348\u001b[0m     \u001b[0mmax_ind\u001b[0m \u001b[0;34m=\u001b[0m \u001b[0mnp\u001b[0m\u001b[0;34m.\u001b[0m\u001b[0margmax\u001b[0m\u001b[0;34m(\u001b[0m\u001b[0mnp\u001b[0m\u001b[0;34m.\u001b[0m\u001b[0mabs\u001b[0m\u001b[0;34m(\u001b[0m\u001b[0mdiff\u001b[0m\u001b[0;34m)\u001b[0m\u001b[0;34m,\u001b[0m \u001b[0maxis\u001b[0m\u001b[0;34m=\u001b[0m\u001b[0;36m0\u001b[0m\u001b[0;34m)\u001b[0m\u001b[0;34m\u001b[0m\u001b[0;34m\u001b[0m\u001b[0m\n\u001b[1;32m    349\u001b[0m     \u001b[0mr\u001b[0m \u001b[0;34m=\u001b[0m \u001b[0mnp\u001b[0m\u001b[0;34m.\u001b[0m\u001b[0marange\u001b[0m\u001b[0;34m(\u001b[0m\u001b[0mn\u001b[0m\u001b[0;34m)\u001b[0m\u001b[0;34m\u001b[0m\u001b[0;34m\u001b[0m\u001b[0m\n",
      "\u001b[0;32m~/Library/Caches/pypoetry/virtualenvs/biosimulators-processes-JaN5cQMh-py3.10/lib/python3.10/site-packages/scipy/integrate/_ivp/base.py\u001b[0m in \u001b[0;36m?\u001b[0;34m(t, y)\u001b[0m\n\u001b[1;32m    146\u001b[0m             \u001b[0;32mdef\u001b[0m \u001b[0mfun_vectorized\u001b[0m\u001b[0;34m(\u001b[0m\u001b[0mt\u001b[0m\u001b[0;34m,\u001b[0m \u001b[0my\u001b[0m\u001b[0;34m)\u001b[0m\u001b[0;34m:\u001b[0m\u001b[0;34m\u001b[0m\u001b[0;34m\u001b[0m\u001b[0m\n\u001b[1;32m    147\u001b[0m                 \u001b[0mf\u001b[0m \u001b[0;34m=\u001b[0m \u001b[0mnp\u001b[0m\u001b[0;34m.\u001b[0m\u001b[0mempty_like\u001b[0m\u001b[0;34m(\u001b[0m\u001b[0my\u001b[0m\u001b[0;34m)\u001b[0m\u001b[0;34m\u001b[0m\u001b[0;34m\u001b[0m\u001b[0m\n\u001b[1;32m    148\u001b[0m                 \u001b[0;32mfor\u001b[0m \u001b[0mi\u001b[0m\u001b[0;34m,\u001b[0m \u001b[0myi\u001b[0m \u001b[0;32min\u001b[0m \u001b[0menumerate\u001b[0m\u001b[0;34m(\u001b[0m\u001b[0my\u001b[0m\u001b[0;34m.\u001b[0m\u001b[0mT\u001b[0m\u001b[0;34m)\u001b[0m\u001b[0;34m:\u001b[0m\u001b[0;34m\u001b[0m\u001b[0;34m\u001b[0m\u001b[0m\n\u001b[0;32m--> 149\u001b[0;31m                     \u001b[0mf\u001b[0m\u001b[0;34m[\u001b[0m\u001b[0;34m:\u001b[0m\u001b[0;34m,\u001b[0m \u001b[0mi\u001b[0m\u001b[0;34m]\u001b[0m \u001b[0;34m=\u001b[0m \u001b[0mself\u001b[0m\u001b[0;34m.\u001b[0m\u001b[0m_fun\u001b[0m\u001b[0;34m(\u001b[0m\u001b[0mt\u001b[0m\u001b[0;34m,\u001b[0m \u001b[0myi\u001b[0m\u001b[0;34m)\u001b[0m\u001b[0;34m\u001b[0m\u001b[0;34m\u001b[0m\u001b[0m\n\u001b[0m\u001b[1;32m    150\u001b[0m                 \u001b[0;32mreturn\u001b[0m \u001b[0mf\u001b[0m\u001b[0;34m\u001b[0m\u001b[0;34m\u001b[0m\u001b[0m\n",
      "\u001b[0;32m~/Library/Caches/pypoetry/virtualenvs/biosimulators-processes-JaN5cQMh-py3.10/lib/python3.10/site-packages/scipy/integrate/_ivp/base.py\u001b[0m in \u001b[0;36m?\u001b[0;34m(t, y)\u001b[0m\n\u001b[1;32m     22\u001b[0m     \u001b[0;32mdef\u001b[0m \u001b[0mfun_wrapped\u001b[0m\u001b[0;34m(\u001b[0m\u001b[0mt\u001b[0m\u001b[0;34m,\u001b[0m \u001b[0my\u001b[0m\u001b[0;34m)\u001b[0m\u001b[0;34m:\u001b[0m\u001b[0;34m\u001b[0m\u001b[0;34m\u001b[0m\u001b[0m\n\u001b[0;32m---> 23\u001b[0;31m         \u001b[0;32mreturn\u001b[0m \u001b[0mnp\u001b[0m\u001b[0;34m.\u001b[0m\u001b[0masarray\u001b[0m\u001b[0;34m(\u001b[0m\u001b[0mfun\u001b[0m\u001b[0;34m(\u001b[0m\u001b[0mt\u001b[0m\u001b[0;34m,\u001b[0m \u001b[0my\u001b[0m\u001b[0;34m)\u001b[0m\u001b[0;34m,\u001b[0m \u001b[0mdtype\u001b[0m\u001b[0;34m=\u001b[0m\u001b[0mdtype\u001b[0m\u001b[0;34m)\u001b[0m\u001b[0;34m\u001b[0m\u001b[0;34m\u001b[0m\u001b[0m\n\u001b[0m",
      "\u001b[0;32m~/Desktop/repos/biosimulator-processes/biosimulators_processes/processes/dfba_process.py\u001b[0m in \u001b[0;36m?\u001b[0;34m(t, y)\u001b[0m\n\u001b[0;32m--> 155\u001b[0;31m             \u001b[0mfun\u001b[0m\u001b[0;34m=\u001b[0m\u001b[0;32mlambda\u001b[0m \u001b[0mt\u001b[0m\u001b[0;34m,\u001b[0m \u001b[0my\u001b[0m\u001b[0;34m:\u001b[0m \u001b[0mself\u001b[0m\u001b[0;34m.\u001b[0m\u001b[0m_dynamic_system\u001b[0m\u001b[0;34m(\u001b[0m\u001b[0mt\u001b[0m\u001b[0;34m,\u001b[0m \u001b[0my\u001b[0m\u001b[0;34m,\u001b[0m \u001b[0mspecies_names\u001b[0m\u001b[0;34m,\u001b[0m \u001b[0mmappings\u001b[0m\u001b[0;34m)\u001b[0m\u001b[0;34m,\u001b[0m\u001b[0;34m\u001b[0m\u001b[0;34m\u001b[0m\u001b[0m\n\u001b[0m",
      "\u001b[0;32m~/Desktop/repos/biosimulator-processes/biosimulators_processes/processes/dfba_process.py\u001b[0m in \u001b[0;36m?\u001b[0;34m(self, t, y, species_names, mappings)\u001b[0m\n\u001b[1;32m    124\u001b[0m         \u001b[0;31m# Dynamically update reaction bounds based on the current concentrations\u001b[0m\u001b[0;34m\u001b[0m\u001b[0;34m\u001b[0m\u001b[0m\n\u001b[1;32m    125\u001b[0m         \u001b[0mself\u001b[0m\u001b[0;34m.\u001b[0m\u001b[0m_set_dynamic_bounds\u001b[0m\u001b[0;34m(\u001b[0m\u001b[0mself\u001b[0m\u001b[0;34m.\u001b[0m\u001b[0mutc_model\u001b[0m\u001b[0;34m,\u001b[0m \u001b[0mconcentration_dict\u001b[0m\u001b[0;34m,\u001b[0m \u001b[0mmappings\u001b[0m\u001b[0;34m)\u001b[0m\u001b[0;34m\u001b[0m\u001b[0;34m\u001b[0m\u001b[0m\n\u001b[1;32m    126\u001b[0m \u001b[0;34m\u001b[0m\u001b[0m\n\u001b[1;32m    127\u001b[0m         \u001b[0;31m# Run the time course for a single time step (you can adjust the logic here)\u001b[0m\u001b[0;34m\u001b[0m\u001b[0;34m\u001b[0m\u001b[0m\n\u001b[0;32m--> 128\u001b[0;31m         results = run_time_course(\n\u001b[0m\u001b[1;32m    129\u001b[0m             \u001b[0mmodel\u001b[0m\u001b[0;34m=\u001b[0m\u001b[0mself\u001b[0m\u001b[0;34m.\u001b[0m\u001b[0mutc_model\u001b[0m\u001b[0;34m,\u001b[0m\u001b[0;34m\u001b[0m\u001b[0;34m\u001b[0m\u001b[0m\n\u001b[1;32m    130\u001b[0m             \u001b[0mstart\u001b[0m\u001b[0;34m=\u001b[0m\u001b[0mt\u001b[0m\u001b[0;34m,\u001b[0m\u001b[0;34m\u001b[0m\u001b[0;34m\u001b[0m\u001b[0m\n\u001b[1;32m    131\u001b[0m             \u001b[0mend\u001b[0m\u001b[0;34m=\u001b[0m\u001b[0mt\u001b[0m \u001b[0;34m+\u001b[0m \u001b[0;36m0.1\u001b[0m\u001b[0;34m,\u001b[0m  \u001b[0;31m# Small time step\u001b[0m\u001b[0;34m\u001b[0m\u001b[0;34m\u001b[0m\u001b[0m\n",
      "\u001b[0;32m~/Library/Caches/pypoetry/virtualenvs/biosimulators-processes-JaN5cQMh-py3.10/lib/python3.10/site-packages/basico/task_timecourse.py\u001b[0m in \u001b[0;36m?\u001b[0;34m(*args, **kwargs)\u001b[0m\n\u001b[1;32m    333\u001b[0m         logger.error(\"Error while initializing the simulation: \" +\n\u001b[1;32m    334\u001b[0m                      model_info.get_copasi_messages(num_messages_before, 'No output'))\n\u001b[1;32m    335\u001b[0m     \u001b[0;32melse\u001b[0m\u001b[0;34m:\u001b[0m\u001b[0;34m\u001b[0m\u001b[0;34m\u001b[0m\u001b[0m\n\u001b[1;32m    336\u001b[0m         \u001b[0mtask\u001b[0m\u001b[0;34m.\u001b[0m\u001b[0msetCallBack\u001b[0m\u001b[0;34m(\u001b[0m\u001b[0mget_default_handler\u001b[0m\u001b[0;34m(\u001b[0m\u001b[0;34m)\u001b[0m\u001b[0;34m)\u001b[0m\u001b[0;34m\u001b[0m\u001b[0;34m\u001b[0m\u001b[0m\n\u001b[0;32m--> 337\u001b[0;31m         \u001b[0mresult\u001b[0m \u001b[0;34m=\u001b[0m \u001b[0mtask\u001b[0m\u001b[0;34m.\u001b[0m\u001b[0mprocessRaw\u001b[0m\u001b[0;34m(\u001b[0m\u001b[0muse_initial_values\u001b[0m\u001b[0;34m)\u001b[0m\u001b[0;34m\u001b[0m\u001b[0;34m\u001b[0m\u001b[0m\n\u001b[0m\u001b[1;32m    338\u001b[0m         \u001b[0;32mif\u001b[0m \u001b[0;32mnot\u001b[0m \u001b[0mresult\u001b[0m\u001b[0;34m:\u001b[0m\u001b[0;34m\u001b[0m\u001b[0;34m\u001b[0m\u001b[0m\n\u001b[1;32m    339\u001b[0m             logger.error(\"Error while running the simulation: \" +\n\u001b[1;32m    340\u001b[0m                          model_info.get_copasi_messages(num_messages_before))\n",
      "\u001b[0;32m~/Library/Caches/pypoetry/virtualenvs/biosimulators-processes-JaN5cQMh-py3.10/lib/python3.10/site-packages/COPASI/__init__.py\u001b[0m in \u001b[0;36m?\u001b[0;34m(self, useInitialValues)\u001b[0m\n\u001b[1;32m  18034\u001b[0m     \u001b[0;32mdef\u001b[0m \u001b[0mprocessRaw\u001b[0m\u001b[0;34m(\u001b[0m\u001b[0mself\u001b[0m\u001b[0;34m,\u001b[0m \u001b[0museInitialValues\u001b[0m\u001b[0;34m)\u001b[0m\u001b[0;34m:\u001b[0m\u001b[0;34m\u001b[0m\u001b[0;34m\u001b[0m\u001b[0m\n\u001b[1;32m  18035\u001b[0m         \u001b[0;34mr\"\"\"processRaw(CCopasiTask self, bool useInitialValues) -> bool\"\"\"\u001b[0m\u001b[0;34m\u001b[0m\u001b[0;34m\u001b[0m\u001b[0m\n\u001b[0;32m> 18036\u001b[0;31m         \u001b[0;32mreturn\u001b[0m \u001b[0m_COPASI\u001b[0m\u001b[0;34m.\u001b[0m\u001b[0mCCopasiTask_processRaw\u001b[0m\u001b[0;34m(\u001b[0m\u001b[0mself\u001b[0m\u001b[0;34m,\u001b[0m \u001b[0museInitialValues\u001b[0m\u001b[0;34m)\u001b[0m\u001b[0;34m\u001b[0m\u001b[0;34m\u001b[0m\u001b[0m\n\u001b[0m",
      "\u001b[0;31mKeyboardInterrupt\u001b[0m: "
     ]
    }
   ],
   "source": [
    "comp.run(3)"
   ]
  },
  {
   "cell_type": "code",
   "execution_count": 1,
   "id": "0b746894-7f09-451d-90cf-240c88df0659",
   "metadata": {},
   "outputs": [
    {
     "name": "stderr",
     "output_type": "stream",
     "text": [
      "Model does not contain SBML fbc package information.\n",
      "SBML package 'layout' not supported by cobrapy, information is not parsed\n",
      "SBML package 'render' not supported by cobrapy, information is not parsed\n",
      "Missing lower flux bound set to '-1000.0' for reaction: '<Reaction Reaction1 \"degradation of LacI transcripts\">'\n",
      "Missing upper flux bound set to '1000.0' for reaction: '<Reaction Reaction1 \"degradation of LacI transcripts\">'\n",
      "Missing lower flux bound set to '-1000.0' for reaction: '<Reaction Reaction2 \"degradation of TetR transcripts\">'\n",
      "Missing upper flux bound set to '1000.0' for reaction: '<Reaction Reaction2 \"degradation of TetR transcripts\">'\n",
      "Missing lower flux bound set to '-1000.0' for reaction: '<Reaction Reaction3 \"degradation of CI transcripts\">'\n",
      "Missing upper flux bound set to '1000.0' for reaction: '<Reaction Reaction3 \"degradation of CI transcripts\">'\n",
      "Missing lower flux bound set to '-1000.0' for reaction: '<Reaction Reaction4 \"translation of LacI\">'\n",
      "Missing upper flux bound set to '1000.0' for reaction: '<Reaction Reaction4 \"translation of LacI\">'\n",
      "Missing lower flux bound set to '-1000.0' for reaction: '<Reaction Reaction5 \"translation of TetR\">'\n",
      "Missing upper flux bound set to '1000.0' for reaction: '<Reaction Reaction5 \"translation of TetR\">'\n",
      "Missing lower flux bound set to '-1000.0' for reaction: '<Reaction Reaction6 \"translation of CI\">'\n",
      "Missing upper flux bound set to '1000.0' for reaction: '<Reaction Reaction6 \"translation of CI\">'\n",
      "Missing lower flux bound set to '-1000.0' for reaction: '<Reaction Reaction7 \"degradation of LacI\">'\n",
      "Missing upper flux bound set to '1000.0' for reaction: '<Reaction Reaction7 \"degradation of LacI\">'\n",
      "Missing lower flux bound set to '-1000.0' for reaction: '<Reaction Reaction8 \"degradation of TetR\">'\n",
      "Missing upper flux bound set to '1000.0' for reaction: '<Reaction Reaction8 \"degradation of TetR\">'\n",
      "Missing lower flux bound set to '-1000.0' for reaction: '<Reaction Reaction9 \"degradation of CI\">'\n",
      "Missing upper flux bound set to '1000.0' for reaction: '<Reaction Reaction9 \"degradation of CI\">'\n",
      "Missing lower flux bound set to '-1000.0' for reaction: '<Reaction Reaction10 \"transcription of LacI\">'\n",
      "Missing upper flux bound set to '1000.0' for reaction: '<Reaction Reaction10 \"transcription of LacI\">'\n",
      "Missing lower flux bound set to '-1000.0' for reaction: '<Reaction Reaction11 \"transcription of TetR\">'\n",
      "Missing upper flux bound set to '1000.0' for reaction: '<Reaction Reaction11 \"transcription of TetR\">'\n",
      "Missing lower flux bound set to '-1000.0' for reaction: '<Reaction Reaction12 \"transcription of CI\">'\n",
      "Missing upper flux bound set to '1000.0' for reaction: '<Reaction Reaction12 \"transcription of CI\">'\n",
      "No objective coefficients in model. Unclear what should be optimized\n",
      "Missing flux bounds on reactions set to default bounds.As best practise and to avoid confusion flux bounds should be set explicitly on all reactions.\n"
     ]
    },
    {
     "name": "stdout",
     "output_type": "stream",
     "text": [
      "Cannot register SimulariumSmoldynStep. Error:\n",
      "**\n",
      "No module named 'simulariumio'\n",
      "**\n",
      "Cannot register MongoDatabaseEmitter. Error:\n",
      "**\n",
      "No module named 'simulariumio'\n",
      "**\n"
     ]
    },
    {
     "name": "stderr",
     "output_type": "stream",
     "text": [
      "t = 10.000: : 242it [00:02, 109.34it/s]\n"
     ]
    }
   ],
   "source": [
    "import os \n",
    "from pathlib import Path\n",
    "\n",
    "from scipy.integrate import solve_ivp\n",
    "import matplotlib.pyplot as plt\n",
    "import cobra\n",
    "from cobra.io import load_model as load_cobra, read_sbml_model\n",
    "from basico import * \n",
    "import numpy as np\n",
    "from tqdm import tqdm\n",
    "\n",
    "from biosimulators_processes.helpers import generate_reaction_mappings\n",
    "\n",
    "\n",
    "# set up models\n",
    "model_file = '/Users/alexanderpatrie/Desktop/repos/biosimulator-processes/test_suite/examples/sbml-core/Elowitz-Nature-2000-Repressilator/BIOMD0000000012_url.xml'\n",
    "\n",
    "# set up cobra model\n",
    "data_dir = Path(os.path.dirname(model_file))\n",
    "path = data_dir / model_file.split('/')[-1]\n",
    "cobrapy = read_sbml_model(str(path.resolve()))  # load_cobra('textbook')\n",
    "# cobrapy = load_cobra('textbook')\n",
    "\n",
    "# set up copasi model\n",
    "copasi = load_model(model_file)\n",
    "\n",
    "# global store TODO: let process bigraph handle this\n",
    "concentrations = {}\n",
    "\n",
    "\n",
    "def add_dynamic_bounds(fba_model, utc_model, y, mappings):\n",
    "    \"\"\"\n",
    "    # 1. get reaction mappings \n",
    "    # 2. y = get_species(model=copasi).initial_concentration.values\n",
    "    # 3. for each species in y, calculate max import (TODO: make this specific)\n",
    "    # 4. for each species mapping, use the dict val (reaction name) to say fba_model.reactions.get_by_id(reaction_name) = max_import\n",
    "    \"\"\"\n",
    "    # Zip species names and their corresponding concentrations for iteration\n",
    "    species_concentrations = y  # dict(zip(species_names, y))\n",
    "    for mapping in mappings:\n",
    "        for species, reaction_name in mapping.items():  # Each mapping is a dictionary like {'LacI mRNA': 'degradation of LacI transcripts'}\n",
    "            if species in species_concentrations:\n",
    "                concentration = species_concentrations[species]\n",
    "                rxn_id = reaction_name.replace(\" \", \"_\")\n",
    "                for reaction in fba_model.reactions:\n",
    "                    # TODO: make this more specific\n",
    "                    if \"degradation\" in reaction_name:\n",
    "                        max_import = -10 * concentration / (5 + concentration)\n",
    "                        fba_model.reactions.get_by_id(reaction.id).lower_bound = max_import\n",
    "                    elif \"transcription\" in reaction_name:\n",
    "                        max_import = 5 * concentration / (3 + concentration)\n",
    "                        fba_model.reactions.get_by_id(reaction.id).lower_bound = max_import\n",
    "                    elif \"translation\" in reaction_name:\n",
    "                        max_import = 8 * concentration / (4 + concentration)\n",
    "                        fba_model.reactions.get_by_id(reaction.id).lower_bound = max_import\n",
    "\n",
    "\n",
    "def apply_mm_kinetics(concentration, Vmax, Km):\n",
    "    \"\"\"Apply Michaelis-Menten kinetics to calculate the flux.\"\"\"\n",
    "    return (Vmax * concentration) / (Km + concentration)\n",
    "\n",
    "\n",
    "def dynamic_system(t, y, fba_model, utc_model, mappings):\n",
    "    \"\"\"\n",
    "    Calculate the time derivative of external species using specific reaction mappings.\n",
    "\n",
    "    Parameters:\n",
    "        t: Current time\n",
    "        y: Array of species concentrations at time t\n",
    "        fba_model: The FBA model (e.g., COBRA model)\n",
    "        utc_model: The UTC model (e.g., COPASI model)\n",
    "        mappings: List of mappings from species names to reactions\n",
    "        species_names: List of species names corresponding to y\n",
    "        num_steps: granularity of output\n",
    "\n",
    "    Returns:\n",
    "        Fluxes calculated based on current concentrations\n",
    "    \n",
    "    # 1. run copasi utc (update model!) \n",
    "    # 2. run get_species(model=copasi).concentration.to_dict().values()\n",
    "    # 3. assign these to y = #2\n",
    "    # 4. iteratively run: for species in y: DO THE REST\n",
    "    \"\"\"\n",
    "    # run copasi for a single interval\n",
    "    run_time_course(model=copasi, update_model=True, intervals=1)\n",
    "\n",
    "    # set y to this value array\n",
    "    y = get_species(model=copasi)['concentration'].to_dict()\n",
    "    \n",
    "    # update global store TODO: do this with process bigraph\n",
    "    global concentrations \n",
    "    for name, value in y.items():\n",
    "        concentrations[name].append(value)\n",
    "\n",
    "    # update the FBA model's reaction bounds using species concentrations and mappings\n",
    "    add_dynamic_bounds(fba_model, utc_model, y, mappings)\n",
    "\n",
    "    # Run FBA with updated bounds and calculate fluxes, first clearing constraints\n",
    "    # cobra.util.add_lp_feasibility(fba_model)\n",
    "    fba_model = add_lp_feasibility_with_check(fba_model)\n",
    "    feasibility = cobra.util.fix_objective_as_constraint(fba_model)\n",
    "    \n",
    "    # Example of reactions to optimize (can vary based on your specific model)\n",
    "    reaction_list = [rxn.id for rxn in fba_model.reactions]\n",
    "    obj_directions = ['max' for _ in reaction_list]  # TODO: make this more fine-grained\n",
    "    lex_constraints = cobra.util.add_lexicographic_constraints(fba_model, reaction_list, obj_directions)\n",
    "\n",
    "    # scale fluxes by the concentration for each species at time t: either for biomass or by mm kinetics\n",
    "    fluxes = []\n",
    "    for species, concentration in y.items():\n",
    "        if species in concentrations.keys():\n",
    "            # handle scaling by biomass\n",
    "            if species == 'biomass':\n",
    "                biomass_concentration = y['biomass']\n",
    "                flux = lex_constraints.values * biomass_concentration\n",
    "                fluxes.append(flux)\n",
    "            else:\n",
    "                # handle scaling by mm kinetics TODO: change this to be dynamic input\n",
    "                Vmax, Km = 10, 5\n",
    "                flux = apply_mm_kinetics(concentration, Vmax, Km)\n",
    "                fluxes.append(flux)\n",
    "        else:\n",
    "            # give raw values if not TODO: handle this differently\n",
    "            fluxes.append(lex_constraints.values)\n",
    "\n",
    "    # update progress bar\n",
    "    if dynamic_system.pbar is not None:\n",
    "        dynamic_system.pbar.update(1)\n",
    "        dynamic_system.pbar.set_description(f't = {t:.3f}')\n",
    "\n",
    "    return fluxes\n",
    "\n",
    "\n",
    "dynamic_system.pbar = None\n",
    "\n",
    "\n",
    "def infeasible_event(t, y, fba_model, utc_model, mappings):\n",
    "    \"\"\"\n",
    "    Determine solution feasibility.\n",
    "\n",
    "    Avoiding infeasible solutions is handled by solve_ivp's built-in event detection.\n",
    "    This function re-solves the LP to determine whether or not the solution is feasible\n",
    "    (and if not, how far it is from feasibility). When the sign of this function changes\n",
    "    from -epsilon to positive, we know the solution is no longer feasible.\n",
    "\n",
    "    \"\"\"\n",
    "    with cobrapy:\n",
    "        add_dynamic_bounds(cobrapy, copasi, y, mappings)\n",
    "        # cobra.util.add_lp_feasibility(cobrapy)\n",
    "        updated_model = add_lp_feasibility_with_check(cobrapy)\n",
    "        feasibility = cobra.util.fix_objective_as_constraint(updated_model)\n",
    "\n",
    "    return feasibility - infeasible_event.epsilon\n",
    "\n",
    "\n",
    "def add_lp_feasibility_with_check(fba_model):\n",
    "    \"\"\"Add LP feasibility constraints with a check for existing constraints.\"\"\"\n",
    "    prob = fba_model.problem  # Access the solver\n",
    "\n",
    "    for met in fba_model.metabolites:\n",
    "        # Check if the feasibility variables already exist and remove them\n",
    "        s_plus_name = \"s_plus_\" + met.id\n",
    "        s_minus_name = \"s_minus_\" + met.id\n",
    "        \n",
    "        if s_plus_name in fba_model.variables:\n",
    "            fba_model.remove_cons_vars(fba_model.variables[s_plus_name])\n",
    "        if s_minus_name in fba_model.variables:\n",
    "            fba_model.remove_cons_vars(fba_model.variables[s_minus_name])\n",
    "        \n",
    "        # Now add the new variables\n",
    "        s_plus = prob.Variable(s_plus_name, lb=0)\n",
    "        s_minus = prob.Variable(s_minus_name, lb=0)\n",
    "        \n",
    "        fba_model.add_cons_vars([s_plus, s_minus])\n",
    "\n",
    "        # Add constraint if missing\n",
    "        if met.id not in fba_model.constraints:\n",
    "            fba_model.constraints[met.id] = prob.Constraint(0, name=met.id)\n",
    "        \n",
    "        # Set the linear coefficients\n",
    "        fba_model.constraints[met.id].set_linear_coefficients({s_plus: 1.0, s_minus: -1.0})\n",
    "\n",
    "    return fba_model\n",
    "\n",
    "\n",
    "# 1. run get_species(model=copasi).initial_concentration.to_dict().\n",
    "# 2. assign 1 to y0\n",
    "# 3. gen reaction mapping\n",
    "# 4. specify num steps\n",
    "# 5. add 3 and 4 to args below\n",
    "\n",
    "\n",
    "# time params TODO: make these config params\n",
    "start = 0\n",
    "stop = 10\n",
    "steps = 10\n",
    "ts = np.linspace(start, stop, steps)\n",
    "initial_concentrations = get_species(model=copasi)['initial_concentration'].to_dict()\n",
    "concentrations = {name: [initial_concentrations[name]] for name in initial_concentrations.keys()}\n",
    "y0 = list(initial_concentrations.values())\n",
    "mappings = generate_reaction_mappings(list(initial_concentrations.keys()), cobrapy)\n",
    "stiff = False\n",
    "rTol = 1e-3\n",
    "aTol = 1e-5\n",
    "infeasible_epsilon = 1e-6\n",
    "\n",
    "# set infeasibility params TODO: make this config params\n",
    "infeasible_event.epsilon = infeasible_epsilon\n",
    "infeasible_event.direction = 1\n",
    "infeasible_event.terminal = True\n",
    "\n",
    "# run and get solution\n",
    "with tqdm() as pbar:\n",
    "    dynamic_system.pbar = pbar\n",
    "\n",
    "    sol = solve_ivp(\n",
    "        fun=dynamic_system,\n",
    "        events=[infeasible_event],\n",
    "        t_span=(ts.min(), ts.max()),\n",
    "        y0=y0,\n",
    "        t_eval=ts,\n",
    "        rtol=rTol,\n",
    "        atol=aTol,\n",
    "        method='BDF' if stiff else 'RK45',\n",
    "        args=(cobrapy, copasi, mappings)\n",
    "    )"
   ]
  },
  {
   "cell_type": "code",
   "execution_count": 2,
   "id": "3d93dcd5-d32c-4a93-9c40-64db2214e0c5",
   "metadata": {},
   "outputs": [
    {
     "data": {
      "text/plain": [
       "{'LacI protein': array([ 0.        , 10.8896452 , 21.32076327, 31.56022422, 42.18959496,\n",
       "        53.13265332, 64.17118959, 75.23876748, 86.31674249, 97.40135153]),\n",
       " 'TetR protein': array([ 0.        , 10.63536026, 21.63794987, 32.71553307, 43.79878533,\n",
       "        54.86805219, 65.91246534, 76.92579926, 87.9134429 , 98.84812196]),\n",
       " 'cI protein': array([ 0.        , 10.97223395, 22.0204841 , 32.98834596, 43.81461882,\n",
       "        54.39667216, 64.73139316, 74.92389555, 85.08000117, 95.36987708]),\n",
       " 'LacI mRNA': array([ 0.        ,  1.94942868,  2.44093159,  3.94054551,  7.88052295,\n",
       "        14.958938  , 23.69613141, 33.03773039, 42.5669189 , 52.01152966]),\n",
       " 'TetR mRNA': array([20.        , 22.98607117, 31.08482111, 40.49064563, 48.72149227,\n",
       "        52.79216242, 54.13618786, 54.71916944, 55.09902315, 55.38255284]),\n",
       " 'cI mRNA': array([ 0.        ,  6.8451731 ,  9.20444674,  9.58820948,  9.85367674,\n",
       "        10.17724304, 10.68302508, 11.52468337, 12.69841611, 14.72461364])}"
      ]
     },
     "execution_count": 2,
     "metadata": {},
     "output_type": "execute_result"
    }
   ],
   "source": [
    "dict(zip(list(concentrations.keys()), sol.y))"
   ]
  },
  {
   "cell_type": "code",
   "execution_count": 5,
   "id": "1a77cc18",
   "metadata": {},
   "outputs": [
    {
     "data": {
      "text/plain": [
       "<Axes: >"
      ]
     },
     "execution_count": 5,
     "metadata": {},
     "output_type": "execute_result"
    },
    {
     "data": {
      "image/png": "[encoded data removed]",
      "text/plain": [
       "<Figure size 640x480 with 1 Axes>"
      ]
     },
     "metadata": {},
     "output_type": "display_data"
    }
   ],
   "source": [
    "import matplotlib.pyplot as plt\n",
    "import seaborn as sns \n",
    "\n",
    "\n",
    "sns.lineplot(data=dict(zip(list(concentrations.keys()), sol.y)))"
   ]
  },
  {
   "cell_type": "code",
   "execution_count": 9,
   "id": "89c4bac6",
   "metadata": {},
   "outputs": [],
   "source": [
    "mod = load_model(model_file) \n",
    "for _ in range(10):\n",
    "    run_time_course(model=mod, update_model=True, intervals=1)\n",
    "\n",
    "spec = get_species(model=mod)['concentration'].to_dict()"
   ]
  },
  {
   "cell_type": "code",
   "execution_count": 11,
   "id": "568bb921",
   "metadata": {},
   "outputs": [
    {
     "data": {
      "text/plain": [
       "{'LacI protein': 621.0440285473525,\n",
       " 'TetR protein': 532.674456523094,\n",
       " 'cI protein': 141.00448008651256,\n",
       " 'LacI mRNA': 7.402872811390129,\n",
       " 'TetR mRNA': 1.9940831423992789,\n",
       " 'cI mRNA': 0.8690041661827285}"
      ]
     },
     "execution_count": 11,
     "metadata": {},
     "output_type": "execute_result"
    }
   ],
   "source": [
    "spec"
   ]
  },
  {
   "cell_type": "code",
   "execution_count": null,
   "id": "337f9e01",
   "metadata": {},
   "outputs": [],
   "source": []
  }
 ],
 "metadata": {
  "kernelspec": {
   "display_name": "Python 3 (ipykernel)",
   "language": "python",
   "name": "python3"
  },
  "language_info": {
   "codemirror_mode": {
    "name": "ipython",
    "version": 3
   },
   "file_extension": ".py",
   "mimetype": "text/x-python",
   "name": "python",
   "nbconvert_exporter": "python",
   "pygments_lexer": "ipython3",
   "version": "3.10.14"
  }
 },
 "nbformat": 4,
 "nbformat_minor": 5
}
