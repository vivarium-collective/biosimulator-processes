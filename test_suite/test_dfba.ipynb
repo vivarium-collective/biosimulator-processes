{
 "cells": [
  {
   "cell_type": "code",
   "execution_count": 3,
   "id": "573bc0a1-7999-43a7-99f6-81f746acff4e",
   "metadata": {},
   "outputs": [
    {
     "name": "stdout",
     "output_type": "stream",
     "text": [
      "Cannot register SimulariumSmoldynStep. Error:\n",
      "**\n",
      "No module named 'simulariumio'\n",
      "**\n",
      "Cannot register MongoDatabaseEmitter. Error:\n",
      "**\n",
      "No module named 'simulariumio'\n",
      "**\n"
     ]
    },
    {
     "data": {
      "text/plain": [
       "{'console-emitter': process_bigraph.composite.ConsoleEmitter,\n",
       " 'ram-emitter': process_bigraph.composite.RAMEmitter,\n",
       " 'composite': process_bigraph.composite.Composite,\n",
       " 'dfba-process': biosimulators_processes.processes.dfba_process.DynamicFBA,\n",
       " 'copasi-process': biosimulators_processes.processes.copasi_process.CopasiProcess,\n",
       " 'tellurium-process': biosimulators_processes.processes.tellurium_process.TelluriumProcess,\n",
       " 'utc-amici': biosimulators_processes.processes.amici_process.UtcAmici,\n",
       " 'utc-copasi': biosimulators_processes.processes.copasi_process.UtcCopasi,\n",
       " 'utc-tellurium': biosimulators_processes.processes.tellurium_process.UtcTellurium,\n",
       " 'smoldyn-process': biosimulators_processes.processes.smoldyn_process.SmoldynProcess,\n",
       " 'smoldyn-io-process': biosimulators_processes.processes.smoldyn_process.SmoldynIOProcess,\n",
       " 'copasi-step': biosimulators_processes.steps.ode_simulation.CopasiStep,\n",
       " 'tellurium-step': biosimulators_processes.steps.ode_simulation.TelluriumStep,\n",
       " 'amici-step': biosimulators_processes.steps.ode_simulation.AmiciStep,\n",
       " 'plotter': biosimulators_processes.steps.viz.CompositionPlotter,\n",
       " 'plotter2d': biosimulators_processes.steps.viz.Plotter2d,\n",
       " 'utc-comparator': biosimulators_processes.steps.comparator_step.UtcComparator}"
      ]
     },
     "execution_count": 3,
     "metadata": {},
     "output_type": "execute_result"
    }
   ],
   "source": [
    "from process_bigraph import Composite \n",
    "\n",
    "from biosimulators_processes import CORE \n",
    "\n",
    "\n",
    "CORE.process_registry.registry"
   ]
  },
  {
   "cell_type": "code",
   "execution_count": null,
   "id": "e6018680-d10d-4724-95c3-2e984b9ba4fb",
   "metadata": {},
   "outputs": [],
   "source": [
    "model_fp = '/Users/alexanderpatrie/Desktop/repos/biosimulator-processes/test_suite/examples/sbml-core/Elowitz-Nature-2000-Repressilator/BIOMD0000000012_url.xml'\n",
    "\n",
    "doc = {\n",
    "    'dFBA': {\n",
    "        '_type': 'process',\n",
    "        'address': 'local:dfba-process',\n",
    "        'config': {\n",
    "            'model': {\n",
    "                'model_source': model_fp\n",
    "            },\n",
    "            'simulator': 'copasi',\n",
    "            'start': 0,\n",
    "            'stop': 10,\n",
    "            'steps': 100\n",
    "        },\n",
    "        'inputs': {},\n",
    "        'outputs': {\n",
    "            'solution': ['solution_store']\n",
    "        }\n",
    "    },\n",
    "    'emitter': {\n",
    "        '_type': 'step',\n",
    "        'address': 'local:ram-emitter',\n",
    "        'config': {\n",
    "            'emit': {\n",
    "                'solution': 'tree[float]'\n",
    "            }\n",
    "        },\n",
    "        'inputs': {\n",
    "            'solution': ['solution_store']\n",
    "        }\n",
    "    }\n",
    "}\n",
    "\n",
    "\n",
    "spec = doc.copy()"
   ]
  },
  {
   "cell_type": "code",
   "execution_count": null,
   "id": "eb74f3da-9172-4ecc-aab1-237d6c721743",
   "metadata": {},
   "outputs": [],
   "source": []
  }
 ],
 "metadata": {
  "kernelspec": {
   "display_name": "Python 3 (ipykernel)",
   "language": "python",
   "name": "python3"
  },
  "language_info": {
   "codemirror_mode": {
    "name": "ipython",
    "version": 3
   },
   "file_extension": ".py",
   "mimetype": "text/x-python",
   "name": "python",
   "nbconvert_exporter": "python",
   "pygments_lexer": "ipython3",
   "version": "3.10.14"
  }
 },
 "nbformat": 4,
 "nbformat_minor": 5
}
