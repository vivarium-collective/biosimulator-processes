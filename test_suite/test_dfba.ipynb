{
 "cells": [
  {
   "cell_type": "code",
   "execution_count": 2,
   "id": "573bc0a1-7999-43a7-99f6-81f746acff4e",
   "metadata": {},
   "outputs": [],
   "source": [
    "model_fp = '/Users/alexanderpatrie/Desktop/repos/biosimulator-processes/test_suite/examples/sbml-core/Elowitz-Nature-2000-Repressilator/BIOMD0000000012_url.xml'\n",
    "\n",
    "doc = {\n",
    "    'dFBA': {\n",
    "        '_type': 'process',\n",
    "        'address': 'local:copasi',\n",
    "        'config': {\n",
    "            'model': {\n",
    "                'model_source': model_fp\n",
    "            }\n",
    "        },\n",
    "        'inputs': {\n",
    "            'time': ['time_store'],\n",
    "            'floating_species_concentrations': ['floating_species_concentrations_store'],\n",
    "            'model_parameters': ['model_parameters_store'],\n",
    "            'reactions': ['reactions_store']\n",
    "        },\n",
    "        'outputs': {\n",
    "            'time': ['time_store'],\n",
    "            'floating_species_concentrations': ['floating_species_concentrations_store'],\n",
    "            'reactions': ['reactions_store']\n",
    "        }\n",
    "    },\n",
    "    'emitter': {\n",
    "        '_type': 'step',\n",
    "        'address': 'local:ram-emitter',\n",
    "        'config': {\n",
    "            'emit': {\n",
    "                'floating_species_concentrations': 'tree[float]',\n",
    "                'substrates': 'tree[float]',\n",
    "                'fluxes': 'tree[float]',\n",
    "                'uptake_rates': 'tree[float]'\n",
    "            }\n",
    "        },\n",
    "        'inputs': {\n",
    "            'floating_species_concentrations': ['floating_species_concentrations_store'],\n",
    "            'substrates': ['substrates_store'],\n",
    "            'fluxes': ['fluxes_store'],\n",
    "            'uptake_rates': ['uptake_rates_store']\n",
    "        }\n",
    "    }\n",
    "}\n",
    "\n",
    "\n",
    "spec = doc.copy()"
   ]
  },
  {
   "cell_type": "code",
   "execution_count": null,
   "id": "e6018680-d10d-4724-95c3-2e984b9ba4fb",
   "metadata": {},
   "outputs": [],
   "source": []
  }
 ],
 "metadata": {
  "kernelspec": {
   "display_name": "Python 3 (ipykernel)",
   "language": "python",
   "name": "python3"
  },
  "language_info": {
   "codemirror_mode": {
    "name": "ipython",
    "version": 3
   },
   "file_extension": ".py",
   "mimetype": "text/x-python",
   "name": "python",
   "nbconvert_exporter": "python",
   "pygments_lexer": "ipython3",
   "version": "3.10.14"
  }
 },
 "nbformat": 4,
 "nbformat_minor": 5
}
