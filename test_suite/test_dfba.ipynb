{
 "cells": [
  {
   "cell_type": "code",
   "execution_count": 1,
   "id": "573bc0a1-7999-43a7-99f6-81f746acff4e",
   "metadata": {
    "ExecuteTime": {
     "end_time": "2024-09-18T19:57:38.855040Z",
     "start_time": "2024-09-18T19:57:34.429337Z"
    }
   },
   "outputs": [
    {
     "name": "stdout",
     "output_type": "stream",
     "text": [
      "Cannot register SimulariumSmoldynStep. Error:\n",
      "**\n",
      "No module named 'simulariumio'\n",
      "**\n",
      "Cannot register MongoDatabaseEmitter. Error:\n",
      "**\n",
      "No module named 'simulariumio'\n",
      "**\n"
     ]
    }
   ],
   "source": [
    "from process_bigraph import Composite \n",
    "\n",
    "from biosimulators_processes import CORE "
   ]
  },
  {
   "cell_type": "code",
   "execution_count": 2,
   "id": "e6018680-d10d-4724-95c3-2e984b9ba4fb",
   "metadata": {
    "ExecuteTime": {
     "end_time": "2024-09-18T19:57:02.492009Z",
     "start_time": "2024-09-18T19:57:02.489831Z"
    }
   },
   "outputs": [],
   "source": [
    "model_fp = '/Users/alexanderpatrie/Desktop/repos/biosimulator-processes/test_suite/examples/sbml-core/Elowitz-Nature-2000-Repressilator/BIOMD0000000012_url.xml'\n",
    "\n",
    "doc = {\n",
    "    'dFBA': {\n",
    "        '_type': 'process',\n",
    "        'address': 'local:dfba-process',\n",
    "        'config': {\n",
    "            'model': {\n",
    "                'model_source': model_fp\n",
    "            },\n",
    "            'simulator': 'copasi',\n",
    "            'start': 0,\n",
    "            'stop': 10,\n",
    "            'steps': 100\n",
    "        },\n",
    "        'inputs': {},\n",
    "        'outputs': {\n",
    "            'solution': ['solution_store']\n",
    "        }\n",
    "    },\n",
    "    'emitter': {\n",
    "        '_type': 'step',\n",
    "        'address': 'local:ram-emitter',\n",
    "        'config': {\n",
    "            'emit': {\n",
    "                'solution': 'tree[float]'\n",
    "            }\n",
    "        },\n",
    "        'inputs': {\n",
    "            'solution': ['solution_store']\n",
    "        }\n",
    "    }\n",
    "}\n",
    "\n",
    "\n",
    "spec = doc.copy()"
   ]
  },
  {
   "cell_type": "code",
   "execution_count": null,
   "id": "eb74f3da-9172-4ecc-aab1-237d6c721743",
   "metadata": {
    "ExecuteTime": {
     "end_time": "2024-09-18T19:57:10.763725Z",
     "start_time": "2024-09-18T19:57:10.710214Z"
    }
   },
   "outputs": [],
   "source": [
    "comp = Composite(\n",
    "    config={'state': spec},\n",
    "    core=CORE\n",
    ")"
   ]
  },
  {
   "cell_type": "code",
   "execution_count": null,
   "id": "6be217a9-4ea0-4e7f-8563-297266e3e688",
   "metadata": {
    "ExecuteTime": {
     "end_time": "2024-09-18T19:57:28.585883Z",
     "start_time": "2024-09-18T19:57:28.582517Z"
    }
   },
   "outputs": [],
   "source": [
    "comp.run(3)"
   ]
  },
  {
   "cell_type": "code",
   "execution_count": 7,
   "id": "7ad241c9-277b-4473-b2c2-65def8935674",
   "metadata": {},
   "outputs": [
    {
     "name": "stderr",
     "output_type": "stream",
     "text": [
      "Model does not contain SBML fbc package information.\n",
      "SBML package 'layout' not supported by cobrapy, information is not parsed\n",
      "SBML package 'render' not supported by cobrapy, information is not parsed\n",
      "Missing lower flux bound set to '-1000.0' for reaction: '<Reaction Reaction1 \"degradation of LacI transcripts\">'\n",
      "Missing upper flux bound set to '1000.0' for reaction: '<Reaction Reaction1 \"degradation of LacI transcripts\">'\n",
      "Missing lower flux bound set to '-1000.0' for reaction: '<Reaction Reaction2 \"degradation of TetR transcripts\">'\n",
      "Missing upper flux bound set to '1000.0' for reaction: '<Reaction Reaction2 \"degradation of TetR transcripts\">'\n",
      "Missing lower flux bound set to '-1000.0' for reaction: '<Reaction Reaction3 \"degradation of CI transcripts\">'\n",
      "Missing upper flux bound set to '1000.0' for reaction: '<Reaction Reaction3 \"degradation of CI transcripts\">'\n",
      "Missing lower flux bound set to '-1000.0' for reaction: '<Reaction Reaction4 \"translation of LacI\">'\n",
      "Missing upper flux bound set to '1000.0' for reaction: '<Reaction Reaction4 \"translation of LacI\">'\n",
      "Missing lower flux bound set to '-1000.0' for reaction: '<Reaction Reaction5 \"translation of TetR\">'\n",
      "Missing upper flux bound set to '1000.0' for reaction: '<Reaction Reaction5 \"translation of TetR\">'\n",
      "Missing lower flux bound set to '-1000.0' for reaction: '<Reaction Reaction6 \"translation of CI\">'\n",
      "Missing upper flux bound set to '1000.0' for reaction: '<Reaction Reaction6 \"translation of CI\">'\n",
      "Missing lower flux bound set to '-1000.0' for reaction: '<Reaction Reaction7 \"degradation of LacI\">'\n",
      "Missing upper flux bound set to '1000.0' for reaction: '<Reaction Reaction7 \"degradation of LacI\">'\n",
      "Missing lower flux bound set to '-1000.0' for reaction: '<Reaction Reaction8 \"degradation of TetR\">'\n",
      "Missing upper flux bound set to '1000.0' for reaction: '<Reaction Reaction8 \"degradation of TetR\">'\n",
      "Missing lower flux bound set to '-1000.0' for reaction: '<Reaction Reaction9 \"degradation of CI\">'\n",
      "Missing upper flux bound set to '1000.0' for reaction: '<Reaction Reaction9 \"degradation of CI\">'\n",
      "Missing lower flux bound set to '-1000.0' for reaction: '<Reaction Reaction10 \"transcription of LacI\">'\n",
      "Missing upper flux bound set to '1000.0' for reaction: '<Reaction Reaction10 \"transcription of LacI\">'\n",
      "Missing lower flux bound set to '-1000.0' for reaction: '<Reaction Reaction11 \"transcription of TetR\">'\n",
      "Missing upper flux bound set to '1000.0' for reaction: '<Reaction Reaction11 \"transcription of TetR\">'\n",
      "Missing lower flux bound set to '-1000.0' for reaction: '<Reaction Reaction12 \"transcription of CI\">'\n",
      "Missing upper flux bound set to '1000.0' for reaction: '<Reaction Reaction12 \"transcription of CI\">'\n",
      "No objective coefficients in model. Unclear what should be optimized\n",
      "Missing flux bounds on reactions set to default bounds.As best practise and to avoid confusion flux bounds should be set explicitly on all reactions.\n"
     ]
    }
   ],
   "source": [
    "import numpy as np\n",
    "import os \n",
    "from pathlib import Path\n",
    "from tqdm import tqdm\n",
    "\n",
    "from scipy.integrate import solve_ivp\n",
    "import matplotlib.pyplot as plt\n",
    "import cobra\n",
    "from cobra.io import load_model as load_cobra, read_sbml_model\n",
    "from basico import * \n",
    "\n",
    "from biosimulators_processes.helpers import generate_reaction_mappings\n",
    "\n",
    "\n",
    "# set up models\n",
    "model_file = '/Users/alexanderpatrie/Desktop/repos/biosimulator-processes/test_suite/examples/sbml-core/Elowitz-Nature-2000-Repressilator/BIOMD0000000012_url.xml'\n",
    "\n",
    "# set up cobra model\n",
    "data_dir = Path(os.path.dirname(model_file))\n",
    "path = data_dir / model_file.split('/')[-1]\n",
    "cobrapy = read_sbml_model(str(path.resolve()))  # load_cobra('textbook')\n",
    "\n",
    "# set up copasi model\n",
    "copasi = load_model(model_fp)\n"
   ]
  },
  {
   "cell_type": "code",
   "execution_count": 13,
   "id": "b1775936",
   "metadata": {},
   "outputs": [
    {
     "data": {
      "text/plain": [
       "{'LacI protein': 0.0,\n",
       " 'TetR protein': 0.0,\n",
       " 'cI protein': 0.0,\n",
       " 'LacI mRNA': 0.0,\n",
       " 'TetR mRNA': 20.0,\n",
       " 'cI mRNA': 0.0}"
      ]
     },
     "execution_count": 13,
     "metadata": {},
     "output_type": "execute_result"
    }
   ],
   "source": [
    "s = get_species(model=copasi)\n",
    "\n",
    "s.concentration.to_dict()"
   ]
  },
  {
   "cell_type": "code",
   "execution_count": null,
   "id": "0b746894-7f09-451d-90cf-240c88df0659",
   "metadata": {},
   "outputs": [],
   "source": [
    "def _add_dynamic_bounds(fba_model, utc_model, y):\n",
    "    # 1. get reaction mappings \n",
    "    # 2. y = get_species(model=copasi).initial_concentration.values\n",
    "    # 3. for each species in y, calculate max import (TODO: make this specific)\n",
    "    # 4. for each species mapping, use the dict val (reaction name) to say fba_model.reactions.get_by_id(reaction_name) = max_import\n",
    "    biomass, glucose = y \n",
    "    glucose_max_import = -10 * glucose / (5 + glucose)\n",
    "    fba_model.reactions.EX_glc__D_e.lower_bound = glucose_max_import\n",
    "\n",
    "\n",
    "def add_dynamic_bounds(fba_model, utc_model, y, mappings, species_names):\n",
    "    \"\"\"\n",
    "    Update reaction bounds dynamically based on species concentrations using mappings.\n",
    "\n",
    "    Parameters:\n",
    "        fba_model: The FBA model (e.g., COBRA model)\n",
    "        utc_model: The UTC model (e.g., COPASI model)\n",
    "        y: Array of species concentrations at the current time point\n",
    "        mappings: List of mappings from species names to reactions\n",
    "        species_names: List of species names corresponding to y\n",
    "    \n",
    "    # 1. get reaction mappings \n",
    "    # 2. y = get_species(model=copasi).initial_concentration.values\n",
    "    # 3. for each species in y, calculate max import (TODO: make this specific)\n",
    "    # 4. for each species mapping, use the dict val (reaction name) to say fba_model.reactions.get_by_id(reaction_name) = max_import\n",
    "    \"\"\"\n",
    "    # Zip species names and their corresponding concentrations for iteration\n",
    "    species_concentrations = dict(zip(species_names, y))\n",
    "\n",
    "    # Iterate through the mappings to apply species-specific logic\n",
    "    for mapping in mappings:\n",
    "        # Each mapping is a dictionary like {'LacI mRNA': 'degradation of LacI transcripts'}\n",
    "        for species, reaction_name in mapping.items():\n",
    "            if species in species_concentrations:\n",
    "                concentration = species_concentrations[species]\n",
    "                \n",
    "                # Example: Set bounds or apply specific logic based on reaction type\n",
    "                if \"degradation\" in reaction_name:\n",
    "                    # Apply logic for degradation reactions\n",
    "                    max_import = -10 * concentration / (5 + concentration)\n",
    "                    fba_model.reactions.get_by_id(reaction_name).lower_bound = max_import\n",
    "                elif \"transcription\" in reaction_name:\n",
    "                    # Apply logic for transcription reactions\n",
    "                    max_import = 5 * concentration / (3 + concentration)\n",
    "                    fba_model.reactions.get_by_id(reaction_name).lower_bound = max_import\n",
    "                elif \"translation\" in reaction_name:\n",
    "                    # Apply logic for translation reactions\n",
    "                    max_import = 8 * concentration / (4 + concentration)\n",
    "                    fba_model.reactions.get_by_id(reaction_name).lower_bound = max_import\n",
    "                \n",
    "                # Add additional logic for other types of reactions if needed\n",
    "\n",
    "\n",
    "def dynamic_system(t, y, fba_model, utc_model, mappings, species_names):\n",
    "    \"\"\"\n",
    "    Calculate the time derivative of external species using specific reaction mappings.\n",
    "\n",
    "    Parameters:\n",
    "        t: Current time\n",
    "        y: Array of species concentrations at time t\n",
    "        fba_model: The FBA model (e.g., COBRA model)\n",
    "        utc_model: The UTC model (e.g., COPASI model)\n",
    "        mappings: List of mappings from species names to reactions\n",
    "        species_names: List of species names corresponding to y\n",
    "\n",
    "    Returns:\n",
    "        Fluxes calculated based on current concentrations\n",
    "    \"\"\"\n",
    "    # Update the FBA model's reaction bounds using species concentrations and mappings\n",
    "    add_dynamic_bounds(fba_model, utc_model, y, mappings, species_names)\n",
    "\n",
    "    # Run FBA with updated bounds and calculate fluxes\n",
    "    cobra.util.add_lp_feasibility(fba_model)\n",
    "    feasibility = cobra.util.fix_objective_as_constraint(fba_model)\n",
    "    \n",
    "    # Example of reactions to optimize (can vary based on your specific model)\n",
    "    reaction_list = ['EX_glc__D_e', 'Biomass_Ecoli_core']  # Example reactions\n",
    "    lex_constraints = cobra.util.add_lexicographic_constraints(\n",
    "        fba_model, reaction_list, ['max', 'max']\n",
    "    )\n",
    "\n",
    "    # Handle the calculated fluxes\n",
    "    # Check if biomass is one of the species and handle accordingly\n",
    "    if 'biomass' in species_names:\n",
    "        # If biomass is one of the species, use it to scale the fluxes\n",
    "        biomass_index = species_names.index('biomass')\n",
    "        biomass_concentration = y[biomass_index]\n",
    "        fluxes = lex_constraints.values * biomass_concentration\n",
    "    else:\n",
    "        # If biomass is not part of the species, return the raw fluxes\n",
    "        fluxes = lex_constraints.values\n",
    "\n",
    "    # Update progress bar (optional)\n",
    "    if dynamic_system.pbar is not None:\n",
    "        dynamic_system.pbar.update(1)\n",
    "        dynamic_system.pbar.set_description(f't = {t:.3f}')\n",
    "\n",
    "    return fluxes\n",
    "\n",
    "\n",
    "def _dynamic_system(t, y):\n",
    "    \"\"\"Calculate the time derivative of external species.\"\"\"\n",
    "    # 1. run copasi utc (update model!)\n",
    "    # 2. run get_species(model=copasi).concentration.to_dict().values()\n",
    "    # 3. assign these to y = #2\n",
    "    # 4. iteratively run: for species in y: DO THE REST\n",
    "    biomass, glucose = y\n",
    "    \n",
    "    with cobrapy:\n",
    "        add_dynamic_bounds(cobrapy, copasi, y)\n",
    "\n",
    "        cobra.util.add_lp_feasibility(cobrapy)\n",
    "        feasibility = cobra.util.fix_objective_as_constraint(cobrapy)\n",
    "        lex_constraints = cobra.util.add_lexicographic_constraints(\n",
    "            cobrapy, ['Biomass_Ecoli_core', 'EX_glc__D_e'], ['max', 'max'])\n",
    "\n",
    "    fluxes = lex_constraints.values\n",
    "    fluxes *= biomass\n",
    "\n",
    "    # This implementation is **not** efficient, so I display the current\n",
    "    # simulation time using a progress bar.\n",
    "    if dynamic_system.pbar is not None:\n",
    "        dynamic_system.pbar.update(1)\n",
    "        dynamic_system.pbar.set_description('t = {:.3f}'.format(t))\n",
    "\n",
    "    return fluxes\n",
    "\n",
    "dynamic_system.pbar = None\n",
    "\n",
    "\n",
    "def infeasible_event(t, y):\n",
    "    \"\"\"\n",
    "    Determine solution feasibility.\n",
    "\n",
    "    Avoiding infeasible solutions is handled by solve_ivp's built-in event detection.\n",
    "    This function re-solves the LP to determine whether or not the solution is feasible\n",
    "    (and if not, how far it is from feasibility). When the sign of this function changes\n",
    "    from -epsilon to positive, we know the solution is no longer feasible.\n",
    "\n",
    "    \"\"\"\n",
    "\n",
    "    with cobrapy:\n",
    "\n",
    "        add_dynamic_bounds(cobrapy, y)\n",
    "\n",
    "        cobra.util.add_lp_feasibility(cobrapy)\n",
    "        feasibility = cobra.util.fix_objective_as_constraint(cobrapy)\n",
    "\n",
    "    return feasibility - infeasible_event.epsilon\n",
    "\n",
    "infeasible_event.epsilon = 1E-6\n",
    "infeasible_event.direction = 1\n",
    "infeasible_event.terminal = True"
   ]
  },
  {
   "cell_type": "code",
   "execution_count": 15,
   "id": "6df51ef7-2594-43f8-a7d4-554bc496bc1e",
   "metadata": {},
   "outputs": [
    {
     "data": {
      "text/plain": [
       "[{'LacI mRNA': 'degradation of LacI transcripts'},\n",
       " {'TetR mRNA': 'degradation of TetR transcripts'},\n",
       " {'cI mRNA': 'degradation of CI transcripts'},\n",
       " {'LacI protein': 'translation of LacI'},\n",
       " {'TetR protein': 'translation of TetR'},\n",
       " {'cI protein': 'translation of CI'},\n",
       " {'LacI protein': 'degradation of LacI'},\n",
       " {'TetR protein': 'degradation of TetR'},\n",
       " {'cI protein': 'degradation of CI'},\n",
       " {'LacI mRNA': 'transcription of LacI'},\n",
       " {'TetR mRNA': 'transcription of TetR'},\n",
       " {'cI mRNA': 'transcription of CI'}]"
      ]
     },
     "execution_count": 15,
     "metadata": {},
     "output_type": "execute_result"
    }
   ],
   "source": [
    "generate_reaction_mappings(get_species(model=copasi).index.tolist(), cobrapy)"
   ]
  },
  {
   "cell_type": "code",
   "execution_count": null,
   "id": "9e7de8d3-25ef-4cfe-8aa8-ccee624cd12b",
   "metadata": {},
   "outputs": [],
   "source": [
    "# time params\n",
    "ts = np.linspace(0, 15, 100)\n",
    "\n",
    "# 1. run get_species(model=copasi).initial_concentration.to_dict().\n",
    "y0 = [0.1, 10]\n",
    "\n",
    "with tqdm() as pbar:\n",
    "    dynamic_system.pbar = pbar\n",
    "\n",
    "    sol = solve_ivp(\n",
    "        fun=dynamic_system,\n",
    "        events=[infeasible_event],\n",
    "        t_span=(ts.min(), ts.max()),\n",
    "        y0=y0,\n",
    "        t_eval=ts,\n",
    "        rtol=1e-6,\n",
    "        atol=1e-8,\n",
    "        method='BDF'\n",
    "    )"
   ]
  },
  {
   "cell_type": "code",
   "execution_count": null,
   "id": "be01d8f5-e94d-4431-8d02-f14cd20ae9a4",
   "metadata": {},
   "outputs": [],
   "source": [
    "dir(sol)\n"
   ]
  },
  {
   "cell_type": "code",
   "execution_count": null,
   "id": "381d8788-874b-4ae7-a68a-ecbb35aca385",
   "metadata": {},
   "outputs": [],
   "source": [
    "sol"
   ]
  },
  {
   "cell_type": "code",
   "execution_count": null,
   "id": "e13f1058-3be5-41a9-92e6-f04cb4395e9b",
   "metadata": {},
   "outputs": [],
   "source": [
    "vars(sol)"
   ]
  },
  {
   "cell_type": "code",
   "execution_count": null,
   "id": "80d8b81e-e961-46ed-80a4-b1394fcd618d",
   "metadata": {},
   "outputs": [],
   "source": [
    "sol.sol"
   ]
  },
  {
   "cell_type": "code",
   "execution_count": null,
   "id": "0526d343-3481-4408-b5ec-d4a8fd859e02",
   "metadata": {},
   "outputs": [],
   "source": [
    "sol.t"
   ]
  },
  {
   "cell_type": "code",
   "execution_count": null,
   "id": "eabe6d7e-9bd2-4b16-a55f-e2720b0061ec",
   "metadata": {},
   "outputs": [],
   "source": [
    "type(sol)"
   ]
  },
  {
   "cell_type": "code",
   "execution_count": null,
   "id": "439f9e41-ca9d-4ae1-905a-72cbe86d456c",
   "metadata": {},
   "outputs": [],
   "source": [
    "sol.status == 'optimal'\n"
   ]
  },
  {
   "cell_type": "code",
   "execution_count": null,
   "id": "3d93dcd5-d32c-4a93-9c40-64db2214e0c5",
   "metadata": {},
   "outputs": [],
   "source": []
  }
 ],
 "metadata": {
  "kernelspec": {
   "display_name": "Python 3 (ipykernel)",
   "language": "python",
   "name": "python3"
  },
  "language_info": {
   "codemirror_mode": {
    "name": "ipython",
    "version": 3
   },
   "file_extension": ".py",
   "mimetype": "text/x-python",
   "name": "python",
   "nbconvert_exporter": "python",
   "pygments_lexer": "ipython3",
   "version": "3.10.14"
  }
 },
 "nbformat": 4,
 "nbformat_minor": 5
}
