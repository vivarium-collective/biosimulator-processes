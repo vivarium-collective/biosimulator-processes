{
 "cells": [
  {
   "metadata": {},
   "cell_type": "markdown",
   "source": "#### Performing the Standard Verification Routine with the Caravagna-J-Theor-Biol-2010 publication.",
   "id": "33d5d54c09226235"
  },
  {
   "metadata": {
    "ExecuteTime": {
     "end_time": "2024-05-28T18:19:24.785707Z",
     "start_time": "2024-05-28T18:19:23.330145Z"
    }
   },
   "cell_type": "code",
   "source": [
    "import sys\n",
    "import os\n",
    "\n",
    "import numpy as np\n",
    "from process_bigraph import Composite\n",
    "\n",
    "from biosimulator_processes.io import read_report_outputs\n",
    "\n",
    "sys.path.insert(0, '..')"
   ],
   "id": "4215ba488343c2d8",
   "outputs": [
    {
     "name": "stdout",
     "output_type": "stream",
     "text": [
      "Available processes:\n",
      "[ 'console-emitter',\n",
      "  'ram-emitter',\n",
      "  'composite',\n",
      "  'cobra',\n",
      "  'copasi',\n",
      "  'tellurium',\n",
      "  'amici']\n",
      "Available processes:\n",
      "[ 'console-emitter',\n",
      "  'ram-emitter',\n",
      "  'composite',\n",
      "  'cobra',\n",
      "  'copasi',\n",
      "  'tellurium',\n",
      "  'amici',\n",
      "  'copasi-step',\n",
      "  'tellurium-step',\n",
      "  'amici-step',\n",
      "  'plotter',\n",
      "  'plotter2d']\n"
     ]
    }
   ],
   "execution_count": 1
  },
  {
   "cell_type": "code",
   "id": "initial_id",
   "metadata": {
    "collapsed": true,
    "ExecuteTime": {
     "end_time": "2024-05-28T18:19:24.801583Z",
     "start_time": "2024-05-28T18:19:24.787336Z"
    }
   },
   "source": [
    "omex_dir = '../examples/sbml-core/Caravagna-J-Theor-Biol-2010-tumor-suppressive-oscillations'\n",
    "os.path.exists(omex_dir)"
   ],
   "outputs": [
    {
     "data": {
      "text/plain": [
       "True"
      ]
     },
     "execution_count": 2,
     "metadata": {},
     "output_type": "execute_result"
    }
   ],
   "execution_count": 2
  },
  {
   "metadata": {
    "ExecuteTime": {
     "end_time": "2024-05-28T18:19:24.805754Z",
     "start_time": "2024-05-28T18:19:24.802273Z"
    }
   },
   "cell_type": "code",
   "source": [
    "# read \"ground truth\" output aka that which is PUBLISHED as the omex dir (including reports). Publication itself is a Validation Phase, according to the Standard Validation Routine\n",
    "\n",
    "published_outputs = read_report_outputs(os.path.join(omex_dir, 'reports.h5'))"
   ],
   "id": "2692f5f88b570581",
   "outputs": [],
   "execution_count": 3
  },
  {
   "metadata": {
    "ExecuteTime": {
     "end_time": "2024-05-28T18:19:24.858963Z",
     "start_time": "2024-05-28T18:19:24.856534Z"
    }
   },
   "cell_type": "code",
   "source": [
    "# published outputs are easily serializable\n",
    "\n",
    "published_outputs.to_dict()"
   ],
   "id": "907444b06de6ac2e",
   "outputs": [
    {
     "data": {
      "text/plain": [
       "{'report_path': '../examples/sbml-core/Caravagna-J-Theor-Biol-2010-tumor-suppressive-oscillations/reports.h5',\n",
       " 'data': [{'dataset_label': 'time',\n",
       "   'data': array([0.000e+00, 2.000e-01, 4.000e-01, ..., 9.996e+02, 9.998e+02,\n",
       "          1.000e+03])},\n",
       "  {'dataset_label': 'T',\n",
       "   'data': array([  1.        ,   1.03663447,   1.07461102, ..., 294.20912519,\n",
       "          304.52170256, 315.19840046])},\n",
       "  {'dataset_label': 'E',\n",
       "   'data': array([1.00000000e+00, 9.98078674e-01, 9.96317603e-01, ...,\n",
       "          2.45472790e+03, 2.44123741e+03, 2.42786947e+03])},\n",
       "  {'dataset_label': 'I',\n",
       "   'data': array([1.00000000e+00, 1.35378335e-01, 1.83660859e-02, ...,\n",
       "          3.18793211e+01, 3.27198886e+01, 3.35804183e+01])}]}"
      ]
     },
     "execution_count": 4,
     "metadata": {},
     "output_type": "execute_result"
    }
   ],
   "execution_count": 4
  },
  {
   "metadata": {
    "ExecuteTime": {
     "end_time": "2024-05-28T18:20:44.312234Z",
     "start_time": "2024-05-28T18:20:44.309463Z"
    }
   },
   "cell_type": "code",
   "source": [
    "class Workflow(Composite):\n",
    "    # TODO: finish this.\n",
    "    def __init__(self, config=None, core=None):\n",
    "        super().__init__(config, core)"
   ],
   "id": "d42f980af223a2c4",
   "outputs": [],
   "execution_count": 6
  },
  {
   "metadata": {},
   "cell_type": "code",
   "outputs": [],
   "execution_count": null,
   "source": "",
   "id": "70be3dfc56ede91"
  }
 ],
 "metadata": {
  "kernelspec": {
   "display_name": "Python 3",
   "language": "python",
   "name": "python3"
  },
  "language_info": {
   "codemirror_mode": {
    "name": "ipython",
    "version": 2
   },
   "file_extension": ".py",
   "mimetype": "text/x-python",
   "name": "python",
   "nbconvert_exporter": "python",
   "pygments_lexer": "ipython2",
   "version": "2.7.6"
  }
 },
 "nbformat": 4,
 "nbformat_minor": 5
}
