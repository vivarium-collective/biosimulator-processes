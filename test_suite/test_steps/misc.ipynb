{
 "cells": [
  {
   "metadata": {},
   "cell_type": "markdown",
   "source": "#### Performing the Standard Verification Routine with the Caravagna-J-Theor-Biol-2010 publication.",
   "id": "33d5d54c09226235"
  },
  {
   "metadata": {
    "ExecuteTime": {
     "end_time": "2024-05-28T17:18:57.099315Z",
     "start_time": "2024-05-28T17:18:55.603233Z"
    }
   },
   "cell_type": "code",
   "source": [
    "import sys\n",
    "import os\n",
    "import tempfile\n",
    "import json \n",
    "\n",
    "import numpy as np\n",
    "from process_bigraph import pp\n",
    "from process_bigraph.experiments.parameter_scan import RunProcess\n",
    "from biosimulators_copasi.core import exec_sedml_docs_in_archive as exec_copasi\n",
    "from biosimulators_tellurium.core import exec_sedml_docs_in_archive as exec_tellurium\n",
    "from biosimulators_amici.core import exec_sedml_docs_in_archive as exec_amici\n",
    "\n",
    "from biosimulator_processes.io import get_archive_file_location, read_report_outputs, get_published_t\n",
    "\n",
    "\n",
    "sys.path.insert(0, '..')"
   ],
   "id": "4215ba488343c2d8",
   "outputs": [
    {
     "name": "stdout",
     "output_type": "stream",
     "text": [
      "Available processes:\n",
      "[ 'console-emitter',\n",
      "  'ram-emitter',\n",
      "  'composite',\n",
      "  'cobra',\n",
      "  'copasi',\n",
      "  'tellurium',\n",
      "  'amici']\n",
      "Available processes:\n",
      "[ 'console-emitter',\n",
      "  'ram-emitter',\n",
      "  'composite',\n",
      "  'cobra',\n",
      "  'copasi',\n",
      "  'tellurium',\n",
      "  'amici',\n",
      "  'copasi-step',\n",
      "  'tellurium-step',\n",
      "  'amici-step',\n",
      "  'plotter',\n",
      "  'plotter2d']\n"
     ]
    }
   ],
   "execution_count": 1
  },
  {
   "cell_type": "code",
   "id": "initial_id",
   "metadata": {
    "collapsed": true,
    "ExecuteTime": {
     "end_time": "2024-05-28T17:18:57.103448Z",
     "start_time": "2024-05-28T17:18:57.100659Z"
    }
   },
   "source": [
    "omex_dir = '../examples/sbml-core/Caravagna-J-Theor-Biol-2010-tumor-suppressive-oscillations'\n",
    "os.path.exists(omex_dir)"
   ],
   "outputs": [
    {
     "data": {
      "text/plain": [
       "True"
      ]
     },
     "execution_count": 2,
     "metadata": {},
     "output_type": "execute_result"
    }
   ],
   "execution_count": 2
  },
  {
   "metadata": {
    "ExecuteTime": {
     "end_time": "2024-05-28T17:18:57.107459Z",
     "start_time": "2024-05-28T17:18:57.104031Z"
    }
   },
   "cell_type": "code",
   "source": [
    "# read \"ground truth\" output aka that which is PUBLISHED as the omex dir (including reports). Publication itself is a Validation Phase, according to the Standard Validation Routine\n",
    "\n",
    "published_outputs = read_report_outputs(os.path.join(omex_dir, 'reports.h5'))"
   ],
   "id": "2692f5f88b570581",
   "outputs": [],
   "execution_count": 3
  },
  {
   "metadata": {
    "ExecuteTime": {
     "end_time": "2024-05-28T17:18:57.110265Z",
     "start_time": "2024-05-28T17:18:57.107994Z"
    }
   },
   "cell_type": "code",
   "source": [
    "# published outputs are easily serializable\n",
    "\n",
    "published_outputs.to_dict()"
   ],
   "id": "907444b06de6ac2e",
   "outputs": [
    {
     "data": {
      "text/plain": [
       "{'report_path': '../examples/sbml-core/Caravagna-J-Theor-Biol-2010-tumor-suppressive-oscillations/reports.h5',\n",
       " 'data': [{'dataset_label': 'time',\n",
       "   'data': array([0.000e+00, 2.000e-01, 4.000e-01, ..., 9.996e+02, 9.998e+02,\n",
       "          1.000e+03])},\n",
       "  {'dataset_label': 'T',\n",
       "   'data': array([  1.        ,   1.03663447,   1.07461102, ..., 294.20912519,\n",
       "          304.52170256, 315.19840046])},\n",
       "  {'dataset_label': 'E',\n",
       "   'data': array([1.00000000e+00, 9.98078674e-01, 9.96317603e-01, ...,\n",
       "          2.45472790e+03, 2.44123741e+03, 2.42786947e+03])},\n",
       "  {'dataset_label': 'I',\n",
       "   'data': array([1.00000000e+00, 1.35378335e-01, 1.83660859e-02, ...,\n",
       "          3.18793211e+01, 3.27198886e+01, 3.35804183e+01])}]}"
      ]
     },
     "execution_count": 4,
     "metadata": {},
     "output_type": "execute_result"
    }
   ],
   "execution_count": 4
  },
  {
   "metadata": {
    "ExecuteTime": {
     "end_time": "2024-05-28T17:19:22.818157Z",
     "start_time": "2024-05-28T17:19:22.812078Z"
    }
   },
   "cell_type": "code",
   "source": [
    "# the duration by which the published simulation is configured.\n",
    "published_t = get_published_t(omex_dir)"
   ],
   "id": "1544a7096799eeea",
   "outputs": [
    {
     "name": "stdout",
     "output_type": "stream",
     "text": [
      "../examples/sbml-core/Caravagna-J-Theor-Biol-2010-tumor-suppressive-oscillations/reports.h5\n"
     ]
    }
   ],
   "execution_count": 7
  },
  {
   "metadata": {
    "ExecuteTime": {
     "end_time": "2024-05-28T17:19:29.851601Z",
     "start_time": "2024-05-28T17:19:29.848433Z"
    }
   },
   "cell_type": "code",
   "source": "published_t",
   "id": "f4b25dc065e54bad",
   "outputs": [
    {
     "data": {
      "text/plain": [
       "array([0.000e+00, 2.000e-01, 4.000e-01, ..., 9.996e+02, 9.998e+02,\n",
       "       1.000e+03])"
      ]
     },
     "execution_count": 8,
     "metadata": {},
     "output_type": "execute_result"
    }
   ],
   "execution_count": 8
  },
  {
   "metadata": {
    "ExecuteTime": {
     "end_time": "2024-05-28T17:19:55.648230Z",
     "start_time": "2024-05-28T17:19:55.644982Z"
    }
   },
   "cell_type": "code",
   "source": "min(published_t), max(published_t), published_t.shape",
   "id": "bda3b8e1286b20ed",
   "outputs": [
    {
     "data": {
      "text/plain": [
       "(0.0, 1000.0, (5001,))"
      ]
     },
     "execution_count": 10,
     "metadata": {},
     "output_type": "execute_result"
    }
   ],
   "execution_count": 10
  },
  {
   "metadata": {},
   "cell_type": "code",
   "outputs": [],
   "execution_count": null,
   "source": "",
   "id": "dccd1def408ddcb9"
  }
 ],
 "metadata": {
  "kernelspec": {
   "display_name": "Python 3",
   "language": "python",
   "name": "python3"
  },
  "language_info": {
   "codemirror_mode": {
    "name": "ipython",
    "version": 2
   },
   "file_extension": ".py",
   "mimetype": "text/x-python",
   "name": "python",
   "nbconvert_exporter": "python",
   "pygments_lexer": "ipython2",
   "version": "2.7.6"
  }
 },
 "nbformat": 4,
 "nbformat_minor": 5
}
