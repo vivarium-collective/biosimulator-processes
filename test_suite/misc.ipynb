{
 "cells": [
  {
   "metadata": {
    "ExecuteTime": {
     "end_time": "2024-07-02T14:58:01.777210Z",
     "start_time": "2024-07-02T14:57:57.576231Z"
    }
   },
   "cell_type": "code",
   "source": [
    "import sys\n",
    "import os\n",
    "\n",
    "import numpy as np\n",
    "from process_bigraph import Composite\n",
    "\n",
    "from biosimulator_processes import CORE\n",
    "\n",
    "\n",
    "sys.path.insert(0, '..')"
   ],
   "id": "4215ba488343c2d8",
   "outputs": [
    {
     "name": "stdout",
     "output_type": "stream",
     "text": [
      "Available processes:\n",
      "[ 'console-emitter',\n",
      "  'ram-emitter',\n",
      "  'composite',\n",
      "  'cobra-process',\n",
      "  'copasi-process',\n",
      "  'tellurium-process',\n",
      "  'utc-amici',\n",
      "  'utc-copasi',\n",
      "  'utc-tellurium',\n",
      "  'smoldyn-process',\n",
      "  'copasi-step',\n",
      "  'tellurium-step',\n",
      "  'amici-step',\n",
      "  'plotter',\n",
      "  'plotter2d',\n",
      "  'utc-comparator',\n",
      "  'simple-neuron',\n",
      "  'simple-neuron-network']\n"
     ]
    }
   ],
   "execution_count": 1
  },
  {
   "metadata": {
    "ExecuteTime": {
     "end_time": "2024-07-02T15:52:28.888406Z",
     "start_time": "2024-07-02T15:52:28.885297Z"
    }
   },
   "cell_type": "code",
   "source": [
    "x = 0.1\n",
    "\n",
    "x**2, x**3, x**10"
   ],
   "id": "cab485630dc27cb5",
   "outputs": [
    {
     "data": {
      "text/plain": [
       "(0.010000000000000002, 0.0010000000000000002, 1.0000000000000006e-10)"
      ]
     },
     "execution_count": 14,
     "metadata": {},
     "output_type": "execute_result"
    }
   ],
   "execution_count": 14
  },
  {
   "metadata": {
    "ExecuteTime": {
     "end_time": "2024-07-02T15:52:47.845735Z",
     "start_time": "2024-07-02T15:52:47.843260Z"
    }
   },
   "cell_type": "code",
   "source": [
    "_alpha = 0.1 \n",
    "delta = _alpha - (_alpha ** 10)\n",
    "alpha = _alpha - delta\n",
    "\n",
    "delta"
   ],
   "id": "e268f9bb90a1a3eb",
   "outputs": [
    {
     "data": {
      "text/plain": [
       "0.09999999990000001"
      ]
     },
     "execution_count": 16,
     "metadata": {},
     "output_type": "execute_result"
    }
   ],
   "execution_count": 16
  },
  {
   "metadata": {
    "ExecuteTime": {
     "end_time": "2024-07-02T14:58:01.784529Z",
     "start_time": "2024-07-02T14:58:01.781362Z"
    }
   },
   "cell_type": "code",
   "source": [
    "model_fp = './examples/smoldyn/MinE.txt'\n",
    "os.path.exists(model_fp)"
   ],
   "id": "58160c031ca987b0",
   "outputs": [
    {
     "data": {
      "text/plain": [
       "True"
      ]
     },
     "execution_count": 3,
     "metadata": {},
     "output_type": "execute_result"
    }
   ],
   "execution_count": 3
  },
  {
   "metadata": {
    "ExecuteTime": {
     "end_time": "2024-07-02T15:38:07.142588Z",
     "start_time": "2024-07-02T15:38:07.117102Z"
    }
   },
   "cell_type": "code",
   "source": [
    "composition = Composite(\n",
    "    config={\n",
    "        'state': {\n",
    "            'smoldyn': {\n",
    "                '_type': 'process',\n",
    "                'address': 'local:smoldyn-process',\n",
    "                'config': {'model_filepath': model_fp},\n",
    "                'inputs': {\n",
    "                    'species_counts': ['species_counts'],\n",
    "                    'molecules': ['molecules']\n",
    "                },\n",
    "                'outputs': {\n",
    "                    'species_counts': ['species_counts'],\n",
    "                    'molecules': ['molecules']\n",
    "                }\n",
    "            }\n",
    "            \n",
    "        }\n",
    "    }, \n",
    "    core=CORE\n",
    ")"
   ],
   "id": "ad1fcd23a841d873",
   "outputs": [
    {
     "name": "stdout",
     "output_type": "stream",
     "text": [
      "INITAL: {'MinDMinE': 0, 'MinD_ADP': 0, 'MinD_ATP': 4000, 'MinE': 1400}\n"
     ]
    }
   ],
   "execution_count": 4
  },
  {
   "metadata": {
    "ExecuteTime": {
     "end_time": "2024-07-02T15:38:50.674922Z",
     "start_time": "2024-07-02T15:38:50.670206Z"
    }
   },
   "cell_type": "code",
   "source": [
    "sim = composition.state['smoldyn']['instance'].simulation \n",
    "\n",
    "dir(sim)"
   ],
   "id": "777dfd256d08e2bb",
   "outputs": [
    {
     "data": {
      "text/plain": [
       "['__class__',\n",
       " '__delattr__',\n",
       " '__dict__',\n",
       " '__dir__',\n",
       " '__doc__',\n",
       " '__eq__',\n",
       " '__format__',\n",
       " '__ge__',\n",
       " '__getattribute__',\n",
       " '__gt__',\n",
       " '__hash__',\n",
       " '__init__',\n",
       " '__init_subclass__',\n",
       " '__le__',\n",
       " '__lt__',\n",
       " '__module__',\n",
       " '__ne__',\n",
       " '__new__',\n",
       " '__reduce__',\n",
       " '__reduce_ex__',\n",
       " '__repr__',\n",
       " '__setattr__',\n",
       " '__sizeof__',\n",
       " '__str__',\n",
       " '__subclasshook__',\n",
       " '__todisp_text__',\n",
       " 'accuracy',\n",
       " 'addBidirectionalReaction',\n",
       " 'addBox',\n",
       " 'addCommand',\n",
       " 'addCommandStr',\n",
       " 'addCompartment',\n",
       " 'addCompartmentLogic',\n",
       " 'addCompartmentMolecules',\n",
       " 'addCompartmentPoint',\n",
       " 'addCompartmentSurface',\n",
       " 'addCylinder',\n",
       " 'addDisk',\n",
       " 'addGraphics',\n",
       " 'addHemisphere',\n",
       " 'addLattice',\n",
       " 'addLatticeMolecules',\n",
       " 'addLatticePort',\n",
       " 'addLatticeReaction',\n",
       " 'addLatticeSpecies',\n",
       " 'addMolList',\n",
       " 'addMoleculePerBox',\n",
       " 'addMolecules',\n",
       " 'addOutputData',\n",
       " 'addOutputFile',\n",
       " 'addPanel',\n",
       " 'addPanelNeighbor',\n",
       " 'addPartition',\n",
       " 'addPath2D',\n",
       " 'addPort',\n",
       " 'addPortMolecule',\n",
       " 'addReaction',\n",
       " 'addRectangle',\n",
       " 'addSolutionMolecules',\n",
       " 'addSpecies',\n",
       " 'addSphere',\n",
       " 'addSurface',\n",
       " 'addSurfaceMolecules',\n",
       " 'addSurfaceUnboundedEmitter',\n",
       " 'addTextDisplay',\n",
       " 'addTriangle',\n",
       " 'connect',\n",
       " 'count',\n",
       " 'display',\n",
       " 'displaySim',\n",
       " 'dt',\n",
       " 'fromFile',\n",
       " 'getBoundaries',\n",
       " 'getCompartmentIndex',\n",
       " 'getCompartmentIndexNT',\n",
       " 'getCompartmentName',\n",
       " 'getLatticeIndex',\n",
       " 'getLatticeIndexNT',\n",
       " 'getLatticeName',\n",
       " 'getMolListIndex',\n",
       " 'getMolListName',\n",
       " 'getMoleculeCount',\n",
       " 'getOutputData',\n",
       " 'getPanelIndex',\n",
       " 'getPanelIndexNT',\n",
       " 'getPanelName',\n",
       " 'getPortIndex',\n",
       " 'getPortIndexNT',\n",
       " 'getPortMolecules',\n",
       " 'getPortName',\n",
       " 'getReactionIndex',\n",
       " 'getReactionIndexNT',\n",
       " 'getReactionName',\n",
       " 'getSimPtr',\n",
       " 'getSpeciesIndex',\n",
       " 'getSpeciesName',\n",
       " 'getSurfaceIndex',\n",
       " 'getSurfaceIndexNT',\n",
       " 'getSurfaceName',\n",
       " 'loadSimFromFile',\n",
       " 'molListIndexNT',\n",
       " 'quitatend',\n",
       " 'readConfigString',\n",
       " 'run',\n",
       " 'runCommand',\n",
       " 'runSim',\n",
       " 'runSimUntil',\n",
       " 'runTimeStep',\n",
       " 'runUntil',\n",
       " 'seed',\n",
       " 'setBackgroundStyle',\n",
       " 'setBoundaryType',\n",
       " 'setFlags',\n",
       " 'setFrameStyle',\n",
       " 'setGraphics',\n",
       " 'setGraphicsParams',\n",
       " 'setGridStyle',\n",
       " 'setLight',\n",
       " 'setLightParams',\n",
       " 'setMaxMolecules',\n",
       " 'setModelpath',\n",
       " 'setMolList',\n",
       " 'setMoleculeColor',\n",
       " 'setMoleculeSize',\n",
       " 'setMoleculeStyle',\n",
       " 'setOutputFile',\n",
       " 'setOutputFiles',\n",
       " 'setOutputPath',\n",
       " 'setPanelJump',\n",
       " 'setPartitions',\n",
       " 'setRandomSeed',\n",
       " 'setReactionIntersurface',\n",
       " 'setReactionProducts',\n",
       " 'setReactionRate',\n",
       " 'setReactionRegion',\n",
       " 'setSimTimes',\n",
       " 'setSpeciesMobility',\n",
       " 'setSurfaceAction',\n",
       " 'setSurfaceRate',\n",
       " 'setSurfaceSimParams',\n",
       " 'setSurfaceStyle',\n",
       " 'setText',\n",
       " 'setTextStyle',\n",
       " 'setTiff',\n",
       " 'setTiffParams',\n",
       " 'setTimeNow',\n",
       " 'simptr',\n",
       " 'speciesIndexNT',\n",
       " 'start',\n",
       " 'stop',\n",
       " 'updateSim']"
      ]
     },
     "execution_count": 7,
     "metadata": {},
     "output_type": "execute_result"
    }
   ],
   "execution_count": 7
  },
  {
   "metadata": {
    "ExecuteTime": {
     "end_time": "2024-07-02T14:53:25.097599Z",
     "start_time": "2024-07-02T14:53:25.094138Z"
    }
   },
   "cell_type": "code",
   "source": "composition.composition",
   "id": "94864be3874bb762",
   "outputs": [
    {
     "data": {
      "text/plain": [
       "{'global_time': {'_type': 'float',\n",
       "  '_check': 'check_float',\n",
       "  '_apply': 'accumulate',\n",
       "  '_serialize': 'to_string',\n",
       "  '_description': '64-bit floating point precision number',\n",
       "  '_default': '0.0',\n",
       "  '_deserialize': 'deserialize_float',\n",
       "  '_divide': 'divide_float',\n",
       "  '_dataclass': 'dataclass_float',\n",
       "  '_inherit': ['number']}}"
      ]
     },
     "execution_count": 12,
     "metadata": {},
     "output_type": "execute_result"
    }
   ],
   "execution_count": 12
  },
  {
   "metadata": {},
   "cell_type": "code",
   "outputs": [],
   "execution_count": null,
   "source": "composition.run()",
   "id": "86f75e94d0434b54"
  }
 ],
 "metadata": {
  "kernelspec": {
   "display_name": "Python 3",
   "language": "python",
   "name": "python3"
  },
  "language_info": {
   "codemirror_mode": {
    "name": "ipython",
    "version": 2
   },
   "file_extension": ".py",
   "mimetype": "text/x-python",
   "name": "python",
   "nbconvert_exporter": "python",
   "pygments_lexer": "ipython2",
   "version": "2.7.6"
  }
 },
 "nbformat": 4,
 "nbformat_minor": 5
}
