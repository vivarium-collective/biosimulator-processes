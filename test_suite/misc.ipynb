{
 "cells": [
  {
   "metadata": {
    "ExecuteTime": {
     "end_time": "2024-07-02T16:16:07.436262Z",
     "start_time": "2024-07-02T16:16:05.643755Z"
    }
   },
   "cell_type": "code",
   "source": [
    "import sys\n",
    "import os\n",
    "\n",
    "import numpy as np\n",
    "from process_bigraph import Composite\n",
    "\n",
    "from biosimulator_processes import CORE\n",
    "\n",
    "\n",
    "sys.path.insert(0, '..')"
   ],
   "id": "4215ba488343c2d8",
   "outputs": [
    {
     "name": "stdout",
     "output_type": "stream",
     "text": [
      "Available processes:\n",
      "[ 'console-emitter',\n",
      "  'ram-emitter',\n",
      "  'composite',\n",
      "  'cobra-process',\n",
      "  'copasi-process',\n",
      "  'tellurium-process',\n",
      "  'utc-amici',\n",
      "  'utc-copasi',\n",
      "  'utc-tellurium',\n",
      "  'smoldyn-process',\n",
      "  'copasi-step',\n",
      "  'tellurium-step',\n",
      "  'amici-step',\n",
      "  'plotter',\n",
      "  'plotter2d',\n",
      "  'utc-comparator',\n",
      "  'simple-neuron',\n",
      "  'simple-neuron-network']\n"
     ]
    }
   ],
   "execution_count": 1
  },
  {
   "metadata": {
    "ExecuteTime": {
     "end_time": "2024-07-02T16:16:07.441484Z",
     "start_time": "2024-07-02T16:16:07.437574Z"
    }
   },
   "cell_type": "code",
   "source": [
    "model_fp = './examples/smoldyn/MinE.txt'\n",
    "os.path.exists(model_fp)"
   ],
   "id": "58160c031ca987b0",
   "outputs": [
    {
     "data": {
      "text/plain": [
       "True"
      ]
     },
     "execution_count": 2,
     "metadata": {},
     "output_type": "execute_result"
    }
   ],
   "execution_count": 2
  },
  {
   "metadata": {
    "ExecuteTime": {
     "end_time": "2024-07-02T16:16:07.458280Z",
     "start_time": "2024-07-02T16:16:07.442279Z"
    }
   },
   "cell_type": "code",
   "source": [
    "composition = Composite(\n",
    "    config={\n",
    "        'state': {\n",
    "            'smoldyn': {\n",
    "                '_type': 'process',\n",
    "                'address': 'local:smoldyn-process',\n",
    "                'config': {'model_filepath': model_fp},\n",
    "                'inputs': {\n",
    "                    'species_counts': ['species_counts'],\n",
    "                    'molecules': ['molecules']\n",
    "                },\n",
    "                'outputs': {\n",
    "                    'species_counts': ['species_counts'],\n",
    "                    'molecules': ['molecules']\n",
    "                }\n",
    "            }\n",
    "            \n",
    "        }\n",
    "    }, \n",
    "    core=CORE\n",
    ")"
   ],
   "id": "ad1fcd23a841d873",
   "outputs": [
    {
     "name": "stdout",
     "output_type": "stream",
     "text": [
      "INITAL: {'MinDMinE': 0, 'MinD_ADP': 0, 'MinD_ATP': 4000, 'MinE': 1400}\n"
     ]
    }
   ],
   "execution_count": 3
  },
  {
   "metadata": {
    "ExecuteTime": {
     "end_time": "2024-07-02T16:16:07.461104Z",
     "start_time": "2024-07-02T16:16:07.458947Z"
    }
   },
   "cell_type": "code",
   "source": [
    "mols = composition.state['molecules']\n",
    "counts = composition.state['species_counts']\n",
    "\n",
    "counts"
   ],
   "id": "94864be3874bb762",
   "outputs": [
    {
     "data": {
      "text/plain": [
       "{'MinDMinE': 0, 'MinD_ADP': 0, 'MinD_ATP': 4000, 'MinE': 1400}"
      ]
     },
     "execution_count": 4,
     "metadata": {},
     "output_type": "execute_result"
    }
   ],
   "execution_count": 4
  },
  {
   "metadata": {
    "jupyter": {
     "is_executing": true
    }
   },
   "cell_type": "code",
   "source": "composition.run(10)",
   "id": "86f75e94d0434b54",
   "outputs": [],
   "execution_count": null
  },
  {
   "metadata": {
    "jupyter": {
     "is_executing": true
    }
   },
   "cell_type": "code",
   "source": "",
   "id": "f1f8413b96e35730",
   "outputs": [],
   "execution_count": null
  }
 ],
 "metadata": {
  "kernelspec": {
   "display_name": "Python 3",
   "language": "python",
   "name": "python3"
  },
  "language_info": {
   "codemirror_mode": {
    "name": "ipython",
    "version": 2
   },
   "file_extension": ".py",
   "mimetype": "text/x-python",
   "name": "python",
   "nbconvert_exporter": "python",
   "pygments_lexer": "ipython2",
   "version": "2.7.6"
  }
 },
 "nbformat": 4,
 "nbformat_minor": 5
}
