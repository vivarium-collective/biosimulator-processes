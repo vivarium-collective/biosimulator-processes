{
 "cells": [
  {
   "metadata": {},
   "cell_type": "markdown",
   "source": "#### Performing the Standard Verification Routine with the Caravagna-J-Theor-Biol-2010 publication.",
   "id": "33d5d54c09226235"
  },
  {
   "metadata": {
    "ExecuteTime": {
     "end_time": "2024-05-28T23:06:37.792523Z",
     "start_time": "2024-05-28T23:06:36.302992Z"
    }
   },
   "cell_type": "code",
   "source": [
    "import sys\n",
    "import os\n",
    "\n",
    "import numpy as np\n",
    "from process_bigraph import Composite\n",
    "\n",
    "from biosimulator_processes.io import read_report_outputs\n",
    "from biosimulator_processes.helpers import plot_ode_output_data\n",
    "\n",
    "\n",
    "sys.path.insert(0, '..')"
   ],
   "id": "4215ba488343c2d8",
   "execution_count": 1,
   "outputs": []
  },
  {
   "cell_type": "code",
   "id": "initial_id",
   "metadata": {
    "collapsed": true,
    "ExecuteTime": {
     "end_time": "2024-05-28T23:06:37.795595Z",
     "start_time": "2024-05-28T23:06:37.793610Z"
    }
   },
   "source": [
    "omex_dir = '../examples/sbml-core/Caravagna-J-Theor-Biol-2010-tumor-suppressive-oscillations'\n",
    "os.path.exists(omex_dir)\n",
    "model_fp = os.path.join(omex_dir, 'Caravagna2010.xml')"
   ],
   "execution_count": 2,
   "outputs": []
  },
  {
   "metadata": {
    "ExecuteTime": {
     "end_time": "2024-05-28T23:06:38.568576Z",
     "start_time": "2024-05-28T23:06:38.562406Z"
    }
   },
   "cell_type": "code",
   "source": [
    "# read \"ground truth\" output aka that which is PUBLISHED as the omex dir (including reports). Publication itself is a Validation Phase, according to the Standard Validation Routine\n",
    "\n",
    "published_outputs = read_report_outputs(os.path.join(omex_dir, 'reports.h5'))"
   ],
   "id": "2692f5f88b570581",
   "execution_count": 3,
   "outputs": []
  },
  {
   "metadata": {
    "ExecuteTime": {
     "end_time": "2024-05-28T23:06:39.613312Z",
     "start_time": "2024-05-28T23:06:39.607674Z"
    }
   },
   "cell_type": "code",
   "source": [
    "# published outputs are easily serializable\n",
    "\n",
    "published_outputs.to_dict()"
   ],
   "id": "907444b06de6ac2e",
   "execution_count": 4,
   "outputs": []
  },
  {
   "metadata": {
    "ExecuteTime": {
     "end_time": "2024-05-28T23:06:39.934388Z",
     "start_time": "2024-05-28T23:06:39.932037Z"
    }
   },
   "cell_type": "code",
   "source": [
    "class Workflow(Composite):\n",
    "    # TODO: finish this.\n",
    "    def __init__(self, config=None, core=None):\n",
    "        super().__init__(config, core)"
   ],
   "id": "d42f980af223a2c4",
   "execution_count": 5,
   "outputs": []
  },
  {
   "metadata": {
    "ExecuteTime": {
     "end_time": "2024-05-28T23:06:40.613946Z",
     "start_time": "2024-05-28T23:06:40.611206Z"
    }
   },
   "cell_type": "code",
   "source": "from biosimulator_processes.steps.ode_simulation import AmiciStep",
   "id": "70be3dfc56ede91",
   "execution_count": 6,
   "outputs": []
  },
  {
   "metadata": {
    "ExecuteTime": {
     "end_time": "2024-05-28T23:06:59.246653Z",
     "start_time": "2024-05-28T23:06:42.907106Z"
    }
   },
   "cell_type": "code",
   "source": "amici_step = AmiciStep(archive_filepath=omex_dir, sbml_filepath=model_fp, model_dir=os.getcwd())",
   "id": "ce954ee6b912eef8",
   "execution_count": 7,
   "outputs": []
  },
  {
   "metadata": {
    "ExecuteTime": {
     "end_time": "2024-05-28T23:06:59.264541Z",
     "start_time": "2024-05-28T23:06:59.247638Z"
    }
   },
   "cell_type": "code",
   "source": "amici_results = amici_step.update({})",
   "id": "d9300fd2dc182e0c",
   "execution_count": 8,
   "outputs": []
  },
  {
   "metadata": {
    "ExecuteTime": {
     "end_time": "2024-05-28T23:06:59.267624Z",
     "start_time": "2024-05-28T23:06:59.265033Z"
    }
   },
   "cell_type": "code",
   "source": "amici_results",
   "id": "199cb02c4ded2cda",
   "execution_count": 9,
   "outputs": []
  },
  {
   "metadata": {
    "ExecuteTime": {
     "end_time": "2024-05-28T23:06:59.286963Z",
     "start_time": "2024-05-28T23:06:59.268885Z"
    }
   },
   "cell_type": "code",
   "source": [
    "from biosimulator_processes.steps.ode_simulation import CopasiStep \n",
    "\n",
    "copasi_step = CopasiStep(archive_filepath=omex_dir)"
   ],
   "id": "5767241820a9df4c",
   "execution_count": 10,
   "outputs": []
  },
  {
   "metadata": {
    "ExecuteTime": {
     "end_time": "2024-05-28T23:06:59.299488Z",
     "start_time": "2024-05-28T23:06:59.287619Z"
    }
   },
   "cell_type": "code",
   "source": "copasi_results = copasi_step.update({})",
   "id": "d2a2373d6d606841",
   "execution_count": 11,
   "outputs": []
  },
  {
   "metadata": {
    "ExecuteTime": {
     "end_time": "2024-05-28T23:06:59.302259Z",
     "start_time": "2024-05-28T23:06:59.300012Z"
    }
   },
   "cell_type": "code",
   "source": "copasi_results",
   "id": "b6edb63eb12420d0",
   "execution_count": 12,
   "outputs": []
  },
  {
   "metadata": {
    "ExecuteTime": {
     "end_time": "2024-05-28T23:06:59.447337Z",
     "start_time": "2024-05-28T23:06:59.302889Z"
    }
   },
   "cell_type": "code",
   "source": "plot_ode_output_data(amici_results, simulator_name='Amici')",
   "id": "469c54c1119bdb39",
   "execution_count": 13,
   "outputs": []
  },
  {
   "metadata": {
    "ExecuteTime": {
     "end_time": "2024-05-28T23:06:59.586182Z",
     "start_time": "2024-05-28T23:06:59.449481Z"
    }
   },
   "cell_type": "code",
   "source": "plot_ode_output_data(copasi_results, simulator_name='COPASI')",
   "id": "70c0244b6c7f9a4e",
   "execution_count": 14,
   "outputs": []
  },
  {
   "metadata": {
    "ExecuteTime": {
     "end_time": "2024-05-28T23:04:52.617741Z",
     "start_time": "2024-05-28T23:04:52.615886Z"
    }
   },
   "cell_type": "code",
   "source": "",
   "id": "e268f9bb90a1a3eb",
   "execution_count": 16,
   "outputs": []
  }
 ],
 "metadata": {
  "kernelspec": {
   "display_name": "Python 3",
   "language": "python",
   "name": "python3"
  },
  "language_info": {
   "codemirror_mode": {
    "name": "ipython",
    "version": 2
   },
   "file_extension": ".py",
   "mimetype": "text/x-python",
   "name": "python",
   "nbconvert_exporter": "python",
   "pygments_lexer": "ipython2",
   "version": "2.7.6"
  }
 },
 "nbformat": 4,
 "nbformat_minor": 5
}
