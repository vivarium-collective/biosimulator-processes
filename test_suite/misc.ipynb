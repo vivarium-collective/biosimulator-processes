{
 "cells": [
  {
   "metadata": {
    "ExecuteTime": {
     "end_time": "2024-07-02T16:12:56.778837Z",
     "start_time": "2024-07-02T16:12:54.956919Z"
    }
   },
   "cell_type": "code",
   "source": [
    "import sys\n",
    "import os\n",
    "\n",
    "import numpy as np\n",
    "from process_bigraph import Composite\n",
    "\n",
    "from biosimulator_processes import CORE\n",
    "\n",
    "\n",
    "sys.path.insert(0, '..')"
   ],
   "id": "4215ba488343c2d8",
   "outputs": [
    {
     "name": "stdout",
     "output_type": "stream",
     "text": [
      "Available processes:\n",
      "[ 'console-emitter',\n",
      "  'ram-emitter',\n",
      "  'composite',\n",
      "  'cobra-process',\n",
      "  'copasi-process',\n",
      "  'tellurium-process',\n",
      "  'utc-amici',\n",
      "  'utc-copasi',\n",
      "  'utc-tellurium',\n",
      "  'smoldyn-process',\n",
      "  'copasi-step',\n",
      "  'tellurium-step',\n",
      "  'amici-step',\n",
      "  'plotter',\n",
      "  'plotter2d',\n",
      "  'utc-comparator',\n",
      "  'simple-neuron',\n",
      "  'simple-neuron-network']\n"
     ]
    }
   ],
   "execution_count": 1
  },
  {
   "metadata": {
    "ExecuteTime": {
     "end_time": "2024-07-02T16:12:56.783641Z",
     "start_time": "2024-07-02T16:12:56.779990Z"
    }
   },
   "cell_type": "code",
   "source": [
    "model_fp = './examples/smoldyn/MinE.txt'\n",
    "os.path.exists(model_fp)"
   ],
   "id": "58160c031ca987b0",
   "outputs": [
    {
     "data": {
      "text/plain": [
       "True"
      ]
     },
     "execution_count": 2,
     "metadata": {},
     "output_type": "execute_result"
    }
   ],
   "execution_count": 2
  },
  {
   "metadata": {
    "ExecuteTime": {
     "end_time": "2024-07-02T16:12:56.799682Z",
     "start_time": "2024-07-02T16:12:56.784298Z"
    }
   },
   "cell_type": "code",
   "source": [
    "composition = Composite(\n",
    "    config={\n",
    "        'state': {\n",
    "            'smoldyn': {\n",
    "                '_type': 'process',\n",
    "                'address': 'local:smoldyn-process',\n",
    "                'config': {'model_filepath': model_fp},\n",
    "                'inputs': {\n",
    "                    'species_counts': ['species_counts'],\n",
    "                    'molecules': ['molecules']\n",
    "                },\n",
    "                'outputs': {\n",
    "                    'species_counts': ['species_counts'],\n",
    "                    'molecules': ['molecules']\n",
    "                }\n",
    "            }\n",
    "            \n",
    "        }\n",
    "    }, \n",
    "    core=CORE\n",
    ")"
   ],
   "id": "ad1fcd23a841d873",
   "outputs": [
    {
     "name": "stdout",
     "output_type": "stream",
     "text": [
      "INITAL: {'MinDMinE': 0, 'MinD_ADP': 0, 'MinD_ATP': 4000, 'MinE': 1400}\n"
     ]
    }
   ],
   "execution_count": 3
  },
  {
   "metadata": {
    "ExecuteTime": {
     "end_time": "2024-07-02T16:12:57.463744Z",
     "start_time": "2024-07-02T16:12:57.458915Z"
    }
   },
   "cell_type": "code",
   "source": [
    "mols = composition.state['molecules']\n",
    "counts = composition.state['species_counts']\n",
    "\n",
    "counts"
   ],
   "id": "94864be3874bb762",
   "outputs": [
    {
     "data": {
      "text/plain": [
       "{'MinDMinE': 0, 'MinD_ADP': 0, 'MinD_ATP': 4000, 'MinE': 1400}"
      ]
     },
     "execution_count": 4,
     "metadata": {},
     "output_type": "execute_result"
    }
   ],
   "execution_count": 4
  },
  {
   "metadata": {
    "ExecuteTime": {
     "end_time": "2024-07-02T16:12:59.944161Z",
     "start_time": "2024-07-02T16:12:59.676493Z"
    }
   },
   "cell_type": "code",
   "source": "composition.run(10)",
   "id": "86f75e94d0434b54",
   "outputs": [
    {
     "ename": "ValueError",
     "evalue": "too many values to unpack (expected 3)",
     "output_type": "error",
     "traceback": [
      "\u001B[0;31m---------------------------------------------------------------------------\u001B[0m",
      "\u001B[0;31mValueError\u001B[0m                                Traceback (most recent call last)",
      "Cell \u001B[0;32mIn[5], line 1\u001B[0m\n\u001B[0;32m----> 1\u001B[0m \u001B[43mcomposition\u001B[49m\u001B[38;5;241;43m.\u001B[39;49m\u001B[43mrun\u001B[49m\u001B[43m(\u001B[49m\u001B[38;5;241;43m10\u001B[39;49m\u001B[43m)\u001B[49m\n",
      "File \u001B[0;32m~/Library/Caches/pypoetry/virtualenvs/biosimulator-processes-JaN5cQMh-py3.10/lib/python3.10/site-packages/process_bigraph/composite.py:947\u001B[0m, in \u001B[0;36mComposite.run\u001B[0;34m(self, interval, force_complete)\u001B[0m\n\u001B[1;32m    945\u001B[0m \u001B[38;5;28;01mfor\u001B[39;00m path \u001B[38;5;129;01min\u001B[39;00m \u001B[38;5;28mself\u001B[39m\u001B[38;5;241m.\u001B[39mprocess_paths:\n\u001B[1;32m    946\u001B[0m     process \u001B[38;5;241m=\u001B[39m get_path(\u001B[38;5;28mself\u001B[39m\u001B[38;5;241m.\u001B[39mstate, path)\n\u001B[0;32m--> 947\u001B[0m     full_step \u001B[38;5;241m=\u001B[39m \u001B[38;5;28;43mself\u001B[39;49m\u001B[38;5;241;43m.\u001B[39;49m\u001B[43mrun_process\u001B[49m\u001B[43m(\u001B[49m\n\u001B[1;32m    948\u001B[0m \u001B[43m        \u001B[49m\u001B[43mpath\u001B[49m\u001B[43m,\u001B[49m\n\u001B[1;32m    949\u001B[0m \u001B[43m        \u001B[49m\u001B[43mprocess\u001B[49m\u001B[43m,\u001B[49m\n\u001B[1;32m    950\u001B[0m \u001B[43m        \u001B[49m\u001B[43mend_time\u001B[49m\u001B[43m,\u001B[49m\n\u001B[1;32m    951\u001B[0m \u001B[43m        \u001B[49m\u001B[43mfull_step\u001B[49m\u001B[43m,\u001B[49m\n\u001B[1;32m    952\u001B[0m \u001B[43m        \u001B[49m\u001B[43mforce_complete\u001B[49m\u001B[43m)\u001B[49m\n\u001B[1;32m    954\u001B[0m \u001B[38;5;66;03m# apply updates based on process times in self.front\u001B[39;00m\n\u001B[1;32m    955\u001B[0m \u001B[38;5;28;01mif\u001B[39;00m full_step \u001B[38;5;241m==\u001B[39m math\u001B[38;5;241m.\u001B[39minf:\n\u001B[1;32m    956\u001B[0m     \u001B[38;5;66;03m# no processes ran, jump to next process\u001B[39;00m\n",
      "File \u001B[0;32m~/Library/Caches/pypoetry/virtualenvs/biosimulator-processes-JaN5cQMh-py3.10/lib/python3.10/site-packages/process_bigraph/composite.py:845\u001B[0m, in \u001B[0;36mComposite.run_process\u001B[0;34m(self, path, process, end_time, full_step, force_complete)\u001B[0m\n\u001B[1;32m    842\u001B[0m     full_step \u001B[38;5;241m=\u001B[39m interval\n\u001B[1;32m    844\u001B[0m \u001B[38;5;28;01mif\u001B[39;00m future \u001B[38;5;241m<\u001B[39m\u001B[38;5;241m=\u001B[39m end_time:\n\u001B[0;32m--> 845\u001B[0m     update \u001B[38;5;241m=\u001B[39m \u001B[38;5;28;43mself\u001B[39;49m\u001B[38;5;241;43m.\u001B[39;49m\u001B[43mprocess_update\u001B[49m\u001B[43m(\u001B[49m\n\u001B[1;32m    846\u001B[0m \u001B[43m        \u001B[49m\u001B[43mpath\u001B[49m\u001B[43m,\u001B[49m\n\u001B[1;32m    847\u001B[0m \u001B[43m        \u001B[49m\u001B[43mprocess\u001B[49m\u001B[43m,\u001B[49m\n\u001B[1;32m    848\u001B[0m \u001B[43m        \u001B[49m\u001B[43mstate\u001B[49m\u001B[43m,\u001B[49m\n\u001B[1;32m    849\u001B[0m \u001B[43m        \u001B[49m\u001B[43mprocess_interval\u001B[49m\n\u001B[1;32m    850\u001B[0m \u001B[43m    \u001B[49m\u001B[43m)\u001B[49m\n\u001B[1;32m    852\u001B[0m     \u001B[38;5;66;03m# update front, to be applied at its projected time\u001B[39;00m\n\u001B[1;32m    853\u001B[0m     \u001B[38;5;28mself\u001B[39m\u001B[38;5;241m.\u001B[39mfront[path][\u001B[38;5;124m'\u001B[39m\u001B[38;5;124mtime\u001B[39m\u001B[38;5;124m'\u001B[39m] \u001B[38;5;241m=\u001B[39m future\n",
      "File \u001B[0;32m~/Library/Caches/pypoetry/virtualenvs/biosimulator-processes-JaN5cQMh-py3.10/lib/python3.10/site-packages/process_bigraph/composite.py:787\u001B[0m, in \u001B[0;36mComposite.process_update\u001B[0;34m(self, path, process, states, interval, ports_key)\u001B[0m\n\u001B[1;32m    760\u001B[0m \u001B[38;5;28;01mdef\u001B[39;00m \u001B[38;5;21mprocess_update\u001B[39m(\n\u001B[1;32m    761\u001B[0m         \u001B[38;5;28mself\u001B[39m,\n\u001B[1;32m    762\u001B[0m         path,\n\u001B[0;32m   (...)\u001B[0m\n\u001B[1;32m    765\u001B[0m         interval,\n\u001B[1;32m    766\u001B[0m         ports_key\u001B[38;5;241m=\u001B[39m\u001B[38;5;124m'\u001B[39m\u001B[38;5;124moutputs\u001B[39m\u001B[38;5;124m'\u001B[39m):\n\u001B[1;32m    768\u001B[0m \u001B[38;5;250m    \u001B[39m\u001B[38;5;124;03m\"\"\"Start generating a process's update.\u001B[39;00m\n\u001B[1;32m    769\u001B[0m \n\u001B[1;32m    770\u001B[0m \u001B[38;5;124;03m    This function is similar to :py:meth:`_invoke_process` except in\u001B[39;00m\n\u001B[0;32m   (...)\u001B[0m\n\u001B[1;32m    785\u001B[0m \u001B[38;5;124;03m        ``store``.\u001B[39;00m\n\u001B[1;32m    786\u001B[0m \u001B[38;5;124;03m    \"\"\"\u001B[39;00m\n\u001B[0;32m--> 787\u001B[0m     update \u001B[38;5;241m=\u001B[39m \u001B[43mprocess\u001B[49m\u001B[43m[\u001B[49m\u001B[38;5;124;43m'\u001B[39;49m\u001B[38;5;124;43minstance\u001B[39;49m\u001B[38;5;124;43m'\u001B[39;49m\u001B[43m]\u001B[49m\u001B[38;5;241;43m.\u001B[39;49m\u001B[43minvoke\u001B[49m\u001B[43m(\u001B[49m\u001B[43mstates\u001B[49m\u001B[43m,\u001B[49m\u001B[43m \u001B[49m\u001B[43minterval\u001B[49m\u001B[43m)\u001B[49m\n\u001B[1;32m    789\u001B[0m     \u001B[38;5;28;01mdef\u001B[39;00m \u001B[38;5;21mdefer_project\u001B[39m(update, args):\n\u001B[1;32m    790\u001B[0m         schema, state, path \u001B[38;5;241m=\u001B[39m args\n",
      "File \u001B[0;32m~/Library/Caches/pypoetry/virtualenvs/biosimulator-processes-JaN5cQMh-py3.10/lib/python3.10/site-packages/process_bigraph/composite.py:339\u001B[0m, in \u001B[0;36mProcess.invoke\u001B[0;34m(self, state, interval)\u001B[0m\n\u001B[1;32m    338\u001B[0m \u001B[38;5;28;01mdef\u001B[39;00m \u001B[38;5;21minvoke\u001B[39m(\u001B[38;5;28mself\u001B[39m, state, interval):\n\u001B[0;32m--> 339\u001B[0m     update \u001B[38;5;241m=\u001B[39m \u001B[38;5;28;43mself\u001B[39;49m\u001B[38;5;241;43m.\u001B[39;49m\u001B[43mupdate\u001B[49m\u001B[43m(\u001B[49m\u001B[43mstate\u001B[49m\u001B[43m,\u001B[49m\u001B[43m \u001B[49m\u001B[43minterval\u001B[49m\u001B[43m)\u001B[49m\n\u001B[1;32m    340\u001B[0m     sync \u001B[38;5;241m=\u001B[39m SyncUpdate(update)\n\u001B[1;32m    341\u001B[0m     \u001B[38;5;28;01mreturn\u001B[39;00m sync\n",
      "File \u001B[0;32m~/Desktop/repos/biosimulator-processes/biosimulator_processes/processes/smoldyn_process.py:346\u001B[0m, in \u001B[0;36mSmoldynProcess.update\u001B[0;34m(self, inputs, interval)\u001B[0m\n\u001B[1;32m    339\u001B[0m     \u001B[38;5;28mself\u001B[39m\u001B[38;5;241m.\u001B[39mset_uniform(\n\u001B[1;32m    340\u001B[0m         species_name\u001B[38;5;241m=\u001B[39mname,\n\u001B[1;32m    341\u001B[0m         count\u001B[38;5;241m=\u001B[39minputs[\u001B[38;5;124m'\u001B[39m\u001B[38;5;124mspecies_counts\u001B[39m\u001B[38;5;124m'\u001B[39m][name],\n\u001B[1;32m    342\u001B[0m         kill_mol\u001B[38;5;241m=\u001B[39m\u001B[38;5;28;01mFalse\u001B[39;00m\n\u001B[1;32m    343\u001B[0m     )\n\u001B[1;32m    345\u001B[0m \u001B[38;5;66;03m# run the simulation for a given interval\u001B[39;00m\n\u001B[0;32m--> 346\u001B[0m \u001B[38;5;28;43mself\u001B[39;49m\u001B[38;5;241;43m.\u001B[39;49m\u001B[43msimulation\u001B[49m\u001B[38;5;241;43m.\u001B[39;49m\u001B[43mrun\u001B[49m\u001B[43m(\u001B[49m\n\u001B[1;32m    347\u001B[0m \u001B[43m    \u001B[49m\u001B[43mstop\u001B[49m\u001B[38;5;241;43m=\u001B[39;49m\u001B[43minterval\u001B[49m\u001B[43m,\u001B[49m\n\u001B[1;32m    348\u001B[0m \u001B[43m    \u001B[49m\u001B[43mdt\u001B[49m\u001B[38;5;241;43m=\u001B[39;49m\u001B[38;5;28;43mself\u001B[39;49m\u001B[38;5;241;43m.\u001B[39;49m\u001B[43msimulation\u001B[49m\u001B[38;5;241;43m.\u001B[39;49m\u001B[43mdt\u001B[49m\n\u001B[1;32m    349\u001B[0m \u001B[43m\u001B[49m\u001B[43m)\u001B[49m\n\u001B[1;32m    351\u001B[0m \u001B[38;5;66;03m# get the counts data, clear the buffer\u001B[39;00m\n\u001B[1;32m    352\u001B[0m counts_data \u001B[38;5;241m=\u001B[39m \u001B[38;5;28mself\u001B[39m\u001B[38;5;241m.\u001B[39msimulation\u001B[38;5;241m.\u001B[39mgetOutputData(\u001B[38;5;124m'\u001B[39m\u001B[38;5;124mspecies_counts\u001B[39m\u001B[38;5;124m'\u001B[39m)\n",
      "File \u001B[0;32m~/Library/Caches/pypoetry/virtualenvs/biosimulator-processes-JaN5cQMh-py3.10/lib/python3.10/site-packages/smoldyn/smoldyn.py:1994\u001B[0m, in \u001B[0;36mSimulation.run\u001B[0;34m(self, stop, dt, start, display, overwrite, accuracy, log_level, quit_at_end)\u001B[0m\n\u001B[1;32m   1991\u001B[0m \u001B[38;5;28;01massert\u001B[39;00m \u001B[38;5;28mself\u001B[39m\u001B[38;5;241m.\u001B[39mdt \u001B[38;5;241m>\u001B[39m \u001B[38;5;241m0.0\u001B[39m, \u001B[38;5;124mf\u001B[39m\u001B[38;5;124m\"\u001B[39m\u001B[38;5;124mdt can\u001B[39m\u001B[38;5;124m'\u001B[39m\u001B[38;5;124mt be <= 0.0! dt=\u001B[39m\u001B[38;5;132;01m{\u001B[39;00m\u001B[38;5;28mself\u001B[39m\u001B[38;5;241m.\u001B[39mdt\u001B[38;5;132;01m}\u001B[39;00m\u001B[38;5;124m\"\u001B[39m\n\u001B[1;32m   1992\u001B[0m \u001B[38;5;28;01massert\u001B[39;00m \u001B[38;5;28mself\u001B[39m\u001B[38;5;241m.\u001B[39mstop \u001B[38;5;241m>\u001B[39m \u001B[38;5;241m0.0\u001B[39m, \u001B[38;5;124mf\u001B[39m\u001B[38;5;124m\"\u001B[39m\u001B[38;5;124mstop time can\u001B[39m\u001B[38;5;124m'\u001B[39m\u001B[38;5;124mt be <= 0.0! stop=\u001B[39m\u001B[38;5;132;01m{\u001B[39;00m\u001B[38;5;28mself\u001B[39m\u001B[38;5;241m.\u001B[39mstop\u001B[38;5;132;01m}\u001B[39;00m\u001B[38;5;124m\"\u001B[39m\n\u001B[0;32m-> 1994\u001B[0m k \u001B[38;5;241m=\u001B[39m \u001B[38;5;28;43msuper\u001B[39;49m\u001B[43m(\u001B[49m\u001B[43m)\u001B[49m\u001B[38;5;241;43m.\u001B[39;49m\u001B[43mrunSim\u001B[49m\u001B[43m(\u001B[49m\u001B[38;5;28;43mself\u001B[39;49m\u001B[38;5;241;43m.\u001B[39;49m\u001B[43mstop\u001B[49m\u001B[43m,\u001B[49m\u001B[43m \u001B[49m\u001B[38;5;28;43mself\u001B[39;49m\u001B[38;5;241;43m.\u001B[39;49m\u001B[43mdt\u001B[49m\u001B[43m,\u001B[49m\u001B[43m \u001B[49m\u001B[43mdisplay\u001B[49m\u001B[43m,\u001B[49m\u001B[43m \u001B[49m\u001B[43moverwrite\u001B[49m\u001B[43m)\u001B[49m\n\u001B[1;32m   1995\u001B[0m \u001B[38;5;28;01massert\u001B[39;00m _smoldyn\u001B[38;5;241m.\u001B[39mErrorCode\u001B[38;5;241m.\u001B[39mok \u001B[38;5;241m==\u001B[39m k, \u001B[38;5;124mf\u001B[39m\u001B[38;5;124m\"\u001B[39m\u001B[38;5;124mExpected ErrorCode.ok, got \u001B[39m\u001B[38;5;132;01m{\u001B[39;00mk\u001B[38;5;132;01m}\u001B[39;00m\u001B[38;5;124m\"\u001B[39m\n",
      "File \u001B[0;32m~/Desktop/repos/biosimulator-processes/biosimulator_processes/processes/smoldyn_process.py:278\u001B[0m, in \u001B[0;36mSmoldynProcess._new_difc\u001B[0;34m(self, t, args)\u001B[0m\n\u001B[1;32m    277\u001B[0m \u001B[38;5;28;01mdef\u001B[39;00m \u001B[38;5;21m_new_difc\u001B[39m(\u001B[38;5;28mself\u001B[39m, t, args):\n\u001B[0;32m--> 278\u001B[0m     x, y, counts \u001B[38;5;241m=\u001B[39m args\n\u001B[1;32m    279\u001B[0m     \u001B[38;5;66;03m# TODO: extract real volume\u001B[39;00m\n\u001B[1;32m    280\u001B[0m     minD_ATP_count \u001B[38;5;241m=\u001B[39m counts[\u001B[38;5;124m'\u001B[39m\u001B[38;5;124mMinD_ATP\u001B[39m\u001B[38;5;124m'\u001B[39m]\n",
      "\u001B[0;31mValueError\u001B[0m: too many values to unpack (expected 3)"
     ]
    }
   ],
   "execution_count": 5
  },
  {
   "metadata": {},
   "cell_type": "code",
   "outputs": [],
   "execution_count": null,
   "source": "",
   "id": "f1f8413b96e35730"
  }
 ],
 "metadata": {
  "kernelspec": {
   "display_name": "Python 3",
   "language": "python",
   "name": "python3"
  },
  "language_info": {
   "codemirror_mode": {
    "name": "ipython",
    "version": 2
   },
   "file_extension": ".py",
   "mimetype": "text/x-python",
   "name": "python",
   "nbconvert_exporter": "python",
   "pygments_lexer": "ipython2",
   "version": "2.7.6"
  }
 },
 "nbformat": 4,
 "nbformat_minor": 5
}
