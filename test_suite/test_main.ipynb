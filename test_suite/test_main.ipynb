{
 "cells": [
  {
   "cell_type": "code",
   "metadata": {
    "ExecuteTime": {
     "end_time": "2024-09-09T19:46:57.177373Z",
     "start_time": "2024-09-09T19:46:53.349467Z"
    }
   },
   "source": [
    "from process_bigraph import Composite\n",
    "\n",
    "from biosimulators_processes import CORE\n",
    "from biosimulators_processes.steps.bio_compose import MongoDatabaseEmitter\n",
    "from process_bigraph.composite import RAMEmitter\n",
    "from biosimulators_processes.processes.copasi_process import CopasiProcess"
   ],
   "outputs": [
    {
     "name": "stdout",
     "output_type": "stream",
     "text": [
      "Smoldyn is not properly installed in this environment and thus its process implementation cannot be registered. Please consult smoldyn documentation.\n",
      "\n",
      "PLEASE NOTE: Smoldyn is not correctly installed on your system which prevents you from using the SmoldynProcess. Please refer to the README for further information on installing Smoldyn.\n"
     ]
    }
   ],
   "execution_count": 1
  },
  {
   "cell_type": "code",
   "metadata": {
    "ExecuteTime": {
     "end_time": "2024-09-09T19:41:56.426932Z",
     "start_time": "2024-09-09T19:41:56.413484Z"
    }
   },
   "source": [
    "uri = 'mongodb://localhost:27017/?retryWrites=true&w=majority&appName=biosimulators-processes'\n",
    "emitter = MongoDatabaseEmitter(config={'connection_uri': uri}, core=CORE)\n",
    "ram = RAMEmitter(config={}, core=CORE)\n",
    "ram.inputs()"
   ],
   "outputs": [
    {
     "data": {
      "text/plain": [
       "{}"
      ]
     },
     "execution_count": 2,
     "metadata": {},
     "output_type": "execute_result"
    }
   ],
   "execution_count": 2
  },
  {
   "cell_type": "code",
   "metadata": {
    "ExecuteTime": {
     "end_time": "2024-09-09T19:46:58.609152Z",
     "start_time": "2024-09-09T19:46:58.605950Z"
    }
   },
   "source": [
    "model_fp = '/Users/alexanderpatrie/Desktop/repos/biosimulator-processes/test_suite/examples/sbml-core/Elowitz-Nature-2000-Repressilator/BIOMD0000000012_url.xml'"
   ],
   "outputs": [],
   "execution_count": 2
  },
  {
   "cell_type": "code",
   "metadata": {
    "ExecuteTime": {
     "end_time": "2024-09-09T19:46:59.209847Z",
     "start_time": "2024-09-09T19:46:59.132176Z"
    }
   },
   "source": [
    "doc = {\n",
    "    'copasi': {\n",
    "        '_type': 'process',\n",
    "        'address': 'local:copasi-process',\n",
    "        'config': {\n",
    "            'model': {\n",
    "                'model_source': model_fp\n",
    "            }\n",
    "        },\n",
    "        'inputs': {\n",
    "            'time': ['time_store'],\n",
    "            'floating_species_concentrations': ['floating_species_concentrations_store'],\n",
    "            'model_parameters': ['model_parameters_store'],\n",
    "            'reactions': ['reactions_store']\n",
    "        },\n",
    "        'outputs': {\n",
    "            'time': ['time_store'],\n",
    "            'floating_species_concentrations': ['floating_species_concentrations_store'],\n",
    "        }\n",
    "    },\n",
    "    'emitter': {\n",
    "        '_type': 'step',\n",
    "        'address': 'local:database-emitter',\n",
    "        'config': {\n",
    "            'emit': {\n",
    "                'time': 'float',\n",
    "                'floating_species_concentrations': 'tree[float]'\n",
    "            }\n",
    "        },\n",
    "        'inputs': {\n",
    "            'time': ['time_store'],\n",
    "            'floating_species_concentrations': ['floating_species_concentrations_store']\n",
    "        }\n",
    "    }\n",
    "}\n",
    "\n",
    "\n",
    "composite = Composite(config={'state': doc}, core=CORE)\n",
    "\n",
    "composite.run(10)"
   ],
   "outputs": [
    {
     "name": "stdout",
     "output_type": "stream",
     "text": [
      "found a filepath\n"
     ]
    },
    {
     "name": "stderr",
     "output_type": "stream",
     "text": [
      "/Users/alexanderpatrie/Desktop/repos/biosimulator-processes/biosimulators_processes/processes/copasi_process.py:328: FutureWarning:\n",
      "\n",
      "Series.__getitem__ treating keys as positions is deprecated. In a future version, integer keys will always be treated as labels (consistent with DataFrame behavior). To access a value by position, use `ser.iloc[pos]`\n",
      "\n"
     ]
    }
   ],
   "execution_count": 3
  },
  {
   "metadata": {
    "ExecuteTime": {
     "end_time": "2024-09-09T19:47:00.989367Z",
     "start_time": "2024-09-09T19:47:00.983745Z"
    }
   },
   "cell_type": "code",
   "source": "composite.gather_results()",
   "outputs": [
    {
     "data": {
      "text/plain": [
       "{('emitter',): [{'time': 0.0,\n",
       "   'floating_species_concentrations': {'LacI protein': 0.0,\n",
       "    'TetR protein': 0.0,\n",
       "    'cI protein': 0.0,\n",
       "    'LacI mRNA': 0.0,\n",
       "    'TetR mRNA': 20.0,\n",
       "    'cI mRNA': 0.0},\n",
       "   '_id': ObjectId('66df50b39694d784cca4dfb2')},\n",
       "  {'time': 1.0,\n",
       "   'floating_species_concentrations': {'LacI protein': 81.44046884923394,\n",
       "    'TetR protein': 188.3821831030562,\n",
       "    'cI protein': 42.64131125320374,\n",
       "    'LacI mRNA': 19.90344166947679,\n",
       "    'TetR mRNA': 50.61558010446934,\n",
       "    'cI mRNA': 7.491001903157758},\n",
       "   '_id': ObjectId('66df50b39694d784cca4dfb3')},\n",
       "  {'time': 2.0,\n",
       "   'floating_species_concentrations': {'LacI protein': 299.9792524293013,\n",
       "    'TetR protein': 546.4092678039393,\n",
       "    'cI protein': 127.23014070279017,\n",
       "    'LacI mRNA': 41.13697667160224,\n",
       "    'TetR mRNA': 74.22450737953378,\n",
       "    'cI mRNA': 13.357268321541767},\n",
       "   '_id': ObjectId('66df50b39694d784cca4dfb4')},\n",
       "  {'time': 3.0,\n",
       "   'floating_species_concentrations': {'LacI protein': 637.6017815600158,\n",
       "    'TetR protein': 1016.0358710461701,\n",
       "    'cI protein': 240.28466799097248,\n",
       "    'LacI mRNA': 59.681116320621555,\n",
       "    'TetR mRNA': 91.45946005789611,\n",
       "    'cI mRNA': 17.760912860286577},\n",
       "   '_id': ObjectId('66df50b39694d784cca4dfb5')},\n",
       "  {'time': 4.0,\n",
       "   'floating_species_concentrations': {'LacI protein': 1066.5403589624582,\n",
       "    'TetR protein': 1552.6999346532566,\n",
       "    'cI protein': 371.31950229688175,\n",
       "    'LacI mRNA': 75.24093729696735,\n",
       "    'TetR mRNA': 103.94156864361192,\n",
       "    'cI mRNA': 21.05672989033079},\n",
       "   '_id': ObjectId('66df50b39694d784cca4dfb6')},\n",
       "  {'time': 5.0,\n",
       "   'floating_species_concentrations': {'LacI protein': 1562.0376381280157,\n",
       "    'TetR protein': 2124.718618118441,\n",
       "    'cI protein': 512.7609317518436,\n",
       "    'LacI mRNA': 88.25892363605358,\n",
       "    'TetR mRNA': 112.97930148315362,\n",
       "    'cI mRNA': 23.542404067722885},\n",
       "   '_id': ObjectId('66df50b39694d784cca4dfb7')},\n",
       "  {'time': 6.0,\n",
       "   'floating_species_concentrations': {'LacI protein': 2104.5039590948963,\n",
       "    'TetR protein': 2710.1166576237792,\n",
       "    'cI protein': 659.2926650543036,\n",
       "    'LacI mRNA': 99.29259115364991,\n",
       "    'TetR mRNA': 119.54358900782884,\n",
       "    'cI mRNA': 25.445063023529666},\n",
       "   '_id': ObjectId('66df50b39694d784cca4dfb8')},\n",
       "  {'time': 7.0,\n",
       "   'floating_species_concentrations': {'LacI protein': 2679.282194597243,\n",
       "    'TetR protein': 3293.9486176653086,\n",
       "    'cI protein': 807.2695519909344,\n",
       "    'LacI mRNA': 108.85411149428109,\n",
       "    'TetR mRNA': 124.33900026944765,\n",
       "    'cI mRNA': 26.93343379758768},\n",
       "   '_id': ObjectId('66df50b39694d784cca4dfb9')},\n",
       "  {'time': 8.0,\n",
       "   'floating_species_concentrations': {'LacI protein': 3275.8527411381347,\n",
       "    'TetR protein': 3866.2839726620823,\n",
       "    'cI protein': 954.262625183127,\n",
       "    'LacI mRNA': 117.37300218950406,\n",
       "    'TetR mRNA': 127.87231683808349,\n",
       "    'cI mRNA': 28.131788959895005},\n",
       "   '_id': ObjectId('66df50b39694d784cca4dfba')},\n",
       "  {'time': 9.0,\n",
       "   'floating_species_concentrations': {'LacI protein': 3886.9927450256782,\n",
       "    'TetR protein': 4420.737701541376,\n",
       "    'cI protein': 1098.7210123838508,\n",
       "    'LacI mRNA': 125.19624394687389,\n",
       "    'TetR mRNA': 130.50643979995667,\n",
       "    'cI mRNA': 29.13161679321667},\n",
       "   '_id': ObjectId('66df50b39694d784cca4dfbb')},\n",
       "  {'time': 10.0,\n",
       "   'floating_species_concentrations': {'LacI protein': 4508.036837223343,\n",
       "    'TetR protein': 4953.412163246545,\n",
       "    'cI protein': 1239.7254754121607,\n",
       "    'LacI mRNA': 132.59911818916152,\n",
       "    'TetR mRNA': 132.5005229205225,\n",
       "    'cI mRNA': 30.000620895204452},\n",
       "   '_id': ObjectId('66df50b39694d784cca4dfbc')}]}"
      ]
     },
     "execution_count": 4,
     "metadata": {},
     "output_type": "execute_result"
    }
   ],
   "execution_count": 4
  },
  {
   "cell_type": "code",
   "metadata": {
    "ExecuteTime": {
     "end_time": "2024-09-09T17:01:27.686733Z",
     "start_time": "2024-09-09T17:01:27.675768Z"
    }
   },
   "source": [
    "from abc import ABC, abstractmethod\n",
    "from enum import Enum\n",
    "from typing import *\n",
    "from datetime import datetime\n",
    "\n",
    "from pymongo import MongoClient\n",
    "from pymongo.collection import Collection\n",
    "from pymongo.database import Database\n",
    "\n",
    "\n",
    "class DatabaseConnector(ABC):\n",
    "    \"\"\"Abstract class that is both serializable and interacts with the database (of any type). \"\"\"\n",
    "    def __init__(self, connection_uri: str, database_id: str, connector_id: str):\n",
    "        self.database_id = database_id\n",
    "        self.client = self._get_client(connection_uri)\n",
    "        self.db = self._get_database(self.database_id)\n",
    "\n",
    "    @staticmethod\n",
    "    def timestamp() -> str:\n",
    "        return str(datetime.utcnow())\n",
    "\n",
    "    def refresh_data(self):\n",
    "        def refresh_collection(coll):\n",
    "            for job in self.db[coll].find():\n",
    "                self.db[coll].delete_one(job)\n",
    "\n",
    "        for collname in self.db.list_collection_names():\n",
    "            refresh_collection(collname)\n",
    "\n",
    "    @abstractmethod\n",
    "    def _get_client(self, *args):\n",
    "        pass\n",
    "\n",
    "    @abstractmethod\n",
    "    def _get_database(self, db_id: str):\n",
    "        pass\n",
    "\n",
    "    @abstractmethod\n",
    "    async def read(self, *args, **kwargs):\n",
    "        pass\n",
    "\n",
    "    @abstractmethod\n",
    "    async def write(self, *args, **kwargs):\n",
    "        pass\n",
    "\n",
    "    @abstractmethod\n",
    "    def get_collection(self, **kwargs):\n",
    "        pass\n",
    "\n",
    "\n",
    "class JobStatus(Enum):\n",
    "    PENDING = \"PENDING\"\n",
    "    IN_PROGRESS = \"IN_PROGRESS\"\n",
    "    COMPLETED = \"COMPLETED\"\n",
    "    FAILED = \"FAILED\"\n",
    "\n",
    "\n",
    "class DatabaseCollections(Enum):\n",
    "    PENDING_JOBS = \"PENDING_JOBS\".lower()\n",
    "    IN_PROGRESS_JOBS = \"IN_PROGRESS_JOBS\".lower()\n",
    "    COMPLETED_JOBS = \"COMPLETED_JOBS\".lower()\n",
    "\n",
    "\n",
    "class MultipleConnectorError(Exception):\n",
    "    def __init__(self, message: str):\n",
    "        self.message = message\n",
    "\n",
    "\n",
    "class MongoDbConnector(DatabaseConnector):\n",
    "    def __init__(self, connection_uri: str, database_id: str, connector_id: str = None):\n",
    "        super().__init__(connection_uri, database_id, connector_id)\n",
    "\n",
    "    def _get_client(self, *args):\n",
    "        return MongoClient(args[0])\n",
    "\n",
    "    def _get_database(self, db_id: str) -> Database:\n",
    "        return self.client.get_database(db_id)\n",
    "\n",
    "    def _get_jobs_from_collection(self, coll_name: str):\n",
    "        return [job for job in self.db[coll_name].find()]\n",
    "    \n",
    "    @property\n",
    "    def data(self):\n",
    "        return self._get_data()\n",
    "    \n",
    "    def _get_data(self):\n",
    "        return {coll_name: [v for v in self.db[coll_name].find()] for coll_name in self.db.list_collection_names()}\n",
    "    \n",
    "    def read(self, collection_name: DatabaseCollections | str, **kwargs):\n",
    "        \"\"\"Args:\n",
    "            collection_name: str\n",
    "            kwargs: (as in mongodb query)\n",
    "        \"\"\"\n",
    "        coll_name = self._parse_enum_input(collection_name)\n",
    "        coll = self.get_collection(coll_name)\n",
    "        result = coll.find_one(kwargs.copy())\n",
    "        return result\n",
    "\n",
    "    def write(self, collection_name: DatabaseCollections | str, **kwargs):\n",
    "        \"\"\"\n",
    "            Args:\n",
    "                collection_name: str: collection name in mongodb\n",
    "                **kwargs: mongo db `insert_one` query defining the document where the key is as in the key of the document.\n",
    "        \"\"\"\n",
    "        coll_name = collection_name\n",
    "\n",
    "        coll = self.get_collection(coll_name)\n",
    "        result = coll.insert_one(kwargs.copy())\n",
    "        return kwargs\n",
    "\n",
    "    def get_collection(self, collection_name: str) -> Collection:\n",
    "        try:\n",
    "            return self.db[collection_name]\n",
    "        except:\n",
    "            return None\n",
    "\n",
    "    async def insert_job_async(self, collection_name: str, **kwargs) -> Dict[str, Any]:\n",
    "        return self.insert_job(collection_name, **kwargs)\n",
    "\n",
    "    def insert_job(self, collection_name: str, **kwargs) -> Dict[str, Any]:\n",
    "        coll = self.get_collection(collection_name)\n",
    "        job_doc = kwargs.copy()\n",
    "        print(\"Inserting job...\")\n",
    "        coll.insert_one(job_doc)\n",
    "        print(f\"Job successfully inserted: {self.db.pending_jobs.find_one(kwargs)}.\")\n",
    "        return kwargs\n",
    "\n",
    "    async def update_job_status(self, collection_name: str, job_id: str, status: str | JobStatus):\n",
    "        job_status = self._parse_enum_input(status)\n",
    "        return self.db[collection_name].update_one({'job_id': job_id, }, {'$set': {'status': job_status}})\n",
    "\n",
    "    def _parse_enum_input(self, _input: Any) -> str:\n",
    "        return _input.value if isinstance(_input, Enum) else _input\n"
   ],
   "outputs": [],
   "execution_count": 47
  },
  {
   "metadata": {
    "ExecuteTime": {
     "end_time": "2024-09-09T17:01:28.466858Z",
     "start_time": "2024-09-09T17:01:28.458380Z"
    }
   },
   "cell_type": "code",
   "source": [
    "uri = 'mongodb://localhost:27017/?retryWrites=true&w=majority&appName=biosimulators-processes'\n",
    "conn = MongoDbConnector(connection_uri=uri, database_id=\"processes\")\n",
    "\n",
    "conn.refresh_data()\n",
    "\n"
   ],
   "outputs": [],
   "execution_count": 48
  },
  {
   "metadata": {
    "ExecuteTime": {
     "end_time": "2024-09-09T17:01:29.249498Z",
     "start_time": "2024-09-09T17:01:29.245036Z"
    }
   },
   "cell_type": "code",
   "source": "conn.data",
   "outputs": [
    {
     "data": {
      "text/plain": [
       "{'process_results': []}"
      ]
     },
     "execution_count": 49,
     "metadata": {},
     "output_type": "execute_result"
    }
   ],
   "execution_count": 49
  },
  {
   "cell_type": "code",
   "metadata": {
    "ExecuteTime": {
     "end_time": "2024-09-09T17:34:06.409632Z",
     "start_time": "2024-09-09T17:34:06.236747Z"
    }
   },
   "source": [
    "# run composite with copasi process and ram emitter\n",
    "# on each update: return emitter val\n",
    "# use db connector to write emitter val for update\n",
    "# repeat\n",
    "\n",
    "\n",
    "def run_composite_sse(duration, model_fp=model_fp, core=CORE):\n",
    "    from process_bigraph import Composite \n",
    "    from uuid import uuid4\n",
    "\n",
    "    uri = 'mongodb://localhost:27017/?retryWrites=true&w=majority&appName=biosimulators-processes'\n",
    "    conn = MongoDbConnector(connection_uri=uri, database_id=\"processes\")\n",
    "    doc = {\n",
    "        'copasi': {\n",
    "            '_type': 'process',\n",
    "            'address': 'local:copasi-process',\n",
    "            'config': {\n",
    "                'model': {\n",
    "                    'model_source': model_fp\n",
    "                }\n",
    "            },\n",
    "            'inputs': {\n",
    "                'time': ['time_store'],\n",
    "                'floating_species_concentrations': ['floating_species_concentrations_store'],\n",
    "                'model_parameters': ['model_parameters_store'],\n",
    "                'reactions': ['reactions_store']\n",
    "            },\n",
    "            'outputs': {\n",
    "                'time': ['time_store'],\n",
    "                'floating_species_concentrations': ['floating_species_concentrations_store'],\n",
    "            }\n",
    "        },\n",
    "        'emitter': {\n",
    "            '_type': 'step',\n",
    "            'address': 'local:ram-emitter',\n",
    "            'config': {\n",
    "                'emit': {\n",
    "                    'time': 'float',\n",
    "                    'floating_species_concentrations': 'tree[float]'\n",
    "                }\n",
    "            },\n",
    "            'inputs': {\n",
    "                'time': ['time_store'],\n",
    "                'floating_species_concentrations': ['floating_species_concentrations_store']\n",
    "            }\n",
    "        }\n",
    "    }\n",
    "    \n",
    "    # make new job \n",
    "    job_id = str(uuid4())\n",
    "    new_job = {'job_id': job_id}\n",
    "    \n",
    "    # insert mutable params\n",
    "    write_job = new_job.copy()\n",
    "    write_job.update({'last_updated': conn.timestamp(), 'data': []})\n",
    "    job = conn.write(collection_name=\"process_results\", **write_job)\n",
    "    \n",
    "    # make composite\n",
    "    composite = Composite(config={'state': doc}, core=core)\n",
    "    \n",
    "    for n in range(duration):\n",
    "        # run composite\n",
    "        composite.run(1)\n",
    "        \n",
    "        # get historical results    \n",
    "        results = composite.gather_results()\n",
    "        data = results[('emitter',)]\n",
    "        \n",
    "        # find job and update data\n",
    "        write_data = conn.db.process_results.find_one(new_job)\n",
    "        write_data['data'] = data \n",
    "        \n",
    "        # update db\n",
    "        conn.db.process_results.update_one(new_job, {'$set': write_data})\n",
    "        \n",
    "    return conn\n",
    "\n",
    "conn.refresh_data()\n",
    "conn = run_composite_sse(10)"
   ],
   "outputs": [
    {
     "name": "stdout",
     "output_type": "stream",
     "text": [
      "found a filepath\n"
     ]
    }
   ],
   "execution_count": 106
  },
  {
   "metadata": {
    "ExecuteTime": {
     "end_time": "2024-09-09T17:34:07.588196Z",
     "start_time": "2024-09-09T17:34:07.582650Z"
    }
   },
   "cell_type": "code",
   "source": "conn.data.get('process_results')",
   "outputs": [
    {
     "data": {
      "text/plain": [
       "[{'_id': ObjectId('66df318e3c05234ee7df709b'),\n",
       "  'job_id': 'e7619d85-c0a6-40df-9f30-e43e1a0a92fb',\n",
       "  'last_updated': '2024-09-09 17:34:06.250744',\n",
       "  'data': [{'time': 0.0,\n",
       "    'floating_species_concentrations': {'LacI protein': 0.0,\n",
       "     'TetR protein': 0.0,\n",
       "     'cI protein': 0.0,\n",
       "     'LacI mRNA': 0.0,\n",
       "     'TetR mRNA': 20.0,\n",
       "     'cI mRNA': 0.0}},\n",
       "   {'time': 1.0,\n",
       "    'floating_species_concentrations': {'LacI protein': 81.44046884923394,\n",
       "     'TetR protein': 188.3821831030562,\n",
       "     'cI protein': 42.64131125320374,\n",
       "     'LacI mRNA': 19.90344166947679,\n",
       "     'TetR mRNA': 50.61558010446934,\n",
       "     'cI mRNA': 7.491001903157758}},\n",
       "   {'time': 2.0,\n",
       "    'floating_species_concentrations': {'LacI protein': 299.9792524293013,\n",
       "     'TetR protein': 546.4092678039393,\n",
       "     'cI protein': 127.23014070279017,\n",
       "     'LacI mRNA': 41.13697667160224,\n",
       "     'TetR mRNA': 74.22450737953378,\n",
       "     'cI mRNA': 13.357268321541767}},\n",
       "   {'time': 3.0,\n",
       "    'floating_species_concentrations': {'LacI protein': 637.6017815600158,\n",
       "     'TetR protein': 1016.0358710461701,\n",
       "     'cI protein': 240.28466799097248,\n",
       "     'LacI mRNA': 59.681116320621555,\n",
       "     'TetR mRNA': 91.45946005789611,\n",
       "     'cI mRNA': 17.760912860286577}},\n",
       "   {'time': 4.0,\n",
       "    'floating_species_concentrations': {'LacI protein': 1066.5403589624582,\n",
       "     'TetR protein': 1552.6999346532566,\n",
       "     'cI protein': 371.31950229688175,\n",
       "     'LacI mRNA': 75.24093729696735,\n",
       "     'TetR mRNA': 103.94156864361192,\n",
       "     'cI mRNA': 21.05672989033079}},\n",
       "   {'time': 5.0,\n",
       "    'floating_species_concentrations': {'LacI protein': 1562.0376381280157,\n",
       "     'TetR protein': 2124.718618118441,\n",
       "     'cI protein': 512.7609317518436,\n",
       "     'LacI mRNA': 88.25892363605358,\n",
       "     'TetR mRNA': 112.97930148315362,\n",
       "     'cI mRNA': 23.542404067722885}},\n",
       "   {'time': 6.0,\n",
       "    'floating_species_concentrations': {'LacI protein': 2104.5039590948963,\n",
       "     'TetR protein': 2710.1166576237792,\n",
       "     'cI protein': 659.2926650543036,\n",
       "     'LacI mRNA': 99.29259115364991,\n",
       "     'TetR mRNA': 119.54358900782884,\n",
       "     'cI mRNA': 25.445063023529666}},\n",
       "   {'time': 7.0,\n",
       "    'floating_species_concentrations': {'LacI protein': 2679.282194597243,\n",
       "     'TetR protein': 3293.9486176653086,\n",
       "     'cI protein': 807.2695519909344,\n",
       "     'LacI mRNA': 108.85411149428109,\n",
       "     'TetR mRNA': 124.33900026944765,\n",
       "     'cI mRNA': 26.93343379758768}},\n",
       "   {'time': 8.0,\n",
       "    'floating_species_concentrations': {'LacI protein': 3275.8527411381347,\n",
       "     'TetR protein': 3866.2839726620823,\n",
       "     'cI protein': 954.262625183127,\n",
       "     'LacI mRNA': 117.37300218950406,\n",
       "     'TetR mRNA': 127.87231683808349,\n",
       "     'cI mRNA': 28.131788959895005}},\n",
       "   {'time': 9.0,\n",
       "    'floating_species_concentrations': {'LacI protein': 3886.9927450256782,\n",
       "     'TetR protein': 4420.737701541376,\n",
       "     'cI protein': 1098.7210123838508,\n",
       "     'LacI mRNA': 125.19624394687389,\n",
       "     'TetR mRNA': 130.50643979995667,\n",
       "     'cI mRNA': 29.13161679321667}},\n",
       "   {'time': 10.0,\n",
       "    'floating_species_concentrations': {'LacI protein': 4508.036837223343,\n",
       "     'TetR protein': 4953.412163246545,\n",
       "     'cI protein': 1239.7254754121607,\n",
       "     'LacI mRNA': 132.59911818916152,\n",
       "     'TetR mRNA': 132.5005229205225,\n",
       "     'cI mRNA': 30.000620895204452}}]}]"
      ]
     },
     "execution_count": 107,
     "metadata": {},
     "output_type": "execute_result"
    }
   ],
   "execution_count": 107
  },
  {
   "metadata": {
    "ExecuteTime": {
     "end_time": "2024-09-09T17:06:01.089610Z",
     "start_time": "2024-09-09T17:06:01.076349Z"
    }
   },
   "cell_type": "code",
   "source": [
    "x = [{'a': list(range(10))}, {'a': list(range(10))}]\n",
    "\n",
    "list(set(x))"
   ],
   "outputs": [
    {
     "ename": "TypeError",
     "evalue": "unhashable type: 'dict'",
     "output_type": "error",
     "traceback": [
      "\u001B[0;31m---------------------------------------------------------------------------\u001B[0m",
      "\u001B[0;31mTypeError\u001B[0m                                 Traceback (most recent call last)",
      "Cell \u001B[0;32mIn[60], line 3\u001B[0m\n\u001B[1;32m      1\u001B[0m x \u001B[38;5;241m=\u001B[39m [{\u001B[38;5;124m'\u001B[39m\u001B[38;5;124ma\u001B[39m\u001B[38;5;124m'\u001B[39m: \u001B[38;5;28mlist\u001B[39m(\u001B[38;5;28mrange\u001B[39m(\u001B[38;5;241m10\u001B[39m))}, {\u001B[38;5;124m'\u001B[39m\u001B[38;5;124ma\u001B[39m\u001B[38;5;124m'\u001B[39m: \u001B[38;5;28mlist\u001B[39m(\u001B[38;5;28mrange\u001B[39m(\u001B[38;5;241m10\u001B[39m))}]\n\u001B[0;32m----> 3\u001B[0m \u001B[38;5;28mlist\u001B[39m(\u001B[38;5;28;43mset\u001B[39;49m\u001B[43m(\u001B[49m\u001B[43mx\u001B[49m\u001B[43m)\u001B[49m)\n",
      "\u001B[0;31mTypeError\u001B[0m: unhashable type: 'dict'"
     ]
    }
   ],
   "execution_count": 60
  },
  {
   "metadata": {
    "ExecuteTime": {
     "end_time": "2024-09-09T17:31:46.117355Z",
     "start_time": "2024-09-09T17:31:46.114765Z"
    }
   },
   "cell_type": "code",
   "source": [
    "s = {'a': 10}\n",
    "\n",
    "s.update({'b': 3})"
   ],
   "outputs": [],
   "execution_count": 103
  },
  {
   "metadata": {
    "ExecuteTime": {
     "end_time": "2024-09-09T17:31:47.240692Z",
     "start_time": "2024-09-09T17:31:47.238272Z"
    }
   },
   "cell_type": "code",
   "source": "s",
   "outputs": [
    {
     "data": {
      "text/plain": [
       "{'a': 10, 'b': 3}"
      ]
     },
     "execution_count": 104,
     "metadata": {},
     "output_type": "execute_result"
    }
   ],
   "execution_count": 104
  },
  {
   "metadata": {},
   "cell_type": "code",
   "outputs": [],
   "execution_count": null,
   "source": ""
  }
 ],
 "metadata": {
  "kernelspec": {
   "display_name": "biosimulators-processes-JaN5cQMh-py3.10",
   "language": "python",
   "name": "python3"
  },
  "language_info": {
   "codemirror_mode": {
    "name": "ipython",
    "version": 3
   },
   "file_extension": ".py",
   "mimetype": "text/x-python",
   "name": "python",
   "nbconvert_exporter": "python",
   "pygments_lexer": "ipython3",
   "version": "3.10.14"
  }
 },
 "nbformat": 4,
 "nbformat_minor": 2
}
