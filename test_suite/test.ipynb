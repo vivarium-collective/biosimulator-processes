{
 "cells": [
  {
   "cell_type": "code",
   "id": "initial_id",
   "metadata": {
    "collapsed": true,
    "ExecuteTime": {
     "end_time": "2024-05-29T16:04:18.757888Z",
     "start_time": "2024-05-29T16:04:17.153039Z"
    }
   },
   "source": [
    "import sys\n",
    "import os\n",
    "\n",
    "import numpy as np\n",
    "from process_bigraph import Composite\n",
    "from process_bigraph.experiments.parameter_scan import RunProcess\n",
    "\n",
    "\n",
    "sys.path.insert(0, '..')\n",
    "\n",
    "\n",
    "from biosimulator_processes.processes.amici_process import AmiciUTC\n",
    "from biosimulator_processes.io import read_report_outputs\n",
    "from biosimulator_processes.utils import plot_ode_output_data"
   ],
   "outputs": [
    {
     "name": "stdout",
     "output_type": "stream",
     "text": [
      "Available processes:\n",
      "[ 'console-emitter',\n",
      "  'ram-emitter',\n",
      "  'composite',\n",
      "  'cobra',\n",
      "  'copasi',\n",
      "  'tellurium',\n",
      "  'amici']\n",
      "Available processes:\n",
      "[ 'console-emitter',\n",
      "  'ram-emitter',\n",
      "  'composite',\n",
      "  'cobra',\n",
      "  'copasi',\n",
      "  'tellurium',\n",
      "  'amici',\n",
      "  'copasi-step',\n",
      "  'tellurium-step',\n",
      "  'amici-step',\n",
      "  'plotter',\n",
      "  'plotter2d']\n"
     ]
    }
   ],
   "execution_count": 1
  },
  {
   "metadata": {
    "ExecuteTime": {
     "end_time": "2024-05-29T16:04:18.760354Z",
     "start_time": "2024-05-29T16:04:18.758785Z"
    }
   },
   "cell_type": "code",
   "source": [
    "omex_dir = './examples/sbml-core/Elowitz-Nature-2000-Repressilator'\n",
    "reports_path = os.path.join(omex_dir, 'reports.h5')"
   ],
   "id": "8ea18375e81986ed",
   "outputs": [],
   "execution_count": 2
  },
  {
   "metadata": {
    "ExecuteTime": {
     "end_time": "2024-05-29T16:04:28.438494Z",
     "start_time": "2024-05-29T16:04:18.760843Z"
    }
   },
   "cell_type": "code",
   "source": [
    "amici_process = AmiciUTC(\n",
    "    config={\n",
    "        'model': {\n",
    "            'model_source': omex_dir\n",
    "        }\n",
    "    }\n",
    ")"
   ],
   "id": "46bcae7c258c69cd",
   "outputs": [
    {
     "name": "stderr",
     "output_type": "stream",
     "text": [
      "2024-05-29 12:04:18.823 - amici.sbml_import - INFO - Finished importing SBML                         (3.88E-02s)\n",
      "2024-05-29 12:04:18.869 - amici.sbml_import - INFO - Finished processing SBML observables            (4.37E-02s)\n",
      "2024-05-29 12:04:18.874 - amici.sbml_import - INFO - Finished processing SBML event observables      (5.42E-07s)\n",
      "2024-05-29 12:04:18.898 - amici.de_model - INFO - Finished computing xdot                            (3.89E-03s)\n",
      "2024-05-29 12:04:18.904 - amici.de_model - INFO - Finished computing x0                              (2.94E-03s)\n",
      "2024-05-29 12:04:18.924 - amici.de_model - INFO - Finished computing w                               (1.62E-02s)\n",
      "2024-05-29 12:04:19.580 - amici.de_export - INFO - Finished generating cpp code                      (6.50E-01s)\n",
      "2024-05-29 12:04:28.348 - amici.de_export - INFO - Finished compiling cpp code                       (8.76E+00s)\n"
     ]
    }
   ],
   "execution_count": 3
  },
  {
   "metadata": {
    "ExecuteTime": {
     "end_time": "2024-05-29T16:04:28.443319Z",
     "start_time": "2024-05-29T16:04:28.439655Z"
    }
   },
   "cell_type": "code",
   "source": [
    "# t range parameters set via sedml introspection within archive contents:\n",
    "amici_process.t[0], amici_process.t[-1], amici_process.duration, amici_process.step_size, amici_process.num_steps"
   ],
   "id": "80cfb67a20f5f372",
   "outputs": [
    {
     "data": {
      "text/plain": [
       "(400.0, 600.0, 600, 1.0, 600)"
      ]
     },
     "execution_count": 4,
     "metadata": {},
     "output_type": "execute_result"
    }
   ],
   "execution_count": 4
  },
  {
   "metadata": {
    "ExecuteTime": {
     "end_time": "2024-05-29T16:04:28.583889Z",
     "start_time": "2024-05-29T16:04:28.444791Z"
    }
   },
   "cell_type": "code",
   "source": "!cat ./examples/sbml-core/Elowitz-Nature-2000-Repressilator/simulation.sedml",
   "id": "e4337829ef9688b8",
   "outputs": [
    {
     "name": "stdout",
     "output_type": "stream",
     "text": [
      "<?xml version=\"1.0\" encoding=\"UTF-8\"?>\r\n",
      "<sedML xmlns=\"http://sed-ml.org/sed-ml/level1/version3\" level=\"1\" version=\"3\"\r\n",
      "  xmlns:sbml=\"http://www.sbml.org/sbml/level2/version3\">\r\n",
      "  <listOfModels>\r\n",
      "    <model id=\"model\" language=\"urn:sedml:language:sbml\" source=\"BIOMD0000000012_url.xml\">\r\n",
      "      <listOfChanges>\r\n",
      "        <changeAttribute target=\"/sbml:sbml/sbml:model/sbml:listOfSpecies/sbml:species[@id='PX']/@initialAmount\" newValue=\"0\"/>\r\n",
      "      </listOfChanges>\r\n",
      "    </model>\r\n",
      "  </listOfModels>\r\n",
      "  <listOfSimulations>\r\n",
      "    <uniformTimeCourse id=\"simulation\" initialTime=\"0\" outputStartTime=\"400\" outputEndTime=\"1000\" numberOfPoints=\"600\">\r\n",
      "      <algorithm kisaoID=\"KISAO:0000019\"/>\r\n",
      "    </uniformTimeCourse>\r\n",
      "  </listOfSimulations>\r\n",
      "  <listOfTasks>\r\n",
      "    <task id=\"task\" modelReference=\"model\" simulationReference=\"simulation\"/>\r\n",
      "  </listOfTasks>\r\n",
      "  <listOfDataGenerators>\r\n",
      "    <dataGenerator id=\"data_gen_time\" name=\"time\">\r\n",
      "      <math xmlns=\"http://www.w3.org/1998/Math/MathML\">\r\n",
      "        <ci> var_time </ci>\r\n",
      "      </math>\r\n",
      "      <listOfVariables>\r\n",
      "        <variable id=\"var_time\" name=\"time\" symbol=\"urn:sedml:symbol:time\" taskReference=\"task\"/>\r\n",
      "      </listOfVariables>\r\n",
      "    </dataGenerator>\r\n",
      "    <dataGenerator id=\"data_gen_px\" name=\"LacI protein\">\r\n",
      "      <math xmlns=\"http://www.w3.org/1998/Math/MathML\">\r\n",
      "        <ci> var_px </ci>\r\n",
      "      </math>\r\n",
      "      <listOfVariables>\r\n",
      "        <variable id=\"var_px\" name=\"LacI protein\" target=\"/sbml:sbml/sbml:model/sbml:listOfSpecies/sbml:species[@id=&apos;PX&apos;]\" taskReference=\"task\"/>\r\n",
      "      </listOfVariables>\r\n",
      "    </dataGenerator>\r\n",
      "    <dataGenerator id=\"data_gen_py\" name=\"TetR protein\">\r\n",
      "      <math xmlns=\"http://www.w3.org/1998/Math/MathML\">\r\n",
      "        <ci> var_py </ci>\r\n",
      "      </math>\r\n",
      "      <listOfVariables>\r\n",
      "        <variable id=\"var_py\" name=\"TetR protein\" target=\"/sbml:sbml/sbml:model/sbml:listOfSpecies/sbml:species[@id=&apos;PY&apos;]\" taskReference=\"task\"/>\r\n",
      "      </listOfVariables>\r\n",
      "    </dataGenerator>\r\n",
      "    <dataGenerator id=\"data_gen_pz\" name=\"cI protein\">\r\n",
      "      <math xmlns=\"http://www.w3.org/1998/Math/MathML\">\r\n",
      "        <ci> var_pz </ci>\r\n",
      "      </math>\r\n",
      "      <listOfVariables>\r\n",
      "        <variable id=\"var_pz\" name=\"cI protein\" target=\"/sbml:sbml/sbml:model/sbml:listOfSpecies/sbml:species[@id=&apos;PZ&apos;]\" taskReference=\"task\"/>\r\n",
      "      </listOfVariables>\r\n",
      "    </dataGenerator>\r\n",
      "    <dataGenerator id=\"data_gen_x\" name=\"LacI mRNA\">\r\n",
      "      <math xmlns=\"http://www.w3.org/1998/Math/MathML\">\r\n",
      "        <ci> var_x </ci>\r\n",
      "      </math>\r\n",
      "      <listOfVariables>\r\n",
      "        <variable id=\"var_x\" name=\"LacI mRNA\" target=\"/sbml:sbml/sbml:model/sbml:listOfSpecies/sbml:species[@id=&apos;X&apos;]\" taskReference=\"task\"/>\r\n",
      "      </listOfVariables>\r\n",
      "    </dataGenerator>\r\n",
      "    <dataGenerator id=\"data_gen_y\" name=\"TetR mRNA\">\r\n",
      "      <math xmlns=\"http://www.w3.org/1998/Math/MathML\">\r\n",
      "        <ci> var_y </ci>\r\n",
      "      </math>\r\n",
      "      <listOfVariables>\r\n",
      "        <variable id=\"var_y\" name=\"TetR mRNA\" target=\"/sbml:sbml/sbml:model/sbml:listOfSpecies/sbml:species[@id=&apos;Y&apos;]\" taskReference=\"task\"/>\r\n",
      "      </listOfVariables>\r\n",
      "    </dataGenerator>\r\n",
      "    <dataGenerator id=\"data_gen_z\" name=\"cI mRNA\">\r\n",
      "      <math xmlns=\"http://www.w3.org/1998/Math/MathML\">\r\n",
      "        <ci> var_z </ci>\r\n",
      "      </math>\r\n",
      "      <listOfVariables>\r\n",
      "        <variable id=\"var_z\" name=\"cI mRNA\" target=\"/sbml:sbml/sbml:model/sbml:listOfSpecies/sbml:species[@id=&apos;Z&apos;]\" taskReference=\"task\"/>\r\n",
      "      </listOfVariables>\r\n",
      "    </dataGenerator>\r\n",
      "  </listOfDataGenerators>\r\n",
      "  <listOfOutputs>\r\n",
      "    <report id=\"report\" name=\"Report\">\r\n",
      "      <listOfDataSets>\r\n",
      "        <dataSet id=\"data_set_time\" label=\"Time\" dataReference=\"data_gen_time\"/>\r\n",
      "        <dataSet id=\"data_set_laci_protein\" label=\"LacI protein\" dataReference=\"data_gen_px\"/>\r\n",
      "        <dataSet id=\"data_set_tetr_protein\" label=\"TetR protein\" dataReference=\"data_gen_py\"/>\r\n",
      "        <dataSet id=\"data_set_ci_protein\" label=\"cI protein\" dataReference=\"data_gen_pz\"/>\r\n",
      "        <dataSet id=\"data_set_laci_mrna\" label=\"LacI mRNA\" dataReference=\"data_gen_x\"/>\r\n",
      "        <dataSet id=\"data_set_tetr_mrna\" label=\"TetR mRNA\" dataReference=\"data_gen_y\"/>\r\n",
      "        <dataSet id=\"data_set_ci_mrna\" label=\"cI mRNA\" dataReference=\"data_gen_z\"/>\r\n",
      "      </listOfDataSets>\r\n",
      "    </report>\r\n",
      "    <plot2D id=\"Figure_1c\" name=\"Figure 1c\">\r\n",
      "      <listOfCurves>\r\n",
      "        <curve id=\"Figure_1c_laci_protein\" name=\"LacI protein\" logX=\"false\" xDataReference=\"data_gen_time\" logY=\"false\" yDataReference=\"data_gen_px\"/>\r\n",
      "        <curve id=\"Figure_1c_tetr_protein\" name=\"TetR protein\" logX=\"false\" xDataReference=\"data_gen_time\" logY=\"false\" yDataReference=\"data_gen_py\"/>\r\n",
      "        <curve id=\"Figure_1c_ci_protein\" name=\"cI protein\" logX=\"false\" xDataReference=\"data_gen_time\" logY=\"false\" yDataReference=\"data_gen_pz\"/>\r\n",
      "      </listOfCurves>\r\n",
      "    </plot2D>\r\n",
      "  </listOfOutputs>\r\n",
      "</sedML>\r\n"
     ]
    }
   ],
   "execution_count": 5
  },
  {
   "metadata": {
    "ExecuteTime": {
     "end_time": "2024-05-29T16:04:28.586536Z",
     "start_time": "2024-05-29T16:04:28.585077Z"
    }
   },
   "cell_type": "code",
   "source": "",
   "id": "ea70f4f07aa7c9f9",
   "outputs": [],
   "execution_count": 5
  }
 ],
 "metadata": {
  "kernelspec": {
   "display_name": "Python 3",
   "language": "python",
   "name": "python3"
  },
  "language_info": {
   "codemirror_mode": {
    "name": "ipython",
    "version": 2
   },
   "file_extension": ".py",
   "mimetype": "text/x-python",
   "name": "python",
   "nbconvert_exporter": "python",
   "pygments_lexer": "ipython2",
   "version": "2.7.6"
  }
 },
 "nbformat": 4,
 "nbformat_minor": 5
}
