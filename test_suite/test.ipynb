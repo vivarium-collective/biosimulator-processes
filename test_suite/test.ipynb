{
 "cells": [
  {
   "cell_type": "code",
   "id": "initial_id",
   "metadata": {
    "collapsed": true,
    "ExecuteTime": {
     "end_time": "2024-05-29T04:45:50.929575Z",
     "start_time": "2024-05-29T04:45:47.527519Z"
    }
   },
   "source": [
    "import os \n",
    "import sys \n",
    "\n",
    "sys.path.insert(0, '..')\n",
    "\n",
    "from process_bigraph import Composite\n",
    "from process_bigraph.experiments.parameter_scan import RunProcess\n",
    "\n",
    "from biosimulator_processes.processes.amici_process import AmiciUTC\n",
    "from biosimulator_processes import CORE \n",
    "from biosimulator_processes.utils import plot_utc_outputs"
   ],
   "outputs": [
    {
     "name": "stdout",
     "output_type": "stream",
     "text": [
      "Available processes:\n",
      "[ 'console-emitter',\n",
      "  'ram-emitter',\n",
      "  'composite',\n",
      "  'cobra',\n",
      "  'copasi',\n",
      "  'tellurium',\n",
      "  'amici']\n",
      "Available processes:\n",
      "[ 'console-emitter',\n",
      "  'ram-emitter',\n",
      "  'composite',\n",
      "  'cobra',\n",
      "  'copasi',\n",
      "  'tellurium',\n",
      "  'amici',\n",
      "  'copasi-step',\n",
      "  'tellurium-step',\n",
      "  'amici-step',\n",
      "  'plotter',\n",
      "  'plotter2d']\n"
     ]
    }
   ],
   "execution_count": 1
  },
  {
   "metadata": {
    "ExecuteTime": {
     "end_time": "2024-05-29T04:45:51.558030Z",
     "start_time": "2024-05-29T04:45:51.551190Z"
    }
   },
   "cell_type": "code",
   "source": [
    "omex_dirpath = './examples/sbml-core/Elowitz-Nature-2000-Repressilator'\n",
    "model_path = os.path.join(omex_dirpath, 'BIOMD0000000012_url.xml')\n",
    "reports_path = os.path.join(omex_dirpath, 'reports.h5')\n",
    "\n",
    "obs1 = [\"floating_species_concentrations\", \"ci_protein\"]\n",
    "proc_addresses = ['copasi', 'tellurium', 'amici']\n",
    "proc_address = 'amici'\n",
    "\n",
    "amici_process_config = {\n",
    "    'model': {'model_source': omex_dirpath},\n",
    "    'time_config': {'step_size': 0.2, 'duration': 1000, 'num_steps': 5001}\n",
    "}"
   ],
   "id": "8ea18375e81986ed",
   "outputs": [],
   "execution_count": 2
  },
  {
   "metadata": {
    "ExecuteTime": {
     "end_time": "2024-05-29T04:46:15.596934Z",
     "start_time": "2024-05-29T04:45:55.692443Z"
    }
   },
   "cell_type": "code",
   "source": [
    "amici_process = AmiciProcess(config=amici_process_config)"
   ],
   "id": "9c075938b352754d",
   "outputs": [
    {
     "name": "stderr",
     "output_type": "stream",
     "text": [
      "2024-05-29 00:45:55.846 - amici.sbml_import - INFO - Finished importing SBML                         (8.98E-02s)\n",
      "2024-05-29 00:45:55.943 - amici.sbml_import - INFO - Finished processing SBML observables            (9.12E-02s)\n",
      "2024-05-29 00:45:55.950 - amici.sbml_import - INFO - Finished processing SBML event observables      (1.08E-06s)\n",
      "2024-05-29 00:45:55.996 - amici.de_model - INFO - Finished computing xdot                            (6.51E-03s)\n",
      "2024-05-29 00:45:56.012 - amici.de_model - INFO - Finished computing x0                              (7.24E-03s)\n",
      "2024-05-29 00:45:56.048 - amici.de_model - INFO - Finished computing w                               (3.05E-02s)\n",
      "2024-05-29 00:45:57.473 - amici.de_export - INFO - Finished generating cpp code                      (1.42E+00s)\n",
      "2024-05-29 00:46:15.317 - amici.de_export - INFO - Finished compiling cpp code                       (1.78E+01s)\n"
     ]
    }
   ],
   "execution_count": 3
  },
  {
   "metadata": {},
   "cell_type": "code",
   "source": [
    "amici_process.update({})"
   ],
   "id": "8f1851a1b21a0238",
   "outputs": [],
   "execution_count": null
  }
 ],
 "metadata": {
  "kernelspec": {
   "display_name": "Python 3",
   "language": "python",
   "name": "python3"
  },
  "language_info": {
   "codemirror_mode": {
    "name": "ipython",
    "version": 2
   },
   "file_extension": ".py",
   "mimetype": "text/x-python",
   "name": "python",
   "nbconvert_exporter": "python",
   "pygments_lexer": "ipython2",
   "version": "2.7.6"
  }
 },
 "nbformat": 4,
 "nbformat_minor": 5
}
