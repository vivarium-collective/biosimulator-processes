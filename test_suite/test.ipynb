{
 "cells": [
  {
   "cell_type": "code",
   "id": "initial_id",
   "metadata": {
    "collapsed": true,
    "ExecuteTime": {
     "end_time": "2024-05-24T21:56:34.844563Z",
     "start_time": "2024-05-24T21:56:33.367840Z"
    }
   },
   "source": [
    "from biosimulator_processes.processes.copasi_process import CopasiProcess\n",
    "from biosimulator_processes import CORE \n",
    "from biosimulator_processes.processes.instance import generate_ode_process_instance\n",
    "from process_bigraph import Step\n",
    "from process_bigraph.experiments.parameter_scan import RunProcess"
   ],
   "outputs": [
    {
     "name": "stdout",
     "output_type": "stream",
     "text": [
      "CobraProcess registered successfully as cobra.\n",
      "\n",
      "CopasiProcess registered successfully as copasi.\n",
      "\n",
      "SmoldynProcess registered successfully as smoldyn.\n",
      "\n",
      "TelluriumProcess registered successfully as tellurium.\n",
      "\n",
      "AmiciProcess registered successfully as amici.\n",
      "\n",
      "Available processes:\n",
      "[ 'console-emitter',\n",
      "  'ram-emitter',\n",
      "  'cobra',\n",
      "  'copasi',\n",
      "  'smoldyn',\n",
      "  'tellurium',\n",
      "  'amici']\n",
      "GetSbmlStep not available. Error: No module named 'biosimulator_processes.steps.get_sbml'\n"
     ]
    }
   ],
   "execution_count": 1
  },
  {
   "metadata": {
    "ExecuteTime": {
     "end_time": "2024-05-24T21:56:34.847397Z",
     "start_time": "2024-05-24T21:56:34.845560Z"
    }
   },
   "cell_type": "code",
   "source": [
    "fp = '/Users/alexanderpatrie/Desktop/repos/biosimulator-processes/test_suite/examples/sbml-core/Varusai-Sci-Rep-2018-mTOR-signaling-LSODA-LSODAR-SBML/Varusai2018.xml'\n",
    "obs1 = ['floating_species_concentrations', 'Akt']\n",
    "proc_addresses = ['copasi', 'tellurium', 'amici']\n",
    "proc_address = 'amici'\n",
    "step = 0.01\n",
    "dur = 100"
   ],
   "id": "8ea18375e81986ed",
   "outputs": [],
   "execution_count": 2
  },
  {
   "metadata": {
    "ExecuteTime": {
     "end_time": "2024-05-24T21:56:45.021731Z",
     "start_time": "2024-05-24T21:56:34.848020Z"
    }
   },
   "cell_type": "code",
   "source": "amici_process = generate_ode_process_instance(entrypoint=fp, process_address=proc_address, step_size=step, duration=dur, observables=obs1)",
   "id": "9c075938b352754d",
   "outputs": [
    {
     "name": "stderr",
     "output_type": "stream",
     "text": [
      "2024-05-24 17:56:34.901 - amici.sbml_import - INFO - Finished importing SBML                         (3.12E-02s)\n",
      "2024-05-24 17:56:34.954 - amici.sbml_import - INFO - Finished processing SBML observables            (5.09E-02s)\n",
      "2024-05-24 17:56:34.956 - amici.sbml_import - INFO - Finished processing SBML event observables      (4.17E-07s)\n",
      "2024-05-24 17:56:34.993 - amici.de_model - INFO - Finished computing xdot                            (2.98E-03s)\n",
      "2024-05-24 17:56:34.996 - amici.de_model - INFO - Finished computing x0                              (9.81E-04s)\n",
      "2024-05-24 17:56:35.030 - amici.de_model - INFO - Finished computing w                               (3.17E-02s)\n",
      "2024-05-24 17:56:35.543 - amici.de_export - INFO - Finished generating cpp code                      (5.09E-01s)\n",
      "2024-05-24 17:56:44.895 - amici.de_export - INFO - Finished compiling cpp code                       (9.35E+00s)\n"
     ]
    }
   ],
   "execution_count": 3
  },
  {
   "metadata": {
    "ExecuteTime": {
     "end_time": "2024-05-24T21:48:40.422305Z",
     "start_time": "2024-05-24T21:48:37.102262Z"
    }
   },
   "cell_type": "code",
   "source": "amici_process.update({})",
   "id": "8f1851a1b21a0238",
   "outputs": [
    {
     "ename": "KeyboardInterrupt",
     "evalue": "",
     "output_type": "error",
     "traceback": [
      "\u001B[0;31m---------------------------------------------------------------------------\u001B[0m",
      "\u001B[0;31mKeyboardInterrupt\u001B[0m                         Traceback (most recent call last)",
      "Cell \u001B[0;32mIn[9], line 1\u001B[0m\n\u001B[0;32m----> 1\u001B[0m \u001B[43mamici_process\u001B[49m\u001B[38;5;241;43m.\u001B[39;49m\u001B[43mupdate\u001B[49m\u001B[43m(\u001B[49m\u001B[43m{\u001B[49m\u001B[43m}\u001B[49m\u001B[43m)\u001B[49m\n",
      "File \u001B[0;32m~/Library/Caches/pypoetry/virtualenvs/biosimulator-processes-JaN5cQMh-py3.10/lib/python3.10/site-packages/process_bigraph/experiments/parameter_scan.py:208\u001B[0m, in \u001B[0;36mRunProcess.update\u001B[0;34m(self, inputs)\u001B[0m\n\u001B[1;32m    202\u001B[0m \u001B[38;5;28;01mdef\u001B[39;00m \u001B[38;5;21mupdate\u001B[39m(\u001B[38;5;28mself\u001B[39m, inputs):\n\u001B[1;32m    203\u001B[0m     \u001B[38;5;66;03m# TODO: instead of the composite being a reference it is instead read through\u001B[39;00m\n\u001B[1;32m    204\u001B[0m     \u001B[38;5;66;03m#   some port and lives in the state of the simulation (??)\u001B[39;00m\n\u001B[1;32m    205\u001B[0m     \u001B[38;5;28mself\u001B[39m\u001B[38;5;241m.\u001B[39mcomposite\u001B[38;5;241m.\u001B[39mmerge(\n\u001B[1;32m    206\u001B[0m         inputs)\n\u001B[0;32m--> 208\u001B[0m     \u001B[38;5;28;43mself\u001B[39;49m\u001B[38;5;241;43m.\u001B[39;49m\u001B[43mcomposite\u001B[49m\u001B[38;5;241;43m.\u001B[39;49m\u001B[43mrun\u001B[49m\u001B[43m(\u001B[49m\n\u001B[1;32m    209\u001B[0m \u001B[43m        \u001B[49m\u001B[38;5;28;43mself\u001B[39;49m\u001B[38;5;241;43m.\u001B[39;49m\u001B[43mconfig\u001B[49m\u001B[43m[\u001B[49m\u001B[38;5;124;43m'\u001B[39;49m\u001B[38;5;124;43mruntime\u001B[39;49m\u001B[38;5;124;43m'\u001B[39;49m\u001B[43m]\u001B[49m\u001B[43m)\u001B[49m\n\u001B[1;32m    211\u001B[0m     histories \u001B[38;5;241m=\u001B[39m \u001B[38;5;28mself\u001B[39m\u001B[38;5;241m.\u001B[39mcomposite\u001B[38;5;241m.\u001B[39mgather_results()\n\u001B[1;32m    213\u001B[0m     results \u001B[38;5;241m=\u001B[39m {\n\u001B[1;32m    214\u001B[0m         key: timeseries_from_history(\n\u001B[1;32m    215\u001B[0m             history,\n\u001B[1;32m    216\u001B[0m             \u001B[38;5;28mself\u001B[39m\u001B[38;5;241m.\u001B[39mconfig[\u001B[38;5;124m'\u001B[39m\u001B[38;5;124mobservables\u001B[39m\u001B[38;5;124m'\u001B[39m] \u001B[38;5;241m+\u001B[39m [[\u001B[38;5;124m'\u001B[39m\u001B[38;5;124mtime\u001B[39m\u001B[38;5;124m'\u001B[39m]])\n\u001B[1;32m    217\u001B[0m         \u001B[38;5;28;01mfor\u001B[39;00m key, history \u001B[38;5;129;01min\u001B[39;00m histories\u001B[38;5;241m.\u001B[39mitems()}\n",
      "File \u001B[0;32m~/Library/Caches/pypoetry/virtualenvs/biosimulator-processes-JaN5cQMh-py3.10/lib/python3.10/site-packages/process_bigraph/composite.py:1078\u001B[0m, in \u001B[0;36mComposite.run\u001B[0;34m(self, interval, force_complete)\u001B[0m\n\u001B[1;32m   1074\u001B[0m             paths\u001B[38;5;241m.\u001B[39mappend(path)\n\u001B[1;32m   1076\u001B[0m     \u001B[38;5;66;03m# get all update paths, then trigger steps that\u001B[39;00m\n\u001B[1;32m   1077\u001B[0m     \u001B[38;5;66;03m# depend on those paths\u001B[39;00m\n\u001B[0;32m-> 1078\u001B[0m     update_paths \u001B[38;5;241m=\u001B[39m \u001B[38;5;28;43mself\u001B[39;49m\u001B[38;5;241;43m.\u001B[39;49m\u001B[43mapply_updates\u001B[49m\u001B[43m(\u001B[49m\u001B[43mupdates\u001B[49m\u001B[43m)\u001B[49m\n\u001B[1;32m   1079\u001B[0m     \u001B[38;5;28mself\u001B[39m\u001B[38;5;241m.\u001B[39mtrigger_steps(update_paths)\n\u001B[1;32m   1081\u001B[0m     \u001B[38;5;66;03m# # display and emit\u001B[39;00m\n\u001B[1;32m   1082\u001B[0m     \u001B[38;5;66;03m# if self.progress_bar:\u001B[39;00m\n\u001B[1;32m   1083\u001B[0m     \u001B[38;5;66;03m#     print_progress_bar(self.global_time, end_time)\u001B[39;00m\n\u001B[0;32m   (...)\u001B[0m\n\u001B[1;32m   1091\u001B[0m \u001B[38;5;28;01melse\u001B[39;00m:\n\u001B[1;32m   1092\u001B[0m     \u001B[38;5;66;03m# all processes have run past the interval\u001B[39;00m\n",
      "File \u001B[0;32m~/Library/Caches/pypoetry/virtualenvs/biosimulator-processes-JaN5cQMh-py3.10/lib/python3.10/site-packages/process_bigraph/composite.py:1010\u001B[0m, in \u001B[0;36mComposite.apply_updates\u001B[0;34m(self, updates)\u001B[0m\n\u001B[1;32m   1007\u001B[0m paths \u001B[38;5;241m=\u001B[39m hierarchy_depth(update)\n\u001B[1;32m   1008\u001B[0m update_paths\u001B[38;5;241m.\u001B[39mextend(paths\u001B[38;5;241m.\u001B[39mkeys())\n\u001B[0;32m-> 1010\u001B[0m \u001B[38;5;28mself\u001B[39m\u001B[38;5;241m.\u001B[39mstate \u001B[38;5;241m=\u001B[39m \u001B[38;5;28;43mself\u001B[39;49m\u001B[38;5;241;43m.\u001B[39;49m\u001B[43mcore\u001B[49m\u001B[38;5;241;43m.\u001B[39;49m\u001B[43mapply_update\u001B[49m\u001B[43m(\u001B[49m\n\u001B[1;32m   1011\u001B[0m \u001B[43m    \u001B[49m\u001B[38;5;28;43mself\u001B[39;49m\u001B[38;5;241;43m.\u001B[39;49m\u001B[43mcomposition\u001B[49m\u001B[43m,\u001B[49m\n\u001B[1;32m   1012\u001B[0m \u001B[43m    \u001B[49m\u001B[38;5;28;43mself\u001B[39;49m\u001B[38;5;241;43m.\u001B[39;49m\u001B[43mstate\u001B[49m\u001B[43m,\u001B[49m\n\u001B[1;32m   1013\u001B[0m \u001B[43m    \u001B[49m\u001B[43mupdate\u001B[49m\u001B[43m)\u001B[49m\n\u001B[1;32m   1015\u001B[0m bridge_update \u001B[38;5;241m=\u001B[39m \u001B[38;5;28mself\u001B[39m\u001B[38;5;241m.\u001B[39mcore\u001B[38;5;241m.\u001B[39mview(\n\u001B[1;32m   1016\u001B[0m     \u001B[38;5;28mself\u001B[39m\u001B[38;5;241m.\u001B[39minterface()[\u001B[38;5;124m'\u001B[39m\u001B[38;5;124moutputs\u001B[39m\u001B[38;5;124m'\u001B[39m],\n\u001B[1;32m   1017\u001B[0m     \u001B[38;5;28mself\u001B[39m\u001B[38;5;241m.\u001B[39mbridge[\u001B[38;5;124m'\u001B[39m\u001B[38;5;124moutputs\u001B[39m\u001B[38;5;124m'\u001B[39m],\n\u001B[1;32m   1018\u001B[0m     (),\n\u001B[1;32m   1019\u001B[0m     update)\n\u001B[1;32m   1021\u001B[0m \u001B[38;5;28;01mif\u001B[39;00m bridge_update:\n",
      "File \u001B[0;32m~/Library/Caches/pypoetry/virtualenvs/biosimulator-processes-JaN5cQMh-py3.10/lib/python3.10/site-packages/bigraph_schema/type_system.py:569\u001B[0m, in \u001B[0;36mTypeSystem.apply_update\u001B[0;34m(self, schema, state, update)\u001B[0m\n\u001B[1;32m    566\u001B[0m     state \u001B[38;5;241m=\u001B[39m \u001B[38;5;28mself\u001B[39m\u001B[38;5;241m.\u001B[39mapply_update(schema, state, update)\n\u001B[1;32m    568\u001B[0m \u001B[38;5;28;01melif\u001B[39;00m \u001B[38;5;28misinstance\u001B[39m(update, \u001B[38;5;28mdict\u001B[39m):\n\u001B[0;32m--> 569\u001B[0m     \u001B[38;5;28;01mfor\u001B[39;00m key, branch \u001B[38;5;129;01min\u001B[39;00m \u001B[43mupdate\u001B[49m\u001B[38;5;241;43m.\u001B[39;49m\u001B[43mitems\u001B[49m\u001B[43m(\u001B[49m\u001B[43m)\u001B[49m:\n\u001B[1;32m    570\u001B[0m         \u001B[38;5;28;01mif\u001B[39;00m key \u001B[38;5;129;01mnot\u001B[39;00m \u001B[38;5;129;01min\u001B[39;00m schema:\n\u001B[1;32m    571\u001B[0m             \u001B[38;5;28;01mraise\u001B[39;00m \u001B[38;5;167;01mException\u001B[39;00m(\n\u001B[1;32m    572\u001B[0m                 \u001B[38;5;124mf\u001B[39m\u001B[38;5;124m'\u001B[39m\u001B[38;5;124mtrying to update a key that is not in the schema\u001B[39m\u001B[38;5;124m'\u001B[39m\n\u001B[1;32m    573\u001B[0m                 \u001B[38;5;124mf\u001B[39m\u001B[38;5;124m'\u001B[39m\u001B[38;5;124mfor state: \u001B[39m\u001B[38;5;132;01m{\u001B[39;00mkey\u001B[38;5;132;01m}\u001B[39;00m\u001B[38;5;130;01m\\n\u001B[39;00m\u001B[38;5;132;01m{\u001B[39;00mstate\u001B[38;5;132;01m}\u001B[39;00m\u001B[38;5;130;01m\\n\u001B[39;00m\u001B[38;5;124mwith schema:\u001B[39m\u001B[38;5;130;01m\\n\u001B[39;00m\u001B[38;5;132;01m{\u001B[39;00mschema\u001B[38;5;132;01m}\u001B[39;00m\u001B[38;5;124m'\u001B[39m)\n",
      "\u001B[0;31mKeyboardInterrupt\u001B[0m: "
     ]
    }
   ],
   "execution_count": 9
  },
  {
   "metadata": {
    "ExecuteTime": {
     "end_time": "2024-05-24T21:45:24.502052Z",
     "start_time": "2024-05-24T21:44:21.776174Z"
    }
   },
   "cell_type": "code",
   "source": [
    "def run_ode_comparison(process_addresses, model_fp, step, dur, observables):\n",
    "    processes = [generate_ode_process_instance(entrypoint=model_fp, process_address=address, step_size=step, duration=dur, observables=observables) for address in process_addresses]\n",
    "    print(processes)\n",
    "    \n",
    "    return [process.run({}) for process in processes]\n",
    "    \n",
    "\n",
    "run_ode_comparison(proc_addresses, fp, step, dur, obs1)"
   ],
   "id": "e510458a52feb56d",
   "outputs": [
    {
     "name": "stderr",
     "output_type": "stream",
     "text": [
      "2024-05-24 17:44:21.913 - amici.sbml_import - INFO - Finished loading SBML                           (1.07E-02s)\n",
      "2024-05-24 17:44:21.955 - amici.sbml_import - INFO - Finished importing SBML                         (3.94E-02s)\n",
      "2024-05-24 17:44:21.974 - amici.sbml_import - INFO - Finished processing SBML observables            (1.59E-02s)\n",
      "2024-05-24 17:44:21.978 - amici.sbml_import - INFO - Finished processing SBML event observables      (3.75E-07s)\n",
      "2024-05-24 17:44:22.010 - amici.de_model - INFO - Finished computing xdot                            (3.25E-03s)\n",
      "2024-05-24 17:44:22.015 - amici.de_model - INFO - Finished computing x0                              (2.35E-03s)\n"
     ]
    },
    {
     "name": "stdout",
     "output_type": "stream",
     "text": [
      "found a filepath\n"
     ]
    },
    {
     "name": "stderr",
     "output_type": "stream",
     "text": [
      "2024-05-24 17:44:22.029 - amici.de_model - INFO - Finished computing w                               (1.06E-02s)\n",
      "2024-05-24 17:44:22.632 - amici.de_export - INFO - Finished generating cpp code                      (5.99E-01s)\n",
      "2024-05-24 17:44:30.652 - amici.de_export - INFO - Finished compiling cpp code                       (8.02E+00s)\n",
      "/Users/alexanderpatrie/Desktop/repos/biosimulator-processes/biosimulator_processes/processes/copasi_process.py:194: FutureWarning:\n",
      "\n",
      "Series.__getitem__ treating keys as positions is deprecated. In a future version, integer keys will always be treated as labels (consistent with DataFrame behavior). To access a value by position, use `ser.iloc[pos]`\n",
      "\n"
     ]
    },
    {
     "name": "stdout",
     "output_type": "stream",
     "text": [
      "[<biosimulator_processes.processes.instance.ODEProcess object at 0x36b77b3a0>, <biosimulator_processes.processes.instance.ODEProcess object at 0x36b779840>, <biosimulator_processes.processes.instance.ODEProcess object at 0x36d1281c0>]\n"
     ]
    },
    {
     "ename": "KeyboardInterrupt",
     "evalue": "",
     "output_type": "error",
     "traceback": [
      "\u001B[0;31m---------------------------------------------------------------------------\u001B[0m",
      "\u001B[0;31mKeyboardInterrupt\u001B[0m                         Traceback (most recent call last)",
      "Cell \u001B[0;32mIn[5], line 8\u001B[0m\n\u001B[1;32m      3\u001B[0m     \u001B[38;5;28mprint\u001B[39m(processes)\n\u001B[1;32m      5\u001B[0m     \u001B[38;5;28;01mreturn\u001B[39;00m [process\u001B[38;5;241m.\u001B[39mrun({}) \u001B[38;5;28;01mfor\u001B[39;00m process \u001B[38;5;129;01min\u001B[39;00m processes]\n\u001B[0;32m----> 8\u001B[0m \u001B[43mrun_ode_comparison\u001B[49m\u001B[43m(\u001B[49m\u001B[43mproc_addresses\u001B[49m\u001B[43m,\u001B[49m\u001B[43m \u001B[49m\u001B[43mfp\u001B[49m\u001B[43m,\u001B[49m\u001B[43m \u001B[49m\u001B[43mstep\u001B[49m\u001B[43m,\u001B[49m\u001B[43m \u001B[49m\u001B[43mdur\u001B[49m\u001B[43m,\u001B[49m\u001B[43m \u001B[49m\u001B[43mobs1\u001B[49m\u001B[43m)\u001B[49m\n",
      "Cell \u001B[0;32mIn[5], line 5\u001B[0m, in \u001B[0;36mrun_ode_comparison\u001B[0;34m(process_addresses, model_fp, step, dur, observables)\u001B[0m\n\u001B[1;32m      2\u001B[0m processes \u001B[38;5;241m=\u001B[39m [generate_ode_process_instance(entrypoint\u001B[38;5;241m=\u001B[39mmodel_fp, process_address\u001B[38;5;241m=\u001B[39maddress, step_size\u001B[38;5;241m=\u001B[39mstep, duration\u001B[38;5;241m=\u001B[39mdur, observables\u001B[38;5;241m=\u001B[39mobservables) \u001B[38;5;28;01mfor\u001B[39;00m address \u001B[38;5;129;01min\u001B[39;00m process_addresses]\n\u001B[1;32m      3\u001B[0m \u001B[38;5;28mprint\u001B[39m(processes)\n\u001B[0;32m----> 5\u001B[0m \u001B[38;5;28;01mreturn\u001B[39;00m [process\u001B[38;5;241m.\u001B[39mrun({}) \u001B[38;5;28;01mfor\u001B[39;00m process \u001B[38;5;129;01min\u001B[39;00m processes]\n",
      "Cell \u001B[0;32mIn[5], line 5\u001B[0m, in \u001B[0;36m<listcomp>\u001B[0;34m(.0)\u001B[0m\n\u001B[1;32m      2\u001B[0m processes \u001B[38;5;241m=\u001B[39m [generate_ode_process_instance(entrypoint\u001B[38;5;241m=\u001B[39mmodel_fp, process_address\u001B[38;5;241m=\u001B[39maddress, step_size\u001B[38;5;241m=\u001B[39mstep, duration\u001B[38;5;241m=\u001B[39mdur, observables\u001B[38;5;241m=\u001B[39mobservables) \u001B[38;5;28;01mfor\u001B[39;00m address \u001B[38;5;129;01min\u001B[39;00m process_addresses]\n\u001B[1;32m      3\u001B[0m \u001B[38;5;28mprint\u001B[39m(processes)\n\u001B[0;32m----> 5\u001B[0m \u001B[38;5;28;01mreturn\u001B[39;00m [\u001B[43mprocess\u001B[49m\u001B[38;5;241;43m.\u001B[39;49m\u001B[43mrun\u001B[49m\u001B[43m(\u001B[49m\u001B[43m{\u001B[49m\u001B[43m}\u001B[49m\u001B[43m)\u001B[49m \u001B[38;5;28;01mfor\u001B[39;00m process \u001B[38;5;129;01min\u001B[39;00m processes]\n",
      "File \u001B[0;32m~/Desktop/repos/biosimulator-processes/biosimulator_processes/processes/instance.py:15\u001B[0m, in \u001B[0;36mODEProcess.run\u001B[0;34m(self, input_state)\u001B[0m\n\u001B[1;32m     14\u001B[0m \u001B[38;5;28;01mdef\u001B[39;00m \u001B[38;5;21mrun\u001B[39m(\u001B[38;5;28mself\u001B[39m, input_state\u001B[38;5;241m=\u001B[39m\u001B[38;5;28;01mNone\u001B[39;00m):\n\u001B[0;32m---> 15\u001B[0m     \u001B[38;5;28;01mreturn\u001B[39;00m \u001B[38;5;28;43mself\u001B[39;49m\u001B[38;5;241;43m.\u001B[39;49m\u001B[43mupdate\u001B[49m\u001B[43m(\u001B[49m\u001B[43minput_state\u001B[49m\u001B[43m \u001B[49m\u001B[38;5;129;43;01mor\u001B[39;49;00m\u001B[43m \u001B[49m\u001B[43m{\u001B[49m\u001B[43m}\u001B[49m\u001B[43m)\u001B[49m\n",
      "File \u001B[0;32m~/Library/Caches/pypoetry/virtualenvs/biosimulator-processes-JaN5cQMh-py3.10/lib/python3.10/site-packages/process_bigraph/experiments/parameter_scan.py:208\u001B[0m, in \u001B[0;36mRunProcess.update\u001B[0;34m(self, inputs)\u001B[0m\n\u001B[1;32m    202\u001B[0m \u001B[38;5;28;01mdef\u001B[39;00m \u001B[38;5;21mupdate\u001B[39m(\u001B[38;5;28mself\u001B[39m, inputs):\n\u001B[1;32m    203\u001B[0m     \u001B[38;5;66;03m# TODO: instead of the composite being a reference it is instead read through\u001B[39;00m\n\u001B[1;32m    204\u001B[0m     \u001B[38;5;66;03m#   some port and lives in the state of the simulation (??)\u001B[39;00m\n\u001B[1;32m    205\u001B[0m     \u001B[38;5;28mself\u001B[39m\u001B[38;5;241m.\u001B[39mcomposite\u001B[38;5;241m.\u001B[39mmerge(\n\u001B[1;32m    206\u001B[0m         inputs)\n\u001B[0;32m--> 208\u001B[0m     \u001B[38;5;28;43mself\u001B[39;49m\u001B[38;5;241;43m.\u001B[39;49m\u001B[43mcomposite\u001B[49m\u001B[38;5;241;43m.\u001B[39;49m\u001B[43mrun\u001B[49m\u001B[43m(\u001B[49m\n\u001B[1;32m    209\u001B[0m \u001B[43m        \u001B[49m\u001B[38;5;28;43mself\u001B[39;49m\u001B[38;5;241;43m.\u001B[39;49m\u001B[43mconfig\u001B[49m\u001B[43m[\u001B[49m\u001B[38;5;124;43m'\u001B[39;49m\u001B[38;5;124;43mruntime\u001B[39;49m\u001B[38;5;124;43m'\u001B[39;49m\u001B[43m]\u001B[49m\u001B[43m)\u001B[49m\n\u001B[1;32m    211\u001B[0m     histories \u001B[38;5;241m=\u001B[39m \u001B[38;5;28mself\u001B[39m\u001B[38;5;241m.\u001B[39mcomposite\u001B[38;5;241m.\u001B[39mgather_results()\n\u001B[1;32m    213\u001B[0m     results \u001B[38;5;241m=\u001B[39m {\n\u001B[1;32m    214\u001B[0m         key: timeseries_from_history(\n\u001B[1;32m    215\u001B[0m             history,\n\u001B[1;32m    216\u001B[0m             \u001B[38;5;28mself\u001B[39m\u001B[38;5;241m.\u001B[39mconfig[\u001B[38;5;124m'\u001B[39m\u001B[38;5;124mobservables\u001B[39m\u001B[38;5;124m'\u001B[39m] \u001B[38;5;241m+\u001B[39m [[\u001B[38;5;124m'\u001B[39m\u001B[38;5;124mtime\u001B[39m\u001B[38;5;124m'\u001B[39m]])\n\u001B[1;32m    217\u001B[0m         \u001B[38;5;28;01mfor\u001B[39;00m key, history \u001B[38;5;129;01min\u001B[39;00m histories\u001B[38;5;241m.\u001B[39mitems()}\n",
      "File \u001B[0;32m~/Library/Caches/pypoetry/virtualenvs/biosimulator-processes-JaN5cQMh-py3.10/lib/python3.10/site-packages/process_bigraph/composite.py:1044\u001B[0m, in \u001B[0;36mComposite.run\u001B[0;34m(self, interval, force_complete)\u001B[0m\n\u001B[1;32m   1042\u001B[0m \u001B[38;5;28;01mfor\u001B[39;00m path \u001B[38;5;129;01min\u001B[39;00m \u001B[38;5;28mself\u001B[39m\u001B[38;5;241m.\u001B[39mprocess_paths:\n\u001B[1;32m   1043\u001B[0m     process \u001B[38;5;241m=\u001B[39m get_path(\u001B[38;5;28mself\u001B[39m\u001B[38;5;241m.\u001B[39mstate, path)\n\u001B[0;32m-> 1044\u001B[0m     full_step \u001B[38;5;241m=\u001B[39m \u001B[38;5;28;43mself\u001B[39;49m\u001B[38;5;241;43m.\u001B[39;49m\u001B[43mrun_process\u001B[49m\u001B[43m(\u001B[49m\n\u001B[1;32m   1045\u001B[0m \u001B[43m        \u001B[49m\u001B[43mpath\u001B[49m\u001B[43m,\u001B[49m\n\u001B[1;32m   1046\u001B[0m \u001B[43m        \u001B[49m\u001B[43mprocess\u001B[49m\u001B[43m,\u001B[49m\n\u001B[1;32m   1047\u001B[0m \u001B[43m        \u001B[49m\u001B[43mend_time\u001B[49m\u001B[43m,\u001B[49m\n\u001B[1;32m   1048\u001B[0m \u001B[43m        \u001B[49m\u001B[43mfull_step\u001B[49m\u001B[43m,\u001B[49m\n\u001B[1;32m   1049\u001B[0m \u001B[43m        \u001B[49m\u001B[43mforce_complete\u001B[49m\u001B[43m)\u001B[49m\n\u001B[1;32m   1051\u001B[0m \u001B[38;5;66;03m# apply updates based on process times in self.front\u001B[39;00m\n\u001B[1;32m   1052\u001B[0m \u001B[38;5;28;01mif\u001B[39;00m full_step \u001B[38;5;241m==\u001B[39m math\u001B[38;5;241m.\u001B[39minf:\n\u001B[1;32m   1053\u001B[0m     \u001B[38;5;66;03m# no processes ran, jump to next process\u001B[39;00m\n",
      "File \u001B[0;32m~/Library/Caches/pypoetry/virtualenvs/biosimulator-processes-JaN5cQMh-py3.10/lib/python3.10/site-packages/process_bigraph/composite.py:974\u001B[0m, in \u001B[0;36mComposite.run_process\u001B[0;34m(self, path, process, end_time, full_step, force_complete)\u001B[0m\n\u001B[1;32m    971\u001B[0m     full_step \u001B[38;5;241m=\u001B[39m interval\n\u001B[1;32m    973\u001B[0m \u001B[38;5;28;01mif\u001B[39;00m future \u001B[38;5;241m<\u001B[39m\u001B[38;5;241m=\u001B[39m end_time:\n\u001B[0;32m--> 974\u001B[0m     update \u001B[38;5;241m=\u001B[39m \u001B[38;5;28;43mself\u001B[39;49m\u001B[38;5;241;43m.\u001B[39;49m\u001B[43mprocess_update\u001B[49m\u001B[43m(\u001B[49m\n\u001B[1;32m    975\u001B[0m \u001B[43m        \u001B[49m\u001B[43mpath\u001B[49m\u001B[43m,\u001B[49m\n\u001B[1;32m    976\u001B[0m \u001B[43m        \u001B[49m\u001B[43mprocess\u001B[49m\u001B[43m,\u001B[49m\n\u001B[1;32m    977\u001B[0m \u001B[43m        \u001B[49m\u001B[43mstate\u001B[49m\u001B[43m,\u001B[49m\n\u001B[1;32m    978\u001B[0m \u001B[43m        \u001B[49m\u001B[43mprocess_interval\u001B[49m\n\u001B[1;32m    979\u001B[0m \u001B[43m    \u001B[49m\u001B[43m)\u001B[49m\n\u001B[1;32m    981\u001B[0m     \u001B[38;5;66;03m# update front, to be applied at its projected time\u001B[39;00m\n\u001B[1;32m    982\u001B[0m     \u001B[38;5;28mself\u001B[39m\u001B[38;5;241m.\u001B[39mfront[path][\u001B[38;5;124m'\u001B[39m\u001B[38;5;124mtime\u001B[39m\u001B[38;5;124m'\u001B[39m] \u001B[38;5;241m=\u001B[39m future\n",
      "File \u001B[0;32m~/Library/Caches/pypoetry/virtualenvs/biosimulator-processes-JaN5cQMh-py3.10/lib/python3.10/site-packages/process_bigraph/composite.py:916\u001B[0m, in \u001B[0;36mComposite.process_update\u001B[0;34m(self, path, process, states, interval, ports_key)\u001B[0m\n\u001B[1;32m    889\u001B[0m \u001B[38;5;28;01mdef\u001B[39;00m \u001B[38;5;21mprocess_update\u001B[39m(\n\u001B[1;32m    890\u001B[0m         \u001B[38;5;28mself\u001B[39m,\n\u001B[1;32m    891\u001B[0m         path,\n\u001B[0;32m   (...)\u001B[0m\n\u001B[1;32m    894\u001B[0m         interval,\n\u001B[1;32m    895\u001B[0m         ports_key\u001B[38;5;241m=\u001B[39m\u001B[38;5;124m'\u001B[39m\u001B[38;5;124moutputs\u001B[39m\u001B[38;5;124m'\u001B[39m):\n\u001B[1;32m    897\u001B[0m \u001B[38;5;250m    \u001B[39m\u001B[38;5;124;03m\"\"\"Start generating a process's update.\u001B[39;00m\n\u001B[1;32m    898\u001B[0m \n\u001B[1;32m    899\u001B[0m \u001B[38;5;124;03m    This function is similar to :py:meth:`_invoke_process` except in\u001B[39;00m\n\u001B[0;32m   (...)\u001B[0m\n\u001B[1;32m    914\u001B[0m \u001B[38;5;124;03m        ``store``.\u001B[39;00m\n\u001B[1;32m    915\u001B[0m \u001B[38;5;124;03m    \"\"\"\u001B[39;00m\n\u001B[0;32m--> 916\u001B[0m     update \u001B[38;5;241m=\u001B[39m \u001B[43mprocess\u001B[49m\u001B[43m[\u001B[49m\u001B[38;5;124;43m'\u001B[39;49m\u001B[38;5;124;43minstance\u001B[39;49m\u001B[38;5;124;43m'\u001B[39;49m\u001B[43m]\u001B[49m\u001B[38;5;241;43m.\u001B[39;49m\u001B[43minvoke\u001B[49m\u001B[43m(\u001B[49m\u001B[43mstates\u001B[49m\u001B[43m,\u001B[49m\u001B[43m \u001B[49m\u001B[43minterval\u001B[49m\u001B[43m)\u001B[49m\n\u001B[1;32m    918\u001B[0m     \u001B[38;5;28;01mdef\u001B[39;00m \u001B[38;5;21mdefer_project\u001B[39m(update, args):\n\u001B[1;32m    919\u001B[0m         schema, state, path \u001B[38;5;241m=\u001B[39m args\n",
      "File \u001B[0;32m~/Library/Caches/pypoetry/virtualenvs/biosimulator-processes-JaN5cQMh-py3.10/lib/python3.10/site-packages/process_bigraph/composite.py:466\u001B[0m, in \u001B[0;36mProcess.invoke\u001B[0;34m(self, state, interval)\u001B[0m\n\u001B[1;32m    465\u001B[0m \u001B[38;5;28;01mdef\u001B[39;00m \u001B[38;5;21minvoke\u001B[39m(\u001B[38;5;28mself\u001B[39m, state, interval):\n\u001B[0;32m--> 466\u001B[0m     update \u001B[38;5;241m=\u001B[39m \u001B[38;5;28;43mself\u001B[39;49m\u001B[38;5;241;43m.\u001B[39;49m\u001B[43mupdate\u001B[49m\u001B[43m(\u001B[49m\u001B[43mstate\u001B[49m\u001B[43m,\u001B[49m\u001B[43m \u001B[49m\u001B[43minterval\u001B[49m\u001B[43m)\u001B[49m\n\u001B[1;32m    467\u001B[0m     sync \u001B[38;5;241m=\u001B[39m SyncUpdate(update)\n\u001B[1;32m    468\u001B[0m     \u001B[38;5;28;01mreturn\u001B[39;00m sync\n",
      "File \u001B[0;32m~/Desktop/repos/biosimulator-processes/biosimulator_processes/processes/copasi_process.py:193\u001B[0m, in \u001B[0;36mCopasiProcess.update\u001B[0;34m(self, inputs, interval)\u001B[0m\n\u001B[1;32m    191\u001B[0m results \u001B[38;5;241m=\u001B[39m {\u001B[38;5;124m'\u001B[39m\u001B[38;5;124mtime\u001B[39m\u001B[38;5;124m'\u001B[39m: interval}\n\u001B[1;32m    192\u001B[0m \u001B[38;5;28;01mif\u001B[39;00m \u001B[38;5;28mself\u001B[39m\u001B[38;5;241m.\u001B[39muse_counts:\n\u001B[0;32m--> 193\u001B[0m     results[\u001B[38;5;28mself\u001B[39m\u001B[38;5;241m.\u001B[39mspecies_context_key] \u001B[38;5;241m=\u001B[39m {\n\u001B[1;32m    194\u001B[0m         mol_id: \u001B[38;5;28mfloat\u001B[39m(get_species(\n\u001B[1;32m    195\u001B[0m             name\u001B[38;5;241m=\u001B[39mmol_id,\n\u001B[1;32m    196\u001B[0m             exact\u001B[38;5;241m=\u001B[39m\u001B[38;5;28;01mTrue\u001B[39;00m,\n\u001B[1;32m    197\u001B[0m             model\u001B[38;5;241m=\u001B[39m\u001B[38;5;28mself\u001B[39m\u001B[38;5;241m.\u001B[39mcopasi_model_object\n\u001B[1;32m    198\u001B[0m         )\u001B[38;5;241m.\u001B[39mparticle_number[\u001B[38;5;241m0\u001B[39m])\n\u001B[1;32m    199\u001B[0m         \u001B[38;5;28;01mfor\u001B[39;00m mol_id \u001B[38;5;129;01min\u001B[39;00m \u001B[38;5;28mself\u001B[39m\u001B[38;5;241m.\u001B[39mfloating_species_list}\n\u001B[1;32m    200\u001B[0m \u001B[38;5;28;01melse\u001B[39;00m:\n\u001B[1;32m    201\u001B[0m     results[\u001B[38;5;28mself\u001B[39m\u001B[38;5;241m.\u001B[39mspecies_context_key] \u001B[38;5;241m=\u001B[39m {\n\u001B[1;32m    202\u001B[0m         mol_id: \u001B[38;5;28mfloat\u001B[39m(get_species(\n\u001B[1;32m    203\u001B[0m             name\u001B[38;5;241m=\u001B[39mmol_id,\n\u001B[0;32m   (...)\u001B[0m\n\u001B[1;32m    206\u001B[0m         )\u001B[38;5;241m.\u001B[39mconcentration[\u001B[38;5;241m0\u001B[39m])\n\u001B[1;32m    207\u001B[0m         \u001B[38;5;28;01mfor\u001B[39;00m mol_id \u001B[38;5;129;01min\u001B[39;00m \u001B[38;5;28mself\u001B[39m\u001B[38;5;241m.\u001B[39mfloating_species_list}\n",
      "File \u001B[0;32m~/Desktop/repos/biosimulator-processes/biosimulator_processes/processes/copasi_process.py:194\u001B[0m, in \u001B[0;36m<dictcomp>\u001B[0;34m(.0)\u001B[0m\n\u001B[1;32m    191\u001B[0m results \u001B[38;5;241m=\u001B[39m {\u001B[38;5;124m'\u001B[39m\u001B[38;5;124mtime\u001B[39m\u001B[38;5;124m'\u001B[39m: interval}\n\u001B[1;32m    192\u001B[0m \u001B[38;5;28;01mif\u001B[39;00m \u001B[38;5;28mself\u001B[39m\u001B[38;5;241m.\u001B[39muse_counts:\n\u001B[1;32m    193\u001B[0m     results[\u001B[38;5;28mself\u001B[39m\u001B[38;5;241m.\u001B[39mspecies_context_key] \u001B[38;5;241m=\u001B[39m {\n\u001B[0;32m--> 194\u001B[0m         mol_id: \u001B[38;5;28mfloat\u001B[39m(\u001B[43mget_species\u001B[49m\u001B[43m(\u001B[49m\n\u001B[1;32m    195\u001B[0m \u001B[43m            \u001B[49m\u001B[43mname\u001B[49m\u001B[38;5;241;43m=\u001B[39;49m\u001B[43mmol_id\u001B[49m\u001B[43m,\u001B[49m\n\u001B[1;32m    196\u001B[0m \u001B[43m            \u001B[49m\u001B[43mexact\u001B[49m\u001B[38;5;241;43m=\u001B[39;49m\u001B[38;5;28;43;01mTrue\u001B[39;49;00m\u001B[43m,\u001B[49m\n\u001B[1;32m    197\u001B[0m \u001B[43m            \u001B[49m\u001B[43mmodel\u001B[49m\u001B[38;5;241;43m=\u001B[39;49m\u001B[38;5;28;43mself\u001B[39;49m\u001B[38;5;241;43m.\u001B[39;49m\u001B[43mcopasi_model_object\u001B[49m\n\u001B[1;32m    198\u001B[0m \u001B[43m        \u001B[49m\u001B[43m)\u001B[49m\u001B[38;5;241m.\u001B[39mparticle_number[\u001B[38;5;241m0\u001B[39m])\n\u001B[1;32m    199\u001B[0m         \u001B[38;5;28;01mfor\u001B[39;00m mol_id \u001B[38;5;129;01min\u001B[39;00m \u001B[38;5;28mself\u001B[39m\u001B[38;5;241m.\u001B[39mfloating_species_list}\n\u001B[1;32m    200\u001B[0m \u001B[38;5;28;01melse\u001B[39;00m:\n\u001B[1;32m    201\u001B[0m     results[\u001B[38;5;28mself\u001B[39m\u001B[38;5;241m.\u001B[39mspecies_context_key] \u001B[38;5;241m=\u001B[39m {\n\u001B[1;32m    202\u001B[0m         mol_id: \u001B[38;5;28mfloat\u001B[39m(get_species(\n\u001B[1;32m    203\u001B[0m             name\u001B[38;5;241m=\u001B[39mmol_id,\n\u001B[0;32m   (...)\u001B[0m\n\u001B[1;32m    206\u001B[0m         )\u001B[38;5;241m.\u001B[39mconcentration[\u001B[38;5;241m0\u001B[39m])\n\u001B[1;32m    207\u001B[0m         \u001B[38;5;28;01mfor\u001B[39;00m mol_id \u001B[38;5;129;01min\u001B[39;00m \u001B[38;5;28mself\u001B[39m\u001B[38;5;241m.\u001B[39mfloating_species_list}\n",
      "File \u001B[0;32m~/Library/Caches/pypoetry/virtualenvs/biosimulator-processes-JaN5cQMh-py3.10/lib/python3.10/site-packages/basico/model_info.py:419\u001B[0m, in \u001B[0;36mget_species\u001B[0;34m(name, exact, **kwargs)\u001B[0m\n\u001B[1;32m    416\u001B[0m \u001B[38;5;28;01mif\u001B[39;00m \u001B[38;5;129;01mnot\u001B[39;00m data:\n\u001B[1;32m    417\u001B[0m     \u001B[38;5;28;01mreturn\u001B[39;00m \u001B[38;5;28;01mNone\u001B[39;00m\n\u001B[0;32m--> 419\u001B[0m \u001B[38;5;28;01mreturn\u001B[39;00m \u001B[43mpandas\u001B[49m\u001B[38;5;241;43m.\u001B[39;49m\u001B[43mDataFrame\u001B[49m\u001B[43m(\u001B[49m\u001B[43mdata\u001B[49m\u001B[38;5;241;43m=\u001B[39;49m\u001B[43mdata\u001B[49m\u001B[43m)\u001B[49m\u001B[38;5;241m.\u001B[39mset_index(\u001B[38;5;124m'\u001B[39m\u001B[38;5;124mname\u001B[39m\u001B[38;5;124m'\u001B[39m)\n",
      "File \u001B[0;32m~/Library/Caches/pypoetry/virtualenvs/biosimulator-processes-JaN5cQMh-py3.10/lib/python3.10/site-packages/pandas/core/frame.py:851\u001B[0m, in \u001B[0;36mDataFrame.__init__\u001B[0;34m(self, data, index, columns, dtype, copy)\u001B[0m\n\u001B[1;32m    849\u001B[0m     \u001B[38;5;28;01mif\u001B[39;00m columns \u001B[38;5;129;01mis\u001B[39;00m \u001B[38;5;129;01mnot\u001B[39;00m \u001B[38;5;28;01mNone\u001B[39;00m:\n\u001B[1;32m    850\u001B[0m         columns \u001B[38;5;241m=\u001B[39m ensure_index(columns)\n\u001B[0;32m--> 851\u001B[0m     arrays, columns, index \u001B[38;5;241m=\u001B[39m \u001B[43mnested_data_to_arrays\u001B[49m\u001B[43m(\u001B[49m\n\u001B[1;32m    852\u001B[0m \u001B[43m        \u001B[49m\u001B[38;5;66;43;03m# error: Argument 3 to \"nested_data_to_arrays\" has incompatible\u001B[39;49;00m\n\u001B[1;32m    853\u001B[0m \u001B[43m        \u001B[49m\u001B[38;5;66;43;03m# type \"Optional[Collection[Any]]\"; expected \"Optional[Index]\"\u001B[39;49;00m\n\u001B[1;32m    854\u001B[0m \u001B[43m        \u001B[49m\u001B[43mdata\u001B[49m\u001B[43m,\u001B[49m\n\u001B[1;32m    855\u001B[0m \u001B[43m        \u001B[49m\u001B[43mcolumns\u001B[49m\u001B[43m,\u001B[49m\n\u001B[1;32m    856\u001B[0m \u001B[43m        \u001B[49m\u001B[43mindex\u001B[49m\u001B[43m,\u001B[49m\u001B[43m  \u001B[49m\u001B[38;5;66;43;03m# type: ignore[arg-type]\u001B[39;49;00m\n\u001B[1;32m    857\u001B[0m \u001B[43m        \u001B[49m\u001B[43mdtype\u001B[49m\u001B[43m,\u001B[49m\n\u001B[1;32m    858\u001B[0m \u001B[43m    \u001B[49m\u001B[43m)\u001B[49m\n\u001B[1;32m    859\u001B[0m     mgr \u001B[38;5;241m=\u001B[39m arrays_to_mgr(\n\u001B[1;32m    860\u001B[0m         arrays,\n\u001B[1;32m    861\u001B[0m         columns,\n\u001B[0;32m   (...)\u001B[0m\n\u001B[1;32m    864\u001B[0m         typ\u001B[38;5;241m=\u001B[39mmanager,\n\u001B[1;32m    865\u001B[0m     )\n\u001B[1;32m    866\u001B[0m \u001B[38;5;28;01melse\u001B[39;00m:\n",
      "File \u001B[0;32m~/Library/Caches/pypoetry/virtualenvs/biosimulator-processes-JaN5cQMh-py3.10/lib/python3.10/site-packages/pandas/core/internals/construction.py:520\u001B[0m, in \u001B[0;36mnested_data_to_arrays\u001B[0;34m(data, columns, index, dtype)\u001B[0m\n\u001B[1;32m    517\u001B[0m \u001B[38;5;28;01mif\u001B[39;00m is_named_tuple(data[\u001B[38;5;241m0\u001B[39m]) \u001B[38;5;129;01mand\u001B[39;00m columns \u001B[38;5;129;01mis\u001B[39;00m \u001B[38;5;28;01mNone\u001B[39;00m:\n\u001B[1;32m    518\u001B[0m     columns \u001B[38;5;241m=\u001B[39m ensure_index(data[\u001B[38;5;241m0\u001B[39m]\u001B[38;5;241m.\u001B[39m_fields)\n\u001B[0;32m--> 520\u001B[0m arrays, columns \u001B[38;5;241m=\u001B[39m \u001B[43mto_arrays\u001B[49m\u001B[43m(\u001B[49m\u001B[43mdata\u001B[49m\u001B[43m,\u001B[49m\u001B[43m \u001B[49m\u001B[43mcolumns\u001B[49m\u001B[43m,\u001B[49m\u001B[43m \u001B[49m\u001B[43mdtype\u001B[49m\u001B[38;5;241;43m=\u001B[39;49m\u001B[43mdtype\u001B[49m\u001B[43m)\u001B[49m\n\u001B[1;32m    521\u001B[0m columns \u001B[38;5;241m=\u001B[39m ensure_index(columns)\n\u001B[1;32m    523\u001B[0m \u001B[38;5;28;01mif\u001B[39;00m index \u001B[38;5;129;01mis\u001B[39;00m \u001B[38;5;28;01mNone\u001B[39;00m:\n",
      "File \u001B[0;32m~/Library/Caches/pypoetry/virtualenvs/biosimulator-processes-JaN5cQMh-py3.10/lib/python3.10/site-packages/pandas/core/internals/construction.py:837\u001B[0m, in \u001B[0;36mto_arrays\u001B[0;34m(data, columns, dtype)\u001B[0m\n\u001B[1;32m    835\u001B[0m     arr \u001B[38;5;241m=\u001B[39m _list_to_arrays(data)\n\u001B[1;32m    836\u001B[0m \u001B[38;5;28;01melif\u001B[39;00m \u001B[38;5;28misinstance\u001B[39m(data[\u001B[38;5;241m0\u001B[39m], abc\u001B[38;5;241m.\u001B[39mMapping):\n\u001B[0;32m--> 837\u001B[0m     arr, columns \u001B[38;5;241m=\u001B[39m \u001B[43m_list_of_dict_to_arrays\u001B[49m\u001B[43m(\u001B[49m\u001B[43mdata\u001B[49m\u001B[43m,\u001B[49m\u001B[43m \u001B[49m\u001B[43mcolumns\u001B[49m\u001B[43m)\u001B[49m\n\u001B[1;32m    838\u001B[0m \u001B[38;5;28;01melif\u001B[39;00m \u001B[38;5;28misinstance\u001B[39m(data[\u001B[38;5;241m0\u001B[39m], ABCSeries):\n\u001B[1;32m    839\u001B[0m     arr, columns \u001B[38;5;241m=\u001B[39m _list_of_series_to_arrays(data, columns)\n",
      "File \u001B[0;32m~/Library/Caches/pypoetry/virtualenvs/biosimulator-processes-JaN5cQMh-py3.10/lib/python3.10/site-packages/pandas/core/internals/construction.py:918\u001B[0m, in \u001B[0;36m_list_of_dict_to_arrays\u001B[0;34m(data, columns)\u001B[0m\n\u001B[1;32m    916\u001B[0m     sort \u001B[38;5;241m=\u001B[39m \u001B[38;5;129;01mnot\u001B[39;00m \u001B[38;5;28many\u001B[39m(\u001B[38;5;28misinstance\u001B[39m(d, \u001B[38;5;28mdict\u001B[39m) \u001B[38;5;28;01mfor\u001B[39;00m d \u001B[38;5;129;01min\u001B[39;00m data)\n\u001B[1;32m    917\u001B[0m     pre_cols \u001B[38;5;241m=\u001B[39m lib\u001B[38;5;241m.\u001B[39mfast_unique_multiple_list_gen(gen, sort\u001B[38;5;241m=\u001B[39msort)\n\u001B[0;32m--> 918\u001B[0m     columns \u001B[38;5;241m=\u001B[39m \u001B[43mensure_index\u001B[49m\u001B[43m(\u001B[49m\u001B[43mpre_cols\u001B[49m\u001B[43m)\u001B[49m\n\u001B[1;32m    920\u001B[0m \u001B[38;5;66;03m# assure that they are of the base dict class and not of derived\u001B[39;00m\n\u001B[1;32m    921\u001B[0m \u001B[38;5;66;03m# classes\u001B[39;00m\n\u001B[1;32m    922\u001B[0m data \u001B[38;5;241m=\u001B[39m [d \u001B[38;5;28;01mif\u001B[39;00m \u001B[38;5;28mtype\u001B[39m(d) \u001B[38;5;129;01mis\u001B[39;00m \u001B[38;5;28mdict\u001B[39m \u001B[38;5;28;01melse\u001B[39;00m \u001B[38;5;28mdict\u001B[39m(d) \u001B[38;5;28;01mfor\u001B[39;00m d \u001B[38;5;129;01min\u001B[39;00m data]  \u001B[38;5;66;03m# noqa: E721\u001B[39;00m\n",
      "File \u001B[0;32m~/Library/Caches/pypoetry/virtualenvs/biosimulator-processes-JaN5cQMh-py3.10/lib/python3.10/site-packages/pandas/core/indexes/base.py:7647\u001B[0m, in \u001B[0;36mensure_index\u001B[0;34m(index_like, copy)\u001B[0m\n\u001B[1;32m   7645\u001B[0m         \u001B[38;5;28;01mreturn\u001B[39;00m MultiIndex\u001B[38;5;241m.\u001B[39mfrom_arrays(index_like)\n\u001B[1;32m   7646\u001B[0m     \u001B[38;5;28;01melse\u001B[39;00m:\n\u001B[0;32m-> 7647\u001B[0m         \u001B[38;5;28;01mreturn\u001B[39;00m \u001B[43mIndex\u001B[49m\u001B[43m(\u001B[49m\u001B[43mindex_like\u001B[49m\u001B[43m,\u001B[49m\u001B[43m \u001B[49m\u001B[43mcopy\u001B[49m\u001B[38;5;241;43m=\u001B[39;49m\u001B[43mcopy\u001B[49m\u001B[43m,\u001B[49m\u001B[43m \u001B[49m\u001B[43mtupleize_cols\u001B[49m\u001B[38;5;241;43m=\u001B[39;49m\u001B[38;5;28;43;01mFalse\u001B[39;49;00m\u001B[43m)\u001B[49m\n\u001B[1;32m   7648\u001B[0m \u001B[38;5;28;01melse\u001B[39;00m:\n\u001B[1;32m   7649\u001B[0m     \u001B[38;5;28;01mreturn\u001B[39;00m Index(index_like, copy\u001B[38;5;241m=\u001B[39mcopy)\n",
      "File \u001B[0;32m~/Library/Caches/pypoetry/virtualenvs/biosimulator-processes-JaN5cQMh-py3.10/lib/python3.10/site-packages/pandas/core/indexes/base.py:565\u001B[0m, in \u001B[0;36mIndex.__new__\u001B[0;34m(cls, data, dtype, copy, name, tupleize_cols)\u001B[0m\n\u001B[1;32m    562\u001B[0m         data \u001B[38;5;241m=\u001B[39m com\u001B[38;5;241m.\u001B[39masarray_tuplesafe(data, dtype\u001B[38;5;241m=\u001B[39m_dtype_obj)\n\u001B[1;32m    564\u001B[0m \u001B[38;5;28;01mtry\u001B[39;00m:\n\u001B[0;32m--> 565\u001B[0m     arr \u001B[38;5;241m=\u001B[39m \u001B[43msanitize_array\u001B[49m\u001B[43m(\u001B[49m\u001B[43mdata\u001B[49m\u001B[43m,\u001B[49m\u001B[43m \u001B[49m\u001B[38;5;28;43;01mNone\u001B[39;49;00m\u001B[43m,\u001B[49m\u001B[43m \u001B[49m\u001B[43mdtype\u001B[49m\u001B[38;5;241;43m=\u001B[39;49m\u001B[43mdtype\u001B[49m\u001B[43m,\u001B[49m\u001B[43m \u001B[49m\u001B[43mcopy\u001B[49m\u001B[38;5;241;43m=\u001B[39;49m\u001B[43mcopy\u001B[49m\u001B[43m)\u001B[49m\n\u001B[1;32m    566\u001B[0m \u001B[38;5;28;01mexcept\u001B[39;00m \u001B[38;5;167;01mValueError\u001B[39;00m \u001B[38;5;28;01mas\u001B[39;00m err:\n\u001B[1;32m    567\u001B[0m     \u001B[38;5;28;01mif\u001B[39;00m \u001B[38;5;124m\"\u001B[39m\u001B[38;5;124mindex must be specified when data is not list-like\u001B[39m\u001B[38;5;124m\"\u001B[39m \u001B[38;5;129;01min\u001B[39;00m \u001B[38;5;28mstr\u001B[39m(err):\n",
      "File \u001B[0;32m~/Library/Caches/pypoetry/virtualenvs/biosimulator-processes-JaN5cQMh-py3.10/lib/python3.10/site-packages/pandas/core/construction.py:657\u001B[0m, in \u001B[0;36msanitize_array\u001B[0;34m(data, index, dtype, copy, allow_2d)\u001B[0m\n\u001B[1;32m    655\u001B[0m         \u001B[38;5;28;01mif\u001B[39;00m subarr\u001B[38;5;241m.\u001B[39mdtype \u001B[38;5;241m==\u001B[39m \u001B[38;5;28mobject\u001B[39m:\n\u001B[1;32m    656\u001B[0m             subarr \u001B[38;5;241m=\u001B[39m cast(np\u001B[38;5;241m.\u001B[39mndarray, subarr)\n\u001B[0;32m--> 657\u001B[0m             subarr \u001B[38;5;241m=\u001B[39m \u001B[43mmaybe_infer_to_datetimelike\u001B[49m\u001B[43m(\u001B[49m\u001B[43msubarr\u001B[49m\u001B[43m)\u001B[49m\n\u001B[1;32m    659\u001B[0m subarr \u001B[38;5;241m=\u001B[39m _sanitize_ndim(subarr, data, dtype, index, allow_2d\u001B[38;5;241m=\u001B[39mallow_2d)\n\u001B[1;32m    661\u001B[0m \u001B[38;5;28;01mif\u001B[39;00m \u001B[38;5;28misinstance\u001B[39m(subarr, np\u001B[38;5;241m.\u001B[39mndarray):\n\u001B[1;32m    662\u001B[0m     \u001B[38;5;66;03m# at this point we should have dtype be None or subarr.dtype == dtype\u001B[39;00m\n",
      "File \u001B[0;32m~/Library/Caches/pypoetry/virtualenvs/biosimulator-processes-JaN5cQMh-py3.10/lib/python3.10/site-packages/pandas/core/dtypes/cast.py:1190\u001B[0m, in \u001B[0;36mmaybe_infer_to_datetimelike\u001B[0;34m(value)\u001B[0m\n\u001B[1;32m   1185\u001B[0m     \u001B[38;5;28;01mreturn\u001B[39;00m value\n\u001B[1;32m   1187\u001B[0m \u001B[38;5;66;03m# error: Incompatible return value type (got \"Union[ExtensionArray,\u001B[39;00m\n\u001B[1;32m   1188\u001B[0m \u001B[38;5;66;03m# ndarray[Any, Any]]\", expected \"Union[ndarray[Any, Any], DatetimeArray,\u001B[39;00m\n\u001B[1;32m   1189\u001B[0m \u001B[38;5;66;03m# TimedeltaArray, PeriodArray, IntervalArray]\")\u001B[39;00m\n\u001B[0;32m-> 1190\u001B[0m \u001B[38;5;28;01mreturn\u001B[39;00m \u001B[43mlib\u001B[49m\u001B[38;5;241;43m.\u001B[39;49m\u001B[43mmaybe_convert_objects\u001B[49m\u001B[43m(\u001B[49m\u001B[43m  \u001B[49m\u001B[38;5;66;43;03m# type: ignore[return-value]\u001B[39;49;00m\n\u001B[1;32m   1191\u001B[0m \u001B[43m    \u001B[49m\u001B[43mvalue\u001B[49m\u001B[43m,\u001B[49m\n\u001B[1;32m   1192\u001B[0m \u001B[43m    \u001B[49m\u001B[38;5;66;43;03m# Here we do not convert numeric dtypes, as if we wanted that,\u001B[39;49;00m\n\u001B[1;32m   1193\u001B[0m \u001B[43m    \u001B[49m\u001B[38;5;66;43;03m#  numpy would have done it for us.\u001B[39;49;00m\n\u001B[1;32m   1194\u001B[0m \u001B[43m    \u001B[49m\u001B[43mconvert_numeric\u001B[49m\u001B[38;5;241;43m=\u001B[39;49m\u001B[38;5;28;43;01mFalse\u001B[39;49;00m\u001B[43m,\u001B[49m\n\u001B[1;32m   1195\u001B[0m \u001B[43m    \u001B[49m\u001B[43mconvert_non_numeric\u001B[49m\u001B[38;5;241;43m=\u001B[39;49m\u001B[38;5;28;43;01mTrue\u001B[39;49;00m\u001B[43m,\u001B[49m\n\u001B[1;32m   1196\u001B[0m \u001B[43m    \u001B[49m\u001B[43mdtype_if_all_nat\u001B[49m\u001B[38;5;241;43m=\u001B[39;49m\u001B[43mnp\u001B[49m\u001B[38;5;241;43m.\u001B[39;49m\u001B[43mdtype\u001B[49m\u001B[43m(\u001B[49m\u001B[38;5;124;43m\"\u001B[39;49m\u001B[38;5;124;43mM8[ns]\u001B[39;49m\u001B[38;5;124;43m\"\u001B[39;49m\u001B[43m)\u001B[49m\u001B[43m,\u001B[49m\n\u001B[1;32m   1197\u001B[0m \u001B[43m\u001B[49m\u001B[43m)\u001B[49m\n",
      "\u001B[0;31mKeyboardInterrupt\u001B[0m: "
     ]
    }
   ],
   "execution_count": 5
  },
  {
   "metadata": {
    "ExecuteTime": {
     "end_time": "2024-05-24T21:42:45.293333Z",
     "start_time": "2024-05-24T21:42:45.291951Z"
    }
   },
   "cell_type": "code",
   "source": "",
   "id": "46bcae7c258c69cd",
   "outputs": [],
   "execution_count": 4
  },
  {
   "metadata": {},
   "cell_type": "code",
   "outputs": [],
   "execution_count": null,
   "source": "",
   "id": "80cfb67a20f5f372"
  }
 ],
 "metadata": {
  "kernelspec": {
   "display_name": "Python 3",
   "language": "python",
   "name": "python3"
  },
  "language_info": {
   "codemirror_mode": {
    "name": "ipython",
    "version": 2
   },
   "file_extension": ".py",
   "mimetype": "text/x-python",
   "name": "python",
   "nbconvert_exporter": "python",
   "pygments_lexer": "ipython2",
   "version": "2.7.6"
  }
 },
 "nbformat": 4,
 "nbformat_minor": 5
}
