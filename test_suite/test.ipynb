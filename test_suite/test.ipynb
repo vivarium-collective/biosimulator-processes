{
 "cells": [
  {
   "cell_type": "code",
   "id": "initial_id",
   "metadata": {
    "collapsed": true,
    "ExecuteTime": {
     "end_time": "2024-05-24T21:29:58.840821Z",
     "start_time": "2024-05-24T21:29:57.362529Z"
    }
   },
   "source": [
    "from biosimulator_processes.processes.copasi_process import CopasiProcess\n",
    "from biosimulator_processes import CORE \n",
    "from process_bigraph import Step\n",
    "from process_bigraph.experiments.parameter_scan import RunProcess"
   ],
   "outputs": [
    {
     "name": "stdout",
     "output_type": "stream",
     "text": [
      "CobraProcess registered successfully as cobra.\n",
      "\n",
      "CopasiProcess registered successfully as copasi.\n",
      "\n",
      "SmoldynProcess registered successfully as smoldyn.\n",
      "\n",
      "TelluriumProcess registered successfully as tellurium.\n",
      "\n",
      "AmiciProcess registered successfully as amici.\n",
      "\n",
      "Available processes:\n",
      "[ 'console-emitter',\n",
      "  'ram-emitter',\n",
      "  'cobra',\n",
      "  'copasi',\n",
      "  'smoldyn',\n",
      "  'tellurium',\n",
      "  'amici']\n",
      "GetSbmlStep not available. Error: No module named 'biosimulator_processes.steps.get_sbml'\n"
     ]
    }
   ],
   "execution_count": 1
  },
  {
   "metadata": {
    "ExecuteTime": {
     "end_time": "2024-05-24T21:29:59.511003Z",
     "start_time": "2024-05-24T21:29:59.508275Z"
    }
   },
   "cell_type": "code",
   "source": "# TODO: put this in comparator step code",
   "id": "a8d4723c01383335",
   "outputs": [],
   "execution_count": 2
  },
  {
   "metadata": {
    "ExecuteTime": {
     "end_time": "2024-05-24T21:32:44.103614Z",
     "start_time": "2024-05-24T21:32:44.103550Z"
    }
   },
   "cell_type": "code",
   "source": [
    "fp = '/Users/alexanderpatrie/Desktop/repos/biosimulator-processes/test_suite/examples/sbml-core/Varusai-Sci-Rep-2018-mTOR-signaling-LSODA-LSODAR-SBML/Varusai2018.xml'\n",
    "\n",
    "copasi_process = RunProcess(config={\n",
    "    'process_address': 'local:copasi',\n",
    "    'process_config': {'model': {'model_source': fp}},\n",
    "    'observables': [['floating_species_concentrations', 'Akt']],\n",
    "    'timestep': 0.7,\n",
    "    'runtime': 100\n",
    "}, core=CORE)\n",
    "\n",
    "\n",
    "t_process = RunProcess(config={\n",
    "    'process_address': 'local:tellurium',\n",
    "    'process_config': {'model': {'model_source': fp}},\n",
    "    'observables': [['floating_species_concentrations', 'Akt']],\n",
    "    'timestep': 0.7,\n",
    "    'runtime': 100\n",
    "}, core=CORE)\n",
    "\n",
    "        \n",
    "\n"
   ],
   "id": "8ea18375e81986ed",
   "outputs": [],
   "execution_count": null
  },
  {
   "metadata": {
    "ExecuteTime": {
     "end_time": "2024-05-24T21:30:00.801243Z",
     "start_time": "2024-05-24T21:30:00.798751Z"
    }
   },
   "cell_type": "code",
   "source": [
    "def adjust_input_state_parameter(ode_process, path_mapping: dict) -> dict:\n",
    "    input_state = ode_process.process.initial_state()\n",
    "    for port_name, mapping in path_mapping.items():\n",
    "        if isinstance(mapping, dict):\n",
    "            for path_key, path_val in mapping.items():\n",
    "                if not isinstance(path_val, dict):\n",
    "                    input_state[port_name][path_key] = path_val\n",
    "    \n",
    "    return input_state\n",
    "    \n",
    "    \n",
    "    "
   ],
   "id": "fe7936d322b38657",
   "outputs": [],
   "execution_count": 4
  },
  {
   "metadata": {
    "ExecuteTime": {
     "end_time": "2024-05-24T21:30:01.322085Z",
     "start_time": "2024-05-24T21:30:01.320410Z"
    }
   },
   "cell_type": "code",
   "source": "",
   "id": "9bc46475cc8c3b62",
   "outputs": [],
   "execution_count": 4
  },
  {
   "metadata": {
    "ExecuteTime": {
     "end_time": "2024-05-24T21:30:01.866140Z",
     "start_time": "2024-05-24T21:30:01.814180Z"
    }
   },
   "cell_type": "code",
   "source": [
    "obs1 = ['floating_species_concentrations', 'Akt']\n",
    "proc_address = 'copasi'\n",
    "step = 0.01\n",
    "dur = 1000\n",
    "\n",
    "\n",
    "copasi_proc = generate_ode_process(fp, process_address=proc_address, simulator='copasi', observables=[obs1], step_size=step, duration=dur)\n"
   ],
   "id": "9626904f1be38508",
   "outputs": [
    {
     "name": "stdout",
     "output_type": "stream",
     "text": [
      "found a filepath\n"
     ]
    }
   ],
   "execution_count": 5
  },
  {
   "metadata": {
    "ExecuteTime": {
     "end_time": "2024-05-24T21:30:02.956667Z",
     "start_time": "2024-05-24T21:30:02.951705Z"
    }
   },
   "cell_type": "code",
   "source": "0.5**0.5",
   "id": "c7ebed15a95f2470",
   "outputs": [
    {
     "data": {
      "text/plain": [
       "0.7071067811865476"
      ]
     },
     "execution_count": 6,
     "metadata": {},
     "output_type": "execute_result"
    }
   ],
   "execution_count": 6
  },
  {
   "metadata": {
    "ExecuteTime": {
     "end_time": "2024-05-24T21:30:03.368927Z",
     "start_time": "2024-05-24T21:30:03.366859Z"
    }
   },
   "cell_type": "code",
   "source": [
    "import numpy as np\n",
    "from random import randint\n",
    "\n",
    "def perturb_param(param_val, perturbation=0.05):\n",
    "    valRange = np.linspace(0, param_val*perturbation)\n",
    "    \n",
    "    random_i = randint(0, valRange.shape[0])\n",
    "    perturbed_val = valRange[random_i]"
   ],
   "id": "8ab062d2b17acd90",
   "outputs": [],
   "execution_count": 7
  },
  {
   "metadata": {
    "ExecuteTime": {
     "end_time": "2024-05-24T21:32:44.102618Z",
     "start_time": "2024-05-24T21:30:04.338973Z"
    }
   },
   "cell_type": "code",
   "source": [
    "\n",
    "input_state = adjust_input_state_parameter(copasi_proc, path_mapping={'floating_species_concentrations': {'pIR': 0.05}})\n",
    "\n",
    "r = copasi_proc.update(input_state)"
   ],
   "id": "98c088be2c3579c9",
   "outputs": [
    {
     "name": "stderr",
     "output_type": "stream",
     "text": [
      "/Users/alexanderpatrie/Desktop/repos/biosimulator-processes/biosimulator_processes/processes/copasi_process.py:194: FutureWarning:\n",
      "\n",
      "Series.__getitem__ treating keys as positions is deprecated. In a future version, integer keys will always be treated as labels (consistent with DataFrame behavior). To access a value by position, use `ser.iloc[pos]`\n",
      "\n"
     ]
    },
    {
     "ename": "KeyboardInterrupt",
     "evalue": "",
     "output_type": "error",
     "traceback": [
      "\u001B[0;31m---------------------------------------------------------------------------\u001B[0m",
      "\u001B[0;31mKeyboardInterrupt\u001B[0m                         Traceback (most recent call last)",
      "\u001B[0;32m/var/folders/yy/8crj8x7x5_3b86f0js6_0bn00000gr/T/ipykernel_19813/4083697966.py\u001B[0m in \u001B[0;36m?\u001B[0;34m()\u001B[0m\n\u001B[1;32m      1\u001B[0m \u001B[0minput_state\u001B[0m \u001B[0;34m=\u001B[0m \u001B[0madjust_input_state_parameter\u001B[0m\u001B[0;34m(\u001B[0m\u001B[0mcopasi_proc\u001B[0m\u001B[0;34m,\u001B[0m \u001B[0mpath_mapping\u001B[0m\u001B[0;34m=\u001B[0m\u001B[0;34m{\u001B[0m\u001B[0;34m'floating_species_concentrations'\u001B[0m\u001B[0;34m:\u001B[0m \u001B[0;34m{\u001B[0m\u001B[0;34m'pIR'\u001B[0m\u001B[0;34m:\u001B[0m \u001B[0;36m0.05\u001B[0m\u001B[0;34m}\u001B[0m\u001B[0;34m}\u001B[0m\u001B[0;34m)\u001B[0m\u001B[0;34m\u001B[0m\u001B[0;34m\u001B[0m\u001B[0m\n\u001B[1;32m      2\u001B[0m \u001B[0;34m\u001B[0m\u001B[0m\n\u001B[0;32m----> 3\u001B[0;31m \u001B[0mr\u001B[0m \u001B[0;34m=\u001B[0m \u001B[0mcopasi_proc\u001B[0m\u001B[0;34m.\u001B[0m\u001B[0mupdate\u001B[0m\u001B[0;34m(\u001B[0m\u001B[0minput_state\u001B[0m\u001B[0;34m)\u001B[0m\u001B[0;34m\u001B[0m\u001B[0;34m\u001B[0m\u001B[0m\n\u001B[0m",
      "\u001B[0;32m~/Library/Caches/pypoetry/virtualenvs/biosimulator-processes-JaN5cQMh-py3.10/lib/python3.10/site-packages/process_bigraph/experiments/parameter_scan.py\u001B[0m in \u001B[0;36m?\u001B[0;34m(self, inputs)\u001B[0m\n\u001B[1;32m    204\u001B[0m         \u001B[0;31m#   some port and lives in the state of the simulation (??)\u001B[0m\u001B[0;34m\u001B[0m\u001B[0;34m\u001B[0m\u001B[0m\n\u001B[1;32m    205\u001B[0m         self.composite.merge(\n\u001B[1;32m    206\u001B[0m             inputs)\n\u001B[1;32m    207\u001B[0m \u001B[0;34m\u001B[0m\u001B[0m\n\u001B[0;32m--> 208\u001B[0;31m         self.composite.run(\n\u001B[0m\u001B[1;32m    209\u001B[0m             self.config['runtime'])\n\u001B[1;32m    210\u001B[0m \u001B[0;34m\u001B[0m\u001B[0m\n\u001B[1;32m    211\u001B[0m         \u001B[0mhistories\u001B[0m \u001B[0;34m=\u001B[0m \u001B[0mself\u001B[0m\u001B[0;34m.\u001B[0m\u001B[0mcomposite\u001B[0m\u001B[0;34m.\u001B[0m\u001B[0mgather_results\u001B[0m\u001B[0;34m(\u001B[0m\u001B[0;34m)\u001B[0m\u001B[0;34m\u001B[0m\u001B[0;34m\u001B[0m\u001B[0m\n",
      "\u001B[0;32m~/Library/Caches/pypoetry/virtualenvs/biosimulator-processes-JaN5cQMh-py3.10/lib/python3.10/site-packages/process_bigraph/composite.py\u001B[0m in \u001B[0;36m?\u001B[0;34m(self, interval, force_complete)\u001B[0m\n\u001B[1;32m   1040\u001B[0m             \u001B[0mfull_step\u001B[0m \u001B[0;34m=\u001B[0m \u001B[0mmath\u001B[0m\u001B[0;34m.\u001B[0m\u001B[0minf\u001B[0m\u001B[0;34m\u001B[0m\u001B[0;34m\u001B[0m\u001B[0m\n\u001B[1;32m   1041\u001B[0m \u001B[0;34m\u001B[0m\u001B[0m\n\u001B[1;32m   1042\u001B[0m             \u001B[0;32mfor\u001B[0m \u001B[0mpath\u001B[0m \u001B[0;32min\u001B[0m \u001B[0mself\u001B[0m\u001B[0;34m.\u001B[0m\u001B[0mprocess_paths\u001B[0m\u001B[0;34m:\u001B[0m\u001B[0;34m\u001B[0m\u001B[0;34m\u001B[0m\u001B[0m\n\u001B[1;32m   1043\u001B[0m                 \u001B[0mprocess\u001B[0m \u001B[0;34m=\u001B[0m \u001B[0mget_path\u001B[0m\u001B[0;34m(\u001B[0m\u001B[0mself\u001B[0m\u001B[0;34m.\u001B[0m\u001B[0mstate\u001B[0m\u001B[0;34m,\u001B[0m \u001B[0mpath\u001B[0m\u001B[0;34m)\u001B[0m\u001B[0;34m\u001B[0m\u001B[0;34m\u001B[0m\u001B[0m\n\u001B[0;32m-> 1044\u001B[0;31m                 full_step = self.run_process(\n\u001B[0m\u001B[1;32m   1045\u001B[0m                     \u001B[0mpath\u001B[0m\u001B[0;34m,\u001B[0m\u001B[0;34m\u001B[0m\u001B[0;34m\u001B[0m\u001B[0m\n\u001B[1;32m   1046\u001B[0m                     \u001B[0mprocess\u001B[0m\u001B[0;34m,\u001B[0m\u001B[0;34m\u001B[0m\u001B[0;34m\u001B[0m\u001B[0m\n\u001B[1;32m   1047\u001B[0m                     \u001B[0mend_time\u001B[0m\u001B[0;34m,\u001B[0m\u001B[0;34m\u001B[0m\u001B[0;34m\u001B[0m\u001B[0m\n",
      "\u001B[0;32m~/Library/Caches/pypoetry/virtualenvs/biosimulator-processes-JaN5cQMh-py3.10/lib/python3.10/site-packages/process_bigraph/composite.py\u001B[0m in \u001B[0;36m?\u001B[0;34m(self, path, process, end_time, full_step, force_complete)\u001B[0m\n\u001B[1;32m    970\u001B[0m             \u001B[0;32mif\u001B[0m \u001B[0minterval\u001B[0m \u001B[0;34m<\u001B[0m \u001B[0mfull_step\u001B[0m\u001B[0;34m:\u001B[0m\u001B[0;34m\u001B[0m\u001B[0;34m\u001B[0m\u001B[0m\n\u001B[1;32m    971\u001B[0m                 \u001B[0mfull_step\u001B[0m \u001B[0;34m=\u001B[0m \u001B[0minterval\u001B[0m\u001B[0;34m\u001B[0m\u001B[0;34m\u001B[0m\u001B[0m\n\u001B[1;32m    972\u001B[0m \u001B[0;34m\u001B[0m\u001B[0m\n\u001B[1;32m    973\u001B[0m             \u001B[0;32mif\u001B[0m \u001B[0mfuture\u001B[0m \u001B[0;34m<=\u001B[0m \u001B[0mend_time\u001B[0m\u001B[0;34m:\u001B[0m\u001B[0;34m\u001B[0m\u001B[0;34m\u001B[0m\u001B[0m\n\u001B[0;32m--> 974\u001B[0;31m                 update = self.process_update(\n\u001B[0m\u001B[1;32m    975\u001B[0m                     \u001B[0mpath\u001B[0m\u001B[0;34m,\u001B[0m\u001B[0;34m\u001B[0m\u001B[0;34m\u001B[0m\u001B[0m\n\u001B[1;32m    976\u001B[0m                     \u001B[0mprocess\u001B[0m\u001B[0;34m,\u001B[0m\u001B[0;34m\u001B[0m\u001B[0;34m\u001B[0m\u001B[0m\n\u001B[1;32m    977\u001B[0m                     \u001B[0mstate\u001B[0m\u001B[0;34m,\u001B[0m\u001B[0;34m\u001B[0m\u001B[0;34m\u001B[0m\u001B[0m\n",
      "\u001B[0;32m~/Library/Caches/pypoetry/virtualenvs/biosimulator-processes-JaN5cQMh-py3.10/lib/python3.10/site-packages/process_bigraph/composite.py\u001B[0m in \u001B[0;36m?\u001B[0;34m(self, path, process, states, interval, ports_key)\u001B[0m\n\u001B[1;32m    912\u001B[0m         \u001B[0mReturns\u001B[0m\u001B[0;34m:\u001B[0m\u001B[0;34m\u001B[0m\u001B[0;34m\u001B[0m\u001B[0m\n\u001B[1;32m    913\u001B[0m             \u001B[0mTuple\u001B[0m \u001B[0mof\u001B[0m \u001B[0mthe\u001B[0m \u001B[0mdeferred\u001B[0m \u001B[0mupdate\u001B[0m \u001B[0;34m(\u001B[0m\u001B[0;32min\u001B[0m \u001B[0mabsolute\u001B[0m \u001B[0mterms\u001B[0m\u001B[0;34m)\u001B[0m \u001B[0;32mand\u001B[0m\u001B[0;34m\u001B[0m\u001B[0;34m\u001B[0m\u001B[0m\n\u001B[1;32m    914\u001B[0m             \u001B[0;31m`\u001B[0m\u001B[0;31m`\u001B[0m\u001B[0mstore\u001B[0m\u001B[0;31m`\u001B[0m\u001B[0;31m`\u001B[0m\u001B[0;34m.\u001B[0m\u001B[0;34m\u001B[0m\u001B[0;34m\u001B[0m\u001B[0m\n\u001B[1;32m    915\u001B[0m         \"\"\"\n\u001B[0;32m--> 916\u001B[0;31m         \u001B[0mupdate\u001B[0m \u001B[0;34m=\u001B[0m \u001B[0mprocess\u001B[0m\u001B[0;34m[\u001B[0m\u001B[0;34m'instance'\u001B[0m\u001B[0;34m]\u001B[0m\u001B[0;34m.\u001B[0m\u001B[0minvoke\u001B[0m\u001B[0;34m(\u001B[0m\u001B[0mstates\u001B[0m\u001B[0;34m,\u001B[0m \u001B[0minterval\u001B[0m\u001B[0;34m)\u001B[0m\u001B[0;34m\u001B[0m\u001B[0;34m\u001B[0m\u001B[0m\n\u001B[0m\u001B[1;32m    917\u001B[0m \u001B[0;34m\u001B[0m\u001B[0m\n\u001B[1;32m    918\u001B[0m         \u001B[0;32mdef\u001B[0m \u001B[0mdefer_project\u001B[0m\u001B[0;34m(\u001B[0m\u001B[0mupdate\u001B[0m\u001B[0;34m,\u001B[0m \u001B[0margs\u001B[0m\u001B[0;34m)\u001B[0m\u001B[0;34m:\u001B[0m\u001B[0;34m\u001B[0m\u001B[0;34m\u001B[0m\u001B[0m\n\u001B[1;32m    919\u001B[0m             \u001B[0mschema\u001B[0m\u001B[0;34m,\u001B[0m \u001B[0mstate\u001B[0m\u001B[0;34m,\u001B[0m \u001B[0mpath\u001B[0m \u001B[0;34m=\u001B[0m \u001B[0margs\u001B[0m\u001B[0;34m\u001B[0m\u001B[0;34m\u001B[0m\u001B[0m\n",
      "\u001B[0;32m~/Library/Caches/pypoetry/virtualenvs/biosimulator-processes-JaN5cQMh-py3.10/lib/python3.10/site-packages/process_bigraph/composite.py\u001B[0m in \u001B[0;36m?\u001B[0;34m(self, state, interval)\u001B[0m\n\u001B[1;32m    465\u001B[0m     \u001B[0;32mdef\u001B[0m \u001B[0minvoke\u001B[0m\u001B[0;34m(\u001B[0m\u001B[0mself\u001B[0m\u001B[0;34m,\u001B[0m \u001B[0mstate\u001B[0m\u001B[0;34m,\u001B[0m \u001B[0minterval\u001B[0m\u001B[0;34m)\u001B[0m\u001B[0;34m:\u001B[0m\u001B[0;34m\u001B[0m\u001B[0;34m\u001B[0m\u001B[0m\n\u001B[0;32m--> 466\u001B[0;31m         \u001B[0mupdate\u001B[0m \u001B[0;34m=\u001B[0m \u001B[0mself\u001B[0m\u001B[0;34m.\u001B[0m\u001B[0mupdate\u001B[0m\u001B[0;34m(\u001B[0m\u001B[0mstate\u001B[0m\u001B[0;34m,\u001B[0m \u001B[0minterval\u001B[0m\u001B[0;34m)\u001B[0m\u001B[0;34m\u001B[0m\u001B[0;34m\u001B[0m\u001B[0m\n\u001B[0m\u001B[1;32m    467\u001B[0m         \u001B[0msync\u001B[0m \u001B[0;34m=\u001B[0m \u001B[0mSyncUpdate\u001B[0m\u001B[0;34m(\u001B[0m\u001B[0mupdate\u001B[0m\u001B[0;34m)\u001B[0m\u001B[0;34m\u001B[0m\u001B[0;34m\u001B[0m\u001B[0m\n\u001B[1;32m    468\u001B[0m         \u001B[0;32mreturn\u001B[0m \u001B[0msync\u001B[0m\u001B[0;34m\u001B[0m\u001B[0;34m\u001B[0m\u001B[0m\n",
      "\u001B[0;32m~/Desktop/repos/biosimulator-processes/biosimulator_processes/processes/copasi_process.py\u001B[0m in \u001B[0;36m?\u001B[0;34m(self, inputs, interval)\u001B[0m\n\u001B[1;32m    189\u001B[0m \u001B[0;34m\u001B[0m\u001B[0m\n\u001B[1;32m    190\u001B[0m         \u001B[0;31m# extract end values of concentrations from the model and set them in results\u001B[0m\u001B[0;34m\u001B[0m\u001B[0;34m\u001B[0m\u001B[0m\n\u001B[1;32m    191\u001B[0m         \u001B[0mresults\u001B[0m \u001B[0;34m=\u001B[0m \u001B[0;34m{\u001B[0m\u001B[0;34m'time'\u001B[0m\u001B[0;34m:\u001B[0m \u001B[0minterval\u001B[0m\u001B[0;34m}\u001B[0m\u001B[0;34m\u001B[0m\u001B[0;34m\u001B[0m\u001B[0m\n\u001B[1;32m    192\u001B[0m         \u001B[0;32mif\u001B[0m \u001B[0mself\u001B[0m\u001B[0;34m.\u001B[0m\u001B[0muse_counts\u001B[0m\u001B[0;34m:\u001B[0m\u001B[0;34m\u001B[0m\u001B[0;34m\u001B[0m\u001B[0m\n\u001B[0;32m--> 193\u001B[0;31m             results[self.species_context_key] = {\n\u001B[0m\u001B[1;32m    194\u001B[0m                 mol_id: float(get_species(\n\u001B[1;32m    195\u001B[0m                     \u001B[0mname\u001B[0m\u001B[0;34m=\u001B[0m\u001B[0mmol_id\u001B[0m\u001B[0;34m,\u001B[0m\u001B[0;34m\u001B[0m\u001B[0;34m\u001B[0m\u001B[0m\n\u001B[1;32m    196\u001B[0m                     \u001B[0mexact\u001B[0m\u001B[0;34m=\u001B[0m\u001B[0;32mTrue\u001B[0m\u001B[0;34m,\u001B[0m\u001B[0;34m\u001B[0m\u001B[0;34m\u001B[0m\u001B[0m\n",
      "\u001B[0;32m~/Desktop/repos/biosimulator-processes/biosimulator_processes/processes/copasi_process.py\u001B[0m in \u001B[0;36m?\u001B[0;34m(.0)\u001B[0m\n\u001B[1;32m    193\u001B[0m     \u001B[0;32mdef\u001B[0m \u001B[0mupdate\u001B[0m\u001B[0;34m(\u001B[0m\u001B[0mself\u001B[0m\u001B[0;34m,\u001B[0m \u001B[0minputs\u001B[0m\u001B[0;34m,\u001B[0m \u001B[0minterval\u001B[0m\u001B[0;34m)\u001B[0m\u001B[0;34m:\u001B[0m\u001B[0;34m\u001B[0m\u001B[0;34m\u001B[0m\u001B[0m\n\u001B[0;32m--> 194\u001B[0;31m         \u001B[0;31m# set copasi values according to what is passed in states for concentrations\u001B[0m\u001B[0;34m\u001B[0m\u001B[0;34m\u001B[0m\u001B[0m\n\u001B[0m\u001B[1;32m    195\u001B[0m         \u001B[0;32mfor\u001B[0m \u001B[0mcat_id\u001B[0m\u001B[0;34m,\u001B[0m \u001B[0mvalue\u001B[0m \u001B[0;32min\u001B[0m \u001B[0minputs\u001B[0m\u001B[0;34m[\u001B[0m\u001B[0mself\u001B[0m\u001B[0;34m.\u001B[0m\u001B[0mspecies_context_key\u001B[0m\u001B[0;34m]\u001B[0m\u001B[0;34m.\u001B[0m\u001B[0mitems\u001B[0m\u001B[0;34m(\u001B[0m\u001B[0;34m)\u001B[0m\u001B[0;34m:\u001B[0m\u001B[0;34m\u001B[0m\u001B[0;34m\u001B[0m\u001B[0m\n\u001B[1;32m    196\u001B[0m             \u001B[0mset_type\u001B[0m \u001B[0;34m=\u001B[0m \u001B[0;34m'particle_number'\u001B[0m \u001B[0;32mif\u001B[0m \u001B[0;34m'counts'\u001B[0m \u001B[0;32min\u001B[0m \u001B[0mself\u001B[0m\u001B[0;34m.\u001B[0m\u001B[0mspecies_context_key\u001B[0m \u001B[0;32melse\u001B[0m \u001B[0;34m'concentration'\u001B[0m\u001B[0;34m\u001B[0m\u001B[0;34m\u001B[0m\u001B[0m\n\u001B[1;32m    197\u001B[0m             species_config = {\n",
      "\u001B[0;32m~/Library/Caches/pypoetry/virtualenvs/biosimulator-processes-JaN5cQMh-py3.10/lib/python3.10/site-packages/basico/model_info.py\u001B[0m in \u001B[0;36m?\u001B[0;34m(name, exact, **kwargs)\u001B[0m\n\u001B[1;32m    360\u001B[0m     \u001B[0;32mfor\u001B[0m \u001B[0mi\u001B[0m \u001B[0;32min\u001B[0m \u001B[0mrange\u001B[0m\u001B[0;34m(\u001B[0m\u001B[0mnum_metabs\u001B[0m\u001B[0;34m)\u001B[0m\u001B[0;34m:\u001B[0m\u001B[0;34m\u001B[0m\u001B[0;34m\u001B[0m\u001B[0m\n\u001B[1;32m    361\u001B[0m         \u001B[0mmetab\u001B[0m \u001B[0;34m=\u001B[0m \u001B[0mmetabs\u001B[0m\u001B[0;34m.\u001B[0m\u001B[0mget\u001B[0m\u001B[0;34m(\u001B[0m\u001B[0mi\u001B[0m\u001B[0;34m)\u001B[0m\u001B[0;34m\u001B[0m\u001B[0;34m\u001B[0m\u001B[0m\n\u001B[1;32m    362\u001B[0m         \u001B[0;32massert\u001B[0m \u001B[0;34m(\u001B[0m\u001B[0misinstance\u001B[0m\u001B[0;34m(\u001B[0m\u001B[0mmetab\u001B[0m\u001B[0;34m,\u001B[0m \u001B[0mCOPASI\u001B[0m\u001B[0;34m.\u001B[0m\u001B[0mCMetab\u001B[0m\u001B[0;34m)\u001B[0m\u001B[0;34m)\u001B[0m\u001B[0;34m\u001B[0m\u001B[0;34m\u001B[0m\u001B[0m\n\u001B[1;32m    363\u001B[0m \u001B[0;34m\u001B[0m\u001B[0m\n\u001B[0;32m--> 364\u001B[0;31m         \u001B[0munit\u001B[0m \u001B[0;34m=\u001B[0m \u001B[0mmetab\u001B[0m\u001B[0;34m.\u001B[0m\u001B[0mgetUnitExpression\u001B[0m\u001B[0;34m(\u001B[0m\u001B[0;34m)\u001B[0m\u001B[0;34m\u001B[0m\u001B[0;34m\u001B[0m\u001B[0m\n\u001B[0m\u001B[1;32m    365\u001B[0m         \u001B[0;32mif\u001B[0m \u001B[0;32mnot\u001B[0m \u001B[0munit\u001B[0m\u001B[0;34m:\u001B[0m\u001B[0;34m\u001B[0m\u001B[0;34m\u001B[0m\u001B[0m\n\u001B[1;32m    366\u001B[0m             \u001B[0munit\u001B[0m \u001B[0;34m=\u001B[0m \u001B[0mmodel\u001B[0m\u001B[0;34m.\u001B[0m\u001B[0mgetQuantityUnit\u001B[0m\u001B[0;34m(\u001B[0m\u001B[0;34m)\u001B[0m \u001B[0;34m+\u001B[0m \u001B[0;34m'/'\u001B[0m \u001B[0;34m+\u001B[0m \u001B[0mmodel\u001B[0m\u001B[0;34m.\u001B[0m\u001B[0mgetVolumeUnit\u001B[0m\u001B[0;34m(\u001B[0m\u001B[0;34m)\u001B[0m\u001B[0;34m\u001B[0m\u001B[0;34m\u001B[0m\u001B[0m\n\u001B[1;32m    367\u001B[0m \u001B[0;34m\u001B[0m\u001B[0m\n",
      "\u001B[0;32m~/Library/Caches/pypoetry/virtualenvs/biosimulator-processes-JaN5cQMh-py3.10/lib/python3.10/site-packages/COPASI/__init__.py\u001B[0m in \u001B[0;36m?\u001B[0;34m(self)\u001B[0m\n\u001B[1;32m   5103\u001B[0m     \u001B[0;32mdef\u001B[0m \u001B[0mgetUnitExpression\u001B[0m\u001B[0;34m(\u001B[0m\u001B[0mself\u001B[0m\u001B[0;34m)\u001B[0m\u001B[0;34m:\u001B[0m\u001B[0;34m\u001B[0m\u001B[0;34m\u001B[0m\u001B[0m\n\u001B[1;32m   5104\u001B[0m         \u001B[0;34mr\"\"\"getUnitExpression(CModelEntity self) -> std::string const &\"\"\"\u001B[0m\u001B[0;34m\u001B[0m\u001B[0;34m\u001B[0m\u001B[0m\n\u001B[0;32m-> 5105\u001B[0;31m         \u001B[0;32mreturn\u001B[0m \u001B[0m_COPASI\u001B[0m\u001B[0;34m.\u001B[0m\u001B[0mCModelEntity_getUnitExpression\u001B[0m\u001B[0;34m(\u001B[0m\u001B[0mself\u001B[0m\u001B[0;34m)\u001B[0m\u001B[0;34m\u001B[0m\u001B[0;34m\u001B[0m\u001B[0m\n\u001B[0m",
      "\u001B[0;31mKeyboardInterrupt\u001B[0m: "
     ]
    }
   ],
   "execution_count": 8
  },
  {
   "metadata": {
    "ExecuteTime": {
     "end_time": "2024-05-24T21:29:28.945276Z",
     "start_time": "2024-05-24T21:29:05.141360Z"
    }
   },
   "cell_type": "code",
   "source": "r = copasi_proc.update(perturbed_state)",
   "id": "3d38102427669cf7",
   "outputs": [
    {
     "name": "stderr",
     "output_type": "stream",
     "text": [
      "/Users/alexanderpatrie/Desktop/repos/biosimulator-processes/biosimulator_processes/processes/copasi_process.py:194: FutureWarning:\n",
      "\n",
      "Series.__getitem__ treating keys as positions is deprecated. In a future version, integer keys will always be treated as labels (consistent with DataFrame behavior). To access a value by position, use `ser.iloc[pos]`\n",
      "\n"
     ]
    },
    {
     "ename": "KeyboardInterrupt",
     "evalue": "",
     "output_type": "error",
     "traceback": [
      "\u001B[0;31m---------------------------------------------------------------------------\u001B[0m",
      "\u001B[0;31mKeyboardInterrupt\u001B[0m                         Traceback (most recent call last)",
      "\u001B[0;32m/var/folders/yy/8crj8x7x5_3b86f0js6_0bn00000gr/T/ipykernel_19767/1148221396.py\u001B[0m in \u001B[0;36m?\u001B[0;34m()\u001B[0m\n\u001B[0;32m----> 1\u001B[0;31m \u001B[0mr\u001B[0m \u001B[0;34m=\u001B[0m \u001B[0mcopasi_proc\u001B[0m\u001B[0;34m.\u001B[0m\u001B[0mupdate\u001B[0m\u001B[0;34m(\u001B[0m\u001B[0mperturbed_state\u001B[0m\u001B[0;34m)\u001B[0m\u001B[0;34m\u001B[0m\u001B[0;34m\u001B[0m\u001B[0m\n\u001B[0m",
      "\u001B[0;32m~/Library/Caches/pypoetry/virtualenvs/biosimulator-processes-JaN5cQMh-py3.10/lib/python3.10/site-packages/process_bigraph/experiments/parameter_scan.py\u001B[0m in \u001B[0;36m?\u001B[0;34m(self, inputs)\u001B[0m\n\u001B[1;32m    204\u001B[0m         \u001B[0;31m#   some port and lives in the state of the simulation (??)\u001B[0m\u001B[0;34m\u001B[0m\u001B[0;34m\u001B[0m\u001B[0m\n\u001B[1;32m    205\u001B[0m         self.composite.merge(\n\u001B[1;32m    206\u001B[0m             inputs)\n\u001B[1;32m    207\u001B[0m \u001B[0;34m\u001B[0m\u001B[0m\n\u001B[0;32m--> 208\u001B[0;31m         self.composite.run(\n\u001B[0m\u001B[1;32m    209\u001B[0m             self.config['runtime'])\n\u001B[1;32m    210\u001B[0m \u001B[0;34m\u001B[0m\u001B[0m\n\u001B[1;32m    211\u001B[0m         \u001B[0mhistories\u001B[0m \u001B[0;34m=\u001B[0m \u001B[0mself\u001B[0m\u001B[0;34m.\u001B[0m\u001B[0mcomposite\u001B[0m\u001B[0;34m.\u001B[0m\u001B[0mgather_results\u001B[0m\u001B[0;34m(\u001B[0m\u001B[0;34m)\u001B[0m\u001B[0;34m\u001B[0m\u001B[0;34m\u001B[0m\u001B[0m\n",
      "\u001B[0;32m~/Library/Caches/pypoetry/virtualenvs/biosimulator-processes-JaN5cQMh-py3.10/lib/python3.10/site-packages/process_bigraph/composite.py\u001B[0m in \u001B[0;36m?\u001B[0;34m(self, interval, force_complete)\u001B[0m\n\u001B[1;32m   1040\u001B[0m             \u001B[0mfull_step\u001B[0m \u001B[0;34m=\u001B[0m \u001B[0mmath\u001B[0m\u001B[0;34m.\u001B[0m\u001B[0minf\u001B[0m\u001B[0;34m\u001B[0m\u001B[0;34m\u001B[0m\u001B[0m\n\u001B[1;32m   1041\u001B[0m \u001B[0;34m\u001B[0m\u001B[0m\n\u001B[1;32m   1042\u001B[0m             \u001B[0;32mfor\u001B[0m \u001B[0mpath\u001B[0m \u001B[0;32min\u001B[0m \u001B[0mself\u001B[0m\u001B[0;34m.\u001B[0m\u001B[0mprocess_paths\u001B[0m\u001B[0;34m:\u001B[0m\u001B[0;34m\u001B[0m\u001B[0;34m\u001B[0m\u001B[0m\n\u001B[1;32m   1043\u001B[0m                 \u001B[0mprocess\u001B[0m \u001B[0;34m=\u001B[0m \u001B[0mget_path\u001B[0m\u001B[0;34m(\u001B[0m\u001B[0mself\u001B[0m\u001B[0;34m.\u001B[0m\u001B[0mstate\u001B[0m\u001B[0;34m,\u001B[0m \u001B[0mpath\u001B[0m\u001B[0;34m)\u001B[0m\u001B[0;34m\u001B[0m\u001B[0;34m\u001B[0m\u001B[0m\n\u001B[0;32m-> 1044\u001B[0;31m                 full_step = self.run_process(\n\u001B[0m\u001B[1;32m   1045\u001B[0m                     \u001B[0mpath\u001B[0m\u001B[0;34m,\u001B[0m\u001B[0;34m\u001B[0m\u001B[0;34m\u001B[0m\u001B[0m\n\u001B[1;32m   1046\u001B[0m                     \u001B[0mprocess\u001B[0m\u001B[0;34m,\u001B[0m\u001B[0;34m\u001B[0m\u001B[0;34m\u001B[0m\u001B[0m\n\u001B[1;32m   1047\u001B[0m                     \u001B[0mend_time\u001B[0m\u001B[0;34m,\u001B[0m\u001B[0;34m\u001B[0m\u001B[0;34m\u001B[0m\u001B[0m\n",
      "\u001B[0;32m~/Library/Caches/pypoetry/virtualenvs/biosimulator-processes-JaN5cQMh-py3.10/lib/python3.10/site-packages/process_bigraph/composite.py\u001B[0m in \u001B[0;36m?\u001B[0;34m(self, path, process, end_time, full_step, force_complete)\u001B[0m\n\u001B[1;32m    970\u001B[0m             \u001B[0;32mif\u001B[0m \u001B[0minterval\u001B[0m \u001B[0;34m<\u001B[0m \u001B[0mfull_step\u001B[0m\u001B[0;34m:\u001B[0m\u001B[0;34m\u001B[0m\u001B[0;34m\u001B[0m\u001B[0m\n\u001B[1;32m    971\u001B[0m                 \u001B[0mfull_step\u001B[0m \u001B[0;34m=\u001B[0m \u001B[0minterval\u001B[0m\u001B[0;34m\u001B[0m\u001B[0;34m\u001B[0m\u001B[0m\n\u001B[1;32m    972\u001B[0m \u001B[0;34m\u001B[0m\u001B[0m\n\u001B[1;32m    973\u001B[0m             \u001B[0;32mif\u001B[0m \u001B[0mfuture\u001B[0m \u001B[0;34m<=\u001B[0m \u001B[0mend_time\u001B[0m\u001B[0;34m:\u001B[0m\u001B[0;34m\u001B[0m\u001B[0;34m\u001B[0m\u001B[0m\n\u001B[0;32m--> 974\u001B[0;31m                 update = self.process_update(\n\u001B[0m\u001B[1;32m    975\u001B[0m                     \u001B[0mpath\u001B[0m\u001B[0;34m,\u001B[0m\u001B[0;34m\u001B[0m\u001B[0;34m\u001B[0m\u001B[0m\n\u001B[1;32m    976\u001B[0m                     \u001B[0mprocess\u001B[0m\u001B[0;34m,\u001B[0m\u001B[0;34m\u001B[0m\u001B[0;34m\u001B[0m\u001B[0m\n\u001B[1;32m    977\u001B[0m                     \u001B[0mstate\u001B[0m\u001B[0;34m,\u001B[0m\u001B[0;34m\u001B[0m\u001B[0;34m\u001B[0m\u001B[0m\n",
      "\u001B[0;32m~/Library/Caches/pypoetry/virtualenvs/biosimulator-processes-JaN5cQMh-py3.10/lib/python3.10/site-packages/process_bigraph/composite.py\u001B[0m in \u001B[0;36m?\u001B[0;34m(self, path, process, states, interval, ports_key)\u001B[0m\n\u001B[1;32m    912\u001B[0m         \u001B[0mReturns\u001B[0m\u001B[0;34m:\u001B[0m\u001B[0;34m\u001B[0m\u001B[0;34m\u001B[0m\u001B[0m\n\u001B[1;32m    913\u001B[0m             \u001B[0mTuple\u001B[0m \u001B[0mof\u001B[0m \u001B[0mthe\u001B[0m \u001B[0mdeferred\u001B[0m \u001B[0mupdate\u001B[0m \u001B[0;34m(\u001B[0m\u001B[0;32min\u001B[0m \u001B[0mabsolute\u001B[0m \u001B[0mterms\u001B[0m\u001B[0;34m)\u001B[0m \u001B[0;32mand\u001B[0m\u001B[0;34m\u001B[0m\u001B[0;34m\u001B[0m\u001B[0m\n\u001B[1;32m    914\u001B[0m             \u001B[0;31m`\u001B[0m\u001B[0;31m`\u001B[0m\u001B[0mstore\u001B[0m\u001B[0;31m`\u001B[0m\u001B[0;31m`\u001B[0m\u001B[0;34m.\u001B[0m\u001B[0;34m\u001B[0m\u001B[0;34m\u001B[0m\u001B[0m\n\u001B[1;32m    915\u001B[0m         \"\"\"\n\u001B[0;32m--> 916\u001B[0;31m         \u001B[0mupdate\u001B[0m \u001B[0;34m=\u001B[0m \u001B[0mprocess\u001B[0m\u001B[0;34m[\u001B[0m\u001B[0;34m'instance'\u001B[0m\u001B[0;34m]\u001B[0m\u001B[0;34m.\u001B[0m\u001B[0minvoke\u001B[0m\u001B[0;34m(\u001B[0m\u001B[0mstates\u001B[0m\u001B[0;34m,\u001B[0m \u001B[0minterval\u001B[0m\u001B[0;34m)\u001B[0m\u001B[0;34m\u001B[0m\u001B[0;34m\u001B[0m\u001B[0m\n\u001B[0m\u001B[1;32m    917\u001B[0m \u001B[0;34m\u001B[0m\u001B[0m\n\u001B[1;32m    918\u001B[0m         \u001B[0;32mdef\u001B[0m \u001B[0mdefer_project\u001B[0m\u001B[0;34m(\u001B[0m\u001B[0mupdate\u001B[0m\u001B[0;34m,\u001B[0m \u001B[0margs\u001B[0m\u001B[0;34m)\u001B[0m\u001B[0;34m:\u001B[0m\u001B[0;34m\u001B[0m\u001B[0;34m\u001B[0m\u001B[0m\n\u001B[1;32m    919\u001B[0m             \u001B[0mschema\u001B[0m\u001B[0;34m,\u001B[0m \u001B[0mstate\u001B[0m\u001B[0;34m,\u001B[0m \u001B[0mpath\u001B[0m \u001B[0;34m=\u001B[0m \u001B[0margs\u001B[0m\u001B[0;34m\u001B[0m\u001B[0;34m\u001B[0m\u001B[0m\n",
      "\u001B[0;32m~/Library/Caches/pypoetry/virtualenvs/biosimulator-processes-JaN5cQMh-py3.10/lib/python3.10/site-packages/process_bigraph/composite.py\u001B[0m in \u001B[0;36m?\u001B[0;34m(self, state, interval)\u001B[0m\n\u001B[1;32m    465\u001B[0m     \u001B[0;32mdef\u001B[0m \u001B[0minvoke\u001B[0m\u001B[0;34m(\u001B[0m\u001B[0mself\u001B[0m\u001B[0;34m,\u001B[0m \u001B[0mstate\u001B[0m\u001B[0;34m,\u001B[0m \u001B[0minterval\u001B[0m\u001B[0;34m)\u001B[0m\u001B[0;34m:\u001B[0m\u001B[0;34m\u001B[0m\u001B[0;34m\u001B[0m\u001B[0m\n\u001B[0;32m--> 466\u001B[0;31m         \u001B[0mupdate\u001B[0m \u001B[0;34m=\u001B[0m \u001B[0mself\u001B[0m\u001B[0;34m.\u001B[0m\u001B[0mupdate\u001B[0m\u001B[0;34m(\u001B[0m\u001B[0mstate\u001B[0m\u001B[0;34m,\u001B[0m \u001B[0minterval\u001B[0m\u001B[0;34m)\u001B[0m\u001B[0;34m\u001B[0m\u001B[0;34m\u001B[0m\u001B[0m\n\u001B[0m\u001B[1;32m    467\u001B[0m         \u001B[0msync\u001B[0m \u001B[0;34m=\u001B[0m \u001B[0mSyncUpdate\u001B[0m\u001B[0;34m(\u001B[0m\u001B[0mupdate\u001B[0m\u001B[0;34m)\u001B[0m\u001B[0;34m\u001B[0m\u001B[0;34m\u001B[0m\u001B[0m\n\u001B[1;32m    468\u001B[0m         \u001B[0;32mreturn\u001B[0m \u001B[0msync\u001B[0m\u001B[0;34m\u001B[0m\u001B[0;34m\u001B[0m\u001B[0m\n",
      "\u001B[0;32m~/Desktop/repos/biosimulator-processes/biosimulator_processes/processes/copasi_process.py\u001B[0m in \u001B[0;36m?\u001B[0;34m(self, inputs, interval)\u001B[0m\n\u001B[1;32m    189\u001B[0m \u001B[0;34m\u001B[0m\u001B[0m\n\u001B[1;32m    190\u001B[0m         \u001B[0;31m# extract end values of concentrations from the model and set them in results\u001B[0m\u001B[0;34m\u001B[0m\u001B[0;34m\u001B[0m\u001B[0m\n\u001B[1;32m    191\u001B[0m         \u001B[0mresults\u001B[0m \u001B[0;34m=\u001B[0m \u001B[0;34m{\u001B[0m\u001B[0;34m'time'\u001B[0m\u001B[0;34m:\u001B[0m \u001B[0minterval\u001B[0m\u001B[0;34m}\u001B[0m\u001B[0;34m\u001B[0m\u001B[0;34m\u001B[0m\u001B[0m\n\u001B[1;32m    192\u001B[0m         \u001B[0;32mif\u001B[0m \u001B[0mself\u001B[0m\u001B[0;34m.\u001B[0m\u001B[0muse_counts\u001B[0m\u001B[0;34m:\u001B[0m\u001B[0;34m\u001B[0m\u001B[0;34m\u001B[0m\u001B[0m\n\u001B[0;32m--> 193\u001B[0;31m             results[self.species_context_key] = {\n\u001B[0m\u001B[1;32m    194\u001B[0m                 mol_id: float(get_species(\n\u001B[1;32m    195\u001B[0m                     \u001B[0mname\u001B[0m\u001B[0;34m=\u001B[0m\u001B[0mmol_id\u001B[0m\u001B[0;34m,\u001B[0m\u001B[0;34m\u001B[0m\u001B[0;34m\u001B[0m\u001B[0m\n\u001B[1;32m    196\u001B[0m                     \u001B[0mexact\u001B[0m\u001B[0;34m=\u001B[0m\u001B[0;32mTrue\u001B[0m\u001B[0;34m,\u001B[0m\u001B[0;34m\u001B[0m\u001B[0;34m\u001B[0m\u001B[0m\n",
      "\u001B[0;32m~/Desktop/repos/biosimulator-processes/biosimulator_processes/processes/copasi_process.py\u001B[0m in \u001B[0;36m?\u001B[0;34m(.0)\u001B[0m\n\u001B[1;32m    193\u001B[0m     \u001B[0;32mdef\u001B[0m \u001B[0mupdate\u001B[0m\u001B[0;34m(\u001B[0m\u001B[0mself\u001B[0m\u001B[0;34m,\u001B[0m \u001B[0minputs\u001B[0m\u001B[0;34m,\u001B[0m \u001B[0minterval\u001B[0m\u001B[0;34m)\u001B[0m\u001B[0;34m:\u001B[0m\u001B[0;34m\u001B[0m\u001B[0;34m\u001B[0m\u001B[0m\n\u001B[0;32m--> 194\u001B[0;31m         \u001B[0;31m# set copasi values according to what is passed in states for concentrations\u001B[0m\u001B[0;34m\u001B[0m\u001B[0;34m\u001B[0m\u001B[0m\n\u001B[0m\u001B[1;32m    195\u001B[0m         \u001B[0;32mfor\u001B[0m \u001B[0mcat_id\u001B[0m\u001B[0;34m,\u001B[0m \u001B[0mvalue\u001B[0m \u001B[0;32min\u001B[0m \u001B[0minputs\u001B[0m\u001B[0;34m[\u001B[0m\u001B[0mself\u001B[0m\u001B[0;34m.\u001B[0m\u001B[0mspecies_context_key\u001B[0m\u001B[0;34m]\u001B[0m\u001B[0;34m.\u001B[0m\u001B[0mitems\u001B[0m\u001B[0;34m(\u001B[0m\u001B[0;34m)\u001B[0m\u001B[0;34m:\u001B[0m\u001B[0;34m\u001B[0m\u001B[0;34m\u001B[0m\u001B[0m\n\u001B[1;32m    196\u001B[0m             \u001B[0mset_type\u001B[0m \u001B[0;34m=\u001B[0m \u001B[0;34m'particle_number'\u001B[0m \u001B[0;32mif\u001B[0m \u001B[0;34m'counts'\u001B[0m \u001B[0;32min\u001B[0m \u001B[0mself\u001B[0m\u001B[0;34m.\u001B[0m\u001B[0mspecies_context_key\u001B[0m \u001B[0;32melse\u001B[0m \u001B[0;34m'concentration'\u001B[0m\u001B[0;34m\u001B[0m\u001B[0;34m\u001B[0m\u001B[0m\n\u001B[1;32m    197\u001B[0m             species_config = {\n",
      "\u001B[0;32m~/Library/Caches/pypoetry/virtualenvs/biosimulator-processes-JaN5cQMh-py3.10/lib/python3.10/site-packages/basico/model_info.py\u001B[0m in \u001B[0;36m?\u001B[0;34m(name, exact, **kwargs)\u001B[0m\n\u001B[1;32m    350\u001B[0m     \u001B[0;32massert\u001B[0m \u001B[0;34m(\u001B[0m\u001B[0misinstance\u001B[0m\u001B[0;34m(\u001B[0m\u001B[0mmodel\u001B[0m\u001B[0;34m,\u001B[0m \u001B[0mCOPASI\u001B[0m\u001B[0;34m.\u001B[0m\u001B[0mCModel\u001B[0m\u001B[0;34m)\u001B[0m\u001B[0;34m)\u001B[0m\u001B[0;34m\u001B[0m\u001B[0;34m\u001B[0m\u001B[0m\n\u001B[1;32m    351\u001B[0m \u001B[0;34m\u001B[0m\u001B[0m\n\u001B[1;32m    352\u001B[0m     \u001B[0mmodel\u001B[0m\u001B[0;34m.\u001B[0m\u001B[0mcompileIfNecessary\u001B[0m\u001B[0;34m(\u001B[0m\u001B[0;34m)\u001B[0m\u001B[0;34m\u001B[0m\u001B[0;34m\u001B[0m\u001B[0m\n\u001B[1;32m    353\u001B[0m \u001B[0;34m\u001B[0m\u001B[0m\n\u001B[0;32m--> 354\u001B[0;31m     \u001B[0mmetabs\u001B[0m \u001B[0;34m=\u001B[0m \u001B[0mmodel\u001B[0m\u001B[0;34m.\u001B[0m\u001B[0mgetMetabolites\u001B[0m\u001B[0;34m(\u001B[0m\u001B[0;34m)\u001B[0m\u001B[0;34m\u001B[0m\u001B[0;34m\u001B[0m\u001B[0m\n\u001B[0m\u001B[1;32m    355\u001B[0m     \u001B[0;32massert\u001B[0m \u001B[0;34m(\u001B[0m\u001B[0misinstance\u001B[0m\u001B[0;34m(\u001B[0m\u001B[0mmetabs\u001B[0m\u001B[0;34m,\u001B[0m \u001B[0mCOPASI\u001B[0m\u001B[0;34m.\u001B[0m\u001B[0mMetabVector\u001B[0m\u001B[0;34m)\u001B[0m\u001B[0;34m)\u001B[0m\u001B[0;34m\u001B[0m\u001B[0;34m\u001B[0m\u001B[0m\n\u001B[1;32m    356\u001B[0m \u001B[0;34m\u001B[0m\u001B[0m\n\u001B[1;32m    357\u001B[0m     \u001B[0mnum_metabs\u001B[0m \u001B[0;34m=\u001B[0m \u001B[0mmetabs\u001B[0m\u001B[0;34m.\u001B[0m\u001B[0msize\u001B[0m\u001B[0;34m(\u001B[0m\u001B[0;34m)\u001B[0m\u001B[0;34m\u001B[0m\u001B[0;34m\u001B[0m\u001B[0m\n",
      "\u001B[0;32m~/Library/Caches/pypoetry/virtualenvs/biosimulator-processes-JaN5cQMh-py3.10/lib/python3.10/site-packages/COPASI/__init__.py\u001B[0m in \u001B[0;36m?\u001B[0;34m(self)\u001B[0m\n\u001B[1;32m   8777\u001B[0m     \u001B[0;32mdef\u001B[0m \u001B[0mgetMetabolites\u001B[0m\u001B[0;34m(\u001B[0m\u001B[0mself\u001B[0m\u001B[0;34m)\u001B[0m\u001B[0;34m:\u001B[0m\u001B[0;34m\u001B[0m\u001B[0;34m\u001B[0m\u001B[0m\n\u001B[1;32m   8778\u001B[0m         \u001B[0;34mr\"\"\"getMetabolites(CModel self) -> MetabVector\"\"\"\u001B[0m\u001B[0;34m\u001B[0m\u001B[0;34m\u001B[0m\u001B[0m\n\u001B[0;32m-> 8779\u001B[0;31m         \u001B[0;32mreturn\u001B[0m \u001B[0m_COPASI\u001B[0m\u001B[0;34m.\u001B[0m\u001B[0mCModel_getMetabolites\u001B[0m\u001B[0;34m(\u001B[0m\u001B[0mself\u001B[0m\u001B[0;34m)\u001B[0m\u001B[0;34m\u001B[0m\u001B[0;34m\u001B[0m\u001B[0m\n\u001B[0m",
      "\u001B[0;31mKeyboardInterrupt\u001B[0m: "
     ]
    }
   ],
   "execution_count": 19
  },
  {
   "metadata": {
    "ExecuteTime": {
     "end_time": "2024-05-24T21:28:11.531666Z",
     "start_time": "2024-05-24T21:28:11.528398Z"
    }
   },
   "cell_type": "code",
   "source": "copasi_proc.inputs(), copasi_proc.outputs()",
   "id": "73f71d3aec557a2a",
   "outputs": [
    {
     "data": {
      "text/plain": [
       "({'time': 'float',\n",
       "  'floating_species_concentrations': {'IR': {'_type': 'float',\n",
       "    '_apply': 'set'},\n",
       "   'pIR': {'_type': 'float', '_apply': 'set'},\n",
       "   'IRS': {'_type': 'float', '_apply': 'set'},\n",
       "   'pIRS': {'_type': 'float', '_apply': 'set'},\n",
       "   'iIRS': {'_type': 'float', '_apply': 'set'},\n",
       "   'Akt': {'_type': 'float', '_apply': 'set'},\n",
       "   'pAkt': {'_type': 'float', '_apply': 'set'},\n",
       "   'mTORC1': {'_type': 'float', '_apply': 'set'},\n",
       "   'pmTORC1': {'_type': 'float', '_apply': 'set'},\n",
       "   'mTORC2': {'_type': 'float', '_apply': 'set'},\n",
       "   'pmTORC2': {'_type': 'float', '_apply': 'set'},\n",
       "   'imTORC2': {'_type': 'float', '_apply': 'set'},\n",
       "   'mTORC1_DEPTOR': {'_type': 'float', '_apply': 'set'},\n",
       "   'mTORC2_DEPTOR': {'_type': 'float', '_apply': 'set'},\n",
       "   'DEPTOR': {'_type': 'float', '_apply': 'set'},\n",
       "   'pDEPTOR': {'_type': 'float', '_apply': 'set'}},\n",
       "  'model_parameters': {'V1': {'_type': 'float', '_apply': 'set'},\n",
       "   'Km1': {'_type': 'float', '_apply': 'set'},\n",
       "   'V2': {'_type': 'float', '_apply': 'set'},\n",
       "   'Km2': {'_type': 'float', '_apply': 'set'},\n",
       "   'k3c': {'_type': 'float', '_apply': 'set'},\n",
       "   'Km3': {'_type': 'float', '_apply': 'set'},\n",
       "   'V4': {'_type': 'float', '_apply': 'set'},\n",
       "   'Km4': {'_type': 'float', '_apply': 'set'},\n",
       "   'k5ca': {'_type': 'float', '_apply': 'set'},\n",
       "   'Km5a': {'_type': 'float', '_apply': 'set'},\n",
       "   'k5cb': {'_type': 'float', '_apply': 'set'},\n",
       "   'Km5b': {'_type': 'float', '_apply': 'set'},\n",
       "   'V6': {'_type': 'float', '_apply': 'set'},\n",
       "   'Km6': {'_type': 'float', '_apply': 'set'},\n",
       "   'k7c': {'_type': 'float', '_apply': 'set'},\n",
       "   'Km7': {'_type': 'float', '_apply': 'set'},\n",
       "   'V8': {'_type': 'float', '_apply': 'set'},\n",
       "   'Km8': {'_type': 'float', '_apply': 'set'},\n",
       "   'k9c': {'_type': 'float', '_apply': 'set'},\n",
       "   'Km9': {'_type': 'float', '_apply': 'set'},\n",
       "   'V10': {'_type': 'float', '_apply': 'set'},\n",
       "   'Km10': {'_type': 'float', '_apply': 'set'},\n",
       "   'k11ca': {'_type': 'float', '_apply': 'set'},\n",
       "   'Km11a': {'_type': 'float', '_apply': 'set'},\n",
       "   'k11cb': {'_type': 'float', '_apply': 'set'},\n",
       "   'Km11b': {'_type': 'float', '_apply': 'set'},\n",
       "   'V12': {'_type': 'float', '_apply': 'set'},\n",
       "   'Km12': {'_type': 'float', '_apply': 'set'},\n",
       "   'k13f': {'_type': 'float', '_apply': 'set'},\n",
       "   'k13r': {'_type': 'float', '_apply': 'set'},\n",
       "   'k14f': {'_type': 'float', '_apply': 'set'},\n",
       "   'k14r': {'_type': 'float', '_apply': 'set'},\n",
       "   'k15c': {'_type': 'float', '_apply': 'set'},\n",
       "   'Km15': {'_type': 'float', '_apply': 'set'},\n",
       "   'V16': {'_type': 'float', '_apply': 'set'},\n",
       "   'Km16': {'_type': 'float', '_apply': 'set'},\n",
       "   'ks17': {'_type': 'float', '_apply': 'set'},\n",
       "   'kd18': {'_type': 'float', '_apply': 'set'}},\n",
       "  'reactions': {'v1': 'float',\n",
       "   'v2': 'float',\n",
       "   'v3': 'float',\n",
       "   'v4': 'float',\n",
       "   'v5': 'float',\n",
       "   'v6': 'float',\n",
       "   'v7': 'float',\n",
       "   'v8': 'float',\n",
       "   'v9': 'float',\n",
       "   'v10': 'float',\n",
       "   'v11': 'float',\n",
       "   'v12': 'float',\n",
       "   'v13': 'float',\n",
       "   'v14': 'float',\n",
       "   'v15': 'float',\n",
       "   'v16': 'float',\n",
       "   'v17': 'float',\n",
       "   'v18': 'float'}},\n",
       " {'results': {'time': 'list[float]',\n",
       "   'floating_species_concentrations': {'Akt': {'_type': 'list',\n",
       "     '_element': {'_type': 'float',\n",
       "      '_apply': 'set',\n",
       "      '_check': 'check_float',\n",
       "      '_serialize': 'to_string',\n",
       "      '_description': '64-bit floating point precision number',\n",
       "      '_default': '0.0',\n",
       "      '_deserialize': 'deserialize_float',\n",
       "      '_divide': 'divide_float',\n",
       "      '_inherit': ['number']}}}}})"
      ]
     },
     "execution_count": 9,
     "metadata": {},
     "output_type": "execute_result"
    }
   ],
   "execution_count": 9
  },
  {
   "metadata": {
    "ExecuteTime": {
     "end_time": "2024-05-24T21:28:11.533951Z",
     "start_time": "2024-05-24T21:28:11.532163Z"
    }
   },
   "cell_type": "code",
   "source": [
    "obs = ProcessObservable(path_root='r', root_children=['x', 'y', 'z'])\n",
    "\n",
    "\n",
    "[[obs.path_root, *obs.root_children]]"
   ],
   "id": "cf337903417eda0e",
   "outputs": [
    {
     "data": {
      "text/plain": [
       "[['r', 'x', 'y', 'z']]"
      ]
     },
     "execution_count": 10,
     "metadata": {},
     "output_type": "execute_result"
    }
   ],
   "execution_count": 10
  },
  {
   "metadata": {
    "ExecuteTime": {
     "end_time": "2024-05-24T21:28:11.535729Z",
     "start_time": "2024-05-24T21:28:11.534503Z"
    }
   },
   "cell_type": "code",
   "source": "# TODO: create run process for each simulator involved in the comparison",
   "id": "74bc32d5ccb9bfda",
   "outputs": [],
   "execution_count": 11
  },
  {
   "metadata": {
    "ExecuteTime": {
     "end_time": "2024-05-24T21:28:11.538053Z",
     "start_time": "2024-05-24T21:28:11.536333Z"
    }
   },
   "cell_type": "code",
   "source": "copasi_process",
   "id": "928df4617c927be2",
   "outputs": [
    {
     "data": {
      "text/plain": [
       "<process_bigraph.experiments.parameter_scan.RunProcess at 0x358d7a980>"
      ]
     },
     "execution_count": 12,
     "metadata": {},
     "output_type": "execute_result"
    }
   ],
   "execution_count": 12
  },
  {
   "metadata": {
    "ExecuteTime": {
     "end_time": "2024-05-24T21:28:11.540258Z",
     "start_time": "2024-05-24T21:28:11.538526Z"
    }
   },
   "cell_type": "code",
   "source": "copasi_process.process",
   "id": "b306f2e44bec1aae",
   "outputs": [
    {
     "data": {
      "text/plain": [
       "<biosimulator_processes.processes.copasi_process.CopasiProcess at 0x358d7afe0>"
      ]
     },
     "execution_count": 13,
     "metadata": {},
     "output_type": "execute_result"
    }
   ],
   "execution_count": 13
  },
  {
   "metadata": {
    "ExecuteTime": {
     "end_time": "2024-05-24T21:28:12.366089Z",
     "start_time": "2024-05-24T21:28:11.540856Z"
    }
   },
   "cell_type": "code",
   "source": [
    "copasi_results = copasi_process.update({})\n",
    "amici_results = t_process.update({})"
   ],
   "id": "19b333bac3496818",
   "outputs": [
    {
     "name": "stderr",
     "output_type": "stream",
     "text": [
      "/Users/alexanderpatrie/Desktop/repos/biosimulator-processes/biosimulator_processes/processes/copasi_process.py:194: FutureWarning:\n",
      "\n",
      "Series.__getitem__ treating keys as positions is deprecated. In a future version, integer keys will always be treated as labels (consistent with DataFrame behavior). To access a value by position, use `ser.iloc[pos]`\n",
      "\n"
     ]
    }
   ],
   "execution_count": 14
  },
  {
   "metadata": {
    "ExecuteTime": {
     "end_time": "2024-05-24T21:28:12.368506Z",
     "start_time": "2024-05-24T21:28:12.366799Z"
    }
   },
   "cell_type": "code",
   "source": "from process_bigraph import pp",
   "id": "dafbc405e234e249",
   "outputs": [],
   "execution_count": 15
  },
  {
   "metadata": {
    "ExecuteTime": {
     "end_time": "2024-05-24T21:28:12.371936Z",
     "start_time": "2024-05-24T21:28:12.369087Z"
    }
   },
   "cell_type": "code",
   "source": "pp(copasi_results)",
   "id": "5ade772953b70cb7",
   "outputs": [
    {
     "name": "stdout",
     "output_type": "stream",
     "text": [
      "{ 'results': { 'floating_species_concentrations': { 'Akt': [ 0.0,\n",
      "                                                             6.021953401729781e+22,\n",
      "                                                             6.021112979401326e+22,\n",
      "                                                             6.019655556618463e+22,\n",
      "                                                             6.017768516010995e+22,\n",
      "                                                             6.015611698907673e+22,\n",
      "                                                             6.013288966310516e+22,\n",
      "                                                             6.01085505403383e+22,\n",
      "                                                             6.008328606883569e+22,\n",
      "                                                             6.005703941780694e+22,\n",
      "                                                             6.002960066698436e+22,\n",
      "                                                             6.000067131788502e+22,\n",
      "                                                             5.9969908581614876e+22,\n",
      "                                                             5.993695481550904e+22,\n",
      "                                                             5.990145645356191e+22,\n",
      "                                                             5.986307568136125e+22,\n",
      "                                                             5.9821497205740645e+22,\n",
      "                                                             5.977643175803161e+22,\n",
      "                                                             5.9727617475413625e+22,\n",
      "                                                             5.967481993424905e+22,\n",
      "                                                             5.961783135862215e+22,\n",
      "                                                             5.955646934641475e+22,\n",
      "                                                             5.949057533931026e+22,\n",
      "                                                             5.942001298074558e+22,\n",
      "                                                             5.934466644826192e+22,\n",
      "                                                             5.92644388164159e+22,\n",
      "                                                             5.917925047858655e+22,\n",
      "                                                             5.90890376459404e+22,\n",
      "                                                             5.899375093026752e+22,\n",
      "                                                             5.889335397481922e+22,\n",
      "                                                             5.8787822248314775e+22,\n",
      "                                                             5.867714182375898e+22,\n",
      "                                                             5.856130833977876e+22,\n",
      "                                                             5.844032588664249e+22,\n",
      "                                                             5.831420610416965e+22,\n",
      "                                                             5.81829672873341e+22,\n",
      "                                                             5.8046633557537455e+22,\n",
      "                                                             5.790523409720932e+22,\n",
      "                                                             5.775880244303002e+22,\n",
      "                                                             5.760737583581744e+22,\n",
      "                                                             5.745099462712988e+22,\n",
      "                                                             5.728970173436938e+22,\n",
      "                                                             5.712354215764097e+22,\n",
      "                                                             5.695256252053837e+22,\n",
      "                                                             5.677681067998689e+22,\n",
      "                                                             5.659633553546397e+22,\n",
      "                                                             5.641118608809114e+22,\n",
      "                                                             5.622141212305106e+22,\n",
      "                                                             5.60270631166014e+22,\n",
      "                                                             5.582818847930576e+22,\n",
      "                                                             5.562483725100504e+22,\n",
      "                                                             5.541705795057654e+22,\n",
      "                                                             5.520489844496651e+22,\n",
      "                                                             5.498840584142621e+22,\n",
      "                                                             5.476762640050839e+22,\n",
      "                                                             5.454260546782387e+22,\n",
      "                                                             5.431338742262504e+22,\n",
      "                                                             5.4080015641406815e+22,\n",
      "                                                             5.3842532474866306e+22,\n",
      "                                                             5.360097923665189e+22,\n",
      "                                                             5.335539620245063e+22,\n",
      "                                                             5.3105822618135174e+22,\n",
      "                                                             5.285229671646717e+22,\n",
      "                                                             5.2594855739476775e+22,\n",
      "                                                             5.233353596798951e+22,\n",
      "                                                             5.206837274579404e+22,\n",
      "                                                             5.179940053439716e+22,\n",
      "                                                             5.1526652935654684e+22,\n",
      "                                                             5.125016274791671e+22,\n",
      "                                                             5.0969962006787035e+22,\n",
      "                                                             5.0686082032946865e+22,\n",
      "                                                             5.039855348090286e+22,\n",
      "                                                             5.01074063884786e+22,\n",
      "                                                             4.981267022688463e+22,\n",
      "                                                             4.9514373951123635e+22,\n",
      "                                                             4.921254605048122e+22,\n",
      "                                                             4.890721459894446e+22,\n",
      "                                                             4.859840730492512e+22,\n",
      "                                                             4.828615155904531e+22,\n",
      "                                                             4.7970474488205656e+22,\n",
      "                                                             4.765140300111774e+22,\n",
      "                                                             4.7328963837463406e+22,\n",
      "                                                             4.7003183615571785e+22,\n",
      "                                                             4.667408887950031e+22,\n",
      "                                                             4.634170614552793e+22,\n",
      "                                                             4.600606194803179e+22,\n",
      "                                                             4.566718288487246e+22,\n",
      "                                                             4.5325095662229754e+22,\n",
      "                                                             4.497982713901178e+22,\n",
      "                                                             4.46314043708399e+22,\n",
      "                                                             4.427985461361994e+22,\n",
      "                                                             4.392520552858125e+22,\n",
      "                                                             4.356748498173506e+22,\n",
      "                                                             4.32067210221802e+22,\n",
      "                                                             4.284294255403111e+22,\n",
      "                                                             4.247617872201307e+22,\n",
      "                                                             4.210645916925217e+22,\n",
      "                                                             4.17338140835216e+22,\n",
      "                                                             4.135827423654227e+22,\n",
      "                                                             4.0979871034765725e+22,\n",
      "                                                             4.059863655722707e+22,\n",
      "                                                             4.021460361013767e+22,\n",
      "                                                             3.982780576359718e+22,\n",
      "                                                             3.943827741129774e+22,\n",
      "                                                             3.904605380806297e+22,\n",
      "                                                             3.865117112706203e+22,\n",
      "                                                             3.825366650683283e+22,\n",
      "                                                             3.785357811360015e+22,\n",
      "                                                             3.7450945192363903e+22,\n",
      "                                                             3.7045808115060178e+22,\n",
      "                                                             3.6638208451425725e+22,\n",
      "                                                             3.6228189027324987e+22,\n",
      "                                                             3.58157939812278e+22,\n",
      "                                                             3.5401068854192328e+22,\n",
      "                                                             3.4984060636399554e+22,\n",
      "                                                             3.4564817867835487e+22,\n",
      "                                                             3.4143390659910966e+22,\n",
      "                                                             3.3719830850916323e+22,\n",
      "                                                             3.3294192043864453e+22,\n",
      "                                                             3.286652971099074e+22,\n",
      "                                                             3.2436901277951775e+22,\n",
      "                                                             3.2005366239452606e+22,\n",
      "                                                             3.1571986254019797e+22,\n",
      "                                                             3.1136825257749876e+22,\n",
      "                                                             3.0699949581612565e+22,\n",
      "                                                             3.0261428075248325e+22,\n",
      "                                                             2.982133223768888e+22,\n",
      "                                                             2.937973635535438e+22,\n",
      "                                                             2.893671764769308e+22,\n",
      "                                                             2.8492356420820376e+22,\n",
      "                                                             2.8046736229498706e+22,\n",
      "                                                             2.759994404777676e+22,\n",
      "                                                             2.7152070448308237e+22,\n",
      "                                                             2.6703209791929572e+22,\n",
      "                                                             2.6253460425073786e+22,\n",
      "                                                             2.580292488775582e+22,\n",
      "                                                             2.5351710130924616e+22,\n",
      "                                                             2.489992774376047e+22,\n",
      "                                                             2.444769418916527e+22,\n",
      "                                                             2.3995131050506427e+22,\n",
      "                                                             2.3542365285912557e+22,\n",
      "                                                             2.3089529512619944e+22,\n",
      "                                                             2.26367622137257e+22]},\n",
      "               'time': [ 0.0,\n",
      "                         0.7,\n",
      "                         1.4,\n",
      "                         2.1,\n",
      "                         2.8,\n",
      "                         3.5,\n",
      "                         4.2,\n",
      "                         4.9,\n",
      "                         5.6,\n",
      "                         6.3,\n",
      "                         7.0,\n",
      "                         7.7,\n",
      "                         8.4,\n",
      "                         9.1,\n",
      "                         9.8,\n",
      "                         10.5,\n",
      "                         11.2,\n",
      "                         11.9,\n",
      "                         12.6,\n",
      "                         13.3,\n",
      "                         14.0,\n",
      "                         14.7,\n",
      "                         15.4,\n",
      "                         16.1,\n",
      "                         16.8,\n",
      "                         17.5,\n",
      "                         18.2,\n",
      "                         18.9,\n",
      "                         19.6,\n",
      "                         20.3,\n",
      "                         21.0,\n",
      "                         21.7,\n",
      "                         22.4,\n",
      "                         23.1,\n",
      "                         23.8,\n",
      "                         24.5,\n",
      "                         25.2,\n",
      "                         25.9,\n",
      "                         26.6,\n",
      "                         27.3,\n",
      "                         28.0,\n",
      "                         28.7,\n",
      "                         29.4,\n",
      "                         30.1,\n",
      "                         30.8,\n",
      "                         31.5,\n",
      "                         32.2,\n",
      "                         32.9,\n",
      "                         33.6,\n",
      "                         34.3,\n",
      "                         35.0,\n",
      "                         35.7,\n",
      "                         36.4,\n",
      "                         37.1,\n",
      "                         37.8,\n",
      "                         38.5,\n",
      "                         39.2,\n",
      "                         39.9,\n",
      "                         40.6,\n",
      "                         41.3,\n",
      "                         42.0,\n",
      "                         42.7,\n",
      "                         43.4,\n",
      "                         44.1,\n",
      "                         44.8,\n",
      "                         45.5,\n",
      "                         46.2,\n",
      "                         46.9,\n",
      "                         47.6,\n",
      "                         48.3,\n",
      "                         49.0,\n",
      "                         49.7,\n",
      "                         50.4,\n",
      "                         51.1,\n",
      "                         51.8,\n",
      "                         52.5,\n",
      "                         53.2,\n",
      "                         53.9,\n",
      "                         54.6,\n",
      "                         55.3,\n",
      "                         56.0,\n",
      "                         56.7,\n",
      "                         57.4,\n",
      "                         58.1,\n",
      "                         58.8,\n",
      "                         59.5,\n",
      "                         60.2,\n",
      "                         60.9,\n",
      "                         61.6,\n",
      "                         62.3,\n",
      "                         63.0,\n",
      "                         63.7,\n",
      "                         64.4,\n",
      "                         65.1,\n",
      "                         65.8,\n",
      "                         66.5,\n",
      "                         67.2,\n",
      "                         67.9,\n",
      "                         68.6,\n",
      "                         69.3,\n",
      "                         70.0,\n",
      "                         70.7,\n",
      "                         71.4,\n",
      "                         72.1,\n",
      "                         72.8,\n",
      "                         73.5,\n",
      "                         74.2,\n",
      "                         74.9,\n",
      "                         75.6,\n",
      "                         76.3,\n",
      "                         77.0,\n",
      "                         77.7,\n",
      "                         78.4,\n",
      "                         79.1,\n",
      "                         79.8,\n",
      "                         80.5,\n",
      "                         81.2,\n",
      "                         81.9,\n",
      "                         82.6,\n",
      "                         83.3,\n",
      "                         84.0,\n",
      "                         84.7,\n",
      "                         85.4,\n",
      "                         86.1,\n",
      "                         86.8,\n",
      "                         87.5,\n",
      "                         88.2,\n",
      "                         88.9,\n",
      "                         89.6,\n",
      "                         90.3,\n",
      "                         91.0,\n",
      "                         91.7,\n",
      "                         92.4,\n",
      "                         93.1,\n",
      "                         93.8,\n",
      "                         94.5,\n",
      "                         95.2,\n",
      "                         95.9,\n",
      "                         96.6,\n",
      "                         97.3,\n",
      "                         98.0,\n",
      "                         98.7,\n",
      "                         99.4]}}\n"
     ]
    }
   ],
   "execution_count": 16
  },
  {
   "metadata": {
    "ExecuteTime": {
     "end_time": "2024-05-24T21:28:12.419342Z",
     "start_time": "2024-05-24T21:28:12.372591Z"
    }
   },
   "cell_type": "code",
   "source": [
    "akt_concen = copasi_results['results']['floating_species_concentrations']['Akt']\n",
    "times = copasi_results['results']['time']\n",
    "\n",
    "\n",
    "import matplotlib.pyplot as plt\n",
    "\n",
    "\n",
    "plt.plot(times, akt_concen)\n",
    "plt.show()"
   ],
   "id": "37fcc77f381c6ef0",
   "outputs": [
    {
     "data": {
      "text/plain": [
       "<Figure size 640x480 with 1 Axes>"
      ],
      "image/png": "[encoded data removed]"
     },
     "metadata": {},
     "output_type": "display_data"
    }
   ],
   "execution_count": 17
  },
  {
   "metadata": {
    "ExecuteTime": {
     "end_time": "2024-05-24T21:28:12.458305Z",
     "start_time": "2024-05-24T21:28:12.420027Z"
    }
   },
   "cell_type": "code",
   "source": [
    "pp(copasi_results)\n",
    "akt_concen = amici_results['results']['floating_species_concentrations']['Akt']\n",
    "times = amici_results['results']['time']\n",
    "\n",
    "import matplotlib.pyplot as plt\n",
    "\n",
    "plt.plot(times, akt_concen)\n",
    "plt.show()"
   ],
   "id": "6afac16712d869e4",
   "outputs": [
    {
     "name": "stdout",
     "output_type": "stream",
     "text": [
      "{ 'results': { 'floating_species_concentrations': { 'Akt': [ 0.0,\n",
      "                                                             6.021953401729781e+22,\n",
      "                                                             6.021112979401326e+22,\n",
      "                                                             6.019655556618463e+22,\n",
      "                                                             6.017768516010995e+22,\n",
      "                                                             6.015611698907673e+22,\n",
      "                                                             6.013288966310516e+22,\n",
      "                                                             6.01085505403383e+22,\n",
      "                                                             6.008328606883569e+22,\n",
      "                                                             6.005703941780694e+22,\n",
      "                                                             6.002960066698436e+22,\n",
      "                                                             6.000067131788502e+22,\n",
      "                                                             5.9969908581614876e+22,\n",
      "                                                             5.993695481550904e+22,\n",
      "                                                             5.990145645356191e+22,\n",
      "                                                             5.986307568136125e+22,\n",
      "                                                             5.9821497205740645e+22,\n",
      "                                                             5.977643175803161e+22,\n",
      "                                                             5.9727617475413625e+22,\n",
      "                                                             5.967481993424905e+22,\n",
      "                                                             5.961783135862215e+22,\n",
      "                                                             5.955646934641475e+22,\n",
      "                                                             5.949057533931026e+22,\n",
      "                                                             5.942001298074558e+22,\n",
      "                                                             5.934466644826192e+22,\n",
      "                                                             5.92644388164159e+22,\n",
      "                                                             5.917925047858655e+22,\n",
      "                                                             5.90890376459404e+22,\n",
      "                                                             5.899375093026752e+22,\n",
      "                                                             5.889335397481922e+22,\n",
      "                                                             5.8787822248314775e+22,\n",
      "                                                             5.867714182375898e+22,\n",
      "                                                             5.856130833977876e+22,\n",
      "                                                             5.844032588664249e+22,\n",
      "                                                             5.831420610416965e+22,\n",
      "                                                             5.81829672873341e+22,\n",
      "                                                             5.8046633557537455e+22,\n",
      "                                                             5.790523409720932e+22,\n",
      "                                                             5.775880244303002e+22,\n",
      "                                                             5.760737583581744e+22,\n",
      "                                                             5.745099462712988e+22,\n",
      "                                                             5.728970173436938e+22,\n",
      "                                                             5.712354215764097e+22,\n",
      "                                                             5.695256252053837e+22,\n",
      "                                                             5.677681067998689e+22,\n",
      "                                                             5.659633553546397e+22,\n",
      "                                                             5.641118608809114e+22,\n",
      "                                                             5.622141212305106e+22,\n",
      "                                                             5.60270631166014e+22,\n",
      "                                                             5.582818847930576e+22,\n",
      "                                                             5.562483725100504e+22,\n",
      "                                                             5.541705795057654e+22,\n",
      "                                                             5.520489844496651e+22,\n",
      "                                                             5.498840584142621e+22,\n",
      "                                                             5.476762640050839e+22,\n",
      "                                                             5.454260546782387e+22,\n",
      "                                                             5.431338742262504e+22,\n",
      "                                                             5.4080015641406815e+22,\n",
      "                                                             5.3842532474866306e+22,\n",
      "                                                             5.360097923665189e+22,\n",
      "                                                             5.335539620245063e+22,\n",
      "                                                             5.3105822618135174e+22,\n",
      "                                                             5.285229671646717e+22,\n",
      "                                                             5.2594855739476775e+22,\n",
      "                                                             5.233353596798951e+22,\n",
      "                                                             5.206837274579404e+22,\n",
      "                                                             5.179940053439716e+22,\n",
      "                                                             5.1526652935654684e+22,\n",
      "                                                             5.125016274791671e+22,\n",
      "                                                             5.0969962006787035e+22,\n",
      "                                                             5.0686082032946865e+22,\n",
      "                                                             5.039855348090286e+22,\n",
      "                                                             5.01074063884786e+22,\n",
      "                                                             4.981267022688463e+22,\n",
      "                                                             4.9514373951123635e+22,\n",
      "                                                             4.921254605048122e+22,\n",
      "                                                             4.890721459894446e+22,\n",
      "                                                             4.859840730492512e+22,\n",
      "                                                             4.828615155904531e+22,\n",
      "                                                             4.7970474488205656e+22,\n",
      "                                                             4.765140300111774e+22,\n",
      "                                                             4.7328963837463406e+22,\n",
      "                                                             4.7003183615571785e+22,\n",
      "                                                             4.667408887950031e+22,\n",
      "                                                             4.634170614552793e+22,\n",
      "                                                             4.600606194803179e+22,\n",
      "                                                             4.566718288487246e+22,\n",
      "                                                             4.5325095662229754e+22,\n",
      "                                                             4.497982713901178e+22,\n",
      "                                                             4.46314043708399e+22,\n",
      "                                                             4.427985461361994e+22,\n",
      "                                                             4.392520552858125e+22,\n",
      "                                                             4.356748498173506e+22,\n",
      "                                                             4.32067210221802e+22,\n",
      "                                                             4.284294255403111e+22,\n",
      "                                                             4.247617872201307e+22,\n",
      "                                                             4.210645916925217e+22,\n",
      "                                                             4.17338140835216e+22,\n",
      "                                                             4.135827423654227e+22,\n",
      "                                                             4.0979871034765725e+22,\n",
      "                                                             4.059863655722707e+22,\n",
      "                                                             4.021460361013767e+22,\n",
      "                                                             3.982780576359718e+22,\n",
      "                                                             3.943827741129774e+22,\n",
      "                                                             3.904605380806297e+22,\n",
      "                                                             3.865117112706203e+22,\n",
      "                                                             3.825366650683283e+22,\n",
      "                                                             3.785357811360015e+22,\n",
      "                                                             3.7450945192363903e+22,\n",
      "                                                             3.7045808115060178e+22,\n",
      "                                                             3.6638208451425725e+22,\n",
      "                                                             3.6228189027324987e+22,\n",
      "                                                             3.58157939812278e+22,\n",
      "                                                             3.5401068854192328e+22,\n",
      "                                                             3.4984060636399554e+22,\n",
      "                                                             3.4564817867835487e+22,\n",
      "                                                             3.4143390659910966e+22,\n",
      "                                                             3.3719830850916323e+22,\n",
      "                                                             3.3294192043864453e+22,\n",
      "                                                             3.286652971099074e+22,\n",
      "                                                             3.2436901277951775e+22,\n",
      "                                                             3.2005366239452606e+22,\n",
      "                                                             3.1571986254019797e+22,\n",
      "                                                             3.1136825257749876e+22,\n",
      "                                                             3.0699949581612565e+22,\n",
      "                                                             3.0261428075248325e+22,\n",
      "                                                             2.982133223768888e+22,\n",
      "                                                             2.937973635535438e+22,\n",
      "                                                             2.893671764769308e+22,\n",
      "                                                             2.8492356420820376e+22,\n",
      "                                                             2.8046736229498706e+22,\n",
      "                                                             2.759994404777676e+22,\n",
      "                                                             2.7152070448308237e+22,\n",
      "                                                             2.6703209791929572e+22,\n",
      "                                                             2.6253460425073786e+22,\n",
      "                                                             2.580292488775582e+22,\n",
      "                                                             2.5351710130924616e+22,\n",
      "                                                             2.489992774376047e+22,\n",
      "                                                             2.444769418916527e+22,\n",
      "                                                             2.3995131050506427e+22,\n",
      "                                                             2.3542365285912557e+22,\n",
      "                                                             2.3089529512619944e+22,\n",
      "                                                             2.26367622137257e+22]},\n",
      "               'time': [ 0.0,\n",
      "                         0.7,\n",
      "                         1.4,\n",
      "                         2.1,\n",
      "                         2.8,\n",
      "                         3.5,\n",
      "                         4.2,\n",
      "                         4.9,\n",
      "                         5.6,\n",
      "                         6.3,\n",
      "                         7.0,\n",
      "                         7.7,\n",
      "                         8.4,\n",
      "                         9.1,\n",
      "                         9.8,\n",
      "                         10.5,\n",
      "                         11.2,\n",
      "                         11.9,\n",
      "                         12.6,\n",
      "                         13.3,\n",
      "                         14.0,\n",
      "                         14.7,\n",
      "                         15.4,\n",
      "                         16.1,\n",
      "                         16.8,\n",
      "                         17.5,\n",
      "                         18.2,\n",
      "                         18.9,\n",
      "                         19.6,\n",
      "                         20.3,\n",
      "                         21.0,\n",
      "                         21.7,\n",
      "                         22.4,\n",
      "                         23.1,\n",
      "                         23.8,\n",
      "                         24.5,\n",
      "                         25.2,\n",
      "                         25.9,\n",
      "                         26.6,\n",
      "                         27.3,\n",
      "                         28.0,\n",
      "                         28.7,\n",
      "                         29.4,\n",
      "                         30.1,\n",
      "                         30.8,\n",
      "                         31.5,\n",
      "                         32.2,\n",
      "                         32.9,\n",
      "                         33.6,\n",
      "                         34.3,\n",
      "                         35.0,\n",
      "                         35.7,\n",
      "                         36.4,\n",
      "                         37.1,\n",
      "                         37.8,\n",
      "                         38.5,\n",
      "                         39.2,\n",
      "                         39.9,\n",
      "                         40.6,\n",
      "                         41.3,\n",
      "                         42.0,\n",
      "                         42.7,\n",
      "                         43.4,\n",
      "                         44.1,\n",
      "                         44.8,\n",
      "                         45.5,\n",
      "                         46.2,\n",
      "                         46.9,\n",
      "                         47.6,\n",
      "                         48.3,\n",
      "                         49.0,\n",
      "                         49.7,\n",
      "                         50.4,\n",
      "                         51.1,\n",
      "                         51.8,\n",
      "                         52.5,\n",
      "                         53.2,\n",
      "                         53.9,\n",
      "                         54.6,\n",
      "                         55.3,\n",
      "                         56.0,\n",
      "                         56.7,\n",
      "                         57.4,\n",
      "                         58.1,\n",
      "                         58.8,\n",
      "                         59.5,\n",
      "                         60.2,\n",
      "                         60.9,\n",
      "                         61.6,\n",
      "                         62.3,\n",
      "                         63.0,\n",
      "                         63.7,\n",
      "                         64.4,\n",
      "                         65.1,\n",
      "                         65.8,\n",
      "                         66.5,\n",
      "                         67.2,\n",
      "                         67.9,\n",
      "                         68.6,\n",
      "                         69.3,\n",
      "                         70.0,\n",
      "                         70.7,\n",
      "                         71.4,\n",
      "                         72.1,\n",
      "                         72.8,\n",
      "                         73.5,\n",
      "                         74.2,\n",
      "                         74.9,\n",
      "                         75.6,\n",
      "                         76.3,\n",
      "                         77.0,\n",
      "                         77.7,\n",
      "                         78.4,\n",
      "                         79.1,\n",
      "                         79.8,\n",
      "                         80.5,\n",
      "                         81.2,\n",
      "                         81.9,\n",
      "                         82.6,\n",
      "                         83.3,\n",
      "                         84.0,\n",
      "                         84.7,\n",
      "                         85.4,\n",
      "                         86.1,\n",
      "                         86.8,\n",
      "                         87.5,\n",
      "                         88.2,\n",
      "                         88.9,\n",
      "                         89.6,\n",
      "                         90.3,\n",
      "                         91.0,\n",
      "                         91.7,\n",
      "                         92.4,\n",
      "                         93.1,\n",
      "                         93.8,\n",
      "                         94.5,\n",
      "                         95.2,\n",
      "                         95.9,\n",
      "                         96.6,\n",
      "                         97.3,\n",
      "                         98.0,\n",
      "                         98.7,\n",
      "                         99.4]}}\n"
     ]
    },
    {
     "data": {
      "text/plain": [
       "<Figure size 640x480 with 1 Axes>"
      ],
      "image/png": "[encoded data removed]"
     },
     "metadata": {},
     "output_type": "display_data"
    }
   ],
   "execution_count": 18
  },
  {
   "metadata": {
    "ExecuteTime": {
     "end_time": "2024-05-24T21:28:12.460097Z",
     "start_time": "2024-05-24T21:28:12.458912Z"
    }
   },
   "cell_type": "code",
   "source": "",
   "id": "1c7094589689e1aa",
   "outputs": [],
   "execution_count": 18
  }
 ],
 "metadata": {
  "kernelspec": {
   "display_name": "Python 3",
   "language": "python",
   "name": "python3"
  },
  "language_info": {
   "codemirror_mode": {
    "name": "ipython",
    "version": 2
   },
   "file_extension": ".py",
   "mimetype": "text/x-python",
   "name": "python",
   "nbconvert_exporter": "python",
   "pygments_lexer": "ipython2",
   "version": "2.7.6"
  }
 },
 "nbformat": 4,
 "nbformat_minor": 5
}
