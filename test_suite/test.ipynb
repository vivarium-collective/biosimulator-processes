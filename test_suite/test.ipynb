{
 "cells": [
  {
   "cell_type": "code",
   "id": "initial_id",
   "metadata": {
    "collapsed": true
   },
   "source": [
    "import os \n",
    "import sys \n",
    "\n",
    "sys.path.insert(0, '..')\n",
    "\n",
    "from process_bigraph import Composite\n",
    "from process_bigraph.experiments.parameter_scan import RunProcess\n",
    "\n",
    "from biosimulator_processes.processes.amici_process import AmiciUTC\n",
    "from biosimulator_processes import CORE \n",
    "from biosimulator_processes.utils import plot_utc_outputs"
   ],
   "outputs": [],
   "execution_count": null
  },
  {
   "metadata": {},
   "cell_type": "code",
   "source": [
    "omex_dirpath = './examples/sbml-core/Elowitz-Nature-2000-Repressilator'\n",
    "model_path = os.path.join(omex_dirpath, 'BIOMD0000000012_url.xml')\n",
    "reports_path = os.path.join(omex_dirpath, 'reports.h5')\n",
    "\n",
    "obs1 = [\"floating_species_concentrations\", \"ci_protein\"]\n",
    "proc_addresses = ['copasi', 'tellurium', 'amici']\n",
    "proc_address = 'amici'\n",
    "\n",
    "amici_process_config = {\n",
    "    'model': {'model_source': omex_dirpath},\n",
    "    'time_config': {'step_size': 0.2, 'duration': 1000, 'num_steps': 5001}\n",
    "}"
   ],
   "id": "8ea18375e81986ed",
   "outputs": [],
   "execution_count": null
  },
  {
   "metadata": {},
   "cell_type": "code",
   "source": [
    "amici_process = AmiciUTC(config=amici_process_config)"
   ],
   "id": "9c075938b352754d",
   "outputs": [],
   "execution_count": null
  },
  {
   "metadata": {},
   "cell_type": "code",
   "source": [
    "results = amici_process.update()"
   ],
   "id": "8f1851a1b21a0238",
   "outputs": [],
   "execution_count": null
  },
  {
   "cell_type": "code",
   "execution_count": null,
   "outputs": [],
   "source": [
    "results"
   ],
   "metadata": {
    "collapsed": false
   },
   "id": "1411dfe9cb66fda1"
  },
  {
   "cell_type": "code",
   "execution_count": null,
   "outputs": [],
   "source": [
    "plot_utc_outputs(results, simulator_name='Amici')"
   ],
   "metadata": {
    "collapsed": false
   },
   "id": "2d54d2c31c4a2e9b"
  },
  {
   "cell_type": "code",
   "execution_count": null,
   "outputs": [],
   "source": [
    "\n",
    "\n",
    "# Example usage:\n",
    "file_path = os.path.join(omex_dirpath, 'simulation.sedml')\n",
    "time_course_data = extract_uniform_time_course(file_path)\n",
    "print(time_course_data)"
   ],
   "metadata": {
    "collapsed": false
   },
   "id": "e1bf7efdaa3d052f"
  },
  {
   "cell_type": "code",
   "execution_count": null,
   "outputs": [],
   "source": [
    "from zipfile import ZipFile\n",
    "\n",
    "with ZipFile(omex_dirpath + '.omex', 'r') as f:\n",
    "    f.extractall(path=\"/Users/alex/Desktop/uchc_work\")"
   ],
   "metadata": {
    "collapsed": false
   },
   "id": "9d88f51801d1601a"
  },
  {
   "cell_type": "code",
   "execution_count": null,
   "outputs": [],
   "source": [
    "!ls ~/desktop/uchc_work"
   ],
   "metadata": {
    "collapsed": false
   },
   "id": "f821f10e32852c64"
  },
  {
   "cell_type": "code",
   "execution_count": null,
   "outputs": [],
   "source": [
    "! cat ~/desktop/uchc_work/simulation.sedml"
   ],
   "metadata": {
    "collapsed": false
   },
   "id": "1a3c66a959331c95"
  },
  {
   "cell_type": "code",
   "execution_count": null,
   "outputs": [],
   "source": [],
   "metadata": {
    "collapsed": false
   },
   "id": "2ac7bdde7fcef3a"
  }
 ],
 "metadata": {
  "kernelspec": {
   "display_name": "Python 3",
   "language": "python",
   "name": "python3"
  },
  "language_info": {
   "codemirror_mode": {
    "name": "ipython",
    "version": 2
   },
   "file_extension": ".py",
   "mimetype": "text/x-python",
   "name": "python",
   "nbconvert_exporter": "python",
   "pygments_lexer": "ipython2",
   "version": "2.7.6"
  }
 },
 "nbformat": 4,
 "nbformat_minor": 5
}
