{
 "cells": [
  {
   "cell_type": "code",
   "id": "initial_id",
   "metadata": {
    "collapsed": true,
    "ExecuteTime": {
     "end_time": "2024-05-29T04:06:53.094018Z",
     "start_time": "2024-05-29T04:06:49.072746Z"
    }
   },
   "source": [
    "import os \n",
    "import sys \n",
    "\n",
    "sys.path.insert(0, '..')\n",
    "\n",
    "from process_bigraph import Composite\n",
    "from process_bigraph.experiments.parameter_scan import RunProcess\n",
    "\n",
    "from biosimulator_processes.processes.amici_process import AmiciProcess\n",
    "from biosimulator_processes import CORE "
   ],
   "outputs": [
    {
     "name": "stdout",
     "output_type": "stream",
     "text": [
      "Available processes:\n",
      "[ 'console-emitter',\n",
      "  'ram-emitter',\n",
      "  'composite',\n",
      "  'cobra',\n",
      "  'copasi',\n",
      "  'tellurium',\n",
      "  'amici']\n",
      "Available processes:\n",
      "[ 'console-emitter',\n",
      "  'ram-emitter',\n",
      "  'composite',\n",
      "  'cobra',\n",
      "  'copasi',\n",
      "  'tellurium',\n",
      "  'amici',\n",
      "  'copasi-step',\n",
      "  'tellurium-step',\n",
      "  'amici-step',\n",
      "  'plotter',\n",
      "  'plotter2d']\n"
     ]
    }
   ],
   "execution_count": 1
  },
  {
   "cell_type": "code",
   "execution_count": 2,
   "outputs": [
    {
     "name": "stdout",
     "output_type": "stream",
     "text": [
      "__init__.py    test.ipynb     \u001B[34mtest_processes\u001B[m\u001B[m\r\n",
      "\u001B[34mexamples\u001B[m\u001B[m       test_main.py   \u001B[34mtest_steps\u001B[m\u001B[m\r\n"
     ]
    }
   ],
   "source": [
    "!ls"
   ],
   "metadata": {
    "collapsed": false,
    "ExecuteTime": {
     "end_time": "2024-05-29T04:06:54.744518Z",
     "start_time": "2024-05-29T04:06:54.567175Z"
    }
   },
   "id": "eacfedbd973ede21"
  },
  {
   "metadata": {
    "ExecuteTime": {
     "end_time": "2024-05-29T04:07:03.122004Z",
     "start_time": "2024-05-29T04:07:03.090341Z"
    }
   },
   "cell_type": "code",
   "source": [
    "omex_dirpath = './examples/sbml-core/Elowitz-Nature-2000-Repressilator'\n",
    "model_path = os.path.join(omex_dirpath, 'BIOMD0000000012_url.xml')\n",
    "reports_path = os.path.join(omex_dirpath, 'reports.h5')\n",
    "\n",
    "obs1 = [\"floating_species_concentrations\", \"ci_protein\"]\n",
    "proc_addresses = ['copasi', 'tellurium', 'amici']\n",
    "proc_address = 'amici'\n",
    "step = 0.2\n",
    "dur = 1000  \n",
    "n_steps = 5001 "
   ],
   "id": "8ea18375e81986ed",
   "outputs": [],
   "execution_count": 3
  },
  {
   "metadata": {
    "ExecuteTime": {
     "end_time": "2024-05-29T04:05:02.759842Z",
     "start_time": "2024-05-29T04:05:02.420689Z"
    }
   },
   "cell_type": "code",
   "source": [
    "amici_process = AmiciProcess(config={\n",
    "    'model': {'model_source': model_path}\n",
    "})"
   ],
   "id": "9c075938b352754d",
   "outputs": [
    {
     "name": "stderr",
     "output_type": "stream",
     "text": [
      "2024-05-29 00:05:02.445 - amici.sbml_import - ERROR - libSBML Operating system (Error): File unreadable.\n",
      "\n"
     ]
    },
    {
     "ename": "SBMLException",
     "evalue": "SBML Document failed to load (see error messages above)",
     "output_type": "error",
     "traceback": [
      "\u001B[0;31m---------------------------------------------------------------------------\u001B[0m",
      "\u001B[0;31mSBMLException\u001B[0m                             Traceback (most recent call last)",
      "Cell \u001B[0;32mIn[4], line 1\u001B[0m\n\u001B[0;32m----> 1\u001B[0m amici_process \u001B[38;5;241m=\u001B[39m \u001B[43mAmiciProcess\u001B[49m\u001B[43m(\u001B[49m\u001B[43mconfig\u001B[49m\u001B[38;5;241;43m=\u001B[39;49m\u001B[43m{\u001B[49m\n\u001B[1;32m      2\u001B[0m \u001B[43m    \u001B[49m\u001B[38;5;124;43m'\u001B[39;49m\u001B[38;5;124;43mmodel\u001B[39;49m\u001B[38;5;124;43m'\u001B[39;49m\u001B[43m:\u001B[49m\u001B[43m \u001B[49m\u001B[43m{\u001B[49m\u001B[38;5;124;43m'\u001B[39;49m\u001B[38;5;124;43mmodel_source\u001B[39;49m\u001B[38;5;124;43m'\u001B[39;49m\u001B[43m:\u001B[49m\u001B[43m \u001B[49m\u001B[43mmodel_path\u001B[49m\u001B[43m}\u001B[49m\n\u001B[1;32m      3\u001B[0m \u001B[43m}\u001B[49m\u001B[43m)\u001B[49m\n",
      "File \u001B[0;32m~/Desktop/uchc_work/repos/biosimulator-processes/biosimulator_processes/processes/amici_process.py:107\u001B[0m, in \u001B[0;36mAmiciProcess.__init__\u001B[0;34m(self, config, core, time_config, model_source, sed_model_config)\u001B[0m\n\u001B[1;32m    104\u001B[0m model_output_dir \u001B[38;5;241m=\u001B[39m \u001B[38;5;28mself\u001B[39m\u001B[38;5;241m.\u001B[39mconfig[\u001B[38;5;124m'\u001B[39m\u001B[38;5;124mmodel_output_dir\u001B[39m\u001B[38;5;124m'\u001B[39m]\n\u001B[1;32m    106\u001B[0m \u001B[38;5;66;03m# compile sbml to amici\u001B[39;00m\n\u001B[0;32m--> 107\u001B[0m sbml_importer \u001B[38;5;241m=\u001B[39m \u001B[43mSbmlImporter\u001B[49m\u001B[43m(\u001B[49m\u001B[43mmodel_fp\u001B[49m\u001B[43m)\u001B[49m\n\u001B[1;32m    108\u001B[0m sbml_importer\u001B[38;5;241m.\u001B[39msbml2amici(\n\u001B[1;32m    109\u001B[0m     model_name\u001B[38;5;241m=\u001B[39mmodel_id,\n\u001B[1;32m    110\u001B[0m     output_dir\u001B[38;5;241m=\u001B[39mmodel_output_dir,\n\u001B[0;32m   (...)\u001B[0m\n\u001B[1;32m    113\u001B[0m     constant_parameters\u001B[38;5;241m=\u001B[39m\u001B[38;5;28mself\u001B[39m\u001B[38;5;241m.\u001B[39mconfig\u001B[38;5;241m.\u001B[39mget(\u001B[38;5;124m'\u001B[39m\u001B[38;5;124mconstant_parameters\u001B[39m\u001B[38;5;124m'\u001B[39m),\n\u001B[1;32m    114\u001B[0m     sigmas\u001B[38;5;241m=\u001B[39m\u001B[38;5;28mself\u001B[39m\u001B[38;5;241m.\u001B[39mconfig\u001B[38;5;241m.\u001B[39mget(\u001B[38;5;124m'\u001B[39m\u001B[38;5;124msigmas\u001B[39m\u001B[38;5;124m'\u001B[39m))\n\u001B[1;32m    115\u001B[0m model_module \u001B[38;5;241m=\u001B[39m import_model_module(model_id, model_output_dir)\n",
      "File \u001B[0;32m~/Library/Caches/pypoetry/virtualenvs/biosimulator-processes-ECOqdsTs-py3.11/lib/python3.11/site-packages/amici/sbml_import.py:173\u001B[0m, in \u001B[0;36mSbmlImporter.__init__\u001B[0;34m(self, sbml_source, show_sbml_warnings, from_file, discard_annotations)\u001B[0m\n\u001B[1;32m    170\u001B[0m \u001B[38;5;28mself\u001B[39m\u001B[38;5;241m.\u001B[39mshow_sbml_warnings: \u001B[38;5;28mbool\u001B[39m \u001B[38;5;241m=\u001B[39m show_sbml_warnings\n\u001B[1;32m    172\u001B[0m \u001B[38;5;66;03m# process document\u001B[39;00m\n\u001B[0;32m--> 173\u001B[0m \u001B[38;5;28;43mself\u001B[39;49m\u001B[38;5;241;43m.\u001B[39;49m\u001B[43m_process_document\u001B[49m\u001B[43m(\u001B[49m\u001B[43m)\u001B[49m\n\u001B[1;32m    175\u001B[0m \u001B[38;5;28mself\u001B[39m\u001B[38;5;241m.\u001B[39msbml: sbml\u001B[38;5;241m.\u001B[39mModel \u001B[38;5;241m=\u001B[39m \u001B[38;5;28mself\u001B[39m\u001B[38;5;241m.\u001B[39msbml_doc\u001B[38;5;241m.\u001B[39mgetModel()\n\u001B[1;32m    177\u001B[0m \u001B[38;5;66;03m# Long and short names for model components\u001B[39;00m\n",
      "File \u001B[0;32m~/Library/Caches/pypoetry/virtualenvs/biosimulator-processes-ECOqdsTs-py3.11/lib/python3.11/site-packages/amici/logging.py:220\u001B[0m, in \u001B[0;36mlog_execution_time.<locals>.decorator_timer.<locals>.wrapper_timer\u001B[0;34m(*args, **kwargs)\u001B[0m\n\u001B[1;32m    217\u001B[0m     level_length \u001B[38;5;241m=\u001B[39m \u001B[38;5;28mlen\u001B[39m(\u001B[38;5;124m\"\u001B[39m\u001B[38;5;124mDEBUG\u001B[39m\u001B[38;5;124m\"\u001B[39m)\n\u001B[1;32m    219\u001B[0m tstart \u001B[38;5;241m=\u001B[39m time\u001B[38;5;241m.\u001B[39mperf_counter()\n\u001B[0;32m--> 220\u001B[0m rval \u001B[38;5;241m=\u001B[39m \u001B[43mfunc\u001B[49m\u001B[43m(\u001B[49m\u001B[38;5;241;43m*\u001B[39;49m\u001B[43margs\u001B[49m\u001B[43m,\u001B[49m\u001B[43m \u001B[49m\u001B[38;5;241;43m*\u001B[39;49m\u001B[38;5;241;43m*\u001B[39;49m\u001B[43mkwargs\u001B[49m\u001B[43m)\u001B[49m\n\u001B[1;32m    221\u001B[0m tend \u001B[38;5;241m=\u001B[39m time\u001B[38;5;241m.\u001B[39mperf_counter()\n\u001B[1;32m    222\u001B[0m spacers \u001B[38;5;241m=\u001B[39m \u001B[38;5;124m\"\u001B[39m\u001B[38;5;124m \u001B[39m\u001B[38;5;124m\"\u001B[39m \u001B[38;5;241m*\u001B[39m \u001B[38;5;28mmax\u001B[39m(\n\u001B[1;32m    223\u001B[0m     \u001B[38;5;241m59\u001B[39m\n\u001B[1;32m    224\u001B[0m     \u001B[38;5;241m-\u001B[39m \u001B[38;5;28mlen\u001B[39m(description)\n\u001B[0;32m   (...)\u001B[0m\n\u001B[1;32m    228\u001B[0m     \u001B[38;5;241m0\u001B[39m,\n\u001B[1;32m    229\u001B[0m )\n",
      "File \u001B[0;32m~/Library/Caches/pypoetry/virtualenvs/biosimulator-processes-ECOqdsTs-py3.11/lib/python3.11/site-packages/amici/sbml_import.py:208\u001B[0m, in \u001B[0;36mSbmlImporter._process_document\u001B[0;34m(self)\u001B[0m\n\u001B[1;32m    203\u001B[0m \u001B[38;5;66;03m# Ensure we got a valid SBML model, otherwise further processing\u001B[39;00m\n\u001B[1;32m    204\u001B[0m \u001B[38;5;66;03m# might lead to undefined results\u001B[39;00m\n\u001B[1;32m    205\u001B[0m log_execution_time(\u001B[38;5;124m\"\u001B[39m\u001B[38;5;124mvalidating SBML\u001B[39m\u001B[38;5;124m\"\u001B[39m, logger)(\n\u001B[1;32m    206\u001B[0m     \u001B[38;5;28mself\u001B[39m\u001B[38;5;241m.\u001B[39msbml_doc\u001B[38;5;241m.\u001B[39mvalidateSBML\n\u001B[1;32m    207\u001B[0m )()\n\u001B[0;32m--> 208\u001B[0m \u001B[43m_check_lib_sbml_errors\u001B[49m\u001B[43m(\u001B[49m\u001B[38;5;28;43mself\u001B[39;49m\u001B[38;5;241;43m.\u001B[39;49m\u001B[43msbml_doc\u001B[49m\u001B[43m,\u001B[49m\u001B[43m \u001B[49m\u001B[38;5;28;43mself\u001B[39;49m\u001B[38;5;241;43m.\u001B[39;49m\u001B[43mshow_sbml_warnings\u001B[49m\u001B[43m)\u001B[49m\n\u001B[1;32m    210\u001B[0m \u001B[38;5;66;03m# Flatten \"comp\" model? Do that before any other converters are run\u001B[39;00m\n\u001B[1;32m    211\u001B[0m \u001B[38;5;28;01mif\u001B[39;00m \u001B[38;5;28many\u001B[39m(\n\u001B[1;32m    212\u001B[0m     \u001B[38;5;28mself\u001B[39m\u001B[38;5;241m.\u001B[39msbml_doc\u001B[38;5;241m.\u001B[39mgetPlugin(i_plugin)\u001B[38;5;241m.\u001B[39mgetPackageName() \u001B[38;5;241m==\u001B[39m \u001B[38;5;124m\"\u001B[39m\u001B[38;5;124mcomp\u001B[39m\u001B[38;5;124m\"\u001B[39m\n\u001B[1;32m    213\u001B[0m     \u001B[38;5;28;01mfor\u001B[39;00m i_plugin \u001B[38;5;129;01min\u001B[39;00m \u001B[38;5;28mrange\u001B[39m(\u001B[38;5;28mself\u001B[39m\u001B[38;5;241m.\u001B[39msbml_doc\u001B[38;5;241m.\u001B[39mgetNumPlugins())\n\u001B[1;32m    214\u001B[0m ):\n\u001B[1;32m    215\u001B[0m     \u001B[38;5;66;03m# see libsbml CompFlatteningConverter for options\u001B[39;00m\n",
      "File \u001B[0;32m~/Library/Caches/pypoetry/virtualenvs/biosimulator-processes-ECOqdsTs-py3.11/lib/python3.11/site-packages/amici/sbml_import.py:2845\u001B[0m, in \u001B[0;36m_check_lib_sbml_errors\u001B[0;34m(sbml_doc, show_warnings)\u001B[0m\n\u001B[1;32m   2838\u001B[0m             logger\u001B[38;5;241m.\u001B[39merror(\n\u001B[1;32m   2839\u001B[0m                 \u001B[38;5;124mf\u001B[39m\u001B[38;5;124m\"\u001B[39m\u001B[38;5;124mlibSBML \u001B[39m\u001B[38;5;132;01m{\u001B[39;00merror\u001B[38;5;241m.\u001B[39mgetCategoryAsString()\u001B[38;5;132;01m}\u001B[39;00m\u001B[38;5;124m \u001B[39m\u001B[38;5;124m\"\u001B[39m\n\u001B[1;32m   2840\u001B[0m                 \u001B[38;5;124mf\u001B[39m\u001B[38;5;124m\"\u001B[39m\u001B[38;5;124m(\u001B[39m\u001B[38;5;132;01m{\u001B[39;00merror\u001B[38;5;241m.\u001B[39mgetSeverityAsString()\u001B[38;5;132;01m}\u001B[39;00m\u001B[38;5;124m):\u001B[39m\u001B[38;5;124m\"\u001B[39m\n\u001B[1;32m   2841\u001B[0m                 \u001B[38;5;124mf\u001B[39m\u001B[38;5;124m\"\u001B[39m\u001B[38;5;124m \u001B[39m\u001B[38;5;132;01m{\u001B[39;00merror\u001B[38;5;241m.\u001B[39mgetMessage()\u001B[38;5;132;01m}\u001B[39;00m\u001B[38;5;124m\"\u001B[39m\n\u001B[1;32m   2842\u001B[0m             )\n\u001B[1;32m   2844\u001B[0m \u001B[38;5;28;01mif\u001B[39;00m num_error \u001B[38;5;241m+\u001B[39m num_fatal:\n\u001B[0;32m-> 2845\u001B[0m     \u001B[38;5;28;01mraise\u001B[39;00m SBMLException(\n\u001B[1;32m   2846\u001B[0m         \u001B[38;5;124m\"\u001B[39m\u001B[38;5;124mSBML Document failed to load (see error messages above)\u001B[39m\u001B[38;5;124m\"\u001B[39m\n\u001B[1;32m   2847\u001B[0m     )\n",
      "\u001B[0;31mSBMLException\u001B[0m: SBML Document failed to load (see error messages above)"
     ]
    }
   ],
   "execution_count": 4
  },
  {
   "metadata": {
    "ExecuteTime": {
     "start_time": "2024-05-29T04:05:02.755461Z"
    }
   },
   "cell_type": "code",
   "source": [
    "amici_process.update({})"
   ],
   "id": "8f1851a1b21a0238",
   "outputs": [],
   "execution_count": null
  },
  {
   "metadata": {
    "ExecuteTime": {
     "start_time": "2024-05-29T04:05:02.757517Z"
    }
   },
   "cell_type": "code",
   "source": [
    "from basico import *\n",
    "\n",
    "m = load_model(fp)\n",
    "get_species(model=m)"
   ],
   "id": "e243bca8e8390e7",
   "outputs": [],
   "execution_count": null
  },
  {
   "metadata": {
    "ExecuteTime": {
     "start_time": "2024-05-29T04:05:02.759311Z"
    }
   },
   "cell_type": "code",
   "source": [
    "def run_ode_comparison(process_addresses, model_fp, step, dur, observables):\n",
    "    processes = [generate_ode_process_instance(entrypoint=model_fp, process_address=address, step_size=step, duration=dur, observables=[observables]) for address in process_addresses]\n",
    "    print(processes)\n",
    "    \n",
    "    return dict(zip(process_addresses, [process.run({}) for process in processes]))\n",
    "    \n",
    "\n",
    "run_ode_comparison(proc_addresses, fp, step, dur, obs1)"
   ],
   "id": "e510458a52feb56d",
   "outputs": [],
   "execution_count": null
  },
  {
   "metadata": {
    "ExecuteTime": {
     "start_time": "2024-05-29T04:05:02.760779Z"
    }
   },
   "cell_type": "code",
   "source": [],
   "id": "46bcae7c258c69cd",
   "execution_count": null,
   "outputs": []
  },
  {
   "metadata": {
    "ExecuteTime": {
     "start_time": "2024-05-29T04:05:02.761843Z"
    }
   },
   "cell_type": "code",
   "execution_count": null,
   "source": [],
   "id": "80cfb67a20f5f372",
   "outputs": []
  }
 ],
 "metadata": {
  "kernelspec": {
   "display_name": "Python 3",
   "language": "python",
   "name": "python3"
  },
  "language_info": {
   "codemirror_mode": {
    "name": "ipython",
    "version": 2
   },
   "file_extension": ".py",
   "mimetype": "text/x-python",
   "name": "python",
   "nbconvert_exporter": "python",
   "pygments_lexer": "ipython2",
   "version": "2.7.6"
  }
 },
 "nbformat": 4,
 "nbformat_minor": 5
}
