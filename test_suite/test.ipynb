{
 "cells": [
  {
   "cell_type": "code",
   "id": "initial_id",
   "metadata": {
    "collapsed": true,
    "ExecuteTime": {
     "end_time": "2024-05-29T06:19:00.359699Z",
     "start_time": "2024-05-29T06:18:55.401597Z"
    }
   },
   "source": [
    "import os \n",
    "import sys \n",
    "\n",
    "sys.path.insert(0, '..')\n",
    "\n",
    "from process_bigraph import Composite\n",
    "from process_bigraph.experiments.parameter_scan import RunProcess\n",
    "\n",
    "from biosimulator_processes.processes.amici_process import AmiciUTC\n",
    "from biosimulator_processes import CORE \n",
    "from biosimulator_processes.utils import plot_utc_outputs"
   ],
   "outputs": [
    {
     "name": "stdout",
     "output_type": "stream",
     "text": [
      "Available processes:\n",
      "[ 'console-emitter',\n",
      "  'ram-emitter',\n",
      "  'composite',\n",
      "  'cobra',\n",
      "  'copasi',\n",
      "  'tellurium',\n",
      "  'amici']\n",
      "Available processes:\n",
      "[ 'console-emitter',\n",
      "  'ram-emitter',\n",
      "  'composite',\n",
      "  'cobra',\n",
      "  'copasi',\n",
      "  'tellurium',\n",
      "  'amici',\n",
      "  'copasi-step',\n",
      "  'tellurium-step',\n",
      "  'amici-step',\n",
      "  'plotter',\n",
      "  'plotter2d']\n"
     ]
    }
   ],
   "execution_count": 1
  },
  {
   "metadata": {
    "ExecuteTime": {
     "end_time": "2024-05-29T06:19:00.360059Z",
     "start_time": "2024-05-29T06:19:00.355445Z"
    }
   },
   "cell_type": "code",
   "source": [
    "omex_dirpath = './examples/sbml-core/Elowitz-Nature-2000-Repressilator'\n",
    "model_path = os.path.join(omex_dirpath, 'BIOMD0000000012_url.xml')\n",
    "reports_path = os.path.join(omex_dirpath, 'reports.h5')\n",
    "\n",
    "obs1 = [\"floating_species_concentrations\", \"ci_protein\"]\n",
    "proc_addresses = ['copasi', 'tellurium', 'amici']\n",
    "proc_address = 'amici'\n",
    "\n",
    "amici_process_config = {\n",
    "    'model': {'model_source': omex_dirpath},\n",
    "    'time_config': {'step_size': 0.2, 'duration': 1000, 'num_steps': 5001}\n",
    "}"
   ],
   "id": "8ea18375e81986ed",
   "outputs": [],
   "execution_count": 2
  },
  {
   "metadata": {
    "ExecuteTime": {
     "end_time": "2024-05-29T06:19:20.490256Z",
     "start_time": "2024-05-29T06:19:00.423447Z"
    }
   },
   "cell_type": "code",
   "source": [
    "amici_process = AmiciUTC(config=amici_process_config)"
   ],
   "id": "9c075938b352754d",
   "outputs": [
    {
     "name": "stderr",
     "output_type": "stream",
     "text": [
      "2024-05-29 02:19:00.562 - amici.sbml_import - INFO - Finished importing SBML                         (7.98E-02s)\n",
      "2024-05-29 02:19:00.658 - amici.sbml_import - INFO - Finished processing SBML observables            (9.07E-02s)\n",
      "2024-05-29 02:19:00.666 - amici.sbml_import - INFO - Finished processing SBML event observables      (1.33E-06s)\n",
      "2024-05-29 02:19:00.710 - amici.de_model - INFO - Finished computing xdot                            (6.06E-03s)\n",
      "2024-05-29 02:19:00.725 - amici.de_model - INFO - Finished computing x0                              (6.82E-03s)\n",
      "2024-05-29 02:19:00.761 - amici.de_model - INFO - Finished computing w                               (2.96E-02s)\n",
      "2024-05-29 02:19:02.253 - amici.de_export - INFO - Finished generating cpp code                      (1.48E+00s)\n",
      "2024-05-29 02:19:19.925 - amici.de_export - INFO - Finished compiling cpp code                       (1.77E+01s)\n"
     ]
    },
    {
     "ename": "AttributeError",
     "evalue": "'AmiciUTC' object has no attribute 't'",
     "output_type": "error",
     "traceback": [
      "\u001B[0;31m---------------------------------------------------------------------------\u001B[0m",
      "\u001B[0;31mAttributeError\u001B[0m                            Traceback (most recent call last)",
      "Cell \u001B[0;32mIn[3], line 1\u001B[0m\n\u001B[0;32m----> 1\u001B[0m amici_process \u001B[38;5;241m=\u001B[39m \u001B[43mAmiciUTC\u001B[49m\u001B[43m(\u001B[49m\u001B[43mconfig\u001B[49m\u001B[38;5;241;43m=\u001B[39;49m\u001B[43mamici_process_config\u001B[49m\u001B[43m)\u001B[49m\n",
      "File \u001B[0;32m~/Desktop/uchc_work/repos/biosimulator-processes/test_suite/../biosimulator_processes/processes/amici_process.py:167\u001B[0m, in \u001B[0;36mAmiciUTC.__init__\u001B[0;34m(self, config, core, time_config, model_source, sed_model_config)\u001B[0m\n\u001B[1;32m    164\u001B[0m \u001B[38;5;28;01mif\u001B[39;00m \u001B[38;5;129;01mnot\u001B[39;00m dirsource:\n\u001B[1;32m    165\u001B[0m     \u001B[38;5;28mself\u001B[39m\u001B[38;5;241m.\u001B[39mt \u001B[38;5;241m=\u001B[39m np\u001B[38;5;241m.\u001B[39mlinspace(\u001B[38;5;241m0\u001B[39m, \u001B[38;5;28mself\u001B[39m\u001B[38;5;241m.\u001B[39mduration, \u001B[38;5;28mself\u001B[39m\u001B[38;5;241m.\u001B[39mnum_steps)\n\u001B[0;32m--> 167\u001B[0m \u001B[38;5;28mself\u001B[39m\u001B[38;5;241m.\u001B[39mamici_model_object\u001B[38;5;241m.\u001B[39msetTimepoints(\u001B[38;5;28;43mself\u001B[39;49m\u001B[38;5;241;43m.\u001B[39;49m\u001B[43mt\u001B[49m)\n",
      "\u001B[0;31mAttributeError\u001B[0m: 'AmiciUTC' object has no attribute 't'"
     ]
    }
   ],
   "execution_count": 3
  },
  {
   "metadata": {
    "ExecuteTime": {
     "start_time": "2024-05-29T06:19:20.487889Z"
    }
   },
   "cell_type": "code",
   "source": [
    "results = amici_process.update()"
   ],
   "id": "8f1851a1b21a0238",
   "outputs": [],
   "execution_count": null
  },
  {
   "cell_type": "code",
   "execution_count": null,
   "outputs": [],
   "source": [
    "results"
   ],
   "metadata": {
    "collapsed": false,
    "ExecuteTime": {
     "start_time": "2024-05-29T06:19:20.489285Z"
    }
   },
   "id": "1411dfe9cb66fda1"
  },
  {
   "cell_type": "code",
   "execution_count": null,
   "outputs": [],
   "source": [
    "plot_utc_outputs(results, simulator_name='Amici')"
   ],
   "metadata": {
    "collapsed": false,
    "ExecuteTime": {
     "end_time": "2024-05-29T06:19:20.490780Z",
     "start_time": "2024-05-29T06:19:20.490644Z"
    }
   },
   "id": "2d54d2c31c4a2e9b"
  },
  {
   "cell_type": "code",
   "execution_count": null,
   "outputs": [],
   "source": [
    "\n",
    "\n",
    "# Example usage:\n",
    "file_path = os.path.join(omex_dirpath, 'simulation.sedml')\n",
    "time_course_data = extract_uniform_time_course(file_path)\n",
    "print(time_course_data)"
   ],
   "metadata": {
    "collapsed": false
   },
   "id": "e1bf7efdaa3d052f"
  },
  {
   "cell_type": "code",
   "execution_count": null,
   "outputs": [],
   "source": [
    "from zipfile import ZipFile\n",
    "\n",
    "with ZipFile(omex_dirpath + '.omex', 'r') as f:\n",
    "    f.extractall(path=\"/Users/alex/Desktop/uchc_work\")"
   ],
   "metadata": {
    "collapsed": false
   },
   "id": "9d88f51801d1601a"
  },
  {
   "cell_type": "code",
   "execution_count": null,
   "outputs": [],
   "source": [
    "!ls ~/desktop/uchc_work"
   ],
   "metadata": {
    "collapsed": false
   },
   "id": "f821f10e32852c64"
  },
  {
   "cell_type": "code",
   "execution_count": null,
   "outputs": [],
   "source": [
    "! cat ~/desktop/uchc_work/simulation.sedml"
   ],
   "metadata": {
    "collapsed": false
   },
   "id": "1a3c66a959331c95"
  },
  {
   "cell_type": "code",
   "execution_count": null,
   "outputs": [],
   "source": [],
   "metadata": {
    "collapsed": false
   },
   "id": "2ac7bdde7fcef3a"
  }
 ],
 "metadata": {
  "kernelspec": {
   "display_name": "Python 3",
   "language": "python",
   "name": "python3"
  },
  "language_info": {
   "codemirror_mode": {
    "name": "ipython",
    "version": 2
   },
   "file_extension": ".py",
   "mimetype": "text/x-python",
   "name": "python",
   "nbconvert_exporter": "python",
   "pygments_lexer": "ipython2",
   "version": "2.7.6"
  }
 },
 "nbformat": 4,
 "nbformat_minor": 5
}
