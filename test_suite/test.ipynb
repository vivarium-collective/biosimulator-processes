{
 "cells": [
  {
   "cell_type": "code",
   "execution_count": 1,
   "id": "initial_id",
   "metadata": {
    "ExecuteTime": {
     "end_time": "2024-09-16T21:57:42.103173Z",
     "start_time": "2024-09-16T21:57:42.074831Z"
    }
   },
   "outputs": [],
   "source": [
    "import os\n",
    "import warnings\n",
    "from pathlib import Path\n",
    "\n",
    "import numpy as np\n",
    "import cobra\n",
    "from cobra import Model, Reaction, Metabolite\n",
    "from cobra.io import load_model, read_sbml_model\n",
    "from process_bigraph import Process, Composite, ProcessTypes\n",
    "\n",
    "# from biosimulators_processes import CORE\n",
    "# from biosimulators_processes.data_model.sed_data_model import MODEL_TYPE\n",
    "# from biosimulators_processes.viz.plot import plot_time_series, plot_species_distributions_to_gif\n",
    "\n",
    "\n",
    "CORE = ProcessTypes()\n",
    "\n",
    "class CobraProcess(Process):\n",
    "    config_schema = {\n",
    "        'model': {\n",
    "            'model_source': 'string'\n",
    "        },\n",
    "        'model_name': {\n",
    "            '_type': 'string',\n",
    "            '_default': 'FBA'\n",
    "        }\n",
    "    }\n",
    "\n",
    "    def __init__(self, config, core):\n",
    "        super().__init__(config, core)\n",
    "\n",
    "        # create \"empty\" model\n",
    "        self.model_name = self.config.get('model_name')\n",
    "        model_file = self.config['model'].get('model_source')\n",
    "        if model_file is not None:\n",
    "            data_dir = Path(os.path.dirname(model_file))\n",
    "            path = data_dir / model_file.split('/')[-1]\n",
    "            self.model = read_sbml_model(str(path.resolve()))\n",
    "        else:\n",
    "            self.model = None\n",
    "        # self.model = Model(modelname)\n",
    "\n",
    "    def initial_state(self):\n",
    "        if self.model is not None:\n",
    "            solution = self.model.optimize()\n",
    "        pass \n",
    "        \n",
    "        \n",
    "    def inputs(self):\n",
    "        return {\n",
    "            'reactions': 'tree[string]',\n",
    "            'floating_species_concentrations': 'tree[float]'\n",
    "        }\n",
    "    \n",
    "    def outputs(self):\n",
    "        return {\n",
    "            'substrates': 'tree[float]'\n",
    "        }\n",
    "    \n",
    "    def update(self, state, interval):\n",
    "        from random import randint\n",
    "        # parse input state\n",
    "        substrates_input = state['floating_species_concentrations']\n",
    "        reactions = state['reactions']\n",
    "        species_names = list(substrates_input.keys())\n",
    "\n",
    "        # generate model based on input state data\n",
    "        model = self.generate_model(reactions, species_names)\n",
    "\n",
    "        # mapped one to one to species names\n",
    "        for metabolite in model.metabolites:\n",
    "            lookup_key = metabolite.id.replace(\"_\", \" \")\n",
    "            # TODO: make this more dynamic\n",
    "            Km, Vmax = (0.5, randint(1, 3))\n",
    "            substrate_concentration = substrates_input[lookup_key]\n",
    "            uptake_rate = Vmax * substrate_concentration / (Km + substrate_concentration)\n",
    "            # assign uptake rate to each relevant reaction lower bound\n",
    "            for reaction in metabolite.reactions:\n",
    "                model.reactions.get_by_id(reaction.id).lower_bound = -uptake_rate\n",
    "\n",
    "        \n",
    "        substrate_update = {}\n",
    "        solution = model.optimize()\n",
    "        # if solution.status == 'optimal':\n",
    "        for metabolite in model.metabolites:\n",
    "            lookup_key = metabolite.id.replace(\"_\", \" \")\n",
    "            for reaction in metabolite.reactions:\n",
    "                flux = solution.fluxes[reaction.id]\n",
    "                old_concentration = substrates_input[lookup_key]\n",
    "                new_concentration = max(old_concentration + flux, 0)  # keep above 0\n",
    "                substrate_update[lookup_key] = new_concentration - old_concentration\n",
    "        # else:\n",
    "            # substrate_update = {metabolite.id.replace(\"_\", \" \"): 0 for metabolite in model.metabolites}\n",
    "\n",
    "        return {'substrates': substrate_update}\n",
    "                \n",
    "    def generate_model(self, reactions_dict, species_names) -> Model:\n",
    "        # Create a new COBRA model\n",
    "        model = Model(self.model_name)\n",
    "        reactions = list(reactions_dict.values())\n",
    "        reaction_names = list(reactions_dict.keys())\n",
    "        \n",
    "        # Step 1: Create Metabolite objects for all species\n",
    "        metabolite_dict = {}\n",
    "        for species in species_names:\n",
    "            metabolite = Metabolite(\n",
    "                species.replace(\" \", \"_\").replace('\"', ''),  # Ensure the metabolite ID is valid\n",
    "                name=species,\n",
    "                compartment='c'  # Assuming all species are in the cytosol\n",
    "            )\n",
    "            metabolite_dict[species] = metabolite  # Add to dictionary for easy reference\n",
    "    \n",
    "        # Step 2: Create Reaction objects and add Metabolites\n",
    "        for i, reaction_scheme in enumerate(reactions):\n",
    "            reaction_name = reaction_names[i]\n",
    "            reaction_id = reaction_name.replace(\" \", \"_\")\n",
    "            reaction = Reaction(reaction_id)  # Create a reaction with the ID\n",
    "            \n",
    "            # Parse the reaction scheme to identify substrates and products\n",
    "            scheme_str = reaction_scheme\n",
    "            reactants, products = scheme_str.split(\"->\")\n",
    "            \n",
    "            # Initialize the dictionary for metabolites with their stoichiometry\n",
    "            metabolites_to_add = {}\n",
    "    \n",
    "            # Handle Reactants\n",
    "            reactant_list = reactants.split(\";\")\n",
    "            for reactant in reactant_list:\n",
    "                reactant = reactant.strip().replace('\"', '')  # Clean up string\n",
    "                if reactant in metabolite_dict:\n",
    "                    metabolites_to_add[metabolite_dict[reactant]] = -1.0  # Reactants are consumed (-1)\n",
    "    \n",
    "            # Handle Products\n",
    "            product_list = products.split(\";\")\n",
    "            for product in product_list:\n",
    "                product = product.strip().replace('\"', '')  # Clean up string\n",
    "                if product in metabolite_dict:\n",
    "                    metabolites_to_add[metabolite_dict[product]] = 1.0  # Products are produced (+1)\n",
    "    \n",
    "            # Add metabolites to the reaction\n",
    "            reaction.add_metabolites(metabolites_to_add)\n",
    "    \n",
    "            # Add the reaction to the model\n",
    "            model.add_reactions([reaction])\n",
    "    \n",
    "        return model\n"
   ]
  },
  {
   "cell_type": "code",
   "execution_count": 2,
   "id": "b6c81226-f255-4f0f-88d5-91ef2aa03962",
   "metadata": {},
   "outputs": [],
   "source": [
    "from typing import Dict, Union, Optional, List, Any\n",
    "from datetime import datetime\n",
    "import json\n",
    "\n",
    "import numpy as np\n",
    "from COPASI import CDataModel\n",
    "from numpy import ndarray, dtype, array, append as npAppend\n",
    "from pandas import DataFrame\n",
    "from basico import (\n",
    "    load_model,\n",
    "    get_species,\n",
    "    get_parameters,\n",
    "    get_reactions,\n",
    "    set_species,\n",
    "    run_time_course_with_output,\n",
    "    run_time_course,\n",
    "    get_compartments,\n",
    "    new_model,\n",
    "    set_reaction_parameters,\n",
    "    add_reaction,\n",
    "    set_reaction,\n",
    "    set_parameters,\n",
    "    add_parameter\n",
    ")\n",
    "\n",
    "\n",
    "class CopasiProcess(Process):\n",
    "    config_schema = {\n",
    "        'model': {\n",
    "            'model_source': 'string'\n",
    "        },\n",
    "        'method': {\n",
    "            '_type': 'string',\n",
    "            '_default': 'deterministic'\n",
    "        }\n",
    "    }\n",
    "\n",
    "    def __init__(self,\n",
    "                 config: Dict[str, Union[str, Dict[str, str], Dict[str, Optional[Dict[str, str]]], Optional[Dict[str, str]]]] = None,\n",
    "                 core: Dict = CORE):\n",
    "        super().__init__(config, core)\n",
    "\n",
    "        # insert copasi process model config\n",
    "        model_source = self.config['model'].get('model_source') or self.config.get('sbml_fp')\n",
    "        assert model_source is not None, 'You must specify a model source of either a valid biomodel id or model filepath.'\n",
    "        model_changes = self.config['model'].get('model_changes', {})\n",
    "        self.model_changes = {} if model_changes is None else model_changes\n",
    "\n",
    "        # Option A:\n",
    "        if '/' in model_source:\n",
    "            self.copasi_model_object = load_model(model_source)\n",
    "            print('found a filepath')\n",
    "\n",
    "        # Option C:\n",
    "        else:\n",
    "            if not self.model_changes:\n",
    "                raise AttributeError(\n",
    "                    \"\"\"You must pass a source of model changes specifying params, reactions, \n",
    "                        species or all three if starting from an empty model.\"\"\")\n",
    "            model_units = self.config['model'].get('model_units', {})\n",
    "            self.copasi_model_object = new_model(\n",
    "                name='CopasiProcess TimeCourseModel',\n",
    "                **model_units)\n",
    "\n",
    "        # handle context of species output\n",
    "        context_type = self.config.get('species_context', 'concentrations')\n",
    "        self.species_context_key = f'floating_species_{context_type}'\n",
    "        self.use_counts = 'concentrations' in context_type\n",
    "\n",
    "        # Get a list of reactions\n",
    "        self._set_reaction_changes()\n",
    "        reactions = get_reactions(model=self.copasi_model_object)\n",
    "        self.reaction_list = reactions.index.tolist() if reactions is not None else []\n",
    "        reaction_data = get_reactions(model=self.copasi_model_object)['scheme']\n",
    "        reaction_schemas = reaction_data.values.tolist()\n",
    "        reaction_names = reaction_data.index.tolist()\n",
    "        self.reactions = dict(zip(reaction_names, reaction_schemas))\n",
    "\n",
    "        # Get the species (floating only)  TODO: add boundary species\n",
    "        self._set_species_changes()\n",
    "        species_data = get_species(model=self.copasi_model_object)\n",
    "        self.floating_species_list = species_data.index.tolist()\n",
    "        self.floating_species_initial = species_data.particle_number.tolist() \\\n",
    "            if self.use_counts else species_data.concentration.tolist()\n",
    "\n",
    "        # Get the list of parameters and their values (it is possible to run a model without any parameters)\n",
    "        self._set_global_param_changes()\n",
    "        model_parameters = get_parameters(model=self.copasi_model_object)\n",
    "        self.model_parameters_list = model_parameters.index.tolist() \\\n",
    "            if isinstance(model_parameters, DataFrame) else []\n",
    "        self.model_parameters_values = model_parameters.initial_value.tolist() \\\n",
    "            if isinstance(model_parameters, DataFrame) else []\n",
    "\n",
    "        # Get a list of compartments\n",
    "        self.compartments_list = get_compartments(model=self.copasi_model_object).index.tolist()\n",
    "\n",
    "        # ----SOLVER: Get the solver (defaults to deterministic)\n",
    "        self.method = self.config['method']\n",
    "\n",
    "    def initial_state(self):\n",
    "        # keep in mind that a valid simulation may not have global parameters\n",
    "        model_parameters_dict = dict(\n",
    "            zip(self.model_parameters_list, self.model_parameters_values))\n",
    "\n",
    "        floating_species_dict = dict(\n",
    "            zip(self.floating_species_list, self.floating_species_initial))\n",
    "\n",
    "        return {\n",
    "            'time': 0.0,\n",
    "            'model_parameters': model_parameters_dict,\n",
    "            self.species_context_key: floating_species_dict,\n",
    "            'reactions': self.reactions\n",
    "        }\n",
    "\n",
    "    def inputs(self):\n",
    "        # dependent on species context set in self.config\n",
    "        floating_species_type = {\n",
    "            species_id: {\n",
    "                '_type': 'float',\n",
    "                '_apply': 'set'}\n",
    "            for species_id in self.floating_species_list\n",
    "        }\n",
    "\n",
    "        model_params_type = {\n",
    "            param_id: {\n",
    "                '_type': 'float',\n",
    "                '_apply': 'set'}\n",
    "            for param_id in self.model_parameters_list\n",
    "        }\n",
    "\n",
    "        reactions_type = {\n",
    "            reaction_id: 'string'\n",
    "            for reaction_id in self.reaction_list\n",
    "        }\n",
    "\n",
    "        return {\n",
    "            'time': 'float',\n",
    "            self.species_context_key: floating_species_type,\n",
    "            'model_parameters': model_params_type,\n",
    "            'reactions': 'tree[string]'\n",
    "        }\n",
    "\n",
    "    def outputs(self):\n",
    "        floating_species_type = {\n",
    "            species_id: {\n",
    "                '_type': 'float',\n",
    "                '_apply': 'set'}\n",
    "            for species_id in self.floating_species_list\n",
    "        }\n",
    "        reactions_type = {\n",
    "            reaction_id: 'string'\n",
    "            for reaction_id in self.reaction_list\n",
    "        }\n",
    "        return {\n",
    "            'time': 'float',\n",
    "            self.species_context_key: floating_species_type,\n",
    "            'reactions': 'tree[string]'\n",
    "        }\n",
    "\n",
    "    def update(self, inputs, interval):\n",
    "        # set copasi values according to what is passed in states for concentrations\n",
    "        for cat_id, value in inputs[self.species_context_key].items():\n",
    "            set_type = 'particle_number' if 'counts' in self.species_context_key else 'concentration'\n",
    "            species_config = {\n",
    "                'name': cat_id,\n",
    "                'model': self.copasi_model_object,\n",
    "                set_type: value}\n",
    "            set_species(**species_config)\n",
    "\n",
    "        # run model for \"interval\" length; we only want the state at the end\n",
    "        timecourse = run_time_course(\n",
    "            start_time=inputs['time'],\n",
    "            duration=interval,\n",
    "            update_model=True,\n",
    "            model=self.copasi_model_object,\n",
    "            method=self.method)\n",
    "\n",
    "        # extract end values of concentrations from the model and set them in results\n",
    "        results = {'reactions': self.reactions}\n",
    "        if self.use_counts:\n",
    "            results[self.species_context_key] = {\n",
    "                mol_id: float(get_species(\n",
    "                    name=mol_id,\n",
    "                    exact=True,\n",
    "                    model=self.copasi_model_object\n",
    "                ).particle_number[0])\n",
    "                for mol_id in self.floating_species_list}\n",
    "        else:\n",
    "            results[self.species_context_key] = {\n",
    "                mol_id: float(get_species(\n",
    "                    name=mol_id,\n",
    "                    exact=True,\n",
    "                    model=self.copasi_model_object\n",
    "                ).concentration[0])\n",
    "                for mol_id in self.floating_species_list}\n",
    "\n",
    "        return results\n",
    "\n",
    "    def _set_reaction_changes(self):\n",
    "        # ----REACTIONS: set reactions\n",
    "        existing_reactions = get_reactions(model=self.copasi_model_object)\n",
    "        existing_reaction_names = existing_reactions.index.tolist() if existing_reactions is not None else []\n",
    "        reaction_changes = self.model_changes.get('reaction_changes', [])\n",
    "        if reaction_changes:\n",
    "            for reaction_change in reaction_changes:\n",
    "                reaction_name: str = reaction_change['reaction_name']\n",
    "                param_changes: list[dict[str, float]] = reaction_change['parameter_changes']\n",
    "                scheme_change: str = reaction_change.get('reaction_scheme')\n",
    "                # handle changes to existing reactions\n",
    "                if param_changes:\n",
    "                    for param_name, param_change_val in param_changes:\n",
    "                        set_reaction_parameters(param_name, value=param_change_val, model=self.copasi_model_object)\n",
    "                if scheme_change:\n",
    "                    set_reaction(name=reaction_name, scheme=scheme_change, model=self.copasi_model_object)\n",
    "                # handle new reactions\n",
    "                if reaction_name not in existing_reaction_names and scheme_change:\n",
    "                    add_reaction(reaction_name, scheme_change, model=self.copasi_model_object)\n",
    "\n",
    "    def _set_species_changes(self):\n",
    "        # ----SPECS: set species changes\n",
    "        species_changes = self.model_changes.get('species_changes', [])\n",
    "        if species_changes:\n",
    "            for species_change in species_changes:\n",
    "                if isinstance(species_change, dict):\n",
    "                    species_name = species_change.pop('name')\n",
    "                    changes_to_apply = {}\n",
    "                    for spec_param_type, spec_param_value in species_change.items():\n",
    "                        if spec_param_value:\n",
    "                            changes_to_apply[spec_param_type] = spec_param_value\n",
    "                    set_species(**changes_to_apply, model=self.copasi_model_object)\n",
    "\n",
    "    def _set_global_param_changes(self):\n",
    "        # ----GLOBAL PARAMS: set global parameter changes\n",
    "        global_parameter_changes = self.model_changes.get('global_parameter_changes', [])\n",
    "        if global_parameter_changes:\n",
    "            for param_change in global_parameter_changes:\n",
    "                param_name = param_change.pop('name')\n",
    "                for param_type, param_value in param_change.items():\n",
    "                    if not param_value:\n",
    "                        param_change.pop(param_type)\n",
    "                    # handle changes to existing params\n",
    "                    set_parameters(name=param_name, **param_change, model=self.copasi_model_object)\n",
    "                    # set new params\n",
    "                    global_params = get_parameters(model=self.copasi_model_object)\n",
    "                    if global_params:\n",
    "                        existing_global_parameters = global_params.index\n",
    "                        if param_name not in existing_global_parameters:\n",
    "                            assert param_change.get('initial_concentration') is not None, \"You must pass an initial_concentration value if adding a new global parameter.\"\n",
    "                            add_parameter(name=param_name, **param_change, model=self.copasi_model_object)"
   ]
  },
  {
   "cell_type": "code",
   "execution_count": 3,
   "id": "a4caa2ce2152b730",
   "metadata": {
    "ExecuteTime": {
     "end_time": "2024-09-16T21:53:24.218853Z",
     "start_time": "2024-09-16T21:53:24.216162Z"
    }
   },
   "outputs": [
    {
     "data": {
      "text/plain": [
       "{'console-emitter': process_bigraph.composite.ConsoleEmitter,\n",
       " 'ram-emitter': process_bigraph.composite.RAMEmitter,\n",
       " 'composite': process_bigraph.composite.Composite,\n",
       " 'fba': __main__.CobraProcess,\n",
       " 'copasi': __main__.CopasiProcess}"
      ]
     },
     "execution_count": 3,
     "metadata": {},
     "output_type": "execute_result"
    }
   ],
   "source": [
    "CORE.process_registry.register('fba', CobraProcess)\n",
    "CORE.process_registry.register('copasi', CopasiProcess)\n",
    "\n",
    "CORE.process_registry.registry"
   ]
  },
  {
   "cell_type": "code",
   "execution_count": 4,
   "id": "df6fa8d206b7f405",
   "metadata": {
    "ExecuteTime": {
     "end_time": "2024-09-16T21:56:14.689763Z",
     "start_time": "2024-09-16T21:56:14.670043Z"
    }
   },
   "outputs": [
    {
     "name": "stderr",
     "output_type": "stream",
     "text": [
      "Model does not contain SBML fbc package information.\n",
      "SBML package 'layout' not supported by cobrapy, information is not parsed\n",
      "SBML package 'render' not supported by cobrapy, information is not parsed\n",
      "Missing lower flux bound set to '-1000.0' for reaction: '<Reaction Reaction1 \"degradation of LacI transcripts\">'\n",
      "Missing upper flux bound set to '1000.0' for reaction: '<Reaction Reaction1 \"degradation of LacI transcripts\">'\n",
      "Missing lower flux bound set to '-1000.0' for reaction: '<Reaction Reaction2 \"degradation of TetR transcripts\">'\n",
      "Missing upper flux bound set to '1000.0' for reaction: '<Reaction Reaction2 \"degradation of TetR transcripts\">'\n",
      "Missing lower flux bound set to '-1000.0' for reaction: '<Reaction Reaction3 \"degradation of CI transcripts\">'\n",
      "Missing upper flux bound set to '1000.0' for reaction: '<Reaction Reaction3 \"degradation of CI transcripts\">'\n",
      "Missing lower flux bound set to '-1000.0' for reaction: '<Reaction Reaction4 \"translation of LacI\">'\n",
      "Missing upper flux bound set to '1000.0' for reaction: '<Reaction Reaction4 \"translation of LacI\">'\n",
      "Missing lower flux bound set to '-1000.0' for reaction: '<Reaction Reaction5 \"translation of TetR\">'\n",
      "Missing upper flux bound set to '1000.0' for reaction: '<Reaction Reaction5 \"translation of TetR\">'\n",
      "Missing lower flux bound set to '-1000.0' for reaction: '<Reaction Reaction6 \"translation of CI\">'\n",
      "Missing upper flux bound set to '1000.0' for reaction: '<Reaction Reaction6 \"translation of CI\">'\n",
      "Missing lower flux bound set to '-1000.0' for reaction: '<Reaction Reaction7 \"degradation of LacI\">'\n",
      "Missing upper flux bound set to '1000.0' for reaction: '<Reaction Reaction7 \"degradation of LacI\">'\n",
      "Missing lower flux bound set to '-1000.0' for reaction: '<Reaction Reaction8 \"degradation of TetR\">'\n",
      "Missing upper flux bound set to '1000.0' for reaction: '<Reaction Reaction8 \"degradation of TetR\">'\n",
      "Missing lower flux bound set to '-1000.0' for reaction: '<Reaction Reaction9 \"degradation of CI\">'\n",
      "Missing upper flux bound set to '1000.0' for reaction: '<Reaction Reaction9 \"degradation of CI\">'\n",
      "Missing lower flux bound set to '-1000.0' for reaction: '<Reaction Reaction10 \"transcription of LacI\">'\n",
      "Missing upper flux bound set to '1000.0' for reaction: '<Reaction Reaction10 \"transcription of LacI\">'\n",
      "Missing lower flux bound set to '-1000.0' for reaction: '<Reaction Reaction11 \"transcription of TetR\">'\n",
      "Missing upper flux bound set to '1000.0' for reaction: '<Reaction Reaction11 \"transcription of TetR\">'\n",
      "Missing lower flux bound set to '-1000.0' for reaction: '<Reaction Reaction12 \"transcription of CI\">'\n",
      "Missing upper flux bound set to '1000.0' for reaction: '<Reaction Reaction12 \"transcription of CI\">'\n",
      "No objective coefficients in model. Unclear what should be optimized\n",
      "Missing flux bounds on reactions set to default bounds.As best practise and to avoid confusion flux bounds should be set explicitly on all reactions.\n"
     ]
    },
    {
     "name": "stdout",
     "output_type": "stream",
     "text": [
      "found a filepath\n"
     ]
    }
   ],
   "source": [
    "model_fp = '/Users/alexanderpatrie/Desktop/repos/biosimulator-processes/test_suite/examples/sbml-core/Elowitz-Nature-2000-Repressilator/BIOMD0000000012_url.xml'\n",
    "\n",
    "cobra_process = CobraProcess(config={'model': {'model_source': model_fp}}, core=CORE)\n",
    "\n",
    "model = cobra_process.model\n",
    "copasi_process = CopasiProcess(config={'model': {'model_source': model_fp}}, core=CORE)\n",
    "# copasi_process.outputs()"
   ]
  },
  {
   "cell_type": "code",
   "execution_count": 8,
   "id": "513666e7-f4ef-4d54-828c-74011ba7e152",
   "metadata": {},
   "outputs": [
    {
     "data": {
      "text/plain": [
       "['degradation of LacI transcripts',\n",
       " 'degradation of TetR transcripts',\n",
       " 'degradation of CI transcripts',\n",
       " 'translation of LacI',\n",
       " 'translation of TetR',\n",
       " 'translation of CI',\n",
       " 'degradation of LacI',\n",
       " 'degradation of TetR',\n",
       " 'degradation of CI',\n",
       " 'transcription of LacI',\n",
       " 'transcription of TetR',\n",
       " 'transcription of CI']"
      ]
     },
     "execution_count": 8,
     "metadata": {},
     "output_type": "execute_result"
    }
   ],
   "source": [
    "reactions = [r.name for r in model.reactions]\n",
    "\n",
    "reactions"
   ]
  },
  {
   "cell_type": "code",
   "execution_count": 5,
   "id": "2dfff1dd-aabb-4acf-bd9f-ff9a297757c1",
   "metadata": {},
   "outputs": [],
   "source": [
    "# model = cobra_process.model\n",
    "copasi_spec = {\n",
    "    'ode': {\n",
    "        '_type': 'process',\n",
    "        'address': 'local:copasi',\n",
    "        'config': {\n",
    "            'model': {\n",
    "                'model_source': model_fp\n",
    "            }\n",
    "        },\n",
    "        'inputs': {\n",
    "            'time': ['time_store'],\n",
    "            'floating_species_concentrations': ['floating_species_concentrations_store'],\n",
    "            'model_parameters': ['model_parameters_store'],\n",
    "            'reactions': ['reactions_store']\n",
    "        },\n",
    "        'outputs': {\n",
    "            'time': ['time_store'],\n",
    "            'floating_species_concentrations': ['floating_species_concentrations_store'],\n",
    "            'reactions': ['reactions_store']\n",
    "        }\n",
    "    }\n",
    "}\n",
    "\n",
    "fba_spec = {\n",
    "    'fba': {\n",
    "        '_type': 'process',\n",
    "        'address': 'local:fba',\n",
    "        'config': {'model': {'model_source': model_fp}},\n",
    "        'inputs': {\n",
    "            'floating_species_concentrations': ['floating_species_concentrations_store'],\n",
    "            'reactions': ['reactions_store'],\n",
    "        },\n",
    "        'outputs': {\n",
    "            'substrates': ['substrates_store'],\n",
    "        }\n",
    "    }\n",
    "}\n",
    "\n",
    "emitter_spec = {\n",
    "    'emitter': {\n",
    "        '_type': 'step',\n",
    "        'address': 'local:ram-emitter',\n",
    "        'config': {\n",
    "            'emit': {\n",
    "                'floating_species_concentrations': 'tree[float]',\n",
    "                'substrates': 'tree[float]',\n",
    "                'time': 'float'\n",
    "            }\n",
    "        },\n",
    "        'inputs': {\n",
    "            'floating_species_concentrations': ['floating_species_concentrations_store'],\n",
    "            'substrates': ['substrates_store'],\n",
    "            'time': ['time_store']\n",
    "        }\n",
    "    }\n",
    "}"
   ]
  },
  {
   "cell_type": "code",
   "execution_count": 6,
   "id": "510535cc-c0de-4b79-a2a8-bf9d09eed24a",
   "metadata": {},
   "outputs": [
    {
     "data": {
      "text/plain": [
       "{'ode': {'_type': 'process',\n",
       "  'address': 'local:copasi',\n",
       "  'config': {'model': {'model_source': '/Users/alexanderpatrie/Desktop/repos/biosimulator-processes/test_suite/examples/sbml-core/Elowitz-Nature-2000-Repressilator/BIOMD0000000012_url.xml'}},\n",
       "  'inputs': {'time': ['time_store'],\n",
       "   'floating_species_concentrations': ['floating_species_concentrations_store'],\n",
       "   'model_parameters': ['model_parameters_store'],\n",
       "   'reactions': ['reactions_store']},\n",
       "  'outputs': {'time': ['time_store'],\n",
       "   'floating_species_concentrations': ['floating_species_concentrations_store'],\n",
       "   'reactions': ['reactions_store']}},\n",
       " 'fba': {'_type': 'process',\n",
       "  'address': 'local:fba',\n",
       "  'config': {'model': {'model_source': '/Users/alexanderpatrie/Desktop/repos/biosimulator-processes/test_suite/examples/sbml-core/Elowitz-Nature-2000-Repressilator/BIOMD0000000012_url.xml'}},\n",
       "  'inputs': {'floating_species_concentrations': ['floating_species_concentrations_store'],\n",
       "   'reactions': ['reactions_store']},\n",
       "  'outputs': {'substrates': ['substrates_store']}},\n",
       " 'emitter': {'_type': 'step',\n",
       "  'address': 'local:ram-emitter',\n",
       "  'config': {'emit': {'floating_species_concentrations': 'tree[float]',\n",
       "    'substrates': 'tree[float]',\n",
       "    'time': 'float'}},\n",
       "  'inputs': {'floating_species_concentrations': ['floating_species_concentrations_store'],\n",
       "   'substrates': ['substrates_store'],\n",
       "   'time': ['time_store']}}}"
      ]
     },
     "execution_count": 6,
     "metadata": {},
     "output_type": "execute_result"
    }
   ],
   "source": [
    "spec = copasi_spec.copy()\n",
    "spec.update(fba_spec)\n",
    "spec.update(emitter_spec)\n",
    "\n",
    "spec"
   ]
  },
  {
   "cell_type": "code",
   "execution_count": 7,
   "id": "6d27bd5c-6771-41ef-8be9-9bba34fa9e85",
   "metadata": {},
   "outputs": [
    {
     "name": "stderr",
     "output_type": "stream",
     "text": [
      "Model does not contain SBML fbc package information.\n",
      "SBML package 'layout' not supported by cobrapy, information is not parsed\n",
      "SBML package 'render' not supported by cobrapy, information is not parsed\n",
      "Missing lower flux bound set to '-1000.0' for reaction: '<Reaction Reaction1 \"degradation of LacI transcripts\">'\n",
      "Missing upper flux bound set to '1000.0' for reaction: '<Reaction Reaction1 \"degradation of LacI transcripts\">'\n",
      "Missing lower flux bound set to '-1000.0' for reaction: '<Reaction Reaction2 \"degradation of TetR transcripts\">'\n",
      "Missing upper flux bound set to '1000.0' for reaction: '<Reaction Reaction2 \"degradation of TetR transcripts\">'\n",
      "Missing lower flux bound set to '-1000.0' for reaction: '<Reaction Reaction3 \"degradation of CI transcripts\">'\n",
      "Missing upper flux bound set to '1000.0' for reaction: '<Reaction Reaction3 \"degradation of CI transcripts\">'\n",
      "Missing lower flux bound set to '-1000.0' for reaction: '<Reaction Reaction4 \"translation of LacI\">'\n",
      "Missing upper flux bound set to '1000.0' for reaction: '<Reaction Reaction4 \"translation of LacI\">'\n",
      "Missing lower flux bound set to '-1000.0' for reaction: '<Reaction Reaction5 \"translation of TetR\">'\n",
      "Missing upper flux bound set to '1000.0' for reaction: '<Reaction Reaction5 \"translation of TetR\">'\n",
      "Missing lower flux bound set to '-1000.0' for reaction: '<Reaction Reaction6 \"translation of CI\">'\n",
      "Missing upper flux bound set to '1000.0' for reaction: '<Reaction Reaction6 \"translation of CI\">'\n",
      "Missing lower flux bound set to '-1000.0' for reaction: '<Reaction Reaction7 \"degradation of LacI\">'\n",
      "Missing upper flux bound set to '1000.0' for reaction: '<Reaction Reaction7 \"degradation of LacI\">'\n",
      "Missing lower flux bound set to '-1000.0' for reaction: '<Reaction Reaction8 \"degradation of TetR\">'\n",
      "Missing upper flux bound set to '1000.0' for reaction: '<Reaction Reaction8 \"degradation of TetR\">'\n",
      "Missing lower flux bound set to '-1000.0' for reaction: '<Reaction Reaction9 \"degradation of CI\">'\n",
      "Missing upper flux bound set to '1000.0' for reaction: '<Reaction Reaction9 \"degradation of CI\">'\n",
      "Missing lower flux bound set to '-1000.0' for reaction: '<Reaction Reaction10 \"transcription of LacI\">'\n",
      "Missing upper flux bound set to '1000.0' for reaction: '<Reaction Reaction10 \"transcription of LacI\">'\n",
      "Missing lower flux bound set to '-1000.0' for reaction: '<Reaction Reaction11 \"transcription of TetR\">'\n",
      "Missing upper flux bound set to '1000.0' for reaction: '<Reaction Reaction11 \"transcription of TetR\">'\n",
      "Missing lower flux bound set to '-1000.0' for reaction: '<Reaction Reaction12 \"transcription of CI\">'\n",
      "Missing upper flux bound set to '1000.0' for reaction: '<Reaction Reaction12 \"transcription of CI\">'\n",
      "No objective coefficients in model. Unclear what should be optimized\n",
      "Missing flux bounds on reactions set to default bounds.As best practise and to avoid confusion flux bounds should be set explicitly on all reactions.\n"
     ]
    },
    {
     "name": "stdout",
     "output_type": "stream",
     "text": [
      "found a filepath\n"
     ]
    },
    {
     "ename": "NameError",
     "evalue": "name 'solution' is not defined",
     "output_type": "error",
     "traceback": [
      "\u001b[0;31m---------------------------------------------------------------------------\u001b[0m",
      "\u001b[0;31mNameError\u001b[0m                                 Traceback (most recent call last)",
      "Cell \u001b[0;32mIn[7], line 1\u001b[0m\n\u001b[0;32m----> 1\u001b[0m comp \u001b[38;5;241m=\u001b[39m \u001b[43mComposite\u001b[49m\u001b[43m(\u001b[49m\u001b[43mconfig\u001b[49m\u001b[38;5;241;43m=\u001b[39;49m\u001b[43m{\u001b[49m\u001b[38;5;124;43m'\u001b[39;49m\u001b[38;5;124;43mstate\u001b[39;49m\u001b[38;5;124;43m'\u001b[39;49m\u001b[43m:\u001b[49m\u001b[43m \u001b[49m\u001b[43mspec\u001b[49m\u001b[43m}\u001b[49m\u001b[43m,\u001b[49m\u001b[43m \u001b[49m\u001b[43mcore\u001b[49m\u001b[38;5;241;43m=\u001b[39;49m\u001b[43mCORE\u001b[49m\u001b[43m)\u001b[49m\n",
      "File \u001b[0;32m~/miniconda3/envs/biosimulator-processes/lib/python3.10/site-packages/process_bigraph/composite.py:665\u001b[0m, in \u001b[0;36mComposite.__init__\u001b[0;34m(self, config, core)\u001b[0m\n\u001b[1;32m    663\u001b[0m edge_state \u001b[38;5;241m=\u001b[39m {}\n\u001b[1;32m    664\u001b[0m \u001b[38;5;28;01mfor\u001b[39;00m path, edge \u001b[38;5;129;01min\u001b[39;00m \u001b[38;5;28mself\u001b[39m\u001b[38;5;241m.\u001b[39medge_paths\u001b[38;5;241m.\u001b[39mitems():\n\u001b[0;32m--> 665\u001b[0m     initial \u001b[38;5;241m=\u001b[39m \u001b[38;5;28;43mself\u001b[39;49m\u001b[38;5;241;43m.\u001b[39;49m\u001b[43mcore\u001b[49m\u001b[38;5;241;43m.\u001b[39;49m\u001b[43minitialize_edge_state\u001b[49m\u001b[43m(\u001b[49m\n\u001b[1;32m    666\u001b[0m \u001b[43m        \u001b[49m\u001b[38;5;28;43mself\u001b[39;49m\u001b[38;5;241;43m.\u001b[39;49m\u001b[43mcomposition\u001b[49m\u001b[43m,\u001b[49m\n\u001b[1;32m    667\u001b[0m \u001b[43m        \u001b[49m\u001b[43mpath\u001b[49m\u001b[43m,\u001b[49m\n\u001b[1;32m    668\u001b[0m \u001b[43m        \u001b[49m\u001b[43medge\u001b[49m\u001b[43m)\u001b[49m\n\u001b[1;32m    670\u001b[0m     \u001b[38;5;28;01mtry\u001b[39;00m:\n\u001b[1;32m    671\u001b[0m         edge_state \u001b[38;5;241m=\u001b[39m deep_merge(edge_state, initial)\n",
      "File \u001b[0;32m~/miniconda3/envs/biosimulator-processes/lib/python3.10/site-packages/process_bigraph/composite.py:202\u001b[0m, in \u001b[0;36mProcessTypes.initialize_edge_state\u001b[0;34m(self, schema, path, edge)\u001b[0m\n\u001b[1;32m    198\u001b[0m \u001b[38;5;28;01mdef\u001b[39;00m \u001b[38;5;21minitialize_edge_state\u001b[39m(\u001b[38;5;28mself\u001b[39m, schema, path, edge):\n\u001b[1;32m    199\u001b[0m \u001b[38;5;250m    \u001b[39m\u001b[38;5;124;03m\"\"\"\u001b[39;00m\n\u001b[1;32m    200\u001b[0m \u001b[38;5;124;03m    Initialize the state for an edge based on the schema and the edge.\u001b[39;00m\n\u001b[1;32m    201\u001b[0m \u001b[38;5;124;03m    \"\"\"\u001b[39;00m\n\u001b[0;32m--> 202\u001b[0m     initial_state \u001b[38;5;241m=\u001b[39m \u001b[43medge\u001b[49m\u001b[43m[\u001b[49m\u001b[38;5;124;43m'\u001b[39;49m\u001b[38;5;124;43minstance\u001b[39;49m\u001b[38;5;124;43m'\u001b[39;49m\u001b[43m]\u001b[49m\u001b[38;5;241;43m.\u001b[39;49m\u001b[43minitial_state\u001b[49m\u001b[43m(\u001b[49m\u001b[43m)\u001b[49m\n\u001b[1;32m    203\u001b[0m     \u001b[38;5;28;01mif\u001b[39;00m \u001b[38;5;129;01mnot\u001b[39;00m initial_state:\n\u001b[1;32m    204\u001b[0m         \u001b[38;5;28;01mreturn\u001b[39;00m initial_state\n",
      "Cell \u001b[0;32mIn[1], line 45\u001b[0m, in \u001b[0;36mCobraProcess.initial_state\u001b[0;34m(self)\u001b[0m\n\u001b[1;32m     43\u001b[0m \u001b[38;5;28;01mdef\u001b[39;00m \u001b[38;5;21minitial_state\u001b[39m(\u001b[38;5;28mself\u001b[39m):\n\u001b[1;32m     44\u001b[0m     \u001b[38;5;28;01mif\u001b[39;00m \u001b[38;5;28mself\u001b[39m\u001b[38;5;241m.\u001b[39mmodel \u001b[38;5;129;01mis\u001b[39;00m \u001b[38;5;129;01mnot\u001b[39;00m \u001b[38;5;28;01mNone\u001b[39;00m:\n\u001b[0;32m---> 45\u001b[0m         \u001b[43msolution\u001b[49m\n",
      "\u001b[0;31mNameError\u001b[0m: name 'solution' is not defined"
     ]
    }
   ],
   "source": [
    "comp = Composite(config={'state': spec}, core=CORE)"
   ]
  },
  {
   "cell_type": "code",
   "execution_count": 48,
   "id": "ecf4c673-b8dc-4b8e-a106-9573cd9c81af",
   "metadata": {},
   "outputs": [
    {
     "name": "stderr",
     "output_type": "stream",
     "text": [
      "/var/folders/yy/8crj8x7x5_3b86f0js6_0bn00000gr/T/ipykernel_21224/2868703094.py:182: FutureWarning: Series.__getitem__ treating keys as positions is deprecated. In a future version, integer keys will always be treated as labels (consistent with DataFrame behavior). To access a value by position, use `ser.iloc[pos]`\n",
      "  mol_id: float(get_species(\n"
     ]
    }
   ],
   "source": [
    "comp.run(10)"
   ]
  },
  {
   "cell_type": "code",
   "execution_count": 49,
   "id": "3e6c725c-a6d7-4344-a0fa-b58262d98d26",
   "metadata": {},
   "outputs": [
    {
     "data": {
      "text/plain": [
       "{('emitter',): [{'floating_species_concentrations': {'LacI protein': 0.0,\n",
       "    'TetR protein': 0.0,\n",
       "    'cI protein': 0.0,\n",
       "    'LacI mRNA': 0.0,\n",
       "    'TetR mRNA': 20.0,\n",
       "    'cI mRNA': 0.0},\n",
       "   'substrates': {},\n",
       "   'time': 0.0},\n",
       "  {'floating_species_concentrations': {'LacI protein': 81.44046884923394,\n",
       "    'TetR protein': 188.3821831030562,\n",
       "    'cI protein': 42.64131125320374,\n",
       "    'LacI mRNA': 19.90344166947679,\n",
       "    'TetR mRNA': 50.61558010446934,\n",
       "    'cI mRNA': 7.491001903157758},\n",
       "   'substrates': {'LacI mRNA': 0.0,\n",
       "    'TetR mRNA': 0.0,\n",
       "    'cI mRNA': 0.0,\n",
       "    'LacI protein': 0.0,\n",
       "    'TetR protein': 0.0,\n",
       "    'cI protein': 0.0},\n",
       "   'time': 0.0},\n",
       "  {'floating_species_concentrations': {'LacI protein': 299.9792524293013,\n",
       "    'TetR protein': 546.4092678039393,\n",
       "    'cI protein': 127.23014070279017,\n",
       "    'LacI mRNA': 41.13697667160224,\n",
       "    'TetR mRNA': 74.22450737953378,\n",
       "    'cI mRNA': 13.357268321541767},\n",
       "   'substrates': {'LacI mRNA': 0.0,\n",
       "    'TetR mRNA': 0.0,\n",
       "    'cI mRNA': 0.0,\n",
       "    'LacI protein': 0.0,\n",
       "    'TetR protein': 0.0,\n",
       "    'cI protein': 0.0},\n",
       "   'time': 0.0},\n",
       "  {'floating_species_concentrations': {'LacI protein': 637.6017815600158,\n",
       "    'TetR protein': 1016.0358710461701,\n",
       "    'cI protein': 240.28466799097248,\n",
       "    'LacI mRNA': 59.681116320621555,\n",
       "    'TetR mRNA': 91.45946005789611,\n",
       "    'cI mRNA': 17.760912860286577},\n",
       "   'substrates': {'LacI mRNA': 0.0,\n",
       "    'TetR mRNA': 0.0,\n",
       "    'cI mRNA': 0.0,\n",
       "    'LacI protein': 0.0,\n",
       "    'TetR protein': 0.0,\n",
       "    'cI protein': 0.0},\n",
       "   'time': 0.0},\n",
       "  {'floating_species_concentrations': {'LacI protein': 1066.5403589624582,\n",
       "    'TetR protein': 1552.6999346532566,\n",
       "    'cI protein': 371.31950229688175,\n",
       "    'LacI mRNA': 75.24093729696735,\n",
       "    'TetR mRNA': 103.94156864361192,\n",
       "    'cI mRNA': 21.05672989033079},\n",
       "   'substrates': {'LacI mRNA': 0.0,\n",
       "    'TetR mRNA': 0.0,\n",
       "    'cI mRNA': 0.0,\n",
       "    'LacI protein': 0.0,\n",
       "    'TetR protein': 0.0,\n",
       "    'cI protein': 0.0},\n",
       "   'time': 0.0},\n",
       "  {'floating_species_concentrations': {'LacI protein': 1562.0376381280157,\n",
       "    'TetR protein': 2124.718618118441,\n",
       "    'cI protein': 512.7609317518436,\n",
       "    'LacI mRNA': 88.25892363605358,\n",
       "    'TetR mRNA': 112.97930148315362,\n",
       "    'cI mRNA': 23.542404067722885},\n",
       "   'substrates': {'LacI mRNA': 0.0,\n",
       "    'TetR mRNA': 0.0,\n",
       "    'cI mRNA': 0.0,\n",
       "    'LacI protein': 0.0,\n",
       "    'TetR protein': 0.0,\n",
       "    'cI protein': 0.0},\n",
       "   'time': 0.0},\n",
       "  {'floating_species_concentrations': {'LacI protein': 2104.5039590948963,\n",
       "    'TetR protein': 2710.1166576237792,\n",
       "    'cI protein': 659.2926650543036,\n",
       "    'LacI mRNA': 99.29259115364991,\n",
       "    'TetR mRNA': 119.54358900782884,\n",
       "    'cI mRNA': 25.445063023529666},\n",
       "   'substrates': {'LacI mRNA': 0.0,\n",
       "    'TetR mRNA': 0.0,\n",
       "    'cI mRNA': 0.0,\n",
       "    'LacI protein': 0.0,\n",
       "    'TetR protein': 0.0,\n",
       "    'cI protein': 0.0},\n",
       "   'time': 0.0},\n",
       "  {'floating_species_concentrations': {'LacI protein': 2679.282194597243,\n",
       "    'TetR protein': 3293.9486176653086,\n",
       "    'cI protein': 807.2695519909344,\n",
       "    'LacI mRNA': 108.85411149428109,\n",
       "    'TetR mRNA': 124.33900026944765,\n",
       "    'cI mRNA': 26.93343379758768},\n",
       "   'substrates': {'LacI mRNA': 0.0,\n",
       "    'TetR mRNA': 0.0,\n",
       "    'cI mRNA': 0.0,\n",
       "    'LacI protein': 0.0,\n",
       "    'TetR protein': 0.0,\n",
       "    'cI protein': 0.0},\n",
       "   'time': 0.0},\n",
       "  {'floating_species_concentrations': {'LacI protein': 3275.8527411381347,\n",
       "    'TetR protein': 3866.2839726620823,\n",
       "    'cI protein': 954.262625183127,\n",
       "    'LacI mRNA': 117.37300218950406,\n",
       "    'TetR mRNA': 127.87231683808349,\n",
       "    'cI mRNA': 28.131788959895005},\n",
       "   'substrates': {'LacI mRNA': 0.0,\n",
       "    'TetR mRNA': 0.0,\n",
       "    'cI mRNA': 0.0,\n",
       "    'LacI protein': 0.0,\n",
       "    'TetR protein': 0.0,\n",
       "    'cI protein': 0.0},\n",
       "   'time': 0.0},\n",
       "  {'floating_species_concentrations': {'LacI protein': 3886.9927450256782,\n",
       "    'TetR protein': 4420.737701541376,\n",
       "    'cI protein': 1098.7210123838508,\n",
       "    'LacI mRNA': 125.19624394687389,\n",
       "    'TetR mRNA': 130.50643979995667,\n",
       "    'cI mRNA': 29.13161679321667},\n",
       "   'substrates': {'LacI mRNA': 0.0,\n",
       "    'TetR mRNA': 0.0,\n",
       "    'cI mRNA': 0.0,\n",
       "    'LacI protein': 0.0,\n",
       "    'TetR protein': 0.0,\n",
       "    'cI protein': 0.0},\n",
       "   'time': 0.0},\n",
       "  {'floating_species_concentrations': {'LacI protein': 4508.036837223343,\n",
       "    'TetR protein': 4953.412163246545,\n",
       "    'cI protein': 1239.7254754121607,\n",
       "    'LacI mRNA': 132.59911818916152,\n",
       "    'TetR mRNA': 132.5005229205225,\n",
       "    'cI mRNA': 30.000620895204452},\n",
       "   'substrates': {'LacI mRNA': 0.0,\n",
       "    'TetR mRNA': 0.0,\n",
       "    'cI mRNA': 0.0,\n",
       "    'LacI protein': 0.0,\n",
       "    'TetR protein': 0.0,\n",
       "    'cI protein': 0.0},\n",
       "   'time': 0.0}]}"
      ]
     },
     "execution_count": 49,
     "metadata": {},
     "output_type": "execute_result"
    }
   ],
   "source": [
    "r = comp.gather_results()\n",
    "\n",
    "r"
   ]
  },
  {
   "cell_type": "code",
   "execution_count": 11,
   "id": "dc1d05ff-04d1-4db4-b712-5c5ee1896180",
   "metadata": {},
   "outputs": [
    {
     "data": {
      "text/plain": [
       "True"
      ]
     },
     "execution_count": 11,
     "metadata": {},
     "output_type": "execute_result"
    }
   ],
   "source": [
    "copasi_process.floating_species_list == cobra_process.metabolite_names"
   ]
  },
  {
   "cell_type": "code",
   "execution_count": 64,
   "id": "2ab3ded6-8376-481f-ab6b-9db8c72257f0",
   "metadata": {},
   "outputs": [
    {
     "name": "stdout",
     "output_type": "stream",
     "text": [
      "PX\n",
      "==\n",
      "Formula: None\n",
      "\n",
      "Producing Reactions\n",
      "-------------------\n",
      "Empty DataFrame\n",
      "Columns: [Percent, Flux, Reaction, Definition]\n",
      "Index: []\n",
      "\n",
      "Consuming Reactions\n",
      "-------------------\n",
      "Empty DataFrame\n",
      "Columns: [Percent, Flux, Reaction, Definition]\n",
      "Index: []\n",
      "PY\n",
      "==\n",
      "Formula: None\n",
      "\n",
      "Producing Reactions\n",
      "-------------------\n",
      "Empty DataFrame\n",
      "Columns: [Percent, Flux, Reaction, Definition]\n",
      "Index: []\n",
      "\n",
      "Consuming Reactions\n",
      "-------------------\n",
      "Empty DataFrame\n",
      "Columns: [Percent, Flux, Reaction, Definition]\n",
      "Index: []\n",
      "PZ\n",
      "==\n",
      "Formula: None\n",
      "\n",
      "Producing Reactions\n",
      "-------------------\n",
      "Empty DataFrame\n",
      "Columns: [Percent, Flux, Reaction, Definition]\n",
      "Index: []\n",
      "\n",
      "Consuming Reactions\n",
      "-------------------\n",
      "Empty DataFrame\n",
      "Columns: [Percent, Flux, Reaction, Definition]\n",
      "Index: []\n",
      "X\n",
      "=\n",
      "Formula: None\n",
      "\n",
      "Producing Reactions\n",
      "-------------------\n",
      "Empty DataFrame\n",
      "Columns: [Percent, Flux, Reaction, Definition]\n",
      "Index: []\n",
      "\n",
      "Consuming Reactions\n",
      "-------------------\n",
      "Empty DataFrame\n",
      "Columns: [Percent, Flux, Reaction, Definition]\n",
      "Index: []\n",
      "Y\n",
      "=\n",
      "Formula: None\n",
      "\n",
      "Producing Reactions\n",
      "-------------------\n",
      "Empty DataFrame\n",
      "Columns: [Percent, Flux, Reaction, Definition]\n",
      "Index: []\n",
      "\n",
      "Consuming Reactions\n",
      "-------------------\n",
      "Empty DataFrame\n",
      "Columns: [Percent, Flux, Reaction, Definition]\n",
      "Index: []\n",
      "Z\n",
      "=\n",
      "Formula: None\n",
      "\n",
      "Producing Reactions\n",
      "-------------------\n",
      "Empty DataFrame\n",
      "Columns: [Percent, Flux, Reaction, Definition]\n",
      "Index: []\n",
      "\n",
      "Consuming Reactions\n",
      "-------------------\n",
      "Empty DataFrame\n",
      "Columns: [Percent, Flux, Reaction, Definition]\n",
      "Index: []\n"
     ]
    }
   ],
   "source": [
    "from basico import load_model, run_timecourse, set_parameter_value\n",
    "import cobra\n",
    "import numpy as np\n",
    "\n",
    "\n",
    "# Function to modify dynamic bounds\n",
    "def add_dynamic_bounds(model, y):\n",
    "    \"\"\"Use external concentrations to bound the uptake flux of glucose.\"\"\"\n",
    "    biomass, glucose = y  # expand the boundary species\n",
    "\n",
    "    # Example dynamic bound based on glucose concentration\n",
    "    glucose_max_import = -10 * glucose / (5 + glucose)  # Modify based on glucose availability\n",
    "    reaction_id = 'EX_glc__D_e'  # Replace with the actual glucose exchange reaction ID in your model\n",
    "\n",
    "    # Apply the dynamic bound to glucose uptake in the model\n",
    "    model.reactions.get_by_id(reaction_id).lower_bound = glucose_max_import\n",
    "\n",
    "\n",
    "# Function to run dynamic FBA at each step\n",
    "def dynamic_fba_step(model, y):\n",
    "    \"\"\"Calculate the dynamic FBA fluxes at a given timepoint.\"\"\"\n",
    "    biomass, glucose = y\n",
    "\n",
    "    # Add dynamic bounds to the model based on the current species concentration\n",
    "    add_dynamic_bounds(model, y)\n",
    "\n",
    "    # Perform FBA optimization\n",
    "    solution = model.optimize()\n",
    "\n",
    "    # Extract the fluxes (reaction rates) of interest\n",
    "    biomass_flux = solution.fluxes['Biomass_Ecoli_core']  # Replace with your model's biomass reaction ID\n",
    "    glucose_flux = solution.fluxes['EX_glc__D_e']  # Replace with your model's glucose uptake reaction\n",
    "\n",
    "    # Return these fluxes as the rate of change of biomass and glucose\n",
    "    return [biomass_flux, glucose_flux]\n",
    "\n",
    "\n",
    "# ODE function using dynamic FBA results\n",
    "def dynamic_ode_with_fba(t, y, model):\n",
    "    \"\"\"\n",
    "    Custom ODE system using the dynamic FBA results for each timepoint.\n",
    "    \"\"\"\n",
    "    # Calculate the fluxes (reaction rates) for the given concentrations at time t\n",
    "    return dynamic_fba_step(model, y)\n",
    "\n",
    "\n",
    "# Function to run the entire dynamic simulation using basico\n",
    "def run_dynamic_fba_with_basico(sbml_file, y0, t_span, t_eval):\n",
    "    \"\"\"\n",
    "    Runs a dynamic FBA system using basico's time course simulation.\n",
    "    \"\"\"\n",
    "    # Load the model using basico (assuming it is already in SBML format)\n",
    "    model = load_model(sbml_file)\n",
    "\n",
    "    # Set initial conditions and time span\n",
    "    initial_conditions = y0\n",
    "    timespan = t_span\n",
    "    time_eval = t_eval\n",
    "\n",
    "    # Run the timecourse with basico (this will simulate the ODE dynamics)\n",
    "    result = run_timecourse(model, start=timespan[0], end=timespan[1], steps=len(time_eval))\n",
    "\n",
    "    # Iterate over each step and adjust bounds dynamically based on ODE results\n",
    "    for i, timepoint in enumerate(time_eval):\n",
    "        # Get current concentrations from the basico simulation output\n",
    "        concentrations = result['floating_species_concentrations']  # Adjust this based on basico's output format\n",
    "        biomass = concentrations['Biomass']  # Replace with the actual species name in your model\n",
    "        glucose = concentrations['Glucose']  # Replace with the actual species name in your model\n",
    "\n",
    "        # Run dynamic FBA to get flux updates at each timepoint\n",
    "        fluxes = dynamic_ode_with_fba(timepoint, [biomass, glucose], model)\n",
    "\n",
    "        # Optionally, store these fluxes or update the model for visualization or further analysis\n",
    "\n",
    "    # Return the final result (fluxes and timecourse)\n",
    "    return result\n",
    "\n",
    "\n",
    "# Example of running the dynamic FBA with basico's timecourse\n",
    "if __name__ == '__main__':\n",
    "    # Example SBML file (replace with actual file path)\n",
    "    sbml_file = \"path_to_model.xml\"\n",
    "\n",
    "    # Set initial conditions [biomass, glucose]\n",
    "    y0 = [0.1, 10.0]  # Initial values for biomass and glucose\n",
    "\n",
    "    # Time span and evaluation points\n",
    "    t_span = (0, 15)  # Start and end time\n",
    "    t_eval = np.linspace(0, 15, 100)  # Points to evaluate\n",
    "\n",
    "    # Run the dynamic FBA with basico\n",
    "    result = run_dynamic_fba_with_basico(sbml_file, y0, t_span, t_eval)\n",
    "\n",
    "    # Output the result (biomass, glucose concentrations over time)\n",
    "    print(\"Result from basico timecourse:\", result)\n"
   ]
  },
  {
   "cell_type": "code",
   "execution_count": 42,
   "id": "17ae82f4-3987-4d8c-8917-54a4237ba69e",
   "metadata": {},
   "outputs": [
    {
     "name": "stderr",
     "output_type": "stream",
     "text": [
      "/var/folders/yy/8crj8x7x5_3b86f0js6_0bn00000gr/T/ipykernel_5473/1817879026.py:178: FutureWarning: Series.__getitem__ treating keys as positions is deprecated. In a future version, integer keys will always be treated as labels (consistent with DataFrame behavior). To access a value by position, use `ser.iloc[pos]`\n",
      "  mol_id: float(get_species(\n"
     ]
    },
    {
     "data": {
      "text/plain": [
       "{'reactions': ['degradation of LacI transcripts',\n",
       "  'degradation of TetR transcripts',\n",
       "  'degradation of CI transcripts',\n",
       "  'translation of LacI',\n",
       "  'translation of TetR',\n",
       "  'translation of CI',\n",
       "  'degradation of LacI',\n",
       "  'degradation of TetR',\n",
       "  'degradation of CI',\n",
       "  'transcription of LacI',\n",
       "  'transcription of TetR',\n",
       "  'transcription of CI'],\n",
       " 'floating_species_concentrations': {'LacI protein': 81.44046884923394,\n",
       "  'TetR protein': 188.3821831030562,\n",
       "  'cI protein': 42.64131125320374,\n",
       "  'LacI mRNA': 19.90344166947679,\n",
       "  'TetR mRNA': 30.615580104469338,\n",
       "  'cI mRNA': 7.491001903157758}}"
      ]
     },
     "execution_count": 42,
     "metadata": {},
     "output_type": "execute_result"
    }
   ],
   "source": [
    "copasi_process.update(copasi_process.initial_state(), 1)"
   ]
  },
  {
   "cell_type": "code",
   "execution_count": 32,
   "id": "ec887aa7-e157-4263-9da7-917ecdb80406",
   "metadata": {},
   "outputs": [
    {
     "name": "stdout",
     "output_type": "stream",
     "text": [
      "degradation of LacI transcripts\n",
      "degradation of TetR transcripts\n",
      "degradation of CI transcripts\n",
      "translation of LacI\n",
      "translation of TetR\n",
      "translation of CI\n",
      "degradation of LacI\n",
      "degradation of TetR\n",
      "degradation of CI\n",
      "transcription of LacI\n",
      "transcription of TetR\n",
      "transcription of CI\n"
     ]
    }
   ],
   "source": [
    "# Cobra process inputs: time, floating_species_concentrations, reactions\n",
    "# 1. constructor creates empty model using: Upper and Lower bounds (defaults)\n",
    "# 2. In update:\n",
    "#   - for reaction in inputs['reactions'].keys(): create a new reaction with that name "
   ]
  },
  {
   "cell_type": "code",
   "execution_count": 21,
   "id": "27067cb9-183e-440e-b74c-c4229825be05",
   "metadata": {},
   "outputs": [
    {
     "ename": "NameError",
     "evalue": "name 'reactions' is not defined",
     "output_type": "error",
     "traceback": [
      "\u001b[0;31m---------------------------------------------------------------------------\u001b[0m",
      "\u001b[0;31mNameError\u001b[0m                                 Traceback (most recent call last)",
      "Cell \u001b[0;32mIn[21], line 53\u001b[0m\n\u001b[1;32m     48\u001b[0m         model\u001b[38;5;241m.\u001b[39madd_reactions([reaction])\n\u001b[1;32m     50\u001b[0m     \u001b[38;5;28;01mreturn\u001b[39;00m model\n\u001b[0;32m---> 53\u001b[0m model \u001b[38;5;241m=\u001b[39m automate_cobra_model_creation(\u001b[43mreactions\u001b[49m, species_names)\n",
      "\u001b[0;31mNameError\u001b[0m: name 'reactions' is not defined"
     ]
    }
   ],
   "source": [
    "def automate_cobra_model_creation(reactions_dict, species_names):\n",
    "    # Create a new COBRA model\n",
    "    model = Model(\"automated_cobra_model\")\n",
    "    reactions = list(reactions_dict.values())\n",
    "    reaction_names = list(reactions_dict.keys())\n",
    "    \n",
    "    # Step 1: Create Metabolite objects for all species\n",
    "    metabolite_dict = {}\n",
    "    for species in species_names:\n",
    "        metabolite = Metabolite(\n",
    "            species.replace(\" \", \"_\").replace('\"', ''),  # Ensure the metabolite ID is valid\n",
    "            name=species,\n",
    "            compartment='c'  # Assuming all species are in the cytosol\n",
    "        )\n",
    "        metabolite_dict[species] = metabolite  # Add to dictionary for easy reference\n",
    "\n",
    "    # Step 2: Create Reaction objects and add Metabolites\n",
    "    for i, reaction_scheme in enumerate(reactions):\n",
    "        reaction_name = reaction_names[i]\n",
    "        reaction_id = reaction_name.replace(\" \", \"_\")\n",
    "        reaction = Reaction(reaction_id)  # Create a reaction with the ID\n",
    "        \n",
    "        # Parse the reaction scheme to identify substrates and products\n",
    "        scheme_str = reaction_scheme\n",
    "        reactants, products = scheme_str.split(\"->\")\n",
    "        \n",
    "        # Initialize the dictionary for metabolites with their stoichiometry\n",
    "        metabolites_to_add = {}\n",
    "\n",
    "        # Handle Reactants\n",
    "        reactant_list = reactants.split(\";\")\n",
    "        for reactant in reactant_list:\n",
    "            reactant = reactant.strip().replace('\"', '')  # Clean up string\n",
    "            if reactant in metabolite_dict:\n",
    "                metabolites_to_add[metabolite_dict[reactant]] = -1.0  # Reactants are consumed (-1)\n",
    "\n",
    "        # Handle Products\n",
    "        product_list = products.split(\";\")\n",
    "        for product in product_list:\n",
    "            product = product.strip().replace('\"', '')  # Clean up string\n",
    "            if product in metabolite_dict:\n",
    "                metabolites_to_add[metabolite_dict[product]] = 1.0  # Products are produced (+1)\n",
    "\n",
    "        # Add metabolites to the reaction\n",
    "        reaction.add_metabolites(metabolites_to_add)\n",
    "\n",
    "        # Add the reaction to the model\n",
    "        model.add_reactions([reaction])\n",
    "\n",
    "    return model\n",
    "\n",
    "\n",
    "model = automate_cobra_model_creation(reactions, species_names)"
   ]
  },
  {
   "cell_type": "code",
   "execution_count": 14,
   "id": "4dd0ebcd-ddbf-4b4e-a5a7-c1a2635d6779",
   "metadata": {},
   "outputs": [],
   "source": [
    "solution = model.optimize()"
   ]
  },
  {
   "cell_type": "code",
   "execution_count": 37,
   "id": "2b6713ee-9220-4098-a132-412a86d0f444",
   "metadata": {},
   "outputs": [
    {
     "data": {
      "text/plain": [
       "'LacI_mRNA'"
      ]
     },
     "execution_count": 37,
     "metadata": {},
     "output_type": "execute_result"
    }
   ],
   "source": [
    "rs = model.metabolites[0].id\n",
    "rs"
   ]
  },
  {
   "cell_type": "code",
   "execution_count": 1,
   "id": "cc63db61a27df306",
   "metadata": {
    "ExecuteTime": {
     "end_time": "2024-09-16T21:52:22.907889Z",
     "start_time": "2024-09-16T21:52:22.903600Z"
    }
   },
   "outputs": [],
   "source": [
    "model_fp = '/Users/alexanderpatrie/Desktop/repos/biosimulator-processes/test_suite/examples/sbml-core/Elowitz-Nature-2000-Repressilator/BIOMD0000000012_url.xml'\n",
    "copasi_spec = {\n",
    "    'ode': {\n",
    "        '_type': 'process',\n",
    "        'address': 'local:copasi',\n",
    "        'config': {\n",
    "            'model': {\n",
    "                'model_source': model_fp\n",
    "            }\n",
    "        },\n",
    "        'inputs': {\n",
    "            'time': ['time_store'],\n",
    "            'floating_species_concentrations': ['floating_species_concentrations_store'],\n",
    "            'model_parameters': ['model_parameters_store'],\n",
    "            'reactions': ['reactions_store']\n",
    "        },\n",
    "        'outputs': {\n",
    "            'time': ['time_store'],\n",
    "            'floating_species_concentrations': ['floating_species_concentrations_store'],\n",
    "        }\n",
    "    }\n",
    "}\n",
    "\n",
    "# fba_spec = {\n",
    "#     'fba': {\n",
    "#         '_type': 'process',\n",
    "#         'address': 'local:fba',\n",
    "#         'config': {},\n",
    "#         'inputs': {\n",
    "#             'substrates': ['floating_species_concentrations_store'],\n",
    "#         },\n",
    "#         'outputs': {\n",
    "#             'substrates': ['substrates_store'],\n",
    "#         }\n",
    "#     }\n",
    "# }\n",
    "\n",
    "fem_spec = {}\n",
    "\n",
    "emitter_spec = {\n",
    "    'emitter': {\n",
    "        '_type': 'step',\n",
    "        'address': 'local:ram-emitter',\n",
    "        'config': {\n",
    "            'emit': {\n",
    "                'substrates': 'tree[float]',\n",
    "                'time': 'float',\n",
    "                # 'floating_species_concentrations': 'tree[float]'\n",
    "            }\n",
    "        },\n",
    "        'inputs': {\n",
    "            'substrates': ['substrates_store'],\n",
    "            'time': ['time_store'],\n",
    "            # 'floating_species_concentrations': ['floating_species_concentrations_store']\n",
    "        }\n",
    "    }\n",
    "}"
   ]
  },
  {
   "cell_type": "code",
   "execution_count": null,
   "id": "8fd8a02abd3d80f2",
   "metadata": {
    "ExecuteTime": {
     "end_time": "2024-09-16T21:53:29.296600Z",
     "start_time": "2024-09-16T21:53:29.274593Z"
    }
   },
   "outputs": [
    {
     "name": "stdout",
     "output_type": "stream",
     "text": [
      "Smoldyn is not properly installed in this environment and thus its process implementation cannot be registered. Please consult smoldyn documentation.\n"
     ]
    }
   ],
   "source": [
    "from biosimulators_processes.processes.cobra_process import run_dfba_spatial\n",
    "\n",
    "run_dfba_spatial()\n",
    "\n"
   ]
  },
  {
   "cell_type": "code",
   "execution_count": 6,
   "id": "1515cb98967fb71e",
   "metadata": {
    "ExecuteTime": {
     "end_time": "2024-09-16T21:53:43.361633Z",
     "start_time": "2024-09-16T21:53:43.357171Z"
    }
   },
   "outputs": [
    {
     "data": {
      "text/plain": [
       "[<Reaction Reaction1 at 0x3485fe590>,\n",
       " <Reaction Reaction2 at 0x10b9506a0>,\n",
       " <Reaction Reaction3 at 0x3485ff700>,\n",
       " <Reaction Reaction4 at 0x3485fea40>,\n",
       " <Reaction Reaction5 at 0x3485fd990>,\n",
       " <Reaction Reaction6 at 0x3485fe9e0>,\n",
       " <Reaction Reaction7 at 0x3485ff340>,\n",
       " <Reaction Reaction8 at 0x3485ff880>,\n",
       " <Reaction Reaction9 at 0x3485ff2e0>,\n",
       " <Reaction Reaction10 at 0x3485ffe50>,\n",
       " <Reaction Reaction11 at 0x3485fee60>,\n",
       " <Reaction Reaction12 at 0x3485ff0a0>]"
      ]
     },
     "execution_count": 6,
     "metadata": {},
     "output_type": "execute_result"
    }
   ],
   "source": [
    "process.model.boundary"
   ]
  },
  {
   "cell_type": "code",
   "execution_count": 11,
   "id": "6237663bf4fdb04d",
   "metadata": {},
   "outputs": [
    {
     "ename": "TypeError",
     "evalue": "float() argument must be a string or a real number, not 'CDataModel'",
     "output_type": "error",
     "traceback": [
      "\u001b[0;31m---------------------------------------------------------------------------\u001b[0m",
      "\u001b[0;31mTypeError\u001b[0m                                 Traceback (most recent call last)",
      "Cell \u001b[0;32mIn[11], line 8\u001b[0m\n\u001b[1;32m      6\u001b[0m \u001b[38;5;66;03m# Run the ODE simulation using basico\u001b[39;00m\n\u001b[1;32m      7\u001b[0m timepoints \u001b[38;5;241m=\u001b[39m [\u001b[38;5;241m0\u001b[39m, \u001b[38;5;241m10\u001b[39m, \u001b[38;5;241m20\u001b[39m, \u001b[38;5;241m30\u001b[39m, \u001b[38;5;241m40\u001b[39m, \u001b[38;5;241m50\u001b[39m]  \u001b[38;5;66;03m# Time points for the simulation\u001b[39;00m\n\u001b[0;32m----> 8\u001b[0m result \u001b[38;5;241m=\u001b[39m \u001b[43mrun_time_course\u001b[49m\u001b[43m(\u001b[49m\u001b[43mmodel\u001b[49m\u001b[43m,\u001b[49m\u001b[43m \u001b[49m\u001b[43mtimepoints\u001b[49m\u001b[43m)\u001b[49m\n\u001b[1;32m     10\u001b[0m \u001b[38;5;66;03m# Convert to DataFrame for easier manipulation\u001b[39;00m\n\u001b[1;32m     11\u001b[0m concentration_df \u001b[38;5;241m=\u001b[39m pd\u001b[38;5;241m.\u001b[39mDataFrame(result[\u001b[38;5;124m'\u001b[39m\u001b[38;5;124mconcentrations\u001b[39m\u001b[38;5;124m'\u001b[39m], columns\u001b[38;5;241m=\u001b[39mresult[\u001b[38;5;124m'\u001b[39m\u001b[38;5;124mspecies_ids\u001b[39m\u001b[38;5;124m'\u001b[39m])\n",
      "File \u001b[0;32m~/miniconda3/envs/biosimulator-processes/lib/python3.10/site-packages/basico/task_timecourse.py:326\u001b[0m, in \u001b[0;36mrun_time_course\u001b[0;34m(*args, **kwargs)\u001b[0m\n\u001b[1;32m    322\u001b[0m model \u001b[38;5;241m=\u001b[39m model_io\u001b[38;5;241m.\u001b[39mget_model_from_dict_or_default(kwargs)\n\u001b[1;32m    324\u001b[0m model\u001b[38;5;241m.\u001b[39mgetModel()\u001b[38;5;241m.\u001b[39mcompileIfNecessary()\n\u001b[0;32m--> 326\u001b[0m task, use_initial_values \u001b[38;5;241m=\u001b[39m \u001b[43m_setup_timecourse\u001b[49m\u001b[43m(\u001b[49m\u001b[43margs\u001b[49m\u001b[43m,\u001b[49m\u001b[43m \u001b[49m\u001b[43mkwargs\u001b[49m\u001b[43m)\u001b[49m\n\u001b[1;32m    328\u001b[0m \u001b[38;5;66;03m# remember messages before running the task\u001b[39;00m\n\u001b[1;32m    329\u001b[0m num_messages_before \u001b[38;5;241m=\u001b[39m COPASI\u001b[38;5;241m.\u001b[39mCCopasiMessage\u001b[38;5;241m.\u001b[39msize()\n",
      "File \u001b[0;32m~/miniconda3/envs/biosimulator-processes/lib/python3.10/site-packages/basico/task_timecourse.py:397\u001b[0m, in \u001b[0;36m_setup_timecourse\u001b[0;34m(args, kwargs)\u001b[0m\n\u001b[1;32m    395\u001b[0m     problem\u001b[38;5;241m.\u001b[39msetUseValues(\u001b[38;5;28;01mFalse\u001b[39;00m)\n\u001b[1;32m    396\u001b[0m \u001b[38;5;28;01melif\u001b[39;00m num_args \u001b[38;5;241m==\u001b[39m \u001b[38;5;241m2\u001b[39m:\n\u001b[0;32m--> 397\u001b[0m     problem\u001b[38;5;241m.\u001b[39msetDuration(\u001b[38;5;28;43mfloat\u001b[39;49m\u001b[43m(\u001b[49m\u001b[43margs\u001b[49m\u001b[43m[\u001b[49m\u001b[38;5;241;43m0\u001b[39;49m\u001b[43m]\u001b[49m\u001b[43m)\u001b[49m)\n\u001b[1;32m    398\u001b[0m     problem\u001b[38;5;241m.\u001b[39msetStepNumber(\u001b[38;5;28mint\u001b[39m(args[\u001b[38;5;241m1\u001b[39m]))\n\u001b[1;32m    399\u001b[0m     problem\u001b[38;5;241m.\u001b[39msetUseValues(\u001b[38;5;28;01mFalse\u001b[39;00m)\n",
      "\u001b[0;31mTypeError\u001b[0m: float() argument must be a string or a real number, not 'CDataModel'"
     ]
    }
   ],
   "source": [
    "from basico import *\n",
    "import pandas as pd\n",
    "\n",
    "model = load_model(model_fp)\n",
    "\n",
    "# Run the ODE simulation using basico\n",
    "timepoints = [0, 10, 20, 30, 40, 50]  # Time points for the simulation\n",
    "result = run_time_course(model, timepoints)\n",
    "\n",
    "# Convert to DataFrame for easier manipulation\n",
    "concentration_df = pd.DataFrame(result['concentrations'], columns=result['species_ids'])\n",
    "concentration_df['time'] = result['timepoints']\n",
    "print(concentration_df)"
   ]
  },
  {
   "cell_type": "code",
   "execution_count": 140,
   "id": "35c4882b-338c-4844-a2fa-4e704ac8ca9c",
   "metadata": {},
   "outputs": [
    {
     "ename": "ModuleNotFoundError",
     "evalue": "No module named 'tqdm'",
     "output_type": "error",
     "traceback": [
      "\u001b[0;31m---------------------------------------------------------------------------\u001b[0m",
      "\u001b[0;31mModuleNotFoundError\u001b[0m                       Traceback (most recent call last)",
      "Cell \u001b[0;32mIn[140], line 7\u001b[0m\n\u001b[1;32m      5\u001b[0m \u001b[38;5;28;01mimport\u001b[39;00m \u001b[38;5;21;01mnumpy\u001b[39;00m \u001b[38;5;28;01mas\u001b[39;00m \u001b[38;5;21;01mnp\u001b[39;00m\n\u001b[1;32m      6\u001b[0m \u001b[38;5;28;01mimport\u001b[39;00m \u001b[38;5;21;01mlogging\u001b[39;00m \n\u001b[0;32m----> 7\u001b[0m \u001b[38;5;28;01mfrom\u001b[39;00m \u001b[38;5;21;01mtqdm\u001b[39;00m \u001b[38;5;28;01mimport\u001b[39;00m tqdm\n\u001b[1;32m      8\u001b[0m \u001b[38;5;28;01mfrom\u001b[39;00m \u001b[38;5;21;01mscipy\u001b[39;00m\u001b[38;5;21;01m.\u001b[39;00m\u001b[38;5;21;01mintegrate\u001b[39;00m \u001b[38;5;28;01mimport\u001b[39;00m solve_ivp\n\u001b[1;32m      9\u001b[0m \u001b[38;5;28;01mimport\u001b[39;00m \u001b[38;5;21;01mcobra\u001b[39;00m\u001b[38;5;21;01m.\u001b[39;00m\u001b[38;5;21;01mutil\u001b[39;00m\u001b[38;5;21;01m.\u001b[39;00m\u001b[38;5;21;01msolver\u001b[39;00m\n",
      "\u001b[0;31mModuleNotFoundError\u001b[0m: No module named 'tqdm'"
     ]
    }
   ],
   "source": [
    "from basico import *\n",
    "from cobra import Model\n",
    "from cobra.io import read_sbml_model\n",
    "import pandas as pd\n",
    "import numpy as np\n",
    "import logging \n",
    "from tqdm import tqdm\n",
    "from scipy.integrate import solve_ivp\n",
    "import cobra.util.solver\n",
    "\n",
    "\n",
    "logging.getLogger('cobra').setLevel(logging.ERROR)\n",
    "model_fp = '/Users/alexanderpatrie/Desktop/repos/biosimulator-processes/test_suite/examples/sbml-core/Elowitz-Nature-2000-Repressilator/BIOMD0000000012_url.xml'\n",
    "\n",
    "def generate_timecourse(model_fp=model_fp, start=0, stop=10, steps=100):\n",
    "    model = load_model(model_fp)\n",
    "    outputs = get_species(model=model).index.tolist()\n",
    "    t = np.linspace(0, 10, 1000)\n",
    "    tc = run_time_course_with_output(outputs, t[-1], values=t, model=model)\n",
    "    return tc \n",
    "\n",
    "\n",
    "def generate_reaction_mappings(cobra_model, output_names):\n",
    "    mappings = []\n",
    "    for reaction in cobra_model.reactions:\n",
    "        for name in output_names:\n",
    "            rxn = [r.lower() for r in reaction.name.split(\" \")]\n",
    "            obs_name = name.split(\" \")[0].lower()\n",
    "            obs_type = name.split(\" \")[-1]\n",
    "            if obs_name in rxn:\n",
    "                mapping = {}\n",
    "                if \"transcription\" in rxn and obs_type == \"mRNA\":\n",
    "                    mapping = {name: reaction.name}\n",
    "                elif \"translation\" in rxn and obs_type == \"protein\":\n",
    "                    mapping = {name: reaction.name}\n",
    "                elif \"degradation\" in rxn:\n",
    "                    if \"transcripts\" in rxn and obs_type == \"mRNA\":\n",
    "                        mapping = {name: reaction.name}\n",
    "                    elif \"transcripts\" not in rxn and obs_type == \"protein\":\n",
    "                        mapping = {name: reaction.name}\n",
    "                if mapping:\n",
    "                    mappings.append(mapping)\n",
    "    return mappings\n",
    "\n",
    "\n",
    "def apply_ode_results_to_fba(time_point, ode_results, cobra_model, mappings):\n",
    "    \"\"\"\n",
    "    Apply ODE results to COBRApy model reactions based on mappings.\n",
    "    Args:\n",
    "        time_point: Current time step in the ODE simulation\n",
    "        ode_results: Time-series DataFrame with concentration data\n",
    "        cobra_model: COBRApy model\n",
    "        mappings: List of mappings between ODE outputs and COBRA reactions\n",
    "    \"\"\"\n",
    "    for mapping in mappings:\n",
    "        for ode_species, cobra_reaction in mapping.items():\n",
    "            # Extract the concentration at the current time point\n",
    "            concentration = ode_results.loc[time_point, ode_species]\n",
    "            \n",
    "            # Apply this concentration to the relevant reaction in COBRA model\n",
    "            # For example, if it is a degradation reaction, you can set a lower bound\n",
    "            reaction = cobra_model.reactions.get_by_id(cobra_reaction)\n",
    "            \n",
    "            # Modify reaction bounds based on concentration\n",
    "            if 'degradation' in cobra_reaction:\n",
    "                reaction.lower_bound = -concentration  # Assuming a negative flux for degradation\n",
    "            else:\n",
    "                # Example: You could modify the upper bound or other parameters\n",
    "                reaction.upper_bound = concentration\n",
    "                \n",
    "\n",
    "result = generate_timecourse()\n",
    "output_names = result.columns.tolist()\n",
    "time_points = result.index.tolist()\n",
    "cobra_model = read_sbml_model(model_fp)\n",
    "reaction_mappings = generate_reaction_mappings(cobra_model, output_names)"
   ]
  },
  {
   "cell_type": "code",
   "execution_count": 138,
   "id": "693c6148-c406-4e53-8bd9-802fe16b4c0e",
   "metadata": {},
   "outputs": [
    {
     "data": {
      "text/plain": [
       "['LacI protein',\n",
       " 'TetR protein',\n",
       " 'cI protein',\n",
       " 'LacI mRNA',\n",
       " 'TetR mRNA',\n",
       " 'cI mRNA']"
      ]
     },
     "execution_count": 138,
     "metadata": {},
     "output_type": "execute_result"
    }
   ],
   "source": [
    "\n",
    "output_names"
   ]
  },
  {
   "cell_type": "code",
   "execution_count": null,
   "id": "e5482bdb-8c32-4aa9-afff-2d6348bc734a",
   "metadata": {},
   "outputs": [],
   "source": []
  },
  {
   "cell_type": "code",
   "execution_count": 37,
   "id": "19b15ea4-849c-4ebd-b452-975129f0b099",
   "metadata": {},
   "outputs": [
    {
     "data": {
      "text/plain": [
       "dict_keys(['LacI protein', 'TetR protein', 'cI protein', 'LacI mRNA', 'TetR mRNA', 'cI mRNA'])"
      ]
     },
     "execution_count": 37,
     "metadata": {},
     "output_type": "execute_result"
    }
   ],
   "source": [
    "tc.keys()"
   ]
  },
  {
   "cell_type": "code",
   "execution_count": 38,
   "id": "385bef2c-de35-49fc-b551-880244dad069",
   "metadata": {},
   "outputs": [
    {
     "data": {
      "text/plain": [
       "['LacI protein',\n",
       " 'TetR protein',\n",
       " 'cI protein',\n",
       " 'LacI mRNA',\n",
       " 'TetR mRNA',\n",
       " 'cI mRNA']"
      ]
     },
     "execution_count": 38,
     "metadata": {},
     "output_type": "execute_result"
    }
   ],
   "source": [
    "outputs"
   ]
  },
  {
   "cell_type": "code",
   "execution_count": 115,
   "id": "3016f946-082a-4850-8004-75533e1a65a2",
   "metadata": {},
   "outputs": [],
   "source": [
    "def generate_reaction_mappings(cobra_model, output_names):\n",
    "    mappings = []\n",
    "    for reaction in cobra_model.reactions:\n",
    "        for name in output_names:\n",
    "            rxn = [r.lower() for r in reaction.name.split(\" \")]\n",
    "            obs_name = name.split(\" \")[0].lower()\n",
    "            obs_type = name.split(\" \")[-1]\n",
    "            if obs_name in rxn:\n",
    "                mapping = {}\n",
    "                if \"transcription\" in rxn and obs_type == \"mRNA\":\n",
    "                    mapping = {name: reaction.name}\n",
    "                elif \"translation\" in rxn and obs_type == \"protein\":\n",
    "                    mapping = {name: reaction.name}\n",
    "                elif \"degradation\" in rxn:\n",
    "                    if \"transcripts\" in rxn and obs_type == \"mRNA\":\n",
    "                        mapping = {name: reaction.name}\n",
    "                    elif \"transcripts\" not in rxn and obs_type == \"protein\":\n",
    "                        mapping = {name: reaction.name}\n",
    "                if mapping:\n",
    "                    mappings.append(mapping)\n",
    "    return mappings"
   ]
  },
  {
   "cell_type": "code",
   "execution_count": 117,
   "id": "edc910b1-b88d-401c-a346-5bd27769eb72",
   "metadata": {},
   "outputs": [
    {
     "data": {
      "text/plain": [
       "12"
      ]
     },
     "execution_count": 117,
     "metadata": {},
     "output_type": "execute_result"
    }
   ],
   "source": [
    "len(_generate_reaction_mappings(cobra_model, outputs))"
   ]
  },
  {
   "cell_type": "code",
   "execution_count": 103,
   "id": "207f04ce-0f6f-4247-9b2b-c59db7120c41",
   "metadata": {},
   "outputs": [
    {
     "data": {
      "text/plain": [
       "['degradation of LacI transcripts',\n",
       " 'degradation of TetR transcripts',\n",
       " 'degradation of CI transcripts',\n",
       " 'translation of LacI',\n",
       " 'translation of TetR',\n",
       " 'translation of CI',\n",
       " 'degradation of LacI',\n",
       " 'degradation of TetR',\n",
       " 'degradation of CI',\n",
       " 'transcription of LacI',\n",
       " 'transcription of TetR',\n",
       " 'transcription of CI']"
      ]
     },
     "execution_count": 103,
     "metadata": {},
     "output_type": "execute_result"
    }
   ],
   "source": [
    "[r.name for r in cobra_model.reactions]"
   ]
  },
  {
   "cell_type": "code",
   "execution_count": 104,
   "id": "6988ae42-1259-4344-b601-cf4b080cf6e8",
   "metadata": {},
   "outputs": [
    {
     "data": {
      "text/plain": [
       "['LacI protein',\n",
       " 'TetR protein',\n",
       " 'cI protein',\n",
       " 'LacI mRNA',\n",
       " 'TetR mRNA',\n",
       " 'cI mRNA']"
      ]
     },
     "execution_count": 104,
     "metadata": {},
     "output_type": "execute_result"
    }
   ],
   "source": [
    "outputs"
   ]
  },
  {
   "cell_type": "code",
   "execution_count": 107,
   "id": "ebc09ad2-9a61-4066-9f4b-4c232b58e710",
   "metadata": {},
   "outputs": [
    {
     "data": {
      "text/plain": [
       "'laci'"
      ]
     },
     "execution_count": 107,
     "metadata": {},
     "output_type": "execute_result"
    }
   ],
   "source": [
    "'LacI'.lower()"
   ]
  },
  {
   "cell_type": "code",
   "execution_count": 108,
   "id": "6f77c6ca-bb28-4bc7-b8a0-a4f9fddfb678",
   "metadata": {},
   "outputs": [
    {
     "data": {
      "text/plain": [
       "'mrna'"
      ]
     },
     "execution_count": 108,
     "metadata": {},
     "output_type": "execute_result"
    }
   ],
   "source": [
    "\"mRNA\".lower()"
   ]
  },
  {
   "cell_type": "code",
   "execution_count": 110,
   "id": "3eec6591-3705-44e3-aafb-0c1d6843bd4f",
   "metadata": {},
   "outputs": [
    {
     "data": {
      "text/plain": [
       "'degradation of ci transcripts'"
      ]
     },
     "execution_count": 110,
     "metadata": {},
     "output_type": "execute_result"
    }
   ],
   "source": [
    "'degradation of CI transcripts'.lower()"
   ]
  },
  {
   "cell_type": "code",
   "execution_count": null,
   "id": "e52d65a8-9138-4114-aaf5-7d2e7dff89cb",
   "metadata": {},
   "outputs": [],
   "source": []
  }
 ],
 "metadata": {
  "kernelspec": {
   "display_name": "Python 3 (ipykernel)",
   "language": "python",
   "name": "python3"
  },
  "language_info": {
   "codemirror_mode": {
    "name": "ipython",
    "version": 3
   },
   "file_extension": ".py",
   "mimetype": "text/x-python",
   "name": "python",
   "nbconvert_exporter": "python",
   "pygments_lexer": "ipython3",
   "version": "3.10.14"
  }
 },
 "nbformat": 4,
 "nbformat_minor": 5
}
