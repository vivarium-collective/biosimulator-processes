{
 "cells": [
  {
   "cell_type": "code",
   "execution_count": 1,
   "id": "ca229377-8d5c-4ccb-8e83-6943ab99296c",
   "metadata": {},
   "outputs": [
    {
     "name": "stdout",
     "output_type": "stream",
     "text": [
      "Smoldyn is not properly installed in this environment and thus its process implementation cannot be registered. Please consult smoldyn documentation.\n",
      "Smoldyn is not properly installed in this environment and thus its process implementation cannot be registered. Please consult smoldyn documentation.\n",
      "\n",
      "PLEASE NOTE: Smoldyn is not correctly installed on your system which prevents you from using the SmoldynProcess. Please refer to the README for further information on installing Smoldyn.\n",
      "Smoldyn is not properly installed in this environment and thus its process implementation cannot be registered. Please consult smoldyn documentation.\n",
      "\n",
      "PLEASE NOTE: Smoldyn is not correctly installed on your system which prevents you from using the SmoldynProcess. Please refer to the README for further information on installing Smoldyn.\n",
      "Smoldyn is not properly installed in this environment and thus its process implementation cannot be registered. Please consult smoldyn documentation.\n",
      "\n",
      "PLEASE NOTE: Smoldyn is not correctly installed on your system which prevents you from using the SmoldynProcess. Please refer to the README for further information on installing Smoldyn.\n",
      "Smoldyn is not properly installed in this environment and thus its process implementation cannot be registered. Please consult smoldyn documentation.\n",
      "Smoldyn is not properly installed in this environment and thus its process implementation cannot be registered. Please consult smoldyn documentation.\n",
      "Smoldyn is not properly installed in this environment and thus its process implementation cannot be registered. Please consult smoldyn documentation.\n",
      "Smoldyn is not properly installed in this environment and thus its process implementation cannot be registered. Please consult smoldyn documentation.\n",
      "Smoldyn is not properly installed in this environment and thus its process implementation cannot be registered. Please consult smoldyn documentation.\n"
     ]
    }
   ],
   "source": [
    "from bsp.io import read_xyz\n",
    "xyz_fp = \"../../assets/experiments/ferroxidase_center.xyz\"\n",
    "\n",
    "mol_xyz = read_xyz(xyz_fp)"
   ]
  },
  {
   "cell_type": "code",
   "execution_count": 2,
   "id": "69dbfc43-3862-412f-8171-bdce3d87524a",
   "metadata": {},
   "outputs": [
    {
     "ename": "QiskitNatureError",
     "evalue": "'Failed to build the PySCF Molecule object.'",
     "output_type": "error",
     "traceback": [
      "\u001B[0;31m---------------------------------------------------------------------------\u001B[0m",
      "\u001B[0;31mRuntimeError\u001B[0m                              Traceback (most recent call last)",
      "File \u001B[0;32m~/Desktop/repos/biosimulator-processes/.venv/lib/python3.10/site-packages/qiskit_nature/second_q/drivers/pyscfd/pyscfdriver.py:411\u001B[0m, in \u001B[0;36mPySCFDriver._build_molecule\u001B[0;34m(self)\u001B[0m\n\u001B[1;32m    410\u001B[0m \u001B[38;5;28mself\u001B[39m\u001B[38;5;241m.\u001B[39m_mol\u001B[38;5;241m.\u001B[39mspin \u001B[38;5;241m=\u001B[39m \u001B[38;5;28mself\u001B[39m\u001B[38;5;241m.\u001B[39m_spin\n\u001B[0;32m--> 411\u001B[0m \u001B[38;5;28;43mself\u001B[39;49m\u001B[38;5;241;43m.\u001B[39;49m\u001B[43m_mol\u001B[49m\u001B[38;5;241;43m.\u001B[39;49m\u001B[43mbuild\u001B[49m\u001B[43m(\u001B[49m\u001B[43mparse_arg\u001B[49m\u001B[38;5;241;43m=\u001B[39;49m\u001B[38;5;28;43;01mFalse\u001B[39;49;00m\u001B[43m)\u001B[49m\n\u001B[1;32m    413\u001B[0m \u001B[38;5;28;01mif\u001B[39;00m output \u001B[38;5;129;01mis\u001B[39;00m \u001B[38;5;129;01mnot\u001B[39;00m \u001B[38;5;28;01mNone\u001B[39;00m:\n",
      "File \u001B[0;32m~/Desktop/repos/biosimulator-processes/.venv/lib/python3.10/site-packages/pyscf/gto/mole.py:2596\u001B[0m, in \u001B[0;36mMoleBase.build\u001B[0;34m(self, dump_input, parse_arg, verbose, output, max_memory, atom, basis, unit, nucmod, ecp, pseudo, charge, spin, symmetry, symmetry_subgroup, cart, magmom)\u001B[0m\n\u001B[1;32m   2593\u001B[0m \u001B[38;5;28;01melse\u001B[39;00m:\n\u001B[1;32m   2594\u001B[0m     \u001B[38;5;66;03m# Access self.nelec in which the code checks whether the spin and\u001B[39;00m\n\u001B[1;32m   2595\u001B[0m     \u001B[38;5;66;03m# number of electrons are consistent.\u001B[39;00m\n\u001B[0;32m-> 2596\u001B[0m     \u001B[38;5;28;43mself\u001B[39;49m\u001B[38;5;241;43m.\u001B[39;49m\u001B[43mnelec\u001B[49m\n\u001B[1;32m   2598\u001B[0m \u001B[38;5;66;03m# reset nuclear energy\u001B[39;00m\n",
      "File \u001B[0;32m~/Desktop/repos/biosimulator-processes/.venv/lib/python3.10/site-packages/pyscf/gto/mole.py:2381\u001B[0m, in \u001B[0;36mMoleBase.nelec\u001B[0;34m(self)\u001B[0m\n\u001B[1;32m   2380\u001B[0m \u001B[38;5;28;01mif\u001B[39;00m nalpha \u001B[38;5;241m+\u001B[39m nbeta \u001B[38;5;241m!=\u001B[39m ne:\n\u001B[0;32m-> 2381\u001B[0m     \u001B[38;5;28;01mraise\u001B[39;00m \u001B[38;5;167;01mRuntimeError\u001B[39;00m(\u001B[38;5;124m'\u001B[39m\u001B[38;5;124mElectron number \u001B[39m\u001B[38;5;132;01m%d\u001B[39;00m\u001B[38;5;124m and spin \u001B[39m\u001B[38;5;132;01m%d\u001B[39;00m\u001B[38;5;124m are not consistent\u001B[39m\u001B[38;5;130;01m\\n\u001B[39;00m\u001B[38;5;124m'\u001B[39m\n\u001B[1;32m   2382\u001B[0m                        \u001B[38;5;124m'\u001B[39m\u001B[38;5;124mNote mol.spin = 2S = Nalpha - Nbeta, not 2S+1\u001B[39m\u001B[38;5;124m'\u001B[39m \u001B[38;5;241m%\u001B[39m\n\u001B[1;32m   2383\u001B[0m                        (ne, \u001B[38;5;28mself\u001B[39m\u001B[38;5;241m.\u001B[39mspin))\n\u001B[1;32m   2384\u001B[0m \u001B[38;5;28;01mreturn\u001B[39;00m nalpha, nbeta\n",
      "\u001B[0;31mRuntimeError\u001B[0m: Electron number 95 and spin 0 are not consistent\nNote mol.spin = 2S = Nalpha - Nbeta, not 2S+1",
      "\nThe above exception was the direct cause of the following exception:\n",
      "\u001B[0;31mQiskitNatureError\u001B[0m                         Traceback (most recent call last)",
      "Cell \u001B[0;32mIn[2], line 12\u001B[0m\n\u001B[1;32m      2\u001B[0m \u001B[38;5;28;01mfrom\u001B[39;00m \u001B[38;5;21;01mqiskit_nature\u001B[39;00m\u001B[38;5;21;01m.\u001B[39;00m\u001B[38;5;21;01msecond_q\u001B[39;00m\u001B[38;5;21;01m.\u001B[39;00m\u001B[38;5;21;01mdrivers\u001B[39;00m \u001B[38;5;28;01mimport\u001B[39;00m PySCFDriver\n\u001B[1;32m      4\u001B[0m driver \u001B[38;5;241m=\u001B[39m PySCFDriver(\n\u001B[1;32m      5\u001B[0m     atom\u001B[38;5;241m=\u001B[39mmol_xyz,\n\u001B[1;32m      6\u001B[0m     basis\u001B[38;5;241m=\u001B[39m\u001B[38;5;124m\"\u001B[39m\u001B[38;5;124msto3g\u001B[39m\u001B[38;5;124m\"\u001B[39m,\n\u001B[0;32m   (...)\u001B[0m\n\u001B[1;32m      9\u001B[0m     unit\u001B[38;5;241m=\u001B[39mDistanceUnit\u001B[38;5;241m.\u001B[39mANGSTROM,\n\u001B[1;32m     10\u001B[0m )\n\u001B[0;32m---> 12\u001B[0m es_problem \u001B[38;5;241m=\u001B[39m \u001B[43mdriver\u001B[49m\u001B[38;5;241;43m.\u001B[39;49m\u001B[43mrun\u001B[49m\u001B[43m(\u001B[49m\u001B[43m)\u001B[49m\n",
      "File \u001B[0;32m~/Desktop/repos/biosimulator-processes/.venv/lib/python3.10/site-packages/qiskit_nature/second_q/drivers/pyscfd/pyscfdriver.py:370\u001B[0m, in \u001B[0;36mPySCFDriver.run\u001B[0;34m(self)\u001B[0m\n\u001B[1;32m    361\u001B[0m \u001B[38;5;28;01mdef\u001B[39;00m \u001B[38;5;21mrun\u001B[39m(\u001B[38;5;28mself\u001B[39m) \u001B[38;5;241m-\u001B[39m\u001B[38;5;241m>\u001B[39m ElectronicStructureProblem:\n\u001B[1;32m    362\u001B[0m \u001B[38;5;250m    \u001B[39m\u001B[38;5;124;03m\"\"\"Runs the driver to produce a result.\u001B[39;00m\n\u001B[1;32m    363\u001B[0m \n\u001B[1;32m    364\u001B[0m \u001B[38;5;124;03m    Returns:\u001B[39;00m\n\u001B[0;32m   (...)\u001B[0m\n\u001B[1;32m    368\u001B[0m \u001B[38;5;124;03m        QiskitNatureError: if an error during the PySCF setup or calculation occurred.\u001B[39;00m\n\u001B[1;32m    369\u001B[0m \u001B[38;5;124;03m    \"\"\"\u001B[39;00m\n\u001B[0;32m--> 370\u001B[0m     \u001B[38;5;28;43mself\u001B[39;49m\u001B[38;5;241;43m.\u001B[39;49m\u001B[43mrun_pyscf\u001B[49m\u001B[43m(\u001B[49m\u001B[43m)\u001B[49m\n\u001B[1;32m    371\u001B[0m     \u001B[38;5;28;01mreturn\u001B[39;00m \u001B[38;5;28mself\u001B[39m\u001B[38;5;241m.\u001B[39mto_problem()\n",
      "File \u001B[0;32m~/Desktop/repos/biosimulator-processes/.venv/lib/python3.10/site-packages/qiskit_nature/second_q/drivers/pyscfd/pyscfdriver.py:469\u001B[0m, in \u001B[0;36mPySCFDriver.run_pyscf\u001B[0;34m(self)\u001B[0m\n\u001B[1;32m    460\u001B[0m \u001B[38;5;28;01mdef\u001B[39;00m \u001B[38;5;21mrun_pyscf\u001B[39m(\u001B[38;5;28mself\u001B[39m) \u001B[38;5;241m-\u001B[39m\u001B[38;5;241m>\u001B[39m \u001B[38;5;28;01mNone\u001B[39;00m:\n\u001B[1;32m    461\u001B[0m \u001B[38;5;250m    \u001B[39m\u001B[38;5;124;03m\"\"\"Runs the PySCF calculation.\u001B[39;00m\n\u001B[1;32m    462\u001B[0m \n\u001B[1;32m    463\u001B[0m \u001B[38;5;124;03m    This method is part of the public interface to allow the user to easily overwrite it in a\u001B[39;00m\n\u001B[0;32m   (...)\u001B[0m\n\u001B[1;32m    467\u001B[0m \u001B[38;5;124;03m        QiskitNatureError: If an invalid HF method type was supplied.\u001B[39;00m\n\u001B[1;32m    468\u001B[0m \u001B[38;5;124;03m    \"\"\"\u001B[39;00m\n\u001B[0;32m--> 469\u001B[0m     \u001B[38;5;28;43mself\u001B[39;49m\u001B[38;5;241;43m.\u001B[39;49m\u001B[43m_build_molecule\u001B[49m\u001B[43m(\u001B[49m\u001B[43m)\u001B[49m\n\u001B[1;32m    471\u001B[0m     \u001B[38;5;66;03m# pylint: disable=import-error\u001B[39;00m\n\u001B[1;32m    472\u001B[0m     \u001B[38;5;28;01mfrom\u001B[39;00m \u001B[38;5;21;01mpyscf\u001B[39;00m \u001B[38;5;28;01mimport\u001B[39;00m dft, scf\n",
      "File \u001B[0;32m~/Desktop/repos/biosimulator-processes/.venv/lib/python3.10/site-packages/qiskit_nature/second_q/drivers/pyscfd/pyscfdriver.py:421\u001B[0m, in \u001B[0;36mPySCFDriver._build_molecule\u001B[0;34m(self)\u001B[0m\n\u001B[1;32m    418\u001B[0m             \u001B[38;5;28;01mpass\u001B[39;00m\n\u001B[1;32m    420\u001B[0m \u001B[38;5;28;01mexcept\u001B[39;00m \u001B[38;5;167;01mException\u001B[39;00m \u001B[38;5;28;01mas\u001B[39;00m exc:\n\u001B[0;32m--> 421\u001B[0m     \u001B[38;5;28;01mraise\u001B[39;00m QiskitNatureError(\u001B[38;5;124m\"\u001B[39m\u001B[38;5;124mFailed to build the PySCF Molecule object.\u001B[39m\u001B[38;5;124m\"\u001B[39m) \u001B[38;5;28;01mfrom\u001B[39;00m \u001B[38;5;21;01mexc\u001B[39;00m\n",
      "\u001B[0;31mQiskitNatureError\u001B[0m: 'Failed to build the PySCF Molecule object.'"
     ]
    }
   ],
   "source": [
    "from qiskit_nature.units import DistanceUnit\n",
    "from qiskit_nature.second_q.drivers import PySCFDriver\n",
    "\n",
    "driver = PySCFDriver(\n",
    "    atom=mol_xyz,\n",
    "    basis=\"sto3g\",\n",
    "    charge=0,\n",
    "    spin=0,\n",
    "    unit=DistanceUnit.ANGSTROM,\n",
    ")\n",
    "\n",
    "es_problem = driver.run()\n",
    "\n"
   ]
  },
  {
   "cell_type": "code",
   "execution_count": null,
   "id": "362adad3-b149-459a-96d1-3dc4c4d896d0",
   "metadata": {},
   "outputs": [],
   "source": []
  }
 ],
 "metadata": {
  "kernelspec": {
   "display_name": "Biosimulator Processes(biosimulator-processes-py3.10): Python 3.10.15",
   "language": "python",
   "name": "biosimulator-processes-py3.10"
  },
  "language_info": {
   "codemirror_mode": {
    "name": "ipython",
    "version": 3
   },
   "file_extension": ".py",
   "mimetype": "text/x-python",
   "name": "python",
   "nbconvert_exporter": "python",
   "pygments_lexer": "ipython3",
   "version": "3.10.15"
  }
 },
 "nbformat": 4,
 "nbformat_minor": 5
}
