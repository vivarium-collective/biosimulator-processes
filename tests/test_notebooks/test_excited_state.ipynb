{
 "cells": [
  {
   "cell_type": "code",
   "execution_count": 1,
   "id": "ca229377-8d5c-4ccb-8e83-6943ab99296c",
   "metadata": {},
   "outputs": [
    {
     "name": "stdout",
     "output_type": "stream",
     "text": [
      "Smoldyn is not properly installed in this environment and thus its process implementation cannot be registered. Please consult smoldyn documentation.\n",
      "Smoldyn is not properly installed in this environment and thus its process implementation cannot be registered. Please consult smoldyn documentation.\n",
      "\n",
      "PLEASE NOTE: Smoldyn is not correctly installed on your system which prevents you from using the SmoldynProcess. Please refer to the README for further information on installing Smoldyn.\n",
      "Smoldyn is not properly installed in this environment and thus its process implementation cannot be registered. Please consult smoldyn documentation.\n",
      "\n",
      "PLEASE NOTE: Smoldyn is not correctly installed on your system which prevents you from using the SmoldynProcess. Please refer to the README for further information on installing Smoldyn.\n",
      "Smoldyn is not properly installed in this environment and thus its process implementation cannot be registered. Please consult smoldyn documentation.\n",
      "\n",
      "PLEASE NOTE: Smoldyn is not correctly installed on your system which prevents you from using the SmoldynProcess. Please refer to the README for further information on installing Smoldyn.\n",
      "Smoldyn is not properly installed in this environment and thus its process implementation cannot be registered. Please consult smoldyn documentation.\n",
      "Smoldyn is not properly installed in this environment and thus its process implementation cannot be registered. Please consult smoldyn documentation.\n",
      "Smoldyn is not properly installed in this environment and thus its process implementation cannot be registered. Please consult smoldyn documentation.\n",
      "Smoldyn is not properly installed in this environment and thus its process implementation cannot be registered. Please consult smoldyn documentation.\n",
      "Smoldyn is not properly installed in this environment and thus its process implementation cannot be registered. Please consult smoldyn documentation.\n"
     ]
    }
   ],
   "source": [
    "from bio_bundles.io import read_xyz\n",
    "xyz_fp = \"../../assets/experiments/ferroxidase_center.xyz\"\n",
    "\n",
    "mol_xyz = read_xyz(xyz_fp)"
   ]
  },
  {
   "cell_type": "code",
   "execution_count": 2,
   "id": "69dbfc43-3862-412f-8171-bdce3d87524a",
   "metadata": {},
   "outputs": [
    {
     "ename": "QiskitNatureError",
     "evalue": "'Failed to build the PySCF Molecule object.'",
     "output_type": "error",
     "traceback": [
      "\u001b[0;31m---------------------------------------------------------------------------\u001b[0m",
      "\u001b[0;31mRuntimeError\u001b[0m                              Traceback (most recent call last)",
      "File \u001b[0;32m~/Desktop/repos/biosimulator-processes/.venv/lib/python3.10/site-packages/qiskit_nature/second_q/drivers/pyscfd/pyscfdriver.py:411\u001b[0m, in \u001b[0;36mPySCFDriver._build_molecule\u001b[0;34m(self)\u001b[0m\n\u001b[1;32m    410\u001b[0m \u001b[38;5;28mself\u001b[39m\u001b[38;5;241m.\u001b[39m_mol\u001b[38;5;241m.\u001b[39mspin \u001b[38;5;241m=\u001b[39m \u001b[38;5;28mself\u001b[39m\u001b[38;5;241m.\u001b[39m_spin\n\u001b[0;32m--> 411\u001b[0m \u001b[38;5;28;43mself\u001b[39;49m\u001b[38;5;241;43m.\u001b[39;49m\u001b[43m_mol\u001b[49m\u001b[38;5;241;43m.\u001b[39;49m\u001b[43mbuild\u001b[49m\u001b[43m(\u001b[49m\u001b[43mparse_arg\u001b[49m\u001b[38;5;241;43m=\u001b[39;49m\u001b[38;5;28;43;01mFalse\u001b[39;49;00m\u001b[43m)\u001b[49m\n\u001b[1;32m    413\u001b[0m \u001b[38;5;28;01mif\u001b[39;00m output \u001b[38;5;129;01mis\u001b[39;00m \u001b[38;5;129;01mnot\u001b[39;00m \u001b[38;5;28;01mNone\u001b[39;00m:\n",
      "File \u001b[0;32m~/Desktop/repos/biosimulator-processes/.venv/lib/python3.10/site-packages/pyscf/gto/mole.py:2596\u001b[0m, in \u001b[0;36mMoleBase.build\u001b[0;34m(self, dump_input, parse_arg, verbose, output, max_memory, atom, basis, unit, nucmod, ecp, pseudo, charge, spin, symmetry, symmetry_subgroup, cart, magmom)\u001b[0m\n\u001b[1;32m   2593\u001b[0m \u001b[38;5;28;01melse\u001b[39;00m:\n\u001b[1;32m   2594\u001b[0m     \u001b[38;5;66;03m# Access self.nelec in which the code checks whether the spin and\u001b[39;00m\n\u001b[1;32m   2595\u001b[0m     \u001b[38;5;66;03m# number of electrons are consistent.\u001b[39;00m\n\u001b[0;32m-> 2596\u001b[0m     \u001b[38;5;28;43mself\u001b[39;49m\u001b[38;5;241;43m.\u001b[39;49m\u001b[43mnelec\u001b[49m\n\u001b[1;32m   2598\u001b[0m \u001b[38;5;66;03m# reset nuclear energy\u001b[39;00m\n",
      "File \u001b[0;32m~/Desktop/repos/biosimulator-processes/.venv/lib/python3.10/site-packages/pyscf/gto/mole.py:2381\u001b[0m, in \u001b[0;36mMoleBase.nelec\u001b[0;34m(self)\u001b[0m\n\u001b[1;32m   2380\u001b[0m \u001b[38;5;28;01mif\u001b[39;00m nalpha \u001b[38;5;241m+\u001b[39m nbeta \u001b[38;5;241m!=\u001b[39m ne:\n\u001b[0;32m-> 2381\u001b[0m     \u001b[38;5;28;01mraise\u001b[39;00m \u001b[38;5;167;01mRuntimeError\u001b[39;00m(\u001b[38;5;124m'\u001b[39m\u001b[38;5;124mElectron number \u001b[39m\u001b[38;5;132;01m%d\u001b[39;00m\u001b[38;5;124m and spin \u001b[39m\u001b[38;5;132;01m%d\u001b[39;00m\u001b[38;5;124m are not consistent\u001b[39m\u001b[38;5;130;01m\\n\u001b[39;00m\u001b[38;5;124m'\u001b[39m\n\u001b[1;32m   2382\u001b[0m                        \u001b[38;5;124m'\u001b[39m\u001b[38;5;124mNote mol.spin = 2S = Nalpha - Nbeta, not 2S+1\u001b[39m\u001b[38;5;124m'\u001b[39m \u001b[38;5;241m%\u001b[39m\n\u001b[1;32m   2383\u001b[0m                        (ne, \u001b[38;5;28mself\u001b[39m\u001b[38;5;241m.\u001b[39mspin))\n\u001b[1;32m   2384\u001b[0m \u001b[38;5;28;01mreturn\u001b[39;00m nalpha, nbeta\n",
      "\u001b[0;31mRuntimeError\u001b[0m: Electron number 95 and spin 0 are not consistent\nNote mol.spin = 2S = Nalpha - Nbeta, not 2S+1",
      "\nThe above exception was the direct cause of the following exception:\n",
      "\u001b[0;31mQiskitNatureError\u001b[0m                         Traceback (most recent call last)",
      "Cell \u001b[0;32mIn[2], line 12\u001b[0m\n\u001b[1;32m      2\u001b[0m \u001b[38;5;28;01mfrom\u001b[39;00m \u001b[38;5;21;01mqiskit_nature\u001b[39;00m\u001b[38;5;21;01m.\u001b[39;00m\u001b[38;5;21;01msecond_q\u001b[39;00m\u001b[38;5;21;01m.\u001b[39;00m\u001b[38;5;21;01mdrivers\u001b[39;00m \u001b[38;5;28;01mimport\u001b[39;00m PySCFDriver\n\u001b[1;32m      4\u001b[0m driver \u001b[38;5;241m=\u001b[39m PySCFDriver(\n\u001b[1;32m      5\u001b[0m     atom\u001b[38;5;241m=\u001b[39mmol_xyz,\n\u001b[1;32m      6\u001b[0m     basis\u001b[38;5;241m=\u001b[39m\u001b[38;5;124m\"\u001b[39m\u001b[38;5;124msto3g\u001b[39m\u001b[38;5;124m\"\u001b[39m,\n\u001b[0;32m   (...)\u001b[0m\n\u001b[1;32m      9\u001b[0m     unit\u001b[38;5;241m=\u001b[39mDistanceUnit\u001b[38;5;241m.\u001b[39mANGSTROM,\n\u001b[1;32m     10\u001b[0m )\n\u001b[0;32m---> 12\u001b[0m es_problem \u001b[38;5;241m=\u001b[39m \u001b[43mdriver\u001b[49m\u001b[38;5;241;43m.\u001b[39;49m\u001b[43mrun\u001b[49m\u001b[43m(\u001b[49m\u001b[43m)\u001b[49m\n",
      "File \u001b[0;32m~/Desktop/repos/biosimulator-processes/.venv/lib/python3.10/site-packages/qiskit_nature/second_q/drivers/pyscfd/pyscfdriver.py:370\u001b[0m, in \u001b[0;36mPySCFDriver.run\u001b[0;34m(self)\u001b[0m\n\u001b[1;32m    361\u001b[0m \u001b[38;5;28;01mdef\u001b[39;00m \u001b[38;5;21mrun\u001b[39m(\u001b[38;5;28mself\u001b[39m) \u001b[38;5;241m-\u001b[39m\u001b[38;5;241m>\u001b[39m ElectronicStructureProblem:\n\u001b[1;32m    362\u001b[0m \u001b[38;5;250m    \u001b[39m\u001b[38;5;124;03m\"\"\"Runs the driver to produce a result.\u001b[39;00m\n\u001b[1;32m    363\u001b[0m \n\u001b[1;32m    364\u001b[0m \u001b[38;5;124;03m    Returns:\u001b[39;00m\n\u001b[0;32m   (...)\u001b[0m\n\u001b[1;32m    368\u001b[0m \u001b[38;5;124;03m        QiskitNatureError: if an error during the PySCF setup or calculation occurred.\u001b[39;00m\n\u001b[1;32m    369\u001b[0m \u001b[38;5;124;03m    \"\"\"\u001b[39;00m\n\u001b[0;32m--> 370\u001b[0m     \u001b[38;5;28;43mself\u001b[39;49m\u001b[38;5;241;43m.\u001b[39;49m\u001b[43mrun_pyscf\u001b[49m\u001b[43m(\u001b[49m\u001b[43m)\u001b[49m\n\u001b[1;32m    371\u001b[0m     \u001b[38;5;28;01mreturn\u001b[39;00m \u001b[38;5;28mself\u001b[39m\u001b[38;5;241m.\u001b[39mto_problem()\n",
      "File \u001b[0;32m~/Desktop/repos/biosimulator-processes/.venv/lib/python3.10/site-packages/qiskit_nature/second_q/drivers/pyscfd/pyscfdriver.py:469\u001b[0m, in \u001b[0;36mPySCFDriver.run_pyscf\u001b[0;34m(self)\u001b[0m\n\u001b[1;32m    460\u001b[0m \u001b[38;5;28;01mdef\u001b[39;00m \u001b[38;5;21mrun_pyscf\u001b[39m(\u001b[38;5;28mself\u001b[39m) \u001b[38;5;241m-\u001b[39m\u001b[38;5;241m>\u001b[39m \u001b[38;5;28;01mNone\u001b[39;00m:\n\u001b[1;32m    461\u001b[0m \u001b[38;5;250m    \u001b[39m\u001b[38;5;124;03m\"\"\"Runs the PySCF calculation.\u001b[39;00m\n\u001b[1;32m    462\u001b[0m \n\u001b[1;32m    463\u001b[0m \u001b[38;5;124;03m    This method is part of the public interface to allow the user to easily overwrite it in a\u001b[39;00m\n\u001b[0;32m   (...)\u001b[0m\n\u001b[1;32m    467\u001b[0m \u001b[38;5;124;03m        QiskitNatureError: If an invalid HF method type was supplied.\u001b[39;00m\n\u001b[1;32m    468\u001b[0m \u001b[38;5;124;03m    \"\"\"\u001b[39;00m\n\u001b[0;32m--> 469\u001b[0m     \u001b[38;5;28;43mself\u001b[39;49m\u001b[38;5;241;43m.\u001b[39;49m\u001b[43m_build_molecule\u001b[49m\u001b[43m(\u001b[49m\u001b[43m)\u001b[49m\n\u001b[1;32m    471\u001b[0m     \u001b[38;5;66;03m# pylint: disable=import-error\u001b[39;00m\n\u001b[1;32m    472\u001b[0m     \u001b[38;5;28;01mfrom\u001b[39;00m \u001b[38;5;21;01mpyscf\u001b[39;00m \u001b[38;5;28;01mimport\u001b[39;00m dft, scf\n",
      "File \u001b[0;32m~/Desktop/repos/biosimulator-processes/.venv/lib/python3.10/site-packages/qiskit_nature/second_q/drivers/pyscfd/pyscfdriver.py:421\u001b[0m, in \u001b[0;36mPySCFDriver._build_molecule\u001b[0;34m(self)\u001b[0m\n\u001b[1;32m    418\u001b[0m             \u001b[38;5;28;01mpass\u001b[39;00m\n\u001b[1;32m    420\u001b[0m \u001b[38;5;28;01mexcept\u001b[39;00m \u001b[38;5;167;01mException\u001b[39;00m \u001b[38;5;28;01mas\u001b[39;00m exc:\n\u001b[0;32m--> 421\u001b[0m     \u001b[38;5;28;01mraise\u001b[39;00m QiskitNatureError(\u001b[38;5;124m\"\u001b[39m\u001b[38;5;124mFailed to build the PySCF Molecule object.\u001b[39m\u001b[38;5;124m\"\u001b[39m) \u001b[38;5;28;01mfrom\u001b[39;00m \u001b[38;5;21;01mexc\u001b[39;00m\n",
      "\u001b[0;31mQiskitNatureError\u001b[0m: 'Failed to build the PySCF Molecule object.'"
     ]
    }
   ],
   "source": [
    "from qiskit_nature.units import DistanceUnit\n",
    "from qiskit_nature.second_q.drivers import PySCFDriver\n",
    "\n",
    "driver = PySCFDriver(\n",
    "    atom=mol_xyz,\n",
    "    basis=\"sto3g\",\n",
    "    charge=0,\n",
    "    spin=0,\n",
    "    unit=DistanceUnit.ANGSTROM,\n",
    ")\n",
    "\n",
    "es_problem = driver.run()\n",
    "\n"
   ]
  },
  {
   "cell_type": "code",
   "execution_count": null,
   "id": "362adad3-b149-459a-96d1-3dc4c4d896d0",
   "metadata": {},
   "outputs": [],
   "source": []
  }
 ],
 "metadata": {
  "kernelspec": {
   "display_name": "Biosimulator Processes(biosimulator-processes-py3.10): Python 3.10.15",
   "language": "python",
   "name": "biosimulator-processes-py3.10"
  },
  "language_info": {
   "codemirror_mode": {
    "name": "ipython",
    "version": 3
   },
   "file_extension": ".py",
   "mimetype": "text/x-python",
   "name": "python",
   "nbconvert_exporter": "python",
   "pygments_lexer": "ipython3",
   "version": "3.10.15"
  }
 },
 "nbformat": 4,
 "nbformat_minor": 5
}
