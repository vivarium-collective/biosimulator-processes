{
 "cells": [
  {
   "cell_type": "code",
   "execution_count": 1,
   "id": "initial_id",
   "metadata": {},
   "outputs": [],
   "source": [
    "from functools import partial\n",
    "from pathlib import Path\n",
    "from typing import Dict, Union\n",
    "\n",
    "import pymem3dg as dg\n",
    "import pymem3dg.boilerplate as dgb\n",
    "from process_bigraph import Process, ProcessTypes\n",
    "\n",
    "from bsp import app_registrar\n",
    "\n",
    "\n",
    "# pymem3dg.boilerplate.preferredAreaSurfaceTensionModel¶\n",
    "# preferredVolumeOsmoticPressureModel\n",
    "\n",
    "\n",
    "class MembraneProcess(Process):\n",
    "    \"\"\"\n",
    "    :config mesh_file: input .ply file TODO: generalize this\n",
    "    :config pressure_models: list[dict[str, float | str]] {name: str, **params}, for example {preferredAreaSurfaceTensionModel, area=, modulus=, prefferedArea\n",
    "    :config parameters: dict[str, float]: {**dir(pymem3dg.Parameters()}: 'adsorption', 'aggregation', 'bending', 'boundary', 'damping', 'dirichlet', 'dpd',\n",
    "        entropy', 'external', 'osmotic', 'point', 'protein', 'proteinMobility', 'selfAvoidance', 'spring', 'temperature', 'tension', 'variation'.\n",
    "\n",
    "    \"\"\"\n",
    "    config_schema = {\n",
    "        'mesh_file': 'string',\n",
    "        'tension_,\n",
    "        'parameters': 'tree[float]'\n",
    "    }\n",
    "\n",
    "    def __init__(self, config: Dict[str, Union[Dict[str, float], str]] = None, core: ProcessTypes = None):\n",
    "        super().__init__(config, core)\n",
    "\n",
    "        # create geometry from model file\n",
    "        self.geometry = dg.Geometry(self.config[\"mesh_file\"])\n",
    "\n",
    "        # create and set parameters (non-pressure model)\n",
    "        self.parameters = dg.Parameters()\n",
    "        param_spec = self.config.get(\"parameters\")\n",
    "        if param_spec:\n",
    "            for attribute_name, attribute_spec in param_spec.items():  # ie: adsorption, aggregiation, bending, etc\n",
    "                attribute = getattr(self.parameters, attribute_name)\n",
    "                for name, value in attribute_spec.items():\n",
    "                    setattr(attribute, name, value)\n",
    "\n",
    "        \n",
    "\n",
    "\n",
    "prolate = \"../fixtures/sample_meshes/prolate.ply\"\n",
    "\n",
    "config = {\n",
    "    'mesh_file': \"../fixtures/sample_meshes/oblate.ply\",\n",
    "    'parameters': {\n",
    "        'bending': {\n",
    "            'Kbc': 8.22e-5\n",
    "        }\n",
    "    }\n",
    "}\n",
    "\n",
    "process = MembraneProcess(config=config, core=app_registrar.core)"
   ]
  },
  {
   "cell_type": "code",
   "execution_count": 2,
   "id": "22160d93-2e56-420e-96c3-ccbcea20cae6",
   "metadata": {},
   "outputs": [
    {
     "data": {
      "text/plain": [
       "<__main__.MembraneProcess at 0x10786f100>"
      ]
     },
     "execution_count": 2,
     "metadata": {},
     "output_type": "execute_result"
    }
   ],
   "source": [
    "process"
   ]
  },
  {
   "cell_type": "code",
   "execution_count": null,
   "id": "71570818-f275-4775-bbbe-0b44fb2ec0b3",
   "metadata": {},
   "outputs": [],
   "source": []
  },
  {
   "cell_type": "code",
   "execution_count": null,
   "id": "ea33b266-4618-4e54-b087-79e7a54fd304",
   "metadata": {},
   "outputs": [],
   "source": []
  },
  {
   "cell_type": "code",
   "execution_count": null,
   "id": "a0b35e28-4884-4fea-a412-e581d41972da",
   "metadata": {},
   "outputs": [],
   "source": [
    "oblate = \"../sample_meshes/oblate.ply\"\n",
    "prolate = \"../sample_meshes/prolate.ply\""
   ]
  },
  {
   "cell_type": "code",
   "execution_count": null,
   "id": "2f16c0fff2245f93",
   "metadata": {},
   "outputs": [],
   "source": [
    "p = dg.Parameters()\n",
    "\n",
    "p.bending.Kbc = 8.22e-5\n",
    "\n",
    "p.tension.form = partial(\n",
    "    dgb.preferredAreaSurfaceTensionModel, modulus=0.1, preferredArea=12.4866\n",
    ")\n",
    "p.osmotic.form = partial(\n",
    "    dgb.preferredVolumeOsmoticPressureModel,\n",
    "    preferredVolume=0.7 * 3.14 * 4 / 3,\n",
    "    reservoirVolume=0,\n",
    "    strength=0.02,\n",
    ")"
   ]
  },
  {
   "cell_type": "code",
   "execution_count": null,
   "id": "23c2ada74408c839",
   "metadata": {},
   "outputs": [],
   "source": [
    "geo = dg.Geometry(oblate)\n",
    "\n",
    "outputDir = Path(\"output/tutorial1/biconcave\")\n",
    "outputDir.mkdir(parents=True, exist_ok=True)\n",
    "\n",
    "g = dg.System(geometry=geo, parameters = p)\n",
    "g.initialize()\n",
    "\n",
    "fe = dg.Euler(system = g, characteristicTimeStep = 2,\n",
    "              totalTime = 10000, savePeriod = 100,\n",
    "              tolerance = 1e-11, outputDirectory = str(outputDir))\n",
    "# Uncomment to print intermediate statistics\n",
    "fe.ifPrintToConsole = True\n",
    "fe.ifOutputTrajFile = True\n",
    "success = fe.integrate()\n"
   ]
  },
  {
   "cell_type": "code",
   "execution_count": null,
   "id": "2ec8ba46c1efd99b",
   "metadata": {},
   "outputs": [],
   "source": [
    "# plot the netcdf data in outputDir/\"traj.nc\" in matplotlib\n",
    "import pymem3dg.visual as dg_vis\n",
    "import matplotlib.pyplot as plt\n",
    "\n",
    "from netCDF4 import Dataset\n",
    "\n",
    "data = Dataset(str(outputDir / \"traj.nc\"),'r')\n",
    "# get data parameters\n",
    "data.groups['Trajectory'].variables\n",
    "\n",
    "# get the coordinates from groups/trajectory.variables\n",
    "x = data.groups['Trajectory'].variables['coordinates'][:]\n",
    "\n",
    "# plot x[] in 3d spaces\n",
    "# where the array is xyz, xyz, xyz\n",
    "\n",
    "fig = plt.figure()\n",
    "ax = fig.add_subplot(111, projection='3d')\n",
    "\n",
    "ax.scatter(x[0][::3], x[0][1::3], x[0][2::3])\n",
    "ax.scatter(x[-1][::3], x[-1][1::3], x[-1][2::3])\n",
    "\n",
    "plt.show()"
   ]
  }
 ],
 "metadata": {
  "kernelspec": {
   "display_name": "bsp(bsp): Python 3.10.16",
   "language": "python",
   "name": "bsp"
  },
  "language_info": {
   "codemirror_mode": {
    "name": "ipython",
    "version": 3
   },
   "file_extension": ".py",
   "mimetype": "text/x-python",
   "name": "python",
   "nbconvert_exporter": "python",
   "pygments_lexer": "ipython3",
   "version": "3.10.16"
  }
 },
 "nbformat": 4,
 "nbformat_minor": 5
}
