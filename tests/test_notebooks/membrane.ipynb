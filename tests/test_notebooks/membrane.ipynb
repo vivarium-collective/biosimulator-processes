{
 "cells": [
  {
   "cell_type": "code",
   "execution_count": 1,
   "id": "59bdb8692f7a5244",
   "metadata": {
    "ExecuteTime": {
     "end_time": "2025-01-30T03:59:37.731327Z",
     "start_time": "2025-01-30T03:59:36.625926Z"
    }
   },
   "outputs": [],
   "source": [
    "from process_bigraph import Composite, pp\n",
    "import numpy as np\n",
    "\n",
    "from bsp import app_registrar\n",
    "from bsp.processes.simple_membrane_process import SimpleMembraneProcess\n",
    "\n",
    "\n",
    "test_state_init_fp = '../test-membrane-initial.json'\n",
    "oblate = \"../fixtures/sample_meshes/oblate.ply\"\n",
    "prolate = \"../fixtures/sample_meshes/prolate.ply\"\n",
    "\n",
    "membrane_config = {\n",
    "    'characteristic_time_step': 1,\n",
    "    'geometry': {\n",
    "        'type': 'icosphere',\n",
    "        'parameters': {\n",
    "            'radius': 1.0,\n",
    "            'subdivision': 2\n",
    "        }\n",
    "    },\n",
    "    'tension_model': {\n",
    "        'modulus': 0.1,\n",
    "        'preferred_area': 12.4866\n",
    "    },\n",
    "    'osmotic_model': {\n",
    "        'preferred_volume': 0.7 * 3.14 * 4 / 3,\n",
    "        'reservoir_volume': 1,\n",
    "        'strength': 0.02,\n",
    "        'volume': 2.9\n",
    "    },\n",
    "    'parameters': {\n",
    "        'bending': {\n",
    "            'Kbc': 8.22e-05\n",
    "        },\n",
    "        # 'damping': 0.01\n",
    "    },\n",
    "    'tolerance': 1e-11,\n",
    "    'console_output': False\n",
    "}\n",
    "\n",
    "\n"
   ]
  },
  {
   "cell_type": "code",
   "execution_count": 2,
   "id": "a89d7e4a82059323",
   "metadata": {
    "ExecuteTime": {
     "end_time": "2025-01-30T03:59:39.113832Z",
     "start_time": "2025-01-30T03:59:39.107979Z"
    }
   },
   "outputs": [],
   "source": [
    "input_composite_state = {\n",
    "    'membrane': {\n",
    "        '_type': 'process',\n",
    "        'address': 'local:simple-membrane-process',\n",
    "        'config': membrane_config,\n",
    "        'inputs': {\n",
    "            'geometry': ['geometry_store'],\n",
    "            'velocities': ['velocities_store'],\n",
    "            'protein_density': ['protein_density_store'],\n",
    "            'volume': ['volume_store'],\n",
    "            'preferred_volume': ['preferred_volume_store'],\n",
    "            'reservoir_volume': ['reservoir_volume_store'],\n",
    "            'surface_area': ['surface_area_store'],\n",
    "            'osmotic_strength': ['osmotic_strength_store'],\n",
    "            'duration': ['duration_store']\n",
    "        },\n",
    "        'outputs': {\n",
    "            'geometry': ['geometry_store'],\n",
    "            'velocities': ['velocities_store'],\n",
    "            'protein_density': ['protein_density_store'],\n",
    "            'volume': ['volume_store'],\n",
    "            'preferred_volume': ['preferred_volume_store'],\n",
    "            'reservoir_volume': ['reservoir_volume_store'],\n",
    "            'surface_area': ['surface_area_store'],\n",
    "            'net_forces': ['net_forces_store'],\n",
    "            'duration': ['duration_store']\n",
    "        }\n",
    "    },\n",
    "    'emitter': {\n",
    "        '_type': 'step',\n",
    "        'address': 'local:ram-emitter',\n",
    "        'config': {\n",
    "            'emit': {\n",
    "                'geometry': 'GeometryType',\n",
    "                'velocities': 'VelocitiesType',\n",
    "                'protein_density': 'ProteinDensityType',\n",
    "                'volume': 'float',\n",
    "                'preferred_volume': 'float',\n",
    "                'reservoir_volume': 'float',\n",
    "                'surface_area': 'float',\n",
    "                'net_forces': 'MechanicalForcesType',\n",
    "            }\n",
    "        },\n",
    "        'inputs': {\n",
    "            'geometry': ['geometry_store'],\n",
    "            'velocities': ['velocities_store'],\n",
    "            'protein_density': ['protein_density_store'],\n",
    "            'volume': ['volume_store'],\n",
    "            'preferred_volume': ['preferred_volume_store'],\n",
    "            'reservoir_volume': ['reservoir_volume_store'],\n",
    "            'surface_area': ['surface_area_store'],\n",
    "            'net_forces': ['net_forces_store'],\n",
    "        }\n",
    "    }\n",
    "}"
   ]
  },
  {
   "cell_type": "code",
   "execution_count": 3,
   "id": "775605dd38ccded7",
   "metadata": {
    "ExecuteTime": {
     "end_time": "2025-01-30T03:59:39.739178Z",
     "start_time": "2025-01-30T03:59:39.730267Z"
    }
   },
   "outputs": [],
   "source": [
    "sim = Composite(config={'state': input_composite_state}, core=app_registrar.core)"
   ]
  },
  {
   "cell_type": "code",
   "execution_count": 4,
   "id": "96ad65f5-5a97-4413-913b-87a2d899732c",
   "metadata": {},
   "outputs": [],
   "source": [
    "# sim.state['membrane']['instance'].initial_state()"
   ]
  },
  {
   "cell_type": "code",
   "execution_count": 5,
   "id": "c8874099469d16e6",
   "metadata": {
    "ExecuteTime": {
     "end_time": "2025-01-30T04:01:12.267681Z",
     "start_time": "2025-01-30T03:59:40.503037Z"
    },
    "jupyter": {
     "is_executing": true
    }
   },
   "outputs": [
    {
     "name": "stdout",
     "output_type": "stream",
     "text": [
      "Input duration: 0.0 for iteration: 0\n",
      "Preferred volume: 2.9306666666666668, preferred area: 9.903645223104807\n",
      "Duration at interval 1.0: 1.0\n",
      "Input duration: 1.0 for iteration: 1\n",
      "Preferred volume: 5.8613333333333335, preferred area: 15.721056845476403\n",
      "Duration at interval 1.0: 1.0\n",
      "Input duration: 2.0 for iteration: 2\n",
      "Preferred volume: 11.722666666666667, preferred area: 24.955622174561103\n",
      "Duration at interval 1.0: 1.0\n"
     ]
    }
   ],
   "source": [
    "total_time = 3\n",
    "sim.run(total_time)"
   ]
  },
  {
   "cell_type": "code",
   "execution_count": 6,
   "id": "bb826f41196221",
   "metadata": {
    "ExecuteTime": {
     "end_time": "2025-01-30T03:54:10.267217Z",
     "start_time": "2025-01-30T03:54:10.264665Z"
    }
   },
   "outputs": [],
   "source": [
    "sim_results = sim.gather_results()[('emitter',)]"
   ]
  },
  {
   "cell_type": "code",
   "execution_count": 7,
   "id": "e9c090d46de0b218",
   "metadata": {
    "ExecuteTime": {
     "end_time": "2025-01-30T03:54:11.492105Z",
     "start_time": "2025-01-30T03:54:11.487515Z"
    }
   },
   "outputs": [
    {
     "data": {
      "text/plain": [
       "4"
      ]
     },
     "execution_count": 7,
     "metadata": {},
     "output_type": "execute_result"
    }
   ],
   "source": [
    "# is this (time_0, time_1)?\n",
    "len(sim_results)"
   ]
  },
  {
   "cell_type": "code",
   "execution_count": 8,
   "id": "94871f384eeaa932",
   "metadata": {},
   "outputs": [],
   "source": [
    "x_start = np.array(sim_results[0].get('geometry').get('vertices'))"
   ]
  },
  {
   "cell_type": "code",
   "execution_count": 9,
   "id": "c0040f65-527a-4c71-8284-d44e3d414eb8",
   "metadata": {},
   "outputs": [],
   "source": [
    "x_end = sim_results[-1].get('geometry').get('vertices')[:162]"
   ]
  },
  {
   "cell_type": "code",
   "execution_count": null,
   "id": "391b1c73-d068-4347-b5a3-57946e97722c",
   "metadata": {},
   "outputs": [],
   "source": [
    "for i, vertex in enumerate(x_end):\n",
    "    # print(vertex)\n",
    "    if len(vertex) != 3:\n",
    "        print(i)"
   ]
  },
  {
   "cell_type": "code",
   "execution_count": null,
   "id": "de742857-1f88-4193-b47d-f7b5cc6b79d0",
   "metadata": {},
   "outputs": [],
   "source": [
    "sim.state['membrane']['instance'].geometry.getVertexMatrix().shape"
   ]
  },
  {
   "cell_type": "code",
   "execution_count": null,
   "id": "ee635789-35e4-48ab-a4c7-897d46a0b49d",
   "metadata": {},
   "outputs": [],
   "source": [
    "sim_results[0].keys()"
   ]
  },
  {
   "cell_type": "code",
   "execution_count": null,
   "id": "e41ff8e7-b32a-42d3-ba06-1af2582bae00",
   "metadata": {
    "ExecuteTime": {
     "end_time": "2025-01-30T03:32:16.925285Z",
     "start_time": "2025-01-30T03:32:16.923187Z"
    }
   },
   "outputs": [],
   "source": [
    "import pymem3dg as dg\n",
    "\n",
    "\n",
    "p = sim.state['membrane']['instance'].parameters"
   ]
  },
  {
   "cell_type": "code",
   "execution_count": null,
   "id": "b221d71af18d3852",
   "metadata": {
    "ExecuteTime": {
     "end_time": "2025-01-30T03:32:35.854969Z",
     "start_time": "2025-01-30T03:32:35.852135Z"
    }
   },
   "outputs": [],
   "source": [
    "from bsp.utils.membrane_utils import parse_parameters\n",
    "\n",
    "params = parse_parameters(p)"
   ]
  },
  {
   "cell_type": "code",
   "execution_count": null,
   "id": "9b4fa1cc72636307",
   "metadata": {
    "ExecuteTime": {
     "end_time": "2025-01-30T03:36:23.611483Z",
     "start_time": "2025-01-30T03:36:23.609036Z"
    }
   },
   "outputs": [],
   "source": [
    "dir(p.osmotic.form)"
   ]
  },
  {
   "cell_type": "code",
   "execution_count": null,
   "id": "9d1946249f782c75",
   "metadata": {
    "ExecuteTime": {
     "end_time": "2025-01-30T03:36:45.954403Z",
     "start_time": "2025-01-30T03:36:45.825788Z"
    }
   },
   "outputs": [],
   "source": [
    "p.osmotic.form = 3"
   ]
  },
  {
   "cell_type": "code",
   "execution_count": null,
   "id": "36b2d08948ddd161",
   "metadata": {},
   "outputs": [],
   "source": []
  }
 ],
 "metadata": {
  "kernelspec": {
   "display_name": "bsp(bsp): Python 3.10.16",
   "language": "python",
   "name": "bsp"
  },
  "language_info": {
   "codemirror_mode": {
    "name": "ipython",
    "version": 3
   },
   "file_extension": ".py",
   "mimetype": "text/x-python",
   "name": "python",
   "nbconvert_exporter": "python",
   "pygments_lexer": "ipython3",
   "version": "3.10.16"
  }
 },
 "nbformat": 4,
 "nbformat_minor": 5
}
