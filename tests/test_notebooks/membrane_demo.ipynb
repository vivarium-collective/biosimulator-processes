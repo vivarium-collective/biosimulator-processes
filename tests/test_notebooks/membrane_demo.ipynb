{
 "cells": [
  {
   "cell_type": "code",
   "id": "91fe2451898b2028",
   "metadata": {
    "ExecuteTime": {
     "end_time": "2025-02-03T21:34:34.367968Z",
     "start_time": "2025-02-03T21:34:32.860705Z"
    }
   },
   "source": [
    "from process_bigraph import Composite, pp\n",
    "import numpy as np\n",
    "\n",
    "from bsp import app_registrar\n",
    "from bsp.utils.membrane_utils import get_vertices, get_times\n",
    "from bsp.processes.simple_membrane_process import SimpleMembraneProcess\n",
    "\n",
    "\n",
    "test_state_init_fp = '../test-membrane-initial.json'\n",
    "oblate = \"../fixtures/sample_meshes/oblate.ply\"\n",
    "prolate = \"../fixtures/sample_meshes/prolate.ply\""
   ],
   "outputs": [],
   "execution_count": 1
  },
  {
   "cell_type": "code",
   "id": "73bd7edf53eb20c9",
   "metadata": {
    "ExecuteTime": {
     "end_time": "2025-02-03T23:14:41.230793Z",
     "start_time": "2025-02-03T23:14:41.223321Z"
    }
   },
   "source": [
    "input_composite_state = {\n",
    "    'membrane': {\n",
    "        '_type': 'process',\n",
    "        'address': 'local:simple-membrane-process',\n",
    "        'config': {\n",
    "            'characteristic_time_step': 1,\n",
    "            'geometry': {\n",
    "                'type': 'icosphere',\n",
    "                'parameters': {\n",
    "                    'radius': 1.0,\n",
    "                    'subdivision': 2\n",
    "                }\n",
    "            },\n",
    "            'tension_model': {\n",
    "                'modulus': 0.1,\n",
    "                'preferred_area': 12.4866\n",
    "            },\n",
    "            'osmotic_model': {\n",
    "                'preferred_volume': 0.7 * 3.14 * 4 / 3,\n",
    "                'reservoir_volume': 1,\n",
    "                'strength': 0.02,\n",
    "                'volume': 2.9\n",
    "            },\n",
    "            'parameters': {\n",
    "                'bending': {\n",
    "                    'Kbc': 8.22e-05\n",
    "                },\n",
    "                'damping': 0.05\n",
    "            },\n",
    "            'tolerance': 1e-11,\n",
    "            'console_output': False\n",
    "        },\n",
    "        'inputs': {\n",
    "            'geometry': ['geometry_store'],\n",
    "            'velocities': ['velocities_store'],\n",
    "            'protein_density': ['protein_density_store'],\n",
    "            'volume': ['volume_store'],\n",
    "            'preferred_volume': ['preferred_volume_store'],\n",
    "            'reservoir_volume': ['reservoir_volume_store'],\n",
    "            'surface_area': ['surface_area_store'],\n",
    "            'osmotic_strength': ['osmotic_strength_store'],\n",
    "            'duration': ['duration_store']\n",
    "        },\n",
    "        'outputs': {\n",
    "            'geometry': ['geometry_store'],\n",
    "            'velocities': ['velocities_store'],\n",
    "            'protein_density': ['protein_density_store'],\n",
    "            'volume': ['volume_store'],\n",
    "            'preferred_volume': ['preferred_volume_store'],\n",
    "            'reservoir_volume': ['reservoir_volume_store'],\n",
    "            'surface_area': ['surface_area_store'],\n",
    "            'net_forces': ['net_forces_store'],\n",
    "            'duration': ['duration_store']\n",
    "        }\n",
    "    },\n",
    "    'emitter': {\n",
    "        '_type': 'step',\n",
    "        'address': 'local:ram-emitter',\n",
    "        'config': {\n",
    "            'emit': {\n",
    "                'geometry': 'GeometryType',\n",
    "                'velocities': 'VelocitiesType',\n",
    "                'protein_density': 'ProteinDensityType',\n",
    "                'volume': 'float',\n",
    "                'preferred_volume': 'float',\n",
    "                'reservoir_volume': 'float',\n",
    "                'surface_area': 'float',\n",
    "                'net_forces': 'MechanicalForcesType',\n",
    "            }\n",
    "        },\n",
    "        'inputs': {\n",
    "            'geometry': ['geometry_store'],\n",
    "            'velocities': ['velocities_store'],\n",
    "            'protein_density': ['protein_density_store'],\n",
    "            'volume': ['volume_store'],\n",
    "            'preferred_volume': ['preferred_volume_store'],\n",
    "            'reservoir_volume': ['reservoir_volume_store'],\n",
    "            'surface_area': ['surface_area_store'],\n",
    "            'net_forces': ['net_forces_store'],\n",
    "        }\n",
    "    }\n",
    "}\n",
    "\n",
    "import json\n",
    "\n",
    "with open('../fixtures/membrane_composite.json', 'w') as json_file:\n",
    "    json.dump(input_composite_state, json_file, indent=4)"
   ],
   "outputs": [],
   "execution_count": 3
  },
  {
   "metadata": {
    "ExecuteTime": {
     "end_time": "2025-02-03T23:16:07.693711Z",
     "start_time": "2025-02-03T23:16:07.563105Z"
    }
   },
   "cell_type": "code",
   "source": "!cp ../fixtures/membrane_composite.json ../../../bio-compose-server/membrane_composite.json",
   "id": "64e65dcc568df6e7",
   "outputs": [],
   "execution_count": 5
  },
  {
   "cell_type": "code",
   "id": "775605dd38ccded7",
   "metadata": {
    "ExecuteTime": {
     "end_time": "2025-02-03T21:34:34.444090Z",
     "start_time": "2025-02-03T21:34:34.438386Z"
    }
   },
   "source": [
    "sim = Composite(config={'state': input_composite_state}, core=app_registrar.core)"
   ],
   "outputs": [],
   "execution_count": 3
  },
  {
   "cell_type": "code",
   "id": "96ad65f5-5a97-4413-913b-87a2d899732c",
   "metadata": {
    "ExecuteTime": {
     "end_time": "2025-02-03T21:34:34.449707Z",
     "start_time": "2025-02-03T21:34:34.448460Z"
    }
   },
   "source": [
    "# sim.state['membrane']['instance'].initial_state()"
   ],
   "outputs": [],
   "execution_count": 4
  },
  {
   "cell_type": "code",
   "id": "c8874099469d16e6",
   "metadata": {
    "ExecuteTime": {
     "end_time": "2025-02-03T21:34:34.602721Z",
     "start_time": "2025-02-03T21:34:34.455190Z"
    }
   },
   "source": [
    "total_time = 10\n",
    "sim.run(total_time)"
   ],
   "outputs": [
    {
     "name": "stdout",
     "output_type": "stream",
     "text": [
      "Duration at interval 1.0: 1.0\n",
      "Duration at interval 1.0: 1.0\n",
      "Duration at interval 1.0: 1.0\n",
      "Duration at interval 1.0: 1.0\n",
      "Duration at interval 1.0: 1.0\n",
      "Duration at interval 1.0: 1.0\n",
      "Duration at interval 1.0: 1.0\n",
      "Duration at interval 1.0: 1.0\n",
      "Duration at interval 1.0: 1.0\n",
      "Duration at interval 1.0: 1.0\n"
     ]
    }
   ],
   "execution_count": 5
  },
  {
   "cell_type": "code",
   "id": "bb826f41196221",
   "metadata": {
    "ExecuteTime": {
     "end_time": "2025-02-03T21:34:35.278475Z",
     "start_time": "2025-02-03T21:34:35.275852Z"
    }
   },
   "source": [
    "sim_results = sim.gather_results()[('emitter',)]"
   ],
   "outputs": [],
   "execution_count": 6
  },
  {
   "metadata": {
    "ExecuteTime": {
     "end_time": "2025-02-03T21:34:35.858364Z",
     "start_time": "2025-02-03T21:34:35.853060Z"
    }
   },
   "cell_type": "code",
   "source": [
    "# times = get_times(sim_results)\n",
    "vertices_start = get_vertices(sim, 0)\n",
    "vertices_end = get_vertices(sim, 1)\n",
    "\n",
    "vertices_start[0], vertices_end[0]"
   ],
   "id": "2afc297700265157",
   "outputs": [
    {
     "data": {
      "text/plain": [
       "(array([-0.52573111,  0.85065081,  0.        ]),\n",
       " array([-0.52573111,  0.85065081,  0.        ]))"
      ]
     },
     "execution_count": 7,
     "metadata": {},
     "output_type": "execute_result"
    }
   ],
   "execution_count": 7
  },
  {
   "cell_type": "code",
   "id": "9380daf41d81cd50",
   "metadata": {
    "ExecuteTime": {
     "end_time": "2025-02-03T21:36:22.778223Z",
     "start_time": "2025-02-03T21:36:22.088451Z"
    }
   },
   "source": [
    "from IPython.core.display import HTML\n",
    "import matplotlib.pyplot as plt\n",
    "import numpy as np\n",
    "\n",
    "import matplotlib.animation as animation\n",
    "\n",
    "# Create figure and 3D axis\n",
    "fig = plt.figure(figsize=(8, 6))\n",
    "ax = fig.add_subplot(111, projection='3d')\n",
    "\n",
    "# Initialize scatter plot (we'll update this later)\n",
    "sc = ax.scatter([], [], [], c='blue', marker='o')\n",
    "\n",
    "# Set axis limits (adjust based on your data)\n",
    "ax.set_xlim(0, 1)\n",
    "ax.set_ylim(0, 1)\n",
    "ax.set_zlim(0, 1)\n",
    "\n",
    "ax.set_xlabel(\"X-axis\")\n",
    "ax.set_ylabel(\"Y-axis\")\n",
    "ax.set_zlabel(\"Z-axis\")\n",
    "ax.set_title(\"Membrane Vertex Animation\")\n",
    "\n",
    "def get_times(sim):\n",
    "    return [t for t in range(\n",
    "        len(sim.gather_results()[('emitter',)])\n",
    "    )]\n",
    "\n",
    "def update(frame):\n",
    "    # Get the vertex positions for the current timestep\n",
    "    vertices = sim_results[frame]['geometry']['vertices']\n",
    "\n",
    "    # Extract x, y, z coordinates\n",
    "    x, y, z = vertices[::3], vertices[1::3], vertices[2::3]\n",
    "\n",
    "    # Update scatter plot data\n",
    "    sc._offsets3d = (x, y, z)\n",
    "\n",
    "    return sc,\n",
    "\n",
    "\n",
    "fig.colorbar(sc, ax=ax, label='Intensity')\n",
    "ani = animation.FuncAnimation(fig, update, len(get_times(sim)), blit=False)\n",
    "HTML(ani.to_jshtml())"
   ],
   "outputs": [
    {
     "ename": "ValueError",
     "evalue": "shapes (4,4) and (4,54,3) not aligned: 4 (dim 1) != 54 (dim 1)",
     "output_type": "error",
     "traceback": [
      "\u001B[0;31m---------------------------------------------------------------------------\u001B[0m",
      "\u001B[0;31mValueError\u001B[0m                                Traceback (most recent call last)",
      "Cell \u001B[0;32mIn[9], line 44\u001B[0m\n\u001B[1;32m     42\u001B[0m fig\u001B[38;5;241m.\u001B[39mcolorbar(sc, ax\u001B[38;5;241m=\u001B[39max, label\u001B[38;5;241m=\u001B[39m\u001B[38;5;124m'\u001B[39m\u001B[38;5;124mIntensity\u001B[39m\u001B[38;5;124m'\u001B[39m)\n\u001B[1;32m     43\u001B[0m ani \u001B[38;5;241m=\u001B[39m animation\u001B[38;5;241m.\u001B[39mFuncAnimation(fig, update, \u001B[38;5;28mlen\u001B[39m(get_times(sim)), blit\u001B[38;5;241m=\u001B[39m\u001B[38;5;28;01mFalse\u001B[39;00m)\n\u001B[0;32m---> 44\u001B[0m HTML(\u001B[43mani\u001B[49m\u001B[38;5;241;43m.\u001B[39;49m\u001B[43mto_jshtml\u001B[49m\u001B[43m(\u001B[49m\u001B[43m)\u001B[49m)\n",
      "File \u001B[0;32m~/miniforge3/envs/bsp/lib/python3.10/site-packages/matplotlib/animation.py:1376\u001B[0m, in \u001B[0;36mAnimation.to_jshtml\u001B[0;34m(self, fps, embed_frames, default_mode)\u001B[0m\n\u001B[1;32m   1372\u001B[0m         path \u001B[38;5;241m=\u001B[39m Path(tmpdir, \u001B[38;5;124m\"\u001B[39m\u001B[38;5;124mtemp.html\u001B[39m\u001B[38;5;124m\"\u001B[39m)\n\u001B[1;32m   1373\u001B[0m         writer \u001B[38;5;241m=\u001B[39m HTMLWriter(fps\u001B[38;5;241m=\u001B[39mfps,\n\u001B[1;32m   1374\u001B[0m                             embed_frames\u001B[38;5;241m=\u001B[39membed_frames,\n\u001B[1;32m   1375\u001B[0m                             default_mode\u001B[38;5;241m=\u001B[39mdefault_mode)\n\u001B[0;32m-> 1376\u001B[0m         \u001B[38;5;28;43mself\u001B[39;49m\u001B[38;5;241;43m.\u001B[39;49m\u001B[43msave\u001B[49m\u001B[43m(\u001B[49m\u001B[38;5;28;43mstr\u001B[39;49m\u001B[43m(\u001B[49m\u001B[43mpath\u001B[49m\u001B[43m)\u001B[49m\u001B[43m,\u001B[49m\u001B[43m \u001B[49m\u001B[43mwriter\u001B[49m\u001B[38;5;241;43m=\u001B[39;49m\u001B[43mwriter\u001B[49m\u001B[43m)\u001B[49m\n\u001B[1;32m   1377\u001B[0m         \u001B[38;5;28mself\u001B[39m\u001B[38;5;241m.\u001B[39m_html_representation \u001B[38;5;241m=\u001B[39m path\u001B[38;5;241m.\u001B[39mread_text()\n\u001B[1;32m   1379\u001B[0m \u001B[38;5;28;01mreturn\u001B[39;00m \u001B[38;5;28mself\u001B[39m\u001B[38;5;241m.\u001B[39m_html_representation\n",
      "File \u001B[0;32m~/miniforge3/envs/bsp/lib/python3.10/site-packages/matplotlib/animation.py:1122\u001B[0m, in \u001B[0;36mAnimation.save\u001B[0;34m(self, filename, writer, fps, dpi, codec, bitrate, extra_args, metadata, extra_anim, savefig_kwargs, progress_callback)\u001B[0m\n\u001B[1;32m   1119\u001B[0m \u001B[38;5;28;01mfor\u001B[39;00m data \u001B[38;5;129;01min\u001B[39;00m \u001B[38;5;28mzip\u001B[39m(\u001B[38;5;241m*\u001B[39m[a\u001B[38;5;241m.\u001B[39mnew_saved_frame_seq() \u001B[38;5;28;01mfor\u001B[39;00m a \u001B[38;5;129;01min\u001B[39;00m all_anim]):\n\u001B[1;32m   1120\u001B[0m     \u001B[38;5;28;01mfor\u001B[39;00m anim, d \u001B[38;5;129;01min\u001B[39;00m \u001B[38;5;28mzip\u001B[39m(all_anim, data):\n\u001B[1;32m   1121\u001B[0m         \u001B[38;5;66;03m# TODO: See if turning off blit is really necessary\u001B[39;00m\n\u001B[0;32m-> 1122\u001B[0m         \u001B[43manim\u001B[49m\u001B[38;5;241;43m.\u001B[39;49m\u001B[43m_draw_next_frame\u001B[49m\u001B[43m(\u001B[49m\u001B[43md\u001B[49m\u001B[43m,\u001B[49m\u001B[43m \u001B[49m\u001B[43mblit\u001B[49m\u001B[38;5;241;43m=\u001B[39;49m\u001B[38;5;28;43;01mFalse\u001B[39;49;00m\u001B[43m)\u001B[49m\n\u001B[1;32m   1123\u001B[0m         \u001B[38;5;28;01mif\u001B[39;00m progress_callback \u001B[38;5;129;01mis\u001B[39;00m \u001B[38;5;129;01mnot\u001B[39;00m \u001B[38;5;28;01mNone\u001B[39;00m:\n\u001B[1;32m   1124\u001B[0m             progress_callback(frame_number, total_frames)\n",
      "File \u001B[0;32m~/miniforge3/envs/bsp/lib/python3.10/site-packages/matplotlib/animation.py:1158\u001B[0m, in \u001B[0;36mAnimation._draw_next_frame\u001B[0;34m(self, framedata, blit)\u001B[0m\n\u001B[1;32m   1156\u001B[0m \u001B[38;5;28mself\u001B[39m\u001B[38;5;241m.\u001B[39m_pre_draw(framedata, blit)\n\u001B[1;32m   1157\u001B[0m \u001B[38;5;28mself\u001B[39m\u001B[38;5;241m.\u001B[39m_draw_frame(framedata)\n\u001B[0;32m-> 1158\u001B[0m \u001B[38;5;28;43mself\u001B[39;49m\u001B[38;5;241;43m.\u001B[39;49m\u001B[43m_post_draw\u001B[49m\u001B[43m(\u001B[49m\u001B[43mframedata\u001B[49m\u001B[43m,\u001B[49m\u001B[43m \u001B[49m\u001B[43mblit\u001B[49m\u001B[43m)\u001B[49m\n",
      "File \u001B[0;32m~/miniforge3/envs/bsp/lib/python3.10/site-packages/matplotlib/animation.py:1183\u001B[0m, in \u001B[0;36mAnimation._post_draw\u001B[0;34m(self, framedata, blit)\u001B[0m\n\u001B[1;32m   1181\u001B[0m     \u001B[38;5;28mself\u001B[39m\u001B[38;5;241m.\u001B[39m_blit_draw(\u001B[38;5;28mself\u001B[39m\u001B[38;5;241m.\u001B[39m_drawn_artists)\n\u001B[1;32m   1182\u001B[0m \u001B[38;5;28;01melse\u001B[39;00m:\n\u001B[0;32m-> 1183\u001B[0m     \u001B[38;5;28;43mself\u001B[39;49m\u001B[38;5;241;43m.\u001B[39;49m\u001B[43m_fig\u001B[49m\u001B[38;5;241;43m.\u001B[39;49m\u001B[43mcanvas\u001B[49m\u001B[38;5;241;43m.\u001B[39;49m\u001B[43mdraw_idle\u001B[49m\u001B[43m(\u001B[49m\u001B[43m)\u001B[49m\n",
      "File \u001B[0;32m~/miniforge3/envs/bsp/lib/python3.10/site-packages/matplotlib/backend_bases.py:1891\u001B[0m, in \u001B[0;36mFigureCanvasBase.draw_idle\u001B[0;34m(self, *args, **kwargs)\u001B[0m\n\u001B[1;32m   1889\u001B[0m \u001B[38;5;28;01mif\u001B[39;00m \u001B[38;5;129;01mnot\u001B[39;00m \u001B[38;5;28mself\u001B[39m\u001B[38;5;241m.\u001B[39m_is_idle_drawing:\n\u001B[1;32m   1890\u001B[0m     \u001B[38;5;28;01mwith\u001B[39;00m \u001B[38;5;28mself\u001B[39m\u001B[38;5;241m.\u001B[39m_idle_draw_cntx():\n\u001B[0;32m-> 1891\u001B[0m         \u001B[38;5;28;43mself\u001B[39;49m\u001B[38;5;241;43m.\u001B[39;49m\u001B[43mdraw\u001B[49m\u001B[43m(\u001B[49m\u001B[38;5;241;43m*\u001B[39;49m\u001B[43margs\u001B[49m\u001B[43m,\u001B[49m\u001B[43m \u001B[49m\u001B[38;5;241;43m*\u001B[39;49m\u001B[38;5;241;43m*\u001B[39;49m\u001B[43mkwargs\u001B[49m\u001B[43m)\u001B[49m\n",
      "File \u001B[0;32m~/miniforge3/envs/bsp/lib/python3.10/site-packages/matplotlib/backends/backend_agg.py:382\u001B[0m, in \u001B[0;36mFigureCanvasAgg.draw\u001B[0;34m(self)\u001B[0m\n\u001B[1;32m    379\u001B[0m \u001B[38;5;66;03m# Acquire a lock on the shared font cache.\u001B[39;00m\n\u001B[1;32m    380\u001B[0m \u001B[38;5;28;01mwith\u001B[39;00m (\u001B[38;5;28mself\u001B[39m\u001B[38;5;241m.\u001B[39mtoolbar\u001B[38;5;241m.\u001B[39m_wait_cursor_for_draw_cm() \u001B[38;5;28;01mif\u001B[39;00m \u001B[38;5;28mself\u001B[39m\u001B[38;5;241m.\u001B[39mtoolbar\n\u001B[1;32m    381\u001B[0m       \u001B[38;5;28;01melse\u001B[39;00m nullcontext()):\n\u001B[0;32m--> 382\u001B[0m     \u001B[38;5;28;43mself\u001B[39;49m\u001B[38;5;241;43m.\u001B[39;49m\u001B[43mfigure\u001B[49m\u001B[38;5;241;43m.\u001B[39;49m\u001B[43mdraw\u001B[49m\u001B[43m(\u001B[49m\u001B[38;5;28;43mself\u001B[39;49m\u001B[38;5;241;43m.\u001B[39;49m\u001B[43mrenderer\u001B[49m\u001B[43m)\u001B[49m\n\u001B[1;32m    383\u001B[0m     \u001B[38;5;66;03m# A GUI class may be need to update a window using this draw, so\u001B[39;00m\n\u001B[1;32m    384\u001B[0m     \u001B[38;5;66;03m# don't forget to call the superclass.\u001B[39;00m\n\u001B[1;32m    385\u001B[0m     \u001B[38;5;28msuper\u001B[39m()\u001B[38;5;241m.\u001B[39mdraw()\n",
      "File \u001B[0;32m~/miniforge3/envs/bsp/lib/python3.10/site-packages/matplotlib/artist.py:94\u001B[0m, in \u001B[0;36m_finalize_rasterization.<locals>.draw_wrapper\u001B[0;34m(artist, renderer, *args, **kwargs)\u001B[0m\n\u001B[1;32m     92\u001B[0m \u001B[38;5;129m@wraps\u001B[39m(draw)\n\u001B[1;32m     93\u001B[0m \u001B[38;5;28;01mdef\u001B[39;00m\u001B[38;5;250m \u001B[39m\u001B[38;5;21mdraw_wrapper\u001B[39m(artist, renderer, \u001B[38;5;241m*\u001B[39margs, \u001B[38;5;241m*\u001B[39m\u001B[38;5;241m*\u001B[39mkwargs):\n\u001B[0;32m---> 94\u001B[0m     result \u001B[38;5;241m=\u001B[39m \u001B[43mdraw\u001B[49m\u001B[43m(\u001B[49m\u001B[43martist\u001B[49m\u001B[43m,\u001B[49m\u001B[43m \u001B[49m\u001B[43mrenderer\u001B[49m\u001B[43m,\u001B[49m\u001B[43m \u001B[49m\u001B[38;5;241;43m*\u001B[39;49m\u001B[43margs\u001B[49m\u001B[43m,\u001B[49m\u001B[43m \u001B[49m\u001B[38;5;241;43m*\u001B[39;49m\u001B[38;5;241;43m*\u001B[39;49m\u001B[43mkwargs\u001B[49m\u001B[43m)\u001B[49m\n\u001B[1;32m     95\u001B[0m     \u001B[38;5;28;01mif\u001B[39;00m renderer\u001B[38;5;241m.\u001B[39m_rasterizing:\n\u001B[1;32m     96\u001B[0m         renderer\u001B[38;5;241m.\u001B[39mstop_rasterizing()\n",
      "File \u001B[0;32m~/miniforge3/envs/bsp/lib/python3.10/site-packages/matplotlib/artist.py:71\u001B[0m, in \u001B[0;36mallow_rasterization.<locals>.draw_wrapper\u001B[0;34m(artist, renderer)\u001B[0m\n\u001B[1;32m     68\u001B[0m     \u001B[38;5;28;01mif\u001B[39;00m artist\u001B[38;5;241m.\u001B[39mget_agg_filter() \u001B[38;5;129;01mis\u001B[39;00m \u001B[38;5;129;01mnot\u001B[39;00m \u001B[38;5;28;01mNone\u001B[39;00m:\n\u001B[1;32m     69\u001B[0m         renderer\u001B[38;5;241m.\u001B[39mstart_filter()\n\u001B[0;32m---> 71\u001B[0m     \u001B[38;5;28;01mreturn\u001B[39;00m \u001B[43mdraw\u001B[49m\u001B[43m(\u001B[49m\u001B[43martist\u001B[49m\u001B[43m,\u001B[49m\u001B[43m \u001B[49m\u001B[43mrenderer\u001B[49m\u001B[43m)\u001B[49m\n\u001B[1;32m     72\u001B[0m \u001B[38;5;28;01mfinally\u001B[39;00m:\n\u001B[1;32m     73\u001B[0m     \u001B[38;5;28;01mif\u001B[39;00m artist\u001B[38;5;241m.\u001B[39mget_agg_filter() \u001B[38;5;129;01mis\u001B[39;00m \u001B[38;5;129;01mnot\u001B[39;00m \u001B[38;5;28;01mNone\u001B[39;00m:\n",
      "File \u001B[0;32m~/miniforge3/envs/bsp/lib/python3.10/site-packages/matplotlib/figure.py:3257\u001B[0m, in \u001B[0;36mFigure.draw\u001B[0;34m(self, renderer)\u001B[0m\n\u001B[1;32m   3254\u001B[0m             \u001B[38;5;66;03m# ValueError can occur when resizing a window.\u001B[39;00m\n\u001B[1;32m   3256\u001B[0m     \u001B[38;5;28mself\u001B[39m\u001B[38;5;241m.\u001B[39mpatch\u001B[38;5;241m.\u001B[39mdraw(renderer)\n\u001B[0;32m-> 3257\u001B[0m     \u001B[43mmimage\u001B[49m\u001B[38;5;241;43m.\u001B[39;49m\u001B[43m_draw_list_compositing_images\u001B[49m\u001B[43m(\u001B[49m\n\u001B[1;32m   3258\u001B[0m \u001B[43m        \u001B[49m\u001B[43mrenderer\u001B[49m\u001B[43m,\u001B[49m\u001B[43m \u001B[49m\u001B[38;5;28;43mself\u001B[39;49m\u001B[43m,\u001B[49m\u001B[43m \u001B[49m\u001B[43martists\u001B[49m\u001B[43m,\u001B[49m\u001B[43m \u001B[49m\u001B[38;5;28;43mself\u001B[39;49m\u001B[38;5;241;43m.\u001B[39;49m\u001B[43msuppressComposite\u001B[49m\u001B[43m)\u001B[49m\n\u001B[1;32m   3260\u001B[0m     renderer\u001B[38;5;241m.\u001B[39mclose_group(\u001B[38;5;124m'\u001B[39m\u001B[38;5;124mfigure\u001B[39m\u001B[38;5;124m'\u001B[39m)\n\u001B[1;32m   3261\u001B[0m \u001B[38;5;28;01mfinally\u001B[39;00m:\n",
      "File \u001B[0;32m~/miniforge3/envs/bsp/lib/python3.10/site-packages/matplotlib/image.py:134\u001B[0m, in \u001B[0;36m_draw_list_compositing_images\u001B[0;34m(renderer, parent, artists, suppress_composite)\u001B[0m\n\u001B[1;32m    132\u001B[0m \u001B[38;5;28;01mif\u001B[39;00m not_composite \u001B[38;5;129;01mor\u001B[39;00m \u001B[38;5;129;01mnot\u001B[39;00m has_images:\n\u001B[1;32m    133\u001B[0m     \u001B[38;5;28;01mfor\u001B[39;00m a \u001B[38;5;129;01min\u001B[39;00m artists:\n\u001B[0;32m--> 134\u001B[0m         \u001B[43ma\u001B[49m\u001B[38;5;241;43m.\u001B[39;49m\u001B[43mdraw\u001B[49m\u001B[43m(\u001B[49m\u001B[43mrenderer\u001B[49m\u001B[43m)\u001B[49m\n\u001B[1;32m    135\u001B[0m \u001B[38;5;28;01melse\u001B[39;00m:\n\u001B[1;32m    136\u001B[0m     \u001B[38;5;66;03m# Composite any adjacent images together\u001B[39;00m\n\u001B[1;32m    137\u001B[0m     image_group \u001B[38;5;241m=\u001B[39m []\n",
      "File \u001B[0;32m~/miniforge3/envs/bsp/lib/python3.10/site-packages/matplotlib/artist.py:71\u001B[0m, in \u001B[0;36mallow_rasterization.<locals>.draw_wrapper\u001B[0;34m(artist, renderer)\u001B[0m\n\u001B[1;32m     68\u001B[0m     \u001B[38;5;28;01mif\u001B[39;00m artist\u001B[38;5;241m.\u001B[39mget_agg_filter() \u001B[38;5;129;01mis\u001B[39;00m \u001B[38;5;129;01mnot\u001B[39;00m \u001B[38;5;28;01mNone\u001B[39;00m:\n\u001B[1;32m     69\u001B[0m         renderer\u001B[38;5;241m.\u001B[39mstart_filter()\n\u001B[0;32m---> 71\u001B[0m     \u001B[38;5;28;01mreturn\u001B[39;00m \u001B[43mdraw\u001B[49m\u001B[43m(\u001B[49m\u001B[43martist\u001B[49m\u001B[43m,\u001B[49m\u001B[43m \u001B[49m\u001B[43mrenderer\u001B[49m\u001B[43m)\u001B[49m\n\u001B[1;32m     72\u001B[0m \u001B[38;5;28;01mfinally\u001B[39;00m:\n\u001B[1;32m     73\u001B[0m     \u001B[38;5;28;01mif\u001B[39;00m artist\u001B[38;5;241m.\u001B[39mget_agg_filter() \u001B[38;5;129;01mis\u001B[39;00m \u001B[38;5;129;01mnot\u001B[39;00m \u001B[38;5;28;01mNone\u001B[39;00m:\n",
      "File \u001B[0;32m~/miniforge3/envs/bsp/lib/python3.10/site-packages/mpl_toolkits/mplot3d/axes3d.py:445\u001B[0m, in \u001B[0;36mAxes3D.draw\u001B[0;34m(self, renderer)\u001B[0m\n\u001B[1;32m    441\u001B[0m zorder_offset \u001B[38;5;241m=\u001B[39m \u001B[38;5;28mmax\u001B[39m(axis\u001B[38;5;241m.\u001B[39mget_zorder()\n\u001B[1;32m    442\u001B[0m                     \u001B[38;5;28;01mfor\u001B[39;00m axis \u001B[38;5;129;01min\u001B[39;00m \u001B[38;5;28mself\u001B[39m\u001B[38;5;241m.\u001B[39m_axis_map\u001B[38;5;241m.\u001B[39mvalues()) \u001B[38;5;241m+\u001B[39m \u001B[38;5;241m1\u001B[39m\n\u001B[1;32m    443\u001B[0m collection_zorder \u001B[38;5;241m=\u001B[39m patch_zorder \u001B[38;5;241m=\u001B[39m zorder_offset\n\u001B[0;32m--> 445\u001B[0m \u001B[38;5;28;01mfor\u001B[39;00m artist \u001B[38;5;129;01min\u001B[39;00m \u001B[38;5;28;43msorted\u001B[39;49m\u001B[43m(\u001B[49m\u001B[43mcollections_and_patches\u001B[49m\u001B[43m,\u001B[49m\n\u001B[1;32m    446\u001B[0m \u001B[43m                     \u001B[49m\u001B[43mkey\u001B[49m\u001B[38;5;241;43m=\u001B[39;49m\u001B[38;5;28;43;01mlambda\u001B[39;49;00m\u001B[43m \u001B[49m\u001B[43martist\u001B[49m\u001B[43m:\u001B[49m\u001B[43m \u001B[49m\u001B[43martist\u001B[49m\u001B[38;5;241;43m.\u001B[39;49m\u001B[43mdo_3d_projection\u001B[49m\u001B[43m(\u001B[49m\u001B[43m)\u001B[49m\u001B[43m,\u001B[49m\n\u001B[1;32m    447\u001B[0m \u001B[43m                     \u001B[49m\u001B[43mreverse\u001B[49m\u001B[38;5;241;43m=\u001B[39;49m\u001B[38;5;28;43;01mTrue\u001B[39;49;00m\u001B[43m)\u001B[49m:\n\u001B[1;32m    448\u001B[0m     \u001B[38;5;28;01mif\u001B[39;00m \u001B[38;5;28misinstance\u001B[39m(artist, mcoll\u001B[38;5;241m.\u001B[39mCollection):\n\u001B[1;32m    449\u001B[0m         artist\u001B[38;5;241m.\u001B[39mzorder \u001B[38;5;241m=\u001B[39m collection_zorder\n",
      "File \u001B[0;32m~/miniforge3/envs/bsp/lib/python3.10/site-packages/mpl_toolkits/mplot3d/axes3d.py:446\u001B[0m, in \u001B[0;36mAxes3D.draw.<locals>.<lambda>\u001B[0;34m(artist)\u001B[0m\n\u001B[1;32m    441\u001B[0m zorder_offset \u001B[38;5;241m=\u001B[39m \u001B[38;5;28mmax\u001B[39m(axis\u001B[38;5;241m.\u001B[39mget_zorder()\n\u001B[1;32m    442\u001B[0m                     \u001B[38;5;28;01mfor\u001B[39;00m axis \u001B[38;5;129;01min\u001B[39;00m \u001B[38;5;28mself\u001B[39m\u001B[38;5;241m.\u001B[39m_axis_map\u001B[38;5;241m.\u001B[39mvalues()) \u001B[38;5;241m+\u001B[39m \u001B[38;5;241m1\u001B[39m\n\u001B[1;32m    443\u001B[0m collection_zorder \u001B[38;5;241m=\u001B[39m patch_zorder \u001B[38;5;241m=\u001B[39m zorder_offset\n\u001B[1;32m    445\u001B[0m \u001B[38;5;28;01mfor\u001B[39;00m artist \u001B[38;5;129;01min\u001B[39;00m \u001B[38;5;28msorted\u001B[39m(collections_and_patches,\n\u001B[0;32m--> 446\u001B[0m                      key\u001B[38;5;241m=\u001B[39m\u001B[38;5;28;01mlambda\u001B[39;00m artist: \u001B[43martist\u001B[49m\u001B[38;5;241;43m.\u001B[39;49m\u001B[43mdo_3d_projection\u001B[49m\u001B[43m(\u001B[49m\u001B[43m)\u001B[49m,\n\u001B[1;32m    447\u001B[0m                      reverse\u001B[38;5;241m=\u001B[39m\u001B[38;5;28;01mTrue\u001B[39;00m):\n\u001B[1;32m    448\u001B[0m     \u001B[38;5;28;01mif\u001B[39;00m \u001B[38;5;28misinstance\u001B[39m(artist, mcoll\u001B[38;5;241m.\u001B[39mCollection):\n\u001B[1;32m    449\u001B[0m         artist\u001B[38;5;241m.\u001B[39mzorder \u001B[38;5;241m=\u001B[39m collection_zorder\n",
      "File \u001B[0;32m~/miniforge3/envs/bsp/lib/python3.10/site-packages/mpl_toolkits/mplot3d/art3d.py:858\u001B[0m, in \u001B[0;36mPath3DCollection.do_3d_projection\u001B[0;34m(self)\u001B[0m\n\u001B[1;32m    856\u001B[0m \u001B[38;5;28;01melse\u001B[39;00m:\n\u001B[1;32m    857\u001B[0m     xs, ys, zs \u001B[38;5;241m=\u001B[39m \u001B[38;5;28mself\u001B[39m\u001B[38;5;241m.\u001B[39m_offsets3d\n\u001B[0;32m--> 858\u001B[0m vxs, vys, vzs, vis \u001B[38;5;241m=\u001B[39m \u001B[43mproj3d\u001B[49m\u001B[38;5;241;43m.\u001B[39;49m\u001B[43m_proj_transform_clip\u001B[49m\u001B[43m(\u001B[49m\u001B[43mxs\u001B[49m\u001B[43m,\u001B[49m\u001B[43m \u001B[49m\u001B[43mys\u001B[49m\u001B[43m,\u001B[49m\u001B[43m \u001B[49m\u001B[43mzs\u001B[49m\u001B[43m,\u001B[49m\n\u001B[1;32m    859\u001B[0m \u001B[43m                                                 \u001B[49m\u001B[38;5;28;43mself\u001B[39;49m\u001B[38;5;241;43m.\u001B[39;49m\u001B[43maxes\u001B[49m\u001B[38;5;241;43m.\u001B[39;49m\u001B[43mM\u001B[49m\u001B[43m,\u001B[49m\n\u001B[1;32m    860\u001B[0m \u001B[43m                                                 \u001B[49m\u001B[38;5;28;43mself\u001B[39;49m\u001B[38;5;241;43m.\u001B[39;49m\u001B[43maxes\u001B[49m\u001B[38;5;241;43m.\u001B[39;49m\u001B[43m_focal_length\u001B[49m\u001B[43m)\u001B[49m\n\u001B[1;32m    861\u001B[0m \u001B[38;5;66;03m# Sort the points based on z coordinates\u001B[39;00m\n\u001B[1;32m    862\u001B[0m \u001B[38;5;66;03m# Performance optimization: Create a sorted index array and reorder\u001B[39;00m\n\u001B[1;32m    863\u001B[0m \u001B[38;5;66;03m# points and point properties according to the index array\u001B[39;00m\n\u001B[1;32m    864\u001B[0m z_markers_idx \u001B[38;5;241m=\u001B[39m \u001B[38;5;28mself\u001B[39m\u001B[38;5;241m.\u001B[39m_z_markers_idx \u001B[38;5;241m=\u001B[39m np\u001B[38;5;241m.\u001B[39mma\u001B[38;5;241m.\u001B[39margsort(vzs)[::\u001B[38;5;241m-\u001B[39m\u001B[38;5;241m1\u001B[39m]\n",
      "File \u001B[0;32m~/miniforge3/envs/bsp/lib/python3.10/site-packages/mpl_toolkits/mplot3d/proj3d.py:209\u001B[0m, in \u001B[0;36m_proj_transform_clip\u001B[0;34m(xs, ys, zs, M, focal_length)\u001B[0m\n\u001B[1;32m    203\u001B[0m \u001B[38;5;250m\u001B[39m\u001B[38;5;124;03m\"\"\"\u001B[39;00m\n\u001B[1;32m    204\u001B[0m \u001B[38;5;124;03mTransform the points by the projection matrix\u001B[39;00m\n\u001B[1;32m    205\u001B[0m \u001B[38;5;124;03mand return the clipping result\u001B[39;00m\n\u001B[1;32m    206\u001B[0m \u001B[38;5;124;03mreturns txs, tys, tzs, tis\u001B[39;00m\n\u001B[1;32m    207\u001B[0m \u001B[38;5;124;03m\"\"\"\u001B[39;00m\n\u001B[1;32m    208\u001B[0m vec \u001B[38;5;241m=\u001B[39m _vec_pad_ones(xs, ys, zs)\n\u001B[0;32m--> 209\u001B[0m \u001B[38;5;28;01mreturn\u001B[39;00m \u001B[43m_proj_transform_vec_clip\u001B[49m\u001B[43m(\u001B[49m\u001B[43mvec\u001B[49m\u001B[43m,\u001B[49m\u001B[43m \u001B[49m\u001B[43mM\u001B[49m\u001B[43m,\u001B[49m\u001B[43m \u001B[49m\u001B[43mfocal_length\u001B[49m\u001B[43m)\u001B[49m\n",
      "File \u001B[0;32m~/miniforge3/envs/bsp/lib/python3.10/site-packages/mpl_toolkits/mplot3d/proj3d.py:148\u001B[0m, in \u001B[0;36m_proj_transform_vec_clip\u001B[0;34m(vec, M, focal_length)\u001B[0m\n\u001B[1;32m    147\u001B[0m \u001B[38;5;28;01mdef\u001B[39;00m\u001B[38;5;250m \u001B[39m\u001B[38;5;21m_proj_transform_vec_clip\u001B[39m(vec, M, focal_length):\n\u001B[0;32m--> 148\u001B[0m     vecw \u001B[38;5;241m=\u001B[39m \u001B[43mnp\u001B[49m\u001B[38;5;241;43m.\u001B[39;49m\u001B[43mdot\u001B[49m\u001B[43m(\u001B[49m\u001B[43mM\u001B[49m\u001B[43m,\u001B[49m\u001B[43m \u001B[49m\u001B[43mvec\u001B[49m\u001B[38;5;241;43m.\u001B[39;49m\u001B[43mdata\u001B[49m\u001B[43m)\u001B[49m\n\u001B[1;32m    149\u001B[0m     w \u001B[38;5;241m=\u001B[39m vecw[\u001B[38;5;241m3\u001B[39m]\n\u001B[1;32m    150\u001B[0m     txs, tys, tzs \u001B[38;5;241m=\u001B[39m vecw[\u001B[38;5;241m0\u001B[39m] \u001B[38;5;241m/\u001B[39m w, vecw[\u001B[38;5;241m1\u001B[39m] \u001B[38;5;241m/\u001B[39m w, vecw[\u001B[38;5;241m2\u001B[39m] \u001B[38;5;241m/\u001B[39m w\n",
      "\u001B[0;31mValueError\u001B[0m: shapes (4,4) and (4,54,3) not aligned: 4 (dim 1) != 54 (dim 1)"
     ]
    },
    {
     "ename": "ValueError",
     "evalue": "shapes (4,4) and (4,54,3) not aligned: 4 (dim 1) != 54 (dim 1)",
     "output_type": "error",
     "traceback": [
      "\u001B[0;31m---------------------------------------------------------------------------\u001B[0m",
      "\u001B[0;31mValueError\u001B[0m                                Traceback (most recent call last)",
      "File \u001B[0;32m~/miniforge3/envs/bsp/lib/python3.10/site-packages/IPython/core/formatters.py:402\u001B[0m, in \u001B[0;36mBaseFormatter.__call__\u001B[0;34m(self, obj)\u001B[0m\n\u001B[1;32m    400\u001B[0m     \u001B[38;5;28;01mpass\u001B[39;00m\n\u001B[1;32m    401\u001B[0m \u001B[38;5;28;01melse\u001B[39;00m:\n\u001B[0;32m--> 402\u001B[0m     \u001B[38;5;28;01mreturn\u001B[39;00m \u001B[43mprinter\u001B[49m\u001B[43m(\u001B[49m\u001B[43mobj\u001B[49m\u001B[43m)\u001B[49m\n\u001B[1;32m    403\u001B[0m \u001B[38;5;66;03m# Finally look for special method names\u001B[39;00m\n\u001B[1;32m    404\u001B[0m method \u001B[38;5;241m=\u001B[39m get_real_method(obj, \u001B[38;5;28mself\u001B[39m\u001B[38;5;241m.\u001B[39mprint_method)\n",
      "File \u001B[0;32m~/miniforge3/envs/bsp/lib/python3.10/site-packages/IPython/core/pylabtools.py:170\u001B[0m, in \u001B[0;36mprint_figure\u001B[0;34m(fig, fmt, bbox_inches, base64, **kwargs)\u001B[0m\n\u001B[1;32m    167\u001B[0m     \u001B[38;5;28;01mfrom\u001B[39;00m\u001B[38;5;250m \u001B[39m\u001B[38;5;21;01mmatplotlib\u001B[39;00m\u001B[38;5;21;01m.\u001B[39;00m\u001B[38;5;21;01mbackend_bases\u001B[39;00m\u001B[38;5;250m \u001B[39m\u001B[38;5;28;01mimport\u001B[39;00m FigureCanvasBase\n\u001B[1;32m    168\u001B[0m     FigureCanvasBase(fig)\n\u001B[0;32m--> 170\u001B[0m \u001B[43mfig\u001B[49m\u001B[38;5;241;43m.\u001B[39;49m\u001B[43mcanvas\u001B[49m\u001B[38;5;241;43m.\u001B[39;49m\u001B[43mprint_figure\u001B[49m\u001B[43m(\u001B[49m\u001B[43mbytes_io\u001B[49m\u001B[43m,\u001B[49m\u001B[43m \u001B[49m\u001B[38;5;241;43m*\u001B[39;49m\u001B[38;5;241;43m*\u001B[39;49m\u001B[43mkw\u001B[49m\u001B[43m)\u001B[49m\n\u001B[1;32m    171\u001B[0m data \u001B[38;5;241m=\u001B[39m bytes_io\u001B[38;5;241m.\u001B[39mgetvalue()\n\u001B[1;32m    172\u001B[0m \u001B[38;5;28;01mif\u001B[39;00m fmt \u001B[38;5;241m==\u001B[39m \u001B[38;5;124m'\u001B[39m\u001B[38;5;124msvg\u001B[39m\u001B[38;5;124m'\u001B[39m:\n",
      "File \u001B[0;32m~/miniforge3/envs/bsp/lib/python3.10/site-packages/matplotlib/backend_bases.py:2155\u001B[0m, in \u001B[0;36mFigureCanvasBase.print_figure\u001B[0;34m(self, filename, dpi, facecolor, edgecolor, orientation, format, bbox_inches, pad_inches, bbox_extra_artists, backend, **kwargs)\u001B[0m\n\u001B[1;32m   2152\u001B[0m     \u001B[38;5;66;03m# we do this instead of `self.figure.draw_without_rendering`\u001B[39;00m\n\u001B[1;32m   2153\u001B[0m     \u001B[38;5;66;03m# so that we can inject the orientation\u001B[39;00m\n\u001B[1;32m   2154\u001B[0m     \u001B[38;5;28;01mwith\u001B[39;00m \u001B[38;5;28mgetattr\u001B[39m(renderer, \u001B[38;5;124m\"\u001B[39m\u001B[38;5;124m_draw_disabled\u001B[39m\u001B[38;5;124m\"\u001B[39m, nullcontext)():\n\u001B[0;32m-> 2155\u001B[0m         \u001B[38;5;28;43mself\u001B[39;49m\u001B[38;5;241;43m.\u001B[39;49m\u001B[43mfigure\u001B[49m\u001B[38;5;241;43m.\u001B[39;49m\u001B[43mdraw\u001B[49m\u001B[43m(\u001B[49m\u001B[43mrenderer\u001B[49m\u001B[43m)\u001B[49m\n\u001B[1;32m   2156\u001B[0m \u001B[38;5;28;01mif\u001B[39;00m bbox_inches:\n\u001B[1;32m   2157\u001B[0m     \u001B[38;5;28;01mif\u001B[39;00m bbox_inches \u001B[38;5;241m==\u001B[39m \u001B[38;5;124m\"\u001B[39m\u001B[38;5;124mtight\u001B[39m\u001B[38;5;124m\"\u001B[39m:\n",
      "File \u001B[0;32m~/miniforge3/envs/bsp/lib/python3.10/site-packages/matplotlib/artist.py:94\u001B[0m, in \u001B[0;36m_finalize_rasterization.<locals>.draw_wrapper\u001B[0;34m(artist, renderer, *args, **kwargs)\u001B[0m\n\u001B[1;32m     92\u001B[0m \u001B[38;5;129m@wraps\u001B[39m(draw)\n\u001B[1;32m     93\u001B[0m \u001B[38;5;28;01mdef\u001B[39;00m\u001B[38;5;250m \u001B[39m\u001B[38;5;21mdraw_wrapper\u001B[39m(artist, renderer, \u001B[38;5;241m*\u001B[39margs, \u001B[38;5;241m*\u001B[39m\u001B[38;5;241m*\u001B[39mkwargs):\n\u001B[0;32m---> 94\u001B[0m     result \u001B[38;5;241m=\u001B[39m \u001B[43mdraw\u001B[49m\u001B[43m(\u001B[49m\u001B[43martist\u001B[49m\u001B[43m,\u001B[49m\u001B[43m \u001B[49m\u001B[43mrenderer\u001B[49m\u001B[43m,\u001B[49m\u001B[43m \u001B[49m\u001B[38;5;241;43m*\u001B[39;49m\u001B[43margs\u001B[49m\u001B[43m,\u001B[49m\u001B[43m \u001B[49m\u001B[38;5;241;43m*\u001B[39;49m\u001B[38;5;241;43m*\u001B[39;49m\u001B[43mkwargs\u001B[49m\u001B[43m)\u001B[49m\n\u001B[1;32m     95\u001B[0m     \u001B[38;5;28;01mif\u001B[39;00m renderer\u001B[38;5;241m.\u001B[39m_rasterizing:\n\u001B[1;32m     96\u001B[0m         renderer\u001B[38;5;241m.\u001B[39mstop_rasterizing()\n",
      "File \u001B[0;32m~/miniforge3/envs/bsp/lib/python3.10/site-packages/matplotlib/artist.py:71\u001B[0m, in \u001B[0;36mallow_rasterization.<locals>.draw_wrapper\u001B[0;34m(artist, renderer)\u001B[0m\n\u001B[1;32m     68\u001B[0m     \u001B[38;5;28;01mif\u001B[39;00m artist\u001B[38;5;241m.\u001B[39mget_agg_filter() \u001B[38;5;129;01mis\u001B[39;00m \u001B[38;5;129;01mnot\u001B[39;00m \u001B[38;5;28;01mNone\u001B[39;00m:\n\u001B[1;32m     69\u001B[0m         renderer\u001B[38;5;241m.\u001B[39mstart_filter()\n\u001B[0;32m---> 71\u001B[0m     \u001B[38;5;28;01mreturn\u001B[39;00m \u001B[43mdraw\u001B[49m\u001B[43m(\u001B[49m\u001B[43martist\u001B[49m\u001B[43m,\u001B[49m\u001B[43m \u001B[49m\u001B[43mrenderer\u001B[49m\u001B[43m)\u001B[49m\n\u001B[1;32m     72\u001B[0m \u001B[38;5;28;01mfinally\u001B[39;00m:\n\u001B[1;32m     73\u001B[0m     \u001B[38;5;28;01mif\u001B[39;00m artist\u001B[38;5;241m.\u001B[39mget_agg_filter() \u001B[38;5;129;01mis\u001B[39;00m \u001B[38;5;129;01mnot\u001B[39;00m \u001B[38;5;28;01mNone\u001B[39;00m:\n",
      "File \u001B[0;32m~/miniforge3/envs/bsp/lib/python3.10/site-packages/matplotlib/figure.py:3257\u001B[0m, in \u001B[0;36mFigure.draw\u001B[0;34m(self, renderer)\u001B[0m\n\u001B[1;32m   3254\u001B[0m             \u001B[38;5;66;03m# ValueError can occur when resizing a window.\u001B[39;00m\n\u001B[1;32m   3256\u001B[0m     \u001B[38;5;28mself\u001B[39m\u001B[38;5;241m.\u001B[39mpatch\u001B[38;5;241m.\u001B[39mdraw(renderer)\n\u001B[0;32m-> 3257\u001B[0m     \u001B[43mmimage\u001B[49m\u001B[38;5;241;43m.\u001B[39;49m\u001B[43m_draw_list_compositing_images\u001B[49m\u001B[43m(\u001B[49m\n\u001B[1;32m   3258\u001B[0m \u001B[43m        \u001B[49m\u001B[43mrenderer\u001B[49m\u001B[43m,\u001B[49m\u001B[43m \u001B[49m\u001B[38;5;28;43mself\u001B[39;49m\u001B[43m,\u001B[49m\u001B[43m \u001B[49m\u001B[43martists\u001B[49m\u001B[43m,\u001B[49m\u001B[43m \u001B[49m\u001B[38;5;28;43mself\u001B[39;49m\u001B[38;5;241;43m.\u001B[39;49m\u001B[43msuppressComposite\u001B[49m\u001B[43m)\u001B[49m\n\u001B[1;32m   3260\u001B[0m     renderer\u001B[38;5;241m.\u001B[39mclose_group(\u001B[38;5;124m'\u001B[39m\u001B[38;5;124mfigure\u001B[39m\u001B[38;5;124m'\u001B[39m)\n\u001B[1;32m   3261\u001B[0m \u001B[38;5;28;01mfinally\u001B[39;00m:\n",
      "File \u001B[0;32m~/miniforge3/envs/bsp/lib/python3.10/site-packages/matplotlib/image.py:134\u001B[0m, in \u001B[0;36m_draw_list_compositing_images\u001B[0;34m(renderer, parent, artists, suppress_composite)\u001B[0m\n\u001B[1;32m    132\u001B[0m \u001B[38;5;28;01mif\u001B[39;00m not_composite \u001B[38;5;129;01mor\u001B[39;00m \u001B[38;5;129;01mnot\u001B[39;00m has_images:\n\u001B[1;32m    133\u001B[0m     \u001B[38;5;28;01mfor\u001B[39;00m a \u001B[38;5;129;01min\u001B[39;00m artists:\n\u001B[0;32m--> 134\u001B[0m         \u001B[43ma\u001B[49m\u001B[38;5;241;43m.\u001B[39;49m\u001B[43mdraw\u001B[49m\u001B[43m(\u001B[49m\u001B[43mrenderer\u001B[49m\u001B[43m)\u001B[49m\n\u001B[1;32m    135\u001B[0m \u001B[38;5;28;01melse\u001B[39;00m:\n\u001B[1;32m    136\u001B[0m     \u001B[38;5;66;03m# Composite any adjacent images together\u001B[39;00m\n\u001B[1;32m    137\u001B[0m     image_group \u001B[38;5;241m=\u001B[39m []\n",
      "File \u001B[0;32m~/miniforge3/envs/bsp/lib/python3.10/site-packages/matplotlib/artist.py:71\u001B[0m, in \u001B[0;36mallow_rasterization.<locals>.draw_wrapper\u001B[0;34m(artist, renderer)\u001B[0m\n\u001B[1;32m     68\u001B[0m     \u001B[38;5;28;01mif\u001B[39;00m artist\u001B[38;5;241m.\u001B[39mget_agg_filter() \u001B[38;5;129;01mis\u001B[39;00m \u001B[38;5;129;01mnot\u001B[39;00m \u001B[38;5;28;01mNone\u001B[39;00m:\n\u001B[1;32m     69\u001B[0m         renderer\u001B[38;5;241m.\u001B[39mstart_filter()\n\u001B[0;32m---> 71\u001B[0m     \u001B[38;5;28;01mreturn\u001B[39;00m \u001B[43mdraw\u001B[49m\u001B[43m(\u001B[49m\u001B[43martist\u001B[49m\u001B[43m,\u001B[49m\u001B[43m \u001B[49m\u001B[43mrenderer\u001B[49m\u001B[43m)\u001B[49m\n\u001B[1;32m     72\u001B[0m \u001B[38;5;28;01mfinally\u001B[39;00m:\n\u001B[1;32m     73\u001B[0m     \u001B[38;5;28;01mif\u001B[39;00m artist\u001B[38;5;241m.\u001B[39mget_agg_filter() \u001B[38;5;129;01mis\u001B[39;00m \u001B[38;5;129;01mnot\u001B[39;00m \u001B[38;5;28;01mNone\u001B[39;00m:\n",
      "File \u001B[0;32m~/miniforge3/envs/bsp/lib/python3.10/site-packages/mpl_toolkits/mplot3d/axes3d.py:445\u001B[0m, in \u001B[0;36mAxes3D.draw\u001B[0;34m(self, renderer)\u001B[0m\n\u001B[1;32m    441\u001B[0m zorder_offset \u001B[38;5;241m=\u001B[39m \u001B[38;5;28mmax\u001B[39m(axis\u001B[38;5;241m.\u001B[39mget_zorder()\n\u001B[1;32m    442\u001B[0m                     \u001B[38;5;28;01mfor\u001B[39;00m axis \u001B[38;5;129;01min\u001B[39;00m \u001B[38;5;28mself\u001B[39m\u001B[38;5;241m.\u001B[39m_axis_map\u001B[38;5;241m.\u001B[39mvalues()) \u001B[38;5;241m+\u001B[39m \u001B[38;5;241m1\u001B[39m\n\u001B[1;32m    443\u001B[0m collection_zorder \u001B[38;5;241m=\u001B[39m patch_zorder \u001B[38;5;241m=\u001B[39m zorder_offset\n\u001B[0;32m--> 445\u001B[0m \u001B[38;5;28;01mfor\u001B[39;00m artist \u001B[38;5;129;01min\u001B[39;00m \u001B[38;5;28;43msorted\u001B[39;49m\u001B[43m(\u001B[49m\u001B[43mcollections_and_patches\u001B[49m\u001B[43m,\u001B[49m\n\u001B[1;32m    446\u001B[0m \u001B[43m                     \u001B[49m\u001B[43mkey\u001B[49m\u001B[38;5;241;43m=\u001B[39;49m\u001B[38;5;28;43;01mlambda\u001B[39;49;00m\u001B[43m \u001B[49m\u001B[43martist\u001B[49m\u001B[43m:\u001B[49m\u001B[43m \u001B[49m\u001B[43martist\u001B[49m\u001B[38;5;241;43m.\u001B[39;49m\u001B[43mdo_3d_projection\u001B[49m\u001B[43m(\u001B[49m\u001B[43m)\u001B[49m\u001B[43m,\u001B[49m\n\u001B[1;32m    447\u001B[0m \u001B[43m                     \u001B[49m\u001B[43mreverse\u001B[49m\u001B[38;5;241;43m=\u001B[39;49m\u001B[38;5;28;43;01mTrue\u001B[39;49;00m\u001B[43m)\u001B[49m:\n\u001B[1;32m    448\u001B[0m     \u001B[38;5;28;01mif\u001B[39;00m \u001B[38;5;28misinstance\u001B[39m(artist, mcoll\u001B[38;5;241m.\u001B[39mCollection):\n\u001B[1;32m    449\u001B[0m         artist\u001B[38;5;241m.\u001B[39mzorder \u001B[38;5;241m=\u001B[39m collection_zorder\n",
      "File \u001B[0;32m~/miniforge3/envs/bsp/lib/python3.10/site-packages/mpl_toolkits/mplot3d/axes3d.py:446\u001B[0m, in \u001B[0;36mAxes3D.draw.<locals>.<lambda>\u001B[0;34m(artist)\u001B[0m\n\u001B[1;32m    441\u001B[0m zorder_offset \u001B[38;5;241m=\u001B[39m \u001B[38;5;28mmax\u001B[39m(axis\u001B[38;5;241m.\u001B[39mget_zorder()\n\u001B[1;32m    442\u001B[0m                     \u001B[38;5;28;01mfor\u001B[39;00m axis \u001B[38;5;129;01min\u001B[39;00m \u001B[38;5;28mself\u001B[39m\u001B[38;5;241m.\u001B[39m_axis_map\u001B[38;5;241m.\u001B[39mvalues()) \u001B[38;5;241m+\u001B[39m \u001B[38;5;241m1\u001B[39m\n\u001B[1;32m    443\u001B[0m collection_zorder \u001B[38;5;241m=\u001B[39m patch_zorder \u001B[38;5;241m=\u001B[39m zorder_offset\n\u001B[1;32m    445\u001B[0m \u001B[38;5;28;01mfor\u001B[39;00m artist \u001B[38;5;129;01min\u001B[39;00m \u001B[38;5;28msorted\u001B[39m(collections_and_patches,\n\u001B[0;32m--> 446\u001B[0m                      key\u001B[38;5;241m=\u001B[39m\u001B[38;5;28;01mlambda\u001B[39;00m artist: \u001B[43martist\u001B[49m\u001B[38;5;241;43m.\u001B[39;49m\u001B[43mdo_3d_projection\u001B[49m\u001B[43m(\u001B[49m\u001B[43m)\u001B[49m,\n\u001B[1;32m    447\u001B[0m                      reverse\u001B[38;5;241m=\u001B[39m\u001B[38;5;28;01mTrue\u001B[39;00m):\n\u001B[1;32m    448\u001B[0m     \u001B[38;5;28;01mif\u001B[39;00m \u001B[38;5;28misinstance\u001B[39m(artist, mcoll\u001B[38;5;241m.\u001B[39mCollection):\n\u001B[1;32m    449\u001B[0m         artist\u001B[38;5;241m.\u001B[39mzorder \u001B[38;5;241m=\u001B[39m collection_zorder\n",
      "File \u001B[0;32m~/miniforge3/envs/bsp/lib/python3.10/site-packages/mpl_toolkits/mplot3d/art3d.py:858\u001B[0m, in \u001B[0;36mPath3DCollection.do_3d_projection\u001B[0;34m(self)\u001B[0m\n\u001B[1;32m    856\u001B[0m \u001B[38;5;28;01melse\u001B[39;00m:\n\u001B[1;32m    857\u001B[0m     xs, ys, zs \u001B[38;5;241m=\u001B[39m \u001B[38;5;28mself\u001B[39m\u001B[38;5;241m.\u001B[39m_offsets3d\n\u001B[0;32m--> 858\u001B[0m vxs, vys, vzs, vis \u001B[38;5;241m=\u001B[39m \u001B[43mproj3d\u001B[49m\u001B[38;5;241;43m.\u001B[39;49m\u001B[43m_proj_transform_clip\u001B[49m\u001B[43m(\u001B[49m\u001B[43mxs\u001B[49m\u001B[43m,\u001B[49m\u001B[43m \u001B[49m\u001B[43mys\u001B[49m\u001B[43m,\u001B[49m\u001B[43m \u001B[49m\u001B[43mzs\u001B[49m\u001B[43m,\u001B[49m\n\u001B[1;32m    859\u001B[0m \u001B[43m                                                 \u001B[49m\u001B[38;5;28;43mself\u001B[39;49m\u001B[38;5;241;43m.\u001B[39;49m\u001B[43maxes\u001B[49m\u001B[38;5;241;43m.\u001B[39;49m\u001B[43mM\u001B[49m\u001B[43m,\u001B[49m\n\u001B[1;32m    860\u001B[0m \u001B[43m                                                 \u001B[49m\u001B[38;5;28;43mself\u001B[39;49m\u001B[38;5;241;43m.\u001B[39;49m\u001B[43maxes\u001B[49m\u001B[38;5;241;43m.\u001B[39;49m\u001B[43m_focal_length\u001B[49m\u001B[43m)\u001B[49m\n\u001B[1;32m    861\u001B[0m \u001B[38;5;66;03m# Sort the points based on z coordinates\u001B[39;00m\n\u001B[1;32m    862\u001B[0m \u001B[38;5;66;03m# Performance optimization: Create a sorted index array and reorder\u001B[39;00m\n\u001B[1;32m    863\u001B[0m \u001B[38;5;66;03m# points and point properties according to the index array\u001B[39;00m\n\u001B[1;32m    864\u001B[0m z_markers_idx \u001B[38;5;241m=\u001B[39m \u001B[38;5;28mself\u001B[39m\u001B[38;5;241m.\u001B[39m_z_markers_idx \u001B[38;5;241m=\u001B[39m np\u001B[38;5;241m.\u001B[39mma\u001B[38;5;241m.\u001B[39margsort(vzs)[::\u001B[38;5;241m-\u001B[39m\u001B[38;5;241m1\u001B[39m]\n",
      "File \u001B[0;32m~/miniforge3/envs/bsp/lib/python3.10/site-packages/mpl_toolkits/mplot3d/proj3d.py:209\u001B[0m, in \u001B[0;36m_proj_transform_clip\u001B[0;34m(xs, ys, zs, M, focal_length)\u001B[0m\n\u001B[1;32m    203\u001B[0m \u001B[38;5;250m\u001B[39m\u001B[38;5;124;03m\"\"\"\u001B[39;00m\n\u001B[1;32m    204\u001B[0m \u001B[38;5;124;03mTransform the points by the projection matrix\u001B[39;00m\n\u001B[1;32m    205\u001B[0m \u001B[38;5;124;03mand return the clipping result\u001B[39;00m\n\u001B[1;32m    206\u001B[0m \u001B[38;5;124;03mreturns txs, tys, tzs, tis\u001B[39;00m\n\u001B[1;32m    207\u001B[0m \u001B[38;5;124;03m\"\"\"\u001B[39;00m\n\u001B[1;32m    208\u001B[0m vec \u001B[38;5;241m=\u001B[39m _vec_pad_ones(xs, ys, zs)\n\u001B[0;32m--> 209\u001B[0m \u001B[38;5;28;01mreturn\u001B[39;00m \u001B[43m_proj_transform_vec_clip\u001B[49m\u001B[43m(\u001B[49m\u001B[43mvec\u001B[49m\u001B[43m,\u001B[49m\u001B[43m \u001B[49m\u001B[43mM\u001B[49m\u001B[43m,\u001B[49m\u001B[43m \u001B[49m\u001B[43mfocal_length\u001B[49m\u001B[43m)\u001B[49m\n",
      "File \u001B[0;32m~/miniforge3/envs/bsp/lib/python3.10/site-packages/mpl_toolkits/mplot3d/proj3d.py:148\u001B[0m, in \u001B[0;36m_proj_transform_vec_clip\u001B[0;34m(vec, M, focal_length)\u001B[0m\n\u001B[1;32m    147\u001B[0m \u001B[38;5;28;01mdef\u001B[39;00m\u001B[38;5;250m \u001B[39m\u001B[38;5;21m_proj_transform_vec_clip\u001B[39m(vec, M, focal_length):\n\u001B[0;32m--> 148\u001B[0m     vecw \u001B[38;5;241m=\u001B[39m \u001B[43mnp\u001B[49m\u001B[38;5;241;43m.\u001B[39;49m\u001B[43mdot\u001B[49m\u001B[43m(\u001B[49m\u001B[43mM\u001B[49m\u001B[43m,\u001B[49m\u001B[43m \u001B[49m\u001B[43mvec\u001B[49m\u001B[38;5;241;43m.\u001B[39;49m\u001B[43mdata\u001B[49m\u001B[43m)\u001B[49m\n\u001B[1;32m    149\u001B[0m     w \u001B[38;5;241m=\u001B[39m vecw[\u001B[38;5;241m3\u001B[39m]\n\u001B[1;32m    150\u001B[0m     txs, tys, tzs \u001B[38;5;241m=\u001B[39m vecw[\u001B[38;5;241m0\u001B[39m] \u001B[38;5;241m/\u001B[39m w, vecw[\u001B[38;5;241m1\u001B[39m] \u001B[38;5;241m/\u001B[39m w, vecw[\u001B[38;5;241m2\u001B[39m] \u001B[38;5;241m/\u001B[39m w\n",
      "\u001B[0;31mValueError\u001B[0m: shapes (4,4) and (4,54,3) not aligned: 4 (dim 1) != 54 (dim 1)"
     ]
    },
    {
     "data": {
      "text/plain": [
       "<Figure size 800x600 with 2 Axes>"
      ]
     },
     "metadata": {},
     "output_type": "display_data"
    }
   ],
   "execution_count": 9
  },
  {
   "metadata": {
    "ExecuteTime": {
     "end_time": "2025-02-03T18:34:40.107524Z",
     "start_time": "2025-02-03T18:34:40.103973Z"
    }
   },
   "cell_type": "code",
   "source": [
    "def get_3d_slice_animation(sim, interval=200) -> animation.FuncAnimation:\n",
    "        # Create a figure for 3D plotting\n",
    "        fig = plt.figure()\n",
    "        ax = fig.add_subplot(111, projection='3d')\n",
    "\n",
    "        # Set labels for axes\n",
    "        ax.set_xlabel('X')\n",
    "        ax.set_ylabel('Y')\n",
    "        ax.set_zlabel('Z')\n",
    "        sc = None\n",
    "\n",
    "        num_timepoints = len(get_times(sim))\n",
    "\n",
    "        def update(frame: int):\n",
    "            \"\"\" Update function for animation \"\"\"\n",
    "            # Define a mask to display the volume (use 'region_mask' channel)\n",
    "            mask = get_vertices(sim, frame)\n",
    "            z, y, x = mask[::3], mask[1::3], mask[2::3]\n",
    "\n",
    "            volume = get_vertices(sim, frame)\n",
    "            intensities = volume[z, y, x]\n",
    "\n",
    "            # Initialize the scatter plot with empty data\n",
    "            scatter = ax.scatter(x, y, z, c=intensities, cmap='viridis')\n",
    "            ax.set_title(f\"Time Index: {frame}\")\n",
    "            sc = scatter\n",
    "            return scatter,\n",
    "\n",
    "        # Create the animation\n",
    "        fig.colorbar(sc, ax=ax, label='Intensity')\n",
    "        ani = animation.FuncAnimation(fig, update, num_timepoints, interval=interval, blit=False)\n",
    "\n",
    "        return ani"
   ],
   "id": "26bba588f1977cca",
   "outputs": [],
   "execution_count": 32
  },
  {
   "metadata": {
    "ExecuteTime": {
     "end_time": "2025-02-03T21:35:06.209716Z",
     "start_time": "2025-02-03T21:35:06.104995Z"
    }
   },
   "cell_type": "code",
   "source": [
    "ani = get_3d_slice_animation(sim)\n",
    "\n",
    "HTML(ani.to_jshtml())"
   ],
   "id": "a4d7ecf6ace09997",
   "outputs": [
    {
     "ename": "NameError",
     "evalue": "name 'get_3d_slice_animation' is not defined",
     "output_type": "error",
     "traceback": [
      "\u001B[0;31m---------------------------------------------------------------------------\u001B[0m",
      "\u001B[0;31mNameError\u001B[0m                                 Traceback (most recent call last)",
      "Cell \u001B[0;32mIn[8], line 1\u001B[0m\n\u001B[0;32m----> 1\u001B[0m ani \u001B[38;5;241m=\u001B[39m \u001B[43mget_3d_slice_animation\u001B[49m(sim)\n\u001B[1;32m      3\u001B[0m HTML(ani\u001B[38;5;241m.\u001B[39mto_jshtml())\n",
      "\u001B[0;31mNameError\u001B[0m: name 'get_3d_slice_animation' is not defined"
     ]
    }
   ],
   "execution_count": 8
  },
  {
   "metadata": {
    "ExecuteTime": {
     "end_time": "2025-02-03T21:35:07.163021Z",
     "start_time": "2025-02-03T21:35:07.160759Z"
    }
   },
   "cell_type": "code",
   "source": "",
   "id": "718d07e3ffe4f442",
   "outputs": [],
   "execution_count": null
  },
  {
   "metadata": {},
   "cell_type": "code",
   "outputs": [],
   "execution_count": null,
   "source": "",
   "id": "9c1b7594e2125afe"
  }
 ],
 "metadata": {
  "kernelspec": {
   "display_name": "bsp(bsp): Python 3.10.16",
   "language": "python",
   "name": "bsp"
  },
  "language_info": {
   "codemirror_mode": {
    "name": "ipython",
    "version": 3
   },
   "file_extension": ".py",
   "mimetype": "text/x-python",
   "name": "python",
   "nbconvert_exporter": "python",
   "pygments_lexer": "ipython3",
   "version": "3.10.16"
  }
 },
 "nbformat": 4,
 "nbformat_minor": 5
}
