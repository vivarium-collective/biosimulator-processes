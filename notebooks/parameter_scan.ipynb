{
  "cells": [
    {
      "cell_type": "code",
      "execution_count": 1,
      "id": "initial_id",
      "metadata": {
        "ExecuteTime": {
          "end_time": "2024-03-05T20:03:39.588407Z",
          "start_time": "2024-03-05T20:03:37.959396Z"
        },
        "collapsed": true
      },
      "outputs": [
        {
          "name": "stdout",
          "output_type": "stream",
          "text": [
            "CobraProcess registered successfully.\n",
            "CopasiProcess registered successfully.\n",
            "SmoldynProcess registered successfully.\n",
            "TelluriumProcess registered successfully.\n",
            "DeterministicTimeCourseParameterScan registered successfully.\n"
          ]
        }
      ],
      "source": [
        "import sys\n",
        "\n",
        "\n",
        "sys.path.insert(0, '..')\n",
        "import os\n",
        "from biosimulator_processes.process_bigraph import pp, pf\n",
        "from biosimulator_processes.data_model import *\n",
        "import numpy as np \n",
        "from biosimulator_processes.biosimulator_builder import BiosimulatorBuilder"
      ]
    },
    {
      "cell_type": "markdown",
      "id": "178d4480c4770f6a",
      "metadata": {
        "collapsed": false
      },
      "source": [
        "Choose an entrypoint to a non-spatial, COPASI/Tellurium-like simulation process and perform an n-iteration parameter scan of a selected parameter."
      ]
    },
    {
      "cell_type": "code",
      "execution_count": 2,
      "id": "a81c920baf50d227",
      "metadata": {
        "ExecuteTime": {
          "end_time": "2024-03-05T20:03:39.591344Z",
          "start_time": "2024-03-05T20:03:39.589391Z"
        },
        "collapsed": false
      },
      "outputs": [],
      "source": [
        "b = BiosimulatorBuilder()"
      ]
    },
    {
      "cell_type": "code",
      "execution_count": 3,
      "id": "608d3560b8dca4ab",
      "metadata": {
        "ExecuteTime": {
          "end_time": "2024-03-05T20:03:39.594052Z",
          "start_time": "2024-03-05T20:03:39.592267Z"
        },
        "collapsed": false
      },
      "outputs": [],
      "source": [
        "# build process config\n",
        "process_config = CopasiProcessConfigSchema(\n",
        "    process_name='parameter_scan',\n",
        "    model=TimeCourseModel(\n",
        "        model_source='../biosimulator_processes/model_files/Caravagna2010.xml',\n",
        "        model_id='Caravagna2010'\n",
        "    )\n",
        ")"
      ]
    },
    {
      "cell_type": "code",
      "execution_count": 4,
      "id": "5965fb0e7363bbfd",
      "metadata": {
        "ExecuteTime": {
          "end_time": "2024-03-05T20:03:39.617339Z",
          "start_time": "2024-03-05T20:03:39.595258Z"
        },
        "collapsed": false
      },
      "outputs": [
        {
          "data": {
            "text/html": [
              "<div>\n",
              "<style scoped>\n",
              "    .dataframe tbody tr th:only-of-type {\n",
              "        vertical-align: middle;\n",
              "    }\n",
              "\n",
              "    .dataframe tbody tr th {\n",
              "        vertical-align: top;\n",
              "    }\n",
              "\n",
              "    .dataframe thead th {\n",
              "        text-align: right;\n",
              "    }\n",
              "</style>\n",
              "<table border=\"1\" class=\"dataframe\">\n",
              "  <thead>\n",
              "    <tr style=\"text-align: right;\">\n",
              "      <th></th>\n",
              "      <th>compartment</th>\n",
              "      <th>type</th>\n",
              "      <th>unit</th>\n",
              "      <th>initial_concentration</th>\n",
              "      <th>initial_particle_number</th>\n",
              "      <th>initial_expression</th>\n",
              "      <th>expression</th>\n",
              "      <th>concentration</th>\n",
              "      <th>particle_number</th>\n",
              "      <th>rate</th>\n",
              "      <th>particle_number_rate</th>\n",
              "      <th>key</th>\n",
              "      <th>sbml_id</th>\n",
              "    </tr>\n",
              "    <tr>\n",
              "      <th>name</th>\n",
              "      <th></th>\n",
              "      <th></th>\n",
              "      <th></th>\n",
              "      <th></th>\n",
              "      <th></th>\n",
              "      <th></th>\n",
              "      <th></th>\n",
              "      <th></th>\n",
              "      <th></th>\n",
              "      <th></th>\n",
              "      <th></th>\n",
              "      <th></th>\n",
              "      <th></th>\n",
              "    </tr>\n",
              "  </thead>\n",
              "  <tbody>\n",
              "    <tr>\n",
              "      <th>T</th>\n",
              "      <td>compartment</td>\n",
              "      <td>reactions</td>\n",
              "      <td>mmol/ml</td>\n",
              "      <td>1.0</td>\n",
              "      <td>6.022141e+20</td>\n",
              "      <td></td>\n",
              "      <td></td>\n",
              "      <td>1.0</td>\n",
              "      <td>6.022141e+20</td>\n",
              "      <td>0.179997</td>\n",
              "      <td>1.083967e+20</td>\n",
              "      <td>Metabolite_0</td>\n",
              "      <td>T</td>\n",
              "    </tr>\n",
              "    <tr>\n",
              "      <th>E</th>\n",
              "      <td>compartment</td>\n",
              "      <td>reactions</td>\n",
              "      <td>mmol/ml</td>\n",
              "      <td>1.0</td>\n",
              "      <td>6.022141e+20</td>\n",
              "      <td></td>\n",
              "      <td></td>\n",
              "      <td>1.0</td>\n",
              "      <td>6.022141e+20</td>\n",
              "      <td>-0.010000</td>\n",
              "      <td>-6.022137e+18</td>\n",
              "      <td>Metabolite_1</td>\n",
              "      <td>E</td>\n",
              "    </tr>\n",
              "    <tr>\n",
              "      <th>I</th>\n",
              "      <td>compartment</td>\n",
              "      <td>reactions</td>\n",
              "      <td>mmol/ml</td>\n",
              "      <td>1.0</td>\n",
              "      <td>6.022141e+20</td>\n",
              "      <td></td>\n",
              "      <td></td>\n",
              "      <td>1.0</td>\n",
              "      <td>6.022141e+20</td>\n",
              "      <td>-9.999512</td>\n",
              "      <td>-6.021847e+21</td>\n",
              "      <td>Metabolite_2</td>\n",
              "      <td>I</td>\n",
              "    </tr>\n",
              "  </tbody>\n",
              "</table>\n",
              "</div>"
            ],
            "text/plain": [
              "      compartment       type     unit  initial_concentration  \\\n",
              "name                                                           \n",
              "T     compartment  reactions  mmol/ml                    1.0   \n",
              "E     compartment  reactions  mmol/ml                    1.0   \n",
              "I     compartment  reactions  mmol/ml                    1.0   \n",
              "\n",
              "      initial_particle_number initial_expression expression  concentration  \\\n",
              "name                                                                         \n",
              "T                6.022141e+20                                          1.0   \n",
              "E                6.022141e+20                                          1.0   \n",
              "I                6.022141e+20                                          1.0   \n",
              "\n",
              "      particle_number      rate  particle_number_rate           key sbml_id  \n",
              "name                                                                         \n",
              "T        6.022141e+20  0.179997          1.083967e+20  Metabolite_0       T  \n",
              "E        6.022141e+20 -0.010000         -6.022137e+18  Metabolite_1       E  \n",
              "I        6.022141e+20 -9.999512         -6.021847e+21  Metabolite_2       I  "
            ]
          },
          "execution_count": 4,
          "metadata": {},
          "output_type": "execute_result"
        }
      ],
      "source": [
        "from basico import load_model, get_species\n",
        "\n",
        "model = load_model('../biosimulator_processes/model_files/Caravagna2010.xml')\n",
        "\n",
        "get_species(model=model)"
      ]
    },
    {
      "cell_type": "code",
      "execution_count": 5,
      "id": "46be2668efdfc8e",
      "metadata": {
        "ExecuteTime": {
          "end_time": "2024-03-05T20:03:39.619681Z",
          "start_time": "2024-03-05T20:03:39.617917Z"
        },
        "collapsed": false
      },
      "outputs": [],
      "source": [
        "# build parameters to scan\n",
        "scanned_parameters = [\n",
        "    ModelParameter(\n",
        "        name='T',\n",
        "        feature='initial_concentration',\n",
        "        value=25.0,\n",
        "        scope='species'\n",
        "    )\n",
        "]"
      ]
    },
    {
      "cell_type": "code",
      "execution_count": 6,
      "id": "59a6dd39d4f665e1",
      "metadata": {
        "ExecuteTime": {
          "end_time": "2024-03-05T20:03:39.907069Z",
          "start_time": "2024-03-05T20:03:39.620252Z"
        },
        "collapsed": false
      },
      "outputs": [
        {
          "ename": "TypeError",
          "evalue": "DeterministicTimeCourseParameterScan.__init__() got an unexpected keyword argument 'core'",
          "output_type": "error",
          "traceback": [
            "\u001b[0;31m---------------------------------------------------------------------------\u001b[0m",
            "\u001b[0;31mTypeError\u001b[0m                                 Traceback (most recent call last)",
            "Cell \u001b[0;32mIn[6], line 1\u001b[0m\n\u001b[0;32m----> 1\u001b[0m \u001b[43mb\u001b[49m\u001b[43m[\u001b[49m\u001b[38;5;124;43m'\u001b[39;49m\u001b[38;5;124;43mparameter_scan\u001b[39;49m\u001b[38;5;124;43m'\u001b[39;49m\u001b[43m]\u001b[49m\u001b[38;5;241;43m.\u001b[39;49m\u001b[43madd_process\u001b[49m\u001b[43m(\u001b[49m\n\u001b[1;32m      2\u001b[0m \u001b[43m    \u001b[49m\u001b[43mname\u001b[49m\u001b[38;5;241;43m=\u001b[39;49m\u001b[38;5;124;43m'\u001b[39;49m\u001b[38;5;124;43mDeterministicTimeCourseParameterScan\u001b[39;49m\u001b[38;5;124;43m'\u001b[39;49m\u001b[43m,\u001b[49m\n\u001b[1;32m      3\u001b[0m \u001b[43m    \u001b[49m\u001b[43mn_iterations\u001b[49m\u001b[38;5;241;43m=\u001b[39;49m\u001b[38;5;241;43m100\u001b[39;49m\u001b[43m,\u001b[49m\n\u001b[1;32m      4\u001b[0m \u001b[43m    \u001b[49m\u001b[43mperturbation_magnitude\u001b[49m\u001b[38;5;241;43m=\u001b[39;49m\u001b[38;5;241;43m0.25\u001b[39;49m\u001b[43m,\u001b[49m\n\u001b[1;32m      5\u001b[0m \u001b[43m    \u001b[49m\u001b[43mparameters\u001b[49m\u001b[38;5;241;43m=\u001b[39;49m\u001b[43mscanned_parameters\u001b[49m\n\u001b[1;32m      6\u001b[0m \u001b[43m)\u001b[49m\n",
            "File \u001b[0;32m~/Library/Caches/pypoetry/virtualenvs/biosimulator-processes-KVuYbFzt-py3.10/lib/python3.10/site-packages/builder/builder_api.py:148\u001b[0m, in \u001b[0;36mBuilderNode.add_process\u001b[0;34m(self, name, config, inputs, outputs, **kwargs)\u001b[0m\n\u001b[1;32m    139\u001b[0m state \u001b[38;5;241m=\u001b[39m {\n\u001b[1;32m    140\u001b[0m     \u001b[38;5;124m'\u001b[39m\u001b[38;5;124m_type\u001b[39m\u001b[38;5;124m'\u001b[39m: edge_type,\n\u001b[1;32m    141\u001b[0m     \u001b[38;5;124m'\u001b[39m\u001b[38;5;124maddress\u001b[39m\u001b[38;5;124m'\u001b[39m: \u001b[38;5;124mf\u001b[39m\u001b[38;5;124m'\u001b[39m\u001b[38;5;124mlocal:\u001b[39m\u001b[38;5;132;01m{\u001b[39;00mname\u001b[38;5;132;01m}\u001b[39;00m\u001b[38;5;124m'\u001b[39m,  \u001b[38;5;66;03m# TODO -- only support local right now?\u001b[39;00m\n\u001b[0;32m   (...)\u001b[0m\n\u001b[1;32m    144\u001b[0m     \u001b[38;5;124m'\u001b[39m\u001b[38;5;124moutputs\u001b[39m\u001b[38;5;124m'\u001b[39m: {} \u001b[38;5;28;01mif\u001b[39;00m outputs \u001b[38;5;129;01mis\u001b[39;00m \u001b[38;5;28;01mNone\u001b[39;00m \u001b[38;5;28;01melse\u001b[39;00m outputs,\n\u001b[1;32m    145\u001b[0m }\n\u001b[1;32m    147\u001b[0m set_path(tree\u001b[38;5;241m=\u001b[39m\u001b[38;5;28mself\u001b[39m\u001b[38;5;241m.\u001b[39mbuilder\u001b[38;5;241m.\u001b[39mtree, path\u001b[38;5;241m=\u001b[39m\u001b[38;5;28mself\u001b[39m\u001b[38;5;241m.\u001b[39mpath, value\u001b[38;5;241m=\u001b[39mstate)\n\u001b[0;32m--> 148\u001b[0m \u001b[38;5;28;43mself\u001b[39;49m\u001b[38;5;241;43m.\u001b[39;49m\u001b[43mbuilder\u001b[49m\u001b[38;5;241;43m.\u001b[39;49m\u001b[43mcomplete\u001b[49m\u001b[43m(\u001b[49m\u001b[43m)\u001b[49m\n",
            "File \u001b[0;32m~/Library/Caches/pypoetry/virtualenvs/biosimulator-processes-KVuYbFzt-py3.10/lib/python3.10/site-packages/builder/builder_api.py:233\u001b[0m, in \u001b[0;36mBuilder.complete\u001b[0;34m(self)\u001b[0m\n\u001b[1;32m    232\u001b[0m \u001b[38;5;28;01mdef\u001b[39;00m \u001b[38;5;21mcomplete\u001b[39m(\u001b[38;5;28mself\u001b[39m):\n\u001b[0;32m--> 233\u001b[0m     \u001b[38;5;28mself\u001b[39m\u001b[38;5;241m.\u001b[39mschema, \u001b[38;5;28mself\u001b[39m\u001b[38;5;241m.\u001b[39mtree \u001b[38;5;241m=\u001b[39m \u001b[38;5;28;43mself\u001b[39;49m\u001b[38;5;241;43m.\u001b[39;49m\u001b[43mcore\u001b[49m\u001b[38;5;241;43m.\u001b[39;49m\u001b[43mcomplete\u001b[49m\u001b[43m(\u001b[49m\u001b[38;5;28;43mself\u001b[39;49m\u001b[38;5;241;43m.\u001b[39;49m\u001b[43mschema\u001b[49m\u001b[43m,\u001b[49m\u001b[43m \u001b[49m\u001b[38;5;28;43mself\u001b[39;49m\u001b[38;5;241;43m.\u001b[39;49m\u001b[43mtree\u001b[49m\u001b[43m)\u001b[49m\n",
            "File \u001b[0;32m~/Library/Caches/pypoetry/virtualenvs/biosimulator-processes-KVuYbFzt-py3.10/lib/python3.10/site-packages/biosimulator_processes.bigraph_schema/type_system.py:1334\u001b[0m, in \u001b[0;36mTypeSystem.complete\u001b[0;34m(self, initial_schema, initial_state)\u001b[0m\n\u001b[1;32m   1328\u001b[0m state \u001b[38;5;241m=\u001b[39m \u001b[38;5;28mself\u001b[39m\u001b[38;5;241m.\u001b[39mhydrate(\n\u001b[1;32m   1329\u001b[0m     full_schema,\n\u001b[1;32m   1330\u001b[0m     initial_state)\n\u001b[1;32m   1332\u001b[0m \u001b[38;5;66;03m# fill in the parts of the composition schema\u001b[39;00m\n\u001b[1;32m   1333\u001b[0m \u001b[38;5;66;03m# determined by the state\u001b[39;00m\n\u001b[0;32m-> 1334\u001b[0m schema, state \u001b[38;5;241m=\u001b[39m \u001b[38;5;28;43mself\u001b[39;49m\u001b[38;5;241;43m.\u001b[39;49m\u001b[43minfer_schema\u001b[49m\u001b[43m(\u001b[49m\n\u001b[1;32m   1335\u001b[0m \u001b[43m    \u001b[49m\u001b[43mfull_schema\u001b[49m\u001b[43m,\u001b[49m\n\u001b[1;32m   1336\u001b[0m \u001b[43m    \u001b[49m\u001b[43mstate\u001b[49m\u001b[43m)\u001b[49m\n\u001b[1;32m   1338\u001b[0m final_state \u001b[38;5;241m=\u001b[39m \u001b[38;5;28mself\u001b[39m\u001b[38;5;241m.\u001b[39mfill(schema, state)\n\u001b[1;32m   1340\u001b[0m \u001b[38;5;66;03m# TODO: add flag to types.access(copy=True)\u001b[39;00m\n",
            "File \u001b[0;32m~/Library/Caches/pypoetry/virtualenvs/biosimulator-processes-KVuYbFzt-py3.10/lib/python3.10/site-packages/biosimulator_processes.process_bigraph/composite.py:270\u001b[0m, in \u001b[0;36mProcessTypes.infer_schema\u001b[0;34m(self, schema, state, top_state, path)\u001b[0m\n\u001b[1;32m    267\u001b[0m             inner_path \u001b[38;5;241m=\u001b[39m path \u001b[38;5;241m+\u001b[39m (key,)\n\u001b[1;32m    268\u001b[0m             \u001b[38;5;28;01mif\u001b[39;00m get_path(schema, inner_path) \u001b[38;5;129;01mis\u001b[39;00m \u001b[38;5;28;01mNone\u001b[39;00m \u001b[38;5;129;01mor\u001b[39;00m get_path(state, inner_path) \u001b[38;5;129;01mis\u001b[39;00m \u001b[38;5;28;01mNone\u001b[39;00m \u001b[38;5;129;01mor\u001b[39;00m (\n\u001b[1;32m    269\u001b[0m                     \u001b[38;5;28misinstance\u001b[39m(value, \u001b[38;5;28mdict\u001b[39m) \u001b[38;5;129;01mand\u001b[39;00m \u001b[38;5;124m'\u001b[39m\u001b[38;5;124m_type\u001b[39m\u001b[38;5;124m'\u001b[39m \u001b[38;5;129;01min\u001b[39;00m value):\n\u001b[0;32m--> 270\u001b[0m                 schema, top_state \u001b[38;5;241m=\u001b[39m \u001b[38;5;28;43mself\u001b[39;49m\u001b[38;5;241;43m.\u001b[39;49m\u001b[43minfer_schema\u001b[49m\u001b[43m(\u001b[49m\n\u001b[1;32m    271\u001b[0m \u001b[43m                    \u001b[49m\u001b[43mschema\u001b[49m\u001b[43m,\u001b[49m\n\u001b[1;32m    272\u001b[0m \u001b[43m                    \u001b[49m\u001b[43mvalue\u001b[49m\u001b[43m,\u001b[49m\n\u001b[1;32m    273\u001b[0m \u001b[43m                    \u001b[49m\u001b[43mtop_state\u001b[49m\u001b[38;5;241;43m=\u001b[39;49m\u001b[43mtop_state\u001b[49m\u001b[43m,\u001b[49m\n\u001b[1;32m    274\u001b[0m \u001b[43m                    \u001b[49m\u001b[43mpath\u001b[49m\u001b[38;5;241;43m=\u001b[39;49m\u001b[43minner_path\u001b[49m\u001b[43m)\u001b[49m\n\u001b[1;32m    276\u001b[0m \u001b[38;5;28;01melif\u001b[39;00m \u001b[38;5;28misinstance\u001b[39m(state, \u001b[38;5;28mstr\u001b[39m):\n\u001b[1;32m    277\u001b[0m     \u001b[38;5;28;01mpass\u001b[39;00m\n",
            "File \u001b[0;32m~/Library/Caches/pypoetry/virtualenvs/biosimulator-processes-KVuYbFzt-py3.10/lib/python3.10/site-packages/biosimulator_processes.process_bigraph/composite.py:222\u001b[0m, in \u001b[0;36mProcessTypes.infer_schema\u001b[0;34m(self, schema, state, top_state, path)\u001b[0m\n\u001b[1;32m    219\u001b[0m state_type \u001b[38;5;241m=\u001b[39m state[\u001b[38;5;124m'\u001b[39m\u001b[38;5;124m_type\u001b[39m\u001b[38;5;124m'\u001b[39m]\n\u001b[1;32m    220\u001b[0m state_schema \u001b[38;5;241m=\u001b[39m \u001b[38;5;28mself\u001b[39m\u001b[38;5;241m.\u001b[39maccess(state_type)\n\u001b[0;32m--> 222\u001b[0m hydrated_state \u001b[38;5;241m=\u001b[39m \u001b[38;5;28;43mself\u001b[39;49m\u001b[38;5;241;43m.\u001b[39;49m\u001b[43mdeserialize\u001b[49m\u001b[43m(\u001b[49m\u001b[43mstate_schema\u001b[49m\u001b[43m,\u001b[49m\u001b[43m \u001b[49m\u001b[43mstate\u001b[49m\u001b[43m)\u001b[49m\n\u001b[1;32m    223\u001b[0m top_state \u001b[38;5;241m=\u001b[39m set_path(\n\u001b[1;32m    224\u001b[0m     top_state,\n\u001b[1;32m    225\u001b[0m     path,\n\u001b[1;32m    226\u001b[0m     hydrated_state)\n\u001b[1;32m    228\u001b[0m schema \u001b[38;5;241m=\u001b[39m set_path(\n\u001b[1;32m    229\u001b[0m     schema,\n\u001b[1;32m    230\u001b[0m     path,\n\u001b[1;32m    231\u001b[0m     {\u001b[38;5;124m'\u001b[39m\u001b[38;5;124m_type\u001b[39m\u001b[38;5;124m'\u001b[39m: state_type})\n",
            "File \u001b[0;32m~/Library/Caches/pypoetry/virtualenvs/biosimulator-processes-KVuYbFzt-py3.10/lib/python3.10/site-packages/biosimulator_processes.bigraph_schema/type_system.py:675\u001b[0m, in \u001b[0;36mTypeSystem.deserialize\u001b[0;34m(self, schema, encoded)\u001b[0m\n\u001b[1;32m    672\u001b[0m     \u001b[38;5;28;01mif\u001b[39;00m encoded \u001b[38;5;129;01mis\u001b[39;00m \u001b[38;5;28;01mNone\u001b[39;00m:\n\u001b[1;32m    673\u001b[0m         encoded \u001b[38;5;241m=\u001b[39m \u001b[38;5;28mself\u001b[39m\u001b[38;5;241m.\u001b[39mdefault(schema)\n\u001b[0;32m--> 675\u001b[0m     \u001b[38;5;28;01mreturn\u001b[39;00m \u001b[43mdeserialize_function\u001b[49m\u001b[43m(\u001b[49m\n\u001b[1;32m    676\u001b[0m \u001b[43m        \u001b[49m\u001b[43mfound\u001b[49m\u001b[43m,\u001b[49m\n\u001b[1;32m    677\u001b[0m \u001b[43m        \u001b[49m\u001b[43mencoded\u001b[49m\u001b[43m,\u001b[49m\n\u001b[1;32m    678\u001b[0m \u001b[43m        \u001b[49m\u001b[38;5;28;43mself\u001b[39;49m\u001b[43m)\u001b[49m\n\u001b[1;32m    680\u001b[0m \u001b[38;5;28;01melif\u001b[39;00m \u001b[38;5;28misinstance\u001b[39m(encoded, \u001b[38;5;28mdict\u001b[39m):\n\u001b[1;32m    681\u001b[0m     result \u001b[38;5;241m=\u001b[39m {}\n",
            "File \u001b[0;32m~/Library/Caches/pypoetry/virtualenvs/biosimulator-processes-KVuYbFzt-py3.10/lib/python3.10/site-packages/biosimulator_processes.process_bigraph/composite.py:124\u001b[0m, in \u001b[0;36mdeserialize_step\u001b[0;34m(schema, encoded, core)\u001b[0m\n\u001b[1;32m    119\u001b[0m config \u001b[38;5;241m=\u001b[39m core\u001b[38;5;241m.\u001b[39mhydrate_state(\n\u001b[1;32m    120\u001b[0m     instantiate\u001b[38;5;241m.\u001b[39mconfig_schema,\n\u001b[1;32m    121\u001b[0m     encoded\u001b[38;5;241m.\u001b[39mget(\u001b[38;5;124m'\u001b[39m\u001b[38;5;124mconfig\u001b[39m\u001b[38;5;124m'\u001b[39m, {}))\n\u001b[1;32m    123\u001b[0m \u001b[38;5;28;01mif\u001b[39;00m \u001b[38;5;129;01mnot\u001b[39;00m \u001b[38;5;124m'\u001b[39m\u001b[38;5;124minstance\u001b[39m\u001b[38;5;124m'\u001b[39m \u001b[38;5;129;01min\u001b[39;00m deserialized:\n\u001b[0;32m--> 124\u001b[0m     process \u001b[38;5;241m=\u001b[39m \u001b[43minstantiate\u001b[49m\u001b[43m(\u001b[49m\u001b[43mconfig\u001b[49m\u001b[43m,\u001b[49m\u001b[43m \u001b[49m\u001b[43mcore\u001b[49m\u001b[38;5;241;43m=\u001b[39;49m\u001b[43mcore\u001b[49m\u001b[43m)\u001b[49m\n\u001b[1;32m    125\u001b[0m     deserialized[\u001b[38;5;124m'\u001b[39m\u001b[38;5;124minstance\u001b[39m\u001b[38;5;124m'\u001b[39m] \u001b[38;5;241m=\u001b[39m process\n\u001b[1;32m    127\u001b[0m deserialized[\u001b[38;5;124m'\u001b[39m\u001b[38;5;124mconfig\u001b[39m\u001b[38;5;124m'\u001b[39m] \u001b[38;5;241m=\u001b[39m config\n",
            "\u001b[0;31mTypeError\u001b[0m: DeterministicTimeCourseParameterScan.__init__() got an unexpected keyword argument 'core'"
          ]
        }
      ],
      "source": [
        "b['parameter_scan'].add_process(\n",
        "    name='DeterministicTimeCourseParameterScan',\n",
        "    n_iterations=100,\n",
        "    perturbation_magnitude=0.25,\n",
        "    parameters=scanned_parameters\n",
        ")"
      ]
    },
    {
      "cell_type": "code",
      "execution_count": null,
      "id": "74c9c1bbdb0058f4",
      "metadata": {
        "collapsed": false
      },
      "outputs": [],
      "source": []
    }
  ],
  "metadata": {
    "kernelspec": {
      "display_name": "Python 3",
      "language": "python",
      "name": "python3"
    },
    "language_info": {
      "codemirror_mode": {
        "name": "ipython",
        "version": 2
      },
      "file_extension": ".py",
      "mimetype": "text/x-python",
      "name": "python",
      "nbconvert_exporter": "python",
      "pygments_lexer": "ipython2",
      "version": "2.7.6"
    }
  },
  "nbformat": 4,
  "nbformat_minor": 5
}
