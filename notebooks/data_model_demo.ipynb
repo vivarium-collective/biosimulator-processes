{
 "cells": [
  {
   "cell_type": "code",
   "execution_count": 1,
   "id": "initial_id",
   "metadata": {
    "ExecuteTime": {
     "end_time": "2024-03-01T17:36:11.752324Z",
     "start_time": "2024-03-01T17:36:11.749069Z"
    },
    "collapsed": true
   },
   "outputs": [],
   "source": [
    "import sys \n",
    "\n",
    "sys.path.insert(0, '..')"
   ]
  },
  {
   "cell_type": "code",
   "execution_count": 2,
   "id": "3cd5053431aed7e1",
   "metadata": {
    "ExecuteTime": {
     "end_time": "2024-03-01T17:36:13.415658Z",
     "start_time": "2024-03-01T17:36:11.894800Z"
    },
    "collapsed": false
   },
   "outputs": [
    {
     "name": "stdout",
     "output_type": "stream",
     "text": [
      "CobraProcess registered successfully.\n",
      "CopasiProcess not available. Error: No module named 'biosimulator_processes.process_types'\n",
      "SmoldynProcess registered successfully.\n",
      "TelluriumProcess registered successfully.\n"
     ]
    },
    {
     "name": "stderr",
     "output_type": "stream",
     "text": [
      "/Users/alex/Library/Caches/pypoetry/virtualenvs/biosimulator-processes-KVuYbFzt-py3.10/lib/python3.10/site-packages/pydantic/_internal/_fields.py:151: UserWarning:\n",
      "\n",
      "Field \"model_id\" has conflict with protected namespace \"model_\".\n",
      "\n",
      "You may be able to resolve this warning by setting `model_config['protected_namespaces'] = ()`.\n",
      "\n",
      "/Users/alex/Library/Caches/pypoetry/virtualenvs/biosimulator-processes-KVuYbFzt-py3.10/lib/python3.10/site-packages/pydantic/_internal/_fields.py:151: UserWarning:\n",
      "\n",
      "Field \"model_source\" has conflict with protected namespace \"model_\".\n",
      "\n",
      "You may be able to resolve this warning by setting `model_config['protected_namespaces'] = ()`.\n",
      "\n",
      "/Users/alex/Library/Caches/pypoetry/virtualenvs/biosimulator-processes-KVuYbFzt-py3.10/lib/python3.10/site-packages/pydantic/_internal/_fields.py:151: UserWarning:\n",
      "\n",
      "Field \"model_language\" has conflict with protected namespace \"model_\".\n",
      "\n",
      "You may be able to resolve this warning by setting `model_config['protected_namespaces'] = ()`.\n",
      "\n",
      "/Users/alex/Library/Caches/pypoetry/virtualenvs/biosimulator-processes-KVuYbFzt-py3.10/lib/python3.10/site-packages/pydantic/_internal/_fields.py:151: UserWarning:\n",
      "\n",
      "Field \"model_name\" has conflict with protected namespace \"model_\".\n",
      "\n",
      "You may be able to resolve this warning by setting `model_config['protected_namespaces'] = ()`.\n",
      "\n",
      "/Users/alex/Library/Caches/pypoetry/virtualenvs/biosimulator-processes-KVuYbFzt-py3.10/lib/python3.10/site-packages/pydantic/_internal/_fields.py:151: UserWarning:\n",
      "\n",
      "Field \"model_changes\" has conflict with protected namespace \"model_\".\n",
      "\n",
      "You may be able to resolve this warning by setting `model_config['protected_namespaces'] = ()`.\n",
      "\n"
     ]
    }
   ],
   "source": [
    "from biosimulator_processes.data_model import *\n",
    "from biosimulator_processes.process_bigraph import pf"
   ]
  },
  {
   "cell_type": "code",
   "execution_count": 3,
   "id": "6bf18cbc74f1f95f",
   "metadata": {
    "ExecuteTime": {
     "end_time": "2024-03-01T17:36:13.418537Z",
     "start_time": "2024-03-01T17:36:13.415607Z"
    },
    "collapsed": false
   },
   "outputs": [],
   "source": [
    "speciesChangesA = SpeciesChanges(\n",
    "    species_name='A',\n",
    "    initial_concentration=20.017\n",
    ")\n",
    "\n",
    "speciesChangesB = SpeciesChanges(\n",
    "    species_name='B',\n",
    "    expression='A + B = C'\n",
    ")\n",
    "\n",
    "process_changes = TimeCourseModelChanges(\n",
    "   species_changes=[speciesChangesA, speciesChangesB]\n",
    ")\n",
    "\n",
    "# process_biomodel_id = BiomodelId(value='BIOMD0000000861')\n",
    "\n",
    "process_model = TimeCourseModel(\n",
    "    model_id='BioModel',\n",
    "    model_source='BIOMD0000000861',\n",
    "    model_name='Bachmann2011',\n",
    "    model_changes=process_changes\n",
    ")"
   ]
  },
  {
   "cell_type": "code",
   "execution_count": 4,
   "id": "6dd932af0c8358aa",
   "metadata": {
    "ExecuteTime": {
     "end_time": "2024-03-01T17:36:15.889304Z",
     "start_time": "2024-03-01T17:36:15.883583Z"
    },
    "collapsed": false
   },
   "outputs": [
    {
     "data": {
      "text/plain": [
       "biosimulator_processes.data_model.TimeCourseModel"
      ]
     },
     "execution_count": 4,
     "metadata": {},
     "output_type": "execute_result"
    }
   ],
   "source": [
    "type(process_model)"
   ]
  },
  {
   "cell_type": "code",
   "execution_count": 5,
   "id": "909c4fc3a751659",
   "metadata": {
    "ExecuteTime": {
     "end_time": "2024-03-01T17:36:16.365986Z",
     "start_time": "2024-03-01T17:36:16.363866Z"
    },
    "collapsed": false
   },
   "outputs": [],
   "source": [
    "copasi_process = CopasiProcessConfigSchema(\n",
    "    model=process_model,\n",
    "    method='stochastic'\n",
    ")"
   ]
  },
  {
   "cell_type": "code",
   "execution_count": 6,
   "id": "2be623d00e2fc495",
   "metadata": {
    "ExecuteTime": {
     "end_time": "2024-03-01T17:36:16.957634Z",
     "start_time": "2024-03-01T17:36:16.954386Z"
    },
    "collapsed": false
   },
   "outputs": [
    {
     "name": "stdout",
     "output_type": "stream",
     "text": [
      "{ 'method': 'stochastic',\n",
      "  'model': { 'model_changes': { 'global_parameter_changes': None,\n",
      "                                'reaction_changes': None,\n",
      "                                'species_changes': [ { 'expression': None,\n",
      "                                                       'initial_concentration': 20.017,\n",
      "                                                       'initial_expression': None,\n",
      "                                                       'initial_particle_number': None,\n",
      "                                                       'species_name': 'A',\n",
      "                                                       'unit': None},\n",
      "                                                     { 'expression': 'A + B = '\n",
      "                                                                     'C',\n",
      "                                                       'initial_concentration': None,\n",
      "                                                       'initial_expression': None,\n",
      "                                                       'initial_particle_number': None,\n",
      "                                                       'species_name': 'B',\n",
      "                                                       'unit': None}]},\n",
      "             'model_id': 'BioModel',\n",
      "             'model_language': 'sbml',\n",
      "             'model_name': 'Bachmann2011',\n",
      "             'model_source': 'sdfadf'}}\n"
     ]
    }
   ],
   "source": [
    "print(pf(copasi_process.model_dump()))"
   ]
  },
  {
   "cell_type": "code",
   "execution_count": null,
   "id": "7bca99082a8df8ef",
   "metadata": {
    "collapsed": false
   },
   "outputs": [],
   "source": []
  }
 ],
 "metadata": {
  "kernelspec": {
   "display_name": "Python 3",
   "language": "python",
   "name": "python3"
  },
  "language_info": {
   "codemirror_mode": {
    "name": "ipython",
    "version": 2
   },
   "file_extension": ".py",
   "mimetype": "text/x-python",
   "name": "python",
   "nbconvert_exporter": "python",
   "pygments_lexer": "ipython2",
   "version": "2.7.6"
  }
 },
 "nbformat": 4,
 "nbformat_minor": 5
}
