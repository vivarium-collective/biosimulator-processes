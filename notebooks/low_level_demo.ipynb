{
 "cells": [
  {
   "cell_type": "code",
   "execution_count": 1,
   "id": "40898635d17c0f08",
   "metadata": {
    "ExecuteTime": {
     "end_time": "2024-04-30T15:45:58.588512Z",
     "start_time": "2024-04-30T15:45:58.551899Z"
    },
    "collapsed": false,
    "is_executing": true
   },
   "outputs": [],
   "source": [
    "import sys\n",
    "sys.path.insert(0, '..')\n",
    "\n",
    "import os\n",
    "import requests"
   ]
  },
  {
   "cell_type": "code",
   "execution_count": 2,
   "id": "initial_id",
   "metadata": {
    "ExecuteTime": {
     "end_time": "2024-04-30T15:46:00.604929Z",
     "start_time": "2024-04-30T15:45:58.711959Z"
    },
    "collapsed": true
   },
   "outputs": [
    {
     "name": "stdout",
     "output_type": "stream",
     "text": [
      "CobraProcess registered successfully.\n",
      "CopasiProcess registered successfully.\n",
      "SmoldynProcess registered successfully.\n",
      "TelluriumProcess registered successfully.\n"
     ]
    }
   ],
   "source": [
    "from biosimulator_processes.tests.test_copasi_process import test_process_from_document\n",
    "from biosimulator_processes.tests.data_model import ProcessUnitTest\n",
    "from biosimulator_processes import CORE\n",
    "from process_bigraph import Composite, pp"
   ]
  },
  {
   "cell_type": "markdown",
   "id": "c7dca241b02a7265",
   "metadata": {},
   "source": [
    "#### Step 1: Define the document to be read by the Composite, which is implemented by the Process"
   ]
  },
  {
   "cell_type": "code",
   "execution_count": 3,
   "id": "2633feac24b596a6",
   "metadata": {
    "ExecuteTime": {
     "end_time": "2024-04-30T15:46:01.041933Z",
     "start_time": "2024-04-30T15:46:01.036921Z"
    }
   },
   "outputs": [],
   "source": [
    "biomodel_id = 'BIOMD0000000630'\n",
    "\n",
    "\"\"\"document = {\n",
    "    'copasi': {\n",
    "        '_type': 'process',\n",
    "        'address': 'local:copasi',\n",
    "        'config': {\n",
    "            'model': {\n",
    "                'model_source': biomodel_id  \n",
    "            },\n",
    "            'method': 'lsoda'\n",
    "        },\n",
    "        'inputs': {\n",
    "            'floating_species': ['floating_species_store'],\n",
    "            'model_parameters': ['model_parameters_store'],\n",
    "            'time': ['time_store'],\n",
    "            'reactions': ['reactions_store']\n",
    "        },\n",
    "        'outputs': {\n",
    "            'floating_species': ['floating_species_store'],\n",
    "            'time': ['time_store'],\n",
    "        }\n",
    "    },\n",
    "    'emitter': {\n",
    "        '_type': 'step',\n",
    "        'address': 'local:ram-emitter',\n",
    "        'config': {\n",
    "            'emit': {\n",
    "                'floating_species': 'tree[float]',\n",
    "                'time': 'float',\n",
    "            },\n",
    "        },\n",
    "        'inputs': {\n",
    "            'floating_species': ['floating_species_store'],\n",
    "            'time': ['time_store'],\n",
    "        }\n",
    "    }\n",
    "}\"\"\"\n",
    "\n",
    "document = {\n",
    "    'copasi': {\n",
    "        '_type': 'process',\n",
    "        'address': 'local:copasi',\n",
    "        'config': {\n",
    "            'model': {\n",
    "                'model_source': biomodel_id  \n",
    "            },\n",
    "            'method': 'lsoda'\n",
    "        },\n",
    "        'inputs': {\n",
    "            'floating_species_concentrations': ['floating_species_concentrations_store'],\n",
    "            'floating_species_counts': ['floating_species_counts_store'],\n",
    "            'model_parameters': ['model_parameters_store'],\n",
    "            'time': ['time_store'],\n",
    "            'reactions': ['reactions_store']\n",
    "        },\n",
    "        'outputs': {\n",
    "            'floating_species_concentrations': ['floating_species_concentrations_store'],\n",
    "            'floating_species_counts': ['floating_species_counts_store'],\n",
    "            'time': ['time_store'],\n",
    "        }\n",
    "    },\n",
    "    'emitter': {\n",
    "        '_type': 'step',\n",
    "        'address': 'local:ram-emitter',\n",
    "        'config': {\n",
    "            'emit': {\n",
    "                'floating_species_concentrations': 'tree[float]',\n",
    "                'floating_species_counts': 'tree[float]',\n",
    "                'time': 'float',\n",
    "            },\n",
    "        },\n",
    "        'inputs': {\n",
    "            'floating_species_concentrations': ['floating_species_concentrations_store'],\n",
    "            'floating_species_counts': ['floating_species_counts_store'],\n",
    "            'time': ['time_store'],\n",
    "        }\n",
    "    }\n",
    "}"
   ]
  },
  {
   "cell_type": "markdown",
   "id": "e502cb54666345af",
   "metadata": {},
   "source": [
    "#### Step 2: Define the instance composition along with the process registry"
   ]
  },
  {
   "cell_type": "code",
   "execution_count": 4,
   "id": "bd91dca0be22cd27",
   "metadata": {
    "ExecuteTime": {
     "end_time": "2024-04-30T15:46:03.999594Z",
     "start_time": "2024-04-30T15:46:02.191757Z"
    }
   },
   "outputs": [
    {
     "name": "stdout",
     "output_type": "stream",
     "text": [
      "found a biomodel id\n"
     ]
    }
   ],
   "source": [
    "workflow = Composite(\n",
    "    config={'state': document},\n",
    "    core=CORE\n",
    ")"
   ]
  },
  {
   "cell_type": "markdown",
   "id": "857667277d39c647",
   "metadata": {},
   "source": [
    "#### Step 3: Run the workflow for a duration and get the results"
   ]
  },
  {
   "cell_type": "code",
   "execution_count": 5,
   "id": "7c6f72142af0616b",
   "metadata": {
    "ExecuteTime": {
     "end_time": "2024-04-30T15:46:04.277832Z",
     "start_time": "2024-04-30T15:46:04.000964Z"
    }
   },
   "outputs": [
    {
     "name": "stdout",
     "output_type": "stream",
     "text": [
      "\n",
      "Outputs at 0.0:\n",
      "{'time': 1.0, 'floating_species_concentrations': {'plasminogen': 0.009841338438766237, 'plasmin': 3.500808587045718e-07, 'single intact chain urokinase-type plasminogen activator': 0.0030692854818269847, 'two-chain urokinase-type plasminogen activator': 2.1839175650943385e-15, 'x': 0.0, 'x-plasmin': 0.0}, 'floating_species_counts': {'plasminogen': 5926592534504892.0, 'plasmin': 210823620850.06027, 'single intact chain urokinase-type plasminogen activator': 1848366920418652.5, 'two-chain urokinase-type plasminogen activator': 1315.185898523457, 'x': 0.0, 'x-plasmin': 0.0}}\n",
      "\n",
      "\n",
      "Outputs at 1.0:\n",
      "{'time': 1.0, 'floating_species_concentrations': {'plasminogen': 0.019370741215749214, 'plasmin': 2.6272428605330354e-06, 'single intact chain urokinase-type plasminogen activator': 0.005891282487548538, 'two-chain urokinase-type plasminogen activator': 4.146729150732806e-13, 'x': 0.0, 'x-plasmin': 0.0}, 'floating_species_counts': {'plasminogen': 1.166533302267753e+16, 'plasmin': 1582162631683.4988, 'single intact chain urokinase-type plasminogen activator': 3547813239694024.5, 'two-chain urokinase-type plasminogen activator': 249721.86639308213, 'x': 0.0, 'x-plasmin': 0.0}}\n",
      "\n",
      "\n",
      "Outputs at 2.0:\n",
      "{'time': 1.0, 'floating_species_concentrations': {'plasminogen': 0.03812192880573095, 'plasmin': 1.431644058473914e-05, 'single intact chain urokinase-type plasminogen activator': 0.011307911712930673, 'two-chain urokinase-type plasminogen activator': 3.295206054944294e-11, 'x': 0.0, 'x-plasmin': 0.0}, 'floating_species_counts': {'plasminogen': 2.2957562131081044e+16, 'plasmin': 8621562038347.58, 'single intact chain urokinase-type plasminogen activator': 6809783603692123.0, 'two-chain urokinase-type plasminogen activator': 19844194.696078833, 'x': 0.0, 'x-plasmin': 0.0}}\n",
      "\n",
      "\n",
      "Outputs at 3.0:\n",
      "{'time': 1.0, 'floating_species_concentrations': {'plasminogen': 0.07500357949752877, 'plasmin': 6.617246038096427e-05, 'single intact chain urokinase-type plasminogen activator': 0.02170475763827848, 'two-chain urokinase-type plasminogen activator': 1.607934165282703e-09, 'x': 0.0, 'x-plasmin': 0.0}, 'floating_species_counts': {'plasminogen': 4.516821132379683e+16, 'plasmin': 39849987084969.01, 'single intact chain urokinase-type plasminogen activator': 1.3070910565939818e+16, 'two-chain urokinase-type plasminogen activator': 968320587.6145542, 'x': 0.0, 'x-plasmin': 0.0}}\n",
      "\n",
      "\n",
      "Outputs at 4.0:\n",
      "{'time': 1.0, 'floating_species_concentrations': {'plasminogen': 0.147487824600176, 'plasmin': 0.00028021887205289896, 'single intact chain urokinase-type plasminogen activator': 0.04166073232422086, 'two-chain urokinase-type plasminogen activator': 6.097898980948682e-08, 'x': 0.0, 'x-plasmin': 0.0}, 'floating_species_counts': {'plasminogen': 8.881924401284507e+16, 'plasmin': 168751749111098.78, 'single intact chain urokinase-type plasminogen activator': 2.5088679422113996e+16, 'two-chain urokinase-type plasminogen activator': 36722406003.533516, 'x': 0.0, 'x-plasmin': 0.0}}\n",
      "\n",
      "\n",
      "Outputs at 5.0:\n",
      "{'time': 1.0, 'floating_species_concentrations': {'plasminogen': 0.2897232054251881, 'plasmin': 0.001129786477302547, 'single intact chain urokinase-type plasminogen activator': 0.07996301745356484, 'two-chain urokinase-type plasminogen activator': 2.011366324465047e-06, 'x': 0.0, 'x-plasmin': 0.0}, 'floating_species_counts': {'plasminogen': 1.7447539245088784e+17, 'plasmin': 680373319506048.2, 'single intact chain urokinase-type plasminogen activator': 4.8154854669970424e+16, 'two-chain urokinase-type plasminogen activator': 1211273112585.2346, 'x': 0.0, 'x-plasmin': 0.0}}\n",
      "\n",
      "\n",
      "Outputs at 6.0:\n",
      "{'time': 1.0, 'floating_species_concentrations': {'plasminogen': 0.5679955760439191, 'plasmin': 0.004435032800550752, 'single intact chain urokinase-type plasminogen activator': 0.15342605597423517, 'two-chain urokinase-type plasminogen activator': 6.131973721241033e-05, 'x': 0.0, 'x-plasmin': 0.0}, 'floating_species_counts': {'plasminogen': 3.420549309993765e+17, 'plasmin': 2670839180013363.5, 'single intact chain urokinase-type plasminogen activator': 9.239533053284832e+16, 'two-chain urokinase-type plasminogen activator': 36927608885934.5, 'x': 0.0, 'x-plasmin': 0.0}}\n",
      "\n",
      "\n",
      "Outputs at 7.0:\n",
      "{'time': 1.0, 'floating_species_concentrations': {'plasminogen': 1.108702995127095, 'plasmin': 0.01767634632513222, 'single intact chain urokinase-type plasminogen activator': 0.2927722611014555, 'two-chain urokinase-type plasminogen activator': 0.0018362052549257245, 'x': 0.0, 'x-plasmin': 0.0}, 'floating_species_counts': {'plasminogen': 6.67676549768896e+17, 'plasmin': 1.0644944569245494e+16, 'single intact chain urokinase-type plasminogen activator': 1.7631157669764374e+17, 'two-chain urokinase-type plasminogen activator': 1105788650941439.6, 'x': 0.0, 'x-plasmin': 0.0}}\n",
      "\n",
      "\n",
      "Outputs at 8.0:\n",
      "{'time': 1.0, 'floating_species_concentrations': {'plasminogen': 2.101694333892274, 'plasmin': 0.11321223990869289, 'single intact chain urokinase-type plasminogen activator': 0.4806911003336812, 'two-chain urokinase-type plasminogen activator': 0.08478959830118875, 'x': 0.0, 'x-plasmin': 0.0}, 'floating_species_counts': {'plasminogen': 1.2656699113193713e+18, 'plasmin': 6.8178004448503816e+16, 'single intact chain urokinase-type plasminogen activator': 2.894789468288711e+17, 'two-chain urokinase-type plasminogen activator': 5.106148959536155e+16, 'x': 0.0, 'x-plasmin': 0.0}}\n",
      "\n",
      "\n",
      "Outputs at 9.0:\n",
      "{'time': 1.0, 'floating_species_concentrations': {'plasminogen': 1.9177299291854173, 'plasmin': 2.3839343810341815, 'single intact chain urokinase-type plasminogen activator': 1.4160238804635173e-05, 'two-chain urokinase-type plasminogen activator': 1.085387167304625, 'x': 0.0, 'x-plasmin': 0.0}, 'floating_species_counts': {'plasminogen': 1.1548839573219415e+18, 'plasmin': 1.4356388405191316e+18, 'single intact chain urokinase-type plasminogen activator': 8527495127672.715, 'two-chain urokinase-type plasminogen activator': 6.536354300606121e+17, 'x': 0.0, 'x-plasmin': 0.0}}\n",
      "\n",
      "\n",
      "Outputs at 10.0:\n",
      "{'time': 1.0, 'floating_species_concentrations': {'plasminogen': 0.8683414306688557, 'plasmin': 7.362058777350578, 'single intact chain urokinase-type plasminogen activator': 1.4761470937163967e-06, 'two-chain urokinase-type plasminogen activator': 2.0833517574481415, 'x': 0.0, 'x-plasmin': 0.0}, 'floating_species_counts': {'plasminogen': 5.22927432322763e+17, 'plasmin': 4.433535424059868e+18, 'single intact chain urokinase-type plasminogen activator': 888956558082.5052, 'two-chain urokinase-type plasminogen activator': 1.2546237535946086e+18, 'x': 0.0, 'x-plasmin': 0.0}}\n",
      "\n",
      "\n",
      "Outputs at 11.0:\n",
      "{'time': 1.0, 'floating_species_concentrations': {'plasminogen': 0.16491390293109995, 'plasmin': 15.587880631402133, 'single intact chain urokinase-type plasminogen activator': 3.292365068750707e-07, 'two-chain urokinase-type plasminogen activator': 3.9988529848103687, 'x': 0.0, 'x-plasmin': 0.0}, 'floating_species_counts': {'plasminogen': 9.931347367320605e+16, 'plasmin': 9.387241131238132e+18, 'single intact chain urokinase-type plasminogen activator': 198270858773.23837, 'two-chain urokinase-type plasminogen activator': 2.408165555307418e+18, 'x': 0.0, 'x-plasmin': 0.0}}\n",
      "\n",
      "\n",
      "Outputs at 12.0:\n",
      "{'time': 1.0, 'floating_species_concentrations': {'plasminogen': 0.006682220857317931, 'plasmin': 30.188929570624495, 'single intact chain urokinase-type plasminogen activator': 8.777919504418223e-08, 'two-chain urokinase-type plasminogen activator': 7.675523951766064, 'x': 0.0, 'x-plasmin': 0.0}, 'floating_species_counts': {'plasminogen': 4024127459217645.5, 'plasmin': 1.8180198326802706e+19, 'single intact chain urokinase-type plasminogen activator': 52861866835.555984, 'two-chain urokinase-type plasminogen activator': 4.622308564428669e+18, 'x': 0.0, 'x-plasmin': 0.0}}\n",
      "\n",
      "\n",
      "Outputs at 13.0:\n",
      "{'time': 1.0, 'floating_species_concentrations': {'plasminogen': 0.0007546732710205597, 'plasmin': 57.93475512687084, 'single intact chain urokinase-type plasminogen activator': 2.3834798044624802e-08, 'two-chain urokinase-type plasminogen activator': 14.732640725168094, 'x': 0.0, 'x-plasmin': 0.0}, 'floating_species_counts': {'plasminogen': 454474866589543.94, 'plasmin': 3.4889125027014787e+19, 'single intact chain urokinase-type plasminogen activator': 14353650881.090332, 'two-chain urokinase-type plasminogen activator': 8.872203621347074e+18, 'x': 0.0, 'x-plasmin': 0.0}}\n",
      "\n",
      "\n",
      "Outputs at 14.0:\n",
      "{'time': 1.0, 'floating_species_concentrations': {'plasminogen': 0.0003911449200574385, 'plasmin': 111.19103222027047, 'single intact chain urokinase-type plasminogen activator': 6.470684755051211e-09, 'two-chain urokinase-type plasminogen activator': 28.27829113155126, 'x': 0.0, 'x-plasmin': 0.0}, 'floating_species_counts': {'plasminogen': 235552976614484.2, 'plasmin': 6.696080472801641e+19, 'single intact chain urokinase-type plasminogen activator': 3896737440.850451, 'two-chain urokinase-type plasminogen activator': 1.7029584964646136e+19, 'x': 0.0, 'x-plasmin': 0.0}}\n",
      "\n",
      "\n",
      "Outputs at 15.0:\n",
      "{'time': 1.0, 'floating_species_concentrations': {'plasminogen': 0.00020422270967637964, 'plasmin': 213.41798116538976, 'single intact chain urokinase-type plasminogen activator': 1.7564182230977725e-09, 'two-chain urokinase-type plasminogen activator': 54.27823588038841, 'x': 0.0, 'x-plasmin': 0.0}, 'floating_species_counts': {'plasminogen': 122985790405977.22, 'plasmin': 1.285233123293006e+20, 'single intact chain urokinase-type plasminogen activator': 1057739777.2923869, 'two-chain urokinase-type plasminogen activator': 3.2687117667618152e+19, 'x': 0.0, 'x-plasmin': 0.0}}\n",
      "\n",
      "\n",
      "Outputs at 16.0:\n",
      "{'time': 1.0, 'floating_species_concentrations': {'plasminogen': 0.00010651796823396858, 'plasmin': 409.638260358401, 'single intact chain urokinase-type plasminogen activator': 4.767480701653744e-10, 'two-chain urokinase-type plasminogen activator': 104.1833430177083, 'x': 0.0, 'x-plasmin': 0.0}, 'floating_species_counts': {'plasminogen': 64146619817416.74, 'plasmin': 2.466899264559819e+20, 'single intact chain urokinase-type plasminogen activator': 287104398.5594241, 'two-chain urokinase-type plasminogen activator': 6.274067565000026e+19, 'x': 0.0, 'x-plasmin': 0.0}}\n",
      "\n",
      "\n",
      "Outputs at 17.0:\n",
      "{'time': 1.0, 'floating_species_concentrations': {'plasminogen': 5.552745433169193e-05, 'plasmin': 786.2695439205506, 'single intact chain urokinase-type plasminogen activator': 1.2940386367583518e-10, 'two-chain urokinase-type plasminogen activator': 199.97239957621622, 'x': 0.0, 'x-plasmin': 0.0}, 'floating_species_counts': {'plasminogen': 33439414602992.055, 'plasmin': 4.735025868790558e+20, 'single intact chain urokinase-type plasminogen activator': 77928828.19437304, 'two-chain urokinase-type plasminogen activator': 1.2042619383629385e+20, 'x': 0.0, 'x-plasmin': 0.0}}\n",
      "\n",
      "\n",
      "Outputs at 18.0:\n",
      "{'time': 1.0, 'floating_species_concentrations': {'plasminogen': 2.893801169631307e-05, 'plasmin': 1509.191115376959, 'single intact chain urokinase-type plasminogen activator': 3.512382234604866e-11, 'two-chain urokinase-type plasminogen activator': 383.83367025250107, 'x': 0.0, 'x-plasmin': 0.0}, 'floating_species_counts': {'plasminogen': 17426877974972.367, 'plasmin': 9.088561330541447e+20, 'single intact chain urokinase-type plasminogen activator': 21152060.219713844, 'two-chain urokinase-type plasminogen activator': 2.311500390687986e+20, 'x': 0.0, 'x-plasmin': 0.0}}\n",
      "\n",
      "\n",
      "Outputs at 19.0:\n",
      "{'time': 1.0, 'floating_species_concentrations': {'plasminogen': 1.507879635719902e-05, 'plasmin': 2896.783239047637, 'single intact chain urokinase-type plasminogen activator': 9.533620962974342e-12, 'two-chain urokinase-type plasminogen activator': 736.7410841950987, 'x': 0.0, 'x-plasmin': 0.0}, 'floating_species_counts': {'plasminogen': 9080663415442.773, 'plasmin': 1.7444836416753597e+21, 'single intact chain urokinase-type plasminogen activator': 5741280.739151823, 'two-chain urokinase-type plasminogen activator': 4.436758512697895e+20, 'x': 0.0, 'x-plasmin': 0.0}}\n",
      "\n",
      "\n",
      "Outputs at 20.0:\n",
      "{'time': 1.0, 'floating_species_concentrations': {'plasminogen': 7.856530396126473e-06, 'plasmin': 5560.172237817248, 'single intact chain urokinase-type plasminogen activator': 2.5876967334936118e-12, 'two-chain urokinase-type plasminogen activator': 1414.1228876025339, 'x': 0.0, 'x-plasmin': 0.0}, 'floating_species_counts': {'plasminogen': 4731313193069.218, 'plasmin': 3.3484139865979664e+21, 'single intact chain urokinase-type plasminogen activator': 1558347.3973290736, 'two-chain urokinase-type plasminogen activator': 8.516047081080118e+20, 'x': 0.0, 'x-plasmin': 0.0}}\n",
      "\n",
      "\n",
      "Outputs at 21.0:\n",
      "{'time': 1.0, 'floating_species_concentrations': {'plasminogen': 4.093334959525004e-06, 'plasmin': 10672.364118275858, 'single intact chain urokinase-type plasminogen activator': 7.023747879650316e-13, 'two-chain urokinase-type plasminogen activator': 2714.3106139331503, 'x': 0.0, 'x-plasmin': 0.0}, 'floating_species_counts': {'plasminogen': 2465063930408.8477, 'plasmin': 6.427047896223051e+21, 'single intact chain urokinase-type plasminogen activator': 422979.98394005746, 'two-chain urokinase-type plasminogen activator': 1.634596058346745e+21, 'x': 0.0, 'x-plasmin': 0.0}}\n",
      "\n",
      "\n",
      "Outputs at 22.0:\n",
      "{'time': 1.0, 'floating_species_concentrations': {'plasminogen': 2.1326267636229677e-06, 'plasmin': 20484.860825230066, 'single intact chain urokinase-type plasminogen activator': 1.9064426008107965e-13, 'two-chain urokinase-type plasminogen activator': 5209.930499237743, 'x': 0.0, 'x-plasmin': 0.0}, 'floating_species_counts': {'plasminogen': 1284297855908.076, 'plasmin': 1.2336271533854522e+22, 'single intact chain urokinase-type plasminogen activator': 114808.65692943106, 'two-chain urokinase-type plasminogen activator': 3.137493481622676e+21, 'x': 0.0, 'x-plasmin': 0.0}}\n",
      "\n",
      "\n",
      "Outputs at 23.0:\n",
      "{'time': 1.0, 'floating_species_concentrations': {'plasminogen': 1.1110852161981407e-06, 'plasmin': 39319.28576181681, 'single intact chain urokinase-type plasminogen activator': 5.174623269603606e-14, 'two-chain urokinase-type plasminogen activator': 10000.104369869741, 'x': 0.0, 'x-plasmin': 0.0}, 'floating_species_counts': {'plasminogen': 669111156830.0236, 'plasmin': 2.367862734403247e+22, 'single intact chain urokinase-type plasminogen activator': 31162.309709524347, 'two-chain urokinase-type plasminogen activator': 6.022203613004668e+21, 'x': 0.0, 'x-plasmin': 0.0}}\n",
      "\n"
     ]
    },
    {
     "name": "stderr",
     "output_type": "stream",
     "text": [
      "/Users/alex/Desktop/uchc_work/repos/biosimulator-processes/notebooks/../biosimulator_processes/processes/copasi_process.py:332: FutureWarning:\n",
      "\n",
      "Series.__getitem__ treating keys as positions is deprecated. In a future version, integer keys will always be treated as labels (consistent with DataFrame behavior). To access a value by position, use `ser.iloc[pos]`\n",
      "\n",
      "/Users/alex/Desktop/uchc_work/repos/biosimulator-processes/notebooks/../biosimulator_processes/processes/copasi_process.py:341: FutureWarning:\n",
      "\n",
      "Series.__getitem__ treating keys as positions is deprecated. In a future version, integer keys will always be treated as labels (consistent with DataFrame behavior). To access a value by position, use `ser.iloc[pos]`\n",
      "\n"
     ]
    },
    {
     "name": "stdout",
     "output_type": "stream",
     "text": [
      "\n",
      "Outputs at 24.0:\n",
      "{'time': 1.0, 'floating_species_concentrations': {'plasminogen': 5.788647970947049e-07, 'plasmin': 75470.72640123221, 'single intact chain urokinase-type plasminogen activator': 1.4045362715928928e-14, 'two-chain urokinase-type plasminogen activator': 19194.528242695615, 'x': 0.0, 'x-plasmin': 0.0}, 'floating_species_counts': {'plasminogen': 348600528911.3152, 'plasmin': 4.544953376476686e+22, 'single intact chain urokinase-type plasminogen activator': 8458.31513005799, 'two-chain urokinase-type plasminogen activator': 1.1559215089930843e+22, 'x': 0.0, 'x-plasmin': 0.0}}\n",
      "\n",
      "\n",
      "Outputs at 25.0:\n",
      "{'time': 1.0, 'floating_species_concentrations': {'plasminogen': 3.015827484908975e-07, 'plasmin': 144860.70462597968, 'single intact chain urokinase-type plasminogen activator': 3.8123137906237065e-15, 'two-chain urokinase-type plasminogen activator': 36842.53509863519, 'x': 0.0, 'x-plasmin': 0.0}, 'floating_species_counts': {'plasminogen': 181617376219.98624, 'plasmin': 8.723715538504328e+22, 'single intact chain urokinase-type plasminogen activator': 2295.829026842513, 'two-chain urokinase-type plasminogen activator': 2.2187093231922162e+22, 'x': 0.0, 'x-plasmin': 0.0}}\n",
      "\n",
      "\n",
      "Outputs at 26.0:\n",
      "{'time': 1.0, 'floating_species_concentrations': {'plasminogen': 1.5712125476308628e-07, 'plasmin': 278049.98616497824, 'single intact chain urokinase-type plasminogen activator': 1.0347705569548697e-15, 'two-chain urokinase-type plasminogen activator': 70716.66813345918, 'x': 0.0, 'x-plasmin': 0.0}, 'floating_species_counts': {'plasminogen': 94620631257.11261, 'plasmin': 1.6744561550015515e+23, 'single intact chain urokinase-type plasminogen activator': 623.1533948285822, 'two-chain urokinase-type plasminogen activator': 4.258657295778977e+22, 'x': 0.0, 'x-plasmin': 0.0}}\n",
      "\n",
      "\n",
      "Outputs at 27.0:\n",
      "{'time': 1.0, 'floating_species_concentrations': {'plasminogen': 8.185829323708204e-08, 'plasmin': 533697.9066261506, 'single intact chain urokinase-type plasminogen activator': 2.8086569352657995e-16, 'two-chain urokinase-type plasminogen activator': 135735.80156254524, 'x': 0.0, 'x-plasmin': 0.0}, 'floating_species_counts': {'plasminogen': 49296216424.70641, 'plasmin': 3.2140039170200157e+23, 'single intact chain urokinase-type plasminogen activator': 169.14127410720852, 'two-chain urokinase-type plasminogen activator': 8.174201031810754e+22, 'x': 0.0, 'x-plasmin': 0.0}}\n",
      "\n",
      "\n",
      "Outputs at 28.0:\n",
      "{'time': 1.0, 'floating_species_concentrations': {'plasminogen': 4.26472234206573e-08, 'plasmin': 1024395.4213396206, 'single intact chain urokinase-type plasminogen activator': 7.62350128278448e-17, 'two-chain urokinase-type plasminogen activator': 260535.28017694442, 'x': 0.0, 'x-plasmin': 0.0}, 'floating_species_counts': {'plasminogen': 25682758246.236694, 'plasmin': 6.169053421206703e+23, 'single intact chain urokinase-type plasminogen activator': 45.909797808968705, 'two-chain urokinase-type plasminogen activator': 1.568980130171597e+23, 'x': 0.0, 'x-plasmin': 0.0}}\n",
      "\n",
      "\n",
      "Outputs at 29.0:\n",
      "{'time': 1.0, 'floating_species_concentrations': {'plasminogen': 2.2218699074542137e-08, 'plasmin': 1966255.1221948587, 'single intact chain urokinase-type plasminogen activator': 2.0692358835308975e-17, 'two-chain urokinase-type plasminogen activator': 500079.18669788004, 'x': 0.0, 'x-plasmin': 0.0}, 'floating_species_counts': {'plasminogen': 13380413333.097448, 'plasmin': 1.184106511592844e+24, 'single intact chain urokinase-type plasminogen activator': 12.46122975626603, 'two-chain urokinase-type plasminogen activator': 3.0115472534409532e+23, 'x': 0.0, 'x-plasmin': 0.0}}\n",
      "\n"
     ]
    }
   ],
   "source": [
    "workflow.run(30)\n",
    "\n",
    "results = workflow.gather_results()"
   ]
  },
  {
   "cell_type": "code",
   "execution_count": 6,
   "id": "c7a254aee3009b8c",
   "metadata": {
    "ExecuteTime": {
     "end_time": "2024-04-30T15:46:07.275244Z",
     "start_time": "2024-04-30T15:46:07.264106Z"
    }
   },
   "outputs": [
    {
     "name": "stdout",
     "output_type": "stream",
     "text": [
      "{ ('emitter',): [ { 'floating_species_concentrations': { 'plasmin': 0.0,\n",
      "                                                         'plasminogen': 0.0,\n",
      "                                                         'single intact chain urokinase-type plasminogen activator': 0.0,\n",
      "                                                         'two-chain urokinase-type plasminogen activator': 0.0,\n",
      "                                                         'x': 0.0,\n",
      "                                                         'x-plasmin': 0.0},\n",
      "                    'floating_species_counts': { 'plasmin': 0.0,\n",
      "                                                 'plasminogen': 0.0,\n",
      "                                                 'single intact chain urokinase-type plasminogen activator': 0.0,\n",
      "                                                 'two-chain urokinase-type plasminogen activator': 0.0,\n",
      "                                                 'x': 0.0,\n",
      "                                                 'x-plasmin': 0.0},\n",
      "                    'time': 0.0},\n",
      "                  { 'floating_species_concentrations': { 'plasmin': 3.500808587045718e-07,\n",
      "                                                         'plasminogen': 0.009841338438766237,\n",
      "                                                         'single intact chain urokinase-type plasminogen activator': 0.0030692854818269847,\n",
      "                                                         'two-chain urokinase-type plasminogen activator': 2.1839175650943385e-15,\n",
      "                                                         'x': 0.0,\n",
      "                                                         'x-plasmin': 0.0},\n",
      "                    'floating_species_counts': { 'plasmin': 210823620850.06027,\n",
      "                                                 'plasminogen': 5926592534504892.0,\n",
      "                                                 'single intact chain urokinase-type plasminogen activator': 1848366920418652.5,\n",
      "                                                 'two-chain urokinase-type plasminogen activator': 1315.185898523457,\n",
      "                                                 'x': 0.0,\n",
      "                                                 'x-plasmin': 0.0},\n",
      "                    'time': 1.0},\n",
      "                  { 'floating_species_concentrations': { 'plasmin': 2.977323719237607e-06,\n",
      "                                                         'plasminogen': 0.02921207965451545,\n",
      "                                                         'single intact chain urokinase-type plasminogen activator': 0.008960567969375523,\n",
      "                                                         'two-chain urokinase-type plasminogen activator': 4.1685683263837494e-13,\n",
      "                                                         'x': 0.0,\n",
      "                                                         'x-plasmin': 0.0},\n",
      "                    'floating_species_counts': { 'plasmin': 1792986252533.559,\n",
      "                                                 'plasminogen': 1.7591925557182422e+16,\n",
      "                                                 'single intact chain urokinase-type plasminogen activator': 5396180160112677.0,\n",
      "                                                 'two-chain urokinase-type plasminogen activator': 251037.0522916056,\n",
      "                                                 'x': 0.0,\n",
      "                                                 'x-plasmin': 0.0},\n",
      "                    'time': 2.0},\n",
      "                  { 'floating_species_concentrations': { 'plasmin': 1.7293764303976745e-05,\n",
      "                                                         'plasminogen': 0.0673340084602464,\n",
      "                                                         'single intact chain urokinase-type plasminogen activator': 0.020268479682306197,\n",
      "                                                         'two-chain urokinase-type plasminogen activator': 3.3368917382081315e-11,\n",
      "                                                         'x': 0.0,\n",
      "                                                         'x-plasmin': 0.0},\n",
      "                    'floating_species_counts': { 'plasmin': 10414548290881.139,\n",
      "                                                 'plasminogen': 4.0549487688263464e+16,\n",
      "                                                 'single intact chain urokinase-type plasminogen activator': 1.22059637638048e+16,\n",
      "                                                 'two-chain urokinase-type plasminogen activator': 20095231.74837044,\n",
      "                                                 'x': 0.0,\n",
      "                                                 'x-plasmin': 0.0},\n",
      "                    'time': 3.0},\n",
      "                  { 'floating_species_concentrations': { 'plasmin': 8.346622468494101e-05,\n",
      "                                                         'plasminogen': 0.14233758795777518,\n",
      "                                                         'single intact chain urokinase-type plasminogen activator': 0.04197323732058468,\n",
      "                                                         'two-chain urokinase-type plasminogen activator': 1.6413030826647842e-09,\n",
      "                                                         'x': 0.0,\n",
      "                                                         'x-plasmin': 0.0},\n",
      "                    'floating_species_counts': { 'plasmin': 50264535375850.15,\n",
      "                                                 'plasminogen': 8.571769901206029e+16,\n",
      "                                                 'single intact chain urokinase-type plasminogen activator': 2.5276874329744616e+16,\n",
      "                                                 'two-chain urokinase-type plasminogen activator': 988415819.3629246,\n",
      "                                                 'x': 0.0,\n",
      "                                                 'x-plasmin': 0.0},\n",
      "                    'time': 4.0},\n",
      "                  { 'floating_species_concentrations': { 'plasmin': 0.00036368509673783995,\n",
      "                                                         'plasminogen': 0.2898254125579512,\n",
      "                                                         'single intact chain urokinase-type plasminogen activator': 0.08363396964480554,\n",
      "                                                         'two-chain urokinase-type plasminogen activator': 6.26202928921516e-08,\n",
      "                                                         'x': 0.0,\n",
      "                                                         'x-plasmin': 0.0},\n",
      "                    'floating_species_counts': { 'plasmin': 219016284486948.94,\n",
      "                                                 'plasminogen': 1.7453694302490534e+17,\n",
      "                                                 'single intact chain urokinase-type plasminogen activator': 5.036555375185861e+16,\n",
      "                                                 'two-chain urokinase-type plasminogen activator': 37710821822.89644,\n",
      "                                                 'x': 0.0,\n",
      "                                                 'x-plasmin': 0.0},\n",
      "                    'time': 5.0},\n",
      "                  { 'floating_species_concentrations': { 'plasmin': 0.001493471574040387,\n",
      "                                                         'plasminogen': 0.5795486179831393,\n",
      "                                                         'single intact chain urokinase-type plasminogen activator': 0.1635969870983704,\n",
      "                                                         'two-chain urokinase-type plasminogen activator': 2.073986617357199e-06,\n",
      "                                                         'x': 0.0,\n",
      "                                                         'x-plasmin': 0.0},\n",
      "                    'floating_species_counts': { 'plasmin': 899389603992997.2,\n",
      "                                                 'plasminogen': 3.4901233547579315e+17,\n",
      "                                                 'single intact chain urokinase-type plasminogen activator': 9.852040842182902e+16,\n",
      "                                                 'two-chain urokinase-type plasminogen activator': 1248983934408.131,\n",
      "                                                 'x': 0.0,\n",
      "                                                 'x-plasmin': 0.0},\n",
      "                    'time': 6.0},\n",
      "                  { 'floating_species_concentrations': { 'plasmin': 0.005928504374591139,\n",
      "                                                         'plasminogen': 1.1475441940270583,\n",
      "                                                         'single intact chain urokinase-type plasminogen activator': 0.31702304307260554,\n",
      "                                                         'two-chain urokinase-type plasminogen activator': 6.339372382976752e-05,\n",
      "                                                         'x': 0.0,\n",
      "                                                         'x-plasmin': 0.0},\n",
      "                    'floating_species_counts': { 'plasmin': 3570228784006361.0,\n",
      "                                                 'plasminogen': 6.910672664751697e+17,\n",
      "                                                 'single intact chain urokinase-type plasminogen activator': 1.9091573895467734e+17,\n",
      "                                                 'two-chain urokinase-type plasminogen activator': 38176592820342.63,\n",
      "                                                 'x': 0.0,\n",
      "                                                 'x-plasmin': 0.0},\n",
      "                    'time': 7.0},\n",
      "                  { 'floating_species_concentrations': { 'plasmin': 0.02360485069972336,\n",
      "                                                         'plasminogen': 2.2562471891541533,\n",
      "                                                         'single intact chain urokinase-type plasminogen activator': 0.609795304174061,\n",
      "                                                         'two-chain urokinase-type plasminogen activator': 0.001899598978755492,\n",
      "                                                         'x': 0.0,\n",
      "                                                         'x-plasmin': 0.0},\n",
      "                    'floating_species_counts': { 'plasmin': 1.4215173353251856e+16,\n",
      "                                                 'plasminogen': 1.3587438162440658e+18,\n",
      "                                                 'single intact chain urokinase-type plasminogen activator': 3.672273156523211e+17,\n",
      "                                                 'two-chain urokinase-type plasminogen activator': 1143965243761782.2,\n",
      "                                                 'x': 0.0,\n",
      "                                                 'x-plasmin': 0.0},\n",
      "                    'time': 8.0},\n",
      "                  { 'floating_species_concentrations': { 'plasmin': 0.13681709060841624,\n",
      "                                                         'plasminogen': 4.357941523046428,\n",
      "                                                         'single intact chain urokinase-type plasminogen activator': 1.0904864045077423,\n",
      "                                                         'two-chain urokinase-type plasminogen activator': 0.08668919727994424,\n",
      "                                                         'x': 0.0,\n",
      "                                                         'x-plasmin': 0.0},\n",
      "                    'floating_species_counts': { 'plasmin': 8.239317780175568e+16,\n",
      "                                                 'plasminogen': 2.624413727563437e+18,\n",
      "                                                 'single intact chain urokinase-type plasminogen activator': 6.567062624811922e+17,\n",
      "                                                 'two-chain urokinase-type plasminogen activator': 5.2205454839123336e+16,\n",
      "                                                 'x': 0.0,\n",
      "                                                 'x-plasmin': 0.0},\n",
      "                    'time': 9.0},\n",
      "                  { 'floating_species_concentrations': { 'plasmin': 2.5207514716425976,\n",
      "                                                         'plasminogen': 6.275671452231845,\n",
      "                                                         'single intact chain urokinase-type plasminogen activator': 1.0905005647465469,\n",
      "                                                         'two-chain urokinase-type plasminogen activator': 1.172076364584569,\n",
      "                                                         'x': 0.0,\n",
      "                                                         'x-plasmin': 0.0},\n",
      "                    'floating_species_counts': { 'plasmin': 1.5180320183208873e+18,\n",
      "                                                 'plasminogen': 3.7792976848853786e+18,\n",
      "                                                 'single intact chain urokinase-type plasminogen activator': 6.567147899763199e+17,\n",
      "                                                 'two-chain urokinase-type plasminogen activator': 7.058408848997354e+17,\n",
      "                                                 'x': 0.0,\n",
      "                                                 'x-plasmin': 0.0},\n",
      "                    'time': 10.0},\n",
      "                  { 'floating_species_concentrations': { 'plasmin': 9.882810248993176,\n",
      "                                                         'plasminogen': 7.1440128829007,\n",
      "                                                         'single intact chain urokinase-type plasminogen activator': 1.0905020408936406,\n",
      "                                                         'two-chain urokinase-type plasminogen activator': 3.2554281220327104,\n",
      "                                                         'x': 0.0,\n",
      "                                                         'x-plasmin': 0.0},\n",
      "                    'floating_species_counts': { 'plasmin': 5.951567442380755e+18,\n",
      "                                                 'plasminogen': 4.302225117208142e+18,\n",
      "                                                 'single intact chain urokinase-type plasminogen activator': 6.56715678932878e+17,\n",
      "                                                 'two-chain urokinase-type plasminogen activator': 1.9604646384943442e+18,\n",
      "                                                 'x': 0.0,\n",
      "                                                 'x-plasmin': 0.0},\n",
      "                    'time': 11.0},\n",
      "                  { 'floating_species_concentrations': { 'plasmin': 25.47069088039531,\n",
      "                                                         'plasminogen': 7.3089267858318,\n",
      "                                                         'single intact chain urokinase-type plasminogen activator': 1.0905023701301475,\n",
      "                                                         'two-chain urokinase-type plasminogen activator': 7.254281106843079,\n",
      "                                                         'x': 0.0,\n",
      "                                                         'x-plasmin': 0.0},\n",
      "                    'floating_species_counts': { 'plasmin': 1.5338808573618887e+19,\n",
      "                                                 'plasminogen': 4.401538590881348e+18,\n",
      "                                                 'single intact chain urokinase-type plasminogen activator': 6.567158772037367e+17,\n",
      "                                                 'two-chain urokinase-type plasminogen activator': 4.3686301938017623e+18,\n",
      "                                                 'x': 0.0,\n",
      "                                                 'x-plasmin': 0.0},\n",
      "                    'time': 12.0},\n",
      "                  { 'floating_species_concentrations': { 'plasmin': 55.659620451019805,\n",
      "                                                         'plasminogen': 7.315609006689118,\n",
      "                                                         'single intact chain urokinase-type plasminogen activator': 1.0905024579093425,\n",
      "                                                         'two-chain urokinase-type plasminogen activator': 14.929805058609144,\n",
      "                                                         'x': 0.0,\n",
      "                                                         'x-plasmin': 0.0},\n",
      "                    'floating_species_counts': { 'plasmin': 3.351900690042159e+19,\n",
      "                                                 'plasminogen': 4.4055627183405655e+18,\n",
      "                                                 'single intact chain urokinase-type plasminogen activator': 6.567159300656036e+17,\n",
      "                                                 'two-chain urokinase-type plasminogen activator': 8.990938758230432e+18,\n",
      "                                                 'x': 0.0,\n",
      "                                                 'x-plasmin': 0.0},\n",
      "                    'time': 13.0},\n",
      "                  { 'floating_species_concentrations': { 'plasmin': 113.59437557789064,\n",
      "                                                         'plasminogen': 7.316363679960139,\n",
      "                                                         'single intact chain urokinase-type plasminogen activator': 1.0905024817441407,\n",
      "                                                         'two-chain urokinase-type plasminogen activator': 29.662445783777237,\n",
      "                                                         'x': 0.0,\n",
      "                                                         'x-plasmin': 0.0},\n",
      "                    'floating_species_counts': { 'plasmin': 6.840813192743638e+19,\n",
      "                                                 'plasminogen': 4.406017193207155e+18,\n",
      "                                                 'single intact chain urokinase-type plasminogen activator': 6.567159444192545e+17,\n",
      "                                                 'two-chain urokinase-type plasminogen activator': 1.7863142379577506e+19,\n",
      "                                                 'x': 0.0,\n",
      "                                                 'x-plasmin': 0.0},\n",
      "                    'time': 14.0},\n",
      "                  { 'floating_species_concentrations': { 'plasmin': 224.78540779816112,\n",
      "                                                         'plasminogen': 7.316754824880197,\n",
      "                                                         'single intact chain urokinase-type plasminogen activator': 1.0905024882148253,\n",
      "                                                         'two-chain urokinase-type plasminogen activator': 57.9407369153285,\n",
      "                                                         'x': 0.0,\n",
      "                                                         'x-plasmin': 0.0},\n",
      "                    'floating_species_counts': { 'plasmin': 1.353689366554528e+20,\n",
      "                                                 'plasminogen': 4.4062527461837696e+18,\n",
      "                                                 'single intact chain urokinase-type plasminogen activator': 6.567159483159919e+17,\n",
      "                                                 'two-chain urokinase-type plasminogen activator': 3.489272734422364e+19,\n",
      "                                                 'x': 0.0,\n",
      "                                                 'x-plasmin': 0.0},\n",
      "                    'time': 15.0},\n",
      "                  { 'floating_species_concentrations': { 'plasmin': 438.2033889635509,\n",
      "                                                         'plasminogen': 7.316959047589873,\n",
      "                                                         'single intact chain urokinase-type plasminogen activator': 1.0905024899712434,\n",
      "                                                         'two-chain urokinase-type plasminogen activator': 112.21897279571691,\n",
      "                                                         'x': 0.0,\n",
      "                                                         'x-plasmin': 0.0},\n",
      "                    'floating_species_counts': { 'plasmin': 2.638922489847534e+20,\n",
      "                                                 'plasminogen': 4.406375731974176e+18,\n",
      "                                                 'single intact chain urokinase-type plasminogen activator': 6.567159493737317e+17,\n",
      "                                                 'two-chain urokinase-type plasminogen activator': 6.757984501184179e+19,\n",
      "                                                 'x': 0.0,\n",
      "                                                 'x-plasmin': 0.0},\n",
      "                    'time': 16.0},\n",
      "                  { 'floating_species_concentrations': { 'plasmin': 847.8416493219519,\n",
      "                                                         'plasminogen': 7.317065565558107,\n",
      "                                                         'single intact chain urokinase-type plasminogen activator': 1.0905024904479914,\n",
      "                                                         'two-chain urokinase-type plasminogen activator': 216.40231581342522,\n",
      "                                                         'x': 0.0,\n",
      "                                                         'x-plasmin': 0.0},\n",
      "                    'floating_species_counts': { 'plasmin': 5.105821754407353e+20,\n",
      "                                                 'plasminogen': 4.406439878593993e+18,\n",
      "                                                 'single intact chain urokinase-type plasminogen activator': 6.567159496608361e+17,\n",
      "                                                 'two-chain urokinase-type plasminogen activator': 1.3032052066184205e+20,\n",
      "                                                 'x': 0.0,\n",
      "                                                 'x-plasmin': 0.0},\n",
      "                    'time': 17.0},\n",
      "                  { 'floating_species_concentrations': { 'plasmin': 1634.1111932425024,\n",
      "                                                         'plasminogen': 7.317121093012439,\n",
      "                                                         'single intact chain urokinase-type plasminogen activator': 1.0905024905773952,\n",
      "                                                         'two-chain urokinase-type plasminogen activator': 416.37471538964144,\n",
      "                                                         'x': 0.0,\n",
      "                                                         'x-plasmin': 0.0},\n",
      "                    'floating_species_counts': { 'plasmin': 9.84084762319791e+20,\n",
      "                                                 'plasminogen': 4.406473318008596e+18,\n",
      "                                                 'single intact chain urokinase-type plasminogen activator': 6.567159497387649e+17,\n",
      "                                                 'two-chain urokinase-type plasminogen activator': 2.507467144981359e+20,\n",
      "                                                 'x': 0.0,\n",
      "                                                 'x-plasmin': 0.0},\n",
      "                    'time': 18.0},\n",
      "                  { 'floating_species_concentrations': { 'plasmin': 3143.3023086194617,\n",
      "                                                         'plasminogen': 7.317150031024135,\n",
      "                                                         'single intact chain urokinase-type plasminogen activator': 1.0905024906125191,\n",
      "                                                         'two-chain urokinase-type plasminogen activator': 800.2083856421425,\n",
      "                                                         'x': 0.0,\n",
      "                                                         'x-plasmin': 0.0},\n",
      "                    'floating_species_counts': { 'plasmin': 1.8929408953739358e+21,\n",
      "                                                 'plasminogen': 4.406490744886571e+18,\n",
      "                                                 'single intact chain urokinase-type plasminogen activator': 6.567159497599169e+17,\n",
      "                                                 'two-chain urokinase-type plasminogen activator': 4.818967535669345e+20,\n",
      "                                                 'x': 0.0,\n",
      "                                                 'x-plasmin': 0.0},\n",
      "                    'time': 19.0},\n",
      "                  { 'floating_species_concentrations': { 'plasmin': 6040.085547667099,\n",
      "                                                         'plasminogen': 7.317165109820492,\n",
      "                                                         'single intact chain urokinase-type plasminogen activator': 1.0905024906220528,\n",
      "                                                         'two-chain urokinase-type plasminogen activator': 1536.9494698372412,\n",
      "                                                         'x': 0.0,\n",
      "                                                         'x-plasmin': 0.0},\n",
      "                    'floating_species_counts': { 'plasmin': 3.637424537049295e+21,\n",
      "                                                 'plasminogen': 4.4064998255499863e+18,\n",
      "                                                 'single intact chain urokinase-type plasminogen activator': 6.567159497656582e+17,\n",
      "                                                 'two-chain urokinase-type plasminogen activator': 9.255726048367241e+20,\n",
      "                                                 'x': 0.0,\n",
      "                                                 'x-plasmin': 0.0},\n",
      "                    'time': 20.0},\n",
      "                  { 'floating_species_concentrations': { 'plasmin': 11600.257785484348,\n",
      "                                                         'plasminogen': 7.317172966350888,\n",
      "                                                         'single intact chain urokinase-type plasminogen activator': 1.0905024906246406,\n",
      "                                                         'two-chain urokinase-type plasminogen activator': 2951.0723574397753,\n",
      "                                                         'x': 0.0,\n",
      "                                                         'x-plasmin': 0.0},\n",
      "                    'floating_species_counts': { 'plasmin': 6.985838523647262e+21,\n",
      "                                                 'plasminogen': 4.4065045568631793e+18,\n",
      "                                                 'single intact chain urokinase-type plasminogen activator': 6.567159497672166e+17,\n",
      "                                                 'two-chain urokinase-type plasminogen activator': 1.777177312944736e+21,\n",
      "                                                 'x': 0.0,\n",
      "                                                 'x-plasmin': 0.0},\n",
      "                    'time': 21.0},\n",
      "                  { 'floating_species_concentrations': { 'plasmin': 22272.621903760206,\n",
      "                                                         'plasminogen': 7.317177059685848,\n",
      "                                                         'single intact chain urokinase-type plasminogen activator': 1.0905024906253429,\n",
      "                                                         'two-chain urokinase-type plasminogen activator': 5665.382971372926,\n",
      "                                                         'x': 0.0,\n",
      "                                                         'x-plasmin': 0.0},\n",
      "                    'floating_species_counts': { 'plasmin': 1.3412886419870312e+22,\n",
      "                                                 'plasminogen': 4.4065070219271096e+18,\n",
      "                                                 'single intact chain urokinase-type plasminogen activator': 6.567159497676397e+17,\n",
      "                                                 'two-chain urokinase-type plasminogen activator': 3.411773371291481e+21,\n",
      "                                                 'x': 0.0,\n",
      "                                                 'x-plasmin': 0.0},\n",
      "                    'time': 22.0},\n",
      "                  { 'floating_species_concentrations': { 'plasmin': 42757.482728990275,\n",
      "                                                         'plasminogen': 7.3171791923126115,\n",
      "                                                         'single intact chain urokinase-type plasminogen activator': 1.0905024906255336,\n",
      "                                                         'two-chain urokinase-type plasminogen activator': 10875.313470610668,\n",
      "                                                         'x': 0.0,\n",
      "                                                         'x-plasmin': 0.0},\n",
      "                    'floating_species_counts': { 'plasmin': 2.5749157953724836e+22,\n",
      "                                                 'plasminogen': 4.4065083062249656e+18,\n",
      "                                                 'single intact chain urokinase-type plasminogen activator': 6.567159497677545e+17,\n",
      "                                                 'two-chain urokinase-type plasminogen activator': 6.549266852914157e+21,\n",
      "                                                 'x': 0.0,\n",
      "                                                 'x-plasmin': 0.0},\n",
      "                    'time': 23.0},\n",
      "                  { 'floating_species_concentrations': { 'plasmin': 82076.7684908071,\n",
      "                                                         'plasminogen': 7.317180303397827,\n",
      "                                                         'single intact chain urokinase-type plasminogen activator': 1.0905024906255854,\n",
      "                                                         'two-chain urokinase-type plasminogen activator': 20875.41784048041,\n",
      "                                                         'x': 0.0,\n",
      "                                                         'x-plasmin': 0.0},\n",
      "                    'floating_species_counts': { 'plasmin': 4.9427785297757305e+22,\n",
      "                                                 'plasminogen': 4.4065089753361224e+18,\n",
      "                                                 'single intact chain urokinase-type plasminogen activator': 6.567159497677856e+17,\n",
      "                                                 'two-chain urokinase-type plasminogen activator': 1.2571470465918824e+22,\n",
      "                                                 'x': 0.0,\n",
      "                                                 'x-plasmin': 0.0},\n",
      "                    'time': 24.0},\n",
      "                  { 'floating_species_concentrations': { 'plasmin': 157547.4948920393,\n",
      "                                                         'plasminogen': 7.317180882262624,\n",
      "                                                         'single intact chain urokinase-type plasminogen activator': 1.0905024906255993,\n",
      "                                                         'two-chain urokinase-type plasminogen activator': 40069.94608317602,\n",
      "                                                         'x': 0.0,\n",
      "                                                         'x-plasmin': 0.0},\n",
      "                    'floating_species_counts': { 'plasmin': 9.487731906252416e+22,\n",
      "                                                 'plasminogen': 4.4065093239366513e+18,\n",
      "                                                 'single intact chain urokinase-type plasminogen activator': 6.56715949767794e+17,\n",
      "                                                 'two-chain urokinase-type plasminogen activator': 2.413068555584967e+22,\n",
      "                                                 'x': 0.0,\n",
      "                                                 'x-plasmin': 0.0},\n",
      "                    'time': 25.0},\n",
      "                  { 'floating_species_concentrations': { 'plasmin': 302408.199518019,\n",
      "                                                         'plasminogen': 7.317181183845372,\n",
      "                                                         'single intact chain urokinase-type plasminogen activator': 1.0905024906256031,\n",
      "                                                         'two-chain urokinase-type plasminogen activator': 76912.48118181122,\n",
      "                                                         'x': 0.0,\n",
      "                                                         'x-plasmin': 0.0},\n",
      "                    'floating_species_counts': { 'plasmin': 1.8211447444756744e+23,\n",
      "                                                 'plasminogen': 4.4065095055540275e+18,\n",
      "                                                 'single intact chain urokinase-type plasminogen activator': 6.567159497677964e+17,\n",
      "                                                 'two-chain urokinase-type plasminogen activator': 4.631777878777183e+22,\n",
      "                                                 'x': 0.0,\n",
      "                                                 'x-plasmin': 0.0},\n",
      "                    'time': 26.0},\n",
      "                  { 'floating_species_concentrations': { 'plasmin': 580458.1856829972,\n",
      "                                                         'plasminogen': 7.317181340966627,\n",
      "                                                         'single intact chain urokinase-type plasminogen activator': 1.0905024906256042,\n",
      "                                                         'two-chain urokinase-type plasminogen activator': 147629.14931527042,\n",
      "                                                         'x': 0.0,\n",
      "                                                         'x-plasmin': 0.0},\n",
      "                    'floating_species_counts': { 'plasmin': 3.495600899477226e+23,\n",
      "                                                 'plasminogen': 4.4065096001746586e+18,\n",
      "                                                 'single intact chain urokinase-type plasminogen activator': 6.56715949767797e+17,\n",
      "                                                 'two-chain urokinase-type plasminogen activator': 8.890435174556159e+22,\n",
      "                                                 'x': 0.0,\n",
      "                                                 'x-plasmin': 0.0},\n",
      "                    'time': 27.0},\n",
      "                  { 'floating_species_concentrations': { 'plasmin': 1114156.0923091478,\n",
      "                                                         'plasminogen': 7.317181422824921,\n",
      "                                                         'single intact chain urokinase-type plasminogen activator': 1.0905024906256044,\n",
      "                                                         'two-chain urokinase-type plasminogen activator': 283364.95087781566,\n",
      "                                                         'x': 0.0,\n",
      "                                                         'x-plasmin': 0.0},\n",
      "                    'floating_species_counts': { 'plasmin': 6.709604816497242e+23,\n",
      "                                                 'plasminogen': 4.406509649470875e+18,\n",
      "                                                 'single intact chain urokinase-type plasminogen activator': 6.567159497677971e+17,\n",
      "                                                 'two-chain urokinase-type plasminogen activator': 1.706463620636691e+23,\n",
      "                                                 'x': 0.0,\n",
      "                                                 'x-plasmin': 0.0},\n",
      "                    'time': 28.0},\n",
      "                  { 'floating_species_concentrations': { 'plasmin': 2138551.5136487684,\n",
      "                                                         'plasminogen': 7.317181465472144,\n",
      "                                                         'single intact chain urokinase-type plasminogen activator': 1.0905024906256044,\n",
      "                                                         'two-chain urokinase-type plasminogen activator': 543900.23105476,\n",
      "                                                         'x': 0.0,\n",
      "                                                         'x-plasmin': 0.0},\n",
      "                    'floating_species_counts': { 'plasmin': 1.2878658237703946e+24,\n",
      "                                                 'plasminogen': 4.4065096751536333e+18,\n",
      "                                                 'single intact chain urokinase-type plasminogen activator': 6.567159497677971e+17,\n",
      "                                                 'two-chain urokinase-type plasminogen activator': 3.2754437508082884e+23,\n",
      "                                                 'x': 0.0,\n",
      "                                                 'x-plasmin': 0.0},\n",
      "                    'time': 29.0},\n",
      "                  { 'floating_species_concentrations': { 'plasmin': 4104806.635843627,\n",
      "                                                         'plasminogen': 7.317181487690843,\n",
      "                                                         'single intact chain urokinase-type plasminogen activator': 1.0905024906256044,\n",
      "                                                         'two-chain urokinase-type plasminogen activator': 1043979.4177526401,\n",
      "                                                         'x': 0.0,\n",
      "                                                         'x-plasmin': 0.0},\n",
      "                    'floating_species_counts': { 'plasmin': 2.4719723353632386e+24,\n",
      "                                                 'plasminogen': 4.4065096885340467e+18,\n",
      "                                                 'single intact chain urokinase-type plasminogen activator': 6.567159497677971e+17,\n",
      "                                                 'two-chain urokinase-type plasminogen activator': 6.286991004249241e+23,\n",
      "                                                 'x': 0.0,\n",
      "                                                 'x-plasmin': 0.0},\n",
      "                    'time': 30.0}]}\n"
     ]
    }
   ],
   "source": [
    "pp(results)"
   ]
  },
  {
   "cell_type": "code",
   "execution_count": 7,
   "id": "b1614b8359c0651f",
   "metadata": {
    "ExecuteTime": {
     "end_time": "2024-04-30T15:46:22.342712Z",
     "start_time": "2024-04-30T15:46:22.338562Z"
    }
   },
   "outputs": [],
   "source": [
    "from biosimulator_processes.steps.viz import ResultsAnimation"
   ]
  },
  {
   "cell_type": "code",
   "execution_count": 8,
   "id": "601a2e10c945b363",
   "metadata": {
    "ExecuteTime": {
     "end_time": "2024-04-30T15:46:22.742458Z",
     "start_time": "2024-04-30T15:46:22.740364Z"
    }
   },
   "outputs": [],
   "source": [
    "output = results.copy()"
   ]
  },
  {
   "cell_type": "code",
   "execution_count": 9,
   "id": "538db282c51069d6",
   "metadata": {
    "ExecuteTime": {
     "end_time": "2024-04-30T15:46:22.983505Z",
     "start_time": "2024-04-30T15:46:22.981413Z"
    }
   },
   "outputs": [],
   "source": [
    "output_vals = output[('emitter',)]"
   ]
  },
  {
   "cell_type": "code",
   "execution_count": 10,
   "id": "a44c1cc0f9850758",
   "metadata": {
    "ExecuteTime": {
     "end_time": "2024-04-30T15:46:23.221973Z",
     "start_time": "2024-04-30T15:46:23.219568Z"
    }
   },
   "outputs": [],
   "source": [
    "timescale = list(set([val.get('time', 0.0) for val in output_vals]))"
   ]
  },
  {
   "cell_type": "code",
   "execution_count": 11,
   "id": "5c510ec6dac592eb",
   "metadata": {
    "ExecuteTime": {
     "end_time": "2024-04-30T15:46:23.577644Z",
     "start_time": "2024-04-30T15:46:23.572598Z"
    }
   },
   "outputs": [
    {
     "data": {
      "text/plain": [
       "[0.0,\n",
       " 1.0,\n",
       " 2.0,\n",
       " 3.0,\n",
       " 4.0,\n",
       " 5.0,\n",
       " 6.0,\n",
       " 7.0,\n",
       " 8.0,\n",
       " 9.0,\n",
       " 10.0,\n",
       " 11.0,\n",
       " 12.0,\n",
       " 13.0,\n",
       " 14.0,\n",
       " 15.0,\n",
       " 16.0,\n",
       " 17.0,\n",
       " 18.0,\n",
       " 19.0,\n",
       " 20.0,\n",
       " 21.0,\n",
       " 22.0,\n",
       " 23.0,\n",
       " 24.0,\n",
       " 25.0,\n",
       " 26.0,\n",
       " 27.0,\n",
       " 28.0,\n",
       " 29.0,\n",
       " 30.0]"
      ]
     },
     "execution_count": 11,
     "metadata": {},
     "output_type": "execute_result"
    }
   ],
   "source": [
    "timescale"
   ]
  },
  {
   "cell_type": "code",
   "execution_count": 12,
   "id": "f27e97fdebb17b07",
   "metadata": {
    "ExecuteTime": {
     "end_time": "2024-04-30T15:46:24.086934Z",
     "start_time": "2024-04-30T15:46:24.084873Z"
    }
   },
   "outputs": [],
   "source": [
    "data = []\n",
    "counts_data = []"
   ]
  },
  {
   "cell_type": "code",
   "execution_count": 13,
   "id": "c476add07372b47c",
   "metadata": {
    "ExecuteTime": {
     "end_time": "2024-04-30T15:46:24.749490Z",
     "start_time": "2024-04-30T15:46:24.746587Z"
    }
   },
   "outputs": [],
   "source": [
    "for i, val in enumerate(output_vals):\n",
    "    species_data = val.get('floating_species_concentrations')\n",
    "    data.append(species_data.get('plasminogen'))\n",
    "    counts = val.get('floating_species_counts')\n",
    "    counts_data.append(counts.get('plasminogen'))"
   ]
  },
  {
   "cell_type": "code",
   "execution_count": 14,
   "id": "279b7ff8dca7ec71",
   "metadata": {
    "ExecuteTime": {
     "end_time": "2024-04-30T15:46:25.267027Z",
     "start_time": "2024-04-30T15:46:25.263582Z"
    }
   },
   "outputs": [
    {
     "data": {
      "text/plain": [
       "([0.0,\n",
       "  0.009841338438766237,\n",
       "  0.02921207965451545,\n",
       "  0.0673340084602464,\n",
       "  0.14233758795777518,\n",
       "  0.2898254125579512,\n",
       "  0.5795486179831393,\n",
       "  1.1475441940270583,\n",
       "  2.2562471891541533,\n",
       "  4.357941523046428,\n",
       "  6.275671452231845,\n",
       "  7.1440128829007,\n",
       "  7.3089267858318,\n",
       "  7.315609006689118,\n",
       "  7.316363679960139,\n",
       "  7.316754824880197,\n",
       "  7.316959047589873,\n",
       "  7.317065565558107,\n",
       "  7.317121093012439,\n",
       "  7.317150031024135,\n",
       "  7.317165109820492,\n",
       "  7.317172966350888,\n",
       "  7.317177059685848,\n",
       "  7.3171791923126115,\n",
       "  7.317180303397827,\n",
       "  7.317180882262624,\n",
       "  7.317181183845372,\n",
       "  7.317181340966627,\n",
       "  7.317181422824921,\n",
       "  7.317181465472144,\n",
       "  7.317181487690843],\n",
       " [0.0,\n",
       "  5926592534504892.0,\n",
       "  1.7591925557182422e+16,\n",
       "  4.0549487688263464e+16,\n",
       "  8.571769901206029e+16,\n",
       "  1.7453694302490534e+17,\n",
       "  3.4901233547579315e+17,\n",
       "  6.910672664751697e+17,\n",
       "  1.3587438162440658e+18,\n",
       "  2.624413727563437e+18,\n",
       "  3.7792976848853786e+18,\n",
       "  4.302225117208142e+18,\n",
       "  4.401538590881348e+18,\n",
       "  4.4055627183405655e+18,\n",
       "  4.406017193207155e+18,\n",
       "  4.4062527461837696e+18,\n",
       "  4.406375731974176e+18,\n",
       "  4.406439878593993e+18,\n",
       "  4.406473318008596e+18,\n",
       "  4.406490744886571e+18,\n",
       "  4.4064998255499863e+18,\n",
       "  4.4065045568631793e+18,\n",
       "  4.4065070219271096e+18,\n",
       "  4.4065083062249656e+18,\n",
       "  4.4065089753361224e+18,\n",
       "  4.4065093239366513e+18,\n",
       "  4.4065095055540275e+18,\n",
       "  4.4065096001746586e+18,\n",
       "  4.406509649470875e+18,\n",
       "  4.4065096751536333e+18,\n",
       "  4.4065096885340467e+18])"
      ]
     },
     "execution_count": 14,
     "metadata": {},
     "output_type": "execute_result"
    }
   ],
   "source": [
    "data, counts_data"
   ]
  },
  {
   "cell_type": "code",
   "execution_count": 15,
   "id": "f84f85bf43a82b40",
   "metadata": {
    "ExecuteTime": {
     "end_time": "2024-04-30T15:46:25.847331Z",
     "start_time": "2024-04-30T15:46:25.844341Z"
    }
   },
   "outputs": [
    {
     "data": {
      "text/plain": [
       "(31, 31)"
      ]
     },
     "execution_count": 15,
     "metadata": {},
     "output_type": "execute_result"
    }
   ],
   "source": [
    "len(timescale), len(data)"
   ]
  },
  {
   "cell_type": "code",
   "execution_count": 16,
   "id": "4311ca8a4fce3a7c",
   "metadata": {
    "ExecuteTime": {
     "end_time": "2024-04-30T15:46:26.736300Z",
     "start_time": "2024-04-30T15:46:26.596835Z"
    }
   },
   "outputs": [
    {
     "data": {
      "image/png": "[encoded data removed]",
      "text/plain": [
       "<Figure size 800x500 with 1 Axes>"
      ]
     },
     "metadata": {},
     "output_type": "display_data"
    }
   ],
   "source": [
    "ResultsAnimation.plot_single_output(timescale=timescale, concentrations=data, species_name='plasminogen concentration')"
   ]
  },
  {
   "cell_type": "code",
   "execution_count": 17,
   "id": "a385d75479e50b1c",
   "metadata": {
    "ExecuteTime": {
     "end_time": "2024-04-30T15:46:27.802171Z",
     "start_time": "2024-04-30T15:46:27.718592Z"
    }
   },
   "outputs": [
    {
     "data": {
      "image/png": "[encoded data removed]",
      "text/plain": [
       "<Figure size 800x500 with 1 Axes>"
      ]
     },
     "metadata": {},
     "output_type": "display_data"
    }
   ],
   "source": [
    "ResultsAnimation.plot_single_output(timescale=timescale, concentrations=counts_data, species_name='plasminogen counts')"
   ]
  },
  {
   "cell_type": "code",
   "execution_count": 17,
   "id": "e77329409aaafa5b",
   "metadata": {
    "ExecuteTime": {
     "end_time": "2024-04-30T15:44:27.786498Z",
     "start_time": "2024-04-30T15:44:27.784230Z"
    }
   },
   "outputs": [],
   "source": []
  },
  {
   "cell_type": "code",
   "execution_count": 4,
   "id": "d58264b3a8d26273",
   "metadata": {
    "ExecuteTime": {
     "end_time": "2024-04-29T19:30:45.863060Z",
     "start_time": "2024-04-29T19:30:44.406754Z"
    }
   },
   "outputs": [],
   "source": [
    "from basico import * \n",
    "from biosimulator_processes.utils import fetch_biomodel\n",
    "\n",
    "\n",
    "model = fetch_biomodel(biomodel_id)"
   ]
  },
  {
   "cell_type": "code",
   "execution_count": 7,
   "id": "83123042a81db1c7",
   "metadata": {
    "ExecuteTime": {
     "end_time": "2024-04-29T19:32:40.812564Z",
     "start_time": "2024-04-29T19:32:40.806143Z"
    }
   },
   "outputs": [
    {
     "data": {
      "text/plain": [
       "name\n",
       "plasminogen                                                 6.022141e+15\n",
       "plasmin                                                     0.000000e+00\n",
       "single intact chain urokinase-type plasminogen activator    1.204428e+15\n",
       "two-chain urokinase-type plasminogen activator              0.000000e+00\n",
       "x                                                           0.000000e+00\n",
       "x-plasmin                                                   0.000000e+00\n",
       "Name: particle_number, dtype: float64"
      ]
     },
     "execution_count": 7,
     "metadata": {},
     "output_type": "execute_result"
    }
   ],
   "source": [
    "get_species(model=model).particle_number"
   ]
  },
  {
   "cell_type": "code",
   "execution_count": 10,
   "id": "11a9d65e213ccc06",
   "metadata": {
    "ExecuteTime": {
     "end_time": "2024-04-29T19:44:23.885586Z",
     "start_time": "2024-04-29T19:44:23.881359Z"
    }
   },
   "outputs": [],
   "source": [
    "set_species('plasminogen', model=model, initial_concentration=5.032)"
   ]
  },
  {
   "cell_type": "code",
   "execution_count": 8,
   "id": "b2d960f0b4dbb2e7",
   "metadata": {
    "ExecuteTime": {
     "end_time": "2024-04-29T19:43:41.555740Z",
     "start_time": "2024-04-29T19:43:41.552977Z"
    }
   },
   "outputs": [],
   "source": [
    "set_species('plasminogen', model=model, particle_number=5.032)"
   ]
  },
  {
   "cell_type": "code",
   "execution_count": 9,
   "id": "f0dc07b7730ec661",
   "metadata": {
    "ExecuteTime": {
     "end_time": "2024-04-29T19:43:54.008236Z",
     "start_time": "2024-04-29T19:43:54.002638Z"
    }
   },
   "outputs": [
    {
     "data": {
      "text/plain": [
       "name\n",
       "plasminogen                                                 5.032000e+00\n",
       "plasmin                                                     0.000000e+00\n",
       "single intact chain urokinase-type plasminogen activator    1.204428e+15\n",
       "two-chain urokinase-type plasminogen activator              0.000000e+00\n",
       "x                                                           0.000000e+00\n",
       "x-plasmin                                                   0.000000e+00\n",
       "Name: particle_number, dtype: float64"
      ]
     },
     "execution_count": 9,
     "metadata": {},
     "output_type": "execute_result"
    }
   ],
   "source": [
    "get_species(model=model).particle_number"
   ]
  },
  {
   "cell_type": "code",
   "execution_count": 11,
   "id": "a145ba999a76fc81",
   "metadata": {
    "ExecuteTime": {
     "end_time": "2024-04-29T19:44:40.445604Z",
     "start_time": "2024-04-29T19:44:40.440326Z"
    }
   },
   "outputs": [
    {
     "data": {
      "text/plain": [
       "name\n",
       "plasminogen                                                 5.032\n",
       "plasmin                                                     0.000\n",
       "single intact chain urokinase-type plasminogen activator    0.002\n",
       "two-chain urokinase-type plasminogen activator              0.000\n",
       "x                                                           0.000\n",
       "x-plasmin                                                   0.000\n",
       "Name: initial_concentration, dtype: float64"
      ]
     },
     "execution_count": 11,
     "metadata": {},
     "output_type": "execute_result"
    }
   ],
   "source": [
    "get_species(model=model).initial_concentration"
   ]
  },
  {
   "cell_type": "code",
   "execution_count": null,
   "id": "4b07263ce48d2094",
   "metadata": {},
   "outputs": [],
   "source": []
  }
 ],
 "metadata": {
  "kernelspec": {
   "display_name": "Python 3",
   "language": "python",
   "name": "python3"
  },
  "language_info": {
   "codemirror_mode": {
    "name": "ipython",
    "version": 2
   },
   "file_extension": ".py",
   "mimetype": "text/x-python",
   "name": "python",
   "nbconvert_exporter": "python",
   "pygments_lexer": "ipython2",
   "version": "2.7.6"
  }
 },
 "nbformat": 4,
 "nbformat_minor": 5
}
