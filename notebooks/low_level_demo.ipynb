{
 "cells": [
  {
   "cell_type": "code",
   "execution_count": 1,
   "id": "40898635d17c0f08",
   "metadata": {
    "ExecuteTime": {
     "end_time": "2024-04-30T16:19:44.890513Z",
     "start_time": "2024-04-30T16:19:44.866469Z"
    },
    "collapsed": false,
    "is_executing": true
   },
   "outputs": [],
   "source": [
    "import sys\n",
    "sys.path.insert(0, '..')\n",
    "\n",
    "import os\n",
    "import requests\n",
    "import json"
   ]
  },
  {
   "cell_type": "code",
   "execution_count": 2,
   "id": "initial_id",
   "metadata": {
    "ExecuteTime": {
     "end_time": "2024-04-30T16:19:46.372904Z",
     "start_time": "2024-04-30T16:19:44.891705Z"
    },
    "collapsed": true
   },
   "outputs": [
    {
     "name": "stdout",
     "output_type": "stream",
     "text": [
      "CobraProcess registered successfully.\n",
      "CopasiProcess registered successfully.\n",
      "SmoldynProcess registered successfully.\n",
      "TelluriumProcess registered successfully.\n"
     ]
    }
   ],
   "source": [
    "from biosimulator_processes.tests.test_copasi_process import test_process_from_document\n",
    "from biosimulator_processes.tests.data_model import ProcessUnitTest\n",
    "from biosimulator_processes import CORE\n",
    "from process_bigraph import Composite, pp"
   ]
  },
  {
   "cell_type": "markdown",
   "id": "c7dca241b02a7265",
   "metadata": {},
   "source": [
    "#### Step 1: Define the document to be read by the Composite, which is implemented by the Process."
   ]
  },
  {
   "cell_type": "code",
   "execution_count": 3,
   "id": "2633feac24b596a6",
   "metadata": {
    "ExecuteTime": {
     "end_time": "2024-04-30T16:19:46.376648Z",
     "start_time": "2024-04-30T16:19:46.373599Z"
    }
   },
   "outputs": [],
   "source": [
    "biomodel_id = 'BIOMD0000000630'\n",
    "\n",
    "document = {\n",
    "    'copasi': {\n",
    "        '_type': 'process',\n",
    "        'address': 'local:copasi',\n",
    "        'config': {\n",
    "            'model': {\n",
    "                'model_source': biomodel_id  \n",
    "            },\n",
    "            'method': 'lsoda'\n",
    "        },\n",
    "        'inputs': {\n",
    "            'floating_species_concentrations': ['floating_species_concentrations_store'],\n",
    "            'floating_species_counts': ['floating_species_counts_store'],\n",
    "            'model_parameters': ['model_parameters_store'],\n",
    "            'time': ['time_store'],\n",
    "            'reactions': ['reactions_store']\n",
    "        },\n",
    "        'outputs': {\n",
    "            'floating_species_concentrations': ['floating_species_concentrations_store'],\n",
    "            'floating_species_counts': ['floating_species_counts_store'],\n",
    "            'time': ['time_store'],\n",
    "        }\n",
    "    },\n",
    "    'emitter': {\n",
    "        '_type': 'step',\n",
    "        'address': 'local:ram-emitter',\n",
    "        'config': {\n",
    "            'emit': {\n",
    "                'floating_species_concentrations': 'tree[float]',\n",
    "                'floating_species_counts': 'tree[float]',\n",
    "                'time': 'float',\n",
    "            },\n",
    "        },\n",
    "        'inputs': {\n",
    "            'floating_species_concentrations': ['floating_species_concentrations_store'],\n",
    "            'floating_species_counts': ['floating_species_counts_store'],\n",
    "            'time': ['time_store'],\n",
    "        }\n",
    "    }\n",
    "}"
   ]
  },
  {
   "cell_type": "markdown",
   "id": "e502cb54666345af",
   "metadata": {},
   "source": [
    "#### Step 2: Define the instance composition along with the process registry"
   ]
  },
  {
   "cell_type": "code",
   "execution_count": 4,
   "id": "bd91dca0be22cd27",
   "metadata": {
    "ExecuteTime": {
     "end_time": "2024-04-30T16:19:47.792254Z",
     "start_time": "2024-04-30T16:19:46.377373Z"
    }
   },
   "outputs": [
    {
     "name": "stdout",
     "output_type": "stream",
     "text": [
      "found a biomodel id\n"
     ]
    }
   ],
   "source": [
    "workflow = Composite(\n",
    "    config={'state': document},\n",
    "    core=CORE\n",
    ")"
   ]
  },
  {
   "cell_type": "markdown",
   "id": "857667277d39c647",
   "metadata": {},
   "source": [
    "#### Step 3: Run the workflow for a duration and get the results"
   ]
  },
  {
   "cell_type": "code",
   "execution_count": 5,
   "id": "7c6f72142af0616b",
   "metadata": {
    "ExecuteTime": {
     "end_time": "2024-04-30T16:19:48.068535Z",
     "start_time": "2024-04-30T16:19:47.794009Z"
    }
   },
   "outputs": [
    {
     "name": "stderr",
     "output_type": "stream",
     "text": [
      "/Users/alex/Desktop/uchc_work/repos/biosimulator-processes/notebooks/../biosimulator_processes/processes/copasi_process.py:245: FutureWarning:\n",
      "\n",
      "Series.__getitem__ treating keys as positions is deprecated. In a future version, integer keys will always be treated as labels (consistent with DataFrame behavior). To access a value by position, use `ser.iloc[pos]`\n",
      "\n",
      "/Users/alex/Desktop/uchc_work/repos/biosimulator-processes/notebooks/../biosimulator_processes/processes/copasi_process.py:255: FutureWarning:\n",
      "\n",
      "Series.__getitem__ treating keys as positions is deprecated. In a future version, integer keys will always be treated as labels (consistent with DataFrame behavior). To access a value by position, use `ser.iloc[pos]`\n",
      "\n"
     ]
    }
   ],
   "source": [
    "workflow.run(30)\n",
    "\n",
    "results = workflow.gather_results()"
   ]
  },
  {
   "cell_type": "code",
   "execution_count": 6,
   "id": "c7a254aee3009b8c",
   "metadata": {
    "ExecuteTime": {
     "end_time": "2024-04-30T16:19:48.076808Z",
     "start_time": "2024-04-30T16:19:48.069375Z"
    }
   },
   "outputs": [
    {
     "name": "stdout",
     "output_type": "stream",
     "text": [
      "{ ('emitter',): [ { 'floating_species_concentrations': { 'plasmin': 0.0,\n",
      "                                                         'plasminogen': 0.0,\n",
      "                                                         'single intact chain urokinase-type plasminogen activator': 0.0,\n",
      "                                                         'two-chain urokinase-type plasminogen activator': 0.0,\n",
      "                                                         'x': 0.0,\n",
      "                                                         'x-plasmin': 0.0},\n",
      "                    'floating_species_counts': { 'plasmin': 0.0,\n",
      "                                                 'plasminogen': 0.0,\n",
      "                                                 'single intact chain urokinase-type plasminogen activator': 0.0,\n",
      "                                                 'two-chain urokinase-type plasminogen activator': 0.0,\n",
      "                                                 'x': 0.0,\n",
      "                                                 'x-plasmin': 0.0},\n",
      "                    'time': 0.0},\n",
      "                  { 'floating_species_concentrations': { 'plasmin': 3.500808587045681e-07,\n",
      "                                                         'plasminogen': 0.009841338438766237,\n",
      "                                                         'single intact chain urokinase-type plasminogen activator': 0.0030692854818269843,\n",
      "                                                         'two-chain urokinase-type plasminogen activator': 2.183917569242199e-15,\n",
      "                                                         'x': 0.0,\n",
      "                                                         'x-plasmin': 0.0},\n",
      "                    'floating_species_counts': { 'plasmin': 210823620850.05804,\n",
      "                                                 'plasminogen': 5926592534504892.0,\n",
      "                                                 'single intact chain urokinase-type plasminogen activator': 1848366920418652.2,\n",
      "                                                 'two-chain urokinase-type plasminogen activator': 1315.185901021357,\n",
      "                                                 'x': 0.0,\n",
      "                                                 'x-plasmin': 0.0},\n",
      "                    'time': 1.0},\n",
      "                  { 'floating_species_concentrations': { 'plasmin': 2.9773237192375966e-06,\n",
      "                                                         'plasminogen': 0.029212079654515458,\n",
      "                                                         'single intact chain urokinase-type plasminogen activator': 0.008960567969375517,\n",
      "                                                         'two-chain urokinase-type plasminogen activator': 4.16856832646344e-13,\n",
      "                                                         'x': 0.0,\n",
      "                                                         'x-plasmin': 0.0},\n",
      "                    'floating_species_counts': { 'plasmin': 1792986252533.5527,\n",
      "                                                 'plasminogen': 1.7591925557182426e+16,\n",
      "                                                 'single intact chain urokinase-type plasminogen activator': 5396180160112673.0,\n",
      "                                                 'two-chain urokinase-type plasminogen activator': 251037.05229640467,\n",
      "                                                 'x': 0.0,\n",
      "                                                 'x-plasmin': 0.0},\n",
      "                    'time': 2.0},\n",
      "                  { 'floating_species_concentrations': { 'plasmin': 1.729376430397923e-05,\n",
      "                                                         'plasminogen': 0.06733400846024531,\n",
      "                                                         'single intact chain urokinase-type plasminogen activator': 0.0202684796823061,\n",
      "                                                         'two-chain urokinase-type plasminogen activator': 3.336891738209027e-11,\n",
      "                                                         'x': 0.0,\n",
      "                                                         'x-plasmin': 0.0},\n",
      "                    'floating_species_counts': { 'plasmin': 10414548290882.635,\n",
      "                                                 'plasminogen': 4.054948768826282e+16,\n",
      "                                                 'single intact chain urokinase-type plasminogen activator': 1.220596376380474e+16,\n",
      "                                                 'two-chain urokinase-type plasminogen activator': 20095231.748375833,\n",
      "                                                 'x': 0.0,\n",
      "                                                 'x-plasmin': 0.0},\n",
      "                    'time': 3.0},\n",
      "                  { 'floating_species_concentrations': { 'plasmin': 8.346622468491458e-05,\n",
      "                                                         'plasminogen': 0.14233758795777338,\n",
      "                                                         'single intact chain urokinase-type plasminogen activator': 0.04197323732058543,\n",
      "                                                         'two-chain urokinase-type plasminogen activator': 1.6413030826647135e-09,\n",
      "                                                         'x': 0.0,\n",
      "                                                         'x-plasmin': 0.0},\n",
      "                    'floating_species_counts': { 'plasmin': 50264535375834.22,\n",
      "                                                 'plasminogen': 8.571769901205923e+16,\n",
      "                                                 'single intact chain urokinase-type plasminogen activator': 2.527687432974507e+16,\n",
      "                                                 'two-chain urokinase-type plasminogen activator': 988415819.3628821,\n",
      "                                                 'x': 0.0,\n",
      "                                                 'x-plasmin': 0.0},\n",
      "                    'time': 4.0},\n",
      "                  { 'floating_species_concentrations': { 'plasmin': 0.00036368509673422803,\n",
      "                                                         'plasminogen': 0.28982541255795286,\n",
      "                                                         'single intact chain urokinase-type plasminogen activator': 0.08363396964478542,\n",
      "                                                         'two-chain urokinase-type plasminogen activator': 6.262030308309692e-08,\n",
      "                                                         'x': 0.0,\n",
      "                                                         'x-plasmin': 0.0},\n",
      "                    'floating_species_counts': { 'plasmin': 219016284484773.75,\n",
      "                                                 'plasminogen': 1.7453694302490637e+17,\n",
      "                                                 'single intact chain urokinase-type plasminogen activator': 5.03655537518465e+16,\n",
      "                                                 'two-chain urokinase-type plasminogen activator': 37710827960.02716,\n",
      "                                                 'x': 0.0,\n",
      "                                                 'x-plasmin': 0.0},\n",
      "                    'time': 5.0},\n",
      "                  { 'floating_species_concentrations': { 'plasmin': 0.0014934715740357119,\n",
      "                                                         'plasminogen': 0.5795486179831405,\n",
      "                                                         'single intact chain urokinase-type plasminogen activator': 0.1635969870983338,\n",
      "                                                         'two-chain urokinase-type plasminogen activator': 2.0739866368966e-06,\n",
      "                                                         'x': 0.0,\n",
      "                                                         'x-plasmin': 0.0},\n",
      "                    'floating_species_counts': { 'plasmin': 899389603990181.8,\n",
      "                                                 'plasminogen': 3.490123354757939e+17,\n",
      "                                                 'single intact chain urokinase-type plasminogen activator': 9.8520408421807e+16,\n",
      "                                                 'two-chain urokinase-type plasminogen activator': 1248983946175.0332,\n",
      "                                                 'x': 0.0,\n",
      "                                                 'x-plasmin': 0.0},\n",
      "                    'time': 6.0},\n",
      "                  { 'floating_species_concentrations': { 'plasmin': 0.005928504374591396,\n",
      "                                                         'plasminogen': 1.1475441940270412,\n",
      "                                                         'single intact chain urokinase-type plasminogen activator': 0.3170230430725356,\n",
      "                                                         'two-chain urokinase-type plasminogen activator': 6.33937238673041e-05,\n",
      "                                                         'x': 0.0,\n",
      "                                                         'x-plasmin': 0.0},\n",
      "                    'floating_species_counts': { 'plasmin': 3570228784006516.0,\n",
      "                                                 'plasminogen': 6.910672664751593e+17,\n",
      "                                                 'single intact chain urokinase-type plasminogen activator': 1.909157389546352e+17,\n",
      "                                                 'two-chain urokinase-type plasminogen activator': 38176592842947.68,\n",
      "                                                 'x': 0.0,\n",
      "                                                 'x-plasmin': 0.0},\n",
      "                    'time': 7.0},\n",
      "                  { 'floating_species_concentrations': { 'plasmin': 0.02360485069975709,\n",
      "                                                         'plasminogen': 2.256247189154087,\n",
      "                                                         'single intact chain urokinase-type plasminogen activator': 0.6097953041739221,\n",
      "                                                         'two-chain urokinase-type plasminogen activator': 0.0018995989788325167,\n",
      "                                                         'x': 0.0,\n",
      "                                                         'x-plasmin': 0.0},\n",
      "                    'floating_species_counts': { 'plasmin': 1.4215173353272168e+16,\n",
      "                                                 'plasminogen': 1.3587438162440259e+18,\n",
      "                                                 'single intact chain urokinase-type plasminogen activator': 3.6722731565223744e+17,\n",
      "                                                 'two-chain urokinase-type plasminogen activator': 1143965243808167.5,\n",
      "                                                 'x': 0.0,\n",
      "                                                 'x-plasmin': 0.0},\n",
      "                    'time': 8.0},\n",
      "                  { 'floating_species_concentrations': { 'plasmin': 0.13681709060878314,\n",
      "                                                         'plasminogen': 4.357941523045989,\n",
      "                                                         'single intact chain urokinase-type plasminogen activator': 1.0904864045071223,\n",
      "                                                         'two-chain urokinase-type plasminogen activator': 0.0866891972804458,\n",
      "                                                         'x': 0.0,\n",
      "                                                         'x-plasmin': 0.0},\n",
      "                    'floating_species_counts': { 'plasmin': 8.23931778019766e+16,\n",
      "                                                 'plasminogen': 2.624413727563173e+18,\n",
      "                                                 'single intact chain urokinase-type plasminogen activator': 6.56706262480819e+17,\n",
      "                                                 'two-chain urokinase-type plasminogen activator': 5.2205454839425384e+16,\n",
      "                                                 'x': 0.0,\n",
      "                                                 'x-plasmin': 0.0},\n",
      "                    'time': 9.0},\n",
      "                  { 'floating_species_concentrations': { 'plasmin': 2.520751471644022,\n",
      "                                                         'plasminogen': 6.275671452230192,\n",
      "                                                         'single intact chain urokinase-type plasminogen activator': 1.090500564745927,\n",
      "                                                         'two-chain urokinase-type plasminogen activator': 1.172076364584961,\n",
      "                                                         'x': 0.0,\n",
      "                                                         'x-plasmin': 0.0},\n",
      "                    'floating_species_counts': { 'plasmin': 1.5180320183217446e+18,\n",
      "                                                 'plasminogen': 3.779297684884383e+18,\n",
      "                                                 'single intact chain urokinase-type plasminogen activator': 6.567147899759466e+17,\n",
      "                                                 'two-chain urokinase-type plasminogen activator': 7.058408848999715e+17,\n",
      "                                                 'x': 0.0,\n",
      "                                                 'x-plasmin': 0.0},\n",
      "                    'time': 10.0},\n",
      "                  { 'floating_species_concentrations': { 'plasmin': 9.882808581082765,\n",
      "                                                         'plasminogen': 7.1440145095964525,\n",
      "                                                         'single intact chain urokinase-type plasminogen activator': 1.0905020408937984,\n",
      "                                                         'two-chain urokinase-type plasminogen activator': 3.255428122044082,\n",
      "                                                         'x': 0.0,\n",
      "                                                         'x-plasmin': 0.0},\n",
      "                    'floating_species_counts': { 'plasmin': 5.951566437941629e+18,\n",
      "                                                 'plasminogen': 4.302226096827221e+18,\n",
      "                                                 'single intact chain urokinase-type plasminogen activator': 6.567156789329732e+17,\n",
      "                                                 'two-chain urokinase-type plasminogen activator': 1.9604646385011922e+18,\n",
      "                                                 'x': 0.0,\n",
      "                                                 'x-plasmin': 0.0},\n",
      "                    'time': 11.0},\n",
      "                  { 'floating_species_concentrations': { 'plasmin': 25.47068882163945,\n",
      "                                                         'plasminogen': 7.308928785936439,\n",
      "                                                         'single intact chain urokinase-type plasminogen activator': 1.090502370130324,\n",
      "                                                         'two-chain urokinase-type plasminogen activator': 7.254281106898468,\n",
      "                                                         'x': 0.0,\n",
      "                                                         'x-plasmin': 0.0},\n",
      "                    'floating_species_counts': { 'plasmin': 1.5338807333807129e+19,\n",
      "                                                 'plasminogen': 4.401539795372515e+18,\n",
      "                                                 'single intact chain urokinase-type plasminogen activator': 6.567158772038432e+17,\n",
      "                                                 'two-chain urokinase-type plasminogen activator': 4.368630193835118e+18,\n",
      "                                                 'x': 0.0,\n",
      "                                                 'x-plasmin': 0.0},\n",
      "                    'time': 12.0},\n",
      "                  { 'floating_species_concentrations': { 'plasmin': 55.65961834984023,\n",
      "                                                         'plasminogen': 7.315611008250507,\n",
      "                                                         'single intact chain urokinase-type plasminogen activator': 1.0905024579095193,\n",
      "                                                         'two-chain urokinase-type plasminogen activator': 14.929805058715615,\n",
      "                                                         'x': 0.0,\n",
      "                                                         'x-plasmin': 0.0},\n",
      "                    'floating_species_counts': { 'plasmin': 3.351900563506168e+19,\n",
      "                                                 'plasminogen': 4.4055639237090074e+18,\n",
      "                                                 'single intact chain urokinase-type plasminogen activator': 6.567159300657102e+17,\n",
      "                                                 'two-chain urokinase-type plasminogen activator': 8.990938758294551e+18,\n",
      "                                                 'x': 0.0,\n",
      "                                                 'x-plasmin': 0.0},\n",
      "                    'time': 13.0},\n",
      "                  { 'floating_species_concentrations': { 'plasmin': 113.59437339181767,\n",
      "                                                         'plasminogen': 7.316365681523431,\n",
      "                                                         'single intact chain urokinase-type plasminogen activator': 1.0905024817443174,\n",
      "                                                         'two-chain urokinase-type plasminogen activator': 29.662445783981767,\n",
      "                                                         'x': 0.0,\n",
      "                                                         'x-plasmin': 0.0},\n",
      "                    'floating_species_counts': { 'plasmin': 6.840813061095247e+19,\n",
      "                                                 'plasminogen': 4.4060183985767434e+18,\n",
      "                                                 'single intact chain urokinase-type plasminogen activator': 6.567159444193612e+17,\n",
      "                                                 'two-chain urokinase-type plasminogen activator': 1.7863142379700677e+19,\n",
      "                                                 'x': 0.0,\n",
      "                                                 'x-plasmin': 0.0},\n",
      "                    'time': 14.0},\n",
      "                  { 'floating_species_concentrations': { 'plasmin': 224.78540544645784,\n",
      "                                                         'plasminogen': 7.316756826542183,\n",
      "                                                         'single intact chain urokinase-type plasminogen activator': 1.0905024882150018,\n",
      "                                                         'two-chain urokinase-type plasminogen activator': 57.94073691588349,\n",
      "                                                         'x': 0.0,\n",
      "                                                         'x-plasmin': 0.0},\n",
      "                    'floating_species_counts': { 'plasmin': 1.35368935239224e+20,\n",
      "                                                 'plasminogen': 4.4062539516127933e+18,\n",
      "                                                 'single intact chain urokinase-type plasminogen activator': 6.567159483160983e+17,\n",
      "                                                 'two-chain urokinase-type plasminogen activator': 3.4892727344557867e+19,\n",
      "                                                 'x': 0.0,\n",
      "                                                 'x-plasmin': 0.0},\n",
      "                    'time': 15.0},\n",
      "                  { 'floating_species_concentrations': { 'plasmin': 438.2033862918149,\n",
      "                                                         'plasminogen': 7.316961049251858,\n",
      "                                                         'single intact chain urokinase-type plasminogen activator': 1.09050248997142,\n",
      "                                                         'two-chain urokinase-type plasminogen activator': 112.21897279678225,\n",
      "                                                         'x': 0.0,\n",
      "                                                         'x-plasmin': 0.0},\n",
      "                    'floating_species_counts': { 'plasmin': 2.6389224737579637e+20,\n",
      "                                                 'plasminogen': 4.4063769374031985e+18,\n",
      "                                                 'single intact chain urokinase-type plasminogen activator': 6.567159493738381e+17,\n",
      "                                                 'two-chain urokinase-type plasminogen activator': 6.757984501248337e+19,\n",
      "                                                 'x': 0.0,\n",
      "                                                 'x-plasmin': 0.0},\n",
      "                    'time': 16.0},\n",
      "                  { 'floating_species_concentrations': { 'plasmin': 847.8416460347464,\n",
      "                                                         'plasminogen': 7.317067567220091,\n",
      "                                                         'single intact chain urokinase-type plasminogen activator': 1.090502490448168,\n",
      "                                                         'two-chain urokinase-type plasminogen activator': 216.402315815385,\n",
      "                                                         'x': 0.0,\n",
      "                                                         'x-plasmin': 0.0},\n",
      "                    'floating_species_counts': { 'plasmin': 5.105821734611339e+20,\n",
      "                                                 'plasminogen': 4.4064410840230154e+18,\n",
      "                                                 'single intact chain urokinase-type plasminogen activator': 6.567159496609425e+17,\n",
      "                                                 'two-chain urokinase-type plasminogen activator': 1.3032052066302229e+20,\n",
      "                                                 'x': 0.0,\n",
      "                                                 'x-plasmin': 0.0},\n",
      "                    'time': 17.0},\n",
      "                  { 'floating_species_concentrations': { 'plasmin': 1634.111188772884,\n",
      "                                                         'plasminogen': 7.317123094674423,\n",
      "                                                         'single intact chain urokinase-type plasminogen activator': 1.0905024905775718,\n",
      "                                                         'two-chain urokinase-type plasminogen activator': 416.37471539316516,\n",
      "                                                         'x': 0.0,\n",
      "                                                         'x-plasmin': 0.0},\n",
      "                    'floating_species_counts': { 'plasmin': 9.84084759628124e+20,\n",
      "                                                 'plasminogen': 4.406474523437618e+18,\n",
      "                                                 'single intact chain urokinase-type plasminogen activator': 6.567159497388713e+17,\n",
      "                                                 'two-chain urokinase-type plasminogen activator': 2.5074671450025797e+20,\n",
      "                                                 'x': 0.0,\n",
      "                                                 'x-plasmin': 0.0},\n",
      "                    'time': 18.0},\n",
      "                  { 'floating_species_concentrations': { 'plasmin': 3143.302301881008,\n",
      "                                                         'plasminogen': 7.317152032686119,\n",
      "                                                         'single intact chain urokinase-type plasminogen activator': 1.0905024906126957,\n",
      "                                                         'two-chain urokinase-type plasminogen activator': 800.2083856489135,\n",
      "                                                         'x': 0.0,\n",
      "                                                         'x-plasmin': 0.0},\n",
      "                    'floating_species_counts': { 'plasmin': 1.8929408913159446e+21,\n",
      "                                                 'plasminogen': 4.406491950315593e+18,\n",
      "                                                 'single intact chain urokinase-type plasminogen activator': 6.567159497600233e+17,\n",
      "                                                 'two-chain urokinase-type plasminogen activator': 4.818967535710121e+20,\n",
      "                                                 'x': 0.0,\n",
      "                                                 'x-plasmin': 0.0},\n",
      "                    'time': 19.0},\n",
      "                  { 'floating_species_concentrations': { 'plasmin': 6040.085536580275,\n",
      "                                                         'plasminogen': 7.317167111482476,\n",
      "                                                         'single intact chain urokinase-type plasminogen activator': 1.0905024906222294,\n",
      "                                                         'two-chain urokinase-type plasminogen activator': 1536.9494698519306,\n",
      "                                                         'x': 0.0,\n",
      "                                                         'x-plasmin': 0.0},\n",
      "                    'floating_species_counts': { 'plasmin': 3.6374245303726553e+21,\n",
      "                                                 'plasminogen': 4.4065010309790085e+18,\n",
      "                                                 'single intact chain urokinase-type plasminogen activator': 6.567159497657646e+17,\n",
      "                                                 'two-chain urokinase-type plasminogen activator': 9.255726048455704e+20,\n",
      "                                                 'x': 0.0,\n",
      "                                                 'x-plasmin': 0.0},\n",
      "                    'time': 20.0},\n",
      "                  { 'floating_species_concentrations': { 'plasmin': 11600.257766045843,\n",
      "                                                         'plasminogen': 7.317174968012872,\n",
      "                                                         'single intact chain urokinase-type plasminogen activator': 1.090502490624817,\n",
      "                                                         'two-chain urokinase-type plasminogen activator': 2951.072357468328,\n",
      "                                                         'x': 0.0,\n",
      "                                                         'x-plasmin': 0.0},\n",
      "                    'floating_species_counts': { 'plasmin': 6.985838511941122e+21,\n",
      "                                                 'plasminogen': 4.4065057622922015e+18,\n",
      "                                                 'single intact chain urokinase-type plasminogen activator': 6.56715949767323e+17,\n",
      "                                                 'two-chain urokinase-type plasminogen activator': 1.7771773129619307e+21,\n",
      "                                                 'x': 0.0,\n",
      "                                                 'x-plasmin': 0.0},\n",
      "                    'time': 21.0},\n",
      "                  { 'floating_species_concentrations': { 'plasmin': 22272.655111424298,\n",
      "                                                         'plasminogen': 7.317179061335704,\n",
      "                                                         'single intact chain urokinase-type plasminogen activator': 1.0905024906255194,\n",
      "                                                         'two-chain urokinase-type plasminogen activator': 5665.391426155475,\n",
      "                                                         'x': 0.0,\n",
      "                                                         'x-plasmin': 0.0},\n",
      "                    'floating_species_counts': { 'plasmin': 1.3412906417993061e+22,\n",
      "                                                 'plasminogen': 4.4065082273488287e+18,\n",
      "                                                 'single intact chain urokinase-type plasminogen activator': 6.56715949767746e+17,\n",
      "                                                 'two-chain urokinase-type plasminogen activator': 3.4117784628805417e+21,\n",
      "                                                 'x': 0.0,\n",
      "                                                 'x-plasmin': 0.0},\n",
      "                    'time': 22.0},\n",
      "                  { 'floating_species_concentrations': { 'plasmin': 42757.54652386841,\n",
      "                                                         'plasminogen': 7.31718119395928,\n",
      "                                                         'single intact chain urokinase-type plasminogen activator': 1.0905024906257101,\n",
      "                                                         'two-chain urokinase-type plasminogen activator': 10875.329712517325,\n",
      "                                                         'x': 0.0,\n",
      "                                                         'x-plasmin': 0.0},\n",
      "                    'floating_species_counts': { 'plasmin': 2.5749196371898426e+22,\n",
      "                                                 'plasminogen': 4.406509511644765e+18,\n",
      "                                                 'single intact chain urokinase-type plasminogen activator': 6.567159497678609e+17,\n",
      "                                                 'two-chain urokinase-type plasminogen activator': 6.549276634018967e+21,\n",
      "                                                 'x': 0.0,\n",
      "                                                 'x-plasmin': 0.0},\n",
      "                    'time': 23.0},\n",
      "                  { 'floating_species_concentrations': { 'plasmin': 82076.89094169994,\n",
      "                                                         'plasminogen': 7.317182305042837,\n",
      "                                                         'single intact chain urokinase-type plasminogen activator': 1.0905024906257619,\n",
      "                                                         'two-chain urokinase-type plasminogen activator': 20875.4490154925,\n",
      "                                                         'x': 0.0,\n",
      "                                                         'x-plasmin': 0.0},\n",
      "                    'floating_species_counts': { 'plasmin': 4.942785903940859e+22,\n",
      "                                                 'plasminogen': 4.406510180754923e+18,\n",
      "                                                 'single intact chain urokinase-type plasminogen activator': 6.56715949767892e+17,\n",
      "                                                 'two-chain urokinase-type plasminogen activator': 1.2571489239949925e+22,\n",
      "                                                 'x': 0.0,\n",
      "                                                 'x-plasmin': 0.0},\n",
      "                    'time': 24.0},\n",
      "                  { 'floating_species_concentrations': { 'plasmin': 157547.7299960234,\n",
      "                                                         'plasminogen': 7.31718288390677,\n",
      "                                                         'single intact chain urokinase-type plasminogen activator': 1.0905024906257759,\n",
      "                                                         'two-chain urokinase-type plasminogen activator': 40070.00593827294,\n",
      "                                                         'x': 0.0,\n",
      "                                                         'x-plasmin': 0.0},\n",
      "                    'floating_species_counts': { 'plasmin': 9.487746064545272e+22,\n",
      "                                                 'plasminogen': 4.406510529354931e+18,\n",
      "                                                 'single intact chain urokinase-type plasminogen activator': 6.567159497679004e+17,\n",
      "                                                 'two-chain urokinase-type plasminogen activator': 2.4130721601431546e+22,\n",
      "                                                 'x': 0.0,\n",
      "                                                 'x-plasmin': 0.0},\n",
      "                    'time': 25.0},\n",
      "                  { 'floating_species_concentrations': { 'plasmin': 302408.6508123493,\n",
      "                                                         'plasminogen': 7.317183185489068,\n",
      "                                                         'single intact chain urokinase-type plasminogen activator': 1.0905024906257796,\n",
      "                                                         'two-chain urokinase-type plasminogen activator': 76912.59607630857,\n",
      "                                                         'x': 0.0,\n",
      "                                                         'x-plasmin': 0.0},\n",
      "                    'floating_species_counts': { 'plasmin': 1.8211474622336557e+23,\n",
      "                                                 'plasminogen': 4.406510710972036e+18,\n",
      "                                                 'single intact chain urokinase-type plasminogen activator': 6.567159497679027e+17,\n",
      "                                                 'two-chain urokinase-type plasminogen activator': 4.63178479788554e+22,\n",
      "                                                 'x': 0.0,\n",
      "                                                 'x-plasmin': 0.0},\n",
      "                    'time': 26.0},\n",
      "                  { 'floating_species_concentrations': { 'plasmin': 580459.05186398,\n",
      "                                                         'plasminogen': 7.317183342610088,\n",
      "                                                         'single intact chain urokinase-type plasminogen activator': 1.0905024906257808,\n",
      "                                                         'two-chain urokinase-type plasminogen activator': 147629.3698348209,\n",
      "                                                         'x': 0.0,\n",
      "                                                         'x-plasmin': 0.0},\n",
      "                    'floating_species_counts': { 'plasmin': 3.4956061157410276e+23,\n",
      "                                                 'plasminogen': 4.406510805592526e+18,\n",
      "                                                 'single intact chain urokinase-type plasminogen activator': 6.567159497679034e+17,\n",
      "                                                 'two-chain urokinase-type plasminogen activator': 8.890448454553894e+22,\n",
      "                                                 'x': 0.0,\n",
      "                                                 'x-plasmin': 0.0},\n",
      "                    'time': 27.0},\n",
      "                  { 'floating_species_concentrations': { 'plasmin': 1114157.754882549,\n",
      "                                                         'plasminogen': 7.317183424468259,\n",
      "                                                         'single intact chain urokinase-type plasminogen activator': 1.090502490625781,\n",
      "                                                         'two-chain urokinase-type plasminogen activator': 283365.3741490961,\n",
      "                                                         'x': 0.0,\n",
      "                                                         'x-plasmin': 0.0},\n",
      "                    'floating_species_counts': { 'plasmin': 6.709614828748287e+23,\n",
      "                                                 'plasminogen': 4.4065108548886687e+18,\n",
      "                                                 'single intact chain urokinase-type plasminogen activator': 6.567159497679035e+17,\n",
      "                                                 'two-chain urokinase-type plasminogen activator': 1.7064661696359215e+23,\n",
      "                                                 'x': 0.0,\n",
      "                                                 'x-plasmin': 0.0},\n",
      "                    'time': 28.0},\n",
      "                  { 'floating_species_concentrations': { 'plasmin': 2138554.7017015386,\n",
      "                                                         'plasminogen': 7.317183467115418,\n",
      "                                                         'single intact chain urokinase-type plasminogen activator': 1.090502490625781,\n",
      "                                                         'two-chain urokinase-type plasminogen activator': 543901.0426951617,\n",
      "                                                         'x': 0.0,\n",
      "                                                         'x-plasmin': 0.0},\n",
      "                    'floating_species_counts': { 'plasmin': 1.2878677436606477e+24,\n",
      "                                                 'plasminogen': 4.4065108805713884e+18,\n",
      "                                                 'single intact chain urokinase-type plasminogen activator': 6.567159497679035e+17,\n",
      "                                                 'two-chain urokinase-type plasminogen activator': 3.275448638621033e+23,\n",
      "                                                 'x': 0.0,\n",
      "                                                 'x-plasmin': 0.0},\n",
      "                    'time': 29.0},\n",
      "                  { 'floating_species_concentrations': { 'plasmin': 4104812.7550894655,\n",
      "                                                         'plasminogen': 7.317183489334084,\n",
      "                                                         'single intact chain urokinase-type plasminogen activator': 1.090502490625781,\n",
      "                                                         'two-chain urokinase-type plasminogen activator': 1043980.9756395437,\n",
      "                                                         'x': 0.0,\n",
      "                                                         'x-plasmin': 0.0},\n",
      "                    'floating_species_counts': { 'plasmin': 2.4719760204592167e+24,\n",
      "                                                 'plasminogen': 4.406510893951782e+18,\n",
      "                                                 'single intact chain urokinase-type plasminogen activator': 6.567159497679035e+17,\n",
      "                                                 'two-chain urokinase-type plasminogen activator': 6.287000386063464e+23,\n",
      "                                                 'x': 0.0,\n",
      "                                                 'x-plasmin': 0.0},\n",
      "                    'time': 30.0}]}\n"
     ]
    }
   ],
   "source": [
    "pp(results)"
   ]
  },
  {
   "cell_type": "code",
   "execution_count": 7,
   "id": "b1614b8359c0651f",
   "metadata": {
    "ExecuteTime": {
     "end_time": "2024-04-30T16:19:48.080862Z",
     "start_time": "2024-04-30T16:19:48.077550Z"
    }
   },
   "outputs": [],
   "source": [
    "from biosimulator_processes.steps.viz import ResultsAnimation, Plotter2d"
   ]
  },
  {
   "cell_type": "code",
   "execution_count": 8,
   "id": "601a2e10c945b363",
   "metadata": {
    "ExecuteTime": {
     "end_time": "2024-04-30T16:19:48.082806Z",
     "start_time": "2024-04-30T16:19:48.081469Z"
    }
   },
   "outputs": [],
   "source": [
    "output = results.copy()"
   ]
  },
  {
   "cell_type": "code",
   "execution_count": 9,
   "id": "538db282c51069d6",
   "metadata": {
    "ExecuteTime": {
     "end_time": "2024-04-30T16:19:48.084784Z",
     "start_time": "2024-04-30T16:19:48.083267Z"
    }
   },
   "outputs": [],
   "source": [
    "output_vals = output[('emitter',)]"
   ]
  },
  {
   "cell_type": "code",
   "execution_count": 10,
   "id": "a44c1cc0f9850758",
   "metadata": {
    "ExecuteTime": {
     "end_time": "2024-04-30T16:19:48.086955Z",
     "start_time": "2024-04-30T16:19:48.085322Z"
    }
   },
   "outputs": [],
   "source": [
    "timescale = list(set([val.get('time', 0.0) for val in output_vals]))"
   ]
  },
  {
   "cell_type": "code",
   "execution_count": 11,
   "id": "5c510ec6dac592eb",
   "metadata": {
    "ExecuteTime": {
     "end_time": "2024-04-30T16:19:48.090497Z",
     "start_time": "2024-04-30T16:19:48.087652Z"
    }
   },
   "outputs": [
    {
     "data": {
      "text/plain": [
       "[0.0,\n",
       " 1.0,\n",
       " 2.0,\n",
       " 3.0,\n",
       " 4.0,\n",
       " 5.0,\n",
       " 6.0,\n",
       " 7.0,\n",
       " 8.0,\n",
       " 9.0,\n",
       " 10.0,\n",
       " 11.0,\n",
       " 12.0,\n",
       " 13.0,\n",
       " 14.0,\n",
       " 15.0,\n",
       " 16.0,\n",
       " 17.0,\n",
       " 18.0,\n",
       " 19.0,\n",
       " 20.0,\n",
       " 21.0,\n",
       " 22.0,\n",
       " 23.0,\n",
       " 24.0,\n",
       " 25.0,\n",
       " 26.0,\n",
       " 27.0,\n",
       " 28.0,\n",
       " 29.0,\n",
       " 30.0]"
      ]
     },
     "execution_count": 11,
     "metadata": {},
     "output_type": "execute_result"
    }
   ],
   "source": [
    "timescale"
   ]
  },
  {
   "cell_type": "code",
   "execution_count": 12,
   "id": "f27e97fdebb17b07",
   "metadata": {
    "ExecuteTime": {
     "end_time": "2024-04-30T16:19:48.092697Z",
     "start_time": "2024-04-30T16:19:48.091224Z"
    }
   },
   "outputs": [],
   "source": [
    "data = []\n",
    "counts_data = []"
   ]
  },
  {
   "cell_type": "code",
   "execution_count": 13,
   "id": "c476add07372b47c",
   "metadata": {
    "ExecuteTime": {
     "end_time": "2024-04-30T16:19:48.094928Z",
     "start_time": "2024-04-30T16:19:48.093184Z"
    }
   },
   "outputs": [],
   "source": [
    "for i, val in enumerate(output_vals):\n",
    "    species_data = val.get('floating_species_concentrations')\n",
    "    data.append(species_data.get('plasminogen'))\n",
    "    counts = val.get('floating_species_counts')\n",
    "    counts_data.append(counts.get('plasminogen'))"
   ]
  },
  {
   "cell_type": "code",
   "execution_count": 14,
   "id": "279b7ff8dca7ec71",
   "metadata": {
    "ExecuteTime": {
     "end_time": "2024-04-30T16:19:48.099618Z",
     "start_time": "2024-04-30T16:19:48.097310Z"
    }
   },
   "outputs": [
    {
     "data": {
      "text/plain": [
       "([0.0,\n",
       "  0.009841338438766237,\n",
       "  0.029212079654515458,\n",
       "  0.06733400846024531,\n",
       "  0.14233758795777338,\n",
       "  0.28982541255795286,\n",
       "  0.5795486179831405,\n",
       "  1.1475441940270412,\n",
       "  2.256247189154087,\n",
       "  4.357941523045989,\n",
       "  6.275671452230192,\n",
       "  7.1440145095964525,\n",
       "  7.308928785936439,\n",
       "  7.315611008250507,\n",
       "  7.316365681523431,\n",
       "  7.316756826542183,\n",
       "  7.316961049251858,\n",
       "  7.317067567220091,\n",
       "  7.317123094674423,\n",
       "  7.317152032686119,\n",
       "  7.317167111482476,\n",
       "  7.317174968012872,\n",
       "  7.317179061335704,\n",
       "  7.31718119395928,\n",
       "  7.317182305042837,\n",
       "  7.31718288390677,\n",
       "  7.317183185489068,\n",
       "  7.317183342610088,\n",
       "  7.317183424468259,\n",
       "  7.317183467115418,\n",
       "  7.317183489334084],\n",
       " [0.0,\n",
       "  5926592534504892.0,\n",
       "  1.7591925557182426e+16,\n",
       "  4.054948768826282e+16,\n",
       "  8.571769901205923e+16,\n",
       "  1.7453694302490637e+17,\n",
       "  3.490123354757939e+17,\n",
       "  6.910672664751593e+17,\n",
       "  1.3587438162440259e+18,\n",
       "  2.624413727563173e+18,\n",
       "  3.779297684884383e+18,\n",
       "  4.302226096827221e+18,\n",
       "  4.401539795372515e+18,\n",
       "  4.4055639237090074e+18,\n",
       "  4.4060183985767434e+18,\n",
       "  4.4062539516127933e+18,\n",
       "  4.4063769374031985e+18,\n",
       "  4.4064410840230154e+18,\n",
       "  4.406474523437618e+18,\n",
       "  4.406491950315593e+18,\n",
       "  4.4065010309790085e+18,\n",
       "  4.4065057622922015e+18,\n",
       "  4.4065082273488287e+18,\n",
       "  4.406509511644765e+18,\n",
       "  4.406510180754923e+18,\n",
       "  4.406510529354931e+18,\n",
       "  4.406510710972036e+18,\n",
       "  4.406510805592526e+18,\n",
       "  4.4065108548886687e+18,\n",
       "  4.4065108805713884e+18,\n",
       "  4.406510893951782e+18])"
      ]
     },
     "execution_count": 14,
     "metadata": {},
     "output_type": "execute_result"
    }
   ],
   "source": [
    "data, counts_data"
   ]
  },
  {
   "cell_type": "code",
   "execution_count": 15,
   "id": "f84f85bf43a82b40",
   "metadata": {
    "ExecuteTime": {
     "end_time": "2024-04-30T16:19:48.102396Z",
     "start_time": "2024-04-30T16:19:48.100339Z"
    }
   },
   "outputs": [
    {
     "data": {
      "text/plain": [
       "(31, 31)"
      ]
     },
     "execution_count": 15,
     "metadata": {},
     "output_type": "execute_result"
    }
   ],
   "source": [
    "len(timescale), len(data)"
   ]
  },
  {
   "cell_type": "code",
   "execution_count": 16,
   "id": "4311ca8a4fce3a7c",
   "metadata": {
    "ExecuteTime": {
     "end_time": "2024-04-30T16:19:48.219199Z",
     "start_time": "2024-04-30T16:19:48.102868Z"
    }
   },
   "outputs": [
    {
     "data": {
      "image/png": "[encoded data removed]",
      "text/plain": [
       "<Figure size 800x500 with 1 Axes>"
      ]
     },
     "metadata": {},
     "output_type": "display_data"
    }
   ],
   "source": [
    "Plotter2d.plot_single_output(timescale=timescale, data=data, species_name='plasminogen concentration')"
   ]
  },
  {
   "cell_type": "code",
   "execution_count": 17,
   "id": "a385d75479e50b1c",
   "metadata": {
    "ExecuteTime": {
     "end_time": "2024-04-30T16:19:48.382453Z",
     "start_time": "2024-04-30T16:19:48.221953Z"
    }
   },
   "outputs": [
    {
     "data": {
      "image/png": "[encoded data removed]",
      "text/plain": [
       "<Figure size 800x500 with 1 Axes>"
      ]
     },
     "metadata": {},
     "output_type": "display_data"
    }
   ],
   "source": [
    "Plotter2d.plot_single_output(timescale=timescale, data=counts_data, species_name='plasminogen counts', plot_concentration=False)"
   ]
  },
  {
   "cell_type": "code",
   "execution_count": 24,
   "id": "4b07263ce48d2094",
   "metadata": {
    "ExecuteTime": {
     "end_time": "2024-04-30T16:19:49.935732Z",
     "start_time": "2024-04-30T16:19:49.863518Z"
    }
   },
   "outputs": [
    {
     "data": {
      "image/png": "[encoded data removed]",
      "text/plain": [
       "<Figure size 800x500 with 1 Axes>"
      ]
     },
     "metadata": {},
     "output_type": "display_data"
    }
   ],
   "source": [
    "Plotter2d.plot_output(x_data=data, y_data=counts_data, title='Plasminogen concentration over counts', x_label='concentration', y_label='counts', species='plasminogen')"
   ]
  },
  {
   "cell_type": "code",
   "execution_count": 24,
   "id": "1e5efa38b0de7505",
   "metadata": {
    "ExecuteTime": {
     "end_time": "2024-04-30T16:19:49.937725Z",
     "start_time": "2024-04-30T16:19:49.936412Z"
    }
   },
   "outputs": [],
   "source": []
  }
 ],
 "metadata": {
  "kernelspec": {
   "display_name": "Python 3",
   "language": "python",
   "name": "python3"
  },
  "language_info": {
   "codemirror_mode": {
    "name": "ipython",
    "version": 2
   },
   "file_extension": ".py",
   "mimetype": "text/x-python",
   "name": "python",
   "nbconvert_exporter": "python",
   "pygments_lexer": "ipython2",
   "version": "2.7.6"
  }
 },
 "nbformat": 4,
 "nbformat_minor": 5
}
