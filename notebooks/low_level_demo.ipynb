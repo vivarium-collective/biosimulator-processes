{
 "cells": [
  {
   "cell_type": "code",
   "execution_count": 1,
   "id": "40898635d17c0f08",
   "metadata": {
    "ExecuteTime": {
     "end_time": "2024-04-30T15:58:32.165705Z",
     "start_time": "2024-04-30T15:58:32.131965Z"
    },
    "collapsed": false,
    "is_executing": true
   },
   "outputs": [],
   "source": [
    "import sys\n",
    "sys.path.insert(0, '..')\n",
    "\n",
    "import os\n",
    "import requests"
   ]
  },
  {
   "cell_type": "code",
   "execution_count": 2,
   "id": "initial_id",
   "metadata": {
    "ExecuteTime": {
     "end_time": "2024-04-30T15:58:33.857941Z",
     "start_time": "2024-04-30T15:58:32.166775Z"
    },
    "collapsed": true
   },
   "outputs": [
    {
     "name": "stdout",
     "output_type": "stream",
     "text": [
      "CobraProcess registered successfully.\n",
      "CopasiProcess registered successfully.\n",
      "SmoldynProcess registered successfully.\n",
      "TelluriumProcess registered successfully.\n"
     ]
    }
   ],
   "source": [
    "from biosimulator_processes.tests.test_copasi_process import test_process_from_document\n",
    "from biosimulator_processes.tests.data_model import ProcessUnitTest\n",
    "from biosimulator_processes import CORE\n",
    "from process_bigraph import Composite, pp"
   ]
  },
  {
   "cell_type": "markdown",
   "id": "c7dca241b02a7265",
   "metadata": {},
   "source": [
    "#### Step 1: Define the document to be read by the Composite, which is implemented by the Process"
   ]
  },
  {
   "cell_type": "code",
   "execution_count": 3,
   "id": "2633feac24b596a6",
   "metadata": {
    "ExecuteTime": {
     "end_time": "2024-04-30T15:58:33.862009Z",
     "start_time": "2024-04-30T15:58:33.858670Z"
    }
   },
   "outputs": [],
   "source": [
    "biomodel_id = 'BIOMD0000000630'\n",
    "\n",
    "\"\"\"document = {\n",
    "    'copasi': {\n",
    "        '_type': 'process',\n",
    "        'address': 'local:copasi',\n",
    "        'config': {\n",
    "            'model': {\n",
    "                'model_source': biomodel_id  \n",
    "            },\n",
    "            'method': 'lsoda'\n",
    "        },\n",
    "        'inputs': {\n",
    "            'floating_species': ['floating_species_store'],\n",
    "            'model_parameters': ['model_parameters_store'],\n",
    "            'time': ['time_store'],\n",
    "            'reactions': ['reactions_store']\n",
    "        },\n",
    "        'outputs': {\n",
    "            'floating_species': ['floating_species_store'],\n",
    "            'time': ['time_store'],\n",
    "        }\n",
    "    },\n",
    "    'emitter': {\n",
    "        '_type': 'step',\n",
    "        'address': 'local:ram-emitter',\n",
    "        'config': {\n",
    "            'emit': {\n",
    "                'floating_species': 'tree[float]',\n",
    "                'time': 'float',\n",
    "            },\n",
    "        },\n",
    "        'inputs': {\n",
    "            'floating_species': ['floating_species_store'],\n",
    "            'time': ['time_store'],\n",
    "        }\n",
    "    }\n",
    "}\"\"\"\n",
    "\n",
    "document = {\n",
    "    'copasi': {\n",
    "        '_type': 'process',\n",
    "        'address': 'local:copasi',\n",
    "        'config': {\n",
    "            'model': {\n",
    "                'model_source': biomodel_id  \n",
    "            },\n",
    "            'method': 'lsoda'\n",
    "        },\n",
    "        'inputs': {\n",
    "            'floating_species_concentrations': ['floating_species_concentrations_store'],\n",
    "            'floating_species_counts': ['floating_species_counts_store'],\n",
    "            'model_parameters': ['model_parameters_store'],\n",
    "            'time': ['time_store'],\n",
    "            'reactions': ['reactions_store']\n",
    "        },\n",
    "        'outputs': {\n",
    "            'floating_species_concentrations': ['floating_species_concentrations_store'],\n",
    "            'floating_species_counts': ['floating_species_counts_store'],\n",
    "            'time': ['time_store'],\n",
    "        }\n",
    "    },\n",
    "    'emitter': {\n",
    "        '_type': 'step',\n",
    "        'address': 'local:ram-emitter',\n",
    "        'config': {\n",
    "            'emit': {\n",
    "                'floating_species_concentrations': 'tree[float]',\n",
    "                'floating_species_counts': 'tree[float]',\n",
    "                'time': 'float',\n",
    "            },\n",
    "        },\n",
    "        'inputs': {\n",
    "            'floating_species_concentrations': ['floating_species_concentrations_store'],\n",
    "            'floating_species_counts': ['floating_species_counts_store'],\n",
    "            'time': ['time_store'],\n",
    "        }\n",
    "    }\n",
    "}"
   ]
  },
  {
   "cell_type": "markdown",
   "id": "e502cb54666345af",
   "metadata": {},
   "source": [
    "#### Step 2: Define the instance composition along with the process registry"
   ]
  },
  {
   "cell_type": "code",
   "execution_count": 4,
   "id": "bd91dca0be22cd27",
   "metadata": {
    "ExecuteTime": {
     "end_time": "2024-04-30T15:58:35.732882Z",
     "start_time": "2024-04-30T15:58:33.862749Z"
    }
   },
   "outputs": [
    {
     "name": "stdout",
     "output_type": "stream",
     "text": [
      "found a biomodel id\n"
     ]
    }
   ],
   "source": [
    "workflow = Composite(\n",
    "    config={'state': document},\n",
    "    core=CORE\n",
    ")"
   ]
  },
  {
   "cell_type": "markdown",
   "id": "857667277d39c647",
   "metadata": {},
   "source": [
    "#### Step 3: Run the workflow for a duration and get the results"
   ]
  },
  {
   "cell_type": "code",
   "execution_count": 5,
   "id": "7c6f72142af0616b",
   "metadata": {
    "ExecuteTime": {
     "end_time": "2024-04-30T15:58:36.019636Z",
     "start_time": "2024-04-30T15:58:35.734804Z"
    }
   },
   "outputs": [
    {
     "name": "stderr",
     "output_type": "stream",
     "text": [
      "/Users/alex/Desktop/uchc_work/repos/biosimulator-processes/notebooks/../biosimulator_processes/processes/copasi_process.py:245: FutureWarning:\n",
      "\n",
      "Series.__getitem__ treating keys as positions is deprecated. In a future version, integer keys will always be treated as labels (consistent with DataFrame behavior). To access a value by position, use `ser.iloc[pos]`\n",
      "\n",
      "/Users/alex/Desktop/uchc_work/repos/biosimulator-processes/notebooks/../biosimulator_processes/processes/copasi_process.py:255: FutureWarning:\n",
      "\n",
      "Series.__getitem__ treating keys as positions is deprecated. In a future version, integer keys will always be treated as labels (consistent with DataFrame behavior). To access a value by position, use `ser.iloc[pos]`\n",
      "\n"
     ]
    }
   ],
   "source": [
    "workflow.run(30)\n",
    "\n",
    "results = workflow.gather_results()"
   ]
  },
  {
   "cell_type": "code",
   "execution_count": 6,
   "id": "c7a254aee3009b8c",
   "metadata": {
    "ExecuteTime": {
     "end_time": "2024-04-30T15:58:36.028284Z",
     "start_time": "2024-04-30T15:58:36.020530Z"
    }
   },
   "outputs": [
    {
     "name": "stdout",
     "output_type": "stream",
     "text": [
      "{ ('emitter',): [ { 'floating_species_concentrations': { 'plasmin': 0.0,\n",
      "                                                         'plasminogen': 0.0,\n",
      "                                                         'single intact chain urokinase-type plasminogen activator': 0.0,\n",
      "                                                         'two-chain urokinase-type plasminogen activator': 0.0,\n",
      "                                                         'x': 0.0,\n",
      "                                                         'x-plasmin': 0.0},\n",
      "                    'floating_species_counts': { 'plasmin': 0.0,\n",
      "                                                 'plasminogen': 0.0,\n",
      "                                                 'single intact chain urokinase-type plasminogen activator': 0.0,\n",
      "                                                 'two-chain urokinase-type plasminogen activator': 0.0,\n",
      "                                                 'x': 0.0,\n",
      "                                                 'x-plasmin': 0.0},\n",
      "                    'time': 0.0},\n",
      "                  { 'floating_species_concentrations': { 'plasmin': 3.5008085857981365e-07,\n",
      "                                                         'plasminogen': 0.00984133843876594,\n",
      "                                                         'single intact chain urokinase-type plasminogen activator': 0.0030692854818267475,\n",
      "                                                         'two-chain urokinase-type plasminogen activator': 2.183968699906174e-15,\n",
      "                                                         'x': 0.0,\n",
      "                                                         'x-plasmin': 0.0},\n",
      "                    'floating_species_counts': { 'plasmin': 210823620774.92914,\n",
      "                                                 'plasminogen': 5926592534504713.0,\n",
      "                                                 'single intact chain urokinase-type plasminogen activator': 1848366920418509.5,\n",
      "                                                 'two-chain urokinase-type plasminogen activator': 1315.216692626918,\n",
      "                                                 'x': 0.0,\n",
      "                                                 'x-plasmin': 0.0},\n",
      "                    'time': 1.0},\n",
      "                  { 'floating_species_concentrations': { 'plasmin': 2.9773237189979904e-06,\n",
      "                                                         'plasminogen': 0.02921207965451493,\n",
      "                                                         'single intact chain urokinase-type plasminogen activator': 0.008960567969375065,\n",
      "                                                         'two-chain urokinase-type plasminogen activator': 4.1685693073126955e-13,\n",
      "                                                         'x': 0.0,\n",
      "                                                         'x-plasmin': 0.0},\n",
      "                    'floating_species_counts': { 'plasmin': 1792986252389.2585,\n",
      "                                                 'plasminogen': 1.7591925557182108e+16,\n",
      "                                                 'single intact chain urokinase-type plasminogen activator': 5396180160112402.0,\n",
      "                                                 'two-chain urokinase-type plasminogen activator': 251037.1113645275,\n",
      "                                                 'x': 0.0,\n",
      "                                                 'x-plasmin': 0.0},\n",
      "                    'time': 2.0},\n",
      "                  { 'floating_species_concentrations': { 'plasmin': 1.7293764303517955e-05,\n",
      "                                                         'plasminogen': 0.06733400846024376,\n",
      "                                                         'single intact chain urokinase-type plasminogen activator': 0.02026847968230501,\n",
      "                                                         'two-chain urokinase-type plasminogen activator': 3.33689175688376e-11,\n",
      "                                                         'x': 0.0,\n",
      "                                                         'x-plasmin': 0.0},\n",
      "                    'floating_species_counts': { 'plasmin': 10414548290604.85,\n",
      "                                                 'plasminogen': 4.054948768826189e+16,\n",
      "                                                 'single intact chain urokinase-type plasminogen activator': 1.2205963763804088e+16,\n",
      "                                                 'two-chain urokinase-type plasminogen activator': 20095231.8608377,\n",
      "                                                 'x': 0.0,\n",
      "                                                 'x-plasmin': 0.0},\n",
      "                    'time': 3.0},\n",
      "                  { 'floating_species_concentrations': { 'plasmin': 8.34662246612642e-05,\n",
      "                                                         'plasminogen': 0.14233758795778217,\n",
      "                                                         'single intact chain urokinase-type plasminogen activator': 0.04197323732055148,\n",
      "                                                         'two-chain urokinase-type plasminogen activator': 1.6413026499627931e-09,\n",
      "                                                         'x': 0.0,\n",
      "                                                         'x-plasmin': 0.0},\n",
      "                    'floating_species_counts': { 'plasmin': 50264535361591.63,\n",
      "                                                 'plasminogen': 8.571769901206453e+16,\n",
      "                                                 'single intact chain urokinase-type plasminogen activator': 2.5276874329724624e+16,\n",
      "                                                 'two-chain urokinase-type plasminogen activator': 988415558.7836949,\n",
      "                                                 'x': 0.0,\n",
      "                                                 'x-plasmin': 0.0},\n",
      "                    'time': 4.0},\n",
      "                  { 'floating_species_concentrations': { 'plasmin': 0.0003636850966887208,\n",
      "                                                         'plasminogen': 0.28982541255797023,\n",
      "                                                         'single intact chain urokinase-type plasminogen activator': 0.083633969644721,\n",
      "                                                         'two-chain urokinase-type plasminogen activator': 6.262030224097444e-08,\n",
      "                                                         'x': 0.0,\n",
      "                                                         'x-plasmin': 0.0},\n",
      "                    'floating_species_counts': { 'plasmin': 219016284457368.7,\n",
      "                                                 'plasminogen': 1.7453694302491686e+17,\n",
      "                                                 'single intact chain urokinase-type plasminogen activator': 5.03655537518077e+16,\n",
      "                                                 'two-chain urokinase-type plasminogen activator': 37710827452.889145,\n",
      "                                                 'x': 0.0,\n",
      "                                                 'x-plasmin': 0.0},\n",
      "                    'time': 5.0},\n",
      "                  { 'floating_species_concentrations': { 'plasmin': 0.001493471573947404,\n",
      "                                                         'plasminogen': 0.5795486179831706,\n",
      "                                                         'single intact chain urokinase-type plasminogen activator': 0.16359698709820658,\n",
      "                                                         'two-chain urokinase-type plasminogen activator': 2.0739866350705594e-06,\n",
      "                                                         'x': 0.0,\n",
      "                                                         'x-plasmin': 0.0},\n",
      "                    'floating_species_counts': { 'plasmin': 899389603937001.5,\n",
      "                                                 'plasminogen': 3.490123354758121e+17,\n",
      "                                                 'single intact chain urokinase-type plasminogen activator': 9.852040842173037e+16,\n",
      "                                                 'two-chain urokinase-type plasminogen activator': 1248983945075.3662,\n",
      "                                                 'x': 0.0,\n",
      "                                                 'x-plasmin': 0.0},\n",
      "                    'time': 6.0},\n",
      "                  { 'floating_species_concentrations': { 'plasmin': 0.005928504374417152,\n",
      "                                                         'plasminogen': 1.147544194027111,\n",
      "                                                         'single intact chain urokinase-type plasminogen activator': 0.31702304307229406,\n",
      "                                                         'two-chain urokinase-type plasminogen activator': 6.339372386057255e-05,\n",
      "                                                         'x': 0.0,\n",
      "                                                         'x-plasmin': 0.0},\n",
      "                    'floating_species_counts': { 'plasmin': 3570228783901583.0,\n",
      "                                                 'plasminogen': 6.910672664752013e+17,\n",
      "                                                 'single intact chain urokinase-type plasminogen activator': 1.9091573895448973e+17,\n",
      "                                                 'two-chain urokinase-type plasminogen activator': 38176592838893.85,\n",
      "                                                 'x': 0.0,\n",
      "                                                 'x-plasmin': 0.0},\n",
      "                    'time': 7.0},\n",
      "                  { 'floating_species_concentrations': { 'plasmin': 0.02360485069938798,\n",
      "                                                         'plasminogen': 2.2562471891542586,\n",
      "                                                         'single intact chain urokinase-type plasminogen activator': 0.609795304173512,\n",
      "                                                         'two-chain urokinase-type plasminogen activator': 0.0018995989787676188,\n",
      "                                                         'x': 0.0,\n",
      "                                                         'x-plasmin': 0.0},\n",
      "                    'floating_species_counts': { 'plasmin': 1.4215173353049888e+16,\n",
      "                                                 'plasminogen': 1.358743816244129e+18,\n",
      "                                                 'single intact chain urokinase-type plasminogen activator': 3.672273156519904e+17,\n",
      "                                                 'two-chain urokinase-type plasminogen activator': 1143965243769085.2,\n",
      "                                                 'x': 0.0,\n",
      "                                                 'x-plasmin': 0.0},\n",
      "                    'time': 8.0},\n",
      "                  { 'floating_species_concentrations': { 'plasmin': 0.13681709060691952,\n",
      "                                                         'plasminogen': 4.3579415230475,\n",
      "                                                         'single intact chain urokinase-type plasminogen activator': 1.0904864045082123,\n",
      "                                                         'two-chain urokinase-type plasminogen activator': 0.08668919727844383,\n",
      "                                                         'x': 0.0,\n",
      "                                                         'x-plasmin': 0.0},\n",
      "                    'floating_species_counts': { 'plasmin': 8.23931778008543e+16,\n",
      "                                                 'plasminogen': 2.6244137275640827e+18,\n",
      "                                                 'single intact chain urokinase-type plasminogen activator': 6.567062624814752e+17,\n",
      "                                                 'two-chain urokinase-type plasminogen activator': 5.220545483821977e+16,\n",
      "                                                 'x': 0.0,\n",
      "                                                 'x-plasmin': 0.0},\n",
      "                    'time': 9.0},\n",
      "                  { 'floating_species_concentrations': { 'plasmin': 2.520751471634714,\n",
      "                                                         'plasminogen': 6.275671452239246,\n",
      "                                                         'single intact chain urokinase-type plasminogen activator': 1.090500564747017,\n",
      "                                                         'two-chain urokinase-type plasminogen activator': 1.1720763645821204,\n",
      "                                                         'x': 0.0,\n",
      "                                                         'x-plasmin': 0.0},\n",
      "                    'floating_species_counts': { 'plasmin': 1.5180320183161395e+18,\n",
      "                                                 'plasminogen': 3.7792976848898355e+18,\n",
      "                                                 'single intact chain urokinase-type plasminogen activator': 6.567147899766029e+17,\n",
      "                                                 'two-chain urokinase-type plasminogen activator': 7.058408848982607e+17,\n",
      "                                                 'x': 0.0,\n",
      "                                                 'x-plasmin': 0.0},\n",
      "                    'time': 10.0},\n",
      "                  { 'floating_species_concentrations': { 'plasmin': 9.882808581040027,\n",
      "                                                         'plasminogen': 7.144014509638241,\n",
      "                                                         'single intact chain urokinase-type plasminogen activator': 1.0905020408948884,\n",
      "                                                         'two-chain urokinase-type plasminogen activator': 3.255428122039632,\n",
      "                                                         'x': 0.0,\n",
      "                                                         'x-plasmin': 0.0},\n",
      "                    'floating_species_counts': { 'plasmin': 5.951566437915892e+18,\n",
      "                                                 'plasminogen': 4.302226096852387e+18,\n",
      "                                                 'single intact chain urokinase-type plasminogen activator': 6.567156789336294e+17,\n",
      "                                                 'two-chain urokinase-type plasminogen activator': 1.9604646384985124e+18,\n",
      "                                                 'x': 0.0,\n",
      "                                                 'x-plasmin': 0.0},\n",
      "                    'time': 11.0},\n",
      "                  { 'floating_species_concentrations': { 'plasmin': 25.470688818607965,\n",
      "                                                         'plasminogen': 7.3089287889264805,\n",
      "                                                         'single intact chain urokinase-type plasminogen activator': 1.090502370131414,\n",
      "                                                         'two-chain urokinase-type plasminogen activator': 7.254281106890964,\n",
      "                                                         'x': 0.0,\n",
      "                                                         'x-plasmin': 0.0},\n",
      "                    'floating_species_counts': { 'plasmin': 1.5338807331981527e+19,\n",
      "                                                 'plasminogen': 4.4015397971731594e+18,\n",
      "                                                 'single intact chain urokinase-type plasminogen activator': 6.567158772044995e+17,\n",
      "                                                 'two-chain urokinase-type plasminogen activator': 4.368630193830599e+18,\n",
      "                                                 'x': 0.0,\n",
      "                                                 'x-plasmin': 0.0},\n",
      "                    'time': 12.0},\n",
      "                  { 'floating_species_concentrations': { 'plasmin': 55.65961834679051,\n",
      "                                                         'plasminogen': 7.315611011240136,\n",
      "                                                         'single intact chain urokinase-type plasminogen activator': 1.0905024579106093,\n",
      "                                                         'two-chain urokinase-type plasminogen activator': 14.929805058702204,\n",
      "                                                         'x': 0.0,\n",
      "                                                         'x-plasmin': 0.0},\n",
      "                    'floating_species_counts': { 'plasmin': 3.3519005633225097e+19,\n",
      "                                                 'plasminogen': 4.4055639255094036e+18,\n",
      "                                                 'single intact chain urokinase-type plasminogen activator': 6.567159300663665e+17,\n",
      "                                                 'two-chain urokinase-type plasminogen activator': 8.990938758286473e+18,\n",
      "                                                 'x': 0.0,\n",
      "                                                 'x-plasmin': 0.0},\n",
      "                    'time': 13.0},\n",
      "                  { 'floating_species_concentrations': { 'plasmin': 113.59437338872276,\n",
      "                                                         'plasminogen': 7.316365684513063,\n",
      "                                                         'single intact chain urokinase-type plasminogen activator': 1.0905024817454074,\n",
      "                                                         'two-chain urokinase-type plasminogen activator': 29.66244578395702,\n",
      "                                                         'x': 0.0,\n",
      "                                                         'x-plasmin': 0.0},\n",
      "                    'floating_species_counts': { 'plasmin': 6.840813060908867e+19,\n",
      "                                                 'plasminogen': 4.406018400377142e+18,\n",
      "                                                 'single intact chain urokinase-type plasminogen activator': 6.567159444200174e+17,\n",
      "                                                 'two-chain urokinase-type plasminogen activator': 1.7863142379685771e+19,\n",
      "                                                 'x': 0.0,\n",
      "                                                 'x-plasmin': 0.0},\n",
      "                    'time': 14.0},\n",
      "                  { 'floating_species_concentrations': { 'plasmin': 224.78540544273142,\n",
      "                                                         'plasminogen': 7.316756829433092,\n",
      "                                                         'single intact chain urokinase-type plasminogen activator': 1.0905024882160923,\n",
      "                                                         'two-chain urokinase-type plasminogen activator': 57.940736915674606,\n",
      "                                                         'x': 0.0,\n",
      "                                                         'x-plasmin': 0.0},\n",
      "                    'floating_species_counts': { 'plasmin': 1.3536893523697988e+20,\n",
      "                                                 'plasminogen': 4.406253953353739e+18,\n",
      "                                                 'single intact chain urokinase-type plasminogen activator': 6.567159483167548e+17,\n",
      "                                                 'two-chain urokinase-type plasminogen activator': 3.4892727344432075e+19,\n",
      "                                                 'x': 0.0,\n",
      "                                                 'x-plasmin': 0.0},\n",
      "                    'time': 15.0},\n",
      "                  { 'floating_species_concentrations': { 'plasmin': 438.20338628732304,\n",
      "                                                         'plasminogen': 7.3169610521427675,\n",
      "                                                         'single intact chain urokinase-type plasminogen activator': 1.0905024899725106,\n",
      "                                                         'two-chain urokinase-type plasminogen activator': 112.2189727963825,\n",
      "                                                         'x': 0.0,\n",
      "                                                         'x-plasmin': 0.0},\n",
      "                    'floating_species_counts': { 'plasmin': 2.638922473730913e+20,\n",
      "                                                 'plasminogen': 4.4063769391441444e+18,\n",
      "                                                 'single intact chain urokinase-type plasminogen activator': 6.567159493744946e+17,\n",
      "                                                 'two-chain urokinase-type plasminogen activator': 6.757984501224263e+19,\n",
      "                                                 'x': 0.0,\n",
      "                                                 'x-plasmin': 0.0},\n",
      "                    'time': 16.0},\n",
      "                  { 'floating_species_concentrations': { 'plasmin': 847.8412357019296,\n",
      "                                                         'plasminogen': 7.317067570211989,\n",
      "                                                         'single intact chain urokinase-type plasminogen activator': 1.0905024904492595,\n",
      "                                                         'two-chain urokinase-type plasminogen activator': 216.40221146401393,\n",
      "                                                         'x': 0.0,\n",
      "                                                         'x-plasmin': 0.0},\n",
      "                    'floating_species_counts': { 'plasmin': 5.105819263529357e+20,\n",
      "                                                 'plasminogen': 4.406441085824778e+18,\n",
      "                                                 'single intact chain urokinase-type plasminogen activator': 6.567159496615995e+17,\n",
      "                                                 'two-chain urokinase-type plasminogen activator': 1.3032045782115775e+20,\n",
      "                                                 'x': 0.0,\n",
      "                                                 'x-plasmin': 0.0},\n",
      "                    'time': 17.0},\n",
      "                  { 'floating_species_concentrations': { 'plasmin': 1634.1104011734478,\n",
      "                                                         'plasminogen': 7.317123097692945,\n",
      "                                                         'single intact chain urokinase-type plasminogen activator': 1.0905024905786636,\n",
      "                                                         'two-chain urokinase-type plasminogen activator': 416.3745150985476,\n",
      "                                                         'x': 0.0,\n",
      "                                                         'x-plasmin': 0.0},\n",
      "                    'floating_species_counts': { 'plasmin': 9.840842853246572e+20,\n",
      "                                                 'plasminogen': 4.4064745252554143e+18,\n",
      "                                                 'single intact chain urokinase-type plasminogen activator': 6.567159497395284e+17,\n",
      "                                                 'two-chain urokinase-type plasminogen activator': 2.507465938800199e+20,\n",
      "                                                 'x': 0.0,\n",
      "                                                 'x-plasmin': 0.0},\n",
      "                    'time': 18.0},\n",
      "                  { 'floating_species_concentrations': { 'plasmin': 3143.3007901408964,\n",
      "                                                         'plasminogen': 7.317152035718521,\n",
      "                                                         'single intact chain urokinase-type plasminogen activator': 1.0905024906137875,\n",
      "                                                         'two-chain urokinase-type plasminogen activator': 800.2080011970766,\n",
      "                                                         'x': 0.0,\n",
      "                                                         'x-plasmin': 0.0},\n",
      "                    'floating_species_counts': { 'plasmin': 1.8929399809247698e+21,\n",
      "                                                 'plasminogen': 4.406491952141747e+18,\n",
      "                                                 'single intact chain urokinase-type plasminogen activator': 6.567159497606806e+17,\n",
      "                                                 'two-chain urokinase-type plasminogen activator': 4.8189652204870435e+20,\n",
      "                                                 'x': 0.0,\n",
      "                                                 'x-plasmin': 0.0},\n",
      "                    'time': 19.0},\n",
      "                  { 'floating_species_concentrations': { 'plasmin': 6040.082634895081,\n",
      "                                                         'plasminogen': 7.317167114522111,\n",
      "                                                         'single intact chain urokinase-type plasminogen activator': 1.0905024906233212,\n",
      "                                                         'two-chain urokinase-type plasminogen activator': 1536.9487319212822,\n",
      "                                                         'x': 0.0,\n",
      "                                                         'x-plasmin': 0.0},\n",
      "                    'floating_species_counts': { 'plasmin': 3.6374227829369864e+21,\n",
      "                                                 'plasminogen': 4.4065010328095186e+18,\n",
      "                                                 'single intact chain urokinase-type plasminogen activator': 6.567159497664219e+17,\n",
      "                                                 'two-chain urokinase-type plasminogen activator': 9.255721604533467e+20,\n",
      "                                                 'x': 0.0,\n",
      "                                                 'x-plasmin': 0.0},\n",
      "                    'time': 20.0},\n",
      "                  { 'floating_species_concentrations': { 'plasmin': 11600.252196464375,\n",
      "                                                         'plasminogen': 7.317174971056277,\n",
      "                                                         'single intact chain urokinase-type plasminogen activator': 1.0905024906259089,\n",
      "                                                         'two-chain urokinase-type plasminogen activator': 2951.0709410614018,\n",
      "                                                         'x': 0.0,\n",
      "                                                         'x-plasmin': 0.0},\n",
      "                    'floating_species_counts': { 'plasmin': 6.985835157860764e+21,\n",
      "                                                 'plasminogen': 4.406505764124981e+18,\n",
      "                                                 'single intact chain urokinase-type plasminogen activator': 6.567159497679803e+17,\n",
      "                                                 'two-chain urokinase-type plasminogen activator': 1.7771764599817424e+21,\n",
      "                                                 'x': 0.0,\n",
      "                                                 'x-plasmin': 0.0},\n",
      "                    'time': 21.0},\n",
      "                  { 'floating_species_concentrations': { 'plasmin': 22272.64444749381,\n",
      "                                                         'plasminogen': 7.317179064381061,\n",
      "                                                         'single intact chain urokinase-type plasminogen activator': 1.0905024906266112,\n",
      "                                                         'two-chain urokinase-type plasminogen activator': 5665.388714198325,\n",
      "                                                         'x': 0.0,\n",
      "                                                         'x-plasmin': 0.0},\n",
      "                    'floating_species_counts': { 'plasmin': 1.3412899996024017e+22,\n",
      "                                                 'plasminogen': 4.406508229182784e+18,\n",
      "                                                 'single intact chain urokinase-type plasminogen activator': 6.567159497684033e+17,\n",
      "                                                 'two-chain urokinase-type plasminogen activator': 3.4117768297017723e+21,\n",
      "                                                 'x': 0.0,\n",
      "                                                 'x-plasmin': 0.0},\n",
      "                    'time': 22.0},\n",
      "                  { 'floating_species_concentrations': { 'plasmin': 42757.52605503292,\n",
      "                                                         'plasminogen': 7.317181197005659,\n",
      "                                                         'single intact chain urokinase-type plasminogen activator': 1.090502490626802,\n",
      "                                                         'two-chain urokinase-type plasminogen activator': 10875.324507062116,\n",
      "                                                         'x': 0.0,\n",
      "                                                         'x-plasmin': 0.0},\n",
      "                    'floating_species_counts': { 'plasmin': 2.5749184045277572e+22,\n",
      "                                                 'plasminogen': 4.4065095134793354e+18,\n",
      "                                                 'single intact chain urokinase-type plasminogen activator': 6.567159497685181e+17,\n",
      "                                                 'two-chain urokinase-type plasminogen activator': 6.549273499220567e+21,\n",
      "                                                 'x': 0.0,\n",
      "                                                 'x-plasmin': 0.0},\n",
      "                    'time': 23.0},\n",
      "                  { 'floating_species_concentrations': { 'plasmin': 82076.85165356986,\n",
      "                                                         'plasminogen': 7.317182308089747,\n",
      "                                                         'single intact chain urokinase-type plasminogen activator': 1.0905024906268537,\n",
      "                                                         'two-chain urokinase-type plasminogen activator': 20875.43902407818,\n",
      "                                                         'x': 0.0,\n",
      "                                                         'x-plasmin': 0.0},\n",
      "                    'floating_species_counts': { 'plasmin': 4.9427835379543645e+22,\n",
      "                                                 'plasminogen': 4.406510182589813e+18,\n",
      "                                                 'single intact chain urokinase-type plasminogen activator': 6.567159497685492e+17,\n",
      "                                                 'two-chain urokinase-type plasminogen activator': 1.2571483222979583e+22,\n",
      "                                                 'x': 0.0,\n",
      "                                                 'x-plasmin': 0.0},\n",
      "                    'time': 24.0},\n",
      "                  { 'floating_species_concentrations': { 'plasmin': 157547.65458518197,\n",
      "                                                         'plasminogen': 7.317182886953956,\n",
      "                                                         'single intact chain urokinase-type plasminogen activator': 1.0905024906268677,\n",
      "                                                         'two-chain urokinase-type plasminogen activator': 40069.98676044526,\n",
      "                                                         'x': 0.0,\n",
      "                                                         'x-plasmin': 0.0},\n",
      "                    'floating_species_counts': { 'plasmin': 9.487741523198252e+22,\n",
      "                                                 'plasminogen': 4.4065105311899884e+18,\n",
      "                                                 'single intact chain urokinase-type plasminogen activator': 6.567159497685577e+17,\n",
      "                                                 'two-chain urokinase-type plasminogen activator': 2.4130710052273773e+22,\n",
      "                                                 'x': 0.0,\n",
      "                                                 'x-plasmin': 0.0},\n",
      "                    'time': 25.0},\n",
      "                  { 'floating_species_concentrations': { 'plasmin': 302408.5060578848,\n",
      "                                                         'plasminogen': 7.317183188536399,\n",
      "                                                         'single intact chain urokinase-type plasminogen activator': 1.0905024906268714,\n",
      "                                                         'two-chain urokinase-type plasminogen activator': 76912.55926361436,\n",
      "                                                         'x': 0.0,\n",
      "                                                         'x-plasmin': 0.0},\n",
      "                    'floating_species_counts': { 'plasmin': 1.8211465905018946e+23,\n",
      "                                                 'plasminogen': 4.4065107128071803e+18,\n",
      "                                                 'single intact chain urokinase-type plasminogen activator': 6.5671594976856e+17,\n",
      "                                                 'two-chain urokinase-type plasminogen activator': 4.631782580973276e+22,\n",
      "                                                 'x': 0.0,\n",
      "                                                 'x-plasmin': 0.0},\n",
      "                    'time': 26.0},\n",
      "                  { 'floating_species_concentrations': { 'plasmin': 580458.7740269538,\n",
      "                                                         'plasminogen': 7.317183345657495,\n",
      "                                                         'single intact chain urokinase-type plasminogen activator': 1.0905024906268725,\n",
      "                                                         'two-chain urokinase-type plasminogen activator': 147629.2991777287,\n",
      "                                                         'x': 0.0,\n",
      "                                                         'x-plasmin': 0.0},\n",
      "                    'floating_species_counts': { 'plasmin': 3.495604442567348e+23,\n",
      "                                                 'plasminogen': 4.4065108074277156e+18,\n",
      "                                                 'single intact chain urokinase-type plasminogen activator': 6.567159497685606e+17,\n",
      "                                                 'two-chain urokinase-type plasminogen activator': 8.890444199484344e+22,\n",
      "                                                 'x': 0.0,\n",
      "                                                 'x-plasmin': 0.0},\n",
      "                    'time': 27.0},\n",
      "                  { 'floating_species_concentrations': { 'plasmin': 1114157.2215941544,\n",
      "                                                         'plasminogen': 7.317183427515705,\n",
      "                                                         'single intact chain urokinase-type plasminogen activator': 1.0905024906268728,\n",
      "                                                         'two-chain urokinase-type plasminogen activator': 283365.2385278364,\n",
      "                                                         'x': 0.0,\n",
      "                                                         'x-plasmin': 0.0},\n",
      "                    'floating_species_counts': { 'plasmin': 6.709611617210508e+23,\n",
      "                                                 'plasminogen': 4.406510856723882e+18,\n",
      "                                                 'single intact chain urokinase-type plasminogen activator': 6.567159497685608e+17,\n",
      "                                                 'two-chain urokinase-type plasminogen activator': 1.706465352905606e+23,\n",
      "                                                 'x': 0.0,\n",
      "                                                 'x-plasmin': 0.0},\n",
      "                    'time': 28.0},\n",
      "                  { 'floating_species_concentrations': { 'plasmin': 2138553.6812338536,\n",
      "                                                         'plasminogen': 7.317183470162885,\n",
      "                                                         'single intact chain urokinase-type plasminogen activator': 1.0905024906268728,\n",
      "                                                         'two-chain urokinase-type plasminogen activator': 543900.7831787689,\n",
      "                                                         'x': 0.0,\n",
      "                                                         'x-plasmin': 0.0},\n",
      "                    'floating_species_counts': { 'plasmin': 1.2878671291206437e+24,\n",
      "                                                 'plasminogen': 4.406510882406614e+18,\n",
      "                                                 'single intact chain urokinase-type plasminogen activator': 6.567159497685608e+17,\n",
      "                                                 'two-chain urokinase-type plasminogen activator': 3.275447075776787e+23,\n",
      "                                                 'x': 0.0,\n",
      "                                                 'x-plasmin': 0.0},\n",
      "                    'time': 29.0},\n",
      "                  { 'floating_species_concentrations': { 'plasmin': 4104810.796373262,\n",
      "                                                         'plasminogen': 7.317183492381561,\n",
      "                                                         'single intact chain urokinase-type plasminogen activator': 1.0905024906268728,\n",
      "                                                         'two-chain urokinase-type plasminogen activator': 1043980.4775160148,\n",
      "                                                         'x': 0.0,\n",
      "                                                         'x-plasmin': 0.0},\n",
      "                    'floating_species_counts': { 'plasmin': 2.471974840892748e+24,\n",
      "                                                 'plasminogen': 4.4065108957870136e+18,\n",
      "                                                 'single intact chain urokinase-type plasminogen activator': 6.567159497685608e+17,\n",
      "                                                 'two-chain urokinase-type plasminogen activator': 6.286997386293455e+23,\n",
      "                                                 'x': 0.0,\n",
      "                                                 'x-plasmin': 0.0},\n",
      "                    'time': 30.0}]}\n"
     ]
    }
   ],
   "source": [
    "pp(results)"
   ]
  },
  {
   "cell_type": "code",
   "execution_count": 7,
   "id": "b1614b8359c0651f",
   "metadata": {
    "ExecuteTime": {
     "end_time": "2024-04-30T15:58:36.031908Z",
     "start_time": "2024-04-30T15:58:36.029167Z"
    }
   },
   "outputs": [],
   "source": [
    "from biosimulator_processes.steps.viz import ResultsAnimation"
   ]
  },
  {
   "cell_type": "code",
   "execution_count": 8,
   "id": "601a2e10c945b363",
   "metadata": {
    "ExecuteTime": {
     "end_time": "2024-04-30T15:58:36.033697Z",
     "start_time": "2024-04-30T15:58:36.032421Z"
    }
   },
   "outputs": [],
   "source": [
    "output = results.copy()"
   ]
  },
  {
   "cell_type": "code",
   "execution_count": 9,
   "id": "538db282c51069d6",
   "metadata": {
    "ExecuteTime": {
     "end_time": "2024-04-30T15:58:36.036111Z",
     "start_time": "2024-04-30T15:58:36.034425Z"
    }
   },
   "outputs": [],
   "source": [
    "output_vals = output[('emitter',)]"
   ]
  },
  {
   "cell_type": "code",
   "execution_count": 10,
   "id": "a44c1cc0f9850758",
   "metadata": {
    "ExecuteTime": {
     "end_time": "2024-04-30T15:58:36.038336Z",
     "start_time": "2024-04-30T15:58:36.036747Z"
    }
   },
   "outputs": [],
   "source": [
    "timescale = list(set([val.get('time', 0.0) for val in output_vals]))"
   ]
  },
  {
   "cell_type": "code",
   "execution_count": 11,
   "id": "5c510ec6dac592eb",
   "metadata": {
    "ExecuteTime": {
     "end_time": "2024-04-30T15:58:36.042047Z",
     "start_time": "2024-04-30T15:58:36.039086Z"
    }
   },
   "outputs": [
    {
     "data": {
      "text/plain": [
       "[0.0,\n",
       " 1.0,\n",
       " 2.0,\n",
       " 3.0,\n",
       " 4.0,\n",
       " 5.0,\n",
       " 6.0,\n",
       " 7.0,\n",
       " 8.0,\n",
       " 9.0,\n",
       " 10.0,\n",
       " 11.0,\n",
       " 12.0,\n",
       " 13.0,\n",
       " 14.0,\n",
       " 15.0,\n",
       " 16.0,\n",
       " 17.0,\n",
       " 18.0,\n",
       " 19.0,\n",
       " 20.0,\n",
       " 21.0,\n",
       " 22.0,\n",
       " 23.0,\n",
       " 24.0,\n",
       " 25.0,\n",
       " 26.0,\n",
       " 27.0,\n",
       " 28.0,\n",
       " 29.0,\n",
       " 30.0]"
      ]
     },
     "execution_count": 11,
     "metadata": {},
     "output_type": "execute_result"
    }
   ],
   "source": [
    "timescale"
   ]
  },
  {
   "cell_type": "code",
   "execution_count": 12,
   "id": "f27e97fdebb17b07",
   "metadata": {
    "ExecuteTime": {
     "end_time": "2024-04-30T15:58:36.044200Z",
     "start_time": "2024-04-30T15:58:36.042681Z"
    }
   },
   "outputs": [],
   "source": [
    "data = []\n",
    "counts_data = []"
   ]
  },
  {
   "cell_type": "code",
   "execution_count": 13,
   "id": "c476add07372b47c",
   "metadata": {
    "ExecuteTime": {
     "end_time": "2024-04-30T15:58:36.046633Z",
     "start_time": "2024-04-30T15:58:36.044797Z"
    }
   },
   "outputs": [],
   "source": [
    "for i, val in enumerate(output_vals):\n",
    "    species_data = val.get('floating_species_concentrations')\n",
    "    data.append(species_data.get('plasminogen'))\n",
    "    counts = val.get('floating_species_counts')\n",
    "    counts_data.append(counts.get('plasminogen'))"
   ]
  },
  {
   "cell_type": "code",
   "execution_count": 14,
   "id": "279b7ff8dca7ec71",
   "metadata": {
    "ExecuteTime": {
     "end_time": "2024-04-30T15:58:36.051022Z",
     "start_time": "2024-04-30T15:58:36.048924Z"
    }
   },
   "outputs": [
    {
     "data": {
      "text/plain": [
       "([0.0,\n",
       "  0.00984133843876594,\n",
       "  0.02921207965451493,\n",
       "  0.06733400846024376,\n",
       "  0.14233758795778217,\n",
       "  0.28982541255797023,\n",
       "  0.5795486179831706,\n",
       "  1.147544194027111,\n",
       "  2.2562471891542586,\n",
       "  4.3579415230475,\n",
       "  6.275671452239246,\n",
       "  7.144014509638241,\n",
       "  7.3089287889264805,\n",
       "  7.315611011240136,\n",
       "  7.316365684513063,\n",
       "  7.316756829433092,\n",
       "  7.3169610521427675,\n",
       "  7.317067570211989,\n",
       "  7.317123097692945,\n",
       "  7.317152035718521,\n",
       "  7.317167114522111,\n",
       "  7.317174971056277,\n",
       "  7.317179064381061,\n",
       "  7.317181197005659,\n",
       "  7.317182308089747,\n",
       "  7.317182886953956,\n",
       "  7.317183188536399,\n",
       "  7.317183345657495,\n",
       "  7.317183427515705,\n",
       "  7.317183470162885,\n",
       "  7.317183492381561],\n",
       " [0.0,\n",
       "  5926592534504713.0,\n",
       "  1.7591925557182108e+16,\n",
       "  4.054948768826189e+16,\n",
       "  8.571769901206453e+16,\n",
       "  1.7453694302491686e+17,\n",
       "  3.490123354758121e+17,\n",
       "  6.910672664752013e+17,\n",
       "  1.358743816244129e+18,\n",
       "  2.6244137275640827e+18,\n",
       "  3.7792976848898355e+18,\n",
       "  4.302226096852387e+18,\n",
       "  4.4015397971731594e+18,\n",
       "  4.4055639255094036e+18,\n",
       "  4.406018400377142e+18,\n",
       "  4.406253953353739e+18,\n",
       "  4.4063769391441444e+18,\n",
       "  4.406441085824778e+18,\n",
       "  4.4064745252554143e+18,\n",
       "  4.406491952141747e+18,\n",
       "  4.4065010328095186e+18,\n",
       "  4.406505764124981e+18,\n",
       "  4.406508229182784e+18,\n",
       "  4.4065095134793354e+18,\n",
       "  4.406510182589813e+18,\n",
       "  4.4065105311899884e+18,\n",
       "  4.4065107128071803e+18,\n",
       "  4.4065108074277156e+18,\n",
       "  4.406510856723882e+18,\n",
       "  4.406510882406614e+18,\n",
       "  4.4065108957870136e+18])"
      ]
     },
     "execution_count": 14,
     "metadata": {},
     "output_type": "execute_result"
    }
   ],
   "source": [
    "data, counts_data"
   ]
  },
  {
   "cell_type": "code",
   "execution_count": 15,
   "id": "f84f85bf43a82b40",
   "metadata": {
    "ExecuteTime": {
     "end_time": "2024-04-30T15:58:36.053897Z",
     "start_time": "2024-04-30T15:58:36.051783Z"
    }
   },
   "outputs": [
    {
     "data": {
      "text/plain": [
       "(31, 31)"
      ]
     },
     "execution_count": 15,
     "metadata": {},
     "output_type": "execute_result"
    }
   ],
   "source": [
    "len(timescale), len(data)"
   ]
  },
  {
   "cell_type": "code",
   "execution_count": 16,
   "id": "4311ca8a4fce3a7c",
   "metadata": {
    "ExecuteTime": {
     "end_time": "2024-04-30T15:58:36.184922Z",
     "start_time": "2024-04-30T15:58:36.054653Z"
    }
   },
   "outputs": [
    {
     "data": {
      "image/png": "[encoded data removed]",
      "text/plain": [
       "<Figure size 800x500 with 1 Axes>"
      ]
     },
     "metadata": {},
     "output_type": "display_data"
    }
   ],
   "source": [
    "ResultsAnimation.plot_single_output(timescale=timescale, concentrations=data, species_name='plasminogen concentration')"
   ]
  },
  {
   "cell_type": "code",
   "execution_count": 17,
   "id": "a385d75479e50b1c",
   "metadata": {
    "ExecuteTime": {
     "end_time": "2024-04-30T15:58:36.320011Z",
     "start_time": "2024-04-30T15:58:36.189016Z"
    }
   },
   "outputs": [
    {
     "data": {
      "image/png": "[encoded data removed]",
      "text/plain": [
       "<Figure size 800x500 with 1 Axes>"
      ]
     },
     "metadata": {},
     "output_type": "display_data"
    }
   ],
   "source": [
    "ResultsAnimation.plot_single_output(timescale=timescale, concentrations=counts_data, species_name='plasminogen counts')"
   ]
  },
  {
   "cell_type": "code",
   "execution_count": 17,
   "id": "e77329409aaafa5b",
   "metadata": {
    "ExecuteTime": {
     "end_time": "2024-04-30T15:58:36.324658Z",
     "start_time": "2024-04-30T15:58:36.322131Z"
    }
   },
   "outputs": [],
   "source": []
  },
  {
   "cell_type": "code",
   "execution_count": 18,
   "id": "d58264b3a8d26273",
   "metadata": {
    "ExecuteTime": {
     "end_time": "2024-04-30T15:58:37.779702Z",
     "start_time": "2024-04-30T15:58:36.327447Z"
    }
   },
   "outputs": [],
   "source": [
    "from basico import * \n",
    "from biosimulator_processes.utils import fetch_biomodel\n",
    "\n",
    "\n",
    "model = fetch_biomodel(biomodel_id)"
   ]
  },
  {
   "cell_type": "code",
   "execution_count": 19,
   "id": "83123042a81db1c7",
   "metadata": {
    "ExecuteTime": {
     "end_time": "2024-04-30T15:58:37.787193Z",
     "start_time": "2024-04-30T15:58:37.780755Z"
    }
   },
   "outputs": [
    {
     "data": {
      "text/plain": [
       "name\n",
       "plasminogen                                                 6.022141e+15\n",
       "plasmin                                                     0.000000e+00\n",
       "single intact chain urokinase-type plasminogen activator    1.204428e+15\n",
       "two-chain urokinase-type plasminogen activator              0.000000e+00\n",
       "x                                                           0.000000e+00\n",
       "x-plasmin                                                   0.000000e+00\n",
       "Name: particle_number, dtype: float64"
      ]
     },
     "execution_count": 19,
     "metadata": {},
     "output_type": "execute_result"
    }
   ],
   "source": [
    "get_species(model=model).particle_number"
   ]
  },
  {
   "cell_type": "code",
   "execution_count": 20,
   "id": "11a9d65e213ccc06",
   "metadata": {
    "ExecuteTime": {
     "end_time": "2024-04-30T15:58:37.791140Z",
     "start_time": "2024-04-30T15:58:37.788271Z"
    }
   },
   "outputs": [],
   "source": [
    "set_species('plasminogen', model=model, initial_concentration=5.032)"
   ]
  },
  {
   "cell_type": "code",
   "execution_count": 21,
   "id": "b2d960f0b4dbb2e7",
   "metadata": {
    "ExecuteTime": {
     "end_time": "2024-04-30T15:58:37.793520Z",
     "start_time": "2024-04-30T15:58:37.791935Z"
    }
   },
   "outputs": [],
   "source": [
    "set_species('plasminogen', model=model, particle_number=5.032)"
   ]
  },
  {
   "cell_type": "code",
   "execution_count": 22,
   "id": "f0dc07b7730ec661",
   "metadata": {
    "ExecuteTime": {
     "end_time": "2024-04-30T15:58:37.798078Z",
     "start_time": "2024-04-30T15:58:37.794096Z"
    }
   },
   "outputs": [
    {
     "data": {
      "text/plain": [
       "name\n",
       "plasminogen                                                 5.032000e+00\n",
       "plasmin                                                     0.000000e+00\n",
       "single intact chain urokinase-type plasminogen activator    1.204428e+15\n",
       "two-chain urokinase-type plasminogen activator              0.000000e+00\n",
       "x                                                           0.000000e+00\n",
       "x-plasmin                                                   0.000000e+00\n",
       "Name: particle_number, dtype: float64"
      ]
     },
     "execution_count": 22,
     "metadata": {},
     "output_type": "execute_result"
    }
   ],
   "source": [
    "get_species(model=model).particle_number"
   ]
  },
  {
   "cell_type": "code",
   "execution_count": 23,
   "id": "a145ba999a76fc81",
   "metadata": {
    "ExecuteTime": {
     "end_time": "2024-04-30T15:58:37.802338Z",
     "start_time": "2024-04-30T15:58:37.798682Z"
    }
   },
   "outputs": [
    {
     "data": {
      "text/plain": [
       "name\n",
       "plasminogen                                                 5.032\n",
       "plasmin                                                     0.000\n",
       "single intact chain urokinase-type plasminogen activator    0.002\n",
       "two-chain urokinase-type plasminogen activator              0.000\n",
       "x                                                           0.000\n",
       "x-plasmin                                                   0.000\n",
       "Name: initial_concentration, dtype: float64"
      ]
     },
     "execution_count": 23,
     "metadata": {},
     "output_type": "execute_result"
    }
   ],
   "source": [
    "get_species(model=model).initial_concentration"
   ]
  },
  {
   "cell_type": "code",
   "execution_count": 23,
   "id": "4b07263ce48d2094",
   "metadata": {
    "ExecuteTime": {
     "end_time": "2024-04-30T15:58:37.804375Z",
     "start_time": "2024-04-30T15:58:37.802970Z"
    }
   },
   "outputs": [],
   "source": []
  }
 ],
 "metadata": {
  "kernelspec": {
   "display_name": "Python 3",
   "language": "python",
   "name": "python3"
  },
  "language_info": {
   "codemirror_mode": {
    "name": "ipython",
    "version": 2
   },
   "file_extension": ".py",
   "mimetype": "text/x-python",
   "name": "python",
   "nbconvert_exporter": "python",
   "pygments_lexer": "ipython2",
   "version": "2.7.6"
  }
 },
 "nbformat": 4,
 "nbformat_minor": 5
}
