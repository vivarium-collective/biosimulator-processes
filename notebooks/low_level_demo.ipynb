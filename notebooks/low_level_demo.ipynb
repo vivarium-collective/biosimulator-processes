{
 "cells": [
  {
   "cell_type": "code",
   "execution_count": 1,
   "id": "40898635d17c0f08",
   "metadata": {
    "ExecuteTime": {
     "end_time": "2024-04-30T16:10:43.131979Z",
     "start_time": "2024-04-30T16:10:43.095382Z"
    },
    "collapsed": false,
    "is_executing": true
   },
   "outputs": [],
   "source": [
    "import sys\n",
    "sys.path.insert(0, '..')\n",
    "\n",
    "import os\n",
    "import requests\n",
    "import json"
   ]
  },
  {
   "cell_type": "code",
   "execution_count": 2,
   "id": "initial_id",
   "metadata": {
    "ExecuteTime": {
     "end_time": "2024-04-30T16:10:44.873152Z",
     "start_time": "2024-04-30T16:10:43.133215Z"
    },
    "collapsed": true
   },
   "outputs": [
    {
     "name": "stdout",
     "output_type": "stream",
     "text": [
      "CobraProcess registered successfully.\n",
      "CopasiProcess registered successfully.\n",
      "SmoldynProcess registered successfully.\n",
      "TelluriumProcess registered successfully.\n"
     ]
    }
   ],
   "source": [
    "from biosimulator_processes.tests.test_copasi_process import test_process_from_document\n",
    "from biosimulator_processes.tests.data_model import ProcessUnitTest\n",
    "from biosimulator_processes import CORE\n",
    "from process_bigraph import Composite, pp"
   ]
  },
  {
   "cell_type": "markdown",
   "id": "c7dca241b02a7265",
   "metadata": {},
   "source": [
    "#### Step 1: Define the document to be read by the Composite, which is implemented by the Process."
   ]
  },
  {
   "cell_type": "code",
   "execution_count": 3,
   "id": "2633feac24b596a6",
   "metadata": {
    "ExecuteTime": {
     "end_time": "2024-04-30T16:10:44.876772Z",
     "start_time": "2024-04-30T16:10:44.873854Z"
    }
   },
   "outputs": [],
   "source": [
    "biomodel_id = 'BIOMD0000000630'\n",
    "\n",
    "document = {\n",
    "    'copasi': {\n",
    "        '_type': 'process',\n",
    "        'address': 'local:copasi',\n",
    "        'config': {\n",
    "            'model': {\n",
    "                'model_source': biomodel_id  \n",
    "            },\n",
    "            'method': 'lsoda'\n",
    "        },\n",
    "        'inputs': {\n",
    "            'floating_species_concentrations': ['floating_species_concentrations_store'],\n",
    "            'floating_species_counts': ['floating_species_counts_store'],\n",
    "            'model_parameters': ['model_parameters_store'],\n",
    "            'time': ['time_store'],\n",
    "            'reactions': ['reactions_store']\n",
    "        },\n",
    "        'outputs': {\n",
    "            'floating_species_concentrations': ['floating_species_concentrations_store'],\n",
    "            'floating_species_counts': ['floating_species_counts_store'],\n",
    "            'time': ['time_store'],\n",
    "        }\n",
    "    },\n",
    "    'emitter': {\n",
    "        '_type': 'step',\n",
    "        'address': 'local:ram-emitter',\n",
    "        'config': {\n",
    "            'emit': {\n",
    "                'floating_species_concentrations': 'tree[float]',\n",
    "                'floating_species_counts': 'tree[float]',\n",
    "                'time': 'float',\n",
    "            },\n",
    "        },\n",
    "        'inputs': {\n",
    "            'floating_species_concentrations': ['floating_species_concentrations_store'],\n",
    "            'floating_species_counts': ['floating_species_counts_store'],\n",
    "            'time': ['time_store'],\n",
    "        }\n",
    "    }\n",
    "}"
   ]
  },
  {
   "cell_type": "markdown",
   "id": "e502cb54666345af",
   "metadata": {},
   "source": [
    "#### Step 2: Define the instance composition along with the process registry"
   ]
  },
  {
   "cell_type": "code",
   "execution_count": 4,
   "id": "bd91dca0be22cd27",
   "metadata": {
    "ExecuteTime": {
     "end_time": "2024-04-30T16:10:46.597317Z",
     "start_time": "2024-04-30T16:10:44.877885Z"
    }
   },
   "outputs": [
    {
     "name": "stdout",
     "output_type": "stream",
     "text": [
      "found a biomodel id\n"
     ]
    }
   ],
   "source": [
    "workflow = Composite(\n",
    "    config={'state': document},\n",
    "    core=CORE\n",
    ")"
   ]
  },
  {
   "cell_type": "markdown",
   "id": "857667277d39c647",
   "metadata": {},
   "source": [
    "#### Step 3: Run the workflow for a duration and get the results"
   ]
  },
  {
   "cell_type": "code",
   "execution_count": 5,
   "id": "7c6f72142af0616b",
   "metadata": {
    "ExecuteTime": {
     "end_time": "2024-04-30T16:10:46.875939Z",
     "start_time": "2024-04-30T16:10:46.598111Z"
    }
   },
   "outputs": [
    {
     "name": "stderr",
     "output_type": "stream",
     "text": [
      "/Users/alex/Desktop/uchc_work/repos/biosimulator-processes/notebooks/../biosimulator_processes/processes/copasi_process.py:245: FutureWarning:\n",
      "\n",
      "Series.__getitem__ treating keys as positions is deprecated. In a future version, integer keys will always be treated as labels (consistent with DataFrame behavior). To access a value by position, use `ser.iloc[pos]`\n",
      "\n",
      "/Users/alex/Desktop/uchc_work/repos/biosimulator-processes/notebooks/../biosimulator_processes/processes/copasi_process.py:255: FutureWarning:\n",
      "\n",
      "Series.__getitem__ treating keys as positions is deprecated. In a future version, integer keys will always be treated as labels (consistent with DataFrame behavior). To access a value by position, use `ser.iloc[pos]`\n",
      "\n"
     ]
    }
   ],
   "source": [
    "workflow.run(30)\n",
    "\n",
    "results = workflow.gather_results()"
   ]
  },
  {
   "cell_type": "code",
   "execution_count": 6,
   "id": "c7a254aee3009b8c",
   "metadata": {
    "ExecuteTime": {
     "end_time": "2024-04-30T16:10:46.883479Z",
     "start_time": "2024-04-30T16:10:46.876559Z"
    }
   },
   "outputs": [
    {
     "name": "stdout",
     "output_type": "stream",
     "text": [
      "{ ('emitter',): [ { 'floating_species_concentrations': { 'plasmin': 0.0,\n",
      "                                                         'plasminogen': 0.0,\n",
      "                                                         'single intact chain urokinase-type plasminogen activator': 0.0,\n",
      "                                                         'two-chain urokinase-type plasminogen activator': 0.0,\n",
      "                                                         'x': 0.0,\n",
      "                                                         'x-plasmin': 0.0},\n",
      "                    'floating_species_counts': { 'plasmin': 0.0,\n",
      "                                                 'plasminogen': 0.0,\n",
      "                                                 'single intact chain urokinase-type plasminogen activator': 0.0,\n",
      "                                                 'two-chain urokinase-type plasminogen activator': 0.0,\n",
      "                                                 'x': 0.0,\n",
      "                                                 'x-plasmin': 0.0},\n",
      "                    'time': 0.0},\n",
      "                  { 'floating_species_concentrations': { 'plasmin': 3.500808587045718e-07,\n",
      "                                                         'plasminogen': 0.009841338438766237,\n",
      "                                                         'single intact chain urokinase-type plasminogen activator': 0.0030692854818269847,\n",
      "                                                         'two-chain urokinase-type plasminogen activator': 2.1839175650943385e-15,\n",
      "                                                         'x': 0.0,\n",
      "                                                         'x-plasmin': 0.0},\n",
      "                    'floating_species_counts': { 'plasmin': 210823620850.06027,\n",
      "                                                 'plasminogen': 5926592534504892.0,\n",
      "                                                 'single intact chain urokinase-type plasminogen activator': 1848366920418652.5,\n",
      "                                                 'two-chain urokinase-type plasminogen activator': 1315.185898523457,\n",
      "                                                 'x': 0.0,\n",
      "                                                 'x-plasmin': 0.0},\n",
      "                    'time': 1.0},\n",
      "                  { 'floating_species_concentrations': { 'plasmin': 2.977323719237607e-06,\n",
      "                                                         'plasminogen': 0.02921207965451545,\n",
      "                                                         'single intact chain urokinase-type plasminogen activator': 0.008960567969375523,\n",
      "                                                         'two-chain urokinase-type plasminogen activator': 4.1685683263837494e-13,\n",
      "                                                         'x': 0.0,\n",
      "                                                         'x-plasmin': 0.0},\n",
      "                    'floating_species_counts': { 'plasmin': 1792986252533.559,\n",
      "                                                 'plasminogen': 1.7591925557182422e+16,\n",
      "                                                 'single intact chain urokinase-type plasminogen activator': 5396180160112677.0,\n",
      "                                                 'two-chain urokinase-type plasminogen activator': 251037.0522916056,\n",
      "                                                 'x': 0.0,\n",
      "                                                 'x-plasmin': 0.0},\n",
      "                    'time': 2.0},\n",
      "                  { 'floating_species_concentrations': { 'plasmin': 1.7293764303976745e-05,\n",
      "                                                         'plasminogen': 0.0673340084602464,\n",
      "                                                         'single intact chain urokinase-type plasminogen activator': 0.020268479682306197,\n",
      "                                                         'two-chain urokinase-type plasminogen activator': 3.3368917382081315e-11,\n",
      "                                                         'x': 0.0,\n",
      "                                                         'x-plasmin': 0.0},\n",
      "                    'floating_species_counts': { 'plasmin': 10414548290881.139,\n",
      "                                                 'plasminogen': 4.0549487688263464e+16,\n",
      "                                                 'single intact chain urokinase-type plasminogen activator': 1.22059637638048e+16,\n",
      "                                                 'two-chain urokinase-type plasminogen activator': 20095231.74837044,\n",
      "                                                 'x': 0.0,\n",
      "                                                 'x-plasmin': 0.0},\n",
      "                    'time': 3.0},\n",
      "                  { 'floating_species_concentrations': { 'plasmin': 8.346622468494101e-05,\n",
      "                                                         'plasminogen': 0.14233758795777518,\n",
      "                                                         'single intact chain urokinase-type plasminogen activator': 0.04197323732058468,\n",
      "                                                         'two-chain urokinase-type plasminogen activator': 1.6413030826647842e-09,\n",
      "                                                         'x': 0.0,\n",
      "                                                         'x-plasmin': 0.0},\n",
      "                    'floating_species_counts': { 'plasmin': 50264535375850.15,\n",
      "                                                 'plasminogen': 8.571769901206029e+16,\n",
      "                                                 'single intact chain urokinase-type plasminogen activator': 2.5276874329744616e+16,\n",
      "                                                 'two-chain urokinase-type plasminogen activator': 988415819.3629246,\n",
      "                                                 'x': 0.0,\n",
      "                                                 'x-plasmin': 0.0},\n",
      "                    'time': 4.0},\n",
      "                  { 'floating_species_concentrations': { 'plasmin': 0.00036368509673783995,\n",
      "                                                         'plasminogen': 0.2898254125579512,\n",
      "                                                         'single intact chain urokinase-type plasminogen activator': 0.08363396964480554,\n",
      "                                                         'two-chain urokinase-type plasminogen activator': 6.26202928921516e-08,\n",
      "                                                         'x': 0.0,\n",
      "                                                         'x-plasmin': 0.0},\n",
      "                    'floating_species_counts': { 'plasmin': 219016284486948.94,\n",
      "                                                 'plasminogen': 1.7453694302490534e+17,\n",
      "                                                 'single intact chain urokinase-type plasminogen activator': 5.036555375185861e+16,\n",
      "                                                 'two-chain urokinase-type plasminogen activator': 37710821822.89644,\n",
      "                                                 'x': 0.0,\n",
      "                                                 'x-plasmin': 0.0},\n",
      "                    'time': 5.0},\n",
      "                  { 'floating_species_concentrations': { 'plasmin': 0.001493471574040387,\n",
      "                                                         'plasminogen': 0.5795486179831393,\n",
      "                                                         'single intact chain urokinase-type plasminogen activator': 0.1635969870983704,\n",
      "                                                         'two-chain urokinase-type plasminogen activator': 2.073986617357199e-06,\n",
      "                                                         'x': 0.0,\n",
      "                                                         'x-plasmin': 0.0},\n",
      "                    'floating_species_counts': { 'plasmin': 899389603992997.2,\n",
      "                                                 'plasminogen': 3.4901233547579315e+17,\n",
      "                                                 'single intact chain urokinase-type plasminogen activator': 9.852040842182902e+16,\n",
      "                                                 'two-chain urokinase-type plasminogen activator': 1248983934408.131,\n",
      "                                                 'x': 0.0,\n",
      "                                                 'x-plasmin': 0.0},\n",
      "                    'time': 6.0},\n",
      "                  { 'floating_species_concentrations': { 'plasmin': 0.005928504374591139,\n",
      "                                                         'plasminogen': 1.1475441940270583,\n",
      "                                                         'single intact chain urokinase-type plasminogen activator': 0.31702304307260554,\n",
      "                                                         'two-chain urokinase-type plasminogen activator': 6.339372382976752e-05,\n",
      "                                                         'x': 0.0,\n",
      "                                                         'x-plasmin': 0.0},\n",
      "                    'floating_species_counts': { 'plasmin': 3570228784006361.0,\n",
      "                                                 'plasminogen': 6.910672664751697e+17,\n",
      "                                                 'single intact chain urokinase-type plasminogen activator': 1.9091573895467734e+17,\n",
      "                                                 'two-chain urokinase-type plasminogen activator': 38176592820342.63,\n",
      "                                                 'x': 0.0,\n",
      "                                                 'x-plasmin': 0.0},\n",
      "                    'time': 7.0},\n",
      "                  { 'floating_species_concentrations': { 'plasmin': 0.02360485069972336,\n",
      "                                                         'plasminogen': 2.2562471891541533,\n",
      "                                                         'single intact chain urokinase-type plasminogen activator': 0.609795304174061,\n",
      "                                                         'two-chain urokinase-type plasminogen activator': 0.001899598978755492,\n",
      "                                                         'x': 0.0,\n",
      "                                                         'x-plasmin': 0.0},\n",
      "                    'floating_species_counts': { 'plasmin': 1.4215173353251856e+16,\n",
      "                                                 'plasminogen': 1.3587438162440658e+18,\n",
      "                                                 'single intact chain urokinase-type plasminogen activator': 3.672273156523211e+17,\n",
      "                                                 'two-chain urokinase-type plasminogen activator': 1143965243761782.2,\n",
      "                                                 'x': 0.0,\n",
      "                                                 'x-plasmin': 0.0},\n",
      "                    'time': 8.0},\n",
      "                  { 'floating_species_concentrations': { 'plasmin': 0.13681709060841624,\n",
      "                                                         'plasminogen': 4.357941523046428,\n",
      "                                                         'single intact chain urokinase-type plasminogen activator': 1.0904864045077423,\n",
      "                                                         'two-chain urokinase-type plasminogen activator': 0.08668919727994424,\n",
      "                                                         'x': 0.0,\n",
      "                                                         'x-plasmin': 0.0},\n",
      "                    'floating_species_counts': { 'plasmin': 8.239317780175568e+16,\n",
      "                                                 'plasminogen': 2.624413727563437e+18,\n",
      "                                                 'single intact chain urokinase-type plasminogen activator': 6.567062624811922e+17,\n",
      "                                                 'two-chain urokinase-type plasminogen activator': 5.2205454839123336e+16,\n",
      "                                                 'x': 0.0,\n",
      "                                                 'x-plasmin': 0.0},\n",
      "                    'time': 9.0},\n",
      "                  { 'floating_species_concentrations': { 'plasmin': 2.5207514716425976,\n",
      "                                                         'plasminogen': 6.275671452231845,\n",
      "                                                         'single intact chain urokinase-type plasminogen activator': 1.0905005647465469,\n",
      "                                                         'two-chain urokinase-type plasminogen activator': 1.172076364584569,\n",
      "                                                         'x': 0.0,\n",
      "                                                         'x-plasmin': 0.0},\n",
      "                    'floating_species_counts': { 'plasmin': 1.5180320183208873e+18,\n",
      "                                                 'plasminogen': 3.7792976848853786e+18,\n",
      "                                                 'single intact chain urokinase-type plasminogen activator': 6.567147899763199e+17,\n",
      "                                                 'two-chain urokinase-type plasminogen activator': 7.058408848997354e+17,\n",
      "                                                 'x': 0.0,\n",
      "                                                 'x-plasmin': 0.0},\n",
      "                    'time': 10.0},\n",
      "                  { 'floating_species_concentrations': { 'plasmin': 9.882810248993176,\n",
      "                                                         'plasminogen': 7.1440128829007,\n",
      "                                                         'single intact chain urokinase-type plasminogen activator': 1.0905020408936406,\n",
      "                                                         'two-chain urokinase-type plasminogen activator': 3.2554281220327104,\n",
      "                                                         'x': 0.0,\n",
      "                                                         'x-plasmin': 0.0},\n",
      "                    'floating_species_counts': { 'plasmin': 5.951567442380755e+18,\n",
      "                                                 'plasminogen': 4.302225117208142e+18,\n",
      "                                                 'single intact chain urokinase-type plasminogen activator': 6.56715678932878e+17,\n",
      "                                                 'two-chain urokinase-type plasminogen activator': 1.9604646384943442e+18,\n",
      "                                                 'x': 0.0,\n",
      "                                                 'x-plasmin': 0.0},\n",
      "                    'time': 11.0},\n",
      "                  { 'floating_species_concentrations': { 'plasmin': 25.47069088039531,\n",
      "                                                         'plasminogen': 7.3089267858318,\n",
      "                                                         'single intact chain urokinase-type plasminogen activator': 1.0905023701301475,\n",
      "                                                         'two-chain urokinase-type plasminogen activator': 7.254281106843079,\n",
      "                                                         'x': 0.0,\n",
      "                                                         'x-plasmin': 0.0},\n",
      "                    'floating_species_counts': { 'plasmin': 1.5338808573618887e+19,\n",
      "                                                 'plasminogen': 4.401538590881348e+18,\n",
      "                                                 'single intact chain urokinase-type plasminogen activator': 6.567158772037367e+17,\n",
      "                                                 'two-chain urokinase-type plasminogen activator': 4.3686301938017623e+18,\n",
      "                                                 'x': 0.0,\n",
      "                                                 'x-plasmin': 0.0},\n",
      "                    'time': 12.0},\n",
      "                  { 'floating_species_concentrations': { 'plasmin': 55.659620451019805,\n",
      "                                                         'plasminogen': 7.315609006689118,\n",
      "                                                         'single intact chain urokinase-type plasminogen activator': 1.0905024579093425,\n",
      "                                                         'two-chain urokinase-type plasminogen activator': 14.929805058609144,\n",
      "                                                         'x': 0.0,\n",
      "                                                         'x-plasmin': 0.0},\n",
      "                    'floating_species_counts': { 'plasmin': 3.351900690042159e+19,\n",
      "                                                 'plasminogen': 4.4055627183405655e+18,\n",
      "                                                 'single intact chain urokinase-type plasminogen activator': 6.567159300656036e+17,\n",
      "                                                 'two-chain urokinase-type plasminogen activator': 8.990938758230432e+18,\n",
      "                                                 'x': 0.0,\n",
      "                                                 'x-plasmin': 0.0},\n",
      "                    'time': 13.0},\n",
      "                  { 'floating_species_concentrations': { 'plasmin': 113.59437557789064,\n",
      "                                                         'plasminogen': 7.316363679960139,\n",
      "                                                         'single intact chain urokinase-type plasminogen activator': 1.0905024817441407,\n",
      "                                                         'two-chain urokinase-type plasminogen activator': 29.662445783777237,\n",
      "                                                         'x': 0.0,\n",
      "                                                         'x-plasmin': 0.0},\n",
      "                    'floating_species_counts': { 'plasmin': 6.840813192743638e+19,\n",
      "                                                 'plasminogen': 4.406017193207155e+18,\n",
      "                                                 'single intact chain urokinase-type plasminogen activator': 6.567159444192545e+17,\n",
      "                                                 'two-chain urokinase-type plasminogen activator': 1.7863142379577506e+19,\n",
      "                                                 'x': 0.0,\n",
      "                                                 'x-plasmin': 0.0},\n",
      "                    'time': 14.0},\n",
      "                  { 'floating_species_concentrations': { 'plasmin': 224.78540779816112,\n",
      "                                                         'plasminogen': 7.316754824880197,\n",
      "                                                         'single intact chain urokinase-type plasminogen activator': 1.0905024882148253,\n",
      "                                                         'two-chain urokinase-type plasminogen activator': 57.9407369153285,\n",
      "                                                         'x': 0.0,\n",
      "                                                         'x-plasmin': 0.0},\n",
      "                    'floating_species_counts': { 'plasmin': 1.353689366554528e+20,\n",
      "                                                 'plasminogen': 4.4062527461837696e+18,\n",
      "                                                 'single intact chain urokinase-type plasminogen activator': 6.567159483159919e+17,\n",
      "                                                 'two-chain urokinase-type plasminogen activator': 3.489272734422364e+19,\n",
      "                                                 'x': 0.0,\n",
      "                                                 'x-plasmin': 0.0},\n",
      "                    'time': 15.0},\n",
      "                  { 'floating_species_concentrations': { 'plasmin': 438.2033889635509,\n",
      "                                                         'plasminogen': 7.316959047589873,\n",
      "                                                         'single intact chain urokinase-type plasminogen activator': 1.0905024899712434,\n",
      "                                                         'two-chain urokinase-type plasminogen activator': 112.21897279571691,\n",
      "                                                         'x': 0.0,\n",
      "                                                         'x-plasmin': 0.0},\n",
      "                    'floating_species_counts': { 'plasmin': 2.638922489847534e+20,\n",
      "                                                 'plasminogen': 4.406375731974176e+18,\n",
      "                                                 'single intact chain urokinase-type plasminogen activator': 6.567159493737317e+17,\n",
      "                                                 'two-chain urokinase-type plasminogen activator': 6.757984501184179e+19,\n",
      "                                                 'x': 0.0,\n",
      "                                                 'x-plasmin': 0.0},\n",
      "                    'time': 16.0},\n",
      "                  { 'floating_species_concentrations': { 'plasmin': 847.8416493219519,\n",
      "                                                         'plasminogen': 7.317065565558107,\n",
      "                                                         'single intact chain urokinase-type plasminogen activator': 1.0905024904479914,\n",
      "                                                         'two-chain urokinase-type plasminogen activator': 216.40231581342522,\n",
      "                                                         'x': 0.0,\n",
      "                                                         'x-plasmin': 0.0},\n",
      "                    'floating_species_counts': { 'plasmin': 5.105821754407353e+20,\n",
      "                                                 'plasminogen': 4.406439878593993e+18,\n",
      "                                                 'single intact chain urokinase-type plasminogen activator': 6.567159496608361e+17,\n",
      "                                                 'two-chain urokinase-type plasminogen activator': 1.3032052066184205e+20,\n",
      "                                                 'x': 0.0,\n",
      "                                                 'x-plasmin': 0.0},\n",
      "                    'time': 17.0},\n",
      "                  { 'floating_species_concentrations': { 'plasmin': 1634.1111932425024,\n",
      "                                                         'plasminogen': 7.317121093012439,\n",
      "                                                         'single intact chain urokinase-type plasminogen activator': 1.0905024905773952,\n",
      "                                                         'two-chain urokinase-type plasminogen activator': 416.37471538964144,\n",
      "                                                         'x': 0.0,\n",
      "                                                         'x-plasmin': 0.0},\n",
      "                    'floating_species_counts': { 'plasmin': 9.84084762319791e+20,\n",
      "                                                 'plasminogen': 4.406473318008596e+18,\n",
      "                                                 'single intact chain urokinase-type plasminogen activator': 6.567159497387649e+17,\n",
      "                                                 'two-chain urokinase-type plasminogen activator': 2.507467144981359e+20,\n",
      "                                                 'x': 0.0,\n",
      "                                                 'x-plasmin': 0.0},\n",
      "                    'time': 18.0},\n",
      "                  { 'floating_species_concentrations': { 'plasmin': 3143.3023086194617,\n",
      "                                                         'plasminogen': 7.317150031024135,\n",
      "                                                         'single intact chain urokinase-type plasminogen activator': 1.0905024906125191,\n",
      "                                                         'two-chain urokinase-type plasminogen activator': 800.2083856421425,\n",
      "                                                         'x': 0.0,\n",
      "                                                         'x-plasmin': 0.0},\n",
      "                    'floating_species_counts': { 'plasmin': 1.8929408953739358e+21,\n",
      "                                                 'plasminogen': 4.406490744886571e+18,\n",
      "                                                 'single intact chain urokinase-type plasminogen activator': 6.567159497599169e+17,\n",
      "                                                 'two-chain urokinase-type plasminogen activator': 4.818967535669345e+20,\n",
      "                                                 'x': 0.0,\n",
      "                                                 'x-plasmin': 0.0},\n",
      "                    'time': 19.0},\n",
      "                  { 'floating_species_concentrations': { 'plasmin': 6040.085547667099,\n",
      "                                                         'plasminogen': 7.317165109820492,\n",
      "                                                         'single intact chain urokinase-type plasminogen activator': 1.0905024906220528,\n",
      "                                                         'two-chain urokinase-type plasminogen activator': 1536.9494698372412,\n",
      "                                                         'x': 0.0,\n",
      "                                                         'x-plasmin': 0.0},\n",
      "                    'floating_species_counts': { 'plasmin': 3.637424537049295e+21,\n",
      "                                                 'plasminogen': 4.4064998255499863e+18,\n",
      "                                                 'single intact chain urokinase-type plasminogen activator': 6.567159497656582e+17,\n",
      "                                                 'two-chain urokinase-type plasminogen activator': 9.255726048367241e+20,\n",
      "                                                 'x': 0.0,\n",
      "                                                 'x-plasmin': 0.0},\n",
      "                    'time': 20.0},\n",
      "                  { 'floating_species_concentrations': { 'plasmin': 11600.257785484348,\n",
      "                                                         'plasminogen': 7.317172966350888,\n",
      "                                                         'single intact chain urokinase-type plasminogen activator': 1.0905024906246406,\n",
      "                                                         'two-chain urokinase-type plasminogen activator': 2951.0723574397753,\n",
      "                                                         'x': 0.0,\n",
      "                                                         'x-plasmin': 0.0},\n",
      "                    'floating_species_counts': { 'plasmin': 6.985838523647262e+21,\n",
      "                                                 'plasminogen': 4.4065045568631793e+18,\n",
      "                                                 'single intact chain urokinase-type plasminogen activator': 6.567159497672166e+17,\n",
      "                                                 'two-chain urokinase-type plasminogen activator': 1.777177312944736e+21,\n",
      "                                                 'x': 0.0,\n",
      "                                                 'x-plasmin': 0.0},\n",
      "                    'time': 21.0},\n",
      "                  { 'floating_species_concentrations': { 'plasmin': 22272.621903760206,\n",
      "                                                         'plasminogen': 7.317177059685848,\n",
      "                                                         'single intact chain urokinase-type plasminogen activator': 1.0905024906253429,\n",
      "                                                         'two-chain urokinase-type plasminogen activator': 5665.382971372926,\n",
      "                                                         'x': 0.0,\n",
      "                                                         'x-plasmin': 0.0},\n",
      "                    'floating_species_counts': { 'plasmin': 1.3412886419870312e+22,\n",
      "                                                 'plasminogen': 4.4065070219271096e+18,\n",
      "                                                 'single intact chain urokinase-type plasminogen activator': 6.567159497676397e+17,\n",
      "                                                 'two-chain urokinase-type plasminogen activator': 3.411773371291481e+21,\n",
      "                                                 'x': 0.0,\n",
      "                                                 'x-plasmin': 0.0},\n",
      "                    'time': 22.0},\n",
      "                  { 'floating_species_concentrations': { 'plasmin': 42757.482728990275,\n",
      "                                                         'plasminogen': 7.3171791923126115,\n",
      "                                                         'single intact chain urokinase-type plasminogen activator': 1.0905024906255336,\n",
      "                                                         'two-chain urokinase-type plasminogen activator': 10875.313470610668,\n",
      "                                                         'x': 0.0,\n",
      "                                                         'x-plasmin': 0.0},\n",
      "                    'floating_species_counts': { 'plasmin': 2.5749157953724836e+22,\n",
      "                                                 'plasminogen': 4.4065083062249656e+18,\n",
      "                                                 'single intact chain urokinase-type plasminogen activator': 6.567159497677545e+17,\n",
      "                                                 'two-chain urokinase-type plasminogen activator': 6.549266852914157e+21,\n",
      "                                                 'x': 0.0,\n",
      "                                                 'x-plasmin': 0.0},\n",
      "                    'time': 23.0},\n",
      "                  { 'floating_species_concentrations': { 'plasmin': 82076.7684908071,\n",
      "                                                         'plasminogen': 7.317180303397827,\n",
      "                                                         'single intact chain urokinase-type plasminogen activator': 1.0905024906255854,\n",
      "                                                         'two-chain urokinase-type plasminogen activator': 20875.41784048041,\n",
      "                                                         'x': 0.0,\n",
      "                                                         'x-plasmin': 0.0},\n",
      "                    'floating_species_counts': { 'plasmin': 4.9427785297757305e+22,\n",
      "                                                 'plasminogen': 4.4065089753361224e+18,\n",
      "                                                 'single intact chain urokinase-type plasminogen activator': 6.567159497677856e+17,\n",
      "                                                 'two-chain urokinase-type plasminogen activator': 1.2571470465918824e+22,\n",
      "                                                 'x': 0.0,\n",
      "                                                 'x-plasmin': 0.0},\n",
      "                    'time': 24.0},\n",
      "                  { 'floating_species_concentrations': { 'plasmin': 157547.4948920393,\n",
      "                                                         'plasminogen': 7.317180882262624,\n",
      "                                                         'single intact chain urokinase-type plasminogen activator': 1.0905024906255993,\n",
      "                                                         'two-chain urokinase-type plasminogen activator': 40069.94608317602,\n",
      "                                                         'x': 0.0,\n",
      "                                                         'x-plasmin': 0.0},\n",
      "                    'floating_species_counts': { 'plasmin': 9.487731906252416e+22,\n",
      "                                                 'plasminogen': 4.4065093239366513e+18,\n",
      "                                                 'single intact chain urokinase-type plasminogen activator': 6.56715949767794e+17,\n",
      "                                                 'two-chain urokinase-type plasminogen activator': 2.413068555584967e+22,\n",
      "                                                 'x': 0.0,\n",
      "                                                 'x-plasmin': 0.0},\n",
      "                    'time': 25.0},\n",
      "                  { 'floating_species_concentrations': { 'plasmin': 302408.199518019,\n",
      "                                                         'plasminogen': 7.317181183845372,\n",
      "                                                         'single intact chain urokinase-type plasminogen activator': 1.0905024906256031,\n",
      "                                                         'two-chain urokinase-type plasminogen activator': 76912.48118181122,\n",
      "                                                         'x': 0.0,\n",
      "                                                         'x-plasmin': 0.0},\n",
      "                    'floating_species_counts': { 'plasmin': 1.8211447444756744e+23,\n",
      "                                                 'plasminogen': 4.4065095055540275e+18,\n",
      "                                                 'single intact chain urokinase-type plasminogen activator': 6.567159497677964e+17,\n",
      "                                                 'two-chain urokinase-type plasminogen activator': 4.631777878777183e+22,\n",
      "                                                 'x': 0.0,\n",
      "                                                 'x-plasmin': 0.0},\n",
      "                    'time': 26.0},\n",
      "                  { 'floating_species_concentrations': { 'plasmin': 580458.1856829972,\n",
      "                                                         'plasminogen': 7.317181340966627,\n",
      "                                                         'single intact chain urokinase-type plasminogen activator': 1.0905024906256042,\n",
      "                                                         'two-chain urokinase-type plasminogen activator': 147629.14931527042,\n",
      "                                                         'x': 0.0,\n",
      "                                                         'x-plasmin': 0.0},\n",
      "                    'floating_species_counts': { 'plasmin': 3.495600899477226e+23,\n",
      "                                                 'plasminogen': 4.4065096001746586e+18,\n",
      "                                                 'single intact chain urokinase-type plasminogen activator': 6.56715949767797e+17,\n",
      "                                                 'two-chain urokinase-type plasminogen activator': 8.890435174556159e+22,\n",
      "                                                 'x': 0.0,\n",
      "                                                 'x-plasmin': 0.0},\n",
      "                    'time': 27.0},\n",
      "                  { 'floating_species_concentrations': { 'plasmin': 1114156.0923091478,\n",
      "                                                         'plasminogen': 7.317181422824921,\n",
      "                                                         'single intact chain urokinase-type plasminogen activator': 1.0905024906256044,\n",
      "                                                         'two-chain urokinase-type plasminogen activator': 283364.95087781566,\n",
      "                                                         'x': 0.0,\n",
      "                                                         'x-plasmin': 0.0},\n",
      "                    'floating_species_counts': { 'plasmin': 6.709604816497242e+23,\n",
      "                                                 'plasminogen': 4.406509649470875e+18,\n",
      "                                                 'single intact chain urokinase-type plasminogen activator': 6.567159497677971e+17,\n",
      "                                                 'two-chain urokinase-type plasminogen activator': 1.706463620636691e+23,\n",
      "                                                 'x': 0.0,\n",
      "                                                 'x-plasmin': 0.0},\n",
      "                    'time': 28.0},\n",
      "                  { 'floating_species_concentrations': { 'plasmin': 2138551.5136487684,\n",
      "                                                         'plasminogen': 7.317181465472144,\n",
      "                                                         'single intact chain urokinase-type plasminogen activator': 1.0905024906256044,\n",
      "                                                         'two-chain urokinase-type plasminogen activator': 543900.23105476,\n",
      "                                                         'x': 0.0,\n",
      "                                                         'x-plasmin': 0.0},\n",
      "                    'floating_species_counts': { 'plasmin': 1.2878658237703946e+24,\n",
      "                                                 'plasminogen': 4.4065096751536333e+18,\n",
      "                                                 'single intact chain urokinase-type plasminogen activator': 6.567159497677971e+17,\n",
      "                                                 'two-chain urokinase-type plasminogen activator': 3.2754437508082884e+23,\n",
      "                                                 'x': 0.0,\n",
      "                                                 'x-plasmin': 0.0},\n",
      "                    'time': 29.0},\n",
      "                  { 'floating_species_concentrations': { 'plasmin': 4104806.635843627,\n",
      "                                                         'plasminogen': 7.317181487690843,\n",
      "                                                         'single intact chain urokinase-type plasminogen activator': 1.0905024906256044,\n",
      "                                                         'two-chain urokinase-type plasminogen activator': 1043979.4177526401,\n",
      "                                                         'x': 0.0,\n",
      "                                                         'x-plasmin': 0.0},\n",
      "                    'floating_species_counts': { 'plasmin': 2.4719723353632386e+24,\n",
      "                                                 'plasminogen': 4.4065096885340467e+18,\n",
      "                                                 'single intact chain urokinase-type plasminogen activator': 6.567159497677971e+17,\n",
      "                                                 'two-chain urokinase-type plasminogen activator': 6.286991004249241e+23,\n",
      "                                                 'x': 0.0,\n",
      "                                                 'x-plasmin': 0.0},\n",
      "                    'time': 30.0}]}\n"
     ]
    }
   ],
   "source": [
    "pp(results)"
   ]
  },
  {
   "cell_type": "code",
   "execution_count": 7,
   "id": "b1614b8359c0651f",
   "metadata": {
    "ExecuteTime": {
     "end_time": "2024-04-30T16:10:46.887737Z",
     "start_time": "2024-04-30T16:10:46.884275Z"
    }
   },
   "outputs": [],
   "source": [
    "from biosimulator_processes.steps.viz import ResultsAnimation, Plotter2d"
   ]
  },
  {
   "cell_type": "code",
   "execution_count": 8,
   "id": "601a2e10c945b363",
   "metadata": {
    "ExecuteTime": {
     "end_time": "2024-04-30T16:10:46.889802Z",
     "start_time": "2024-04-30T16:10:46.888275Z"
    }
   },
   "outputs": [],
   "source": [
    "output = results.copy()"
   ]
  },
  {
   "cell_type": "code",
   "execution_count": 9,
   "id": "538db282c51069d6",
   "metadata": {
    "ExecuteTime": {
     "end_time": "2024-04-30T16:10:46.892099Z",
     "start_time": "2024-04-30T16:10:46.890566Z"
    }
   },
   "outputs": [],
   "source": [
    "output_vals = output[('emitter',)]"
   ]
  },
  {
   "cell_type": "code",
   "execution_count": 10,
   "id": "a44c1cc0f9850758",
   "metadata": {
    "ExecuteTime": {
     "end_time": "2024-04-30T16:10:46.895660Z",
     "start_time": "2024-04-30T16:10:46.894085Z"
    }
   },
   "outputs": [],
   "source": [
    "timescale = list(set([val.get('time', 0.0) for val in output_vals]))"
   ]
  },
  {
   "cell_type": "code",
   "execution_count": 11,
   "id": "5c510ec6dac592eb",
   "metadata": {
    "ExecuteTime": {
     "end_time": "2024-04-30T16:10:46.899496Z",
     "start_time": "2024-04-30T16:10:46.896292Z"
    }
   },
   "outputs": [
    {
     "data": {
      "text/plain": [
       "[0.0,\n",
       " 1.0,\n",
       " 2.0,\n",
       " 3.0,\n",
       " 4.0,\n",
       " 5.0,\n",
       " 6.0,\n",
       " 7.0,\n",
       " 8.0,\n",
       " 9.0,\n",
       " 10.0,\n",
       " 11.0,\n",
       " 12.0,\n",
       " 13.0,\n",
       " 14.0,\n",
       " 15.0,\n",
       " 16.0,\n",
       " 17.0,\n",
       " 18.0,\n",
       " 19.0,\n",
       " 20.0,\n",
       " 21.0,\n",
       " 22.0,\n",
       " 23.0,\n",
       " 24.0,\n",
       " 25.0,\n",
       " 26.0,\n",
       " 27.0,\n",
       " 28.0,\n",
       " 29.0,\n",
       " 30.0]"
      ]
     },
     "execution_count": 11,
     "metadata": {},
     "output_type": "execute_result"
    }
   ],
   "source": [
    "timescale"
   ]
  },
  {
   "cell_type": "code",
   "execution_count": 12,
   "id": "f27e97fdebb17b07",
   "metadata": {
    "ExecuteTime": {
     "end_time": "2024-04-30T16:10:46.901536Z",
     "start_time": "2024-04-30T16:10:46.899962Z"
    }
   },
   "outputs": [],
   "source": [
    "data = []\n",
    "counts_data = []"
   ]
  },
  {
   "cell_type": "code",
   "execution_count": 13,
   "id": "c476add07372b47c",
   "metadata": {
    "ExecuteTime": {
     "end_time": "2024-04-30T16:10:46.903751Z",
     "start_time": "2024-04-30T16:10:46.902151Z"
    }
   },
   "outputs": [],
   "source": [
    "for i, val in enumerate(output_vals):\n",
    "    species_data = val.get('floating_species_concentrations')\n",
    "    data.append(species_data.get('plasminogen'))\n",
    "    counts = val.get('floating_species_counts')\n",
    "    counts_data.append(counts.get('plasminogen'))"
   ]
  },
  {
   "cell_type": "code",
   "execution_count": 14,
   "id": "279b7ff8dca7ec71",
   "metadata": {
    "ExecuteTime": {
     "end_time": "2024-04-30T16:10:46.906785Z",
     "start_time": "2024-04-30T16:10:46.904442Z"
    }
   },
   "outputs": [
    {
     "data": {
      "text/plain": [
       "([0.0,\n",
       "  0.009841338438766237,\n",
       "  0.02921207965451545,\n",
       "  0.0673340084602464,\n",
       "  0.14233758795777518,\n",
       "  0.2898254125579512,\n",
       "  0.5795486179831393,\n",
       "  1.1475441940270583,\n",
       "  2.2562471891541533,\n",
       "  4.357941523046428,\n",
       "  6.275671452231845,\n",
       "  7.1440128829007,\n",
       "  7.3089267858318,\n",
       "  7.315609006689118,\n",
       "  7.316363679960139,\n",
       "  7.316754824880197,\n",
       "  7.316959047589873,\n",
       "  7.317065565558107,\n",
       "  7.317121093012439,\n",
       "  7.317150031024135,\n",
       "  7.317165109820492,\n",
       "  7.317172966350888,\n",
       "  7.317177059685848,\n",
       "  7.3171791923126115,\n",
       "  7.317180303397827,\n",
       "  7.317180882262624,\n",
       "  7.317181183845372,\n",
       "  7.317181340966627,\n",
       "  7.317181422824921,\n",
       "  7.317181465472144,\n",
       "  7.317181487690843],\n",
       " [0.0,\n",
       "  5926592534504892.0,\n",
       "  1.7591925557182422e+16,\n",
       "  4.0549487688263464e+16,\n",
       "  8.571769901206029e+16,\n",
       "  1.7453694302490534e+17,\n",
       "  3.4901233547579315e+17,\n",
       "  6.910672664751697e+17,\n",
       "  1.3587438162440658e+18,\n",
       "  2.624413727563437e+18,\n",
       "  3.7792976848853786e+18,\n",
       "  4.302225117208142e+18,\n",
       "  4.401538590881348e+18,\n",
       "  4.4055627183405655e+18,\n",
       "  4.406017193207155e+18,\n",
       "  4.4062527461837696e+18,\n",
       "  4.406375731974176e+18,\n",
       "  4.406439878593993e+18,\n",
       "  4.406473318008596e+18,\n",
       "  4.406490744886571e+18,\n",
       "  4.4064998255499863e+18,\n",
       "  4.4065045568631793e+18,\n",
       "  4.4065070219271096e+18,\n",
       "  4.4065083062249656e+18,\n",
       "  4.4065089753361224e+18,\n",
       "  4.4065093239366513e+18,\n",
       "  4.4065095055540275e+18,\n",
       "  4.4065096001746586e+18,\n",
       "  4.406509649470875e+18,\n",
       "  4.4065096751536333e+18,\n",
       "  4.4065096885340467e+18])"
      ]
     },
     "execution_count": 14,
     "metadata": {},
     "output_type": "execute_result"
    }
   ],
   "source": [
    "data, counts_data"
   ]
  },
  {
   "cell_type": "code",
   "execution_count": 15,
   "id": "f84f85bf43a82b40",
   "metadata": {
    "ExecuteTime": {
     "end_time": "2024-04-30T16:10:46.909275Z",
     "start_time": "2024-04-30T16:10:46.907415Z"
    }
   },
   "outputs": [
    {
     "data": {
      "text/plain": [
       "(31, 31)"
      ]
     },
     "execution_count": 15,
     "metadata": {},
     "output_type": "execute_result"
    }
   ],
   "source": [
    "len(timescale), len(data)"
   ]
  },
  {
   "cell_type": "code",
   "execution_count": 16,
   "id": "4311ca8a4fce3a7c",
   "metadata": {
    "ExecuteTime": {
     "end_time": "2024-04-30T16:10:47.027875Z",
     "start_time": "2024-04-30T16:10:46.909899Z"
    }
   },
   "outputs": [
    {
     "data": {
      "image/png": "[encoded data removed]",
      "text/plain": [
       "<Figure size 800x500 with 1 Axes>"
      ]
     },
     "metadata": {},
     "output_type": "display_data"
    }
   ],
   "source": [
    "Plotter2d.plot_single_output(timescale=timescale, data=data, species_name='plasminogen concentration')"
   ]
  },
  {
   "cell_type": "code",
   "execution_count": 24,
   "id": "a385d75479e50b1c",
   "metadata": {
    "ExecuteTime": {
     "end_time": "2024-04-30T16:11:01.870554Z",
     "start_time": "2024-04-30T16:11:01.797963Z"
    }
   },
   "outputs": [
    {
     "data": {
      "image/png": "[encoded data removed]",
      "text/plain": [
       "<Figure size 800x500 with 1 Axes>"
      ]
     },
     "metadata": {},
     "output_type": "display_data"
    }
   ],
   "source": [
    "Plotter2d.plot_single_output(timescale=timescale, data=counts_data, species_name='plasminogen counts', plot_concentration=False)"
   ]
  },
  {
   "cell_type": "code",
   "execution_count": 17,
   "id": "e77329409aaafa5b",
   "metadata": {
    "ExecuteTime": {
     "end_time": "2024-04-30T16:10:47.152772Z",
     "start_time": "2024-04-30T16:10:47.150282Z"
    }
   },
   "outputs": [],
   "source": []
  },
  {
   "cell_type": "code",
   "execution_count": 18,
   "id": "d58264b3a8d26273",
   "metadata": {
    "ExecuteTime": {
     "end_time": "2024-04-30T16:10:48.635192Z",
     "start_time": "2024-04-30T16:10:47.154804Z"
    }
   },
   "outputs": [],
   "source": [
    "from basico import * \n",
    "from biosimulator_processes.utils import fetch_biomodel\n",
    "\n",
    "\n",
    "model = fetch_biomodel(biomodel_id)"
   ]
  },
  {
   "cell_type": "code",
   "execution_count": 19,
   "id": "83123042a81db1c7",
   "metadata": {
    "ExecuteTime": {
     "end_time": "2024-04-30T16:10:48.642130Z",
     "start_time": "2024-04-30T16:10:48.636301Z"
    }
   },
   "outputs": [
    {
     "data": {
      "text/plain": [
       "name\n",
       "plasminogen                                                 6.022141e+15\n",
       "plasmin                                                     0.000000e+00\n",
       "single intact chain urokinase-type plasminogen activator    1.204428e+15\n",
       "two-chain urokinase-type plasminogen activator              0.000000e+00\n",
       "x                                                           0.000000e+00\n",
       "x-plasmin                                                   0.000000e+00\n",
       "Name: particle_number, dtype: float64"
      ]
     },
     "execution_count": 19,
     "metadata": {},
     "output_type": "execute_result"
    }
   ],
   "source": [
    "get_species(model=model).particle_number"
   ]
  },
  {
   "cell_type": "code",
   "execution_count": 20,
   "id": "11a9d65e213ccc06",
   "metadata": {
    "ExecuteTime": {
     "end_time": "2024-04-30T16:10:48.646264Z",
     "start_time": "2024-04-30T16:10:48.643091Z"
    }
   },
   "outputs": [],
   "source": [
    "set_species('plasminogen', model=model, initial_concentration=5.032)"
   ]
  },
  {
   "cell_type": "code",
   "execution_count": 21,
   "id": "b2d960f0b4dbb2e7",
   "metadata": {
    "ExecuteTime": {
     "end_time": "2024-04-30T16:10:48.649026Z",
     "start_time": "2024-04-30T16:10:48.647112Z"
    }
   },
   "outputs": [],
   "source": [
    "set_species('plasminogen', model=model, particle_number=5.032)"
   ]
  },
  {
   "cell_type": "code",
   "execution_count": 22,
   "id": "f0dc07b7730ec661",
   "metadata": {
    "ExecuteTime": {
     "end_time": "2024-04-30T16:10:48.653421Z",
     "start_time": "2024-04-30T16:10:48.649857Z"
    }
   },
   "outputs": [
    {
     "data": {
      "text/plain": [
       "name\n",
       "plasminogen                                                 5.032000e+00\n",
       "plasmin                                                     0.000000e+00\n",
       "single intact chain urokinase-type plasminogen activator    1.204428e+15\n",
       "two-chain urokinase-type plasminogen activator              0.000000e+00\n",
       "x                                                           0.000000e+00\n",
       "x-plasmin                                                   0.000000e+00\n",
       "Name: particle_number, dtype: float64"
      ]
     },
     "execution_count": 22,
     "metadata": {},
     "output_type": "execute_result"
    }
   ],
   "source": [
    "get_species(model=model).particle_number"
   ]
  },
  {
   "cell_type": "code",
   "execution_count": 23,
   "id": "a145ba999a76fc81",
   "metadata": {
    "ExecuteTime": {
     "end_time": "2024-04-30T16:10:48.658021Z",
     "start_time": "2024-04-30T16:10:48.654056Z"
    }
   },
   "outputs": [
    {
     "data": {
      "text/plain": [
       "name\n",
       "plasminogen                                                 5.032\n",
       "plasmin                                                     0.000\n",
       "single intact chain urokinase-type plasminogen activator    0.002\n",
       "two-chain urokinase-type plasminogen activator              0.000\n",
       "x                                                           0.000\n",
       "x-plasmin                                                   0.000\n",
       "Name: initial_concentration, dtype: float64"
      ]
     },
     "execution_count": 23,
     "metadata": {},
     "output_type": "execute_result"
    }
   ],
   "source": [
    "get_species(model=model).initial_concentration"
   ]
  },
  {
   "cell_type": "code",
   "execution_count": 23,
   "id": "4b07263ce48d2094",
   "metadata": {
    "ExecuteTime": {
     "end_time": "2024-04-30T16:10:48.660043Z",
     "start_time": "2024-04-30T16:10:48.658725Z"
    }
   },
   "outputs": [],
   "source": []
  }
 ],
 "metadata": {
  "kernelspec": {
   "display_name": "Python 3",
   "language": "python",
   "name": "python3"
  },
  "language_info": {
   "codemirror_mode": {
    "name": "ipython",
    "version": 2
   },
   "file_extension": ".py",
   "mimetype": "text/x-python",
   "name": "python",
   "nbconvert_exporter": "python",
   "pygments_lexer": "ipython2",
   "version": "2.7.6"
  }
 },
 "nbformat": 4,
 "nbformat_minor": 5
}
