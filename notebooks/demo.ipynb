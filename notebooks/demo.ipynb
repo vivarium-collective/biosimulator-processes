{
 "cells": [
  {
   "cell_type": "markdown",
   "id": "808b6a4b-0894-4a8e-99d8-bf11b3164b6a",
   "metadata": {},
   "source": [
    "# Bigraph-Builder Demo"
   ]
  },
  {
   "cell_type": "code",
   "execution_count": 2,
   "id": "b385dca6-942d-472c-9963-13b8cb33843c",
   "metadata": {
    "ExecuteTime": {
     "end_time": "2024-01-21T21:29:21.891373Z",
     "start_time": "2024-01-21T21:29:13.531449Z"
    }
   },
   "outputs": [
    {
     "name": "stdout",
     "output_type": "stream",
     "text": [
      "CobraProcess registered successfully.\n"
     ]
    },
    {
     "name": "stderr",
     "output_type": "stream",
     "text": [
      "/Users/alex/miniconda3/envs/experiment/lib/python3.10/site-packages/pydantic/_internal/_generate_schema.py:382: UserWarning: <built-in function any> is not a Python type (it may be an instance of an object), Pydantic will allow any object with no validation since we cannot even enforce that the input is an instance of the given type. To get rid of this error wrap the type with `pydantic.SkipValidation`.\n",
      "  warn(\n"
     ]
    },
    {
     "name": "stdout",
     "output_type": "stream",
     "text": [
      "CopasiProcess registered successfully.\n",
      "SmoldynProcess not available. Error: \n",
      "PLEASE NOTE: Smoldyn is not correctly installed on your system which prevents you from using the SmoldynProcess. Please refer to the README for further information on installing Smoldyn.\n",
      "TelluriumProcess registered successfully.\n",
      "DeterministicTimeCourseParameterScan registered successfully.\n"
     ]
    }
   ],
   "source": [
    "from biosimulator_processes.biosimulator_builder import BiosimulatorBuilder "
   ]
  },
  {
   "cell_type": "markdown",
   "id": "a403d619-4dbe-49cc-8f24-29a83e31fe15",
   "metadata": {},
   "source": [
    "## Initialize the builder"
   ]
  },
  {
   "cell_type": "code",
   "execution_count": 3,
   "id": "b6260555-2bad-4834-adc5-e6d358063579",
   "metadata": {},
   "outputs": [],
   "source": [
    "b = BiosimulatorBuilder()"
   ]
  },
  {
   "cell_type": "code",
   "execution_count": 5,
   "id": "979e0bd85a31d4b0",
   "metadata": {
    "ExecuteTime": {
     "end_time": "2024-01-21T21:29:21.984800Z",
     "start_time": "2024-01-21T21:29:21.894599Z"
    },
    "collapsed": false,
    "jupyter": {
     "outputs_hidden": false
    }
   },
   "outputs": [
    {
     "name": "stdout",
     "output_type": "stream",
     "text": [
      "['copasi', 'ram-emitter', 'console-emitter', 'parameter_scan', 'cobra', 'tellurium']\n"
     ]
    }
   ],
   "source": [
    "print(b.list_processes())"
   ]
  },
  {
   "cell_type": "code",
   "execution_count": 10,
   "id": "2b37af44-5e19-439b-84cc-16c7050cba1b",
   "metadata": {},
   "outputs": [],
   "source": [
    "def add_single_process():\n",
    "    process_type = input(f'Please enter one of the following process types that you wish to add:\\n{b.list_processes()}\\n:')\n",
    "    builder_node_name = input('Please enter the name that you wish to assign to this process: ')\n",
    "    process_kwargs = input('Please enter the process configuration keyword arguments')\n",
    "    visualize = input('Do you wish to visualize this addition after (y/N): ')\n",
    "    b[builder_node_name].add_process(name=process_type, **dict(process_kwargs))\n",
    "    b.connect_all()\n",
    "    if 'N' in visualize:\n",
    "        b.visualize();\n",
    "    "
   ]
  },
  {
   "cell_type": "code",
   "execution_count": 11,
   "id": "7996265c-eebb-4c95-9d83-81bee359669a",
   "metadata": {},
   "outputs": [
    {
     "name": "stdin",
     "output_type": "stream",
     "text": [
      "Please enter one of the following process types that you wish to add:\n",
      "['copasi', 'ram-emitter', 'console-emitter', 'parameter_scan', 'cobra', 'tellurium']\n",
      ": copasi\n",
      "Please enter the name that you wish to assign to this process:  copasiA\n",
      "Please enter the process configuration keyword arguments {'model': {'model_filepath': 'fp'}}\n",
      "Do you wish to visualize this addition after (y/N):  y\n"
     ]
    },
    {
     "ename": "ValueError",
     "evalue": "dictionary update sequence element #0 has length 1; 2 is required",
     "output_type": "error",
     "traceback": [
      "\u001b[0;31m---------------------------------------------------------------------------\u001b[0m",
      "\u001b[0;31mValueError\u001b[0m                                Traceback (most recent call last)",
      "Cell \u001b[0;32mIn[11], line 1\u001b[0m\n\u001b[0;32m----> 1\u001b[0m \u001b[43madd_single_process\u001b[49m\u001b[43m(\u001b[49m\u001b[43m)\u001b[49m\n",
      "Cell \u001b[0;32mIn[10], line 6\u001b[0m, in \u001b[0;36madd_single_process\u001b[0;34m()\u001b[0m\n\u001b[1;32m      4\u001b[0m process_kwargs \u001b[38;5;241m=\u001b[39m \u001b[38;5;28minput\u001b[39m(\u001b[38;5;124m'\u001b[39m\u001b[38;5;124mPlease enter the process configuration keyword arguments\u001b[39m\u001b[38;5;124m'\u001b[39m)\n\u001b[1;32m      5\u001b[0m visualize \u001b[38;5;241m=\u001b[39m \u001b[38;5;28minput\u001b[39m(\u001b[38;5;124m'\u001b[39m\u001b[38;5;124mDo you wish to visualize this addition after (y/N): \u001b[39m\u001b[38;5;124m'\u001b[39m)\n\u001b[0;32m----> 6\u001b[0m b[builder_node_name]\u001b[38;5;241m.\u001b[39madd_process(name\u001b[38;5;241m=\u001b[39mprocess_type, \u001b[38;5;241m*\u001b[39m\u001b[38;5;241m*\u001b[39m\u001b[38;5;28;43mdict\u001b[39;49m\u001b[43m(\u001b[49m\u001b[43mprocess_kwargs\u001b[49m\u001b[43m)\u001b[49m)\n\u001b[1;32m      7\u001b[0m b\u001b[38;5;241m.\u001b[39mconnect_all()\n\u001b[1;32m      8\u001b[0m \u001b[38;5;28;01mif\u001b[39;00m \u001b[38;5;124m'\u001b[39m\u001b[38;5;124mN\u001b[39m\u001b[38;5;124m'\u001b[39m \u001b[38;5;129;01min\u001b[39;00m visualize:\n",
      "\u001b[0;31mValueError\u001b[0m: dictionary update sequence element #0 has length 1; 2 is required"
     ]
    }
   ],
   "source": [
    "add_single_process()"
   ]
  },
  {
   "cell_type": "code",
   "execution_count": 19,
   "id": "6cd4b3c5-1e24-4a65-b341-87cbdc966161",
   "metadata": {},
   "outputs": [
    {
     "name": "stdin",
     "output_type": "stream",
     "text": [
      "Please enter the process configuration keyword arguments a=23\n"
     ]
    },
    {
     "data": {
      "text/plain": [
       "{'a': '23'}"
      ]
     },
     "execution_count": 19,
     "metadata": {},
     "output_type": "execute_result"
    }
   ],
   "source": [
    "process_kwargs = input('Please enter the process configuration keyword arguments')\n",
    "process_args = process_kwargs.split('=')\n",
    "input_kwargs = {}\n",
    "input_kwargs[process_args[0]] = process_args[1]\n",
    "\n",
    "input_kwargs\n"
   ]
  },
  {
   "cell_type": "code",
   "execution_count": 9,
   "id": "503863ee-0a58-44b3-accc-20e0167b947b",
   "metadata": {},
   "outputs": [],
   "source": [
    "b['event_process'].add_process(\n",
    "    name='GillespieEvent',\n",
    "    kdeg=1.0,  # kwargs fill parameters in the config\n",
    ")"
   ]
  },
  {
   "cell_type": "code",
   "execution_count": 10,
   "id": "b094f1e5-5202-48d0-8bdd-57bbdded7fd1",
   "metadata": {},
   "outputs": [
    {
     "data": {
      "image/svg+xml": [
       "<?xml version=\"1.0\" encoding=\"UTF-8\" standalone=\"no\"?>\n",
       "<!DOCTYPE svg PUBLIC \"-//W3C//DTD SVG 1.1//EN\"\n",
       " \"http://www.w3.org/Graphics/SVG/1.1/DTD/svg11.dtd\">\n",
       "<!-- Generated by graphviz version 9.0.0 (0)\n",
       " -->\n",
       "<!-- Title: bigraph Pages: 1 -->\n",
       "<svg width=\"123pt\" height=\"200pt\"\n",
       " viewBox=\"0.00 0.00 126.45 205.99\" xmlns=\"http://www.w3.org/2000/svg\" xmlns:xlink=\"http://www.w3.org/1999/xlink\">\n",
       "<g id=\"graph0\" class=\"graph\" transform=\"scale(0.972222 0.972222) rotate(0) translate(4 201.99)\">\n",
       "<title>bigraph</title>\n",
       "<polygon fill=\"white\" stroke=\"none\" points=\"-4,4 -4,-201.99 122.45,-201.99 122.45,4 -4,4\"/>\n",
       "<!-- (&#39;event_process&#39;, &#39;interval&#39;) -->\n",
       "<g id=\"node1\" class=\"node\">\n",
       "<title>(&#39;event_process&#39;, &#39;interval&#39;)</title>\n",
       "<ellipse fill=\"none\" stroke=\"black\" stroke-width=\"2\" cx=\"52.87\" cy=\"-25.92\" rx=\"25.92\" ry=\"25.92\"/>\n",
       "<text text-anchor=\"start\" x=\"34.54\" y=\"-22.32\" font-family=\"Times,serif\" font-size=\"12.00\">interval</text>\n",
       "</g>\n",
       "<!-- (&#39;event_process&#39;,) -->\n",
       "<g id=\"node2\" class=\"node\">\n",
       "<title>(&#39;event_process&#39;,)</title>\n",
       "<polygon fill=\"none\" stroke=\"black\" stroke-width=\"2\" points=\"90.46,-124.84 15.28,-124.84 15.28,-88.84 90.46,-88.84 90.46,-124.84\"/>\n",
       "<text text-anchor=\"start\" x=\"18.88\" y=\"-103.24\" font-family=\"Times,serif\" font-size=\"12.00\">event_process</text>\n",
       "</g>\n",
       "<!-- (&#39;event_process&#39;,)&#45;&gt;(&#39;event_process&#39;, &#39;interval&#39;) -->\n",
       "<g id=\"edge1\" class=\"edge\">\n",
       "<title>(&#39;event_process&#39;,)&#45;&gt;(&#39;event_process&#39;, &#39;interval&#39;)</title>\n",
       "<path fill=\"none\" stroke=\"black\" stroke-width=\"2\" d=\"M52.87,-87.93C52.87,-77.47 52.87,-64.1 52.87,-52.54\"/>\n",
       "</g>\n",
       "<!-- (&#39;event_process&#39;, &#39;m&#39;, &#39;R&#39;, &#39;N&#39;, &#39;A&#39;) -->\n",
       "<!-- (&#39;event_process&#39;, &#39;m&#39;, &#39;R&#39;, &#39;N&#39;, &#39;A&#39;)&#45;&gt;(&#39;event_process&#39;,) -->\n",
       "<g id=\"edge2\" class=\"edge\">\n",
       "<title>(&#39;event_process&#39;, &#39;m&#39;, &#39;R&#39;, &#39;N&#39;, &#39;A&#39;)&#45;&gt;(&#39;event_process&#39;,)</title>\n",
       "<path fill=\"none\" stroke=\"black\" stroke-dasharray=\"5,2\" d=\"M16.05,-175.21C6.81,-167.14 -4.1,-154.4 1.98,-142.84 3.8,-139.36 6.15,-136.17 8.83,-133.24\"/>\n",
       "<polygon fill=\"black\" stroke=\"black\" points=\"10.95,-136.04 15.98,-126.72 6.24,-130.87 10.95,-136.04\"/>\n",
       "<text text-anchor=\"start\" x=\"2.87\" y=\"-144.84\" font-family=\"Times,serif\" font-size=\"10.00\">mRNA</text>\n",
       "</g>\n",
       "<!-- (&#39;event_process&#39;, &#39;m&#39;, &#39;R&#39;, &#39;N&#39;, &#39;A&#39;)&#45;&gt;(&#39;event_process&#39;,) -->\n",
       "<g id=\"edge4\" class=\"edge\">\n",
       "<title>(&#39;event_process&#39;, &#39;m&#39;, &#39;R&#39;, &#39;N&#39;, &#39;A&#39;)&#45;&gt;(&#39;event_process&#39;,)</title>\n",
       "<path fill=\"none\" stroke=\"black\" stroke-dasharray=\"5,2\" d=\"M34.92,-160C38.71,-148.99 43.16,-136.06 46.68,-125.83\"/>\n",
       "<polygon fill=\"black\" stroke=\"black\" points=\"31.72,-158.57 31.77,-169.16 38.33,-160.85 31.72,-158.57\"/>\n",
       "<text text-anchor=\"start\" x=\"40.87\" y=\"-144.84\" font-family=\"Times,serif\" font-size=\"10.00\">mRNA</text>\n",
       "</g>\n",
       "<!-- (&#39;event_process&#39;, &#39;D&#39;, &#39;N&#39;, &#39;A&#39;) -->\n",
       "<!-- (&#39;event_process&#39;, &#39;D&#39;, &#39;N&#39;, &#39;A&#39;)&#45;&gt;(&#39;event_process&#39;,) -->\n",
       "<g id=\"edge3\" class=\"edge\">\n",
       "<title>(&#39;event_process&#39;, &#39;D&#39;, &#39;N&#39;, &#39;A&#39;)&#45;&gt;(&#39;event_process&#39;,)</title>\n",
       "<path fill=\"none\" stroke=\"black\" stroke-dasharray=\"5,2\" d=\"M97.2,-172.26C90.49,-162.51 80.47,-147.95 71.65,-135.13\"/>\n",
       "<polygon fill=\"black\" stroke=\"black\" points=\"74.62,-133.28 66.07,-127.03 68.86,-137.25 74.62,-133.28\"/>\n",
       "<text text-anchor=\"start\" x=\"82.87\" y=\"-144.84\" font-family=\"Times,serif\" font-size=\"10.00\">DNA</text>\n",
       "</g>\n",
       "</g>\n",
       "</svg>\n"
      ],
      "text/plain": [
       "<graphviz.graphs.Digraph at 0x106c12c40>"
      ]
     },
     "execution_count": 10,
     "metadata": {},
     "output_type": "execute_result"
    }
   ],
   "source": [
    "# visualize shows the process with its disconnected ports\n",
    "b.visualize()"
   ]
  },
  {
   "cell_type": "markdown",
   "id": "0238392e-5d1f-403d-98c9-785576a0d91b",
   "metadata": {},
   "source": [
    "### print ports"
   ]
  },
  {
   "cell_type": "code",
   "execution_count": 11,
   "id": "5ea31425-a8bb-45c3-a31d-77714cc8c137",
   "metadata": {},
   "outputs": [
    {
     "name": "stdout",
     "output_type": "stream",
     "text": [
      "{ '_inputs': { 'DNA': {'A gene': 'float', 'B gene': 'float'},\n",
      "               'mRNA': 'map[float]'},\n",
      "  '_outputs': {'mRNA': 'map[float]'}}\n"
     ]
    }
   ],
   "source": [
    "b['event_process'].interface(True)"
   ]
  },
  {
   "cell_type": "markdown",
   "id": "8068e0af-ebdd-4f01-8c54-4fb3b07fc21e",
   "metadata": {},
   "source": [
    "### connect ports using connect_all\n",
    "`Builder.connect_all` connects ports to stores of the same name."
   ]
  },
  {
   "cell_type": "code",
   "execution_count": 12,
   "id": "c9f462bb-5316-4724-aa8e-b3b71eb379b2",
   "metadata": {},
   "outputs": [
    {
     "data": {
      "text/plain": [
       "Builder({ 'event_process': { '_type': 'process',\n",
       "                     'address': 'local:GillespieEvent',\n",
       "                     'config': {'kdeg': 1.0, 'ktsc': 5.0},\n",
       "                     'inputs': {'DNA': ['DNA_store'], 'mRNA': ['mRNA_store']},\n",
       "                     'instance': <process_bigraph.experiments.minimal_gillespie.GillespieEvent object at 0x106c12dc0>,\n",
       "                     'interval': 1.0,\n",
       "                     'outputs': {'mRNA': ['mRNA_store']}}})"
      ]
     },
     "execution_count": 12,
     "metadata": {},
     "output_type": "execute_result"
    }
   ],
   "source": [
    "b.connect_all(append_to_store_name='_store')\n",
    "b"
   ]
  },
  {
   "cell_type": "code",
   "execution_count": 13,
   "id": "79809baf-1d87-475a-b85f-3729f4716cb4",
   "metadata": {},
   "outputs": [
    {
     "data": {
      "image/svg+xml": [
       "<?xml version=\"1.0\" encoding=\"UTF-8\" standalone=\"no\"?>\n",
       "<!DOCTYPE svg PUBLIC \"-//W3C//DTD SVG 1.1//EN\"\n",
       " \"http://www.w3.org/Graphics/SVG/1.1/DTD/svg11.dtd\">\n",
       "<!-- Generated by graphviz version 9.0.0 (0)\n",
       " -->\n",
       "<!-- Title: bigraph Pages: 1 -->\n",
       "<svg width=\"252pt\" height=\"268pt\"\n",
       " viewBox=\"0.00 0.00 259.23 275.31\" xmlns=\"http://www.w3.org/2000/svg\" xmlns:xlink=\"http://www.w3.org/1999/xlink\">\n",
       "<g id=\"graph0\" class=\"graph\" transform=\"scale(0.972222 0.972222) rotate(0) translate(4 271.31)\">\n",
       "<title>bigraph</title>\n",
       "<polygon fill=\"white\" stroke=\"none\" points=\"-4,4 -4,-271.31 255.23,-271.31 255.23,4 -4,4\"/>\n",
       "<!-- (&#39;event_process&#39;, &#39;interval&#39;) -->\n",
       "<g id=\"node1\" class=\"node\">\n",
       "<title>(&#39;event_process&#39;, &#39;interval&#39;)</title>\n",
       "<ellipse fill=\"none\" stroke=\"black\" stroke-width=\"2\" cx=\"72.08\" cy=\"-25.92\" rx=\"25.92\" ry=\"25.92\"/>\n",
       "<text text-anchor=\"start\" x=\"53.76\" y=\"-22.32\" font-family=\"Times,serif\" font-size=\"12.00\">interval</text>\n",
       "</g>\n",
       "<!-- (&#39;mRNA_store&#39;,) -->\n",
       "<g id=\"node2\" class=\"node\">\n",
       "<title>(&#39;mRNA_store&#39;,)</title>\n",
       "<ellipse fill=\"none\" stroke=\"black\" stroke-width=\"2\" cx=\"42.08\" cy=\"-225.23\" rx=\"42.08\" ry=\"42.08\"/>\n",
       "<text text-anchor=\"start\" x=\"10.08\" y=\"-221.63\" font-family=\"Times,serif\" font-size=\"12.00\">mRNA_store</text>\n",
       "</g>\n",
       "<!-- (&#39;event_process&#39;,) -->\n",
       "<g id=\"node6\" class=\"node\">\n",
       "<title>(&#39;event_process&#39;,)</title>\n",
       "<polygon fill=\"none\" stroke=\"black\" stroke-width=\"2\" points=\"109.67,-130.99 34.5,-130.99 34.5,-94.99 109.67,-94.99 109.67,-130.99\"/>\n",
       "<text text-anchor=\"start\" x=\"38.1\" y=\"-109.39\" font-family=\"Times,serif\" font-size=\"12.00\">event_process</text>\n",
       "</g>\n",
       "<!-- (&#39;mRNA_store&#39;,)&#45;&gt;(&#39;event_process&#39;,) -->\n",
       "<g id=\"edge4\" class=\"edge\">\n",
       "<title>(&#39;mRNA_store&#39;,)&#45;&gt;(&#39;event_process&#39;,)</title>\n",
       "<path fill=\"none\" stroke=\"black\" stroke-dasharray=\"5,2\" d=\"M21.11,-187.95C17.5,-177.14 16.28,-165.43 21.19,-155.14 24.01,-149.23 28.15,-143.9 32.86,-139.18\"/>\n",
       "<polygon fill=\"black\" stroke=\"black\" points=\"34.88,-142.06 40.06,-132.82 30.25,-136.81 34.88,-142.06\"/>\n",
       "<text text-anchor=\"start\" x=\"22.08\" y=\"-157.14\" font-family=\"Times,serif\" font-size=\"10.00\">mRNA</text>\n",
       "</g>\n",
       "<!-- (&#39;mRNA_store&#39;,)&#45;&gt;(&#39;event_process&#39;,) -->\n",
       "<g id=\"edge6\" class=\"edge\">\n",
       "<title>(&#39;mRNA_store&#39;,)&#45;&gt;(&#39;event_process&#39;,)</title>\n",
       "<path fill=\"none\" stroke=\"black\" stroke-dasharray=\"5,2\" d=\"M56.09,-172.74C60.08,-158.1 64.16,-143.11 67.2,-131.93\"/>\n",
       "<polygon fill=\"black\" stroke=\"black\" points=\"52.73,-171.78 53.48,-182.34 59.48,-173.61 52.73,-171.78\"/>\n",
       "<text text-anchor=\"start\" x=\"61.08\" y=\"-157.14\" font-family=\"Times,serif\" font-size=\"10.00\">mRNA</text>\n",
       "</g>\n",
       "<!-- (&#39;DNA_store&#39;,) -->\n",
       "<g id=\"node3\" class=\"node\">\n",
       "<title>(&#39;DNA_store&#39;,)</title>\n",
       "<ellipse fill=\"none\" stroke=\"black\" stroke-width=\"2\" cx=\"161.08\" cy=\"-225.23\" rx=\"36.96\" ry=\"36.96\"/>\n",
       "<text text-anchor=\"start\" x=\"133.42\" y=\"-221.63\" font-family=\"Times,serif\" font-size=\"12.00\">DNA_store</text>\n",
       "</g>\n",
       "<!-- (&#39;DNA_store&#39;, &#39;A gene&#39;) -->\n",
       "<g id=\"node4\" class=\"node\">\n",
       "<title>(&#39;DNA_store&#39;, &#39;A gene&#39;)</title>\n",
       "<ellipse fill=\"none\" stroke=\"black\" stroke-width=\"2\" cx=\"161.08\" cy=\"-112.99\" rx=\"24.15\" ry=\"24.15\"/>\n",
       "<text text-anchor=\"start\" x=\"144.25\" y=\"-109.39\" font-family=\"Times,serif\" font-size=\"12.00\">A gene</text>\n",
       "</g>\n",
       "<!-- (&#39;DNA_store&#39;,)&#45;&gt;(&#39;DNA_store&#39;, &#39;A gene&#39;) -->\n",
       "<g id=\"edge2\" class=\"edge\">\n",
       "<title>(&#39;DNA_store&#39;,)&#45;&gt;(&#39;DNA_store&#39;, &#39;A gene&#39;)</title>\n",
       "<path fill=\"none\" stroke=\"black\" stroke-width=\"2\" d=\"M161.08,-187.52C161.08,-171.24 161.08,-152.53 161.08,-138.06\"/>\n",
       "</g>\n",
       "<!-- (&#39;DNA_store&#39;, &#39;B gene&#39;) -->\n",
       "<g id=\"node5\" class=\"node\">\n",
       "<title>(&#39;DNA_store&#39;, &#39;B gene&#39;)</title>\n",
       "<ellipse fill=\"none\" stroke=\"black\" stroke-width=\"2\" cx=\"227.08\" cy=\"-112.99\" rx=\"24.15\" ry=\"24.15\"/>\n",
       "<text text-anchor=\"start\" x=\"210.25\" y=\"-109.39\" font-family=\"Times,serif\" font-size=\"12.00\">B gene</text>\n",
       "</g>\n",
       "<!-- (&#39;DNA_store&#39;,)&#45;&gt;(&#39;DNA_store&#39;, &#39;B gene&#39;) -->\n",
       "<g id=\"edge3\" class=\"edge\">\n",
       "<title>(&#39;DNA_store&#39;,)&#45;&gt;(&#39;DNA_store&#39;, &#39;B gene&#39;)</title>\n",
       "<path fill=\"none\" stroke=\"black\" stroke-width=\"2\" d=\"M180,-192.64C191.12,-174.06 204.87,-151.09 214.63,-134.78\"/>\n",
       "</g>\n",
       "<!-- (&#39;DNA_store&#39;,)&#45;&gt;(&#39;event_process&#39;,) -->\n",
       "<g id=\"edge5\" class=\"edge\">\n",
       "<title>(&#39;DNA_store&#39;,)&#45;&gt;(&#39;event_process&#39;,)</title>\n",
       "<path fill=\"none\" stroke=\"black\" stroke-dasharray=\"5,2\" d=\"M137.93,-195.55C124.2,-178.54 106.91,-157.13 93.5,-140.51\"/>\n",
       "<polygon fill=\"black\" stroke=\"black\" points=\"96.44,-138.59 87.44,-133.01 91,-142.99 96.44,-138.59\"/>\n",
       "<text text-anchor=\"start\" x=\"112.08\" y=\"-157.14\" font-family=\"Times,serif\" font-size=\"10.00\">DNA</text>\n",
       "</g>\n",
       "<!-- (&#39;event_process&#39;,)&#45;&gt;(&#39;event_process&#39;, &#39;interval&#39;) -->\n",
       "<g id=\"edge1\" class=\"edge\">\n",
       "<title>(&#39;event_process&#39;,)&#45;&gt;(&#39;event_process&#39;, &#39;interval&#39;)</title>\n",
       "<path fill=\"none\" stroke=\"black\" stroke-width=\"2\" d=\"M72.08,-94.36C72.08,-82.29 72.08,-66.09 72.08,-52.6\"/>\n",
       "</g>\n",
       "</g>\n",
       "</svg>\n"
      ],
      "text/plain": [
       "<graphviz.graphs.Digraph at 0x106c12f10>"
      ]
     },
     "execution_count": 13,
     "metadata": {},
     "output_type": "execute_result"
    }
   ],
   "source": [
    "b.visualize()"
   ]
  },
  {
   "cell_type": "markdown",
   "id": "c7687da5-6992-447b-a51b-14373984597f",
   "metadata": {},
   "source": [
    "### add interval process to the config"
   ]
  },
  {
   "cell_type": "code",
   "execution_count": 14,
   "id": "f02c15797bdb73b8",
   "metadata": {
    "ExecuteTime": {
     "start_time": "2024-01-21T21:29:21.997588Z"
    },
    "collapsed": false,
    "jupyter": {
     "outputs_hidden": false
    }
   },
   "outputs": [],
   "source": [
    "b['interval_process'].add_process(\n",
    "    name='GillespieInterval',\n",
    ")"
   ]
  },
  {
   "cell_type": "code",
   "execution_count": 15,
   "id": "aeb344bcd6a120ae",
   "metadata": {
    "ExecuteTime": {
     "start_time": "2024-01-21T21:29:21.998661Z"
    },
    "collapsed": false,
    "jupyter": {
     "outputs_hidden": false
    }
   },
   "outputs": [
    {
     "data": {
      "image/svg+xml": [
       "<?xml version=\"1.0\" encoding=\"UTF-8\" standalone=\"no\"?>\n",
       "<!DOCTYPE svg PUBLIC \"-//W3C//DTD SVG 1.1//EN\"\n",
       " \"http://www.w3.org/Graphics/SVG/1.1/DTD/svg11.dtd\">\n",
       "<!-- Generated by graphviz version 9.0.0 (0)\n",
       " -->\n",
       "<!-- Title: bigraph Pages: 1 -->\n",
       "<svg width=\"375pt\" height=\"268pt\"\n",
       " viewBox=\"0.00 0.00 385.66 275.31\" xmlns=\"http://www.w3.org/2000/svg\" xmlns:xlink=\"http://www.w3.org/1999/xlink\">\n",
       "<g id=\"graph0\" class=\"graph\" transform=\"scale(0.972222 0.972222) rotate(0) translate(4 271.31)\">\n",
       "<title>bigraph</title>\n",
       "<polygon fill=\"white\" stroke=\"none\" points=\"-4,4 -4,-271.31 381.66,-271.31 381.66,4 -4,4\"/>\n",
       "<!-- (&#39;event_process&#39;, &#39;interval&#39;) -->\n",
       "<g id=\"node1\" class=\"node\">\n",
       "<title>(&#39;event_process&#39;, &#39;interval&#39;)</title>\n",
       "<ellipse fill=\"none\" stroke=\"black\" stroke-width=\"2\" cx=\"72.08\" cy=\"-25.92\" rx=\"25.92\" ry=\"25.92\"/>\n",
       "<text text-anchor=\"start\" x=\"53.76\" y=\"-22.32\" font-family=\"Times,serif\" font-size=\"12.00\">interval</text>\n",
       "</g>\n",
       "<!-- (&#39;mRNA_store&#39;,) -->\n",
       "<g id=\"node2\" class=\"node\">\n",
       "<title>(&#39;mRNA_store&#39;,)</title>\n",
       "<ellipse fill=\"none\" stroke=\"black\" stroke-width=\"2\" cx=\"42.08\" cy=\"-225.23\" rx=\"42.08\" ry=\"42.08\"/>\n",
       "<text text-anchor=\"start\" x=\"10.08\" y=\"-221.63\" font-family=\"Times,serif\" font-size=\"12.00\">mRNA_store</text>\n",
       "</g>\n",
       "<!-- (&#39;event_process&#39;,) -->\n",
       "<g id=\"node6\" class=\"node\">\n",
       "<title>(&#39;event_process&#39;,)</title>\n",
       "<polygon fill=\"none\" stroke=\"black\" stroke-width=\"2\" points=\"109.67,-130.99 34.5,-130.99 34.5,-94.99 109.67,-94.99 109.67,-130.99\"/>\n",
       "<text text-anchor=\"start\" x=\"38.1\" y=\"-109.39\" font-family=\"Times,serif\" font-size=\"12.00\">event_process</text>\n",
       "</g>\n",
       "<!-- (&#39;mRNA_store&#39;,)&#45;&gt;(&#39;event_process&#39;,) -->\n",
       "<g id=\"edge4\" class=\"edge\">\n",
       "<title>(&#39;mRNA_store&#39;,)&#45;&gt;(&#39;event_process&#39;,)</title>\n",
       "<path fill=\"none\" stroke=\"black\" stroke-dasharray=\"5,2\" d=\"M21.11,-187.95C17.5,-177.14 16.28,-165.43 21.19,-155.14 24.01,-149.23 28.15,-143.9 32.86,-139.18\"/>\n",
       "<polygon fill=\"black\" stroke=\"black\" points=\"34.88,-142.06 40.06,-132.82 30.25,-136.81 34.88,-142.06\"/>\n",
       "<text text-anchor=\"start\" x=\"22.08\" y=\"-157.14\" font-family=\"Times,serif\" font-size=\"10.00\">mRNA</text>\n",
       "</g>\n",
       "<!-- (&#39;mRNA_store&#39;,)&#45;&gt;(&#39;event_process&#39;,) -->\n",
       "<g id=\"edge6\" class=\"edge\">\n",
       "<title>(&#39;mRNA_store&#39;,)&#45;&gt;(&#39;event_process&#39;,)</title>\n",
       "<path fill=\"none\" stroke=\"black\" stroke-dasharray=\"5,2\" d=\"M56.09,-172.74C60.08,-158.1 64.16,-143.11 67.2,-131.93\"/>\n",
       "<polygon fill=\"black\" stroke=\"black\" points=\"52.73,-171.78 53.48,-182.34 59.48,-173.61 52.73,-171.78\"/>\n",
       "<text text-anchor=\"start\" x=\"61.08\" y=\"-157.14\" font-family=\"Times,serif\" font-size=\"10.00\">mRNA</text>\n",
       "</g>\n",
       "<!-- (&#39;DNA_store&#39;,) -->\n",
       "<g id=\"node3\" class=\"node\">\n",
       "<title>(&#39;DNA_store&#39;,)</title>\n",
       "<ellipse fill=\"none\" stroke=\"black\" stroke-width=\"2\" cx=\"161.08\" cy=\"-225.23\" rx=\"36.96\" ry=\"36.96\"/>\n",
       "<text text-anchor=\"start\" x=\"133.42\" y=\"-221.63\" font-family=\"Times,serif\" font-size=\"12.00\">DNA_store</text>\n",
       "</g>\n",
       "<!-- (&#39;DNA_store&#39;, &#39;A gene&#39;) -->\n",
       "<g id=\"node4\" class=\"node\">\n",
       "<title>(&#39;DNA_store&#39;, &#39;A gene&#39;)</title>\n",
       "<ellipse fill=\"none\" stroke=\"black\" stroke-width=\"2\" cx=\"161.08\" cy=\"-112.99\" rx=\"24.15\" ry=\"24.15\"/>\n",
       "<text text-anchor=\"start\" x=\"144.25\" y=\"-109.39\" font-family=\"Times,serif\" font-size=\"12.00\">A gene</text>\n",
       "</g>\n",
       "<!-- (&#39;DNA_store&#39;,)&#45;&gt;(&#39;DNA_store&#39;, &#39;A gene&#39;) -->\n",
       "<g id=\"edge2\" class=\"edge\">\n",
       "<title>(&#39;DNA_store&#39;,)&#45;&gt;(&#39;DNA_store&#39;, &#39;A gene&#39;)</title>\n",
       "<path fill=\"none\" stroke=\"black\" stroke-width=\"2\" d=\"M161.08,-187.52C161.08,-171.24 161.08,-152.53 161.08,-138.06\"/>\n",
       "</g>\n",
       "<!-- (&#39;DNA_store&#39;, &#39;B gene&#39;) -->\n",
       "<g id=\"node5\" class=\"node\">\n",
       "<title>(&#39;DNA_store&#39;, &#39;B gene&#39;)</title>\n",
       "<ellipse fill=\"none\" stroke=\"black\" stroke-width=\"2\" cx=\"227.08\" cy=\"-112.99\" rx=\"24.15\" ry=\"24.15\"/>\n",
       "<text text-anchor=\"start\" x=\"210.25\" y=\"-109.39\" font-family=\"Times,serif\" font-size=\"12.00\">B gene</text>\n",
       "</g>\n",
       "<!-- (&#39;DNA_store&#39;,)&#45;&gt;(&#39;DNA_store&#39;, &#39;B gene&#39;) -->\n",
       "<g id=\"edge3\" class=\"edge\">\n",
       "<title>(&#39;DNA_store&#39;,)&#45;&gt;(&#39;DNA_store&#39;, &#39;B gene&#39;)</title>\n",
       "<path fill=\"none\" stroke=\"black\" stroke-width=\"2\" d=\"M180,-192.64C191.12,-174.06 204.87,-151.09 214.63,-134.78\"/>\n",
       "</g>\n",
       "<!-- (&#39;DNA_store&#39;,)&#45;&gt;(&#39;event_process&#39;,) -->\n",
       "<g id=\"edge5\" class=\"edge\">\n",
       "<title>(&#39;DNA_store&#39;,)&#45;&gt;(&#39;event_process&#39;,)</title>\n",
       "<path fill=\"none\" stroke=\"black\" stroke-dasharray=\"5,2\" d=\"M137.93,-195.55C124.2,-178.54 106.91,-157.13 93.5,-140.51\"/>\n",
       "<polygon fill=\"black\" stroke=\"black\" points=\"96.44,-138.59 87.44,-133.01 91,-142.99 96.44,-138.59\"/>\n",
       "<text text-anchor=\"start\" x=\"112.08\" y=\"-157.14\" font-family=\"Times,serif\" font-size=\"10.00\">DNA</text>\n",
       "</g>\n",
       "<!-- (&#39;event_process&#39;,)&#45;&gt;(&#39;event_process&#39;, &#39;interval&#39;) -->\n",
       "<g id=\"edge1\" class=\"edge\">\n",
       "<title>(&#39;event_process&#39;,)&#45;&gt;(&#39;event_process&#39;, &#39;interval&#39;)</title>\n",
       "<path fill=\"none\" stroke=\"black\" stroke-width=\"2\" d=\"M72.08,-94.36C72.08,-82.29 72.08,-66.09 72.08,-52.6\"/>\n",
       "</g>\n",
       "<!-- (&#39;interval_process&#39;,) -->\n",
       "<g id=\"node7\" class=\"node\">\n",
       "<title>(&#39;interval_process&#39;,)</title>\n",
       "<polygon fill=\"none\" stroke=\"black\" stroke-width=\"2\" points=\"355,-130.99 269.16,-130.99 269.16,-94.99 355,-94.99 355,-130.99\"/>\n",
       "<text text-anchor=\"start\" x=\"272.76\" y=\"-109.39\" font-family=\"Times,serif\" font-size=\"12.00\">interval_process</text>\n",
       "</g>\n",
       "<!-- (&#39;interval_process&#39;, &#39;D&#39;, &#39;N&#39;, &#39;A&#39;) -->\n",
       "<!-- (&#39;interval_process&#39;, &#39;D&#39;, &#39;N&#39;, &#39;A&#39;)&#45;&gt;(&#39;interval_process&#39;,) -->\n",
       "<g id=\"edge7\" class=\"edge\">\n",
       "<title>(&#39;interval_process&#39;, &#39;D&#39;, &#39;N&#39;, &#39;A&#39;)&#45;&gt;(&#39;interval_process&#39;,)</title>\n",
       "<path fill=\"none\" stroke=\"black\" stroke-dasharray=\"5,2\" d=\"M272.01,-200.26C275.24,-186.69 280.04,-169.6 286.42,-155.14 289.95,-147.13 294.85,-138.84 299.42,-131.81\"/>\n",
       "<polygon fill=\"black\" stroke=\"black\" points=\"268.68,-199.11 269.92,-209.64 275.51,-200.64 268.68,-199.11\"/>\n",
       "<text text-anchor=\"start\" x=\"287.08\" y=\"-157.14\" font-family=\"Times,serif\" font-size=\"10.00\">DNA</text>\n",
       "</g>\n",
       "<!-- (&#39;interval_process&#39;, &#39;m&#39;, &#39;R&#39;, &#39;N&#39;, &#39;A&#39;) -->\n",
       "<!-- (&#39;interval_process&#39;, &#39;m&#39;, &#39;R&#39;, &#39;N&#39;, &#39;A&#39;)&#45;&gt;(&#39;interval_process&#39;,) -->\n",
       "<g id=\"edge8\" class=\"edge\">\n",
       "<title>(&#39;interval_process&#39;, &#39;m&#39;, &#39;R&#39;, &#39;N&#39;, &#39;A&#39;)&#45;&gt;(&#39;interval_process&#39;,)</title>\n",
       "<path fill=\"none\" stroke=\"black\" stroke-dasharray=\"5,2\" d=\"M312.08,-199.38C312.08,-178.76 312.08,-149.94 312.08,-131.63\"/>\n",
       "<polygon fill=\"black\" stroke=\"black\" points=\"308.58,-199.2 312.08,-209.2 315.58,-199.2 308.58,-199.2\"/>\n",
       "<text text-anchor=\"start\" x=\"312.08\" y=\"-157.14\" font-family=\"Times,serif\" font-size=\"10.00\">mRNA</text>\n",
       "</g>\n",
       "<!-- (&#39;interval_process&#39;, &#39;i&#39;, &#39;n&#39;, &#39;t&#39;, &#39;e&#39;, &#39;r&#39;, &#39;v&#39;, &#39;a&#39;, &#39;l&#39;) -->\n",
       "<!-- (&#39;interval_process&#39;, &#39;i&#39;, &#39;n&#39;, &#39;t&#39;, &#39;e&#39;, &#39;r&#39;, &#39;v&#39;, &#39;a&#39;, &#39;l&#39;)&#45;&gt;(&#39;interval_process&#39;,) -->\n",
       "<g id=\"edge9\" class=\"edge\">\n",
       "<title>(&#39;interval_process&#39;, &#39;i&#39;, &#39;n&#39;, &#39;t&#39;, &#39;e&#39;, &#39;r&#39;, &#39;v&#39;, &#39;a&#39;, &#39;l&#39;)&#45;&gt;(&#39;interval_process&#39;,)</title>\n",
       "<path fill=\"none\" stroke=\"black\" stroke-dasharray=\"5,2\" d=\"M358.45,-200.09C354.77,-186.47 349.3,-169.39 342.08,-155.14 337.93,-146.94 332.2,-138.61 326.86,-131.61\"/>\n",
       "<polygon fill=\"black\" stroke=\"black\" points=\"354.99,-200.71 360.84,-209.54 361.78,-198.99 354.99,-200.71\"/>\n",
       "<text text-anchor=\"start\" x=\"346.08\" y=\"-157.14\" font-family=\"Times,serif\" font-size=\"10.00\">interval</text>\n",
       "</g>\n",
       "</g>\n",
       "</svg>\n"
      ],
      "text/plain": [
       "<graphviz.graphs.Digraph at 0x106c111c0>"
      ]
     },
     "execution_count": 15,
     "metadata": {},
     "output_type": "execute_result"
    }
   ],
   "source": [
    "b.visualize()"
   ]
  },
  {
   "cell_type": "markdown",
   "id": "be3f6695-80ed-4819-a121-de29c5cce23e",
   "metadata": {},
   "source": [
    "### connect port to specific target"
   ]
  },
  {
   "cell_type": "code",
   "execution_count": 16,
   "id": "a5a1f48a-41aa-4768-b931-ad268495d836",
   "metadata": {},
   "outputs": [],
   "source": [
    "# to connect a port in a more targeted way, use connect and specify the port and its target path\n",
    "b['interval_process'].connect(port='interval', target=['event_process', 'interval']) \n",
    "\n",
    "# the remaining ports can connect_all\n",
    "b.connect_all() "
   ]
  },
  {
   "cell_type": "code",
   "execution_count": 17,
   "id": "b21b54ae-49e8-47ad-bc88-1327a8e9d230",
   "metadata": {},
   "outputs": [
    {
     "data": {
      "image/svg+xml": [
       "<?xml version=\"1.0\" encoding=\"UTF-8\" standalone=\"no\"?>\n",
       "<!DOCTYPE svg PUBLIC \"-//W3C//DTD SVG 1.1//EN\"\n",
       " \"http://www.w3.org/Graphics/SVG/1.1/DTD/svg11.dtd\">\n",
       "<!-- Generated by graphviz version 9.0.0 (0)\n",
       " -->\n",
       "<!-- Title: bigraph Pages: 1 -->\n",
       "<svg width=\"404pt\" height=\"370pt\"\n",
       " viewBox=\"0.00 0.00 415.03 380.52\" xmlns=\"http://www.w3.org/2000/svg\" xmlns:xlink=\"http://www.w3.org/1999/xlink\">\n",
       "<g id=\"graph0\" class=\"graph\" transform=\"scale(0.972222 0.972222) rotate(0) translate(4 376.52)\">\n",
       "<title>bigraph</title>\n",
       "<polygon fill=\"white\" stroke=\"none\" points=\"-4,4 -4,-376.52 411.03,-376.52 411.03,4 -4,4\"/>\n",
       "<!-- (&#39;event_process&#39;, &#39;interval&#39;) -->\n",
       "<g id=\"node1\" class=\"node\">\n",
       "<title>(&#39;event_process&#39;, &#39;interval&#39;)</title>\n",
       "<ellipse fill=\"none\" stroke=\"black\" stroke-width=\"2\" cx=\"217.37\" cy=\"-107.92\" rx=\"25.92\" ry=\"25.92\"/>\n",
       "<text text-anchor=\"start\" x=\"199.04\" y=\"-104.32\" font-family=\"Times,serif\" font-size=\"12.00\">interval</text>\n",
       "</g>\n",
       "<!-- (&#39;interval_process&#39;,) -->\n",
       "<g id=\"node9\" class=\"node\">\n",
       "<title>(&#39;interval_process&#39;,)</title>\n",
       "<polygon fill=\"none\" stroke=\"black\" stroke-width=\"2\" points=\"260.29,-36 174.45,-36 174.45,0 260.29,0 260.29,-36\"/>\n",
       "<text text-anchor=\"start\" x=\"178.05\" y=\"-14.4\" font-family=\"Times,serif\" font-size=\"12.00\">interval_process</text>\n",
       "</g>\n",
       "<!-- (&#39;event_process&#39;, &#39;interval&#39;)&#45;&gt;(&#39;interval_process&#39;,) -->\n",
       "<g id=\"edge11\" class=\"edge\">\n",
       "<title>(&#39;event_process&#39;, &#39;interval&#39;)&#45;&gt;(&#39;interval_process&#39;,)</title>\n",
       "<path fill=\"none\" stroke=\"black\" stroke-dasharray=\"5,2\" d=\"M217.37,-69.57C217.37,-58.26 217.37,-46.34 217.37,-36.92\"/>\n",
       "<polygon fill=\"black\" stroke=\"black\" points=\"213.87,-69.5 217.37,-79.5 220.87,-69.5 213.87,-69.5\"/>\n",
       "<text text-anchor=\"start\" x=\"217.37\" y=\"-56\" font-family=\"Times,serif\" font-size=\"10.00\">interval</text>\n",
       "</g>\n",
       "<!-- (&#39;mRNA_store&#39;,) -->\n",
       "<g id=\"node2\" class=\"node\">\n",
       "<title>(&#39;mRNA_store&#39;,)</title>\n",
       "<ellipse fill=\"none\" stroke=\"black\" stroke-width=\"2\" cx=\"130.37\" cy=\"-330.43\" rx=\"42.08\" ry=\"42.08\"/>\n",
       "<text text-anchor=\"start\" x=\"98.37\" y=\"-326.83\" font-family=\"Times,serif\" font-size=\"12.00\">mRNA_store</text>\n",
       "</g>\n",
       "<!-- (&#39;mRNA_store&#39;, &#39;A mRNA&#39;) -->\n",
       "<g id=\"node3\" class=\"node\">\n",
       "<title>(&#39;mRNA_store&#39;, &#39;A mRNA&#39;)</title>\n",
       "<ellipse fill=\"none\" stroke=\"black\" stroke-width=\"2\" cx=\"49.37\" cy=\"-211.09\" rx=\"31.26\" ry=\"31.26\"/>\n",
       "<text text-anchor=\"start\" x=\"26.53\" y=\"-207.49\" font-family=\"Times,serif\" font-size=\"12.00\">A mRNA</text>\n",
       "</g>\n",
       "<!-- (&#39;mRNA_store&#39;,)&#45;&gt;(&#39;mRNA_store&#39;, &#39;A mRNA&#39;) -->\n",
       "<g id=\"edge2\" class=\"edge\">\n",
       "<title>(&#39;mRNA_store&#39;,)&#45;&gt;(&#39;mRNA_store&#39;, &#39;A mRNA&#39;)</title>\n",
       "<path fill=\"none\" stroke=\"black\" stroke-width=\"2\" d=\"M106.5,-294.86C93.9,-276.61 78.7,-254.59 67.15,-237.85\"/>\n",
       "</g>\n",
       "<!-- (&#39;mRNA_store&#39;, &#39;B mRNA&#39;) -->\n",
       "<g id=\"node4\" class=\"node\">\n",
       "<title>(&#39;mRNA_store&#39;, &#39;B mRNA&#39;)</title>\n",
       "<ellipse fill=\"none\" stroke=\"black\" stroke-width=\"2\" cx=\"130.37\" cy=\"-211.09\" rx=\"31.25\" ry=\"31.25\"/>\n",
       "<text text-anchor=\"start\" x=\"107.53\" y=\"-207.49\" font-family=\"Times,serif\" font-size=\"12.00\">B mRNA</text>\n",
       "</g>\n",
       "<!-- (&#39;mRNA_store&#39;,)&#45;&gt;(&#39;mRNA_store&#39;, &#39;B mRNA&#39;) -->\n",
       "<g id=\"edge3\" class=\"edge\">\n",
       "<title>(&#39;mRNA_store&#39;,)&#45;&gt;(&#39;mRNA_store&#39;, &#39;B mRNA&#39;)</title>\n",
       "<path fill=\"none\" stroke=\"black\" stroke-width=\"2\" d=\"M130.37,-287.4C130.37,-272.8 130.37,-256.71 130.37,-243.16\"/>\n",
       "</g>\n",
       "<!-- (&#39;event_process&#39;,) -->\n",
       "<g id=\"node8\" class=\"node\">\n",
       "<title>(&#39;event_process&#39;,)</title>\n",
       "<polygon fill=\"none\" stroke=\"black\" stroke-width=\"2\" points=\"254.96,-229.09 179.78,-229.09 179.78,-193.09 254.96,-193.09 254.96,-229.09\"/>\n",
       "<text text-anchor=\"start\" x=\"183.38\" y=\"-207.49\" font-family=\"Times,serif\" font-size=\"12.00\">event_process</text>\n",
       "</g>\n",
       "<!-- (&#39;mRNA_store&#39;,)&#45;&gt;(&#39;event_process&#39;,) -->\n",
       "<g id=\"edge6\" class=\"edge\">\n",
       "<title>(&#39;mRNA_store&#39;,)&#45;&gt;(&#39;event_process&#39;,)</title>\n",
       "<path fill=\"none\" stroke=\"black\" stroke-dasharray=\"5,2\" d=\"M146.37,-290.66C151.44,-280.36 157.56,-269.54 164.48,-260.35 170.68,-252.11 178.42,-244.14 186.04,-237.13\"/>\n",
       "<polygon fill=\"black\" stroke=\"black\" points=\"187.88,-240.18 193.06,-230.94 183.25,-234.93 187.88,-240.18\"/>\n",
       "<text text-anchor=\"start\" x=\"165.37\" y=\"-262.35\" font-family=\"Times,serif\" font-size=\"10.00\">mRNA</text>\n",
       "</g>\n",
       "<!-- (&#39;mRNA_store&#39;,)&#45;&gt;(&#39;event_process&#39;,) -->\n",
       "<g id=\"edge10\" class=\"edge\">\n",
       "<title>(&#39;mRNA_store&#39;,)&#45;&gt;(&#39;event_process&#39;,)</title>\n",
       "<path fill=\"none\" stroke=\"black\" stroke-dasharray=\"5,2\" d=\"M171.47,-295.75C179.41,-287.98 187.17,-279.33 193.37,-270.35 201.94,-257.93 208.25,-241.97 212.24,-229.9\"/>\n",
       "<polygon fill=\"black\" stroke=\"black\" points=\"169.52,-292.79 164.63,-302.19 174.31,-297.89 169.52,-292.79\"/>\n",
       "<text text-anchor=\"start\" x=\"199.37\" y=\"-262.35\" font-family=\"Times,serif\" font-size=\"10.00\">mRNA</text>\n",
       "</g>\n",
       "<!-- (&#39;mRNA_store&#39;,)&#45;&gt;(&#39;interval_process&#39;,) -->\n",
       "<g id=\"edge9\" class=\"edge\">\n",
       "<title>(&#39;mRNA_store&#39;,)&#45;&gt;(&#39;interval_process&#39;,)</title>\n",
       "<path fill=\"none\" stroke=\"black\" stroke-dasharray=\"5,2\" d=\"M91.21,-313.21C62.78,-299.09 26.42,-275.64 9.37,-242.35 -3.3,-217.62 -2.87,-204.78 9.37,-179.84 41.73,-113.9 115.59,-67.31 165.99,-41.79\"/>\n",
       "<polygon fill=\"black\" stroke=\"black\" points=\"167.28,-45.06 174.7,-37.49 164.18,-38.78 167.28,-45.06\"/>\n",
       "<text text-anchor=\"start\" x=\"26.37\" y=\"-153.84\" font-family=\"Times,serif\" font-size=\"10.00\">mRNA</text>\n",
       "</g>\n",
       "<!-- (&#39;DNA_store&#39;,) -->\n",
       "<g id=\"node5\" class=\"node\">\n",
       "<title>(&#39;DNA_store&#39;,)</title>\n",
       "<ellipse fill=\"none\" stroke=\"black\" stroke-width=\"2\" cx=\"333.37\" cy=\"-330.43\" rx=\"36.96\" ry=\"36.96\"/>\n",
       "<text text-anchor=\"start\" x=\"305.71\" y=\"-326.83\" font-family=\"Times,serif\" font-size=\"12.00\">DNA_store</text>\n",
       "</g>\n",
       "<!-- (&#39;DNA_store&#39;, &#39;A gene&#39;) -->\n",
       "<g id=\"node6\" class=\"node\">\n",
       "<title>(&#39;DNA_store&#39;, &#39;A gene&#39;)</title>\n",
       "<ellipse fill=\"none\" stroke=\"black\" stroke-width=\"2\" cx=\"297.37\" cy=\"-211.09\" rx=\"24.15\" ry=\"24.15\"/>\n",
       "<text text-anchor=\"start\" x=\"280.54\" y=\"-207.49\" font-family=\"Times,serif\" font-size=\"12.00\">A gene</text>\n",
       "</g>\n",
       "<!-- (&#39;DNA_store&#39;,)&#45;&gt;(&#39;DNA_store&#39;, &#39;A gene&#39;) -->\n",
       "<g id=\"edge4\" class=\"edge\">\n",
       "<title>(&#39;DNA_store&#39;,)&#45;&gt;(&#39;DNA_store&#39;, &#39;A gene&#39;)</title>\n",
       "<path fill=\"none\" stroke=\"black\" stroke-width=\"2\" d=\"M322.57,-294.23C316.69,-275.06 309.58,-251.88 304.41,-235.05\"/>\n",
       "</g>\n",
       "<!-- (&#39;DNA_store&#39;, &#39;B gene&#39;) -->\n",
       "<g id=\"node7\" class=\"node\">\n",
       "<title>(&#39;DNA_store&#39;, &#39;B gene&#39;)</title>\n",
       "<ellipse fill=\"none\" stroke=\"black\" stroke-width=\"2\" cx=\"363.37\" cy=\"-211.09\" rx=\"24.15\" ry=\"24.15\"/>\n",
       "<text text-anchor=\"start\" x=\"346.54\" y=\"-207.49\" font-family=\"Times,serif\" font-size=\"12.00\">B gene</text>\n",
       "</g>\n",
       "<!-- (&#39;DNA_store&#39;,)&#45;&gt;(&#39;DNA_store&#39;, &#39;B gene&#39;) -->\n",
       "<g id=\"edge5\" class=\"edge\">\n",
       "<title>(&#39;DNA_store&#39;,)&#45;&gt;(&#39;DNA_store&#39;, &#39;B gene&#39;)</title>\n",
       "<path fill=\"none\" stroke=\"black\" stroke-width=\"2\" d=\"M342.45,-293.91C347.31,-274.89 353.17,-252 357.44,-235.28\"/>\n",
       "</g>\n",
       "<!-- (&#39;DNA_store&#39;,)&#45;&gt;(&#39;event_process&#39;,) -->\n",
       "<g id=\"edge7\" class=\"edge\">\n",
       "<title>(&#39;DNA_store&#39;,)&#45;&gt;(&#39;event_process&#39;,)</title>\n",
       "<path fill=\"none\" stroke=\"black\" stroke-dasharray=\"5,2\" d=\"M307.34,-303.1C288.13,-283.68 262.13,-257.38 243.02,-238.04\"/>\n",
       "<polygon fill=\"black\" stroke=\"black\" points=\"245.62,-235.69 236.1,-231.04 240.64,-240.61 245.62,-235.69\"/>\n",
       "<text text-anchor=\"start\" x=\"272.37\" y=\"-262.35\" font-family=\"Times,serif\" font-size=\"10.00\">DNA</text>\n",
       "</g>\n",
       "<!-- (&#39;DNA_store&#39;,)&#45;&gt;(&#39;interval_process&#39;,) -->\n",
       "<g id=\"edge8\" class=\"edge\">\n",
       "<title>(&#39;DNA_store&#39;,)&#45;&gt;(&#39;interval_process&#39;,)</title>\n",
       "<path fill=\"none\" stroke=\"black\" stroke-dasharray=\"5,2\" d=\"M359.35,-302.93C373.26,-286.85 389.01,-265.07 396.37,-242.35 404.93,-215.92 407.68,-205.21 396.37,-179.84 368.67,-117.71 303.8,-69.55 260.24,-42.72\"/>\n",
       "<polygon fill=\"black\" stroke=\"black\" points=\"262.15,-39.78 251.78,-37.62 258.54,-45.78 262.15,-39.78\"/>\n",
       "<text text-anchor=\"start\" x=\"385.37\" y=\"-153.84\" font-family=\"Times,serif\" font-size=\"10.00\">DNA</text>\n",
       "</g>\n",
       "<!-- (&#39;event_process&#39;,)&#45;&gt;(&#39;event_process&#39;, &#39;interval&#39;) -->\n",
       "<g id=\"edge1\" class=\"edge\">\n",
       "<title>(&#39;event_process&#39;,)&#45;&gt;(&#39;event_process&#39;, &#39;interval&#39;)</title>\n",
       "<path fill=\"none\" stroke=\"black\" stroke-width=\"2\" d=\"M217.37,-192.47C217.37,-176.51 217.37,-152.78 217.37,-134.69\"/>\n",
       "</g>\n",
       "</g>\n",
       "</svg>\n"
      ],
      "text/plain": [
       "<graphviz.graphs.Digraph at 0x106c2c1c0>"
      ]
     },
     "execution_count": 17,
     "metadata": {},
     "output_type": "execute_result"
    }
   ],
   "source": [
    "b.visualize()"
   ]
  },
  {
   "cell_type": "markdown",
   "id": "ed3131ee-c607-42e5-88a3-930a84eedf0f",
   "metadata": {},
   "source": [
    "### check current Builder config"
   ]
  },
  {
   "cell_type": "code",
   "execution_count": 18,
   "id": "6e00749f-03b8-496e-9a10-106dbac3713f",
   "metadata": {},
   "outputs": [
    {
     "data": {
      "text/plain": [
       "Builder({ 'DNA_store': {'A gene': 0.0, 'B gene': 0.0},\n",
       "  'event_process': { '_type': 'process',\n",
       "                     'address': 'local:GillespieEvent',\n",
       "                     'config': {'kdeg': 1.0, 'ktsc': 5.0},\n",
       "                     'inputs': {'DNA': ['DNA_store'], 'mRNA': ['mRNA_store']},\n",
       "                     'instance': <process_bigraph.experiments.minimal_gillespie.GillespieEvent object at 0x106c12dc0>,\n",
       "                     'interval': 1.0,\n",
       "                     'outputs': {'mRNA': ['mRNA_store']}},\n",
       "  'interval_process': { '_type': 'step',\n",
       "                        'address': 'local:GillespieInterval',\n",
       "                        'config': {'kdeg': 0.1, 'ktsc': 5.0},\n",
       "                        'inputs': { 'DNA': ['DNA_store'],\n",
       "                                    'mRNA': ['mRNA_store']},\n",
       "                        'instance': <process_bigraph.experiments.minimal_gillespie.GillespieInterval object at 0x106c118b0>,\n",
       "                        'outputs': {'interval': ['event_process', 'interval']}},\n",
       "  'mRNA_store': {}})"
      ]
     },
     "execution_count": 18,
     "metadata": {},
     "output_type": "execute_result"
    }
   ],
   "source": [
    "b"
   ]
  },
  {
   "cell_type": "markdown",
   "id": "9fd708e8-0688-4b97-a50c-e3d0a1c78d83",
   "metadata": {},
   "source": [
    "## Update the initial state"
   ]
  },
  {
   "cell_type": "code",
   "execution_count": 19,
   "id": "212f4501-8050-4c39-88b8-986b3c38e716",
   "metadata": {},
   "outputs": [],
   "source": [
    "initial_state = {\n",
    "    'DNA_store': {\n",
    "        'A gene': 2.0,\n",
    "        'B gene': 1.0},\n",
    "}\n",
    "b.update(initial_state)"
   ]
  },
  {
   "cell_type": "markdown",
   "id": "305582d1-f701-4a55-88a3-f8ec21643033",
   "metadata": {},
   "source": [
    "## Generate composite from builder config and simulate"
   ]
  },
  {
   "cell_type": "code",
   "execution_count": 20,
   "id": "e9a69f36-154c-416e-b00c-5df0726be49e",
   "metadata": {},
   "outputs": [
    {
     "name": "stdout",
     "output_type": "stream",
     "text": [
      "produced interval: {'interval': 1.21174311488629}\n",
      "received interval: 1.21174311488629\n",
      "produced interval: {'interval': 30.66671505248375}\n"
     ]
    }
   ],
   "source": [
    "composite = b.generate()\n",
    "composite.run(10)"
   ]
  },
  {
   "cell_type": "code",
   "execution_count": 21,
   "id": "578492a9-027d-4c5b-b90a-7d63e3f46bc0",
   "metadata": {},
   "outputs": [
    {
     "data": {
      "text/plain": [
       "<process_bigraph.composite.Composite at 0x106c2c700>"
      ]
     },
     "execution_count": 21,
     "metadata": {},
     "output_type": "execute_result"
    }
   ],
   "source": [
    "composite"
   ]
  },
  {
   "cell_type": "markdown",
   "id": "743960b7-a6d3-41af-8737-2776a66c60cd",
   "metadata": {},
   "source": [
    "## Retrieve the composite document"
   ]
  },
  {
   "cell_type": "code",
   "execution_count": 22,
   "id": "c975aab012b2706f",
   "metadata": {
    "ExecuteTime": {
     "start_time": "2024-01-21T21:29:21.999855Z"
    },
    "collapsed": false,
    "jupyter": {
     "outputs_hidden": false
    }
   },
   "outputs": [
    {
     "data": {
      "text/plain": [
       "{'event_process': {'_type': 'process',\n",
       "  'address': 'local:GillespieEvent',\n",
       "  'config': {'kdeg': 1.0, 'ktsc': 5.0},\n",
       "  'inputs': {'mRNA': ['mRNA_store'], 'DNA': ['DNA_store']},\n",
       "  'outputs': {'mRNA': ['mRNA_store']},\n",
       "  'interval': 1.0},\n",
       " 'mRNA_store': {'A mRNA': '1.0', 'B mRNA': '1.0'},\n",
       " 'DNA_store': {'A gene': '2.0', 'B gene': '1.0'},\n",
       " 'interval_process': {'_type': 'step',\n",
       "  'address': 'local:GillespieInterval',\n",
       "  'config': {'ktsc': 5.0, 'kdeg': 0.1},\n",
       "  'inputs': {'DNA': ['DNA_store'], 'mRNA': ['mRNA_store']},\n",
       "  'outputs': {'interval': ['event_process', 'interval']}},\n",
       " 'global_time': '0.0'}"
      ]
     },
     "execution_count": 22,
     "metadata": {},
     "output_type": "execute_result"
    }
   ],
   "source": [
    "doc = b.document()\n",
    "doc"
   ]
  },
  {
   "cell_type": "markdown",
   "id": "b32a13ed-134d-4de1-a1ed-b72807b4af45",
   "metadata": {},
   "source": [
    "### save the document to file"
   ]
  },
  {
   "cell_type": "code",
   "execution_count": 23,
   "id": "752e43636bf9fd17",
   "metadata": {
    "ExecuteTime": {
     "start_time": "2024-01-21T21:29:22.001078Z"
    },
    "collapsed": false,
    "jupyter": {
     "outputs_hidden": false
    }
   },
   "outputs": [
    {
     "name": "stdout",
     "output_type": "stream",
     "text": [
      "File 'toy_bigraph' successfully written in 'out' directory.\n"
     ]
    }
   ],
   "source": [
    "b.write(filename='toy_bigraph')"
   ]
  },
  {
   "cell_type": "markdown",
   "id": "ebdd7599-0b0e-4f79-a8ab-d507a81646d8",
   "metadata": {
    "ExecuteTime": {
     "start_time": "2024-01-21T21:29:22.001943Z"
    },
    "collapsed": false,
    "jupyter": {
     "outputs_hidden": false
    }
   },
   "source": [
    "### load a composite from document\n",
    "This document represents the full state of the composite, and so can reproduce the previous composite when loaded into a fresh Builder"
   ]
  },
  {
   "cell_type": "code",
   "execution_count": 26,
   "id": "56b14beb-27de-469d-b4e6-10fc628e15e0",
   "metadata": {},
   "outputs": [
    {
     "data": {
      "text/plain": [
       "Builder({ 'DNA_store': {'A gene': '2.0', 'B gene': '1.0'},\n",
       "  'event_process': { '_type': 'process',\n",
       "                     'address': 'local:GillespieEvent',\n",
       "                     'config': {'kdeg': 1.0, 'ktsc': 5.0},\n",
       "                     'inputs': {'DNA': ['DNA_store'], 'mRNA': ['mRNA_store']},\n",
       "                     'instance': <process_bigraph.experiments.minimal_gillespie.GillespieEvent object at 0x105271250>,\n",
       "                     'interval': 1.0,\n",
       "                     'outputs': {'mRNA': ['mRNA_store']}},\n",
       "  'global_time': '0.0',\n",
       "  'interval_process': { '_type': 'step',\n",
       "                        'address': 'local:GillespieInterval',\n",
       "                        'config': {'kdeg': 0.1, 'ktsc': 5.0},\n",
       "                        'inputs': { 'DNA': ['DNA_store'],\n",
       "                                    'mRNA': ['mRNA_store']},\n",
       "                        'instance': <process_bigraph.experiments.minimal_gillespie.GillespieInterval object at 0x105271130>,\n",
       "                        'outputs': {'interval': ['event_process', 'interval']}},\n",
       "  'mRNA_store': {'A mRNA': '1.0', 'B mRNA': '1.0'}})"
      ]
     },
     "execution_count": 26,
     "metadata": {},
     "output_type": "execute_result"
    }
   ],
   "source": [
    "b2 = Builder(core=core, file_path='out/toy_bigraph.json')\n",
    "b2"
   ]
  },
  {
   "cell_type": "code",
   "execution_count": 27,
   "id": "6197f4c3-41ca-468b-929f-cc0ebc1fabe9",
   "metadata": {},
   "outputs": [
    {
     "data": {
      "image/svg+xml": [
       "<?xml version=\"1.0\" encoding=\"UTF-8\" standalone=\"no\"?>\n",
       "<!DOCTYPE svg PUBLIC \"-//W3C//DTD SVG 1.1//EN\"\n",
       " \"http://www.w3.org/Graphics/SVG/1.1/DTD/svg11.dtd\">\n",
       "<!-- Generated by graphviz version 9.0.0 (0)\n",
       " -->\n",
       "<!-- Title: bigraph Pages: 1 -->\n",
       "<svg width=\"404pt\" height=\"370pt\"\n",
       " viewBox=\"0.00 0.00 415.03 380.52\" xmlns=\"http://www.w3.org/2000/svg\" xmlns:xlink=\"http://www.w3.org/1999/xlink\">\n",
       "<g id=\"graph0\" class=\"graph\" transform=\"scale(0.972222 0.972222) rotate(0) translate(4 376.52)\">\n",
       "<title>bigraph</title>\n",
       "<polygon fill=\"white\" stroke=\"none\" points=\"-4,4 -4,-376.52 411.03,-376.52 411.03,4 -4,4\"/>\n",
       "<!-- (&#39;event_process&#39;, &#39;interval&#39;) -->\n",
       "<g id=\"node1\" class=\"node\">\n",
       "<title>(&#39;event_process&#39;, &#39;interval&#39;)</title>\n",
       "<ellipse fill=\"none\" stroke=\"black\" stroke-width=\"2\" cx=\"217.37\" cy=\"-107.92\" rx=\"25.92\" ry=\"25.92\"/>\n",
       "<text text-anchor=\"start\" x=\"199.04\" y=\"-104.32\" font-family=\"Times,serif\" font-size=\"12.00\">interval</text>\n",
       "</g>\n",
       "<!-- (&#39;interval_process&#39;,) -->\n",
       "<g id=\"node9\" class=\"node\">\n",
       "<title>(&#39;interval_process&#39;,)</title>\n",
       "<polygon fill=\"none\" stroke=\"black\" stroke-width=\"2\" points=\"260.29,-36 174.45,-36 174.45,0 260.29,0 260.29,-36\"/>\n",
       "<text text-anchor=\"start\" x=\"178.05\" y=\"-14.4\" font-family=\"Times,serif\" font-size=\"12.00\">interval_process</text>\n",
       "</g>\n",
       "<!-- (&#39;event_process&#39;, &#39;interval&#39;)&#45;&gt;(&#39;interval_process&#39;,) -->\n",
       "<g id=\"edge11\" class=\"edge\">\n",
       "<title>(&#39;event_process&#39;, &#39;interval&#39;)&#45;&gt;(&#39;interval_process&#39;,)</title>\n",
       "<path fill=\"none\" stroke=\"black\" stroke-dasharray=\"5,2\" d=\"M217.37,-69.57C217.37,-58.26 217.37,-46.34 217.37,-36.92\"/>\n",
       "<polygon fill=\"black\" stroke=\"black\" points=\"213.87,-69.5 217.37,-79.5 220.87,-69.5 213.87,-69.5\"/>\n",
       "<text text-anchor=\"start\" x=\"217.37\" y=\"-56\" font-family=\"Times,serif\" font-size=\"10.00\">interval</text>\n",
       "</g>\n",
       "<!-- (&#39;mRNA_store&#39;,) -->\n",
       "<g id=\"node2\" class=\"node\">\n",
       "<title>(&#39;mRNA_store&#39;,)</title>\n",
       "<ellipse fill=\"none\" stroke=\"black\" stroke-width=\"2\" cx=\"130.37\" cy=\"-330.43\" rx=\"42.08\" ry=\"42.08\"/>\n",
       "<text text-anchor=\"start\" x=\"98.37\" y=\"-326.83\" font-family=\"Times,serif\" font-size=\"12.00\">mRNA_store</text>\n",
       "</g>\n",
       "<!-- (&#39;mRNA_store&#39;, &#39;A mRNA&#39;) -->\n",
       "<g id=\"node3\" class=\"node\">\n",
       "<title>(&#39;mRNA_store&#39;, &#39;A mRNA&#39;)</title>\n",
       "<ellipse fill=\"none\" stroke=\"black\" stroke-width=\"2\" cx=\"49.37\" cy=\"-211.09\" rx=\"31.26\" ry=\"31.26\"/>\n",
       "<text text-anchor=\"start\" x=\"26.53\" y=\"-207.49\" font-family=\"Times,serif\" font-size=\"12.00\">A mRNA</text>\n",
       "</g>\n",
       "<!-- (&#39;mRNA_store&#39;,)&#45;&gt;(&#39;mRNA_store&#39;, &#39;A mRNA&#39;) -->\n",
       "<g id=\"edge2\" class=\"edge\">\n",
       "<title>(&#39;mRNA_store&#39;,)&#45;&gt;(&#39;mRNA_store&#39;, &#39;A mRNA&#39;)</title>\n",
       "<path fill=\"none\" stroke=\"black\" stroke-width=\"2\" d=\"M106.5,-294.86C93.9,-276.61 78.7,-254.59 67.15,-237.85\"/>\n",
       "</g>\n",
       "<!-- (&#39;mRNA_store&#39;, &#39;B mRNA&#39;) -->\n",
       "<g id=\"node4\" class=\"node\">\n",
       "<title>(&#39;mRNA_store&#39;, &#39;B mRNA&#39;)</title>\n",
       "<ellipse fill=\"none\" stroke=\"black\" stroke-width=\"2\" cx=\"130.37\" cy=\"-211.09\" rx=\"31.25\" ry=\"31.25\"/>\n",
       "<text text-anchor=\"start\" x=\"107.53\" y=\"-207.49\" font-family=\"Times,serif\" font-size=\"12.00\">B mRNA</text>\n",
       "</g>\n",
       "<!-- (&#39;mRNA_store&#39;,)&#45;&gt;(&#39;mRNA_store&#39;, &#39;B mRNA&#39;) -->\n",
       "<g id=\"edge3\" class=\"edge\">\n",
       "<title>(&#39;mRNA_store&#39;,)&#45;&gt;(&#39;mRNA_store&#39;, &#39;B mRNA&#39;)</title>\n",
       "<path fill=\"none\" stroke=\"black\" stroke-width=\"2\" d=\"M130.37,-287.4C130.37,-272.8 130.37,-256.71 130.37,-243.16\"/>\n",
       "</g>\n",
       "<!-- (&#39;event_process&#39;,) -->\n",
       "<g id=\"node8\" class=\"node\">\n",
       "<title>(&#39;event_process&#39;,)</title>\n",
       "<polygon fill=\"none\" stroke=\"black\" stroke-width=\"2\" points=\"254.96,-229.09 179.78,-229.09 179.78,-193.09 254.96,-193.09 254.96,-229.09\"/>\n",
       "<text text-anchor=\"start\" x=\"183.38\" y=\"-207.49\" font-family=\"Times,serif\" font-size=\"12.00\">event_process</text>\n",
       "</g>\n",
       "<!-- (&#39;mRNA_store&#39;,)&#45;&gt;(&#39;event_process&#39;,) -->\n",
       "<g id=\"edge6\" class=\"edge\">\n",
       "<title>(&#39;mRNA_store&#39;,)&#45;&gt;(&#39;event_process&#39;,)</title>\n",
       "<path fill=\"none\" stroke=\"black\" stroke-dasharray=\"5,2\" d=\"M146.37,-290.66C151.44,-280.36 157.56,-269.54 164.48,-260.35 170.68,-252.11 178.42,-244.14 186.04,-237.13\"/>\n",
       "<polygon fill=\"black\" stroke=\"black\" points=\"187.88,-240.18 193.06,-230.94 183.25,-234.93 187.88,-240.18\"/>\n",
       "<text text-anchor=\"start\" x=\"165.37\" y=\"-262.35\" font-family=\"Times,serif\" font-size=\"10.00\">mRNA</text>\n",
       "</g>\n",
       "<!-- (&#39;mRNA_store&#39;,)&#45;&gt;(&#39;event_process&#39;,) -->\n",
       "<g id=\"edge10\" class=\"edge\">\n",
       "<title>(&#39;mRNA_store&#39;,)&#45;&gt;(&#39;event_process&#39;,)</title>\n",
       "<path fill=\"none\" stroke=\"black\" stroke-dasharray=\"5,2\" d=\"M171.47,-295.75C179.41,-287.98 187.17,-279.33 193.37,-270.35 201.94,-257.93 208.25,-241.97 212.24,-229.9\"/>\n",
       "<polygon fill=\"black\" stroke=\"black\" points=\"169.52,-292.79 164.63,-302.19 174.31,-297.89 169.52,-292.79\"/>\n",
       "<text text-anchor=\"start\" x=\"199.37\" y=\"-262.35\" font-family=\"Times,serif\" font-size=\"10.00\">mRNA</text>\n",
       "</g>\n",
       "<!-- (&#39;mRNA_store&#39;,)&#45;&gt;(&#39;interval_process&#39;,) -->\n",
       "<g id=\"edge9\" class=\"edge\">\n",
       "<title>(&#39;mRNA_store&#39;,)&#45;&gt;(&#39;interval_process&#39;,)</title>\n",
       "<path fill=\"none\" stroke=\"black\" stroke-dasharray=\"5,2\" d=\"M91.21,-313.21C62.78,-299.09 26.42,-275.64 9.37,-242.35 -3.3,-217.62 -2.87,-204.78 9.37,-179.84 41.73,-113.9 115.59,-67.31 165.99,-41.79\"/>\n",
       "<polygon fill=\"black\" stroke=\"black\" points=\"167.28,-45.06 174.7,-37.49 164.18,-38.78 167.28,-45.06\"/>\n",
       "<text text-anchor=\"start\" x=\"26.37\" y=\"-153.84\" font-family=\"Times,serif\" font-size=\"10.00\">mRNA</text>\n",
       "</g>\n",
       "<!-- (&#39;DNA_store&#39;,) -->\n",
       "<g id=\"node5\" class=\"node\">\n",
       "<title>(&#39;DNA_store&#39;,)</title>\n",
       "<ellipse fill=\"none\" stroke=\"black\" stroke-width=\"2\" cx=\"333.37\" cy=\"-330.43\" rx=\"36.96\" ry=\"36.96\"/>\n",
       "<text text-anchor=\"start\" x=\"305.71\" y=\"-326.83\" font-family=\"Times,serif\" font-size=\"12.00\">DNA_store</text>\n",
       "</g>\n",
       "<!-- (&#39;DNA_store&#39;, &#39;A gene&#39;) -->\n",
       "<g id=\"node6\" class=\"node\">\n",
       "<title>(&#39;DNA_store&#39;, &#39;A gene&#39;)</title>\n",
       "<ellipse fill=\"none\" stroke=\"black\" stroke-width=\"2\" cx=\"297.37\" cy=\"-211.09\" rx=\"24.15\" ry=\"24.15\"/>\n",
       "<text text-anchor=\"start\" x=\"280.54\" y=\"-207.49\" font-family=\"Times,serif\" font-size=\"12.00\">A gene</text>\n",
       "</g>\n",
       "<!-- (&#39;DNA_store&#39;,)&#45;&gt;(&#39;DNA_store&#39;, &#39;A gene&#39;) -->\n",
       "<g id=\"edge4\" class=\"edge\">\n",
       "<title>(&#39;DNA_store&#39;,)&#45;&gt;(&#39;DNA_store&#39;, &#39;A gene&#39;)</title>\n",
       "<path fill=\"none\" stroke=\"black\" stroke-width=\"2\" d=\"M322.57,-294.23C316.69,-275.06 309.58,-251.88 304.41,-235.05\"/>\n",
       "</g>\n",
       "<!-- (&#39;DNA_store&#39;, &#39;B gene&#39;) -->\n",
       "<g id=\"node7\" class=\"node\">\n",
       "<title>(&#39;DNA_store&#39;, &#39;B gene&#39;)</title>\n",
       "<ellipse fill=\"none\" stroke=\"black\" stroke-width=\"2\" cx=\"363.37\" cy=\"-211.09\" rx=\"24.15\" ry=\"24.15\"/>\n",
       "<text text-anchor=\"start\" x=\"346.54\" y=\"-207.49\" font-family=\"Times,serif\" font-size=\"12.00\">B gene</text>\n",
       "</g>\n",
       "<!-- (&#39;DNA_store&#39;,)&#45;&gt;(&#39;DNA_store&#39;, &#39;B gene&#39;) -->\n",
       "<g id=\"edge5\" class=\"edge\">\n",
       "<title>(&#39;DNA_store&#39;,)&#45;&gt;(&#39;DNA_store&#39;, &#39;B gene&#39;)</title>\n",
       "<path fill=\"none\" stroke=\"black\" stroke-width=\"2\" d=\"M342.45,-293.91C347.31,-274.89 353.17,-252 357.44,-235.28\"/>\n",
       "</g>\n",
       "<!-- (&#39;DNA_store&#39;,)&#45;&gt;(&#39;event_process&#39;,) -->\n",
       "<g id=\"edge7\" class=\"edge\">\n",
       "<title>(&#39;DNA_store&#39;,)&#45;&gt;(&#39;event_process&#39;,)</title>\n",
       "<path fill=\"none\" stroke=\"black\" stroke-dasharray=\"5,2\" d=\"M307.34,-303.1C288.13,-283.68 262.13,-257.38 243.02,-238.04\"/>\n",
       "<polygon fill=\"black\" stroke=\"black\" points=\"245.62,-235.69 236.1,-231.04 240.64,-240.61 245.62,-235.69\"/>\n",
       "<text text-anchor=\"start\" x=\"272.37\" y=\"-262.35\" font-family=\"Times,serif\" font-size=\"10.00\">DNA</text>\n",
       "</g>\n",
       "<!-- (&#39;DNA_store&#39;,)&#45;&gt;(&#39;interval_process&#39;,) -->\n",
       "<g id=\"edge8\" class=\"edge\">\n",
       "<title>(&#39;DNA_store&#39;,)&#45;&gt;(&#39;interval_process&#39;,)</title>\n",
       "<path fill=\"none\" stroke=\"black\" stroke-dasharray=\"5,2\" d=\"M359.35,-302.93C373.26,-286.85 389.01,-265.07 396.37,-242.35 404.93,-215.92 407.68,-205.21 396.37,-179.84 368.67,-117.71 303.8,-69.55 260.24,-42.72\"/>\n",
       "<polygon fill=\"black\" stroke=\"black\" points=\"262.15,-39.78 251.78,-37.62 258.54,-45.78 262.15,-39.78\"/>\n",
       "<text text-anchor=\"start\" x=\"385.37\" y=\"-153.84\" font-family=\"Times,serif\" font-size=\"10.00\">DNA</text>\n",
       "</g>\n",
       "<!-- (&#39;event_process&#39;,)&#45;&gt;(&#39;event_process&#39;, &#39;interval&#39;) -->\n",
       "<g id=\"edge1\" class=\"edge\">\n",
       "<title>(&#39;event_process&#39;,)&#45;&gt;(&#39;event_process&#39;, &#39;interval&#39;)</title>\n",
       "<path fill=\"none\" stroke=\"black\" stroke-width=\"2\" d=\"M217.37,-192.47C217.37,-176.51 217.37,-152.78 217.37,-134.69\"/>\n",
       "</g>\n",
       "</g>\n",
       "</svg>\n"
      ],
      "text/plain": [
       "<graphviz.graphs.Digraph at 0x106bece50>"
      ]
     },
     "execution_count": 27,
     "metadata": {},
     "output_type": "execute_result"
    }
   ],
   "source": [
    "b2.visualize()"
   ]
  },
  {
   "cell_type": "code",
   "execution_count": null,
   "id": "6c11fc1f-23ee-45e5-9975-f3d3b2e1dff9",
   "metadata": {},
   "outputs": [],
   "source": []
  }
 ],
 "metadata": {
  "kernelspec": {
   "display_name": "Python 3 (ipykernel)",
   "language": "python",
   "name": "python3"
  },
  "language_info": {
   "codemirror_mode": {
    "name": "ipython",
    "version": 3
   },
   "file_extension": ".py",
   "mimetype": "text/x-python",
   "name": "python",
   "nbconvert_exporter": "python",
   "pygments_lexer": "ipython3",
   "version": "3.10.13"
  }
 },
 "nbformat": 4,
 "nbformat_minor": 5
}
