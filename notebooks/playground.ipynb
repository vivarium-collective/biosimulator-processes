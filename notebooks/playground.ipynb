{
 "cells": [
  {
   "cell_type": "code",
   "execution_count": 1,
   "id": "initial_id",
   "metadata": {
    "ExecuteTime": {
     "end_time": "2024-03-07T18:34:55.910628Z",
     "start_time": "2024-03-07T18:34:54.100047Z"
    },
    "collapsed": true
   },
   "outputs": [
    {
     "name": "stdout",
     "output_type": "stream",
     "text": [
      "CobraProcess registered successfully.\n",
      "CopasiProcess registered successfully.\n",
      "SmoldynProcess registered successfully.\n",
      "TelluriumProcess registered successfully.\n",
      "DeterministicTimeCourseParameterScan registered successfully.\n"
     ]
    },
    {
     "data": {
      "text/plain": [
       "True"
      ]
     },
     "execution_count": 1,
     "metadata": {},
     "output_type": "execute_result"
    }
   ],
   "source": [
    "import sys\n",
    "\n",
    "sys.path.insert(0, '..')\n",
    "import os\n",
    "from process_bigraph import pp, pf\n",
    "from biosimulator_processes.data_model import *\n",
    "from biosimulator_processes.biosimulator_builder import BiosimulatorBuilder\n",
    "\n",
    "\n",
    "model_filepath = '../biosimulator_processes/model_files/BIOMD0000000061_url.xml'\n",
    "\n",
    "os.path.exists(model_filepath)"
   ]
  },
  {
   "cell_type": "code",
   "execution_count": 2,
   "id": "a41f2492d61c0a78",
   "metadata": {
    "ExecuteTime": {
     "end_time": "2024-03-07T18:34:55.913761Z",
     "start_time": "2024-03-07T18:34:55.911793Z"
    },
    "collapsed": false
   },
   "outputs": [],
   "source": [
    "class P:\n",
    "    def __init__(self,\n",
    "                 config=None):\n",
    "        self.config = config\n",
    "        if isinstance(self.config, dict):\n",
    "            self.model = TimeCourseModel(**self.config['model'])"
   ]
  },
  {
   "cell_type": "code",
   "execution_count": 7,
   "id": "ecfa6009d4f3460a",
   "metadata": {
    "ExecuteTime": {
     "end_time": "2024-03-07T18:36:07.826132Z",
     "start_time": "2024-03-07T18:36:07.822014Z"
    },
    "collapsed": false
   },
   "outputs": [],
   "source": [
    "model = {\n",
    "    'model': {\n",
    "        'model_source': model_filepath\n",
    "    }\n",
    "}\n",
    "\n",
    "\n",
    "tc = P(config=model)\n"
   ]
  },
  {
   "cell_type": "code",
   "execution_count": 9,
   "id": "7295f58cdf9705b0",
   "metadata": {
    "ExecuteTime": {
     "end_time": "2024-03-07T18:36:22.033756Z",
     "start_time": "2024-03-07T18:36:22.028015Z"
    },
    "collapsed": false
   },
   "outputs": [
    {
     "name": "stdout",
     "output_type": "stream",
     "text": [
      "{ 'model_changes': None,\n",
      "  'model_id': '',\n",
      "  'model_language': 'sbml',\n",
      "  'model_name': 'Unnamed Composite Process TimeCourseModel',\n",
      "  'model_source': { 'value': '../biosimulator_processes/model_files/BIOMD0000000061_url.xml'},\n",
      "  'model_units': '_default'}\n"
     ]
    },
    {
     "data": {
      "text/plain": [
       "(None, biosimulator_processes.data_model.ModelFilepath)"
      ]
     },
     "execution_count": 9,
     "metadata": {},
     "output_type": "execute_result"
    }
   ],
   "source": [
    "pp(tc.model.model_dump()), type(tc.model.model_source)"
   ]
  },
  {
   "cell_type": "code",
   "execution_count": 5,
   "id": "d77a796138f058d",
   "metadata": {
    "ExecuteTime": {
     "end_time": "2024-03-07T18:34:55.922420Z",
     "start_time": "2024-03-07T18:34:55.920642Z"
    },
    "collapsed": false
   },
   "outputs": [
    {
     "data": {
      "text/plain": [
       "''"
      ]
     },
     "execution_count": 5,
     "metadata": {},
     "output_type": "execute_result"
    }
   ],
   "source": [
    "tc.model_id"
   ]
  },
  {
   "cell_type": "code",
   "execution_count": 5,
   "id": "598687d66ea4e4bb",
   "metadata": {
    "ExecuteTime": {
     "end_time": "2024-03-07T18:34:55.924112Z",
     "start_time": "2024-03-07T18:34:55.922998Z"
    },
    "collapsed": false
   },
   "outputs": [],
   "source": []
  },
  {
   "cell_type": "code",
   "execution_count": 5,
   "id": "7e75da35b0b21814",
   "metadata": {
    "ExecuteTime": {
     "end_time": "2024-03-07T18:34:55.925666Z",
     "start_time": "2024-03-07T18:34:55.924640Z"
    },
    "collapsed": false
   },
   "outputs": [],
   "source": []
  },
  {
   "cell_type": "code",
   "execution_count": 5,
   "id": "fa3f17670d0ac36d",
   "metadata": {
    "ExecuteTime": {
     "end_time": "2024-03-07T18:34:55.927270Z",
     "start_time": "2024-03-07T18:34:55.926229Z"
    },
    "collapsed": false
   },
   "outputs": [],
   "source": []
  }
 ],
 "metadata": {
  "kernelspec": {
   "display_name": "Python 3",
   "language": "python",
   "name": "python3"
  },
  "language_info": {
   "codemirror_mode": {
    "name": "ipython",
    "version": 2
   },
   "file_extension": ".py",
   "mimetype": "text/x-python",
   "name": "python",
   "nbconvert_exporter": "python",
   "pygments_lexer": "ipython2",
   "version": "2.7.6"
  }
 },
 "nbformat": 4,
 "nbformat_minor": 5
}
