{
 "cells": [
  {
   "cell_type": "code",
   "execution_count": 1,
   "id": "initial_id",
   "metadata": {
    "ExecuteTime": {
     "end_time": "2024-03-11T22:36:17.196665Z",
     "start_time": "2024-03-11T22:36:15.793098Z"
    },
    "collapsed": true
   },
   "outputs": [
    {
     "name": "stderr",
     "output_type": "stream",
     "text": [
      "/Users/alex/anaconda3/envs/bigraph-experiment/lib/python3.10/site-packages/pydantic/_internal/_generate_schema.py:386: UserWarning: <built-in function any> is not a Python type (it may be an instance of an object), Pydantic will allow any object with no validation since we cannot even enforce that the input is an instance of the given type. To get rid of this error wrap the type with `pydantic.SkipValidation`.\n",
      "  warn(\n"
     ]
    },
    {
     "name": "stdout",
     "output_type": "stream",
     "text": [
      "CobraProcess registered successfully.\n",
      "CopasiProcess registered successfully.\n",
      "TelluriumProcess registered successfully.\n",
      "DeterministicTimeCourseParameterScan registered successfully.\n"
     ]
    },
    {
     "data": {
      "text/plain": [
       "True"
      ]
     },
     "execution_count": 1,
     "metadata": {},
     "output_type": "execute_result"
    }
   ],
   "source": [
    "import sys\n",
    "\n",
    "sys.path.insert(0, '..')\n",
    "import os\n",
    "from biosimulator_processes.process_bigraph import pp, pf\n",
    "from biosimulator_processes.data_model import *\n",
    "from biosimulator_processes.biosimulator_builder import BiosimulatorBuilder\n",
    "from biosimulator_processes.builder.builder_api import test_data_model \n",
    "from biosimulator_processes.processes.copasi_process import CopasiProcess\n",
    "from biosimulator_processes.process_bigraph.experiments.minimal_gillespie import EXPORT\n",
    "from biosimulator_processes.process_bigraph import ProcessTypes\n",
    "from biosimulator_processes.builder.builder_api import Builder \n",
    "from biosimulator_processes.bigraph_schema.registry import map_type_to_pydantic\n",
    "\n",
    "model_filepath = '../biosimulator_processes/model_files/BIOMD0000000061_url.xml'\n",
    "\n",
    "os.path.exists(model_filepath)"
   ]
  },
  {
   "cell_type": "code",
   "execution_count": 2,
   "id": "be88f604d8b59e6c",
   "metadata": {
    "ExecuteTime": {
     "end_time": "2024-03-11T22:36:17.704361Z",
     "start_time": "2024-03-11T22:36:17.529239Z"
    },
    "collapsed": false
   },
   "outputs": [
    {
     "ename": "ValidationError",
     "evalue": "1 validation error for TimeCourseModel\nmodel_source\n  Field required [type=missing, input_value={'model_id': 'BIOMODEL'}, input_type=dict]\n    For further information visit https://errors.pydantic.dev/2.6/v/missing",
     "output_type": "error",
     "traceback": [
      "\u001b[0;31m---------------------------------------------------------------------------\u001b[0m",
      "\u001b[0;31mValidationError\u001b[0m                           Traceback (most recent call last)",
      "Cell \u001b[0;32mIn[2], line 1\u001b[0m\n\u001b[0;32m----> 1\u001b[0m copasi_process_model \u001b[38;5;241m=\u001b[39m \u001b[43mTimeCourseModel\u001b[49m\u001b[43m(\u001b[49m\n\u001b[1;32m      2\u001b[0m \u001b[43m    \u001b[49m\u001b[43mmodel_id\u001b[49m\u001b[38;5;241;43m=\u001b[39;49m\u001b[38;5;124;43m'\u001b[39;49m\u001b[38;5;124;43mBIOMODEL\u001b[39;49m\u001b[38;5;124;43m'\u001b[39;49m\u001b[43m,\u001b[49m\n\u001b[1;32m      3\u001b[0m \u001b[43m   \u001b[49m\u001b[38;5;66;43;03m#  model_source=model_filepath\u001b[39;49;00m\n\u001b[1;32m      4\u001b[0m \u001b[43m)\u001b[49m\n",
      "File \u001b[0;32m~/anaconda3/envs/bigraph-experiment/lib/python3.10/site-packages/pydantic/main.py:171\u001b[0m, in \u001b[0;36mBaseModel.__init__\u001b[0;34m(self, **data)\u001b[0m\n\u001b[1;32m    169\u001b[0m \u001b[38;5;66;03m# `__tracebackhide__` tells pytest and some other tools to omit this function from tracebacks\u001b[39;00m\n\u001b[1;32m    170\u001b[0m __tracebackhide__ \u001b[38;5;241m=\u001b[39m \u001b[38;5;28;01mTrue\u001b[39;00m\n\u001b[0;32m--> 171\u001b[0m \u001b[38;5;28;43mself\u001b[39;49m\u001b[38;5;241;43m.\u001b[39;49m\u001b[43m__pydantic_validator__\u001b[49m\u001b[38;5;241;43m.\u001b[39;49m\u001b[43mvalidate_python\u001b[49m\u001b[43m(\u001b[49m\u001b[43mdata\u001b[49m\u001b[43m,\u001b[49m\u001b[43m \u001b[49m\u001b[43mself_instance\u001b[49m\u001b[38;5;241;43m=\u001b[39;49m\u001b[38;5;28;43mself\u001b[39;49m\u001b[43m)\u001b[49m\n",
      "\u001b[0;31mValidationError\u001b[0m: 1 validation error for TimeCourseModel\nmodel_source\n  Field required [type=missing, input_value={'model_id': 'BIOMODEL'}, input_type=dict]\n    For further information visit https://errors.pydantic.dev/2.6/v/missing"
     ]
    }
   ],
   "source": [
    "copasi_process_model = TimeCourseModel(\n",
    "    model_id='BIOMODEL',\n",
    "   #  model_source=model_filepath\n",
    ")"
   ]
  },
  {
   "cell_type": "code",
   "execution_count": null,
   "id": "8a78bcd293086964",
   "metadata": {
    "collapsed": false
   },
   "outputs": [],
   "source": [
    "from biosimulator_processes.data_model import MODEL_TYPE\n",
    "\n",
    "\n",
    "pydantic_type = map_type_to_pydantic('tree[string]')"
   ]
  },
  {
   "cell_type": "code",
   "execution_count": null,
   "id": "4354acb48efe45e8",
   "metadata": {
    "collapsed": false
   },
   "outputs": [],
   "source": [
    "pydantic_type"
   ]
  },
  {
   "cell_type": "code",
   "execution_count": null,
   "id": "a81442508cb937a",
   "metadata": {
    "collapsed": false
   },
   "outputs": [],
   "source": [
    "core = ProcessTypes()\n",
    "b = Builder(core=core)"
   ]
  },
  {
   "cell_type": "code",
   "execution_count": null,
   "id": "2c38653b5105c843",
   "metadata": {
    "collapsed": false
   },
   "outputs": [],
   "source": [
    "b.register_type('time_course_model', MODEL_TYPE)"
   ]
  },
  {
   "cell_type": "code",
   "execution_count": null,
   "id": "f62e785fa0c127e6",
   "metadata": {
    "collapsed": false
   },
   "outputs": [],
   "source": [
    "b.register_process('CopasiProcess', CopasiProcess)"
   ]
  },
  {
   "cell_type": "code",
   "execution_count": null,
   "id": "1eaa9aa631790362",
   "metadata": {
    "collapsed": false
   },
   "outputs": [],
   "source": [
    "model = b.get_pydantic_model('CopasiProcess')"
   ]
  },
  {
   "cell_type": "code",
   "execution_count": null,
   "id": "8ee49f878b7131ff",
   "metadata": {
    "collapsed": false
   },
   "outputs": [],
   "source": [
    "copasi = model(model=copasi_process_model.model_dump(), method='stochastic')"
   ]
  },
  {
   "cell_type": "code",
   "execution_count": null,
   "id": "67f2c7d3c3bf2bb8",
   "metadata": {
    "collapsed": false
   },
   "outputs": [],
   "source": [
    "copasi.model"
   ]
  },
  {
   "cell_type": "code",
   "execution_count": null,
   "id": "b270562c71bfe55c",
   "metadata": {
    "collapsed": false
   },
   "outputs": [],
   "source": [
    "b.register_type()"
   ]
  }
 ],
 "metadata": {
  "kernelspec": {
   "display_name": "Python 3",
   "language": "python",
   "name": "python3"
  },
  "language_info": {
   "codemirror_mode": {
    "name": "ipython",
    "version": 2
   },
   "file_extension": ".py",
   "mimetype": "text/x-python",
   "name": "python",
   "nbconvert_exporter": "python",
   "pygments_lexer": "ipython2",
   "version": "2.7.6"
  }
 },
 "nbformat": 4,
 "nbformat_minor": 5
}
