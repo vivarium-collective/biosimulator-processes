{
 "cells": [
  {
   "cell_type": "code",
   "execution_count": 1,
   "id": "initial_id",
   "metadata": {
    "ExecuteTime": {
     "end_time": "2024-03-07T23:39:21.361282Z",
     "start_time": "2024-03-07T23:39:19.691698Z"
    },
    "collapsed": true
   },
   "outputs": [
    {
     "name": "stdout",
     "output_type": "stream",
     "text": [
      "CobraProcess registered successfully.\n",
      "CopasiProcess registered successfully.\n",
      "TelluriumProcess registered successfully.\n",
      "DeterministicTimeCourseParameterScan registered successfully.\n"
     ]
    },
    {
     "data": {
      "text/plain": [
       "True"
      ]
     },
     "execution_count": 1,
     "metadata": {},
     "output_type": "execute_result"
    }
   ],
   "source": [
    "import sys\n",
    "\n",
    "sys.path.insert(0, '..')\n",
    "import os\n",
    "from biosimulator_processes.process_bigraph import pp, pf\n",
    "from biosimulator_processes.data_model import *\n",
    "from biosimulator_processes.biosimulator_builder import BiosimulatorBuilder\n",
    "\n",
    "\n",
    "model_filepath = '../biosimulator_processes/model_files/BIOMD0000000061_url.xml'\n",
    "\n",
    "os.path.exists(model_filepath)"
   ]
  },
  {
   "cell_type": "code",
   "execution_count": 1,
   "id": "7e75da35b0b21814",
   "metadata": {
    "ExecuteTime": {
     "end_time": "2024-03-07T23:37:01.224978Z",
     "start_time": "2024-03-07T23:37:01.220521Z"
    },
    "collapsed": false
   },
   "outputs": [],
   "source": [
    "x = {'a': '234', 'b': 20}\n",
    "\n"
   ]
  },
  {
   "cell_type": "code",
   "execution_count": 2,
   "id": "fa3f17670d0ac36d",
   "metadata": {
    "ExecuteTime": {
     "end_time": "2024-03-07T23:37:03.460878Z",
     "start_time": "2024-03-07T23:37:01.998991Z"
    },
    "collapsed": false
   },
   "outputs": [
    {
     "name": "stdout",
     "output_type": "stream",
     "text": [
      "CobraProcess registered successfully.\n",
      "CopasiProcess registered successfully.\n",
      "TelluriumProcess registered successfully.\n",
      "DeterministicTimeCourseParameterScan registered successfully.\n"
     ]
    }
   ],
   "source": [
    "from biosimulator_processes.data_model import dynamic_process_config as DPC\n",
    "\n",
    "\n",
    "config = DPC(config=x, age=29)"
   ]
  },
  {
   "cell_type": "code",
   "execution_count": null,
   "id": "6a0658ae3b5a88b4",
   "metadata": {
    "collapsed": false
   },
   "outputs": [],
   "source": [
    "human_config = {\n",
    "    'species': 'human',\n",
    "    'origin': 'USA'}\n",
    "\n",
    "\n",
    "rose_config = DPC(\n",
    "    name='rose',\n",
    "    config=human_config,\n",
    "    age=29,\n",
    "    sibilings=1,\n",
    "    car='Toyota'\n",
    ")"
   ]
  },
  {
   "cell_type": "code",
   "execution_count": null,
   "id": "12ca6c6fb5d8b26a",
   "metadata": {
    "collapsed": false
   },
   "outputs": [],
   "source": [
    "rose_config"
   ]
  },
  {
   "cell_type": "code",
   "execution_count": null,
   "id": "d6e8d6eec0134e10",
   "metadata": {
    "collapsed": false
   },
   "outputs": [],
   "source": []
  }
 ],
 "metadata": {
  "kernelspec": {
   "display_name": "Python 3",
   "language": "python",
   "name": "python3"
  },
  "language_info": {
   "codemirror_mode": {
    "name": "ipython",
    "version": 2
   },
   "file_extension": ".py",
   "mimetype": "text/x-python",
   "name": "python",
   "nbconvert_exporter": "python",
   "pygments_lexer": "ipython2",
   "version": "2.7.6"
  }
 },
 "nbformat": 4,
 "nbformat_minor": 5
}
