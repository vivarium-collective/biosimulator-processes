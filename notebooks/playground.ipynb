{
 "cells": [
  {
   "cell_type": "code",
   "execution_count": 2,
   "id": "initial_id",
   "metadata": {
    "ExecuteTime": {
     "end_time": "2024-03-14T21:13:03.985039Z",
     "start_time": "2024-03-14T21:13:03.063026Z"
    },
    "collapsed": true,
    "jupyter": {
     "outputs_hidden": true
    }
   },
   "outputs": [
    {
     "name": "stdout",
     "output_type": "stream",
     "text": [
      "True\n"
     ]
    },
    {
     "data": {
      "text/plain": [
       "<Response [200]>"
      ]
     },
     "execution_count": 2,
     "metadata": {},
     "output_type": "execute_result"
    }
   ],
   "source": [
    "import sys\n",
    "sys.path.insert(0, '..')\n",
    "\n",
    "import os\n",
    "import requests\n",
    "\n",
    "\n",
    "model_filepath = '../biosimulator_processes/model_files/BIOMD0000000061_url.xml'\n",
    "print(os.path.exists(model_filepath))\n",
    "\n",
    "tumor_control_model = 'BIOMD0000000749'\n",
    "requests.get('https://www.ebi.ac.uk/biomodels/BIOMD0000000749', headers={'accept': 'json'})"
   ]
  },
  {
   "cell_type": "code",
   "execution_count": 3,
   "id": "bfbafd76e43d52bd",
   "metadata": {
    "ExecuteTime": {
     "end_time": "2024-03-14T21:13:06.105855Z",
     "start_time": "2024-03-14T21:13:04.482470Z"
    },
    "collapsed": false
   },
   "outputs": [
    {
     "name": "stdout",
     "output_type": "stream",
     "text": [
      "CobraProcess registered successfully.\n",
      "CopasiProcess registered successfully.\n",
      "SmoldynProcess registered successfully.\n",
      "TelluriumProcess registered successfully.\n"
     ]
    }
   ],
   "source": [
    "from dataclasses import dataclass, asdict\n",
    "from biosimulator_processes.biosimulator_builder import BiosimulatorBuilder, BuildPrompter\n",
    "from biosimulator_processes.data_model import TimeCourseModel, TimeCourseModelChanges, ModelChanges, ModelChange"
   ]
  },
  {
   "cell_type": "markdown",
   "id": "8f4a5c2031ed8428",
   "metadata": {
    "collapsed": false
   },
   "source": [
    "#### Define a simple process composition configuration according to the CopasiProcess implementation (which is known by the type system/implementation as 'config_schema') with a SBML model filepath via the highest-level BioBuilder API:"
   ]
  },
  {
   "cell_type": "markdown",
   "id": "2a5b74c8b92ae5e0",
   "metadata": {
    "collapsed": false
   },
   "source": [
    "#### Experiment 1:  Here we cross a boundary in the stack that is a biological simulation. We go from model configuration, to experiment. Thus, this tooling sits at that level: both experiment specification AND experiment execution. It's not just a way to specify an experiment, but it is also a way to run it, given the many knobs and buttons that you can use predefine and customize the way the actual model is being solved. We should make a bigger distinction between terms like \"model\"."
   ]
  },
  {
   "cell_type": "code",
   "execution_count": 4,
   "id": "4f88a98e976b773b",
   "metadata": {
    "ExecuteTime": {
     "end_time": "2024-03-14T21:13:14.630832Z",
     "start_time": "2024-03-14T21:13:14.627443Z"
    },
    "collapsed": false
   },
   "outputs": [],
   "source": [
    "# 1. define a model for the process composition. In this case, just one model to be re-used as configuration for the processes we create.\n",
    "\n",
    "tc_model = TimeCourseModel(model_source=model_filepath)"
   ]
  },
  {
   "cell_type": "code",
   "execution_count": 5,
   "id": "8f1fae37596bd490",
   "metadata": {
    "ExecuteTime": {
     "end_time": "2024-03-14T21:13:16.308355Z",
     "start_time": "2024-03-14T21:13:16.303857Z"
    },
    "collapsed": false
   },
   "outputs": [
    {
     "data": {
      "text/plain": [
       "TimeCourseModel(model_source='../biosimulator_processes/model_files/BIOMD0000000061_url.xml', model_id='../biosimulator_processes/model_files/BIOMD0000000061_url.xml_Model')"
      ]
     },
     "execution_count": 5,
     "metadata": {},
     "output_type": "execute_result"
    }
   ],
   "source": [
    "tc_model"
   ]
  },
  {
   "cell_type": "code",
   "execution_count": 4,
   "id": "d498e086a4dc7ed8",
   "metadata": {
    "ExecuteTime": {
     "end_time": "2024-03-14T21:10:25.595359Z",
     "start_time": "2024-03-14T21:10:25.594198Z"
    },
    "collapsed": false
   },
   "outputs": [],
   "source": []
  }
 ],
 "metadata": {
  "kernelspec": {
   "display_name": "Python 3 (ipykernel)",
   "language": "python",
   "name": "python3"
  },
  "language_info": {
   "codemirror_mode": {
    "name": "ipython",
    "version": 3
   },
   "file_extension": ".py",
   "mimetype": "text/x-python",
   "name": "python",
   "nbconvert_exporter": "python",
   "pygments_lexer": "ipython3",
   "version": "3.10.13"
  }
 },
 "nbformat": 4,
 "nbformat_minor": 5
}
