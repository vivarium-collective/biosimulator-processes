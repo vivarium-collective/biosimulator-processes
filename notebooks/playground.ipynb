{
 "cells": [
  {
   "cell_type": "code",
   "execution_count": 1,
   "id": "initial_id",
   "metadata": {
    "ExecuteTime": {
     "end_time": "2024-03-14T23:09:32.110205Z",
     "start_time": "2024-03-14T23:09:30.905872Z"
    },
    "collapsed": true,
    "jupyter": {
     "outputs_hidden": true
    }
   },
   "outputs": [
    {
     "name": "stdout",
     "output_type": "stream",
     "text": [
      "True\n"
     ]
    },
    {
     "data": {
      "text/plain": [
       "<Response [200]>"
      ]
     },
     "execution_count": 1,
     "metadata": {},
     "output_type": "execute_result"
    }
   ],
   "source": [
    "import sys\n",
    "sys.path.insert(0, '..')\n",
    "\n",
    "import os\n",
    "import requests\n",
    "\n",
    "\n",
    "caravagna_model_filepath = '../biosimulator_processes/model_files/Caravagna2010.xml'\n",
    "print(os.path.exists(caravagna_model_filepath))\n",
    "\n",
    "tumor_control_biomodel_id = 'BIOMD0000000749'\n",
    "requests.get('https://www.ebi.ac.uk/biomodels/BIOMD0000000749', headers={'accept': 'json'})"
   ]
  },
  {
   "cell_type": "code",
   "execution_count": 2,
   "id": "bfbafd76e43d52bd",
   "metadata": {
    "ExecuteTime": {
     "end_time": "2024-03-14T23:09:33.761677Z",
     "start_time": "2024-03-14T23:09:32.112467Z"
    },
    "collapsed": false
   },
   "outputs": [
    {
     "name": "stdout",
     "output_type": "stream",
     "text": [
      "CobraProcess registered successfully.\n",
      "CopasiProcess registered successfully.\n",
      "SmoldynProcess registered successfully.\n",
      "TelluriumProcess registered successfully.\n"
     ]
    }
   ],
   "source": [
    "from dataclasses import dataclass, asdict\n",
    "from biosimulator_processes.biosimulator_builder import BiosimulatorBuilder, BuildPrompter\n",
    "from biosimulator_processes.data_model import TimeCourseModel, TimeCourseModelChanges, ModelChanges, ModelChange"
   ]
  },
  {
   "cell_type": "markdown",
   "id": "8f4a5c2031ed8428",
   "metadata": {
    "collapsed": false
   },
   "source": [
    "#### Let's define a simple process composition configuration according to the CopasiProcess implementation (which is known by the type system/implementation as 'config_schema') with a valid BioModels ID via the highest-level BioBuilder API:"
   ]
  },
  {
   "cell_type": "markdown",
   "id": "2a5b74c8b92ae5e0",
   "metadata": {
    "collapsed": false
   },
   "source": [
    "#### **_Experiment 1_**:  Here we cross a boundary in the stack that is a biological simulation. We go from model configuration, to experiment. Thus, this tooling sits at that level: both experiment specification AND experiment execution. It's not just a way to specify an experiment, but it is also a way to run it, given the many knobs and buttons that you can use predefine and customize the way the actual model is being solved. Our users are seeking to be involved in an experiment as a \"stack\". We should make a bigger distinction between terms like \"model\"."
   ]
  },
  {
   "cell_type": "code",
   "execution_count": 3,
   "id": "4f88a98e976b773b",
   "metadata": {
    "ExecuteTime": {
     "end_time": "2024-03-14T23:09:33.764287Z",
     "start_time": "2024-03-14T23:09:33.762576Z"
    },
    "collapsed": false
   },
   "outputs": [],
   "source": [
    "# 1. define a model for the process composition. In this case, just one model to be re-used as configuration for the processes we create:\n",
    "\n",
    "tc_model = TimeCourseModel(model_source=tumor_control_biomodel_id)"
   ]
  },
  {
   "cell_type": "code",
   "execution_count": 4,
   "id": "8f1fae37596bd490",
   "metadata": {
    "ExecuteTime": {
     "end_time": "2024-03-14T23:09:33.766620Z",
     "start_time": "2024-03-14T23:09:33.764867Z"
    },
    "collapsed": false
   },
   "outputs": [
    {
     "data": {
      "text/plain": [
       "TimeCourseModel(model_source='BIOMD0000000749', model_id='model_from_BIOMD0000000749', model_name='model_from_BIOMD0000000749', model_language='sbml', model_changes=None, model_units=None)"
      ]
     },
     "execution_count": 4,
     "metadata": {},
     "output_type": "execute_result"
    }
   ],
   "source": [
    "# >> The model is viewable as a dataclass...\n",
    "\n",
    "tc_model"
   ]
  },
  {
   "cell_type": "code",
   "execution_count": 5,
   "id": "f597dfd5b844ac66",
   "metadata": {
    "ExecuteTime": {
     "end_time": "2024-03-14T23:09:33.769579Z",
     "start_time": "2024-03-14T23:09:33.767737Z"
    },
    "collapsed": false
   },
   "outputs": [
    {
     "data": {
      "text/plain": [
       "{'model_source': 'BIOMD0000000749',\n",
       " 'model_id': 'model_from_BIOMD0000000749',\n",
       " 'model_name': 'model_from_BIOMD0000000749',\n",
       " 'model_language': 'sbml',\n",
       " 'model_changes': None,\n",
       " 'model_units': None}"
      ]
     },
     "execution_count": 5,
     "metadata": {},
     "output_type": "execute_result"
    }
   ],
   "source": [
    "# >> ...or a dict:\n",
    "\n",
    "tc_model.dump()"
   ]
  },
  {
   "cell_type": "code",
   "execution_count": 6,
   "id": "b0cdfd23eed6ffd5",
   "metadata": {
    "ExecuteTime": {
     "end_time": "2024-03-14T23:09:33.771354Z",
     "start_time": "2024-03-14T23:09:33.770116Z"
    },
    "collapsed": false
   },
   "outputs": [],
   "source": [
    "# 2. instantiate the prompter:\n",
    "\n",
    "prompter = BuildPrompter()"
   ]
  },
  {
   "cell_type": "code",
   "execution_count": 7,
   "id": "61f91526ffa94a73",
   "metadata": {
    "ExecuteTime": {
     "end_time": "2024-03-14T23:09:41.822933Z",
     "start_time": "2024-03-14T23:09:33.772153Z"
    },
    "collapsed": false
   },
   "outputs": [
    {
     "ename": "ValidationError",
     "evalue": "1 validation error for CopasiProcessConfigModel\nmodel\n  Field required [type=missing, input_value={'model_source': 'BIOMD00...ne, 'model_units': None}, input_type=dict]\n    For further information visit https://errors.pydantic.dev/2.6/v/missing",
     "output_type": "error",
     "traceback": [
      "\u001b[0;31m---------------------------------------------------------------------------\u001b[0m",
      "\u001b[0;31mValidationError\u001b[0m                           Traceback (most recent call last)",
      "Cell \u001b[0;32mIn[7], line 3\u001b[0m\n\u001b[1;32m      1\u001b[0m \u001b[38;5;66;03m# 3. add process(es) to the bigraph with the Time Course model instance we created above. For now, just one process will be added.\u001b[39;00m\n\u001b[0;32m----> 3\u001b[0m \u001b[43mprompter\u001b[49m\u001b[38;5;241;43m.\u001b[39;49m\u001b[43madd_single_process\u001b[49m\u001b[43m(\u001b[49m\u001b[43mconfig\u001b[49m\u001b[38;5;241;43m=\u001b[39;49m\u001b[43mtc_model\u001b[49m\u001b[43m)\u001b[49m\n",
      "File \u001b[0;32m~/Desktop/uchc_work/repos/biosimulator-processes/notebooks/../biosimulator_processes/biosimulator_builder.py:84\u001b[0m, in \u001b[0;36mBuildPrompter.add_single_process\u001b[0;34m(self, builder, process_type, config, builder_node_name)\u001b[0m\n\u001b[1;32m     81\u001b[0m DynamicProcessConfig \u001b[38;5;241m=\u001b[39m \u001b[38;5;28mself\u001b[39m\u001b[38;5;241m.\u001b[39mbuilder_instance\u001b[38;5;241m.\u001b[39mget_pydantic_model(process_type)\n\u001b[1;32m     83\u001b[0m input_kwargs \u001b[38;5;241m=\u001b[39m \u001b[38;5;28mself\u001b[39m\u001b[38;5;241m.\u001b[39mgenerate_input_kwargs() \u001b[38;5;28;01mif\u001b[39;00m config \u001b[38;5;129;01mis\u001b[39;00m \u001b[38;5;28;01mNone\u001b[39;00m \u001b[38;5;28;01melse\u001b[39;00m config\u001b[38;5;241m.\u001b[39mto_dict()\n\u001b[0;32m---> 84\u001b[0m dynamic_config \u001b[38;5;241m=\u001b[39m \u001b[43mDynamicProcessConfig\u001b[49m\u001b[43m(\u001b[49m\u001b[38;5;241;43m*\u001b[39;49m\u001b[38;5;241;43m*\u001b[39;49m\u001b[43minput_kwargs\u001b[49m\u001b[43m)\u001b[49m\n\u001b[1;32m     85\u001b[0m \u001b[38;5;28mself\u001b[39m\u001b[38;5;241m.\u001b[39mbuilder_instance\u001b[38;5;241m.\u001b[39madd_process(\n\u001b[1;32m     86\u001b[0m     process_id\u001b[38;5;241m=\u001b[39mbuilder_node_name,\n\u001b[1;32m     87\u001b[0m     name\u001b[38;5;241m=\u001b[39mprocess_type,\n\u001b[1;32m     88\u001b[0m     config\u001b[38;5;241m=\u001b[39mdynamic_config)  \u001b[38;5;66;03m# {**input_kwargs})\u001b[39;00m\n\u001b[1;32m     90\u001b[0m \u001b[38;5;28mprint\u001b[39m(\u001b[38;5;124mf\u001b[39m\u001b[38;5;124m'\u001b[39m\u001b[38;5;132;01m{\u001b[39;00mbuilder_node_name\u001b[38;5;132;01m}\u001b[39;00m\u001b[38;5;124m process successfully added to the bi-graph!\u001b[39m\u001b[38;5;130;01m\\n\u001b[39;00m\u001b[38;5;124m'\u001b[39m)\n",
      "File \u001b[0;32m~/anaconda3/envs/experiment/lib/python3.10/site-packages/pydantic/main.py:171\u001b[0m, in \u001b[0;36mBaseModel.__init__\u001b[0;34m(self, **data)\u001b[0m\n\u001b[1;32m    169\u001b[0m \u001b[38;5;66;03m# `__tracebackhide__` tells pytest and some other tools to omit this function from tracebacks\u001b[39;00m\n\u001b[1;32m    170\u001b[0m __tracebackhide__ \u001b[38;5;241m=\u001b[39m \u001b[38;5;28;01mTrue\u001b[39;00m\n\u001b[0;32m--> 171\u001b[0m \u001b[38;5;28;43mself\u001b[39;49m\u001b[38;5;241;43m.\u001b[39;49m\u001b[43m__pydantic_validator__\u001b[49m\u001b[38;5;241;43m.\u001b[39;49m\u001b[43mvalidate_python\u001b[49m\u001b[43m(\u001b[49m\u001b[43mdata\u001b[49m\u001b[43m,\u001b[49m\u001b[43m \u001b[49m\u001b[43mself_instance\u001b[49m\u001b[38;5;241;43m=\u001b[39;49m\u001b[38;5;28;43mself\u001b[39;49m\u001b[43m)\u001b[49m\n",
      "\u001b[0;31mValidationError\u001b[0m: 1 validation error for CopasiProcessConfigModel\nmodel\n  Field required [type=missing, input_value={'model_source': 'BIOMD00...ne, 'model_units': None}, input_type=dict]\n    For further information visit https://errors.pydantic.dev/2.6/v/missing"
     ]
    }
   ],
   "source": [
    "# 3. add process(es) to the bigraph with the Time Course model instance we created above. For now, just one process will be added.\n",
    "\n",
    "prompter.add_single_process(config=tc_model)"
   ]
  },
  {
   "cell_type": "code",
   "execution_count": null,
   "id": "445f7be4212f922a",
   "metadata": {
    "ExecuteTime": {
     "end_time": "2024-03-14T23:09:41.823875Z",
     "start_time": "2024-03-14T23:09:41.823818Z"
    },
    "collapsed": false
   },
   "outputs": [],
   "source": []
  }
 ],
 "metadata": {
  "kernelspec": {
   "display_name": "Python 3 (ipykernel)",
   "language": "python",
   "name": "python3"
  },
  "language_info": {
   "codemirror_mode": {
    "name": "ipython",
    "version": 3
   },
   "file_extension": ".py",
   "mimetype": "text/x-python",
   "name": "python",
   "nbconvert_exporter": "python",
   "pygments_lexer": "ipython3",
   "version": "3.10.13"
  }
 },
 "nbformat": 4,
 "nbformat_minor": 5
}
