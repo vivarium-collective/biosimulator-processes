{
 "cells": [
  {
   "cell_type": "code",
   "execution_count": 1,
   "id": "initial_id",
   "metadata": {
    "ExecuteTime": {
     "end_time": "2024-03-14T22:30:54.108197Z",
     "start_time": "2024-03-14T22:30:53.070261Z"
    },
    "collapsed": true,
    "jupyter": {
     "outputs_hidden": true
    }
   },
   "outputs": [
    {
     "name": "stdout",
     "output_type": "stream",
     "text": [
      "True\n"
     ]
    },
    {
     "data": {
      "text/plain": [
       "<Response [200]>"
      ]
     },
     "execution_count": 1,
     "metadata": {},
     "output_type": "execute_result"
    }
   ],
   "source": [
    "import sys\n",
    "sys.path.insert(0, '..')\n",
    "\n",
    "import os\n",
    "import requests\n",
    "\n",
    "\n",
    "caravagna_model_filepath = '../biosimulator_processes/model_files/Caravagna2010.xml'\n",
    "print(os.path.exists(caravagna_model_filepath))\n",
    "\n",
    "tumor_control_biomodel_id = 'BIOMD0000000749'\n",
    "requests.get('https://www.ebi.ac.uk/biomodels/BIOMD0000000749', headers={'accept': 'json'})"
   ]
  },
  {
   "cell_type": "code",
   "execution_count": 2,
   "id": "bfbafd76e43d52bd",
   "metadata": {
    "ExecuteTime": {
     "end_time": "2024-03-14T22:30:55.654519Z",
     "start_time": "2024-03-14T22:30:54.110910Z"
    },
    "collapsed": false
   },
   "outputs": [
    {
     "name": "stdout",
     "output_type": "stream",
     "text": [
      "CobraProcess registered successfully.\n",
      "CopasiProcess registered successfully.\n",
      "SmoldynProcess registered successfully.\n",
      "TelluriumProcess registered successfully.\n"
     ]
    }
   ],
   "source": [
    "from dataclasses import dataclass, asdict\n",
    "from biosimulator_processes.biosimulator_builder import BiosimulatorBuilder, BuildPrompter\n",
    "from biosimulator_processes.data_model import TimeCourseModel, TimeCourseModelChanges, ModelChanges, ModelChange"
   ]
  },
  {
   "cell_type": "markdown",
   "id": "8f4a5c2031ed8428",
   "metadata": {
    "collapsed": false
   },
   "source": [
    "#### Let's define a simple process composition configuration according to the CopasiProcess implementation (which is known by the type system/implementation as 'config_schema') with a valid BioModels ID via the highest-level BioBuilder API:"
   ]
  },
  {
   "cell_type": "markdown",
   "id": "2a5b74c8b92ae5e0",
   "metadata": {
    "collapsed": false
   },
   "source": [
    "#### **_Experiment 1_**:  Here we cross a boundary in the stack that is a biological simulation. We go from model configuration, to experiment. Thus, this tooling sits at that level: both experiment specification AND experiment execution. It's not just a way to specify an experiment, but it is also a way to run it, given the many knobs and buttons that you can use predefine and customize the way the actual model is being solved. Our users are seeking to be involved in an experiment as a \"stack\". We should make a bigger distinction between terms like \"model\"."
   ]
  },
  {
   "cell_type": "code",
   "execution_count": 3,
   "id": "4f88a98e976b773b",
   "metadata": {
    "ExecuteTime": {
     "end_time": "2024-03-14T22:30:55.657019Z",
     "start_time": "2024-03-14T22:30:55.655234Z"
    },
    "collapsed": false
   },
   "outputs": [],
   "source": [
    "# 1. define a model for the process composition. In this case, just one model to be re-used as configuration for the processes we create:\n",
    "\n",
    "tc_model = TimeCourseModel(model_source=tumor_control_biomodel_id)"
   ]
  },
  {
   "cell_type": "code",
   "execution_count": 4,
   "id": "8f1fae37596bd490",
   "metadata": {
    "ExecuteTime": {
     "end_time": "2024-03-14T22:30:55.659761Z",
     "start_time": "2024-03-14T22:30:55.657600Z"
    },
    "collapsed": false
   },
   "outputs": [
    {
     "data": {
      "text/plain": [
       "TimeCourseModel(model_source='BIOMD0000000749', model_id='model_from_BIOMD0000000749', model_name='model_from_BIOMD0000000749', model_language='sbml', model_changes=None, model_units=None)"
      ]
     },
     "execution_count": 4,
     "metadata": {},
     "output_type": "execute_result"
    }
   ],
   "source": [
    "# >> The model is viewable as a dataclass...\n",
    "\n",
    "tc_model"
   ]
  },
  {
   "cell_type": "code",
   "execution_count": 5,
   "id": "f597dfd5b844ac66",
   "metadata": {
    "ExecuteTime": {
     "end_time": "2024-03-14T22:30:55.663280Z",
     "start_time": "2024-03-14T22:30:55.661186Z"
    },
    "collapsed": false
   },
   "outputs": [
    {
     "data": {
      "text/plain": [
       "{'model_source': 'BIOMD0000000749',\n",
       " 'model_id': 'model_from_BIOMD0000000749',\n",
       " 'model_name': 'model_from_BIOMD0000000749',\n",
       " 'model_language': 'sbml',\n",
       " 'model_changes': None,\n",
       " 'model_units': None}"
      ]
     },
     "execution_count": 5,
     "metadata": {},
     "output_type": "execute_result"
    }
   ],
   "source": [
    "# >> ...or a dict:\n",
    "\n",
    "tc_model.dump()"
   ]
  },
  {
   "cell_type": "code",
   "execution_count": 7,
   "id": "b0cdfd23eed6ffd5",
   "metadata": {
    "ExecuteTime": {
     "end_time": "2024-03-14T22:36:41.108867Z",
     "start_time": "2024-03-14T22:36:41.087711Z"
    },
    "collapsed": false
   },
   "outputs": [
    {
     "ename": "TypeError",
     "evalue": "BuildPrompter.execute() missing 3 required positional arguments: 'self', 'num', and 'duration'",
     "output_type": "error",
     "traceback": [
      "\u001b[0;31m---------------------------------------------------------------------------\u001b[0m",
      "\u001b[0;31mTypeError\u001b[0m                                 Traceback (most recent call last)",
      "Cell \u001b[0;32mIn[7], line 3\u001b[0m\n\u001b[1;32m      1\u001b[0m \u001b[38;5;66;03m# 2. instantiate the prompter:\u001b[39;00m\n\u001b[0;32m----> 3\u001b[0m \u001b[43mBuildPrompter\u001b[49m\u001b[38;5;241;43m.\u001b[39;49m\u001b[43mexecute\u001b[49m\u001b[43m(\u001b[49m\u001b[43m)\u001b[49m\n",
      "\u001b[0;31mTypeError\u001b[0m: BuildPrompter.execute() missing 3 required positional arguments: 'self', 'num', and 'duration'"
     ]
    }
   ],
   "source": [
    "# 2. instantiate the prompter:\n",
    "\n",
    "BuildPrompter.execute()"
   ]
  },
  {
   "cell_type": "code",
   "execution_count": null,
   "id": "61f91526ffa94a73",
   "metadata": {
    "collapsed": false
   },
   "outputs": [],
   "source": []
  }
 ],
 "metadata": {
  "kernelspec": {
   "display_name": "Python 3 (ipykernel)",
   "language": "python",
   "name": "python3"
  },
  "language_info": {
   "codemirror_mode": {
    "name": "ipython",
    "version": 3
   },
   "file_extension": ".py",
   "mimetype": "text/x-python",
   "name": "python",
   "nbconvert_exporter": "python",
   "pygments_lexer": "ipython3",
   "version": "3.10.13"
  }
 },
 "nbformat": 4,
 "nbformat_minor": 5
}
