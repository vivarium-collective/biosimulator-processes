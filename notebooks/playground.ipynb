{
 "cells": [
  {
   "cell_type": "code",
   "execution_count": null,
   "id": "initial_id",
   "metadata": {
    "collapsed": true
   },
   "outputs": [],
   "source": [
    "import sys\n",
    "\n",
    "sys.path.insert(0, '..')\n",
    "import os\n",
    "from biosimulator_processes.process_bigraph import pp, pf\n",
    "from biosimulator_processes.data_model import *\n",
    "from biosimulator_processes.biosimulator_builder import BiosimulatorBuilder\n",
    "\n",
    "\n",
    "model_filepath = '../biosimulator_processes/model_files/BIOMD0000000061_url.xml'\n",
    "\n",
    "os.path.exists(model_filepath)"
   ]
  },
  {
   "cell_type": "code",
   "execution_count": null,
   "id": "a41f2492d61c0a78",
   "metadata": {
    "collapsed": false
   },
   "outputs": [],
   "source": [
    "class P:\n",
    "    def __init__(self,\n",
    "                 config=None):\n",
    "        self.config = config\n",
    "        if isinstance(self.config, dict):\n",
    "            self.model = TimeCourseModel(**self.config['model'])"
   ]
  },
  {
   "cell_type": "code",
   "execution_count": null,
   "id": "ecfa6009d4f3460a",
   "metadata": {
    "collapsed": false
   },
   "outputs": [],
   "source": [
    "model = {\n",
    "    'model': {\n",
    "        'model_source': model_filepath\n",
    "    }\n",
    "}\n",
    "\n",
    "\n",
    "tc = P(config=model)\n"
   ]
  },
  {
   "cell_type": "code",
   "execution_count": null,
   "id": "7295f58cdf9705b0",
   "metadata": {
    "collapsed": false
   },
   "outputs": [],
   "source": [
    "pp(tc.model.model_dump()), type(tc.model.model_source)"
   ]
  },
  {
   "cell_type": "code",
   "execution_count": null,
   "id": "d77a796138f058d",
   "metadata": {
    "collapsed": false
   },
   "outputs": [],
   "source": [
    "tc.model_id"
   ]
  },
  {
   "cell_type": "code",
   "execution_count": 1,
   "id": "7e75da35b0b21814",
   "metadata": {
    "ExecuteTime": {
     "end_time": "2024-03-07T23:37:01.224978Z",
     "start_time": "2024-03-07T23:37:01.220521Z"
    },
    "collapsed": false
   },
   "outputs": [],
   "source": [
    "x = {'a': '234', 'b': 20}\n",
    "\n"
   ]
  },
  {
   "cell_type": "code",
   "execution_count": 2,
   "id": "fa3f17670d0ac36d",
   "metadata": {
    "ExecuteTime": {
     "end_time": "2024-03-07T23:37:03.460878Z",
     "start_time": "2024-03-07T23:37:01.998991Z"
    },
    "collapsed": false
   },
   "outputs": [
    {
     "name": "stdout",
     "output_type": "stream",
     "text": [
      "CobraProcess registered successfully.\n",
      "CopasiProcess registered successfully.\n",
      "TelluriumProcess registered successfully.\n",
      "DeterministicTimeCourseParameterScan registered successfully.\n"
     ]
    }
   ],
   "source": [
    "from biosimulator_processes.data_model import dynamic_process_config as DPC\n",
    "\n",
    "\n",
    "config = DPC(config=x, age=29)"
   ]
  },
  {
   "cell_type": "code",
   "execution_count": 3,
   "id": "64562ba1c9962ac2",
   "metadata": {
    "ExecuteTime": {
     "end_time": "2024-03-07T23:37:04.205752Z",
     "start_time": "2024-03-07T23:37:04.199054Z"
    },
    "collapsed": false
   },
   "outputs": [
    {
     "data": {
      "text/plain": [
       "ProcessConfig(a='234', b=20, age=29)"
      ]
     },
     "execution_count": 3,
     "metadata": {},
     "output_type": "execute_result"
    }
   ],
   "source": [
    "config"
   ]
  },
  {
   "cell_type": "code",
   "execution_count": null,
   "id": "7c5b2ba3af1933c3",
   "metadata": {
    "collapsed": false
   },
   "outputs": [],
   "source": [
    "from pydantic import create_model\n",
    "\n",
    "\n",
    "def dynamic_config(name: str, config: dict, **kwargs):\n",
    "    config = config or {}\n",
    "    config.update(kwargs)\n",
    "    dynamic_config_types = {}\n",
    "    for param_name, param_val in config.items():\n",
    "        dynamic_config_types[param_name] = (type(param_val), ...)\n",
    "\n",
    "    name = name.replace(name[0], name[0].upper())\n",
    "    DynamicProcessConfig = create_model(\n",
    "            f'{name}ProcessConfig',\n",
    "            **dynamic_config_types\n",
    "    )\n",
    "    return DynamicProcessConfig(**config)"
   ]
  },
  {
   "cell_type": "code",
   "execution_count": null,
   "id": "6a0658ae3b5a88b4",
   "metadata": {
    "collapsed": false
   },
   "outputs": [],
   "source": [
    "human_config = {\n",
    "    'species': 'human',\n",
    "    'origin': 'USA'}\n",
    "\n",
    "\n",
    "rose_config = dynamic_config(\n",
    "    name='rose',\n",
    "    config=human_config,\n",
    "    age=29,\n",
    "    sibilings=1,\n",
    "    car='Toyota'\n",
    ")"
   ]
  },
  {
   "cell_type": "code",
   "execution_count": null,
   "id": "12ca6c6fb5d8b26a",
   "metadata": {
    "collapsed": false
   },
   "outputs": [],
   "source": [
    "rose_config"
   ]
  },
  {
   "cell_type": "code",
   "execution_count": null,
   "id": "d6e8d6eec0134e10",
   "metadata": {
    "collapsed": false
   },
   "outputs": [],
   "source": []
  }
 ],
 "metadata": {
  "kernelspec": {
   "display_name": "Python 3",
   "language": "python",
   "name": "python3"
  },
  "language_info": {
   "codemirror_mode": {
    "name": "ipython",
    "version": 2
   },
   "file_extension": ".py",
   "mimetype": "text/x-python",
   "name": "python",
   "nbconvert_exporter": "python",
   "pygments_lexer": "ipython2",
   "version": "2.7.6"
  }
 },
 "nbformat": 4,
 "nbformat_minor": 5
}
