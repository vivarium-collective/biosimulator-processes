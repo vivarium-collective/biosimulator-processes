{
 "cells": [
  {
   "cell_type": "code",
   "execution_count": 1,
   "id": "initial_id",
   "metadata": {
    "ExecuteTime": {
     "end_time": "2024-03-14T21:23:03.085770Z",
     "start_time": "2024-03-14T21:23:02.039116Z"
    },
    "collapsed": true,
    "jupyter": {
     "outputs_hidden": true
    }
   },
   "outputs": [
    {
     "name": "stdout",
     "output_type": "stream",
     "text": [
      "True\n"
     ]
    },
    {
     "data": {
      "text/plain": [
       "<Response [200]>"
      ]
     },
     "execution_count": 1,
     "metadata": {},
     "output_type": "execute_result"
    }
   ],
   "source": [
    "import sys\n",
    "sys.path.insert(0, '..')\n",
    "\n",
    "import os\n",
    "import requests\n",
    "\n",
    "\n",
    "model_filepath = '../biosimulator_processes/model_files/BIOMD0000000061_url.xml'\n",
    "print(os.path.exists(model_filepath))\n",
    "\n",
    "tumor_control_model = 'BIOMD0000000749'\n",
    "requests.get('https://www.ebi.ac.uk/biomodels/BIOMD0000000749', headers={'accept': 'json'})"
   ]
  },
  {
   "cell_type": "code",
   "execution_count": 2,
   "id": "bfbafd76e43d52bd",
   "metadata": {
    "ExecuteTime": {
     "end_time": "2024-03-14T21:23:04.519443Z",
     "start_time": "2024-03-14T21:23:03.086955Z"
    },
    "collapsed": false
   },
   "outputs": [
    {
     "name": "stdout",
     "output_type": "stream",
     "text": [
      "CobraProcess registered successfully.\n",
      "CopasiProcess registered successfully.\n",
      "SmoldynProcess registered successfully.\n",
      "TelluriumProcess registered successfully.\n"
     ]
    }
   ],
   "source": [
    "from dataclasses import dataclass, asdict\n",
    "from biosimulator_processes.biosimulator_builder import BiosimulatorBuilder, BuildPrompter\n",
    "from biosimulator_processes.data_model import TimeCourseModel, TimeCourseModelChanges, ModelChanges, ModelChange"
   ]
  },
  {
   "cell_type": "markdown",
   "id": "8f4a5c2031ed8428",
   "metadata": {
    "collapsed": false
   },
   "source": [
    "#### Define a simple process composition configuration according to the CopasiProcess implementation (which is known by the type system/implementation as 'config_schema') with a SBML model filepath via the highest-level BioBuilder API:"
   ]
  },
  {
   "cell_type": "markdown",
   "id": "2a5b74c8b92ae5e0",
   "metadata": {
    "collapsed": false
   },
   "source": [
    "#### Experiment 1:  Here we cross a boundary in the stack that is a biological simulation. We go from model configuration, to experiment. Thus, this tooling sits at that level: both experiment specification AND experiment execution. It's not just a way to specify an experiment, but it is also a way to run it, given the many knobs and buttons that you can use predefine and customize the way the actual model is being solved. We should make a bigger distinction between terms like \"model\"."
   ]
  },
  {
   "cell_type": "code",
   "execution_count": 3,
   "id": "4f88a98e976b773b",
   "metadata": {
    "ExecuteTime": {
     "end_time": "2024-03-14T21:23:04.522246Z",
     "start_time": "2024-03-14T21:23:04.520311Z"
    },
    "collapsed": false
   },
   "outputs": [],
   "source": [
    "# 1. define a model for the process composition. In this case, just one model to be re-used as configuration for the processes we create.\n",
    "\n",
    "tc_model = TimeCourseModel(model_source=model_filepath)"
   ]
  },
  {
   "cell_type": "code",
   "execution_count": 4,
   "id": "8f1fae37596bd490",
   "metadata": {
    "ExecuteTime": {
     "end_time": "2024-03-14T21:23:04.525765Z",
     "start_time": "2024-03-14T21:23:04.523435Z"
    },
    "collapsed": false
   },
   "outputs": [
    {
     "data": {
      "text/plain": [
       "TimeCourseModel(model_source='../biosimulator_processes/model_files/BIOMD0000000061_url.xml', model_id='BIOMD0000000061_url.xml_Model')"
      ]
     },
     "execution_count": 4,
     "metadata": {},
     "output_type": "execute_result"
    }
   ],
   "source": [
    "tc_model"
   ]
  },
  {
   "cell_type": "code",
   "execution_count": 5,
   "id": "d498e086a4dc7ed8",
   "metadata": {
    "ExecuteTime": {
     "end_time": "2024-03-14T21:23:15.089802Z",
     "start_time": "2024-03-14T21:23:15.086901Z"
    },
    "collapsed": false
   },
   "outputs": [
    {
     "data": {
      "text/plain": [
       "['__annotations__',\n",
       " '__class__',\n",
       " '__dataclass_fields__',\n",
       " '__dataclass_params__',\n",
       " '__delattr__',\n",
       " '__dict__',\n",
       " '__dir__',\n",
       " '__doc__',\n",
       " '__eq__',\n",
       " '__format__',\n",
       " '__ge__',\n",
       " '__getattribute__',\n",
       " '__gt__',\n",
       " '__hash__',\n",
       " '__init__',\n",
       " '__init_subclass__',\n",
       " '__le__',\n",
       " '__lt__',\n",
       " '__match_args__',\n",
       " '__module__',\n",
       " '__ne__',\n",
       " '__new__',\n",
       " '__reduce__',\n",
       " '__reduce_ex__',\n",
       " '__repr__',\n",
       " '__setattr__',\n",
       " '__sizeof__',\n",
       " '__str__',\n",
       " '__subclasshook__',\n",
       " '__weakref__',\n",
       " 'dump',\n",
       " 'model_changes',\n",
       " 'model_id',\n",
       " 'model_language',\n",
       " 'model_name',\n",
       " 'model_source',\n",
       " 'model_units',\n",
       " 'set_id']"
      ]
     },
     "execution_count": 5,
     "metadata": {},
     "output_type": "execute_result"
    }
   ],
   "source": [
    "dir(tc_model)"
   ]
  },
  {
   "cell_type": "code",
   "execution_count": 6,
   "id": "f597dfd5b844ac66",
   "metadata": {
    "ExecuteTime": {
     "end_time": "2024-03-14T21:23:36.559468Z",
     "start_time": "2024-03-14T21:23:36.556704Z"
    },
    "collapsed": false
   },
   "outputs": [
    {
     "data": {
      "text/plain": [
       "'Unnamed TimeCourse Model'"
      ]
     },
     "execution_count": 6,
     "metadata": {},
     "output_type": "execute_result"
    }
   ],
   "source": [
    "tc_model.model_name"
   ]
  },
  {
   "cell_type": "code",
   "execution_count": null,
   "id": "b0cdfd23eed6ffd5",
   "metadata": {
    "collapsed": false
   },
   "outputs": [],
   "source": []
  }
 ],
 "metadata": {
  "kernelspec": {
   "display_name": "Python 3 (ipykernel)",
   "language": "python",
   "name": "python3"
  },
  "language_info": {
   "codemirror_mode": {
    "name": "ipython",
    "version": 3
   },
   "file_extension": ".py",
   "mimetype": "text/x-python",
   "name": "python",
   "nbconvert_exporter": "python",
   "pygments_lexer": "ipython3",
   "version": "3.10.13"
  }
 },
 "nbformat": 4,
 "nbformat_minor": 5
}
