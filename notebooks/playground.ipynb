{
 "cells": [
  {
   "cell_type": "code",
   "execution_count": 1,
   "id": "initial_id",
   "metadata": {
    "ExecuteTime": {
     "end_time": "2024-03-07T18:34:55.910628Z",
     "start_time": "2024-03-07T18:34:54.100047Z"
    },
    "collapsed": true
   },
   "outputs": [
    {
     "name": "stdout",
     "output_type": "stream",
     "text": [
      "CobraProcess registered successfully.\n",
      "CopasiProcess registered successfully.\n",
      "SmoldynProcess registered successfully.\n",
      "TelluriumProcess registered successfully.\n",
      "DeterministicTimeCourseParameterScan registered successfully.\n"
     ]
    },
    {
     "data": {
      "text/plain": [
       "True"
      ]
     },
     "execution_count": 1,
     "metadata": {},
     "output_type": "execute_result"
    }
   ],
   "source": [
    "import sys\n",
    "\n",
    "sys.path.insert(0, '..')\n",
    "import os\n",
    "from process_bigraph import pp, pf\n",
    "from biosimulator_processes.data_model import *\n",
    "from biosimulator_processes.biosimulator_builder import BiosimulatorBuilder\n",
    "\n",
    "\n",
    "model_filepath = '../biosimulator_processes/model_files/BIOMD0000000061_url.xml'\n",
    "\n",
    "os.path.exists(model_filepath)"
   ]
  },
  {
   "cell_type": "code",
   "execution_count": 6,
   "id": "68cb05b5c9a5a184",
   "metadata": {
    "ExecuteTime": {
     "end_time": "2024-03-07T23:41:52.909903Z",
     "start_time": "2024-03-07T23:41:52.906392Z"
    },
    "collapsed": false
   },
   "outputs": [],
   "source": [
    "from biosimulator_processes.data_model import dynamic_process_config as DynamicProcessConfig"
   ]
  },
  {
   "cell_type": "code",
   "execution_count": 7,
   "id": "598687d66ea4e4bb",
   "metadata": {
    "ExecuteTime": {
     "end_time": "2024-03-07T23:41:53.518784Z",
     "start_time": "2024-03-07T23:41:53.513287Z"
    },
    "collapsed": false
   },
   "outputs": [
    {
     "data": {
      "text/plain": [
       "ProcessConfig(a='234', b=20, age=29)"
      ]
     },
     "execution_count": 7,
     "metadata": {},
     "output_type": "execute_result"
    }
   ],
   "source": [
    "x = {'a': '234', 'b': 20}\n",
    "config = DynamicProcessConfig(config=x, age=29)\n",
    "\n",
    "config"
   ]
  },
  {
   "cell_type": "code",
   "execution_count": 8,
   "id": "3821d2077e715010",
   "metadata": {
    "ExecuteTime": {
     "end_time": "2024-03-07T23:42:10.500508Z",
     "start_time": "2024-03-07T23:42:10.496137Z"
    },
    "collapsed": false
   },
   "outputs": [
    {
     "data": {
      "text/plain": [
       "RoseProcessConfig(species='human', origin='USA', age=29, sibilings=1, car='Toyota')"
      ]
     },
     "execution_count": 8,
     "metadata": {},
     "output_type": "execute_result"
    }
   ],
   "source": [
    "human_config = {\n",
    "    'species': 'human',\n",
    "    'origin': 'USA'}\n",
    "\n",
    "rose_config = DynamicProcessConfig(\n",
    "    name='rose',\n",
    "    config=human_config,\n",
    "    age=29,\n",
    "    sibilings=1,\n",
    "    car='Toyota')\n",
    "\n",
    "\n",
    "rose_config"
   ]
  },
  {
   "cell_type": "code",
   "execution_count": null,
   "id": "cd930a7626b54e0b",
   "metadata": {
    "collapsed": false
   },
   "outputs": [],
   "source": []
  }
 ],
 "metadata": {
  "kernelspec": {
   "display_name": "Python 3",
   "language": "python",
   "name": "python3"
  },
  "language_info": {
   "codemirror_mode": {
    "name": "ipython",
    "version": 2
   },
   "file_extension": ".py",
   "mimetype": "text/x-python",
   "name": "python",
   "nbconvert_exporter": "python",
   "pygments_lexer": "ipython2",
   "version": "2.7.6"
  }
 },
 "nbformat": 4,
 "nbformat_minor": 5
}
