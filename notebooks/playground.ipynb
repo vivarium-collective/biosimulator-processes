{
 "cells": [
  {
   "cell_type": "code",
   "execution_count": 1,
   "id": "initial_id",
   "metadata": {
    "ExecuteTime": {
     "end_time": "2024-03-07T18:34:55.910628Z",
     "start_time": "2024-03-07T18:34:54.100047Z"
    },
    "collapsed": true
   },
   "outputs": [
    {
     "name": "stdout",
     "output_type": "stream",
     "text": [
      "CobraProcess registered successfully.\n",
      "CopasiProcess registered successfully.\n",
      "SmoldynProcess registered successfully.\n",
      "TelluriumProcess registered successfully.\n",
      "DeterministicTimeCourseParameterScan registered successfully.\n"
     ]
    },
    {
     "data": {
      "text/plain": [
       "True"
      ]
     },
     "execution_count": 1,
     "metadata": {},
     "output_type": "execute_result"
    }
   ],
   "source": [
    "import sys\n",
    "\n",
    "sys.path.insert(0, '..')\n",
    "import os\n",
    "from process_bigraph import pp, pf\n",
    "from biosimulator_processes.data_model import *\n",
    "from biosimulator_processes.biosimulator_builder import BiosimulatorBuilder\n",
    "\n",
    "\n",
    "model_filepath = '../biosimulator_processes/model_files/BIOMD0000000061_url.xml'\n",
    "\n",
    "os.path.exists(model_filepath)"
   ]
  },
  {
   "cell_type": "code",
   "execution_count": 6,
   "id": "68cb05b5c9a5a184",
   "metadata": {
    "ExecuteTime": {
     "end_time": "2024-03-07T23:41:52.909903Z",
     "start_time": "2024-03-07T23:41:52.906392Z"
    },
    "collapsed": false
   },
   "outputs": [],
   "source": [
    "from biosimulator_processes.data_model import dynamic_process_config as DynamicProcessConfig"
   ]
  },
  {
   "cell_type": "code",
   "execution_count": 7,
   "id": "598687d66ea4e4bb",
   "metadata": {
    "ExecuteTime": {
     "end_time": "2024-03-07T23:41:53.518784Z",
     "start_time": "2024-03-07T23:41:53.513287Z"
    },
    "collapsed": false
   },
   "outputs": [
    {
     "data": {
      "text/plain": [
       "ProcessConfig(a='234', b=20, age=29)"
      ]
     },
     "execution_count": 7,
     "metadata": {},
     "output_type": "execute_result"
    }
   ],
   "source": [
    "x = {'a': '234', 'b': 20}\n",
    "config = DynamicProcessConfig(config=x, age=29)\n",
    "\n",
    "config"
   ]
  },
  {
   "cell_type": "code",
   "execution_count": 8,
   "id": "3821d2077e715010",
   "metadata": {
    "ExecuteTime": {
     "end_time": "2024-03-07T23:42:10.500508Z",
     "start_time": "2024-03-07T23:42:10.496137Z"
    },
    "collapsed": false
   },
   "outputs": [
    {
     "data": {
      "text/plain": [
       "RoseProcessConfig(species='human', origin='USA', age=29, sibilings=1, car='Toyota')"
      ]
     },
     "execution_count": 8,
     "metadata": {},
     "output_type": "execute_result"
    }
   ],
   "source": [
    "human_config = {\n",
    "    'species': 'human',\n",
    "    'origin': 'USA'}\n",
    "\n",
    "rose_config = DynamicProcessConfig(\n",
    "    name='rose',\n",
    "    config=human_config,\n",
    "    age=29,\n",
    "    sibilings=1,\n",
    "    car='Toyota')\n",
    "\n",
    "\n",
    "rose_config"
   ]
  },
  {
   "cell_type": "code",
   "execution_count": 1,
   "id": "cd930a7626b54e0b",
   "metadata": {
    "ExecuteTime": {
     "end_time": "2024-03-12T16:45:41.217436Z",
     "start_time": "2024-03-12T16:45:39.881714Z"
    },
    "collapsed": false
   },
   "outputs": [
    {
     "name": "stdout",
     "output_type": "stream",
     "text": [
      "CobraProcess registered successfully.\n",
      "CopasiProcess registered successfully.\n",
      "SmoldynProcess not available. Error: \n",
      "PLEASE NOTE: Smoldyn is not correctly installed on your system which prevents you from using the SmoldynProcess. Please refer to the README for further information on installing Smoldyn.\n",
      "TelluriumProcess registered successfully.\n",
      "DeterministicTimeCourseParameterScan registered successfully.\n"
     ]
    },
    {
     "name": "stderr",
     "output_type": "stream",
     "text": [
      "/Users/alex/anaconda3/envs/biosimulator-processess/lib/python3.10/site-packages/pydantic/_internal/_generate_schema.py:386: UserWarning: <built-in function any> is not a Python type (it may be an instance of an object), Pydantic will allow any object with no validation since we cannot even enforce that the input is an instance of the given type. To get rid of this error wrap the type with `pydantic.SkipValidation`.\n",
      "  warn(\n"
     ]
    }
   ],
   "source": [
    "from biosimulator_processes.data_model import TimeCourseDataclass, BiomodelID"
   ]
  },
  {
   "cell_type": "code",
   "execution_count": 2,
   "id": "141bfc62403e74c4",
   "metadata": {
    "ExecuteTime": {
     "end_time": "2024-03-12T16:45:42.037197Z",
     "start_time": "2024-03-12T16:45:41.879423Z"
    },
    "collapsed": false
   },
   "outputs": [
    {
     "ename": "TypeError",
     "evalue": "BaseClass.__init__() takes 1 positional argument but 2 were given",
     "output_type": "error",
     "traceback": [
      "\u001b[0;31m---------------------------------------------------------------------------\u001b[0m",
      "\u001b[0;31mTypeError\u001b[0m                                 Traceback (most recent call last)",
      "Cell \u001b[0;32mIn[2], line 1\u001b[0m\n\u001b[0;32m----> 1\u001b[0m bio \u001b[38;5;241m=\u001b[39m \u001b[43mBiomodelID\u001b[49m\u001b[43m(\u001b[49m\u001b[38;5;124;43m'\u001b[39;49m\u001b[38;5;124;43mBIOSIM\u001b[39;49m\u001b[38;5;124;43m'\u001b[39;49m\u001b[43m)\u001b[49m\n",
      "File \u001b[0;32m~/Desktop/uchc_work/repos/biosimulator-processes/biosimulator_processes/data_model.py:164\u001b[0m, in \u001b[0;36mBiomodelID.__init__\u001b[0;34m(self, value)\u001b[0m\n\u001b[1;32m    163\u001b[0m \u001b[38;5;28;01mdef\u001b[39;00m \u001b[38;5;21m__init__\u001b[39m(\u001b[38;5;28mself\u001b[39m, value):\n\u001b[0;32m--> 164\u001b[0m     \u001b[38;5;28;43msuper\u001b[39;49m\u001b[43m(\u001b[49m\u001b[43m)\u001b[49m\u001b[38;5;241;43m.\u001b[39;49m\u001b[38;5;21;43m__init__\u001b[39;49m\u001b[43m(\u001b[49m\u001b[43mvalue\u001b[49m\u001b[43m)\u001b[49m\n\u001b[1;32m    165\u001b[0m     \u001b[38;5;28mself\u001b[39m\u001b[38;5;241m.\u001b[39mvalidate_source()\n",
      "\u001b[0;31mTypeError\u001b[0m: BaseClass.__init__() takes 1 positional argument but 2 were given"
     ]
    }
   ],
   "source": [
    "bio = BiomodelID('BIOSIM')"
   ]
  },
  {
   "cell_type": "code",
   "execution_count": null,
   "id": "62767f2206188000",
   "metadata": {
    "collapsed": false
   },
   "outputs": [],
   "source": []
  }
 ],
 "metadata": {
  "kernelspec": {
   "display_name": "Python 3",
   "language": "python",
   "name": "python3"
  },
  "language_info": {
   "codemirror_mode": {
    "name": "ipython",
    "version": 2
   },
   "file_extension": ".py",
   "mimetype": "text/x-python",
   "name": "python",
   "nbconvert_exporter": "python",
   "pygments_lexer": "ipython2",
   "version": "2.7.6"
  }
 },
 "nbformat": 4,
 "nbformat_minor": 5
}
