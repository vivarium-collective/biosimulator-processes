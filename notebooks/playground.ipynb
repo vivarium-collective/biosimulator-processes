{
 "cells": [
  {
   "cell_type": "code",
   "execution_count": 2,
   "id": "initial_id",
   "metadata": {
    "ExecuteTime": {
     "end_time": "2024-03-07T16:43:25.914624Z",
     "start_time": "2024-03-07T16:43:25.909935Z"
    },
    "collapsed": true
   },
   "outputs": [
    {
     "data": {
      "text/plain": [
       "True"
      ]
     },
     "execution_count": 2,
     "metadata": {},
     "output_type": "execute_result"
    }
   ],
   "source": [
    "import sys\n",
    "\n",
    "sys.path.insert(0, '..')\n",
    "import os\n",
    "from process_bigraph import pp, pf\n",
    "from biosimulator_processes.data_model import *\n",
    "from biosimulator_processes.biosimulator_builder import BiosimulatorBuilder\n",
    "\n",
    "\n",
    "model_filepath = '../biosimulator_processes/model_files/BIOMD0000000061_url.xml'\n",
    "\n",
    "os.path.exists(model_filepath)"
   ]
  },
  {
   "cell_type": "code",
   "execution_count": null,
   "id": "a41f2492d61c0a78",
   "metadata": {
    "collapsed": false
   },
   "outputs": [],
   "source": [
    "class P:\n",
    "    def __init__(self,\n",
    "                 config=None):\n",
    "        self.config = config\n",
    "        if isinstance(self.config, dict):\n",
    "            self.model = TimeCourseModel(**self.config['model'])\n",
    "\n",
    "\n",
    "model = {\n",
    "    'model_source': model_filepath\n",
    "}\n",
    "\n",
    "tc = TimeCourseModel(**model)\n",
    "pp(tc.model_dump())\n",
    "type(tc.model_source)"
   ]
  }
 ],
 "metadata": {
  "kernelspec": {
   "display_name": "Python 3",
   "language": "python",
   "name": "python3"
  },
  "language_info": {
   "codemirror_mode": {
    "name": "ipython",
    "version": 2
   },
   "file_extension": ".py",
   "mimetype": "text/x-python",
   "name": "python",
   "nbconvert_exporter": "python",
   "pygments_lexer": "ipython2",
   "version": "2.7.6"
  }
 },
 "nbformat": 4,
 "nbformat_minor": 5
}
