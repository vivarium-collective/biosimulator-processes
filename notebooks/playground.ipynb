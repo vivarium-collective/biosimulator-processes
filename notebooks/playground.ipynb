{
 "cells": [
  {
   "cell_type": "code",
   "execution_count": 1,
   "id": "initial_id",
   "metadata": {
    "ExecuteTime": {
     "end_time": "2024-03-12T14:01:22.444782Z",
     "start_time": "2024-03-12T14:01:20.731200Z"
    },
    "collapsed": true
   },
   "outputs": [
    {
     "name": "stdout",
     "output_type": "stream",
     "text": [
      "CobraProcess registered successfully.\n",
      "CopasiProcess registered successfully.\n",
      "TelluriumProcess registered successfully.\n",
      "DeterministicTimeCourseParameterScan registered successfully.\n"
     ]
    },
    {
     "data": {
      "text/plain": [
       "True"
      ]
     },
     "execution_count": 1,
     "metadata": {},
     "output_type": "execute_result"
    }
   ],
   "source": [
    "import sys\n",
    "\n",
    "sys.path.insert(0, '..')\n",
    "import os\n",
    "from biosimulator_processes.process_bigraph import pp, pf\n",
    "from biosimulator_processes.data_model import *\n",
    "from biosimulator_processes.data_model import MODEL_TYPE, BaseModel\n",
    "from biosimulator_processes.biosimulator_builder import BiosimulatorBuilder\n",
    "from biosimulator_processes.builder.builder_api import test_data_model \n",
    "from biosimulator_processes.processes.copasi_process import CopasiProcess\n",
    "from biosimulator_processes.process_bigraph.experiments.minimal_gillespie import EXPORT\n",
    "from biosimulator_processes.process_bigraph import ProcessTypes\n",
    "from biosimulator_processes.builder.builder_api import Builder \n",
    "from biosimulator_processes.bigraph_schema.registry import map_type_to_pydantic\n",
    "\n",
    "model_filepath = '../biosimulator_processes/model_files/Caravagna2010.xml'\n",
    "\n",
    "os.path.exists(model_filepath)"
   ]
  },
  {
   "cell_type": "code",
   "execution_count": 2,
   "id": "5f8813ec30b343e8",
   "metadata": {
    "ExecuteTime": {
     "end_time": "2024-03-12T14:01:25.192925Z",
     "start_time": "2024-03-12T14:01:25.189861Z"
    },
    "collapsed": false
   },
   "outputs": [],
   "source": [
    "copasi_process_model = TimeCourseModel(\n",
    "    model_source=model_filepath,\n",
    "    model_changes=TimeCourseModelChanges(\n",
    "        species_changes=[SpeciesChanges(name='T', initial_concentration=0.0024), SpeciesChanges(name='E', initial_concentration=0.23)]\n",
    "    )\n",
    ")"
   ]
  },
  {
   "cell_type": "code",
   "execution_count": 3,
   "id": "dc2ddb95fa2c2ce1",
   "metadata": {
    "ExecuteTime": {
     "end_time": "2024-03-12T14:01:26.476382Z",
     "start_time": "2024-03-12T14:01:26.472505Z"
    },
    "collapsed": false
   },
   "outputs": [
    {
     "data": {
      "text/plain": [
       "TimeCourseModel(model_id=None, model_source=ModelFilepath(value='../biosimulator_processes/model_files/Caravagna2010.xml'), model_language='sbml', model_name='Unnamed Composite Process TimeCourseModel', model_changes=TimeCourseModelChanges(species_changes=[SpeciesChanges(name='T', unit=None, initial_concentration=0.0024, initial_particle_number=None, initial_expression=None, expression=None), SpeciesChanges(name='E', unit=None, initial_concentration=0.23, initial_particle_number=None, initial_expression=None, expression=None)], global_parameter_changes=[], reaction_changes=[]), model_units='_default')"
      ]
     },
     "execution_count": 3,
     "metadata": {},
     "output_type": "execute_result"
    }
   ],
   "source": [
    "copasi_process_model"
   ]
  },
  {
   "cell_type": "code",
   "execution_count": 4,
   "id": "be88f604d8b59e6c",
   "metadata": {
    "ExecuteTime": {
     "end_time": "2024-03-12T14:01:27.848718Z",
     "start_time": "2024-03-12T14:01:27.844813Z"
    },
    "collapsed": false
   },
   "outputs": [],
   "source": [
    "copasi_process_config = TimeCourseProcessConfig(model=copasi_process_model)"
   ]
  },
  {
   "cell_type": "code",
   "execution_count": 5,
   "id": "da51ed3050caa0ba",
   "metadata": {
    "ExecuteTime": {
     "end_time": "2024-03-12T14:01:37.343908Z",
     "start_time": "2024-03-12T14:01:37.290084Z"
    },
    "collapsed": false
   },
   "outputs": [],
   "source": [
    "copasi_process = CopasiProcess(config=copasi_process_config.model_dump())"
   ]
  },
  {
   "cell_type": "code",
   "execution_count": 11,
   "id": "d71f199a83308c54",
   "metadata": {
    "ExecuteTime": {
     "end_time": "2024-03-12T14:03:22.677817Z",
     "start_time": "2024-03-12T14:03:22.668109Z"
    },
    "collapsed": false
   },
   "outputs": [],
   "source": [
    "r = copasi_process.update(interval=100, inputs=copasi_process.initial_state())"
   ]
  },
  {
   "cell_type": "code",
   "execution_count": 12,
   "id": "42fa7b53c2d7162b",
   "metadata": {
    "ExecuteTime": {
     "end_time": "2024-03-12T14:03:23.379284Z",
     "start_time": "2024-03-12T14:03:23.376042Z"
    },
    "collapsed": false
   },
   "outputs": [
    {
     "data": {
      "text/plain": [
       "{'time': 100,\n",
       " 'floating_species': {'T': 835035.4737186389,\n",
       "  'E': 366538.50861906103,\n",
       "  'I': 56963.28188569523}}"
      ]
     },
     "execution_count": 12,
     "metadata": {},
     "output_type": "execute_result"
    }
   ],
   "source": [
    "r"
   ]
  },
  {
   "cell_type": "code",
   "execution_count": 13,
   "id": "8a78bcd293086964",
   "metadata": {
    "ExecuteTime": {
     "end_time": "2024-03-12T14:03:34.167521Z",
     "start_time": "2024-03-12T14:03:34.164801Z"
    },
    "collapsed": false
   },
   "outputs": [
    {
     "data": {
      "text/plain": [
       "typing.Any"
      ]
     },
     "execution_count": 13,
     "metadata": {},
     "output_type": "execute_result"
    }
   ],
   "source": [
    "pydantic_type = map_type_to_pydantic('tree[string]')\n",
    "pydantic_type"
   ]
  },
  {
   "cell_type": "code",
   "execution_count": 5,
   "id": "bcd7af95001829d4",
   "metadata": {
    "ExecuteTime": {
     "end_time": "2024-03-12T02:43:03.813130Z",
     "start_time": "2024-03-12T02:43:03.811767Z"
    },
    "collapsed": false
   },
   "outputs": [],
   "source": [
    "b = BiosimulatorBuilder()"
   ]
  },
  {
   "cell_type": "code",
   "execution_count": 6,
   "id": "2c38653b5105c843",
   "metadata": {
    "ExecuteTime": {
     "end_time": "2024-03-12T02:43:03.816206Z",
     "start_time": "2024-03-12T02:43:03.813680Z"
    },
    "collapsed": false
   },
   "outputs": [],
   "source": [
    "b.register_type('time_course_model', MODEL_TYPE)"
   ]
  },
  {
   "cell_type": "code",
   "execution_count": 7,
   "id": "f62e785fa0c127e6",
   "metadata": {
    "ExecuteTime": {
     "end_time": "2024-03-12T02:43:03.818410Z",
     "start_time": "2024-03-12T02:43:03.816950Z"
    },
    "collapsed": false
   },
   "outputs": [],
   "source": [
    "b.register_process('CopasiProcess', CopasiProcess)"
   ]
  },
  {
   "cell_type": "code",
   "execution_count": 8,
   "id": "1eaa9aa631790362",
   "metadata": {
    "ExecuteTime": {
     "end_time": "2024-03-12T02:43:03.820953Z",
     "start_time": "2024-03-12T02:43:03.818954Z"
    },
    "collapsed": false
   },
   "outputs": [
    {
     "name": "stdout",
     "output_type": "stream",
     "text": [
      "THE FIELD NAME: model\n",
      "THE FIELD TYPE: None, DEFAULT: None\n",
      "THE FIELD NAME: method\n",
      "THE FIELD TYPE: string, DEFAULT: deterministic\n"
     ]
    }
   ],
   "source": [
    "model = b.get_pydantic_model('CopasiProcess')"
   ]
  },
  {
   "cell_type": "code",
   "execution_count": 9,
   "id": "8ee49f878b7131ff",
   "metadata": {
    "ExecuteTime": {
     "end_time": "2024-03-12T02:43:03.823384Z",
     "start_time": "2024-03-12T02:43:03.821519Z"
    },
    "collapsed": false
   },
   "outputs": [],
   "source": [
    "copasi = model(model=copasi_process_model.model_dump(), method='directMethod')"
   ]
  },
  {
   "cell_type": "code",
   "execution_count": 10,
   "id": "67f2c7d3c3bf2bb8",
   "metadata": {
    "ExecuteTime": {
     "end_time": "2024-03-12T02:43:03.826237Z",
     "start_time": "2024-03-12T02:43:03.823922Z"
    },
    "collapsed": false
   },
   "outputs": [
    {
     "data": {
      "text/plain": [
       "{'model_id': '',\n",
       " 'model_source': {'value': '../biosimulator_processes/model_files/Caravagna2010.xml'},\n",
       " 'model_language': 'sbml',\n",
       " 'model_name': 'Unnamed Composite Process TimeCourseModel',\n",
       " 'model_changes': {'species_changes': [{'name': 'T',\n",
       "    'unit': None,\n",
       "    'initial_concentration': 0.0024,\n",
       "    'initial_particle_number': None,\n",
       "    'initial_expression': None,\n",
       "    'expression': None},\n",
       "   {'name': 'E',\n",
       "    'unit': None,\n",
       "    'initial_concentration': 0.23,\n",
       "    'initial_particle_number': None,\n",
       "    'initial_expression': None,\n",
       "    'expression': None}],\n",
       "  'global_parameter_changes': [],\n",
       "  'reaction_changes': []},\n",
       " 'model_units': '_default'}"
      ]
     },
     "execution_count": 10,
     "metadata": {},
     "output_type": "execute_result"
    }
   ],
   "source": [
    "copasi.model"
   ]
  },
  {
   "cell_type": "code",
   "execution_count": 11,
   "id": "b270562c71bfe55c",
   "metadata": {
    "ExecuteTime": {
     "end_time": "2024-03-12T02:43:03.872469Z",
     "start_time": "2024-03-12T02:43:03.826939Z"
    },
    "collapsed": false
   },
   "outputs": [],
   "source": [
    "b['copasi_process'].add_process(name='CopasiProcess', config=copasi)"
   ]
  },
  {
   "cell_type": "code",
   "execution_count": 12,
   "id": "27748633bf5d481f",
   "metadata": {
    "ExecuteTime": {
     "end_time": "2024-03-12T02:43:03.875179Z",
     "start_time": "2024-03-12T02:43:03.873154Z"
    },
    "collapsed": false
   },
   "outputs": [
    {
     "name": "stdout",
     "output_type": "stream",
     "text": [
      "True\n"
     ]
    }
   ],
   "source": [
    "print(isinstance(copasi_process_model, BaseModel))"
   ]
  },
  {
   "cell_type": "code",
   "execution_count": 13,
   "id": "63a422ba7c38558e",
   "metadata": {
    "ExecuteTime": {
     "end_time": "2024-03-12T02:43:03.878173Z",
     "start_time": "2024-03-12T02:43:03.875778Z"
    },
    "collapsed": false
   },
   "outputs": [
    {
     "data": {
      "text/plain": [
       "Builder({ 'copasi_process': { '_type': 'process',\n",
       "                      'address': 'local:CopasiProcess',\n",
       "                      'config': { 'method': 'directMethod',\n",
       "                                  'model': { 'model_changes': { 'global_parameter_changes': [ ],\n",
       "                                                                'reaction_changes': [ ],\n",
       "                                                                'species_changes': [ { 'expression': None,\n",
       "                                                                                       'initial_concentration': 0.0024,\n",
       "                                                                                       'initial_expression': None,\n",
       "                                                                                       'initial_particle_number': None,\n",
       "                                                                                       'unit': None},\n",
       "                                                                                     { 'expression': None,\n",
       "                                                                                       'initial_concentration': 0.23,\n",
       "                                                                                       'initial_expression': None,\n",
       "                                                                                       'initial_particle_number': None,\n",
       "                                                                                       'unit': None}]},\n",
       "                                             'model_id': '',\n",
       "                                             'model_language': 'sbml',\n",
       "                                             'model_name': 'Unnamed Composite '\n",
       "                                                           'Process '\n",
       "                                                           'TimeCourseModel',\n",
       "                                             'model_source': { 'value': '../biosimulator_processes/model_files/Caravagna2010.xml'},\n",
       "                                             'model_units': '_default'}},\n",
       "                      'inputs': {},\n",
       "                      'instance': <biosimulator_processes.processes.copasi_process.CopasiProcess object at 0x169f291e0>,\n",
       "                      'interval': 1.0,\n",
       "                      'outputs': {}},\n",
       "  'emitter': { '_type': 'step',\n",
       "               'address': 'local:ram-emitter',\n",
       "               'config': {'emit': {}},\n",
       "               'inputs': {},\n",
       "               'instance': <biosimulator_processes.process_bigraph.composite.RAMEmitter object at 0x169f2b850>,\n",
       "               'outputs': {}}})"
      ]
     },
     "execution_count": 13,
     "metadata": {},
     "output_type": "execute_result"
    }
   ],
   "source": [
    "b"
   ]
  },
  {
   "cell_type": "code",
   "execution_count": 14,
   "id": "f38b074100c4307a",
   "metadata": {
    "ExecuteTime": {
     "end_time": "2024-03-12T02:43:04.465010Z",
     "start_time": "2024-03-12T02:43:03.880586Z"
    },
    "collapsed": false
   },
   "outputs": [
    {
     "data": {
      "image/svg+xml": [
       "<?xml version=\"1.0\" encoding=\"UTF-8\" standalone=\"no\"?>\n",
       "<!DOCTYPE svg PUBLIC \"-//W3C//DTD SVG 1.1//EN\"\n",
       " \"http://www.w3.org/Graphics/SVG/1.1/DTD/svg11.dtd\">\n",
       "<!-- Generated by graphviz version 9.0.0 (20230911.1827)\n",
       " -->\n",
       "<!-- Title: bigraph Pages: 1 -->\n",
       "<svg width=\"436pt\" height=\"124pt\"\n",
       " viewBox=\"0.00 0.00 448.17 127.25\" xmlns=\"http://www.w3.org/2000/svg\" xmlns:xlink=\"http://www.w3.org/1999/xlink\">\n",
       "<g id=\"graph0\" class=\"graph\" transform=\"scale(0.972222 0.972222) rotate(0) translate(4 123.25)\">\n",
       "<title>bigraph</title>\n",
       "<polygon fill=\"white\" stroke=\"none\" points=\"-4,4 -4,-123.25 444.17,-123.25 444.17,4 -4,4\"/>\n",
       "<!-- (&#39;emitter&#39;,) -->\n",
       "<g id=\"node1\" class=\"node\">\n",
       "<title>(&#39;emitter&#39;,)</title>\n",
       "<polygon fill=\"none\" stroke=\"black\" stroke-width=\"2\" points=\"54,-119.25 0,-119.25 0,-83.25 54,-83.25 54,-119.25\"/>\n",
       "<text text-anchor=\"start\" x=\"10.88\" y=\"-96.97\" font-family=\"Times,serif\" font-size=\"12.00\">emitter</text>\n",
       "</g>\n",
       "<!-- (&#39;copasi_process&#39;,) -->\n",
       "<g id=\"node2\" class=\"node\">\n",
       "<title>(&#39;copasi_process&#39;,)</title>\n",
       "<polygon fill=\"none\" stroke=\"black\" stroke-width=\"2\" points=\"232.22,-36 153.78,-36 153.78,0 232.22,0 232.22,-36\"/>\n",
       "<text text-anchor=\"start\" x=\"157.38\" y=\"-13.72\" font-family=\"Times,serif\" font-size=\"12.00\">copasi_process</text>\n",
       "</g>\n",
       "<!-- (&#39;copasi_process&#39;, &#39;t&#39;, &#39;i&#39;, &#39;m&#39;, &#39;e&#39;) -->\n",
       "<!-- (&#39;copasi_process&#39;, &#39;t&#39;, &#39;i&#39;, &#39;m&#39;, &#39;e&#39;)&#45;&gt;(&#39;copasi_process&#39;,) -->\n",
       "<g id=\"edge1\" class=\"edge\">\n",
       "<title>(&#39;copasi_process&#39;, &#39;t&#39;, &#39;i&#39;, &#39;m&#39;, &#39;e&#39;)&#45;&gt;(&#39;copasi_process&#39;,)</title>\n",
       "<path fill=\"none\" stroke=\"black\" stroke-dasharray=\"5,2\" d=\"M76.45,-89.57C67.98,-79.66 58.74,-64.86 67,-54 76.33,-41.73 111.23,-32.62 141.93,-26.78\"/>\n",
       "<polygon fill=\"black\" stroke=\"black\" points=\"142.3,-30.27 151.51,-25.05 141.05,-23.39 142.3,-30.27\"/>\n",
       "<text text-anchor=\"start\" x=\"67\" y=\"-55.75\" font-family=\"Times,serif\" font-size=\"10.00\">time</text>\n",
       "</g>\n",
       "<!-- (&#39;copasi_process&#39;, &#39;t&#39;, &#39;i&#39;, &#39;m&#39;, &#39;e&#39;)&#45;&gt;(&#39;copasi_process&#39;,) -->\n",
       "<g id=\"edge5\" class=\"edge\">\n",
       "<title>(&#39;copasi_process&#39;, &#39;t&#39;, &#39;i&#39;, &#39;m&#39;, &#39;e&#39;)&#45;&gt;(&#39;copasi_process&#39;,)</title>\n",
       "<path fill=\"none\" stroke=\"black\" stroke-dasharray=\"5,2\" d=\"M102.25,-78.75C108.9,-70.35 117.19,-61.06 126,-54 134.09,-47.51 143.57,-41.7 152.8,-36.76\"/>\n",
       "<polygon fill=\"black\" stroke=\"black\" points=\"99.64,-76.4 96.4,-86.49 105.23,-80.62 99.64,-76.4\"/>\n",
       "<text text-anchor=\"start\" x=\"126\" y=\"-55.75\" font-family=\"Times,serif\" font-size=\"10.00\">time</text>\n",
       "</g>\n",
       "<!-- (&#39;copasi_process&#39;, &#39;f&#39;, &#39;l&#39;, &#39;o&#39;, &#39;a&#39;, &#39;t&#39;, &#39;i&#39;, &#39;n&#39;, &#39;g&#39;, &#39;_&#39;, &#39;s&#39;, &#39;p&#39;, &#39;e&#39;, &#39;c&#39;, &#39;i&#39;, &#39;e&#39;, &#39;s&#39;) -->\n",
       "<!-- (&#39;copasi_process&#39;, &#39;f&#39;, &#39;l&#39;, &#39;o&#39;, &#39;a&#39;, &#39;t&#39;, &#39;i&#39;, &#39;n&#39;, &#39;g&#39;, &#39;_&#39;, &#39;s&#39;, &#39;p&#39;, &#39;e&#39;, &#39;c&#39;, &#39;i&#39;, &#39;e&#39;, &#39;s&#39;)&#45;&gt;(&#39;copasi_process&#39;,) -->\n",
       "<g id=\"edge2\" class=\"edge\">\n",
       "<title>(&#39;copasi_process&#39;, &#39;f&#39;, &#39;l&#39;, &#39;o&#39;, &#39;a&#39;, &#39;t&#39;, &#39;i&#39;, &#39;n&#39;, &#39;g&#39;, &#39;_&#39;, &#39;s&#39;, &#39;p&#39;, &#39;e&#39;, &#39;c&#39;, &#39;i&#39;, &#39;e&#39;, &#39;s&#39;)&#45;&gt;(&#39;copasi_process&#39;,)</title>\n",
       "<path fill=\"none\" stroke=\"black\" stroke-dasharray=\"5,2\" d=\"M182.8,-94.29C171.42,-88.65 156.22,-79 149.25,-65.25 145.54,-57.93 147.66,-50.97 152.55,-44.77\"/>\n",
       "<polygon fill=\"black\" stroke=\"black\" points=\"154.87,-47.39 159.55,-37.89 149.96,-42.4 154.87,-47.39\"/>\n",
       "<text text-anchor=\"start\" x=\"150\" y=\"-55.75\" font-family=\"Times,serif\" font-size=\"10.00\">floating_species</text>\n",
       "</g>\n",
       "<!-- (&#39;copasi_process&#39;, &#39;f&#39;, &#39;l&#39;, &#39;o&#39;, &#39;a&#39;, &#39;t&#39;, &#39;i&#39;, &#39;n&#39;, &#39;g&#39;, &#39;_&#39;, &#39;s&#39;, &#39;p&#39;, &#39;e&#39;, &#39;c&#39;, &#39;i&#39;, &#39;e&#39;, &#39;s&#39;)&#45;&gt;(&#39;copasi_process&#39;,) -->\n",
       "<g id=\"edge6\" class=\"edge\">\n",
       "<title>(&#39;copasi_process&#39;, &#39;f&#39;, &#39;l&#39;, &#39;o&#39;, &#39;a&#39;, &#39;t&#39;, &#39;i&#39;, &#39;n&#39;, &#39;g&#39;, &#39;_&#39;, &#39;s&#39;, &#39;p&#39;, &#39;e&#39;, &#39;c&#39;, &#39;i&#39;, &#39;e&#39;, &#39;s&#39;)&#45;&gt;(&#39;copasi_process&#39;,)</title>\n",
       "<path fill=\"none\" stroke=\"black\" stroke-dasharray=\"5,2\" d=\"M212.3,-79.01C216.12,-71.26 218.5,-62.35 216,-54 214.21,-48.01 211.02,-42.09 207.59,-36.88\"/>\n",
       "<polygon fill=\"black\" stroke=\"black\" points=\"209.41,-77.01 207.3,-87.4 215.42,-80.6 209.41,-77.01\"/>\n",
       "<text text-anchor=\"start\" x=\"218\" y=\"-55.75\" font-family=\"Times,serif\" font-size=\"10.00\">floating_species</text>\n",
       "</g>\n",
       "<!-- (&#39;copasi_process&#39;, &#39;m&#39;, &#39;o&#39;, &#39;d&#39;, &#39;e&#39;, &#39;l&#39;, &#39;_&#39;, &#39;p&#39;, &#39;a&#39;, &#39;r&#39;, &#39;a&#39;, &#39;m&#39;, &#39;e&#39;, &#39;t&#39;, &#39;e&#39;, &#39;r&#39;, &#39;s&#39;) -->\n",
       "<!-- (&#39;copasi_process&#39;, &#39;m&#39;, &#39;o&#39;, &#39;d&#39;, &#39;e&#39;, &#39;l&#39;, &#39;_&#39;, &#39;p&#39;, &#39;a&#39;, &#39;r&#39;, &#39;a&#39;, &#39;m&#39;, &#39;e&#39;, &#39;t&#39;, &#39;e&#39;, &#39;r&#39;, &#39;s&#39;)&#45;&gt;(&#39;copasi_process&#39;,) -->\n",
       "<g id=\"edge3\" class=\"edge\">\n",
       "<title>(&#39;copasi_process&#39;, &#39;m&#39;, &#39;o&#39;, &#39;d&#39;, &#39;e&#39;, &#39;l&#39;, &#39;_&#39;, &#39;p&#39;, &#39;a&#39;, &#39;r&#39;, &#39;a&#39;, &#39;m&#39;, &#39;e&#39;, &#39;t&#39;, &#39;e&#39;, &#39;r&#39;, &#39;s&#39;)&#45;&gt;(&#39;copasi_process&#39;,)</title>\n",
       "<path fill=\"none\" stroke=\"black\" stroke-dasharray=\"5,2\" d=\"M320.12,-87.67C313.08,-77.35 301.91,-63.02 289,-54 275.54,-44.6 259.27,-37.42 243.98,-32.08\"/>\n",
       "<polygon fill=\"black\" stroke=\"black\" points=\"245.1,-28.77 234.51,-28.99 242.93,-35.42 245.1,-28.77\"/>\n",
       "<text text-anchor=\"start\" x=\"301\" y=\"-55.75\" font-family=\"Times,serif\" font-size=\"10.00\">model_parameters</text>\n",
       "</g>\n",
       "<!-- (&#39;copasi_process&#39;, &#39;r&#39;, &#39;e&#39;, &#39;a&#39;, &#39;c&#39;, &#39;t&#39;, &#39;i&#39;, &#39;o&#39;, &#39;n&#39;, &#39;s&#39;) -->\n",
       "<!-- (&#39;copasi_process&#39;, &#39;r&#39;, &#39;e&#39;, &#39;a&#39;, &#39;c&#39;, &#39;t&#39;, &#39;i&#39;, &#39;o&#39;, &#39;n&#39;, &#39;s&#39;)&#45;&gt;(&#39;copasi_process&#39;,) -->\n",
       "<g id=\"edge4\" class=\"edge\">\n",
       "<title>(&#39;copasi_process&#39;, &#39;r&#39;, &#39;e&#39;, &#39;a&#39;, &#39;c&#39;, &#39;t&#39;, &#39;i&#39;, &#39;o&#39;, &#39;n&#39;, &#39;s&#39;)&#45;&gt;(&#39;copasi_process&#39;,)</title>\n",
       "<path fill=\"none\" stroke=\"black\" stroke-dasharray=\"5,2\" d=\"M416.25,-87.96C407.93,-77.24 394.41,-62.16 379,-54 337.07,-31.79 283.26,-23.5 244.32,-20.49\"/>\n",
       "<polygon fill=\"black\" stroke=\"black\" points=\"244.71,-17.01 234.5,-19.84 244.24,-24 244.71,-17.01\"/>\n",
       "<text text-anchor=\"start\" x=\"394\" y=\"-55.75\" font-family=\"Times,serif\" font-size=\"10.00\">reactions</text>\n",
       "</g>\n",
       "</g>\n",
       "</svg>\n"
      ],
      "text/plain": [
       "<graphviz.graphs.Digraph at 0x1031a3df0>"
      ]
     },
     "execution_count": 14,
     "metadata": {},
     "output_type": "execute_result"
    }
   ],
   "source": [
    "b.visualize()"
   ]
  },
  {
   "cell_type": "code",
   "execution_count": 15,
   "id": "62d286eff913576",
   "metadata": {
    "ExecuteTime": {
     "end_time": "2024-03-12T02:43:04.467802Z",
     "start_time": "2024-03-12T02:43:04.465753Z"
    },
    "collapsed": false
   },
   "outputs": [],
   "source": [
    "b.connect_all(append_to_store_name='_store')"
   ]
  },
  {
   "cell_type": "code",
   "execution_count": 16,
   "id": "dde00b3597f54e91",
   "metadata": {
    "ExecuteTime": {
     "end_time": "2024-03-12T02:43:04.640749Z",
     "start_time": "2024-03-12T02:43:04.468439Z"
    },
    "collapsed": false
   },
   "outputs": [
    {
     "data": {
      "image/svg+xml": [
       "<?xml version=\"1.0\" encoding=\"UTF-8\" standalone=\"no\"?>\n",
       "<!DOCTYPE svg PUBLIC \"-//W3C//DTD SVG 1.1//EN\"\n",
       " \"http://www.w3.org/Graphics/SVG/1.1/DTD/svg11.dtd\">\n",
       "<!-- Generated by graphviz version 9.0.0 (20230911.1827)\n",
       " -->\n",
       "<!-- Title: bigraph Pages: 1 -->\n",
       "<svg width=\"1120pt\" height=\"242pt\"\n",
       " viewBox=\"0.00 0.00 1152.00 249.03\" xmlns=\"http://www.w3.org/2000/svg\" xmlns:xlink=\"http://www.w3.org/1999/xlink\">\n",
       "<g id=\"graph0\" class=\"graph\" transform=\"scale(0.389069 0.389069) rotate(0) translate(4 618.3)\">\n",
       "<title>bigraph</title>\n",
       "<polygon fill=\"white\" stroke=\"none\" points=\"-4,4 -4,-618.3 2874.66,-618.3 2874.66,4 -4,4\"/>\n",
       "<!-- (&#39;time_store&#39;,) -->\n",
       "<g id=\"node1\" class=\"node\">\n",
       "<title>(&#39;time_store&#39;,)</title>\n",
       "<ellipse fill=\"none\" stroke=\"black\" stroke-width=\"2\" cx=\"344\" cy=\"-538.37\" rx=\"34.83\" ry=\"34.83\"/>\n",
       "<text text-anchor=\"start\" x=\"319.62\" y=\"-534.1\" font-family=\"Times,serif\" font-size=\"12.00\">time_store</text>\n",
       "</g>\n",
       "<!-- (&#39;copasi_process&#39;,) -->\n",
       "<g id=\"node29\" class=\"node\">\n",
       "<title>(&#39;copasi_process&#39;,)</title>\n",
       "<polygon fill=\"none\" stroke=\"black\" stroke-width=\"2\" points=\"393.23,-225.6 314.77,-225.6 314.77,-189.6 393.23,-189.6 393.23,-225.6\"/>\n",
       "<text text-anchor=\"start\" x=\"318.38\" y=\"-203.32\" font-family=\"Times,serif\" font-size=\"12.00\">copasi_process</text>\n",
       "</g>\n",
       "<!-- (&#39;time_store&#39;,)&#45;&gt;(&#39;copasi_process&#39;,) -->\n",
       "<g id=\"edge24\" class=\"edge\">\n",
       "<title>(&#39;time_store&#39;,)&#45;&gt;(&#39;copasi_process&#39;,)</title>\n",
       "<path fill=\"none\" stroke=\"black\" stroke-dasharray=\"5,2\" d=\"M345.05,-502.81C347.03,-437.72 351.28,-298.08 353.12,-237.56\"/>\n",
       "<polygon fill=\"black\" stroke=\"black\" points=\"356.61,-237.84 353.42,-227.74 349.62,-237.63 356.61,-237.84\"/>\n",
       "<text text-anchor=\"start\" x=\"347\" y=\"-434.95\" font-family=\"Times,serif\" font-size=\"10.00\">time</text>\n",
       "</g>\n",
       "<!-- (&#39;time_store&#39;,)&#45;&gt;(&#39;copasi_process&#39;,) -->\n",
       "<g id=\"edge28\" class=\"edge\">\n",
       "<title>(&#39;time_store&#39;,)&#45;&gt;(&#39;copasi_process&#39;,)</title>\n",
       "<path fill=\"none\" stroke=\"black\" stroke-dasharray=\"5,2\" d=\"M332.92,-492.48C329.69,-477.33 326.6,-460.25 325,-444.45 316.74,-362.77 338.84,-265.56 349.1,-226.32\"/>\n",
       "<polygon fill=\"black\" stroke=\"black\" points=\"329.48,-493.16 335.07,-502.16 336.32,-491.64 329.48,-493.16\"/>\n",
       "<text text-anchor=\"start\" x=\"325\" y=\"-434.95\" font-family=\"Times,serif\" font-size=\"10.00\">time</text>\n",
       "</g>\n",
       "<!-- (&#39;floating_species_store&#39;,) -->\n",
       "<g id=\"node2\" class=\"node\">\n",
       "<title>(&#39;floating_species_store&#39;,)</title>\n",
       "<ellipse fill=\"none\" stroke=\"black\" stroke-width=\"2\" cx=\"111\" cy=\"-538.37\" rx=\"69.39\" ry=\"69.39\"/>\n",
       "<text text-anchor=\"start\" x=\"58.88\" y=\"-534.1\" font-family=\"Times,serif\" font-size=\"12.00\">floating_species_store</text>\n",
       "</g>\n",
       "<!-- (&#39;floating_species_store&#39;, &#39;T&#39;) -->\n",
       "<g id=\"node3\" class=\"node\">\n",
       "<title>(&#39;floating_species_store&#39;, &#39;T&#39;)</title>\n",
       "<ellipse fill=\"none\" stroke=\"black\" stroke-width=\"2\" cx=\"18\" cy=\"-207.6\" rx=\"18\" ry=\"18\"/>\n",
       "<text text-anchor=\"start\" x=\"14.25\" y=\"-203.32\" font-family=\"Times,serif\" font-size=\"12.00\">T</text>\n",
       "</g>\n",
       "<!-- (&#39;floating_species_store&#39;,)&#45;&gt;(&#39;floating_species_store&#39;, &#39;T&#39;) -->\n",
       "<g id=\"edge1\" class=\"edge\">\n",
       "<title>(&#39;floating_species_store&#39;,)&#45;&gt;(&#39;floating_species_store&#39;, &#39;T&#39;)</title>\n",
       "<path fill=\"none\" stroke=\"black\" stroke-width=\"2\" d=\"M73.71,-478.73C62.83,-459.2 52.01,-436.88 45,-415.2 23.25,-347.91 18.97,-262.91 18.17,-226.49\"/>\n",
       "</g>\n",
       "<!-- (&#39;floating_species_store&#39;, &#39;E&#39;) -->\n",
       "<g id=\"node4\" class=\"node\">\n",
       "<title>(&#39;floating_species_store&#39;, &#39;E&#39;)</title>\n",
       "<ellipse fill=\"none\" stroke=\"black\" stroke-width=\"2\" cx=\"72\" cy=\"-207.6\" rx=\"18\" ry=\"18\"/>\n",
       "<text text-anchor=\"start\" x=\"68.25\" y=\"-203.32\" font-family=\"Times,serif\" font-size=\"12.00\">E</text>\n",
       "</g>\n",
       "<!-- (&#39;floating_species_store&#39;,)&#45;&gt;(&#39;floating_species_store&#39;, &#39;E&#39;) -->\n",
       "<g id=\"edge2\" class=\"edge\">\n",
       "<title>(&#39;floating_species_store&#39;,)&#45;&gt;(&#39;floating_species_store&#39;, &#39;E&#39;)</title>\n",
       "<path fill=\"none\" stroke=\"black\" stroke-width=\"2\" d=\"M102.87,-468.85C93.72,-391.69 79.43,-271.22 74.1,-226.28\"/>\n",
       "</g>\n",
       "<!-- (&#39;floating_species_store&#39;, &#39;I&#39;) -->\n",
       "<g id=\"node5\" class=\"node\">\n",
       "<title>(&#39;floating_species_store&#39;, &#39;I&#39;)</title>\n",
       "<ellipse fill=\"none\" stroke=\"black\" stroke-width=\"2\" cx=\"126\" cy=\"-207.6\" rx=\"18\" ry=\"18\"/>\n",
       "<text text-anchor=\"start\" x=\"124.12\" y=\"-203.32\" font-family=\"Times,serif\" font-size=\"12.00\">I</text>\n",
       "</g>\n",
       "<!-- (&#39;floating_species_store&#39;,)&#45;&gt;(&#39;floating_species_store&#39;, &#39;I&#39;) -->\n",
       "<g id=\"edge3\" class=\"edge\">\n",
       "<title>(&#39;floating_species_store&#39;,)&#45;&gt;(&#39;floating_species_store&#39;, &#39;I&#39;)</title>\n",
       "<path fill=\"none\" stroke=\"black\" stroke-width=\"2\" d=\"M114.14,-468.45C117.66,-391.44 123.12,-271.65 125.18,-226.57\"/>\n",
       "</g>\n",
       "<!-- (&#39;floating_species_store&#39;,)&#45;&gt;(&#39;copasi_process&#39;,) -->\n",
       "<g id=\"edge25\" class=\"edge\">\n",
       "<title>(&#39;floating_species_store&#39;,)&#45;&gt;(&#39;copasi_process&#39;,)</title>\n",
       "<path fill=\"none\" stroke=\"black\" stroke-dasharray=\"5,2\" d=\"M128.34,-470.21C132.93,-457.48 138.52,-444.59 145.25,-433.2 194.24,-350.21 278.33,-272.28 323.38,-233.75\"/>\n",
       "<polygon fill=\"black\" stroke=\"black\" points=\"325.58,-236.47 330.96,-227.34 321.06,-231.13 325.58,-236.47\"/>\n",
       "<text text-anchor=\"start\" x=\"146\" y=\"-434.95\" font-family=\"Times,serif\" font-size=\"10.00\">floating_species</text>\n",
       "</g>\n",
       "<!-- (&#39;floating_species_store&#39;,)&#45;&gt;(&#39;copasi_process&#39;,) -->\n",
       "<g id=\"edge29\" class=\"edge\">\n",
       "<title>(&#39;floating_species_store&#39;,)&#45;&gt;(&#39;copasi_process&#39;,)</title>\n",
       "<path fill=\"none\" stroke=\"black\" stroke-dasharray=\"5,2\" d=\"M173.06,-485.47C186.63,-472.74 200.4,-458.67 212,-444.45 272.59,-370.21 325.38,-267.59 345.41,-226.58\"/>\n",
       "<polygon fill=\"black\" stroke=\"black\" points=\"170.75,-482.84 165.77,-492.18 175.5,-487.98 170.75,-482.84\"/>\n",
       "<text text-anchor=\"start\" x=\"217\" y=\"-434.95\" font-family=\"Times,serif\" font-size=\"10.00\">floating_species</text>\n",
       "</g>\n",
       "<!-- (&#39;model_parameters_store&#39;,) -->\n",
       "<g id=\"node6\" class=\"node\">\n",
       "<title>(&#39;model_parameters_store&#39;,)</title>\n",
       "<ellipse fill=\"none\" stroke=\"black\" stroke-width=\"2\" cx=\"772\" cy=\"-538.37\" rx=\"75.92\" ry=\"75.92\"/>\n",
       "<text text-anchor=\"start\" x=\"714.62\" y=\"-534.1\" font-family=\"Times,serif\" font-size=\"12.00\">model_parameters_store</text>\n",
       "</g>\n",
       "<!-- (&#39;model_parameters_store&#39;, &#39;r2&#39;) -->\n",
       "<g id=\"node7\" class=\"node\">\n",
       "<title>(&#39;model_parameters_store&#39;, &#39;r2&#39;)</title>\n",
       "<ellipse fill=\"none\" stroke=\"black\" stroke-width=\"2\" cx=\"664\" cy=\"-207.6\" rx=\"18\" ry=\"18\"/>\n",
       "<text text-anchor=\"start\" x=\"659.12\" y=\"-203.32\" font-family=\"Times,serif\" font-size=\"12.00\">r2</text>\n",
       "</g>\n",
       "<!-- (&#39;model_parameters_store&#39;,)&#45;&gt;(&#39;model_parameters_store&#39;, &#39;r2&#39;) -->\n",
       "<g id=\"edge4\" class=\"edge\">\n",
       "<title>(&#39;model_parameters_store&#39;,)&#45;&gt;(&#39;model_parameters_store&#39;, &#39;r2&#39;)</title>\n",
       "<path fill=\"none\" stroke=\"black\" stroke-width=\"2\" d=\"M724.75,-477.88C711.83,-458.84 699.15,-437.01 691,-415.2 666.18,-348.79 663.54,-262.96 663.66,-226.38\"/>\n",
       "</g>\n",
       "<!-- (&#39;model_parameters_store&#39;, &#39;b&#39;) -->\n",
       "<g id=\"node8\" class=\"node\">\n",
       "<title>(&#39;model_parameters_store&#39;, &#39;b&#39;)</title>\n",
       "<ellipse fill=\"none\" stroke=\"black\" stroke-width=\"2\" cx=\"718\" cy=\"-207.6\" rx=\"18\" ry=\"18\"/>\n",
       "<text text-anchor=\"start\" x=\"715\" y=\"-203.32\" font-family=\"Times,serif\" font-size=\"12.00\">b</text>\n",
       "</g>\n",
       "<!-- (&#39;model_parameters_store&#39;,)&#45;&gt;(&#39;model_parameters_store&#39;, &#39;b&#39;) -->\n",
       "<g id=\"edge5\" class=\"edge\">\n",
       "<title>(&#39;model_parameters_store&#39;,)&#45;&gt;(&#39;model_parameters_store&#39;, &#39;b&#39;)</title>\n",
       "<path fill=\"none\" stroke=\"black\" stroke-width=\"2\" d=\"M754.61,-463.61C751.16,-447.69 747.76,-430.93 745,-415.2 732.81,-345.72 723.52,-262.22 719.79,-226.37\"/>\n",
       "</g>\n",
       "<!-- (&#39;model_parameters_store&#39;, &#39;a&#39;) -->\n",
       "<g id=\"node9\" class=\"node\">\n",
       "<title>(&#39;model_parameters_store&#39;, &#39;a&#39;)</title>\n",
       "<ellipse fill=\"none\" stroke=\"black\" stroke-width=\"2\" cx=\"772\" cy=\"-207.6\" rx=\"18\" ry=\"18\"/>\n",
       "<text text-anchor=\"start\" x=\"769.38\" y=\"-203.32\" font-family=\"Times,serif\" font-size=\"12.00\">a</text>\n",
       "</g>\n",
       "<!-- (&#39;model_parameters_store&#39;,)&#45;&gt;(&#39;model_parameters_store&#39;, &#39;a&#39;) -->\n",
       "<g id=\"edge6\" class=\"edge\">\n",
       "<title>(&#39;model_parameters_store&#39;,)&#45;&gt;(&#39;model_parameters_store&#39;, &#39;a&#39;)</title>\n",
       "<path fill=\"none\" stroke=\"black\" stroke-width=\"2\" d=\"M772,-461.53C772,-384.35 772,-270.05 772,-226.41\"/>\n",
       "</g>\n",
       "<!-- (&#39;model_parameters_store&#39;, &#39;g2&#39;) -->\n",
       "<g id=\"node10\" class=\"node\">\n",
       "<title>(&#39;model_parameters_store&#39;, &#39;g2&#39;)</title>\n",
       "<ellipse fill=\"none\" stroke=\"black\" stroke-width=\"2\" cx=\"826\" cy=\"-207.6\" rx=\"18\" ry=\"18\"/>\n",
       "<text text-anchor=\"start\" x=\"820\" y=\"-203.32\" font-family=\"Times,serif\" font-size=\"12.00\">g2</text>\n",
       "</g>\n",
       "<!-- (&#39;model_parameters_store&#39;,)&#45;&gt;(&#39;model_parameters_store&#39;, &#39;g2&#39;) -->\n",
       "<g id=\"edge7\" class=\"edge\">\n",
       "<title>(&#39;model_parameters_store&#39;,)&#45;&gt;(&#39;model_parameters_store&#39;, &#39;g2&#39;)</title>\n",
       "<path fill=\"none\" stroke=\"black\" stroke-width=\"2\" d=\"M789.39,-463.61C792.84,-447.69 796.24,-430.93 799,-415.2 811.19,-345.72 820.48,-262.22 824.21,-226.37\"/>\n",
       "</g>\n",
       "<!-- (&#39;model_parameters_store&#39;, &#39;p1&#39;) -->\n",
       "<g id=\"node11\" class=\"node\">\n",
       "<title>(&#39;model_parameters_store&#39;, &#39;p1&#39;)</title>\n",
       "<ellipse fill=\"none\" stroke=\"black\" stroke-width=\"2\" cx=\"880\" cy=\"-207.6\" rx=\"18\" ry=\"18\"/>\n",
       "<text text-anchor=\"start\" x=\"874\" y=\"-203.32\" font-family=\"Times,serif\" font-size=\"12.00\">p1</text>\n",
       "</g>\n",
       "<!-- (&#39;model_parameters_store&#39;,)&#45;&gt;(&#39;model_parameters_store&#39;, &#39;p1&#39;) -->\n",
       "<g id=\"edge8\" class=\"edge\">\n",
       "<title>(&#39;model_parameters_store&#39;,)&#45;&gt;(&#39;model_parameters_store&#39;, &#39;p1&#39;)</title>\n",
       "<path fill=\"none\" stroke=\"black\" stroke-width=\"2\" d=\"M819.25,-477.88C832.17,-458.84 844.85,-437.01 853,-415.2 877.82,-348.79 880.46,-262.96 880.34,-226.38\"/>\n",
       "</g>\n",
       "<!-- (&#39;model_parameters_store&#39;, &#39;g1&#39;) -->\n",
       "<g id=\"node12\" class=\"node\">\n",
       "<title>(&#39;model_parameters_store&#39;, &#39;g1&#39;)</title>\n",
       "<ellipse fill=\"none\" stroke=\"black\" stroke-width=\"2\" cx=\"934\" cy=\"-207.6\" rx=\"18\" ry=\"18\"/>\n",
       "<text text-anchor=\"start\" x=\"928\" y=\"-203.32\" font-family=\"Times,serif\" font-size=\"12.00\">g1</text>\n",
       "</g>\n",
       "<!-- (&#39;model_parameters_store&#39;,)&#45;&gt;(&#39;model_parameters_store&#39;, &#39;g1&#39;) -->\n",
       "<g id=\"edge9\" class=\"edge\">\n",
       "<title>(&#39;model_parameters_store&#39;,)&#45;&gt;(&#39;model_parameters_store&#39;, &#39;g1&#39;)</title>\n",
       "<path fill=\"none\" stroke=\"black\" stroke-width=\"2\" d=\"M835.44,-495.49C861.93,-474.6 890.35,-446.98 907,-415.2 940.07,-352.08 938.23,-263.76 935.63,-226.4\"/>\n",
       "</g>\n",
       "<!-- (&#39;model_parameters_store&#39;, &#39;mu2&#39;) -->\n",
       "<g id=\"node13\" class=\"node\">\n",
       "<title>(&#39;model_parameters_store&#39;, &#39;mu2&#39;)</title>\n",
       "<ellipse fill=\"none\" stroke=\"black\" stroke-width=\"2\" cx=\"988\" cy=\"-207.6\" rx=\"18\" ry=\"18\"/>\n",
       "<text text-anchor=\"start\" x=\"977.5\" y=\"-203.32\" font-family=\"Times,serif\" font-size=\"12.00\">mu2</text>\n",
       "</g>\n",
       "<!-- (&#39;model_parameters_store&#39;,)&#45;&gt;(&#39;model_parameters_store&#39;, &#39;mu2&#39;) -->\n",
       "<g id=\"edge10\" class=\"edge\">\n",
       "<title>(&#39;model_parameters_store&#39;,)&#45;&gt;(&#39;model_parameters_store&#39;, &#39;mu2&#39;)</title>\n",
       "<path fill=\"none\" stroke=\"black\" stroke-width=\"2\" d=\"M843.15,-509.61C884.44,-489.68 933.56,-458.64 961,-415.2 999.25,-354.65 994.49,-264.17 990.36,-226.28\"/>\n",
       "</g>\n",
       "<!-- (&#39;model_parameters_store&#39;, &#39;c&#39;) -->\n",
       "<g id=\"node14\" class=\"node\">\n",
       "<title>(&#39;model_parameters_store&#39;, &#39;c&#39;)</title>\n",
       "<ellipse fill=\"none\" stroke=\"black\" stroke-width=\"2\" cx=\"1042\" cy=\"-207.6\" rx=\"18\" ry=\"18\"/>\n",
       "<text text-anchor=\"start\" x=\"1039.38\" y=\"-203.32\" font-family=\"Times,serif\" font-size=\"12.00\">c</text>\n",
       "</g>\n",
       "<!-- (&#39;model_parameters_store&#39;,)&#45;&gt;(&#39;model_parameters_store&#39;, &#39;c&#39;) -->\n",
       "<g id=\"edge11\" class=\"edge\">\n",
       "<title>(&#39;model_parameters_store&#39;,)&#45;&gt;(&#39;model_parameters_store&#39;, &#39;c&#39;)</title>\n",
       "<path fill=\"none\" stroke=\"black\" stroke-width=\"2\" d=\"M846.52,-520.06C902.19,-503.05 975.26,-471.24 1015,-415.2 1056.53,-356.63 1049.89,-264.67 1044.81,-226.32\"/>\n",
       "</g>\n",
       "<!-- (&#39;model_parameters_store&#39;, &#39;p2&#39;) -->\n",
       "<g id=\"node15\" class=\"node\">\n",
       "<title>(&#39;model_parameters_store&#39;, &#39;p2&#39;)</title>\n",
       "<ellipse fill=\"none\" stroke=\"black\" stroke-width=\"2\" cx=\"1096\" cy=\"-207.6\" rx=\"18\" ry=\"18\"/>\n",
       "<text text-anchor=\"start\" x=\"1090\" y=\"-203.32\" font-family=\"Times,serif\" font-size=\"12.00\">p2</text>\n",
       "</g>\n",
       "<!-- (&#39;model_parameters_store&#39;,)&#45;&gt;(&#39;model_parameters_store&#39;, &#39;p2&#39;) -->\n",
       "<g id=\"edge12\" class=\"edge\">\n",
       "<title>(&#39;model_parameters_store&#39;,)&#45;&gt;(&#39;model_parameters_store&#39;, &#39;p2&#39;)</title>\n",
       "<path fill=\"none\" stroke=\"black\" stroke-width=\"2\" d=\"M848.19,-528.44C917.9,-515.89 1017.74,-485.98 1069,-415.2 1111.22,-356.9 1104.12,-264.4 1098.86,-226.09\"/>\n",
       "</g>\n",
       "<!-- (&#39;model_parameters_store&#39;, &#39;g3&#39;) -->\n",
       "<g id=\"node16\" class=\"node\">\n",
       "<title>(&#39;model_parameters_store&#39;, &#39;g3&#39;)</title>\n",
       "<ellipse fill=\"none\" stroke=\"black\" stroke-width=\"2\" cx=\"1150\" cy=\"-207.6\" rx=\"18\" ry=\"18\"/>\n",
       "<text text-anchor=\"start\" x=\"1144\" y=\"-203.32\" font-family=\"Times,serif\" font-size=\"12.00\">g3</text>\n",
       "</g>\n",
       "<!-- (&#39;model_parameters_store&#39;,)&#45;&gt;(&#39;model_parameters_store&#39;, &#39;g3&#39;) -->\n",
       "<g id=\"edge13\" class=\"edge\">\n",
       "<title>(&#39;model_parameters_store&#39;,)&#45;&gt;(&#39;model_parameters_store&#39;, &#39;g3&#39;)</title>\n",
       "<path fill=\"none\" stroke=\"black\" stroke-width=\"2\" d=\"M848.56,-535.01C931.64,-527.85 1060.74,-502.36 1123,-415.2 1164.73,-356.77 1157.98,-264.74 1152.84,-226.34\"/>\n",
       "</g>\n",
       "<!-- (&#39;model_parameters_store&#39;, &#39;mu3&#39;) -->\n",
       "<g id=\"node17\" class=\"node\">\n",
       "<title>(&#39;model_parameters_store&#39;, &#39;mu3&#39;)</title>\n",
       "<ellipse fill=\"none\" stroke=\"black\" stroke-width=\"2\" cx=\"448\" cy=\"-207.6\" rx=\"18\" ry=\"18\"/>\n",
       "<text text-anchor=\"start\" x=\"437.5\" y=\"-203.32\" font-family=\"Times,serif\" font-size=\"12.00\">mu3</text>\n",
       "</g>\n",
       "<!-- (&#39;model_parameters_store&#39;,)&#45;&gt;(&#39;model_parameters_store&#39;, &#39;mu3&#39;) -->\n",
       "<g id=\"edge14\" class=\"edge\">\n",
       "<title>(&#39;model_parameters_store&#39;,)&#45;&gt;(&#39;model_parameters_store&#39;, &#39;mu3&#39;)</title>\n",
       "<path fill=\"none\" stroke=\"black\" stroke-width=\"2\" d=\"M695.87,-527.77C626.72,-514.76 527.71,-484.56 475,-415.2 431.44,-357.89 439.29,-264.84 444.94,-226.24\"/>\n",
       "</g>\n",
       "<!-- (&#39;model_parameters_store&#39;, &#39;V&#39;) -->\n",
       "<g id=\"node18\" class=\"node\">\n",
       "<title>(&#39;model_parameters_store&#39;, &#39;V&#39;)</title>\n",
       "<ellipse fill=\"none\" stroke=\"black\" stroke-width=\"2\" cx=\"502\" cy=\"-207.6\" rx=\"18\" ry=\"18\"/>\n",
       "<text text-anchor=\"start\" x=\"497.5\" y=\"-203.32\" font-family=\"Times,serif\" font-size=\"12.00\">V</text>\n",
       "</g>\n",
       "<!-- (&#39;model_parameters_store&#39;,)&#45;&gt;(&#39;model_parameters_store&#39;, &#39;V&#39;) -->\n",
       "<g id=\"edge15\" class=\"edge\">\n",
       "<title>(&#39;model_parameters_store&#39;,)&#45;&gt;(&#39;model_parameters_store&#39;, &#39;V&#39;)</title>\n",
       "<path fill=\"none\" stroke=\"black\" stroke-width=\"2\" d=\"M697.49,-520.05C641.84,-503.03 568.78,-471.22 529,-415.2 487.43,-356.65 494.09,-264.69 499.18,-226.33\"/>\n",
       "</g>\n",
       "<!-- (&#39;model_parameters_store&#39;, &#39;s1&#39;) -->\n",
       "<g id=\"node19\" class=\"node\">\n",
       "<title>(&#39;model_parameters_store&#39;, &#39;s1&#39;)</title>\n",
       "<ellipse fill=\"none\" stroke=\"black\" stroke-width=\"2\" cx=\"556\" cy=\"-207.6\" rx=\"18\" ry=\"18\"/>\n",
       "<text text-anchor=\"start\" x=\"550.75\" y=\"-203.32\" font-family=\"Times,serif\" font-size=\"12.00\">s1</text>\n",
       "</g>\n",
       "<!-- (&#39;model_parameters_store&#39;,)&#45;&gt;(&#39;model_parameters_store&#39;, &#39;s1&#39;) -->\n",
       "<g id=\"edge16\" class=\"edge\">\n",
       "<title>(&#39;model_parameters_store&#39;,)&#45;&gt;(&#39;model_parameters_store&#39;, &#39;s1&#39;)</title>\n",
       "<path fill=\"none\" stroke=\"black\" stroke-width=\"2\" d=\"M700.85,-509.61C659.56,-489.68 610.44,-458.64 583,-415.2 544.75,-354.65 549.51,-264.17 553.64,-226.28\"/>\n",
       "</g>\n",
       "<!-- (&#39;model_parameters_store&#39;, &#39;s2&#39;) -->\n",
       "<g id=\"node20\" class=\"node\">\n",
       "<title>(&#39;model_parameters_store&#39;, &#39;s2&#39;)</title>\n",
       "<ellipse fill=\"none\" stroke=\"black\" stroke-width=\"2\" cx=\"610\" cy=\"-207.6\" rx=\"18\" ry=\"18\"/>\n",
       "<text text-anchor=\"start\" x=\"604.75\" y=\"-203.32\" font-family=\"Times,serif\" font-size=\"12.00\">s2</text>\n",
       "</g>\n",
       "<!-- (&#39;model_parameters_store&#39;,)&#45;&gt;(&#39;model_parameters_store&#39;, &#39;s2&#39;) -->\n",
       "<g id=\"edge17\" class=\"edge\">\n",
       "<title>(&#39;model_parameters_store&#39;,)&#45;&gt;(&#39;model_parameters_store&#39;, &#39;s2&#39;)</title>\n",
       "<path fill=\"none\" stroke=\"black\" stroke-width=\"2\" d=\"M708.56,-495.49C682.07,-474.6 653.65,-446.98 637,-415.2 603.93,-352.08 605.77,-263.76 608.37,-226.4\"/>\n",
       "</g>\n",
       "<!-- (&#39;model_parameters_store&#39;,)&#45;&gt;(&#39;copasi_process&#39;,) -->\n",
       "<g id=\"edge26\" class=\"edge\">\n",
       "<title>(&#39;model_parameters_store&#39;,)&#45;&gt;(&#39;copasi_process&#39;,)</title>\n",
       "<path fill=\"none\" stroke=\"black\" stroke-dasharray=\"5,2\" d=\"M696.21,-526.89C603.2,-512.52 453,-483.92 413.75,-444.45 357.88,-388.26 351.81,-287.77 352.55,-238.08\"/>\n",
       "<polygon fill=\"black\" stroke=\"black\" points=\"356.05,-238.2 352.82,-228.11 349.05,-238.01 356.05,-238.2\"/>\n",
       "<text text-anchor=\"start\" x=\"414\" y=\"-434.95\" font-family=\"Times,serif\" font-size=\"10.00\">model_parameters</text>\n",
       "</g>\n",
       "<!-- (&#39;reactions_store&#39;,) -->\n",
       "<g id=\"node21\" class=\"node\">\n",
       "<title>(&#39;reactions_store&#39;,)</title>\n",
       "<ellipse fill=\"none\" stroke=\"black\" stroke-width=\"2\" cx=\"1925\" cy=\"-538.37\" rx=\"48.37\" ry=\"48.37\"/>\n",
       "<text text-anchor=\"start\" x=\"1889.75\" y=\"-534.1\" font-family=\"Times,serif\" font-size=\"12.00\">reactions_store</text>\n",
       "</g>\n",
       "<!-- (&#39;reactions_store&#39;, &#39;Induction of tumor&#39;) -->\n",
       "<g id=\"node22\" class=\"node\">\n",
       "<title>(&#39;reactions_store&#39;, &#39;Induction of tumor&#39;)</title>\n",
       "<ellipse fill=\"none\" stroke=\"black\" stroke-width=\"2\" cx=\"1246\" cy=\"-207.6\" rx=\"59.58\" ry=\"59.58\"/>\n",
       "<text text-anchor=\"start\" x=\"1201.75\" y=\"-203.32\" font-family=\"Times,serif\" font-size=\"12.00\">Induction of tumor</text>\n",
       "</g>\n",
       "<!-- (&#39;reactions_store&#39;,)&#45;&gt;(&#39;reactions_store&#39;, &#39;Induction of tumor&#39;) -->\n",
       "<g id=\"edge18\" class=\"edge\">\n",
       "<title>(&#39;reactions_store&#39;,)&#45;&gt;(&#39;reactions_store&#39;, &#39;Induction of tumor&#39;)</title>\n",
       "<path fill=\"none\" stroke=\"black\" stroke-width=\"2\" d=\"M1876.1,-533.86C1746.41,-523.59 1397.9,-489.54 1314,-415.2 1272.03,-378.01 1255.87,-314.45 1249.7,-267.62\"/>\n",
       "</g>\n",
       "<!-- (&#39;reactions_store&#39;, &#39;Removal of tumor from the system by the action of immune response&#39;) -->\n",
       "<g id=\"node23\" class=\"node\">\n",
       "<title>(&#39;reactions_store&#39;, &#39;Removal of tumor from the system by the action of immune response&#39;)</title>\n",
       "<ellipse fill=\"none\" stroke=\"black\" stroke-width=\"2\" cx=\"1531\" cy=\"-207.6\" rx=\"207.6\" ry=\"207.6\"/>\n",
       "<text text-anchor=\"start\" x=\"1367.88\" y=\"-203.32\" font-family=\"Times,serif\" font-size=\"12.00\">Removal of tumor from the system by the action of immune response</text>\n",
       "</g>\n",
       "<!-- (&#39;reactions_store&#39;,)&#45;&gt;(&#39;reactions_store&#39;, &#39;Removal of tumor from the system by the action of immune response&#39;) -->\n",
       "<g id=\"edge19\" class=\"edge\">\n",
       "<title>(&#39;reactions_store&#39;,)&#45;&gt;(&#39;reactions_store&#39;, &#39;Removal of tumor from the system by the action of immune response&#39;)</title>\n",
       "<path fill=\"none\" stroke=\"black\" stroke-width=\"2\" d=\"M1883.63,-511.45C1846.9,-487.83 1792.33,-451.23 1748,-415.2 1724.89,-396.42 1701.27,-375.7 1678.51,-354.86\"/>\n",
       "</g>\n",
       "<!-- (&#39;reactions_store&#39;, &#39;Activation and transfer of effector cells to the action site&#39;) -->\n",
       "<g id=\"node24\" class=\"node\">\n",
       "<title>(&#39;reactions_store&#39;, &#39;Activation and transfer of effector cells to the action site&#39;)</title>\n",
       "<ellipse fill=\"none\" stroke=\"black\" stroke-width=\"2\" cx=\"1925\" cy=\"-207.6\" rx=\"168.38\" ry=\"168.38\"/>\n",
       "<text text-anchor=\"start\" x=\"1793.38\" y=\"-203.32\" font-family=\"Times,serif\" font-size=\"12.00\">Activation and transfer of effector cells to the action site</text>\n",
       "</g>\n",
       "<!-- (&#39;reactions_store&#39;,)&#45;&gt;(&#39;reactions_store&#39;, &#39;Activation and transfer of effector cells to the action site&#39;) -->\n",
       "<g id=\"edge20\" class=\"edge\">\n",
       "<title>(&#39;reactions_store&#39;,)&#45;&gt;(&#39;reactions_store&#39;, &#39;Activation and transfer of effector cells to the action site&#39;)</title>\n",
       "<path fill=\"none\" stroke=\"black\" stroke-width=\"2\" d=\"M1925,-489.21C1925,-458.98 1925,-418.01 1925,-376.73\"/>\n",
       "</g>\n",
       "<!-- (&#39;reactions_store&#39;, &#39;Deactivation and removal of effector cells from the site of tumor&#39;) -->\n",
       "<g id=\"node25\" class=\"node\">\n",
       "<title>(&#39;reactions_store&#39;, &#39;Deactivation and removal of effector cells from the site of tumor&#39;)</title>\n",
       "<ellipse fill=\"none\" stroke=\"black\" stroke-width=\"2\" cx=\"2304\" cy=\"-207.6\" rx=\"192.66\" ry=\"192.66\"/>\n",
       "<text text-anchor=\"start\" x=\"2152.88\" y=\"-203.32\" font-family=\"Times,serif\" font-size=\"12.00\">Deactivation and removal of effector cells from the site of tumor</text>\n",
       "</g>\n",
       "<!-- (&#39;reactions_store&#39;,)&#45;&gt;(&#39;reactions_store&#39;, &#39;Deactivation and removal of effector cells from the site of tumor&#39;) -->\n",
       "<g id=\"edge21\" class=\"edge\">\n",
       "<title>(&#39;reactions_store&#39;,)&#45;&gt;(&#39;reactions_store&#39;, &#39;Deactivation and removal of effector cells from the site of tumor&#39;)</title>\n",
       "<path fill=\"none\" stroke=\"black\" stroke-width=\"2\" d=\"M1950.16,-496.08C1959.04,-484.02 1969.88,-471.62 1982,-462.45 2027.71,-427.86 2054.24,-446.89 2102,-415.2 2128.33,-397.73 2153.94,-376.34 2177.58,-354.03\"/>\n",
       "</g>\n",
       "<!-- (&#39;reactions_store&#39;, &#39;Activation of interleukin 2&#39;) -->\n",
       "<g id=\"node26\" class=\"node\">\n",
       "<title>(&#39;reactions_store&#39;, &#39;Activation of interleukin 2&#39;)</title>\n",
       "<ellipse fill=\"none\" stroke=\"black\" stroke-width=\"2\" cx=\"2597\" cy=\"-207.6\" rx=\"81.99\" ry=\"81.99\"/>\n",
       "<text text-anchor=\"start\" x=\"2534.75\" y=\"-203.32\" font-family=\"Times,serif\" font-size=\"12.00\">Activation of interleukin 2</text>\n",
       "</g>\n",
       "<!-- (&#39;reactions_store&#39;,)&#45;&gt;(&#39;reactions_store&#39;, &#39;Activation of interleukin 2&#39;) -->\n",
       "<g id=\"edge22\" class=\"edge\">\n",
       "<title>(&#39;reactions_store&#39;,)&#45;&gt;(&#39;reactions_store&#39;, &#39;Activation of interleukin 2&#39;)</title>\n",
       "<path fill=\"none\" stroke=\"black\" stroke-width=\"2\" d=\"M1947.87,-495.05C1956.82,-482.48 1968.27,-470.04 1982,-462.45 2033.16,-434.16 2458.52,-449.3 2506,-415.2 2546.98,-385.76 2569.76,-333.68 2582.28,-289.17\"/>\n",
       "</g>\n",
       "<!-- (&#39;reactions_store&#39;, &#39;Deactivation of interleukin2&#39;) -->\n",
       "<g id=\"node27\" class=\"node\">\n",
       "<title>(&#39;reactions_store&#39;, &#39;Deactivation of interleukin2&#39;)</title>\n",
       "<ellipse fill=\"none\" stroke=\"black\" stroke-width=\"2\" cx=\"2784\" cy=\"-207.6\" rx=\"86.66\" ry=\"86.66\"/>\n",
       "<text text-anchor=\"start\" x=\"2718\" y=\"-203.32\" font-family=\"Times,serif\" font-size=\"12.00\">Deactivation of interleukin2</text>\n",
       "</g>\n",
       "<!-- (&#39;reactions_store&#39;,)&#45;&gt;(&#39;reactions_store&#39;, &#39;Deactivation of interleukin2&#39;) -->\n",
       "<g id=\"edge23\" class=\"edge\">\n",
       "<title>(&#39;reactions_store&#39;,)&#45;&gt;(&#39;reactions_store&#39;, &#39;Deactivation of interleukin2&#39;)</title>\n",
       "<path fill=\"none\" stroke=\"black\" stroke-width=\"2\" d=\"M1947.73,-494.79C1956.67,-482.19 1968.15,-469.82 1982,-462.45 2013.05,-445.94 2262.91,-446.76 2298,-444.45 2384.72,-438.73 2616.53,-464.65 2688,-415.2 2728.65,-387.07 2752.5,-337.15 2766.25,-293.43\"/>\n",
       "</g>\n",
       "<!-- (&#39;reactions_store&#39;,)&#45;&gt;(&#39;copasi_process&#39;,) -->\n",
       "<g id=\"edge27\" class=\"edge\">\n",
       "<title>(&#39;reactions_store&#39;,)&#45;&gt;(&#39;copasi_process&#39;,)</title>\n",
       "<path fill=\"none\" stroke=\"black\" stroke-dasharray=\"5,2\" d=\"M1876.01,-534.14C1620.4,-517.17 450.28,-438.36 421,-415.2 366.41,-372.03 355.71,-283.71 353.99,-237.79\"/>\n",
       "<polygon fill=\"black\" stroke=\"black\" points=\"357.49,-237.72 353.75,-227.81 350.49,-237.89 357.49,-237.72\"/>\n",
       "<text text-anchor=\"start\" x=\"653\" y=\"-434.95\" font-family=\"Times,serif\" font-size=\"10.00\">reactions</text>\n",
       "</g>\n",
       "<!-- (&#39;emitter&#39;,) -->\n",
       "<g id=\"node28\" class=\"node\">\n",
       "<title>(&#39;emitter&#39;,)</title>\n",
       "<polygon fill=\"none\" stroke=\"black\" stroke-width=\"2\" points=\"2045,-556.37 1991,-556.37 1991,-520.37 2045,-520.37 2045,-556.37\"/>\n",
       "<text text-anchor=\"start\" x=\"2001.88\" y=\"-534.1\" font-family=\"Times,serif\" font-size=\"12.00\">emitter</text>\n",
       "</g>\n",
       "</g>\n",
       "</svg>\n"
      ],
      "text/plain": [
       "<graphviz.graphs.Digraph at 0x169f28310>"
      ]
     },
     "execution_count": 16,
     "metadata": {},
     "output_type": "execute_result"
    }
   ],
   "source": [
    "b.visualize()"
   ]
  },
  {
   "cell_type": "code",
   "execution_count": 17,
   "id": "b9e5221213af1467",
   "metadata": {
    "ExecuteTime": {
     "end_time": "2024-03-12T02:43:04.644080Z",
     "start_time": "2024-03-12T02:43:04.641876Z"
    },
    "collapsed": false
   },
   "outputs": [],
   "source": [
    "# b.connect_all()"
   ]
  },
  {
   "cell_type": "code",
   "execution_count": 18,
   "id": "1147f19a906c2120",
   "metadata": {
    "ExecuteTime": {
     "end_time": "2024-03-12T02:43:04.646505Z",
     "start_time": "2024-03-12T02:43:04.644932Z"
    },
    "collapsed": false
   },
   "outputs": [],
   "source": [
    "# b.visualize()"
   ]
  },
  {
   "cell_type": "code",
   "execution_count": 19,
   "id": "276474a71c62c878",
   "metadata": {
    "ExecuteTime": {
     "end_time": "2024-03-12T02:43:04.648775Z",
     "start_time": "2024-03-12T02:43:04.647085Z"
    },
    "collapsed": false
   },
   "outputs": [],
   "source": [
    "b['emitter'].connect(port='floating_species', target=['copasi_process', 'floating_species']) "
   ]
  },
  {
   "cell_type": "code",
   "execution_count": 20,
   "id": "c7ae43bf103a1fe9",
   "metadata": {
    "ExecuteTime": {
     "end_time": "2024-03-12T02:43:04.819747Z",
     "start_time": "2024-03-12T02:43:04.649390Z"
    },
    "collapsed": false
   },
   "outputs": [
    {
     "data": {
      "image/svg+xml": [
       "<?xml version=\"1.0\" encoding=\"UTF-8\" standalone=\"no\"?>\n",
       "<!DOCTYPE svg PUBLIC \"-//W3C//DTD SVG 1.1//EN\"\n",
       " \"http://www.w3.org/Graphics/SVG/1.1/DTD/svg11.dtd\">\n",
       "<!-- Generated by graphviz version 9.0.0 (20230911.1827)\n",
       " -->\n",
       "<!-- Title: bigraph Pages: 1 -->\n",
       "<svg width=\"1120pt\" height=\"242pt\"\n",
       " viewBox=\"0.00 0.00 1152.00 249.03\" xmlns=\"http://www.w3.org/2000/svg\" xmlns:xlink=\"http://www.w3.org/1999/xlink\">\n",
       "<g id=\"graph0\" class=\"graph\" transform=\"scale(0.389069 0.389069) rotate(0) translate(4 618.3)\">\n",
       "<title>bigraph</title>\n",
       "<polygon fill=\"white\" stroke=\"none\" points=\"-4,4 -4,-618.3 2874.66,-618.3 2874.66,4 -4,4\"/>\n",
       "<!-- (&#39;time_store&#39;,) -->\n",
       "<g id=\"node1\" class=\"node\">\n",
       "<title>(&#39;time_store&#39;,)</title>\n",
       "<ellipse fill=\"none\" stroke=\"black\" stroke-width=\"2\" cx=\"344\" cy=\"-538.37\" rx=\"34.83\" ry=\"34.83\"/>\n",
       "<text text-anchor=\"start\" x=\"319.62\" y=\"-534.1\" font-family=\"Times,serif\" font-size=\"12.00\">time_store</text>\n",
       "</g>\n",
       "<!-- (&#39;copasi_process&#39;,) -->\n",
       "<g id=\"node29\" class=\"node\">\n",
       "<title>(&#39;copasi_process&#39;,)</title>\n",
       "<polygon fill=\"none\" stroke=\"black\" stroke-width=\"2\" points=\"393.23,-225.6 314.77,-225.6 314.77,-189.6 393.23,-189.6 393.23,-225.6\"/>\n",
       "<text text-anchor=\"start\" x=\"318.38\" y=\"-203.32\" font-family=\"Times,serif\" font-size=\"12.00\">copasi_process</text>\n",
       "</g>\n",
       "<!-- (&#39;time_store&#39;,)&#45;&gt;(&#39;copasi_process&#39;,) -->\n",
       "<g id=\"edge24\" class=\"edge\">\n",
       "<title>(&#39;time_store&#39;,)&#45;&gt;(&#39;copasi_process&#39;,)</title>\n",
       "<path fill=\"none\" stroke=\"black\" stroke-dasharray=\"5,2\" d=\"M345.05,-502.81C347.03,-437.72 351.28,-298.08 353.12,-237.56\"/>\n",
       "<polygon fill=\"black\" stroke=\"black\" points=\"356.61,-237.84 353.42,-227.74 349.62,-237.63 356.61,-237.84\"/>\n",
       "<text text-anchor=\"start\" x=\"347\" y=\"-434.95\" font-family=\"Times,serif\" font-size=\"10.00\">time</text>\n",
       "</g>\n",
       "<!-- (&#39;time_store&#39;,)&#45;&gt;(&#39;copasi_process&#39;,) -->\n",
       "<g id=\"edge28\" class=\"edge\">\n",
       "<title>(&#39;time_store&#39;,)&#45;&gt;(&#39;copasi_process&#39;,)</title>\n",
       "<path fill=\"none\" stroke=\"black\" stroke-dasharray=\"5,2\" d=\"M332.92,-492.48C329.69,-477.33 326.6,-460.25 325,-444.45 316.74,-362.77 338.84,-265.56 349.1,-226.32\"/>\n",
       "<polygon fill=\"black\" stroke=\"black\" points=\"329.48,-493.16 335.07,-502.16 336.32,-491.64 329.48,-493.16\"/>\n",
       "<text text-anchor=\"start\" x=\"325\" y=\"-434.95\" font-family=\"Times,serif\" font-size=\"10.00\">time</text>\n",
       "</g>\n",
       "<!-- (&#39;floating_species_store&#39;,) -->\n",
       "<g id=\"node2\" class=\"node\">\n",
       "<title>(&#39;floating_species_store&#39;,)</title>\n",
       "<ellipse fill=\"none\" stroke=\"black\" stroke-width=\"2\" cx=\"111\" cy=\"-538.37\" rx=\"69.39\" ry=\"69.39\"/>\n",
       "<text text-anchor=\"start\" x=\"58.88\" y=\"-534.1\" font-family=\"Times,serif\" font-size=\"12.00\">floating_species_store</text>\n",
       "</g>\n",
       "<!-- (&#39;floating_species_store&#39;, &#39;T&#39;) -->\n",
       "<g id=\"node3\" class=\"node\">\n",
       "<title>(&#39;floating_species_store&#39;, &#39;T&#39;)</title>\n",
       "<ellipse fill=\"none\" stroke=\"black\" stroke-width=\"2\" cx=\"18\" cy=\"-207.6\" rx=\"18\" ry=\"18\"/>\n",
       "<text text-anchor=\"start\" x=\"14.25\" y=\"-203.32\" font-family=\"Times,serif\" font-size=\"12.00\">T</text>\n",
       "</g>\n",
       "<!-- (&#39;floating_species_store&#39;,)&#45;&gt;(&#39;floating_species_store&#39;, &#39;T&#39;) -->\n",
       "<g id=\"edge1\" class=\"edge\">\n",
       "<title>(&#39;floating_species_store&#39;,)&#45;&gt;(&#39;floating_species_store&#39;, &#39;T&#39;)</title>\n",
       "<path fill=\"none\" stroke=\"black\" stroke-width=\"2\" d=\"M73.71,-478.73C62.83,-459.2 52.01,-436.88 45,-415.2 23.25,-347.91 18.97,-262.91 18.17,-226.49\"/>\n",
       "</g>\n",
       "<!-- (&#39;floating_species_store&#39;, &#39;E&#39;) -->\n",
       "<g id=\"node4\" class=\"node\">\n",
       "<title>(&#39;floating_species_store&#39;, &#39;E&#39;)</title>\n",
       "<ellipse fill=\"none\" stroke=\"black\" stroke-width=\"2\" cx=\"72\" cy=\"-207.6\" rx=\"18\" ry=\"18\"/>\n",
       "<text text-anchor=\"start\" x=\"68.25\" y=\"-203.32\" font-family=\"Times,serif\" font-size=\"12.00\">E</text>\n",
       "</g>\n",
       "<!-- (&#39;floating_species_store&#39;,)&#45;&gt;(&#39;floating_species_store&#39;, &#39;E&#39;) -->\n",
       "<g id=\"edge2\" class=\"edge\">\n",
       "<title>(&#39;floating_species_store&#39;,)&#45;&gt;(&#39;floating_species_store&#39;, &#39;E&#39;)</title>\n",
       "<path fill=\"none\" stroke=\"black\" stroke-width=\"2\" d=\"M102.87,-468.85C93.72,-391.69 79.43,-271.22 74.1,-226.28\"/>\n",
       "</g>\n",
       "<!-- (&#39;floating_species_store&#39;, &#39;I&#39;) -->\n",
       "<g id=\"node5\" class=\"node\">\n",
       "<title>(&#39;floating_species_store&#39;, &#39;I&#39;)</title>\n",
       "<ellipse fill=\"none\" stroke=\"black\" stroke-width=\"2\" cx=\"126\" cy=\"-207.6\" rx=\"18\" ry=\"18\"/>\n",
       "<text text-anchor=\"start\" x=\"124.12\" y=\"-203.32\" font-family=\"Times,serif\" font-size=\"12.00\">I</text>\n",
       "</g>\n",
       "<!-- (&#39;floating_species_store&#39;,)&#45;&gt;(&#39;floating_species_store&#39;, &#39;I&#39;) -->\n",
       "<g id=\"edge3\" class=\"edge\">\n",
       "<title>(&#39;floating_species_store&#39;,)&#45;&gt;(&#39;floating_species_store&#39;, &#39;I&#39;)</title>\n",
       "<path fill=\"none\" stroke=\"black\" stroke-width=\"2\" d=\"M114.14,-468.45C117.66,-391.44 123.12,-271.65 125.18,-226.57\"/>\n",
       "</g>\n",
       "<!-- (&#39;floating_species_store&#39;,)&#45;&gt;(&#39;copasi_process&#39;,) -->\n",
       "<g id=\"edge25\" class=\"edge\">\n",
       "<title>(&#39;floating_species_store&#39;,)&#45;&gt;(&#39;copasi_process&#39;,)</title>\n",
       "<path fill=\"none\" stroke=\"black\" stroke-dasharray=\"5,2\" d=\"M128.34,-470.21C132.93,-457.48 138.52,-444.59 145.25,-433.2 194.24,-350.21 278.33,-272.28 323.38,-233.75\"/>\n",
       "<polygon fill=\"black\" stroke=\"black\" points=\"325.58,-236.47 330.96,-227.34 321.06,-231.13 325.58,-236.47\"/>\n",
       "<text text-anchor=\"start\" x=\"146\" y=\"-434.95\" font-family=\"Times,serif\" font-size=\"10.00\">floating_species</text>\n",
       "</g>\n",
       "<!-- (&#39;floating_species_store&#39;,)&#45;&gt;(&#39;copasi_process&#39;,) -->\n",
       "<g id=\"edge29\" class=\"edge\">\n",
       "<title>(&#39;floating_species_store&#39;,)&#45;&gt;(&#39;copasi_process&#39;,)</title>\n",
       "<path fill=\"none\" stroke=\"black\" stroke-dasharray=\"5,2\" d=\"M173.06,-485.47C186.63,-472.74 200.4,-458.67 212,-444.45 272.59,-370.21 325.38,-267.59 345.41,-226.58\"/>\n",
       "<polygon fill=\"black\" stroke=\"black\" points=\"170.75,-482.84 165.77,-492.18 175.5,-487.98 170.75,-482.84\"/>\n",
       "<text text-anchor=\"start\" x=\"217\" y=\"-434.95\" font-family=\"Times,serif\" font-size=\"10.00\">floating_species</text>\n",
       "</g>\n",
       "<!-- (&#39;model_parameters_store&#39;,) -->\n",
       "<g id=\"node6\" class=\"node\">\n",
       "<title>(&#39;model_parameters_store&#39;,)</title>\n",
       "<ellipse fill=\"none\" stroke=\"black\" stroke-width=\"2\" cx=\"772\" cy=\"-538.37\" rx=\"75.92\" ry=\"75.92\"/>\n",
       "<text text-anchor=\"start\" x=\"714.62\" y=\"-534.1\" font-family=\"Times,serif\" font-size=\"12.00\">model_parameters_store</text>\n",
       "</g>\n",
       "<!-- (&#39;model_parameters_store&#39;, &#39;r2&#39;) -->\n",
       "<g id=\"node7\" class=\"node\">\n",
       "<title>(&#39;model_parameters_store&#39;, &#39;r2&#39;)</title>\n",
       "<ellipse fill=\"none\" stroke=\"black\" stroke-width=\"2\" cx=\"664\" cy=\"-207.6\" rx=\"18\" ry=\"18\"/>\n",
       "<text text-anchor=\"start\" x=\"659.12\" y=\"-203.32\" font-family=\"Times,serif\" font-size=\"12.00\">r2</text>\n",
       "</g>\n",
       "<!-- (&#39;model_parameters_store&#39;,)&#45;&gt;(&#39;model_parameters_store&#39;, &#39;r2&#39;) -->\n",
       "<g id=\"edge4\" class=\"edge\">\n",
       "<title>(&#39;model_parameters_store&#39;,)&#45;&gt;(&#39;model_parameters_store&#39;, &#39;r2&#39;)</title>\n",
       "<path fill=\"none\" stroke=\"black\" stroke-width=\"2\" d=\"M724.75,-477.88C711.83,-458.84 699.15,-437.01 691,-415.2 666.18,-348.79 663.54,-262.96 663.66,-226.38\"/>\n",
       "</g>\n",
       "<!-- (&#39;model_parameters_store&#39;, &#39;b&#39;) -->\n",
       "<g id=\"node8\" class=\"node\">\n",
       "<title>(&#39;model_parameters_store&#39;, &#39;b&#39;)</title>\n",
       "<ellipse fill=\"none\" stroke=\"black\" stroke-width=\"2\" cx=\"718\" cy=\"-207.6\" rx=\"18\" ry=\"18\"/>\n",
       "<text text-anchor=\"start\" x=\"715\" y=\"-203.32\" font-family=\"Times,serif\" font-size=\"12.00\">b</text>\n",
       "</g>\n",
       "<!-- (&#39;model_parameters_store&#39;,)&#45;&gt;(&#39;model_parameters_store&#39;, &#39;b&#39;) -->\n",
       "<g id=\"edge5\" class=\"edge\">\n",
       "<title>(&#39;model_parameters_store&#39;,)&#45;&gt;(&#39;model_parameters_store&#39;, &#39;b&#39;)</title>\n",
       "<path fill=\"none\" stroke=\"black\" stroke-width=\"2\" d=\"M754.61,-463.61C751.16,-447.69 747.76,-430.93 745,-415.2 732.81,-345.72 723.52,-262.22 719.79,-226.37\"/>\n",
       "</g>\n",
       "<!-- (&#39;model_parameters_store&#39;, &#39;a&#39;) -->\n",
       "<g id=\"node9\" class=\"node\">\n",
       "<title>(&#39;model_parameters_store&#39;, &#39;a&#39;)</title>\n",
       "<ellipse fill=\"none\" stroke=\"black\" stroke-width=\"2\" cx=\"772\" cy=\"-207.6\" rx=\"18\" ry=\"18\"/>\n",
       "<text text-anchor=\"start\" x=\"769.38\" y=\"-203.32\" font-family=\"Times,serif\" font-size=\"12.00\">a</text>\n",
       "</g>\n",
       "<!-- (&#39;model_parameters_store&#39;,)&#45;&gt;(&#39;model_parameters_store&#39;, &#39;a&#39;) -->\n",
       "<g id=\"edge6\" class=\"edge\">\n",
       "<title>(&#39;model_parameters_store&#39;,)&#45;&gt;(&#39;model_parameters_store&#39;, &#39;a&#39;)</title>\n",
       "<path fill=\"none\" stroke=\"black\" stroke-width=\"2\" d=\"M772,-461.53C772,-384.35 772,-270.05 772,-226.41\"/>\n",
       "</g>\n",
       "<!-- (&#39;model_parameters_store&#39;, &#39;g2&#39;) -->\n",
       "<g id=\"node10\" class=\"node\">\n",
       "<title>(&#39;model_parameters_store&#39;, &#39;g2&#39;)</title>\n",
       "<ellipse fill=\"none\" stroke=\"black\" stroke-width=\"2\" cx=\"826\" cy=\"-207.6\" rx=\"18\" ry=\"18\"/>\n",
       "<text text-anchor=\"start\" x=\"820\" y=\"-203.32\" font-family=\"Times,serif\" font-size=\"12.00\">g2</text>\n",
       "</g>\n",
       "<!-- (&#39;model_parameters_store&#39;,)&#45;&gt;(&#39;model_parameters_store&#39;, &#39;g2&#39;) -->\n",
       "<g id=\"edge7\" class=\"edge\">\n",
       "<title>(&#39;model_parameters_store&#39;,)&#45;&gt;(&#39;model_parameters_store&#39;, &#39;g2&#39;)</title>\n",
       "<path fill=\"none\" stroke=\"black\" stroke-width=\"2\" d=\"M789.39,-463.61C792.84,-447.69 796.24,-430.93 799,-415.2 811.19,-345.72 820.48,-262.22 824.21,-226.37\"/>\n",
       "</g>\n",
       "<!-- (&#39;model_parameters_store&#39;, &#39;p1&#39;) -->\n",
       "<g id=\"node11\" class=\"node\">\n",
       "<title>(&#39;model_parameters_store&#39;, &#39;p1&#39;)</title>\n",
       "<ellipse fill=\"none\" stroke=\"black\" stroke-width=\"2\" cx=\"880\" cy=\"-207.6\" rx=\"18\" ry=\"18\"/>\n",
       "<text text-anchor=\"start\" x=\"874\" y=\"-203.32\" font-family=\"Times,serif\" font-size=\"12.00\">p1</text>\n",
       "</g>\n",
       "<!-- (&#39;model_parameters_store&#39;,)&#45;&gt;(&#39;model_parameters_store&#39;, &#39;p1&#39;) -->\n",
       "<g id=\"edge8\" class=\"edge\">\n",
       "<title>(&#39;model_parameters_store&#39;,)&#45;&gt;(&#39;model_parameters_store&#39;, &#39;p1&#39;)</title>\n",
       "<path fill=\"none\" stroke=\"black\" stroke-width=\"2\" d=\"M819.25,-477.88C832.17,-458.84 844.85,-437.01 853,-415.2 877.82,-348.79 880.46,-262.96 880.34,-226.38\"/>\n",
       "</g>\n",
       "<!-- (&#39;model_parameters_store&#39;, &#39;g1&#39;) -->\n",
       "<g id=\"node12\" class=\"node\">\n",
       "<title>(&#39;model_parameters_store&#39;, &#39;g1&#39;)</title>\n",
       "<ellipse fill=\"none\" stroke=\"black\" stroke-width=\"2\" cx=\"934\" cy=\"-207.6\" rx=\"18\" ry=\"18\"/>\n",
       "<text text-anchor=\"start\" x=\"928\" y=\"-203.32\" font-family=\"Times,serif\" font-size=\"12.00\">g1</text>\n",
       "</g>\n",
       "<!-- (&#39;model_parameters_store&#39;,)&#45;&gt;(&#39;model_parameters_store&#39;, &#39;g1&#39;) -->\n",
       "<g id=\"edge9\" class=\"edge\">\n",
       "<title>(&#39;model_parameters_store&#39;,)&#45;&gt;(&#39;model_parameters_store&#39;, &#39;g1&#39;)</title>\n",
       "<path fill=\"none\" stroke=\"black\" stroke-width=\"2\" d=\"M835.44,-495.49C861.93,-474.6 890.35,-446.98 907,-415.2 940.07,-352.08 938.23,-263.76 935.63,-226.4\"/>\n",
       "</g>\n",
       "<!-- (&#39;model_parameters_store&#39;, &#39;mu2&#39;) -->\n",
       "<g id=\"node13\" class=\"node\">\n",
       "<title>(&#39;model_parameters_store&#39;, &#39;mu2&#39;)</title>\n",
       "<ellipse fill=\"none\" stroke=\"black\" stroke-width=\"2\" cx=\"988\" cy=\"-207.6\" rx=\"18\" ry=\"18\"/>\n",
       "<text text-anchor=\"start\" x=\"977.5\" y=\"-203.32\" font-family=\"Times,serif\" font-size=\"12.00\">mu2</text>\n",
       "</g>\n",
       "<!-- (&#39;model_parameters_store&#39;,)&#45;&gt;(&#39;model_parameters_store&#39;, &#39;mu2&#39;) -->\n",
       "<g id=\"edge10\" class=\"edge\">\n",
       "<title>(&#39;model_parameters_store&#39;,)&#45;&gt;(&#39;model_parameters_store&#39;, &#39;mu2&#39;)</title>\n",
       "<path fill=\"none\" stroke=\"black\" stroke-width=\"2\" d=\"M843.15,-509.61C884.44,-489.68 933.56,-458.64 961,-415.2 999.25,-354.65 994.49,-264.17 990.36,-226.28\"/>\n",
       "</g>\n",
       "<!-- (&#39;model_parameters_store&#39;, &#39;c&#39;) -->\n",
       "<g id=\"node14\" class=\"node\">\n",
       "<title>(&#39;model_parameters_store&#39;, &#39;c&#39;)</title>\n",
       "<ellipse fill=\"none\" stroke=\"black\" stroke-width=\"2\" cx=\"1042\" cy=\"-207.6\" rx=\"18\" ry=\"18\"/>\n",
       "<text text-anchor=\"start\" x=\"1039.38\" y=\"-203.32\" font-family=\"Times,serif\" font-size=\"12.00\">c</text>\n",
       "</g>\n",
       "<!-- (&#39;model_parameters_store&#39;,)&#45;&gt;(&#39;model_parameters_store&#39;, &#39;c&#39;) -->\n",
       "<g id=\"edge11\" class=\"edge\">\n",
       "<title>(&#39;model_parameters_store&#39;,)&#45;&gt;(&#39;model_parameters_store&#39;, &#39;c&#39;)</title>\n",
       "<path fill=\"none\" stroke=\"black\" stroke-width=\"2\" d=\"M846.52,-520.06C902.19,-503.05 975.26,-471.24 1015,-415.2 1056.53,-356.63 1049.89,-264.67 1044.81,-226.32\"/>\n",
       "</g>\n",
       "<!-- (&#39;model_parameters_store&#39;, &#39;p2&#39;) -->\n",
       "<g id=\"node15\" class=\"node\">\n",
       "<title>(&#39;model_parameters_store&#39;, &#39;p2&#39;)</title>\n",
       "<ellipse fill=\"none\" stroke=\"black\" stroke-width=\"2\" cx=\"1096\" cy=\"-207.6\" rx=\"18\" ry=\"18\"/>\n",
       "<text text-anchor=\"start\" x=\"1090\" y=\"-203.32\" font-family=\"Times,serif\" font-size=\"12.00\">p2</text>\n",
       "</g>\n",
       "<!-- (&#39;model_parameters_store&#39;,)&#45;&gt;(&#39;model_parameters_store&#39;, &#39;p2&#39;) -->\n",
       "<g id=\"edge12\" class=\"edge\">\n",
       "<title>(&#39;model_parameters_store&#39;,)&#45;&gt;(&#39;model_parameters_store&#39;, &#39;p2&#39;)</title>\n",
       "<path fill=\"none\" stroke=\"black\" stroke-width=\"2\" d=\"M848.19,-528.44C917.9,-515.89 1017.74,-485.98 1069,-415.2 1111.22,-356.9 1104.12,-264.4 1098.86,-226.09\"/>\n",
       "</g>\n",
       "<!-- (&#39;model_parameters_store&#39;, &#39;g3&#39;) -->\n",
       "<g id=\"node16\" class=\"node\">\n",
       "<title>(&#39;model_parameters_store&#39;, &#39;g3&#39;)</title>\n",
       "<ellipse fill=\"none\" stroke=\"black\" stroke-width=\"2\" cx=\"1150\" cy=\"-207.6\" rx=\"18\" ry=\"18\"/>\n",
       "<text text-anchor=\"start\" x=\"1144\" y=\"-203.32\" font-family=\"Times,serif\" font-size=\"12.00\">g3</text>\n",
       "</g>\n",
       "<!-- (&#39;model_parameters_store&#39;,)&#45;&gt;(&#39;model_parameters_store&#39;, &#39;g3&#39;) -->\n",
       "<g id=\"edge13\" class=\"edge\">\n",
       "<title>(&#39;model_parameters_store&#39;,)&#45;&gt;(&#39;model_parameters_store&#39;, &#39;g3&#39;)</title>\n",
       "<path fill=\"none\" stroke=\"black\" stroke-width=\"2\" d=\"M848.56,-535.01C931.64,-527.85 1060.74,-502.36 1123,-415.2 1164.73,-356.77 1157.98,-264.74 1152.84,-226.34\"/>\n",
       "</g>\n",
       "<!-- (&#39;model_parameters_store&#39;, &#39;mu3&#39;) -->\n",
       "<g id=\"node17\" class=\"node\">\n",
       "<title>(&#39;model_parameters_store&#39;, &#39;mu3&#39;)</title>\n",
       "<ellipse fill=\"none\" stroke=\"black\" stroke-width=\"2\" cx=\"448\" cy=\"-207.6\" rx=\"18\" ry=\"18\"/>\n",
       "<text text-anchor=\"start\" x=\"437.5\" y=\"-203.32\" font-family=\"Times,serif\" font-size=\"12.00\">mu3</text>\n",
       "</g>\n",
       "<!-- (&#39;model_parameters_store&#39;,)&#45;&gt;(&#39;model_parameters_store&#39;, &#39;mu3&#39;) -->\n",
       "<g id=\"edge14\" class=\"edge\">\n",
       "<title>(&#39;model_parameters_store&#39;,)&#45;&gt;(&#39;model_parameters_store&#39;, &#39;mu3&#39;)</title>\n",
       "<path fill=\"none\" stroke=\"black\" stroke-width=\"2\" d=\"M695.87,-527.77C626.72,-514.76 527.71,-484.56 475,-415.2 431.44,-357.89 439.29,-264.84 444.94,-226.24\"/>\n",
       "</g>\n",
       "<!-- (&#39;model_parameters_store&#39;, &#39;V&#39;) -->\n",
       "<g id=\"node18\" class=\"node\">\n",
       "<title>(&#39;model_parameters_store&#39;, &#39;V&#39;)</title>\n",
       "<ellipse fill=\"none\" stroke=\"black\" stroke-width=\"2\" cx=\"502\" cy=\"-207.6\" rx=\"18\" ry=\"18\"/>\n",
       "<text text-anchor=\"start\" x=\"497.5\" y=\"-203.32\" font-family=\"Times,serif\" font-size=\"12.00\">V</text>\n",
       "</g>\n",
       "<!-- (&#39;model_parameters_store&#39;,)&#45;&gt;(&#39;model_parameters_store&#39;, &#39;V&#39;) -->\n",
       "<g id=\"edge15\" class=\"edge\">\n",
       "<title>(&#39;model_parameters_store&#39;,)&#45;&gt;(&#39;model_parameters_store&#39;, &#39;V&#39;)</title>\n",
       "<path fill=\"none\" stroke=\"black\" stroke-width=\"2\" d=\"M697.49,-520.05C641.84,-503.03 568.78,-471.22 529,-415.2 487.43,-356.65 494.09,-264.69 499.18,-226.33\"/>\n",
       "</g>\n",
       "<!-- (&#39;model_parameters_store&#39;, &#39;s1&#39;) -->\n",
       "<g id=\"node19\" class=\"node\">\n",
       "<title>(&#39;model_parameters_store&#39;, &#39;s1&#39;)</title>\n",
       "<ellipse fill=\"none\" stroke=\"black\" stroke-width=\"2\" cx=\"556\" cy=\"-207.6\" rx=\"18\" ry=\"18\"/>\n",
       "<text text-anchor=\"start\" x=\"550.75\" y=\"-203.32\" font-family=\"Times,serif\" font-size=\"12.00\">s1</text>\n",
       "</g>\n",
       "<!-- (&#39;model_parameters_store&#39;,)&#45;&gt;(&#39;model_parameters_store&#39;, &#39;s1&#39;) -->\n",
       "<g id=\"edge16\" class=\"edge\">\n",
       "<title>(&#39;model_parameters_store&#39;,)&#45;&gt;(&#39;model_parameters_store&#39;, &#39;s1&#39;)</title>\n",
       "<path fill=\"none\" stroke=\"black\" stroke-width=\"2\" d=\"M700.85,-509.61C659.56,-489.68 610.44,-458.64 583,-415.2 544.75,-354.65 549.51,-264.17 553.64,-226.28\"/>\n",
       "</g>\n",
       "<!-- (&#39;model_parameters_store&#39;, &#39;s2&#39;) -->\n",
       "<g id=\"node20\" class=\"node\">\n",
       "<title>(&#39;model_parameters_store&#39;, &#39;s2&#39;)</title>\n",
       "<ellipse fill=\"none\" stroke=\"black\" stroke-width=\"2\" cx=\"610\" cy=\"-207.6\" rx=\"18\" ry=\"18\"/>\n",
       "<text text-anchor=\"start\" x=\"604.75\" y=\"-203.32\" font-family=\"Times,serif\" font-size=\"12.00\">s2</text>\n",
       "</g>\n",
       "<!-- (&#39;model_parameters_store&#39;,)&#45;&gt;(&#39;model_parameters_store&#39;, &#39;s2&#39;) -->\n",
       "<g id=\"edge17\" class=\"edge\">\n",
       "<title>(&#39;model_parameters_store&#39;,)&#45;&gt;(&#39;model_parameters_store&#39;, &#39;s2&#39;)</title>\n",
       "<path fill=\"none\" stroke=\"black\" stroke-width=\"2\" d=\"M708.56,-495.49C682.07,-474.6 653.65,-446.98 637,-415.2 603.93,-352.08 605.77,-263.76 608.37,-226.4\"/>\n",
       "</g>\n",
       "<!-- (&#39;model_parameters_store&#39;,)&#45;&gt;(&#39;copasi_process&#39;,) -->\n",
       "<g id=\"edge26\" class=\"edge\">\n",
       "<title>(&#39;model_parameters_store&#39;,)&#45;&gt;(&#39;copasi_process&#39;,)</title>\n",
       "<path fill=\"none\" stroke=\"black\" stroke-dasharray=\"5,2\" d=\"M696.21,-526.89C603.2,-512.52 453,-483.92 413.75,-444.45 357.88,-388.26 351.81,-287.77 352.55,-238.08\"/>\n",
       "<polygon fill=\"black\" stroke=\"black\" points=\"356.05,-238.2 352.82,-228.11 349.05,-238.01 356.05,-238.2\"/>\n",
       "<text text-anchor=\"start\" x=\"414\" y=\"-434.95\" font-family=\"Times,serif\" font-size=\"10.00\">model_parameters</text>\n",
       "</g>\n",
       "<!-- (&#39;reactions_store&#39;,) -->\n",
       "<g id=\"node21\" class=\"node\">\n",
       "<title>(&#39;reactions_store&#39;,)</title>\n",
       "<ellipse fill=\"none\" stroke=\"black\" stroke-width=\"2\" cx=\"1925\" cy=\"-538.37\" rx=\"48.37\" ry=\"48.37\"/>\n",
       "<text text-anchor=\"start\" x=\"1889.75\" y=\"-534.1\" font-family=\"Times,serif\" font-size=\"12.00\">reactions_store</text>\n",
       "</g>\n",
       "<!-- (&#39;reactions_store&#39;, &#39;Induction of tumor&#39;) -->\n",
       "<g id=\"node22\" class=\"node\">\n",
       "<title>(&#39;reactions_store&#39;, &#39;Induction of tumor&#39;)</title>\n",
       "<ellipse fill=\"none\" stroke=\"black\" stroke-width=\"2\" cx=\"1246\" cy=\"-207.6\" rx=\"59.58\" ry=\"59.58\"/>\n",
       "<text text-anchor=\"start\" x=\"1201.75\" y=\"-203.32\" font-family=\"Times,serif\" font-size=\"12.00\">Induction of tumor</text>\n",
       "</g>\n",
       "<!-- (&#39;reactions_store&#39;,)&#45;&gt;(&#39;reactions_store&#39;, &#39;Induction of tumor&#39;) -->\n",
       "<g id=\"edge18\" class=\"edge\">\n",
       "<title>(&#39;reactions_store&#39;,)&#45;&gt;(&#39;reactions_store&#39;, &#39;Induction of tumor&#39;)</title>\n",
       "<path fill=\"none\" stroke=\"black\" stroke-width=\"2\" d=\"M1876.1,-533.86C1746.41,-523.59 1397.9,-489.54 1314,-415.2 1272.03,-378.01 1255.87,-314.45 1249.7,-267.62\"/>\n",
       "</g>\n",
       "<!-- (&#39;reactions_store&#39;, &#39;Removal of tumor from the system by the action of immune response&#39;) -->\n",
       "<g id=\"node23\" class=\"node\">\n",
       "<title>(&#39;reactions_store&#39;, &#39;Removal of tumor from the system by the action of immune response&#39;)</title>\n",
       "<ellipse fill=\"none\" stroke=\"black\" stroke-width=\"2\" cx=\"1531\" cy=\"-207.6\" rx=\"207.6\" ry=\"207.6\"/>\n",
       "<text text-anchor=\"start\" x=\"1367.88\" y=\"-203.32\" font-family=\"Times,serif\" font-size=\"12.00\">Removal of tumor from the system by the action of immune response</text>\n",
       "</g>\n",
       "<!-- (&#39;reactions_store&#39;,)&#45;&gt;(&#39;reactions_store&#39;, &#39;Removal of tumor from the system by the action of immune response&#39;) -->\n",
       "<g id=\"edge19\" class=\"edge\">\n",
       "<title>(&#39;reactions_store&#39;,)&#45;&gt;(&#39;reactions_store&#39;, &#39;Removal of tumor from the system by the action of immune response&#39;)</title>\n",
       "<path fill=\"none\" stroke=\"black\" stroke-width=\"2\" d=\"M1883.63,-511.45C1846.9,-487.83 1792.33,-451.23 1748,-415.2 1724.89,-396.42 1701.27,-375.7 1678.51,-354.86\"/>\n",
       "</g>\n",
       "<!-- (&#39;reactions_store&#39;, &#39;Activation and transfer of effector cells to the action site&#39;) -->\n",
       "<g id=\"node24\" class=\"node\">\n",
       "<title>(&#39;reactions_store&#39;, &#39;Activation and transfer of effector cells to the action site&#39;)</title>\n",
       "<ellipse fill=\"none\" stroke=\"black\" stroke-width=\"2\" cx=\"1925\" cy=\"-207.6\" rx=\"168.38\" ry=\"168.38\"/>\n",
       "<text text-anchor=\"start\" x=\"1793.38\" y=\"-203.32\" font-family=\"Times,serif\" font-size=\"12.00\">Activation and transfer of effector cells to the action site</text>\n",
       "</g>\n",
       "<!-- (&#39;reactions_store&#39;,)&#45;&gt;(&#39;reactions_store&#39;, &#39;Activation and transfer of effector cells to the action site&#39;) -->\n",
       "<g id=\"edge20\" class=\"edge\">\n",
       "<title>(&#39;reactions_store&#39;,)&#45;&gt;(&#39;reactions_store&#39;, &#39;Activation and transfer of effector cells to the action site&#39;)</title>\n",
       "<path fill=\"none\" stroke=\"black\" stroke-width=\"2\" d=\"M1925,-489.21C1925,-458.98 1925,-418.01 1925,-376.73\"/>\n",
       "</g>\n",
       "<!-- (&#39;reactions_store&#39;, &#39;Deactivation and removal of effector cells from the site of tumor&#39;) -->\n",
       "<g id=\"node25\" class=\"node\">\n",
       "<title>(&#39;reactions_store&#39;, &#39;Deactivation and removal of effector cells from the site of tumor&#39;)</title>\n",
       "<ellipse fill=\"none\" stroke=\"black\" stroke-width=\"2\" cx=\"2304\" cy=\"-207.6\" rx=\"192.66\" ry=\"192.66\"/>\n",
       "<text text-anchor=\"start\" x=\"2152.88\" y=\"-203.32\" font-family=\"Times,serif\" font-size=\"12.00\">Deactivation and removal of effector cells from the site of tumor</text>\n",
       "</g>\n",
       "<!-- (&#39;reactions_store&#39;,)&#45;&gt;(&#39;reactions_store&#39;, &#39;Deactivation and removal of effector cells from the site of tumor&#39;) -->\n",
       "<g id=\"edge21\" class=\"edge\">\n",
       "<title>(&#39;reactions_store&#39;,)&#45;&gt;(&#39;reactions_store&#39;, &#39;Deactivation and removal of effector cells from the site of tumor&#39;)</title>\n",
       "<path fill=\"none\" stroke=\"black\" stroke-width=\"2\" d=\"M1950.16,-496.08C1959.04,-484.02 1969.88,-471.62 1982,-462.45 2027.71,-427.86 2054.24,-446.89 2102,-415.2 2128.33,-397.73 2153.94,-376.34 2177.58,-354.03\"/>\n",
       "</g>\n",
       "<!-- (&#39;reactions_store&#39;, &#39;Activation of interleukin 2&#39;) -->\n",
       "<g id=\"node26\" class=\"node\">\n",
       "<title>(&#39;reactions_store&#39;, &#39;Activation of interleukin 2&#39;)</title>\n",
       "<ellipse fill=\"none\" stroke=\"black\" stroke-width=\"2\" cx=\"2597\" cy=\"-207.6\" rx=\"81.99\" ry=\"81.99\"/>\n",
       "<text text-anchor=\"start\" x=\"2534.75\" y=\"-203.32\" font-family=\"Times,serif\" font-size=\"12.00\">Activation of interleukin 2</text>\n",
       "</g>\n",
       "<!-- (&#39;reactions_store&#39;,)&#45;&gt;(&#39;reactions_store&#39;, &#39;Activation of interleukin 2&#39;) -->\n",
       "<g id=\"edge22\" class=\"edge\">\n",
       "<title>(&#39;reactions_store&#39;,)&#45;&gt;(&#39;reactions_store&#39;, &#39;Activation of interleukin 2&#39;)</title>\n",
       "<path fill=\"none\" stroke=\"black\" stroke-width=\"2\" d=\"M1947.87,-495.05C1956.82,-482.48 1968.27,-470.04 1982,-462.45 2033.16,-434.16 2458.52,-449.3 2506,-415.2 2546.98,-385.76 2569.76,-333.68 2582.28,-289.17\"/>\n",
       "</g>\n",
       "<!-- (&#39;reactions_store&#39;, &#39;Deactivation of interleukin2&#39;) -->\n",
       "<g id=\"node27\" class=\"node\">\n",
       "<title>(&#39;reactions_store&#39;, &#39;Deactivation of interleukin2&#39;)</title>\n",
       "<ellipse fill=\"none\" stroke=\"black\" stroke-width=\"2\" cx=\"2784\" cy=\"-207.6\" rx=\"86.66\" ry=\"86.66\"/>\n",
       "<text text-anchor=\"start\" x=\"2718\" y=\"-203.32\" font-family=\"Times,serif\" font-size=\"12.00\">Deactivation of interleukin2</text>\n",
       "</g>\n",
       "<!-- (&#39;reactions_store&#39;,)&#45;&gt;(&#39;reactions_store&#39;, &#39;Deactivation of interleukin2&#39;) -->\n",
       "<g id=\"edge23\" class=\"edge\">\n",
       "<title>(&#39;reactions_store&#39;,)&#45;&gt;(&#39;reactions_store&#39;, &#39;Deactivation of interleukin2&#39;)</title>\n",
       "<path fill=\"none\" stroke=\"black\" stroke-width=\"2\" d=\"M1947.73,-494.79C1956.67,-482.19 1968.15,-469.82 1982,-462.45 2013.05,-445.94 2262.91,-446.76 2298,-444.45 2384.72,-438.73 2616.53,-464.65 2688,-415.2 2728.65,-387.07 2752.5,-337.15 2766.25,-293.43\"/>\n",
       "</g>\n",
       "<!-- (&#39;reactions_store&#39;,)&#45;&gt;(&#39;copasi_process&#39;,) -->\n",
       "<g id=\"edge27\" class=\"edge\">\n",
       "<title>(&#39;reactions_store&#39;,)&#45;&gt;(&#39;copasi_process&#39;,)</title>\n",
       "<path fill=\"none\" stroke=\"black\" stroke-dasharray=\"5,2\" d=\"M1876.01,-534.14C1620.4,-517.17 450.28,-438.36 421,-415.2 366.41,-372.03 355.71,-283.71 353.99,-237.79\"/>\n",
       "<polygon fill=\"black\" stroke=\"black\" points=\"357.49,-237.72 353.75,-227.81 350.49,-237.89 357.49,-237.72\"/>\n",
       "<text text-anchor=\"start\" x=\"653\" y=\"-434.95\" font-family=\"Times,serif\" font-size=\"10.00\">reactions</text>\n",
       "</g>\n",
       "<!-- (&#39;emitter&#39;,) -->\n",
       "<g id=\"node28\" class=\"node\">\n",
       "<title>(&#39;emitter&#39;,)</title>\n",
       "<polygon fill=\"none\" stroke=\"black\" stroke-width=\"2\" points=\"2045,-556.37 1991,-556.37 1991,-520.37 2045,-520.37 2045,-556.37\"/>\n",
       "<text text-anchor=\"start\" x=\"2001.88\" y=\"-534.1\" font-family=\"Times,serif\" font-size=\"12.00\">emitter</text>\n",
       "</g>\n",
       "</g>\n",
       "</svg>\n"
      ],
      "text/plain": [
       "<graphviz.graphs.Digraph at 0x169f29150>"
      ]
     },
     "execution_count": 20,
     "metadata": {},
     "output_type": "execute_result"
    }
   ],
   "source": [
    "b.visualize()"
   ]
  },
  {
   "cell_type": "code",
   "execution_count": 21,
   "id": "4df0138a0c5ac419",
   "metadata": {
    "ExecuteTime": {
     "end_time": "2024-03-12T02:43:04.824227Z",
     "start_time": "2024-03-12T02:43:04.821015Z"
    },
    "collapsed": false
   },
   "outputs": [],
   "source": [
    "initial_state = {\n",
    "    'time': 1.0,\n",
    "    'floating_species': {'T': 0.25, 'E': 0.456, 'I': 0.0025}\n",
    "}\n",
    "\n",
    "b.update(initial_state)"
   ]
  },
  {
   "cell_type": "code",
   "execution_count": 22,
   "id": "bfa0c2137c849bbb",
   "metadata": {
    "ExecuteTime": {
     "end_time": "2024-03-12T02:43:04.894510Z",
     "start_time": "2024-03-12T02:43:04.825208Z"
    },
    "collapsed": false
   },
   "outputs": [
    {
     "name": "stdout",
     "output_type": "stream",
     "text": [
      "THE FINAL STATE: {'time_store': 10.0, 'floating_species_store': {'T': 0.0, 'E': 0.0, 'I': 0.0}, 'model_parameters_store': {'r2': 0.0, 'b': 0.0, 'a': 0.0, 'g2': 0.0, 'p1': 0.0, 'g1': 0.0, 'mu2': 0.0, 'c': 0.0, 'p2': 0.0, 'g3': 0.0, 'mu3': 0.0, 'V': 0.0, 's1': 0.0, 's2': 0.0}, 'emitter': {'_type': 'step', 'address': 'local:ram-emitter', 'config': {'emit': {}}, 'inputs': {}, 'outputs': {}, 'instance': <biosimulator_processes.process_bigraph.composite.RAMEmitter object at 0x169f2b850>}, 'copasi_process': {'_type': 'process', 'address': 'local:CopasiProcess', 'config': {'model': {'model_id': '', 'model_source': {'value': '../biosimulator_processes/model_files/Caravagna2010.xml'}, 'model_language': 'sbml', 'model_name': 'Unnamed Composite Process TimeCourseModel', 'model_changes': {'species_changes': [{'unit': None, 'initial_concentration': 0.0024, 'initial_particle_number': None, 'initial_expression': None, 'expression': None}, {'unit': None, 'initial_concentration': 0.23, 'initial_particle_number': None, 'initial_expression': None, 'expression': None}], 'global_parameter_changes': [], 'reaction_changes': []}, 'model_units': '_default'}, 'method': 'directMethod'}, 'inputs': {'time': ['time_store'], 'floating_species': ['floating_species_store'], 'model_parameters': ['model_parameters_store'], 'reactions': ['reactions_store']}, 'outputs': {'time': ['time_store'], 'floating_species': ['floating_species_store']}, 'instance': <biosimulator_processes.processes.copasi_process.CopasiProcess object at 0x169f291e0>, 'interval': 1.0}, 'time': 1.0, 'floating_species': {'T': 0.25, 'E': 0.456, 'I': 0.0025}, 'reactions_store': {'Induction of tumor': 0.0, 'Removal of tumor from the system by the action of immune response': 0.0, 'Activation and transfer of effector cells to the action site': 0.0, 'Deactivation and removal of effector cells from the site of tumor': 0.0, 'Activation of interleukin 2': 0.0, 'Deactivation of interleukin2': 0.0}, 'global_time': 10.0}\n"
     ]
    },
    {
     "name": "stderr",
     "output_type": "stream",
     "text": [
      "/Users/alex/Desktop/uchc_work/repos/biosimulator-processes/notebooks/../biosimulator_processes/processes/copasi_process.py:260: FutureWarning:\n",
      "\n",
      "Series.__getitem__ treating keys as positions is deprecated. In a future version, integer keys will always be treated as labels (consistent with DataFrame behavior). To access a value by position, use `ser.iloc[pos]`\n",
      "\n"
     ]
    }
   ],
   "source": [
    "results = b.generate().run(10)"
   ]
  },
  {
   "cell_type": "code",
   "execution_count": 23,
   "id": "4410d875c542490",
   "metadata": {
    "ExecuteTime": {
     "end_time": "2024-03-12T02:43:04.897340Z",
     "start_time": "2024-03-12T02:43:04.895277Z"
    },
    "collapsed": false
   },
   "outputs": [],
   "source": [
    "results"
   ]
  },
  {
   "cell_type": "code",
   "execution_count": 24,
   "id": "3702b2db2891706",
   "metadata": {
    "ExecuteTime": {
     "end_time": "2024-03-12T02:43:04.920149Z",
     "start_time": "2024-03-12T02:43:04.898103Z"
    },
    "collapsed": false
   },
   "outputs": [
    {
     "data": {
      "text/html": [
       "<div>\n",
       "<style scoped>\n",
       "    .dataframe tbody tr th:only-of-type {\n",
       "        vertical-align: middle;\n",
       "    }\n",
       "\n",
       "    .dataframe tbody tr th {\n",
       "        vertical-align: top;\n",
       "    }\n",
       "\n",
       "    .dataframe thead th {\n",
       "        text-align: right;\n",
       "    }\n",
       "</style>\n",
       "<table border=\"1\" class=\"dataframe\">\n",
       "  <thead>\n",
       "    <tr style=\"text-align: right;\">\n",
       "      <th></th>\n",
       "      <th>compartment</th>\n",
       "      <th>type</th>\n",
       "      <th>unit</th>\n",
       "      <th>initial_concentration</th>\n",
       "      <th>initial_particle_number</th>\n",
       "      <th>initial_expression</th>\n",
       "      <th>expression</th>\n",
       "      <th>concentration</th>\n",
       "      <th>particle_number</th>\n",
       "      <th>rate</th>\n",
       "      <th>particle_number_rate</th>\n",
       "      <th>key</th>\n",
       "      <th>sbml_id</th>\n",
       "    </tr>\n",
       "    <tr>\n",
       "      <th>name</th>\n",
       "      <th></th>\n",
       "      <th></th>\n",
       "      <th></th>\n",
       "      <th></th>\n",
       "      <th></th>\n",
       "      <th></th>\n",
       "      <th></th>\n",
       "      <th></th>\n",
       "      <th></th>\n",
       "      <th></th>\n",
       "      <th></th>\n",
       "      <th></th>\n",
       "      <th></th>\n",
       "    </tr>\n",
       "  </thead>\n",
       "  <tbody>\n",
       "    <tr>\n",
       "      <th>T</th>\n",
       "      <td>compartment</td>\n",
       "      <td>reactions</td>\n",
       "      <td>mmol/ml</td>\n",
       "      <td>1.0</td>\n",
       "      <td>6.022141e+20</td>\n",
       "      <td></td>\n",
       "      <td></td>\n",
       "      <td>1.0</td>\n",
       "      <td>6.022141e+20</td>\n",
       "      <td>0.179997</td>\n",
       "      <td>1.083967e+20</td>\n",
       "      <td>Metabolite_3</td>\n",
       "      <td>T</td>\n",
       "    </tr>\n",
       "    <tr>\n",
       "      <th>E</th>\n",
       "      <td>compartment</td>\n",
       "      <td>reactions</td>\n",
       "      <td>mmol/ml</td>\n",
       "      <td>1.0</td>\n",
       "      <td>6.022141e+20</td>\n",
       "      <td></td>\n",
       "      <td></td>\n",
       "      <td>1.0</td>\n",
       "      <td>6.022141e+20</td>\n",
       "      <td>-0.010000</td>\n",
       "      <td>-6.022137e+18</td>\n",
       "      <td>Metabolite_4</td>\n",
       "      <td>E</td>\n",
       "    </tr>\n",
       "    <tr>\n",
       "      <th>I</th>\n",
       "      <td>compartment</td>\n",
       "      <td>reactions</td>\n",
       "      <td>mmol/ml</td>\n",
       "      <td>1.0</td>\n",
       "      <td>6.022141e+20</td>\n",
       "      <td></td>\n",
       "      <td></td>\n",
       "      <td>1.0</td>\n",
       "      <td>6.022141e+20</td>\n",
       "      <td>-9.999512</td>\n",
       "      <td>-6.021847e+21</td>\n",
       "      <td>Metabolite_5</td>\n",
       "      <td>I</td>\n",
       "    </tr>\n",
       "  </tbody>\n",
       "</table>\n",
       "</div>"
      ],
      "text/plain": [
       "      compartment       type     unit  initial_concentration  \\\n",
       "name                                                           \n",
       "T     compartment  reactions  mmol/ml                    1.0   \n",
       "E     compartment  reactions  mmol/ml                    1.0   \n",
       "I     compartment  reactions  mmol/ml                    1.0   \n",
       "\n",
       "      initial_particle_number initial_expression expression  concentration  \\\n",
       "name                                                                         \n",
       "T                6.022141e+20                                          1.0   \n",
       "E                6.022141e+20                                          1.0   \n",
       "I                6.022141e+20                                          1.0   \n",
       "\n",
       "      particle_number      rate  particle_number_rate           key sbml_id  \n",
       "name                                                                         \n",
       "T        6.022141e+20  0.179997          1.083967e+20  Metabolite_3       T  \n",
       "E        6.022141e+20 -0.010000         -6.022137e+18  Metabolite_4       E  \n",
       "I        6.022141e+20 -9.999512         -6.021847e+21  Metabolite_5       I  "
      ]
     },
     "execution_count": 24,
     "metadata": {},
     "output_type": "execute_result"
    }
   ],
   "source": [
    "from basico import get_species, load_model\n",
    "\n",
    "get_species(model=load_model(model_filepath))"
   ]
  },
  {
   "cell_type": "code",
   "execution_count": 25,
   "id": "a601660f5c0b23b5",
   "metadata": {
    "ExecuteTime": {
     "end_time": "2024-03-12T02:43:04.923024Z",
     "start_time": "2024-03-12T02:43:04.920795Z"
    },
    "collapsed": false
   },
   "outputs": [
    {
     "data": {
      "text/plain": [
       "{'value': '../biosimulator_processes/model_files/Caravagna2010.xml'}"
      ]
     },
     "execution_count": 25,
     "metadata": {},
     "output_type": "execute_result"
    }
   ],
   "source": [
    "copasi.model['model_source']"
   ]
  },
  {
   "cell_type": "code",
   "execution_count": 26,
   "id": "3087d3340e6fef82",
   "metadata": {
    "ExecuteTime": {
     "end_time": "2024-03-12T02:43:04.926377Z",
     "start_time": "2024-03-12T02:43:04.923796Z"
    },
    "collapsed": false
   },
   "outputs": [
    {
     "data": {
      "text/plain": [
       "{'model': {'model_id': '',\n",
       "  'model_source': {'value': '../biosimulator_processes/model_files/Caravagna2010.xml'},\n",
       "  'model_language': 'sbml',\n",
       "  'model_name': 'Unnamed Composite Process TimeCourseModel',\n",
       "  'model_changes': {'species_changes': [{'name': 'T',\n",
       "     'unit': None,\n",
       "     'initial_concentration': 0.0024,\n",
       "     'initial_particle_number': None,\n",
       "     'initial_expression': None,\n",
       "     'expression': None},\n",
       "    {'name': 'E',\n",
       "     'unit': None,\n",
       "     'initial_concentration': 0.23,\n",
       "     'initial_particle_number': None,\n",
       "     'initial_expression': None,\n",
       "     'expression': None}],\n",
       "   'global_parameter_changes': [],\n",
       "   'reaction_changes': []},\n",
       "  'model_units': '_default'},\n",
       " 'method': 'directMethod'}"
      ]
     },
     "execution_count": 26,
     "metadata": {},
     "output_type": "execute_result"
    }
   ],
   "source": [
    "copasi.model_dump()"
   ]
  },
  {
   "cell_type": "code",
   "execution_count": 27,
   "id": "26e37eb07b83f4af",
   "metadata": {
    "ExecuteTime": {
     "end_time": "2024-03-12T02:43:04.966977Z",
     "start_time": "2024-03-12T02:43:04.926945Z"
    },
    "collapsed": false
   },
   "outputs": [],
   "source": [
    "p = CopasiProcess(\n",
    "    config={'model': copasi.model}\n",
    ")"
   ]
  },
  {
   "cell_type": "code",
   "execution_count": 28,
   "id": "70603c5c567b6af2",
   "metadata": {
    "ExecuteTime": {
     "end_time": "2024-03-12T02:43:04.969608Z",
     "start_time": "2024-03-12T02:43:04.967847Z"
    },
    "collapsed": false
   },
   "outputs": [],
   "source": [
    "initial_A = p.initial_state()"
   ]
  },
  {
   "cell_type": "code",
   "execution_count": 29,
   "id": "ac00497e7433ec84",
   "metadata": {
    "ExecuteTime": {
     "end_time": "2024-03-12T02:43:04.972347Z",
     "start_time": "2024-03-12T02:43:04.970221Z"
    },
    "collapsed": false
   },
   "outputs": [
    {
     "data": {
      "text/plain": [
       "{'species_changes': [{'unit': None,\n",
       "   'initial_concentration': 0.0024,\n",
       "   'initial_particle_number': None,\n",
       "   'initial_expression': None,\n",
       "   'expression': None},\n",
       "  {'unit': None,\n",
       "   'initial_concentration': 0.23,\n",
       "   'initial_particle_number': None,\n",
       "   'initial_expression': None,\n",
       "   'expression': None}],\n",
       " 'global_parameter_changes': [],\n",
       " 'reaction_changes': []}"
      ]
     },
     "execution_count": 29,
     "metadata": {},
     "output_type": "execute_result"
    }
   ],
   "source": [
    "p.model_changes"
   ]
  },
  {
   "cell_type": "code",
   "execution_count": 30,
   "id": "f0e21a67ebc976cc",
   "metadata": {
    "ExecuteTime": {
     "end_time": "2024-03-12T02:43:04.976495Z",
     "start_time": "2024-03-12T02:43:04.973295Z"
    },
    "collapsed": false
   },
   "outputs": [],
   "source": [
    "unit = get_species('T', model=p.copasi_model_object)[['unit']]"
   ]
  },
  {
   "cell_type": "code",
   "execution_count": 31,
   "id": "3db563a382b0379f",
   "metadata": {
    "ExecuteTime": {
     "end_time": "2024-03-12T02:43:04.979244Z",
     "start_time": "2024-03-12T02:43:04.977350Z"
    },
    "collapsed": false
   },
   "outputs": [
    {
     "data": {
      "text/plain": [
       "'mmol/ml'"
      ]
     },
     "execution_count": 31,
     "metadata": {},
     "output_type": "execute_result"
    }
   ],
   "source": [
    "unit.values.tolist()[0][0]"
   ]
  },
  {
   "cell_type": "code",
   "execution_count": 32,
   "id": "a9ff72b50d5a4038",
   "metadata": {
    "ExecuteTime": {
     "end_time": "2024-03-12T02:43:05.054119Z",
     "start_time": "2024-03-12T02:43:04.979802Z"
    },
    "collapsed": false
   },
   "outputs": [
    {
     "ename": "NameError",
     "evalue": "name 'Union' is not defined",
     "output_type": "error",
     "traceback": [
      "\u001b[0;31m---------------------------------------------------------------------------\u001b[0m",
      "\u001b[0;31mNameError\u001b[0m                                 Traceback (most recent call last)",
      "Cell \u001b[0;32mIn[32], line 1\u001b[0m\n\u001b[0;32m----> 1\u001b[0m \u001b[38;5;28;01mdef\u001b[39;00m \u001b[38;5;21mget_copasi_parameter_type_default\u001b[39m(getter, param_name: \u001b[38;5;28mstr\u001b[39m, copasi_model_object: \u001b[38;5;28mobject\u001b[39m, parameter_type: \u001b[38;5;28mstr\u001b[39m) \u001b[38;5;241m-\u001b[39m\u001b[38;5;241m>\u001b[39m \u001b[43mUnion\u001b[49m[\u001b[38;5;28mstr\u001b[39m, \u001b[38;5;28mint\u001b[39m, \u001b[38;5;28mfloat\u001b[39m]:\n\u001b[1;32m      2\u001b[0m \u001b[38;5;250m    \u001b[39m\u001b[38;5;124;03m\"\"\"Return the default value of a given model parameter specified by `parameter_type`. \u001b[39;00m\n\u001b[1;32m      3\u001b[0m \u001b[38;5;124;03m                \u001b[39;00m\n\u001b[1;32m      4\u001b[0m \u001b[38;5;124;03m        Args:\u001b[39;00m\n\u001b[0;32m   (...)\u001b[0m\n\u001b[1;32m     12\u001b[0m \u001b[38;5;124;03m                `get_copasi_parameter_type_default(get_species, 'T', p.copasi_model_object, 'unit')`\u001b[39;00m\n\u001b[1;32m     13\u001b[0m \u001b[38;5;124;03m    \"\"\"\u001b[39;00m\n\u001b[1;32m     14\u001b[0m     \u001b[38;5;28;01mreturn\u001b[39;00m getter(param_name, model\u001b[38;5;241m=\u001b[39mcopasi_model_object)[[parameter_type]]\u001b[38;5;241m.\u001b[39mvalues\u001b[38;5;241m.\u001b[39mtolist()[\u001b[38;5;241m0\u001b[39m][\u001b[38;5;241m0\u001b[39m]\n",
      "\u001b[0;31mNameError\u001b[0m: name 'Union' is not defined"
     ]
    }
   ],
   "source": [
    "def get_copasi_parameter_type_default(getter, param_name: str, copasi_model_object: object, parameter_type: str) -> Union[str, int, float]:\n",
    "    \"\"\"Return the default value of a given model parameter specified by `parameter_type`. \n",
    "                \n",
    "        Args:\n",
    "            getter:`function`: basico callback with which to query the model. For example: `get_species`.\n",
    "            param_name:`str`: parameter name to use as an argument in the `getter`. For example, if getter=get_species, this would be a species name.\n",
    "            copasi_model_object:`CDataModel`: instance in memory which you are querying.\n",
    "            parameter_type:`str`: which type of parameter you wish to get the default of based on the getter and param_name.\n",
    "    \n",
    "        For example:\n",
    "                \n",
    "                `get_copasi_parameter_type_default(get_species, 'T', p.copasi_model_object, 'unit')`\n",
    "    \"\"\"\n",
    "    return getter(param_name, model=copasi_model_object)[[parameter_type]].values.tolist()[0][0]"
   ]
  },
  {
   "cell_type": "code",
   "execution_count": null,
   "id": "97d0d1df3d44065f",
   "metadata": {
    "ExecuteTime": {
     "end_time": "2024-03-12T02:43:05.055190Z",
     "start_time": "2024-03-12T02:43:05.055121Z"
    },
    "collapsed": false
   },
   "outputs": [],
   "source": [
    "units = get_copasi_parameter_type_default(get_species, 'T', p.copasi_model_object, 'initial_concentration')"
   ]
  },
  {
   "cell_type": "code",
   "execution_count": null,
   "id": "b6bffbc966bcf31c",
   "metadata": {
    "collapsed": false
   },
   "outputs": [],
   "source": [
    "units"
   ]
  },
  {
   "cell_type": "code",
   "execution_count": null,
   "id": "84ac9544fffa1634",
   "metadata": {
    "collapsed": false
   },
   "outputs": [],
   "source": [
    "def get_default_species_unit(species_name: str, copasi_model_object):\n",
    "    return get_species(species_name, model=copasi_model_object)[['unit']].values.tolist()[0][0]"
   ]
  },
  {
   "cell_type": "code",
   "execution_count": null,
   "id": "6e243d6848f86fb0",
   "metadata": {
    "collapsed": false
   },
   "outputs": [],
   "source": [
    "from types import NoneType\n",
    "from typing import * \n",
    "from pydantic import Field\n",
    "\n",
    "\n",
    "class CopasiSpeciesChanges(BaseModel):  # <-- this is done like set_species('B', kwarg=) where the inner most keys are the kwargs\n",
    "    name: str\n",
    "    unit: Union[str, NoneType, ModelParameter] = Field(default_factory=get_default_species_unit)\n",
    "    initial_concentration: Optional[Union[float, ModelParameter]] = None\n",
    "    initial_particle_number: Optional[Union[float, NoneType, ModelParameter]] = None\n",
    "    initial_expression: Union[str, NoneType, ModelParameter] = Field(default_factory=get_default_species_unit)\n",
    "    expression: Union[str, NoneType, ModelParameter] = Field(default='')"
   ]
  },
  {
   "cell_type": "code",
   "execution_count": null,
   "id": "1cb2abff160581ef",
   "metadata": {
    "collapsed": false
   },
   "outputs": [],
   "source": [
    "species_changes = CopasiSpeciesChanges(\n",
    "    name='T',\n",
    "    initial_concentration=0.023,\n",
    "    model_object=p.copasi_model_object\n",
    ")"
   ]
  },
  {
   "cell_type": "code",
   "execution_count": null,
   "id": "dfd3bcf2db8ce9b3",
   "metadata": {
    "collapsed": false
   },
   "outputs": [],
   "source": [
    "species_changes"
   ]
  },
  {
   "cell_type": "code",
   "execution_count": 33,
   "id": "8e65003c297f9c43",
   "metadata": {
    "ExecuteTime": {
     "end_time": "2024-03-12T12:21:43.943531Z",
     "start_time": "2024-03-12T12:21:43.908380Z"
    },
    "collapsed": false
   },
   "outputs": [
    {
     "ename": "AssertionError",
     "evalue": "",
     "output_type": "error",
     "traceback": [
      "\u001b[0;31m---------------------------------------------------------------------------\u001b[0m",
      "\u001b[0;31mAssertionError\u001b[0m                            Traceback (most recent call last)",
      "Cell \u001b[0;32mIn[33], line 4\u001b[0m\n\u001b[1;32m      1\u001b[0m \u001b[38;5;28;01mfrom\u001b[39;00m \u001b[38;5;21;01mtyping\u001b[39;00m \u001b[38;5;28;01mimport\u001b[39;00m Any \n\u001b[0;32m----> 4\u001b[0m \u001b[38;5;28;01massert\u001b[39;00m Any \u001b[38;5;241m==\u001b[39m \u001b[38;5;28mobject\u001b[39m\n",
      "\u001b[0;31mAssertionError\u001b[0m: "
     ]
    }
   ],
   "source": [
    "from typing import Any, List, Type\n",
    "\n",
    "\n",
    "assert Any == object"
   ]
  },
  {
   "cell_type": "code",
   "execution_count": null,
   "id": "292081679ebbe96",
   "metadata": {
    "collapsed": false
   },
   "outputs": [],
   "source": [
    "# TODO: add copasiprocess config type to CopasiProcess constructor"
   ]
  }
 ],
 "metadata": {
  "kernelspec": {
   "display_name": "Python 3",
   "language": "python",
   "name": "python3"
  },
  "language_info": {
   "codemirror_mode": {
    "name": "ipython",
    "version": 2
   },
   "file_extension": ".py",
   "mimetype": "text/x-python",
   "name": "python",
   "nbconvert_exporter": "python",
   "pygments_lexer": "ipython2",
   "version": "2.7.6"
  }
 },
 "nbformat": 4,
 "nbformat_minor": 5
}
