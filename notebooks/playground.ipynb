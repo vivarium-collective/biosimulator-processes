{
 "cells": [
  {
   "cell_type": "code",
   "execution_count": 1,
   "id": "initial_id",
   "metadata": {
    "ExecuteTime": {
     "end_time": "2024-03-14T23:07:19.820087Z",
     "start_time": "2024-03-14T23:07:18.657449Z"
    },
    "collapsed": true,
    "jupyter": {
     "outputs_hidden": true
    }
   },
   "outputs": [
    {
     "name": "stdout",
     "output_type": "stream",
     "text": [
      "True\n"
     ]
    },
    {
     "data": {
      "text/plain": [
       "<Response [200]>"
      ]
     },
     "execution_count": 1,
     "metadata": {},
     "output_type": "execute_result"
    }
   ],
   "source": [
    "import sys\n",
    "sys.path.insert(0, '..')\n",
    "\n",
    "import os\n",
    "import requests\n",
    "\n",
    "\n",
    "caravagna_model_filepath = '../biosimulator_processes/model_files/Caravagna2010.xml'\n",
    "print(os.path.exists(caravagna_model_filepath))\n",
    "\n",
    "tumor_control_biomodel_id = 'BIOMD0000000749'\n",
    "requests.get('https://www.ebi.ac.uk/biomodels/BIOMD0000000749', headers={'accept': 'json'})"
   ]
  },
  {
   "cell_type": "code",
   "execution_count": 2,
   "id": "bfbafd76e43d52bd",
   "metadata": {
    "ExecuteTime": {
     "end_time": "2024-03-14T23:07:21.474032Z",
     "start_time": "2024-03-14T23:07:19.822162Z"
    },
    "collapsed": false
   },
   "outputs": [
    {
     "name": "stdout",
     "output_type": "stream",
     "text": [
      "CobraProcess registered successfully.\n",
      "CopasiProcess registered successfully.\n",
      "SmoldynProcess registered successfully.\n",
      "TelluriumProcess registered successfully.\n"
     ]
    }
   ],
   "source": [
    "from dataclasses import dataclass, asdict\n",
    "from biosimulator_processes.biosimulator_builder import BiosimulatorBuilder, BuildPrompter\n",
    "from biosimulator_processes.data_model import TimeCourseModel, TimeCourseModelChanges, ModelChanges, ModelChange"
   ]
  },
  {
   "cell_type": "markdown",
   "id": "8f4a5c2031ed8428",
   "metadata": {
    "collapsed": false
   },
   "source": [
    "#### Let's define a simple process composition configuration according to the CopasiProcess implementation (which is known by the type system/implementation as 'config_schema') with a valid BioModels ID via the highest-level BioBuilder API:"
   ]
  },
  {
   "cell_type": "markdown",
   "id": "2a5b74c8b92ae5e0",
   "metadata": {
    "collapsed": false
   },
   "source": [
    "#### **_Experiment 1_**:  Here we cross a boundary in the stack that is a biological simulation. We go from model configuration, to experiment. Thus, this tooling sits at that level: both experiment specification AND experiment execution. It's not just a way to specify an experiment, but it is also a way to run it, given the many knobs and buttons that you can use predefine and customize the way the actual model is being solved. Our users are seeking to be involved in an experiment as a \"stack\". We should make a bigger distinction between terms like \"model\"."
   ]
  },
  {
   "cell_type": "code",
   "execution_count": 3,
   "id": "4f88a98e976b773b",
   "metadata": {
    "ExecuteTime": {
     "end_time": "2024-03-14T23:07:21.476648Z",
     "start_time": "2024-03-14T23:07:21.474883Z"
    },
    "collapsed": false
   },
   "outputs": [],
   "source": [
    "# 1. define a model for the process composition. In this case, just one model to be re-used as configuration for the processes we create:\n",
    "\n",
    "tc_model = TimeCourseModel(model_source=tumor_control_biomodel_id)"
   ]
  },
  {
   "cell_type": "code",
   "execution_count": 4,
   "id": "8f1fae37596bd490",
   "metadata": {
    "ExecuteTime": {
     "end_time": "2024-03-14T23:07:21.480295Z",
     "start_time": "2024-03-14T23:07:21.478031Z"
    },
    "collapsed": false
   },
   "outputs": [
    {
     "data": {
      "text/plain": [
       "TimeCourseModel(model_source='BIOMD0000000749', model_id='model_from_BIOMD0000000749', model_name='model_from_BIOMD0000000749', model_language='sbml', model_changes=None, model_units=None)"
      ]
     },
     "execution_count": 4,
     "metadata": {},
     "output_type": "execute_result"
    }
   ],
   "source": [
    "# >> The model is viewable as a dataclass...\n",
    "\n",
    "tc_model"
   ]
  },
  {
   "cell_type": "code",
   "execution_count": 5,
   "id": "f597dfd5b844ac66",
   "metadata": {
    "ExecuteTime": {
     "end_time": "2024-03-14T23:07:21.482965Z",
     "start_time": "2024-03-14T23:07:21.480917Z"
    },
    "collapsed": false
   },
   "outputs": [
    {
     "data": {
      "text/plain": [
       "{'model_source': 'BIOMD0000000749',\n",
       " 'model_id': 'model_from_BIOMD0000000749',\n",
       " 'model_name': 'model_from_BIOMD0000000749',\n",
       " 'model_language': 'sbml',\n",
       " 'model_changes': None,\n",
       " 'model_units': None}"
      ]
     },
     "execution_count": 5,
     "metadata": {},
     "output_type": "execute_result"
    }
   ],
   "source": [
    "# >> ...or a dict:\n",
    "\n",
    "tc_model.dump()"
   ]
  },
  {
   "cell_type": "code",
   "execution_count": 6,
   "id": "b0cdfd23eed6ffd5",
   "metadata": {
    "ExecuteTime": {
     "end_time": "2024-03-14T23:07:21.484931Z",
     "start_time": "2024-03-14T23:07:21.483569Z"
    },
    "collapsed": false
   },
   "outputs": [],
   "source": [
    "# 2. instantiate the prompter:\n",
    "\n",
    "prompter = BuildPrompter()"
   ]
  },
  {
   "cell_type": "code",
   "execution_count": 7,
   "id": "61f91526ffa94a73",
   "metadata": {
    "ExecuteTime": {
     "end_time": "2024-03-14T23:07:34.096706Z",
     "start_time": "2024-03-14T23:07:21.485684Z"
    },
    "collapsed": false
   },
   "outputs": [
    {
     "ename": "AttributeError",
     "evalue": "'TimeCourseModel' object has no attribute 'model_dump'",
     "output_type": "error",
     "traceback": [
      "\u001b[0;31m---------------------------------------------------------------------------\u001b[0m",
      "\u001b[0;31mAttributeError\u001b[0m                            Traceback (most recent call last)",
      "Cell \u001b[0;32mIn[7], line 3\u001b[0m\n\u001b[1;32m      1\u001b[0m \u001b[38;5;66;03m# 3. add process(es) to the bigraph with the Time Course model instance we created above. For now, just one process will be added.\u001b[39;00m\n\u001b[0;32m----> 3\u001b[0m \u001b[43mprompter\u001b[49m\u001b[38;5;241;43m.\u001b[39;49m\u001b[43madd_single_process\u001b[49m\u001b[43m(\u001b[49m\u001b[43mconfig\u001b[49m\u001b[38;5;241;43m=\u001b[39;49m\u001b[43mtc_model\u001b[49m\u001b[43m)\u001b[49m\n",
      "File \u001b[0;32m~/Desktop/uchc_work/repos/biosimulator-processes/notebooks/../biosimulator_processes/biosimulator_builder.py:83\u001b[0m, in \u001b[0;36mBuildPrompter.add_single_process\u001b[0;34m(self, builder, process_type, config, builder_node_name)\u001b[0m\n\u001b[1;32m     80\u001b[0m \u001b[38;5;66;03m# generate input data from user prompt results and add processes to the bigraph  through pydantic model\u001b[39;00m\n\u001b[1;32m     81\u001b[0m DynamicProcessConfig \u001b[38;5;241m=\u001b[39m \u001b[38;5;28mself\u001b[39m\u001b[38;5;241m.\u001b[39mbuilder_instance\u001b[38;5;241m.\u001b[39mget_pydantic_model(process_type)\n\u001b[0;32m---> 83\u001b[0m input_kwargs \u001b[38;5;241m=\u001b[39m \u001b[38;5;28mself\u001b[39m\u001b[38;5;241m.\u001b[39mgenerate_input_kwargs() \u001b[38;5;28;01mif\u001b[39;00m config \u001b[38;5;129;01mis\u001b[39;00m \u001b[38;5;28;01mNone\u001b[39;00m \u001b[38;5;28;01melse\u001b[39;00m \u001b[43mconfig\u001b[49m\u001b[38;5;241;43m.\u001b[39;49m\u001b[43mmodel_dump\u001b[49m()\n\u001b[1;32m     84\u001b[0m dynamic_config \u001b[38;5;241m=\u001b[39m DynamicProcessConfig(\u001b[38;5;241m*\u001b[39m\u001b[38;5;241m*\u001b[39minput_kwargs)\n\u001b[1;32m     85\u001b[0m \u001b[38;5;28mself\u001b[39m\u001b[38;5;241m.\u001b[39mbuilder_instance\u001b[38;5;241m.\u001b[39madd_process(\n\u001b[1;32m     86\u001b[0m     process_id\u001b[38;5;241m=\u001b[39mbuilder_node_name,\n\u001b[1;32m     87\u001b[0m     name\u001b[38;5;241m=\u001b[39mprocess_type,\n\u001b[1;32m     88\u001b[0m     config\u001b[38;5;241m=\u001b[39mdynamic_config)  \u001b[38;5;66;03m# {**input_kwargs})\u001b[39;00m\n",
      "\u001b[0;31mAttributeError\u001b[0m: 'TimeCourseModel' object has no attribute 'model_dump'"
     ]
    }
   ],
   "source": [
    "# 3. add process(es) to the bigraph with the Time Course model instance we created above. For now, just one process will be added.\n",
    "\n",
    "prompter.add_single_process(config=tc_model)"
   ]
  },
  {
   "cell_type": "code",
   "execution_count": null,
   "id": "445f7be4212f922a",
   "metadata": {
    "collapsed": false
   },
   "outputs": [],
   "source": []
  }
 ],
 "metadata": {
  "kernelspec": {
   "display_name": "Python 3 (ipykernel)",
   "language": "python",
   "name": "python3"
  },
  "language_info": {
   "codemirror_mode": {
    "name": "ipython",
    "version": 3
   },
   "file_extension": ".py",
   "mimetype": "text/x-python",
   "name": "python",
   "nbconvert_exporter": "python",
   "pygments_lexer": "ipython3",
   "version": "3.10.13"
  }
 },
 "nbformat": 4,
 "nbformat_minor": 5
}
