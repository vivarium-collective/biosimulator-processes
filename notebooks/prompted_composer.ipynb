{
 "cells": [
  {
   "cell_type": "markdown",
   "id": "808b6a4b-0894-4a8e-99d8-bf11b3164b6a",
   "metadata": {},
   "source": [
    "# Prompted Bigraph-Builder Demo"
   ]
  },
  {
   "cell_type": "code",
   "execution_count": 1,
   "id": "b385dca6-942d-472c-9963-13b8cb33843c",
   "metadata": {
    "ExecuteTime": {
     "end_time": "2024-03-14T00:48:40.009580Z",
     "start_time": "2024-03-14T00:48:38.460999Z"
    }
   },
   "outputs": [
    {
     "name": "stdout",
     "output_type": "stream",
     "text": [
      "CobraProcess registered successfully.\n",
      "CopasiProcess registered successfully.\n",
      "SmoldynProcess registered successfully.\n",
      "TelluriumProcess registered successfully.\n",
      "DeterministicTimeCourseParameterScan registered successfully.\n"
     ]
    }
   ],
   "source": [
    "from biosimulator_processes.biosimulator_builder import BiosimulatorBuilder, BuildPrompter"
   ]
  },
  {
   "cell_type": "markdown",
   "id": "5f828a2aa6e4f2cd",
   "metadata": {
    "collapsed": false
   },
   "source": [
    "## The prompter workflow can be described in the following steps:\n",
    "\n",
    "            1. Initialize the builder to use. We will use BiosimulatorBuilder for this repo.\n",
    "            2. Initialize the prompter, passing at least the object generated from #1 and number of processes to add to the composite.\n",
    "            3. The prompt will begin once the object from #2 is instanitated."
   ]
  },
  {
   "cell_type": "markdown",
   "id": "a403d619-4dbe-49cc-8f24-29a83e31fe15",
   "metadata": {},
   "source": [
    "### 1. Initialize the builder"
   ]
  },
  {
   "cell_type": "code",
   "execution_count": 2,
   "id": "2b37af44-5e19-439b-84cc-16c7050cba1b",
   "metadata": {
    "ExecuteTime": {
     "end_time": "2024-03-14T00:48:40.012740Z",
     "start_time": "2024-03-14T00:48:40.010737Z"
    }
   },
   "outputs": [],
   "source": [
    "biosim_builder = BiosimulatorBuilder()  # TODO: Base OpenAPI spec for REST/swagger on the Builder: Perhaps a generalized Builder REST and BiosimBuilder REST?.\n",
    "    "
   ]
  },
  {
   "cell_type": "markdown",
   "id": "52cec837a2978cf8",
   "metadata": {
    "collapsed": false
   },
   "source": [
    "#### View the list of available processes (optional)."
   ]
  },
  {
   "cell_type": "code",
   "execution_count": 3,
   "id": "1bcb0b13c8629a2",
   "metadata": {
    "ExecuteTime": {
     "end_time": "2024-03-14T00:48:40.117880Z",
     "start_time": "2024-03-14T00:48:40.114139Z"
    },
    "collapsed": false
   },
   "outputs": [
    {
     "data": {
      "text/plain": [
       "['CopasiProcess',\n",
       " 'TelluriumProcess',\n",
       " 'CobraProcess',\n",
       " 'SmoldynProcess',\n",
       " 'console-emitter',\n",
       " 'DeterministicTimeCourseParameterScan',\n",
       " 'ram-emitter']"
      ]
     },
     "execution_count": 3,
     "metadata": {},
     "output_type": "execute_result"
    }
   ],
   "source": [
    "biosim_builder.list_processes()"
   ]
  },
  {
   "cell_type": "markdown",
   "id": "32bcbc39e3be9975",
   "metadata": {
    "collapsed": false
   },
   "source": [
    "### 2. & 3. Instantiate the Build Prompter. The idea here is that there is a build prompter that uses references from a given Builder instance/implementation (in this case, BiosimulatorBuilder) to dynamically add registered processes to the bigraph. BuildPrompter exists as one of the classes in the highest-level BigraphBuilder API. Let's add a number of the same copasi processes to the composite as a simple way to start."
   ]
  },
  {
   "cell_type": "code",
   "execution_count": 4,
   "id": "839a32f79fe389a6",
   "metadata": {
    "ExecuteTime": {
     "end_time": "2024-03-14T00:48:41.375982Z",
     "start_time": "2024-03-14T00:48:41.372350Z"
    },
    "collapsed": false
   },
   "outputs": [
    {
     "name": "stdout",
     "output_type": "stream",
     "text": [
      "New prompter instance created!\n"
     ]
    }
   ],
   "source": [
    "num = 1\n",
    "duration = 100\n",
    "arnold_poolman_biomodel_id = 'BIOMD0000000391'\n",
    "\n",
    "prompter = BuildPrompter(builder_instance=biosim_builder, num_additions=num)"
   ]
  },
  {
   "cell_type": "code",
   "execution_count": 5,
   "id": "f0d82630a1463da8",
   "metadata": {
    "ExecuteTime": {
     "end_time": "2024-03-14T00:49:21.653584Z",
     "start_time": "2024-03-14T00:48:42.043681Z"
    },
    "collapsed": false
   },
   "outputs": [
    {
     "name": "stdout",
     "output_type": "stream",
     "text": [
      "Run request initiated...\n",
      "1 processes will be added to the bi-graph.\n",
      "All processes will be connected as well.\n",
      "Input kwargs generated: {'model': {'model_source': {'value': 'BIOMD0000000391'}}, 'method': 'hybrid'}\n",
      "my_first_composition process successfully added to the bi-graph!\n",
      "All nodes including the most recently added my_first_composition processes connected!\n",
      "Done adding single my_first_composition (CopasiProcess) to the bigraph.\n",
      "All processes added.\n",
      "File ''my_first_composition'' successfully written in 'out' directory.\n",
      "Composition written to document!\n",
      "This is the composite: \n"
     ]
    },
    {
     "data": {
      "image/svg+xml": [
       "<?xml version=\"1.0\" encoding=\"UTF-8\" standalone=\"no\"?>\n",
       "<!DOCTYPE svg PUBLIC \"-//W3C//DTD SVG 1.1//EN\"\n",
       " \"http://www.w3.org/Graphics/SVG/1.1/DTD/svg11.dtd\">\n",
       "<!-- Generated by graphviz version 9.0.0 (20230911.1827)\n",
       " -->\n",
       "<!-- Title: bigraph Pages: 1 -->\n",
       "<svg width=\"1120pt\" height=\"98pt\"\n",
       " viewBox=\"0.00 0.00 1152.00 101.14\" xmlns=\"http://www.w3.org/2000/svg\" xmlns:xlink=\"http://www.w3.org/1999/xlink\">\n",
       "<g id=\"graph0\" class=\"graph\" transform=\"scale(0.289775 0.289775) rotate(0) translate(4 335.33)\">\n",
       "<title>bigraph</title>\n",
       "<polygon fill=\"white\" stroke=\"none\" points=\"-4,4 -4,-335.33 3861.06,-335.33 3861.06,4 -4,4\"/>\n",
       "<!-- (&#39;time_store&#39;,) -->\n",
       "<g id=\"node1\" class=\"node\">\n",
       "<title>(&#39;time_store&#39;,)</title>\n",
       "<ellipse fill=\"none\" stroke=\"black\" stroke-width=\"2\" cx=\"1396.89\" cy=\"-255.41\" rx=\"34.83\" ry=\"34.83\"/>\n",
       "<text text-anchor=\"start\" x=\"1372.52\" y=\"-251.14\" font-family=\"Times,serif\" font-size=\"12.00\">time_store</text>\n",
       "</g>\n",
       "<!-- (&#39;my_first_composition&#39;,) -->\n",
       "<g id=\"node49\" class=\"node\">\n",
       "<title>(&#39;my_first_composition&#39;,)</title>\n",
       "<polygon fill=\"none\" stroke=\"black\" stroke-width=\"2\" points=\"1484.87,-84.12 1374.92,-84.12 1374.92,-48.12 1484.87,-48.12 1484.87,-84.12\"/>\n",
       "<text text-anchor=\"start\" x=\"1378.52\" y=\"-61.84\" font-family=\"Times,serif\" font-size=\"12.00\">my_first_composition</text>\n",
       "</g>\n",
       "<!-- (&#39;time_store&#39;,)&#45;&gt;(&#39;my_first_composition&#39;,) -->\n",
       "<g id=\"edge44\" class=\"edge\">\n",
       "<title>(&#39;time_store&#39;,)&#45;&gt;(&#39;my_first_composition&#39;,)</title>\n",
       "<path fill=\"none\" stroke=\"black\" stroke-dasharray=\"5,2\" d=\"M1410.25,-222.34C1416.9,-204.72 1424.29,-182.26 1427.89,-161.49 1431.63,-139.9 1432.01,-115.12 1431.52,-96.37\"/>\n",
       "<polygon fill=\"black\" stroke=\"black\" points=\"1435.02,-96.39 1431.15,-86.52 1428.03,-96.65 1435.02,-96.39\"/>\n",
       "<text text-anchor=\"start\" x=\"1429.89\" y=\"-151.99\" font-family=\"Times,serif\" font-size=\"10.00\">time</text>\n",
       "</g>\n",
       "<!-- (&#39;time_store&#39;,)&#45;&gt;(&#39;my_first_composition&#39;,) -->\n",
       "<g id=\"edge48\" class=\"edge\">\n",
       "<title>(&#39;time_store&#39;,)&#45;&gt;(&#39;my_first_composition&#39;,)</title>\n",
       "<path fill=\"none\" stroke=\"black\" stroke-dasharray=\"5,2\" d=\"M1398.91,-208.68C1400.22,-190.4 1402.37,-169.21 1405.89,-150.24 1410.14,-127.35 1418.04,-101.7 1423.62,-85.03\"/>\n",
       "<polygon fill=\"black\" stroke=\"black\" points=\"1395.43,-208.22 1398.28,-218.42 1402.42,-208.67 1395.43,-208.22\"/>\n",
       "<text text-anchor=\"start\" x=\"1405.89\" y=\"-151.99\" font-family=\"Times,serif\" font-size=\"10.00\">time</text>\n",
       "</g>\n",
       "<!-- (&#39;floating_species_store&#39;,) -->\n",
       "<g id=\"node2\" class=\"node\">\n",
       "<title>(&#39;floating_species_store&#39;,)</title>\n",
       "<ellipse fill=\"none\" stroke=\"black\" stroke-width=\"2\" cx=\"680.89\" cy=\"-255.41\" rx=\"69.39\" ry=\"69.39\"/>\n",
       "<text text-anchor=\"start\" x=\"628.77\" y=\"-251.14\" font-family=\"Times,serif\" font-size=\"12.00\">floating_species_store</text>\n",
       "</g>\n",
       "<!-- (&#39;floating_species_store&#39;, &#39;RuBP&#39;) -->\n",
       "<g id=\"node3\" class=\"node\">\n",
       "<title>(&#39;floating_species_store&#39;, &#39;RuBP&#39;)</title>\n",
       "<ellipse fill=\"none\" stroke=\"black\" stroke-width=\"2\" cx=\"1244.89\" cy=\"-66.12\" rx=\"22.69\" ry=\"22.69\"/>\n",
       "<text text-anchor=\"start\" x=\"1230.27\" y=\"-61.84\" font-family=\"Times,serif\" font-size=\"12.00\">RuBP</text>\n",
       "</g>\n",
       "<!-- (&#39;floating_species_store&#39;,)&#45;&gt;(&#39;floating_species_store&#39;, &#39;RuBP&#39;) -->\n",
       "<g id=\"edge1\" class=\"edge\">\n",
       "<title>(&#39;floating_species_store&#39;,)&#45;&gt;(&#39;floating_species_store&#39;, &#39;RuBP&#39;)</title>\n",
       "<path fill=\"none\" stroke=\"black\" stroke-width=\"2\" d=\"M749.69,-241.43C835.6,-224.81 986.87,-194.24 1114.89,-161.49 1158.93,-150.22 1178.19,-161.59 1212.89,-132.24 1226.07,-121.09 1234.31,-103.23 1239.12,-89.02\"/>\n",
       "</g>\n",
       "<!-- (&#39;floating_species_store&#39;, &#39;PGA&#39;) -->\n",
       "<g id=\"node4\" class=\"node\">\n",
       "<title>(&#39;floating_species_store&#39;, &#39;PGA&#39;)</title>\n",
       "<ellipse fill=\"none\" stroke=\"black\" stroke-width=\"2\" cx=\"19.89\" cy=\"-66.12\" rx=\"19.89\" ry=\"19.89\"/>\n",
       "<text text-anchor=\"start\" x=\"7.52\" y=\"-61.84\" font-family=\"Times,serif\" font-size=\"12.00\">PGA</text>\n",
       "</g>\n",
       "<!-- (&#39;floating_species_store&#39;,)&#45;&gt;(&#39;floating_species_store&#39;, &#39;PGA&#39;) -->\n",
       "<g id=\"edge2\" class=\"edge\">\n",
       "<title>(&#39;floating_species_store&#39;,)&#45;&gt;(&#39;floating_species_store&#39;, &#39;PGA&#39;)</title>\n",
       "<path fill=\"none\" stroke=\"black\" stroke-width=\"2\" d=\"M611.66,-245.31C508.82,-231.14 309.98,-201.25 143.89,-161.49 100.93,-151.2 81.95,-161.54 48.89,-132.24 35.46,-120.33 27.94,-101.02 23.95,-86.52\"/>\n",
       "</g>\n",
       "<!-- (&#39;floating_species_store&#39;, &#39;DPGA&#39;) -->\n",
       "<g id=\"node5\" class=\"node\">\n",
       "<title>(&#39;floating_species_store&#39;, &#39;DPGA&#39;)</title>\n",
       "<ellipse fill=\"none\" stroke=\"black\" stroke-width=\"2\" cx=\"82.89\" cy=\"-66.12\" rx=\"25.49\" ry=\"25.49\"/>\n",
       "<text text-anchor=\"start\" x=\"66.02\" y=\"-61.84\" font-family=\"Times,serif\" font-size=\"12.00\">DPGA</text>\n",
       "</g>\n",
       "<!-- (&#39;floating_species_store&#39;,)&#45;&gt;(&#39;floating_species_store&#39;, &#39;DPGA&#39;) -->\n",
       "<g id=\"edge3\" class=\"edge\">\n",
       "<title>(&#39;floating_species_store&#39;,)&#45;&gt;(&#39;floating_species_store&#39;, &#39;DPGA&#39;)</title>\n",
       "<path fill=\"none\" stroke=\"black\" stroke-width=\"2\" d=\"M611.59,-244.09C517.82,-229.42 345.71,-199.98 201.89,-161.49 163.3,-151.16 147.18,-158.29 116.89,-132.24 104.42,-121.51 95.88,-105.05 90.48,-91.37\"/>\n",
       "</g>\n",
       "<!-- (&#39;floating_species_store&#39;, &#39;GAP&#39;) -->\n",
       "<g id=\"node6\" class=\"node\">\n",
       "<title>(&#39;floating_species_store&#39;, &#39;GAP&#39;)</title>\n",
       "<ellipse fill=\"none\" stroke=\"black\" stroke-width=\"2\" cx=\"145.89\" cy=\"-66.12\" rx=\"19.89\" ry=\"19.89\"/>\n",
       "<text text-anchor=\"start\" x=\"133.52\" y=\"-61.84\" font-family=\"Times,serif\" font-size=\"12.00\">GAP</text>\n",
       "</g>\n",
       "<!-- (&#39;floating_species_store&#39;,)&#45;&gt;(&#39;floating_species_store&#39;, &#39;GAP&#39;) -->\n",
       "<g id=\"edge4\" class=\"edge\">\n",
       "<title>(&#39;floating_species_store&#39;,)&#45;&gt;(&#39;floating_species_store&#39;, &#39;GAP&#39;)</title>\n",
       "<path fill=\"none\" stroke=\"black\" stroke-width=\"2\" d=\"M612.33,-240.47C530.61,-223.48 390.11,-193.11 270.89,-161.49 227.78,-150.05 208.31,-161.77 174.89,-132.24 161.45,-120.35 153.93,-101.04 149.94,-86.53\"/>\n",
       "</g>\n",
       "<!-- (&#39;floating_species_store&#39;, &#39;DHAP&#39;) -->\n",
       "<g id=\"node7\" class=\"node\">\n",
       "<title>(&#39;floating_species_store&#39;, &#39;DHAP&#39;)</title>\n",
       "<ellipse fill=\"none\" stroke=\"black\" stroke-width=\"2\" cx=\"208.89\" cy=\"-66.12\" rx=\"25.49\" ry=\"25.49\"/>\n",
       "<text text-anchor=\"start\" x=\"192.02\" y=\"-61.84\" font-family=\"Times,serif\" font-size=\"12.00\">DHAP</text>\n",
       "</g>\n",
       "<!-- (&#39;floating_species_store&#39;,)&#45;&gt;(&#39;floating_species_store&#39;, &#39;DHAP&#39;) -->\n",
       "<g id=\"edge5\" class=\"edge\">\n",
       "<title>(&#39;floating_species_store&#39;,)&#45;&gt;(&#39;floating_species_store&#39;, &#39;DHAP&#39;)</title>\n",
       "<path fill=\"none\" stroke=\"black\" stroke-width=\"2\" d=\"M612.47,-239.44C539.16,-222.8 419.72,-193.96 318.89,-161.49 284.84,-150.52 270.68,-155.96 243.89,-132.24 231.5,-121.26 222.71,-104.81 217.03,-91.19\"/>\n",
       "</g>\n",
       "<!-- (&#39;floating_species_store&#39;, &#39;FBP&#39;) -->\n",
       "<g id=\"node8\" class=\"node\">\n",
       "<title>(&#39;floating_species_store&#39;, &#39;FBP&#39;)</title>\n",
       "<ellipse fill=\"none\" stroke=\"black\" stroke-width=\"2\" cx=\"270.89\" cy=\"-66.12\" rx=\"18.02\" ry=\"18.02\"/>\n",
       "<text text-anchor=\"start\" x=\"260.02\" y=\"-61.84\" font-family=\"Times,serif\" font-size=\"12.00\">FBP</text>\n",
       "</g>\n",
       "<!-- (&#39;floating_species_store&#39;,)&#45;&gt;(&#39;floating_species_store&#39;, &#39;FBP&#39;) -->\n",
       "<g id=\"edge6\" class=\"edge\">\n",
       "<title>(&#39;floating_species_store&#39;,)&#45;&gt;(&#39;floating_species_store&#39;, &#39;FBP&#39;)</title>\n",
       "<path fill=\"none\" stroke=\"black\" stroke-width=\"2\" d=\"M611.02,-250.83C525.85,-242.74 382.83,-216.57 297.89,-132.24 284.86,-119.3 277.83,-99.17 274.24,-84.71\"/>\n",
       "</g>\n",
       "<!-- (&#39;floating_species_store&#39;, &#39;F6P&#39;) -->\n",
       "<g id=\"node9\" class=\"node\">\n",
       "<title>(&#39;floating_species_store&#39;, &#39;F6P&#39;)</title>\n",
       "<ellipse fill=\"none\" stroke=\"black\" stroke-width=\"2\" cx=\"324.89\" cy=\"-66.12\" rx=\"18\" ry=\"18\"/>\n",
       "<text text-anchor=\"start\" x=\"315.14\" y=\"-61.84\" font-family=\"Times,serif\" font-size=\"12.00\">F6P</text>\n",
       "</g>\n",
       "<!-- (&#39;floating_species_store&#39;,)&#45;&gt;(&#39;floating_species_store&#39;, &#39;F6P&#39;) -->\n",
       "<g id=\"edge7\" class=\"edge\">\n",
       "<title>(&#39;floating_species_store&#39;,)&#45;&gt;(&#39;floating_species_store&#39;, &#39;F6P&#39;)</title>\n",
       "<path fill=\"none\" stroke=\"black\" stroke-width=\"2\" d=\"M611.23,-245.5C537.77,-232.64 423.02,-202.2 351.89,-132.24 338.8,-119.36 331.78,-99.22 328.21,-84.74\"/>\n",
       "</g>\n",
       "<!-- (&#39;floating_species_store&#39;, &#39;E4P&#39;) -->\n",
       "<g id=\"node10\" class=\"node\">\n",
       "<title>(&#39;floating_species_store&#39;, &#39;E4P&#39;)</title>\n",
       "<ellipse fill=\"none\" stroke=\"black\" stroke-width=\"2\" cx=\"378.89\" cy=\"-66.12\" rx=\"18\" ry=\"18\"/>\n",
       "<text text-anchor=\"start\" x=\"368.77\" y=\"-61.84\" font-family=\"Times,serif\" font-size=\"12.00\">E4P</text>\n",
       "</g>\n",
       "<!-- (&#39;floating_species_store&#39;,)&#45;&gt;(&#39;floating_species_store&#39;, &#39;E4P&#39;) -->\n",
       "<g id=\"edge8\" class=\"edge\">\n",
       "<title>(&#39;floating_species_store&#39;,)&#45;&gt;(&#39;floating_species_store&#39;, &#39;E4P&#39;)</title>\n",
       "<path fill=\"none\" stroke=\"black\" stroke-width=\"2\" d=\"M612.65,-239.43C551.32,-222.77 462.43,-190.21 405.89,-132.24 393.07,-119.09 386.01,-99 382.35,-84.61\"/>\n",
       "</g>\n",
       "<!-- (&#39;floating_species_store&#39;, &#39;SBP&#39;) -->\n",
       "<g id=\"node11\" class=\"node\">\n",
       "<title>(&#39;floating_species_store&#39;, &#39;SBP&#39;)</title>\n",
       "<ellipse fill=\"none\" stroke=\"black\" stroke-width=\"2\" cx=\"432.89\" cy=\"-66.12\" rx=\"18.02\" ry=\"18.02\"/>\n",
       "<text text-anchor=\"start\" x=\"422.02\" y=\"-61.84\" font-family=\"Times,serif\" font-size=\"12.00\">SBP</text>\n",
       "</g>\n",
       "<!-- (&#39;floating_species_store&#39;,)&#45;&gt;(&#39;floating_species_store&#39;, &#39;SBP&#39;) -->\n",
       "<g id=\"edge9\" class=\"edge\">\n",
       "<title>(&#39;floating_species_store&#39;,)&#45;&gt;(&#39;floating_species_store&#39;, &#39;SBP&#39;)</title>\n",
       "<path fill=\"none\" stroke=\"black\" stroke-width=\"2\" d=\"M614.91,-231.64C566.41,-211.96 501.89,-179.22 459.89,-132.24 447.74,-118.64 440.59,-98.81 436.73,-84.61\"/>\n",
       "</g>\n",
       "<!-- (&#39;floating_species_store&#39;, &#39;S7P&#39;) -->\n",
       "<g id=\"node12\" class=\"node\">\n",
       "<title>(&#39;floating_species_store&#39;, &#39;S7P&#39;)</title>\n",
       "<ellipse fill=\"none\" stroke=\"black\" stroke-width=\"2\" cx=\"486.89\" cy=\"-66.12\" rx=\"18\" ry=\"18\"/>\n",
       "<text text-anchor=\"start\" x=\"477.14\" y=\"-61.84\" font-family=\"Times,serif\" font-size=\"12.00\">S7P</text>\n",
       "</g>\n",
       "<!-- (&#39;floating_species_store&#39;,)&#45;&gt;(&#39;floating_species_store&#39;, &#39;S7P&#39;) -->\n",
       "<g id=\"edge10\" class=\"edge\">\n",
       "<title>(&#39;floating_species_store&#39;,)&#45;&gt;(&#39;floating_species_store&#39;, &#39;S7P&#39;)</title>\n",
       "<path fill=\"none\" stroke=\"black\" stroke-width=\"2\" d=\"M619.92,-221.19C585.04,-199.65 542.64,-168.81 513.89,-132.24 502.7,-118 495.42,-98.46 491.28,-84.5\"/>\n",
       "</g>\n",
       "<!-- (&#39;floating_species_store&#39;, &#39;X5P&#39;) -->\n",
       "<g id=\"node13\" class=\"node\">\n",
       "<title>(&#39;floating_species_store&#39;, &#39;X5P&#39;)</title>\n",
       "<ellipse fill=\"none\" stroke=\"black\" stroke-width=\"2\" cx=\"540.89\" cy=\"-66.12\" rx=\"18.02\" ry=\"18.02\"/>\n",
       "<text text-anchor=\"start\" x=\"530.02\" y=\"-61.84\" font-family=\"Times,serif\" font-size=\"12.00\">X5P</text>\n",
       "</g>\n",
       "<!-- (&#39;floating_species_store&#39;,)&#45;&gt;(&#39;floating_species_store&#39;, &#39;X5P&#39;) -->\n",
       "<g id=\"edge11\" class=\"edge\">\n",
       "<title>(&#39;floating_species_store&#39;,)&#45;&gt;(&#39;floating_species_store&#39;, &#39;X5P&#39;)</title>\n",
       "<path fill=\"none\" stroke=\"black\" stroke-width=\"2\" d=\"M629.85,-207.22C608.73,-185.8 585.19,-159.24 567.89,-132.24 558.19,-117.09 550.73,-97.86 546.13,-84.24\"/>\n",
       "</g>\n",
       "<!-- (&#39;floating_species_store&#39;, &#39;R5P&#39;) -->\n",
       "<g id=\"node14\" class=\"node\">\n",
       "<title>(&#39;floating_species_store&#39;, &#39;R5P&#39;)</title>\n",
       "<ellipse fill=\"none\" stroke=\"black\" stroke-width=\"2\" cx=\"594.89\" cy=\"-66.12\" rx=\"18\" ry=\"18\"/>\n",
       "<text text-anchor=\"start\" x=\"584.39\" y=\"-61.84\" font-family=\"Times,serif\" font-size=\"12.00\">R5P</text>\n",
       "</g>\n",
       "<!-- (&#39;floating_species_store&#39;,)&#45;&gt;(&#39;floating_species_store&#39;, &#39;R5P&#39;) -->\n",
       "<g id=\"edge12\" class=\"edge\">\n",
       "<title>(&#39;floating_species_store&#39;,)&#45;&gt;(&#39;floating_species_store&#39;, &#39;R5P&#39;)</title>\n",
       "<path fill=\"none\" stroke=\"black\" stroke-width=\"2\" d=\"M650.04,-192.26C640.76,-173.12 630.71,-151.9 621.89,-132.24 614.58,-115.93 606.83,-97.04 601.51,-83.82\"/>\n",
       "</g>\n",
       "<!-- (&#39;floating_species_store&#39;, &#39;Ru5P&#39;) -->\n",
       "<g id=\"node15\" class=\"node\">\n",
       "<title>(&#39;floating_species_store&#39;, &#39;Ru5P&#39;)</title>\n",
       "<ellipse fill=\"none\" stroke=\"black\" stroke-width=\"2\" cx=\"651.89\" cy=\"-66.12\" rx=\"21.29\" ry=\"21.29\"/>\n",
       "<text text-anchor=\"start\" x=\"638.39\" y=\"-61.84\" font-family=\"Times,serif\" font-size=\"12.00\">Ru5P</text>\n",
       "</g>\n",
       "<!-- (&#39;floating_species_store&#39;,)&#45;&gt;(&#39;floating_species_store&#39;, &#39;Ru5P&#39;) -->\n",
       "<g id=\"edge13\" class=\"edge\">\n",
       "<title>(&#39;floating_species_store&#39;,)&#45;&gt;(&#39;floating_species_store&#39;, &#39;Ru5P&#39;)</title>\n",
       "<path fill=\"none\" stroke=\"black\" stroke-width=\"2\" d=\"M670.3,-186C664.93,-151.31 658.78,-111.62 655.13,-88\"/>\n",
       "</g>\n",
       "<!-- (&#39;floating_species_store&#39;, &#39;G6P&#39;) -->\n",
       "<g id=\"node16\" class=\"node\">\n",
       "<title>(&#39;floating_species_store&#39;, &#39;G6P&#39;)</title>\n",
       "<ellipse fill=\"none\" stroke=\"black\" stroke-width=\"2\" cx=\"708.89\" cy=\"-66.12\" rx=\"18.02\" ry=\"18.02\"/>\n",
       "<text text-anchor=\"start\" x=\"698.02\" y=\"-61.84\" font-family=\"Times,serif\" font-size=\"12.00\">G6P</text>\n",
       "</g>\n",
       "<!-- (&#39;floating_species_store&#39;,)&#45;&gt;(&#39;floating_species_store&#39;, &#39;G6P&#39;) -->\n",
       "<g id=\"edge14\" class=\"edge\">\n",
       "<title>(&#39;floating_species_store&#39;,)&#45;&gt;(&#39;floating_species_store&#39;, &#39;G6P&#39;)</title>\n",
       "<path fill=\"none\" stroke=\"black\" stroke-width=\"2\" d=\"M691.12,-186C696.56,-149.63 702.81,-107.78 706.26,-84.7\"/>\n",
       "</g>\n",
       "<!-- (&#39;floating_species_store&#39;, &#39;G1P&#39;) -->\n",
       "<g id=\"node17\" class=\"node\">\n",
       "<title>(&#39;floating_species_store&#39;, &#39;G1P&#39;)</title>\n",
       "<ellipse fill=\"none\" stroke=\"black\" stroke-width=\"2\" cx=\"762.89\" cy=\"-66.12\" rx=\"18.02\" ry=\"18.02\"/>\n",
       "<text text-anchor=\"start\" x=\"752.02\" y=\"-61.84\" font-family=\"Times,serif\" font-size=\"12.00\">G1P</text>\n",
       "</g>\n",
       "<!-- (&#39;floating_species_store&#39;,)&#45;&gt;(&#39;floating_species_store&#39;, &#39;G1P&#39;) -->\n",
       "<g id=\"edge15\" class=\"edge\">\n",
       "<title>(&#39;floating_species_store&#39;,)&#45;&gt;(&#39;floating_species_store&#39;, &#39;G1P&#39;)</title>\n",
       "<path fill=\"none\" stroke=\"black\" stroke-width=\"2\" d=\"M709.66,-191.47C718.22,-172.49 727.54,-151.56 735.89,-132.24 742.98,-115.83 750.77,-96.96 756.15,-83.77\"/>\n",
       "</g>\n",
       "<!-- (&#39;floating_species_store&#39;, &#39;ATP&#39;) -->\n",
       "<g id=\"node18\" class=\"node\">\n",
       "<title>(&#39;floating_species_store&#39;, &#39;ATP&#39;)</title>\n",
       "<ellipse fill=\"none\" stroke=\"black\" stroke-width=\"2\" cx=\"816.89\" cy=\"-66.12\" rx=\"18.02\" ry=\"18.02\"/>\n",
       "<text text-anchor=\"start\" x=\"806.02\" y=\"-61.84\" font-family=\"Times,serif\" font-size=\"12.00\">ATP</text>\n",
       "</g>\n",
       "<!-- (&#39;floating_species_store&#39;,)&#45;&gt;(&#39;floating_species_store&#39;, &#39;ATP&#39;) -->\n",
       "<g id=\"edge16\" class=\"edge\">\n",
       "<title>(&#39;floating_species_store&#39;,)&#45;&gt;(&#39;floating_species_store&#39;, &#39;ATP&#39;)</title>\n",
       "<path fill=\"none\" stroke=\"black\" stroke-width=\"2\" d=\"M730.86,-206.07C751,-184.76 773.34,-158.6 789.89,-132.24 799.46,-117 806.94,-97.79 811.58,-84.19\"/>\n",
       "</g>\n",
       "<!-- (&#39;floating_species_store&#39;, &#39;ADP&#39;) -->\n",
       "<g id=\"node19\" class=\"node\">\n",
       "<title>(&#39;floating_species_store&#39;, &#39;ADP&#39;)</title>\n",
       "<ellipse fill=\"none\" stroke=\"black\" stroke-width=\"2\" cx=\"872.89\" cy=\"-66.12\" rx=\"19.89\" ry=\"19.89\"/>\n",
       "<text text-anchor=\"start\" x=\"860.52\" y=\"-61.84\" font-family=\"Times,serif\" font-size=\"12.00\">ADP</text>\n",
       "</g>\n",
       "<!-- (&#39;floating_species_store&#39;,)&#45;&gt;(&#39;floating_species_store&#39;, &#39;ADP&#39;) -->\n",
       "<g id=\"edge17\" class=\"edge\">\n",
       "<title>(&#39;floating_species_store&#39;,)&#45;&gt;(&#39;floating_species_store&#39;, &#39;ADP&#39;)</title>\n",
       "<path fill=\"none\" stroke=\"black\" stroke-width=\"2\" d=\"M741.22,-219.87C774.91,-198.17 815.66,-167.63 843.89,-132.24 854.85,-118.5 862.57,-99.96 867.28,-86.18\"/>\n",
       "</g>\n",
       "<!-- (&#39;floating_species_store&#39;, &#39;NADPH&#39;) -->\n",
       "<g id=\"node20\" class=\"node\">\n",
       "<title>(&#39;floating_species_store&#39;, &#39;NADPH&#39;)</title>\n",
       "<ellipse fill=\"none\" stroke=\"black\" stroke-width=\"2\" cx=\"941.89\" cy=\"-66.12\" rx=\"31.1\" ry=\"31.1\"/>\n",
       "<text text-anchor=\"start\" x=\"920.52\" y=\"-61.84\" font-family=\"Times,serif\" font-size=\"12.00\">NADPH</text>\n",
       "</g>\n",
       "<!-- (&#39;floating_species_store&#39;,)&#45;&gt;(&#39;floating_species_store&#39;, &#39;NADPH&#39;) -->\n",
       "<g id=\"edge18\" class=\"edge\">\n",
       "<title>(&#39;floating_species_store&#39;,)&#45;&gt;(&#39;floating_species_store&#39;, &#39;NADPH&#39;)</title>\n",
       "<path fill=\"none\" stroke=\"black\" stroke-width=\"2\" d=\"M746.06,-229.11C793.36,-208.35 856.72,-175.39 901.89,-132.24 912.83,-121.79 921.96,-107.73 928.72,-95.35\"/>\n",
       "</g>\n",
       "<!-- (&#39;floating_species_store&#39;, &#39;NADP&#39;) -->\n",
       "<g id=\"node21\" class=\"node\">\n",
       "<title>(&#39;floating_species_store&#39;, &#39;NADP&#39;)</title>\n",
       "<ellipse fill=\"none\" stroke=\"black\" stroke-width=\"2\" cx=\"1016.89\" cy=\"-66.12\" rx=\"25.49\" ry=\"25.49\"/>\n",
       "<text text-anchor=\"start\" x=\"1000.02\" y=\"-61.84\" font-family=\"Times,serif\" font-size=\"12.00\">NADP</text>\n",
       "</g>\n",
       "<!-- (&#39;floating_species_store&#39;,)&#45;&gt;(&#39;floating_species_store&#39;, &#39;NADP&#39;) -->\n",
       "<g id=\"edge19\" class=\"edge\">\n",
       "<title>(&#39;floating_species_store&#39;,)&#45;&gt;(&#39;floating_species_store&#39;, &#39;NADP&#39;)</title>\n",
       "<path fill=\"none\" stroke=\"black\" stroke-width=\"2\" d=\"M749.67,-240.73C815.84,-224.56 915.38,-191.95 981.89,-132.24 994.21,-121.18 1003,-104.73 1008.69,-91.13\"/>\n",
       "</g>\n",
       "<!-- (&#39;floating_species_store&#39;, &#39;H&#39;) -->\n",
       "<g id=\"node22\" class=\"node\">\n",
       "<title>(&#39;floating_species_store&#39;, &#39;H&#39;)</title>\n",
       "<ellipse fill=\"none\" stroke=\"black\" stroke-width=\"2\" cx=\"1077.89\" cy=\"-66.12\" rx=\"18\" ry=\"18\"/>\n",
       "<text text-anchor=\"start\" x=\"1073.39\" y=\"-61.84\" font-family=\"Times,serif\" font-size=\"12.00\">H</text>\n",
       "</g>\n",
       "<!-- (&#39;floating_species_store&#39;,)&#45;&gt;(&#39;floating_species_store&#39;, &#39;H&#39;) -->\n",
       "<g id=\"edge20\" class=\"edge\">\n",
       "<title>(&#39;floating_species_store&#39;,)&#45;&gt;(&#39;floating_species_store&#39;, &#39;H&#39;)</title>\n",
       "<path fill=\"none\" stroke=\"black\" stroke-width=\"2\" d=\"M750.82,-248.85C832.63,-238.79 967.48,-210.66 1050.89,-132.24 1064.36,-119.58 1071.33,-99.2 1074.79,-84.61\"/>\n",
       "</g>\n",
       "<!-- (&#39;floating_species_store&#39;, &#39;Pi&#39;) -->\n",
       "<g id=\"node23\" class=\"node\">\n",
       "<title>(&#39;floating_species_store&#39;, &#39;Pi&#39;)</title>\n",
       "<ellipse fill=\"none\" stroke=\"black\" stroke-width=\"2\" cx=\"1131.89\" cy=\"-66.12\" rx=\"18\" ry=\"18\"/>\n",
       "<text text-anchor=\"start\" x=\"1127.02\" y=\"-61.84\" font-family=\"Times,serif\" font-size=\"12.00\">Pi</text>\n",
       "</g>\n",
       "<!-- (&#39;floating_species_store&#39;,)&#45;&gt;(&#39;floating_species_store&#39;, &#39;Pi&#39;) -->\n",
       "<g id=\"edge21\" class=\"edge\">\n",
       "<title>(&#39;floating_species_store&#39;,)&#45;&gt;(&#39;floating_species_store&#39;, &#39;Pi&#39;)</title>\n",
       "<path fill=\"none\" stroke=\"black\" stroke-width=\"2\" d=\"M749.38,-239.77C821.74,-223.55 938.72,-195.2 1036.89,-161.49 1068.01,-150.8 1081.78,-155.65 1104.89,-132.24 1117.79,-119.17 1124.84,-99.06 1128.47,-84.65\"/>\n",
       "</g>\n",
       "<!-- (&#39;floating_species_store&#39;, &#39;Pext&#39;) -->\n",
       "<g id=\"node24\" class=\"node\">\n",
       "<title>(&#39;floating_species_store&#39;, &#39;Pext&#39;)</title>\n",
       "<ellipse fill=\"none\" stroke=\"black\" stroke-width=\"2\" cx=\"1185.89\" cy=\"-66.12\" rx=\"18\" ry=\"18\"/>\n",
       "<text text-anchor=\"start\" x=\"1175.39\" y=\"-61.84\" font-family=\"Times,serif\" font-size=\"12.00\">Pext</text>\n",
       "</g>\n",
       "<!-- (&#39;floating_species_store&#39;,)&#45;&gt;(&#39;floating_species_store&#39;, &#39;Pext&#39;) -->\n",
       "<g id=\"edge22\" class=\"edge\">\n",
       "<title>(&#39;floating_species_store&#39;,)&#45;&gt;(&#39;floating_species_store&#39;, &#39;Pext&#39;)</title>\n",
       "<path fill=\"none\" stroke=\"black\" stroke-width=\"2\" d=\"M749.54,-240.08C828.01,-223.24 960.04,-193.51 1071.89,-161.49 1111.11,-150.26 1129.07,-160.07 1158.89,-132.24 1172.4,-119.63 1179.37,-99.24 1182.81,-84.63\"/>\n",
       "</g>\n",
       "<!-- (&#39;floating_species_store&#39;,)&#45;&gt;(&#39;my_first_composition&#39;,) -->\n",
       "<g id=\"edge45\" class=\"edge\">\n",
       "<title>(&#39;floating_species_store&#39;,)&#45;&gt;(&#39;my_first_composition&#39;,)</title>\n",
       "<path fill=\"none\" stroke=\"black\" stroke-dasharray=\"5,2\" d=\"M750.29,-245.9C862.99,-230.83 1091.83,-194.96 1276.89,-132.24 1312.84,-120.05 1352.23,-103.2 1382.04,-89.7\"/>\n",
       "<polygon fill=\"black\" stroke=\"black\" points=\"1383.14,-93.04 1390.78,-85.7 1380.23,-86.67 1383.14,-93.04\"/>\n",
       "<text text-anchor=\"start\" x=\"1214.89\" y=\"-151.99\" font-family=\"Times,serif\" font-size=\"10.00\">floating_species</text>\n",
       "</g>\n",
       "<!-- (&#39;floating_species_store&#39;,)&#45;&gt;(&#39;my_first_composition&#39;,) -->\n",
       "<g id=\"edge49\" class=\"edge\">\n",
       "<title>(&#39;floating_species_store&#39;,)&#45;&gt;(&#39;my_first_composition&#39;,)</title>\n",
       "<path fill=\"none\" stroke=\"black\" stroke-dasharray=\"5,2\" d=\"M762.08,-252.81C880.89,-248.09 1107.35,-229.97 1285.89,-161.49 1333.89,-143.07 1382.4,-106.8 1409.06,-84.98\"/>\n",
       "<polygon fill=\"black\" stroke=\"black\" points=\"762.3,-249.3 752.44,-253.17 762.56,-256.3 762.3,-249.3\"/>\n",
       "<text text-anchor=\"start\" x=\"1307.89\" y=\"-151.99\" font-family=\"Times,serif\" font-size=\"10.00\">floating_species</text>\n",
       "</g>\n",
       "<!-- (&#39;model_parameters_store&#39;,) -->\n",
       "<g id=\"node25\" class=\"node\">\n",
       "<title>(&#39;model_parameters_store&#39;,)</title>\n",
       "<ellipse fill=\"none\" stroke=\"black\" stroke-width=\"2\" cx=\"1525.89\" cy=\"-255.41\" rx=\"75.92\" ry=\"75.92\"/>\n",
       "<text text-anchor=\"start\" x=\"1468.52\" y=\"-251.14\" font-family=\"Times,serif\" font-size=\"12.00\">model_parameters_store</text>\n",
       "</g>\n",
       "<!-- (&#39;model_parameters_store&#39;,)&#45;&gt;(&#39;my_first_composition&#39;,) -->\n",
       "<g id=\"edge46\" class=\"edge\">\n",
       "<title>(&#39;model_parameters_store&#39;,)&#45;&gt;(&#39;my_first_composition&#39;,)</title>\n",
       "<path fill=\"none\" stroke=\"black\" stroke-dasharray=\"5,2\" d=\"M1491.23,-186.79C1475.03,-155.17 1456.61,-119.25 1444.23,-95.08\"/>\n",
       "<polygon fill=\"black\" stroke=\"black\" points=\"1447.35,-93.51 1439.68,-86.21 1441.12,-96.71 1447.35,-93.51\"/>\n",
       "<text text-anchor=\"start\" x=\"1477.89\" y=\"-151.99\" font-family=\"Times,serif\" font-size=\"10.00\">model_parameters</text>\n",
       "</g>\n",
       "<!-- (&#39;reactions_store&#39;,) -->\n",
       "<g id=\"node26\" class=\"node\">\n",
       "<title>(&#39;reactions_store&#39;,)</title>\n",
       "<ellipse fill=\"none\" stroke=\"black\" stroke-width=\"2\" cx=\"2646.89\" cy=\"-255.41\" rx=\"48.37\" ry=\"48.37\"/>\n",
       "<text text-anchor=\"start\" x=\"2611.64\" y=\"-251.14\" font-family=\"Times,serif\" font-size=\"12.00\">reactions_store</text>\n",
       "</g>\n",
       "<!-- (&#39;reactions_store&#39;, &#39;RuBisCo&#39;) -->\n",
       "<g id=\"node27\" class=\"node\">\n",
       "<title>(&#39;reactions_store&#39;, &#39;RuBisCo&#39;)</title>\n",
       "<ellipse fill=\"none\" stroke=\"black\" stroke-width=\"2\" cx=\"3470.89\" cy=\"-66.12\" rx=\"32.03\" ry=\"32.03\"/>\n",
       "<text text-anchor=\"start\" x=\"3448.77\" y=\"-61.84\" font-family=\"Times,serif\" font-size=\"12.00\">RuBisCo</text>\n",
       "</g>\n",
       "<!-- (&#39;reactions_store&#39;,)&#45;&gt;(&#39;reactions_store&#39;, &#39;RuBisCo&#39;) -->\n",
       "<g id=\"edge23\" class=\"edge\">\n",
       "<title>(&#39;reactions_store&#39;,)&#45;&gt;(&#39;reactions_store&#39;, &#39;RuBisCo&#39;)</title>\n",
       "<path fill=\"none\" stroke=\"black\" stroke-width=\"2\" d=\"M2669.53,-211.65C2678.46,-199.05 2689.96,-186.71 2703.89,-179.49 2753.45,-153.8 3150.27,-166.1 3205.89,-161.49 3305.95,-153.18 3345.33,-186.36 3429.89,-132.24 3442.94,-123.88 3452.59,-109.73 3459.23,-96.75\"/>\n",
       "</g>\n",
       "<!-- (&#39;reactions_store&#39;, &#39;PGA kinase&#39;) -->\n",
       "<g id=\"node28\" class=\"node\">\n",
       "<title>(&#39;reactions_store&#39;, &#39;PGA kinase&#39;)</title>\n",
       "<ellipse fill=\"none\" stroke=\"black\" stroke-width=\"2\" cx=\"3560.89\" cy=\"-66.12\" rx=\"39.97\" ry=\"39.97\"/>\n",
       "<text text-anchor=\"start\" x=\"3532.39\" y=\"-61.84\" font-family=\"Times,serif\" font-size=\"12.00\">PGA kinase</text>\n",
       "</g>\n",
       "<!-- (&#39;reactions_store&#39;,)&#45;&gt;(&#39;reactions_store&#39;, &#39;PGA kinase&#39;) -->\n",
       "<g id=\"edge24\" class=\"edge\">\n",
       "<title>(&#39;reactions_store&#39;,)&#45;&gt;(&#39;reactions_store&#39;, &#39;PGA kinase&#39;)</title>\n",
       "<path fill=\"none\" stroke=\"black\" stroke-width=\"2\" d=\"M2669.5,-211.6C2678.43,-198.99 2689.94,-186.66 2703.89,-179.49 2734.04,-163.98 3280.12,-164.47 3313.89,-161.49 3402.5,-153.66 3435.42,-177.68 3511.89,-132.24 3524.05,-125.01 3534.19,-113.49 3542.03,-102.14\"/>\n",
       "</g>\n",
       "<!-- (&#39;reactions_store&#39;, &#39;GAP dehydrogenase&#39;) -->\n",
       "<g id=\"node29\" class=\"node\">\n",
       "<title>(&#39;reactions_store&#39;, &#39;GAP dehydrogenase&#39;)</title>\n",
       "<ellipse fill=\"none\" stroke=\"black\" stroke-width=\"2\" cx=\"3684.89\" cy=\"-66.12\" rx=\"66.12\" ry=\"66.12\"/>\n",
       "<text text-anchor=\"start\" x=\"3635.39\" y=\"-61.84\" font-family=\"Times,serif\" font-size=\"12.00\">GAP dehydrogenase</text>\n",
       "</g>\n",
       "<!-- (&#39;reactions_store&#39;,)&#45;&gt;(&#39;reactions_store&#39;, &#39;GAP dehydrogenase&#39;) -->\n",
       "<g id=\"edge25\" class=\"edge\">\n",
       "<title>(&#39;reactions_store&#39;,)&#45;&gt;(&#39;reactions_store&#39;, &#39;GAP dehydrogenase&#39;)</title>\n",
       "<path fill=\"none\" stroke=\"black\" stroke-width=\"2\" d=\"M2669.49,-211.57C2678.42,-198.96 2689.92,-186.63 2703.89,-179.49 2738.72,-161.66 3368.91,-164.8 3407.89,-161.49 3498.28,-153.81 3527.41,-170 3609.89,-132.24 3619.93,-127.64 3629.63,-121.27 3638.54,-114.31\"/>\n",
       "</g>\n",
       "<!-- (&#39;reactions_store&#39;, &#39;TP isomerase&#39;) -->\n",
       "<g id=\"node30\" class=\"node\">\n",
       "<title>(&#39;reactions_store&#39;, &#39;TP isomerase&#39;)</title>\n",
       "<ellipse fill=\"none\" stroke=\"black\" stroke-width=\"2\" cx=\"3812.89\" cy=\"-66.12\" rx=\"44.17\" ry=\"44.17\"/>\n",
       "<text text-anchor=\"start\" x=\"3781.02\" y=\"-61.84\" font-family=\"Times,serif\" font-size=\"12.00\">TP isomerase</text>\n",
       "</g>\n",
       "<!-- (&#39;reactions_store&#39;,)&#45;&gt;(&#39;reactions_store&#39;, &#39;TP isomerase&#39;) -->\n",
       "<g id=\"edge26\" class=\"edge\">\n",
       "<title>(&#39;reactions_store&#39;,)&#45;&gt;(&#39;reactions_store&#39;, &#39;TP isomerase&#39;)</title>\n",
       "<path fill=\"none\" stroke=\"black\" stroke-width=\"2\" d=\"M2669.48,-211.55C2678.4,-198.93 2689.91,-186.61 2703.89,-179.49 2743.15,-159.47 3452.92,-164.42 3496.89,-161.49 3614.24,-153.64 3656.63,-188.54 3759.89,-132.24 3771.79,-125.75 3782.04,-115.38 3790.27,-104.81\"/>\n",
       "</g>\n",
       "<!-- (&#39;reactions_store&#39;, &#39;FBP aldolase&#39;) -->\n",
       "<g id=\"node31\" class=\"node\">\n",
       "<title>(&#39;reactions_store&#39;, &#39;FBP aldolase&#39;)</title>\n",
       "<ellipse fill=\"none\" stroke=\"black\" stroke-width=\"2\" cx=\"1629.89\" cy=\"-66.12\" rx=\"43.71\" ry=\"43.71\"/>\n",
       "<text text-anchor=\"start\" x=\"1598.39\" y=\"-61.84\" font-family=\"Times,serif\" font-size=\"12.00\">FBP aldolase</text>\n",
       "</g>\n",
       "<!-- (&#39;reactions_store&#39;,)&#45;&gt;(&#39;reactions_store&#39;, &#39;FBP aldolase&#39;) -->\n",
       "<g id=\"edge27\" class=\"edge\">\n",
       "<title>(&#39;reactions_store&#39;,)&#45;&gt;(&#39;reactions_store&#39;, &#39;FBP aldolase&#39;)</title>\n",
       "<path fill=\"none\" stroke=\"black\" stroke-width=\"2\" d=\"M2597.82,-251.73C2466.31,-243.97 2095.31,-218.34 1791.89,-161.49 1742.59,-152.25 1724.99,-159.51 1682.89,-132.24 1671.64,-124.94 1661.63,-114.48 1653.42,-104.07\"/>\n",
       "</g>\n",
       "<!-- (&#39;reactions_store&#39;, &#39;FBP ase&#39;) -->\n",
       "<g id=\"node32\" class=\"node\">\n",
       "<title>(&#39;reactions_store&#39;, &#39;FBP ase&#39;)</title>\n",
       "<ellipse fill=\"none\" stroke=\"black\" stroke-width=\"2\" cx=\"1720.89\" cy=\"-66.12\" rx=\"29.23\" ry=\"29.23\"/>\n",
       "<text text-anchor=\"start\" x=\"1701.02\" y=\"-61.84\" font-family=\"Times,serif\" font-size=\"12.00\">FBP ase</text>\n",
       "</g>\n",
       "<!-- (&#39;reactions_store&#39;,)&#45;&gt;(&#39;reactions_store&#39;, &#39;FBP ase&#39;) -->\n",
       "<g id=\"edge28\" class=\"edge\">\n",
       "<title>(&#39;reactions_store&#39;,)&#45;&gt;(&#39;reactions_store&#39;, &#39;FBP ase&#39;)</title>\n",
       "<path fill=\"none\" stroke=\"black\" stroke-width=\"2\" d=\"M2598.32,-248.74C2482.8,-235.1 2182.62,-198.83 1932.89,-161.49 1855.77,-149.95 1824.28,-176.22 1759.89,-132.24 1746.62,-123.17 1737.14,-107.95 1730.85,-94.51\"/>\n",
       "</g>\n",
       "<!-- (&#39;reactions_store&#39;, &#39;F6P transketolase&#39;) -->\n",
       "<g id=\"node33\" class=\"node\">\n",
       "<title>(&#39;reactions_store&#39;, &#39;F6P transketolase&#39;)</title>\n",
       "<ellipse fill=\"none\" stroke=\"black\" stroke-width=\"2\" cx=\"1824.89\" cy=\"-66.12\" rx=\"56.31\" ry=\"56.31\"/>\n",
       "<text text-anchor=\"start\" x=\"1783.27\" y=\"-61.84\" font-family=\"Times,serif\" font-size=\"12.00\">F6P transketolase</text>\n",
       "</g>\n",
       "<!-- (&#39;reactions_store&#39;,)&#45;&gt;(&#39;reactions_store&#39;, &#39;F6P transketolase&#39;) -->\n",
       "<g id=\"edge29\" class=\"edge\">\n",
       "<title>(&#39;reactions_store&#39;,)&#45;&gt;(&#39;reactions_store&#39;, &#39;F6P transketolase&#39;)</title>\n",
       "<path fill=\"none\" stroke=\"black\" stroke-width=\"2\" d=\"M2598.2,-247.91C2494.15,-233.83 2242.53,-198.76 2032.89,-161.49 1969.02,-150.13 1947.01,-163 1889.89,-132.24 1879.48,-126.63 1869.66,-118.83 1860.96,-110.56\"/>\n",
       "</g>\n",
       "<!-- (&#39;reactions_store&#39;, &#39;SBP aldolase&#39;) -->\n",
       "<g id=\"node34\" class=\"node\">\n",
       "<title>(&#39;reactions_store&#39;, &#39;SBP aldolase&#39;)</title>\n",
       "<ellipse fill=\"none\" stroke=\"black\" stroke-width=\"2\" cx=\"1942.89\" cy=\"-66.12\" rx=\"43.71\" ry=\"43.71\"/>\n",
       "<text text-anchor=\"start\" x=\"1911.39\" y=\"-61.84\" font-family=\"Times,serif\" font-size=\"12.00\">SBP aldolase</text>\n",
       "</g>\n",
       "<!-- (&#39;reactions_store&#39;,)&#45;&gt;(&#39;reactions_store&#39;, &#39;SBP aldolase&#39;) -->\n",
       "<g id=\"edge30\" class=\"edge\">\n",
       "<title>(&#39;reactions_store&#39;,)&#45;&gt;(&#39;reactions_store&#39;, &#39;SBP aldolase&#39;)</title>\n",
       "<path fill=\"none\" stroke=\"black\" stroke-width=\"2\" d=\"M2598.24,-247.27C2503.83,-233.12 2289.38,-199.6 2110.89,-161.49 2059.32,-150.47 2040.34,-160.62 1995.89,-132.24 1984.59,-125.02 1974.57,-114.58 1966.36,-104.16\"/>\n",
       "</g>\n",
       "<!-- (&#39;reactions_store&#39;, &#39;SBP ase&#39;) -->\n",
       "<g id=\"node35\" class=\"node\">\n",
       "<title>(&#39;reactions_store&#39;, &#39;SBP ase&#39;)</title>\n",
       "<ellipse fill=\"none\" stroke=\"black\" stroke-width=\"2\" cx=\"2033.89\" cy=\"-66.12\" rx=\"29.23\" ry=\"29.23\"/>\n",
       "<text text-anchor=\"start\" x=\"2014.02\" y=\"-61.84\" font-family=\"Times,serif\" font-size=\"12.00\">SBP ase</text>\n",
       "</g>\n",
       "<!-- (&#39;reactions_store&#39;,)&#45;&gt;(&#39;reactions_store&#39;, &#39;SBP ase&#39;) -->\n",
       "<g id=\"edge31\" class=\"edge\">\n",
       "<title>(&#39;reactions_store&#39;,)&#45;&gt;(&#39;reactions_store&#39;, &#39;SBP ase&#39;)</title>\n",
       "<path fill=\"none\" stroke=\"black\" stroke-width=\"2\" d=\"M2598.19,-249.08C2475.6,-234.87 2157.96,-193.03 2072.89,-132.24 2059.81,-122.89 2050.34,-107.66 2044.01,-94.28\"/>\n",
       "</g>\n",
       "<!-- (&#39;reactions_store&#39;, &#39;S7P transketolase&#39;) -->\n",
       "<g id=\"node36\" class=\"node\">\n",
       "<title>(&#39;reactions_store&#39;, &#39;S7P transketolase&#39;)</title>\n",
       "<ellipse fill=\"none\" stroke=\"black\" stroke-width=\"2\" cx=\"2137.89\" cy=\"-66.12\" rx=\"56.31\" ry=\"56.31\"/>\n",
       "<text text-anchor=\"start\" x=\"2096.27\" y=\"-61.84\" font-family=\"Times,serif\" font-size=\"12.00\">S7P transketolase</text>\n",
       "</g>\n",
       "<!-- (&#39;reactions_store&#39;,)&#45;&gt;(&#39;reactions_store&#39;, &#39;S7P transketolase&#39;) -->\n",
       "<g id=\"edge32\" class=\"edge\">\n",
       "<title>(&#39;reactions_store&#39;,)&#45;&gt;(&#39;reactions_store&#39;, &#39;S7P transketolase&#39;)</title>\n",
       "<path fill=\"none\" stroke=\"black\" stroke-width=\"2\" d=\"M2598.23,-249.14C2513.22,-238.23 2334.28,-207.57 2203.89,-132.24 2193.44,-126.2 2183.44,-118.11 2174.54,-109.69\"/>\n",
       "</g>\n",
       "<!-- (&#39;reactions_store&#39;, &#39;R5P isomerase&#39;) -->\n",
       "<g id=\"node37\" class=\"node\">\n",
       "<title>(&#39;reactions_store&#39;, &#39;R5P isomerase&#39;)</title>\n",
       "<ellipse fill=\"none\" stroke=\"black\" stroke-width=\"2\" cx=\"2260.89\" cy=\"-66.12\" rx=\"48.37\" ry=\"48.37\"/>\n",
       "<text text-anchor=\"start\" x=\"2225.64\" y=\"-61.84\" font-family=\"Times,serif\" font-size=\"12.00\">R5P isomerase</text>\n",
       "</g>\n",
       "<!-- (&#39;reactions_store&#39;,)&#45;&gt;(&#39;reactions_store&#39;, &#39;R5P isomerase&#39;) -->\n",
       "<g id=\"edge33\" class=\"edge\">\n",
       "<title>(&#39;reactions_store&#39;,)&#45;&gt;(&#39;reactions_store&#39;, &#39;R5P isomerase&#39;)</title>\n",
       "<path fill=\"none\" stroke=\"black\" stroke-width=\"2\" d=\"M2599.03,-244.51C2531.71,-228.92 2407.3,-193.89 2317.89,-132.24 2307.5,-125.07 2297.79,-115.6 2289.44,-106.1\"/>\n",
       "</g>\n",
       "<!-- (&#39;reactions_store&#39;, &#39;Ru5P epimerase&#39;) -->\n",
       "<g id=\"node38\" class=\"node\">\n",
       "<title>(&#39;reactions_store&#39;, &#39;Ru5P epimerase&#39;)</title>\n",
       "<ellipse fill=\"none\" stroke=\"black\" stroke-width=\"2\" cx=\"2379.89\" cy=\"-66.12\" rx=\"52.58\" ry=\"52.58\"/>\n",
       "<text text-anchor=\"start\" x=\"2341.27\" y=\"-61.84\" font-family=\"Times,serif\" font-size=\"12.00\">Ru5P epimerase</text>\n",
       "</g>\n",
       "<!-- (&#39;reactions_store&#39;,)&#45;&gt;(&#39;reactions_store&#39;, &#39;Ru5P epimerase&#39;) -->\n",
       "<g id=\"edge34\" class=\"edge\">\n",
       "<title>(&#39;reactions_store&#39;,)&#45;&gt;(&#39;reactions_store&#39;, &#39;Ru5P epimerase&#39;)</title>\n",
       "<path fill=\"none\" stroke=\"black\" stroke-width=\"2\" d=\"M2603.19,-233.12C2559.84,-210.97 2492.6,-173.77 2440.89,-132.24 2431.59,-124.77 2422.37,-115.9 2414.02,-107.15\"/>\n",
       "</g>\n",
       "<!-- (&#39;reactions_store&#39;, &#39;Ru5P kinase&#39;) -->\n",
       "<g id=\"node39\" class=\"node\">\n",
       "<title>(&#39;reactions_store&#39;, &#39;Ru5P kinase&#39;)</title>\n",
       "<ellipse fill=\"none\" stroke=\"black\" stroke-width=\"2\" cx=\"2491.89\" cy=\"-66.12\" rx=\"41.84\" ry=\"41.84\"/>\n",
       "<text text-anchor=\"start\" x=\"2461.89\" y=\"-61.84\" font-family=\"Times,serif\" font-size=\"12.00\">Ru5P kinase</text>\n",
       "</g>\n",
       "<!-- (&#39;reactions_store&#39;,)&#45;&gt;(&#39;reactions_store&#39;, &#39;Ru5P kinase&#39;) -->\n",
       "<g id=\"edge35\" class=\"edge\">\n",
       "<title>(&#39;reactions_store&#39;,)&#45;&gt;(&#39;reactions_store&#39;, &#39;Ru5P kinase&#39;)</title>\n",
       "<path fill=\"none\" stroke=\"black\" stroke-width=\"2\" d=\"M2615.09,-217.85C2594.3,-193.74 2566.68,-161.36 2542.89,-132.24 2534.44,-121.89 2525.4,-110.47 2517.32,-100.12\"/>\n",
       "</g>\n",
       "<!-- (&#39;reactions_store&#39;, &#39;PG isomerase&#39;) -->\n",
       "<g id=\"node40\" class=\"node\">\n",
       "<title>(&#39;reactions_store&#39;, &#39;PG isomerase&#39;)</title>\n",
       "<ellipse fill=\"none\" stroke=\"black\" stroke-width=\"2\" cx=\"2596.89\" cy=\"-66.12\" rx=\"45.11\" ry=\"45.11\"/>\n",
       "<text text-anchor=\"start\" x=\"2564.27\" y=\"-61.84\" font-family=\"Times,serif\" font-size=\"12.00\">PG isomerase</text>\n",
       "</g>\n",
       "<!-- (&#39;reactions_store&#39;,)&#45;&gt;(&#39;reactions_store&#39;, &#39;PG isomerase&#39;) -->\n",
       "<g id=\"edge36\" class=\"edge\">\n",
       "<title>(&#39;reactions_store&#39;,)&#45;&gt;(&#39;reactions_store&#39;, &#39;PG isomerase&#39;)</title>\n",
       "<path fill=\"none\" stroke=\"black\" stroke-width=\"2\" d=\"M2634.53,-208.11C2626.58,-178.32 2616.31,-139.86 2608.51,-110.63\"/>\n",
       "</g>\n",
       "<!-- (&#39;reactions_store&#39;, &#39;PG mutase&#39;) -->\n",
       "<g id=\"node41\" class=\"node\">\n",
       "<title>(&#39;reactions_store&#39;, &#39;PG mutase&#39;)</title>\n",
       "<ellipse fill=\"none\" stroke=\"black\" stroke-width=\"2\" cx=\"2696.89\" cy=\"-66.12\" rx=\"36.7\" ry=\"36.7\"/>\n",
       "<text text-anchor=\"start\" x=\"2671.02\" y=\"-61.84\" font-family=\"Times,serif\" font-size=\"12.00\">PG mutase</text>\n",
       "</g>\n",
       "<!-- (&#39;reactions_store&#39;,)&#45;&gt;(&#39;reactions_store&#39;, &#39;PG mutase&#39;) -->\n",
       "<g id=\"edge37\" class=\"edge\">\n",
       "<title>(&#39;reactions_store&#39;,)&#45;&gt;(&#39;reactions_store&#39;, &#39;PG mutase&#39;)</title>\n",
       "<path fill=\"none\" stroke=\"black\" stroke-width=\"2\" d=\"M2659.25,-208.11C2667.96,-175.51 2679.43,-132.51 2687.42,-102.61\"/>\n",
       "</g>\n",
       "<!-- (&#39;reactions_store&#39;, &#39;starch synthase&#39;) -->\n",
       "<g id=\"node42\" class=\"node\">\n",
       "<title>(&#39;reactions_store&#39;, &#39;starch synthase&#39;)</title>\n",
       "<ellipse fill=\"none\" stroke=\"black\" stroke-width=\"2\" cx=\"2800.89\" cy=\"-66.12\" rx=\"48.84\" ry=\"48.84\"/>\n",
       "<text text-anchor=\"start\" x=\"2765.27\" y=\"-61.84\" font-family=\"Times,serif\" font-size=\"12.00\">starch synthase</text>\n",
       "</g>\n",
       "<!-- (&#39;reactions_store&#39;,)&#45;&gt;(&#39;reactions_store&#39;, &#39;starch synthase&#39;) -->\n",
       "<g id=\"edge38\" class=\"edge\">\n",
       "<title>(&#39;reactions_store&#39;,)&#45;&gt;(&#39;reactions_store&#39;, &#39;starch synthase&#39;)</title>\n",
       "<path fill=\"none\" stroke=\"black\" stroke-width=\"2\" d=\"M2675.73,-215.56C2684.62,-203.85 2694.53,-191.04 2703.89,-179.49 2724.83,-153.66 2749.29,-125.33 2768.42,-103.58\"/>\n",
       "</g>\n",
       "<!-- (&#39;reactions_store&#39;, &#39;starch phosphorylase&#39;) -->\n",
       "<g id=\"node43\" class=\"node\">\n",
       "<title>(&#39;reactions_store&#39;, &#39;starch phosphorylase&#39;)</title>\n",
       "<ellipse fill=\"none\" stroke=\"black\" stroke-width=\"2\" cx=\"2933.89\" cy=\"-66.12\" rx=\"66.12\" ry=\"66.12\"/>\n",
       "<text text-anchor=\"start\" x=\"2884.39\" y=\"-61.84\" font-family=\"Times,serif\" font-size=\"12.00\">starch phosphorylase</text>\n",
       "</g>\n",
       "<!-- (&#39;reactions_store&#39;,)&#45;&gt;(&#39;reactions_store&#39;, &#39;starch phosphorylase&#39;) -->\n",
       "<g id=\"edge39\" class=\"edge\">\n",
       "<title>(&#39;reactions_store&#39;,)&#45;&gt;(&#39;reactions_store&#39;, &#39;starch phosphorylase&#39;)</title>\n",
       "<path fill=\"none\" stroke=\"black\" stroke-width=\"2\" d=\"M2671.33,-212.92C2680.25,-200.7 2691.28,-188.26 2703.89,-179.49 2763,-138.34 2795.88,-167.11 2858.89,-132.24 2868.4,-126.98 2877.77,-120.36 2886.49,-113.38\"/>\n",
       "</g>\n",
       "<!-- (&#39;reactions_store&#39;, &#39;ATP synthetase&#39;) -->\n",
       "<g id=\"node44\" class=\"node\">\n",
       "<title>(&#39;reactions_store&#39;, &#39;ATP synthetase&#39;)</title>\n",
       "<ellipse fill=\"none\" stroke=\"black\" stroke-width=\"2\" cx=\"3067.89\" cy=\"-66.12\" rx=\"50.24\" ry=\"50.24\"/>\n",
       "<text text-anchor=\"start\" x=\"3031.14\" y=\"-61.84\" font-family=\"Times,serif\" font-size=\"12.00\">ATP synthetase</text>\n",
       "</g>\n",
       "<!-- (&#39;reactions_store&#39;,)&#45;&gt;(&#39;reactions_store&#39;, &#39;ATP synthetase&#39;) -->\n",
       "<g id=\"edge40\" class=\"edge\">\n",
       "<title>(&#39;reactions_store&#39;,)&#45;&gt;(&#39;reactions_store&#39;, &#39;ATP synthetase&#39;)</title>\n",
       "<path fill=\"none\" stroke=\"black\" stroke-width=\"2\" d=\"M2670.34,-212.21C2679.26,-199.8 2690.55,-187.43 2703.89,-179.49 2733.36,-161.94 2978.7,-148.5 3008.89,-132.24 3020.04,-126.23 3030.16,-117.27 3038.75,-107.91\"/>\n",
       "</g>\n",
       "<!-- (&#39;reactions_store&#39;, &#39;TPT &#45; PGA&#39;) -->\n",
       "<g id=\"node45\" class=\"node\">\n",
       "<title>(&#39;reactions_store&#39;, &#39;TPT &#45; PGA&#39;)</title>\n",
       "<ellipse fill=\"none\" stroke=\"black\" stroke-width=\"2\" cx=\"3175.89\" cy=\"-66.12\" rx=\"39.5\" ry=\"39.5\"/>\n",
       "<text text-anchor=\"start\" x=\"3147.77\" y=\"-61.84\" font-family=\"Times,serif\" font-size=\"12.00\">TPT &#45; PGA</text>\n",
       "</g>\n",
       "<!-- (&#39;reactions_store&#39;,)&#45;&gt;(&#39;reactions_store&#39;, &#39;TPT &#45; PGA&#39;) -->\n",
       "<g id=\"edge41\" class=\"edge\">\n",
       "<title>(&#39;reactions_store&#39;,)&#45;&gt;(&#39;reactions_store&#39;, &#39;TPT &#45; PGA&#39;)</title>\n",
       "<path fill=\"none\" stroke=\"black\" stroke-width=\"2\" d=\"M2670.14,-211.86C2679.05,-199.43 2690.38,-187.14 2703.89,-179.49 2735.6,-161.53 2830.67,-165.52 2866.89,-161.49 2982.46,-148.6 3025.91,-189.9 3126.89,-132.24 3139.3,-125.15 3149.55,-113.52 3157.4,-102.03\"/>\n",
       "</g>\n",
       "<!-- (&#39;reactions_store&#39;, &#39;TPT &#45; GAP&#39;) -->\n",
       "<g id=\"node46\" class=\"node\">\n",
       "<title>(&#39;reactions_store&#39;, &#39;TPT &#45; GAP&#39;)</title>\n",
       "<ellipse fill=\"none\" stroke=\"black\" stroke-width=\"2\" cx=\"3272.89\" cy=\"-66.12\" rx=\"39.5\" ry=\"39.5\"/>\n",
       "<text text-anchor=\"start\" x=\"3244.77\" y=\"-61.84\" font-family=\"Times,serif\" font-size=\"12.00\">TPT &#45; GAP</text>\n",
       "</g>\n",
       "<!-- (&#39;reactions_store&#39;,)&#45;&gt;(&#39;reactions_store&#39;, &#39;TPT &#45; GAP&#39;) -->\n",
       "<g id=\"edge42\" class=\"edge\">\n",
       "<title>(&#39;reactions_store&#39;,)&#45;&gt;(&#39;reactions_store&#39;, &#39;TPT &#45; GAP&#39;)</title>\n",
       "<path fill=\"none\" stroke=\"black\" stroke-width=\"2\" d=\"M2669.65,-211.87C2678.58,-199.28 2690.06,-186.89 2703.89,-179.49 2732.16,-164.36 2959.97,-164.48 2991.89,-161.49 3095.8,-151.73 3134.85,-185.02 3224.89,-132.24 3237.13,-125.06 3247.18,-113.41 3254.87,-101.94\"/>\n",
       "</g>\n",
       "<!-- (&#39;reactions_store&#39;, &#39;TPT &#45; DHAP&#39;) -->\n",
       "<g id=\"node47\" class=\"node\">\n",
       "<title>(&#39;reactions_store&#39;, &#39;TPT &#45; DHAP&#39;)</title>\n",
       "<ellipse fill=\"none\" stroke=\"black\" stroke-width=\"2\" cx=\"3375.89\" cy=\"-66.12\" rx=\"45.11\" ry=\"45.11\"/>\n",
       "<text text-anchor=\"start\" x=\"3343.27\" y=\"-61.84\" font-family=\"Times,serif\" font-size=\"12.00\">TPT &#45; DHAP</text>\n",
       "</g>\n",
       "<!-- (&#39;reactions_store&#39;,)&#45;&gt;(&#39;reactions_store&#39;, &#39;TPT &#45; DHAP&#39;) -->\n",
       "<g id=\"edge43\" class=\"edge\">\n",
       "<title>(&#39;reactions_store&#39;,)&#45;&gt;(&#39;reactions_store&#39;, &#39;TPT &#45; DHAP&#39;)</title>\n",
       "<path fill=\"none\" stroke=\"black\" stroke-width=\"2\" d=\"M2669.57,-211.73C2678.5,-199.13 2689.99,-186.77 2703.89,-179.49 2743.2,-158.88 3058.69,-165.43 3102.89,-161.49 3200.7,-152.77 3235.98,-179.8 3321.89,-132.24 3333.58,-125.76 3343.79,-115.66 3352.08,-105.33\"/>\n",
       "</g>\n",
       "<!-- (&#39;reactions_store&#39;,)&#45;&gt;(&#39;my_first_composition&#39;,) -->\n",
       "<g id=\"edge47\" class=\"edge\">\n",
       "<title>(&#39;reactions_store&#39;,)&#45;&gt;(&#39;my_first_composition&#39;,)</title>\n",
       "<path fill=\"none\" stroke=\"black\" stroke-dasharray=\"5,2\" d=\"M2597.72,-252.76C2454.95,-247.32 2028.43,-226.38 1681.14,-161.49 1633.84,-152.65 1622.17,-148.52 1576.89,-132.24 1542.62,-119.91 1505.1,-103.23 1476.54,-89.84\"/>\n",
       "<polygon fill=\"black\" stroke=\"black\" points=\"1478.35,-86.83 1467.82,-85.72 1475.36,-93.16 1478.35,-86.83\"/>\n",
       "<text text-anchor=\"start\" x=\"1681.89\" y=\"-151.99\" font-family=\"Times,serif\" font-size=\"10.00\">reactions</text>\n",
       "</g>\n",
       "<!-- (&#39;emitter&#39;,) -->\n",
       "<g id=\"node48\" class=\"node\">\n",
       "<title>(&#39;emitter&#39;,)</title>\n",
       "<polygon fill=\"none\" stroke=\"black\" stroke-width=\"2\" points=\"2766.89,-273.41 2712.89,-273.41 2712.89,-237.41 2766.89,-237.41 2766.89,-273.41\"/>\n",
       "<text text-anchor=\"start\" x=\"2723.77\" y=\"-251.14\" font-family=\"Times,serif\" font-size=\"12.00\">emitter</text>\n",
       "</g>\n",
       "</g>\n",
       "</svg>\n"
      ],
      "text/plain": [
       "<graphviz.graphs.Digraph at 0x107365e70>"
      ]
     },
     "execution_count": 5,
     "metadata": {},
     "output_type": "execute_result"
    }
   ],
   "source": [
    "# add processes\n",
    "prompter.start()"
   ]
  },
  {
   "cell_type": "code",
   "execution_count": 6,
   "id": "db8d9da1b5843b36",
   "metadata": {
    "ExecuteTime": {
     "end_time": "2024-03-14T01:24:35.445409Z",
     "start_time": "2024-03-14T01:24:30.529023Z"
    },
    "collapsed": false
   },
   "outputs": [
    {
     "name": "stderr",
     "output_type": "stream",
     "text": [
      "Error while initializing the simulation: >ERROR 2024-03-13T21:24:35<\n",
      "  At least one reaction is reversible. That means stochastic simulation is not possible. \n",
      "  You can use \"Tools|Convert to irreversible\" which will split the reversible reactions \n",
      "   into two irreversible reactions. However you should check the kinetics afterwards.\n"
     ]
    },
    {
     "name": "stdout",
     "output_type": "stream",
     "text": [
      "Generating composite...\n",
      "Composite generated!\n",
      "Running generated composite for an interval of 1\n",
      "Composite successfully run. Request complete. Done.\n"
     ]
    },
    {
     "name": "stderr",
     "output_type": "stream",
     "text": [
      "/Users/alex/Desktop/uchc_work/repos/biosimulator-processes/biosimulator_processes/processes/copasi_process.py:225: FutureWarning:\n",
      "\n",
      "Series.__getitem__ treating keys as positions is deprecated. In a future version, integer keys will always be treated as labels (consistent with DataFrame behavior). To access a value by position, use `ser.iloc[pos]`\n",
      "\n"
     ]
    }
   ],
   "source": [
    "# run composition\n",
    "prompter.run(num=num, duration=duration)"
   ]
  },
  {
   "cell_type": "code",
   "execution_count": null,
   "id": "f97214fcc8024e3c",
   "metadata": {
    "collapsed": false
   },
   "outputs": [],
   "source": []
  },
  {
   "cell_type": "markdown",
   "id": "84d1c7875919383e",
   "metadata": {
    "collapsed": false
   },
   "source": [
    "### Visualize the process composition"
   ]
  },
  {
   "cell_type": "code",
   "execution_count": null,
   "id": "d3eac4a117b93d42",
   "metadata": {
    "collapsed": false
   },
   "outputs": [],
   "source": [
    "prompter.builder_instance.visualize();"
   ]
  },
  {
   "cell_type": "code",
   "execution_count": null,
   "id": "e01b8c34757a7263",
   "metadata": {
    "collapsed": false
   },
   "outputs": [],
   "source": [
    "# model={'model_source': {'value': 'BIOMD0000000391'}}, method='hybrid'"
   ]
  },
  {
   "cell_type": "markdown",
   "id": "743960b7-a6d3-41af-8737-2776a66c60cd",
   "metadata": {},
   "source": [
    "### Retrieve the composite document"
   ]
  },
  {
   "cell_type": "code",
   "execution_count": null,
   "id": "c975aab012b2706f",
   "metadata": {
    "collapsed": false
   },
   "outputs": [],
   "source": [
    "# doc = b.document()\n",
    "# doc"
   ]
  },
  {
   "cell_type": "markdown",
   "id": "b32a13ed-134d-4de1-a1ed-b72807b4af45",
   "metadata": {},
   "source": [
    "### save the document to file"
   ]
  },
  {
   "cell_type": "code",
   "execution_count": null,
   "id": "752e43636bf9fd17",
   "metadata": {
    "collapsed": false
   },
   "outputs": [],
   "source": [
    "# b.write(filename='toy_bigraph')"
   ]
  },
  {
   "cell_type": "markdown",
   "id": "ebdd7599-0b0e-4f79-a8ab-d507a81646d8",
   "metadata": {
    "ExecuteTime": {
     "start_time": "2024-01-21T21:29:22.001943Z"
    },
    "collapsed": false
   },
   "source": [
    "### load a composite from document\n",
    "This document represents the full state of the composite, and so can reproduce the previous composite when loaded into a fresh Builder"
   ]
  },
  {
   "cell_type": "code",
   "execution_count": null,
   "id": "56b14beb-27de-469d-b4e6-10fc628e15e0",
   "metadata": {},
   "outputs": [],
   "source": [
    "# b2 = Builder(core=core, file_path='out/toy_bigraph.json')\n",
    "# b2"
   ]
  },
  {
   "cell_type": "code",
   "execution_count": null,
   "id": "6197f4c3-41ca-468b-929f-cc0ebc1fabe9",
   "metadata": {},
   "outputs": [],
   "source": [
    "# b2.visualize()"
   ]
  },
  {
   "cell_type": "code",
   "execution_count": null,
   "id": "6c11fc1f-23ee-45e5-9975-f3d3b2e1dff9",
   "metadata": {},
   "outputs": [],
   "source": []
  }
 ],
 "metadata": {
  "kernelspec": {
   "display_name": "Python 3 (ipykernel)",
   "language": "python",
   "name": "python3"
  },
  "language_info": {
   "codemirror_mode": {
    "name": "ipython",
    "version": 3
   },
   "file_extension": ".py",
   "mimetype": "text/x-python",
   "name": "python",
   "nbconvert_exporter": "python",
   "pygments_lexer": "ipython3",
   "version": "3.10.13"
  }
 },
 "nbformat": 4,
 "nbformat_minor": 5
}
