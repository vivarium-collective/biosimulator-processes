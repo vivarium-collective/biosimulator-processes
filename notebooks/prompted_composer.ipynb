{
 "cells": [
  {
   "cell_type": "markdown",
   "id": "808b6a4b-0894-4a8e-99d8-bf11b3164b6a",
   "metadata": {},
   "source": [
    "# Prompted Bigraph-Builder Demo"
   ]
  },
  {
   "cell_type": "code",
   "execution_count": 1,
   "id": "b385dca6-942d-472c-9963-13b8cb33843c",
   "metadata": {
    "ExecuteTime": {
     "end_time": "2024-03-13T23:49:22.779246Z",
     "start_time": "2024-03-13T23:49:21.163858Z"
    }
   },
   "outputs": [
    {
     "name": "stdout",
     "output_type": "stream",
     "text": [
      "CobraProcess registered successfully.\n",
      "CopasiProcess registered successfully.\n",
      "SmoldynProcess registered successfully.\n",
      "TelluriumProcess registered successfully.\n",
      "DeterministicTimeCourseParameterScan registered successfully.\n"
     ]
    }
   ],
   "source": [
    "from biosimulator_processes.biosimulator_builder import BiosimulatorBuilder, BuildPrompter"
   ]
  },
  {
   "cell_type": "markdown",
   "id": "5f828a2aa6e4f2cd",
   "metadata": {
    "collapsed": false
   },
   "source": [
    "## The prompter workflow can be described in the following steps:\n",
    "\n",
    "            1. Initialize the builder to use. We will use BiosimulatorBuilder for this repo.\n",
    "            2. Initialize the prompter, passing at least the object generated from #1 and number of processes to add to the composite.\n",
    "            3. The prompt will begin once the object from #2 is instanitated."
   ]
  },
  {
   "cell_type": "markdown",
   "id": "a403d619-4dbe-49cc-8f24-29a83e31fe15",
   "metadata": {},
   "source": [
    "### 1. Initialize the builder"
   ]
  },
  {
   "cell_type": "code",
   "execution_count": 2,
   "id": "2b37af44-5e19-439b-84cc-16c7050cba1b",
   "metadata": {
    "ExecuteTime": {
     "end_time": "2024-03-13T23:49:29.611581Z",
     "start_time": "2024-03-13T23:49:29.608028Z"
    }
   },
   "outputs": [],
   "source": [
    "biosim_builder = BiosimulatorBuilder()  # TODO: Base OpenAPI spec for REST/swagger on the Builder: Perhaps a generalized Builder REST and BiosimBuilder REST?.\n",
    "    "
   ]
  },
  {
   "cell_type": "markdown",
   "id": "52cec837a2978cf8",
   "metadata": {
    "collapsed": false
   },
   "source": [
    "#### View the list of available processes (optional)."
   ]
  },
  {
   "cell_type": "code",
   "execution_count": 3,
   "id": "1bcb0b13c8629a2",
   "metadata": {
    "ExecuteTime": {
     "end_time": "2024-03-13T23:49:32.316722Z",
     "start_time": "2024-03-13T23:49:32.309567Z"
    },
    "collapsed": false
   },
   "outputs": [
    {
     "data": {
      "text/plain": [
       "['console-emitter',\n",
       " 'DeterministicTimeCourseParameterScan',\n",
       " 'ram-emitter',\n",
       " 'TelluriumProcess',\n",
       " 'CobraProcess',\n",
       " 'CopasiProcess',\n",
       " 'SmoldynProcess']"
      ]
     },
     "execution_count": 3,
     "metadata": {},
     "output_type": "execute_result"
    }
   ],
   "source": [
    "biosim_builder.list_processes()"
   ]
  },
  {
   "cell_type": "markdown",
   "id": "32bcbc39e3be9975",
   "metadata": {
    "collapsed": false
   },
   "source": [
    "### 2. & 3. Instantiate the Build Prompter. The idea here is that there is a build prompter that uses references from a given Builder instance/implementation (in this case, BiosimulatorBuilder) to dynamically add registered processes to the bigraph. BuildPrompter exists as one of the classes in the highest-level BigraphBuilder API. Let's add a number of the same copasi processes to the composite as a simple way to start."
   ]
  },
  {
   "cell_type": "code",
   "execution_count": 4,
   "id": "839a32f79fe389a6",
   "metadata": {
    "ExecuteTime": {
     "end_time": "2024-03-13T23:49:41.699345Z",
     "start_time": "2024-03-13T23:49:41.694813Z"
    },
    "collapsed": false
   },
   "outputs": [
    {
     "name": "stdout",
     "output_type": "stream",
     "text": [
      "New prompter instance created!\n"
     ]
    }
   ],
   "source": [
    "num = 1\n",
    "duration = 100\n",
    "arnold_poolman_biomodel_id = 'BIOMD0000000391'\n",
    "\n",
    "prompter = BuildPrompter(builder_instance=biosim_builder, num_additions=num)"
   ]
  },
  {
   "cell_type": "code",
   "execution_count": 5,
   "id": "db8d9da1b5843b36",
   "metadata": {
    "ExecuteTime": {
     "end_time": "2024-03-13T23:51:22.707655Z",
     "start_time": "2024-03-13T23:49:43.845276Z"
    },
    "collapsed": false
   },
   "outputs": [
    {
     "name": "stdout",
     "output_type": "stream",
     "text": [
      "Run request initiated...\n",
      "1 processes will be added to the bi-graph.\n",
      "All processes will be connected as well.\n",
      "Input kwargs generated: {'model': {'model_source': {'value': 'BIOMD0000000391'}}, 'method': 'deterministic'}\n",
      "simple_copasi_composite process successfully added to the bi-graph!\n",
      "All nodes including the most recently added simple_copasi_composite processes connected!\n"
     ]
    },
    {
     "name": "stderr",
     "output_type": "stream",
     "text": [
      "Error while running the simulation: >ERROR 2024-03-13T19:51:08<\n",
      "  CCopasiTask (5): No output file defined for report of task 'Time-Course'.>EXCEPTION 2024-03-13T19:51:08<\n",
      "  CTrajectoryMethod (25): Invalid state at time '0.010000'.\n"
     ]
    },
    {
     "name": "stdout",
     "output_type": "stream",
     "text": [
      "Visualizing bigraph...\n",
      "All processes added.\n",
      "This is the composite that will be run: \n",
      "Generating composite...\n",
      "Composite generated!\n",
      "Running generated composite for an interval of 100\n"
     ]
    },
    {
     "name": "stderr",
     "output_type": "stream",
     "text": [
      "/Users/alex/Desktop/uchc_work/repos/biosimulator-processes/biosimulator_processes/processes/copasi_process.py:225: FutureWarning:\n",
      "\n",
      "Series.__getitem__ treating keys as positions is deprecated. In a future version, integer keys will always be treated as labels (consistent with DataFrame behavior). To access a value by position, use `ser.iloc[pos]`\n",
      "\n",
      "Error while running the simulation: >ERROR 2024-03-13T19:51:08<\n",
      "  CCopasiTask (5): No output file defined for report of task 'Time-Course'.>EXCEPTION 2024-03-13T19:51:08<\n",
      "  CTrajectoryMethod (25): Invalid state at time '0.010000'.\n",
      "Error while running the simulation: >ERROR 2024-03-13T19:51:08<\n",
      "  CCopasiTask (5): No output file defined for report of task 'Time-Course'.>EXCEPTION 2024-03-13T19:51:08<\n",
      "  CTrajectoryMethod (25): Invalid state at time '0.010000'.\n",
      "Error while running the simulation: >ERROR 2024-03-13T19:51:08<\n",
      "  CCopasiTask (5): No output file defined for report of task 'Time-Course'.>EXCEPTION 2024-03-13T19:51:08<\n",
      "  CTrajectoryMethod (25): Invalid state at time '0.010000'.\n",
      "Error while running the simulation: >ERROR 2024-03-13T19:51:09<\n",
      "  CCopasiTask (5): No output file defined for report of task 'Time-Course'.>EXCEPTION 2024-03-13T19:51:09<\n",
      "  CTrajectoryMethod (25): Invalid state at time '0.010000'.\n",
      "Error while running the simulation: >ERROR 2024-03-13T19:51:09<\n",
      "  CCopasiTask (5): No output file defined for report of task 'Time-Course'.>EXCEPTION 2024-03-13T19:51:09<\n",
      "  CTrajectoryMethod (25): Invalid state at time '0.010000'.\n",
      "Error while running the simulation: >ERROR 2024-03-13T19:51:09<\n",
      "  CCopasiTask (5): No output file defined for report of task 'Time-Course'.>EXCEPTION 2024-03-13T19:51:09<\n",
      "  CTrajectoryMethod (25): Invalid state at time '0.010000'.\n",
      "Error while running the simulation: >ERROR 2024-03-13T19:51:09<\n",
      "  CCopasiTask (5): No output file defined for report of task 'Time-Course'.>EXCEPTION 2024-03-13T19:51:09<\n",
      "  CTrajectoryMethod (25): Invalid state at time '0.010000'.\n",
      "Error while running the simulation: >ERROR 2024-03-13T19:51:09<\n",
      "  CCopasiTask (5): No output file defined for report of task 'Time-Course'.>EXCEPTION 2024-03-13T19:51:09<\n",
      "  CTrajectoryMethod (25): Invalid state at time '0.010000'.\n",
      "Error while running the simulation: >ERROR 2024-03-13T19:51:09<\n",
      "  CCopasiTask (5): No output file defined for report of task 'Time-Course'.>EXCEPTION 2024-03-13T19:51:09<\n",
      "  CTrajectoryMethod (25): Invalid state at time '0.010000'.\n",
      "Error while running the simulation: >ERROR 2024-03-13T19:51:09<\n",
      "  CCopasiTask (5): No output file defined for report of task 'Time-Course'.>EXCEPTION 2024-03-13T19:51:09<\n",
      "  CTrajectoryMethod (25): Invalid state at time '0.010000'.\n",
      "Error while running the simulation: >ERROR 2024-03-13T19:51:10<\n",
      "  CCopasiTask (5): No output file defined for report of task 'Time-Course'.>EXCEPTION 2024-03-13T19:51:10<\n",
      "  CTrajectoryMethod (25): Invalid state at time '0.010000'.\n",
      "Error while running the simulation: >ERROR 2024-03-13T19:51:10<\n",
      "  CCopasiTask (5): No output file defined for report of task 'Time-Course'.>EXCEPTION 2024-03-13T19:51:10<\n",
      "  CTrajectoryMethod (25): Invalid state at time '0.010000'.\n",
      "Error while running the simulation: >ERROR 2024-03-13T19:51:10<\n",
      "  CCopasiTask (5): No output file defined for report of task 'Time-Course'.>EXCEPTION 2024-03-13T19:51:10<\n",
      "  CTrajectoryMethod (25): Invalid state at time '0.010000'.\n",
      "Error while running the simulation: >ERROR 2024-03-13T19:51:10<\n",
      "  CCopasiTask (5): No output file defined for report of task 'Time-Course'.>EXCEPTION 2024-03-13T19:51:10<\n",
      "  CTrajectoryMethod (25): Invalid state at time '0.010000'.\n",
      "Error while running the simulation: >ERROR 2024-03-13T19:51:10<\n",
      "  CCopasiTask (5): No output file defined for report of task 'Time-Course'.>EXCEPTION 2024-03-13T19:51:10<\n",
      "  CTrajectoryMethod (25): Invalid state at time '0.010000'.\n",
      "Error while running the simulation: >ERROR 2024-03-13T19:51:10<\n",
      "  CCopasiTask (5): No output file defined for report of task 'Time-Course'.>EXCEPTION 2024-03-13T19:51:10<\n",
      "  CTrajectoryMethod (25): Invalid state at time '0.010000'.\n",
      "Error while running the simulation: >ERROR 2024-03-13T19:51:10<\n",
      "  CCopasiTask (5): No output file defined for report of task 'Time-Course'.>EXCEPTION 2024-03-13T19:51:10<\n",
      "  CTrajectoryMethod (25): Invalid state at time '0.010000'.\n",
      "Error while running the simulation: >ERROR 2024-03-13T19:51:11<\n",
      "  CCopasiTask (5): No output file defined for report of task 'Time-Course'.>EXCEPTION 2024-03-13T19:51:11<\n",
      "  CTrajectoryMethod (25): Invalid state at time '0.010000'.\n",
      "Error while running the simulation: >ERROR 2024-03-13T19:51:11<\n",
      "  CCopasiTask (5): No output file defined for report of task 'Time-Course'.>EXCEPTION 2024-03-13T19:51:11<\n",
      "  CTrajectoryMethod (25): Invalid state at time '0.010000'.\n",
      "Error while running the simulation: >ERROR 2024-03-13T19:51:11<\n",
      "  CCopasiTask (5): No output file defined for report of task 'Time-Course'.>EXCEPTION 2024-03-13T19:51:11<\n",
      "  CTrajectoryMethod (25): Invalid state at time '0.010000'.\n",
      "Error while running the simulation: >ERROR 2024-03-13T19:51:11<\n",
      "  CCopasiTask (5): No output file defined for report of task 'Time-Course'.>EXCEPTION 2024-03-13T19:51:11<\n",
      "  CTrajectoryMethod (25): Invalid state at time '0.010000'.\n",
      "Error while running the simulation: >ERROR 2024-03-13T19:51:11<\n",
      "  CCopasiTask (5): No output file defined for report of task 'Time-Course'.>EXCEPTION 2024-03-13T19:51:11<\n",
      "  CTrajectoryMethod (25): Invalid state at time '0.010000'.\n",
      "Error while running the simulation: >ERROR 2024-03-13T19:51:11<\n",
      "  CCopasiTask (5): No output file defined for report of task 'Time-Course'.>EXCEPTION 2024-03-13T19:51:11<\n",
      "  CTrajectoryMethod (25): Invalid state at time '0.010000'.\n",
      "Error while running the simulation: >ERROR 2024-03-13T19:51:11<\n",
      "  CCopasiTask (5): No output file defined for report of task 'Time-Course'.>EXCEPTION 2024-03-13T19:51:11<\n",
      "  CTrajectoryMethod (25): Invalid state at time '0.010000'.\n",
      "Error while running the simulation: >ERROR 2024-03-13T19:51:12<\n",
      "  CCopasiTask (5): No output file defined for report of task 'Time-Course'.>EXCEPTION 2024-03-13T19:51:12<\n",
      "  CTrajectoryMethod (25): Invalid state at time '0.010000'.\n",
      "Error while running the simulation: >ERROR 2024-03-13T19:51:12<\n",
      "  CCopasiTask (5): No output file defined for report of task 'Time-Course'.>EXCEPTION 2024-03-13T19:51:12<\n",
      "  CTrajectoryMethod (25): Invalid state at time '0.010000'.\n",
      "Error while running the simulation: >ERROR 2024-03-13T19:51:12<\n",
      "  CCopasiTask (5): No output file defined for report of task 'Time-Course'.>EXCEPTION 2024-03-13T19:51:12<\n",
      "  CTrajectoryMethod (25): Invalid state at time '0.010000'.\n",
      "Error while running the simulation: >ERROR 2024-03-13T19:51:12<\n",
      "  CCopasiTask (5): No output file defined for report of task 'Time-Course'.>EXCEPTION 2024-03-13T19:51:12<\n",
      "  CTrajectoryMethod (25): Invalid state at time '0.010000'.\n",
      "Error while running the simulation: >ERROR 2024-03-13T19:51:12<\n",
      "  CCopasiTask (5): No output file defined for report of task 'Time-Course'.>EXCEPTION 2024-03-13T19:51:12<\n",
      "  CTrajectoryMethod (25): Invalid state at time '0.010000'.\n",
      "Error while running the simulation: >ERROR 2024-03-13T19:51:12<\n",
      "  CCopasiTask (5): No output file defined for report of task 'Time-Course'.>EXCEPTION 2024-03-13T19:51:12<\n",
      "  CTrajectoryMethod (25): Invalid state at time '0.010000'.\n",
      "Error while running the simulation: >ERROR 2024-03-13T19:51:12<\n",
      "  CCopasiTask (5): No output file defined for report of task 'Time-Course'.>EXCEPTION 2024-03-13T19:51:12<\n",
      "  CTrajectoryMethod (25): Invalid state at time '0.010000'.\n",
      "Error while running the simulation: >ERROR 2024-03-13T19:51:13<\n",
      "  CCopasiTask (5): No output file defined for report of task 'Time-Course'.>EXCEPTION 2024-03-13T19:51:13<\n",
      "  CTrajectoryMethod (25): Invalid state at time '0.010000'.\n",
      "Error while running the simulation: >ERROR 2024-03-13T19:51:13<\n",
      "  CCopasiTask (5): No output file defined for report of task 'Time-Course'.>EXCEPTION 2024-03-13T19:51:13<\n",
      "  CTrajectoryMethod (25): Invalid state at time '0.010000'.\n",
      "Error while running the simulation: >ERROR 2024-03-13T19:51:13<\n",
      "  CCopasiTask (5): No output file defined for report of task 'Time-Course'.>EXCEPTION 2024-03-13T19:51:13<\n",
      "  CTrajectoryMethod (25): Invalid state at time '0.010000'.\n",
      "Error while running the simulation: >ERROR 2024-03-13T19:51:13<\n",
      "  CCopasiTask (5): No output file defined for report of task 'Time-Course'.>EXCEPTION 2024-03-13T19:51:13<\n",
      "  CTrajectoryMethod (25): Invalid state at time '0.010000'.\n",
      "Error while running the simulation: >ERROR 2024-03-13T19:51:13<\n",
      "  CCopasiTask (5): No output file defined for report of task 'Time-Course'.>EXCEPTION 2024-03-13T19:51:13<\n",
      "  CTrajectoryMethod (25): Invalid state at time '0.010000'.\n",
      "Error while running the simulation: >ERROR 2024-03-13T19:51:13<\n",
      "  CCopasiTask (5): No output file defined for report of task 'Time-Course'.>EXCEPTION 2024-03-13T19:51:13<\n",
      "  CTrajectoryMethod (25): Invalid state at time '0.010000'.\n",
      "Error while running the simulation: >ERROR 2024-03-13T19:51:13<\n",
      "  CCopasiTask (5): No output file defined for report of task 'Time-Course'.>EXCEPTION 2024-03-13T19:51:13<\n",
      "  CTrajectoryMethod (25): Invalid state at time '0.010000'.\n",
      "Error while running the simulation: >ERROR 2024-03-13T19:51:14<\n",
      "  CCopasiTask (5): No output file defined for report of task 'Time-Course'.>EXCEPTION 2024-03-13T19:51:14<\n",
      "  CTrajectoryMethod (25): Invalid state at time '0.010000'.\n",
      "Error while running the simulation: >ERROR 2024-03-13T19:51:14<\n",
      "  CCopasiTask (5): No output file defined for report of task 'Time-Course'.>EXCEPTION 2024-03-13T19:51:14<\n",
      "  CTrajectoryMethod (25): Invalid state at time '0.010000'.\n",
      "Error while running the simulation: >ERROR 2024-03-13T19:51:14<\n",
      "  CCopasiTask (5): No output file defined for report of task 'Time-Course'.>EXCEPTION 2024-03-13T19:51:14<\n",
      "  CTrajectoryMethod (25): Invalid state at time '0.010000'.\n",
      "Error while running the simulation: >ERROR 2024-03-13T19:51:14<\n",
      "  CCopasiTask (5): No output file defined for report of task 'Time-Course'.>EXCEPTION 2024-03-13T19:51:14<\n",
      "  CTrajectoryMethod (25): Invalid state at time '0.010000'.\n",
      "Error while running the simulation: >ERROR 2024-03-13T19:51:14<\n",
      "  CCopasiTask (5): No output file defined for report of task 'Time-Course'.>EXCEPTION 2024-03-13T19:51:14<\n",
      "  CTrajectoryMethod (25): Invalid state at time '0.010000'.\n",
      "Error while running the simulation: >ERROR 2024-03-13T19:51:14<\n",
      "  CCopasiTask (5): No output file defined for report of task 'Time-Course'.>EXCEPTION 2024-03-13T19:51:14<\n",
      "  CTrajectoryMethod (25): Invalid state at time '0.010000'.\n",
      "Error while running the simulation: >ERROR 2024-03-13T19:51:14<\n",
      "  CCopasiTask (5): No output file defined for report of task 'Time-Course'.>EXCEPTION 2024-03-13T19:51:14<\n",
      "  CTrajectoryMethod (25): Invalid state at time '0.010000'.\n",
      "Error while running the simulation: >ERROR 2024-03-13T19:51:15<\n",
      "  CCopasiTask (5): No output file defined for report of task 'Time-Course'.>EXCEPTION 2024-03-13T19:51:15<\n",
      "  CTrajectoryMethod (25): Invalid state at time '0.010000'.\n",
      "Error while running the simulation: >ERROR 2024-03-13T19:51:15<\n",
      "  CCopasiTask (5): No output file defined for report of task 'Time-Course'.>EXCEPTION 2024-03-13T19:51:15<\n",
      "  CTrajectoryMethod (25): Invalid state at time '0.010000'.\n",
      "Error while running the simulation: >ERROR 2024-03-13T19:51:15<\n",
      "  CCopasiTask (5): No output file defined for report of task 'Time-Course'.>EXCEPTION 2024-03-13T19:51:15<\n",
      "  CTrajectoryMethod (25): Invalid state at time '0.010000'.\n",
      "Error while running the simulation: >ERROR 2024-03-13T19:51:15<\n",
      "  CCopasiTask (5): No output file defined for report of task 'Time-Course'.>EXCEPTION 2024-03-13T19:51:15<\n",
      "  CTrajectoryMethod (25): Invalid state at time '0.010000'.\n",
      "Error while running the simulation: >ERROR 2024-03-13T19:51:15<\n",
      "  CCopasiTask (5): No output file defined for report of task 'Time-Course'.>EXCEPTION 2024-03-13T19:51:15<\n",
      "  CTrajectoryMethod (25): Invalid state at time '0.010000'.\n",
      "Error while running the simulation: >ERROR 2024-03-13T19:51:15<\n",
      "  CCopasiTask (5): No output file defined for report of task 'Time-Course'.>EXCEPTION 2024-03-13T19:51:15<\n",
      "  CTrajectoryMethod (25): Invalid state at time '0.010000'.\n",
      "Error while running the simulation: >ERROR 2024-03-13T19:51:15<\n",
      "  CCopasiTask (5): No output file defined for report of task 'Time-Course'.>EXCEPTION 2024-03-13T19:51:15<\n",
      "  CTrajectoryMethod (25): Invalid state at time '0.010000'.\n",
      "Error while running the simulation: >ERROR 2024-03-13T19:51:16<\n",
      "  CCopasiTask (5): No output file defined for report of task 'Time-Course'.>EXCEPTION 2024-03-13T19:51:16<\n",
      "  CTrajectoryMethod (25): Invalid state at time '0.010000'.\n",
      "Error while running the simulation: >ERROR 2024-03-13T19:51:16<\n",
      "  CCopasiTask (5): No output file defined for report of task 'Time-Course'.>EXCEPTION 2024-03-13T19:51:16<\n",
      "  CTrajectoryMethod (25): Invalid state at time '0.010000'.\n",
      "Error while running the simulation: >ERROR 2024-03-13T19:51:16<\n",
      "  CCopasiTask (5): No output file defined for report of task 'Time-Course'.>EXCEPTION 2024-03-13T19:51:16<\n",
      "  CTrajectoryMethod (25): Invalid state at time '0.010000'.\n",
      "Error while running the simulation: >ERROR 2024-03-13T19:51:16<\n",
      "  CCopasiTask (5): No output file defined for report of task 'Time-Course'.>EXCEPTION 2024-03-13T19:51:16<\n",
      "  CTrajectoryMethod (25): Invalid state at time '0.010000'.\n",
      "Error while running the simulation: >ERROR 2024-03-13T19:51:16<\n",
      "  CCopasiTask (5): No output file defined for report of task 'Time-Course'.>EXCEPTION 2024-03-13T19:51:16<\n",
      "  CTrajectoryMethod (25): Invalid state at time '0.010000'.\n",
      "Error while running the simulation: >ERROR 2024-03-13T19:51:16<\n",
      "  CCopasiTask (5): No output file defined for report of task 'Time-Course'.>EXCEPTION 2024-03-13T19:51:16<\n",
      "  CTrajectoryMethod (25): Invalid state at time '0.010000'.\n",
      "Error while running the simulation: >ERROR 2024-03-13T19:51:16<\n",
      "  CCopasiTask (5): No output file defined for report of task 'Time-Course'.>EXCEPTION 2024-03-13T19:51:16<\n",
      "  CTrajectoryMethod (25): Invalid state at time '0.010000'.\n",
      "Error while running the simulation: >ERROR 2024-03-13T19:51:17<\n",
      "  CCopasiTask (5): No output file defined for report of task 'Time-Course'.>EXCEPTION 2024-03-13T19:51:17<\n",
      "  CTrajectoryMethod (25): Invalid state at time '0.010000'.\n",
      "Error while running the simulation: >ERROR 2024-03-13T19:51:17<\n",
      "  CCopasiTask (5): No output file defined for report of task 'Time-Course'.>EXCEPTION 2024-03-13T19:51:17<\n",
      "  CTrajectoryMethod (25): Invalid state at time '0.010000'.\n",
      "Error while running the simulation: >ERROR 2024-03-13T19:51:17<\n",
      "  CCopasiTask (5): No output file defined for report of task 'Time-Course'.>EXCEPTION 2024-03-13T19:51:17<\n",
      "  CTrajectoryMethod (25): Invalid state at time '0.010000'.\n",
      "Error while running the simulation: >ERROR 2024-03-13T19:51:17<\n",
      "  CCopasiTask (5): No output file defined for report of task 'Time-Course'.>EXCEPTION 2024-03-13T19:51:17<\n",
      "  CTrajectoryMethod (25): Invalid state at time '0.010000'.\n",
      "Error while running the simulation: >ERROR 2024-03-13T19:51:17<\n",
      "  CCopasiTask (5): No output file defined for report of task 'Time-Course'.>EXCEPTION 2024-03-13T19:51:17<\n",
      "  CTrajectoryMethod (25): Invalid state at time '0.010000'.\n",
      "Error while running the simulation: >ERROR 2024-03-13T19:51:17<\n",
      "  CCopasiTask (5): No output file defined for report of task 'Time-Course'.>EXCEPTION 2024-03-13T19:51:17<\n",
      "  CTrajectoryMethod (25): Invalid state at time '0.010000'.\n",
      "Error while running the simulation: >ERROR 2024-03-13T19:51:17<\n",
      "  CCopasiTask (5): No output file defined for report of task 'Time-Course'.>EXCEPTION 2024-03-13T19:51:17<\n",
      "  CTrajectoryMethod (25): Invalid state at time '0.010000'.\n",
      "Error while running the simulation: >ERROR 2024-03-13T19:51:18<\n",
      "  CCopasiTask (5): No output file defined for report of task 'Time-Course'.>EXCEPTION 2024-03-13T19:51:18<\n",
      "  CTrajectoryMethod (25): Invalid state at time '0.010000'.\n",
      "Error while running the simulation: >ERROR 2024-03-13T19:51:18<\n",
      "  CCopasiTask (5): No output file defined for report of task 'Time-Course'.>EXCEPTION 2024-03-13T19:51:18<\n",
      "  CTrajectoryMethod (25): Invalid state at time '0.010000'.\n",
      "Error while running the simulation: >ERROR 2024-03-13T19:51:18<\n",
      "  CCopasiTask (5): No output file defined for report of task 'Time-Course'.>EXCEPTION 2024-03-13T19:51:18<\n",
      "  CTrajectoryMethod (25): Invalid state at time '0.010000'.\n",
      "Error while running the simulation: >ERROR 2024-03-13T19:51:18<\n",
      "  CCopasiTask (5): No output file defined for report of task 'Time-Course'.>EXCEPTION 2024-03-13T19:51:18<\n",
      "  CTrajectoryMethod (25): Invalid state at time '0.010000'.\n",
      "Error while running the simulation: >ERROR 2024-03-13T19:51:18<\n",
      "  CCopasiTask (5): No output file defined for report of task 'Time-Course'.>EXCEPTION 2024-03-13T19:51:18<\n",
      "  CTrajectoryMethod (25): Invalid state at time '0.010000'.\n",
      "Error while running the simulation: >ERROR 2024-03-13T19:51:18<\n",
      "  CCopasiTask (5): No output file defined for report of task 'Time-Course'.>EXCEPTION 2024-03-13T19:51:18<\n",
      "  CTrajectoryMethod (25): Invalid state at time '0.010000'.\n",
      "Error while running the simulation: >ERROR 2024-03-13T19:51:18<\n",
      "  CCopasiTask (5): No output file defined for report of task 'Time-Course'.>EXCEPTION 2024-03-13T19:51:18<\n",
      "  CTrajectoryMethod (25): Invalid state at time '0.010000'.\n",
      "Error while running the simulation: >ERROR 2024-03-13T19:51:19<\n",
      "  CCopasiTask (5): No output file defined for report of task 'Time-Course'.>EXCEPTION 2024-03-13T19:51:19<\n",
      "  CTrajectoryMethod (25): Invalid state at time '0.010000'.\n",
      "Error while running the simulation: >ERROR 2024-03-13T19:51:19<\n",
      "  CCopasiTask (5): No output file defined for report of task 'Time-Course'.>EXCEPTION 2024-03-13T19:51:19<\n",
      "  CTrajectoryMethod (25): Invalid state at time '0.010000'.\n",
      "Error while running the simulation: >ERROR 2024-03-13T19:51:19<\n",
      "  CCopasiTask (5): No output file defined for report of task 'Time-Course'.>EXCEPTION 2024-03-13T19:51:19<\n",
      "  CTrajectoryMethod (25): Invalid state at time '0.010000'.\n",
      "Error while running the simulation: >ERROR 2024-03-13T19:51:19<\n",
      "  CCopasiTask (5): No output file defined for report of task 'Time-Course'.>EXCEPTION 2024-03-13T19:51:19<\n",
      "  CTrajectoryMethod (25): Invalid state at time '0.010000'.\n",
      "Error while running the simulation: >ERROR 2024-03-13T19:51:19<\n",
      "  CCopasiTask (5): No output file defined for report of task 'Time-Course'.>EXCEPTION 2024-03-13T19:51:19<\n",
      "  CTrajectoryMethod (25): Invalid state at time '0.010000'.\n",
      "Error while running the simulation: >ERROR 2024-03-13T19:51:19<\n",
      "  CCopasiTask (5): No output file defined for report of task 'Time-Course'.>EXCEPTION 2024-03-13T19:51:19<\n",
      "  CTrajectoryMethod (25): Invalid state at time '0.010000'.\n",
      "Error while running the simulation: >ERROR 2024-03-13T19:51:19<\n",
      "  CCopasiTask (5): No output file defined for report of task 'Time-Course'.>EXCEPTION 2024-03-13T19:51:19<\n",
      "  CTrajectoryMethod (25): Invalid state at time '0.010000'.\n",
      "Error while running the simulation: >ERROR 2024-03-13T19:51:20<\n",
      "  CCopasiTask (5): No output file defined for report of task 'Time-Course'.>EXCEPTION 2024-03-13T19:51:20<\n",
      "  CTrajectoryMethod (25): Invalid state at time '0.010000'.\n",
      "Error while running the simulation: >ERROR 2024-03-13T19:51:20<\n",
      "  CCopasiTask (5): No output file defined for report of task 'Time-Course'.>EXCEPTION 2024-03-13T19:51:20<\n",
      "  CTrajectoryMethod (25): Invalid state at time '0.010000'.\n",
      "Error while running the simulation: >ERROR 2024-03-13T19:51:20<\n",
      "  CCopasiTask (5): No output file defined for report of task 'Time-Course'.>EXCEPTION 2024-03-13T19:51:20<\n",
      "  CTrajectoryMethod (25): Invalid state at time '0.010000'.\n",
      "Error while running the simulation: >ERROR 2024-03-13T19:51:20<\n",
      "  CCopasiTask (5): No output file defined for report of task 'Time-Course'.>EXCEPTION 2024-03-13T19:51:20<\n",
      "  CTrajectoryMethod (25): Invalid state at time '0.010000'.\n",
      "Error while running the simulation: >ERROR 2024-03-13T19:51:20<\n",
      "  CCopasiTask (5): No output file defined for report of task 'Time-Course'.>EXCEPTION 2024-03-13T19:51:20<\n",
      "  CTrajectoryMethod (25): Invalid state at time '0.010000'.\n",
      "Error while running the simulation: >ERROR 2024-03-13T19:51:20<\n",
      "  CCopasiTask (5): No output file defined for report of task 'Time-Course'.>EXCEPTION 2024-03-13T19:51:20<\n",
      "  CTrajectoryMethod (25): Invalid state at time '0.010000'.\n",
      "Error while running the simulation: >ERROR 2024-03-13T19:51:20<\n",
      "  CCopasiTask (5): No output file defined for report of task 'Time-Course'.>EXCEPTION 2024-03-13T19:51:20<\n",
      "  CTrajectoryMethod (25): Invalid state at time '0.010000'.\n",
      "Error while running the simulation: >ERROR 2024-03-13T19:51:21<\n",
      "  CCopasiTask (5): No output file defined for report of task 'Time-Course'.>EXCEPTION 2024-03-13T19:51:21<\n",
      "  CTrajectoryMethod (25): Invalid state at time '0.010000'.\n",
      "Error while running the simulation: >ERROR 2024-03-13T19:51:21<\n",
      "  CCopasiTask (5): No output file defined for report of task 'Time-Course'.>EXCEPTION 2024-03-13T19:51:21<\n",
      "  CTrajectoryMethod (25): Invalid state at time '0.010000'.\n",
      "Error while running the simulation: >ERROR 2024-03-13T19:51:21<\n",
      "  CCopasiTask (5): No output file defined for report of task 'Time-Course'.>EXCEPTION 2024-03-13T19:51:21<\n",
      "  CTrajectoryMethod (25): Invalid state at time '0.010000'.\n",
      "Error while running the simulation: >ERROR 2024-03-13T19:51:21<\n",
      "  CCopasiTask (5): No output file defined for report of task 'Time-Course'.>EXCEPTION 2024-03-13T19:51:21<\n",
      "  CTrajectoryMethod (25): Invalid state at time '0.010000'.\n",
      "Error while running the simulation: >ERROR 2024-03-13T19:51:21<\n",
      "  CCopasiTask (5): No output file defined for report of task 'Time-Course'.>EXCEPTION 2024-03-13T19:51:21<\n",
      "  CTrajectoryMethod (25): Invalid state at time '0.010000'.\n",
      "Error while running the simulation: >ERROR 2024-03-13T19:51:21<\n",
      "  CCopasiTask (5): No output file defined for report of task 'Time-Course'.>EXCEPTION 2024-03-13T19:51:21<\n",
      "  CTrajectoryMethod (25): Invalid state at time '0.010000'.\n",
      "Error while running the simulation: >ERROR 2024-03-13T19:51:21<\n",
      "  CCopasiTask (5): No output file defined for report of task 'Time-Course'.>EXCEPTION 2024-03-13T19:51:21<\n",
      "  CTrajectoryMethod (25): Invalid state at time '0.010000'.\n",
      "Error while running the simulation: >ERROR 2024-03-13T19:51:22<\n",
      "  CCopasiTask (5): No output file defined for report of task 'Time-Course'.>EXCEPTION 2024-03-13T19:51:22<\n",
      "  CTrajectoryMethod (25): Invalid state at time '0.010000'.\n",
      "Error while running the simulation: >ERROR 2024-03-13T19:51:22<\n",
      "  CCopasiTask (5): No output file defined for report of task 'Time-Course'.>EXCEPTION 2024-03-13T19:51:22<\n",
      "  CTrajectoryMethod (25): Invalid state at time '0.010000'.\n",
      "Error while running the simulation: >ERROR 2024-03-13T19:51:22<\n",
      "  CCopasiTask (5): No output file defined for report of task 'Time-Course'.>EXCEPTION 2024-03-13T19:51:22<\n",
      "  CTrajectoryMethod (25): Invalid state at time '0.010000'.\n",
      "Error while running the simulation: >ERROR 2024-03-13T19:51:22<\n",
      "  CCopasiTask (5): No output file defined for report of task 'Time-Course'.>EXCEPTION 2024-03-13T19:51:22<\n",
      "  CTrajectoryMethod (25): Invalid state at time '0.010000'.\n",
      "Error while running the simulation: >ERROR 2024-03-13T19:51:22<\n",
      "  CCopasiTask (5): No output file defined for report of task 'Time-Course'.>EXCEPTION 2024-03-13T19:51:22<\n",
      "  CTrajectoryMethod (25): Invalid state at time '0.010000'.\n"
     ]
    },
    {
     "name": "stdout",
     "output_type": "stream",
     "text": [
      "Composite successfully run. Request complete. Done.\n"
     ]
    }
   ],
   "source": [
    "prompter.run(num=num, duration=duration)"
   ]
  },
  {
   "cell_type": "code",
   "execution_count": null,
   "id": "d3eac4a117b93d42",
   "metadata": {
    "collapsed": false
   },
   "outputs": [],
   "source": []
  },
  {
   "cell_type": "code",
   "execution_count": null,
   "id": "e01b8c34757a7263",
   "metadata": {
    "collapsed": false
   },
   "outputs": [],
   "source": []
  },
  {
   "cell_type": "markdown",
   "id": "743960b7-a6d3-41af-8737-2776a66c60cd",
   "metadata": {},
   "source": [
    "### Retrieve the composite document"
   ]
  },
  {
   "cell_type": "code",
   "execution_count": null,
   "id": "c975aab012b2706f",
   "metadata": {
    "collapsed": false
   },
   "outputs": [],
   "source": [
    "# doc = b.document()\n",
    "# doc"
   ]
  },
  {
   "cell_type": "markdown",
   "id": "b32a13ed-134d-4de1-a1ed-b72807b4af45",
   "metadata": {},
   "source": [
    "### save the document to file"
   ]
  },
  {
   "cell_type": "code",
   "execution_count": null,
   "id": "752e43636bf9fd17",
   "metadata": {
    "collapsed": false
   },
   "outputs": [],
   "source": [
    "# b.write(filename='toy_bigraph')"
   ]
  },
  {
   "cell_type": "markdown",
   "id": "ebdd7599-0b0e-4f79-a8ab-d507a81646d8",
   "metadata": {
    "ExecuteTime": {
     "start_time": "2024-01-21T21:29:22.001943Z"
    },
    "collapsed": false
   },
   "source": [
    "### load a composite from document\n",
    "This document represents the full state of the composite, and so can reproduce the previous composite when loaded into a fresh Builder"
   ]
  },
  {
   "cell_type": "code",
   "execution_count": null,
   "id": "56b14beb-27de-469d-b4e6-10fc628e15e0",
   "metadata": {},
   "outputs": [],
   "source": [
    "# b2 = Builder(core=core, file_path='out/toy_bigraph.json')\n",
    "# b2"
   ]
  },
  {
   "cell_type": "code",
   "execution_count": null,
   "id": "6197f4c3-41ca-468b-929f-cc0ebc1fabe9",
   "metadata": {},
   "outputs": [],
   "source": [
    "# b2.visualize()"
   ]
  },
  {
   "cell_type": "code",
   "execution_count": null,
   "id": "6c11fc1f-23ee-45e5-9975-f3d3b2e1dff9",
   "metadata": {},
   "outputs": [],
   "source": []
  }
 ],
 "metadata": {
  "kernelspec": {
   "display_name": "Python 3 (ipykernel)",
   "language": "python",
   "name": "python3"
  },
  "language_info": {
   "codemirror_mode": {
    "name": "ipython",
    "version": 3
   },
   "file_extension": ".py",
   "mimetype": "text/x-python",
   "name": "python",
   "nbconvert_exporter": "python",
   "pygments_lexer": "ipython3",
   "version": "3.10.13"
  }
 },
 "nbformat": 4,
 "nbformat_minor": 5
}
