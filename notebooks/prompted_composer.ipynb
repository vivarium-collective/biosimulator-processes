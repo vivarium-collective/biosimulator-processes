{
 "cells": [
  {
   "cell_type": "markdown",
   "id": "808b6a4b-0894-4a8e-99d8-bf11b3164b6a",
   "metadata": {},
   "source": [
    "# Prompted Bigraph-Builder Demo"
   ]
  },
  {
   "cell_type": "code",
   "execution_count": 1,
   "id": "b385dca6-942d-472c-9963-13b8cb33843c",
   "metadata": {
    "ExecuteTime": {
     "end_time": "2024-03-13T23:42:45.537307Z",
     "start_time": "2024-03-13T23:42:44.122700Z"
    }
   },
   "outputs": [
    {
     "name": "stdout",
     "output_type": "stream",
     "text": [
      "CobraProcess registered successfully.\n",
      "CopasiProcess registered successfully.\n",
      "SmoldynProcess registered successfully.\n",
      "TelluriumProcess registered successfully.\n",
      "DeterministicTimeCourseParameterScan registered successfully.\n"
     ]
    }
   ],
   "source": [
    "from biosimulator_processes.biosimulator_builder import BiosimulatorBuilder, BuildPrompter"
   ]
  },
  {
   "cell_type": "markdown",
   "id": "5f828a2aa6e4f2cd",
   "metadata": {
    "collapsed": false
   },
   "source": [
    "## The prompter workflow can be described in the following steps:\n",
    "\n",
    "            1. Initialize the builder to use. We will use BiosimulatorBuilder for this repo.\n",
    "            2. Initialize the prompter, passing at least the object generated from #1 and number of processes to add to the composite.\n",
    "            3. The prompt will begin once the object from #2 is instanitated."
   ]
  },
  {
   "cell_type": "markdown",
   "id": "a403d619-4dbe-49cc-8f24-29a83e31fe15",
   "metadata": {},
   "source": [
    "### 1. Initialize the builder"
   ]
  },
  {
   "cell_type": "code",
   "execution_count": 2,
   "id": "2b37af44-5e19-439b-84cc-16c7050cba1b",
   "metadata": {
    "ExecuteTime": {
     "end_time": "2024-03-13T23:42:48.400763Z",
     "start_time": "2024-03-13T23:42:48.396849Z"
    }
   },
   "outputs": [],
   "source": [
    "biosim_builder = BiosimulatorBuilder()  # TODO: Base OpenAPI spec for REST/swagger on the Builder: Perhaps a generalized Builder REST and BiosimBuilder REST?.\n",
    "    "
   ]
  },
  {
   "cell_type": "markdown",
   "id": "32bcbc39e3be9975",
   "metadata": {
    "collapsed": false
   },
   "source": [
    "### 2. & 3. Instantiate the Build Prompter. The idea here is that there is a build prompter that uses references from a given Builder instance/implementation (in this case, BiosimulatorBuilder) to dynamically add registered processes to the bigraph. BuildPrompter exists as one of the classes in the highest-level BigraphBuilder API. Let's add a number of the same copasi processes to the composite as a simple way to start."
   ]
  },
  {
   "cell_type": "code",
   "execution_count": 3,
   "id": "839a32f79fe389a6",
   "metadata": {
    "ExecuteTime": {
     "end_time": "2024-03-13T23:42:51.382319Z",
     "start_time": "2024-03-13T23:42:51.377434Z"
    },
    "collapsed": false
   },
   "outputs": [
    {
     "name": "stdout",
     "output_type": "stream",
     "text": [
      "New prompter instance created!\n"
     ]
    }
   ],
   "source": [
    "num = 10\n",
    "duration = 100\n",
    "\n",
    "prompter = BuildPrompter(builder_instance=biosim_builder, num_additions=num)"
   ]
  },
  {
   "cell_type": "code",
   "execution_count": null,
   "id": "db8d9da1b5843b36",
   "metadata": {
    "collapsed": false
   },
   "outputs": [],
   "source": [
    "prompter.run(num=num, duration=duration)"
   ]
  },
  {
   "cell_type": "code",
   "execution_count": null,
   "id": "d3eac4a117b93d42",
   "metadata": {
    "collapsed": false
   },
   "outputs": [],
   "source": []
  },
  {
   "cell_type": "code",
   "execution_count": null,
   "id": "e01b8c34757a7263",
   "metadata": {
    "collapsed": false
   },
   "outputs": [],
   "source": []
  },
  {
   "cell_type": "markdown",
   "id": "743960b7-a6d3-41af-8737-2776a66c60cd",
   "metadata": {},
   "source": [
    "### Retrieve the composite document"
   ]
  },
  {
   "cell_type": "code",
   "execution_count": null,
   "id": "c975aab012b2706f",
   "metadata": {
    "collapsed": false
   },
   "outputs": [],
   "source": [
    "# doc = b.document()\n",
    "# doc"
   ]
  },
  {
   "cell_type": "markdown",
   "id": "b32a13ed-134d-4de1-a1ed-b72807b4af45",
   "metadata": {},
   "source": [
    "### save the document to file"
   ]
  },
  {
   "cell_type": "code",
   "execution_count": null,
   "id": "752e43636bf9fd17",
   "metadata": {
    "collapsed": false
   },
   "outputs": [],
   "source": [
    "# b.write(filename='toy_bigraph')"
   ]
  },
  {
   "cell_type": "markdown",
   "id": "ebdd7599-0b0e-4f79-a8ab-d507a81646d8",
   "metadata": {
    "ExecuteTime": {
     "start_time": "2024-01-21T21:29:22.001943Z"
    },
    "collapsed": false
   },
   "source": [
    "### load a composite from document\n",
    "This document represents the full state of the composite, and so can reproduce the previous composite when loaded into a fresh Builder"
   ]
  },
  {
   "cell_type": "code",
   "execution_count": null,
   "id": "56b14beb-27de-469d-b4e6-10fc628e15e0",
   "metadata": {},
   "outputs": [],
   "source": [
    "# b2 = Builder(core=core, file_path='out/toy_bigraph.json')\n",
    "# b2"
   ]
  },
  {
   "cell_type": "code",
   "execution_count": null,
   "id": "6197f4c3-41ca-468b-929f-cc0ebc1fabe9",
   "metadata": {},
   "outputs": [],
   "source": [
    "# b2.visualize()"
   ]
  },
  {
   "cell_type": "code",
   "execution_count": null,
   "id": "6c11fc1f-23ee-45e5-9975-f3d3b2e1dff9",
   "metadata": {},
   "outputs": [],
   "source": []
  }
 ],
 "metadata": {
  "kernelspec": {
   "display_name": "Python 3 (ipykernel)",
   "language": "python",
   "name": "python3"
  },
  "language_info": {
   "codemirror_mode": {
    "name": "ipython",
    "version": 3
   },
   "file_extension": ".py",
   "mimetype": "text/x-python",
   "name": "python",
   "nbconvert_exporter": "python",
   "pygments_lexer": "ipython3",
   "version": "3.10.13"
  }
 },
 "nbformat": 4,
 "nbformat_minor": 5
}
