{
 "cells": [
  {
   "cell_type": "markdown",
   "id": "8087f67dcdaefdee",
   "metadata": {
    "collapsed": false
   },
   "source": [
    "# BioBuilder API Demo"
   ]
  },
  {
   "cell_type": "code",
   "execution_count": 1,
   "id": "initial_id",
   "metadata": {
    "ExecuteTime": {
     "end_time": "2024-03-14T23:40:28.303960Z",
     "start_time": "2024-03-14T23:40:27.424525Z"
    },
    "collapsed": true
   },
   "outputs": [
    {
     "name": "stdout",
     "output_type": "stream",
     "text": [
      "True\n"
     ]
    },
    {
     "data": {
      "text/plain": [
       "<Response [200]>"
      ]
     },
     "execution_count": 1,
     "metadata": {},
     "output_type": "execute_result"
    }
   ],
   "source": [
    "import sys\n",
    "\n",
    "sys.path.insert(0, '..')\n",
    "\n",
    "import os\n",
    "import requests\n",
    "\n",
    "caravagna_model_filepath = '../biosimulator_processes/model_files/Caravagna2010.xml'\n",
    "print(os.path.exists(caravagna_model_filepath))\n",
    "\n",
    "tumor_control_biomodel_id = 'BIOMD0000000749'\n",
    "requests.get('https://www.ebi.ac.uk/biomodels/BIOMD0000000749', headers={'accept': 'json'})"
   ]
  },
  {
   "cell_type": "markdown",
   "id": "572ce5fd9c49efcb",
   "metadata": {
    "collapsed": false
   },
   "source": [
    "#### **_Experiment 1_**:  Here we cross a boundary in the stack that is a biological simulation. We go from model configuration, to experiment. Thus, this tooling sits at that level: both experiment specification AND experiment execution. It's not just a way to specify an experiment, but it is also a way to run it, given the many knobs and buttons that you can use predefine and customize the way the actual model is being solved. Our users are seeking to be involved in an experiment as a \"stack\". We should make a bigger distinction between terms like \"model\"."
   ]
  },
  {
   "cell_type": "code",
   "execution_count": 2,
   "id": "e3218a2629726818",
   "metadata": {
    "ExecuteTime": {
     "end_time": "2024-03-14T23:40:29.768758Z",
     "start_time": "2024-03-14T23:40:28.306010Z"
    },
    "collapsed": false
   },
   "outputs": [
    {
     "name": "stdout",
     "output_type": "stream",
     "text": [
      "CobraProcess registered successfully.\n",
      "CopasiProcess registered successfully.\n",
      "SmoldynProcess registered successfully.\n",
      "TelluriumProcess registered successfully.\n"
     ]
    }
   ],
   "source": [
    "from process_bigraph import pp\n",
    "from biosimulator_processes.biosimulator_builder import BuildPrompter\n",
    "from biosimulator_processes.data_model import TimeCourseProcess, TimeCourseModel"
   ]
  },
  {
   "cell_type": "code",
   "execution_count": 3,
   "id": "871b58285775fb24",
   "metadata": {
    "ExecuteTime": {
     "end_time": "2024-03-14T23:40:29.771659Z",
     "start_time": "2024-03-14T23:40:29.769667Z"
    },
    "collapsed": false
   },
   "outputs": [
    {
     "name": "stdout",
     "output_type": "stream",
     "text": [
      "TimeCourseModel(model_source='BIOMD0000000749',\n",
      "                model_id='model_from_BIOMD0000000749',\n",
      "                model_name='model_from_BIOMD0000000749',\n",
      "                model_language='sbml',\n",
      "                model_changes=None,\n",
      "                model_units=None)\n"
     ]
    }
   ],
   "source": [
    "# 1a. define a model for the process composition. In this case, just one model to be re-used as configuration for the processes we create:\n",
    "\n",
    "tc_model = TimeCourseModel(model_source=tumor_control_biomodel_id)\n",
    "\n",
    "pp(tc_model)"
   ]
  },
  {
   "cell_type": "code",
   "execution_count": 4,
   "id": "a30f5e94167513c9",
   "metadata": {
    "ExecuteTime": {
     "end_time": "2024-03-14T23:40:29.773718Z",
     "start_time": "2024-03-14T23:40:29.772164Z"
    },
    "collapsed": false
   },
   "outputs": [],
   "source": [
    "# 1b. define a TimeCourse process instance using the above object as a parameter. The other parameter is method. See BasiCO documentation for more details on solvers\n",
    "\n",
    "tc_process = TimeCourseProcess(model=tc_model)"
   ]
  },
  {
   "cell_type": "code",
   "execution_count": 5,
   "id": "a9c15126dda87970",
   "metadata": {
    "ExecuteTime": {
     "end_time": "2024-03-14T23:40:29.776482Z",
     "start_time": "2024-03-14T23:40:29.774886Z"
    },
    "collapsed": false
   },
   "outputs": [
    {
     "name": "stdout",
     "output_type": "stream",
     "text": [
      "TimeCourseProcess(model=TimeCourseModel(model_source='BIOMD0000000749',\n",
      "                                        model_id='model_from_BIOMD0000000749',\n",
      "                                        model_name='model_from_BIOMD0000000749',\n",
      "                                        model_language='sbml',\n",
      "                                        model_changes=None,\n",
      "                                        model_units=None),\n",
      "                  method='lsoda')\n"
     ]
    }
   ],
   "source": [
    "# >> The process model instance is viewable as a dataclass...\n",
    "\n",
    "pp(tc_process)"
   ]
  },
  {
   "cell_type": "code",
   "execution_count": 6,
   "id": "ba3d6e8bae50f216",
   "metadata": {
    "ExecuteTime": {
     "end_time": "2024-03-14T23:40:29.778569Z",
     "start_time": "2024-03-14T23:40:29.776946Z"
    },
    "collapsed": false
   },
   "outputs": [
    {
     "name": "stdout",
     "output_type": "stream",
     "text": [
      "{ 'method': 'lsoda',\n",
      "  'model': { 'model_changes': None,\n",
      "             'model_id': 'model_from_BIOMD0000000749',\n",
      "             'model_language': 'sbml',\n",
      "             'model_name': 'model_from_BIOMD0000000749',\n",
      "             'model_source': 'BIOMD0000000749',\n",
      "             'model_units': None}}\n"
     ]
    }
   ],
   "source": [
    "# >> ...or a dict:\n",
    "\n",
    "pp(tc_process.to_dict())"
   ]
  },
  {
   "cell_type": "code",
   "execution_count": 7,
   "id": "f6d099ae829fb063",
   "metadata": {
    "ExecuteTime": {
     "end_time": "2024-03-14T23:40:29.780854Z",
     "start_time": "2024-03-14T23:40:29.779259Z"
    },
    "collapsed": false
   },
   "outputs": [],
   "source": [
    "# 2. instantiate the prompter:\n",
    "\n",
    "prompter = BuildPrompter()"
   ]
  },
  {
   "cell_type": "code",
   "execution_count": 8,
   "id": "6ff0228586348da1",
   "metadata": {
    "ExecuteTime": {
     "end_time": "2024-03-14T23:40:41.989656Z",
     "start_time": "2024-03-14T23:40:29.781441Z"
    },
    "collapsed": false
   },
   "outputs": [
    {
     "name": "stdout",
     "output_type": "stream",
     "text": [
      "simple_single_copasi_composition process successfully added to the bi-graph!\n",
      "All nodes including the most recently added simple_single_copasi_composition processes connected!\n",
      "Done adding single simple_single_copasi_composition (CopasiProcess) to the bigraph.\n"
     ]
    }
   ],
   "source": [
    "# 3. add process(es) to the bigraph with the Time Course model instance we created above. For now, just one process will be added.\n",
    "\n",
    "prompter.add_single_process(config=tc_process)"
   ]
  },
  {
   "cell_type": "code",
   "execution_count": 9,
   "id": "b833c7217603645c",
   "metadata": {
    "ExecuteTime": {
     "end_time": "2024-03-14T23:40:41.993446Z",
     "start_time": "2024-03-14T23:40:41.990760Z"
    },
    "collapsed": false
   },
   "outputs": [
    {
     "name": "stdout",
     "output_type": "stream",
     "text": [
      "Builder({ 'emitter': { '_type': 'step',\n",
      "               'address': 'local:ram-emitter',\n",
      "               'config': {'emit': {}},\n",
      "               'inputs': {},\n",
      "               'instance': <process_bigraph.composite.RAMEmitter object at 0x29d796e90>,\n",
      "               'outputs': {}},\n",
      "  'simple_single_copasi_composition': { '_type': 'process',\n",
      "                                        'address': 'local:CopasiProcess',\n",
      "                                        'config': { 'method': 'lsoda',\n",
      "                                                    'model': { 'model_changes': { 'global_parameter_changes': None,\n",
      "                                                                                  'reaction_changes': None,\n",
      "                                                                                  'species_changes': None},\n",
      "                                                               'model_id': 'model_from_BIOMD0000000749',\n",
      "                                                               'model_language': 'sbml',\n",
      "                                                               'model_name': 'model_from_BIOMD0000000749',\n",
      "                                                               'model_source': 'BIOMD0000000749',\n",
      "                                                               'model_units': None}},\n",
      "                                        'inputs': { 'floating_species': [ 'floating_species_store'],\n",
      "                                                    'model_parameters': [ 'model_parameters_store'],\n",
      "                                                    'reactions': [ 'reactions_store'],\n",
      "                                                    'time': ['time_store']},\n",
      "                                        'instance': <biosimulator_processes.processes.copasi_process.CopasiProcess object at 0x29d796c20>,\n",
      "                                        'interval': 1.0,\n",
      "                                        'outputs': { 'floating_species': [ 'floating_species_store'],\n",
      "                                                     'time': ['time_store']}}})\n"
     ]
    }
   ],
   "source": [
    "# 4. Inspect the builder instance within prompter:\n",
    "\n",
    "pp(prompter.builder_instance)"
   ]
  },
  {
   "cell_type": "code",
   "execution_count": 12,
   "id": "8400f44e3a2e8433",
   "metadata": {
    "ExecuteTime": {
     "end_time": "2024-03-14T23:42:16.771935Z",
     "start_time": "2024-03-14T23:42:16.611143Z"
    },
    "collapsed": false
   },
   "outputs": [
    {
     "data": {
      "image/svg+xml": [
       "<?xml version=\"1.0\" encoding=\"UTF-8\" standalone=\"no\"?>\n",
       "<!DOCTYPE svg PUBLIC \"-//W3C//DTD SVG 1.1//EN\"\n",
       " \"http://www.w3.org/Graphics/SVG/1.1/DTD/svg11.dtd\">\n",
       "<!-- Generated by graphviz version 9.0.0 (20230911.1827)\n",
       " -->\n",
       "<!-- Title: bigraph Pages: 1 -->\n",
       "<svg width=\"1120pt\" height=\"185pt\"\n",
       " viewBox=\"0.00 0.00 1152.00 190.55\" xmlns=\"http://www.w3.org/2000/svg\" xmlns:xlink=\"http://www.w3.org/1999/xlink\">\n",
       "<g id=\"graph0\" class=\"graph\" transform=\"scale(0.521533 0.521533) rotate(0) translate(4 351.21)\">\n",
       "<title>bigraph</title>\n",
       "<polygon fill=\"white\" stroke=\"none\" points=\"-4,4 -4,-351.21 2143.51,-351.21 2143.51,4 -4,4\"/>\n",
       "<!-- (&#39;time_store&#39;,) -->\n",
       "<g id=\"node1\" class=\"node\">\n",
       "<title>(&#39;time_store&#39;,)</title>\n",
       "<ellipse fill=\"none\" stroke=\"black\" stroke-width=\"2\" cx=\"385\" cy=\"-271.29\" rx=\"34.83\" ry=\"34.83\"/>\n",
       "<text text-anchor=\"start\" x=\"360.62\" y=\"-267.01\" font-family=\"Times,serif\" font-size=\"12.00\">time_store</text>\n",
       "</g>\n",
       "<!-- (&#39;simple_single_copasi_composition&#39;,) -->\n",
       "<g id=\"node29\" class=\"node\">\n",
       "<title>(&#39;simple_single_copasi_composition&#39;,)</title>\n",
       "<polygon fill=\"none\" stroke=\"black\" stroke-width=\"2\" points=\"453.73,-92.06 282.27,-92.06 282.27,-56.06 453.73,-56.06 453.73,-92.06\"/>\n",
       "<text text-anchor=\"start\" x=\"285.88\" y=\"-69.78\" font-family=\"Times,serif\" font-size=\"12.00\">simple_single_copasi_composition</text>\n",
       "</g>\n",
       "<!-- (&#39;time_store&#39;,)&#45;&gt;(&#39;simple_single_copasi_composition&#39;,) -->\n",
       "<g id=\"edge24\" class=\"edge\">\n",
       "<title>(&#39;time_store&#39;,)&#45;&gt;(&#39;simple_single_copasi_composition&#39;,)</title>\n",
       "<path fill=\"none\" stroke=\"black\" stroke-dasharray=\"5,2\" d=\"M376.05,-237.01C371.77,-219.42 367.13,-197.38 365,-177.36 362.39,-152.81 363.5,-124.77 365.05,-104.26\"/>\n",
       "<polygon fill=\"black\" stroke=\"black\" points=\"368.54,-104.62 365.9,-94.36 361.56,-104.03 368.54,-104.62\"/>\n",
       "<text text-anchor=\"start\" x=\"365\" y=\"-167.86\" font-family=\"Times,serif\" font-size=\"10.00\">time</text>\n",
       "</g>\n",
       "<!-- (&#39;time_store&#39;,)&#45;&gt;(&#39;simple_single_copasi_composition&#39;,) -->\n",
       "<g id=\"edge28\" class=\"edge\">\n",
       "<title>(&#39;time_store&#39;,)&#45;&gt;(&#39;simple_single_copasi_composition&#39;,)</title>\n",
       "<path fill=\"none\" stroke=\"black\" stroke-dasharray=\"5,2\" d=\"M385.54,-224.05C385.38,-205.95 384.73,-185.03 383,-166.11 380.65,-140.42 375.32,-111.03 371.69,-92.76\"/>\n",
       "<polygon fill=\"black\" stroke=\"black\" points=\"382.04,-223.99 385.58,-233.98 389.04,-223.97 382.04,-223.99\"/>\n",
       "<text text-anchor=\"start\" x=\"384\" y=\"-167.86\" font-family=\"Times,serif\" font-size=\"10.00\">time</text>\n",
       "</g>\n",
       "<!-- (&#39;floating_species_store&#39;,) -->\n",
       "<g id=\"node2\" class=\"node\">\n",
       "<title>(&#39;floating_species_store&#39;,)</title>\n",
       "<ellipse fill=\"none\" stroke=\"black\" stroke-width=\"2\" cx=\"139\" cy=\"-271.29\" rx=\"69.39\" ry=\"69.39\"/>\n",
       "<text text-anchor=\"start\" x=\"86.88\" y=\"-267.01\" font-family=\"Times,serif\" font-size=\"12.00\">floating_species_store</text>\n",
       "</g>\n",
       "<!-- (&#39;floating_species_store&#39;, &#39;E&#39;) -->\n",
       "<g id=\"node3\" class=\"node\">\n",
       "<title>(&#39;floating_species_store&#39;, &#39;E&#39;)</title>\n",
       "<ellipse fill=\"none\" stroke=\"black\" stroke-width=\"2\" cx=\"180\" cy=\"-74.06\" rx=\"18\" ry=\"18\"/>\n",
       "<text text-anchor=\"start\" x=\"176.25\" y=\"-69.78\" font-family=\"Times,serif\" font-size=\"12.00\">E</text>\n",
       "</g>\n",
       "<!-- (&#39;floating_species_store&#39;,)&#45;&gt;(&#39;floating_species_store&#39;, &#39;E&#39;) -->\n",
       "<g id=\"edge1\" class=\"edge\">\n",
       "<title>(&#39;floating_species_store&#39;,)&#45;&gt;(&#39;floating_species_store&#39;, &#39;E&#39;)</title>\n",
       "<path fill=\"none\" stroke=\"black\" stroke-width=\"2\" d=\"M153.22,-202.55C161.46,-163.35 171.19,-117.02 176.35,-92.43\"/>\n",
       "</g>\n",
       "<!-- (&#39;floating_species_store&#39;, &#39;R&#39;) -->\n",
       "<g id=\"node4\" class=\"node\">\n",
       "<title>(&#39;floating_species_store&#39;, &#39;R&#39;)</title>\n",
       "<ellipse fill=\"none\" stroke=\"black\" stroke-width=\"2\" cx=\"18\" cy=\"-74.06\" rx=\"18\" ry=\"18\"/>\n",
       "<text text-anchor=\"start\" x=\"13.88\" y=\"-69.78\" font-family=\"Times,serif\" font-size=\"12.00\">R</text>\n",
       "</g>\n",
       "<!-- (&#39;floating_species_store&#39;,)&#45;&gt;(&#39;floating_species_store&#39;, &#39;R&#39;) -->\n",
       "<g id=\"edge2\" class=\"edge\">\n",
       "<title>(&#39;floating_species_store&#39;,)&#45;&gt;(&#39;floating_species_store&#39;, &#39;R&#39;)</title>\n",
       "<path fill=\"none\" stroke=\"black\" stroke-width=\"2\" d=\"M93.18,-217.98C76.5,-197.2 58.46,-172.47 45,-148.11 34.99,-130.01 27.3,-107.45 22.74,-92.23\"/>\n",
       "</g>\n",
       "<!-- (&#39;floating_species_store&#39;, &#39;f&#39;) -->\n",
       "<g id=\"node5\" class=\"node\">\n",
       "<title>(&#39;floating_species_store&#39;, &#39;f&#39;)</title>\n",
       "<ellipse fill=\"none\" stroke=\"black\" stroke-width=\"2\" cx=\"72\" cy=\"-74.06\" rx=\"18\" ry=\"18\"/>\n",
       "<text text-anchor=\"start\" x=\"70.12\" y=\"-69.78\" font-family=\"Times,serif\" font-size=\"12.00\">f</text>\n",
       "</g>\n",
       "<!-- (&#39;floating_species_store&#39;,)&#45;&gt;(&#39;floating_species_store&#39;, &#39;f&#39;) -->\n",
       "<g id=\"edge3\" class=\"edge\">\n",
       "<title>(&#39;floating_species_store&#39;,)&#45;&gt;(&#39;floating_species_store&#39;, &#39;f&#39;)</title>\n",
       "<path fill=\"none\" stroke=\"black\" stroke-width=\"2\" d=\"M116.5,-204.73C102.82,-164.86 86.38,-116.95 77.82,-92.01\"/>\n",
       "</g>\n",
       "<!-- (&#39;floating_species_store&#39;, &quot;E&#39;&quot;) -->\n",
       "<g id=\"node6\" class=\"node\">\n",
       "<title>(&#39;floating_species_store&#39;, &quot;E&#39;&quot;)</title>\n",
       "<ellipse fill=\"none\" stroke=\"black\" stroke-width=\"2\" cx=\"126\" cy=\"-74.06\" rx=\"18\" ry=\"18\"/>\n",
       "<text text-anchor=\"start\" x=\"121.12\" y=\"-69.78\" font-family=\"Times,serif\" font-size=\"12.00\">E&#39;</text>\n",
       "</g>\n",
       "<!-- (&#39;floating_species_store&#39;,)&#45;&gt;(&#39;floating_species_store&#39;, &quot;E&#39;&quot;) -->\n",
       "<g id=\"edge4\" class=\"edge\">\n",
       "<title>(&#39;floating_species_store&#39;,)&#45;&gt;(&#39;floating_species_store&#39;, &quot;E&#39;&quot;)</title>\n",
       "<path fill=\"none\" stroke=\"black\" stroke-width=\"2\" d=\"M134.4,-201.18C131.83,-162.57 128.82,-117.44 127.19,-93\"/>\n",
       "</g>\n",
       "<!-- (&#39;floating_species_store&#39;,)&#45;&gt;(&#39;simple_single_copasi_composition&#39;,) -->\n",
       "<g id=\"edge25\" class=\"edge\">\n",
       "<title>(&#39;floating_species_store&#39;,)&#45;&gt;(&#39;simple_single_copasi_composition&#39;,)</title>\n",
       "<path fill=\"none\" stroke=\"black\" stroke-dasharray=\"5,2\" d=\"M160.02,-204.32C166.56,-190.58 174.85,-176.98 185.25,-166.11 204.12,-146.39 266.42,-117.44 313.07,-97.51\"/>\n",
       "<polygon fill=\"black\" stroke=\"black\" points=\"314.42,-100.74 322.27,-93.61 311.69,-94.29 314.42,-100.74\"/>\n",
       "<text text-anchor=\"start\" x=\"186\" y=\"-167.86\" font-family=\"Times,serif\" font-size=\"10.00\">floating_species</text>\n",
       "</g>\n",
       "<!-- (&#39;floating_species_store&#39;,)&#45;&gt;(&#39;simple_single_copasi_composition&#39;,) -->\n",
       "<g id=\"edge29\" class=\"edge\">\n",
       "<title>(&#39;floating_species_store&#39;,)&#45;&gt;(&#39;simple_single_copasi_composition&#39;,)</title>\n",
       "<path fill=\"none\" stroke=\"black\" stroke-dasharray=\"5,2\" d=\"M201.56,-219.49C218.06,-205.91 235.78,-191.18 252,-177.36 286.14,-148.29 325.1,-113.61 348.07,-93.01\"/>\n",
       "<polygon fill=\"black\" stroke=\"black\" points=\"199.74,-216.46 194.23,-225.51 204.18,-221.87 199.74,-216.46\"/>\n",
       "<text text-anchor=\"start\" x=\"265\" y=\"-167.86\" font-family=\"Times,serif\" font-size=\"10.00\">floating_species</text>\n",
       "</g>\n",
       "<!-- (&#39;model_parameters_store&#39;,) -->\n",
       "<g id=\"node7\" class=\"node\">\n",
       "<title>(&#39;model_parameters_store&#39;,)</title>\n",
       "<ellipse fill=\"none\" stroke=\"black\" stroke-width=\"2\" cx=\"722\" cy=\"-271.29\" rx=\"75.92\" ry=\"75.92\"/>\n",
       "<text text-anchor=\"start\" x=\"664.62\" y=\"-267.01\" font-family=\"Times,serif\" font-size=\"12.00\">model_parameters_store</text>\n",
       "</g>\n",
       "<!-- (&#39;model_parameters_store&#39;, &#39;B&#39;) -->\n",
       "<g id=\"node8\" class=\"node\">\n",
       "<title>(&#39;model_parameters_store&#39;, &#39;B&#39;)</title>\n",
       "<ellipse fill=\"none\" stroke=\"black\" stroke-width=\"2\" cx=\"668\" cy=\"-74.06\" rx=\"18\" ry=\"18\"/>\n",
       "<text text-anchor=\"start\" x=\"663.88\" y=\"-69.78\" font-family=\"Times,serif\" font-size=\"12.00\">B</text>\n",
       "</g>\n",
       "<!-- (&#39;model_parameters_store&#39;,)&#45;&gt;(&#39;model_parameters_store&#39;, &#39;B&#39;) -->\n",
       "<g id=\"edge5\" class=\"edge\">\n",
       "<title>(&#39;model_parameters_store&#39;,)&#45;&gt;(&#39;model_parameters_store&#39;, &#39;B&#39;)</title>\n",
       "<path fill=\"none\" stroke=\"black\" stroke-width=\"2\" d=\"M701.82,-197.31C691.27,-159.19 679.24,-115.7 672.75,-92.24\"/>\n",
       "</g>\n",
       "<!-- (&#39;model_parameters_store&#39;, &#39;lm&#39;) -->\n",
       "<g id=\"node9\" class=\"node\">\n",
       "<title>(&#39;model_parameters_store&#39;, &#39;lm&#39;)</title>\n",
       "<ellipse fill=\"none\" stroke=\"black\" stroke-width=\"2\" cx=\"722\" cy=\"-74.06\" rx=\"18\" ry=\"18\"/>\n",
       "<text text-anchor=\"start\" x=\"716\" y=\"-69.78\" font-family=\"Times,serif\" font-size=\"12.00\">lm</text>\n",
       "</g>\n",
       "<!-- (&#39;model_parameters_store&#39;,)&#45;&gt;(&#39;model_parameters_store&#39;, &#39;lm&#39;) -->\n",
       "<g id=\"edge6\" class=\"edge\">\n",
       "<title>(&#39;model_parameters_store&#39;,)&#45;&gt;(&#39;model_parameters_store&#39;, &#39;lm&#39;)</title>\n",
       "<path fill=\"none\" stroke=\"black\" stroke-width=\"2\" d=\"M722,-194.53C722,-157.44 722,-115.92 722,-92.89\"/>\n",
       "</g>\n",
       "<!-- (&#39;model_parameters_store&#39;, &#39;la&#39;) -->\n",
       "<g id=\"node10\" class=\"node\">\n",
       "<title>(&#39;model_parameters_store&#39;, &#39;la&#39;)</title>\n",
       "<ellipse fill=\"none\" stroke=\"black\" stroke-width=\"2\" cx=\"776\" cy=\"-74.06\" rx=\"18\" ry=\"18\"/>\n",
       "<text text-anchor=\"start\" x=\"771.88\" y=\"-69.78\" font-family=\"Times,serif\" font-size=\"12.00\">la</text>\n",
       "</g>\n",
       "<!-- (&#39;model_parameters_store&#39;,)&#45;&gt;(&#39;model_parameters_store&#39;, &#39;la&#39;) -->\n",
       "<g id=\"edge7\" class=\"edge\">\n",
       "<title>(&#39;model_parameters_store&#39;,)&#45;&gt;(&#39;model_parameters_store&#39;, &#39;la&#39;)</title>\n",
       "<path fill=\"none\" stroke=\"black\" stroke-width=\"2\" d=\"M742.18,-197.31C752.73,-159.19 764.76,-115.7 771.25,-92.24\"/>\n",
       "</g>\n",
       "<!-- (&#39;model_parameters_store&#39;, &#39;ld&#39;) -->\n",
       "<g id=\"node11\" class=\"node\">\n",
       "<title>(&#39;model_parameters_store&#39;, &#39;ld&#39;)</title>\n",
       "<ellipse fill=\"none\" stroke=\"black\" stroke-width=\"2\" cx=\"830\" cy=\"-74.06\" rx=\"18\" ry=\"18\"/>\n",
       "<text text-anchor=\"start\" x=\"825.5\" y=\"-69.78\" font-family=\"Times,serif\" font-size=\"12.00\">ld</text>\n",
       "</g>\n",
       "<!-- (&#39;model_parameters_store&#39;,)&#45;&gt;(&#39;model_parameters_store&#39;, &#39;ld&#39;) -->\n",
       "<g id=\"edge8\" class=\"edge\">\n",
       "<title>(&#39;model_parameters_store&#39;,)&#45;&gt;(&#39;model_parameters_store&#39;, &#39;ld&#39;)</title>\n",
       "<path fill=\"none\" stroke=\"black\" stroke-width=\"2\" d=\"M766.72,-208.87C779.4,-189.93 792.57,-168.65 803,-148.11 812.36,-129.66 820.18,-107.17 824.95,-92.06\"/>\n",
       "</g>\n",
       "<!-- (&#39;model_parameters_store&#39;, &#39;c&#39;) -->\n",
       "<g id=\"node12\" class=\"node\">\n",
       "<title>(&#39;model_parameters_store&#39;, &#39;c&#39;)</title>\n",
       "<ellipse fill=\"none\" stroke=\"black\" stroke-width=\"2\" cx=\"884\" cy=\"-74.06\" rx=\"18\" ry=\"18\"/>\n",
       "<text text-anchor=\"start\" x=\"881.38\" y=\"-69.78\" font-family=\"Times,serif\" font-size=\"12.00\">c</text>\n",
       "</g>\n",
       "<!-- (&#39;model_parameters_store&#39;,)&#45;&gt;(&#39;model_parameters_store&#39;, &#39;c&#39;) -->\n",
       "<g id=\"edge9\" class=\"edge\">\n",
       "<title>(&#39;model_parameters_store&#39;,)&#45;&gt;(&#39;model_parameters_store&#39;, &#39;c&#39;)</title>\n",
       "<path fill=\"none\" stroke=\"black\" stroke-width=\"2\" d=\"M783.61,-225.36C809.1,-204.25 837.26,-177.31 857,-148.11 868.67,-130.86 876.07,-107.93 880.11,-92.39\"/>\n",
       "</g>\n",
       "<!-- (&#39;model_parameters_store&#39;, &#39;k&#39;) -->\n",
       "<g id=\"node13\" class=\"node\">\n",
       "<title>(&#39;model_parameters_store&#39;, &#39;k&#39;)</title>\n",
       "<ellipse fill=\"none\" stroke=\"black\" stroke-width=\"2\" cx=\"938\" cy=\"-74.06\" rx=\"18\" ry=\"18\"/>\n",
       "<text text-anchor=\"start\" x=\"935\" y=\"-69.78\" font-family=\"Times,serif\" font-size=\"12.00\">k</text>\n",
       "</g>\n",
       "<!-- (&#39;model_parameters_store&#39;,)&#45;&gt;(&#39;model_parameters_store&#39;, &#39;k&#39;) -->\n",
       "<g id=\"edge10\" class=\"edge\">\n",
       "<title>(&#39;model_parameters_store&#39;,)&#45;&gt;(&#39;model_parameters_store&#39;, &#39;k&#39;)</title>\n",
       "<path fill=\"none\" stroke=\"black\" stroke-width=\"2\" d=\"M791.66,-239.2C831.37,-218.4 879.36,-187.6 911,-148.11 924.1,-131.76 931.24,-108.42 934.83,-92.56\"/>\n",
       "</g>\n",
       "<!-- (&#39;model_parameters_store&#39;, &#39;d1&#39;) -->\n",
       "<g id=\"node14\" class=\"node\">\n",
       "<title>(&#39;model_parameters_store&#39;, &#39;d1&#39;)</title>\n",
       "<ellipse fill=\"none\" stroke=\"black\" stroke-width=\"2\" cx=\"992\" cy=\"-74.06\" rx=\"18\" ry=\"18\"/>\n",
       "<text text-anchor=\"start\" x=\"986\" y=\"-69.78\" font-family=\"Times,serif\" font-size=\"12.00\">d1</text>\n",
       "</g>\n",
       "<!-- (&#39;model_parameters_store&#39;,)&#45;&gt;(&#39;model_parameters_store&#39;, &#39;d1&#39;) -->\n",
       "<g id=\"edge11\" class=\"edge\">\n",
       "<title>(&#39;model_parameters_store&#39;,)&#45;&gt;(&#39;model_parameters_store&#39;, &#39;d1&#39;)</title>\n",
       "<path fill=\"none\" stroke=\"black\" stroke-width=\"2\" d=\"M795.65,-249.41C849.2,-230.79 919.92,-198.54 965,-148.11 979.06,-132.39 986.01,-108.7 989.29,-92.59\"/>\n",
       "</g>\n",
       "<!-- (&#39;model_parameters_store&#39;, &#39;d0&#39;) -->\n",
       "<g id=\"node15\" class=\"node\">\n",
       "<title>(&#39;model_parameters_store&#39;, &#39;d0&#39;)</title>\n",
       "<ellipse fill=\"none\" stroke=\"black\" stroke-width=\"2\" cx=\"498\" cy=\"-74.06\" rx=\"18\" ry=\"18\"/>\n",
       "<text text-anchor=\"start\" x=\"492\" y=\"-69.78\" font-family=\"Times,serif\" font-size=\"12.00\">d0</text>\n",
       "</g>\n",
       "<!-- (&#39;model_parameters_store&#39;,)&#45;&gt;(&#39;model_parameters_store&#39;, &#39;d0&#39;) -->\n",
       "<g id=\"edge12\" class=\"edge\">\n",
       "<title>(&#39;model_parameters_store&#39;,)&#45;&gt;(&#39;model_parameters_store&#39;, &#39;d0&#39;)</title>\n",
       "<path fill=\"none\" stroke=\"black\" stroke-width=\"2\" d=\"M651.77,-241.02C609.93,-220.45 558.6,-189.26 525,-148.11 511.74,-131.88 504.64,-108.52 501.1,-92.62\"/>\n",
       "</g>\n",
       "<!-- (&#39;model_parameters_store&#39;, &#39;sigma&#39;) -->\n",
       "<g id=\"node16\" class=\"node\">\n",
       "<title>(&#39;model_parameters_store&#39;, &#39;sigma&#39;)</title>\n",
       "<ellipse fill=\"none\" stroke=\"black\" stroke-width=\"2\" cx=\"556\" cy=\"-74.06\" rx=\"21.76\" ry=\"21.76\"/>\n",
       "<text text-anchor=\"start\" x=\"542.12\" y=\"-69.78\" font-family=\"Times,serif\" font-size=\"12.00\">sigma</text>\n",
       "</g>\n",
       "<!-- (&#39;model_parameters_store&#39;,)&#45;&gt;(&#39;model_parameters_store&#39;, &#39;sigma&#39;) -->\n",
       "<g id=\"edge13\" class=\"edge\">\n",
       "<title>(&#39;model_parameters_store&#39;,)&#45;&gt;(&#39;model_parameters_store&#39;, &#39;sigma&#39;)</title>\n",
       "<path fill=\"none\" stroke=\"black\" stroke-width=\"2\" d=\"M661.05,-224.9C635.67,-203.71 607.43,-176.83 587,-148.11 575.58,-132.06 567.25,-111.14 562.11,-95.81\"/>\n",
       "</g>\n",
       "<!-- (&#39;model_parameters_store&#39;, &#39;r&#39;) -->\n",
       "<g id=\"node17\" class=\"node\">\n",
       "<title>(&#39;model_parameters_store&#39;, &#39;r&#39;)</title>\n",
       "<ellipse fill=\"none\" stroke=\"black\" stroke-width=\"2\" cx=\"614\" cy=\"-74.06\" rx=\"18\" ry=\"18\"/>\n",
       "<text text-anchor=\"start\" x=\"612.12\" y=\"-69.78\" font-family=\"Times,serif\" font-size=\"12.00\">r</text>\n",
       "</g>\n",
       "<!-- (&#39;model_parameters_store&#39;,)&#45;&gt;(&#39;model_parameters_store&#39;, &#39;r&#39;) -->\n",
       "<g id=\"edge14\" class=\"edge\">\n",
       "<title>(&#39;model_parameters_store&#39;,)&#45;&gt;(&#39;model_parameters_store&#39;, &#39;r&#39;)</title>\n",
       "<path fill=\"none\" stroke=\"black\" stroke-width=\"2\" d=\"M677.28,-208.87C664.6,-189.93 651.43,-168.65 641,-148.11 631.64,-129.66 623.82,-107.17 619.05,-92.06\"/>\n",
       "</g>\n",
       "<!-- (&#39;model_parameters_store&#39;,)&#45;&gt;(&#39;simple_single_copasi_composition&#39;,) -->\n",
       "<g id=\"edge26\" class=\"edge\">\n",
       "<title>(&#39;model_parameters_store&#39;,)&#45;&gt;(&#39;simple_single_copasi_composition&#39;,)</title>\n",
       "<path fill=\"none\" stroke=\"black\" stroke-dasharray=\"5,2\" d=\"M647.32,-253.46C593.29,-238.99 520.17,-214.49 463.75,-177.36 432.99,-157.12 405.13,-125.05 387.49,-102.21\"/>\n",
       "<polygon fill=\"black\" stroke=\"black\" points=\"390.31,-100.13 381.49,-94.26 384.72,-104.35 390.31,-100.13\"/>\n",
       "<text text-anchor=\"start\" x=\"464\" y=\"-167.86\" font-family=\"Times,serif\" font-size=\"10.00\">model_parameters</text>\n",
       "</g>\n",
       "<!-- (&#39;reactions_store&#39;,) -->\n",
       "<g id=\"node18\" class=\"node\">\n",
       "<title>(&#39;reactions_store&#39;,)</title>\n",
       "<ellipse fill=\"none\" stroke=\"black\" stroke-width=\"2\" cx=\"1514\" cy=\"-271.29\" rx=\"48.37\" ry=\"48.37\"/>\n",
       "<text text-anchor=\"start\" x=\"1478.75\" y=\"-267.01\" font-family=\"Times,serif\" font-size=\"12.00\">reactions_store</text>\n",
       "</g>\n",
       "<!-- (&#39;reactions_store&#39;, &#39;tumor growth&#39;) -->\n",
       "<g id=\"node19\" class=\"node\">\n",
       "<title>(&#39;reactions_store&#39;, &#39;tumor growth&#39;)</title>\n",
       "<ellipse fill=\"none\" stroke=\"black\" stroke-width=\"2\" cx=\"1463\" cy=\"-74.06\" rx=\"44.64\" ry=\"44.64\"/>\n",
       "<text text-anchor=\"start\" x=\"1430.75\" y=\"-69.78\" font-family=\"Times,serif\" font-size=\"12.00\">tumor growth</text>\n",
       "</g>\n",
       "<!-- (&#39;reactions_store&#39;,)&#45;&gt;(&#39;reactions_store&#39;, &#39;tumor growth&#39;) -->\n",
       "<g id=\"edge15\" class=\"edge\">\n",
       "<title>(&#39;reactions_store&#39;,)&#45;&gt;(&#39;reactions_store&#39;, &#39;tumor growth&#39;)</title>\n",
       "<path fill=\"none\" stroke=\"black\" stroke-width=\"2\" d=\"M1501.78,-223.52C1493.42,-191.49 1482.4,-149.31 1474.24,-118.1\"/>\n",
       "</g>\n",
       "<!-- (&#39;reactions_store&#39;, &#39;tumor death&#39;) -->\n",
       "<g id=\"node20\" class=\"node\">\n",
       "<title>(&#39;reactions_store&#39;, &#39;tumor death&#39;)</title>\n",
       "<ellipse fill=\"none\" stroke=\"black\" stroke-width=\"2\" cx=\"1565\" cy=\"-74.06\" rx=\"39.5\" ry=\"39.5\"/>\n",
       "<text text-anchor=\"start\" x=\"1536.88\" y=\"-69.78\" font-family=\"Times,serif\" font-size=\"12.00\">tumor death</text>\n",
       "</g>\n",
       "<!-- (&#39;reactions_store&#39;,)&#45;&gt;(&#39;reactions_store&#39;, &#39;tumor death&#39;) -->\n",
       "<g id=\"edge16\" class=\"edge\">\n",
       "<title>(&#39;reactions_store&#39;,)&#45;&gt;(&#39;reactions_store&#39;, &#39;tumor death&#39;)</title>\n",
       "<path fill=\"none\" stroke=\"black\" stroke-width=\"2\" d=\"M1526.22,-223.52C1535.03,-189.79 1546.77,-144.83 1555.02,-113.25\"/>\n",
       "</g>\n",
       "<!-- (&#39;reactions_store&#39;, &#39;tumor killing&#39;) -->\n",
       "<g id=\"node21\" class=\"node\">\n",
       "<title>(&#39;reactions_store&#39;, &#39;tumor killing&#39;)</title>\n",
       "<ellipse fill=\"none\" stroke=\"black\" stroke-width=\"2\" cx=\"1665\" cy=\"-74.06\" rx=\"42.3\" ry=\"42.3\"/>\n",
       "<text text-anchor=\"start\" x=\"1634.62\" y=\"-69.78\" font-family=\"Times,serif\" font-size=\"12.00\">tumor killing</text>\n",
       "</g>\n",
       "<!-- (&#39;reactions_store&#39;,)&#45;&gt;(&#39;reactions_store&#39;, &#39;tumor killing&#39;) -->\n",
       "<g id=\"edge17\" class=\"edge\">\n",
       "<title>(&#39;reactions_store&#39;,)&#45;&gt;(&#39;reactions_store&#39;, &#39;tumor killing&#39;)</title>\n",
       "<path fill=\"none\" stroke=\"black\" stroke-width=\"2\" d=\"M1542.65,-231.28C1551.53,-219.56 1561.48,-206.79 1571,-195.36 1589.17,-173.54 1596.28,-170.3 1614,-148.11 1623.56,-136.15 1633.35,-122.51 1641.76,-110.28\"/>\n",
       "</g>\n",
       "<!-- (&#39;reactions_store&#39;, &#39;tumor nutrient supply&#39;) -->\n",
       "<g id=\"node22\" class=\"node\">\n",
       "<title>(&#39;reactions_store&#39;, &#39;tumor nutrient supply&#39;)</title>\n",
       "<ellipse fill=\"none\" stroke=\"black\" stroke-width=\"2\" cx=\"1793\" cy=\"-74.06\" rx=\"67.52\" ry=\"67.52\"/>\n",
       "<text text-anchor=\"start\" x=\"1742.38\" y=\"-69.78\" font-family=\"Times,serif\" font-size=\"12.00\">tumor nutrient supply</text>\n",
       "</g>\n",
       "<!-- (&#39;reactions_store&#39;,)&#45;&gt;(&#39;reactions_store&#39;, &#39;tumor nutrient supply&#39;) -->\n",
       "<g id=\"edge18\" class=\"edge\">\n",
       "<title>(&#39;reactions_store&#39;,)&#45;&gt;(&#39;reactions_store&#39;, &#39;tumor nutrient supply&#39;)</title>\n",
       "<path fill=\"none\" stroke=\"black\" stroke-width=\"2\" d=\"M1538.54,-228.94C1547.46,-216.73 1558.48,-204.26 1571,-195.36 1598.63,-175.73 1686.88,-165.45 1716,-148.11 1726.92,-141.61 1737.55,-133.3 1747.25,-124.64\"/>\n",
       "</g>\n",
       "<!-- (&#39;reactions_store&#39;, &#39;effector stimulation&#39;) -->\n",
       "<g id=\"node23\" class=\"node\">\n",
       "<title>(&#39;reactions_store&#39;, &#39;effector stimulation&#39;)</title>\n",
       "<ellipse fill=\"none\" stroke=\"black\" stroke-width=\"2\" cx=\"1940\" cy=\"-74.06\" rx=\"60.98\" ry=\"60.98\"/>\n",
       "<text text-anchor=\"start\" x=\"1894.62\" y=\"-69.78\" font-family=\"Times,serif\" font-size=\"12.00\">effector stimulation</text>\n",
       "</g>\n",
       "<!-- (&#39;reactions_store&#39;,)&#45;&gt;(&#39;reactions_store&#39;, &#39;effector stimulation&#39;) -->\n",
       "<g id=\"edge19\" class=\"edge\">\n",
       "<title>(&#39;reactions_store&#39;,)&#45;&gt;(&#39;reactions_store&#39;, &#39;effector stimulation&#39;)</title>\n",
       "<path fill=\"none\" stroke=\"black\" stroke-width=\"2\" d=\"M1537.46,-228.11C1546.39,-215.7 1557.67,-203.33 1571,-195.36 1599.87,-178.11 1840.19,-163.7 1870,-148.11 1881.99,-141.85 1893.09,-132.74 1902.77,-123.07\"/>\n",
       "</g>\n",
       "<!-- (&#39;reactions_store&#39;, &#39;effector exhaustion&#39;) -->\n",
       "<g id=\"node24\" class=\"node\">\n",
       "<title>(&#39;reactions_store&#39;, &#39;effector exhaustion&#39;)</title>\n",
       "<ellipse fill=\"none\" stroke=\"black\" stroke-width=\"2\" cx=\"2079\" cy=\"-74.06\" rx=\"60.51\" ry=\"60.51\"/>\n",
       "<text text-anchor=\"start\" x=\"2034\" y=\"-69.78\" font-family=\"Times,serif\" font-size=\"12.00\">effector exhaustion</text>\n",
       "</g>\n",
       "<!-- (&#39;reactions_store&#39;,)&#45;&gt;(&#39;reactions_store&#39;, &#39;effector exhaustion&#39;) -->\n",
       "<g id=\"edge20\" class=\"edge\">\n",
       "<title>(&#39;reactions_store&#39;,)&#45;&gt;(&#39;reactions_store&#39;, &#39;effector exhaustion&#39;)</title>\n",
       "<path fill=\"none\" stroke=\"black\" stroke-width=\"2\" d=\"M1536.95,-228.11C1545.9,-215.54 1557.34,-203.07 1571,-195.36 1581.68,-189.33 1999.01,-153.56 2010,-148.11 2022.03,-142.14 2033.07,-133.15 2042.62,-123.5\"/>\n",
       "</g>\n",
       "<!-- (&#39;reactions_store&#39;, &#39;effector death&#39;) -->\n",
       "<g id=\"node25\" class=\"node\">\n",
       "<title>(&#39;reactions_store&#39;, &#39;effector death&#39;)</title>\n",
       "<ellipse fill=\"none\" stroke=\"black\" stroke-width=\"2\" cx=\"1075\" cy=\"-74.06\" rx=\"44.64\" ry=\"44.64\"/>\n",
       "<text text-anchor=\"start\" x=\"1042.75\" y=\"-69.78\" font-family=\"Times,serif\" font-size=\"12.00\">effector death</text>\n",
       "</g>\n",
       "<!-- (&#39;reactions_store&#39;,)&#45;&gt;(&#39;reactions_store&#39;, &#39;effector death&#39;) -->\n",
       "<g id=\"edge21\" class=\"edge\">\n",
       "<title>(&#39;reactions_store&#39;,)&#45;&gt;(&#39;reactions_store&#39;, &#39;effector death&#39;)</title>\n",
       "<path fill=\"none\" stroke=\"black\" stroke-width=\"2\" d=\"M1465.31,-264.63C1387.76,-253.61 1234.24,-223.37 1129,-148.11 1116.43,-139.12 1105.57,-126.31 1096.95,-113.92\"/>\n",
       "</g>\n",
       "<!-- (&#39;reactions_store&#39;, &#39;effector source&#39;) -->\n",
       "<g id=\"node26\" class=\"node\">\n",
       "<title>(&#39;reactions_store&#39;, &#39;effector source&#39;)</title>\n",
       "<ellipse fill=\"none\" stroke=\"black\" stroke-width=\"2\" cx=\"1186\" cy=\"-74.06\" rx=\"47.91\" ry=\"47.91\"/>\n",
       "<text text-anchor=\"start\" x=\"1151.12\" y=\"-69.78\" font-family=\"Times,serif\" font-size=\"12.00\">effector source</text>\n",
       "</g>\n",
       "<!-- (&#39;reactions_store&#39;,)&#45;&gt;(&#39;reactions_store&#39;, &#39;effector source&#39;) -->\n",
       "<g id=\"edge22\" class=\"edge\">\n",
       "<title>(&#39;reactions_store&#39;,)&#45;&gt;(&#39;reactions_store&#39;, &#39;effector source&#39;)</title>\n",
       "<path fill=\"none\" stroke=\"black\" stroke-width=\"2\" d=\"M1466.91,-256.77C1409.71,-238.72 1312.3,-202.55 1243,-148.11 1231.36,-138.97 1220.73,-126.96 1211.88,-115.33\"/>\n",
       "</g>\n",
       "<!-- (&#39;reactions_store&#39;, &#39;tumor nutrient missuply&#39;) -->\n",
       "<g id=\"node27\" class=\"node\">\n",
       "<title>(&#39;reactions_store&#39;, &#39;tumor nutrient missuply&#39;)</title>\n",
       "<ellipse fill=\"none\" stroke=\"black\" stroke-width=\"2\" cx=\"1326\" cy=\"-74.06\" rx=\"74.06\" ry=\"74.06\"/>\n",
       "<text text-anchor=\"start\" x=\"1270.12\" y=\"-69.78\" font-family=\"Times,serif\" font-size=\"12.00\">tumor nutrient missuply</text>\n",
       "</g>\n",
       "<!-- (&#39;reactions_store&#39;,)&#45;&gt;(&#39;reactions_store&#39;, &#39;tumor nutrient missuply&#39;) -->\n",
       "<g id=\"edge23\" class=\"edge\">\n",
       "<title>(&#39;reactions_store&#39;,)&#45;&gt;(&#39;reactions_store&#39;, &#39;tumor nutrient missuply&#39;)</title>\n",
       "<path fill=\"none\" stroke=\"black\" stroke-width=\"2\" d=\"M1480.39,-235.38C1451.77,-205.66 1410.19,-162.49 1377.39,-128.43\"/>\n",
       "</g>\n",
       "<!-- (&#39;reactions_store&#39;,)&#45;&gt;(&#39;simple_single_copasi_composition&#39;,) -->\n",
       "<g id=\"edge27\" class=\"edge\">\n",
       "<title>(&#39;reactions_store&#39;,)&#45;&gt;(&#39;simple_single_copasi_composition&#39;,)</title>\n",
       "<path fill=\"none\" stroke=\"black\" stroke-dasharray=\"5,2\" d=\"M1465.18,-265.25C1265.36,-244.54 518.15,-166.22 471,-148.11 442.73,-137.25 414.98,-116.84 395.42,-100.35\"/>\n",
       "<polygon fill=\"black\" stroke=\"black\" points=\"397.77,-97.76 387.92,-93.86 393.19,-103.05 397.77,-97.76\"/>\n",
       "<text text-anchor=\"start\" x=\"646\" y=\"-167.86\" font-family=\"Times,serif\" font-size=\"10.00\">reactions</text>\n",
       "</g>\n",
       "<!-- (&#39;emitter&#39;,) -->\n",
       "<g id=\"node28\" class=\"node\">\n",
       "<title>(&#39;emitter&#39;,)</title>\n",
       "<polygon fill=\"none\" stroke=\"black\" stroke-width=\"2\" points=\"1634,-289.29 1580,-289.29 1580,-253.29 1634,-253.29 1634,-289.29\"/>\n",
       "<text text-anchor=\"start\" x=\"1590.88\" y=\"-267.01\" font-family=\"Times,serif\" font-size=\"12.00\">emitter</text>\n",
       "</g>\n",
       "</g>\n",
       "</svg>\n"
      ],
      "text/plain": [
       "<graphviz.graphs.Digraph at 0x29d795de0>"
      ]
     },
     "execution_count": 12,
     "metadata": {},
     "output_type": "execute_result"
    }
   ],
   "source": [
    "# 5. Visualize the fully-connected composition:\n",
    "\n",
    "prompter.visualize_bigraph()"
   ]
  },
  {
   "cell_type": "markdown",
   "id": "b65a6fab79ad097c",
   "metadata": {
    "collapsed": false
   },
   "source": [
    "#### **_Experiment 2_**: Load an SBML model from a specified model filepath and add Model changes to the composite before adding it to the bigraph."
   ]
  },
  {
   "cell_type": "code",
   "execution_count": 10,
   "id": "2ffaa0d37d807d2c",
   "metadata": {
    "ExecuteTime": {
     "end_time": "2024-03-14T23:40:41.996211Z",
     "start_time": "2024-03-14T23:40:41.994252Z"
    },
    "collapsed": false
   },
   "outputs": [],
   "source": [
    "from biosimulator_processes.data_model import TimeCourseModelChanges, ModelChanges, ModelChange"
   ]
  }
 ],
 "metadata": {
  "kernelspec": {
   "display_name": "Python 3",
   "language": "python",
   "name": "python3"
  },
  "language_info": {
   "codemirror_mode": {
    "name": "ipython",
    "version": 2
   },
   "file_extension": ".py",
   "mimetype": "text/x-python",
   "name": "python",
   "nbconvert_exporter": "python",
   "pygments_lexer": "ipython2",
   "version": "2.7.6"
  }
 },
 "nbformat": 4,
 "nbformat_minor": 5
}
