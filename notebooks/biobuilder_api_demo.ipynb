{
 "cells": [
  {
   "cell_type": "markdown",
   "id": "8087f67dcdaefdee",
   "metadata": {
    "collapsed": false
   },
   "source": [
    "# BioBuilder API Demo"
   ]
  },
  {
   "cell_type": "code",
   "execution_count": 1,
   "id": "initial_id",
   "metadata": {
    "ExecuteTime": {
     "end_time": "2024-03-15T16:56:01.487782Z",
     "start_time": "2024-03-15T16:56:00.643828Z"
    },
    "collapsed": true
   },
   "outputs": [
    {
     "name": "stdout",
     "output_type": "stream",
     "text": [
      "True\n"
     ]
    },
    {
     "data": {
      "text/plain": [
       "{'name': 'Reppas2015 - tumor control via alternating immunostimulating and immunosuppressive phases',\n",
       " 'description': 'The paper describes a model of tumor control via alternating immunostimulating and immunosuppressive phases. \\r\\nCreated by COPASI 4.25 (Build 207) \\r\\n\\r\\nThis model is described in the article: \\r\\nIn silico tumor control induced via alternating immunostimulating and immunosuppressive phases\\r\\nAI Reppas, JCL Alfonso, and H Hatzikirou\\r\\nVirulence 7:2, 174--186\\r\\n\\r\\nAbstract: \\r\\nDespite recent advances in the field of Oncoimmunology, the success potential of immunomodulatory therapies against cancer remains to be elucidated. One of the reasons is the lack of understanding on the complex interplay between tumor growth dynamics and the associated immune system responses. Toward this goal, we consider a mathematical model of vascularized tumor growth and the corresponding effector cell recruitment dynamics. Bifurcation analysis allows for the exploration of model’s dynamic behavior and the determination of these parameter regimes that result in immune-mediated tumor control. In this work, we focus on a particular tumor evasion regime that involves tumor and effector cell concentration oscillations of slowly increasing and decreasing amplitude, respectively. Considering a temporal multiscale analysis, we derive an analytically tractable mapping of model solutions onto a weakly negatively damped harmonic oscillator. Based on our analysis, we propose a theory-driven intervention strategy involving immunostimulating and immunosuppressive phases to induce long-term tumor control.\\r\\n\\r\\nTo cite BioModels Database, please use: BioModels Database: An enhanced, curated and annotated resource for published quantitative kinetic models . \\r\\nTo the extent possible under law, all copyright and related or neighbouring rights to this encoded model have been dedicated to the public domain worldwide. \\r\\nPlease refer to CC0 Public Domain Dedication for more information.',\n",
       " 'format': {'name': 'SBML', 'version': 'L3V1'},\n",
       " 'publication': {'journal': 'Virulence',\n",
       "  'title': 'In silico tumor control induced via alternating immunostimulating and immunosuppressive phases.',\n",
       "  'affiliation': 'a Center for Advancing Electronics; Technische Universität Dresden ; Dresden , Germany.',\n",
       "  'synopsis': \"Despite recent advances in the field of Oncoimmunology, the success potential of immunomodulatory therapies against cancer remains to be elucidated. One of the reasons is the lack of understanding on the complex interplay between tumor growth dynamics and the associated immune system responses. Toward this goal, we consider a mathematical model of vascularized tumor growth and the corresponding effector cell recruitment dynamics. Bifurcation analysis allows for the exploration of model's dynamic behavior and the determination of these parameter regimes that result in immune-mediated tumor control. In this work, we focus on a particular tumor evasion regime that involves tumor and effector cell concentration oscillations of slowly increasing and decreasing amplitude, respectively. Considering a temporal multiscale analysis, we derive an analytically tractable mapping of model solutions onto a weakly negatively damped harmonic oscillator. Based on our analysis, we propose a theory-driven intervention strategy involving immunostimulating and immunosuppressive phases to induce long-term tumor control.\",\n",
       "  'year': 2016,\n",
       "  'month': '1',\n",
       "  'volume': '7',\n",
       "  'issue': '2',\n",
       "  'pages': '174-186',\n",
       "  'link': 'http://identifiers.org/pubmed/26305801',\n",
       "  'authors': [{'name': 'Reppas AI'},\n",
       "   {'name': 'Alfonso JC'},\n",
       "   {'name': 'Hatzikirou H', 'orcid': '0000-0002-1270-7885'}]},\n",
       " 'files': {'main': [{'name': 'Reppas2015.xml', 'fileSize': '62675'}],\n",
       "  'additional': [{'name': 'Reppas2015.cps',\n",
       "    'fileSize': '81326',\n",
       "    'description': 'CPS file of the model in COPASI'},\n",
       "   {'name': 'Reppas2015.sedml',\n",
       "    'fileSize': '2191',\n",
       "    'description': 'Auto-generated SEDML file'}]},\n",
       " 'history': {'revisions': [{'version': 2,\n",
       "    'submitted': 1562858737000,\n",
       "    'submitter': 'Jinghao Men',\n",
       "    'comment': 'Edited model metadata online.'},\n",
       "   {'version': 3,\n",
       "    'submitted': 1562858822000,\n",
       "    'submitter': 'Jinghao Men',\n",
       "    'comment': 'Automatically added model identifier BIOMD0000000749'}]},\n",
       " 'firstPublished': 1562858819000,\n",
       " 'submissionId': 'MODEL1907110002',\n",
       " 'publicationId': 'BIOMD0000000749'}"
      ]
     },
     "execution_count": 1,
     "metadata": {},
     "output_type": "execute_result"
    }
   ],
   "source": [
    "import sys\n",
    "\n",
    "sys.path.insert(0, '..')\n",
    "\n",
    "import os\n",
    "import requests\n",
    "\n",
    "caravagna_model_filepath = '../biosimulator_processes/model_files/Caravagna2010.xml'\n",
    "print(os.path.exists(caravagna_model_filepath))\n",
    "\n",
    "tumor_control_biomodel_id = 'BIOMD0000000749'\n",
    "requests.get('https://www.ebi.ac.uk/biomodels/BIOMD0000000749', headers={'accept': 'application/json'}).json()"
   ]
  },
  {
   "cell_type": "markdown",
   "id": "572ce5fd9c49efcb",
   "metadata": {
    "collapsed": false
   },
   "source": [
    "#### **_Experiment 1_**:  Here we cross a boundary in the stack that is a biological simulation. We go from model configuration, to experiment. Thus, this tooling sits at that level: both experiment specification AND experiment execution. It's not just a way to specify an experiment, but it is also a way to run it, given the many knobs and buttons that you can use predefine and customize the way the actual model is being solved. Our users are seeking to be involved in an experiment as a \"stack\". We should make a bigger distinction between terms like \"model\"."
   ]
  },
  {
   "cell_type": "code",
   "execution_count": 2,
   "id": "e3218a2629726818",
   "metadata": {
    "ExecuteTime": {
     "end_time": "2024-03-15T16:56:03.173148Z",
     "start_time": "2024-03-15T16:56:01.489220Z"
    },
    "collapsed": false
   },
   "outputs": [
    {
     "name": "stdout",
     "output_type": "stream",
     "text": [
      "CobraProcess registered successfully.\n",
      "CopasiProcess registered successfully.\n",
      "SmoldynProcess registered successfully.\n",
      "TelluriumProcess registered successfully.\n"
     ]
    }
   ],
   "source": [
    "from process_bigraph import pp\n",
    "from biosimulator_processes.biosimulator_builder import BuildPrompter\n",
    "from biosimulator_processes.data_model import TimeCourseProcess, TimeCourseModel"
   ]
  },
  {
   "cell_type": "code",
   "execution_count": 3,
   "id": "871b58285775fb24",
   "metadata": {
    "ExecuteTime": {
     "end_time": "2024-03-15T16:56:03.175956Z",
     "start_time": "2024-03-15T16:56:03.173763Z"
    },
    "collapsed": false
   },
   "outputs": [
    {
     "name": "stdout",
     "output_type": "stream",
     "text": [
      "TimeCourseModel(model_source='BIOMD0000000749',\n",
      "                model_id='model_from_BIOMD0000000749',\n",
      "                model_name='model_from_BIOMD0000000749',\n",
      "                model_language='sbml',\n",
      "                model_changes=None,\n",
      "                model_units=None)\n"
     ]
    }
   ],
   "source": [
    "# 1a. define a model for the process composition. In this case, just one model to be re-used as configuration for the processes we create:\n",
    "\n",
    "tc_model = TimeCourseModel(model_source=tumor_control_biomodel_id)\n",
    "\n",
    "pp(tc_model)"
   ]
  },
  {
   "cell_type": "code",
   "execution_count": 4,
   "id": "a30f5e94167513c9",
   "metadata": {
    "ExecuteTime": {
     "end_time": "2024-03-15T16:56:03.179053Z",
     "start_time": "2024-03-15T16:56:03.177453Z"
    },
    "collapsed": false
   },
   "outputs": [],
   "source": [
    "# 1b. define a TimeCourse process instance using the above object as a parameter. The other parameter is method. See BasiCO documentation for more details on solvers\n",
    "\n",
    "tc_process = TimeCourseProcess(model=tc_model, method='tauleap')"
   ]
  },
  {
   "cell_type": "code",
   "execution_count": 5,
   "id": "a9c15126dda87970",
   "metadata": {
    "ExecuteTime": {
     "end_time": "2024-03-15T16:56:03.181316Z",
     "start_time": "2024-03-15T16:56:03.179593Z"
    },
    "collapsed": false
   },
   "outputs": [
    {
     "name": "stdout",
     "output_type": "stream",
     "text": [
      "TimeCourseProcess(model=TimeCourseModel(model_source='BIOMD0000000749',\n",
      "                                        model_id='model_from_BIOMD0000000749',\n",
      "                                        model_name='model_from_BIOMD0000000749',\n",
      "                                        model_language='sbml',\n",
      "                                        model_changes=None,\n",
      "                                        model_units=None),\n",
      "                  method='tauleap')\n"
     ]
    }
   ],
   "source": [
    "# >> The process model instance is viewable as a dataclass...\n",
    "\n",
    "pp(tc_process)"
   ]
  },
  {
   "cell_type": "code",
   "execution_count": 6,
   "id": "ba3d6e8bae50f216",
   "metadata": {
    "ExecuteTime": {
     "end_time": "2024-03-15T16:56:03.183672Z",
     "start_time": "2024-03-15T16:56:03.182141Z"
    },
    "collapsed": false
   },
   "outputs": [
    {
     "name": "stdout",
     "output_type": "stream",
     "text": [
      "{ 'method': 'tauleap',\n",
      "  'model': { 'model_changes': None,\n",
      "             'model_id': 'model_from_BIOMD0000000749',\n",
      "             'model_language': 'sbml',\n",
      "             'model_name': 'model_from_BIOMD0000000749',\n",
      "             'model_source': 'BIOMD0000000749',\n",
      "             'model_units': None}}\n"
     ]
    }
   ],
   "source": [
    "# >> ...or a dict:\n",
    "\n",
    "pp(tc_process.to_dict())"
   ]
  },
  {
   "cell_type": "code",
   "execution_count": 7,
   "id": "f6d099ae829fb063",
   "metadata": {
    "ExecuteTime": {
     "end_time": "2024-03-15T16:56:03.185994Z",
     "start_time": "2024-03-15T16:56:03.184522Z"
    },
    "collapsed": false
   },
   "outputs": [],
   "source": [
    "# 2. instantiate the prompter:\n",
    "\n",
    "prompter = BuildPrompter()"
   ]
  },
  {
   "cell_type": "code",
   "execution_count": 8,
   "id": "6ff0228586348da1",
   "metadata": {
    "ExecuteTime": {
     "end_time": "2024-03-15T16:56:12.056784Z",
     "start_time": "2024-03-15T16:56:03.186587Z"
    },
    "collapsed": false
   },
   "outputs": [
    {
     "name": "stdout",
     "output_type": "stream",
     "text": [
      "simple_a process successfully added to the bi-graph!\n",
      "All nodes including the most recently added simple_a processes connected!\n",
      "Done adding single simple_a (CopasiProcess) to the bigraph.\n"
     ]
    }
   ],
   "source": [
    "# 3. add process(es) to the bigraph with the Time Course model instance we created above. For now, just one process will be added.\n",
    "\n",
    "prompter.add_single_process(config=tc_process)"
   ]
  },
  {
   "cell_type": "code",
   "execution_count": 9,
   "id": "b833c7217603645c",
   "metadata": {
    "ExecuteTime": {
     "end_time": "2024-03-15T16:56:12.060256Z",
     "start_time": "2024-03-15T16:56:12.057701Z"
    },
    "collapsed": false
   },
   "outputs": [
    {
     "name": "stdout",
     "output_type": "stream",
     "text": [
      "Builder({ 'emitter': { '_type': 'step',\n",
      "               'address': 'local:ram-emitter',\n",
      "               'config': {'emit': {}},\n",
      "               'inputs': {},\n",
      "               'instance': <process_bigraph.composite.RAMEmitter object at 0x293f35420>,\n",
      "               'outputs': {}},\n",
      "  'simple_a': { '_type': 'process',\n",
      "                'address': 'local:CopasiProcess',\n",
      "                'config': { 'method': 'tauleap',\n",
      "                            'model': { 'model_changes': { 'global_parameter_changes': None,\n",
      "                                                          'reaction_changes': None,\n",
      "                                                          'species_changes': None},\n",
      "                                       'model_id': 'model_from_BIOMD0000000749',\n",
      "                                       'model_language': 'sbml',\n",
      "                                       'model_name': 'model_from_BIOMD0000000749',\n",
      "                                       'model_source': 'BIOMD0000000749',\n",
      "                                       'model_units': None}},\n",
      "                'inputs': { 'floating_species': ['floating_species_store'],\n",
      "                            'model_parameters': ['model_parameters_store'],\n",
      "                            'reactions': ['reactions_store'],\n",
      "                            'time': ['time_store']},\n",
      "                'instance': <biosimulator_processes.processes.copasi_process.CopasiProcess object at 0x293f35510>,\n",
      "                'interval': 1.0,\n",
      "                'outputs': { 'floating_species': ['floating_species_store'],\n",
      "                             'time': ['time_store']}}})\n"
     ]
    }
   ],
   "source": [
    "# 4. Inspect the builder instance within prompter:\n",
    "\n",
    "pp(prompter.builder_instance)"
   ]
  },
  {
   "cell_type": "code",
   "execution_count": 10,
   "id": "8400f44e3a2e8433",
   "metadata": {
    "ExecuteTime": {
     "end_time": "2024-03-15T16:56:12.249591Z",
     "start_time": "2024-03-15T16:56:12.062455Z"
    },
    "collapsed": false
   },
   "outputs": [
    {
     "data": {
      "image/svg+xml": [
       "<?xml version=\"1.0\" encoding=\"UTF-8\" standalone=\"no\"?>\n",
       "<!DOCTYPE svg PUBLIC \"-//W3C//DTD SVG 1.1//EN\"\n",
       " \"http://www.w3.org/Graphics/SVG/1.1/DTD/svg11.dtd\">\n",
       "<!-- Generated by graphviz version 9.0.0 (20230911.1827)\n",
       " -->\n",
       "<!-- Title: bigraph Pages: 1 -->\n",
       "<svg width=\"1120pt\" height=\"186pt\"\n",
       " viewBox=\"0.00 0.00 1152.00 191.71\" xmlns=\"http://www.w3.org/2000/svg\" xmlns:xlink=\"http://www.w3.org/1999/xlink\">\n",
       "<g id=\"graph0\" class=\"graph\" transform=\"scale(0.524709 0.524709) rotate(0) translate(4 351.21)\">\n",
       "<title>bigraph</title>\n",
       "<polygon fill=\"white\" stroke=\"none\" points=\"-4,4 -4,-351.21 2130.51,-351.21 2130.51,4 -4,4\"/>\n",
       "<!-- (&#39;time_store&#39;,) -->\n",
       "<g id=\"node1\" class=\"node\">\n",
       "<title>(&#39;time_store&#39;,)</title>\n",
       "<ellipse fill=\"none\" stroke=\"black\" stroke-width=\"2\" cx=\"384\" cy=\"-271.29\" rx=\"34.83\" ry=\"34.83\"/>\n",
       "<text text-anchor=\"start\" x=\"359.62\" y=\"-267.01\" font-family=\"Times,serif\" font-size=\"12.00\">time_store</text>\n",
       "</g>\n",
       "<!-- (&#39;simple_a&#39;,) -->\n",
       "<g id=\"node29\" class=\"node\">\n",
       "<title>(&#39;simple_a&#39;,)</title>\n",
       "<polygon fill=\"none\" stroke=\"black\" stroke-width=\"2\" points=\"411,-92.06 357,-92.06 357,-56.06 411,-56.06 411,-92.06\"/>\n",
       "<text text-anchor=\"start\" x=\"363\" y=\"-69.78\" font-family=\"Times,serif\" font-size=\"12.00\">simple_a</text>\n",
       "</g>\n",
       "<!-- (&#39;time_store&#39;,)&#45;&gt;(&#39;simple_a&#39;,) -->\n",
       "<g id=\"edge24\" class=\"edge\">\n",
       "<title>(&#39;time_store&#39;,)&#45;&gt;(&#39;simple_a&#39;,)</title>\n",
       "<path fill=\"none\" stroke=\"black\" stroke-dasharray=\"5,2\" d=\"M373.07,-237.16C367.56,-216.78 362.53,-190.07 365,-166.11 367.17,-145.13 372.07,-121.85 376.35,-104.09\"/>\n",
       "<polygon fill=\"black\" stroke=\"black\" points=\"379.72,-105.04 378.74,-94.49 372.93,-103.35 379.72,-105.04\"/>\n",
       "<text text-anchor=\"start\" x=\"365\" y=\"-167.86\" font-family=\"Times,serif\" font-size=\"10.00\">time</text>\n",
       "</g>\n",
       "<!-- (&#39;time_store&#39;,)&#45;&gt;(&#39;simple_a&#39;,) -->\n",
       "<g id=\"edge28\" class=\"edge\">\n",
       "<title>(&#39;time_store&#39;,)&#45;&gt;(&#39;simple_a&#39;,)</title>\n",
       "<path fill=\"none\" stroke=\"black\" stroke-dasharray=\"5,2\" d=\"M384,-224.52C384,-182.59 384,-122.68 384,-93.05\"/>\n",
       "<polygon fill=\"black\" stroke=\"black\" points=\"380.5,-224.32 384,-234.32 387.5,-224.32 380.5,-224.32\"/>\n",
       "<text text-anchor=\"start\" x=\"384\" y=\"-167.86\" font-family=\"Times,serif\" font-size=\"10.00\">time</text>\n",
       "</g>\n",
       "<!-- (&#39;floating_species_store&#39;,) -->\n",
       "<g id=\"node2\" class=\"node\">\n",
       "<title>(&#39;floating_species_store&#39;,)</title>\n",
       "<ellipse fill=\"none\" stroke=\"black\" stroke-width=\"2\" cx=\"139\" cy=\"-271.29\" rx=\"69.39\" ry=\"69.39\"/>\n",
       "<text text-anchor=\"start\" x=\"86.88\" y=\"-267.01\" font-family=\"Times,serif\" font-size=\"12.00\">floating_species_store</text>\n",
       "</g>\n",
       "<!-- (&#39;floating_species_store&#39;, &#39;E&#39;) -->\n",
       "<g id=\"node3\" class=\"node\">\n",
       "<title>(&#39;floating_species_store&#39;, &#39;E&#39;)</title>\n",
       "<ellipse fill=\"none\" stroke=\"black\" stroke-width=\"2\" cx=\"180\" cy=\"-74.06\" rx=\"18\" ry=\"18\"/>\n",
       "<text text-anchor=\"start\" x=\"176.25\" y=\"-69.78\" font-family=\"Times,serif\" font-size=\"12.00\">E</text>\n",
       "</g>\n",
       "<!-- (&#39;floating_species_store&#39;,)&#45;&gt;(&#39;floating_species_store&#39;, &#39;E&#39;) -->\n",
       "<g id=\"edge1\" class=\"edge\">\n",
       "<title>(&#39;floating_species_store&#39;,)&#45;&gt;(&#39;floating_species_store&#39;, &#39;E&#39;)</title>\n",
       "<path fill=\"none\" stroke=\"black\" stroke-width=\"2\" d=\"M153.22,-202.55C161.46,-163.35 171.19,-117.02 176.35,-92.43\"/>\n",
       "</g>\n",
       "<!-- (&#39;floating_species_store&#39;, &#39;R&#39;) -->\n",
       "<g id=\"node4\" class=\"node\">\n",
       "<title>(&#39;floating_species_store&#39;, &#39;R&#39;)</title>\n",
       "<ellipse fill=\"none\" stroke=\"black\" stroke-width=\"2\" cx=\"18\" cy=\"-74.06\" rx=\"18\" ry=\"18\"/>\n",
       "<text text-anchor=\"start\" x=\"13.88\" y=\"-69.78\" font-family=\"Times,serif\" font-size=\"12.00\">R</text>\n",
       "</g>\n",
       "<!-- (&#39;floating_species_store&#39;,)&#45;&gt;(&#39;floating_species_store&#39;, &#39;R&#39;) -->\n",
       "<g id=\"edge2\" class=\"edge\">\n",
       "<title>(&#39;floating_species_store&#39;,)&#45;&gt;(&#39;floating_species_store&#39;, &#39;R&#39;)</title>\n",
       "<path fill=\"none\" stroke=\"black\" stroke-width=\"2\" d=\"M93.18,-217.98C76.5,-197.2 58.46,-172.47 45,-148.11 34.99,-130.01 27.3,-107.45 22.74,-92.23\"/>\n",
       "</g>\n",
       "<!-- (&#39;floating_species_store&#39;, &#39;f&#39;) -->\n",
       "<g id=\"node5\" class=\"node\">\n",
       "<title>(&#39;floating_species_store&#39;, &#39;f&#39;)</title>\n",
       "<ellipse fill=\"none\" stroke=\"black\" stroke-width=\"2\" cx=\"72\" cy=\"-74.06\" rx=\"18\" ry=\"18\"/>\n",
       "<text text-anchor=\"start\" x=\"70.12\" y=\"-69.78\" font-family=\"Times,serif\" font-size=\"12.00\">f</text>\n",
       "</g>\n",
       "<!-- (&#39;floating_species_store&#39;,)&#45;&gt;(&#39;floating_species_store&#39;, &#39;f&#39;) -->\n",
       "<g id=\"edge3\" class=\"edge\">\n",
       "<title>(&#39;floating_species_store&#39;,)&#45;&gt;(&#39;floating_species_store&#39;, &#39;f&#39;)</title>\n",
       "<path fill=\"none\" stroke=\"black\" stroke-width=\"2\" d=\"M116.5,-204.73C102.82,-164.86 86.38,-116.95 77.82,-92.01\"/>\n",
       "</g>\n",
       "<!-- (&#39;floating_species_store&#39;, &quot;E&#39;&quot;) -->\n",
       "<g id=\"node6\" class=\"node\">\n",
       "<title>(&#39;floating_species_store&#39;, &quot;E&#39;&quot;)</title>\n",
       "<ellipse fill=\"none\" stroke=\"black\" stroke-width=\"2\" cx=\"126\" cy=\"-74.06\" rx=\"18\" ry=\"18\"/>\n",
       "<text text-anchor=\"start\" x=\"121.12\" y=\"-69.78\" font-family=\"Times,serif\" font-size=\"12.00\">E&#39;</text>\n",
       "</g>\n",
       "<!-- (&#39;floating_species_store&#39;,)&#45;&gt;(&#39;floating_species_store&#39;, &quot;E&#39;&quot;) -->\n",
       "<g id=\"edge4\" class=\"edge\">\n",
       "<title>(&#39;floating_species_store&#39;,)&#45;&gt;(&#39;floating_species_store&#39;, &quot;E&#39;&quot;)</title>\n",
       "<path fill=\"none\" stroke=\"black\" stroke-width=\"2\" d=\"M134.4,-201.18C131.83,-162.57 128.82,-117.44 127.19,-93\"/>\n",
       "</g>\n",
       "<!-- (&#39;floating_species_store&#39;,)&#45;&gt;(&#39;simple_a&#39;,) -->\n",
       "<g id=\"edge25\" class=\"edge\">\n",
       "<title>(&#39;floating_species_store&#39;,)&#45;&gt;(&#39;simple_a&#39;,)</title>\n",
       "<path fill=\"none\" stroke=\"black\" stroke-dasharray=\"5,2\" d=\"M159.76,-204.07C166.31,-190.34 174.68,-176.81 185.25,-166.11 208.86,-142.22 294.84,-107.83 345.66,-88.89\"/>\n",
       "<polygon fill=\"black\" stroke=\"black\" points=\"346.65,-92.25 354.81,-85.5 344.22,-85.69 346.65,-92.25\"/>\n",
       "<text text-anchor=\"start\" x=\"186\" y=\"-167.86\" font-family=\"Times,serif\" font-size=\"10.00\">floating_species</text>\n",
       "</g>\n",
       "<!-- (&#39;floating_species_store&#39;,)&#45;&gt;(&#39;simple_a&#39;,) -->\n",
       "<g id=\"edge29\" class=\"edge\">\n",
       "<title>(&#39;floating_species_store&#39;,)&#45;&gt;(&#39;simple_a&#39;,)</title>\n",
       "<path fill=\"none\" stroke=\"black\" stroke-dasharray=\"5,2\" d=\"M202.26,-219.88C254.62,-178.16 325.99,-121.28 361.71,-92.81\"/>\n",
       "<polygon fill=\"black\" stroke=\"black\" points=\"200.2,-217.05 194.56,-226.01 204.56,-222.52 200.2,-217.05\"/>\n",
       "<text text-anchor=\"start\" x=\"269\" y=\"-167.86\" font-family=\"Times,serif\" font-size=\"10.00\">floating_species</text>\n",
       "</g>\n",
       "<!-- (&#39;model_parameters_store&#39;,) -->\n",
       "<g id=\"node7\" class=\"node\">\n",
       "<title>(&#39;model_parameters_store&#39;,)</title>\n",
       "<ellipse fill=\"none\" stroke=\"black\" stroke-width=\"2\" cx=\"709\" cy=\"-271.29\" rx=\"75.92\" ry=\"75.92\"/>\n",
       "<text text-anchor=\"start\" x=\"651.62\" y=\"-267.01\" font-family=\"Times,serif\" font-size=\"12.00\">model_parameters_store</text>\n",
       "</g>\n",
       "<!-- (&#39;model_parameters_store&#39;, &#39;B&#39;) -->\n",
       "<g id=\"node8\" class=\"node\">\n",
       "<title>(&#39;model_parameters_store&#39;, &#39;B&#39;)</title>\n",
       "<ellipse fill=\"none\" stroke=\"black\" stroke-width=\"2\" cx=\"655\" cy=\"-74.06\" rx=\"18\" ry=\"18\"/>\n",
       "<text text-anchor=\"start\" x=\"650.88\" y=\"-69.78\" font-family=\"Times,serif\" font-size=\"12.00\">B</text>\n",
       "</g>\n",
       "<!-- (&#39;model_parameters_store&#39;,)&#45;&gt;(&#39;model_parameters_store&#39;, &#39;B&#39;) -->\n",
       "<g id=\"edge5\" class=\"edge\">\n",
       "<title>(&#39;model_parameters_store&#39;,)&#45;&gt;(&#39;model_parameters_store&#39;, &#39;B&#39;)</title>\n",
       "<path fill=\"none\" stroke=\"black\" stroke-width=\"2\" d=\"M688.82,-197.31C678.27,-159.19 666.24,-115.7 659.75,-92.24\"/>\n",
       "</g>\n",
       "<!-- (&#39;model_parameters_store&#39;, &#39;lm&#39;) -->\n",
       "<g id=\"node9\" class=\"node\">\n",
       "<title>(&#39;model_parameters_store&#39;, &#39;lm&#39;)</title>\n",
       "<ellipse fill=\"none\" stroke=\"black\" stroke-width=\"2\" cx=\"709\" cy=\"-74.06\" rx=\"18\" ry=\"18\"/>\n",
       "<text text-anchor=\"start\" x=\"703\" y=\"-69.78\" font-family=\"Times,serif\" font-size=\"12.00\">lm</text>\n",
       "</g>\n",
       "<!-- (&#39;model_parameters_store&#39;,)&#45;&gt;(&#39;model_parameters_store&#39;, &#39;lm&#39;) -->\n",
       "<g id=\"edge6\" class=\"edge\">\n",
       "<title>(&#39;model_parameters_store&#39;,)&#45;&gt;(&#39;model_parameters_store&#39;, &#39;lm&#39;)</title>\n",
       "<path fill=\"none\" stroke=\"black\" stroke-width=\"2\" d=\"M709,-194.53C709,-157.44 709,-115.92 709,-92.89\"/>\n",
       "</g>\n",
       "<!-- (&#39;model_parameters_store&#39;, &#39;la&#39;) -->\n",
       "<g id=\"node10\" class=\"node\">\n",
       "<title>(&#39;model_parameters_store&#39;, &#39;la&#39;)</title>\n",
       "<ellipse fill=\"none\" stroke=\"black\" stroke-width=\"2\" cx=\"763\" cy=\"-74.06\" rx=\"18\" ry=\"18\"/>\n",
       "<text text-anchor=\"start\" x=\"758.88\" y=\"-69.78\" font-family=\"Times,serif\" font-size=\"12.00\">la</text>\n",
       "</g>\n",
       "<!-- (&#39;model_parameters_store&#39;,)&#45;&gt;(&#39;model_parameters_store&#39;, &#39;la&#39;) -->\n",
       "<g id=\"edge7\" class=\"edge\">\n",
       "<title>(&#39;model_parameters_store&#39;,)&#45;&gt;(&#39;model_parameters_store&#39;, &#39;la&#39;)</title>\n",
       "<path fill=\"none\" stroke=\"black\" stroke-width=\"2\" d=\"M729.18,-197.31C739.73,-159.19 751.76,-115.7 758.25,-92.24\"/>\n",
       "</g>\n",
       "<!-- (&#39;model_parameters_store&#39;, &#39;ld&#39;) -->\n",
       "<g id=\"node11\" class=\"node\">\n",
       "<title>(&#39;model_parameters_store&#39;, &#39;ld&#39;)</title>\n",
       "<ellipse fill=\"none\" stroke=\"black\" stroke-width=\"2\" cx=\"817\" cy=\"-74.06\" rx=\"18\" ry=\"18\"/>\n",
       "<text text-anchor=\"start\" x=\"812.5\" y=\"-69.78\" font-family=\"Times,serif\" font-size=\"12.00\">ld</text>\n",
       "</g>\n",
       "<!-- (&#39;model_parameters_store&#39;,)&#45;&gt;(&#39;model_parameters_store&#39;, &#39;ld&#39;) -->\n",
       "<g id=\"edge8\" class=\"edge\">\n",
       "<title>(&#39;model_parameters_store&#39;,)&#45;&gt;(&#39;model_parameters_store&#39;, &#39;ld&#39;)</title>\n",
       "<path fill=\"none\" stroke=\"black\" stroke-width=\"2\" d=\"M753.72,-208.87C766.4,-189.93 779.57,-168.65 790,-148.11 799.36,-129.66 807.18,-107.17 811.95,-92.06\"/>\n",
       "</g>\n",
       "<!-- (&#39;model_parameters_store&#39;, &#39;c&#39;) -->\n",
       "<g id=\"node12\" class=\"node\">\n",
       "<title>(&#39;model_parameters_store&#39;, &#39;c&#39;)</title>\n",
       "<ellipse fill=\"none\" stroke=\"black\" stroke-width=\"2\" cx=\"871\" cy=\"-74.06\" rx=\"18\" ry=\"18\"/>\n",
       "<text text-anchor=\"start\" x=\"868.38\" y=\"-69.78\" font-family=\"Times,serif\" font-size=\"12.00\">c</text>\n",
       "</g>\n",
       "<!-- (&#39;model_parameters_store&#39;,)&#45;&gt;(&#39;model_parameters_store&#39;, &#39;c&#39;) -->\n",
       "<g id=\"edge9\" class=\"edge\">\n",
       "<title>(&#39;model_parameters_store&#39;,)&#45;&gt;(&#39;model_parameters_store&#39;, &#39;c&#39;)</title>\n",
       "<path fill=\"none\" stroke=\"black\" stroke-width=\"2\" d=\"M770.61,-225.36C796.1,-204.25 824.26,-177.31 844,-148.11 855.67,-130.86 863.07,-107.93 867.11,-92.39\"/>\n",
       "</g>\n",
       "<!-- (&#39;model_parameters_store&#39;, &#39;k&#39;) -->\n",
       "<g id=\"node13\" class=\"node\">\n",
       "<title>(&#39;model_parameters_store&#39;, &#39;k&#39;)</title>\n",
       "<ellipse fill=\"none\" stroke=\"black\" stroke-width=\"2\" cx=\"925\" cy=\"-74.06\" rx=\"18\" ry=\"18\"/>\n",
       "<text text-anchor=\"start\" x=\"922\" y=\"-69.78\" font-family=\"Times,serif\" font-size=\"12.00\">k</text>\n",
       "</g>\n",
       "<!-- (&#39;model_parameters_store&#39;,)&#45;&gt;(&#39;model_parameters_store&#39;, &#39;k&#39;) -->\n",
       "<g id=\"edge10\" class=\"edge\">\n",
       "<title>(&#39;model_parameters_store&#39;,)&#45;&gt;(&#39;model_parameters_store&#39;, &#39;k&#39;)</title>\n",
       "<path fill=\"none\" stroke=\"black\" stroke-width=\"2\" d=\"M778.66,-239.2C818.37,-218.4 866.36,-187.6 898,-148.11 911.1,-131.76 918.24,-108.42 921.83,-92.56\"/>\n",
       "</g>\n",
       "<!-- (&#39;model_parameters_store&#39;, &#39;d1&#39;) -->\n",
       "<g id=\"node14\" class=\"node\">\n",
       "<title>(&#39;model_parameters_store&#39;, &#39;d1&#39;)</title>\n",
       "<ellipse fill=\"none\" stroke=\"black\" stroke-width=\"2\" cx=\"979\" cy=\"-74.06\" rx=\"18\" ry=\"18\"/>\n",
       "<text text-anchor=\"start\" x=\"973\" y=\"-69.78\" font-family=\"Times,serif\" font-size=\"12.00\">d1</text>\n",
       "</g>\n",
       "<!-- (&#39;model_parameters_store&#39;,)&#45;&gt;(&#39;model_parameters_store&#39;, &#39;d1&#39;) -->\n",
       "<g id=\"edge11\" class=\"edge\">\n",
       "<title>(&#39;model_parameters_store&#39;,)&#45;&gt;(&#39;model_parameters_store&#39;, &#39;d1&#39;)</title>\n",
       "<path fill=\"none\" stroke=\"black\" stroke-width=\"2\" d=\"M782.65,-249.41C836.2,-230.79 906.92,-198.54 952,-148.11 966.06,-132.39 973.01,-108.7 976.29,-92.59\"/>\n",
       "</g>\n",
       "<!-- (&#39;model_parameters_store&#39;, &#39;d0&#39;) -->\n",
       "<g id=\"node15\" class=\"node\">\n",
       "<title>(&#39;model_parameters_store&#39;, &#39;d0&#39;)</title>\n",
       "<ellipse fill=\"none\" stroke=\"black\" stroke-width=\"2\" cx=\"485\" cy=\"-74.06\" rx=\"18\" ry=\"18\"/>\n",
       "<text text-anchor=\"start\" x=\"479\" y=\"-69.78\" font-family=\"Times,serif\" font-size=\"12.00\">d0</text>\n",
       "</g>\n",
       "<!-- (&#39;model_parameters_store&#39;,)&#45;&gt;(&#39;model_parameters_store&#39;, &#39;d0&#39;) -->\n",
       "<g id=\"edge12\" class=\"edge\">\n",
       "<title>(&#39;model_parameters_store&#39;,)&#45;&gt;(&#39;model_parameters_store&#39;, &#39;d0&#39;)</title>\n",
       "<path fill=\"none\" stroke=\"black\" stroke-width=\"2\" d=\"M638.77,-241.02C596.93,-220.45 545.6,-189.26 512,-148.11 498.74,-131.88 491.64,-108.52 488.1,-92.62\"/>\n",
       "</g>\n",
       "<!-- (&#39;model_parameters_store&#39;, &#39;sigma&#39;) -->\n",
       "<g id=\"node16\" class=\"node\">\n",
       "<title>(&#39;model_parameters_store&#39;, &#39;sigma&#39;)</title>\n",
       "<ellipse fill=\"none\" stroke=\"black\" stroke-width=\"2\" cx=\"543\" cy=\"-74.06\" rx=\"21.76\" ry=\"21.76\"/>\n",
       "<text text-anchor=\"start\" x=\"529.12\" y=\"-69.78\" font-family=\"Times,serif\" font-size=\"12.00\">sigma</text>\n",
       "</g>\n",
       "<!-- (&#39;model_parameters_store&#39;,)&#45;&gt;(&#39;model_parameters_store&#39;, &#39;sigma&#39;) -->\n",
       "<g id=\"edge13\" class=\"edge\">\n",
       "<title>(&#39;model_parameters_store&#39;,)&#45;&gt;(&#39;model_parameters_store&#39;, &#39;sigma&#39;)</title>\n",
       "<path fill=\"none\" stroke=\"black\" stroke-width=\"2\" d=\"M648.05,-224.9C622.67,-203.71 594.43,-176.83 574,-148.11 562.58,-132.06 554.25,-111.14 549.11,-95.81\"/>\n",
       "</g>\n",
       "<!-- (&#39;model_parameters_store&#39;, &#39;r&#39;) -->\n",
       "<g id=\"node17\" class=\"node\">\n",
       "<title>(&#39;model_parameters_store&#39;, &#39;r&#39;)</title>\n",
       "<ellipse fill=\"none\" stroke=\"black\" stroke-width=\"2\" cx=\"601\" cy=\"-74.06\" rx=\"18\" ry=\"18\"/>\n",
       "<text text-anchor=\"start\" x=\"599.12\" y=\"-69.78\" font-family=\"Times,serif\" font-size=\"12.00\">r</text>\n",
       "</g>\n",
       "<!-- (&#39;model_parameters_store&#39;,)&#45;&gt;(&#39;model_parameters_store&#39;, &#39;r&#39;) -->\n",
       "<g id=\"edge14\" class=\"edge\">\n",
       "<title>(&#39;model_parameters_store&#39;,)&#45;&gt;(&#39;model_parameters_store&#39;, &#39;r&#39;)</title>\n",
       "<path fill=\"none\" stroke=\"black\" stroke-width=\"2\" d=\"M664.28,-208.87C651.6,-189.93 638.43,-168.65 628,-148.11 618.64,-129.66 610.82,-107.17 606.05,-92.06\"/>\n",
       "</g>\n",
       "<!-- (&#39;model_parameters_store&#39;,)&#45;&gt;(&#39;simple_a&#39;,) -->\n",
       "<g id=\"edge26\" class=\"edge\">\n",
       "<title>(&#39;model_parameters_store&#39;,)&#45;&gt;(&#39;simple_a&#39;,)</title>\n",
       "<path fill=\"none\" stroke=\"black\" stroke-dasharray=\"5,2\" d=\"M633.71,-256.66C578.52,-243.67 504.2,-219.62 450.75,-177.36 425.76,-157.6 407.12,-125.81 395.97,-102.91\"/>\n",
       "<polygon fill=\"black\" stroke=\"black\" points=\"399.29,-101.73 391.89,-94.15 392.94,-104.69 399.29,-101.73\"/>\n",
       "<text text-anchor=\"start\" x=\"451\" y=\"-167.86\" font-family=\"Times,serif\" font-size=\"10.00\">model_parameters</text>\n",
       "</g>\n",
       "<!-- (&#39;reactions_store&#39;,) -->\n",
       "<g id=\"node18\" class=\"node\">\n",
       "<title>(&#39;reactions_store&#39;,)</title>\n",
       "<ellipse fill=\"none\" stroke=\"black\" stroke-width=\"2\" cx=\"1501\" cy=\"-271.29\" rx=\"48.37\" ry=\"48.37\"/>\n",
       "<text text-anchor=\"start\" x=\"1465.75\" y=\"-267.01\" font-family=\"Times,serif\" font-size=\"12.00\">reactions_store</text>\n",
       "</g>\n",
       "<!-- (&#39;reactions_store&#39;, &#39;tumor growth&#39;) -->\n",
       "<g id=\"node19\" class=\"node\">\n",
       "<title>(&#39;reactions_store&#39;, &#39;tumor growth&#39;)</title>\n",
       "<ellipse fill=\"none\" stroke=\"black\" stroke-width=\"2\" cx=\"1450\" cy=\"-74.06\" rx=\"44.64\" ry=\"44.64\"/>\n",
       "<text text-anchor=\"start\" x=\"1417.75\" y=\"-69.78\" font-family=\"Times,serif\" font-size=\"12.00\">tumor growth</text>\n",
       "</g>\n",
       "<!-- (&#39;reactions_store&#39;,)&#45;&gt;(&#39;reactions_store&#39;, &#39;tumor growth&#39;) -->\n",
       "<g id=\"edge15\" class=\"edge\">\n",
       "<title>(&#39;reactions_store&#39;,)&#45;&gt;(&#39;reactions_store&#39;, &#39;tumor growth&#39;)</title>\n",
       "<path fill=\"none\" stroke=\"black\" stroke-width=\"2\" d=\"M1488.78,-223.52C1480.42,-191.49 1469.4,-149.31 1461.24,-118.1\"/>\n",
       "</g>\n",
       "<!-- (&#39;reactions_store&#39;, &#39;tumor death&#39;) -->\n",
       "<g id=\"node20\" class=\"node\">\n",
       "<title>(&#39;reactions_store&#39;, &#39;tumor death&#39;)</title>\n",
       "<ellipse fill=\"none\" stroke=\"black\" stroke-width=\"2\" cx=\"1552\" cy=\"-74.06\" rx=\"39.5\" ry=\"39.5\"/>\n",
       "<text text-anchor=\"start\" x=\"1523.88\" y=\"-69.78\" font-family=\"Times,serif\" font-size=\"12.00\">tumor death</text>\n",
       "</g>\n",
       "<!-- (&#39;reactions_store&#39;,)&#45;&gt;(&#39;reactions_store&#39;, &#39;tumor death&#39;) -->\n",
       "<g id=\"edge16\" class=\"edge\">\n",
       "<title>(&#39;reactions_store&#39;,)&#45;&gt;(&#39;reactions_store&#39;, &#39;tumor death&#39;)</title>\n",
       "<path fill=\"none\" stroke=\"black\" stroke-width=\"2\" d=\"M1513.22,-223.52C1522.03,-189.79 1533.77,-144.83 1542.02,-113.25\"/>\n",
       "</g>\n",
       "<!-- (&#39;reactions_store&#39;, &#39;tumor killing&#39;) -->\n",
       "<g id=\"node21\" class=\"node\">\n",
       "<title>(&#39;reactions_store&#39;, &#39;tumor killing&#39;)</title>\n",
       "<ellipse fill=\"none\" stroke=\"black\" stroke-width=\"2\" cx=\"1652\" cy=\"-74.06\" rx=\"42.3\" ry=\"42.3\"/>\n",
       "<text text-anchor=\"start\" x=\"1621.62\" y=\"-69.78\" font-family=\"Times,serif\" font-size=\"12.00\">tumor killing</text>\n",
       "</g>\n",
       "<!-- (&#39;reactions_store&#39;,)&#45;&gt;(&#39;reactions_store&#39;, &#39;tumor killing&#39;) -->\n",
       "<g id=\"edge17\" class=\"edge\">\n",
       "<title>(&#39;reactions_store&#39;,)&#45;&gt;(&#39;reactions_store&#39;, &#39;tumor killing&#39;)</title>\n",
       "<path fill=\"none\" stroke=\"black\" stroke-width=\"2\" d=\"M1529.65,-231.28C1538.53,-219.56 1548.48,-206.79 1558,-195.36 1576.17,-173.54 1583.28,-170.3 1601,-148.11 1610.56,-136.15 1620.35,-122.51 1628.76,-110.28\"/>\n",
       "</g>\n",
       "<!-- (&#39;reactions_store&#39;, &#39;tumor nutrient supply&#39;) -->\n",
       "<g id=\"node22\" class=\"node\">\n",
       "<title>(&#39;reactions_store&#39;, &#39;tumor nutrient supply&#39;)</title>\n",
       "<ellipse fill=\"none\" stroke=\"black\" stroke-width=\"2\" cx=\"1780\" cy=\"-74.06\" rx=\"67.52\" ry=\"67.52\"/>\n",
       "<text text-anchor=\"start\" x=\"1729.38\" y=\"-69.78\" font-family=\"Times,serif\" font-size=\"12.00\">tumor nutrient supply</text>\n",
       "</g>\n",
       "<!-- (&#39;reactions_store&#39;,)&#45;&gt;(&#39;reactions_store&#39;, &#39;tumor nutrient supply&#39;) -->\n",
       "<g id=\"edge18\" class=\"edge\">\n",
       "<title>(&#39;reactions_store&#39;,)&#45;&gt;(&#39;reactions_store&#39;, &#39;tumor nutrient supply&#39;)</title>\n",
       "<path fill=\"none\" stroke=\"black\" stroke-width=\"2\" d=\"M1525.54,-228.94C1534.46,-216.73 1545.48,-204.26 1558,-195.36 1585.63,-175.73 1673.88,-165.45 1703,-148.11 1713.92,-141.61 1724.55,-133.3 1734.25,-124.64\"/>\n",
       "</g>\n",
       "<!-- (&#39;reactions_store&#39;, &#39;effector stimulation&#39;) -->\n",
       "<g id=\"node23\" class=\"node\">\n",
       "<title>(&#39;reactions_store&#39;, &#39;effector stimulation&#39;)</title>\n",
       "<ellipse fill=\"none\" stroke=\"black\" stroke-width=\"2\" cx=\"1927\" cy=\"-74.06\" rx=\"60.98\" ry=\"60.98\"/>\n",
       "<text text-anchor=\"start\" x=\"1881.62\" y=\"-69.78\" font-family=\"Times,serif\" font-size=\"12.00\">effector stimulation</text>\n",
       "</g>\n",
       "<!-- (&#39;reactions_store&#39;,)&#45;&gt;(&#39;reactions_store&#39;, &#39;effector stimulation&#39;) -->\n",
       "<g id=\"edge19\" class=\"edge\">\n",
       "<title>(&#39;reactions_store&#39;,)&#45;&gt;(&#39;reactions_store&#39;, &#39;effector stimulation&#39;)</title>\n",
       "<path fill=\"none\" stroke=\"black\" stroke-width=\"2\" d=\"M1524.46,-228.11C1533.39,-215.7 1544.67,-203.33 1558,-195.36 1586.87,-178.11 1827.19,-163.7 1857,-148.11 1868.99,-141.85 1880.09,-132.74 1889.77,-123.07\"/>\n",
       "</g>\n",
       "<!-- (&#39;reactions_store&#39;, &#39;effector exhaustion&#39;) -->\n",
       "<g id=\"node24\" class=\"node\">\n",
       "<title>(&#39;reactions_store&#39;, &#39;effector exhaustion&#39;)</title>\n",
       "<ellipse fill=\"none\" stroke=\"black\" stroke-width=\"2\" cx=\"2066\" cy=\"-74.06\" rx=\"60.51\" ry=\"60.51\"/>\n",
       "<text text-anchor=\"start\" x=\"2021\" y=\"-69.78\" font-family=\"Times,serif\" font-size=\"12.00\">effector exhaustion</text>\n",
       "</g>\n",
       "<!-- (&#39;reactions_store&#39;,)&#45;&gt;(&#39;reactions_store&#39;, &#39;effector exhaustion&#39;) -->\n",
       "<g id=\"edge20\" class=\"edge\">\n",
       "<title>(&#39;reactions_store&#39;,)&#45;&gt;(&#39;reactions_store&#39;, &#39;effector exhaustion&#39;)</title>\n",
       "<path fill=\"none\" stroke=\"black\" stroke-width=\"2\" d=\"M1523.95,-228.11C1532.9,-215.54 1544.34,-203.07 1558,-195.36 1568.68,-189.33 1986.01,-153.56 1997,-148.11 2009.03,-142.14 2020.07,-133.15 2029.62,-123.5\"/>\n",
       "</g>\n",
       "<!-- (&#39;reactions_store&#39;, &#39;effector death&#39;) -->\n",
       "<g id=\"node25\" class=\"node\">\n",
       "<title>(&#39;reactions_store&#39;, &#39;effector death&#39;)</title>\n",
       "<ellipse fill=\"none\" stroke=\"black\" stroke-width=\"2\" cx=\"1062\" cy=\"-74.06\" rx=\"44.64\" ry=\"44.64\"/>\n",
       "<text text-anchor=\"start\" x=\"1029.75\" y=\"-69.78\" font-family=\"Times,serif\" font-size=\"12.00\">effector death</text>\n",
       "</g>\n",
       "<!-- (&#39;reactions_store&#39;,)&#45;&gt;(&#39;reactions_store&#39;, &#39;effector death&#39;) -->\n",
       "<g id=\"edge21\" class=\"edge\">\n",
       "<title>(&#39;reactions_store&#39;,)&#45;&gt;(&#39;reactions_store&#39;, &#39;effector death&#39;)</title>\n",
       "<path fill=\"none\" stroke=\"black\" stroke-width=\"2\" d=\"M1452.31,-264.63C1374.76,-253.61 1221.24,-223.37 1116,-148.11 1103.43,-139.12 1092.57,-126.31 1083.95,-113.92\"/>\n",
       "</g>\n",
       "<!-- (&#39;reactions_store&#39;, &#39;effector source&#39;) -->\n",
       "<g id=\"node26\" class=\"node\">\n",
       "<title>(&#39;reactions_store&#39;, &#39;effector source&#39;)</title>\n",
       "<ellipse fill=\"none\" stroke=\"black\" stroke-width=\"2\" cx=\"1173\" cy=\"-74.06\" rx=\"47.91\" ry=\"47.91\"/>\n",
       "<text text-anchor=\"start\" x=\"1138.12\" y=\"-69.78\" font-family=\"Times,serif\" font-size=\"12.00\">effector source</text>\n",
       "</g>\n",
       "<!-- (&#39;reactions_store&#39;,)&#45;&gt;(&#39;reactions_store&#39;, &#39;effector source&#39;) -->\n",
       "<g id=\"edge22\" class=\"edge\">\n",
       "<title>(&#39;reactions_store&#39;,)&#45;&gt;(&#39;reactions_store&#39;, &#39;effector source&#39;)</title>\n",
       "<path fill=\"none\" stroke=\"black\" stroke-width=\"2\" d=\"M1453.91,-256.77C1396.71,-238.72 1299.3,-202.55 1230,-148.11 1218.36,-138.97 1207.73,-126.96 1198.88,-115.33\"/>\n",
       "</g>\n",
       "<!-- (&#39;reactions_store&#39;, &#39;tumor nutrient missuply&#39;) -->\n",
       "<g id=\"node27\" class=\"node\">\n",
       "<title>(&#39;reactions_store&#39;, &#39;tumor nutrient missuply&#39;)</title>\n",
       "<ellipse fill=\"none\" stroke=\"black\" stroke-width=\"2\" cx=\"1313\" cy=\"-74.06\" rx=\"74.06\" ry=\"74.06\"/>\n",
       "<text text-anchor=\"start\" x=\"1257.12\" y=\"-69.78\" font-family=\"Times,serif\" font-size=\"12.00\">tumor nutrient missuply</text>\n",
       "</g>\n",
       "<!-- (&#39;reactions_store&#39;,)&#45;&gt;(&#39;reactions_store&#39;, &#39;tumor nutrient missuply&#39;) -->\n",
       "<g id=\"edge23\" class=\"edge\">\n",
       "<title>(&#39;reactions_store&#39;,)&#45;&gt;(&#39;reactions_store&#39;, &#39;tumor nutrient missuply&#39;)</title>\n",
       "<path fill=\"none\" stroke=\"black\" stroke-width=\"2\" d=\"M1467.39,-235.38C1438.77,-205.66 1397.19,-162.49 1364.39,-128.43\"/>\n",
       "</g>\n",
       "<!-- (&#39;reactions_store&#39;,)&#45;&gt;(&#39;simple_a&#39;,) -->\n",
       "<g id=\"edge27\" class=\"edge\">\n",
       "<title>(&#39;reactions_store&#39;,)&#45;&gt;(&#39;simple_a&#39;,)</title>\n",
       "<path fill=\"none\" stroke=\"black\" stroke-dasharray=\"5,2\" d=\"M1452.24,-265.01C1249.27,-242.99 480.81,-159.07 458,-148.11 436.03,-137.56 416.65,-117.82 403.24,-101.52\"/>\n",
       "<polygon fill=\"black\" stroke=\"black\" points=\"406.31,-99.76 397.37,-94.08 400.82,-104.1 406.31,-99.76\"/>\n",
       "<text text-anchor=\"start\" x=\"669\" y=\"-167.86\" font-family=\"Times,serif\" font-size=\"10.00\">reactions</text>\n",
       "</g>\n",
       "<!-- (&#39;emitter&#39;,) -->\n",
       "<g id=\"node28\" class=\"node\">\n",
       "<title>(&#39;emitter&#39;,)</title>\n",
       "<polygon fill=\"none\" stroke=\"black\" stroke-width=\"2\" points=\"1621,-289.29 1567,-289.29 1567,-253.29 1621,-253.29 1621,-289.29\"/>\n",
       "<text text-anchor=\"start\" x=\"1577.88\" y=\"-267.01\" font-family=\"Times,serif\" font-size=\"12.00\">emitter</text>\n",
       "</g>\n",
       "</g>\n",
       "</svg>\n"
      ],
      "text/plain": [
       "<graphviz.graphs.Digraph at 0x293f36380>"
      ]
     },
     "execution_count": 10,
     "metadata": {},
     "output_type": "execute_result"
    }
   ],
   "source": [
    "# 5. Visualize the fully-connected composition:\n",
    "\n",
    "prompter.visualize_bigraph()"
   ]
  },
  {
   "cell_type": "code",
   "execution_count": 11,
   "id": "38052757b3b95baa",
   "metadata": {
    "ExecuteTime": {
     "end_time": "2024-03-15T16:56:15.537834Z",
     "start_time": "2024-03-15T16:56:12.250474Z"
    },
    "collapsed": false
   },
   "outputs": [
    {
     "name": "stderr",
     "output_type": "stream",
     "text": [
      "Error while running the simulation: >ERROR 2024-03-15T12:56:15<\n",
      "  CCopasiTask (5): No output file defined for report of task 'Time-Course'.>EXCEPTION 2024-03-15T12:56:15<\n",
      "  CTrajectoryMethod (12): Internal step limit exceeded.\n",
      "/Users/alex/Desktop/uchc_work/repos/biosimulator-processes/notebooks/../biosimulator_processes/processes/copasi_process.py:231: FutureWarning:\n",
      "\n",
      "Series.__getitem__ treating keys as positions is deprecated. In a future version, integer keys will always be treated as labels (consistent with DataFrame behavior). To access a value by position, use `ser.iloc[pos]`\n",
      "\n",
      "Error while running the simulation: >ERROR 2024-03-15T12:56:15<\n",
      "  CCopasiTask (5): No output file defined for report of task 'Time-Course'.>EXCEPTION 2024-03-15T12:56:15<\n",
      "  CTrajectoryMethod (12): Internal step limit exceeded.\n"
     ]
    },
    {
     "name": "stdout",
     "output_type": "stream",
     "text": [
      "Generating composite...\n",
      "Composite generated!\n",
      "Running generated composite for an interval of 2\n",
      "Composite successfully run. Request complete. Done.\n"
     ]
    }
   ],
   "source": [
    "# 6. Generate a composite engine and use to execute the bigraph that we just created:\n",
    "\n",
    "prompter.run()"
   ]
  },
  {
   "cell_type": "code",
   "execution_count": 12,
   "id": "4ce83c700a15635a",
   "metadata": {
    "ExecuteTime": {
     "end_time": "2024-03-15T16:56:15.541329Z",
     "start_time": "2024-03-15T16:56:15.538794Z"
    },
    "collapsed": false
   },
   "outputs": [
    {
     "name": "stdout",
     "output_type": "stream",
     "text": [
      "File 'demo_tumor_control_composite' successfully written in 'out' directory.\n"
     ]
    }
   ],
   "source": [
    "# 6. Save the composite to a document:\n",
    "\n",
    "prompter.builder_instance.write(filename='demo_tumor_control_composite')"
   ]
  },
  {
   "cell_type": "markdown",
   "id": "b65a6fab79ad097c",
   "metadata": {
    "collapsed": false
   },
   "source": [
    "#### **_Experiment 2_**: Load an SBML model from a specified model filepath and add Model changes to the composite before adding it to the bigraph. Here, we expect the user to be familiar enough with the model file they are passing to make individual species/parameter/reaction changes for specific species types. In the Caravagna model, for example, the species involved are T, E, I. Let's change the initial concentration for some of these as an example of model changes:"
   ]
  },
  {
   "cell_type": "code",
   "execution_count": 13,
   "id": "2ffaa0d37d807d2c",
   "metadata": {
    "ExecuteTime": {
     "end_time": "2024-03-15T16:56:15.543964Z",
     "start_time": "2024-03-15T16:56:15.542057Z"
    },
    "collapsed": false
   },
   "outputs": [],
   "source": [
    "from biosimulator_processes.data_model import TimeCourseModelChanges, ModelChanges, ModelChange"
   ]
  },
  {
   "cell_type": "code",
   "execution_count": 13,
   "id": "55e063c857e51f3",
   "metadata": {
    "ExecuteTime": {
     "end_time": "2024-03-15T16:56:15.545896Z",
     "start_time": "2024-03-15T16:56:15.544712Z"
    },
    "collapsed": false
   },
   "outputs": [],
   "source": [
    "# first make the timecourse model which is easily configured with objects related to model changes\n",
    "adjusted_tc_model_from_file = TimeCourseModel"
   ]
  }
 ],
 "metadata": {
  "kernelspec": {
   "display_name": "Python 3",
   "language": "python",
   "name": "python3"
  },
  "language_info": {
   "codemirror_mode": {
    "name": "ipython",
    "version": 2
   },
   "file_extension": ".py",
   "mimetype": "text/x-python",
   "name": "python",
   "nbconvert_exporter": "python",
   "pygments_lexer": "ipython2",
   "version": "2.7.6"
  }
 },
 "nbformat": 4,
 "nbformat_minor": 5
}
