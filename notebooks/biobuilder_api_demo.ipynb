{
 "cells": [
  {
   "cell_type": "markdown",
   "id": "8087f67dcdaefdee",
   "metadata": {
    "collapsed": false
   },
   "source": [
    "# BioBuilder API Demo"
   ]
  },
  {
   "cell_type": "code",
   "execution_count": 1,
   "id": "initial_id",
   "metadata": {
    "ExecuteTime": {
     "end_time": "2024-03-15T18:23:17.150069Z",
     "start_time": "2024-03-15T18:23:16.597581Z"
    },
    "collapsed": true
   },
   "outputs": [
    {
     "name": "stdout",
     "output_type": "stream",
     "text": [
      "True\n"
     ]
    },
    {
     "data": {
      "text/plain": [
       "{'name': 'Reppas2015 - tumor control via alternating immunostimulating and immunosuppressive phases',\n",
       " 'description': 'The paper describes a model of tumor control via alternating immunostimulating and immunosuppressive phases. \\r\\nCreated by COPASI 4.25 (Build 207) \\r\\n\\r\\nThis model is described in the article: \\r\\nIn silico tumor control induced via alternating immunostimulating and immunosuppressive phases\\r\\nAI Reppas, JCL Alfonso, and H Hatzikirou\\r\\nVirulence 7:2, 174--186\\r\\n\\r\\nAbstract: \\r\\nDespite recent advances in the field of Oncoimmunology, the success potential of immunomodulatory therapies against cancer remains to be elucidated. One of the reasons is the lack of understanding on the complex interplay between tumor growth dynamics and the associated immune system responses. Toward this goal, we consider a mathematical model of vascularized tumor growth and the corresponding effector cell recruitment dynamics. Bifurcation analysis allows for the exploration of model’s dynamic behavior and the determination of these parameter regimes that result in immune-mediated tumor control. In this work, we focus on a particular tumor evasion regime that involves tumor and effector cell concentration oscillations of slowly increasing and decreasing amplitude, respectively. Considering a temporal multiscale analysis, we derive an analytically tractable mapping of model solutions onto a weakly negatively damped harmonic oscillator. Based on our analysis, we propose a theory-driven intervention strategy involving immunostimulating and immunosuppressive phases to induce long-term tumor control.\\r\\n\\r\\nTo cite BioModels Database, please use: BioModels Database: An enhanced, curated and annotated resource for published quantitative kinetic models . \\r\\nTo the extent possible under law, all copyright and related or neighbouring rights to this encoded model have been dedicated to the public domain worldwide. \\r\\nPlease refer to CC0 Public Domain Dedication for more information.',\n",
       " 'format': {'name': 'SBML', 'version': 'L3V1'},\n",
       " 'publication': {'journal': 'Virulence',\n",
       "  'title': 'In silico tumor control induced via alternating immunostimulating and immunosuppressive phases.',\n",
       "  'affiliation': 'a Center for Advancing Electronics; Technische Universität Dresden ; Dresden , Germany.',\n",
       "  'synopsis': \"Despite recent advances in the field of Oncoimmunology, the success potential of immunomodulatory therapies against cancer remains to be elucidated. One of the reasons is the lack of understanding on the complex interplay between tumor growth dynamics and the associated immune system responses. Toward this goal, we consider a mathematical model of vascularized tumor growth and the corresponding effector cell recruitment dynamics. Bifurcation analysis allows for the exploration of model's dynamic behavior and the determination of these parameter regimes that result in immune-mediated tumor control. In this work, we focus on a particular tumor evasion regime that involves tumor and effector cell concentration oscillations of slowly increasing and decreasing amplitude, respectively. Considering a temporal multiscale analysis, we derive an analytically tractable mapping of model solutions onto a weakly negatively damped harmonic oscillator. Based on our analysis, we propose a theory-driven intervention strategy involving immunostimulating and immunosuppressive phases to induce long-term tumor control.\",\n",
       "  'year': 2016,\n",
       "  'month': '1',\n",
       "  'volume': '7',\n",
       "  'issue': '2',\n",
       "  'pages': '174-186',\n",
       "  'link': 'http://identifiers.org/pubmed/26305801',\n",
       "  'authors': [{'name': 'Reppas AI'},\n",
       "   {'name': 'Alfonso JC'},\n",
       "   {'name': 'Hatzikirou H', 'orcid': '0000-0002-1270-7885'}]},\n",
       " 'files': {'main': [{'name': 'Reppas2015.xml', 'fileSize': '62675'}],\n",
       "  'additional': [{'name': 'Reppas2015.cps',\n",
       "    'fileSize': '81326',\n",
       "    'description': 'CPS file of the model in COPASI'},\n",
       "   {'name': 'Reppas2015.sedml',\n",
       "    'fileSize': '2191',\n",
       "    'description': 'Auto-generated SEDML file'}]},\n",
       " 'history': {'revisions': [{'version': 2,\n",
       "    'submitted': 1562858737000,\n",
       "    'submitter': 'Jinghao Men',\n",
       "    'comment': 'Edited model metadata online.'},\n",
       "   {'version': 3,\n",
       "    'submitted': 1562858822000,\n",
       "    'submitter': 'Jinghao Men',\n",
       "    'comment': 'Automatically added model identifier BIOMD0000000749'}]},\n",
       " 'firstPublished': 1562858819000,\n",
       " 'submissionId': 'MODEL1907110002',\n",
       " 'publicationId': 'BIOMD0000000749'}"
      ]
     },
     "execution_count": 1,
     "metadata": {},
     "output_type": "execute_result"
    }
   ],
   "source": [
    "import sys\n",
    "\n",
    "sys.path.insert(0, '..')\n",
    "\n",
    "import os\n",
    "import requests\n",
    "\n",
    "caravagna_model_filepath = '../biosimulator_processes/model_files/Caravagna2010.xml'\n",
    "print(os.path.exists(caravagna_model_filepath))\n",
    "\n",
    "tumor_control_biomodel_id = 'BIOMD0000000749'\n",
    "requests.get('https://www.ebi.ac.uk/biomodels/BIOMD0000000749', headers={'accept': 'application/json'}).json()"
   ]
  },
  {
   "cell_type": "markdown",
   "id": "572ce5fd9c49efcb",
   "metadata": {
    "collapsed": false
   },
   "source": [
    "#### **_Experiment 1_**:  Here we cross a boundary in the stack that is a biological simulation. We go from model configuration, to experiment. Thus, this tooling sits at that level: both experiment specification AND experiment execution. It's not just a way to specify an experiment, but it is also a way to run it, given the many knobs and buttons that you can use predefine and customize the way the actual model is being solved. Our users are seeking to be involved in an experiment as a \"stack\". We should make a bigger distinction between terms like \"model\"."
   ]
  },
  {
   "cell_type": "code",
   "execution_count": 2,
   "id": "1511e9dc3b8c6ab9",
   "metadata": {
    "ExecuteTime": {
     "end_time": "2024-03-15T18:23:17.465844Z",
     "start_time": "2024-03-15T18:23:17.344343Z"
    },
    "collapsed": false
   },
   "outputs": [
    {
     "name": "stdout",
     "output_type": "stream",
     "text": [
      "biobuilder_api_demo.ipynb        parameter_scan.ipynb\r\n",
      "cobra_process_composer.ipynb     playground.ipynb\r\n",
      "copasi_process_composer.ipynb    smoldyn_process_composer.ipynb\r\n",
      "data_model_demo.ipynb            tellurium_process_composer.ipynb\r\n",
      "\u001b[34mout\u001b[m\u001b[m\r\n"
     ]
    }
   ],
   "source": [
    "!ls"
   ]
  },
  {
   "cell_type": "code",
   "execution_count": 3,
   "id": "e68fa1f2f2e08512",
   "metadata": {
    "ExecuteTime": {
     "end_time": "2024-03-15T18:23:18.068343Z",
     "start_time": "2024-03-15T18:23:18.066049Z"
    },
    "collapsed": false
   },
   "outputs": [],
   "source": [
    "sys.path.insert(0, '../biolab')"
   ]
  },
  {
   "cell_type": "code",
   "execution_count": 4,
   "id": "f6a546ba276abc26",
   "metadata": {
    "ExecuteTime": {
     "end_time": "2024-03-15T18:23:20.648738Z",
     "start_time": "2024-03-15T18:23:18.674280Z"
    },
    "collapsed": false
   },
   "outputs": [
    {
     "name": "stdout",
     "output_type": "stream",
     "text": [
      "CobraProcess registered successfully.\n",
      "CopasiProcess registered successfully.\n",
      "SmoldynProcess registered successfully.\n",
      "TelluriumProcess registered successfully.\n"
     ]
    }
   ],
   "source": [
    "from biosimulator_processes.data_model import SedDataModel as dm\n",
    "\n",
    "tc_model = dm.TimeCourseModel(model_source=caravagna_model_filepath)"
   ]
  },
  {
   "cell_type": "code",
   "execution_count": 6,
   "id": "60076f3628327fd2",
   "metadata": {
    "ExecuteTime": {
     "end_time": "2024-03-15T18:23:32.903109Z",
     "start_time": "2024-03-15T18:23:32.899425Z"
    },
    "collapsed": false
   },
   "outputs": [
    {
     "data": {
      "text/plain": [
       "ModelFilepath(value='../biosimulator_processes/model_files/Caravagna2010.xml')"
      ]
     },
     "execution_count": 6,
     "metadata": {},
     "output_type": "execute_result"
    }
   ],
   "source": [
    "tc_model.model_source"
   ]
  },
  {
   "cell_type": "code",
   "execution_count": null,
   "id": "e3218a2629726818",
   "metadata": {
    "collapsed": false
   },
   "outputs": [],
   "source": [
    "from process_bigraph import pp\n",
    "from biosimulator_processes.biosimulator_builder import BuildPrompter\n",
    "from biosimulator_processes.data_model import TimeCourseProcess, TimeCourseModel"
   ]
  },
  {
   "cell_type": "code",
   "execution_count": null,
   "id": "871b58285775fb24",
   "metadata": {
    "collapsed": false
   },
   "outputs": [],
   "source": [
    "# 1a. define a model for the process composition. In this case, just one model to be re-used as configuration for the processes we create:\n",
    "\n",
    "tc_model = TimeCourseModel(model_source=tumor_control_biomodel_id)\n",
    "\n",
    "pp(tc_model)"
   ]
  },
  {
   "cell_type": "code",
   "execution_count": null,
   "id": "a30f5e94167513c9",
   "metadata": {
    "collapsed": false
   },
   "outputs": [],
   "source": [
    "# 1b. define a TimeCourse process instance using the above object as a parameter. The other parameter is method. See BasiCO documentation for more details on solvers\n",
    "\n",
    "tc_process = TimeCourseProcess(model=tc_model, method='tauleap')"
   ]
  },
  {
   "cell_type": "code",
   "execution_count": null,
   "id": "a9c15126dda87970",
   "metadata": {
    "collapsed": false
   },
   "outputs": [],
   "source": [
    "# >> The process model instance is viewable as a dataclass...\n",
    "\n",
    "pp(tc_process)"
   ]
  },
  {
   "cell_type": "code",
   "execution_count": null,
   "id": "ba3d6e8bae50f216",
   "metadata": {
    "collapsed": false
   },
   "outputs": [],
   "source": [
    "# >> ...or a dict:\n",
    "\n",
    "pp(tc_process.to_dict())"
   ]
  },
  {
   "cell_type": "code",
   "execution_count": null,
   "id": "f6d099ae829fb063",
   "metadata": {
    "collapsed": false
   },
   "outputs": [],
   "source": [
    "# 2. instantiate the prompter:\n",
    "\n",
    "prompter = BuildPrompter()"
   ]
  },
  {
   "cell_type": "code",
   "execution_count": null,
   "id": "6ff0228586348da1",
   "metadata": {
    "collapsed": false
   },
   "outputs": [],
   "source": [
    "# 3. add process(es) to the bigraph with the Time Course model instance we created above. For now, just one process will be added.\n",
    "\n",
    "prompter.add_single_process(config=tc_process)"
   ]
  },
  {
   "cell_type": "code",
   "execution_count": null,
   "id": "b833c7217603645c",
   "metadata": {
    "collapsed": false
   },
   "outputs": [],
   "source": [
    "# 4. Inspect the builder instance within prompter:\n",
    "\n",
    "pp(prompter.builder_instance)"
   ]
  },
  {
   "cell_type": "code",
   "execution_count": null,
   "id": "8400f44e3a2e8433",
   "metadata": {
    "collapsed": false
   },
   "outputs": [],
   "source": [
    "# 5. Visualize the fully-connected composition:\n",
    "\n",
    "prompter.visualize_bigraph()"
   ]
  },
  {
   "cell_type": "code",
   "execution_count": null,
   "id": "38052757b3b95baa",
   "metadata": {
    "collapsed": false
   },
   "outputs": [],
   "source": [
    "# 6. Generate a composite engine and use to execute the bigraph that we just created:\n",
    "\n",
    "prompter.run()"
   ]
  },
  {
   "cell_type": "code",
   "execution_count": null,
   "id": "4ce83c700a15635a",
   "metadata": {
    "collapsed": false
   },
   "outputs": [],
   "source": [
    "# 6. Save the composite to a document:\n",
    "\n",
    "prompter.builder_instance.write(filename='demo_tumor_control_composite')"
   ]
  },
  {
   "cell_type": "markdown",
   "id": "b65a6fab79ad097c",
   "metadata": {
    "collapsed": false
   },
   "source": [
    "#### **_Experiment 2_**: Load an SBML model from a specified model filepath and add Model changes to the composite before adding it to the bigraph. Here, we expect the user to be familiar enough with the model file they are passing to make individual species/parameter/reaction changes for specific species types. In the Caravagna model, for example, the species involved are T, E, I. Let's change the initial concentration for some of these as an example of model changes:"
   ]
  },
  {
   "cell_type": "code",
   "execution_count": null,
   "id": "2ffaa0d37d807d2c",
   "metadata": {
    "collapsed": false
   },
   "outputs": [],
   "source": [
    "from biosimulator_processes.data_model import TimeCourseModelChanges, ModelChanges, ModelChange"
   ]
  },
  {
   "cell_type": "code",
   "execution_count": null,
   "id": "55e063c857e51f3",
   "metadata": {
    "collapsed": false
   },
   "outputs": [],
   "source": [
    "# first make the timecourse model which is easily configured with objects related to model changes\n",
    "adjusted_tc_model_from_file = TimeCourseModel"
   ]
  }
 ],
 "metadata": {
  "kernelspec": {
   "display_name": "Python 3",
   "language": "python",
   "name": "python3"
  },
  "language_info": {
   "codemirror_mode": {
    "name": "ipython",
    "version": 2
   },
   "file_extension": ".py",
   "mimetype": "text/x-python",
   "name": "python",
   "nbconvert_exporter": "python",
   "pygments_lexer": "ipython2",
   "version": "2.7.6"
  }
 },
 "nbformat": 4,
 "nbformat_minor": 5
}
