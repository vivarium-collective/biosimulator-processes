{
 "cells": [
  {
   "cell_type": "markdown",
   "id": "8087f67dcdaefdee",
   "metadata": {
    "collapsed": false
   },
   "source": [
    "# BioBuilder API Demo"
   ]
  },
  {
   "cell_type": "code",
   "execution_count": null,
   "id": "initial_id",
   "metadata": {
    "collapsed": true
   },
   "outputs": [],
   "source": [
    "import sys\n",
    "\n",
    "sys.path.insert(0, '..')\n",
    "\n",
    "import os\n",
    "import requests\n",
    "\n",
    "caravagna_model_filepath = '../biosimulator_processes/model_files/Caravagna2010.xml'\n",
    "print(os.path.exists(caravagna_model_filepath))\n",
    "\n",
    "tumor_control_biomodel_id = 'BIOMD0000000749'\n",
    "requests.get('https://www.ebi.ac.uk/biomodels/BIOMD0000000749', headers={'accept': 'application/json'}).json()"
   ]
  },
  {
   "cell_type": "markdown",
   "id": "572ce5fd9c49efcb",
   "metadata": {
    "collapsed": false
   },
   "source": [
    "#### **_Experiment 1_**:  Here we cross a boundary in the stack that is a biological simulation. We go from model configuration, to experiment. Thus, this tooling sits at that level: both experiment specification AND experiment execution. It's not just a way to specify an experiment, but it is also a way to run it, given the many knobs and buttons that you can use predefine and customize the way the actual model is being solved. Our users are seeking to be involved in an experiment as a \"stack\". We should make a bigger distinction between terms like \"model\"."
   ]
  },
  {
   "cell_type": "code",
   "execution_count": null,
   "id": "e3218a2629726818",
   "metadata": {
    "collapsed": false
   },
   "outputs": [],
   "source": [
    "from process_bigraph import pp\n",
    "from biosimulator_processes.biosimulator_builder import BuildPrompter\n",
    "from biosimulator_processes import SedDataModel as sed "
   ]
  },
  {
   "cell_type": "code",
   "execution_count": null,
   "id": "871b58285775fb24",
   "metadata": {
    "collapsed": false
   },
   "outputs": [],
   "source": [
    "# 1a. define a model for the process composition. In this case, just one model to be re-used as configuration for the processes we create:\n",
    "\n",
    "simple_tc_model = sed.TimeCourseModel(model_source=tumor_control_biomodel_id)\n",
    "\n",
    "pp(simple_tc_model)"
   ]
  },
  {
   "cell_type": "code",
   "execution_count": null,
   "id": "a30f5e94167513c9",
   "metadata": {
    "collapsed": false
   },
   "outputs": [],
   "source": [
    "# 1b. define a TimeCourse process instance using the above object as a parameter. The other parameter is method. See BasiCO documentation for more details on solvers\n",
    "\n",
    "simple_tc_process = sed.TimeCourseProcess(model=simple_tc_model, method='tauleap')"
   ]
  },
  {
   "cell_type": "code",
   "execution_count": null,
   "id": "a9c15126dda87970",
   "metadata": {
    "collapsed": false
   },
   "outputs": [],
   "source": [
    "# >> The process model instance is viewable as a dataclass...\n",
    "\n",
    "pp(simple_tc_process)"
   ]
  },
  {
   "cell_type": "code",
   "execution_count": null,
   "id": "ba3d6e8bae50f216",
   "metadata": {
    "collapsed": false
   },
   "outputs": [],
   "source": [
    "# >> ...or a dict:\n",
    "\n",
    "pp(simple_tc_process.to_dict())"
   ]
  },
  {
   "cell_type": "code",
   "execution_count": null,
   "id": "f6d099ae829fb063",
   "metadata": {
    "collapsed": false
   },
   "outputs": [],
   "source": [
    "# 2. instantiate the prompter:\n",
    "\n",
    "prompter = BuildPrompter()"
   ]
  },
  {
   "cell_type": "code",
   "execution_count": null,
   "id": "6ff0228586348da1",
   "metadata": {
    "collapsed": false
   },
   "outputs": [],
   "source": [
    "# 3. add process(es) to the bigraph with the Time Course model instance we created above. For now, just one process will be added.\n",
    "\n",
    "prompter.add_single_process(config=simple_tc_process)"
   ]
  },
  {
   "cell_type": "code",
   "execution_count": null,
   "id": "b833c7217603645c",
   "metadata": {
    "collapsed": false
   },
   "outputs": [],
   "source": [
    "# 4. Inspect the builder instance within prompter:\n",
    "\n",
    "pp(prompter.builder_instance)"
   ]
  },
  {
   "cell_type": "code",
   "execution_count": null,
   "id": "8400f44e3a2e8433",
   "metadata": {
    "collapsed": false
   },
   "outputs": [],
   "source": [
    "# 5. Visualize the fully-connected composition:\n",
    "\n",
    "prompter.visualize_bigraph()"
   ]
  },
  {
   "cell_type": "code",
   "execution_count": null,
   "id": "38052757b3b95baa",
   "metadata": {
    "collapsed": false
   },
   "outputs": [],
   "source": [
    "# 6. Generate a composite engine and use to execute the bigraph that we just created:\n",
    "\n",
    "prompter.run()"
   ]
  },
  {
   "cell_type": "code",
   "execution_count": null,
   "id": "4ce83c700a15635a",
   "metadata": {
    "collapsed": false
   },
   "outputs": [],
   "source": [
    "# 6. Save the composite to a document:\n",
    "\n",
    "prompter.builder_instance.write(filename='demo_tumor_control_composite_2')"
   ]
  },
  {
   "cell_type": "markdown",
   "id": "b65a6fab79ad097c",
   "metadata": {
    "collapsed": false
   },
   "source": [
    "#### **_Experiment 2_**: Load an SBML model from a specified model filepath and add Model changes to the composite before adding it to the bigraph. Here, we expect the user to be familiar enough with the model file they are passing to make individual species/parameter/reaction changes for specific species types. In the Caravagna model, for example, the species involved are T, E, I. Let's change the initial concentration for some of these as an example of model changes:"
   ]
  },
  {
   "cell_type": "code",
   "execution_count": null,
   "id": "2ffaa0d37d807d2c",
   "metadata": {
    "collapsed": false
   },
   "outputs": [],
   "source": [
    "from biosimulator_processes.data_model import TimeCourseModelChanges, ModelChanges, ModelChange"
   ]
  },
  {
   "cell_type": "code",
   "execution_count": null,
   "id": "55e063c857e51f3",
   "metadata": {
    "collapsed": false
   },
   "outputs": [],
   "source": [
    "# first make the timecourse model which is easily configured with objects related to model changes\n",
    "adjusted_tc_model_from_file = TimeCourseModel"
   ]
  }
 ],
 "metadata": {
  "kernelspec": {
   "display_name": "Python 3",
   "language": "python",
   "name": "python3"
  },
  "language_info": {
   "codemirror_mode": {
    "name": "ipython",
    "version": 2
   },
   "file_extension": ".py",
   "mimetype": "text/x-python",
   "name": "python",
   "nbconvert_exporter": "python",
   "pygments_lexer": "ipython2",
   "version": "2.7.6"
  }
 },
 "nbformat": 4,
 "nbformat_minor": 5
}
