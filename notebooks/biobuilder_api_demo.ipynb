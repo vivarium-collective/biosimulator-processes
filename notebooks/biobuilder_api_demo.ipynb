{
 "cells": [
  {
   "cell_type": "markdown",
   "id": "8087f67dcdaefdee",
   "metadata": {
    "collapsed": false
   },
   "source": [
    "# BioBuilder API Demo"
   ]
  },
  {
   "cell_type": "code",
   "execution_count": 1,
   "id": "initial_id",
   "metadata": {
    "ExecuteTime": {
     "end_time": "2024-03-15T00:04:16.712959Z",
     "start_time": "2024-03-15T00:04:15.484097Z"
    },
    "collapsed": true
   },
   "outputs": [
    {
     "name": "stdout",
     "output_type": "stream",
     "text": [
      "True\n"
     ]
    },
    {
     "data": {
      "text/plain": [
       "<Response [200]>"
      ]
     },
     "execution_count": 1,
     "metadata": {},
     "output_type": "execute_result"
    }
   ],
   "source": [
    "import sys\n",
    "\n",
    "sys.path.insert(0, '..')\n",
    "\n",
    "import os\n",
    "import requests\n",
    "\n",
    "caravagna_model_filepath = '../biosimulator_processes/model_files/Caravagna2010.xml'\n",
    "print(os.path.exists(caravagna_model_filepath))\n",
    "\n",
    "tumor_control_biomodel_id = 'BIOMD0000000749'\n",
    "requests.get('https://www.ebi.ac.uk/biomodels/BIOMD0000000749', headers={'accept': 'json'})"
   ]
  },
  {
   "cell_type": "markdown",
   "id": "572ce5fd9c49efcb",
   "metadata": {
    "collapsed": false
   },
   "source": [
    "#### **_Experiment 1_**:  Here we cross a boundary in the stack that is a biological simulation. We go from model configuration, to experiment. Thus, this tooling sits at that level: both experiment specification AND experiment execution. It's not just a way to specify an experiment, but it is also a way to run it, given the many knobs and buttons that you can use predefine and customize the way the actual model is being solved. Our users are seeking to be involved in an experiment as a \"stack\". We should make a bigger distinction between terms like \"model\"."
   ]
  },
  {
   "cell_type": "code",
   "execution_count": 2,
   "id": "e3218a2629726818",
   "metadata": {
    "ExecuteTime": {
     "end_time": "2024-03-15T00:04:18.399816Z",
     "start_time": "2024-03-15T00:04:16.716279Z"
    },
    "collapsed": false
   },
   "outputs": [
    {
     "name": "stdout",
     "output_type": "stream",
     "text": [
      "CobraProcess registered successfully.\n",
      "CopasiProcess registered successfully.\n",
      "SmoldynProcess registered successfully.\n",
      "TelluriumProcess registered successfully.\n"
     ]
    }
   ],
   "source": [
    "from process_bigraph import pp\n",
    "from biosimulator_processes.biosimulator_builder import BuildPrompter\n",
    "from biosimulator_processes.data_model import TimeCourseProcess, TimeCourseModel"
   ]
  },
  {
   "cell_type": "code",
   "execution_count": 3,
   "id": "871b58285775fb24",
   "metadata": {
    "ExecuteTime": {
     "end_time": "2024-03-15T00:04:18.402696Z",
     "start_time": "2024-03-15T00:04:18.400577Z"
    },
    "collapsed": false
   },
   "outputs": [
    {
     "name": "stdout",
     "output_type": "stream",
     "text": [
      "TimeCourseModel(model_source='BIOMD0000000749',\n",
      "                model_id='model_from_BIOMD0000000749',\n",
      "                model_name='model_from_BIOMD0000000749',\n",
      "                model_language='sbml',\n",
      "                model_changes=None,\n",
      "                model_units=None)\n"
     ]
    }
   ],
   "source": [
    "# 1a. define a model for the process composition. In this case, just one model to be re-used as configuration for the processes we create:\n",
    "\n",
    "tc_model = TimeCourseModel(model_source=tumor_control_biomodel_id)\n",
    "\n",
    "pp(tc_model)"
   ]
  },
  {
   "cell_type": "code",
   "execution_count": 4,
   "id": "a30f5e94167513c9",
   "metadata": {
    "ExecuteTime": {
     "end_time": "2024-03-15T00:04:18.405017Z",
     "start_time": "2024-03-15T00:04:18.403361Z"
    },
    "collapsed": false
   },
   "outputs": [],
   "source": [
    "# 1b. define a TimeCourse process instance using the above object as a parameter. The other parameter is method. See BasiCO documentation for more details on solvers\n",
    "\n",
    "tc_process = TimeCourseProcess(model=tc_model, method='hybridlsoda')"
   ]
  },
  {
   "cell_type": "code",
   "execution_count": 5,
   "id": "a9c15126dda87970",
   "metadata": {
    "ExecuteTime": {
     "end_time": "2024-03-15T00:04:18.408178Z",
     "start_time": "2024-03-15T00:04:18.406345Z"
    },
    "collapsed": false
   },
   "outputs": [
    {
     "name": "stdout",
     "output_type": "stream",
     "text": [
      "TimeCourseProcess(model=TimeCourseModel(model_source='BIOMD0000000749',\n",
      "                                        model_id='model_from_BIOMD0000000749',\n",
      "                                        model_name='model_from_BIOMD0000000749',\n",
      "                                        model_language='sbml',\n",
      "                                        model_changes=None,\n",
      "                                        model_units=None),\n",
      "                  method='hybridlsoda')\n"
     ]
    }
   ],
   "source": [
    "# >> The process model instance is viewable as a dataclass...\n",
    "\n",
    "pp(tc_process)"
   ]
  },
  {
   "cell_type": "code",
   "execution_count": 6,
   "id": "ba3d6e8bae50f216",
   "metadata": {
    "ExecuteTime": {
     "end_time": "2024-03-15T00:04:18.410602Z",
     "start_time": "2024-03-15T00:04:18.408816Z"
    },
    "collapsed": false
   },
   "outputs": [
    {
     "name": "stdout",
     "output_type": "stream",
     "text": [
      "{ 'method': 'hybridlsoda',\n",
      "  'model': { 'model_changes': None,\n",
      "             'model_id': 'model_from_BIOMD0000000749',\n",
      "             'model_language': 'sbml',\n",
      "             'model_name': 'model_from_BIOMD0000000749',\n",
      "             'model_source': 'BIOMD0000000749',\n",
      "             'model_units': None}}\n"
     ]
    }
   ],
   "source": [
    "# >> ...or a dict:\n",
    "\n",
    "pp(tc_process.to_dict())"
   ]
  },
  {
   "cell_type": "code",
   "execution_count": 7,
   "id": "f6d099ae829fb063",
   "metadata": {
    "ExecuteTime": {
     "end_time": "2024-03-15T00:04:18.412651Z",
     "start_time": "2024-03-15T00:04:18.411128Z"
    },
    "collapsed": false
   },
   "outputs": [],
   "source": [
    "# 2. instantiate the prompter:\n",
    "\n",
    "prompter = BuildPrompter()"
   ]
  },
  {
   "cell_type": "code",
   "execution_count": 8,
   "id": "6ff0228586348da1",
   "metadata": {
    "ExecuteTime": {
     "end_time": "2024-03-15T00:04:43.970923Z",
     "start_time": "2024-03-15T00:04:18.413250Z"
    },
    "collapsed": false
   },
   "outputs": [
    {
     "name": "stdout",
     "output_type": "stream",
     "text": [
      "tumor_control_model_composite process successfully added to the bi-graph!\n",
      "All nodes including the most recently added tumor_control_model_composite processes connected!\n",
      "Done adding single tumor_control_model_composite (CopasiProcess) to the bigraph.\n"
     ]
    }
   ],
   "source": [
    "# 3. add process(es) to the bigraph with the Time Course model instance we created above. For now, just one process will be added.\n",
    "\n",
    "prompter.add_single_process(config=tc_process)"
   ]
  },
  {
   "cell_type": "code",
   "execution_count": 9,
   "id": "b833c7217603645c",
   "metadata": {
    "ExecuteTime": {
     "end_time": "2024-03-15T00:04:43.974530Z",
     "start_time": "2024-03-15T00:04:43.971855Z"
    },
    "collapsed": false
   },
   "outputs": [
    {
     "name": "stdout",
     "output_type": "stream",
     "text": [
      "Builder({ 'emitter': { '_type': 'step',\n",
      "               'address': 'local:ram-emitter',\n",
      "               'config': {'emit': {}},\n",
      "               'inputs': {},\n",
      "               'instance': <process_bigraph.composite.RAMEmitter object at 0x29b03a6b0>,\n",
      "               'outputs': {}},\n",
      "  'tumor_control_model_composite': { '_type': 'process',\n",
      "                                     'address': 'local:CopasiProcess',\n",
      "                                     'config': { 'method': 'hybridlsoda',\n",
      "                                                 'model': { 'model_changes': { 'global_parameter_changes': None,\n",
      "                                                                               'reaction_changes': None,\n",
      "                                                                               'species_changes': None},\n",
      "                                                            'model_id': 'model_from_BIOMD0000000749',\n",
      "                                                            'model_language': 'sbml',\n",
      "                                                            'model_name': 'model_from_BIOMD0000000749',\n",
      "                                                            'model_source': 'BIOMD0000000749',\n",
      "                                                            'model_units': None}},\n",
      "                                     'inputs': { 'floating_species': [ 'floating_species_store'],\n",
      "                                                 'model_parameters': [ 'model_parameters_store'],\n",
      "                                                 'reactions': [ 'reactions_store'],\n",
      "                                                 'time': ['time_store']},\n",
      "                                     'instance': <biosimulator_processes.processes.copasi_process.CopasiProcess object at 0x29b03a770>,\n",
      "                                     'interval': 1.0,\n",
      "                                     'outputs': { 'floating_species': [ 'floating_species_store'],\n",
      "                                                  'time': ['time_store']}}})\n"
     ]
    }
   ],
   "source": [
    "# 4. Inspect the builder instance within prompter:\n",
    "\n",
    "pp(prompter.builder_instance)"
   ]
  },
  {
   "cell_type": "code",
   "execution_count": 10,
   "id": "8400f44e3a2e8433",
   "metadata": {
    "ExecuteTime": {
     "end_time": "2024-03-15T00:04:44.163433Z",
     "start_time": "2024-03-15T00:04:43.975589Z"
    },
    "collapsed": false
   },
   "outputs": [
    {
     "data": {
      "image/svg+xml": [
       "<?xml version=\"1.0\" encoding=\"UTF-8\" standalone=\"no\"?>\n",
       "<!DOCTYPE svg PUBLIC \"-//W3C//DTD SVG 1.1//EN\"\n",
       " \"http://www.w3.org/Graphics/SVG/1.1/DTD/svg11.dtd\">\n",
       "<!-- Generated by graphviz version 9.0.0 (20230911.1827)\n",
       " -->\n",
       "<!-- Title: bigraph Pages: 1 -->\n",
       "<svg width=\"1120pt\" height=\"185pt\"\n",
       " viewBox=\"0.00 0.00 1152.00 190.64\" xmlns=\"http://www.w3.org/2000/svg\" xmlns:xlink=\"http://www.w3.org/1999/xlink\">\n",
       "<g id=\"graph0\" class=\"graph\" transform=\"scale(0.521776 0.521776) rotate(0) translate(4 351.21)\">\n",
       "<title>bigraph</title>\n",
       "<polygon fill=\"white\" stroke=\"none\" points=\"-4,4 -4,-351.21 2142.51,-351.21 2142.51,4 -4,4\"/>\n",
       "<!-- (&#39;time_store&#39;,) -->\n",
       "<g id=\"node1\" class=\"node\">\n",
       "<title>(&#39;time_store&#39;,)</title>\n",
       "<ellipse fill=\"none\" stroke=\"black\" stroke-width=\"2\" cx=\"385\" cy=\"-271.29\" rx=\"34.83\" ry=\"34.83\"/>\n",
       "<text text-anchor=\"start\" x=\"360.62\" y=\"-267.01\" font-family=\"Times,serif\" font-size=\"12.00\">time_store</text>\n",
       "</g>\n",
       "<!-- (&#39;tumor_control_model_composite&#39;,) -->\n",
       "<g id=\"node29\" class=\"node\">\n",
       "<title>(&#39;tumor_control_model_composite&#39;,)</title>\n",
       "<polygon fill=\"none\" stroke=\"black\" stroke-width=\"2\" points=\"450.6,-92.06 287.4,-92.06 287.4,-56.06 450.6,-56.06 450.6,-92.06\"/>\n",
       "<text text-anchor=\"start\" x=\"291\" y=\"-69.78\" font-family=\"Times,serif\" font-size=\"12.00\">tumor_control_model_composite</text>\n",
       "</g>\n",
       "<!-- (&#39;time_store&#39;,)&#45;&gt;(&#39;tumor_control_model_composite&#39;,) -->\n",
       "<g id=\"edge24\" class=\"edge\">\n",
       "<title>(&#39;time_store&#39;,)&#45;&gt;(&#39;tumor_control_model_composite&#39;,)</title>\n",
       "<path fill=\"none\" stroke=\"black\" stroke-dasharray=\"5,2\" d=\"M376.05,-237.01C371.77,-219.42 367.13,-197.38 365,-177.36 362.39,-152.8 363.79,-124.76 365.62,-104.26\"/>\n",
       "<polygon fill=\"black\" stroke=\"black\" points=\"369.1,-104.65 366.6,-94.36 362.13,-103.96 369.1,-104.65\"/>\n",
       "<text text-anchor=\"start\" x=\"365\" y=\"-167.86\" font-family=\"Times,serif\" font-size=\"10.00\">time</text>\n",
       "</g>\n",
       "<!-- (&#39;time_store&#39;,)&#45;&gt;(&#39;tumor_control_model_composite&#39;,) -->\n",
       "<g id=\"edge28\" class=\"edge\">\n",
       "<title>(&#39;time_store&#39;,)&#45;&gt;(&#39;tumor_control_model_composite&#39;,)</title>\n",
       "<path fill=\"none\" stroke=\"black\" stroke-dasharray=\"5,2\" d=\"M385.43,-224.06C385.26,-205.96 384.63,-185.04 383,-166.11 380.79,-140.46 375.82,-111.06 372.44,-92.77\"/>\n",
       "<polygon fill=\"black\" stroke=\"black\" points=\"381.93,-224 385.48,-233.99 388.93,-223.97 381.93,-224\"/>\n",
       "<text text-anchor=\"start\" x=\"384\" y=\"-167.86\" font-family=\"Times,serif\" font-size=\"10.00\">time</text>\n",
       "</g>\n",
       "<!-- (&#39;floating_species_store&#39;,) -->\n",
       "<g id=\"node2\" class=\"node\">\n",
       "<title>(&#39;floating_species_store&#39;,)</title>\n",
       "<ellipse fill=\"none\" stroke=\"black\" stroke-width=\"2\" cx=\"139\" cy=\"-271.29\" rx=\"69.39\" ry=\"69.39\"/>\n",
       "<text text-anchor=\"start\" x=\"86.88\" y=\"-267.01\" font-family=\"Times,serif\" font-size=\"12.00\">floating_species_store</text>\n",
       "</g>\n",
       "<!-- (&#39;floating_species_store&#39;, &#39;E&#39;) -->\n",
       "<g id=\"node3\" class=\"node\">\n",
       "<title>(&#39;floating_species_store&#39;, &#39;E&#39;)</title>\n",
       "<ellipse fill=\"none\" stroke=\"black\" stroke-width=\"2\" cx=\"180\" cy=\"-74.06\" rx=\"18\" ry=\"18\"/>\n",
       "<text text-anchor=\"start\" x=\"176.25\" y=\"-69.78\" font-family=\"Times,serif\" font-size=\"12.00\">E</text>\n",
       "</g>\n",
       "<!-- (&#39;floating_species_store&#39;,)&#45;&gt;(&#39;floating_species_store&#39;, &#39;E&#39;) -->\n",
       "<g id=\"edge1\" class=\"edge\">\n",
       "<title>(&#39;floating_species_store&#39;,)&#45;&gt;(&#39;floating_species_store&#39;, &#39;E&#39;)</title>\n",
       "<path fill=\"none\" stroke=\"black\" stroke-width=\"2\" d=\"M153.22,-202.55C161.46,-163.35 171.19,-117.02 176.35,-92.43\"/>\n",
       "</g>\n",
       "<!-- (&#39;floating_species_store&#39;, &#39;R&#39;) -->\n",
       "<g id=\"node4\" class=\"node\">\n",
       "<title>(&#39;floating_species_store&#39;, &#39;R&#39;)</title>\n",
       "<ellipse fill=\"none\" stroke=\"black\" stroke-width=\"2\" cx=\"18\" cy=\"-74.06\" rx=\"18\" ry=\"18\"/>\n",
       "<text text-anchor=\"start\" x=\"13.88\" y=\"-69.78\" font-family=\"Times,serif\" font-size=\"12.00\">R</text>\n",
       "</g>\n",
       "<!-- (&#39;floating_species_store&#39;,)&#45;&gt;(&#39;floating_species_store&#39;, &#39;R&#39;) -->\n",
       "<g id=\"edge2\" class=\"edge\">\n",
       "<title>(&#39;floating_species_store&#39;,)&#45;&gt;(&#39;floating_species_store&#39;, &#39;R&#39;)</title>\n",
       "<path fill=\"none\" stroke=\"black\" stroke-width=\"2\" d=\"M93.18,-217.98C76.5,-197.2 58.46,-172.47 45,-148.11 34.99,-130.01 27.3,-107.45 22.74,-92.23\"/>\n",
       "</g>\n",
       "<!-- (&#39;floating_species_store&#39;, &#39;f&#39;) -->\n",
       "<g id=\"node5\" class=\"node\">\n",
       "<title>(&#39;floating_species_store&#39;, &#39;f&#39;)</title>\n",
       "<ellipse fill=\"none\" stroke=\"black\" stroke-width=\"2\" cx=\"72\" cy=\"-74.06\" rx=\"18\" ry=\"18\"/>\n",
       "<text text-anchor=\"start\" x=\"70.12\" y=\"-69.78\" font-family=\"Times,serif\" font-size=\"12.00\">f</text>\n",
       "</g>\n",
       "<!-- (&#39;floating_species_store&#39;,)&#45;&gt;(&#39;floating_species_store&#39;, &#39;f&#39;) -->\n",
       "<g id=\"edge3\" class=\"edge\">\n",
       "<title>(&#39;floating_species_store&#39;,)&#45;&gt;(&#39;floating_species_store&#39;, &#39;f&#39;)</title>\n",
       "<path fill=\"none\" stroke=\"black\" stroke-width=\"2\" d=\"M116.5,-204.73C102.82,-164.86 86.38,-116.95 77.82,-92.01\"/>\n",
       "</g>\n",
       "<!-- (&#39;floating_species_store&#39;, &quot;E&#39;&quot;) -->\n",
       "<g id=\"node6\" class=\"node\">\n",
       "<title>(&#39;floating_species_store&#39;, &quot;E&#39;&quot;)</title>\n",
       "<ellipse fill=\"none\" stroke=\"black\" stroke-width=\"2\" cx=\"126\" cy=\"-74.06\" rx=\"18\" ry=\"18\"/>\n",
       "<text text-anchor=\"start\" x=\"121.12\" y=\"-69.78\" font-family=\"Times,serif\" font-size=\"12.00\">E&#39;</text>\n",
       "</g>\n",
       "<!-- (&#39;floating_species_store&#39;,)&#45;&gt;(&#39;floating_species_store&#39;, &quot;E&#39;&quot;) -->\n",
       "<g id=\"edge4\" class=\"edge\">\n",
       "<title>(&#39;floating_species_store&#39;,)&#45;&gt;(&#39;floating_species_store&#39;, &quot;E&#39;&quot;)</title>\n",
       "<path fill=\"none\" stroke=\"black\" stroke-width=\"2\" d=\"M134.4,-201.18C131.83,-162.57 128.82,-117.44 127.19,-93\"/>\n",
       "</g>\n",
       "<!-- (&#39;floating_species_store&#39;,)&#45;&gt;(&#39;tumor_control_model_composite&#39;,) -->\n",
       "<g id=\"edge25\" class=\"edge\">\n",
       "<title>(&#39;floating_species_store&#39;,)&#45;&gt;(&#39;tumor_control_model_composite&#39;,)</title>\n",
       "<path fill=\"none\" stroke=\"black\" stroke-dasharray=\"5,2\" d=\"M160.01,-204.31C166.54,-190.56 174.84,-176.97 185.25,-166.11 204.26,-146.28 267.13,-117.27 314.07,-97.35\"/>\n",
       "<polygon fill=\"black\" stroke=\"black\" points=\"315.16,-100.69 323.02,-93.58 312.45,-94.23 315.16,-100.69\"/>\n",
       "<text text-anchor=\"start\" x=\"186\" y=\"-167.86\" font-family=\"Times,serif\" font-size=\"10.00\">floating_species</text>\n",
       "</g>\n",
       "<!-- (&#39;floating_species_store&#39;,)&#45;&gt;(&#39;tumor_control_model_composite&#39;,) -->\n",
       "<g id=\"edge29\" class=\"edge\">\n",
       "<title>(&#39;floating_species_store&#39;,)&#45;&gt;(&#39;tumor_control_model_composite&#39;,)</title>\n",
       "<path fill=\"none\" stroke=\"black\" stroke-dasharray=\"5,2\" d=\"M201.52,-219.44C218.02,-205.87 235.75,-191.14 252,-177.36 286.37,-148.22 325.69,-113.56 348.87,-92.99\"/>\n",
       "<polygon fill=\"black\" stroke=\"black\" points=\"199.7,-216.41 194.19,-225.46 204.14,-221.82 199.7,-216.41\"/>\n",
       "<text text-anchor=\"start\" x=\"265\" y=\"-167.86\" font-family=\"Times,serif\" font-size=\"10.00\">floating_species</text>\n",
       "</g>\n",
       "<!-- (&#39;model_parameters_store&#39;,) -->\n",
       "<g id=\"node7\" class=\"node\">\n",
       "<title>(&#39;model_parameters_store&#39;,)</title>\n",
       "<ellipse fill=\"none\" stroke=\"black\" stroke-width=\"2\" cx=\"721\" cy=\"-271.29\" rx=\"75.92\" ry=\"75.92\"/>\n",
       "<text text-anchor=\"start\" x=\"663.62\" y=\"-267.01\" font-family=\"Times,serif\" font-size=\"12.00\">model_parameters_store</text>\n",
       "</g>\n",
       "<!-- (&#39;model_parameters_store&#39;, &#39;B&#39;) -->\n",
       "<g id=\"node8\" class=\"node\">\n",
       "<title>(&#39;model_parameters_store&#39;, &#39;B&#39;)</title>\n",
       "<ellipse fill=\"none\" stroke=\"black\" stroke-width=\"2\" cx=\"667\" cy=\"-74.06\" rx=\"18\" ry=\"18\"/>\n",
       "<text text-anchor=\"start\" x=\"662.88\" y=\"-69.78\" font-family=\"Times,serif\" font-size=\"12.00\">B</text>\n",
       "</g>\n",
       "<!-- (&#39;model_parameters_store&#39;,)&#45;&gt;(&#39;model_parameters_store&#39;, &#39;B&#39;) -->\n",
       "<g id=\"edge5\" class=\"edge\">\n",
       "<title>(&#39;model_parameters_store&#39;,)&#45;&gt;(&#39;model_parameters_store&#39;, &#39;B&#39;)</title>\n",
       "<path fill=\"none\" stroke=\"black\" stroke-width=\"2\" d=\"M700.82,-197.31C690.27,-159.19 678.24,-115.7 671.75,-92.24\"/>\n",
       "</g>\n",
       "<!-- (&#39;model_parameters_store&#39;, &#39;lm&#39;) -->\n",
       "<g id=\"node9\" class=\"node\">\n",
       "<title>(&#39;model_parameters_store&#39;, &#39;lm&#39;)</title>\n",
       "<ellipse fill=\"none\" stroke=\"black\" stroke-width=\"2\" cx=\"721\" cy=\"-74.06\" rx=\"18\" ry=\"18\"/>\n",
       "<text text-anchor=\"start\" x=\"715\" y=\"-69.78\" font-family=\"Times,serif\" font-size=\"12.00\">lm</text>\n",
       "</g>\n",
       "<!-- (&#39;model_parameters_store&#39;,)&#45;&gt;(&#39;model_parameters_store&#39;, &#39;lm&#39;) -->\n",
       "<g id=\"edge6\" class=\"edge\">\n",
       "<title>(&#39;model_parameters_store&#39;,)&#45;&gt;(&#39;model_parameters_store&#39;, &#39;lm&#39;)</title>\n",
       "<path fill=\"none\" stroke=\"black\" stroke-width=\"2\" d=\"M721,-194.53C721,-157.44 721,-115.92 721,-92.89\"/>\n",
       "</g>\n",
       "<!-- (&#39;model_parameters_store&#39;, &#39;la&#39;) -->\n",
       "<g id=\"node10\" class=\"node\">\n",
       "<title>(&#39;model_parameters_store&#39;, &#39;la&#39;)</title>\n",
       "<ellipse fill=\"none\" stroke=\"black\" stroke-width=\"2\" cx=\"775\" cy=\"-74.06\" rx=\"18\" ry=\"18\"/>\n",
       "<text text-anchor=\"start\" x=\"770.88\" y=\"-69.78\" font-family=\"Times,serif\" font-size=\"12.00\">la</text>\n",
       "</g>\n",
       "<!-- (&#39;model_parameters_store&#39;,)&#45;&gt;(&#39;model_parameters_store&#39;, &#39;la&#39;) -->\n",
       "<g id=\"edge7\" class=\"edge\">\n",
       "<title>(&#39;model_parameters_store&#39;,)&#45;&gt;(&#39;model_parameters_store&#39;, &#39;la&#39;)</title>\n",
       "<path fill=\"none\" stroke=\"black\" stroke-width=\"2\" d=\"M741.18,-197.31C751.73,-159.19 763.76,-115.7 770.25,-92.24\"/>\n",
       "</g>\n",
       "<!-- (&#39;model_parameters_store&#39;, &#39;ld&#39;) -->\n",
       "<g id=\"node11\" class=\"node\">\n",
       "<title>(&#39;model_parameters_store&#39;, &#39;ld&#39;)</title>\n",
       "<ellipse fill=\"none\" stroke=\"black\" stroke-width=\"2\" cx=\"829\" cy=\"-74.06\" rx=\"18\" ry=\"18\"/>\n",
       "<text text-anchor=\"start\" x=\"824.5\" y=\"-69.78\" font-family=\"Times,serif\" font-size=\"12.00\">ld</text>\n",
       "</g>\n",
       "<!-- (&#39;model_parameters_store&#39;,)&#45;&gt;(&#39;model_parameters_store&#39;, &#39;ld&#39;) -->\n",
       "<g id=\"edge8\" class=\"edge\">\n",
       "<title>(&#39;model_parameters_store&#39;,)&#45;&gt;(&#39;model_parameters_store&#39;, &#39;ld&#39;)</title>\n",
       "<path fill=\"none\" stroke=\"black\" stroke-width=\"2\" d=\"M765.72,-208.87C778.4,-189.93 791.57,-168.65 802,-148.11 811.36,-129.66 819.18,-107.17 823.95,-92.06\"/>\n",
       "</g>\n",
       "<!-- (&#39;model_parameters_store&#39;, &#39;c&#39;) -->\n",
       "<g id=\"node12\" class=\"node\">\n",
       "<title>(&#39;model_parameters_store&#39;, &#39;c&#39;)</title>\n",
       "<ellipse fill=\"none\" stroke=\"black\" stroke-width=\"2\" cx=\"883\" cy=\"-74.06\" rx=\"18\" ry=\"18\"/>\n",
       "<text text-anchor=\"start\" x=\"880.38\" y=\"-69.78\" font-family=\"Times,serif\" font-size=\"12.00\">c</text>\n",
       "</g>\n",
       "<!-- (&#39;model_parameters_store&#39;,)&#45;&gt;(&#39;model_parameters_store&#39;, &#39;c&#39;) -->\n",
       "<g id=\"edge9\" class=\"edge\">\n",
       "<title>(&#39;model_parameters_store&#39;,)&#45;&gt;(&#39;model_parameters_store&#39;, &#39;c&#39;)</title>\n",
       "<path fill=\"none\" stroke=\"black\" stroke-width=\"2\" d=\"M782.61,-225.36C808.1,-204.25 836.26,-177.31 856,-148.11 867.67,-130.86 875.07,-107.93 879.11,-92.39\"/>\n",
       "</g>\n",
       "<!-- (&#39;model_parameters_store&#39;, &#39;k&#39;) -->\n",
       "<g id=\"node13\" class=\"node\">\n",
       "<title>(&#39;model_parameters_store&#39;, &#39;k&#39;)</title>\n",
       "<ellipse fill=\"none\" stroke=\"black\" stroke-width=\"2\" cx=\"937\" cy=\"-74.06\" rx=\"18\" ry=\"18\"/>\n",
       "<text text-anchor=\"start\" x=\"934\" y=\"-69.78\" font-family=\"Times,serif\" font-size=\"12.00\">k</text>\n",
       "</g>\n",
       "<!-- (&#39;model_parameters_store&#39;,)&#45;&gt;(&#39;model_parameters_store&#39;, &#39;k&#39;) -->\n",
       "<g id=\"edge10\" class=\"edge\">\n",
       "<title>(&#39;model_parameters_store&#39;,)&#45;&gt;(&#39;model_parameters_store&#39;, &#39;k&#39;)</title>\n",
       "<path fill=\"none\" stroke=\"black\" stroke-width=\"2\" d=\"M790.66,-239.2C830.37,-218.4 878.36,-187.6 910,-148.11 923.1,-131.76 930.24,-108.42 933.83,-92.56\"/>\n",
       "</g>\n",
       "<!-- (&#39;model_parameters_store&#39;, &#39;d1&#39;) -->\n",
       "<g id=\"node14\" class=\"node\">\n",
       "<title>(&#39;model_parameters_store&#39;, &#39;d1&#39;)</title>\n",
       "<ellipse fill=\"none\" stroke=\"black\" stroke-width=\"2\" cx=\"991\" cy=\"-74.06\" rx=\"18\" ry=\"18\"/>\n",
       "<text text-anchor=\"start\" x=\"985\" y=\"-69.78\" font-family=\"Times,serif\" font-size=\"12.00\">d1</text>\n",
       "</g>\n",
       "<!-- (&#39;model_parameters_store&#39;,)&#45;&gt;(&#39;model_parameters_store&#39;, &#39;d1&#39;) -->\n",
       "<g id=\"edge11\" class=\"edge\">\n",
       "<title>(&#39;model_parameters_store&#39;,)&#45;&gt;(&#39;model_parameters_store&#39;, &#39;d1&#39;)</title>\n",
       "<path fill=\"none\" stroke=\"black\" stroke-width=\"2\" d=\"M794.65,-249.41C848.2,-230.79 918.92,-198.54 964,-148.11 978.06,-132.39 985.01,-108.7 988.29,-92.59\"/>\n",
       "</g>\n",
       "<!-- (&#39;model_parameters_store&#39;, &#39;d0&#39;) -->\n",
       "<g id=\"node15\" class=\"node\">\n",
       "<title>(&#39;model_parameters_store&#39;, &#39;d0&#39;)</title>\n",
       "<ellipse fill=\"none\" stroke=\"black\" stroke-width=\"2\" cx=\"497\" cy=\"-74.06\" rx=\"18\" ry=\"18\"/>\n",
       "<text text-anchor=\"start\" x=\"491\" y=\"-69.78\" font-family=\"Times,serif\" font-size=\"12.00\">d0</text>\n",
       "</g>\n",
       "<!-- (&#39;model_parameters_store&#39;,)&#45;&gt;(&#39;model_parameters_store&#39;, &#39;d0&#39;) -->\n",
       "<g id=\"edge12\" class=\"edge\">\n",
       "<title>(&#39;model_parameters_store&#39;,)&#45;&gt;(&#39;model_parameters_store&#39;, &#39;d0&#39;)</title>\n",
       "<path fill=\"none\" stroke=\"black\" stroke-width=\"2\" d=\"M650.77,-241.02C608.93,-220.45 557.6,-189.26 524,-148.11 510.74,-131.88 503.64,-108.52 500.1,-92.62\"/>\n",
       "</g>\n",
       "<!-- (&#39;model_parameters_store&#39;, &#39;sigma&#39;) -->\n",
       "<g id=\"node16\" class=\"node\">\n",
       "<title>(&#39;model_parameters_store&#39;, &#39;sigma&#39;)</title>\n",
       "<ellipse fill=\"none\" stroke=\"black\" stroke-width=\"2\" cx=\"555\" cy=\"-74.06\" rx=\"21.76\" ry=\"21.76\"/>\n",
       "<text text-anchor=\"start\" x=\"541.12\" y=\"-69.78\" font-family=\"Times,serif\" font-size=\"12.00\">sigma</text>\n",
       "</g>\n",
       "<!-- (&#39;model_parameters_store&#39;,)&#45;&gt;(&#39;model_parameters_store&#39;, &#39;sigma&#39;) -->\n",
       "<g id=\"edge13\" class=\"edge\">\n",
       "<title>(&#39;model_parameters_store&#39;,)&#45;&gt;(&#39;model_parameters_store&#39;, &#39;sigma&#39;)</title>\n",
       "<path fill=\"none\" stroke=\"black\" stroke-width=\"2\" d=\"M660.05,-224.9C634.67,-203.71 606.43,-176.83 586,-148.11 574.58,-132.06 566.25,-111.14 561.11,-95.81\"/>\n",
       "</g>\n",
       "<!-- (&#39;model_parameters_store&#39;, &#39;r&#39;) -->\n",
       "<g id=\"node17\" class=\"node\">\n",
       "<title>(&#39;model_parameters_store&#39;, &#39;r&#39;)</title>\n",
       "<ellipse fill=\"none\" stroke=\"black\" stroke-width=\"2\" cx=\"613\" cy=\"-74.06\" rx=\"18\" ry=\"18\"/>\n",
       "<text text-anchor=\"start\" x=\"611.12\" y=\"-69.78\" font-family=\"Times,serif\" font-size=\"12.00\">r</text>\n",
       "</g>\n",
       "<!-- (&#39;model_parameters_store&#39;,)&#45;&gt;(&#39;model_parameters_store&#39;, &#39;r&#39;) -->\n",
       "<g id=\"edge14\" class=\"edge\">\n",
       "<title>(&#39;model_parameters_store&#39;,)&#45;&gt;(&#39;model_parameters_store&#39;, &#39;r&#39;)</title>\n",
       "<path fill=\"none\" stroke=\"black\" stroke-width=\"2\" d=\"M676.28,-208.87C663.6,-189.93 650.43,-168.65 640,-148.11 630.64,-129.66 622.82,-107.17 618.05,-92.06\"/>\n",
       "</g>\n",
       "<!-- (&#39;model_parameters_store&#39;,)&#45;&gt;(&#39;tumor_control_model_composite&#39;,) -->\n",
       "<g id=\"edge26\" class=\"edge\">\n",
       "<title>(&#39;model_parameters_store&#39;,)&#45;&gt;(&#39;tumor_control_model_composite&#39;,)</title>\n",
       "<path fill=\"none\" stroke=\"black\" stroke-dasharray=\"5,2\" d=\"M646.2,-253.64C592.12,-239.25 518.98,-214.78 462.75,-177.36 432.22,-157.04 404.84,-124.71 387.67,-101.83\"/>\n",
       "<polygon fill=\"black\" stroke=\"black\" points=\"390.58,-99.89 381.85,-93.89 384.94,-104.03 390.58,-99.89\"/>\n",
       "<text text-anchor=\"start\" x=\"463\" y=\"-167.86\" font-family=\"Times,serif\" font-size=\"10.00\">model_parameters</text>\n",
       "</g>\n",
       "<!-- (&#39;reactions_store&#39;,) -->\n",
       "<g id=\"node18\" class=\"node\">\n",
       "<title>(&#39;reactions_store&#39;,)</title>\n",
       "<ellipse fill=\"none\" stroke=\"black\" stroke-width=\"2\" cx=\"1513\" cy=\"-271.29\" rx=\"48.37\" ry=\"48.37\"/>\n",
       "<text text-anchor=\"start\" x=\"1477.75\" y=\"-267.01\" font-family=\"Times,serif\" font-size=\"12.00\">reactions_store</text>\n",
       "</g>\n",
       "<!-- (&#39;reactions_store&#39;, &#39;tumor growth&#39;) -->\n",
       "<g id=\"node19\" class=\"node\">\n",
       "<title>(&#39;reactions_store&#39;, &#39;tumor growth&#39;)</title>\n",
       "<ellipse fill=\"none\" stroke=\"black\" stroke-width=\"2\" cx=\"1462\" cy=\"-74.06\" rx=\"44.64\" ry=\"44.64\"/>\n",
       "<text text-anchor=\"start\" x=\"1429.75\" y=\"-69.78\" font-family=\"Times,serif\" font-size=\"12.00\">tumor growth</text>\n",
       "</g>\n",
       "<!-- (&#39;reactions_store&#39;,)&#45;&gt;(&#39;reactions_store&#39;, &#39;tumor growth&#39;) -->\n",
       "<g id=\"edge15\" class=\"edge\">\n",
       "<title>(&#39;reactions_store&#39;,)&#45;&gt;(&#39;reactions_store&#39;, &#39;tumor growth&#39;)</title>\n",
       "<path fill=\"none\" stroke=\"black\" stroke-width=\"2\" d=\"M1500.78,-223.52C1492.42,-191.49 1481.4,-149.31 1473.24,-118.1\"/>\n",
       "</g>\n",
       "<!-- (&#39;reactions_store&#39;, &#39;tumor death&#39;) -->\n",
       "<g id=\"node20\" class=\"node\">\n",
       "<title>(&#39;reactions_store&#39;, &#39;tumor death&#39;)</title>\n",
       "<ellipse fill=\"none\" stroke=\"black\" stroke-width=\"2\" cx=\"1564\" cy=\"-74.06\" rx=\"39.5\" ry=\"39.5\"/>\n",
       "<text text-anchor=\"start\" x=\"1535.88\" y=\"-69.78\" font-family=\"Times,serif\" font-size=\"12.00\">tumor death</text>\n",
       "</g>\n",
       "<!-- (&#39;reactions_store&#39;,)&#45;&gt;(&#39;reactions_store&#39;, &#39;tumor death&#39;) -->\n",
       "<g id=\"edge16\" class=\"edge\">\n",
       "<title>(&#39;reactions_store&#39;,)&#45;&gt;(&#39;reactions_store&#39;, &#39;tumor death&#39;)</title>\n",
       "<path fill=\"none\" stroke=\"black\" stroke-width=\"2\" d=\"M1525.22,-223.52C1534.03,-189.79 1545.77,-144.83 1554.02,-113.25\"/>\n",
       "</g>\n",
       "<!-- (&#39;reactions_store&#39;, &#39;tumor killing&#39;) -->\n",
       "<g id=\"node21\" class=\"node\">\n",
       "<title>(&#39;reactions_store&#39;, &#39;tumor killing&#39;)</title>\n",
       "<ellipse fill=\"none\" stroke=\"black\" stroke-width=\"2\" cx=\"1664\" cy=\"-74.06\" rx=\"42.3\" ry=\"42.3\"/>\n",
       "<text text-anchor=\"start\" x=\"1633.62\" y=\"-69.78\" font-family=\"Times,serif\" font-size=\"12.00\">tumor killing</text>\n",
       "</g>\n",
       "<!-- (&#39;reactions_store&#39;,)&#45;&gt;(&#39;reactions_store&#39;, &#39;tumor killing&#39;) -->\n",
       "<g id=\"edge17\" class=\"edge\">\n",
       "<title>(&#39;reactions_store&#39;,)&#45;&gt;(&#39;reactions_store&#39;, &#39;tumor killing&#39;)</title>\n",
       "<path fill=\"none\" stroke=\"black\" stroke-width=\"2\" d=\"M1541.65,-231.28C1550.53,-219.56 1560.48,-206.79 1570,-195.36 1588.17,-173.54 1595.28,-170.3 1613,-148.11 1622.56,-136.15 1632.35,-122.51 1640.76,-110.28\"/>\n",
       "</g>\n",
       "<!-- (&#39;reactions_store&#39;, &#39;tumor nutrient supply&#39;) -->\n",
       "<g id=\"node22\" class=\"node\">\n",
       "<title>(&#39;reactions_store&#39;, &#39;tumor nutrient supply&#39;)</title>\n",
       "<ellipse fill=\"none\" stroke=\"black\" stroke-width=\"2\" cx=\"1792\" cy=\"-74.06\" rx=\"67.52\" ry=\"67.52\"/>\n",
       "<text text-anchor=\"start\" x=\"1741.38\" y=\"-69.78\" font-family=\"Times,serif\" font-size=\"12.00\">tumor nutrient supply</text>\n",
       "</g>\n",
       "<!-- (&#39;reactions_store&#39;,)&#45;&gt;(&#39;reactions_store&#39;, &#39;tumor nutrient supply&#39;) -->\n",
       "<g id=\"edge18\" class=\"edge\">\n",
       "<title>(&#39;reactions_store&#39;,)&#45;&gt;(&#39;reactions_store&#39;, &#39;tumor nutrient supply&#39;)</title>\n",
       "<path fill=\"none\" stroke=\"black\" stroke-width=\"2\" d=\"M1537.54,-228.94C1546.46,-216.73 1557.48,-204.26 1570,-195.36 1597.63,-175.73 1685.88,-165.45 1715,-148.11 1725.92,-141.61 1736.55,-133.3 1746.25,-124.64\"/>\n",
       "</g>\n",
       "<!-- (&#39;reactions_store&#39;, &#39;effector stimulation&#39;) -->\n",
       "<g id=\"node23\" class=\"node\">\n",
       "<title>(&#39;reactions_store&#39;, &#39;effector stimulation&#39;)</title>\n",
       "<ellipse fill=\"none\" stroke=\"black\" stroke-width=\"2\" cx=\"1939\" cy=\"-74.06\" rx=\"60.98\" ry=\"60.98\"/>\n",
       "<text text-anchor=\"start\" x=\"1893.62\" y=\"-69.78\" font-family=\"Times,serif\" font-size=\"12.00\">effector stimulation</text>\n",
       "</g>\n",
       "<!-- (&#39;reactions_store&#39;,)&#45;&gt;(&#39;reactions_store&#39;, &#39;effector stimulation&#39;) -->\n",
       "<g id=\"edge19\" class=\"edge\">\n",
       "<title>(&#39;reactions_store&#39;,)&#45;&gt;(&#39;reactions_store&#39;, &#39;effector stimulation&#39;)</title>\n",
       "<path fill=\"none\" stroke=\"black\" stroke-width=\"2\" d=\"M1536.46,-228.11C1545.39,-215.7 1556.67,-203.33 1570,-195.36 1598.87,-178.11 1839.19,-163.7 1869,-148.11 1880.99,-141.85 1892.09,-132.74 1901.77,-123.07\"/>\n",
       "</g>\n",
       "<!-- (&#39;reactions_store&#39;, &#39;effector exhaustion&#39;) -->\n",
       "<g id=\"node24\" class=\"node\">\n",
       "<title>(&#39;reactions_store&#39;, &#39;effector exhaustion&#39;)</title>\n",
       "<ellipse fill=\"none\" stroke=\"black\" stroke-width=\"2\" cx=\"2078\" cy=\"-74.06\" rx=\"60.51\" ry=\"60.51\"/>\n",
       "<text text-anchor=\"start\" x=\"2033\" y=\"-69.78\" font-family=\"Times,serif\" font-size=\"12.00\">effector exhaustion</text>\n",
       "</g>\n",
       "<!-- (&#39;reactions_store&#39;,)&#45;&gt;(&#39;reactions_store&#39;, &#39;effector exhaustion&#39;) -->\n",
       "<g id=\"edge20\" class=\"edge\">\n",
       "<title>(&#39;reactions_store&#39;,)&#45;&gt;(&#39;reactions_store&#39;, &#39;effector exhaustion&#39;)</title>\n",
       "<path fill=\"none\" stroke=\"black\" stroke-width=\"2\" d=\"M1535.95,-228.11C1544.9,-215.54 1556.34,-203.07 1570,-195.36 1580.68,-189.33 1998.01,-153.56 2009,-148.11 2021.03,-142.14 2032.07,-133.15 2041.62,-123.5\"/>\n",
       "</g>\n",
       "<!-- (&#39;reactions_store&#39;, &#39;effector death&#39;) -->\n",
       "<g id=\"node25\" class=\"node\">\n",
       "<title>(&#39;reactions_store&#39;, &#39;effector death&#39;)</title>\n",
       "<ellipse fill=\"none\" stroke=\"black\" stroke-width=\"2\" cx=\"1074\" cy=\"-74.06\" rx=\"44.64\" ry=\"44.64\"/>\n",
       "<text text-anchor=\"start\" x=\"1041.75\" y=\"-69.78\" font-family=\"Times,serif\" font-size=\"12.00\">effector death</text>\n",
       "</g>\n",
       "<!-- (&#39;reactions_store&#39;,)&#45;&gt;(&#39;reactions_store&#39;, &#39;effector death&#39;) -->\n",
       "<g id=\"edge21\" class=\"edge\">\n",
       "<title>(&#39;reactions_store&#39;,)&#45;&gt;(&#39;reactions_store&#39;, &#39;effector death&#39;)</title>\n",
       "<path fill=\"none\" stroke=\"black\" stroke-width=\"2\" d=\"M1464.31,-264.63C1386.76,-253.61 1233.24,-223.37 1128,-148.11 1115.43,-139.12 1104.57,-126.31 1095.95,-113.92\"/>\n",
       "</g>\n",
       "<!-- (&#39;reactions_store&#39;, &#39;effector source&#39;) -->\n",
       "<g id=\"node26\" class=\"node\">\n",
       "<title>(&#39;reactions_store&#39;, &#39;effector source&#39;)</title>\n",
       "<ellipse fill=\"none\" stroke=\"black\" stroke-width=\"2\" cx=\"1185\" cy=\"-74.06\" rx=\"47.91\" ry=\"47.91\"/>\n",
       "<text text-anchor=\"start\" x=\"1150.12\" y=\"-69.78\" font-family=\"Times,serif\" font-size=\"12.00\">effector source</text>\n",
       "</g>\n",
       "<!-- (&#39;reactions_store&#39;,)&#45;&gt;(&#39;reactions_store&#39;, &#39;effector source&#39;) -->\n",
       "<g id=\"edge22\" class=\"edge\">\n",
       "<title>(&#39;reactions_store&#39;,)&#45;&gt;(&#39;reactions_store&#39;, &#39;effector source&#39;)</title>\n",
       "<path fill=\"none\" stroke=\"black\" stroke-width=\"2\" d=\"M1465.91,-256.77C1408.71,-238.72 1311.3,-202.55 1242,-148.11 1230.36,-138.97 1219.73,-126.96 1210.88,-115.33\"/>\n",
       "</g>\n",
       "<!-- (&#39;reactions_store&#39;, &#39;tumor nutrient missuply&#39;) -->\n",
       "<g id=\"node27\" class=\"node\">\n",
       "<title>(&#39;reactions_store&#39;, &#39;tumor nutrient missuply&#39;)</title>\n",
       "<ellipse fill=\"none\" stroke=\"black\" stroke-width=\"2\" cx=\"1325\" cy=\"-74.06\" rx=\"74.06\" ry=\"74.06\"/>\n",
       "<text text-anchor=\"start\" x=\"1269.12\" y=\"-69.78\" font-family=\"Times,serif\" font-size=\"12.00\">tumor nutrient missuply</text>\n",
       "</g>\n",
       "<!-- (&#39;reactions_store&#39;,)&#45;&gt;(&#39;reactions_store&#39;, &#39;tumor nutrient missuply&#39;) -->\n",
       "<g id=\"edge23\" class=\"edge\">\n",
       "<title>(&#39;reactions_store&#39;,)&#45;&gt;(&#39;reactions_store&#39;, &#39;tumor nutrient missuply&#39;)</title>\n",
       "<path fill=\"none\" stroke=\"black\" stroke-width=\"2\" d=\"M1479.39,-235.38C1450.77,-205.66 1409.19,-162.49 1376.39,-128.43\"/>\n",
       "</g>\n",
       "<!-- (&#39;reactions_store&#39;,)&#45;&gt;(&#39;tumor_control_model_composite&#39;,) -->\n",
       "<g id=\"edge27\" class=\"edge\">\n",
       "<title>(&#39;reactions_store&#39;,)&#45;&gt;(&#39;tumor_control_model_composite&#39;,)</title>\n",
       "<path fill=\"none\" stroke=\"black\" stroke-dasharray=\"5,2\" d=\"M1464.18,-265.26C1264.34,-244.6 517.06,-166.44 470,-148.11 442.15,-137.26 414.95,-116.85 395.8,-100.36\"/>\n",
       "<polygon fill=\"black\" stroke=\"black\" points=\"398.29,-97.88 388.48,-93.87 393.65,-103.12 398.29,-97.88\"/>\n",
       "<text text-anchor=\"start\" x=\"645\" y=\"-167.86\" font-family=\"Times,serif\" font-size=\"10.00\">reactions</text>\n",
       "</g>\n",
       "<!-- (&#39;emitter&#39;,) -->\n",
       "<g id=\"node28\" class=\"node\">\n",
       "<title>(&#39;emitter&#39;,)</title>\n",
       "<polygon fill=\"none\" stroke=\"black\" stroke-width=\"2\" points=\"1633,-289.29 1579,-289.29 1579,-253.29 1633,-253.29 1633,-289.29\"/>\n",
       "<text text-anchor=\"start\" x=\"1589.88\" y=\"-267.01\" font-family=\"Times,serif\" font-size=\"12.00\">emitter</text>\n",
       "</g>\n",
       "</g>\n",
       "</svg>\n"
      ],
      "text/plain": [
       "<graphviz.graphs.Digraph at 0x29b03b910>"
      ]
     },
     "execution_count": 10,
     "metadata": {},
     "output_type": "execute_result"
    }
   ],
   "source": [
    "# 5. Visualize the fully-connected composition:\n",
    "\n",
    "prompter.visualize_bigraph()"
   ]
  },
  {
   "cell_type": "code",
   "execution_count": 11,
   "id": "38052757b3b95baa",
   "metadata": {
    "ExecuteTime": {
     "end_time": "2024-03-15T00:04:46.712096Z",
     "start_time": "2024-03-15T00:04:44.164575Z"
    },
    "collapsed": false
   },
   "outputs": [
    {
     "name": "stderr",
     "output_type": "stream",
     "text": [
      "Error while running the simulation: >ERROR 2024-03-14T20:04:46<\n",
      "  CCopasiTask (5): No output file defined for report of task 'Time-Course'.>EXCEPTION 2024-03-14T20:04:46<\n",
      "  CTrajectoryMethod (25): Invalid state at time '0.010000'.\n",
      "/Users/alex/Desktop/uchc_work/repos/biosimulator-processes/notebooks/../biosimulator_processes/processes/copasi_process.py:231: FutureWarning:\n",
      "\n",
      "Series.__getitem__ treating keys as positions is deprecated. In a future version, integer keys will always be treated as labels (consistent with DataFrame behavior). To access a value by position, use `ser.iloc[pos]`\n",
      "\n",
      "Error while running the simulation: >ERROR 2024-03-14T20:04:46<\n",
      "  CCopasiTask (5): No output file defined for report of task 'Time-Course'.>EXCEPTION 2024-03-14T20:04:46<\n",
      "  CTrajectoryMethod (25): Invalid state at time '0.010000'.\n",
      "Error while running the simulation: >ERROR 2024-03-14T20:04:46<\n",
      "  CCopasiTask (5): No output file defined for report of task 'Time-Course'.>EXCEPTION 2024-03-14T20:04:46<\n",
      "  CTrajectoryMethod (25): Invalid state at time '0.010000'.\n",
      "Error while running the simulation: >ERROR 2024-03-14T20:04:46<\n",
      "  CCopasiTask (5): No output file defined for report of task 'Time-Course'.>EXCEPTION 2024-03-14T20:04:46<\n",
      "  CTrajectoryMethod (25): Invalid state at time '0.010000'.\n",
      "Error while running the simulation: >ERROR 2024-03-14T20:04:46<\n",
      "  CCopasiTask (5): No output file defined for report of task 'Time-Course'.>EXCEPTION 2024-03-14T20:04:46<\n",
      "  CTrajectoryMethod (25): Invalid state at time '0.010000'.\n"
     ]
    },
    {
     "name": "stdout",
     "output_type": "stream",
     "text": [
      "Generating composite...\n",
      "Composite generated!\n",
      "Running generated composite for an interval of 5\n",
      "Composite successfully run. Request complete. Done.\n"
     ]
    }
   ],
   "source": [
    "# 6. Generate a composite engine and use to execute the bigraph that we just created:\n",
    "\n",
    "prompter.run()"
   ]
  },
  {
   "cell_type": "code",
   "execution_count": 15,
   "id": "4ce83c700a15635a",
   "metadata": {
    "ExecuteTime": {
     "end_time": "2024-03-15T00:05:21.314813Z",
     "start_time": "2024-03-15T00:05:21.311168Z"
    },
    "collapsed": false
   },
   "outputs": [
    {
     "name": "stdout",
     "output_type": "stream",
     "text": [
      "File 'demo_tumor_control_composite' successfully written in 'out' directory.\n"
     ]
    }
   ],
   "source": [
    "# 6. Save the composite to a document:\n",
    "\n",
    "prompter.builder_instance.write(filename='demo_tumor_control_composite')"
   ]
  },
  {
   "cell_type": "markdown",
   "id": "b65a6fab79ad097c",
   "metadata": {
    "collapsed": false
   },
   "source": [
    "#### **_Experiment 2_**: Load an SBML model from a specified model filepath and add Model changes to the composite before adding it to the bigraph."
   ]
  },
  {
   "cell_type": "code",
   "execution_count": 16,
   "id": "2ffaa0d37d807d2c",
   "metadata": {
    "ExecuteTime": {
     "end_time": "2024-03-15T00:05:24.027512Z",
     "start_time": "2024-03-15T00:05:24.024565Z"
    },
    "collapsed": false
   },
   "outputs": [],
   "source": [
    "from biosimulator_processes.data_model import TimeCourseModelChanges, ModelChanges, ModelChange"
   ]
  },
  {
   "cell_type": "code",
   "execution_count": 13,
   "id": "bb5015718ce04c4b",
   "metadata": {
    "ExecuteTime": {
     "end_time": "2024-03-15T00:04:46.720933Z",
     "start_time": "2024-03-15T00:04:46.719885Z"
    },
    "collapsed": false
   },
   "outputs": [],
   "source": []
  }
 ],
 "metadata": {
  "kernelspec": {
   "display_name": "Python 3",
   "language": "python",
   "name": "python3"
  },
  "language_info": {
   "codemirror_mode": {
    "name": "ipython",
    "version": 2
   },
   "file_extension": ".py",
   "mimetype": "text/x-python",
   "name": "python",
   "nbconvert_exporter": "python",
   "pygments_lexer": "ipython2",
   "version": "2.7.6"
  }
 },
 "nbformat": 4,
 "nbformat_minor": 5
}
