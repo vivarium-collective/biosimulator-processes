{
 "cells": [
  {
   "cell_type": "markdown",
   "id": "8087f67dcdaefdee",
   "metadata": {
    "collapsed": false
   },
   "source": [
    "# BioBuilder API Demo"
   ]
  },
  {
   "cell_type": "code",
   "execution_count": 1,
   "id": "initial_id",
   "metadata": {
    "ExecuteTime": {
     "end_time": "2024-03-14T23:25:39.689841Z",
     "start_time": "2024-03-14T23:25:38.873642Z"
    },
    "collapsed": true
   },
   "outputs": [
    {
     "name": "stdout",
     "output_type": "stream",
     "text": [
      "True\n"
     ]
    },
    {
     "data": {
      "text/plain": [
       "<Response [200]>"
      ]
     },
     "execution_count": 1,
     "metadata": {},
     "output_type": "execute_result"
    }
   ],
   "source": [
    "import sys\n",
    "\n",
    "sys.path.insert(0, '..')\n",
    "\n",
    "import os\n",
    "import requests\n",
    "\n",
    "caravagna_model_filepath = '../biosimulator_processes/model_files/Caravagna2010.xml'\n",
    "print(os.path.exists(caravagna_model_filepath))\n",
    "\n",
    "tumor_control_biomodel_id = 'BIOMD0000000749'\n",
    "requests.get('https://www.ebi.ac.uk/biomodels/BIOMD0000000749', headers={'accept': 'json'})"
   ]
  },
  {
   "cell_type": "markdown",
   "id": "572ce5fd9c49efcb",
   "metadata": {
    "collapsed": false
   },
   "source": [
    "#### **_Experiment 1_**:  Here we cross a boundary in the stack that is a biological simulation. We go from model configuration, to experiment. Thus, this tooling sits at that level: both experiment specification AND experiment execution. It's not just a way to specify an experiment, but it is also a way to run it, given the many knobs and buttons that you can use predefine and customize the way the actual model is being solved. Our users are seeking to be involved in an experiment as a \"stack\". We should make a bigger distinction between terms like \"model\"."
   ]
  },
  {
   "cell_type": "code",
   "execution_count": 2,
   "id": "e3218a2629726818",
   "metadata": {
    "ExecuteTime": {
     "end_time": "2024-03-14T23:25:43.722278Z",
     "start_time": "2024-03-14T23:25:42.205830Z"
    },
    "collapsed": false
   },
   "outputs": [
    {
     "name": "stdout",
     "output_type": "stream",
     "text": [
      "CobraProcess registered successfully.\n",
      "CopasiProcess registered successfully.\n",
      "SmoldynProcess registered successfully.\n",
      "TelluriumProcess registered successfully.\n"
     ]
    }
   ],
   "source": [
    "from biosimulator_processes.biosimulator_builder import BuildPrompter\n",
    "from biosimulator_processes.data_model import TimeCourseProcess, TimeCourseModel"
   ]
  },
  {
   "cell_type": "code",
   "execution_count": 3,
   "id": "871b58285775fb24",
   "metadata": {
    "ExecuteTime": {
     "end_time": "2024-03-14T23:25:44.326543Z",
     "start_time": "2024-03-14T23:25:44.323566Z"
    },
    "collapsed": false
   },
   "outputs": [],
   "source": [
    "# 1. define a model for the process composition. In this case, just one model to be re-used as configuration for the processes we create:\n",
    "\n",
    "tc_model = TimeCourseModel(model_source=tumor_control_biomodel_id)"
   ]
  },
  {
   "cell_type": "code",
   "execution_count": 4,
   "id": "a9c15126dda87970",
   "metadata": {
    "ExecuteTime": {
     "end_time": "2024-03-14T23:25:46.599637Z",
     "start_time": "2024-03-14T23:25:46.595263Z"
    },
    "collapsed": false
   },
   "outputs": [
    {
     "data": {
      "text/plain": [
       "TimeCourseModel(model_source='BIOMD0000000749', model_id='model_from_BIOMD0000000749', model_name='model_from_BIOMD0000000749', model_language='sbml', model_changes=None, model_units=None)"
      ]
     },
     "execution_count": 4,
     "metadata": {},
     "output_type": "execute_result"
    }
   ],
   "source": [
    "# >> The model is viewable as a dataclass...\n",
    "\n",
    "tc_model"
   ]
  },
  {
   "cell_type": "code",
   "execution_count": 5,
   "id": "ba3d6e8bae50f216",
   "metadata": {
    "ExecuteTime": {
     "end_time": "2024-03-14T23:25:47.889447Z",
     "start_time": "2024-03-14T23:25:47.885290Z"
    },
    "collapsed": false
   },
   "outputs": [
    {
     "data": {
      "text/plain": [
       "{'model_source': 'BIOMD0000000749',\n",
       " 'model_id': 'model_from_BIOMD0000000749',\n",
       " 'model_name': 'model_from_BIOMD0000000749',\n",
       " 'model_language': 'sbml',\n",
       " 'model_changes': None,\n",
       " 'model_units': None}"
      ]
     },
     "execution_count": 5,
     "metadata": {},
     "output_type": "execute_result"
    }
   ],
   "source": [
    "# >> ...or a dict:\n",
    "\n",
    "tc_model.dump()"
   ]
  },
  {
   "cell_type": "code",
   "execution_count": 6,
   "id": "f6d099ae829fb063",
   "metadata": {
    "ExecuteTime": {
     "end_time": "2024-03-14T23:25:52.907221Z",
     "start_time": "2024-03-14T23:25:52.904196Z"
    },
    "collapsed": false
   },
   "outputs": [],
   "source": [
    "# 2. instantiate the prompter:\n",
    "\n",
    "prompter = BuildPrompter()"
   ]
  },
  {
   "cell_type": "code",
   "execution_count": null,
   "id": "6ff0228586348da1",
   "metadata": {
    "collapsed": false
   },
   "outputs": [],
   "source": [
    "# 3. add process(es) to the bigraph with the Time Course model instance we created above. For now, just one process will be added.\n",
    "\n",
    "prompter.add_single_process(config=tc_model)"
   ]
  },
  {
   "cell_type": "markdown",
   "id": "b65a6fab79ad097c",
   "metadata": {
    "collapsed": false
   },
   "source": [
    "#### **_Experiment 2_**: Load an SBML model from a specified model filepath and add Model changes to the composite before adding it to the bigraph."
   ]
  },
  {
   "cell_type": "code",
   "execution_count": null,
   "id": "2ffaa0d37d807d2c",
   "metadata": {
    "collapsed": false
   },
   "outputs": [],
   "source": [
    "from biosimulator_processes.data_model import TimeCourseModelChanges, ModelChanges, ModelChange"
   ]
  }
 ],
 "metadata": {
  "kernelspec": {
   "display_name": "Python 3",
   "language": "python",
   "name": "python3"
  },
  "language_info": {
   "codemirror_mode": {
    "name": "ipython",
    "version": 2
   },
   "file_extension": ".py",
   "mimetype": "text/x-python",
   "name": "python",
   "nbconvert_exporter": "python",
   "pygments_lexer": "ipython2",
   "version": "2.7.6"
  }
 },
 "nbformat": 4,
 "nbformat_minor": 5
}
