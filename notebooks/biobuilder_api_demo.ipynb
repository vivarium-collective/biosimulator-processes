{
 "cells": [
  {
   "cell_type": "markdown",
   "id": "8087f67dcdaefdee",
   "metadata": {
    "collapsed": false
   },
   "source": [
    "# BioBuilder API Demo"
   ]
  },
  {
   "cell_type": "code",
   "execution_count": 1,
   "id": "initial_id",
   "metadata": {
    "ExecuteTime": {
     "end_time": "2024-03-14T23:52:49.587727Z",
     "start_time": "2024-03-14T23:52:48.767187Z"
    },
    "collapsed": true
   },
   "outputs": [
    {
     "name": "stdout",
     "output_type": "stream",
     "text": [
      "True\n"
     ]
    },
    {
     "data": {
      "text/plain": [
       "<Response [200]>"
      ]
     },
     "execution_count": 1,
     "metadata": {},
     "output_type": "execute_result"
    }
   ],
   "source": [
    "import sys\n",
    "\n",
    "sys.path.insert(0, '..')\n",
    "\n",
    "import os\n",
    "import requests\n",
    "\n",
    "caravagna_model_filepath = '../biosimulator_processes/model_files/Caravagna2010.xml'\n",
    "print(os.path.exists(caravagna_model_filepath))\n",
    "\n",
    "tumor_control_biomodel_id = 'BIOMD0000000749'\n",
    "requests.get('https://www.ebi.ac.uk/biomodels/BIOMD0000000749', headers={'accept': 'json'})"
   ]
  },
  {
   "cell_type": "markdown",
   "id": "572ce5fd9c49efcb",
   "metadata": {
    "collapsed": false
   },
   "source": [
    "#### **_Experiment 1_**:  Here we cross a boundary in the stack that is a biological simulation. We go from model configuration, to experiment. Thus, this tooling sits at that level: both experiment specification AND experiment execution. It's not just a way to specify an experiment, but it is also a way to run it, given the many knobs and buttons that you can use predefine and customize the way the actual model is being solved. Our users are seeking to be involved in an experiment as a \"stack\". We should make a bigger distinction between terms like \"model\"."
   ]
  },
  {
   "cell_type": "code",
   "execution_count": 2,
   "id": "e3218a2629726818",
   "metadata": {
    "ExecuteTime": {
     "end_time": "2024-03-14T23:52:51.070472Z",
     "start_time": "2024-03-14T23:52:49.589381Z"
    },
    "collapsed": false
   },
   "outputs": [
    {
     "name": "stdout",
     "output_type": "stream",
     "text": [
      "CobraProcess registered successfully.\n",
      "CopasiProcess registered successfully.\n",
      "SmoldynProcess registered successfully.\n",
      "TelluriumProcess registered successfully.\n"
     ]
    }
   ],
   "source": [
    "from process_bigraph import pp\n",
    "from biosimulator_processes.biosimulator_builder import BuildPrompter\n",
    "from biosimulator_processes.data_model import TimeCourseProcess, TimeCourseModel"
   ]
  },
  {
   "cell_type": "code",
   "execution_count": 3,
   "id": "871b58285775fb24",
   "metadata": {
    "ExecuteTime": {
     "end_time": "2024-03-14T23:52:51.073346Z",
     "start_time": "2024-03-14T23:52:51.071309Z"
    },
    "collapsed": false
   },
   "outputs": [
    {
     "name": "stdout",
     "output_type": "stream",
     "text": [
      "TimeCourseModel(model_source='BIOMD0000000749',\n",
      "                model_id='model_from_BIOMD0000000749',\n",
      "                model_name='model_from_BIOMD0000000749',\n",
      "                model_language='sbml',\n",
      "                model_changes=None,\n",
      "                model_units=None)\n"
     ]
    }
   ],
   "source": [
    "# 1a. define a model for the process composition. In this case, just one model to be re-used as configuration for the processes we create:\n",
    "\n",
    "tc_model = TimeCourseModel(model_source=tumor_control_biomodel_id)\n",
    "\n",
    "pp(tc_model)"
   ]
  },
  {
   "cell_type": "code",
   "execution_count": 4,
   "id": "a30f5e94167513c9",
   "metadata": {
    "ExecuteTime": {
     "end_time": "2024-03-14T23:52:51.075888Z",
     "start_time": "2024-03-14T23:52:51.074495Z"
    },
    "collapsed": false
   },
   "outputs": [],
   "source": [
    "# 1b. define a TimeCourse process instance using the above object as a parameter. The other parameter is method. See BasiCO documentation for more details on solvers\n",
    "\n",
    "tc_process = TimeCourseProcess(model=tc_model, method='directMethod')"
   ]
  },
  {
   "cell_type": "code",
   "execution_count": 5,
   "id": "a9c15126dda87970",
   "metadata": {
    "ExecuteTime": {
     "end_time": "2024-03-14T23:52:51.078372Z",
     "start_time": "2024-03-14T23:52:51.076473Z"
    },
    "collapsed": false
   },
   "outputs": [
    {
     "name": "stdout",
     "output_type": "stream",
     "text": [
      "TimeCourseProcess(model=TimeCourseModel(model_source='BIOMD0000000749',\n",
      "                                        model_id='model_from_BIOMD0000000749',\n",
      "                                        model_name='model_from_BIOMD0000000749',\n",
      "                                        model_language='sbml',\n",
      "                                        model_changes=None,\n",
      "                                        model_units=None),\n",
      "                  method='directMethod')\n"
     ]
    }
   ],
   "source": [
    "# >> The process model instance is viewable as a dataclass...\n",
    "\n",
    "pp(tc_process)"
   ]
  },
  {
   "cell_type": "code",
   "execution_count": 6,
   "id": "ba3d6e8bae50f216",
   "metadata": {
    "ExecuteTime": {
     "end_time": "2024-03-14T23:52:51.080654Z",
     "start_time": "2024-03-14T23:52:51.079046Z"
    },
    "collapsed": false
   },
   "outputs": [
    {
     "name": "stdout",
     "output_type": "stream",
     "text": [
      "{ 'method': 'directMethod',\n",
      "  'model': { 'model_changes': None,\n",
      "             'model_id': 'model_from_BIOMD0000000749',\n",
      "             'model_language': 'sbml',\n",
      "             'model_name': 'model_from_BIOMD0000000749',\n",
      "             'model_source': 'BIOMD0000000749',\n",
      "             'model_units': None}}\n"
     ]
    }
   ],
   "source": [
    "# >> ...or a dict:\n",
    "\n",
    "pp(tc_process.to_dict())"
   ]
  },
  {
   "cell_type": "code",
   "execution_count": 7,
   "id": "f6d099ae829fb063",
   "metadata": {
    "ExecuteTime": {
     "end_time": "2024-03-14T23:52:51.082980Z",
     "start_time": "2024-03-14T23:52:51.081367Z"
    },
    "collapsed": false
   },
   "outputs": [],
   "source": [
    "# 2. instantiate the prompter:\n",
    "\n",
    "prompter = BuildPrompter()"
   ]
  },
  {
   "cell_type": "code",
   "execution_count": 8,
   "id": "6ff0228586348da1",
   "metadata": {
    "ExecuteTime": {
     "end_time": "2024-03-14T23:53:10.248535Z",
     "start_time": "2024-03-14T23:52:51.083510Z"
    },
    "collapsed": false
   },
   "outputs": [
    {
     "name": "stdout",
     "output_type": "stream",
     "text": [
      "demo_atomic_process process successfully added to the bi-graph!\n",
      "All nodes including the most recently added demo_atomic_process processes connected!\n",
      "Done adding single demo_atomic_process (CopasiProcess) to the bigraph.\n"
     ]
    }
   ],
   "source": [
    "# 3. add process(es) to the bigraph with the Time Course model instance we created above. For now, just one process will be added.\n",
    "\n",
    "prompter.add_single_process(config=tc_process)"
   ]
  },
  {
   "cell_type": "code",
   "execution_count": 9,
   "id": "b833c7217603645c",
   "metadata": {
    "ExecuteTime": {
     "end_time": "2024-03-14T23:53:10.252966Z",
     "start_time": "2024-03-14T23:53:10.249880Z"
    },
    "collapsed": false
   },
   "outputs": [
    {
     "name": "stdout",
     "output_type": "stream",
     "text": [
      "Builder({ 'demo_atomic_process': { '_type': 'process',\n",
      "                           'address': 'local:CopasiProcess',\n",
      "                           'config': { 'method': 'directMethod',\n",
      "                                       'model': { 'model_changes': { 'global_parameter_changes': None,\n",
      "                                                                     'reaction_changes': None,\n",
      "                                                                     'species_changes': None},\n",
      "                                                  'model_id': 'model_from_BIOMD0000000749',\n",
      "                                                  'model_language': 'sbml',\n",
      "                                                  'model_name': 'model_from_BIOMD0000000749',\n",
      "                                                  'model_source': 'BIOMD0000000749',\n",
      "                                                  'model_units': None}},\n",
      "                           'inputs': { 'floating_species': [ 'floating_species_store'],\n",
      "                                       'model_parameters': [ 'model_parameters_store'],\n",
      "                                       'reactions': ['reactions_store'],\n",
      "                                       'time': ['time_store']},\n",
      "                           'instance': <biosimulator_processes.processes.copasi_process.CopasiProcess object at 0x29fb3a740>,\n",
      "                           'interval': 1.0,\n",
      "                           'outputs': { 'floating_species': [ 'floating_species_store'],\n",
      "                                        'time': ['time_store']}},\n",
      "  'emitter': { '_type': 'step',\n",
      "               'address': 'local:ram-emitter',\n",
      "               'config': {'emit': {}},\n",
      "               'inputs': {},\n",
      "               'instance': <process_bigraph.composite.RAMEmitter object at 0x29fb3a500>,\n",
      "               'outputs': {}}})\n"
     ]
    }
   ],
   "source": [
    "# 4. Inspect the builder instance within prompter:\n",
    "\n",
    "pp(prompter.builder_instance)"
   ]
  },
  {
   "cell_type": "code",
   "execution_count": 10,
   "id": "8400f44e3a2e8433",
   "metadata": {
    "ExecuteTime": {
     "end_time": "2024-03-14T23:53:10.422585Z",
     "start_time": "2024-03-14T23:53:10.255477Z"
    },
    "collapsed": false
   },
   "outputs": [
    {
     "data": {
      "image/svg+xml": [
       "<?xml version=\"1.0\" encoding=\"UTF-8\" standalone=\"no\"?>\n",
       "<!DOCTYPE svg PUBLIC \"-//W3C//DTD SVG 1.1//EN\"\n",
       " \"http://www.w3.org/Graphics/SVG/1.1/DTD/svg11.dtd\">\n",
       "<!-- Generated by graphviz version 9.0.0 (20230911.1827)\n",
       " -->\n",
       "<!-- Title: bigraph Pages: 1 -->\n",
       "<svg width=\"1120pt\" height=\"187pt\"\n",
       " viewBox=\"0.00 0.00 1152.00 191.89\" xmlns=\"http://www.w3.org/2000/svg\" xmlns:xlink=\"http://www.w3.org/1999/xlink\">\n",
       "<g id=\"graph0\" class=\"graph\" transform=\"scale(0.525201 0.525201) rotate(0) translate(4 351.21)\">\n",
       "<title>bigraph</title>\n",
       "<polygon fill=\"white\" stroke=\"none\" points=\"-4,4 -4,-351.21 2128.51,-351.21 2128.51,4 -4,4\"/>\n",
       "<!-- (&#39;time_store&#39;,) -->\n",
       "<g id=\"node1\" class=\"node\">\n",
       "<title>(&#39;time_store&#39;,)</title>\n",
       "<ellipse fill=\"none\" stroke=\"black\" stroke-width=\"2\" cx=\"384\" cy=\"-271.29\" rx=\"34.83\" ry=\"34.83\"/>\n",
       "<text text-anchor=\"start\" x=\"359.62\" y=\"-267.01\" font-family=\"Times,serif\" font-size=\"12.00\">time_store</text>\n",
       "</g>\n",
       "<!-- (&#39;demo_atomic_process&#39;,) -->\n",
       "<g id=\"node29\" class=\"node\">\n",
       "<title>(&#39;demo_atomic_process&#39;,)</title>\n",
       "<polygon fill=\"none\" stroke=\"black\" stroke-width=\"2\" points=\"434.1,-92.06 321.9,-92.06 321.9,-56.06 434.1,-56.06 434.1,-92.06\"/>\n",
       "<text text-anchor=\"start\" x=\"325.5\" y=\"-69.78\" font-family=\"Times,serif\" font-size=\"12.00\">demo_atomic_process</text>\n",
       "</g>\n",
       "<!-- (&#39;time_store&#39;,)&#45;&gt;(&#39;demo_atomic_process&#39;,) -->\n",
       "<g id=\"edge24\" class=\"edge\">\n",
       "<title>(&#39;time_store&#39;,)&#45;&gt;(&#39;demo_atomic_process&#39;,)</title>\n",
       "<path fill=\"none\" stroke=\"black\" stroke-dasharray=\"5,2\" d=\"M375.39,-236.55C371.36,-219.03 367.01,-197.19 365,-177.36 362.48,-152.49 366.58,-124.33 370.82,-103.85\"/>\n",
       "<polygon fill=\"black\" stroke=\"black\" points=\"374.2,-104.77 372.96,-94.24 367.37,-103.25 374.2,-104.77\"/>\n",
       "<text text-anchor=\"start\" x=\"365\" y=\"-167.86\" font-family=\"Times,serif\" font-size=\"10.00\">time</text>\n",
       "</g>\n",
       "<!-- (&#39;time_store&#39;,)&#45;&gt;(&#39;demo_atomic_process&#39;,) -->\n",
       "<g id=\"edge28\" class=\"edge\">\n",
       "<title>(&#39;time_store&#39;,)&#45;&gt;(&#39;demo_atomic_process&#39;,)</title>\n",
       "<path fill=\"none\" stroke=\"black\" stroke-dasharray=\"5,2\" d=\"M384.01,-224.12C383.89,-206.03 383.61,-185.09 383,-166.11 382.18,-140.64 380.41,-111.19 379.22,-92.84\"/>\n",
       "<polygon fill=\"black\" stroke=\"black\" points=\"380.5,-224.06 384.05,-234.04 387.5,-224.02 380.5,-224.06\"/>\n",
       "<text text-anchor=\"start\" x=\"384\" y=\"-167.86\" font-family=\"Times,serif\" font-size=\"10.00\">time</text>\n",
       "</g>\n",
       "<!-- (&#39;floating_species_store&#39;,) -->\n",
       "<g id=\"node2\" class=\"node\">\n",
       "<title>(&#39;floating_species_store&#39;,)</title>\n",
       "<ellipse fill=\"none\" stroke=\"black\" stroke-width=\"2\" cx=\"139\" cy=\"-271.29\" rx=\"69.39\" ry=\"69.39\"/>\n",
       "<text text-anchor=\"start\" x=\"86.88\" y=\"-267.01\" font-family=\"Times,serif\" font-size=\"12.00\">floating_species_store</text>\n",
       "</g>\n",
       "<!-- (&#39;floating_species_store&#39;, &#39;E&#39;) -->\n",
       "<g id=\"node3\" class=\"node\">\n",
       "<title>(&#39;floating_species_store&#39;, &#39;E&#39;)</title>\n",
       "<ellipse fill=\"none\" stroke=\"black\" stroke-width=\"2\" cx=\"180\" cy=\"-74.06\" rx=\"18\" ry=\"18\"/>\n",
       "<text text-anchor=\"start\" x=\"176.25\" y=\"-69.78\" font-family=\"Times,serif\" font-size=\"12.00\">E</text>\n",
       "</g>\n",
       "<!-- (&#39;floating_species_store&#39;,)&#45;&gt;(&#39;floating_species_store&#39;, &#39;E&#39;) -->\n",
       "<g id=\"edge1\" class=\"edge\">\n",
       "<title>(&#39;floating_species_store&#39;,)&#45;&gt;(&#39;floating_species_store&#39;, &#39;E&#39;)</title>\n",
       "<path fill=\"none\" stroke=\"black\" stroke-width=\"2\" d=\"M153.22,-202.55C161.46,-163.35 171.19,-117.02 176.35,-92.43\"/>\n",
       "</g>\n",
       "<!-- (&#39;floating_species_store&#39;, &#39;R&#39;) -->\n",
       "<g id=\"node4\" class=\"node\">\n",
       "<title>(&#39;floating_species_store&#39;, &#39;R&#39;)</title>\n",
       "<ellipse fill=\"none\" stroke=\"black\" stroke-width=\"2\" cx=\"18\" cy=\"-74.06\" rx=\"18\" ry=\"18\"/>\n",
       "<text text-anchor=\"start\" x=\"13.88\" y=\"-69.78\" font-family=\"Times,serif\" font-size=\"12.00\">R</text>\n",
       "</g>\n",
       "<!-- (&#39;floating_species_store&#39;,)&#45;&gt;(&#39;floating_species_store&#39;, &#39;R&#39;) -->\n",
       "<g id=\"edge2\" class=\"edge\">\n",
       "<title>(&#39;floating_species_store&#39;,)&#45;&gt;(&#39;floating_species_store&#39;, &#39;R&#39;)</title>\n",
       "<path fill=\"none\" stroke=\"black\" stroke-width=\"2\" d=\"M93.18,-217.98C76.5,-197.2 58.46,-172.47 45,-148.11 34.99,-130.01 27.3,-107.45 22.74,-92.23\"/>\n",
       "</g>\n",
       "<!-- (&#39;floating_species_store&#39;, &#39;f&#39;) -->\n",
       "<g id=\"node5\" class=\"node\">\n",
       "<title>(&#39;floating_species_store&#39;, &#39;f&#39;)</title>\n",
       "<ellipse fill=\"none\" stroke=\"black\" stroke-width=\"2\" cx=\"72\" cy=\"-74.06\" rx=\"18\" ry=\"18\"/>\n",
       "<text text-anchor=\"start\" x=\"70.12\" y=\"-69.78\" font-family=\"Times,serif\" font-size=\"12.00\">f</text>\n",
       "</g>\n",
       "<!-- (&#39;floating_species_store&#39;,)&#45;&gt;(&#39;floating_species_store&#39;, &#39;f&#39;) -->\n",
       "<g id=\"edge3\" class=\"edge\">\n",
       "<title>(&#39;floating_species_store&#39;,)&#45;&gt;(&#39;floating_species_store&#39;, &#39;f&#39;)</title>\n",
       "<path fill=\"none\" stroke=\"black\" stroke-width=\"2\" d=\"M116.5,-204.73C102.82,-164.86 86.38,-116.95 77.82,-92.01\"/>\n",
       "</g>\n",
       "<!-- (&#39;floating_species_store&#39;, &quot;E&#39;&quot;) -->\n",
       "<g id=\"node6\" class=\"node\">\n",
       "<title>(&#39;floating_species_store&#39;, &quot;E&#39;&quot;)</title>\n",
       "<ellipse fill=\"none\" stroke=\"black\" stroke-width=\"2\" cx=\"126\" cy=\"-74.06\" rx=\"18\" ry=\"18\"/>\n",
       "<text text-anchor=\"start\" x=\"121.12\" y=\"-69.78\" font-family=\"Times,serif\" font-size=\"12.00\">E&#39;</text>\n",
       "</g>\n",
       "<!-- (&#39;floating_species_store&#39;,)&#45;&gt;(&#39;floating_species_store&#39;, &quot;E&#39;&quot;) -->\n",
       "<g id=\"edge4\" class=\"edge\">\n",
       "<title>(&#39;floating_species_store&#39;,)&#45;&gt;(&#39;floating_species_store&#39;, &quot;E&#39;&quot;)</title>\n",
       "<path fill=\"none\" stroke=\"black\" stroke-width=\"2\" d=\"M134.4,-201.18C131.83,-162.57 128.82,-117.44 127.19,-93\"/>\n",
       "</g>\n",
       "<!-- (&#39;floating_species_store&#39;,)&#45;&gt;(&#39;demo_atomic_process&#39;,) -->\n",
       "<g id=\"edge25\" class=\"edge\">\n",
       "<title>(&#39;floating_species_store&#39;,)&#45;&gt;(&#39;demo_atomic_process&#39;,)</title>\n",
       "<path fill=\"none\" stroke=\"black\" stroke-dasharray=\"5,2\" d=\"M159.86,-204.16C166.4,-190.42 174.74,-176.87 185.25,-166.11 205.19,-145.7 271.03,-116.85 320.25,-97.12\"/>\n",
       "<polygon fill=\"black\" stroke=\"black\" points=\"321.38,-100.44 329.38,-93.49 318.8,-93.93 321.38,-100.44\"/>\n",
       "<text text-anchor=\"start\" x=\"186\" y=\"-167.86\" font-family=\"Times,serif\" font-size=\"10.00\">floating_species</text>\n",
       "</g>\n",
       "<!-- (&#39;floating_species_store&#39;,)&#45;&gt;(&#39;demo_atomic_process&#39;,) -->\n",
       "<g id=\"edge29\" class=\"edge\">\n",
       "<title>(&#39;floating_species_store&#39;,)&#45;&gt;(&#39;demo_atomic_process&#39;,)</title>\n",
       "<path fill=\"none\" stroke=\"black\" stroke-dasharray=\"5,2\" d=\"M201.58,-219.16C252.52,-177.56 321.45,-121.25 356.14,-92.92\"/>\n",
       "<polygon fill=\"black\" stroke=\"black\" points=\"199.64,-216.23 194.11,-225.27 204.07,-221.66 199.64,-216.23\"/>\n",
       "<text text-anchor=\"start\" x=\"266\" y=\"-167.86\" font-family=\"Times,serif\" font-size=\"10.00\">floating_species</text>\n",
       "</g>\n",
       "<!-- (&#39;model_parameters_store&#39;,) -->\n",
       "<g id=\"node7\" class=\"node\">\n",
       "<title>(&#39;model_parameters_store&#39;,)</title>\n",
       "<ellipse fill=\"none\" stroke=\"black\" stroke-width=\"2\" cx=\"707\" cy=\"-271.29\" rx=\"75.92\" ry=\"75.92\"/>\n",
       "<text text-anchor=\"start\" x=\"649.62\" y=\"-267.01\" font-family=\"Times,serif\" font-size=\"12.00\">model_parameters_store</text>\n",
       "</g>\n",
       "<!-- (&#39;model_parameters_store&#39;, &#39;B&#39;) -->\n",
       "<g id=\"node8\" class=\"node\">\n",
       "<title>(&#39;model_parameters_store&#39;, &#39;B&#39;)</title>\n",
       "<ellipse fill=\"none\" stroke=\"black\" stroke-width=\"2\" cx=\"653\" cy=\"-74.06\" rx=\"18\" ry=\"18\"/>\n",
       "<text text-anchor=\"start\" x=\"648.88\" y=\"-69.78\" font-family=\"Times,serif\" font-size=\"12.00\">B</text>\n",
       "</g>\n",
       "<!-- (&#39;model_parameters_store&#39;,)&#45;&gt;(&#39;model_parameters_store&#39;, &#39;B&#39;) -->\n",
       "<g id=\"edge5\" class=\"edge\">\n",
       "<title>(&#39;model_parameters_store&#39;,)&#45;&gt;(&#39;model_parameters_store&#39;, &#39;B&#39;)</title>\n",
       "<path fill=\"none\" stroke=\"black\" stroke-width=\"2\" d=\"M686.82,-197.31C676.27,-159.19 664.24,-115.7 657.75,-92.24\"/>\n",
       "</g>\n",
       "<!-- (&#39;model_parameters_store&#39;, &#39;lm&#39;) -->\n",
       "<g id=\"node9\" class=\"node\">\n",
       "<title>(&#39;model_parameters_store&#39;, &#39;lm&#39;)</title>\n",
       "<ellipse fill=\"none\" stroke=\"black\" stroke-width=\"2\" cx=\"707\" cy=\"-74.06\" rx=\"18\" ry=\"18\"/>\n",
       "<text text-anchor=\"start\" x=\"701\" y=\"-69.78\" font-family=\"Times,serif\" font-size=\"12.00\">lm</text>\n",
       "</g>\n",
       "<!-- (&#39;model_parameters_store&#39;,)&#45;&gt;(&#39;model_parameters_store&#39;, &#39;lm&#39;) -->\n",
       "<g id=\"edge6\" class=\"edge\">\n",
       "<title>(&#39;model_parameters_store&#39;,)&#45;&gt;(&#39;model_parameters_store&#39;, &#39;lm&#39;)</title>\n",
       "<path fill=\"none\" stroke=\"black\" stroke-width=\"2\" d=\"M707,-194.53C707,-157.44 707,-115.92 707,-92.89\"/>\n",
       "</g>\n",
       "<!-- (&#39;model_parameters_store&#39;, &#39;la&#39;) -->\n",
       "<g id=\"node10\" class=\"node\">\n",
       "<title>(&#39;model_parameters_store&#39;, &#39;la&#39;)</title>\n",
       "<ellipse fill=\"none\" stroke=\"black\" stroke-width=\"2\" cx=\"761\" cy=\"-74.06\" rx=\"18\" ry=\"18\"/>\n",
       "<text text-anchor=\"start\" x=\"756.88\" y=\"-69.78\" font-family=\"Times,serif\" font-size=\"12.00\">la</text>\n",
       "</g>\n",
       "<!-- (&#39;model_parameters_store&#39;,)&#45;&gt;(&#39;model_parameters_store&#39;, &#39;la&#39;) -->\n",
       "<g id=\"edge7\" class=\"edge\">\n",
       "<title>(&#39;model_parameters_store&#39;,)&#45;&gt;(&#39;model_parameters_store&#39;, &#39;la&#39;)</title>\n",
       "<path fill=\"none\" stroke=\"black\" stroke-width=\"2\" d=\"M727.18,-197.31C737.73,-159.19 749.76,-115.7 756.25,-92.24\"/>\n",
       "</g>\n",
       "<!-- (&#39;model_parameters_store&#39;, &#39;ld&#39;) -->\n",
       "<g id=\"node11\" class=\"node\">\n",
       "<title>(&#39;model_parameters_store&#39;, &#39;ld&#39;)</title>\n",
       "<ellipse fill=\"none\" stroke=\"black\" stroke-width=\"2\" cx=\"815\" cy=\"-74.06\" rx=\"18\" ry=\"18\"/>\n",
       "<text text-anchor=\"start\" x=\"810.5\" y=\"-69.78\" font-family=\"Times,serif\" font-size=\"12.00\">ld</text>\n",
       "</g>\n",
       "<!-- (&#39;model_parameters_store&#39;,)&#45;&gt;(&#39;model_parameters_store&#39;, &#39;ld&#39;) -->\n",
       "<g id=\"edge8\" class=\"edge\">\n",
       "<title>(&#39;model_parameters_store&#39;,)&#45;&gt;(&#39;model_parameters_store&#39;, &#39;ld&#39;)</title>\n",
       "<path fill=\"none\" stroke=\"black\" stroke-width=\"2\" d=\"M751.72,-208.87C764.4,-189.93 777.57,-168.65 788,-148.11 797.36,-129.66 805.18,-107.17 809.95,-92.06\"/>\n",
       "</g>\n",
       "<!-- (&#39;model_parameters_store&#39;, &#39;c&#39;) -->\n",
       "<g id=\"node12\" class=\"node\">\n",
       "<title>(&#39;model_parameters_store&#39;, &#39;c&#39;)</title>\n",
       "<ellipse fill=\"none\" stroke=\"black\" stroke-width=\"2\" cx=\"869\" cy=\"-74.06\" rx=\"18\" ry=\"18\"/>\n",
       "<text text-anchor=\"start\" x=\"866.38\" y=\"-69.78\" font-family=\"Times,serif\" font-size=\"12.00\">c</text>\n",
       "</g>\n",
       "<!-- (&#39;model_parameters_store&#39;,)&#45;&gt;(&#39;model_parameters_store&#39;, &#39;c&#39;) -->\n",
       "<g id=\"edge9\" class=\"edge\">\n",
       "<title>(&#39;model_parameters_store&#39;,)&#45;&gt;(&#39;model_parameters_store&#39;, &#39;c&#39;)</title>\n",
       "<path fill=\"none\" stroke=\"black\" stroke-width=\"2\" d=\"M768.61,-225.36C794.1,-204.25 822.26,-177.31 842,-148.11 853.67,-130.86 861.07,-107.93 865.11,-92.39\"/>\n",
       "</g>\n",
       "<!-- (&#39;model_parameters_store&#39;, &#39;k&#39;) -->\n",
       "<g id=\"node13\" class=\"node\">\n",
       "<title>(&#39;model_parameters_store&#39;, &#39;k&#39;)</title>\n",
       "<ellipse fill=\"none\" stroke=\"black\" stroke-width=\"2\" cx=\"923\" cy=\"-74.06\" rx=\"18\" ry=\"18\"/>\n",
       "<text text-anchor=\"start\" x=\"920\" y=\"-69.78\" font-family=\"Times,serif\" font-size=\"12.00\">k</text>\n",
       "</g>\n",
       "<!-- (&#39;model_parameters_store&#39;,)&#45;&gt;(&#39;model_parameters_store&#39;, &#39;k&#39;) -->\n",
       "<g id=\"edge10\" class=\"edge\">\n",
       "<title>(&#39;model_parameters_store&#39;,)&#45;&gt;(&#39;model_parameters_store&#39;, &#39;k&#39;)</title>\n",
       "<path fill=\"none\" stroke=\"black\" stroke-width=\"2\" d=\"M776.66,-239.2C816.37,-218.4 864.36,-187.6 896,-148.11 909.1,-131.76 916.24,-108.42 919.83,-92.56\"/>\n",
       "</g>\n",
       "<!-- (&#39;model_parameters_store&#39;, &#39;d1&#39;) -->\n",
       "<g id=\"node14\" class=\"node\">\n",
       "<title>(&#39;model_parameters_store&#39;, &#39;d1&#39;)</title>\n",
       "<ellipse fill=\"none\" stroke=\"black\" stroke-width=\"2\" cx=\"977\" cy=\"-74.06\" rx=\"18\" ry=\"18\"/>\n",
       "<text text-anchor=\"start\" x=\"971\" y=\"-69.78\" font-family=\"Times,serif\" font-size=\"12.00\">d1</text>\n",
       "</g>\n",
       "<!-- (&#39;model_parameters_store&#39;,)&#45;&gt;(&#39;model_parameters_store&#39;, &#39;d1&#39;) -->\n",
       "<g id=\"edge11\" class=\"edge\">\n",
       "<title>(&#39;model_parameters_store&#39;,)&#45;&gt;(&#39;model_parameters_store&#39;, &#39;d1&#39;)</title>\n",
       "<path fill=\"none\" stroke=\"black\" stroke-width=\"2\" d=\"M780.65,-249.41C834.2,-230.79 904.92,-198.54 950,-148.11 964.06,-132.39 971.01,-108.7 974.29,-92.59\"/>\n",
       "</g>\n",
       "<!-- (&#39;model_parameters_store&#39;, &#39;d0&#39;) -->\n",
       "<g id=\"node15\" class=\"node\">\n",
       "<title>(&#39;model_parameters_store&#39;, &#39;d0&#39;)</title>\n",
       "<ellipse fill=\"none\" stroke=\"black\" stroke-width=\"2\" cx=\"483\" cy=\"-74.06\" rx=\"18\" ry=\"18\"/>\n",
       "<text text-anchor=\"start\" x=\"477\" y=\"-69.78\" font-family=\"Times,serif\" font-size=\"12.00\">d0</text>\n",
       "</g>\n",
       "<!-- (&#39;model_parameters_store&#39;,)&#45;&gt;(&#39;model_parameters_store&#39;, &#39;d0&#39;) -->\n",
       "<g id=\"edge12\" class=\"edge\">\n",
       "<title>(&#39;model_parameters_store&#39;,)&#45;&gt;(&#39;model_parameters_store&#39;, &#39;d0&#39;)</title>\n",
       "<path fill=\"none\" stroke=\"black\" stroke-width=\"2\" d=\"M636.77,-241.02C594.93,-220.45 543.6,-189.26 510,-148.11 496.74,-131.88 489.64,-108.52 486.1,-92.62\"/>\n",
       "</g>\n",
       "<!-- (&#39;model_parameters_store&#39;, &#39;sigma&#39;) -->\n",
       "<g id=\"node16\" class=\"node\">\n",
       "<title>(&#39;model_parameters_store&#39;, &#39;sigma&#39;)</title>\n",
       "<ellipse fill=\"none\" stroke=\"black\" stroke-width=\"2\" cx=\"541\" cy=\"-74.06\" rx=\"21.76\" ry=\"21.76\"/>\n",
       "<text text-anchor=\"start\" x=\"527.12\" y=\"-69.78\" font-family=\"Times,serif\" font-size=\"12.00\">sigma</text>\n",
       "</g>\n",
       "<!-- (&#39;model_parameters_store&#39;,)&#45;&gt;(&#39;model_parameters_store&#39;, &#39;sigma&#39;) -->\n",
       "<g id=\"edge13\" class=\"edge\">\n",
       "<title>(&#39;model_parameters_store&#39;,)&#45;&gt;(&#39;model_parameters_store&#39;, &#39;sigma&#39;)</title>\n",
       "<path fill=\"none\" stroke=\"black\" stroke-width=\"2\" d=\"M646.05,-224.9C620.67,-203.71 592.43,-176.83 572,-148.11 560.58,-132.06 552.25,-111.14 547.11,-95.81\"/>\n",
       "</g>\n",
       "<!-- (&#39;model_parameters_store&#39;, &#39;r&#39;) -->\n",
       "<g id=\"node17\" class=\"node\">\n",
       "<title>(&#39;model_parameters_store&#39;, &#39;r&#39;)</title>\n",
       "<ellipse fill=\"none\" stroke=\"black\" stroke-width=\"2\" cx=\"599\" cy=\"-74.06\" rx=\"18\" ry=\"18\"/>\n",
       "<text text-anchor=\"start\" x=\"597.12\" y=\"-69.78\" font-family=\"Times,serif\" font-size=\"12.00\">r</text>\n",
       "</g>\n",
       "<!-- (&#39;model_parameters_store&#39;,)&#45;&gt;(&#39;model_parameters_store&#39;, &#39;r&#39;) -->\n",
       "<g id=\"edge14\" class=\"edge\">\n",
       "<title>(&#39;model_parameters_store&#39;,)&#45;&gt;(&#39;model_parameters_store&#39;, &#39;r&#39;)</title>\n",
       "<path fill=\"none\" stroke=\"black\" stroke-width=\"2\" d=\"M662.28,-208.87C649.6,-189.93 636.43,-168.65 626,-148.11 616.64,-129.66 608.82,-107.17 604.05,-92.06\"/>\n",
       "</g>\n",
       "<!-- (&#39;model_parameters_store&#39;,)&#45;&gt;(&#39;demo_atomic_process&#39;,) -->\n",
       "<g id=\"edge26\" class=\"edge\">\n",
       "<title>(&#39;model_parameters_store&#39;,)&#45;&gt;(&#39;demo_atomic_process&#39;,)</title>\n",
       "<path fill=\"none\" stroke=\"black\" stroke-dasharray=\"5,2\" d=\"M631.75,-256.16C576.75,-242.94 502.67,-218.83 448.75,-177.36 423.04,-157.59 403.14,-125.8 391.09,-102.9\"/>\n",
       "<polygon fill=\"black\" stroke=\"black\" points=\"394.28,-101.46 386.64,-94.12 388.04,-104.62 394.28,-101.46\"/>\n",
       "<text text-anchor=\"start\" x=\"449\" y=\"-167.86\" font-family=\"Times,serif\" font-size=\"10.00\">model_parameters</text>\n",
       "</g>\n",
       "<!-- (&#39;reactions_store&#39;,) -->\n",
       "<g id=\"node18\" class=\"node\">\n",
       "<title>(&#39;reactions_store&#39;,)</title>\n",
       "<ellipse fill=\"none\" stroke=\"black\" stroke-width=\"2\" cx=\"1499\" cy=\"-271.29\" rx=\"48.37\" ry=\"48.37\"/>\n",
       "<text text-anchor=\"start\" x=\"1463.75\" y=\"-267.01\" font-family=\"Times,serif\" font-size=\"12.00\">reactions_store</text>\n",
       "</g>\n",
       "<!-- (&#39;reactions_store&#39;, &#39;tumor growth&#39;) -->\n",
       "<g id=\"node19\" class=\"node\">\n",
       "<title>(&#39;reactions_store&#39;, &#39;tumor growth&#39;)</title>\n",
       "<ellipse fill=\"none\" stroke=\"black\" stroke-width=\"2\" cx=\"1448\" cy=\"-74.06\" rx=\"44.64\" ry=\"44.64\"/>\n",
       "<text text-anchor=\"start\" x=\"1415.75\" y=\"-69.78\" font-family=\"Times,serif\" font-size=\"12.00\">tumor growth</text>\n",
       "</g>\n",
       "<!-- (&#39;reactions_store&#39;,)&#45;&gt;(&#39;reactions_store&#39;, &#39;tumor growth&#39;) -->\n",
       "<g id=\"edge15\" class=\"edge\">\n",
       "<title>(&#39;reactions_store&#39;,)&#45;&gt;(&#39;reactions_store&#39;, &#39;tumor growth&#39;)</title>\n",
       "<path fill=\"none\" stroke=\"black\" stroke-width=\"2\" d=\"M1486.78,-223.52C1478.42,-191.49 1467.4,-149.31 1459.24,-118.1\"/>\n",
       "</g>\n",
       "<!-- (&#39;reactions_store&#39;, &#39;tumor death&#39;) -->\n",
       "<g id=\"node20\" class=\"node\">\n",
       "<title>(&#39;reactions_store&#39;, &#39;tumor death&#39;)</title>\n",
       "<ellipse fill=\"none\" stroke=\"black\" stroke-width=\"2\" cx=\"1550\" cy=\"-74.06\" rx=\"39.5\" ry=\"39.5\"/>\n",
       "<text text-anchor=\"start\" x=\"1521.88\" y=\"-69.78\" font-family=\"Times,serif\" font-size=\"12.00\">tumor death</text>\n",
       "</g>\n",
       "<!-- (&#39;reactions_store&#39;,)&#45;&gt;(&#39;reactions_store&#39;, &#39;tumor death&#39;) -->\n",
       "<g id=\"edge16\" class=\"edge\">\n",
       "<title>(&#39;reactions_store&#39;,)&#45;&gt;(&#39;reactions_store&#39;, &#39;tumor death&#39;)</title>\n",
       "<path fill=\"none\" stroke=\"black\" stroke-width=\"2\" d=\"M1511.22,-223.52C1520.03,-189.79 1531.77,-144.83 1540.02,-113.25\"/>\n",
       "</g>\n",
       "<!-- (&#39;reactions_store&#39;, &#39;tumor killing&#39;) -->\n",
       "<g id=\"node21\" class=\"node\">\n",
       "<title>(&#39;reactions_store&#39;, &#39;tumor killing&#39;)</title>\n",
       "<ellipse fill=\"none\" stroke=\"black\" stroke-width=\"2\" cx=\"1650\" cy=\"-74.06\" rx=\"42.3\" ry=\"42.3\"/>\n",
       "<text text-anchor=\"start\" x=\"1619.62\" y=\"-69.78\" font-family=\"Times,serif\" font-size=\"12.00\">tumor killing</text>\n",
       "</g>\n",
       "<!-- (&#39;reactions_store&#39;,)&#45;&gt;(&#39;reactions_store&#39;, &#39;tumor killing&#39;) -->\n",
       "<g id=\"edge17\" class=\"edge\">\n",
       "<title>(&#39;reactions_store&#39;,)&#45;&gt;(&#39;reactions_store&#39;, &#39;tumor killing&#39;)</title>\n",
       "<path fill=\"none\" stroke=\"black\" stroke-width=\"2\" d=\"M1527.65,-231.28C1536.53,-219.56 1546.48,-206.79 1556,-195.36 1574.17,-173.54 1581.28,-170.3 1599,-148.11 1608.56,-136.15 1618.35,-122.51 1626.76,-110.28\"/>\n",
       "</g>\n",
       "<!-- (&#39;reactions_store&#39;, &#39;tumor nutrient supply&#39;) -->\n",
       "<g id=\"node22\" class=\"node\">\n",
       "<title>(&#39;reactions_store&#39;, &#39;tumor nutrient supply&#39;)</title>\n",
       "<ellipse fill=\"none\" stroke=\"black\" stroke-width=\"2\" cx=\"1778\" cy=\"-74.06\" rx=\"67.52\" ry=\"67.52\"/>\n",
       "<text text-anchor=\"start\" x=\"1727.38\" y=\"-69.78\" font-family=\"Times,serif\" font-size=\"12.00\">tumor nutrient supply</text>\n",
       "</g>\n",
       "<!-- (&#39;reactions_store&#39;,)&#45;&gt;(&#39;reactions_store&#39;, &#39;tumor nutrient supply&#39;) -->\n",
       "<g id=\"edge18\" class=\"edge\">\n",
       "<title>(&#39;reactions_store&#39;,)&#45;&gt;(&#39;reactions_store&#39;, &#39;tumor nutrient supply&#39;)</title>\n",
       "<path fill=\"none\" stroke=\"black\" stroke-width=\"2\" d=\"M1523.54,-228.94C1532.46,-216.73 1543.48,-204.26 1556,-195.36 1583.63,-175.73 1671.88,-165.45 1701,-148.11 1711.92,-141.61 1722.55,-133.3 1732.25,-124.64\"/>\n",
       "</g>\n",
       "<!-- (&#39;reactions_store&#39;, &#39;effector stimulation&#39;) -->\n",
       "<g id=\"node23\" class=\"node\">\n",
       "<title>(&#39;reactions_store&#39;, &#39;effector stimulation&#39;)</title>\n",
       "<ellipse fill=\"none\" stroke=\"black\" stroke-width=\"2\" cx=\"1925\" cy=\"-74.06\" rx=\"60.98\" ry=\"60.98\"/>\n",
       "<text text-anchor=\"start\" x=\"1879.62\" y=\"-69.78\" font-family=\"Times,serif\" font-size=\"12.00\">effector stimulation</text>\n",
       "</g>\n",
       "<!-- (&#39;reactions_store&#39;,)&#45;&gt;(&#39;reactions_store&#39;, &#39;effector stimulation&#39;) -->\n",
       "<g id=\"edge19\" class=\"edge\">\n",
       "<title>(&#39;reactions_store&#39;,)&#45;&gt;(&#39;reactions_store&#39;, &#39;effector stimulation&#39;)</title>\n",
       "<path fill=\"none\" stroke=\"black\" stroke-width=\"2\" d=\"M1522.46,-228.11C1531.39,-215.7 1542.67,-203.33 1556,-195.36 1584.87,-178.11 1825.19,-163.7 1855,-148.11 1866.99,-141.85 1878.09,-132.74 1887.77,-123.07\"/>\n",
       "</g>\n",
       "<!-- (&#39;reactions_store&#39;, &#39;effector exhaustion&#39;) -->\n",
       "<g id=\"node24\" class=\"node\">\n",
       "<title>(&#39;reactions_store&#39;, &#39;effector exhaustion&#39;)</title>\n",
       "<ellipse fill=\"none\" stroke=\"black\" stroke-width=\"2\" cx=\"2064\" cy=\"-74.06\" rx=\"60.51\" ry=\"60.51\"/>\n",
       "<text text-anchor=\"start\" x=\"2019\" y=\"-69.78\" font-family=\"Times,serif\" font-size=\"12.00\">effector exhaustion</text>\n",
       "</g>\n",
       "<!-- (&#39;reactions_store&#39;,)&#45;&gt;(&#39;reactions_store&#39;, &#39;effector exhaustion&#39;) -->\n",
       "<g id=\"edge20\" class=\"edge\">\n",
       "<title>(&#39;reactions_store&#39;,)&#45;&gt;(&#39;reactions_store&#39;, &#39;effector exhaustion&#39;)</title>\n",
       "<path fill=\"none\" stroke=\"black\" stroke-width=\"2\" d=\"M1521.95,-228.11C1530.9,-215.54 1542.34,-203.07 1556,-195.36 1566.68,-189.33 1984.01,-153.56 1995,-148.11 2007.03,-142.14 2018.07,-133.15 2027.62,-123.5\"/>\n",
       "</g>\n",
       "<!-- (&#39;reactions_store&#39;, &#39;effector death&#39;) -->\n",
       "<g id=\"node25\" class=\"node\">\n",
       "<title>(&#39;reactions_store&#39;, &#39;effector death&#39;)</title>\n",
       "<ellipse fill=\"none\" stroke=\"black\" stroke-width=\"2\" cx=\"1060\" cy=\"-74.06\" rx=\"44.64\" ry=\"44.64\"/>\n",
       "<text text-anchor=\"start\" x=\"1027.75\" y=\"-69.78\" font-family=\"Times,serif\" font-size=\"12.00\">effector death</text>\n",
       "</g>\n",
       "<!-- (&#39;reactions_store&#39;,)&#45;&gt;(&#39;reactions_store&#39;, &#39;effector death&#39;) -->\n",
       "<g id=\"edge21\" class=\"edge\">\n",
       "<title>(&#39;reactions_store&#39;,)&#45;&gt;(&#39;reactions_store&#39;, &#39;effector death&#39;)</title>\n",
       "<path fill=\"none\" stroke=\"black\" stroke-width=\"2\" d=\"M1450.31,-264.63C1372.76,-253.61 1219.24,-223.37 1114,-148.11 1101.43,-139.12 1090.57,-126.31 1081.95,-113.92\"/>\n",
       "</g>\n",
       "<!-- (&#39;reactions_store&#39;, &#39;effector source&#39;) -->\n",
       "<g id=\"node26\" class=\"node\">\n",
       "<title>(&#39;reactions_store&#39;, &#39;effector source&#39;)</title>\n",
       "<ellipse fill=\"none\" stroke=\"black\" stroke-width=\"2\" cx=\"1171\" cy=\"-74.06\" rx=\"47.91\" ry=\"47.91\"/>\n",
       "<text text-anchor=\"start\" x=\"1136.12\" y=\"-69.78\" font-family=\"Times,serif\" font-size=\"12.00\">effector source</text>\n",
       "</g>\n",
       "<!-- (&#39;reactions_store&#39;,)&#45;&gt;(&#39;reactions_store&#39;, &#39;effector source&#39;) -->\n",
       "<g id=\"edge22\" class=\"edge\">\n",
       "<title>(&#39;reactions_store&#39;,)&#45;&gt;(&#39;reactions_store&#39;, &#39;effector source&#39;)</title>\n",
       "<path fill=\"none\" stroke=\"black\" stroke-width=\"2\" d=\"M1451.91,-256.77C1394.71,-238.72 1297.3,-202.55 1228,-148.11 1216.36,-138.97 1205.73,-126.96 1196.88,-115.33\"/>\n",
       "</g>\n",
       "<!-- (&#39;reactions_store&#39;, &#39;tumor nutrient missuply&#39;) -->\n",
       "<g id=\"node27\" class=\"node\">\n",
       "<title>(&#39;reactions_store&#39;, &#39;tumor nutrient missuply&#39;)</title>\n",
       "<ellipse fill=\"none\" stroke=\"black\" stroke-width=\"2\" cx=\"1311\" cy=\"-74.06\" rx=\"74.06\" ry=\"74.06\"/>\n",
       "<text text-anchor=\"start\" x=\"1255.12\" y=\"-69.78\" font-family=\"Times,serif\" font-size=\"12.00\">tumor nutrient missuply</text>\n",
       "</g>\n",
       "<!-- (&#39;reactions_store&#39;,)&#45;&gt;(&#39;reactions_store&#39;, &#39;tumor nutrient missuply&#39;) -->\n",
       "<g id=\"edge23\" class=\"edge\">\n",
       "<title>(&#39;reactions_store&#39;,)&#45;&gt;(&#39;reactions_store&#39;, &#39;tumor nutrient missuply&#39;)</title>\n",
       "<path fill=\"none\" stroke=\"black\" stroke-width=\"2\" d=\"M1465.39,-235.38C1436.77,-205.66 1395.19,-162.49 1362.39,-128.43\"/>\n",
       "</g>\n",
       "<!-- (&#39;reactions_store&#39;,)&#45;&gt;(&#39;demo_atomic_process&#39;,) -->\n",
       "<g id=\"edge27\" class=\"edge\">\n",
       "<title>(&#39;reactions_store&#39;,)&#45;&gt;(&#39;demo_atomic_process&#39;,)</title>\n",
       "<path fill=\"none\" stroke=\"black\" stroke-dasharray=\"5,2\" d=\"M1450.25,-264.99C1247.31,-242.91 478.96,-158.77 456,-148.11 433.28,-137.56 412.83,-117.83 398.58,-101.52\"/>\n",
       "<polygon fill=\"black\" stroke=\"black\" points=\"401.41,-99.45 392.29,-94.06 396.06,-103.96 401.41,-99.45\"/>\n",
       "<text text-anchor=\"start\" x=\"668\" y=\"-167.86\" font-family=\"Times,serif\" font-size=\"10.00\">reactions</text>\n",
       "</g>\n",
       "<!-- (&#39;emitter&#39;,) -->\n",
       "<g id=\"node28\" class=\"node\">\n",
       "<title>(&#39;emitter&#39;,)</title>\n",
       "<polygon fill=\"none\" stroke=\"black\" stroke-width=\"2\" points=\"1619,-289.29 1565,-289.29 1565,-253.29 1619,-253.29 1619,-289.29\"/>\n",
       "<text text-anchor=\"start\" x=\"1575.88\" y=\"-267.01\" font-family=\"Times,serif\" font-size=\"12.00\">emitter</text>\n",
       "</g>\n",
       "</g>\n",
       "</svg>\n"
      ],
      "text/plain": [
       "<graphviz.graphs.Digraph at 0x29fb3b3d0>"
      ]
     },
     "execution_count": 10,
     "metadata": {},
     "output_type": "execute_result"
    }
   ],
   "source": [
    "# 5. Visualize the fully-connected composition:\n",
    "\n",
    "prompter.visualize_bigraph()"
   ]
  },
  {
   "cell_type": "code",
   "execution_count": 16,
   "id": "38052757b3b95baa",
   "metadata": {
    "ExecuteTime": {
     "end_time": "2024-03-14T23:53:46.456042Z",
     "start_time": "2024-03-14T23:53:44.550045Z"
    },
    "collapsed": false
   },
   "outputs": [
    {
     "name": "stderr",
     "output_type": "stream",
     "text": [
      "Error while running the simulation: >ERROR 2024-03-14T19:53:46<\n",
      "  CCopasiTask (5): No output file defined for report of task 'Time-Course'.>EXCEPTION 2024-03-14T19:53:46<\n",
      "  CTrajectoryMethod (12): Internal step limit exceeded.\n"
     ]
    },
    {
     "name": "stdout",
     "output_type": "stream",
     "text": [
      "Generating composite...\n",
      "Composite generated!\n",
      "Running generated composite for an interval of 1\n",
      "Composite successfully run. Request complete. Done.\n"
     ]
    }
   ],
   "source": [
    "# 6. Generate a composite engine and use to execute the bigraph that we just created:\n",
    "\n",
    "prompter.run()"
   ]
  },
  {
   "cell_type": "code",
   "execution_count": 17,
   "id": "4ce83c700a15635a",
   "metadata": {
    "ExecuteTime": {
     "end_time": "2024-03-14T23:53:55.317844Z",
     "start_time": "2024-03-14T23:53:55.313955Z"
    },
    "collapsed": false
   },
   "outputs": [
    {
     "name": "stdout",
     "output_type": "stream",
     "text": [
      "File 'demo_single_process_composite' successfully written in 'out' directory.\n"
     ]
    }
   ],
   "source": [
    "# 6. Save the composite to a document:\n",
    "\n",
    "prompter.builder_instance.write(filename='demo_single_process_composite')"
   ]
  },
  {
   "cell_type": "markdown",
   "id": "b65a6fab79ad097c",
   "metadata": {
    "collapsed": false
   },
   "source": [
    "#### **_Experiment 2_**: Load an SBML model from a specified model filepath and add Model changes to the composite before adding it to the bigraph."
   ]
  },
  {
   "cell_type": "code",
   "execution_count": 18,
   "id": "2ffaa0d37d807d2c",
   "metadata": {
    "ExecuteTime": {
     "end_time": "2024-03-14T23:53:59.671735Z",
     "start_time": "2024-03-14T23:53:59.668864Z"
    },
    "collapsed": false
   },
   "outputs": [],
   "source": [
    "from biosimulator_processes.data_model import TimeCourseModelChanges, ModelChanges, ModelChange"
   ]
  },
  {
   "cell_type": "code",
   "execution_count": null,
   "id": "bb5015718ce04c4b",
   "metadata": {
    "collapsed": false
   },
   "outputs": [],
   "source": []
  }
 ],
 "metadata": {
  "kernelspec": {
   "display_name": "Python 3",
   "language": "python",
   "name": "python3"
  },
  "language_info": {
   "codemirror_mode": {
    "name": "ipython",
    "version": 2
   },
   "file_extension": ".py",
   "mimetype": "text/x-python",
   "name": "python",
   "nbconvert_exporter": "python",
   "pygments_lexer": "ipython2",
   "version": "2.7.6"
  }
 },
 "nbformat": 4,
 "nbformat_minor": 5
}
