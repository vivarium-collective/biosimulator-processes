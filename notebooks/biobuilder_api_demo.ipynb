{
 "cells": [
  {
   "cell_type": "markdown",
   "id": "8087f67dcdaefdee",
   "metadata": {
    "collapsed": false
   },
   "source": [
    "# BioBuilder API Demo"
   ]
  },
  {
   "cell_type": "code",
   "execution_count": 1,
   "id": "initial_id",
   "metadata": {
    "ExecuteTime": {
     "end_time": "2024-03-14T23:39:30.874387Z",
     "start_time": "2024-03-14T23:39:29.924911Z"
    },
    "collapsed": true
   },
   "outputs": [
    {
     "name": "stdout",
     "output_type": "stream",
     "text": [
      "True\n"
     ]
    },
    {
     "data": {
      "text/plain": [
       "<Response [200]>"
      ]
     },
     "execution_count": 1,
     "metadata": {},
     "output_type": "execute_result"
    }
   ],
   "source": [
    "import sys\n",
    "\n",
    "sys.path.insert(0, '..')\n",
    "\n",
    "import os\n",
    "import requests\n",
    "\n",
    "caravagna_model_filepath = '../biosimulator_processes/model_files/Caravagna2010.xml'\n",
    "print(os.path.exists(caravagna_model_filepath))\n",
    "\n",
    "tumor_control_biomodel_id = 'BIOMD0000000749'\n",
    "requests.get('https://www.ebi.ac.uk/biomodels/BIOMD0000000749', headers={'accept': 'json'})"
   ]
  },
  {
   "cell_type": "markdown",
   "id": "572ce5fd9c49efcb",
   "metadata": {
    "collapsed": false
   },
   "source": [
    "#### **_Experiment 1_**:  Here we cross a boundary in the stack that is a biological simulation. We go from model configuration, to experiment. Thus, this tooling sits at that level: both experiment specification AND experiment execution. It's not just a way to specify an experiment, but it is also a way to run it, given the many knobs and buttons that you can use predefine and customize the way the actual model is being solved. Our users are seeking to be involved in an experiment as a \"stack\". We should make a bigger distinction between terms like \"model\"."
   ]
  },
  {
   "cell_type": "code",
   "execution_count": 2,
   "id": "e3218a2629726818",
   "metadata": {
    "ExecuteTime": {
     "end_time": "2024-03-14T23:39:32.483448Z",
     "start_time": "2024-03-14T23:39:30.877204Z"
    },
    "collapsed": false
   },
   "outputs": [
    {
     "name": "stdout",
     "output_type": "stream",
     "text": [
      "CobraProcess registered successfully.\n",
      "CopasiProcess registered successfully.\n",
      "SmoldynProcess registered successfully.\n",
      "TelluriumProcess registered successfully.\n"
     ]
    }
   ],
   "source": [
    "from process_bigraph import pp\n",
    "from biosimulator_processes.biosimulator_builder import BuildPrompter\n",
    "from biosimulator_processes.data_model import TimeCourseProcess, TimeCourseModel"
   ]
  },
  {
   "cell_type": "code",
   "execution_count": 3,
   "id": "871b58285775fb24",
   "metadata": {
    "ExecuteTime": {
     "end_time": "2024-03-14T23:39:32.486226Z",
     "start_time": "2024-03-14T23:39:32.484253Z"
    },
    "collapsed": false
   },
   "outputs": [
    {
     "name": "stdout",
     "output_type": "stream",
     "text": [
      "TimeCourseModel(model_source='BIOMD0000000749',\n",
      "                model_id='model_from_BIOMD0000000749',\n",
      "                model_name='model_from_BIOMD0000000749',\n",
      "                model_language='sbml',\n",
      "                model_changes=None,\n",
      "                model_units=None)\n"
     ]
    }
   ],
   "source": [
    "# 1a. define a model for the process composition. In this case, just one model to be re-used as configuration for the processes we create:\n",
    "\n",
    "tc_model = TimeCourseModel(model_source=tumor_control_biomodel_id)\n",
    "\n",
    "pp(tc_model)"
   ]
  },
  {
   "cell_type": "code",
   "execution_count": 4,
   "id": "a30f5e94167513c9",
   "metadata": {
    "ExecuteTime": {
     "end_time": "2024-03-14T23:39:32.488526Z",
     "start_time": "2024-03-14T23:39:32.486866Z"
    },
    "collapsed": false
   },
   "outputs": [],
   "source": [
    "# 1b. define a TimeCourse process instance using the above object as a parameter. The other parameter is method. See BasiCO documentation for more details on solvers\n",
    "\n",
    "tc_process = TimeCourseProcess(model=tc_model)"
   ]
  },
  {
   "cell_type": "code",
   "execution_count": 5,
   "id": "a9c15126dda87970",
   "metadata": {
    "ExecuteTime": {
     "end_time": "2024-03-14T23:39:32.491561Z",
     "start_time": "2024-03-14T23:39:32.489782Z"
    },
    "collapsed": false
   },
   "outputs": [
    {
     "name": "stdout",
     "output_type": "stream",
     "text": [
      "TimeCourseProcess(model=TimeCourseModel(model_source='BIOMD0000000749',\n",
      "                                        model_id='model_from_BIOMD0000000749',\n",
      "                                        model_name='model_from_BIOMD0000000749',\n",
      "                                        model_language='sbml',\n",
      "                                        model_changes=None,\n",
      "                                        model_units=None),\n",
      "                  method='lsoda')\n"
     ]
    }
   ],
   "source": [
    "# >> The process model instance is viewable as a dataclass...\n",
    "\n",
    "pp(tc_process)"
   ]
  },
  {
   "cell_type": "code",
   "execution_count": 6,
   "id": "ba3d6e8bae50f216",
   "metadata": {
    "ExecuteTime": {
     "end_time": "2024-03-14T23:39:32.494146Z",
     "start_time": "2024-03-14T23:39:32.492387Z"
    },
    "collapsed": false
   },
   "outputs": [
    {
     "name": "stdout",
     "output_type": "stream",
     "text": [
      "{ 'method': 'lsoda',\n",
      "  'model': { 'model_changes': None,\n",
      "             'model_id': 'model_from_BIOMD0000000749',\n",
      "             'model_language': 'sbml',\n",
      "             'model_name': 'model_from_BIOMD0000000749',\n",
      "             'model_source': 'BIOMD0000000749',\n",
      "             'model_units': None}}\n"
     ]
    }
   ],
   "source": [
    "# >> ...or a dict:\n",
    "\n",
    "pp(tc_process.to_dict())"
   ]
  },
  {
   "cell_type": "code",
   "execution_count": 7,
   "id": "f6d099ae829fb063",
   "metadata": {
    "ExecuteTime": {
     "end_time": "2024-03-14T23:39:32.496447Z",
     "start_time": "2024-03-14T23:39:32.494899Z"
    },
    "collapsed": false
   },
   "outputs": [],
   "source": [
    "# 2. instantiate the prompter:\n",
    "\n",
    "prompter = BuildPrompter()"
   ]
  },
  {
   "cell_type": "code",
   "execution_count": 8,
   "id": "6ff0228586348da1",
   "metadata": {
    "ExecuteTime": {
     "end_time": "2024-03-14T23:39:41.204256Z",
     "start_time": "2024-03-14T23:39:32.497164Z"
    },
    "collapsed": false
   },
   "outputs": [
    {
     "ename": "RecursionError",
     "evalue": "maximum recursion depth exceeded",
     "output_type": "error",
     "traceback": [
      "\u001b[0;31m---------------------------------------------------------------------------\u001b[0m",
      "\u001b[0;31mRecursionError\u001b[0m                            Traceback (most recent call last)",
      "Cell \u001b[0;32mIn[8], line 3\u001b[0m\n\u001b[1;32m      1\u001b[0m \u001b[38;5;66;03m# 3. add process(es) to the bigraph with the Time Course model instance we created above. For now, just one process will be added.\u001b[39;00m\n\u001b[0;32m----> 3\u001b[0m \u001b[43mprompter\u001b[49m\u001b[38;5;241;43m.\u001b[39;49m\u001b[43madd_single_process\u001b[49m\u001b[43m(\u001b[49m\u001b[43mconfig\u001b[49m\u001b[38;5;241;43m=\u001b[39;49m\u001b[43mtc_process\u001b[49m\u001b[43m)\u001b[49m\n",
      "File \u001b[0;32m~/Desktop/uchc_work/repos/biosimulator-processes/notebooks/../biosimulator_processes/biosimulator_builder.py:90\u001b[0m, in \u001b[0;36mBuildPrompter.add_single_process\u001b[0;34m(self, builder, process_type, config, builder_node_name)\u001b[0m\n\u001b[1;32m     84\u001b[0m dynamic_config \u001b[38;5;241m=\u001b[39m DynamicProcessConfig(\u001b[38;5;241m*\u001b[39m\u001b[38;5;241m*\u001b[39minput_kwargs)\n\u001b[1;32m     85\u001b[0m \u001b[38;5;28mself\u001b[39m\u001b[38;5;241m.\u001b[39mbuilder_instance\u001b[38;5;241m.\u001b[39madd_process(\n\u001b[1;32m     86\u001b[0m     process_id\u001b[38;5;241m=\u001b[39mbuilder_node_name,\n\u001b[1;32m     87\u001b[0m     name\u001b[38;5;241m=\u001b[39mprocess_type,\n\u001b[1;32m     88\u001b[0m     config\u001b[38;5;241m=\u001b[39mdynamic_config)  \u001b[38;5;66;03m# {**input_kwargs})\u001b[39;00m\n\u001b[0;32m---> 90\u001b[0m \u001b[38;5;28;43mprint\u001b[39;49m\u001b[43m(\u001b[49m\u001b[38;5;124;43mf\u001b[39;49m\u001b[38;5;124;43m'\u001b[39;49m\u001b[38;5;132;43;01m{\u001b[39;49;00m\u001b[43mbuilder_node_name\u001b[49m\u001b[38;5;132;43;01m}\u001b[39;49;00m\u001b[38;5;124;43m process successfully added to the bi-graph!\u001b[39;49m\u001b[38;5;124;43m'\u001b[39;49m\u001b[43m)\u001b[49m\n\u001b[1;32m     92\u001b[0m \u001b[38;5;28;01mif\u001b[39;00m \u001b[38;5;28mself\u001b[39m\u001b[38;5;241m.\u001b[39mconnect_all:\n\u001b[1;32m     93\u001b[0m     \u001b[38;5;28mself\u001b[39m\u001b[38;5;241m.\u001b[39mbuilder_instance\u001b[38;5;241m.\u001b[39mconnect_all(append_to_store_name\u001b[38;5;241m=\u001b[39m\u001b[38;5;124m'\u001b[39m\u001b[38;5;124m_store\u001b[39m\u001b[38;5;124m'\u001b[39m)\n",
      "File \u001b[0;32m~/Desktop/uchc_work/repos/biosimulator-processes/notebooks/../biosimulator_processes/biosimulator_builder.py:12\u001b[0m, in \u001b[0;36mprint\u001b[0;34m(val)\u001b[0m\n\u001b[1;32m     10\u001b[0m \u001b[38;5;28;01mdef\u001b[39;00m \u001b[38;5;21mprint\u001b[39m(val):\n\u001b[1;32m     11\u001b[0m \u001b[38;5;250m    \u001b[39m\u001b[38;5;124;03m\"\"\"Quick helper for formatting\"\"\"\u001b[39;00m\n\u001b[0;32m---> 12\u001b[0m     \u001b[38;5;28;01mreturn\u001b[39;00m \u001b[38;5;28;43mprint\u001b[39;49m\u001b[43m(\u001b[49m\u001b[38;5;124;43mf\u001b[39;49m\u001b[38;5;124;43m'\u001b[39;49m\u001b[38;5;124;43m--- \u001b[39;49m\u001b[38;5;132;43;01m{\u001b[39;49;00m\u001b[43mval\u001b[49m\u001b[38;5;132;43;01m}\u001b[39;49;00m\u001b[38;5;124;43m'\u001b[39;49m\u001b[43m)\u001b[49m\n",
      "File \u001b[0;32m~/Desktop/uchc_work/repos/biosimulator-processes/notebooks/../biosimulator_processes/biosimulator_builder.py:12\u001b[0m, in \u001b[0;36mprint\u001b[0;34m(val)\u001b[0m\n\u001b[1;32m     10\u001b[0m \u001b[38;5;28;01mdef\u001b[39;00m \u001b[38;5;21mprint\u001b[39m(val):\n\u001b[1;32m     11\u001b[0m \u001b[38;5;250m    \u001b[39m\u001b[38;5;124;03m\"\"\"Quick helper for formatting\"\"\"\u001b[39;00m\n\u001b[0;32m---> 12\u001b[0m     \u001b[38;5;28;01mreturn\u001b[39;00m \u001b[38;5;28;43mprint\u001b[39;49m\u001b[43m(\u001b[49m\u001b[38;5;124;43mf\u001b[39;49m\u001b[38;5;124;43m'\u001b[39;49m\u001b[38;5;124;43m--- \u001b[39;49m\u001b[38;5;132;43;01m{\u001b[39;49;00m\u001b[43mval\u001b[49m\u001b[38;5;132;43;01m}\u001b[39;49;00m\u001b[38;5;124;43m'\u001b[39;49m\u001b[43m)\u001b[49m\n",
      "    \u001b[0;31m[... skipping similar frames: print at line 12 (2968 times)]\u001b[0m\n",
      "File \u001b[0;32m~/Desktop/uchc_work/repos/biosimulator-processes/notebooks/../biosimulator_processes/biosimulator_builder.py:12\u001b[0m, in \u001b[0;36mprint\u001b[0;34m(val)\u001b[0m\n\u001b[1;32m     10\u001b[0m \u001b[38;5;28;01mdef\u001b[39;00m \u001b[38;5;21mprint\u001b[39m(val):\n\u001b[1;32m     11\u001b[0m \u001b[38;5;250m    \u001b[39m\u001b[38;5;124;03m\"\"\"Quick helper for formatting\"\"\"\u001b[39;00m\n\u001b[0;32m---> 12\u001b[0m     \u001b[38;5;28;01mreturn\u001b[39;00m \u001b[38;5;28;43mprint\u001b[39;49m\u001b[43m(\u001b[49m\u001b[38;5;124;43mf\u001b[39;49m\u001b[38;5;124;43m'\u001b[39;49m\u001b[38;5;124;43m--- \u001b[39;49m\u001b[38;5;132;43;01m{\u001b[39;49;00m\u001b[43mval\u001b[49m\u001b[38;5;132;43;01m}\u001b[39;49;00m\u001b[38;5;124;43m'\u001b[39;49m\u001b[43m)\u001b[49m\n",
      "\u001b[0;31mRecursionError\u001b[0m: maximum recursion depth exceeded"
     ]
    }
   ],
   "source": [
    "# 3. add process(es) to the bigraph with the Time Course model instance we created above. For now, just one process will be added.\n",
    "\n",
    "prompter.add_single_process(config=tc_process)"
   ]
  },
  {
   "cell_type": "code",
   "execution_count": null,
   "id": "b833c7217603645c",
   "metadata": {
    "collapsed": false
   },
   "outputs": [],
   "source": [
    "# 4. Inspect the builder instance within prompter:\n",
    "\n",
    "pp(prompter.builder_instance)"
   ]
  },
  {
   "cell_type": "markdown",
   "id": "b65a6fab79ad097c",
   "metadata": {
    "collapsed": false
   },
   "source": [
    "#### **_Experiment 2_**: Load an SBML model from a specified model filepath and add Model changes to the composite before adding it to the bigraph."
   ]
  },
  {
   "cell_type": "code",
   "execution_count": null,
   "id": "2ffaa0d37d807d2c",
   "metadata": {
    "collapsed": false
   },
   "outputs": [],
   "source": [
    "from biosimulator_processes.data_model import TimeCourseModelChanges, ModelChanges, ModelChange"
   ]
  }
 ],
 "metadata": {
  "kernelspec": {
   "display_name": "Python 3",
   "language": "python",
   "name": "python3"
  },
  "language_info": {
   "codemirror_mode": {
    "name": "ipython",
    "version": 2
   },
   "file_extension": ".py",
   "mimetype": "text/x-python",
   "name": "python",
   "nbconvert_exporter": "python",
   "pygments_lexer": "ipython2",
   "version": "2.7.6"
  }
 },
 "nbformat": 4,
 "nbformat_minor": 5
}
