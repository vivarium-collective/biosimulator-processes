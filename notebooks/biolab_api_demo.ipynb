{
 "cells": [
  {
   "cell_type": "markdown",
   "id": "8087f67dcdaefdee",
   "metadata": {
    "collapsed": false
   },
   "source": [
    "# BioLab API Demo (BioLab container)"
   ]
  },
  {
   "cell_type": "code",
   "execution_count": 28,
   "id": "initial_id",
   "metadata": {
    "ExecuteTime": {
     "end_time": "2024-03-15T20:23:29.758772Z",
     "start_time": "2024-03-15T20:23:29.756131Z"
    },
    "collapsed": true
   },
   "outputs": [],
   "source": [
    "import sys\n",
    "\n",
    "sys.path.insert(0, '..')"
   ]
  },
  {
   "cell_type": "markdown",
   "id": "572ce5fd9c49efcb",
   "metadata": {
    "collapsed": false
   },
   "source": [
    "#### **_Experiment 1_**:  Here we cross a boundary in the stack that is a biological simulation. We go from model configuration, to experiment. Thus, this tooling sits at that level: both experiment specification AND experiment execution. It's not just a way to specify an experiment, but it is also a way to run it, given the many knobs and buttons that you can use predefine and customize the way the actual model is being solved. Our users are seeking to be involved in an experiment as a \"stack\". We should make a bigger distinction between terms like \"model\"."
   ]
  },
  {
   "cell_type": "code",
   "execution_count": 2,
   "id": "e3218a2629726818",
   "metadata": {
    "ExecuteTime": {
     "end_time": "2024-03-15T20:13:26.374137Z",
     "start_time": "2024-03-15T20:13:24.443503Z"
    },
    "collapsed": false
   },
   "outputs": [
    {
     "name": "stdout",
     "output_type": "stream",
     "text": [
      "CobraProcess registered successfully.\n",
      "CopasiProcess registered successfully.\n",
      "SmoldynProcess registered successfully.\n",
      "TelluriumProcess registered successfully.\n"
     ]
    }
   ],
   "source": [
    "from process_bigraph import pp\n",
    "from biosimulator_processes.biosimulator_builder import BuildPrompter\n",
    "from biosimulator_processes import SedDataModel as sed "
   ]
  },
  {
   "cell_type": "code",
   "execution_count": 3,
   "id": "871b58285775fb24",
   "metadata": {
    "ExecuteTime": {
     "end_time": "2024-03-15T20:13:26.815316Z",
     "start_time": "2024-03-15T20:13:26.375300Z"
    },
    "collapsed": false
   },
   "outputs": [
    {
     "name": "stdout",
     "output_type": "stream",
     "text": [
      "TimeCourseModel(model_source='BIOMD0000000749',\n",
      "                model_id='model_from_BIOMD0000000749',\n",
      "                model_name='model_from_BIOMD0000000749',\n",
      "                model_language=(None,),\n",
      "                model_changes=None,\n",
      "                model_units=None)\n"
     ]
    }
   ],
   "source": [
    "# 1a. define a model for the process composition. In this case, just one model to be re-used as configuration for the processes we create:\n",
    "\n",
    "simple_tc_model = sed.TimeCourseModel(model_source=tumor_control_biomodel_id)\n",
    "\n",
    "pp(simple_tc_model)"
   ]
  },
  {
   "cell_type": "code",
   "execution_count": 27,
   "id": "1519914d8b9a85ce",
   "metadata": {
    "ExecuteTime": {
     "end_time": "2024-03-15T20:22:06.411220Z",
     "start_time": "2024-03-15T20:22:06.408264Z"
    },
    "collapsed": false
   },
   "outputs": [
    {
     "name": "stdout",
     "output_type": "stream",
     "text": [
      "{ 'description': 'The paper describes a model of tumor control via alternating '\n",
      "                 'immunostimulating and immunosuppressive phases. \\r\\n'\n",
      "                 'Created by COPASI 4.25 (Build 207) \\r\\n'\n",
      "                 '\\r\\n'\n",
      "                 'This model is described in the article: \\r\\n'\n",
      "                 'In silico tumor control induced via alternating '\n",
      "                 'immunostimulating and immunosuppressive phases\\r\\n'\n",
      "                 'AI Reppas, JCL Alfonso, and H Hatzikirou\\r\\n'\n",
      "                 'Virulence 7:2, 174--186\\r\\n'\n",
      "                 '\\r\\n'\n",
      "                 'Abstract: \\r\\n'\n",
      "                 'Despite recent advances in the field of Oncoimmunology, the '\n",
      "                 'success potential of immunomodulatory therapies against '\n",
      "                 'cancer remains to be elucidated. One of the reasons is the '\n",
      "                 'lack of understanding on the complex interplay between tumor '\n",
      "                 'growth dynamics and the associated immune system responses. '\n",
      "                 'Toward this goal, we consider a mathematical model of '\n",
      "                 'vascularized tumor growth and the corresponding effector '\n",
      "                 'cell recruitment dynamics. Bifurcation analysis allows for '\n",
      "                 'the exploration of model’s dynamic behavior and the '\n",
      "                 'determination of these parameter regimes that result in '\n",
      "                 'immune-mediated tumor control. In this work, we focus on a '\n",
      "                 'particular tumor evasion regime that involves tumor and '\n",
      "                 'effector cell concentration oscillations of slowly '\n",
      "                 'increasing and decreasing amplitude, respectively. '\n",
      "                 'Considering a temporal multiscale analysis, we derive an '\n",
      "                 'analytically tractable mapping of model solutions onto a '\n",
      "                 'weakly negatively damped harmonic oscillator. Based on our '\n",
      "                 'analysis, we propose a theory-driven intervention strategy '\n",
      "                 'involving immunostimulating and immunosuppressive phases to '\n",
      "                 'induce long-term tumor control.\\r\\n'\n",
      "                 '\\r\\n'\n",
      "                 'To cite BioModels Database, please use: BioModels Database: '\n",
      "                 'An enhanced, curated and annotated resource for published '\n",
      "                 'quantitative kinetic models . \\r\\n'\n",
      "                 'To the extent possible under law, all copyright and related '\n",
      "                 'or neighbouring rights to this encoded model have been '\n",
      "                 'dedicated to the public domain worldwide. \\r\\n'\n",
      "                 'Please refer to CC0 Public Domain Dedication for more '\n",
      "                 'information.',\n",
      "  'files': { 'additional': [ { 'description': 'CPS file of the model in COPASI',\n",
      "                               'fileSize': '81326',\n",
      "                               'name': 'Reppas2015.cps'},\n",
      "                             { 'description': 'Auto-generated SEDML file',\n",
      "                               'fileSize': '2191',\n",
      "                               'name': 'Reppas2015.sedml'}],\n",
      "             'main': [{'fileSize': '62675', 'name': 'Reppas2015.xml'}]},\n",
      "  'firstPublished': 1562858819000,\n",
      "  'format': {'name': 'SBML', 'version': 'L3V1'},\n",
      "  'history': { 'revisions': [ { 'comment': 'Edited model metadata online.',\n",
      "                                'submitted': 1562858737000,\n",
      "                                'submitter': 'Jinghao Men',\n",
      "                                'version': 2},\n",
      "                              { 'comment': 'Automatically added model '\n",
      "                                           'identifier BIOMD0000000749',\n",
      "                                'submitted': 1562858822000,\n",
      "                                'submitter': 'Jinghao Men',\n",
      "                                'version': 3}]},\n",
      "  'name': 'Reppas2015 - tumor control via alternating immunostimulating and '\n",
      "          'immunosuppressive phases',\n",
      "  'publication': { 'affiliation': 'a Center for Advancing Electronics; '\n",
      "                                  'Technische Universität Dresden ; Dresden , '\n",
      "                                  'Germany.',\n",
      "                   'authors': [ {'name': 'Reppas AI'},\n",
      "                                {'name': 'Alfonso JC'},\n",
      "                                { 'name': 'Hatzikirou H',\n",
      "                                  'orcid': '0000-0002-1270-7885'}],\n",
      "                   'issue': '2',\n",
      "                   'journal': 'Virulence',\n",
      "                   'link': 'http://identifiers.org/pubmed/26305801',\n",
      "                   'month': '1',\n",
      "                   'pages': '174-186',\n",
      "                   'synopsis': 'Despite recent advances in the field of '\n",
      "                               'Oncoimmunology, the success potential of '\n",
      "                               'immunomodulatory therapies against cancer '\n",
      "                               'remains to be elucidated. One of the reasons '\n",
      "                               'is the lack of understanding on the complex '\n",
      "                               'interplay between tumor growth dynamics and '\n",
      "                               'the associated immune system responses. Toward '\n",
      "                               'this goal, we consider a mathematical model of '\n",
      "                               'vascularized tumor growth and the '\n",
      "                               'corresponding effector cell recruitment '\n",
      "                               'dynamics. Bifurcation analysis allows for the '\n",
      "                               \"exploration of model's dynamic behavior and \"\n",
      "                               'the determination of these parameter regimes '\n",
      "                               'that result in immune-mediated tumor control. '\n",
      "                               'In this work, we focus on a particular tumor '\n",
      "                               'evasion regime that involves tumor and '\n",
      "                               'effector cell concentration oscillations of '\n",
      "                               'slowly increasing and decreasing amplitude, '\n",
      "                               'respectively. Considering a temporal '\n",
      "                               'multiscale analysis, we derive an analytically '\n",
      "                               'tractable mapping of model solutions onto a '\n",
      "                               'weakly negatively damped harmonic oscillator. '\n",
      "                               'Based on our analysis, we propose a '\n",
      "                               'theory-driven intervention strategy involving '\n",
      "                               'immunostimulating and immunosuppressive phases '\n",
      "                               'to induce long-term tumor control.',\n",
      "                   'title': 'In silico tumor control induced via alternating '\n",
      "                            'immunostimulating and immunosuppressive phases.',\n",
      "                   'volume': '7',\n",
      "                   'year': 2016},\n",
      "  'publicationId': 'BIOMD0000000749',\n",
      "  'submissionId': 'MODEL1907110002'}\n"
     ]
    }
   ],
   "source": [
    "# 1b. view model info for model source:\n",
    "\n",
    "pp(simple_tc_model.source_info)"
   ]
  },
  {
   "cell_type": "code",
   "execution_count": 4,
   "id": "a30f5e94167513c9",
   "metadata": {
    "ExecuteTime": {
     "end_time": "2024-03-15T20:13:26.818017Z",
     "start_time": "2024-03-15T20:13:26.816089Z"
    },
    "collapsed": false
   },
   "outputs": [],
   "source": [
    "# 1c. define a TimeCourse process instance using the above object as a parameter. The other parameter is method. See BasiCO documentation for more details on solvers\n",
    "\n",
    "simple_tc_process = sed.TimeCourseProcess(model=simple_tc_model, method='lsoda')"
   ]
  },
  {
   "cell_type": "code",
   "execution_count": 5,
   "id": "a9c15126dda87970",
   "metadata": {
    "ExecuteTime": {
     "end_time": "2024-03-15T20:13:26.821191Z",
     "start_time": "2024-03-15T20:13:26.819433Z"
    },
    "collapsed": false
   },
   "outputs": [
    {
     "name": "stdout",
     "output_type": "stream",
     "text": [
      "TimeCourseProcess(model=TimeCourseModel(model_source='BIOMD0000000749',\n",
      "                                        model_id='model_from_BIOMD0000000749',\n",
      "                                        model_name='model_from_BIOMD0000000749',\n",
      "                                        model_language=(None,),\n",
      "                                        model_changes=None,\n",
      "                                        model_units=None),\n",
      "                  method='lsoda')\n"
     ]
    }
   ],
   "source": [
    "# >> The process model instance is viewable as a dataclass...\n",
    "\n",
    "pp(simple_tc_process)"
   ]
  },
  {
   "cell_type": "code",
   "execution_count": 6,
   "id": "ba3d6e8bae50f216",
   "metadata": {
    "ExecuteTime": {
     "end_time": "2024-03-15T20:13:26.823578Z",
     "start_time": "2024-03-15T20:13:26.821925Z"
    },
    "collapsed": false
   },
   "outputs": [
    {
     "name": "stdout",
     "output_type": "stream",
     "text": [
      "{ 'method': 'lsoda',\n",
      "  'model': { 'model_changes': None,\n",
      "             'model_id': 'model_from_BIOMD0000000749',\n",
      "             'model_language': (None,),\n",
      "             'model_name': 'model_from_BIOMD0000000749',\n",
      "             'model_source': 'BIOMD0000000749',\n",
      "             'model_units': None}}\n"
     ]
    }
   ],
   "source": [
    "# >> ...or a dict:\n",
    "\n",
    "pp(simple_tc_process.to_dict())"
   ]
  },
  {
   "cell_type": "code",
   "execution_count": 7,
   "id": "f6d099ae829fb063",
   "metadata": {
    "ExecuteTime": {
     "end_time": "2024-03-15T20:13:26.826247Z",
     "start_time": "2024-03-15T20:13:26.824768Z"
    },
    "collapsed": false
   },
   "outputs": [],
   "source": [
    "# 2. instantiate the prompter:\n",
    "\n",
    "prompter = BuildPrompter()"
   ]
  },
  {
   "cell_type": "code",
   "execution_count": 8,
   "id": "6ff0228586348da1",
   "metadata": {
    "ExecuteTime": {
     "end_time": "2024-03-15T20:13:35.794931Z",
     "start_time": "2024-03-15T20:13:27.407984Z"
    },
    "collapsed": false
   },
   "outputs": [
    {
     "name": "stdout",
     "output_type": "stream",
     "text": [
      "simple process successfully added to the bi-graph!\n",
      "All nodes including the most recently added simple processes connected!\n",
      "Done adding single simple (CopasiProcess) to the bigraph.\n"
     ]
    }
   ],
   "source": [
    "# 3. add process(es) to the bigraph with the Time Course model instance we created above. For now, just one process will be added.\n",
    "\n",
    "prompter.add_single_process(config=simple_tc_process)"
   ]
  },
  {
   "cell_type": "code",
   "execution_count": 9,
   "id": "b833c7217603645c",
   "metadata": {
    "ExecuteTime": {
     "end_time": "2024-03-15T20:13:36.417741Z",
     "start_time": "2024-03-15T20:13:36.413643Z"
    },
    "collapsed": false
   },
   "outputs": [
    {
     "name": "stdout",
     "output_type": "stream",
     "text": [
      "Builder({ 'emitter': { '_type': 'step',\n",
      "               'address': 'local:ram-emitter',\n",
      "               'config': {'emit': {}},\n",
      "               'inputs': {},\n",
      "               'instance': <process_bigraph.composite.RAMEmitter object at 0x2913d7130>,\n",
      "               'outputs': {}},\n",
      "  'simple': { '_type': 'process',\n",
      "              'address': 'local:CopasiProcess',\n",
      "              'config': { 'method': 'lsoda',\n",
      "                          'model': { 'model_changes': { 'global_parameter_changes': None,\n",
      "                                                        'reaction_changes': None,\n",
      "                                                        'species_changes': None},\n",
      "                                     'model_id': 'model_from_BIOMD0000000749',\n",
      "                                     'model_language': (None,),\n",
      "                                     'model_name': 'model_from_BIOMD0000000749',\n",
      "                                     'model_source': 'BIOMD0000000749',\n",
      "                                     'model_units': None}},\n",
      "              'inputs': { 'floating_species': ['floating_species_store'],\n",
      "                          'model_parameters': ['model_parameters_store'],\n",
      "                          'reactions': ['reactions_store'],\n",
      "                          'time': ['time_store']},\n",
      "              'instance': <biosimulator_processes.processes.copasi_process.CopasiProcess object at 0x1031bf820>,\n",
      "              'interval': 1.0,\n",
      "              'outputs': { 'floating_species': ['floating_species_store'],\n",
      "                           'time': ['time_store']}}})\n"
     ]
    }
   ],
   "source": [
    "# 4. Inspect the builder instance within prompter:\n",
    "\n",
    "pp(prompter.builder_instance)"
   ]
  },
  {
   "cell_type": "code",
   "execution_count": 10,
   "id": "8400f44e3a2e8433",
   "metadata": {
    "ExecuteTime": {
     "end_time": "2024-03-15T20:13:37.304578Z",
     "start_time": "2024-03-15T20:13:37.084635Z"
    },
    "collapsed": false
   },
   "outputs": [
    {
     "data": {
      "image/svg+xml": [
       "<?xml version=\"1.0\" encoding=\"UTF-8\" standalone=\"no\"?>\n",
       "<!DOCTYPE svg PUBLIC \"-//W3C//DTD SVG 1.1//EN\"\n",
       " \"http://www.w3.org/Graphics/SVG/1.1/DTD/svg11.dtd\">\n",
       "<!-- Generated by graphviz version 9.0.0 (20230911.1827)\n",
       " -->\n",
       "<!-- Title: bigraph Pages: 1 -->\n",
       "<svg width=\"1120pt\" height=\"186pt\"\n",
       " viewBox=\"0.00 0.00 1152.00 191.71\" xmlns=\"http://www.w3.org/2000/svg\" xmlns:xlink=\"http://www.w3.org/1999/xlink\">\n",
       "<g id=\"graph0\" class=\"graph\" transform=\"scale(0.524709 0.524709) rotate(0) translate(4 351.21)\">\n",
       "<title>bigraph</title>\n",
       "<polygon fill=\"white\" stroke=\"none\" points=\"-4,4 -4,-351.21 2130.51,-351.21 2130.51,4 -4,4\"/>\n",
       "<!-- (&#39;time_store&#39;,) -->\n",
       "<g id=\"node1\" class=\"node\">\n",
       "<title>(&#39;time_store&#39;,)</title>\n",
       "<ellipse fill=\"none\" stroke=\"black\" stroke-width=\"2\" cx=\"384\" cy=\"-271.29\" rx=\"34.83\" ry=\"34.83\"/>\n",
       "<text text-anchor=\"start\" x=\"359.62\" y=\"-267.01\" font-family=\"Times,serif\" font-size=\"12.00\">time_store</text>\n",
       "</g>\n",
       "<!-- (&#39;simple&#39;,) -->\n",
       "<g id=\"node29\" class=\"node\">\n",
       "<title>(&#39;simple&#39;,)</title>\n",
       "<polygon fill=\"none\" stroke=\"black\" stroke-width=\"2\" points=\"411,-92.06 357,-92.06 357,-56.06 411,-56.06 411,-92.06\"/>\n",
       "<text text-anchor=\"start\" x=\"368.62\" y=\"-69.78\" font-family=\"Times,serif\" font-size=\"12.00\">simple</text>\n",
       "</g>\n",
       "<!-- (&#39;time_store&#39;,)&#45;&gt;(&#39;simple&#39;,) -->\n",
       "<g id=\"edge24\" class=\"edge\">\n",
       "<title>(&#39;time_store&#39;,)&#45;&gt;(&#39;simple&#39;,)</title>\n",
       "<path fill=\"none\" stroke=\"black\" stroke-dasharray=\"5,2\" d=\"M373.07,-237.16C367.56,-216.78 362.53,-190.07 365,-166.11 367.17,-145.13 372.07,-121.85 376.35,-104.09\"/>\n",
       "<polygon fill=\"black\" stroke=\"black\" points=\"379.72,-105.04 378.74,-94.49 372.93,-103.35 379.72,-105.04\"/>\n",
       "<text text-anchor=\"start\" x=\"365\" y=\"-167.86\" font-family=\"Times,serif\" font-size=\"10.00\">time</text>\n",
       "</g>\n",
       "<!-- (&#39;time_store&#39;,)&#45;&gt;(&#39;simple&#39;,) -->\n",
       "<g id=\"edge28\" class=\"edge\">\n",
       "<title>(&#39;time_store&#39;,)&#45;&gt;(&#39;simple&#39;,)</title>\n",
       "<path fill=\"none\" stroke=\"black\" stroke-dasharray=\"5,2\" d=\"M384,-224.52C384,-182.59 384,-122.68 384,-93.05\"/>\n",
       "<polygon fill=\"black\" stroke=\"black\" points=\"380.5,-224.32 384,-234.32 387.5,-224.32 380.5,-224.32\"/>\n",
       "<text text-anchor=\"start\" x=\"384\" y=\"-167.86\" font-family=\"Times,serif\" font-size=\"10.00\">time</text>\n",
       "</g>\n",
       "<!-- (&#39;floating_species_store&#39;,) -->\n",
       "<g id=\"node2\" class=\"node\">\n",
       "<title>(&#39;floating_species_store&#39;,)</title>\n",
       "<ellipse fill=\"none\" stroke=\"black\" stroke-width=\"2\" cx=\"139\" cy=\"-271.29\" rx=\"69.39\" ry=\"69.39\"/>\n",
       "<text text-anchor=\"start\" x=\"86.88\" y=\"-267.01\" font-family=\"Times,serif\" font-size=\"12.00\">floating_species_store</text>\n",
       "</g>\n",
       "<!-- (&#39;floating_species_store&#39;, &#39;E&#39;) -->\n",
       "<g id=\"node3\" class=\"node\">\n",
       "<title>(&#39;floating_species_store&#39;, &#39;E&#39;)</title>\n",
       "<ellipse fill=\"none\" stroke=\"black\" stroke-width=\"2\" cx=\"180\" cy=\"-74.06\" rx=\"18\" ry=\"18\"/>\n",
       "<text text-anchor=\"start\" x=\"176.25\" y=\"-69.78\" font-family=\"Times,serif\" font-size=\"12.00\">E</text>\n",
       "</g>\n",
       "<!-- (&#39;floating_species_store&#39;,)&#45;&gt;(&#39;floating_species_store&#39;, &#39;E&#39;) -->\n",
       "<g id=\"edge1\" class=\"edge\">\n",
       "<title>(&#39;floating_species_store&#39;,)&#45;&gt;(&#39;floating_species_store&#39;, &#39;E&#39;)</title>\n",
       "<path fill=\"none\" stroke=\"black\" stroke-width=\"2\" d=\"M153.22,-202.55C161.46,-163.35 171.19,-117.02 176.35,-92.43\"/>\n",
       "</g>\n",
       "<!-- (&#39;floating_species_store&#39;, &#39;R&#39;) -->\n",
       "<g id=\"node4\" class=\"node\">\n",
       "<title>(&#39;floating_species_store&#39;, &#39;R&#39;)</title>\n",
       "<ellipse fill=\"none\" stroke=\"black\" stroke-width=\"2\" cx=\"18\" cy=\"-74.06\" rx=\"18\" ry=\"18\"/>\n",
       "<text text-anchor=\"start\" x=\"13.88\" y=\"-69.78\" font-family=\"Times,serif\" font-size=\"12.00\">R</text>\n",
       "</g>\n",
       "<!-- (&#39;floating_species_store&#39;,)&#45;&gt;(&#39;floating_species_store&#39;, &#39;R&#39;) -->\n",
       "<g id=\"edge2\" class=\"edge\">\n",
       "<title>(&#39;floating_species_store&#39;,)&#45;&gt;(&#39;floating_species_store&#39;, &#39;R&#39;)</title>\n",
       "<path fill=\"none\" stroke=\"black\" stroke-width=\"2\" d=\"M93.18,-217.98C76.5,-197.2 58.46,-172.47 45,-148.11 34.99,-130.01 27.3,-107.45 22.74,-92.23\"/>\n",
       "</g>\n",
       "<!-- (&#39;floating_species_store&#39;, &#39;f&#39;) -->\n",
       "<g id=\"node5\" class=\"node\">\n",
       "<title>(&#39;floating_species_store&#39;, &#39;f&#39;)</title>\n",
       "<ellipse fill=\"none\" stroke=\"black\" stroke-width=\"2\" cx=\"72\" cy=\"-74.06\" rx=\"18\" ry=\"18\"/>\n",
       "<text text-anchor=\"start\" x=\"70.12\" y=\"-69.78\" font-family=\"Times,serif\" font-size=\"12.00\">f</text>\n",
       "</g>\n",
       "<!-- (&#39;floating_species_store&#39;,)&#45;&gt;(&#39;floating_species_store&#39;, &#39;f&#39;) -->\n",
       "<g id=\"edge3\" class=\"edge\">\n",
       "<title>(&#39;floating_species_store&#39;,)&#45;&gt;(&#39;floating_species_store&#39;, &#39;f&#39;)</title>\n",
       "<path fill=\"none\" stroke=\"black\" stroke-width=\"2\" d=\"M116.5,-204.73C102.82,-164.86 86.38,-116.95 77.82,-92.01\"/>\n",
       "</g>\n",
       "<!-- (&#39;floating_species_store&#39;, &quot;E&#39;&quot;) -->\n",
       "<g id=\"node6\" class=\"node\">\n",
       "<title>(&#39;floating_species_store&#39;, &quot;E&#39;&quot;)</title>\n",
       "<ellipse fill=\"none\" stroke=\"black\" stroke-width=\"2\" cx=\"126\" cy=\"-74.06\" rx=\"18\" ry=\"18\"/>\n",
       "<text text-anchor=\"start\" x=\"121.12\" y=\"-69.78\" font-family=\"Times,serif\" font-size=\"12.00\">E&#39;</text>\n",
       "</g>\n",
       "<!-- (&#39;floating_species_store&#39;,)&#45;&gt;(&#39;floating_species_store&#39;, &quot;E&#39;&quot;) -->\n",
       "<g id=\"edge4\" class=\"edge\">\n",
       "<title>(&#39;floating_species_store&#39;,)&#45;&gt;(&#39;floating_species_store&#39;, &quot;E&#39;&quot;)</title>\n",
       "<path fill=\"none\" stroke=\"black\" stroke-width=\"2\" d=\"M134.4,-201.18C131.83,-162.57 128.82,-117.44 127.19,-93\"/>\n",
       "</g>\n",
       "<!-- (&#39;floating_species_store&#39;,)&#45;&gt;(&#39;simple&#39;,) -->\n",
       "<g id=\"edge25\" class=\"edge\">\n",
       "<title>(&#39;floating_species_store&#39;,)&#45;&gt;(&#39;simple&#39;,)</title>\n",
       "<path fill=\"none\" stroke=\"black\" stroke-dasharray=\"5,2\" d=\"M159.76,-204.07C166.31,-190.34 174.68,-176.81 185.25,-166.11 208.86,-142.22 294.84,-107.83 345.66,-88.89\"/>\n",
       "<polygon fill=\"black\" stroke=\"black\" points=\"346.65,-92.25 354.81,-85.5 344.22,-85.69 346.65,-92.25\"/>\n",
       "<text text-anchor=\"start\" x=\"186\" y=\"-167.86\" font-family=\"Times,serif\" font-size=\"10.00\">floating_species</text>\n",
       "</g>\n",
       "<!-- (&#39;floating_species_store&#39;,)&#45;&gt;(&#39;simple&#39;,) -->\n",
       "<g id=\"edge29\" class=\"edge\">\n",
       "<title>(&#39;floating_species_store&#39;,)&#45;&gt;(&#39;simple&#39;,)</title>\n",
       "<path fill=\"none\" stroke=\"black\" stroke-dasharray=\"5,2\" d=\"M202.26,-219.88C254.62,-178.16 325.99,-121.28 361.71,-92.81\"/>\n",
       "<polygon fill=\"black\" stroke=\"black\" points=\"200.2,-217.05 194.56,-226.01 204.56,-222.52 200.2,-217.05\"/>\n",
       "<text text-anchor=\"start\" x=\"269\" y=\"-167.86\" font-family=\"Times,serif\" font-size=\"10.00\">floating_species</text>\n",
       "</g>\n",
       "<!-- (&#39;model_parameters_store&#39;,) -->\n",
       "<g id=\"node7\" class=\"node\">\n",
       "<title>(&#39;model_parameters_store&#39;,)</title>\n",
       "<ellipse fill=\"none\" stroke=\"black\" stroke-width=\"2\" cx=\"709\" cy=\"-271.29\" rx=\"75.92\" ry=\"75.92\"/>\n",
       "<text text-anchor=\"start\" x=\"651.62\" y=\"-267.01\" font-family=\"Times,serif\" font-size=\"12.00\">model_parameters_store</text>\n",
       "</g>\n",
       "<!-- (&#39;model_parameters_store&#39;, &#39;B&#39;) -->\n",
       "<g id=\"node8\" class=\"node\">\n",
       "<title>(&#39;model_parameters_store&#39;, &#39;B&#39;)</title>\n",
       "<ellipse fill=\"none\" stroke=\"black\" stroke-width=\"2\" cx=\"655\" cy=\"-74.06\" rx=\"18\" ry=\"18\"/>\n",
       "<text text-anchor=\"start\" x=\"650.88\" y=\"-69.78\" font-family=\"Times,serif\" font-size=\"12.00\">B</text>\n",
       "</g>\n",
       "<!-- (&#39;model_parameters_store&#39;,)&#45;&gt;(&#39;model_parameters_store&#39;, &#39;B&#39;) -->\n",
       "<g id=\"edge5\" class=\"edge\">\n",
       "<title>(&#39;model_parameters_store&#39;,)&#45;&gt;(&#39;model_parameters_store&#39;, &#39;B&#39;)</title>\n",
       "<path fill=\"none\" stroke=\"black\" stroke-width=\"2\" d=\"M688.82,-197.31C678.27,-159.19 666.24,-115.7 659.75,-92.24\"/>\n",
       "</g>\n",
       "<!-- (&#39;model_parameters_store&#39;, &#39;lm&#39;) -->\n",
       "<g id=\"node9\" class=\"node\">\n",
       "<title>(&#39;model_parameters_store&#39;, &#39;lm&#39;)</title>\n",
       "<ellipse fill=\"none\" stroke=\"black\" stroke-width=\"2\" cx=\"709\" cy=\"-74.06\" rx=\"18\" ry=\"18\"/>\n",
       "<text text-anchor=\"start\" x=\"703\" y=\"-69.78\" font-family=\"Times,serif\" font-size=\"12.00\">lm</text>\n",
       "</g>\n",
       "<!-- (&#39;model_parameters_store&#39;,)&#45;&gt;(&#39;model_parameters_store&#39;, &#39;lm&#39;) -->\n",
       "<g id=\"edge6\" class=\"edge\">\n",
       "<title>(&#39;model_parameters_store&#39;,)&#45;&gt;(&#39;model_parameters_store&#39;, &#39;lm&#39;)</title>\n",
       "<path fill=\"none\" stroke=\"black\" stroke-width=\"2\" d=\"M709,-194.53C709,-157.44 709,-115.92 709,-92.89\"/>\n",
       "</g>\n",
       "<!-- (&#39;model_parameters_store&#39;, &#39;la&#39;) -->\n",
       "<g id=\"node10\" class=\"node\">\n",
       "<title>(&#39;model_parameters_store&#39;, &#39;la&#39;)</title>\n",
       "<ellipse fill=\"none\" stroke=\"black\" stroke-width=\"2\" cx=\"763\" cy=\"-74.06\" rx=\"18\" ry=\"18\"/>\n",
       "<text text-anchor=\"start\" x=\"758.88\" y=\"-69.78\" font-family=\"Times,serif\" font-size=\"12.00\">la</text>\n",
       "</g>\n",
       "<!-- (&#39;model_parameters_store&#39;,)&#45;&gt;(&#39;model_parameters_store&#39;, &#39;la&#39;) -->\n",
       "<g id=\"edge7\" class=\"edge\">\n",
       "<title>(&#39;model_parameters_store&#39;,)&#45;&gt;(&#39;model_parameters_store&#39;, &#39;la&#39;)</title>\n",
       "<path fill=\"none\" stroke=\"black\" stroke-width=\"2\" d=\"M729.18,-197.31C739.73,-159.19 751.76,-115.7 758.25,-92.24\"/>\n",
       "</g>\n",
       "<!-- (&#39;model_parameters_store&#39;, &#39;ld&#39;) -->\n",
       "<g id=\"node11\" class=\"node\">\n",
       "<title>(&#39;model_parameters_store&#39;, &#39;ld&#39;)</title>\n",
       "<ellipse fill=\"none\" stroke=\"black\" stroke-width=\"2\" cx=\"817\" cy=\"-74.06\" rx=\"18\" ry=\"18\"/>\n",
       "<text text-anchor=\"start\" x=\"812.5\" y=\"-69.78\" font-family=\"Times,serif\" font-size=\"12.00\">ld</text>\n",
       "</g>\n",
       "<!-- (&#39;model_parameters_store&#39;,)&#45;&gt;(&#39;model_parameters_store&#39;, &#39;ld&#39;) -->\n",
       "<g id=\"edge8\" class=\"edge\">\n",
       "<title>(&#39;model_parameters_store&#39;,)&#45;&gt;(&#39;model_parameters_store&#39;, &#39;ld&#39;)</title>\n",
       "<path fill=\"none\" stroke=\"black\" stroke-width=\"2\" d=\"M753.72,-208.87C766.4,-189.93 779.57,-168.65 790,-148.11 799.36,-129.66 807.18,-107.17 811.95,-92.06\"/>\n",
       "</g>\n",
       "<!-- (&#39;model_parameters_store&#39;, &#39;c&#39;) -->\n",
       "<g id=\"node12\" class=\"node\">\n",
       "<title>(&#39;model_parameters_store&#39;, &#39;c&#39;)</title>\n",
       "<ellipse fill=\"none\" stroke=\"black\" stroke-width=\"2\" cx=\"871\" cy=\"-74.06\" rx=\"18\" ry=\"18\"/>\n",
       "<text text-anchor=\"start\" x=\"868.38\" y=\"-69.78\" font-family=\"Times,serif\" font-size=\"12.00\">c</text>\n",
       "</g>\n",
       "<!-- (&#39;model_parameters_store&#39;,)&#45;&gt;(&#39;model_parameters_store&#39;, &#39;c&#39;) -->\n",
       "<g id=\"edge9\" class=\"edge\">\n",
       "<title>(&#39;model_parameters_store&#39;,)&#45;&gt;(&#39;model_parameters_store&#39;, &#39;c&#39;)</title>\n",
       "<path fill=\"none\" stroke=\"black\" stroke-width=\"2\" d=\"M770.61,-225.36C796.1,-204.25 824.26,-177.31 844,-148.11 855.67,-130.86 863.07,-107.93 867.11,-92.39\"/>\n",
       "</g>\n",
       "<!-- (&#39;model_parameters_store&#39;, &#39;k&#39;) -->\n",
       "<g id=\"node13\" class=\"node\">\n",
       "<title>(&#39;model_parameters_store&#39;, &#39;k&#39;)</title>\n",
       "<ellipse fill=\"none\" stroke=\"black\" stroke-width=\"2\" cx=\"925\" cy=\"-74.06\" rx=\"18\" ry=\"18\"/>\n",
       "<text text-anchor=\"start\" x=\"922\" y=\"-69.78\" font-family=\"Times,serif\" font-size=\"12.00\">k</text>\n",
       "</g>\n",
       "<!-- (&#39;model_parameters_store&#39;,)&#45;&gt;(&#39;model_parameters_store&#39;, &#39;k&#39;) -->\n",
       "<g id=\"edge10\" class=\"edge\">\n",
       "<title>(&#39;model_parameters_store&#39;,)&#45;&gt;(&#39;model_parameters_store&#39;, &#39;k&#39;)</title>\n",
       "<path fill=\"none\" stroke=\"black\" stroke-width=\"2\" d=\"M778.66,-239.2C818.37,-218.4 866.36,-187.6 898,-148.11 911.1,-131.76 918.24,-108.42 921.83,-92.56\"/>\n",
       "</g>\n",
       "<!-- (&#39;model_parameters_store&#39;, &#39;d1&#39;) -->\n",
       "<g id=\"node14\" class=\"node\">\n",
       "<title>(&#39;model_parameters_store&#39;, &#39;d1&#39;)</title>\n",
       "<ellipse fill=\"none\" stroke=\"black\" stroke-width=\"2\" cx=\"979\" cy=\"-74.06\" rx=\"18\" ry=\"18\"/>\n",
       "<text text-anchor=\"start\" x=\"973\" y=\"-69.78\" font-family=\"Times,serif\" font-size=\"12.00\">d1</text>\n",
       "</g>\n",
       "<!-- (&#39;model_parameters_store&#39;,)&#45;&gt;(&#39;model_parameters_store&#39;, &#39;d1&#39;) -->\n",
       "<g id=\"edge11\" class=\"edge\">\n",
       "<title>(&#39;model_parameters_store&#39;,)&#45;&gt;(&#39;model_parameters_store&#39;, &#39;d1&#39;)</title>\n",
       "<path fill=\"none\" stroke=\"black\" stroke-width=\"2\" d=\"M782.65,-249.41C836.2,-230.79 906.92,-198.54 952,-148.11 966.06,-132.39 973.01,-108.7 976.29,-92.59\"/>\n",
       "</g>\n",
       "<!-- (&#39;model_parameters_store&#39;, &#39;d0&#39;) -->\n",
       "<g id=\"node15\" class=\"node\">\n",
       "<title>(&#39;model_parameters_store&#39;, &#39;d0&#39;)</title>\n",
       "<ellipse fill=\"none\" stroke=\"black\" stroke-width=\"2\" cx=\"485\" cy=\"-74.06\" rx=\"18\" ry=\"18\"/>\n",
       "<text text-anchor=\"start\" x=\"479\" y=\"-69.78\" font-family=\"Times,serif\" font-size=\"12.00\">d0</text>\n",
       "</g>\n",
       "<!-- (&#39;model_parameters_store&#39;,)&#45;&gt;(&#39;model_parameters_store&#39;, &#39;d0&#39;) -->\n",
       "<g id=\"edge12\" class=\"edge\">\n",
       "<title>(&#39;model_parameters_store&#39;,)&#45;&gt;(&#39;model_parameters_store&#39;, &#39;d0&#39;)</title>\n",
       "<path fill=\"none\" stroke=\"black\" stroke-width=\"2\" d=\"M638.77,-241.02C596.93,-220.45 545.6,-189.26 512,-148.11 498.74,-131.88 491.64,-108.52 488.1,-92.62\"/>\n",
       "</g>\n",
       "<!-- (&#39;model_parameters_store&#39;, &#39;sigma&#39;) -->\n",
       "<g id=\"node16\" class=\"node\">\n",
       "<title>(&#39;model_parameters_store&#39;, &#39;sigma&#39;)</title>\n",
       "<ellipse fill=\"none\" stroke=\"black\" stroke-width=\"2\" cx=\"543\" cy=\"-74.06\" rx=\"21.76\" ry=\"21.76\"/>\n",
       "<text text-anchor=\"start\" x=\"529.12\" y=\"-69.78\" font-family=\"Times,serif\" font-size=\"12.00\">sigma</text>\n",
       "</g>\n",
       "<!-- (&#39;model_parameters_store&#39;,)&#45;&gt;(&#39;model_parameters_store&#39;, &#39;sigma&#39;) -->\n",
       "<g id=\"edge13\" class=\"edge\">\n",
       "<title>(&#39;model_parameters_store&#39;,)&#45;&gt;(&#39;model_parameters_store&#39;, &#39;sigma&#39;)</title>\n",
       "<path fill=\"none\" stroke=\"black\" stroke-width=\"2\" d=\"M648.05,-224.9C622.67,-203.71 594.43,-176.83 574,-148.11 562.58,-132.06 554.25,-111.14 549.11,-95.81\"/>\n",
       "</g>\n",
       "<!-- (&#39;model_parameters_store&#39;, &#39;r&#39;) -->\n",
       "<g id=\"node17\" class=\"node\">\n",
       "<title>(&#39;model_parameters_store&#39;, &#39;r&#39;)</title>\n",
       "<ellipse fill=\"none\" stroke=\"black\" stroke-width=\"2\" cx=\"601\" cy=\"-74.06\" rx=\"18\" ry=\"18\"/>\n",
       "<text text-anchor=\"start\" x=\"599.12\" y=\"-69.78\" font-family=\"Times,serif\" font-size=\"12.00\">r</text>\n",
       "</g>\n",
       "<!-- (&#39;model_parameters_store&#39;,)&#45;&gt;(&#39;model_parameters_store&#39;, &#39;r&#39;) -->\n",
       "<g id=\"edge14\" class=\"edge\">\n",
       "<title>(&#39;model_parameters_store&#39;,)&#45;&gt;(&#39;model_parameters_store&#39;, &#39;r&#39;)</title>\n",
       "<path fill=\"none\" stroke=\"black\" stroke-width=\"2\" d=\"M664.28,-208.87C651.6,-189.93 638.43,-168.65 628,-148.11 618.64,-129.66 610.82,-107.17 606.05,-92.06\"/>\n",
       "</g>\n",
       "<!-- (&#39;model_parameters_store&#39;,)&#45;&gt;(&#39;simple&#39;,) -->\n",
       "<g id=\"edge26\" class=\"edge\">\n",
       "<title>(&#39;model_parameters_store&#39;,)&#45;&gt;(&#39;simple&#39;,)</title>\n",
       "<path fill=\"none\" stroke=\"black\" stroke-dasharray=\"5,2\" d=\"M633.71,-256.66C578.52,-243.67 504.2,-219.62 450.75,-177.36 425.76,-157.6 407.12,-125.81 395.97,-102.91\"/>\n",
       "<polygon fill=\"black\" stroke=\"black\" points=\"399.29,-101.73 391.89,-94.15 392.94,-104.69 399.29,-101.73\"/>\n",
       "<text text-anchor=\"start\" x=\"451\" y=\"-167.86\" font-family=\"Times,serif\" font-size=\"10.00\">model_parameters</text>\n",
       "</g>\n",
       "<!-- (&#39;reactions_store&#39;,) -->\n",
       "<g id=\"node18\" class=\"node\">\n",
       "<title>(&#39;reactions_store&#39;,)</title>\n",
       "<ellipse fill=\"none\" stroke=\"black\" stroke-width=\"2\" cx=\"1501\" cy=\"-271.29\" rx=\"48.37\" ry=\"48.37\"/>\n",
       "<text text-anchor=\"start\" x=\"1465.75\" y=\"-267.01\" font-family=\"Times,serif\" font-size=\"12.00\">reactions_store</text>\n",
       "</g>\n",
       "<!-- (&#39;reactions_store&#39;, &#39;tumor growth&#39;) -->\n",
       "<g id=\"node19\" class=\"node\">\n",
       "<title>(&#39;reactions_store&#39;, &#39;tumor growth&#39;)</title>\n",
       "<ellipse fill=\"none\" stroke=\"black\" stroke-width=\"2\" cx=\"1450\" cy=\"-74.06\" rx=\"44.64\" ry=\"44.64\"/>\n",
       "<text text-anchor=\"start\" x=\"1417.75\" y=\"-69.78\" font-family=\"Times,serif\" font-size=\"12.00\">tumor growth</text>\n",
       "</g>\n",
       "<!-- (&#39;reactions_store&#39;,)&#45;&gt;(&#39;reactions_store&#39;, &#39;tumor growth&#39;) -->\n",
       "<g id=\"edge15\" class=\"edge\">\n",
       "<title>(&#39;reactions_store&#39;,)&#45;&gt;(&#39;reactions_store&#39;, &#39;tumor growth&#39;)</title>\n",
       "<path fill=\"none\" stroke=\"black\" stroke-width=\"2\" d=\"M1488.78,-223.52C1480.42,-191.49 1469.4,-149.31 1461.24,-118.1\"/>\n",
       "</g>\n",
       "<!-- (&#39;reactions_store&#39;, &#39;tumor death&#39;) -->\n",
       "<g id=\"node20\" class=\"node\">\n",
       "<title>(&#39;reactions_store&#39;, &#39;tumor death&#39;)</title>\n",
       "<ellipse fill=\"none\" stroke=\"black\" stroke-width=\"2\" cx=\"1552\" cy=\"-74.06\" rx=\"39.5\" ry=\"39.5\"/>\n",
       "<text text-anchor=\"start\" x=\"1523.88\" y=\"-69.78\" font-family=\"Times,serif\" font-size=\"12.00\">tumor death</text>\n",
       "</g>\n",
       "<!-- (&#39;reactions_store&#39;,)&#45;&gt;(&#39;reactions_store&#39;, &#39;tumor death&#39;) -->\n",
       "<g id=\"edge16\" class=\"edge\">\n",
       "<title>(&#39;reactions_store&#39;,)&#45;&gt;(&#39;reactions_store&#39;, &#39;tumor death&#39;)</title>\n",
       "<path fill=\"none\" stroke=\"black\" stroke-width=\"2\" d=\"M1513.22,-223.52C1522.03,-189.79 1533.77,-144.83 1542.02,-113.25\"/>\n",
       "</g>\n",
       "<!-- (&#39;reactions_store&#39;, &#39;tumor killing&#39;) -->\n",
       "<g id=\"node21\" class=\"node\">\n",
       "<title>(&#39;reactions_store&#39;, &#39;tumor killing&#39;)</title>\n",
       "<ellipse fill=\"none\" stroke=\"black\" stroke-width=\"2\" cx=\"1652\" cy=\"-74.06\" rx=\"42.3\" ry=\"42.3\"/>\n",
       "<text text-anchor=\"start\" x=\"1621.62\" y=\"-69.78\" font-family=\"Times,serif\" font-size=\"12.00\">tumor killing</text>\n",
       "</g>\n",
       "<!-- (&#39;reactions_store&#39;,)&#45;&gt;(&#39;reactions_store&#39;, &#39;tumor killing&#39;) -->\n",
       "<g id=\"edge17\" class=\"edge\">\n",
       "<title>(&#39;reactions_store&#39;,)&#45;&gt;(&#39;reactions_store&#39;, &#39;tumor killing&#39;)</title>\n",
       "<path fill=\"none\" stroke=\"black\" stroke-width=\"2\" d=\"M1529.65,-231.28C1538.53,-219.56 1548.48,-206.79 1558,-195.36 1576.17,-173.54 1583.28,-170.3 1601,-148.11 1610.56,-136.15 1620.35,-122.51 1628.76,-110.28\"/>\n",
       "</g>\n",
       "<!-- (&#39;reactions_store&#39;, &#39;tumor nutrient supply&#39;) -->\n",
       "<g id=\"node22\" class=\"node\">\n",
       "<title>(&#39;reactions_store&#39;, &#39;tumor nutrient supply&#39;)</title>\n",
       "<ellipse fill=\"none\" stroke=\"black\" stroke-width=\"2\" cx=\"1780\" cy=\"-74.06\" rx=\"67.52\" ry=\"67.52\"/>\n",
       "<text text-anchor=\"start\" x=\"1729.38\" y=\"-69.78\" font-family=\"Times,serif\" font-size=\"12.00\">tumor nutrient supply</text>\n",
       "</g>\n",
       "<!-- (&#39;reactions_store&#39;,)&#45;&gt;(&#39;reactions_store&#39;, &#39;tumor nutrient supply&#39;) -->\n",
       "<g id=\"edge18\" class=\"edge\">\n",
       "<title>(&#39;reactions_store&#39;,)&#45;&gt;(&#39;reactions_store&#39;, &#39;tumor nutrient supply&#39;)</title>\n",
       "<path fill=\"none\" stroke=\"black\" stroke-width=\"2\" d=\"M1525.54,-228.94C1534.46,-216.73 1545.48,-204.26 1558,-195.36 1585.63,-175.73 1673.88,-165.45 1703,-148.11 1713.92,-141.61 1724.55,-133.3 1734.25,-124.64\"/>\n",
       "</g>\n",
       "<!-- (&#39;reactions_store&#39;, &#39;effector stimulation&#39;) -->\n",
       "<g id=\"node23\" class=\"node\">\n",
       "<title>(&#39;reactions_store&#39;, &#39;effector stimulation&#39;)</title>\n",
       "<ellipse fill=\"none\" stroke=\"black\" stroke-width=\"2\" cx=\"1927\" cy=\"-74.06\" rx=\"60.98\" ry=\"60.98\"/>\n",
       "<text text-anchor=\"start\" x=\"1881.62\" y=\"-69.78\" font-family=\"Times,serif\" font-size=\"12.00\">effector stimulation</text>\n",
       "</g>\n",
       "<!-- (&#39;reactions_store&#39;,)&#45;&gt;(&#39;reactions_store&#39;, &#39;effector stimulation&#39;) -->\n",
       "<g id=\"edge19\" class=\"edge\">\n",
       "<title>(&#39;reactions_store&#39;,)&#45;&gt;(&#39;reactions_store&#39;, &#39;effector stimulation&#39;)</title>\n",
       "<path fill=\"none\" stroke=\"black\" stroke-width=\"2\" d=\"M1524.46,-228.11C1533.39,-215.7 1544.67,-203.33 1558,-195.36 1586.87,-178.11 1827.19,-163.7 1857,-148.11 1868.99,-141.85 1880.09,-132.74 1889.77,-123.07\"/>\n",
       "</g>\n",
       "<!-- (&#39;reactions_store&#39;, &#39;effector exhaustion&#39;) -->\n",
       "<g id=\"node24\" class=\"node\">\n",
       "<title>(&#39;reactions_store&#39;, &#39;effector exhaustion&#39;)</title>\n",
       "<ellipse fill=\"none\" stroke=\"black\" stroke-width=\"2\" cx=\"2066\" cy=\"-74.06\" rx=\"60.51\" ry=\"60.51\"/>\n",
       "<text text-anchor=\"start\" x=\"2021\" y=\"-69.78\" font-family=\"Times,serif\" font-size=\"12.00\">effector exhaustion</text>\n",
       "</g>\n",
       "<!-- (&#39;reactions_store&#39;,)&#45;&gt;(&#39;reactions_store&#39;, &#39;effector exhaustion&#39;) -->\n",
       "<g id=\"edge20\" class=\"edge\">\n",
       "<title>(&#39;reactions_store&#39;,)&#45;&gt;(&#39;reactions_store&#39;, &#39;effector exhaustion&#39;)</title>\n",
       "<path fill=\"none\" stroke=\"black\" stroke-width=\"2\" d=\"M1523.95,-228.11C1532.9,-215.54 1544.34,-203.07 1558,-195.36 1568.68,-189.33 1986.01,-153.56 1997,-148.11 2009.03,-142.14 2020.07,-133.15 2029.62,-123.5\"/>\n",
       "</g>\n",
       "<!-- (&#39;reactions_store&#39;, &#39;effector death&#39;) -->\n",
       "<g id=\"node25\" class=\"node\">\n",
       "<title>(&#39;reactions_store&#39;, &#39;effector death&#39;)</title>\n",
       "<ellipse fill=\"none\" stroke=\"black\" stroke-width=\"2\" cx=\"1062\" cy=\"-74.06\" rx=\"44.64\" ry=\"44.64\"/>\n",
       "<text text-anchor=\"start\" x=\"1029.75\" y=\"-69.78\" font-family=\"Times,serif\" font-size=\"12.00\">effector death</text>\n",
       "</g>\n",
       "<!-- (&#39;reactions_store&#39;,)&#45;&gt;(&#39;reactions_store&#39;, &#39;effector death&#39;) -->\n",
       "<g id=\"edge21\" class=\"edge\">\n",
       "<title>(&#39;reactions_store&#39;,)&#45;&gt;(&#39;reactions_store&#39;, &#39;effector death&#39;)</title>\n",
       "<path fill=\"none\" stroke=\"black\" stroke-width=\"2\" d=\"M1452.31,-264.63C1374.76,-253.61 1221.24,-223.37 1116,-148.11 1103.43,-139.12 1092.57,-126.31 1083.95,-113.92\"/>\n",
       "</g>\n",
       "<!-- (&#39;reactions_store&#39;, &#39;effector source&#39;) -->\n",
       "<g id=\"node26\" class=\"node\">\n",
       "<title>(&#39;reactions_store&#39;, &#39;effector source&#39;)</title>\n",
       "<ellipse fill=\"none\" stroke=\"black\" stroke-width=\"2\" cx=\"1173\" cy=\"-74.06\" rx=\"47.91\" ry=\"47.91\"/>\n",
       "<text text-anchor=\"start\" x=\"1138.12\" y=\"-69.78\" font-family=\"Times,serif\" font-size=\"12.00\">effector source</text>\n",
       "</g>\n",
       "<!-- (&#39;reactions_store&#39;,)&#45;&gt;(&#39;reactions_store&#39;, &#39;effector source&#39;) -->\n",
       "<g id=\"edge22\" class=\"edge\">\n",
       "<title>(&#39;reactions_store&#39;,)&#45;&gt;(&#39;reactions_store&#39;, &#39;effector source&#39;)</title>\n",
       "<path fill=\"none\" stroke=\"black\" stroke-width=\"2\" d=\"M1453.91,-256.77C1396.71,-238.72 1299.3,-202.55 1230,-148.11 1218.36,-138.97 1207.73,-126.96 1198.88,-115.33\"/>\n",
       "</g>\n",
       "<!-- (&#39;reactions_store&#39;, &#39;tumor nutrient missuply&#39;) -->\n",
       "<g id=\"node27\" class=\"node\">\n",
       "<title>(&#39;reactions_store&#39;, &#39;tumor nutrient missuply&#39;)</title>\n",
       "<ellipse fill=\"none\" stroke=\"black\" stroke-width=\"2\" cx=\"1313\" cy=\"-74.06\" rx=\"74.06\" ry=\"74.06\"/>\n",
       "<text text-anchor=\"start\" x=\"1257.12\" y=\"-69.78\" font-family=\"Times,serif\" font-size=\"12.00\">tumor nutrient missuply</text>\n",
       "</g>\n",
       "<!-- (&#39;reactions_store&#39;,)&#45;&gt;(&#39;reactions_store&#39;, &#39;tumor nutrient missuply&#39;) -->\n",
       "<g id=\"edge23\" class=\"edge\">\n",
       "<title>(&#39;reactions_store&#39;,)&#45;&gt;(&#39;reactions_store&#39;, &#39;tumor nutrient missuply&#39;)</title>\n",
       "<path fill=\"none\" stroke=\"black\" stroke-width=\"2\" d=\"M1467.39,-235.38C1438.77,-205.66 1397.19,-162.49 1364.39,-128.43\"/>\n",
       "</g>\n",
       "<!-- (&#39;reactions_store&#39;,)&#45;&gt;(&#39;simple&#39;,) -->\n",
       "<g id=\"edge27\" class=\"edge\">\n",
       "<title>(&#39;reactions_store&#39;,)&#45;&gt;(&#39;simple&#39;,)</title>\n",
       "<path fill=\"none\" stroke=\"black\" stroke-dasharray=\"5,2\" d=\"M1452.24,-265.01C1249.27,-242.99 480.81,-159.07 458,-148.11 436.03,-137.56 416.65,-117.82 403.24,-101.52\"/>\n",
       "<polygon fill=\"black\" stroke=\"black\" points=\"406.31,-99.76 397.37,-94.08 400.82,-104.1 406.31,-99.76\"/>\n",
       "<text text-anchor=\"start\" x=\"669\" y=\"-167.86\" font-family=\"Times,serif\" font-size=\"10.00\">reactions</text>\n",
       "</g>\n",
       "<!-- (&#39;emitter&#39;,) -->\n",
       "<g id=\"node28\" class=\"node\">\n",
       "<title>(&#39;emitter&#39;,)</title>\n",
       "<polygon fill=\"none\" stroke=\"black\" stroke-width=\"2\" points=\"1621,-289.29 1567,-289.29 1567,-253.29 1621,-253.29 1621,-289.29\"/>\n",
       "<text text-anchor=\"start\" x=\"1577.88\" y=\"-267.01\" font-family=\"Times,serif\" font-size=\"12.00\">emitter</text>\n",
       "</g>\n",
       "</g>\n",
       "</svg>\n"
      ],
      "text/plain": [
       "<graphviz.graphs.Digraph at 0x2913d6c20>"
      ]
     },
     "execution_count": 10,
     "metadata": {},
     "output_type": "execute_result"
    }
   ],
   "source": [
    "# 5. Visualize the fully-connected composition:\n",
    "\n",
    "prompter.visualize_bigraph()"
   ]
  },
  {
   "cell_type": "code",
   "execution_count": 11,
   "id": "38052757b3b95baa",
   "metadata": {
    "ExecuteTime": {
     "end_time": "2024-03-15T20:13:39.609053Z",
     "start_time": "2024-03-15T20:13:38.219045Z"
    },
    "collapsed": false
   },
   "outputs": [
    {
     "name": "stderr",
     "output_type": "stream",
     "text": [
      "Error while running the simulation: >ERROR 2024-03-15T16:13:39<\n",
      "  CCopasiTask (5): No output file defined for report of task 'Time-Course'.>EXCEPTION 2024-03-15T16:13:39<\n",
      "  CTrajectoryMethod (25): Invalid state at time '0.010000'.\n"
     ]
    },
    {
     "name": "stdout",
     "output_type": "stream",
     "text": [
      "Generating composite...\n",
      "Composite generated!\n",
      "Running generated composite for an interval of 1\n",
      "Composite successfully run. Request complete. Done.\n"
     ]
    },
    {
     "name": "stderr",
     "output_type": "stream",
     "text": [
      "/Users/alex/Desktop/uchc_work/repos/biosimulator-processes/notebooks/../biosimulator_processes/processes/copasi_process.py:231: FutureWarning:\n",
      "\n",
      "Series.__getitem__ treating keys as positions is deprecated. In a future version, integer keys will always be treated as labels (consistent with DataFrame behavior). To access a value by position, use `ser.iloc[pos]`\n",
      "\n"
     ]
    }
   ],
   "source": [
    "# 6. Generate a composite engine and use to execute the bigraph that we just created:\n",
    "\n",
    "prompter.run()"
   ]
  },
  {
   "cell_type": "code",
   "execution_count": 12,
   "id": "45ae5b121110cdce",
   "metadata": {
    "ExecuteTime": {
     "end_time": "2024-03-15T20:13:41.061921Z",
     "start_time": "2024-03-15T20:13:41.057586Z"
    },
    "collapsed": false
   },
   "outputs": [
    {
     "name": "stdout",
     "output_type": "stream",
     "text": [
      "File 'simple_single_demo' successfully written in 'out' directory.\n",
      "Builder flushed! This is verified because builder is: None\n"
     ]
    }
   ],
   "source": [
    "# 7. Clear the builder and start from scratch, writing it out first:\n",
    "\n",
    "prompter.flush(fp='simple_single_demo')"
   ]
  },
  {
   "cell_type": "code",
   "execution_count": 13,
   "id": "79fbea4fa6708088",
   "metadata": {
    "ExecuteTime": {
     "end_time": "2024-03-15T20:13:42.252590Z",
     "start_time": "2024-03-15T20:13:42.249942Z"
    },
    "collapsed": false
   },
   "outputs": [],
   "source": [
    "prompter.builder_instance"
   ]
  },
  {
   "cell_type": "markdown",
   "id": "b65a6fab79ad097c",
   "metadata": {
    "collapsed": false
   },
   "source": [
    "#### **_Experiment 2_**: Load an SBML model from a specified model filepath and add Model changes to the composite before adding it to the bigraph. Here, we expect the user to be familiar enough with the model file they are passing to make individual species/parameter/reaction changes for specific species types. In the Caravagna model, for example, the species involved are T, E, I. Let's change the initial concentration for some of these as an example of model changes:"
   ]
  },
  {
   "cell_type": "code",
   "execution_count": 26,
   "id": "89739e0302d6b89a",
   "metadata": {
    "ExecuteTime": {
     "end_time": "2024-03-15T20:21:00.668323Z",
     "start_time": "2024-03-15T20:21:00.664979Z"
    },
    "collapsed": false
   },
   "outputs": [
    {
     "name": "stdout",
     "output_type": "stream",
     "text": [
      "True\n"
     ]
    }
   ],
   "source": [
    "caravagna_model_filepath = '../biosimulator_processes/model_files/Caravagna2010.xml'\n",
    "print(os.path.exists(caravagna_model_filepath))"
   ]
  },
  {
   "cell_type": "code",
   "execution_count": 16,
   "id": "55e063c857e51f3",
   "metadata": {
    "ExecuteTime": {
     "end_time": "2024-03-15T20:14:50.814659Z",
     "start_time": "2024-03-15T20:14:50.812026Z"
    },
    "collapsed": false
   },
   "outputs": [
    {
     "name": "stdout",
     "output_type": "stream",
     "text": [
      "TimeCourseModel(model_source='../biosimulator_processes/model_files/Caravagna2010.xml',\n",
      "                model_id='model_from_Caravagna2010.xml',\n",
      "                model_name='model_from_Caravagna2010.xml',\n",
      "                model_language=TimeCourseModelChanges(species_changes=SpeciesChange(species_name='T',\n",
      "                                                                                    unit=None,\n",
      "                                                                                    initial_concentration=0.234,\n",
      "                                                                                    initial_particle_number=None,\n",
      "                                                                                    initial_expression=None,\n",
      "                                                                                    expression=None),\n",
      "                                                      global_parameter_changes=None,\n",
      "                                                      reaction_changes=None),\n",
      "                model_changes=None,\n",
      "                model_units=None)\n"
     ]
    }
   ],
   "source": [
    "# first make the timecourse model which is easily configured with objects related to model changes\n",
    "adjusted_tc_model_from_file = sed.TimeCourseModel(\n",
    "    model_source=caravagna_model_filepath, \n",
    "    model_changes=sed.TimeCourseModelChanges(\n",
    "        species_changes=sed.SpeciesChange(species_name='T', initial_concentration=0.234)\n",
    "    )\n",
    ")\n",
    "\n",
    "\n",
    "pp(adjusted_tc_model_from_file)"
   ]
  },
  {
   "cell_type": "code",
   "execution_count": 18,
   "id": "c1ddec005282e13f",
   "metadata": {
    "ExecuteTime": {
     "end_time": "2024-03-15T20:15:54.149790Z",
     "start_time": "2024-03-15T20:15:54.147576Z"
    },
    "collapsed": false
   },
   "outputs": [
    {
     "name": "stdout",
     "output_type": "stream",
     "text": [
      "TimeCourseProcess(model=TimeCourseModel(model_source='../biosimulator_processes/model_files/Caravagna2010.xml',\n",
      "                                        model_id='model_from_Caravagna2010.xml',\n",
      "                                        model_name='model_from_Caravagna2010.xml',\n",
      "                                        model_language=TimeCourseModelChanges(species_changes=SpeciesChange(species_name='T',\n",
      "                                                                                                            unit=None,\n",
      "                                                                                                            initial_concentration=0.234,\n",
      "                                                                                                            initial_particle_number=None,\n",
      "                                                                                                            initial_expression=None,\n",
      "                                                                                                            expression=None),\n",
      "                                                                              global_parameter_changes=None,\n",
      "                                                                              reaction_changes=None),\n",
      "                                        model_changes=None,\n",
      "                                        model_units=None),\n",
      "                  method='stochastic')\n"
     ]
    }
   ],
   "source": [
    "adjusted_tc_process = sed.TimeCourseProcess(model=adjusted_tc_model_from_file, method='stochastic')\n",
    "\n",
    "pp(adjusted_tc_process)"
   ]
  },
  {
   "cell_type": "code",
   "execution_count": 21,
   "id": "32b4be407a09f96",
   "metadata": {
    "ExecuteTime": {
     "end_time": "2024-03-15T20:17:28.442782Z",
     "start_time": "2024-03-15T20:17:14.426242Z"
    },
    "collapsed": false
   },
   "outputs": [
    {
     "name": "stdout",
     "output_type": "stream",
     "text": [
      "adjusted_tc_process_demo process successfully added to the bi-graph!\n",
      "All nodes including the most recently added adjusted_tc_process_demo processes connected!\n",
      "Done adding single adjusted_tc_process_demo (CopasiProcess) to the bigraph.\n"
     ]
    }
   ],
   "source": [
    "# add the process we just created with the prompter. The prompter will create a new instance of builder for us, if not passed:\n",
    "\n",
    "prompter.add_single_process(config=adjusted_tc_process)"
   ]
  },
  {
   "cell_type": "code",
   "execution_count": 22,
   "id": "d0121977a95c320c",
   "metadata": {
    "ExecuteTime": {
     "end_time": "2024-03-15T20:17:46.077207Z",
     "start_time": "2024-03-15T20:17:45.885890Z"
    },
    "collapsed": false
   },
   "outputs": [
    {
     "data": {
      "image/svg+xml": [
       "<?xml version=\"1.0\" encoding=\"UTF-8\" standalone=\"no\"?>\n",
       "<!DOCTYPE svg PUBLIC \"-//W3C//DTD SVG 1.1//EN\"\n",
       " \"http://www.w3.org/Graphics/SVG/1.1/DTD/svg11.dtd\">\n",
       "<!-- Generated by graphviz version 9.0.0 (20230911.1827)\n",
       " -->\n",
       "<!-- Title: bigraph Pages: 1 -->\n",
       "<svg width=\"1120pt\" height=\"242pt\"\n",
       " viewBox=\"0.00 0.00 1152.00 248.78\" xmlns=\"http://www.w3.org/2000/svg\" xmlns:xlink=\"http://www.w3.org/1999/xlink\">\n",
       "<g id=\"graph0\" class=\"graph\" transform=\"scale(0.388664 0.388664) rotate(0) translate(4 618.3)\">\n",
       "<title>bigraph</title>\n",
       "<polygon fill=\"white\" stroke=\"none\" points=\"-4,4 -4,-618.3 2877.66,-618.3 2877.66,4 -4,4\"/>\n",
       "<!-- (&#39;time_store&#39;,) -->\n",
       "<g id=\"node1\" class=\"node\">\n",
       "<title>(&#39;time_store&#39;,)</title>\n",
       "<ellipse fill=\"none\" stroke=\"black\" stroke-width=\"2\" cx=\"344\" cy=\"-538.37\" rx=\"34.83\" ry=\"34.83\"/>\n",
       "<text text-anchor=\"start\" x=\"319.62\" y=\"-534.1\" font-family=\"Times,serif\" font-size=\"12.00\">time_store</text>\n",
       "</g>\n",
       "<!-- (&#39;adjusted_tc_process_demo&#39;,) -->\n",
       "<g id=\"node29\" class=\"node\">\n",
       "<title>(&#39;adjusted_tc_process_demo&#39;,)</title>\n",
       "<polygon fill=\"none\" stroke=\"black\" stroke-width=\"2\" points=\"402.98,-225.6 269.02,-225.6 269.02,-189.6 402.98,-189.6 402.98,-225.6\"/>\n",
       "<text text-anchor=\"start\" x=\"272.62\" y=\"-203.32\" font-family=\"Times,serif\" font-size=\"12.00\">adjusted_tc_process_demo</text>\n",
       "</g>\n",
       "<!-- (&#39;time_store&#39;,)&#45;&gt;(&#39;adjusted_tc_process_demo&#39;,) -->\n",
       "<g id=\"edge24\" class=\"edge\">\n",
       "<title>(&#39;time_store&#39;,)&#45;&gt;(&#39;adjusted_tc_process_demo&#39;,)</title>\n",
       "<path fill=\"none\" stroke=\"black\" stroke-dasharray=\"5,2\" d=\"M343.85,-502.65C343.72,-482.39 343.47,-456.35 343,-433.2 341.57,-363.09 338.7,-280.7 337.11,-237.84\"/>\n",
       "<polygon fill=\"black\" stroke=\"black\" points=\"340.61,-237.73 336.74,-227.87 333.62,-237.99 340.61,-237.73\"/>\n",
       "<text text-anchor=\"start\" x=\"344\" y=\"-434.95\" font-family=\"Times,serif\" font-size=\"10.00\">time</text>\n",
       "</g>\n",
       "<!-- (&#39;time_store&#39;,)&#45;&gt;(&#39;adjusted_tc_process_demo&#39;,) -->\n",
       "<g id=\"edge28\" class=\"edge\">\n",
       "<title>(&#39;time_store&#39;,)&#45;&gt;(&#39;adjusted_tc_process_demo&#39;,)</title>\n",
       "<path fill=\"none\" stroke=\"black\" stroke-dasharray=\"5,2\" d=\"M330.8,-493.43C326.82,-478.08 322.97,-460.65 321,-444.45 311.12,-363.4 325.66,-265.84 332.63,-226.42\"/>\n",
       "<polygon fill=\"black\" stroke=\"black\" points=\"327.33,-493.99 333.31,-502.73 334.09,-492.16 327.33,-493.99\"/>\n",
       "<text text-anchor=\"start\" x=\"321\" y=\"-434.95\" font-family=\"Times,serif\" font-size=\"10.00\">time</text>\n",
       "</g>\n",
       "<!-- (&#39;floating_species_store&#39;,) -->\n",
       "<g id=\"node2\" class=\"node\">\n",
       "<title>(&#39;floating_species_store&#39;,)</title>\n",
       "<ellipse fill=\"none\" stroke=\"black\" stroke-width=\"2\" cx=\"111\" cy=\"-538.37\" rx=\"69.39\" ry=\"69.39\"/>\n",
       "<text text-anchor=\"start\" x=\"58.88\" y=\"-534.1\" font-family=\"Times,serif\" font-size=\"12.00\">floating_species_store</text>\n",
       "</g>\n",
       "<!-- (&#39;floating_species_store&#39;, &#39;T&#39;) -->\n",
       "<g id=\"node3\" class=\"node\">\n",
       "<title>(&#39;floating_species_store&#39;, &#39;T&#39;)</title>\n",
       "<ellipse fill=\"none\" stroke=\"black\" stroke-width=\"2\" cx=\"18\" cy=\"-207.6\" rx=\"18\" ry=\"18\"/>\n",
       "<text text-anchor=\"start\" x=\"14.25\" y=\"-203.32\" font-family=\"Times,serif\" font-size=\"12.00\">T</text>\n",
       "</g>\n",
       "<!-- (&#39;floating_species_store&#39;,)&#45;&gt;(&#39;floating_species_store&#39;, &#39;T&#39;) -->\n",
       "<g id=\"edge1\" class=\"edge\">\n",
       "<title>(&#39;floating_species_store&#39;,)&#45;&gt;(&#39;floating_species_store&#39;, &#39;T&#39;)</title>\n",
       "<path fill=\"none\" stroke=\"black\" stroke-width=\"2\" d=\"M73.71,-478.73C62.83,-459.2 52.01,-436.88 45,-415.2 23.25,-347.91 18.97,-262.91 18.17,-226.49\"/>\n",
       "</g>\n",
       "<!-- (&#39;floating_species_store&#39;, &#39;E&#39;) -->\n",
       "<g id=\"node4\" class=\"node\">\n",
       "<title>(&#39;floating_species_store&#39;, &#39;E&#39;)</title>\n",
       "<ellipse fill=\"none\" stroke=\"black\" stroke-width=\"2\" cx=\"72\" cy=\"-207.6\" rx=\"18\" ry=\"18\"/>\n",
       "<text text-anchor=\"start\" x=\"68.25\" y=\"-203.32\" font-family=\"Times,serif\" font-size=\"12.00\">E</text>\n",
       "</g>\n",
       "<!-- (&#39;floating_species_store&#39;,)&#45;&gt;(&#39;floating_species_store&#39;, &#39;E&#39;) -->\n",
       "<g id=\"edge2\" class=\"edge\">\n",
       "<title>(&#39;floating_species_store&#39;,)&#45;&gt;(&#39;floating_species_store&#39;, &#39;E&#39;)</title>\n",
       "<path fill=\"none\" stroke=\"black\" stroke-width=\"2\" d=\"M102.87,-468.85C93.72,-391.69 79.43,-271.22 74.1,-226.28\"/>\n",
       "</g>\n",
       "<!-- (&#39;floating_species_store&#39;, &#39;I&#39;) -->\n",
       "<g id=\"node5\" class=\"node\">\n",
       "<title>(&#39;floating_species_store&#39;, &#39;I&#39;)</title>\n",
       "<ellipse fill=\"none\" stroke=\"black\" stroke-width=\"2\" cx=\"126\" cy=\"-207.6\" rx=\"18\" ry=\"18\"/>\n",
       "<text text-anchor=\"start\" x=\"124.12\" y=\"-203.32\" font-family=\"Times,serif\" font-size=\"12.00\">I</text>\n",
       "</g>\n",
       "<!-- (&#39;floating_species_store&#39;,)&#45;&gt;(&#39;floating_species_store&#39;, &#39;I&#39;) -->\n",
       "<g id=\"edge3\" class=\"edge\">\n",
       "<title>(&#39;floating_species_store&#39;,)&#45;&gt;(&#39;floating_species_store&#39;, &#39;I&#39;)</title>\n",
       "<path fill=\"none\" stroke=\"black\" stroke-width=\"2\" d=\"M114.14,-468.45C117.66,-391.44 123.12,-271.65 125.18,-226.57\"/>\n",
       "</g>\n",
       "<!-- (&#39;floating_species_store&#39;,)&#45;&gt;(&#39;adjusted_tc_process_demo&#39;,) -->\n",
       "<g id=\"edge25\" class=\"edge\">\n",
       "<title>(&#39;floating_species_store&#39;,)&#45;&gt;(&#39;adjusted_tc_process_demo&#39;,)</title>\n",
       "<path fill=\"none\" stroke=\"black\" stroke-dasharray=\"5,2\" d=\"M128.75,-470.44C133.3,-457.69 138.78,-444.74 145.25,-433.2 190.55,-352.37 267.23,-273.49 308.21,-234.26\"/>\n",
       "<polygon fill=\"black\" stroke=\"black\" points=\"310.45,-236.97 315.29,-227.55 305.63,-231.89 310.45,-236.97\"/>\n",
       "<text text-anchor=\"start\" x=\"146\" y=\"-434.95\" font-family=\"Times,serif\" font-size=\"10.00\">floating_species</text>\n",
       "</g>\n",
       "<!-- (&#39;floating_species_store&#39;,)&#45;&gt;(&#39;adjusted_tc_process_demo&#39;,) -->\n",
       "<g id=\"edge29\" class=\"edge\">\n",
       "<title>(&#39;floating_species_store&#39;,)&#45;&gt;(&#39;adjusted_tc_process_demo&#39;,)</title>\n",
       "<path fill=\"none\" stroke=\"black\" stroke-dasharray=\"5,2\" d=\"M173.67,-485.95C187.22,-473.2 200.81,-459 212,-444.45 268.68,-370.74 312.8,-267.38 329.14,-226.37\"/>\n",
       "<polygon fill=\"black\" stroke=\"black\" points=\"171.37,-483.32 166.38,-492.67 176.11,-488.47 171.37,-483.32\"/>\n",
       "<text text-anchor=\"start\" x=\"217\" y=\"-434.95\" font-family=\"Times,serif\" font-size=\"10.00\">floating_species</text>\n",
       "</g>\n",
       "<!-- (&#39;model_parameters_store&#39;,) -->\n",
       "<g id=\"node6\" class=\"node\">\n",
       "<title>(&#39;model_parameters_store&#39;,)</title>\n",
       "<ellipse fill=\"none\" stroke=\"black\" stroke-width=\"2\" cx=\"775\" cy=\"-538.37\" rx=\"75.92\" ry=\"75.92\"/>\n",
       "<text text-anchor=\"start\" x=\"717.62\" y=\"-534.1\" font-family=\"Times,serif\" font-size=\"12.00\">model_parameters_store</text>\n",
       "</g>\n",
       "<!-- (&#39;model_parameters_store&#39;, &#39;r2&#39;) -->\n",
       "<g id=\"node7\" class=\"node\">\n",
       "<title>(&#39;model_parameters_store&#39;, &#39;r2&#39;)</title>\n",
       "<ellipse fill=\"none\" stroke=\"black\" stroke-width=\"2\" cx=\"667\" cy=\"-207.6\" rx=\"18\" ry=\"18\"/>\n",
       "<text text-anchor=\"start\" x=\"662.12\" y=\"-203.32\" font-family=\"Times,serif\" font-size=\"12.00\">r2</text>\n",
       "</g>\n",
       "<!-- (&#39;model_parameters_store&#39;,)&#45;&gt;(&#39;model_parameters_store&#39;, &#39;r2&#39;) -->\n",
       "<g id=\"edge4\" class=\"edge\">\n",
       "<title>(&#39;model_parameters_store&#39;,)&#45;&gt;(&#39;model_parameters_store&#39;, &#39;r2&#39;)</title>\n",
       "<path fill=\"none\" stroke=\"black\" stroke-width=\"2\" d=\"M727.75,-477.88C714.83,-458.84 702.15,-437.01 694,-415.2 669.18,-348.79 666.54,-262.96 666.66,-226.38\"/>\n",
       "</g>\n",
       "<!-- (&#39;model_parameters_store&#39;, &#39;b&#39;) -->\n",
       "<g id=\"node8\" class=\"node\">\n",
       "<title>(&#39;model_parameters_store&#39;, &#39;b&#39;)</title>\n",
       "<ellipse fill=\"none\" stroke=\"black\" stroke-width=\"2\" cx=\"721\" cy=\"-207.6\" rx=\"18\" ry=\"18\"/>\n",
       "<text text-anchor=\"start\" x=\"718\" y=\"-203.32\" font-family=\"Times,serif\" font-size=\"12.00\">b</text>\n",
       "</g>\n",
       "<!-- (&#39;model_parameters_store&#39;,)&#45;&gt;(&#39;model_parameters_store&#39;, &#39;b&#39;) -->\n",
       "<g id=\"edge5\" class=\"edge\">\n",
       "<title>(&#39;model_parameters_store&#39;,)&#45;&gt;(&#39;model_parameters_store&#39;, &#39;b&#39;)</title>\n",
       "<path fill=\"none\" stroke=\"black\" stroke-width=\"2\" d=\"M757.61,-463.61C754.16,-447.69 750.76,-430.93 748,-415.2 735.81,-345.72 726.52,-262.22 722.79,-226.37\"/>\n",
       "</g>\n",
       "<!-- (&#39;model_parameters_store&#39;, &#39;a&#39;) -->\n",
       "<g id=\"node9\" class=\"node\">\n",
       "<title>(&#39;model_parameters_store&#39;, &#39;a&#39;)</title>\n",
       "<ellipse fill=\"none\" stroke=\"black\" stroke-width=\"2\" cx=\"775\" cy=\"-207.6\" rx=\"18\" ry=\"18\"/>\n",
       "<text text-anchor=\"start\" x=\"772.38\" y=\"-203.32\" font-family=\"Times,serif\" font-size=\"12.00\">a</text>\n",
       "</g>\n",
       "<!-- (&#39;model_parameters_store&#39;,)&#45;&gt;(&#39;model_parameters_store&#39;, &#39;a&#39;) -->\n",
       "<g id=\"edge6\" class=\"edge\">\n",
       "<title>(&#39;model_parameters_store&#39;,)&#45;&gt;(&#39;model_parameters_store&#39;, &#39;a&#39;)</title>\n",
       "<path fill=\"none\" stroke=\"black\" stroke-width=\"2\" d=\"M775,-461.53C775,-384.35 775,-270.05 775,-226.41\"/>\n",
       "</g>\n",
       "<!-- (&#39;model_parameters_store&#39;, &#39;g2&#39;) -->\n",
       "<g id=\"node10\" class=\"node\">\n",
       "<title>(&#39;model_parameters_store&#39;, &#39;g2&#39;)</title>\n",
       "<ellipse fill=\"none\" stroke=\"black\" stroke-width=\"2\" cx=\"829\" cy=\"-207.6\" rx=\"18\" ry=\"18\"/>\n",
       "<text text-anchor=\"start\" x=\"823\" y=\"-203.32\" font-family=\"Times,serif\" font-size=\"12.00\">g2</text>\n",
       "</g>\n",
       "<!-- (&#39;model_parameters_store&#39;,)&#45;&gt;(&#39;model_parameters_store&#39;, &#39;g2&#39;) -->\n",
       "<g id=\"edge7\" class=\"edge\">\n",
       "<title>(&#39;model_parameters_store&#39;,)&#45;&gt;(&#39;model_parameters_store&#39;, &#39;g2&#39;)</title>\n",
       "<path fill=\"none\" stroke=\"black\" stroke-width=\"2\" d=\"M792.39,-463.61C795.84,-447.69 799.24,-430.93 802,-415.2 814.19,-345.72 823.48,-262.22 827.21,-226.37\"/>\n",
       "</g>\n",
       "<!-- (&#39;model_parameters_store&#39;, &#39;p1&#39;) -->\n",
       "<g id=\"node11\" class=\"node\">\n",
       "<title>(&#39;model_parameters_store&#39;, &#39;p1&#39;)</title>\n",
       "<ellipse fill=\"none\" stroke=\"black\" stroke-width=\"2\" cx=\"883\" cy=\"-207.6\" rx=\"18\" ry=\"18\"/>\n",
       "<text text-anchor=\"start\" x=\"877\" y=\"-203.32\" font-family=\"Times,serif\" font-size=\"12.00\">p1</text>\n",
       "</g>\n",
       "<!-- (&#39;model_parameters_store&#39;,)&#45;&gt;(&#39;model_parameters_store&#39;, &#39;p1&#39;) -->\n",
       "<g id=\"edge8\" class=\"edge\">\n",
       "<title>(&#39;model_parameters_store&#39;,)&#45;&gt;(&#39;model_parameters_store&#39;, &#39;p1&#39;)</title>\n",
       "<path fill=\"none\" stroke=\"black\" stroke-width=\"2\" d=\"M822.25,-477.88C835.17,-458.84 847.85,-437.01 856,-415.2 880.82,-348.79 883.46,-262.96 883.34,-226.38\"/>\n",
       "</g>\n",
       "<!-- (&#39;model_parameters_store&#39;, &#39;g1&#39;) -->\n",
       "<g id=\"node12\" class=\"node\">\n",
       "<title>(&#39;model_parameters_store&#39;, &#39;g1&#39;)</title>\n",
       "<ellipse fill=\"none\" stroke=\"black\" stroke-width=\"2\" cx=\"937\" cy=\"-207.6\" rx=\"18\" ry=\"18\"/>\n",
       "<text text-anchor=\"start\" x=\"931\" y=\"-203.32\" font-family=\"Times,serif\" font-size=\"12.00\">g1</text>\n",
       "</g>\n",
       "<!-- (&#39;model_parameters_store&#39;,)&#45;&gt;(&#39;model_parameters_store&#39;, &#39;g1&#39;) -->\n",
       "<g id=\"edge9\" class=\"edge\">\n",
       "<title>(&#39;model_parameters_store&#39;,)&#45;&gt;(&#39;model_parameters_store&#39;, &#39;g1&#39;)</title>\n",
       "<path fill=\"none\" stroke=\"black\" stroke-width=\"2\" d=\"M838.44,-495.49C864.93,-474.6 893.35,-446.98 910,-415.2 943.07,-352.08 941.23,-263.76 938.63,-226.4\"/>\n",
       "</g>\n",
       "<!-- (&#39;model_parameters_store&#39;, &#39;mu2&#39;) -->\n",
       "<g id=\"node13\" class=\"node\">\n",
       "<title>(&#39;model_parameters_store&#39;, &#39;mu2&#39;)</title>\n",
       "<ellipse fill=\"none\" stroke=\"black\" stroke-width=\"2\" cx=\"991\" cy=\"-207.6\" rx=\"18\" ry=\"18\"/>\n",
       "<text text-anchor=\"start\" x=\"980.5\" y=\"-203.32\" font-family=\"Times,serif\" font-size=\"12.00\">mu2</text>\n",
       "</g>\n",
       "<!-- (&#39;model_parameters_store&#39;,)&#45;&gt;(&#39;model_parameters_store&#39;, &#39;mu2&#39;) -->\n",
       "<g id=\"edge10\" class=\"edge\">\n",
       "<title>(&#39;model_parameters_store&#39;,)&#45;&gt;(&#39;model_parameters_store&#39;, &#39;mu2&#39;)</title>\n",
       "<path fill=\"none\" stroke=\"black\" stroke-width=\"2\" d=\"M846.15,-509.61C887.44,-489.68 936.56,-458.64 964,-415.2 1002.25,-354.65 997.49,-264.17 993.36,-226.28\"/>\n",
       "</g>\n",
       "<!-- (&#39;model_parameters_store&#39;, &#39;c&#39;) -->\n",
       "<g id=\"node14\" class=\"node\">\n",
       "<title>(&#39;model_parameters_store&#39;, &#39;c&#39;)</title>\n",
       "<ellipse fill=\"none\" stroke=\"black\" stroke-width=\"2\" cx=\"1045\" cy=\"-207.6\" rx=\"18\" ry=\"18\"/>\n",
       "<text text-anchor=\"start\" x=\"1042.38\" y=\"-203.32\" font-family=\"Times,serif\" font-size=\"12.00\">c</text>\n",
       "</g>\n",
       "<!-- (&#39;model_parameters_store&#39;,)&#45;&gt;(&#39;model_parameters_store&#39;, &#39;c&#39;) -->\n",
       "<g id=\"edge11\" class=\"edge\">\n",
       "<title>(&#39;model_parameters_store&#39;,)&#45;&gt;(&#39;model_parameters_store&#39;, &#39;c&#39;)</title>\n",
       "<path fill=\"none\" stroke=\"black\" stroke-width=\"2\" d=\"M849.52,-520.06C905.19,-503.05 978.26,-471.24 1018,-415.2 1059.53,-356.63 1052.89,-264.67 1047.81,-226.32\"/>\n",
       "</g>\n",
       "<!-- (&#39;model_parameters_store&#39;, &#39;p2&#39;) -->\n",
       "<g id=\"node15\" class=\"node\">\n",
       "<title>(&#39;model_parameters_store&#39;, &#39;p2&#39;)</title>\n",
       "<ellipse fill=\"none\" stroke=\"black\" stroke-width=\"2\" cx=\"1099\" cy=\"-207.6\" rx=\"18\" ry=\"18\"/>\n",
       "<text text-anchor=\"start\" x=\"1093\" y=\"-203.32\" font-family=\"Times,serif\" font-size=\"12.00\">p2</text>\n",
       "</g>\n",
       "<!-- (&#39;model_parameters_store&#39;,)&#45;&gt;(&#39;model_parameters_store&#39;, &#39;p2&#39;) -->\n",
       "<g id=\"edge12\" class=\"edge\">\n",
       "<title>(&#39;model_parameters_store&#39;,)&#45;&gt;(&#39;model_parameters_store&#39;, &#39;p2&#39;)</title>\n",
       "<path fill=\"none\" stroke=\"black\" stroke-width=\"2\" d=\"M851.19,-528.44C920.9,-515.89 1020.74,-485.98 1072,-415.2 1114.22,-356.9 1107.12,-264.4 1101.86,-226.09\"/>\n",
       "</g>\n",
       "<!-- (&#39;model_parameters_store&#39;, &#39;g3&#39;) -->\n",
       "<g id=\"node16\" class=\"node\">\n",
       "<title>(&#39;model_parameters_store&#39;, &#39;g3&#39;)</title>\n",
       "<ellipse fill=\"none\" stroke=\"black\" stroke-width=\"2\" cx=\"1153\" cy=\"-207.6\" rx=\"18\" ry=\"18\"/>\n",
       "<text text-anchor=\"start\" x=\"1147\" y=\"-203.32\" font-family=\"Times,serif\" font-size=\"12.00\">g3</text>\n",
       "</g>\n",
       "<!-- (&#39;model_parameters_store&#39;,)&#45;&gt;(&#39;model_parameters_store&#39;, &#39;g3&#39;) -->\n",
       "<g id=\"edge13\" class=\"edge\">\n",
       "<title>(&#39;model_parameters_store&#39;,)&#45;&gt;(&#39;model_parameters_store&#39;, &#39;g3&#39;)</title>\n",
       "<path fill=\"none\" stroke=\"black\" stroke-width=\"2\" d=\"M851.56,-535.01C934.64,-527.85 1063.74,-502.36 1126,-415.2 1167.73,-356.77 1160.98,-264.74 1155.84,-226.34\"/>\n",
       "</g>\n",
       "<!-- (&#39;model_parameters_store&#39;, &#39;mu3&#39;) -->\n",
       "<g id=\"node17\" class=\"node\">\n",
       "<title>(&#39;model_parameters_store&#39;, &#39;mu3&#39;)</title>\n",
       "<ellipse fill=\"none\" stroke=\"black\" stroke-width=\"2\" cx=\"451\" cy=\"-207.6\" rx=\"18\" ry=\"18\"/>\n",
       "<text text-anchor=\"start\" x=\"440.5\" y=\"-203.32\" font-family=\"Times,serif\" font-size=\"12.00\">mu3</text>\n",
       "</g>\n",
       "<!-- (&#39;model_parameters_store&#39;,)&#45;&gt;(&#39;model_parameters_store&#39;, &#39;mu3&#39;) -->\n",
       "<g id=\"edge14\" class=\"edge\">\n",
       "<title>(&#39;model_parameters_store&#39;,)&#45;&gt;(&#39;model_parameters_store&#39;, &#39;mu3&#39;)</title>\n",
       "<path fill=\"none\" stroke=\"black\" stroke-width=\"2\" d=\"M698.87,-527.77C629.72,-514.76 530.71,-484.56 478,-415.2 434.44,-357.89 442.29,-264.84 447.94,-226.24\"/>\n",
       "</g>\n",
       "<!-- (&#39;model_parameters_store&#39;, &#39;V&#39;) -->\n",
       "<g id=\"node18\" class=\"node\">\n",
       "<title>(&#39;model_parameters_store&#39;, &#39;V&#39;)</title>\n",
       "<ellipse fill=\"none\" stroke=\"black\" stroke-width=\"2\" cx=\"505\" cy=\"-207.6\" rx=\"18\" ry=\"18\"/>\n",
       "<text text-anchor=\"start\" x=\"500.5\" y=\"-203.32\" font-family=\"Times,serif\" font-size=\"12.00\">V</text>\n",
       "</g>\n",
       "<!-- (&#39;model_parameters_store&#39;,)&#45;&gt;(&#39;model_parameters_store&#39;, &#39;V&#39;) -->\n",
       "<g id=\"edge15\" class=\"edge\">\n",
       "<title>(&#39;model_parameters_store&#39;,)&#45;&gt;(&#39;model_parameters_store&#39;, &#39;V&#39;)</title>\n",
       "<path fill=\"none\" stroke=\"black\" stroke-width=\"2\" d=\"M700.49,-520.05C644.84,-503.03 571.78,-471.22 532,-415.2 490.43,-356.65 497.09,-264.69 502.18,-226.33\"/>\n",
       "</g>\n",
       "<!-- (&#39;model_parameters_store&#39;, &#39;s1&#39;) -->\n",
       "<g id=\"node19\" class=\"node\">\n",
       "<title>(&#39;model_parameters_store&#39;, &#39;s1&#39;)</title>\n",
       "<ellipse fill=\"none\" stroke=\"black\" stroke-width=\"2\" cx=\"559\" cy=\"-207.6\" rx=\"18\" ry=\"18\"/>\n",
       "<text text-anchor=\"start\" x=\"553.75\" y=\"-203.32\" font-family=\"Times,serif\" font-size=\"12.00\">s1</text>\n",
       "</g>\n",
       "<!-- (&#39;model_parameters_store&#39;,)&#45;&gt;(&#39;model_parameters_store&#39;, &#39;s1&#39;) -->\n",
       "<g id=\"edge16\" class=\"edge\">\n",
       "<title>(&#39;model_parameters_store&#39;,)&#45;&gt;(&#39;model_parameters_store&#39;, &#39;s1&#39;)</title>\n",
       "<path fill=\"none\" stroke=\"black\" stroke-width=\"2\" d=\"M703.85,-509.61C662.56,-489.68 613.44,-458.64 586,-415.2 547.75,-354.65 552.51,-264.17 556.64,-226.28\"/>\n",
       "</g>\n",
       "<!-- (&#39;model_parameters_store&#39;, &#39;s2&#39;) -->\n",
       "<g id=\"node20\" class=\"node\">\n",
       "<title>(&#39;model_parameters_store&#39;, &#39;s2&#39;)</title>\n",
       "<ellipse fill=\"none\" stroke=\"black\" stroke-width=\"2\" cx=\"613\" cy=\"-207.6\" rx=\"18\" ry=\"18\"/>\n",
       "<text text-anchor=\"start\" x=\"607.75\" y=\"-203.32\" font-family=\"Times,serif\" font-size=\"12.00\">s2</text>\n",
       "</g>\n",
       "<!-- (&#39;model_parameters_store&#39;,)&#45;&gt;(&#39;model_parameters_store&#39;, &#39;s2&#39;) -->\n",
       "<g id=\"edge17\" class=\"edge\">\n",
       "<title>(&#39;model_parameters_store&#39;,)&#45;&gt;(&#39;model_parameters_store&#39;, &#39;s2&#39;)</title>\n",
       "<path fill=\"none\" stroke=\"black\" stroke-width=\"2\" d=\"M711.56,-495.49C685.07,-474.6 656.65,-446.98 640,-415.2 606.93,-352.08 608.77,-263.76 611.37,-226.4\"/>\n",
       "</g>\n",
       "<!-- (&#39;model_parameters_store&#39;,)&#45;&gt;(&#39;adjusted_tc_process_demo&#39;,) -->\n",
       "<g id=\"edge26\" class=\"edge\">\n",
       "<title>(&#39;model_parameters_store&#39;,)&#45;&gt;(&#39;adjusted_tc_process_demo&#39;,)</title>\n",
       "<path fill=\"none\" stroke=\"black\" stroke-dasharray=\"5,2\" d=\"M699.3,-526.32C606.79,-511.38 457.52,-482.23 416.75,-444.45 356.92,-389.01 341.42,-287.38 337.4,-237.61\"/>\n",
       "<polygon fill=\"black\" stroke=\"black\" points=\"340.92,-237.65 336.73,-227.92 333.93,-238.14 340.92,-237.65\"/>\n",
       "<text text-anchor=\"start\" x=\"417\" y=\"-434.95\" font-family=\"Times,serif\" font-size=\"10.00\">model_parameters</text>\n",
       "</g>\n",
       "<!-- (&#39;reactions_store&#39;,) -->\n",
       "<g id=\"node21\" class=\"node\">\n",
       "<title>(&#39;reactions_store&#39;,)</title>\n",
       "<ellipse fill=\"none\" stroke=\"black\" stroke-width=\"2\" cx=\"1928\" cy=\"-538.37\" rx=\"48.37\" ry=\"48.37\"/>\n",
       "<text text-anchor=\"start\" x=\"1892.75\" y=\"-534.1\" font-family=\"Times,serif\" font-size=\"12.00\">reactions_store</text>\n",
       "</g>\n",
       "<!-- (&#39;reactions_store&#39;, &#39;Induction of tumor&#39;) -->\n",
       "<g id=\"node22\" class=\"node\">\n",
       "<title>(&#39;reactions_store&#39;, &#39;Induction of tumor&#39;)</title>\n",
       "<ellipse fill=\"none\" stroke=\"black\" stroke-width=\"2\" cx=\"1249\" cy=\"-207.6\" rx=\"59.58\" ry=\"59.58\"/>\n",
       "<text text-anchor=\"start\" x=\"1204.75\" y=\"-203.32\" font-family=\"Times,serif\" font-size=\"12.00\">Induction of tumor</text>\n",
       "</g>\n",
       "<!-- (&#39;reactions_store&#39;,)&#45;&gt;(&#39;reactions_store&#39;, &#39;Induction of tumor&#39;) -->\n",
       "<g id=\"edge18\" class=\"edge\">\n",
       "<title>(&#39;reactions_store&#39;,)&#45;&gt;(&#39;reactions_store&#39;, &#39;Induction of tumor&#39;)</title>\n",
       "<path fill=\"none\" stroke=\"black\" stroke-width=\"2\" d=\"M1879.1,-533.86C1749.41,-523.59 1400.9,-489.54 1317,-415.2 1275.03,-378.01 1258.87,-314.45 1252.7,-267.62\"/>\n",
       "</g>\n",
       "<!-- (&#39;reactions_store&#39;, &#39;Removal of tumor from the system by the action of immune response&#39;) -->\n",
       "<g id=\"node23\" class=\"node\">\n",
       "<title>(&#39;reactions_store&#39;, &#39;Removal of tumor from the system by the action of immune response&#39;)</title>\n",
       "<ellipse fill=\"none\" stroke=\"black\" stroke-width=\"2\" cx=\"1534\" cy=\"-207.6\" rx=\"207.6\" ry=\"207.6\"/>\n",
       "<text text-anchor=\"start\" x=\"1370.88\" y=\"-203.32\" font-family=\"Times,serif\" font-size=\"12.00\">Removal of tumor from the system by the action of immune response</text>\n",
       "</g>\n",
       "<!-- (&#39;reactions_store&#39;,)&#45;&gt;(&#39;reactions_store&#39;, &#39;Removal of tumor from the system by the action of immune response&#39;) -->\n",
       "<g id=\"edge19\" class=\"edge\">\n",
       "<title>(&#39;reactions_store&#39;,)&#45;&gt;(&#39;reactions_store&#39;, &#39;Removal of tumor from the system by the action of immune response&#39;)</title>\n",
       "<path fill=\"none\" stroke=\"black\" stroke-width=\"2\" d=\"M1886.63,-511.45C1849.9,-487.83 1795.33,-451.23 1751,-415.2 1727.89,-396.42 1704.27,-375.7 1681.51,-354.86\"/>\n",
       "</g>\n",
       "<!-- (&#39;reactions_store&#39;, &#39;Activation and transfer of effector cells to the action site&#39;) -->\n",
       "<g id=\"node24\" class=\"node\">\n",
       "<title>(&#39;reactions_store&#39;, &#39;Activation and transfer of effector cells to the action site&#39;)</title>\n",
       "<ellipse fill=\"none\" stroke=\"black\" stroke-width=\"2\" cx=\"1928\" cy=\"-207.6\" rx=\"168.38\" ry=\"168.38\"/>\n",
       "<text text-anchor=\"start\" x=\"1796.38\" y=\"-203.32\" font-family=\"Times,serif\" font-size=\"12.00\">Activation and transfer of effector cells to the action site</text>\n",
       "</g>\n",
       "<!-- (&#39;reactions_store&#39;,)&#45;&gt;(&#39;reactions_store&#39;, &#39;Activation and transfer of effector cells to the action site&#39;) -->\n",
       "<g id=\"edge20\" class=\"edge\">\n",
       "<title>(&#39;reactions_store&#39;,)&#45;&gt;(&#39;reactions_store&#39;, &#39;Activation and transfer of effector cells to the action site&#39;)</title>\n",
       "<path fill=\"none\" stroke=\"black\" stroke-width=\"2\" d=\"M1928,-489.21C1928,-458.98 1928,-418.01 1928,-376.73\"/>\n",
       "</g>\n",
       "<!-- (&#39;reactions_store&#39;, &#39;Deactivation and removal of effector cells from the site of tumor&#39;) -->\n",
       "<g id=\"node25\" class=\"node\">\n",
       "<title>(&#39;reactions_store&#39;, &#39;Deactivation and removal of effector cells from the site of tumor&#39;)</title>\n",
       "<ellipse fill=\"none\" stroke=\"black\" stroke-width=\"2\" cx=\"2307\" cy=\"-207.6\" rx=\"192.66\" ry=\"192.66\"/>\n",
       "<text text-anchor=\"start\" x=\"2155.88\" y=\"-203.32\" font-family=\"Times,serif\" font-size=\"12.00\">Deactivation and removal of effector cells from the site of tumor</text>\n",
       "</g>\n",
       "<!-- (&#39;reactions_store&#39;,)&#45;&gt;(&#39;reactions_store&#39;, &#39;Deactivation and removal of effector cells from the site of tumor&#39;) -->\n",
       "<g id=\"edge21\" class=\"edge\">\n",
       "<title>(&#39;reactions_store&#39;,)&#45;&gt;(&#39;reactions_store&#39;, &#39;Deactivation and removal of effector cells from the site of tumor&#39;)</title>\n",
       "<path fill=\"none\" stroke=\"black\" stroke-width=\"2\" d=\"M1953.16,-496.08C1962.04,-484.02 1972.88,-471.62 1985,-462.45 2030.71,-427.86 2057.24,-446.89 2105,-415.2 2131.33,-397.73 2156.94,-376.34 2180.58,-354.03\"/>\n",
       "</g>\n",
       "<!-- (&#39;reactions_store&#39;, &#39;Activation of interleukin 2&#39;) -->\n",
       "<g id=\"node26\" class=\"node\">\n",
       "<title>(&#39;reactions_store&#39;, &#39;Activation of interleukin 2&#39;)</title>\n",
       "<ellipse fill=\"none\" stroke=\"black\" stroke-width=\"2\" cx=\"2600\" cy=\"-207.6\" rx=\"81.99\" ry=\"81.99\"/>\n",
       "<text text-anchor=\"start\" x=\"2537.75\" y=\"-203.32\" font-family=\"Times,serif\" font-size=\"12.00\">Activation of interleukin 2</text>\n",
       "</g>\n",
       "<!-- (&#39;reactions_store&#39;,)&#45;&gt;(&#39;reactions_store&#39;, &#39;Activation of interleukin 2&#39;) -->\n",
       "<g id=\"edge22\" class=\"edge\">\n",
       "<title>(&#39;reactions_store&#39;,)&#45;&gt;(&#39;reactions_store&#39;, &#39;Activation of interleukin 2&#39;)</title>\n",
       "<path fill=\"none\" stroke=\"black\" stroke-width=\"2\" d=\"M1950.87,-495.05C1959.82,-482.48 1971.27,-470.04 1985,-462.45 2036.16,-434.16 2461.52,-449.3 2509,-415.2 2549.98,-385.76 2572.76,-333.68 2585.28,-289.17\"/>\n",
       "</g>\n",
       "<!-- (&#39;reactions_store&#39;, &#39;Deactivation of interleukin2&#39;) -->\n",
       "<g id=\"node27\" class=\"node\">\n",
       "<title>(&#39;reactions_store&#39;, &#39;Deactivation of interleukin2&#39;)</title>\n",
       "<ellipse fill=\"none\" stroke=\"black\" stroke-width=\"2\" cx=\"2787\" cy=\"-207.6\" rx=\"86.66\" ry=\"86.66\"/>\n",
       "<text text-anchor=\"start\" x=\"2721\" y=\"-203.32\" font-family=\"Times,serif\" font-size=\"12.00\">Deactivation of interleukin2</text>\n",
       "</g>\n",
       "<!-- (&#39;reactions_store&#39;,)&#45;&gt;(&#39;reactions_store&#39;, &#39;Deactivation of interleukin2&#39;) -->\n",
       "<g id=\"edge23\" class=\"edge\">\n",
       "<title>(&#39;reactions_store&#39;,)&#45;&gt;(&#39;reactions_store&#39;, &#39;Deactivation of interleukin2&#39;)</title>\n",
       "<path fill=\"none\" stroke=\"black\" stroke-width=\"2\" d=\"M1950.73,-494.79C1959.67,-482.19 1971.15,-469.82 1985,-462.45 2016.05,-445.94 2265.91,-446.76 2301,-444.45 2387.72,-438.73 2619.53,-464.65 2691,-415.2 2731.65,-387.07 2755.5,-337.15 2769.25,-293.43\"/>\n",
       "</g>\n",
       "<!-- (&#39;reactions_store&#39;,)&#45;&gt;(&#39;adjusted_tc_process_demo&#39;,) -->\n",
       "<g id=\"edge27\" class=\"edge\">\n",
       "<title>(&#39;reactions_store&#39;,)&#45;&gt;(&#39;adjusted_tc_process_demo&#39;,)</title>\n",
       "<path fill=\"none\" stroke=\"black\" stroke-dasharray=\"5,2\" d=\"M1879.05,-534.09C1623.62,-516.88 454.28,-437.03 424,-415.2 365.5,-373.03 345.6,-283.94 339.05,-237.75\"/>\n",
       "<polygon fill=\"black\" stroke=\"black\" points=\"342.54,-237.43 337.8,-227.96 335.6,-238.32 342.54,-237.43\"/>\n",
       "<text text-anchor=\"start\" x=\"657\" y=\"-434.95\" font-family=\"Times,serif\" font-size=\"10.00\">reactions</text>\n",
       "</g>\n",
       "<!-- (&#39;emitter&#39;,) -->\n",
       "<g id=\"node28\" class=\"node\">\n",
       "<title>(&#39;emitter&#39;,)</title>\n",
       "<polygon fill=\"none\" stroke=\"black\" stroke-width=\"2\" points=\"2048,-556.37 1994,-556.37 1994,-520.37 2048,-520.37 2048,-556.37\"/>\n",
       "<text text-anchor=\"start\" x=\"2004.88\" y=\"-534.1\" font-family=\"Times,serif\" font-size=\"12.00\">emitter</text>\n",
       "</g>\n",
       "</g>\n",
       "</svg>\n"
      ],
      "text/plain": [
       "<graphviz.graphs.Digraph at 0x293ac0f70>"
      ]
     },
     "execution_count": 22,
     "metadata": {},
     "output_type": "execute_result"
    }
   ],
   "source": [
    "# visualize the adjusted creation\n",
    "\n",
    "prompter.visualize_bigraph()"
   ]
  },
  {
   "cell_type": "code",
   "execution_count": 23,
   "id": "a6e83469c5b8b93d",
   "metadata": {
    "ExecuteTime": {
     "end_time": "2024-03-15T20:18:12.068799Z",
     "start_time": "2024-03-15T20:18:12.065680Z"
    },
    "collapsed": false
   },
   "outputs": [
    {
     "data": {
      "text/plain": [
       "{'emitter': {'_type': 'step',\n",
       "  'address': 'local:ram-emitter',\n",
       "  'config': {'emit': {}},\n",
       "  'inputs': {},\n",
       "  'outputs': {}},\n",
       " 'adjusted_tc_process_demo': {'_type': 'process',\n",
       "  'address': 'local:CopasiProcess',\n",
       "  'config': {'model': {'model_source': '../biosimulator_processes/model_files/Caravagna2010.xml',\n",
       "    'model_id': 'model_from_Caravagna2010.xml',\n",
       "    'model_name': 'model_from_Caravagna2010.xml',\n",
       "    'model_language': {'species_changes': {'species_name': 'T',\n",
       "      'unit': None,\n",
       "      'initial_concentration': 0.234,\n",
       "      'initial_particle_number': None,\n",
       "      'initial_expression': None,\n",
       "      'expression': None},\n",
       "     'global_parameter_changes': None,\n",
       "     'reaction_changes': None},\n",
       "    'model_changes': {'species_changes': None,\n",
       "     'global_parameter_changes': None,\n",
       "     'reaction_changes': None},\n",
       "    'model_units': None},\n",
       "   'method': 'stochastic'},\n",
       "  'inputs': {'time': ['time_store'],\n",
       "   'floating_species': ['floating_species_store'],\n",
       "   'model_parameters': ['model_parameters_store'],\n",
       "   'reactions': ['reactions_store']},\n",
       "  'outputs': {'time': ['time_store'],\n",
       "   'floating_species': ['floating_species_store']},\n",
       "  'interval': 1.0}}"
      ]
     },
     "execution_count": 23,
     "metadata": {},
     "output_type": "execute_result"
    }
   ],
   "source": [
    "# view the builder document\n",
    "\n",
    "prompter.builder_instance.document()"
   ]
  },
  {
   "cell_type": "code",
   "execution_count": 24,
   "id": "121064387d7729b0",
   "metadata": {
    "ExecuteTime": {
     "end_time": "2024-03-15T20:18:40.286441Z",
     "start_time": "2024-03-15T20:18:37.849420Z"
    },
    "collapsed": false
   },
   "outputs": [
    {
     "name": "stdout",
     "output_type": "stream",
     "text": [
      "Generating composite...\n",
      "Composite generated!\n",
      "Running generated composite for an interval of 30\n",
      "Composite successfully run. Request complete. Done.\n"
     ]
    },
    {
     "name": "stderr",
     "output_type": "stream",
     "text": [
      "/Users/alex/Desktop/uchc_work/repos/biosimulator-processes/notebooks/../biosimulator_processes/processes/copasi_process.py:231: FutureWarning:\n",
      "\n",
      "Series.__getitem__ treating keys as positions is deprecated. In a future version, integer keys will always be treated as labels (consistent with DataFrame behavior). To access a value by position, use `ser.iloc[pos]`\n",
      "\n"
     ]
    }
   ],
   "source": [
    "# run the composite\n",
    "\n",
    "prompter.run()"
   ]
  },
  {
   "cell_type": "code",
   "execution_count": 25,
   "id": "6918be74a9a99f7d",
   "metadata": {
    "ExecuteTime": {
     "end_time": "2024-03-15T20:19:12.088099Z",
     "start_time": "2024-03-15T20:19:12.086212Z"
    },
    "collapsed": false
   },
   "outputs": [],
   "source": [
    "# stochastic works with Caravagna!!"
   ]
  },
  {
   "cell_type": "code",
   "execution_count": null,
   "id": "f160008fa3538b5",
   "metadata": {
    "collapsed": false
   },
   "outputs": [],
   "source": []
  }
 ],
 "metadata": {
  "kernelspec": {
   "display_name": "Python 3",
   "language": "python",
   "name": "python3"
  },
  "language_info": {
   "codemirror_mode": {
    "name": "ipython",
    "version": 2
   },
   "file_extension": ".py",
   "mimetype": "text/x-python",
   "name": "python",
   "nbconvert_exporter": "python",
   "pygments_lexer": "ipython2",
   "version": "2.7.6"
  }
 },
 "nbformat": 4,
 "nbformat_minor": 5
}
