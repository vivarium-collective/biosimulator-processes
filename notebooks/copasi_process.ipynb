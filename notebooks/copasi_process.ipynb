{
 "cells": [
  {
   "cell_type": "code",
   "execution_count": 1,
   "id": "40898635d17c0f08",
   "metadata": {
    "ExecuteTime": {
     "end_time": "2024-04-30T22:29:36.561107Z",
     "start_time": "2024-04-30T22:29:36.533940Z"
    },
    "collapsed": false,
    "is_executing": true
   },
   "outputs": [],
   "source": [
    "import sys\n",
    "sys.path.insert(0, '..')\n",
    "\n",
    "import os\n",
    "import requests\n",
    "import json"
   ]
  },
  {
   "cell_type": "code",
   "execution_count": 2,
   "id": "initial_id",
   "metadata": {
    "ExecuteTime": {
     "end_time": "2024-04-30T22:29:38.007528Z",
     "start_time": "2024-04-30T22:29:36.562359Z"
    },
    "collapsed": true
   },
   "outputs": [
    {
     "name": "stdout",
     "output_type": "stream",
     "text": [
      "CobraProcess registered successfully.\n",
      "CopasiProcess registered successfully.\n",
      "SmoldynProcess registered successfully.\n",
      "TelluriumProcess registered successfully.\n"
     ]
    }
   ],
   "source": [
    "from biosimulator_processes.tests.test_copasi_process import test_process_from_document\n",
    "from biosimulator_processes.tests.data_model import ProcessUnitTest\n",
    "from biosimulator_processes.utils import prepare_single_copasi_process_composite_doc\n",
    "from biosimulator_processes import CORE\n",
    "from process_bigraph import Composite, pp"
   ]
  },
  {
   "cell_type": "markdown",
   "id": "c7dca241b02a7265",
   "metadata": {},
   "source": [
    "#### Step 1: Define the document to be read by the Composite, which is implemented by the Process."
   ]
  },
  {
   "cell_type": "code",
   "execution_count": 3,
   "id": "cf99dc6955ac6f6f",
   "metadata": {
    "ExecuteTime": {
     "end_time": "2024-04-30T22:29:38.011498Z",
     "start_time": "2024-04-30T22:29:38.008164Z"
    }
   },
   "outputs": [
    {
     "data": {
      "text/plain": [
       "{'console-emitter': process_bigraph.composite.ConsoleEmitter,\n",
       " 'ram-emitter': process_bigraph.composite.RAMEmitter,\n",
       " 'cobra': biosimulator_processes.processes.cobra_process.CobraProcess,\n",
       " 'copasi': biosimulator_processes.processes.copasi_process.CopasiProcess,\n",
       " 'smoldyn': biosimulator_processes.processes.smoldyn_process.SmoldynProcess,\n",
       " 'tellurium': biosimulator_processes.processes.tellurium_process.TelluriumProcess,\n",
       " 'plotter': biosimulator_processes.steps.viz.CompositionPlotter,\n",
       " 'plotter2d': biosimulator_processes.steps.viz.Plotter2d}"
      ]
     },
     "execution_count": 3,
     "metadata": {},
     "output_type": "execute_result"
    }
   ],
   "source": [
    "CORE.process_registry.registry"
   ]
  },
  {
   "cell_type": "code",
   "execution_count": 4,
   "id": "2633feac24b596a6",
   "metadata": {
    "ExecuteTime": {
     "end_time": "2024-04-30T22:29:38.015160Z",
     "start_time": "2024-04-30T22:29:38.012140Z"
    }
   },
   "outputs": [
    {
     "data": {
      "text/plain": [
       "{'copasi': {'_type': 'process',\n",
       "  'address': 'local:copasi',\n",
       "  'config': {'model': {'model_source': 'BIOMD0000000630'},\n",
       "   'method': 'lsoda',\n",
       "   'species_context': 'counts'},\n",
       "  'inputs': {'floating_species_counts': ['floating_species_counts_store'],\n",
       "   'model_parameters': ['model_parameters_store'],\n",
       "   'time': ['time_store'],\n",
       "   'reactions': ['reactions_store']},\n",
       "  'outputs': {'floating_species_counts': ['floating_species_counts_store'],\n",
       "   'time': ['time_store']}},\n",
       " 'emitter': {'_type': 'step',\n",
       "  'address': 'local:ram-emitter',\n",
       "  'config': {'emit': {'floating_species_counts': 'tree[float]',\n",
       "    'time': 'float'}},\n",
       "  'inputs': {'floating_species_counts': ['floating_species_counts_store'],\n",
       "   'time': ['time_store']}},\n",
       " 'plotter2d': {'_type': 'step',\n",
       "  'address': 'local:plotter2d',\n",
       "  'config': {'duration': 30,\n",
       "   'species_context': 'counts',\n",
       "   'process': ['copasi']},\n",
       "  'inputs': {'floating_species_counts': ['floating_species_counts_store']}}}"
      ]
     },
     "execution_count": 4,
     "metadata": {},
     "output_type": "execute_result"
    }
   ],
   "source": [
    "biomodel_id = 'BIOMD0000000630'\n",
    "species_context = 'counts'\n",
    "species_port_name = f'floating_species_{species_context}'\n",
    "species_store = [f'floating_species_{species_context}_store']\n",
    "duration = 30\n",
    "\n",
    "document = prepare_single_copasi_process_composite_doc(biomodel_id, species_context, duration)\n",
    "\n",
    "document"
   ]
  },
  {
   "cell_type": "markdown",
   "id": "e502cb54666345af",
   "metadata": {},
   "source": [
    "#### Step 2: Define the instance composition along with the process registry"
   ]
  },
  {
   "cell_type": "code",
   "execution_count": 5,
   "id": "bd91dca0be22cd27",
   "metadata": {
    "ExecuteTime": {
     "end_time": "2024-04-30T22:29:40.037914Z",
     "start_time": "2024-04-30T22:29:38.016378Z"
    }
   },
   "outputs": [
    {
     "name": "stdout",
     "output_type": "stream",
     "text": [
      "found a biomodel id\n"
     ]
    }
   ],
   "source": [
    "workflow = Composite(\n",
    "    config={'state': document},\n",
    "    core=CORE\n",
    ")"
   ]
  },
  {
   "cell_type": "markdown",
   "id": "857667277d39c647",
   "metadata": {},
   "source": [
    "#### Step 3: Run the workflow for a duration and get the results"
   ]
  },
  {
   "cell_type": "code",
   "execution_count": 6,
   "id": "7c6f72142af0616b",
   "metadata": {
    "ExecuteTime": {
     "end_time": "2024-04-30T22:29:40.126407Z",
     "start_time": "2024-04-30T22:29:40.038901Z"
    }
   },
   "outputs": [
    {
     "name": "stdout",
     "output_type": "stream",
     "text": [
      "---- {'floating_species_counts': {'plasminogen': 0.0, 'plasmin': 0.0, 'single intact chain urokinase-type plasminogen activator': 0.0, 'two-chain urokinase-type plasminogen activator': 0.0, 'x': 0.0, 'x-plasmin': 0.0}}\n",
      "---- \n",
      "---- {'floating_species_counts': {'plasminogen': 0.019524902598568875, 'plasmin': 1.8202007375187194e-06, 'single intact chain urokinase-type plasminogen activator': 0.004908147993828459, 'two-chain urokinase-type plasminogen activator': 1.3325712784584175e-13, 'x': 0.0, 'x-plasmin': 0.0}}\n",
      "---- \n",
      "---- {'floating_species_counts': {'plasminogen': 0.04827129744245662, 'plasmin': 8.671884126128692e-06, 'single intact chain urokinase-type plasminogen activator': 0.012490138146165314, 'two-chain urokinase-type plasminogen activator': 5.075951882694799e-12, 'x': 0.0, 'x-plasmin': 0.0}}\n",
      "---- \n",
      "---- {'floating_species_counts': {'plasminogen': 0.08594387896712886, 'plasmin': 2.492018719908119e-05, 'single intact chain urokinase-type plasminogen activator': 0.022530542310868616, 'two-chain urokinase-type plasminogen activator': 5.6471480430887804e-11, 'x': 0.0, 'x-plasmin': 0.0}}\n",
      "---- \n",
      "---- {'floating_species_counts': {'plasminogen': 0.1322554518703474, 'plasmin': 5.573720108294436e-05, 'single intact chain urokinase-type plasminogen activator': 0.0348312889624054, 'two-chain urokinase-type plasminogen activator': 3.471358901746811e-10, 'x': 0.0, 'x-plasmin': 0.0}}\n",
      "---- \n",
      "---- {'floating_species_counts': {'plasminogen': 0.1869269014780097, 'plasmin': 0.00010681704778763683, 'single intact chain urokinase-type plasminogen activator': 0.0492102645151767, 'two-chain urokinase-type plasminogen activator': 1.488407009519045e-09, 'x': 0.0, 'x-plasmin': 0.0}}\n",
      "---- \n",
      "---- {'floating_species_counts': {'plasminogen': 0.2496871342846247, 'plasmin': 0.00018414387314320786, 'single intact chain urokinase-type plasminogen activator': 0.06550002709194783, 'two-chain urokinase-type plasminogen activator': 4.9971482782096044e-09, 'x': 0.0, 'x-plasmin': 0.0}}\n",
      "---- \n",
      "---- {'floating_species_counts': {'plasminogen': 0.32027299330948406, 'plasmin': 0.00029380488640585, 'single intact chain urokinase-type plasminogen activator': 0.08354662361879694, 'two-chain urokinase-type plasminogen activator': 1.4045790740089636e-08, 'x': 0.0, 'x-plasmin': 0.0}}\n",
      "---- \n",
      "---- {'floating_species_counts': {'plasminogen': 0.39842915233351583, 'plasmin': 0.000441841630856149, 'single intact chain urokinase-type plasminogen activator': 0.10320850189283512, 'two-chain urokinase-type plasminogen activator': 3.4486210002168566e-08, 'x': 0.0, 'x-plasmin': 0.0}}\n",
      "---- \n",
      "---- {'floating_species_counts': {'plasminogen': 0.4839079925719765, 'plasmin': 0.0006341335894886108, 'single intact chain urokinase-type plasminogen activator': 0.12435550996861434, 'two-chain urokinase-type plasminogen activator': 7.61245115387385e-08, 'x': 0.0, 'x-plasmin': 0.0}}\n",
      "---- \n",
      "---- {'floating_species_counts': {'plasminogen': 0.5764694648822295, 'plasmin': 0.0008763090431795318, 'single intact chain urokinase-type plasminogen activator': 0.14686797587680717, 'two-chain urokinase-type plasminogen activator': 1.5419502494379941e-07, 'x': 0.0, 'x-plasmin': 0.0}}\n",
      "---- \n",
      "---- {'floating_species_counts': {'plasminogen': 0.6758809402213298, 'plasmin': 0.0011736787742976042, 'single intact chain urokinase-type plasminogen activator': 0.1706358611853279, 'two-chain urokinase-type plasminogen activator': 2.909611801004255e-07, 'x': 0.0, 'x-plasmin': 0.0}}\n",
      "---- \n",
      "---- {'floating_species_counts': {'plasminogen': 0.7819170506887987, 'plasmin': 0.0015311888812938354, 'single intact chain urokinase-type plasminogen activator': 0.19555798266773114, 'two-chain urokinase-type plasminogen activator': 5.173599738621892e-07, 'x': 0.0, 'x-plasmin': 0.0}}\n",
      "---- \n",
      "---- {'floating_species_counts': {'plasminogen': 0.8943595232254049, 'plasmin': 0.001953389415969357, 'single intact chain urokinase-type plasminogen activator': 0.22154129653310756, 'two-chain urokinase-type plasminogen activator': 8.746043247698414e-07, 'x': 0.0, 'x-plasmin': 0.0}}\n",
      "---- \n",
      "---- {'floating_species_counts': {'plasminogen': 1.0129970077446304, 'plasmin': 0.0024444160723496276, 'single intact chain urokinase-type plasminogen activator': 0.24850024032258794, 'two-chain urokinase-type plasminogen activator': 1.4156630157316015e-06, 'x': 0.0, 'x-plasmin': 0.0}}\n",
      "---- \n",
      "---- {'floating_species_counts': {'plasminogen': 1.137624901250471, 'plasmin': 0.0030079825384013202, 'single intact chain urokinase-type plasminogen activator': 0.27635612795269826, 'two-chain urokinase-type plasminogen activator': 2.206548325321574e-06, 'x': 0.0, 'x-plasmin': 0.0}}\n",
      "---- \n",
      "---- {'floating_species_counts': {'plasminogen': 1.2680451693004646, 'plasmin': 0.003647381435245327, 'single intact chain urokinase-type plasminogen activator': 0.3050365935650963, 'two-chain urokinase-type plasminogen activator': 3.3273569605748413e-06, 'x': 0.0, 'x-plasmin': 0.0}}\n",
      "---- \n",
      "---- {'floating_species_counts': {'plasminogen': 1.4040661659826967, 'plasmin': 0.0043654921107863474, 'single intact chain urokinase-type plasminogen activator': 0.3344750804390968, 'two-chain urokinase-type plasminogen activator': 4.873024645714747e-06, 'x': 0.0, 'x-plasmin': 0.0}}\n",
      "---- \n",
      "---- {'floating_species_counts': {'plasminogen': 1.5455024515714484, 'plasmin': 0.005164793968079757, 'single intact chain urokinase-type plasminogen activator': 0.3646103670899144, 'two-chain urokinase-type plasminogen activator': 6.953772045080925e-06, 'x': 0.0, 'x-plasmin': 0.0}}\n",
      "---- \n",
      "---- {'floating_species_counts': {'plasminogen': 1.692174617506734, 'plasmin': 0.006047383132798654, 'single intact chain urokinase-type plasminogen activator': 0.3953861474133801, 'two-chain urokinase-type plasminogen activator': 9.695236035869714e-06, 'x': 0.0, 'x-plasmin': 0.0}}\n",
      "---- \n",
      "---- {'floating_species_counts': {'plasminogen': 1.8439091035927406, 'plasmin': 0.0070149930876382445, 'single intact chain urokinase-type plasminogen activator': 0.42675062480568304, 'two-chain urokinase-type plasminogen activator': 1.3238292975272902e-05, 'x': 0.0, 'x-plasmin': 0.0}}\n",
      "---- \n",
      "---- {'floating_species_counts': {'plasminogen': 2.000538021014444, 'plasmin': 0.00806901695563317, 'single intact chain urokinase-type plasminogen activator': 0.4586561484535093, 'two-chain urokinase-type plasminogen activator': 1.7738588156003927e-05, 'x': 0.0, 'x-plasmin': 0.0}}\n",
      "---- \n",
      "---- {'floating_species_counts': {'plasminogen': 2.1618989782719833, 'plasmin': 0.009210531020782753, 'single intact chain urokinase-type plasminogen activator': 0.49105888013108945, 'two-chain urokinase-type plasminogen activator': 2.3365805845601434e-05, 'x': 0.0, 'x-plasmin': 0.0}}\n",
      "---- \n",
      "---- {'floating_species_counts': {'plasminogen': 2.3278349093284114, 'plasmin': 0.010440319021000503, 'single intact chain urokinase-type plasminogen activator': 0.5239184868538712, 'two-chain urokinase-type plasminogen activator': 3.0302708894601934e-05, 'x': 0.0, 'x-plasmin': 0.0}}\n",
      "---- \n",
      "---- {'floating_species_counts': {'plasminogen': 2.498193904991057, 'plasmin': 0.011758896611105811, 'single intact chain urokinase-type plasminogen activator': 0.5571978586036986, 'two-chain urokinase-type plasminogen activator': 3.874398664073731e-05, 'x': 0.0, 'x-plasmin': 0.0}}\n",
      "---- \n",
      "---- {'floating_species_counts': {'plasminogen': 2.672829047814288, 'plasmin': 0.013166535579764646, 'single intact chain urokinase-type plasminogen activator': 0.5908628489238998, 'two-chain urokinase-type plasminogen activator': 4.889495177154132e-05, 'x': 0.0, 'x-plasmin': 0.0}}\n",
      "---- \n",
      "---- {'floating_species_counts': {'plasminogen': 2.851598250813149, 'plasmin': 0.014663287482134472, 'single intact chain urokinase-type plasminogen activator': 0.6248820367383583, 'two-chain urokinase-type plasminogen activator': 6.097012447270238e-05, 'x': 0.0, 'x-plasmin': 0.0}}\n",
      "---- \n",
      "---- {'floating_species_counts': {'plasminogen': 3.0343641001635846, 'plasmin': 0.016249006429546152, 'single intact chain urokinase-type plasminogen activator': 0.659226507526001, 'two-chain urokinase-type plasminogen activator': 7.519174327967914e-05, 'x': 0.0, 'x-plasmin': 0.0}}\n",
      "---- \n",
      "---- {'floating_species_counts': {'plasminogen': 3.220993702036074, 'plasmin': 0.01792337084046622, 'single intact chain urokinase-type plasminogen activator': 0.6938696522756527, 'two-chain urokinase-type plasminogen activator': 9.178823834420835e-05, 'x': 0.0, 'x-plasmin': 0.0}}\n",
      "---- \n",
      "---- {'floating_species_counts': {'plasminogen': 3.411358533665634, 'plasmin': 0.019685904010541797, 'single intact chain urokinase-type plasminogen activator': 0.7287869827669522, 'two-chain urokinase-type plasminogen activator': 0.00011099269960205482, 'x': 0.0, 'x-plasmin': 0.0}}\n",
      "---- \n",
      "---- {'floating_species_counts': {'plasminogen': 3.6053342987208365, 'plasmin': 0.021535993405962364, 'single intact chain urokinase-type plasminogen activator': 0.7639559618339119, 'two-chain urokinase-type plasminogen activator': 0.00013304136847390596, 'x': 0.0, 'x-plasmin': 0.0}}\n",
      "---- \n"
     ]
    },
    {
     "name": "stderr",
     "output_type": "stream",
     "text": [
      "/Users/alex/Desktop/uchc_work/repos/biosimulator-processes/notebooks/../biosimulator_processes/processes/copasi_process.py:249: FutureWarning:\n",
      "\n",
      "Series.__getitem__ treating keys as positions is deprecated. In a future version, integer keys will always be treated as labels (consistent with DataFrame behavior). To access a value by position, use `ser.iloc[pos]`\n",
      "\n"
     ]
    }
   ],
   "source": [
    "workflow.run(duration)\n",
    "\n",
    "results = workflow.gather_results()"
   ]
  },
  {
   "cell_type": "code",
   "execution_count": 7,
   "id": "c7a254aee3009b8c",
   "metadata": {
    "ExecuteTime": {
     "end_time": "2024-04-30T22:29:40.131837Z",
     "start_time": "2024-04-30T22:29:40.127213Z"
    }
   },
   "outputs": [
    {
     "name": "stdout",
     "output_type": "stream",
     "text": [
      "{ ('emitter',): [ { 'floating_species_counts': { 'plasmin': 0.0,\n",
      "                                                 'plasminogen': 0.0,\n",
      "                                                 'single intact chain urokinase-type plasminogen activator': 0.0,\n",
      "                                                 'two-chain urokinase-type plasminogen activator': 0.0,\n",
      "                                                 'x': 0.0,\n",
      "                                                 'x-plasmin': 0.0},\n",
      "                    'time': 0.0},\n",
      "                  { 'floating_species_counts': { 'plasmin': 1.8202007375187194e-06,\n",
      "                                                 'plasminogen': 0.019524902598568875,\n",
      "                                                 'single intact chain urokinase-type plasminogen activator': 0.004908147993828459,\n",
      "                                                 'two-chain urokinase-type plasminogen activator': 1.3325712784584175e-13,\n",
      "                                                 'x': 0.0,\n",
      "                                                 'x-plasmin': 0.0},\n",
      "                    'time': 1.0},\n",
      "                  { 'floating_species_counts': { 'plasmin': 8.671884126128692e-06,\n",
      "                                                 'plasminogen': 0.04827129744245662,\n",
      "                                                 'single intact chain urokinase-type plasminogen activator': 0.012490138146165314,\n",
      "                                                 'two-chain urokinase-type plasminogen activator': 5.075951882694799e-12,\n",
      "                                                 'x': 0.0,\n",
      "                                                 'x-plasmin': 0.0},\n",
      "                    'time': 2.0},\n",
      "                  { 'floating_species_counts': { 'plasmin': 2.492018719908119e-05,\n",
      "                                                 'plasminogen': 0.08594387896712886,\n",
      "                                                 'single intact chain urokinase-type plasminogen activator': 0.022530542310868616,\n",
      "                                                 'two-chain urokinase-type plasminogen activator': 5.6471480430887804e-11,\n",
      "                                                 'x': 0.0,\n",
      "                                                 'x-plasmin': 0.0},\n",
      "                    'time': 3.0},\n",
      "                  { 'floating_species_counts': { 'plasmin': 5.573720108294436e-05,\n",
      "                                                 'plasminogen': 0.1322554518703474,\n",
      "                                                 'single intact chain urokinase-type plasminogen activator': 0.0348312889624054,\n",
      "                                                 'two-chain urokinase-type plasminogen activator': 3.471358901746811e-10,\n",
      "                                                 'x': 0.0,\n",
      "                                                 'x-plasmin': 0.0},\n",
      "                    'time': 4.0},\n",
      "                  { 'floating_species_counts': { 'plasmin': 0.00010681704778763683,\n",
      "                                                 'plasminogen': 0.1869269014780097,\n",
      "                                                 'single intact chain urokinase-type plasminogen activator': 0.0492102645151767,\n",
      "                                                 'two-chain urokinase-type plasminogen activator': 1.488407009519045e-09,\n",
      "                                                 'x': 0.0,\n",
      "                                                 'x-plasmin': 0.0},\n",
      "                    'time': 5.0},\n",
      "                  { 'floating_species_counts': { 'plasmin': 0.00018414387314320786,\n",
      "                                                 'plasminogen': 0.2496871342846247,\n",
      "                                                 'single intact chain urokinase-type plasminogen activator': 0.06550002709194783,\n",
      "                                                 'two-chain urokinase-type plasminogen activator': 4.9971482782096044e-09,\n",
      "                                                 'x': 0.0,\n",
      "                                                 'x-plasmin': 0.0},\n",
      "                    'time': 6.0},\n",
      "                  { 'floating_species_counts': { 'plasmin': 0.00029380488640585,\n",
      "                                                 'plasminogen': 0.32027299330948406,\n",
      "                                                 'single intact chain urokinase-type plasminogen activator': 0.08354662361879694,\n",
      "                                                 'two-chain urokinase-type plasminogen activator': 1.4045790740089636e-08,\n",
      "                                                 'x': 0.0,\n",
      "                                                 'x-plasmin': 0.0},\n",
      "                    'time': 7.0},\n",
      "                  { 'floating_species_counts': { 'plasmin': 0.000441841630856149,\n",
      "                                                 'plasminogen': 0.39842915233351583,\n",
      "                                                 'single intact chain urokinase-type plasminogen activator': 0.10320850189283512,\n",
      "                                                 'two-chain urokinase-type plasminogen activator': 3.4486210002168566e-08,\n",
      "                                                 'x': 0.0,\n",
      "                                                 'x-plasmin': 0.0},\n",
      "                    'time': 8.0},\n",
      "                  { 'floating_species_counts': { 'plasmin': 0.0006341335894886108,\n",
      "                                                 'plasminogen': 0.4839079925719765,\n",
      "                                                 'single intact chain urokinase-type plasminogen activator': 0.12435550996861434,\n",
      "                                                 'two-chain urokinase-type plasminogen activator': 7.61245115387385e-08,\n",
      "                                                 'x': 0.0,\n",
      "                                                 'x-plasmin': 0.0},\n",
      "                    'time': 9.0},\n",
      "                  { 'floating_species_counts': { 'plasmin': 0.0008763090431795318,\n",
      "                                                 'plasminogen': 0.5764694648822295,\n",
      "                                                 'single intact chain urokinase-type plasminogen activator': 0.14686797587680717,\n",
      "                                                 'two-chain urokinase-type plasminogen activator': 1.5419502494379941e-07,\n",
      "                                                 'x': 0.0,\n",
      "                                                 'x-plasmin': 0.0},\n",
      "                    'time': 10.0},\n",
      "                  { 'floating_species_counts': { 'plasmin': 0.0011736787742976042,\n",
      "                                                 'plasminogen': 0.6758809402213298,\n",
      "                                                 'single intact chain urokinase-type plasminogen activator': 0.1706358611853279,\n",
      "                                                 'two-chain urokinase-type plasminogen activator': 2.909611801004255e-07,\n",
      "                                                 'x': 0.0,\n",
      "                                                 'x-plasmin': 0.0},\n",
      "                    'time': 11.0},\n",
      "                  { 'floating_species_counts': { 'plasmin': 0.0015311888812938354,\n",
      "                                                 'plasminogen': 0.7819170506887987,\n",
      "                                                 'single intact chain urokinase-type plasminogen activator': 0.19555798266773114,\n",
      "                                                 'two-chain urokinase-type plasminogen activator': 5.173599738621892e-07,\n",
      "                                                 'x': 0.0,\n",
      "                                                 'x-plasmin': 0.0},\n",
      "                    'time': 12.0},\n",
      "                  { 'floating_species_counts': { 'plasmin': 0.001953389415969357,\n",
      "                                                 'plasminogen': 0.8943595232254049,\n",
      "                                                 'single intact chain urokinase-type plasminogen activator': 0.22154129653310756,\n",
      "                                                 'two-chain urokinase-type plasminogen activator': 8.746043247698414e-07,\n",
      "                                                 'x': 0.0,\n",
      "                                                 'x-plasmin': 0.0},\n",
      "                    'time': 13.0},\n",
      "                  { 'floating_species_counts': { 'plasmin': 0.0024444160723496276,\n",
      "                                                 'plasminogen': 1.0129970077446304,\n",
      "                                                 'single intact chain urokinase-type plasminogen activator': 0.24850024032258794,\n",
      "                                                 'two-chain urokinase-type plasminogen activator': 1.4156630157316015e-06,\n",
      "                                                 'x': 0.0,\n",
      "                                                 'x-plasmin': 0.0},\n",
      "                    'time': 14.0},\n",
      "                  { 'floating_species_counts': { 'plasmin': 0.0030079825384013202,\n",
      "                                                 'plasminogen': 1.137624901250471,\n",
      "                                                 'single intact chain urokinase-type plasminogen activator': 0.27635612795269826,\n",
      "                                                 'two-chain urokinase-type plasminogen activator': 2.206548325321574e-06,\n",
      "                                                 'x': 0.0,\n",
      "                                                 'x-plasmin': 0.0},\n",
      "                    'time': 15.0},\n",
      "                  { 'floating_species_counts': { 'plasmin': 0.003647381435245327,\n",
      "                                                 'plasminogen': 1.2680451693004646,\n",
      "                                                 'single intact chain urokinase-type plasminogen activator': 0.3050365935650963,\n",
      "                                                 'two-chain urokinase-type plasminogen activator': 3.3273569605748413e-06,\n",
      "                                                 'x': 0.0,\n",
      "                                                 'x-plasmin': 0.0},\n",
      "                    'time': 16.0},\n",
      "                  { 'floating_species_counts': { 'plasmin': 0.0043654921107863474,\n",
      "                                                 'plasminogen': 1.4040661659826967,\n",
      "                                                 'single intact chain urokinase-type plasminogen activator': 0.3344750804390968,\n",
      "                                                 'two-chain urokinase-type plasminogen activator': 4.873024645714747e-06,\n",
      "                                                 'x': 0.0,\n",
      "                                                 'x-plasmin': 0.0},\n",
      "                    'time': 17.0},\n",
      "                  { 'floating_species_counts': { 'plasmin': 0.005164793968079757,\n",
      "                                                 'plasminogen': 1.5455024515714484,\n",
      "                                                 'single intact chain urokinase-type plasminogen activator': 0.3646103670899144,\n",
      "                                                 'two-chain urokinase-type plasminogen activator': 6.953772045080925e-06,\n",
      "                                                 'x': 0.0,\n",
      "                                                 'x-plasmin': 0.0},\n",
      "                    'time': 18.0},\n",
      "                  { 'floating_species_counts': { 'plasmin': 0.006047383132798654,\n",
      "                                                 'plasminogen': 1.692174617506734,\n",
      "                                                 'single intact chain urokinase-type plasminogen activator': 0.3953861474133801,\n",
      "                                                 'two-chain urokinase-type plasminogen activator': 9.695236035869714e-06,\n",
      "                                                 'x': 0.0,\n",
      "                                                 'x-plasmin': 0.0},\n",
      "                    'time': 19.0},\n",
      "                  { 'floating_species_counts': { 'plasmin': 0.0070149930876382445,\n",
      "                                                 'plasminogen': 1.8439091035927406,\n",
      "                                                 'single intact chain urokinase-type plasminogen activator': 0.42675062480568304,\n",
      "                                                 'two-chain urokinase-type plasminogen activator': 1.3238292975272902e-05,\n",
      "                                                 'x': 0.0,\n",
      "                                                 'x-plasmin': 0.0},\n",
      "                    'time': 20.0},\n",
      "                  { 'floating_species_counts': { 'plasmin': 0.00806901695563317,\n",
      "                                                 'plasminogen': 2.000538021014444,\n",
      "                                                 'single intact chain urokinase-type plasminogen activator': 0.4586561484535093,\n",
      "                                                 'two-chain urokinase-type plasminogen activator': 1.7738588156003927e-05,\n",
      "                                                 'x': 0.0,\n",
      "                                                 'x-plasmin': 0.0},\n",
      "                    'time': 21.0},\n",
      "                  { 'floating_species_counts': { 'plasmin': 0.009210531020782753,\n",
      "                                                 'plasminogen': 2.1618989782719833,\n",
      "                                                 'single intact chain urokinase-type plasminogen activator': 0.49105888013108945,\n",
      "                                                 'two-chain urokinase-type plasminogen activator': 2.3365805845601434e-05,\n",
      "                                                 'x': 0.0,\n",
      "                                                 'x-plasmin': 0.0},\n",
      "                    'time': 22.0},\n",
      "                  { 'floating_species_counts': { 'plasmin': 0.010440319021000503,\n",
      "                                                 'plasminogen': 2.3278349093284114,\n",
      "                                                 'single intact chain urokinase-type plasminogen activator': 0.5239184868538712,\n",
      "                                                 'two-chain urokinase-type plasminogen activator': 3.0302708894601934e-05,\n",
      "                                                 'x': 0.0,\n",
      "                                                 'x-plasmin': 0.0},\n",
      "                    'time': 23.0},\n",
      "                  { 'floating_species_counts': { 'plasmin': 0.011758896611105811,\n",
      "                                                 'plasminogen': 2.498193904991057,\n",
      "                                                 'single intact chain urokinase-type plasminogen activator': 0.5571978586036986,\n",
      "                                                 'two-chain urokinase-type plasminogen activator': 3.874398664073731e-05,\n",
      "                                                 'x': 0.0,\n",
      "                                                 'x-plasmin': 0.0},\n",
      "                    'time': 24.0},\n",
      "                  { 'floating_species_counts': { 'plasmin': 0.013166535579764646,\n",
      "                                                 'plasminogen': 2.672829047814288,\n",
      "                                                 'single intact chain urokinase-type plasminogen activator': 0.5908628489238998,\n",
      "                                                 'two-chain urokinase-type plasminogen activator': 4.889495177154132e-05,\n",
      "                                                 'x': 0.0,\n",
      "                                                 'x-plasmin': 0.0},\n",
      "                    'time': 25.0},\n",
      "                  { 'floating_species_counts': { 'plasmin': 0.014663287482134472,\n",
      "                                                 'plasminogen': 2.851598250813149,\n",
      "                                                 'single intact chain urokinase-type plasminogen activator': 0.6248820367383583,\n",
      "                                                 'two-chain urokinase-type plasminogen activator': 6.097012447270238e-05,\n",
      "                                                 'x': 0.0,\n",
      "                                                 'x-plasmin': 0.0},\n",
      "                    'time': 26.0},\n",
      "                  { 'floating_species_counts': { 'plasmin': 0.016249006429546152,\n",
      "                                                 'plasminogen': 3.0343641001635846,\n",
      "                                                 'single intact chain urokinase-type plasminogen activator': 0.659226507526001,\n",
      "                                                 'two-chain urokinase-type plasminogen activator': 7.519174327967914e-05,\n",
      "                                                 'x': 0.0,\n",
      "                                                 'x-plasmin': 0.0},\n",
      "                    'time': 27.0},\n",
      "                  { 'floating_species_counts': { 'plasmin': 0.01792337084046622,\n",
      "                                                 'plasminogen': 3.220993702036074,\n",
      "                                                 'single intact chain urokinase-type plasminogen activator': 0.6938696522756527,\n",
      "                                                 'two-chain urokinase-type plasminogen activator': 9.178823834420835e-05,\n",
      "                                                 'x': 0.0,\n",
      "                                                 'x-plasmin': 0.0},\n",
      "                    'time': 28.0},\n",
      "                  { 'floating_species_counts': { 'plasmin': 0.019685904010541797,\n",
      "                                                 'plasminogen': 3.411358533665634,\n",
      "                                                 'single intact chain urokinase-type plasminogen activator': 0.7287869827669522,\n",
      "                                                 'two-chain urokinase-type plasminogen activator': 0.00011099269960205482,\n",
      "                                                 'x': 0.0,\n",
      "                                                 'x-plasmin': 0.0},\n",
      "                    'time': 29.0},\n",
      "                  { 'floating_species_counts': { 'plasmin': 0.021535993405962364,\n",
      "                                                 'plasminogen': 3.6053342987208365,\n",
      "                                                 'single intact chain urokinase-type plasminogen activator': 0.7639559618339119,\n",
      "                                                 'two-chain urokinase-type plasminogen activator': 0.00013304136847390596,\n",
      "                                                 'x': 0.0,\n",
      "                                                 'x-plasmin': 0.0},\n",
      "                    'time': 30.0}]}\n"
     ]
    }
   ],
   "source": [
    "pp(results)"
   ]
  },
  {
   "cell_type": "code",
   "execution_count": 8,
   "id": "76259bde7fd711f5",
   "metadata": {
    "ExecuteTime": {
     "end_time": "2024-04-30T22:29:40.134328Z",
     "start_time": "2024-04-30T22:29:40.132570Z"
    }
   },
   "outputs": [],
   "source": [
    "emitter = workflow.state['emitter']['instance']"
   ]
  },
  {
   "cell_type": "code",
   "execution_count": 9,
   "id": "7924d2e8b42e432d",
   "metadata": {
    "ExecuteTime": {
     "end_time": "2024-04-30T22:29:40.137129Z",
     "start_time": "2024-04-30T22:29:40.134785Z"
    }
   },
   "outputs": [
    {
     "data": {
      "text/plain": [
       "{'copasi': {'_type': 'process',\n",
       "  'address': 'local:copasi',\n",
       "  'config': {'model': {'model_source': 'BIOMD0000000630'},\n",
       "   'method': 'lsoda',\n",
       "   'species_context': 'counts'},\n",
       "  'inputs': {'floating_species_counts': ['floating_species_counts_store'],\n",
       "   'model_parameters': ['model_parameters_store'],\n",
       "   'time': ['time_store'],\n",
       "   'reactions': ['reactions_store']},\n",
       "  'outputs': {'floating_species_counts': ['floating_species_counts_store'],\n",
       "   'time': ['time_store']}},\n",
       " 'emitter': {'_type': 'step',\n",
       "  'address': 'local:ram-emitter',\n",
       "  'config': {'emit': {'floating_species_counts': 'tree[float]',\n",
       "    'time': 'float'}},\n",
       "  'inputs': {'floating_species_counts': ['floating_species_counts_store'],\n",
       "   'time': ['time_store']}},\n",
       " 'plotter2d': {'_type': 'step',\n",
       "  'address': 'local:plotter2d',\n",
       "  'config': {'duration': 30,\n",
       "   'species_context': 'counts',\n",
       "   'process': ['copasi']},\n",
       "  'inputs': {'floating_species_counts': ['floating_species_counts_store']}},\n",
       " 'global_time': 0.0}"
      ]
     },
     "execution_count": 9,
     "metadata": {},
     "output_type": "execute_result"
    }
   ],
   "source": [
    "document"
   ]
  },
  {
   "cell_type": "code",
   "execution_count": 10,
   "id": "27ae371af7ff2fa6",
   "metadata": {
    "ExecuteTime": {
     "end_time": "2024-04-30T22:29:40.209636Z",
     "start_time": "2024-04-30T22:29:40.137747Z"
    }
   },
   "outputs": [
    {
     "ename": "NameError",
     "evalue": "name 'x' is not defined",
     "output_type": "error",
     "traceback": [
      "\u001b[0;31m---------------------------------------------------------------------------\u001b[0m",
      "\u001b[0;31mNameError\u001b[0m                                 Traceback (most recent call last)",
      "Cell \u001b[0;32mIn[10], line 1\u001b[0m\n\u001b[0;32m----> 1\u001b[0m \u001b[43mx\u001b[49m\n",
      "\u001b[0;31mNameError\u001b[0m: name 'x' is not defined"
     ]
    }
   ],
   "source": [
    "\n",
    "\n",
    "x"
   ]
  },
  {
   "cell_type": "code",
   "execution_count": null,
   "id": "136275c9f8743a57",
   "metadata": {
    "ExecuteTime": {
     "end_time": "2024-04-30T22:29:40.211063Z",
     "start_time": "2024-04-30T22:29:40.211009Z"
    }
   },
   "outputs": [],
   "source": [
    "from biosimulator_processes.steps.viz import parse_composition_results\n",
    "\n",
    "\n",
    "results = parse_composition_results(workflow)\n",
    "\n",
    "pp(results)"
   ]
  },
  {
   "cell_type": "code",
   "execution_count": null,
   "id": "f6bbb65c9a862f12",
   "metadata": {},
   "outputs": [],
   "source": [
    "y_data = []\n",
    "times = list(results.keys())\n",
    "index = 'floating_species_concentrations'\n",
    "\n",
    "\n",
    "    \n",
    "\n",
    "for timestamp, result in results.items():\n",
    "    \n",
    "    root_data = result[index]\n",
    "    names = list(root_data.keys())\n",
    "    for name in names:\n",
    "        y_data.append(results[timestamp][index][name])\n",
    "        print(f'Got data for name {name}: {y_data}')\n",
    "        y_data.clear()\n",
    "        \n",
    "        \n",
    "        "
   ]
  },
  {
   "cell_type": "code",
   "execution_count": null,
   "id": "150dc15755417a42",
   "metadata": {},
   "outputs": [],
   "source": [
    "workflow.state['global_time']"
   ]
  },
  {
   "cell_type": "code",
   "execution_count": null,
   "id": "b1614b8359c0651f",
   "metadata": {},
   "outputs": [],
   "source": [
    "from biosimulator_processes.steps.viz import ResultsAnimation, Plotter2d"
   ]
  },
  {
   "cell_type": "code",
   "execution_count": null,
   "id": "601a2e10c945b363",
   "metadata": {},
   "outputs": [],
   "source": [
    "output = results.copy()"
   ]
  },
  {
   "cell_type": "code",
   "execution_count": null,
   "id": "538db282c51069d6",
   "metadata": {},
   "outputs": [],
   "source": [
    "output_vals = output[('emitter',)]"
   ]
  },
  {
   "cell_type": "code",
   "execution_count": null,
   "id": "a44c1cc0f9850758",
   "metadata": {},
   "outputs": [],
   "source": [
    "timescale = list(set([val.get('time', 0.0) for val in output_vals]))"
   ]
  },
  {
   "cell_type": "code",
   "execution_count": null,
   "id": "5c510ec6dac592eb",
   "metadata": {},
   "outputs": [],
   "source": [
    "timescale"
   ]
  },
  {
   "cell_type": "code",
   "execution_count": null,
   "id": "f27e97fdebb17b07",
   "metadata": {},
   "outputs": [],
   "source": [
    "data = []\n",
    "counts_data = []"
   ]
  },
  {
   "cell_type": "code",
   "execution_count": null,
   "id": "c476add07372b47c",
   "metadata": {},
   "outputs": [],
   "source": [
    "for i, val in enumerate(output_vals):\n",
    "    species_data = val.get('floating_species_concentrations')\n",
    "    data.append(species_data.get('plasminogen'))\n",
    "    counts = val.get('floating_species_counts')\n",
    "    counts_data.append(counts.get('plasminogen'))"
   ]
  },
  {
   "cell_type": "code",
   "execution_count": null,
   "id": "f84f85bf43a82b40",
   "metadata": {},
   "outputs": [],
   "source": [
    "len(timescale), len(data)"
   ]
  },
  {
   "cell_type": "code",
   "execution_count": null,
   "id": "4311ca8a4fce3a7c",
   "metadata": {},
   "outputs": [],
   "source": [
    "Plotter2d.plot_single_output(timescale=timescale, data=data, species_name='plasminogen concentration')"
   ]
  },
  {
   "cell_type": "code",
   "execution_count": null,
   "id": "a385d75479e50b1c",
   "metadata": {},
   "outputs": [],
   "source": [
    "Plotter2d.plot_single_output(timescale=timescale, data=counts_data, species_name='plasminogen counts', plot_concentration=False)"
   ]
  },
  {
   "cell_type": "code",
   "execution_count": null,
   "id": "4b07263ce48d2094",
   "metadata": {},
   "outputs": [],
   "source": [
    "Plotter2d.plot_output(x_data=data, y_data=counts_data, title='Plasminogen concentration over counts', x_label='concentration', y_label='counts', species='plasminogen')"
   ]
  },
  {
   "cell_type": "code",
   "execution_count": null,
   "id": "1e5efa38b0de7505",
   "metadata": {},
   "outputs": [],
   "source": []
  },
  {
   "cell_type": "code",
   "execution_count": null,
   "id": "65cf4a00f212edaa",
   "metadata": {},
   "outputs": [],
   "source": []
  }
 ],
 "metadata": {
  "kernelspec": {
   "display_name": "Python 3",
   "language": "python",
   "name": "python3"
  },
  "language_info": {
   "codemirror_mode": {
    "name": "ipython",
    "version": 2
   },
   "file_extension": ".py",
   "mimetype": "text/x-python",
   "name": "python",
   "nbconvert_exporter": "python",
   "pygments_lexer": "ipython2",
   "version": "2.7.6"
  }
 },
 "nbformat": 4,
 "nbformat_minor": 5
}
