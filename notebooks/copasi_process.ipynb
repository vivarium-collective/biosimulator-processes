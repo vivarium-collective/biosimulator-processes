{
 "cells": [
  {
   "cell_type": "code",
   "execution_count": 1,
   "id": "40898635d17c0f08",
   "metadata": {
    "ExecuteTime": {
     "end_time": "2024-05-01T08:48:43.729023Z",
     "start_time": "2024-05-01T08:48:43.681759Z"
    },
    "collapsed": false
   },
   "outputs": [],
   "source": [
    "import sys\n",
    "sys.path.insert(0, '..')\n",
    "\n",
    "import os\n",
    "import requests\n",
    "import json"
   ]
  },
  {
   "cell_type": "code",
   "execution_count": 2,
   "id": "initial_id",
   "metadata": {
    "ExecuteTime": {
     "end_time": "2024-05-01T08:48:46.722106Z",
     "start_time": "2024-05-01T08:48:43.878978Z"
    },
    "collapsed": true
   },
   "outputs": [
    {
     "name": "stdout",
     "output_type": "stream",
     "text": [
      "CobraProcess registered successfully.\n",
      "CopasiProcess registered successfully.\n",
      "SmoldynProcess not available. Error: \n",
      "PLEASE NOTE: Smoldyn is not correctly installed on your system which prevents you from using the SmoldynProcess. Please refer to the README for further information on installing Smoldyn.\n",
      "TelluriumProcess registered successfully.\n"
     ]
    }
   ],
   "source": [
    "from biosimulator_processes.tests.test_copasi_process import test_process_from_document\n",
    "from biosimulator_processes.tests.data_model import ProcessUnitTest\n",
    "from biosimulator_processes.utils import prepare_single_copasi_process_composite_doc\n",
    "from biosimulator_processes import CORE\n",
    "from process_bigraph import Composite, pp"
   ]
  },
  {
   "cell_type": "markdown",
   "id": "c7dca241b02a7265",
   "metadata": {},
   "source": [
    "#### Step 1: Define the document to be read by the Composite, which is implemented by the Process."
   ]
  },
  {
   "cell_type": "code",
   "execution_count": 3,
   "id": "cf99dc6955ac6f6f",
   "metadata": {
    "ExecuteTime": {
     "end_time": "2024-05-01T08:48:46.729629Z",
     "start_time": "2024-05-01T08:48:46.725308Z"
    }
   },
   "outputs": [
    {
     "data": {
      "text/plain": [
       "{'console-emitter': process_bigraph.composite.ConsoleEmitter,\n",
       " 'ram-emitter': process_bigraph.composite.RAMEmitter,\n",
       " 'cobra': biosimulator_processes.processes.cobra_process.CobraProcess,\n",
       " 'copasi': biosimulator_processes.processes.copasi_process.CopasiProcess,\n",
       " 'tellurium': biosimulator_processes.processes.tellurium_process.TelluriumProcess,\n",
       " 'plotter': biosimulator_processes.steps.viz.CompositionPlotter,\n",
       " 'plotter2d': biosimulator_processes.steps.viz.Plotter2d}"
      ]
     },
     "execution_count": 3,
     "metadata": {},
     "output_type": "execute_result"
    }
   ],
   "source": [
    "CORE.process_registry.registry"
   ]
  },
  {
   "cell_type": "code",
   "execution_count": 4,
   "id": "2633feac24b596a6",
   "metadata": {
    "ExecuteTime": {
     "end_time": "2024-05-01T08:48:46.733830Z",
     "start_time": "2024-05-01T08:48:46.731019Z"
    }
   },
   "outputs": [
    {
     "data": {
      "text/plain": [
       "{'copasi': {'_type': 'process',\n",
       "  'address': 'local:copasi',\n",
       "  'config': {'model': {'model_source': '../biosimulator_processes/model_files/sbml/BIOMD0000000630_url.xml'},\n",
       "   'method': 'lsoda',\n",
       "   'species_context': 'counts'},\n",
       "  'inputs': {'floating_species_counts': ['floating_species_counts_store'],\n",
       "   'model_parameters': ['model_parameters_store'],\n",
       "   'time': ['time_store'],\n",
       "   'reactions': ['reactions_store']},\n",
       "  'outputs': {'floating_species_counts': ['floating_species_counts_store'],\n",
       "   'time': ['time_store']}},\n",
       " 'emitter': {'_type': 'step',\n",
       "  'address': 'local:ram-emitter',\n",
       "  'config': {'emit': {'floating_species_counts': 'tree[float]',\n",
       "    'time': 'float'}},\n",
       "  'inputs': {'floating_species_counts': ['floating_species_counts_store'],\n",
       "   'time': ['time_store']}},\n",
       " 'plotter2d': {'_type': 'step',\n",
       "  'address': 'local:plotter2d',\n",
       "  'config': {'duration': 30,\n",
       "   'species_context': 'counts',\n",
       "   'process': ['copasi']},\n",
       "  'inputs': {'floating_species_counts': ['floating_species_counts_store']}}}"
      ]
     },
     "execution_count": 4,
     "metadata": {},
     "output_type": "execute_result"
    }
   ],
   "source": [
    "biomodel_id = 'BIOMD0000000630'\n",
    "model_fp = f'../biosimulator_processes/model_files/sbml/{biomodel_id}_url.xml'\n",
    "species_context = 'counts'\n",
    "species_port_name = f'floating_species_{species_context}'\n",
    "species_store = [f'floating_species_{species_context}_store']\n",
    "duration = 30\n",
    "\n",
    "document = prepare_single_copasi_process_composite_doc(model_fp, species_context, duration)\n",
    "\n",
    "document"
   ]
  },
  {
   "cell_type": "markdown",
   "id": "e502cb54666345af",
   "metadata": {},
   "source": [
    "#### Step 2: Define the instance composition along with the process registry"
   ]
  },
  {
   "cell_type": "code",
   "execution_count": 5,
   "id": "bd91dca0be22cd27",
   "metadata": {
    "ExecuteTime": {
     "end_time": "2024-05-01T08:48:46.784234Z",
     "start_time": "2024-05-01T08:48:46.740099Z"
    }
   },
   "outputs": [
    {
     "name": "stdout",
     "output_type": "stream",
     "text": [
      "found a filepath\n"
     ]
    }
   ],
   "source": [
    "workflow = Composite(\n",
    "    config={'state': document},\n",
    "    core=CORE\n",
    ")"
   ]
  },
  {
   "cell_type": "markdown",
   "id": "857667277d39c647",
   "metadata": {},
   "source": [
    "#### Step 3: Run the workflow for a duration and get the results"
   ]
  },
  {
   "cell_type": "code",
   "execution_count": 6,
   "id": "1dbde99ba40756d4",
   "metadata": {
    "ExecuteTime": {
     "end_time": "2024-05-01T08:48:47.672147Z",
     "start_time": "2024-05-01T08:48:47.561277Z"
    },
    "collapsed": false
   },
   "outputs": [
    {
     "data": {
      "text/plain": [
       "0.37"
      ]
     },
     "execution_count": 6,
     "metadata": {},
     "output_type": "execute_result"
    }
   ],
   "source": [
    "from biosimulator_processes.compare import generate_composite_index\n",
    "\n",
    "data = {'tellurium': 0.34, 'copasi': 0.40}\n",
    "composite_index = generate_composite_index(data)\n",
    "\n",
    "composite_index"
   ]
  },
  {
   "cell_type": "code",
   "execution_count": 7,
   "id": "7c6f72142af0616b",
   "metadata": {
    "ExecuteTime": {
     "end_time": "2024-05-01T08:48:48.447874Z",
     "start_time": "2024-05-01T08:48:48.189133Z"
    }
   },
   "outputs": [
    {
     "name": "stdout",
     "output_type": "stream",
     "text": [
      "---- {'floating_species_counts': {'plasminogen': 0.0, 'plasmin': 0.0, 'single intact chain urokinase-type plasminogen activator': 0.0, 'two-chain urokinase-type plasminogen activator': 0.0, 'x': 0.0, 'x-plasmin': 0.0}}\n",
      "---- \n",
      "---- {'floating_species_counts': {'plasminogen': 0.019524902598568622, 'plasmin': 1.8202007375100788e-06, 'single intact chain urokinase-type plasminogen activator': 0.004908147993828366, 'two-chain urokinase-type plasminogen activator': 1.3325716135386897e-13, 'x': 0.0, 'x-plasmin': 0.0}}\n",
      "---- \n",
      "---- {'floating_species_counts': {'plasminogen': 0.048271297442455445, 'plasmin': 8.671884126112786e-06, 'single intact chain urokinase-type plasminogen activator': 0.012490138146165095, 'two-chain urokinase-type plasminogen activator': 5.075951946945878e-12, 'x': 0.0, 'x-plasmin': 0.0}}\n",
      "---- \n",
      "---- {'floating_species_counts': {'plasminogen': 0.08594387896712657, 'plasmin': 2.4920187199060397e-05, 'single intact chain urokinase-type plasminogen activator': 0.02253054231086868, 'two-chain urokinase-type plasminogen activator': 5.6471480523364736e-11, 'x': 0.0, 'x-plasmin': 0.0}}\n",
      "---- \n",
      "---- {'floating_species_counts': {'plasminogen': 0.13225545187034607, 'plasmin': 5.573720108292367e-05, 'single intact chain urokinase-type plasminogen activator': 0.034831288962406164, 'two-chain urokinase-type plasminogen activator': 3.471358902931471e-10, 'x': 0.0, 'x-plasmin': 0.0}}\n",
      "---- \n",
      "---- {'floating_species_counts': {'plasminogen': 0.18692690147800894, 'plasmin': 0.00010681704778765246, 'single intact chain urokinase-type plasminogen activator': 0.049210264515178154, 'two-chain urokinase-type plasminogen activator': 1.488407009482764e-09, 'x': 0.0, 'x-plasmin': 0.0}}\n",
      "---- \n",
      "---- {'floating_species_counts': {'plasminogen': 0.24968713428462455, 'plasmin': 0.00018414387314325984, 'single intact chain urokinase-type plasminogen activator': 0.0655000270919499, 'two-chain urokinase-type plasminogen activator': 4.997148278034031e-09, 'x': 0.0, 'x-plasmin': 0.0}}\n",
      "---- \n",
      "---- {'floating_species_counts': {'plasminogen': 0.32027299330948455, 'plasmin': 0.00029380488640593714, 'single intact chain urokinase-type plasminogen activator': 0.08354662361879961, 'two-chain urokinase-type plasminogen activator': 1.4045790739789766e-08, 'x': 0.0, 'x-plasmin': 0.0}}\n",
      "---- \n",
      "---- {'floating_species_counts': {'plasminogen': 0.39842915233351706, 'plasmin': 0.0004418416308562708, 'single intact chain urokinase-type plasminogen activator': 0.10320850189283831, 'two-chain urokinase-type plasminogen activator': 3.448621000177178e-08, 'x': 0.0, 'x-plasmin': 0.0}}\n",
      "---- \n",
      "---- {'floating_species_counts': {'plasminogen': 0.4839079925719783, 'plasmin': 0.0006341335894887681, 'single intact chain urokinase-type plasminogen activator': 0.12435550996861795, 'two-chain urokinase-type plasminogen activator': 7.612451153836218e-08, 'x': 0.0, 'x-plasmin': 0.0}}\n",
      "---- \n",
      "---- {'floating_species_counts': {'plasminogen': 0.5764694648822319, 'plasmin': 0.0008763090431797236, 'single intact chain urokinase-type plasminogen activator': 0.14686797587681116, 'two-chain urokinase-type plasminogen activator': 1.5419502494345544e-07, 'x': 0.0, 'x-plasmin': 0.0}}\n",
      "---- \n",
      "---- {'floating_species_counts': {'plasminogen': 0.6758809402213328, 'plasmin': 0.0011736787742978709, 'single intact chain urokinase-type plasminogen activator': 0.17063586118533242, 'two-chain urokinase-type plasminogen activator': 2.9096118010000923e-07, 'x': 0.0, 'x-plasmin': 0.0}}\n",
      "---- \n",
      "---- {'floating_species_counts': {'plasminogen': 0.7819170506888022, 'plasmin': 0.0015311888812941724, 'single intact chain urokinase-type plasminogen activator': 0.1955579826677361, 'two-chain urokinase-type plasminogen activator': 5.173599738617645e-07, 'x': 0.0, 'x-plasmin': 0.0}}\n",
      "---- \n",
      "---- {'floating_species_counts': {'plasminogen': 0.8943595232254089, 'plasmin': 0.00195338941596976, 'single intact chain urokinase-type plasminogen activator': 0.22154129653311297, 'two-chain urokinase-type plasminogen activator': 8.7460432476947e-07, 'x': 0.0, 'x-plasmin': 0.0}}\n",
      "---- \n",
      "---- {'floating_species_counts': {'plasminogen': 1.0129970077446349, 'plasmin': 0.0024444160723502083, 'single intact chain urokinase-type plasminogen activator': 0.24850024032259402, 'two-chain urokinase-type plasminogen activator': 1.4156630157341299e-06, 'x': 0.0, 'x-plasmin': 0.0}}\n",
      "---- \n",
      "---- {'floating_species_counts': {'plasminogen': 1.1376249012510955, 'plasmin': 0.0030079825357922792, 'single intact chain urokinase-type plasminogen activator': 0.2763561279359749, 'two-chain urokinase-type plasminogen activator': 2.2065484294663494e-06, 'x': 0.0, 'x-plasmin': 0.0}}\n",
      "---- \n",
      "---- {'floating_species_counts': {'plasminogen': 1.2680451693020878, 'plasmin': 0.003647381427202734, 'single intact chain urokinase-type plasminogen activator': 0.30503659351056245, 'two-chain urokinase-type plasminogen activator': 3.327357322589068e-06, 'x': 0.0, 'x-plasmin': 0.0}}\n",
      "---- \n",
      "---- {'floating_species_counts': {'plasminogen': 1.4040661659847016, 'plasmin': 0.004365492095563226, 'single intact chain urokinase-type plasminogen activator': 0.3344750803263811, 'two-chain urokinase-type plasminogen activator': 4.873025445964662e-06, 'x': 0.0, 'x-plasmin': 0.0}}\n",
      "---- \n",
      "---- {'floating_species_counts': {'plasminogen': 1.5455024515735356, 'plasmin': 0.005164793946093621, 'single intact chain urokinase-type plasminogen activator': 0.36461036692256155, 'two-chain urokinase-type plasminogen activator': 6.953773235003841e-06, 'x': 0.0, 'x-plasmin': 0.0}}\n",
      "---- \n",
      "---- {'floating_species_counts': {'plasminogen': 1.6921746175091137, 'plasmin': 0.006047383104386874, 'single intact chain urokinase-type plasminogen activator': 0.39538614719580617, 'two-chain urokinase-type plasminogen activator': 9.69523756969107e-06, 'x': 0.0, 'x-plasmin': 0.0}}\n",
      "---- \n",
      "---- {'floating_species_counts': {'plasminogen': 1.8439091035956074, 'plasmin': 0.007014993053119017, 'single intact chain urokinase-type plasminogen activator': 0.4267506245419417, 'two-chain urokinase-type plasminogen activator': 1.3238294809955793e-05, 'x': 0.0, 'x-plasmin': 0.0}}\n",
      "---- \n",
      "---- {'floating_species_counts': {'plasminogen': 2.0005380210179786, 'plasmin': 0.008069016915307411, 'single intact chain urokinase-type plasminogen activator': 0.45865614814733663, 'two-chain urokinase-type plasminogen activator': 1.7738590250958243e-05, 'x': 0.0, 'x-plasmin': 0.0}}\n",
      "---- \n",
      "---- {'floating_species_counts': {'plasminogen': 2.1618989782763527, 'plasmin': 0.009210530974935073, 'single intact chain urokinase-type plasminogen activator': 0.4910588797859212, 'two-chain urokinase-type plasminogen activator': 2.336580816263835e-05, 'x': 0.0, 'x-plasmin': 0.0}}\n",
      "---- \n",
      "---- {'floating_species_counts': {'plasminogen': 2.3278349093337694, 'plasmin': 0.010440318969900256, 'single intact chain urokinase-type plasminogen activator': 0.5239184864728671, 'two-chain urokinase-type plasminogen activator': 3.0302711397822668e-05, 'x': 0.0, 'x-plasmin': 0.0}}\n",
      "---- \n",
      "---- {'floating_species_counts': {'plasminogen': 2.4981939049975397, 'plasmin': 0.011758896555008839, 'single intact chain urokinase-type plasminogen activator': 0.5571978581897375, 'two-chain urokinase-type plasminogen activator': 3.874398929657011e-05, 'x': 0.0, 'x-plasmin': 0.0}}\n",
      "---- \n",
      "---- {'floating_species_counts': {'plasminogen': 2.672829047822026, 'plasmin': 0.013166535518912286, 'single intact chain urokinase-type plasminogen activator': 0.5908628484796565, 'two-chain urokinase-type plasminogen activator': 4.88949545483709e-05, 'x': 0.0, 'x-plasmin': 0.0}}\n",
      "---- \n",
      "---- {'floating_species_counts': {'plasminogen': 2.8515982508222604, 'plasmin': 0.01466328741675536, 'single intact chain urokinase-type plasminogen activator': 0.6248820362662922, 'two-chain urokinase-type plasminogen activator': 6.0970127340934e-05, 'x': 0.0, 'x-plasmin': 0.0}}\n",
      "---- \n",
      "---- {'floating_species_counts': {'plasminogen': 3.0343641001741783, 'plasmin': 0.016249006359856908, 'single intact chain urokinase-type plasminogen activator': 0.6592265070283742, 'two-chain urokinase-type plasminogen activator': 7.519174621166138e-05, 'x': 0.0, 'x-plasmin': 0.0}}\n",
      "---- \n",
      "---- {'floating_species_counts': {'plasminogen': 3.2209937020482498, 'plasmin': 0.017923370766672088, 'single intact chain urokinase-type plasminogen activator': 0.6938696517545451, 'two-chain urokinase-type plasminogen activator': 9.17882413141594e-05, 'x': 0.0, 'x-plasmin': 0.0}}\n",
      "---- \n",
      "---- {'floating_species_counts': {'plasminogen': 3.411358533679481, 'plasmin': 0.01968590393283723, 'single intact chain urokinase-type plasminogen activator': 0.7287869822242766, 'two-chain urokinase-type plasminogen activator': 0.00011099270258599119, 'x': 0.0, 'x-plasmin': 0.0}}\n",
      "---- \n",
      "---- {'floating_species_counts': {'plasminogen': 3.6053342987363917, 'plasmin': 0.021535993324549866, 'single intact chain urokinase-type plasminogen activator': 0.7639559612712573, 'two-chain urokinase-type plasminogen activator': 0.00013304137144864997, 'x': 0.0, 'x-plasmin': 0.0}}\n",
      "---- \n"
     ]
    },
    {
     "name": "stderr",
     "output_type": "stream",
     "text": [
      "/Users/alex/Desktop/uchc_work/repos/biosimulator-processes/notebooks/../biosimulator_processes/processes/copasi_process.py:249: FutureWarning:\n",
      "\n",
      "Series.__getitem__ treating keys as positions is deprecated. In a future version, integer keys will always be treated as labels (consistent with DataFrame behavior). To access a value by position, use `ser.iloc[pos]`\n",
      "\n"
     ]
    }
   ],
   "source": [
    "workflow.run(duration)\n",
    "\n",
    "results = workflow.gather_results()"
   ]
  },
  {
   "cell_type": "code",
   "execution_count": 8,
   "id": "c7a254aee3009b8c",
   "metadata": {
    "ExecuteTime": {
     "end_time": "2024-05-01T08:48:48.812254Z",
     "start_time": "2024-05-01T08:48:48.803165Z"
    }
   },
   "outputs": [
    {
     "name": "stdout",
     "output_type": "stream",
     "text": [
      "{ ('emitter',): [ { 'floating_species_counts': { 'plasmin': 0.0,\n",
      "                                                 'plasminogen': 0.0,\n",
      "                                                 'single intact chain urokinase-type plasminogen activator': 0.0,\n",
      "                                                 'two-chain urokinase-type plasminogen activator': 0.0,\n",
      "                                                 'x': 0.0,\n",
      "                                                 'x-plasmin': 0.0},\n",
      "                    'time': 0.0},\n",
      "                  { 'floating_species_counts': { 'plasmin': 1.8202007375100788e-06,\n",
      "                                                 'plasminogen': 0.019524902598568622,\n",
      "                                                 'single intact chain urokinase-type plasminogen activator': 0.004908147993828366,\n",
      "                                                 'two-chain urokinase-type plasminogen activator': 1.3325716135386897e-13,\n",
      "                                                 'x': 0.0,\n",
      "                                                 'x-plasmin': 0.0},\n",
      "                    'time': 1.0},\n",
      "                  { 'floating_species_counts': { 'plasmin': 8.671884126112786e-06,\n",
      "                                                 'plasminogen': 0.048271297442455445,\n",
      "                                                 'single intact chain urokinase-type plasminogen activator': 0.012490138146165095,\n",
      "                                                 'two-chain urokinase-type plasminogen activator': 5.075951946945878e-12,\n",
      "                                                 'x': 0.0,\n",
      "                                                 'x-plasmin': 0.0},\n",
      "                    'time': 2.0},\n",
      "                  { 'floating_species_counts': { 'plasmin': 2.4920187199060397e-05,\n",
      "                                                 'plasminogen': 0.08594387896712657,\n",
      "                                                 'single intact chain urokinase-type plasminogen activator': 0.02253054231086868,\n",
      "                                                 'two-chain urokinase-type plasminogen activator': 5.6471480523364736e-11,\n",
      "                                                 'x': 0.0,\n",
      "                                                 'x-plasmin': 0.0},\n",
      "                    'time': 3.0},\n",
      "                  { 'floating_species_counts': { 'plasmin': 5.573720108292367e-05,\n",
      "                                                 'plasminogen': 0.13225545187034607,\n",
      "                                                 'single intact chain urokinase-type plasminogen activator': 0.034831288962406164,\n",
      "                                                 'two-chain urokinase-type plasminogen activator': 3.471358902931471e-10,\n",
      "                                                 'x': 0.0,\n",
      "                                                 'x-plasmin': 0.0},\n",
      "                    'time': 4.0},\n",
      "                  { 'floating_species_counts': { 'plasmin': 0.00010681704778765246,\n",
      "                                                 'plasminogen': 0.18692690147800894,\n",
      "                                                 'single intact chain urokinase-type plasminogen activator': 0.049210264515178154,\n",
      "                                                 'two-chain urokinase-type plasminogen activator': 1.488407009482764e-09,\n",
      "                                                 'x': 0.0,\n",
      "                                                 'x-plasmin': 0.0},\n",
      "                    'time': 5.0},\n",
      "                  { 'floating_species_counts': { 'plasmin': 0.00018414387314325984,\n",
      "                                                 'plasminogen': 0.24968713428462455,\n",
      "                                                 'single intact chain urokinase-type plasminogen activator': 0.0655000270919499,\n",
      "                                                 'two-chain urokinase-type plasminogen activator': 4.997148278034031e-09,\n",
      "                                                 'x': 0.0,\n",
      "                                                 'x-plasmin': 0.0},\n",
      "                    'time': 6.0},\n",
      "                  { 'floating_species_counts': { 'plasmin': 0.00029380488640593714,\n",
      "                                                 'plasminogen': 0.32027299330948455,\n",
      "                                                 'single intact chain urokinase-type plasminogen activator': 0.08354662361879961,\n",
      "                                                 'two-chain urokinase-type plasminogen activator': 1.4045790739789766e-08,\n",
      "                                                 'x': 0.0,\n",
      "                                                 'x-plasmin': 0.0},\n",
      "                    'time': 7.0},\n",
      "                  { 'floating_species_counts': { 'plasmin': 0.0004418416308562708,\n",
      "                                                 'plasminogen': 0.39842915233351706,\n",
      "                                                 'single intact chain urokinase-type plasminogen activator': 0.10320850189283831,\n",
      "                                                 'two-chain urokinase-type plasminogen activator': 3.448621000177178e-08,\n",
      "                                                 'x': 0.0,\n",
      "                                                 'x-plasmin': 0.0},\n",
      "                    'time': 8.0},\n",
      "                  { 'floating_species_counts': { 'plasmin': 0.0006341335894887681,\n",
      "                                                 'plasminogen': 0.4839079925719783,\n",
      "                                                 'single intact chain urokinase-type plasminogen activator': 0.12435550996861795,\n",
      "                                                 'two-chain urokinase-type plasminogen activator': 7.612451153836218e-08,\n",
      "                                                 'x': 0.0,\n",
      "                                                 'x-plasmin': 0.0},\n",
      "                    'time': 9.0},\n",
      "                  { 'floating_species_counts': { 'plasmin': 0.0008763090431797236,\n",
      "                                                 'plasminogen': 0.5764694648822319,\n",
      "                                                 'single intact chain urokinase-type plasminogen activator': 0.14686797587681116,\n",
      "                                                 'two-chain urokinase-type plasminogen activator': 1.5419502494345544e-07,\n",
      "                                                 'x': 0.0,\n",
      "                                                 'x-plasmin': 0.0},\n",
      "                    'time': 10.0},\n",
      "                  { 'floating_species_counts': { 'plasmin': 0.0011736787742978709,\n",
      "                                                 'plasminogen': 0.6758809402213328,\n",
      "                                                 'single intact chain urokinase-type plasminogen activator': 0.17063586118533242,\n",
      "                                                 'two-chain urokinase-type plasminogen activator': 2.9096118010000923e-07,\n",
      "                                                 'x': 0.0,\n",
      "                                                 'x-plasmin': 0.0},\n",
      "                    'time': 11.0},\n",
      "                  { 'floating_species_counts': { 'plasmin': 0.0015311888812941724,\n",
      "                                                 'plasminogen': 0.7819170506888022,\n",
      "                                                 'single intact chain urokinase-type plasminogen activator': 0.1955579826677361,\n",
      "                                                 'two-chain urokinase-type plasminogen activator': 5.173599738617645e-07,\n",
      "                                                 'x': 0.0,\n",
      "                                                 'x-plasmin': 0.0},\n",
      "                    'time': 12.0},\n",
      "                  { 'floating_species_counts': { 'plasmin': 0.00195338941596976,\n",
      "                                                 'plasminogen': 0.8943595232254089,\n",
      "                                                 'single intact chain urokinase-type plasminogen activator': 0.22154129653311297,\n",
      "                                                 'two-chain urokinase-type plasminogen activator': 8.7460432476947e-07,\n",
      "                                                 'x': 0.0,\n",
      "                                                 'x-plasmin': 0.0},\n",
      "                    'time': 13.0},\n",
      "                  { 'floating_species_counts': { 'plasmin': 0.0024444160723502083,\n",
      "                                                 'plasminogen': 1.0129970077446349,\n",
      "                                                 'single intact chain urokinase-type plasminogen activator': 0.24850024032259402,\n",
      "                                                 'two-chain urokinase-type plasminogen activator': 1.4156630157341299e-06,\n",
      "                                                 'x': 0.0,\n",
      "                                                 'x-plasmin': 0.0},\n",
      "                    'time': 14.0},\n",
      "                  { 'floating_species_counts': { 'plasmin': 0.0030079825357922792,\n",
      "                                                 'plasminogen': 1.1376249012510955,\n",
      "                                                 'single intact chain urokinase-type plasminogen activator': 0.2763561279359749,\n",
      "                                                 'two-chain urokinase-type plasminogen activator': 2.2065484294663494e-06,\n",
      "                                                 'x': 0.0,\n",
      "                                                 'x-plasmin': 0.0},\n",
      "                    'time': 15.0},\n",
      "                  { 'floating_species_counts': { 'plasmin': 0.003647381427202734,\n",
      "                                                 'plasminogen': 1.2680451693020878,\n",
      "                                                 'single intact chain urokinase-type plasminogen activator': 0.30503659351056245,\n",
      "                                                 'two-chain urokinase-type plasminogen activator': 3.327357322589068e-06,\n",
      "                                                 'x': 0.0,\n",
      "                                                 'x-plasmin': 0.0},\n",
      "                    'time': 16.0},\n",
      "                  { 'floating_species_counts': { 'plasmin': 0.004365492095563226,\n",
      "                                                 'plasminogen': 1.4040661659847016,\n",
      "                                                 'single intact chain urokinase-type plasminogen activator': 0.3344750803263811,\n",
      "                                                 'two-chain urokinase-type plasminogen activator': 4.873025445964662e-06,\n",
      "                                                 'x': 0.0,\n",
      "                                                 'x-plasmin': 0.0},\n",
      "                    'time': 17.0},\n",
      "                  { 'floating_species_counts': { 'plasmin': 0.005164793946093621,\n",
      "                                                 'plasminogen': 1.5455024515735356,\n",
      "                                                 'single intact chain urokinase-type plasminogen activator': 0.36461036692256155,\n",
      "                                                 'two-chain urokinase-type plasminogen activator': 6.953773235003841e-06,\n",
      "                                                 'x': 0.0,\n",
      "                                                 'x-plasmin': 0.0},\n",
      "                    'time': 18.0},\n",
      "                  { 'floating_species_counts': { 'plasmin': 0.006047383104386874,\n",
      "                                                 'plasminogen': 1.6921746175091137,\n",
      "                                                 'single intact chain urokinase-type plasminogen activator': 0.39538614719580617,\n",
      "                                                 'two-chain urokinase-type plasminogen activator': 9.69523756969107e-06,\n",
      "                                                 'x': 0.0,\n",
      "                                                 'x-plasmin': 0.0},\n",
      "                    'time': 19.0},\n",
      "                  { 'floating_species_counts': { 'plasmin': 0.007014993053119017,\n",
      "                                                 'plasminogen': 1.8439091035956074,\n",
      "                                                 'single intact chain urokinase-type plasminogen activator': 0.4267506245419417,\n",
      "                                                 'two-chain urokinase-type plasminogen activator': 1.3238294809955793e-05,\n",
      "                                                 'x': 0.0,\n",
      "                                                 'x-plasmin': 0.0},\n",
      "                    'time': 20.0},\n",
      "                  { 'floating_species_counts': { 'plasmin': 0.008069016915307411,\n",
      "                                                 'plasminogen': 2.0005380210179786,\n",
      "                                                 'single intact chain urokinase-type plasminogen activator': 0.45865614814733663,\n",
      "                                                 'two-chain urokinase-type plasminogen activator': 1.7738590250958243e-05,\n",
      "                                                 'x': 0.0,\n",
      "                                                 'x-plasmin': 0.0},\n",
      "                    'time': 21.0},\n",
      "                  { 'floating_species_counts': { 'plasmin': 0.009210530974935073,\n",
      "                                                 'plasminogen': 2.1618989782763527,\n",
      "                                                 'single intact chain urokinase-type plasminogen activator': 0.4910588797859212,\n",
      "                                                 'two-chain urokinase-type plasminogen activator': 2.336580816263835e-05,\n",
      "                                                 'x': 0.0,\n",
      "                                                 'x-plasmin': 0.0},\n",
      "                    'time': 22.0},\n",
      "                  { 'floating_species_counts': { 'plasmin': 0.010440318969900256,\n",
      "                                                 'plasminogen': 2.3278349093337694,\n",
      "                                                 'single intact chain urokinase-type plasminogen activator': 0.5239184864728671,\n",
      "                                                 'two-chain urokinase-type plasminogen activator': 3.0302711397822668e-05,\n",
      "                                                 'x': 0.0,\n",
      "                                                 'x-plasmin': 0.0},\n",
      "                    'time': 23.0},\n",
      "                  { 'floating_species_counts': { 'plasmin': 0.011758896555008839,\n",
      "                                                 'plasminogen': 2.4981939049975397,\n",
      "                                                 'single intact chain urokinase-type plasminogen activator': 0.5571978581897375,\n",
      "                                                 'two-chain urokinase-type plasminogen activator': 3.874398929657011e-05,\n",
      "                                                 'x': 0.0,\n",
      "                                                 'x-plasmin': 0.0},\n",
      "                    'time': 24.0},\n",
      "                  { 'floating_species_counts': { 'plasmin': 0.013166535518912286,\n",
      "                                                 'plasminogen': 2.672829047822026,\n",
      "                                                 'single intact chain urokinase-type plasminogen activator': 0.5908628484796565,\n",
      "                                                 'two-chain urokinase-type plasminogen activator': 4.88949545483709e-05,\n",
      "                                                 'x': 0.0,\n",
      "                                                 'x-plasmin': 0.0},\n",
      "                    'time': 25.0},\n",
      "                  { 'floating_species_counts': { 'plasmin': 0.01466328741675536,\n",
      "                                                 'plasminogen': 2.8515982508222604,\n",
      "                                                 'single intact chain urokinase-type plasminogen activator': 0.6248820362662922,\n",
      "                                                 'two-chain urokinase-type plasminogen activator': 6.0970127340934e-05,\n",
      "                                                 'x': 0.0,\n",
      "                                                 'x-plasmin': 0.0},\n",
      "                    'time': 26.0},\n",
      "                  { 'floating_species_counts': { 'plasmin': 0.016249006359856908,\n",
      "                                                 'plasminogen': 3.0343641001741783,\n",
      "                                                 'single intact chain urokinase-type plasminogen activator': 0.6592265070283742,\n",
      "                                                 'two-chain urokinase-type plasminogen activator': 7.519174621166138e-05,\n",
      "                                                 'x': 0.0,\n",
      "                                                 'x-plasmin': 0.0},\n",
      "                    'time': 27.0},\n",
      "                  { 'floating_species_counts': { 'plasmin': 0.017923370766672088,\n",
      "                                                 'plasminogen': 3.2209937020482498,\n",
      "                                                 'single intact chain urokinase-type plasminogen activator': 0.6938696517545451,\n",
      "                                                 'two-chain urokinase-type plasminogen activator': 9.17882413141594e-05,\n",
      "                                                 'x': 0.0,\n",
      "                                                 'x-plasmin': 0.0},\n",
      "                    'time': 28.0},\n",
      "                  { 'floating_species_counts': { 'plasmin': 0.01968590393283723,\n",
      "                                                 'plasminogen': 3.411358533679481,\n",
      "                                                 'single intact chain urokinase-type plasminogen activator': 0.7287869822242766,\n",
      "                                                 'two-chain urokinase-type plasminogen activator': 0.00011099270258599119,\n",
      "                                                 'x': 0.0,\n",
      "                                                 'x-plasmin': 0.0},\n",
      "                    'time': 29.0},\n",
      "                  { 'floating_species_counts': { 'plasmin': 0.021535993324549866,\n",
      "                                                 'plasminogen': 3.6053342987363917,\n",
      "                                                 'single intact chain urokinase-type plasminogen activator': 0.7639559612712573,\n",
      "                                                 'two-chain urokinase-type plasminogen activator': 0.00013304137144864997,\n",
      "                                                 'x': 0.0,\n",
      "                                                 'x-plasmin': 0.0},\n",
      "                    'time': 30.0}]}\n"
     ]
    }
   ],
   "source": [
    "pp(results)"
   ]
  },
  {
   "cell_type": "code",
   "execution_count": 9,
   "id": "76259bde7fd711f5",
   "metadata": {
    "ExecuteTime": {
     "end_time": "2024-05-01T08:48:49.507944Z",
     "start_time": "2024-05-01T08:48:49.492970Z"
    }
   },
   "outputs": [],
   "source": [
    "emitter = workflow.state['emitter']['instance']"
   ]
  },
  {
   "cell_type": "code",
   "execution_count": 10,
   "id": "7924d2e8b42e432d",
   "metadata": {
    "ExecuteTime": {
     "end_time": "2024-05-01T08:48:50.127003Z",
     "start_time": "2024-05-01T08:48:50.116472Z"
    }
   },
   "outputs": [
    {
     "data": {
      "text/plain": [
       "{'copasi': {'_type': 'process',\n",
       "  'address': 'local:copasi',\n",
       "  'config': {'model': {'model_source': '../biosimulator_processes/model_files/sbml/BIOMD0000000630_url.xml'},\n",
       "   'method': 'lsoda',\n",
       "   'species_context': 'counts'},\n",
       "  'inputs': {'floating_species_counts': ['floating_species_counts_store'],\n",
       "   'model_parameters': ['model_parameters_store'],\n",
       "   'time': ['time_store'],\n",
       "   'reactions': ['reactions_store']},\n",
       "  'outputs': {'floating_species_counts': ['floating_species_counts_store'],\n",
       "   'time': ['time_store']}},\n",
       " 'emitter': {'_type': 'step',\n",
       "  'address': 'local:ram-emitter',\n",
       "  'config': {'emit': {'floating_species_counts': 'tree[float]',\n",
       "    'time': 'float'}},\n",
       "  'inputs': {'floating_species_counts': ['floating_species_counts_store'],\n",
       "   'time': ['time_store']}},\n",
       " 'plotter2d': {'_type': 'step',\n",
       "  'address': 'local:plotter2d',\n",
       "  'config': {'duration': 30,\n",
       "   'species_context': 'counts',\n",
       "   'process': ['copasi']},\n",
       "  'inputs': {'floating_species_counts': ['floating_species_counts_store']}},\n",
       " 'global_time': 0.0}"
      ]
     },
     "execution_count": 10,
     "metadata": {},
     "output_type": "execute_result"
    }
   ],
   "source": [
    "document"
   ]
  },
  {
   "cell_type": "code",
   "execution_count": 10,
   "id": "27ae371af7ff2fa6",
   "metadata": {
    "ExecuteTime": {
     "end_time": "2024-04-30T22:29:40.209636Z",
     "start_time": "2024-04-30T22:29:40.137747Z"
    }
   },
   "outputs": [
    {
     "ename": "NameError",
     "evalue": "name 'x' is not defined",
     "output_type": "error",
     "traceback": [
      "\u001b[0;31m---------------------------------------------------------------------------\u001b[0m",
      "\u001b[0;31mNameError\u001b[0m                                 Traceback (most recent call last)",
      "Cell \u001b[0;32mIn[10], line 1\u001b[0m\n\u001b[0;32m----> 1\u001b[0m \u001b[43mx\u001b[49m\n",
      "\u001b[0;31mNameError\u001b[0m: name 'x' is not defined"
     ]
    }
   ],
   "source": [
    "\n",
    "\n",
    "x"
   ]
  },
  {
   "cell_type": "code",
   "execution_count": null,
   "id": "136275c9f8743a57",
   "metadata": {
    "ExecuteTime": {
     "end_time": "2024-04-30T22:29:40.211063Z",
     "start_time": "2024-04-30T22:29:40.211009Z"
    }
   },
   "outputs": [],
   "source": [
    "from biosimulator_processes.steps.viz import parse_composition_results\n",
    "\n",
    "\n",
    "results = parse_composition_results(workflow)\n",
    "\n",
    "pp(results)"
   ]
  },
  {
   "cell_type": "code",
   "execution_count": null,
   "id": "f6bbb65c9a862f12",
   "metadata": {},
   "outputs": [],
   "source": [
    "y_data = []\n",
    "times = list(results.keys())\n",
    "index = 'floating_species_concentrations'\n",
    "\n",
    "\n",
    "    \n",
    "\n",
    "for timestamp, result in results.items():\n",
    "    \n",
    "    root_data = result[index]\n",
    "    names = list(root_data.keys())\n",
    "    for name in names:\n",
    "        y_data.append(results[timestamp][index][name])\n",
    "        print(f'Got data for name {name}: {y_data}')\n",
    "        y_data.clear()\n",
    "        \n",
    "        \n",
    "        "
   ]
  },
  {
   "cell_type": "code",
   "execution_count": null,
   "id": "150dc15755417a42",
   "metadata": {},
   "outputs": [],
   "source": [
    "workflow.state['global_time']"
   ]
  },
  {
   "cell_type": "code",
   "execution_count": null,
   "id": "b1614b8359c0651f",
   "metadata": {},
   "outputs": [],
   "source": [
    "from biosimulator_processes.steps.viz import ResultsAnimation, Plotter2d"
   ]
  },
  {
   "cell_type": "code",
   "execution_count": null,
   "id": "601a2e10c945b363",
   "metadata": {},
   "outputs": [],
   "source": [
    "output = results.copy()"
   ]
  },
  {
   "cell_type": "code",
   "execution_count": null,
   "id": "538db282c51069d6",
   "metadata": {},
   "outputs": [],
   "source": [
    "output_vals = output[('emitter',)]"
   ]
  },
  {
   "cell_type": "code",
   "execution_count": null,
   "id": "a44c1cc0f9850758",
   "metadata": {},
   "outputs": [],
   "source": [
    "timescale = list(set([val.get('time', 0.0) for val in output_vals]))"
   ]
  },
  {
   "cell_type": "code",
   "execution_count": null,
   "id": "5c510ec6dac592eb",
   "metadata": {},
   "outputs": [],
   "source": [
    "timescale"
   ]
  },
  {
   "cell_type": "code",
   "execution_count": null,
   "id": "f27e97fdebb17b07",
   "metadata": {},
   "outputs": [],
   "source": [
    "data = []\n",
    "counts_data = []"
   ]
  },
  {
   "cell_type": "code",
   "execution_count": null,
   "id": "c476add07372b47c",
   "metadata": {},
   "outputs": [],
   "source": [
    "for i, val in enumerate(output_vals):\n",
    "    species_data = val.get('floating_species_concentrations')\n",
    "    data.append(species_data.get('plasminogen'))\n",
    "    counts = val.get('floating_species_counts')\n",
    "    counts_data.append(counts.get('plasminogen'))"
   ]
  },
  {
   "cell_type": "code",
   "execution_count": null,
   "id": "f84f85bf43a82b40",
   "metadata": {},
   "outputs": [],
   "source": [
    "len(timescale), len(data)"
   ]
  },
  {
   "cell_type": "code",
   "execution_count": null,
   "id": "4311ca8a4fce3a7c",
   "metadata": {},
   "outputs": [],
   "source": [
    "Plotter2d.plot_single_output(timescale=timescale, data=data, species_name='plasminogen concentration')"
   ]
  },
  {
   "cell_type": "code",
   "execution_count": null,
   "id": "a385d75479e50b1c",
   "metadata": {},
   "outputs": [],
   "source": [
    "Plotter2d.plot_single_output(timescale=timescale, data=counts_data, species_name='plasminogen counts', plot_concentration=False)"
   ]
  },
  {
   "cell_type": "code",
   "execution_count": null,
   "id": "4b07263ce48d2094",
   "metadata": {},
   "outputs": [],
   "source": [
    "Plotter2d.plot_output(x_data=data, y_data=counts_data, title='Plasminogen concentration over counts', x_label='concentration', y_label='counts', species='plasminogen')"
   ]
  },
  {
   "cell_type": "code",
   "execution_count": null,
   "id": "1e5efa38b0de7505",
   "metadata": {},
   "outputs": [],
   "source": []
  },
  {
   "cell_type": "code",
   "execution_count": 9,
   "id": "65cf4a00f212edaa",
   "metadata": {
    "ExecuteTime": {
     "end_time": "2024-05-01T03:34:05.237409Z",
     "start_time": "2024-05-01T03:34:05.068193Z"
    }
   },
   "outputs": [
    {
     "ename": "AttributeError",
     "evalue": "'list' object has no attribute 'join'",
     "output_type": "error",
     "traceback": [
      "\u001b[0;31m---------------------------------------------------------------------------\u001b[0m",
      "\u001b[0;31mAttributeError\u001b[0m                            Traceback (most recent call last)",
      "Cell \u001b[0;32mIn[9], line 8\u001b[0m\n\u001b[1;32m      6\u001b[0m     module__\u001b[38;5;241m.\u001b[39mpop(i)\n\u001b[1;32m      7\u001b[0m     module__\u001b[38;5;241m.\u001b[39minsert(i, val)\n\u001b[0;32m----> 8\u001b[0m \u001b[38;5;28mprint\u001b[39m(\u001b[43mmodule__\u001b[49m\u001b[38;5;241;43m.\u001b[39;49m\u001b[43mjoin\u001b[49m())\n\u001b[1;32m      9\u001b[0m import_statement \u001b[38;5;241m=\u001b[39m \u001b[38;5;124mf\u001b[39m\u001b[38;5;124m'\u001b[39m\u001b[38;5;124mbiosimulator_processes.processes.\u001b[39m\u001b[38;5;132;01m{\u001b[39;00mmodule_name\u001b[38;5;132;01m}\u001b[39;00m\u001b[38;5;124m'\u001b[39m\n\u001b[1;32m     11\u001b[0m module \u001b[38;5;241m=\u001b[39m \u001b[38;5;28m__import__\u001b[39m(\n\u001b[1;32m     12\u001b[0m     import_statement, fromlist\u001b[38;5;241m=\u001b[39m[class_name])\n",
      "\u001b[0;31mAttributeError\u001b[0m: 'list' object has no attribute 'join'"
     ]
    }
   ],
   "source": [
    "class_name = 'TelluriumProcess'\n",
    "module_name = 'tellurium_process'\n",
    "module__ = module_name.split('_')\n",
    "for i, v in enumerate(module__):\n",
    "    val = v.replace(v[0], v[0].upper())\n",
    "    module__.pop(i)\n",
    "    module__.insert(i, val)\n",
    "print(module__.join())\n",
    "import_statement = f'biosimulator_processes.processes.{module_name}'\n",
    "\n",
    "module = __import__(\n",
    "    import_statement, fromlist=[class_name])"
   ]
  },
  {
   "cell_type": "code",
   "execution_count": 6,
   "id": "2b43d4e3d39be4ff",
   "metadata": {
    "ExecuteTime": {
     "end_time": "2024-05-01T03:28:41.709741Z",
     "start_time": "2024-05-01T03:28:41.696321Z"
    },
    "collapsed": false
   },
   "outputs": [
    {
     "data": {
      "text/plain": [
       "<module 'biosimulator_processes.processes.tellurium_process' from '/Users/alex/Desktop/uchc_work/repos/biosimulator-processes/biosimulator_processes/processes/tellurium_process.py'>"
      ]
     },
     "execution_count": 6,
     "metadata": {},
     "output_type": "execute_result"
    }
   ],
   "source": [
    "module"
   ]
  },
  {
   "cell_type": "code",
   "execution_count": 7,
   "id": "db19fb9af030507",
   "metadata": {
    "ExecuteTime": {
     "end_time": "2024-05-01T03:28:42.151345Z",
     "start_time": "2024-05-01T03:28:42.148192Z"
    },
    "collapsed": false
   },
   "outputs": [
    {
     "data": {
      "text/plain": [
       "['tellurium', 'process']"
      ]
     },
     "execution_count": 7,
     "metadata": {},
     "output_type": "execute_result"
    }
   ],
   "source": [
    "class_name\n"
   ]
  },
  {
   "cell_type": "code",
   "execution_count": 17,
   "id": "9aa632d6ba1240d1",
   "metadata": {
    "ExecuteTime": {
     "end_time": "2024-05-01T05:20:13.364158Z",
     "start_time": "2024-05-01T05:20:13.357943Z"
    },
    "collapsed": false
   },
   "outputs": [
    {
     "data": {
      "text/plain": [
       "[2, 2]"
      ]
     },
     "execution_count": 17,
     "metadata": {},
     "output_type": "execute_result"
    }
   ],
   "source": [
    "x = list(range(10))\n",
    "y = list(range(10))\n",
    "z = [x, y]\n",
    "\n",
    "def func(z):\n",
    "    for i, v in enumerate(z):\n",
    "        if z[i + 1] != z[i]:\n",
    "            return"
   ]
  },
  {
   "cell_type": "code",
   "execution_count": null,
   "id": "5e19d61cb651a822",
   "metadata": {
    "collapsed": false
   },
   "outputs": [],
   "source": []
  }
 ],
 "metadata": {
  "kernelspec": {
   "display_name": "Python 3",
   "language": "python",
   "name": "python3"
  },
  "language_info": {
   "codemirror_mode": {
    "name": "ipython",
    "version": 2
   },
   "file_extension": ".py",
   "mimetype": "text/x-python",
   "name": "python",
   "nbconvert_exporter": "python",
   "pygments_lexer": "ipython2",
   "version": "2.7.6"
  }
 },
 "nbformat": 4,
 "nbformat_minor": 5
}
