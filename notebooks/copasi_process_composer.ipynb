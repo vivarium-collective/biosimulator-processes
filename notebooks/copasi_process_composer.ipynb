{
 "cells": [
  {
   "cell_type": "markdown",
   "id": "9f7cc96191d5a2ba",
   "metadata": {
    "collapsed": false
   },
   "source": [
    "## Examples with ```CopasiProcess``` using ``builder.Builder`` and ``biosimulator_processes.data_model``"
   ]
  },
  {
   "cell_type": "code",
   "execution_count": 1,
   "id": "b43cd4493a594e60",
   "metadata": {
    "ExecuteTime": {
     "end_time": "2024-03-07T16:41:55.315036Z",
     "start_time": "2024-03-07T16:41:55.309414Z"
    },
    "collapsed": false
   },
   "outputs": [],
   "source": [
    "import sys \n",
    "\n",
    "sys.path.insert(0, '..')"
   ]
  },
  {
   "cell_type": "code",
   "execution_count": 2,
   "id": "65385e04f4f5dd1a",
   "metadata": {
    "ExecuteTime": {
     "end_time": "2024-03-07T16:41:59.520658Z",
     "start_time": "2024-03-07T16:41:55.719508Z"
    },
    "collapsed": false
   },
   "outputs": [
    {
     "name": "stdout",
     "output_type": "stream",
     "text": [
      "CobraProcess registered successfully.\n",
      "CopasiProcess registered successfully.\n",
      "SmoldynProcess registered successfully.\n",
      "TelluriumProcess registered successfully.\n",
      "DeterministicTimeCourseParameterScan registered successfully.\n"
     ]
    }
   ],
   "source": [
    "import os \n",
    "from process_bigraph import pp, pf \n",
    "from biosimulator_processes.data_model import *\n",
    "from biosimulator_processes.biosimulator_builder import BiosimulatorBuilder"
   ]
  },
  {
   "cell_type": "code",
   "execution_count": 7,
   "id": "fa916d7eab0457c6",
   "metadata": {
    "ExecuteTime": {
     "end_time": "2024-03-06T21:02:56.601968Z",
     "start_time": "2024-03-06T21:02:56.597066Z"
    },
    "collapsed": false
   },
   "outputs": [
    {
     "data": {
      "text/plain": [
       "{'process_name': 'Rose'}"
      ]
     },
     "execution_count": 7,
     "metadata": {},
     "output_type": "execute_result"
    }
   ],
   "source": [
    "c = {'process_name': 'Rose'}\n",
    "config = ProcessConfig(**c)\n",
    "\n",
    "config.model_dump()"
   ]
  },
  {
   "cell_type": "markdown",
   "id": "99dbe025aeccc23e",
   "metadata": {
    "collapsed": false
   },
   "source": [
    "#### Initialize a fresh instance of the `BiosimulatorBuilder`, which is inherently configured by `biosimulator_processes.CORE` in the top level."
   ]
  },
  {
   "cell_type": "code",
   "execution_count": null,
   "id": "cc709690e20090cf",
   "metadata": {
    "collapsed": false
   },
   "outputs": [],
   "source": [
    "b = BiosimulatorBuilder()"
   ]
  },
  {
   "cell_type": "markdown",
   "id": "eea00feb4c2651d6",
   "metadata": {
    "collapsed": false
   },
   "source": [
    "#### Example 1: Add a simple `CopasiProcess`-based composite to the bigraph, specifying parameter values through the `data_model`. For now, let's try loading a biomodel and adding a change to initial concentration of a species. We will then add another copasi process instance, whose model is this time loaded from a file (to demonstrate the data model)"
   ]
  },
  {
   "cell_type": "markdown",
   "id": "640f49c1e61f116d",
   "metadata": {
    "collapsed": false
   },
   "source": [
    "Let's define a model instance from a file."
   ]
  },
  {
   "cell_type": "code",
   "execution_count": 3,
   "id": "edf123175ec3408c",
   "metadata": {
    "ExecuteTime": {
     "end_time": "2024-03-07T16:42:02.138096Z",
     "start_time": "2024-03-07T16:42:02.133186Z"
    },
    "collapsed": false
   },
   "outputs": [
    {
     "data": {
      "text/plain": [
       "True"
      ]
     },
     "execution_count": 3,
     "metadata": {},
     "output_type": "execute_result"
    }
   ],
   "source": [
    "model_filepath = '../biosimulator_processes/model_files/BIOMD0000000061_url.xml'\n",
    "\n",
    "os.path.exists(model_filepath)"
   ]
  },
  {
   "cell_type": "code",
   "execution_count": null,
   "id": "40ab6f70ac3f4996",
   "metadata": {
    "collapsed": false
   },
   "outputs": [],
   "source": [
    "# Uncomment if you wish to inspect the species referenced below\n",
    "# model_from_file = load_model(model_filepath)\n",
    "# get_species(model=model_from_file)"
   ]
  },
  {
   "cell_type": "code",
   "execution_count": null,
   "id": "d02a547b85138f96",
   "metadata": {
    "collapsed": false
   },
   "outputs": [],
   "source": [
    "# 1. specify model changes (we know the model specs as we are providing the file. TODO: allow users to introspect the model before change)\n",
    "process_model_changes = TimeCourseModelChanges(\n",
    "    species_changes=[SpeciesChanges(name='ADP', initial_concentration=2.1**3)]\n",
    ")\n",
    "\n",
    "\n",
    "pp(process_model_changes.model_dump())"
   ]
  },
  {
   "cell_type": "code",
   "execution_count": null,
   "id": "1b6c269646357d7d",
   "metadata": {
    "collapsed": false
   },
   "outputs": [],
   "source": [
    "# 2. define the model schema to be used by the composite process (one of the copasiprocess config parameters)\n",
    "\n",
    "process_model_from_file = TimeCourseModel(\n",
    "    model_id='copasi_process_from_file',\n",
    "    model_source=model_filepath,\n",
    "    model_name='Simple Composite Process from File',\n",
    "    model_changes=process_model_changes\n",
    ")\n",
    "\n",
    "\n",
    "pp(process_model_from_file.model_dump())"
   ]
  },
  {
   "cell_type": "code",
   "execution_count": null,
   "id": "5d434956e65b1a42",
   "metadata": {
    "collapsed": false
   },
   "outputs": [],
   "source": [
    "# 3. Define config schema to be used as 'config' parameter of Process constructor\n",
    "process_config_from_file = CopasiProcessConfigSchema(\n",
    "    method='deterministic',\n",
    "    model=process_model_from_file,\n",
    "    process_name='simple_copasi_from_file'\n",
    ")\n",
    "\n",
    "\n",
    "pp(process_config_from_file.model_dump())"
   ]
  },
  {
   "cell_type": "code",
   "execution_count": null,
   "id": "de88e95d8f616779",
   "metadata": {
    "collapsed": false
   },
   "outputs": [],
   "source": [
    "process_config_from_file.process_name, process_config_from_file.method, process_config_from_file.model"
   ]
  },
  {
   "cell_type": "code",
   "execution_count": null,
   "id": "52d81ea2ea688d47",
   "metadata": {
    "collapsed": false
   },
   "outputs": [],
   "source": [
    "# 4. Add the process instance by the name of 'simple_copasi' to the builder\n",
    "\n",
    "\n",
    "b[process_config_from_file.process_name].add_process(\n",
    "    name='CopasiProcess',\n",
    "    model=process_config_from_file.model,\n",
    "    method=process_config_from_file.method\n",
    ")"
   ]
  },
  {
   "cell_type": "markdown",
   "id": "80fd1a5aca61b442",
   "metadata": {
    "collapsed": false
   },
   "source": [
    "Let's now add a biomodel with adjusted params (we know ahead of time)"
   ]
  },
  {
   "cell_type": "code",
   "execution_count": null,
   "id": "f499f96a817d9faf",
   "metadata": {
    "collapsed": false
   },
   "outputs": [],
   "source": [
    "# Uncomment if you wish to introspect the model referred below\n",
    "# from basico import *\n",
    "# from basico import biomodels\n",
    "# \n",
    "# \n",
    "# biomodel_id = 'BIOMD0000000861'\n",
    "# biomodel = load_biomodel(biomodel_id)\n",
    "# get_species(model=biomodel)"
   ]
  },
  {
   "cell_type": "code",
   "execution_count": null,
   "id": "c24594c6e8229e20",
   "metadata": {
    "collapsed": false
   },
   "outputs": [],
   "source": [
    "# reaction_names = get_reactions(model=biomodel)\n",
    "# \n",
    "# reaction_names"
   ]
  },
  {
   "cell_type": "code",
   "execution_count": null,
   "id": "454db50d61220bc5",
   "metadata": {
    "collapsed": false
   },
   "outputs": [],
   "source": [
    "rparam = ReactionParameter(\n",
    "    parameter_name='EpoRpRJAK2',\n",
    "    value=21312.2\n",
    ")\n",
    "\n",
    "rparam2 = ReactionParameter(\n",
    "    parameter_name='EpoRJAK2',\n",
    "    value=21312.2\n",
    ")\n",
    "\n",
    "rc1 = ReactionChanges(\n",
    "    reaction_name='reaction_1',\n",
    "    parameter_changes=[rparam, rparam2]\n",
    ")\n",
    "\n",
    "rc2 = ReactionChanges(\n",
    "    reaction_name='reaction_11',\n",
    "    reaction_scheme='A + B -> C'\n",
    ")"
   ]
  },
  {
   "cell_type": "code",
   "execution_count": null,
   "id": "bd6781fe4a749c29",
   "metadata": {
    "collapsed": false
   },
   "outputs": [],
   "source": [
    "biomodel_process_changes = TimeCourseModelChanges(\n",
    "    reaction_changes=[rc1, rc2]\n",
    ")"
   ]
  },
  {
   "cell_type": "code",
   "execution_count": null,
   "id": "e414174a2d6d331b",
   "metadata": {
    "collapsed": false
   },
   "outputs": [],
   "source": [
    "pp(biomodel_process_changes.model_dump())"
   ]
  },
  {
   "cell_type": "code",
   "execution_count": null,
   "id": "9de88bc52fb9a164",
   "metadata": {
    "collapsed": false
   },
   "outputs": [],
   "source": [
    "biomodel_id = 'BIOMD0000000861'\n",
    "\n",
    "\n",
    "biomodel_process_model = TimeCourseModel(\n",
    "    model_id=biomodel_id,\n",
    "    model_source=biomodel_id,\n",
    "    model_name='composite_from_biomodel',\n",
    "    model_changes=biomodel_process_changes\n",
    ")\n",
    "\n",
    "pp(biomodel_process_model.model_dump())"
   ]
  },
  {
   "cell_type": "code",
   "execution_count": null,
   "id": "25ba11c1e1e75f94",
   "metadata": {
    "collapsed": false
   },
   "outputs": [],
   "source": [
    "biomodel_process_config = CopasiProcessConfigSchema(\n",
    "    process_name='copasi_process_from_biomodel',\n",
    "    model=biomodel_process_model,\n",
    "    method='stochastic'\n",
    ")\n",
    "\n",
    "\n",
    "pp(biomodel_process_config.model_dump())"
   ]
  },
  {
   "cell_type": "markdown",
   "id": "535828632bf115d",
   "metadata": {
    "collapsed": false
   },
   "source": [
    "Add the biomodel config to the bigraph"
   ]
  },
  {
   "cell_type": "code",
   "execution_count": null,
   "id": "4c3f073b10e2dcc0",
   "metadata": {
    "collapsed": false
   },
   "outputs": [],
   "source": [
    "b[biomodel_process_config.process_name].add_process(\n",
    "    name='CopasiProcess',\n",
    "    model=biomodel_process_config.model,\n",
    "    method=biomodel_process_config.method\n",
    ")"
   ]
  },
  {
   "cell_type": "markdown",
   "id": "974b09970316d79b",
   "metadata": {
    "collapsed": false
   },
   "source": [
    "Visualize the added processes"
   ]
  },
  {
   "cell_type": "code",
   "execution_count": null,
   "id": "c5e03e6714faf9f4",
   "metadata": {
    "collapsed": false
   },
   "outputs": [],
   "source": [
    "b.visualize()"
   ]
  },
  {
   "cell_type": "markdown",
   "id": "1438b52fbe49c4eb",
   "metadata": {
    "collapsed": false
   },
   "source": [
    "Connect the processes together with the default store name:"
   ]
  },
  {
   "cell_type": "code",
   "execution_count": null,
   "id": "d9bef3f51b50fbd5",
   "metadata": {
    "collapsed": false
   },
   "outputs": [],
   "source": [
    "b.connect_all(append_to_store_name='_store')\n",
    "\n",
    "b"
   ]
  },
  {
   "cell_type": "code",
   "execution_count": null,
   "id": "30ace33f0337beb4",
   "metadata": {
    "collapsed": false
   },
   "outputs": [],
   "source": [
    "b.visualize()"
   ]
  },
  {
   "cell_type": "markdown",
   "id": "2ddd8fe2c30fc39d",
   "metadata": {
    "collapsed": false
   },
   "source": [
    "Run composite "
   ]
  },
  {
   "cell_type": "code",
   "execution_count": null,
   "id": "9ead193eb649adff",
   "metadata": {
    "collapsed": false
   },
   "outputs": [],
   "source": [
    "composite = b.generate()"
   ]
  },
  {
   "cell_type": "code",
   "execution_count": null,
   "id": "e0634facb532124e",
   "metadata": {
    "collapsed": false
   },
   "outputs": [],
   "source": [
    "composite.run(10)"
   ]
  },
  {
   "cell_type": "markdown",
   "id": "6c866865840d07e5",
   "metadata": {
    "collapsed": false
   },
   "source": [
    "Generate a single process with no model changes from the model_filepath"
   ]
  },
  {
   "cell_type": "code",
   "execution_count": 6,
   "id": "ce4f0c6ccf60f638",
   "metadata": {
    "ExecuteTime": {
     "end_time": "2024-03-05T13:54:17.058839Z",
     "start_time": "2024-03-05T13:54:17.056195Z"
    },
    "collapsed": false
   },
   "outputs": [],
   "source": [
    "b2 = BiosimulatorBuilder()"
   ]
  },
  {
   "cell_type": "code",
   "execution_count": 7,
   "id": "19a579660793cc7c",
   "metadata": {
    "ExecuteTime": {
     "end_time": "2024-03-05T13:54:17.450798Z",
     "start_time": "2024-03-05T13:54:17.448938Z"
    },
    "collapsed": false
   },
   "outputs": [],
   "source": [
    "single_process_model = TimeCourseModel(\n",
    "    model_source=ModelFilepath(value=model_filepath),\n",
    "    model_id='BIOMD0000000061'\n",
    ")"
   ]
  },
  {
   "cell_type": "code",
   "execution_count": 8,
   "id": "680c6eb9d0fecba5",
   "metadata": {
    "ExecuteTime": {
     "end_time": "2024-03-05T13:54:18.543680Z",
     "start_time": "2024-03-05T13:54:18.540392Z"
    },
    "collapsed": false
   },
   "outputs": [
    {
     "name": "stdout",
     "output_type": "stream",
     "text": [
      "{ 'method': 'stochastic',\n",
      "  'model': { 'model_changes': None,\n",
      "             'model_id': 'BIOMD0000000061',\n",
      "             'model_language': 'sbml',\n",
      "             'model_name': 'Unnamed Composite Process TimeCourseModel',\n",
      "             'model_source': { 'value': '../biosimulator_processes/model_files/BIOMD0000000061_url.xml'},\n",
      "             'model_units': None},\n",
      "  'process_name': 'single_copasi_process'}\n"
     ]
    }
   ],
   "source": [
    "single_process_config = CopasiProcessConfigSchema(\n",
    "    process_name='single_copasi_process',\n",
    "    model=single_process_model,\n",
    "    method='stochastic'\n",
    ")\n",
    "\n",
    "pp(single_process_config.model_dump())"
   ]
  },
  {
   "cell_type": "code",
   "execution_count": 9,
   "id": "23bbb7a5bed8008f",
   "metadata": {
    "ExecuteTime": {
     "end_time": "2024-03-05T13:54:19.681159Z",
     "start_time": "2024-03-05T13:54:19.619581Z"
    },
    "collapsed": false
   },
   "outputs": [],
   "source": [
    "b2[single_process_config.process_name].add_process(\n",
    "    name='CopasiProcess',\n",
    "    model=single_process_config.model,\n",
    "    method=single_process_config.method\n",
    ")"
   ]
  },
  {
   "cell_type": "code",
   "execution_count": 10,
   "id": "170e47387a664a4a",
   "metadata": {
    "ExecuteTime": {
     "end_time": "2024-03-05T13:54:20.462239Z",
     "start_time": "2024-03-05T13:54:20.459939Z"
    },
    "collapsed": false
   },
   "outputs": [],
   "source": [
    "b2.connect_all(append_to_store_name='_store')"
   ]
  },
  {
   "cell_type": "code",
   "execution_count": 11,
   "id": "331ecf77da2a7c94",
   "metadata": {
    "ExecuteTime": {
     "end_time": "2024-03-05T13:54:21.053599Z",
     "start_time": "2024-03-05T13:54:20.864756Z"
    },
    "collapsed": false
   },
   "outputs": [
    {
     "data": {
      "image/svg+xml": [
       "<?xml version=\"1.0\" encoding=\"UTF-8\" standalone=\"no\"?>\n",
       "<!DOCTYPE svg PUBLIC \"-//W3C//DTD SVG 1.1//EN\"\n",
       " \"http://www.w3.org/Graphics/SVG/1.1/DTD/svg11.dtd\">\n",
       "<!-- Generated by graphviz version 9.0.0 (20230911.1827)\n",
       " -->\n",
       "<!-- Title: bigraph Pages: 1 -->\n",
       "<svg width=\"1120pt\" height=\"94pt\"\n",
       " viewBox=\"0.00 0.00 1152.00 97.08\" xmlns=\"http://www.w3.org/2000/svg\" xmlns:xlink=\"http://www.w3.org/1999/xlink\">\n",
       "<g id=\"graph0\" class=\"graph\" transform=\"scale(0.165797 0.165797) rotate(0) translate(4 565.27)\">\n",
       "<title>bigraph</title>\n",
       "<polygon fill=\"white\" stroke=\"none\" points=\"-4,4 -4,-565.27 6751.24,-565.27 6751.24,4 -4,4\"/>\n",
       "<!-- (&#39;single_copasi_process&#39;, &#39;interval&#39;) -->\n",
       "<g id=\"node1\" class=\"node\">\n",
       "<title>(&#39;single_copasi_process&#39;, &#39;interval&#39;)</title>\n",
       "<ellipse fill=\"none\" stroke=\"black\" stroke-width=\"2\" cx=\"3161.78\" cy=\"-26.43\" rx=\"26.43\" ry=\"26.43\"/>\n",
       "<text text-anchor=\"start\" x=\"3144.15\" y=\"-22.15\" font-family=\"Times,serif\" font-size=\"12.00\">interval</text>\n",
       "</g>\n",
       "<!-- (&#39;time_store&#39;,) -->\n",
       "<g id=\"node2\" class=\"node\">\n",
       "<title>(&#39;time_store&#39;,)</title>\n",
       "<ellipse fill=\"none\" stroke=\"black\" stroke-width=\"2\" cx=\"3108.78\" cy=\"-485.35\" rx=\"34.83\" ry=\"34.83\"/>\n",
       "<text text-anchor=\"start\" x=\"3084.4\" y=\"-481.07\" font-family=\"Times,serif\" font-size=\"12.00\">time_store</text>\n",
       "</g>\n",
       "<!-- (&#39;single_copasi_process&#39;,) -->\n",
       "<g id=\"node55\" class=\"node\">\n",
       "<title>(&#39;single_copasi_process&#39;,)</title>\n",
       "<polygon fill=\"none\" stroke=\"black\" stroke-width=\"2\" points=\"3217.88,-244.02 3105.68,-244.02 3105.68,-208.02 3217.88,-208.02 3217.88,-244.02\"/>\n",
       "<text text-anchor=\"start\" x=\"3109.28\" y=\"-221.74\" font-family=\"Times,serif\" font-size=\"12.00\">single_copasi_process</text>\n",
       "</g>\n",
       "<!-- (&#39;time_store&#39;,)&#45;&gt;(&#39;single_copasi_process&#39;,) -->\n",
       "<g id=\"edge51\" class=\"edge\">\n",
       "<title>(&#39;time_store&#39;,)&#45;&gt;(&#39;single_copasi_process&#39;,)</title>\n",
       "<path fill=\"none\" stroke=\"black\" stroke-dasharray=\"5,2\" d=\"M3121.21,-452.1C3127.6,-434.41 3135.02,-411.97 3139.78,-391.42 3150.6,-344.7 3156.65,-289.18 3159.56,-256.09\"/>\n",
       "<polygon fill=\"black\" stroke=\"black\" points=\"3163.02,-256.74 3160.37,-246.48 3156.04,-256.16 3163.02,-256.74\"/>\n",
       "<text text-anchor=\"start\" x=\"3141.78\" y=\"-381.92\" font-family=\"Times,serif\" font-size=\"10.00\">time</text>\n",
       "</g>\n",
       "<!-- (&#39;time_store&#39;,)&#45;&gt;(&#39;single_copasi_process&#39;,) -->\n",
       "<g id=\"edge55\" class=\"edge\">\n",
       "<title>(&#39;time_store&#39;,)&#45;&gt;(&#39;single_copasi_process&#39;,)</title>\n",
       "<path fill=\"none\" stroke=\"black\" stroke-dasharray=\"5,2\" d=\"M3110.81,-438.62C3112.12,-420.34 3114.27,-399.15 3117.78,-380.17 3127.04,-330.12 3145.72,-272.9 3155.49,-244.67\"/>\n",
       "<polygon fill=\"black\" stroke=\"black\" points=\"3107.33,-438.16 3110.18,-448.36 3114.32,-438.61 3107.33,-438.16\"/>\n",
       "<text text-anchor=\"start\" x=\"3117.78\" y=\"-381.92\" font-family=\"Times,serif\" font-size=\"10.00\">time</text>\n",
       "</g>\n",
       "<!-- (&#39;floating_species_store&#39;,) -->\n",
       "<g id=\"node3\" class=\"node\">\n",
       "<title>(&#39;floating_species_store&#39;,)</title>\n",
       "<ellipse fill=\"none\" stroke=\"black\" stroke-width=\"2\" cx=\"1713.78\" cy=\"-485.35\" rx=\"69.39\" ry=\"69.39\"/>\n",
       "<text text-anchor=\"start\" x=\"1661.65\" y=\"-481.07\" font-family=\"Times,serif\" font-size=\"12.00\">floating_species_store</text>\n",
       "</g>\n",
       "<!-- (&#39;floating_species_store&#39;, &#39;Extracellular glucose&#39;) -->\n",
       "<g id=\"node4\" class=\"node\">\n",
       "<title>(&#39;floating_species_store&#39;, &#39;Extracellular glucose&#39;)</title>\n",
       "<ellipse fill=\"none\" stroke=\"black\" stroke-width=\"2\" cx=\"3021.78\" cy=\"-226.02\" rx=\"66.12\" ry=\"66.12\"/>\n",
       "<text text-anchor=\"start\" x=\"2972.28\" y=\"-221.74\" font-family=\"Times,serif\" font-size=\"12.00\">Extracellular glucose</text>\n",
       "</g>\n",
       "<!-- (&#39;floating_species_store&#39;,)&#45;&gt;(&#39;floating_species_store&#39;, &#39;Extracellular glucose&#39;) -->\n",
       "<g id=\"edge2\" class=\"edge\">\n",
       "<title>(&#39;floating_species_store&#39;,)&#45;&gt;(&#39;floating_species_store&#39;, &#39;Extracellular glucose&#39;)</title>\n",
       "<path fill=\"none\" stroke=\"black\" stroke-width=\"2\" d=\"M1783.82,-480.19C1954.02,-469.64 2402.71,-439.27 2774.78,-391.42 2851.69,-381.53 2883.5,-407 2946.78,-362.17 2971.63,-344.57 2989.19,-316.01 3001.04,-289.66\"/>\n",
       "</g>\n",
       "<!-- (&#39;floating_species_store&#39;, &#39;Cytosolic glucose&#39;) -->\n",
       "<g id=\"node5\" class=\"node\">\n",
       "<title>(&#39;floating_species_store&#39;, &#39;Cytosolic glucose&#39;)</title>\n",
       "<ellipse fill=\"none\" stroke=\"black\" stroke-width=\"2\" cx=\"56.78\" cy=\"-226.02\" rx=\"56.78\" ry=\"56.78\"/>\n",
       "<text text-anchor=\"start\" x=\"14.78\" y=\"-221.74\" font-family=\"Times,serif\" font-size=\"12.00\">Cytosolic glucose</text>\n",
       "</g>\n",
       "<!-- (&#39;floating_species_store&#39;,)&#45;&gt;(&#39;floating_species_store&#39;, &#39;Cytosolic glucose&#39;) -->\n",
       "<g id=\"edge3\" class=\"edge\">\n",
       "<title>(&#39;floating_species_store&#39;,)&#45;&gt;(&#39;floating_species_store&#39;, &#39;Cytosolic glucose&#39;)</title>\n",
       "<path fill=\"none\" stroke=\"black\" stroke-width=\"2\" d=\"M1643.78,-482.98C1384.34,-477.45 478.18,-454 196.78,-391.42 162.26,-383.75 148.74,-386.19 122.78,-362.17 99.3,-340.45 83.18,-308.57 72.75,-281.23\"/>\n",
       "</g>\n",
       "<!-- (&#39;floating_species_store&#39;, &#39;ATP&#39;) -->\n",
       "<g id=\"node6\" class=\"node\">\n",
       "<title>(&#39;floating_species_store&#39;, &#39;ATP&#39;)</title>\n",
       "<ellipse fill=\"none\" stroke=\"black\" stroke-width=\"2\" cx=\"149.78\" cy=\"-226.02\" rx=\"18.02\" ry=\"18.02\"/>\n",
       "<text text-anchor=\"start\" x=\"138.9\" y=\"-221.74\" font-family=\"Times,serif\" font-size=\"12.00\">ATP</text>\n",
       "</g>\n",
       "<!-- (&#39;floating_species_store&#39;,)&#45;&gt;(&#39;floating_species_store&#39;, &#39;ATP&#39;) -->\n",
       "<g id=\"edge4\" class=\"edge\">\n",
       "<title>(&#39;floating_species_store&#39;,)&#45;&gt;(&#39;floating_species_store&#39;, &#39;ATP&#39;)</title>\n",
       "<path fill=\"none\" stroke=\"black\" stroke-width=\"2\" d=\"M1643.6,-481.87C1442.49,-474.26 846.99,-448.24 355.78,-391.42 275.7,-382.16 234.77,-418.16 176.78,-362.17 144.76,-331.26 145.02,-273.92 147.55,-244.87\"/>\n",
       "</g>\n",
       "<!-- (&#39;floating_species_store&#39;, &#39;Glucose&#45;6&#45;Phosphate&#39;) -->\n",
       "<g id=\"node7\" class=\"node\">\n",
       "<title>(&#39;floating_species_store&#39;, &#39;Glucose&#45;6&#45;Phosphate&#39;)</title>\n",
       "<ellipse fill=\"none\" stroke=\"black\" stroke-width=\"2\" cx=\"253.78\" cy=\"-226.02\" rx=\"67.52\" ry=\"67.52\"/>\n",
       "<text text-anchor=\"start\" x=\"203.15\" y=\"-221.74\" font-family=\"Times,serif\" font-size=\"12.00\">Glucose&#45;6&#45;Phosphate</text>\n",
       "</g>\n",
       "<!-- (&#39;floating_species_store&#39;,)&#45;&gt;(&#39;floating_species_store&#39;, &#39;Glucose&#45;6&#45;Phosphate&#39;) -->\n",
       "<g id=\"edge5\" class=\"edge\">\n",
       "<title>(&#39;floating_species_store&#39;,)&#45;&gt;(&#39;floating_species_store&#39;, &#39;Glucose&#45;6&#45;Phosphate&#39;)</title>\n",
       "<path fill=\"none\" stroke=\"black\" stroke-width=\"2\" d=\"M1643.68,-481.97C1408.34,-473.59 647.86,-443.09 408.78,-391.42 372.18,-383.52 358.26,-386.48 329.78,-362.17 307.26,-342.95 290.06,-315.29 277.77,-290\"/>\n",
       "</g>\n",
       "<!-- (&#39;floating_species_store&#39;, &#39;ADP&#39;) -->\n",
       "<g id=\"node8\" class=\"node\">\n",
       "<title>(&#39;floating_species_store&#39;, &#39;ADP&#39;)</title>\n",
       "<ellipse fill=\"none\" stroke=\"black\" stroke-width=\"2\" cx=\"358.78\" cy=\"-226.02\" rx=\"19.89\" ry=\"19.89\"/>\n",
       "<text text-anchor=\"start\" x=\"346.4\" y=\"-221.74\" font-family=\"Times,serif\" font-size=\"12.00\">ADP</text>\n",
       "</g>\n",
       "<!-- (&#39;floating_species_store&#39;,)&#45;&gt;(&#39;floating_species_store&#39;, &#39;ADP&#39;) -->\n",
       "<g id=\"edge6\" class=\"edge\">\n",
       "<title>(&#39;floating_species_store&#39;,)&#45;&gt;(&#39;floating_species_store&#39;, &#39;ADP&#39;)</title>\n",
       "<path fill=\"none\" stroke=\"black\" stroke-width=\"2\" d=\"M1643.79,-479.87C1467.75,-468.32 992.45,-435.31 597.78,-391.42 504.12,-381.01 456.8,-426.33 387.78,-362.17 355.61,-332.27 354.62,-276.05 356.66,-246.42\"/>\n",
       "</g>\n",
       "<!-- (&#39;floating_species_store&#39;, &#39;Fructose&#45;6&#45;Phosphate&#39;) -->\n",
       "<g id=\"node9\" class=\"node\">\n",
       "<title>(&#39;floating_species_store&#39;, &#39;Fructose&#45;6&#45;Phosphate&#39;)</title>\n",
       "<ellipse fill=\"none\" stroke=\"black\" stroke-width=\"2\" cx=\"464.78\" cy=\"-226.02\" rx=\"68.45\" ry=\"68.45\"/>\n",
       "<text text-anchor=\"start\" x=\"413.4\" y=\"-221.74\" font-family=\"Times,serif\" font-size=\"12.00\">Fructose&#45;6&#45;Phosphate</text>\n",
       "</g>\n",
       "<!-- (&#39;floating_species_store&#39;,)&#45;&gt;(&#39;floating_species_store&#39;, &#39;Fructose&#45;6&#45;Phosphate&#39;) -->\n",
       "<g id=\"edge7\" class=\"edge\">\n",
       "<title>(&#39;floating_species_store&#39;,)&#45;&gt;(&#39;floating_species_store&#39;, &#39;Fructose&#45;6&#45;Phosphate&#39;)</title>\n",
       "<path fill=\"none\" stroke=\"black\" stroke-width=\"2\" d=\"M1643.59,-480.85C1404.77,-468.44 633.4,-423.9 541.78,-362.17 516.81,-345.35 498.98,-317.54 486.81,-291.51\"/>\n",
       "</g>\n",
       "<!-- (&#39;floating_species_store&#39;, &#39;Fructose 1,6&#45;bisphosphate&#39;) -->\n",
       "<g id=\"node10\" class=\"node\">\n",
       "<title>(&#39;floating_species_store&#39;, &#39;Fructose 1,6&#45;bisphosphate&#39;)</title>\n",
       "<ellipse fill=\"none\" stroke=\"black\" stroke-width=\"2\" cx=\"632.78\" cy=\"-226.02\" rx=\"81.53\" ry=\"81.53\"/>\n",
       "<text text-anchor=\"start\" x=\"570.9\" y=\"-221.74\" font-family=\"Times,serif\" font-size=\"12.00\">Fructose 1,6&#45;bisphosphate</text>\n",
       "</g>\n",
       "<!-- (&#39;floating_species_store&#39;,)&#45;&gt;(&#39;floating_species_store&#39;, &#39;Fructose 1,6&#45;bisphosphate&#39;) -->\n",
       "<g id=\"edge8\" class=\"edge\">\n",
       "<title>(&#39;floating_species_store&#39;,)&#45;&gt;(&#39;floating_species_store&#39;, &#39;Fructose 1,6&#45;bisphosphate&#39;)</title>\n",
       "<path fill=\"none\" stroke=\"black\" stroke-width=\"2\" d=\"M1643.67,-483.13C1444.31,-478.52 878.57,-457.18 723.78,-362.17 700.03,-347.6 681.09,-324.23 666.76,-300.99\"/>\n",
       "</g>\n",
       "<!-- (&#39;floating_species_store&#39;, &#39;Glyceraldehyde 3&#45;phosphate&#39;) -->\n",
       "<g id=\"node11\" class=\"node\">\n",
       "<title>(&#39;floating_species_store&#39;, &#39;Glyceraldehyde 3&#45;phosphate&#39;)</title>\n",
       "<ellipse fill=\"none\" stroke=\"black\" stroke-width=\"2\" cx=\"821.78\" cy=\"-226.02\" rx=\"89\" ry=\"89\"/>\n",
       "<text text-anchor=\"start\" x=\"753.9\" y=\"-221.74\" font-family=\"Times,serif\" font-size=\"12.00\">Glyceraldehyde 3&#45;phosphate</text>\n",
       "</g>\n",
       "<!-- (&#39;floating_species_store&#39;,)&#45;&gt;(&#39;floating_species_store&#39;, &#39;Glyceraldehyde 3&#45;phosphate&#39;) -->\n",
       "<g id=\"edge9\" class=\"edge\">\n",
       "<title>(&#39;floating_species_store&#39;,)&#45;&gt;(&#39;floating_species_store&#39;, &#39;Glyceraldehyde 3&#45;phosphate&#39;)</title>\n",
       "<path fill=\"none\" stroke=\"black\" stroke-width=\"2\" d=\"M1643.84,-480.45C1473.31,-469.87 1041.2,-436.3 919.78,-362.17 897.14,-348.36 878.17,-327.15 863.13,-305.6\"/>\n",
       "</g>\n",
       "<!-- (&#39;floating_species_store&#39;, &#39;Dihydroxyacetone phosphate&#39;) -->\n",
       "<g id=\"node12\" class=\"node\">\n",
       "<title>(&#39;floating_species_store&#39;, &#39;Dihydroxyacetone phosphate&#39;)</title>\n",
       "<ellipse fill=\"none\" stroke=\"black\" stroke-width=\"2\" cx=\"1019.78\" cy=\"-226.02\" rx=\"90.87\" ry=\"90.87\"/>\n",
       "<text text-anchor=\"start\" x=\"950.4\" y=\"-221.74\" font-family=\"Times,serif\" font-size=\"12.00\">Dihydroxyacetone phosphate</text>\n",
       "</g>\n",
       "<!-- (&#39;floating_species_store&#39;,)&#45;&gt;(&#39;floating_species_store&#39;, &#39;Dihydroxyacetone phosphate&#39;) -->\n",
       "<g id=\"edge10\" class=\"edge\">\n",
       "<title>(&#39;floating_species_store&#39;,)&#45;&gt;(&#39;floating_species_store&#39;, &#39;Dihydroxyacetone phosphate&#39;)</title>\n",
       "<path fill=\"none\" stroke=\"black\" stroke-width=\"2\" d=\"M1644.09,-477.35C1505.76,-462.31 1202.72,-423.21 1119.78,-362.17 1098.97,-346.86 1080.6,-325.98 1065.47,-305.22\"/>\n",
       "</g>\n",
       "<!-- (&#39;floating_species_store&#39;, &#39;NAD&#39;) -->\n",
       "<g id=\"node13\" class=\"node\">\n",
       "<title>(&#39;floating_species_store&#39;, &#39;NAD&#39;)</title>\n",
       "<ellipse fill=\"none\" stroke=\"black\" stroke-width=\"2\" cx=\"1149.78\" cy=\"-226.02\" rx=\"21.29\" ry=\"21.29\"/>\n",
       "<text text-anchor=\"start\" x=\"1136.28\" y=\"-221.74\" font-family=\"Times,serif\" font-size=\"12.00\">NAD</text>\n",
       "</g>\n",
       "<!-- (&#39;floating_species_store&#39;,)&#45;&gt;(&#39;floating_species_store&#39;, &#39;NAD&#39;) -->\n",
       "<g id=\"edge11\" class=\"edge\">\n",
       "<title>(&#39;floating_species_store&#39;,)&#45;&gt;(&#39;floating_species_store&#39;, &#39;NAD&#39;)</title>\n",
       "<path fill=\"none\" stroke=\"black\" stroke-width=\"2\" d=\"M1643.93,-477.57C1514.43,-463.56 1244.38,-427.2 1179.78,-362.17 1149.46,-331.65 1146.87,-277.73 1148.06,-248.06\"/>\n",
       "</g>\n",
       "<!-- (&#39;floating_species_store&#39;, &#39;1,3&#45;Bisphosphoglycerate&#39;) -->\n",
       "<g id=\"node14\" class=\"node\">\n",
       "<title>(&#39;floating_species_store&#39;, &#39;1,3&#45;Bisphosphoglycerate&#39;)</title>\n",
       "<ellipse fill=\"none\" stroke=\"black\" stroke-width=\"2\" cx=\"1266.78\" cy=\"-226.02\" rx=\"77.79\" ry=\"77.79\"/>\n",
       "<text text-anchor=\"start\" x=\"1207.9\" y=\"-221.74\" font-family=\"Times,serif\" font-size=\"12.00\">1,3&#45;Bisphosphoglycerate</text>\n",
       "</g>\n",
       "<!-- (&#39;floating_species_store&#39;,)&#45;&gt;(&#39;floating_species_store&#39;, &#39;1,3&#45;Bisphosphoglycerate&#39;) -->\n",
       "<g id=\"edge12\" class=\"edge\">\n",
       "<title>(&#39;floating_species_store&#39;,)&#45;&gt;(&#39;floating_species_store&#39;, &#39;1,3&#45;Bisphosphoglycerate&#39;)</title>\n",
       "<path fill=\"none\" stroke=\"black\" stroke-width=\"2\" d=\"M1644.3,-474.79C1566.62,-461.15 1440.39,-429.81 1353.78,-362.17 1331.79,-345 1313.7,-320.62 1299.82,-297.28\"/>\n",
       "</g>\n",
       "<!-- (&#39;floating_species_store&#39;, &#39;NADH&#39;) -->\n",
       "<g id=\"node15\" class=\"node\">\n",
       "<title>(&#39;floating_species_store&#39;, &#39;NADH&#39;)</title>\n",
       "<ellipse fill=\"none\" stroke=\"black\" stroke-width=\"2\" cx=\"1389.78\" cy=\"-226.02\" rx=\"26.9\" ry=\"26.9\"/>\n",
       "<text text-anchor=\"start\" x=\"1371.78\" y=\"-221.74\" font-family=\"Times,serif\" font-size=\"12.00\">NADH</text>\n",
       "</g>\n",
       "<!-- (&#39;floating_species_store&#39;,)&#45;&gt;(&#39;floating_species_store&#39;, &#39;NADH&#39;) -->\n",
       "<g id=\"edge13\" class=\"edge\">\n",
       "<title>(&#39;floating_species_store&#39;,)&#45;&gt;(&#39;floating_species_store&#39;, &#39;NADH&#39;)</title>\n",
       "<path fill=\"none\" stroke=\"black\" stroke-width=\"2\" d=\"M1644.52,-472.9C1578.86,-458.42 1482.13,-427.08 1425.78,-362.17 1399.27,-331.64 1392.02,-283.65 1390.18,-253.83\"/>\n",
       "</g>\n",
       "<!-- (&#39;floating_species_store&#39;, &#39;Phosphoenolpyruvate&#39;) -->\n",
       "<g id=\"node16\" class=\"node\">\n",
       "<title>(&#39;floating_species_store&#39;, &#39;Phosphoenolpyruvate&#39;)</title>\n",
       "<ellipse fill=\"none\" stroke=\"black\" stroke-width=\"2\" cx=\"1502.78\" cy=\"-226.02\" rx=\"68.45\" ry=\"68.45\"/>\n",
       "<text text-anchor=\"start\" x=\"1451.4\" y=\"-221.74\" font-family=\"Times,serif\" font-size=\"12.00\">Phosphoenolpyruvate</text>\n",
       "</g>\n",
       "<!-- (&#39;floating_species_store&#39;,)&#45;&gt;(&#39;floating_species_store&#39;, &#39;Phosphoenolpyruvate&#39;) -->\n",
       "<g id=\"edge14\" class=\"edge\">\n",
       "<title>(&#39;floating_species_store&#39;,)&#45;&gt;(&#39;floating_species_store&#39;, &#39;Phosphoenolpyruvate&#39;)</title>\n",
       "<path fill=\"none\" stroke=\"black\" stroke-width=\"2\" d=\"M1659.17,-441.41C1633.27,-419.41 1602.98,-391.18 1579.78,-362.17 1561.81,-339.71 1545.47,-312.55 1532.51,-288.48\"/>\n",
       "</g>\n",
       "<!-- (&#39;floating_species_store&#39;, &#39;Pyruvate&#39;) -->\n",
       "<g id=\"node17\" class=\"node\">\n",
       "<title>(&#39;floating_species_store&#39;, &#39;Pyruvate&#39;)</title>\n",
       "<ellipse fill=\"none\" stroke=\"black\" stroke-width=\"2\" cx=\"1619.78\" cy=\"-226.02\" rx=\"30.63\" ry=\"30.63\"/>\n",
       "<text text-anchor=\"start\" x=\"1598.78\" y=\"-221.74\" font-family=\"Times,serif\" font-size=\"12.00\">Pyruvate</text>\n",
       "</g>\n",
       "<!-- (&#39;floating_species_store&#39;,)&#45;&gt;(&#39;floating_species_store&#39;, &#39;Pyruvate&#39;) -->\n",
       "<g id=\"edge15\" class=\"edge\">\n",
       "<title>(&#39;floating_species_store&#39;,)&#45;&gt;(&#39;floating_species_store&#39;, &#39;Pyruvate&#39;)</title>\n",
       "<path fill=\"none\" stroke=\"black\" stroke-width=\"2\" d=\"M1684.19,-421.57C1675.78,-402.68 1666.97,-381.77 1659.78,-362.17 1646.66,-326.45 1634.72,-284.26 1627.37,-256.64\"/>\n",
       "</g>\n",
       "<!-- (&#39;floating_species_store&#39;, &#39;Acetaldehyde&#39;) -->\n",
       "<g id=\"node18\" class=\"node\">\n",
       "<title>(&#39;floating_species_store&#39;, &#39;Acetaldehyde&#39;)</title>\n",
       "<ellipse fill=\"none\" stroke=\"black\" stroke-width=\"2\" cx=\"1713.78\" cy=\"-226.02\" rx=\"45.11\" ry=\"45.11\"/>\n",
       "<text text-anchor=\"start\" x=\"1681.15\" y=\"-221.74\" font-family=\"Times,serif\" font-size=\"12.00\">Acetaldehyde</text>\n",
       "</g>\n",
       "<!-- (&#39;floating_species_store&#39;,)&#45;&gt;(&#39;floating_species_store&#39;, &#39;Acetaldehyde&#39;) -->\n",
       "<g id=\"edge16\" class=\"edge\">\n",
       "<title>(&#39;floating_species_store&#39;,)&#45;&gt;(&#39;floating_species_store&#39;, &#39;Acetaldehyde&#39;)</title>\n",
       "<path fill=\"none\" stroke=\"black\" stroke-width=\"2\" d=\"M1713.78,-415.05C1713.78,-369.65 1713.78,-311.61 1713.78,-272.1\"/>\n",
       "</g>\n",
       "<!-- (&#39;floating_species_store&#39;, &#39;EtOH&#39;) -->\n",
       "<g id=\"node19\" class=\"node\">\n",
       "<title>(&#39;floating_species_store&#39;, &#39;EtOH&#39;)</title>\n",
       "<ellipse fill=\"none\" stroke=\"black\" stroke-width=\"2\" cx=\"1798.78\" cy=\"-226.02\" rx=\"22.23\" ry=\"22.23\"/>\n",
       "<text text-anchor=\"start\" x=\"1784.53\" y=\"-221.74\" font-family=\"Times,serif\" font-size=\"12.00\">EtOH</text>\n",
       "</g>\n",
       "<!-- (&#39;floating_species_store&#39;,)&#45;&gt;(&#39;floating_species_store&#39;, &#39;EtOH&#39;) -->\n",
       "<g id=\"edge17\" class=\"edge\">\n",
       "<title>(&#39;floating_species_store&#39;,)&#45;&gt;(&#39;floating_species_store&#39;, &#39;EtOH&#39;)</title>\n",
       "<path fill=\"none\" stroke=\"black\" stroke-width=\"2\" d=\"M1744.01,-422.16C1752.47,-403.19 1761.16,-382.09 1767.78,-362.17 1780.76,-323.11 1790.23,-275.93 1795.09,-248.9\"/>\n",
       "</g>\n",
       "<!-- (&#39;floating_species_store&#39;, &#39;Extracellular ethanol&#39;) -->\n",
       "<g id=\"node20\" class=\"node\">\n",
       "<title>(&#39;floating_species_store&#39;, &#39;Extracellular ethanol&#39;)</title>\n",
       "<ellipse fill=\"none\" stroke=\"black\" stroke-width=\"2\" cx=\"1903.78\" cy=\"-226.02\" rx=\"65.18\" ry=\"65.18\"/>\n",
       "<text text-anchor=\"start\" x=\"1855.03\" y=\"-221.74\" font-family=\"Times,serif\" font-size=\"12.00\">Extracellular ethanol</text>\n",
       "</g>\n",
       "<!-- (&#39;floating_species_store&#39;,)&#45;&gt;(&#39;floating_species_store&#39;, &#39;Extracellular ethanol&#39;) -->\n",
       "<g id=\"edge18\" class=\"edge\">\n",
       "<title>(&#39;floating_species_store&#39;,)&#45;&gt;(&#39;floating_species_store&#39;, &#39;Extracellular ethanol&#39;)</title>\n",
       "<path fill=\"none\" stroke=\"black\" stroke-width=\"2\" d=\"M1764.56,-436.7C1786.08,-415.09 1810.56,-388.52 1829.78,-362.17 1847.04,-338.51 1863.08,-310.36 1875.77,-285.89\"/>\n",
       "</g>\n",
       "<!-- (&#39;floating_species_store&#39;, &#39;Glycerol&#39;) -->\n",
       "<g id=\"node21\" class=\"node\">\n",
       "<title>(&#39;floating_species_store&#39;, &#39;Glycerol&#39;)</title>\n",
       "<ellipse fill=\"none\" stroke=\"black\" stroke-width=\"2\" cx=\"2016.78\" cy=\"-226.02\" rx=\"30.16\" ry=\"30.16\"/>\n",
       "<text text-anchor=\"start\" x=\"1996.15\" y=\"-221.74\" font-family=\"Times,serif\" font-size=\"12.00\">Glycerol</text>\n",
       "</g>\n",
       "<!-- (&#39;floating_species_store&#39;,)&#45;&gt;(&#39;floating_species_store&#39;, &#39;Glycerol&#39;) -->\n",
       "<g id=\"edge19\" class=\"edge\">\n",
       "<title>(&#39;floating_species_store&#39;,)&#45;&gt;(&#39;floating_species_store&#39;, &#39;Glycerol&#39;)</title>\n",
       "<path fill=\"none\" stroke=\"black\" stroke-width=\"2\" d=\"M1782.29,-469.65C1842.16,-453.32 1927.22,-421.1 1977.78,-362.17 2003.3,-332.43 2012.15,-286.85 2015.2,-256.99\"/>\n",
       "</g>\n",
       "<!-- (&#39;floating_species_store&#39;, &#39;Extracellular glycerol&#39;) -->\n",
       "<g id=\"node22\" class=\"node\">\n",
       "<title>(&#39;floating_species_store&#39;, &#39;Extracellular glycerol&#39;)</title>\n",
       "<ellipse fill=\"none\" stroke=\"black\" stroke-width=\"2\" cx=\"2132.78\" cy=\"-226.02\" rx=\"67.52\" ry=\"67.52\"/>\n",
       "<text text-anchor=\"start\" x=\"2082.15\" y=\"-221.74\" font-family=\"Times,serif\" font-size=\"12.00\">Extracellular glycerol</text>\n",
       "</g>\n",
       "<!-- (&#39;floating_species_store&#39;,)&#45;&gt;(&#39;floating_species_store&#39;, &#39;Extracellular glycerol&#39;) -->\n",
       "<g id=\"edge20\" class=\"edge\">\n",
       "<title>(&#39;floating_species_store&#39;,)&#45;&gt;(&#39;floating_species_store&#39;, &#39;Extracellular glycerol&#39;)</title>\n",
       "<path fill=\"none\" stroke=\"black\" stroke-width=\"2\" d=\"M1783.17,-474.23C1857.76,-460.27 1976.32,-428.83 2055.78,-362.17 2078.64,-342.99 2096.11,-315.19 2108.59,-289.78\"/>\n",
       "</g>\n",
       "<!-- (&#39;floating_species_store&#39;, &#39;Extracellular acetaldehyde&#39;) -->\n",
       "<g id=\"node23\" class=\"node\">\n",
       "<title>(&#39;floating_species_store&#39;, &#39;Extracellular acetaldehyde&#39;)</title>\n",
       "<ellipse fill=\"none\" stroke=\"black\" stroke-width=\"2\" cx=\"2300.78\" cy=\"-226.02\" rx=\"81.99\" ry=\"81.99\"/>\n",
       "<text text-anchor=\"start\" x=\"2238.53\" y=\"-221.74\" font-family=\"Times,serif\" font-size=\"12.00\">Extracellular acetaldehyde</text>\n",
       "</g>\n",
       "<!-- (&#39;floating_species_store&#39;,)&#45;&gt;(&#39;floating_species_store&#39;, &#39;Extracellular acetaldehyde&#39;) -->\n",
       "<g id=\"edge21\" class=\"edge\">\n",
       "<title>(&#39;floating_species_store&#39;,)&#45;&gt;(&#39;floating_species_store&#39;, &#39;Extracellular acetaldehyde&#39;)</title>\n",
       "<path fill=\"none\" stroke=\"black\" stroke-width=\"2\" d=\"M1783.94,-482.64C1886.34,-476.93 2078.74,-453.73 2209.78,-362.17 2232.16,-346.54 2250.59,-323.49 2264.88,-300.83\"/>\n",
       "</g>\n",
       "<!-- (&#39;floating_species_store&#39;, &#39;Extracellular cyanide&#39;) -->\n",
       "<g id=\"node24\" class=\"node\">\n",
       "<title>(&#39;floating_species_store&#39;, &#39;Extracellular cyanide&#39;)</title>\n",
       "<ellipse fill=\"none\" stroke=\"black\" stroke-width=\"2\" cx=\"2467.78\" cy=\"-226.02\" rx=\"66.59\" ry=\"66.59\"/>\n",
       "<text text-anchor=\"start\" x=\"2417.9\" y=\"-221.74\" font-family=\"Times,serif\" font-size=\"12.00\">Extracellular cyanide</text>\n",
       "</g>\n",
       "<!-- (&#39;floating_species_store&#39;,)&#45;&gt;(&#39;floating_species_store&#39;, &#39;Extracellular cyanide&#39;) -->\n",
       "<g id=\"edge22\" class=\"edge\">\n",
       "<title>(&#39;floating_species_store&#39;,)&#45;&gt;(&#39;floating_species_store&#39;, &#39;Extracellular cyanide&#39;)</title>\n",
       "<path fill=\"none\" stroke=\"black\" stroke-width=\"2\" d=\"M1783.79,-479.25C1936.67,-466.95 2294.51,-431.38 2391.78,-362.17 2416.57,-344.54 2434.28,-316.14 2446.33,-289.91\"/>\n",
       "</g>\n",
       "<!-- (&#39;floating_species_store&#39;, &#39;AMP&#39;) -->\n",
       "<g id=\"node25\" class=\"node\">\n",
       "<title>(&#39;floating_species_store&#39;, &#39;AMP&#39;)</title>\n",
       "<ellipse fill=\"none\" stroke=\"black\" stroke-width=\"2\" cx=\"2572.78\" cy=\"-226.02\" rx=\"20.83\" ry=\"20.83\"/>\n",
       "<text text-anchor=\"start\" x=\"2559.65\" y=\"-221.74\" font-family=\"Times,serif\" font-size=\"12.00\">AMP</text>\n",
       "</g>\n",
       "<!-- (&#39;floating_species_store&#39;,)&#45;&gt;(&#39;floating_species_store&#39;, &#39;AMP&#39;) -->\n",
       "<g id=\"edge23\" class=\"edge\">\n",
       "<title>(&#39;floating_species_store&#39;,)&#45;&gt;(&#39;floating_species_store&#39;, &#39;AMP&#39;)</title>\n",
       "<path fill=\"none\" stroke=\"black\" stroke-width=\"2\" d=\"M1783.95,-484.01C1963.85,-481.65 2435.02,-465.51 2543.78,-362.17 2575.27,-332.25 2576.73,-277.08 2574.88,-247.32\"/>\n",
       "</g>\n",
       "<!-- (&#39;floating_species_store&#39;, &#39;P&#39;) -->\n",
       "<g id=\"node26\" class=\"node\">\n",
       "<title>(&#39;floating_species_store&#39;, &#39;P&#39;)</title>\n",
       "<ellipse fill=\"none\" stroke=\"black\" stroke-width=\"2\" cx=\"2629.78\" cy=\"-226.02\" rx=\"18\" ry=\"18\"/>\n",
       "<text text-anchor=\"start\" x=\"2626.4\" y=\"-221.74\" font-family=\"Times,serif\" font-size=\"12.00\">P</text>\n",
       "</g>\n",
       "<!-- (&#39;floating_species_store&#39;,)&#45;&gt;(&#39;floating_species_store&#39;, &#39;P&#39;) -->\n",
       "<g id=\"edge24\" class=\"edge\">\n",
       "<title>(&#39;floating_species_store&#39;,)&#45;&gt;(&#39;floating_species_store&#39;, &#39;P&#39;)</title>\n",
       "<path fill=\"none\" stroke=\"black\" stroke-width=\"2\" d=\"M1783.89,-481.75C1925.22,-475.32 2253.72,-454.34 2521.78,-391.42 2559.04,-382.68 2577.81,-391.18 2602.78,-362.17 2631.66,-328.62 2632.9,-272.98 2631.37,-244.7\"/>\n",
       "</g>\n",
       "<!-- (&#39;floating_species_store&#39;, &#39;Mixed flow cyanide&#39;) -->\n",
       "<g id=\"node27\" class=\"node\">\n",
       "<title>(&#39;floating_species_store&#39;, &#39;Mixed flow cyanide&#39;)</title>\n",
       "<ellipse fill=\"none\" stroke=\"black\" stroke-width=\"2\" cx=\"2729.78\" cy=\"-226.02\" rx=\"63.78\" ry=\"63.78\"/>\n",
       "<text text-anchor=\"start\" x=\"2682.15\" y=\"-221.74\" font-family=\"Times,serif\" font-size=\"12.00\">Mixed flow cyanide</text>\n",
       "</g>\n",
       "<!-- (&#39;floating_species_store&#39;,)&#45;&gt;(&#39;floating_species_store&#39;, &#39;Mixed flow cyanide&#39;) -->\n",
       "<g id=\"edge25\" class=\"edge\">\n",
       "<title>(&#39;floating_species_store&#39;,)&#45;&gt;(&#39;floating_species_store&#39;, &#39;Mixed flow cyanide&#39;)</title>\n",
       "<path fill=\"none\" stroke=\"black\" stroke-width=\"2\" d=\"M1783.84,-481.5C1930.43,-474.51 2279.63,-452.36 2565.78,-391.42 2607.33,-382.58 2624.1,-389.32 2656.78,-362.17 2680.27,-342.66 2697.35,-313.56 2709.05,-287.36\"/>\n",
       "</g>\n",
       "<!-- (&#39;floating_species_store&#39;, &#39;Mixed flow glucose&#39;) -->\n",
       "<g id=\"node28\" class=\"node\">\n",
       "<title>(&#39;floating_species_store&#39;, &#39;Mixed flow glucose&#39;)</title>\n",
       "<ellipse fill=\"none\" stroke=\"black\" stroke-width=\"2\" cx=\"2874.78\" cy=\"-226.02\" rx=\"63.32\" ry=\"63.32\"/>\n",
       "<text text-anchor=\"start\" x=\"2827.53\" y=\"-221.74\" font-family=\"Times,serif\" font-size=\"12.00\">Mixed flow glucose</text>\n",
       "</g>\n",
       "<!-- (&#39;floating_species_store&#39;,)&#45;&gt;(&#39;floating_species_store&#39;, &#39;Mixed flow glucose&#39;) -->\n",
       "<g id=\"edge26\" class=\"edge\">\n",
       "<title>(&#39;floating_species_store&#39;,)&#45;&gt;(&#39;floating_species_store&#39;, &#39;Mixed flow glucose&#39;)</title>\n",
       "<path fill=\"none\" stroke=\"black\" stroke-width=\"2\" d=\"M1783.89,-485.08C1997.86,-486.02 2637.97,-478.81 2802.78,-362.17 2828.17,-344.2 2845.39,-314.43 2856.61,-287.39\"/>\n",
       "</g>\n",
       "<!-- (&#39;floating_species_store&#39;,)&#45;&gt;(&#39;single_copasi_process&#39;,) -->\n",
       "<g id=\"edge52\" class=\"edge\">\n",
       "<title>(&#39;floating_species_store&#39;,)&#45;&gt;(&#39;single_copasi_process&#39;,)</title>\n",
       "<path fill=\"none\" stroke=\"black\" stroke-dasharray=\"5,2\" d=\"M1783.87,-479.92C1962.96,-468.34 2451.87,-434.98 2857.78,-391.42 2895.34,-387.39 2904.54,-384.86 2942.03,-380.17 2976.38,-375.88 3068.59,-382.27 3096.78,-362.17 3132.13,-336.98 3149,-287.29 3156.47,-255.68\"/>\n",
       "<polygon fill=\"black\" stroke=\"black\" points=\"3159.87,-256.54 3158.57,-246.02 3153.03,-255.05 3159.87,-256.54\"/>\n",
       "<text text-anchor=\"start\" x=\"2942.78\" y=\"-381.92\" font-family=\"Times,serif\" font-size=\"10.00\">floating_species</text>\n",
       "</g>\n",
       "<!-- (&#39;floating_species_store&#39;,)&#45;&gt;(&#39;single_copasi_process&#39;,) -->\n",
       "<g id=\"edge56\" class=\"edge\">\n",
       "<title>(&#39;floating_species_store&#39;,)&#45;&gt;(&#39;single_copasi_process&#39;,)</title>\n",
       "<path fill=\"none\" stroke=\"black\" stroke-dasharray=\"5,2\" d=\"M1795.02,-481.17C2040.91,-471.13 2774.56,-437.99 3008.78,-391.42 3013.83,-390.42 3092.91,-365.58 3096.78,-362.17 3133.13,-330.18 3150.97,-273.33 3158.01,-244.63\"/>\n",
       "<polygon fill=\"black\" stroke=\"black\" points=\"1795.05,-477.67 1785.2,-481.57 1795.33,-484.66 1795.05,-477.67\"/>\n",
       "<text text-anchor=\"start\" x=\"3043.78\" y=\"-381.92\" font-family=\"Times,serif\" font-size=\"10.00\">floating_species</text>\n",
       "</g>\n",
       "<!-- (&#39;model_parameters_store&#39;,) -->\n",
       "<g id=\"node29\" class=\"node\">\n",
       "<title>(&#39;model_parameters_store&#39;,)</title>\n",
       "<ellipse fill=\"none\" stroke=\"black\" stroke-width=\"2\" cx=\"3237.78\" cy=\"-485.35\" rx=\"75.92\" ry=\"75.92\"/>\n",
       "<text text-anchor=\"start\" x=\"3180.4\" y=\"-481.07\" font-family=\"Times,serif\" font-size=\"12.00\">model_parameters_store</text>\n",
       "</g>\n",
       "<!-- (&#39;model_parameters_store&#39;,)&#45;&gt;(&#39;single_copasi_process&#39;,) -->\n",
       "<g id=\"edge53\" class=\"edge\">\n",
       "<title>(&#39;model_parameters_store&#39;,)&#45;&gt;(&#39;single_copasi_process&#39;,)</title>\n",
       "<path fill=\"none\" stroke=\"black\" stroke-dasharray=\"5,2\" d=\"M3216.31,-411.64C3200.99,-359.78 3181.23,-292.87 3170.19,-255.5\"/>\n",
       "<polygon fill=\"black\" stroke=\"black\" points=\"3173.68,-254.95 3167.49,-246.35 3166.96,-256.93 3173.68,-254.95\"/>\n",
       "<text text-anchor=\"start\" x=\"3209.78\" y=\"-381.92\" font-family=\"Times,serif\" font-size=\"10.00\">model_parameters</text>\n",
       "</g>\n",
       "<!-- (&#39;reactions_store&#39;,) -->\n",
       "<g id=\"node30\" class=\"node\">\n",
       "<title>(&#39;reactions_store&#39;,)</title>\n",
       "<ellipse fill=\"none\" stroke=\"black\" stroke-width=\"2\" cx=\"5016.78\" cy=\"-485.35\" rx=\"48.37\" ry=\"48.37\"/>\n",
       "<text text-anchor=\"start\" x=\"4981.53\" y=\"-481.07\" font-family=\"Times,serif\" font-size=\"12.00\">reactions_store</text>\n",
       "</g>\n",
       "<!-- (&#39;reactions_store&#39;, &#39;Glucose Mixed flow to extracellular medium&#39;) -->\n",
       "<g id=\"node31\" class=\"node\">\n",
       "<title>(&#39;reactions_store&#39;, &#39;Glucose Mixed flow to extracellular medium&#39;)</title>\n",
       "<ellipse fill=\"none\" stroke=\"black\" stroke-width=\"2\" cx=\"6226.78\" cy=\"-226.02\" rx=\"136.16\" ry=\"136.16\"/>\n",
       "<text text-anchor=\"start\" x=\"6121.03\" y=\"-221.74\" font-family=\"Times,serif\" font-size=\"12.00\">Glucose Mixed flow to extracellular medium</text>\n",
       "</g>\n",
       "<!-- (&#39;reactions_store&#39;,)&#45;&gt;(&#39;reactions_store&#39;, &#39;Glucose Mixed flow to extracellular medium&#39;) -->\n",
       "<g id=\"edge27\" class=\"edge\">\n",
       "<title>(&#39;reactions_store&#39;,)&#45;&gt;(&#39;reactions_store&#39;, &#39;Glucose Mixed flow to extracellular medium&#39;)</title>\n",
       "<path fill=\"none\" stroke=\"black\" stroke-width=\"2\" d=\"M5065.95,-483.15C5250.27,-477.97 5898.95,-453.52 6080.78,-362.17 6099.45,-352.79 6117.45,-340.3 6134.06,-326.68\"/>\n",
       "</g>\n",
       "<!-- (&#39;reactions_store&#39;, &#39;Glucose uptake&#39;) -->\n",
       "<g id=\"node32\" class=\"node\">\n",
       "<title>(&#39;reactions_store&#39;, &#39;Glucose uptake&#39;)</title>\n",
       "<ellipse fill=\"none\" stroke=\"black\" stroke-width=\"2\" cx=\"6430.78\" cy=\"-226.02\" rx=\"50.24\" ry=\"50.24\"/>\n",
       "<text text-anchor=\"start\" x=\"6394.03\" y=\"-221.74\" font-family=\"Times,serif\" font-size=\"12.00\">Glucose uptake</text>\n",
       "</g>\n",
       "<!-- (&#39;reactions_store&#39;,)&#45;&gt;(&#39;reactions_store&#39;, &#39;Glucose uptake&#39;) -->\n",
       "<g id=\"edge28\" class=\"edge\">\n",
       "<title>(&#39;reactions_store&#39;,)&#45;&gt;(&#39;reactions_store&#39;, &#39;Glucose uptake&#39;)</title>\n",
       "<path fill=\"none\" stroke=\"black\" stroke-width=\"2\" d=\"M5066.06,-482.85C5296.83,-475.44 6263.88,-439.95 6371.78,-362.17 6399.51,-342.19 6414.36,-306.29 6422.23,-276.51\"/>\n",
       "</g>\n",
       "<!-- (&#39;reactions_store&#39;, &#39;Hexokinase&#39;) -->\n",
       "<g id=\"node33\" class=\"node\">\n",
       "<title>(&#39;reactions_store&#39;, &#39;Hexokinase&#39;)</title>\n",
       "<ellipse fill=\"none\" stroke=\"black\" stroke-width=\"2\" cx=\"6538.78\" cy=\"-226.02\" rx=\"39.5\" ry=\"39.5\"/>\n",
       "<text text-anchor=\"start\" x=\"6510.65\" y=\"-221.74\" font-family=\"Times,serif\" font-size=\"12.00\">Hexokinase</text>\n",
       "</g>\n",
       "<!-- (&#39;reactions_store&#39;,)&#45;&gt;(&#39;reactions_store&#39;, &#39;Hexokinase&#39;) -->\n",
       "<g id=\"edge29\" class=\"edge\">\n",
       "<title>(&#39;reactions_store&#39;,)&#45;&gt;(&#39;reactions_store&#39;, &#39;Hexokinase&#39;)</title>\n",
       "<path fill=\"none\" stroke=\"black\" stroke-width=\"2\" d=\"M5066.03,-482.75C5239.38,-476.73 5837.24,-452.53 6326.78,-391.42 6399.81,-382.31 6433.5,-409.61 6489.78,-362.17 6518.03,-338.37 6529.99,-296.91 6535.06,-266.17\"/>\n",
       "</g>\n",
       "<!-- (&#39;reactions_store&#39;, &#39;Phosphoglucoisomerase&#39;) -->\n",
       "<g id=\"node34\" class=\"node\">\n",
       "<title>(&#39;reactions_store&#39;, &#39;Phosphoglucoisomerase&#39;)</title>\n",
       "<ellipse fill=\"none\" stroke=\"black\" stroke-width=\"2\" cx=\"6671.78\" cy=\"-226.02\" rx=\"75.46\" ry=\"75.46\"/>\n",
       "<text text-anchor=\"start\" x=\"6614.78\" y=\"-221.74\" font-family=\"Times,serif\" font-size=\"12.00\">Phosphoglucoisomerase</text>\n",
       "</g>\n",
       "<!-- (&#39;reactions_store&#39;,)&#45;&gt;(&#39;reactions_store&#39;, &#39;Phosphoglucoisomerase&#39;) -->\n",
       "<g id=\"edge30\" class=\"edge\">\n",
       "<title>(&#39;reactions_store&#39;,)&#45;&gt;(&#39;reactions_store&#39;, &#39;Phosphoglucoisomerase&#39;)</title>\n",
       "<path fill=\"none\" stroke=\"black\" stroke-width=\"2\" d=\"M5065.9,-482.75C5245.66,-476.52 5884.47,-451.29 6407.78,-391.42 6488.3,-382.21 6520.34,-407.13 6587.78,-362.17 6611.57,-346.32 6629.86,-321.19 6643.2,-296.88\"/>\n",
       "</g>\n",
       "<!-- (&#39;reactions_store&#39;, &#39;Phosphofructokinase&#39;) -->\n",
       "<g id=\"node35\" class=\"node\">\n",
       "<title>(&#39;reactions_store&#39;, &#39;Phosphofructokinase&#39;)</title>\n",
       "<ellipse fill=\"none\" stroke=\"black\" stroke-width=\"2\" cx=\"3338.78\" cy=\"-226.02\" rx=\"66.12\" ry=\"66.12\"/>\n",
       "<text text-anchor=\"start\" x=\"3289.28\" y=\"-221.74\" font-family=\"Times,serif\" font-size=\"12.00\">Phosphofructokinase</text>\n",
       "</g>\n",
       "<!-- (&#39;reactions_store&#39;,)&#45;&gt;(&#39;reactions_store&#39;, &#39;Phosphofructokinase&#39;) -->\n",
       "<g id=\"edge31\" class=\"edge\">\n",
       "<title>(&#39;reactions_store&#39;,)&#45;&gt;(&#39;reactions_store&#39;, &#39;Phosphofructokinase&#39;)</title>\n",
       "<path fill=\"none\" stroke=\"black\" stroke-width=\"2\" d=\"M4967.65,-482.76C4742.04,-475.27 3803.89,-441.6 3514.78,-391.42 3468.73,-383.43 3450.32,-391.31 3413.78,-362.17 3390.17,-343.35 3372.83,-314.97 3360.81,-289.07\"/>\n",
       "</g>\n",
       "<!-- (&#39;reactions_store&#39;, &#39;Aldolase&#39;) -->\n",
       "<g id=\"node36\" class=\"node\">\n",
       "<title>(&#39;reactions_store&#39;, &#39;Aldolase&#39;)</title>\n",
       "<ellipse fill=\"none\" stroke=\"black\" stroke-width=\"2\" cx=\"3453.78\" cy=\"-226.02\" rx=\"30.63\" ry=\"30.63\"/>\n",
       "<text text-anchor=\"start\" x=\"3432.78\" y=\"-221.74\" font-family=\"Times,serif\" font-size=\"12.00\">Aldolase</text>\n",
       "</g>\n",
       "<!-- (&#39;reactions_store&#39;,)&#45;&gt;(&#39;reactions_store&#39;, &#39;Aldolase&#39;) -->\n",
       "<g id=\"edge32\" class=\"edge\">\n",
       "<title>(&#39;reactions_store&#39;,)&#45;&gt;(&#39;reactions_store&#39;, &#39;Aldolase&#39;)</title>\n",
       "<path fill=\"none\" stroke=\"black\" stroke-width=\"2\" d=\"M4967.57,-481.53C4797.61,-471.64 4219.73,-436.62 3743.78,-391.42 3632.41,-380.85 3579.36,-434.22 3493.78,-362.17 3463.27,-336.48 3455.39,-288.71 3453.7,-257.4\"/>\n",
       "</g>\n",
       "<!-- (&#39;reactions_store&#39;, &#39;Triosephosphate isomerase&#39;) -->\n",
       "<g id=\"node37\" class=\"node\">\n",
       "<title>(&#39;reactions_store&#39;, &#39;Triosephosphate isomerase&#39;)</title>\n",
       "<ellipse fill=\"none\" stroke=\"black\" stroke-width=\"2\" cx=\"3585.78\" cy=\"-226.02\" rx=\"83.39\" ry=\"83.39\"/>\n",
       "<text text-anchor=\"start\" x=\"3522.4\" y=\"-221.74\" font-family=\"Times,serif\" font-size=\"12.00\">Triosephosphate isomerase</text>\n",
       "</g>\n",
       "<!-- (&#39;reactions_store&#39;,)&#45;&gt;(&#39;reactions_store&#39;, &#39;Triosephosphate isomerase&#39;) -->\n",
       "<g id=\"edge33\" class=\"edge\">\n",
       "<title>(&#39;reactions_store&#39;,)&#45;&gt;(&#39;reactions_store&#39;, &#39;Triosephosphate isomerase&#39;)</title>\n",
       "<path fill=\"none\" stroke=\"black\" stroke-width=\"2\" d=\"M4967.65,-482.32C4739.78,-472.6 3792.01,-428.46 3678.78,-362.17 3654.94,-348.22 3635.81,-325.43 3621.25,-302.51\"/>\n",
       "</g>\n",
       "<!-- (&#39;reactions_store&#39;, &#39;Glyceraldehyde 3&#45;phosphate dehydrogenase&#39;) -->\n",
       "<g id=\"node38\" class=\"node\">\n",
       "<title>(&#39;reactions_store&#39;, &#39;Glyceraldehyde 3&#45;phosphate dehydrogenase&#39;)</title>\n",
       "<ellipse fill=\"none\" stroke=\"black\" stroke-width=\"2\" cx=\"3822.78\" cy=\"-226.02\" rx=\"135.22\" ry=\"135.22\"/>\n",
       "<text text-anchor=\"start\" x=\"3717.78\" y=\"-221.74\" font-family=\"Times,serif\" font-size=\"12.00\">Glyceraldehyde 3&#45;phosphate dehydrogenase</text>\n",
       "</g>\n",
       "<!-- (&#39;reactions_store&#39;,)&#45;&gt;(&#39;reactions_store&#39;, &#39;Glyceraldehyde 3&#45;phosphate dehydrogenase&#39;) -->\n",
       "<g id=\"edge34\" class=\"edge\">\n",
       "<title>(&#39;reactions_store&#39;,)&#45;&gt;(&#39;reactions_store&#39;, &#39;Glyceraldehyde 3&#45;phosphate dehydrogenase&#39;)</title>\n",
       "<path fill=\"none\" stroke=\"black\" stroke-width=\"2\" d=\"M4967.49,-482.69C4784.97,-475.92 4148.62,-446.63 3966.78,-362.17 3947.81,-353.36 3929.7,-341.08 3913.13,-327.47\"/>\n",
       "</g>\n",
       "<!-- (&#39;reactions_store&#39;, &#39;Phosphoenolpyruvate synthesis&#39;) -->\n",
       "<g id=\"node39\" class=\"node\">\n",
       "<title>(&#39;reactions_store&#39;, &#39;Phosphoenolpyruvate synthesis&#39;)</title>\n",
       "<ellipse fill=\"none\" stroke=\"black\" stroke-width=\"2\" cx=\"4072.78\" cy=\"-226.02\" rx=\"96.94\" ry=\"96.94\"/>\n",
       "<text text-anchor=\"start\" x=\"3998.53\" y=\"-221.74\" font-family=\"Times,serif\" font-size=\"12.00\">Phosphoenolpyruvate synthesis</text>\n",
       "</g>\n",
       "<!-- (&#39;reactions_store&#39;,)&#45;&gt;(&#39;reactions_store&#39;, &#39;Phosphoenolpyruvate synthesis&#39;) -->\n",
       "<g id=\"edge35\" class=\"edge\">\n",
       "<title>(&#39;reactions_store&#39;,)&#45;&gt;(&#39;reactions_store&#39;, &#39;Phosphoenolpyruvate synthesis&#39;)</title>\n",
       "<path fill=\"none\" stroke=\"black\" stroke-width=\"2\" d=\"M4967.65,-482.17C4809.07,-474.37 4313.34,-443.85 4178.78,-362.17 4157.24,-349.1 4138.37,-329.93 4122.75,-310.11\"/>\n",
       "</g>\n",
       "<!-- (&#39;reactions_store&#39;, &#39;Pyruvate kinase&#39;) -->\n",
       "<g id=\"node40\" class=\"node\">\n",
       "<title>(&#39;reactions_store&#39;, &#39;Pyruvate kinase&#39;)</title>\n",
       "<ellipse fill=\"none\" stroke=\"black\" stroke-width=\"2\" cx=\"4238.78\" cy=\"-226.02\" rx=\"51.18\" ry=\"51.18\"/>\n",
       "<text text-anchor=\"start\" x=\"4201.28\" y=\"-221.74\" font-family=\"Times,serif\" font-size=\"12.00\">Pyruvate kinase</text>\n",
       "</g>\n",
       "<!-- (&#39;reactions_store&#39;,)&#45;&gt;(&#39;reactions_store&#39;, &#39;Pyruvate kinase&#39;) -->\n",
       "<g id=\"edge36\" class=\"edge\">\n",
       "<title>(&#39;reactions_store&#39;,)&#45;&gt;(&#39;reactions_store&#39;, &#39;Pyruvate kinase&#39;)</title>\n",
       "<path fill=\"none\" stroke=\"black\" stroke-width=\"2\" d=\"M4967.53,-481.92C4823.07,-473.92 4404.04,-444 4298.78,-362.17 4272.13,-341.45 4257.02,-306.36 4248.64,-277.12\"/>\n",
       "</g>\n",
       "<!-- (&#39;reactions_store&#39;, &#39;Pyruvate decarboxylase&#39;) -->\n",
       "<g id=\"node41\" class=\"node\">\n",
       "<title>(&#39;reactions_store&#39;, &#39;Pyruvate decarboxylase&#39;)</title>\n",
       "<ellipse fill=\"none\" stroke=\"black\" stroke-width=\"2\" cx=\"4382.78\" cy=\"-226.02\" rx=\"74.52\" ry=\"74.52\"/>\n",
       "<text text-anchor=\"start\" x=\"4326.53\" y=\"-221.74\" font-family=\"Times,serif\" font-size=\"12.00\">Pyruvate decarboxylase</text>\n",
       "</g>\n",
       "<!-- (&#39;reactions_store&#39;,)&#45;&gt;(&#39;reactions_store&#39;, &#39;Pyruvate decarboxylase&#39;) -->\n",
       "<g id=\"edge37\" class=\"edge\">\n",
       "<title>(&#39;reactions_store&#39;,)&#45;&gt;(&#39;reactions_store&#39;, &#39;Pyruvate decarboxylase&#39;)</title>\n",
       "<path fill=\"none\" stroke=\"black\" stroke-width=\"2\" d=\"M4968.32,-478.51C4849.47,-463.42 4547.27,-420.25 4465.78,-362.17 4442.46,-345.55 4424.39,-320.13 4411.15,-295.8\"/>\n",
       "</g>\n",
       "<!-- (&#39;reactions_store&#39;, &#39;Alcohol dehydrogenase&#39;) -->\n",
       "<g id=\"node42\" class=\"node\">\n",
       "<title>(&#39;reactions_store&#39;, &#39;Alcohol dehydrogenase&#39;)</title>\n",
       "<ellipse fill=\"none\" stroke=\"black\" stroke-width=\"2\" cx=\"4549.78\" cy=\"-226.02\" rx=\"74.52\" ry=\"74.52\"/>\n",
       "<text text-anchor=\"start\" x=\"4493.53\" y=\"-221.74\" font-family=\"Times,serif\" font-size=\"12.00\">Alcohol dehydrogenase</text>\n",
       "</g>\n",
       "<!-- (&#39;reactions_store&#39;,)&#45;&gt;(&#39;reactions_store&#39;, &#39;Alcohol dehydrogenase&#39;) -->\n",
       "<g id=\"edge38\" class=\"edge\">\n",
       "<title>(&#39;reactions_store&#39;,)&#45;&gt;(&#39;reactions_store&#39;, &#39;Alcohol dehydrogenase&#39;)</title>\n",
       "<path fill=\"none\" stroke=\"black\" stroke-width=\"2\" d=\"M4967.75,-479.74C4889.43,-470.15 4734.56,-441.83 4632.78,-362.17 4610.44,-344.69 4592.65,-319.4 4579.35,-295.41\"/>\n",
       "</g>\n",
       "<!-- (&#39;reactions_store&#39;, &#39;Ethanol out&#39;) -->\n",
       "<g id=\"node43\" class=\"node\">\n",
       "<title>(&#39;reactions_store&#39;, &#39;Ethanol out&#39;)</title>\n",
       "<ellipse fill=\"none\" stroke=\"black\" stroke-width=\"2\" cx=\"4680.78\" cy=\"-226.02\" rx=\"38.57\" ry=\"38.57\"/>\n",
       "<text text-anchor=\"start\" x=\"4653.4\" y=\"-221.74\" font-family=\"Times,serif\" font-size=\"12.00\">Ethanol out</text>\n",
       "</g>\n",
       "<!-- (&#39;reactions_store&#39;,)&#45;&gt;(&#39;reactions_store&#39;, &#39;Ethanol out&#39;) -->\n",
       "<g id=\"edge39\" class=\"edge\">\n",
       "<title>(&#39;reactions_store&#39;,)&#45;&gt;(&#39;reactions_store&#39;, &#39;Ethanol out&#39;)</title>\n",
       "<path fill=\"none\" stroke=\"black\" stroke-width=\"2\" d=\"M4968.41,-476.4C4904.71,-463.47 4793.14,-431.94 4727.78,-362.17 4702.81,-335.52 4691.02,-294.91 4685.51,-265.16\"/>\n",
       "</g>\n",
       "<!-- (&#39;reactions_store&#39;, &#39;Ethanol flow&#39;) -->\n",
       "<g id=\"node44\" class=\"node\">\n",
       "<title>(&#39;reactions_store&#39;, &#39;Ethanol flow&#39;)</title>\n",
       "<ellipse fill=\"none\" stroke=\"black\" stroke-width=\"2\" cx=\"4779.78\" cy=\"-226.02\" rx=\"42.77\" ry=\"42.77\"/>\n",
       "<text text-anchor=\"start\" x=\"4749.03\" y=\"-221.74\" font-family=\"Times,serif\" font-size=\"12.00\">Ethanol flow</text>\n",
       "</g>\n",
       "<!-- (&#39;reactions_store&#39;,)&#45;&gt;(&#39;reactions_store&#39;, &#39;Ethanol flow&#39;) -->\n",
       "<g id=\"edge40\" class=\"edge\">\n",
       "<title>(&#39;reactions_store&#39;,)&#45;&gt;(&#39;reactions_store&#39;, &#39;Ethanol flow&#39;)</title>\n",
       "<path fill=\"none\" stroke=\"black\" stroke-width=\"2\" d=\"M4971.85,-464.91C4930.06,-444.75 4868.69,-409.52 4830.78,-362.17 4808.99,-334.96 4795.83,-297.45 4788.35,-268.85\"/>\n",
       "</g>\n",
       "<!-- (&#39;reactions_store&#39;, &#39;Glycerol synthesis&#39;) -->\n",
       "<g id=\"node45\" class=\"node\">\n",
       "<title>(&#39;reactions_store&#39;, &#39;Glycerol synthesis&#39;)</title>\n",
       "<ellipse fill=\"none\" stroke=\"black\" stroke-width=\"2\" cx=\"4898.78\" cy=\"-226.02\" rx=\"58.65\" ry=\"58.65\"/>\n",
       "<text text-anchor=\"start\" x=\"4855.28\" y=\"-221.74\" font-family=\"Times,serif\" font-size=\"12.00\">Glycerol synthesis</text>\n",
       "</g>\n",
       "<!-- (&#39;reactions_store&#39;,)&#45;&gt;(&#39;reactions_store&#39;, &#39;Glycerol synthesis&#39;) -->\n",
       "<g id=\"edge41\" class=\"edge\">\n",
       "<title>(&#39;reactions_store&#39;,)&#45;&gt;(&#39;reactions_store&#39;, &#39;Glycerol synthesis&#39;)</title>\n",
       "<path fill=\"none\" stroke=\"black\" stroke-width=\"2\" d=\"M4996.63,-440.4C4976.29,-396.05 4944.86,-327.51 4923.14,-280.13\"/>\n",
       "</g>\n",
       "<!-- (&#39;reactions_store&#39;, &#39;Glycerol out&#39;) -->\n",
       "<g id=\"node46\" class=\"node\">\n",
       "<title>(&#39;reactions_store&#39;, &#39;Glycerol out&#39;)</title>\n",
       "<ellipse fill=\"none\" stroke=\"black\" stroke-width=\"2\" cx=\"5016.78\" cy=\"-226.02\" rx=\"41.37\" ry=\"41.37\"/>\n",
       "<text text-anchor=\"start\" x=\"4987.15\" y=\"-221.74\" font-family=\"Times,serif\" font-size=\"12.00\">Glycerol out</text>\n",
       "</g>\n",
       "<!-- (&#39;reactions_store&#39;,)&#45;&gt;(&#39;reactions_store&#39;, &#39;Glycerol out&#39;) -->\n",
       "<g id=\"edge42\" class=\"edge\">\n",
       "<title>(&#39;reactions_store&#39;,)&#45;&gt;(&#39;reactions_store&#39;, &#39;Glycerol out&#39;)</title>\n",
       "<path fill=\"none\" stroke=\"black\" stroke-width=\"2\" d=\"M5016.78,-436.25C5016.78,-387.81 5016.78,-313.87 5016.78,-268.09\"/>\n",
       "</g>\n",
       "<!-- (&#39;reactions_store&#39;, &#39;Glycerol flow&#39;) -->\n",
       "<g id=\"node47\" class=\"node\">\n",
       "<title>(&#39;reactions_store&#39;, &#39;Glycerol flow&#39;)</title>\n",
       "<ellipse fill=\"none\" stroke=\"black\" stroke-width=\"2\" cx=\"5121.78\" cy=\"-226.02\" rx=\"45.57\" ry=\"45.57\"/>\n",
       "<text text-anchor=\"start\" x=\"5088.78\" y=\"-221.74\" font-family=\"Times,serif\" font-size=\"12.00\">Glycerol flow</text>\n",
       "</g>\n",
       "<!-- (&#39;reactions_store&#39;,)&#45;&gt;(&#39;reactions_store&#39;, &#39;Glycerol flow&#39;) -->\n",
       "<g id=\"edge43\" class=\"edge\">\n",
       "<title>(&#39;reactions_store&#39;,)&#45;&gt;(&#39;reactions_store&#39;, &#39;Glycerol flow&#39;)</title>\n",
       "<path fill=\"none\" stroke=\"black\" stroke-width=\"2\" d=\"M5035.09,-439.68C5044.56,-416.55 5056.3,-387.85 5066.78,-362.17 5079.51,-330.98 5093.86,-295.72 5104.71,-269.03\"/>\n",
       "</g>\n",
       "<!-- (&#39;reactions_store&#39;, &#39;Acetaldehyde out&#39;) -->\n",
       "<g id=\"node48\" class=\"node\">\n",
       "<title>(&#39;reactions_store&#39;, &#39;Acetaldehyde out&#39;)</title>\n",
       "<ellipse fill=\"none\" stroke=\"black\" stroke-width=\"2\" cx=\"5241.78\" cy=\"-226.02\" rx=\"56.31\" ry=\"56.31\"/>\n",
       "<text text-anchor=\"start\" x=\"5200.15\" y=\"-221.74\" font-family=\"Times,serif\" font-size=\"12.00\">Acetaldehyde out</text>\n",
       "</g>\n",
       "<!-- (&#39;reactions_store&#39;,)&#45;&gt;(&#39;reactions_store&#39;, &#39;Acetaldehyde out&#39;) -->\n",
       "<g id=\"edge44\" class=\"edge\">\n",
       "<title>(&#39;reactions_store&#39;,)&#45;&gt;(&#39;reactions_store&#39;, &#39;Acetaldehyde out&#39;)</title>\n",
       "<path fill=\"none\" stroke=\"black\" stroke-width=\"2\" d=\"M5058.98,-459.98C5094.1,-438.02 5143.56,-402.96 5176.78,-362.17 5196.59,-337.85 5212.15,-306.47 5223.08,-280.08\"/>\n",
       "</g>\n",
       "<!-- (&#39;reactions_store&#39;, &#39;Acetaldehyde flow&#39;) -->\n",
       "<g id=\"node49\" class=\"node\">\n",
       "<title>(&#39;reactions_store&#39;, &#39;Acetaldehyde flow&#39;)</title>\n",
       "<ellipse fill=\"none\" stroke=\"black\" stroke-width=\"2\" cx=\"5376.78\" cy=\"-226.02\" rx=\"60.51\" ry=\"60.51\"/>\n",
       "<text text-anchor=\"start\" x=\"5331.78\" y=\"-221.74\" font-family=\"Times,serif\" font-size=\"12.00\">Acetaldehyde flow</text>\n",
       "</g>\n",
       "<!-- (&#39;reactions_store&#39;,)&#45;&gt;(&#39;reactions_store&#39;, &#39;Acetaldehyde flow&#39;) -->\n",
       "<g id=\"edge45\" class=\"edge\">\n",
       "<title>(&#39;reactions_store&#39;,)&#45;&gt;(&#39;reactions_store&#39;, &#39;Acetaldehyde flow&#39;)</title>\n",
       "<path fill=\"none\" stroke=\"black\" stroke-width=\"2\" d=\"M5064.95,-474.75C5127.45,-460.13 5236.75,-426.87 5306.78,-362.17 5329.59,-341.1 5346.2,-310.9 5357.51,-284.39\"/>\n",
       "</g>\n",
       "<!-- (&#39;reactions_store&#39;, &#39;Cyanide&#45;Acetaldehyde flow&#39;) -->\n",
       "<g id=\"node50\" class=\"node\">\n",
       "<title>(&#39;reactions_store&#39;, &#39;Cyanide&#45;Acetaldehyde flow&#39;)</title>\n",
       "<ellipse fill=\"none\" stroke=\"black\" stroke-width=\"2\" cx=\"5542.78\" cy=\"-226.02\" rx=\"87.6\" ry=\"87.6\"/>\n",
       "<text text-anchor=\"start\" x=\"5476.03\" y=\"-221.74\" font-family=\"Times,serif\" font-size=\"12.00\">Cyanide&#45;Acetaldehyde flow</text>\n",
       "</g>\n",
       "<!-- (&#39;reactions_store&#39;,)&#45;&gt;(&#39;reactions_store&#39;, &#39;Cyanide&#45;Acetaldehyde flow&#39;) -->\n",
       "<g id=\"edge46\" class=\"edge\">\n",
       "<title>(&#39;reactions_store&#39;,)&#45;&gt;(&#39;reactions_store&#39;, &#39;Cyanide&#45;Acetaldehyde flow&#39;)</title>\n",
       "<path fill=\"none\" stroke=\"black\" stroke-width=\"2\" d=\"M5065.78,-480.95C5150.63,-472.92 5327.29,-446.58 5446.78,-362.17 5468.17,-347.06 5486.49,-325.62 5501.21,-304.25\"/>\n",
       "</g>\n",
       "<!-- (&#39;reactions_store&#39;, &#39;Cyanide flow&#39;) -->\n",
       "<g id=\"node51\" class=\"node\">\n",
       "<title>(&#39;reactions_store&#39;, &#39;Cyanide flow&#39;)</title>\n",
       "<ellipse fill=\"none\" stroke=\"black\" stroke-width=\"2\" cx=\"5692.78\" cy=\"-226.02\" rx=\"44.64\" ry=\"44.64\"/>\n",
       "<text text-anchor=\"start\" x=\"5660.53\" y=\"-221.74\" font-family=\"Times,serif\" font-size=\"12.00\">Cyanide flow</text>\n",
       "</g>\n",
       "<!-- (&#39;reactions_store&#39;,)&#45;&gt;(&#39;reactions_store&#39;, &#39;Cyanide flow&#39;) -->\n",
       "<g id=\"edge47\" class=\"edge\">\n",
       "<title>(&#39;reactions_store&#39;,)&#45;&gt;(&#39;reactions_store&#39;, &#39;Cyanide flow&#39;)</title>\n",
       "<path fill=\"none\" stroke=\"black\" stroke-width=\"2\" d=\"M5065.94,-480.74C5197.21,-470.2 5551.98,-435.44 5639.78,-362.17 5666.87,-339.57 5680.18,-301.26 5686.68,-271.19\"/>\n",
       "</g>\n",
       "<!-- (&#39;reactions_store&#39;, &#39;Storage&#39;) -->\n",
       "<g id=\"node52\" class=\"node\">\n",
       "<title>(&#39;reactions_store&#39;, &#39;Storage&#39;)</title>\n",
       "<ellipse fill=\"none\" stroke=\"black\" stroke-width=\"2\" cx=\"5782.78\" cy=\"-226.02\" rx=\"26.9\" ry=\"26.9\"/>\n",
       "<text text-anchor=\"start\" x=\"5764.78\" y=\"-221.74\" font-family=\"Times,serif\" font-size=\"12.00\">Storage</text>\n",
       "</g>\n",
       "<!-- (&#39;reactions_store&#39;,)&#45;&gt;(&#39;reactions_store&#39;, &#39;Storage&#39;) -->\n",
       "<g id=\"edge48\" class=\"edge\">\n",
       "<title>(&#39;reactions_store&#39;,)&#45;&gt;(&#39;reactions_store&#39;, &#39;Storage&#39;)</title>\n",
       "<path fill=\"none\" stroke=\"black\" stroke-width=\"2\" d=\"M5065.88,-483.1C5213.41,-478.34 5648.64,-456.4 5746.78,-362.17 5776.29,-333.84 5782.55,-284.25 5783.38,-253.66\"/>\n",
       "</g>\n",
       "<!-- (&#39;reactions_store&#39;, &#39;ATP consumption&#39;) -->\n",
       "<g id=\"node53\" class=\"node\">\n",
       "<title>(&#39;reactions_store&#39;, &#39;ATP consumption&#39;)</title>\n",
       "<ellipse fill=\"none\" stroke=\"black\" stroke-width=\"2\" cx=\"5885.78\" cy=\"-226.02\" rx=\"57.71\" ry=\"57.71\"/>\n",
       "<text text-anchor=\"start\" x=\"5843.03\" y=\"-221.74\" font-family=\"Times,serif\" font-size=\"12.00\">ATP consumption</text>\n",
       "</g>\n",
       "<!-- (&#39;reactions_store&#39;,)&#45;&gt;(&#39;reactions_store&#39;, &#39;ATP consumption&#39;) -->\n",
       "<g id=\"edge49\" class=\"edge\">\n",
       "<title>(&#39;reactions_store&#39;,)&#45;&gt;(&#39;reactions_store&#39;, &#39;ATP consumption&#39;)</title>\n",
       "<path fill=\"none\" stroke=\"black\" stroke-width=\"2\" d=\"M5065.75,-481.15C5182.12,-472.87 5483.9,-447.33 5729.78,-391.42 5770.38,-382.19 5787.31,-389.44 5818.78,-362.17 5842.93,-341.25 5859.27,-309.57 5869.77,-282.14\"/>\n",
       "</g>\n",
       "<!-- (&#39;reactions_store&#39;, &#39;Adenylate kinase&#39;) -->\n",
       "<g id=\"node54\" class=\"node\">\n",
       "<title>(&#39;reactions_store&#39;, &#39;Adenylate kinase&#39;)</title>\n",
       "<ellipse fill=\"none\" stroke=\"black\" stroke-width=\"2\" cx=\"6016.78\" cy=\"-226.02\" rx=\"55.38\" ry=\"55.38\"/>\n",
       "<text text-anchor=\"start\" x=\"5975.9\" y=\"-221.74\" font-family=\"Times,serif\" font-size=\"12.00\">Adenylate kinase</text>\n",
       "</g>\n",
       "<!-- (&#39;reactions_store&#39;,)&#45;&gt;(&#39;reactions_store&#39;, &#39;Adenylate kinase&#39;) -->\n",
       "<g id=\"edge50\" class=\"edge\">\n",
       "<title>(&#39;reactions_store&#39;,)&#45;&gt;(&#39;reactions_store&#39;, &#39;Adenylate kinase&#39;)</title>\n",
       "<path fill=\"none\" stroke=\"black\" stroke-width=\"2\" d=\"M5066.03,-484.15C5238.28,-482.51 5810.89,-468.99 5952.78,-362.17 5978.92,-342.5 5994.83,-309.45 6004.25,-280.96\"/>\n",
       "</g>\n",
       "<!-- (&#39;reactions_store&#39;,)&#45;&gt;(&#39;single_copasi_process&#39;,) -->\n",
       "<g id=\"edge54\" class=\"edge\">\n",
       "<title>(&#39;reactions_store&#39;,)&#45;&gt;(&#39;single_copasi_process&#39;,)</title>\n",
       "<path fill=\"none\" stroke=\"black\" stroke-dasharray=\"5,2\" d=\"M4967.74,-484.14C4770.7,-482.73 4017.77,-472.09 3405.03,-391.42 3341.47,-383.06 3317.95,-396.46 3263.78,-362.17 3222.23,-335.88 3191.43,-286.24 3175.07,-254.99\"/>\n",
       "<polygon fill=\"black\" stroke=\"black\" points=\"3178.22,-253.46 3170.58,-246.12 3171.97,-256.62 3178.22,-253.46\"/>\n",
       "<text text-anchor=\"start\" x=\"3405.78\" y=\"-381.92\" font-family=\"Times,serif\" font-size=\"10.00\">reactions</text>\n",
       "</g>\n",
       "<!-- (&#39;single_copasi_process&#39;,)&#45;&gt;(&#39;single_copasi_process&#39;, &#39;interval&#39;) -->\n",
       "<g id=\"edge1\" class=\"edge\">\n",
       "<title>(&#39;single_copasi_process&#39;,)&#45;&gt;(&#39;single_copasi_process&#39;, &#39;interval&#39;)</title>\n",
       "<path fill=\"none\" stroke=\"black\" stroke-width=\"2\" d=\"M3161.78,-207.13C3161.78,-172.17 3161.78,-94.63 3161.78,-53.78\"/>\n",
       "</g>\n",
       "</g>\n",
       "</svg>\n"
      ],
      "text/plain": [
       "<graphviz.graphs.Digraph at 0x107675e40>"
      ]
     },
     "execution_count": 11,
     "metadata": {},
     "output_type": "execute_result"
    }
   ],
   "source": [
    "b2.visualize()"
   ]
  },
  {
   "cell_type": "code",
   "execution_count": 12,
   "id": "428c2e6ba402c64c",
   "metadata": {
    "ExecuteTime": {
     "end_time": "2024-03-05T13:54:21.790220Z",
     "start_time": "2024-03-05T13:54:21.787598Z"
    },
    "collapsed": false
   },
   "outputs": [
    {
     "name": "stdout",
     "output_type": "stream",
     "text": [
      "Builder({ 'single_copasi_process': { '_type': 'process',\n",
      "                             'address': 'local:CopasiProcess',\n",
      "                             'config': { 'method': 'stochastic',\n",
      "                                         'model': { 'model_changes': { 'global_parameter_changes': None,\n",
      "                                                                       'reaction_changes': None,\n",
      "                                                                       'species_changes': None},\n",
      "                                                    'model_id': 'BIOMD0000000061',\n",
      "                                                    'model_language': 'sbml',\n",
      "                                                    'model_name': 'Unnamed '\n",
      "                                                                  'Composite '\n",
      "                                                                  'Process '\n",
      "                                                                  'TimeCourseModel',\n",
      "                                                    'model_source': { 'value': '../biosimulator_processes/model_files/BIOMD0000000061_url.xml'},\n",
      "                                                    'model_units': None}},\n",
      "                             'inputs': { 'floating_species': [ 'floating_species_store'],\n",
      "                                         'model_parameters': [ 'model_parameters_store'],\n",
      "                                         'reactions': ['reactions_store'],\n",
      "                                         'time': ['time_store']},\n",
      "                             'instance': <biosimulator_processes.processes.copasi_process.CopasiProcess object at 0x297bf0910>,\n",
      "                             'interval': 1.0,\n",
      "                             'outputs': { 'floating_species': [ 'floating_species_store'],\n",
      "                                          'time': ['time_store']}}})\n"
     ]
    }
   ],
   "source": [
    "pp(b2)"
   ]
  },
  {
   "cell_type": "code",
   "execution_count": 13,
   "id": "4a56a56e317062f4",
   "metadata": {
    "ExecuteTime": {
     "end_time": "2024-03-05T13:54:22.730310Z",
     "start_time": "2024-03-05T13:54:22.723781Z"
    },
    "collapsed": false
   },
   "outputs": [],
   "source": [
    "composite2 = b2.generate()"
   ]
  },
  {
   "cell_type": "code",
   "execution_count": 14,
   "id": "a1b3395080f3a8e",
   "metadata": {
    "ExecuteTime": {
     "end_time": "2024-03-05T13:54:24.552600Z",
     "start_time": "2024-03-05T13:54:23.142251Z"
    },
    "collapsed": false
   },
   "outputs": [
    {
     "name": "stderr",
     "output_type": "stream",
     "text": [
      "Error while initializing the simulation: >ERROR 2024-03-05T08:54:23<\n",
      "  At least one reaction is reversible. That means stochastic simulation is not possible. \n",
      "  You can use \"Tools|Convert to irreversible\" which will split the reversible reactions \n",
      "   into two irreversible reactions. However you should check the kinetics afterwards.\n",
      "/Users/alex/Desktop/uchc_work/biosimulator-processes/notebooks/../biosimulator_processes/processes/copasi_process.py:253: FutureWarning:\n",
      "\n",
      "Series.__getitem__ treating keys as positions is deprecated. In a future version, integer keys will always be treated as labels (consistent with DataFrame behavior). To access a value by position, use `ser.iloc[pos]`\n",
      "\n",
      "Error while initializing the simulation: >ERROR 2024-03-05T08:54:23<\n",
      "  At least one reaction is reversible. That means stochastic simulation is not possible. \n",
      "  You can use \"Tools|Convert to irreversible\" which will split the reversible reactions \n",
      "   into two irreversible reactions. However you should check the kinetics afterwards.\n"
     ]
    },
    {
     "name": "stdout",
     "output_type": "stream",
     "text": [
      "THE RESULTS AT INTERVAL 1.0:\n",
      "{'time': 1.0, 'floating_species': {'Extracellular glucose': 6.7, 'Cytosolic glucose': 0.573074, 'ATP': 2.1, 'Glucose-6-Phosphate': 4.2, 'ADP': 1.5, 'Fructose-6-Phosphate': 0.49, 'Fructose 1,6-bisphosphate': 4.64, 'Glyceraldehyde 3-phosphate': 0.115, 'Dihydroxyacetone phosphate': 2.95, 'NAD': 0.65, '1,3-Bisphosphoglycerate': 0.00027, 'NADH': 0.33, 'Phosphoenolpyruvate': 0.04, 'Pyruvate': 8.7, 'Acetaldehyde': 1.48153, 'EtOH': 19.2379, 'Extracellular ethanol': 16.4514, 'Glycerol': 4.196, 'Extracellular glycerol': 1.68478, 'Extracellular acetaldehyde': 1.28836, 'Extracellular cyanide': 5.20358, 'AMP': 0.33, 'P': 0.0, 'Mixed flow cyanide': 5.6, 'Mixed flow glucose': 24.0}}\n",
      "THE RESULTS AT INTERVAL 1.0:\n",
      "{'time': 1.0, 'floating_species': {'Extracellular glucose': 6.7, 'Cytosolic glucose': 0.573074, 'ATP': 2.1, 'Glucose-6-Phosphate': 4.2, 'ADP': 1.5, 'Fructose-6-Phosphate': 0.49, 'Fructose 1,6-bisphosphate': 4.64, 'Glyceraldehyde 3-phosphate': 0.115, 'Dihydroxyacetone phosphate': 2.95, 'NAD': 0.65, '1,3-Bisphosphoglycerate': 0.00027, 'NADH': 0.33, 'Phosphoenolpyruvate': 0.04, 'Pyruvate': 8.7, 'Acetaldehyde': 1.48153, 'EtOH': 19.2379, 'Extracellular ethanol': 16.4514, 'Glycerol': 4.196, 'Extracellular glycerol': 1.68478, 'Extracellular acetaldehyde': 1.28836, 'Extracellular cyanide': 5.20358, 'AMP': 0.33, 'P': 0.0, 'Mixed flow cyanide': 5.6, 'Mixed flow glucose': 24.0}}\n"
     ]
    },
    {
     "name": "stderr",
     "output_type": "stream",
     "text": [
      "Error while initializing the simulation: >ERROR 2024-03-05T08:54:23<\n",
      "  At least one reaction is reversible. That means stochastic simulation is not possible. \n",
      "  You can use \"Tools|Convert to irreversible\" which will split the reversible reactions \n",
      "   into two irreversible reactions. However you should check the kinetics afterwards.\n",
      "Error while initializing the simulation: >ERROR 2024-03-05T08:54:23<\n",
      "  At least one reaction is reversible. That means stochastic simulation is not possible. \n",
      "  You can use \"Tools|Convert to irreversible\" which will split the reversible reactions \n",
      "   into two irreversible reactions. However you should check the kinetics afterwards.\n"
     ]
    },
    {
     "name": "stdout",
     "output_type": "stream",
     "text": [
      "THE RESULTS AT INTERVAL 1.0:\n",
      "{'time': 1.0, 'floating_species': {'Extracellular glucose': 6.7, 'Cytosolic glucose': 0.573074, 'ATP': 2.1, 'Glucose-6-Phosphate': 4.2, 'ADP': 1.5, 'Fructose-6-Phosphate': 0.49, 'Fructose 1,6-bisphosphate': 4.64, 'Glyceraldehyde 3-phosphate': 0.115, 'Dihydroxyacetone phosphate': 2.95, 'NAD': 0.65, '1,3-Bisphosphoglycerate': 0.00027, 'NADH': 0.33, 'Phosphoenolpyruvate': 0.04, 'Pyruvate': 8.7, 'Acetaldehyde': 1.48153, 'EtOH': 19.2379, 'Extracellular ethanol': 16.4514, 'Glycerol': 4.196, 'Extracellular glycerol': 1.68478, 'Extracellular acetaldehyde': 1.28836, 'Extracellular cyanide': 5.20358, 'AMP': 0.33, 'P': 0.0, 'Mixed flow cyanide': 5.6, 'Mixed flow glucose': 24.0}}\n",
      "THE RESULTS AT INTERVAL 1.0:\n",
      "{'time': 1.0, 'floating_species': {'Extracellular glucose': 6.7, 'Cytosolic glucose': 0.573074, 'ATP': 2.1, 'Glucose-6-Phosphate': 4.2, 'ADP': 1.5, 'Fructose-6-Phosphate': 0.49, 'Fructose 1,6-bisphosphate': 4.64, 'Glyceraldehyde 3-phosphate': 0.115, 'Dihydroxyacetone phosphate': 2.95, 'NAD': 0.65, '1,3-Bisphosphoglycerate': 0.00027, 'NADH': 0.33, 'Phosphoenolpyruvate': 0.04, 'Pyruvate': 8.7, 'Acetaldehyde': 1.48153, 'EtOH': 19.2379, 'Extracellular ethanol': 16.4514, 'Glycerol': 4.196, 'Extracellular glycerol': 1.68478, 'Extracellular acetaldehyde': 1.28836, 'Extracellular cyanide': 5.20358, 'AMP': 0.33, 'P': 0.0, 'Mixed flow cyanide': 5.6, 'Mixed flow glucose': 24.0}}\n"
     ]
    },
    {
     "name": "stderr",
     "output_type": "stream",
     "text": [
      "Error while initializing the simulation: >ERROR 2024-03-05T08:54:23<\n",
      "  At least one reaction is reversible. That means stochastic simulation is not possible. \n",
      "  You can use \"Tools|Convert to irreversible\" which will split the reversible reactions \n",
      "   into two irreversible reactions. However you should check the kinetics afterwards.\n",
      "Error while initializing the simulation: >ERROR 2024-03-05T08:54:23<\n",
      "  At least one reaction is reversible. That means stochastic simulation is not possible. \n",
      "  You can use \"Tools|Convert to irreversible\" which will split the reversible reactions \n",
      "   into two irreversible reactions. However you should check the kinetics afterwards.\n"
     ]
    },
    {
     "name": "stdout",
     "output_type": "stream",
     "text": [
      "THE RESULTS AT INTERVAL 1.0:\n",
      "{'time': 1.0, 'floating_species': {'Extracellular glucose': 6.7, 'Cytosolic glucose': 0.573074, 'ATP': 2.1, 'Glucose-6-Phosphate': 4.2, 'ADP': 1.5, 'Fructose-6-Phosphate': 0.49, 'Fructose 1,6-bisphosphate': 4.64, 'Glyceraldehyde 3-phosphate': 0.115, 'Dihydroxyacetone phosphate': 2.95, 'NAD': 0.65, '1,3-Bisphosphoglycerate': 0.00027, 'NADH': 0.33, 'Phosphoenolpyruvate': 0.04, 'Pyruvate': 8.7, 'Acetaldehyde': 1.48153, 'EtOH': 19.2379, 'Extracellular ethanol': 16.4514, 'Glycerol': 4.196, 'Extracellular glycerol': 1.68478, 'Extracellular acetaldehyde': 1.28836, 'Extracellular cyanide': 5.20358, 'AMP': 0.33, 'P': 0.0, 'Mixed flow cyanide': 5.6, 'Mixed flow glucose': 24.0}}\n",
      "THE RESULTS AT INTERVAL 1.0:\n",
      "{'time': 1.0, 'floating_species': {'Extracellular glucose': 6.7, 'Cytosolic glucose': 0.573074, 'ATP': 2.1, 'Glucose-6-Phosphate': 4.2, 'ADP': 1.5, 'Fructose-6-Phosphate': 0.49, 'Fructose 1,6-bisphosphate': 4.64, 'Glyceraldehyde 3-phosphate': 0.115, 'Dihydroxyacetone phosphate': 2.95, 'NAD': 0.65, '1,3-Bisphosphoglycerate': 0.00027, 'NADH': 0.33, 'Phosphoenolpyruvate': 0.04, 'Pyruvate': 8.7, 'Acetaldehyde': 1.48153, 'EtOH': 19.2379, 'Extracellular ethanol': 16.4514, 'Glycerol': 4.196, 'Extracellular glycerol': 1.68478, 'Extracellular acetaldehyde': 1.28836, 'Extracellular cyanide': 5.20358, 'AMP': 0.33, 'P': 0.0, 'Mixed flow cyanide': 5.6, 'Mixed flow glucose': 24.0}}\n"
     ]
    },
    {
     "name": "stderr",
     "output_type": "stream",
     "text": [
      "Error while initializing the simulation: >ERROR 2024-03-05T08:54:24<\n",
      "  At least one reaction is reversible. That means stochastic simulation is not possible. \n",
      "  You can use \"Tools|Convert to irreversible\" which will split the reversible reactions \n",
      "   into two irreversible reactions. However you should check the kinetics afterwards.\n",
      "Error while initializing the simulation: >ERROR 2024-03-05T08:54:24<\n",
      "  At least one reaction is reversible. That means stochastic simulation is not possible. \n",
      "  You can use \"Tools|Convert to irreversible\" which will split the reversible reactions \n",
      "   into two irreversible reactions. However you should check the kinetics afterwards.\n"
     ]
    },
    {
     "name": "stdout",
     "output_type": "stream",
     "text": [
      "THE RESULTS AT INTERVAL 1.0:\n",
      "{'time': 1.0, 'floating_species': {'Extracellular glucose': 6.7, 'Cytosolic glucose': 0.573074, 'ATP': 2.1, 'Glucose-6-Phosphate': 4.2, 'ADP': 1.5, 'Fructose-6-Phosphate': 0.49, 'Fructose 1,6-bisphosphate': 4.64, 'Glyceraldehyde 3-phosphate': 0.115, 'Dihydroxyacetone phosphate': 2.95, 'NAD': 0.65, '1,3-Bisphosphoglycerate': 0.00027, 'NADH': 0.33, 'Phosphoenolpyruvate': 0.04, 'Pyruvate': 8.7, 'Acetaldehyde': 1.48153, 'EtOH': 19.2379, 'Extracellular ethanol': 16.4514, 'Glycerol': 4.196, 'Extracellular glycerol': 1.68478, 'Extracellular acetaldehyde': 1.28836, 'Extracellular cyanide': 5.20358, 'AMP': 0.33, 'P': 0.0, 'Mixed flow cyanide': 5.6, 'Mixed flow glucose': 24.0}}\n",
      "THE RESULTS AT INTERVAL 1.0:\n",
      "{'time': 1.0, 'floating_species': {'Extracellular glucose': 6.7, 'Cytosolic glucose': 0.573074, 'ATP': 2.1, 'Glucose-6-Phosphate': 4.2, 'ADP': 1.5, 'Fructose-6-Phosphate': 0.49, 'Fructose 1,6-bisphosphate': 4.64, 'Glyceraldehyde 3-phosphate': 0.115, 'Dihydroxyacetone phosphate': 2.95, 'NAD': 0.65, '1,3-Bisphosphoglycerate': 0.00027, 'NADH': 0.33, 'Phosphoenolpyruvate': 0.04, 'Pyruvate': 8.7, 'Acetaldehyde': 1.48153, 'EtOH': 19.2379, 'Extracellular ethanol': 16.4514, 'Glycerol': 4.196, 'Extracellular glycerol': 1.68478, 'Extracellular acetaldehyde': 1.28836, 'Extracellular cyanide': 5.20358, 'AMP': 0.33, 'P': 0.0, 'Mixed flow cyanide': 5.6, 'Mixed flow glucose': 24.0}}\n"
     ]
    },
    {
     "name": "stderr",
     "output_type": "stream",
     "text": [
      "Error while initializing the simulation: >ERROR 2024-03-05T08:54:24<\n",
      "  At least one reaction is reversible. That means stochastic simulation is not possible. \n",
      "  You can use \"Tools|Convert to irreversible\" which will split the reversible reactions \n",
      "   into two irreversible reactions. However you should check the kinetics afterwards.\n",
      "Error while initializing the simulation: >ERROR 2024-03-05T08:54:24<\n",
      "  At least one reaction is reversible. That means stochastic simulation is not possible. \n",
      "  You can use \"Tools|Convert to irreversible\" which will split the reversible reactions \n",
      "   into two irreversible reactions. However you should check the kinetics afterwards.\n"
     ]
    },
    {
     "name": "stdout",
     "output_type": "stream",
     "text": [
      "THE RESULTS AT INTERVAL 1.0:\n",
      "{'time': 1.0, 'floating_species': {'Extracellular glucose': 6.7, 'Cytosolic glucose': 0.573074, 'ATP': 2.1, 'Glucose-6-Phosphate': 4.2, 'ADP': 1.5, 'Fructose-6-Phosphate': 0.49, 'Fructose 1,6-bisphosphate': 4.64, 'Glyceraldehyde 3-phosphate': 0.115, 'Dihydroxyacetone phosphate': 2.95, 'NAD': 0.65, '1,3-Bisphosphoglycerate': 0.00027, 'NADH': 0.33, 'Phosphoenolpyruvate': 0.04, 'Pyruvate': 8.7, 'Acetaldehyde': 1.48153, 'EtOH': 19.2379, 'Extracellular ethanol': 16.4514, 'Glycerol': 4.196, 'Extracellular glycerol': 1.68478, 'Extracellular acetaldehyde': 1.28836, 'Extracellular cyanide': 5.20358, 'AMP': 0.33, 'P': 0.0, 'Mixed flow cyanide': 5.6, 'Mixed flow glucose': 24.0}}\n",
      "THE RESULTS AT INTERVAL 1.0:\n",
      "{'time': 1.0, 'floating_species': {'Extracellular glucose': 6.7, 'Cytosolic glucose': 0.573074, 'ATP': 2.1, 'Glucose-6-Phosphate': 4.2, 'ADP': 1.5, 'Fructose-6-Phosphate': 0.49, 'Fructose 1,6-bisphosphate': 4.64, 'Glyceraldehyde 3-phosphate': 0.115, 'Dihydroxyacetone phosphate': 2.95, 'NAD': 0.65, '1,3-Bisphosphoglycerate': 0.00027, 'NADH': 0.33, 'Phosphoenolpyruvate': 0.04, 'Pyruvate': 8.7, 'Acetaldehyde': 1.48153, 'EtOH': 19.2379, 'Extracellular ethanol': 16.4514, 'Glycerol': 4.196, 'Extracellular glycerol': 1.68478, 'Extracellular acetaldehyde': 1.28836, 'Extracellular cyanide': 5.20358, 'AMP': 0.33, 'P': 0.0, 'Mixed flow cyanide': 5.6, 'Mixed flow glucose': 24.0}}\n"
     ]
    }
   ],
   "source": [
    "# TODO: try different solvers for this: certainly stochastic\n",
    "\n",
    "composite2.run(10)"
   ]
  },
  {
   "cell_type": "markdown",
   "id": "e26e4b2202e56e0e",
   "metadata": {
    "collapsed": false
   },
   "source": [
    "Connect the single process to an emitter instance"
   ]
  },
  {
   "cell_type": "code",
   "execution_count": 15,
   "id": "3b6c7e20988585e3",
   "metadata": {
    "ExecuteTime": {
     "end_time": "2024-03-05T13:54:26.330489Z",
     "start_time": "2024-03-05T13:54:26.328213Z"
    },
    "collapsed": false
   },
   "outputs": [],
   "source": [
    "from biosimulator_processes.data_model import EmitterConfig, EmittedType\n",
    "\n",
    "\n",
    "emitter_config = EmitterConfig(\n",
    "    emit=[\n",
    "        EmittedType(value_name='floating_species', _type='tree[float]'),\n",
    "        EmittedType(value_name='time', _type='float')\n",
    "        \n",
    "    ],\n",
    "    name='emitter'\n",
    ")"
   ]
  },
  {
   "cell_type": "code",
   "execution_count": 27,
   "id": "da53d193fa852065",
   "metadata": {
    "ExecuteTime": {
     "end_time": "2024-03-05T13:58:48.806634Z",
     "start_time": "2024-03-05T13:58:48.802014Z"
    },
    "collapsed": false
   },
   "outputs": [],
   "source": [
    "# b2[emitter_config.name].add_process(\n",
    "#     name='ram-emitter',\n",
    "#     emit={\n",
    "#        'floating_species': 'tree[float]',\n",
    "#        'time': 'float'}\n",
    "# )\n",
    "b2['emitter'].add_process(\n",
    "    name='ram-emitter',\n",
    "    emit={\n",
    "       'floating_species': 'tree[float]',\n",
    "       'time': 'float'}\n",
    ")"
   ]
  },
  {
   "cell_type": "code",
   "execution_count": 28,
   "id": "76a20f80917f5cef",
   "metadata": {
    "ExecuteTime": {
     "end_time": "2024-03-05T13:58:49.822748Z",
     "start_time": "2024-03-05T13:58:49.820515Z"
    },
    "collapsed": false
   },
   "outputs": [],
   "source": [
    "b2.connect_all()"
   ]
  },
  {
   "cell_type": "code",
   "execution_count": 29,
   "id": "2d19f7c22becc02d",
   "metadata": {
    "ExecuteTime": {
     "end_time": "2024-03-05T13:58:50.266258Z",
     "start_time": "2024-03-05T13:58:50.097995Z"
    },
    "collapsed": false
   },
   "outputs": [
    {
     "data": {
      "image/svg+xml": [
       "<?xml version=\"1.0\" encoding=\"UTF-8\" standalone=\"no\"?>\n",
       "<!DOCTYPE svg PUBLIC \"-//W3C//DTD SVG 1.1//EN\"\n",
       " \"http://www.w3.org/Graphics/SVG/1.1/DTD/svg11.dtd\">\n",
       "<!-- Generated by graphviz version 9.0.0 (20230911.1827)\n",
       " -->\n",
       "<!-- Title: bigraph Pages: 1 -->\n",
       "<svg width=\"1120pt\" height=\"93pt\"\n",
       " viewBox=\"0.00 0.00 1152.00 96.14\" xmlns=\"http://www.w3.org/2000/svg\" xmlns:xlink=\"http://www.w3.org/1999/xlink\">\n",
       "<g id=\"graph0\" class=\"graph\" transform=\"scale(0.164188 0.164188) rotate(0) translate(4 565.27)\">\n",
       "<title>bigraph</title>\n",
       "<polygon fill=\"white\" stroke=\"none\" points=\"-4,4 -4,-565.27 6817.46,-565.27 6817.46,4 -4,4\"/>\n",
       "<!-- (&#39;single_copasi_process&#39;, &#39;interval&#39;) -->\n",
       "<g id=\"node1\" class=\"node\">\n",
       "<title>(&#39;single_copasi_process&#39;, &#39;interval&#39;)</title>\n",
       "<ellipse fill=\"none\" stroke=\"black\" stroke-width=\"2\" cx=\"157.83\" cy=\"-26.43\" rx=\"26.43\" ry=\"26.43\"/>\n",
       "<text text-anchor=\"start\" x=\"140.21\" y=\"-22.15\" font-family=\"Times,serif\" font-size=\"12.00\">interval</text>\n",
       "</g>\n",
       "<!-- (&#39;time_store&#39;,) -->\n",
       "<g id=\"node2\" class=\"node\">\n",
       "<title>(&#39;time_store&#39;,)</title>\n",
       "<ellipse fill=\"none\" stroke=\"black\" stroke-width=\"2\" cx=\"34.83\" cy=\"-485.35\" rx=\"34.83\" ry=\"34.83\"/>\n",
       "<text text-anchor=\"start\" x=\"10.46\" y=\"-481.07\" font-family=\"Times,serif\" font-size=\"12.00\">time_store</text>\n",
       "</g>\n",
       "<!-- (&#39;single_copasi_process&#39;,) -->\n",
       "<g id=\"node55\" class=\"node\">\n",
       "<title>(&#39;single_copasi_process&#39;,)</title>\n",
       "<polygon fill=\"none\" stroke=\"black\" stroke-width=\"2\" points=\"213.93,-244.02 101.73,-244.02 101.73,-208.02 213.93,-208.02 213.93,-244.02\"/>\n",
       "<text text-anchor=\"start\" x=\"105.33\" y=\"-221.74\" font-family=\"Times,serif\" font-size=\"12.00\">single_copasi_process</text>\n",
       "</g>\n",
       "<!-- (&#39;time_store&#39;,)&#45;&gt;(&#39;single_copasi_process&#39;,) -->\n",
       "<g id=\"edge51\" class=\"edge\">\n",
       "<title>(&#39;time_store&#39;,)&#45;&gt;(&#39;single_copasi_process&#39;,)</title>\n",
       "<path fill=\"none\" stroke=\"black\" stroke-dasharray=\"5,2\" d=\"M46.86,-452.07C54.83,-431.3 65.83,-403.87 76.83,-380.17 97.69,-335.27 125.21,-284.8 142.21,-254.48\"/>\n",
       "<polygon fill=\"black\" stroke=\"black\" points=\"145.15,-256.38 147.01,-245.95 139.05,-252.95 145.15,-256.38\"/>\n",
       "<text text-anchor=\"start\" x=\"76.83\" y=\"-381.92\" font-family=\"Times,serif\" font-size=\"10.00\">time</text>\n",
       "</g>\n",
       "<!-- (&#39;time_store&#39;,)&#45;&gt;(&#39;single_copasi_process&#39;,) -->\n",
       "<g id=\"edge57\" class=\"edge\">\n",
       "<title>(&#39;time_store&#39;,)&#45;&gt;(&#39;single_copasi_process&#39;,)</title>\n",
       "<path fill=\"none\" stroke=\"black\" stroke-dasharray=\"5,2\" d=\"M56.68,-443.83C63.36,-432.42 71.01,-420.18 78.83,-409.42 85.13,-400.77 89.27,-400.57 94.83,-391.42 124.85,-342.06 144.88,-275.97 153.31,-244.76\"/>\n",
       "<polygon fill=\"black\" stroke=\"black\" points=\"53.77,-441.87 51.84,-452.29 59.85,-445.35 53.77,-441.87\"/>\n",
       "<text text-anchor=\"start\" x=\"99.83\" y=\"-381.92\" font-family=\"Times,serif\" font-size=\"10.00\">time</text>\n",
       "</g>\n",
       "<!-- (&#39;emitter&#39;,) -->\n",
       "<g id=\"node56\" class=\"node\">\n",
       "<title>(&#39;emitter&#39;,)</title>\n",
       "<polygon fill=\"none\" stroke=\"black\" stroke-width=\"2\" points=\"72.83,-244.02 18.83,-244.02 18.83,-208.02 72.83,-208.02 72.83,-244.02\"/>\n",
       "<text text-anchor=\"start\" x=\"29.71\" y=\"-221.74\" font-family=\"Times,serif\" font-size=\"12.00\">emitter</text>\n",
       "</g>\n",
       "<!-- (&#39;time_store&#39;,)&#45;&gt;(&#39;emitter&#39;,) -->\n",
       "<g id=\"edge56\" class=\"edge\">\n",
       "<title>(&#39;time_store&#39;,)&#45;&gt;(&#39;emitter&#39;,)</title>\n",
       "<path fill=\"none\" stroke=\"black\" stroke-dasharray=\"5,2\" d=\"M34.68,-449.61C34.72,-429.35 34.97,-403.31 35.83,-380.17 37.45,-336.92 41.04,-286.89 43.45,-256.1\"/>\n",
       "<polygon fill=\"black\" stroke=\"black\" points=\"46.92,-256.67 44.22,-246.43 39.94,-256.12 46.92,-256.67\"/>\n",
       "<text text-anchor=\"start\" x=\"35.83\" y=\"-381.92\" font-family=\"Times,serif\" font-size=\"10.00\">time</text>\n",
       "</g>\n",
       "<!-- (&#39;floating_species_store&#39;,) -->\n",
       "<g id=\"node3\" class=\"node\">\n",
       "<title>(&#39;floating_species_store&#39;,)</title>\n",
       "<ellipse fill=\"none\" stroke=\"black\" stroke-width=\"2\" cx=\"1709.83\" cy=\"-485.35\" rx=\"69.39\" ry=\"69.39\"/>\n",
       "<text text-anchor=\"start\" x=\"1657.71\" y=\"-481.07\" font-family=\"Times,serif\" font-size=\"12.00\">floating_species_store</text>\n",
       "</g>\n",
       "<!-- (&#39;floating_species_store&#39;, &#39;Extracellular glucose&#39;) -->\n",
       "<g id=\"node4\" class=\"node\">\n",
       "<title>(&#39;floating_species_store&#39;, &#39;Extracellular glucose&#39;)</title>\n",
       "<ellipse fill=\"none\" stroke=\"black\" stroke-width=\"2\" cx=\"297.83\" cy=\"-226.02\" rx=\"66.12\" ry=\"66.12\"/>\n",
       "<text text-anchor=\"start\" x=\"248.33\" y=\"-221.74\" font-family=\"Times,serif\" font-size=\"12.00\">Extracellular glucose</text>\n",
       "</g>\n",
       "<!-- (&#39;floating_species_store&#39;,)&#45;&gt;(&#39;floating_species_store&#39;, &#39;Extracellular glucose&#39;) -->\n",
       "<g id=\"edge2\" class=\"edge\">\n",
       "<title>(&#39;floating_species_store&#39;,)&#45;&gt;(&#39;floating_species_store&#39;, &#39;Extracellular glucose&#39;)</title>\n",
       "<path fill=\"none\" stroke=\"black\" stroke-width=\"2\" d=\"M1639.62,-481.61C1419.34,-472.56 743.85,-441.38 530.83,-391.42 517.78,-388.36 515.79,-383.62 502.83,-380.17 446.46,-365.19 420.95,-395.15 372.83,-362.17 347.6,-344.88 329.97,-316.18 318.17,-289.67\"/>\n",
       "</g>\n",
       "<!-- (&#39;floating_species_store&#39;, &#39;Cytosolic glucose&#39;) -->\n",
       "<g id=\"node5\" class=\"node\">\n",
       "<title>(&#39;floating_species_store&#39;, &#39;Cytosolic glucose&#39;)</title>\n",
       "<ellipse fill=\"none\" stroke=\"black\" stroke-width=\"2\" cx=\"438.83\" cy=\"-226.02\" rx=\"56.78\" ry=\"56.78\"/>\n",
       "<text text-anchor=\"start\" x=\"396.83\" y=\"-221.74\" font-family=\"Times,serif\" font-size=\"12.00\">Cytosolic glucose</text>\n",
       "</g>\n",
       "<!-- (&#39;floating_species_store&#39;,)&#45;&gt;(&#39;floating_species_store&#39;, &#39;Cytosolic glucose&#39;) -->\n",
       "<g id=\"edge3\" class=\"edge\">\n",
       "<title>(&#39;floating_species_store&#39;,)&#45;&gt;(&#39;floating_species_store&#39;, &#39;Cytosolic glucose&#39;)</title>\n",
       "<path fill=\"none\" stroke=\"black\" stroke-width=\"2\" d=\"M1639.57,-484.1C1462.44,-482.25 984.02,-469.78 594.83,-391.42 553.6,-383.12 536.58,-389.76 504.83,-362.17 480.59,-341.11 464.41,-309.08 454.13,-281.49\"/>\n",
       "</g>\n",
       "<!-- (&#39;floating_species_store&#39;, &#39;ATP&#39;) -->\n",
       "<g id=\"node6\" class=\"node\">\n",
       "<title>(&#39;floating_species_store&#39;, &#39;ATP&#39;)</title>\n",
       "<ellipse fill=\"none\" stroke=\"black\" stroke-width=\"2\" cx=\"531.83\" cy=\"-226.02\" rx=\"18.02\" ry=\"18.02\"/>\n",
       "<text text-anchor=\"start\" x=\"520.96\" y=\"-221.74\" font-family=\"Times,serif\" font-size=\"12.00\">ATP</text>\n",
       "</g>\n",
       "<!-- (&#39;floating_species_store&#39;,)&#45;&gt;(&#39;floating_species_store&#39;, &#39;ATP&#39;) -->\n",
       "<g id=\"edge4\" class=\"edge\">\n",
       "<title>(&#39;floating_species_store&#39;,)&#45;&gt;(&#39;floating_species_store&#39;, &#39;ATP&#39;)</title>\n",
       "<path fill=\"none\" stroke=\"black\" stroke-width=\"2\" d=\"M1639.63,-481.83C1401.79,-472.63 636.96,-437.4 558.83,-362.17 526.77,-331.3 527.05,-273.94 529.59,-244.88\"/>\n",
       "</g>\n",
       "<!-- (&#39;floating_species_store&#39;, &#39;Glucose&#45;6&#45;Phosphate&#39;) -->\n",
       "<g id=\"node7\" class=\"node\">\n",
       "<title>(&#39;floating_species_store&#39;, &#39;Glucose&#45;6&#45;Phosphate&#39;)</title>\n",
       "<ellipse fill=\"none\" stroke=\"black\" stroke-width=\"2\" cx=\"635.83\" cy=\"-226.02\" rx=\"67.52\" ry=\"67.52\"/>\n",
       "<text text-anchor=\"start\" x=\"585.21\" y=\"-221.74\" font-family=\"Times,serif\" font-size=\"12.00\">Glucose&#45;6&#45;Phosphate</text>\n",
       "</g>\n",
       "<!-- (&#39;floating_species_store&#39;,)&#45;&gt;(&#39;floating_species_store&#39;, &#39;Glucose&#45;6&#45;Phosphate&#39;) -->\n",
       "<g id=\"edge5\" class=\"edge\">\n",
       "<title>(&#39;floating_species_store&#39;,)&#45;&gt;(&#39;floating_species_store&#39;, &#39;Glucose&#45;6&#45;Phosphate&#39;)</title>\n",
       "<path fill=\"none\" stroke=\"black\" stroke-width=\"2\" d=\"M1639.82,-481.5C1487.66,-474.37 1116,-451.74 810.83,-391.42 765.82,-382.53 747.71,-390.77 711.83,-362.17 688.57,-343.63 671.23,-315.92 659.03,-290.4\"/>\n",
       "</g>\n",
       "<!-- (&#39;floating_species_store&#39;, &#39;ADP&#39;) -->\n",
       "<g id=\"node8\" class=\"node\">\n",
       "<title>(&#39;floating_species_store&#39;, &#39;ADP&#39;)</title>\n",
       "<ellipse fill=\"none\" stroke=\"black\" stroke-width=\"2\" cx=\"740.83\" cy=\"-226.02\" rx=\"19.89\" ry=\"19.89\"/>\n",
       "<text text-anchor=\"start\" x=\"728.46\" y=\"-221.74\" font-family=\"Times,serif\" font-size=\"12.00\">ADP</text>\n",
       "</g>\n",
       "<!-- (&#39;floating_species_store&#39;,)&#45;&gt;(&#39;floating_species_store&#39;, &#39;ADP&#39;) -->\n",
       "<g id=\"edge6\" class=\"edge\">\n",
       "<title>(&#39;floating_species_store&#39;,)&#45;&gt;(&#39;floating_species_store&#39;, &#39;ADP&#39;)</title>\n",
       "<path fill=\"none\" stroke=\"black\" stroke-width=\"2\" d=\"M1639.88,-479.93C1432.77,-466.23 833.19,-421.74 769.83,-362.17 737.84,-332.09 736.77,-275.95 738.76,-246.38\"/>\n",
       "</g>\n",
       "<!-- (&#39;floating_species_store&#39;, &#39;Fructose&#45;6&#45;Phosphate&#39;) -->\n",
       "<g id=\"node9\" class=\"node\">\n",
       "<title>(&#39;floating_species_store&#39;, &#39;Fructose&#45;6&#45;Phosphate&#39;)</title>\n",
       "<ellipse fill=\"none\" stroke=\"black\" stroke-width=\"2\" cx=\"846.83\" cy=\"-226.02\" rx=\"68.45\" ry=\"68.45\"/>\n",
       "<text text-anchor=\"start\" x=\"795.46\" y=\"-221.74\" font-family=\"Times,serif\" font-size=\"12.00\">Fructose&#45;6&#45;Phosphate</text>\n",
       "</g>\n",
       "<!-- (&#39;floating_species_store&#39;,)&#45;&gt;(&#39;floating_species_store&#39;, &#39;Fructose&#45;6&#45;Phosphate&#39;) -->\n",
       "<g id=\"edge7\" class=\"edge\">\n",
       "<title>(&#39;floating_species_store&#39;,)&#45;&gt;(&#39;floating_species_store&#39;, &#39;Fructose&#45;6&#45;Phosphate&#39;)</title>\n",
       "<path fill=\"none\" stroke=\"black\" stroke-width=\"2\" d=\"M1639.76,-481.15C1469.54,-472.2 1039.73,-442.08 923.83,-362.17 899.15,-345.16 881.4,-317.49 869.21,-291.6\"/>\n",
       "</g>\n",
       "<!-- (&#39;floating_species_store&#39;, &#39;Fructose 1,6&#45;bisphosphate&#39;) -->\n",
       "<g id=\"node10\" class=\"node\">\n",
       "<title>(&#39;floating_species_store&#39;, &#39;Fructose 1,6&#45;bisphosphate&#39;)</title>\n",
       "<ellipse fill=\"none\" stroke=\"black\" stroke-width=\"2\" cx=\"1014.83\" cy=\"-226.02\" rx=\"81.53\" ry=\"81.53\"/>\n",
       "<text text-anchor=\"start\" x=\"952.96\" y=\"-221.74\" font-family=\"Times,serif\" font-size=\"12.00\">Fructose 1,6&#45;bisphosphate</text>\n",
       "</g>\n",
       "<!-- (&#39;floating_species_store&#39;,)&#45;&gt;(&#39;floating_species_store&#39;, &#39;Fructose 1,6&#45;bisphosphate&#39;) -->\n",
       "<g id=\"edge8\" class=\"edge\">\n",
       "<title>(&#39;floating_species_store&#39;,)&#45;&gt;(&#39;floating_species_store&#39;, &#39;Fructose 1,6&#45;bisphosphate&#39;)</title>\n",
       "<path fill=\"none\" stroke=\"black\" stroke-width=\"2\" d=\"M1640.22,-476.96C1500.75,-461.09 1193.02,-420.41 1105.83,-362.17 1082.9,-346.85 1064.23,-323.6 1049.91,-300.67\"/>\n",
       "</g>\n",
       "<!-- (&#39;floating_species_store&#39;, &#39;Glyceraldehyde 3&#45;phosphate&#39;) -->\n",
       "<g id=\"node11\" class=\"node\">\n",
       "<title>(&#39;floating_species_store&#39;, &#39;Glyceraldehyde 3&#45;phosphate&#39;)</title>\n",
       "<ellipse fill=\"none\" stroke=\"black\" stroke-width=\"2\" cx=\"1203.83\" cy=\"-226.02\" rx=\"89\" ry=\"89\"/>\n",
       "<text text-anchor=\"start\" x=\"1135.96\" y=\"-221.74\" font-family=\"Times,serif\" font-size=\"12.00\">Glyceraldehyde 3&#45;phosphate</text>\n",
       "</g>\n",
       "<!-- (&#39;floating_species_store&#39;,)&#45;&gt;(&#39;floating_species_store&#39;, &#39;Glyceraldehyde 3&#45;phosphate&#39;) -->\n",
       "<g id=\"edge9\" class=\"edge\">\n",
       "<title>(&#39;floating_species_store&#39;,)&#45;&gt;(&#39;floating_species_store&#39;, &#39;Glyceraldehyde 3&#45;phosphate&#39;)</title>\n",
       "<path fill=\"none\" stroke=\"black\" stroke-width=\"2\" d=\"M1640,-477.24C1553.64,-465.54 1405.4,-435.67 1301.83,-362.17 1280.56,-347.08 1262.13,-325.89 1247.18,-304.76\"/>\n",
       "</g>\n",
       "<!-- (&#39;floating_species_store&#39;, &#39;Dihydroxyacetone phosphate&#39;) -->\n",
       "<g id=\"node12\" class=\"node\">\n",
       "<title>(&#39;floating_species_store&#39;, &#39;Dihydroxyacetone phosphate&#39;)</title>\n",
       "<ellipse fill=\"none\" stroke=\"black\" stroke-width=\"2\" cx=\"1401.83\" cy=\"-226.02\" rx=\"90.87\" ry=\"90.87\"/>\n",
       "<text text-anchor=\"start\" x=\"1332.46\" y=\"-221.74\" font-family=\"Times,serif\" font-size=\"12.00\">Dihydroxyacetone phosphate</text>\n",
       "</g>\n",
       "<!-- (&#39;floating_species_store&#39;,)&#45;&gt;(&#39;floating_species_store&#39;, &#39;Dihydroxyacetone phosphate&#39;) -->\n",
       "<g id=\"edge10\" class=\"edge\">\n",
       "<title>(&#39;floating_species_store&#39;,)&#45;&gt;(&#39;floating_species_store&#39;, &#39;Dihydroxyacetone phosphate&#39;)</title>\n",
       "<path fill=\"none\" stroke=\"black\" stroke-width=\"2\" d=\"M1646.33,-455.51C1602.72,-433.77 1545.12,-401.1 1501.83,-362.17 1482.95,-345.19 1465.35,-324.14 1450.35,-303.75\"/>\n",
       "</g>\n",
       "<!-- (&#39;floating_species_store&#39;, &#39;NAD&#39;) -->\n",
       "<g id=\"node13\" class=\"node\">\n",
       "<title>(&#39;floating_species_store&#39;, &#39;NAD&#39;)</title>\n",
       "<ellipse fill=\"none\" stroke=\"black\" stroke-width=\"2\" cx=\"1531.83\" cy=\"-226.02\" rx=\"21.29\" ry=\"21.29\"/>\n",
       "<text text-anchor=\"start\" x=\"1518.33\" y=\"-221.74\" font-family=\"Times,serif\" font-size=\"12.00\">NAD</text>\n",
       "</g>\n",
       "<!-- (&#39;floating_species_store&#39;,)&#45;&gt;(&#39;floating_species_store&#39;, &#39;NAD&#39;) -->\n",
       "<g id=\"edge11\" class=\"edge\">\n",
       "<title>(&#39;floating_species_store&#39;,)&#45;&gt;(&#39;floating_species_store&#39;, &#39;NAD&#39;)</title>\n",
       "<path fill=\"none\" stroke=\"black\" stroke-width=\"2\" d=\"M1649.95,-448.76C1619.1,-427.41 1583.5,-397.55 1561.83,-362.17 1539.86,-326.3 1533.91,-276.32 1532.34,-248.27\"/>\n",
       "</g>\n",
       "<!-- (&#39;floating_species_store&#39;, &#39;1,3&#45;Bisphosphoglycerate&#39;) -->\n",
       "<g id=\"node14\" class=\"node\">\n",
       "<title>(&#39;floating_species_store&#39;, &#39;1,3&#45;Bisphosphoglycerate&#39;)</title>\n",
       "<ellipse fill=\"none\" stroke=\"black\" stroke-width=\"2\" cx=\"1648.83\" cy=\"-226.02\" rx=\"77.79\" ry=\"77.79\"/>\n",
       "<text text-anchor=\"start\" x=\"1589.96\" y=\"-221.74\" font-family=\"Times,serif\" font-size=\"12.00\">1,3&#45;Bisphosphoglycerate</text>\n",
       "</g>\n",
       "<!-- (&#39;floating_species_store&#39;,)&#45;&gt;(&#39;floating_species_store&#39;, &#39;1,3&#45;Bisphosphoglycerate&#39;) -->\n",
       "<g id=\"edge12\" class=\"edge\">\n",
       "<title>(&#39;floating_species_store&#39;,)&#45;&gt;(&#39;floating_species_store&#39;, &#39;1,3&#45;Bisphosphoglycerate&#39;)</title>\n",
       "<path fill=\"none\" stroke=\"black\" stroke-width=\"2\" d=\"M1693.89,-417.07C1685.56,-381.93 1675.33,-338.8 1666.73,-302.52\"/>\n",
       "</g>\n",
       "<!-- (&#39;floating_species_store&#39;, &#39;NADH&#39;) -->\n",
       "<g id=\"node15\" class=\"node\">\n",
       "<title>(&#39;floating_species_store&#39;, &#39;NADH&#39;)</title>\n",
       "<ellipse fill=\"none\" stroke=\"black\" stroke-width=\"2\" cx=\"1771.83\" cy=\"-226.02\" rx=\"26.9\" ry=\"26.9\"/>\n",
       "<text text-anchor=\"start\" x=\"1753.83\" y=\"-221.74\" font-family=\"Times,serif\" font-size=\"12.00\">NADH</text>\n",
       "</g>\n",
       "<!-- (&#39;floating_species_store&#39;,)&#45;&gt;(&#39;floating_species_store&#39;, &#39;NADH&#39;) -->\n",
       "<g id=\"edge13\" class=\"edge\">\n",
       "<title>(&#39;floating_species_store&#39;,)&#45;&gt;(&#39;floating_species_store&#39;, &#39;NADH&#39;)</title>\n",
       "<path fill=\"none\" stroke=\"black\" stroke-width=\"2\" d=\"M1726.04,-417.07C1738.96,-363.46 1756.35,-291.28 1765.54,-253.15\"/>\n",
       "</g>\n",
       "<!-- (&#39;floating_species_store&#39;, &#39;Phosphoenolpyruvate&#39;) -->\n",
       "<g id=\"node16\" class=\"node\">\n",
       "<title>(&#39;floating_species_store&#39;, &#39;Phosphoenolpyruvate&#39;)</title>\n",
       "<ellipse fill=\"none\" stroke=\"black\" stroke-width=\"2\" cx=\"1884.83\" cy=\"-226.02\" rx=\"68.45\" ry=\"68.45\"/>\n",
       "<text text-anchor=\"start\" x=\"1833.46\" y=\"-221.74\" font-family=\"Times,serif\" font-size=\"12.00\">Phosphoenolpyruvate</text>\n",
       "</g>\n",
       "<!-- (&#39;floating_species_store&#39;,)&#45;&gt;(&#39;floating_species_store&#39;, &#39;Phosphoenolpyruvate&#39;) -->\n",
       "<g id=\"edge14\" class=\"edge\">\n",
       "<title>(&#39;floating_species_store&#39;,)&#45;&gt;(&#39;floating_species_store&#39;, &#39;Phosphoenolpyruvate&#39;)</title>\n",
       "<path fill=\"none\" stroke=\"black\" stroke-width=\"2\" d=\"M1755.15,-431.62C1772.41,-410.58 1791.78,-385.79 1807.83,-362.17 1823.92,-338.5 1839.89,-311.26 1853.08,-287.46\"/>\n",
       "</g>\n",
       "<!-- (&#39;floating_species_store&#39;, &#39;Pyruvate&#39;) -->\n",
       "<g id=\"node17\" class=\"node\">\n",
       "<title>(&#39;floating_species_store&#39;, &#39;Pyruvate&#39;)</title>\n",
       "<ellipse fill=\"none\" stroke=\"black\" stroke-width=\"2\" cx=\"2001.83\" cy=\"-226.02\" rx=\"30.63\" ry=\"30.63\"/>\n",
       "<text text-anchor=\"start\" x=\"1980.83\" y=\"-221.74\" font-family=\"Times,serif\" font-size=\"12.00\">Pyruvate</text>\n",
       "</g>\n",
       "<!-- (&#39;floating_species_store&#39;,)&#45;&gt;(&#39;floating_species_store&#39;, &#39;Pyruvate&#39;) -->\n",
       "<g id=\"edge15\" class=\"edge\">\n",
       "<title>(&#39;floating_species_store&#39;,)&#45;&gt;(&#39;floating_species_store&#39;, &#39;Pyruvate&#39;)</title>\n",
       "<path fill=\"none\" stroke=\"black\" stroke-width=\"2\" d=\"M1777.99,-467.89C1834.94,-450.71 1914.26,-418.25 1961.83,-362.17 1987.08,-332.41 1996.4,-287.27 1999.83,-257.46\"/>\n",
       "</g>\n",
       "<!-- (&#39;floating_species_store&#39;, &#39;Acetaldehyde&#39;) -->\n",
       "<g id=\"node18\" class=\"node\">\n",
       "<title>(&#39;floating_species_store&#39;, &#39;Acetaldehyde&#39;)</title>\n",
       "<ellipse fill=\"none\" stroke=\"black\" stroke-width=\"2\" cx=\"2095.83\" cy=\"-226.02\" rx=\"45.11\" ry=\"45.11\"/>\n",
       "<text text-anchor=\"start\" x=\"2063.21\" y=\"-221.74\" font-family=\"Times,serif\" font-size=\"12.00\">Acetaldehyde</text>\n",
       "</g>\n",
       "<!-- (&#39;floating_species_store&#39;,)&#45;&gt;(&#39;floating_species_store&#39;, &#39;Acetaldehyde&#39;) -->\n",
       "<g id=\"edge16\" class=\"edge\">\n",
       "<title>(&#39;floating_species_store&#39;,)&#45;&gt;(&#39;floating_species_store&#39;, &#39;Acetaldehyde&#39;)</title>\n",
       "<path fill=\"none\" stroke=\"black\" stroke-width=\"2\" d=\"M1779.34,-475.62C1853.34,-462.89 1969.53,-432.52 2041.83,-362.17 2066.83,-337.86 2080.57,-300.48 2087.92,-271.19\"/>\n",
       "</g>\n",
       "<!-- (&#39;floating_species_store&#39;, &#39;EtOH&#39;) -->\n",
       "<g id=\"node19\" class=\"node\">\n",
       "<title>(&#39;floating_species_store&#39;, &#39;EtOH&#39;)</title>\n",
       "<ellipse fill=\"none\" stroke=\"black\" stroke-width=\"2\" cx=\"2180.83\" cy=\"-226.02\" rx=\"22.23\" ry=\"22.23\"/>\n",
       "<text text-anchor=\"start\" x=\"2166.58\" y=\"-221.74\" font-family=\"Times,serif\" font-size=\"12.00\">EtOH</text>\n",
       "</g>\n",
       "<!-- (&#39;floating_species_store&#39;,)&#45;&gt;(&#39;floating_species_store&#39;, &#39;EtOH&#39;) -->\n",
       "<g id=\"edge17\" class=\"edge\">\n",
       "<title>(&#39;floating_species_store&#39;,)&#45;&gt;(&#39;floating_species_store&#39;, &#39;EtOH&#39;)</title>\n",
       "<path fill=\"none\" stroke=\"black\" stroke-width=\"2\" d=\"M1779.11,-473.9C1889.7,-455.82 2098.9,-415.48 2149.83,-362.17 2179.19,-331.45 2182.8,-278.85 2182.21,-249.14\"/>\n",
       "</g>\n",
       "<!-- (&#39;floating_species_store&#39;, &#39;Extracellular ethanol&#39;) -->\n",
       "<g id=\"node20\" class=\"node\">\n",
       "<title>(&#39;floating_species_store&#39;, &#39;Extracellular ethanol&#39;)</title>\n",
       "<ellipse fill=\"none\" stroke=\"black\" stroke-width=\"2\" cx=\"2285.83\" cy=\"-226.02\" rx=\"65.18\" ry=\"65.18\"/>\n",
       "<text text-anchor=\"start\" x=\"2237.08\" y=\"-221.74\" font-family=\"Times,serif\" font-size=\"12.00\">Extracellular ethanol</text>\n",
       "</g>\n",
       "<!-- (&#39;floating_species_store&#39;,)&#45;&gt;(&#39;floating_species_store&#39;, &#39;Extracellular ethanol&#39;) -->\n",
       "<g id=\"edge18\" class=\"edge\">\n",
       "<title>(&#39;floating_species_store&#39;,)&#45;&gt;(&#39;floating_species_store&#39;, &#39;Extracellular ethanol&#39;)</title>\n",
       "<path fill=\"none\" stroke=\"black\" stroke-width=\"2\" d=\"M1779.34,-475.29C1901.29,-458.16 2147.03,-417.67 2211.83,-362.17 2234.69,-342.6 2251.75,-314.13 2263.69,-288.36\"/>\n",
       "</g>\n",
       "<!-- (&#39;floating_species_store&#39;, &#39;Glycerol&#39;) -->\n",
       "<g id=\"node21\" class=\"node\">\n",
       "<title>(&#39;floating_species_store&#39;, &#39;Glycerol&#39;)</title>\n",
       "<ellipse fill=\"none\" stroke=\"black\" stroke-width=\"2\" cx=\"2398.83\" cy=\"-226.02\" rx=\"30.16\" ry=\"30.16\"/>\n",
       "<text text-anchor=\"start\" x=\"2378.21\" y=\"-221.74\" font-family=\"Times,serif\" font-size=\"12.00\">Glycerol</text>\n",
       "</g>\n",
       "<!-- (&#39;floating_species_store&#39;,)&#45;&gt;(&#39;floating_species_store&#39;, &#39;Glycerol&#39;) -->\n",
       "<g id=\"edge19\" class=\"edge\">\n",
       "<title>(&#39;floating_species_store&#39;,)&#45;&gt;(&#39;floating_species_store&#39;, &#39;Glycerol&#39;)</title>\n",
       "<path fill=\"none\" stroke=\"black\" stroke-width=\"2\" d=\"M1779.87,-480.29C1929.85,-470.18 2275.35,-438.98 2359.83,-362.17 2389.29,-335.4 2397.05,-287.92 2398.79,-256.97\"/>\n",
       "</g>\n",
       "<!-- (&#39;floating_species_store&#39;, &#39;Extracellular glycerol&#39;) -->\n",
       "<g id=\"node22\" class=\"node\">\n",
       "<title>(&#39;floating_species_store&#39;, &#39;Extracellular glycerol&#39;)</title>\n",
       "<ellipse fill=\"none\" stroke=\"black\" stroke-width=\"2\" cx=\"2514.83\" cy=\"-226.02\" rx=\"67.52\" ry=\"67.52\"/>\n",
       "<text text-anchor=\"start\" x=\"2464.21\" y=\"-221.74\" font-family=\"Times,serif\" font-size=\"12.00\">Extracellular glycerol</text>\n",
       "</g>\n",
       "<!-- (&#39;floating_species_store&#39;,)&#45;&gt;(&#39;floating_species_store&#39;, &#39;Extracellular glycerol&#39;) -->\n",
       "<g id=\"edge20\" class=\"edge\">\n",
       "<title>(&#39;floating_species_store&#39;,)&#45;&gt;(&#39;floating_species_store&#39;, &#39;Extracellular glycerol&#39;)</title>\n",
       "<path fill=\"none\" stroke=\"black\" stroke-width=\"2\" d=\"M1780.05,-480.98C1942.08,-471.89 2336.03,-441.98 2437.83,-362.17 2461.43,-343.68 2479.04,-315.81 2491.41,-290.18\"/>\n",
       "</g>\n",
       "<!-- (&#39;floating_species_store&#39;, &#39;Extracellular acetaldehyde&#39;) -->\n",
       "<g id=\"node23\" class=\"node\">\n",
       "<title>(&#39;floating_species_store&#39;, &#39;Extracellular acetaldehyde&#39;)</title>\n",
       "<ellipse fill=\"none\" stroke=\"black\" stroke-width=\"2\" cx=\"2682.83\" cy=\"-226.02\" rx=\"81.99\" ry=\"81.99\"/>\n",
       "<text text-anchor=\"start\" x=\"2620.58\" y=\"-221.74\" font-family=\"Times,serif\" font-size=\"12.00\">Extracellular acetaldehyde</text>\n",
       "</g>\n",
       "<!-- (&#39;floating_species_store&#39;,)&#45;&gt;(&#39;floating_species_store&#39;, &#39;Extracellular acetaldehyde&#39;) -->\n",
       "<g id=\"edge21\" class=\"edge\">\n",
       "<title>(&#39;floating_species_store&#39;,)&#45;&gt;(&#39;floating_species_store&#39;, &#39;Extracellular acetaldehyde&#39;)</title>\n",
       "<path fill=\"none\" stroke=\"black\" stroke-width=\"2\" d=\"M1779.91,-482.07C1964.11,-474.95 2457,-448.13 2591.83,-362.17 2615.09,-347.35 2633.83,-324.21 2648.12,-301.24\"/>\n",
       "</g>\n",
       "<!-- (&#39;floating_species_store&#39;, &#39;Extracellular cyanide&#39;) -->\n",
       "<g id=\"node24\" class=\"node\">\n",
       "<title>(&#39;floating_species_store&#39;, &#39;Extracellular cyanide&#39;)</title>\n",
       "<ellipse fill=\"none\" stroke=\"black\" stroke-width=\"2\" cx=\"2849.83\" cy=\"-226.02\" rx=\"66.59\" ry=\"66.59\"/>\n",
       "<text text-anchor=\"start\" x=\"2799.96\" y=\"-221.74\" font-family=\"Times,serif\" font-size=\"12.00\">Extracellular cyanide</text>\n",
       "</g>\n",
       "<!-- (&#39;floating_species_store&#39;,)&#45;&gt;(&#39;floating_species_store&#39;, &#39;Extracellular cyanide&#39;) -->\n",
       "<g id=\"edge22\" class=\"edge\">\n",
       "<title>(&#39;floating_species_store&#39;,)&#45;&gt;(&#39;floating_species_store&#39;, &#39;Extracellular cyanide&#39;)</title>\n",
       "<path fill=\"none\" stroke=\"black\" stroke-width=\"2\" d=\"M1780.01,-484.6C1990.38,-484.09 2611.28,-473.02 2773.83,-362.17 2799.08,-344.96 2816.88,-316.44 2828.87,-290.03\"/>\n",
       "</g>\n",
       "<!-- (&#39;floating_species_store&#39;, &#39;AMP&#39;) -->\n",
       "<g id=\"node25\" class=\"node\">\n",
       "<title>(&#39;floating_species_store&#39;, &#39;AMP&#39;)</title>\n",
       "<ellipse fill=\"none\" stroke=\"black\" stroke-width=\"2\" cx=\"2954.83\" cy=\"-226.02\" rx=\"20.83\" ry=\"20.83\"/>\n",
       "<text text-anchor=\"start\" x=\"2941.71\" y=\"-221.74\" font-family=\"Times,serif\" font-size=\"12.00\">AMP</text>\n",
       "</g>\n",
       "<!-- (&#39;floating_species_store&#39;,)&#45;&gt;(&#39;floating_species_store&#39;, &#39;AMP&#39;) -->\n",
       "<g id=\"edge23\" class=\"edge\">\n",
       "<title>(&#39;floating_species_store&#39;,)&#45;&gt;(&#39;floating_species_store&#39;, &#39;AMP&#39;)</title>\n",
       "<path fill=\"none\" stroke=\"black\" stroke-width=\"2\" d=\"M1779.74,-479.81C1947.04,-468.59 2383.47,-437.06 2745.83,-391.42 2826.25,-381.3 2867.1,-418.03 2925.83,-362.17 2957.31,-332.24 2958.77,-277.07 2956.93,-247.31\"/>\n",
       "</g>\n",
       "<!-- (&#39;floating_species_store&#39;, &#39;P&#39;) -->\n",
       "<g id=\"node26\" class=\"node\">\n",
       "<title>(&#39;floating_species_store&#39;, &#39;P&#39;)</title>\n",
       "<ellipse fill=\"none\" stroke=\"black\" stroke-width=\"2\" cx=\"3011.83\" cy=\"-226.02\" rx=\"18\" ry=\"18\"/>\n",
       "<text text-anchor=\"start\" x=\"3008.46\" y=\"-221.74\" font-family=\"Times,serif\" font-size=\"12.00\">P</text>\n",
       "</g>\n",
       "<!-- (&#39;floating_species_store&#39;,)&#45;&gt;(&#39;floating_species_store&#39;, &#39;P&#39;) -->\n",
       "<g id=\"edge24\" class=\"edge\">\n",
       "<title>(&#39;floating_species_store&#39;,)&#45;&gt;(&#39;floating_species_store&#39;, &#39;P&#39;)</title>\n",
       "<path fill=\"none\" stroke=\"black\" stroke-width=\"2\" d=\"M1779.84,-481.4C1957.56,-473.32 2440.33,-447.55 2838.83,-391.42 2904.36,-382.19 2938.05,-408.98 2984.83,-362.17 3016.3,-330.69 3016.29,-273.61 3013.94,-244.74\"/>\n",
       "</g>\n",
       "<!-- (&#39;floating_species_store&#39;, &#39;Mixed flow cyanide&#39;) -->\n",
       "<g id=\"node27\" class=\"node\">\n",
       "<title>(&#39;floating_species_store&#39;, &#39;Mixed flow cyanide&#39;)</title>\n",
       "<ellipse fill=\"none\" stroke=\"black\" stroke-width=\"2\" cx=\"3111.83\" cy=\"-226.02\" rx=\"63.78\" ry=\"63.78\"/>\n",
       "<text text-anchor=\"start\" x=\"3064.21\" y=\"-221.74\" font-family=\"Times,serif\" font-size=\"12.00\">Mixed flow cyanide</text>\n",
       "</g>\n",
       "<!-- (&#39;floating_species_store&#39;,)&#45;&gt;(&#39;floating_species_store&#39;, &#39;Mixed flow cyanide&#39;) -->\n",
       "<g id=\"edge25\" class=\"edge\">\n",
       "<title>(&#39;floating_species_store&#39;,)&#45;&gt;(&#39;floating_species_store&#39;, &#39;Mixed flow cyanide&#39;)</title>\n",
       "<path fill=\"none\" stroke=\"black\" stroke-width=\"2\" d=\"M1780.16,-482.67C1966.24,-477.43 2486.51,-457.51 2913.83,-391.42 2970.22,-382.7 2993.51,-396.83 3038.83,-362.17 3063.3,-343.47 3080.55,-314.13 3092.12,-287.56\"/>\n",
       "</g>\n",
       "<!-- (&#39;floating_species_store&#39;, &#39;Mixed flow glucose&#39;) -->\n",
       "<g id=\"node28\" class=\"node\">\n",
       "<title>(&#39;floating_species_store&#39;, &#39;Mixed flow glucose&#39;)</title>\n",
       "<ellipse fill=\"none\" stroke=\"black\" stroke-width=\"2\" cx=\"3256.83\" cy=\"-226.02\" rx=\"63.32\" ry=\"63.32\"/>\n",
       "<text text-anchor=\"start\" x=\"3209.58\" y=\"-221.74\" font-family=\"Times,serif\" font-size=\"12.00\">Mixed flow glucose</text>\n",
       "</g>\n",
       "<!-- (&#39;floating_species_store&#39;,)&#45;&gt;(&#39;floating_species_store&#39;, &#39;Mixed flow glucose&#39;) -->\n",
       "<g id=\"edge26\" class=\"edge\">\n",
       "<title>(&#39;floating_species_store&#39;,)&#45;&gt;(&#39;floating_species_store&#39;, &#39;Mixed flow glucose&#39;)</title>\n",
       "<path fill=\"none\" stroke=\"black\" stroke-width=\"2\" d=\"M1779.92,-480.8C1971.58,-470.77 2520.46,-439.71 2974.83,-391.42 3068.54,-381.47 3107.59,-416.15 3184.83,-362.17 3210.33,-344.36 3227.56,-314.6 3238.76,-287.53\"/>\n",
       "</g>\n",
       "<!-- (&#39;floating_species_store&#39;,)&#45;&gt;(&#39;single_copasi_process&#39;,) -->\n",
       "<g id=\"edge52\" class=\"edge\">\n",
       "<title>(&#39;floating_species_store&#39;,)&#45;&gt;(&#39;single_copasi_process&#39;,)</title>\n",
       "<path fill=\"none\" stroke=\"black\" stroke-dasharray=\"5,2\" d=\"M1639.58,-483.41C1406.48,-479.65 660.45,-462.25 432.08,-391.42 422.62,-388.49 422.27,-383.21 412.83,-380.17 372.47,-367.17 257.63,-386.42 222.83,-362.17 187.22,-337.36 170.42,-287.55 163.04,-255.82\"/>\n",
       "<polygon fill=\"black\" stroke=\"black\" points=\"166.48,-255.16 160.97,-246.12 159.64,-256.63 166.48,-255.16\"/>\n",
       "<text text-anchor=\"start\" x=\"432.83\" y=\"-381.92\" font-family=\"Times,serif\" font-size=\"10.00\">floating_species</text>\n",
       "</g>\n",
       "<!-- (&#39;floating_species_store&#39;,)&#45;&gt;(&#39;single_copasi_process&#39;,) -->\n",
       "<g id=\"edge58\" class=\"edge\">\n",
       "<title>(&#39;floating_species_store&#39;,)&#45;&gt;(&#39;single_copasi_process&#39;,)</title>\n",
       "<path fill=\"none\" stroke=\"black\" stroke-dasharray=\"5,2\" d=\"M1628.34,-483.68C1371.98,-480.81 584.61,-466.01 342.08,-391.42 332.61,-388.51 332.13,-383.6 322.83,-380.17 280.47,-364.54 258.77,-389.51 222.83,-362.17 184.08,-332.7 167.26,-274.16 161.01,-244.75\"/>\n",
       "<polygon fill=\"black\" stroke=\"black\" points=\"1628.23,-487.18 1638.27,-483.79 1628.31,-480.18 1628.23,-487.18\"/>\n",
       "<text text-anchor=\"start\" x=\"342.83\" y=\"-381.92\" font-family=\"Times,serif\" font-size=\"10.00\">floating_species</text>\n",
       "</g>\n",
       "<!-- (&#39;floating_species_store&#39;,)&#45;&gt;(&#39;emitter&#39;,) -->\n",
       "<g id=\"edge55\" class=\"edge\">\n",
       "<title>(&#39;floating_species_store&#39;,)&#45;&gt;(&#39;emitter&#39;,)</title>\n",
       "<path fill=\"none\" stroke=\"black\" stroke-dasharray=\"5,2\" d=\"M1639.61,-484.14C1385.67,-482.74 516.16,-472.03 252.08,-391.42 242.61,-388.53 242.21,-383.37 232.83,-380.17 173.45,-359.94 141.53,-401.72 92.83,-362.17 60.99,-336.32 50.67,-287.61 47.36,-256.27\"/>\n",
       "<polygon fill=\"black\" stroke=\"black\" points=\"50.85,-255.97 46.51,-246.31 43.87,-256.57 50.85,-255.97\"/>\n",
       "<text text-anchor=\"start\" x=\"252.83\" y=\"-381.92\" font-family=\"Times,serif\" font-size=\"10.00\">floating_species</text>\n",
       "</g>\n",
       "<!-- (&#39;model_parameters_store&#39;,) -->\n",
       "<g id=\"node29\" class=\"node\">\n",
       "<title>(&#39;model_parameters_store&#39;,)</title>\n",
       "<ellipse fill=\"none\" stroke=\"black\" stroke-width=\"2\" cx=\"163.83\" cy=\"-485.35\" rx=\"75.92\" ry=\"75.92\"/>\n",
       "<text text-anchor=\"start\" x=\"106.46\" y=\"-481.07\" font-family=\"Times,serif\" font-size=\"12.00\">model_parameters_store</text>\n",
       "</g>\n",
       "<!-- (&#39;model_parameters_store&#39;,)&#45;&gt;(&#39;single_copasi_process&#39;,) -->\n",
       "<g id=\"edge53\" class=\"edge\">\n",
       "<title>(&#39;model_parameters_store&#39;,)&#45;&gt;(&#39;single_copasi_process&#39;,)</title>\n",
       "<path fill=\"none\" stroke=\"black\" stroke-dasharray=\"5,2\" d=\"M159.24,-408.8C158.98,-402.92 158.76,-397.08 158.58,-391.42 157.14,-344.12 157.25,-289.12 157.51,-256.24\"/>\n",
       "<polygon fill=\"black\" stroke=\"black\" points=\"161.01,-256.33 157.6,-246.29 154.01,-256.26 161.01,-256.33\"/>\n",
       "<text text-anchor=\"start\" x=\"158.83\" y=\"-381.92\" font-family=\"Times,serif\" font-size=\"10.00\">model_parameters</text>\n",
       "</g>\n",
       "<!-- (&#39;reactions_store&#39;,) -->\n",
       "<g id=\"node30\" class=\"node\">\n",
       "<title>(&#39;reactions_store&#39;,)</title>\n",
       "<ellipse fill=\"none\" stroke=\"black\" stroke-width=\"2\" cx=\"5077.83\" cy=\"-485.35\" rx=\"48.37\" ry=\"48.37\"/>\n",
       "<text text-anchor=\"start\" x=\"5042.58\" y=\"-481.07\" font-family=\"Times,serif\" font-size=\"12.00\">reactions_store</text>\n",
       "</g>\n",
       "<!-- (&#39;reactions_store&#39;, &#39;Glucose Mixed flow to extracellular medium&#39;) -->\n",
       "<g id=\"node31\" class=\"node\">\n",
       "<title>(&#39;reactions_store&#39;, &#39;Glucose Mixed flow to extracellular medium&#39;)</title>\n",
       "<ellipse fill=\"none\" stroke=\"black\" stroke-width=\"2\" cx=\"6062.83\" cy=\"-226.02\" rx=\"136.16\" ry=\"136.16\"/>\n",
       "<text text-anchor=\"start\" x=\"5957.08\" y=\"-221.74\" font-family=\"Times,serif\" font-size=\"12.00\">Glucose Mixed flow to extracellular medium</text>\n",
       "</g>\n",
       "<!-- (&#39;reactions_store&#39;,)&#45;&gt;(&#39;reactions_store&#39;, &#39;Glucose Mixed flow to extracellular medium&#39;) -->\n",
       "<g id=\"edge27\" class=\"edge\">\n",
       "<title>(&#39;reactions_store&#39;,)&#45;&gt;(&#39;reactions_store&#39;, &#39;Glucose Mixed flow to extracellular medium&#39;)</title>\n",
       "<path fill=\"none\" stroke=\"black\" stroke-width=\"2\" d=\"M5126.8,-481.26C5284.35,-470.72 5776.05,-432.79 5916.83,-362.17 5935.51,-352.8 5953.52,-340.31 5970.12,-326.7\"/>\n",
       "</g>\n",
       "<!-- (&#39;reactions_store&#39;, &#39;Glucose uptake&#39;) -->\n",
       "<g id=\"node32\" class=\"node\">\n",
       "<title>(&#39;reactions_store&#39;, &#39;Glucose uptake&#39;)</title>\n",
       "<ellipse fill=\"none\" stroke=\"black\" stroke-width=\"2\" cx=\"6266.83\" cy=\"-226.02\" rx=\"50.24\" ry=\"50.24\"/>\n",
       "<text text-anchor=\"start\" x=\"6230.08\" y=\"-221.74\" font-family=\"Times,serif\" font-size=\"12.00\">Glucose uptake</text>\n",
       "</g>\n",
       "<!-- (&#39;reactions_store&#39;,)&#45;&gt;(&#39;reactions_store&#39;, &#39;Glucose uptake&#39;) -->\n",
       "<g id=\"edge28\" class=\"edge\">\n",
       "<title>(&#39;reactions_store&#39;,)&#45;&gt;(&#39;reactions_store&#39;, &#39;Glucose uptake&#39;)</title>\n",
       "<path fill=\"none\" stroke=\"black\" stroke-width=\"2\" d=\"M5126.97,-481.92C5332.84,-471.37 6119.47,-427.07 6207.83,-362.17 6235.38,-341.94 6250.24,-306.06 6258.16,-276.34\"/>\n",
       "</g>\n",
       "<!-- (&#39;reactions_store&#39;, &#39;Hexokinase&#39;) -->\n",
       "<g id=\"node33\" class=\"node\">\n",
       "<title>(&#39;reactions_store&#39;, &#39;Hexokinase&#39;)</title>\n",
       "<ellipse fill=\"none\" stroke=\"black\" stroke-width=\"2\" cx=\"6374.83\" cy=\"-226.02\" rx=\"39.5\" ry=\"39.5\"/>\n",
       "<text text-anchor=\"start\" x=\"6346.71\" y=\"-221.74\" font-family=\"Times,serif\" font-size=\"12.00\">Hexokinase</text>\n",
       "</g>\n",
       "<!-- (&#39;reactions_store&#39;,)&#45;&gt;(&#39;reactions_store&#39;, &#39;Hexokinase&#39;) -->\n",
       "<g id=\"edge29\" class=\"edge\">\n",
       "<title>(&#39;reactions_store&#39;,)&#45;&gt;(&#39;reactions_store&#39;, &#39;Hexokinase&#39;)</title>\n",
       "<path fill=\"none\" stroke=\"black\" stroke-width=\"2\" d=\"M5126.93,-481.62C5279.84,-472.8 5761.06,-442.62 6156.83,-391.42 6232.43,-381.64 6267.39,-411.12 6325.83,-362.17 6354.15,-338.46 6366.11,-296.99 6371.15,-266.22\"/>\n",
       "</g>\n",
       "<!-- (&#39;reactions_store&#39;, &#39;Phosphoglucoisomerase&#39;) -->\n",
       "<g id=\"node34\" class=\"node\">\n",
       "<title>(&#39;reactions_store&#39;, &#39;Phosphoglucoisomerase&#39;)</title>\n",
       "<ellipse fill=\"none\" stroke=\"black\" stroke-width=\"2\" cx=\"6507.83\" cy=\"-226.02\" rx=\"75.46\" ry=\"75.46\"/>\n",
       "<text text-anchor=\"start\" x=\"6450.83\" y=\"-221.74\" font-family=\"Times,serif\" font-size=\"12.00\">Phosphoglucoisomerase</text>\n",
       "</g>\n",
       "<!-- (&#39;reactions_store&#39;,)&#45;&gt;(&#39;reactions_store&#39;, &#39;Phosphoglucoisomerase&#39;) -->\n",
       "<g id=\"edge30\" class=\"edge\">\n",
       "<title>(&#39;reactions_store&#39;,)&#45;&gt;(&#39;reactions_store&#39;, &#39;Phosphoglucoisomerase&#39;)</title>\n",
       "<path fill=\"none\" stroke=\"black\" stroke-width=\"2\" d=\"M5126.96,-481.79C5287.34,-473.15 5810.04,-442.69 6239.83,-391.42 6322.06,-381.62 6354.85,-407.98 6423.83,-362.17 6447.65,-346.36 6465.94,-321.24 6479.28,-296.92\"/>\n",
       "</g>\n",
       "<!-- (&#39;reactions_store&#39;, &#39;Phosphofructokinase&#39;) -->\n",
       "<g id=\"node35\" class=\"node\">\n",
       "<title>(&#39;reactions_store&#39;, &#39;Phosphofructokinase&#39;)</title>\n",
       "<ellipse fill=\"none\" stroke=\"black\" stroke-width=\"2\" cx=\"6667.83\" cy=\"-226.02\" rx=\"66.12\" ry=\"66.12\"/>\n",
       "<text text-anchor=\"start\" x=\"6618.33\" y=\"-221.74\" font-family=\"Times,serif\" font-size=\"12.00\">Phosphofructokinase</text>\n",
       "</g>\n",
       "<!-- (&#39;reactions_store&#39;,)&#45;&gt;(&#39;reactions_store&#39;, &#39;Phosphofructokinase&#39;) -->\n",
       "<g id=\"edge31\" class=\"edge\">\n",
       "<title>(&#39;reactions_store&#39;,)&#45;&gt;(&#39;reactions_store&#39;, &#39;Phosphofructokinase&#39;)</title>\n",
       "<path fill=\"none\" stroke=\"black\" stroke-width=\"2\" d=\"M5127.02,-481.33C5294.96,-470.9 5861.14,-434.61 6327.83,-391.42 6445.38,-380.55 6493.38,-427.31 6591.83,-362.17 6617.54,-345.17 6635.46,-316.34 6647.41,-289.66\"/>\n",
       "</g>\n",
       "<!-- (&#39;reactions_store&#39;, &#39;Aldolase&#39;) -->\n",
       "<g id=\"node36\" class=\"node\">\n",
       "<title>(&#39;reactions_store&#39;, &#39;Aldolase&#39;)</title>\n",
       "<ellipse fill=\"none\" stroke=\"black\" stroke-width=\"2\" cx=\"6782.83\" cy=\"-226.02\" rx=\"30.63\" ry=\"30.63\"/>\n",
       "<text text-anchor=\"start\" x=\"6761.83\" y=\"-221.74\" font-family=\"Times,serif\" font-size=\"12.00\">Aldolase</text>\n",
       "</g>\n",
       "<!-- (&#39;reactions_store&#39;,)&#45;&gt;(&#39;reactions_store&#39;, &#39;Aldolase&#39;) -->\n",
       "<g id=\"edge32\" class=\"edge\">\n",
       "<title>(&#39;reactions_store&#39;,)&#45;&gt;(&#39;reactions_store&#39;, &#39;Aldolase&#39;)</title>\n",
       "<path fill=\"none\" stroke=\"black\" stroke-width=\"2\" d=\"M5127.04,-481.65C5305.73,-471.72 5937.1,-435.5 6456.83,-391.42 6584.15,-380.63 6644.49,-443.75 6742.83,-362.17 6773.53,-336.71 6781.36,-288.88 6782.99,-257.48\"/>\n",
       "</g>\n",
       "<!-- (&#39;reactions_store&#39;, &#39;Triosephosphate isomerase&#39;) -->\n",
       "<g id=\"node37\" class=\"node\">\n",
       "<title>(&#39;reactions_store&#39;, &#39;Triosephosphate isomerase&#39;)</title>\n",
       "<ellipse fill=\"none\" stroke=\"black\" stroke-width=\"2\" cx=\"3421.83\" cy=\"-226.02\" rx=\"83.39\" ry=\"83.39\"/>\n",
       "<text text-anchor=\"start\" x=\"3358.46\" y=\"-221.74\" font-family=\"Times,serif\" font-size=\"12.00\">Triosephosphate isomerase</text>\n",
       "</g>\n",
       "<!-- (&#39;reactions_store&#39;,)&#45;&gt;(&#39;reactions_store&#39;, &#39;Triosephosphate isomerase&#39;) -->\n",
       "<g id=\"edge33\" class=\"edge\">\n",
       "<title>(&#39;reactions_store&#39;,)&#45;&gt;(&#39;reactions_store&#39;, &#39;Triosephosphate isomerase&#39;)</title>\n",
       "<path fill=\"none\" stroke=\"black\" stroke-width=\"2\" d=\"M5028.85,-480.81C4863.45,-468.83 4310.52,-428.46 3853.83,-391.42 3703.1,-379.2 3645.53,-438.24 3514.83,-362.17 3490.95,-348.28 3471.82,-325.51 3457.26,-302.58\"/>\n",
       "</g>\n",
       "<!-- (&#39;reactions_store&#39;, &#39;Glyceraldehyde 3&#45;phosphate dehydrogenase&#39;) -->\n",
       "<g id=\"node38\" class=\"node\">\n",
       "<title>(&#39;reactions_store&#39;, &#39;Glyceraldehyde 3&#45;phosphate dehydrogenase&#39;)</title>\n",
       "<ellipse fill=\"none\" stroke=\"black\" stroke-width=\"2\" cx=\"3658.83\" cy=\"-226.02\" rx=\"135.22\" ry=\"135.22\"/>\n",
       "<text text-anchor=\"start\" x=\"3553.83\" y=\"-221.74\" font-family=\"Times,serif\" font-size=\"12.00\">Glyceraldehyde 3&#45;phosphate dehydrogenase</text>\n",
       "</g>\n",
       "<!-- (&#39;reactions_store&#39;,)&#45;&gt;(&#39;reactions_store&#39;, &#39;Glyceraldehyde 3&#45;phosphate dehydrogenase&#39;) -->\n",
       "<g id=\"edge34\" class=\"edge\">\n",
       "<title>(&#39;reactions_store&#39;,)&#45;&gt;(&#39;reactions_store&#39;, &#39;Glyceraldehyde 3&#45;phosphate dehydrogenase&#39;)</title>\n",
       "<path fill=\"none\" stroke=\"black\" stroke-width=\"2\" d=\"M5028.53,-483.97C4821.99,-481.72 4026.77,-466.32 3802.83,-362.17 3783.87,-353.35 3765.77,-341.06 3749.19,-327.46\"/>\n",
       "</g>\n",
       "<!-- (&#39;reactions_store&#39;, &#39;Phosphoenolpyruvate synthesis&#39;) -->\n",
       "<g id=\"node39\" class=\"node\">\n",
       "<title>(&#39;reactions_store&#39;, &#39;Phosphoenolpyruvate synthesis&#39;)</title>\n",
       "<ellipse fill=\"none\" stroke=\"black\" stroke-width=\"2\" cx=\"3908.83\" cy=\"-226.02\" rx=\"96.94\" ry=\"96.94\"/>\n",
       "<text text-anchor=\"start\" x=\"3834.58\" y=\"-221.74\" font-family=\"Times,serif\" font-size=\"12.00\">Phosphoenolpyruvate synthesis</text>\n",
       "</g>\n",
       "<!-- (&#39;reactions_store&#39;,)&#45;&gt;(&#39;reactions_store&#39;, &#39;Phosphoenolpyruvate synthesis&#39;) -->\n",
       "<g id=\"edge35\" class=\"edge\">\n",
       "<title>(&#39;reactions_store&#39;,)&#45;&gt;(&#39;reactions_store&#39;, &#39;Phosphoenolpyruvate synthesis&#39;)</title>\n",
       "<path fill=\"none\" stroke=\"black\" stroke-width=\"2\" d=\"M5028.82,-480.85C4892.09,-470.78 4495.06,-439.32 4167.83,-391.42 4099.33,-381.4 4073.95,-398.2 4014.83,-362.17 3993.32,-349.06 3974.45,-329.88 3958.84,-310.06\"/>\n",
       "</g>\n",
       "<!-- (&#39;reactions_store&#39;, &#39;Pyruvate kinase&#39;) -->\n",
       "<g id=\"node40\" class=\"node\">\n",
       "<title>(&#39;reactions_store&#39;, &#39;Pyruvate kinase&#39;)</title>\n",
       "<ellipse fill=\"none\" stroke=\"black\" stroke-width=\"2\" cx=\"4074.83\" cy=\"-226.02\" rx=\"51.18\" ry=\"51.18\"/>\n",
       "<text text-anchor=\"start\" x=\"4037.33\" y=\"-221.74\" font-family=\"Times,serif\" font-size=\"12.00\">Pyruvate kinase</text>\n",
       "</g>\n",
       "<!-- (&#39;reactions_store&#39;,)&#45;&gt;(&#39;reactions_store&#39;, &#39;Pyruvate kinase&#39;) -->\n",
       "<g id=\"edge36\" class=\"edge\">\n",
       "<title>(&#39;reactions_store&#39;,)&#45;&gt;(&#39;reactions_store&#39;, &#39;Pyruvate kinase&#39;)</title>\n",
       "<path fill=\"none\" stroke=\"black\" stroke-width=\"2\" d=\"M5028.5,-484.22C4855.29,-482.83 4277.7,-470.04 4134.83,-362.17 4107.79,-341.75 4092.68,-306.46 4084.39,-277.06\"/>\n",
       "</g>\n",
       "<!-- (&#39;reactions_store&#39;, &#39;Pyruvate decarboxylase&#39;) -->\n",
       "<g id=\"node41\" class=\"node\">\n",
       "<title>(&#39;reactions_store&#39;, &#39;Pyruvate decarboxylase&#39;)</title>\n",
       "<ellipse fill=\"none\" stroke=\"black\" stroke-width=\"2\" cx=\"4218.83\" cy=\"-226.02\" rx=\"74.52\" ry=\"74.52\"/>\n",
       "<text text-anchor=\"start\" x=\"4162.58\" y=\"-221.74\" font-family=\"Times,serif\" font-size=\"12.00\">Pyruvate decarboxylase</text>\n",
       "</g>\n",
       "<!-- (&#39;reactions_store&#39;,)&#45;&gt;(&#39;reactions_store&#39;, &#39;Pyruvate decarboxylase&#39;) -->\n",
       "<g id=\"edge37\" class=\"edge\">\n",
       "<title>(&#39;reactions_store&#39;,)&#45;&gt;(&#39;reactions_store&#39;, &#39;Pyruvate decarboxylase&#39;)</title>\n",
       "<path fill=\"none\" stroke=\"black\" stroke-width=\"2\" d=\"M5028.67,-481.93C4877.49,-473.68 4422.39,-442.57 4301.83,-362.17 4277.89,-346.21 4259.67,-320.76 4246.48,-296.22\"/>\n",
       "</g>\n",
       "<!-- (&#39;reactions_store&#39;, &#39;Alcohol dehydrogenase&#39;) -->\n",
       "<g id=\"node42\" class=\"node\">\n",
       "<title>(&#39;reactions_store&#39;, &#39;Alcohol dehydrogenase&#39;)</title>\n",
       "<ellipse fill=\"none\" stroke=\"black\" stroke-width=\"2\" cx=\"4385.83\" cy=\"-226.02\" rx=\"74.52\" ry=\"74.52\"/>\n",
       "<text text-anchor=\"start\" x=\"4329.58\" y=\"-221.74\" font-family=\"Times,serif\" font-size=\"12.00\">Alcohol dehydrogenase</text>\n",
       "</g>\n",
       "<!-- (&#39;reactions_store&#39;,)&#45;&gt;(&#39;reactions_store&#39;, &#39;Alcohol dehydrogenase&#39;) -->\n",
       "<g id=\"edge38\" class=\"edge\">\n",
       "<title>(&#39;reactions_store&#39;,)&#45;&gt;(&#39;reactions_store&#39;, &#39;Alcohol dehydrogenase&#39;)</title>\n",
       "<path fill=\"none\" stroke=\"black\" stroke-width=\"2\" d=\"M5028.88,-479.82C4900.69,-467.15 4558.87,-427.9 4468.83,-362.17 4445.7,-345.29 4427.67,-319.82 4414.4,-295.52\"/>\n",
       "</g>\n",
       "<!-- (&#39;reactions_store&#39;, &#39;Ethanol out&#39;) -->\n",
       "<g id=\"node43\" class=\"node\">\n",
       "<title>(&#39;reactions_store&#39;, &#39;Ethanol out&#39;)</title>\n",
       "<ellipse fill=\"none\" stroke=\"black\" stroke-width=\"2\" cx=\"4516.83\" cy=\"-226.02\" rx=\"38.57\" ry=\"38.57\"/>\n",
       "<text text-anchor=\"start\" x=\"4489.46\" y=\"-221.74\" font-family=\"Times,serif\" font-size=\"12.00\">Ethanol out</text>\n",
       "</g>\n",
       "<!-- (&#39;reactions_store&#39;,)&#45;&gt;(&#39;reactions_store&#39;, &#39;Ethanol out&#39;) -->\n",
       "<g id=\"edge39\" class=\"edge\">\n",
       "<title>(&#39;reactions_store&#39;,)&#45;&gt;(&#39;reactions_store&#39;, &#39;Ethanol out&#39;)</title>\n",
       "<path fill=\"none\" stroke=\"black\" stroke-width=\"2\" d=\"M5029.32,-478.78C4914.94,-464.74 4632.83,-424.51 4563.83,-362.17 4536.46,-337.44 4525.03,-295.92 4520.26,-265.42\"/>\n",
       "</g>\n",
       "<!-- (&#39;reactions_store&#39;, &#39;Ethanol flow&#39;) -->\n",
       "<g id=\"node44\" class=\"node\">\n",
       "<title>(&#39;reactions_store&#39;, &#39;Ethanol flow&#39;)</title>\n",
       "<ellipse fill=\"none\" stroke=\"black\" stroke-width=\"2\" cx=\"4615.83\" cy=\"-226.02\" rx=\"42.77\" ry=\"42.77\"/>\n",
       "<text text-anchor=\"start\" x=\"4585.08\" y=\"-221.74\" font-family=\"Times,serif\" font-size=\"12.00\">Ethanol flow</text>\n",
       "</g>\n",
       "<!-- (&#39;reactions_store&#39;,)&#45;&gt;(&#39;reactions_store&#39;, &#39;Ethanol flow&#39;) -->\n",
       "<g id=\"edge40\" class=\"edge\">\n",
       "<title>(&#39;reactions_store&#39;,)&#45;&gt;(&#39;reactions_store&#39;, &#39;Ethanol flow&#39;)</title>\n",
       "<path fill=\"none\" stroke=\"black\" stroke-width=\"2\" d=\"M5028.6,-483.28C4943.84,-478.82 4769.56,-457.77 4666.83,-362.17 4640.76,-337.91 4627.92,-298.98 4621.66,-269.12\"/>\n",
       "</g>\n",
       "<!-- (&#39;reactions_store&#39;, &#39;Glycerol synthesis&#39;) -->\n",
       "<g id=\"node45\" class=\"node\">\n",
       "<title>(&#39;reactions_store&#39;, &#39;Glycerol synthesis&#39;)</title>\n",
       "<ellipse fill=\"none\" stroke=\"black\" stroke-width=\"2\" cx=\"4734.83\" cy=\"-226.02\" rx=\"58.65\" ry=\"58.65\"/>\n",
       "<text text-anchor=\"start\" x=\"4691.33\" y=\"-221.74\" font-family=\"Times,serif\" font-size=\"12.00\">Glycerol synthesis</text>\n",
       "</g>\n",
       "<!-- (&#39;reactions_store&#39;,)&#45;&gt;(&#39;reactions_store&#39;, &#39;Glycerol synthesis&#39;) -->\n",
       "<g id=\"edge41\" class=\"edge\">\n",
       "<title>(&#39;reactions_store&#39;,)&#45;&gt;(&#39;reactions_store&#39;, &#39;Glycerol synthesis&#39;)</title>\n",
       "<path fill=\"none\" stroke=\"black\" stroke-width=\"2\" d=\"M5029.97,-473.68C4970.25,-458.21 4868.07,-424.35 4802.83,-362.17 4780.11,-340.52 4763.78,-309.63 4752.83,-282.85\"/>\n",
       "</g>\n",
       "<!-- (&#39;reactions_store&#39;, &#39;Glycerol out&#39;) -->\n",
       "<g id=\"node46\" class=\"node\">\n",
       "<title>(&#39;reactions_store&#39;, &#39;Glycerol out&#39;)</title>\n",
       "<ellipse fill=\"none\" stroke=\"black\" stroke-width=\"2\" cx=\"4852.83\" cy=\"-226.02\" rx=\"41.37\" ry=\"41.37\"/>\n",
       "<text text-anchor=\"start\" x=\"4823.21\" y=\"-221.74\" font-family=\"Times,serif\" font-size=\"12.00\">Glycerol out</text>\n",
       "</g>\n",
       "<!-- (&#39;reactions_store&#39;,)&#45;&gt;(&#39;reactions_store&#39;, &#39;Glycerol out&#39;) -->\n",
       "<g id=\"edge42\" class=\"edge\">\n",
       "<title>(&#39;reactions_store&#39;,)&#45;&gt;(&#39;reactions_store&#39;, &#39;Glycerol out&#39;)</title>\n",
       "<path fill=\"none\" stroke=\"black\" stroke-width=\"2\" d=\"M5034.01,-463.53C4994.69,-442.82 4937.95,-407.62 4902.83,-362.17 4881.27,-334.26 4868.29,-296.09 4860.98,-267.44\"/>\n",
       "</g>\n",
       "<!-- (&#39;reactions_store&#39;, &#39;Glycerol flow&#39;) -->\n",
       "<g id=\"node47\" class=\"node\">\n",
       "<title>(&#39;reactions_store&#39;, &#39;Glycerol flow&#39;)</title>\n",
       "<ellipse fill=\"none\" stroke=\"black\" stroke-width=\"2\" cx=\"4957.83\" cy=\"-226.02\" rx=\"45.57\" ry=\"45.57\"/>\n",
       "<text text-anchor=\"start\" x=\"4924.83\" y=\"-221.74\" font-family=\"Times,serif\" font-size=\"12.00\">Glycerol flow</text>\n",
       "</g>\n",
       "<!-- (&#39;reactions_store&#39;,)&#45;&gt;(&#39;reactions_store&#39;, &#39;Glycerol flow&#39;) -->\n",
       "<g id=\"edge43\" class=\"edge\">\n",
       "<title>(&#39;reactions_store&#39;,)&#45;&gt;(&#39;reactions_store&#39;, &#39;Glycerol flow&#39;)</title>\n",
       "<path fill=\"none\" stroke=\"black\" stroke-width=\"2\" d=\"M5054.04,-442.2C5041.23,-418.9 5025.51,-389.27 5012.83,-362.17 4998.55,-331.66 4984.26,-296.37 4973.83,-269.5\"/>\n",
       "</g>\n",
       "<!-- (&#39;reactions_store&#39;, &#39;Acetaldehyde out&#39;) -->\n",
       "<g id=\"node48\" class=\"node\">\n",
       "<title>(&#39;reactions_store&#39;, &#39;Acetaldehyde out&#39;)</title>\n",
       "<ellipse fill=\"none\" stroke=\"black\" stroke-width=\"2\" cx=\"5077.83\" cy=\"-226.02\" rx=\"56.31\" ry=\"56.31\"/>\n",
       "<text text-anchor=\"start\" x=\"5036.21\" y=\"-221.74\" font-family=\"Times,serif\" font-size=\"12.00\">Acetaldehyde out</text>\n",
       "</g>\n",
       "<!-- (&#39;reactions_store&#39;,)&#45;&gt;(&#39;reactions_store&#39;, &#39;Acetaldehyde out&#39;) -->\n",
       "<g id=\"edge44\" class=\"edge\">\n",
       "<title>(&#39;reactions_store&#39;,)&#45;&gt;(&#39;reactions_store&#39;, &#39;Acetaldehyde out&#39;)</title>\n",
       "<path fill=\"none\" stroke=\"black\" stroke-width=\"2\" d=\"M5077.83,-436.25C5077.83,-392.75 5077.83,-328.7 5077.83,-282.94\"/>\n",
       "</g>\n",
       "<!-- (&#39;reactions_store&#39;, &#39;Acetaldehyde flow&#39;) -->\n",
       "<g id=\"node49\" class=\"node\">\n",
       "<title>(&#39;reactions_store&#39;, &#39;Acetaldehyde flow&#39;)</title>\n",
       "<ellipse fill=\"none\" stroke=\"black\" stroke-width=\"2\" cx=\"5212.83\" cy=\"-226.02\" rx=\"60.51\" ry=\"60.51\"/>\n",
       "<text text-anchor=\"start\" x=\"5167.83\" y=\"-221.74\" font-family=\"Times,serif\" font-size=\"12.00\">Acetaldehyde flow</text>\n",
       "</g>\n",
       "<!-- (&#39;reactions_store&#39;,)&#45;&gt;(&#39;reactions_store&#39;, &#39;Acetaldehyde flow&#39;) -->\n",
       "<g id=\"edge45\" class=\"edge\">\n",
       "<title>(&#39;reactions_store&#39;,)&#45;&gt;(&#39;reactions_store&#39;, &#39;Acetaldehyde flow&#39;)</title>\n",
       "<path fill=\"none\" stroke=\"black\" stroke-width=\"2\" d=\"M5100.66,-441.72C5113.18,-418.28 5128.93,-388.66 5142.83,-362.17 5156.9,-335.38 5172.38,-305.52 5185.21,-280.69\"/>\n",
       "</g>\n",
       "<!-- (&#39;reactions_store&#39;, &#39;Cyanide&#45;Acetaldehyde flow&#39;) -->\n",
       "<g id=\"node50\" class=\"node\">\n",
       "<title>(&#39;reactions_store&#39;, &#39;Cyanide&#45;Acetaldehyde flow&#39;)</title>\n",
       "<ellipse fill=\"none\" stroke=\"black\" stroke-width=\"2\" cx=\"5378.83\" cy=\"-226.02\" rx=\"87.6\" ry=\"87.6\"/>\n",
       "<text text-anchor=\"start\" x=\"5312.08\" y=\"-221.74\" font-family=\"Times,serif\" font-size=\"12.00\">Cyanide&#45;Acetaldehyde flow</text>\n",
       "</g>\n",
       "<!-- (&#39;reactions_store&#39;,)&#45;&gt;(&#39;reactions_store&#39;, &#39;Cyanide&#45;Acetaldehyde flow&#39;) -->\n",
       "<g id=\"edge46\" class=\"edge\">\n",
       "<title>(&#39;reactions_store&#39;,)&#45;&gt;(&#39;reactions_store&#39;, &#39;Cyanide&#45;Acetaldehyde flow&#39;)</title>\n",
       "<path fill=\"none\" stroke=\"black\" stroke-width=\"2\" d=\"M5122.56,-464.46C5166.64,-443.39 5234.27,-406.99 5282.83,-362.17 5301.76,-344.7 5319.19,-322.93 5333.85,-301.99\"/>\n",
       "</g>\n",
       "<!-- (&#39;reactions_store&#39;, &#39;Cyanide flow&#39;) -->\n",
       "<g id=\"node51\" class=\"node\">\n",
       "<title>(&#39;reactions_store&#39;, &#39;Cyanide flow&#39;)</title>\n",
       "<ellipse fill=\"none\" stroke=\"black\" stroke-width=\"2\" cx=\"5528.83\" cy=\"-226.02\" rx=\"44.64\" ry=\"44.64\"/>\n",
       "<text text-anchor=\"start\" x=\"5496.58\" y=\"-221.74\" font-family=\"Times,serif\" font-size=\"12.00\">Cyanide flow</text>\n",
       "</g>\n",
       "<!-- (&#39;reactions_store&#39;,)&#45;&gt;(&#39;reactions_store&#39;, &#39;Cyanide flow&#39;) -->\n",
       "<g id=\"edge47\" class=\"edge\">\n",
       "<title>(&#39;reactions_store&#39;,)&#45;&gt;(&#39;reactions_store&#39;, &#39;Cyanide flow&#39;)</title>\n",
       "<path fill=\"none\" stroke=\"black\" stroke-width=\"2\" d=\"M5127.05,-482.55C5209.58,-476.95 5376.57,-454.18 5475.83,-362.17 5501.53,-338.36 5514.95,-300.56 5521.84,-270.98\"/>\n",
       "</g>\n",
       "<!-- (&#39;reactions_store&#39;, &#39;Storage&#39;) -->\n",
       "<g id=\"node52\" class=\"node\">\n",
       "<title>(&#39;reactions_store&#39;, &#39;Storage&#39;)</title>\n",
       "<ellipse fill=\"none\" stroke=\"black\" stroke-width=\"2\" cx=\"5618.83\" cy=\"-226.02\" rx=\"26.9\" ry=\"26.9\"/>\n",
       "<text text-anchor=\"start\" x=\"5600.83\" y=\"-221.74\" font-family=\"Times,serif\" font-size=\"12.00\">Storage</text>\n",
       "</g>\n",
       "<!-- (&#39;reactions_store&#39;,)&#45;&gt;(&#39;reactions_store&#39;, &#39;Storage&#39;) -->\n",
       "<g id=\"edge48\" class=\"edge\">\n",
       "<title>(&#39;reactions_store&#39;,)&#45;&gt;(&#39;reactions_store&#39;, &#39;Storage&#39;)</title>\n",
       "<path fill=\"none\" stroke=\"black\" stroke-width=\"2\" d=\"M5126.64,-478.88C5240.24,-465.2 5517.6,-425.93 5582.83,-362.17 5612.01,-333.66 5618.4,-284.36 5619.34,-253.84\"/>\n",
       "</g>\n",
       "<!-- (&#39;reactions_store&#39;, &#39;ATP consumption&#39;) -->\n",
       "<g id=\"node53\" class=\"node\">\n",
       "<title>(&#39;reactions_store&#39;, &#39;ATP consumption&#39;)</title>\n",
       "<ellipse fill=\"none\" stroke=\"black\" stroke-width=\"2\" cx=\"5721.83\" cy=\"-226.02\" rx=\"57.71\" ry=\"57.71\"/>\n",
       "<text text-anchor=\"start\" x=\"5679.08\" y=\"-221.74\" font-family=\"Times,serif\" font-size=\"12.00\">ATP consumption</text>\n",
       "</g>\n",
       "<!-- (&#39;reactions_store&#39;,)&#45;&gt;(&#39;reactions_store&#39;, &#39;ATP consumption&#39;) -->\n",
       "<g id=\"edge49\" class=\"edge\">\n",
       "<title>(&#39;reactions_store&#39;,)&#45;&gt;(&#39;reactions_store&#39;, &#39;ATP consumption&#39;)</title>\n",
       "<path fill=\"none\" stroke=\"black\" stroke-width=\"2\" d=\"M5126.56,-480C5250.74,-468.02 5574.89,-430.77 5654.83,-362.17 5679.08,-341.37 5695.43,-309.69 5705.91,-282.24\"/>\n",
       "</g>\n",
       "<!-- (&#39;reactions_store&#39;, &#39;Adenylate kinase&#39;) -->\n",
       "<g id=\"node54\" class=\"node\">\n",
       "<title>(&#39;reactions_store&#39;, &#39;Adenylate kinase&#39;)</title>\n",
       "<ellipse fill=\"none\" stroke=\"black\" stroke-width=\"2\" cx=\"5852.83\" cy=\"-226.02\" rx=\"55.38\" ry=\"55.38\"/>\n",
       "<text text-anchor=\"start\" x=\"5811.96\" y=\"-221.74\" font-family=\"Times,serif\" font-size=\"12.00\">Adenylate kinase</text>\n",
       "</g>\n",
       "<!-- (&#39;reactions_store&#39;,)&#45;&gt;(&#39;reactions_store&#39;, &#39;Adenylate kinase&#39;) -->\n",
       "<g id=\"edge50\" class=\"edge\">\n",
       "<title>(&#39;reactions_store&#39;,)&#45;&gt;(&#39;reactions_store&#39;, &#39;Adenylate kinase&#39;)</title>\n",
       "<path fill=\"none\" stroke=\"black\" stroke-width=\"2\" d=\"M5127.06,-481.76C5270.45,-473.35 5684.2,-442.49 5788.83,-362.17 5814.78,-342.25 5830.69,-309.2 5840.16,-280.77\"/>\n",
       "</g>\n",
       "<!-- (&#39;reactions_store&#39;,)&#45;&gt;(&#39;single_copasi_process&#39;,) -->\n",
       "<g id=\"edge54\" class=\"edge\">\n",
       "<title>(&#39;reactions_store&#39;,)&#45;&gt;(&#39;single_copasi_process&#39;,)</title>\n",
       "<path fill=\"none\" stroke=\"black\" stroke-dasharray=\"5,2\" d=\"M5028.88,-483.29C4522.03,-472.33 249.48,-379.4 222.83,-362.17 186.22,-338.51 169.69,-287.98 162.64,-255.85\"/>\n",
       "<polygon fill=\"black\" stroke=\"black\" points=\"166.15,-255.53 160.75,-246.42 159.29,-256.91 166.15,-255.53\"/>\n",
       "<text text-anchor=\"start\" x=\"1049.83\" y=\"-381.92\" font-family=\"Times,serif\" font-size=\"10.00\">reactions</text>\n",
       "</g>\n",
       "<!-- (&#39;single_copasi_process&#39;,)&#45;&gt;(&#39;single_copasi_process&#39;, &#39;interval&#39;) -->\n",
       "<g id=\"edge1\" class=\"edge\">\n",
       "<title>(&#39;single_copasi_process&#39;,)&#45;&gt;(&#39;single_copasi_process&#39;, &#39;interval&#39;)</title>\n",
       "<path fill=\"none\" stroke=\"black\" stroke-width=\"2\" d=\"M157.83,-207.13C157.83,-172.17 157.83,-94.63 157.83,-53.78\"/>\n",
       "</g>\n",
       "</g>\n",
       "</svg>\n"
      ],
      "text/plain": [
       "<graphviz.graphs.Digraph at 0x2994934f0>"
      ]
     },
     "execution_count": 29,
     "metadata": {},
     "output_type": "execute_result"
    }
   ],
   "source": [
    "b2.visualize()"
   ]
  },
  {
   "cell_type": "code",
   "execution_count": 30,
   "id": "1631f93c85561972",
   "metadata": {
    "ExecuteTime": {
     "end_time": "2024-03-05T13:58:51.821007Z",
     "start_time": "2024-03-05T13:58:51.816385Z"
    },
    "collapsed": false
   },
   "outputs": [
    {
     "data": {
      "text/plain": [
       "Builder({ 'emitter': { '_type': 'step',\n",
       "               'address': 'local:ram-emitter',\n",
       "               'config': { 'emit': { 'floating_species': 'tree[float]',\n",
       "                                     'time': 'float'}},\n",
       "               'inputs': { 'floating_species': ['floating_species_store'],\n",
       "                           'time': ['time_store']},\n",
       "               'instance': <process_bigraph.composite.RAMEmitter object at 0x299503f10>,\n",
       "               'outputs': {}},\n",
       "  'floating_species_store': { '1,3-Bisphosphoglycerate': 0.0,\n",
       "                              'ADP': 0.0,\n",
       "                              'AMP': 0.0,\n",
       "                              'ATP': 0.0,\n",
       "                              'Acetaldehyde': 0.0,\n",
       "                              'Cytosolic glucose': 0.0,\n",
       "                              'Dihydroxyacetone phosphate': 0.0,\n",
       "                              'EtOH': 0.0,\n",
       "                              'Extracellular acetaldehyde': 0.0,\n",
       "                              'Extracellular cyanide': 0.0,\n",
       "                              'Extracellular ethanol': 0.0,\n",
       "                              'Extracellular glucose': 0.0,\n",
       "                              'Extracellular glycerol': 0.0,\n",
       "                              'Fructose 1,6-bisphosphate': 0.0,\n",
       "                              'Fructose-6-Phosphate': 0.0,\n",
       "                              'Glucose-6-Phosphate': 0.0,\n",
       "                              'Glyceraldehyde 3-phosphate': 0.0,\n",
       "                              'Glycerol': 0.0,\n",
       "                              'Mixed flow cyanide': 0.0,\n",
       "                              'Mixed flow glucose': 0.0,\n",
       "                              'NAD': 0.0,\n",
       "                              'NADH': 0.0,\n",
       "                              'P': 0.0,\n",
       "                              'Phosphoenolpyruvate': 0.0,\n",
       "                              'Pyruvate': 0.0},\n",
       "  'global_time': 0.0,\n",
       "  'model_parameters_store': {},\n",
       "  'reactions_store': { 'ATP consumption': 0.0,\n",
       "                       'Acetaldehyde flow': 0.0,\n",
       "                       'Acetaldehyde out': 0.0,\n",
       "                       'Adenylate kinase': 0.0,\n",
       "                       'Alcohol dehydrogenase': 0.0,\n",
       "                       'Aldolase': 0.0,\n",
       "                       'Cyanide flow': 0.0,\n",
       "                       'Cyanide-Acetaldehyde flow': 0.0,\n",
       "                       'Ethanol flow': 0.0,\n",
       "                       'Ethanol out': 0.0,\n",
       "                       'Glucose Mixed flow to extracellular medium': 0.0,\n",
       "                       'Glucose uptake': 0.0,\n",
       "                       'Glyceraldehyde 3-phosphate dehydrogenase': 0.0,\n",
       "                       'Glycerol flow': 0.0,\n",
       "                       'Glycerol out': 0.0,\n",
       "                       'Glycerol synthesis': 0.0,\n",
       "                       'Hexokinase': 0.0,\n",
       "                       'Phosphoenolpyruvate synthesis': 0.0,\n",
       "                       'Phosphofructokinase': 0.0,\n",
       "                       'Phosphoglucoisomerase': 0.0,\n",
       "                       'Pyruvate decarboxylase': 0.0,\n",
       "                       'Pyruvate kinase': 0.0,\n",
       "                       'Storage': 0.0,\n",
       "                       'Triosephosphate isomerase': 0.0},\n",
       "  'single_copasi_process': { '_type': 'process',\n",
       "                             'address': 'local:CopasiProcess',\n",
       "                             'config': { 'method': 'stochastic',\n",
       "                                         'model': { 'model_changes': { 'global_parameter_changes': None,\n",
       "                                                                       'reaction_changes': None,\n",
       "                                                                       'species_changes': None},\n",
       "                                                    'model_id': 'BIOMD0000000061',\n",
       "                                                    'model_language': 'sbml',\n",
       "                                                    'model_name': 'Unnamed '\n",
       "                                                                  'Composite '\n",
       "                                                                  'Process '\n",
       "                                                                  'TimeCourseModel',\n",
       "                                                    'model_source': { 'value': '../biosimulator_processes/model_files/BIOMD0000000061_url.xml'},\n",
       "                                                    'model_units': None}},\n",
       "                             'inputs': { 'floating_species': [ 'floating_species_store'],\n",
       "                                         'model_parameters': [ 'model_parameters_store'],\n",
       "                                         'reactions': ['reactions_store'],\n",
       "                                         'time': ['time_store']},\n",
       "                             'instance': <biosimulator_processes.processes.copasi_process.CopasiProcess object at 0x297bf0910>,\n",
       "                             'interval': 1.0,\n",
       "                             'outputs': { 'floating_species': [ 'floating_species_store'],\n",
       "                                          'time': ['time_store']}},\n",
       "  'time_store': 0.0})"
      ]
     },
     "execution_count": 30,
     "metadata": {},
     "output_type": "execute_result"
    }
   ],
   "source": [
    "b2"
   ]
  },
  {
   "cell_type": "code",
   "execution_count": 31,
   "id": "1efa617f7caaac83",
   "metadata": {
    "ExecuteTime": {
     "end_time": "2024-03-05T13:58:53.646358Z",
     "start_time": "2024-03-05T13:58:53.638677Z"
    },
    "collapsed": false
   },
   "outputs": [],
   "source": [
    "composite3 = b2.generate()"
   ]
  },
  {
   "cell_type": "code",
   "execution_count": 32,
   "id": "11e12cfd47a836d4",
   "metadata": {
    "ExecuteTime": {
     "end_time": "2024-03-05T13:58:55.531692Z",
     "start_time": "2024-03-05T13:58:54.110958Z"
    },
    "collapsed": false
   },
   "outputs": [
    {
     "name": "stderr",
     "output_type": "stream",
     "text": [
      "Error while initializing the simulation: >ERROR 2024-03-05T08:58:54<\n",
      "  At least one reaction is reversible. That means stochastic simulation is not possible. \n",
      "  You can use \"Tools|Convert to irreversible\" which will split the reversible reactions \n",
      "   into two irreversible reactions. However you should check the kinetics afterwards.\n",
      "/Users/alex/Desktop/uchc_work/biosimulator-processes/notebooks/../biosimulator_processes/processes/copasi_process.py:253: FutureWarning:\n",
      "\n",
      "Series.__getitem__ treating keys as positions is deprecated. In a future version, integer keys will always be treated as labels (consistent with DataFrame behavior). To access a value by position, use `ser.iloc[pos]`\n",
      "\n",
      "Error while initializing the simulation: >ERROR 2024-03-05T08:58:54<\n",
      "  At least one reaction is reversible. That means stochastic simulation is not possible. \n",
      "  You can use \"Tools|Convert to irreversible\" which will split the reversible reactions \n",
      "   into two irreversible reactions. However you should check the kinetics afterwards.\n"
     ]
    },
    {
     "name": "stdout",
     "output_type": "stream",
     "text": [
      "THE RESULTS AT INTERVAL 1.0:\n",
      "{'time': 1.0, 'floating_species': {'Extracellular glucose': 6.7, 'Cytosolic glucose': 0.573074, 'ATP': 2.1, 'Glucose-6-Phosphate': 4.2, 'ADP': 1.5, 'Fructose-6-Phosphate': 0.49, 'Fructose 1,6-bisphosphate': 4.64, 'Glyceraldehyde 3-phosphate': 0.115, 'Dihydroxyacetone phosphate': 2.95, 'NAD': 0.65, '1,3-Bisphosphoglycerate': 0.00027, 'NADH': 0.33, 'Phosphoenolpyruvate': 0.04, 'Pyruvate': 8.7, 'Acetaldehyde': 1.48153, 'EtOH': 19.2379, 'Extracellular ethanol': 16.4514, 'Glycerol': 4.196, 'Extracellular glycerol': 1.68478, 'Extracellular acetaldehyde': 1.28836, 'Extracellular cyanide': 5.20358, 'AMP': 0.33, 'P': 0.0, 'Mixed flow cyanide': 5.6, 'Mixed flow glucose': 24.0}}\n",
      "THE RESULTS AT INTERVAL 1.0:\n",
      "{'time': 1.0, 'floating_species': {'Extracellular glucose': 6.7, 'Cytosolic glucose': 0.573074, 'ATP': 2.1, 'Glucose-6-Phosphate': 4.2, 'ADP': 1.5, 'Fructose-6-Phosphate': 0.49, 'Fructose 1,6-bisphosphate': 4.64, 'Glyceraldehyde 3-phosphate': 0.115, 'Dihydroxyacetone phosphate': 2.95, 'NAD': 0.65, '1,3-Bisphosphoglycerate': 0.00027, 'NADH': 0.33, 'Phosphoenolpyruvate': 0.04, 'Pyruvate': 8.7, 'Acetaldehyde': 1.48153, 'EtOH': 19.2379, 'Extracellular ethanol': 16.4514, 'Glycerol': 4.196, 'Extracellular glycerol': 1.68478, 'Extracellular acetaldehyde': 1.28836, 'Extracellular cyanide': 5.20358, 'AMP': 0.33, 'P': 0.0, 'Mixed flow cyanide': 5.6, 'Mixed flow glucose': 24.0}}\n"
     ]
    },
    {
     "name": "stderr",
     "output_type": "stream",
     "text": [
      "Error while initializing the simulation: >ERROR 2024-03-05T08:58:54<\n",
      "  At least one reaction is reversible. That means stochastic simulation is not possible. \n",
      "  You can use \"Tools|Convert to irreversible\" which will split the reversible reactions \n",
      "   into two irreversible reactions. However you should check the kinetics afterwards.\n",
      "Error while initializing the simulation: >ERROR 2024-03-05T08:58:54<\n",
      "  At least one reaction is reversible. That means stochastic simulation is not possible. \n",
      "  You can use \"Tools|Convert to irreversible\" which will split the reversible reactions \n",
      "   into two irreversible reactions. However you should check the kinetics afterwards.\n"
     ]
    },
    {
     "name": "stdout",
     "output_type": "stream",
     "text": [
      "THE RESULTS AT INTERVAL 1.0:\n",
      "{'time': 1.0, 'floating_species': {'Extracellular glucose': 6.7, 'Cytosolic glucose': 0.573074, 'ATP': 2.1, 'Glucose-6-Phosphate': 4.2, 'ADP': 1.5, 'Fructose-6-Phosphate': 0.49, 'Fructose 1,6-bisphosphate': 4.64, 'Glyceraldehyde 3-phosphate': 0.115, 'Dihydroxyacetone phosphate': 2.95, 'NAD': 0.65, '1,3-Bisphosphoglycerate': 0.00027, 'NADH': 0.33, 'Phosphoenolpyruvate': 0.04, 'Pyruvate': 8.7, 'Acetaldehyde': 1.48153, 'EtOH': 19.2379, 'Extracellular ethanol': 16.4514, 'Glycerol': 4.196, 'Extracellular glycerol': 1.68478, 'Extracellular acetaldehyde': 1.28836, 'Extracellular cyanide': 5.20358, 'AMP': 0.33, 'P': 0.0, 'Mixed flow cyanide': 5.6, 'Mixed flow glucose': 24.0}}\n",
      "THE RESULTS AT INTERVAL 1.0:\n",
      "{'time': 1.0, 'floating_species': {'Extracellular glucose': 6.7, 'Cytosolic glucose': 0.573074, 'ATP': 2.1, 'Glucose-6-Phosphate': 4.2, 'ADP': 1.5, 'Fructose-6-Phosphate': 0.49, 'Fructose 1,6-bisphosphate': 4.64, 'Glyceraldehyde 3-phosphate': 0.115, 'Dihydroxyacetone phosphate': 2.95, 'NAD': 0.65, '1,3-Bisphosphoglycerate': 0.00027, 'NADH': 0.33, 'Phosphoenolpyruvate': 0.04, 'Pyruvate': 8.7, 'Acetaldehyde': 1.48153, 'EtOH': 19.2379, 'Extracellular ethanol': 16.4514, 'Glycerol': 4.196, 'Extracellular glycerol': 1.68478, 'Extracellular acetaldehyde': 1.28836, 'Extracellular cyanide': 5.20358, 'AMP': 0.33, 'P': 0.0, 'Mixed flow cyanide': 5.6, 'Mixed flow glucose': 24.0}}\n"
     ]
    },
    {
     "name": "stderr",
     "output_type": "stream",
     "text": [
      "Error while initializing the simulation: >ERROR 2024-03-05T08:58:54<\n",
      "  At least one reaction is reversible. That means stochastic simulation is not possible. \n",
      "  You can use \"Tools|Convert to irreversible\" which will split the reversible reactions \n",
      "   into two irreversible reactions. However you should check the kinetics afterwards.\n",
      "Error while initializing the simulation: >ERROR 2024-03-05T08:58:54<\n",
      "  At least one reaction is reversible. That means stochastic simulation is not possible. \n",
      "  You can use \"Tools|Convert to irreversible\" which will split the reversible reactions \n",
      "   into two irreversible reactions. However you should check the kinetics afterwards.\n"
     ]
    },
    {
     "name": "stdout",
     "output_type": "stream",
     "text": [
      "THE RESULTS AT INTERVAL 1.0:\n",
      "{'time': 1.0, 'floating_species': {'Extracellular glucose': 6.7, 'Cytosolic glucose': 0.573074, 'ATP': 2.1, 'Glucose-6-Phosphate': 4.2, 'ADP': 1.5, 'Fructose-6-Phosphate': 0.49, 'Fructose 1,6-bisphosphate': 4.64, 'Glyceraldehyde 3-phosphate': 0.115, 'Dihydroxyacetone phosphate': 2.95, 'NAD': 0.65, '1,3-Bisphosphoglycerate': 0.00027, 'NADH': 0.33, 'Phosphoenolpyruvate': 0.04, 'Pyruvate': 8.7, 'Acetaldehyde': 1.48153, 'EtOH': 19.2379, 'Extracellular ethanol': 16.4514, 'Glycerol': 4.196, 'Extracellular glycerol': 1.68478, 'Extracellular acetaldehyde': 1.28836, 'Extracellular cyanide': 5.20358, 'AMP': 0.33, 'P': 0.0, 'Mixed flow cyanide': 5.6, 'Mixed flow glucose': 24.0}}\n",
      "THE RESULTS AT INTERVAL 1.0:\n",
      "{'time': 1.0, 'floating_species': {'Extracellular glucose': 6.7, 'Cytosolic glucose': 0.573074, 'ATP': 2.1, 'Glucose-6-Phosphate': 4.2, 'ADP': 1.5, 'Fructose-6-Phosphate': 0.49, 'Fructose 1,6-bisphosphate': 4.64, 'Glyceraldehyde 3-phosphate': 0.115, 'Dihydroxyacetone phosphate': 2.95, 'NAD': 0.65, '1,3-Bisphosphoglycerate': 0.00027, 'NADH': 0.33, 'Phosphoenolpyruvate': 0.04, 'Pyruvate': 8.7, 'Acetaldehyde': 1.48153, 'EtOH': 19.2379, 'Extracellular ethanol': 16.4514, 'Glycerol': 4.196, 'Extracellular glycerol': 1.68478, 'Extracellular acetaldehyde': 1.28836, 'Extracellular cyanide': 5.20358, 'AMP': 0.33, 'P': 0.0, 'Mixed flow cyanide': 5.6, 'Mixed flow glucose': 24.0}}\n"
     ]
    },
    {
     "name": "stderr",
     "output_type": "stream",
     "text": [
      "Error while initializing the simulation: >ERROR 2024-03-05T08:58:55<\n",
      "  At least one reaction is reversible. That means stochastic simulation is not possible. \n",
      "  You can use \"Tools|Convert to irreversible\" which will split the reversible reactions \n",
      "   into two irreversible reactions. However you should check the kinetics afterwards.\n",
      "Error while initializing the simulation: >ERROR 2024-03-05T08:58:55<\n",
      "  At least one reaction is reversible. That means stochastic simulation is not possible. \n",
      "  You can use \"Tools|Convert to irreversible\" which will split the reversible reactions \n",
      "   into two irreversible reactions. However you should check the kinetics afterwards.\n"
     ]
    },
    {
     "name": "stdout",
     "output_type": "stream",
     "text": [
      "THE RESULTS AT INTERVAL 1.0:\n",
      "{'time': 1.0, 'floating_species': {'Extracellular glucose': 6.7, 'Cytosolic glucose': 0.573074, 'ATP': 2.1, 'Glucose-6-Phosphate': 4.2, 'ADP': 1.5, 'Fructose-6-Phosphate': 0.49, 'Fructose 1,6-bisphosphate': 4.64, 'Glyceraldehyde 3-phosphate': 0.115, 'Dihydroxyacetone phosphate': 2.95, 'NAD': 0.65, '1,3-Bisphosphoglycerate': 0.00027, 'NADH': 0.33, 'Phosphoenolpyruvate': 0.04, 'Pyruvate': 8.7, 'Acetaldehyde': 1.48153, 'EtOH': 19.2379, 'Extracellular ethanol': 16.4514, 'Glycerol': 4.196, 'Extracellular glycerol': 1.68478, 'Extracellular acetaldehyde': 1.28836, 'Extracellular cyanide': 5.20358, 'AMP': 0.33, 'P': 0.0, 'Mixed flow cyanide': 5.6, 'Mixed flow glucose': 24.0}}\n",
      "THE RESULTS AT INTERVAL 1.0:\n",
      "{'time': 1.0, 'floating_species': {'Extracellular glucose': 6.7, 'Cytosolic glucose': 0.573074, 'ATP': 2.1, 'Glucose-6-Phosphate': 4.2, 'ADP': 1.5, 'Fructose-6-Phosphate': 0.49, 'Fructose 1,6-bisphosphate': 4.64, 'Glyceraldehyde 3-phosphate': 0.115, 'Dihydroxyacetone phosphate': 2.95, 'NAD': 0.65, '1,3-Bisphosphoglycerate': 0.00027, 'NADH': 0.33, 'Phosphoenolpyruvate': 0.04, 'Pyruvate': 8.7, 'Acetaldehyde': 1.48153, 'EtOH': 19.2379, 'Extracellular ethanol': 16.4514, 'Glycerol': 4.196, 'Extracellular glycerol': 1.68478, 'Extracellular acetaldehyde': 1.28836, 'Extracellular cyanide': 5.20358, 'AMP': 0.33, 'P': 0.0, 'Mixed flow cyanide': 5.6, 'Mixed flow glucose': 24.0}}\n"
     ]
    },
    {
     "name": "stderr",
     "output_type": "stream",
     "text": [
      "Error while initializing the simulation: >ERROR 2024-03-05T08:58:55<\n",
      "  At least one reaction is reversible. That means stochastic simulation is not possible. \n",
      "  You can use \"Tools|Convert to irreversible\" which will split the reversible reactions \n",
      "   into two irreversible reactions. However you should check the kinetics afterwards.\n",
      "Error while initializing the simulation: >ERROR 2024-03-05T08:58:55<\n",
      "  At least one reaction is reversible. That means stochastic simulation is not possible. \n",
      "  You can use \"Tools|Convert to irreversible\" which will split the reversible reactions \n",
      "   into two irreversible reactions. However you should check the kinetics afterwards.\n"
     ]
    },
    {
     "name": "stdout",
     "output_type": "stream",
     "text": [
      "THE RESULTS AT INTERVAL 1.0:\n",
      "{'time': 1.0, 'floating_species': {'Extracellular glucose': 6.7, 'Cytosolic glucose': 0.573074, 'ATP': 2.1, 'Glucose-6-Phosphate': 4.2, 'ADP': 1.5, 'Fructose-6-Phosphate': 0.49, 'Fructose 1,6-bisphosphate': 4.64, 'Glyceraldehyde 3-phosphate': 0.115, 'Dihydroxyacetone phosphate': 2.95, 'NAD': 0.65, '1,3-Bisphosphoglycerate': 0.00027, 'NADH': 0.33, 'Phosphoenolpyruvate': 0.04, 'Pyruvate': 8.7, 'Acetaldehyde': 1.48153, 'EtOH': 19.2379, 'Extracellular ethanol': 16.4514, 'Glycerol': 4.196, 'Extracellular glycerol': 1.68478, 'Extracellular acetaldehyde': 1.28836, 'Extracellular cyanide': 5.20358, 'AMP': 0.33, 'P': 0.0, 'Mixed flow cyanide': 5.6, 'Mixed flow glucose': 24.0}}\n",
      "THE RESULTS AT INTERVAL 1.0:\n",
      "{'time': 1.0, 'floating_species': {'Extracellular glucose': 6.7, 'Cytosolic glucose': 0.573074, 'ATP': 2.1, 'Glucose-6-Phosphate': 4.2, 'ADP': 1.5, 'Fructose-6-Phosphate': 0.49, 'Fructose 1,6-bisphosphate': 4.64, 'Glyceraldehyde 3-phosphate': 0.115, 'Dihydroxyacetone phosphate': 2.95, 'NAD': 0.65, '1,3-Bisphosphoglycerate': 0.00027, 'NADH': 0.33, 'Phosphoenolpyruvate': 0.04, 'Pyruvate': 8.7, 'Acetaldehyde': 1.48153, 'EtOH': 19.2379, 'Extracellular ethanol': 16.4514, 'Glycerol': 4.196, 'Extracellular glycerol': 1.68478, 'Extracellular acetaldehyde': 1.28836, 'Extracellular cyanide': 5.20358, 'AMP': 0.33, 'P': 0.0, 'Mixed flow cyanide': 5.6, 'Mixed flow glucose': 24.0}}\n"
     ]
    }
   ],
   "source": [
    "composite3.run(10)"
   ]
  },
  {
   "cell_type": "markdown",
   "id": "15fd08060616b9",
   "metadata": {
    "collapsed": false
   },
   "source": [
    "Save the composite to a file"
   ]
  },
  {
   "cell_type": "code",
   "execution_count": 33,
   "id": "7bee095fb9b44a98",
   "metadata": {
    "ExecuteTime": {
     "end_time": "2024-03-05T13:58:59.553820Z",
     "start_time": "2024-03-05T13:58:59.549272Z"
    },
    "collapsed": false
   },
   "outputs": [
    {
     "name": "stdout",
     "output_type": "stream",
     "text": [
      "File 'single_copasi_process_with_emitter' successfully written in 'out' directory.\n"
     ]
    }
   ],
   "source": [
    "b2.write(filename='single_copasi_process_with_emitter')"
   ]
  },
  {
   "cell_type": "markdown",
   "id": "c4eb72c1bdc49509",
   "metadata": {
    "collapsed": false
   },
   "source": []
  },
  {
   "cell_type": "code",
   "execution_count": 34,
   "id": "1c8ed454cde6f6d9",
   "metadata": {
    "ExecuteTime": {
     "end_time": "2024-03-05T13:59:00.835940Z",
     "start_time": "2024-03-05T13:59:00.699525Z"
    },
    "collapsed": false
   },
   "outputs": [
    {
     "name": "stdout",
     "output_type": "stream",
     "text": [
      "single_copasi_process_with_emitter.json\r\n"
     ]
    }
   ],
   "source": [
    "!ls out"
   ]
  },
  {
   "cell_type": "code",
   "execution_count": 35,
   "id": "c04b11acb055eaa8",
   "metadata": {
    "ExecuteTime": {
     "end_time": "2024-03-05T13:59:05.685995Z",
     "start_time": "2024-03-05T13:59:05.563081Z"
    },
    "collapsed": false
   },
   "outputs": [
    {
     "name": "stdout",
     "output_type": "stream",
     "text": [
      "{\r\n",
      "    \"single_copasi_process\": {\r\n",
      "        \"_type\": \"process\",\r\n",
      "        \"address\": \"local:CopasiProcess\",\r\n",
      "        \"config\": {\r\n",
      "            \"model\": {\r\n",
      "                \"model_id\": \"BIOMD0000000061\",\r\n",
      "                \"model_source\": {\r\n",
      "                    \"value\": \"../biosimulator_processes/model_files/BIOMD0000000061_url.xml\"\r\n",
      "                },\r\n",
      "                \"model_language\": \"sbml\",\r\n",
      "                \"model_name\": \"Unnamed Composite Process TimeCourseModel\",\r\n",
      "                \"model_changes\": {\r\n",
      "                    \"species_changes\": null,\r\n",
      "                    \"global_parameter_changes\": null,\r\n",
      "                    \"reaction_changes\": null\r\n",
      "                },\r\n",
      "                \"model_units\": null\r\n",
      "            },\r\n",
      "            \"method\": \"stochastic\"\r\n",
      "        },\r\n",
      "        \"inputs\": {\r\n",
      "            \"time\": [\r\n",
      "                \"time_store\"\r\n",
      "            ],\r\n",
      "            \"floating_species\": [\r\n",
      "                \"floating_species_store\"\r\n",
      "            ],\r\n",
      "            \"model_parameters\": [\r\n",
      "                \"model_parameters_store\"\r\n",
      "            ],\r\n",
      "            \"reactions\": [\r\n",
      "                \"reactions_store\"\r\n",
      "            ]\r\n",
      "        },\r\n",
      "        \"outputs\": {\r\n",
      "            \"time\": [\r\n",
      "                \"time_store\"\r\n",
      "            ],\r\n",
      "            \"floating_species\": [\r\n",
      "                \"floating_species_store\"\r\n",
      "            ]\r\n",
      "        },\r\n",
      "        \"interval\": 1.0\r\n",
      "    },\r\n",
      "    \"global_time\": \"0.0\",\r\n",
      "    \"time_store\": \"0.0\",\r\n",
      "    \"floating_species_store\": {\r\n",
      "        \"Extracellular glucose\": \"0.0\",\r\n",
      "        \"Cytosolic glucose\": \"0.0\",\r\n",
      "        \"ATP\": \"0.0\",\r\n",
      "        \"Glucose-6-Phosphate\": \"0.0\",\r\n",
      "        \"ADP\": \"0.0\",\r\n",
      "        \"Fructose-6-Phosphate\": \"0.0\",\r\n",
      "        \"Fructose 1,6-bisphosphate\": \"0.0\",\r\n",
      "        \"Glyceraldehyde 3-phosphate\": \"0.0\",\r\n",
      "        \"Dihydroxyacetone phosphate\": \"0.0\",\r\n",
      "        \"NAD\": \"0.0\",\r\n",
      "        \"1,3-Bisphosphoglycerate\": \"0.0\",\r\n",
      "        \"NADH\": \"0.0\",\r\n",
      "        \"Phosphoenolpyruvate\": \"0.0\",\r\n",
      "        \"Pyruvate\": \"0.0\",\r\n",
      "        \"Acetaldehyde\": \"0.0\",\r\n",
      "        \"EtOH\": \"0.0\",\r\n",
      "        \"Extracellular ethanol\": \"0.0\",\r\n",
      "        \"Glycerol\": \"0.0\",\r\n",
      "        \"Extracellular glycerol\": \"0.0\",\r\n",
      "        \"Extracellular acetaldehyde\": \"0.0\",\r\n",
      "        \"Extracellular cyanide\": \"0.0\",\r\n",
      "        \"AMP\": \"0.0\",\r\n",
      "        \"P\": \"0.0\",\r\n",
      "        \"Mixed flow cyanide\": \"0.0\",\r\n",
      "        \"Mixed flow glucose\": \"0.0\"\r\n",
      "    },\r\n",
      "    \"model_parameters_store\": {},\r\n",
      "    \"reactions_store\": {\r\n",
      "        \"Glucose Mixed flow to extracellular medium\": \"0.0\",\r\n",
      "        \"Glucose uptake\": \"0.0\",\r\n",
      "        \"Hexokinase\": \"0.0\",\r\n",
      "        \"Phosphoglucoisomerase\": \"0.0\",\r\n",
      "        \"Phosphofructokinase\": \"0.0\",\r\n",
      "        \"Aldolase\": \"0.0\",\r\n",
      "        \"Triosephosphate isomerase\": \"0.0\",\r\n",
      "        \"Glyceraldehyde 3-phosphate dehydrogenase\": \"0.0\",\r\n",
      "        \"Phosphoenolpyruvate synthesis\": \"0.0\",\r\n",
      "        \"Pyruvate kinase\": \"0.0\",\r\n",
      "        \"Pyruvate decarboxylase\": \"0.0\",\r\n",
      "        \"Alcohol dehydrogenase\": \"0.0\",\r\n",
      "        \"Ethanol out\": \"0.0\",\r\n",
      "        \"Ethanol flow\": \"0.0\",\r\n",
      "        \"Glycerol synthesis\": \"0.0\",\r\n",
      "        \"Glycerol out\": \"0.0\",\r\n",
      "        \"Glycerol flow\": \"0.0\",\r\n",
      "        \"Acetaldehyde out\": \"0.0\",\r\n",
      "        \"Acetaldehyde flow\": \"0.0\",\r\n",
      "        \"Cyanide-Acetaldehyde flow\": \"0.0\",\r\n",
      "        \"Cyanide flow\": \"0.0\",\r\n",
      "        \"Storage\": \"0.0\",\r\n",
      "        \"ATP consumption\": \"0.0\",\r\n",
      "        \"Adenylate kinase\": \"0.0\"\r\n",
      "    },\r\n",
      "    \"emitter\": {\r\n",
      "        \"_type\": \"step\",\r\n",
      "        \"address\": \"local:ram-emitter\",\r\n",
      "        \"config\": {\r\n",
      "            \"emit\": {\r\n",
      "                \"floating_species\": \"tree[float]\",\r\n",
      "                \"time\": \"float\"\r\n",
      "            }\r\n",
      "        },\r\n",
      "        \"inputs\": {\r\n",
      "            \"floating_species\": [\r\n",
      "                \"floating_species_store\"\r\n",
      "            ],\r\n",
      "            \"time\": [\r\n",
      "                \"time_store\"\r\n",
      "            ]\r\n",
      "        },\r\n",
      "        \"outputs\": {}\r\n",
      "    }\r\n",
      "}"
     ]
    }
   ],
   "source": [
    "!cat out/single_copasi_process_with_emitter.json"
   ]
  },
  {
   "cell_type": "code",
   "execution_count": 36,
   "id": "6745bf0c8cdd2ddc",
   "metadata": {
    "ExecuteTime": {
     "end_time": "2024-03-05T13:59:42.126434Z",
     "start_time": "2024-03-05T13:59:42.122751Z"
    },
    "collapsed": false
   },
   "outputs": [
    {
     "data": {
      "text/plain": [
       "dict_keys(['single_copasi_process', 'global_time', 'time_store', 'floating_species_store', 'model_parameters_store', 'reactions_store', 'emitter'])"
      ]
     },
     "execution_count": 36,
     "metadata": {},
     "output_type": "execute_result"
    }
   ],
   "source": [
    "import json \n",
    "\n",
    "\n",
    "with open('out/single_copasi_process_with_emitter.json', 'r') as fp:\n",
    "    data = json.load(fp)\n",
    "    \n",
    "    \n",
    "data.keys()"
   ]
  },
  {
   "cell_type": "code",
   "execution_count": null,
   "id": "f6cab891b4a4dd5",
   "metadata": {
    "collapsed": false
   },
   "outputs": [],
   "source": []
  }
 ],
 "metadata": {
  "kernelspec": {
   "display_name": "Python 3",
   "language": "python",
   "name": "python3"
  },
  "language_info": {
   "codemirror_mode": {
    "name": "ipython",
    "version": 2
   },
   "file_extension": ".py",
   "mimetype": "text/x-python",
   "name": "python",
   "nbconvert_exporter": "python",
   "pygments_lexer": "ipython2",
   "version": "2.7.6"
  }
 },
 "nbformat": 4,
 "nbformat_minor": 5
}
