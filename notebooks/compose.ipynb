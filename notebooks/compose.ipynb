{
 "cells": [
  {
   "cell_type": "code",
   "execution_count": 1,
   "id": "ed78a049-ab23-4b9d-a49e-1a720457c7e0",
   "metadata": {},
   "outputs": [
    {
     "name": "stdout",
     "output_type": "stream",
     "text": [
      "CobraProcess registered successfully.\n"
     ]
    },
    {
     "name": "stderr",
     "output_type": "stream",
     "text": [
      "/Users/alex/miniconda3/envs/experiment/lib/python3.10/site-packages/pydantic/_internal/_generate_schema.py:382: UserWarning: <built-in function any> is not a Python type (it may be an instance of an object), Pydantic will allow any object with no validation since we cannot even enforce that the input is an instance of the given type. To get rid of this error wrap the type with `pydantic.SkipValidation`.\n",
      "  warn(\n"
     ]
    },
    {
     "name": "stdout",
     "output_type": "stream",
     "text": [
      "CopasiProcess registered successfully.\n",
      "SmoldynProcess not available. Error: \n",
      "PLEASE NOTE: Smoldyn is not correctly installed on your system which prevents you from using the SmoldynProcess. Please refer to the README for further information on installing Smoldyn.\n",
      "TelluriumProcess registered successfully.\n",
      "DeterministicTimeCourseParameterScan registered successfully.\n"
     ]
    },
    {
     "data": {
      "text/plain": [
       "True"
      ]
     },
     "execution_count": 1,
     "metadata": {},
     "output_type": "execute_result"
    }
   ],
   "source": [
    "import sys\n",
    "\n",
    "sys.path.insert(0, '..')\n",
    "import os\n",
    "from process_bigraph import pp, pf\n",
    "from biosimulator_processes.data_model import *\n",
    "from biosimulator_processes.biosimulator_builder import BiosimulatorBuilder\n",
    "from biosimulator_processes.processes.copasi_process import CopasiProcess\n",
    "\n",
    "\n",
    "model_filepath = '../biosimulator_processes/model_files/BIOMD0000000061_url.xml'\n",
    "\n",
    "os.path.exists(model_filepath)"
   ]
  },
  {
   "cell_type": "code",
   "execution_count": 4,
   "id": "76271971-71ee-4fd7-b6c9-512c48dd45b4",
   "metadata": {},
   "outputs": [],
   "source": [
    "def test_pydantic():\n",
    "    # make the builder\n",
    "    builder = BiosimulatorBuilder()\n",
    "\n",
    "    ## register processes by name: what processes do we want and where do they come from\n",
    "    builder.register_process(\n",
    "        'CopasiProcess', CopasiProcess)\n",
    "\n",
    "    tc_model = TimeCourseModel(model_source=model_filepath)\n",
    "    process_config = builder.get_pydantic_model('CopasiProcess')\n",
    "    config = process_config(model=tc_model.model_dump())\n",
    "    builder['event_process'].add_process(name='CopasiProcess', config=config)"
   ]
  },
  {
   "cell_type": "code",
   "execution_count": 5,
   "id": "3a4d93df-8d6f-45c7-b258-39d75060e74b",
   "metadata": {},
   "outputs": [
    {
     "ename": "TypeError",
     "evalue": "argument of type 'NoneType' is not iterable",
     "output_type": "error",
     "traceback": [
      "\u001b[0;31m---------------------------------------------------------------------------\u001b[0m",
      "\u001b[0;31mTypeError\u001b[0m                                 Traceback (most recent call last)",
      "Cell \u001b[0;32mIn[5], line 1\u001b[0m\n\u001b[0;32m----> 1\u001b[0m \u001b[43mtest_pydantic\u001b[49m\u001b[43m(\u001b[49m\u001b[43m)\u001b[49m\n",
      "Cell \u001b[0;32mIn[4], line 10\u001b[0m, in \u001b[0;36mtest_pydantic\u001b[0;34m()\u001b[0m\n\u001b[1;32m      6\u001b[0m builder\u001b[38;5;241m.\u001b[39mregister_process(\n\u001b[1;32m      7\u001b[0m     \u001b[38;5;124m'\u001b[39m\u001b[38;5;124mCopasiProcess\u001b[39m\u001b[38;5;124m'\u001b[39m, CopasiProcess)\n\u001b[1;32m      9\u001b[0m tc_model \u001b[38;5;241m=\u001b[39m TimeCourseModel(model_source\u001b[38;5;241m=\u001b[39mmodel_filepath)\n\u001b[0;32m---> 10\u001b[0m process_config \u001b[38;5;241m=\u001b[39m \u001b[43mbuilder\u001b[49m\u001b[38;5;241;43m.\u001b[39;49m\u001b[43mget_pydantic_model\u001b[49m\u001b[43m(\u001b[49m\u001b[38;5;124;43m'\u001b[39;49m\u001b[38;5;124;43mCopasiProcess\u001b[39;49m\u001b[38;5;124;43m'\u001b[39;49m\u001b[43m)\u001b[49m\u001b[38;5;241m.\u001b[39mmodel_dump()\n\u001b[1;32m     11\u001b[0m config \u001b[38;5;241m=\u001b[39m process_config(model\u001b[38;5;241m=\u001b[39mtc_model)\n\u001b[1;32m     12\u001b[0m builder[\u001b[38;5;124m'\u001b[39m\u001b[38;5;124mevent_process\u001b[39m\u001b[38;5;124m'\u001b[39m]\u001b[38;5;241m.\u001b[39madd_process(name\u001b[38;5;241m=\u001b[39m\u001b[38;5;124m'\u001b[39m\u001b[38;5;124mCopasiProcess\u001b[39m\u001b[38;5;124m'\u001b[39m, config\u001b[38;5;241m=\u001b[39mconfig)\n",
      "File \u001b[0;32m~/Desktop/uchc_work/repos/biosimulator-processes/src/bigraph-builder/builder/builder_api.py:279\u001b[0m, in \u001b[0;36mBuilder.get_pydantic_model\u001b[0;34m(self, process_name)\u001b[0m\n\u001b[1;32m    269\u001b[0m \u001b[38;5;250m\u001b[39m\u001b[38;5;124;03m\"\"\"\u001b[39;00m\n\u001b[1;32m    270\u001b[0m \u001b[38;5;124;03mFetches the Pydantic model for the given process name from the process_registry.\u001b[39;00m\n\u001b[1;32m    271\u001b[0m \n\u001b[0;32m   (...)\u001b[0m\n\u001b[1;32m    276\u001b[0m \u001b[38;5;124;03m    Pydantic model class for the requested process configuration schema.\u001b[39;00m\n\u001b[1;32m    277\u001b[0m \u001b[38;5;124;03m\"\"\"\u001b[39;00m\n\u001b[1;32m    278\u001b[0m \u001b[38;5;28;01mif\u001b[39;00m \u001b[38;5;28mhasattr\u001b[39m(\u001b[38;5;28mself\u001b[39m\u001b[38;5;241m.\u001b[39mcore\u001b[38;5;241m.\u001b[39mprocess_registry, \u001b[38;5;124m'\u001b[39m\u001b[38;5;124mget_pydantic_model\u001b[39m\u001b[38;5;124m'\u001b[39m):\n\u001b[0;32m--> 279\u001b[0m     \u001b[38;5;28;01mreturn\u001b[39;00m \u001b[38;5;28;43mself\u001b[39;49m\u001b[38;5;241;43m.\u001b[39;49m\u001b[43mcore\u001b[49m\u001b[38;5;241;43m.\u001b[39;49m\u001b[43mprocess_registry\u001b[49m\u001b[38;5;241;43m.\u001b[39;49m\u001b[43mget_pydantic_model\u001b[49m\u001b[43m(\u001b[49m\u001b[43mprocess_name\u001b[49m\u001b[43m)\u001b[49m\n\u001b[1;32m    280\u001b[0m \u001b[38;5;28;01melse\u001b[39;00m:\n\u001b[1;32m    281\u001b[0m     \u001b[38;5;28;01mraise\u001b[39;00m \u001b[38;5;167;01mNotImplementedError\u001b[39;00m(\u001b[38;5;124m\"\u001b[39m\u001b[38;5;124mProcess registry does not support Pydantic model retrieval.\u001b[39m\u001b[38;5;124m\"\u001b[39m)\n",
      "File \u001b[0;32m~/Desktop/uchc_work/repos/biosimulator-processes/src/bigraph-schema/bigraph_schema/registry.py:469\u001b[0m, in \u001b[0;36mRegistry.get_pydantic_model\u001b[0;34m(self, key)\u001b[0m\n\u001b[1;32m    466\u001b[0m \u001b[38;5;28;01mif\u001b[39;00m key \u001b[38;5;129;01min\u001b[39;00m \u001b[38;5;28mself\u001b[39m\u001b[38;5;241m.\u001b[39mpydantic_models_cache:\n\u001b[1;32m    467\u001b[0m     \u001b[38;5;28;01mreturn\u001b[39;00m \u001b[38;5;28mself\u001b[39m\u001b[38;5;241m.\u001b[39mpydantic_models_cache[key]\n\u001b[0;32m--> 469\u001b[0m model \u001b[38;5;241m=\u001b[39m \u001b[38;5;28;43mself\u001b[39;49m\u001b[38;5;241;43m.\u001b[39;49m\u001b[43mgenerate_pydantic_model\u001b[49m\u001b[43m(\u001b[49m\u001b[43mkey\u001b[49m\u001b[43m)\u001b[49m\n\u001b[1;32m    470\u001b[0m \u001b[38;5;28mself\u001b[39m\u001b[38;5;241m.\u001b[39mpydantic_models_cache[key] \u001b[38;5;241m=\u001b[39m model\n\u001b[1;32m    471\u001b[0m \u001b[38;5;28;01mreturn\u001b[39;00m model\n",
      "File \u001b[0;32m~/Desktop/uchc_work/repos/biosimulator-processes/src/bigraph-schema/bigraph_schema/registry.py:453\u001b[0m, in \u001b[0;36mRegistry.generate_pydantic_model\u001b[0;34m(self, key)\u001b[0m\n\u001b[1;32m    450\u001b[0m default_value \u001b[38;5;241m=\u001b[39m field_info\u001b[38;5;241m.\u001b[39mget(\u001b[38;5;124m'\u001b[39m\u001b[38;5;124m_default\u001b[39m\u001b[38;5;124m'\u001b[39m)\n\u001b[1;32m    452\u001b[0m \u001b[38;5;66;03m# Map your custom types to Pydantic types here\u001b[39;00m\n\u001b[0;32m--> 453\u001b[0m pydantic_type \u001b[38;5;241m=\u001b[39m \u001b[43mmap_type_to_pydantic\u001b[49m\u001b[43m(\u001b[49m\u001b[43mfield_type\u001b[49m\u001b[43m)\u001b[49m\n\u001b[1;32m    455\u001b[0m \u001b[38;5;66;03m# Use default value if specified\u001b[39;00m\n\u001b[1;32m    456\u001b[0m \u001b[38;5;28;01mif\u001b[39;00m default_value \u001b[38;5;129;01mis\u001b[39;00m \u001b[38;5;129;01mnot\u001b[39;00m \u001b[38;5;28;01mNone\u001b[39;00m:\n",
      "File \u001b[0;32m~/Desktop/uchc_work/repos/biosimulator-processes/src/bigraph-schema/bigraph_schema/registry.py:334\u001b[0m, in \u001b[0;36mmap_type_to_pydantic\u001b[0;34m(custom_type)\u001b[0m\n\u001b[1;32m    325\u001b[0m \u001b[38;5;250m\u001b[39m\u001b[38;5;124;03m\"\"\"Map custom type strings to Pydantic types.\"\"\"\u001b[39;00m\n\u001b[1;32m    326\u001b[0m type_mapping \u001b[38;5;241m=\u001b[39m {\n\u001b[1;32m    327\u001b[0m     \u001b[38;5;124m'\u001b[39m\u001b[38;5;124mfloat\u001b[39m\u001b[38;5;124m'\u001b[39m: \u001b[38;5;28mfloat\u001b[39m,\n\u001b[1;32m    328\u001b[0m     \u001b[38;5;124m'\u001b[39m\u001b[38;5;124mint\u001b[39m\u001b[38;5;124m'\u001b[39m: \u001b[38;5;28mint\u001b[39m,\n\u001b[0;32m   (...)\u001b[0m\n\u001b[1;32m    332\u001b[0m     \u001b[38;5;66;03m# Add more mappings as necessary\u001b[39;00m\n\u001b[1;32m    333\u001b[0m }\n\u001b[0;32m--> 334\u001b[0m \u001b[38;5;28;01mif\u001b[39;00m \u001b[38;5;124;43m'\u001b[39;49m\u001b[38;5;124;43mtree\u001b[39;49m\u001b[38;5;124;43m'\u001b[39;49m\u001b[43m \u001b[49m\u001b[38;5;129;43;01min\u001b[39;49;00m\u001b[43m \u001b[49m\u001b[43mcustom_type\u001b[49m:\n\u001b[1;32m    335\u001b[0m     \u001b[38;5;28;01mreturn\u001b[39;00m type_mapping[\u001b[38;5;124m'\u001b[39m\u001b[38;5;124mtree\u001b[39m\u001b[38;5;124m'\u001b[39m]\n\u001b[1;32m    336\u001b[0m \u001b[38;5;28;01melif\u001b[39;00m \u001b[38;5;124m'\u001b[39m\u001b[38;5;124mlist\u001b[39m\u001b[38;5;124m'\u001b[39m \u001b[38;5;129;01min\u001b[39;00m custom_type:\n",
      "\u001b[0;31mTypeError\u001b[0m: argument of type 'NoneType' is not iterable"
     ]
    }
   ],
   "source": [
    "test_pydantic()"
   ]
  },
  {
   "cell_type": "code",
   "execution_count": null,
   "id": "3ad7a36f-6cac-4602-8831-c9c6beeaa7a4",
   "metadata": {},
   "outputs": [],
   "source": []
  }
 ],
 "metadata": {
  "kernelspec": {
   "display_name": "Python 3 (ipykernel)",
   "language": "python",
   "name": "python3"
  },
  "language_info": {
   "codemirror_mode": {
    "name": "ipython",
    "version": 3
   },
   "file_extension": ".py",
   "mimetype": "text/x-python",
   "name": "python",
   "nbconvert_exporter": "python",
   "pygments_lexer": "ipython3",
   "version": "3.10.13"
  }
 },
 "nbformat": 4,
 "nbformat_minor": 5
}
