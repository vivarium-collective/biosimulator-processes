{
 "cells": [
  {
   "cell_type": "code",
   "execution_count": null,
   "id": "initial_id",
   "metadata": {
    "collapsed": true,
    "jupyter": {
     "outputs_hidden": true
    }
   },
   "outputs": [],
   "source": [
    "import sys\n",
    "sys.path.insert(0, '..')\n",
    "\n",
    "import os\n",
    "import requests\n",
    "\n",
    "\n",
    "caravagna_model_filepath = '../biosimulator_processes/model_files/Caravagna2010.xml'\n",
    "print(os.path.exists(caravagna_model_filepath))\n",
    "\n",
    "tumor_control_biomodel_id = 'BIOMD0000000749'\n",
    "requests.get('https://www.ebi.ac.uk/biomodels/BIOMD0000000749', headers={'accept': 'json'})"
   ]
  },
  {
   "cell_type": "markdown",
   "id": "2a5b74c8b92ae5e0",
   "metadata": {
    "collapsed": false
   },
   "source": [
    "#### **_Experiment 1_**:  Here we cross a boundary in the stack that is a biological simulation. We go from model configuration, to experiment. Thus, this tooling sits at that level: both experiment specification AND experiment execution. It's not just a way to specify an experiment, but it is also a way to run it, given the many knobs and buttons that you can use predefine and customize the way the actual model is being solved. Our users are seeking to be involved in an experiment as a \"stack\". We should make a bigger distinction between terms like \"model\"."
   ]
  },
  {
   "cell_type": "code",
   "execution_count": null,
   "id": "ac56c8bdfa77040b",
   "metadata": {
    "collapsed": false
   },
   "outputs": [],
   "source": [
    "from dataclasses import dataclass, asdict\n",
    "from biosimulator_processes.biosimulator_builder import BiosimulatorBuilder, BuildPrompter\n",
    "from biosimulator_processes.data_model import TimeCourseProcess, TimeCourseModel"
   ]
  },
  {
   "cell_type": "code",
   "execution_count": null,
   "id": "4f88a98e976b773b",
   "metadata": {
    "collapsed": false
   },
   "outputs": [],
   "source": [
    "# 1. define a model for the process composition. In this case, just one model to be re-used as configuration for the processes we create:\n",
    "\n",
    "tc_model = TimeCourseModel(model_source=tumor_control_biomodel_id)"
   ]
  },
  {
   "cell_type": "code",
   "execution_count": null,
   "id": "8f1fae37596bd490",
   "metadata": {
    "collapsed": false
   },
   "outputs": [],
   "source": [
    "# >> The model is viewable as a dataclass...\n",
    "\n",
    "tc_model"
   ]
  },
  {
   "cell_type": "code",
   "execution_count": null,
   "id": "f597dfd5b844ac66",
   "metadata": {
    "collapsed": false
   },
   "outputs": [],
   "source": [
    "# >> ...or a dict:\n",
    "\n",
    "tc_model.dump()"
   ]
  },
  {
   "cell_type": "code",
   "execution_count": null,
   "id": "b0cdfd23eed6ffd5",
   "metadata": {
    "collapsed": false
   },
   "outputs": [],
   "source": [
    "# 2. instantiate the prompter:\n",
    "\n",
    "prompter = BuildPrompter()"
   ]
  },
  {
   "cell_type": "code",
   "execution_count": null,
   "id": "61f91526ffa94a73",
   "metadata": {
    "collapsed": false
   },
   "outputs": [],
   "source": [
    "# 3. add process(es) to the bigraph with the Time Course model instance we created above. For now, just one process will be added.\n",
    "\n",
    "prompter.add_single_process(config=tc_model)"
   ]
  },
  {
   "cell_type": "markdown",
   "id": "4d2f67d376ccd700",
   "metadata": {
    "collapsed": false
   },
   "source": [
    "#### **_Experiment 2_**: Load an SBML model from a specified model filepath and add Model changes to the composite before adding it to the bigraph."
   ]
  },
  {
   "cell_type": "code",
   "execution_count": null,
   "id": "445f7be4212f922a",
   "metadata": {
    "collapsed": false
   },
   "outputs": [],
   "source": [
    "from biosimulator_processes.data_model import TimeCourseModelChanges, ModelChanges, ModelChange"
   ]
  },
  {
   "cell_type": "code",
   "execution_count": null,
   "id": "e29fa2bdc7ebc72d",
   "metadata": {
    "ExecuteTime": {
     "end_time": "2024-04-26T20:01:28.664853Z",
     "start_time": "2024-04-26T20:01:28.663200Z"
    },
    "collapsed": false
   },
   "outputs": [],
   "source": []
  },
  {
   "cell_type": "code",
   "execution_count": 1,
   "id": "fc1853f621ce9bed",
   "metadata": {
    "ExecuteTime": {
     "end_time": "2024-05-03T17:35:23.517484Z",
     "start_time": "2024-05-03T17:35:21.880542Z"
    },
    "collapsed": false
   },
   "outputs": [
    {
     "name": "stdout",
     "output_type": "stream",
     "text": [
      "CobraProcess registered successfully.\n",
      "CopasiProcess registered successfully.\n",
      "SmoldynProcess registered successfully.\n",
      "TelluriumProcess registered successfully.\n"
     ]
    }
   ],
   "source": [
    "import sys\n",
    "\n",
    "sys.path.insert(0, '..')\n",
    "\n",
    "import os\n",
    "import requests\n",
    "import json\n",
    "from biosimulator_processes.utils import prepare_single_ode_process_document\n",
    "from biosimulator_processes.data_model.compare_data_model import ComparisonDocument, DocumentFactory\n",
    "from biosimulator_processes import CORE\n",
    "from process_bigraph import Composite, pp"
   ]
  },
  {
   "cell_type": "code",
   "execution_count": 1,
   "id": "282ad1b564306ee6",
   "metadata": {
    "ExecuteTime": {
     "end_time": "2024-05-03T17:35:23.519826Z",
     "start_time": "2024-05-03T17:35:23.518420Z"
    }
   },
   "outputs": [],
   "source": []
  },
  {
   "cell_type": "code",
   "execution_count": 4,
   "id": "e72ba6a56099ac85",
   "metadata": {
    "ExecuteTime": {
     "end_time": "2024-05-03T17:35:56.322242Z",
     "start_time": "2024-05-03T17:35:56.318985Z"
    },
    "collapsed": false
   },
   "outputs": [
    {
     "data": {
      "text/plain": [
       "{'copasi_0': {'_type': 'process',\n",
       "  'address': 'local:copasi',\n",
       "  'config': {'model': {'model_source': '../biosimulator_processes/model_files/sbml/BIOMD0000000630_url.xml'}},\n",
       "  'inputs': {'floating_species_concentrations': ['floating_species_concentrations_store'],\n",
       "   'model_parameters': ['model_parameters_store'],\n",
       "   'time': ['time_store'],\n",
       "   'reactions': ['reactions_store']},\n",
       "  'outputs': {'floating_species_concentrations': ['floating_species_concentrations_store'],\n",
       "   'time': ['time_store']}},\n",
       " 'amici_1': {'_type': 'process',\n",
       "  'address': 'local:amici',\n",
       "  'config': {'model': {'model_source': '../biosimulator_processes/model_files/sbml/BIOMD0000000630_url.xml'}},\n",
       "  'inputs': {'floating_species_concentrations': ['floating_species_concentrations_store'],\n",
       "   'model_parameters': ['model_parameters_store'],\n",
       "   'time': ['time_store'],\n",
       "   'reactions': ['reactions_store']},\n",
       "  'outputs': {'floating_species_concentrations': ['floating_species_concentrations_store'],\n",
       "   'time': ['time_store']}},\n",
       " 'emitter': {'_type': 'step',\n",
       "  'address': 'local:ram-emitter',\n",
       "  'config': {'emit': {'floating_species_concentrations': 'tree[float]',\n",
       "    'time': 'float'}},\n",
       "  'inputs': {'floating_species_concentrations': ['floating_species_concentrations_store'],\n",
       "   'time': ['time_store']}}}"
      ]
     },
     "execution_count": 4,
     "metadata": {},
     "output_type": "execute_result"
    }
   ],
   "source": [
    "#### Step 1: Define the document to be read by the Composite, which is implemented by the Process.\n",
    "biomodel_id = 'BIOMD0000000630'\n",
    "model_fp = f'../biosimulator_processes/model_files/sbml/{biomodel_id}_url.xml'\n",
    "species_context = 'concentrations'\n",
    "species_port_name = f'floating_species_{species_context}'\n",
    "species_store = [f'floating_species_{species_context}_store']\n",
    "duration = 30\n",
    "\n",
    "comparison_document = ComparisonDocument(\n",
    "    simulators=['copasi', 'amici'],\n",
    "    duration=20,\n",
    "    num_steps=32,\n",
    "    model_filepath=model_fp\n",
    ")\n",
    "\n",
    "\n",
    "comparison_document.composite"
   ]
  },
  {
   "cell_type": "code",
   "execution_count": 16,
   "id": "a6c354517f713b6c",
   "metadata": {
    "ExecuteTime": {
     "end_time": "2024-05-03T17:03:42.327414Z",
     "start_time": "2024-05-03T17:03:42.324614Z"
    }
   },
   "outputs": [],
   "source": [
    "from biosimulator_processes.data_model import _BaseClass, _BaseModel\n",
    "from pydantic import Field"
   ]
  },
  {
   "cell_type": "code",
   "execution_count": 15,
   "id": "a65726dba99b69f7",
   "metadata": {
    "ExecuteTime": {
     "end_time": "2024-05-03T17:01:48.152354Z",
     "start_time": "2024-05-03T17:01:48.147227Z"
    }
   },
   "outputs": [
    {
     "name": "stdout",
     "output_type": "stream",
     "text": [
      "3\n"
     ]
    },
    {
     "data": {
      "text/plain": [
       "X()"
      ]
     },
     "execution_count": 15,
     "metadata": {},
     "output_type": "execute_result"
    }
   ],
   "source": [
    "X(a=3)"
   ]
  },
  {
   "cell_type": "code",
   "execution_count": 9,
   "id": "1251a21605469a5e",
   "metadata": {
    "ExecuteTime": {
     "end_time": "2024-05-03T17:00:40.212961Z",
     "start_time": "2024-05-03T17:00:40.209191Z"
    }
   },
   "outputs": [
    {
     "data": {
      "text/plain": [
       "int"
      ]
     },
     "execution_count": 9,
     "metadata": {},
     "output_type": "execute_result"
    }
   ],
   "source": [
    "type(X(a=3).a)"
   ]
  },
  {
   "cell_type": "markdown",
   "id": "b6eab04fff49c4b1",
   "metadata": {},
   "source": []
  },
  {
   "cell_type": "code",
   "execution_count": 17,
   "id": "386543c6088f0fd7",
   "metadata": {
    "ExecuteTime": {
     "end_time": "2024-05-03T17:04:18.961877Z",
     "start_time": "2024-05-03T17:04:18.958471Z"
    }
   },
   "outputs": [],
   "source": [
    "class Y(_BaseModel):\n",
    "    a: str = '23'\n",
    "    b: str = Field(...)"
   ]
  },
  {
   "cell_type": "code",
   "execution_count": 18,
   "id": "2c318df6829daa86",
   "metadata": {
    "ExecuteTime": {
     "end_time": "2024-05-03T17:04:40.078109Z",
     "start_time": "2024-05-03T17:04:40.075950Z"
    }
   },
   "outputs": [],
   "source": [
    "y = Y(b='45')"
   ]
  },
  {
   "cell_type": "code",
   "execution_count": 19,
   "id": "739efc4438deff54",
   "metadata": {
    "ExecuteTime": {
     "end_time": "2024-05-03T17:04:48.723161Z",
     "start_time": "2024-05-03T17:04:48.719978Z"
    }
   },
   "outputs": [
    {
     "data": {
      "text/plain": [
       "('23', '45')"
      ]
     },
     "execution_count": 19,
     "metadata": {},
     "output_type": "execute_result"
    }
   ],
   "source": [
    "y.a, y.b"
   ]
  },
  {
   "cell_type": "code",
   "execution_count": 20,
   "id": "48b97f2dad78ca49",
   "metadata": {
    "ExecuteTime": {
     "end_time": "2024-05-03T17:04:56.196299Z",
     "start_time": "2024-05-03T17:04:56.194425Z"
    }
   },
   "outputs": [],
   "source": [
    "y.a = '2234'"
   ]
  },
  {
   "cell_type": "code",
   "execution_count": 21,
   "id": "6aaed24016ac157d",
   "metadata": {
    "ExecuteTime": {
     "end_time": "2024-05-03T17:04:58.531578Z",
     "start_time": "2024-05-03T17:04:58.528022Z"
    }
   },
   "outputs": [
    {
     "data": {
      "text/plain": [
       "'2234'"
      ]
     },
     "execution_count": 21,
     "metadata": {},
     "output_type": "execute_result"
    }
   ],
   "source": [
    "y.a"
   ]
  },
  {
   "cell_type": "code",
   "execution_count": null,
   "id": "ee5cb61beedf9fbe",
   "metadata": {},
   "outputs": [],
   "source": []
  }
 ],
 "metadata": {
  "kernelspec": {
   "display_name": "Python 3 (ipykernel)",
   "language": "python",
   "name": "python3"
  },
  "language_info": {
   "codemirror_mode": {
    "name": "ipython",
    "version": 3
   },
   "file_extension": ".py",
   "mimetype": "text/x-python",
   "name": "python",
   "nbconvert_exporter": "python",
   "pygments_lexer": "ipython3",
   "version": "3.10.13"
  }
 },
 "nbformat": 4,
 "nbformat_minor": 5
}
