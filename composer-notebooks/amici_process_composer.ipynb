{
 "cells": [
  {
   "cell_type": "code",
   "execution_count": 1,
   "id": "bb262c90b116dc5d",
   "metadata": {
    "ExecuteTime": {
     "end_time": "2024-05-03T23:53:50.548760Z",
     "start_time": "2024-05-03T23:53:46.818274Z"
    },
    "collapsed": false
   },
   "outputs": [],
   "source": [
    "import sys\n",
    "\n",
    "sys.path.insert(0, '..')\n",
    "\n",
    "import os\n",
    "import requests\n",
    "import json\n",
    "from tempfile import mkdtemp\n",
    "import libsbml\n",
    "import amici\n",
    "import os\n",
    "from biosimulator_processes.utils import prepare_single_ode_process_document\n",
    "from biosimulator_processes.data_model.compare_data_model import ODEComparisonDocument, DocumentFactory\n",
    "from biosimulator_processes import CORE\n",
    "from process_bigraph import Composite, pp"
   ]
  },
  {
   "cell_type": "code",
   "execution_count": 3,
   "id": "d9a30637052900a1",
   "metadata": {
    "ExecuteTime": {
     "end_time": "2024-05-03T23:53:53.342107Z",
     "start_time": "2024-05-03T23:53:53.334331Z"
    },
    "collapsed": false
   },
   "outputs": [],
   "source": [
    "#### Step 1: Define the document to be read by the Composite, which is implemented by the Process.\n",
    "biomodel_id = 'BIOMD0000000630'\n",
    "model_fp = f'../biosimulator_processes/model_files/sbml/{biomodel_id}_url.xml'\n",
    "species_context = 'concentrations'\n",
    "species_port_name = f'floating_species_{species_context}'\n",
    "species_store = [f'floating_species_{species_context}_store']\n",
    "duration = 30\n",
    "\n",
    "comparison_document = ODEComparisonDocument(\n",
    "    simulators=['copasi', 'amici'],\n",
    "    duration=20,\n",
    "    num_steps=32,\n",
    "    model_filepath=model_fp)\n",
    "\n",
    "comparison_document.composite"
   ]
  },
  {
   "cell_type": "code",
   "execution_count": 3,
   "id": "805cea07eb6c8433",
   "metadata": {
    "ExecuteTime": {
     "end_time": "2024-05-03T23:22:51.465715Z",
     "start_time": "2024-05-03T23:22:33.990631Z"
    },
    "collapsed": false
   },
   "outputs": [],
   "source": [
    "# Amici Model from compiled module\n",
    "sbml_importer = amici.SbmlImporter(model_fp)\n",
    "model_name = biomodel_id\n",
    "model_dir = \"./model_dir\"\n",
    "if not os.path.exists(model_dir):\n",
    "    os.mkdir(model_dir)\n",
    "\n",
    "sbml_importer.sbml2amici(model_name, model_dir)\n",
    "# load the model module\n",
    "model_module = amici.import_model_module(model_name, model_dir)\n",
    "# instantiate model\n",
    "compiled_model = model_module.getModel()\n",
    "# instantiate solver\n",
    "method = compiled_model.getSolver()"
   ]
  },
  {
   "cell_type": "code",
   "execution_count": 4,
   "id": "dfb5655df610ddc6",
   "metadata": {
    "ExecuteTime": {
     "end_time": "2024-05-03T21:47:58.601844Z",
     "start_time": "2024-05-03T21:47:58.599946Z"
    },
    "collapsed": false
   },
   "outputs": [],
   "source": [
    "# From load sbml model module \n",
    "sbml_reader = libsbml.SBMLReader()\n",
    "sbml_doc = sbml_reader.readSBML(model_fp)\n",
    "sbml_model = sbml_doc.getModel()\n",
    "species_objects_list = sbml_model.getListOfSpecies()\n",
    "floating_species_list = [s.getId() for s in species_objects_list]\n",
    "floating_species_initial = dict(zip(floating_species_list, [s.getInitialConcentration() for s in species_objects_list]))"
   ]
  },
  {
   "cell_type": "code",
   "execution_count": 24,
   "id": "48a0cdbb6ca6a7bd",
   "metadata": {
    "ExecuteTime": {
     "end_time": "2024-05-03T19:06:37.447558Z",
     "start_time": "2024-05-03T19:06:37.423225Z"
    },
    "collapsed": false
   },
   "outputs": [],
   "source": [
    "for s in species_objects_list:\n",
    "    print(s.getInitialAmount())"
   ]
  },
  {
   "cell_type": "code",
   "execution_count": 19,
   "id": "8125d183e8bb2669",
   "metadata": {
    "ExecuteTime": {
     "end_time": "2024-05-03T18:56:53.448069Z",
     "start_time": "2024-05-03T18:56:53.439183Z"
    },
    "collapsed": false
   },
   "outputs": [],
   "source": [
    "[s.getId() for s in species_objects_list]"
   ]
  },
  {
   "cell_type": "code",
   "execution_count": 18,
   "id": "4ee2dee1553a652b",
   "metadata": {
    "ExecuteTime": {
     "end_time": "2024-05-03T18:56:12.937501Z",
     "start_time": "2024-05-03T18:56:12.928144Z"
    },
    "collapsed": false
   },
   "outputs": [],
   "source": [
    "floating_species_initial"
   ]
  },
  {
   "cell_type": "code",
   "execution_count": 12,
   "id": "539b9a949984514c",
   "metadata": {
    "ExecuteTime": {
     "end_time": "2024-05-03T18:55:19.850972Z",
     "start_time": "2024-05-03T18:55:19.825867Z"
    },
    "collapsed": false
   },
   "outputs": [],
   "source": [
    "dict(zip(floating_species_list, [s.getInitialConcentration() for s in species_objects_list]))"
   ]
  },
  {
   "cell_type": "code",
   "execution_count": 4,
   "id": "b25cff91d01761da",
   "metadata": {
    "ExecuteTime": {
     "end_time": "2024-05-03T18:52:55.587491Z",
     "start_time": "2024-05-03T18:52:55.561926Z"
    },
    "collapsed": false
   },
   "outputs": [],
   "source": [
    "floating_species_initial"
   ]
  },
  {
   "cell_type": "code",
   "execution_count": 18,
   "id": "acb196b51a61ced4",
   "metadata": {
    "ExecuteTime": {
     "end_time": "2024-05-03T18:48:29.911410Z",
     "start_time": "2024-05-03T18:48:29.854873Z"
    },
    "collapsed": false
   },
   "outputs": [],
   "source": [
    "species_objects_list = sbml_model.getListOfSpecies()"
   ]
  },
  {
   "cell_type": "code",
   "execution_count": 23,
   "id": "c8f65af5abb5de6e",
   "metadata": {
    "ExecuteTime": {
     "end_time": "2024-05-03T18:50:23.014505Z",
     "start_time": "2024-05-03T18:50:23.009279Z"
    },
    "collapsed": false
   },
   "outputs": [],
   "source": [
    "for i, s in enumerate(species_objects_list):\n",
    "    print(s.getId())\n",
    "    print(i, s.getInitialConcentration())"
   ]
  },
  {
   "cell_type": "code",
   "execution_count": 25,
   "id": "2b2dd4c9721c5471",
   "metadata": {
    "ExecuteTime": {
     "end_time": "2024-05-03T19:08:19.760041Z",
     "start_time": "2024-05-03T19:08:19.472080Z"
    },
    "collapsed": false
   },
   "outputs": [],
   "source": [
    "dir(model)"
   ]
  },
  {
   "cell_type": "code",
   "execution_count": 26,
   "id": "9cd19fe6bd84b86f",
   "metadata": {
    "ExecuteTime": {
     "end_time": "2024-05-03T19:08:29.429593Z",
     "start_time": "2024-05-03T19:08:29.389402Z"
    },
    "collapsed": false
   },
   "outputs": [],
   "source": [
    "model.getParameters()"
   ]
  },
  {
   "cell_type": "code",
   "execution_count": 27,
   "id": "90c9ded770c7958",
   "metadata": {
    "ExecuteTime": {
     "end_time": "2024-05-03T19:08:38.470138Z",
     "start_time": "2024-05-03T19:08:38.438239Z"
    },
    "collapsed": false
   },
   "outputs": [],
   "source": [
    "model.getParameterList()"
   ]
  },
  {
   "cell_type": "code",
   "execution_count": 28,
   "id": "5012c0188dd43fab",
   "metadata": {
    "ExecuteTime": {
     "end_time": "2024-05-03T19:08:50.525626Z",
     "start_time": "2024-05-03T19:08:50.485913Z"
    },
    "collapsed": false
   },
   "outputs": [],
   "source": [
    "model.getParameterIds()"
   ]
  },
  {
   "cell_type": "code",
   "execution_count": null,
   "id": "3c9997ab4999912b",
   "metadata": {
    "collapsed": false
   },
   "outputs": [],
   "source": [
    "model_parameters_list = model.getP"
   ]
  },
  {
   "cell_type": "code",
   "execution_count": 29,
   "id": "3b06fd629c36c4",
   "metadata": {
    "ExecuteTime": {
     "end_time": "2024-05-03T19:09:32.631805Z",
     "start_time": "2024-05-03T19:09:32.597441Z"
    },
    "collapsed": false
   },
   "outputs": [],
   "source": [
    "dir(sbml_model)"
   ]
  },
  {
   "cell_type": "code",
   "execution_count": 36,
   "id": "4809419cda37489d",
   "metadata": {
    "ExecuteTime": {
     "end_time": "2024-05-03T19:13:27.757355Z",
     "start_time": "2024-05-03T19:13:27.746469Z"
    },
    "collapsed": false
   },
   "outputs": [],
   "source": [
    "model_parameter_objects = sbml_model.getListOfParameters()"
   ]
  },
  {
   "cell_type": "code",
   "execution_count": 37,
   "id": "b894d5eaede8618a",
   "metadata": {
    "ExecuteTime": {
     "end_time": "2024-05-03T19:13:28.376159Z",
     "start_time": "2024-05-03T19:13:28.362537Z"
    },
    "collapsed": false
   },
   "outputs": [],
   "source": [
    "model_parameter_objects"
   ]
  },
  {
   "cell_type": "code",
   "execution_count": 38,
   "id": "e97db8af52fe0009",
   "metadata": {
    "ExecuteTime": {
     "end_time": "2024-05-03T19:13:34.234305Z",
     "start_time": "2024-05-03T19:13:34.224870Z"
    },
    "collapsed": false
   },
   "outputs": [],
   "source": [
    "for m in model_parameter_objects:\n",
    "    print(dir(m))\n",
    "    print(m.getValue())\n",
    "    print(m.getName())"
   ]
  },
  {
   "cell_type": "code",
   "execution_count": null,
   "id": "3cafce19b29c528e",
   "metadata": {
    "collapsed": false
   },
   "outputs": [],
   "source": [
    "model_parameter_objects = sbml_model.getListOfParameters()\n",
    "model_parameters_list = [param.getName() for param in model_parameter_objects]\n",
    "model_parameters_values = [param.getValue() for param in model_parameter_objects]"
   ]
  },
  {
   "cell_type": "code",
   "execution_count": 39,
   "id": "8402c0d763be61b7",
   "metadata": {
    "ExecuteTime": {
     "end_time": "2024-05-03T19:17:10.349346Z",
     "start_time": "2024-05-03T19:17:10.310003Z"
    },
    "collapsed": false
   },
   "outputs": [],
   "source": [
    "dir(sbml_model)"
   ]
  },
  {
   "cell_type": "code",
   "execution_count": 50,
   "id": "7bbc34d43e00e3f3",
   "metadata": {
    "ExecuteTime": {
     "end_time": "2024-05-03T19:23:17.142713Z",
     "start_time": "2024-05-03T19:23:17.125483Z"
    },
    "collapsed": false
   },
   "outputs": [],
   "source": [
    "reaction_objects = sbml_model.reactions\n",
    "reaction_list = [reaction.getName() for reaction in reaction_objects]\n",
    "\n",
    "reaction_list"
   ]
  },
  {
   "cell_type": "code",
   "execution_count": 45,
   "id": "9d681d8a025d8470",
   "metadata": {
    "ExecuteTime": {
     "end_time": "2024-05-03T19:20:04.853940Z",
     "start_time": "2024-05-03T19:20:04.833097Z"
    },
    "collapsed": false
   },
   "outputs": [],
   "source": [
    "dir(reaction_objects[0])"
   ]
  },
  {
   "cell_type": "code",
   "execution_count": 49,
   "id": "9192ee2293afe983",
   "metadata": {
    "ExecuteTime": {
     "end_time": "2024-05-03T19:22:35.598462Z",
     "start_time": "2024-05-03T19:22:35.540298Z"
    },
    "collapsed": false
   },
   "outputs": [],
   "source": [
    "reaction_objects[0].getProduct()"
   ]
  },
  {
   "cell_type": "code",
   "execution_count": 8,
   "id": "c74a7b2c264ae9c4",
   "metadata": {
    "ExecuteTime": {
     "end_time": "2024-05-03T21:50:49.720391Z",
     "start_time": "2024-05-03T21:50:49.673946Z"
    },
    "collapsed": false
   },
   "outputs": [],
   "source": [
    "dir(sbml_model)"
   ]
  },
  {
   "cell_type": "code",
   "execution_count": 4,
   "id": "30922257c0464a58",
   "metadata": {
    "ExecuteTime": {
     "end_time": "2024-05-03T23:26:17.859028Z",
     "start_time": "2024-05-03T23:26:17.850525Z"
    },
    "collapsed": false
   },
   "outputs": [],
   "source": [
    "from biosimulator_processes.processes.amici_process import AmiciProcess\n",
    "\n",
    "simulator_to_use = 'amici'\n",
    "process_id = 'simple_' + simulator_to_use\n",
    "amici_process_document = prepare_single_ode_process_document(\n",
    "    process_id=process_id,\n",
    "    simulator_name=simulator_to_use,\n",
    "    sbml_model_fp=model_fp)\n",
    "\n",
    "amici_process_document"
   ]
  },
  {
   "cell_type": "code",
   "execution_count": 5,
   "id": "17c9dbaf558104f9",
   "metadata": {
    "ExecuteTime": {
     "end_time": "2024-05-03T23:26:29.189497Z",
     "start_time": "2024-05-03T23:26:29.163427Z"
    },
    "collapsed": false
   },
   "outputs": [],
   "source": [
    "amici_process_config = amici_process_document[process_id]['config']"
   ]
  },
  {
   "cell_type": "code",
   "execution_count": 6,
   "id": "5378878752b91367",
   "metadata": {
    "ExecuteTime": {
     "end_time": "2024-05-03T23:26:33.011215Z",
     "start_time": "2024-05-03T23:26:32.985412Z"
    },
    "collapsed": false
   },
   "outputs": [],
   "source": [
    "amici_process_config"
   ]
  },
  {
   "cell_type": "code",
   "execution_count": 7,
   "id": "bdd28fc3edc3de",
   "metadata": {
    "ExecuteTime": {
     "end_time": "2024-05-03T23:27:37.008645Z",
     "start_time": "2024-05-03T23:27:36.904609Z"
    },
    "collapsed": false
   },
   "outputs": [],
   "source": [
    "amici_workflow = Composite(\n",
    "    config={'state': amici_process_document},\n",
    "    core=CORE)"
   ]
  },
  {
   "cell_type": "code",
   "execution_count": 13,
   "id": "b8e2fad5058d741d",
   "metadata": {
    "ExecuteTime": {
     "end_time": "2024-05-03T23:28:51.035180Z",
     "start_time": "2024-05-03T23:28:51.020817Z"
    },
    "collapsed": false
   },
   "outputs": [],
   "source": [
    "amici_process: AmiciProcess = amici_workflow.state[process_id]['instance']"
   ]
  },
  {
   "cell_type": "code",
   "execution_count": 14,
   "id": "581da83d5f6bf788",
   "metadata": {
    "ExecuteTime": {
     "end_time": "2024-05-03T23:28:55.194142Z",
     "start_time": "2024-05-03T23:28:55.173652Z"
    },
    "collapsed": false
   },
   "outputs": [],
   "source": [
    "amici_process.initial_state()"
   ]
  },
  {
   "cell_type": "code",
   "execution_count": 15,
   "id": "b803b3931f9c3ef8",
   "metadata": {
    "ExecuteTime": {
     "end_time": "2024-05-03T23:36:16.476825Z",
     "start_time": "2024-05-03T23:36:16.437926Z"
    },
    "collapsed": false
   },
   "outputs": [],
   "source": [
    "amici_process.reaction_list"
   ]
  },
  {
   "cell_type": "code",
   "execution_count": 26,
   "id": "a6e139abf0e14fc",
   "metadata": {
    "ExecuteTime": {
     "end_time": "2024-05-03T23:39:00.148258Z",
     "start_time": "2024-05-03T23:39:00.144051Z"
    },
    "collapsed": false
   },
   "outputs": [],
   "source": [
    "amici_process.initial_state()"
   ]
  },
  {
   "cell_type": "code",
   "execution_count": 23,
   "id": "e5a3da394b146ab3",
   "metadata": {
    "ExecuteTime": {
     "end_time": "2024-05-03T23:38:09.184771Z",
     "start_time": "2024-05-03T23:38:09.121189Z"
    },
    "collapsed": false
   },
   "outputs": [],
   "source": [
    "# Let's compare that against copasi process\n",
    "from biosimulator_processes.processes.copasi_process import CopasiProcess\n",
    "\n",
    "\n",
    "copasi_process: CopasiProcess = CopasiProcess(\n",
    "    config=comparison_document.composite['copasi_0']['config'])"
   ]
  },
  {
   "cell_type": "code",
   "execution_count": 32,
   "id": "3c1342e968d1ffbe",
   "metadata": {
    "ExecuteTime": {
     "end_time": "2024-05-03T23:40:10.711087Z",
     "start_time": "2024-05-03T23:40:10.694215Z"
    },
    "collapsed": false
   },
   "outputs": [],
   "source": [
    "copasi_process.outputs() == amici_process.outputs()"
   ]
  },
  {
   "cell_type": "code",
   "execution_count": 33,
   "id": "77eac97eb3c4d60f",
   "metadata": {
    "ExecuteTime": {
     "end_time": "2024-05-03T23:40:35.104747Z",
     "start_time": "2024-05-03T23:40:35.088525Z"
    },
    "collapsed": false
   },
   "outputs": [],
   "source": [
    "amici_process.initial_state() == copasi_process.initial_state()"
   ]
  },
  {
   "cell_type": "code",
   "execution_count": 34,
   "id": "5a56775a9f209a33",
   "metadata": {
    "ExecuteTime": {
     "end_time": "2024-05-03T23:40:47.460840Z",
     "start_time": "2024-05-03T23:40:47.451818Z"
    },
    "collapsed": false
   },
   "outputs": [],
   "source": [
    "copasi_process.reaction_list == amici_process.reaction_list"
   ]
  },
  {
   "cell_type": "code",
   "execution_count": null,
   "id": "8242e8126c264f8d",
   "metadata": {
    "collapsed": false
   },
   "outputs": [],
   "source": []
  }
 ],
 "metadata": {
  "kernelspec": {
   "display_name": "Python 3",
   "language": "python",
   "name": "python3"
  },
  "language_info": {
   "codemirror_mode": {
    "name": "ipython",
    "version": 2
   },
   "file_extension": ".py",
   "mimetype": "text/x-python",
   "name": "python",
   "nbconvert_exporter": "python",
   "pygments_lexer": "ipython2",
   "version": "2.7.6"
  }
 },
 "nbformat": 4,
 "nbformat_minor": 5
}
