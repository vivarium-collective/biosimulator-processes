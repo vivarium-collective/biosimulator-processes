{
 "cells": [
  {
   "cell_type": "code",
   "execution_count": 7,
   "id": "7531460e80182d90",
   "metadata": {
    "ExecuteTime": {
     "end_time": "2024-05-03T18:54:12.295230Z",
     "start_time": "2024-05-03T18:54:11.979446Z"
    },
    "collapsed": false
   },
   "outputs": [],
   "source": [
    "import amici\n",
    "import os "
   ]
  },
  {
   "cell_type": "code",
   "execution_count": 8,
   "id": "5c0e8c6a275b1176",
   "metadata": {
    "ExecuteTime": {
     "end_time": "2024-05-03T18:54:39.489069Z",
     "start_time": "2024-05-03T18:54:19.349629Z"
    },
    "collapsed": false
   },
   "outputs": [],
   "source": [
    "biomodel_id = 'BIOMD0000000630'\n",
    "model_fp = f'../biosimulator_processes/model_files/sbml/{biomodel_id}_url.xml'\n",
    "sbml_importer = amici.SbmlImporter(model_fp)\n",
    "model_name = biomodel_id\n",
    "model_dir = \"model_dir\"\n",
    "sbml_importer.sbml2amici(model_name, model_dir)\n",
    "# load the model module\n",
    "model_module = amici.import_model_module(model_name, model_dir)\n",
    "# instantiate model\n",
    "model = model_module.getModel()\n",
    "# instantiate solver\n",
    "method = model.getSolver()"
   ]
  },
  {
   "cell_type": "code",
   "execution_count": 9,
   "id": "64aabc9ee6395a35",
   "metadata": {
    "ExecuteTime": {
     "end_time": "2024-05-03T18:54:39.493801Z",
     "start_time": "2024-05-03T18:54:39.490335Z"
    },
    "collapsed": false
   },
   "outputs": [
    {
     "data": {
      "text/plain": [
       "['plasminogen',\n",
       " 'plasmin',\n",
       " 'single intact chain urokinase-type plasminogen activator',\n",
       " 'two-chain urokinase-type plasminogen activator',\n",
       " 'x',\n",
       " 'x-plasmin']"
      ]
     },
     "execution_count": 9,
     "metadata": {},
     "output_type": "execute_result"
    }
   ],
   "source": [
    "floating_species_list = list(model.getStateNames())\n",
    "\n",
    "floating_species_list"
   ]
  },
  {
   "cell_type": "code",
   "execution_count": 3,
   "id": "7571b908a0bf4db5",
   "metadata": {
    "ExecuteTime": {
     "end_time": "2024-05-03T18:40:28.167010Z",
     "start_time": "2024-05-03T18:40:28.159605Z"
    },
    "collapsed": false
   },
   "outputs": [
    {
     "data": {
      "text/plain": [
       "('degradation constant 1',\n",
       " 'degradation constant 2',\n",
       " 'hill cooperativity',\n",
       " 'k1',\n",
       " 'parameter_8',\n",
       " 'k1',\n",
       " 'k2',\n",
       " 'k1',\n",
       " 'k1',\n",
       " 'v',\n",
       " 'v',\n",
       " 'v')"
      ]
     },
     "execution_count": 3,
     "metadata": {},
     "output_type": "execute_result"
    }
   ],
   "source": [
    "# get/set parameter:\n",
    "\n",
    "model.getParameterNames()"
   ]
  },
  {
   "cell_type": "code",
   "execution_count": 6,
   "id": "7c823d0da2385192",
   "metadata": {
    "ExecuteTime": {
     "end_time": "2024-05-03T18:41:02.571671Z",
     "start_time": "2024-05-03T18:41:02.559073Z"
    },
    "collapsed": false
   },
   "outputs": [
    {
     "data": {
      "text/plain": [
       "['plasminogen',\n",
       " 'plasmin',\n",
       " 'single intact chain urokinase-type plasminogen activator',\n",
       " 'two-chain urokinase-type plasminogen activator',\n",
       " 'x',\n",
       " 'x-plasmin']"
      ]
     },
     "execution_count": 6,
     "metadata": {},
     "output_type": "execute_result"
    }
   ],
   "source": [
    "floating_species_list"
   ]
  },
  {
   "cell_type": "code",
   "execution_count": 19,
   "id": "743dcd387e07c0e1",
   "metadata": {
    "ExecuteTime": {
     "end_time": "2024-05-02T01:21:14.199545Z",
     "start_time": "2024-05-02T01:21:14.188941Z"
    },
    "collapsed": false
   },
   "outputs": [],
   "source": [
    "# set timepoints\n",
    "model.setTimepoints([0, 1])"
   ]
  },
  {
   "cell_type": "code",
   "execution_count": 20,
   "id": "fbdfccafa5fb8bd8",
   "metadata": {
    "ExecuteTime": {
     "end_time": "2024-05-02T01:21:15.535366Z",
     "start_time": "2024-05-02T01:21:15.524897Z"
    },
    "collapsed": false
   },
   "outputs": [],
   "source": [
    "rdata = amici.runAmiciSimulation(model, method)"
   ]
  },
  {
   "cell_type": "code",
   "execution_count": 21,
   "id": "5643c0929dfe0fce",
   "metadata": {
    "ExecuteTime": {
     "end_time": "2024-05-02T01:21:16.263968Z",
     "start_time": "2024-05-02T01:21:16.257623Z"
    },
    "collapsed": false
   },
   "outputs": [
    {
     "data": {
      "text/plain": [
       "array([[1.00000000e-02, 0.00000000e+00, 2.00000000e-03, 0.00000000e+00,\n",
       "        0.00000000e+00, 0.00000000e+00],\n",
       "       [1.95249026e-02, 1.82020113e-06, 4.90814799e-03, 1.32035442e-13,\n",
       "        0.00000000e+00, 0.00000000e+00]])"
      ]
     },
     "execution_count": 21,
     "metadata": {},
     "output_type": "execute_result"
    }
   ],
   "source": [
    "rdata.x"
   ]
  },
  {
   "cell_type": "code",
   "execution_count": null,
   "id": "initial_id",
   "metadata": {
    "collapsed": true
   },
   "outputs": [],
   "source": [
    "model.getStateNames()"
   ]
  },
  {
   "cell_type": "code",
   "execution_count": 22,
   "id": "dcd503a59d39081",
   "metadata": {
    "ExecuteTime": {
     "end_time": "2024-05-02T01:24:10.217535Z",
     "start_time": "2024-05-02T01:24:10.208635Z"
    },
    "collapsed": false
   },
   "outputs": [
    {
     "data": {
      "text/plain": [
       "['__bool__',\n",
       " '__class__',\n",
       " '__deepcopy__',\n",
       " '__delattr__',\n",
       " '__deref__',\n",
       " '__dict__',\n",
       " '__dir__',\n",
       " '__doc__',\n",
       " '__eq__',\n",
       " '__format__',\n",
       " '__ge__',\n",
       " '__getattribute__',\n",
       " '__gt__',\n",
       " '__hash__',\n",
       " '__init__',\n",
       " '__init_subclass__',\n",
       " '__le__',\n",
       " '__lt__',\n",
       " '__module__',\n",
       " '__ne__',\n",
       " '__new__',\n",
       " '__nonzero__',\n",
       " '__reduce__',\n",
       " '__reduce_ex__',\n",
       " '__repr__',\n",
       " '__setattr__',\n",
       " '__sizeof__',\n",
       " '__str__',\n",
       " '__subclasshook__',\n",
       " '__swig_destroy__',\n",
       " '__weakref__',\n",
       " 'clone',\n",
       " 'computingASA',\n",
       " 'computingFSA',\n",
       " 'get',\n",
       " 'getAbsoluteTolerance',\n",
       " 'getAbsoluteToleranceB',\n",
       " 'getAbsoluteToleranceFSA',\n",
       " 'getAbsoluteToleranceQuadratures',\n",
       " 'getAbsoluteToleranceSteadyState',\n",
       " 'getAbsoluteToleranceSteadyStateSensi',\n",
       " 'getConstraints',\n",
       " 'getInternalSensitivityMethod',\n",
       " 'getInterpolationType',\n",
       " 'getLinearMultistepMethod',\n",
       " 'getLinearSolver',\n",
       " 'getMaxConvFails',\n",
       " 'getMaxNonlinIters',\n",
       " 'getMaxStepSize',\n",
       " 'getMaxSteps',\n",
       " 'getMaxStepsBackwardProblem',\n",
       " 'getMaxTime',\n",
       " 'getNewtonDampingFactorLowerBound',\n",
       " 'getNewtonDampingFactorMode',\n",
       " 'getNewtonMaxSteps',\n",
       " 'getNewtonStepSteadyStateCheck',\n",
       " 'getNonlinearSolverIteration',\n",
       " 'getRelativeTolerance',\n",
       " 'getRelativeToleranceB',\n",
       " 'getRelativeToleranceFSA',\n",
       " 'getRelativeToleranceQuadratures',\n",
       " 'getRelativeToleranceSteadyState',\n",
       " 'getRelativeToleranceSteadyStateSensi',\n",
       " 'getReturnDataReportingMode',\n",
       " 'getSensiSteadyStateCheck',\n",
       " 'getSensitivityMethod',\n",
       " 'getSensitivityMethodPreequilibration',\n",
       " 'getSensitivityOrder',\n",
       " 'getStabilityLimitFlag',\n",
       " 'getStateOrdering',\n",
       " 'getSteadyStateSensiToleranceFactor',\n",
       " 'getSteadyStateToleranceFactor',\n",
       " 'logger',\n",
       " 'nplist',\n",
       " 'nquad',\n",
       " 'nx',\n",
       " 'release',\n",
       " 'reset',\n",
       " 'setAbsoluteTolerance',\n",
       " 'setAbsoluteToleranceB',\n",
       " 'setAbsoluteToleranceFSA',\n",
       " 'setAbsoluteToleranceQuadratures',\n",
       " 'setAbsoluteToleranceSteadyState',\n",
       " 'setAbsoluteToleranceSteadyStateSensi',\n",
       " 'setConstraints',\n",
       " 'setInternalSensitivityMethod',\n",
       " 'setInterpolationType',\n",
       " 'setLinearMultistepMethod',\n",
       " 'setLinearSolver',\n",
       " 'setMaxConvFails',\n",
       " 'setMaxNonlinIters',\n",
       " 'setMaxStepSize',\n",
       " 'setMaxSteps',\n",
       " 'setMaxStepsBackwardProblem',\n",
       " 'setMaxTime',\n",
       " 'setNewtonDampingFactorLowerBound',\n",
       " 'setNewtonDampingFactorMode',\n",
       " 'setNewtonMaxSteps',\n",
       " 'setNewtonStepSteadyStateCheck',\n",
       " 'setNonlinearSolverIteration',\n",
       " 'setRelativeTolerance',\n",
       " 'setRelativeToleranceB',\n",
       " 'setRelativeToleranceFSA',\n",
       " 'setRelativeToleranceQuadratures',\n",
       " 'setRelativeToleranceSteadyState',\n",
       " 'setRelativeToleranceSteadyStateSensi',\n",
       " 'setReturnDataReportingMode',\n",
       " 'setSensiSteadyStateCheck',\n",
       " 'setSensitivityMethod',\n",
       " 'setSensitivityMethodPreequilibration',\n",
       " 'setSensitivityOrder',\n",
       " 'setStabilityLimitFlag',\n",
       " 'setStateOrdering',\n",
       " 'setSteadyStateSensiToleranceFactor',\n",
       " 'setSteadyStateToleranceFactor',\n",
       " 'swap',\n",
       " 'this',\n",
       " 'thisown']"
      ]
     },
     "execution_count": 22,
     "metadata": {},
     "output_type": "execute_result"
    }
   ],
   "source": [
    "dir(solver)"
   ]
  },
  {
   "cell_type": "code",
   "execution_count": 23,
   "id": "84d1596c8a58adaf",
   "metadata": {
    "ExecuteTime": {
     "end_time": "2024-05-02T01:24:59.001662Z",
     "start_time": "2024-05-02T01:24:58.981031Z"
    },
    "collapsed": false
   },
   "outputs": [
    {
     "data": {
      "text/plain": [
       "<Swig Object of type 'std::unique_ptr< amici::Solver > *' at 0x11df02a30\n",
       "  reporting_mode: <RDataReporting.full: 0>\n",
       "  sens_meth: <SensitivityMethod.forward: 1>\n",
       "  sens_order: <SensitivityOrder.none: 0>\n",
       "  sens_meth_preeq: <SensitivityMethod.forward: 1>\n",
       "  maxsteps: 10000\n",
       "  maxtime: 0.0s\n",
       "  abs_tol: 1e-16\n",
       "  rel_tol: 1e-08\n",
       "  abs_tol_b: 1e-16\n",
       "  rel_tol_b: 1e-08\n",
       "  abs_tol_fsa: 1e-16\n",
       "  rel_tol_fsa: 1e-08\n",
       "  abs_tol_quad: 1e-12\n",
       "  rel_tol_quad: 1e-08\n",
       "  abs_tol_ss: 1e-14\n",
       "  rel_tol_ss: 1e-06\n",
       "  abs_tol_sss: 1e-14\n",
       "  rel_tol_sss: 1e-06\n",
       "  int_sens_meth: <InternalSensitivityMethod.simultaneous: 1>\n",
       "  int_type: <InterpolationType.polynomial: 2>\n",
       "  linsol: <LinearSolver.KLU: 9>\n",
       "  lmm: <LinearMultistepMethod.BDF: 2>\n",
       "  newton_damp_mode: <NewtonDampingFactorMode.on: 1>\n",
       "  newton_damp_lb: 1e-08\n",
       "  newton_maxsteps: 0\n",
       "  newton_ss_check: False\n",
       "  sens_ss_check: True\n",
       "  interpolation_type: <InterpolationType.polynomial: 2>\n",
       "  ism: <InternalSensitivityMethod.simultaneous: 1>\n",
       "  nlsol_iter: <NonlinearSolverIteration.newton: 2>\n",
       "  stability_limit: True\n",
       "  state_ordering: 0\n",
       ">"
      ]
     },
     "execution_count": 23,
     "metadata": {},
     "output_type": "execute_result"
    }
   ],
   "source": [
    "solver"
   ]
  },
  {
   "cell_type": "code",
   "execution_count": null,
   "id": "c2d361e2c9dcd6d6",
   "metadata": {
    "collapsed": false
   },
   "outputs": [],
   "source": []
  },
  {
   "cell_type": "code",
   "execution_count": 1,
   "id": "bb262c90b116dc5d",
   "metadata": {
    "ExecuteTime": {
     "end_time": "2024-05-03T18:52:47.321501Z",
     "start_time": "2024-05-03T18:52:43.480218Z"
    }
   },
   "outputs": [
    {
     "name": "stdout",
     "output_type": "stream",
     "text": [
      "CobraProcess registered successfully.\n",
      "CopasiProcess registered successfully.\n",
      "SmoldynProcess not available. Error: \n",
      "PLEASE NOTE: Smoldyn is not correctly installed on your system which prevents you from using the SmoldynProcess. Please refer to the README for further information on installing Smoldyn.\n",
      "TelluriumProcess registered successfully.\n"
     ]
    }
   ],
   "source": [
    "import sys\n",
    "\n",
    "sys.path.insert(0, '..')\n",
    "\n",
    "import os\n",
    "import requests\n",
    "import json\n",
    "from biosimulator_processes.utils import prepare_single_ode_process_document\n",
    "from biosimulator_processes.data_model.compare_data_model import ComparisonDocument, DocumentFactory\n",
    "from biosimulator_processes import CORE\n",
    "from process_bigraph import Composite, pp"
   ]
  },
  {
   "cell_type": "code",
   "execution_count": 2,
   "id": "d9a30637052900a1",
   "metadata": {
    "ExecuteTime": {
     "end_time": "2024-05-03T18:52:47.324031Z",
     "start_time": "2024-05-03T18:52:47.320138Z"
    }
   },
   "outputs": [
    {
     "data": {
      "text/plain": [
       "{'copasi_0': {'_type': 'process',\n",
       "  'address': 'local:copasi',\n",
       "  'config': {'model': {'model_source': '../biosimulator_processes/model_files/sbml/BIOMD0000000630_url.xml'}},\n",
       "  'inputs': {'floating_species_concentrations': ['floating_species_concentrations_store'],\n",
       "   'model_parameters': ['model_parameters_store'],\n",
       "   'time': ['time_store'],\n",
       "   'reactions': ['reactions_store']},\n",
       "  'outputs': {'floating_species_concentrations': ['floating_species_concentrations_store'],\n",
       "   'time': ['time_store']}},\n",
       " 'amici_1': {'_type': 'process',\n",
       "  'address': 'local:amici',\n",
       "  'config': {'model': {'model_source': '../biosimulator_processes/model_files/sbml/BIOMD0000000630_url.xml'}},\n",
       "  'inputs': {'floating_species_concentrations': ['floating_species_concentrations_store'],\n",
       "   'model_parameters': ['model_parameters_store'],\n",
       "   'time': ['time_store'],\n",
       "   'reactions': ['reactions_store']},\n",
       "  'outputs': {'floating_species_concentrations': ['floating_species_concentrations_store'],\n",
       "   'time': ['time_store']}},\n",
       " 'emitter': {'_type': 'step',\n",
       "  'address': 'local:ram-emitter',\n",
       "  'config': {'emit': {'floating_species_concentrations': 'tree[float]',\n",
       "    'time': 'float'}},\n",
       "  'inputs': {'floating_species_concentrations': ['floating_species_concentrations_store'],\n",
       "   'time': ['time_store']}}}"
      ]
     },
     "execution_count": 2,
     "metadata": {},
     "output_type": "execute_result"
    }
   ],
   "source": [
    "#### Step 1: Define the document to be read by the Composite, which is implemented by the Process.\n",
    "biomodel_id = 'BIOMD0000000630'\n",
    "model_fp = f'../biosimulator_processes/model_files/sbml/{biomodel_id}_url.xml'\n",
    "species_context = 'concentrations'\n",
    "species_port_name = f'floating_species_{species_context}'\n",
    "species_store = [f'floating_species_{species_context}_store']\n",
    "duration = 30\n",
    "\n",
    "comparison_document = ComparisonDocument(\n",
    "    simulators=['copasi', 'amici'],\n",
    "    duration=20,\n",
    "    num_steps=32,\n",
    "    model_filepath=model_fp)\n",
    "\n",
    "comparison_document.composite"
   ]
  },
  {
   "cell_type": "code",
   "execution_count": 6,
   "id": "535b48c50d1e5419",
   "metadata": {
    "ExecuteTime": {
     "end_time": "2024-05-03T17:53:55.889943Z",
     "start_time": "2024-05-03T17:53:55.810977Z"
    }
   },
   "outputs": [
    {
     "ename": "AttributeError",
     "evalue": "'str' object has no attribute 'isSetInitialConcentration'",
     "output_type": "error",
     "traceback": [
      "\u001b[0;31m---------------------------------------------------------------------------\u001b[0m",
      "\u001b[0;31mAttributeError\u001b[0m                            Traceback (most recent call last)",
      "Cell \u001b[0;32mIn[6], line 2\u001b[0m\n\u001b[1;32m      1\u001b[0m \u001b[38;5;28;01mfrom\u001b[39;00m \u001b[38;5;21;01mamici\u001b[39;00m\u001b[38;5;21;01m.\u001b[39;00m\u001b[38;5;21;01msbml_import\u001b[39;00m \u001b[38;5;28;01mimport\u001b[39;00m get_species_initial\n\u001b[0;32m----> 2\u001b[0m floating_species_initial \u001b[38;5;241m=\u001b[39m [get_species_initial(mol_id) \u001b[38;5;28;01mfor\u001b[39;00m mol_id \u001b[38;5;129;01min\u001b[39;00m floating_species_list]\n",
      "Cell \u001b[0;32mIn[6], line 2\u001b[0m, in \u001b[0;36m<listcomp>\u001b[0;34m(.0)\u001b[0m\n\u001b[1;32m      1\u001b[0m \u001b[38;5;28;01mfrom\u001b[39;00m \u001b[38;5;21;01mamici\u001b[39;00m\u001b[38;5;21;01m.\u001b[39;00m\u001b[38;5;21;01msbml_import\u001b[39;00m \u001b[38;5;28;01mimport\u001b[39;00m get_species_initial\n\u001b[0;32m----> 2\u001b[0m floating_species_initial \u001b[38;5;241m=\u001b[39m [\u001b[43mget_species_initial\u001b[49m\u001b[43m(\u001b[49m\u001b[43mmol_id\u001b[49m\u001b[43m)\u001b[49m \u001b[38;5;28;01mfor\u001b[39;00m mol_id \u001b[38;5;129;01min\u001b[39;00m floating_species_list]\n",
      "File \u001b[0;32m~/Library/Caches/pypoetry/virtualenvs/biosimulator-processes-ECOqdsTs-py3.10/lib/python3.10/site-packages/amici/sbml_import.py:2885\u001b[0m, in \u001b[0;36mget_species_initial\u001b[0;34m(species)\u001b[0m\n\u001b[1;32m   2875\u001b[0m \u001b[38;5;28;01mdef\u001b[39;00m \u001b[38;5;21mget_species_initial\u001b[39m(species: sbml\u001b[38;5;241m.\u001b[39mSpecies) \u001b[38;5;241m-\u001b[39m\u001b[38;5;241m>\u001b[39m sp\u001b[38;5;241m.\u001b[39mExpr:\n\u001b[1;32m   2876\u001b[0m \u001b[38;5;250m    \u001b[39m\u001b[38;5;124;03m\"\"\"\u001b[39;00m\n\u001b[1;32m   2877\u001b[0m \u001b[38;5;124;03m    Extract the initial concentration from a given species\u001b[39;00m\n\u001b[1;32m   2878\u001b[0m \n\u001b[0;32m   (...)\u001b[0m\n\u001b[1;32m   2883\u001b[0m \u001b[38;5;124;03m        initial species concentration\u001b[39;00m\n\u001b[1;32m   2884\u001b[0m \u001b[38;5;124;03m    \"\"\"\u001b[39;00m\n\u001b[0;32m-> 2885\u001b[0m     \u001b[38;5;28;01mif\u001b[39;00m \u001b[43mspecies\u001b[49m\u001b[38;5;241;43m.\u001b[39;49m\u001b[43misSetInitialConcentration\u001b[49m():\n\u001b[1;32m   2886\u001b[0m         conc \u001b[38;5;241m=\u001b[39m species\u001b[38;5;241m.\u001b[39mgetInitialConcentration()\n\u001b[1;32m   2887\u001b[0m         \u001b[38;5;28;01mif\u001b[39;00m species\u001b[38;5;241m.\u001b[39mgetHasOnlySubstanceUnits():\n",
      "\u001b[0;31mAttributeError\u001b[0m: 'str' object has no attribute 'isSetInitialConcentration'"
     ]
    }
   ],
   "source": [
    "from amici.sbml_import import get_species_initial\n",
    "floating_species_initial = [get_species_initial(mol_id) for mol_id in floating_species_list]"
   ]
  },
  {
   "cell_type": "code",
   "execution_count": 4,
   "id": "b2148ecf13614834",
   "metadata": {
    "ExecuteTime": {
     "end_time": "2024-05-03T18:40:44.843102Z",
     "start_time": "2024-05-03T18:40:44.690351Z"
    }
   },
   "outputs": [
    {
     "ename": "NameError",
     "evalue": "name 'floating_species_list' is not defined",
     "output_type": "error",
     "traceback": [
      "\u001b[0;31m---------------------------------------------------------------------------\u001b[0m",
      "\u001b[0;31mNameError\u001b[0m                                 Traceback (most recent call last)",
      "Cell \u001b[0;32mIn[4], line 1\u001b[0m\n\u001b[0;32m----> 1\u001b[0m \u001b[43mfloating_species_list\u001b[49m\n",
      "\u001b[0;31mNameError\u001b[0m: name 'floating_species_list' is not defined"
     ]
    }
   ],
   "source": [
    "floating_species_list"
   ]
  },
  {
   "cell_type": "code",
   "execution_count": 7,
   "id": "8aed91431ce6dd9a",
   "metadata": {
    "ExecuteTime": {
     "end_time": "2024-05-03T18:41:25.586397Z",
     "start_time": "2024-05-03T18:41:25.569741Z"
    },
    "collapsed": false
   },
   "outputs": [
    {
     "data": {
      "text/plain": [
       "['__bool__',\n",
       " '__class__',\n",
       " '__deepcopy__',\n",
       " '__delattr__',\n",
       " '__deref__',\n",
       " '__dict__',\n",
       " '__dir__',\n",
       " '__doc__',\n",
       " '__eq__',\n",
       " '__format__',\n",
       " '__ge__',\n",
       " '__getattribute__',\n",
       " '__gt__',\n",
       " '__hash__',\n",
       " '__init__',\n",
       " '__init_subclass__',\n",
       " '__le__',\n",
       " '__lt__',\n",
       " '__module__',\n",
       " '__ne__',\n",
       " '__new__',\n",
       " '__nonzero__',\n",
       " '__reduce__',\n",
       " '__reduce_ex__',\n",
       " '__repr__',\n",
       " '__setattr__',\n",
       " '__sizeof__',\n",
       " '__str__',\n",
       " '__subclasshook__',\n",
       " '__swig_destroy__',\n",
       " '__weakref__',\n",
       " 'clone',\n",
       " 'fdsigmaydy',\n",
       " 'fdspline_slopesdp',\n",
       " 'fdspline_valuesdp',\n",
       " 'fdtotal_cldp',\n",
       " 'fdtotal_cldx_rdata',\n",
       " 'fdx_rdatadp',\n",
       " 'fdx_rdatadtcl',\n",
       " 'fdx_rdatadx_solver',\n",
       " 'get',\n",
       " 'getAddSigmaResiduals',\n",
       " 'getAlwaysCheckFinite',\n",
       " 'getAmiciCommit',\n",
       " 'getAmiciVersion',\n",
       " 'getExpressionIds',\n",
       " 'getExpressionNames',\n",
       " 'getFixedParameterById',\n",
       " 'getFixedParameterByName',\n",
       " 'getFixedParameterIds',\n",
       " 'getFixedParameterNames',\n",
       " 'getFixedParameters',\n",
       " 'getInitialStateSensitivities',\n",
       " 'getInitialStates',\n",
       " 'getMinimumSigmaResiduals',\n",
       " 'getName',\n",
       " 'getObservableIds',\n",
       " 'getObservableNames',\n",
       " 'getObservableScaling',\n",
       " 'getParameterById',\n",
       " 'getParameterByName',\n",
       " 'getParameterIds',\n",
       " 'getParameterList',\n",
       " 'getParameterNames',\n",
       " 'getParameterScale',\n",
       " 'getParameters',\n",
       " 'getReinitializationStateIdxs',\n",
       " 'getReinitializeFixedParameterInitialStates',\n",
       " 'getSolver',\n",
       " 'getStateIds',\n",
       " 'getStateIdsSolver',\n",
       " 'getStateIsNonNegative',\n",
       " 'getStateNames',\n",
       " 'getStateNamesSolver',\n",
       " 'getSteadyStateComputationMode',\n",
       " 'getSteadyStateSensitivityMode',\n",
       " 'getTimepoint',\n",
       " 'getTimepoints',\n",
       " 'getUnscaledParameters',\n",
       " 'get_steadystate_mask',\n",
       " 'get_trigger_timepoints',\n",
       " 'hasCustomInitialStateSensitivities',\n",
       " 'hasCustomInitialStates',\n",
       " 'hasExpressionIds',\n",
       " 'hasExpressionNames',\n",
       " 'hasFixedParameterIds',\n",
       " 'hasFixedParameterNames',\n",
       " 'hasObservableIds',\n",
       " 'hasObservableNames',\n",
       " 'hasParameterIds',\n",
       " 'hasParameterNames',\n",
       " 'hasQuadraticLLH',\n",
       " 'hasStateIds',\n",
       " 'hasStateNames',\n",
       " 'idlist',\n",
       " 'initializeSplineSensitivities',\n",
       " 'initializeSplines',\n",
       " 'isFixedParameterStateReinitializationAllowed',\n",
       " 'k',\n",
       " 'lbw',\n",
       " 'logger',\n",
       " 'module',\n",
       " 'nJ',\n",
       " 'nMaxEvent',\n",
       " 'ncl',\n",
       " 'ndJydy',\n",
       " 'ndtotal_cldx_rdata',\n",
       " 'ndwdp',\n",
       " 'ndwdw',\n",
       " 'ndwdx',\n",
       " 'ndxdotdw',\n",
       " 'ndxrdatadtcl',\n",
       " 'ndxrdatadxsolver',\n",
       " 'ne',\n",
       " 'ne_solver',\n",
       " 'nk',\n",
       " 'nnz',\n",
       " 'np',\n",
       " 'nplist',\n",
       " 'nspl',\n",
       " 'nt',\n",
       " 'nw',\n",
       " 'nx_rdata',\n",
       " 'nx_reinit',\n",
       " 'nx_solver',\n",
       " 'nx_solver_reinit',\n",
       " 'nxtrue_rdata',\n",
       " 'nxtrue_solver',\n",
       " 'ny',\n",
       " 'nytrue',\n",
       " 'nz',\n",
       " 'nztrue',\n",
       " 'o2mode',\n",
       " 'plist',\n",
       " 'pythonGenerated',\n",
       " 'release',\n",
       " 'requireSensitivitiesForAllParameters',\n",
       " 'reset',\n",
       " 'setAddSigmaResiduals',\n",
       " 'setAllStatesNonNegative',\n",
       " 'setAlwaysCheckFinite',\n",
       " 'setFixedParameterById',\n",
       " 'setFixedParameterByName',\n",
       " 'setFixedParameters',\n",
       " 'setFixedParametersByIdRegex',\n",
       " 'setFixedParametersByNameRegex',\n",
       " 'setInitialStateSensitivities',\n",
       " 'setInitialStates',\n",
       " 'setMinimumSigmaResiduals',\n",
       " 'setNMaxEvent',\n",
       " 'setParameterById',\n",
       " 'setParameterByName',\n",
       " 'setParameterList',\n",
       " 'setParameterScale',\n",
       " 'setParameters',\n",
       " 'setParametersByIdRegex',\n",
       " 'setParametersByNameRegex',\n",
       " 'setReinitializationStateIdxs',\n",
       " 'setReinitializeFixedParameterInitialStates',\n",
       " 'setStateIsNonNegative',\n",
       " 'setSteadyStateComputationMode',\n",
       " 'setSteadyStateSensitivityMode',\n",
       " 'setT0',\n",
       " 'setTimepoints',\n",
       " 'setUnscaledInitialStateSensitivities',\n",
       " 'set_steadystate_mask',\n",
       " 'state_independent_events_',\n",
       " 'swap',\n",
       " 't0',\n",
       " 'this',\n",
       " 'thisown',\n",
       " 'ubw']"
      ]
     },
     "execution_count": 7,
     "metadata": {},
     "output_type": "execute_result"
    }
   ],
   "source": [
    "dir(model)"
   ]
  },
  {
   "cell_type": "code",
   "execution_count": 9,
   "id": "1c63327c78a4d2e8",
   "metadata": {
    "ExecuteTime": {
     "end_time": "2024-05-03T18:42:29.282774Z",
     "start_time": "2024-05-03T18:42:29.273509Z"
    },
    "collapsed": false
   },
   "outputs": [
    {
     "data": {
      "text/plain": [
       "6"
      ]
     },
     "execution_count": 9,
     "metadata": {},
     "output_type": "execute_result"
    }
   ],
   "source": [
    "len(list(model.getStateIds()))"
   ]
  },
  {
   "cell_type": "code",
   "execution_count": 10,
   "id": "1ffd4d66f3ffd730",
   "metadata": {
    "ExecuteTime": {
     "end_time": "2024-05-03T18:42:33.721804Z",
     "start_time": "2024-05-03T18:42:33.689428Z"
    },
    "collapsed": false
   },
   "outputs": [
    {
     "data": {
      "text/plain": [
       "6"
      ]
     },
     "execution_count": 10,
     "metadata": {},
     "output_type": "execute_result"
    }
   ],
   "source": [
    "len(floating_species_list)"
   ]
  },
  {
   "cell_type": "code",
   "execution_count": 11,
   "id": "4c0746c0c1d6ed51",
   "metadata": {
    "ExecuteTime": {
     "end_time": "2024-05-03T18:43:06.512533Z",
     "start_time": "2024-05-03T18:43:06.481339Z"
    },
    "collapsed": false
   },
   "outputs": [
    {
     "data": {
      "text/plain": [
       "('species_1', 'species_2', 'species_3', 'species_4')"
      ]
     },
     "execution_count": 11,
     "metadata": {},
     "output_type": "execute_result"
    }
   ],
   "source": [
    "model.getStateIdsSolver()"
   ]
  },
  {
   "cell_type": "code",
   "execution_count": 15,
   "id": "bffe2ef958c80a70",
   "metadata": {
    "ExecuteTime": {
     "end_time": "2024-05-03T18:44:18.722326Z",
     "start_time": "2024-05-03T18:44:18.718029Z"
    },
    "collapsed": false
   },
   "outputs": [
    {
     "data": {
      "text/plain": [
       "['__bool__',\n",
       " '__class__',\n",
       " '__deepcopy__',\n",
       " '__delattr__',\n",
       " '__deref__',\n",
       " '__dict__',\n",
       " '__dir__',\n",
       " '__doc__',\n",
       " '__eq__',\n",
       " '__format__',\n",
       " '__ge__',\n",
       " '__getattribute__',\n",
       " '__gt__',\n",
       " '__hash__',\n",
       " '__init__',\n",
       " '__init_subclass__',\n",
       " '__le__',\n",
       " '__lt__',\n",
       " '__module__',\n",
       " '__ne__',\n",
       " '__new__',\n",
       " '__nonzero__',\n",
       " '__reduce__',\n",
       " '__reduce_ex__',\n",
       " '__repr__',\n",
       " '__setattr__',\n",
       " '__sizeof__',\n",
       " '__str__',\n",
       " '__subclasshook__',\n",
       " '__swig_destroy__',\n",
       " '__weakref__',\n",
       " 'clone',\n",
       " 'fdsigmaydy',\n",
       " 'fdspline_slopesdp',\n",
       " 'fdspline_valuesdp',\n",
       " 'fdtotal_cldp',\n",
       " 'fdtotal_cldx_rdata',\n",
       " 'fdx_rdatadp',\n",
       " 'fdx_rdatadtcl',\n",
       " 'fdx_rdatadx_solver',\n",
       " 'get',\n",
       " 'getAddSigmaResiduals',\n",
       " 'getAlwaysCheckFinite',\n",
       " 'getAmiciCommit',\n",
       " 'getAmiciVersion',\n",
       " 'getExpressionIds',\n",
       " 'getExpressionNames',\n",
       " 'getFixedParameterById',\n",
       " 'getFixedParameterByName',\n",
       " 'getFixedParameterIds',\n",
       " 'getFixedParameterNames',\n",
       " 'getFixedParameters',\n",
       " 'getInitialStateSensitivities',\n",
       " 'getInitialStates',\n",
       " 'getMinimumSigmaResiduals',\n",
       " 'getName',\n",
       " 'getObservableIds',\n",
       " 'getObservableNames',\n",
       " 'getObservableScaling',\n",
       " 'getParameterById',\n",
       " 'getParameterByName',\n",
       " 'getParameterIds',\n",
       " 'getParameterList',\n",
       " 'getParameterNames',\n",
       " 'getParameterScale',\n",
       " 'getParameters',\n",
       " 'getReinitializationStateIdxs',\n",
       " 'getReinitializeFixedParameterInitialStates',\n",
       " 'getSolver',\n",
       " 'getStateIds',\n",
       " 'getStateIdsSolver',\n",
       " 'getStateIsNonNegative',\n",
       " 'getStateNames',\n",
       " 'getStateNamesSolver',\n",
       " 'getSteadyStateComputationMode',\n",
       " 'getSteadyStateSensitivityMode',\n",
       " 'getTimepoint',\n",
       " 'getTimepoints',\n",
       " 'getUnscaledParameters',\n",
       " 'get_steadystate_mask',\n",
       " 'get_trigger_timepoints',\n",
       " 'hasCustomInitialStateSensitivities',\n",
       " 'hasCustomInitialStates',\n",
       " 'hasExpressionIds',\n",
       " 'hasExpressionNames',\n",
       " 'hasFixedParameterIds',\n",
       " 'hasFixedParameterNames',\n",
       " 'hasObservableIds',\n",
       " 'hasObservableNames',\n",
       " 'hasParameterIds',\n",
       " 'hasParameterNames',\n",
       " 'hasQuadraticLLH',\n",
       " 'hasStateIds',\n",
       " 'hasStateNames',\n",
       " 'idlist',\n",
       " 'initializeSplineSensitivities',\n",
       " 'initializeSplines',\n",
       " 'isFixedParameterStateReinitializationAllowed',\n",
       " 'k',\n",
       " 'lbw',\n",
       " 'logger',\n",
       " 'module',\n",
       " 'nJ',\n",
       " 'nMaxEvent',\n",
       " 'ncl',\n",
       " 'ndJydy',\n",
       " 'ndtotal_cldx_rdata',\n",
       " 'ndwdp',\n",
       " 'ndwdw',\n",
       " 'ndwdx',\n",
       " 'ndxdotdw',\n",
       " 'ndxrdatadtcl',\n",
       " 'ndxrdatadxsolver',\n",
       " 'ne',\n",
       " 'ne_solver',\n",
       " 'nk',\n",
       " 'nnz',\n",
       " 'np',\n",
       " 'nplist',\n",
       " 'nspl',\n",
       " 'nt',\n",
       " 'nw',\n",
       " 'nx_rdata',\n",
       " 'nx_reinit',\n",
       " 'nx_solver',\n",
       " 'nx_solver_reinit',\n",
       " 'nxtrue_rdata',\n",
       " 'nxtrue_solver',\n",
       " 'ny',\n",
       " 'nytrue',\n",
       " 'nz',\n",
       " 'nztrue',\n",
       " 'o2mode',\n",
       " 'plist',\n",
       " 'pythonGenerated',\n",
       " 'release',\n",
       " 'requireSensitivitiesForAllParameters',\n",
       " 'reset',\n",
       " 'setAddSigmaResiduals',\n",
       " 'setAllStatesNonNegative',\n",
       " 'setAlwaysCheckFinite',\n",
       " 'setFixedParameterById',\n",
       " 'setFixedParameterByName',\n",
       " 'setFixedParameters',\n",
       " 'setFixedParametersByIdRegex',\n",
       " 'setFixedParametersByNameRegex',\n",
       " 'setInitialStateSensitivities',\n",
       " 'setInitialStates',\n",
       " 'setMinimumSigmaResiduals',\n",
       " 'setNMaxEvent',\n",
       " 'setParameterById',\n",
       " 'setParameterByName',\n",
       " 'setParameterList',\n",
       " 'setParameterScale',\n",
       " 'setParameters',\n",
       " 'setParametersByIdRegex',\n",
       " 'setParametersByNameRegex',\n",
       " 'setReinitializationStateIdxs',\n",
       " 'setReinitializeFixedParameterInitialStates',\n",
       " 'setStateIsNonNegative',\n",
       " 'setSteadyStateComputationMode',\n",
       " 'setSteadyStateSensitivityMode',\n",
       " 'setT0',\n",
       " 'setTimepoints',\n",
       " 'setUnscaledInitialStateSensitivities',\n",
       " 'set_steadystate_mask',\n",
       " 'state_independent_events_',\n",
       " 'swap',\n",
       " 't0',\n",
       " 'this',\n",
       " 'thisown',\n",
       " 'ubw']"
      ]
     },
     "execution_count": 15,
     "metadata": {},
     "output_type": "execute_result"
    }
   ],
   "source": [
    "dir(model)"
   ]
  },
  {
   "cell_type": "code",
   "execution_count": 16,
   "id": "53bd0ac9716e7dc0",
   "metadata": {
    "ExecuteTime": {
     "end_time": "2024-05-03T18:44:24.180409Z",
     "start_time": "2024-05-03T18:44:24.068078Z"
    },
    "collapsed": false
   },
   "outputs": [
    {
     "data": {
      "text/plain": [
       "<Swig Object of type 'std::unique_ptr< amici::Model > *' at 0x161d977b0>"
      ]
     },
     "execution_count": 16,
     "metadata": {},
     "output_type": "execute_result"
    }
   ],
   "source": [
    "model.this"
   ]
  },
  {
   "cell_type": "code",
   "execution_count": 10,
   "id": "a7e5a17ae8e0ad6",
   "metadata": {
    "ExecuteTime": {
     "end_time": "2024-05-03T18:55:15.804489Z",
     "start_time": "2024-05-03T18:54:57.270824Z"
    },
    "collapsed": false
   },
   "outputs": [],
   "source": [
    "model_dir = \"model_dir\"\n",
    "sbml_importer.sbml2amici(model_name, model_dir)\n",
    "# load the model module\n",
    "model_module = amici.import_model_module(model_name, model_dir)\n",
    "# instantiate model\n",
    "model = model_module.getModel()"
   ]
  },
  {
   "cell_type": "code",
   "execution_count": 16,
   "id": "dfb5655df610ddc6",
   "metadata": {
    "ExecuteTime": {
     "end_time": "2024-05-03T18:56:02.049745Z",
     "start_time": "2024-05-03T18:56:02.035075Z"
    },
    "collapsed": false
   },
   "outputs": [],
   "source": [
    "import libsbml\n",
    "\n",
    "\n",
    "sbml_reader = libsbml.SBMLReader()\n",
    "sbml_doc = sbml_reader.readSBML(model_fp)\n",
    "sbml_model = sbml_doc.getModel()\n",
    "species_objects_list = sbml_model.getListOfSpecies()\n",
    "floating_species_list = [s.getId() for s in species_objects_list]\n",
    "floating_species_initial = dict(zip(floating_species_list, [s.getInitialConcentration() for s in species_objects_list]))"
   ]
  },
  {
   "cell_type": "code",
   "execution_count": 17,
   "id": "67e27cb5f2827a20",
   "metadata": {
    "ExecuteTime": {
     "end_time": "2024-05-03T18:56:02.898521Z",
     "start_time": "2024-05-03T18:56:02.884529Z"
    },
    "collapsed": false
   },
   "outputs": [
    {
     "data": {
      "text/plain": [
       "['plasminogen',\n",
       " 'plasmin',\n",
       " 'single intact chain urokinase-type plasminogen activator',\n",
       " 'two-chain urokinase-type plasminogen activator',\n",
       " 'x',\n",
       " 'x-plasmin']"
      ]
     },
     "execution_count": 17,
     "metadata": {},
     "output_type": "execute_result"
    }
   ],
   "source": [
    "floating_species_list = [s for s in model.getStateNames()]\n",
    "\n",
    "floating_species_list"
   ]
  },
  {
   "cell_type": "code",
   "execution_count": 24,
   "id": "48a0cdbb6ca6a7bd",
   "metadata": {
    "ExecuteTime": {
     "end_time": "2024-05-03T19:06:37.447558Z",
     "start_time": "2024-05-03T19:06:37.423225Z"
    },
    "collapsed": false
   },
   "outputs": [
    {
     "name": "stdout",
     "output_type": "stream",
     "text": [
      "0.0\n",
      "0.0\n",
      "0.0\n",
      "0.0\n",
      "0.0\n",
      "0.0\n"
     ]
    }
   ],
   "source": [
    "for s in species_objects_list:\n",
    "    print(s.getInitialAmount())"
   ]
  },
  {
   "cell_type": "code",
   "execution_count": 19,
   "id": "8125d183e8bb2669",
   "metadata": {
    "ExecuteTime": {
     "end_time": "2024-05-03T18:56:53.448069Z",
     "start_time": "2024-05-03T18:56:53.439183Z"
    },
    "collapsed": false
   },
   "outputs": [
    {
     "data": {
      "text/plain": [
       "['species_1', 'species_2', 'species_3', 'species_4', 'species_5', 'species_6']"
      ]
     },
     "execution_count": 19,
     "metadata": {},
     "output_type": "execute_result"
    }
   ],
   "source": [
    "[s.getId() for s in species_objects_list]"
   ]
  },
  {
   "cell_type": "code",
   "execution_count": 18,
   "id": "4ee2dee1553a652b",
   "metadata": {
    "ExecuteTime": {
     "end_time": "2024-05-03T18:56:12.937501Z",
     "start_time": "2024-05-03T18:56:12.928144Z"
    },
    "collapsed": false
   },
   "outputs": [
    {
     "data": {
      "text/plain": [
       "{'plasminogen': 0.01,\n",
       " 'plasmin': 0.0,\n",
       " 'single intact chain urokinase-type plasminogen activator': 0.002,\n",
       " 'two-chain urokinase-type plasminogen activator': 0.0,\n",
       " 'x': 0.0,\n",
       " 'x-plasmin': 0.0}"
      ]
     },
     "execution_count": 18,
     "metadata": {},
     "output_type": "execute_result"
    }
   ],
   "source": [
    "floating_species_initial"
   ]
  },
  {
   "cell_type": "code",
   "execution_count": 12,
   "id": "539b9a949984514c",
   "metadata": {
    "ExecuteTime": {
     "end_time": "2024-05-03T18:55:19.850972Z",
     "start_time": "2024-05-03T18:55:19.825867Z"
    },
    "collapsed": false
   },
   "outputs": [
    {
     "data": {
      "text/plain": [
       "{'species_1': 0.01,\n",
       " 'species_2': 0.0,\n",
       " 'species_3': 0.002,\n",
       " 'species_4': 0.0,\n",
       " 'species_5': 0.0,\n",
       " 'species_6': 0.0}"
      ]
     },
     "execution_count": 12,
     "metadata": {},
     "output_type": "execute_result"
    }
   ],
   "source": [
    "dict(zip(floating_species_list, [s.getInitialConcentration() for s in species_objects_list]))"
   ]
  },
  {
   "cell_type": "code",
   "execution_count": 4,
   "id": "b25cff91d01761da",
   "metadata": {
    "ExecuteTime": {
     "end_time": "2024-05-03T18:52:55.587491Z",
     "start_time": "2024-05-03T18:52:55.561926Z"
    },
    "collapsed": false
   },
   "outputs": [
    {
     "data": {
      "text/plain": [
       "{'species_1': 0.01,\n",
       " 'species_2': 0.0,\n",
       " 'species_3': 0.002,\n",
       " 'species_4': 0.0,\n",
       " 'species_5': 0.0,\n",
       " 'species_6': 0.0}"
      ]
     },
     "execution_count": 4,
     "metadata": {},
     "output_type": "execute_result"
    }
   ],
   "source": [
    "floating_species_initial"
   ]
  },
  {
   "cell_type": "code",
   "execution_count": 18,
   "id": "acb196b51a61ced4",
   "metadata": {
    "ExecuteTime": {
     "end_time": "2024-05-03T18:48:29.911410Z",
     "start_time": "2024-05-03T18:48:29.854873Z"
    },
    "collapsed": false
   },
   "outputs": [],
   "source": [
    "species_objects_list = sbml_model.getListOfSpecies()"
   ]
  },
  {
   "cell_type": "code",
   "execution_count": 23,
   "id": "c8f65af5abb5de6e",
   "metadata": {
    "ExecuteTime": {
     "end_time": "2024-05-03T18:50:23.014505Z",
     "start_time": "2024-05-03T18:50:23.009279Z"
    },
    "collapsed": false
   },
   "outputs": [
    {
     "name": "stdout",
     "output_type": "stream",
     "text": [
      "species_1\n",
      "0 0.01\n",
      "species_2\n",
      "1 0.0\n",
      "species_3\n",
      "2 0.002\n",
      "species_4\n",
      "3 0.0\n",
      "species_5\n",
      "4 0.0\n",
      "species_6\n",
      "5 0.0\n"
     ]
    }
   ],
   "source": [
    "for i, s in enumerate(species_objects_list):\n",
    "    print(s.getId())\n",
    "    print(i, s.getInitialConcentration())"
   ]
  },
  {
   "cell_type": "code",
   "execution_count": 25,
   "id": "2b2dd4c9721c5471",
   "metadata": {
    "ExecuteTime": {
     "end_time": "2024-05-03T19:08:19.760041Z",
     "start_time": "2024-05-03T19:08:19.472080Z"
    },
    "collapsed": false
   },
   "outputs": [
    {
     "data": {
      "text/plain": [
       "['__bool__',\n",
       " '__class__',\n",
       " '__deepcopy__',\n",
       " '__delattr__',\n",
       " '__deref__',\n",
       " '__dict__',\n",
       " '__dir__',\n",
       " '__doc__',\n",
       " '__eq__',\n",
       " '__format__',\n",
       " '__ge__',\n",
       " '__getattribute__',\n",
       " '__gt__',\n",
       " '__hash__',\n",
       " '__init__',\n",
       " '__init_subclass__',\n",
       " '__le__',\n",
       " '__lt__',\n",
       " '__module__',\n",
       " '__ne__',\n",
       " '__new__',\n",
       " '__nonzero__',\n",
       " '__reduce__',\n",
       " '__reduce_ex__',\n",
       " '__repr__',\n",
       " '__setattr__',\n",
       " '__sizeof__',\n",
       " '__str__',\n",
       " '__subclasshook__',\n",
       " '__swig_destroy__',\n",
       " '__weakref__',\n",
       " 'clone',\n",
       " 'fdsigmaydy',\n",
       " 'fdspline_slopesdp',\n",
       " 'fdspline_valuesdp',\n",
       " 'fdtotal_cldp',\n",
       " 'fdtotal_cldx_rdata',\n",
       " 'fdx_rdatadp',\n",
       " 'fdx_rdatadtcl',\n",
       " 'fdx_rdatadx_solver',\n",
       " 'get',\n",
       " 'getAddSigmaResiduals',\n",
       " 'getAlwaysCheckFinite',\n",
       " 'getAmiciCommit',\n",
       " 'getAmiciVersion',\n",
       " 'getExpressionIds',\n",
       " 'getExpressionNames',\n",
       " 'getFixedParameterById',\n",
       " 'getFixedParameterByName',\n",
       " 'getFixedParameterIds',\n",
       " 'getFixedParameterNames',\n",
       " 'getFixedParameters',\n",
       " 'getInitialStateSensitivities',\n",
       " 'getInitialStates',\n",
       " 'getMinimumSigmaResiduals',\n",
       " 'getName',\n",
       " 'getObservableIds',\n",
       " 'getObservableNames',\n",
       " 'getObservableScaling',\n",
       " 'getParameterById',\n",
       " 'getParameterByName',\n",
       " 'getParameterIds',\n",
       " 'getParameterList',\n",
       " 'getParameterNames',\n",
       " 'getParameterScale',\n",
       " 'getParameters',\n",
       " 'getReinitializationStateIdxs',\n",
       " 'getReinitializeFixedParameterInitialStates',\n",
       " 'getSolver',\n",
       " 'getStateIds',\n",
       " 'getStateIdsSolver',\n",
       " 'getStateIsNonNegative',\n",
       " 'getStateNames',\n",
       " 'getStateNamesSolver',\n",
       " 'getSteadyStateComputationMode',\n",
       " 'getSteadyStateSensitivityMode',\n",
       " 'getTimepoint',\n",
       " 'getTimepoints',\n",
       " 'getUnscaledParameters',\n",
       " 'get_steadystate_mask',\n",
       " 'get_trigger_timepoints',\n",
       " 'hasCustomInitialStateSensitivities',\n",
       " 'hasCustomInitialStates',\n",
       " 'hasExpressionIds',\n",
       " 'hasExpressionNames',\n",
       " 'hasFixedParameterIds',\n",
       " 'hasFixedParameterNames',\n",
       " 'hasObservableIds',\n",
       " 'hasObservableNames',\n",
       " 'hasParameterIds',\n",
       " 'hasParameterNames',\n",
       " 'hasQuadraticLLH',\n",
       " 'hasStateIds',\n",
       " 'hasStateNames',\n",
       " 'idlist',\n",
       " 'initializeSplineSensitivities',\n",
       " 'initializeSplines',\n",
       " 'isFixedParameterStateReinitializationAllowed',\n",
       " 'k',\n",
       " 'lbw',\n",
       " 'logger',\n",
       " 'module',\n",
       " 'nJ',\n",
       " 'nMaxEvent',\n",
       " 'ncl',\n",
       " 'ndJydy',\n",
       " 'ndtotal_cldx_rdata',\n",
       " 'ndwdp',\n",
       " 'ndwdw',\n",
       " 'ndwdx',\n",
       " 'ndxdotdw',\n",
       " 'ndxrdatadtcl',\n",
       " 'ndxrdatadxsolver',\n",
       " 'ne',\n",
       " 'ne_solver',\n",
       " 'nk',\n",
       " 'nnz',\n",
       " 'np',\n",
       " 'nplist',\n",
       " 'nspl',\n",
       " 'nt',\n",
       " 'nw',\n",
       " 'nx_rdata',\n",
       " 'nx_reinit',\n",
       " 'nx_solver',\n",
       " 'nx_solver_reinit',\n",
       " 'nxtrue_rdata',\n",
       " 'nxtrue_solver',\n",
       " 'ny',\n",
       " 'nytrue',\n",
       " 'nz',\n",
       " 'nztrue',\n",
       " 'o2mode',\n",
       " 'plist',\n",
       " 'pythonGenerated',\n",
       " 'release',\n",
       " 'requireSensitivitiesForAllParameters',\n",
       " 'reset',\n",
       " 'setAddSigmaResiduals',\n",
       " 'setAllStatesNonNegative',\n",
       " 'setAlwaysCheckFinite',\n",
       " 'setFixedParameterById',\n",
       " 'setFixedParameterByName',\n",
       " 'setFixedParameters',\n",
       " 'setFixedParametersByIdRegex',\n",
       " 'setFixedParametersByNameRegex',\n",
       " 'setInitialStateSensitivities',\n",
       " 'setInitialStates',\n",
       " 'setMinimumSigmaResiduals',\n",
       " 'setNMaxEvent',\n",
       " 'setParameterById',\n",
       " 'setParameterByName',\n",
       " 'setParameterList',\n",
       " 'setParameterScale',\n",
       " 'setParameters',\n",
       " 'setParametersByIdRegex',\n",
       " 'setParametersByNameRegex',\n",
       " 'setReinitializationStateIdxs',\n",
       " 'setReinitializeFixedParameterInitialStates',\n",
       " 'setStateIsNonNegative',\n",
       " 'setSteadyStateComputationMode',\n",
       " 'setSteadyStateSensitivityMode',\n",
       " 'setT0',\n",
       " 'setTimepoints',\n",
       " 'setUnscaledInitialStateSensitivities',\n",
       " 'set_steadystate_mask',\n",
       " 'state_independent_events_',\n",
       " 'swap',\n",
       " 't0',\n",
       " 'this',\n",
       " 'thisown',\n",
       " 'ubw']"
      ]
     },
     "execution_count": 25,
     "metadata": {},
     "output_type": "execute_result"
    }
   ],
   "source": [
    "dir(model)"
   ]
  },
  {
   "cell_type": "code",
   "execution_count": 26,
   "id": "9cd19fe6bd84b86f",
   "metadata": {
    "ExecuteTime": {
     "end_time": "2024-05-03T19:08:29.429593Z",
     "start_time": "2024-05-03T19:08:29.389402Z"
    },
    "collapsed": false
   },
   "outputs": [
    {
     "data": {
      "text/plain": [
       "(0.084, 0.032, 2.0, 0.035, 40.0, 0.9, 0.016, 0.0, 0.02, 0.0032, 0.01, 0.01)"
      ]
     },
     "execution_count": 26,
     "metadata": {},
     "output_type": "execute_result"
    }
   ],
   "source": [
    "model.getParameters()"
   ]
  },
  {
   "cell_type": "code",
   "execution_count": 27,
   "id": "90c9ded770c7958",
   "metadata": {
    "ExecuteTime": {
     "end_time": "2024-05-03T19:08:38.470138Z",
     "start_time": "2024-05-03T19:08:38.438239Z"
    },
    "collapsed": false
   },
   "outputs": [
    {
     "data": {
      "text/plain": [
       "(0, 1, 2, 3, 4, 5, 6, 7, 8, 9, 10, 11)"
      ]
     },
     "execution_count": 27,
     "metadata": {},
     "output_type": "execute_result"
    }
   ],
   "source": [
    "model.getParameterList()"
   ]
  },
  {
   "cell_type": "code",
   "execution_count": 28,
   "id": "5012c0188dd43fab",
   "metadata": {
    "ExecuteTime": {
     "end_time": "2024-05-03T19:08:50.525626Z",
     "start_time": "2024-05-03T19:08:50.485913Z"
    },
    "collapsed": false
   },
   "outputs": [
    {
     "data": {
      "text/plain": [
       "('parameter_1',\n",
       " 'parameter_2',\n",
       " 'parameter_13',\n",
       " 'reaction_1_k1',\n",
       " 'reaction_2_parameter_8',\n",
       " 'reaction_3_k1',\n",
       " 'reaction_8_k2',\n",
       " 'reaction_8_k1',\n",
       " 'reaction_9_k1',\n",
       " 'reaction_12_v',\n",
       " 'reaction_13_v',\n",
       " 'reaction_14_v')"
      ]
     },
     "execution_count": 28,
     "metadata": {},
     "output_type": "execute_result"
    }
   ],
   "source": [
    "model.getParameterIds()"
   ]
  },
  {
   "cell_type": "code",
   "execution_count": null,
   "id": "3c9997ab4999912b",
   "metadata": {
    "collapsed": false
   },
   "outputs": [],
   "source": [
    "model_parameters_list = model.getP"
   ]
  },
  {
   "cell_type": "code",
   "execution_count": 29,
   "id": "3b06fd629c36c4",
   "metadata": {
    "ExecuteTime": {
     "end_time": "2024-05-03T19:09:32.631805Z",
     "start_time": "2024-05-03T19:09:32.597441Z"
    },
    "collapsed": false
   },
   "outputs": [
    {
     "data": {
      "text/plain": [
       "['__class__',\n",
       " '__delattr__',\n",
       " '__dict__',\n",
       " '__dir__',\n",
       " '__doc__',\n",
       " '__eq__',\n",
       " '__format__',\n",
       " '__ge__',\n",
       " '__getattribute__',\n",
       " '__gt__',\n",
       " '__hash__',\n",
       " '__init__',\n",
       " '__init_subclass__',\n",
       " '__le__',\n",
       " '__lt__',\n",
       " '__metaclass__',\n",
       " '__module__',\n",
       " '__ne__',\n",
       " '__new__',\n",
       " '__parent_ref__',\n",
       " '__reduce__',\n",
       " '__reduce_ex__',\n",
       " '__repr__',\n",
       " '__setattr__',\n",
       " '__sizeof__',\n",
       " '__str__',\n",
       " '__subclasshook__',\n",
       " '__swig_destroy__',\n",
       " '__weakref__',\n",
       " 'addCVTerm',\n",
       " 'addCompartment',\n",
       " 'addCompartmentType',\n",
       " 'addConstantAttribute',\n",
       " 'addConstraint',\n",
       " 'addDefinitionsForDefaultUnits',\n",
       " 'addEvent',\n",
       " 'addFunctionDefinition',\n",
       " 'addInitialAssignment',\n",
       " 'addModifiedDate',\n",
       " 'addModifiers',\n",
       " 'addParameter',\n",
       " 'addReaction',\n",
       " 'addRule',\n",
       " 'addSpecies',\n",
       " 'addSpeciesType',\n",
       " 'addUnitDefinition',\n",
       " 'all_element_id_list',\n",
       " 'all_element_meta_id_list',\n",
       " 'all_elements',\n",
       " 'all_elements_from_plugins',\n",
       " 'annotation',\n",
       " 'annotation_string',\n",
       " 'appendAnnotation',\n",
       " 'appendFrom',\n",
       " 'appendNotes',\n",
       " 'area_units',\n",
       " 'assignRequiredValues',\n",
       " 'checkCompatibility',\n",
       " 'checkMathMLNamespace',\n",
       " 'clearAllElementIdList',\n",
       " 'clearAllElementMetaIdList',\n",
       " 'clone',\n",
       " 'column',\n",
       " 'compartment_types',\n",
       " 'compartments',\n",
       " 'connectToChild',\n",
       " 'connectToParent',\n",
       " 'constraints',\n",
       " 'containsUndeclaredUnits',\n",
       " 'conversion_factor',\n",
       " 'convertFromL3V2',\n",
       " 'convertL1ToL2',\n",
       " 'convertL1ToL3',\n",
       " 'convertL2ToL1',\n",
       " 'convertL2ToL3',\n",
       " 'convertL3ToL1',\n",
       " 'convertL3ToL2',\n",
       " 'convertParametersToLocals',\n",
       " 'convertStoichiometryMath',\n",
       " 'createAlgebraicRule',\n",
       " 'createAssignmentRule',\n",
       " 'createCompartment',\n",
       " 'createCompartmentType',\n",
       " 'createConstraint',\n",
       " 'createDelay',\n",
       " 'createEvent',\n",
       " 'createEventAssignment',\n",
       " 'createFunctionDefinition',\n",
       " 'createInitialAssignment',\n",
       " 'createKineticLaw',\n",
       " 'createKineticLawLocalParameter',\n",
       " 'createKineticLawParameter',\n",
       " 'createModifier',\n",
       " 'createParameter',\n",
       " 'createProduct',\n",
       " 'createRateRule',\n",
       " 'createReactant',\n",
       " 'createReaction',\n",
       " 'createSpecies',\n",
       " 'createSpeciesType',\n",
       " 'createTrigger',\n",
       " 'createUnit',\n",
       " 'createUnitDefinition',\n",
       " 'cv_terms',\n",
       " 'dealWithDefaultValues',\n",
       " 'dealWithEvents',\n",
       " 'dealWithFast',\n",
       " 'dealWithL3Fast',\n",
       " 'dealWithModelUnits',\n",
       " 'dealWithStoichiometry',\n",
       " 'deleteDisabledPlugins',\n",
       " 'derived_unit_definition',\n",
       " 'disablePackage',\n",
       " 'divideAssignmentsToSIdByFunction',\n",
       " 'element_name',\n",
       " 'enablePackage',\n",
       " 'enablePackageInternal',\n",
       " 'events',\n",
       " 'extent_units',\n",
       " 'function_definitions',\n",
       " 'getAllElementIdList',\n",
       " 'getAllElementMetaIdList',\n",
       " 'getAncestorOfType',\n",
       " 'getAnnotation',\n",
       " 'getAnnotationString',\n",
       " 'getAreaUnits',\n",
       " 'getAssignmentRule',\n",
       " 'getAssignmentRuleByVariable',\n",
       " 'getCVTerm',\n",
       " 'getCVTerms',\n",
       " 'getColumn',\n",
       " 'getCompartment',\n",
       " 'getCompartmentType',\n",
       " 'getConstraint',\n",
       " 'getConversionFactor',\n",
       " 'getCreatedDate',\n",
       " 'getDerivedUnitDefinition',\n",
       " 'getDisabledPlugin',\n",
       " 'getElementByMetaId',\n",
       " 'getElementBySId',\n",
       " 'getElementFromPluginsByMetaId',\n",
       " 'getElementFromPluginsBySId',\n",
       " 'getElementName',\n",
       " 'getEvent',\n",
       " 'getExtentUnits',\n",
       " 'getFormulaUnitsDataForAssignment',\n",
       " 'getFormulaUnitsDataForVariable',\n",
       " 'getFunctionDefinition',\n",
       " 'getId',\n",
       " 'getIdAttribute',\n",
       " 'getInitialAssignment',\n",
       " 'getInitialAssignmentBySymbol',\n",
       " 'getLengthUnits',\n",
       " 'getLevel',\n",
       " 'getLine',\n",
       " 'getListOfAllElements',\n",
       " 'getListOfAllElementsFromPlugins',\n",
       " 'getListOfCompartmentTypes',\n",
       " 'getListOfCompartments',\n",
       " 'getListOfConstraints',\n",
       " 'getListOfEvents',\n",
       " 'getListOfFunctionDefinitions',\n",
       " 'getListOfInitialAssignments',\n",
       " 'getListOfParameters',\n",
       " 'getListOfReactions',\n",
       " 'getListOfRules',\n",
       " 'getListOfSpecies',\n",
       " 'getListOfSpeciesTypes',\n",
       " 'getListOfUnitDefinitions',\n",
       " 'getMetaId',\n",
       " 'getModel',\n",
       " 'getModelHistory',\n",
       " 'getModifiedDate',\n",
       " 'getModifierSpeciesReference',\n",
       " 'getName',\n",
       " 'getNamespaces',\n",
       " 'getNotes',\n",
       " 'getNotesString',\n",
       " 'getNumCVTerms',\n",
       " 'getNumCompartmentTypes',\n",
       " 'getNumCompartments',\n",
       " 'getNumConstraints',\n",
       " 'getNumDisabledPlugins',\n",
       " 'getNumEvents',\n",
       " 'getNumFunctionDefinitions',\n",
       " 'getNumInitialAssignments',\n",
       " 'getNumModifiedDates',\n",
       " 'getNumParameters',\n",
       " 'getNumPlugins',\n",
       " 'getNumReactions',\n",
       " 'getNumRules',\n",
       " 'getNumSpecies',\n",
       " 'getNumSpeciesTypes',\n",
       " 'getNumSpeciesWithBoundaryCondition',\n",
       " 'getNumUnitDefinitions',\n",
       " 'getPackageCoreVersion',\n",
       " 'getPackageName',\n",
       " 'getPackageVersion',\n",
       " 'getParameter',\n",
       " 'getParentSBMLObject',\n",
       " 'getPlugin',\n",
       " 'getPrefix',\n",
       " 'getRateRule',\n",
       " 'getRateRuleByVariable',\n",
       " 'getReaction',\n",
       " 'getResourceBiologicalQualifier',\n",
       " 'getResourceModelQualifier',\n",
       " 'getRule',\n",
       " 'getRuleByVariable',\n",
       " 'getSBMLDocument',\n",
       " 'getSBMLNamespaces',\n",
       " 'getSBOTerm',\n",
       " 'getSBOTermAsURL',\n",
       " 'getSBOTermID',\n",
       " 'getSpecies',\n",
       " 'getSpeciesReference',\n",
       " 'getSpeciesType',\n",
       " 'getSubstanceUnits',\n",
       " 'getTimeUnits',\n",
       " 'getTypeCode',\n",
       " 'getURI',\n",
       " 'getUnitDefinition',\n",
       " 'getVersion',\n",
       " 'getVolumeUnits',\n",
       " 'hasNonstandardIdentifierBeginningWith',\n",
       " 'hasOptionalAttributes',\n",
       " 'hasOptionalElements',\n",
       " 'hasRequiredAttributes',\n",
       " 'hasRequiredElements',\n",
       " 'hasValidLevelVersionNamespaceCombination',\n",
       " 'id',\n",
       " 'id_attribute',\n",
       " 'initial_assignments',\n",
       " 'isPackageEnabled',\n",
       " 'isPackageURIEnabled',\n",
       " 'isPkgEnabled',\n",
       " 'isPkgURIEnabled',\n",
       " 'isPopulatedAllElementIdList',\n",
       " 'isPopulatedAllElementMetaIdList',\n",
       " 'isPopulatedListFormulaUnitsData',\n",
       " 'isSetAnnotation',\n",
       " 'isSetAreaUnits',\n",
       " 'isSetConversionFactor',\n",
       " 'isSetCreatedDate',\n",
       " 'isSetExtentUnits',\n",
       " 'isSetId',\n",
       " 'isSetIdAttribute',\n",
       " 'isSetLengthUnits',\n",
       " 'isSetMetaId',\n",
       " 'isSetModelHistory',\n",
       " 'isSetModifiedDate',\n",
       " 'isSetName',\n",
       " 'isSetNotes',\n",
       " 'isSetSBOTerm',\n",
       " 'isSetSubstanceUnits',\n",
       " 'isSetTimeUnits',\n",
       " 'isSetUserData',\n",
       " 'isSetVolumeUnits',\n",
       " 'length_units',\n",
       " 'level',\n",
       " 'line',\n",
       " 'matchesRequiredSBMLNamespacesForAddition',\n",
       " 'matchesSBMLNamespaces',\n",
       " 'meta_id',\n",
       " 'model',\n",
       " 'multiplyAssignmentsToSIdByFunction',\n",
       " 'name',\n",
       " 'namespaces',\n",
       " 'notes',\n",
       " 'notes_string',\n",
       " 'num_compartment_types',\n",
       " 'num_compartments',\n",
       " 'num_constraints',\n",
       " 'num_cv_terms',\n",
       " 'num_disabled_plugins',\n",
       " 'num_events',\n",
       " 'num_function_definitions',\n",
       " 'num_initial_assignments',\n",
       " 'num_modified_dates',\n",
       " 'num_parameters',\n",
       " 'num_plugins',\n",
       " 'num_reactions',\n",
       " 'num_rules',\n",
       " 'num_species',\n",
       " 'num_species_types',\n",
       " 'num_species_with_boundary_condition',\n",
       " 'num_unit_definitions',\n",
       " 'package_core_version',\n",
       " 'package_name',\n",
       " 'package_version',\n",
       " 'parameters',\n",
       " 'populateAllElementIdList',\n",
       " 'populateAllElementMetaIdList',\n",
       " 'populateListFormulaUnitsData',\n",
       " 'prefix',\n",
       " 'prependStringToAllIdentifiers',\n",
       " 'reactions',\n",
       " 'read',\n",
       " 'removeCompartment',\n",
       " 'removeCompartmentType',\n",
       " 'removeCompartmentTypes',\n",
       " 'removeConstraint',\n",
       " 'removeDuplicateAnnotations',\n",
       " 'removeEvent',\n",
       " 'removeFromParentAndDelete',\n",
       " 'removeFunctionDefinition',\n",
       " 'removeInitialAssignment',\n",
       " 'removeListFormulaUnitsData',\n",
       " 'removeParameter',\n",
       " 'removeParameterRuleUnits',\n",
       " 'removeReaction',\n",
       " 'removeRule',\n",
       " 'removeRuleByVariable',\n",
       " 'removeSpecies',\n",
       " 'removeSpeciesType',\n",
       " 'removeSpeciesTypes',\n",
       " 'removeTopLevelAnnotationElement',\n",
       " 'removeUnitDefinition',\n",
       " 'renameAllIds',\n",
       " 'renameIDs',\n",
       " 'renameMetaIdRefs',\n",
       " 'renameSIdRefs',\n",
       " 'renameUnitSIdRefs',\n",
       " 'replaceSIDWithFunction',\n",
       " 'replaceTopLevelAnnotationElement',\n",
       " 'rules',\n",
       " 'sbml_namespaces',\n",
       " 'sbml_namespaces_and_own',\n",
       " 'sbo_term',\n",
       " 'sbo_term_as_url',\n",
       " 'sbo_term_id',\n",
       " 'setAnnotation',\n",
       " 'setAreaUnits',\n",
       " 'setConversionFactor',\n",
       " 'setCreatedDate',\n",
       " 'setExtentUnits',\n",
       " 'setId',\n",
       " 'setIdAttribute',\n",
       " 'setLengthUnits',\n",
       " 'setMetaId',\n",
       " 'setModelHistory',\n",
       " 'setName',\n",
       " 'setNamespaces',\n",
       " 'setNotes',\n",
       " 'setSBMLNamespacesAndOwn',\n",
       " 'setSBOTerm',\n",
       " 'setSpatialDimensions',\n",
       " 'setSpeciesReferenceConstantValueAndStoichiometry',\n",
       " 'setSubstanceUnits',\n",
       " 'setTimeUnits',\n",
       " 'setVolumeUnits',\n",
       " 'spatial_dimensions',\n",
       " 'species',\n",
       " 'species_reference_constant_value_and_stoichiometry',\n",
       " 'species_types',\n",
       " 'substance_units',\n",
       " 'this',\n",
       " 'thisown',\n",
       " 'time_units',\n",
       " 'toSBML',\n",
       " 'toXMLNode',\n",
       " 'transformIdentifiers',\n",
       " 'type_code',\n",
       " 'unit_definitions',\n",
       " 'unsetAnnotation',\n",
       " 'unsetAreaUnits',\n",
       " 'unsetCVTerms',\n",
       " 'unsetConversionFactor',\n",
       " 'unsetCreatedDate',\n",
       " 'unsetExtentUnits',\n",
       " 'unsetId',\n",
       " 'unsetIdAttribute',\n",
       " 'unsetLengthUnits',\n",
       " 'unsetMetaId',\n",
       " 'unsetModelHistory',\n",
       " 'unsetModifiedDates',\n",
       " 'unsetName',\n",
       " 'unsetNotes',\n",
       " 'unsetSBOTerm',\n",
       " 'unsetSubstanceUnits',\n",
       " 'unsetTimeUnits',\n",
       " 'unsetUserData',\n",
       " 'unsetVolumeUnits',\n",
       " 'updateSBMLNamespace',\n",
       " 'uri',\n",
       " 'version',\n",
       " 'volume_units',\n",
       " 'write',\n",
       " 'writeExtensionElements']"
      ]
     },
     "execution_count": 29,
     "metadata": {},
     "output_type": "execute_result"
    }
   ],
   "source": [
    "dir(sbml_model)"
   ]
  },
  {
   "cell_type": "code",
   "execution_count": 36,
   "id": "4809419cda37489d",
   "metadata": {
    "ExecuteTime": {
     "end_time": "2024-05-03T19:13:27.757355Z",
     "start_time": "2024-05-03T19:13:27.746469Z"
    },
    "collapsed": false
   },
   "outputs": [],
   "source": [
    "model_parameter_objects = sbml_model.getListOfParameters()"
   ]
  },
  {
   "cell_type": "code",
   "execution_count": 37,
   "id": "b894d5eaede8618a",
   "metadata": {
    "ExecuteTime": {
     "end_time": "2024-05-03T19:13:28.376159Z",
     "start_time": "2024-05-03T19:13:28.362537Z"
    },
    "collapsed": false
   },
   "outputs": [
    {
     "data": {
      "text/plain": [
       "<ListOfParameters[3]>"
      ]
     },
     "execution_count": 37,
     "metadata": {},
     "output_type": "execute_result"
    }
   ],
   "source": [
    "model_parameter_objects"
   ]
  },
  {
   "cell_type": "code",
   "execution_count": 38,
   "id": "e97db8af52fe0009",
   "metadata": {
    "ExecuteTime": {
     "end_time": "2024-05-03T19:13:34.234305Z",
     "start_time": "2024-05-03T19:13:34.224870Z"
    },
    "collapsed": false
   },
   "outputs": [
    {
     "name": "stdout",
     "output_type": "stream",
     "text": [
      "['__class__', '__delattr__', '__dict__', '__dir__', '__doc__', '__eq__', '__format__', '__ge__', '__getattribute__', '__gt__', '__hash__', '__init__', '__init_subclass__', '__le__', '__lt__', '__metaclass__', '__module__', '__ne__', '__new__', '__reduce__', '__reduce_ex__', '__repr__', '__setattr__', '__sizeof__', '__str__', '__subclasshook__', '__swig_destroy__', '__weakref__', 'addCVTerm', 'addModifiedDate', 'all_elements', 'all_elements_from_plugins', 'annotation', 'annotation_string', 'appendAnnotation', 'appendNotes', 'calculating_units', 'checkCompatibility', 'checkMathMLNamespace', 'clone', 'column', 'connectToChild', 'connectToParent', 'constant', 'containsUndeclaredUnits', 'cv_terms', 'deleteDisabledPlugins', 'derived_unit_definition', 'disablePackage', 'divideAssignmentsToSIdByFunction', 'element_name', 'enablePackage', 'enablePackageInternal', 'getAncestorOfType', 'getAnnotation', 'getAnnotationString', 'getCVTerm', 'getCVTerms', 'getColumn', 'getConstant', 'getCreatedDate', 'getDerivedUnitDefinition', 'getDisabledPlugin', 'getElementByMetaId', 'getElementBySId', 'getElementFromPluginsByMetaId', 'getElementFromPluginsBySId', 'getElementName', 'getId', 'getIdAttribute', 'getLevel', 'getLine', 'getListOfAllElements', 'getListOfAllElementsFromPlugins', 'getMetaId', 'getModel', 'getModelHistory', 'getModifiedDate', 'getName', 'getNamespaces', 'getNotes', 'getNotesString', 'getNumCVTerms', 'getNumDisabledPlugins', 'getNumModifiedDates', 'getNumPlugins', 'getPackageCoreVersion', 'getPackageName', 'getPackageVersion', 'getParentSBMLObject', 'getPlugin', 'getPrefix', 'getResourceBiologicalQualifier', 'getResourceModelQualifier', 'getSBMLDocument', 'getSBMLNamespaces', 'getSBOTerm', 'getSBOTermAsURL', 'getSBOTermID', 'getTypeCode', 'getURI', 'getUnits', 'getValue', 'getVersion', 'hasNonstandardIdentifierBeginningWith', 'hasOptionalAttributes', 'hasOptionalElements', 'hasRequiredAttributes', 'hasRequiredElements', 'hasValidLevelVersionNamespaceCombination', 'id', 'id_attribute', 'initDefaults', 'isPackageEnabled', 'isPackageURIEnabled', 'isPkgEnabled', 'isPkgURIEnabled', 'isSetAnnotation', 'isSetConstant', 'isSetCreatedDate', 'isSetId', 'isSetIdAttribute', 'isSetMetaId', 'isSetModelHistory', 'isSetModifiedDate', 'isSetName', 'isSetNotes', 'isSetSBOTerm', 'isSetUnits', 'isSetUserData', 'isSetValue', 'level', 'line', 'matchesRequiredSBMLNamespacesForAddition', 'matchesSBMLNamespaces', 'meta_id', 'model', 'multiplyAssignmentsToSIdByFunction', 'name', 'namespaces', 'notes', 'notes_string', 'num_cv_terms', 'num_disabled_plugins', 'num_modified_dates', 'num_plugins', 'package_core_version', 'package_name', 'package_version', 'prefix', 'prependStringToAllIdentifiers', 'read', 'removeDuplicateAnnotations', 'removeFromParentAndDelete', 'removeTopLevelAnnotationElement', 'renameMetaIdRefs', 'renameSIdRefs', 'renameUnitSIdRefs', 'replaceSIDWithFunction', 'replaceTopLevelAnnotationElement', 'sbml_namespaces', 'sbml_namespaces_and_own', 'sbo_term', 'sbo_term_as_url', 'sbo_term_id', 'setAnnotation', 'setCalculatingUnits', 'setConstant', 'setCreatedDate', 'setId', 'setIdAttribute', 'setMetaId', 'setModelHistory', 'setName', 'setNamespaces', 'setNotes', 'setSBMLNamespacesAndOwn', 'setSBOTerm', 'setUnits', 'setValue', 'this', 'thisown', 'toSBML', 'toXMLNode', 'transformIdentifiers', 'type_code', 'units', 'unsetAnnotation', 'unsetCVTerms', 'unsetConstant', 'unsetCreatedDate', 'unsetId', 'unsetIdAttribute', 'unsetMetaId', 'unsetModelHistory', 'unsetModifiedDates', 'unsetName', 'unsetNotes', 'unsetSBOTerm', 'unsetUnits', 'unsetUserData', 'unsetValue', 'updateSBMLNamespace', 'uri', 'value', 'version', 'write', 'writeExtensionElements']\n",
      "0.084\n",
      "degradation constant 1\n",
      "['__class__', '__delattr__', '__dict__', '__dir__', '__doc__', '__eq__', '__format__', '__ge__', '__getattribute__', '__gt__', '__hash__', '__init__', '__init_subclass__', '__le__', '__lt__', '__metaclass__', '__module__', '__ne__', '__new__', '__reduce__', '__reduce_ex__', '__repr__', '__setattr__', '__sizeof__', '__str__', '__subclasshook__', '__swig_destroy__', '__weakref__', 'addCVTerm', 'addModifiedDate', 'all_elements', 'all_elements_from_plugins', 'annotation', 'annotation_string', 'appendAnnotation', 'appendNotes', 'calculating_units', 'checkCompatibility', 'checkMathMLNamespace', 'clone', 'column', 'connectToChild', 'connectToParent', 'constant', 'containsUndeclaredUnits', 'cv_terms', 'deleteDisabledPlugins', 'derived_unit_definition', 'disablePackage', 'divideAssignmentsToSIdByFunction', 'element_name', 'enablePackage', 'enablePackageInternal', 'getAncestorOfType', 'getAnnotation', 'getAnnotationString', 'getCVTerm', 'getCVTerms', 'getColumn', 'getConstant', 'getCreatedDate', 'getDerivedUnitDefinition', 'getDisabledPlugin', 'getElementByMetaId', 'getElementBySId', 'getElementFromPluginsByMetaId', 'getElementFromPluginsBySId', 'getElementName', 'getId', 'getIdAttribute', 'getLevel', 'getLine', 'getListOfAllElements', 'getListOfAllElementsFromPlugins', 'getMetaId', 'getModel', 'getModelHistory', 'getModifiedDate', 'getName', 'getNamespaces', 'getNotes', 'getNotesString', 'getNumCVTerms', 'getNumDisabledPlugins', 'getNumModifiedDates', 'getNumPlugins', 'getPackageCoreVersion', 'getPackageName', 'getPackageVersion', 'getParentSBMLObject', 'getPlugin', 'getPrefix', 'getResourceBiologicalQualifier', 'getResourceModelQualifier', 'getSBMLDocument', 'getSBMLNamespaces', 'getSBOTerm', 'getSBOTermAsURL', 'getSBOTermID', 'getTypeCode', 'getURI', 'getUnits', 'getValue', 'getVersion', 'hasNonstandardIdentifierBeginningWith', 'hasOptionalAttributes', 'hasOptionalElements', 'hasRequiredAttributes', 'hasRequiredElements', 'hasValidLevelVersionNamespaceCombination', 'id', 'id_attribute', 'initDefaults', 'isPackageEnabled', 'isPackageURIEnabled', 'isPkgEnabled', 'isPkgURIEnabled', 'isSetAnnotation', 'isSetConstant', 'isSetCreatedDate', 'isSetId', 'isSetIdAttribute', 'isSetMetaId', 'isSetModelHistory', 'isSetModifiedDate', 'isSetName', 'isSetNotes', 'isSetSBOTerm', 'isSetUnits', 'isSetUserData', 'isSetValue', 'level', 'line', 'matchesRequiredSBMLNamespacesForAddition', 'matchesSBMLNamespaces', 'meta_id', 'model', 'multiplyAssignmentsToSIdByFunction', 'name', 'namespaces', 'notes', 'notes_string', 'num_cv_terms', 'num_disabled_plugins', 'num_modified_dates', 'num_plugins', 'package_core_version', 'package_name', 'package_version', 'prefix', 'prependStringToAllIdentifiers', 'read', 'removeDuplicateAnnotations', 'removeFromParentAndDelete', 'removeTopLevelAnnotationElement', 'renameMetaIdRefs', 'renameSIdRefs', 'renameUnitSIdRefs', 'replaceSIDWithFunction', 'replaceTopLevelAnnotationElement', 'sbml_namespaces', 'sbml_namespaces_and_own', 'sbo_term', 'sbo_term_as_url', 'sbo_term_id', 'setAnnotation', 'setCalculatingUnits', 'setConstant', 'setCreatedDate', 'setId', 'setIdAttribute', 'setMetaId', 'setModelHistory', 'setName', 'setNamespaces', 'setNotes', 'setSBMLNamespacesAndOwn', 'setSBOTerm', 'setUnits', 'setValue', 'this', 'thisown', 'toSBML', 'toXMLNode', 'transformIdentifiers', 'type_code', 'units', 'unsetAnnotation', 'unsetCVTerms', 'unsetConstant', 'unsetCreatedDate', 'unsetId', 'unsetIdAttribute', 'unsetMetaId', 'unsetModelHistory', 'unsetModifiedDates', 'unsetName', 'unsetNotes', 'unsetSBOTerm', 'unsetUnits', 'unsetUserData', 'unsetValue', 'updateSBMLNamespace', 'uri', 'value', 'version', 'write', 'writeExtensionElements']\n",
      "0.032\n",
      "degradation constant 2\n",
      "['__class__', '__delattr__', '__dict__', '__dir__', '__doc__', '__eq__', '__format__', '__ge__', '__getattribute__', '__gt__', '__hash__', '__init__', '__init_subclass__', '__le__', '__lt__', '__metaclass__', '__module__', '__ne__', '__new__', '__reduce__', '__reduce_ex__', '__repr__', '__setattr__', '__sizeof__', '__str__', '__subclasshook__', '__swig_destroy__', '__weakref__', 'addCVTerm', 'addModifiedDate', 'all_elements', 'all_elements_from_plugins', 'annotation', 'annotation_string', 'appendAnnotation', 'appendNotes', 'calculating_units', 'checkCompatibility', 'checkMathMLNamespace', 'clone', 'column', 'connectToChild', 'connectToParent', 'constant', 'containsUndeclaredUnits', 'cv_terms', 'deleteDisabledPlugins', 'derived_unit_definition', 'disablePackage', 'divideAssignmentsToSIdByFunction', 'element_name', 'enablePackage', 'enablePackageInternal', 'getAncestorOfType', 'getAnnotation', 'getAnnotationString', 'getCVTerm', 'getCVTerms', 'getColumn', 'getConstant', 'getCreatedDate', 'getDerivedUnitDefinition', 'getDisabledPlugin', 'getElementByMetaId', 'getElementBySId', 'getElementFromPluginsByMetaId', 'getElementFromPluginsBySId', 'getElementName', 'getId', 'getIdAttribute', 'getLevel', 'getLine', 'getListOfAllElements', 'getListOfAllElementsFromPlugins', 'getMetaId', 'getModel', 'getModelHistory', 'getModifiedDate', 'getName', 'getNamespaces', 'getNotes', 'getNotesString', 'getNumCVTerms', 'getNumDisabledPlugins', 'getNumModifiedDates', 'getNumPlugins', 'getPackageCoreVersion', 'getPackageName', 'getPackageVersion', 'getParentSBMLObject', 'getPlugin', 'getPrefix', 'getResourceBiologicalQualifier', 'getResourceModelQualifier', 'getSBMLDocument', 'getSBMLNamespaces', 'getSBOTerm', 'getSBOTermAsURL', 'getSBOTermID', 'getTypeCode', 'getURI', 'getUnits', 'getValue', 'getVersion', 'hasNonstandardIdentifierBeginningWith', 'hasOptionalAttributes', 'hasOptionalElements', 'hasRequiredAttributes', 'hasRequiredElements', 'hasValidLevelVersionNamespaceCombination', 'id', 'id_attribute', 'initDefaults', 'isPackageEnabled', 'isPackageURIEnabled', 'isPkgEnabled', 'isPkgURIEnabled', 'isSetAnnotation', 'isSetConstant', 'isSetCreatedDate', 'isSetId', 'isSetIdAttribute', 'isSetMetaId', 'isSetModelHistory', 'isSetModifiedDate', 'isSetName', 'isSetNotes', 'isSetSBOTerm', 'isSetUnits', 'isSetUserData', 'isSetValue', 'level', 'line', 'matchesRequiredSBMLNamespacesForAddition', 'matchesSBMLNamespaces', 'meta_id', 'model', 'multiplyAssignmentsToSIdByFunction', 'name', 'namespaces', 'notes', 'notes_string', 'num_cv_terms', 'num_disabled_plugins', 'num_modified_dates', 'num_plugins', 'package_core_version', 'package_name', 'package_version', 'prefix', 'prependStringToAllIdentifiers', 'read', 'removeDuplicateAnnotations', 'removeFromParentAndDelete', 'removeTopLevelAnnotationElement', 'renameMetaIdRefs', 'renameSIdRefs', 'renameUnitSIdRefs', 'replaceSIDWithFunction', 'replaceTopLevelAnnotationElement', 'sbml_namespaces', 'sbml_namespaces_and_own', 'sbo_term', 'sbo_term_as_url', 'sbo_term_id', 'setAnnotation', 'setCalculatingUnits', 'setConstant', 'setCreatedDate', 'setId', 'setIdAttribute', 'setMetaId', 'setModelHistory', 'setName', 'setNamespaces', 'setNotes', 'setSBMLNamespacesAndOwn', 'setSBOTerm', 'setUnits', 'setValue', 'this', 'thisown', 'toSBML', 'toXMLNode', 'transformIdentifiers', 'type_code', 'units', 'unsetAnnotation', 'unsetCVTerms', 'unsetConstant', 'unsetCreatedDate', 'unsetId', 'unsetIdAttribute', 'unsetMetaId', 'unsetModelHistory', 'unsetModifiedDates', 'unsetName', 'unsetNotes', 'unsetSBOTerm', 'unsetUnits', 'unsetUserData', 'unsetValue', 'updateSBMLNamespace', 'uri', 'value', 'version', 'write', 'writeExtensionElements']\n",
      "2.0\n",
      "hill cooperativity\n"
     ]
    }
   ],
   "source": [
    "for m in model_parameter_objects:\n",
    "    print(dir(m))\n",
    "    print(m.getValue())\n",
    "    print(m.getName())"
   ]
  },
  {
   "cell_type": "code",
   "execution_count": null,
   "id": "3cafce19b29c528e",
   "metadata": {
    "collapsed": false
   },
   "outputs": [],
   "source": [
    "model_parameter_objects = sbml_model.getListOfParameters()\n",
    "model_parameters_list = [param.getName() for param in model_parameter_objects]\n",
    "model_parameters_values = [param.getValue() for param in model_parameter_objects]"
   ]
  },
  {
   "cell_type": "code",
   "execution_count": 39,
   "id": "8402c0d763be61b7",
   "metadata": {
    "ExecuteTime": {
     "end_time": "2024-05-03T19:17:10.349346Z",
     "start_time": "2024-05-03T19:17:10.310003Z"
    },
    "collapsed": false
   },
   "outputs": [
    {
     "data": {
      "text/plain": [
       "['__class__',\n",
       " '__delattr__',\n",
       " '__dict__',\n",
       " '__dir__',\n",
       " '__doc__',\n",
       " '__eq__',\n",
       " '__format__',\n",
       " '__ge__',\n",
       " '__getattribute__',\n",
       " '__gt__',\n",
       " '__hash__',\n",
       " '__init__',\n",
       " '__init_subclass__',\n",
       " '__le__',\n",
       " '__lt__',\n",
       " '__metaclass__',\n",
       " '__module__',\n",
       " '__ne__',\n",
       " '__new__',\n",
       " '__parent_ref__',\n",
       " '__reduce__',\n",
       " '__reduce_ex__',\n",
       " '__repr__',\n",
       " '__setattr__',\n",
       " '__sizeof__',\n",
       " '__str__',\n",
       " '__subclasshook__',\n",
       " '__swig_destroy__',\n",
       " '__weakref__',\n",
       " 'addCVTerm',\n",
       " 'addCompartment',\n",
       " 'addCompartmentType',\n",
       " 'addConstantAttribute',\n",
       " 'addConstraint',\n",
       " 'addDefinitionsForDefaultUnits',\n",
       " 'addEvent',\n",
       " 'addFunctionDefinition',\n",
       " 'addInitialAssignment',\n",
       " 'addModifiedDate',\n",
       " 'addModifiers',\n",
       " 'addParameter',\n",
       " 'addReaction',\n",
       " 'addRule',\n",
       " 'addSpecies',\n",
       " 'addSpeciesType',\n",
       " 'addUnitDefinition',\n",
       " 'all_element_id_list',\n",
       " 'all_element_meta_id_list',\n",
       " 'all_elements',\n",
       " 'all_elements_from_plugins',\n",
       " 'annotation',\n",
       " 'annotation_string',\n",
       " 'appendAnnotation',\n",
       " 'appendFrom',\n",
       " 'appendNotes',\n",
       " 'area_units',\n",
       " 'assignRequiredValues',\n",
       " 'checkCompatibility',\n",
       " 'checkMathMLNamespace',\n",
       " 'clearAllElementIdList',\n",
       " 'clearAllElementMetaIdList',\n",
       " 'clone',\n",
       " 'column',\n",
       " 'compartment_types',\n",
       " 'compartments',\n",
       " 'connectToChild',\n",
       " 'connectToParent',\n",
       " 'constraints',\n",
       " 'containsUndeclaredUnits',\n",
       " 'conversion_factor',\n",
       " 'convertFromL3V2',\n",
       " 'convertL1ToL2',\n",
       " 'convertL1ToL3',\n",
       " 'convertL2ToL1',\n",
       " 'convertL2ToL3',\n",
       " 'convertL3ToL1',\n",
       " 'convertL3ToL2',\n",
       " 'convertParametersToLocals',\n",
       " 'convertStoichiometryMath',\n",
       " 'createAlgebraicRule',\n",
       " 'createAssignmentRule',\n",
       " 'createCompartment',\n",
       " 'createCompartmentType',\n",
       " 'createConstraint',\n",
       " 'createDelay',\n",
       " 'createEvent',\n",
       " 'createEventAssignment',\n",
       " 'createFunctionDefinition',\n",
       " 'createInitialAssignment',\n",
       " 'createKineticLaw',\n",
       " 'createKineticLawLocalParameter',\n",
       " 'createKineticLawParameter',\n",
       " 'createModifier',\n",
       " 'createParameter',\n",
       " 'createProduct',\n",
       " 'createRateRule',\n",
       " 'createReactant',\n",
       " 'createReaction',\n",
       " 'createSpecies',\n",
       " 'createSpeciesType',\n",
       " 'createTrigger',\n",
       " 'createUnit',\n",
       " 'createUnitDefinition',\n",
       " 'cv_terms',\n",
       " 'dealWithDefaultValues',\n",
       " 'dealWithEvents',\n",
       " 'dealWithFast',\n",
       " 'dealWithL3Fast',\n",
       " 'dealWithModelUnits',\n",
       " 'dealWithStoichiometry',\n",
       " 'deleteDisabledPlugins',\n",
       " 'derived_unit_definition',\n",
       " 'disablePackage',\n",
       " 'divideAssignmentsToSIdByFunction',\n",
       " 'element_name',\n",
       " 'enablePackage',\n",
       " 'enablePackageInternal',\n",
       " 'events',\n",
       " 'extent_units',\n",
       " 'function_definitions',\n",
       " 'getAllElementIdList',\n",
       " 'getAllElementMetaIdList',\n",
       " 'getAncestorOfType',\n",
       " 'getAnnotation',\n",
       " 'getAnnotationString',\n",
       " 'getAreaUnits',\n",
       " 'getAssignmentRule',\n",
       " 'getAssignmentRuleByVariable',\n",
       " 'getCVTerm',\n",
       " 'getCVTerms',\n",
       " 'getColumn',\n",
       " 'getCompartment',\n",
       " 'getCompartmentType',\n",
       " 'getConstraint',\n",
       " 'getConversionFactor',\n",
       " 'getCreatedDate',\n",
       " 'getDerivedUnitDefinition',\n",
       " 'getDisabledPlugin',\n",
       " 'getElementByMetaId',\n",
       " 'getElementBySId',\n",
       " 'getElementFromPluginsByMetaId',\n",
       " 'getElementFromPluginsBySId',\n",
       " 'getElementName',\n",
       " 'getEvent',\n",
       " 'getExtentUnits',\n",
       " 'getFormulaUnitsDataForAssignment',\n",
       " 'getFormulaUnitsDataForVariable',\n",
       " 'getFunctionDefinition',\n",
       " 'getId',\n",
       " 'getIdAttribute',\n",
       " 'getInitialAssignment',\n",
       " 'getInitialAssignmentBySymbol',\n",
       " 'getLengthUnits',\n",
       " 'getLevel',\n",
       " 'getLine',\n",
       " 'getListOfAllElements',\n",
       " 'getListOfAllElementsFromPlugins',\n",
       " 'getListOfCompartmentTypes',\n",
       " 'getListOfCompartments',\n",
       " 'getListOfConstraints',\n",
       " 'getListOfEvents',\n",
       " 'getListOfFunctionDefinitions',\n",
       " 'getListOfInitialAssignments',\n",
       " 'getListOfParameters',\n",
       " 'getListOfReactions',\n",
       " 'getListOfRules',\n",
       " 'getListOfSpecies',\n",
       " 'getListOfSpeciesTypes',\n",
       " 'getListOfUnitDefinitions',\n",
       " 'getMetaId',\n",
       " 'getModel',\n",
       " 'getModelHistory',\n",
       " 'getModifiedDate',\n",
       " 'getModifierSpeciesReference',\n",
       " 'getName',\n",
       " 'getNamespaces',\n",
       " 'getNotes',\n",
       " 'getNotesString',\n",
       " 'getNumCVTerms',\n",
       " 'getNumCompartmentTypes',\n",
       " 'getNumCompartments',\n",
       " 'getNumConstraints',\n",
       " 'getNumDisabledPlugins',\n",
       " 'getNumEvents',\n",
       " 'getNumFunctionDefinitions',\n",
       " 'getNumInitialAssignments',\n",
       " 'getNumModifiedDates',\n",
       " 'getNumParameters',\n",
       " 'getNumPlugins',\n",
       " 'getNumReactions',\n",
       " 'getNumRules',\n",
       " 'getNumSpecies',\n",
       " 'getNumSpeciesTypes',\n",
       " 'getNumSpeciesWithBoundaryCondition',\n",
       " 'getNumUnitDefinitions',\n",
       " 'getPackageCoreVersion',\n",
       " 'getPackageName',\n",
       " 'getPackageVersion',\n",
       " 'getParameter',\n",
       " 'getParentSBMLObject',\n",
       " 'getPlugin',\n",
       " 'getPrefix',\n",
       " 'getRateRule',\n",
       " 'getRateRuleByVariable',\n",
       " 'getReaction',\n",
       " 'getResourceBiologicalQualifier',\n",
       " 'getResourceModelQualifier',\n",
       " 'getRule',\n",
       " 'getRuleByVariable',\n",
       " 'getSBMLDocument',\n",
       " 'getSBMLNamespaces',\n",
       " 'getSBOTerm',\n",
       " 'getSBOTermAsURL',\n",
       " 'getSBOTermID',\n",
       " 'getSpecies',\n",
       " 'getSpeciesReference',\n",
       " 'getSpeciesType',\n",
       " 'getSubstanceUnits',\n",
       " 'getTimeUnits',\n",
       " 'getTypeCode',\n",
       " 'getURI',\n",
       " 'getUnitDefinition',\n",
       " 'getVersion',\n",
       " 'getVolumeUnits',\n",
       " 'hasNonstandardIdentifierBeginningWith',\n",
       " 'hasOptionalAttributes',\n",
       " 'hasOptionalElements',\n",
       " 'hasRequiredAttributes',\n",
       " 'hasRequiredElements',\n",
       " 'hasValidLevelVersionNamespaceCombination',\n",
       " 'id',\n",
       " 'id_attribute',\n",
       " 'initial_assignments',\n",
       " 'isPackageEnabled',\n",
       " 'isPackageURIEnabled',\n",
       " 'isPkgEnabled',\n",
       " 'isPkgURIEnabled',\n",
       " 'isPopulatedAllElementIdList',\n",
       " 'isPopulatedAllElementMetaIdList',\n",
       " 'isPopulatedListFormulaUnitsData',\n",
       " 'isSetAnnotation',\n",
       " 'isSetAreaUnits',\n",
       " 'isSetConversionFactor',\n",
       " 'isSetCreatedDate',\n",
       " 'isSetExtentUnits',\n",
       " 'isSetId',\n",
       " 'isSetIdAttribute',\n",
       " 'isSetLengthUnits',\n",
       " 'isSetMetaId',\n",
       " 'isSetModelHistory',\n",
       " 'isSetModifiedDate',\n",
       " 'isSetName',\n",
       " 'isSetNotes',\n",
       " 'isSetSBOTerm',\n",
       " 'isSetSubstanceUnits',\n",
       " 'isSetTimeUnits',\n",
       " 'isSetUserData',\n",
       " 'isSetVolumeUnits',\n",
       " 'length_units',\n",
       " 'level',\n",
       " 'line',\n",
       " 'matchesRequiredSBMLNamespacesForAddition',\n",
       " 'matchesSBMLNamespaces',\n",
       " 'meta_id',\n",
       " 'model',\n",
       " 'multiplyAssignmentsToSIdByFunction',\n",
       " 'name',\n",
       " 'namespaces',\n",
       " 'notes',\n",
       " 'notes_string',\n",
       " 'num_compartment_types',\n",
       " 'num_compartments',\n",
       " 'num_constraints',\n",
       " 'num_cv_terms',\n",
       " 'num_disabled_plugins',\n",
       " 'num_events',\n",
       " 'num_function_definitions',\n",
       " 'num_initial_assignments',\n",
       " 'num_modified_dates',\n",
       " 'num_parameters',\n",
       " 'num_plugins',\n",
       " 'num_reactions',\n",
       " 'num_rules',\n",
       " 'num_species',\n",
       " 'num_species_types',\n",
       " 'num_species_with_boundary_condition',\n",
       " 'num_unit_definitions',\n",
       " 'package_core_version',\n",
       " 'package_name',\n",
       " 'package_version',\n",
       " 'parameters',\n",
       " 'populateAllElementIdList',\n",
       " 'populateAllElementMetaIdList',\n",
       " 'populateListFormulaUnitsData',\n",
       " 'prefix',\n",
       " 'prependStringToAllIdentifiers',\n",
       " 'reactions',\n",
       " 'read',\n",
       " 'removeCompartment',\n",
       " 'removeCompartmentType',\n",
       " 'removeCompartmentTypes',\n",
       " 'removeConstraint',\n",
       " 'removeDuplicateAnnotations',\n",
       " 'removeEvent',\n",
       " 'removeFromParentAndDelete',\n",
       " 'removeFunctionDefinition',\n",
       " 'removeInitialAssignment',\n",
       " 'removeListFormulaUnitsData',\n",
       " 'removeParameter',\n",
       " 'removeParameterRuleUnits',\n",
       " 'removeReaction',\n",
       " 'removeRule',\n",
       " 'removeRuleByVariable',\n",
       " 'removeSpecies',\n",
       " 'removeSpeciesType',\n",
       " 'removeSpeciesTypes',\n",
       " 'removeTopLevelAnnotationElement',\n",
       " 'removeUnitDefinition',\n",
       " 'renameAllIds',\n",
       " 'renameIDs',\n",
       " 'renameMetaIdRefs',\n",
       " 'renameSIdRefs',\n",
       " 'renameUnitSIdRefs',\n",
       " 'replaceSIDWithFunction',\n",
       " 'replaceTopLevelAnnotationElement',\n",
       " 'rules',\n",
       " 'sbml_namespaces',\n",
       " 'sbml_namespaces_and_own',\n",
       " 'sbo_term',\n",
       " 'sbo_term_as_url',\n",
       " 'sbo_term_id',\n",
       " 'setAnnotation',\n",
       " 'setAreaUnits',\n",
       " 'setConversionFactor',\n",
       " 'setCreatedDate',\n",
       " 'setExtentUnits',\n",
       " 'setId',\n",
       " 'setIdAttribute',\n",
       " 'setLengthUnits',\n",
       " 'setMetaId',\n",
       " 'setModelHistory',\n",
       " 'setName',\n",
       " 'setNamespaces',\n",
       " 'setNotes',\n",
       " 'setSBMLNamespacesAndOwn',\n",
       " 'setSBOTerm',\n",
       " 'setSpatialDimensions',\n",
       " 'setSpeciesReferenceConstantValueAndStoichiometry',\n",
       " 'setSubstanceUnits',\n",
       " 'setTimeUnits',\n",
       " 'setVolumeUnits',\n",
       " 'spatial_dimensions',\n",
       " 'species',\n",
       " 'species_reference_constant_value_and_stoichiometry',\n",
       " 'species_types',\n",
       " 'substance_units',\n",
       " 'this',\n",
       " 'thisown',\n",
       " 'time_units',\n",
       " 'toSBML',\n",
       " 'toXMLNode',\n",
       " 'transformIdentifiers',\n",
       " 'type_code',\n",
       " 'unit_definitions',\n",
       " 'unsetAnnotation',\n",
       " 'unsetAreaUnits',\n",
       " 'unsetCVTerms',\n",
       " 'unsetConversionFactor',\n",
       " 'unsetCreatedDate',\n",
       " 'unsetExtentUnits',\n",
       " 'unsetId',\n",
       " 'unsetIdAttribute',\n",
       " 'unsetLengthUnits',\n",
       " 'unsetMetaId',\n",
       " 'unsetModelHistory',\n",
       " 'unsetModifiedDates',\n",
       " 'unsetName',\n",
       " 'unsetNotes',\n",
       " 'unsetSBOTerm',\n",
       " 'unsetSubstanceUnits',\n",
       " 'unsetTimeUnits',\n",
       " 'unsetUserData',\n",
       " 'unsetVolumeUnits',\n",
       " 'updateSBMLNamespace',\n",
       " 'uri',\n",
       " 'version',\n",
       " 'volume_units',\n",
       " 'write',\n",
       " 'writeExtensionElements']"
      ]
     },
     "execution_count": 39,
     "metadata": {},
     "output_type": "execute_result"
    }
   ],
   "source": [
    "dir(sbml_model)"
   ]
  },
  {
   "cell_type": "code",
   "execution_count": 50,
   "id": "7bbc34d43e00e3f3",
   "metadata": {
    "ExecuteTime": {
     "end_time": "2024-05-03T19:23:17.142713Z",
     "start_time": "2024-05-03T19:23:17.125483Z"
    },
    "collapsed": false
   },
   "outputs": [
    {
     "data": {
      "text/plain": [
       "['cleavage of plasminogen',\n",
       " 'activation of urokinase-type plasminogen activator',\n",
       " 'activation of plasmin',\n",
       " 'degradation of single intact chain urokinase-type plasminogen activator',\n",
       " 'degradation of plasminogen',\n",
       " 'degradation of plasmin',\n",
       " 'degradation of two-chain urokinase type plasminogen activator',\n",
       " 'reversible plasmin bonding x',\n",
       " 'catalytic reaction of x-plasmin',\n",
       " 'degradation of x',\n",
       " 'degradation of x-plasmin',\n",
       " 'synthesis of single intact chain urokinase-type plasminogen activator',\n",
       " 'synthesis of plasminogen',\n",
       " 'synthesis of x']"
      ]
     },
     "execution_count": 50,
     "metadata": {},
     "output_type": "execute_result"
    }
   ],
   "source": [
    "reaction_objects = sbml_model.reactions\n",
    "reaction_list = [reaction.getName() for reaction in reaction_objects]\n",
    "\n",
    "reaction_list"
   ]
  },
  {
   "cell_type": "code",
   "execution_count": 45,
   "id": "9d681d8a025d8470",
   "metadata": {
    "ExecuteTime": {
     "end_time": "2024-05-03T19:20:04.853940Z",
     "start_time": "2024-05-03T19:20:04.833097Z"
    },
    "collapsed": false
   },
   "outputs": [
    {
     "data": {
      "text/plain": [
       "['__class__',\n",
       " '__delattr__',\n",
       " '__dict__',\n",
       " '__dir__',\n",
       " '__doc__',\n",
       " '__eq__',\n",
       " '__format__',\n",
       " '__ge__',\n",
       " '__getattribute__',\n",
       " '__gt__',\n",
       " '__hash__',\n",
       " '__init__',\n",
       " '__init_subclass__',\n",
       " '__le__',\n",
       " '__lt__',\n",
       " '__metaclass__',\n",
       " '__module__',\n",
       " '__ne__',\n",
       " '__new__',\n",
       " '__reduce__',\n",
       " '__reduce_ex__',\n",
       " '__repr__',\n",
       " '__setattr__',\n",
       " '__sizeof__',\n",
       " '__str__',\n",
       " '__subclasshook__',\n",
       " '__swig_destroy__',\n",
       " '__weakref__',\n",
       " 'addCVTerm',\n",
       " 'addModifiedDate',\n",
       " 'addModifier',\n",
       " 'addProduct',\n",
       " 'addReactant',\n",
       " 'all_elements',\n",
       " 'all_elements_from_plugins',\n",
       " 'annotation',\n",
       " 'annotation_string',\n",
       " 'appendAnnotation',\n",
       " 'appendNotes',\n",
       " 'checkCompatibility',\n",
       " 'checkMathMLNamespace',\n",
       " 'clone',\n",
       " 'column',\n",
       " 'compartment',\n",
       " 'connectToChild',\n",
       " 'connectToParent',\n",
       " 'containsUndeclaredUnits',\n",
       " 'createKineticLaw',\n",
       " 'createModifier',\n",
       " 'createProduct',\n",
       " 'createReactant',\n",
       " 'cv_terms',\n",
       " 'deleteDisabledPlugins',\n",
       " 'derived_unit_definition',\n",
       " 'disablePackage',\n",
       " 'divideAssignmentsToSIdByFunction',\n",
       " 'element_name',\n",
       " 'enablePackage',\n",
       " 'enablePackageInternal',\n",
       " 'fast',\n",
       " 'getAncestorOfType',\n",
       " 'getAnnotation',\n",
       " 'getAnnotationString',\n",
       " 'getCVTerm',\n",
       " 'getCVTerms',\n",
       " 'getColumn',\n",
       " 'getCompartment',\n",
       " 'getCreatedDate',\n",
       " 'getDerivedUnitDefinition',\n",
       " 'getDisabledPlugin',\n",
       " 'getElementByMetaId',\n",
       " 'getElementBySId',\n",
       " 'getElementFromPluginsByMetaId',\n",
       " 'getElementFromPluginsBySId',\n",
       " 'getElementName',\n",
       " 'getFast',\n",
       " 'getId',\n",
       " 'getIdAttribute',\n",
       " 'getKineticLaw',\n",
       " 'getLevel',\n",
       " 'getLine',\n",
       " 'getListOfAllElements',\n",
       " 'getListOfAllElementsFromPlugins',\n",
       " 'getListOfModifiers',\n",
       " 'getListOfProducts',\n",
       " 'getListOfReactants',\n",
       " 'getMetaId',\n",
       " 'getModel',\n",
       " 'getModelHistory',\n",
       " 'getModifiedDate',\n",
       " 'getModifier',\n",
       " 'getName',\n",
       " 'getNamespaces',\n",
       " 'getNotes',\n",
       " 'getNotesString',\n",
       " 'getNumCVTerms',\n",
       " 'getNumDisabledPlugins',\n",
       " 'getNumModifiedDates',\n",
       " 'getNumModifiers',\n",
       " 'getNumPlugins',\n",
       " 'getNumProducts',\n",
       " 'getNumReactants',\n",
       " 'getPackageCoreVersion',\n",
       " 'getPackageName',\n",
       " 'getPackageVersion',\n",
       " 'getParentSBMLObject',\n",
       " 'getPlugin',\n",
       " 'getPrefix',\n",
       " 'getProduct',\n",
       " 'getReactant',\n",
       " 'getResourceBiologicalQualifier',\n",
       " 'getResourceModelQualifier',\n",
       " 'getReversible',\n",
       " 'getSBMLDocument',\n",
       " 'getSBMLNamespaces',\n",
       " 'getSBOTerm',\n",
       " 'getSBOTermAsURL',\n",
       " 'getSBOTermID',\n",
       " 'getTypeCode',\n",
       " 'getURI',\n",
       " 'getVersion',\n",
       " 'hasNonstandardIdentifierBeginningWith',\n",
       " 'hasOptionalAttributes',\n",
       " 'hasOptionalElements',\n",
       " 'hasRequiredAttributes',\n",
       " 'hasRequiredElements',\n",
       " 'hasValidLevelVersionNamespaceCombination',\n",
       " 'id',\n",
       " 'id_attribute',\n",
       " 'initDefaults',\n",
       " 'isPackageEnabled',\n",
       " 'isPackageURIEnabled',\n",
       " 'isPkgEnabled',\n",
       " 'isPkgURIEnabled',\n",
       " 'isSetAnnotation',\n",
       " 'isSetCompartment',\n",
       " 'isSetCreatedDate',\n",
       " 'isSetFast',\n",
       " 'isSetId',\n",
       " 'isSetIdAttribute',\n",
       " 'isSetKineticLaw',\n",
       " 'isSetMetaId',\n",
       " 'isSetModelHistory',\n",
       " 'isSetModifiedDate',\n",
       " 'isSetName',\n",
       " 'isSetNotes',\n",
       " 'isSetReversible',\n",
       " 'isSetSBOTerm',\n",
       " 'isSetUserData',\n",
       " 'level',\n",
       " 'line',\n",
       " 'matchesRequiredSBMLNamespacesForAddition',\n",
       " 'matchesSBMLNamespaces',\n",
       " 'meta_id',\n",
       " 'model',\n",
       " 'modifiers',\n",
       " 'multiplyAssignmentsToSIdByFunction',\n",
       " 'name',\n",
       " 'namespaces',\n",
       " 'notes',\n",
       " 'notes_string',\n",
       " 'num_cv_terms',\n",
       " 'num_disabled_plugins',\n",
       " 'num_modified_dates',\n",
       " 'num_modifiers',\n",
       " 'num_plugins',\n",
       " 'num_products',\n",
       " 'num_reactants',\n",
       " 'package_core_version',\n",
       " 'package_name',\n",
       " 'package_version',\n",
       " 'prefix',\n",
       " 'prependStringToAllIdentifiers',\n",
       " 'products',\n",
       " 'reactants',\n",
       " 'read',\n",
       " 'removeDuplicateAnnotations',\n",
       " 'removeFromParentAndDelete',\n",
       " 'removeModifier',\n",
       " 'removeProduct',\n",
       " 'removeReactant',\n",
       " 'removeTopLevelAnnotationElement',\n",
       " 'renameMetaIdRefs',\n",
       " 'renameSIdRefs',\n",
       " 'renameUnitSIdRefs',\n",
       " 'replaceSIDWithFunction',\n",
       " 'replaceTopLevelAnnotationElement',\n",
       " 'reversible',\n",
       " 'sbml_namespaces',\n",
       " 'sbml_namespaces_and_own',\n",
       " 'sbo_term',\n",
       " 'sbo_term_as_url',\n",
       " 'sbo_term_id',\n",
       " 'setAnnotation',\n",
       " 'setCompartment',\n",
       " 'setCreatedDate',\n",
       " 'setFast',\n",
       " 'setId',\n",
       " 'setIdAttribute',\n",
       " 'setKineticLaw',\n",
       " 'setMetaId',\n",
       " 'setModelHistory',\n",
       " 'setName',\n",
       " 'setNamespaces',\n",
       " 'setNotes',\n",
       " 'setReversible',\n",
       " 'setSBMLNamespacesAndOwn',\n",
       " 'setSBOTerm',\n",
       " 'this',\n",
       " 'thisown',\n",
       " 'toSBML',\n",
       " 'toXMLNode',\n",
       " 'transformIdentifiers',\n",
       " 'type_code',\n",
       " 'unsetAnnotation',\n",
       " 'unsetCVTerms',\n",
       " 'unsetCompartment',\n",
       " 'unsetCreatedDate',\n",
       " 'unsetFast',\n",
       " 'unsetId',\n",
       " 'unsetIdAttribute',\n",
       " 'unsetKineticLaw',\n",
       " 'unsetMetaId',\n",
       " 'unsetModelHistory',\n",
       " 'unsetModifiedDates',\n",
       " 'unsetName',\n",
       " 'unsetNotes',\n",
       " 'unsetReversible',\n",
       " 'unsetSBOTerm',\n",
       " 'unsetUserData',\n",
       " 'updateSBMLNamespace',\n",
       " 'uri',\n",
       " 'version',\n",
       " 'write',\n",
       " 'writeExtensionElements']"
      ]
     },
     "execution_count": 45,
     "metadata": {},
     "output_type": "execute_result"
    }
   ],
   "source": [
    "dir(reaction_objects[0])"
   ]
  },
  {
   "cell_type": "code",
   "execution_count": 49,
   "id": "9192ee2293afe983",
   "metadata": {
    "ExecuteTime": {
     "end_time": "2024-05-03T19:22:35.598462Z",
     "start_time": "2024-05-03T19:22:35.540298Z"
    },
    "collapsed": false
   },
   "outputs": [
    {
     "ename": "TypeError",
     "evalue": "Wrong number or type of arguments for overloaded function 'Reaction_getProduct'.\n  Possible C/C++ prototypes are:\n    Reaction::getProduct(unsigned int) const\n    Reaction::getProduct(unsigned int)\n    Reaction::getProduct(std::string const &) const\n    Reaction::getProduct(std::string const &)\n",
     "output_type": "error",
     "traceback": [
      "\u001b[0;31m---------------------------------------------------------------------------\u001b[0m",
      "\u001b[0;31mTypeError\u001b[0m                                 Traceback (most recent call last)",
      "\u001b[0;32m/var/folders/5d/d79js_zj5b7dwk7h0sr8m23c0000gn/T/ipykernel_66466/3781945296.py\u001b[0m in \u001b[0;36m?\u001b[0;34m()\u001b[0m\n\u001b[0;32m----> 1\u001b[0;31m \u001b[0mreaction_objects\u001b[0m\u001b[0;34m[\u001b[0m\u001b[0;36m0\u001b[0m\u001b[0;34m]\u001b[0m\u001b[0;34m.\u001b[0m\u001b[0mgetProduct\u001b[0m\u001b[0;34m(\u001b[0m\u001b[0;34m)\u001b[0m\u001b[0;34m\u001b[0m\u001b[0;34m\u001b[0m\u001b[0m\n\u001b[0m",
      "\u001b[0;32m~/Library/Caches/pypoetry/virtualenvs/biosimulator-processes-ECOqdsTs-py3.10/lib/python3.10/site-packages/libsbml/__init__.py\u001b[0m in \u001b[0;36m?\u001b[0;34m(self, *args)\u001b[0m\n\u001b[1;32m  32429\u001b[0m         \u001b[0mReturns\u001b[0m \u001b[0ma\u001b[0m \u001b[0mSpeciesReference\u001b[0m \u001b[0mobject\u001b[0m\u001b[0;34m,\u001b[0m \u001b[0;32mor\u001b[0m \u001b[0;34m'None'\u001b[0m \u001b[0;32mif\u001b[0m \u001b[0mno\u001b[0m \u001b[0mspecies\u001b[0m \u001b[0;32mwith\u001b[0m \u001b[0mthe\u001b[0m\u001b[0;34m\u001b[0m\u001b[0;34m\u001b[0m\u001b[0m\n\u001b[1;32m  32430\u001b[0m         \u001b[0mgiven\u001b[0m \u001b[0midentifier\u001b[0m \u001b[0;34m'species'\u001b[0m \u001b[0mappears\u001b[0m \u001b[0;32mas\u001b[0m \u001b[0ma\u001b[0m \u001b[0mproduct\u001b[0m \u001b[0;32min\u001b[0m \u001b[0mthis\u001b[0m \u001b[0mReaction\u001b[0m\u001b[0;34m.\u001b[0m\u001b[0;34m\u001b[0m\u001b[0;34m\u001b[0m\u001b[0m\n\u001b[1;32m  32431\u001b[0m \u001b[0;34m\u001b[0m\u001b[0m\n\u001b[1;32m  32432\u001b[0m         \"\"\"\n\u001b[0;32m> 32433\u001b[0;31m         \u001b[0;32mreturn\u001b[0m \u001b[0m_libsbml\u001b[0m\u001b[0;34m.\u001b[0m\u001b[0mReaction_getProduct\u001b[0m\u001b[0;34m(\u001b[0m\u001b[0mself\u001b[0m\u001b[0;34m,\u001b[0m \u001b[0;34m*\u001b[0m\u001b[0margs\u001b[0m\u001b[0;34m)\u001b[0m\u001b[0;34m\u001b[0m\u001b[0;34m\u001b[0m\u001b[0m\n\u001b[0m",
      "\u001b[0;31mTypeError\u001b[0m: Wrong number or type of arguments for overloaded function 'Reaction_getProduct'.\n  Possible C/C++ prototypes are:\n    Reaction::getProduct(unsigned int) const\n    Reaction::getProduct(unsigned int)\n    Reaction::getProduct(std::string const &) const\n    Reaction::getProduct(std::string const &)\n"
     ]
    }
   ],
   "source": [
    "reaction_objects[0].getProduct()"
   ]
  },
  {
   "cell_type": "code",
   "execution_count": null,
   "id": "c74a7b2c264ae9c4",
   "metadata": {
    "collapsed": false
   },
   "outputs": [],
   "source": []
  }
 ],
 "metadata": {
  "kernelspec": {
   "display_name": "Python 3",
   "language": "python",
   "name": "python3"
  },
  "language_info": {
   "codemirror_mode": {
    "name": "ipython",
    "version": 2
   },
   "file_extension": ".py",
   "mimetype": "text/x-python",
   "name": "python",
   "nbconvert_exporter": "python",
   "pygments_lexer": "ipython2",
   "version": "2.7.6"
  }
 },
 "nbformat": 4,
 "nbformat_minor": 5
}
