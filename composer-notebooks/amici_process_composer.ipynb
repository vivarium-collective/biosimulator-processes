{
 "cells": [
  {
   "cell_type": "code",
   "execution_count": 1,
   "id": "7531460e80182d90",
   "metadata": {
    "ExecuteTime": {
     "end_time": "2024-05-02T01:16:27.938243Z",
     "start_time": "2024-05-02T01:16:26.390876Z"
    },
    "collapsed": false
   },
   "outputs": [],
   "source": [
    "import amici\n",
    "import os "
   ]
  },
  {
   "cell_type": "code",
   "execution_count": 2,
   "id": "5c0e8c6a275b1176",
   "metadata": {
    "ExecuteTime": {
     "end_time": "2024-05-02T01:16:30.301835Z",
     "start_time": "2024-05-02T01:16:30.273283Z"
    },
    "collapsed": false
   },
   "outputs": [],
   "source": [
    "biomodel_id = 'BIOMD0000000630'\n",
    "model_fp = f'../biosimulator_processes/model_files/sbml/{biomodel_id}_url.xml'\n",
    "sbml_importer = amici.SbmlImporter(model_fp)\n",
    "model_name = biomodel_id\n",
    "model_dir = \"model_dir\"\n",
    "sbml_importer.sbml2amici(model_name, model_dir)\n",
    "# load the model module\n",
    "model_module = amici.import_model_module(model_name, model_dir)\n",
    "# instantiate model\n",
    "model = model_module.getModel()\n",
    "# instantiate solver\n",
    "method = model.getSolver()"
   ]
  },
  {
   "cell_type": "code",
   "execution_count": 3,
   "id": "ce6bfa77cd788578",
   "metadata": {
    "ExecuteTime": {
     "end_time": "2024-05-02T01:16:55.772895Z",
     "start_time": "2024-05-02T01:16:35.855730Z"
    },
    "collapsed": false
   },
   "outputs": [],
   "source": []
  },
  {
   "cell_type": "code",
   "execution_count": 12,
   "id": "fea2e503fcd4200b",
   "metadata": {
    "ExecuteTime": {
     "end_time": "2024-05-02T01:19:52.688199Z",
     "start_time": "2024-05-02T01:19:52.675737Z"
    },
    "collapsed": false
   },
   "outputs": [],
   "source": []
  },
  {
   "cell_type": "code",
   "execution_count": 13,
   "id": "287544961fb39f95",
   "metadata": {
    "ExecuteTime": {
     "end_time": "2024-05-02T01:19:53.840095Z",
     "start_time": "2024-05-02T01:19:53.834093Z"
    },
    "collapsed": false
   },
   "outputs": [
    {
     "data": {
      "text/plain": [
       "['__bool__',\n",
       " '__class__',\n",
       " '__deepcopy__',\n",
       " '__delattr__',\n",
       " '__deref__',\n",
       " '__dict__',\n",
       " '__dir__',\n",
       " '__doc__',\n",
       " '__eq__',\n",
       " '__format__',\n",
       " '__ge__',\n",
       " '__getattribute__',\n",
       " '__gt__',\n",
       " '__hash__',\n",
       " '__init__',\n",
       " '__init_subclass__',\n",
       " '__le__',\n",
       " '__lt__',\n",
       " '__module__',\n",
       " '__ne__',\n",
       " '__new__',\n",
       " '__nonzero__',\n",
       " '__reduce__',\n",
       " '__reduce_ex__',\n",
       " '__repr__',\n",
       " '__setattr__',\n",
       " '__sizeof__',\n",
       " '__str__',\n",
       " '__subclasshook__',\n",
       " '__swig_destroy__',\n",
       " '__weakref__',\n",
       " 'clone',\n",
       " 'fdsigmaydy',\n",
       " 'fdspline_slopesdp',\n",
       " 'fdspline_valuesdp',\n",
       " 'fdtotal_cldp',\n",
       " 'fdtotal_cldx_rdata',\n",
       " 'fdx_rdatadp',\n",
       " 'fdx_rdatadtcl',\n",
       " 'fdx_rdatadx_solver',\n",
       " 'get',\n",
       " 'getAddSigmaResiduals',\n",
       " 'getAlwaysCheckFinite',\n",
       " 'getAmiciCommit',\n",
       " 'getAmiciVersion',\n",
       " 'getExpressionIds',\n",
       " 'getExpressionNames',\n",
       " 'getFixedParameterById',\n",
       " 'getFixedParameterByName',\n",
       " 'getFixedParameterIds',\n",
       " 'getFixedParameterNames',\n",
       " 'getFixedParameters',\n",
       " 'getInitialStateSensitivities',\n",
       " 'getInitialStates',\n",
       " 'getMinimumSigmaResiduals',\n",
       " 'getName',\n",
       " 'getObservableIds',\n",
       " 'getObservableNames',\n",
       " 'getObservableScaling',\n",
       " 'getParameterById',\n",
       " 'getParameterByName',\n",
       " 'getParameterIds',\n",
       " 'getParameterList',\n",
       " 'getParameterNames',\n",
       " 'getParameterScale',\n",
       " 'getParameters',\n",
       " 'getReinitializationStateIdxs',\n",
       " 'getReinitializeFixedParameterInitialStates',\n",
       " 'getSolver',\n",
       " 'getStateIds',\n",
       " 'getStateIdsSolver',\n",
       " 'getStateIsNonNegative',\n",
       " 'getStateNames',\n",
       " 'getStateNamesSolver',\n",
       " 'getSteadyStateComputationMode',\n",
       " 'getSteadyStateSensitivityMode',\n",
       " 'getTimepoint',\n",
       " 'getTimepoints',\n",
       " 'getUnscaledParameters',\n",
       " 'get_steadystate_mask',\n",
       " 'get_trigger_timepoints',\n",
       " 'hasCustomInitialStateSensitivities',\n",
       " 'hasCustomInitialStates',\n",
       " 'hasExpressionIds',\n",
       " 'hasExpressionNames',\n",
       " 'hasFixedParameterIds',\n",
       " 'hasFixedParameterNames',\n",
       " 'hasObservableIds',\n",
       " 'hasObservableNames',\n",
       " 'hasParameterIds',\n",
       " 'hasParameterNames',\n",
       " 'hasQuadraticLLH',\n",
       " 'hasStateIds',\n",
       " 'hasStateNames',\n",
       " 'idlist',\n",
       " 'initializeSplineSensitivities',\n",
       " 'initializeSplines',\n",
       " 'isFixedParameterStateReinitializationAllowed',\n",
       " 'k',\n",
       " 'lbw',\n",
       " 'logger',\n",
       " 'module',\n",
       " 'nJ',\n",
       " 'nMaxEvent',\n",
       " 'ncl',\n",
       " 'ndJydy',\n",
       " 'ndtotal_cldx_rdata',\n",
       " 'ndwdp',\n",
       " 'ndwdw',\n",
       " 'ndwdx',\n",
       " 'ndxdotdw',\n",
       " 'ndxrdatadtcl',\n",
       " 'ndxrdatadxsolver',\n",
       " 'ne',\n",
       " 'ne_solver',\n",
       " 'nk',\n",
       " 'nnz',\n",
       " 'np',\n",
       " 'nplist',\n",
       " 'nspl',\n",
       " 'nt',\n",
       " 'nw',\n",
       " 'nx_rdata',\n",
       " 'nx_reinit',\n",
       " 'nx_solver',\n",
       " 'nx_solver_reinit',\n",
       " 'nxtrue_rdata',\n",
       " 'nxtrue_solver',\n",
       " 'ny',\n",
       " 'nytrue',\n",
       " 'nz',\n",
       " 'nztrue',\n",
       " 'o2mode',\n",
       " 'plist',\n",
       " 'pythonGenerated',\n",
       " 'release',\n",
       " 'requireSensitivitiesForAllParameters',\n",
       " 'reset',\n",
       " 'setAddSigmaResiduals',\n",
       " 'setAllStatesNonNegative',\n",
       " 'setAlwaysCheckFinite',\n",
       " 'setFixedParameterById',\n",
       " 'setFixedParameterByName',\n",
       " 'setFixedParameters',\n",
       " 'setFixedParametersByIdRegex',\n",
       " 'setFixedParametersByNameRegex',\n",
       " 'setInitialStateSensitivities',\n",
       " 'setInitialStates',\n",
       " 'setMinimumSigmaResiduals',\n",
       " 'setNMaxEvent',\n",
       " 'setParameterById',\n",
       " 'setParameterByName',\n",
       " 'setParameterList',\n",
       " 'setParameterScale',\n",
       " 'setParameters',\n",
       " 'setParametersByIdRegex',\n",
       " 'setParametersByNameRegex',\n",
       " 'setReinitializationStateIdxs',\n",
       " 'setReinitializeFixedParameterInitialStates',\n",
       " 'setStateIsNonNegative',\n",
       " 'setSteadyStateComputationMode',\n",
       " 'setSteadyStateSensitivityMode',\n",
       " 'setT0',\n",
       " 'setTimepoints',\n",
       " 'setUnscaledInitialStateSensitivities',\n",
       " 'set_steadystate_mask',\n",
       " 'state_independent_events_',\n",
       " 'swap',\n",
       " 't0',\n",
       " 'this',\n",
       " 'thisown',\n",
       " 'ubw']"
      ]
     },
     "execution_count": 13,
     "metadata": {},
     "output_type": "execute_result"
    }
   ],
   "source": [
    "dir(model)"
   ]
  },
  {
   "cell_type": "code",
   "execution_count": 14,
   "id": "64aabc9ee6395a35",
   "metadata": {
    "ExecuteTime": {
     "end_time": "2024-05-02T01:19:55.020743Z",
     "start_time": "2024-05-02T01:19:55.010516Z"
    },
    "collapsed": false
   },
   "outputs": [
    {
     "data": {
      "text/plain": [
       "['plasminogen',\n",
       " 'plasmin',\n",
       " 'single intact chain urokinase-type plasminogen activator',\n",
       " 'two-chain urokinase-type plasminogen activator',\n",
       " 'x',\n",
       " 'x-plasmin']"
      ]
     },
     "execution_count": 14,
     "metadata": {},
     "output_type": "execute_result"
    }
   ],
   "source": [
    "floating_species_list = list(model.getStateNames())\n",
    "\n",
    "floating_species_list"
   ]
  },
  {
   "cell_type": "code",
   "execution_count": 18,
   "id": "7571b908a0bf4db5",
   "metadata": {
    "ExecuteTime": {
     "end_time": "2024-05-02T01:20:58.331518Z",
     "start_time": "2024-05-02T01:20:58.326947Z"
    },
    "collapsed": false
   },
   "outputs": [
    {
     "data": {
      "text/plain": [
       "('degradation constant 1',\n",
       " 'degradation constant 2',\n",
       " 'hill cooperativity',\n",
       " 'k1',\n",
       " 'parameter_8',\n",
       " 'k1',\n",
       " 'k2',\n",
       " 'k1',\n",
       " 'k1',\n",
       " 'v',\n",
       " 'v',\n",
       " 'v')"
      ]
     },
     "execution_count": 18,
     "metadata": {},
     "output_type": "execute_result"
    }
   ],
   "source": [
    "# get/set parameter:\n",
    "\n",
    "model.getParameterNames()"
   ]
  },
  {
   "cell_type": "code",
   "execution_count": 19,
   "id": "743dcd387e07c0e1",
   "metadata": {
    "ExecuteTime": {
     "end_time": "2024-05-02T01:21:14.199545Z",
     "start_time": "2024-05-02T01:21:14.188941Z"
    },
    "collapsed": false
   },
   "outputs": [],
   "source": [
    "# set timepoints\n",
    "model.setTimepoints([0, 1])"
   ]
  },
  {
   "cell_type": "code",
   "execution_count": 20,
   "id": "fbdfccafa5fb8bd8",
   "metadata": {
    "ExecuteTime": {
     "end_time": "2024-05-02T01:21:15.535366Z",
     "start_time": "2024-05-02T01:21:15.524897Z"
    },
    "collapsed": false
   },
   "outputs": [],
   "source": [
    "rdata = amici.runAmiciSimulation(model, method)"
   ]
  },
  {
   "cell_type": "code",
   "execution_count": 21,
   "id": "5643c0929dfe0fce",
   "metadata": {
    "ExecuteTime": {
     "end_time": "2024-05-02T01:21:16.263968Z",
     "start_time": "2024-05-02T01:21:16.257623Z"
    },
    "collapsed": false
   },
   "outputs": [
    {
     "data": {
      "text/plain": [
       "array([[1.00000000e-02, 0.00000000e+00, 2.00000000e-03, 0.00000000e+00,\n",
       "        0.00000000e+00, 0.00000000e+00],\n",
       "       [1.95249026e-02, 1.82020113e-06, 4.90814799e-03, 1.32035442e-13,\n",
       "        0.00000000e+00, 0.00000000e+00]])"
      ]
     },
     "execution_count": 21,
     "metadata": {},
     "output_type": "execute_result"
    }
   ],
   "source": [
    "rdata.x"
   ]
  },
  {
   "cell_type": "code",
   "execution_count": null,
   "id": "initial_id",
   "metadata": {
    "collapsed": true
   },
   "outputs": [],
   "source": [
    "model.getStateNames()"
   ]
  },
  {
   "cell_type": "code",
   "execution_count": 22,
   "id": "dcd503a59d39081",
   "metadata": {
    "ExecuteTime": {
     "end_time": "2024-05-02T01:24:10.217535Z",
     "start_time": "2024-05-02T01:24:10.208635Z"
    },
    "collapsed": false
   },
   "outputs": [
    {
     "data": {
      "text/plain": [
       "['__bool__',\n",
       " '__class__',\n",
       " '__deepcopy__',\n",
       " '__delattr__',\n",
       " '__deref__',\n",
       " '__dict__',\n",
       " '__dir__',\n",
       " '__doc__',\n",
       " '__eq__',\n",
       " '__format__',\n",
       " '__ge__',\n",
       " '__getattribute__',\n",
       " '__gt__',\n",
       " '__hash__',\n",
       " '__init__',\n",
       " '__init_subclass__',\n",
       " '__le__',\n",
       " '__lt__',\n",
       " '__module__',\n",
       " '__ne__',\n",
       " '__new__',\n",
       " '__nonzero__',\n",
       " '__reduce__',\n",
       " '__reduce_ex__',\n",
       " '__repr__',\n",
       " '__setattr__',\n",
       " '__sizeof__',\n",
       " '__str__',\n",
       " '__subclasshook__',\n",
       " '__swig_destroy__',\n",
       " '__weakref__',\n",
       " 'clone',\n",
       " 'computingASA',\n",
       " 'computingFSA',\n",
       " 'get',\n",
       " 'getAbsoluteTolerance',\n",
       " 'getAbsoluteToleranceB',\n",
       " 'getAbsoluteToleranceFSA',\n",
       " 'getAbsoluteToleranceQuadratures',\n",
       " 'getAbsoluteToleranceSteadyState',\n",
       " 'getAbsoluteToleranceSteadyStateSensi',\n",
       " 'getConstraints',\n",
       " 'getInternalSensitivityMethod',\n",
       " 'getInterpolationType',\n",
       " 'getLinearMultistepMethod',\n",
       " 'getLinearSolver',\n",
       " 'getMaxConvFails',\n",
       " 'getMaxNonlinIters',\n",
       " 'getMaxStepSize',\n",
       " 'getMaxSteps',\n",
       " 'getMaxStepsBackwardProblem',\n",
       " 'getMaxTime',\n",
       " 'getNewtonDampingFactorLowerBound',\n",
       " 'getNewtonDampingFactorMode',\n",
       " 'getNewtonMaxSteps',\n",
       " 'getNewtonStepSteadyStateCheck',\n",
       " 'getNonlinearSolverIteration',\n",
       " 'getRelativeTolerance',\n",
       " 'getRelativeToleranceB',\n",
       " 'getRelativeToleranceFSA',\n",
       " 'getRelativeToleranceQuadratures',\n",
       " 'getRelativeToleranceSteadyState',\n",
       " 'getRelativeToleranceSteadyStateSensi',\n",
       " 'getReturnDataReportingMode',\n",
       " 'getSensiSteadyStateCheck',\n",
       " 'getSensitivityMethod',\n",
       " 'getSensitivityMethodPreequilibration',\n",
       " 'getSensitivityOrder',\n",
       " 'getStabilityLimitFlag',\n",
       " 'getStateOrdering',\n",
       " 'getSteadyStateSensiToleranceFactor',\n",
       " 'getSteadyStateToleranceFactor',\n",
       " 'logger',\n",
       " 'nplist',\n",
       " 'nquad',\n",
       " 'nx',\n",
       " 'release',\n",
       " 'reset',\n",
       " 'setAbsoluteTolerance',\n",
       " 'setAbsoluteToleranceB',\n",
       " 'setAbsoluteToleranceFSA',\n",
       " 'setAbsoluteToleranceQuadratures',\n",
       " 'setAbsoluteToleranceSteadyState',\n",
       " 'setAbsoluteToleranceSteadyStateSensi',\n",
       " 'setConstraints',\n",
       " 'setInternalSensitivityMethod',\n",
       " 'setInterpolationType',\n",
       " 'setLinearMultistepMethod',\n",
       " 'setLinearSolver',\n",
       " 'setMaxConvFails',\n",
       " 'setMaxNonlinIters',\n",
       " 'setMaxStepSize',\n",
       " 'setMaxSteps',\n",
       " 'setMaxStepsBackwardProblem',\n",
       " 'setMaxTime',\n",
       " 'setNewtonDampingFactorLowerBound',\n",
       " 'setNewtonDampingFactorMode',\n",
       " 'setNewtonMaxSteps',\n",
       " 'setNewtonStepSteadyStateCheck',\n",
       " 'setNonlinearSolverIteration',\n",
       " 'setRelativeTolerance',\n",
       " 'setRelativeToleranceB',\n",
       " 'setRelativeToleranceFSA',\n",
       " 'setRelativeToleranceQuadratures',\n",
       " 'setRelativeToleranceSteadyState',\n",
       " 'setRelativeToleranceSteadyStateSensi',\n",
       " 'setReturnDataReportingMode',\n",
       " 'setSensiSteadyStateCheck',\n",
       " 'setSensitivityMethod',\n",
       " 'setSensitivityMethodPreequilibration',\n",
       " 'setSensitivityOrder',\n",
       " 'setStabilityLimitFlag',\n",
       " 'setStateOrdering',\n",
       " 'setSteadyStateSensiToleranceFactor',\n",
       " 'setSteadyStateToleranceFactor',\n",
       " 'swap',\n",
       " 'this',\n",
       " 'thisown']"
      ]
     },
     "execution_count": 22,
     "metadata": {},
     "output_type": "execute_result"
    }
   ],
   "source": [
    "dir(solver)"
   ]
  },
  {
   "cell_type": "code",
   "execution_count": 23,
   "id": "84d1596c8a58adaf",
   "metadata": {
    "ExecuteTime": {
     "end_time": "2024-05-02T01:24:59.001662Z",
     "start_time": "2024-05-02T01:24:58.981031Z"
    },
    "collapsed": false
   },
   "outputs": [
    {
     "data": {
      "text/plain": [
       "<Swig Object of type 'std::unique_ptr< amici::Solver > *' at 0x11df02a30\n",
       "  reporting_mode: <RDataReporting.full: 0>\n",
       "  sens_meth: <SensitivityMethod.forward: 1>\n",
       "  sens_order: <SensitivityOrder.none: 0>\n",
       "  sens_meth_preeq: <SensitivityMethod.forward: 1>\n",
       "  maxsteps: 10000\n",
       "  maxtime: 0.0s\n",
       "  abs_tol: 1e-16\n",
       "  rel_tol: 1e-08\n",
       "  abs_tol_b: 1e-16\n",
       "  rel_tol_b: 1e-08\n",
       "  abs_tol_fsa: 1e-16\n",
       "  rel_tol_fsa: 1e-08\n",
       "  abs_tol_quad: 1e-12\n",
       "  rel_tol_quad: 1e-08\n",
       "  abs_tol_ss: 1e-14\n",
       "  rel_tol_ss: 1e-06\n",
       "  abs_tol_sss: 1e-14\n",
       "  rel_tol_sss: 1e-06\n",
       "  int_sens_meth: <InternalSensitivityMethod.simultaneous: 1>\n",
       "  int_type: <InterpolationType.polynomial: 2>\n",
       "  linsol: <LinearSolver.KLU: 9>\n",
       "  lmm: <LinearMultistepMethod.BDF: 2>\n",
       "  newton_damp_mode: <NewtonDampingFactorMode.on: 1>\n",
       "  newton_damp_lb: 1e-08\n",
       "  newton_maxsteps: 0\n",
       "  newton_ss_check: False\n",
       "  sens_ss_check: True\n",
       "  interpolation_type: <InterpolationType.polynomial: 2>\n",
       "  ism: <InternalSensitivityMethod.simultaneous: 1>\n",
       "  nlsol_iter: <NonlinearSolverIteration.newton: 2>\n",
       "  stability_limit: True\n",
       "  state_ordering: 0\n",
       ">"
      ]
     },
     "execution_count": 23,
     "metadata": {},
     "output_type": "execute_result"
    }
   ],
   "source": [
    "solver"
   ]
  },
  {
   "cell_type": "code",
   "execution_count": null,
   "id": "c2d361e2c9dcd6d6",
   "metadata": {
    "collapsed": false
   },
   "outputs": [],
   "source": []
  }
 ],
 "metadata": {
  "kernelspec": {
   "display_name": "Python 3",
   "language": "python",
   "name": "python3"
  },
  "language_info": {
   "codemirror_mode": {
    "name": "ipython",
    "version": 2
   },
   "file_extension": ".py",
   "mimetype": "text/x-python",
   "name": "python",
   "nbconvert_exporter": "python",
   "pygments_lexer": "ipython2",
   "version": "2.7.6"
  }
 },
 "nbformat": 4,
 "nbformat_minor": 5
}
