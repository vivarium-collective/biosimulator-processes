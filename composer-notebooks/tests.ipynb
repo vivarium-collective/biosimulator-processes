{
 "cells": [
  {
   "cell_type": "code",
   "id": "initial_id",
   "metadata": {
    "collapsed": true,
    "ExecuteTime": {
     "end_time": "2024-05-13T21:02:38.898151Z",
     "start_time": "2024-05-13T21:02:38.818296Z"
    }
   },
   "source": [
    "import itertools\n",
    "import numpy as np \n",
    "\n",
    "\n",
    "aTol = 1e-6\n",
    "rTol = 1e-8\n",
    "\n",
    "a = np.random.random(100)\n",
    "b = np.random.random(100)\n",
    "c = np.random.random(100)\n",
    "\n",
    "process_names = ['process_a', 'process_b', 'process_c']\n",
    "\n",
    "process_outputs = dict(zip(process_names, [a, b, c]))\n",
    "\n",
    "\n",
    "data = {}\n",
    "data['process_outputs'] = process_outputs"
   ],
   "outputs": [],
   "execution_count": 2
  },
  {
   "metadata": {
    "ExecuteTime": {
     "end_time": "2024-05-13T21:02:38.995881Z",
     "start_time": "2024-05-13T21:02:38.987678Z"
    }
   },
   "cell_type": "code",
   "source": "data",
   "id": "cb687937cff4c0dd",
   "outputs": [
    {
     "data": {
      "text/plain": [
       "{'process_outputs': {'process_a': array([0.10263733, 0.28990097, 0.84029247, 0.52054352, 0.54170548,\n",
       "         0.66040059, 0.40482129, 0.58573091, 0.57247154, 0.5540217 ,\n",
       "         0.1045058 , 0.06808393, 0.21227008, 0.6625938 , 0.7317043 ,\n",
       "         0.25108319, 0.66693575, 0.0117975 , 0.37672264, 0.73755673,\n",
       "         0.31943913, 0.25613214, 0.86966255, 0.06047798, 0.72938767,\n",
       "         0.82621568, 0.4816332 , 0.16298335, 0.26227163, 0.0106206 ,\n",
       "         0.26025119, 0.99610861, 0.11815752, 0.70403219, 0.34442675,\n",
       "         0.07731441, 0.77605752, 0.04104495, 0.68960535, 0.53496358,\n",
       "         0.23436414, 0.29466105, 0.58817891, 0.46014224, 0.50085003,\n",
       "         0.04487148, 0.24537562, 0.4622635 , 0.35044219, 0.87640544,\n",
       "         0.1686131 , 0.68904292, 0.95686983, 0.38399075, 0.61606774,\n",
       "         0.68768859, 0.0365172 , 0.09691824, 0.66544252, 0.86720256,\n",
       "         0.87207648, 0.1694868 , 0.91127921, 0.67748909, 0.86710207,\n",
       "         0.21880281, 0.73239669, 0.86965182, 0.01778631, 0.07932811,\n",
       "         0.88445811, 0.37629567, 0.60237895, 0.18196841, 0.62459158,\n",
       "         0.31508248, 0.41205852, 0.31095194, 0.85009913, 0.0241039 ,\n",
       "         0.85730261, 0.49424097, 0.3675099 , 0.89734605, 0.80092495,\n",
       "         0.01909948, 0.23898195, 0.22482775, 0.93947628, 0.9296662 ,\n",
       "         0.11648982, 0.54360707, 0.16940977, 0.28737495, 0.53788048,\n",
       "         0.16035296, 0.7155401 , 0.54119963, 0.34248273, 0.79514912]),\n",
       "  'process_b': array([0.05455293, 0.18202222, 0.90915075, 0.7335177 , 0.33350483,\n",
       "         0.19742761, 0.74162579, 0.99433212, 0.23471509, 0.8930542 ,\n",
       "         0.06199681, 0.82330878, 0.49739504, 0.67244715, 0.68213827,\n",
       "         0.99386316, 0.22656739, 0.6787214 , 0.08401988, 0.42353772,\n",
       "         0.81222506, 0.92208141, 0.31987208, 0.80367261, 0.97342932,\n",
       "         0.99995664, 0.58560044, 0.75476798, 0.69499892, 0.54826532,\n",
       "         0.91058956, 0.19785153, 0.99937743, 0.81670475, 0.66713422,\n",
       "         0.55478402, 0.05754707, 0.70647621, 0.72369004, 0.44117791,\n",
       "         0.32515235, 0.65596396, 0.10116534, 0.83273693, 0.80902634,\n",
       "         0.51396514, 0.30814983, 0.0166667 , 0.75402321, 0.52869129,\n",
       "         0.91532938, 0.04916107, 0.13196646, 0.91573935, 0.19329077,\n",
       "         0.31808148, 0.705314  , 0.60131496, 0.51172939, 0.32698344,\n",
       "         0.81751732, 0.0595205 , 0.7096432 , 0.27813879, 0.10821326,\n",
       "         0.4087341 , 0.67723254, 0.37480196, 0.23121997, 0.4877765 ,\n",
       "         0.77896576, 0.84964672, 0.51661748, 0.99155868, 0.76220109,\n",
       "         0.6684797 , 0.2325657 , 0.19277548, 0.42874492, 0.75993235,\n",
       "         0.43123766, 0.89453427, 0.69433907, 0.4103763 , 0.58897703,\n",
       "         0.36905083, 0.30096102, 0.98236311, 0.37403328, 0.61230627,\n",
       "         0.18731852, 0.70540677, 0.5039876 , 0.89356885, 0.97181949,\n",
       "         0.12389286, 0.32061175, 0.44580317, 0.95980713, 0.04793775]),\n",
       "  'process_c': array([0.75432718, 0.83478029, 0.4147649 , 0.10903947, 0.35401662,\n",
       "         0.47078772, 0.71345859, 0.20209956, 0.87627785, 0.76995427,\n",
       "         0.98442209, 0.60913049, 0.67505822, 0.93002432, 0.21876707,\n",
       "         0.72288004, 0.50241331, 0.50378059, 0.88534736, 0.34375794,\n",
       "         0.95205547, 0.1364603 , 0.60623839, 0.04800076, 0.12368546,\n",
       "         0.01971544, 0.0103958 , 0.68314272, 0.39368804, 0.51287612,\n",
       "         0.99572999, 0.15102073, 0.72824274, 0.73631943, 0.75051297,\n",
       "         0.66929989, 0.775662  , 0.99125254, 0.06629623, 0.68702812,\n",
       "         0.17297727, 0.5042875 , 0.78085631, 0.68596227, 0.58305175,\n",
       "         0.2597798 , 0.15714952, 0.04047162, 0.88714314, 0.78034452,\n",
       "         0.83689351, 0.54944596, 0.15360718, 0.47676208, 0.75493674,\n",
       "         0.84555686, 0.93567247, 0.75472936, 0.19420238, 0.93831537,\n",
       "         0.85167278, 0.24808467, 0.70419825, 0.89414442, 0.91877255,\n",
       "         0.72191285, 0.20440236, 0.0163078 , 0.16435731, 0.20881104,\n",
       "         0.9468445 , 0.86545806, 0.69326772, 0.97960114, 0.29070167,\n",
       "         0.82120248, 0.2166578 , 0.80760788, 0.43639996, 0.44955456,\n",
       "         0.01620844, 0.16817543, 0.50300121, 0.38873275, 0.96320451,\n",
       "         0.64460838, 0.97079045, 0.22764155, 0.94354135, 0.73748233,\n",
       "         0.40885167, 0.86657465, 0.95150646, 0.08312745, 0.25823418,\n",
       "         0.83808205, 0.5126701 , 0.38194718, 0.61274955, 0.07336822])}}"
      ]
     },
     "execution_count": 3,
     "metadata": {},
     "output_type": "execute_result"
    }
   ],
   "execution_count": 3
  },
  {
   "metadata": {
    "ExecuteTime": {
     "end_time": "2024-05-13T21:02:39.135699Z",
     "start_time": "2024-05-13T21:02:39.133660Z"
    }
   },
   "cell_type": "code",
   "source": [
    "def generate_pairwise_mapping(results: dict, rTol: float, aTol: float):\n",
    "    \"\"\"\n",
    "        1. Take in results mapping of: {simulatorName: {outputNameForSimulatorName: value}}\n",
    "        2. generate cartesian product of mappings for a given parameter (outputNameForSimulatorName)\n",
    "        3. generate an allclose score based on that mapping.\n",
    "        \n",
    "    \n",
    "    \"\"\"\n",
    "    pass"
   ],
   "id": "6c7bb2899830d818",
   "outputs": [],
   "execution_count": 4
  },
  {
   "metadata": {
    "ExecuteTime": {
     "end_time": "2024-05-13T21:02:39.305366Z",
     "start_time": "2024-05-13T21:02:39.302816Z"
    }
   },
   "cell_type": "code",
   "source": [
    "somelists = [\n",
    "   [1, 2, 3],\n",
    "   ['a', 'b'],\n",
    "   [4, 5]\n",
    "]\n",
    "for element in itertools.product(*somelists):\n",
    "    print(element)"
   ],
   "id": "7c717eafb0a6d919",
   "outputs": [
    {
     "name": "stdout",
     "output_type": "stream",
     "text": [
      "(1, 'a', 4)\n",
      "(1, 'a', 5)\n",
      "(1, 'b', 4)\n",
      "(1, 'b', 5)\n",
      "(2, 'a', 4)\n",
      "(2, 'a', 5)\n",
      "(2, 'b', 4)\n",
      "(2, 'b', 5)\n",
      "(3, 'a', 4)\n",
      "(3, 'a', 5)\n",
      "(3, 'b', 4)\n",
      "(3, 'b', 5)\n"
     ]
    }
   ],
   "execution_count": 5
  },
  {
   "metadata": {
    "ExecuteTime": {
     "end_time": "2024-05-13T21:19:10.349879Z",
     "start_time": "2024-05-13T21:19:10.347102Z"
    }
   },
   "cell_type": "code",
   "source": "results_data = {'sim_a': np.array([0.20, 0.30]), 'sim_b': np.array([0.43, 0.21]), 'sim_c': np.array([2.3, 0.34])}\n",
   "id": "efb17dd215b11b40",
   "outputs": [],
   "execution_count": 20
  },
  {
   "metadata": {
    "ExecuteTime": {
     "end_time": "2024-05-13T21:27:32.448609Z",
     "start_time": "2024-05-13T21:27:32.442161Z"
    }
   },
   "cell_type": "code",
   "source": [
    "prods = {}\n",
    "\n",
    "outputs = np.stack([value for value in results_data.values()])\n",
    "\n",
    "outputs\n",
    "\n",
    "param_names = ['x', 'y']\n",
    "\n",
    "import pandas as pd \n",
    "\n",
    "param_outputs = pd.DataFrame(outputs, columns=param_names, index=list(results_data.keys()))\n",
    "\n",
    "param_outputs"
   ],
   "id": "d74c83f75f844104",
   "outputs": [
    {
     "data": {
      "text/plain": [
       "          x     y\n",
       "sim_a  0.20  0.30\n",
       "sim_b  0.43  0.21\n",
       "sim_c  2.30  0.34"
      ],
      "text/html": [
       "<div>\n",
       "<style scoped>\n",
       "    .dataframe tbody tr th:only-of-type {\n",
       "        vertical-align: middle;\n",
       "    }\n",
       "\n",
       "    .dataframe tbody tr th {\n",
       "        vertical-align: top;\n",
       "    }\n",
       "\n",
       "    .dataframe thead th {\n",
       "        text-align: right;\n",
       "    }\n",
       "</style>\n",
       "<table border=\"1\" class=\"dataframe\">\n",
       "  <thead>\n",
       "    <tr style=\"text-align: right;\">\n",
       "      <th></th>\n",
       "      <th>x</th>\n",
       "      <th>y</th>\n",
       "    </tr>\n",
       "  </thead>\n",
       "  <tbody>\n",
       "    <tr>\n",
       "      <th>sim_a</th>\n",
       "      <td>0.20</td>\n",
       "      <td>0.30</td>\n",
       "    </tr>\n",
       "    <tr>\n",
       "      <th>sim_b</th>\n",
       "      <td>0.43</td>\n",
       "      <td>0.21</td>\n",
       "    </tr>\n",
       "    <tr>\n",
       "      <th>sim_c</th>\n",
       "      <td>2.30</td>\n",
       "      <td>0.34</td>\n",
       "    </tr>\n",
       "  </tbody>\n",
       "</table>\n",
       "</div>"
      ]
     },
     "execution_count": 33,
     "metadata": {},
     "output_type": "execute_result"
    }
   ],
   "execution_count": 33
  },
  {
   "metadata": {
    "ExecuteTime": {
     "end_time": "2024-05-13T21:28:00.354363Z",
     "start_time": "2024-05-13T21:28:00.349166Z"
    }
   },
   "cell_type": "code",
   "source": [
    "col_vectors = np.stack(outputs, axis=1)\n",
    "\n",
    "col_vectors\n",
    "\n",
    "feature_names = ['sim_a', 'sim_b', 'sim_c']\n",
    "\n",
    "import pandas as pd \n",
    "\n",
    "\n",
    "feature_vals = pd.DataFrame(col_vectors, columns=feature_names, index=param_names)\n",
    "\n",
    "feature_vals"
   ],
   "id": "b51cb2ccb94c925e",
   "outputs": [
    {
     "data": {
      "text/plain": [
       "   sim_a  sim_b  sim_c\n",
       "x    0.2   0.43   2.30\n",
       "y    0.3   0.21   0.34"
      ],
      "text/html": [
       "<div>\n",
       "<style scoped>\n",
       "    .dataframe tbody tr th:only-of-type {\n",
       "        vertical-align: middle;\n",
       "    }\n",
       "\n",
       "    .dataframe tbody tr th {\n",
       "        vertical-align: top;\n",
       "    }\n",
       "\n",
       "    .dataframe thead th {\n",
       "        text-align: right;\n",
       "    }\n",
       "</style>\n",
       "<table border=\"1\" class=\"dataframe\">\n",
       "  <thead>\n",
       "    <tr style=\"text-align: right;\">\n",
       "      <th></th>\n",
       "      <th>sim_a</th>\n",
       "      <th>sim_b</th>\n",
       "      <th>sim_c</th>\n",
       "    </tr>\n",
       "  </thead>\n",
       "  <tbody>\n",
       "    <tr>\n",
       "      <th>x</th>\n",
       "      <td>0.2</td>\n",
       "      <td>0.43</td>\n",
       "      <td>2.30</td>\n",
       "    </tr>\n",
       "    <tr>\n",
       "      <th>y</th>\n",
       "      <td>0.3</td>\n",
       "      <td>0.21</td>\n",
       "      <td>0.34</td>\n",
       "    </tr>\n",
       "  </tbody>\n",
       "</table>\n",
       "</div>"
      ]
     },
     "execution_count": 35,
     "metadata": {},
     "output_type": "execute_result"
    }
   ],
   "execution_count": 35
  },
  {
   "metadata": {
    "ExecuteTime": {
     "end_time": "2024-05-13T21:10:45.013284Z",
     "start_time": "2024-05-13T21:10:45.009944Z"
    }
   },
   "cell_type": "code",
   "source": [
    "names = list(x.keys())\n",
    "vals = list(x.values())"
   ],
   "id": "f49a1b5117217d01",
   "outputs": [],
   "execution_count": 12
  },
  {
   "metadata": {
    "ExecuteTime": {
     "end_time": "2024-05-13T21:10:45.157237Z",
     "start_time": "2024-05-13T21:10:45.154505Z"
    }
   },
   "cell_type": "code",
   "source": [
    "names_product = itertools.product(*names)\n",
    "\n",
    "for el in names_product:\n",
    "    print(el)"
   ],
   "id": "645b85a1c8592be",
   "outputs": [
    {
     "name": "stdout",
     "output_type": "stream",
     "text": [
      "('a', 'b', 'c')\n"
     ]
    }
   ],
   "execution_count": 13
  },
  {
   "metadata": {
    "ExecuteTime": {
     "end_time": "2024-05-13T21:13:03.164130Z",
     "start_time": "2024-05-13T21:13:03.160288Z"
    }
   },
   "cell_type": "code",
   "source": [
    "def generate_binary_combinations(elements):\n",
    "    \"\"\"\n",
    "    Generate all possible binary combinations for a given tuple of elements,\n",
    "    representing each combination as a tuple of present elements.\n",
    "\n",
    "    Parameters:\n",
    "    elements (tuple): The tuple of elements.\n",
    "\n",
    "    Returns:\n",
    "    list of tuples: All possible combinations of elements, represented as tuples.\n",
    "    \"\"\"\n",
    "    # Get the length of the elements tuple\n",
    "    n = len(elements)\n",
    "    # Use itertools.product to generate binary combinations\n",
    "    binary_combinations = itertools.product([0, 1], repeat=n)\n",
    "    # Convert binary combinations to tuple of present elements\n",
    "    result = []\n",
    "    for combination in binary_combinations:\n",
    "        # Include elements in the tuple if the corresponding binary flag is 1\n",
    "        included_elements = tuple(elem for elem, flag in zip(elements, combination) if flag == 1)\n",
    "        result.append(included_elements)\n",
    "    \n",
    "    return result\n",
    "\n",
    "# Example usage\n",
    "elements = ('a', 'b', 'c')\n",
    "combinations = generate_binary_combinations(elements)\n",
    "print(\"All possible combinations of elements:\")\n",
    "for combo in combinations:\n",
    "    print(combo)"
   ],
   "id": "3c21aba2eac3298",
   "outputs": [
    {
     "name": "stdout",
     "output_type": "stream",
     "text": [
      "All possible combinations of elements:\n",
      "()\n",
      "('c',)\n",
      "('b',)\n",
      "('b', 'c')\n",
      "('a',)\n",
      "('a', 'c')\n",
      "('a', 'b')\n",
      "('a', 'b', 'c')\n"
     ]
    }
   ],
   "execution_count": 14
  },
  {
   "metadata": {},
   "cell_type": "code",
   "outputs": [],
   "execution_count": null,
   "source": "",
   "id": "1628409e45c78943"
  }
 ],
 "metadata": {
  "kernelspec": {
   "display_name": "Python 3",
   "language": "python",
   "name": "python3"
  },
  "language_info": {
   "codemirror_mode": {
    "name": "ipython",
    "version": 2
   },
   "file_extension": ".py",
   "mimetype": "text/x-python",
   "name": "python",
   "nbconvert_exporter": "python",
   "pygments_lexer": "ipython2",
   "version": "2.7.6"
  }
 },
 "nbformat": 4,
 "nbformat_minor": 5
}
