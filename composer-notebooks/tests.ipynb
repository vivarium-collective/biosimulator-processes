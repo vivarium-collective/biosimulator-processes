{
 "cells": [
  {
   "cell_type": "code",
   "id": "initial_id",
   "metadata": {
    "collapsed": true,
    "ExecuteTime": {
     "end_time": "2024-05-13T21:02:38.898151Z",
     "start_time": "2024-05-13T21:02:38.818296Z"
    }
   },
   "source": [
    "import itertools\n",
    "import numpy as np \n",
    "\n",
    "\n",
    "aTol = 1e-6\n",
    "rTol = 1e-8\n",
    "\n",
    "a = np.random.random(100)\n",
    "b = np.random.random(100)\n",
    "c = np.random.random(100)\n",
    "\n",
    "process_names = ['process_a', 'process_b', 'process_c']\n",
    "\n",
    "process_outputs = dict(zip(process_names, [a, b, c]))\n",
    "\n",
    "\n",
    "data = {}\n",
    "data['process_outputs'] = process_outputs"
   ],
   "execution_count": 2,
   "outputs": []
  },
  {
   "metadata": {
    "ExecuteTime": {
     "end_time": "2024-05-13T21:02:38.995881Z",
     "start_time": "2024-05-13T21:02:38.987678Z"
    }
   },
   "cell_type": "code",
   "source": "data",
   "id": "cb687937cff4c0dd",
   "execution_count": 3,
   "outputs": []
  },
  {
   "metadata": {
    "ExecuteTime": {
     "end_time": "2024-05-13T21:02:39.135699Z",
     "start_time": "2024-05-13T21:02:39.133660Z"
    }
   },
   "cell_type": "code",
   "source": [
    "def generate_pairwise_mapping(results: dict, rTol: float, aTol: float):\n",
    "    \"\"\"\n",
    "        1. Take in results mapping of: {simulatorName: {outputNameForSimulatorName: value}}\n",
    "        2. generate cartesian product of mappings for a given parameter (outputNameForSimulatorName)\n",
    "        3. generate an allclose score based on that mapping.\n",
    "        \n",
    "    \n",
    "    \"\"\"\n",
    "    pass"
   ],
   "id": "6c7bb2899830d818",
   "execution_count": 4,
   "outputs": []
  },
  {
   "metadata": {
    "ExecuteTime": {
     "end_time": "2024-05-13T21:02:39.305366Z",
     "start_time": "2024-05-13T21:02:39.302816Z"
    }
   },
   "cell_type": "code",
   "source": [
    "somelists = [\n",
    "   [1, 2, 3],\n",
    "   ['a', 'b'],\n",
    "   [4, 5]\n",
    "]\n",
    "for element in itertools.product(*somelists):\n",
    "    print(element)"
   ],
   "id": "7c717eafb0a6d919",
   "execution_count": 5,
   "outputs": []
  },
  {
   "metadata": {
    "ExecuteTime": {
     "end_time": "2024-05-13T21:19:10.349879Z",
     "start_time": "2024-05-13T21:19:10.347102Z"
    }
   },
   "cell_type": "code",
   "source": "results_data = {'sim_a': np.array([0.20, 0.30]), 'sim_b': np.array([0.43, 0.21]), 'sim_c': np.array([2.3, 0.34])}\n",
   "id": "efb17dd215b11b40",
   "execution_count": 20,
   "outputs": []
  },
  {
   "metadata": {
    "ExecuteTime": {
     "end_time": "2024-05-13T21:27:32.448609Z",
     "start_time": "2024-05-13T21:27:32.442161Z"
    }
   },
   "cell_type": "code",
   "source": [
    "prods = {}\n",
    "\n",
    "outputs = np.stack([value for value in results_data.values()])\n",
    "\n",
    "outputs\n",
    "\n",
    "param_names = ['x', 'y']\n",
    "\n",
    "import pandas as pd \n",
    "\n",
    "param_outputs = pd.DataFrame(outputs, columns=param_names, index=list(results_data.keys()))\n",
    "\n",
    "param_outputs"
   ],
   "id": "d74c83f75f844104",
   "execution_count": 33,
   "outputs": []
  },
  {
   "metadata": {
    "ExecuteTime": {
     "end_time": "2024-05-13T21:28:00.354363Z",
     "start_time": "2024-05-13T21:28:00.349166Z"
    }
   },
   "cell_type": "code",
   "source": [
    "col_vectors = np.stack(outputs, axis=1)\n",
    "\n",
    "col_vectors\n",
    "\n",
    "feature_names = ['sim_a', 'sim_b', 'sim_c']\n",
    "\n",
    "import pandas as pd \n",
    "\n",
    "\n",
    "feature_vals = pd.DataFrame(col_vectors, columns=feature_names, index=param_names)\n",
    "\n",
    "feature_vals"
   ],
   "id": "b51cb2ccb94c925e",
   "execution_count": 35,
   "outputs": []
  },
  {
   "metadata": {
    "ExecuteTime": {
     "end_time": "2024-05-13T21:10:45.013284Z",
     "start_time": "2024-05-13T21:10:45.009944Z"
    }
   },
   "cell_type": "code",
   "source": [
    "names = list(x.keys())\n",
    "vals = list(x.values())"
   ],
   "id": "f49a1b5117217d01",
   "execution_count": 12,
   "outputs": []
  },
  {
   "metadata": {
    "ExecuteTime": {
     "end_time": "2024-05-13T21:10:45.157237Z",
     "start_time": "2024-05-13T21:10:45.154505Z"
    }
   },
   "cell_type": "code",
   "source": [
    "names_product = itertools.product(*names)\n",
    "\n",
    "for el in names_product:\n",
    "    print(el)"
   ],
   "id": "645b85a1c8592be",
   "execution_count": 13,
   "outputs": []
  },
  {
   "metadata": {
    "ExecuteTime": {
     "end_time": "2024-05-13T21:13:03.164130Z",
     "start_time": "2024-05-13T21:13:03.160288Z"
    }
   },
   "cell_type": "code",
   "source": [
    "def generate_binary_combinations(elements):\n",
    "    \"\"\"\n",
    "    Generate all possible binary combinations for a given tuple of elements,\n",
    "    representing each combination as a tuple of present elements.\n",
    "\n",
    "    Parameters:\n",
    "    elements (tuple): The tuple of elements.\n",
    "\n",
    "    Returns:\n",
    "    list of tuples: All possible combinations of elements, represented as tuples.\n",
    "    \"\"\"\n",
    "    # Get the length of the elements tuple\n",
    "    n = len(elements)\n",
    "    # Use itertools.product to generate binary combinations\n",
    "    binary_combinations = itertools.product([0, 1], repeat=n)\n",
    "    # Convert binary combinations to tuple of present elements\n",
    "    result = []\n",
    "    for combination in binary_combinations:\n",
    "        # Include elements in the tuple if the corresponding binary flag is 1\n",
    "        included_elements = tuple(elem for elem, flag in zip(elements, combination) if flag == 1)\n",
    "        result.append(included_elements)\n",
    "    \n",
    "    return result\n",
    "\n",
    "# Example usage\n",
    "elements = ('a', 'b', 'c')\n",
    "combinations = generate_binary_combinations(elements)\n",
    "print(\"All possible combinations of elements:\")\n",
    "for combo in combinations:\n",
    "    print(combo)"
   ],
   "id": "3c21aba2eac3298",
   "execution_count": 14,
   "outputs": []
  },
  {
   "metadata": {},
   "cell_type": "code",
   "execution_count": null,
   "source": "",
   "id": "1628409e45c78943",
   "outputs": []
  }
 ],
 "metadata": {
  "kernelspec": {
   "display_name": "Python 3",
   "language": "python",
   "name": "python3"
  },
  "language_info": {
   "codemirror_mode": {
    "name": "ipython",
    "version": 2
   },
   "file_extension": ".py",
   "mimetype": "text/x-python",
   "name": "python",
   "nbconvert_exporter": "python",
   "pygments_lexer": "ipython2",
   "version": "2.7.6"
  }
 },
 "nbformat": 4,
 "nbformat_minor": 5
}
