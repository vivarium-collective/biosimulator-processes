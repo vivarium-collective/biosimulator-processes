{
 "cells": [
  {
   "cell_type": "code",
   "execution_count": 2,
   "id": "initial_id",
   "metadata": {
    "ExecuteTime": {
     "end_time": "2024-05-13T21:02:38.898151Z",
     "start_time": "2024-05-13T21:02:38.818296Z"
    },
    "collapsed": true
   },
   "outputs": [],
   "source": [
    "import itertools\n",
    "import numpy as np \n",
    "\n",
    "\n",
    "aTol = 1e-6\n",
    "rTol = 1e-8\n",
    "\n",
    "a = np.random.random(100)\n",
    "b = np.random.random(100)\n",
    "c = np.random.random(100)\n",
    "\n",
    "process_names = ['process_a', 'process_b', 'process_c']\n",
    "\n",
    "process_outputs = dict(zip(process_names, [a, b, c]))\n",
    "\n",
    "\n",
    "data = {}\n",
    "data['process_outputs'] = process_outputs"
   ]
  },
  {
   "cell_type": "code",
   "execution_count": 3,
   "id": "cb687937cff4c0dd",
   "metadata": {
    "ExecuteTime": {
     "end_time": "2024-05-13T21:02:38.995881Z",
     "start_time": "2024-05-13T21:02:38.987678Z"
    }
   },
   "outputs": [],
   "source": [
    "data"
   ]
  },
  {
   "cell_type": "code",
   "execution_count": 4,
   "id": "6c7bb2899830d818",
   "metadata": {
    "ExecuteTime": {
     "end_time": "2024-05-13T21:02:39.135699Z",
     "start_time": "2024-05-13T21:02:39.133660Z"
    }
   },
   "outputs": [],
   "source": [
    "def generate_pairwise_mapping(results: dict, rTol: float, aTol: float):\n",
    "    \"\"\"\n",
    "        1. Take in results mapping of: {simulatorName: {outputNameForSimulatorName: value}}\n",
    "        2. generate cartesian product of mappings for a given parameter (outputNameForSimulatorName)\n",
    "        3. generate an allclose score based on that mapping.\n",
    "        \n",
    "    \n",
    "    \"\"\"\n",
    "    pass"
   ]
  },
  {
   "cell_type": "code",
   "execution_count": 5,
   "id": "7c717eafb0a6d919",
   "metadata": {
    "ExecuteTime": {
     "end_time": "2024-05-13T21:02:39.305366Z",
     "start_time": "2024-05-13T21:02:39.302816Z"
    }
   },
   "outputs": [],
   "source": [
    "somelists = [\n",
    "   [1, 2, 3],\n",
    "   ['a', 'b'],\n",
    "   [4, 5]\n",
    "]\n",
    "for element in itertools.product(*somelists):\n",
    "    print(element)"
   ]
  },
  {
   "cell_type": "code",
   "execution_count": 20,
   "id": "efb17dd215b11b40",
   "metadata": {
    "ExecuteTime": {
     "end_time": "2024-05-13T21:19:10.349879Z",
     "start_time": "2024-05-13T21:19:10.347102Z"
    }
   },
   "outputs": [],
   "source": [
    "results_data = {'sim_a': np.array([0.20, 0.30]), 'sim_b': np.array([0.43, 0.21]), 'sim_c': np.array([2.3, 0.34])}\n"
   ]
  },
  {
   "cell_type": "code",
   "execution_count": 33,
   "id": "d74c83f75f844104",
   "metadata": {
    "ExecuteTime": {
     "end_time": "2024-05-13T21:27:32.448609Z",
     "start_time": "2024-05-13T21:27:32.442161Z"
    }
   },
   "outputs": [],
   "source": [
    "prods = {}\n",
    "\n",
    "outputs = np.stack([value for value in results_data.values()])\n",
    "\n",
    "outputs\n",
    "\n",
    "param_names = ['x', 'y']\n",
    "\n",
    "import pandas as pd \n",
    "\n",
    "param_outputs = pd.DataFrame(outputs, columns=param_names, index=list(results_data.keys()))\n",
    "\n",
    "param_outputs"
   ]
  },
  {
   "cell_type": "code",
   "execution_count": 35,
   "id": "b51cb2ccb94c925e",
   "metadata": {
    "ExecuteTime": {
     "end_time": "2024-05-13T21:28:00.354363Z",
     "start_time": "2024-05-13T21:28:00.349166Z"
    }
   },
   "outputs": [],
   "source": [
    "col_vectors = np.stack(outputs, axis=1)\n",
    "\n",
    "col_vectors\n",
    "\n",
    "feature_names = ['sim_a', 'sim_b', 'sim_c']\n",
    "\n",
    "import pandas as pd \n",
    "\n",
    "\n",
    "feature_vals = pd.DataFrame(col_vectors, columns=feature_names, index=param_names)\n",
    "\n",
    "feature_vals"
   ]
  },
  {
   "cell_type": "code",
   "execution_count": 12,
   "id": "f49a1b5117217d01",
   "metadata": {
    "ExecuteTime": {
     "end_time": "2024-05-13T21:10:45.013284Z",
     "start_time": "2024-05-13T21:10:45.009944Z"
    }
   },
   "outputs": [],
   "source": [
    "names = list(x.keys())\n",
    "vals = list(x.values())"
   ]
  },
  {
   "cell_type": "code",
   "execution_count": 13,
   "id": "645b85a1c8592be",
   "metadata": {
    "ExecuteTime": {
     "end_time": "2024-05-13T21:10:45.157237Z",
     "start_time": "2024-05-13T21:10:45.154505Z"
    }
   },
   "outputs": [],
   "source": [
    "names_product = itertools.product(*names)\n",
    "\n",
    "for el in names_product:\n",
    "    print(el)"
   ]
  },
  {
   "cell_type": "code",
   "execution_count": 14,
   "id": "3c21aba2eac3298",
   "metadata": {
    "ExecuteTime": {
     "end_time": "2024-05-13T21:13:03.164130Z",
     "start_time": "2024-05-13T21:13:03.160288Z"
    }
   },
   "outputs": [],
   "source": [
    "def generate_binary_combinations(elements):\n",
    "    \"\"\"\n",
    "    Generate all possible binary combinations for a given tuple of elements,\n",
    "    representing each combination as a tuple of present elements.\n",
    "\n",
    "    Parameters:\n",
    "    elements (tuple): The tuple of elements.\n",
    "\n",
    "    Returns:\n",
    "    list of tuples: All possible combinations of elements, represented as tuples.\n",
    "    \"\"\"\n",
    "    # Get the length of the elements tuple\n",
    "    n = len(elements)\n",
    "    # Use itertools.product to generate binary combinations\n",
    "    binary_combinations = itertools.product([0, 1], repeat=n)\n",
    "    # Convert binary combinations to tuple of present elements\n",
    "    result = []\n",
    "    for combination in binary_combinations:\n",
    "        # Include elements in the tuple if the corresponding binary flag is 1\n",
    "        included_elements = tuple(elem for elem, flag in zip(elements, combination) if flag == 1)\n",
    "        result.append(included_elements)\n",
    "    \n",
    "    return result\n",
    "\n",
    "# Example usage\n",
    "elements = ('a', 'b', 'c')\n",
    "combinations = generate_binary_combinations(elements)\n",
    "print(\"All possible combinations of elements:\")\n",
    "for combo in combinations:\n",
    "    print(combo)"
   ]
  },
  {
   "cell_type": "code",
   "execution_count": null,
   "id": "1628409e45c78943",
   "metadata": {},
   "outputs": [],
   "source": []
  }
 ],
 "metadata": {
  "kernelspec": {
   "display_name": "Python 3",
   "language": "python",
   "name": "python3"
  },
  "language_info": {
   "codemirror_mode": {
    "name": "ipython",
    "version": 2
   },
   "file_extension": ".py",
   "mimetype": "text/x-python",
   "name": "python",
   "nbconvert_exporter": "python",
   "pygments_lexer": "ipython2",
   "version": "2.7.6"
  }
 },
 "nbformat": 4,
 "nbformat_minor": 5
}
